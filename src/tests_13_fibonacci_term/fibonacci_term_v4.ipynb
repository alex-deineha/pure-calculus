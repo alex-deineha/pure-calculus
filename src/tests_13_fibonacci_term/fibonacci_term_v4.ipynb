{
 "cells": [
  {
   "cell_type": "code",
   "execution_count": 1,
   "metadata": {
    "collapsed": true,
    "ExecuteTime": {
     "start_time": "2023-05-31T19:33:40.886591Z",
     "end_time": "2023-05-31T19:33:41.062916Z"
    }
   },
   "outputs": [],
   "source": [
    "import sys\n",
    "from tqdm import tqdm\n",
    "\n",
    "sys.path.append(\"../\")\n",
    "from calculus_path_mod.term_engine import *\n",
    "from calculus_path_mod.reduction_strategy import *\n",
    "from calculus_path_mod.terms import num_comparison, nat_numbers, arithm_ops, combinators, pairs, logic\n",
    "\n",
    "from calculus_path_mod.terms.pseudonym import *"
   ]
  },
  {
   "cell_type": "markdown",
   "source": [
    "# Define Fibonacci term\n"
   ],
   "metadata": {
    "collapsed": false
   }
  },
  {
   "cell_type": "code",
   "execution_count": 2,
   "outputs": [],
   "source": [
    "def fib_term():\n",
    "    # # FIB = (λf. (λpp. (\n",
    "    #   IF (ISZERO (FIRST pp)) (FIRST (SECOND pp)) (\n",
    "    #       f (PAIR (PRED (FIRST pp)) (PAIR (SECOND (SECOND pp)) (PLUS (FIRST (SECOND pp)) (SECOND (SECOND pp))))\n",
    "    #) ) ))\n",
    "\n",
    "    f, pp = Var(), Var()\n",
    "    f_, pp_ = Atom(f), Atom(pp)\n",
    "\n",
    "    first_inner_app = App(arithm_ops.pred_term(), App(pairs.first_term(), pp_))\n",
    "    second_inner_app = multi_app_term(pairs.pair_term(),\n",
    "                                      App(pairs.second_term(), App(pairs.second_term(), pp_)),\n",
    "                                      multi_app_term(arithm_ops.plus_term(),\n",
    "                                                     App(pairs.first_term(), App(pairs.second_term(), pp_)),\n",
    "                                                     App(pairs.second_term(), App(pairs.second_term(), pp_)),))\n",
    "    inner_app = multi_app_term(pairs.pair_term(), first_inner_app, second_inner_app)\n",
    "    inner_app = App(f_, inner_app)\n",
    "    cond_term = multi_app_term(logic.ite_term(),\n",
    "                               App(num_comparison.iszero_term(), App(pairs.first_term(), pp_)),\n",
    "                               App(pairs.first_term(), App(pairs.second_term(), pp_)),\n",
    "                               inner_app)\n",
    "    return App(combinators.y_term(), Lambda(f, Lambda(pp, cond_term)))"
   ],
   "metadata": {
    "collapsed": false,
    "ExecuteTime": {
     "start_time": "2023-05-31T19:33:41.061204Z",
     "end_time": "2023-05-31T19:33:41.069821Z"
    }
   }
  },
  {
   "cell_type": "code",
   "execution_count": 3,
   "outputs": [],
   "source": [
    "strategy_lo = LOStrategy()\n",
    "strategy_li = LIStrategy()\n",
    "strategy_ri = RIStrategy()\n",
    "\n",
    "def test_term(strategy_name, idx):\n",
    "    strategy = None\n",
    "    if strategy_name == \"LO\":\n",
    "        strategy = strategy_lo\n",
    "    elif strategy_name == \"LI\":\n",
    "        strategy = strategy_li\n",
    "    elif strategy_name == \"RI\":\n",
    "        strategy = strategy_ri\n",
    "    if not strategy:\n",
    "        return\n",
    "    fib_idx = App(fib_term(), multi_app_term(pairs.pair_term(),\n",
    "                                             nat_numbers.num_term(idx),\n",
    "                                             multi_app_term(pairs.pair_term(), nat_numbers.num_term(0), nat_numbers.num_term(1))))\n",
    "    norm_term, steps = fib_idx.normalize(strategy, is_limited=False)\n",
    "    print(f\"{strategy_name}: {steps} {norm_term.funky_str()}\")"
   ],
   "metadata": {
    "collapsed": false,
    "ExecuteTime": {
     "start_time": "2023-05-31T19:33:43.135745Z",
     "end_time": "2023-05-31T19:33:43.148301Z"
    }
   }
  },
  {
   "cell_type": "code",
   "execution_count": 4,
   "outputs": [
    {
     "name": "stdout",
     "output_type": "stream",
     "text": [
      "LO: 30 (λx.(λy.y))\n"
     ]
    }
   ],
   "source": [
    "test_term(\"LO\", 0)"
   ],
   "metadata": {
    "collapsed": false,
    "ExecuteTime": {
     "start_time": "2023-05-31T19:33:43.964343Z",
     "end_time": "2023-05-31T19:33:44.073457Z"
    }
   }
  },
  {
   "cell_type": "code",
   "execution_count": 5,
   "outputs": [
    {
     "name": "stdout",
     "output_type": "stream",
     "text": [
      "LO: 82 (λx.(λy.(x y)))\n"
     ]
    }
   ],
   "source": [
    "test_term(\"LO\", 1)"
   ],
   "metadata": {
    "collapsed": false,
    "ExecuteTime": {
     "start_time": "2023-05-31T19:33:50.085206Z",
     "end_time": "2023-05-31T19:33:50.565681Z"
    }
   }
  },
  {
   "cell_type": "code",
   "execution_count": 6,
   "outputs": [
    {
     "name": "stdout",
     "output_type": "stream",
     "text": [
      "LO: 187 (λx.(λy.(x y)))\n"
     ]
    }
   ],
   "source": [
    "test_term(\"LO\", 2)"
   ],
   "metadata": {
    "collapsed": false,
    "ExecuteTime": {
     "start_time": "2023-05-31T19:34:07.558543Z",
     "end_time": "2023-05-31T19:34:10.502379Z"
    }
   }
  },
  {
   "cell_type": "code",
   "execution_count": 7,
   "outputs": [
    {
     "name": "stdout",
     "output_type": "stream",
     "text": [
      "LO: 348 (λx.(λy.(x (x y))))\n"
     ]
    }
   ],
   "source": [
    "test_term(\"LO\", 3)"
   ],
   "metadata": {
    "collapsed": false,
    "ExecuteTime": {
     "start_time": "2023-05-31T19:34:17.117236Z",
     "end_time": "2023-05-31T19:34:37.620576Z"
    }
   }
  },
  {
   "cell_type": "code",
   "execution_count": 8,
   "outputs": [
    {
     "name": "stdout",
     "output_type": "stream",
     "text": [
      "LO: 597 (λx.(λy.(x (x (x y)))))\n"
     ]
    }
   ],
   "source": [
    "test_term(\"LO\", 4)"
   ],
   "metadata": {
    "collapsed": false,
    "ExecuteTime": {
     "start_time": "2023-05-31T19:34:58.830610Z",
     "end_time": "2023-05-31T19:37:40.465674Z"
    }
   }
  },
  {
   "cell_type": "code",
   "execution_count": 10,
   "outputs": [
    {
     "name": "stdout",
     "output_type": "stream",
     "text": [
      "LO: 956 (λx.(λy.(x (x (x (x (x y)))))))\n"
     ]
    }
   ],
   "source": [
    "test_term(\"LO\", 5)"
   ],
   "metadata": {
    "collapsed": false,
    "ExecuteTime": {
     "start_time": "2023-05-31T19:39:20.204360Z",
     "end_time": "2023-05-31T19:57:57.903088Z"
    }
   }
  },
  {
   "cell_type": "markdown",
   "source": [
    "### With LI strategy"
   ],
   "metadata": {
    "collapsed": false
   }
  },
  {
   "cell_type": "code",
   "execution_count": 9,
   "outputs": [
    {
     "ename": "KeyboardInterrupt",
     "evalue": "",
     "output_type": "error",
     "traceback": [
      "\u001B[1;31m---------------------------------------------------------------------------\u001B[0m",
      "\u001B[1;31mKeyboardInterrupt\u001B[0m                         Traceback (most recent call last)",
      "Cell \u001B[1;32mIn[9], line 1\u001B[0m\n\u001B[1;32m----> 1\u001B[0m \u001B[43mtest_term\u001B[49m\u001B[43m(\u001B[49m\u001B[38;5;124;43m\"\u001B[39;49m\u001B[38;5;124;43mLI\u001B[39;49m\u001B[38;5;124;43m\"\u001B[39;49m\u001B[43m,\u001B[49m\u001B[43m \u001B[49m\u001B[38;5;241;43m0\u001B[39;49m\u001B[43m)\u001B[49m\n",
      "Cell \u001B[1;32mIn[3], line 18\u001B[0m, in \u001B[0;36mtest_term\u001B[1;34m(strategy_name, idx)\u001B[0m\n\u001B[0;32m     14\u001B[0m     \u001B[38;5;28;01mreturn\u001B[39;00m\n\u001B[0;32m     15\u001B[0m fib_idx \u001B[38;5;241m=\u001B[39m App(fib_term(), multi_app_term(pairs\u001B[38;5;241m.\u001B[39mpair_term(),\n\u001B[0;32m     16\u001B[0m                                          nat_numbers\u001B[38;5;241m.\u001B[39mnum_term(idx),\n\u001B[0;32m     17\u001B[0m                                          multi_app_term(pairs\u001B[38;5;241m.\u001B[39mpair_term(), nat_numbers\u001B[38;5;241m.\u001B[39mnum_term(\u001B[38;5;241m0\u001B[39m), nat_numbers\u001B[38;5;241m.\u001B[39mnum_term(\u001B[38;5;241m1\u001B[39m))))\n\u001B[1;32m---> 18\u001B[0m norm_term, steps \u001B[38;5;241m=\u001B[39m \u001B[43mfib_idx\u001B[49m\u001B[38;5;241;43m.\u001B[39;49m\u001B[43mnormalize\u001B[49m\u001B[43m(\u001B[49m\u001B[43mstrategy\u001B[49m\u001B[43m,\u001B[49m\u001B[43m \u001B[49m\u001B[43mis_limited\u001B[49m\u001B[38;5;241;43m=\u001B[39;49m\u001B[38;5;28;43;01mFalse\u001B[39;49;00m\u001B[43m)\u001B[49m\n\u001B[0;32m     19\u001B[0m \u001B[38;5;28mprint\u001B[39m(\u001B[38;5;124mf\u001B[39m\u001B[38;5;124m\"\u001B[39m\u001B[38;5;132;01m{\u001B[39;00mstrategy_name\u001B[38;5;132;01m}\u001B[39;00m\u001B[38;5;124m: \u001B[39m\u001B[38;5;132;01m{\u001B[39;00msteps\u001B[38;5;132;01m}\u001B[39;00m\u001B[38;5;124m \u001B[39m\u001B[38;5;132;01m{\u001B[39;00mnorm_term\u001B[38;5;241m.\u001B[39mfunky_str()\u001B[38;5;132;01m}\u001B[39;00m\u001B[38;5;124m\"\u001B[39m)\n",
      "File \u001B[1;32mD:\\documents\\python_projects\\pure-calculus\\src\\calculus_path_mod\\term_engine.py:202\u001B[0m, in \u001B[0;36mTerm.normalize\u001B[1;34m(self, strategy, is_limited)\u001B[0m\n\u001B[0;32m    200\u001B[0m count_steps \u001B[38;5;241m=\u001B[39m \u001B[38;5;241m0\u001B[39m\n\u001B[0;32m    201\u001B[0m \u001B[38;5;28;01mwhile\u001B[39;00m \u001B[38;5;28mlen\u001B[39m(term\u001B[38;5;241m.\u001B[39mredexes) \u001B[38;5;241m>\u001B[39m \u001B[38;5;241m0\u001B[39m:\n\u001B[1;32m--> 202\u001B[0m     term \u001B[38;5;241m=\u001B[39m \u001B[43mterm\u001B[49m\u001B[38;5;241;43m.\u001B[39;49m\u001B[43m_beta_conversion\u001B[49m\u001B[43m(\u001B[49m\u001B[43mstrategy\u001B[49m\u001B[43m)\u001B[49m\u001B[38;5;241m.\u001B[39m_update_bound_vars()\n\u001B[0;32m    203\u001B[0m     count_steps \u001B[38;5;241m+\u001B[39m\u001B[38;5;241m=\u001B[39m \u001B[38;5;241m1\u001B[39m\n\u001B[0;32m    204\u001B[0m     \u001B[38;5;66;03m# computation limitation\u001B[39;00m\n",
      "File \u001B[1;32mD:\\documents\\python_projects\\pure-calculus\\src\\calculus_path_mod\\term_engine.py:214\u001B[0m, in \u001B[0;36mTerm._beta_conversion\u001B[1;34m(self, strategy)\u001B[0m\n\u001B[0;32m    209\u001B[0m \u001B[38;5;28;01mdef\u001B[39;00m \u001B[38;5;21m_beta_conversion\u001B[39m(\u001B[38;5;28mself\u001B[39m, strategy):\n\u001B[0;32m    210\u001B[0m \u001B[38;5;250m    \u001B[39m\u001B[38;5;124;03m\"\"\"\u001B[39;00m\n\u001B[0;32m    211\u001B[0m \u001B[38;5;124;03m    :param strategy: OneStepStrategy\u001B[39;00m\n\u001B[0;32m    212\u001B[0m \u001B[38;5;124;03m    :return: term with redex eliminated using the given strategy\u001B[39;00m\n\u001B[0;32m    213\u001B[0m \u001B[38;5;124;03m    \"\"\"\u001B[39;00m\n\u001B[1;32m--> 214\u001B[0m     index \u001B[38;5;241m=\u001B[39m \u001B[43mstrategy\u001B[49m\u001B[38;5;241;43m.\u001B[39;49m\u001B[43mredex_index\u001B[49m\u001B[43m(\u001B[49m\u001B[38;5;28;43mself\u001B[39;49m\u001B[43m)\u001B[49m\n\u001B[0;32m    215\u001B[0m     subterm_ \u001B[38;5;241m=\u001B[39m \u001B[38;5;28mself\u001B[39m\u001B[38;5;241m.\u001B[39msubterm(index)\n\u001B[0;32m    216\u001B[0m     reduced_term \u001B[38;5;241m=\u001B[39m subterm_\u001B[38;5;241m.\u001B[39m_remove_outer_redex()\n",
      "File \u001B[1;32mD:\\documents\\python_projects\\pure-calculus\\src\\calculus_path_mod\\reduction_strategy.py:45\u001B[0m, in \u001B[0;36mLIStrategy.redex_index\u001B[1;34m(self, term, init_index)\u001B[0m\n\u001B[0;32m     43\u001B[0m \u001B[38;5;28;01mif\u001B[39;00m term\u001B[38;5;241m.\u001B[39mkind \u001B[38;5;241m==\u001B[39m \u001B[38;5;124m\"\u001B[39m\u001B[38;5;124mapplication\u001B[39m\u001B[38;5;124m\"\u001B[39m:\n\u001B[0;32m     44\u001B[0m     \u001B[38;5;28;01mif\u001B[39;00m \u001B[38;5;28mlen\u001B[39m(term\u001B[38;5;241m.\u001B[39m_data[\u001B[38;5;241m0\u001B[39m]\u001B[38;5;241m.\u001B[39mredexes) \u001B[38;5;241m!=\u001B[39m \u001B[38;5;241m0\u001B[39m:\n\u001B[1;32m---> 45\u001B[0m         \u001B[38;5;28;01mreturn\u001B[39;00m \u001B[38;5;28;43mself\u001B[39;49m\u001B[38;5;241;43m.\u001B[39;49m\u001B[43mredex_index\u001B[49m\u001B[43m(\u001B[49m\u001B[43mterm\u001B[49m\u001B[38;5;241;43m.\u001B[39;49m\u001B[43m_data\u001B[49m\u001B[43m[\u001B[49m\u001B[38;5;241;43m0\u001B[39;49m\u001B[43m]\u001B[49m\u001B[43m,\u001B[49m\u001B[43m \u001B[49m\u001B[43minit_index\u001B[49m\u001B[43m \u001B[49m\u001B[38;5;241;43m+\u001B[39;49m\u001B[43m \u001B[49m\u001B[38;5;241;43m1\u001B[39;49m\u001B[43m)\u001B[49m\n\u001B[0;32m     46\u001B[0m     \u001B[38;5;28;01melif\u001B[39;00m \u001B[38;5;28mlen\u001B[39m(term\u001B[38;5;241m.\u001B[39m_data[\u001B[38;5;241m1\u001B[39m]\u001B[38;5;241m.\u001B[39mredexes) \u001B[38;5;241m!=\u001B[39m \u001B[38;5;241m0\u001B[39m:\n\u001B[0;32m     47\u001B[0m         \u001B[38;5;28;01mreturn\u001B[39;00m \u001B[38;5;28mself\u001B[39m\u001B[38;5;241m.\u001B[39mredex_index(term\u001B[38;5;241m.\u001B[39m_data[\u001B[38;5;241m1\u001B[39m],\n\u001B[0;32m     48\u001B[0m                                 init_index \u001B[38;5;241m+\u001B[39m term\u001B[38;5;241m.\u001B[39m_data[\u001B[38;5;241m0\u001B[39m]\u001B[38;5;241m.\u001B[39mvertices_number \u001B[38;5;241m+\u001B[39m \u001B[38;5;241m1\u001B[39m)\n",
      "File \u001B[1;32mD:\\documents\\python_projects\\pure-calculus\\src\\calculus_path_mod\\reduction_strategy.py:45\u001B[0m, in \u001B[0;36mLIStrategy.redex_index\u001B[1;34m(self, term, init_index)\u001B[0m\n\u001B[0;32m     43\u001B[0m \u001B[38;5;28;01mif\u001B[39;00m term\u001B[38;5;241m.\u001B[39mkind \u001B[38;5;241m==\u001B[39m \u001B[38;5;124m\"\u001B[39m\u001B[38;5;124mapplication\u001B[39m\u001B[38;5;124m\"\u001B[39m:\n\u001B[0;32m     44\u001B[0m     \u001B[38;5;28;01mif\u001B[39;00m \u001B[38;5;28mlen\u001B[39m(term\u001B[38;5;241m.\u001B[39m_data[\u001B[38;5;241m0\u001B[39m]\u001B[38;5;241m.\u001B[39mredexes) \u001B[38;5;241m!=\u001B[39m \u001B[38;5;241m0\u001B[39m:\n\u001B[1;32m---> 45\u001B[0m         \u001B[38;5;28;01mreturn\u001B[39;00m \u001B[38;5;28;43mself\u001B[39;49m\u001B[38;5;241;43m.\u001B[39;49m\u001B[43mredex_index\u001B[49m\u001B[43m(\u001B[49m\u001B[43mterm\u001B[49m\u001B[38;5;241;43m.\u001B[39;49m\u001B[43m_data\u001B[49m\u001B[43m[\u001B[49m\u001B[38;5;241;43m0\u001B[39;49m\u001B[43m]\u001B[49m\u001B[43m,\u001B[49m\u001B[43m \u001B[49m\u001B[43minit_index\u001B[49m\u001B[43m \u001B[49m\u001B[38;5;241;43m+\u001B[39;49m\u001B[43m \u001B[49m\u001B[38;5;241;43m1\u001B[39;49m\u001B[43m)\u001B[49m\n\u001B[0;32m     46\u001B[0m     \u001B[38;5;28;01melif\u001B[39;00m \u001B[38;5;28mlen\u001B[39m(term\u001B[38;5;241m.\u001B[39m_data[\u001B[38;5;241m1\u001B[39m]\u001B[38;5;241m.\u001B[39mredexes) \u001B[38;5;241m!=\u001B[39m \u001B[38;5;241m0\u001B[39m:\n\u001B[0;32m     47\u001B[0m         \u001B[38;5;28;01mreturn\u001B[39;00m \u001B[38;5;28mself\u001B[39m\u001B[38;5;241m.\u001B[39mredex_index(term\u001B[38;5;241m.\u001B[39m_data[\u001B[38;5;241m1\u001B[39m],\n\u001B[0;32m     48\u001B[0m                                 init_index \u001B[38;5;241m+\u001B[39m term\u001B[38;5;241m.\u001B[39m_data[\u001B[38;5;241m0\u001B[39m]\u001B[38;5;241m.\u001B[39mvertices_number \u001B[38;5;241m+\u001B[39m \u001B[38;5;241m1\u001B[39m)\n",
      "File \u001B[1;32mD:\\documents\\python_projects\\pure-calculus\\src\\calculus_path_mod\\reduction_strategy.py:51\u001B[0m, in \u001B[0;36mLIStrategy.redex_index\u001B[1;34m(self, term, init_index)\u001B[0m\n\u001B[0;32m     49\u001B[0m     \u001B[38;5;28;01mreturn\u001B[39;00m init_index \u001B[38;5;241m+\u001B[39m \u001B[38;5;241m1\u001B[39m\n\u001B[0;32m     50\u001B[0m \u001B[38;5;66;03m# self is Abstraction:\u001B[39;00m\n\u001B[1;32m---> 51\u001B[0m \u001B[38;5;28;01mreturn\u001B[39;00m \u001B[38;5;28;43mself\u001B[39;49m\u001B[38;5;241;43m.\u001B[39;49m\u001B[43mredex_index\u001B[49m\u001B[43m(\u001B[49m\u001B[43mterm\u001B[49m\u001B[38;5;241;43m.\u001B[39;49m\u001B[43m_data\u001B[49m\u001B[43m[\u001B[49m\u001B[38;5;241;43m1\u001B[39;49m\u001B[43m]\u001B[49m\u001B[43m,\u001B[49m\u001B[43m \u001B[49m\u001B[43minit_index\u001B[49m\u001B[43m \u001B[49m\u001B[38;5;241;43m+\u001B[39;49m\u001B[43m \u001B[49m\u001B[38;5;241;43m1\u001B[39;49m\u001B[43m)\u001B[49m\n",
      "File \u001B[1;32mD:\\documents\\python_projects\\pure-calculus\\src\\calculus_path_mod\\reduction_strategy.py:47\u001B[0m, in \u001B[0;36mLIStrategy.redex_index\u001B[1;34m(self, term, init_index)\u001B[0m\n\u001B[0;32m     45\u001B[0m         \u001B[38;5;28;01mreturn\u001B[39;00m \u001B[38;5;28mself\u001B[39m\u001B[38;5;241m.\u001B[39mredex_index(term\u001B[38;5;241m.\u001B[39m_data[\u001B[38;5;241m0\u001B[39m], init_index \u001B[38;5;241m+\u001B[39m \u001B[38;5;241m1\u001B[39m)\n\u001B[0;32m     46\u001B[0m     \u001B[38;5;28;01melif\u001B[39;00m \u001B[38;5;28mlen\u001B[39m(term\u001B[38;5;241m.\u001B[39m_data[\u001B[38;5;241m1\u001B[39m]\u001B[38;5;241m.\u001B[39mredexes) \u001B[38;5;241m!=\u001B[39m \u001B[38;5;241m0\u001B[39m:\n\u001B[1;32m---> 47\u001B[0m         \u001B[38;5;28;01mreturn\u001B[39;00m \u001B[38;5;28;43mself\u001B[39;49m\u001B[38;5;241;43m.\u001B[39;49m\u001B[43mredex_index\u001B[49m\u001B[43m(\u001B[49m\u001B[43mterm\u001B[49m\u001B[38;5;241;43m.\u001B[39;49m\u001B[43m_data\u001B[49m\u001B[43m[\u001B[49m\u001B[38;5;241;43m1\u001B[39;49m\u001B[43m]\u001B[49m\u001B[43m,\u001B[49m\n\u001B[0;32m     48\u001B[0m \u001B[43m                                \u001B[49m\u001B[43minit_index\u001B[49m\u001B[43m \u001B[49m\u001B[38;5;241;43m+\u001B[39;49m\u001B[43m \u001B[49m\u001B[43mterm\u001B[49m\u001B[38;5;241;43m.\u001B[39;49m\u001B[43m_data\u001B[49m\u001B[43m[\u001B[49m\u001B[38;5;241;43m0\u001B[39;49m\u001B[43m]\u001B[49m\u001B[38;5;241;43m.\u001B[39;49m\u001B[43mvertices_number\u001B[49m\u001B[43m \u001B[49m\u001B[38;5;241;43m+\u001B[39;49m\u001B[43m \u001B[49m\u001B[38;5;241;43m1\u001B[39;49m\u001B[43m)\u001B[49m\n\u001B[0;32m     49\u001B[0m     \u001B[38;5;28;01mreturn\u001B[39;00m init_index \u001B[38;5;241m+\u001B[39m \u001B[38;5;241m1\u001B[39m\n\u001B[0;32m     50\u001B[0m \u001B[38;5;66;03m# self is Abstraction:\u001B[39;00m\n",
      "File \u001B[1;32mD:\\documents\\python_projects\\pure-calculus\\src\\calculus_path_mod\\reduction_strategy.py:47\u001B[0m, in \u001B[0;36mLIStrategy.redex_index\u001B[1;34m(self, term, init_index)\u001B[0m\n\u001B[0;32m     45\u001B[0m         \u001B[38;5;28;01mreturn\u001B[39;00m \u001B[38;5;28mself\u001B[39m\u001B[38;5;241m.\u001B[39mredex_index(term\u001B[38;5;241m.\u001B[39m_data[\u001B[38;5;241m0\u001B[39m], init_index \u001B[38;5;241m+\u001B[39m \u001B[38;5;241m1\u001B[39m)\n\u001B[0;32m     46\u001B[0m     \u001B[38;5;28;01melif\u001B[39;00m \u001B[38;5;28mlen\u001B[39m(term\u001B[38;5;241m.\u001B[39m_data[\u001B[38;5;241m1\u001B[39m]\u001B[38;5;241m.\u001B[39mredexes) \u001B[38;5;241m!=\u001B[39m \u001B[38;5;241m0\u001B[39m:\n\u001B[1;32m---> 47\u001B[0m         \u001B[38;5;28;01mreturn\u001B[39;00m \u001B[38;5;28;43mself\u001B[39;49m\u001B[38;5;241;43m.\u001B[39;49m\u001B[43mredex_index\u001B[49m\u001B[43m(\u001B[49m\u001B[43mterm\u001B[49m\u001B[38;5;241;43m.\u001B[39;49m\u001B[43m_data\u001B[49m\u001B[43m[\u001B[49m\u001B[38;5;241;43m1\u001B[39;49m\u001B[43m]\u001B[49m\u001B[43m,\u001B[49m\n\u001B[0;32m     48\u001B[0m \u001B[43m                                \u001B[49m\u001B[43minit_index\u001B[49m\u001B[43m \u001B[49m\u001B[38;5;241;43m+\u001B[39;49m\u001B[43m \u001B[49m\u001B[43mterm\u001B[49m\u001B[38;5;241;43m.\u001B[39;49m\u001B[43m_data\u001B[49m\u001B[43m[\u001B[49m\u001B[38;5;241;43m0\u001B[39;49m\u001B[43m]\u001B[49m\u001B[38;5;241;43m.\u001B[39;49m\u001B[43mvertices_number\u001B[49m\u001B[43m \u001B[49m\u001B[38;5;241;43m+\u001B[39;49m\u001B[43m \u001B[49m\u001B[38;5;241;43m1\u001B[39;49m\u001B[43m)\u001B[49m\n\u001B[0;32m     49\u001B[0m     \u001B[38;5;28;01mreturn\u001B[39;00m init_index \u001B[38;5;241m+\u001B[39m \u001B[38;5;241m1\u001B[39m\n\u001B[0;32m     50\u001B[0m \u001B[38;5;66;03m# self is Abstraction:\u001B[39;00m\n",
      "    \u001B[1;31m[... skipping similar frames: LIStrategy.redex_index at line 47 (138 times)]\u001B[0m\n",
      "File \u001B[1;32mD:\\documents\\python_projects\\pure-calculus\\src\\calculus_path_mod\\reduction_strategy.py:47\u001B[0m, in \u001B[0;36mLIStrategy.redex_index\u001B[1;34m(self, term, init_index)\u001B[0m\n\u001B[0;32m     45\u001B[0m         \u001B[38;5;28;01mreturn\u001B[39;00m \u001B[38;5;28mself\u001B[39m\u001B[38;5;241m.\u001B[39mredex_index(term\u001B[38;5;241m.\u001B[39m_data[\u001B[38;5;241m0\u001B[39m], init_index \u001B[38;5;241m+\u001B[39m \u001B[38;5;241m1\u001B[39m)\n\u001B[0;32m     46\u001B[0m     \u001B[38;5;28;01melif\u001B[39;00m \u001B[38;5;28mlen\u001B[39m(term\u001B[38;5;241m.\u001B[39m_data[\u001B[38;5;241m1\u001B[39m]\u001B[38;5;241m.\u001B[39mredexes) \u001B[38;5;241m!=\u001B[39m \u001B[38;5;241m0\u001B[39m:\n\u001B[1;32m---> 47\u001B[0m         \u001B[38;5;28;01mreturn\u001B[39;00m \u001B[38;5;28;43mself\u001B[39;49m\u001B[38;5;241;43m.\u001B[39;49m\u001B[43mredex_index\u001B[49m\u001B[43m(\u001B[49m\u001B[43mterm\u001B[49m\u001B[38;5;241;43m.\u001B[39;49m\u001B[43m_data\u001B[49m\u001B[43m[\u001B[49m\u001B[38;5;241;43m1\u001B[39;49m\u001B[43m]\u001B[49m\u001B[43m,\u001B[49m\n\u001B[0;32m     48\u001B[0m \u001B[43m                                \u001B[49m\u001B[43minit_index\u001B[49m\u001B[43m \u001B[49m\u001B[38;5;241;43m+\u001B[39;49m\u001B[43m \u001B[49m\u001B[43mterm\u001B[49m\u001B[38;5;241;43m.\u001B[39;49m\u001B[43m_data\u001B[49m\u001B[43m[\u001B[49m\u001B[38;5;241;43m0\u001B[39;49m\u001B[43m]\u001B[49m\u001B[38;5;241;43m.\u001B[39;49m\u001B[43mvertices_number\u001B[49m\u001B[43m \u001B[49m\u001B[38;5;241;43m+\u001B[39;49m\u001B[43m \u001B[49m\u001B[38;5;241;43m1\u001B[39;49m\u001B[43m)\u001B[49m\n\u001B[0;32m     49\u001B[0m     \u001B[38;5;28;01mreturn\u001B[39;00m init_index \u001B[38;5;241m+\u001B[39m \u001B[38;5;241m1\u001B[39m\n\u001B[0;32m     50\u001B[0m \u001B[38;5;66;03m# self is Abstraction:\u001B[39;00m\n",
      "File \u001B[1;32mD:\\documents\\python_projects\\pure-calculus\\src\\calculus_path_mod\\reduction_strategy.py:41\u001B[0m, in \u001B[0;36mLIStrategy.redex_index\u001B[1;34m(self, term, init_index)\u001B[0m\n\u001B[0;32m     37\u001B[0m \u001B[38;5;28;01mdef\u001B[39;00m \u001B[38;5;21mredex_index\u001B[39m(\u001B[38;5;28mself\u001B[39m, term: Term, init_index\u001B[38;5;241m=\u001B[39m\u001B[38;5;241m0\u001B[39m) \u001B[38;5;241m-\u001B[39m\u001B[38;5;241m>\u001B[39m \u001B[38;5;28mint\u001B[39m:\n\u001B[0;32m     38\u001B[0m     \u001B[38;5;66;03m# The main idea check current vertex\u001B[39;00m\n\u001B[0;32m     39\u001B[0m     \u001B[38;5;66;03m# if it's a redex return its coordinate in the tree\u001B[39;00m\n\u001B[1;32m---> 41\u001B[0m     \u001B[38;5;28;01mif\u001B[39;00m (term\u001B[38;5;241m.\u001B[39mkind \u001B[38;5;241m==\u001B[39m \u001B[38;5;124m\"\u001B[39m\u001B[38;5;124matom\u001B[39m\u001B[38;5;124m\"\u001B[39m) \u001B[38;5;129;01mor\u001B[39;00m (\u001B[38;5;28mlen\u001B[39m(\u001B[43mterm\u001B[49m\u001B[38;5;241;43m.\u001B[39;49m\u001B[43mredexes\u001B[49m) \u001B[38;5;241m==\u001B[39m \u001B[38;5;241m0\u001B[39m):\n\u001B[0;32m     42\u001B[0m         \u001B[38;5;28;01mraise\u001B[39;00m \u001B[38;5;167;01mValueError\u001B[39;00m(\u001B[38;5;124m\"\u001B[39m\u001B[38;5;124mThe term doesn\u001B[39m\u001B[38;5;124m'\u001B[39m\u001B[38;5;124mt contain a redex\u001B[39m\u001B[38;5;124m\"\u001B[39m)\n\u001B[0;32m     43\u001B[0m     \u001B[38;5;28;01mif\u001B[39;00m term\u001B[38;5;241m.\u001B[39mkind \u001B[38;5;241m==\u001B[39m \u001B[38;5;124m\"\u001B[39m\u001B[38;5;124mapplication\u001B[39m\u001B[38;5;124m\"\u001B[39m:\n",
      "File \u001B[1;32mD:\\documents\\python_projects\\pure-calculus\\src\\calculus_path_mod\\term_engine.py:150\u001B[0m, in \u001B[0;36mTerm.redexes\u001B[1;34m(self)\u001B[0m\n\u001B[0;32m    148\u001B[0m \u001B[38;5;66;03m# self is App:\u001B[39;00m\n\u001B[0;32m    149\u001B[0m redexes_list \u001B[38;5;241m=\u001B[39m [\u001B[38;5;28mself\u001B[39m] \u001B[38;5;28;01mif\u001B[39;00m \u001B[38;5;28mself\u001B[39m\u001B[38;5;241m.\u001B[39mis_beta_redex \u001B[38;5;28;01melse\u001B[39;00m []\n\u001B[1;32m--> 150\u001B[0m redexes_list \u001B[38;5;241m+\u001B[39m\u001B[38;5;241m=\u001B[39m \u001B[38;5;28mself\u001B[39m\u001B[38;5;241m.\u001B[39m_data[\u001B[38;5;241m0\u001B[39m]\u001B[38;5;241m.\u001B[39mredexes \u001B[38;5;241m+\u001B[39m \u001B[38;5;28;43mself\u001B[39;49m\u001B[38;5;241;43m.\u001B[39;49m\u001B[43m_data\u001B[49m\u001B[43m[\u001B[49m\u001B[38;5;241;43m1\u001B[39;49m\u001B[43m]\u001B[49m\u001B[38;5;241;43m.\u001B[39;49m\u001B[43mredexes\u001B[49m\n\u001B[0;32m    151\u001B[0m \u001B[38;5;28;01mreturn\u001B[39;00m redexes_list\n",
      "File \u001B[1;32mD:\\documents\\python_projects\\pure-calculus\\src\\calculus_path_mod\\term_engine.py:150\u001B[0m, in \u001B[0;36mTerm.redexes\u001B[1;34m(self)\u001B[0m\n\u001B[0;32m    148\u001B[0m \u001B[38;5;66;03m# self is App:\u001B[39;00m\n\u001B[0;32m    149\u001B[0m redexes_list \u001B[38;5;241m=\u001B[39m [\u001B[38;5;28mself\u001B[39m] \u001B[38;5;28;01mif\u001B[39;00m \u001B[38;5;28mself\u001B[39m\u001B[38;5;241m.\u001B[39mis_beta_redex \u001B[38;5;28;01melse\u001B[39;00m []\n\u001B[1;32m--> 150\u001B[0m redexes_list \u001B[38;5;241m+\u001B[39m\u001B[38;5;241m=\u001B[39m \u001B[38;5;28mself\u001B[39m\u001B[38;5;241m.\u001B[39m_data[\u001B[38;5;241m0\u001B[39m]\u001B[38;5;241m.\u001B[39mredexes \u001B[38;5;241m+\u001B[39m \u001B[38;5;28;43mself\u001B[39;49m\u001B[38;5;241;43m.\u001B[39;49m\u001B[43m_data\u001B[49m\u001B[43m[\u001B[49m\u001B[38;5;241;43m1\u001B[39;49m\u001B[43m]\u001B[49m\u001B[38;5;241;43m.\u001B[39;49m\u001B[43mredexes\u001B[49m\n\u001B[0;32m    151\u001B[0m \u001B[38;5;28;01mreturn\u001B[39;00m redexes_list\n",
      "    \u001B[1;31m[... skipping similar frames: Term.redexes at line 150 (187 times)]\u001B[0m\n",
      "File \u001B[1;32mD:\\documents\\python_projects\\pure-calculus\\src\\calculus_path_mod\\term_engine.py:150\u001B[0m, in \u001B[0;36mTerm.redexes\u001B[1;34m(self)\u001B[0m\n\u001B[0;32m    148\u001B[0m \u001B[38;5;66;03m# self is App:\u001B[39;00m\n\u001B[0;32m    149\u001B[0m redexes_list \u001B[38;5;241m=\u001B[39m [\u001B[38;5;28mself\u001B[39m] \u001B[38;5;28;01mif\u001B[39;00m \u001B[38;5;28mself\u001B[39m\u001B[38;5;241m.\u001B[39mis_beta_redex \u001B[38;5;28;01melse\u001B[39;00m []\n\u001B[1;32m--> 150\u001B[0m redexes_list \u001B[38;5;241m+\u001B[39m\u001B[38;5;241m=\u001B[39m \u001B[38;5;28;43mself\u001B[39;49m\u001B[38;5;241;43m.\u001B[39;49m\u001B[43m_data\u001B[49m\u001B[43m[\u001B[49m\u001B[38;5;241;43m0\u001B[39;49m\u001B[43m]\u001B[49m\u001B[38;5;241;43m.\u001B[39;49m\u001B[43mredexes\u001B[49m \u001B[38;5;241m+\u001B[39m \u001B[38;5;28mself\u001B[39m\u001B[38;5;241m.\u001B[39m_data[\u001B[38;5;241m1\u001B[39m]\u001B[38;5;241m.\u001B[39mredexes\n\u001B[0;32m    151\u001B[0m \u001B[38;5;28;01mreturn\u001B[39;00m redexes_list\n",
      "File \u001B[1;32mD:\\documents\\python_projects\\pure-calculus\\src\\calculus_path_mod\\term_engine.py:141\u001B[0m, in \u001B[0;36mTerm.redexes\u001B[1;34m(self)\u001B[0m\n\u001B[0;32m    138\u001B[0m \u001B[38;5;250m    \u001B[39m\u001B[38;5;124;03m\"\"\":return: bool is the term is a beta-redex\"\"\"\u001B[39;00m\n\u001B[0;32m    139\u001B[0m     \u001B[38;5;28;01mreturn\u001B[39;00m (\u001B[38;5;28mself\u001B[39m\u001B[38;5;241m.\u001B[39mkind \u001B[38;5;241m==\u001B[39m \u001B[38;5;124m\"\u001B[39m\u001B[38;5;124mapplication\u001B[39m\u001B[38;5;124m\"\u001B[39m) \u001B[38;5;129;01mand\u001B[39;00m (\u001B[38;5;28mself\u001B[39m\u001B[38;5;241m.\u001B[39m_data[\u001B[38;5;241m0\u001B[39m]\u001B[38;5;241m.\u001B[39mkind \u001B[38;5;241m==\u001B[39m \u001B[38;5;124m\"\u001B[39m\u001B[38;5;124mabstraction\u001B[39m\u001B[38;5;124m\"\u001B[39m)\n\u001B[1;32m--> 141\u001B[0m \u001B[38;5;129m@property\u001B[39m\n\u001B[0;32m    142\u001B[0m \u001B[38;5;28;01mdef\u001B[39;00m \u001B[38;5;21mredexes\u001B[39m(\u001B[38;5;28mself\u001B[39m):\n\u001B[0;32m    143\u001B[0m \u001B[38;5;250m    \u001B[39m\u001B[38;5;124;03m\"\"\":return: list of all beta-redexes in the term\"\"\"\u001B[39;00m\n\u001B[0;32m    144\u001B[0m     \u001B[38;5;28;01mif\u001B[39;00m \u001B[38;5;28mself\u001B[39m\u001B[38;5;241m.\u001B[39mkind \u001B[38;5;241m==\u001B[39m \u001B[38;5;124m\"\u001B[39m\u001B[38;5;124matom\u001B[39m\u001B[38;5;124m\"\u001B[39m:\n",
      "\u001B[1;31mKeyboardInterrupt\u001B[0m: "
     ]
    }
   ],
   "source": [
    "test_term(\"LI\", 0)"
   ],
   "metadata": {
    "collapsed": false,
    "ExecuteTime": {
     "start_time": "2023-05-30T15:31:53.397473Z",
     "end_time": "2023-05-30T15:31:53.498515Z"
    }
   }
  },
  {
   "cell_type": "code",
   "execution_count": null,
   "outputs": [],
   "source": [
    "test_term(\"LI\", 1)"
   ],
   "metadata": {
    "collapsed": false,
    "ExecuteTime": {
     "start_time": "2023-05-30T15:31:56.580114Z",
     "end_time": "2023-05-30T15:31:56.672742Z"
    }
   }
  },
  {
   "cell_type": "code",
   "execution_count": null,
   "outputs": [],
   "source": [
    "test_term(\"LI\", 2)"
   ],
   "metadata": {
    "collapsed": false,
    "ExecuteTime": {
     "start_time": "2023-05-30T15:31:59.083290Z",
     "end_time": "2023-05-30T15:31:59.178034Z"
    }
   }
  },
  {
   "cell_type": "code",
   "execution_count": null,
   "outputs": [],
   "source": [
    "test_term(\"LI\", 3)"
   ],
   "metadata": {
    "collapsed": false,
    "ExecuteTime": {
     "start_time": "2023-05-30T15:32:01.536183Z",
     "end_time": "2023-05-30T15:32:01.628014Z"
    }
   }
  },
  {
   "cell_type": "code",
   "execution_count": null,
   "outputs": [],
   "source": [
    "test_term(\"LI\", 4)"
   ],
   "metadata": {
    "collapsed": false,
    "ExecuteTime": {
     "start_time": "2023-05-30T15:32:04.119629Z",
     "end_time": "2023-05-30T15:32:04.214051Z"
    }
   }
  }
 ],
 "metadata": {
  "kernelspec": {
   "display_name": "Python 3",
   "language": "python",
   "name": "python3"
  },
  "language_info": {
   "codemirror_mode": {
    "name": "ipython",
    "version": 2
   },
   "file_extension": ".py",
   "mimetype": "text/x-python",
   "name": "python",
   "nbconvert_exporter": "python",
   "pygments_lexer": "ipython2",
   "version": "2.7.6"
  }
 },
 "nbformat": 4,
 "nbformat_minor": 0
}
