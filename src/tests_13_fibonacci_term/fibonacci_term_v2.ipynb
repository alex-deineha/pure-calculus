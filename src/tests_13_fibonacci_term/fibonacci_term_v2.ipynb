{
 "cells": [
  {
   "cell_type": "code",
   "execution_count": 1,
   "metadata": {
    "collapsed": true,
    "ExecuteTime": {
     "start_time": "2023-05-30T15:30:46.909552Z",
     "end_time": "2023-05-30T15:30:46.986980Z"
    }
   },
   "outputs": [],
   "source": [
    "import sys\n",
    "from tqdm import tqdm\n",
    "\n",
    "sys.path.append(\"../\")\n",
    "from calculus_path_mod.term_engine import *\n",
    "from calculus_path_mod.reduction_strategy import *\n",
    "from calculus_path_mod.terms import num_comparison, nat_numbers, arithm_ops, combinators, pairs, logic\n",
    "\n",
    "from calculus_path_mod.terms.pseudonym import *"
   ]
  },
  {
   "cell_type": "markdown",
   "source": [
    "# Define Fibonacci term\n",
    "An algorithm I took [here](https://whatthefunctional.wordpress.com/2019/02/21/a-brief-introduction-to-the-%CE%BB-calculus-part-2/)"
   ],
   "metadata": {
    "collapsed": false
   }
  },
  {
   "cell_type": "code",
   "execution_count": 3,
   "outputs": [],
   "source": [
    "def fib_term():\n",
    "    # # FIB = (λf. (λp. (IF (ISZERO (FST p)) ZERO\n",
    "    #              (IF (ISZERO (FST (FST p))) ONE\n",
    "    #                  (PAIR (SND p)\n",
    "    #                        (PLUS (FST p) (SND p))))))) (λf. (λp. (IF (ISZERO (FST p)) ZERO\n",
    "    #                                                             (IF (ISZERO (FST (FST p))) ONE\n",
    "    #                                                                 (PAIR (SND p)\n",
    "    #                                                                 (PLUS (FST p) (SND p)))))))\n",
    "\n",
    "    f, p = Var(), Var()\n",
    "    f_, p_ = Atom(f), Atom(p)\n",
    "\n",
    "    inner_term = multi_app_term(arithm_ops.plus_term(), App(pairs.first_term(), p_), App(pairs.second_term(), p_))\n",
    "    inner_if_cond = App(num_comparison.iszero_term(), App(pairs.first_term(), App(pairs.first_term(), p_)))\n",
    "\n",
    "    inner_term = multi_app_term(logic.ite_term(), inner_if_cond, nat_numbers.num_term(1), inner_term)\n",
    "    inner_if_cond = App(num_comparison.iszero_term(), App(pairs.first_term(), p_))\n",
    "\n",
    "    inner_term = multi_app_term(logic.ite_term(), inner_if_cond, nat_numbers.num_term(0), inner_term)\n",
    "    return Lambda(f, Lambda(p, inner_term))\n",
    "\n",
    "def fib_num_term():\n",
    "    # FIB_NUM = (λn. (FST ( (FIB (PAIR n ZERO)) (PAIR ZERO ONE))))\n",
    "\n",
    "    n = Var()\n",
    "    n_ = Atom(n)\n",
    "    fib_ = App(fib_term(), fib_term())\n",
    "    inner_term = multi_app_term(pairs.pair_term(), n_, nat_numbers.num_term(0))\n",
    "    inner_term = App(fib_, inner_term)\n",
    "    inner_right_term = multi_app_term(pairs.pair_term(), nat_numbers.num_term(0), nat_numbers.num_term(1))\n",
    "    inner_term = App(inner_term, inner_right_term)\n",
    "\n",
    "    return Lambda(n, App(pairs.first_term(), inner_term))\n"
   ],
   "metadata": {
    "collapsed": false,
    "ExecuteTime": {
     "start_time": "2023-05-30T15:30:55.191833Z",
     "end_time": "2023-05-30T15:30:55.198395Z"
    }
   }
  },
  {
   "cell_type": "code",
   "execution_count": 4,
   "outputs": [],
   "source": [
    "strategy_lo = LOStrategy()\n",
    "strategy_li = LIStrategy()\n",
    "strategy_ri = RIStrategy()\n",
    "\n",
    "def test_term(strategy_name, idx):\n",
    "    strategy = None\n",
    "    if strategy_name == \"LO\":\n",
    "        strategy = strategy_lo\n",
    "    elif strategy_name == \"LI\":\n",
    "        strategy = strategy_li\n",
    "    elif strategy_name == \"RI\":\n",
    "        strategy = strategy_ri\n",
    "    if not strategy:\n",
    "        return\n",
    "    fib_idx = App(fib_num_term(), nat_numbers.num_term(idx))\n",
    "    norm_term, steps = fib_idx.normalize(strategy, is_limited=False)\n",
    "    print(f\"{strategy_name}: {steps} {norm_term.funky_str()}\")"
   ],
   "metadata": {
    "collapsed": false,
    "ExecuteTime": {
     "start_time": "2023-05-30T15:30:59.000755Z",
     "end_time": "2023-05-30T15:30:59.008635Z"
    }
   }
  },
  {
   "cell_type": "code",
   "execution_count": 5,
   "outputs": [
    {
     "name": "stdout",
     "output_type": "stream",
     "text": [
      "LO: 20 (λx.(λy.x))\n"
     ]
    }
   ],
   "source": [
    "test_term(\"LO\", 0)"
   ],
   "metadata": {
    "collapsed": false,
    "ExecuteTime": {
     "start_time": "2023-05-30T15:31:08.369121Z",
     "end_time": "2023-05-30T15:31:08.374184Z"
    }
   }
  },
  {
   "cell_type": "code",
   "execution_count": 6,
   "outputs": [
    {
     "name": "stdout",
     "output_type": "stream",
     "text": [
      "LO: 42 (λx.(λy.y))\n"
     ]
    }
   ],
   "source": [
    "test_term(\"LO\", 1)"
   ],
   "metadata": {
    "collapsed": false,
    "ExecuteTime": {
     "start_time": "2023-05-30T15:31:15.866396Z",
     "end_time": "2023-05-30T15:31:15.908998Z"
    }
   }
  },
  {
   "cell_type": "code",
   "execution_count": 7,
   "outputs": [
    {
     "name": "stdout",
     "output_type": "stream",
     "text": [
      "LO: 39 (λx.(λy.x))\n"
     ]
    }
   ],
   "source": [
    "test_term(\"LO\", 2)"
   ],
   "metadata": {
    "collapsed": false,
    "ExecuteTime": {
     "start_time": "2023-05-30T15:31:24.987740Z",
     "end_time": "2023-05-30T15:31:25.030381Z"
    }
   }
  },
  {
   "cell_type": "code",
   "execution_count": 8,
   "outputs": [
    {
     "name": "stdout",
     "output_type": "stream",
     "text": [
      "LO: 40 (λx.x)\n"
     ]
    }
   ],
   "source": [
    "test_term(\"LO\", 3)"
   ],
   "metadata": {
    "collapsed": false,
    "ExecuteTime": {
     "start_time": "2023-05-30T15:31:30.550627Z",
     "end_time": "2023-05-30T15:31:30.555786Z"
    }
   }
  },
  {
   "cell_type": "code",
   "execution_count": 9,
   "outputs": [
    {
     "name": "stdout",
     "output_type": "stream",
     "text": [
      "LO: 41 (λx.(λy.y))\n"
     ]
    }
   ],
   "source": [
    "test_term(\"LO\", 4)"
   ],
   "metadata": {
    "collapsed": false,
    "ExecuteTime": {
     "start_time": "2023-05-30T15:31:34.979876Z",
     "end_time": "2023-05-30T15:31:35.023394Z"
    }
   }
  },
  {
   "cell_type": "markdown",
   "source": [
    "### With LI strategy"
   ],
   "metadata": {
    "collapsed": false
   }
  },
  {
   "cell_type": "code",
   "execution_count": 12,
   "outputs": [
    {
     "name": "stdout",
     "output_type": "stream",
     "text": [
      "LI: 63 (λx.(λy.x))\n"
     ]
    }
   ],
   "source": [
    "test_term(\"LI\", 0)"
   ],
   "metadata": {
    "collapsed": false,
    "ExecuteTime": {
     "start_time": "2023-05-30T15:31:53.397473Z",
     "end_time": "2023-05-30T15:31:53.498515Z"
    }
   }
  },
  {
   "cell_type": "code",
   "execution_count": 13,
   "outputs": [
    {
     "name": "stdout",
     "output_type": "stream",
     "text": [
      "LI: 67 (λx.(λy.y))\n"
     ]
    }
   ],
   "source": [
    "test_term(\"LI\", 1)"
   ],
   "metadata": {
    "collapsed": false,
    "ExecuteTime": {
     "start_time": "2023-05-30T15:31:56.580114Z",
     "end_time": "2023-05-30T15:31:56.672742Z"
    }
   }
  },
  {
   "cell_type": "code",
   "execution_count": 14,
   "outputs": [
    {
     "name": "stdout",
     "output_type": "stream",
     "text": [
      "LI: 67 (λx.(λy.x))\n"
     ]
    }
   ],
   "source": [
    "test_term(\"LI\", 2)"
   ],
   "metadata": {
    "collapsed": false,
    "ExecuteTime": {
     "start_time": "2023-05-30T15:31:59.083290Z",
     "end_time": "2023-05-30T15:31:59.178034Z"
    }
   }
  },
  {
   "cell_type": "code",
   "execution_count": 15,
   "outputs": [
    {
     "name": "stdout",
     "output_type": "stream",
     "text": [
      "LI: 69 (λx.x)\n"
     ]
    }
   ],
   "source": [
    "test_term(\"LI\", 3)"
   ],
   "metadata": {
    "collapsed": false,
    "ExecuteTime": {
     "start_time": "2023-05-30T15:32:01.536183Z",
     "end_time": "2023-05-30T15:32:01.628014Z"
    }
   }
  },
  {
   "cell_type": "code",
   "execution_count": 16,
   "outputs": [
    {
     "name": "stdout",
     "output_type": "stream",
     "text": [
      "LI: 71 (λx.(λy.y))\n"
     ]
    }
   ],
   "source": [
    "test_term(\"LI\", 4)"
   ],
   "metadata": {
    "collapsed": false,
    "ExecuteTime": {
     "start_time": "2023-05-30T15:32:04.119629Z",
     "end_time": "2023-05-30T15:32:04.214051Z"
    }
   }
  }
 ],
 "metadata": {
  "kernelspec": {
   "display_name": "Python 3",
   "language": "python",
   "name": "python3"
  },
  "language_info": {
   "codemirror_mode": {
    "name": "ipython",
    "version": 2
   },
   "file_extension": ".py",
   "mimetype": "text/x-python",
   "name": "python",
   "nbconvert_exporter": "python",
   "pygments_lexer": "ipython2",
   "version": "2.7.6"
  }
 },
 "nbformat": 4,
 "nbformat_minor": 0
}
