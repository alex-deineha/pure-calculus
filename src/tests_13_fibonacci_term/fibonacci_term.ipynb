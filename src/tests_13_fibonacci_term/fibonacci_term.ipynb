{
 "cells": [
  {
   "cell_type": "code",
   "execution_count": 2,
   "metadata": {
    "collapsed": true,
    "ExecuteTime": {
     "start_time": "2023-05-18T16:54:53.947150Z",
     "end_time": "2023-05-18T16:54:54.009821Z"
    }
   },
   "outputs": [],
   "source": [
    "import sys\n",
    "from tqdm import tqdm\n",
    "\n",
    "sys.path.append(\"../\")\n",
    "from calculus_path_mod.term_engine import *\n",
    "from calculus_path_mod.reduction_strategy import *\n",
    "from calculus_path_mod.terms import num_comparison, nat_numbers, arithm_ops, combinators\n",
    "\n",
    "from calculus_path_mod.terms.pseudonym import *"
   ]
  },
  {
   "cell_type": "markdown",
   "source": [
    "# Define Fibonacci term\n",
    "An algorithm I took [here](https://whatthefunctional.wordpress.com/2019/02/21/a-brief-introduction-to-the-%CE%BB-calculus-part-2/)"
   ],
   "metadata": {
    "collapsed": false
   }
  },
  {
   "cell_type": "code",
   "execution_count": 3,
   "outputs": [],
   "source": [
    "def fib_term():\n",
    "    # fib_iter = λfib_iter'.\n",
    "    #        λn.( (is_zero n) zero\n",
    "    #        ((is_zero (predecessor n)) one (add (fib_iter' (predecessor n)) (fib_iter' (predecessor (predecessor n))) ))\n",
    "    #        )\n",
    "    fib_iter, n = Var(), Var()\n",
    "    fib_iter_, n_ = Atom(fib_iter), Atom(n)\n",
    "\n",
    "    inner_term_1 = App(fib_iter_, App(arithm_ops.pred_term(), n_))\n",
    "    inner_term_2 = App(fib_iter_, App(arithm_ops.pred_term(), App(arithm_ops.pred_term(), n_)))\n",
    "    inner_term_3 = App(num_comparison.iszero_term(), App(arithm_ops.pred_term(), n_))\n",
    "    super_inner_term = multi_app_term(inner_term_3, nat_numbers.num_term(1),\n",
    "                                      multi_app_term(arithm_ops.plus_term(), inner_term_1, inner_term_2))\n",
    "    body_term = multi_app_term(App(num_comparison.iszero_term(), n_), nat_numbers.num_term(0), super_inner_term)\n",
    "    body_term = Lambda(n, body_term)\n",
    "    fib_iter_term = Lambda(fib_iter, body_term)\n",
    "\n",
    "    return Application(combinators.y_term(), fib_iter_term)"
   ],
   "metadata": {
    "collapsed": false,
    "ExecuteTime": {
     "start_time": "2023-05-18T16:54:55.948392Z",
     "end_time": "2023-05-18T16:54:55.964119Z"
    }
   }
  },
  {
   "cell_type": "code",
   "execution_count": 4,
   "outputs": [],
   "source": [
    "strategy = LOStrategy()\n",
    "\n",
    "fib_0 = App(fib_term(), nat_numbers.num_term(0))\n",
    "fib_1 = App(fib_term(), nat_numbers.num_term(1))\n",
    "fib_2 = App(fib_term(), nat_numbers.num_term(2))\n",
    "fib_3 = App(fib_term(), nat_numbers.num_term(3))\n",
    "fib_4 = App(fib_term(), nat_numbers.num_term(4))"
   ],
   "metadata": {
    "collapsed": false,
    "ExecuteTime": {
     "start_time": "2023-05-18T17:03:03.387088Z",
     "end_time": "2023-05-18T17:03:03.451022Z"
    }
   }
  },
  {
   "cell_type": "code",
   "execution_count": 5,
   "outputs": [
    {
     "name": "stdout",
     "output_type": "stream",
     "text": [
      "steps 9\n",
      "(λx.(λy.y))\n"
     ]
    }
   ],
   "source": [
    "norm_term, steps = fib_0.normalize(strategy, is_limited=False)\n",
    "print(f\"steps {steps}\\n{norm_term.funky_str()}\")"
   ],
   "metadata": {
    "collapsed": false,
    "ExecuteTime": {
     "start_time": "2023-05-18T17:04:12.691618Z",
     "end_time": "2023-05-18T17:04:12.937764Z"
    }
   }
  },
  {
   "cell_type": "code",
   "execution_count": 6,
   "outputs": [
    {
     "name": "stdout",
     "output_type": "stream",
     "text": [
      "steps 31\n",
      "(λx.(λy.(x y)))\n"
     ]
    }
   ],
   "source": [
    "norm_term, steps = fib_1.normalize(strategy, is_limited=False)\n",
    "print(f\"steps {steps}\\n{norm_term.funky_str()}\")"
   ],
   "metadata": {
    "collapsed": false,
    "ExecuteTime": {
     "start_time": "2023-05-18T17:04:26.339087Z",
     "end_time": "2023-05-18T17:04:26.535208Z"
    }
   }
  },
  {
   "cell_type": "code",
   "execution_count": 7,
   "outputs": [
    {
     "name": "stdout",
     "output_type": "stream",
     "text": [
      "steps 162\n",
      "(λx.(λy.(x y)))\n"
     ]
    }
   ],
   "source": [
    "norm_term, steps = fib_2.normalize(strategy, is_limited=False)\n",
    "print(f\"steps {steps}\\n{norm_term.funky_str()}\")"
   ],
   "metadata": {
    "collapsed": false,
    "ExecuteTime": {
     "start_time": "2023-05-18T17:04:37.997898Z",
     "end_time": "2023-05-18T17:04:40.371723Z"
    }
   }
  },
  {
   "cell_type": "code",
   "execution_count": 8,
   "outputs": [
    {
     "name": "stdout",
     "output_type": "stream",
     "text": [
      "steps 486\n",
      "(λx.(λy.(x (x y))))\n"
     ]
    }
   ],
   "source": [
    "norm_term, steps = fib_3.normalize(strategy, is_limited=False)\n",
    "print(f\"steps {steps}\\n{norm_term.funky_str()}\")"
   ],
   "metadata": {
    "collapsed": false,
    "ExecuteTime": {
     "start_time": "2023-05-18T17:04:50.300147Z",
     "end_time": "2023-05-18T17:05:03.521744Z"
    }
   }
  },
  {
   "cell_type": "code",
   "execution_count": 9,
   "outputs": [
    {
     "name": "stdout",
     "output_type": "stream",
     "text": [
      "steps 1355\n",
      "(λx.(λy.(x (x (x y)))))\n"
     ]
    }
   ],
   "source": [
    "norm_term, steps = fib_4.normalize(strategy, is_limited=False)\n",
    "print(f\"steps {steps}\\n{norm_term.funky_str()}\")"
   ],
   "metadata": {
    "collapsed": false,
    "ExecuteTime": {
     "start_time": "2023-05-18T17:05:16.358260Z",
     "end_time": "2023-05-18T17:06:04.017088Z"
    }
   }
  },
  {
   "cell_type": "code",
   "execution_count": 10,
   "outputs": [
    {
     "name": "stdout",
     "output_type": "stream",
     "text": [
      "steps 3333\n",
      "(λx.(λy.(x (x (x (x (x y)))))))\n"
     ]
    }
   ],
   "source": [
    "fib_5 = App(fib_term(), nat_numbers.num_term(5))\n",
    "norm_term, steps = fib_5.normalize(strategy, is_limited=False)\n",
    "print(f\"steps {steps}\\n{norm_term.funky_str()}\")"
   ],
   "metadata": {
    "collapsed": false,
    "ExecuteTime": {
     "start_time": "2023-05-18T17:08:54.380988Z",
     "end_time": "2023-05-18T17:11:56.925797Z"
    }
   }
  },
  {
   "cell_type": "markdown",
   "source": [
    "### With LI strategy"
   ],
   "metadata": {
    "collapsed": false
   }
  },
  {
   "cell_type": "code",
   "execution_count": 11,
   "outputs": [],
   "source": [
    "strategy = LIStrategy()"
   ],
   "metadata": {
    "collapsed": false,
    "ExecuteTime": {
     "start_time": "2023-05-18T18:55:05.680970Z",
     "end_time": "2023-05-18T18:55:05.685046Z"
    }
   }
  },
  {
   "cell_type": "code",
   "execution_count": null,
   "outputs": [],
   "source": [
    "norm_term, steps = fib_0.normalize(strategy, is_limited=False)\n",
    "print(f\"steps {steps}\\n{norm_term.funky_str()}\")"
   ],
   "metadata": {
    "collapsed": false,
    "pycharm": {
     "is_executing": true
    }
   }
  },
  {
   "cell_type": "code",
   "execution_count": null,
   "outputs": [],
   "source": [
    "norm_term, steps = fib_1.normalize(strategy, is_limited=False)\n",
    "print(f\"steps {steps}\\n{norm_term.funky_str()}\")"
   ],
   "metadata": {
    "collapsed": false
   }
  }
 ],
 "metadata": {
  "kernelspec": {
   "display_name": "Python 3",
   "language": "python",
   "name": "python3"
  },
  "language_info": {
   "codemirror_mode": {
    "name": "ipython",
    "version": 2
   },
   "file_extension": ".py",
   "mimetype": "text/x-python",
   "name": "python",
   "nbconvert_exporter": "python",
   "pygments_lexer": "ipython2",
   "version": "2.7.6"
  }
 },
 "nbformat": 4,
 "nbformat_minor": 0
}
