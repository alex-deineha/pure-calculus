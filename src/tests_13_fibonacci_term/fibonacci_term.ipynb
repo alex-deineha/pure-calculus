{
 "cells": [
  {
   "cell_type": "code",
   "execution_count": 2,
   "metadata": {
    "collapsed": true,
    "ExecuteTime": {
     "start_time": "2023-05-18T16:54:53.947150Z",
     "end_time": "2023-05-18T16:54:54.009821Z"
    }
   },
   "outputs": [],
   "source": [
    "import sys\n",
    "from tqdm import tqdm\n",
    "\n",
    "sys.path.append(\"../\")\n",
    "from calculus_path_mod.term_engine import *\n",
    "from calculus_path_mod.reduction_strategy import *\n",
    "from calculus_path_mod.terms import num_comparison, nat_numbers, arithm_ops, combinators\n",
    "\n",
    "from calculus_path_mod.terms.pseudonym import *"
   ]
  },
  {
   "cell_type": "markdown",
   "source": [
    "# Define Fibonacci term\n",
    "An algorithm I took [here](https://whatthefunctional.wordpress.com/2019/02/21/a-brief-introduction-to-the-%CE%BB-calculus-part-2/)"
   ],
   "metadata": {
    "collapsed": false
   }
  },
  {
   "cell_type": "code",
   "execution_count": 3,
   "outputs": [],
   "source": [
    "def fib_term():\n",
    "    # fib_iter = λfib_iter'.\n",
    "    #        λn.( (is_zero n) zero\n",
    "    #        ((is_zero (predecessor n)) one (add (fib_iter' (predecessor n)) (fib_iter' (predecessor (predecessor n))) ))\n",
    "    #        )\n",
    "    fib_iter, n = Var(), Var()\n",
    "    fib_iter_, n_ = Atom(fib_iter), Atom(n)\n",
    "\n",
    "    inner_term_1 = App(fib_iter_, App(arithm_ops.pred_term(), n_))\n",
    "    inner_term_2 = App(fib_iter_, App(arithm_ops.pred_term(), App(arithm_ops.pred_term(), n_)))\n",
    "    inner_term_3 = App(num_comparison.iszero_term(), App(arithm_ops.pred_term(), n_))\n",
    "    super_inner_term = multi_app_term(inner_term_3, nat_numbers.num_term(1),\n",
    "                                      multi_app_term(arithm_ops.plus_term(), inner_term_1, inner_term_2))\n",
    "    body_term = multi_app_term(App(num_comparison.iszero_term(), n_), nat_numbers.num_term(0), super_inner_term)\n",
    "    body_term = Lambda(n, body_term)\n",
    "    fib_iter_term = Lambda(fib_iter, body_term)\n",
    "\n",
    "    return Application(combinators.y_term(), fib_iter_term)"
   ],
   "metadata": {
    "collapsed": false,
    "ExecuteTime": {
     "start_time": "2023-05-18T16:54:55.948392Z",
     "end_time": "2023-05-18T16:54:55.964119Z"
    }
   }
  },
  {
   "cell_type": "code",
   "execution_count": 4,
   "outputs": [],
   "source": [
    "strategy = LOStrategy()\n",
    "\n",
    "fib_0 = App(fib_term(), nat_numbers.num_term(0))\n",
    "fib_1 = App(fib_term(), nat_numbers.num_term(1))\n",
    "fib_2 = App(fib_term(), nat_numbers.num_term(2))\n",
    "fib_3 = App(fib_term(), nat_numbers.num_term(3))\n",
    "fib_4 = App(fib_term(), nat_numbers.num_term(4))"
   ],
   "metadata": {
    "collapsed": false,
    "ExecuteTime": {
     "start_time": "2023-05-18T17:03:03.387088Z",
     "end_time": "2023-05-18T17:03:03.451022Z"
    }
   }
  },
  {
   "cell_type": "code",
   "execution_count": 5,
   "outputs": [
    {
     "name": "stdout",
     "output_type": "stream",
     "text": [
      "steps 9\n",
      "(λx.(λy.y))\n"
     ]
    }
   ],
   "source": [
    "norm_term, steps = fib_0.normalize(strategy, is_limited=False)\n",
    "print(f\"steps {steps}\\n{norm_term.funky_str()}\")"
   ],
   "metadata": {
    "collapsed": false,
    "ExecuteTime": {
     "start_time": "2023-05-18T17:04:12.691618Z",
     "end_time": "2023-05-18T17:04:12.937764Z"
    }
   }
  },
  {
   "cell_type": "code",
   "execution_count": 6,
   "outputs": [
    {
     "name": "stdout",
     "output_type": "stream",
     "text": [
      "steps 31\n",
      "(λx.(λy.(x y)))\n"
     ]
    }
   ],
   "source": [
    "norm_term, steps = fib_1.normalize(strategy, is_limited=False)\n",
    "print(f\"steps {steps}\\n{norm_term.funky_str()}\")"
   ],
   "metadata": {
    "collapsed": false,
    "ExecuteTime": {
     "start_time": "2023-05-18T17:04:26.339087Z",
     "end_time": "2023-05-18T17:04:26.535208Z"
    }
   }
  },
  {
   "cell_type": "code",
   "execution_count": 7,
   "outputs": [
    {
     "name": "stdout",
     "output_type": "stream",
     "text": [
      "steps 162\n",
      "(λx.(λy.(x y)))\n"
     ]
    }
   ],
   "source": [
    "norm_term, steps = fib_2.normalize(strategy, is_limited=False)\n",
    "print(f\"steps {steps}\\n{norm_term.funky_str()}\")"
   ],
   "metadata": {
    "collapsed": false,
    "ExecuteTime": {
     "start_time": "2023-05-18T17:04:37.997898Z",
     "end_time": "2023-05-18T17:04:40.371723Z"
    }
   }
  },
  {
   "cell_type": "code",
   "execution_count": 8,
   "outputs": [
    {
     "name": "stdout",
     "output_type": "stream",
     "text": [
      "steps 486\n",
      "(λx.(λy.(x (x y))))\n"
     ]
    }
   ],
   "source": [
    "norm_term, steps = fib_3.normalize(strategy, is_limited=False)\n",
    "print(f\"steps {steps}\\n{norm_term.funky_str()}\")"
   ],
   "metadata": {
    "collapsed": false,
    "ExecuteTime": {
     "start_time": "2023-05-18T17:04:50.300147Z",
     "end_time": "2023-05-18T17:05:03.521744Z"
    }
   }
  },
  {
   "cell_type": "code",
   "execution_count": 9,
   "outputs": [
    {
     "name": "stdout",
     "output_type": "stream",
     "text": [
      "steps 1355\n",
      "(λx.(λy.(x (x (x y)))))\n"
     ]
    }
   ],
   "source": [
    "norm_term, steps = fib_4.normalize(strategy, is_limited=False)\n",
    "print(f\"steps {steps}\\n{norm_term.funky_str()}\")"
   ],
   "metadata": {
    "collapsed": false,
    "ExecuteTime": {
     "start_time": "2023-05-18T17:05:16.358260Z",
     "end_time": "2023-05-18T17:06:04.017088Z"
    }
   }
  },
  {
   "cell_type": "code",
   "execution_count": 10,
   "outputs": [
    {
     "name": "stdout",
     "output_type": "stream",
     "text": [
      "steps 3333\n",
      "(λx.(λy.(x (x (x (x (x y)))))))\n"
     ]
    }
   ],
   "source": [
    "fib_5 = App(fib_term(), nat_numbers.num_term(5))\n",
    "norm_term, steps = fib_5.normalize(strategy, is_limited=False)\n",
    "print(f\"steps {steps}\\n{norm_term.funky_str()}\")"
   ],
   "metadata": {
    "collapsed": false,
    "ExecuteTime": {
     "start_time": "2023-05-18T17:08:54.380988Z",
     "end_time": "2023-05-18T17:11:56.925797Z"
    }
   }
  },
  {
   "cell_type": "markdown",
   "source": [
    "### With LI strategy"
   ],
   "metadata": {
    "collapsed": false
   }
  },
  {
   "cell_type": "code",
   "execution_count": 11,
   "outputs": [],
   "source": [
    "strategy = LIStrategy()"
   ],
   "metadata": {
    "collapsed": false,
    "ExecuteTime": {
     "start_time": "2023-05-18T18:55:05.680970Z",
     "end_time": "2023-05-18T18:55:05.685046Z"
    }
   }
  },
  {
   "cell_type": "code",
   "execution_count": 12,
   "outputs": [
    {
     "ename": "KeyboardInterrupt",
     "evalue": "",
     "output_type": "error",
     "traceback": [
      "\u001B[1;31m---------------------------------------------------------------------------\u001B[0m",
      "\u001B[1;31mKeyboardInterrupt\u001B[0m                         Traceback (most recent call last)",
      "Cell \u001B[1;32mIn[12], line 1\u001B[0m\n\u001B[1;32m----> 1\u001B[0m norm_term, steps \u001B[38;5;241m=\u001B[39m \u001B[43mfib_0\u001B[49m\u001B[38;5;241;43m.\u001B[39;49m\u001B[43mnormalize\u001B[49m\u001B[43m(\u001B[49m\u001B[43mstrategy\u001B[49m\u001B[43m,\u001B[49m\u001B[43m \u001B[49m\u001B[43mis_limited\u001B[49m\u001B[38;5;241;43m=\u001B[39;49m\u001B[38;5;28;43;01mFalse\u001B[39;49;00m\u001B[43m)\u001B[49m\n\u001B[0;32m      2\u001B[0m \u001B[38;5;28mprint\u001B[39m(\u001B[38;5;124mf\u001B[39m\u001B[38;5;124m\"\u001B[39m\u001B[38;5;124msteps \u001B[39m\u001B[38;5;132;01m{\u001B[39;00msteps\u001B[38;5;132;01m}\u001B[39;00m\u001B[38;5;130;01m\\n\u001B[39;00m\u001B[38;5;132;01m{\u001B[39;00mnorm_term\u001B[38;5;241m.\u001B[39mfunky_str()\u001B[38;5;132;01m}\u001B[39;00m\u001B[38;5;124m\"\u001B[39m)\n",
      "File \u001B[1;32mD:\\documents\\python_projects\\pure-calculus\\src\\calculus_path_mod\\term_engine.py:202\u001B[0m, in \u001B[0;36mTerm.normalize\u001B[1;34m(self, strategy, is_limited)\u001B[0m\n\u001B[0;32m    200\u001B[0m count_steps \u001B[38;5;241m=\u001B[39m \u001B[38;5;241m0\u001B[39m\n\u001B[0;32m    201\u001B[0m \u001B[38;5;28;01mwhile\u001B[39;00m \u001B[38;5;28mlen\u001B[39m(term\u001B[38;5;241m.\u001B[39mredexes) \u001B[38;5;241m>\u001B[39m \u001B[38;5;241m0\u001B[39m:\n\u001B[1;32m--> 202\u001B[0m     term \u001B[38;5;241m=\u001B[39m \u001B[43mterm\u001B[49m\u001B[38;5;241;43m.\u001B[39;49m\u001B[43m_beta_conversion\u001B[49m\u001B[43m(\u001B[49m\u001B[43mstrategy\u001B[49m\u001B[43m)\u001B[49m\u001B[38;5;241m.\u001B[39m_update_bound_vars()\n\u001B[0;32m    203\u001B[0m     count_steps \u001B[38;5;241m+\u001B[39m\u001B[38;5;241m=\u001B[39m \u001B[38;5;241m1\u001B[39m\n\u001B[0;32m    204\u001B[0m     \u001B[38;5;66;03m# computation limitation\u001B[39;00m\n",
      "File \u001B[1;32mD:\\documents\\python_projects\\pure-calculus\\src\\calculus_path_mod\\term_engine.py:214\u001B[0m, in \u001B[0;36mTerm._beta_conversion\u001B[1;34m(self, strategy)\u001B[0m\n\u001B[0;32m    209\u001B[0m \u001B[38;5;28;01mdef\u001B[39;00m \u001B[38;5;21m_beta_conversion\u001B[39m(\u001B[38;5;28mself\u001B[39m, strategy):\n\u001B[0;32m    210\u001B[0m \u001B[38;5;250m    \u001B[39m\u001B[38;5;124;03m\"\"\"\u001B[39;00m\n\u001B[0;32m    211\u001B[0m \u001B[38;5;124;03m    :param strategy: OneStepStrategy\u001B[39;00m\n\u001B[0;32m    212\u001B[0m \u001B[38;5;124;03m    :return: term with redex eliminated using the given strategy\u001B[39;00m\n\u001B[0;32m    213\u001B[0m \u001B[38;5;124;03m    \"\"\"\u001B[39;00m\n\u001B[1;32m--> 214\u001B[0m     index \u001B[38;5;241m=\u001B[39m \u001B[43mstrategy\u001B[49m\u001B[38;5;241;43m.\u001B[39;49m\u001B[43mredex_index\u001B[49m\u001B[43m(\u001B[49m\u001B[38;5;28;43mself\u001B[39;49m\u001B[43m)\u001B[49m\n\u001B[0;32m    215\u001B[0m     subterm_ \u001B[38;5;241m=\u001B[39m \u001B[38;5;28mself\u001B[39m\u001B[38;5;241m.\u001B[39msubterm(index)\n\u001B[0;32m    216\u001B[0m     reduced_term \u001B[38;5;241m=\u001B[39m subterm_\u001B[38;5;241m.\u001B[39m_remove_outer_redex()\n",
      "File \u001B[1;32mD:\\documents\\python_projects\\pure-calculus\\src\\calculus_path_mod\\reduction_strategy.py:45\u001B[0m, in \u001B[0;36mLIStrategy.redex_index\u001B[1;34m(self, term, init_index)\u001B[0m\n\u001B[0;32m     43\u001B[0m \u001B[38;5;28;01mif\u001B[39;00m term\u001B[38;5;241m.\u001B[39mkind \u001B[38;5;241m==\u001B[39m \u001B[38;5;124m\"\u001B[39m\u001B[38;5;124mapplication\u001B[39m\u001B[38;5;124m\"\u001B[39m:\n\u001B[0;32m     44\u001B[0m     \u001B[38;5;28;01mif\u001B[39;00m \u001B[38;5;28mlen\u001B[39m(term\u001B[38;5;241m.\u001B[39m_data[\u001B[38;5;241m0\u001B[39m]\u001B[38;5;241m.\u001B[39mredexes) \u001B[38;5;241m!=\u001B[39m \u001B[38;5;241m0\u001B[39m:\n\u001B[1;32m---> 45\u001B[0m         \u001B[38;5;28;01mreturn\u001B[39;00m \u001B[38;5;28;43mself\u001B[39;49m\u001B[38;5;241;43m.\u001B[39;49m\u001B[43mredex_index\u001B[49m\u001B[43m(\u001B[49m\u001B[43mterm\u001B[49m\u001B[38;5;241;43m.\u001B[39;49m\u001B[43m_data\u001B[49m\u001B[43m[\u001B[49m\u001B[38;5;241;43m0\u001B[39;49m\u001B[43m]\u001B[49m\u001B[43m,\u001B[49m\u001B[43m \u001B[49m\u001B[43minit_index\u001B[49m\u001B[43m \u001B[49m\u001B[38;5;241;43m+\u001B[39;49m\u001B[43m \u001B[49m\u001B[38;5;241;43m1\u001B[39;49m\u001B[43m)\u001B[49m\n\u001B[0;32m     46\u001B[0m     \u001B[38;5;28;01melif\u001B[39;00m \u001B[38;5;28mlen\u001B[39m(term\u001B[38;5;241m.\u001B[39m_data[\u001B[38;5;241m1\u001B[39m]\u001B[38;5;241m.\u001B[39mredexes) \u001B[38;5;241m!=\u001B[39m \u001B[38;5;241m0\u001B[39m:\n\u001B[0;32m     47\u001B[0m         \u001B[38;5;28;01mreturn\u001B[39;00m \u001B[38;5;28mself\u001B[39m\u001B[38;5;241m.\u001B[39mredex_index(term\u001B[38;5;241m.\u001B[39m_data[\u001B[38;5;241m1\u001B[39m],\n\u001B[0;32m     48\u001B[0m                                 init_index \u001B[38;5;241m+\u001B[39m term\u001B[38;5;241m.\u001B[39m_data[\u001B[38;5;241m0\u001B[39m]\u001B[38;5;241m.\u001B[39mvertices_number \u001B[38;5;241m+\u001B[39m \u001B[38;5;241m1\u001B[39m)\n",
      "File \u001B[1;32mD:\\documents\\python_projects\\pure-calculus\\src\\calculus_path_mod\\reduction_strategy.py:45\u001B[0m, in \u001B[0;36mLIStrategy.redex_index\u001B[1;34m(self, term, init_index)\u001B[0m\n\u001B[0;32m     43\u001B[0m \u001B[38;5;28;01mif\u001B[39;00m term\u001B[38;5;241m.\u001B[39mkind \u001B[38;5;241m==\u001B[39m \u001B[38;5;124m\"\u001B[39m\u001B[38;5;124mapplication\u001B[39m\u001B[38;5;124m\"\u001B[39m:\n\u001B[0;32m     44\u001B[0m     \u001B[38;5;28;01mif\u001B[39;00m \u001B[38;5;28mlen\u001B[39m(term\u001B[38;5;241m.\u001B[39m_data[\u001B[38;5;241m0\u001B[39m]\u001B[38;5;241m.\u001B[39mredexes) \u001B[38;5;241m!=\u001B[39m \u001B[38;5;241m0\u001B[39m:\n\u001B[1;32m---> 45\u001B[0m         \u001B[38;5;28;01mreturn\u001B[39;00m \u001B[38;5;28;43mself\u001B[39;49m\u001B[38;5;241;43m.\u001B[39;49m\u001B[43mredex_index\u001B[49m\u001B[43m(\u001B[49m\u001B[43mterm\u001B[49m\u001B[38;5;241;43m.\u001B[39;49m\u001B[43m_data\u001B[49m\u001B[43m[\u001B[49m\u001B[38;5;241;43m0\u001B[39;49m\u001B[43m]\u001B[49m\u001B[43m,\u001B[49m\u001B[43m \u001B[49m\u001B[43minit_index\u001B[49m\u001B[43m \u001B[49m\u001B[38;5;241;43m+\u001B[39;49m\u001B[43m \u001B[49m\u001B[38;5;241;43m1\u001B[39;49m\u001B[43m)\u001B[49m\n\u001B[0;32m     46\u001B[0m     \u001B[38;5;28;01melif\u001B[39;00m \u001B[38;5;28mlen\u001B[39m(term\u001B[38;5;241m.\u001B[39m_data[\u001B[38;5;241m1\u001B[39m]\u001B[38;5;241m.\u001B[39mredexes) \u001B[38;5;241m!=\u001B[39m \u001B[38;5;241m0\u001B[39m:\n\u001B[0;32m     47\u001B[0m         \u001B[38;5;28;01mreturn\u001B[39;00m \u001B[38;5;28mself\u001B[39m\u001B[38;5;241m.\u001B[39mredex_index(term\u001B[38;5;241m.\u001B[39m_data[\u001B[38;5;241m1\u001B[39m],\n\u001B[0;32m     48\u001B[0m                                 init_index \u001B[38;5;241m+\u001B[39m term\u001B[38;5;241m.\u001B[39m_data[\u001B[38;5;241m0\u001B[39m]\u001B[38;5;241m.\u001B[39mvertices_number \u001B[38;5;241m+\u001B[39m \u001B[38;5;241m1\u001B[39m)\n",
      "File \u001B[1;32mD:\\documents\\python_projects\\pure-calculus\\src\\calculus_path_mod\\reduction_strategy.py:51\u001B[0m, in \u001B[0;36mLIStrategy.redex_index\u001B[1;34m(self, term, init_index)\u001B[0m\n\u001B[0;32m     49\u001B[0m     \u001B[38;5;28;01mreturn\u001B[39;00m init_index \u001B[38;5;241m+\u001B[39m \u001B[38;5;241m1\u001B[39m\n\u001B[0;32m     50\u001B[0m \u001B[38;5;66;03m# self is Abstraction:\u001B[39;00m\n\u001B[1;32m---> 51\u001B[0m \u001B[38;5;28;01mreturn\u001B[39;00m \u001B[38;5;28;43mself\u001B[39;49m\u001B[38;5;241;43m.\u001B[39;49m\u001B[43mredex_index\u001B[49m\u001B[43m(\u001B[49m\u001B[43mterm\u001B[49m\u001B[38;5;241;43m.\u001B[39;49m\u001B[43m_data\u001B[49m\u001B[43m[\u001B[49m\u001B[38;5;241;43m1\u001B[39;49m\u001B[43m]\u001B[49m\u001B[43m,\u001B[49m\u001B[43m \u001B[49m\u001B[43minit_index\u001B[49m\u001B[43m \u001B[49m\u001B[38;5;241;43m+\u001B[39;49m\u001B[43m \u001B[49m\u001B[38;5;241;43m1\u001B[39;49m\u001B[43m)\u001B[49m\n",
      "File \u001B[1;32mD:\\documents\\python_projects\\pure-calculus\\src\\calculus_path_mod\\reduction_strategy.py:47\u001B[0m, in \u001B[0;36mLIStrategy.redex_index\u001B[1;34m(self, term, init_index)\u001B[0m\n\u001B[0;32m     45\u001B[0m         \u001B[38;5;28;01mreturn\u001B[39;00m \u001B[38;5;28mself\u001B[39m\u001B[38;5;241m.\u001B[39mredex_index(term\u001B[38;5;241m.\u001B[39m_data[\u001B[38;5;241m0\u001B[39m], init_index \u001B[38;5;241m+\u001B[39m \u001B[38;5;241m1\u001B[39m)\n\u001B[0;32m     46\u001B[0m     \u001B[38;5;28;01melif\u001B[39;00m \u001B[38;5;28mlen\u001B[39m(term\u001B[38;5;241m.\u001B[39m_data[\u001B[38;5;241m1\u001B[39m]\u001B[38;5;241m.\u001B[39mredexes) \u001B[38;5;241m!=\u001B[39m \u001B[38;5;241m0\u001B[39m:\n\u001B[1;32m---> 47\u001B[0m         \u001B[38;5;28;01mreturn\u001B[39;00m \u001B[38;5;28;43mself\u001B[39;49m\u001B[38;5;241;43m.\u001B[39;49m\u001B[43mredex_index\u001B[49m\u001B[43m(\u001B[49m\u001B[43mterm\u001B[49m\u001B[38;5;241;43m.\u001B[39;49m\u001B[43m_data\u001B[49m\u001B[43m[\u001B[49m\u001B[38;5;241;43m1\u001B[39;49m\u001B[43m]\u001B[49m\u001B[43m,\u001B[49m\n\u001B[0;32m     48\u001B[0m \u001B[43m                                \u001B[49m\u001B[43minit_index\u001B[49m\u001B[43m \u001B[49m\u001B[38;5;241;43m+\u001B[39;49m\u001B[43m \u001B[49m\u001B[43mterm\u001B[49m\u001B[38;5;241;43m.\u001B[39;49m\u001B[43m_data\u001B[49m\u001B[43m[\u001B[49m\u001B[38;5;241;43m0\u001B[39;49m\u001B[43m]\u001B[49m\u001B[38;5;241;43m.\u001B[39;49m\u001B[43mvertices_number\u001B[49m\u001B[43m \u001B[49m\u001B[38;5;241;43m+\u001B[39;49m\u001B[43m \u001B[49m\u001B[38;5;241;43m1\u001B[39;49m\u001B[43m)\u001B[49m\n\u001B[0;32m     49\u001B[0m     \u001B[38;5;28;01mreturn\u001B[39;00m init_index \u001B[38;5;241m+\u001B[39m \u001B[38;5;241m1\u001B[39m\n\u001B[0;32m     50\u001B[0m \u001B[38;5;66;03m# self is Abstraction:\u001B[39;00m\n",
      "File \u001B[1;32mD:\\documents\\python_projects\\pure-calculus\\src\\calculus_path_mod\\reduction_strategy.py:47\u001B[0m, in \u001B[0;36mLIStrategy.redex_index\u001B[1;34m(self, term, init_index)\u001B[0m\n\u001B[0;32m     45\u001B[0m         \u001B[38;5;28;01mreturn\u001B[39;00m \u001B[38;5;28mself\u001B[39m\u001B[38;5;241m.\u001B[39mredex_index(term\u001B[38;5;241m.\u001B[39m_data[\u001B[38;5;241m0\u001B[39m], init_index \u001B[38;5;241m+\u001B[39m \u001B[38;5;241m1\u001B[39m)\n\u001B[0;32m     46\u001B[0m     \u001B[38;5;28;01melif\u001B[39;00m \u001B[38;5;28mlen\u001B[39m(term\u001B[38;5;241m.\u001B[39m_data[\u001B[38;5;241m1\u001B[39m]\u001B[38;5;241m.\u001B[39mredexes) \u001B[38;5;241m!=\u001B[39m \u001B[38;5;241m0\u001B[39m:\n\u001B[1;32m---> 47\u001B[0m         \u001B[38;5;28;01mreturn\u001B[39;00m \u001B[38;5;28;43mself\u001B[39;49m\u001B[38;5;241;43m.\u001B[39;49m\u001B[43mredex_index\u001B[49m\u001B[43m(\u001B[49m\u001B[43mterm\u001B[49m\u001B[38;5;241;43m.\u001B[39;49m\u001B[43m_data\u001B[49m\u001B[43m[\u001B[49m\u001B[38;5;241;43m1\u001B[39;49m\u001B[43m]\u001B[49m\u001B[43m,\u001B[49m\n\u001B[0;32m     48\u001B[0m \u001B[43m                                \u001B[49m\u001B[43minit_index\u001B[49m\u001B[43m \u001B[49m\u001B[38;5;241;43m+\u001B[39;49m\u001B[43m \u001B[49m\u001B[43mterm\u001B[49m\u001B[38;5;241;43m.\u001B[39;49m\u001B[43m_data\u001B[49m\u001B[43m[\u001B[49m\u001B[38;5;241;43m0\u001B[39;49m\u001B[43m]\u001B[49m\u001B[38;5;241;43m.\u001B[39;49m\u001B[43mvertices_number\u001B[49m\u001B[43m \u001B[49m\u001B[38;5;241;43m+\u001B[39;49m\u001B[43m \u001B[49m\u001B[38;5;241;43m1\u001B[39;49m\u001B[43m)\u001B[49m\n\u001B[0;32m     49\u001B[0m     \u001B[38;5;28;01mreturn\u001B[39;00m init_index \u001B[38;5;241m+\u001B[39m \u001B[38;5;241m1\u001B[39m\n\u001B[0;32m     50\u001B[0m \u001B[38;5;66;03m# self is Abstraction:\u001B[39;00m\n",
      "    \u001B[1;31m[... skipping similar frames: LIStrategy.redex_index at line 47 (341 times)]\u001B[0m\n",
      "File \u001B[1;32mD:\\documents\\python_projects\\pure-calculus\\src\\calculus_path_mod\\reduction_strategy.py:47\u001B[0m, in \u001B[0;36mLIStrategy.redex_index\u001B[1;34m(self, term, init_index)\u001B[0m\n\u001B[0;32m     45\u001B[0m         \u001B[38;5;28;01mreturn\u001B[39;00m \u001B[38;5;28mself\u001B[39m\u001B[38;5;241m.\u001B[39mredex_index(term\u001B[38;5;241m.\u001B[39m_data[\u001B[38;5;241m0\u001B[39m], init_index \u001B[38;5;241m+\u001B[39m \u001B[38;5;241m1\u001B[39m)\n\u001B[0;32m     46\u001B[0m     \u001B[38;5;28;01melif\u001B[39;00m \u001B[38;5;28mlen\u001B[39m(term\u001B[38;5;241m.\u001B[39m_data[\u001B[38;5;241m1\u001B[39m]\u001B[38;5;241m.\u001B[39mredexes) \u001B[38;5;241m!=\u001B[39m \u001B[38;5;241m0\u001B[39m:\n\u001B[1;32m---> 47\u001B[0m         \u001B[38;5;28;01mreturn\u001B[39;00m \u001B[38;5;28;43mself\u001B[39;49m\u001B[38;5;241;43m.\u001B[39;49m\u001B[43mredex_index\u001B[49m\u001B[43m(\u001B[49m\u001B[43mterm\u001B[49m\u001B[38;5;241;43m.\u001B[39;49m\u001B[43m_data\u001B[49m\u001B[43m[\u001B[49m\u001B[38;5;241;43m1\u001B[39;49m\u001B[43m]\u001B[49m\u001B[43m,\u001B[49m\n\u001B[0;32m     48\u001B[0m \u001B[43m                                \u001B[49m\u001B[43minit_index\u001B[49m\u001B[43m \u001B[49m\u001B[38;5;241;43m+\u001B[39;49m\u001B[43m \u001B[49m\u001B[43mterm\u001B[49m\u001B[38;5;241;43m.\u001B[39;49m\u001B[43m_data\u001B[49m\u001B[43m[\u001B[49m\u001B[38;5;241;43m0\u001B[39;49m\u001B[43m]\u001B[49m\u001B[38;5;241;43m.\u001B[39;49m\u001B[43mvertices_number\u001B[49m\u001B[43m \u001B[49m\u001B[38;5;241;43m+\u001B[39;49m\u001B[43m \u001B[49m\u001B[38;5;241;43m1\u001B[39;49m\u001B[43m)\u001B[49m\n\u001B[0;32m     49\u001B[0m     \u001B[38;5;28;01mreturn\u001B[39;00m init_index \u001B[38;5;241m+\u001B[39m \u001B[38;5;241m1\u001B[39m\n\u001B[0;32m     50\u001B[0m \u001B[38;5;66;03m# self is Abstraction:\u001B[39;00m\n",
      "File \u001B[1;32mD:\\documents\\python_projects\\pure-calculus\\src\\calculus_path_mod\\reduction_strategy.py:46\u001B[0m, in \u001B[0;36mLIStrategy.redex_index\u001B[1;34m(self, term, init_index)\u001B[0m\n\u001B[0;32m     44\u001B[0m \u001B[38;5;28;01mif\u001B[39;00m \u001B[38;5;28mlen\u001B[39m(term\u001B[38;5;241m.\u001B[39m_data[\u001B[38;5;241m0\u001B[39m]\u001B[38;5;241m.\u001B[39mredexes) \u001B[38;5;241m!=\u001B[39m \u001B[38;5;241m0\u001B[39m:\n\u001B[0;32m     45\u001B[0m     \u001B[38;5;28;01mreturn\u001B[39;00m \u001B[38;5;28mself\u001B[39m\u001B[38;5;241m.\u001B[39mredex_index(term\u001B[38;5;241m.\u001B[39m_data[\u001B[38;5;241m0\u001B[39m], init_index \u001B[38;5;241m+\u001B[39m \u001B[38;5;241m1\u001B[39m)\n\u001B[1;32m---> 46\u001B[0m \u001B[38;5;28;01melif\u001B[39;00m \u001B[38;5;28mlen\u001B[39m(\u001B[43mterm\u001B[49m\u001B[38;5;241;43m.\u001B[39;49m\u001B[43m_data\u001B[49m\u001B[43m[\u001B[49m\u001B[38;5;241;43m1\u001B[39;49m\u001B[43m]\u001B[49m\u001B[38;5;241;43m.\u001B[39;49m\u001B[43mredexes\u001B[49m) \u001B[38;5;241m!=\u001B[39m \u001B[38;5;241m0\u001B[39m:\n\u001B[0;32m     47\u001B[0m     \u001B[38;5;28;01mreturn\u001B[39;00m \u001B[38;5;28mself\u001B[39m\u001B[38;5;241m.\u001B[39mredex_index(term\u001B[38;5;241m.\u001B[39m_data[\u001B[38;5;241m1\u001B[39m],\n\u001B[0;32m     48\u001B[0m                             init_index \u001B[38;5;241m+\u001B[39m term\u001B[38;5;241m.\u001B[39m_data[\u001B[38;5;241m0\u001B[39m]\u001B[38;5;241m.\u001B[39mvertices_number \u001B[38;5;241m+\u001B[39m \u001B[38;5;241m1\u001B[39m)\n\u001B[0;32m     49\u001B[0m \u001B[38;5;28;01mreturn\u001B[39;00m init_index \u001B[38;5;241m+\u001B[39m \u001B[38;5;241m1\u001B[39m\n",
      "File \u001B[1;32mD:\\documents\\python_projects\\pure-calculus\\src\\calculus_path_mod\\term_engine.py:150\u001B[0m, in \u001B[0;36mTerm.redexes\u001B[1;34m(self)\u001B[0m\n\u001B[0;32m    148\u001B[0m \u001B[38;5;66;03m# self is App:\u001B[39;00m\n\u001B[0;32m    149\u001B[0m redexes_list \u001B[38;5;241m=\u001B[39m [\u001B[38;5;28mself\u001B[39m] \u001B[38;5;28;01mif\u001B[39;00m \u001B[38;5;28mself\u001B[39m\u001B[38;5;241m.\u001B[39mis_beta_redex \u001B[38;5;28;01melse\u001B[39;00m []\n\u001B[1;32m--> 150\u001B[0m redexes_list \u001B[38;5;241m+\u001B[39m\u001B[38;5;241m=\u001B[39m \u001B[38;5;28mself\u001B[39m\u001B[38;5;241m.\u001B[39m_data[\u001B[38;5;241m0\u001B[39m]\u001B[38;5;241m.\u001B[39mredexes \u001B[38;5;241m+\u001B[39m \u001B[38;5;28;43mself\u001B[39;49m\u001B[38;5;241;43m.\u001B[39;49m\u001B[43m_data\u001B[49m\u001B[43m[\u001B[49m\u001B[38;5;241;43m1\u001B[39;49m\u001B[43m]\u001B[49m\u001B[38;5;241;43m.\u001B[39;49m\u001B[43mredexes\u001B[49m\n\u001B[0;32m    151\u001B[0m \u001B[38;5;28;01mreturn\u001B[39;00m redexes_list\n",
      "File \u001B[1;32mD:\\documents\\python_projects\\pure-calculus\\src\\calculus_path_mod\\term_engine.py:150\u001B[0m, in \u001B[0;36mTerm.redexes\u001B[1;34m(self)\u001B[0m\n\u001B[0;32m    148\u001B[0m \u001B[38;5;66;03m# self is App:\u001B[39;00m\n\u001B[0;32m    149\u001B[0m redexes_list \u001B[38;5;241m=\u001B[39m [\u001B[38;5;28mself\u001B[39m] \u001B[38;5;28;01mif\u001B[39;00m \u001B[38;5;28mself\u001B[39m\u001B[38;5;241m.\u001B[39mis_beta_redex \u001B[38;5;28;01melse\u001B[39;00m []\n\u001B[1;32m--> 150\u001B[0m redexes_list \u001B[38;5;241m+\u001B[39m\u001B[38;5;241m=\u001B[39m \u001B[38;5;28mself\u001B[39m\u001B[38;5;241m.\u001B[39m_data[\u001B[38;5;241m0\u001B[39m]\u001B[38;5;241m.\u001B[39mredexes \u001B[38;5;241m+\u001B[39m \u001B[38;5;28;43mself\u001B[39;49m\u001B[38;5;241;43m.\u001B[39;49m\u001B[43m_data\u001B[49m\u001B[43m[\u001B[49m\u001B[38;5;241;43m1\u001B[39;49m\u001B[43m]\u001B[49m\u001B[38;5;241;43m.\u001B[39;49m\u001B[43mredexes\u001B[49m\n\u001B[0;32m    151\u001B[0m \u001B[38;5;28;01mreturn\u001B[39;00m redexes_list\n",
      "    \u001B[1;31m[... skipping similar frames: Term.redexes at line 150 (856 times)]\u001B[0m\n",
      "File \u001B[1;32mD:\\documents\\python_projects\\pure-calculus\\src\\calculus_path_mod\\term_engine.py:150\u001B[0m, in \u001B[0;36mTerm.redexes\u001B[1;34m(self)\u001B[0m\n\u001B[0;32m    148\u001B[0m \u001B[38;5;66;03m# self is App:\u001B[39;00m\n\u001B[0;32m    149\u001B[0m redexes_list \u001B[38;5;241m=\u001B[39m [\u001B[38;5;28mself\u001B[39m] \u001B[38;5;28;01mif\u001B[39;00m \u001B[38;5;28mself\u001B[39m\u001B[38;5;241m.\u001B[39mis_beta_redex \u001B[38;5;28;01melse\u001B[39;00m []\n\u001B[1;32m--> 150\u001B[0m redexes_list \u001B[38;5;241m+\u001B[39m\u001B[38;5;241m=\u001B[39m \u001B[38;5;28mself\u001B[39m\u001B[38;5;241m.\u001B[39m_data[\u001B[38;5;241m0\u001B[39m]\u001B[38;5;241m.\u001B[39mredexes \u001B[38;5;241m+\u001B[39m \u001B[38;5;28;43mself\u001B[39;49m\u001B[38;5;241;43m.\u001B[39;49m\u001B[43m_data\u001B[49m\u001B[43m[\u001B[49m\u001B[38;5;241;43m1\u001B[39;49m\u001B[43m]\u001B[49m\u001B[38;5;241;43m.\u001B[39;49m\u001B[43mredexes\u001B[49m\n\u001B[0;32m    151\u001B[0m \u001B[38;5;28;01mreturn\u001B[39;00m redexes_list\n",
      "File \u001B[1;32mD:\\documents\\python_projects\\pure-calculus\\src\\calculus_path_mod\\term_engine.py:149\u001B[0m, in \u001B[0;36mTerm.redexes\u001B[1;34m(self)\u001B[0m\n\u001B[0;32m    147\u001B[0m     \u001B[38;5;28;01mreturn\u001B[39;00m \u001B[38;5;28mself\u001B[39m\u001B[38;5;241m.\u001B[39m_data[\u001B[38;5;241m1\u001B[39m]\u001B[38;5;241m.\u001B[39mredexes\n\u001B[0;32m    148\u001B[0m \u001B[38;5;66;03m# self is App:\u001B[39;00m\n\u001B[1;32m--> 149\u001B[0m redexes_list \u001B[38;5;241m=\u001B[39m [\u001B[38;5;28mself\u001B[39m] \u001B[38;5;28;01mif\u001B[39;00m \u001B[38;5;28;43mself\u001B[39;49m\u001B[38;5;241;43m.\u001B[39;49m\u001B[43mis_beta_redex\u001B[49m \u001B[38;5;28;01melse\u001B[39;00m []\n\u001B[0;32m    150\u001B[0m redexes_list \u001B[38;5;241m+\u001B[39m\u001B[38;5;241m=\u001B[39m \u001B[38;5;28mself\u001B[39m\u001B[38;5;241m.\u001B[39m_data[\u001B[38;5;241m0\u001B[39m]\u001B[38;5;241m.\u001B[39mredexes \u001B[38;5;241m+\u001B[39m \u001B[38;5;28mself\u001B[39m\u001B[38;5;241m.\u001B[39m_data[\u001B[38;5;241m1\u001B[39m]\u001B[38;5;241m.\u001B[39mredexes\n\u001B[0;32m    151\u001B[0m \u001B[38;5;28;01mreturn\u001B[39;00m redexes_list\n",
      "File \u001B[1;32mD:\\documents\\python_projects\\pure-calculus\\src\\calculus_path_mod\\term_engine.py:139\u001B[0m, in \u001B[0;36mTerm.is_beta_redex\u001B[1;34m(self)\u001B[0m\n\u001B[0;32m    136\u001B[0m \u001B[38;5;129m@property\u001B[39m\n\u001B[0;32m    137\u001B[0m \u001B[38;5;28;01mdef\u001B[39;00m \u001B[38;5;21mis_beta_redex\u001B[39m(\u001B[38;5;28mself\u001B[39m):\n\u001B[0;32m    138\u001B[0m \u001B[38;5;250m    \u001B[39m\u001B[38;5;124;03m\"\"\":return: bool is the term is a beta-redex\"\"\"\u001B[39;00m\n\u001B[1;32m--> 139\u001B[0m     \u001B[38;5;28;01mreturn\u001B[39;00m (\u001B[38;5;28;43mself\u001B[39;49m\u001B[38;5;241;43m.\u001B[39;49m\u001B[43mkind\u001B[49m \u001B[38;5;241m==\u001B[39m \u001B[38;5;124m\"\u001B[39m\u001B[38;5;124mapplication\u001B[39m\u001B[38;5;124m\"\u001B[39m) \u001B[38;5;129;01mand\u001B[39;00m (\u001B[38;5;28mself\u001B[39m\u001B[38;5;241m.\u001B[39m_data[\u001B[38;5;241m0\u001B[39m]\u001B[38;5;241m.\u001B[39mkind \u001B[38;5;241m==\u001B[39m \u001B[38;5;124m\"\u001B[39m\u001B[38;5;124mabstraction\u001B[39m\u001B[38;5;124m\"\u001B[39m)\n",
      "File \u001B[1;32mD:\\documents\\python_projects\\pure-calculus\\src\\calculus_path_mod\\term_engine.py:41\u001B[0m, in \u001B[0;36mTerm.kind\u001B[1;34m(self)\u001B[0m\n\u001B[0;32m     39\u001B[0m \u001B[38;5;28;01mclass\u001B[39;00m \u001B[38;5;21;01mTerm\u001B[39;00m:  \u001B[38;5;66;03m# the basic abstract class for representing a term\u001B[39;00m\n\u001B[1;32m---> 41\u001B[0m     \u001B[38;5;129m@property\u001B[39m\n\u001B[0;32m     42\u001B[0m     \u001B[38;5;28;01mdef\u001B[39;00m \u001B[38;5;21mkind\u001B[39m(\u001B[38;5;28mself\u001B[39m):  \u001B[38;5;66;03m# returns the kind of the term\u001B[39;00m\n\u001B[0;32m     43\u001B[0m         \u001B[38;5;28;01mif\u001B[39;00m \u001B[38;5;28misinstance\u001B[39m(\u001B[38;5;28mself\u001B[39m, Atom):\n\u001B[0;32m     44\u001B[0m             \u001B[38;5;28;01mreturn\u001B[39;00m \u001B[38;5;124m\"\u001B[39m\u001B[38;5;124matom\u001B[39m\u001B[38;5;124m\"\u001B[39m\n",
      "\u001B[1;31mKeyboardInterrupt\u001B[0m: "
     ]
    }
   ],
   "source": [
    "norm_term, steps = fib_0.normalize(strategy, is_limited=False)\n",
    "print(f\"steps {steps}\\n{norm_term.funky_str()}\")"
   ],
   "metadata": {
    "collapsed": false
   }
  },
  {
   "cell_type": "code",
   "execution_count": 13,
   "outputs": [
    {
     "ename": "KeyboardInterrupt",
     "evalue": "",
     "output_type": "error",
     "traceback": [
      "\u001B[1;31m---------------------------------------------------------------------------\u001B[0m",
      "\u001B[1;31mKeyboardInterrupt\u001B[0m                         Traceback (most recent call last)",
      "Cell \u001B[1;32mIn[13], line 1\u001B[0m\n\u001B[1;32m----> 1\u001B[0m norm_term, steps \u001B[38;5;241m=\u001B[39m \u001B[43mfib_1\u001B[49m\u001B[38;5;241;43m.\u001B[39;49m\u001B[43mnormalize\u001B[49m\u001B[43m(\u001B[49m\u001B[43mstrategy\u001B[49m\u001B[43m,\u001B[49m\u001B[43m \u001B[49m\u001B[43mis_limited\u001B[49m\u001B[38;5;241;43m=\u001B[39;49m\u001B[38;5;28;43;01mFalse\u001B[39;49;00m\u001B[43m)\u001B[49m\n\u001B[0;32m      2\u001B[0m \u001B[38;5;28mprint\u001B[39m(\u001B[38;5;124mf\u001B[39m\u001B[38;5;124m\"\u001B[39m\u001B[38;5;124msteps \u001B[39m\u001B[38;5;132;01m{\u001B[39;00msteps\u001B[38;5;132;01m}\u001B[39;00m\u001B[38;5;130;01m\\n\u001B[39;00m\u001B[38;5;132;01m{\u001B[39;00mnorm_term\u001B[38;5;241m.\u001B[39mfunky_str()\u001B[38;5;132;01m}\u001B[39;00m\u001B[38;5;124m\"\u001B[39m)\n",
      "File \u001B[1;32mD:\\documents\\python_projects\\pure-calculus\\src\\calculus_path_mod\\term_engine.py:202\u001B[0m, in \u001B[0;36mTerm.normalize\u001B[1;34m(self, strategy, is_limited)\u001B[0m\n\u001B[0;32m    200\u001B[0m count_steps \u001B[38;5;241m=\u001B[39m \u001B[38;5;241m0\u001B[39m\n\u001B[0;32m    201\u001B[0m \u001B[38;5;28;01mwhile\u001B[39;00m \u001B[38;5;28mlen\u001B[39m(term\u001B[38;5;241m.\u001B[39mredexes) \u001B[38;5;241m>\u001B[39m \u001B[38;5;241m0\u001B[39m:\n\u001B[1;32m--> 202\u001B[0m     term \u001B[38;5;241m=\u001B[39m \u001B[43mterm\u001B[49m\u001B[38;5;241;43m.\u001B[39;49m\u001B[43m_beta_conversion\u001B[49m\u001B[43m(\u001B[49m\u001B[43mstrategy\u001B[49m\u001B[43m)\u001B[49m\u001B[38;5;241m.\u001B[39m_update_bound_vars()\n\u001B[0;32m    203\u001B[0m     count_steps \u001B[38;5;241m+\u001B[39m\u001B[38;5;241m=\u001B[39m \u001B[38;5;241m1\u001B[39m\n\u001B[0;32m    204\u001B[0m     \u001B[38;5;66;03m# computation limitation\u001B[39;00m\n",
      "File \u001B[1;32mD:\\documents\\python_projects\\pure-calculus\\src\\calculus_path_mod\\term_engine.py:214\u001B[0m, in \u001B[0;36mTerm._beta_conversion\u001B[1;34m(self, strategy)\u001B[0m\n\u001B[0;32m    209\u001B[0m \u001B[38;5;28;01mdef\u001B[39;00m \u001B[38;5;21m_beta_conversion\u001B[39m(\u001B[38;5;28mself\u001B[39m, strategy):\n\u001B[0;32m    210\u001B[0m \u001B[38;5;250m    \u001B[39m\u001B[38;5;124;03m\"\"\"\u001B[39;00m\n\u001B[0;32m    211\u001B[0m \u001B[38;5;124;03m    :param strategy: OneStepStrategy\u001B[39;00m\n\u001B[0;32m    212\u001B[0m \u001B[38;5;124;03m    :return: term with redex eliminated using the given strategy\u001B[39;00m\n\u001B[0;32m    213\u001B[0m \u001B[38;5;124;03m    \"\"\"\u001B[39;00m\n\u001B[1;32m--> 214\u001B[0m     index \u001B[38;5;241m=\u001B[39m \u001B[43mstrategy\u001B[49m\u001B[38;5;241;43m.\u001B[39;49m\u001B[43mredex_index\u001B[49m\u001B[43m(\u001B[49m\u001B[38;5;28;43mself\u001B[39;49m\u001B[43m)\u001B[49m\n\u001B[0;32m    215\u001B[0m     subterm_ \u001B[38;5;241m=\u001B[39m \u001B[38;5;28mself\u001B[39m\u001B[38;5;241m.\u001B[39msubterm(index)\n\u001B[0;32m    216\u001B[0m     reduced_term \u001B[38;5;241m=\u001B[39m subterm_\u001B[38;5;241m.\u001B[39m_remove_outer_redex()\n",
      "File \u001B[1;32mD:\\documents\\python_projects\\pure-calculus\\src\\calculus_path_mod\\reduction_strategy.py:45\u001B[0m, in \u001B[0;36mLIStrategy.redex_index\u001B[1;34m(self, term, init_index)\u001B[0m\n\u001B[0;32m     43\u001B[0m \u001B[38;5;28;01mif\u001B[39;00m term\u001B[38;5;241m.\u001B[39mkind \u001B[38;5;241m==\u001B[39m \u001B[38;5;124m\"\u001B[39m\u001B[38;5;124mapplication\u001B[39m\u001B[38;5;124m\"\u001B[39m:\n\u001B[0;32m     44\u001B[0m     \u001B[38;5;28;01mif\u001B[39;00m \u001B[38;5;28mlen\u001B[39m(term\u001B[38;5;241m.\u001B[39m_data[\u001B[38;5;241m0\u001B[39m]\u001B[38;5;241m.\u001B[39mredexes) \u001B[38;5;241m!=\u001B[39m \u001B[38;5;241m0\u001B[39m:\n\u001B[1;32m---> 45\u001B[0m         \u001B[38;5;28;01mreturn\u001B[39;00m \u001B[38;5;28;43mself\u001B[39;49m\u001B[38;5;241;43m.\u001B[39;49m\u001B[43mredex_index\u001B[49m\u001B[43m(\u001B[49m\u001B[43mterm\u001B[49m\u001B[38;5;241;43m.\u001B[39;49m\u001B[43m_data\u001B[49m\u001B[43m[\u001B[49m\u001B[38;5;241;43m0\u001B[39;49m\u001B[43m]\u001B[49m\u001B[43m,\u001B[49m\u001B[43m \u001B[49m\u001B[43minit_index\u001B[49m\u001B[43m \u001B[49m\u001B[38;5;241;43m+\u001B[39;49m\u001B[43m \u001B[49m\u001B[38;5;241;43m1\u001B[39;49m\u001B[43m)\u001B[49m\n\u001B[0;32m     46\u001B[0m     \u001B[38;5;28;01melif\u001B[39;00m \u001B[38;5;28mlen\u001B[39m(term\u001B[38;5;241m.\u001B[39m_data[\u001B[38;5;241m1\u001B[39m]\u001B[38;5;241m.\u001B[39mredexes) \u001B[38;5;241m!=\u001B[39m \u001B[38;5;241m0\u001B[39m:\n\u001B[0;32m     47\u001B[0m         \u001B[38;5;28;01mreturn\u001B[39;00m \u001B[38;5;28mself\u001B[39m\u001B[38;5;241m.\u001B[39mredex_index(term\u001B[38;5;241m.\u001B[39m_data[\u001B[38;5;241m1\u001B[39m],\n\u001B[0;32m     48\u001B[0m                                 init_index \u001B[38;5;241m+\u001B[39m term\u001B[38;5;241m.\u001B[39m_data[\u001B[38;5;241m0\u001B[39m]\u001B[38;5;241m.\u001B[39mvertices_number \u001B[38;5;241m+\u001B[39m \u001B[38;5;241m1\u001B[39m)\n",
      "File \u001B[1;32mD:\\documents\\python_projects\\pure-calculus\\src\\calculus_path_mod\\reduction_strategy.py:45\u001B[0m, in \u001B[0;36mLIStrategy.redex_index\u001B[1;34m(self, term, init_index)\u001B[0m\n\u001B[0;32m     43\u001B[0m \u001B[38;5;28;01mif\u001B[39;00m term\u001B[38;5;241m.\u001B[39mkind \u001B[38;5;241m==\u001B[39m \u001B[38;5;124m\"\u001B[39m\u001B[38;5;124mapplication\u001B[39m\u001B[38;5;124m\"\u001B[39m:\n\u001B[0;32m     44\u001B[0m     \u001B[38;5;28;01mif\u001B[39;00m \u001B[38;5;28mlen\u001B[39m(term\u001B[38;5;241m.\u001B[39m_data[\u001B[38;5;241m0\u001B[39m]\u001B[38;5;241m.\u001B[39mredexes) \u001B[38;5;241m!=\u001B[39m \u001B[38;5;241m0\u001B[39m:\n\u001B[1;32m---> 45\u001B[0m         \u001B[38;5;28;01mreturn\u001B[39;00m \u001B[38;5;28;43mself\u001B[39;49m\u001B[38;5;241;43m.\u001B[39;49m\u001B[43mredex_index\u001B[49m\u001B[43m(\u001B[49m\u001B[43mterm\u001B[49m\u001B[38;5;241;43m.\u001B[39;49m\u001B[43m_data\u001B[49m\u001B[43m[\u001B[49m\u001B[38;5;241;43m0\u001B[39;49m\u001B[43m]\u001B[49m\u001B[43m,\u001B[49m\u001B[43m \u001B[49m\u001B[43minit_index\u001B[49m\u001B[43m \u001B[49m\u001B[38;5;241;43m+\u001B[39;49m\u001B[43m \u001B[49m\u001B[38;5;241;43m1\u001B[39;49m\u001B[43m)\u001B[49m\n\u001B[0;32m     46\u001B[0m     \u001B[38;5;28;01melif\u001B[39;00m \u001B[38;5;28mlen\u001B[39m(term\u001B[38;5;241m.\u001B[39m_data[\u001B[38;5;241m1\u001B[39m]\u001B[38;5;241m.\u001B[39mredexes) \u001B[38;5;241m!=\u001B[39m \u001B[38;5;241m0\u001B[39m:\n\u001B[0;32m     47\u001B[0m         \u001B[38;5;28;01mreturn\u001B[39;00m \u001B[38;5;28mself\u001B[39m\u001B[38;5;241m.\u001B[39mredex_index(term\u001B[38;5;241m.\u001B[39m_data[\u001B[38;5;241m1\u001B[39m],\n\u001B[0;32m     48\u001B[0m                                 init_index \u001B[38;5;241m+\u001B[39m term\u001B[38;5;241m.\u001B[39m_data[\u001B[38;5;241m0\u001B[39m]\u001B[38;5;241m.\u001B[39mvertices_number \u001B[38;5;241m+\u001B[39m \u001B[38;5;241m1\u001B[39m)\n",
      "File \u001B[1;32mD:\\documents\\python_projects\\pure-calculus\\src\\calculus_path_mod\\reduction_strategy.py:51\u001B[0m, in \u001B[0;36mLIStrategy.redex_index\u001B[1;34m(self, term, init_index)\u001B[0m\n\u001B[0;32m     49\u001B[0m     \u001B[38;5;28;01mreturn\u001B[39;00m init_index \u001B[38;5;241m+\u001B[39m \u001B[38;5;241m1\u001B[39m\n\u001B[0;32m     50\u001B[0m \u001B[38;5;66;03m# self is Abstraction:\u001B[39;00m\n\u001B[1;32m---> 51\u001B[0m \u001B[38;5;28;01mreturn\u001B[39;00m \u001B[38;5;28;43mself\u001B[39;49m\u001B[38;5;241;43m.\u001B[39;49m\u001B[43mredex_index\u001B[49m\u001B[43m(\u001B[49m\u001B[43mterm\u001B[49m\u001B[38;5;241;43m.\u001B[39;49m\u001B[43m_data\u001B[49m\u001B[43m[\u001B[49m\u001B[38;5;241;43m1\u001B[39;49m\u001B[43m]\u001B[49m\u001B[43m,\u001B[49m\u001B[43m \u001B[49m\u001B[43minit_index\u001B[49m\u001B[43m \u001B[49m\u001B[38;5;241;43m+\u001B[39;49m\u001B[43m \u001B[49m\u001B[38;5;241;43m1\u001B[39;49m\u001B[43m)\u001B[49m\n",
      "File \u001B[1;32mD:\\documents\\python_projects\\pure-calculus\\src\\calculus_path_mod\\reduction_strategy.py:47\u001B[0m, in \u001B[0;36mLIStrategy.redex_index\u001B[1;34m(self, term, init_index)\u001B[0m\n\u001B[0;32m     45\u001B[0m         \u001B[38;5;28;01mreturn\u001B[39;00m \u001B[38;5;28mself\u001B[39m\u001B[38;5;241m.\u001B[39mredex_index(term\u001B[38;5;241m.\u001B[39m_data[\u001B[38;5;241m0\u001B[39m], init_index \u001B[38;5;241m+\u001B[39m \u001B[38;5;241m1\u001B[39m)\n\u001B[0;32m     46\u001B[0m     \u001B[38;5;28;01melif\u001B[39;00m \u001B[38;5;28mlen\u001B[39m(term\u001B[38;5;241m.\u001B[39m_data[\u001B[38;5;241m1\u001B[39m]\u001B[38;5;241m.\u001B[39mredexes) \u001B[38;5;241m!=\u001B[39m \u001B[38;5;241m0\u001B[39m:\n\u001B[1;32m---> 47\u001B[0m         \u001B[38;5;28;01mreturn\u001B[39;00m \u001B[38;5;28;43mself\u001B[39;49m\u001B[38;5;241;43m.\u001B[39;49m\u001B[43mredex_index\u001B[49m\u001B[43m(\u001B[49m\u001B[43mterm\u001B[49m\u001B[38;5;241;43m.\u001B[39;49m\u001B[43m_data\u001B[49m\u001B[43m[\u001B[49m\u001B[38;5;241;43m1\u001B[39;49m\u001B[43m]\u001B[49m\u001B[43m,\u001B[49m\n\u001B[0;32m     48\u001B[0m \u001B[43m                                \u001B[49m\u001B[43minit_index\u001B[49m\u001B[43m \u001B[49m\u001B[38;5;241;43m+\u001B[39;49m\u001B[43m \u001B[49m\u001B[43mterm\u001B[49m\u001B[38;5;241;43m.\u001B[39;49m\u001B[43m_data\u001B[49m\u001B[43m[\u001B[49m\u001B[38;5;241;43m0\u001B[39;49m\u001B[43m]\u001B[49m\u001B[38;5;241;43m.\u001B[39;49m\u001B[43mvertices_number\u001B[49m\u001B[43m \u001B[49m\u001B[38;5;241;43m+\u001B[39;49m\u001B[43m \u001B[49m\u001B[38;5;241;43m1\u001B[39;49m\u001B[43m)\u001B[49m\n\u001B[0;32m     49\u001B[0m     \u001B[38;5;28;01mreturn\u001B[39;00m init_index \u001B[38;5;241m+\u001B[39m \u001B[38;5;241m1\u001B[39m\n\u001B[0;32m     50\u001B[0m \u001B[38;5;66;03m# self is Abstraction:\u001B[39;00m\n",
      "File \u001B[1;32mD:\\documents\\python_projects\\pure-calculus\\src\\calculus_path_mod\\reduction_strategy.py:47\u001B[0m, in \u001B[0;36mLIStrategy.redex_index\u001B[1;34m(self, term, init_index)\u001B[0m\n\u001B[0;32m     45\u001B[0m         \u001B[38;5;28;01mreturn\u001B[39;00m \u001B[38;5;28mself\u001B[39m\u001B[38;5;241m.\u001B[39mredex_index(term\u001B[38;5;241m.\u001B[39m_data[\u001B[38;5;241m0\u001B[39m], init_index \u001B[38;5;241m+\u001B[39m \u001B[38;5;241m1\u001B[39m)\n\u001B[0;32m     46\u001B[0m     \u001B[38;5;28;01melif\u001B[39;00m \u001B[38;5;28mlen\u001B[39m(term\u001B[38;5;241m.\u001B[39m_data[\u001B[38;5;241m1\u001B[39m]\u001B[38;5;241m.\u001B[39mredexes) \u001B[38;5;241m!=\u001B[39m \u001B[38;5;241m0\u001B[39m:\n\u001B[1;32m---> 47\u001B[0m         \u001B[38;5;28;01mreturn\u001B[39;00m \u001B[38;5;28;43mself\u001B[39;49m\u001B[38;5;241;43m.\u001B[39;49m\u001B[43mredex_index\u001B[49m\u001B[43m(\u001B[49m\u001B[43mterm\u001B[49m\u001B[38;5;241;43m.\u001B[39;49m\u001B[43m_data\u001B[49m\u001B[43m[\u001B[49m\u001B[38;5;241;43m1\u001B[39;49m\u001B[43m]\u001B[49m\u001B[43m,\u001B[49m\n\u001B[0;32m     48\u001B[0m \u001B[43m                                \u001B[49m\u001B[43minit_index\u001B[49m\u001B[43m \u001B[49m\u001B[38;5;241;43m+\u001B[39;49m\u001B[43m \u001B[49m\u001B[43mterm\u001B[49m\u001B[38;5;241;43m.\u001B[39;49m\u001B[43m_data\u001B[49m\u001B[43m[\u001B[49m\u001B[38;5;241;43m0\u001B[39;49m\u001B[43m]\u001B[49m\u001B[38;5;241;43m.\u001B[39;49m\u001B[43mvertices_number\u001B[49m\u001B[43m \u001B[49m\u001B[38;5;241;43m+\u001B[39;49m\u001B[43m \u001B[49m\u001B[38;5;241;43m1\u001B[39;49m\u001B[43m)\u001B[49m\n\u001B[0;32m     49\u001B[0m     \u001B[38;5;28;01mreturn\u001B[39;00m init_index \u001B[38;5;241m+\u001B[39m \u001B[38;5;241m1\u001B[39m\n\u001B[0;32m     50\u001B[0m \u001B[38;5;66;03m# self is Abstraction:\u001B[39;00m\n",
      "    \u001B[1;31m[... skipping similar frames: LIStrategy.redex_index at line 47 (260 times)]\u001B[0m\n",
      "File \u001B[1;32mD:\\documents\\python_projects\\pure-calculus\\src\\calculus_path_mod\\reduction_strategy.py:47\u001B[0m, in \u001B[0;36mLIStrategy.redex_index\u001B[1;34m(self, term, init_index)\u001B[0m\n\u001B[0;32m     45\u001B[0m         \u001B[38;5;28;01mreturn\u001B[39;00m \u001B[38;5;28mself\u001B[39m\u001B[38;5;241m.\u001B[39mredex_index(term\u001B[38;5;241m.\u001B[39m_data[\u001B[38;5;241m0\u001B[39m], init_index \u001B[38;5;241m+\u001B[39m \u001B[38;5;241m1\u001B[39m)\n\u001B[0;32m     46\u001B[0m     \u001B[38;5;28;01melif\u001B[39;00m \u001B[38;5;28mlen\u001B[39m(term\u001B[38;5;241m.\u001B[39m_data[\u001B[38;5;241m1\u001B[39m]\u001B[38;5;241m.\u001B[39mredexes) \u001B[38;5;241m!=\u001B[39m \u001B[38;5;241m0\u001B[39m:\n\u001B[1;32m---> 47\u001B[0m         \u001B[38;5;28;01mreturn\u001B[39;00m \u001B[38;5;28;43mself\u001B[39;49m\u001B[38;5;241;43m.\u001B[39;49m\u001B[43mredex_index\u001B[49m\u001B[43m(\u001B[49m\u001B[43mterm\u001B[49m\u001B[38;5;241;43m.\u001B[39;49m\u001B[43m_data\u001B[49m\u001B[43m[\u001B[49m\u001B[38;5;241;43m1\u001B[39;49m\u001B[43m]\u001B[49m\u001B[43m,\u001B[49m\n\u001B[0;32m     48\u001B[0m \u001B[43m                                \u001B[49m\u001B[43minit_index\u001B[49m\u001B[43m \u001B[49m\u001B[38;5;241;43m+\u001B[39;49m\u001B[43m \u001B[49m\u001B[43mterm\u001B[49m\u001B[38;5;241;43m.\u001B[39;49m\u001B[43m_data\u001B[49m\u001B[43m[\u001B[49m\u001B[38;5;241;43m0\u001B[39;49m\u001B[43m]\u001B[49m\u001B[38;5;241;43m.\u001B[39;49m\u001B[43mvertices_number\u001B[49m\u001B[43m \u001B[49m\u001B[38;5;241;43m+\u001B[39;49m\u001B[43m \u001B[49m\u001B[38;5;241;43m1\u001B[39;49m\u001B[43m)\u001B[49m\n\u001B[0;32m     49\u001B[0m     \u001B[38;5;28;01mreturn\u001B[39;00m init_index \u001B[38;5;241m+\u001B[39m \u001B[38;5;241m1\u001B[39m\n\u001B[0;32m     50\u001B[0m \u001B[38;5;66;03m# self is Abstraction:\u001B[39;00m\n",
      "File \u001B[1;32mD:\\documents\\python_projects\\pure-calculus\\src\\calculus_path_mod\\reduction_strategy.py:41\u001B[0m, in \u001B[0;36mLIStrategy.redex_index\u001B[1;34m(self, term, init_index)\u001B[0m\n\u001B[0;32m     37\u001B[0m \u001B[38;5;28;01mdef\u001B[39;00m \u001B[38;5;21mredex_index\u001B[39m(\u001B[38;5;28mself\u001B[39m, term: Term, init_index\u001B[38;5;241m=\u001B[39m\u001B[38;5;241m0\u001B[39m) \u001B[38;5;241m-\u001B[39m\u001B[38;5;241m>\u001B[39m \u001B[38;5;28mint\u001B[39m:\n\u001B[0;32m     38\u001B[0m     \u001B[38;5;66;03m# The main idea check current vertex\u001B[39;00m\n\u001B[0;32m     39\u001B[0m     \u001B[38;5;66;03m# if it's a redex return its coordinate in the tree\u001B[39;00m\n\u001B[1;32m---> 41\u001B[0m     \u001B[38;5;28;01mif\u001B[39;00m (term\u001B[38;5;241m.\u001B[39mkind \u001B[38;5;241m==\u001B[39m \u001B[38;5;124m\"\u001B[39m\u001B[38;5;124matom\u001B[39m\u001B[38;5;124m\"\u001B[39m) \u001B[38;5;129;01mor\u001B[39;00m (\u001B[38;5;28mlen\u001B[39m(\u001B[43mterm\u001B[49m\u001B[38;5;241;43m.\u001B[39;49m\u001B[43mredexes\u001B[49m) \u001B[38;5;241m==\u001B[39m \u001B[38;5;241m0\u001B[39m):\n\u001B[0;32m     42\u001B[0m         \u001B[38;5;28;01mraise\u001B[39;00m \u001B[38;5;167;01mValueError\u001B[39;00m(\u001B[38;5;124m\"\u001B[39m\u001B[38;5;124mThe term doesn\u001B[39m\u001B[38;5;124m'\u001B[39m\u001B[38;5;124mt contain a redex\u001B[39m\u001B[38;5;124m\"\u001B[39m)\n\u001B[0;32m     43\u001B[0m     \u001B[38;5;28;01mif\u001B[39;00m term\u001B[38;5;241m.\u001B[39mkind \u001B[38;5;241m==\u001B[39m \u001B[38;5;124m\"\u001B[39m\u001B[38;5;124mapplication\u001B[39m\u001B[38;5;124m\"\u001B[39m:\n",
      "File \u001B[1;32mD:\\documents\\python_projects\\pure-calculus\\src\\calculus_path_mod\\term_engine.py:150\u001B[0m, in \u001B[0;36mTerm.redexes\u001B[1;34m(self)\u001B[0m\n\u001B[0;32m    148\u001B[0m \u001B[38;5;66;03m# self is App:\u001B[39;00m\n\u001B[0;32m    149\u001B[0m redexes_list \u001B[38;5;241m=\u001B[39m [\u001B[38;5;28mself\u001B[39m] \u001B[38;5;28;01mif\u001B[39;00m \u001B[38;5;28mself\u001B[39m\u001B[38;5;241m.\u001B[39mis_beta_redex \u001B[38;5;28;01melse\u001B[39;00m []\n\u001B[1;32m--> 150\u001B[0m redexes_list \u001B[38;5;241m+\u001B[39m\u001B[38;5;241m=\u001B[39m \u001B[38;5;28mself\u001B[39m\u001B[38;5;241m.\u001B[39m_data[\u001B[38;5;241m0\u001B[39m]\u001B[38;5;241m.\u001B[39mredexes \u001B[38;5;241m+\u001B[39m \u001B[38;5;28;43mself\u001B[39;49m\u001B[38;5;241;43m.\u001B[39;49m\u001B[43m_data\u001B[49m\u001B[43m[\u001B[49m\u001B[38;5;241;43m1\u001B[39;49m\u001B[43m]\u001B[49m\u001B[38;5;241;43m.\u001B[39;49m\u001B[43mredexes\u001B[49m\n\u001B[0;32m    151\u001B[0m \u001B[38;5;28;01mreturn\u001B[39;00m redexes_list\n",
      "File \u001B[1;32mD:\\documents\\python_projects\\pure-calculus\\src\\calculus_path_mod\\term_engine.py:150\u001B[0m, in \u001B[0;36mTerm.redexes\u001B[1;34m(self)\u001B[0m\n\u001B[0;32m    148\u001B[0m \u001B[38;5;66;03m# self is App:\u001B[39;00m\n\u001B[0;32m    149\u001B[0m redexes_list \u001B[38;5;241m=\u001B[39m [\u001B[38;5;28mself\u001B[39m] \u001B[38;5;28;01mif\u001B[39;00m \u001B[38;5;28mself\u001B[39m\u001B[38;5;241m.\u001B[39mis_beta_redex \u001B[38;5;28;01melse\u001B[39;00m []\n\u001B[1;32m--> 150\u001B[0m redexes_list \u001B[38;5;241m+\u001B[39m\u001B[38;5;241m=\u001B[39m \u001B[38;5;28mself\u001B[39m\u001B[38;5;241m.\u001B[39m_data[\u001B[38;5;241m0\u001B[39m]\u001B[38;5;241m.\u001B[39mredexes \u001B[38;5;241m+\u001B[39m \u001B[38;5;28;43mself\u001B[39;49m\u001B[38;5;241;43m.\u001B[39;49m\u001B[43m_data\u001B[49m\u001B[43m[\u001B[49m\u001B[38;5;241;43m1\u001B[39;49m\u001B[43m]\u001B[49m\u001B[38;5;241;43m.\u001B[39;49m\u001B[43mredexes\u001B[49m\n\u001B[0;32m    151\u001B[0m \u001B[38;5;28;01mreturn\u001B[39;00m redexes_list\n",
      "    \u001B[1;31m[... skipping similar frames: Term.redexes at line 150 (738 times)]\u001B[0m\n",
      "File \u001B[1;32mD:\\documents\\python_projects\\pure-calculus\\src\\calculus_path_mod\\term_engine.py:150\u001B[0m, in \u001B[0;36mTerm.redexes\u001B[1;34m(self)\u001B[0m\n\u001B[0;32m    148\u001B[0m \u001B[38;5;66;03m# self is App:\u001B[39;00m\n\u001B[0;32m    149\u001B[0m redexes_list \u001B[38;5;241m=\u001B[39m [\u001B[38;5;28mself\u001B[39m] \u001B[38;5;28;01mif\u001B[39;00m \u001B[38;5;28mself\u001B[39m\u001B[38;5;241m.\u001B[39mis_beta_redex \u001B[38;5;28;01melse\u001B[39;00m []\n\u001B[1;32m--> 150\u001B[0m redexes_list \u001B[38;5;241m+\u001B[39m\u001B[38;5;241m=\u001B[39m \u001B[38;5;28mself\u001B[39m\u001B[38;5;241m.\u001B[39m_data[\u001B[38;5;241m0\u001B[39m]\u001B[38;5;241m.\u001B[39mredexes \u001B[38;5;241m+\u001B[39m \u001B[38;5;28;43mself\u001B[39;49m\u001B[38;5;241;43m.\u001B[39;49m\u001B[43m_data\u001B[49m\u001B[43m[\u001B[49m\u001B[38;5;241;43m1\u001B[39;49m\u001B[43m]\u001B[49m\u001B[38;5;241;43m.\u001B[39;49m\u001B[43mredexes\u001B[49m\n\u001B[0;32m    151\u001B[0m \u001B[38;5;28;01mreturn\u001B[39;00m redexes_list\n",
      "File \u001B[1;32mD:\\documents\\python_projects\\pure-calculus\\src\\calculus_path_mod\\term_engine.py:144\u001B[0m, in \u001B[0;36mTerm.redexes\u001B[1;34m(self)\u001B[0m\n\u001B[0;32m    141\u001B[0m \u001B[38;5;129m@property\u001B[39m\n\u001B[0;32m    142\u001B[0m \u001B[38;5;28;01mdef\u001B[39;00m \u001B[38;5;21mredexes\u001B[39m(\u001B[38;5;28mself\u001B[39m):\n\u001B[0;32m    143\u001B[0m \u001B[38;5;250m    \u001B[39m\u001B[38;5;124;03m\"\"\":return: list of all beta-redexes in the term\"\"\"\u001B[39;00m\n\u001B[1;32m--> 144\u001B[0m     \u001B[38;5;28;01mif\u001B[39;00m \u001B[38;5;28;43mself\u001B[39;49m\u001B[38;5;241;43m.\u001B[39;49m\u001B[43mkind\u001B[49m \u001B[38;5;241m==\u001B[39m \u001B[38;5;124m\"\u001B[39m\u001B[38;5;124matom\u001B[39m\u001B[38;5;124m\"\u001B[39m:\n\u001B[0;32m    145\u001B[0m         \u001B[38;5;28;01mreturn\u001B[39;00m []\n\u001B[0;32m    146\u001B[0m     \u001B[38;5;28;01mif\u001B[39;00m \u001B[38;5;28mself\u001B[39m\u001B[38;5;241m.\u001B[39mkind \u001B[38;5;241m==\u001B[39m \u001B[38;5;124m\"\u001B[39m\u001B[38;5;124mabstraction\u001B[39m\u001B[38;5;124m\"\u001B[39m:\n",
      "File \u001B[1;32mD:\\documents\\python_projects\\pure-calculus\\src\\calculus_path_mod\\term_engine.py:41\u001B[0m, in \u001B[0;36mTerm.kind\u001B[1;34m(self)\u001B[0m\n\u001B[0;32m     39\u001B[0m \u001B[38;5;28;01mclass\u001B[39;00m \u001B[38;5;21;01mTerm\u001B[39;00m:  \u001B[38;5;66;03m# the basic abstract class for representing a term\u001B[39;00m\n\u001B[1;32m---> 41\u001B[0m     \u001B[38;5;129m@property\u001B[39m\n\u001B[0;32m     42\u001B[0m     \u001B[38;5;28;01mdef\u001B[39;00m \u001B[38;5;21mkind\u001B[39m(\u001B[38;5;28mself\u001B[39m):  \u001B[38;5;66;03m# returns the kind of the term\u001B[39;00m\n\u001B[0;32m     43\u001B[0m         \u001B[38;5;28;01mif\u001B[39;00m \u001B[38;5;28misinstance\u001B[39m(\u001B[38;5;28mself\u001B[39m, Atom):\n\u001B[0;32m     44\u001B[0m             \u001B[38;5;28;01mreturn\u001B[39;00m \u001B[38;5;124m\"\u001B[39m\u001B[38;5;124matom\u001B[39m\u001B[38;5;124m\"\u001B[39m\n",
      "\u001B[1;31mKeyboardInterrupt\u001B[0m: "
     ]
    }
   ],
   "source": [
    "norm_term, steps = fib_1.normalize(strategy, is_limited=False)\n",
    "print(f\"steps {steps}\\n{norm_term.funky_str()}\")"
   ],
   "metadata": {
    "collapsed": false
   }
  },
  {
   "cell_type": "code",
   "execution_count": 14,
   "outputs": [
    {
     "ename": "KeyboardInterrupt",
     "evalue": "",
     "output_type": "error",
     "traceback": [
      "\u001B[1;31m---------------------------------------------------------------------------\u001B[0m",
      "\u001B[1;31mKeyboardInterrupt\u001B[0m                         Traceback (most recent call last)",
      "Cell \u001B[1;32mIn[14], line 1\u001B[0m\n\u001B[1;32m----> 1\u001B[0m norm_term, steps \u001B[38;5;241m=\u001B[39m \u001B[43mfib_2\u001B[49m\u001B[38;5;241;43m.\u001B[39;49m\u001B[43mnormalize\u001B[49m\u001B[43m(\u001B[49m\u001B[43mstrategy\u001B[49m\u001B[43m,\u001B[49m\u001B[43m \u001B[49m\u001B[43mis_limited\u001B[49m\u001B[38;5;241;43m=\u001B[39;49m\u001B[38;5;28;43;01mFalse\u001B[39;49;00m\u001B[43m)\u001B[49m\n\u001B[0;32m      2\u001B[0m \u001B[38;5;28mprint\u001B[39m(\u001B[38;5;124mf\u001B[39m\u001B[38;5;124m\"\u001B[39m\u001B[38;5;124msteps \u001B[39m\u001B[38;5;132;01m{\u001B[39;00msteps\u001B[38;5;132;01m}\u001B[39;00m\u001B[38;5;130;01m\\n\u001B[39;00m\u001B[38;5;132;01m{\u001B[39;00mnorm_term\u001B[38;5;241m.\u001B[39mfunky_str()\u001B[38;5;132;01m}\u001B[39;00m\u001B[38;5;124m\"\u001B[39m)\n",
      "File \u001B[1;32mD:\\documents\\python_projects\\pure-calculus\\src\\calculus_path_mod\\term_engine.py:202\u001B[0m, in \u001B[0;36mTerm.normalize\u001B[1;34m(self, strategy, is_limited)\u001B[0m\n\u001B[0;32m    200\u001B[0m count_steps \u001B[38;5;241m=\u001B[39m \u001B[38;5;241m0\u001B[39m\n\u001B[0;32m    201\u001B[0m \u001B[38;5;28;01mwhile\u001B[39;00m \u001B[38;5;28mlen\u001B[39m(term\u001B[38;5;241m.\u001B[39mredexes) \u001B[38;5;241m>\u001B[39m \u001B[38;5;241m0\u001B[39m:\n\u001B[1;32m--> 202\u001B[0m     term \u001B[38;5;241m=\u001B[39m \u001B[43mterm\u001B[49m\u001B[38;5;241;43m.\u001B[39;49m\u001B[43m_beta_conversion\u001B[49m\u001B[43m(\u001B[49m\u001B[43mstrategy\u001B[49m\u001B[43m)\u001B[49m\u001B[38;5;241m.\u001B[39m_update_bound_vars()\n\u001B[0;32m    203\u001B[0m     count_steps \u001B[38;5;241m+\u001B[39m\u001B[38;5;241m=\u001B[39m \u001B[38;5;241m1\u001B[39m\n\u001B[0;32m    204\u001B[0m     \u001B[38;5;66;03m# computation limitation\u001B[39;00m\n",
      "File \u001B[1;32mD:\\documents\\python_projects\\pure-calculus\\src\\calculus_path_mod\\term_engine.py:214\u001B[0m, in \u001B[0;36mTerm._beta_conversion\u001B[1;34m(self, strategy)\u001B[0m\n\u001B[0;32m    209\u001B[0m \u001B[38;5;28;01mdef\u001B[39;00m \u001B[38;5;21m_beta_conversion\u001B[39m(\u001B[38;5;28mself\u001B[39m, strategy):\n\u001B[0;32m    210\u001B[0m \u001B[38;5;250m    \u001B[39m\u001B[38;5;124;03m\"\"\"\u001B[39;00m\n\u001B[0;32m    211\u001B[0m \u001B[38;5;124;03m    :param strategy: OneStepStrategy\u001B[39;00m\n\u001B[0;32m    212\u001B[0m \u001B[38;5;124;03m    :return: term with redex eliminated using the given strategy\u001B[39;00m\n\u001B[0;32m    213\u001B[0m \u001B[38;5;124;03m    \"\"\"\u001B[39;00m\n\u001B[1;32m--> 214\u001B[0m     index \u001B[38;5;241m=\u001B[39m \u001B[43mstrategy\u001B[49m\u001B[38;5;241;43m.\u001B[39;49m\u001B[43mredex_index\u001B[49m\u001B[43m(\u001B[49m\u001B[38;5;28;43mself\u001B[39;49m\u001B[43m)\u001B[49m\n\u001B[0;32m    215\u001B[0m     subterm_ \u001B[38;5;241m=\u001B[39m \u001B[38;5;28mself\u001B[39m\u001B[38;5;241m.\u001B[39msubterm(index)\n\u001B[0;32m    216\u001B[0m     reduced_term \u001B[38;5;241m=\u001B[39m subterm_\u001B[38;5;241m.\u001B[39m_remove_outer_redex()\n",
      "File \u001B[1;32mD:\\documents\\python_projects\\pure-calculus\\src\\calculus_path_mod\\reduction_strategy.py:45\u001B[0m, in \u001B[0;36mLIStrategy.redex_index\u001B[1;34m(self, term, init_index)\u001B[0m\n\u001B[0;32m     43\u001B[0m \u001B[38;5;28;01mif\u001B[39;00m term\u001B[38;5;241m.\u001B[39mkind \u001B[38;5;241m==\u001B[39m \u001B[38;5;124m\"\u001B[39m\u001B[38;5;124mapplication\u001B[39m\u001B[38;5;124m\"\u001B[39m:\n\u001B[0;32m     44\u001B[0m     \u001B[38;5;28;01mif\u001B[39;00m \u001B[38;5;28mlen\u001B[39m(term\u001B[38;5;241m.\u001B[39m_data[\u001B[38;5;241m0\u001B[39m]\u001B[38;5;241m.\u001B[39mredexes) \u001B[38;5;241m!=\u001B[39m \u001B[38;5;241m0\u001B[39m:\n\u001B[1;32m---> 45\u001B[0m         \u001B[38;5;28;01mreturn\u001B[39;00m \u001B[38;5;28;43mself\u001B[39;49m\u001B[38;5;241;43m.\u001B[39;49m\u001B[43mredex_index\u001B[49m\u001B[43m(\u001B[49m\u001B[43mterm\u001B[49m\u001B[38;5;241;43m.\u001B[39;49m\u001B[43m_data\u001B[49m\u001B[43m[\u001B[49m\u001B[38;5;241;43m0\u001B[39;49m\u001B[43m]\u001B[49m\u001B[43m,\u001B[49m\u001B[43m \u001B[49m\u001B[43minit_index\u001B[49m\u001B[43m \u001B[49m\u001B[38;5;241;43m+\u001B[39;49m\u001B[43m \u001B[49m\u001B[38;5;241;43m1\u001B[39;49m\u001B[43m)\u001B[49m\n\u001B[0;32m     46\u001B[0m     \u001B[38;5;28;01melif\u001B[39;00m \u001B[38;5;28mlen\u001B[39m(term\u001B[38;5;241m.\u001B[39m_data[\u001B[38;5;241m1\u001B[39m]\u001B[38;5;241m.\u001B[39mredexes) \u001B[38;5;241m!=\u001B[39m \u001B[38;5;241m0\u001B[39m:\n\u001B[0;32m     47\u001B[0m         \u001B[38;5;28;01mreturn\u001B[39;00m \u001B[38;5;28mself\u001B[39m\u001B[38;5;241m.\u001B[39mredex_index(term\u001B[38;5;241m.\u001B[39m_data[\u001B[38;5;241m1\u001B[39m],\n\u001B[0;32m     48\u001B[0m                                 init_index \u001B[38;5;241m+\u001B[39m term\u001B[38;5;241m.\u001B[39m_data[\u001B[38;5;241m0\u001B[39m]\u001B[38;5;241m.\u001B[39mvertices_number \u001B[38;5;241m+\u001B[39m \u001B[38;5;241m1\u001B[39m)\n",
      "File \u001B[1;32mD:\\documents\\python_projects\\pure-calculus\\src\\calculus_path_mod\\reduction_strategy.py:45\u001B[0m, in \u001B[0;36mLIStrategy.redex_index\u001B[1;34m(self, term, init_index)\u001B[0m\n\u001B[0;32m     43\u001B[0m \u001B[38;5;28;01mif\u001B[39;00m term\u001B[38;5;241m.\u001B[39mkind \u001B[38;5;241m==\u001B[39m \u001B[38;5;124m\"\u001B[39m\u001B[38;5;124mapplication\u001B[39m\u001B[38;5;124m\"\u001B[39m:\n\u001B[0;32m     44\u001B[0m     \u001B[38;5;28;01mif\u001B[39;00m \u001B[38;5;28mlen\u001B[39m(term\u001B[38;5;241m.\u001B[39m_data[\u001B[38;5;241m0\u001B[39m]\u001B[38;5;241m.\u001B[39mredexes) \u001B[38;5;241m!=\u001B[39m \u001B[38;5;241m0\u001B[39m:\n\u001B[1;32m---> 45\u001B[0m         \u001B[38;5;28;01mreturn\u001B[39;00m \u001B[38;5;28;43mself\u001B[39;49m\u001B[38;5;241;43m.\u001B[39;49m\u001B[43mredex_index\u001B[49m\u001B[43m(\u001B[49m\u001B[43mterm\u001B[49m\u001B[38;5;241;43m.\u001B[39;49m\u001B[43m_data\u001B[49m\u001B[43m[\u001B[49m\u001B[38;5;241;43m0\u001B[39;49m\u001B[43m]\u001B[49m\u001B[43m,\u001B[49m\u001B[43m \u001B[49m\u001B[43minit_index\u001B[49m\u001B[43m \u001B[49m\u001B[38;5;241;43m+\u001B[39;49m\u001B[43m \u001B[49m\u001B[38;5;241;43m1\u001B[39;49m\u001B[43m)\u001B[49m\n\u001B[0;32m     46\u001B[0m     \u001B[38;5;28;01melif\u001B[39;00m \u001B[38;5;28mlen\u001B[39m(term\u001B[38;5;241m.\u001B[39m_data[\u001B[38;5;241m1\u001B[39m]\u001B[38;5;241m.\u001B[39mredexes) \u001B[38;5;241m!=\u001B[39m \u001B[38;5;241m0\u001B[39m:\n\u001B[0;32m     47\u001B[0m         \u001B[38;5;28;01mreturn\u001B[39;00m \u001B[38;5;28mself\u001B[39m\u001B[38;5;241m.\u001B[39mredex_index(term\u001B[38;5;241m.\u001B[39m_data[\u001B[38;5;241m1\u001B[39m],\n\u001B[0;32m     48\u001B[0m                                 init_index \u001B[38;5;241m+\u001B[39m term\u001B[38;5;241m.\u001B[39m_data[\u001B[38;5;241m0\u001B[39m]\u001B[38;5;241m.\u001B[39mvertices_number \u001B[38;5;241m+\u001B[39m \u001B[38;5;241m1\u001B[39m)\n",
      "File \u001B[1;32mD:\\documents\\python_projects\\pure-calculus\\src\\calculus_path_mod\\reduction_strategy.py:51\u001B[0m, in \u001B[0;36mLIStrategy.redex_index\u001B[1;34m(self, term, init_index)\u001B[0m\n\u001B[0;32m     49\u001B[0m     \u001B[38;5;28;01mreturn\u001B[39;00m init_index \u001B[38;5;241m+\u001B[39m \u001B[38;5;241m1\u001B[39m\n\u001B[0;32m     50\u001B[0m \u001B[38;5;66;03m# self is Abstraction:\u001B[39;00m\n\u001B[1;32m---> 51\u001B[0m \u001B[38;5;28;01mreturn\u001B[39;00m \u001B[38;5;28;43mself\u001B[39;49m\u001B[38;5;241;43m.\u001B[39;49m\u001B[43mredex_index\u001B[49m\u001B[43m(\u001B[49m\u001B[43mterm\u001B[49m\u001B[38;5;241;43m.\u001B[39;49m\u001B[43m_data\u001B[49m\u001B[43m[\u001B[49m\u001B[38;5;241;43m1\u001B[39;49m\u001B[43m]\u001B[49m\u001B[43m,\u001B[49m\u001B[43m \u001B[49m\u001B[43minit_index\u001B[49m\u001B[43m \u001B[49m\u001B[38;5;241;43m+\u001B[39;49m\u001B[43m \u001B[49m\u001B[38;5;241;43m1\u001B[39;49m\u001B[43m)\u001B[49m\n",
      "File \u001B[1;32mD:\\documents\\python_projects\\pure-calculus\\src\\calculus_path_mod\\reduction_strategy.py:47\u001B[0m, in \u001B[0;36mLIStrategy.redex_index\u001B[1;34m(self, term, init_index)\u001B[0m\n\u001B[0;32m     45\u001B[0m         \u001B[38;5;28;01mreturn\u001B[39;00m \u001B[38;5;28mself\u001B[39m\u001B[38;5;241m.\u001B[39mredex_index(term\u001B[38;5;241m.\u001B[39m_data[\u001B[38;5;241m0\u001B[39m], init_index \u001B[38;5;241m+\u001B[39m \u001B[38;5;241m1\u001B[39m)\n\u001B[0;32m     46\u001B[0m     \u001B[38;5;28;01melif\u001B[39;00m \u001B[38;5;28mlen\u001B[39m(term\u001B[38;5;241m.\u001B[39m_data[\u001B[38;5;241m1\u001B[39m]\u001B[38;5;241m.\u001B[39mredexes) \u001B[38;5;241m!=\u001B[39m \u001B[38;5;241m0\u001B[39m:\n\u001B[1;32m---> 47\u001B[0m         \u001B[38;5;28;01mreturn\u001B[39;00m \u001B[38;5;28;43mself\u001B[39;49m\u001B[38;5;241;43m.\u001B[39;49m\u001B[43mredex_index\u001B[49m\u001B[43m(\u001B[49m\u001B[43mterm\u001B[49m\u001B[38;5;241;43m.\u001B[39;49m\u001B[43m_data\u001B[49m\u001B[43m[\u001B[49m\u001B[38;5;241;43m1\u001B[39;49m\u001B[43m]\u001B[49m\u001B[43m,\u001B[49m\n\u001B[0;32m     48\u001B[0m \u001B[43m                                \u001B[49m\u001B[43minit_index\u001B[49m\u001B[43m \u001B[49m\u001B[38;5;241;43m+\u001B[39;49m\u001B[43m \u001B[49m\u001B[43mterm\u001B[49m\u001B[38;5;241;43m.\u001B[39;49m\u001B[43m_data\u001B[49m\u001B[43m[\u001B[49m\u001B[38;5;241;43m0\u001B[39;49m\u001B[43m]\u001B[49m\u001B[38;5;241;43m.\u001B[39;49m\u001B[43mvertices_number\u001B[49m\u001B[43m \u001B[49m\u001B[38;5;241;43m+\u001B[39;49m\u001B[43m \u001B[49m\u001B[38;5;241;43m1\u001B[39;49m\u001B[43m)\u001B[49m\n\u001B[0;32m     49\u001B[0m     \u001B[38;5;28;01mreturn\u001B[39;00m init_index \u001B[38;5;241m+\u001B[39m \u001B[38;5;241m1\u001B[39m\n\u001B[0;32m     50\u001B[0m \u001B[38;5;66;03m# self is Abstraction:\u001B[39;00m\n",
      "File \u001B[1;32mD:\\documents\\python_projects\\pure-calculus\\src\\calculus_path_mod\\reduction_strategy.py:47\u001B[0m, in \u001B[0;36mLIStrategy.redex_index\u001B[1;34m(self, term, init_index)\u001B[0m\n\u001B[0;32m     45\u001B[0m         \u001B[38;5;28;01mreturn\u001B[39;00m \u001B[38;5;28mself\u001B[39m\u001B[38;5;241m.\u001B[39mredex_index(term\u001B[38;5;241m.\u001B[39m_data[\u001B[38;5;241m0\u001B[39m], init_index \u001B[38;5;241m+\u001B[39m \u001B[38;5;241m1\u001B[39m)\n\u001B[0;32m     46\u001B[0m     \u001B[38;5;28;01melif\u001B[39;00m \u001B[38;5;28mlen\u001B[39m(term\u001B[38;5;241m.\u001B[39m_data[\u001B[38;5;241m1\u001B[39m]\u001B[38;5;241m.\u001B[39mredexes) \u001B[38;5;241m!=\u001B[39m \u001B[38;5;241m0\u001B[39m:\n\u001B[1;32m---> 47\u001B[0m         \u001B[38;5;28;01mreturn\u001B[39;00m \u001B[38;5;28;43mself\u001B[39;49m\u001B[38;5;241;43m.\u001B[39;49m\u001B[43mredex_index\u001B[49m\u001B[43m(\u001B[49m\u001B[43mterm\u001B[49m\u001B[38;5;241;43m.\u001B[39;49m\u001B[43m_data\u001B[49m\u001B[43m[\u001B[49m\u001B[38;5;241;43m1\u001B[39;49m\u001B[43m]\u001B[49m\u001B[43m,\u001B[49m\n\u001B[0;32m     48\u001B[0m \u001B[43m                                \u001B[49m\u001B[43minit_index\u001B[49m\u001B[43m \u001B[49m\u001B[38;5;241;43m+\u001B[39;49m\u001B[43m \u001B[49m\u001B[43mterm\u001B[49m\u001B[38;5;241;43m.\u001B[39;49m\u001B[43m_data\u001B[49m\u001B[43m[\u001B[49m\u001B[38;5;241;43m0\u001B[39;49m\u001B[43m]\u001B[49m\u001B[38;5;241;43m.\u001B[39;49m\u001B[43mvertices_number\u001B[49m\u001B[43m \u001B[49m\u001B[38;5;241;43m+\u001B[39;49m\u001B[43m \u001B[49m\u001B[38;5;241;43m1\u001B[39;49m\u001B[43m)\u001B[49m\n\u001B[0;32m     49\u001B[0m     \u001B[38;5;28;01mreturn\u001B[39;00m init_index \u001B[38;5;241m+\u001B[39m \u001B[38;5;241m1\u001B[39m\n\u001B[0;32m     50\u001B[0m \u001B[38;5;66;03m# self is Abstraction:\u001B[39;00m\n",
      "    \u001B[1;31m[... skipping similar frames: LIStrategy.redex_index at line 47 (29 times)]\u001B[0m\n",
      "File \u001B[1;32mD:\\documents\\python_projects\\pure-calculus\\src\\calculus_path_mod\\reduction_strategy.py:47\u001B[0m, in \u001B[0;36mLIStrategy.redex_index\u001B[1;34m(self, term, init_index)\u001B[0m\n\u001B[0;32m     45\u001B[0m         \u001B[38;5;28;01mreturn\u001B[39;00m \u001B[38;5;28mself\u001B[39m\u001B[38;5;241m.\u001B[39mredex_index(term\u001B[38;5;241m.\u001B[39m_data[\u001B[38;5;241m0\u001B[39m], init_index \u001B[38;5;241m+\u001B[39m \u001B[38;5;241m1\u001B[39m)\n\u001B[0;32m     46\u001B[0m     \u001B[38;5;28;01melif\u001B[39;00m \u001B[38;5;28mlen\u001B[39m(term\u001B[38;5;241m.\u001B[39m_data[\u001B[38;5;241m1\u001B[39m]\u001B[38;5;241m.\u001B[39mredexes) \u001B[38;5;241m!=\u001B[39m \u001B[38;5;241m0\u001B[39m:\n\u001B[1;32m---> 47\u001B[0m         \u001B[38;5;28;01mreturn\u001B[39;00m \u001B[38;5;28;43mself\u001B[39;49m\u001B[38;5;241;43m.\u001B[39;49m\u001B[43mredex_index\u001B[49m\u001B[43m(\u001B[49m\u001B[43mterm\u001B[49m\u001B[38;5;241;43m.\u001B[39;49m\u001B[43m_data\u001B[49m\u001B[43m[\u001B[49m\u001B[38;5;241;43m1\u001B[39;49m\u001B[43m]\u001B[49m\u001B[43m,\u001B[49m\n\u001B[0;32m     48\u001B[0m \u001B[43m                                \u001B[49m\u001B[43minit_index\u001B[49m\u001B[43m \u001B[49m\u001B[38;5;241;43m+\u001B[39;49m\u001B[43m \u001B[49m\u001B[43mterm\u001B[49m\u001B[38;5;241;43m.\u001B[39;49m\u001B[43m_data\u001B[49m\u001B[43m[\u001B[49m\u001B[38;5;241;43m0\u001B[39;49m\u001B[43m]\u001B[49m\u001B[38;5;241;43m.\u001B[39;49m\u001B[43mvertices_number\u001B[49m\u001B[43m \u001B[49m\u001B[38;5;241;43m+\u001B[39;49m\u001B[43m \u001B[49m\u001B[38;5;241;43m1\u001B[39;49m\u001B[43m)\u001B[49m\n\u001B[0;32m     49\u001B[0m     \u001B[38;5;28;01mreturn\u001B[39;00m init_index \u001B[38;5;241m+\u001B[39m \u001B[38;5;241m1\u001B[39m\n\u001B[0;32m     50\u001B[0m \u001B[38;5;66;03m# self is Abstraction:\u001B[39;00m\n",
      "File \u001B[1;32mD:\\documents\\python_projects\\pure-calculus\\src\\calculus_path_mod\\reduction_strategy.py:46\u001B[0m, in \u001B[0;36mLIStrategy.redex_index\u001B[1;34m(self, term, init_index)\u001B[0m\n\u001B[0;32m     44\u001B[0m \u001B[38;5;28;01mif\u001B[39;00m \u001B[38;5;28mlen\u001B[39m(term\u001B[38;5;241m.\u001B[39m_data[\u001B[38;5;241m0\u001B[39m]\u001B[38;5;241m.\u001B[39mredexes) \u001B[38;5;241m!=\u001B[39m \u001B[38;5;241m0\u001B[39m:\n\u001B[0;32m     45\u001B[0m     \u001B[38;5;28;01mreturn\u001B[39;00m \u001B[38;5;28mself\u001B[39m\u001B[38;5;241m.\u001B[39mredex_index(term\u001B[38;5;241m.\u001B[39m_data[\u001B[38;5;241m0\u001B[39m], init_index \u001B[38;5;241m+\u001B[39m \u001B[38;5;241m1\u001B[39m)\n\u001B[1;32m---> 46\u001B[0m \u001B[38;5;28;01melif\u001B[39;00m \u001B[38;5;28mlen\u001B[39m(\u001B[43mterm\u001B[49m\u001B[38;5;241;43m.\u001B[39;49m\u001B[43m_data\u001B[49m\u001B[43m[\u001B[49m\u001B[38;5;241;43m1\u001B[39;49m\u001B[43m]\u001B[49m\u001B[38;5;241;43m.\u001B[39;49m\u001B[43mredexes\u001B[49m) \u001B[38;5;241m!=\u001B[39m \u001B[38;5;241m0\u001B[39m:\n\u001B[0;32m     47\u001B[0m     \u001B[38;5;28;01mreturn\u001B[39;00m \u001B[38;5;28mself\u001B[39m\u001B[38;5;241m.\u001B[39mredex_index(term\u001B[38;5;241m.\u001B[39m_data[\u001B[38;5;241m1\u001B[39m],\n\u001B[0;32m     48\u001B[0m                             init_index \u001B[38;5;241m+\u001B[39m term\u001B[38;5;241m.\u001B[39m_data[\u001B[38;5;241m0\u001B[39m]\u001B[38;5;241m.\u001B[39mvertices_number \u001B[38;5;241m+\u001B[39m \u001B[38;5;241m1\u001B[39m)\n\u001B[0;32m     49\u001B[0m \u001B[38;5;28;01mreturn\u001B[39;00m init_index \u001B[38;5;241m+\u001B[39m \u001B[38;5;241m1\u001B[39m\n",
      "File \u001B[1;32mD:\\documents\\python_projects\\pure-calculus\\src\\calculus_path_mod\\term_engine.py:150\u001B[0m, in \u001B[0;36mTerm.redexes\u001B[1;34m(self)\u001B[0m\n\u001B[0;32m    148\u001B[0m \u001B[38;5;66;03m# self is App:\u001B[39;00m\n\u001B[0;32m    149\u001B[0m redexes_list \u001B[38;5;241m=\u001B[39m [\u001B[38;5;28mself\u001B[39m] \u001B[38;5;28;01mif\u001B[39;00m \u001B[38;5;28mself\u001B[39m\u001B[38;5;241m.\u001B[39mis_beta_redex \u001B[38;5;28;01melse\u001B[39;00m []\n\u001B[1;32m--> 150\u001B[0m redexes_list \u001B[38;5;241m+\u001B[39m\u001B[38;5;241m=\u001B[39m \u001B[38;5;28mself\u001B[39m\u001B[38;5;241m.\u001B[39m_data[\u001B[38;5;241m0\u001B[39m]\u001B[38;5;241m.\u001B[39mredexes \u001B[38;5;241m+\u001B[39m \u001B[38;5;28;43mself\u001B[39;49m\u001B[38;5;241;43m.\u001B[39;49m\u001B[43m_data\u001B[49m\u001B[43m[\u001B[49m\u001B[38;5;241;43m1\u001B[39;49m\u001B[43m]\u001B[49m\u001B[38;5;241;43m.\u001B[39;49m\u001B[43mredexes\u001B[49m\n\u001B[0;32m    151\u001B[0m \u001B[38;5;28;01mreturn\u001B[39;00m redexes_list\n",
      "File \u001B[1;32mD:\\documents\\python_projects\\pure-calculus\\src\\calculus_path_mod\\term_engine.py:150\u001B[0m, in \u001B[0;36mTerm.redexes\u001B[1;34m(self)\u001B[0m\n\u001B[0;32m    148\u001B[0m \u001B[38;5;66;03m# self is App:\u001B[39;00m\n\u001B[0;32m    149\u001B[0m redexes_list \u001B[38;5;241m=\u001B[39m [\u001B[38;5;28mself\u001B[39m] \u001B[38;5;28;01mif\u001B[39;00m \u001B[38;5;28mself\u001B[39m\u001B[38;5;241m.\u001B[39mis_beta_redex \u001B[38;5;28;01melse\u001B[39;00m []\n\u001B[1;32m--> 150\u001B[0m redexes_list \u001B[38;5;241m+\u001B[39m\u001B[38;5;241m=\u001B[39m \u001B[38;5;28mself\u001B[39m\u001B[38;5;241m.\u001B[39m_data[\u001B[38;5;241m0\u001B[39m]\u001B[38;5;241m.\u001B[39mredexes \u001B[38;5;241m+\u001B[39m \u001B[38;5;28;43mself\u001B[39;49m\u001B[38;5;241;43m.\u001B[39;49m\u001B[43m_data\u001B[49m\u001B[43m[\u001B[49m\u001B[38;5;241;43m1\u001B[39;49m\u001B[43m]\u001B[49m\u001B[38;5;241;43m.\u001B[39;49m\u001B[43mredexes\u001B[49m\n\u001B[0;32m    151\u001B[0m \u001B[38;5;28;01mreturn\u001B[39;00m redexes_list\n",
      "    \u001B[1;31m[... skipping similar frames: Term.redexes at line 150 (715 times)]\u001B[0m\n",
      "File \u001B[1;32mD:\\documents\\python_projects\\pure-calculus\\src\\calculus_path_mod\\term_engine.py:150\u001B[0m, in \u001B[0;36mTerm.redexes\u001B[1;34m(self)\u001B[0m\n\u001B[0;32m    148\u001B[0m \u001B[38;5;66;03m# self is App:\u001B[39;00m\n\u001B[0;32m    149\u001B[0m redexes_list \u001B[38;5;241m=\u001B[39m [\u001B[38;5;28mself\u001B[39m] \u001B[38;5;28;01mif\u001B[39;00m \u001B[38;5;28mself\u001B[39m\u001B[38;5;241m.\u001B[39mis_beta_redex \u001B[38;5;28;01melse\u001B[39;00m []\n\u001B[1;32m--> 150\u001B[0m redexes_list \u001B[38;5;241m+\u001B[39m\u001B[38;5;241m=\u001B[39m \u001B[38;5;28mself\u001B[39m\u001B[38;5;241m.\u001B[39m_data[\u001B[38;5;241m0\u001B[39m]\u001B[38;5;241m.\u001B[39mredexes \u001B[38;5;241m+\u001B[39m \u001B[38;5;28;43mself\u001B[39;49m\u001B[38;5;241;43m.\u001B[39;49m\u001B[43m_data\u001B[49m\u001B[43m[\u001B[49m\u001B[38;5;241;43m1\u001B[39;49m\u001B[43m]\u001B[49m\u001B[38;5;241;43m.\u001B[39;49m\u001B[43mredexes\u001B[49m\n\u001B[0;32m    151\u001B[0m \u001B[38;5;28;01mreturn\u001B[39;00m redexes_list\n",
      "File \u001B[1;32mD:\\documents\\python_projects\\pure-calculus\\src\\calculus_path_mod\\term_engine.py:149\u001B[0m, in \u001B[0;36mTerm.redexes\u001B[1;34m(self)\u001B[0m\n\u001B[0;32m    147\u001B[0m     \u001B[38;5;28;01mreturn\u001B[39;00m \u001B[38;5;28mself\u001B[39m\u001B[38;5;241m.\u001B[39m_data[\u001B[38;5;241m1\u001B[39m]\u001B[38;5;241m.\u001B[39mredexes\n\u001B[0;32m    148\u001B[0m \u001B[38;5;66;03m# self is App:\u001B[39;00m\n\u001B[1;32m--> 149\u001B[0m redexes_list \u001B[38;5;241m=\u001B[39m [\u001B[38;5;28mself\u001B[39m] \u001B[38;5;28;01mif\u001B[39;00m \u001B[38;5;28;43mself\u001B[39;49m\u001B[38;5;241;43m.\u001B[39;49m\u001B[43mis_beta_redex\u001B[49m \u001B[38;5;28;01melse\u001B[39;00m []\n\u001B[0;32m    150\u001B[0m redexes_list \u001B[38;5;241m+\u001B[39m\u001B[38;5;241m=\u001B[39m \u001B[38;5;28mself\u001B[39m\u001B[38;5;241m.\u001B[39m_data[\u001B[38;5;241m0\u001B[39m]\u001B[38;5;241m.\u001B[39mredexes \u001B[38;5;241m+\u001B[39m \u001B[38;5;28mself\u001B[39m\u001B[38;5;241m.\u001B[39m_data[\u001B[38;5;241m1\u001B[39m]\u001B[38;5;241m.\u001B[39mredexes\n\u001B[0;32m    151\u001B[0m \u001B[38;5;28;01mreturn\u001B[39;00m redexes_list\n",
      "File \u001B[1;32mD:\\documents\\python_projects\\pure-calculus\\src\\calculus_path_mod\\term_engine.py:136\u001B[0m, in \u001B[0;36mTerm.is_beta_redex\u001B[1;34m(self)\u001B[0m\n\u001B[0;32m    133\u001B[0m \u001B[38;5;28;01mdef\u001B[39;00m \u001B[38;5;21mcall_as_method\u001B[39m(\u001B[38;5;28mself\u001B[39m, fun, \u001B[38;5;241m*\u001B[39margs):\n\u001B[0;32m    134\u001B[0m     \u001B[38;5;28;01mreturn\u001B[39;00m fun(\u001B[38;5;28mself\u001B[39m, \u001B[38;5;241m*\u001B[39margs)\n\u001B[1;32m--> 136\u001B[0m \u001B[38;5;129m@property\u001B[39m\n\u001B[0;32m    137\u001B[0m \u001B[38;5;28;01mdef\u001B[39;00m \u001B[38;5;21mis_beta_redex\u001B[39m(\u001B[38;5;28mself\u001B[39m):\n\u001B[0;32m    138\u001B[0m \u001B[38;5;250m    \u001B[39m\u001B[38;5;124;03m\"\"\":return: bool is the term is a beta-redex\"\"\"\u001B[39;00m\n\u001B[0;32m    139\u001B[0m     \u001B[38;5;28;01mreturn\u001B[39;00m (\u001B[38;5;28mself\u001B[39m\u001B[38;5;241m.\u001B[39mkind \u001B[38;5;241m==\u001B[39m \u001B[38;5;124m\"\u001B[39m\u001B[38;5;124mapplication\u001B[39m\u001B[38;5;124m\"\u001B[39m) \u001B[38;5;129;01mand\u001B[39;00m (\u001B[38;5;28mself\u001B[39m\u001B[38;5;241m.\u001B[39m_data[\u001B[38;5;241m0\u001B[39m]\u001B[38;5;241m.\u001B[39mkind \u001B[38;5;241m==\u001B[39m \u001B[38;5;124m\"\u001B[39m\u001B[38;5;124mabstraction\u001B[39m\u001B[38;5;124m\"\u001B[39m)\n",
      "\u001B[1;31mKeyboardInterrupt\u001B[0m: "
     ]
    }
   ],
   "source": [
    "norm_term, steps = fib_2.normalize(strategy, is_limited=False)\n",
    "print(f\"steps {steps}\\n{norm_term.funky_str()}\")"
   ],
   "metadata": {
    "collapsed": false
   }
  }
 ],
 "metadata": {
  "kernelspec": {
   "display_name": "Python 3",
   "language": "python",
   "name": "python3"
  },
  "language_info": {
   "codemirror_mode": {
    "name": "ipython",
    "version": 2
   },
   "file_extension": ".py",
   "mimetype": "text/x-python",
   "name": "python",
   "nbconvert_exporter": "python",
   "pygments_lexer": "ipython2",
   "version": "2.7.6"
  }
 },
 "nbformat": 4,
 "nbformat_minor": 0
}
