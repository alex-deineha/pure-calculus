{
 "cells": [
  {
   "cell_type": "code",
   "execution_count": 1,
   "metadata": {
    "collapsed": true,
    "ExecuteTime": {
     "start_time": "2023-05-23T14:59:16.712996Z",
     "end_time": "2023-05-23T14:59:16.818004Z"
    }
   },
   "outputs": [],
   "source": [
    "import sys\n",
    "from tqdm import tqdm\n",
    "\n",
    "sys.path.append(\"../\")\n",
    "from calculus_path_mod.term_engine import *\n",
    "from calculus_path_mod.reduction_strategy import *\n",
    "from calculus_path_mod.terms import num_comparison, nat_numbers, arithm_ops, combinators\n",
    "\n",
    "from calculus_path_mod.terms.pseudonym import *"
   ]
  },
  {
   "cell_type": "markdown",
   "source": [
    "# Define Fibonacci term\n",
    "An algorithm I took [here](https://whatthefunctional.wordpress.com/2019/02/21/a-brief-introduction-to-the-%CE%BB-calculus-part-2/)\n",
    "An Etta_v-combinator you can find [here](https://en.wikipedia.org/wiki/Fixed-point_combinator)"
   ],
   "metadata": {
    "collapsed": false
   }
  },
  {
   "cell_type": "code",
   "execution_count": 2,
   "outputs": [],
   "source": [
    "def fib_term():\n",
    "    # fib_iter = λfib_iter'.\n",
    "    #        λn.( (is_zero n) zero\n",
    "    #        ((is_zero (predecessor n)) one (add (fib_iter' (predecessor n)) (fib_iter' (predecessor (predecessor n))) ))\n",
    "    #        )\n",
    "    fib_iter, n = Var(), Var()\n",
    "    fib_iter_, n_ = Atom(fib_iter), Atom(n)\n",
    "\n",
    "    inner_term_1 = App(fib_iter_, App(arithm_ops.pred_term(), n_))\n",
    "    inner_term_2 = App(fib_iter_, App(arithm_ops.pred_term(), App(arithm_ops.pred_term(), n_)))\n",
    "    inner_term_3 = App(num_comparison.iszero_term(), App(arithm_ops.pred_term(), n_))\n",
    "    super_inner_term = multi_app_term(inner_term_3, nat_numbers.num_term(1),\n",
    "                                      multi_app_term(arithm_ops.plus_term(), inner_term_1, inner_term_2))\n",
    "    body_term = multi_app_term(App(num_comparison.iszero_term(), n_), nat_numbers.num_term(0), super_inner_term)\n",
    "    body_term = Lambda(n, body_term)\n",
    "    fib_iter_term = Lambda(fib_iter, body_term)\n",
    "\n",
    "    return Application(combinators.etta_v_term(), fib_iter_term)"
   ],
   "metadata": {
    "collapsed": false,
    "ExecuteTime": {
     "start_time": "2023-05-23T14:59:43.638295Z",
     "end_time": "2023-05-23T14:59:43.646525Z"
    }
   }
  },
  {
   "cell_type": "code",
   "execution_count": 3,
   "outputs": [],
   "source": [
    "strategy_lo = LOStrategy()\n",
    "strategy_li = LIStrategy()\n",
    "\n",
    "def test_term(strategy_name, idx):\n",
    "    strategy = strategy_lo if strategy_name == \"LO\" else strategy_li\n",
    "    fib_idx = App(fib_term(), nat_numbers.num_term(idx))\n",
    "    norm_term, steps = fib_idx.normalize(strategy, is_limited=False)\n",
    "    print(f\"{strategy_name}: {steps} {norm_term.funky_str()}\")"
   ],
   "metadata": {
    "collapsed": false,
    "ExecuteTime": {
     "start_time": "2023-05-23T15:08:55.475406Z",
     "end_time": "2023-05-23T15:08:55.478476Z"
    }
   }
  },
  {
   "cell_type": "markdown",
   "source": [
    "# Test LO"
   ],
   "metadata": {
    "collapsed": false
   }
  },
  {
   "cell_type": "code",
   "execution_count": 4,
   "outputs": [
    {
     "name": "stdout",
     "output_type": "stream",
     "text": [
      "LO: 9 (λx.(λy.y))\n"
     ]
    }
   ],
   "source": [
    "test_term(\"LO\", 0)"
   ],
   "metadata": {
    "collapsed": false,
    "ExecuteTime": {
     "start_time": "2023-05-23T15:08:58.162505Z",
     "end_time": "2023-05-23T15:08:58.182871Z"
    }
   }
  },
  {
   "cell_type": "code",
   "execution_count": 5,
   "outputs": [
    {
     "name": "stdout",
     "output_type": "stream",
     "text": [
      "LO: 31 (λx.(λy.(x y)))\n"
     ]
    }
   ],
   "source": [
    "test_term(\"LO\", 1)"
   ],
   "metadata": {
    "collapsed": false,
    "ExecuteTime": {
     "start_time": "2023-05-23T15:08:59.192077Z",
     "end_time": "2023-05-23T15:08:59.483849Z"
    }
   }
  },
  {
   "cell_type": "code",
   "execution_count": 6,
   "outputs": [
    {
     "name": "stdout",
     "output_type": "stream",
     "text": [
      "LO: 69 (λx.(λy.(x (x y))))\n"
     ]
    }
   ],
   "source": [
    "test_term(\"LO\", 2)"
   ],
   "metadata": {
    "collapsed": false,
    "ExecuteTime": {
     "start_time": "2023-05-23T15:09:00.252945Z",
     "end_time": "2023-05-23T15:09:01.700741Z"
    }
   }
  },
  {
   "cell_type": "code",
   "execution_count": 7,
   "outputs": [
    {
     "name": "stdout",
     "output_type": "stream",
     "text": [
      "LO: 69 (λx.(λy.(x (x y))))\n"
     ]
    }
   ],
   "source": [
    "test_term(\"LO\", 3)"
   ],
   "metadata": {
    "collapsed": false,
    "ExecuteTime": {
     "start_time": "2023-05-23T15:09:02.591410Z",
     "end_time": "2023-05-23T15:09:03.970843Z"
    }
   }
  },
  {
   "cell_type": "code",
   "execution_count": 8,
   "outputs": [
    {
     "name": "stdout",
     "output_type": "stream",
     "text": [
      "LO: 69 (λx.(λy.(x (x y))))\n"
     ]
    }
   ],
   "source": [
    "test_term(\"LO\", 4)"
   ],
   "metadata": {
    "collapsed": false,
    "ExecuteTime": {
     "start_time": "2023-05-23T15:09:03.972052Z",
     "end_time": "2023-05-23T15:09:05.196323Z"
    }
   }
  },
  {
   "cell_type": "code",
   "execution_count": 9,
   "outputs": [
    {
     "name": "stdout",
     "output_type": "stream",
     "text": [
      "LO: 69 (λx.(λy.(x (x y))))\n"
     ]
    }
   ],
   "source": [
    "test_term(\"LO\", 5)"
   ],
   "metadata": {
    "collapsed": false,
    "ExecuteTime": {
     "start_time": "2023-05-23T15:09:07.366368Z",
     "end_time": "2023-05-23T15:09:08.704668Z"
    }
   }
  },
  {
   "cell_type": "markdown",
   "source": [
    "# Test LI"
   ],
   "metadata": {
    "collapsed": false
   }
  },
  {
   "cell_type": "code",
   "execution_count": 10,
   "outputs": [
    {
     "ename": "KeyboardInterrupt",
     "evalue": "",
     "output_type": "error",
     "traceback": [
      "\u001B[1;31m---------------------------------------------------------------------------\u001B[0m",
      "\u001B[1;31mKeyboardInterrupt\u001B[0m                         Traceback (most recent call last)",
      "Cell \u001B[1;32mIn[10], line 1\u001B[0m\n\u001B[1;32m----> 1\u001B[0m \u001B[43mtest_term\u001B[49m\u001B[43m(\u001B[49m\u001B[38;5;124;43m\"\u001B[39;49m\u001B[38;5;124;43mLI\u001B[39;49m\u001B[38;5;124;43m\"\u001B[39;49m\u001B[43m,\u001B[49m\u001B[43m \u001B[49m\u001B[38;5;241;43m0\u001B[39;49m\u001B[43m)\u001B[49m\n",
      "Cell \u001B[1;32mIn[3], line 7\u001B[0m, in \u001B[0;36mtest_term\u001B[1;34m(strategy_name, idx)\u001B[0m\n\u001B[0;32m      5\u001B[0m strategy \u001B[38;5;241m=\u001B[39m strategy_lo \u001B[38;5;28;01mif\u001B[39;00m strategy_name \u001B[38;5;241m==\u001B[39m \u001B[38;5;124m\"\u001B[39m\u001B[38;5;124mLO\u001B[39m\u001B[38;5;124m\"\u001B[39m \u001B[38;5;28;01melse\u001B[39;00m strategy_li\n\u001B[0;32m      6\u001B[0m fib_idx \u001B[38;5;241m=\u001B[39m App(fib_term(), nat_numbers\u001B[38;5;241m.\u001B[39mnum_term(idx))\n\u001B[1;32m----> 7\u001B[0m norm_term, steps \u001B[38;5;241m=\u001B[39m \u001B[43mfib_idx\u001B[49m\u001B[38;5;241;43m.\u001B[39;49m\u001B[43mnormalize\u001B[49m\u001B[43m(\u001B[49m\u001B[43mstrategy\u001B[49m\u001B[43m,\u001B[49m\u001B[43m \u001B[49m\u001B[43mis_limited\u001B[49m\u001B[38;5;241;43m=\u001B[39;49m\u001B[38;5;28;43;01mFalse\u001B[39;49;00m\u001B[43m)\u001B[49m\n\u001B[0;32m      8\u001B[0m \u001B[38;5;28mprint\u001B[39m(\u001B[38;5;124mf\u001B[39m\u001B[38;5;124m\"\u001B[39m\u001B[38;5;132;01m{\u001B[39;00mstrategy_name\u001B[38;5;132;01m}\u001B[39;00m\u001B[38;5;124m: \u001B[39m\u001B[38;5;132;01m{\u001B[39;00msteps\u001B[38;5;132;01m}\u001B[39;00m\u001B[38;5;124m \u001B[39m\u001B[38;5;132;01m{\u001B[39;00mnorm_term\u001B[38;5;241m.\u001B[39mfunky_str()\u001B[38;5;132;01m}\u001B[39;00m\u001B[38;5;124m\"\u001B[39m)\n",
      "File \u001B[1;32mD:\\documents\\python_projects\\pure-calculus\\src\\calculus_path_mod\\term_engine.py:202\u001B[0m, in \u001B[0;36mTerm.normalize\u001B[1;34m(self, strategy, is_limited)\u001B[0m\n\u001B[0;32m    200\u001B[0m count_steps \u001B[38;5;241m=\u001B[39m \u001B[38;5;241m0\u001B[39m\n\u001B[0;32m    201\u001B[0m \u001B[38;5;28;01mwhile\u001B[39;00m \u001B[38;5;28mlen\u001B[39m(term\u001B[38;5;241m.\u001B[39mredexes) \u001B[38;5;241m>\u001B[39m \u001B[38;5;241m0\u001B[39m:\n\u001B[1;32m--> 202\u001B[0m     term \u001B[38;5;241m=\u001B[39m \u001B[43mterm\u001B[49m\u001B[38;5;241;43m.\u001B[39;49m\u001B[43m_beta_conversion\u001B[49m\u001B[43m(\u001B[49m\u001B[43mstrategy\u001B[49m\u001B[43m)\u001B[49m\u001B[38;5;241m.\u001B[39m_update_bound_vars()\n\u001B[0;32m    203\u001B[0m     count_steps \u001B[38;5;241m+\u001B[39m\u001B[38;5;241m=\u001B[39m \u001B[38;5;241m1\u001B[39m\n\u001B[0;32m    204\u001B[0m     \u001B[38;5;66;03m# computation limitation\u001B[39;00m\n",
      "File \u001B[1;32mD:\\documents\\python_projects\\pure-calculus\\src\\calculus_path_mod\\term_engine.py:214\u001B[0m, in \u001B[0;36mTerm._beta_conversion\u001B[1;34m(self, strategy)\u001B[0m\n\u001B[0;32m    209\u001B[0m \u001B[38;5;28;01mdef\u001B[39;00m \u001B[38;5;21m_beta_conversion\u001B[39m(\u001B[38;5;28mself\u001B[39m, strategy):\n\u001B[0;32m    210\u001B[0m \u001B[38;5;250m    \u001B[39m\u001B[38;5;124;03m\"\"\"\u001B[39;00m\n\u001B[0;32m    211\u001B[0m \u001B[38;5;124;03m    :param strategy: OneStepStrategy\u001B[39;00m\n\u001B[0;32m    212\u001B[0m \u001B[38;5;124;03m    :return: term with redex eliminated using the given strategy\u001B[39;00m\n\u001B[0;32m    213\u001B[0m \u001B[38;5;124;03m    \"\"\"\u001B[39;00m\n\u001B[1;32m--> 214\u001B[0m     index \u001B[38;5;241m=\u001B[39m \u001B[43mstrategy\u001B[49m\u001B[38;5;241;43m.\u001B[39;49m\u001B[43mredex_index\u001B[49m\u001B[43m(\u001B[49m\u001B[38;5;28;43mself\u001B[39;49m\u001B[43m)\u001B[49m\n\u001B[0;32m    215\u001B[0m     subterm_ \u001B[38;5;241m=\u001B[39m \u001B[38;5;28mself\u001B[39m\u001B[38;5;241m.\u001B[39msubterm(index)\n\u001B[0;32m    216\u001B[0m     reduced_term \u001B[38;5;241m=\u001B[39m subterm_\u001B[38;5;241m.\u001B[39m_remove_outer_redex()\n",
      "File \u001B[1;32mD:\\documents\\python_projects\\pure-calculus\\src\\calculus_path_mod\\reduction_strategy.py:45\u001B[0m, in \u001B[0;36mLIStrategy.redex_index\u001B[1;34m(self, term, init_index)\u001B[0m\n\u001B[0;32m     43\u001B[0m \u001B[38;5;28;01mif\u001B[39;00m term\u001B[38;5;241m.\u001B[39mkind \u001B[38;5;241m==\u001B[39m \u001B[38;5;124m\"\u001B[39m\u001B[38;5;124mapplication\u001B[39m\u001B[38;5;124m\"\u001B[39m:\n\u001B[0;32m     44\u001B[0m     \u001B[38;5;28;01mif\u001B[39;00m \u001B[38;5;28mlen\u001B[39m(term\u001B[38;5;241m.\u001B[39m_data[\u001B[38;5;241m0\u001B[39m]\u001B[38;5;241m.\u001B[39mredexes) \u001B[38;5;241m!=\u001B[39m \u001B[38;5;241m0\u001B[39m:\n\u001B[1;32m---> 45\u001B[0m         \u001B[38;5;28;01mreturn\u001B[39;00m \u001B[38;5;28;43mself\u001B[39;49m\u001B[38;5;241;43m.\u001B[39;49m\u001B[43mredex_index\u001B[49m\u001B[43m(\u001B[49m\u001B[43mterm\u001B[49m\u001B[38;5;241;43m.\u001B[39;49m\u001B[43m_data\u001B[49m\u001B[43m[\u001B[49m\u001B[38;5;241;43m0\u001B[39;49m\u001B[43m]\u001B[49m\u001B[43m,\u001B[49m\u001B[43m \u001B[49m\u001B[43minit_index\u001B[49m\u001B[43m \u001B[49m\u001B[38;5;241;43m+\u001B[39;49m\u001B[43m \u001B[49m\u001B[38;5;241;43m1\u001B[39;49m\u001B[43m)\u001B[49m\n\u001B[0;32m     46\u001B[0m     \u001B[38;5;28;01melif\u001B[39;00m \u001B[38;5;28mlen\u001B[39m(term\u001B[38;5;241m.\u001B[39m_data[\u001B[38;5;241m1\u001B[39m]\u001B[38;5;241m.\u001B[39mredexes) \u001B[38;5;241m!=\u001B[39m \u001B[38;5;241m0\u001B[39m:\n\u001B[0;32m     47\u001B[0m         \u001B[38;5;28;01mreturn\u001B[39;00m \u001B[38;5;28mself\u001B[39m\u001B[38;5;241m.\u001B[39mredex_index(term\u001B[38;5;241m.\u001B[39m_data[\u001B[38;5;241m1\u001B[39m],\n\u001B[0;32m     48\u001B[0m                                 init_index \u001B[38;5;241m+\u001B[39m term\u001B[38;5;241m.\u001B[39m_data[\u001B[38;5;241m0\u001B[39m]\u001B[38;5;241m.\u001B[39mvertices_number \u001B[38;5;241m+\u001B[39m \u001B[38;5;241m1\u001B[39m)\n",
      "File \u001B[1;32mD:\\documents\\python_projects\\pure-calculus\\src\\calculus_path_mod\\reduction_strategy.py:45\u001B[0m, in \u001B[0;36mLIStrategy.redex_index\u001B[1;34m(self, term, init_index)\u001B[0m\n\u001B[0;32m     43\u001B[0m \u001B[38;5;28;01mif\u001B[39;00m term\u001B[38;5;241m.\u001B[39mkind \u001B[38;5;241m==\u001B[39m \u001B[38;5;124m\"\u001B[39m\u001B[38;5;124mapplication\u001B[39m\u001B[38;5;124m\"\u001B[39m:\n\u001B[0;32m     44\u001B[0m     \u001B[38;5;28;01mif\u001B[39;00m \u001B[38;5;28mlen\u001B[39m(term\u001B[38;5;241m.\u001B[39m_data[\u001B[38;5;241m0\u001B[39m]\u001B[38;5;241m.\u001B[39mredexes) \u001B[38;5;241m!=\u001B[39m \u001B[38;5;241m0\u001B[39m:\n\u001B[1;32m---> 45\u001B[0m         \u001B[38;5;28;01mreturn\u001B[39;00m \u001B[38;5;28;43mself\u001B[39;49m\u001B[38;5;241;43m.\u001B[39;49m\u001B[43mredex_index\u001B[49m\u001B[43m(\u001B[49m\u001B[43mterm\u001B[49m\u001B[38;5;241;43m.\u001B[39;49m\u001B[43m_data\u001B[49m\u001B[43m[\u001B[49m\u001B[38;5;241;43m0\u001B[39;49m\u001B[43m]\u001B[49m\u001B[43m,\u001B[49m\u001B[43m \u001B[49m\u001B[43minit_index\u001B[49m\u001B[43m \u001B[49m\u001B[38;5;241;43m+\u001B[39;49m\u001B[43m \u001B[49m\u001B[38;5;241;43m1\u001B[39;49m\u001B[43m)\u001B[49m\n\u001B[0;32m     46\u001B[0m     \u001B[38;5;28;01melif\u001B[39;00m \u001B[38;5;28mlen\u001B[39m(term\u001B[38;5;241m.\u001B[39m_data[\u001B[38;5;241m1\u001B[39m]\u001B[38;5;241m.\u001B[39mredexes) \u001B[38;5;241m!=\u001B[39m \u001B[38;5;241m0\u001B[39m:\n\u001B[0;32m     47\u001B[0m         \u001B[38;5;28;01mreturn\u001B[39;00m \u001B[38;5;28mself\u001B[39m\u001B[38;5;241m.\u001B[39mredex_index(term\u001B[38;5;241m.\u001B[39m_data[\u001B[38;5;241m1\u001B[39m],\n\u001B[0;32m     48\u001B[0m                                 init_index \u001B[38;5;241m+\u001B[39m term\u001B[38;5;241m.\u001B[39m_data[\u001B[38;5;241m0\u001B[39m]\u001B[38;5;241m.\u001B[39mvertices_number \u001B[38;5;241m+\u001B[39m \u001B[38;5;241m1\u001B[39m)\n",
      "File \u001B[1;32mD:\\documents\\python_projects\\pure-calculus\\src\\calculus_path_mod\\reduction_strategy.py:51\u001B[0m, in \u001B[0;36mLIStrategy.redex_index\u001B[1;34m(self, term, init_index)\u001B[0m\n\u001B[0;32m     49\u001B[0m     \u001B[38;5;28;01mreturn\u001B[39;00m init_index \u001B[38;5;241m+\u001B[39m \u001B[38;5;241m1\u001B[39m\n\u001B[0;32m     50\u001B[0m \u001B[38;5;66;03m# self is Abstraction:\u001B[39;00m\n\u001B[1;32m---> 51\u001B[0m \u001B[38;5;28;01mreturn\u001B[39;00m \u001B[38;5;28;43mself\u001B[39;49m\u001B[38;5;241;43m.\u001B[39;49m\u001B[43mredex_index\u001B[49m\u001B[43m(\u001B[49m\u001B[43mterm\u001B[49m\u001B[38;5;241;43m.\u001B[39;49m\u001B[43m_data\u001B[49m\u001B[43m[\u001B[49m\u001B[38;5;241;43m1\u001B[39;49m\u001B[43m]\u001B[49m\u001B[43m,\u001B[49m\u001B[43m \u001B[49m\u001B[43minit_index\u001B[49m\u001B[43m \u001B[49m\u001B[38;5;241;43m+\u001B[39;49m\u001B[43m \u001B[49m\u001B[38;5;241;43m1\u001B[39;49m\u001B[43m)\u001B[49m\n",
      "File \u001B[1;32mD:\\documents\\python_projects\\pure-calculus\\src\\calculus_path_mod\\reduction_strategy.py:47\u001B[0m, in \u001B[0;36mLIStrategy.redex_index\u001B[1;34m(self, term, init_index)\u001B[0m\n\u001B[0;32m     45\u001B[0m         \u001B[38;5;28;01mreturn\u001B[39;00m \u001B[38;5;28mself\u001B[39m\u001B[38;5;241m.\u001B[39mredex_index(term\u001B[38;5;241m.\u001B[39m_data[\u001B[38;5;241m0\u001B[39m], init_index \u001B[38;5;241m+\u001B[39m \u001B[38;5;241m1\u001B[39m)\n\u001B[0;32m     46\u001B[0m     \u001B[38;5;28;01melif\u001B[39;00m \u001B[38;5;28mlen\u001B[39m(term\u001B[38;5;241m.\u001B[39m_data[\u001B[38;5;241m1\u001B[39m]\u001B[38;5;241m.\u001B[39mredexes) \u001B[38;5;241m!=\u001B[39m \u001B[38;5;241m0\u001B[39m:\n\u001B[1;32m---> 47\u001B[0m         \u001B[38;5;28;01mreturn\u001B[39;00m \u001B[38;5;28;43mself\u001B[39;49m\u001B[38;5;241;43m.\u001B[39;49m\u001B[43mredex_index\u001B[49m\u001B[43m(\u001B[49m\u001B[43mterm\u001B[49m\u001B[38;5;241;43m.\u001B[39;49m\u001B[43m_data\u001B[49m\u001B[43m[\u001B[49m\u001B[38;5;241;43m1\u001B[39;49m\u001B[43m]\u001B[49m\u001B[43m,\u001B[49m\n\u001B[0;32m     48\u001B[0m \u001B[43m                                \u001B[49m\u001B[43minit_index\u001B[49m\u001B[43m \u001B[49m\u001B[38;5;241;43m+\u001B[39;49m\u001B[43m \u001B[49m\u001B[43mterm\u001B[49m\u001B[38;5;241;43m.\u001B[39;49m\u001B[43m_data\u001B[49m\u001B[43m[\u001B[49m\u001B[38;5;241;43m0\u001B[39;49m\u001B[43m]\u001B[49m\u001B[38;5;241;43m.\u001B[39;49m\u001B[43mvertices_number\u001B[49m\u001B[43m \u001B[49m\u001B[38;5;241;43m+\u001B[39;49m\u001B[43m \u001B[49m\u001B[38;5;241;43m1\u001B[39;49m\u001B[43m)\u001B[49m\n\u001B[0;32m     49\u001B[0m     \u001B[38;5;28;01mreturn\u001B[39;00m init_index \u001B[38;5;241m+\u001B[39m \u001B[38;5;241m1\u001B[39m\n\u001B[0;32m     50\u001B[0m \u001B[38;5;66;03m# self is Abstraction:\u001B[39;00m\n",
      "File \u001B[1;32mD:\\documents\\python_projects\\pure-calculus\\src\\calculus_path_mod\\reduction_strategy.py:51\u001B[0m, in \u001B[0;36mLIStrategy.redex_index\u001B[1;34m(self, term, init_index)\u001B[0m\n\u001B[0;32m     49\u001B[0m     \u001B[38;5;28;01mreturn\u001B[39;00m init_index \u001B[38;5;241m+\u001B[39m \u001B[38;5;241m1\u001B[39m\n\u001B[0;32m     50\u001B[0m \u001B[38;5;66;03m# self is Abstraction:\u001B[39;00m\n\u001B[1;32m---> 51\u001B[0m \u001B[38;5;28;01mreturn\u001B[39;00m \u001B[38;5;28;43mself\u001B[39;49m\u001B[38;5;241;43m.\u001B[39;49m\u001B[43mredex_index\u001B[49m\u001B[43m(\u001B[49m\u001B[43mterm\u001B[49m\u001B[38;5;241;43m.\u001B[39;49m\u001B[43m_data\u001B[49m\u001B[43m[\u001B[49m\u001B[38;5;241;43m1\u001B[39;49m\u001B[43m]\u001B[49m\u001B[43m,\u001B[49m\u001B[43m \u001B[49m\u001B[43minit_index\u001B[49m\u001B[43m \u001B[49m\u001B[38;5;241;43m+\u001B[39;49m\u001B[43m \u001B[49m\u001B[38;5;241;43m1\u001B[39;49m\u001B[43m)\u001B[49m\n",
      "    \u001B[1;31m[... skipping similar frames: LIStrategy.redex_index at line 45 (2 times), LIStrategy.redex_index at line 51 (1 times)]\u001B[0m\n",
      "File \u001B[1;32mD:\\documents\\python_projects\\pure-calculus\\src\\calculus_path_mod\\reduction_strategy.py:47\u001B[0m, in \u001B[0;36mLIStrategy.redex_index\u001B[1;34m(self, term, init_index)\u001B[0m\n\u001B[0;32m     45\u001B[0m         \u001B[38;5;28;01mreturn\u001B[39;00m \u001B[38;5;28mself\u001B[39m\u001B[38;5;241m.\u001B[39mredex_index(term\u001B[38;5;241m.\u001B[39m_data[\u001B[38;5;241m0\u001B[39m], init_index \u001B[38;5;241m+\u001B[39m \u001B[38;5;241m1\u001B[39m)\n\u001B[0;32m     46\u001B[0m     \u001B[38;5;28;01melif\u001B[39;00m \u001B[38;5;28mlen\u001B[39m(term\u001B[38;5;241m.\u001B[39m_data[\u001B[38;5;241m1\u001B[39m]\u001B[38;5;241m.\u001B[39mredexes) \u001B[38;5;241m!=\u001B[39m \u001B[38;5;241m0\u001B[39m:\n\u001B[1;32m---> 47\u001B[0m         \u001B[38;5;28;01mreturn\u001B[39;00m \u001B[38;5;28;43mself\u001B[39;49m\u001B[38;5;241;43m.\u001B[39;49m\u001B[43mredex_index\u001B[49m\u001B[43m(\u001B[49m\u001B[43mterm\u001B[49m\u001B[38;5;241;43m.\u001B[39;49m\u001B[43m_data\u001B[49m\u001B[43m[\u001B[49m\u001B[38;5;241;43m1\u001B[39;49m\u001B[43m]\u001B[49m\u001B[43m,\u001B[49m\n\u001B[0;32m     48\u001B[0m \u001B[43m                                \u001B[49m\u001B[43minit_index\u001B[49m\u001B[43m \u001B[49m\u001B[38;5;241;43m+\u001B[39;49m\u001B[43m \u001B[49m\u001B[43mterm\u001B[49m\u001B[38;5;241;43m.\u001B[39;49m\u001B[43m_data\u001B[49m\u001B[43m[\u001B[49m\u001B[38;5;241;43m0\u001B[39;49m\u001B[43m]\u001B[49m\u001B[38;5;241;43m.\u001B[39;49m\u001B[43mvertices_number\u001B[49m\u001B[43m \u001B[49m\u001B[38;5;241;43m+\u001B[39;49m\u001B[43m \u001B[49m\u001B[38;5;241;43m1\u001B[39;49m\u001B[43m)\u001B[49m\n\u001B[0;32m     49\u001B[0m     \u001B[38;5;28;01mreturn\u001B[39;00m init_index \u001B[38;5;241m+\u001B[39m \u001B[38;5;241m1\u001B[39m\n\u001B[0;32m     50\u001B[0m \u001B[38;5;66;03m# self is Abstraction:\u001B[39;00m\n",
      "    \u001B[1;31m[... skipping similar frames: LIStrategy.redex_index at line 51 (83 times), LIStrategy.redex_index at line 45 (83 times), LIStrategy.redex_index at line 47 (41 times)]\u001B[0m\n",
      "File \u001B[1;32mD:\\documents\\python_projects\\pure-calculus\\src\\calculus_path_mod\\reduction_strategy.py:45\u001B[0m, in \u001B[0;36mLIStrategy.redex_index\u001B[1;34m(self, term, init_index)\u001B[0m\n\u001B[0;32m     43\u001B[0m \u001B[38;5;28;01mif\u001B[39;00m term\u001B[38;5;241m.\u001B[39mkind \u001B[38;5;241m==\u001B[39m \u001B[38;5;124m\"\u001B[39m\u001B[38;5;124mapplication\u001B[39m\u001B[38;5;124m\"\u001B[39m:\n\u001B[0;32m     44\u001B[0m     \u001B[38;5;28;01mif\u001B[39;00m \u001B[38;5;28mlen\u001B[39m(term\u001B[38;5;241m.\u001B[39m_data[\u001B[38;5;241m0\u001B[39m]\u001B[38;5;241m.\u001B[39mredexes) \u001B[38;5;241m!=\u001B[39m \u001B[38;5;241m0\u001B[39m:\n\u001B[1;32m---> 45\u001B[0m         \u001B[38;5;28;01mreturn\u001B[39;00m \u001B[38;5;28;43mself\u001B[39;49m\u001B[38;5;241;43m.\u001B[39;49m\u001B[43mredex_index\u001B[49m\u001B[43m(\u001B[49m\u001B[43mterm\u001B[49m\u001B[38;5;241;43m.\u001B[39;49m\u001B[43m_data\u001B[49m\u001B[43m[\u001B[49m\u001B[38;5;241;43m0\u001B[39;49m\u001B[43m]\u001B[49m\u001B[43m,\u001B[49m\u001B[43m \u001B[49m\u001B[43minit_index\u001B[49m\u001B[43m \u001B[49m\u001B[38;5;241;43m+\u001B[39;49m\u001B[43m \u001B[49m\u001B[38;5;241;43m1\u001B[39;49m\u001B[43m)\u001B[49m\n\u001B[0;32m     46\u001B[0m     \u001B[38;5;28;01melif\u001B[39;00m \u001B[38;5;28mlen\u001B[39m(term\u001B[38;5;241m.\u001B[39m_data[\u001B[38;5;241m1\u001B[39m]\u001B[38;5;241m.\u001B[39mredexes) \u001B[38;5;241m!=\u001B[39m \u001B[38;5;241m0\u001B[39m:\n\u001B[0;32m     47\u001B[0m         \u001B[38;5;28;01mreturn\u001B[39;00m \u001B[38;5;28mself\u001B[39m\u001B[38;5;241m.\u001B[39mredex_index(term\u001B[38;5;241m.\u001B[39m_data[\u001B[38;5;241m1\u001B[39m],\n\u001B[0;32m     48\u001B[0m                                 init_index \u001B[38;5;241m+\u001B[39m term\u001B[38;5;241m.\u001B[39m_data[\u001B[38;5;241m0\u001B[39m]\u001B[38;5;241m.\u001B[39mvertices_number \u001B[38;5;241m+\u001B[39m \u001B[38;5;241m1\u001B[39m)\n",
      "    \u001B[1;31m[... skipping similar frames: LIStrategy.redex_index at line 51 (1 times)]\u001B[0m\n",
      "File \u001B[1;32mD:\\documents\\python_projects\\pure-calculus\\src\\calculus_path_mod\\reduction_strategy.py:47\u001B[0m, in \u001B[0;36mLIStrategy.redex_index\u001B[1;34m(self, term, init_index)\u001B[0m\n\u001B[0;32m     45\u001B[0m         \u001B[38;5;28;01mreturn\u001B[39;00m \u001B[38;5;28mself\u001B[39m\u001B[38;5;241m.\u001B[39mredex_index(term\u001B[38;5;241m.\u001B[39m_data[\u001B[38;5;241m0\u001B[39m], init_index \u001B[38;5;241m+\u001B[39m \u001B[38;5;241m1\u001B[39m)\n\u001B[0;32m     46\u001B[0m     \u001B[38;5;28;01melif\u001B[39;00m \u001B[38;5;28mlen\u001B[39m(term\u001B[38;5;241m.\u001B[39m_data[\u001B[38;5;241m1\u001B[39m]\u001B[38;5;241m.\u001B[39mredexes) \u001B[38;5;241m!=\u001B[39m \u001B[38;5;241m0\u001B[39m:\n\u001B[1;32m---> 47\u001B[0m         \u001B[38;5;28;01mreturn\u001B[39;00m \u001B[38;5;28;43mself\u001B[39;49m\u001B[38;5;241;43m.\u001B[39;49m\u001B[43mredex_index\u001B[49m\u001B[43m(\u001B[49m\u001B[43mterm\u001B[49m\u001B[38;5;241;43m.\u001B[39;49m\u001B[43m_data\u001B[49m\u001B[43m[\u001B[49m\u001B[38;5;241;43m1\u001B[39;49m\u001B[43m]\u001B[49m\u001B[43m,\u001B[49m\n\u001B[0;32m     48\u001B[0m \u001B[43m                                \u001B[49m\u001B[43minit_index\u001B[49m\u001B[43m \u001B[49m\u001B[38;5;241;43m+\u001B[39;49m\u001B[43m \u001B[49m\u001B[43mterm\u001B[49m\u001B[38;5;241;43m.\u001B[39;49m\u001B[43m_data\u001B[49m\u001B[43m[\u001B[49m\u001B[38;5;241;43m0\u001B[39;49m\u001B[43m]\u001B[49m\u001B[38;5;241;43m.\u001B[39;49m\u001B[43mvertices_number\u001B[49m\u001B[43m \u001B[49m\u001B[38;5;241;43m+\u001B[39;49m\u001B[43m \u001B[49m\u001B[38;5;241;43m1\u001B[39;49m\u001B[43m)\u001B[49m\n\u001B[0;32m     49\u001B[0m     \u001B[38;5;28;01mreturn\u001B[39;00m init_index \u001B[38;5;241m+\u001B[39m \u001B[38;5;241m1\u001B[39m\n\u001B[0;32m     50\u001B[0m \u001B[38;5;66;03m# self is Abstraction:\u001B[39;00m\n",
      "File \u001B[1;32mD:\\documents\\python_projects\\pure-calculus\\src\\calculus_path_mod\\reduction_strategy.py:51\u001B[0m, in \u001B[0;36mLIStrategy.redex_index\u001B[1;34m(self, term, init_index)\u001B[0m\n\u001B[0;32m     49\u001B[0m     \u001B[38;5;28;01mreturn\u001B[39;00m init_index \u001B[38;5;241m+\u001B[39m \u001B[38;5;241m1\u001B[39m\n\u001B[0;32m     50\u001B[0m \u001B[38;5;66;03m# self is Abstraction:\u001B[39;00m\n\u001B[1;32m---> 51\u001B[0m \u001B[38;5;28;01mreturn\u001B[39;00m \u001B[38;5;28;43mself\u001B[39;49m\u001B[38;5;241;43m.\u001B[39;49m\u001B[43mredex_index\u001B[49m\u001B[43m(\u001B[49m\u001B[43mterm\u001B[49m\u001B[38;5;241;43m.\u001B[39;49m\u001B[43m_data\u001B[49m\u001B[43m[\u001B[49m\u001B[38;5;241;43m1\u001B[39;49m\u001B[43m]\u001B[49m\u001B[43m,\u001B[49m\u001B[43m \u001B[49m\u001B[43minit_index\u001B[49m\u001B[43m \u001B[49m\u001B[38;5;241;43m+\u001B[39;49m\u001B[43m \u001B[49m\u001B[38;5;241;43m1\u001B[39;49m\u001B[43m)\u001B[49m\n",
      "File \u001B[1;32mD:\\documents\\python_projects\\pure-calculus\\src\\calculus_path_mod\\reduction_strategy.py:44\u001B[0m, in \u001B[0;36mLIStrategy.redex_index\u001B[1;34m(self, term, init_index)\u001B[0m\n\u001B[0;32m     42\u001B[0m     \u001B[38;5;28;01mraise\u001B[39;00m \u001B[38;5;167;01mValueError\u001B[39;00m(\u001B[38;5;124m\"\u001B[39m\u001B[38;5;124mThe term doesn\u001B[39m\u001B[38;5;124m'\u001B[39m\u001B[38;5;124mt contain a redex\u001B[39m\u001B[38;5;124m\"\u001B[39m)\n\u001B[0;32m     43\u001B[0m \u001B[38;5;28;01mif\u001B[39;00m term\u001B[38;5;241m.\u001B[39mkind \u001B[38;5;241m==\u001B[39m \u001B[38;5;124m\"\u001B[39m\u001B[38;5;124mapplication\u001B[39m\u001B[38;5;124m\"\u001B[39m:\n\u001B[1;32m---> 44\u001B[0m     \u001B[38;5;28;01mif\u001B[39;00m \u001B[38;5;28mlen\u001B[39m(\u001B[43mterm\u001B[49m\u001B[38;5;241;43m.\u001B[39;49m\u001B[43m_data\u001B[49m\u001B[43m[\u001B[49m\u001B[38;5;241;43m0\u001B[39;49m\u001B[43m]\u001B[49m\u001B[38;5;241;43m.\u001B[39;49m\u001B[43mredexes\u001B[49m) \u001B[38;5;241m!=\u001B[39m \u001B[38;5;241m0\u001B[39m:\n\u001B[0;32m     45\u001B[0m         \u001B[38;5;28;01mreturn\u001B[39;00m \u001B[38;5;28mself\u001B[39m\u001B[38;5;241m.\u001B[39mredex_index(term\u001B[38;5;241m.\u001B[39m_data[\u001B[38;5;241m0\u001B[39m], init_index \u001B[38;5;241m+\u001B[39m \u001B[38;5;241m1\u001B[39m)\n\u001B[0;32m     46\u001B[0m     \u001B[38;5;28;01melif\u001B[39;00m \u001B[38;5;28mlen\u001B[39m(term\u001B[38;5;241m.\u001B[39m_data[\u001B[38;5;241m1\u001B[39m]\u001B[38;5;241m.\u001B[39mredexes) \u001B[38;5;241m!=\u001B[39m \u001B[38;5;241m0\u001B[39m:\n",
      "File \u001B[1;32mD:\\documents\\python_projects\\pure-calculus\\src\\calculus_path_mod\\term_engine.py:150\u001B[0m, in \u001B[0;36mTerm.redexes\u001B[1;34m(self)\u001B[0m\n\u001B[0;32m    148\u001B[0m \u001B[38;5;66;03m# self is App:\u001B[39;00m\n\u001B[0;32m    149\u001B[0m redexes_list \u001B[38;5;241m=\u001B[39m [\u001B[38;5;28mself\u001B[39m] \u001B[38;5;28;01mif\u001B[39;00m \u001B[38;5;28mself\u001B[39m\u001B[38;5;241m.\u001B[39mis_beta_redex \u001B[38;5;28;01melse\u001B[39;00m []\n\u001B[1;32m--> 150\u001B[0m redexes_list \u001B[38;5;241m+\u001B[39m\u001B[38;5;241m=\u001B[39m \u001B[38;5;28;43mself\u001B[39;49m\u001B[38;5;241;43m.\u001B[39;49m\u001B[43m_data\u001B[49m\u001B[43m[\u001B[49m\u001B[38;5;241;43m0\u001B[39;49m\u001B[43m]\u001B[49m\u001B[38;5;241;43m.\u001B[39;49m\u001B[43mredexes\u001B[49m \u001B[38;5;241m+\u001B[39m \u001B[38;5;28mself\u001B[39m\u001B[38;5;241m.\u001B[39m_data[\u001B[38;5;241m1\u001B[39m]\u001B[38;5;241m.\u001B[39mredexes\n\u001B[0;32m    151\u001B[0m \u001B[38;5;28;01mreturn\u001B[39;00m redexes_list\n",
      "File \u001B[1;32mD:\\documents\\python_projects\\pure-calculus\\src\\calculus_path_mod\\term_engine.py:147\u001B[0m, in \u001B[0;36mTerm.redexes\u001B[1;34m(self)\u001B[0m\n\u001B[0;32m    145\u001B[0m     \u001B[38;5;28;01mreturn\u001B[39;00m []\n\u001B[0;32m    146\u001B[0m \u001B[38;5;28;01mif\u001B[39;00m \u001B[38;5;28mself\u001B[39m\u001B[38;5;241m.\u001B[39mkind \u001B[38;5;241m==\u001B[39m \u001B[38;5;124m\"\u001B[39m\u001B[38;5;124mabstraction\u001B[39m\u001B[38;5;124m\"\u001B[39m:\n\u001B[1;32m--> 147\u001B[0m     \u001B[38;5;28;01mreturn\u001B[39;00m \u001B[38;5;28;43mself\u001B[39;49m\u001B[38;5;241;43m.\u001B[39;49m\u001B[43m_data\u001B[49m\u001B[43m[\u001B[49m\u001B[38;5;241;43m1\u001B[39;49m\u001B[43m]\u001B[49m\u001B[38;5;241;43m.\u001B[39;49m\u001B[43mredexes\u001B[49m\n\u001B[0;32m    148\u001B[0m \u001B[38;5;66;03m# self is App:\u001B[39;00m\n\u001B[0;32m    149\u001B[0m redexes_list \u001B[38;5;241m=\u001B[39m [\u001B[38;5;28mself\u001B[39m] \u001B[38;5;28;01mif\u001B[39;00m \u001B[38;5;28mself\u001B[39m\u001B[38;5;241m.\u001B[39mis_beta_redex \u001B[38;5;28;01melse\u001B[39;00m []\n",
      "File \u001B[1;32mD:\\documents\\python_projects\\pure-calculus\\src\\calculus_path_mod\\term_engine.py:150\u001B[0m, in \u001B[0;36mTerm.redexes\u001B[1;34m(self)\u001B[0m\n\u001B[0;32m    148\u001B[0m \u001B[38;5;66;03m# self is App:\u001B[39;00m\n\u001B[0;32m    149\u001B[0m redexes_list \u001B[38;5;241m=\u001B[39m [\u001B[38;5;28mself\u001B[39m] \u001B[38;5;28;01mif\u001B[39;00m \u001B[38;5;28mself\u001B[39m\u001B[38;5;241m.\u001B[39mis_beta_redex \u001B[38;5;28;01melse\u001B[39;00m []\n\u001B[1;32m--> 150\u001B[0m redexes_list \u001B[38;5;241m+\u001B[39m\u001B[38;5;241m=\u001B[39m \u001B[38;5;28mself\u001B[39m\u001B[38;5;241m.\u001B[39m_data[\u001B[38;5;241m0\u001B[39m]\u001B[38;5;241m.\u001B[39mredexes \u001B[38;5;241m+\u001B[39m \u001B[38;5;28;43mself\u001B[39;49m\u001B[38;5;241;43m.\u001B[39;49m\u001B[43m_data\u001B[49m\u001B[43m[\u001B[49m\u001B[38;5;241;43m1\u001B[39;49m\u001B[43m]\u001B[49m\u001B[38;5;241;43m.\u001B[39;49m\u001B[43mredexes\u001B[49m\n\u001B[0;32m    151\u001B[0m \u001B[38;5;28;01mreturn\u001B[39;00m redexes_list\n",
      "File \u001B[1;32mD:\\documents\\python_projects\\pure-calculus\\src\\calculus_path_mod\\term_engine.py:147\u001B[0m, in \u001B[0;36mTerm.redexes\u001B[1;34m(self)\u001B[0m\n\u001B[0;32m    145\u001B[0m     \u001B[38;5;28;01mreturn\u001B[39;00m []\n\u001B[0;32m    146\u001B[0m \u001B[38;5;28;01mif\u001B[39;00m \u001B[38;5;28mself\u001B[39m\u001B[38;5;241m.\u001B[39mkind \u001B[38;5;241m==\u001B[39m \u001B[38;5;124m\"\u001B[39m\u001B[38;5;124mabstraction\u001B[39m\u001B[38;5;124m\"\u001B[39m:\n\u001B[1;32m--> 147\u001B[0m     \u001B[38;5;28;01mreturn\u001B[39;00m \u001B[38;5;28;43mself\u001B[39;49m\u001B[38;5;241;43m.\u001B[39;49m\u001B[43m_data\u001B[49m\u001B[43m[\u001B[49m\u001B[38;5;241;43m1\u001B[39;49m\u001B[43m]\u001B[49m\u001B[38;5;241;43m.\u001B[39;49m\u001B[43mredexes\u001B[49m\n\u001B[0;32m    148\u001B[0m \u001B[38;5;66;03m# self is App:\u001B[39;00m\n\u001B[0;32m    149\u001B[0m redexes_list \u001B[38;5;241m=\u001B[39m [\u001B[38;5;28mself\u001B[39m] \u001B[38;5;28;01mif\u001B[39;00m \u001B[38;5;28mself\u001B[39m\u001B[38;5;241m.\u001B[39mis_beta_redex \u001B[38;5;28;01melse\u001B[39;00m []\n",
      "    \u001B[1;31m[... skipping similar frames: Term.redexes at line 150 (195 times), Term.redexes at line 147 (129 times)]\u001B[0m\n",
      "File \u001B[1;32mD:\\documents\\python_projects\\pure-calculus\\src\\calculus_path_mod\\term_engine.py:147\u001B[0m, in \u001B[0;36mTerm.redexes\u001B[1;34m(self)\u001B[0m\n\u001B[0;32m    145\u001B[0m     \u001B[38;5;28;01mreturn\u001B[39;00m []\n\u001B[0;32m    146\u001B[0m \u001B[38;5;28;01mif\u001B[39;00m \u001B[38;5;28mself\u001B[39m\u001B[38;5;241m.\u001B[39mkind \u001B[38;5;241m==\u001B[39m \u001B[38;5;124m\"\u001B[39m\u001B[38;5;124mabstraction\u001B[39m\u001B[38;5;124m\"\u001B[39m:\n\u001B[1;32m--> 147\u001B[0m     \u001B[38;5;28;01mreturn\u001B[39;00m \u001B[38;5;28;43mself\u001B[39;49m\u001B[38;5;241;43m.\u001B[39;49m\u001B[43m_data\u001B[49m\u001B[43m[\u001B[49m\u001B[38;5;241;43m1\u001B[39;49m\u001B[43m]\u001B[49m\u001B[38;5;241;43m.\u001B[39;49m\u001B[43mredexes\u001B[49m\n\u001B[0;32m    148\u001B[0m \u001B[38;5;66;03m# self is App:\u001B[39;00m\n\u001B[0;32m    149\u001B[0m redexes_list \u001B[38;5;241m=\u001B[39m [\u001B[38;5;28mself\u001B[39m] \u001B[38;5;28;01mif\u001B[39;00m \u001B[38;5;28mself\u001B[39m\u001B[38;5;241m.\u001B[39mis_beta_redex \u001B[38;5;28;01melse\u001B[39;00m []\n",
      "    \u001B[1;31m[... skipping similar frames: Term.redexes at line 150 (1 times)]\u001B[0m\n",
      "File \u001B[1;32mD:\\documents\\python_projects\\pure-calculus\\src\\calculus_path_mod\\term_engine.py:150\u001B[0m, in \u001B[0;36mTerm.redexes\u001B[1;34m(self)\u001B[0m\n\u001B[0;32m    148\u001B[0m \u001B[38;5;66;03m# self is App:\u001B[39;00m\n\u001B[0;32m    149\u001B[0m redexes_list \u001B[38;5;241m=\u001B[39m [\u001B[38;5;28mself\u001B[39m] \u001B[38;5;28;01mif\u001B[39;00m \u001B[38;5;28mself\u001B[39m\u001B[38;5;241m.\u001B[39mis_beta_redex \u001B[38;5;28;01melse\u001B[39;00m []\n\u001B[1;32m--> 150\u001B[0m redexes_list \u001B[38;5;241m+\u001B[39m\u001B[38;5;241m=\u001B[39m \u001B[38;5;28mself\u001B[39m\u001B[38;5;241m.\u001B[39m_data[\u001B[38;5;241m0\u001B[39m]\u001B[38;5;241m.\u001B[39mredexes \u001B[38;5;241m+\u001B[39m \u001B[38;5;28;43mself\u001B[39;49m\u001B[38;5;241;43m.\u001B[39;49m\u001B[43m_data\u001B[49m\u001B[43m[\u001B[49m\u001B[38;5;241;43m1\u001B[39;49m\u001B[43m]\u001B[49m\u001B[38;5;241;43m.\u001B[39;49m\u001B[43mredexes\u001B[49m\n\u001B[0;32m    151\u001B[0m \u001B[38;5;28;01mreturn\u001B[39;00m redexes_list\n",
      "File \u001B[1;32mD:\\documents\\python_projects\\pure-calculus\\src\\calculus_path_mod\\term_engine.py:144\u001B[0m, in \u001B[0;36mTerm.redexes\u001B[1;34m(self)\u001B[0m\n\u001B[0;32m    141\u001B[0m \u001B[38;5;129m@property\u001B[39m\n\u001B[0;32m    142\u001B[0m \u001B[38;5;28;01mdef\u001B[39;00m \u001B[38;5;21mredexes\u001B[39m(\u001B[38;5;28mself\u001B[39m):\n\u001B[0;32m    143\u001B[0m \u001B[38;5;250m    \u001B[39m\u001B[38;5;124;03m\"\"\":return: list of all beta-redexes in the term\"\"\"\u001B[39;00m\n\u001B[1;32m--> 144\u001B[0m     \u001B[38;5;28;01mif\u001B[39;00m \u001B[38;5;28;43mself\u001B[39;49m\u001B[38;5;241;43m.\u001B[39;49m\u001B[43mkind\u001B[49m \u001B[38;5;241m==\u001B[39m \u001B[38;5;124m\"\u001B[39m\u001B[38;5;124matom\u001B[39m\u001B[38;5;124m\"\u001B[39m:\n\u001B[0;32m    145\u001B[0m         \u001B[38;5;28;01mreturn\u001B[39;00m []\n\u001B[0;32m    146\u001B[0m     \u001B[38;5;28;01mif\u001B[39;00m \u001B[38;5;28mself\u001B[39m\u001B[38;5;241m.\u001B[39mkind \u001B[38;5;241m==\u001B[39m \u001B[38;5;124m\"\u001B[39m\u001B[38;5;124mabstraction\u001B[39m\u001B[38;5;124m\"\u001B[39m:\n",
      "File \u001B[1;32mD:\\documents\\python_projects\\pure-calculus\\src\\calculus_path_mod\\term_engine.py:41\u001B[0m, in \u001B[0;36mTerm.kind\u001B[1;34m(self)\u001B[0m\n\u001B[0;32m     39\u001B[0m \u001B[38;5;28;01mclass\u001B[39;00m \u001B[38;5;21;01mTerm\u001B[39;00m:  \u001B[38;5;66;03m# the basic abstract class for representing a term\u001B[39;00m\n\u001B[1;32m---> 41\u001B[0m     \u001B[38;5;129m@property\u001B[39m\n\u001B[0;32m     42\u001B[0m     \u001B[38;5;28;01mdef\u001B[39;00m \u001B[38;5;21mkind\u001B[39m(\u001B[38;5;28mself\u001B[39m):  \u001B[38;5;66;03m# returns the kind of the term\u001B[39;00m\n\u001B[0;32m     43\u001B[0m         \u001B[38;5;28;01mif\u001B[39;00m \u001B[38;5;28misinstance\u001B[39m(\u001B[38;5;28mself\u001B[39m, Atom):\n\u001B[0;32m     44\u001B[0m             \u001B[38;5;28;01mreturn\u001B[39;00m \u001B[38;5;124m\"\u001B[39m\u001B[38;5;124matom\u001B[39m\u001B[38;5;124m\"\u001B[39m\n",
      "\u001B[1;31mKeyboardInterrupt\u001B[0m: "
     ]
    }
   ],
   "source": [
    "test_term(\"LI\", 0)"
   ],
   "metadata": {
    "collapsed": false
   }
  },
  {
   "cell_type": "code",
   "execution_count": 11,
   "outputs": [
    {
     "ename": "KeyboardInterrupt",
     "evalue": "",
     "output_type": "error",
     "traceback": [
      "\u001B[1;31m---------------------------------------------------------------------------\u001B[0m",
      "\u001B[1;31mKeyboardInterrupt\u001B[0m                         Traceback (most recent call last)",
      "Cell \u001B[1;32mIn[11], line 1\u001B[0m\n\u001B[1;32m----> 1\u001B[0m \u001B[43mtest_term\u001B[49m\u001B[43m(\u001B[49m\u001B[38;5;124;43m\"\u001B[39;49m\u001B[38;5;124;43mLI\u001B[39;49m\u001B[38;5;124;43m\"\u001B[39;49m\u001B[43m,\u001B[49m\u001B[43m \u001B[49m\u001B[38;5;241;43m1\u001B[39;49m\u001B[43m)\u001B[49m\n",
      "Cell \u001B[1;32mIn[3], line 7\u001B[0m, in \u001B[0;36mtest_term\u001B[1;34m(strategy_name, idx)\u001B[0m\n\u001B[0;32m      5\u001B[0m strategy \u001B[38;5;241m=\u001B[39m strategy_lo \u001B[38;5;28;01mif\u001B[39;00m strategy_name \u001B[38;5;241m==\u001B[39m \u001B[38;5;124m\"\u001B[39m\u001B[38;5;124mLO\u001B[39m\u001B[38;5;124m\"\u001B[39m \u001B[38;5;28;01melse\u001B[39;00m strategy_li\n\u001B[0;32m      6\u001B[0m fib_idx \u001B[38;5;241m=\u001B[39m App(fib_term(), nat_numbers\u001B[38;5;241m.\u001B[39mnum_term(idx))\n\u001B[1;32m----> 7\u001B[0m norm_term, steps \u001B[38;5;241m=\u001B[39m \u001B[43mfib_idx\u001B[49m\u001B[38;5;241;43m.\u001B[39;49m\u001B[43mnormalize\u001B[49m\u001B[43m(\u001B[49m\u001B[43mstrategy\u001B[49m\u001B[43m,\u001B[49m\u001B[43m \u001B[49m\u001B[43mis_limited\u001B[49m\u001B[38;5;241;43m=\u001B[39;49m\u001B[38;5;28;43;01mFalse\u001B[39;49;00m\u001B[43m)\u001B[49m\n\u001B[0;32m      8\u001B[0m \u001B[38;5;28mprint\u001B[39m(\u001B[38;5;124mf\u001B[39m\u001B[38;5;124m\"\u001B[39m\u001B[38;5;132;01m{\u001B[39;00mstrategy_name\u001B[38;5;132;01m}\u001B[39;00m\u001B[38;5;124m: \u001B[39m\u001B[38;5;132;01m{\u001B[39;00msteps\u001B[38;5;132;01m}\u001B[39;00m\u001B[38;5;124m \u001B[39m\u001B[38;5;132;01m{\u001B[39;00mnorm_term\u001B[38;5;241m.\u001B[39mfunky_str()\u001B[38;5;132;01m}\u001B[39;00m\u001B[38;5;124m\"\u001B[39m)\n",
      "File \u001B[1;32mD:\\documents\\python_projects\\pure-calculus\\src\\calculus_path_mod\\term_engine.py:202\u001B[0m, in \u001B[0;36mTerm.normalize\u001B[1;34m(self, strategy, is_limited)\u001B[0m\n\u001B[0;32m    200\u001B[0m count_steps \u001B[38;5;241m=\u001B[39m \u001B[38;5;241m0\u001B[39m\n\u001B[0;32m    201\u001B[0m \u001B[38;5;28;01mwhile\u001B[39;00m \u001B[38;5;28mlen\u001B[39m(term\u001B[38;5;241m.\u001B[39mredexes) \u001B[38;5;241m>\u001B[39m \u001B[38;5;241m0\u001B[39m:\n\u001B[1;32m--> 202\u001B[0m     term \u001B[38;5;241m=\u001B[39m \u001B[43mterm\u001B[49m\u001B[38;5;241;43m.\u001B[39;49m\u001B[43m_beta_conversion\u001B[49m\u001B[43m(\u001B[49m\u001B[43mstrategy\u001B[49m\u001B[43m)\u001B[49m\u001B[38;5;241;43m.\u001B[39;49m\u001B[43m_update_bound_vars\u001B[49m\u001B[43m(\u001B[49m\u001B[43m)\u001B[49m\n\u001B[0;32m    203\u001B[0m     count_steps \u001B[38;5;241m+\u001B[39m\u001B[38;5;241m=\u001B[39m \u001B[38;5;241m1\u001B[39m\n\u001B[0;32m    204\u001B[0m     \u001B[38;5;66;03m# computation limitation\u001B[39;00m\n",
      "File \u001B[1;32mD:\\documents\\python_projects\\pure-calculus\\src\\calculus_path_mod\\term_engine.py:268\u001B[0m, in \u001B[0;36mTerm._update_bound_vars\u001B[1;34m(self)\u001B[0m\n\u001B[0;32m    265\u001B[0m     \u001B[38;5;28;01mreturn\u001B[39;00m \u001B[38;5;28mself\u001B[39m\n\u001B[0;32m    266\u001B[0m \u001B[38;5;28;01mif\u001B[39;00m \u001B[38;5;28mself\u001B[39m\u001B[38;5;241m.\u001B[39mkind \u001B[38;5;241m==\u001B[39m \u001B[38;5;124m\"\u001B[39m\u001B[38;5;124mapplication\u001B[39m\u001B[38;5;124m\"\u001B[39m:\n\u001B[0;32m    267\u001B[0m     \u001B[38;5;28;01mreturn\u001B[39;00m Application(\n\u001B[1;32m--> 268\u001B[0m         \u001B[38;5;28;43mself\u001B[39;49m\u001B[38;5;241;43m.\u001B[39;49m\u001B[43m_data\u001B[49m\u001B[43m[\u001B[49m\u001B[38;5;241;43m0\u001B[39;49m\u001B[43m]\u001B[49m\u001B[38;5;241;43m.\u001B[39;49m\u001B[43m_update_bound_vars\u001B[49m\u001B[43m(\u001B[49m\u001B[43m)\u001B[49m,\n\u001B[0;32m    269\u001B[0m         \u001B[38;5;28mself\u001B[39m\u001B[38;5;241m.\u001B[39m_data[\u001B[38;5;241m1\u001B[39m]\u001B[38;5;241m.\u001B[39m_update_bound_vars()\n\u001B[0;32m    270\u001B[0m     )\n\u001B[0;32m    271\u001B[0m \u001B[38;5;66;03m# self is abstraction\u001B[39;00m\n\u001B[0;32m    272\u001B[0m new_var \u001B[38;5;241m=\u001B[39m Var()\n",
      "File \u001B[1;32mD:\\documents\\python_projects\\pure-calculus\\src\\calculus_path_mod\\term_engine.py:268\u001B[0m, in \u001B[0;36mTerm._update_bound_vars\u001B[1;34m(self)\u001B[0m\n\u001B[0;32m    265\u001B[0m     \u001B[38;5;28;01mreturn\u001B[39;00m \u001B[38;5;28mself\u001B[39m\n\u001B[0;32m    266\u001B[0m \u001B[38;5;28;01mif\u001B[39;00m \u001B[38;5;28mself\u001B[39m\u001B[38;5;241m.\u001B[39mkind \u001B[38;5;241m==\u001B[39m \u001B[38;5;124m\"\u001B[39m\u001B[38;5;124mapplication\u001B[39m\u001B[38;5;124m\"\u001B[39m:\n\u001B[0;32m    267\u001B[0m     \u001B[38;5;28;01mreturn\u001B[39;00m Application(\n\u001B[1;32m--> 268\u001B[0m         \u001B[38;5;28;43mself\u001B[39;49m\u001B[38;5;241;43m.\u001B[39;49m\u001B[43m_data\u001B[49m\u001B[43m[\u001B[49m\u001B[38;5;241;43m0\u001B[39;49m\u001B[43m]\u001B[49m\u001B[38;5;241;43m.\u001B[39;49m\u001B[43m_update_bound_vars\u001B[49m\u001B[43m(\u001B[49m\u001B[43m)\u001B[49m,\n\u001B[0;32m    269\u001B[0m         \u001B[38;5;28mself\u001B[39m\u001B[38;5;241m.\u001B[39m_data[\u001B[38;5;241m1\u001B[39m]\u001B[38;5;241m.\u001B[39m_update_bound_vars()\n\u001B[0;32m    270\u001B[0m     )\n\u001B[0;32m    271\u001B[0m \u001B[38;5;66;03m# self is abstraction\u001B[39;00m\n\u001B[0;32m    272\u001B[0m new_var \u001B[38;5;241m=\u001B[39m Var()\n",
      "File \u001B[1;32mD:\\documents\\python_projects\\pure-calculus\\src\\calculus_path_mod\\term_engine.py:275\u001B[0m, in \u001B[0;36mTerm._update_bound_vars\u001B[1;34m(self)\u001B[0m\n\u001B[0;32m    271\u001B[0m \u001B[38;5;66;03m# self is abstraction\u001B[39;00m\n\u001B[0;32m    272\u001B[0m new_var \u001B[38;5;241m=\u001B[39m Var()\n\u001B[0;32m    273\u001B[0m \u001B[38;5;28;01mreturn\u001B[39;00m Abstraction(\n\u001B[0;32m    274\u001B[0m     new_var,\n\u001B[1;32m--> 275\u001B[0m     \u001B[38;5;28;43mself\u001B[39;49m\u001B[38;5;241;43m.\u001B[39;49m\u001B[43m_data\u001B[49m\u001B[43m[\u001B[49m\u001B[38;5;241;43m1\u001B[39;49m\u001B[43m]\u001B[49m\u001B[38;5;241;43m.\u001B[39;49m\u001B[43m_replace_variable\u001B[49m\u001B[43m(\u001B[49m\u001B[38;5;28;43mself\u001B[39;49m\u001B[38;5;241;43m.\u001B[39;49m\u001B[43m_data\u001B[49m\u001B[43m[\u001B[49m\u001B[38;5;241;43m0\u001B[39;49m\u001B[43m]\u001B[49m\u001B[43m,\u001B[49m\u001B[43m \u001B[49m\u001B[43mAtom\u001B[49m\u001B[43m(\u001B[49m\u001B[43mnew_var\u001B[49m\u001B[43m)\u001B[49m\u001B[43m)\u001B[49m\u001B[38;5;241;43m.\u001B[39;49m\u001B[43m_update_bound_vars\u001B[49m\u001B[43m(\u001B[49m\u001B[43m)\u001B[49m\n\u001B[0;32m    276\u001B[0m )\n",
      "File \u001B[1;32mD:\\documents\\python_projects\\pure-calculus\\src\\calculus_path_mod\\term_engine.py:269\u001B[0m, in \u001B[0;36mTerm._update_bound_vars\u001B[1;34m(self)\u001B[0m\n\u001B[0;32m    265\u001B[0m     \u001B[38;5;28;01mreturn\u001B[39;00m \u001B[38;5;28mself\u001B[39m\n\u001B[0;32m    266\u001B[0m \u001B[38;5;28;01mif\u001B[39;00m \u001B[38;5;28mself\u001B[39m\u001B[38;5;241m.\u001B[39mkind \u001B[38;5;241m==\u001B[39m \u001B[38;5;124m\"\u001B[39m\u001B[38;5;124mapplication\u001B[39m\u001B[38;5;124m\"\u001B[39m:\n\u001B[0;32m    267\u001B[0m     \u001B[38;5;28;01mreturn\u001B[39;00m Application(\n\u001B[0;32m    268\u001B[0m         \u001B[38;5;28mself\u001B[39m\u001B[38;5;241m.\u001B[39m_data[\u001B[38;5;241m0\u001B[39m]\u001B[38;5;241m.\u001B[39m_update_bound_vars(),\n\u001B[1;32m--> 269\u001B[0m         \u001B[38;5;28;43mself\u001B[39;49m\u001B[38;5;241;43m.\u001B[39;49m\u001B[43m_data\u001B[49m\u001B[43m[\u001B[49m\u001B[38;5;241;43m1\u001B[39;49m\u001B[43m]\u001B[49m\u001B[38;5;241;43m.\u001B[39;49m\u001B[43m_update_bound_vars\u001B[49m\u001B[43m(\u001B[49m\u001B[43m)\u001B[49m\n\u001B[0;32m    270\u001B[0m     )\n\u001B[0;32m    271\u001B[0m \u001B[38;5;66;03m# self is abstraction\u001B[39;00m\n\u001B[0;32m    272\u001B[0m new_var \u001B[38;5;241m=\u001B[39m Var()\n",
      "File \u001B[1;32mD:\\documents\\python_projects\\pure-calculus\\src\\calculus_path_mod\\term_engine.py:275\u001B[0m, in \u001B[0;36mTerm._update_bound_vars\u001B[1;34m(self)\u001B[0m\n\u001B[0;32m    271\u001B[0m \u001B[38;5;66;03m# self is abstraction\u001B[39;00m\n\u001B[0;32m    272\u001B[0m new_var \u001B[38;5;241m=\u001B[39m Var()\n\u001B[0;32m    273\u001B[0m \u001B[38;5;28;01mreturn\u001B[39;00m Abstraction(\n\u001B[0;32m    274\u001B[0m     new_var,\n\u001B[1;32m--> 275\u001B[0m     \u001B[38;5;28;43mself\u001B[39;49m\u001B[38;5;241;43m.\u001B[39;49m\u001B[43m_data\u001B[49m\u001B[43m[\u001B[49m\u001B[38;5;241;43m1\u001B[39;49m\u001B[43m]\u001B[49m\u001B[38;5;241;43m.\u001B[39;49m\u001B[43m_replace_variable\u001B[49m\u001B[43m(\u001B[49m\u001B[38;5;28;43mself\u001B[39;49m\u001B[38;5;241;43m.\u001B[39;49m\u001B[43m_data\u001B[49m\u001B[43m[\u001B[49m\u001B[38;5;241;43m0\u001B[39;49m\u001B[43m]\u001B[49m\u001B[43m,\u001B[49m\u001B[43m \u001B[49m\u001B[43mAtom\u001B[49m\u001B[43m(\u001B[49m\u001B[43mnew_var\u001B[49m\u001B[43m)\u001B[49m\u001B[43m)\u001B[49m\u001B[38;5;241;43m.\u001B[39;49m\u001B[43m_update_bound_vars\u001B[49m\u001B[43m(\u001B[49m\u001B[43m)\u001B[49m\n\u001B[0;32m    276\u001B[0m )\n",
      "    \u001B[1;31m[... skipping similar frames: Term._update_bound_vars at line 268 (2 times), Term._update_bound_vars at line 275 (1 times)]\u001B[0m\n",
      "File \u001B[1;32mD:\\documents\\python_projects\\pure-calculus\\src\\calculus_path_mod\\term_engine.py:269\u001B[0m, in \u001B[0;36mTerm._update_bound_vars\u001B[1;34m(self)\u001B[0m\n\u001B[0;32m    265\u001B[0m     \u001B[38;5;28;01mreturn\u001B[39;00m \u001B[38;5;28mself\u001B[39m\n\u001B[0;32m    266\u001B[0m \u001B[38;5;28;01mif\u001B[39;00m \u001B[38;5;28mself\u001B[39m\u001B[38;5;241m.\u001B[39mkind \u001B[38;5;241m==\u001B[39m \u001B[38;5;124m\"\u001B[39m\u001B[38;5;124mapplication\u001B[39m\u001B[38;5;124m\"\u001B[39m:\n\u001B[0;32m    267\u001B[0m     \u001B[38;5;28;01mreturn\u001B[39;00m Application(\n\u001B[0;32m    268\u001B[0m         \u001B[38;5;28mself\u001B[39m\u001B[38;5;241m.\u001B[39m_data[\u001B[38;5;241m0\u001B[39m]\u001B[38;5;241m.\u001B[39m_update_bound_vars(),\n\u001B[1;32m--> 269\u001B[0m         \u001B[38;5;28;43mself\u001B[39;49m\u001B[38;5;241;43m.\u001B[39;49m\u001B[43m_data\u001B[49m\u001B[43m[\u001B[49m\u001B[38;5;241;43m1\u001B[39;49m\u001B[43m]\u001B[49m\u001B[38;5;241;43m.\u001B[39;49m\u001B[43m_update_bound_vars\u001B[49m\u001B[43m(\u001B[49m\u001B[43m)\u001B[49m\n\u001B[0;32m    270\u001B[0m     )\n\u001B[0;32m    271\u001B[0m \u001B[38;5;66;03m# self is abstraction\u001B[39;00m\n\u001B[0;32m    272\u001B[0m new_var \u001B[38;5;241m=\u001B[39m Var()\n",
      "    \u001B[1;31m[... skipping similar frames: Term._update_bound_vars at line 275 (72 times), Term._update_bound_vars at line 268 (72 times), Term._update_bound_vars at line 269 (35 times)]\u001B[0m\n",
      "File \u001B[1;32mD:\\documents\\python_projects\\pure-calculus\\src\\calculus_path_mod\\term_engine.py:269\u001B[0m, in \u001B[0;36mTerm._update_bound_vars\u001B[1;34m(self)\u001B[0m\n\u001B[0;32m    265\u001B[0m     \u001B[38;5;28;01mreturn\u001B[39;00m \u001B[38;5;28mself\u001B[39m\n\u001B[0;32m    266\u001B[0m \u001B[38;5;28;01mif\u001B[39;00m \u001B[38;5;28mself\u001B[39m\u001B[38;5;241m.\u001B[39mkind \u001B[38;5;241m==\u001B[39m \u001B[38;5;124m\"\u001B[39m\u001B[38;5;124mapplication\u001B[39m\u001B[38;5;124m\"\u001B[39m:\n\u001B[0;32m    267\u001B[0m     \u001B[38;5;28;01mreturn\u001B[39;00m Application(\n\u001B[0;32m    268\u001B[0m         \u001B[38;5;28mself\u001B[39m\u001B[38;5;241m.\u001B[39m_data[\u001B[38;5;241m0\u001B[39m]\u001B[38;5;241m.\u001B[39m_update_bound_vars(),\n\u001B[1;32m--> 269\u001B[0m         \u001B[38;5;28;43mself\u001B[39;49m\u001B[38;5;241;43m.\u001B[39;49m\u001B[43m_data\u001B[49m\u001B[43m[\u001B[49m\u001B[38;5;241;43m1\u001B[39;49m\u001B[43m]\u001B[49m\u001B[38;5;241;43m.\u001B[39;49m\u001B[43m_update_bound_vars\u001B[49m\u001B[43m(\u001B[49m\u001B[43m)\u001B[49m\n\u001B[0;32m    270\u001B[0m     )\n\u001B[0;32m    271\u001B[0m \u001B[38;5;66;03m# self is abstraction\u001B[39;00m\n\u001B[0;32m    272\u001B[0m new_var \u001B[38;5;241m=\u001B[39m Var()\n",
      "    \u001B[1;31m[... skipping similar frames: Term._update_bound_vars at line 275 (1 times), Term._update_bound_vars at line 268 (1 times)]\u001B[0m\n",
      "File \u001B[1;32mD:\\documents\\python_projects\\pure-calculus\\src\\calculus_path_mod\\term_engine.py:268\u001B[0m, in \u001B[0;36mTerm._update_bound_vars\u001B[1;34m(self)\u001B[0m\n\u001B[0;32m    265\u001B[0m     \u001B[38;5;28;01mreturn\u001B[39;00m \u001B[38;5;28mself\u001B[39m\n\u001B[0;32m    266\u001B[0m \u001B[38;5;28;01mif\u001B[39;00m \u001B[38;5;28mself\u001B[39m\u001B[38;5;241m.\u001B[39mkind \u001B[38;5;241m==\u001B[39m \u001B[38;5;124m\"\u001B[39m\u001B[38;5;124mapplication\u001B[39m\u001B[38;5;124m\"\u001B[39m:\n\u001B[0;32m    267\u001B[0m     \u001B[38;5;28;01mreturn\u001B[39;00m Application(\n\u001B[1;32m--> 268\u001B[0m         \u001B[38;5;28;43mself\u001B[39;49m\u001B[38;5;241;43m.\u001B[39;49m\u001B[43m_data\u001B[49m\u001B[43m[\u001B[49m\u001B[38;5;241;43m0\u001B[39;49m\u001B[43m]\u001B[49m\u001B[38;5;241;43m.\u001B[39;49m\u001B[43m_update_bound_vars\u001B[49m\u001B[43m(\u001B[49m\u001B[43m)\u001B[49m,\n\u001B[0;32m    269\u001B[0m         \u001B[38;5;28mself\u001B[39m\u001B[38;5;241m.\u001B[39m_data[\u001B[38;5;241m1\u001B[39m]\u001B[38;5;241m.\u001B[39m_update_bound_vars()\n\u001B[0;32m    270\u001B[0m     )\n\u001B[0;32m    271\u001B[0m \u001B[38;5;66;03m# self is abstraction\u001B[39;00m\n\u001B[0;32m    272\u001B[0m new_var \u001B[38;5;241m=\u001B[39m Var()\n",
      "File \u001B[1;32mD:\\documents\\python_projects\\pure-calculus\\src\\calculus_path_mod\\term_engine.py:275\u001B[0m, in \u001B[0;36mTerm._update_bound_vars\u001B[1;34m(self)\u001B[0m\n\u001B[0;32m    271\u001B[0m \u001B[38;5;66;03m# self is abstraction\u001B[39;00m\n\u001B[0;32m    272\u001B[0m new_var \u001B[38;5;241m=\u001B[39m Var()\n\u001B[0;32m    273\u001B[0m \u001B[38;5;28;01mreturn\u001B[39;00m Abstraction(\n\u001B[0;32m    274\u001B[0m     new_var,\n\u001B[1;32m--> 275\u001B[0m     \u001B[38;5;28;43mself\u001B[39;49m\u001B[38;5;241;43m.\u001B[39;49m\u001B[43m_data\u001B[49m\u001B[43m[\u001B[49m\u001B[38;5;241;43m1\u001B[39;49m\u001B[43m]\u001B[49m\u001B[38;5;241;43m.\u001B[39;49m\u001B[43m_replace_variable\u001B[49m\u001B[43m(\u001B[49m\u001B[38;5;28;43mself\u001B[39;49m\u001B[38;5;241;43m.\u001B[39;49m\u001B[43m_data\u001B[49m\u001B[43m[\u001B[49m\u001B[38;5;241;43m0\u001B[39;49m\u001B[43m]\u001B[49m\u001B[43m,\u001B[49m\u001B[43m \u001B[49m\u001B[43mAtom\u001B[49m\u001B[43m(\u001B[49m\u001B[43mnew_var\u001B[49m\u001B[43m)\u001B[49m\u001B[43m)\u001B[49m\u001B[38;5;241m.\u001B[39m_update_bound_vars()\n\u001B[0;32m    276\u001B[0m )\n",
      "File \u001B[1;32mD:\\documents\\python_projects\\pure-calculus\\src\\calculus_path_mod\\term_engine.py:293\u001B[0m, in \u001B[0;36mTerm._replace_variable\u001B[1;34m(self, var, term)\u001B[0m\n\u001B[0;32m    290\u001B[0m     \u001B[38;5;28;01mreturn\u001B[39;00m term \u001B[38;5;28;01mif\u001B[39;00m \u001B[38;5;28mself\u001B[39m\u001B[38;5;241m.\u001B[39m_data \u001B[38;5;241m==\u001B[39m var \u001B[38;5;28;01melse\u001B[39;00m \u001B[38;5;28mself\u001B[39m\n\u001B[0;32m    291\u001B[0m \u001B[38;5;28;01mif\u001B[39;00m \u001B[38;5;28mself\u001B[39m\u001B[38;5;241m.\u001B[39mkind \u001B[38;5;241m==\u001B[39m \u001B[38;5;124m\"\u001B[39m\u001B[38;5;124mapplication\u001B[39m\u001B[38;5;124m\"\u001B[39m:\n\u001B[0;32m    292\u001B[0m     \u001B[38;5;28;01mreturn\u001B[39;00m Application(\u001B[38;5;28mself\u001B[39m\u001B[38;5;241m.\u001B[39m_data[\u001B[38;5;241m0\u001B[39m]\u001B[38;5;241m.\u001B[39m_replace_variable(var, term),\n\u001B[1;32m--> 293\u001B[0m                        \u001B[38;5;28;43mself\u001B[39;49m\u001B[38;5;241;43m.\u001B[39;49m\u001B[43m_data\u001B[49m\u001B[43m[\u001B[49m\u001B[38;5;241;43m1\u001B[39;49m\u001B[43m]\u001B[49m\u001B[38;5;241;43m.\u001B[39;49m\u001B[43m_replace_variable\u001B[49m\u001B[43m(\u001B[49m\u001B[43mvar\u001B[49m\u001B[43m,\u001B[49m\u001B[43m \u001B[49m\u001B[43mterm\u001B[49m\u001B[43m)\u001B[49m)\n\u001B[0;32m    294\u001B[0m \u001B[38;5;66;03m# self is abstraction\u001B[39;00m\n\u001B[0;32m    295\u001B[0m \u001B[38;5;28;01mreturn\u001B[39;00m Abstraction(\u001B[38;5;28mself\u001B[39m\u001B[38;5;241m.\u001B[39m_data[\u001B[38;5;241m0\u001B[39m], \u001B[38;5;28mself\u001B[39m\u001B[38;5;241m.\u001B[39m_data[\u001B[38;5;241m1\u001B[39m]\u001B[38;5;241m.\u001B[39m_replace_variable(var, term))\n",
      "File \u001B[1;32mD:\\documents\\python_projects\\pure-calculus\\src\\calculus_path_mod\\term_engine.py:295\u001B[0m, in \u001B[0;36mTerm._replace_variable\u001B[1;34m(self, var, term)\u001B[0m\n\u001B[0;32m    292\u001B[0m     \u001B[38;5;28;01mreturn\u001B[39;00m Application(\u001B[38;5;28mself\u001B[39m\u001B[38;5;241m.\u001B[39m_data[\u001B[38;5;241m0\u001B[39m]\u001B[38;5;241m.\u001B[39m_replace_variable(var, term),\n\u001B[0;32m    293\u001B[0m                        \u001B[38;5;28mself\u001B[39m\u001B[38;5;241m.\u001B[39m_data[\u001B[38;5;241m1\u001B[39m]\u001B[38;5;241m.\u001B[39m_replace_variable(var, term))\n\u001B[0;32m    294\u001B[0m \u001B[38;5;66;03m# self is abstraction\u001B[39;00m\n\u001B[1;32m--> 295\u001B[0m \u001B[38;5;28;01mreturn\u001B[39;00m Abstraction(\u001B[38;5;28mself\u001B[39m\u001B[38;5;241m.\u001B[39m_data[\u001B[38;5;241m0\u001B[39m], \u001B[38;5;28;43mself\u001B[39;49m\u001B[38;5;241;43m.\u001B[39;49m\u001B[43m_data\u001B[49m\u001B[43m[\u001B[49m\u001B[38;5;241;43m1\u001B[39;49m\u001B[43m]\u001B[49m\u001B[38;5;241;43m.\u001B[39;49m\u001B[43m_replace_variable\u001B[49m\u001B[43m(\u001B[49m\u001B[43mvar\u001B[49m\u001B[43m,\u001B[49m\u001B[43m \u001B[49m\u001B[43mterm\u001B[49m\u001B[43m)\u001B[49m)\n",
      "File \u001B[1;32mD:\\documents\\python_projects\\pure-calculus\\src\\calculus_path_mod\\term_engine.py:292\u001B[0m, in \u001B[0;36mTerm._replace_variable\u001B[1;34m(self, var, term)\u001B[0m\n\u001B[0;32m    290\u001B[0m     \u001B[38;5;28;01mreturn\u001B[39;00m term \u001B[38;5;28;01mif\u001B[39;00m \u001B[38;5;28mself\u001B[39m\u001B[38;5;241m.\u001B[39m_data \u001B[38;5;241m==\u001B[39m var \u001B[38;5;28;01melse\u001B[39;00m \u001B[38;5;28mself\u001B[39m\n\u001B[0;32m    291\u001B[0m \u001B[38;5;28;01mif\u001B[39;00m \u001B[38;5;28mself\u001B[39m\u001B[38;5;241m.\u001B[39mkind \u001B[38;5;241m==\u001B[39m \u001B[38;5;124m\"\u001B[39m\u001B[38;5;124mapplication\u001B[39m\u001B[38;5;124m\"\u001B[39m:\n\u001B[1;32m--> 292\u001B[0m     \u001B[38;5;28;01mreturn\u001B[39;00m Application(\u001B[38;5;28;43mself\u001B[39;49m\u001B[38;5;241;43m.\u001B[39;49m\u001B[43m_data\u001B[49m\u001B[43m[\u001B[49m\u001B[38;5;241;43m0\u001B[39;49m\u001B[43m]\u001B[49m\u001B[38;5;241;43m.\u001B[39;49m\u001B[43m_replace_variable\u001B[49m\u001B[43m(\u001B[49m\u001B[43mvar\u001B[49m\u001B[43m,\u001B[49m\u001B[43m \u001B[49m\u001B[43mterm\u001B[49m\u001B[43m)\u001B[49m,\n\u001B[0;32m    293\u001B[0m                        \u001B[38;5;28mself\u001B[39m\u001B[38;5;241m.\u001B[39m_data[\u001B[38;5;241m1\u001B[39m]\u001B[38;5;241m.\u001B[39m_replace_variable(var, term))\n\u001B[0;32m    294\u001B[0m \u001B[38;5;66;03m# self is abstraction\u001B[39;00m\n\u001B[0;32m    295\u001B[0m \u001B[38;5;28;01mreturn\u001B[39;00m Abstraction(\u001B[38;5;28mself\u001B[39m\u001B[38;5;241m.\u001B[39m_data[\u001B[38;5;241m0\u001B[39m], \u001B[38;5;28mself\u001B[39m\u001B[38;5;241m.\u001B[39m_data[\u001B[38;5;241m1\u001B[39m]\u001B[38;5;241m.\u001B[39m_replace_variable(var, term))\n",
      "File \u001B[1;32mD:\\documents\\python_projects\\pure-calculus\\src\\calculus_path_mod\\term_engine.py:292\u001B[0m, in \u001B[0;36mTerm._replace_variable\u001B[1;34m(self, var, term)\u001B[0m\n\u001B[0;32m    290\u001B[0m     \u001B[38;5;28;01mreturn\u001B[39;00m term \u001B[38;5;28;01mif\u001B[39;00m \u001B[38;5;28mself\u001B[39m\u001B[38;5;241m.\u001B[39m_data \u001B[38;5;241m==\u001B[39m var \u001B[38;5;28;01melse\u001B[39;00m \u001B[38;5;28mself\u001B[39m\n\u001B[0;32m    291\u001B[0m \u001B[38;5;28;01mif\u001B[39;00m \u001B[38;5;28mself\u001B[39m\u001B[38;5;241m.\u001B[39mkind \u001B[38;5;241m==\u001B[39m \u001B[38;5;124m\"\u001B[39m\u001B[38;5;124mapplication\u001B[39m\u001B[38;5;124m\"\u001B[39m:\n\u001B[1;32m--> 292\u001B[0m     \u001B[38;5;28;01mreturn\u001B[39;00m Application(\u001B[38;5;28;43mself\u001B[39;49m\u001B[38;5;241;43m.\u001B[39;49m\u001B[43m_data\u001B[49m\u001B[43m[\u001B[49m\u001B[38;5;241;43m0\u001B[39;49m\u001B[43m]\u001B[49m\u001B[38;5;241;43m.\u001B[39;49m\u001B[43m_replace_variable\u001B[49m\u001B[43m(\u001B[49m\u001B[43mvar\u001B[49m\u001B[43m,\u001B[49m\u001B[43m \u001B[49m\u001B[43mterm\u001B[49m\u001B[43m)\u001B[49m,\n\u001B[0;32m    293\u001B[0m                        \u001B[38;5;28mself\u001B[39m\u001B[38;5;241m.\u001B[39m_data[\u001B[38;5;241m1\u001B[39m]\u001B[38;5;241m.\u001B[39m_replace_variable(var, term))\n\u001B[0;32m    294\u001B[0m \u001B[38;5;66;03m# self is abstraction\u001B[39;00m\n\u001B[0;32m    295\u001B[0m \u001B[38;5;28;01mreturn\u001B[39;00m Abstraction(\u001B[38;5;28mself\u001B[39m\u001B[38;5;241m.\u001B[39m_data[\u001B[38;5;241m0\u001B[39m], \u001B[38;5;28mself\u001B[39m\u001B[38;5;241m.\u001B[39m_data[\u001B[38;5;241m1\u001B[39m]\u001B[38;5;241m.\u001B[39m_replace_variable(var, term))\n",
      "File \u001B[1;32mD:\\documents\\python_projects\\pure-calculus\\src\\calculus_path_mod\\term_engine.py:295\u001B[0m, in \u001B[0;36mTerm._replace_variable\u001B[1;34m(self, var, term)\u001B[0m\n\u001B[0;32m    292\u001B[0m     \u001B[38;5;28;01mreturn\u001B[39;00m Application(\u001B[38;5;28mself\u001B[39m\u001B[38;5;241m.\u001B[39m_data[\u001B[38;5;241m0\u001B[39m]\u001B[38;5;241m.\u001B[39m_replace_variable(var, term),\n\u001B[0;32m    293\u001B[0m                        \u001B[38;5;28mself\u001B[39m\u001B[38;5;241m.\u001B[39m_data[\u001B[38;5;241m1\u001B[39m]\u001B[38;5;241m.\u001B[39m_replace_variable(var, term))\n\u001B[0;32m    294\u001B[0m \u001B[38;5;66;03m# self is abstraction\u001B[39;00m\n\u001B[1;32m--> 295\u001B[0m \u001B[38;5;28;01mreturn\u001B[39;00m Abstraction(\u001B[38;5;28mself\u001B[39m\u001B[38;5;241m.\u001B[39m_data[\u001B[38;5;241m0\u001B[39m], \u001B[38;5;28;43mself\u001B[39;49m\u001B[38;5;241;43m.\u001B[39;49m\u001B[43m_data\u001B[49m\u001B[43m[\u001B[49m\u001B[38;5;241;43m1\u001B[39;49m\u001B[43m]\u001B[49m\u001B[38;5;241;43m.\u001B[39;49m\u001B[43m_replace_variable\u001B[49m\u001B[43m(\u001B[49m\u001B[43mvar\u001B[49m\u001B[43m,\u001B[49m\u001B[43m \u001B[49m\u001B[43mterm\u001B[49m\u001B[43m)\u001B[49m)\n",
      "File \u001B[1;32mD:\\documents\\python_projects\\pure-calculus\\src\\calculus_path_mod\\term_engine.py:293\u001B[0m, in \u001B[0;36mTerm._replace_variable\u001B[1;34m(self, var, term)\u001B[0m\n\u001B[0;32m    290\u001B[0m     \u001B[38;5;28;01mreturn\u001B[39;00m term \u001B[38;5;28;01mif\u001B[39;00m \u001B[38;5;28mself\u001B[39m\u001B[38;5;241m.\u001B[39m_data \u001B[38;5;241m==\u001B[39m var \u001B[38;5;28;01melse\u001B[39;00m \u001B[38;5;28mself\u001B[39m\n\u001B[0;32m    291\u001B[0m \u001B[38;5;28;01mif\u001B[39;00m \u001B[38;5;28mself\u001B[39m\u001B[38;5;241m.\u001B[39mkind \u001B[38;5;241m==\u001B[39m \u001B[38;5;124m\"\u001B[39m\u001B[38;5;124mapplication\u001B[39m\u001B[38;5;124m\"\u001B[39m:\n\u001B[0;32m    292\u001B[0m     \u001B[38;5;28;01mreturn\u001B[39;00m Application(\u001B[38;5;28mself\u001B[39m\u001B[38;5;241m.\u001B[39m_data[\u001B[38;5;241m0\u001B[39m]\u001B[38;5;241m.\u001B[39m_replace_variable(var, term),\n\u001B[1;32m--> 293\u001B[0m                        \u001B[38;5;28;43mself\u001B[39;49m\u001B[38;5;241;43m.\u001B[39;49m\u001B[43m_data\u001B[49m\u001B[43m[\u001B[49m\u001B[38;5;241;43m1\u001B[39;49m\u001B[43m]\u001B[49m\u001B[38;5;241;43m.\u001B[39;49m\u001B[43m_replace_variable\u001B[49m\u001B[43m(\u001B[49m\u001B[43mvar\u001B[49m\u001B[43m,\u001B[49m\u001B[43m \u001B[49m\u001B[43mterm\u001B[49m\u001B[43m)\u001B[49m)\n\u001B[0;32m    294\u001B[0m \u001B[38;5;66;03m# self is abstraction\u001B[39;00m\n\u001B[0;32m    295\u001B[0m \u001B[38;5;28;01mreturn\u001B[39;00m Abstraction(\u001B[38;5;28mself\u001B[39m\u001B[38;5;241m.\u001B[39m_data[\u001B[38;5;241m0\u001B[39m], \u001B[38;5;28mself\u001B[39m\u001B[38;5;241m.\u001B[39m_data[\u001B[38;5;241m1\u001B[39m]\u001B[38;5;241m.\u001B[39m_replace_variable(var, term))\n",
      "    \u001B[1;31m[... skipping similar frames: Term._replace_variable at line 295 (242 times), Term._replace_variable at line 292 (242 times), Term._replace_variable at line 293 (120 times)]\u001B[0m\n",
      "File \u001B[1;32mD:\\documents\\python_projects\\pure-calculus\\src\\calculus_path_mod\\term_engine.py:293\u001B[0m, in \u001B[0;36mTerm._replace_variable\u001B[1;34m(self, var, term)\u001B[0m\n\u001B[0;32m    290\u001B[0m     \u001B[38;5;28;01mreturn\u001B[39;00m term \u001B[38;5;28;01mif\u001B[39;00m \u001B[38;5;28mself\u001B[39m\u001B[38;5;241m.\u001B[39m_data \u001B[38;5;241m==\u001B[39m var \u001B[38;5;28;01melse\u001B[39;00m \u001B[38;5;28mself\u001B[39m\n\u001B[0;32m    291\u001B[0m \u001B[38;5;28;01mif\u001B[39;00m \u001B[38;5;28mself\u001B[39m\u001B[38;5;241m.\u001B[39mkind \u001B[38;5;241m==\u001B[39m \u001B[38;5;124m\"\u001B[39m\u001B[38;5;124mapplication\u001B[39m\u001B[38;5;124m\"\u001B[39m:\n\u001B[0;32m    292\u001B[0m     \u001B[38;5;28;01mreturn\u001B[39;00m Application(\u001B[38;5;28mself\u001B[39m\u001B[38;5;241m.\u001B[39m_data[\u001B[38;5;241m0\u001B[39m]\u001B[38;5;241m.\u001B[39m_replace_variable(var, term),\n\u001B[1;32m--> 293\u001B[0m                        \u001B[38;5;28;43mself\u001B[39;49m\u001B[38;5;241;43m.\u001B[39;49m\u001B[43m_data\u001B[49m\u001B[43m[\u001B[49m\u001B[38;5;241;43m1\u001B[39;49m\u001B[43m]\u001B[49m\u001B[38;5;241;43m.\u001B[39;49m\u001B[43m_replace_variable\u001B[49m\u001B[43m(\u001B[49m\u001B[43mvar\u001B[49m\u001B[43m,\u001B[49m\u001B[43m \u001B[49m\u001B[43mterm\u001B[49m\u001B[43m)\u001B[49m)\n\u001B[0;32m    294\u001B[0m \u001B[38;5;66;03m# self is abstraction\u001B[39;00m\n\u001B[0;32m    295\u001B[0m \u001B[38;5;28;01mreturn\u001B[39;00m Abstraction(\u001B[38;5;28mself\u001B[39m\u001B[38;5;241m.\u001B[39m_data[\u001B[38;5;241m0\u001B[39m], \u001B[38;5;28mself\u001B[39m\u001B[38;5;241m.\u001B[39m_data[\u001B[38;5;241m1\u001B[39m]\u001B[38;5;241m.\u001B[39m_replace_variable(var, term))\n",
      "File \u001B[1;32mD:\\documents\\python_projects\\pure-calculus\\src\\calculus_path_mod\\term_engine.py:295\u001B[0m, in \u001B[0;36mTerm._replace_variable\u001B[1;34m(self, var, term)\u001B[0m\n\u001B[0;32m    292\u001B[0m     \u001B[38;5;28;01mreturn\u001B[39;00m Application(\u001B[38;5;28mself\u001B[39m\u001B[38;5;241m.\u001B[39m_data[\u001B[38;5;241m0\u001B[39m]\u001B[38;5;241m.\u001B[39m_replace_variable(var, term),\n\u001B[0;32m    293\u001B[0m                        \u001B[38;5;28mself\u001B[39m\u001B[38;5;241m.\u001B[39m_data[\u001B[38;5;241m1\u001B[39m]\u001B[38;5;241m.\u001B[39m_replace_variable(var, term))\n\u001B[0;32m    294\u001B[0m \u001B[38;5;66;03m# self is abstraction\u001B[39;00m\n\u001B[1;32m--> 295\u001B[0m \u001B[38;5;28;01mreturn\u001B[39;00m Abstraction(\u001B[38;5;28mself\u001B[39m\u001B[38;5;241m.\u001B[39m_data[\u001B[38;5;241m0\u001B[39m], \u001B[38;5;28;43mself\u001B[39;49m\u001B[38;5;241;43m.\u001B[39;49m\u001B[43m_data\u001B[49m\u001B[43m[\u001B[49m\u001B[38;5;241;43m1\u001B[39;49m\u001B[43m]\u001B[49m\u001B[38;5;241;43m.\u001B[39;49m\u001B[43m_replace_variable\u001B[49m\u001B[43m(\u001B[49m\u001B[43mvar\u001B[49m\u001B[43m,\u001B[49m\u001B[43m \u001B[49m\u001B[43mterm\u001B[49m\u001B[43m)\u001B[49m)\n",
      "File \u001B[1;32mD:\\documents\\python_projects\\pure-calculus\\src\\calculus_path_mod\\term_engine.py:292\u001B[0m, in \u001B[0;36mTerm._replace_variable\u001B[1;34m(self, var, term)\u001B[0m\n\u001B[0;32m    290\u001B[0m     \u001B[38;5;28;01mreturn\u001B[39;00m term \u001B[38;5;28;01mif\u001B[39;00m \u001B[38;5;28mself\u001B[39m\u001B[38;5;241m.\u001B[39m_data \u001B[38;5;241m==\u001B[39m var \u001B[38;5;28;01melse\u001B[39;00m \u001B[38;5;28mself\u001B[39m\n\u001B[0;32m    291\u001B[0m \u001B[38;5;28;01mif\u001B[39;00m \u001B[38;5;28mself\u001B[39m\u001B[38;5;241m.\u001B[39mkind \u001B[38;5;241m==\u001B[39m \u001B[38;5;124m\"\u001B[39m\u001B[38;5;124mapplication\u001B[39m\u001B[38;5;124m\"\u001B[39m:\n\u001B[1;32m--> 292\u001B[0m     \u001B[38;5;28;01mreturn\u001B[39;00m \u001B[43mApplication\u001B[49m\u001B[43m(\u001B[49m\u001B[38;5;28;43mself\u001B[39;49m\u001B[38;5;241;43m.\u001B[39;49m\u001B[43m_data\u001B[49m\u001B[43m[\u001B[49m\u001B[38;5;241;43m0\u001B[39;49m\u001B[43m]\u001B[49m\u001B[38;5;241;43m.\u001B[39;49m\u001B[43m_replace_variable\u001B[49m\u001B[43m(\u001B[49m\u001B[43mvar\u001B[49m\u001B[43m,\u001B[49m\u001B[43m \u001B[49m\u001B[43mterm\u001B[49m\u001B[43m)\u001B[49m\u001B[43m,\u001B[49m\n\u001B[0;32m    293\u001B[0m \u001B[43m                       \u001B[49m\u001B[38;5;28;43mself\u001B[39;49m\u001B[38;5;241;43m.\u001B[39;49m\u001B[43m_data\u001B[49m\u001B[43m[\u001B[49m\u001B[38;5;241;43m1\u001B[39;49m\u001B[43m]\u001B[49m\u001B[38;5;241;43m.\u001B[39;49m\u001B[43m_replace_variable\u001B[49m\u001B[43m(\u001B[49m\u001B[43mvar\u001B[49m\u001B[43m,\u001B[49m\u001B[43m \u001B[49m\u001B[43mterm\u001B[49m\u001B[43m)\u001B[49m\u001B[43m)\u001B[49m\n\u001B[0;32m    294\u001B[0m \u001B[38;5;66;03m# self is abstraction\u001B[39;00m\n\u001B[0;32m    295\u001B[0m \u001B[38;5;28;01mreturn\u001B[39;00m Abstraction(\u001B[38;5;28mself\u001B[39m\u001B[38;5;241m.\u001B[39m_data[\u001B[38;5;241m0\u001B[39m], \u001B[38;5;28mself\u001B[39m\u001B[38;5;241m.\u001B[39m_data[\u001B[38;5;241m1\u001B[39m]\u001B[38;5;241m.\u001B[39m_replace_variable(var, term))\n",
      "\u001B[1;31mKeyboardInterrupt\u001B[0m: "
     ]
    }
   ],
   "source": [
    "test_term(\"LI\", 1)"
   ],
   "metadata": {
    "collapsed": false
   }
  },
  {
   "cell_type": "code",
   "execution_count": null,
   "outputs": [],
   "source": [
    "test_term(\"LI\", 2)"
   ],
   "metadata": {
    "collapsed": false
   }
  },
  {
   "cell_type": "code",
   "execution_count": null,
   "outputs": [],
   "source": [
    "test_term(\"LI\", 3)"
   ],
   "metadata": {
    "collapsed": false
   }
  },
  {
   "cell_type": "code",
   "execution_count": null,
   "outputs": [],
   "source": [
    "test_term(\"LI\", 4)"
   ],
   "metadata": {
    "collapsed": false
   }
  },
  {
   "cell_type": "code",
   "execution_count": null,
   "outputs": [],
   "source": [
    "test_term(\"LI\", 5)"
   ],
   "metadata": {
    "collapsed": false
   }
  }
 ],
 "metadata": {
  "kernelspec": {
   "display_name": "Python 3",
   "language": "python",
   "name": "python3"
  },
  "language_info": {
   "codemirror_mode": {
    "name": "ipython",
    "version": 2
   },
   "file_extension": ".py",
   "mimetype": "text/x-python",
   "name": "python",
   "nbconvert_exporter": "python",
   "pygments_lexer": "ipython2",
   "version": "2.7.6"
  }
 },
 "nbformat": 4,
 "nbformat_minor": 0
}
