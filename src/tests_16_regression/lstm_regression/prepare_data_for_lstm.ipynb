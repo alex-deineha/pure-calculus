{
 "cells": [
  {
   "cell_type": "code",
   "execution_count": 1,
   "metadata": {
    "collapsed": true,
    "ExecuteTime": {
     "start_time": "2023-07-21T14:58:20.599461Z",
     "end_time": "2023-07-21T14:58:21.676314Z"
    }
   },
   "outputs": [],
   "source": [
    "import os\n",
    "import numpy as np\n",
    "import pandas as pd\n",
    "\n",
    "from sklearn.preprocessing import PowerTransformer"
   ]
  },
  {
   "cell_type": "code",
   "execution_count": 2,
   "outputs": [],
   "source": [
    "path = \"../collected_data/original_data\"\n",
    "dir_list = os.listdir(path)"
   ],
   "metadata": {
    "collapsed": false,
    "ExecuteTime": {
     "start_time": "2023-07-21T14:58:21.680326Z",
     "end_time": "2023-07-21T14:58:21.686820Z"
    }
   }
  },
  {
   "cell_type": "code",
   "execution_count": 3,
   "outputs": [
    {
     "data": {
      "text/plain": "   Unnamed: 0  vertices  redexes  redex_depths  redex_indexes  heights  \\\n0           0        53        3             4             12       15   \n1           1        50        2             5             27       15   \n2           2        27        1             1              1        8   \n3           3         7        0            -1             -1        3   \n\n   widths  steps_time  \n0      21      131224  \n1      20      187277  \n2      10       32085  \n3       2           0  ",
      "text/html": "<div>\n<style scoped>\n    .dataframe tbody tr th:only-of-type {\n        vertical-align: middle;\n    }\n\n    .dataframe tbody tr th {\n        vertical-align: top;\n    }\n\n    .dataframe thead th {\n        text-align: right;\n    }\n</style>\n<table border=\"1\" class=\"dataframe\">\n  <thead>\n    <tr style=\"text-align: right;\">\n      <th></th>\n      <th>Unnamed: 0</th>\n      <th>vertices</th>\n      <th>redexes</th>\n      <th>redex_depths</th>\n      <th>redex_indexes</th>\n      <th>heights</th>\n      <th>widths</th>\n      <th>steps_time</th>\n    </tr>\n  </thead>\n  <tbody>\n    <tr>\n      <th>0</th>\n      <td>0</td>\n      <td>53</td>\n      <td>3</td>\n      <td>4</td>\n      <td>12</td>\n      <td>15</td>\n      <td>21</td>\n      <td>131224</td>\n    </tr>\n    <tr>\n      <th>1</th>\n      <td>1</td>\n      <td>50</td>\n      <td>2</td>\n      <td>5</td>\n      <td>27</td>\n      <td>15</td>\n      <td>20</td>\n      <td>187277</td>\n    </tr>\n    <tr>\n      <th>2</th>\n      <td>2</td>\n      <td>27</td>\n      <td>1</td>\n      <td>1</td>\n      <td>1</td>\n      <td>8</td>\n      <td>10</td>\n      <td>32085</td>\n    </tr>\n    <tr>\n      <th>3</th>\n      <td>3</td>\n      <td>7</td>\n      <td>0</td>\n      <td>-1</td>\n      <td>-1</td>\n      <td>3</td>\n      <td>2</td>\n      <td>0</td>\n    </tr>\n  </tbody>\n</table>\n</div>"
     },
     "execution_count": 3,
     "metadata": {},
     "output_type": "execute_result"
    }
   ],
   "source": [
    "# test reading\n",
    "pd.read_csv(path + \"/\" + dir_list[0]).head()"
   ],
   "metadata": {
    "collapsed": false,
    "ExecuteTime": {
     "start_time": "2023-07-21T14:58:21.688831Z",
     "end_time": "2023-07-21T14:58:21.708452Z"
    }
   }
  },
  {
   "cell_type": "code",
   "execution_count": 4,
   "outputs": [],
   "source": [
    "path_to_new_data = \"../collected_data/data_for_lstm/\"\n",
    "power_trans = PowerTransformer(method='yeo-johnson')\n",
    "\n",
    "for file_name in dir_list:\n",
    "    data = pd.read_csv(path + \"/\" + file_name)\n",
    "    data = data[[ri != -1 for ri in data[\"redex_indexes\"]]]\n",
    "    data = data.drop('Unnamed: 0', axis=1)\n",
    "\n",
    "    for col_name in ['vertices', 'redexes', 'redex_depths', 'heights', 'widths']:\n",
    "        norm_col_data = power_trans.fit_transform(np.array(data[col_name]).reshape(-1, 1))\n",
    "        data[col_name] = list(norm_col_data.reshape(1, -1))[0]\n",
    "\n",
    "    data['steps_time'] = np.log(data['steps_time'])\n",
    "\n",
    "    if not os.path.exists(path_to_new_data + f\"{len(data)}\"):\n",
    "        os.makedirs(path_to_new_data + f\"{len(data)}\")\n",
    "\n",
    "    data.to_csv(path_to_new_data + f\"{len(data)}/{file_name}\", index=False)"
   ],
   "metadata": {
    "collapsed": false,
    "ExecuteTime": {
     "start_time": "2023-07-21T14:58:22.011971Z",
     "end_time": "2023-07-21T14:58:28.060517Z"
    }
   }
  }
 ],
 "metadata": {
  "kernelspec": {
   "display_name": "Python 3",
   "language": "python",
   "name": "python3"
  },
  "language_info": {
   "codemirror_mode": {
    "name": "ipython",
    "version": 2
   },
   "file_extension": ".py",
   "mimetype": "text/x-python",
   "name": "python",
   "nbconvert_exporter": "python",
   "pygments_lexer": "ipython2",
   "version": "2.7.6"
  }
 },
 "nbformat": 4,
 "nbformat_minor": 0
}
