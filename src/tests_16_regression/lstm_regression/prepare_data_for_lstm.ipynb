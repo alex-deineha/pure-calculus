{
 "cells": [
  {
   "cell_type": "code",
   "execution_count": 1,
   "metadata": {
    "collapsed": true,
    "ExecuteTime": {
     "start_time": "2023-07-31T17:23:34.270120Z",
     "end_time": "2023-07-31T17:23:34.476251Z"
    }
   },
   "outputs": [],
   "source": [
    "import os\n",
    "import numpy as np\n",
    "import pandas as pd\n",
    "\n",
    "from sklearn.preprocessing import PowerTransformer\n",
    "from sklearn.preprocessing import MinMaxScaler"
   ]
  },
  {
   "cell_type": "code",
   "execution_count": 2,
   "outputs": [],
   "source": [
    "path = \"../collected_data/original_data\"\n",
    "dir_list = os.listdir(path)"
   ],
   "metadata": {
    "collapsed": false,
    "ExecuteTime": {
     "start_time": "2023-07-31T17:23:34.614642Z",
     "end_time": "2023-07-31T17:23:34.621688Z"
    }
   }
  },
  {
   "cell_type": "code",
   "execution_count": 3,
   "outputs": [
    {
     "data": {
      "text/plain": "   Unnamed: 0  vertices  redexes  redex_depths  redex_indexes  heights  \\\n0           0        53        3             4             12       15   \n1           1        50        2             5             27       15   \n2           2        27        1             1              1        8   \n3           3         7        0            -1             -1        3   \n\n   widths  steps_time  \n0      21      131224  \n1      20      187277  \n2      10       32085  \n3       2           0  ",
      "text/html": "<div>\n<style scoped>\n    .dataframe tbody tr th:only-of-type {\n        vertical-align: middle;\n    }\n\n    .dataframe tbody tr th {\n        vertical-align: top;\n    }\n\n    .dataframe thead th {\n        text-align: right;\n    }\n</style>\n<table border=\"1\" class=\"dataframe\">\n  <thead>\n    <tr style=\"text-align: right;\">\n      <th></th>\n      <th>Unnamed: 0</th>\n      <th>vertices</th>\n      <th>redexes</th>\n      <th>redex_depths</th>\n      <th>redex_indexes</th>\n      <th>heights</th>\n      <th>widths</th>\n      <th>steps_time</th>\n    </tr>\n  </thead>\n  <tbody>\n    <tr>\n      <th>0</th>\n      <td>0</td>\n      <td>53</td>\n      <td>3</td>\n      <td>4</td>\n      <td>12</td>\n      <td>15</td>\n      <td>21</td>\n      <td>131224</td>\n    </tr>\n    <tr>\n      <th>1</th>\n      <td>1</td>\n      <td>50</td>\n      <td>2</td>\n      <td>5</td>\n      <td>27</td>\n      <td>15</td>\n      <td>20</td>\n      <td>187277</td>\n    </tr>\n    <tr>\n      <th>2</th>\n      <td>2</td>\n      <td>27</td>\n      <td>1</td>\n      <td>1</td>\n      <td>1</td>\n      <td>8</td>\n      <td>10</td>\n      <td>32085</td>\n    </tr>\n    <tr>\n      <th>3</th>\n      <td>3</td>\n      <td>7</td>\n      <td>0</td>\n      <td>-1</td>\n      <td>-1</td>\n      <td>3</td>\n      <td>2</td>\n      <td>0</td>\n    </tr>\n  </tbody>\n</table>\n</div>"
     },
     "execution_count": 3,
     "metadata": {},
     "output_type": "execute_result"
    }
   ],
   "source": [
    "# test reading\n",
    "pd.read_csv(path + \"/\" + dir_list[0]).head()"
   ],
   "metadata": {
    "collapsed": false,
    "ExecuteTime": {
     "start_time": "2023-07-31T17:23:35.574033Z",
     "end_time": "2023-07-31T17:23:35.590491Z"
    }
   }
  },
  {
   "cell_type": "code",
   "execution_count": 10,
   "outputs": [],
   "source": [
    "path_to_new_data = \"../collected_data/data_for_lstm/\"\n",
    "\n",
    "dict_trans = dict()\n",
    "\n",
    "all_data = pd.DataFrame()\n",
    "for file_name in dir_list:\n",
    "    data = pd.read_csv(path + \"/\" + file_name)\n",
    "    data = data[[ri != -1 for ri in data[\"redex_indexes\"]]]\n",
    "    all_data = pd.concat([all_data, data]).reset_index(drop=True)\n",
    "\n",
    "for col_name in ['vertices', 'redexes', 'redex_depths', 'heights', 'widths']:\n",
    "    dict_trans[col_name] = PowerTransformer(method='yeo-johnson')\n",
    "    dict_trans[col_name].fit(all_data[col_name].to_numpy().reshape(-1, 1))\n",
    "\n",
    "dict_trans['steps_time'] = MinMaxScaler(feature_range=(0, 1))\n",
    "\n",
    "all_data['steps_time'] = np.log(all_data['steps_time'])\n",
    "dict_trans['steps_time'].fit(np.array(all_data['steps_time']).reshape(-1, 1))\n",
    "\n",
    "for file_name in dir_list:\n",
    "    data = pd.read_csv(path + \"/\" + file_name)\n",
    "    data = data[[ri != -1 for ri in data[\"redex_indexes\"]]]\n",
    "    data = data.drop('Unnamed: 0', axis=1)\n",
    "\n",
    "    for col_name in ['vertices', 'redexes', 'redex_depths', 'heights', 'widths']:\n",
    "        norm_col_data = dict_trans[col_name].transform(np.array(data[col_name]).reshape(-1, 1))\n",
    "        data[col_name] = list(norm_col_data.reshape(1, -1))[0]\n",
    "\n",
    "    data['steps_time'] = np.log(data['steps_time'])\n",
    "    norm_col_data = dict_trans['steps_time'].transform(np.array(data['steps_time']).reshape(-1, 1))\n",
    "    data['steps_time'] = list(norm_col_data.reshape(1, -1))[0]\n",
    "\n",
    "\n",
    "    if not os.path.exists(path_to_new_data + f\"{len(data)}\"):\n",
    "        os.makedirs(path_to_new_data + f\"{len(data)}\")\n",
    "\n",
    "    data.to_csv(path_to_new_data + f\"{len(data)}/{file_name}\", index=False)"
   ],
   "metadata": {
    "collapsed": false,
    "ExecuteTime": {
     "start_time": "2023-07-31T17:28:50.663058Z",
     "end_time": "2023-07-31T17:28:53.894805Z"
    }
   }
  }
 ],
 "metadata": {
  "kernelspec": {
   "display_name": "Python 3",
   "language": "python",
   "name": "python3"
  },
  "language_info": {
   "codemirror_mode": {
    "name": "ipython",
    "version": 2
   },
   "file_extension": ".py",
   "mimetype": "text/x-python",
   "name": "python",
   "nbconvert_exporter": "python",
   "pygments_lexer": "ipython2",
   "version": "2.7.6"
  }
 },
 "nbformat": 4,
 "nbformat_minor": 0
}
