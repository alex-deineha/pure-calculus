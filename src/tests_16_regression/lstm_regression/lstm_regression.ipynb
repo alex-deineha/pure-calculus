{
 "cells": [
  {
   "cell_type": "markdown",
   "source": [
    "# Import The dependencies"
   ],
   "metadata": {
    "collapsed": false
   }
  },
  {
   "cell_type": "code",
   "execution_count": 15,
   "outputs": [],
   "source": [
    "import os\n",
    "\n",
    "import numpy as np\n",
    "import pandas as pd\n",
    "\n",
    "from keras.models import Sequential\n",
    "from keras.layers import LSTM, Dense"
   ],
   "metadata": {
    "collapsed": false,
    "ExecuteTime": {
     "start_time": "2023-07-21T15:18:56.851384Z",
     "end_time": "2023-07-21T15:18:56.879860Z"
    }
   }
  },
  {
   "cell_type": "markdown",
   "source": [
    "# Load the data"
   ],
   "metadata": {
    "collapsed": false
   }
  },
  {
   "cell_type": "code",
   "execution_count": 23,
   "outputs": [
    {
     "name": "stdout",
     "output_type": "stream",
     "text": [
      "[[0. 0. 0. 0. 0.]]\n"
     ]
    }
   ],
   "source": [
    "path_lstm_data = \"../collected_data/data_for_lstm/\"\n",
    "\n",
    "dict_data = dict()\n",
    "\n",
    "for dir_path in os.listdir(path_lstm_data):\n",
    "    for file_name in os.listdir(path_lstm_data + f\"{dir_path}\"):\n",
    "        dict_data[int(dir_path)] = []\n",
    "        data_rec = pd.read_csv(path_lstm_data + f\"{dir_path}/{file_name}\")\n",
    "\n",
    "        x_data = data_rec[['vertices', 'redexes', 'redex_depths', 'heights', 'widths']].to_numpy()\n",
    "        y_data = data_rec[\"steps_time\"].to_numpy()\n",
    "        print(x_data)\n",
    "        break\n",
    "    break"
   ],
   "metadata": {
    "collapsed": false,
    "ExecuteTime": {
     "start_time": "2023-07-21T15:26:35.381373Z",
     "end_time": "2023-07-21T15:26:35.398164Z"
    }
   }
  },
  {
   "cell_type": "code",
   "execution_count": 27,
   "outputs": [
    {
     "name": "stdout",
     "output_type": "stream",
     "text": [
      "[11.56236304 11.39987994 12.53486187 12.00341776]\n"
     ]
    }
   ],
   "source": [
    "for file_name in os.listdir(path_lstm_data + \"4\"):\n",
    "    dict_data[int(dir_path)] = []\n",
    "    data_rec = pd.read_csv(path_lstm_data + f\"4/{file_name}\")\n",
    "\n",
    "    x_data = data_rec[['vertices', 'redexes', 'redex_depths', 'heights', 'widths']].to_numpy()\n",
    "    y_data = data_rec[\"steps_time\"].to_numpy()\n",
    "    print(y_data)\n",
    "    break"
   ],
   "metadata": {
    "collapsed": false,
    "ExecuteTime": {
     "start_time": "2023-07-21T15:29:02.248517Z",
     "end_time": "2023-07-21T15:29:02.263323Z"
    }
   }
  },
  {
   "cell_type": "code",
   "execution_count": null,
   "outputs": [],
   "source": [],
   "metadata": {
    "collapsed": false
   }
  },
  {
   "cell_type": "code",
   "execution_count": 51,
   "outputs": [
    {
     "name": "stdout",
     "output_type": "stream",
     "text": [
      "[[0.54367805]\n",
      " [0.28269965]\n",
      " [0.03023526]\n",
      " [0.71033683]\n",
      " [0.0078841 ]\n",
      " [0.37267907]\n",
      " [0.53053721]\n",
      " [0.92211146]\n",
      " [0.08949455]\n",
      " [0.40594232]]\n"
     ]
    }
   ],
   "source": [
    "print(np.random.rand(10).reshape(-1, 1))"
   ],
   "metadata": {
    "collapsed": false,
    "ExecuteTime": {
     "start_time": "2023-07-21T15:48:08.519467Z",
     "end_time": "2023-07-21T15:48:08.540637Z"
    }
   }
  },
  {
   "cell_type": "code",
   "execution_count": 68,
   "outputs": [],
   "source": [
    "# Generate sample data with variable-length sequences\n",
    "# Replace this with your own data\n",
    "def generate_sample_data(num_samples, min_timesteps, max_timesteps, num_features):\n",
    "    np.random.seed(0)\n",
    "    X, y = [], []\n",
    "    for _ in range(num_samples):\n",
    "        timesteps = np.random.randint(min_timesteps, max_timesteps + 1)\n",
    "        X.append(np.random.rand(timesteps, num_features))\n",
    "        y.append(np.random.rand(1).reshape(-1, 1))\n",
    "    return X, y\n",
    "\n",
    "# Create the LSTM model\n",
    "def create_lstm_model(max_timesteps, num_features):\n",
    "    model = Sequential()\n",
    "    model.add(LSTM(64, input_shape=(None, num_features), activation='relu', return_sequences=False))\n",
    "    model.add(Dense(1))\n",
    "    return model\n",
    "\n",
    "# Compile the model\n",
    "def compile_model(model):\n",
    "    model.compile(loss='mean_squared_error', optimizer='adam')\n",
    "\n",
    "# Train the model\n",
    "def train_model(model, X, y, epochs=10, batch_size=32):\n",
    "    model.fit(X, y, epochs=epochs, batch_size=batch_size)"
   ],
   "metadata": {
    "collapsed": false,
    "ExecuteTime": {
     "start_time": "2023-07-21T17:44:09.877262Z",
     "end_time": "2023-07-21T17:44:09.885943Z"
    }
   }
  },
  {
   "cell_type": "code",
   "execution_count": 69,
   "outputs": [
    {
     "ename": "ValueError",
     "evalue": "Data cardinality is ambiguous:\n  x sizes: 10, 10, 10, 10, 10, 10, 10, 10, 10, 10\n  y sizes: 1, 1, 1, 1, 1, 1, 1, 1, 1, 1\nMake sure all arrays contain the same number of samples.",
     "output_type": "error",
     "traceback": [
      "\u001B[1;31m---------------------------------------------------------------------------\u001B[0m",
      "\u001B[1;31mValueError\u001B[0m                                Traceback (most recent call last)",
      "Cell \u001B[1;32mIn[69], line 12\u001B[0m\n\u001B[0;32m     10\u001B[0m model \u001B[38;5;241m=\u001B[39m create_lstm_model(max_timesteps, num_features)\n\u001B[0;32m     11\u001B[0m compile_model(model)\n\u001B[1;32m---> 12\u001B[0m \u001B[43mtrain_model\u001B[49m\u001B[43m(\u001B[49m\u001B[43mmodel\u001B[49m\u001B[43m,\u001B[49m\u001B[43m \u001B[49m\u001B[43mX\u001B[49m\u001B[43m,\u001B[49m\u001B[43m \u001B[49m\u001B[43my\u001B[49m\u001B[43m)\u001B[49m\n\u001B[0;32m     14\u001B[0m \u001B[38;5;66;03m# Once the model is trained, you can use it for predictions\u001B[39;00m\n\u001B[0;32m     15\u001B[0m \u001B[38;5;66;03m# Replace `new_data` with your new input data for prediction\u001B[39;00m\n\u001B[0;32m     16\u001B[0m new_data \u001B[38;5;241m=\u001B[39m np\u001B[38;5;241m.\u001B[39mrandom\u001B[38;5;241m.\u001B[39mrand(\u001B[38;5;241m1\u001B[39m, max_timesteps, num_features)\n",
      "Cell \u001B[1;32mIn[68], line 25\u001B[0m, in \u001B[0;36mtrain_model\u001B[1;34m(model, X, y, epochs, batch_size)\u001B[0m\n\u001B[0;32m     24\u001B[0m \u001B[38;5;28;01mdef\u001B[39;00m \u001B[38;5;21mtrain_model\u001B[39m(model, X, y, epochs\u001B[38;5;241m=\u001B[39m\u001B[38;5;241m10\u001B[39m, batch_size\u001B[38;5;241m=\u001B[39m\u001B[38;5;241m32\u001B[39m):\n\u001B[1;32m---> 25\u001B[0m     \u001B[43mmodel\u001B[49m\u001B[38;5;241;43m.\u001B[39;49m\u001B[43mfit\u001B[49m\u001B[43m(\u001B[49m\u001B[43mX\u001B[49m\u001B[43m,\u001B[49m\u001B[43m \u001B[49m\u001B[43my\u001B[49m\u001B[43m,\u001B[49m\u001B[43m \u001B[49m\u001B[43mepochs\u001B[49m\u001B[38;5;241;43m=\u001B[39;49m\u001B[43mepochs\u001B[49m\u001B[43m,\u001B[49m\u001B[43m \u001B[49m\u001B[43mbatch_size\u001B[49m\u001B[38;5;241;43m=\u001B[39;49m\u001B[43mbatch_size\u001B[49m\u001B[43m)\u001B[49m\n",
      "File \u001B[1;32mD:\\documents\\python_projects\\pure-calculus\\venv_3_11\\Lib\\site-packages\\keras\\src\\utils\\traceback_utils.py:70\u001B[0m, in \u001B[0;36mfilter_traceback.<locals>.error_handler\u001B[1;34m(*args, **kwargs)\u001B[0m\n\u001B[0;32m     67\u001B[0m     filtered_tb \u001B[38;5;241m=\u001B[39m _process_traceback_frames(e\u001B[38;5;241m.\u001B[39m__traceback__)\n\u001B[0;32m     68\u001B[0m     \u001B[38;5;66;03m# To get the full stack trace, call:\u001B[39;00m\n\u001B[0;32m     69\u001B[0m     \u001B[38;5;66;03m# `tf.debugging.disable_traceback_filtering()`\u001B[39;00m\n\u001B[1;32m---> 70\u001B[0m     \u001B[38;5;28;01mraise\u001B[39;00m e\u001B[38;5;241m.\u001B[39mwith_traceback(filtered_tb) \u001B[38;5;28;01mfrom\u001B[39;00m \u001B[38;5;28mNone\u001B[39m\n\u001B[0;32m     71\u001B[0m \u001B[38;5;28;01mfinally\u001B[39;00m:\n\u001B[0;32m     72\u001B[0m     \u001B[38;5;28;01mdel\u001B[39;00m filtered_tb\n",
      "File \u001B[1;32mD:\\documents\\python_projects\\pure-calculus\\venv_3_11\\Lib\\site-packages\\keras\\src\\engine\\data_adapter.py:1950\u001B[0m, in \u001B[0;36m_check_data_cardinality\u001B[1;34m(data)\u001B[0m\n\u001B[0;32m   1943\u001B[0m     msg \u001B[38;5;241m+\u001B[39m\u001B[38;5;241m=\u001B[39m \u001B[38;5;124m\"\u001B[39m\u001B[38;5;124m  \u001B[39m\u001B[38;5;132;01m{}\u001B[39;00m\u001B[38;5;124m sizes: \u001B[39m\u001B[38;5;132;01m{}\u001B[39;00m\u001B[38;5;130;01m\\n\u001B[39;00m\u001B[38;5;124m\"\u001B[39m\u001B[38;5;241m.\u001B[39mformat(\n\u001B[0;32m   1944\u001B[0m         label,\n\u001B[0;32m   1945\u001B[0m         \u001B[38;5;124m\"\u001B[39m\u001B[38;5;124m, \u001B[39m\u001B[38;5;124m\"\u001B[39m\u001B[38;5;241m.\u001B[39mjoin(\n\u001B[0;32m   1946\u001B[0m             \u001B[38;5;28mstr\u001B[39m(i\u001B[38;5;241m.\u001B[39mshape[\u001B[38;5;241m0\u001B[39m]) \u001B[38;5;28;01mfor\u001B[39;00m i \u001B[38;5;129;01min\u001B[39;00m tf\u001B[38;5;241m.\u001B[39mnest\u001B[38;5;241m.\u001B[39mflatten(single_data)\n\u001B[0;32m   1947\u001B[0m         ),\n\u001B[0;32m   1948\u001B[0m     )\n\u001B[0;32m   1949\u001B[0m msg \u001B[38;5;241m+\u001B[39m\u001B[38;5;241m=\u001B[39m \u001B[38;5;124m\"\u001B[39m\u001B[38;5;124mMake sure all arrays contain the same number of samples.\u001B[39m\u001B[38;5;124m\"\u001B[39m\n\u001B[1;32m-> 1950\u001B[0m \u001B[38;5;28;01mraise\u001B[39;00m \u001B[38;5;167;01mValueError\u001B[39;00m(msg)\n",
      "\u001B[1;31mValueError\u001B[0m: Data cardinality is ambiguous:\n  x sizes: 10, 10, 10, 10, 10, 10, 10, 10, 10, 10\n  y sizes: 1, 1, 1, 1, 1, 1, 1, 1, 1, 1\nMake sure all arrays contain the same number of samples."
     ]
    }
   ],
   "source": [
    "# Example usage\n",
    "num_samples = 10\n",
    "min_timesteps = 10\n",
    "max_timesteps = 10\n",
    "num_features = 5\n",
    "\n",
    "X, y = generate_sample_data(num_samples, min_timesteps, max_timesteps, num_features)\n",
    "\n",
    "max_timesteps = max([seq.shape[0] for seq in X])  # Update max_timesteps based on the actual maximum length\n",
    "model = create_lstm_model(max_timesteps, num_features)\n",
    "compile_model(model)\n",
    "train_model(model, X, y)\n",
    "\n",
    "# Once the model is trained, you can use it for predictions\n",
    "# Replace `new_data` with your new input data for prediction\n",
    "new_data = np.random.rand(1, max_timesteps, num_features)\n",
    "predictions = model.predict(new_data)\n",
    "\n",
    "print(\"Output from each LSTM step:\")\n",
    "for timestep_output in predictions[0]:\n",
    "    print(timestep_output[0])"
   ],
   "metadata": {
    "collapsed": false,
    "ExecuteTime": {
     "start_time": "2023-07-21T14:52:35.293232Z",
     "end_time": "2023-07-21T14:52:37.487631Z"
    }
   }
  },
  {
   "cell_type": "code",
   "execution_count": 65,
   "outputs": [
    {
     "name": "stdout",
     "output_type": "stream",
     "text": [
      "Model: \"sequential_14\"\n",
      "_________________________________________________________________\n",
      " Layer (type)                Output Shape              Param #   \n",
      "=================================================================\n",
      " lstm_14 (LSTM)              (None, None, 64)          17920     \n",
      "                                                                 \n",
      " dense_14 (Dense)            (None, None, 1)           65        \n",
      "                                                                 \n",
      "=================================================================\n",
      "Total params: 17985 (70.25 KB)\n",
      "Trainable params: 17985 (70.25 KB)\n",
      "Non-trainable params: 0 (0.00 Byte)\n",
      "_________________________________________________________________\n"
     ]
    }
   ],
   "source": [
    "model.summary()"
   ],
   "metadata": {
    "collapsed": false,
    "ExecuteTime": {
     "start_time": "2023-07-21T17:41:53.167768Z",
     "end_time": "2023-07-21T17:41:53.182459Z"
    }
   }
  },
  {
   "cell_type": "code",
   "execution_count": 44,
   "outputs": [
    {
     "name": "stdout",
     "output_type": "stream",
     "text": [
      "[[0.84426575 0.85794562 0.84725174 0.6235637  0.38438171]\n",
      " [0.29753461 0.05671298 0.27265629 0.47766512 0.81216873]\n",
      " [0.47997717 0.3927848  0.83607876 0.33739616 0.64817187]\n",
      " [0.36824154 0.95715516 0.14035078 0.87008726 0.47360805]\n",
      " [0.80091075 0.52047748 0.67887953 0.72063265 0.58201979]\n",
      " [0.53737323 0.75861562 0.10590761 0.47360042 0.18633234]] \n",
      "\n",
      "[[0.94374808 0.6818203  0.3595079  0.43703195 0.6976312 ]\n",
      " [0.06022547 0.66676672 0.67063787 0.21038256 0.1289263 ]] \n",
      "\n",
      "[[0.03842543 0.63427406 0.95894927 0.65279032 0.63505887]\n",
      " [0.99529957 0.58185033 0.41436859 0.4746975  0.6235101 ]\n",
      " [0.33800761 0.67475232 0.31720174 0.77834548 0.94957105]\n",
      " [0.66252687 0.01357164 0.6228461  0.67365963 0.971945  ]\n",
      " [0.87819347 0.50962438 0.05571469 0.45115921 0.01998767]\n",
      " [0.44171092 0.97958673 0.35944446 0.48089353 0.68866118]\n",
      " [0.88047589 0.91823547 0.21682214 0.56518887 0.86510256]\n",
      " [0.50896896 0.91672295 0.92115761 0.08311249 0.27771856]\n",
      " [0.0093567  0.84234208 0.64717414 0.84138612 0.26473016]\n",
      " [0.39782075 0.55282148 0.16494046 0.36980809 0.14644176]] \n",
      "\n",
      "[[0.84640867 0.69947928 0.29743695 0.81379782 0.39650574]] \n",
      "\n",
      "[[0.31321833 0.96541622 0.58846509 0.65966841 0.53320625]\n",
      " [0.23053302 0.39486929 0.61880856 0.47486752 0.47013219]\n",
      " [0.71607453 0.287991   0.38346223 0.74916984 0.87845219]\n",
      " [0.10286336 0.09237389 0.35404666 0.55181626 0.03362509]\n",
      " [0.96896177 0.32099724 0.22126269 0.1412639  0.09725993]\n",
      " [0.98404224 0.26034093 0.53702252 0.44792617 0.09956909]\n",
      " [0.35231166 0.46924917 0.84114013 0.90464774 0.03755938]\n",
      " [0.50831545 0.16684751 0.77905102 0.8649333  0.41139672]\n",
      " [0.13997259 0.03322239 0.98257496 0.37329075 0.42007537]] \n",
      "\n",
      "[[0.19999652 0.01852179 0.7936977  0.22392469 0.34535168]\n",
      " [0.92808129 0.7044144  0.03183893 0.16469416 0.6214784 ]\n",
      " [0.57722859 0.23789282 0.934214   0.61396596 0.5356328 ]\n",
      " [0.58990998 0.73012203 0.311945   0.39822106 0.20984375]\n",
      " [0.18619301 0.94437239 0.7395508  0.49045881 0.22741463]\n",
      " [0.25435648 0.05802916 0.43441663 0.31179588 0.69634349]] \n",
      "\n",
      "[[6.07045061e-01 7.14696936e-01 4.69497183e-01 4.56014623e-01\n",
      "  9.06418087e-01]\n",
      " [1.37220420e-01 2.29219323e-01 8.81585399e-01 9.04424976e-01\n",
      "  6.45784599e-01]\n",
      " [3.24682972e-01 5.19711194e-01 5.53568650e-05 3.11860221e-01\n",
      "  4.25451538e-01]\n",
      " [8.85337660e-01 6.79879456e-01 4.56129772e-01 4.83408617e-01\n",
      "  7.88739428e-01]\n",
      " [2.29441834e-01 8.80297603e-01 3.13692393e-01 9.57450856e-01\n",
      "  4.71751571e-01]\n",
      " [7.11583817e-01 1.53694305e-01 7.30442177e-01 6.46264437e-01\n",
      "  2.14880737e-01]\n",
      " [1.86458219e-01 8.07580269e-01 7.47079470e-01 6.74847346e-01\n",
      "  2.76893751e-01]\n",
      " [1.74908874e-01 7.04474258e-01 4.63150200e-01 8.40428533e-01\n",
      "  2.04865762e-01]\n",
      " [1.64958868e-01 1.24833057e-01 7.22080662e-01 3.04529649e-02\n",
      "  7.46994240e-01]\n",
      " [9.25961651e-02 2.17450493e-01 7.49254417e-01 7.31693756e-01\n",
      "  4.56146372e-02]] \n",
      "\n",
      "[[0.4856276  0.97749514 0.87650525 0.33815895 0.96157015]\n",
      " [0.23170163 0.94931882 0.9413777  0.79920259 0.63044794]\n",
      " [0.87428797 0.29302028 0.84894356 0.61787669 0.01323686]\n",
      " [0.34723352 0.14814086 0.98182939 0.47837031 0.49739137]\n",
      " [0.63947252 0.36858461 0.13690027 0.82211773 0.18984791]\n",
      " [0.51131898 0.22431703 0.09784448 0.86219152 0.97291949]\n",
      " [0.96083466 0.9065555  0.77404733 0.33314515 0.08110139]\n",
      " [0.40724117 0.23223414 0.13248763 0.05342718 0.72559436]\n",
      " [0.01142746 0.77058075 0.14694665 0.07952208 0.08960303]\n",
      " [0.67204781 0.24536721 0.42053947 0.55736879 0.86055117]] \n",
      "\n",
      "[[0.82687037 0.50934207 0.08637698 0.66003986 0.20659461]\n",
      " [0.84727532 0.68135913 0.17836735 0.06985902 0.00968817]\n",
      " [0.89204966 0.13346521 0.77919197 0.92516343 0.71517875]\n",
      " [0.49081861 0.4694983  0.88270929 0.48841006 0.41456749]\n",
      " [0.17411195 0.47528944 0.78364797 0.55642943 0.15986708]\n",
      " [0.14382937 0.64946303 0.5392236  0.32568477 0.14701389]\n",
      " [0.15987007 0.12941234 0.57892239 0.09226017 0.91054472]\n",
      " [0.08297175 0.80037846 0.87713097 0.09345946 0.42630588]] \n",
      "\n",
      "[[0.50342743 0.95372138 0.5578113  0.09746869 0.62167849]\n",
      " [0.86302262 0.15763228 0.99242952 0.08500107 0.09445791]\n",
      " [0.63360789 0.94929747 0.93674647 0.44737829 0.72769634]\n",
      " [0.74223798 0.30698606 0.11977135 0.44387868 0.39177432]\n",
      " [0.53184918 0.84535768 0.53627454 0.68027015 0.60917758]\n",
      " [0.098478   0.09202759 0.05596583 0.08653249 0.23717329]\n",
      " [0.83951297 0.52237053 0.51307486 0.64983197 0.54459088]] \n",
      "\n"
     ]
    }
   ],
   "source": [
    "for row in X:\n",
    "    print(row, \"\\n\")"
   ],
   "metadata": {
    "collapsed": false,
    "ExecuteTime": {
     "start_time": "2023-07-21T15:36:14.331679Z",
     "end_time": "2023-07-21T15:36:14.360655Z"
    }
   }
  },
  {
   "cell_type": "code",
   "execution_count": 42,
   "outputs": [
    {
     "data": {
      "text/plain": "[array([0.73691818, 0.21655035, 0.13521817, 0.32414101, 0.14967487,\n        0.22232139]),\n array([0.31542835, 0.36371077]),\n array([0.56961841, 0.70373728, 0.28847644, 0.43328806, 0.75610669,\n        0.39609828, 0.89603839, 0.63892108, 0.89155444, 0.68005557]),\n array([0.8811032]),\n array([0.05058812, 0.36549611, 0.01662797, 0.23074234, 0.7649117 ,\n        0.94412352, 0.74999925, 0.33940382, 0.48954894]),\n array([0.37775184, 0.17960368, 0.02467873, 0.06724963, 0.67939277,\n        0.45369684]),\n array([0.20915703, 0.28691504, 0.67726331, 0.06303829, 0.55564924,\n        0.00924007, 0.8330381 , 0.98432943, 0.70349478, 0.1816312 ]),\n array([0.72704426, 0.27032791, 0.1314828 , 0.05537432, 0.30159863,\n        0.26211815, 0.45614057, 0.68328134, 0.69562545, 0.28351885]),\n array([0.47322067, 0.58019711, 0.71624417, 0.02706898, 0.73139734,\n        0.76696351, 0.00976644, 0.30828617]),\n array([0.0324653 , 0.58015172, 0.77108905, 0.37622657, 0.49102474,\n        0.98163968, 0.24465141])]"
     },
     "execution_count": 42,
     "metadata": {},
     "output_type": "execute_result"
    }
   ],
   "source": [
    "y"
   ],
   "metadata": {
    "collapsed": false,
    "ExecuteTime": {
     "start_time": "2023-07-21T15:35:28.774327Z",
     "end_time": "2023-07-21T15:35:28.803400Z"
    }
   }
  },
  {
   "cell_type": "code",
   "execution_count": null,
   "outputs": [],
   "source": [],
   "metadata": {
    "collapsed": false
   }
  },
  {
   "cell_type": "code",
   "execution_count": null,
   "outputs": [],
   "source": [],
   "metadata": {
    "collapsed": false
   }
  }
 ],
 "metadata": {
  "kernelspec": {
   "display_name": "Python 3",
   "language": "python",
   "name": "python3"
  },
  "language_info": {
   "codemirror_mode": {
    "name": "ipython",
    "version": 2
   },
   "file_extension": ".py",
   "mimetype": "text/x-python",
   "name": "python",
   "nbconvert_exporter": "python",
   "pygments_lexer": "ipython2",
   "version": "2.7.6"
  }
 },
 "nbformat": 4,
 "nbformat_minor": 0
}
