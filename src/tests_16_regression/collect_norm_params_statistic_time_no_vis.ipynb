{
 "cells": [
  {
   "cell_type": "code",
   "execution_count": 1,
   "metadata": {
    "collapsed": true,
    "ExecuteTime": {
     "end_time": "2023-07-12T15:58:57.766737460Z",
     "start_time": "2023-07-12T15:58:57.291632555Z"
    }
   },
   "outputs": [],
   "source": [
    "import sys\n",
    "import re\n",
    "from tqdm import tqdm\n",
    "\n",
    "import matplotlib.pyplot as plt\n",
    "import pandas as pd\n",
    "import seaborn as sns\n",
    "import numpy as np\n",
    "from collections import Counter\n",
    "from joypy import joyplot\n",
    "\n",
    "sys.path.append(\"../\")\n",
    "from calculus_path_mod.term_engine import *\n",
    "from calculus_path_mod.reduction_strategy import *\n",
    "from calculus_path_mod.terms import num_comparison, nat_numbers, arithm_ops, combinators, pairs, logic\n",
    "from calculus_path_mod.terms.pseudonym import *\n",
    "\n",
    "from calculus_path_mod.json_serialization import load_terms\n",
    "from fitter import Fitter, get_common_distributions\n",
    "from calculus_utils.drawing import draw_steps_displot"
   ]
  },
  {
   "cell_type": "markdown",
   "source": [
    "# Load Terms filtered LO"
   ],
   "metadata": {
    "collapsed": false
   }
  },
  {
   "cell_type": "code",
   "execution_count": 2,
   "outputs": [],
   "source": [
    "terms_LO = load_terms(\"../tests_11_retests/terms_210_filtered_LO.dat\")\n",
    "# terms_RI = load_terms(\"../tests_11_retests/terms_210_filtered_RI.dat\")"
   ],
   "metadata": {
    "collapsed": false,
    "ExecuteTime": {
     "end_time": "2023-07-12T15:58:57.808586471Z",
     "start_time": "2023-07-12T15:58:57.775264294Z"
    }
   }
  },
  {
   "cell_type": "markdown",
   "source": [
    "# Collect normalization process data for LO & LI strategies with terms-LO"
   ],
   "metadata": {
    "collapsed": false
   }
  },
  {
   "cell_type": "code",
   "execution_count": 3,
   "outputs": [],
   "source": [
    "def gen_norm_data(terms_list, strategy):\n",
    "    steps = []\n",
    "    for term in tqdm(terms_list):\n",
    "        try:\n",
    "            norm_data = term.normalize_with_params(strategy)\n",
    "            steps.append(norm_data)\n",
    "        except Exception:\n",
    "            steps.append(None)\n",
    "    return steps"
   ],
   "metadata": {
    "collapsed": false,
    "ExecuteTime": {
     "end_time": "2023-07-12T15:58:57.817690409Z",
     "start_time": "2023-07-12T15:58:57.799771385Z"
    }
   }
  },
  {
   "cell_type": "code",
   "execution_count": 4,
   "outputs": [
    {
     "name": "stderr",
     "output_type": "stream",
     "text": [
      "100%|██████████| 226/226 [00:01<00:00, 216.15it/s]\n",
      "100%|██████████| 226/226 [12:46<00:00,  3.39s/it] \n"
     ]
    }
   ],
   "source": [
    "data_LO = gen_norm_data(terms_LO, LOStrategy())\n",
    "data_LI = gen_norm_data(terms_LO, LIStrategy())"
   ],
   "metadata": {
    "collapsed": false,
    "ExecuteTime": {
     "end_time": "2023-07-12T16:13:23.788320916Z",
     "start_time": "2023-07-12T16:00:36.206696493Z"
    }
   }
  },
  {
   "cell_type": "code",
   "execution_count": 5,
   "outputs": [],
   "source": [
    "for inx, norm_data in enumerate(data_LO):\n",
    "    if norm_data:\n",
    "        norm_data_ = pd.DataFrame(norm_data)\n",
    "        norm_data_.to_csv(f\"./collected_data/original_data/data_LO_t{inx}.csv\")\n",
    "\n",
    "for inx, norm_data in enumerate(data_LI):\n",
    "    if norm_data:\n",
    "        norm_data_ = pd.DataFrame(norm_data)\n",
    "        norm_data_.to_csv(f\"./collected_data/original_data/data_LI_t{inx}.csv\")"
   ],
   "metadata": {
    "collapsed": false,
    "ExecuteTime": {
     "end_time": "2023-07-12T16:13:24.093310662Z",
     "start_time": "2023-07-12T16:13:23.791810609Z"
    }
   }
  }
 ],
 "metadata": {
  "kernelspec": {
   "display_name": "Python 3",
   "language": "python",
   "name": "python3"
  },
  "language_info": {
   "codemirror_mode": {
    "name": "ipython",
    "version": 2
   },
   "file_extension": ".py",
   "mimetype": "text/x-python",
   "name": "python",
   "nbconvert_exporter": "python",
   "pygments_lexer": "ipython2",
   "version": "2.7.6"
  }
 },
 "nbformat": 4,
 "nbformat_minor": 0
}
