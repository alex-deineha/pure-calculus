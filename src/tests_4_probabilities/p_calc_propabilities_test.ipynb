{
 "cells": [
  {
   "cell_type": "markdown",
   "source": [
    "# Testing with different probabilities in the loop\n",
    "for this let's take 100 terms and run it via mixed strategy of LO & RI"
   ],
   "metadata": {
    "collapsed": false
   }
  },
  {
   "cell_type": "code",
   "execution_count": 1,
   "outputs": [],
   "source": [
    "import random\n",
    "import numpy as np\n",
    "import pandas as pd\n",
    "import sys\n",
    "import matplotlib.pyplot as plt\n",
    "from fitter import Fitter, get_common_distributions\n",
    "from deap import tools, base, creator\n",
    "import seaborn as sns\n",
    "\n",
    "sys.path.append(\"../\")\n",
    "from calculus.term import *\n",
    "from calculus.strategy import *\n",
    "from calculus.generation import *\n",
    "from calculus.generation_threading import *\n",
    "\n",
    "from calculus_utils.drawing import *\n",
    "from calculus_utils.algorithms import *\n",
    "from calculus_utils.outliers_cleaning import clear_arr\n",
    "\n",
    "from vd_env.lambda_env import LambdaEnv\n",
    "from vd_env.run_greedy_policy import run_greedy_policy\n",
    "from vd_env.run_e_greedy_policy import run_e_greedy_policy"
   ],
   "metadata": {
    "collapsed": false
   }
  },
  {
   "cell_type": "code",
   "execution_count": 2,
   "outputs": [
    {
     "name": "stderr",
     "output_type": "stream",
     "text": [
      "100%|██████████| 122/122 [05:10<00:00,  2.54s/it]\n",
      "100%|██████████| 122/122 [00:40<00:00,  2.99it/s]\n"
     ]
    }
   ],
   "source": [
    "RANDOM_AVERAGE_COUNT = 20\n",
    "\n",
    "terms, stepsLO = gen_filtered_lambda_terms_v2(count_terms=120)\n",
    "stepsRI = [term.normalize(RightmostInnermostStrategy())[1] for term in tqdm(terms)]\n",
    "stepsRand = [\n",
    "    sum(term.normalize(RandomStrategy())[1] for i in range(RANDOM_AVERAGE_COUNT))\n",
    "    / RANDOM_AVERAGE_COUNT\n",
    "    for term in tqdm(terms)\n",
    "]"
   ],
   "metadata": {
    "collapsed": false
   }
  },
  {
   "cell_type": "code",
   "execution_count": 3,
   "outputs": [
    {
     "name": "stdout",
     "output_type": "stream",
     "text": [
      "[61, 82, 83, 94, 109, 118]\n",
      "[61, 64, 82, 83, 95, 109, 118]\n"
     ]
    }
   ],
   "source": [
    "inf_inxs_RI = []\n",
    "inf_inxs_rand = []\n",
    "for i in range(len(stepsRI)):\n",
    "    if stepsRI[i] == np.inf:\n",
    "        inf_inxs_RI.append(i)\n",
    "    if stepsRand[i] == np.inf:\n",
    "        inf_inxs_rand.append(i)\n",
    "\n",
    "print(inf_inxs_RI)\n",
    "print(inf_inxs_rand)"
   ],
   "metadata": {
    "collapsed": false
   }
  },
  {
   "cell_type": "code",
   "execution_count": 9,
   "outputs": [],
   "source": [
    "terms_saved = terms[::]"
   ],
   "metadata": {
    "collapsed": false
   }
  },
  {
   "cell_type": "code",
   "execution_count": 10,
   "outputs": [],
   "source": [
    "for inx in inf_inxs_RI[::-1]:\n",
    "    del terms[inx]"
   ],
   "metadata": {
    "collapsed": false
   }
  },
  {
   "cell_type": "code",
   "execution_count": 16,
   "outputs": [
    {
     "name": "stderr",
     "output_type": "stream",
     "text": [
      "100%|██████████| 116/116 [00:22<00:00,  5.15it/s]\n"
     ]
    }
   ],
   "source": [
    "stepsRand = [\n",
    "    sum(term.normalize(RandomStrategy())[1] for i in range(RANDOM_AVERAGE_COUNT))\n",
    "    / RANDOM_AVERAGE_COUNT\n",
    "    for term in tqdm(terms)\n",
    "]"
   ],
   "metadata": {
    "collapsed": false
   }
  },
  {
   "cell_type": "code",
   "execution_count": 13,
   "outputs": [
    {
     "name": "stderr",
     "output_type": "stream",
     "text": [
      "100%|██████████| 116/116 [00:04<00:00, 28.98it/s]\n"
     ]
    }
   ],
   "source": [
    "stepsLO = [term.normalize(LeftmostOutermostStrategy())[1] for term in tqdm(terms)]"
   ],
   "metadata": {
    "collapsed": false
   }
  },
  {
   "cell_type": "code",
   "execution_count": 14,
   "outputs": [
    {
     "name": "stderr",
     "output_type": "stream",
     "text": [
      "100%|██████████| 116/116 [00:01<00:00, 67.35it/s]\n"
     ]
    }
   ],
   "source": [
    "stepsRI = [term.normalize(RightmostInnermostStrategy())[1] for term in tqdm(terms)]"
   ],
   "metadata": {
    "collapsed": false
   }
  },
  {
   "cell_type": "code",
   "execution_count": 17,
   "outputs": [
    {
     "name": "stdout",
     "output_type": "stream",
     "text": [
      "[]\n",
      "[63, 91, 106]\n"
     ]
    }
   ],
   "source": [
    "inf_inxs_RI = []\n",
    "inf_inxs_rand = []\n",
    "for i in range(len(stepsRI)):\n",
    "    if stepsRI[i] == np.inf:\n",
    "        inf_inxs_RI.append(i)\n",
    "    if stepsRand[i] == np.inf:\n",
    "        inf_inxs_rand.append(i)\n",
    "\n",
    "print(inf_inxs_RI)\n",
    "print(inf_inxs_rand)"
   ],
   "metadata": {
    "collapsed": false
   }
  },
  {
   "cell_type": "code",
   "execution_count": 18,
   "outputs": [],
   "source": [
    "for inx in inf_inxs_rand[::-1]:\n",
    "    del terms[inx]"
   ],
   "metadata": {
    "collapsed": false
   }
  },
  {
   "cell_type": "code",
   "execution_count": 19,
   "outputs": [
    {
     "name": "stdout",
     "output_type": "stream",
     "text": [
      "113\n"
     ]
    }
   ],
   "source": [
    "print(len(terms))"
   ],
   "metadata": {
    "collapsed": false
   }
  },
  {
   "cell_type": "code",
   "execution_count": 20,
   "outputs": [
    {
     "name": "stderr",
     "output_type": "stream",
     "text": [
      "100%|██████████| 113/113 [00:03<00:00, 35.31it/s]\n"
     ]
    }
   ],
   "source": [
    "stepsRand = [\n",
    "    sum(term.normalize(RandomStrategy())[1] for i in range(RANDOM_AVERAGE_COUNT))\n",
    "    / RANDOM_AVERAGE_COUNT\n",
    "    for term in tqdm(terms)\n",
    "]"
   ],
   "metadata": {
    "collapsed": false
   }
  },
  {
   "cell_type": "code",
   "execution_count": 21,
   "outputs": [
    {
     "name": "stderr",
     "output_type": "stream",
     "text": [
      "100%|██████████| 113/113 [00:00<00:00, 941.45it/s]\n"
     ]
    }
   ],
   "source": [
    "stepsLO = [term.normalize(LeftmostOutermostStrategy())[1] for term in tqdm(terms)]"
   ],
   "metadata": {
    "collapsed": false
   }
  },
  {
   "cell_type": "code",
   "execution_count": 22,
   "outputs": [
    {
     "name": "stderr",
     "output_type": "stream",
     "text": [
      "100%|██████████| 113/113 [00:00<00:00, 697.38it/s]\n"
     ]
    }
   ],
   "source": [
    "stepsRI = [term.normalize(RightmostInnermostStrategy())[1] for term in tqdm(terms)]"
   ],
   "metadata": {
    "collapsed": false
   }
  },
  {
   "cell_type": "code",
   "execution_count": 23,
   "outputs": [
    {
     "name": "stdout",
     "output_type": "stream",
     "text": [
      "[]\n",
      "[]\n"
     ]
    }
   ],
   "source": [
    "inf_inxs_RI = []\n",
    "inf_inxs_rand = []\n",
    "for i in range(len(stepsRI)):\n",
    "    if stepsRI[i] == np.inf:\n",
    "        inf_inxs_RI.append(i)\n",
    "    if stepsRand[i] == np.inf:\n",
    "        inf_inxs_rand.append(i)\n",
    "\n",
    "print(inf_inxs_RI)\n",
    "print(inf_inxs_rand)"
   ],
   "metadata": {
    "collapsed": false
   }
  },
  {
   "cell_type": "code",
   "execution_count": 26,
   "outputs": [
    {
     "name": "stderr",
     "output_type": "stream",
     "text": [
      "it 0 / 20: 100%|██████████| 113/113 [00:02<00:00, 38.98it/s]\n",
      "it 1 / 20: 100%|██████████| 113/113 [00:03<00:00, 36.57it/s]\n",
      "it 2 / 20: 100%|██████████| 113/113 [00:03<00:00, 35.45it/s]\n",
      "it 3 / 20: 100%|██████████| 113/113 [00:03<00:00, 34.13it/s]\n",
      "it 4 / 20: 100%|██████████| 113/113 [00:03<00:00, 33.49it/s]\n",
      "it 5 / 20: 100%|██████████| 113/113 [00:03<00:00, 35.74it/s]\n",
      "it 6 / 20: 100%|██████████| 113/113 [00:03<00:00, 35.52it/s]\n",
      "it 7 / 20: 100%|██████████| 113/113 [00:03<00:00, 34.88it/s]\n",
      "it 8 / 20: 100%|██████████| 113/113 [00:03<00:00, 34.92it/s]\n",
      "it 9 / 20: 100%|██████████| 113/113 [00:03<00:00, 36.88it/s]\n",
      "it 10 / 20: 100%|██████████| 113/113 [00:02<00:00, 38.03it/s]\n",
      "it 11 / 20: 100%|██████████| 113/113 [00:02<00:00, 38.85it/s]\n",
      "it 12 / 20: 100%|██████████| 113/113 [00:03<00:00, 36.67it/s]\n",
      "it 13 / 20: 100%|██████████| 113/113 [00:02<00:00, 40.37it/s]\n",
      "it 14 / 20: 100%|██████████| 113/113 [00:02<00:00, 41.84it/s]\n",
      "it 15 / 20: 100%|██████████| 113/113 [00:02<00:00, 41.53it/s]\n",
      "it 16 / 20: 100%|██████████| 113/113 [00:02<00:00, 42.58it/s]\n",
      "it 17 / 20: 100%|██████████| 113/113 [00:02<00:00, 42.38it/s]\n",
      "it 18 / 20: 100%|██████████| 113/113 [00:02<00:00, 45.23it/s]\n",
      "it 19 / 20: 100%|██████████| 113/113 [00:02<00:00, 46.67it/s]\n",
      "it 20 / 20: 100%|██████████| 113/113 [00:02<00:00, 47.95it/s]\n"
     ]
    }
   ],
   "source": [
    "steps_mixed_all = []\n",
    "expected_values = []\n",
    "values = list(range(0, 101, 5))\n",
    "iters = len(values) - 1\n",
    "\n",
    "for inx, p_lo in enumerate(values):\n",
    "    p = (p_lo / 100, 1 - p_lo / 100)\n",
    "    steps = [\n",
    "        sum(\n",
    "            [\n",
    "                term.normalize(\n",
    "                    MixedStrategy(\n",
    "                        [LeftmostOutermostStrategy(), RightmostInnermostStrategy()], p\n",
    "                    )\n",
    "                )[1]\n",
    "                for i in range(RANDOM_AVERAGE_COUNT)\n",
    "            ]\n",
    "        )\n",
    "        / RANDOM_AVERAGE_COUNT\n",
    "        for term in tqdm(terms, desc=f\"it {inx} / {iters}\")\n",
    "    ]\n",
    "    steps_mixed_all.append(steps)"
   ],
   "metadata": {
    "collapsed": false
   }
  },
  {
   "cell_type": "code",
   "execution_count": 27,
   "outputs": [
    {
     "name": "stderr",
     "output_type": "stream",
     "text": [
      "Fitting 9 distributions: 100%|██████████| 9/9 [00:00<00:00, 25.13it/s]\n",
      "Fitting 9 distributions: 100%|██████████| 9/9 [00:00<00:00, 26.07it/s]\n",
      "Fitting 9 distributions: 100%|██████████| 9/9 [00:00<00:00, 28.38it/s]\n",
      "Fitting 9 distributions: 100%|██████████| 9/9 [00:00<00:00, 27.02it/s]\n",
      "Fitting 9 distributions: 100%|██████████| 9/9 [00:00<00:00, 27.41it/s]\n",
      "Fitting 9 distributions: 100%|██████████| 9/9 [00:00<00:00, 28.58it/s]\n",
      "Fitting 9 distributions: 100%|██████████| 9/9 [00:00<00:00, 28.58it/s]\n",
      "Fitting 9 distributions: 100%|██████████| 9/9 [00:00<00:00, 25.78it/s]\n",
      "Fitting 9 distributions: 100%|██████████| 9/9 [00:00<00:00, 28.03it/s]\n",
      "Fitting 9 distributions: 100%|██████████| 9/9 [00:00<00:00, 28.93it/s]\n",
      "Fitting 9 distributions: 100%|██████████| 9/9 [00:00<00:00, 29.21it/s]\n",
      "Fitting 9 distributions: 100%|██████████| 9/9 [00:00<00:00, 28.75it/s]\n",
      "Fitting 9 distributions: 100%|██████████| 9/9 [00:00<00:00, 27.69it/s]\n",
      "Fitting 9 distributions: 100%|██████████| 9/9 [00:00<00:00, 28.75it/s]\n",
      "Fitting 9 distributions: 100%|██████████| 9/9 [00:00<00:00, 28.93it/s]\n",
      "Fitting 9 distributions: 100%|██████████| 9/9 [00:00<00:00, 27.02it/s]\n",
      "Fitting 9 distributions: 100%|██████████| 9/9 [00:00<00:00, 26.31it/s]\n",
      "Fitting 9 distributions: 100%|██████████| 9/9 [00:00<00:00, 26.16it/s]\n",
      "Fitting 9 distributions: 100%|██████████| 9/9 [00:00<00:00, 26.46it/s]\n",
      "Fitting 9 distributions: 100%|██████████| 9/9 [00:00<00:00, 24.44it/s]\n",
      "Fitting 9 distributions: 100%|██████████| 9/9 [00:00<00:00, 23.87it/s]\n"
     ]
    },
    {
     "data": {
      "text/plain": "<Figure size 640x480 with 1 Axes>",
      "image/png": "[encoded data removed]"
     },
     "metadata": {},
     "output_type": "display_data"
    }
   ],
   "source": [
    "for steps in steps_mixed_all:\n",
    "    steps = list(filter(lambda x: x != float(\"inf\"), steps))\n",
    "    steps = list(filter(lambda x: x != 0, steps))\n",
    "\n",
    "    distributions = get_common_distributions()\n",
    "    distributions.remove(\"expon\")\n",
    "    f_ln = Fitter([np.log(step) for step in steps], distributions=distributions)\n",
    "    f_ln.fit()\n",
    "\n",
    "    mu, sigma = f_ln.fitted_param[\"norm\"]\n",
    "    result = np.e ** (mu + (sigma**2) / 2)\n",
    "    expected_values.append(result)\n",
    "\n",
    "plt.plot(values, expected_values)\n",
    "plt.xlabel(\"p_LO\")\n",
    "plt.ylabel(\"Expected number of steps\")\n",
    "plt.show()"
   ],
   "metadata": {
    "collapsed": false
   }
  }
 ],
 "metadata": {
  "kernelspec": {
   "display_name": "Python 3",
   "language": "python",
   "name": "python3"
  },
  "language_info": {
   "codemirror_mode": {
    "name": "ipython",
    "version": 2
   },
   "file_extension": ".py",
   "mimetype": "text/x-python",
   "name": "python",
   "nbconvert_exporter": "python",
   "pygments_lexer": "ipython2",
   "version": "2.7.6"
  }
 },
 "nbformat": 4,
 "nbformat_minor": 0
}
