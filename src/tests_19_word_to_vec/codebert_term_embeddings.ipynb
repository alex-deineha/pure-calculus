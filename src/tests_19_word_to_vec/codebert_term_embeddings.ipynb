{
 "cells": [
  {
   "cell_type": "markdown",
   "source": [
    "# Import dependencies"
   ],
   "metadata": {
    "collapsed": false
   },
   "id": "d4f983948fd67528"
  },
  {
   "cell_type": "code",
   "execution_count": 1,
   "outputs": [
    {
     "name": "stderr",
     "output_type": "stream",
     "text": [
      "C:\\Users\\voldo\\AppData\\Local\\Programs\\Python\\Python39\\lib\\site-packages\\scipy\\__init__.py:177: UserWarning: A NumPy version >=1.18.5 and <1.26.0 is required for this version of SciPy (detected version 1.26.2\n",
      "  warnings.warn(f\"A NumPy version >={np_minversion} and <{np_maxversion}\"\n",
      "C:\\Users\\voldo\\AppData\\Local\\Programs\\Python\\Python39\\lib\\site-packages\\tensorflow_addons\\utils\\tfa_eol_msg.py:23: UserWarning: \n",
      "\n",
      "TensorFlow Addons (TFA) has ended development and introduction of new features.\n",
      "TFA has entered a minimal maintenance and release mode until a planned end of life in May 2024.\n",
      "Please modify downstream libraries to take dependencies from other repositories in our TensorFlow community (e.g. Keras, Keras-CV, and Keras-NLP). \n",
      "\n",
      "For more information see: https://github.com/tensorflow/addons/issues/2807 \n",
      "\n",
      "  warnings.warn(\n",
      "C:\\Users\\voldo\\AppData\\Local\\Programs\\Python\\Python39\\lib\\site-packages\\tensorflow_addons\\utils\\ensure_tf_install.py:53: UserWarning: Tensorflow Addons supports using Python ops for all Tensorflow versions above or equal to 2.12.0 and strictly below 2.15.0 (nightly versions are not supported). \n",
      " The versions of TensorFlow you are currently using is 2.10.1 and is not supported. \n",
      "Some things might work, some things might not.\n",
      "If you were to encounter a bug, do not file an issue.\n",
      "If you want to make sure you're using a tested and supported configuration, either change the TensorFlow version or the TensorFlow Addons's version. \n",
      "You can find the compatibility matrix in TensorFlow Addon's readme:\n",
      "https://github.com/tensorflow/addons\n",
      "  warnings.warn(\n"
     ]
    }
   ],
   "source": [
    "import numpy as np\n",
    "import pandas as pd\n",
    "\n",
    "from tqdm import tqdm\n",
    "\n",
    "import tensorflow as tf\n",
    "import tensorflow_addons as tfa\n",
    "\n",
    "from transformers import BertConfig, BertModel, RobertaModel\n",
    "from transformers import RobertaTokenizer, RobertaConfig, TFRobertaModel"
   ],
   "metadata": {
    "collapsed": false,
    "ExecuteTime": {
     "end_time": "2023-12-15T14:08:49.394223400Z",
     "start_time": "2023-12-15T14:08:41.050927100Z"
    }
   },
   "id": "4b89793296d9def9"
  },
  {
   "cell_type": "markdown",
   "source": [
    "# Load Model"
   ],
   "metadata": {
    "collapsed": false
   },
   "id": "f008986cb83dee43"
  },
  {
   "cell_type": "code",
   "execution_count": 24,
   "outputs": [],
   "source": [
    "# load tokenizer\n",
    "tokenizer = RobertaTokenizer.from_pretrained(\"./codebert-base\")"
   ],
   "metadata": {
    "collapsed": false,
    "ExecuteTime": {
     "end_time": "2023-12-15T14:33:44.322919600Z",
     "start_time": "2023-12-15T14:33:44.236866100Z"
    }
   },
   "id": "a0e7919ce794b32f"
  },
  {
   "cell_type": "code",
   "execution_count": 8,
   "outputs": [
    {
     "name": "stderr",
     "output_type": "stream",
     "text": [
      "All model checkpoint layers were used when initializing TFRobertaModel.\n",
      "\n",
      "All the layers of TFRobertaModel were initialized from the model checkpoint at ./codebert-base/.\n",
      "If your task is similar to the task the model of the checkpoint was trained on, you can already use TFRobertaModel for predictions without further training.\n"
     ]
    }
   ],
   "source": [
    "# load model\n",
    "model = TFRobertaModel.from_pretrained(\"./codebert-base/\")"
   ],
   "metadata": {
    "collapsed": false,
    "ExecuteTime": {
     "end_time": "2023-12-15T14:13:07.267160900Z",
     "start_time": "2023-12-15T14:13:05.265708700Z"
    }
   },
   "id": "dbffad02e788f876"
  },
  {
   "cell_type": "code",
   "execution_count": 33,
   "outputs": [
    {
     "data": {
      "text/plain": "<tf.Tensor: shape=(1, 30, 768), dtype=float32, numpy=\narray([[[-0.06790983,  0.16003864, -0.08113418, ..., -0.16317725,\n         -0.47541702,  0.40393323],\n        [-0.49890435,  0.0894645 , -0.03886295, ...,  0.36657208,\n         -0.54184794,  0.2876726 ],\n        [-0.37728477, -0.04498858,  0.25325608, ..., -0.7006783 ,\n         -0.53978413,  0.34478602],\n        ...,\n        [-0.42253712, -0.1807437 ,  0.18520138, ..., -0.792792  ,\n         -0.53018826,  0.37685454],\n        [-0.28178942, -0.02010319, -0.01168358, ..., -0.11536087,\n         -0.4393902 ,  0.8512744 ],\n        [-0.06779005,  0.16013034, -0.08106291, ..., -0.16288999,\n         -0.47560245,  0.4040114 ]]], dtype=float32)>"
     },
     "execution_count": 33,
     "metadata": {},
     "output_type": "execute_result"
    }
   ],
   "source": [
    "le_tokens = tokenizer.tokenize(\"(λx.(((λy.y) (λz.(λa.(λb.a)))) (λc.c)))\")\n",
    "tokens = [tokenizer.cls_token] + le_tokens + [tokenizer.eos_token]\n",
    "tokens_ids = tokenizer.convert_tokens_to_ids(tokens)\n",
    "\n",
    "tokens_ids = tf.constant(tokens_ids, dtype=tf.int32)\n",
    "tokens_ids = tf.expand_dims(tokens_ids, axis=0)\n",
    "\n",
    "context_embeddings = model(tokens_ids)\n",
    "\n",
    "context_embeddings[0]"
   ],
   "metadata": {
    "collapsed": false,
    "ExecuteTime": {
     "end_time": "2023-12-15T14:37:54.085215100Z",
     "start_time": "2023-12-15T14:37:53.885658500Z"
    }
   },
   "id": "d2bf3b9c11dec83f"
  },
  {
   "cell_type": "code",
   "execution_count": 41,
   "outputs": [
    {
     "data": {
      "text/plain": "array([[-0.06790983,  0.16003864, -0.08113418, ..., -0.16317725,\n        -0.47541702,  0.40393323],\n       [-0.49890435,  0.0894645 , -0.03886295, ...,  0.36657208,\n        -0.54184794,  0.2876726 ],\n       [-0.37728477, -0.04498858,  0.25325608, ..., -0.7006783 ,\n        -0.53978413,  0.34478602],\n       ...,\n       [-0.42253712, -0.1807437 ,  0.18520138, ..., -0.792792  ,\n        -0.53018826,  0.37685454],\n       [-0.28178942, -0.02010319, -0.01168358, ..., -0.11536087,\n        -0.4393902 ,  0.8512744 ],\n       [-0.06779005,  0.16013034, -0.08106291, ..., -0.16288999,\n        -0.47560245,  0.4040114 ]], dtype=float32)"
     },
     "execution_count": 41,
     "metadata": {},
     "output_type": "execute_result"
    }
   ],
   "source": [
    "np.array(context_embeddings[0])[0]"
   ],
   "metadata": {
    "collapsed": false,
    "ExecuteTime": {
     "end_time": "2023-12-16T14:02:42.267793400Z",
     "start_time": "2023-12-16T14:02:42.253548300Z"
    }
   },
   "id": "743b8cc7038508c8"
  },
  {
   "cell_type": "code",
   "execution_count": 42,
   "outputs": [],
   "source": [
    "data_pd = pd.DataFrame(np.array(context_embeddings[0])[0])"
   ],
   "metadata": {
    "collapsed": false,
    "ExecuteTime": {
     "end_time": "2023-12-16T14:02:45.994551100Z",
     "start_time": "2023-12-16T14:02:45.979442100Z"
    }
   },
   "id": "f681aa2520bca6c4"
  },
  {
   "cell_type": "code",
   "execution_count": 43,
   "outputs": [
    {
     "data": {
      "text/plain": "        0         1         2         3         4         5         6    \\\n0 -0.067910  0.160039 -0.081134  0.205889  0.178483 -0.302993 -0.000539   \n1 -0.498904  0.089465 -0.038863  0.471839  0.549624 -0.020400 -0.081514   \n2 -0.377285 -0.044989  0.253256  0.346877 -0.179055 -0.113545 -0.208201   \n3  0.106510  0.293196 -0.173621  0.339994  0.551803  0.320187  0.032758   \n4 -0.173781 -0.160438 -0.471957  0.479068  0.807183 -0.481921  0.157651   \n\n        7         8         9    ...       758       759       760       761  \\\n0  0.058517  0.148410 -0.055308  ...  0.189717 -0.148141 -0.360750  0.850089   \n1  0.001333  0.167236  0.424530  ...  0.079803 -0.224443 -0.456260  0.687729   \n2  0.444694 -0.172227  0.245694  ...  0.217623  0.176998 -0.444811  0.802039   \n3 -0.033515  0.124311  0.267653  ...  0.138290 -0.078387 -0.224901  0.692784   \n4 -0.364095  0.079632  0.050947  ...  0.015211 -0.149803 -0.965889  0.999199   \n\n        762       763       764       765       766       767  \n0 -0.254381  0.081455  0.470585 -0.163177 -0.475417  0.403933  \n1 -0.450908  0.326975  0.926596  0.366572 -0.541848  0.287673  \n2 -0.721672  0.290540  0.887376 -0.700678 -0.539784  0.344786  \n3 -0.549351  0.138192  0.662575  0.655478 -0.375942  0.214235  \n4 -0.666296  0.372833  0.841991  0.150965 -0.766177  0.294903  \n\n[5 rows x 768 columns]",
      "text/html": "<div>\n<style scoped>\n    .dataframe tbody tr th:only-of-type {\n        vertical-align: middle;\n    }\n\n    .dataframe tbody tr th {\n        vertical-align: top;\n    }\n\n    .dataframe thead th {\n        text-align: right;\n    }\n</style>\n<table border=\"1\" class=\"dataframe\">\n  <thead>\n    <tr style=\"text-align: right;\">\n      <th></th>\n      <th>0</th>\n      <th>1</th>\n      <th>2</th>\n      <th>3</th>\n      <th>4</th>\n      <th>5</th>\n      <th>6</th>\n      <th>7</th>\n      <th>8</th>\n      <th>9</th>\n      <th>...</th>\n      <th>758</th>\n      <th>759</th>\n      <th>760</th>\n      <th>761</th>\n      <th>762</th>\n      <th>763</th>\n      <th>764</th>\n      <th>765</th>\n      <th>766</th>\n      <th>767</th>\n    </tr>\n  </thead>\n  <tbody>\n    <tr>\n      <th>0</th>\n      <td>-0.067910</td>\n      <td>0.160039</td>\n      <td>-0.081134</td>\n      <td>0.205889</td>\n      <td>0.178483</td>\n      <td>-0.302993</td>\n      <td>-0.000539</td>\n      <td>0.058517</td>\n      <td>0.148410</td>\n      <td>-0.055308</td>\n      <td>...</td>\n      <td>0.189717</td>\n      <td>-0.148141</td>\n      <td>-0.360750</td>\n      <td>0.850089</td>\n      <td>-0.254381</td>\n      <td>0.081455</td>\n      <td>0.470585</td>\n      <td>-0.163177</td>\n      <td>-0.475417</td>\n      <td>0.403933</td>\n    </tr>\n    <tr>\n      <th>1</th>\n      <td>-0.498904</td>\n      <td>0.089465</td>\n      <td>-0.038863</td>\n      <td>0.471839</td>\n      <td>0.549624</td>\n      <td>-0.020400</td>\n      <td>-0.081514</td>\n      <td>0.001333</td>\n      <td>0.167236</td>\n      <td>0.424530</td>\n      <td>...</td>\n      <td>0.079803</td>\n      <td>-0.224443</td>\n      <td>-0.456260</td>\n      <td>0.687729</td>\n      <td>-0.450908</td>\n      <td>0.326975</td>\n      <td>0.926596</td>\n      <td>0.366572</td>\n      <td>-0.541848</td>\n      <td>0.287673</td>\n    </tr>\n    <tr>\n      <th>2</th>\n      <td>-0.377285</td>\n      <td>-0.044989</td>\n      <td>0.253256</td>\n      <td>0.346877</td>\n      <td>-0.179055</td>\n      <td>-0.113545</td>\n      <td>-0.208201</td>\n      <td>0.444694</td>\n      <td>-0.172227</td>\n      <td>0.245694</td>\n      <td>...</td>\n      <td>0.217623</td>\n      <td>0.176998</td>\n      <td>-0.444811</td>\n      <td>0.802039</td>\n      <td>-0.721672</td>\n      <td>0.290540</td>\n      <td>0.887376</td>\n      <td>-0.700678</td>\n      <td>-0.539784</td>\n      <td>0.344786</td>\n    </tr>\n    <tr>\n      <th>3</th>\n      <td>0.106510</td>\n      <td>0.293196</td>\n      <td>-0.173621</td>\n      <td>0.339994</td>\n      <td>0.551803</td>\n      <td>0.320187</td>\n      <td>0.032758</td>\n      <td>-0.033515</td>\n      <td>0.124311</td>\n      <td>0.267653</td>\n      <td>...</td>\n      <td>0.138290</td>\n      <td>-0.078387</td>\n      <td>-0.224901</td>\n      <td>0.692784</td>\n      <td>-0.549351</td>\n      <td>0.138192</td>\n      <td>0.662575</td>\n      <td>0.655478</td>\n      <td>-0.375942</td>\n      <td>0.214235</td>\n    </tr>\n    <tr>\n      <th>4</th>\n      <td>-0.173781</td>\n      <td>-0.160438</td>\n      <td>-0.471957</td>\n      <td>0.479068</td>\n      <td>0.807183</td>\n      <td>-0.481921</td>\n      <td>0.157651</td>\n      <td>-0.364095</td>\n      <td>0.079632</td>\n      <td>0.050947</td>\n      <td>...</td>\n      <td>0.015211</td>\n      <td>-0.149803</td>\n      <td>-0.965889</td>\n      <td>0.999199</td>\n      <td>-0.666296</td>\n      <td>0.372833</td>\n      <td>0.841991</td>\n      <td>0.150965</td>\n      <td>-0.766177</td>\n      <td>0.294903</td>\n    </tr>\n  </tbody>\n</table>\n<p>5 rows × 768 columns</p>\n</div>"
     },
     "execution_count": 43,
     "metadata": {},
     "output_type": "execute_result"
    }
   ],
   "source": [
    "data_pd.head()"
   ],
   "metadata": {
    "collapsed": false,
    "ExecuteTime": {
     "end_time": "2023-12-16T14:02:52.141428Z",
     "start_time": "2023-12-16T14:02:52.137240300Z"
    }
   },
   "id": "fedcd81d7f5bcec6"
  },
  {
   "cell_type": "code",
   "execution_count": 46,
   "outputs": [],
   "source": [
    "data_pd.to_csv(\"term_embeddings/embeddings_4k/test.csv\")"
   ],
   "metadata": {
    "collapsed": false,
    "ExecuteTime": {
     "end_time": "2023-12-16T14:07:22.714361900Z",
     "start_time": "2023-12-16T14:07:22.681642800Z"
    }
   },
   "id": "8f6a07c12be9ca38"
  },
  {
   "cell_type": "code",
   "execution_count": 36,
   "outputs": [
    {
     "name": "stdout",
     "output_type": "stream",
     "text": [
      "Model: \"tf_roberta_model_1\"\n",
      "_________________________________________________________________\n",
      " Layer (type)                Output Shape              Param #   \n",
      "=================================================================\n",
      " roberta (TFRobertaMainLayer  multiple                 124645632 \n",
      " )                                                               \n",
      "                                                                 \n",
      "=================================================================\n",
      "Total params: 124,645,632\n",
      "Trainable params: 124,645,632\n",
      "Non-trainable params: 0\n",
      "_________________________________________________________________\n"
     ]
    }
   ],
   "source": [
    "model.summary()"
   ],
   "metadata": {
    "collapsed": false,
    "ExecuteTime": {
     "end_time": "2023-12-15T15:01:23.222877400Z",
     "start_time": "2023-12-15T15:01:23.161677400Z"
    }
   },
   "id": "dc8b50bd1f67553b"
  },
  {
   "cell_type": "markdown",
   "source": [
    "# Load Data"
   ],
   "metadata": {
    "collapsed": false
   },
   "id": "d9fd02cf3f59f223"
  },
  {
   "cell_type": "code",
   "execution_count": 45,
   "outputs": [
    {
     "name": "stdout",
     "output_type": "stream",
     "text": [
      "Count all terms: 4282\n",
      "max RI steps count: 1000\n",
      "max LO steps count: 219\n"
     ]
    }
   ],
   "source": [
    "# prepare 4k terms:\n",
    "all_data = pd.read_csv(\"../tests_17_ann_and_terms/article_v2_2_term_var_to_best_strategy/prepare_data/data_steps/steps_vars_term_str.csv\", delimiter=',')\n",
    "\n",
    "# leave only unique terms\n",
    "print(f\"Count all terms: {len(all_data)}\")\n",
    "print(f\"max RI steps count: {max(all_data['RI_steps_num'])}\")\n",
    "print(f\"max LO steps count: {max(all_data['LO_steps_num'])}\")\n",
    "\n",
    "terms_data = all_data[\"vars_terms\"].tolist()"
   ],
   "metadata": {
    "collapsed": false,
    "ExecuteTime": {
     "end_time": "2023-12-16T14:05:17.963293600Z",
     "start_time": "2023-12-16T14:05:17.905499600Z"
    }
   },
   "id": "e640f1cdf3c0fc0f"
  },
  {
   "cell_type": "code",
   "execution_count": 47,
   "outputs": [
    {
     "name": "stderr",
     "output_type": "stream",
     "text": [
      "4282it [21:25,  3.33it/s]\n"
     ]
    }
   ],
   "source": [
    "for term_inx, term_str in tqdm(enumerate(terms_data)):\n",
    "    le_tokens = tokenizer.tokenize(term_str)\n",
    "    tokens = [tokenizer.cls_token] + le_tokens + [tokenizer.eos_token]\n",
    "    tokens_ids = tokenizer.convert_tokens_to_ids(tokens)\n",
    "    \n",
    "    tokens_ids = tf.constant(tokens_ids, dtype=tf.int32)\n",
    "    tokens_ids = tf.expand_dims(tokens_ids, axis=0)\n",
    "    \n",
    "    context_embeddings = model(tokens_ids)\n",
    "    data_pd = pd.DataFrame(np.array(context_embeddings[0])[0])\n",
    "    data_pd.to_csv(f\"term_embeddings/embeddings_4k/term_embeddings_{term_inx}.csv\")"
   ],
   "metadata": {
    "collapsed": false,
    "ExecuteTime": {
     "end_time": "2023-12-16T14:30:31.766633900Z",
     "start_time": "2023-12-16T14:09:06.399056200Z"
    }
   },
   "id": "631cd84d4c19a9d8"
  }
 ],
 "metadata": {
  "kernelspec": {
   "display_name": "Python 3",
   "language": "python",
   "name": "python3"
  },
  "language_info": {
   "codemirror_mode": {
    "name": "ipython",
    "version": 2
   },
   "file_extension": ".py",
   "mimetype": "text/x-python",
   "name": "python",
   "nbconvert_exporter": "python",
   "pygments_lexer": "ipython2",
   "version": "2.7.6"
  }
 },
 "nbformat": 4,
 "nbformat_minor": 5
}
