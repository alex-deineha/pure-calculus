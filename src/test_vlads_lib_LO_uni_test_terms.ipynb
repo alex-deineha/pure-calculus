{
 "cells": [
  {
   "cell_type": "code",
   "execution_count": 1,
   "metadata": {
    "collapsed": true
   },
   "outputs": [],
   "source": [
    "import sys\n",
    "import time\n",
    "\n",
    "sys.path.append(\"../\")\n",
    "from calculus.pseudonym import *\n",
    "from calculus.strategy import *"
   ]
  },
  {
   "cell_type": "markdown",
   "source": [
    "# <span style=\"color: #A1F99C\">TEST PROCEDURE</span>"
   ],
   "metadata": {
    "collapsed": false
   }
  },
  {
   "cell_type": "code",
   "execution_count": 2,
   "outputs": [],
   "source": [
    "rs = LeftmostOutermostStrategy()\n",
    "\n",
    "\n",
    "def test_procedure(term, reduction_strategy=rs, print_steps=True,\n",
    "                   steps_lim=60, assert_result=\"\"):\n",
    "    term = term._updateBoundVariables()\n",
    "    n_steps = 0\n",
    "    is_term_normalized = True\n",
    "    if print_steps:\n",
    "        print(f\"{n_steps}: {term}\")\n",
    "    while term.redexes:\n",
    "        term = term._betaConversion(reduction_strategy)\n",
    "        term = term._updateBoundVariables()\n",
    "        n_steps += 1\n",
    "        if print_steps:\n",
    "            print(f\"{n_steps}: {term}\")\n",
    "        if n_steps > steps_lim:\n",
    "            is_term_normalized = False\n",
    "            break\n",
    "\n",
    "    print(f\"\\n\\nreduction steps: {n_steps}\")\n",
    "    print(f\"norm term:       {term}\" if is_term_normalized else f\"NOT norm term: {term}\")"
   ],
   "metadata": {
    "collapsed": false
   }
  },
  {
   "cell_type": "markdown",
   "source": [
    "# <span style=\"color: #A1F99C\">USEFUL TERMS</span>"
   ],
   "metadata": {
    "collapsed": false
   }
  },
  {
   "cell_type": "code",
   "execution_count": 3,
   "outputs": [],
   "source": [
    "def ite_term():\n",
    "    x, y, c = Var(), Var(), Var()\n",
    "    x_, y_, c_ = Atom(x), Atom(y), Atom(c)\n",
    "    return Lambda(c, Lambda(x, Lambda(y, multi_app_term(c_, x_, y_))))\n",
    "\n",
    "\n",
    "def true_term():\n",
    "    x, y = Var(), Var()\n",
    "    x_ = Atom(x)\n",
    "    return Lambda(x, Lambda(y, x_))\n",
    "\n",
    "\n",
    "def num_zero_term():\n",
    "    s, z = Var(), Var()\n",
    "    z_ = Atom(z)\n",
    "    return Lambda(s, Lambda(z, z_))\n",
    "\n",
    "\n",
    "def num_term(n: int):\n",
    "    if n <= 0:\n",
    "        return num_zero_term()\n",
    "    s, z = Var(), Var()\n",
    "    s_, z_ = Atom(s), Atom(z)\n",
    "    core_term = App(s_, z_)\n",
    "    for _ in range(n - 1):\n",
    "        core_term = App(s_, core_term)\n",
    "    return Lambda(s, Lambda(z, core_term))\n",
    "\n",
    "\n",
    "def multi_app_term(term_0: Term, term_1: Term, *terms: Term):\n",
    "    res_app_term = App(term_0, term_1)\n",
    "    for term in terms:\n",
    "        res_app_term = App(res_app_term, term)\n",
    "    return res_app_term\n",
    "\n",
    "\n",
    "def false_term():\n",
    "    x, y = Var(), Var()\n",
    "    y_ = Atom(y)\n",
    "    return Lambda(x, Lambda(y, y_))\n",
    "\n",
    "\n",
    "def pair_term():\n",
    "    x, y, p = Var(), Var(), Var()\n",
    "    x_, y_, p_ = Atom(x), Atom(y), Atom(p)\n",
    "    return Lambda(x, Lambda(y, Lambda(p, multi_app_term(p_, x_, y_))))\n",
    "\n",
    "\n",
    "def first_term():\n",
    "    p = Var()\n",
    "    p_ = Atom(p)\n",
    "    return Lambda(p, App(p_, true_term()))\n",
    "\n",
    "\n",
    "def second_term():\n",
    "    p = Var()\n",
    "    p_ = Atom(p)\n",
    "    return Lambda(p, App(p_, false_term()))\n",
    "\n",
    "\n",
    "def succ_term():\n",
    "    x, y, n = Var(), Var(), Var()\n",
    "    x_, y_, n_ = Atom(x), Atom(y), Atom(n)\n",
    "    return Lambda(n, Lambda(x, Lambda(y, App(x_, multi_app_term(n_, x_, y_)))))\n",
    "\n",
    "\n",
    "def sinc_term():\n",
    "    p = Var()\n",
    "    p_ = Atom(p)\n",
    "    return Lambda(\n",
    "        p,\n",
    "        multi_app_term(\n",
    "            pair_term(),\n",
    "            App(second_term(), p_),\n",
    "            App(succ_term(), App(second_term(), p_)),\n",
    "        ),\n",
    "    )\n",
    "\n",
    "\n",
    "# def pred_term():\n",
    "#     n = Var()\n",
    "#     n_ = Atom(n)\n",
    "#     return Lambda(\n",
    "#         n,\n",
    "#         App(\n",
    "#             first_term(),\n",
    "#             multi_app_term(\n",
    "#                 n_, sinc_term(),\n",
    "#                 multi_app_term(pair_term(), num_term(0), num_term(0))\n",
    "#             ),\n",
    "#         ),\n",
    "#     )\n",
    "\n",
    "\n",
    "# (λn.(λf.(λx.(((n (λg.(λh.(h (g f))))) (λu.x)) (λu.u)))))\n",
    "# (λn.(λf.(λx.(((n (λg.(λh.(h (g f))))) (λu.x)) (λu.u)))))\n",
    "def pred_term():\n",
    "    n, f, x, g, h, u = Var(), Var(), Var(), Var(), Var(), Var()\n",
    "    n_, f_, x_ = Atom(n), Atom(f), Atom(x)\n",
    "    g_, h_, u_ = Atom(g), Atom(h), Atom(u)\n",
    "\n",
    "    return Lambda(n, Lambda(f, Lambda(x, multi_app_term(\n",
    "        n_,\n",
    "        Lambda(g, Lambda(h, App(h_, App(g_, f_)))),\n",
    "        Lambda(u, x_),\n",
    "        Lambda(u, u_)\n",
    "    ))))\n",
    "\n",
    "\n",
    "def plus_term():\n",
    "    n, m = Var(), Var()\n",
    "    n_, m_ = Atom(n), Atom(m)\n",
    "    return Lambda(m, Lambda(n, multi_app_term(n_, succ_term(), m_)))\n",
    "\n",
    "\n",
    "def subtract_term():\n",
    "    n, m = Var(), Var()\n",
    "    n_, m_ = Atom(n), Atom(m)\n",
    "    return Lambda(n, Lambda(m, multi_app_term(m_, pred_term(), n_)))\n",
    "\n",
    "\n",
    "def iszero_term():\n",
    "    x, n = Var(), Var()\n",
    "    n_ = Atom(n)\n",
    "    return Lambda(n, App(App(n_, Lambda(x, false_term())), true_term()))\n",
    "\n",
    "\n",
    "def leq_term():\n",
    "    n, m = Var(), Var()\n",
    "    n_, m_ = Atom(n), Atom(m)\n",
    "    return Lambda(\n",
    "        n, Lambda(m, App(iszero_term(), multi_app_term(subtract_term(), n_, m_)))\n",
    "    )\n",
    "\n",
    "\n",
    "def and_term():\n",
    "    a, b = Var(), Var()\n",
    "    a_, b_ = Atom(a), Atom(b)\n",
    "    return Lambda(a, Lambda(b, multi_app_term(ite_term(), a_, b_, a_)))\n",
    "\n",
    "\n",
    "def eq_term():\n",
    "    n, m = Var(), Var()\n",
    "    n_, m_ = Atom(n), Atom(m)\n",
    "    return Lambda(\n",
    "        n,\n",
    "        Lambda(\n",
    "            m,\n",
    "            multi_app_term(\n",
    "                and_term(),\n",
    "                multi_app_term(leq_term(), n_, m_),\n",
    "                multi_app_term(leq_term(), m_, n_),\n",
    "            ),\n",
    "        ),\n",
    "    )"
   ],
   "metadata": {
    "collapsed": false
   }
  },
  {
   "cell_type": "markdown",
   "source": [
    "# <span style=\"color: #A1F99C\">1.</span>\n",
    "<span style=\"color:#bb91f3\">(λx. (λy.y)) ((λx. (xx)) (λx. (xx)))</span> == <span style=\"color:#f1bd47\">I</span> == <span style=\"color:#f1bd47\">λx. x</span>\n",
    "<span style=\"color:#c9fafa\">This term reduce in one step by LO, RO strategy\n",
    "And reduce in the same terms with other strategy.</span>"
   ],
   "metadata": {
    "collapsed": false
   }
  },
  {
   "cell_type": "code",
   "execution_count": 4,
   "outputs": [
    {
     "name": "stdout",
     "output_type": "stream",
     "text": [
      "0: ((λq.(λw.w)) ((λe.(e e)) (λr.(r r))))\n",
      "1: (λq.q)\n",
      "\n",
      "\n",
      "reduction steps: 1\n",
      "norm term:       (λq.q)\n"
     ]
    }
   ],
   "source": [
    "def term_test_1():\n",
    "    x, y = Var(), Var()\n",
    "    x_, y_ = Atom(x), Atom(y)\n",
    "\n",
    "    return App(\n",
    "             Lambda(x, Lambda(y, y_)),\n",
    "             App(\n",
    "                 Lambda(x, App(x_, x_)),\n",
    "                 Lambda(x, App(x_, x_))\n",
    "             )\n",
    "         )\n",
    "\n",
    "\n",
    "test_procedure(term_test_1())"
   ],
   "metadata": {
    "collapsed": false
   }
  },
  {
   "cell_type": "markdown",
   "source": [
    "# <span style=\"color: #A1F99C\">2.</span>\n",
    "<span style=\"color:#bb91f3\">(ITE TRUE 3 1)</span> == <span style=\"color:#f1bd47>\">3</span> == <span style=\"color:#f1bd47\">λx. λy. (x (x (x y)))</span>"
   ],
   "metadata": {
    "collapsed": false
   }
  },
  {
   "cell_type": "code",
   "execution_count": 5,
   "outputs": [
    {
     "name": "stdout",
     "output_type": "stream",
     "text": [
      "0: ((((λq.(λw.(λe.((q w) e)))) (λr.(λt.r))) (λy.(λu.(y (y (y u)))))) (λi.(λo.(i o))))\n",
      "1: (((λw.(λe.(((λr.(λt.r)) w) e))) (λy.(λu.(y (y (y u)))))) (λi.(λq.(i q))))\n",
      "2: ((λq.(((λw.(λe.w)) (λr.(λt.(r (r (r t)))))) q)) (λy.(λu.(y u))))\n",
      "3: (((λq.(λw.q)) (λe.(λr.(e (e (e r)))))) (λt.(λy.(t y))))\n",
      "4: ((λq.(λw.(λe.(w (w (w e)))))) (λr.(λt.(r t))))\n",
      "5: (λq.(λw.(q (q (q w)))))\n",
      "\n",
      "\n",
      "reduction steps: 5\n",
      "norm term:       (λq.(λw.(q (q (q w)))))\n"
     ]
    }
   ],
   "source": [
    "def term_test_2():\n",
    "    return multi_app_term(ite_term(), true_term(), num_term(3), num_term(1))\n",
    "\n",
    "\n",
    "test_procedure(term_test_2())"
   ],
   "metadata": {
    "collapsed": false
   }
  },
  {
   "cell_type": "markdown",
   "source": [
    "# <span style=\"color: #A1F99C\">3.</span>\n",
    "<span style=\"color:#bb91f3\">(ITE FALSE 0 4)</span> == <span style=\"color:#f1bd47\">4</span> == <span style=\"color:#f1bd47\">λx. λy. (x (x (x (x y))))</span>"
   ],
   "metadata": {
    "collapsed": false
   }
  },
  {
   "cell_type": "code",
   "execution_count": 6,
   "outputs": [
    {
     "name": "stdout",
     "output_type": "stream",
     "text": [
      "0: ((((λi.(λo.(λq.((i o) q)))) (λw.(λe.e))) (λr.(λt.t))) (λy.(λu.(y (y (y (y u)))))))\n",
      "1: (((λq.(λw.(((λe.(λr.r)) q) w))) (λt.(λy.y))) (λu.(λi.(u (u (u (u i)))))))\n",
      "2: ((λq.(((λw.(λe.e)) (λr.(λt.t))) q)) (λy.(λu.(y (y (y (y u)))))))\n",
      "3: (((λq.(λw.w)) (λe.(λr.r))) (λt.(λy.(t (t (t (t y)))))))\n",
      "4: ((λq.q) (λw.(λe.(w (w (w (w e)))))))\n",
      "5: (λw.(λq.(w (w (w (w q))))))\n",
      "\n",
      "\n",
      "reduction steps: 5\n",
      "norm term:       (λw.(λq.(w (w (w (w q))))))\n"
     ]
    }
   ],
   "source": [
    "def term_test_3():\n",
    "    return multi_app_term(ite_term(), false_term(), num_term(0), num_term(4))\n",
    "\n",
    "\n",
    "test_procedure(term_test_3())"
   ],
   "metadata": {
    "collapsed": false
   }
  },
  {
   "cell_type": "markdown",
   "source": [
    "# <span style=\"color: #A1F99C\">4.</span>\n",
    "<span style=\"color:#bb91f3\">(PRED 0)</span> == <span style=\"color:#f1bd47\">0</span> == <span style=\"color:#f1bd47\">λx. λy. y</span>"
   ],
   "metadata": {
    "collapsed": false
   }
  },
  {
   "cell_type": "code",
   "execution_count": 18,
   "outputs": [
    {
     "name": "stdout",
     "output_type": "stream",
     "text": [
      "0: ((λq.(λw.(λe.(((q (λr.(λt.(t (r w))))) (λy.e)) (λu.u))))) (λi.(λo.o)))\n",
      "1: (λq.(λw.((((λe.(λr.r)) (λt.(λy.(y (t q))))) (λu.w)) (λi.i))))\n",
      "2: (λq.(λw.(((λe.e) (λr.w)) (λt.t))))\n",
      "3: (λq.(λw.((λe.w) (λr.r))))\n",
      "4: (λq.(λw.w))\n",
      "\n",
      "\n",
      "reduction steps: 4\n",
      "norm term:       (λq.(λw.w))\n"
     ]
    }
   ],
   "source": [
    "def term_test_4():\n",
    "    return multi_app_term(pred_term(), num_term(0))\n",
    "\n",
    "\n",
    "test_procedure(term_test_4())"
   ],
   "metadata": {
    "collapsed": false
   }
  },
  {
   "cell_type": "markdown",
   "source": [
    "# <span style=\"color: #A1F99C\">5.</span>\n",
    "<span style=\"color:#bb91f3\">(PRED 5)</span> == <span style=\"color:#f1bd47\">4</span> == <span style=\"color:#f1bd47\">λx. λy. (x (x (x (x y))))</span>"
   ],
   "metadata": {
    "collapsed": false
   }
  },
  {
   "cell_type": "code",
   "execution_count": 8,
   "outputs": [
    {
     "name": "stdout",
     "output_type": "stream",
     "text": [
      "0: ((λt.(λy.(λu.(((t (λi.(λo.(o (i y))))) (λq.u)) (λw.w))))) (λe.(λr.(e (e (e (e (e r))))))))\n",
      "1: (λq.(λw.((((λe.(λr.(e (e (e (e (e r))))))) (λt.(λy.(y (t q))))) (λu.w)) (λi.i))))\n",
      "2: (λq.(λw.(((λe.((λr.(λt.(t (r q)))) ((λy.(λu.(u (y q)))) ((λi.(λo.(o (i q)))) ((λp.(λa.(a (p q)))) ((λs.(λd.(d (s q)))) e)))))) (λf.w)) (λg.g))))\n",
      "3: (λp.(λa.(((λs.(λd.(d (s p)))) ((λf.(λq.(q (f p)))) ((λw.(λe.(e (w p)))) ((λr.(λt.(t (r p)))) ((λy.(λu.(u (y p)))) (λi.a)))))) (λo.o))))\n",
      "4: (λq.(λw.((λe.(e (((λr.(λt.(t (r q)))) ((λy.(λu.(u (y q)))) ((λi.(λo.(o (i q)))) ((λp.(λa.(a (p q)))) (λs.w))))) q))) (λd.d))))\n",
      "5: (λe.(λr.((λt.t) (((λy.(λu.(u (y e)))) ((λi.(λo.(o (i e)))) ((λp.(λa.(a (p e)))) ((λs.(λq.(q (s e)))) (λw.r))))) e))))\n",
      "6: (λq.(λw.(((λe.(λr.(r (e q)))) ((λt.(λy.(y (t q)))) ((λu.(λi.(i (u q)))) ((λo.(λp.(p (o q)))) (λa.w))))) q)))\n",
      "7: (λq.(λw.((λe.(e (((λr.(λt.(t (r q)))) ((λy.(λu.(u (y q)))) ((λi.(λo.(o (i q)))) (λp.w)))) q))) q)))\n",
      "8: (λq.(λw.(q (((λe.(λr.(r (e q)))) ((λt.(λy.(y (t q)))) ((λu.(λi.(i (u q)))) (λo.w)))) q))))\n",
      "9: (λq.(λw.(q ((λe.(e (((λr.(λt.(t (r q)))) ((λy.(λu.(u (y q)))) (λi.w))) q))) q))))\n",
      "10: (λq.(λw.(q (q (((λe.(λr.(r (e q)))) ((λt.(λy.(y (t q)))) (λu.w))) q)))))\n",
      "11: (λq.(λw.(q (q ((λe.(e (((λr.(λt.(t (r q)))) (λy.w)) q))) q)))))\n",
      "12: (λq.(λw.(q (q (q (((λe.(λr.(r (e q)))) (λt.w)) q))))))\n",
      "13: (λq.(λw.(q (q (q ((λe.(e ((λr.w) q))) q))))))\n",
      "14: (λw.(λe.(w (w (w (w ((λq.e) w)))))))\n",
      "15: (λq.(λw.(q (q (q (q w))))))\n",
      "\n",
      "\n",
      "reduction steps: 15\n",
      "norm term:       (λq.(λw.(q (q (q (q w))))))\n"
     ]
    }
   ],
   "source": [
    "def term_test_5():\n",
    "    return multi_app_term(pred_term(), num_term(5))\n",
    "\n",
    "\n",
    "test_procedure(term_test_5())"
   ],
   "metadata": {
    "collapsed": false
   }
  },
  {
   "cell_type": "markdown",
   "source": [
    "# <span style=\"color: #A1F99C\">6.</span>\n",
    "<span style=\"color:#bb91f3\">(PLUS 0 0)</span> == <span style=\"color:#f1bd47\">0</span> == <span style=\"color:#f1bd47\">λx. λy. y</span>"
   ],
   "metadata": {
    "collapsed": false
   }
  },
  {
   "cell_type": "code",
   "execution_count": 9,
   "outputs": [
    {
     "name": "stdout",
     "output_type": "stream",
     "text": [
      "0: (((λq.(λw.((w (λe.(λr.(λt.(r ((e r) t)))))) q))) (λy.(λu.u))) (λi.(λo.o)))\n",
      "1: ((λq.((q (λw.(λe.(λr.(e ((w e) r)))))) (λt.(λy.y)))) (λu.(λi.i)))\n",
      "2: (((λt.(λy.y)) (λu.(λq.(λw.(q ((u q) w)))))) (λe.(λr.r)))\n",
      "3: ((λq.q) (λw.(λe.e)))\n",
      "4: (λw.(λq.q))\n",
      "\n",
      "\n",
      "reduction steps: 4\n",
      "norm term:       (λw.(λq.q))\n"
     ]
    }
   ],
   "source": [
    "def term_test_6():\n",
    "    return multi_app_term(plus_term(), num_term(0), num_term(0))\n",
    "\n",
    "\n",
    "test_procedure(term_test_6())"
   ],
   "metadata": {
    "collapsed": false
   }
  },
  {
   "cell_type": "markdown",
   "source": [
    "# <span style=\"color: #A1F99C\">7.</span>\n",
    "<span style=\"color:#bb91f3\">(PLUS 2 3)</span> == <span style=\"color:#f1bd47\">5</span> == <span style=\"color:#f1bd47\">λx. λy. (x (x (x (x (x y)))))</span>"
   ],
   "metadata": {
    "collapsed": false
   }
  },
  {
   "cell_type": "code",
   "execution_count": 10,
   "outputs": [
    {
     "name": "stdout",
     "output_type": "stream",
     "text": [
      "0: (((λq.(λw.((w (λe.(λr.(λt.(r ((e r) t)))))) q))) (λy.(λu.(y (y u))))) (λi.(λo.(i (i (i o))))))\n",
      "1: ((λr.((r (λt.(λy.(λu.(y ((t y) u)))))) (λi.(λq.(i (i q)))))) (λw.(λe.(w (w (w e))))))\n",
      "2: (((λq.(λw.(q (q (q w))))) (λe.(λr.(λt.(r ((e r) t)))))) (λy.(λu.(y (y u)))))\n",
      "3: ((λq.((λw.(λe.(λr.(e ((w e) r))))) ((λt.(λy.(λu.(y ((t y) u))))) ((λi.(λo.(λp.(o ((i o) p))))) q)))) (λa.(λs.(a (a s)))))\n",
      "4: ((λw.(λe.(λr.(e ((w e) r))))) ((λt.(λy.(λu.(y ((t y) u))))) ((λi.(λo.(λp.(o ((i o) p))))) (λa.(λq.(a (a q)))))))\n",
      "5: (λq.(λw.(q ((((λe.(λr.(λt.(r ((e r) t))))) ((λy.(λu.(λi.(u ((y u) i))))) (λo.(λp.(o (o p)))))) q) w))))\n",
      "6: (λq.(λw.(q (((λe.(λr.(e ((((λt.(λy.(λu.(y ((t y) u))))) (λi.(λo.(i (i o))))) e) r)))) q) w))))\n",
      "7: (λq.(λw.(q ((λe.(q ((((λr.(λt.(λy.(t ((r t) y))))) (λu.(λi.(u (u i))))) q) e))) w))))\n",
      "8: (λr.(λt.(r (r ((((λy.(λu.(λq.(u ((y u) q))))) (λw.(λe.(w (w e))))) r) t)))))\n",
      "9: (λq.(λw.(q (q (((λe.(λr.(e (((λt.(λy.(t (t y)))) e) r)))) q) w)))))\n",
      "10: (λq.(λw.(q (q ((λe.(q (((λr.(λt.(r (r t)))) q) e))) w)))))\n",
      "11: (λe.(λr.(e (e (e (((λq.(λw.(q (q w)))) e) r))))))\n",
      "12: (λq.(λw.(q (q (q ((λe.(q (q e))) w))))))\n",
      "13: (λq.(λw.(q (q (q (q (q w)))))))\n",
      "\n",
      "\n",
      "reduction steps: 13\n",
      "norm term:       (λq.(λw.(q (q (q (q (q w)))))))\n"
     ]
    }
   ],
   "source": [
    "def term_test_7():\n",
    "    return multi_app_term(plus_term(), num_term(2), num_term(3))\n",
    "\n",
    "\n",
    "test_procedure(term_test_7())"
   ],
   "metadata": {
    "collapsed": false
   }
  },
  {
   "cell_type": "markdown",
   "source": [
    "# <span style=\"color: #A1F99C\">8.</span>\n",
    "<span style=\"color:#bb91f3\">(SUBTRACT 4 1)</span> == <span style=\"color:#f1bd47\">3</span> == <span style=\"color:#f1bd47\">λx. λy. (x (x (x y)))</span>"
   ],
   "metadata": {
    "collapsed": false
   }
  },
  {
   "cell_type": "code",
   "execution_count": 11,
   "outputs": [
    {
     "name": "stdout",
     "output_type": "stream",
     "text": [
      "0: (((λq.(λw.((w (λe.(λr.(λt.(((e (λy.(λu.(u (y r))))) (λi.t)) (λo.o)))))) q))) (λp.(λa.(p (p (p (p a))))))) (λs.(λd.(s d))))\n",
      "1: ((λq.((q (λw.(λe.(λr.(((w (λt.(λy.(y (t e))))) (λu.r)) (λi.i)))))) (λo.(λp.(o (o (o (o p)))))))) (λa.(λs.(a s))))\n",
      "2: (((λi.(λo.(i o))) (λp.(λa.(λq.(((p (λw.(λe.(e (w a))))) (λr.q)) (λt.t)))))) (λy.(λu.(y (y (y (y u)))))))\n",
      "3: ((λq.((λw.(λe.(λr.(((w (λt.(λy.(y (t e))))) (λu.r)) (λi.i))))) q)) (λo.(λp.(o (o (o (o p)))))))\n",
      "4: ((λq.(λw.(λe.(((q (λr.(λt.(t (r w))))) (λy.e)) (λu.u))))) (λi.(λo.(i (i (i (i o)))))))\n",
      "5: (λe.(λr.((((λt.(λy.(t (t (t (t y)))))) (λu.(λi.(i (u e))))) (λq.r)) (λw.w))))\n",
      "6: (λq.(λw.(((λe.((λr.(λt.(t (r q)))) ((λy.(λu.(u (y q)))) ((λi.(λo.(o (i q)))) ((λp.(λa.(a (p q)))) e))))) (λs.w)) (λd.d))))\n",
      "7: (λq.(λw.(((λe.(λr.(r (e q)))) ((λt.(λy.(y (t q)))) ((λu.(λi.(i (u q)))) ((λo.(λp.(p (o q)))) (λa.w))))) (λs.s))))\n",
      "8: (λu.(λi.((λo.(o (((λp.(λa.(a (p u)))) ((λq.(λw.(w (q u)))) ((λe.(λr.(r (e u)))) (λt.i)))) u))) (λy.y))))\n",
      "9: (λq.(λw.((λe.e) (((λr.(λt.(t (r q)))) ((λy.(λu.(u (y q)))) ((λi.(λo.(o (i q)))) (λp.w)))) q))))\n",
      "10: (λq.(λw.(((λe.(λr.(r (e q)))) ((λt.(λy.(y (t q)))) ((λu.(λi.(i (u q)))) (λo.w)))) q)))\n",
      "11: (λw.(λe.((λr.(r (((λt.(λy.(y (t w)))) ((λu.(λi.(i (u w)))) (λq.e))) w))) w)))\n",
      "12: (λq.(λw.(q (((λe.(λr.(r (e q)))) ((λt.(λy.(y (t q)))) (λu.w))) q))))\n",
      "13: (λq.(λw.(q ((λe.(e (((λr.(λt.(t (r q)))) (λy.w)) q))) q))))\n",
      "14: (λq.(λw.(q (q (((λe.(λr.(r (e q)))) (λt.w)) q)))))\n",
      "15: (λq.(λw.(q (q ((λe.(e ((λr.w) q))) q)))))\n",
      "16: (λe.(λq.(e (e (e ((λw.q) e))))))\n",
      "17: (λq.(λw.(q (q (q w)))))\n",
      "\n",
      "\n",
      "reduction steps: 17\n",
      "norm term:       (λq.(λw.(q (q (q w)))))\n"
     ]
    }
   ],
   "source": [
    "def term_test_8():\n",
    "    return multi_app_term(subtract_term(), num_term(4), num_term(1))\n",
    "\n",
    "\n",
    "test_procedure(term_test_8())"
   ],
   "metadata": {
    "collapsed": false
   }
  },
  {
   "cell_type": "markdown",
   "source": [
    "# <span style=\"color: #A1F99C\">9.</span>\n",
    "<span style=\"color:#bb91f3\">(SUBTRACT 3 5)</span> == <span style=\"color:#f1bd47\">0</span> == <span style=\"color:#f1bd47\">λx. λy. y</span>"
   ],
   "metadata": {
    "collapsed": false
   }
  },
  {
   "cell_type": "code",
   "execution_count": 12,
   "outputs": [
    {
     "name": "stdout",
     "output_type": "stream",
     "text": [
      "0: (((λq.(λw.((w (λe.(λr.(λt.(((e (λy.(λu.(u (y r))))) (λi.t)) (λo.o)))))) q))) (λp.(λa.(p (p (p a)))))) (λs.(λd.(s (s (s (s (s d))))))))\n",
      "1: ((λw.((w (λe.(λr.(λt.(((e (λy.(λu.(u (y r))))) (λi.t)) (λo.o)))))) (λp.(λa.(p (p (p a))))))) (λs.(λq.(s (s (s (s (s q))))))))\n",
      "2: (((λq.(λw.(q (q (q (q (q w))))))) (λe.(λr.(λt.(((e (λy.(λu.(u (y r))))) (λi.t)) (λo.o)))))) (λp.(λa.(p (p (p a))))))\n",
      "3: ((λq.((λw.(λe.(λr.(((w (λt.(λy.(y (t e))))) (λu.r)) (λi.i))))) ((λo.(λp.(λa.(((o (λs.(λd.(d (s p))))) (λf.a)) (λg.g))))) ((λh.(λj.(λk.(((h (λl.(λz.(z (l j))))) (λx.k)) (λc.c))))) ((λv.(λb.(λn.(((v (λm.(λq_1.(q_1 (m b))))) (λw_1.n)) (λe_1.e_1))))) ((λr_1.(λt_1.(λy_1.(((r_1 (λu_1.(λi_1.(i_1 (u_1 t_1))))) (λo_1.y_1)) (λp_1.p_1))))) q)))))) (λa_1.(λs_1.(a_1 (a_1 (a_1 s_1))))))\n",
      "4: ((λq.(λw.(λe.(((q (λr.(λt.(t (r w))))) (λy.e)) (λu.u))))) ((λi.(λo.(λp.(((i (λa.(λs.(s (a o))))) (λd.p)) (λf.f))))) ((λg.(λh.(λj.(((g (λk.(λl.(l (k h))))) (λz.j)) (λx.x))))) ((λc.(λv.(λb.(((c (λn.(λm.(m (n v))))) (λq_1.b)) (λw_1.w_1))))) ((λe_1.(λr_1.(λt_1.(((e_1 (λy_1.(λu_1.(u_1 (y_1 r_1))))) (λi_1.t_1)) (λo_1.o_1))))) (λp_1.(λa_1.(p_1 (p_1 (p_1 a_1))))))))))\n",
      "5: (λq.(λw.(((((λe.(λr.(λt.(((e (λy.(λu.(u (y r))))) (λi.t)) (λo.o))))) ((λp.(λa.(λs.(((p (λd.(λf.(f (d a))))) (λg.s)) (λh.h))))) ((λj.(λk.(λl.(((j (λz.(λx.(x (z k))))) (λc.l)) (λv.v))))) ((λb.(λn.(λm.(((b (λq_1.(λw_1.(w_1 (q_1 n))))) (λe_1.m)) (λr_1.r_1))))) (λt_1.(λy_1.(t_1 (t_1 (t_1 y_1))))))))) (λu_1.(λi_1.(i_1 (u_1 q))))) (λo_1.w)) (λp_1.p_1))))\n",
      "6: (λt_1.(λy_1.((((λu_1.(λi_1.(((((λo_1.(λq.(λw.(((o_1 (λe.(λr.(r (e q))))) (λt.w)) (λy.y))))) ((λu.(λi.(λo.(((u (λp.(λa.(a (p i))))) (λs.o)) (λd.d))))) ((λf.(λg.(λh.(((f (λj.(λk.(k (j g))))) (λl.h)) (λz.z))))) (λx.(λc.(x (x (x c)))))))) (λv.(λb.(b (v u_1))))) (λn.i_1)) (λm.m)))) (λq_1.(λw_1.(w_1 (q_1 t_1))))) (λe_1.y_1)) (λr_1.r_1))))\n",
      "7: (λq.(λw.(((λe.(((((λr.(λt.(λy.(((r (λu.(λi.(i (u t))))) (λo.y)) (λp.p))))) ((λa.(λs.(λd.(((a (λf.(λg.(g (f s))))) (λh.d)) (λj.j))))) ((λk.(λl.(λz.(((k (λx.(λc.(c (x l))))) (λv.z)) (λb.b))))) (λn.(λm.(n (n (n m)))))))) (λq_1.(λw_1.(w_1 (q_1 (λe_1.(λr_1.(r_1 (e_1 q))))))))) (λt_1.e)) (λy_1.y_1))) (λu_1.w)) (λi_1.i_1))))\n",
      "8: (λq.(λw.((((((λe.(λr.(λt.(((e (λy.(λu.(u (y r))))) (λi.t)) (λo.o))))) ((λp.(λa.(λs.(((p (λd.(λf.(f (d a))))) (λg.s)) (λh.h))))) ((λj.(λk.(λl.(((j (λz.(λx.(x (z k))))) (λc.l)) (λv.v))))) (λb.(λn.(b (b (b n)))))))) (λm.(λq_1.(q_1 (m (λw_1.(λe_1.(e_1 (w_1 q))))))))) (λr_1.(λt_1.w))) (λy_1.y_1)) (λu_1.u_1))))\n",
      "9: (λw.(λe.(((((λr.(λt.(((((λy.(λu.(λi.(((y (λo.(λp.(p (o u))))) (λa.i)) (λs.s))))) ((λd.(λf.(λg.(((d (λh.(λj.(j (h f))))) (λk.g)) (λl.l))))) (λz.(λx.(z (z (z x))))))) (λc.(λv.(v (c r))))) (λb.t)) (λn.n)))) (λm.(λq_1.(q_1 (m (λw_1.(λe_1.(e_1 (w_1 w))))))))) (λr_1.(λt_1.e))) (λy_1.y_1)) (λq.q))))\n",
      "10: (λq.(λw.((((λe.(((((λr.(λt.(λy.(((r (λu.(λi.(i (u t))))) (λo.y)) (λp.p))))) ((λa.(λs.(λd.(((a (λf.(λg.(g (f s))))) (λh.d)) (λj.j))))) (λk.(λl.(k (k (k l))))))) (λz.(λx.(x (z (λc.(λv.(v (c (λb.(λn.(n (b q))))))))))))) (λm.e)) (λq_1.q_1))) (λw_1.(λe_1.w))) (λr_1.r_1)) (λt_1.t_1))))\n",
      "11: (λq.(λw.(((((((λe.(λr.(λt.(((e (λy.(λu.(u (y r))))) (λi.t)) (λo.o))))) ((λp.(λa.(λs.(((p (λd.(λf.(f (d a))))) (λg.s)) (λh.h))))) (λj.(λk.(j (j (j k))))))) (λl.(λz.(z (l (λx.(λc.(c (x (λv.(λb.(b (v q))))))))))))) (λn.(λm.(λq_1.w)))) (λw_1.w_1)) (λe_1.e_1)) (λr_1.r_1))))\n",
      "12: (λq.(λw.((((((λe.(λr.(((((λt.(λy.(λu.(((t (λi.(λo.(o (i y))))) (λp.u)) (λa.a))))) (λs.(λd.(s (s (s d)))))) (λf.(λg.(g (f e))))) (λh.r)) (λj.j)))) (λk.(λl.(l (k (λz.(λx.(x (z (λc.(λv.(v (c q))))))))))))) (λb.(λn.(λm.w)))) (λq_1.q_1)) (λw_1.w_1)) (λe_1.e_1))))\n",
      "13: (λq.(λw.(((((λe.(((((λr.(λt.(λy.(((r (λu.(λi.(i (u t))))) (λo.y)) (λp.p))))) (λa.(λs.(a (a (a s)))))) (λd.(λf.(f (d (λg.(λh.(h (g (λj.(λk.(k (j (λl.(λz.(z (l q))))))))))))))))) (λx.e)) (λc.c))) (λv.(λb.(λn.w)))) (λm.m)) (λq_1.q_1)) (λw_1.w_1))))\n",
      "14: (λl.(λz.((((((((λx.(λc.(λv.(((x (λb.(λn.(n (b c))))) (λm.v)) (λq_1.q_1))))) (λq.(λw.(q (q (q w)))))) (λe.(λr.(r (e (λt.(λy.(y (t (λu.(λi.(i (u (λo.(λp.(p (o l))))))))))))))))) (λa.(λs.(λd.(λf.z))))) (λg.g)) (λh.h)) (λj.j)) (λk.k))))\n",
      "15: (λq.(λw.(((((((λe.(λr.((((λt.(λy.(t (t (t y))))) (λu.(λi.(i (u e))))) (λo.r)) (λp.p)))) (λa.(λs.(s (a (λd.(λf.(f (d (λg.(λh.(h (g (λj.(λk.(k (j q))))))))))))))))) (λl.(λz.(λx.(λc.w))))) (λv.v)) (λb.b)) (λn.n)) (λm.m))))\n",
      "16: (λq.(λw.((((((λe.((((λr.(λt.(r (r (r t))))) (λy.(λu.(u (y (λi.(λo.(o (i (λp.(λa.(a (p (λs.(λd.(d (s (λf.(λg.(g (f q))))))))))))))))))))) (λh.e)) (λj.j))) (λk.(λl.(λz.(λx.w))))) (λc.c)) (λv.v)) (λb.b)) (λn.n))))\n",
      "17: (λq.(λw.((((((((λe.(λr.(e (e (e r))))) (λt.(λy.(y (t (λu.(λi.(i (u (λo.(λp.(p (o (λa.(λs.(s (a (λd.(λf.(f (d q))))))))))))))))))))) (λg.(λh.(λj.(λk.(λl.w)))))) (λz.z)) (λx.x)) (λc.c)) (λv.v)) (λb.b))))\n",
      "18: (λo.(λp.(((((((λa.((λs.(λd.(d (s (λf.(λg.(g (f (λh.(λj.(j (h (λk.(λl.(l (k (λz.(λx.(x (z o)))))))))))))))))))) ((λc.(λv.(v (c (λb.(λn.(n (b (λm.(λq_1.(q_1 (m (λw_1.(λe_1.(e_1 (w_1 (λr_1.(λt_1.(t_1 (r_1 o)))))))))))))))))))) ((λy_1.(λu_1.(u_1 (y_1 (λi_1.(λo_1.(o_1 (i_1 (λp_1.(λa_1.(a_1 (p_1 (λs_1.(λd_1.(d_1 (s_1 (λf_1.(λg_1.(g_1 (f_1 o)))))))))))))))))))) a)))) (λh_1.(λj_1.(λq.(λw.(λe.p)))))) (λr.r)) (λt.t)) (λy.y)) (λu.u)) (λi.i))))\n",
      "19: (λq.(λw.(((((((λe.(λr.(r (e (λt.(λy.(y (t (λu.(λi.(i (u (λo.(λp.(p (o (λa.(λs.(s (a q)))))))))))))))))))) ((λd.(λf.(f (d (λg.(λh.(h (g (λj.(λk.(k (j (λl.(λz.(z (l (λx.(λc.(c (x q)))))))))))))))))))) ((λv.(λb.(b (v (λn.(λm.(m (n (λq_1.(λw_1.(w_1 (q_1 (λe_1.(λr_1.(r_1 (e_1 (λt_1.(λy_1.(y_1 (t_1 q)))))))))))))))))))) (λu_1.(λi_1.(λo_1.(λp_1.(λa_1.w)))))))) (λs_1.s_1)) (λd_1.d_1)) (λf_1.f_1)) (λg_1.g_1)) (λh_1.h_1))))\n",
      "20: (λq.(λw.((((((λe.(e (((λr.(λt.(t (r (λy.(λu.(u (y (λi.(λo.(o (i (λp.(λa.(a (p (λs.(λd.(d (s q)))))))))))))))))))) ((λf.(λg.(g (f (λh.(λj.(j (h (λk.(λl.(l (k (λz.(λx.(x (z (λc.(λv.(v (c q)))))))))))))))))))) (λb.(λn.(λm.(λq_1.(λw_1.w))))))) (λe_1.(λr_1.(r_1 (e_1 (λt_1.(λy_1.(y_1 (t_1 (λu_1.(λi_1.(i_1 (u_1 (λo_1.(λp_1.(p_1 (o_1 q))))))))))))))))))) (λa_1.a_1)) (λs_1.s_1)) (λd_1.d_1)) (λf_1.f_1)) (λg_1.g_1))))\n",
      "21: (λr.(λt.((((((λy.y) (((λu.(λi.(i (u (λo.(λp.(p (o (λa.(λs.(s (a (λd.(λf.(f (d (λg.(λh.(h (g r)))))))))))))))))))) ((λj.(λk.(k (j (λl.(λz.(z (l (λx.(λc.(c (x (λv.(λb.(b (v (λn.(λm.(m (n r)))))))))))))))))))) (λq_1.(λw_1.(λe_1.(λr_1.(λt_1.t))))))) (λy_1.(λu_1.(u_1 (y_1 (λi_1.(λo_1.(o_1 (i_1 (λp_1.(λa_1.(a_1 (p_1 (λs_1.(λd_1.(d_1 (s_1 r)))))))))))))))))) (λf_1.f_1)) (λq.q)) (λw.w)) (λe.e))))\n",
      "22: (λq.(λw.(((((((λe.(λr.(r (e (λt.(λy.(y (t (λu.(λi.(i (u (λo.(λp.(p (o (λa.(λs.(s (a q)))))))))))))))))))) ((λd.(λf.(f (d (λg.(λh.(h (g (λj.(λk.(k (j (λl.(λz.(z (l (λx.(λc.(c (x q)))))))))))))))))))) (λv.(λb.(λn.(λm.(λq_1.w))))))) (λw_1.(λe_1.(e_1 (w_1 (λr_1.(λt_1.(t_1 (r_1 (λy_1.(λu_1.(u_1 (y_1 (λi_1.(λo_1.(o_1 (i_1 q))))))))))))))))) (λp_1.p_1)) (λa_1.a_1)) (λs_1.s_1)) (λd_1.d_1))))\n",
      "23: (λq.(λw.((((((λe.(e (((λr.(λt.(t (r (λy.(λu.(u (y (λi.(λo.(o (i (λp.(λa.(a (p (λs.(λd.(d (s q)))))))))))))))))))) (λf.(λg.(λh.(λj.(λk.w)))))) (λl.(λz.(z (l (λx.(λc.(c (x (λv.(λb.(b (v (λn.(λm.(m (n q))))))))))))))))))) (λq_1.(λw_1.(w_1 (q_1 (λe_1.(λr_1.(r_1 (e_1 (λt_1.(λy_1.(y_1 (t_1 (λu_1.(λi_1.(i_1 (u_1 q))))))))))))))))) (λo_1.o_1)) (λp_1.p_1)) (λa_1.a_1)) (λs_1.s_1))))\n",
      "24: (λq.(λw.((((((λe.(λr.(r (e (λt.(λy.(y (t (λu.(λi.(i (u (λo.(λp.(p (o q)))))))))))))))) (((λa.(λs.(s (a (λd.(λf.(f (d (λg.(λh.(h (g (λj.(λk.(k (j (λl.(λz.(z (l q)))))))))))))))))))) (λx.(λc.(λv.(λb.(λn.w)))))) (λm.(λq_1.(q_1 (m (λw_1.(λe_1.(e_1 (w_1 (λr_1.(λt_1.(t_1 (r_1 (λy_1.(λu_1.(u_1 (y_1 q)))))))))))))))))) (λi_1.i_1)) (λo_1.o_1)) (λp_1.p_1)) (λa_1.a_1))))\n",
      "25: (λm.(λq_1.(((((λw_1.(w_1 ((((λe_1.(λr_1.(r_1 (e_1 (λt_1.(λy_1.(y_1 (t_1 (λu_1.(λi_1.(i_1 (u_1 (λo_1.(λp_1.(p_1 (o_1 (λq.(λw.(w (q m)))))))))))))))))))) (λe.(λr.(λt.(λy.(λu.q_1)))))) (λi.(λo.(o (i (λp.(λa.(a (p (λs.(λd.(d (s (λf.(λg.(g (f m))))))))))))))))) (λh.(λj.(j (h (λk.(λl.(l (k (λz.(λx.(x (z m))))))))))))))) (λc.c)) (λv.v)) (λb.b)) (λn.n))))\n",
      "26: (λq.(λw.(((((λe.e) ((((λr.(λt.(t (r (λy.(λu.(u (y (λi.(λo.(o (i (λp.(λa.(a (p (λs.(λd.(d (s q)))))))))))))))))))) (λf.(λg.(λh.(λj.(λk.w)))))) (λl.(λz.(z (l (λx.(λc.(c (x (λv.(λb.(b (v (λn.(λm.(m (n q))))))))))))))))) (λq_1.(λw_1.(w_1 (q_1 (λe_1.(λr_1.(r_1 (e_1 (λt_1.(λy_1.(y_1 (t_1 q)))))))))))))) (λu_1.u_1)) (λi_1.i_1)) (λo_1.o_1))))\n",
      "27: (λq.(λw.(((((((λe.(λr.(r (e (λt.(λy.(y (t (λu.(λi.(i (u (λo.(λp.(p (o (λa.(λs.(s (a q)))))))))))))))))))) (λd.(λf.(λg.(λh.(λj.w)))))) (λk.(λl.(l (k (λz.(λx.(x (z (λc.(λv.(v (c (λb.(λn.(n (b q))))))))))))))))) (λm.(λq_1.(q_1 (m (λw_1.(λe_1.(e_1 (w_1 (λr_1.(λt_1.(t_1 (r_1 q))))))))))))) (λy_1.y_1)) (λu_1.u_1)) (λi_1.i_1))))\n",
      "28: (λq.(λw.((((((λe.(e ((λr.(λt.(λy.(λu.(λi.w))))) (λo.(λp.(p (o (λa.(λs.(s (a (λd.(λf.(f (d (λg.(λh.(h (g q))))))))))))))))))) (λj.(λk.(k (j (λl.(λz.(z (l (λx.(λc.(c (x (λv.(λb.(b (v q))))))))))))))))) (λn.(λm.(m (n (λq_1.(λw_1.(w_1 (q_1 (λe_1.(λr_1.(r_1 (e_1 q))))))))))))) (λt_1.t_1)) (λy_1.y_1)) (λu_1.u_1))))\n",
      "29: (λy_1.(λq.((((((λw.(λe.(e (w (λr.(λt.(t (r (λy.(λu.(u (y (λi.(λo.(o (i y_1)))))))))))))))) ((λp.(λa.(λs.(λd.(λf.q))))) (λg.(λh.(h (g (λj.(λk.(k (j (λl.(λz.(z (l (λx.(λc.(c (x y_1)))))))))))))))))) (λv.(λb.(b (v (λn.(λm.(m (n (λq_1.(λw_1.(w_1 (q_1 y_1))))))))))))) (λe_1.e_1)) (λr_1.r_1)) (λt_1.t_1))))\n",
      "30: (λq.(λw.(((((λe.(e (((λr.(λt.(λy.(λu.(λi.w))))) (λo.(λp.(p (o (λa.(λs.(s (a (λd.(λf.(f (d (λg.(λh.(h (g q))))))))))))))))) (λj.(λk.(k (j (λl.(λz.(z (l (λx.(λc.(c (x q))))))))))))))) (λv.(λb.(b (v (λn.(λm.(m (n (λq_1.(λw_1.(w_1 (q_1 q))))))))))))) (λe_1.e_1)) (λr_1.r_1)) (λt_1.t_1))))\n",
      "31: (λq.(λw.(((((λe.(λr.(r (e (λt.(λy.(y (t (λu.(λi.(i (u q)))))))))))) (((λo.(λp.(λa.(λs.(λd.w))))) (λf.(λg.(g (f (λh.(λj.(j (h (λk.(λl.(l (k (λz.(λx.(x (z q))))))))))))))))) (λc.(λv.(v (c (λb.(λn.(n (b (λm.(λq_1.(q_1 (m q)))))))))))))) (λw_1.w_1)) (λe_1.e_1)) (λr_1.r_1))))\n",
      "32: (λq.(λw.((((λe.(e ((((λr.(λt.(λy.(λu.(λi.w))))) (λo.(λp.(p (o (λa.(λs.(s (a (λd.(λf.(f (d (λg.(λh.(h (g q))))))))))))))))) (λj.(λk.(k (j (λl.(λz.(z (l (λx.(λc.(c (x q))))))))))))) (λv.(λb.(b (v (λn.(λm.(m (n q))))))))))) (λq_1.q_1)) (λw_1.w_1)) (λe_1.e_1))))\n",
      "33: (λc.(λv.((((λb.b) ((((λn.(λm.(λq_1.(λw_1.(λq.v))))) (λw.(λe.(e (w (λr.(λt.(t (r (λy.(λu.(u (y (λi.(λo.(o (i c))))))))))))))))) (λp.(λa.(a (p (λs.(λd.(d (s (λf.(λg.(g (f c))))))))))))) (λh.(λj.(j (h (λk.(λl.(l (k c)))))))))) (λz.z)) (λx.x))))\n",
      "34: (λq.(λw.((((((λe.(λr.(λt.(λy.(λu.w))))) (λi.(λo.(o (i (λp.(λa.(a (p (λs.(λd.(d (s (λf.(λg.(g (f q))))))))))))))))) (λh.(λj.(j (h (λk.(λl.(l (k (λz.(λx.(x (z q))))))))))))) (λc.(λv.(v (c (λb.(λn.(n (b q))))))))) (λm.m)) (λq_1.q_1))))\n",
      "35: (λe.(λr.(((((λt.(λy.(λu.(λi.r)))) (λo.(λp.(p (o (λa.(λs.(s (a (λd.(λf.(f (d e))))))))))))) (λg.(λh.(h (g (λj.(λk.(k (j e))))))))) (λq.q)) (λw.w))))\n",
      "36: (λq.(λw.((((λe.(λr.(λt.w))) (λy.(λu.(u (y (λi.(λo.(o (i q))))))))) (λp.p)) (λa.a))))\n",
      "37: (λq.(λw.(((λe.(λr.w)) (λt.t)) (λy.y))))\n",
      "38: (λq.(λw.((λe.w) (λr.r))))\n",
      "39: (λw.(λq.q))\n",
      "\n",
      "\n",
      "reduction steps: 39\n",
      "norm term:       (λw.(λq.q))\n"
     ]
    }
   ],
   "source": [
    "def term_test_9():\n",
    "    return multi_app_term(subtract_term(), num_term(3), num_term(5))\n",
    "\n",
    "\n",
    "test_procedure(term_test_9(), steps_lim=150)"
   ],
   "metadata": {
    "collapsed": false
   }
  },
  {
   "cell_type": "markdown",
   "source": [
    "# <span style=\"color: #A1F99C\">10.</span>\n",
    "<span style=\"color:#bb91f3\">(LEQ 3 2)</span> == <span style=\"color:#f1bd47\">FALSE</span> == <span style=\"color:#f1bd47\">λx. λy. y</span>"
   ],
   "metadata": {
    "collapsed": false
   }
  },
  {
   "cell_type": "code",
   "execution_count": 13,
   "outputs": [
    {
     "name": "stdout",
     "output_type": "stream",
     "text": [
      "0: (((λe.(λr.((λt.((t (λy.(λu.(λi.i)))) (λo.(λp.o)))) (((λa.(λs.((s (λd.(λf.(λg.(((d (λh.(λj.(j (h f))))) (λk.g)) (λl.l)))))) a))) e) r)))) (λz.(λx.(z (z (z x)))))) (λq.(λw.(q (q w)))))\n",
      "1: ((λq.((λw.((w (λe.(λr.(λt.t)))) (λy.(λu.y)))) (((λi.(λo.((o (λp.(λa.(λs.(((p (λd.(λf.(f (d a))))) (λg.s)) (λh.h)))))) i))) (λj.(λk.(j (j (j k)))))) q))) (λl.(λz.(l (l z)))))\n",
      "2: ((λq.((q (λw.(λe.(λr.r)))) (λt.(λy.t)))) (((λu.(λi.((i (λo.(λp.(λa.(((o (λs.(λd.(d (s p))))) (λf.a)) (λg.g)))))) u))) (λh.(λj.(h (h (h j)))))) (λk.(λl.(k (k l))))))\n",
      "3: (((((λq.(λw.((w (λe.(λr.(λt.(((e (λy.(λu.(u (y r))))) (λi.t)) (λo.o)))))) q))) (λp.(λa.(p (p (p a)))))) (λs.(λd.(s (s d))))) (λf.(λg.(λh.h)))) (λj.(λk.j)))\n",
      "4: ((((λd.((d (λf.(λg.(λh.(((f (λj.(λq.(q (j g))))) (λw.h)) (λe.e)))))) (λr.(λt.(r (r (r t))))))) (λy.(λu.(y (y u))))) (λi.(λo.(λp.p)))) (λa.(λs.a)))\n",
      "5: (((((λq.(λw.(q (q w)))) (λe.(λr.(λt.(((e (λy.(λu.(u (y r))))) (λi.t)) (λo.o)))))) (λp.(λa.(p (p (p a)))))) (λs.(λd.(λf.f)))) (λg.(λh.g)))\n",
      "6: ((((λq.((λw.(λe.(λr.(((w (λt.(λy.(y (t e))))) (λu.r)) (λi.i))))) ((λo.(λp.(λa.(((o (λs.(λd.(d (s p))))) (λf.a)) (λg.g))))) q))) (λh.(λj.(h (h (h j)))))) (λk.(λl.(λz.z)))) (λx.(λc.x)))\n",
      "7: ((((λi.(λo.(λp.(((i (λa.(λs.(s (a o))))) (λd.p)) (λf.f))))) ((λg.(λh.(λj.(((g (λk.(λl.(l (k h))))) (λz.j)) (λx.x))))) (λq.(λw.(q (q (q w))))))) (λe.(λr.(λt.t)))) (λy.(λu.y)))\n",
      "8: (((λq.(λw.(((((λe.(λr.(λt.(((e (λy.(λu.(u (y r))))) (λi.t)) (λo.o))))) (λp.(λa.(p (p (p a)))))) (λs.(λd.(d (s q))))) (λf.w)) (λg.g)))) (λh.(λj.(λk.k)))) (λl.(λz.l)))\n",
      "9: ((λq.(((((λw.(λe.(λr.(((w (λt.(λy.(y (t e))))) (λu.r)) (λi.i))))) (λo.(λp.(o (o (o p)))))) (λa.(λs.(s (a (λd.(λf.(λg.g)))))))) (λh.q)) (λj.j))) (λk.(λl.k)))\n",
      "10: (((((λq.(λw.(λe.(((q (λr.(λt.(t (r w))))) (λy.e)) (λu.u))))) (λi.(λo.(i (i (i o)))))) (λp.(λa.(a (p (λs.(λd.(λf.f)))))))) (λg.(λh.(λj.h)))) (λk.k))\n",
      "11: ((((λq.(λw.((((λe.(λr.(e (e (e r))))) (λt.(λy.(y (t q))))) (λu.w)) (λi.i)))) (λo.(λp.(p (o (λa.(λs.(λd.d)))))))) (λf.(λg.(λh.g)))) (λj.j))\n",
      "12: (((λw.((((λe.(λr.(e (e (e r))))) (λt.(λy.(y (t (λu.(λi.(i (u (λo.(λp.(λa.a)))))))))))) (λs.w)) (λd.d))) (λf.(λg.(λh.g)))) (λq.q))\n",
      "13: (((((λq.(λw.(q (q (q w))))) (λe.(λr.(r (e (λt.(λy.(y (t (λu.(λi.(λo.o)))))))))))) (λp.(λa.(λs.(λd.s))))) (λf.f)) (λg.g))\n",
      "14: ((((λd.((λf.(λg.(g (f (λh.(λj.(j (h (λk.(λl.(λz.z))))))))))) ((λx.(λc.(c (x (λv.(λb.(b (v (λn.(λm.(λq_1.q_1))))))))))) ((λw_1.(λq.(q (w_1 (λw.(λe.(e (w (λr.(λt.(λy.y))))))))))) d)))) (λu.(λi.(λo.(λp.o))))) (λa.a)) (λs.s))\n",
      "15: ((((λq.(λw.(w (q (λe.(λr.(r (e (λt.(λy.(λu.u))))))))))) ((λi.(λo.(o (i (λp.(λa.(a (p (λs.(λd.(λf.f))))))))))) ((λg.(λh.(h (g (λj.(λk.(k (j (λl.(λz.(λx.x))))))))))) (λc.(λv.(λb.(λn.b))))))) (λm.m)) (λq_1.q_1))\n",
      "16: (((λq.(q (((λw.(λe.(e (w (λr.(λt.(t (r (λy.(λu.(λi.i))))))))))) ((λo.(λp.(p (o (λa.(λs.(s (a (λd.(λf.(λg.g))))))))))) (λh.(λj.(λk.(λl.k)))))) (λz.(λx.(x (z (λc.(λv.(λb.b)))))))))) (λn.n)) (λm.m))\n",
      "17: (((λq.q) (((λw.(λe.(e (w (λr.(λt.(t (r (λy.(λu.(λi.i))))))))))) ((λo.(λp.(p (o (λa.(λs.(s (a (λd.(λf.(λg.g))))))))))) (λh.(λj.(λk.(λl.k)))))) (λz.(λx.(x (z (λc.(λv.(λb.b))))))))) (λn.n))\n",
      "18: ((((λq.(λw.(w (q (λe.(λr.(r (e (λt.(λy.(λu.u))))))))))) ((λi.(λo.(o (i (λp.(λa.(a (p (λs.(λd.(λf.f))))))))))) (λg.(λh.(λj.(λk.j)))))) (λl.(λz.(z (l (λx.(λc.(λv.v)))))))) (λb.b))\n",
      "19: (((λp.(p (((λa.(λs.(s (a (λd.(λf.(f (d (λg.(λh.(λj.j))))))))))) (λk.(λl.(λz.(λx.z))))) (λc.(λv.(v (c (λq.(λw.(λe.e)))))))))) (λr.(λt.(t (r (λy.(λu.(λi.i)))))))) (λo.o))\n",
      "20: (((λq.(λw.(w (q (λe.(λr.(λt.t))))))) (((λy.(λu.(u (y (λi.(λo.(o (i (λp.(λa.(λs.s))))))))))) (λd.(λf.(λg.(λh.g))))) (λj.(λk.(k (j (λl.(λz.(λx.x))))))))) (λc.c))\n",
      "21: ((λq.(q ((((λw.(λe.(e (w (λr.(λt.(t (r (λy.(λu.(λi.i))))))))))) (λo.(λp.(λa.(λs.a))))) (λd.(λf.(f (d (λg.(λh.(λj.j)))))))) (λk.(λl.(λz.z)))))) (λx.x))\n",
      "22: ((λq.q) ((((λw.(λe.(e (w (λr.(λt.(t (r (λy.(λu.(λi.i))))))))))) (λo.(λp.(λa.(λs.a))))) (λd.(λf.(f (d (λg.(λh.(λj.j)))))))) (λk.(λl.(λz.z)))))\n",
      "23: ((((λq.(λw.(w (q (λe.(λr.(r (e (λt.(λy.(λu.u))))))))))) (λi.(λo.(λp.(λa.p))))) (λs.(λd.(d (s (λf.(λg.(λh.h)))))))) (λj.(λk.(λl.l))))\n",
      "24: (((λf.(f ((λg.(λh.(λj.(λk.j)))) (λq.(λw.(w (q (λe.(λr.(λt.t)))))))))) (λy.(λu.(u (y (λi.(λo.(λp.p)))))))) (λa.(λs.(λd.d))))\n",
      "25: (((λq.(λw.(w (q (λe.(λr.(λt.t))))))) ((λy.(λu.(λi.(λo.i)))) (λp.(λa.(a (p (λs.(λd.(λf.f))))))))) (λg.(λh.(λj.j))))\n",
      "26: ((λg.(g (((λh.(λq.(λw.(λe.w)))) (λr.(λt.(t (r (λy.(λu.(λi.i)))))))) (λo.(λp.(λa.a)))))) (λs.(λd.(λf.f))))\n",
      "27: ((λq.(λw.(λe.e))) (((λr.(λt.(λy.(λu.y)))) (λi.(λo.(o (i (λp.(λa.(λs.s)))))))) (λd.(λf.(λg.g)))))\n",
      "28: (λq.(λw.w))\n",
      "\n",
      "\n",
      "reduction steps: 28\n",
      "norm term:       (λq.(λw.w))\n"
     ]
    }
   ],
   "source": [
    "def term_test_10():\n",
    "    return multi_app_term(leq_term(), num_term(3), num_term(2))\n",
    "\n",
    "\n",
    "test_procedure(term_test_10())"
   ],
   "metadata": {
    "collapsed": false
   }
  },
  {
   "cell_type": "markdown",
   "source": [
    "# <span style=\"color: #A1F99C\">11.</span>\n",
    "<span style=\"color:#bb91f3\">(LEQ 2 5)</span> == <span style=\"color:#f1bd47\">TRUE</span> == <span style=\"color:#f1bd47\">λx. λy. x</span>"
   ],
   "metadata": {
    "collapsed": false
   }
  },
  {
   "cell_type": "code",
   "execution_count": 14,
   "outputs": [
    {
     "name": "stdout",
     "output_type": "stream",
     "text": [
      "0: (((λq.(λw.((λe.((e (λr.(λt.(λy.y)))) (λu.(λi.u)))) (((λo.(λp.((p (λa.(λs.(λd.(((a (λf.(λg.(g (f s))))) (λh.d)) (λj.j)))))) o))) q) w)))) (λk.(λl.(k (k l))))) (λz.(λx.(z (z (z (z (z x))))))))\n",
      "1: ((λq.((λw.((w (λe.(λr.(λt.t)))) (λy.(λu.y)))) (((λi.(λo.((o (λp.(λa.(λs.(((p (λd.(λf.(f (d a))))) (λg.s)) (λh.h)))))) i))) (λj.(λk.(j (j k))))) q))) (λl.(λz.(l (l (l (l (l z))))))))\n",
      "2: ((λq.((q (λw.(λe.(λr.r)))) (λt.(λy.t)))) (((λu.(λi.((i (λo.(λp.(λa.(((o (λs.(λd.(d (s p))))) (λf.a)) (λg.g)))))) u))) (λh.(λj.(h (h j))))) (λk.(λl.(k (k (k (k (k l)))))))))\n",
      "3: (((((λw.(λe.((e (λr.(λt.(λy.(((r (λu.(λi.(i (u t))))) (λo.y)) (λp.p)))))) w))) (λa.(λs.(a (a s))))) (λd.(λf.(d (d (d (d (d f)))))))) (λg.(λh.(λj.j)))) (λk.(λq.k)))\n",
      "4: ((((λq.((q (λw.(λe.(λr.(((w (λt.(λy.(y (t e))))) (λu.r)) (λi.i)))))) (λo.(λp.(o (o p)))))) (λa.(λs.(a (a (a (a (a s)))))))) (λd.(λf.(λg.g)))) (λh.(λj.h)))\n",
      "5: (((((λe.(λr.(e (e (e (e (e r))))))) (λt.(λy.(λu.(((t (λi.(λo.(o (i y))))) (λp.u)) (λa.a)))))) (λs.(λd.(s (s d))))) (λf.(λg.(λh.h)))) (λq.(λw.q)))\n",
      "6: ((((λq.((λw.(λe.(λr.(((w (λt.(λy.(y (t e))))) (λu.r)) (λi.i))))) ((λo.(λp.(λa.(((o (λs.(λd.(d (s p))))) (λf.a)) (λg.g))))) ((λh.(λj.(λk.(((h (λl.(λz.(z (l j))))) (λx.k)) (λc.c))))) ((λv.(λb.(λn.(((v (λm.(λq_1.(q_1 (m b))))) (λw_1.n)) (λe_1.e_1))))) ((λr_1.(λt_1.(λy_1.(((r_1 (λu_1.(λi_1.(i_1 (u_1 t_1))))) (λo_1.y_1)) (λp_1.p_1))))) q)))))) (λa_1.(λs_1.(a_1 (a_1 s_1))))) (λd_1.(λf_1.(λg_1.g_1)))) (λh_1.(λj_1.h_1)))\n",
      "7: ((((λq.(λw.(λe.(((q (λr.(λt.(t (r w))))) (λy.e)) (λu.u))))) ((λi.(λo.(λp.(((i (λa.(λs.(s (a o))))) (λd.p)) (λf.f))))) ((λg.(λh.(λj.(((g (λk.(λl.(l (k h))))) (λz.j)) (λx.x))))) ((λc.(λv.(λb.(((c (λn.(λm.(m (n v))))) (λq_1.b)) (λw_1.w_1))))) ((λe_1.(λr_1.(λt_1.(((e_1 (λy_1.(λu_1.(u_1 (y_1 r_1))))) (λi_1.t_1)) (λo_1.o_1))))) (λp_1.(λa_1.(p_1 (p_1 a_1))))))))) (λs_1.(λd_1.(λf_1.f_1)))) (λg_1.(λh_1.g_1)))\n",
      "8: (((λu_1.(λi_1.(((((λo_1.(λp_1.(λa_1.(((o_1 (λs_1.(λd_1.(d_1 (s_1 p_1))))) (λf_1.a_1)) (λg_1.g_1))))) ((λq.(λw.(λe.(((q (λr.(λt.(t (r w))))) (λy.e)) (λu.u))))) ((λi.(λo.(λp.(((i (λa.(λs.(s (a o))))) (λd.p)) (λf.f))))) ((λg.(λh.(λj.(((g (λk.(λl.(l (k h))))) (λz.j)) (λx.x))))) (λc.(λv.(c (c v)))))))) (λb.(λn.(n (b u_1))))) (λm.i_1)) (λq_1.q_1)))) (λw_1.(λe_1.(λr_1.r_1)))) (λt_1.(λy_1.t_1)))\n",
      "9: ((λq.(((((λw.(λe.(λr.(((w (λt.(λy.(y (t e))))) (λu.r)) (λi.i))))) ((λo.(λp.(λa.(((o (λs.(λd.(d (s p))))) (λf.a)) (λg.g))))) ((λh.(λj.(λk.(((h (λl.(λz.(z (l j))))) (λx.k)) (λc.c))))) ((λv.(λb.(λn.(((v (λm.(λq_1.(q_1 (m b))))) (λw_1.n)) (λe_1.e_1))))) (λr_1.(λt_1.(r_1 (r_1 t_1)))))))) (λy_1.(λu_1.(u_1 (y_1 (λi_1.(λo_1.(λp_1.p_1)))))))) (λa_1.q)) (λs_1.s_1))) (λd_1.(λf_1.d_1)))\n",
      "10: (((((λq.(λw.(λe.(((q (λr.(λt.(t (r w))))) (λy.e)) (λu.u))))) ((λi.(λo.(λp.(((i (λa.(λs.(s (a o))))) (λd.p)) (λf.f))))) ((λg.(λh.(λj.(((g (λk.(λl.(l (k h))))) (λz.j)) (λx.x))))) ((λc.(λv.(λb.(((c (λn.(λm.(m (n v))))) (λq_1.b)) (λw_1.w_1))))) (λe_1.(λr_1.(e_1 (e_1 r_1)))))))) (λt_1.(λy_1.(y_1 (t_1 (λu_1.(λi_1.(λo_1.o_1)))))))) (λp_1.(λa_1.(λs_1.a_1)))) (λd_1.d_1))\n",
      "11: ((((λc.(λv.(((((λb.(λn.(λm.(((b (λq_1.(λw_1.(w_1 (q_1 n))))) (λe_1.m)) (λr_1.r_1))))) ((λt_1.(λy_1.(λu_1.(((t_1 (λi_1.(λo_1.(o_1 (i_1 y_1))))) (λp_1.u_1)) (λa_1.a_1))))) ((λs_1.(λq.(λw.(((s_1 (λe.(λr.(r (e q))))) (λt.w)) (λy.y))))) (λu.(λi.(u (u i))))))) (λo.(λp.(p (o c))))) (λa.v)) (λs.s)))) (λd.(λf.(f (d (λg.(λh.(λj.j)))))))) (λk.(λl.(λz.l)))) (λx.x))\n",
      "12: (((λq.(((((λw.(λe.(λr.(((w (λt.(λy.(y (t e))))) (λu.r)) (λi.i))))) ((λo.(λp.(λa.(((o (λs.(λd.(d (s p))))) (λf.a)) (λg.g))))) ((λh.(λj.(λk.(((h (λl.(λz.(z (l j))))) (λx.k)) (λc.c))))) (λv.(λb.(v (v b))))))) (λn.(λm.(m (n (λq_1.(λw_1.(w_1 (q_1 (λe_1.(λr_1.(λt_1.t_1)))))))))))) (λy_1.q)) (λu_1.u_1))) (λi_1.(λo_1.(λp_1.o_1)))) (λa_1.a_1))\n",
      "13: ((((((λq.(λw.(λe.(((q (λr.(λt.(t (r w))))) (λy.e)) (λu.u))))) ((λi.(λo.(λp.(((i (λa.(λs.(s (a o))))) (λd.p)) (λf.f))))) ((λg.(λh.(λj.(((g (λk.(λl.(l (k h))))) (λz.j)) (λx.x))))) (λc.(λv.(c (c v))))))) (λb.(λn.(n (b (λm.(λq_1.(q_1 (m (λw_1.(λe_1.(λr_1.r_1)))))))))))) (λt_1.(λy_1.(λu_1.(λi_1.u_1))))) (λo_1.o_1)) (λp_1.p_1))\n",
      "14: (((((λw.(λe.(((((λr.(λt.(λy.(((r (λu.(λi.(i (u t))))) (λo.y)) (λp.p))))) ((λa.(λs.(λd.(((a (λf.(λg.(g (f s))))) (λh.d)) (λj.j))))) (λk.(λl.(k (k l)))))) (λz.(λx.(x (z w))))) (λc.e)) (λv.v)))) (λb.(λn.(n (b (λm.(λq_1.(q_1 (m (λw_1.(λe_1.(λr_1.r_1)))))))))))) (λt_1.(λy_1.(λu_1.(λi_1.u_1))))) (λo_1.o_1)) (λq.q))\n",
      "15: ((((λq.(((((λw.(λe.(λr.(((w (λt.(λy.(y (t e))))) (λu.r)) (λi.i))))) ((λo.(λp.(λa.(((o (λs.(λd.(d (s p))))) (λf.a)) (λg.g))))) (λh.(λj.(h (h j)))))) (λk.(λl.(l (k (λz.(λx.(x (z (λc.(λv.(v (c (λb.(λn.(λm.m)))))))))))))))) (λq_1.q)) (λw_1.w_1))) (λe_1.(λr_1.(λt_1.(λy_1.t_1))))) (λu_1.u_1)) (λi_1.i_1))\n",
      "16: (((((((λq.(λw.(λe.(((q (λr.(λt.(t (r w))))) (λy.e)) (λu.u))))) ((λi.(λo.(λp.(((i (λa.(λs.(s (a o))))) (λd.p)) (λf.f))))) (λg.(λh.(g (g h)))))) (λj.(λk.(k (j (λl.(λz.(z (l (λx.(λc.(c (x (λv.(λb.(λn.n)))))))))))))))) (λm.(λq_1.(λw_1.(λe_1.(λr_1.e_1)))))) (λt_1.t_1)) (λy_1.y_1)) (λu_1.u_1))\n",
      "17: ((((((λq.(λw.(((((λe.(λr.(λt.(((e (λy.(λu.(u (y r))))) (λi.t)) (λo.o))))) (λp.(λa.(p (p a))))) (λs.(λd.(d (s q))))) (λf.w)) (λg.g)))) (λh.(λj.(j (h (λk.(λl.(l (k (λz.(λx.(x (z (λc.(λv.(λb.b)))))))))))))))) (λn.(λm.(λq_1.(λw_1.(λe_1.w_1)))))) (λr_1.r_1)) (λt_1.t_1)) (λy_1.y_1))\n",
      "18: (((((λr.(((((λt.(λy.(λu.(((t (λi.(λo.(o (i y))))) (λp.u)) (λa.a))))) (λs.(λd.(s (s d))))) (λf.(λg.(g (f (λh.(λj.(j (h (λk.(λl.(l (k (λz.(λx.(x (z (λc.(λv.(λb.b)))))))))))))))))))) (λn.r)) (λm.m))) (λq_1.(λw_1.(λe_1.(λr_1.(λt_1.r_1)))))) (λq.q)) (λw.w)) (λe.e))\n",
      "19: ((((((((λq.(λw.(λe.(((q (λr.(λt.(t (r w))))) (λy.e)) (λu.u))))) (λi.(λo.(i (i o))))) (λp.(λa.(a (p (λs.(λd.(d (s (λf.(λg.(g (f (λh.(λj.(j (h (λk.(λl.(λz.z)))))))))))))))))))) (λx.(λc.(λv.(λb.(λn.(λm.n))))))) (λq_1.q_1)) (λw_1.w_1)) (λe_1.e_1)) (λr_1.r_1))\n",
      "20: (((((((λq.(λw.((((λe.(λr.(e (e r)))) (λt.(λy.(y (t q))))) (λu.w)) (λi.i)))) (λo.(λp.(p (o (λa.(λs.(s (a (λd.(λf.(f (d (λg.(λh.(h (g (λj.(λk.(λl.l)))))))))))))))))))) (λz.(λx.(λc.(λv.(λb.(λn.b))))))) (λm.m)) (λq_1.q_1)) (λw_1.w_1)) (λe_1.e_1))\n",
      "21: ((((((λq.((((λw.(λe.(w (w e)))) (λr.(λt.(t (r (λy.(λu.(u (y (λi.(λo.(o (i (λp.(λa.(a (p (λs.(λd.(d (s (λf.(λg.(λh.h)))))))))))))))))))))))) (λj.q)) (λk.k))) (λl.(λz.(λx.(λc.(λv.(λb.v))))))) (λn.n)) (λm.m)) (λq_1.q_1)) (λw_1.w_1))\n",
      "22: ((((((((λq.(λw.(q (q w)))) (λe.(λr.(r (e (λt.(λy.(y (t (λu.(λi.(i (u (λo.(λp.(p (o (λa.(λs.(s (a (λd.(λf.(λg.g)))))))))))))))))))))))) (λh.(λj.(λk.(λl.(λz.(λx.(λc.x)))))))) (λv.v)) (λb.b)) (λn.n)) (λm.m)) (λq_1.q_1))\n",
      "23: (((((((λe_1.((λr_1.(λt_1.(t_1 (r_1 (λy_1.(λu_1.(u_1 (y_1 (λi_1.(λo_1.(o_1 (i_1 (λp_1.(λa_1.(a_1 (p_1 (λs_1.(λd_1.(d_1 (s_1 (λq.(λw.(λe.e))))))))))))))))))))))) ((λr.(λt.(t (r (λy.(λu.(u (y (λi.(λo.(o (i (λp.(λa.(a (p (λs.(λd.(d (s (λf.(λg.(λh.h))))))))))))))))))))))) e_1))) (λj.(λk.(λl.(λz.(λx.(λc.(λv.c)))))))) (λb.b)) (λn.n)) (λm.m)) (λq_1.q_1)) (λw_1.w_1))\n",
      "24: (((((((λq.(λw.(w (q (λe.(λr.(r (e (λt.(λy.(y (t (λu.(λi.(i (u (λo.(λp.(p (o (λa.(λs.(λd.d))))))))))))))))))))))) ((λf.(λg.(g (f (λh.(λj.(j (h (λk.(λl.(l (k (λz.(λx.(x (z (λc.(λv.(v (c (λb.(λn.(λm.m))))))))))))))))))))))) (λq_1.(λw_1.(λe_1.(λr_1.(λt_1.(λy_1.(λu_1.y_1))))))))) (λi_1.i_1)) (λo_1.o_1)) (λp_1.p_1)) (λa_1.a_1)) (λs_1.s_1))\n",
      "25: ((((((λq.(q (((λw.(λe.(e (w (λr.(λt.(t (r (λy.(λu.(u (y (λi.(λo.(o (i (λp.(λa.(a (p (λs.(λd.(λf.f))))))))))))))))))))))) (λg.(λh.(λj.(λk.(λl.(λz.(λx.z)))))))) (λc.(λv.(v (c (λb.(λn.(n (b (λm.(λq_1.(q_1 (m (λw_1.(λe_1.(e_1 (w_1 (λr_1.(λt_1.(λy_1.y_1)))))))))))))))))))))) (λu_1.u_1)) (λi_1.i_1)) (λo_1.o_1)) (λp_1.p_1)) (λa_1.a_1))\n",
      "26: ((((((λs.s) (((λd.(λf.(f (d (λg.(λh.(h (g (λj.(λk.(k (j (λl.(λz.(z (l (λx.(λc.(c (x (λv.(λb.(λn.n))))))))))))))))))))))) (λm.(λq_1.(λw_1.(λe_1.(λr_1.(λt_1.(λy_1.t_1)))))))) (λu_1.(λi_1.(i_1 (u_1 (λo_1.(λp_1.(p_1 (o_1 (λq.(λw.(w (q (λe.(λr.(r (e (λt.(λy.(λu.u))))))))))))))))))))) (λi.i)) (λo.o)) (λp.p)) (λa.a))\n",
      "27: (((((((λq.(λw.(w (q (λe.(λr.(r (e (λt.(λy.(y (t (λu.(λi.(i (u (λo.(λp.(p (o (λa.(λs.(λd.d))))))))))))))))))))))) (λf.(λg.(λh.(λj.(λk.(λl.(λz.l)))))))) (λx.(λc.(c (x (λv.(λb.(b (v (λn.(λm.(m (n (λq_1.(λw_1.(w_1 (q_1 (λe_1.(λr_1.(λt_1.t_1)))))))))))))))))))) (λy_1.y_1)) (λu_1.u_1)) (λi_1.i_1)) (λo_1.o_1))\n",
      "28: ((((((λq.(q ((λw.(λe.(λr.(λt.(λy.(λu.(λi.u))))))) (λo.(λp.(p (o (λa.(λs.(s (a (λd.(λf.(f (d (λg.(λh.(h (g (λj.(λk.(λl.l)))))))))))))))))))))) (λz.(λx.(x (z (λc.(λv.(v (c (λb.(λn.(n (b (λm.(λq_1.(q_1 (m (λw_1.(λe_1.(λr_1.r_1)))))))))))))))))))) (λt_1.t_1)) (λy_1.y_1)) (λu_1.u_1)) (λi_1.i_1))\n",
      "29: ((((((λq.(λw.(w (q (λe.(λr.(r (e (λt.(λy.(y (t (λu.(λi.(i (u (λo.(λp.(λa.a))))))))))))))))))) ((λs.(λd.(λf.(λg.(λh.(λj.(λk.j))))))) (λl.(λz.(z (l (λx.(λc.(c (x (λv.(λb.(b (v (λn.(λm.(m (n (λq_1.(λw_1.(λe_1.e_1))))))))))))))))))))) (λr_1.r_1)) (λt_1.t_1)) (λy_1.y_1)) (λu_1.u_1))\n",
      "30: (((((λk.(k (((λl.(λz.(λx.(λc.(λv.(λb.(λn.b))))))) (λm.(λq_1.(q_1 (m (λw_1.(λe_1.(e_1 (w_1 (λr_1.(λt_1.(t_1 (r_1 (λy_1.(λq.(q (y_1 (λw.(λe.(λr.r)))))))))))))))))))) (λt.(λy.(y (t (λu.(λi.(i (u (λo.(λp.(p (o (λa.(λs.(λd.d)))))))))))))))))) (λf.f)) (λg.g)) (λh.h)) (λj.j))\n",
      "31: (((((λq.q) (((λw.(λe.(λr.(λt.(λy.(λu.(λi.u))))))) (λo.(λp.(p (o (λa.(λs.(s (a (λd.(λf.(f (d (λg.(λh.(h (g (λj.(λk.(λl.l)))))))))))))))))))) (λz.(λx.(x (z (λc.(λv.(v (c (λb.(λn.(n (b (λm.(λq_1.(λw_1.w_1))))))))))))))))) (λe_1.e_1)) (λr_1.r_1)) (λt_1.t_1))\n",
      "32: ((((((λq.(λw.(λe.(λr.(λt.(λy.(λu.y))))))) (λi.(λo.(o (i (λp.(λa.(a (p (λs.(λd.(d (s (λf.(λg.(g (f (λh.(λj.(λk.k)))))))))))))))))))) (λl.(λz.(z (l (λx.(λc.(c (x (λv.(λb.(b (v (λn.(λm.(λq_1.q_1)))))))))))))))) (λw_1.w_1)) (λe_1.e_1)) (λr_1.r_1))\n",
      "33: (((((λq.(λw.(λe.(λr.(λt.(λy.t)))))) (λu.(λi.(i (u (λo.(λp.(p (o (λa.(λs.(s (a (λd.(λf.(λg.g)))))))))))))))) (λh.h)) (λj.j)) (λk.k))\n",
      "34: ((((λq.(λw.(λe.(λr.(λt.r))))) (λy.y)) (λu.u)) (λi.i))\n",
      "35: (((λq.(λw.(λe.(λr.e)))) (λt.t)) (λy.y))\n",
      "36: ((λe.(λr.(λq.r))) (λw.w))\n",
      "37: (λq.(λw.q))\n",
      "\n",
      "\n",
      "reduction steps: 37\n",
      "norm term:       (λq.(λw.q))\n"
     ]
    }
   ],
   "source": [
    "def term_test_11():\n",
    "    return multi_app_term(leq_term(), num_term(2), num_term(5))\n",
    "\n",
    "\n",
    "test_procedure(term_test_11(), steps_lim=100)"
   ],
   "metadata": {
    "collapsed": false
   }
  },
  {
   "cell_type": "markdown",
   "source": [
    "# <span style=\"color: #A1F99C\">12.</span>\n",
    "<span style=\"color:#bb91f3\">(EQ 2 2)</span> == <span style=\"color:#f1bd47\">TRUE</span> == <span style=\"color:#f1bd47\">λx. λy. x</span>"
   ],
   "metadata": {
    "collapsed": false
   }
  },
  {
   "cell_type": "code",
   "execution_count": 15,
   "outputs": [
    {
     "name": "stdout",
     "output_type": "stream",
     "text": [
      "0: (((λq.(λw.(((λe.(λr.((((λt.(λy.(λu.((t y) u)))) e) r) e))) (((λi.(λo.((λp.((p (λa.(λs.(λd.d)))) (λf.(λg.f)))) (((λh.(λj.((j (λk.(λl.(λz.(((k (λx.(λc.(c (x l))))) (λv.z)) (λb.b)))))) h))) i) o)))) q) w)) (((λn.(λm.((λq_1.((q_1 (λw_1.(λe_1.(λr_1.r_1)))) (λt_1.(λy_1.t_1)))) (((λu_1.(λi_1.((i_1 (λo_1.(λp_1.(λa_1.(((o_1 (λs_1.(λd_1.(d_1 (s_1 p_1))))) (λf_1.a_1)) (λg_1.g_1)))))) u_1))) n) m)))) w) q)))) (λh_1.(λj_1.(h_1 (h_1 j_1))))) (λk_1.(λl_1.(k_1 (k_1 l_1)))))\n",
      "1: ((λq.(((λw.(λe.((((λr.(λt.(λy.((r t) y)))) w) e) w))) (((λu.(λi.((λo.((o (λp.(λa.(λs.s)))) (λd.(λf.d)))) (((λg.(λh.((h (λj.(λk.(λl.(((j (λz.(λx.(x (z k))))) (λc.l)) (λv.v)))))) g))) u) i)))) (λb.(λn.(b (b n))))) q)) (((λm.(λq_1.((λw_1.((w_1 (λe_1.(λr_1.(λt_1.t_1)))) (λy_1.(λu_1.y_1)))) (((λi_1.(λo_1.((o_1 (λp_1.(λa_1.(λs_1.(((p_1 (λd_1.(λf_1.(f_1 (d_1 a_1))))) (λg_1.s_1)) (λh_1.h_1)))))) i_1))) m) q_1)))) q) (λj_1.(λk_1.(j_1 (j_1 k_1))))))) (λl_1.(λz_1.(l_1 (l_1 z_1)))))\n",
      "2: (((λh_1.(λj_1.((((λk_1.(λl_1.(λz_1.((k_1 l_1) z_1)))) h_1) j_1) h_1))) (((λx_1.(λq.((λw.((w (λe.(λr.(λt.t)))) (λy.(λu.y)))) (((λi.(λo.((o (λp.(λa.(λs.(((p (λd.(λf.(f (d a))))) (λg.s)) (λh.h)))))) i))) x_1) q)))) (λj.(λk.(j (j k))))) (λl.(λz.(l (l z)))))) (((λx.(λc.((λv.((v (λb.(λn.(λm.m)))) (λq_1.(λw_1.q_1)))) (((λe_1.(λr_1.((r_1 (λt_1.(λy_1.(λu_1.(((t_1 (λi_1.(λo_1.(o_1 (i_1 y_1))))) (λp_1.u_1)) (λa_1.a_1)))))) e_1))) x) c)))) (λs_1.(λd_1.(s_1 (s_1 d_1))))) (λf_1.(λg_1.(f_1 (f_1 g_1))))))\n",
      "3: ((λq.((((λw.(λe.(λr.((w e) r)))) (((λt.(λy.((λu.((u (λi.(λo.(λp.p)))) (λa.(λs.a)))) (((λd.(λf.((f (λg.(λh.(λj.(((g (λk.(λl.(l (k h))))) (λz.j)) (λx.x)))))) d))) t) y)))) (λc.(λv.(c (c v))))) (λb.(λn.(b (b n)))))) q) (((λm.(λq_1.((λw_1.((w_1 (λe_1.(λr_1.(λt_1.t_1)))) (λy_1.(λu_1.y_1)))) (((λi_1.(λo_1.((o_1 (λp_1.(λa_1.(λs_1.(((p_1 (λd_1.(λf_1.(f_1 (d_1 a_1))))) (λg_1.s_1)) (λh_1.h_1)))))) i_1))) m) q_1)))) (λj_1.(λk_1.(j_1 (j_1 k_1))))) (λl_1.(λz_1.(l_1 (l_1 z_1))))))) (((λx_1.(λc_1.((λv_1.((v_1 (λb_1.(λn_1.(λm_1.m_1)))) (λq_2.(λw_2.q_2)))) (((λe_2.(λr_2.((r_2 (λt_2.(λy_2.(λu_2.(((t_2 (λi_2.(λo_2.(o_2 (i_2 y_2))))) (λp_2.u_2)) (λa_2.a_2)))))) e_2))) x_1) c_1)))) (λs_2.(λd_2.(s_2 (s_2 d_2))))) (λf_2.(λg_2.(f_2 (f_2 g_2))))))\n",
      "4: ((((λx_1.(λc_1.(λv_1.((x_1 c_1) v_1)))) (((λb_1.(λn_1.((λm_1.((m_1 (λq_2.(λw_2.(λe_2.e_2)))) (λr_2.(λt_2.r_2)))) (((λy_2.(λu_2.((u_2 (λi_2.(λo_2.(λp_2.(((i_2 (λa_2.(λs_2.(s_2 (a_2 o_2))))) (λd_2.p_2)) (λf_2.f_2)))))) y_2))) b_1) n_1)))) (λq.(λw.(q (q w))))) (λe.(λr.(e (e r)))))) (((λt.(λy.((λu.((u (λi.(λo.(λp.p)))) (λa.(λs.a)))) (((λd.(λf.((f (λg.(λh.(λj.(((g (λk.(λl.(l (k h))))) (λz.j)) (λx.x)))))) d))) t) y)))) (λc.(λv.(c (c v))))) (λb.(λn.(b (b n)))))) (((λm.(λq_1.((λw_1.((w_1 (λe_1.(λr_1.(λt_1.t_1)))) (λy_1.(λu_1.y_1)))) (((λi_1.(λo_1.((o_1 (λp_1.(λa_1.(λs_1.(((p_1 (λd_1.(λf_1.(f_1 (d_1 a_1))))) (λg_1.s_1)) (λh_1.h_1)))))) i_1))) m) q_1)))) (λj_1.(λk_1.(j_1 (j_1 k_1))))) (λl_1.(λz_1.(l_1 (l_1 z_1))))))\n",
      "5: (((λq.(λw.(((((λe.(λr.((λt.((t (λy.(λu.(λi.i)))) (λo.(λp.o)))) (((λa.(λs.((s (λd.(λf.(λg.(((d (λh.(λj.(j (h f))))) (λk.g)) (λl.l)))))) a))) e) r)))) (λz.(λx.(z (z x))))) (λc.(λv.(c (c v))))) q) w))) (((λb.(λn.((λm.((m (λq_1.(λw_1.(λe_1.e_1)))) (λr_1.(λt_1.r_1)))) (((λy_1.(λu_1.((u_1 (λi_1.(λo_1.(λp_1.(((i_1 (λa_1.(λs_1.(s_1 (a_1 o_1))))) (λd_1.p_1)) (λf_1.f_1)))))) y_1))) b) n)))) (λg_1.(λh_1.(g_1 (g_1 h_1))))) (λj_1.(λk_1.(j_1 (j_1 k_1)))))) (((λl_1.(λz_1.((λx_1.((x_1 (λc_1.(λv_1.(λb_1.b_1)))) (λn_1.(λm_1.n_1)))) (((λq_2.(λw_2.((w_2 (λe_2.(λr_2.(λt_2.(((e_2 (λy_2.(λu_2.(u_2 (y_2 r_2))))) (λi_2.t_2)) (λo_2.o_2)))))) q_2))) l_1) z_1)))) (λp_2.(λa_2.(p_2 (p_2 a_2))))) (λs_2.(λd_2.(s_2 (s_2 d_2))))))\n",
      "6: ((λc_1.(((((λv_1.(λb_1.((λn_1.((n_1 (λm_1.(λq_2.(λw_2.w_2)))) (λe_2.(λr_2.e_2)))) (((λt_2.(λy_2.((y_2 (λu_2.(λi_2.(λo_2.(((u_2 (λp_2.(λa_2.(a_2 (p_2 i_2))))) (λs_2.o_2)) (λq.q)))))) t_2))) v_1) b_1)))) (λw.(λe.(w (w e))))) (λr.(λt.(r (r t))))) (((λy.(λu.((λi.((i (λo.(λp.(λa.a)))) (λs.(λd.s)))) (((λf.(λg.((g (λh.(λj.(λk.(((h (λl.(λz.(z (l j))))) (λx.k)) (λc.c)))))) f))) y) u)))) (λv.(λb.(v (v b))))) (λn.(λm.(n (n m)))))) c_1)) (((λq_1.(λw_1.((λe_1.((e_1 (λr_1.(λt_1.(λy_1.y_1)))) (λu_1.(λi_1.u_1)))) (((λo_1.(λp_1.((p_1 (λa_1.(λs_1.(λd_1.(((a_1 (λf_1.(λg_1.(g_1 (f_1 s_1))))) (λh_1.d_1)) (λj_1.j_1)))))) o_1))) q_1) w_1)))) (λk_1.(λl_1.(k_1 (k_1 l_1))))) (λz_1.(λx_1.(z_1 (z_1 x_1))))))\n",
      "7: (((((λq.(λw.((λe.((e (λr.(λt.(λy.y)))) (λu.(λi.u)))) (((λo.(λp.((p (λa.(λs.(λd.(((a (λf.(λg.(g (f s))))) (λh.d)) (λj.j)))))) o))) q) w)))) (λk.(λl.(k (k l))))) (λz.(λx.(z (z x))))) (((λc.(λv.((λb.((b (λn.(λm.(λq_1.q_1)))) (λw_1.(λe_1.w_1)))) (((λr_1.(λt_1.((t_1 (λy_1.(λu_1.(λi_1.(((y_1 (λo_1.(λp_1.(p_1 (o_1 u_1))))) (λa_1.i_1)) (λs_1.s_1)))))) r_1))) c) v)))) (λd_1.(λf_1.(d_1 (d_1 f_1))))) (λg_1.(λh_1.(g_1 (g_1 h_1)))))) (((λj_1.(λk_1.((λl_1.((l_1 (λz_1.(λx_1.(λc_1.c_1)))) (λv_1.(λb_1.v_1)))) (((λn_1.(λm_1.((m_1 (λq_2.(λw_2.(λe_2.(((q_2 (λr_2.(λt_2.(t_2 (r_2 w_2))))) (λy_2.e_2)) (λu_2.u_2)))))) n_1))) j_1) k_1)))) (λi_2.(λo_2.(i_2 (i_2 o_2))))) (λp_2.(λa_2.(p_2 (p_2 a_2))))))\n",
      "8: ((((λl_1.((λz_1.((z_1 (λx_1.(λc_1.(λv_1.v_1)))) (λb_1.(λn_1.b_1)))) (((λm_1.(λq_2.((q_2 (λw_2.(λe_2.(λr_2.(((w_2 (λt_2.(λy_2.(y_2 (t_2 e_2))))) (λu_2.r_2)) (λi_2.i_2)))))) m_1))) (λo_2.(λp_2.(o_2 (o_2 p_2))))) l_1))) (λq.(λw.(q (q w))))) (((λe.(λr.((λt.((t (λy.(λu.(λi.i)))) (λo.(λp.o)))) (((λa.(λs.((s (λd.(λf.(λg.(((d (λh.(λj.(j (h f))))) (λk.g)) (λl.l)))))) a))) e) r)))) (λz.(λx.(z (z x))))) (λc.(λv.(c (c v)))))) (((λb.(λn.((λm.((m (λq_1.(λw_1.(λe_1.e_1)))) (λr_1.(λt_1.r_1)))) (((λy_1.(λu_1.((u_1 (λi_1.(λo_1.(λp_1.(((i_1 (λa_1.(λs_1.(s_1 (a_1 o_1))))) (λd_1.p_1)) (λf_1.f_1)))))) y_1))) b) n)))) (λg_1.(λh_1.(g_1 (g_1 h_1))))) (λj_1.(λk_1.(j_1 (j_1 k_1))))))\n",
      "9: ((((λq.((q (λw.(λe.(λr.r)))) (λt.(λy.t)))) (((λu.(λi.((i (λo.(λp.(λa.(((o (λs.(λd.(d (s p))))) (λf.a)) (λg.g)))))) u))) (λh.(λj.(h (h j))))) (λk.(λl.(k (k l)))))) (((λz.(λx.((λc.((c (λv.(λb.(λn.n)))) (λm.(λq_1.m)))) (((λw_1.(λe_1.((e_1 (λr_1.(λt_1.(λy_1.(((r_1 (λu_1.(λi_1.(i_1 (u_1 t_1))))) (λo_1.y_1)) (λp_1.p_1)))))) w_1))) z) x)))) (λa_1.(λs_1.(a_1 (a_1 s_1))))) (λd_1.(λf_1.(d_1 (d_1 f_1)))))) (((λg_1.(λh_1.((λj_1.((j_1 (λk_1.(λl_1.(λz_1.z_1)))) (λx_1.(λc_1.x_1)))) (((λv_1.(λb_1.((b_1 (λn_1.(λm_1.(λq_2.(((n_1 (λw_2.(λe_2.(e_2 (w_2 m_1))))) (λr_2.q_2)) (λt_2.t_2)))))) v_1))) g_1) h_1)))) (λy_2.(λu_2.(y_2 (y_2 u_2))))) (λi_2.(λo_2.(i_2 (i_2 o_2))))))\n",
      "10: (((((((λs_1.(λd_1.((d_1 (λf_1.(λg_1.(λh_1.(((f_1 (λj_1.(λk_1.(k_1 (j_1 g_1))))) (λl_1.h_1)) (λz_1.z_1)))))) s_1))) (λx_1.(λc_1.(x_1 (x_1 c_1))))) (λv_1.(λb_1.(v_1 (v_1 b_1))))) (λn_1.(λm_1.(λq_2.q_2)))) (λw_2.(λe_2.w_2))) (((λr_2.(λt_2.((λy_2.((y_2 (λu_2.(λi_2.(λq.q)))) (λw.(λe.w)))) (((λr.(λt.((t (λy.(λu.(λi.(((y (λo.(λp.(p (o u))))) (λa.i)) (λs.s)))))) r))) r_2) t_2)))) (λd.(λf.(d (d f))))) (λg.(λh.(g (g h)))))) (((λj.(λk.((λl.((l (λz.(λx.(λc.c)))) (λv.(λb.v)))) (((λn.(λm.((m (λq_1.(λw_1.(λe_1.(((q_1 (λr_1.(λt_1.(t_1 (r_1 w_1))))) (λy_1.e_1)) (λu_1.u_1)))))) n))) j) k)))) (λi_1.(λo_1.(i_1 (i_1 o_1))))) (λp_1.(λa_1.(p_1 (p_1 a_1))))))\n",
      "11: ((((((λq.((q (λw.(λe.(λr.(((w (λt.(λy.(y (t e))))) (λu.r)) (λi.i)))))) (λo.(λp.(o (o p)))))) (λa.(λs.(a (a s))))) (λd.(λf.(λg.g)))) (λh.(λj.h))) (((λk.(λl.((λz.((z (λx.(λc.(λv.v)))) (λb.(λn.b)))) (((λm.(λq_1.((q_1 (λw_1.(λe_1.(λr_1.(((w_1 (λt_1.(λy_1.(y_1 (t_1 e_1))))) (λu_1.r_1)) (λi_1.i_1)))))) m))) k) l)))) (λo_1.(λp_1.(o_1 (o_1 p_1))))) (λa_1.(λs_1.(a_1 (a_1 s_1)))))) (((λd_1.(λf_1.((λg_1.((g_1 (λh_1.(λj_1.(λk_1.k_1)))) (λl_1.(λz_1.l_1)))) (((λx_1.(λc_1.((c_1 (λv_1.(λb_1.(λn_1.(((v_1 (λm_1.(λq_2.(q_2 (m_1 b_1))))) (λw_2.n_1)) (λe_2.e_2)))))) x_1))) d_1) f_1)))) (λr_2.(λt_2.(r_2 (r_2 t_2))))) (λy_2.(λu_2.(y_2 (y_2 u_2))))))\n",
      "12: (((((((λq_1.(λw_1.(q_1 (q_1 w_1)))) (λe_1.(λr_1.(λt_1.(((e_1 (λy_1.(λu_1.(u_1 (y_1 r_1))))) (λi_1.t_1)) (λo_1.o_1)))))) (λp_1.(λa_1.(p_1 (p_1 a_1))))) (λs_1.(λd_1.(λf_1.f_1)))) (λg_1.(λh_1.g_1))) (((λj_1.(λk_1.((λl_1.((l_1 (λz_1.(λx_1.(λc_1.c_1)))) (λv_1.(λb_1.v_1)))) (((λn_1.(λm_1.((m_1 (λq_2.(λw_2.(λe_2.(((q_2 (λr_2.(λt_2.(t_2 (r_2 w_2))))) (λy_2.e_2)) (λq.q)))))) n_1))) j_1) k_1)))) (λw.(λe.(w (w e))))) (λr.(λt.(r (r t)))))) (((λy.(λu.((λi.((i (λo.(λp.(λa.a)))) (λs.(λd.s)))) (((λf.(λg.((g (λh.(λj.(λk.(((h (λl.(λz.(z (l j))))) (λx.k)) (λc.c)))))) f))) y) u)))) (λv.(λb.(v (v b))))) (λn.(λm.(n (n m))))))\n",
      "13: ((((((λq.((λw.(λe.(λr.(((w (λt.(λy.(y (t e))))) (λu.r)) (λi.i))))) ((λo.(λp.(λa.(((o (λs.(λd.(d (s p))))) (λf.a)) (λg.g))))) q))) (λh.(λj.(h (h j))))) (λk.(λl.(λz.z)))) (λx.(λc.x))) (((λv.(λb.((λn.((n (λm.(λq_1.(λw_1.w_1)))) (λe_1.(λr_1.e_1)))) (((λt_1.(λy_1.((y_1 (λu_1.(λi_1.(λo_1.(((u_1 (λp_1.(λa_1.(a_1 (p_1 i_1))))) (λs_1.o_1)) (λd_1.d_1)))))) t_1))) v) b)))) (λf_1.(λg_1.(f_1 (f_1 g_1))))) (λh_1.(λj_1.(h_1 (h_1 j_1)))))) (((λk_1.(λl_1.((λz_1.((z_1 (λx_1.(λc_1.(λv_1.v_1)))) (λb_1.(λn_1.b_1)))) (((λm_1.(λq_2.((q_2 (λw_2.(λe_2.(λr_2.(((w_2 (λt_2.(λy_2.(y_2 (t_2 e_2))))) (λu_2.r_2)) (λi_2.i_2)))))) m_1))) k_1) l_1)))) (λo_2.(λp_2.(o_2 (o_2 p_2))))) (λa_2.(λs_2.(a_2 (a_2 s_2))))))\n",
      "14: ((((((λm.(λq_1.(λw_1.(((m (λe_1.(λr_1.(r_1 (e_1 q_1))))) (λt_1.w_1)) (λy_1.y_1))))) ((λu_1.(λi_1.(λo_1.(((u_1 (λp_1.(λa_1.(a_1 (p_1 i_1))))) (λs_1.o_1)) (λd_1.d_1))))) (λf_1.(λg_1.(f_1 (f_1 g_1)))))) (λh_1.(λj_1.(λk_1.k_1)))) (λl_1.(λz_1.l_1))) (((λx_1.(λc_1.((λv_1.((v_1 (λb_1.(λn_1.(λm_1.m_1)))) (λq_2.(λw_2.q_2)))) (((λe_2.(λr_2.((r_2 (λt_2.(λy_2.(λu_2.(((t_2 (λi_2.(λo_2.(o_2 (i_2 y_2))))) (λp_2.u_2)) (λa_2.a_2)))))) e_2))) x_1) c_1)))) (λq.(λw.(q (q w))))) (λe.(λr.(e (e r)))))) (((λt.(λy.((λu.((u (λi.(λo.(λp.p)))) (λa.(λs.a)))) (((λd.(λf.((f (λg.(λh.(λj.(((g (λk.(λl.(l (k h))))) (λz.j)) (λx.x)))))) d))) t) y)))) (λc.(λv.(c (c v))))) (λb.(λn.(b (b n))))))\n",
      "15: (((((λq.(λw.(((((λe.(λr.(λt.(((e (λy.(λu.(u (y r))))) (λi.t)) (λo.o))))) (λp.(λa.(p (p a))))) (λs.(λd.(d (s q))))) (λf.w)) (λg.g)))) (λh.(λj.(λk.k)))) (λl.(λz.l))) (((λx.(λc.((λv.((v (λb.(λn.(λm.m)))) (λq_1.(λw_1.q_1)))) (((λe_1.(λr_1.((r_1 (λt_1.(λy_1.(λu_1.(((t_1 (λi_1.(λo_1.(o_1 (i_1 y_1))))) (λp_1.u_1)) (λa_1.a_1)))))) e_1))) x) c)))) (λs_1.(λd_1.(s_1 (s_1 d_1))))) (λf_1.(λg_1.(f_1 (f_1 g_1)))))) (((λh_1.(λj_1.((λk_1.((k_1 (λl_1.(λz_1.(λx_1.x_1)))) (λc_1.(λv_1.c_1)))) (((λb_1.(λn_1.((n_1 (λm_1.(λq_2.(λw_2.(((m_1 (λe_2.(λr_2.(r_2 (e_2 q_2))))) (λt_2.w_2)) (λy_2.y_2)))))) b_1))) h_1) j_1)))) (λu_2.(λi_2.(u_2 (u_2 i_2))))) (λo_2.(λp_2.(o_2 (o_2 p_2))))))\n",
      "16: ((((λx.(((((λc.(λv.(λb.(((c (λn.(λm.(m (n v))))) (λq_1.b)) (λw_1.w_1))))) (λe_1.(λr_1.(e_1 (e_1 r_1))))) (λt_1.(λy_1.(y_1 (t_1 (λu_1.(λi_1.(λo_1.o_1)))))))) (λp_1.x)) (λa_1.a_1))) (λs_1.(λd_1.s_1))) (((λf_1.(λg_1.((λh_1.((h_1 (λj_1.(λk_1.(λl_1.l_1)))) (λz_1.(λx_1.z_1)))) (((λc_1.(λv_1.((v_1 (λb_1.(λn_1.(λm_1.(((b_1 (λq_2.(λw_2.(w_2 (q_2 n_1))))) (λe_2.m_1)) (λr_2.r_2)))))) c_1))) f_1) g_1)))) (λt_2.(λy_2.(t_2 (t_2 y_2))))) (λu_2.(λi_2.(u_2 (u_2 i_2)))))) (((λo_2.(λq.((λw.((w (λe.(λr.(λt.t)))) (λy.(λu.y)))) (((λi.(λo.((o (λp.(λa.(λs.(((p (λd.(λf.(f (d a))))) (λg.s)) (λh.h)))))) i))) o_2) q)))) (λj.(λk.(j (j k))))) (λl.(λz.(l (l z))))))\n",
      "17: (((((((λq.(λw.(λe.(((q (λr.(λt.(t (r w))))) (λy.e)) (λu.u))))) (λi.(λo.(i (i o))))) (λp.(λa.(a (p (λs.(λd.(λf.f)))))))) (λg.(λh.(λj.h)))) (λk.k)) (((λl.(λz.((λx.((x (λc.(λv.(λb.b)))) (λn.(λm.n)))) (((λq_1.(λw_1.((w_1 (λe_1.(λr_1.(λt_1.(((e_1 (λy_1.(λu_1.(u_1 (y_1 r_1))))) (λi_1.t_1)) (λo_1.o_1)))))) q_1))) l) z)))) (λp_1.(λa_1.(p_1 (p_1 a_1))))) (λs_1.(λd_1.(s_1 (s_1 d_1)))))) (((λf_1.(λg_1.((λh_1.((h_1 (λj_1.(λk_1.(λl_1.l_1)))) (λz_1.(λx_1.z_1)))) (((λc_1.(λv_1.((v_1 (λb_1.(λn_1.(λm_1.(((b_1 (λq_2.(λw_2.(w_2 (q_2 n_1))))) (λe_2.m_1)) (λr_2.r_2)))))) c_1))) f_1) g_1)))) (λt_2.(λy_2.(t_2 (t_2 y_2))))) (λu_2.(λi_2.(u_2 (u_2 i_2))))))\n",
      "18: ((((((λs.(λd.((((λf.(λg.(f (f g)))) (λh.(λj.(j (h s))))) (λk.d)) (λl.l)))) (λz.(λx.(x (z (λc.(λv.(λb.b)))))))) (λn.(λm.(λq_1.m)))) (λw_1.w_1)) (((λe_1.(λr_1.((λt_1.((t_1 (λy_1.(λu_1.(λi_1.i_1)))) (λo_1.(λp_1.o_1)))) (((λa_1.(λs_1.((s_1 (λd_1.(λf_1.(λg_1.(((d_1 (λh_1.(λj_1.(j_1 (h_1 f_1))))) (λk_1.g_1)) (λl_1.l_1)))))) a_1))) e_1) r_1)))) (λz_1.(λx_1.(z_1 (z_1 x_1))))) (λc_1.(λv_1.(c_1 (c_1 v_1)))))) (((λb_1.(λn_1.((λm_1.((m_1 (λq_2.(λw_2.(λe_2.e_2)))) (λr_2.(λt_2.r_2)))) (((λy_2.(λu_2.((u_2 (λq.(λw.(λe.(((q (λr.(λt.(t (r w))))) (λy.e)) (λu.u)))))) y_2))) b_1) n_1)))) (λi.(λo.(i (i o))))) (λp.(λa.(p (p a))))))\n",
      "19: (((((λq.((((λw.(λe.(w (w e)))) (λr.(λt.(t (r (λy.(λu.(u (y (λi.(λo.(λp.p)))))))))))) (λa.q)) (λs.s))) (λd.(λf.(λg.f)))) (λh.h)) (((λj.(λk.((λl.((l (λz.(λx.(λc.c)))) (λv.(λb.v)))) (((λn.(λm.((m (λq_1.(λw_1.(λe_1.(((q_1 (λr_1.(λt_1.(t_1 (r_1 w_1))))) (λy_1.e_1)) (λu_1.u_1)))))) n))) j) k)))) (λi_1.(λo_1.(i_1 (i_1 o_1))))) (λp_1.(λa_1.(p_1 (p_1 a_1)))))) (((λs_1.(λd_1.((λf_1.((f_1 (λg_1.(λh_1.(λj_1.j_1)))) (λk_1.(λl_1.k_1)))) (((λz_1.(λx_1.((x_1 (λc_1.(λv_1.(λb_1.(((c_1 (λn_1.(λm_1.(m_1 (n_1 v_1))))) (λq_2.b_1)) (λw_2.w_2)))))) z_1))) s_1) d_1)))) (λe_2.(λr_2.(e_2 (e_2 r_2))))) (λt_2.(λy_2.(t_2 (t_2 y_2))))))\n",
      "20: (((((((λq.(λw.(q (q w)))) (λe.(λr.(r (e (λt.(λy.(y (t (λu.(λi.(λo.o)))))))))))) (λp.(λa.(λs.(λd.s))))) (λf.f)) (λg.g)) (((λh.(λj.((λk.((k (λl.(λz.(λx.x)))) (λc.(λv.c)))) (((λb.(λn.((n (λm.(λq_1.(λw_1.(((m (λe_1.(λr_1.(r_1 (e_1 q_1))))) (λt_1.w_1)) (λy_1.y_1)))))) b))) h) j)))) (λu_1.(λi_1.(u_1 (u_1 i_1))))) (λo_1.(λp_1.(o_1 (o_1 p_1)))))) (((λa_1.(λs_1.((λd_1.((d_1 (λf_1.(λg_1.(λh_1.h_1)))) (λj_1.(λk_1.j_1)))) (((λl_1.(λz_1.((z_1 (λx_1.(λc_1.(λv_1.(((x_1 (λb_1.(λn_1.(n_1 (b_1 c_1))))) (λm_1.v_1)) (λq_2.q_2)))))) l_1))) a_1) s_1)))) (λw_2.(λe_2.(w_2 (w_2 e_2))))) (λr_2.(λt_2.(r_2 (r_2 t_2))))))\n",
      "21: ((((((λp_2.((λa_2.(λq.(q (a_2 (λw.(λe.(e (w (λr.(λt.(λy.y))))))))))) ((λu.(λi.(i (u (λo.(λp.(p (o (λa.(λs.(λd.d))))))))))) p_2))) (λf.(λg.(λh.(λj.h))))) (λk.k)) (λl.l)) (((λz.(λx.((λc.((c (λv.(λb.(λn.n)))) (λm.(λq_1.m)))) (((λw_1.(λe_1.((e_1 (λr_1.(λt_1.(λy_1.(((r_1 (λu_1.(λi_1.(i_1 (u_1 t_1))))) (λo_1.y_1)) (λp_1.p_1)))))) w_1))) z) x)))) (λa_1.(λs_1.(a_1 (a_1 s_1))))) (λd_1.(λf_1.(d_1 (d_1 f_1)))))) (((λg_1.(λh_1.((λj_1.((j_1 (λk_1.(λl_1.(λz_1.z_1)))) (λx_1.(λc_1.x_1)))) (((λv_1.(λb_1.((b_1 (λn_1.(λm_1.(λq_2.(((n_1 (λw_2.(λe_2.(e_2 (w_2 m_1))))) (λr_2.q_2)) (λt_2.t_2)))))) v_1))) g_1) h_1)))) (λy_2.(λu_2.(y_2 (y_2 u_2))))) (λi_2.(λo_2.(i_2 (i_2 o_2))))))\n",
      "22: ((((((λq.(λw.(w (q (λe.(λr.(r (e (λt.(λy.(λu.u))))))))))) ((λi.(λo.(o (i (λp.(λa.(a (p (λs.(λd.(λf.f))))))))))) (λg.(λh.(λj.(λk.j)))))) (λl.l)) (λz.z)) (((λx.(λc.((λv.((v (λb.(λn.(λm.m)))) (λq_1.(λw_1.q_1)))) (((λe_1.(λr_1.((r_1 (λt_1.(λy_1.(λu_1.(((t_1 (λi_1.(λo_1.(o_1 (i_1 y_1))))) (λp_1.u_1)) (λa_1.a_1)))))) e_1))) x) c)))) (λs_1.(λd_1.(s_1 (s_1 d_1))))) (λf_1.(λg_1.(f_1 (f_1 g_1)))))) (((λh_1.(λj_1.((λk_1.((k_1 (λl_1.(λz_1.(λx_1.x_1)))) (λc_1.(λv_1.c_1)))) (((λb_1.(λn_1.((n_1 (λm_1.(λq_2.(λw_2.(((m_1 (λe_2.(λr_2.(r_2 (e_2 q_2))))) (λt_2.w_2)) (λy_2.y_2)))))) b_1))) h_1) j_1)))) (λu_2.(λi_2.(u_2 (u_2 i_2))))) (λo_2.(λp_2.(o_2 (o_2 p_2))))))\n",
      "23: (((((λt_2.(t_2 (((λy_2.(λu_2.(u_2 (y_2 (λi_2.(λo_2.(o_2 (i_2 (λq.(λw.(λe.e))))))))))) (λr.(λt.(λy.(λu.y))))) (λi.(λo.(o (i (λp.(λa.(λs.s)))))))))) (λd.d)) (λf.f)) (((λg.(λh.((λj.((j (λk.(λl.(λz.z)))) (λx.(λc.x)))) (((λv.(λb.((b (λn.(λm.(λq_1.(((n (λw_1.(λe_1.(e_1 (w_1 m))))) (λr_1.q_1)) (λt_1.t_1)))))) v))) g) h)))) (λy_1.(λu_1.(y_1 (y_1 u_1))))) (λi_1.(λo_1.(i_1 (i_1 o_1)))))) (((λp_1.(λa_1.((λs_1.((s_1 (λd_1.(λf_1.(λg_1.g_1)))) (λh_1.(λj_1.h_1)))) (((λk_1.(λl_1.((l_1 (λz_1.(λx_1.(λc_1.(((z_1 (λv_1.(λb_1.(b_1 (v_1 x_1))))) (λn_1.c_1)) (λm_1.m_1)))))) k_1))) p_1) a_1)))) (λq_2.(λw_2.(q_2 (q_2 w_2))))) (λe_2.(λr_2.(e_2 (e_2 r_2))))))\n",
      "24: (((((λq.q) (((λw.(λe.(e (w (λr.(λt.(t (r (λy.(λu.(λi.i))))))))))) (λo.(λp.(λa.(λs.a))))) (λd.(λf.(f (d (λg.(λh.(λj.j))))))))) (λk.k)) (((λl.(λz.((λx.((x (λc.(λv.(λb.b)))) (λn.(λm.n)))) (((λq_1.(λw_1.((w_1 (λe_1.(λr_1.(λt_1.(((e_1 (λy_1.(λu_1.(u_1 (y_1 r_1))))) (λi_1.t_1)) (λo_1.o_1)))))) q_1))) l) z)))) (λp_1.(λa_1.(p_1 (p_1 a_1))))) (λs_1.(λd_1.(s_1 (s_1 d_1)))))) (((λf_1.(λg_1.((λh_1.((h_1 (λj_1.(λk_1.(λl_1.l_1)))) (λz_1.(λx_1.z_1)))) (((λc_1.(λv_1.((v_1 (λb_1.(λn_1.(λm_1.(((b_1 (λq_2.(λw_2.(w_2 (q_2 n_1))))) (λe_2.m_1)) (λr_2.r_2)))))) c_1))) f_1) g_1)))) (λt_2.(λy_2.(t_2 (t_2 y_2))))) (λu_2.(λi_2.(u_2 (u_2 i_2))))))\n",
      "25: ((((((λc_1.(λv_1.(v_1 (c_1 (λb_1.(λn_1.(n_1 (b_1 (λm_1.(λq_2.(λw_2.w_2))))))))))) (λe_2.(λr_2.(λt_2.(λy_2.t_2))))) (λu_2.(λq.(q (u_2 (λw.(λe.(λr.r)))))))) (λt.t)) (((λy.(λu.((λi.((i (λo.(λp.(λa.a)))) (λs.(λd.s)))) (((λf.(λg.((g (λh.(λj.(λk.(((h (λl.(λz.(z (l j))))) (λx.k)) (λc.c)))))) f))) y) u)))) (λv.(λb.(v (v b))))) (λn.(λm.(n (n m)))))) (((λq_1.(λw_1.((λe_1.((e_1 (λr_1.(λt_1.(λy_1.y_1)))) (λu_1.(λi_1.u_1)))) (((λo_1.(λp_1.((p_1 (λa_1.(λs_1.(λd_1.(((a_1 (λf_1.(λg_1.(g_1 (f_1 s_1))))) (λh_1.d_1)) (λj_1.j_1)))))) o_1))) q_1) w_1)))) (λk_1.(λl_1.(k_1 (k_1 l_1))))) (λz_1.(λx_1.(z_1 (z_1 x_1))))))\n",
      "26: (((((λq.(q ((λw.(λe.(λr.(λt.r)))) (λy.(λu.(u (y (λi.(λo.(λp.p)))))))))) (λa.(λs.(s (a (λd.(λf.(λg.g)))))))) (λh.h)) (((λj.(λk.((λl.((l (λz.(λx.(λc.c)))) (λv.(λb.v)))) (((λn.(λm.((m (λq_1.(λw_1.(λe_1.(((q_1 (λr_1.(λt_1.(t_1 (r_1 w_1))))) (λy_1.e_1)) (λu_1.u_1)))))) n))) j) k)))) (λi_1.(λo_1.(i_1 (i_1 o_1))))) (λp_1.(λa_1.(p_1 (p_1 a_1)))))) (((λs_1.(λd_1.((λf_1.((f_1 (λg_1.(λh_1.(λj_1.j_1)))) (λk_1.(λl_1.k_1)))) (((λz_1.(λx_1.((x_1 (λc_1.(λv_1.(λb_1.(((c_1 (λn_1.(λm_1.(m_1 (n_1 v_1))))) (λq_2.b_1)) (λw_2.w_2)))))) z_1))) s_1) d_1)))) (λe_2.(λr_2.(e_2 (e_2 r_2))))) (λt_2.(λy_2.(t_2 (t_2 y_2))))))\n",
      "27: (((((λo_1.(λp_1.(p_1 (o_1 (λa_1.(λs_1.(λd_1.d_1))))))) ((λf_1.(λg_1.(λh_1.(λj_1.h_1)))) (λk_1.(λl_1.(l_1 (k_1 (λz_1.(λx_1.(λc_1.c_1))))))))) (λv_1.v_1)) (((λb_1.(λn_1.((λm_1.((m_1 (λq_2.(λw_2.(λe_2.e_2)))) (λr_2.(λt_2.r_2)))) (((λq.(λw.((w (λe.(λr.(λt.(((e (λy.(λu.(u (y r))))) (λi.t)) (λo.o)))))) q))) b_1) n_1)))) (λp.(λa.(p (p a))))) (λs.(λd.(s (s d)))))) (((λf.(λg.((λh.((h (λj.(λk.(λl.l)))) (λz.(λx.z)))) (((λc.(λv.((v (λb.(λn.(λm.(((b (λq_1.(λw_1.(w_1 (q_1 n))))) (λe_1.m)) (λr_1.r_1)))))) c))) f) g)))) (λt_1.(λy_1.(t_1 (t_1 y_1))))) (λu_1.(λi_1.(u_1 (u_1 i_1))))))\n",
      "28: ((((λq.(q (((λw.(λe.(λr.(λt.r)))) (λy.(λu.(u (y (λi.(λo.(λp.p)))))))) (λa.(λs.(λd.d)))))) (λf.f)) (((λg.(λh.((λj.((j (λk.(λl.(λz.z)))) (λx.(λc.x)))) (((λv.(λb.((b (λn.(λm.(λq_1.(((n (λw_1.(λe_1.(e_1 (w_1 m))))) (λr_1.q_1)) (λt_1.t_1)))))) v))) g) h)))) (λy_1.(λu_1.(y_1 (y_1 u_1))))) (λi_1.(λo_1.(i_1 (i_1 o_1)))))) (((λp_1.(λa_1.((λs_1.((s_1 (λd_1.(λf_1.(λg_1.g_1)))) (λh_1.(λj_1.h_1)))) (((λk_1.(λl_1.((l_1 (λz_1.(λx_1.(λc_1.(((z_1 (λv_1.(λb_1.(b_1 (v_1 x_1))))) (λn_1.c_1)) (λm_1.m_1)))))) k_1))) p_1) a_1)))) (λq_2.(λw_2.(q_2 (q_2 w_2))))) (λe_2.(λr_2.(e_2 (e_2 r_2))))))\n",
      "29: ((((λk.k) (((λl.(λz.(λx.(λc.x)))) (λv.(λb.(b (v (λn.(λm.(λq_1.q_1)))))))) (λw_1.(λe_1.(λr_1.r_1))))) (((λt_1.(λy_1.((λu_1.((u_1 (λi_1.(λo_1.(λp_1.p_1)))) (λa_1.(λs_1.a_1)))) (((λd_1.(λf_1.((f_1 (λg_1.(λh_1.(λj_1.(((g_1 (λk_1.(λl_1.(l_1 (k_1 h_1))))) (λz_1.j_1)) (λx_1.x_1)))))) d_1))) t_1) y_1)))) (λc_1.(λv_1.(c_1 (c_1 v_1))))) (λb_1.(λn_1.(b_1 (b_1 n_1)))))) (((λm_1.(λq_2.((λw_2.((w_2 (λe_2.(λq.(λw.w)))) (λe.(λr.e)))) (((λt.(λy.((y (λu.(λi.(λo.(((u (λp.(λa.(a (p i))))) (λs.o)) (λd.d)))))) t))) m_1) q_2)))) (λf.(λg.(f (f g))))) (λh.(λj.(h (h j))))))\n",
      "30: (((((λq.(λw.(λe.(λr.e)))) (λt.(λy.(y (t (λu.(λi.(λo.o)))))))) (λp.(λa.(λs.s)))) (((λd.(λf.((λg.((g (λh.(λj.(λk.k)))) (λl.(λz.l)))) (((λx.(λc.((c (λv.(λb.(λn.(((v (λm.(λq_1.(q_1 (m b))))) (λw_1.n)) (λe_1.e_1)))))) x))) d) f)))) (λr_1.(λt_1.(r_1 (r_1 t_1))))) (λy_1.(λu_1.(y_1 (y_1 u_1)))))) (((λi_1.(λo_1.((λp_1.((p_1 (λa_1.(λs_1.(λd_1.d_1)))) (λf_1.(λg_1.f_1)))) (((λh_1.(λj_1.((j_1 (λk_1.(λl_1.(λz_1.(((k_1 (λx_1.(λc_1.(c_1 (x_1 l_1))))) (λv_1.z_1)) (λb_1.b_1)))))) h_1))) i_1) o_1)))) (λn_1.(λm_1.(n_1 (n_1 m_1))))) (λq_2.(λw_2.(q_2 (q_2 w_2))))))\n",
      "31: ((((λq.(λw.(λe.w))) (λr.(λt.(λy.y)))) (((λu.(λi.((λo.((o (λp.(λa.(λs.s)))) (λd.(λf.d)))) (((λg.(λh.((h (λj.(λk.(λl.(((j (λz.(λx.(x (z k))))) (λc.l)) (λv.v)))))) g))) u) i)))) (λb.(λn.(b (b n))))) (λm.(λq_1.(m (m q_1)))))) (((λw_1.(λe_1.((λr_1.((r_1 (λt_1.(λy_1.(λu_1.u_1)))) (λi_1.(λo_1.i_1)))) (((λp_1.(λa_1.((a_1 (λs_1.(λd_1.(λf_1.(((s_1 (λg_1.(λh_1.(h_1 (g_1 d_1))))) (λj_1.f_1)) (λk_1.k_1)))))) p_1))) w_1) e_1)))) (λl_1.(λz_1.(l_1 (l_1 z_1))))) (λx_1.(λc_1.(x_1 (x_1 c_1))))))\n",
      "32: (((λp_1.(λa_1.p_1)) (((λs_1.(λd_1.((λf_1.((f_1 (λg_1.(λh_1.(λj_1.j_1)))) (λk_1.(λq.k_1)))) (((λw.(λe.((e (λr.(λt.(λy.(((r (λu.(λi.(i (u t))))) (λo.y)) (λp.p)))))) w))) s_1) d_1)))) (λa.(λs.(a (a s))))) (λd.(λf.(d (d f)))))) (((λg.(λh.((λj.((j (λk.(λl.(λz.z)))) (λx.(λc.x)))) (((λv.(λb.((b (λn.(λm.(λq_1.(((n (λw_1.(λe_1.(e_1 (w_1 m))))) (λr_1.q_1)) (λt_1.t_1)))))) v))) g) h)))) (λy_1.(λu_1.(y_1 (y_1 u_1))))) (λi_1.(λo_1.(i_1 (i_1 o_1))))))\n",
      "33: ((λq.(((λw.(λe.((λr.((r (λt.(λy.(λu.u)))) (λi.(λo.i)))) (((λp.(λa.((a (λs.(λd.(λf.(((s (λg.(λh.(h (g d))))) (λj.f)) (λk.k)))))) p))) w) e)))) (λl.(λz.(l (l z))))) (λx.(λc.(x (x c)))))) (((λv.(λb.((λn.((n (λm.(λq_1.(λw_1.w_1)))) (λe_1.(λr_1.e_1)))) (((λt_1.(λy_1.((y_1 (λu_1.(λi_1.(λo_1.(((u_1 (λp_1.(λa_1.(a_1 (p_1 i_1))))) (λs_1.o_1)) (λd_1.d_1)))))) t_1))) v) b)))) (λf_1.(λg_1.(f_1 (f_1 g_1))))) (λh_1.(λj_1.(h_1 (h_1 j_1))))))\n",
      "34: (((λq.(λw.((λe.((e (λr.(λt.(λy.y)))) (λu.(λi.u)))) (((λo.(λp.((p (λa.(λs.(λd.(((a (λf.(λg.(g (f s))))) (λh.d)) (λj.j)))))) o))) q) w)))) (λk.(λl.(k (k l))))) (λz.(λx.(z (z x)))))\n",
      "35: ((λq.((λw.((w (λe.(λr.(λt.t)))) (λy.(λu.y)))) (((λi.(λo.((o (λp.(λa.(λs.(((p (λd.(λf.(f (d a))))) (λg.s)) (λh.h)))))) i))) (λj.(λk.(j (j k))))) q))) (λl.(λz.(l (l z)))))\n",
      "36: ((λa.((a (λs.(λd.(λf.f)))) (λg.(λh.g)))) (((λj.(λk.((k (λl.(λq.(λw.(((l (λe.(λr.(r (e q))))) (λt.w)) (λy.y)))))) j))) (λu.(λi.(u (u i))))) (λo.(λp.(o (o p))))))\n",
      "37: (((((λq.(λw.((w (λe.(λr.(λt.(((e (λy.(λu.(u (y r))))) (λi.t)) (λo.o)))))) q))) (λp.(λa.(p (p a))))) (λs.(λd.(s (s d))))) (λf.(λg.(λh.h)))) (λj.(λk.j)))\n",
      "38: ((((λf.((f (λg.(λh.(λj.(((g (λq.(λw.(w (q h))))) (λe.j)) (λr.r)))))) (λt.(λy.(t (t y)))))) (λu.(λi.(u (u i))))) (λo.(λp.(λa.a)))) (λs.(λd.s)))\n",
      "39: (((((λq.(λw.(q (q w)))) (λe.(λr.(λt.(((e (λy.(λu.(u (y r))))) (λi.t)) (λo.o)))))) (λp.(λa.(p (p a))))) (λs.(λd.(λf.f)))) (λg.(λh.g)))\n",
      "40: ((((λq.((λw.(λe.(λr.(((w (λt.(λy.(y (t e))))) (λu.r)) (λi.i))))) ((λo.(λp.(λa.(((o (λs.(λd.(d (s p))))) (λf.a)) (λg.g))))) q))) (λh.(λj.(h (h j))))) (λk.(λl.(λz.z)))) (λx.(λc.x)))\n",
      "41: ((((λq.(λw.(λe.(((q (λr.(λt.(t (r w))))) (λy.e)) (λu.u))))) ((λi.(λo.(λp.(((i (λa.(λs.(s (a o))))) (λd.p)) (λf.f))))) (λg.(λh.(g (g h)))))) (λj.(λk.(λl.l)))) (λz.(λx.z)))\n",
      "42: (((λq.(λw.(((((λe.(λr.(λt.(((e (λy.(λu.(u (y r))))) (λi.t)) (λo.o))))) (λp.(λa.(p (p a))))) (λs.(λd.(d (s q))))) (λf.w)) (λg.g)))) (λh.(λj.(λk.k)))) (λl.(λz.l)))\n",
      "43: ((λh.(((((λj.(λk.(λl.(((j (λq.(λw.(w (q k))))) (λe.l)) (λr.r))))) (λt.(λy.(t (t y))))) (λu.(λi.(i (u (λo.(λp.(λa.a)))))))) (λs.h)) (λd.d))) (λf.(λg.f)))\n",
      "44: (((((λw.(λe.(λr.(((w (λt.(λy.(y (t e))))) (λu.r)) (λi.i))))) (λo.(λp.(o (o p))))) (λa.(λs.(s (a (λd.(λf.(λg.g)))))))) (λh.(λj.(λk.j)))) (λq.q))\n",
      "45: ((((λq.(λw.((((λe.(λr.(e (e r)))) (λt.(λy.(y (t q))))) (λu.w)) (λi.i)))) (λo.(λp.(p (o (λa.(λs.(λd.d)))))))) (λf.(λg.(λh.g)))) (λj.j))\n",
      "46: (((λe.((((λr.(λt.(r (r t)))) (λy.(λu.(u (y (λi.(λo.(o (i (λp.(λa.(λs.s)))))))))))) (λd.e)) (λf.f))) (λg.(λh.(λq.h)))) (λw.w))\n",
      "47: (((((λq.(λw.(q (q w)))) (λe.(λr.(r (e (λt.(λy.(y (t (λu.(λi.(λo.o)))))))))))) (λp.(λa.(λs.(λd.s))))) (λf.f)) (λg.g))\n",
      "48: ((((λq.((λw.(λe.(e (w (λr.(λt.(t (r (λy.(λu.(λi.i))))))))))) ((λo.(λp.(p (o (λa.(λs.(s (a (λd.(λf.(λg.g))))))))))) q))) (λh.(λj.(λk.(λl.k))))) (λz.z)) (λx.x))\n",
      "49: ((((λq.(λw.(w (q (λe.(λr.(r (e (λt.(λy.(λu.u))))))))))) ((λi.(λo.(o (i (λp.(λa.(a (p (λs.(λd.(λf.f))))))))))) (λg.(λh.(λj.(λk.j)))))) (λl.l)) (λz.z))\n",
      "50: (((λf.(f (((λg.(λh.(h (g (λj.(λk.(k (j (λl.(λq.(λw.w))))))))))) (λe.(λr.(λt.(λy.t))))) (λu.(λi.(i (u (λo.(λp.(λa.a)))))))))) (λs.s)) (λd.d))\n",
      "51: (((λq.q) (((λw.(λe.(e (w (λr.(λt.(t (r (λy.(λu.(λi.i))))))))))) (λo.(λp.(λa.(λs.a))))) (λd.(λf.(f (d (λg.(λh.(λj.j))))))))) (λk.k))\n",
      "52: ((((λj.(λq.(q (j (λw.(λe.(e (w (λr.(λt.(λy.y))))))))))) (λu.(λi.(λo.(λp.o))))) (λa.(λs.(s (a (λd.(λf.(λg.g)))))))) (λh.h))\n",
      "53: (((λq.(q ((λw.(λe.(λr.(λt.r)))) (λy.(λu.(u (y (λi.(λo.(λp.p)))))))))) (λa.(λs.(s (a (λd.(λf.(λg.g)))))))) (λh.h))\n",
      "54: (((λq.(λw.(w (q (λe.(λr.(λt.t))))))) ((λy.(λu.(λi.(λo.i)))) (λp.(λa.(a (p (λs.(λd.(λf.f))))))))) (λg.g))\n",
      "55: ((λq.(q (((λw.(λe.(λr.(λt.r)))) (λy.(λu.(u (y (λi.(λo.(λp.p)))))))) (λa.(λs.(λd.d)))))) (λf.f))\n",
      "56: ((λa.a) (((λs.(λd.(λq.(λw.q)))) (λe.(λr.(r (e (λt.(λy.(λu.u)))))))) (λi.(λo.(λp.p)))))\n",
      "57: (((λq.(λw.(λe.(λr.e)))) (λt.(λy.(y (t (λu.(λi.(λo.o)))))))) (λp.(λa.(λs.s))))\n",
      "58: ((λq.(λw.(λe.w))) (λr.(λt.(λy.y))))\n",
      "59: (λq.(λw.q))\n",
      "\n",
      "\n",
      "reduction steps: 59\n",
      "norm term:       (λq.(λw.q))\n"
     ]
    }
   ],
   "source": [
    "def term_test_12():\n",
    "    return multi_app_term(eq_term(), num_term(2), num_term(2))\n",
    "\n",
    "\n",
    "test_procedure(term_test_12(), steps_lim=150)"
   ],
   "metadata": {
    "collapsed": false
   }
  },
  {
   "cell_type": "markdown",
   "source": [
    "# <span style=\"color: #A1F99C\">13.</span>\n",
    "<span style=\"color:#bb91f3\">(EQ 1 4)</span> == <span style=\"color:#f1bd47\">FALSE</span> == <span style=\"color:#f1bd47\">λx. λy. y</span>"
   ],
   "metadata": {
    "collapsed": false
   }
  },
  {
   "cell_type": "code",
   "execution_count": 16,
   "outputs": [
    {
     "name": "stdout",
     "output_type": "stream",
     "text": [
      "0: (((λq.(λw.(((λe.(λr.((((λt.(λy.(λu.((t y) u)))) e) r) e))) (((λi.(λo.((λp.((p (λa.(λs.(λd.d)))) (λf.(λg.f)))) (((λh.(λj.((j (λk.(λl.(λz.(((k (λx.(λc.(c (x l))))) (λv.z)) (λb.b)))))) h))) i) o)))) q) w)) (((λn.(λm.((λq_1.((q_1 (λw_1.(λe_1.(λr_1.r_1)))) (λt_1.(λy_1.t_1)))) (((λu_1.(λi_1.((i_1 (λo_1.(λp_1.(λa_1.(((o_1 (λs_1.(λd_1.(d_1 (s_1 p_1))))) (λf_1.a_1)) (λg_1.g_1)))))) u_1))) n) m)))) w) q)))) (λh_1.(λj_1.(h_1 j_1)))) (λk_1.(λl_1.(k_1 (k_1 (k_1 (k_1 l_1)))))))\n",
      "1: ((λt.(((λy.(λu.((((λi.(λo.(λp.((i o) p)))) y) u) y))) (((λa.(λs.((λd.((d (λf.(λg.(λh.h)))) (λj.(λk.j)))) (((λl.(λz.((z (λx.(λc.(λv.(((x (λb.(λn.(n (b c))))) (λm.v)) (λq_1.q_1)))))) l))) a) s)))) (λw_1.(λe_1.(w_1 e_1)))) t)) (((λr_1.(λt_1.((λy_1.((y_1 (λu_1.(λi_1.(λo_1.o_1)))) (λp_1.(λa_1.p_1)))) (((λs_1.(λd_1.((d_1 (λf_1.(λg_1.(λh_1.(((f_1 (λj_1.(λk_1.(k_1 (j_1 g_1))))) (λl_1.h_1)) (λz_1.z_1)))))) s_1))) r_1) t_1)))) t) (λq.(λw.(q w)))))) (λe.(λr.(e (e (e (e r)))))))\n",
      "2: (((λq.(λw.((((λe.(λr.(λt.((e r) t)))) q) w) q))) (((λy.(λu.((λi.((i (λo.(λp.(λa.a)))) (λs.(λd.s)))) (((λf.(λg.((g (λh.(λj.(λk.(((h (λl.(λz.(z (l j))))) (λx.k)) (λc.c)))))) f))) y) u)))) (λv.(λb.(v b)))) (λn.(λm.(n (n (n (n m)))))))) (((λq_1.(λw_1.((λe_1.((e_1 (λr_1.(λt_1.(λy_1.y_1)))) (λu_1.(λi_1.u_1)))) (((λo_1.(λp_1.((p_1 (λa_1.(λs_1.(λd_1.(((a_1 (λf_1.(λg_1.(g_1 (f_1 s_1))))) (λh_1.d_1)) (λj_1.j_1)))))) o_1))) q_1) w_1)))) (λk_1.(λl_1.(k_1 (k_1 (k_1 (k_1 l_1))))))) (λz_1.(λx_1.(z_1 x_1)))))\n",
      "3: ((λq.((((λw.(λe.(λr.((w e) r)))) (((λt.(λy.((λu.((u (λi.(λo.(λp.p)))) (λa.(λs.a)))) (((λd.(λf.((f (λg.(λh.(λj.(((g (λk.(λl.(l (k h))))) (λz.j)) (λx.x)))))) d))) t) y)))) (λc.(λv.(c v)))) (λb.(λn.(b (b (b (b n)))))))) q) (((λm.(λq_1.((λw_1.((w_1 (λe_1.(λr_1.(λt_1.t_1)))) (λy_1.(λu_1.y_1)))) (((λi_1.(λo_1.((o_1 (λp_1.(λa_1.(λs_1.(((p_1 (λd_1.(λf_1.(f_1 (d_1 a_1))))) (λg_1.s_1)) (λh_1.h_1)))))) i_1))) m) q_1)))) (λj_1.(λk_1.(j_1 k_1)))) (λl_1.(λz_1.(l_1 (l_1 (l_1 (l_1 z_1))))))))) (((λx_1.(λc_1.((λv_1.((v_1 (λb_1.(λn_1.(λm_1.m_1)))) (λq_2.(λw_2.q_2)))) (((λe_2.(λr_2.((r_2 (λt_2.(λy_2.(λu_2.(((t_2 (λi_2.(λo_2.(o_2 (i_2 y_2))))) (λp_2.u_2)) (λa_2.a_2)))))) e_2))) x_1) c_1)))) (λs_2.(λd_2.(s_2 (s_2 (s_2 (s_2 d_2))))))) (λf_2.(λg_2.(f_2 g_2)))))\n",
      "4: ((((λt_2.(λy_2.(λu_2.((t_2 y_2) u_2)))) (((λi_2.(λo_2.((λp_2.((p_2 (λa_2.(λs_2.(λd_2.d_2)))) (λf_2.(λq.f_2)))) (((λw.(λe.((e (λr.(λt.(λy.(((r (λu.(λi.(i (u t))))) (λo.y)) (λp.p)))))) w))) i_2) o_2)))) (λa.(λs.(a s)))) (λd.(λf.(d (d (d (d f)))))))) (((λg.(λh.((λj.((j (λk.(λl.(λz.z)))) (λx.(λc.x)))) (((λv.(λb.((b (λn.(λm.(λq_1.(((n (λw_1.(λe_1.(e_1 (w_1 m))))) (λr_1.q_1)) (λt_1.t_1)))))) v))) g) h)))) (λy_1.(λu_1.(y_1 (y_1 (y_1 (y_1 u_1))))))) (λi_1.(λo_1.(i_1 o_1))))) (((λp_1.(λa_1.((λs_1.((s_1 (λd_1.(λf_1.(λg_1.g_1)))) (λh_1.(λj_1.h_1)))) (((λk_1.(λl_1.((l_1 (λz_1.(λx_1.(λc_1.(((z_1 (λv_1.(λb_1.(b_1 (v_1 x_1))))) (λn_1.c_1)) (λm_1.m_1)))))) k_1))) p_1) a_1)))) (λq_2.(λw_2.(q_2 w_2)))) (λe_2.(λr_2.(e_2 (e_2 (e_2 (e_2 r_2))))))))\n",
      "5: (((λq.(λw.(((((λe.(λr.((λt.((t (λy.(λu.(λi.i)))) (λo.(λp.o)))) (((λa.(λs.((s (λd.(λf.(λg.(((d (λh.(λj.(j (h f))))) (λk.g)) (λl.l)))))) a))) e) r)))) (λz.(λx.(z x)))) (λc.(λv.(c (c (c (c v))))))) q) w))) (((λb.(λn.((λm.((m (λq_1.(λw_1.(λe_1.e_1)))) (λr_1.(λt_1.r_1)))) (((λy_1.(λu_1.((u_1 (λi_1.(λo_1.(λp_1.(((i_1 (λa_1.(λs_1.(s_1 (a_1 o_1))))) (λd_1.p_1)) (λf_1.f_1)))))) y_1))) b) n)))) (λg_1.(λh_1.(g_1 (g_1 (g_1 (g_1 h_1))))))) (λj_1.(λk_1.(j_1 k_1))))) (((λl_1.(λz_1.((λx_1.((x_1 (λc_1.(λv_1.(λb_1.b_1)))) (λn_1.(λm_1.n_1)))) (((λq_2.(λw_2.((w_2 (λe_2.(λr_2.(λt_2.(((e_2 (λy_2.(λu_2.(u_2 (y_2 r_2))))) (λi_2.t_2)) (λo_2.o_2)))))) q_2))) l_1) z_1)))) (λp_2.(λa_2.(p_2 a_2)))) (λs_2.(λd_2.(s_2 (s_2 (s_2 (s_2 d_2))))))))\n",
      "6: ((λy_2.(((((λu_2.(λi_2.((λo_2.((o_2 (λp_2.(λa_2.(λs_2.s_2)))) (λq.(λw.q)))) (((λe.(λr.((r (λt.(λy.(λu.(((t (λi.(λo.(o (i y))))) (λp.u)) (λa.a)))))) e))) u_2) i_2)))) (λs.(λd.(s d)))) (λf.(λg.(f (f (f (f g))))))) (((λh.(λj.((λk.((k (λl.(λz.(λx.x)))) (λc.(λv.c)))) (((λb.(λn.((n (λm.(λq_1.(λw_1.(((m (λe_1.(λr_1.(r_1 (e_1 q_1))))) (λt_1.w_1)) (λy_1.y_1)))))) b))) h) j)))) (λu_1.(λi_1.(u_1 (u_1 (u_1 (u_1 i_1))))))) (λo_1.(λp_1.(o_1 p_1))))) y_2)) (((λa_1.(λs_1.((λd_1.((d_1 (λf_1.(λg_1.(λh_1.h_1)))) (λj_1.(λk_1.j_1)))) (((λl_1.(λz_1.((z_1 (λx_1.(λc_1.(λv_1.(((x_1 (λb_1.(λn_1.(n_1 (b_1 c_1))))) (λm_1.v_1)) (λq_2.q_2)))))) l_1))) a_1) s_1)))) (λw_2.(λe_2.(w_2 e_2)))) (λr_2.(λt_2.(r_2 (r_2 (r_2 (r_2 t_2))))))))\n",
      "7: (((((λq.(λw.((λe.((e (λr.(λt.(λy.y)))) (λu.(λi.u)))) (((λo.(λp.((p (λa.(λs.(λd.(((a (λf.(λg.(g (f s))))) (λh.d)) (λj.j)))))) o))) q) w)))) (λk.(λl.(k l)))) (λz.(λx.(z (z (z (z x))))))) (((λc.(λv.((λb.((b (λn.(λm.(λq_1.q_1)))) (λw_1.(λe_1.w_1)))) (((λr_1.(λt_1.((t_1 (λy_1.(λu_1.(λi_1.(((y_1 (λo_1.(λp_1.(p_1 (o_1 u_1))))) (λa_1.i_1)) (λs_1.s_1)))))) r_1))) c) v)))) (λd_1.(λf_1.(d_1 (d_1 (d_1 (d_1 f_1))))))) (λg_1.(λh_1.(g_1 h_1))))) (((λj_1.(λk_1.((λl_1.((l_1 (λz_1.(λx_1.(λc_1.c_1)))) (λv_1.(λb_1.v_1)))) (((λn_1.(λm_1.((m_1 (λq_2.(λw_2.(λe_2.(((q_2 (λr_2.(λt_2.(t_2 (r_2 w_2))))) (λy_2.e_2)) (λu_2.u_2)))))) n_1))) j_1) k_1)))) (λi_2.(λo_2.(i_2 o_2)))) (λp_2.(λa_2.(p_2 (p_2 (p_2 (p_2 a_2))))))))\n",
      "8: ((((λe_2.((λr_2.((r_2 (λt_2.(λy_2.(λu_2.u_2)))) (λi_2.(λo_2.i_2)))) (((λp_2.(λq.((q (λw.(λe.(λr.(((w (λt.(λy.(y (t e))))) (λu.r)) (λi.i)))))) p_2))) (λo.(λp.(o p)))) e_2))) (λa.(λs.(a (a (a (a s))))))) (((λd.(λf.((λg.((g (λh.(λj.(λk.k)))) (λl.(λz.l)))) (((λx.(λc.((c (λv.(λb.(λn.(((v (λm.(λq_1.(q_1 (m b))))) (λw_1.n)) (λe_1.e_1)))))) x))) d) f)))) (λr_1.(λt_1.(r_1 (r_1 (r_1 (r_1 t_1))))))) (λy_1.(λu_1.(y_1 u_1))))) (((λi_1.(λo_1.((λp_1.((p_1 (λa_1.(λs_1.(λd_1.d_1)))) (λf_1.(λg_1.f_1)))) (((λh_1.(λj_1.((j_1 (λk_1.(λl_1.(λz_1.(((k_1 (λx_1.(λc_1.(c_1 (x_1 l_1))))) (λv_1.z_1)) (λb_1.b_1)))))) h_1))) i_1) o_1)))) (λn_1.(λm_1.(n_1 m_1)))) (λq_2.(λw_2.(q_2 (q_2 (q_2 (q_2 w_2))))))))\n",
      "9: ((((λq.((q (λw.(λe.(λr.r)))) (λt.(λy.t)))) (((λu.(λi.((i (λo.(λp.(λa.(((o (λs.(λd.(d (s p))))) (λf.a)) (λg.g)))))) u))) (λh.(λj.(h j)))) (λk.(λl.(k (k (k (k l)))))))) (((λz.(λx.((λc.((c (λv.(λb.(λn.n)))) (λm.(λq_1.m)))) (((λw_1.(λe_1.((e_1 (λr_1.(λt_1.(λy_1.(((r_1 (λu_1.(λi_1.(i_1 (u_1 t_1))))) (λo_1.y_1)) (λp_1.p_1)))))) w_1))) z) x)))) (λa_1.(λs_1.(a_1 (a_1 (a_1 (a_1 s_1))))))) (λd_1.(λf_1.(d_1 f_1))))) (((λg_1.(λh_1.((λj_1.((j_1 (λk_1.(λl_1.(λz_1.z_1)))) (λx_1.(λc_1.x_1)))) (((λv_1.(λb_1.((b_1 (λn_1.(λm_1.(λq_2.(((n_1 (λw_2.(λe_2.(e_2 (w_2 m_1))))) (λr_2.q_2)) (λt_2.t_2)))))) v_1))) g_1) h_1)))) (λy_2.(λu_2.(y_2 u_2)))) (λi_2.(λo_2.(i_2 (i_2 (i_2 (i_2 o_2))))))))\n",
      "10: (((((((λc_1.(λv_1.((v_1 (λb_1.(λn_1.(λm_1.(((b_1 (λq_2.(λw_2.(w_2 (q_2 n_1))))) (λe_2.m_1)) (λr_2.r_2)))))) c_1))) (λt_2.(λy_2.(t_2 y_2)))) (λu_2.(λi_2.(u_2 (u_2 (u_2 (u_2 i_2))))))) (λq.(λw.(λe.e)))) (λr.(λt.r))) (((λy.(λu.((λi.((i (λo.(λp.(λa.a)))) (λs.(λd.s)))) (((λf.(λg.((g (λh.(λj.(λk.(((h (λl.(λz.(z (l j))))) (λx.k)) (λc.c)))))) f))) y) u)))) (λv.(λb.(v (v (v (v b))))))) (λn.(λm.(n m))))) (((λq_1.(λw_1.((λe_1.((e_1 (λr_1.(λt_1.(λy_1.y_1)))) (λu_1.(λi_1.u_1)))) (((λo_1.(λp_1.((p_1 (λa_1.(λs_1.(λd_1.(((a_1 (λf_1.(λg_1.(g_1 (f_1 s_1))))) (λh_1.d_1)) (λj_1.j_1)))))) o_1))) q_1) w_1)))) (λk_1.(λl_1.(k_1 l_1)))) (λz_1.(λx_1.(z_1 (z_1 (z_1 (z_1 x_1))))))))\n",
      "11: ((((((λq.((q (λw.(λe.(λr.(((w (λt.(λy.(y (t e))))) (λu.r)) (λi.i)))))) (λo.(λp.(o p))))) (λa.(λs.(a (a (a (a s))))))) (λd.(λf.(λg.g)))) (λh.(λj.h))) (((λk.(λl.((λz.((z (λx.(λc.(λv.v)))) (λb.(λn.b)))) (((λm.(λq_1.((q_1 (λw_1.(λe_1.(λr_1.(((w_1 (λt_1.(λy_1.(y_1 (t_1 e_1))))) (λu_1.r_1)) (λi_1.i_1)))))) m))) k) l)))) (λo_1.(λp_1.(o_1 (o_1 (o_1 (o_1 p_1))))))) (λa_1.(λs_1.(a_1 s_1))))) (((λd_1.(λf_1.((λg_1.((g_1 (λh_1.(λj_1.(λk_1.k_1)))) (λl_1.(λz_1.l_1)))) (((λx_1.(λc_1.((c_1 (λv_1.(λb_1.(λn_1.(((v_1 (λm_1.(λq_2.(q_2 (m_1 b_1))))) (λw_2.n_1)) (λe_2.e_2)))))) x_1))) d_1) f_1)))) (λr_2.(λt_2.(r_2 t_2)))) (λy_2.(λu_2.(y_2 (y_2 (y_2 (y_2 u_2))))))))\n",
      "12: (((((((λa_1.(λs_1.(a_1 (a_1 (a_1 (a_1 s_1)))))) (λd_1.(λf_1.(λg_1.(((d_1 (λh_1.(λj_1.(j_1 (h_1 f_1))))) (λk_1.g_1)) (λl_1.l_1)))))) (λz_1.(λx_1.(z_1 x_1)))) (λc_1.(λv_1.(λb_1.b_1)))) (λn_1.(λm_1.n_1))) (((λq_2.(λw_2.((λe_2.((e_2 (λr_2.(λt_2.(λy_2.y_2)))) (λq.(λw.q)))) (((λe.(λr.((r (λt.(λy.(λu.(((t (λi.(λo.(o (i y))))) (λp.u)) (λa.a)))))) e))) q_2) w_2)))) (λs.(λd.(s (s (s (s d))))))) (λf.(λg.(f g))))) (((λh.(λj.((λk.((k (λl.(λz.(λx.x)))) (λc.(λv.c)))) (((λb.(λn.((n (λm.(λq_1.(λw_1.(((m (λe_1.(λr_1.(r_1 (e_1 q_1))))) (λt_1.w_1)) (λy_1.y_1)))))) b))) h) j)))) (λu_1.(λi_1.(u_1 i_1)))) (λo_1.(λp_1.(o_1 (o_1 (o_1 (o_1 p_1))))))))\n",
      "13: ((((((λq.((λw.(λe.(λr.(((w (λt.(λy.(y (t e))))) (λu.r)) (λi.i))))) ((λo.(λp.(λa.(((o (λs.(λd.(d (s p))))) (λf.a)) (λg.g))))) ((λh.(λj.(λk.(((h (λl.(λz.(z (l j))))) (λx.k)) (λc.c))))) ((λv.(λb.(λn.(((v (λm.(λq_1.(q_1 (m b))))) (λw_1.n)) (λe_1.e_1))))) q))))) (λr_1.(λt_1.(r_1 t_1)))) (λy_1.(λu_1.(λi_1.i_1)))) (λo_1.(λp_1.o_1))) (((λa_1.(λs_1.((λd_1.((d_1 (λf_1.(λg_1.(λh_1.h_1)))) (λj_1.(λk_1.j_1)))) (((λl_1.(λz_1.((z_1 (λx_1.(λc_1.(λv_1.(((x_1 (λb_1.(λn_1.(n_1 (b_1 c_1))))) (λm_1.v_1)) (λq_2.q_2)))))) l_1))) a_1) s_1)))) (λw_2.(λe_2.(w_2 (w_2 (w_2 (w_2 e_2))))))) (λr_2.(λt_2.(r_2 t_2))))) (((λy_2.(λu_2.((λi_2.((i_2 (λo_2.(λp_2.(λa_2.a_2)))) (λs_2.(λd_2.s_2)))) (((λf_2.(λg_2.((g_2 (λh_2.(λj_2.(λk_2.(((h_2 (λl_2.(λz_2.(z_2 (l_2 j_2))))) (λx_2.k_2)) (λc_2.c_2)))))) f_2))) y_2) u_2)))) (λv_2.(λb_2.(v_2 b_2)))) (λn_2.(λm_2.(n_2 (n_2 (n_2 (n_2 m_2))))))))\n",
      "14: ((((((λq.(λw.(λe.(((q (λr.(λt.(t (r w))))) (λy.e)) (λu.u))))) ((λi.(λo.(λp.(((i (λa.(λs.(s (a o))))) (λd.p)) (λf.f))))) ((λg.(λh.(λj.(((g (λk.(λl.(l (k h))))) (λz.j)) (λx.x))))) ((λc.(λv.(λb.(((c (λn.(λm.(m (n v))))) (λq_1.b)) (λw_1.w_1))))) (λe_1.(λr_1.(e_1 r_1))))))) (λt_1.(λy_1.(λu_1.u_1)))) (λi_1.(λo_1.i_1))) (((λp_1.(λa_1.((λs_1.((s_1 (λd_1.(λf_1.(λg_1.g_1)))) (λh_1.(λj_1.h_1)))) (((λk_1.(λl_1.((l_1 (λz_1.(λx_1.(λc_1.(((z_1 (λv_1.(λb_1.(b_1 (v_1 x_1))))) (λn_1.c_1)) (λm_1.m_1)))))) k_1))) p_1) a_1)))) (λq_2.(λw_2.(q_2 (q_2 (q_2 (q_2 w_2))))))) (λe_2.(λr_2.(e_2 r_2))))) (((λt_2.(λy_2.((λu_2.((u_2 (λi_2.(λo_2.(λp_2.p_2)))) (λa_2.(λs_2.a_2)))) (((λd_2.(λf_2.((f_2 (λg_2.(λh_2.(λj_2.(((g_2 (λk_2.(λl_2.(l_2 (k_2 h_2))))) (λz_2.j_2)) (λx_2.x_2)))))) d_2))) t_2) y_2)))) (λc_2.(λv_2.(c_2 v_2)))) (λb_2.(λn_2.(b_2 (b_2 (b_2 (b_2 n_2))))))))\n",
      "15: (((((λs.(λd.(((((λf.(λg.(λh.(((f (λj.(λk.(k (j g))))) (λl.h)) (λz.z))))) ((λx.(λc.(λv.(((x (λb.(λn.(n (b c))))) (λm.v)) (λq_1.q_1))))) ((λw_1.(λe_1.(λr_1.(((w_1 (λt_1.(λy_1.(y_1 (t_1 e_1))))) (λu_1.r_1)) (λi_1.i_1))))) (λo_1.(λp_1.(o_1 p_1)))))) (λa_1.(λs_1.(s_1 (a_1 s))))) (λd_1.d)) (λf_1.f_1)))) (λg_1.(λh_1.(λj_1.j_1)))) (λk_1.(λl_1.k_1))) (((λz_1.(λx_1.((λc_1.((c_1 (λv_1.(λb_1.(λn_1.n_1)))) (λm_1.(λq_2.m_1)))) (((λw_2.(λe_2.((e_2 (λr_2.(λt_2.(λy_2.(((r_2 (λu_2.(λi_2.(i_2 (u_2 t_2))))) (λo_2.y_2)) (λp_2.p_2)))))) w_2))) z_1) x_1)))) (λa_2.(λs_2.(a_2 (a_2 (a_2 (a_2 s_2))))))) (λd_2.(λf_2.(d_2 f_2))))) (((λg_2.(λh_2.((λj_2.((j_2 (λk_2.(λl_2.(λz_2.z_2)))) (λx_2.(λc_2.x_2)))) (((λv_2.(λb_2.((b_2 (λq.(λw.(λe.(((q (λr.(λt.(t (r w))))) (λy.e)) (λu.u)))))) v_2))) g_2) h_2)))) (λi.(λo.(i o)))) (λp.(λa.(p (p (p (p a))))))))\n",
      "16: ((((λq.(((((λw.(λe.(λr.(((w (λt.(λy.(y (t e))))) (λu.r)) (λi.i))))) ((λo.(λp.(λa.(((o (λs.(λd.(d (s p))))) (λf.a)) (λg.g))))) ((λh.(λj.(λk.(((h (λl.(λz.(z (l j))))) (λx.k)) (λc.c))))) (λv.(λb.(v b)))))) (λn.(λm.(m (n (λq_1.(λw_1.(λe_1.e_1)))))))) (λr_1.q)) (λt_1.t_1))) (λy_1.(λu_1.y_1))) (((λi_1.(λo_1.((λp_1.((p_1 (λa_1.(λs_1.(λd_1.d_1)))) (λf_1.(λg_1.f_1)))) (((λh_1.(λj_1.((j_1 (λk_1.(λl_1.(λz_1.(((k_1 (λx_1.(λc_1.(c_1 (x_1 l_1))))) (λv_1.z_1)) (λb_1.b_1)))))) h_1))) i_1) o_1)))) (λn_1.(λm_1.(n_1 (n_1 (n_1 (n_1 m_1))))))) (λq_2.(λw_2.(q_2 w_2))))) (((λe_2.(λr_2.((λt_2.((t_2 (λy_2.(λu_2.(λi_2.i_2)))) (λo_2.(λp_2.o_2)))) (((λa_2.(λs_2.((s_2 (λd_2.(λf_2.(λg_2.(((d_2 (λh_2.(λj_2.(j_2 (h_2 f_2))))) (λk_2.g_2)) (λl_2.l_2)))))) a_2))) e_2) r_2)))) (λz_2.(λx_2.(z_2 x_2)))) (λc_2.(λv_2.(c_2 (c_2 (c_2 (c_2 v_2))))))))\n",
      "17: (((((((λu_1.(λi_1.(λo_1.(((u_1 (λp_1.(λa_1.(a_1 (p_1 i_1))))) (λs_1.o_1)) (λd_1.d_1))))) ((λf_1.(λg_1.(λh_1.(((f_1 (λj_1.(λk_1.(k_1 (j_1 g_1))))) (λl_1.h_1)) (λz_1.z_1))))) ((λx_1.(λc_1.(λv_1.(((x_1 (λb_1.(λn_1.(n_1 (b_1 c_1))))) (λm_1.v_1)) (λq_2.q_2))))) (λw_2.(λe_2.(w_2 e_2)))))) (λr_2.(λt_2.(t_2 (r_2 (λy_2.(λu_2.(λi_2.i_2)))))))) (λo_2.(λp_2.(λa_2.p_2)))) (λs_2.s_2)) (((λd_2.(λf_2.((λg_2.((g_2 (λh_2.(λj_2.(λk_2.k_2)))) (λl_2.(λz_2.l_2)))) (((λx_2.(λc_2.((c_2 (λq.(λw.(λe.(((q (λr.(λt.(t (r w))))) (λy.e)) (λu.u)))))) x_2))) d_2) f_2)))) (λi.(λo.(i (i (i (i o))))))) (λp.(λa.(p a))))) (((λs.(λd.((λf.((f (λg.(λh.(λj.j)))) (λk.(λl.k)))) (((λz.(λx.((x (λc.(λv.(λb.(((c (λn.(λm.(m (n v))))) (λq_1.b)) (λw_1.w_1)))))) z))) s) d)))) (λe_1.(λr_1.(e_1 r_1)))) (λt_1.(λy_1.(t_1 (t_1 (t_1 (t_1 y_1))))))))\n",
      "18: ((((((λq.(λw.(((((λe.(λr.(λt.(((e (λy.(λu.(u (y r))))) (λi.t)) (λo.o))))) ((λp.(λa.(λs.(((p (λd.(λf.(f (d a))))) (λg.s)) (λh.h))))) (λj.(λk.(j k))))) (λl.(λz.(z (l q))))) (λx.w)) (λc.c)))) (λv.(λb.(b (v (λn.(λm.(λq_1.q_1)))))))) (λw_1.(λe_1.(λr_1.e_1)))) (λt_1.t_1)) (((λy_1.(λu_1.((λi_1.((i_1 (λo_1.(λp_1.(λa_1.a_1)))) (λs_1.(λd_1.s_1)))) (((λf_1.(λg_1.((g_1 (λh_1.(λj_1.(λk_1.(((h_1 (λl_1.(λz_1.(z_1 (l_1 j_1))))) (λx_1.k_1)) (λc_1.c_1)))))) f_1))) y_1) u_1)))) (λv_1.(λb_1.(v_1 (v_1 (v_1 (v_1 b_1))))))) (λn_1.(λm_1.(n_1 m_1))))) (((λq_2.(λw_2.((λe_2.((e_2 (λr_2.(λt_2.(λy_2.y_2)))) (λu_2.(λi_2.u_2)))) (((λo_2.(λp_2.((p_2 (λa_2.(λs_2.(λd_2.(((a_2 (λf_2.(λg_2.(g_2 (f_2 s_2))))) (λh_2.d_2)) (λj_2.j_2)))))) o_2))) q_2) w_2)))) (λk_2.(λl_2.(k_2 l_2)))) (λz_2.(λx_2.(z_2 (z_2 (z_2 (z_2 x_2))))))))\n",
      "19: (((((λb_1.(((((λn_1.(λm_1.(λq_2.(((n_1 (λw_2.(λe_2.(e_2 (w_2 m_1))))) (λr_2.q_2)) (λt_2.t_2))))) ((λy_2.(λu_2.(λi_2.(((y_2 (λo_2.(λp_2.(p_2 (o_2 u_2))))) (λa_2.i_2)) (λs_2.s_2))))) (λd_2.(λf_2.(d_2 f_2))))) (λg_2.(λh_2.(h_2 (g_2 (λj_2.(λk_2.(k_2 (j_2 (λl_2.(λz_2.(λq.q)))))))))))) (λw.b_1)) (λe.e))) (λr.(λt.(λy.t)))) (λu.u)) (((λi.(λo.((λp.((p (λa.(λs.(λd.d)))) (λf.(λg.f)))) (((λh.(λj.((j (λk.(λl.(λz.(((k (λx.(λc.(c (x l))))) (λv.z)) (λb.b)))))) h))) i) o)))) (λn.(λm.(n (n (n (n m))))))) (λq_1.(λw_1.(q_1 w_1))))) (((λe_1.(λr_1.((λt_1.((t_1 (λy_1.(λu_1.(λi_1.i_1)))) (λo_1.(λp_1.o_1)))) (((λa_1.(λs_1.((s_1 (λd_1.(λf_1.(λg_1.(((d_1 (λh_1.(λj_1.(j_1 (h_1 f_1))))) (λk_1.g_1)) (λl_1.l_1)))))) a_1))) e_1) r_1)))) (λz_1.(λx_1.(z_1 x_1)))) (λc_1.(λv_1.(c_1 (c_1 (c_1 (c_1 v_1))))))))\n",
      "20: ((((((((λq.(λw.(λe.(((q (λr.(λt.(t (r w))))) (λy.e)) (λu.u))))) ((λi.(λo.(λp.(((i (λa.(λs.(s (a o))))) (λd.p)) (λf.f))))) (λg.(λh.(g h))))) (λj.(λk.(k (j (λl.(λz.(z (l (λx.(λc.(λv.v)))))))))))) (λb.(λn.(λm.(λq_1.m))))) (λw_1.w_1)) (λe_1.e_1)) (((λr_1.(λt_1.((λy_1.((y_1 (λu_1.(λi_1.(λo_1.o_1)))) (λp_1.(λa_1.p_1)))) (((λs_1.(λd_1.((d_1 (λf_1.(λg_1.(λh_1.(((f_1 (λj_1.(λk_1.(k_1 (j_1 g_1))))) (λl_1.h_1)) (λz_1.z_1)))))) s_1))) r_1) t_1)))) (λx_1.(λc_1.(x_1 (x_1 (x_1 (x_1 c_1))))))) (λv_1.(λb_1.(v_1 b_1))))) (((λn_1.(λm_1.((λq_2.((q_2 (λw_2.(λe_2.(λr_2.r_2)))) (λt_2.(λy_2.t_2)))) (((λu_2.(λi_2.((i_2 (λo_2.(λp_2.(λa_2.(((o_2 (λs_2.(λd_2.(d_2 (s_2 p_2))))) (λf_2.a_2)) (λg_2.g_2)))))) u_2))) n_1) m_1)))) (λh_2.(λj_2.(h_2 j_2)))) (λk_2.(λl_2.(k_2 (k_2 (k_2 (k_2 l_2))))))))\n",
      "21: (((((((λa_2.(λs_2.(((((λd_2.(λf_2.(λg_2.(((d_2 (λh_2.(λj_2.(j_2 (h_2 f_2))))) (λk_2.g_2)) (λq.q))))) (λw.(λe.(w e)))) (λr.(λt.(t (r a_2))))) (λy.s_2)) (λu.u)))) (λi.(λo.(o (i (λp.(λa.(a (p (λs.(λd.(λf.f)))))))))))) (λg.(λh.(λj.(λk.j))))) (λl.l)) (λz.z)) (((λx.(λc.((λv.((v (λb.(λn.(λm.m)))) (λq_1.(λw_1.q_1)))) (((λe_1.(λr_1.((r_1 (λt_1.(λy_1.(λu_1.(((t_1 (λi_1.(λo_1.(o_1 (i_1 y_1))))) (λp_1.u_1)) (λa_1.a_1)))))) e_1))) x) c)))) (λs_1.(λd_1.(s_1 (s_1 (s_1 (s_1 d_1))))))) (λf_1.(λg_1.(f_1 g_1))))) (((λh_1.(λj_1.((λk_1.((k_1 (λl_1.(λz_1.(λx_1.x_1)))) (λc_1.(λv_1.c_1)))) (((λb_1.(λn_1.((n_1 (λm_1.(λq_2.(λw_2.(((m_1 (λe_2.(λr_2.(r_2 (e_2 q_2))))) (λt_2.w_2)) (λy_2.y_2)))))) b_1))) h_1) j_1)))) (λu_2.(λi_2.(u_2 i_2)))) (λo_2.(λp_2.(o_2 (o_2 (o_2 (o_2 p_2))))))))\n",
      "22: ((((((λr.(((((λt.(λy.(λu.(((t (λi.(λo.(o (i y))))) (λp.u)) (λa.a))))) (λs.(λd.(s d)))) (λf.(λg.(g (f (λh.(λj.(j (h (λk.(λl.(l (k (λz.(λx.(λc.c)))))))))))))))) (λv.r)) (λb.b))) (λn.(λm.(λq_1.(λw_1.q_1))))) (λe_1.e_1)) (λr_1.r_1)) (((λt_1.(λy_1.((λu_1.((u_1 (λi_1.(λo_1.(λp_1.p_1)))) (λa_1.(λs_1.a_1)))) (((λd_1.(λf_1.((f_1 (λg_1.(λh_1.(λj_1.(((g_1 (λk_1.(λl_1.(l_1 (k_1 h_1))))) (λz_1.j_1)) (λx_1.x_1)))))) d_1))) t_1) y_1)))) (λc_1.(λv_1.(c_1 (c_1 (c_1 (c_1 v_1))))))) (λb_1.(λn_1.(b_1 n_1))))) (((λm_1.(λq_2.((λw_2.((w_2 (λe_2.(λr_2.(λt_2.t_2)))) (λy_2.(λu_2.y_2)))) (((λi_2.(λo_2.((o_2 (λp_2.(λa_2.(λs_2.(((p_2 (λd_2.(λf_2.(f_2 (d_2 a_2))))) (λg_2.s_2)) (λh_2.h_2)))))) i_2))) m_1) q_2)))) (λj_2.(λq.(j_2 q)))) (λw.(λe.(w (w (w (w e))))))))\n",
      "23: (((((((((λq.(λw.(λe.(((q (λr.(λt.(t (r w))))) (λy.e)) (λu.u))))) (λi.(λo.(i o)))) (λp.(λa.(a (p (λs.(λd.(d (s (λf.(λg.(g (f (λh.(λj.(λk.k)))))))))))))))) (λl.(λz.(λx.(λc.(λv.c)))))) (λb.b)) (λn.n)) (λm.m)) (((λq_1.(λw_1.((λe_1.((e_1 (λr_1.(λt_1.(λy_1.y_1)))) (λu_1.(λi_1.u_1)))) (((λo_1.(λp_1.((p_1 (λa_1.(λs_1.(λd_1.(((a_1 (λf_1.(λg_1.(g_1 (f_1 s_1))))) (λh_1.d_1)) (λj_1.j_1)))))) o_1))) q_1) w_1)))) (λk_1.(λl_1.(k_1 (k_1 (k_1 (k_1 l_1))))))) (λz_1.(λx_1.(z_1 x_1))))) (((λc_1.(λv_1.((λb_1.((b_1 (λn_1.(λm_1.(λq_2.q_2)))) (λw_2.(λe_2.w_2)))) (((λr_2.(λt_2.((t_2 (λy_2.(λu_2.(λi_2.(((y_2 (λo_2.(λp_2.(p_2 (o_2 u_2))))) (λa_2.i_2)) (λs_2.s_2)))))) r_2))) c_1) v_1)))) (λd_2.(λf_2.(d_2 f_2)))) (λg_2.(λh_2.(g_2 (g_2 (g_2 (g_2 h_2))))))))\n",
      "24: ((((((((λa.(λs.((((λd.(λf.(d f))) (λg.(λh.(h (g a))))) (λj.s)) (λk.k)))) (λl.(λz.(z (l (λx.(λc.(c (x (λv.(λb.(b (v (λn.(λm.(λq_1.q_1)))))))))))))))) (λw_1.(λe_1.(λr_1.(λt_1.(λy_1.t_1)))))) (λu_1.u_1)) (λi_1.i_1)) (λo_1.o_1)) (((λp_1.(λa_1.((λs_1.((s_1 (λd_1.(λf_1.(λg_1.g_1)))) (λh_1.(λj_1.h_1)))) (((λk_1.(λl_1.((l_1 (λz_1.(λx_1.(λc_1.(((z_1 (λv_1.(λb_1.(b_1 (v_1 x_1))))) (λn_1.c_1)) (λm_1.m_1)))))) k_1))) p_1) a_1)))) (λq_2.(λw_2.(q_2 (q_2 (q_2 (q_2 w_2))))))) (λe_2.(λr_2.(e_2 r_2))))) (((λt_2.(λy_2.((λu_2.((u_2 (λi_2.(λo_2.(λp_2.p_2)))) (λa_2.(λs_2.a_2)))) (((λd_2.(λf_2.((f_2 (λg_2.(λq.(λw.(((g_2 (λe.(λr.(r (e q))))) (λt.w)) (λy.y)))))) d_2))) t_2) y_2)))) (λu.(λi.(u i)))) (λo.(λp.(o (o (o (o p))))))))\n",
      "25: (((((((λq.((((λw.(λe.(w e))) (λr.(λt.(t (r (λy.(λu.(u (y (λi.(λo.(o (i (λp.(λa.(a (p (λs.(λd.(λf.f)))))))))))))))))))) (λg.q)) (λh.h))) (λj.(λk.(λl.(λz.(λx.z)))))) (λc.c)) (λv.v)) (λb.b)) (((λn.(λm.((λq_1.((q_1 (λw_1.(λe_1.(λr_1.r_1)))) (λt_1.(λy_1.t_1)))) (((λu_1.(λi_1.((i_1 (λo_1.(λp_1.(λa_1.(((o_1 (λs_1.(λd_1.(d_1 (s_1 p_1))))) (λf_1.a_1)) (λg_1.g_1)))))) u_1))) n) m)))) (λh_1.(λj_1.(h_1 (h_1 (h_1 (h_1 j_1))))))) (λk_1.(λl_1.(k_1 l_1))))) (((λz_1.(λx_1.((λc_1.((c_1 (λv_1.(λb_1.(λn_1.n_1)))) (λm_1.(λq_2.m_1)))) (((λw_2.(λe_2.((e_2 (λr_2.(λt_2.(λy_2.(((r_2 (λu_2.(λi_2.(i_2 (u_2 t_2))))) (λo_2.y_2)) (λp_2.p_2)))))) w_2))) z_1) x_1)))) (λa_2.(λs_2.(a_2 s_2)))) (λd_2.(λf_2.(d_2 (d_2 (d_2 (d_2 f_2))))))))\n",
      "26: (((((((((λf.(λg.(f g))) (λh.(λj.(j (h (λk.(λl.(l (k (λz.(λx.(x (z (λc.(λv.(v (c (λb.(λn.(λm.m)))))))))))))))))))) (λq_1.(λw_1.(λe_1.(λr_1.(λt_1.(λy_1.t_1))))))) (λu_1.u_1)) (λi_1.i_1)) (λo_1.o_1)) (λp_1.p_1)) (((λa_1.(λs_1.((λd_1.((d_1 (λf_1.(λg_1.(λh_1.h_1)))) (λj_1.(λk_1.j_1)))) (((λl_1.(λz_1.((z_1 (λx_1.(λc_1.(λv_1.(((x_1 (λb_1.(λn_1.(n_1 (b_1 c_1))))) (λm_1.v_1)) (λq_2.q_2)))))) l_1))) a_1) s_1)))) (λw_2.(λe_2.(w_2 (w_2 (w_2 (w_2 e_2))))))) (λr_2.(λt_2.(r_2 t_2))))) (((λy_2.(λu_2.((λi_2.((i_2 (λo_2.(λp_2.(λa_2.a_2)))) (λs_2.(λd_2.s_2)))) (((λq.(λw.((w (λe.(λr.(λt.(((e (λy.(λu.(u (y r))))) (λi.t)) (λo.o)))))) q))) y_2) u_2)))) (λp.(λa.(p a)))) (λs.(λd.(s (s (s (s d))))))))\n",
      "27: ((((((((λq.((λw.(λe.(e (w (λr.(λt.(t (r (λy.(λu.(u (y (λi.(λo.(o (i (λp.(λa.(λs.s))))))))))))))))))) q)) (λd.(λf.(λg.(λh.(λj.(λk.j))))))) (λl.l)) (λz.z)) (λx.x)) (λc.c)) (((λv.(λb.((λn.((n (λm.(λq_1.(λw_1.w_1)))) (λe_1.(λr_1.e_1)))) (((λt_1.(λy_1.((y_1 (λu_1.(λi_1.(λo_1.(((u_1 (λp_1.(λa_1.(a_1 (p_1 i_1))))) (λs_1.o_1)) (λd_1.d_1)))))) t_1))) v) b)))) (λf_1.(λg_1.(f_1 (f_1 (f_1 (f_1 g_1))))))) (λh_1.(λj_1.(h_1 j_1))))) (((λk_1.(λl_1.((λz_1.((z_1 (λx_1.(λc_1.(λv_1.v_1)))) (λb_1.(λn_1.b_1)))) (((λm_1.(λq_2.((q_2 (λw_2.(λe_2.(λr_2.(((w_2 (λt_2.(λy_2.(y_2 (t_2 e_2))))) (λu_2.r_2)) (λi_2.i_2)))))) m_1))) k_1) l_1)))) (λo_2.(λp_2.(o_2 p_2)))) (λa_2.(λs_2.(a_2 (a_2 (a_2 (a_2 s_2))))))))\n",
      "28: ((((((((λd.(λf.(f (d (λg.(λh.(h (g (λj.(λk.(k (j (λl.(λz.(z (l (λx.(λc.(λv.v))))))))))))))))))) (λb.(λn.(λm.(λq_1.(λw_1.(λe_1.w_1))))))) (λr_1.r_1)) (λt_1.t_1)) (λy_1.y_1)) (λu_1.u_1)) (((λi_1.(λo_1.((λp_1.((p_1 (λa_1.(λs_1.(λd_1.d_1)))) (λf_1.(λg_1.f_1)))) (((λh_1.(λj_1.((j_1 (λk_1.(λl_1.(λz_1.(((k_1 (λx_1.(λc_1.(c_1 (x_1 l_1))))) (λv_1.z_1)) (λb_1.b_1)))))) h_1))) i_1) o_1)))) (λn_1.(λm_1.(n_1 (n_1 (n_1 (n_1 m_1))))))) (λq_2.(λw_2.(q_2 w_2))))) (((λe_2.(λr_2.((λt_2.((t_2 (λy_2.(λu_2.(λi_2.i_2)))) (λo_2.(λp_2.o_2)))) (((λa_2.(λq.((q (λw.(λe.(λr.(((w (λt.(λy.(y (t e))))) (λu.r)) (λi.i)))))) a_2))) e_2) r_2)))) (λo.(λp.(o p)))) (λa.(λs.(a (a (a (a s))))))))\n",
      "29: (((((((λq.(q ((λw.(λe.(λr.(λt.(λy.(λu.y)))))) (λi.(λo.(o (i (λp.(λa.(a (p (λs.(λd.(d (s (λf.(λg.(λh.h)))))))))))))))))) (λj.j)) (λk.k)) (λl.l)) (λz.z)) (((λx.(λc.((λv.((v (λb.(λn.(λm.m)))) (λq_1.(λw_1.q_1)))) (((λe_1.(λr_1.((r_1 (λt_1.(λy_1.(λu_1.(((t_1 (λi_1.(λo_1.(o_1 (i_1 y_1))))) (λp_1.u_1)) (λa_1.a_1)))))) e_1))) x) c)))) (λs_1.(λd_1.(s_1 (s_1 (s_1 (s_1 d_1))))))) (λf_1.(λg_1.(f_1 g_1))))) (((λh_1.(λj_1.((λk_1.((k_1 (λl_1.(λz_1.(λx_1.x_1)))) (λc_1.(λv_1.c_1)))) (((λb_1.(λn_1.((n_1 (λm_1.(λq_2.(λw_2.(((m_1 (λe_2.(λr_2.(r_2 (e_2 q_2))))) (λt_2.w_2)) (λy_2.y_2)))))) b_1))) h_1) j_1)))) (λu_2.(λi_2.(u_2 i_2)))) (λo_2.(λp_2.(o_2 (o_2 (o_2 (o_2 p_2))))))))\n",
      "30: (((((((λi.i) ((λo.(λp.(λa.(λs.(λd.(λf.d)))))) (λg.(λh.(h (g (λj.(λk.(k (j (λl.(λz.(z (l (λx.(λc.(λv.v))))))))))))))))) (λb.b)) (λn.n)) (λm.m)) (((λq_1.(λw_1.((λe_1.((e_1 (λr_1.(λt_1.(λy_1.y_1)))) (λu_1.(λi_1.u_1)))) (((λo_1.(λp_1.((p_1 (λa_1.(λs_1.(λd_1.(((a_1 (λf_1.(λg_1.(g_1 (f_1 s_1))))) (λh_1.d_1)) (λj_1.j_1)))))) o_1))) q_1) w_1)))) (λk_1.(λl_1.(k_1 (k_1 (k_1 (k_1 l_1))))))) (λz_1.(λx_1.(z_1 x_1))))) (((λc_1.(λv_1.((λb_1.((b_1 (λn_1.(λm_1.(λq_2.q_2)))) (λw_2.(λe_2.w_2)))) (((λr_2.(λt_2.((t_2 (λy_2.(λu_2.(λi_2.(((y_2 (λo_2.(λq.(q (o_2 u_2))))) (λw.i_2)) (λe.e)))))) r_2))) c_1) v_1)))) (λr.(λt.(r t)))) (λy.(λu.(y (y (y (y u))))))))\n",
      "31: (((((((λq.(λw.(λe.(λr.(λt.(λy.t)))))) (λu.(λi.(i (u (λo.(λp.(p (o (λa.(λs.(s (a (λd.(λf.(λg.g)))))))))))))))) (λh.h)) (λj.j)) (λk.k)) (((λl.(λz.((λx.((x (λc.(λv.(λb.b)))) (λn.(λm.n)))) (((λq_1.(λw_1.((w_1 (λe_1.(λr_1.(λt_1.(((e_1 (λy_1.(λu_1.(u_1 (y_1 r_1))))) (λi_1.t_1)) (λo_1.o_1)))))) q_1))) l) z)))) (λp_1.(λa_1.(p_1 (p_1 (p_1 (p_1 a_1))))))) (λs_1.(λd_1.(s_1 d_1))))) (((λf_1.(λg_1.((λh_1.((h_1 (λj_1.(λk_1.(λl_1.l_1)))) (λz_1.(λx_1.z_1)))) (((λc_1.(λv_1.((v_1 (λb_1.(λn_1.(λm_1.(((b_1 (λq_2.(λw_2.(w_2 (q_2 n_1))))) (λe_2.m_1)) (λr_2.r_2)))))) c_1))) f_1) g_1)))) (λt_2.(λy_2.(t_2 y_2)))) (λu_2.(λi_2.(u_2 (u_2 (u_2 (u_2 i_2))))))))\n",
      "32: ((((((λq.(λw.(λe.(λr.(λt.r))))) (λy.y)) (λu.u)) (λi.i)) (((λo.(λp.((λa.((a (λs.(λd.(λf.f)))) (λg.(λh.g)))) (((λj.(λk.((k (λl.(λz.(λx.(((l (λc.(λv.(v (c z))))) (λb.x)) (λn.n)))))) j))) o) p)))) (λm.(λq_1.(m (m (m (m q_1))))))) (λw_1.(λe_1.(w_1 e_1))))) (((λr_1.(λt_1.((λy_1.((y_1 (λu_1.(λi_1.(λo_1.o_1)))) (λp_1.(λa_1.p_1)))) (((λs_1.(λd_1.((d_1 (λf_1.(λg_1.(λh_1.(((f_1 (λj_1.(λk_1.(k_1 (j_1 g_1))))) (λl_1.h_1)) (λz_1.z_1)))))) s_1))) r_1) t_1)))) (λx_1.(λc_1.(x_1 c_1)))) (λv_1.(λb_1.(v_1 (v_1 (v_1 (v_1 b_1))))))))\n",
      "33: (((((λs_1.(λd_1.(λf_1.(λg_1.f_1)))) (λh_1.h_1)) (λj_1.j_1)) (((λk_1.(λl_1.((λz_1.((z_1 (λx_1.(λc_1.(λq.q)))) (λw.(λe.w)))) (((λr.(λt.((t (λy.(λu.(λi.(((y (λo.(λp.(p (o u))))) (λa.i)) (λs.s)))))) r))) k_1) l_1)))) (λd.(λf.(d (d (d (d f))))))) (λg.(λh.(g h))))) (((λj.(λk.((λl.((l (λz.(λx.(λc.c)))) (λv.(λb.v)))) (((λn.(λm.((m (λq_1.(λw_1.(λe_1.(((q_1 (λr_1.(λt_1.(t_1 (r_1 w_1))))) (λy_1.e_1)) (λu_1.u_1)))))) n))) j) k)))) (λi_1.(λo_1.(i_1 o_1)))) (λp_1.(λa_1.(p_1 (p_1 (p_1 (p_1 a_1))))))))\n",
      "34: ((((λq.(λw.(λe.w))) (λr.r)) (((λt.(λy.((λu.((u (λi.(λo.(λp.p)))) (λa.(λs.a)))) (((λd.(λf.((f (λg.(λh.(λj.(((g (λk.(λl.(l (k h))))) (λz.j)) (λx.x)))))) d))) t) y)))) (λc.(λv.(c (c (c (c v))))))) (λb.(λn.(b n))))) (((λm.(λq_1.((λw_1.((w_1 (λe_1.(λr_1.(λt_1.t_1)))) (λy_1.(λu_1.y_1)))) (((λi_1.(λo_1.((o_1 (λp_1.(λa_1.(λs_1.(((p_1 (λd_1.(λf_1.(f_1 (d_1 a_1))))) (λg_1.s_1)) (λh_1.h_1)))))) i_1))) m) q_1)))) (λj_1.(λk_1.(j_1 k_1)))) (λl_1.(λz_1.(l_1 (l_1 (l_1 (l_1 z_1))))))))\n",
      "35: (((λq.(λw.q)) (((λe.(λr.((λt.((t (λy.(λu.(λi.i)))) (λo.(λp.o)))) (((λa.(λs.((s (λd.(λf.(λg.(((d (λh.(λj.(j (h f))))) (λk.g)) (λl.l)))))) a))) e) r)))) (λz.(λx.(z (z (z (z x))))))) (λc.(λv.(c v))))) (((λb.(λn.((λm.((m (λq_1.(λw_1.(λe_1.e_1)))) (λr_1.(λt_1.r_1)))) (((λy_1.(λu_1.((u_1 (λi_1.(λo_1.(λp_1.(((i_1 (λa_1.(λs_1.(s_1 (a_1 o_1))))) (λd_1.p_1)) (λf_1.f_1)))))) y_1))) b) n)))) (λg_1.(λh_1.(g_1 h_1)))) (λj_1.(λk_1.(j_1 (j_1 (j_1 (j_1 k_1))))))))\n",
      "36: ((λj_1.(((λq.(λw.((λe.((e (λr.(λt.(λy.y)))) (λu.(λi.u)))) (((λo.(λp.((p (λa.(λs.(λd.(((a (λf.(λg.(g (f s))))) (λh.d)) (λj.j)))))) o))) q) w)))) (λk.(λl.(k (k (k (k l))))))) (λz.(λx.(z x))))) (((λc.(λv.((λb.((b (λn.(λm.(λq_1.q_1)))) (λw_1.(λe_1.w_1)))) (((λr_1.(λt_1.((t_1 (λy_1.(λu_1.(λi_1.(((y_1 (λo_1.(λp_1.(p_1 (o_1 u_1))))) (λa_1.i_1)) (λs_1.s_1)))))) r_1))) c) v)))) (λd_1.(λf_1.(d_1 f_1)))) (λg_1.(λh_1.(g_1 (g_1 (g_1 (g_1 h_1))))))))\n",
      "37: (((λq.(λw.((λe.((e (λr.(λt.(λy.y)))) (λu.(λi.u)))) (((λo.(λp.((p (λa.(λs.(λd.(((a (λf.(λg.(g (f s))))) (λh.d)) (λj.j)))))) o))) q) w)))) (λk.(λl.(k (k (k (k l))))))) (λz.(λx.(z x))))\n",
      "38: ((λq.((λw.((w (λe.(λr.(λt.t)))) (λy.(λu.y)))) (((λi.(λo.((o (λp.(λa.(λs.(((p (λd.(λf.(f (d a))))) (λg.s)) (λh.h)))))) i))) (λj.(λk.(j (j (j (j k))))))) q))) (λl.(λz.(l z))))\n",
      "39: ((λq.((q (λw.(λe.(λr.r)))) (λt.(λy.t)))) (((λu.(λi.((i (λo.(λp.(λa.(((o (λs.(λd.(d (s p))))) (λf.a)) (λg.g)))))) u))) (λh.(λj.(h (h (h (h j))))))) (λk.(λl.(k l)))))\n",
      "40: (((((λq.(λw.((w (λe.(λr.(λt.(((e (λy.(λu.(u (y r))))) (λi.t)) (λo.o)))))) q))) (λp.(λa.(p (p (p (p a))))))) (λs.(λd.(s d)))) (λf.(λg.(λh.h)))) (λj.(λk.j)))\n",
      "41: ((((λp.((p (λa.(λs.(λd.(((a (λf.(λg.(g (f s))))) (λh.d)) (λj.j)))))) (λq.(λw.(q (q (q (q w)))))))) (λe.(λr.(e r)))) (λt.(λy.(λu.u)))) (λi.(λo.i)))\n",
      "42: (((((λq.(λw.(q w))) (λe.(λr.(λt.(((e (λy.(λu.(u (y r))))) (λi.t)) (λo.o)))))) (λp.(λa.(p (p (p (p a))))))) (λs.(λd.(λf.f)))) (λg.(λh.g)))\n",
      "43: ((((λo.((λp.(λa.(λs.(((p (λd.(λf.(f (d a))))) (λg.s)) (λq.q))))) o)) (λw.(λe.(w (w (w (w e))))))) (λr.(λt.(λy.y)))) (λu.(λi.u)))\n",
      "44: ((((λq.(λw.(λe.(((q (λr.(λt.(t (r w))))) (λy.e)) (λu.u))))) (λi.(λo.(i (i (i (i o))))))) (λp.(λa.(λs.s)))) (λd.(λf.d)))\n",
      "45: (((λr.(λt.((((λy.(λu.(y (y (y (y u)))))) (λi.(λo.(o (i r))))) (λp.t)) (λa.a)))) (λs.(λd.(λq.q)))) (λw.(λe.w)))\n",
      "46: ((λq.((((λw.(λe.(w (w (w (w e)))))) (λr.(λt.(t (r (λy.(λu.(λi.i)))))))) (λo.q)) (λp.p))) (λa.(λs.a)))\n",
      "47: ((((λq.(λw.(q (q (q (q w)))))) (λe.(λr.(r (e (λt.(λy.(λu.u)))))))) (λi.(λo.(λp.o)))) (λa.a))\n",
      "48: (((λq.((λw.(λe.(e (w (λr.(λt.(λy.y))))))) ((λu.(λi.(i (u (λo.(λp.(λa.a))))))) ((λs.(λd.(d (s (λf.(λg.(λh.h))))))) ((λj.(λk.(k (j (λl.(λz.(λx.x))))))) q))))) (λc.(λv.(λb.v)))) (λn.n))\n",
      "49: (((λs.(λd.(d (s (λf.(λg.(λh.h))))))) ((λj.(λk.(k (j (λl.(λz.(λx.x))))))) ((λc.(λv.(v (c (λb.(λq.(λw.w))))))) ((λe.(λr.(r (e (λt.(λy.(λu.u))))))) (λi.(λo.(λp.o))))))) (λa.a))\n",
      "50: ((λq.(q (((λw.(λe.(e (w (λr.(λt.(λy.y))))))) ((λu.(λi.(i (u (λo.(λp.(λa.a))))))) ((λs.(λd.(d (s (λf.(λg.(λh.h))))))) (λj.(λk.(λl.k)))))) (λz.(λx.(λc.c)))))) (λv.v))\n",
      "51: ((λq.q) (((λw.(λe.(e (w (λr.(λt.(λy.y))))))) ((λu.(λi.(i (u (λo.(λp.(λa.a))))))) ((λs.(λd.(d (s (λf.(λg.(λh.h))))))) (λj.(λk.(λl.k)))))) (λz.(λx.(λc.c)))))\n",
      "52: (((λq.(λw.(w (q (λe.(λr.(λt.t))))))) ((λy.(λu.(u (y (λi.(λo.(λp.p))))))) ((λa.(λs.(s (a (λd.(λf.(λg.g))))))) (λh.(λj.(λk.j)))))) (λl.(λz.(λx.x))))\n",
      "53: ((λq.(q (((λw.(λe.(e (w (λr.(λt.(λy.y))))))) ((λu.(λi.(i (u (λo.(λp.(λa.a))))))) (λs.(λd.(λf.d))))) (λg.(λh.(λj.j)))))) (λk.(λl.(λz.z))))\n",
      "54: ((λq.(λw.(λe.e))) (((λr.(λt.(t (r (λy.(λu.(λi.i))))))) ((λo.(λp.(p (o (λa.(λs.(λd.d))))))) (λf.(λg.(λh.g))))) (λj.(λk.(λl.l)))))\n",
      "55: (λq.(λw.w))\n",
      "\n",
      "\n",
      "reduction steps: 55\n",
      "norm term:       (λq.(λw.w))\n"
     ]
    }
   ],
   "source": [
    "def term_test_13():\n",
    "    return multi_app_term(eq_term(), num_term(1), num_term(4))\n",
    "\n",
    "\n",
    "test_procedure(term_test_13(), steps_lim=120)"
   ],
   "metadata": {
    "collapsed": false
   }
  }
 ],
 "metadata": {
  "kernelspec": {
   "display_name": "Python 3",
   "language": "python",
   "name": "python3"
  },
  "language_info": {
   "codemirror_mode": {
    "name": "ipython",
    "version": 2
   },
   "file_extension": ".py",
   "mimetype": "text/x-python",
   "name": "python",
   "nbconvert_exporter": "python",
   "pygments_lexer": "ipython2",
   "version": "2.7.6"
  }
 },
 "nbformat": 4,
 "nbformat_minor": 0
}
