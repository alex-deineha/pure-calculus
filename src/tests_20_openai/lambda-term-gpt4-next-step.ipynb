{
 "cells": [
  {
   "cell_type": "code",
   "outputs": [],
   "source": [
    "import openai\n",
    "\n",
    "import pandas as pd\n",
    "import tiktoken\n",
    "\n",
    "from tqdm import tqdm\n",
    "\n",
    "import sacrebleu\n",
    "from rouge_score import rouge_scorer\n",
    "\n",
    "import os\n",
    "# from dotenv import load_dotenv, find_dotenv\n",
    "# _ = load_dotenv(find_dotenv()) # read local .env file\n",
    "\n",
    "# openai.api_key  = os.getenv('OPENAI_API_KEY')\n",
    "openai.api_key  = \"\""
   ],
   "metadata": {
    "collapsed": false,
    "ExecuteTime": {
     "end_time": "2024-03-21T15:48:38.233571Z",
     "start_time": "2024-03-21T15:48:38.163251Z"
    }
   },
   "id": "dc3c9204c766e6d8",
   "execution_count": 2
  },
  {
   "cell_type": "code",
   "outputs": [],
   "source": [
    "client = openai.AsyncOpenAI(\n",
    "  api_key=openai.api_key,  # this is also the default, it can be omitted\n",
    ")\n",
    "\n",
    "\n",
    "async def get_completion(prompt_, model_=\"gpt-4\"):\n",
    "    messages_ = [{\"role\": \"user\", \"content\": prompt_}]\n",
    "    response_ = await client.chat.completions.create(\n",
    "        model=model_, \n",
    "        messages=messages_,\n",
    "        temperature=0.00000001,\n",
    "    )\n",
    "    return response_.choices[0].message.content"
   ],
   "metadata": {
    "collapsed": false,
    "ExecuteTime": {
     "end_time": "2024-03-21T15:48:43.462547Z",
     "start_time": "2024-03-21T15:48:43.428514Z"
    }
   },
   "id": "185897b1ae9f1b24",
   "execution_count": 3
  },
  {
   "cell_type": "markdown",
   "source": [
    "# Set up prompt"
   ],
   "metadata": {
    "collapsed": false
   },
   "id": "105205447bb9b0cc"
  },
  {
   "cell_type": "code",
   "outputs": [
    {
     "name": "stdout",
     "output_type": "stream",
     "text": [
      "expected output: (λx.((λy.y) (λa.a)))\n",
      "model output: (λx.(λa.a) x)\n"
     ]
    }
   ],
   "source": [
    "str_term = \"(λx.((λy.((λz.z) x)) (λa.a)))\"\n",
    "next_step_term = \"(λx.((λy.y) (λa.a)))\"\n",
    "\n",
    "prompt = f\"\"\"\n",
    "Please generate the next step of reduction a Lambda Calculus term. Provide only term expression.\n",
    "\n",
    "Lambda term: '''{str_term}'''\n",
    "\"\"\"\n",
    "response = await get_completion(prompt)\n",
    "print(f\"expected output: {next_step_term}\")\n",
    "print(f\"model output: {response}\")"
   ],
   "metadata": {
    "collapsed": false,
    "ExecuteTime": {
     "end_time": "2024-03-21T15:49:35.078915Z",
     "start_time": "2024-03-21T15:49:33.535995Z"
    }
   },
   "id": "695ebf3ea5f177f9",
   "execution_count": 5
  },
  {
   "cell_type": "markdown",
   "source": [
    "# Load the data"
   ],
   "metadata": {
    "collapsed": false
   },
   "id": "9887df62149626c0"
  },
  {
   "cell_type": "code",
   "outputs": [
    {
     "data": {
      "text/plain": "                                                term  \\\n0  ((λx.(λy.((y y) (λz.z)))) (λa.(((λb.b) (a (λc....   \n1  (((λx.(λy.((y y) (λz.((λa.(λb.(λc.(x (c (a c))...   \n2  ((λx.((x x) (λy.((λz.(λa.(λb.((λc.(((λd.(c d))...   \n3  ((((λx.x) ((λy.y) (λz.(z (λa.z))))) ((λx.x) ((...   \n4  ((((λx.x) (λy.(y (λz.y)))) ((λa.a) ((λb.b) (λc...   \n\n                                        term_next_LO  \n0                                (λx.((x x) (λy.y)))  \n1  ((λx.((x x) (λy.((λz.(λa.(λb.((λc.(((λd.(c d))...  \n2  ((((λx.x) ((λy.y) (λz.(z (λa.z))))) ((λx.x) ((...  \n3  ((((λx.x) (λy.(y (λz.y)))) ((λa.a) ((λb.b) (λc...  \n4  (((λx.(x (λy.x))) ((λz.z) ((λa.a) (λb.(b (λc.b...  ",
      "text/html": "<div>\n<style scoped>\n    .dataframe tbody tr th:only-of-type {\n        vertical-align: middle;\n    }\n\n    .dataframe tbody tr th {\n        vertical-align: top;\n    }\n\n    .dataframe thead th {\n        text-align: right;\n    }\n</style>\n<table border=\"1\" class=\"dataframe\">\n  <thead>\n    <tr style=\"text-align: right;\">\n      <th></th>\n      <th>term</th>\n      <th>term_next_LO</th>\n    </tr>\n  </thead>\n  <tbody>\n    <tr>\n      <th>0</th>\n      <td>((λx.(λy.((y y) (λz.z)))) (λa.(((λb.b) (a (λc....</td>\n      <td>(λx.((x x) (λy.y)))</td>\n    </tr>\n    <tr>\n      <th>1</th>\n      <td>(((λx.(λy.((y y) (λz.((λa.(λb.(λc.(x (c (a c))...</td>\n      <td>((λx.((x x) (λy.((λz.(λa.(λb.((λc.(((λd.(c d))...</td>\n    </tr>\n    <tr>\n      <th>2</th>\n      <td>((λx.((x x) (λy.((λz.(λa.(λb.((λc.(((λd.(c d))...</td>\n      <td>((((λx.x) ((λy.y) (λz.(z (λa.z))))) ((λx.x) ((...</td>\n    </tr>\n    <tr>\n      <th>3</th>\n      <td>((((λx.x) ((λy.y) (λz.(z (λa.z))))) ((λx.x) ((...</td>\n      <td>((((λx.x) (λy.(y (λz.y)))) ((λa.a) ((λb.b) (λc...</td>\n    </tr>\n    <tr>\n      <th>4</th>\n      <td>((((λx.x) (λy.(y (λz.y)))) ((λa.a) ((λb.b) (λc...</td>\n      <td>(((λx.(x (λy.x))) ((λz.z) ((λa.a) (λb.(b (λc.b...</td>\n    </tr>\n  </tbody>\n</table>\n</div>"
     },
     "execution_count": 6,
     "metadata": {},
     "output_type": "execute_result"
    }
   ],
   "source": [
    "df = pd.read_csv(\"./data/term_step_LO.csv\", delimiter=\",\")\n",
    "df.head()"
   ],
   "metadata": {
    "collapsed": false,
    "ExecuteTime": {
     "end_time": "2024-03-21T15:55:33.276938Z",
     "start_time": "2024-03-21T15:55:33.213067Z"
    }
   },
   "id": "818d4a5c16f91ba3",
   "execution_count": 6
  },
  {
   "cell_type": "code",
   "outputs": [
    {
     "name": "stdout",
     "output_type": "stream",
     "text": [
      "Total term tokens: 523365\n",
      "Total expected tokens: 502995\n"
     ]
    }
   ],
   "source": [
    "enc_tiktoken = tiktoken.encoding_for_model(\"gpt-4\")\n",
    "total_tokens = 0\n",
    "for term in df[\"term\"].tolist():\n",
    "    total_tokens += len(enc_tiktoken.encode(term))\n",
    "\n",
    "print(f\"Total term tokens: {total_tokens}\")\n",
    "\n",
    "total_tokens = 0\n",
    "for term in df[\"term_next_LO\"].tolist():\n",
    "    total_tokens += len(enc_tiktoken.encode(term))\n",
    "    \n",
    "print(f\"Total expected tokens: {total_tokens}\")"
   ],
   "metadata": {
    "collapsed": false,
    "ExecuteTime": {
     "end_time": "2024-03-21T15:55:42.197001Z",
     "start_time": "2024-03-21T15:55:41.163260Z"
    }
   },
   "id": "e90c8884d1da3140",
   "execution_count": 7
  },
  {
   "cell_type": "markdown",
   "source": [
    "# Reduce size of expected and input terms tokens"
   ],
   "metadata": {
    "collapsed": false
   },
   "id": "4207159bb925f489"
  },
  {
   "cell_type": "code",
   "outputs": [],
   "source": [
    "df_reduced = df[[len(enc_tiktoken.encode(term)) < 40 for term in df[\"term\"].tolist()]]"
   ],
   "metadata": {
    "collapsed": false,
    "ExecuteTime": {
     "end_time": "2024-03-21T15:56:40.617190Z",
     "start_time": "2024-03-21T15:56:40.317992Z"
    }
   },
   "id": "9c0020fa45b5e7c5",
   "execution_count": 23
  },
  {
   "cell_type": "code",
   "outputs": [
    {
     "data": {
      "text/plain": "305"
     },
     "execution_count": 24,
     "metadata": {},
     "output_type": "execute_result"
    }
   ],
   "source": [
    "len(df_reduced)"
   ],
   "metadata": {
    "collapsed": false,
    "ExecuteTime": {
     "end_time": "2024-03-21T15:56:40.695055Z",
     "start_time": "2024-03-21T15:56:40.689683Z"
    }
   },
   "id": "6d996b4b1e4e9e32",
   "execution_count": 24
  },
  {
   "cell_type": "code",
   "outputs": [
    {
     "name": "stdout",
     "output_type": "stream",
     "text": [
      "Total term tokens: 8219\n",
      "Total expected tokens: 6418\n"
     ]
    }
   ],
   "source": [
    "total_tokens = 0\n",
    "for term in df_reduced[\"term\"].tolist():\n",
    "    total_tokens += len(enc_tiktoken.encode(term))\n",
    "\n",
    "print(f\"Total term tokens: {total_tokens}\")\n",
    "\n",
    "total_tokens = 0\n",
    "for term in df_reduced[\"term_next_LO\"].tolist():\n",
    "    total_tokens += len(enc_tiktoken.encode(term))\n",
    "    \n",
    "print(f\"Total expected tokens: {total_tokens}\")"
   ],
   "metadata": {
    "collapsed": false,
    "ExecuteTime": {
     "end_time": "2024-03-21T15:56:41.271064Z",
     "start_time": "2024-03-21T15:56:41.247831Z"
    }
   },
   "id": "520c55999ffe68de",
   "execution_count": 25
  },
  {
   "cell_type": "markdown",
   "source": [
    "# Normalize terms with gpt-4-turbo model"
   ],
   "metadata": {
    "collapsed": false
   },
   "id": "d8315ed2fa0f791b"
  },
  {
   "cell_type": "code",
   "outputs": [
    {
     "name": "stderr",
     "output_type": "stream",
     "text": [
      "100%|██████████| 305/305 [08:52<00:00,  1.75s/it]\n"
     ]
    }
   ],
   "source": [
    "term_answers = []\n",
    "\n",
    "for str_term in tqdm(df_reduced[\"term\"].tolist()):\n",
    "    prompt = f\"\"\"\n",
    "    Please generate the next step of reduction a lambda term. Provide only term expression.\n",
    "    \n",
    "    Lambda term: '''{str_term}'''\n",
    "    \"\"\"\n",
    "    \n",
    "    response = await get_completion(prompt)\n",
    "    term_answers.append(response)"
   ],
   "metadata": {
    "collapsed": false,
    "ExecuteTime": {
     "end_time": "2024-03-21T16:06:28.792518Z",
     "start_time": "2024-03-21T15:57:35.962216Z"
    }
   },
   "id": "e58be76322503b78",
   "execution_count": 26
  },
  {
   "cell_type": "code",
   "outputs": [
    {
     "data": {
      "text/plain": "['((λy.(λz.(λa.a))) (λb.b)) ((λc.c) (λd.d))',\n '((λy.(λz.z)) (λa.a))',\n '(λy.y)',\n '(λy.(y (y y)))',\n \"'''(λy.(y ((((λz.λz) y) y) ((λz.λz λz.λz) (y (((λb.b) y) y))))))'''\",\n \"'''(λy.(y ((((λz.λz) y) y) ((λz.λz λz.λz) (y ((λa.a) y))))))'''\",\n '((λy.(λz.y)) (λc.(λd.(λe.(λj.e))))',\n '(λy.(λz.(λa.(λb.(λc.b)))))',\n '(λx.(λy.(λz.((z (z ((λa.(z (z z))) (z z)))) z)))',\n '((λy.y) (λa.(λb.((a a) ((b (λc.(a (λd.d)))) b)))))',\n '(λy.(λz.((y y) ((z (λa.(y (λb.b)))) z))))',\n \"'''(λx.(((x x) (λy.((x ((λz.z) y)) (x (λb.y))))) (x x)))'''\",\n \"'''(λx.(((x x) (λy.((x ((λz.z) y)) (x (λa.y))))) (x x)))'''\",\n '((((λy.y) (λz.(z (λa.a)))) (λb.b))',\n '((λy.(y (λz.z))) (λa.a))',\n '(λz.z (λy.y))',\n '(λy.y)',\n \"'''(λy.(λz.(λa.(λb.(λc.(λd.(λe.(λj.(λi.(λn.e)))))))))'''\",\n '((((λy.y) (λz.(λa.a))) (λb.(λc.((λd.d) (λe.e))))))',\n '((λy.(λz.z)) (λa.(λb.((λc.c) (λd.d)))))',\n '(λy.y)',\n \"'''(λy.(λz.z)) ((λa.(((a (λb.a)) a) ((λc.a) a))) (λd.(λe.e)))'''\",\n '((λy.(λz.z)) (λa.a))',\n \"'''(λx.(x (x (x (λy.(((y ((x x) ((λz.(x z)) y))) x) (λa.a))))))'''\",\n '(λy.(λz.(λa.((λb.(λc.(b (λd.(λe.(λj.j)))))) a)))',\n \"'''(λx.(λy.(λz.z (λc.(λd.(λe.e))))))'''\",\n '(λy.(((y (λz.y)) ((λa.a) (λb.y))) (y y)))',\n '((λb.b) ((λy.(λb.b)) ((λz.z) (λa.(λb.b)))) ((λb.b) (λb.b)))',\n \"'''(((λy.(λx.x)) ((λz.z) (λa.(λx.x)))) ((λx.x) (λx.x)))'''\",\n '((λy.y) ((λc.c) (λd.d)))',\n '((λx.x) (λz.z))',\n \"'''λy.((λx.(x (λz.((((z ((λa.z) (z z))) (λb.z)) (z z)) (λc.z)))) y)'''\",\n '((λy.y) (λz.(λa.((a (λb.(λc.(λd.d)))) z))))',\n '(λy.(λz.((z (λa.(λb.(λc.c)))) y)))',\n \"'''(λx.(x (λz.z)) (x x))'''\",\n \"'''(λx.(λy.(λa.(λb.(λc.((λd.(λe.e)) c))))))'''\",\n '(λx.(λy.(λz.(λa.(λb.b)))))',\n \"'''(λx.((((λy.(x y)) ((x x) x)) (x x)) ((x x) (λz.((x (λa.z)) x)))))''' cannot be reduced further as there are no beta reductions available.\",\n '(λy.(λz.((λa.z) z)))',\n '(λx.(λy.y))',\n '((λx.x) ((λy.(y ((y (y y)) y))) ((λa.((λb.a) a)) (λc.c)))) => ((λx.x) ((λy.(y ((y (y y)) y))) (λc.c)))',\n \"'''((λy.(λz.((λa.z) z))) (λb.b)) ((λy.(λz.((λa.z) z))) (λb.b)) ((λy.(λz.((λa.z) z))) (λb.b)) ((λy.(λz.((λa.z) z))) (λb.b)))'''\",\n '((λy.((λz.y) y)) (λa.a)) ((λc.((λd.c) c)) (λe.e))',\n '((λy.((λz.(λa.((λb.a) a))) (λc.c))) ((λz.(λa.((λb.a) a))) (λc.c)))',\n '(λy.((λz.y) y))',\n '(λy.x) x',\n \"'''(λy.(λz.(z (λa.((λb.z) (λc.a))))))'''\",\n \"'''(λx.(x ((x (λy.(λz.((λa.x) ((λb.(λc.x)) (z (z x))))))) x)))'''\",\n '(λy.((λz.(λa.a)) ((λb.(b ((λc.b) b))) (λd.d))))',\n \"'''(λx.((λy.(λz.z)) (λc.c)))'''\",\n '(λy.(λz.y))',\n '((λy.y) (λz.z))',\n \"'''(λx.((x x) ((λz.(λa.(z (a x)))) (λb.b))) (λc.c))'''\",\n \"'''(λx.((x x) ((λz.((λa.a) (z x))) (λb.b)))'''\",\n \"'''(λx.((x x) ((λy.((λz.z) (y x))) (λa.a))))''' -> '''(λx.((x x) ((λz.z) ((λa.a) x))))'''\",\n '(λx.((x x) x))',\n \"'''(λx.((x x) x))'''\",\n \"'''(λy.(((λz.y) (λa.(λx.x))) ((λx.x) (λb.((b (b (λc.b))) b)))))'''\",\n \"'''(λx.((λy.(x ((λa.((λb.x) a)) (λc.(λd.y))))) x))''' -> '''(λx.((λy.(x ((λa.x) (λc.(λd.y))))) x))'''\",\n \"'''(λx.(x (λz.((λa.x) z))))'''\",\n \"'''λx.(x (λy.x))'''\",\n '((λy.(λz.z)) ((λa.(λb.((b (λc.c)) b))) (λd.d)))',\n '(λy.y) ((λa.((a (λb.b)) a)) (λc.c))',\n \"'''(λx.(λy.(λz.z)))'''\",\n \"'''(λy.((((λz.y) (λd.y)) (λa.((λd.y) (λb.((λd.y) (λc.y)))))) (λd.y)))'''\",\n '(λy.(λz.(λa.((λb.b) y))))',\n '(λy.(λz.x))',\n \"'''((λy.(((λz.z) (λa.(λb.b))) (((λz.z) (λa.(λb.b))) ((λz.z) (λa.(λb.b)))))) ((λz.z) (λa.(λb.b))))'''\",\n '(λy.(y ((λz.(λa.(((λb.a) y) y))) (y y))))',\n \"'''(λx.(x ((λy.(λz.(z x))) (x x))))'''\",\n \"'''λx.(x (λy.y))'''\",\n \"'''(λx.(λy.(λz.(λa.(((λb.(z a)) a) z)))))'''\",\n \"'''(λx.(λy.(λz.(λa.((z a) z)))))'''\",\n \"'''(λx.(λy.(λz.(λa.(z a)))))'''\",\n \"'''(λy.(λz.(λa.(λb.(b (λc.((λd.(λe.(e d))) c))))))'''\",\n \"'''(λx.(x (x x)))'''\",\n \"'''(λy.(y (λz.((λa.a) (λb.(λc.c))))))'''\",\n \"'''(λy.(y (λz.(λa.(λb.b)))))'''\",\n '(λx.(λy.y))',\n \"'''(λx.((x x) x))'''\",\n '(λy.((λz.(λa.z)) (λb.(y (b b)))))',\n \"'''λx.(λz.(λa.(x (a a))))'''\",\n '((λy.y) ((λb.b) (λc.c)))',\n '((λx.x) (λz.(λa.z)) (λb.((λc.c) (λd.(λe.(λj.j))))))\\n',\n '((λy.(λz.y)) (λa.((λb.b) (λc.(λd.(λe.e))))))',\n '(λy.(λz.((λa.a) (λb.(λc.(λd.d)))))',\n '(λx.(λy.(λa.(λb.(λc.c)))))',\n \"'''(λy.((λc.c) (λz.(λa.(y ((λc.c) ((λb.z) (λc.c))))))))'''\",\n \"'''(λx.((x (((λy.(λz.(λa.(y (x (y ((z z) (y z)))))))) (λb.x)) x)) x))''' -> '''(λx.((x ((λz.(λa.(x (x (x ((z z) (x z))))))) x)) x))'''\",\n \"'''(λy.((λz.(λx.((x (λy.((λz.x) (x ((λa.x) ((x x) ((λb.x) x))))))) x)) (λx.((x (λy.((λz.x) (x ((λa.x) ((x x) ((λb.x) x))))))) x) ((λa.(λx.((x (λy.((λz.x) (x ((λa.x) ((x x) ((λb.x) x))))))) x)) ((λx.((x (λy.((λz.x) (x ((λa.x) ((x x) ((λb.x) x))))))) x) ((λx.((x (λy.((λz.x) (x ((λa.x) ((x x) ((λb.x) x))))))) x)))))'''\",\n \"'''(λy.(λz.(y ((((y ((y z) z)) z) (λa.(λb.z)) y))))'''\",\n \"'''(λx.(((x ((λy.(λz.z)) x)) (λb.(x b))) ((λc.(λd.d)) x)))'''\",\n \"'''(λx.(((x (λy.(λz.y))) (λa.(x a))) (λc.(λd.c)))'''\",\n \"'''(λz.(λa.(((a (a a)) a) (λb.(λc.(λd.d)))))'''\",\n '(λy.(λz.(((z (z z)) z) (λa.(λb.(λc.c)))))',\n '((λy.(λz.z)) (λa.(λb.a)))',\n '(λy.y)',\n \"'''(λx.(((x (((λy.(y x)) x) x)) ((x x) x)) (λz.(((x z) (x x)) z))))''' is not a valid lambda term. It contains free variables.\",\n '(λx.((λy.(y x)) x))',\n '(λx.(((λz.z) x) x))',\n \"'''(λx.((x x) x))'''\",\n \"'''(λx.(x (x (λy.(((x x) (λc.x)) (λd.d))))))'''\",\n \"'''(λy.(x (λz.(λa.(a ((λb.((λc.(λd.x)) a)) ((z z) x))))))'''\",\n \"'''λy.((λx.(x (λz.(λa.(a ((λb.(λc.x)) a)))))) y)'''\",\n \"'''(λx.((x (λy.(x (x y)))) (x (λz.x))))'''\",\n \"'''(λx.((x x) (λy.((λz.(x ((λa.(λb.(λc.c))) (λd.x)))) (x y)))))''' is already in its simplest form.\",\n \"'''(λx.((x x) (x ((λz.(λa.(λb.b))) (λc.x)))))'''\",\n \"'''(λx.(λy.(((λz.y) y) ((y) x))))'''\",\n '(λx.(λy.(y ((((λz.z) y) x) y))))',\n \"'''(λy.(y ((λz.y) y)))'''\",\n \"'''((λy.(λz.(λa.y))) (λc.(λd.((λe.c) (d d)))))'''\",\n \"'''λy.(λz.(λa.(λb.((λc.a) (b b)))))'''\",\n \"'''(λx.(λy.(λz.(λa.(z (a a))))))'''\",\n '((((λy.y) (λz.z)) (λa.(a a))) (λb.(λc.(c b)))) (λd.d)',\n '((((λy.(y y)) (λz.(λa.(a z)))) (λb.b))',\n '((λy.(λz.(z y))) (λy.(λz.(z y)))) (λa.a)',\n '((λy.(y (λx.(λy.(y x))))) (λz.z))',\n '(λa.a (λy.(λz.(z y))))',\n '(λy.(λz.(z y)))',\n \"'''(λb.x) ((λb.x) (λy.((λb.x) ((λb.x) (λz.(λb.x))))) (((λa.a) (λb.x)) ((λb.x) (λb.x))))'''\",\n \"'''(λx.((λy.y) (x ((λa.(a (λb.((λc.(λd.(λe.d))) a)))) x))))'''\",\n '(λx.(x ((λz.(z (λa.((λb.(λc.(λd.c))) z)))) x)))',\n '(λy.((((λz.(λa.z)) y) y) y))',\n '(λx.((λz.x) x))',\n \"'''(λx.(x x))'''\",\n '(λy.y) ((λz.((z (λa.(λb.(λc.(λd.a))))) z)) (λe.(λj.e)))',\n \"'''(λx.(x (λy.(λz.z))))'''\",\n \"'''(λx.(x (λz.x)))'''\",\n '(λx.(λz.x))',\n \"'''(λx.((λy.(λz.(λa.(z (z y))))) (x x))) (λb.b)''' -> '''(λy.(λz.(λa.(z (z y))))) ((λb.b) (λb.b))'''\",\n \"'''(λy.(λz.(y (y ((λa.a) (λa.a))))))'''\",\n \"'''(λy.(λx.(x (x ((λz.z) (λa.a))))))'''\",\n \"'''((λx.(λy.(λz.(λa.(λb.z))))) ((λd.(d d)) (λe.e)))'''\",\n '((λy.y) (λz.(λa.a))) (λb.(b ((b (λc.((b b) b))) b)))',\n '((λy.(λz.z)) (λa.(a ((a (λb.((a a) a))) a))))',\n '(λy.y)',\n '((λy.(λz.(y (λa.y)))) ((λb.b) (λc.c)))',\n \"'''(λy.(((λa.a) (λb.b)) (λz.((λa.a) (λb.b)))))'''\",\n '(λx.((λz.z) (λa.((λy.y) (λz.z)))))',\n '(λx.(x (λz.((λa.a) (λb.b))) ))',\n '(λx.(λy.(λa.a)))',\n \"'''((((λx.x) (λz.z)) (λa.a)) ((λb.b) (λd.d)))'''\",\n '((((λy.y) (λz.z)) ((λa.a) ((λb.b) (λc.c))))',\n '((λy.y) ((λz.z) ((λa.a) (λb.b)))',\n '((λx.x) ((λy.y) (λz.z)))',\n \"'''(λx.(x (((λy.(x (λz.y))) ((x (λb.b)) (x x))) (λc.x))))'''\",\n \"'''(λx.(x ((x (λy.((((λz.x) x) (λa.a)) (x x)))) (λb.x))))'''\",\n \"'''(λx.(λy.(λa.(x (a x)))))'''\",\n \"'''(λx.((x x) (λy.(y (((y (((λz.z) x) x)) y) y)))))'''\",\n \"'''(λx.(λz.z))'''\",\n '(λy.(λz.z))',\n '(λy.(y (λz.(λa.a))))',\n '((λy.(y y)) ((λz.z) (λa.a))) ((λb.(b b)) (λc.c))',\n '((λy.(y y)) (λz.z)) ((λy.(y y)) (λz.z))',\n '((λy.y) (λy.y)) ((λx.(x x)) (λy.y))',\n '((λx.x) ((λy.(y y)) (λz.z)))',\n '((λy.(y y)) (λz.z))',\n '(λy.y λy.y)',\n '(λx.x)',\n \"'''(λx.(((x x) x) (x (x ((x x) (((λy.y) (λz.(z z))) (λa.(λb.b))))))))'''\",\n \"'''(λx.(((x x) x) (x (x ((x x) ((λy.(y y)) (λa.a)))))))'''\",\n \"'''(λx.(((x x) x) (x (x ((x x) ((λz.z) (λz.z)))))))'''\",\n '(λx.((λy.y) ((λz.z) (λb.(λc.(λd.d))))))',\n '(λx.((λy.y) (λa.(λb.(λc.c)))))',\n \"'''λx.(λz.(λa.(λb.b)))'''\",\n \"'''(λx.(((λy.y) (λz.z)) ((λb.(λc.c)) ((λd.d) (λe.e)))))'''\",\n '(λx.((λy.(λz.z)) (λb.b)))',\n \"'''(λy.((λz.(z z)) (λa.a)))'''\",\n '(λy.(y y)) (λz.z)',\n '(λx.(λy.y))',\n '(λx.(λy.(y x)))',\n '((λy.(λz.(λa.(λb.(y z))))) (λc.(λd.(λe.e)))) (λj.j)',\n '((λy.(λz.(λa.((λb.(λc.(λd.d))) y)))) (λe.e))',\n '(λy.(λz.((λa.(λb.(λc.c))) (λd.d))))',\n '(λx.(λy.(λa.(λb.b))))',\n \"'''(λx.(((x x) (x (((x x) ((x (((x x) x) x)) x)) x))) x)'''\",\n '(λy.(λz.(λa.y)))',\n '(λx.(λy.(λz.(λa.((λc.c) (λd.(λe.z)))))))',\n \"'''(λx.(λy.(λz.(λa.z))))'''\",\n \"'''(λx.(λy.(λz.(λb.(λc.(b (λd.(λe.b)))))))'''\",\n \"'''(λy.(((λc.(y (λd.y))) y) ((λz.((z (λa.z)) (λb.(λc.(y (λd.y)))))) (λc.(y (λd.y))))))'''\",\n \"'''(λy.(λz.(λa.((λb.z) z))))'''\",\n '(λx.(λy.(λz.y)))',\n '(λx.((λz.((λa.(λb.(a z))) (λc.z))))',\n '(λx.(λy.y))',\n \"'''(λx.((λy.y) x))'''\",\n \"'''λx.x'''\",\n '((λy.y) (((λb.(λc.(c b))) (λd.d)) (λe.e)))',\n \"'''((λx.x) ((λz.(z (λa.a))) (λb.b)))'''\",\n '((λy.(y (λz.z))) (λa.a))',\n '((λy.y) (λz.(z (z ((z (λa.z)) z)))))',\n '(λy.(y (y ((y (λz.y)) y))))',\n '((λy.y) (λz.(λa.a))) ((λb.b) (λc.(λd.d))) (λe.e)',\n '(λx.(λy.(λz.(λa.((λc.c) z)))))',\n '(λx.(λy.(λz.(λa.z))))',\n '((λy.y) (λz.((z z) (λa.a))))',\n '(λy.((y y) (λz.z)))',\n '((λy.(λz.(λa.a))) (λb.(λc.b)))',\n '(λy.(λz.z))',\n '(λy.(λz.(((λa.(λb.(a b))) y) (λc.c))))',\n \"'''(λy.(λz.((λa.(y a)) (λb.b)))'''\",\n '((λy.((λz.z) (λa.(λb.b)))) (λc.c))',\n '((λy.y) (λz.(λa.a)))',\n '(λy.(λz.z))',\n '(λy.(λz.(λa.((λb.a) a)))) (λy.(λz.(λa.((λb.a) a))))',\n '((((λy.(y (λz.(z y)))) (λa.(λb.b))) ((λc.(λd.d)) (λe.e)))',\n '((λz.(λa.a)) ((λb.(λc.c)) (λd.d)))',\n '((λy.y) ((λa.(λb.b)) (λc.c)))',\n '((λx.x) (λz.z))',\n '((λy.(λz.((λa.z) y))) (λb.(λc.c)))',\n '(λy.((λz.y) (λa.(λb.b))))',\n '(λz.(λa.a))',\n \"'''(λx.(x (λz.z)))'''\",\n \"'''(λx.(λy.((λz.z) (λc.((λd.(λe.c)) c)))))'''\",\n \"'''(λx.(λy.(λz.a)))'''\",\n \"'''(λx.(x (x x)))'''\",\n '((((λy.(y (λz.z))) (λa.a)) (λb.b)) (λc.c)) (λd.(d d))',\n '((((λz.z) (λa.a)) (λb.b)) (λc.(c c)))',\n '((((λy.y) (λz.z)) (λa.a)) (λb.(b b)))',\n '(((λy.y) (λz.z)) (λa.(a a)))',\n '((λy.y) (λz.(z z)))',\n '(λy.(y y))',\n \"'''λx.(x (x (λy.(λz.((y y) ((λa.(z x)) (x y))))))'''\",\n \"'''(λy.((λz.(λa.(y (((λb.a) ((λc.a) y)) (λd.(d d)))))) y))'''\",\n \"'''(λy.(λz.(y (((λa.z) ((λb.z) y)) (λc.(c c))))))'''\",\n '(λz.((x z) z)) x',\n '(λx.((x x) x))',\n \"'''(λx.((λz.(λa.z)) ((λc.x) x)))'''\",\n '(λx.((λy.(λz.y)) x))',\n '(λy.((λz.(λx.x)) (λx.x)))',\n \"'''(λy.((((y y) (λz.y)) (λa.(λb.(λc.((λd.(λe.c)) y))))) y)'''\",\n '((λy.(λz.(y y))) (λa.(λb.a)))',\n '(λy.((λz.(λa.z)) (λz.(λa.z))))',\n \"'''λx.(λz.(λy.(λz.y)))'''\",\n '(λy.((λz.z) (λa.a)))',\n '(λx.(λy.y))',\n '(λb.(λc.b) (λy.(((λa.(λb.(λc.b)) (λa.(λb.(λc.b))) (λz.((λa.(λb.(λc.b)) ((λa.(λb.(λc.b)) (λa.(λb.(λc.b))) (λa.(λb.(λc.b)))) y)))))',\n '(λy.(λz.((z ((y ((λa.(λb.b)) y)) z)) (z (λc.c))))',\n \"'''(λy.((y ((λz.(λa.a)) y)) (y (λb.b))))'''\",\n \"'''((λx.x) ((λy.y) (λa.a)) ((λb.b) (λd.d)))'''\",\n '((λx.x) (λz.z) ((λa.a) ((λb.b) (λc.c))))',\n \"'''(λx.((λz.(λa.(λb.a))) x))'''\",\n '(λy.(λz.(λa.z)))',\n \"'''λx.(λz.(λa.(λb.(λc.c))))'''\",\n '(λx.(λy.((λz.z) (λb.b))))',\n '(λx.(λy.(λa.a)))',\n '((λx.x) ((λb.((λc.c) b)) (λd.d)))',\n '((λy.((λz.z) y)) ((λa.((λb.b) a)) (λc.c)))',\n '((λx.((λy.y) x)) (λb.b))',\n '((λx.x) (λa.a))',\n '((λy.y) (λz.z))',\n \"'''((λx.(x x)) ((λz.z) (λa.(λb.(λc.b)))))'''\",\n \"'''((λy.((λz.z) ((λa.a) (λb.(λc.(λd.c))))) (λe.e))'''\",\n \"'''(λx.(((λy.y) ((λz.z) (λa.(λb.(λc.b))))) (λd.d)))''' -> '''(λx.((λz.z) (λa.(λb.(λc.b)))))'''\",\n \"'''(λx.((λz.(λa.(λb.a))) (λc.c)))'''\",\n \"'''λx.(λz.(λa.z))'''\",\n \"'''(λy.(((λx.x) (y (y (λx.x)))) (λz.(((λa.a) ((((λb.(λx.x)) z) z) z)) z))) y)'''\",\n \"'''(λy.(((λx.x) (y (y λx.x))) (λz.(((((λa.λx.x) z) z) z) z))) y)'''\",\n \"'''(λy.(((λx.(λy.(((x x) (x (((x (λz.(λa.((λb.(λc.x)) x)))) y) y))) λx.(λy.(((x x) (x (((x (λz.(λa.((λb.(λc.x)) x)))) y) y)))) (λx.(λy.(((x x) (x (((x (λz.(λa.((λb.(λc.x)) x)))) y) y))) (((λx.(λy.(((x x) (x (((x (λz.(λa.((λb.(λc.x)) x)))) y) y))) (λz.(λa.((λb.(λc.λx.(λy.(((x x) (x (((x (λz.(λa.((λb.(λc.x)) x)))) y) y))))))) y) y))) y)'''\",\n '((((λy.y) ((λz.z) (λa.(a a)))) (λb.b))',\n '((λy.y) (λz.(z z))) (λa.a)',\n '((λy.(y y)) (λz.z))',\n '(λy.y)',\n '(λy.(λz.(λa.(λb.(λc.((λd.b) (λe.(e (λj.e))))))))',\n \"'''(λy.(λz.(λa.(λb.((λc.a) (λd.(λe.d)))))))'''\",\n '((λy.y) (λa.((a a) ((λb.b) (λc.(λd.a))))))',\n '(λy.((y y) ((λz.z) (λa.(λb.y)))))',\n \"'''(λx.((x x) x))'''\",\n \"'''(λx.((x x) ((λz.(λa.(λb.(λc.a))) (λd.d))))'''\",\n \"'''(λx.((x x) (λz.(λa.(λb.z)))))'''\",\n '(λy.((λz.(λa.z)) (λb.b)))',\n \"'''λx.(λz.(λa.a))'''\",\n \"'''(λx.((x x) x))'''\",\n \"'''λx.(x (λy.((λz.x) (y x))))'''\",\n \"'''(((λy.y) (((λz.(z (z z))) (λa.a)) (λb.(λc.(c b)))))'''\",\n '((λx.x) ((λz.z) (λa.(λb.(b a)))))',\n '((λy.y) ((λy.y) (λz.(λa.(a z)))))',\n '(((λx.x) (λx.x)) (λy.(λz.(z y))))',\n '((λy.y) (λz.(λa.(a z))))',\n \"'''(λy.(y (λz.((λa.y) ((λb.y) y)))))'''\",\n \"'''(λy.(λz.((λa.a) (λb.(λc.(λd.(λx.(x (λy.(λz.((λa.a) (λb.(λc.(λd.x)))))))))))))'''\",\n \"'''(λx.(x ((x (x ((λz.(z x))) (λa.x)))) (λb.b)))'''\",\n \"'''(λx.(λy.(((λz.y) (y)) (λb.(x ((y ((λc.y) b)) x))))))'''\",\n \"'''(λy.(y (λz.(x ((y ((λa.y) z)) x)))))'''\",\n '((λy.y) ((λa.a) (λb.(λc.b))))',\n '((λx.x) (λz.(λa.z)))',\n '(λy.(λz.y))',\n '((((λy.y) (λz.(λa.z))) ((λb.b) (λc.c)))',\n '((λy.(λz.y)) ((λa.a) (λb.b)))',\n '((λc.c) (λc.c) (λy.((((λz.(λa.z)) (λb.b)) (λc.c)) y)))',\n '((λy.((((λz.(λa.z)) (λb.b)) (λc.c)) y)) ((λd.d) (λe.e)))',\n '((((λy.(λz.y)) (λa.a)) (λb.b)) ((λc.c) (λd.d)))',\n '((((λy.(λz.z)) (λa.a)) ((λb.b) (λc.c)))',\n '((λy.y) ((λa.a) (λb.b)))',\n \"'''(λx.(x (x (λy.(λz.(z ((λa.(y ((((a a) y) z) a))) z)))))))'''\",\n '((λy.(((λz.y) (λb.b)) (λb.b))) (λa.a))',\n '((λx.x) (λz.z))',\n '((((λy.y) (λz.z)) (λa.a)) (λb.b))',\n '((λy.y) (λz.(λa.(((λb.a) ((λc.(c a)) (a z))) (z a)))))',\n '(λy.(λz.(((λa.z) ((λb.(b z)) (z y))) (y z))))',\n \"'''(λx.(λy.(((λz.y) ((λa.(a y)) (y x))) (x y))))''' -> '''(λx.(λy.((y ((λa.(a y)) (y x))))))'''\",\n \"'''(λx.((((((λz.(λa.(λb.b)))) (λd.d)) x) x) x))'''\",\n '(λx.(((((λz.(λa.a)) x) x) x) x))',\n \"'''(λx.((x x) x))'''\",\n \"'''(λx.(x x))'''\"]"
     },
     "execution_count": 27,
     "metadata": {},
     "output_type": "execute_result"
    }
   ],
   "source": [
    "term_answers"
   ],
   "metadata": {
    "collapsed": false,
    "ExecuteTime": {
     "end_time": "2024-03-21T16:13:58.789295Z",
     "start_time": "2024-03-21T16:13:58.764211Z"
    }
   },
   "id": "b087de5a7f41cc36",
   "execution_count": 27
  },
  {
   "cell_type": "code",
   "outputs": [],
   "source": [
    "df_reduced = df_reduced.reset_index(drop=True)"
   ],
   "metadata": {
    "collapsed": false,
    "ExecuteTime": {
     "end_time": "2024-03-21T16:14:00.591252Z",
     "start_time": "2024-03-21T16:14:00.577123Z"
    }
   },
   "id": "f00f4c54e2208fe8",
   "execution_count": 28
  },
  {
   "cell_type": "code",
   "outputs": [],
   "source": [
    "df_reduced[\"gpt4_answers\"] = term_answers"
   ],
   "metadata": {
    "collapsed": false,
    "ExecuteTime": {
     "end_time": "2024-03-21T16:14:03.258355Z",
     "start_time": "2024-03-21T16:14:03.243929Z"
    }
   },
   "id": "afacd9d421a7169e",
   "execution_count": 29
  },
  {
   "cell_type": "code",
   "outputs": [
    {
     "data": {
      "text/plain": "                                                term  \\\n0  (((λx.((λy.(λz.(λa.a))) x)) (λb.b)) ((λc.c) (λ...   \n1                      (((λx.x) (λy.(λz.z))) (λa.a))   \n2                               ((λx.(λy.y)) (λz.z))   \n3                            ((λx.x) (λy.(y (y y))))   \n4  (λx.(λy.(y ((((x (λz.x)) y) y) ((x x) (y (((λa...   \n\n                                        term_next_LO  \\\n0        (((λx.(λy.(λz.z))) (λa.a)) ((λb.b) (λc.c)))   \n1                               ((λx.(λy.y)) (λz.z))   \n2                                             (λx.x)   \n3                                     (λx.(x (x x)))   \n4  (λx.(λy.(y ((((x (λz.x)) y) y) ((x x) (y ((λa....   \n\n                                        gpt4_answers  \n0          ((λy.(λz.(λa.a))) (λb.b)) ((λc.c) (λd.d))  \n1                               ((λy.(λz.z)) (λa.a))  \n2                                             (λy.y)  \n3                                     (λy.(y (y y)))  \n4  '''(λy.(y ((((λz.λz) y) y) ((λz.λz λz.λz) (y (...  ",
      "text/html": "<div>\n<style scoped>\n    .dataframe tbody tr th:only-of-type {\n        vertical-align: middle;\n    }\n\n    .dataframe tbody tr th {\n        vertical-align: top;\n    }\n\n    .dataframe thead th {\n        text-align: right;\n    }\n</style>\n<table border=\"1\" class=\"dataframe\">\n  <thead>\n    <tr style=\"text-align: right;\">\n      <th></th>\n      <th>term</th>\n      <th>term_next_LO</th>\n      <th>gpt4_answers</th>\n    </tr>\n  </thead>\n  <tbody>\n    <tr>\n      <th>0</th>\n      <td>(((λx.((λy.(λz.(λa.a))) x)) (λb.b)) ((λc.c) (λ...</td>\n      <td>(((λx.(λy.(λz.z))) (λa.a)) ((λb.b) (λc.c)))</td>\n      <td>((λy.(λz.(λa.a))) (λb.b)) ((λc.c) (λd.d))</td>\n    </tr>\n    <tr>\n      <th>1</th>\n      <td>(((λx.x) (λy.(λz.z))) (λa.a))</td>\n      <td>((λx.(λy.y)) (λz.z))</td>\n      <td>((λy.(λz.z)) (λa.a))</td>\n    </tr>\n    <tr>\n      <th>2</th>\n      <td>((λx.(λy.y)) (λz.z))</td>\n      <td>(λx.x)</td>\n      <td>(λy.y)</td>\n    </tr>\n    <tr>\n      <th>3</th>\n      <td>((λx.x) (λy.(y (y y))))</td>\n      <td>(λx.(x (x x)))</td>\n      <td>(λy.(y (y y)))</td>\n    </tr>\n    <tr>\n      <th>4</th>\n      <td>(λx.(λy.(y ((((x (λz.x)) y) y) ((x x) (y (((λa...</td>\n      <td>(λx.(λy.(y ((((x (λz.x)) y) y) ((x x) (y ((λa....</td>\n      <td>'''(λy.(y ((((λz.λz) y) y) ((λz.λz λz.λz) (y (...</td>\n    </tr>\n  </tbody>\n</table>\n</div>"
     },
     "execution_count": 30,
     "metadata": {},
     "output_type": "execute_result"
    }
   ],
   "source": [
    "df_reduced.head()"
   ],
   "metadata": {
    "collapsed": false,
    "ExecuteTime": {
     "end_time": "2024-03-21T16:14:04.240661Z",
     "start_time": "2024-03-21T16:14:04.226193Z"
    }
   },
   "id": "e24352501352e697",
   "execution_count": 30
  },
  {
   "cell_type": "code",
   "outputs": [],
   "source": [
    "df_reduced.to_csv(\"./data/gpt4_answers.csv\", index=False)"
   ],
   "metadata": {
    "collapsed": false,
    "ExecuteTime": {
     "end_time": "2024-03-21T16:14:05.405116Z",
     "start_time": "2024-03-21T16:14:05.395836Z"
    }
   },
   "id": "ae44ab79e39c614",
   "execution_count": 31
  },
  {
   "cell_type": "markdown",
   "source": [
    "# Calculate accuracy"
   ],
   "metadata": {
    "collapsed": false
   },
   "id": "290a67d106ebe211"
  },
  {
   "cell_type": "code",
   "outputs": [
    {
     "name": "stdout",
     "output_type": "stream",
     "text": [
      "pure accuracy:  3.278688524590164 %\n"
     ]
    }
   ],
   "source": [
    "true_count = 0\n",
    "\n",
    "for next_term, next_pred_term in zip(df_reduced[\"term_next_LO\"], df_reduced[\"gpt4_answers\"]):\n",
    "    if next_term == next_pred_term:\n",
    "        true_count += 1\n",
    "        \n",
    "print(\"pure accuracy: \", true_count * 100 / len(df_reduced), \"%\")"
   ],
   "metadata": {
    "collapsed": false,
    "ExecuteTime": {
     "end_time": "2024-03-21T16:14:15.310541Z",
     "start_time": "2024-03-21T16:14:15.295671Z"
    }
   },
   "id": "4de7874bb1a2e051",
   "execution_count": 33
  },
  {
   "cell_type": "markdown",
   "source": [
    "# Calculate ROUGE and BLEU"
   ],
   "metadata": {
    "collapsed": false
   },
   "id": "b9f95c976bec2286"
  },
  {
   "cell_type": "code",
   "outputs": [],
   "source": [
    "scorer = rouge_scorer.RougeScorer(['rouge1', 'rouge2', 'rougeL'], use_stemmer=True)\n",
    "\n",
    "scores = []\n",
    "for ref_term, sys_term in zip(df_reduced[\"term_next_LO\"].tolist(), df_reduced[\"gpt4_answers\"].tolist()):\n",
    "    score = scorer.score(ref_term, sys_term)\n",
    "    scores.append(score)"
   ],
   "metadata": {
    "collapsed": false,
    "ExecuteTime": {
     "end_time": "2024-03-21T16:14:46.366436Z",
     "start_time": "2024-03-21T16:14:46.312696Z"
    }
   },
   "id": "6163b8a4840cce36",
   "execution_count": 35
  },
  {
   "cell_type": "code",
   "outputs": [
    {
     "data": {
      "text/plain": "[{'rouge1': Score(precision=0.8, recall=0.8, fmeasure=0.8000000000000002),\n  'rouge2': Score(precision=0.7777777777777778, recall=0.7777777777777778, fmeasure=0.7777777777777778),\n  'rougeL': Score(precision=0.8, recall=0.8, fmeasure=0.8000000000000002)},\n {'rouge1': Score(precision=0.6, recall=0.6, fmeasure=0.6),\n  'rouge2': Score(precision=0.5, recall=0.5, fmeasure=0.5),\n  'rougeL': Score(precision=0.6, recall=0.6, fmeasure=0.6)},\n {'rouge1': Score(precision=0.0, recall=0.0, fmeasure=0.0),\n  'rouge2': Score(precision=0.0, recall=0.0, fmeasure=0.0),\n  'rougeL': Score(precision=0.0, recall=0.0, fmeasure=0.0)},\n {'rouge1': Score(precision=0.0, recall=0.0, fmeasure=0.0),\n  'rouge2': Score(precision=0.0, recall=0.0, fmeasure=0.0),\n  'rougeL': Score(precision=0.0, recall=0.0, fmeasure=0.0)},\n {'rouge1': Score(precision=0.4666666666666667, recall=0.5, fmeasure=0.4827586206896552),\n  'rouge2': Score(precision=0.14285714285714285, recall=0.15384615384615385, fmeasure=0.14814814814814817),\n  'rougeL': Score(precision=0.4666666666666667, recall=0.5, fmeasure=0.4827586206896552)},\n {'rouge1': Score(precision=0.5, recall=0.5833333333333334, fmeasure=0.5384615384615384),\n  'rouge2': Score(precision=0.15384615384615385, recall=0.18181818181818182, fmeasure=0.16666666666666669),\n  'rougeL': Score(precision=0.5, recall=0.5833333333333334, fmeasure=0.5384615384615384)},\n {'rouge1': Score(precision=0.375, recall=0.375, fmeasure=0.375),\n  'rouge2': Score(precision=0.0, recall=0.0, fmeasure=0.0),\n  'rougeL': Score(precision=0.375, recall=0.375, fmeasure=0.375)},\n {'rouge1': Score(precision=0.6666666666666666, recall=0.6666666666666666, fmeasure=0.6666666666666666),\n  'rouge2': Score(precision=0.6, recall=0.6, fmeasure=0.6),\n  'rougeL': Score(precision=0.6666666666666666, recall=0.6666666666666666, fmeasure=0.6666666666666666)},\n {'rouge1': Score(precision=0.75, recall=1.0, fmeasure=0.8571428571428571),\n  'rouge2': Score(precision=0.7272727272727273, recall=1.0, fmeasure=0.8421052631578948),\n  'rougeL': Score(precision=0.75, recall=1.0, fmeasure=0.8571428571428571)},\n {'rouge1': Score(precision=0.4166666666666667, recall=0.4166666666666667, fmeasure=0.4166666666666667),\n  'rouge2': Score(precision=0.09090909090909091, recall=0.09090909090909091, fmeasure=0.09090909090909091),\n  'rougeL': Score(precision=0.4166666666666667, recall=0.4166666666666667, fmeasure=0.4166666666666667)},\n {'rouge1': Score(precision=0.5, recall=0.5, fmeasure=0.5),\n  'rouge2': Score(precision=0.2222222222222222, recall=0.2222222222222222, fmeasure=0.2222222222222222),\n  'rougeL': Score(precision=0.5, recall=0.5, fmeasure=0.5)},\n {'rouge1': Score(precision=0.9230769230769231, recall=0.9230769230769231, fmeasure=0.9230769230769231),\n  'rouge2': Score(precision=0.8333333333333334, recall=0.8333333333333334, fmeasure=0.8333333333333334),\n  'rougeL': Score(precision=0.9230769230769231, recall=0.9230769230769231, fmeasure=0.9230769230769231)},\n {'rouge1': Score(precision=0.8461538461538461, recall=1.0, fmeasure=0.9166666666666666),\n  'rouge2': Score(precision=0.75, recall=0.9, fmeasure=0.8181818181818182),\n  'rougeL': Score(precision=0.7692307692307693, recall=0.9090909090909091, fmeasure=0.8333333333333333)},\n {'rouge1': Score(precision=0.75, recall=0.75, fmeasure=0.75),\n  'rouge2': Score(precision=0.7142857142857143, recall=0.7142857142857143, fmeasure=0.7142857142857143),\n  'rougeL': Score(precision=0.75, recall=0.75, fmeasure=0.75)},\n {'rouge1': Score(precision=0.6666666666666666, recall=0.6666666666666666, fmeasure=0.6666666666666666),\n  'rouge2': Score(precision=0.6, recall=0.6, fmeasure=0.6),\n  'rougeL': Score(precision=0.6666666666666666, recall=0.6666666666666666, fmeasure=0.6666666666666666)},\n {'rouge1': Score(precision=0.5, recall=0.5, fmeasure=0.5),\n  'rouge2': Score(precision=0.3333333333333333, recall=0.3333333333333333, fmeasure=0.3333333333333333),\n  'rougeL': Score(precision=0.5, recall=0.5, fmeasure=0.5)},\n {'rouge1': Score(precision=0.0, recall=0.0, fmeasure=0.0),\n  'rouge2': Score(precision=0.0, recall=0.0, fmeasure=0.0),\n  'rougeL': Score(precision=0.0, recall=0.0, fmeasure=0.0)},\n {'rouge1': Score(precision=0.8181818181818182, recall=0.8181818181818182, fmeasure=0.8181818181818182),\n  'rouge2': Score(precision=0.8, recall=0.8, fmeasure=0.8000000000000002),\n  'rougeL': Score(precision=0.8181818181818182, recall=0.8181818181818182, fmeasure=0.8181818181818182)},\n {'rouge1': Score(precision=0.6363636363636364, recall=0.6363636363636364, fmeasure=0.6363636363636364),\n  'rouge2': Score(precision=0.6, recall=0.6, fmeasure=0.6),\n  'rougeL': Score(precision=0.6363636363636364, recall=0.6363636363636364, fmeasure=0.6363636363636364)},\n {'rouge1': Score(precision=0.6666666666666666, recall=0.6666666666666666, fmeasure=0.6666666666666666),\n  'rouge2': Score(precision=0.625, recall=0.625, fmeasure=0.625),\n  'rougeL': Score(precision=0.6666666666666666, recall=0.6666666666666666, fmeasure=0.6666666666666666)},\n {'rouge1': Score(precision=0.0, recall=0.0, fmeasure=0.0),\n  'rouge2': Score(precision=0.0, recall=0.0, fmeasure=0.0),\n  'rougeL': Score(precision=0.0, recall=0.0, fmeasure=0.0)},\n {'rouge1': Score(precision=0.07142857142857142, recall=0.3333333333333333, fmeasure=0.11764705882352941),\n  'rouge2': Score(precision=0.0, recall=0.0, fmeasure=0.0),\n  'rougeL': Score(precision=0.07142857142857142, recall=0.3333333333333333, fmeasure=0.11764705882352941)},\n {'rouge1': Score(precision=0.6, recall=0.6, fmeasure=0.6),\n  'rouge2': Score(precision=0.5, recall=0.5, fmeasure=0.5),\n  'rougeL': Score(precision=0.6, recall=0.6, fmeasure=0.6)},\n {'rouge1': Score(precision=0.8666666666666667, recall=1.0, fmeasure=0.9285714285714286),\n  'rouge2': Score(precision=0.6428571428571429, recall=0.75, fmeasure=0.6923076923076924),\n  'rougeL': Score(precision=0.7333333333333333, recall=0.8461538461538461, fmeasure=0.7857142857142856)},\n {'rouge1': Score(precision=0.7272727272727273, recall=0.7272727272727273, fmeasure=0.7272727272727273),\n  'rouge2': Score(precision=0.4, recall=0.4, fmeasure=0.4000000000000001),\n  'rougeL': Score(precision=0.6363636363636364, recall=0.6363636363636364, fmeasure=0.6363636363636364)},\n {'rouge1': Score(precision=0.75, recall=0.6666666666666666, fmeasure=0.7058823529411765),\n  'rouge2': Score(precision=0.42857142857142855, recall=0.375, fmeasure=0.39999999999999997),\n  'rougeL': Score(precision=0.75, recall=0.6666666666666666, fmeasure=0.7058823529411765)},\n {'rouge1': Score(precision=0.4, recall=0.3333333333333333, fmeasure=0.3636363636363636),\n  'rouge2': Score(precision=0.0, recall=0.0, fmeasure=0.0),\n  'rougeL': Score(precision=0.4, recall=0.3333333333333333, fmeasure=0.3636363636363636)},\n {'rouge1': Score(precision=0.2857142857142857, recall=0.2857142857142857, fmeasure=0.2857142857142857),\n  'rouge2': Score(precision=0.15384615384615385, recall=0.15384615384615385, fmeasure=0.15384615384615385),\n  'rougeL': Score(precision=0.2857142857142857, recall=0.2857142857142857, fmeasure=0.2857142857142857)},\n {'rouge1': Score(precision=0.4166666666666667, recall=0.4166666666666667, fmeasure=0.4166666666666667),\n  'rouge2': Score(precision=0.18181818181818182, recall=0.18181818181818182, fmeasure=0.18181818181818182),\n  'rougeL': Score(precision=0.3333333333333333, recall=0.3333333333333333, fmeasure=0.3333333333333333)},\n {'rouge1': Score(precision=0.3333333333333333, recall=0.3333333333333333, fmeasure=0.3333333333333333),\n  'rouge2': Score(precision=0.2, recall=0.2, fmeasure=0.20000000000000004),\n  'rougeL': Score(precision=0.3333333333333333, recall=0.3333333333333333, fmeasure=0.3333333333333333)},\n {'rouge1': Score(precision=0.5, recall=0.5, fmeasure=0.5),\n  'rouge2': Score(precision=0.3333333333333333, recall=0.3333333333333333, fmeasure=0.3333333333333333),\n  'rougeL': Score(precision=0.5, recall=0.5, fmeasure=0.5)},\n {'rouge1': Score(precision=0.75, recall=1.0, fmeasure=0.8571428571428571),\n  'rouge2': Score(precision=0.6666666666666666, recall=0.9090909090909091, fmeasure=0.7692307692307692),\n  'rougeL': Score(precision=0.625, recall=0.8333333333333334, fmeasure=0.7142857142857143)},\n {'rouge1': Score(precision=0.7, recall=0.7, fmeasure=0.7),\n  'rouge2': Score(precision=0.4444444444444444, recall=0.4444444444444444, fmeasure=0.4444444444444444),\n  'rougeL': Score(precision=0.5, recall=0.5, fmeasure=0.5)},\n {'rouge1': Score(precision=0.625, recall=0.625, fmeasure=0.625),\n  'rouge2': Score(precision=0.42857142857142855, recall=0.42857142857142855, fmeasure=0.42857142857142855),\n  'rougeL': Score(precision=0.5, recall=0.5, fmeasure=0.5)},\n {'rouge1': Score(precision=0.3333333333333333, recall=0.5, fmeasure=0.4),\n  'rouge2': Score(precision=0.2, recall=0.3333333333333333, fmeasure=0.25),\n  'rougeL': Score(precision=0.3333333333333333, recall=0.5, fmeasure=0.4)},\n {'rouge1': Score(precision=0.6666666666666666, recall=0.6666666666666666, fmeasure=0.6666666666666666),\n  'rouge2': Score(precision=0.5, recall=0.5, fmeasure=0.5),\n  'rougeL': Score(precision=0.6666666666666666, recall=0.6666666666666666, fmeasure=0.6666666666666666)},\n {'rouge1': Score(precision=0.8333333333333334, recall=0.7142857142857143, fmeasure=0.7692307692307692),\n  'rouge2': Score(precision=0.8, recall=0.6666666666666666, fmeasure=0.7272727272727272),\n  'rougeL': Score(precision=0.8333333333333334, recall=0.7142857142857143, fmeasure=0.7692307692307692)},\n {'rouge1': Score(precision=0.5185185185185185, recall=1.0, fmeasure=0.6829268292682926),\n  'rouge2': Score(precision=0.38461538461538464, recall=0.7692307692307693, fmeasure=0.5128205128205128),\n  'rougeL': Score(precision=0.4444444444444444, recall=0.8571428571428571, fmeasure=0.5853658536585367)},\n {'rouge1': Score(precision=0.4, recall=0.4, fmeasure=0.4000000000000001),\n  'rouge2': Score(precision=0.25, recall=0.25, fmeasure=0.25),\n  'rougeL': Score(precision=0.4, recall=0.4, fmeasure=0.4000000000000001)},\n {'rouge1': Score(precision=1.0, recall=1.0, fmeasure=1.0),\n  'rouge2': Score(precision=1.0, recall=1.0, fmeasure=1.0),\n  'rougeL': Score(precision=1.0, recall=1.0, fmeasure=1.0)},\n {'rouge1': Score(precision=0.2916666666666667, recall=0.5384615384615384, fmeasure=0.3783783783783784),\n  'rouge2': Score(precision=0.13043478260869565, recall=0.25, fmeasure=0.1714285714285714),\n  'rougeL': Score(precision=0.20833333333333334, recall=0.38461538461538464, fmeasure=0.2702702702702703)},\n {'rouge1': Score(precision=0.4642857142857143, recall=0.37142857142857144, fmeasure=0.41269841269841273),\n  'rouge2': Score(precision=0.14814814814814814, recall=0.11764705882352941, fmeasure=0.13114754098360654),\n  'rougeL': Score(precision=0.4642857142857143, recall=0.37142857142857144, fmeasure=0.41269841269841273)},\n {'rouge1': Score(precision=0.5, recall=0.5454545454545454, fmeasure=0.5217391304347826),\n  'rouge2': Score(precision=0.2727272727272727, recall=0.3, fmeasure=0.28571428571428564),\n  'rougeL': Score(precision=0.5, recall=0.5454545454545454, fmeasure=0.5217391304347826)},\n {'rouge1': Score(precision=0.4666666666666667, recall=0.4666666666666667, fmeasure=0.4666666666666667),\n  'rouge2': Score(precision=0.21428571428571427, recall=0.21428571428571427, fmeasure=0.21428571428571427),\n  'rougeL': Score(precision=0.4666666666666667, recall=0.4666666666666667, fmeasure=0.4666666666666667)},\n {'rouge1': Score(precision=0.25, recall=0.25, fmeasure=0.25),\n  'rouge2': Score(precision=0.0, recall=0.0, fmeasure=0.0),\n  'rougeL': Score(precision=0.25, recall=0.25, fmeasure=0.25)},\n {'rouge1': Score(precision=0.6666666666666666, recall=1.0, fmeasure=0.8),\n  'rouge2': Score(precision=0.5, recall=1.0, fmeasure=0.6666666666666666),\n  'rougeL': Score(precision=0.6666666666666666, recall=1.0, fmeasure=0.8)},\n {'rouge1': Score(precision=0.625, recall=0.8333333333333334, fmeasure=0.7142857142857143),\n  'rouge2': Score(precision=0.42857142857142855, recall=0.6, fmeasure=0.5),\n  'rougeL': Score(precision=0.625, recall=0.8333333333333334, fmeasure=0.7142857142857143)},\n {'rouge1': Score(precision=0.5, recall=1.0, fmeasure=0.6666666666666666),\n  'rouge2': Score(precision=0.46153846153846156, recall=1.0, fmeasure=0.631578947368421),\n  'rougeL': Score(precision=0.5, recall=1.0, fmeasure=0.6666666666666666)},\n {'rouge1': Score(precision=0.5454545454545454, recall=0.5454545454545454, fmeasure=0.5454545454545454),\n  'rouge2': Score(precision=0.4, recall=0.4, fmeasure=0.4000000000000001),\n  'rougeL': Score(precision=0.5454545454545454, recall=0.5454545454545454, fmeasure=0.5454545454545454)},\n {'rouge1': Score(precision=0.3333333333333333, recall=0.6666666666666666, fmeasure=0.4444444444444444),\n  'rouge2': Score(precision=0.2, recall=0.5, fmeasure=0.28571428571428575),\n  'rougeL': Score(precision=0.3333333333333333, recall=0.6666666666666666, fmeasure=0.4444444444444444)},\n {'rouge1': Score(precision=0.3333333333333333, recall=0.3333333333333333, fmeasure=0.3333333333333333),\n  'rouge2': Score(precision=0.0, recall=0.0, fmeasure=0.0),\n  'rougeL': Score(precision=0.3333333333333333, recall=0.3333333333333333, fmeasure=0.3333333333333333)},\n {'rouge1': Score(precision=0.5, recall=0.5, fmeasure=0.5),\n  'rouge2': Score(precision=0.3333333333333333, recall=0.3333333333333333, fmeasure=0.3333333333333333),\n  'rougeL': Score(precision=0.5, recall=0.5, fmeasure=0.5)},\n {'rouge1': Score(precision=0.8333333333333334, recall=0.8333333333333334, fmeasure=0.8333333333333334),\n  'rouge2': Score(precision=0.2727272727272727, recall=0.2727272727272727, fmeasure=0.2727272727272727),\n  'rougeL': Score(precision=0.6666666666666666, recall=0.6666666666666666, fmeasure=0.6666666666666666)},\n {'rouge1': Score(precision=0.8, recall=0.8, fmeasure=0.8000000000000002),\n  'rouge2': Score(precision=0.3333333333333333, recall=0.3333333333333333, fmeasure=0.3333333333333333),\n  'rougeL': Score(precision=0.6, recall=0.6, fmeasure=0.6)},\n {'rouge1': Score(precision=0.4444444444444444, recall=1.0, fmeasure=0.6153846153846153),\n  'rouge2': Score(precision=0.29411764705882354, recall=0.7142857142857143, fmeasure=0.4166666666666667),\n  'rougeL': Score(precision=0.4444444444444444, recall=1.0, fmeasure=0.6153846153846153)},\n {'rouge1': Score(precision=1.0, recall=0.6666666666666666, fmeasure=0.8),\n  'rouge2': Score(precision=0.6666666666666666, recall=0.4, fmeasure=0.5),\n  'rougeL': Score(precision=1.0, recall=0.6666666666666666, fmeasure=0.8)},\n {'rouge1': Score(precision=1.0, recall=1.0, fmeasure=1.0),\n  'rouge2': Score(precision=1.0, recall=1.0, fmeasure=1.0),\n  'rougeL': Score(precision=1.0, recall=1.0, fmeasure=1.0)},\n {'rouge1': Score(precision=0.42857142857142855, recall=0.6, fmeasure=0.5),\n  'rouge2': Score(precision=0.0, recall=0.0, fmeasure=0.0),\n  'rougeL': Score(precision=0.21428571428571427, recall=0.3, fmeasure=0.25)},\n {'rouge1': Score(precision=0.4, recall=0.8, fmeasure=0.5333333333333333),\n  'rouge2': Score(precision=0.15789473684210525, recall=0.3333333333333333, fmeasure=0.21428571428571427),\n  'rougeL': Score(precision=0.35, recall=0.7, fmeasure=0.4666666666666667)},\n {'rouge1': Score(precision=0.6666666666666666, recall=0.6666666666666666, fmeasure=0.6666666666666666),\n  'rouge2': Score(precision=0.2, recall=0.2, fmeasure=0.20000000000000004),\n  'rougeL': Score(precision=0.6666666666666666, recall=0.6666666666666666, fmeasure=0.6666666666666666)},\n {'rouge1': Score(precision=1.0, recall=1.0, fmeasure=1.0),\n  'rouge2': Score(precision=1.0, recall=1.0, fmeasure=1.0),\n  'rougeL': Score(precision=1.0, recall=1.0, fmeasure=1.0)},\n {'rouge1': Score(precision=0.6363636363636364, recall=0.6363636363636364, fmeasure=0.6363636363636364),\n  'rouge2': Score(precision=0.5, recall=0.5, fmeasure=0.5),\n  'rougeL': Score(precision=0.6363636363636364, recall=0.6363636363636364, fmeasure=0.6363636363636364)},\n {'rouge1': Score(precision=0.0, recall=0.0, fmeasure=0.0),\n  'rouge2': Score(precision=0.0, recall=0.0, fmeasure=0.0),\n  'rougeL': Score(precision=0.0, recall=0.0, fmeasure=0.0)},\n {'rouge1': Score(precision=1.0, recall=1.0, fmeasure=1.0),\n  'rouge2': Score(precision=1.0, recall=1.0, fmeasure=1.0),\n  'rougeL': Score(precision=1.0, recall=1.0, fmeasure=1.0)},\n {'rouge1': Score(precision=0.5333333333333333, recall=0.7272727272727273, fmeasure=0.6153846153846153),\n  'rouge2': Score(precision=0.21428571428571427, recall=0.3, fmeasure=0.25),\n  'rougeL': Score(precision=0.4666666666666667, recall=0.6363636363636364, fmeasure=0.5384615384615385)},\n {'rouge1': Score(precision=0.5, recall=0.5, fmeasure=0.5),\n  'rouge2': Score(precision=0.4, recall=0.4, fmeasure=0.4000000000000001),\n  'rougeL': Score(precision=0.5, recall=0.5, fmeasure=0.5)},\n {'rouge1': Score(precision=1.0, recall=0.75, fmeasure=0.8571428571428571),\n  'rouge2': Score(precision=1.0, recall=0.6666666666666666, fmeasure=0.8),\n  'rougeL': Score(precision=1.0, recall=0.75, fmeasure=0.8571428571428571)},\n {'rouge1': Score(precision=0.47619047619047616, recall=0.38461538461538464, fmeasure=0.42553191489361697),\n  'rouge2': Score(precision=0.25, recall=0.2, fmeasure=0.22222222222222224),\n  'rougeL': Score(precision=0.47619047619047616, recall=0.38461538461538464, fmeasure=0.42553191489361697)},\n {'rouge1': Score(precision=0.3, recall=0.3, fmeasure=0.3),\n  'rouge2': Score(precision=0.2222222222222222, recall=0.2222222222222222, fmeasure=0.2222222222222222),\n  'rougeL': Score(precision=0.3, recall=0.3, fmeasure=0.3)},\n {'rouge1': Score(precision=0.75, recall=0.8571428571428571, fmeasure=0.7999999999999999),\n  'rouge2': Score(precision=0.5714285714285714, recall=0.6666666666666666, fmeasure=0.6153846153846153),\n  'rougeL': Score(precision=0.75, recall=0.8571428571428571, fmeasure=0.7999999999999999)},\n {'rouge1': Score(precision=1.0, recall=0.8, fmeasure=0.888888888888889),\n  'rouge2': Score(precision=1.0, recall=0.75, fmeasure=0.8571428571428571),\n  'rougeL': Score(precision=1.0, recall=0.8, fmeasure=0.888888888888889)},\n {'rouge1': Score(precision=0.8888888888888888, recall=0.8, fmeasure=0.8421052631578948),\n  'rouge2': Score(precision=0.75, recall=0.6666666666666666, fmeasure=0.7058823529411765),\n  'rougeL': Score(precision=0.8888888888888888, recall=0.8, fmeasure=0.8421052631578948)},\n {'rouge1': Score(precision=1.0, recall=0.875, fmeasure=0.9333333333333333),\n  'rouge2': Score(precision=0.8333333333333334, recall=0.7142857142857143, fmeasure=0.7692307692307692),\n  'rougeL': Score(precision=1.0, recall=0.875, fmeasure=0.9333333333333333)},\n {'rouge1': Score(precision=1.0, recall=1.0, fmeasure=1.0),\n  'rouge2': Score(precision=1.0, recall=1.0, fmeasure=1.0),\n  'rougeL': Score(precision=1.0, recall=1.0, fmeasure=1.0)},\n {'rouge1': Score(precision=0.8181818181818182, recall=0.9, fmeasure=0.8571428571428572),\n  'rouge2': Score(precision=0.7, recall=0.7777777777777778, fmeasure=0.7368421052631577),\n  'rougeL': Score(precision=0.8181818181818182, recall=0.9, fmeasure=0.8571428571428572)},\n {'rouge1': Score(precision=1.0, recall=1.0, fmeasure=1.0),\n  'rouge2': Score(precision=1.0, recall=1.0, fmeasure=1.0),\n  'rougeL': Score(precision=1.0, recall=1.0, fmeasure=1.0)},\n {'rouge1': Score(precision=0.75, recall=0.5454545454545454, fmeasure=0.631578947368421),\n  'rouge2': Score(precision=0.7142857142857143, recall=0.5, fmeasure=0.588235294117647),\n  'rougeL': Score(precision=0.75, recall=0.5454545454545454, fmeasure=0.631578947368421)},\n {'rouge1': Score(precision=0.8333333333333334, recall=0.625, fmeasure=0.7142857142857143),\n  'rouge2': Score(precision=0.8, recall=0.5714285714285714, fmeasure=0.6666666666666666),\n  'rougeL': Score(precision=0.8333333333333334, recall=0.625, fmeasure=0.7142857142857143)},\n {'rouge1': Score(precision=1.0, recall=1.0, fmeasure=1.0),\n  'rouge2': Score(precision=1.0, recall=1.0, fmeasure=1.0),\n  'rougeL': Score(precision=1.0, recall=1.0, fmeasure=1.0)},\n {'rouge1': Score(precision=1.0, recall=0.8, fmeasure=0.888888888888889),\n  'rouge2': Score(precision=1.0, recall=0.75, fmeasure=0.8571428571428571),\n  'rougeL': Score(precision=1.0, recall=0.8, fmeasure=0.888888888888889)},\n {'rouge1': Score(precision=0.5, recall=0.5, fmeasure=0.5),\n  'rouge2': Score(precision=0.14285714285714285, recall=0.14285714285714285, fmeasure=0.14285714285714285),\n  'rougeL': Score(precision=0.375, recall=0.375, fmeasure=0.375)},\n {'rouge1': Score(precision=0.5, recall=0.5, fmeasure=0.5),\n  'rouge2': Score(precision=0.2, recall=0.2, fmeasure=0.20000000000000004),\n  'rougeL': Score(precision=0.5, recall=0.5, fmeasure=0.5)},\n {'rouge1': Score(precision=0.3333333333333333, recall=0.3333333333333333, fmeasure=0.3333333333333333),\n  'rouge2': Score(precision=0.2, recall=0.2, fmeasure=0.20000000000000004),\n  'rougeL': Score(precision=0.3333333333333333, recall=0.3333333333333333, fmeasure=0.3333333333333333)},\n {'rouge1': Score(precision=0.6666666666666666, recall=0.6666666666666666, fmeasure=0.6666666666666666),\n  'rouge2': Score(precision=0.36363636363636365, recall=0.36363636363636365, fmeasure=0.36363636363636365),\n  'rougeL': Score(precision=0.6666666666666666, recall=0.6666666666666666, fmeasure=0.6666666666666666)},\n {'rouge1': Score(precision=0.6, recall=0.6, fmeasure=0.6),\n  'rouge2': Score(precision=0.3333333333333333, recall=0.3333333333333333, fmeasure=0.3333333333333333),\n  'rougeL': Score(precision=0.6, recall=0.6, fmeasure=0.6)},\n {'rouge1': Score(precision=0.625, recall=0.625, fmeasure=0.625),\n  'rouge2': Score(precision=0.5714285714285714, recall=0.5714285714285714, fmeasure=0.5714285714285714),\n  'rougeL': Score(precision=0.625, recall=0.625, fmeasure=0.625)},\n {'rouge1': Score(precision=0.6666666666666666, recall=0.6666666666666666, fmeasure=0.6666666666666666),\n  'rouge2': Score(precision=0.4, recall=0.4, fmeasure=0.4000000000000001),\n  'rougeL': Score(precision=0.6666666666666666, recall=0.6666666666666666, fmeasure=0.6666666666666666)},\n {'rouge1': Score(precision=0.5, recall=0.5454545454545454, fmeasure=0.5217391304347826),\n  'rouge2': Score(precision=0.18181818181818182, recall=0.2, fmeasure=0.1904761904761905),\n  'rougeL': Score(precision=0.4166666666666667, recall=0.45454545454545453, fmeasure=0.43478260869565216)},\n {'rouge1': Score(precision=0.5172413793103449, recall=0.9375, fmeasure=0.6666666666666667),\n  'rouge2': Score(precision=0.32142857142857145, recall=0.6, fmeasure=0.41860465116279066),\n  'rougeL': Score(precision=0.41379310344827586, recall=0.75, fmeasure=0.5333333333333333)},\n {'rouge1': Score(precision=0.0684931506849315, recall=1.0, fmeasure=0.1282051282051282),\n  'rouge2': Score(precision=0.041666666666666664, recall=0.75, fmeasure=0.07894736842105264),\n  'rougeL': Score(precision=0.0684931506849315, recall=1.0, fmeasure=0.1282051282051282)},\n {'rouge1': Score(precision=1.0, recall=0.9230769230769231, fmeasure=0.9600000000000001),\n  'rouge2': Score(precision=1.0, recall=0.9166666666666666, fmeasure=0.9565217391304348),\n  'rougeL': Score(precision=1.0, recall=0.9230769230769231, fmeasure=0.9600000000000001)},\n {'rouge1': Score(precision=0.6923076923076923, recall=0.6923076923076923, fmeasure=0.6923076923076923),\n  'rouge2': Score(precision=0.4166666666666667, recall=0.4166666666666667, fmeasure=0.4166666666666667),\n  'rougeL': Score(precision=0.6923076923076923, recall=0.6923076923076923, fmeasure=0.6923076923076923)},\n {'rouge1': Score(precision=0.8181818181818182, recall=0.8181818181818182, fmeasure=0.8181818181818182),\n  'rouge2': Score(precision=0.7, recall=0.7, fmeasure=0.7),\n  'rougeL': Score(precision=0.8181818181818182, recall=0.8181818181818182, fmeasure=0.8181818181818182)},\n {'rouge1': Score(precision=0.4, recall=0.3333333333333333, fmeasure=0.3636363636363636),\n  'rouge2': Score(precision=0.3333333333333333, recall=0.2727272727272727, fmeasure=0.3),\n  'rougeL': Score(precision=0.4, recall=0.3333333333333333, fmeasure=0.3636363636363636)},\n {'rouge1': Score(precision=0.4, recall=0.4, fmeasure=0.4000000000000001),\n  'rouge2': Score(precision=0.3333333333333333, recall=0.3333333333333333, fmeasure=0.3333333333333333),\n  'rougeL': Score(precision=0.4, recall=0.4, fmeasure=0.4000000000000001)},\n {'rouge1': Score(precision=0.6666666666666666, recall=0.6666666666666666, fmeasure=0.6666666666666666),\n  'rouge2': Score(precision=0.4, recall=0.4, fmeasure=0.4000000000000001),\n  'rougeL': Score(precision=0.5, recall=0.5, fmeasure=0.5)},\n {'rouge1': Score(precision=0.0, recall=0.0, fmeasure=0.0),\n  'rouge2': Score(precision=0.0, recall=0.0, fmeasure=0.0),\n  'rougeL': Score(precision=0.0, recall=0.0, fmeasure=0.0)},\n {'rouge1': Score(precision=0.5, recall=0.9285714285714286, fmeasure=0.65),\n  'rouge2': Score(precision=0.36, recall=0.6923076923076923, fmeasure=0.47368421052631576),\n  'rougeL': Score(precision=0.4230769230769231, recall=0.7857142857142857, fmeasure=0.55)},\n {'rouge1': Score(precision=1.0, recall=0.625, fmeasure=0.7692307692307693),\n  'rouge2': Score(precision=1.0, recall=0.5714285714285714, fmeasure=0.7272727272727273),\n  'rougeL': Score(precision=1.0, recall=0.625, fmeasure=0.7692307692307693)},\n {'rouge1': Score(precision=0.6, recall=0.5, fmeasure=0.5454545454545454),\n  'rouge2': Score(precision=0.25, recall=0.2, fmeasure=0.22222222222222224),\n  'rougeL': Score(precision=0.6, recall=0.5, fmeasure=0.5454545454545454)},\n {'rouge1': Score(precision=1.0, recall=1.0, fmeasure=1.0),\n  'rouge2': Score(precision=1.0, recall=1.0, fmeasure=1.0),\n  'rougeL': Score(precision=1.0, recall=1.0, fmeasure=1.0)},\n {'rouge1': Score(precision=0.7, recall=0.7, fmeasure=0.7),\n  'rouge2': Score(precision=0.5555555555555556, recall=0.5555555555555556, fmeasure=0.5555555555555556),\n  'rougeL': Score(precision=0.7, recall=0.7, fmeasure=0.7)},\n {'rouge1': Score(precision=0.7692307692307693, recall=1.0, fmeasure=0.8695652173913044),\n  'rouge2': Score(precision=0.5833333333333334, recall=0.7777777777777778, fmeasure=0.6666666666666666),\n  'rougeL': Score(precision=0.6923076923076923, recall=0.9, fmeasure=0.7826086956521738)},\n {'rouge1': Score(precision=0.7272727272727273, recall=1.0, fmeasure=0.8421052631578948),\n  'rouge2': Score(precision=0.5, recall=0.7142857142857143, fmeasure=0.588235294117647),\n  'rougeL': Score(precision=0.6363636363636364, recall=0.875, fmeasure=0.7368421052631579)},\n {'rouge1': Score(precision=1.0, recall=0.9, fmeasure=0.9473684210526316),\n  'rouge2': Score(precision=0.875, recall=0.7777777777777778, fmeasure=0.823529411764706),\n  'rougeL': Score(precision=1.0, recall=0.9, fmeasure=0.9473684210526316)},\n {'rouge1': Score(precision=0.5, recall=0.9090909090909091, fmeasure=0.6451612903225806),\n  'rouge2': Score(precision=0.2631578947368421, recall=0.5, fmeasure=0.3448275862068966),\n  'rougeL': Score(precision=0.45, recall=0.8181818181818182, fmeasure=0.5806451612903226)},\n {'rouge1': Score(precision=0.6, recall=0.75, fmeasure=0.6666666666666665),\n  'rouge2': Score(precision=0.4444444444444444, recall=0.5714285714285714, fmeasure=0.5),\n  'rougeL': Score(precision=0.6, recall=0.75, fmeasure=0.6666666666666665)},\n {'rouge1': Score(precision=1.0, recall=0.7777777777777778, fmeasure=0.8750000000000001),\n  'rouge2': Score(precision=0.6666666666666666, recall=0.5, fmeasure=0.5714285714285715),\n  'rougeL': Score(precision=0.7142857142857143, recall=0.5555555555555556, fmeasure=0.6250000000000001)},\n {'rouge1': Score(precision=0.875, recall=1.0, fmeasure=0.9333333333333333),\n  'rouge2': Score(precision=0.8571428571428571, recall=1.0, fmeasure=0.923076923076923),\n  'rougeL': Score(precision=0.875, recall=1.0, fmeasure=0.9333333333333333)},\n {'rouge1': Score(precision=0.8, recall=0.8, fmeasure=0.8000000000000002),\n  'rouge2': Score(precision=0.5, recall=0.5, fmeasure=0.5),\n  'rougeL': Score(precision=0.8, recall=0.8, fmeasure=0.8000000000000002)},\n {'rouge1': Score(precision=0.4, recall=0.4, fmeasure=0.4000000000000001),\n  'rouge2': Score(precision=0.1111111111111111, recall=0.1111111111111111, fmeasure=0.1111111111111111),\n  'rougeL': Score(precision=0.4, recall=0.4, fmeasure=0.4000000000000001)},\n {'rouge1': Score(precision=0.625, recall=0.625, fmeasure=0.625),\n  'rouge2': Score(precision=0.42857142857142855, recall=0.42857142857142855, fmeasure=0.42857142857142855),\n  'rougeL': Score(precision=0.625, recall=0.625, fmeasure=0.625)},\n {'rouge1': Score(precision=0.7142857142857143, recall=1.0, fmeasure=0.8333333333333333),\n  'rouge2': Score(precision=0.6666666666666666, recall=1.0, fmeasure=0.8),\n  'rougeL': Score(precision=0.7142857142857143, recall=1.0, fmeasure=0.8333333333333333)},\n {'rouge1': Score(precision=0.6153846153846154, recall=0.7272727272727273, fmeasure=0.6666666666666667),\n  'rouge2': Score(precision=0.3333333333333333, recall=0.4, fmeasure=0.3636363636363636),\n  'rougeL': Score(precision=0.5384615384615384, recall=0.6363636363636364, fmeasure=0.5833333333333334)},\n {'rouge1': Score(precision=0.6666666666666666, recall=0.6666666666666666, fmeasure=0.6666666666666666),\n  'rouge2': Score(precision=0.25, recall=0.25, fmeasure=0.25),\n  'rougeL': Score(precision=0.4444444444444444, recall=0.4444444444444444, fmeasure=0.4444444444444444)},\n {'rouge1': Score(precision=0.6, recall=0.6, fmeasure=0.6),\n  'rouge2': Score(precision=0.2222222222222222, recall=0.2222222222222222, fmeasure=0.2222222222222222),\n  'rougeL': Score(precision=0.5, recall=0.5, fmeasure=0.5)},\n {'rouge1': Score(precision=0.75, recall=0.75, fmeasure=0.75),\n  'rouge2': Score(precision=0.2857142857142857, recall=0.2857142857142857, fmeasure=0.2857142857142857),\n  'rougeL': Score(precision=0.5, recall=0.5, fmeasure=0.5)},\n {'rouge1': Score(precision=0.6666666666666666, recall=0.6666666666666666, fmeasure=0.6666666666666666),\n  'rouge2': Score(precision=0.6, recall=0.6, fmeasure=0.6),\n  'rougeL': Score(precision=0.6666666666666666, recall=0.6666666666666666, fmeasure=0.6666666666666666)},\n {'rouge1': Score(precision=0.5, recall=0.5, fmeasure=0.5),\n  'rouge2': Score(precision=0.0, recall=0.0, fmeasure=0.0),\n  'rougeL': Score(precision=0.5, recall=0.5, fmeasure=0.5)},\n {'rouge1': Score(precision=0.55, recall=0.7857142857142857, fmeasure=0.6470588235294117),\n  'rouge2': Score(precision=0.15789473684210525, recall=0.23076923076923078, fmeasure=0.18749999999999997),\n  'rougeL': Score(precision=0.5, recall=0.7142857142857143, fmeasure=0.588235294117647)},\n {'rouge1': Score(precision=0.6153846153846154, recall=0.6666666666666666, fmeasure=0.64),\n  'rouge2': Score(precision=0.4166666666666667, recall=0.45454545454545453, fmeasure=0.43478260869565216),\n  'rougeL': Score(precision=0.6153846153846154, recall=0.6666666666666666, fmeasure=0.64)},\n {'rouge1': Score(precision=0.18181818181818182, recall=1.0, fmeasure=0.3076923076923077),\n  'rouge2': Score(precision=0.1, recall=1.0, fmeasure=0.18181818181818182),\n  'rougeL': Score(precision=0.18181818181818182, recall=1.0, fmeasure=0.3076923076923077)},\n {'rouge1': Score(precision=0.42857142857142855, recall=0.42857142857142855, fmeasure=0.42857142857142855),\n  'rouge2': Score(precision=0.3333333333333333, recall=0.3333333333333333, fmeasure=0.3333333333333333),\n  'rougeL': Score(precision=0.42857142857142855, recall=0.42857142857142855, fmeasure=0.42857142857142855)},\n {'rouge1': Score(precision=0.75, recall=0.6, fmeasure=0.6666666666666665),\n  'rouge2': Score(precision=0.3333333333333333, recall=0.25, fmeasure=0.28571428571428575),\n  'rougeL': Score(precision=0.75, recall=0.6, fmeasure=0.6666666666666665)},\n {'rouge1': Score(precision=1.0, recall=1.0, fmeasure=1.0),\n  'rouge2': Score(precision=1.0, recall=1.0, fmeasure=1.0),\n  'rougeL': Score(precision=1.0, recall=1.0, fmeasure=1.0)},\n {'rouge1': Score(precision=0.0, recall=0.0, fmeasure=0.0),\n  'rouge2': Score(precision=0.0, recall=0.0, fmeasure=0.0),\n  'rougeL': Score(precision=0.0, recall=0.0, fmeasure=0.0)},\n {'rouge1': Score(precision=0.8, recall=0.6666666666666666, fmeasure=0.7272727272727272),\n  'rouge2': Score(precision=0.75, recall=0.6, fmeasure=0.6666666666666665),\n  'rougeL': Score(precision=0.8, recall=0.6666666666666666, fmeasure=0.7272727272727272)},\n {'rouge1': Score(precision=0.75, recall=0.75, fmeasure=0.75),\n  'rouge2': Score(precision=0.3333333333333333, recall=0.3333333333333333, fmeasure=0.3333333333333333),\n  'rougeL': Score(precision=0.75, recall=0.75, fmeasure=0.75)},\n {'rouge1': Score(precision=0.6666666666666666, recall=0.6666666666666666, fmeasure=0.6666666666666666),\n  'rouge2': Score(precision=0.0, recall=0.0, fmeasure=0.0),\n  'rougeL': Score(precision=0.6666666666666666, recall=0.6666666666666666, fmeasure=0.6666666666666666)},\n {'rouge1': Score(precision=0.38095238095238093, recall=0.8, fmeasure=0.5161290322580645),\n  'rouge2': Score(precision=0.2, recall=0.4444444444444444, fmeasure=0.2758620689655173),\n  'rougeL': Score(precision=0.2857142857142857, recall=0.6, fmeasure=0.3870967741935483)},\n {'rouge1': Score(precision=0.5, recall=0.5, fmeasure=0.5),\n  'rouge2': Score(precision=0.14285714285714285, recall=0.14285714285714285, fmeasure=0.14285714285714285),\n  'rougeL': Score(precision=0.5, recall=0.5, fmeasure=0.5)},\n {'rouge1': Score(precision=0.75, recall=1.0, fmeasure=0.8571428571428571),\n  'rouge2': Score(precision=0.5714285714285714, recall=0.8, fmeasure=0.6666666666666666),\n  'rougeL': Score(precision=0.625, recall=0.8333333333333334, fmeasure=0.7142857142857143)},\n {'rouge1': Score(precision=0.36363636363636365, recall=0.8, fmeasure=0.5000000000000001),\n  'rouge2': Score(precision=0.3, recall=0.75, fmeasure=0.4285714285714285),\n  'rougeL': Score(precision=0.36363636363636365, recall=0.8, fmeasure=0.5000000000000001)},\n {'rouge1': Score(precision=0.38461538461538464, recall=0.38461538461538464, fmeasure=0.38461538461538464),\n  'rouge2': Score(precision=0.3333333333333333, recall=0.3333333333333333, fmeasure=0.3333333333333333),\n  'rougeL': Score(precision=0.38461538461538464, recall=0.38461538461538464, fmeasure=0.38461538461538464)},\n {'rouge1': Score(precision=0.36363636363636365, recall=0.36363636363636365, fmeasure=0.36363636363636365),\n  'rouge2': Score(precision=0.3, recall=0.3, fmeasure=0.3),\n  'rougeL': Score(precision=0.36363636363636365, recall=0.36363636363636365, fmeasure=0.36363636363636365)},\n {'rouge1': Score(precision=0.0, recall=0.0, fmeasure=0.0),\n  'rouge2': Score(precision=0.0, recall=0.0, fmeasure=0.0),\n  'rougeL': Score(precision=0.0, recall=0.0, fmeasure=0.0)},\n {'rouge1': Score(precision=0.5555555555555556, recall=0.5555555555555556, fmeasure=0.5555555555555556),\n  'rouge2': Score(precision=0.125, recall=0.125, fmeasure=0.125),\n  'rougeL': Score(precision=0.5555555555555556, recall=0.5555555555555556, fmeasure=0.5555555555555556)},\n {'rouge1': Score(precision=0.3, recall=0.3, fmeasure=0.3),\n  'rouge2': Score(precision=0.1111111111111111, recall=0.1111111111111111, fmeasure=0.1111111111111111),\n  'rougeL': Score(precision=0.3, recall=0.3, fmeasure=0.3)},\n {'rouge1': Score(precision=0.625, recall=0.625, fmeasure=0.625),\n  'rouge2': Score(precision=0.42857142857142855, recall=0.42857142857142855, fmeasure=0.42857142857142855),\n  'rougeL': Score(precision=0.5, recall=0.5, fmeasure=0.5)},\n {'rouge1': Score(precision=0.5714285714285714, recall=0.6666666666666666, fmeasure=0.6153846153846153),\n  'rouge2': Score(precision=0.3333333333333333, recall=0.4, fmeasure=0.3636363636363636),\n  'rougeL': Score(precision=0.5714285714285714, recall=0.6666666666666666, fmeasure=0.6153846153846153)},\n {'rouge1': Score(precision=0.5, recall=0.5, fmeasure=0.5),\n  'rouge2': Score(precision=0.3333333333333333, recall=0.3333333333333333, fmeasure=0.3333333333333333),\n  'rougeL': Score(precision=0.5, recall=0.5, fmeasure=0.5)},\n {'rouge1': Score(precision=0.8, recall=0.6666666666666666, fmeasure=0.7272727272727272),\n  'rouge2': Score(precision=0.6666666666666666, recall=0.5454545454545454, fmeasure=0.6),\n  'rougeL': Score(precision=0.8, recall=0.6666666666666666, fmeasure=0.7272727272727272)},\n {'rouge1': Score(precision=0.8, recall=0.8, fmeasure=0.8000000000000002),\n  'rouge2': Score(precision=0.7777777777777778, recall=0.7777777777777778, fmeasure=0.7777777777777778),\n  'rougeL': Score(precision=0.8, recall=0.8, fmeasure=0.8000000000000002)},\n {'rouge1': Score(precision=0.75, recall=0.75, fmeasure=0.75),\n  'rouge2': Score(precision=0.7142857142857143, recall=0.7142857142857143, fmeasure=0.7142857142857143),\n  'rougeL': Score(precision=0.75, recall=0.75, fmeasure=0.75)},\n {'rouge1': Score(precision=1.0, recall=1.0, fmeasure=1.0),\n  'rouge2': Score(precision=1.0, recall=1.0, fmeasure=1.0),\n  'rougeL': Score(precision=1.0, recall=1.0, fmeasure=1.0)},\n {'rouge1': Score(precision=0.7692307692307693, recall=0.7692307692307693, fmeasure=0.7692307692307693),\n  'rouge2': Score(precision=0.4166666666666667, recall=0.4166666666666667, fmeasure=0.4166666666666667),\n  'rougeL': Score(precision=0.6153846153846154, recall=0.6153846153846154, fmeasure=0.6153846153846154)},\n {'rouge1': Score(precision=0.7692307692307693, recall=0.9090909090909091, fmeasure=0.8333333333333333),\n  'rouge2': Score(precision=0.5833333333333334, recall=0.7, fmeasure=0.6363636363636365),\n  'rougeL': Score(precision=0.6923076923076923, recall=0.8181818181818182, fmeasure=0.7500000000000001)},\n {'rouge1': Score(precision=0.6666666666666666, recall=0.6666666666666666, fmeasure=0.6666666666666666),\n  'rouge2': Score(precision=0.2, recall=0.2, fmeasure=0.20000000000000004),\n  'rougeL': Score(precision=0.6666666666666666, recall=0.6666666666666666, fmeasure=0.6666666666666666)},\n {'rouge1': Score(precision=0.8333333333333334, recall=1.0, fmeasure=0.9090909090909091),\n  'rouge2': Score(precision=0.7272727272727273, recall=0.8888888888888888, fmeasure=0.7999999999999999),\n  'rougeL': Score(precision=0.8333333333333334, recall=1.0, fmeasure=0.9090909090909091)},\n {'rouge1': Score(precision=0.3333333333333333, recall=0.3333333333333333, fmeasure=0.3333333333333333),\n  'rouge2': Score(precision=0.0, recall=0.0, fmeasure=0.0),\n  'rougeL': Score(precision=0.3333333333333333, recall=0.3333333333333333, fmeasure=0.3333333333333333)},\n {'rouge1': Score(precision=0.3333333333333333, recall=0.3333333333333333, fmeasure=0.3333333333333333),\n  'rouge2': Score(precision=0.0, recall=0.0, fmeasure=0.0),\n  'rougeL': Score(precision=0.3333333333333333, recall=0.3333333333333333, fmeasure=0.3333333333333333)},\n {'rouge1': Score(precision=0.4, recall=0.4, fmeasure=0.4000000000000001),\n  'rouge2': Score(precision=0.25, recall=0.25, fmeasure=0.25),\n  'rougeL': Score(precision=0.4, recall=0.4, fmeasure=0.4000000000000001)},\n {'rouge1': Score(precision=0.4166666666666667, recall=0.625, fmeasure=0.5),\n  'rouge2': Score(precision=0.36363636363636365, recall=0.5714285714285714, fmeasure=0.4444444444444444),\n  'rougeL': Score(precision=0.4166666666666667, recall=0.625, fmeasure=0.5)},\n {'rouge1': Score(precision=0.4, recall=0.4, fmeasure=0.4000000000000001),\n  'rouge2': Score(precision=0.2222222222222222, recall=0.2222222222222222, fmeasure=0.2222222222222222),\n  'rougeL': Score(precision=0.4, recall=0.4, fmeasure=0.4000000000000001)},\n {'rouge1': Score(precision=0.6666666666666666, recall=0.6666666666666666, fmeasure=0.6666666666666666),\n  'rouge2': Score(precision=0.625, recall=0.625, fmeasure=0.625),\n  'rougeL': Score(precision=0.5555555555555556, recall=0.5555555555555556, fmeasure=0.5555555555555556)},\n {'rouge1': Score(precision=1.0, recall=1.0, fmeasure=1.0),\n  'rouge2': Score(precision=1.0, recall=1.0, fmeasure=1.0),\n  'rougeL': Score(precision=1.0, recall=1.0, fmeasure=1.0)},\n {'rouge1': Score(precision=0.4, recall=0.4, fmeasure=0.4000000000000001),\n  'rouge2': Score(precision=0.25, recall=0.25, fmeasure=0.25),\n  'rougeL': Score(precision=0.4, recall=0.4, fmeasure=0.4000000000000001)},\n {'rouge1': Score(precision=0.0, recall=0.0, fmeasure=0.0),\n  'rouge2': Score(precision=0.0, recall=0.0, fmeasure=0.0),\n  'rougeL': Score(precision=0.0, recall=0.0, fmeasure=0.0)},\n {'rouge1': Score(precision=1.0, recall=1.0, fmeasure=1.0),\n  'rouge2': Score(precision=1.0, recall=1.0, fmeasure=1.0),\n  'rougeL': Score(precision=1.0, recall=1.0, fmeasure=1.0)},\n {'rouge1': Score(precision=0.75, recall=0.8571428571428571, fmeasure=0.7999999999999999),\n  'rouge2': Score(precision=0.7333333333333333, recall=0.8461538461538461, fmeasure=0.7857142857142856),\n  'rougeL': Score(precision=0.75, recall=0.8571428571428571, fmeasure=0.7999999999999999)},\n {'rouge1': Score(precision=0.7692307692307693, recall=0.7142857142857143, fmeasure=0.7407407407407408),\n  'rouge2': Score(precision=0.6666666666666666, recall=0.6153846153846154, fmeasure=0.64),\n  'rougeL': Score(precision=0.7692307692307693, recall=0.7142857142857143, fmeasure=0.7407407407407408)},\n {'rouge1': Score(precision=0.6666666666666666, recall=0.8, fmeasure=0.7272727272727272),\n  'rouge2': Score(precision=0.6363636363636364, recall=0.7777777777777778, fmeasure=0.7000000000000001),\n  'rougeL': Score(precision=0.6666666666666666, recall=0.8, fmeasure=0.7272727272727272)},\n {'rouge1': Score(precision=0.7777777777777778, recall=0.7777777777777778, fmeasure=0.7777777777777778),\n  'rouge2': Score(precision=0.375, recall=0.375, fmeasure=0.375),\n  'rougeL': Score(precision=0.6666666666666666, recall=0.6666666666666666, fmeasure=0.6666666666666666)},\n {'rouge1': Score(precision=0.7142857142857143, recall=0.7142857142857143, fmeasure=0.7142857142857143),\n  'rouge2': Score(precision=0.16666666666666666, recall=0.16666666666666666, fmeasure=0.16666666666666666),\n  'rougeL': Score(precision=0.5714285714285714, recall=0.5714285714285714, fmeasure=0.5714285714285714)},\n {'rouge1': Score(precision=0.6, recall=0.6, fmeasure=0.6),\n  'rouge2': Score(precision=0.25, recall=0.25, fmeasure=0.25),\n  'rougeL': Score(precision=0.6, recall=0.6, fmeasure=0.6)},\n {'rouge1': Score(precision=0.75, recall=0.8181818181818182, fmeasure=0.7826086956521738),\n  'rouge2': Score(precision=0.6363636363636364, recall=0.7, fmeasure=0.6666666666666666),\n  'rougeL': Score(precision=0.75, recall=0.8181818181818182, fmeasure=0.7826086956521738)},\n {'rouge1': Score(precision=0.3333333333333333, recall=0.6666666666666666, fmeasure=0.4444444444444444),\n  'rouge2': Score(precision=0.2, recall=0.5, fmeasure=0.28571428571428575),\n  'rougeL': Score(precision=0.3333333333333333, recall=0.6666666666666666, fmeasure=0.4444444444444444)},\n {'rouge1': Score(precision=0.5, recall=0.5, fmeasure=0.5),\n  'rouge2': Score(precision=0.4, recall=0.4, fmeasure=0.4000000000000001),\n  'rougeL': Score(precision=0.5, recall=0.5, fmeasure=0.5)},\n {'rouge1': Score(precision=0.6, recall=0.6, fmeasure=0.6),\n  'rouge2': Score(precision=0.5, recall=0.5, fmeasure=0.5),\n  'rougeL': Score(precision=0.6, recall=0.6, fmeasure=0.6)},\n {'rouge1': Score(precision=1.0, recall=1.0, fmeasure=1.0),\n  'rouge2': Score(precision=1.0, recall=1.0, fmeasure=1.0),\n  'rougeL': Score(precision=1.0, recall=1.0, fmeasure=1.0)},\n {'rouge1': Score(precision=1.0, recall=1.0, fmeasure=1.0),\n  'rouge2': Score(precision=1.0, recall=1.0, fmeasure=1.0),\n  'rougeL': Score(precision=1.0, recall=1.0, fmeasure=1.0)},\n {'rouge1': Score(precision=0.75, recall=0.75, fmeasure=0.75),\n  'rouge2': Score(precision=0.45454545454545453, recall=0.45454545454545453, fmeasure=0.45454545454545453),\n  'rougeL': Score(precision=0.6666666666666666, recall=0.6666666666666666, fmeasure=0.6666666666666666)},\n {'rouge1': Score(precision=0.7, recall=0.7, fmeasure=0.7),\n  'rouge2': Score(precision=0.5555555555555556, recall=0.5555555555555556, fmeasure=0.5555555555555556),\n  'rougeL': Score(precision=0.7, recall=0.7, fmeasure=0.7)},\n {'rouge1': Score(precision=0.75, recall=0.75, fmeasure=0.75),\n  'rouge2': Score(precision=0.7142857142857143, recall=0.7142857142857143, fmeasure=0.7142857142857143),\n  'rougeL': Score(precision=0.75, recall=0.75, fmeasure=0.75)},\n {'rouge1': Score(precision=0.6, recall=0.6, fmeasure=0.6),\n  'rouge2': Score(precision=0.25, recall=0.25, fmeasure=0.25),\n  'rougeL': Score(precision=0.6, recall=0.6, fmeasure=0.6)},\n {'rouge1': Score(precision=0.9285714285714286, recall=0.8666666666666667, fmeasure=0.896551724137931),\n  'rouge2': Score(precision=0.8461538461538461, recall=0.7857142857142857, fmeasure=0.8148148148148148),\n  'rougeL': Score(precision=0.9285714285714286, recall=0.8666666666666667, fmeasure=0.896551724137931)},\n {'rouge1': Score(precision=0.5, recall=0.5, fmeasure=0.5),\n  'rouge2': Score(precision=0.3333333333333333, recall=0.3333333333333333, fmeasure=0.3333333333333333),\n  'rougeL': Score(precision=0.5, recall=0.5, fmeasure=0.5)},\n {'rouge1': Score(precision=0.7777777777777778, recall=0.7777777777777778, fmeasure=0.7777777777777778),\n  'rouge2': Score(precision=0.5, recall=0.5, fmeasure=0.5),\n  'rougeL': Score(precision=0.7777777777777778, recall=0.7777777777777778, fmeasure=0.7777777777777778)},\n {'rouge1': Score(precision=1.0, recall=0.7142857142857143, fmeasure=0.8333333333333333),\n  'rouge2': Score(precision=0.75, recall=0.5, fmeasure=0.6),\n  'rougeL': Score(precision=1.0, recall=0.7142857142857143, fmeasure=0.8333333333333333)},\n {'rouge1': Score(precision=0.6666666666666666, recall=0.6666666666666666, fmeasure=0.6666666666666666),\n  'rouge2': Score(precision=0.25, recall=0.25, fmeasure=0.25),\n  'rougeL': Score(precision=0.6666666666666666, recall=0.6666666666666666, fmeasure=0.6666666666666666)},\n {'rouge1': Score(precision=0.5789473684210527, recall=0.7333333333333333, fmeasure=0.6470588235294117),\n  'rouge2': Score(precision=0.1111111111111111, recall=0.14285714285714285, fmeasure=0.125),\n  'rougeL': Score(precision=0.42105263157894735, recall=0.5333333333333333, fmeasure=0.47058823529411764)},\n {'rouge1': Score(precision=0.5, recall=0.5, fmeasure=0.5),\n  'rouge2': Score(precision=0.4, recall=0.4, fmeasure=0.4000000000000001),\n  'rougeL': Score(precision=0.5, recall=0.5, fmeasure=0.5)},\n {'rouge1': Score(precision=1.0, recall=1.0, fmeasure=1.0),\n  'rouge2': Score(precision=1.0, recall=1.0, fmeasure=1.0),\n  'rougeL': Score(precision=1.0, recall=1.0, fmeasure=1.0)},\n {'rouge1': Score(precision=0.625, recall=0.625, fmeasure=0.625),\n  'rouge2': Score(precision=0.2857142857142857, recall=0.2857142857142857, fmeasure=0.2857142857142857),\n  'rougeL': Score(precision=0.5, recall=0.5, fmeasure=0.5)},\n {'rouge1': Score(precision=1.0, recall=0.5, fmeasure=0.6666666666666666),\n  'rouge2': Score(precision=1.0, recall=0.4, fmeasure=0.5714285714285715),\n  'rougeL': Score(precision=1.0, recall=0.5, fmeasure=0.6666666666666666)},\n {'rouge1': Score(precision=1.0, recall=1.0, fmeasure=1.0),\n  'rouge2': Score(precision=1.0, recall=1.0, fmeasure=1.0),\n  'rougeL': Score(precision=1.0, recall=1.0, fmeasure=1.0)},\n {'rouge1': Score(precision=1.0, recall=1.0, fmeasure=1.0),\n  'rouge2': Score(precision=1.0, recall=1.0, fmeasure=1.0),\n  'rougeL': Score(precision=1.0, recall=1.0, fmeasure=1.0)},\n {'rouge1': Score(precision=0.4, recall=0.4, fmeasure=0.4000000000000001),\n  'rouge2': Score(precision=0.0, recall=0.0, fmeasure=0.0),\n  'rougeL': Score(precision=0.4, recall=0.4, fmeasure=0.4000000000000001)},\n {'rouge1': Score(precision=0.75, recall=0.75, fmeasure=0.75),\n  'rouge2': Score(precision=0.5714285714285714, recall=0.5714285714285714, fmeasure=0.5714285714285714),\n  'rougeL': Score(precision=0.75, recall=0.75, fmeasure=0.75)},\n {'rouge1': Score(precision=0.6666666666666666, recall=0.6666666666666666, fmeasure=0.6666666666666666),\n  'rouge2': Score(precision=0.6, recall=0.6, fmeasure=0.6),\n  'rougeL': Score(precision=0.6666666666666666, recall=0.6666666666666666, fmeasure=0.6666666666666666)},\n {'rouge1': Score(precision=0.3333333333333333, recall=0.3333333333333333, fmeasure=0.3333333333333333),\n  'rouge2': Score(precision=0.25, recall=0.25, fmeasure=0.25),\n  'rougeL': Score(precision=0.3333333333333333, recall=0.3333333333333333, fmeasure=0.3333333333333333)},\n {'rouge1': Score(precision=0.14285714285714285, recall=0.14285714285714285, fmeasure=0.14285714285714285),\n  'rouge2': Score(precision=0.0, recall=0.0, fmeasure=0.0),\n  'rougeL': Score(precision=0.14285714285714285, recall=0.14285714285714285, fmeasure=0.14285714285714285)},\n {'rouge1': Score(precision=0.3333333333333333, recall=0.5714285714285714, fmeasure=0.4210526315789474),\n  'rouge2': Score(precision=0.2727272727272727, recall=0.5, fmeasure=0.3529411764705882),\n  'rougeL': Score(precision=0.3333333333333333, recall=0.5714285714285714, fmeasure=0.4210526315789474)},\n {'rouge1': Score(precision=0.7142857142857143, recall=0.7142857142857143, fmeasure=0.7142857142857143),\n  'rouge2': Score(precision=0.5, recall=0.5, fmeasure=0.5),\n  'rougeL': Score(precision=0.7142857142857143, recall=0.7142857142857143, fmeasure=0.7142857142857143)},\n {'rouge1': Score(precision=1.0, recall=1.0, fmeasure=1.0),\n  'rouge2': Score(precision=1.0, recall=1.0, fmeasure=1.0),\n  'rougeL': Score(precision=1.0, recall=1.0, fmeasure=1.0)},\n {'rouge1': Score(precision=0.5714285714285714, recall=0.5714285714285714, fmeasure=0.5714285714285714),\n  'rouge2': Score(precision=0.5, recall=0.5, fmeasure=0.5),\n  'rougeL': Score(precision=0.5714285714285714, recall=0.5714285714285714, fmeasure=0.5714285714285714)},\n {'rouge1': Score(precision=0.4, recall=0.4, fmeasure=0.4000000000000001),\n  'rouge2': Score(precision=0.25, recall=0.25, fmeasure=0.25),\n  'rougeL': Score(precision=0.4, recall=0.4, fmeasure=0.4000000000000001)},\n {'rouge1': Score(precision=0.7142857142857143, recall=0.7142857142857143, fmeasure=0.7142857142857143),\n  'rouge2': Score(precision=0.5, recall=0.5, fmeasure=0.5),\n  'rougeL': Score(precision=0.5714285714285714, recall=0.5714285714285714, fmeasure=0.5714285714285714)},\n {'rouge1': Score(precision=0.3333333333333333, recall=0.3333333333333333, fmeasure=0.3333333333333333),\n  'rouge2': Score(precision=0.0, recall=0.0, fmeasure=0.0),\n  'rougeL': Score(precision=0.3333333333333333, recall=0.3333333333333333, fmeasure=0.3333333333333333)},\n {'rouge1': Score(precision=0.6666666666666666, recall=0.75, fmeasure=0.7058823529411765),\n  'rouge2': Score(precision=0.375, recall=0.42857142857142855, fmeasure=0.39999999999999997),\n  'rougeL': Score(precision=0.5555555555555556, recall=0.625, fmeasure=0.5882352941176471)},\n {'rouge1': Score(precision=0.5714285714285714, recall=0.6666666666666666, fmeasure=0.6153846153846153),\n  'rouge2': Score(precision=0.16666666666666666, recall=0.2, fmeasure=0.1818181818181818),\n  'rougeL': Score(precision=0.5714285714285714, recall=0.6666666666666666, fmeasure=0.6153846153846153)},\n {'rouge1': Score(precision=0.625, recall=0.625, fmeasure=0.625),\n  'rouge2': Score(precision=0.5714285714285714, recall=0.5714285714285714, fmeasure=0.5714285714285714),\n  'rougeL': Score(precision=0.625, recall=0.625, fmeasure=0.625)},\n {'rouge1': Score(precision=0.4, recall=0.4, fmeasure=0.4000000000000001),\n  'rouge2': Score(precision=0.25, recall=0.25, fmeasure=0.25),\n  'rougeL': Score(precision=0.4, recall=0.4, fmeasure=0.4000000000000001)},\n {'rouge1': Score(precision=0.3333333333333333, recall=0.3333333333333333, fmeasure=0.3333333333333333),\n  'rouge2': Score(precision=0.0, recall=0.0, fmeasure=0.0),\n  'rougeL': Score(precision=0.3333333333333333, recall=0.3333333333333333, fmeasure=0.3333333333333333)},\n {'rouge1': Score(precision=0.3333333333333333, recall=0.5714285714285714, fmeasure=0.4210526315789474),\n  'rouge2': Score(precision=0.2727272727272727, recall=0.5, fmeasure=0.3529411764705882),\n  'rougeL': Score(precision=0.3333333333333333, recall=0.5714285714285714, fmeasure=0.4210526315789474)},\n {'rouge1': Score(precision=0.6153846153846154, recall=0.6153846153846154, fmeasure=0.6153846153846154),\n  'rouge2': Score(precision=0.4166666666666667, recall=0.4166666666666667, fmeasure=0.4166666666666667),\n  'rougeL': Score(precision=0.6153846153846154, recall=0.6153846153846154, fmeasure=0.6153846153846154)},\n {'rouge1': Score(precision=0.625, recall=0.38461538461538464, fmeasure=0.4761904761904762),\n  'rouge2': Score(precision=0.42857142857142855, recall=0.25, fmeasure=0.3157894736842105),\n  'rougeL': Score(precision=0.625, recall=0.38461538461538464, fmeasure=0.4761904761904762)},\n {'rouge1': Score(precision=0.2857142857142857, recall=0.2857142857142857, fmeasure=0.2857142857142857),\n  'rouge2': Score(precision=0.0, recall=0.0, fmeasure=0.0),\n  'rougeL': Score(precision=0.2857142857142857, recall=0.2857142857142857, fmeasure=0.2857142857142857)},\n {'rouge1': Score(precision=0.75, recall=0.6, fmeasure=0.6666666666666665),\n  'rouge2': Score(precision=0.3333333333333333, recall=0.25, fmeasure=0.28571428571428575),\n  'rougeL': Score(precision=0.75, recall=0.6, fmeasure=0.6666666666666665)},\n {'rouge1': Score(precision=0.625, recall=0.625, fmeasure=0.625),\n  'rouge2': Score(precision=0.2857142857142857, recall=0.2857142857142857, fmeasure=0.2857142857142857),\n  'rougeL': Score(precision=0.5, recall=0.5, fmeasure=0.5)},\n {'rouge1': Score(precision=0.5, recall=0.5, fmeasure=0.5),\n  'rouge2': Score(precision=0.0, recall=0.0, fmeasure=0.0),\n  'rougeL': Score(precision=0.5, recall=0.5, fmeasure=0.5)},\n {'rouge1': Score(precision=0.0, recall=0.0, fmeasure=0.0),\n  'rouge2': Score(precision=0.0, recall=0.0, fmeasure=0.0),\n  'rougeL': Score(precision=0.0, recall=0.0, fmeasure=0.0)},\n {'rouge1': Score(precision=0.5, recall=0.5, fmeasure=0.5),\n  'rouge2': Score(precision=0.3333333333333333, recall=0.3333333333333333, fmeasure=0.3333333333333333),\n  'rougeL': Score(precision=0.5, recall=0.5, fmeasure=0.5)},\n {'rouge1': Score(precision=0.6666666666666666, recall=0.42857142857142855, fmeasure=0.5217391304347826),\n  'rouge2': Score(precision=0.375, recall=0.23076923076923078, fmeasure=0.2857142857142857),\n  'rougeL': Score(precision=0.6666666666666666, recall=0.42857142857142855, fmeasure=0.5217391304347826)},\n {'rouge1': Score(precision=1.0, recall=0.6666666666666666, fmeasure=0.8),\n  'rouge2': Score(precision=1.0, recall=0.6, fmeasure=0.7499999999999999),\n  'rougeL': Score(precision=1.0, recall=0.6666666666666666, fmeasure=0.8)},\n {'rouge1': Score(precision=0.75, recall=0.6, fmeasure=0.6666666666666665),\n  'rouge2': Score(precision=0.6666666666666666, recall=0.5, fmeasure=0.5714285714285715),\n  'rougeL': Score(precision=0.75, recall=0.6, fmeasure=0.6666666666666665)},\n {'rouge1': Score(precision=0.7692307692307693, recall=0.7692307692307693, fmeasure=0.7692307692307693),\n  'rouge2': Score(precision=0.75, recall=0.75, fmeasure=0.75),\n  'rougeL': Score(precision=0.7692307692307693, recall=0.7692307692307693, fmeasure=0.7692307692307693)},\n {'rouge1': Score(precision=0.6666666666666666, recall=0.5454545454545454, fmeasure=0.6),\n  'rouge2': Score(precision=0.625, recall=0.5, fmeasure=0.5555555555555556),\n  'rougeL': Score(precision=0.6666666666666666, recall=0.5454545454545454, fmeasure=0.6)},\n {'rouge1': Score(precision=0.6666666666666666, recall=0.6666666666666666, fmeasure=0.6666666666666666),\n  'rouge2': Score(precision=0.625, recall=0.625, fmeasure=0.625),\n  'rougeL': Score(precision=0.6666666666666666, recall=0.6666666666666666, fmeasure=0.6666666666666666)},\n {'rouge1': Score(precision=0.5714285714285714, recall=0.5714285714285714, fmeasure=0.5714285714285714),\n  'rouge2': Score(precision=0.5, recall=0.5, fmeasure=0.5),\n  'rougeL': Score(precision=0.5714285714285714, recall=0.5714285714285714, fmeasure=0.5714285714285714)},\n {'rouge1': Score(precision=0.4, recall=0.4, fmeasure=0.4000000000000001),\n  'rouge2': Score(precision=0.25, recall=0.25, fmeasure=0.25),\n  'rougeL': Score(precision=0.4, recall=0.4, fmeasure=0.4000000000000001)},\n {'rouge1': Score(precision=0.0, recall=0.0, fmeasure=0.0),\n  'rouge2': Score(precision=0.0, recall=0.0, fmeasure=0.0),\n  'rougeL': Score(precision=0.0, recall=0.0, fmeasure=0.0)},\n {'rouge1': Score(precision=0.75, recall=1.0, fmeasure=0.8571428571428571),\n  'rouge2': Score(precision=0.6363636363636364, recall=0.875, fmeasure=0.7368421052631579),\n  'rougeL': Score(precision=0.75, recall=1.0, fmeasure=0.8571428571428571)},\n {'rouge1': Score(precision=0.5384615384615384, recall=0.5833333333333334, fmeasure=0.5599999999999999),\n  'rouge2': Score(precision=0.08333333333333333, recall=0.09090909090909091, fmeasure=0.08695652173913043),\n  'rougeL': Score(precision=0.38461538461538464, recall=0.4166666666666667, fmeasure=0.4)},\n {'rouge1': Score(precision=0.45454545454545453, recall=0.625, fmeasure=0.5263157894736842),\n  'rouge2': Score(precision=0.2, recall=0.2857142857142857, fmeasure=0.23529411764705882),\n  'rougeL': Score(precision=0.36363636363636365, recall=0.5, fmeasure=0.4210526315789474)},\n {'rouge1': Score(precision=0.4, recall=0.3333333333333333, fmeasure=0.3636363636363636),\n  'rouge2': Score(precision=0.0, recall=0.0, fmeasure=0.0),\n  'rougeL': Score(precision=0.4, recall=0.3333333333333333, fmeasure=0.3636363636363636)},\n {'rouge1': Score(precision=1.0, recall=1.0, fmeasure=1.0),\n  'rouge2': Score(precision=1.0, recall=1.0, fmeasure=1.0),\n  'rougeL': Score(precision=1.0, recall=1.0, fmeasure=1.0)},\n {'rouge1': Score(precision=0.7142857142857143, recall=0.7142857142857143, fmeasure=0.7142857142857143),\n  'rouge2': Score(precision=0.16666666666666666, recall=0.16666666666666666, fmeasure=0.16666666666666666),\n  'rougeL': Score(precision=0.7142857142857143, recall=0.7142857142857143, fmeasure=0.7142857142857143)},\n {'rouge1': Score(precision=0.8, recall=0.8, fmeasure=0.8000000000000002),\n  'rouge2': Score(precision=0.5, recall=0.5, fmeasure=0.5),\n  'rougeL': Score(precision=0.8, recall=0.8, fmeasure=0.8000000000000002)},\n {'rouge1': Score(precision=0.5, recall=1.0, fmeasure=0.6666666666666666),\n  'rouge2': Score(precision=0.0, recall=0.0, fmeasure=0.0),\n  'rougeL': Score(precision=0.3333333333333333, recall=0.6666666666666666, fmeasure=0.4444444444444444)},\n {'rouge1': Score(precision=0.8461538461538461, recall=0.9166666666666666, fmeasure=0.8799999999999999),\n  'rouge2': Score(precision=0.75, recall=0.8181818181818182, fmeasure=0.7826086956521738),\n  'rougeL': Score(precision=0.8461538461538461, recall=0.9166666666666666, fmeasure=0.8799999999999999)},\n {'rouge1': Score(precision=0.42857142857142855, recall=0.42857142857142855, fmeasure=0.42857142857142855),\n  'rouge2': Score(precision=0.0, recall=0.0, fmeasure=0.0),\n  'rougeL': Score(precision=0.42857142857142855, recall=0.42857142857142855, fmeasure=0.42857142857142855)},\n {'rouge1': Score(precision=0.42857142857142855, recall=0.42857142857142855, fmeasure=0.42857142857142855),\n  'rouge2': Score(precision=0.16666666666666666, recall=0.16666666666666666, fmeasure=0.16666666666666666),\n  'rougeL': Score(precision=0.42857142857142855, recall=0.42857142857142855, fmeasure=0.42857142857142855)},\n {'rouge1': Score(precision=0.8, recall=0.8, fmeasure=0.8000000000000002),\n  'rouge2': Score(precision=0.25, recall=0.25, fmeasure=0.25),\n  'rougeL': Score(precision=0.6, recall=0.6, fmeasure=0.6)},\n {'rouge1': Score(precision=0.6, recall=0.6, fmeasure=0.6),\n  'rouge2': Score(precision=0.5, recall=0.5, fmeasure=0.5),\n  'rougeL': Score(precision=0.6, recall=0.6, fmeasure=0.6)},\n {'rouge1': Score(precision=1.0, recall=0.6, fmeasure=0.7499999999999999),\n  'rouge2': Score(precision=0.5, recall=0.25, fmeasure=0.3333333333333333),\n  'rougeL': Score(precision=1.0, recall=0.6, fmeasure=0.7499999999999999)},\n {'rouge1': Score(precision=0.2, recall=0.1935483870967742, fmeasure=0.19672131147540983),\n  'rouge2': Score(precision=0.034482758620689655, recall=0.03333333333333333, fmeasure=0.03389830508474576),\n  'rougeL': Score(precision=0.16666666666666666, recall=0.16129032258064516, fmeasure=0.16393442622950818)},\n {'rouge1': Score(precision=0.5833333333333334, recall=0.5833333333333334, fmeasure=0.5833333333333334),\n  'rouge2': Score(precision=0.09090909090909091, recall=0.09090909090909091, fmeasure=0.09090909090909091),\n  'rougeL': Score(precision=0.4166666666666667, recall=0.4166666666666667, fmeasure=0.4166666666666667)},\n {'rouge1': Score(precision=0.7777777777777778, recall=0.7, fmeasure=0.7368421052631577),\n  'rouge2': Score(precision=0.375, recall=0.3333333333333333, fmeasure=0.35294117647058826),\n  'rougeL': Score(precision=0.5555555555555556, recall=0.5, fmeasure=0.5263157894736842)},\n {'rouge1': Score(precision=0.8, recall=0.6666666666666666, fmeasure=0.7272727272727272),\n  'rouge2': Score(precision=0.6666666666666666, recall=0.5454545454545454, fmeasure=0.6),\n  'rougeL': Score(precision=0.8, recall=0.6666666666666666, fmeasure=0.7272727272727272)},\n {'rouge1': Score(precision=0.8, recall=0.8, fmeasure=0.8000000000000002),\n  'rouge2': Score(precision=0.6666666666666666, recall=0.6666666666666666, fmeasure=0.6666666666666666),\n  'rougeL': Score(precision=0.8, recall=0.8, fmeasure=0.8000000000000002)},\n {'rouge1': Score(precision=0.6666666666666666, recall=0.6666666666666666, fmeasure=0.6666666666666666),\n  'rouge2': Score(precision=0.2, recall=0.2, fmeasure=0.20000000000000004),\n  'rougeL': Score(precision=0.6666666666666666, recall=0.6666666666666666, fmeasure=0.6666666666666666)},\n {'rouge1': Score(precision=0.5, recall=0.5, fmeasure=0.5),\n  'rouge2': Score(precision=0.3333333333333333, recall=0.3333333333333333, fmeasure=0.3333333333333333),\n  'rougeL': Score(precision=0.5, recall=0.5, fmeasure=0.5)},\n {'rouge1': Score(precision=0.6666666666666666, recall=0.6666666666666666, fmeasure=0.6666666666666666),\n  'rouge2': Score(precision=0.4, recall=0.4, fmeasure=0.4000000000000001),\n  'rougeL': Score(precision=0.6666666666666666, recall=0.6666666666666666, fmeasure=0.6666666666666666)},\n {'rouge1': Score(precision=0.5, recall=0.42857142857142855, fmeasure=0.4615384615384615),\n  'rouge2': Score(precision=0.4, recall=0.3333333333333333, fmeasure=0.3636363636363636),\n  'rougeL': Score(precision=0.5, recall=0.42857142857142855, fmeasure=0.4615384615384615)},\n {'rouge1': Score(precision=0.5, recall=0.5, fmeasure=0.5),\n  'rouge2': Score(precision=0.3333333333333333, recall=0.3333333333333333, fmeasure=0.3333333333333333),\n  'rougeL': Score(precision=0.5, recall=0.5, fmeasure=0.5)},\n {'rouge1': Score(precision=0.75, recall=0.5, fmeasure=0.6),\n  'rouge2': Score(precision=0.2857142857142857, recall=0.18181818181818182, fmeasure=0.2222222222222222),\n  'rougeL': Score(precision=0.625, recall=0.4166666666666667, fmeasure=0.5)},\n {'rouge1': Score(precision=0.8, recall=0.8, fmeasure=0.8000000000000002),\n  'rouge2': Score(precision=0.1111111111111111, recall=0.1111111111111111, fmeasure=0.1111111111111111),\n  'rougeL': Score(precision=0.5, recall=0.5, fmeasure=0.5)},\n {'rouge1': Score(precision=0.6666666666666666, recall=0.5, fmeasure=0.5714285714285715),\n  'rouge2': Score(precision=0.2, recall=0.14285714285714285, fmeasure=0.16666666666666666),\n  'rougeL': Score(precision=0.5, recall=0.375, fmeasure=0.42857142857142855)},\n {'rouge1': Score(precision=0.5, recall=0.3333333333333333, fmeasure=0.4),\n  'rouge2': Score(precision=0.0, recall=0.0, fmeasure=0.0),\n  'rougeL': Score(precision=0.5, recall=0.3333333333333333, fmeasure=0.4)},\n {'rouge1': Score(precision=0.5, recall=0.5, fmeasure=0.5),\n  'rouge2': Score(precision=0.3333333333333333, recall=0.3333333333333333, fmeasure=0.3333333333333333),\n  'rougeL': Score(precision=0.5, recall=0.5, fmeasure=0.5)},\n {'rouge1': Score(precision=1.0, recall=0.45, fmeasure=0.6206896551724138),\n  'rouge2': Score(precision=0.5, recall=0.21052631578947367, fmeasure=0.2962962962962963),\n  'rougeL': Score(precision=0.7777777777777778, recall=0.35, fmeasure=0.48275862068965514)},\n {'rouge1': Score(precision=0.6363636363636364, recall=0.6363636363636364, fmeasure=0.6363636363636364),\n  'rouge2': Score(precision=0.5, recall=0.5, fmeasure=0.5),\n  'rougeL': Score(precision=0.6363636363636364, recall=0.6363636363636364, fmeasure=0.6363636363636364)},\n {'rouge1': Score(precision=0.5, recall=1.0, fmeasure=0.6666666666666666),\n  'rouge2': Score(precision=0.29411764705882354, recall=0.625, fmeasure=0.4),\n  'rougeL': Score(precision=0.4444444444444444, recall=0.8888888888888888, fmeasure=0.5925925925925926)},\n {'rouge1': Score(precision=0.5714285714285714, recall=0.5714285714285714, fmeasure=0.5714285714285714),\n  'rouge2': Score(precision=0.16666666666666666, recall=0.16666666666666666, fmeasure=0.16666666666666666),\n  'rougeL': Score(precision=0.5714285714285714, recall=0.5714285714285714, fmeasure=0.5714285714285714)},\n {'rouge1': Score(precision=0.5, recall=0.5, fmeasure=0.5),\n  'rouge2': Score(precision=0.0, recall=0.0, fmeasure=0.0),\n  'rougeL': Score(precision=0.5, recall=0.5, fmeasure=0.5)},\n {'rouge1': Score(precision=0.7777777777777778, recall=1.0, fmeasure=0.8750000000000001),\n  'rouge2': Score(precision=0.6470588235294118, recall=0.8461538461538461, fmeasure=0.7333333333333334),\n  'rougeL': Score(precision=0.7222222222222222, recall=0.9285714285714286, fmeasure=0.8125000000000001)},\n {'rouge1': Score(precision=0.75, recall=1.0, fmeasure=0.8571428571428571),\n  'rouge2': Score(precision=0.6, recall=0.8181818181818182, fmeasure=0.6923076923076923),\n  'rougeL': Score(precision=0.6875, recall=0.9166666666666666, fmeasure=0.7857142857142857)},\n {'rouge1': Score(precision=0.16666666666666666, recall=1.0, fmeasure=0.2857142857142857),\n  'rouge2': Score(precision=0.14285714285714285, recall=0.9166666666666666, fmeasure=0.24719101123595502),\n  'rougeL': Score(precision=0.16666666666666666, recall=1.0, fmeasure=0.2857142857142857)},\n {'rouge1': Score(precision=0.6666666666666666, recall=0.6666666666666666, fmeasure=0.6666666666666666),\n  'rouge2': Score(precision=0.625, recall=0.625, fmeasure=0.625),\n  'rougeL': Score(precision=0.6666666666666666, recall=0.6666666666666666, fmeasure=0.6666666666666666)},\n {'rouge1': Score(precision=0.5714285714285714, recall=0.5714285714285714, fmeasure=0.5714285714285714),\n  'rouge2': Score(precision=0.5, recall=0.5, fmeasure=0.5),\n  'rougeL': Score(precision=0.5714285714285714, recall=0.5714285714285714, fmeasure=0.5714285714285714)},\n {'rouge1': Score(precision=0.4, recall=0.4, fmeasure=0.4000000000000001),\n  'rouge2': Score(precision=0.25, recall=0.25, fmeasure=0.25),\n  'rougeL': Score(precision=0.4, recall=0.4, fmeasure=0.4000000000000001)},\n {'rouge1': Score(precision=0.0, recall=0.0, fmeasure=0.0),\n  'rouge2': Score(precision=0.0, recall=0.0, fmeasure=0.0),\n  'rougeL': Score(precision=0.0, recall=0.0, fmeasure=0.0)},\n {'rouge1': Score(precision=0.6363636363636364, recall=0.6363636363636364, fmeasure=0.6363636363636364),\n  'rouge2': Score(precision=0.4, recall=0.4, fmeasure=0.4000000000000001),\n  'rougeL': Score(precision=0.6363636363636364, recall=0.6363636363636364, fmeasure=0.6363636363636364)},\n {'rouge1': Score(precision=0.5555555555555556, recall=0.8333333333333334, fmeasure=0.6666666666666667),\n  'rouge2': Score(precision=0.375, recall=0.6, fmeasure=0.4615384615384615),\n  'rougeL': Score(precision=0.5555555555555556, recall=0.8333333333333334, fmeasure=0.6666666666666667)},\n {'rouge1': Score(precision=0.4, recall=0.4, fmeasure=0.4000000000000001),\n  'rouge2': Score(precision=0.2222222222222222, recall=0.2222222222222222, fmeasure=0.2222222222222222),\n  'rougeL': Score(precision=0.4, recall=0.4, fmeasure=0.4000000000000001)},\n {'rouge1': Score(precision=0.5, recall=0.5, fmeasure=0.5),\n  'rouge2': Score(precision=0.42857142857142855, recall=0.42857142857142855, fmeasure=0.42857142857142855),\n  'rougeL': Score(precision=0.5, recall=0.5, fmeasure=0.5)},\n {'rouge1': Score(precision=1.0, recall=0.6666666666666666, fmeasure=0.8),\n  'rouge2': Score(precision=0.6666666666666666, recall=0.4, fmeasure=0.5),\n  'rougeL': Score(precision=1.0, recall=0.6666666666666666, fmeasure=0.8)},\n {'rouge1': Score(precision=0.7, recall=0.7, fmeasure=0.7),\n  'rouge2': Score(precision=0.4444444444444444, recall=0.4444444444444444, fmeasure=0.4444444444444444),\n  'rougeL': Score(precision=0.7, recall=0.7, fmeasure=0.7)},\n {'rouge1': Score(precision=0.7142857142857143, recall=0.7142857142857143, fmeasure=0.7142857142857143),\n  'rouge2': Score(precision=0.5, recall=0.5, fmeasure=0.5),\n  'rougeL': Score(precision=0.7142857142857143, recall=0.7142857142857143, fmeasure=0.7142857142857143)},\n {'rouge1': Score(precision=0.5, recall=0.5, fmeasure=0.5),\n  'rouge2': Score(precision=0.2, recall=0.2, fmeasure=0.20000000000000004),\n  'rougeL': Score(precision=0.5, recall=0.5, fmeasure=0.5)},\n {'rouge1': Score(precision=0.5, recall=0.5, fmeasure=0.5),\n  'rouge2': Score(precision=0.0, recall=0.0, fmeasure=0.0),\n  'rougeL': Score(precision=0.5, recall=0.5, fmeasure=0.5)},\n {'rouge1': Score(precision=1.0, recall=1.0, fmeasure=1.0),\n  'rouge2': Score(precision=1.0, recall=1.0, fmeasure=1.0),\n  'rougeL': Score(precision=1.0, recall=1.0, fmeasure=1.0)},\n {'rouge1': Score(precision=0.5714285714285714, recall=1.0, fmeasure=0.7272727272727273),\n  'rouge2': Score(precision=0.5, recall=1.0, fmeasure=0.6666666666666666),\n  'rougeL': Score(precision=0.5714285714285714, recall=1.0, fmeasure=0.7272727272727273)},\n {'rouge1': Score(precision=0.6666666666666666, recall=0.6666666666666666, fmeasure=0.6666666666666666),\n  'rouge2': Score(precision=0.45454545454545453, recall=0.45454545454545453, fmeasure=0.45454545454545453),\n  'rougeL': Score(precision=0.5833333333333334, recall=0.5833333333333334, fmeasure=0.5833333333333334)},\n {'rouge1': Score(precision=0.75, recall=0.6, fmeasure=0.6666666666666665),\n  'rouge2': Score(precision=0.2857142857142857, recall=0.2222222222222222, fmeasure=0.25),\n  'rougeL': Score(precision=0.625, recall=0.5, fmeasure=0.5555555555555556)},\n {'rouge1': Score(precision=0.5, recall=0.4, fmeasure=0.4444444444444445),\n  'rouge2': Score(precision=0.14285714285714285, recall=0.1111111111111111, fmeasure=0.125),\n  'rougeL': Score(precision=0.375, recall=0.3, fmeasure=0.33333333333333326)},\n {'rouge1': Score(precision=0.75, recall=0.75, fmeasure=0.75),\n  'rouge2': Score(precision=0.42857142857142855, recall=0.42857142857142855, fmeasure=0.42857142857142855),\n  'rougeL': Score(precision=0.625, recall=0.625, fmeasure=0.625)},\n {'rouge1': Score(precision=0.6666666666666666, recall=0.6666666666666666, fmeasure=0.6666666666666666),\n  'rouge2': Score(precision=0.2, recall=0.2, fmeasure=0.20000000000000004),\n  'rougeL': Score(precision=0.5, recall=0.5, fmeasure=0.5)},\n {'rouge1': Score(precision=0.5, recall=0.8, fmeasure=0.6153846153846154),\n  'rouge2': Score(precision=0.2857142857142857, recall=0.5, fmeasure=0.36363636363636365),\n  'rougeL': Score(precision=0.5, recall=0.8, fmeasure=0.6153846153846154)},\n {'rouge1': Score(precision=0.47058823529411764, recall=1.0, fmeasure=0.6399999999999999),\n  'rouge2': Score(precision=0.375, recall=0.8571428571428571, fmeasure=0.5217391304347825),\n  'rougeL': Score(precision=0.47058823529411764, recall=1.0, fmeasure=0.6399999999999999)},\n {'rouge1': Score(precision=0.6363636363636364, recall=0.7777777777777778, fmeasure=0.7000000000000001),\n  'rouge2': Score(precision=0.5, recall=0.625, fmeasure=0.5555555555555556),\n  'rougeL': Score(precision=0.5454545454545454, recall=0.6666666666666666, fmeasure=0.6)},\n {'rouge1': Score(precision=0.6666666666666666, recall=0.8, fmeasure=0.7272727272727272),\n  'rouge2': Score(precision=0.36363636363636365, recall=0.4444444444444444, fmeasure=0.39999999999999997),\n  'rougeL': Score(precision=0.5833333333333334, recall=0.7, fmeasure=0.6363636363636365)},\n {'rouge1': Score(precision=0.7777777777777778, recall=0.875, fmeasure=0.823529411764706),\n  'rouge2': Score(precision=0.5, recall=0.5714285714285714, fmeasure=0.5333333333333333),\n  'rougeL': Score(precision=0.7777777777777778, recall=0.875, fmeasure=0.823529411764706)},\n {'rouge1': Score(precision=0.42857142857142855, recall=0.42857142857142855, fmeasure=0.42857142857142855),\n  'rouge2': Score(precision=0.16666666666666666, recall=0.16666666666666666, fmeasure=0.16666666666666666),\n  'rougeL': Score(precision=0.42857142857142855, recall=0.42857142857142855, fmeasure=0.42857142857142855)},\n {'rouge1': Score(precision=0.6, recall=0.6, fmeasure=0.6),\n  'rouge2': Score(precision=0.25, recall=0.25, fmeasure=0.25),\n  'rougeL': Score(precision=0.6, recall=0.6, fmeasure=0.6)},\n {'rouge1': Score(precision=0.3333333333333333, recall=0.3333333333333333, fmeasure=0.3333333333333333),\n  'rouge2': Score(precision=0.0, recall=0.0, fmeasure=0.0),\n  'rougeL': Score(precision=0.3333333333333333, recall=0.3333333333333333, fmeasure=0.3333333333333333)},\n {'rouge1': Score(precision=0.6666666666666666, recall=0.6666666666666666, fmeasure=0.6666666666666666),\n  'rouge2': Score(precision=0.25, recall=0.25, fmeasure=0.25),\n  'rougeL': Score(precision=0.5555555555555556, recall=0.5555555555555556, fmeasure=0.5555555555555556)},\n {'rouge1': Score(precision=0.5714285714285714, recall=0.5714285714285714, fmeasure=0.5714285714285714),\n  'rouge2': Score(precision=0.16666666666666666, recall=0.16666666666666666, fmeasure=0.16666666666666666),\n  'rougeL': Score(precision=0.5714285714285714, recall=0.5714285714285714, fmeasure=0.5714285714285714)},\n {'rouge1': Score(precision=0.5384615384615384, recall=0.4117647058823529, fmeasure=0.4666666666666667),\n  'rouge2': Score(precision=0.4166666666666667, recall=0.3125, fmeasure=0.35714285714285715),\n  'rougeL': Score(precision=0.5384615384615384, recall=0.4117647058823529, fmeasure=0.4666666666666667)},\n {'rouge1': Score(precision=0.7692307692307693, recall=0.7692307692307693, fmeasure=0.7692307692307693),\n  'rouge2': Score(precision=0.3333333333333333, recall=0.3333333333333333, fmeasure=0.3333333333333333),\n  'rougeL': Score(precision=0.6923076923076923, recall=0.6923076923076923, fmeasure=0.6923076923076923)},\n {'rouge1': Score(precision=0.7272727272727273, recall=0.7272727272727273, fmeasure=0.7272727272727273),\n  'rouge2': Score(precision=0.5, recall=0.5, fmeasure=0.5),\n  'rougeL': Score(precision=0.7272727272727273, recall=0.7272727272727273, fmeasure=0.7272727272727273)},\n {'rouge1': Score(precision=0.7777777777777778, recall=0.7777777777777778, fmeasure=0.7777777777777778),\n  'rouge2': Score(precision=0.75, recall=0.75, fmeasure=0.75),\n  'rougeL': Score(precision=0.7777777777777778, recall=0.7777777777777778, fmeasure=0.7777777777777778)},\n {'rouge1': Score(precision=0.3333333333333333, recall=0.3333333333333333, fmeasure=0.3333333333333333),\n  'rouge2': Score(precision=0.2, recall=0.2, fmeasure=0.20000000000000004),\n  'rougeL': Score(precision=0.3333333333333333, recall=0.3333333333333333, fmeasure=0.3333333333333333)},\n {'rouge1': Score(precision=0.7142857142857143, recall=0.7692307692307693, fmeasure=0.7407407407407408),\n  'rouge2': Score(precision=0.46153846153846156, recall=0.5, fmeasure=0.48000000000000004),\n  'rougeL': Score(precision=0.7142857142857143, recall=0.7692307692307693, fmeasure=0.7407407407407408)},\n {'rouge1': Score(precision=0.4444444444444444, recall=0.36363636363636365, fmeasure=0.39999999999999997),\n  'rouge2': Score(precision=0.125, recall=0.1, fmeasure=0.11111111111111112),\n  'rougeL': Score(precision=0.4444444444444444, recall=0.36363636363636365, fmeasure=0.39999999999999997)},\n {'rouge1': Score(precision=0.75, recall=0.3333333333333333, fmeasure=0.46153846153846156),\n  'rouge2': Score(precision=0.3333333333333333, recall=0.125, fmeasure=0.18181818181818182),\n  'rougeL': Score(precision=0.75, recall=0.3333333333333333, fmeasure=0.46153846153846156)},\n {'rouge1': Score(precision=0.5, recall=0.6666666666666666, fmeasure=0.5714285714285715),\n  'rouge2': Score(precision=0.42857142857142855, recall=0.6, fmeasure=0.5),\n  'rougeL': Score(precision=0.5, recall=0.6666666666666666, fmeasure=0.5714285714285715)},\n {'rouge1': Score(precision=0.5384615384615384, recall=0.5384615384615384, fmeasure=0.5384615384615384),\n  'rouge2': Score(precision=0.4166666666666667, recall=0.4166666666666667, fmeasure=0.4166666666666667),\n  'rougeL': Score(precision=0.46153846153846156, recall=0.46153846153846156, fmeasure=0.46153846153846156)},\n {'rouge1': Score(precision=0.45454545454545453, recall=0.45454545454545453, fmeasure=0.45454545454545453),\n  'rouge2': Score(precision=0.3, recall=0.3, fmeasure=0.3),\n  'rougeL': Score(precision=0.45454545454545453, recall=0.45454545454545453, fmeasure=0.45454545454545453)},\n {'rouge1': Score(precision=0.2631578947368421, recall=1.0, fmeasure=0.4166666666666667),\n  'rouge2': Score(precision=0.2222222222222222, recall=1.0, fmeasure=0.3636363636363636),\n  'rougeL': Score(precision=0.2631578947368421, recall=1.0, fmeasure=0.4166666666666667)},\n {'rouge1': Score(precision=0.8, recall=0.8, fmeasure=0.8000000000000002),\n  'rouge2': Score(precision=0.5555555555555556, recall=0.5555555555555556, fmeasure=0.5555555555555556),\n  'rougeL': Score(precision=0.8, recall=0.8, fmeasure=0.8000000000000002)},\n {'rouge1': Score(precision=0.625, recall=0.7142857142857143, fmeasure=0.6666666666666666),\n  'rouge2': Score(precision=0.2857142857142857, recall=0.3333333333333333, fmeasure=0.30769230769230765),\n  'rougeL': Score(precision=0.625, recall=0.7142857142857143, fmeasure=0.6666666666666666)},\n {'rouge1': Score(precision=0.75, recall=0.6, fmeasure=0.6666666666666665),\n  'rouge2': Score(precision=0.3333333333333333, recall=0.25, fmeasure=0.28571428571428575),\n  'rougeL': Score(precision=0.75, recall=0.6, fmeasure=0.6666666666666665)},\n {'rouge1': Score(precision=1.0, recall=1.0, fmeasure=1.0),\n  'rouge2': Score(precision=1.0, recall=1.0, fmeasure=1.0),\n  'rougeL': Score(precision=1.0, recall=1.0, fmeasure=1.0)}]"
     },
     "execution_count": 36,
     "metadata": {},
     "output_type": "execute_result"
    }
   ],
   "source": [
    "scores"
   ],
   "metadata": {
    "collapsed": false,
    "ExecuteTime": {
     "end_time": "2024-03-21T16:14:48.839593Z",
     "start_time": "2024-03-21T16:14:48.787542Z"
    }
   },
   "id": "5edd56db29e6c70e",
   "execution_count": 36
  },
  {
   "cell_type": "code",
   "outputs": [
    {
     "data": {
      "text/plain": "    metric  precision    recall  fmeasure\n0  ROUGE-1   0.608902  0.640599  0.612309\n1  ROUGE-2   0.412818  0.438391  0.414213\n2  ROUGE-L   0.581954  0.610755  0.584519",
      "text/html": "<div>\n<style scoped>\n    .dataframe tbody tr th:only-of-type {\n        vertical-align: middle;\n    }\n\n    .dataframe tbody tr th {\n        vertical-align: top;\n    }\n\n    .dataframe thead th {\n        text-align: right;\n    }\n</style>\n<table border=\"1\" class=\"dataframe\">\n  <thead>\n    <tr style=\"text-align: right;\">\n      <th></th>\n      <th>metric</th>\n      <th>precision</th>\n      <th>recall</th>\n      <th>fmeasure</th>\n    </tr>\n  </thead>\n  <tbody>\n    <tr>\n      <th>0</th>\n      <td>ROUGE-1</td>\n      <td>0.608902</td>\n      <td>0.640599</td>\n      <td>0.612309</td>\n    </tr>\n    <tr>\n      <th>1</th>\n      <td>ROUGE-2</td>\n      <td>0.412818</td>\n      <td>0.438391</td>\n      <td>0.414213</td>\n    </tr>\n    <tr>\n      <th>2</th>\n      <td>ROUGE-L</td>\n      <td>0.581954</td>\n      <td>0.610755</td>\n      <td>0.584519</td>\n    </tr>\n  </tbody>\n</table>\n</div>"
     },
     "execution_count": 37,
     "metadata": {},
     "output_type": "execute_result"
    }
   ],
   "source": [
    "avg_scores = {\n",
    "    \"metric\": [\"ROUGE-1\", \"ROUGE-2\", \"ROUGE-L\"],\n",
    "    \"precision\": [0.0, 0.0, 0.0], \n",
    "    \"recall\": [0.0, 0.0, 0.0],\n",
    "    \"fmeasure\": [0.0, 0.0, 0.0], \n",
    "}\n",
    "\n",
    "for score in scores:\n",
    "    avg_scores[\"precision\"][0] += score[\"rouge1\"].precision\n",
    "    avg_scores[\"precision\"][1] += score[\"rouge2\"].precision\n",
    "    avg_scores[\"precision\"][2] += score[\"rougeL\"].precision\n",
    "    \n",
    "    avg_scores[\"recall\"][0] += score[\"rouge1\"].recall\n",
    "    avg_scores[\"recall\"][1] += score[\"rouge2\"].recall\n",
    "    avg_scores[\"recall\"][2] += score[\"rougeL\"].recall\n",
    "    \n",
    "    avg_scores[\"fmeasure\"][0] += score[\"rouge1\"].fmeasure\n",
    "    avg_scores[\"fmeasure\"][1] += score[\"rouge2\"].fmeasure\n",
    "    avg_scores[\"fmeasure\"][2] += score[\"rougeL\"].fmeasure\n",
    "    \n",
    "for key_ in (\"precision\", \"recall\", \"fmeasure\"):\n",
    "    avg_scores[key_][0] /= len(scores)\n",
    "    avg_scores[key_][1] /= len(scores)\n",
    "    avg_scores[key_][2] /= len(scores)\n",
    "    \n",
    "pd.DataFrame(avg_scores).head()"
   ],
   "metadata": {
    "collapsed": false,
    "ExecuteTime": {
     "end_time": "2024-03-21T16:14:49.040644Z",
     "start_time": "2024-03-21T16:14:49.025936Z"
    }
   },
   "id": "2313eac9555900c2",
   "execution_count": 37
  },
  {
   "cell_type": "code",
   "outputs": [],
   "source": [
    "import sacrebleu"
   ],
   "metadata": {
    "collapsed": false,
    "ExecuteTime": {
     "end_time": "2024-03-21T16:14:55.201124Z",
     "start_time": "2024-03-21T16:14:55.195135Z"
    }
   },
   "id": "a3e339f3025e9306",
   "execution_count": 38
  },
  {
   "cell_type": "code",
   "outputs": [
    {
     "name": "stdout",
     "output_type": "stream",
     "text": [
      "BLEU Score: 100.00000000000004\n"
     ]
    }
   ],
   "source": [
    "references = [[ref_term, sys_term] for ref_term, sys_term in zip(df_reduced[\"term_next_LO\"].tolist(), df_reduced[\"gpt4_answers\"].tolist())]\n",
    "candidate = df_reduced[\"term_next_LO\"].tolist()\n",
    "\n",
    "bleu = sacrebleu.corpus_bleu(candidate, references)\n",
    "print(\"BLEU Score:\", bleu.score)"
   ],
   "metadata": {
    "collapsed": false,
    "ExecuteTime": {
     "end_time": "2024-03-21T16:15:02.491962Z",
     "start_time": "2024-03-21T16:15:02.411082Z"
    }
   },
   "id": "df10f3b89486163d",
   "execution_count": 40
  },
  {
   "cell_type": "code",
   "outputs": [],
   "source": [],
   "metadata": {
    "collapsed": false
   },
   "id": "dcfb333aed8a2c12"
  },
  {
   "cell_type": "markdown",
   "source": [
    "# Compare actual terms"
   ],
   "metadata": {
    "collapsed": false
   },
   "id": "e22e0b4ec4bd172d"
  },
  {
   "cell_type": "code",
   "outputs": [],
   "source": [],
   "metadata": {
    "collapsed": false
   },
   "id": "160f9029444594a7"
  },
  {
   "cell_type": "code",
   "outputs": [],
   "source": [],
   "metadata": {
    "collapsed": false
   },
   "id": "626eeffa23a24b0b"
  },
  {
   "cell_type": "code",
   "outputs": [],
   "source": [],
   "metadata": {
    "collapsed": false
   },
   "id": "ac6780977f449fc1"
  },
  {
   "cell_type": "code",
   "outputs": [],
   "source": [],
   "metadata": {
    "collapsed": false
   },
   "id": "2f47d25ade3b5287"
  }
 ],
 "metadata": {
  "kernelspec": {
   "display_name": "Python 3",
   "language": "python",
   "name": "python3"
  },
  "language_info": {
   "codemirror_mode": {
    "name": "ipython",
    "version": 2
   },
   "file_extension": ".py",
   "mimetype": "text/x-python",
   "name": "python",
   "nbconvert_exporter": "python",
   "pygments_lexer": "ipython2",
   "version": "2.7.6"
  }
 },
 "nbformat": 4,
 "nbformat_minor": 5
}
