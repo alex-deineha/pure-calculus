{
 "cells": [
  {
   "cell_type": "code",
   "execution_count": 1,
   "id": "initial_id",
   "metadata": {
    "collapsed": true,
    "ExecuteTime": {
     "end_time": "2024-03-25T16:23:37.716438Z",
     "start_time": "2024-03-25T16:23:37.173550Z"
    }
   },
   "outputs": [],
   "source": [
    "import sys\n",
    "import re\n",
    "\n",
    "import pandas as pd\n",
    "import numpy as np\n",
    "\n",
    "from tqdm import tqdm\n",
    "\n",
    "sys.path.append(\"../\")\n",
    "from calculus_path_mod.term_engine import *\n",
    "from calculus_path_mod.reduction_strategy import *\n",
    "from calculus_path_mod.terms import num_comparison, nat_numbers, arithm_ops, combinators, pairs, logic\n",
    "\n",
    "from calculus_path_mod.terms.pseudonym import *\n",
    "\n",
    "from tests_14_redexes_coloring.lambda_code_interpreter import LambdaCalculusInterpreter"
   ]
  },
  {
   "cell_type": "markdown",
   "source": [
    "# Load data"
   ],
   "metadata": {
    "collapsed": false
   },
   "id": "cc98d76993847039"
  },
  {
   "cell_type": "code",
   "outputs": [],
   "source": [
    "gpt35_full_df = pd.read_csv(\"./data/gpt3.5_answers.csv\")\n",
    "gpt35_df = pd.read_csv(\"./data/gpt3.5_answers_reduced.csv\")\n",
    "gpt4_df = pd.read_csv(\"./data/gpt4_answers.csv\")"
   ],
   "metadata": {
    "collapsed": false,
    "ExecuteTime": {
     "end_time": "2024-03-25T16:49:37.117309Z",
     "start_time": "2024-03-25T16:49:37.088051Z"
    }
   },
   "id": "21c476f3395df68e",
   "execution_count": 6
  },
  {
   "cell_type": "markdown",
   "source": [
    "# Interprete terms"
   ],
   "metadata": {
    "collapsed": false
   },
   "id": "af4a7a5af0184753"
  },
  {
   "cell_type": "code",
   "outputs": [],
   "source": [
    "lc_interpreter = LambdaCalculusInterpreter()"
   ],
   "metadata": {
    "collapsed": false,
    "ExecuteTime": {
     "end_time": "2024-03-25T16:50:32.275299Z",
     "start_time": "2024-03-25T16:50:32.260857Z"
    }
   },
   "id": "96124709ef6d7877",
   "execution_count": 7
  },
  {
   "cell_type": "code",
   "outputs": [],
   "source": [
    "test_term_str = gpt35_full_df[\"term_next_LO\"].tolist()[0]"
   ],
   "metadata": {
    "collapsed": false,
    "ExecuteTime": {
     "end_time": "2024-03-25T16:49:19.832147Z",
     "start_time": "2024-03-25T16:49:19.827522Z"
    }
   },
   "id": "eea46b4b15b62d75",
   "execution_count": 5
  },
  {
   "cell_type": "code",
   "outputs": [
    {
     "name": "stdout",
     "output_type": "stream",
     "text": [
      "Defined term could be found & reduced by name: 'tmp_term'\n"
     ]
    }
   ],
   "source": [
    "fixed_test_term_str = test_term_str.replace(\"λ\", \"@\")\n",
    "\n",
    "res = lc_interpreter.process_commands(f\"#define tmp_term = {fixed_test_term_str}#\")\n",
    "print(res)"
   ],
   "metadata": {
    "collapsed": false,
    "ExecuteTime": {
     "end_time": "2024-03-25T16:59:49.554001Z",
     "start_time": "2024-03-25T16:59:49.542993Z"
    }
   },
   "id": "f8da9e6390ca8cd9",
   "execution_count": 20
  },
  {
   "cell_type": "code",
   "outputs": [
    {
     "name": "stdout",
     "output_type": "stream",
     "text": [
      "#help -- to call this menu\n",
      "\n",
      "#show-syntax -- show syntax used for typing lambda terms\n",
      "#show-strategies -- show available strategies\n",
      "#show-lib -- show all available terms in the terms library\n",
      "#show-all -- show all terms defined by user\n",
      "#show TERM_NAME -- to get description by the term\n",
      "#show term_name -- to show a defined term by term name\n",
      "#show-full TERM_NAME -- to get a full term definition by the term nem\n",
      "#show-full term_name -- to show a full term definition of a defined term by term name\n",
      "\n",
      "#import /path_to_lib/lib_file.lmd -- for including terms from other file. \n",
      "                It must have a name in which will be defined a term\n",
      "#define term_name = term_definition # -- for defining term in the memory,\n",
      "                MUST ENDS on '#' symbol for allowing multiline input\n",
      "                 \n",
      "#reduce term_name STRATEGY_NAME -- reduce term by term_name with defined strategy\n",
      "                reduced term will appear in term_name_red_strategy_name, \n",
      "                STRATEGY_NAME isn't mandatory, if it doesn't set, system use \n",
      "                Leftmost Outermost strategy.\n",
      "For command '#reduce' you can set unlimited execution with commands separated\n",
      "via '-', with following commands you can:\n",
      "* nolim        -- set unlimited normalization process\n",
      "* tlim_TIMESEC -- set a normalization limit in SECONDS\n",
      "* lim_STEPS    -- set a normalization limit in NORMALIZATION STEPS\n",
      "* vis          -- visualize a normalization process\n"
     ]
    }
   ],
   "source": [
    "res = lc_interpreter.process_commands(f\"#help\")\n",
    "print(res)"
   ],
   "metadata": {
    "collapsed": false,
    "ExecuteTime": {
     "end_time": "2024-03-25T16:56:19.054903Z",
     "start_time": "2024-03-25T16:56:19.046382Z"
    }
   },
   "id": "7af28f363108c2ba",
   "execution_count": 13
  },
  {
   "cell_type": "code",
   "outputs": [
    {
     "name": "stdout",
     "output_type": "stream",
     "text": [
      "Full terms description:\n",
      "* tmp_term == (λx.(λy.((λz.(((λa.(z a)) ((λb.(λc.(λd.(b (c (λe.e)))))) z)) z)) (y ((λj.(λi.(λn.j))) y)))))\n"
     ]
    }
   ],
   "source": [
    "res = lc_interpreter.process_commands(f\"#show-full tmp_term\")\n",
    "print(res)"
   ],
   "metadata": {
    "collapsed": false,
    "ExecuteTime": {
     "end_time": "2024-03-25T16:59:53.805122Z",
     "start_time": "2024-03-25T16:59:53.794680Z"
    }
   },
   "id": "6c865f9bc62bae97",
   "execution_count": 21
  },
  {
   "cell_type": "code",
   "outputs": [
    {
     "data": {
      "text/plain": "'(λx.(λy.((λz.(((λa.(z a)) ((λb.(λc.(λd.(b (c (λe.e)))))) z)) z)) (y ((λj.(λi.(λn.j))) y)))))'"
     },
     "execution_count": 22,
     "metadata": {},
     "output_type": "execute_result"
    }
   ],
   "source": [
    "test_term_str"
   ],
   "metadata": {
    "collapsed": false,
    "ExecuteTime": {
     "end_time": "2024-03-25T17:00:21.510907Z",
     "start_time": "2024-03-25T17:00:21.504822Z"
    }
   },
   "id": "d19da64c31cca858",
   "execution_count": 22
  },
  {
   "cell_type": "markdown",
   "source": [
    "# Weak accuracy estimation for GPT3.5 full results"
   ],
   "metadata": {
    "collapsed": false
   },
   "id": "e2a6615cc53f95b7"
  },
  {
   "cell_type": "code",
   "outputs": [
    {
     "name": "stdout",
     "output_type": "stream",
     "text": [
      "Accuracy on GPT-3.5 full: 6.084396467124632\n"
     ]
    }
   ],
   "source": [
    "true_count = 0\n",
    "all_terms = len(gpt35_full_df[\"term_next_LO\"].tolist())\n",
    "\n",
    "for term_lo_str, term_exp_str in zip(gpt35_full_df[\"term_next_LO\"].tolist(), gpt35_full_df[\"gpt3.5_answers\"].tolist()):\n",
    "    aaa = term_exp_str.replace('λ', '@').replace('\\'', '')\n",
    "    if \"->\" in aaa:\n",
    "        aaa = aaa.split(\"->\")[1]\n",
    "    if \"=>\" in aaa:\n",
    "        aaa = aaa.split(\"=>\")[1]\n",
    "    if \"→\" in aaa:\n",
    "         aaa = aaa.split(\"→\")[1]\n",
    "        \n",
    "    res = lc_interpreter.process_commands(f\"#define tmp_term = {aaa}#\")\n",
    "    if \"Error\" in res or \"ERROR\" in res:\n",
    "        continue\n",
    "    res = lc_interpreter.process_commands(f\"#show-full tmp_term\")\n",
    "    term_exp_fix_var_srt = res.split(\" == \")[1].replace(\"\\n\", \"\")\n",
    "    if term_exp_fix_var_srt == term_lo_str:\n",
    "        true_count += 1\n",
    "        \n",
    "print(f\"Accuracy on GPT-3.5 full: {true_count / all_terms * 100.0}\")"
   ],
   "metadata": {
    "collapsed": false,
    "ExecuteTime": {
     "end_time": "2024-03-25T23:00:52.870687Z",
     "start_time": "2024-03-25T23:00:52.701670Z"
    }
   },
   "id": "db62aaae038c2e41",
   "execution_count": 45
  },
  {
   "cell_type": "markdown",
   "source": [
    "# Weak accuracy estimation for GPT3.5"
   ],
   "metadata": {
    "collapsed": false
   },
   "id": "975553c77d4aee73"
  },
  {
   "cell_type": "code",
   "outputs": [
    {
     "name": "stdout",
     "output_type": "stream",
     "text": [
      "Accuracy on GPT-3.5: 19.34426229508197\n"
     ]
    }
   ],
   "source": [
    "true_count = 0\n",
    "all_terms = len(gpt35_df[\"term_next_LO\"].tolist())\n",
    "\n",
    "for term_lo_str, term_exp_str in zip(gpt35_df[\"term_next_LO\"].tolist(), gpt35_df[\"gpt3.5_answers\"].tolist()):\n",
    "    aaa = term_exp_str.replace('λ', '@').replace('\\'', '')\n",
    "    if \"->\" in aaa:\n",
    "        aaa = aaa.split(\"->\")[1]\n",
    "    if \"=>\" in aaa:\n",
    "        aaa = aaa.split(\"=>\")[1]\n",
    "    \n",
    "    res = lc_interpreter.process_commands(f\"#define tmp_term = {aaa}#\")\n",
    "    if \"Error\" in res or \"ERROR\" in res:\n",
    "        continue\n",
    "    res = lc_interpreter.process_commands(f\"#show-full tmp_term\")\n",
    "    term_exp_fix_var_srt = res.split(\" == \")[1].replace(\"\\n\", \"\")\n",
    "    if term_exp_fix_var_srt == term_lo_str:\n",
    "        true_count += 1\n",
    "        \n",
    "print(f\"Accuracy on GPT-3.5: {true_count / all_terms * 100.0}\")"
   ],
   "metadata": {
    "collapsed": false,
    "ExecuteTime": {
     "end_time": "2024-03-25T22:55:55.764389Z",
     "start_time": "2024-03-25T22:55:55.709867Z"
    }
   },
   "id": "efbf8acee2013fe7",
   "execution_count": 44
  },
  {
   "cell_type": "markdown",
   "source": [
    "# Weak accuracy estimation for GPT4"
   ],
   "metadata": {
    "collapsed": false
   },
   "id": "6555d7d67cce1ca3"
  },
  {
   "cell_type": "code",
   "outputs": [
    {
     "name": "stdout",
     "output_type": "stream",
     "text": [
      "Accuracy on GPT-4: 41.31147540983607\n"
     ]
    }
   ],
   "source": [
    "true_count = 0\n",
    "all_terms = len(gpt4_df[\"term_next_LO\"].tolist())\n",
    "\n",
    "for term_lo_str, term_exp_str in zip(gpt4_df[\"term_next_LO\"].tolist(), gpt4_df[\"gpt4_answers\"].tolist()):\n",
    "    aaa = term_exp_str.replace('λ', '@').replace('\\'', '')\n",
    "    if \"->\" in aaa:\n",
    "        aaa = aaa.split(\"->\")[1]\n",
    "    if \"=>\" in aaa:\n",
    "        aaa = aaa.split(\"=>\")[1]\n",
    "    \n",
    "    res = lc_interpreter.process_commands(f\"#define tmp_term = {aaa}#\")\n",
    "    if \"Error\" in res or \"ERROR\" in res:\n",
    "        continue\n",
    "    res = lc_interpreter.process_commands(f\"#show-full tmp_term\")\n",
    "    term_exp_fix_var_srt = res.split(\" == \")[1].replace(\"\\n\", \"\")\n",
    "    if term_exp_fix_var_srt == term_lo_str:\n",
    "        true_count += 1\n",
    "        \n",
    "print(f\"Accuracy on GPT-4: {true_count / all_terms * 100.0}\")"
   ],
   "metadata": {
    "collapsed": false,
    "ExecuteTime": {
     "end_time": "2024-03-25T22:54:26.180095Z",
     "start_time": "2024-03-25T22:54:26.117617Z"
    }
   },
   "id": "f2a614c9e4466116",
   "execution_count": 43
  },
  {
   "cell_type": "code",
   "outputs": [],
   "source": [],
   "metadata": {
    "collapsed": false
   },
   "id": "e35d1b67622f9f4b"
  },
  {
   "cell_type": "code",
   "outputs": [],
   "source": [],
   "metadata": {
    "collapsed": false
   },
   "id": "7a9ac5fb770676df"
  }
 ],
 "metadata": {
  "kernelspec": {
   "display_name": "Python 3",
   "language": "python",
   "name": "python3"
  },
  "language_info": {
   "codemirror_mode": {
    "name": "ipython",
    "version": 2
   },
   "file_extension": ".py",
   "mimetype": "text/x-python",
   "name": "python",
   "nbconvert_exporter": "python",
   "pygments_lexer": "ipython2",
   "version": "2.7.6"
  }
 },
 "nbformat": 4,
 "nbformat_minor": 5
}
