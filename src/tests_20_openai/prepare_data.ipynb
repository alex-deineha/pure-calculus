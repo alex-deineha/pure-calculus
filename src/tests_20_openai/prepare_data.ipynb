{
 "cells": [
  {
   "cell_type": "markdown",
   "source": [
    "# Import dependencies"
   ],
   "metadata": {
    "collapsed": false
   },
   "id": "38ea1905fa91884c"
  },
  {
   "cell_type": "code",
   "outputs": [],
   "source": [
    "import sys\n",
    "import re\n",
    "from tqdm import tqdm\n",
    "\n",
    "import matplotlib.pyplot as plt\n",
    "import pandas as pd\n",
    "import seaborn as sns\n",
    "import numpy as np\n",
    "from collections import Counter\n",
    "\n",
    "sys.path.append(\"../../.\")\n",
    "from calculus_path_mod.term_engine import *\n",
    "from calculus_path_mod.reduction_strategy import *\n",
    "from calculus_path_mod.terms import num_comparison, nat_numbers, arithm_ops, combinators, pairs, logic\n",
    "from calculus_path_mod.terms.pseudonym import *\n",
    "\n",
    "from contextlib import contextmanager\n",
    "import threading\n",
    "import _thread\n",
    "\n",
    "from calculus_path_mod.json_serialization import load_terms"
   ],
   "metadata": {
    "collapsed": false,
    "ExecuteTime": {
     "end_time": "2024-03-20T14:52:40.423680Z",
     "start_time": "2024-03-20T14:52:40.380379Z"
    }
   },
   "id": "d6ccf2043c2e9fe4",
   "execution_count": 1
  },
  {
   "cell_type": "code",
   "outputs": [],
   "source": [
    "class TimeoutException(Exception):\n",
    "    def __init__(self, msg=''):\n",
    "        self.msg = msg\n",
    "\n",
    "\n",
    "@contextmanager\n",
    "def time_limit(seconds, msg=''):\n",
    "    timer = threading.Timer(seconds, lambda: _thread.interrupt_main())\n",
    "    timer.start()\n",
    "    try:\n",
    "        yield\n",
    "    except KeyboardInterrupt:\n",
    "        raise TimeoutException(\"Timed out for operation {}\".format(msg))\n",
    "    finally:\n",
    "        # if the action ends in specified time, the timer is canceled\n",
    "        timer.cancel()"
   ],
   "metadata": {
    "collapsed": false,
    "ExecuteTime": {
     "end_time": "2024-03-20T14:52:44.537107Z",
     "start_time": "2024-03-20T14:52:44.516370Z"
    }
   },
   "id": "4fe9882e984f2045",
   "execution_count": 2
  },
  {
   "cell_type": "markdown",
   "source": [
    "# Do generation"
   ],
   "metadata": {
    "collapsed": false
   },
   "id": "dd3fd2d748ff1337"
  },
  {
   "cell_type": "code",
   "outputs": [],
   "source": [
    "# from_inx, to_inx = 0, 20\n",
    "# #\n",
    "# print(from_inx, \"-\", to_inx)\n",
    "# lists_terms_LO = [load_terms(f\"../tests_11_retests/collected_terms/terms_210_filtered_LO_{inx_}.dat\") for inx_ in range(from_inx, to_inx)]\n",
    "\n",
    "lists_terms_LO = [\n",
    "    load_terms(f\"../tests_11_retests/terms_210_filtered_LO.dat\"),\n",
    "    load_terms(f\"../tests_11_retests/terms_210_filtered_RI.dat\"),\n",
    "]"
   ],
   "metadata": {
    "collapsed": false,
    "ExecuteTime": {
     "end_time": "2024-03-20T14:54:50.200403Z",
     "start_time": "2024-03-20T14:54:50.145555Z"
    }
   },
   "id": "7a8ab1e772e9664",
   "execution_count": 8
  },
  {
   "cell_type": "code",
   "outputs": [],
   "source": [
    "def gen_norm_data(terms_list, strategy):\n",
    "    term_reductions_list = []\n",
    "\n",
    "    for term in tqdm(terms_list):\n",
    "        norm_term = term\n",
    "        term_red_step = 0\n",
    "        reductions = []\n",
    "        while norm_term:\n",
    "            term_red_step += 1\n",
    "            reductions.append(norm_term.funky_str())\n",
    "            (step_term, _, _), norm_term = norm_term.one_step_normalize_visual(strategy)\n",
    "            if (step_term.vertices_number > 1_000) or (term_red_step > 30):\n",
    "                norm_term = None\n",
    "        term_reductions_list.append(reductions)\n",
    "\n",
    "    return term_reductions_list"
   ],
   "metadata": {
    "collapsed": false,
    "ExecuteTime": {
     "end_time": "2024-03-20T15:23:29.535219Z",
     "start_time": "2024-03-20T15:23:29.525489Z"
    }
   },
   "id": "be1e6f9c8c1dcab3",
   "execution_count": 10
  },
  {
   "cell_type": "code",
   "outputs": [
    {
     "name": "stderr",
     "output_type": "stream",
     "text": [
      "100%|██████████| 226/226 [00:01<00:00, 221.91it/s]\n",
      "100%|██████████| 223/223 [00:01<00:00, 193.42it/s]\n"
     ]
    }
   ],
   "source": [
    "list_res_OO = [gen_norm_data(terms_, LOStrategy()) for terms_ in lists_terms_LO]"
   ],
   "metadata": {
    "collapsed": false,
    "ExecuteTime": {
     "end_time": "2024-03-20T15:24:15.181215Z",
     "start_time": "2024-03-20T15:24:12.978355Z"
    }
   },
   "id": "dba7331b5a55cb25",
   "execution_count": 11
  },
  {
   "cell_type": "code",
   "outputs": [],
   "source": [
    "trs = {\"term\": [], \"term_next_LO\": []}\n",
    "\n",
    "for term_reductions_list_ in list_res_OO:\n",
    "    for term_reductions_ in term_reductions_list_:\n",
    "        for inx in range(len(term_reductions_) - 1):\n",
    "            trs['term'].append(term_reductions_[inx])\n",
    "            trs['term_next_LO'].append(term_reductions_[inx + 1])"
   ],
   "metadata": {
    "collapsed": false,
    "ExecuteTime": {
     "end_time": "2024-03-20T15:57:26.538457Z",
     "start_time": "2024-03-20T15:57:26.524935Z"
    }
   },
   "id": "cc8b1c123dccae92",
   "execution_count": 19
  },
  {
   "cell_type": "code",
   "outputs": [
    {
     "name": "stdout",
     "output_type": "stream",
     "text": [
      "3457\n",
      "3416\n"
     ]
    }
   ],
   "source": [
    "df = pd.DataFrame(trs)\n",
    "print(len(df))\n",
    "df = df.drop_duplicates(subset=\"term\")\n",
    "print(len(df))"
   ],
   "metadata": {
    "collapsed": false,
    "ExecuteTime": {
     "end_time": "2024-03-20T15:58:40.694503Z",
     "start_time": "2024-03-20T15:58:40.647217Z"
    }
   },
   "id": "98336c36b4c1df2f",
   "execution_count": 20
  },
  {
   "cell_type": "code",
   "outputs": [
    {
     "data": {
      "text/plain": "                                                term  \\\n0  ((λx.(λy.((y y) (λz.z)))) (λa.(((λb.b) (a (λc....   \n1  (((λx.(λy.((y y) (λz.((λa.(λb.(λc.(x (c (a c))...   \n2  ((λx.((x x) (λy.((λz.(λa.(λb.((λc.(((λd.(c d))...   \n3  ((((λx.x) ((λy.y) (λz.(z (λa.z))))) ((λx.x) ((...   \n4  ((((λx.x) (λy.(y (λz.y)))) ((λa.a) ((λb.b) (λc...   \n\n                                        term_next_LO  \n0                                (λx.((x x) (λy.y)))  \n1  ((λx.((x x) (λy.((λz.(λa.(λb.((λc.(((λd.(c d))...  \n2  ((((λx.x) ((λy.y) (λz.(z (λa.z))))) ((λx.x) ((...  \n3  ((((λx.x) (λy.(y (λz.y)))) ((λa.a) ((λb.b) (λc...  \n4  (((λx.(x (λy.x))) ((λz.z) ((λa.a) (λb.(b (λc.b...  ",
      "text/html": "<div>\n<style scoped>\n    .dataframe tbody tr th:only-of-type {\n        vertical-align: middle;\n    }\n\n    .dataframe tbody tr th {\n        vertical-align: top;\n    }\n\n    .dataframe thead th {\n        text-align: right;\n    }\n</style>\n<table border=\"1\" class=\"dataframe\">\n  <thead>\n    <tr style=\"text-align: right;\">\n      <th></th>\n      <th>term</th>\n      <th>term_next_LO</th>\n    </tr>\n  </thead>\n  <tbody>\n    <tr>\n      <th>0</th>\n      <td>((λx.(λy.((y y) (λz.z)))) (λa.(((λb.b) (a (λc....</td>\n      <td>(λx.((x x) (λy.y)))</td>\n    </tr>\n    <tr>\n      <th>1</th>\n      <td>(((λx.(λy.((y y) (λz.((λa.(λb.(λc.(x (c (a c))...</td>\n      <td>((λx.((x x) (λy.((λz.(λa.(λb.((λc.(((λd.(c d))...</td>\n    </tr>\n    <tr>\n      <th>2</th>\n      <td>((λx.((x x) (λy.((λz.(λa.(λb.((λc.(((λd.(c d))...</td>\n      <td>((((λx.x) ((λy.y) (λz.(z (λa.z))))) ((λx.x) ((...</td>\n    </tr>\n    <tr>\n      <th>3</th>\n      <td>((((λx.x) ((λy.y) (λz.(z (λa.z))))) ((λx.x) ((...</td>\n      <td>((((λx.x) (λy.(y (λz.y)))) ((λa.a) ((λb.b) (λc...</td>\n    </tr>\n    <tr>\n      <th>4</th>\n      <td>((((λx.x) (λy.(y (λz.y)))) ((λa.a) ((λb.b) (λc...</td>\n      <td>(((λx.(x (λy.x))) ((λz.z) ((λa.a) (λb.(b (λc.b...</td>\n    </tr>\n  </tbody>\n</table>\n</div>"
     },
     "execution_count": 21,
     "metadata": {},
     "output_type": "execute_result"
    }
   ],
   "source": [
    "df.head()"
   ],
   "metadata": {
    "collapsed": false,
    "ExecuteTime": {
     "end_time": "2024-03-20T16:11:49.607391Z",
     "start_time": "2024-03-20T16:11:49.578471Z"
    }
   },
   "id": "27a8c6908be37789",
   "execution_count": 21
  },
  {
   "cell_type": "code",
   "outputs": [],
   "source": [
    "df.to_csv(f\"./data/term_step_LO.csv\", index=False)"
   ],
   "metadata": {
    "collapsed": false,
    "ExecuteTime": {
     "end_time": "2024-03-20T16:12:25.352859Z",
     "start_time": "2024-03-20T16:12:25.274243Z"
    }
   },
   "id": "4f0db6231f1dfe0",
   "execution_count": 22
  },
  {
   "cell_type": "code",
   "outputs": [],
   "source": [],
   "metadata": {
    "collapsed": false
   },
   "id": "d1f8aa29cd08ef7d"
  },
  {
   "cell_type": "code",
   "outputs": [],
   "source": [],
   "metadata": {
    "collapsed": false
   },
   "id": "fecf15bc08bc8"
  },
  {
   "cell_type": "code",
   "outputs": [],
   "source": [],
   "metadata": {
    "collapsed": false
   },
   "id": "dbe2d603254b9915"
  }
 ],
 "metadata": {
  "kernelspec": {
   "display_name": "Python 3",
   "language": "python",
   "name": "python3"
  },
  "language_info": {
   "codemirror_mode": {
    "name": "ipython",
    "version": 2
   },
   "file_extension": ".py",
   "mimetype": "text/x-python",
   "name": "python",
   "nbconvert_exporter": "python",
   "pygments_lexer": "ipython2",
   "version": "2.7.6"
  }
 },
 "nbformat": 4,
 "nbformat_minor": 5
}
