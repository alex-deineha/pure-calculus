{
 "cells": [
  {
   "cell_type": "code",
   "execution_count": 1,
   "metadata": {
    "collapsed": true
   },
   "outputs": [],
   "source": [
    "import sys\n",
    "import time\n",
    "\n",
    "sys.path.append(\"../\")\n",
    "from calculus.term import *\n",
    "from calculus.strategy import *\n",
    "from calculus.advanced_terms import *"
   ]
  },
  {
   "cell_type": "markdown",
   "source": [
    "# Test SUCC term"
   ],
   "metadata": {
    "collapsed": false
   }
  },
  {
   "cell_type": "code",
   "execution_count": 2,
   "outputs": [
    {
     "name": "stdout",
     "output_type": "stream",
     "text": [
      "(λq.(λw.(q w)))\n"
     ]
    }
   ],
   "source": [
    "term = App(succ_term(), n_term(0))\n",
    "norm_term, steps = term.normalize(LeftmostOutermostStrategy())\n",
    "print(norm_term)"
   ],
   "metadata": {
    "collapsed": false
   }
  },
  {
   "cell_type": "code",
   "execution_count": 3,
   "outputs": [
    {
     "name": "stdout",
     "output_type": "stream",
     "text": [
      "(λq.(λw.(q (q w))))\n"
     ]
    }
   ],
   "source": [
    "term = App(succ_term(), n_term(1))\n",
    "norm_term, steps = term.normalize(LeftmostOutermostStrategy())\n",
    "print(norm_term)"
   ],
   "metadata": {
    "collapsed": false
   }
  },
  {
   "cell_type": "code",
   "execution_count": 4,
   "outputs": [
    {
     "name": "stdout",
     "output_type": "stream",
     "text": [
      "(λw.(λq.(w (w (w (w (w q)))))))\n"
     ]
    }
   ],
   "source": [
    "term = App(succ_term(), n_term(4))\n",
    "norm_term, steps = term.normalize(LeftmostOutermostStrategy())\n",
    "print(norm_term)"
   ],
   "metadata": {
    "collapsed": false
   }
  },
  {
   "cell_type": "code",
   "execution_count": 5,
   "outputs": [
    {
     "name": "stdout",
     "output_type": "stream",
     "text": [
      "(λq.(λw.(q (q (q (q (q (q (q (q (q (q (q w)))))))))))))\n"
     ]
    }
   ],
   "source": [
    "term = App(succ_term(), n_term(10))\n",
    "norm_term, steps = term.normalize(LeftmostOutermostStrategy())\n",
    "print(norm_term)"
   ],
   "metadata": {
    "collapsed": false
   }
  },
  {
   "cell_type": "markdown",
   "source": [
    "# Test ISZERO term"
   ],
   "metadata": {
    "collapsed": false
   }
  },
  {
   "cell_type": "code",
   "execution_count": 6,
   "outputs": [
    {
     "name": "stdout",
     "output_type": "stream",
     "text": [
      "(λq.(λw.q))\n"
     ]
    }
   ],
   "source": [
    "term = App(iszero_term(), n_term(0))\n",
    "norm_term, steps = term.normalize(LeftmostOutermostStrategy())\n",
    "print(norm_term)"
   ],
   "metadata": {
    "collapsed": false
   }
  },
  {
   "cell_type": "code",
   "execution_count": 7,
   "outputs": [
    {
     "name": "stdout",
     "output_type": "stream",
     "text": [
      "(λq.(λw.w))\n"
     ]
    }
   ],
   "source": [
    "term = App(iszero_term(), n_term(1))\n",
    "norm_term, steps = term.normalize(LeftmostOutermostStrategy())\n",
    "print(norm_term)"
   ],
   "metadata": {
    "collapsed": false
   }
  },
  {
   "cell_type": "code",
   "execution_count": 8,
   "outputs": [
    {
     "name": "stdout",
     "output_type": "stream",
     "text": [
      "(λq.(λw.w))\n"
     ]
    }
   ],
   "source": [
    "term = App(iszero_term(), n_term(4))\n",
    "norm_term, steps = term.normalize(LeftmostOutermostStrategy())\n",
    "print(norm_term)"
   ],
   "metadata": {
    "collapsed": false
   }
  },
  {
   "cell_type": "code",
   "execution_count": 9,
   "outputs": [
    {
     "name": "stdout",
     "output_type": "stream",
     "text": [
      "(λq.(λw.w))\n"
     ]
    }
   ],
   "source": [
    "term = App(iszero_term(), n_term(100))\n",
    "norm_term, steps = term.normalize(LeftmostOutermostStrategy())\n",
    "print(norm_term)"
   ],
   "metadata": {
    "collapsed": false
   }
  },
  {
   "cell_type": "markdown",
   "source": [
    "# Test PAIR & FIRST & SECOND terms"
   ],
   "metadata": {
    "collapsed": false
   }
  },
  {
   "cell_type": "code",
   "execution_count": 10,
   "outputs": [
    {
     "name": "stdout",
     "output_type": "stream",
     "text": [
      "(((λq.(λw.(λe.((e q) w)))) (λr.(λt.t))) (λy.(λu.u)))\n",
      "(λq.((q (λw.(λe.e))) (λr.(λt.t)))) \n",
      "\n",
      "((λq.(q (λw.(λe.w)))) (((λr.(λt.(λy.((y r) t)))) (λu.(λi.i))) (λo.(λp.p))))\n",
      "(λq.(λw.w)) \n",
      "\n",
      "((λq.(q (λw.(λe.e)))) (((λr.(λt.(λy.((y r) t)))) (λu.(λi.i))) (λo.(λp.p))))\n",
      "(λq.(λw.w))\n"
     ]
    }
   ],
   "source": [
    "term = multi_app_term(pair_term(), n_term(0), n_term(0))\n",
    "norm_term, steps = term.normalize(LeftmostOutermostStrategy())\n",
    "print(term)\n",
    "print(norm_term, \"\\n\")\n",
    "\n",
    "fip_term = App(first_term(), term)\n",
    "sip_term = App(second_term(), term)\n",
    "print(fip_term)\n",
    "print(fip_term.normalize(LeftmostOutermostStrategy())[0], \"\\n\")\n",
    "print(sip_term)\n",
    "print(sip_term.normalize(LeftmostOutermostStrategy())[0])"
   ],
   "metadata": {
    "collapsed": false
   }
  },
  {
   "cell_type": "code",
   "execution_count": 11,
   "outputs": [
    {
     "name": "stdout",
     "output_type": "stream",
     "text": [
      "(((λq.(λw.(λe.((e q) w)))) (λr.(λt.(r t)))) (λy.(λu.u)))\n",
      "(λq.((q (λw.(λe.(w e)))) (λr.(λt.t)))) \n",
      "\n",
      "((λq.(q (λw.(λe.w)))) (((λr.(λt.(λy.((y r) t)))) (λu.(λi.(u i)))) (λo.(λp.p))))\n",
      "(λw.(λq.(w q))) \n",
      "\n",
      "((λq.(q (λw.(λe.e)))) (((λr.(λt.(λy.((y r) t)))) (λu.(λi.(u i)))) (λo.(λp.p))))\n",
      "(λq.(λw.w))\n"
     ]
    }
   ],
   "source": [
    "term = multi_app_term(pair_term(), n_term(1), n_term(0))\n",
    "norm_term, steps = term.normalize(LeftmostOutermostStrategy())\n",
    "print(term)\n",
    "print(norm_term, \"\\n\")\n",
    "\n",
    "fip_term = App(first_term(), term)\n",
    "sip_term = App(second_term(), term)\n",
    "print(fip_term)\n",
    "print(fip_term.normalize(LeftmostOutermostStrategy())[0], \"\\n\")\n",
    "print(sip_term)\n",
    "print(sip_term.normalize(LeftmostOutermostStrategy())[0])"
   ],
   "metadata": {
    "collapsed": false
   }
  },
  {
   "cell_type": "code",
   "execution_count": 12,
   "outputs": [
    {
     "name": "stdout",
     "output_type": "stream",
     "text": [
      "(((λq.(λw.(λe.((e q) w)))) (λr.(λt.t))) (λy.(λu.(y u))))\n",
      "(λq.((q (λw.(λe.e))) (λr.(λt.(r t))))) \n",
      "\n",
      "((λq.(q (λw.(λe.w)))) (((λr.(λt.(λy.((y r) t)))) (λu.(λi.i))) (λo.(λp.(o p)))))\n",
      "(λq.(λw.w)) \n",
      "\n",
      "((λq.(q (λw.(λe.e)))) (((λr.(λt.(λy.((y r) t)))) (λu.(λi.i))) (λo.(λp.(o p)))))\n",
      "(λw.(λq.(w q)))\n"
     ]
    }
   ],
   "source": [
    "term = multi_app_term(pair_term(), n_term(0), n_term(1))\n",
    "norm_term, steps = term.normalize(LeftmostOutermostStrategy())\n",
    "print(term)\n",
    "print(norm_term, \"\\n\")\n",
    "\n",
    "fip_term = App(first_term(), term)\n",
    "sip_term = App(second_term(), term)\n",
    "print(fip_term)\n",
    "print(fip_term.normalize(LeftmostOutermostStrategy())[0], \"\\n\")\n",
    "print(sip_term)\n",
    "print(sip_term.normalize(LeftmostOutermostStrategy())[0])"
   ],
   "metadata": {
    "collapsed": false
   }
  },
  {
   "cell_type": "code",
   "execution_count": 13,
   "outputs": [
    {
     "name": "stdout",
     "output_type": "stream",
     "text": [
      "(((λq.(λw.(λe.((e q) w)))) (λr.(λt.(r (r (r (r t))))))) (λy.(λu.u)))\n",
      "(λe.((e (λr.(λt.(r (r (r (r t))))))) (λq.(λw.w)))) \n",
      "\n",
      "((λq.(q (λw.(λe.w)))) (((λr.(λt.(λy.((y r) t)))) (λu.(λi.(u (u (u (u i))))))) (λo.(λp.p))))\n",
      "(λq.(λw.(q (q (q (q w)))))) \n",
      "\n",
      "((λq.(q (λw.(λe.e)))) (((λr.(λt.(λy.((y r) t)))) (λu.(λi.(u (u (u (u i))))))) (λo.(λp.p))))\n",
      "(λq.(λw.w))\n"
     ]
    }
   ],
   "source": [
    "term = multi_app_term(pair_term(), n_term(4), n_term(0))\n",
    "norm_term, steps = term.normalize(LeftmostOutermostStrategy())\n",
    "print(term)\n",
    "print(norm_term, \"\\n\")\n",
    "\n",
    "fip_term = App(first_term(), term)\n",
    "sip_term = App(second_term(), term)\n",
    "print(fip_term)\n",
    "print(fip_term.normalize(LeftmostOutermostStrategy())[0], \"\\n\")\n",
    "print(sip_term)\n",
    "print(sip_term.normalize(LeftmostOutermostStrategy())[0])"
   ],
   "metadata": {
    "collapsed": false
   }
  },
  {
   "cell_type": "code",
   "execution_count": 14,
   "outputs": [
    {
     "name": "stdout",
     "output_type": "stream",
     "text": [
      "(((λq.(λw.(λe.((e q) w)))) (λr.(λt.t))) (λy.(λu.(y (y (y (y u)))))))\n",
      "(λq.((q (λw.(λe.e))) (λr.(λt.(r (r (r (r t)))))))) \n",
      "\n",
      "((λi.(i (λo.(λp.o)))) (((λq.(λw.(λe.((e q) w)))) (λr.(λt.t))) (λy.(λu.(y (y (y (y u))))))))\n",
      "(λq.(λw.w)) \n",
      "\n",
      "((λq.(q (λw.(λe.e)))) (((λr.(λt.(λy.((y r) t)))) (λu.(λi.i))) (λo.(λp.(o (o (o (o p))))))))\n",
      "(λq.(λw.(q (q (q (q w))))))\n"
     ]
    }
   ],
   "source": [
    "term = multi_app_term(pair_term(), n_term(0), n_term(4))\n",
    "norm_term, steps = term.normalize(LeftmostOutermostStrategy())\n",
    "print(term)\n",
    "print(norm_term, \"\\n\")\n",
    "\n",
    "fip_term = App(first_term(), term)\n",
    "sip_term = App(second_term(), term)\n",
    "print(fip_term)\n",
    "print(fip_term.normalize(LeftmostOutermostStrategy())[0], \"\\n\")\n",
    "print(sip_term)\n",
    "print(sip_term.normalize(LeftmostOutermostStrategy())[0])"
   ],
   "metadata": {
    "collapsed": false
   }
  },
  {
   "cell_type": "code",
   "execution_count": 15,
   "outputs": [
    {
     "name": "stdout",
     "output_type": "stream",
     "text": [
      "(((λu.(λq.(λw.((w u) q)))) (λe.(λr.(e r)))) (λt.(λy.(t y))))\n",
      "(λq.((q (λw.(λe.(w e)))) (λr.(λt.(r t))))) \n",
      "\n",
      "((λu.(u (λi.(λo.i)))) (((λp.(λq.(λw.((w p) q)))) (λe.(λr.(e r)))) (λt.(λy.(t y)))))\n",
      "(λq.(λw.(q w))) \n",
      "\n",
      "((λu.(u (λi.(λo.o)))) (((λp.(λq.(λw.((w p) q)))) (λe.(λr.(e r)))) (λt.(λy.(t y)))))\n",
      "(λq.(λw.(q w)))\n"
     ]
    }
   ],
   "source": [
    "term = multi_app_term(pair_term(), n_term(1), n_term(1))\n",
    "norm_term, steps = term.normalize(LeftmostOutermostStrategy())\n",
    "print(term)\n",
    "print(norm_term, \"\\n\")\n",
    "\n",
    "fip_term = App(first_term(), term)\n",
    "sip_term = App(second_term(), term)\n",
    "print(fip_term)\n",
    "print(fip_term.normalize(LeftmostOutermostStrategy())[0], \"\\n\")\n",
    "print(sip_term)\n",
    "print(sip_term.normalize(LeftmostOutermostStrategy())[0])"
   ],
   "metadata": {
    "collapsed": false
   }
  },
  {
   "cell_type": "code",
   "execution_count": 16,
   "outputs": [
    {
     "name": "stdout",
     "output_type": "stream",
     "text": [
      "(((λw.(λe.(λr.((r w) e)))) (λt.(λy.(t (t y))))) (λu.(λq.(u (u q)))))\n",
      "(λq.((q (λw.(λe.(w (w e))))) (λr.(λt.(r (r t)))))) \n",
      "\n",
      "((λw.(w (λe.(λr.e)))) (((λt.(λy.(λu.((u t) y)))) (λi.(λo.(i (i o))))) (λp.(λq.(p (p q))))))\n",
      "(λq.(λw.(q (q w)))) \n",
      "\n",
      "((λw.(w (λe.(λr.r)))) (((λt.(λy.(λu.((u t) y)))) (λi.(λo.(i (i o))))) (λp.(λq.(p (p q))))))\n",
      "(λq.(λw.(q (q w))))\n"
     ]
    }
   ],
   "source": [
    "term = multi_app_term(pair_term(), n_term(2), n_term(2))\n",
    "norm_term, steps = term.normalize(LeftmostOutermostStrategy())\n",
    "print(term)\n",
    "print(norm_term, \"\\n\")\n",
    "\n",
    "fip_term = App(first_term(), term)\n",
    "sip_term = App(second_term(), term)\n",
    "print(fip_term)\n",
    "print(fip_term.normalize(LeftmostOutermostStrategy())[0], \"\\n\")\n",
    "print(sip_term)\n",
    "print(sip_term.normalize(LeftmostOutermostStrategy())[0])"
   ],
   "metadata": {
    "collapsed": false
   }
  },
  {
   "cell_type": "code",
   "execution_count": 17,
   "outputs": [
    {
     "name": "stdout",
     "output_type": "stream",
     "text": [
      "(((λq.(λw.(λe.((e q) w)))) (λr.(λt.(r (r (r (r (r t)))))))) (λy.(λu.(y (y (y u))))))\n",
      "(λq.((q (λw.(λe.(w (w (w (w (w e)))))))) (λr.(λt.(r (r (r t))))))) \n",
      "\n",
      "((λq.(q (λw.(λe.w)))) (((λr.(λt.(λy.((y r) t)))) (λu.(λi.(u (u (u (u (u i)))))))) (λo.(λp.(o (o (o p)))))))\n",
      "(λq.(λw.(q (q (q (q (q w))))))) \n",
      "\n",
      "((λq.(q (λw.(λe.e)))) (((λr.(λt.(λy.((y r) t)))) (λu.(λi.(u (u (u (u (u i)))))))) (λo.(λp.(o (o (o p)))))))\n",
      "(λq.(λw.(q (q (q w)))))\n"
     ]
    }
   ],
   "source": [
    "term = multi_app_term(pair_term(), n_term(5), n_term(3))\n",
    "norm_term, steps = term.normalize(LeftmostOutermostStrategy())\n",
    "print(term)\n",
    "print(norm_term, \"\\n\")\n",
    "\n",
    "fip_term = App(first_term(), term)\n",
    "sip_term = App(second_term(), term)\n",
    "print(fip_term)\n",
    "print(fip_term.normalize(LeftmostOutermostStrategy())[0], \"\\n\")\n",
    "print(sip_term)\n",
    "print(sip_term.normalize(LeftmostOutermostStrategy())[0])"
   ],
   "metadata": {
    "collapsed": false
   }
  },
  {
   "cell_type": "markdown",
   "source": [
    "# Testing SINC term"
   ],
   "metadata": {
    "collapsed": false
   }
  },
  {
   "cell_type": "code",
   "execution_count": 18,
   "outputs": [
    {
     "name": "stdout",
     "output_type": "stream",
     "text": [
      "(λq.((q (λw.(λe.e))) (λr.(λt.(r t))))) \n",
      "\n",
      "(λq.(λw.w)) \n",
      "\n",
      "(λw.(λq.(w q)))\n"
     ]
    }
   ],
   "source": [
    "a, b = 0, 0\n",
    "p_term = multi_app_term(pair_term(), n_term(a), n_term(b))\n",
    "term = App(sinc_term(), p_term)\n",
    "# print(term)\n",
    "print(term.normalize(LeftmostOutermostStrategy())[0], \"\\n\")\n",
    "\n",
    "fip_term = App(first_term(), term)\n",
    "sip_term = App(second_term(), term)\n",
    "# print(fip_term)\n",
    "print(fip_term.normalize(LeftmostOutermostStrategy())[0], \"\\n\")\n",
    "# print(sip_term)\n",
    "print(sip_term.normalize(LeftmostOutermostStrategy())[0])"
   ],
   "metadata": {
    "collapsed": false
   }
  },
  {
   "cell_type": "code",
   "execution_count": 19,
   "outputs": [
    {
     "name": "stdout",
     "output_type": "stream",
     "text": [
      "(λq.((q (λw.(λe.e))) (λr.(λt.(r t))))) \n",
      "\n",
      "(λq.(λw.w)) \n",
      "\n",
      "(λq.(λw.(q w)))\n"
     ]
    }
   ],
   "source": [
    "a, b = 1, 0\n",
    "p_term = multi_app_term(pair_term(), n_term(a), n_term(b))\n",
    "term = App(sinc_term(), p_term)\n",
    "# print(term)\n",
    "print(term.normalize(LeftmostOutermostStrategy())[0], \"\\n\")\n",
    "\n",
    "fip_term = App(first_term(), term)\n",
    "sip_term = App(second_term(), term)\n",
    "# print(fip_term)\n",
    "print(fip_term.normalize(LeftmostOutermostStrategy())[0], \"\\n\")\n",
    "# print(sip_term)\n",
    "print(sip_term.normalize(LeftmostOutermostStrategy())[0])"
   ],
   "metadata": {
    "collapsed": false
   }
  },
  {
   "cell_type": "code",
   "execution_count": 20,
   "outputs": [
    {
     "name": "stdout",
     "output_type": "stream",
     "text": [
      "(λq.((q (λw.(λe.(w e)))) (λr.(λt.(r (r t)))))) \n",
      "\n",
      "(λw.(λq.(w q))) \n",
      "\n",
      "(λq.(λw.(q (q w))))\n"
     ]
    }
   ],
   "source": [
    "a, b = 0, 1\n",
    "p_term = multi_app_term(pair_term(), n_term(a), n_term(b))\n",
    "term = App(sinc_term(), p_term)\n",
    "# print(term)\n",
    "print(term.normalize(LeftmostOutermostStrategy())[0], \"\\n\")\n",
    "\n",
    "fip_term = App(first_term(), term)\n",
    "sip_term = App(second_term(), term)\n",
    "# print(fip_term)\n",
    "print(fip_term.normalize(LeftmostOutermostStrategy())[0], \"\\n\")\n",
    "# print(sip_term)\n",
    "print(sip_term.normalize(LeftmostOutermostStrategy())[0])"
   ],
   "metadata": {
    "collapsed": false
   }
  },
  {
   "cell_type": "code",
   "execution_count": 21,
   "outputs": [
    {
     "name": "stdout",
     "output_type": "stream",
     "text": [
      "(λq.((q (λw.(λe.e))) (λr.(λt.(r t))))) \n",
      "\n",
      "(λq.(λw.w)) \n",
      "\n",
      "(λq.(λw.(q w)))\n"
     ]
    }
   ],
   "source": [
    "a, b = 4, 0\n",
    "p_term = multi_app_term(pair_term(), n_term(a), n_term(b))\n",
    "term = App(sinc_term(), p_term)\n",
    "# print(term)\n",
    "print(term.normalize(LeftmostOutermostStrategy())[0], \"\\n\")\n",
    "\n",
    "fip_term = App(first_term(), term)\n",
    "sip_term = App(second_term(), term)\n",
    "# print(fip_term)\n",
    "print(fip_term.normalize(LeftmostOutermostStrategy())[0], \"\\n\")\n",
    "# print(sip_term)\n",
    "print(sip_term.normalize(LeftmostOutermostStrategy())[0])"
   ],
   "metadata": {
    "collapsed": false
   }
  },
  {
   "cell_type": "code",
   "execution_count": 23,
   "outputs": [
    {
     "name": "stdout",
     "output_type": "stream",
     "text": [
      "(λq.((q (λw.(λe.(w (w (w (w e))))))) (λr.(λt.(r (r (r (r (r t))))))))) \n",
      "\n",
      "(λq.(λw.(q (q (q (q w)))))) \n",
      "\n",
      "(λq.(λw.(q (q (q (q (q w)))))))\n"
     ]
    }
   ],
   "source": [
    "a, b = 0, 4\n",
    "p_term = multi_app_term(pair_term(), n_term(a), n_term(b))\n",
    "term = App(sinc_term(), p_term)\n",
    "# print(term)\n",
    "print(term.normalize(LeftmostOutermostStrategy())[0], \"\\n\")\n",
    "\n",
    "fip_term = App(first_term(), term)\n",
    "sip_term = App(second_term(), term)\n",
    "# print(fip_term)\n",
    "print(fip_term.normalize(LeftmostOutermostStrategy())[0], \"\\n\")\n",
    "# print(sip_term)\n",
    "print(sip_term.normalize(LeftmostOutermostStrategy())[0])"
   ],
   "metadata": {
    "collapsed": false
   }
  },
  {
   "cell_type": "code",
   "execution_count": 24,
   "outputs": [
    {
     "name": "stdout",
     "output_type": "stream",
     "text": [
      "(λq.((q (λw.(λe.(w (w (w (w e))))))) (λr.(λt.(r (r (r (r (r t))))))))) \n",
      "\n",
      "(λq.(λw.(q (q (q (q w)))))) \n",
      "\n",
      "(λq.(λw.(q (q (q (q (q w)))))))\n"
     ]
    }
   ],
   "source": [
    "a, b = 4, 4\n",
    "p_term = multi_app_term(pair_term(), n_term(a), n_term(b))\n",
    "term = App(sinc_term(), p_term)\n",
    "# print(term)\n",
    "print(term.normalize(LeftmostOutermostStrategy())[0], \"\\n\")\n",
    "\n",
    "fip_term = App(first_term(), term)\n",
    "sip_term = App(second_term(), term)\n",
    "# print(fip_term)\n",
    "print(fip_term.normalize(LeftmostOutermostStrategy())[0], \"\\n\")\n",
    "# print(sip_term)\n",
    "print(sip_term.normalize(LeftmostOutermostStrategy())[0])"
   ],
   "metadata": {
    "collapsed": false
   }
  },
  {
   "cell_type": "code",
   "execution_count": 25,
   "outputs": [
    {
     "name": "stdout",
     "output_type": "stream",
     "text": [
      "(λt.((t (λq.(λw.(q (q (q (q (q (q (q (q (q (q w))))))))))))) (λe.(λr.(e (e (e (e (e (e (e (e (e (e (e r))))))))))))))) \n",
      "\n",
      "(λq.(λw.(q (q (q (q (q (q (q (q (q (q w)))))))))))) \n",
      "\n",
      "(λq.(λw.(q (q (q (q (q (q (q (q (q (q (q w)))))))))))))\n"
     ]
    }
   ],
   "source": [
    "a, b = 10, 10\n",
    "p_term = multi_app_term(pair_term(), n_term(a), n_term(b))\n",
    "term = App(sinc_term(), p_term)\n",
    "# print(term)\n",
    "print(term.normalize(LeftmostOutermostStrategy())[0], \"\\n\")\n",
    "\n",
    "fip_term = App(first_term(), term)\n",
    "sip_term = App(second_term(), term)\n",
    "# print(fip_term)\n",
    "print(fip_term.normalize(LeftmostOutermostStrategy())[0], \"\\n\")\n",
    "# print(sip_term)\n",
    "print(sip_term.normalize(LeftmostOutermostStrategy())[0])"
   ],
   "metadata": {
    "collapsed": false
   }
  },
  {
   "cell_type": "code",
   "execution_count": 26,
   "outputs": [
    {
     "name": "stdout",
     "output_type": "stream",
     "text": [
      "(λq.((q (λw.(λe.(w (w (w (w (w (w (w (w (w (w e))))))))))))) (λr.(λt.(r (r (r (r (r (r (r (r (r (r (r t))))))))))))))) \n",
      "\n",
      "(λq.(λw.(q (q (q (q (q (q (q (q (q (q w)))))))))))) \n",
      "\n",
      "(λw.(λq.(w (w (w (w (w (w (w (w (w (w (w q)))))))))))))\n"
     ]
    }
   ],
   "source": [
    "a, b = 0, 10\n",
    "p_term = multi_app_term(pair_term(), n_term(a), n_term(b))\n",
    "term = App(sinc_term(), p_term)\n",
    "# print(term)\n",
    "print(term.normalize(LeftmostOutermostStrategy())[0], \"\\n\")\n",
    "\n",
    "fip_term = App(first_term(), term)\n",
    "sip_term = App(second_term(), term)\n",
    "# print(fip_term)\n",
    "print(fip_term.normalize(LeftmostOutermostStrategy())[0], \"\\n\")\n",
    "# print(sip_term)\n",
    "print(sip_term.normalize(LeftmostOutermostStrategy())[0])"
   ],
   "metadata": {
    "collapsed": false
   }
  },
  {
   "cell_type": "code",
   "execution_count": 27,
   "outputs": [
    {
     "name": "stdout",
     "output_type": "stream",
     "text": [
      "(λq.((q (λw.(λe.e))) (λr.(λt.(r t))))) \n",
      "\n",
      "(λq.(λw.w)) \n",
      "\n",
      "(λq.(λw.(q w)))\n"
     ]
    }
   ],
   "source": [
    "a, b = 10, 0\n",
    "p_term = multi_app_term(pair_term(), n_term(a), n_term(b))\n",
    "term = App(sinc_term(), p_term)\n",
    "# print(term)\n",
    "print(term.normalize(LeftmostOutermostStrategy())[0], \"\\n\")\n",
    "\n",
    "fip_term = App(first_term(), term)\n",
    "sip_term = App(second_term(), term)\n",
    "# print(fip_term)\n",
    "print(fip_term.normalize(LeftmostOutermostStrategy())[0], \"\\n\")\n",
    "# print(sip_term)\n",
    "print(sip_term.normalize(LeftmostOutermostStrategy())[0])"
   ],
   "metadata": {
    "collapsed": false
   }
  },
  {
   "cell_type": "markdown",
   "source": [
    "# PRED term test"
   ],
   "metadata": {
    "collapsed": false
   }
  },
  {
   "cell_type": "code",
   "execution_count": 28,
   "outputs": [
    {
     "name": "stdout",
     "output_type": "stream",
     "text": [
      "((λq.((λw.(w (λe.(λr.e)))) ((q (λt.(((λy.(λu.(λi.((i y) u)))) ((λo.(o (λp.(λa.a)))) t)) ((λf.(λs.(λd.(s ((f s) d))))) ((λg.(g (λh.(λj.j)))) t))))) (((λk.(λl.(λz.((z k) l)))) (λx.(λc.c))) (λv.(λb.b)))))) (λn.(λm.m))) \n",
      "\n",
      "9\n",
      "(λq.(λw.w))\n"
     ]
    }
   ],
   "source": [
    "term = App(pred_term(), n_term(0))\n",
    "norm_term, steps = term.normalize(LeftmostOutermostStrategy())\n",
    "print(term, \"\\n\")\n",
    "print(steps)\n",
    "print(norm_term)"
   ],
   "metadata": {
    "collapsed": false
   }
  },
  {
   "cell_type": "code",
   "execution_count": 29,
   "outputs": [
    {
     "name": "stdout",
     "output_type": "stream",
     "text": [
      "((λq.((λw.(w (λe.(λr.e)))) ((q (λt.(((λy.(λu.(λi.((i y) u)))) ((λo.(o (λp.(λa.a)))) t)) ((λf.(λs.(λd.(s ((f s) d))))) ((λg.(g (λh.(λj.j)))) t))))) (((λk.(λl.(λz.((z k) l)))) (λx.(λc.c))) (λv.(λb.b)))))) (λn.(λm.(n m)))) \n",
      "\n",
      "16\n",
      "(λq.(λw.w))\n"
     ]
    }
   ],
   "source": [
    "term = App(pred_term(), n_term(1))\n",
    "norm_term, steps = term.normalize(LeftmostOutermostStrategy())\n",
    "print(term, \"\\n\")\n",
    "print(steps)\n",
    "print(norm_term)"
   ],
   "metadata": {
    "collapsed": false
   }
  },
  {
   "cell_type": "code",
   "execution_count": 30,
   "outputs": [
    {
     "name": "stdout",
     "output_type": "stream",
     "text": [
      "((λq.((λw.(w (λe.(λr.e)))) ((q (λt.(((λy.(λu.(λi.((i y) u)))) ((λo.(o (λp.(λa.a)))) t)) ((λf.(λs.(λd.(s ((f s) d))))) ((λg.(g (λh.(λj.j)))) t))))) (((λk.(λl.(λz.((z k) l)))) (λx.(λc.c))) (λv.(λb.b)))))) (λn.(λm.(n (n m))))) \n",
      "\n",
      "26\n",
      "(λw.(λq.(w q)))\n"
     ]
    }
   ],
   "source": [
    "term = App(pred_term(), n_term(2))\n",
    "norm_term, steps = term.normalize(LeftmostOutermostStrategy())\n",
    "print(term, \"\\n\")\n",
    "print(steps)\n",
    "print(norm_term)"
   ],
   "metadata": {
    "collapsed": false
   }
  },
  {
   "cell_type": "code",
   "execution_count": 31,
   "outputs": [
    {
     "name": "stdout",
     "output_type": "stream",
     "text": [
      "((λq.((λw.(w (λe.(λr.e)))) ((q (λt.(((λy.(λu.(λi.((i y) u)))) ((λo.(o (λp.(λa.a)))) t)) ((λf.(λs.(λd.(s ((f s) d))))) ((λg.(g (λh.(λj.j)))) t))))) (((λk.(λl.(λz.((z k) l)))) (λx.(λc.c))) (λv.(λb.b)))))) (λn.(λm.(n (n m))))) \n",
      "\n",
      "34\n",
      "(λq.(λw.(q w)))\n"
     ]
    }
   ],
   "source": [
    "term = App(pred_term(), n_term(2))\n",
    "norm_term, steps = term.normalize(RightmostInnermostStrategy())\n",
    "print(term, \"\\n\")\n",
    "print(steps)\n",
    "print(norm_term)"
   ],
   "metadata": {
    "collapsed": false
   }
  },
  {
   "cell_type": "code",
   "execution_count": 32,
   "outputs": [
    {
     "name": "stdout",
     "output_type": "stream",
     "text": [
      "((λq.((λw.(w (λe.(λr.e)))) ((q (λt.(((λy.(λu.(λi.((i y) u)))) ((λo.(o (λp.(λa.a)))) t)) ((λf.(λs.(λd.(s ((f s) d))))) ((λg.(g (λh.(λj.j)))) t))))) (((λk.(λl.(λz.((z k) l)))) (λx.(λc.c))) (λv.(λb.b)))))) (λn.(λm.(n (n (n m)))))) \n",
      "\n",
      "36\n",
      "(λq.(λw.(q (q w))))\n"
     ]
    }
   ],
   "source": [
    "term = App(pred_term(), n_term(3))\n",
    "norm_term, steps = term.normalize_no_lim(LeftmostOutermostStrategy())\n",
    "print(term, \"\\n\")\n",
    "print(steps)\n",
    "print(norm_term)"
   ],
   "metadata": {
    "collapsed": false
   }
  },
  {
   "cell_type": "code",
   "execution_count": 33,
   "outputs": [
    {
     "name": "stdout",
     "output_type": "stream",
     "text": [
      "((λq.((λw.(w (λe.(λr.e)))) ((q (λt.(((λy.(λu.(λi.((i y) u)))) ((λo.(o (λp.(λa.a)))) t)) ((λf.(λs.(λd.(s ((f s) d))))) ((λg.(g (λh.(λj.j)))) t))))) (((λk.(λl.(λz.((z k) l)))) (λx.(λc.c))) (λv.(λb.b)))))) (λn.(λm.(n (n (n m)))))) \n",
      "\n",
      "43\n",
      "(λq.(λw.(q (q w))))\n"
     ]
    }
   ],
   "source": [
    "term = App(pred_term(), n_term(3))\n",
    "norm_term, steps = term.normalize(RightmostInnermostStrategy())\n",
    "print(term, \"\\n\")\n",
    "print(steps)\n",
    "print(norm_term)"
   ],
   "metadata": {
    "collapsed": false
   }
  },
  {
   "cell_type": "code",
   "execution_count": 34,
   "outputs": [
    {
     "name": "stdout",
     "output_type": "stream",
     "text": [
      "((λq.((λw.(w (λe.(λr.e)))) ((q (λt.(((λy.(λu.(λi.((i y) u)))) ((λo.(o (λp.(λa.a)))) t)) ((λf.(λs.(λd.(s ((f s) d))))) ((λg.(g (λh.(λj.j)))) t))))) (((λk.(λl.(λz.((z k) l)))) (λx.(λc.c))) (λv.(λb.b)))))) (λn.(λm.(n (n (n m)))))) \n",
      "\n",
      "36\n",
      "(λq.(λw.(q (q w))))\n"
     ]
    }
   ],
   "source": [
    "term = App(pred_term(), n_term(3))\n",
    "norm_term, steps = term.normalize(LeftmostOutermostStrategy())\n",
    "print(term, \"\\n\")\n",
    "print(steps)\n",
    "print(norm_term)"
   ],
   "metadata": {
    "collapsed": false
   }
  },
  {
   "cell_type": "code",
   "execution_count": 35,
   "outputs": [],
   "source": [
    "def pred_simple_term():\n",
    "    n, f, x, g, h, u = Var(), Var(), Var(), Var(), Var(), Var()\n",
    "    n_, f_, x_, g_, h_, u_ = Atom(n), Atom(f), Atom(x), Atom(g), Atom(h), Atom(u)\n",
    "\n",
    "    return Lambda(n, Lambda(f, Lambda(x, multi_app_term(\n",
    "        n_,\n",
    "        Lambda(g, Lambda(h, App(h_, App(g_, f_)))),\n",
    "        Lambda(u, x_),\n",
    "        Lambda(u, u_)\n",
    "    ))))"
   ],
   "metadata": {
    "collapsed": false
   }
  },
  {
   "cell_type": "code",
   "execution_count": 36,
   "outputs": [
    {
     "name": "stdout",
     "output_type": "stream",
     "text": [
      "((λq.(λw.(λe.(((q (λr.(λt.(t (r w))))) (λy.e)) (λy.y))))) (λu.(λi.i))) \n",
      "\n",
      "4\n",
      "(λq.(λw.w))\n"
     ]
    }
   ],
   "source": [
    "term = App(pred_simple_term(), n_term(0))\n",
    "norm_term, steps = term.normalize(LeftmostOutermostStrategy())\n",
    "print(term, \"\\n\")\n",
    "print(steps)\n",
    "print(norm_term)"
   ],
   "metadata": {
    "collapsed": false
   }
  },
  {
   "cell_type": "code",
   "execution_count": 37,
   "outputs": [
    {
     "name": "stdout",
     "output_type": "stream",
     "text": [
      "((λq.(λw.(λe.(((q (λr.(λt.(t (r w))))) (λy.e)) (λy.y))))) (λu.(λi.(u i)))) \n",
      "\n",
      "7\n",
      "(λq.(λw.w))\n"
     ]
    }
   ],
   "source": [
    "term = App(pred_simple_term(), n_term(1))\n",
    "norm_term, steps = term.normalize(LeftmostOutermostStrategy())\n",
    "print(term, \"\\n\")\n",
    "print(steps)\n",
    "print(norm_term)"
   ],
   "metadata": {
    "collapsed": false
   }
  },
  {
   "cell_type": "code",
   "execution_count": 38,
   "outputs": [
    {
     "name": "stdout",
     "output_type": "stream",
     "text": [
      "((λq.(λw.(λe.(((q (λr.(λt.(t (r w))))) (λy.e)) (λy.y))))) (λu.(λi.(u (u i))))) \n",
      "\n",
      "9\n",
      "(λw.(λq.(w q)))\n"
     ]
    }
   ],
   "source": [
    "term = App(pred_simple_term(), n_term(2))\n",
    "norm_term, steps = term.normalize(LeftmostOutermostStrategy())\n",
    "print(term, \"\\n\")\n",
    "print(steps)\n",
    "print(norm_term)"
   ],
   "metadata": {
    "collapsed": false
   }
  },
  {
   "cell_type": "code",
   "execution_count": 39,
   "outputs": [
    {
     "name": "stdout",
     "output_type": "stream",
     "text": [
      "((λq.(λw.(λe.(((q (λr.(λt.(t (r w))))) (λy.e)) (λy.y))))) (λu.(λi.(u (u (u i)))))) \n",
      "\n",
      "11\n",
      "(λq.(λw.(q (q w))))\n"
     ]
    }
   ],
   "source": [
    "term = App(pred_simple_term(), n_term(3))\n",
    "norm_term, steps = term.normalize(LeftmostOutermostStrategy())\n",
    "print(term, \"\\n\")\n",
    "print(steps)\n",
    "print(norm_term)"
   ],
   "metadata": {
    "collapsed": false
   }
  },
  {
   "cell_type": "code",
   "execution_count": 40,
   "outputs": [
    {
     "name": "stdout",
     "output_type": "stream",
     "text": [
      "((λq.(λw.(λe.(((q (λr.(λt.(t (r w))))) (λy.e)) (λy.y))))) (λu.(λi.(u (u (u (u i))))))) \n",
      "\n",
      "13\n",
      "(λq.(λw.(q (q (q w)))))\n"
     ]
    }
   ],
   "source": [
    "term = App(pred_simple_term(), n_term(4))\n",
    "norm_term, steps = term.normalize(LeftmostOutermostStrategy())\n",
    "print(term, \"\\n\")\n",
    "print(steps)\n",
    "print(norm_term)"
   ],
   "metadata": {
    "collapsed": false
   }
  },
  {
   "cell_type": "code",
   "execution_count": 41,
   "outputs": [
    {
     "name": "stdout",
     "output_type": "stream",
     "text": [
      "((λq.(λw.(λe.(((q (λr.(λt.(t (r w))))) (λy.e)) (λy.y))))) (λu.(λi.(u (u (u (u (u i)))))))) \n",
      "\n",
      "15\n",
      "(λq.(λw.(q (q (q (q w))))))\n"
     ]
    }
   ],
   "source": [
    "term = App(pred_simple_term(), n_term(5))\n",
    "norm_term, steps = term.normalize(LeftmostOutermostStrategy())\n",
    "print(term, \"\\n\")\n",
    "print(steps)\n",
    "print(norm_term)"
   ],
   "metadata": {
    "collapsed": false
   }
  },
  {
   "cell_type": "code",
   "execution_count": 42,
   "outputs": [
    {
     "name": "stdout",
     "output_type": "stream",
     "text": [
      "((λq.(λw.(λe.(((q (λr.(λt.(t (r w))))) (λy.e)) (λy.y))))) (λu.(λi.(u (u (u (u (u (u i))))))))) \n",
      "\n",
      "17\n",
      "(λq.(λw.(q (q (q (q (q w)))))))\n"
     ]
    }
   ],
   "source": [
    "term = App(pred_simple_term(), n_term(6))\n",
    "norm_term, steps = term.normalize(RightmostInnermostStrategy())\n",
    "print(term, \"\\n\")\n",
    "print(steps)\n",
    "print(norm_term)"
   ],
   "metadata": {
    "collapsed": false
   }
  },
  {
   "cell_type": "markdown",
   "source": [
    "# Check influence of function _updateBoundVariables()"
   ],
   "metadata": {
    "collapsed": false
   }
  },
  {
   "cell_type": "markdown",
   "source": [
    "## try to normalize without bound updates"
   ],
   "metadata": {
    "collapsed": false
   }
  },
  {
   "cell_type": "code",
   "execution_count": 116,
   "outputs": [
    {
     "name": "stdout",
     "output_type": "stream",
     "text": [
      "λq.λw.w \n",
      "\n",
      "30\n"
     ]
    }
   ],
   "source": [
    "term = App(pred_term(), n_term(3))\n",
    "strategy = LeftmostOutermostStrategy()\n",
    "steps = 0\n",
    "\n",
    "while term.redexes != []:\n",
    "    term = term._betaConversion(strategy)\n",
    "    steps += 1\n",
    "    # if term.verticesNumber > 7000 or steps > 400:\n",
    "    #     steps = float(\"inf\")\n",
    "    #     break\n",
    "\n",
    "print(term, \"\\n\")\n",
    "print(steps)"
   ],
   "metadata": {
    "collapsed": false
   }
  },
  {
   "cell_type": "code",
   "execution_count": 113,
   "outputs": [
    {
     "name": "stdout",
     "output_type": "stream",
     "text": [
      "(λq.(λw.(w λe.λr.e) ((q λt.((λy.λu.λi.((i y) u) (λo.(o λp.λa.a) t)) (λf.λs.λd.(s ((f s) d)) (λg.(g λh.λj.j) t)))) ((λk.λl.λz.((z k) l) λx.λc.c) λv.λb.b))) λn.λm.(n (n (n m)))) \n",
      "\n",
      "(λq.(λw.(w λe.λr.e) ((q λt.((λy.λu.λi.((i y) u) (λo.(o λp.λa.a) t)) (λs.λd.λf.(d ((s d) f)) (λg.(g λh.λj.j) t)))) ((λk.λl.λz.((z k) l) λx.λc.c) λv.λb.b))) λn.λm.(n (n (n m))))\n"
     ]
    }
   ],
   "source": [
    "term = App(pred_term(), n_term(3))\n",
    "term_bound = term._updateBoundVariables()\n",
    "\n",
    "print(term, \"\\n\")\n",
    "print(term_bound)"
   ],
   "metadata": {
    "collapsed": false
   }
  },
  {
   "cell_type": "code",
   "execution_count": 114,
   "outputs": [
    {
     "name": "stdout",
     "output_type": "stream",
     "text": [
      "((fun v[5401] => ((fun v[5402] => (v[5402] (fun v[5403] => (fun v[5404] => v[5403]) ((v[5401] (fun v[5405] => (((fun v[5406] => (fun v[5407] => (fun v[5408] => ((v[5408] v[5406]) v[5407]) ((fun v[5409] => (v[5409] (fun v[5410] => (fun v[5411] => v[5411]) v[5405])) ((fun v[5414] => (fun v[5412] => (fun v[5413] => (v[5412] ((v[5414] v[5412]) v[5413])) ((fun v[5415] => (v[5415] (fun v[5416] => (fun v[5417] => v[5417]) v[5405])))) (((fun v[5418] => (fun v[5419] => (fun v[5420] => ((v[5420] v[5418]) v[5419]) (fun v[5421] => (fun v[5422] => v[5422]) (fun v[5423] => (fun v[5424] => v[5424]))) (fun v[5425] => (fun v[5426] => (v[5425] (v[5425] (v[5425] v[5426])))) \n",
      "\n",
      "((fun v[5427] => ((fun v[5428] => (v[5428] (fun v[5429] => (fun v[5430] => v[5429]) ((v[5427] (fun v[5431] => (((fun v[5432] => (fun v[5433] => (fun v[5434] => ((v[5434] v[5432]) v[5433]) ((fun v[5435] => (v[5435] (fun v[5436] => (fun v[5437] => v[5437]) v[5431])) ((fun v[5438] => (fun v[5439] => (fun v[5440] => (v[5439] ((v[5438] v[5439]) v[5440])) ((fun v[5441] => (v[5441] (fun v[5442] => (fun v[5443] => v[5443]) v[5431])))) (((fun v[5444] => (fun v[5445] => (fun v[5446] => ((v[5446] v[5444]) v[5445]) (fun v[5447] => (fun v[5448] => v[5448]) (fun v[5449] => (fun v[5450] => v[5450]))) (fun v[5451] => (fun v[5452] => (v[5451] (v[5451] (v[5451] v[5452])))) \n",
      "\n"
     ]
    }
   ],
   "source": [
    "print(term.str_debug(), \"\\n\")\n",
    "print(term_bound.str_debug(), \"\\n\")"
   ],
   "metadata": {
    "collapsed": false
   }
  },
  {
   "cell_type": "code",
   "execution_count": 117,
   "outputs": [
    {
     "name": "stdout",
     "output_type": "stream",
     "text": [
      "λq.λw.λe.(((q λr.λt.(t (r w))) λy.e) λy.y)\n"
     ]
    }
   ],
   "source": [
    "term = pred_simple_term()\n",
    "print(term)"
   ],
   "metadata": {
    "collapsed": false
   }
  },
  {
   "cell_type": "code",
   "execution_count": 6,
   "outputs": [
    {
     "name": "stdout",
     "output_type": "stream",
     "text": [
      "0: ((λq.(λw.(λe.(((q (λr.(λt.(t (r w))))) (λy.e)) (λy.y))))) (λu.(λi.(u (u (u i))))))\n",
      "\n",
      "1: (λq.(λw.((((λu.(λi.(u (u (u i))))) (λe.(λr.(r (e q))))) (λt.w)) (λy.y))))\n",
      "\n",
      "2: (λq.(λw.(((λe.((λr.(λt.(t (r q)))) ((λr.(λt.(t (r q)))) ((λr.(λt.(t (r q)))) e)))) (λy.w)) (λu.u))))\n",
      "\n",
      "3: (λq.(λw.(((λe.(λr.(r (e q)))) ((λt.(λy.(y (t q)))) ((λu.(λi.(i (u q)))) (λo.w)))) (λp.p))))\n",
      "\n",
      "4: (λu.(λi.((λo.(o (((λq.(λw.(w (q u)))) ((λe.(λr.(r (e u)))) (λt.i))) u))) (λy.y))))\n",
      "\n",
      "5: (λq.(λw.((λi.i) (((λe.(λr.(r (e q)))) ((λt.(λy.(y (t q)))) (λu.w))) q))))\n",
      "\n",
      "6: (λq.(λw.(((λe.(λr.(r (e q)))) ((λt.(λy.(y (t q)))) (λu.w))) q)))\n",
      "\n",
      "7: (λq.(λw.((λe.(e (((λr.(λt.(t (r q)))) (λy.w)) q))) q)))\n",
      "\n",
      "8: (λr.(λt.(r (((λq.(λw.(w (q r)))) (λe.t)) r))))\n",
      "\n",
      "9: (λw.(λe.(w ((λr.(r ((λq.e) w))) w))))\n",
      "\n",
      "10: (λq.(λw.(q (q ((λe.w) q)))))\n",
      "\n",
      "11: (λq.(λw.(q (q w))))\n",
      "\n"
     ]
    }
   ],
   "source": [
    "term = App(pred_simple_term(), n_term(3))\n",
    "strategy = LeftmostOutermostStrategy()\n",
    "steps = 0\n",
    "\n",
    "print(f\"{0}: {term}\\n\")\n",
    "while term.redexes != []:\n",
    "    term = term._updateBoundVariables()\n",
    "    term = term._betaConversion(strategy)\n",
    "    steps += 1\n",
    "    print(f\"{steps}: {term}\\n\")"
   ],
   "metadata": {
    "collapsed": false
   }
  },
  {
   "cell_type": "code",
   "execution_count": 126,
   "outputs": [
    {
     "name": "stdout",
     "output_type": "stream",
     "text": [
      "0: (λq.λw.λe.(((q λr.λt.(t (r w))) λy.e) λy.y) λu.λi.(u (u (u i))))\n",
      "\n",
      "1: λq.λw.(((λy.λu.(y (y (y u))) λe.λr.(r (e q))) λt.w) λt.t)\n",
      "\n",
      "2: λq.λw.((λy.(λe.λr.(r (e q)) (λe.λr.(r (e q)) (λe.λr.(r (e q)) y))) λt.w) λt.t)\n",
      "\n",
      "3: λq.λw.((λy.(λe.λr.(r (e q)) (λe.λr.(r (e q)) λr.(r (y q)))) λt.w) λt.t)\n",
      "\n",
      "4: λq.λw.((λy.(λe.λr.(r (e q)) λr.(r (λr.(r (y q)) q))) λt.w) λt.t)\n",
      "\n",
      "5: λq.λw.((λy.(λe.λr.(r (e q)) λr.(r (q (y q)))) λt.w) λt.t)\n",
      "\n",
      "6: λq.λw.((λt.λe.(e (λe.(e (q (t q))) q)) λr.w) λr.r)\n",
      "\n",
      "7: λq.λw.((λt.λe.(e (q (q (t q)))) λr.w) λr.r)\n",
      "\n",
      "8: λq.λw.(λe.(e (q (q (λr.w q)))) λr.r)\n",
      "\n",
      "9: λq.λw.(λe.(e (q (q w))) λr.r)\n",
      "\n",
      "10: λq.λw.(λe.e (q (q w)))\n",
      "\n",
      "11: λq.λw.(q (q w))\n",
      "\n"
     ]
    }
   ],
   "source": [
    "term = App(pred_simple_term(), n_term(3))\n",
    "strategy = RightmostInnermostStrategy()\n",
    "steps = 0\n",
    "\n",
    "print(f\"{0}: {term}\\n\")\n",
    "while term.redexes != []:\n",
    "    term = term._betaConversion(strategy)\n",
    "    steps += 1\n",
    "    print(f\"{steps}: {term}\\n\")"
   ],
   "metadata": {
    "collapsed": false
   }
  },
  {
   "cell_type": "markdown",
   "source": [
    "# SUBSTR (SUBSTITUTION, MINUS) term test"
   ],
   "metadata": {
    "collapsed": false
   }
  },
  {
   "cell_type": "code",
   "execution_count": 43,
   "outputs": [
    {
     "name": "stdout",
     "output_type": "stream",
     "text": [
      "(λw.(λq.q))\n"
     ]
    }
   ],
   "source": [
    "# b - a\n",
    "a = 0\n",
    "b = 0\n",
    "strategy = LeftmostOutermostStrategy()\n",
    "term = multi_app_term(substr_term(), n_term(b), n_term(a))\n",
    "\n",
    "norm_term, steps = term.normalize(strategy)\n",
    "print(norm_term)"
   ],
   "metadata": {
    "collapsed": false
   }
  },
  {
   "cell_type": "code",
   "execution_count": 44,
   "outputs": [
    {
     "name": "stdout",
     "output_type": "stream",
     "text": [
      "(λq.(λw.w))\n"
     ]
    }
   ],
   "source": [
    "# b - a\n",
    "a = 1\n",
    "b = 0\n",
    "strategy = LeftmostOutermostStrategy()\n",
    "term = multi_app_term(substr_term(), n_term(b), n_term(a))\n",
    "\n",
    "norm_term, steps = term.normalize(strategy)\n",
    "print(norm_term)"
   ],
   "metadata": {
    "collapsed": false
   }
  },
  {
   "cell_type": "code",
   "execution_count": 45,
   "outputs": [
    {
     "name": "stdout",
     "output_type": "stream",
     "text": [
      "(λq.(λw.(q w)))\n"
     ]
    }
   ],
   "source": [
    "# b - a\n",
    "a = 0\n",
    "b = 1\n",
    "strategy = LeftmostOutermostStrategy()\n",
    "term = multi_app_term(substr_term(), n_term(b), n_term(a))\n",
    "\n",
    "norm_term, steps = term.normalize(strategy)\n",
    "print(norm_term)"
   ],
   "metadata": {
    "collapsed": false
   }
  },
  {
   "cell_type": "code",
   "execution_count": 46,
   "outputs": [
    {
     "name": "stdout",
     "output_type": "stream",
     "text": [
      "(λq.(λw.(q (q (q (q (q w)))))))\n"
     ]
    }
   ],
   "source": [
    "# b - a\n",
    "a = 0\n",
    "b = 5\n",
    "strategy = LeftmostOutermostStrategy()\n",
    "term = multi_app_term(substr_term(), n_term(b), n_term(a))\n",
    "\n",
    "norm_term, steps = term.normalize(strategy)\n",
    "print(norm_term)"
   ],
   "metadata": {
    "collapsed": false
   }
  },
  {
   "cell_type": "code",
   "execution_count": 47,
   "outputs": [
    {
     "name": "stdout",
     "output_type": "stream",
     "text": [
      "(λq.(λw.w))\n"
     ]
    }
   ],
   "source": [
    "# b - a\n",
    "a = 5\n",
    "b = 0\n",
    "strategy = LeftmostOutermostStrategy()\n",
    "term = multi_app_term(substr_term(), n_term(b), n_term(a))\n",
    "\n",
    "norm_term, steps = term.normalize(strategy)\n",
    "print(norm_term)"
   ],
   "metadata": {
    "collapsed": false
   }
  },
  {
   "cell_type": "code",
   "execution_count": 48,
   "outputs": [
    {
     "name": "stdout",
     "output_type": "stream",
     "text": [
      "(λq.(λw.(q (q (q w)))))\n"
     ]
    }
   ],
   "source": [
    "# b - a\n",
    "a = 3\n",
    "b = 6\n",
    "strategy = LeftmostOutermostStrategy()\n",
    "term = multi_app_term(substr_term(), n_term(b), n_term(a))\n",
    "\n",
    "norm_term, steps = term.normalize(strategy)\n",
    "print(norm_term)"
   ],
   "metadata": {
    "collapsed": false
   }
  },
  {
   "cell_type": "code",
   "execution_count": 49,
   "outputs": [
    {
     "name": "stdout",
     "output_type": "stream",
     "text": [
      "(λq.(λw.(q (q (q (q (q (q (q w)))))))))\n"
     ]
    }
   ],
   "source": [
    "# b - a\n",
    "a = 3\n",
    "b = 10\n",
    "strategy = LeftmostOutermostStrategy()\n",
    "term = multi_app_term(substr_term(), n_term(b), n_term(a))\n",
    "\n",
    "norm_term, steps = term.normalize(strategy)\n",
    "print(norm_term)"
   ],
   "metadata": {
    "collapsed": false
   }
  },
  {
   "cell_type": "code",
   "execution_count": 50,
   "outputs": [
    {
     "name": "stdout",
     "output_type": "stream",
     "text": [
      "(λw.(λq.q))\n"
     ]
    }
   ],
   "source": [
    "# b - a\n",
    "a = 0\n",
    "b = 0\n",
    "strategy = RightmostInnermostStrategy()\n",
    "term = multi_app_term(substr_term(), n_term(b), n_term(a))\n",
    "\n",
    "norm_term, steps = term.normalize(strategy)\n",
    "print(norm_term)"
   ],
   "metadata": {
    "collapsed": false
   }
  },
  {
   "cell_type": "code",
   "execution_count": 51,
   "outputs": [
    {
     "name": "stdout",
     "output_type": "stream",
     "text": [
      "(λq.(λw.w))\n"
     ]
    }
   ],
   "source": [
    "# b - a\n",
    "a = 3\n",
    "b = 0\n",
    "strategy = RightmostInnermostStrategy()\n",
    "term = multi_app_term(substr_term(), n_term(b), n_term(a))\n",
    "\n",
    "norm_term, steps = term.normalize(strategy)\n",
    "print(norm_term)"
   ],
   "metadata": {
    "collapsed": false
   }
  },
  {
   "cell_type": "code",
   "execution_count": 52,
   "outputs": [
    {
     "name": "stdout",
     "output_type": "stream",
     "text": [
      "(λq.(λw.(q (q (q (q w))))))\n"
     ]
    }
   ],
   "source": [
    "# b - a\n",
    "a = 0\n",
    "b = 4\n",
    "strategy = RightmostInnermostStrategy()\n",
    "term = multi_app_term(substr_term(), n_term(b), n_term(a))\n",
    "\n",
    "norm_term, steps = term.normalize(strategy)\n",
    "print(norm_term)"
   ],
   "metadata": {
    "collapsed": false
   }
  },
  {
   "cell_type": "code",
   "execution_count": null,
   "outputs": [],
   "source": [
    "# b - a\n",
    "a = 0\n",
    "b = 0\n",
    "strategy = RightmostInnermostStrategy()\n",
    "term = multi_app_term(substr_term(), n_term(b), n_term(a))\n",
    "\n",
    "norm_term, steps = term.normalize(strategy)\n",
    "print(norm_term)"
   ],
   "metadata": {
    "collapsed": false
   }
  },
  {
   "cell_type": "markdown",
   "source": [
    "# LE (LEQ) term test"
   ],
   "metadata": {
    "collapsed": false
   }
  },
  {
   "cell_type": "code",
   "execution_count": 53,
   "outputs": [
    {
     "name": "stdout",
     "output_type": "stream",
     "text": [
      "(λw.(λq.w))\n"
     ]
    }
   ],
   "source": [
    "# b <= a   == TRUE\n",
    "a = 0\n",
    "b = 0\n",
    "strategy = LeftmostOutermostStrategy()\n",
    "term = multi_app_term(le_term(), n_term(b), n_term(a))\n",
    "\n",
    "norm_term, steps = term.normalize(strategy)\n",
    "print(norm_term)"
   ],
   "metadata": {
    "collapsed": false
   }
  },
  {
   "cell_type": "code",
   "execution_count": 54,
   "outputs": [
    {
     "name": "stdout",
     "output_type": "stream",
     "text": [
      "(λq.(λw.q))\n"
     ]
    }
   ],
   "source": [
    "# b <= a  == TRUE\n",
    "a = 1\n",
    "b = 0\n",
    "strategy = LeftmostOutermostStrategy()\n",
    "term = multi_app_term(le_term(), n_term(b), n_term(a))\n",
    "\n",
    "norm_term, steps = term.normalize(strategy)\n",
    "print(norm_term)"
   ],
   "metadata": {
    "collapsed": false
   }
  },
  {
   "cell_type": "code",
   "execution_count": 55,
   "outputs": [
    {
     "name": "stdout",
     "output_type": "stream",
     "text": [
      "(λq.(λw.w))\n"
     ]
    }
   ],
   "source": [
    "# b <= a   == FALSE\n",
    "a = 0\n",
    "b = 1\n",
    "strategy = LeftmostOutermostStrategy()\n",
    "term = multi_app_term(le_term(), n_term(b), n_term(a))\n",
    "\n",
    "norm_term, steps = term.normalize(strategy)\n",
    "print(norm_term)"
   ],
   "metadata": {
    "collapsed": false
   }
  },
  {
   "cell_type": "code",
   "execution_count": 56,
   "outputs": [
    {
     "name": "stdout",
     "output_type": "stream",
     "text": [
      "(λq.(λw.q))\n"
     ]
    }
   ],
   "source": [
    "# b <= a    == TRUE\n",
    "a = 10\n",
    "b = 0\n",
    "strategy = LeftmostOutermostStrategy()\n",
    "term = multi_app_term(le_term(), n_term(b), n_term(a))\n",
    "\n",
    "norm_term, steps = term.normalize(strategy)\n",
    "print(norm_term)"
   ],
   "metadata": {
    "collapsed": false
   }
  },
  {
   "cell_type": "code",
   "execution_count": 58,
   "outputs": [
    {
     "name": "stdout",
     "output_type": "stream",
     "text": [
      "(λq.(λw.w))\n"
     ]
    }
   ],
   "source": [
    "# b <= a    == FALSE\n",
    "a = 0\n",
    "b = 10\n",
    "strategy = LeftmostOutermostStrategy()\n",
    "term = multi_app_term(le_term(), n_term(b), n_term(a))\n",
    "\n",
    "norm_term, steps = term.normalize(strategy)\n",
    "print(norm_term)"
   ],
   "metadata": {
    "collapsed": false
   }
  },
  {
   "cell_type": "code",
   "execution_count": 59,
   "outputs": [
    {
     "name": "stdout",
     "output_type": "stream",
     "text": [
      "(λq.(λw.w))\n"
     ]
    }
   ],
   "source": [
    "# b <= a    == FALSE\n",
    "a = 5\n",
    "b = 10\n",
    "strategy = LeftmostOutermostStrategy()\n",
    "term = multi_app_term(le_term(), n_term(b), n_term(a))\n",
    "\n",
    "norm_term, steps = term.normalize(strategy)\n",
    "print(norm_term)"
   ],
   "metadata": {
    "collapsed": false
   }
  },
  {
   "cell_type": "code",
   "execution_count": 60,
   "outputs": [
    {
     "name": "stdout",
     "output_type": "stream",
     "text": [
      "(λq.(λw.q))\n"
     ]
    }
   ],
   "source": [
    "# b <= a    == TRUE\n",
    "a = 10\n",
    "b = 5\n",
    "strategy = LeftmostOutermostStrategy()\n",
    "term = multi_app_term(le_term(), n_term(b), n_term(a))\n",
    "\n",
    "norm_term, steps = term.normalize(strategy)\n",
    "print(norm_term)"
   ],
   "metadata": {
    "collapsed": false
   }
  },
  {
   "cell_type": "code",
   "execution_count": 61,
   "outputs": [
    {
     "name": "stdout",
     "output_type": "stream",
     "text": [
      "(λw.(λq.w))\n"
     ]
    }
   ],
   "source": [
    "# b <= a     == TRUE\n",
    "a = 5\n",
    "b = 5\n",
    "strategy = LeftmostOutermostStrategy()\n",
    "term = multi_app_term(le_term(), n_term(b), n_term(a))\n",
    "\n",
    "norm_term, steps = term.normalize(strategy)\n",
    "print(norm_term)"
   ],
   "metadata": {
    "collapsed": false
   }
  },
  {
   "cell_type": "markdown",
   "source": [
    "# EQ term test"
   ],
   "metadata": {
    "collapsed": false
   }
  },
  {
   "cell_type": "code",
   "execution_count": 62,
   "outputs": [
    {
     "name": "stdout",
     "output_type": "stream",
     "text": [
      "(λw.(λq.w))\n"
     ]
    }
   ],
   "source": [
    "# b == a\n",
    "a = 0\n",
    "b = 0\n",
    "strategy = LeftmostOutermostStrategy()\n",
    "term = multi_app_term(eq_term(), n_term(b), n_term(a))\n",
    "\n",
    "norm_term, steps = term.normalize(strategy)\n",
    "print(norm_term)"
   ],
   "metadata": {
    "collapsed": false
   }
  },
  {
   "cell_type": "code",
   "execution_count": 68,
   "outputs": [
    {
     "name": "stdout",
     "output_type": "stream",
     "text": [
      "(λq.(λw.q))\n"
     ]
    }
   ],
   "source": [
    "# b == a\n",
    "a = 2\n",
    "b = 2\n",
    "strategy = LeftmostOutermostStrategy()\n",
    "term = multi_app_term(eq_term(), n_term(b), n_term(a))\n",
    "\n",
    "norm_term, steps = term.normalize(strategy)\n",
    "print(norm_term)"
   ],
   "metadata": {
    "collapsed": false
   }
  },
  {
   "cell_type": "code",
   "execution_count": 69,
   "outputs": [
    {
     "name": "stdout",
     "output_type": "stream",
     "text": [
      "1247\n",
      "(λw.(λq.w))\n"
     ]
    }
   ],
   "source": [
    "# b == a\n",
    "a = 10\n",
    "b = 10\n",
    "strategy = LeftmostOutermostStrategy()\n",
    "term = multi_app_term(eq_term(), n_term(b), n_term(a))\n",
    "\n",
    "norm_term, steps = term.normalize_no_lim(strategy)\n",
    "print(steps)\n",
    "print(norm_term)"
   ],
   "metadata": {
    "collapsed": false
   }
  },
  {
   "cell_type": "code",
   "execution_count": 67,
   "outputs": [
    {
     "name": "stdout",
     "output_type": "stream",
     "text": [
      "590\n",
      "(λq.(λw.q))\n"
     ]
    }
   ],
   "source": [
    "# b == a\n",
    "a = 10\n",
    "b = 10\n",
    "strategy = RightmostInnermostStrategy()\n",
    "term = multi_app_term(eq_term(), n_term(b), n_term(a))\n",
    "\n",
    "norm_term, steps = term.normalize_no_lim(strategy)\n",
    "print(steps)\n",
    "print(norm_term)"
   ],
   "metadata": {
    "collapsed": false
   }
  },
  {
   "cell_type": "markdown",
   "source": [
    "# ITE term test"
   ],
   "metadata": {
    "collapsed": false
   }
  },
  {
   "cell_type": "code",
   "execution_count": 70,
   "outputs": [
    {
     "name": "stdout",
     "output_type": "stream",
     "text": [
      "5\n",
      "(λq.(λw.w))\n"
     ]
    }
   ],
   "source": [
    "term = multi_app_term(ite_term(), true_term(), n_term(0), n_term(1))\n",
    "\n",
    "norm_term, steps = term.normalize(LeftmostOutermostStrategy())\n",
    "print(steps)\n",
    "print(norm_term)"
   ],
   "metadata": {
    "collapsed": false
   }
  },
  {
   "cell_type": "code",
   "execution_count": 71,
   "outputs": [
    {
     "name": "stdout",
     "output_type": "stream",
     "text": [
      "5\n",
      "(λq.(λw.(q w)))\n"
     ]
    }
   ],
   "source": [
    "term = multi_app_term(ite_term(), false_term(), n_term(0), n_term(1))\n",
    "\n",
    "norm_term, steps = term.normalize(LeftmostOutermostStrategy())\n",
    "print(steps)\n",
    "print(norm_term)"
   ],
   "metadata": {
    "collapsed": false
   }
  },
  {
   "cell_type": "code",
   "execution_count": 72,
   "outputs": [
    {
     "name": "stdout",
     "output_type": "stream",
     "text": [
      "5\n",
      "(λw.(λq.(w (w (w (w (w q)))))))\n"
     ]
    }
   ],
   "source": [
    "term = multi_app_term(ite_term(), true_term(), n_term(5), n_term(1))\n",
    "\n",
    "norm_term, steps = term.normalize(LeftmostOutermostStrategy())\n",
    "print(steps)\n",
    "print(norm_term)"
   ],
   "metadata": {
    "collapsed": false
   }
  },
  {
   "cell_type": "code",
   "execution_count": 73,
   "outputs": [
    {
     "name": "stdout",
     "output_type": "stream",
     "text": [
      "5\n",
      "(λq.(λw.(q w)))\n"
     ]
    }
   ],
   "source": [
    "term = multi_app_term(ite_term(), false_term(), n_term(5), n_term(1))\n",
    "\n",
    "norm_term, steps = term.normalize(LeftmostOutermostStrategy())\n",
    "print(steps)\n",
    "print(norm_term)"
   ],
   "metadata": {
    "collapsed": false
   }
  },
  {
   "cell_type": "code",
   "execution_count": 74,
   "outputs": [
    {
     "name": "stdout",
     "output_type": "stream",
     "text": [
      "5\n",
      "(λq.(λw.w))\n"
     ]
    }
   ],
   "source": [
    "term = multi_app_term(ite_term(), true_term(), n_term(0), n_term(0))\n",
    "\n",
    "norm_term, steps = term.normalize(LeftmostOutermostStrategy())\n",
    "print(steps)\n",
    "print(norm_term)"
   ],
   "metadata": {
    "collapsed": false
   }
  },
  {
   "cell_type": "code",
   "execution_count": 75,
   "outputs": [
    {
     "name": "stdout",
     "output_type": "stream",
     "text": [
      "5\n",
      "(λq.(λw.w))\n"
     ]
    }
   ],
   "source": [
    "term = multi_app_term(ite_term(), false_term(), n_term(0), n_term(0))\n",
    "\n",
    "norm_term, steps = term.normalize(LeftmostOutermostStrategy())\n",
    "print(steps)\n",
    "print(norm_term)"
   ],
   "metadata": {
    "collapsed": false
   }
  },
  {
   "cell_type": "code",
   "execution_count": 76,
   "outputs": [
    {
     "name": "stdout",
     "output_type": "stream",
     "text": [
      "5\n",
      "(λq.(λw.(q (q (q (q (q (q w))))))))\n"
     ]
    }
   ],
   "source": [
    "term = multi_app_term(ite_term(), true_term(), n_term(6), n_term(2))\n",
    "\n",
    "norm_term, steps = term.normalize(LeftmostOutermostStrategy())\n",
    "print(steps)\n",
    "print(norm_term)"
   ],
   "metadata": {
    "collapsed": false
   }
  },
  {
   "cell_type": "code",
   "execution_count": 78,
   "outputs": [
    {
     "name": "stdout",
     "output_type": "stream",
     "text": [
      "5\n",
      "(λq.(λw.(q (q (q w)))))\n"
     ]
    }
   ],
   "source": [
    "term = multi_app_term(ite_term(), false_term(), n_term(6), n_term(3))\n",
    "\n",
    "norm_term, steps = term.normalize(LeftmostOutermostStrategy())\n",
    "print(steps)\n",
    "print(norm_term)"
   ],
   "metadata": {
    "collapsed": false
   }
  },
  {
   "cell_type": "markdown",
   "source": [
    "# TEST term combinations"
   ],
   "metadata": {
    "collapsed": false
   }
  },
  {
   "cell_type": "markdown",
   "source": [
    "term = λa.λb. (ITE (EQ a b) a TRUE))"
   ],
   "metadata": {
    "collapsed": false
   }
  },
  {
   "cell_type": "code",
   "execution_count": 80,
   "outputs": [],
   "source": [
    "def ite_equal_ab_term():\n",
    "    a, b = Var(), Var()\n",
    "    a_, b_ = Atom(a), Atom(b)\n",
    "    equal_ab = multi_app_term(eq_term(), a_, b_)\n",
    "    ite_main_term = multi_app_term(ite_term(), equal_ab, a_, true_term())\n",
    "    return Lambda(a, Lambda(b, ite_main_term))"
   ],
   "metadata": {
    "collapsed": false
   }
  },
  {
   "cell_type": "code",
   "execution_count": 82,
   "outputs": [
    {
     "name": "stdout",
     "output_type": "stream",
     "text": [
      "(λw.(λq.q))\n"
     ]
    }
   ],
   "source": [
    "a, b = 0, 0\n",
    "strategy = LeftmostOutermostStrategy()\n",
    "term = multi_app_term(ite_equal_ab_term(), n_term(a), n_term(b))\n",
    "\n",
    "norm_term, steps = term.normalize(strategy)\n",
    "print(norm_term)"
   ],
   "metadata": {
    "collapsed": false
   }
  },
  {
   "cell_type": "code",
   "execution_count": 83,
   "outputs": [
    {
     "name": "stdout",
     "output_type": "stream",
     "text": [
      "(λq.(λw.q))\n"
     ]
    }
   ],
   "source": [
    "a, b = 1, 0\n",
    "strategy = LeftmostOutermostStrategy()\n",
    "term = multi_app_term(ite_equal_ab_term(), n_term(a), n_term(b))\n",
    "\n",
    "norm_term, steps = term.normalize(strategy)\n",
    "print(norm_term)"
   ],
   "metadata": {
    "collapsed": false
   }
  },
  {
   "cell_type": "code",
   "execution_count": 84,
   "outputs": [
    {
     "name": "stdout",
     "output_type": "stream",
     "text": [
      "(λq.(λw.q))\n"
     ]
    }
   ],
   "source": [
    "a, b = 0, 1\n",
    "strategy = LeftmostOutermostStrategy()\n",
    "term = multi_app_term(ite_equal_ab_term(), n_term(a), n_term(b))\n",
    "\n",
    "norm_term, steps = term.normalize(strategy)\n",
    "print(norm_term)"
   ],
   "metadata": {
    "collapsed": false
   }
  },
  {
   "cell_type": "code",
   "execution_count": 85,
   "outputs": [
    {
     "name": "stdout",
     "output_type": "stream",
     "text": [
      "(λq.(λw.(q (q (q (q (q w)))))))\n"
     ]
    }
   ],
   "source": [
    "a, b = 5, 5\n",
    "strategy = LeftmostOutermostStrategy()\n",
    "term = multi_app_term(ite_equal_ab_term(), n_term(a), n_term(b))\n",
    "\n",
    "norm_term, steps = term.normalize(strategy)\n",
    "print(norm_term)"
   ],
   "metadata": {
    "collapsed": false
   }
  },
  {
   "cell_type": "code",
   "execution_count": 86,
   "outputs": [
    {
     "name": "stdout",
     "output_type": "stream",
     "text": [
      "(λw.(λq.w))\n"
     ]
    }
   ],
   "source": [
    "a, b = 0, 5\n",
    "strategy = LeftmostOutermostStrategy()\n",
    "term = multi_app_term(ite_equal_ab_term(), n_term(a), n_term(b))\n",
    "\n",
    "norm_term, steps = term.normalize(strategy)\n",
    "print(norm_term)"
   ],
   "metadata": {
    "collapsed": false
   }
  },
  {
   "cell_type": "code",
   "execution_count": 87,
   "outputs": [
    {
     "name": "stdout",
     "output_type": "stream",
     "text": [
      "(λq.(λw.q))\n"
     ]
    }
   ],
   "source": [
    "a, b = 5, 0\n",
    "strategy = LeftmostOutermostStrategy()\n",
    "term = multi_app_term(ite_equal_ab_term(), n_term(a), n_term(b))\n",
    "\n",
    "norm_term, steps = term.normalize(strategy)\n",
    "print(norm_term)"
   ],
   "metadata": {
    "collapsed": false
   }
  },
  {
   "cell_type": "code",
   "execution_count": 89,
   "outputs": [
    {
     "name": "stdout",
     "output_type": "stream",
     "text": [
      "416\n",
      "(λq.(λw.q))\n"
     ]
    }
   ],
   "source": [
    "a, b = 10, 5\n",
    "strategy = LeftmostOutermostStrategy()\n",
    "term = multi_app_term(ite_equal_ab_term(), n_term(a), n_term(b))\n",
    "\n",
    "norm_term, steps = term.normalize_no_lim(strategy)\n",
    "print(steps)\n",
    "print(norm_term)"
   ],
   "metadata": {
    "collapsed": false
   }
  },
  {
   "cell_type": "code",
   "execution_count": 91,
   "outputs": [
    {
     "name": "stdout",
     "output_type": "stream",
     "text": [
      "(λq.(λw.q))\n"
     ]
    }
   ],
   "source": [
    "a, b = 5, 10\n",
    "strategy = LeftmostOutermostStrategy()\n",
    "term = multi_app_term(ite_equal_ab_term(), n_term(a), n_term(b))\n",
    "\n",
    "norm_term, steps = term.normalize_no_lim(strategy)\n",
    "print(norm_term)"
   ],
   "metadata": {
    "collapsed": false
   }
  },
  {
   "cell_type": "code",
   "execution_count": 92,
   "outputs": [
    {
     "name": "stdout",
     "output_type": "stream",
     "text": [
      "1067\n",
      "(λq.(λw.q))\n"
     ]
    }
   ],
   "source": [
    "a, b = 10, 5\n",
    "strategy = RightmostInnermostStrategy()\n",
    "term = multi_app_term(ite_equal_ab_term(), n_term(a), n_term(b))\n",
    "\n",
    "norm_term, steps = term.normalize_no_lim(strategy)\n",
    "print(steps)\n",
    "print(norm_term)"
   ],
   "metadata": {
    "collapsed": false
   }
  },
  {
   "cell_type": "code",
   "execution_count": 93,
   "outputs": [
    {
     "name": "stdout",
     "output_type": "stream",
     "text": [
      "450\n",
      "(λw.(λq.w))\n"
     ]
    }
   ],
   "source": [
    "a, b = 5, 10\n",
    "strategy = LeftmostOutermostStrategy()\n",
    "term = multi_app_term(ite_equal_ab_term(), n_term(a), n_term(b))\n",
    "\n",
    "norm_term, steps = term.normalize_no_lim(strategy)\n",
    "print(steps)\n",
    "print(norm_term)"
   ],
   "metadata": {
    "collapsed": false
   }
  },
  {
   "cell_type": "markdown",
   "source": [
    "# TEST term combinations"
   ],
   "metadata": {
    "collapsed": false
   }
  },
  {
   "cell_type": "markdown",
   "source": [
    "inner_term = ITE (LE a b) (SUBSTR b a) (SUBSTR b a)\n",
    "term = λa.λb. (ITE (EQ a b) a TRUE))"
   ],
   "metadata": {
    "collapsed": false
   }
  },
  {
   "cell_type": "code",
   "execution_count": 2,
   "outputs": [],
   "source": [
    "def ite_equal_ab_ite_le_ab_term():\n",
    "    a, b = Var(), Var()\n",
    "    a_, b_ = Atom(a), Atom(b)\n",
    "    equal_ab = multi_app_term(eq_term(), a_, b_)\n",
    "    inner_term = multi_app_term(ite_term(), multi_app_term(le_term(), a_, b_),\n",
    "                                multi_app_term(substr_term(), b_, a_), multi_app_term(substr_term(), a_, b_))\n",
    "    ite_main_term = multi_app_term(ite_term(), equal_ab, a_, inner_term)\n",
    "    return Lambda(a, Lambda(b, ite_main_term))"
   ],
   "metadata": {
    "collapsed": false
   }
  },
  {
   "cell_type": "code",
   "execution_count": 3,
   "outputs": [
    {
     "name": "stdout",
     "output_type": "stream",
     "text": [
      "34\n",
      "(λq.(λw.w))\n"
     ]
    }
   ],
   "source": [
    "a, b = 0, 0\n",
    "strategy = LeftmostOutermostStrategy()\n",
    "term = multi_app_term(ite_equal_ab_ite_le_ab_term(), n_term(a), n_term(b))\n",
    "\n",
    "norm_term, steps = term.normalize(strategy)\n",
    "print(steps)\n",
    "print(norm_term)"
   ],
   "metadata": {
    "collapsed": false
   }
  },
  {
   "cell_type": "code",
   "execution_count": 4,
   "outputs": [
    {
     "name": "stdout",
     "output_type": "stream",
     "text": [
      "55\n",
      "(λq.(λw.(q w)))\n"
     ]
    }
   ],
   "source": [
    "a, b = 1, 0\n",
    "strategy = LeftmostOutermostStrategy()\n",
    "term = multi_app_term(ite_equal_ab_ite_le_ab_term(), n_term(a), n_term(b))\n",
    "\n",
    "norm_term, steps = term.normalize(strategy)\n",
    "print(steps)\n",
    "print(norm_term)"
   ],
   "metadata": {
    "collapsed": false
   }
  },
  {
   "cell_type": "code",
   "execution_count": 5,
   "outputs": [
    {
     "name": "stdout",
     "output_type": "stream",
     "text": [
      "71\n",
      "(λq.(λw.(q w)))\n"
     ]
    }
   ],
   "source": [
    "a, b = 0, 1\n",
    "strategy = LeftmostOutermostStrategy()\n",
    "term = multi_app_term(ite_equal_ab_ite_le_ab_term(), n_term(a), n_term(b))\n",
    "\n",
    "norm_term, steps = term.normalize(strategy)\n",
    "print(steps)\n",
    "print(norm_term)"
   ],
   "metadata": {
    "collapsed": false
   }
  },
  {
   "cell_type": "code",
   "execution_count": 6,
   "outputs": [
    {
     "name": "stdout",
     "output_type": "stream",
     "text": [
      "66\n",
      "(λq.(λw.(q w)))\n"
     ]
    }
   ],
   "source": [
    "a, b = 1, 1\n",
    "strategy = LeftmostOutermostStrategy()\n",
    "term = multi_app_term(ite_equal_ab_ite_le_ab_term(), n_term(a), n_term(b))\n",
    "\n",
    "norm_term, steps = term.normalize(strategy)\n",
    "print(steps)\n",
    "print(norm_term)"
   ],
   "metadata": {
    "collapsed": false
   }
  },
  {
   "cell_type": "code",
   "execution_count": 7,
   "outputs": [
    {
     "name": "stdout",
     "output_type": "stream",
     "text": [
      "135\n",
      "(λw.(λq.(w q)))\n"
     ]
    }
   ],
   "source": [
    "a, b = 2, 1\n",
    "strategy = LeftmostOutermostStrategy()\n",
    "term = multi_app_term(ite_equal_ab_ite_le_ab_term(), n_term(a), n_term(b))\n",
    "\n",
    "norm_term, steps = term.normalize(strategy)\n",
    "print(steps)\n",
    "print(norm_term)"
   ],
   "metadata": {
    "collapsed": false
   }
  },
  {
   "cell_type": "code",
   "execution_count": 8,
   "outputs": [
    {
     "name": "stdout",
     "output_type": "stream",
     "text": [
      "147\n",
      "(λq.(λw.(q w)))\n"
     ]
    }
   ],
   "source": [
    "a, b = 1, 2\n",
    "strategy = LeftmostOutermostStrategy()\n",
    "term = multi_app_term(ite_equal_ab_ite_le_ab_term(), n_term(a), n_term(b))\n",
    "\n",
    "norm_term, steps = term.normalize(strategy)\n",
    "print(steps)\n",
    "print(norm_term)"
   ],
   "metadata": {
    "collapsed": false
   }
  },
  {
   "cell_type": "code",
   "execution_count": 9,
   "outputs": [
    {
     "name": "stdout",
     "output_type": "stream",
     "text": [
      "107\n",
      "(λq.(λw.(q (q (q w)))))\n"
     ]
    }
   ],
   "source": [
    "a, b = 0, 3\n",
    "strategy = LeftmostOutermostStrategy()\n",
    "term = multi_app_term(ite_equal_ab_ite_le_ab_term(), n_term(a), n_term(b))\n",
    "\n",
    "norm_term, steps = term.normalize(strategy)\n",
    "print(steps)\n",
    "print(norm_term)"
   ],
   "metadata": {
    "collapsed": false
   }
  },
  {
   "cell_type": "code",
   "execution_count": 10,
   "outputs": [
    {
     "name": "stdout",
     "output_type": "stream",
     "text": [
      "55\n",
      "(λq.(λw.(q (q (q w)))))\n"
     ]
    }
   ],
   "source": [
    "a, b = 3, 0\n",
    "strategy = LeftmostOutermostStrategy()\n",
    "term = multi_app_term(ite_equal_ab_ite_le_ab_term(), n_term(a), n_term(b))\n",
    "\n",
    "norm_term, steps = term.normalize(strategy)\n",
    "print(steps)\n",
    "print(norm_term)"
   ],
   "metadata": {
    "collapsed": false
   }
  },
  {
   "cell_type": "code",
   "execution_count": 12,
   "outputs": [
    {
     "name": "stdout",
     "output_type": "stream",
     "text": [
      "475\n",
      "(λq.(λw.(q (q (q w)))))\n"
     ]
    }
   ],
   "source": [
    "a, b = 6, 3\n",
    "strategy = LeftmostOutermostStrategy()\n",
    "term = multi_app_term(ite_equal_ab_ite_le_ab_term(), n_term(a), n_term(b))\n",
    "\n",
    "norm_term, steps = term.normalize_no_lim(strategy)\n",
    "print(steps)\n",
    "print(norm_term)"
   ],
   "metadata": {
    "collapsed": false
   }
  },
  {
   "cell_type": "code",
   "execution_count": 14,
   "outputs": [
    {
     "name": "stdout",
     "output_type": "stream",
     "text": [
      "515\n",
      "(λq.(λw.(q (q (q w)))))\n"
     ]
    }
   ],
   "source": [
    "a, b = 3, 6\n",
    "strategy = LeftmostOutermostStrategy()\n",
    "term = multi_app_term(ite_equal_ab_ite_le_ab_term(), n_term(a), n_term(b))\n",
    "\n",
    "norm_term, steps = term.normalize_no_lim(strategy)\n",
    "print(steps)\n",
    "print(norm_term)"
   ],
   "metadata": {
    "collapsed": false
   }
  },
  {
   "cell_type": "code",
   "execution_count": 15,
   "outputs": [
    {
     "name": "stdout",
     "output_type": "stream",
     "text": [
      "100\n",
      "(λq.(λw.w))\n"
     ]
    }
   ],
   "source": [
    "a, b = 0, 0\n",
    "strategy = RightmostInnermostStrategy()\n",
    "term = multi_app_term(ite_equal_ab_ite_le_ab_term(), n_term(a), n_term(b))\n",
    "\n",
    "norm_term, steps = term.normalize(strategy)\n",
    "print(steps)\n",
    "print(norm_term)"
   ],
   "metadata": {
    "collapsed": false
   }
  },
  {
   "cell_type": "code",
   "execution_count": 16,
   "outputs": [
    {
     "name": "stdout",
     "output_type": "stream",
     "text": [
      "346\n",
      "(λq.(λw.(q (q w))))\n"
     ]
    }
   ],
   "source": [
    "a, b = 2, 2\n",
    "strategy = RightmostInnermostStrategy()\n",
    "term = multi_app_term(ite_equal_ab_ite_le_ab_term(), n_term(a), n_term(b))\n",
    "\n",
    "norm_term, steps = term.normalize(strategy)\n",
    "print(steps)\n",
    "print(norm_term)"
   ],
   "metadata": {
    "collapsed": false
   }
  },
  {
   "cell_type": "code",
   "execution_count": 18,
   "outputs": [
    {
     "name": "stdout",
     "output_type": "stream",
     "text": [
      "528\n",
      "(λq.(λw.(q (q w))))\n"
     ]
    }
   ],
   "source": [
    "a, b = 4, 2\n",
    "strategy = RightmostInnermostStrategy()\n",
    "term = multi_app_term(ite_equal_ab_ite_le_ab_term(), n_term(a), n_term(b))\n",
    "\n",
    "norm_term, steps = term.normalize_no_lim(strategy)\n",
    "print(steps)\n",
    "print(norm_term)"
   ],
   "metadata": {
    "collapsed": false
   }
  },
  {
   "cell_type": "code",
   "execution_count": 19,
   "outputs": [
    {
     "name": "stdout",
     "output_type": "stream",
     "text": [
      "797\n",
      "(λq.(λw.(q (q (q w)))))\n"
     ]
    }
   ],
   "source": [
    "a, b = 3, 6\n",
    "strategy = RightmostInnermostStrategy()\n",
    "term = multi_app_term(ite_equal_ab_ite_le_ab_term(), n_term(a), n_term(b))\n",
    "\n",
    "norm_term, steps = term.normalize_no_lim(strategy)\n",
    "print(steps)\n",
    "print(norm_term)"
   ],
   "metadata": {
    "collapsed": false
   }
  },
  {
   "cell_type": "code",
   "execution_count": null,
   "outputs": [],
   "source": [],
   "metadata": {
    "collapsed": false
   }
  }
 ],
 "metadata": {
  "kernelspec": {
   "display_name": "Python 3",
   "language": "python",
   "name": "python3"
  },
  "language_info": {
   "codemirror_mode": {
    "name": "ipython",
    "version": 2
   },
   "file_extension": ".py",
   "mimetype": "text/x-python",
   "name": "python",
   "nbconvert_exporter": "python",
   "pygments_lexer": "ipython2",
   "version": "2.7.6"
  }
 },
 "nbformat": 4,
 "nbformat_minor": 0
}
