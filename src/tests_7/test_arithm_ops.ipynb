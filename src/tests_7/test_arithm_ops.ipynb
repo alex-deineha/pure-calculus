{
 "cells": [
  {
   "cell_type": "code",
   "execution_count": 1,
   "metadata": {
    "collapsed": true
   },
   "outputs": [],
   "source": [
    "import sys\n",
    "import time\n",
    "\n",
    "sys.path.append(\"../\")\n",
    "from calculus.pseudonym import *\n",
    "from calculus.strategy import *\n",
    "from calculus import arithm_ops, nat_numbers, num_comparison, pairs, arithm_ops, combinators"
   ]
  },
  {
   "cell_type": "markdown",
   "source": [
    "# DIV term tests"
   ],
   "metadata": {
    "collapsed": false
   }
  },
  {
   "cell_type": "code",
   "execution_count": 15,
   "outputs": [],
   "source": [
    "def div_term_():\n",
    "    \"\"\"Division — DIV a b evaluates to a pair of two numbers, a idiv b and a mod b\n",
    "    :return: DIV := Y (λgqab. LT a b (PAIR q a)\n",
    "                        (g (SUCC q) (SUB a b) b) ) 0\"\"\"\n",
    "\n",
    "    g, q, a, b = Var(), Var(), Var(), Var()\n",
    "    g_, q_, a_, b_ = Atom(g), Atom(q), Atom(a), Atom(b)\n",
    "\n",
    "    body_term = multi_app_term(num_comparison.lt_term(), a_, b_,\n",
    "                               multi_app_term(pairs.pair_term(), q_, a_),\n",
    "                               multi_app_term(g_, App(arithm_ops.succ_term(), q_), multi_app_term(arithm_ops.subtract_term(), a_, b_), b_))\n",
    "    inner_lambda_term = Lambda(g, Lambda(q, Lambda(a, Lambda(b, body_term))))\n",
    "\n",
    "    return multi_app_term(combinators.y_term(), inner_lambda_term, nat_numbers.num_term(0))"
   ],
   "metadata": {
    "collapsed": false
   }
  },
  {
   "cell_type": "code",
   "execution_count": 20,
   "outputs": [],
   "source": [
    "def div_term_2():\n",
    "    g, q, a, b = Var(), Var(), Var(), Var()\n",
    "    g_, q_, a_, b_ = Atom(g), Atom(q), Atom(a), Atom(b)\n",
    "\n",
    "    inner_right_term = multi_app_term(g_, App(arithm_ops.succ_term(), q_), multi_app_term(arithm_ops.subtract_term(), a_, b_), b_)\n",
    "    inner_lambda_term = Lambda(g, Lambda(q, Lambda(a, Lambda(b, multi_app_term(num_comparison.lt_term(), a_, b_, multi_app_term(pairs.pair_term(), q_, a_))))))\n",
    "\n",
    "    return multi_app_term(combinators.y_term(), inner_lambda_term, inner_right_term, nat_numbers.num_term(0))"
   ],
   "metadata": {
    "collapsed": false
   }
  },
  {
   "cell_type": "code",
   "execution_count": 31,
   "outputs": [
    {
     "ename": "KeyboardInterrupt",
     "evalue": "",
     "output_type": "error",
     "traceback": [
      "\u001B[1;31m---------------------------------------------------------------------------\u001B[0m",
      "\u001B[1;31mKeyboardInterrupt\u001B[0m                         Traceback (most recent call last)",
      "Cell \u001B[1;32mIn[31], line 4\u001B[0m\n\u001B[0;32m      2\u001B[0m b \u001B[38;5;241m=\u001B[39m \u001B[38;5;241m0\u001B[39m\n\u001B[0;32m      3\u001B[0m term \u001B[38;5;241m=\u001B[39m App(pairs\u001B[38;5;241m.\u001B[39mfirst_term(), multi_app_term(div_term_(), nat_numbers\u001B[38;5;241m.\u001B[39mnum_term(a), nat_numbers\u001B[38;5;241m.\u001B[39mnum_term(b)))\n\u001B[1;32m----> 4\u001B[0m \u001B[38;5;28mprint\u001B[39m(\u001B[43mterm\u001B[49m\u001B[38;5;241;43m.\u001B[39;49m\u001B[43mnormalize_no_lim\u001B[49m\u001B[43m(\u001B[49m\u001B[43mLeftmostOutermostStrategy\u001B[49m\u001B[43m(\u001B[49m\u001B[43m)\u001B[49m\u001B[43m)\u001B[49m[\u001B[38;5;241m0\u001B[39m])\n\u001B[0;32m      6\u001B[0m term \u001B[38;5;241m=\u001B[39m App(pairs\u001B[38;5;241m.\u001B[39msecond_term(), multi_app_term(div_term_(), nat_numbers\u001B[38;5;241m.\u001B[39mnum_term(a), nat_numbers\u001B[38;5;241m.\u001B[39mnum_term(b)))\n\u001B[0;32m      7\u001B[0m \u001B[38;5;28mprint\u001B[39m(term\u001B[38;5;241m.\u001B[39mnormalize_no_lim(LeftmostOutermostStrategy())[\u001B[38;5;241m0\u001B[39m])\n",
      "File \u001B[1;32mD:\\documents\\python_projects\\pure-calculus\\src\\calculus\\term.py:176\u001B[0m, in \u001B[0;36mTerm.normalize_no_lim\u001B[1;34m(self, strategy)\u001B[0m\n\u001B[0;32m    174\u001B[0m count \u001B[38;5;241m=\u001B[39m \u001B[38;5;241m0\u001B[39m\n\u001B[0;32m    175\u001B[0m \u001B[38;5;28;01mwhile\u001B[39;00m term\u001B[38;5;241m.\u001B[39mredexes \u001B[38;5;241m!=\u001B[39m []:\n\u001B[1;32m--> 176\u001B[0m     term \u001B[38;5;241m=\u001B[39m \u001B[43mterm\u001B[49m\u001B[38;5;241;43m.\u001B[39;49m\u001B[43m_betaConversion\u001B[49m\u001B[43m(\u001B[49m\u001B[43mstrategy\u001B[49m\u001B[43m)\u001B[49m\n\u001B[0;32m    177\u001B[0m     term \u001B[38;5;241m=\u001B[39m term\u001B[38;5;241m.\u001B[39m_updateBoundVariables()\n\u001B[0;32m    178\u001B[0m     count \u001B[38;5;241m+\u001B[39m\u001B[38;5;241m=\u001B[39m \u001B[38;5;241m1\u001B[39m\n",
      "File \u001B[1;32mD:\\documents\\python_projects\\pure-calculus\\src\\calculus\\term.py:209\u001B[0m, in \u001B[0;36mTerm._betaConversion\u001B[1;34m(self, strategy)\u001B[0m\n\u001B[0;32m    204\u001B[0m \u001B[38;5;250m\u001B[39m\u001B[38;5;124;03m\"\"\"\u001B[39;00m\n\u001B[0;32m    205\u001B[0m \u001B[38;5;124;03m:param strategy: OneStepStrategy\u001B[39;00m\n\u001B[0;32m    206\u001B[0m \u001B[38;5;124;03m:return term with redex eliminated using the given strategy\u001B[39;00m\n\u001B[0;32m    207\u001B[0m \u001B[38;5;124;03m\"\"\"\u001B[39;00m\n\u001B[0;32m    208\u001B[0m index \u001B[38;5;241m=\u001B[39m strategy\u001B[38;5;241m.\u001B[39mredexIndex(\u001B[38;5;28mself\u001B[39m)\n\u001B[1;32m--> 209\u001B[0m subterm \u001B[38;5;241m=\u001B[39m \u001B[38;5;28;43mself\u001B[39;49m\u001B[38;5;241;43m.\u001B[39;49m\u001B[43msubterm\u001B[49m\u001B[43m(\u001B[49m\u001B[43mindex\u001B[49m\u001B[43m)\u001B[49m\n\u001B[0;32m    210\u001B[0m reducedTerm \u001B[38;5;241m=\u001B[39m subterm\u001B[38;5;241m.\u001B[39m_removeOuterRedex()\n\u001B[0;32m    211\u001B[0m \u001B[38;5;28;01mreturn\u001B[39;00m \u001B[38;5;28mself\u001B[39m\u001B[38;5;241m.\u001B[39msetSubterm(index, reducedTerm)\n",
      "File \u001B[1;32mD:\\documents\\python_projects\\pure-calculus\\src\\calculus\\term.py:227\u001B[0m, in \u001B[0;36mTerm.subterm\u001B[1;34m(self, index)\u001B[0m\n\u001B[0;32m    225\u001B[0m \u001B[38;5;28;01melif\u001B[39;00m \u001B[38;5;28mself\u001B[39m\u001B[38;5;241m.\u001B[39misApplication:\n\u001B[0;32m    226\u001B[0m     \u001B[38;5;28;01mif\u001B[39;00m \u001B[38;5;28mself\u001B[39m\u001B[38;5;241m.\u001B[39m_sub\u001B[38;5;241m.\u001B[39mverticesNumber \u001B[38;5;241m+\u001B[39m \u001B[38;5;241m1\u001B[39m \u001B[38;5;241m>\u001B[39m\u001B[38;5;241m=\u001B[39m index:\n\u001B[1;32m--> 227\u001B[0m         \u001B[38;5;28;01mreturn\u001B[39;00m \u001B[38;5;28;43mself\u001B[39;49m\u001B[38;5;241;43m.\u001B[39;49m\u001B[43m_sub\u001B[49m\u001B[38;5;241;43m.\u001B[39;49m\u001B[43msubterm\u001B[49m\u001B[43m(\u001B[49m\u001B[43mindex\u001B[49m\u001B[43m \u001B[49m\u001B[38;5;241;43m-\u001B[39;49m\u001B[43m \u001B[49m\u001B[38;5;241;43m1\u001B[39;49m\u001B[43m)\u001B[49m\n\u001B[0;32m    228\u001B[0m     \u001B[38;5;28;01melse\u001B[39;00m:\n\u001B[0;32m    229\u001B[0m         \u001B[38;5;28;01mreturn\u001B[39;00m \u001B[38;5;28mself\u001B[39m\u001B[38;5;241m.\u001B[39m_obj\u001B[38;5;241m.\u001B[39msubterm(index \u001B[38;5;241m-\u001B[39m \u001B[38;5;28mself\u001B[39m\u001B[38;5;241m.\u001B[39m_sub\u001B[38;5;241m.\u001B[39mverticesNumber \u001B[38;5;241m-\u001B[39m \u001B[38;5;241m1\u001B[39m)\n",
      "File \u001B[1;32mD:\\documents\\python_projects\\pure-calculus\\src\\calculus\\term.py:226\u001B[0m, in \u001B[0;36mTerm.subterm\u001B[1;34m(self, index)\u001B[0m\n\u001B[0;32m    224\u001B[0m     \u001B[38;5;167;01mValueError\u001B[39;00m(\u001B[38;5;124m\"\u001B[39m\u001B[38;5;124mindex value is incorrect\u001B[39m\u001B[38;5;124m\"\u001B[39m)\n\u001B[0;32m    225\u001B[0m \u001B[38;5;28;01melif\u001B[39;00m \u001B[38;5;28mself\u001B[39m\u001B[38;5;241m.\u001B[39misApplication:\n\u001B[1;32m--> 226\u001B[0m     \u001B[38;5;28;01mif\u001B[39;00m \u001B[38;5;28;43mself\u001B[39;49m\u001B[38;5;241;43m.\u001B[39;49m\u001B[43m_sub\u001B[49m\u001B[38;5;241;43m.\u001B[39;49m\u001B[43mverticesNumber\u001B[49m \u001B[38;5;241m+\u001B[39m \u001B[38;5;241m1\u001B[39m \u001B[38;5;241m>\u001B[39m\u001B[38;5;241m=\u001B[39m index:\n\u001B[0;32m    227\u001B[0m         \u001B[38;5;28;01mreturn\u001B[39;00m \u001B[38;5;28mself\u001B[39m\u001B[38;5;241m.\u001B[39m_sub\u001B[38;5;241m.\u001B[39msubterm(index \u001B[38;5;241m-\u001B[39m \u001B[38;5;241m1\u001B[39m)\n\u001B[0;32m    228\u001B[0m     \u001B[38;5;28;01melse\u001B[39;00m:\n",
      "File \u001B[1;32mD:\\documents\\python_projects\\pure-calculus\\src\\calculus\\term.py:149\u001B[0m, in \u001B[0;36mTerm.verticesNumber\u001B[1;34m(self)\u001B[0m\n\u001B[0;32m    147\u001B[0m     \u001B[38;5;28;01mreturn\u001B[39;00m \u001B[38;5;241m1\u001B[39m\n\u001B[0;32m    148\u001B[0m \u001B[38;5;28;01melif\u001B[39;00m \u001B[38;5;28mself\u001B[39m\u001B[38;5;241m.\u001B[39misApplication:\n\u001B[1;32m--> 149\u001B[0m     \u001B[38;5;28;01mreturn\u001B[39;00m \u001B[38;5;241m1\u001B[39m \u001B[38;5;241m+\u001B[39m \u001B[38;5;28;43mself\u001B[39;49m\u001B[38;5;241;43m.\u001B[39;49m\u001B[43m_sub\u001B[49m\u001B[38;5;241;43m.\u001B[39;49m\u001B[43mverticesNumber\u001B[49m \u001B[38;5;241m+\u001B[39m \u001B[38;5;28mself\u001B[39m\u001B[38;5;241m.\u001B[39m_obj\u001B[38;5;241m.\u001B[39mverticesNumber\n\u001B[0;32m    150\u001B[0m \u001B[38;5;28;01melse\u001B[39;00m:  \u001B[38;5;66;03m# self is Abstraction\u001B[39;00m\n\u001B[0;32m    151\u001B[0m     \u001B[38;5;28;01mreturn\u001B[39;00m \u001B[38;5;241m1\u001B[39m \u001B[38;5;241m+\u001B[39m \u001B[38;5;28mself\u001B[39m\u001B[38;5;241m.\u001B[39m_body\u001B[38;5;241m.\u001B[39mverticesNumber\n",
      "File \u001B[1;32mD:\\documents\\python_projects\\pure-calculus\\src\\calculus\\term.py:149\u001B[0m, in \u001B[0;36mTerm.verticesNumber\u001B[1;34m(self)\u001B[0m\n\u001B[0;32m    147\u001B[0m     \u001B[38;5;28;01mreturn\u001B[39;00m \u001B[38;5;241m1\u001B[39m\n\u001B[0;32m    148\u001B[0m \u001B[38;5;28;01melif\u001B[39;00m \u001B[38;5;28mself\u001B[39m\u001B[38;5;241m.\u001B[39misApplication:\n\u001B[1;32m--> 149\u001B[0m     \u001B[38;5;28;01mreturn\u001B[39;00m \u001B[38;5;241m1\u001B[39m \u001B[38;5;241m+\u001B[39m \u001B[38;5;28;43mself\u001B[39;49m\u001B[38;5;241;43m.\u001B[39;49m\u001B[43m_sub\u001B[49m\u001B[38;5;241;43m.\u001B[39;49m\u001B[43mverticesNumber\u001B[49m \u001B[38;5;241m+\u001B[39m \u001B[38;5;28mself\u001B[39m\u001B[38;5;241m.\u001B[39m_obj\u001B[38;5;241m.\u001B[39mverticesNumber\n\u001B[0;32m    150\u001B[0m \u001B[38;5;28;01melse\u001B[39;00m:  \u001B[38;5;66;03m# self is Abstraction\u001B[39;00m\n\u001B[0;32m    151\u001B[0m     \u001B[38;5;28;01mreturn\u001B[39;00m \u001B[38;5;241m1\u001B[39m \u001B[38;5;241m+\u001B[39m \u001B[38;5;28mself\u001B[39m\u001B[38;5;241m.\u001B[39m_body\u001B[38;5;241m.\u001B[39mverticesNumber\n",
      "    \u001B[1;31m[... skipping similar frames: Term.verticesNumber at line 149 (12 times)]\u001B[0m\n",
      "File \u001B[1;32mD:\\documents\\python_projects\\pure-calculus\\src\\calculus\\term.py:151\u001B[0m, in \u001B[0;36mTerm.verticesNumber\u001B[1;34m(self)\u001B[0m\n\u001B[0;32m    149\u001B[0m     \u001B[38;5;28;01mreturn\u001B[39;00m \u001B[38;5;241m1\u001B[39m \u001B[38;5;241m+\u001B[39m \u001B[38;5;28mself\u001B[39m\u001B[38;5;241m.\u001B[39m_sub\u001B[38;5;241m.\u001B[39mverticesNumber \u001B[38;5;241m+\u001B[39m \u001B[38;5;28mself\u001B[39m\u001B[38;5;241m.\u001B[39m_obj\u001B[38;5;241m.\u001B[39mverticesNumber\n\u001B[0;32m    150\u001B[0m \u001B[38;5;28;01melse\u001B[39;00m:  \u001B[38;5;66;03m# self is Abstraction\u001B[39;00m\n\u001B[1;32m--> 151\u001B[0m     \u001B[38;5;28;01mreturn\u001B[39;00m \u001B[38;5;241m1\u001B[39m \u001B[38;5;241m+\u001B[39m \u001B[38;5;28;43mself\u001B[39;49m\u001B[38;5;241;43m.\u001B[39;49m\u001B[43m_body\u001B[49m\u001B[38;5;241;43m.\u001B[39;49m\u001B[43mverticesNumber\u001B[49m\n",
      "File \u001B[1;32mD:\\documents\\python_projects\\pure-calculus\\src\\calculus\\term.py:151\u001B[0m, in \u001B[0;36mTerm.verticesNumber\u001B[1;34m(self)\u001B[0m\n\u001B[0;32m    149\u001B[0m     \u001B[38;5;28;01mreturn\u001B[39;00m \u001B[38;5;241m1\u001B[39m \u001B[38;5;241m+\u001B[39m \u001B[38;5;28mself\u001B[39m\u001B[38;5;241m.\u001B[39m_sub\u001B[38;5;241m.\u001B[39mverticesNumber \u001B[38;5;241m+\u001B[39m \u001B[38;5;28mself\u001B[39m\u001B[38;5;241m.\u001B[39m_obj\u001B[38;5;241m.\u001B[39mverticesNumber\n\u001B[0;32m    150\u001B[0m \u001B[38;5;28;01melse\u001B[39;00m:  \u001B[38;5;66;03m# self is Abstraction\u001B[39;00m\n\u001B[1;32m--> 151\u001B[0m     \u001B[38;5;28;01mreturn\u001B[39;00m \u001B[38;5;241m1\u001B[39m \u001B[38;5;241m+\u001B[39m \u001B[38;5;28;43mself\u001B[39;49m\u001B[38;5;241;43m.\u001B[39;49m\u001B[43m_body\u001B[49m\u001B[38;5;241;43m.\u001B[39;49m\u001B[43mverticesNumber\u001B[49m\n",
      "    \u001B[1;31m[... skipping similar frames: Term.verticesNumber at line 149 (4 times), Term.verticesNumber at line 151 (1 times)]\u001B[0m\n",
      "File \u001B[1;32mD:\\documents\\python_projects\\pure-calculus\\src\\calculus\\term.py:149\u001B[0m, in \u001B[0;36mTerm.verticesNumber\u001B[1;34m(self)\u001B[0m\n\u001B[0;32m    147\u001B[0m     \u001B[38;5;28;01mreturn\u001B[39;00m \u001B[38;5;241m1\u001B[39m\n\u001B[0;32m    148\u001B[0m \u001B[38;5;28;01melif\u001B[39;00m \u001B[38;5;28mself\u001B[39m\u001B[38;5;241m.\u001B[39misApplication:\n\u001B[1;32m--> 149\u001B[0m     \u001B[38;5;28;01mreturn\u001B[39;00m \u001B[38;5;241m1\u001B[39m \u001B[38;5;241m+\u001B[39m \u001B[38;5;28mself\u001B[39m\u001B[38;5;241m.\u001B[39m_sub\u001B[38;5;241m.\u001B[39mverticesNumber \u001B[38;5;241m+\u001B[39m \u001B[38;5;28;43mself\u001B[39;49m\u001B[38;5;241;43m.\u001B[39;49m\u001B[43m_obj\u001B[49m\u001B[38;5;241;43m.\u001B[39;49m\u001B[43mverticesNumber\u001B[49m\n\u001B[0;32m    150\u001B[0m \u001B[38;5;28;01melse\u001B[39;00m:  \u001B[38;5;66;03m# self is Abstraction\u001B[39;00m\n\u001B[0;32m    151\u001B[0m     \u001B[38;5;28;01mreturn\u001B[39;00m \u001B[38;5;241m1\u001B[39m \u001B[38;5;241m+\u001B[39m \u001B[38;5;28mself\u001B[39m\u001B[38;5;241m.\u001B[39m_body\u001B[38;5;241m.\u001B[39mverticesNumber\n",
      "File \u001B[1;32mD:\\documents\\python_projects\\pure-calculus\\src\\calculus\\term.py:151\u001B[0m, in \u001B[0;36mTerm.verticesNumber\u001B[1;34m(self)\u001B[0m\n\u001B[0;32m    149\u001B[0m     \u001B[38;5;28;01mreturn\u001B[39;00m \u001B[38;5;241m1\u001B[39m \u001B[38;5;241m+\u001B[39m \u001B[38;5;28mself\u001B[39m\u001B[38;5;241m.\u001B[39m_sub\u001B[38;5;241m.\u001B[39mverticesNumber \u001B[38;5;241m+\u001B[39m \u001B[38;5;28mself\u001B[39m\u001B[38;5;241m.\u001B[39m_obj\u001B[38;5;241m.\u001B[39mverticesNumber\n\u001B[0;32m    150\u001B[0m \u001B[38;5;28;01melse\u001B[39;00m:  \u001B[38;5;66;03m# self is Abstraction\u001B[39;00m\n\u001B[1;32m--> 151\u001B[0m     \u001B[38;5;28;01mreturn\u001B[39;00m \u001B[38;5;241m1\u001B[39m \u001B[38;5;241m+\u001B[39m \u001B[38;5;28;43mself\u001B[39;49m\u001B[38;5;241;43m.\u001B[39;49m\u001B[43m_body\u001B[49m\u001B[38;5;241;43m.\u001B[39;49m\u001B[43mverticesNumber\u001B[49m\n",
      "File \u001B[1;32mD:\\documents\\python_projects\\pure-calculus\\src\\calculus\\term.py:146\u001B[0m, in \u001B[0;36mTerm.verticesNumber\u001B[1;34m(self)\u001B[0m\n\u001B[0;32m    143\u001B[0m \u001B[38;5;129m@property\u001B[39m\n\u001B[0;32m    144\u001B[0m \u001B[38;5;28;01mdef\u001B[39;00m \u001B[38;5;21mverticesNumber\u001B[39m(\u001B[38;5;28mself\u001B[39m):\n\u001B[0;32m    145\u001B[0m \u001B[38;5;250m    \u001B[39m\u001B[38;5;124;03m\"\"\"return the number of nodes in the tree representing the lambda term\"\"\"\u001B[39;00m\n\u001B[1;32m--> 146\u001B[0m     \u001B[38;5;28;01mif\u001B[39;00m \u001B[38;5;28;43mself\u001B[39;49m\u001B[38;5;241;43m.\u001B[39;49m\u001B[43misAtom\u001B[49m:\n\u001B[0;32m    147\u001B[0m         \u001B[38;5;28;01mreturn\u001B[39;00m \u001B[38;5;241m1\u001B[39m\n\u001B[0;32m    148\u001B[0m     \u001B[38;5;28;01melif\u001B[39;00m \u001B[38;5;28mself\u001B[39m\u001B[38;5;241m.\u001B[39misApplication:\n",
      "File \u001B[1;32mD:\\documents\\python_projects\\pure-calculus\\src\\calculus\\term.py:28\u001B[0m, in \u001B[0;36mTerm.isAtom\u001B[1;34m(self)\u001B[0m\n\u001B[0;32m     27\u001B[0m \u001B[38;5;28;01mclass\u001B[39;00m \u001B[38;5;21;01mTerm\u001B[39;00m:\n\u001B[1;32m---> 28\u001B[0m     \u001B[38;5;129m@property\u001B[39m\n\u001B[0;32m     29\u001B[0m     \u001B[38;5;28;01mdef\u001B[39;00m \u001B[38;5;21misAtom\u001B[39m(\u001B[38;5;28mself\u001B[39m):\n\u001B[0;32m     30\u001B[0m \u001B[38;5;250m        \u001B[39m\u001B[38;5;124;03m\"\"\"checks whether the term is an atom\"\"\"\u001B[39;00m\n\u001B[0;32m     31\u001B[0m         \u001B[38;5;28;01mreturn\u001B[39;00m \u001B[38;5;28misinstance\u001B[39m(\u001B[38;5;28mself\u001B[39m, Atom)\n",
      "\u001B[1;31mKeyboardInterrupt\u001B[0m: "
     ]
    }
   ],
   "source": [
    "a = 0\n",
    "b = 0\n",
    "term = App(pairs.first_term(), multi_app_term(div_term_(), nat_numbers.num_term(a), nat_numbers.num_term(b)))\n",
    "print(term.normalize_no_lim(LeftmostOutermostStrategy())[0])\n",
    "\n",
    "term = App(pairs.second_term(), multi_app_term(div_term_(), nat_numbers.num_term(a), nat_numbers.num_term(b)))\n",
    "print(term.normalize_no_lim(LeftmostOutermostStrategy())[0])"
   ],
   "metadata": {
    "collapsed": false
   }
  },
  {
   "cell_type": "code",
   "execution_count": 33,
   "outputs": [
    {
     "name": "stdout",
     "output_type": "stream",
     "text": [
      "(λq.(λw.(q w)))\n",
      "(λq.(λw.w))\n"
     ]
    }
   ],
   "source": [
    "a = 1\n",
    "b = 1\n",
    "term = App(pairs.first_term(), multi_app_term(div_term_(), nat_numbers.num_term(a), nat_numbers.num_term(b)))\n",
    "print(term.normalize_no_lim(LeftmostOutermostStrategy())[0])\n",
    "\n",
    "term = App(pairs.second_term(), multi_app_term(div_term_(), nat_numbers.num_term(a), nat_numbers.num_term(b)))\n",
    "print(term.normalize_no_lim(LeftmostOutermostStrategy())[0])"
   ],
   "metadata": {
    "collapsed": false
   }
  },
  {
   "cell_type": "code",
   "execution_count": 34,
   "outputs": [
    {
     "name": "stdout",
     "output_type": "stream",
     "text": [
      "(λq.(λw.w))\n",
      "(λq.(λw.(q (q w))))\n"
     ]
    }
   ],
   "source": [
    "a = 2\n",
    "b = 3\n",
    "term = App(pairs.first_term(), multi_app_term(div_term_(), nat_numbers.num_term(a), nat_numbers.num_term(b)))\n",
    "print(term.normalize_no_lim(LeftmostOutermostStrategy())[0])\n",
    "\n",
    "term = App(pairs.second_term(), multi_app_term(div_term_(), nat_numbers.num_term(a), nat_numbers.num_term(b)))\n",
    "print(term.normalize_no_lim(LeftmostOutermostStrategy())[0])"
   ],
   "metadata": {
    "collapsed": false
   }
  },
  {
   "cell_type": "code",
   "execution_count": 36,
   "outputs": [
    {
     "name": "stdout",
     "output_type": "stream",
     "text": [
      "(λq.(λw.(q w)))\n",
      "(λq.(λw.(q w)))\n"
     ]
    }
   ],
   "source": [
    "a = 3\n",
    "b = 2\n",
    "term = App(pairs.first_term(), multi_app_term(div_term_(), nat_numbers.num_term(a), nat_numbers.num_term(b)))\n",
    "print(term.normalize_no_lim(LeftmostOutermostStrategy())[0])\n",
    "\n",
    "term = App(pairs.second_term(), multi_app_term(div_term_(), nat_numbers.num_term(a), nat_numbers.num_term(b)))\n",
    "print(term.normalize_no_lim(LeftmostOutermostStrategy())[0])"
   ],
   "metadata": {
    "collapsed": false
   }
  },
  {
   "cell_type": "code",
   "execution_count": 35,
   "outputs": [
    {
     "name": "stdout",
     "output_type": "stream",
     "text": [
      "(λq.(λw.w))\n",
      "(λq.(λw.(q (q w))))\n"
     ]
    }
   ],
   "source": [
    "a = 2\n",
    "b = 6\n",
    "term = App(pairs.first_term(), multi_app_term(div_term_(), nat_numbers.num_term(a), nat_numbers.num_term(b)))\n",
    "print(term.normalize_no_lim(LeftmostOutermostStrategy())[0])\n",
    "\n",
    "term = App(pairs.second_term(), multi_app_term(div_term_(), nat_numbers.num_term(a), nat_numbers.num_term(b)))\n",
    "print(term.normalize_no_lim(LeftmostOutermostStrategy())[0])"
   ],
   "metadata": {
    "collapsed": false
   }
  },
  {
   "cell_type": "code",
   "execution_count": 37,
   "outputs": [
    {
     "name": "stdout",
     "output_type": "stream",
     "text": [
      "(λq.(λw.(q (q w))))\n",
      "(λq.(λw.w))\n"
     ]
    }
   ],
   "source": [
    "a = 6\n",
    "b = 3\n",
    "term = App(pairs.first_term(), multi_app_term(div_term_(), nat_numbers.num_term(a), nat_numbers.num_term(b)))\n",
    "print(term.normalize_no_lim(LeftmostOutermostStrategy())[0])\n",
    "\n",
    "term = App(pairs.second_term(), multi_app_term(div_term_(), nat_numbers.num_term(a), nat_numbers.num_term(b)))\n",
    "print(term.normalize_no_lim(LeftmostOutermostStrategy())[0])"
   ],
   "metadata": {
    "collapsed": false
   }
  },
  {
   "cell_type": "code",
   "execution_count": 38,
   "outputs": [
    {
     "name": "stdout",
     "output_type": "stream",
     "text": [
      "(λq.(λw.(q (q (q w)))))\n",
      "(λq.(λw.w))\n"
     ]
    }
   ],
   "source": [
    "a = 6\n",
    "b = 2\n",
    "term = App(pairs.first_term(), multi_app_term(div_term_(), nat_numbers.num_term(a), nat_numbers.num_term(b)))\n",
    "print(term.normalize_no_lim(LeftmostOutermostStrategy())[0])\n",
    "\n",
    "term = App(pairs.second_term(), multi_app_term(div_term_(), nat_numbers.num_term(a), nat_numbers.num_term(b)))\n",
    "print(term.normalize_no_lim(LeftmostOutermostStrategy())[0])"
   ],
   "metadata": {
    "collapsed": false
   }
  },
  {
   "cell_type": "markdown",
   "source": [
    "# MOD term test"
   ],
   "metadata": {
    "collapsed": false
   }
  },
  {
   "cell_type": "code",
   "execution_count": 3,
   "outputs": [
    {
     "ename": "KeyboardInterrupt",
     "evalue": "",
     "output_type": "error",
     "traceback": [
      "\u001B[1;31m---------------------------------------------------------------------------\u001B[0m",
      "\u001B[1;31mKeyboardInterrupt\u001B[0m                         Traceback (most recent call last)",
      "Cell \u001B[1;32mIn[3], line 5\u001B[0m\n\u001B[0;32m      2\u001B[0m b \u001B[38;5;241m=\u001B[39m \u001B[38;5;241m0\u001B[39m\n\u001B[0;32m      3\u001B[0m term \u001B[38;5;241m=\u001B[39m multi_app_term(arithm_ops\u001B[38;5;241m.\u001B[39mmod_term(), nat_numbers\u001B[38;5;241m.\u001B[39mnum_term(a), nat_numbers\u001B[38;5;241m.\u001B[39mnum_term(b))\n\u001B[1;32m----> 5\u001B[0m \u001B[38;5;28mprint\u001B[39m(\u001B[43mterm\u001B[49m\u001B[38;5;241;43m.\u001B[39;49m\u001B[43mnormalize_no_lim\u001B[49m\u001B[43m(\u001B[49m\u001B[43mLeftmostOutermostStrategy\u001B[49m\u001B[43m(\u001B[49m\u001B[43m)\u001B[49m\u001B[43m)\u001B[49m[\u001B[38;5;241m0\u001B[39m])\n",
      "File \u001B[1;32mD:\\documents\\python_projects\\pure-calculus\\src\\calculus\\term.py:177\u001B[0m, in \u001B[0;36mTerm.normalize_no_lim\u001B[1;34m(self, strategy)\u001B[0m\n\u001B[0;32m    175\u001B[0m \u001B[38;5;28;01mwhile\u001B[39;00m term\u001B[38;5;241m.\u001B[39mredexes \u001B[38;5;241m!=\u001B[39m []:\n\u001B[0;32m    176\u001B[0m     term \u001B[38;5;241m=\u001B[39m term\u001B[38;5;241m.\u001B[39m_betaConversion(strategy)\n\u001B[1;32m--> 177\u001B[0m     term \u001B[38;5;241m=\u001B[39m \u001B[43mterm\u001B[49m\u001B[38;5;241;43m.\u001B[39;49m\u001B[43m_updateBoundVariables\u001B[49m\u001B[43m(\u001B[49m\u001B[43m)\u001B[49m\n\u001B[0;32m    178\u001B[0m     count \u001B[38;5;241m+\u001B[39m\u001B[38;5;241m=\u001B[39m \u001B[38;5;241m1\u001B[39m\n\u001B[0;32m    179\u001B[0m \u001B[38;5;28;01mreturn\u001B[39;00m term, count\n",
      "File \u001B[1;32mD:\\documents\\python_projects\\pure-calculus\\src\\calculus\\term.py:263\u001B[0m, in \u001B[0;36mTerm._updateBoundVariables\u001B[1;34m(self)\u001B[0m\n\u001B[0;32m    260\u001B[0m     \u001B[38;5;28;01mreturn\u001B[39;00m \u001B[38;5;28mself\u001B[39m\n\u001B[0;32m    261\u001B[0m \u001B[38;5;28;01melif\u001B[39;00m \u001B[38;5;28mself\u001B[39m\u001B[38;5;241m.\u001B[39misApplication:\n\u001B[0;32m    262\u001B[0m     \u001B[38;5;28;01mreturn\u001B[39;00m Application(\n\u001B[1;32m--> 263\u001B[0m         \u001B[38;5;28;43mself\u001B[39;49m\u001B[38;5;241;43m.\u001B[39;49m\u001B[43m_sub\u001B[49m\u001B[38;5;241;43m.\u001B[39;49m\u001B[43m_updateBoundVariables\u001B[49m\u001B[43m(\u001B[49m\u001B[43m)\u001B[49m, \u001B[38;5;28mself\u001B[39m\u001B[38;5;241m.\u001B[39m_obj\u001B[38;5;241m.\u001B[39m_updateBoundVariables()\n\u001B[0;32m    264\u001B[0m     )\n\u001B[0;32m    265\u001B[0m \u001B[38;5;28;01melse\u001B[39;00m:  \u001B[38;5;66;03m# self is Abstraction\u001B[39;00m\n\u001B[0;32m    266\u001B[0m     newVar \u001B[38;5;241m=\u001B[39m Var()\n",
      "File \u001B[1;32mD:\\documents\\python_projects\\pure-calculus\\src\\calculus\\term.py:263\u001B[0m, in \u001B[0;36mTerm._updateBoundVariables\u001B[1;34m(self)\u001B[0m\n\u001B[0;32m    260\u001B[0m     \u001B[38;5;28;01mreturn\u001B[39;00m \u001B[38;5;28mself\u001B[39m\n\u001B[0;32m    261\u001B[0m \u001B[38;5;28;01melif\u001B[39;00m \u001B[38;5;28mself\u001B[39m\u001B[38;5;241m.\u001B[39misApplication:\n\u001B[0;32m    262\u001B[0m     \u001B[38;5;28;01mreturn\u001B[39;00m Application(\n\u001B[1;32m--> 263\u001B[0m         \u001B[38;5;28mself\u001B[39m\u001B[38;5;241m.\u001B[39m_sub\u001B[38;5;241m.\u001B[39m_updateBoundVariables(), \u001B[38;5;28;43mself\u001B[39;49m\u001B[38;5;241;43m.\u001B[39;49m\u001B[43m_obj\u001B[49m\u001B[38;5;241;43m.\u001B[39;49m\u001B[43m_updateBoundVariables\u001B[49m\u001B[43m(\u001B[49m\u001B[43m)\u001B[49m\n\u001B[0;32m    264\u001B[0m     )\n\u001B[0;32m    265\u001B[0m \u001B[38;5;28;01melse\u001B[39;00m:  \u001B[38;5;66;03m# self is Abstraction\u001B[39;00m\n\u001B[0;32m    266\u001B[0m     newVar \u001B[38;5;241m=\u001B[39m Var()\n",
      "    \u001B[1;31m[... skipping similar frames: Term._updateBoundVariables at line 263 (5 times)]\u001B[0m\n",
      "File \u001B[1;32mD:\\documents\\python_projects\\pure-calculus\\src\\calculus\\term.py:263\u001B[0m, in \u001B[0;36mTerm._updateBoundVariables\u001B[1;34m(self)\u001B[0m\n\u001B[0;32m    260\u001B[0m     \u001B[38;5;28;01mreturn\u001B[39;00m \u001B[38;5;28mself\u001B[39m\n\u001B[0;32m    261\u001B[0m \u001B[38;5;28;01melif\u001B[39;00m \u001B[38;5;28mself\u001B[39m\u001B[38;5;241m.\u001B[39misApplication:\n\u001B[0;32m    262\u001B[0m     \u001B[38;5;28;01mreturn\u001B[39;00m Application(\n\u001B[1;32m--> 263\u001B[0m         \u001B[38;5;28;43mself\u001B[39;49m\u001B[38;5;241;43m.\u001B[39;49m\u001B[43m_sub\u001B[49m\u001B[38;5;241;43m.\u001B[39;49m\u001B[43m_updateBoundVariables\u001B[49m\u001B[43m(\u001B[49m\u001B[43m)\u001B[49m, \u001B[38;5;28mself\u001B[39m\u001B[38;5;241m.\u001B[39m_obj\u001B[38;5;241m.\u001B[39m_updateBoundVariables()\n\u001B[0;32m    264\u001B[0m     )\n\u001B[0;32m    265\u001B[0m \u001B[38;5;28;01melse\u001B[39;00m:  \u001B[38;5;66;03m# self is Abstraction\u001B[39;00m\n\u001B[0;32m    266\u001B[0m     newVar \u001B[38;5;241m=\u001B[39m Var()\n",
      "File \u001B[1;32mD:\\documents\\python_projects\\pure-calculus\\src\\calculus\\term.py:269\u001B[0m, in \u001B[0;36mTerm._updateBoundVariables\u001B[1;34m(self)\u001B[0m\n\u001B[0;32m    265\u001B[0m \u001B[38;5;28;01melse\u001B[39;00m:  \u001B[38;5;66;03m# self is Abstraction\u001B[39;00m\n\u001B[0;32m    266\u001B[0m     newVar \u001B[38;5;241m=\u001B[39m Var()\n\u001B[0;32m    267\u001B[0m     \u001B[38;5;28;01mreturn\u001B[39;00m Abstraction(\n\u001B[0;32m    268\u001B[0m         newVar,\n\u001B[1;32m--> 269\u001B[0m         \u001B[38;5;28;43mself\u001B[39;49m\u001B[38;5;241;43m.\u001B[39;49m\u001B[43m_body\u001B[49m\u001B[38;5;241;43m.\u001B[39;49m\u001B[43m_replaceVariable\u001B[49m\u001B[43m(\u001B[49m\n\u001B[0;32m    270\u001B[0m \u001B[43m            \u001B[49m\u001B[38;5;28;43mself\u001B[39;49m\u001B[38;5;241;43m.\u001B[39;49m\u001B[43m_head\u001B[49m\u001B[43m,\u001B[49m\u001B[43m \u001B[49m\u001B[43mAtom\u001B[49m\u001B[43m(\u001B[49m\u001B[43mnewVar\u001B[49m\u001B[43m)\u001B[49m\n\u001B[0;32m    271\u001B[0m \u001B[43m        \u001B[49m\u001B[43m)\u001B[49m\u001B[38;5;241m.\u001B[39m_updateBoundVariables(),\n\u001B[0;32m    272\u001B[0m     )\n",
      "File \u001B[1;32mD:\\documents\\python_projects\\pure-calculus\\src\\calculus\\term.py:293\u001B[0m, in \u001B[0;36mTerm._replaceVariable\u001B[1;34m(self, var, term)\u001B[0m\n\u001B[0;32m    288\u001B[0m     \u001B[38;5;28;01mreturn\u001B[39;00m Application(\n\u001B[0;32m    289\u001B[0m         \u001B[38;5;28mself\u001B[39m\u001B[38;5;241m.\u001B[39m_sub\u001B[38;5;241m.\u001B[39m_replaceVariable(var, term),\n\u001B[0;32m    290\u001B[0m         \u001B[38;5;28mself\u001B[39m\u001B[38;5;241m.\u001B[39m_obj\u001B[38;5;241m.\u001B[39m_replaceVariable(var, term),\n\u001B[0;32m    291\u001B[0m     )\n\u001B[0;32m    292\u001B[0m \u001B[38;5;28;01melse\u001B[39;00m:  \u001B[38;5;66;03m# self is Abstraction\u001B[39;00m\n\u001B[1;32m--> 293\u001B[0m     \u001B[38;5;28;01mreturn\u001B[39;00m Abstraction(\u001B[38;5;28mself\u001B[39m\u001B[38;5;241m.\u001B[39m_head, \u001B[38;5;28;43mself\u001B[39;49m\u001B[38;5;241;43m.\u001B[39;49m\u001B[43m_body\u001B[49m\u001B[38;5;241;43m.\u001B[39;49m\u001B[43m_replaceVariable\u001B[49m\u001B[43m(\u001B[49m\u001B[43mvar\u001B[49m\u001B[43m,\u001B[49m\u001B[43m \u001B[49m\u001B[43mterm\u001B[49m\u001B[43m)\u001B[49m)\n",
      "File \u001B[1;32mD:\\documents\\python_projects\\pure-calculus\\src\\calculus\\term.py:289\u001B[0m, in \u001B[0;36mTerm._replaceVariable\u001B[1;34m(self, var, term)\u001B[0m\n\u001B[0;32m    286\u001B[0m     \u001B[38;5;28;01mreturn\u001B[39;00m term \u001B[38;5;28;01mif\u001B[39;00m \u001B[38;5;28mself\u001B[39m\u001B[38;5;241m.\u001B[39m_var \u001B[38;5;241m==\u001B[39m var \u001B[38;5;28;01melse\u001B[39;00m \u001B[38;5;28mself\u001B[39m\n\u001B[0;32m    287\u001B[0m \u001B[38;5;28;01melif\u001B[39;00m \u001B[38;5;28mself\u001B[39m\u001B[38;5;241m.\u001B[39misApplication:\n\u001B[0;32m    288\u001B[0m     \u001B[38;5;28;01mreturn\u001B[39;00m Application(\n\u001B[1;32m--> 289\u001B[0m         \u001B[38;5;28;43mself\u001B[39;49m\u001B[38;5;241;43m.\u001B[39;49m\u001B[43m_sub\u001B[49m\u001B[38;5;241;43m.\u001B[39;49m\u001B[43m_replaceVariable\u001B[49m\u001B[43m(\u001B[49m\u001B[43mvar\u001B[49m\u001B[43m,\u001B[49m\u001B[43m \u001B[49m\u001B[43mterm\u001B[49m\u001B[43m)\u001B[49m,\n\u001B[0;32m    290\u001B[0m         \u001B[38;5;28mself\u001B[39m\u001B[38;5;241m.\u001B[39m_obj\u001B[38;5;241m.\u001B[39m_replaceVariable(var, term),\n\u001B[0;32m    291\u001B[0m     )\n\u001B[0;32m    292\u001B[0m \u001B[38;5;28;01melse\u001B[39;00m:  \u001B[38;5;66;03m# self is Abstraction\u001B[39;00m\n\u001B[0;32m    293\u001B[0m     \u001B[38;5;28;01mreturn\u001B[39;00m Abstraction(\u001B[38;5;28mself\u001B[39m\u001B[38;5;241m.\u001B[39m_head, \u001B[38;5;28mself\u001B[39m\u001B[38;5;241m.\u001B[39m_body\u001B[38;5;241m.\u001B[39m_replaceVariable(var, term))\n",
      "File \u001B[1;32mD:\\documents\\python_projects\\pure-calculus\\src\\calculus\\term.py:290\u001B[0m, in \u001B[0;36mTerm._replaceVariable\u001B[1;34m(self, var, term)\u001B[0m\n\u001B[0;32m    286\u001B[0m     \u001B[38;5;28;01mreturn\u001B[39;00m term \u001B[38;5;28;01mif\u001B[39;00m \u001B[38;5;28mself\u001B[39m\u001B[38;5;241m.\u001B[39m_var \u001B[38;5;241m==\u001B[39m var \u001B[38;5;28;01melse\u001B[39;00m \u001B[38;5;28mself\u001B[39m\n\u001B[0;32m    287\u001B[0m \u001B[38;5;28;01melif\u001B[39;00m \u001B[38;5;28mself\u001B[39m\u001B[38;5;241m.\u001B[39misApplication:\n\u001B[0;32m    288\u001B[0m     \u001B[38;5;28;01mreturn\u001B[39;00m Application(\n\u001B[0;32m    289\u001B[0m         \u001B[38;5;28mself\u001B[39m\u001B[38;5;241m.\u001B[39m_sub\u001B[38;5;241m.\u001B[39m_replaceVariable(var, term),\n\u001B[1;32m--> 290\u001B[0m         \u001B[38;5;28;43mself\u001B[39;49m\u001B[38;5;241;43m.\u001B[39;49m\u001B[43m_obj\u001B[49m\u001B[38;5;241;43m.\u001B[39;49m\u001B[43m_replaceVariable\u001B[49m\u001B[43m(\u001B[49m\u001B[43mvar\u001B[49m\u001B[43m,\u001B[49m\u001B[43m \u001B[49m\u001B[43mterm\u001B[49m\u001B[43m)\u001B[49m,\n\u001B[0;32m    291\u001B[0m     )\n\u001B[0;32m    292\u001B[0m \u001B[38;5;28;01melse\u001B[39;00m:  \u001B[38;5;66;03m# self is Abstraction\u001B[39;00m\n\u001B[0;32m    293\u001B[0m     \u001B[38;5;28;01mreturn\u001B[39;00m Abstraction(\u001B[38;5;28mself\u001B[39m\u001B[38;5;241m.\u001B[39m_head, \u001B[38;5;28mself\u001B[39m\u001B[38;5;241m.\u001B[39m_body\u001B[38;5;241m.\u001B[39m_replaceVariable(var, term))\n",
      "File \u001B[1;32mD:\\documents\\python_projects\\pure-calculus\\src\\calculus\\term.py:293\u001B[0m, in \u001B[0;36mTerm._replaceVariable\u001B[1;34m(self, var, term)\u001B[0m\n\u001B[0;32m    288\u001B[0m     \u001B[38;5;28;01mreturn\u001B[39;00m Application(\n\u001B[0;32m    289\u001B[0m         \u001B[38;5;28mself\u001B[39m\u001B[38;5;241m.\u001B[39m_sub\u001B[38;5;241m.\u001B[39m_replaceVariable(var, term),\n\u001B[0;32m    290\u001B[0m         \u001B[38;5;28mself\u001B[39m\u001B[38;5;241m.\u001B[39m_obj\u001B[38;5;241m.\u001B[39m_replaceVariable(var, term),\n\u001B[0;32m    291\u001B[0m     )\n\u001B[0;32m    292\u001B[0m \u001B[38;5;28;01melse\u001B[39;00m:  \u001B[38;5;66;03m# self is Abstraction\u001B[39;00m\n\u001B[1;32m--> 293\u001B[0m     \u001B[38;5;28;01mreturn\u001B[39;00m Abstraction(\u001B[38;5;28mself\u001B[39m\u001B[38;5;241m.\u001B[39m_head, \u001B[38;5;28;43mself\u001B[39;49m\u001B[38;5;241;43m.\u001B[39;49m\u001B[43m_body\u001B[49m\u001B[38;5;241;43m.\u001B[39;49m\u001B[43m_replaceVariable\u001B[49m\u001B[43m(\u001B[49m\u001B[43mvar\u001B[49m\u001B[43m,\u001B[49m\u001B[43m \u001B[49m\u001B[43mterm\u001B[49m\u001B[43m)\u001B[49m)\n",
      "File \u001B[1;32mD:\\documents\\python_projects\\pure-calculus\\src\\calculus\\term.py:289\u001B[0m, in \u001B[0;36mTerm._replaceVariable\u001B[1;34m(self, var, term)\u001B[0m\n\u001B[0;32m    286\u001B[0m     \u001B[38;5;28;01mreturn\u001B[39;00m term \u001B[38;5;28;01mif\u001B[39;00m \u001B[38;5;28mself\u001B[39m\u001B[38;5;241m.\u001B[39m_var \u001B[38;5;241m==\u001B[39m var \u001B[38;5;28;01melse\u001B[39;00m \u001B[38;5;28mself\u001B[39m\n\u001B[0;32m    287\u001B[0m \u001B[38;5;28;01melif\u001B[39;00m \u001B[38;5;28mself\u001B[39m\u001B[38;5;241m.\u001B[39misApplication:\n\u001B[0;32m    288\u001B[0m     \u001B[38;5;28;01mreturn\u001B[39;00m Application(\n\u001B[1;32m--> 289\u001B[0m         \u001B[38;5;28;43mself\u001B[39;49m\u001B[38;5;241;43m.\u001B[39;49m\u001B[43m_sub\u001B[49m\u001B[38;5;241;43m.\u001B[39;49m\u001B[43m_replaceVariable\u001B[49m\u001B[43m(\u001B[49m\u001B[43mvar\u001B[49m\u001B[43m,\u001B[49m\u001B[43m \u001B[49m\u001B[43mterm\u001B[49m\u001B[43m)\u001B[49m,\n\u001B[0;32m    290\u001B[0m         \u001B[38;5;28mself\u001B[39m\u001B[38;5;241m.\u001B[39m_obj\u001B[38;5;241m.\u001B[39m_replaceVariable(var, term),\n\u001B[0;32m    291\u001B[0m     )\n\u001B[0;32m    292\u001B[0m \u001B[38;5;28;01melse\u001B[39;00m:  \u001B[38;5;66;03m# self is Abstraction\u001B[39;00m\n\u001B[0;32m    293\u001B[0m     \u001B[38;5;28;01mreturn\u001B[39;00m Abstraction(\u001B[38;5;28mself\u001B[39m\u001B[38;5;241m.\u001B[39m_head, \u001B[38;5;28mself\u001B[39m\u001B[38;5;241m.\u001B[39m_body\u001B[38;5;241m.\u001B[39m_replaceVariable(var, term))\n",
      "File \u001B[1;32mD:\\documents\\python_projects\\pure-calculus\\src\\calculus\\term.py:293\u001B[0m, in \u001B[0;36mTerm._replaceVariable\u001B[1;34m(self, var, term)\u001B[0m\n\u001B[0;32m    288\u001B[0m     \u001B[38;5;28;01mreturn\u001B[39;00m Application(\n\u001B[0;32m    289\u001B[0m         \u001B[38;5;28mself\u001B[39m\u001B[38;5;241m.\u001B[39m_sub\u001B[38;5;241m.\u001B[39m_replaceVariable(var, term),\n\u001B[0;32m    290\u001B[0m         \u001B[38;5;28mself\u001B[39m\u001B[38;5;241m.\u001B[39m_obj\u001B[38;5;241m.\u001B[39m_replaceVariable(var, term),\n\u001B[0;32m    291\u001B[0m     )\n\u001B[0;32m    292\u001B[0m \u001B[38;5;28;01melse\u001B[39;00m:  \u001B[38;5;66;03m# self is Abstraction\u001B[39;00m\n\u001B[1;32m--> 293\u001B[0m     \u001B[38;5;28;01mreturn\u001B[39;00m Abstraction(\u001B[38;5;28mself\u001B[39m\u001B[38;5;241m.\u001B[39m_head, \u001B[38;5;28;43mself\u001B[39;49m\u001B[38;5;241;43m.\u001B[39;49m\u001B[43m_body\u001B[49m\u001B[38;5;241;43m.\u001B[39;49m\u001B[43m_replaceVariable\u001B[49m\u001B[43m(\u001B[49m\u001B[43mvar\u001B[49m\u001B[43m,\u001B[49m\u001B[43m \u001B[49m\u001B[43mterm\u001B[49m\u001B[43m)\u001B[49m)\n",
      "File \u001B[1;32mD:\\documents\\python_projects\\pure-calculus\\src\\calculus\\term.py:290\u001B[0m, in \u001B[0;36mTerm._replaceVariable\u001B[1;34m(self, var, term)\u001B[0m\n\u001B[0;32m    286\u001B[0m     \u001B[38;5;28;01mreturn\u001B[39;00m term \u001B[38;5;28;01mif\u001B[39;00m \u001B[38;5;28mself\u001B[39m\u001B[38;5;241m.\u001B[39m_var \u001B[38;5;241m==\u001B[39m var \u001B[38;5;28;01melse\u001B[39;00m \u001B[38;5;28mself\u001B[39m\n\u001B[0;32m    287\u001B[0m \u001B[38;5;28;01melif\u001B[39;00m \u001B[38;5;28mself\u001B[39m\u001B[38;5;241m.\u001B[39misApplication:\n\u001B[0;32m    288\u001B[0m     \u001B[38;5;28;01mreturn\u001B[39;00m Application(\n\u001B[0;32m    289\u001B[0m         \u001B[38;5;28mself\u001B[39m\u001B[38;5;241m.\u001B[39m_sub\u001B[38;5;241m.\u001B[39m_replaceVariable(var, term),\n\u001B[1;32m--> 290\u001B[0m         \u001B[38;5;28;43mself\u001B[39;49m\u001B[38;5;241;43m.\u001B[39;49m\u001B[43m_obj\u001B[49m\u001B[38;5;241;43m.\u001B[39;49m\u001B[43m_replaceVariable\u001B[49m\u001B[43m(\u001B[49m\u001B[43mvar\u001B[49m\u001B[43m,\u001B[49m\u001B[43m \u001B[49m\u001B[43mterm\u001B[49m\u001B[43m)\u001B[49m,\n\u001B[0;32m    291\u001B[0m     )\n\u001B[0;32m    292\u001B[0m \u001B[38;5;28;01melse\u001B[39;00m:  \u001B[38;5;66;03m# self is Abstraction\u001B[39;00m\n\u001B[0;32m    293\u001B[0m     \u001B[38;5;28;01mreturn\u001B[39;00m Abstraction(\u001B[38;5;28mself\u001B[39m\u001B[38;5;241m.\u001B[39m_head, \u001B[38;5;28mself\u001B[39m\u001B[38;5;241m.\u001B[39m_body\u001B[38;5;241m.\u001B[39m_replaceVariable(var, term))\n",
      "File \u001B[1;32mD:\\documents\\python_projects\\pure-calculus\\src\\calculus\\term.py:293\u001B[0m, in \u001B[0;36mTerm._replaceVariable\u001B[1;34m(self, var, term)\u001B[0m\n\u001B[0;32m    288\u001B[0m     \u001B[38;5;28;01mreturn\u001B[39;00m Application(\n\u001B[0;32m    289\u001B[0m         \u001B[38;5;28mself\u001B[39m\u001B[38;5;241m.\u001B[39m_sub\u001B[38;5;241m.\u001B[39m_replaceVariable(var, term),\n\u001B[0;32m    290\u001B[0m         \u001B[38;5;28mself\u001B[39m\u001B[38;5;241m.\u001B[39m_obj\u001B[38;5;241m.\u001B[39m_replaceVariable(var, term),\n\u001B[0;32m    291\u001B[0m     )\n\u001B[0;32m    292\u001B[0m \u001B[38;5;28;01melse\u001B[39;00m:  \u001B[38;5;66;03m# self is Abstraction\u001B[39;00m\n\u001B[1;32m--> 293\u001B[0m     \u001B[38;5;28;01mreturn\u001B[39;00m \u001B[43mAbstraction\u001B[49m\u001B[43m(\u001B[49m\u001B[38;5;28;43mself\u001B[39;49m\u001B[38;5;241;43m.\u001B[39;49m\u001B[43m_head\u001B[49m\u001B[43m,\u001B[49m\u001B[43m \u001B[49m\u001B[38;5;28;43mself\u001B[39;49m\u001B[38;5;241;43m.\u001B[39;49m\u001B[43m_body\u001B[49m\u001B[38;5;241;43m.\u001B[39;49m\u001B[43m_replaceVariable\u001B[49m\u001B[43m(\u001B[49m\u001B[43mvar\u001B[49m\u001B[43m,\u001B[49m\u001B[43m \u001B[49m\u001B[43mterm\u001B[49m\u001B[43m)\u001B[49m\u001B[43m)\u001B[49m\n",
      "\u001B[1;31mKeyboardInterrupt\u001B[0m: "
     ]
    }
   ],
   "source": [
    "a = 0\n",
    "b = 0\n",
    "term = multi_app_term(arithm_ops.mod_term(), nat_numbers.num_term(a), nat_numbers.num_term(b))\n",
    "\n",
    "print(term.normalize_no_lim(LeftmostOutermostStrategy())[0])"
   ],
   "metadata": {
    "collapsed": false
   }
  },
  {
   "cell_type": "code",
   "execution_count": 4,
   "outputs": [
    {
     "name": "stdout",
     "output_type": "stream",
     "text": [
      "(λq.(λw.w))\n"
     ]
    }
   ],
   "source": [
    "a = 1\n",
    "b = 1\n",
    "term = multi_app_term(arithm_ops.mod_term(), nat_numbers.num_term(a), nat_numbers.num_term(b))\n",
    "\n",
    "print(term.normalize_no_lim(LeftmostOutermostStrategy())[0])"
   ],
   "metadata": {
    "collapsed": false
   }
  },
  {
   "cell_type": "code",
   "execution_count": 5,
   "outputs": [
    {
     "name": "stdout",
     "output_type": "stream",
     "text": [
      "(λw.(λq.(w (w q))))\n"
     ]
    }
   ],
   "source": [
    "a = 2\n",
    "b = 3\n",
    "term = multi_app_term(arithm_ops.mod_term(), nat_numbers.num_term(a), nat_numbers.num_term(b))\n",
    "\n",
    "print(term.normalize_no_lim(LeftmostOutermostStrategy())[0])"
   ],
   "metadata": {
    "collapsed": false
   }
  },
  {
   "cell_type": "code",
   "execution_count": 6,
   "outputs": [
    {
     "name": "stdout",
     "output_type": "stream",
     "text": [
      "(λq.(λw.w))\n"
     ]
    }
   ],
   "source": [
    "a = 6\n",
    "b = 2\n",
    "term = multi_app_term(arithm_ops.mod_term(), nat_numbers.num_term(a), nat_numbers.num_term(b))\n",
    "\n",
    "print(term.normalize_no_lim(LeftmostOutermostStrategy())[0])"
   ],
   "metadata": {
    "collapsed": false
   }
  },
  {
   "cell_type": "code",
   "execution_count": 7,
   "outputs": [
    {
     "name": "stdout",
     "output_type": "stream",
     "text": [
      "(λq.(λw.(q (q (q (q (q w)))))))\n"
     ]
    }
   ],
   "source": [
    "a = 5\n",
    "b = 7\n",
    "term = multi_app_term(arithm_ops.mod_term(), nat_numbers.num_term(a), nat_numbers.num_term(b))\n",
    "\n",
    "print(term.normalize_no_lim(LeftmostOutermostStrategy())[0])"
   ],
   "metadata": {
    "collapsed": false
   }
  },
  {
   "cell_type": "markdown",
   "source": [
    "# IDIV term test"
   ],
   "metadata": {
    "collapsed": false
   }
  },
  {
   "cell_type": "code",
   "execution_count": 8,
   "outputs": [
    {
     "name": "stdout",
     "output_type": "stream",
     "text": [
      "(λw.(λq.q))\n"
     ]
    }
   ],
   "source": [
    "a = 1\n",
    "b = 5\n",
    "term = multi_app_term(arithm_ops.idiv_term(), nat_numbers.num_term(a), nat_numbers.num_term(b))\n",
    "\n",
    "print(term.normalize_no_lim(LeftmostOutermostStrategy())[0])"
   ],
   "metadata": {
    "collapsed": false
   }
  },
  {
   "cell_type": "code",
   "execution_count": 11,
   "outputs": [
    {
     "name": "stdout",
     "output_type": "stream",
     "text": [
      "(λq.(λw.w))\n"
     ]
    }
   ],
   "source": [
    "a = 2\n",
    "b = 6\n",
    "term = multi_app_term(arithm_ops.idiv_term(), nat_numbers.num_term(a), nat_numbers.num_term(b))\n",
    "\n",
    "print(term.normalize_no_lim(LeftmostOutermostStrategy())[0])"
   ],
   "metadata": {
    "collapsed": false
   }
  },
  {
   "cell_type": "code",
   "execution_count": 12,
   "outputs": [
    {
     "name": "stdout",
     "output_type": "stream",
     "text": [
      "(λq.(λw.(q (q (q w)))))\n"
     ]
    }
   ],
   "source": [
    "a = 6\n",
    "b = 2\n",
    "term = multi_app_term(arithm_ops.idiv_term(), nat_numbers.num_term(a), nat_numbers.num_term(b))\n",
    "\n",
    "print(term.normalize_no_lim(LeftmostOutermostStrategy())[0])"
   ],
   "metadata": {
    "collapsed": false
   }
  },
  {
   "cell_type": "markdown",
   "source": [
    "# PLUS term test"
   ],
   "metadata": {
    "collapsed": false
   }
  },
  {
   "cell_type": "code",
   "execution_count": 2,
   "outputs": [
    {
     "name": "stdout",
     "output_type": "stream",
     "text": [
      "(λq.(λw.w))\n"
     ]
    }
   ],
   "source": [
    "a = 0\n",
    "b = 0\n",
    "term = multi_app_term(arithm_ops.plus_term(), nat_numbers.num_term(a), nat_numbers.num_term(b))\n",
    "\n",
    "print(term.normalize_no_lim(LeftmostOutermostStrategy())[0])"
   ],
   "metadata": {
    "collapsed": false
   }
  },
  {
   "cell_type": "code",
   "execution_count": 3,
   "outputs": [
    {
     "name": "stdout",
     "output_type": "stream",
     "text": [
      "(λq.(λw.(q w)))\n"
     ]
    }
   ],
   "source": [
    "a = 1\n",
    "b = 0\n",
    "term = multi_app_term(arithm_ops.plus_term(), nat_numbers.num_term(a), nat_numbers.num_term(b))\n",
    "\n",
    "print(term.normalize_no_lim(LeftmostOutermostStrategy())[0])"
   ],
   "metadata": {
    "collapsed": false
   }
  },
  {
   "cell_type": "code",
   "execution_count": 4,
   "outputs": [
    {
     "name": "stdout",
     "output_type": "stream",
     "text": [
      "(λq.(λw.(q (q (q (q (q w)))))))\n"
     ]
    }
   ],
   "source": [
    "a = 0\n",
    "b = 5\n",
    "term = multi_app_term(arithm_ops.plus_term(), nat_numbers.num_term(a), nat_numbers.num_term(b))\n",
    "\n",
    "print(term.normalize_no_lim(LeftmostOutermostStrategy())[0])"
   ],
   "metadata": {
    "collapsed": false
   }
  },
  {
   "cell_type": "code",
   "execution_count": 5,
   "outputs": [
    {
     "name": "stdout",
     "output_type": "stream",
     "text": [
      "(λq.(λw.(q (q (q (q (q w)))))))\n"
     ]
    }
   ],
   "source": [
    "a = 2\n",
    "b = 3\n",
    "term = multi_app_term(arithm_ops.plus_term(), nat_numbers.num_term(a), nat_numbers.num_term(b))\n",
    "\n",
    "print(term.normalize_no_lim(LeftmostOutermostStrategy())[0])"
   ],
   "metadata": {
    "collapsed": false
   }
  },
  {
   "cell_type": "code",
   "execution_count": 6,
   "outputs": [
    {
     "name": "stdout",
     "output_type": "stream",
     "text": [
      "(λq.(λw.(q (q (q (q (q (q w))))))))\n"
     ]
    }
   ],
   "source": [
    "a = 4\n",
    "b = 2\n",
    "term = multi_app_term(arithm_ops.plus_term(), nat_numbers.num_term(a), nat_numbers.num_term(b))\n",
    "\n",
    "print(term.normalize_no_lim(LeftmostOutermostStrategy())[0])"
   ],
   "metadata": {
    "collapsed": false
   }
  },
  {
   "cell_type": "markdown",
   "source": [
    "# MULT term test"
   ],
   "metadata": {
    "collapsed": false
   }
  },
  {
   "cell_type": "code",
   "execution_count": 7,
   "outputs": [
    {
     "name": "stdout",
     "output_type": "stream",
     "text": [
      "(λq.(λw.w))\n"
     ]
    }
   ],
   "source": [
    "a = 0\n",
    "b = 0\n",
    "term = multi_app_term(arithm_ops.mult_term(), nat_numbers.num_term(a), nat_numbers.num_term(b))\n",
    "\n",
    "print(term.normalize_no_lim(LeftmostOutermostStrategy())[0])"
   ],
   "metadata": {
    "collapsed": false
   }
  },
  {
   "cell_type": "code",
   "execution_count": 8,
   "outputs": [
    {
     "name": "stdout",
     "output_type": "stream",
     "text": [
      "(λq.(λw.w))\n"
     ]
    }
   ],
   "source": [
    "a = 4\n",
    "b = 0\n",
    "term = multi_app_term(arithm_ops.mult_term(), nat_numbers.num_term(a), nat_numbers.num_term(b))\n",
    "\n",
    "print(term.normalize_no_lim(LeftmostOutermostStrategy())[0])"
   ],
   "metadata": {
    "collapsed": false
   }
  },
  {
   "cell_type": "code",
   "execution_count": 9,
   "outputs": [
    {
     "name": "stdout",
     "output_type": "stream",
     "text": [
      "(λq.(λw.w))\n"
     ]
    }
   ],
   "source": [
    "a = 0\n",
    "b = 4\n",
    "term = multi_app_term(arithm_ops.mult_term(), nat_numbers.num_term(a), nat_numbers.num_term(b))\n",
    "\n",
    "print(term.normalize_no_lim(LeftmostOutermostStrategy())[0])"
   ],
   "metadata": {
    "collapsed": false
   }
  },
  {
   "cell_type": "code",
   "execution_count": 10,
   "outputs": [
    {
     "name": "stdout",
     "output_type": "stream",
     "text": [
      "(λq.(λw.(q (q w))))\n"
     ]
    }
   ],
   "source": [
    "a = 2\n",
    "b = 1\n",
    "term = multi_app_term(arithm_ops.mult_term(), nat_numbers.num_term(a), nat_numbers.num_term(b))\n",
    "\n",
    "print(term.normalize_no_lim(LeftmostOutermostStrategy())[0])"
   ],
   "metadata": {
    "collapsed": false
   }
  },
  {
   "cell_type": "code",
   "execution_count": 11,
   "outputs": [
    {
     "name": "stdout",
     "output_type": "stream",
     "text": [
      "(λq.(λw.(q (q (q (q (q w)))))))\n"
     ]
    }
   ],
   "source": [
    "a = 1\n",
    "b = 5\n",
    "term = multi_app_term(arithm_ops.mult_term(), nat_numbers.num_term(a), nat_numbers.num_term(b))\n",
    "\n",
    "print(term.normalize_no_lim(LeftmostOutermostStrategy())[0])"
   ],
   "metadata": {
    "collapsed": false
   }
  },
  {
   "cell_type": "code",
   "execution_count": 12,
   "outputs": [
    {
     "name": "stdout",
     "output_type": "stream",
     "text": [
      "(λw.(λq.(w (w (w (w (w (w (w (w q))))))))))\n"
     ]
    }
   ],
   "source": [
    "a = 2\n",
    "b = 4\n",
    "term = multi_app_term(arithm_ops.mult_term(), nat_numbers.num_term(a), nat_numbers.num_term(b))\n",
    "\n",
    "print(term.normalize_no_lim(LeftmostOutermostStrategy())[0])"
   ],
   "metadata": {
    "collapsed": false
   }
  },
  {
   "cell_type": "code",
   "execution_count": 13,
   "outputs": [
    {
     "name": "stdout",
     "output_type": "stream",
     "text": [
      "(λq.(λw.(q (q (q (q (q (q (q (q (q (q (q (q w))))))))))))))\n"
     ]
    }
   ],
   "source": [
    "a = 4\n",
    "b = 3\n",
    "term = multi_app_term(arithm_ops.mult_term(), nat_numbers.num_term(a), nat_numbers.num_term(b))\n",
    "\n",
    "print(term.normalize_no_lim(LeftmostOutermostStrategy())[0])"
   ],
   "metadata": {
    "collapsed": false
   }
  },
  {
   "cell_type": "code",
   "execution_count": null,
   "outputs": [],
   "source": [],
   "metadata": {
    "collapsed": false
   }
  }
 ],
 "metadata": {
  "kernelspec": {
   "display_name": "Python 3",
   "language": "python",
   "name": "python3"
  },
  "language_info": {
   "codemirror_mode": {
    "name": "ipython",
    "version": 2
   },
   "file_extension": ".py",
   "mimetype": "text/x-python",
   "name": "python",
   "nbconvert_exporter": "python",
   "pygments_lexer": "ipython2",
   "version": "2.7.6"
  }
 },
 "nbformat": 4,
 "nbformat_minor": 0
}
