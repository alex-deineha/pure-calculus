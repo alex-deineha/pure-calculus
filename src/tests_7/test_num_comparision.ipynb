{
 "cells": [
  {
   "cell_type": "code",
   "execution_count": 1,
   "metadata": {
    "collapsed": true
   },
   "outputs": [],
   "source": [
    "import sys\n",
    "import time\n",
    "\n",
    "sys.path.append(\"../\")\n",
    "from calculus.pseudonym import *\n",
    "from calculus.strategy import *\n",
    "from calculus import num_comparison\n",
    "from calculus import nat_numbers"
   ]
  },
  {
   "cell_type": "markdown",
   "source": [
    "# LEQ term test"
   ],
   "metadata": {
    "collapsed": false
   }
  },
  {
   "cell_type": "code",
   "execution_count": 4,
   "outputs": [
    {
     "name": "stdout",
     "output_type": "stream",
     "text": [
      "(λq.(λw.q))\n"
     ]
    }
   ],
   "source": [
    "a = 0\n",
    "b = 0\n",
    "term = multi_app_term(num_comparison.leq_term(), nat_numbers.num_term(a), nat_numbers.num_term(b))\n",
    "\n",
    "print(term.normalize(LeftmostOutermostStrategy())[0])"
   ],
   "metadata": {
    "collapsed": false
   }
  },
  {
   "cell_type": "code",
   "execution_count": 5,
   "outputs": [
    {
     "name": "stdout",
     "output_type": "stream",
     "text": [
      "(λq.(λw.w))\n"
     ]
    }
   ],
   "source": [
    "a = 4\n",
    "b = 0\n",
    "term = multi_app_term(num_comparison.leq_term(), nat_numbers.num_term(a), nat_numbers.num_term(b))\n",
    "\n",
    "print(term.normalize(LeftmostOutermostStrategy())[0])"
   ],
   "metadata": {
    "collapsed": false
   }
  },
  {
   "cell_type": "code",
   "execution_count": 6,
   "outputs": [
    {
     "name": "stdout",
     "output_type": "stream",
     "text": [
      "(λq.(λw.q))\n"
     ]
    }
   ],
   "source": [
    "a = 0\n",
    "b = 4\n",
    "term = multi_app_term(num_comparison.leq_term(), nat_numbers.num_term(a), nat_numbers.num_term(b))\n",
    "\n",
    "print(term.normalize(LeftmostOutermostStrategy())[0])"
   ],
   "metadata": {
    "collapsed": false
   }
  },
  {
   "cell_type": "code",
   "execution_count": 7,
   "outputs": [
    {
     "name": "stdout",
     "output_type": "stream",
     "text": [
      "(λq.(λw.q))\n"
     ]
    }
   ],
   "source": [
    "a = 5\n",
    "b = 10\n",
    "term = multi_app_term(num_comparison.leq_term(), nat_numbers.num_term(a), nat_numbers.num_term(b))\n",
    "\n",
    "print(term.normalize(LeftmostOutermostStrategy())[0])"
   ],
   "metadata": {
    "collapsed": false
   }
  },
  {
   "cell_type": "code",
   "execution_count": 8,
   "outputs": [
    {
     "name": "stdout",
     "output_type": "stream",
     "text": [
      "(λq.(λw.w))\n"
     ]
    }
   ],
   "source": [
    "a = 10\n",
    "b = 5\n",
    "term = multi_app_term(num_comparison.leq_term(), nat_numbers.num_term(a), nat_numbers.num_term(b))\n",
    "\n",
    "print(term.normalize(LeftmostOutermostStrategy())[0])"
   ],
   "metadata": {
    "collapsed": false
   }
  },
  {
   "cell_type": "code",
   "execution_count": 10,
   "outputs": [
    {
     "name": "stdout",
     "output_type": "stream",
     "text": [
      "(λq.(λw.w))\n"
     ]
    }
   ],
   "source": [
    "a = 10\n",
    "b = 5\n",
    "term = multi_app_term(num_comparison.leq_term(), nat_numbers.num_term(a), nat_numbers.num_term(b))\n",
    "\n",
    "print(term.normalize_no_lim(RightmostInnermostStrategy())[0])"
   ],
   "metadata": {
    "collapsed": false
   }
  },
  {
   "cell_type": "markdown",
   "source": [
    "# EQ term test"
   ],
   "metadata": {
    "collapsed": false
   }
  },
  {
   "cell_type": "code",
   "execution_count": 11,
   "outputs": [
    {
     "name": "stdout",
     "output_type": "stream",
     "text": [
      "(λq.(λw.q))\n"
     ]
    }
   ],
   "source": [
    "a = 0\n",
    "b = 0\n",
    "term = multi_app_term(num_comparison.eq_term(), nat_numbers.num_term(a), nat_numbers.num_term(b))\n",
    "\n",
    "print(term.normalize(LeftmostOutermostStrategy())[0])"
   ],
   "metadata": {
    "collapsed": false
   }
  },
  {
   "cell_type": "code",
   "execution_count": 12,
   "outputs": [
    {
     "name": "stdout",
     "output_type": "stream",
     "text": [
      "(λq.(λw.w))\n"
     ]
    }
   ],
   "source": [
    "a = 1\n",
    "b = 0\n",
    "term = multi_app_term(num_comparison.eq_term(), nat_numbers.num_term(a), nat_numbers.num_term(b))\n",
    "\n",
    "print(term.normalize(LeftmostOutermostStrategy())[0])"
   ],
   "metadata": {
    "collapsed": false
   }
  },
  {
   "cell_type": "code",
   "execution_count": 13,
   "outputs": [
    {
     "name": "stdout",
     "output_type": "stream",
     "text": [
      "(λq.(λw.w))\n"
     ]
    }
   ],
   "source": [
    "a = 0\n",
    "b = 1\n",
    "term = multi_app_term(num_comparison.eq_term(), nat_numbers.num_term(a), nat_numbers.num_term(b))\n",
    "\n",
    "print(term.normalize(LeftmostOutermostStrategy())[0])"
   ],
   "metadata": {
    "collapsed": false
   }
  },
  {
   "cell_type": "code",
   "execution_count": 14,
   "outputs": [
    {
     "name": "stdout",
     "output_type": "stream",
     "text": [
      "(λq.(λw.q))\n"
     ]
    }
   ],
   "source": [
    "a = 4\n",
    "b = 4\n",
    "term = multi_app_term(num_comparison.eq_term(), nat_numbers.num_term(a), nat_numbers.num_term(b))\n",
    "\n",
    "print(term.normalize(LeftmostOutermostStrategy())[0])"
   ],
   "metadata": {
    "collapsed": false
   }
  },
  {
   "cell_type": "code",
   "execution_count": 16,
   "outputs": [
    {
     "name": "stdout",
     "output_type": "stream",
     "text": [
      "(λq.(λw.w))\n"
     ]
    }
   ],
   "source": [
    "a = 10\n",
    "b = 5\n",
    "term = multi_app_term(num_comparison.eq_term(), nat_numbers.num_term(a), nat_numbers.num_term(b))\n",
    "\n",
    "print(term.normalize_no_lim(LeftmostOutermostStrategy())[0])"
   ],
   "metadata": {
    "collapsed": false
   }
  },
  {
   "cell_type": "code",
   "execution_count": 17,
   "outputs": [
    {
     "name": "stdout",
     "output_type": "stream",
     "text": [
      "(λq.(λw.w))\n"
     ]
    }
   ],
   "source": [
    "a = 10\n",
    "b = 5\n",
    "term = multi_app_term(num_comparison.eq_term(), nat_numbers.num_term(a), nat_numbers.num_term(b))\n",
    "\n",
    "print(term.normalize_no_lim(RightmostInnermostStrategy())[0])"
   ],
   "metadata": {
    "collapsed": false
   }
  },
  {
   "cell_type": "markdown",
   "source": [
    "# LT term test"
   ],
   "metadata": {
    "collapsed": false
   }
  },
  {
   "cell_type": "code",
   "execution_count": 18,
   "outputs": [
    {
     "name": "stdout",
     "output_type": "stream",
     "text": [
      "(λq.(λw.w))\n"
     ]
    }
   ],
   "source": [
    "a = 0\n",
    "b = 0\n",
    "term = multi_app_term(num_comparison.lt_term(), nat_numbers.num_term(a), nat_numbers.num_term(b))\n",
    "\n",
    "print(term.normalize_no_lim(LeftmostOutermostStrategy())[0])"
   ],
   "metadata": {
    "collapsed": false
   }
  },
  {
   "cell_type": "code",
   "execution_count": 19,
   "outputs": [
    {
     "name": "stdout",
     "output_type": "stream",
     "text": [
      "(λq.(λw.w))\n"
     ]
    }
   ],
   "source": [
    "a = 5\n",
    "b = 0\n",
    "term = multi_app_term(num_comparison.lt_term(), nat_numbers.num_term(a), nat_numbers.num_term(b))\n",
    "\n",
    "print(term.normalize_no_lim(LeftmostOutermostStrategy())[0])"
   ],
   "metadata": {
    "collapsed": false
   }
  },
  {
   "cell_type": "code",
   "execution_count": 20,
   "outputs": [
    {
     "name": "stdout",
     "output_type": "stream",
     "text": [
      "(λq.(λw.w))\n"
     ]
    }
   ],
   "source": [
    "a = 5\n",
    "b = 2\n",
    "term = multi_app_term(num_comparison.lt_term(), nat_numbers.num_term(a), nat_numbers.num_term(b))\n",
    "\n",
    "print(term.normalize_no_lim(LeftmostOutermostStrategy())[0])"
   ],
   "metadata": {
    "collapsed": false
   }
  },
  {
   "cell_type": "code",
   "execution_count": 21,
   "outputs": [
    {
     "name": "stdout",
     "output_type": "stream",
     "text": [
      "(λq.(λw.q))\n"
     ]
    }
   ],
   "source": [
    "a = 0\n",
    "b = 5\n",
    "term = multi_app_term(num_comparison.lt_term(), nat_numbers.num_term(a), nat_numbers.num_term(b))\n",
    "\n",
    "print(term.normalize_no_lim(LeftmostOutermostStrategy())[0])"
   ],
   "metadata": {
    "collapsed": false
   }
  },
  {
   "cell_type": "code",
   "execution_count": 22,
   "outputs": [
    {
     "name": "stdout",
     "output_type": "stream",
     "text": [
      "(λw.(λq.w))\n"
     ]
    }
   ],
   "source": [
    "a = 2\n",
    "b = 5\n",
    "term = multi_app_term(num_comparison.lt_term(), nat_numbers.num_term(a), nat_numbers.num_term(b))\n",
    "\n",
    "print(term.normalize_no_lim(LeftmostOutermostStrategy())[0])"
   ],
   "metadata": {
    "collapsed": false
   }
  },
  {
   "cell_type": "markdown",
   "source": [
    "# NEQ term test"
   ],
   "metadata": {
    "collapsed": false
   }
  },
  {
   "cell_type": "code",
   "execution_count": 23,
   "outputs": [
    {
     "name": "stdout",
     "output_type": "stream",
     "text": [
      "(λq.(λw.w))\n"
     ]
    }
   ],
   "source": [
    "a = 0\n",
    "b = 0\n",
    "term = multi_app_term(num_comparison.neq_term(), nat_numbers.num_term(a), nat_numbers.num_term(b))\n",
    "\n",
    "print(term.normalize_no_lim(LeftmostOutermostStrategy())[0])"
   ],
   "metadata": {
    "collapsed": false
   }
  },
  {
   "cell_type": "code",
   "execution_count": 29,
   "outputs": [
    {
     "name": "stdout",
     "output_type": "stream",
     "text": [
      "(λq.(λw.w))\n"
     ]
    }
   ],
   "source": [
    "a = 4\n",
    "b = 4\n",
    "term = multi_app_term(num_comparison.neq_term(), nat_numbers.num_term(a), nat_numbers.num_term(b))\n",
    "\n",
    "print(term.normalize_no_lim(LeftmostOutermostStrategy())[0])"
   ],
   "metadata": {
    "collapsed": false
   }
  },
  {
   "cell_type": "code",
   "execution_count": 30,
   "outputs": [
    {
     "name": "stdout",
     "output_type": "stream",
     "text": [
      "(λq.(λw.q))\n"
     ]
    }
   ],
   "source": [
    "a = 0\n",
    "b = 2\n",
    "term = multi_app_term(num_comparison.neq_term(), nat_numbers.num_term(a), nat_numbers.num_term(b))\n",
    "\n",
    "print(term.normalize_no_lim(LeftmostOutermostStrategy())[0])"
   ],
   "metadata": {
    "collapsed": false
   }
  },
  {
   "cell_type": "code",
   "execution_count": 31,
   "outputs": [
    {
     "name": "stdout",
     "output_type": "stream",
     "text": [
      "(λq.(λw.q))\n"
     ]
    }
   ],
   "source": [
    "a = 4\n",
    "b = 0\n",
    "term = multi_app_term(num_comparison.neq_term(), nat_numbers.num_term(a), nat_numbers.num_term(b))\n",
    "\n",
    "print(term.normalize_no_lim(LeftmostOutermostStrategy())[0])"
   ],
   "metadata": {
    "collapsed": false
   }
  },
  {
   "cell_type": "code",
   "execution_count": 32,
   "outputs": [
    {
     "name": "stdout",
     "output_type": "stream",
     "text": [
      "(λq.(λw.q))\n"
     ]
    }
   ],
   "source": [
    "a = 5\n",
    "b = 3\n",
    "term = multi_app_term(num_comparison.neq_term(), nat_numbers.num_term(a), nat_numbers.num_term(b))\n",
    "\n",
    "print(term.normalize_no_lim(LeftmostOutermostStrategy())[0])"
   ],
   "metadata": {
    "collapsed": false
   }
  },
  {
   "cell_type": "code",
   "execution_count": 34,
   "outputs": [
    {
     "name": "stdout",
     "output_type": "stream",
     "text": [
      "(λq.(λw.q))\n"
     ]
    }
   ],
   "source": [
    "a = 2\n",
    "b = 8\n",
    "term = multi_app_term(num_comparison.neq_term(), nat_numbers.num_term(a), nat_numbers.num_term(b))\n",
    "\n",
    "print(term.normalize_no_lim(LeftmostOutermostStrategy())[0])"
   ],
   "metadata": {
    "collapsed": false
   }
  },
  {
   "cell_type": "markdown",
   "source": [
    "# GEQ term test"
   ],
   "metadata": {
    "collapsed": false
   }
  },
  {
   "cell_type": "code",
   "execution_count": 2,
   "outputs": [
    {
     "name": "stdout",
     "output_type": "stream",
     "text": [
      "(λq.(λw.q))\n"
     ]
    }
   ],
   "source": [
    "a = 0\n",
    "b = 0\n",
    "term = multi_app_term(num_comparison.geq_term(), nat_numbers.num_term(a), nat_numbers.num_term(b))\n",
    "\n",
    "print(term.normalize_no_lim(LeftmostOutermostStrategy())[0])"
   ],
   "metadata": {
    "collapsed": false
   }
  },
  {
   "cell_type": "code",
   "execution_count": 3,
   "outputs": [
    {
     "name": "stdout",
     "output_type": "stream",
     "text": [
      "(λq.(λw.q))\n"
     ]
    }
   ],
   "source": [
    "a = 1\n",
    "b = 0\n",
    "term = multi_app_term(num_comparison.geq_term(), nat_numbers.num_term(a), nat_numbers.num_term(b))\n",
    "\n",
    "print(term.normalize_no_lim(LeftmostOutermostStrategy())[0])"
   ],
   "metadata": {
    "collapsed": false
   }
  },
  {
   "cell_type": "code",
   "execution_count": 4,
   "outputs": [
    {
     "name": "stdout",
     "output_type": "stream",
     "text": [
      "(λw.(λq.w))\n"
     ]
    }
   ],
   "source": [
    "a = 5\n",
    "b = 3\n",
    "term = multi_app_term(num_comparison.geq_term(), nat_numbers.num_term(a), nat_numbers.num_term(b))\n",
    "\n",
    "print(term.normalize_no_lim(LeftmostOutermostStrategy())[0])"
   ],
   "metadata": {
    "collapsed": false
   }
  },
  {
   "cell_type": "code",
   "execution_count": 5,
   "outputs": [
    {
     "name": "stdout",
     "output_type": "stream",
     "text": [
      "(λw.(λq.q))\n"
     ]
    }
   ],
   "source": [
    "a = 0\n",
    "b = 1\n",
    "term = multi_app_term(num_comparison.geq_term(), nat_numbers.num_term(a), nat_numbers.num_term(b))\n",
    "\n",
    "print(term.normalize_no_lim(LeftmostOutermostStrategy())[0])"
   ],
   "metadata": {
    "collapsed": false
   }
  },
  {
   "cell_type": "code",
   "execution_count": 6,
   "outputs": [
    {
     "name": "stdout",
     "output_type": "stream",
     "text": [
      "(λq.(λw.w))\n"
     ]
    }
   ],
   "source": [
    "a = 3\n",
    "b = 6\n",
    "term = multi_app_term(num_comparison.geq_term(), nat_numbers.num_term(a), nat_numbers.num_term(b))\n",
    "\n",
    "print(term.normalize_no_lim(LeftmostOutermostStrategy())[0])"
   ],
   "metadata": {
    "collapsed": false
   }
  },
  {
   "cell_type": "markdown",
   "source": [
    "# GT term test"
   ],
   "metadata": {
    "collapsed": false
   }
  },
  {
   "cell_type": "code",
   "execution_count": 7,
   "outputs": [
    {
     "name": "stdout",
     "output_type": "stream",
     "text": [
      "(λq.(λw.w))\n"
     ]
    }
   ],
   "source": [
    "a = 0\n",
    "b = 0\n",
    "term = multi_app_term(num_comparison.gt_term(), nat_numbers.num_term(a), nat_numbers.num_term(b))\n",
    "\n",
    "print(term.normalize_no_lim(LeftmostOutermostStrategy())[0])"
   ],
   "metadata": {
    "collapsed": false
   }
  },
  {
   "cell_type": "code",
   "execution_count": 8,
   "outputs": [
    {
     "name": "stdout",
     "output_type": "stream",
     "text": [
      "(λw.(λq.w))\n"
     ]
    }
   ],
   "source": [
    "a = 1\n",
    "b = 0\n",
    "term = multi_app_term(num_comparison.gt_term(), nat_numbers.num_term(a), nat_numbers.num_term(b))\n",
    "\n",
    "print(term.normalize_no_lim(LeftmostOutermostStrategy())[0])"
   ],
   "metadata": {
    "collapsed": false
   }
  },
  {
   "cell_type": "code",
   "execution_count": 9,
   "outputs": [
    {
     "name": "stdout",
     "output_type": "stream",
     "text": [
      "(λq.(λw.q))\n"
     ]
    }
   ],
   "source": [
    "a = 5\n",
    "b = 4\n",
    "term = multi_app_term(num_comparison.gt_term(), nat_numbers.num_term(a), nat_numbers.num_term(b))\n",
    "\n",
    "print(term.normalize_no_lim(LeftmostOutermostStrategy())[0])"
   ],
   "metadata": {
    "collapsed": false
   }
  },
  {
   "cell_type": "code",
   "execution_count": 10,
   "outputs": [
    {
     "name": "stdout",
     "output_type": "stream",
     "text": [
      "(λq.(λw.w))\n"
     ]
    }
   ],
   "source": [
    "a = 0\n",
    "b = 3\n",
    "term = multi_app_term(num_comparison.gt_term(), nat_numbers.num_term(a), nat_numbers.num_term(b))\n",
    "\n",
    "print(term.normalize_no_lim(LeftmostOutermostStrategy())[0])"
   ],
   "metadata": {
    "collapsed": false
   }
  },
  {
   "cell_type": "code",
   "execution_count": 11,
   "outputs": [
    {
     "name": "stdout",
     "output_type": "stream",
     "text": [
      "(λq.(λw.w))\n"
     ]
    }
   ],
   "source": [
    "a = 3\n",
    "b = 5\n",
    "term = multi_app_term(num_comparison.gt_term(), nat_numbers.num_term(a), nat_numbers.num_term(b))\n",
    "\n",
    "print(term.normalize_no_lim(LeftmostOutermostStrategy())[0])"
   ],
   "metadata": {
    "collapsed": false
   }
  },
  {
   "cell_type": "code",
   "execution_count": 12,
   "outputs": [
    {
     "name": "stdout",
     "output_type": "stream",
     "text": [
      "(λq.(λw.w))\n"
     ]
    }
   ],
   "source": [
    "a = 4\n",
    "b = 4\n",
    "term = multi_app_term(num_comparison.gt_term(), nat_numbers.num_term(a), nat_numbers.num_term(b))\n",
    "\n",
    "print(term.normalize_no_lim(LeftmostOutermostStrategy())[0])"
   ],
   "metadata": {
    "collapsed": false
   }
  },
  {
   "cell_type": "code",
   "execution_count": null,
   "outputs": [],
   "source": [],
   "metadata": {
    "collapsed": false
   }
  }
 ],
 "metadata": {
  "kernelspec": {
   "display_name": "Python 3",
   "language": "python",
   "name": "python3"
  },
  "language_info": {
   "codemirror_mode": {
    "name": "ipython",
    "version": 2
   },
   "file_extension": ".py",
   "mimetype": "text/x-python",
   "name": "python",
   "nbconvert_exporter": "python",
   "pygments_lexer": "ipython2",
   "version": "2.7.6"
  }
 },
 "nbformat": 4,
 "nbformat_minor": 0
}
