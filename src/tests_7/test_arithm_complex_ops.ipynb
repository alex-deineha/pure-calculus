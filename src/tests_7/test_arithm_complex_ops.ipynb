{
 "cells": [
  {
   "cell_type": "code",
   "execution_count": 1,
   "metadata": {
    "collapsed": true
   },
   "outputs": [],
   "source": [
    "import sys\n",
    "import time\n",
    "\n",
    "sys.path.append(\"../\")\n",
    "from calculus.pseudonym import *\n",
    "from calculus.strategy import *\n",
    "from calculus import arithm_ops, nat_numbers, num_comparison, pairs, arithm_ops, combinators, arithm_complex_ops"
   ]
  },
  {
   "cell_type": "markdown",
   "source": [
    "# GCD_v0 test term"
   ],
   "metadata": {
    "collapsed": false
   }
  },
  {
   "cell_type": "code",
   "execution_count": 3,
   "outputs": [
    {
     "name": "stdout",
     "output_type": "stream",
     "text": [
      "(λq.(λw.(q w)))\n"
     ]
    }
   ],
   "source": [
    "a = 0\n",
    "b = 0\n",
    "term = multi_app_term(arithm_complex_ops.gcd_term_v0(), nat_numbers.num_term(a), nat_numbers.num_term(b))\n",
    "print(term.normalize_no_lim(LeftmostOutermostStrategy())[0])"
   ],
   "metadata": {
    "collapsed": false
   }
  },
  {
   "cell_type": "code",
   "execution_count": 4,
   "outputs": [
    {
     "name": "stdout",
     "output_type": "stream",
     "text": [
      "(λq.(λw.(q w)))\n"
     ]
    }
   ],
   "source": [
    "a = 4\n",
    "b = 0\n",
    "term = multi_app_term(arithm_complex_ops.gcd_term_v0(), nat_numbers.num_term(a), nat_numbers.num_term(b))\n",
    "print(term.normalize_no_lim(LeftmostOutermostStrategy())[0])"
   ],
   "metadata": {
    "collapsed": false
   }
  },
  {
   "cell_type": "code",
   "execution_count": 5,
   "outputs": [
    {
     "name": "stdout",
     "output_type": "stream",
     "text": [
      "(λq.(λw.(q w)))\n"
     ]
    }
   ],
   "source": [
    "a = 0\n",
    "b = 4\n",
    "term = multi_app_term(arithm_complex_ops.gcd_term_v0(), nat_numbers.num_term(a), nat_numbers.num_term(b))\n",
    "print(term.normalize_no_lim(LeftmostOutermostStrategy())[0])"
   ],
   "metadata": {
    "collapsed": false
   }
  },
  {
   "cell_type": "code",
   "execution_count": 6,
   "outputs": [
    {
     "name": "stdout",
     "output_type": "stream",
     "text": [
      "(λq.(λw.(q (q w))))\n"
     ]
    }
   ],
   "source": [
    "a = 2\n",
    "b = 4\n",
    "term = multi_app_term(arithm_complex_ops.gcd_term_v0(), nat_numbers.num_term(a), nat_numbers.num_term(b))\n",
    "print(term.normalize_no_lim(LeftmostOutermostStrategy())[0])"
   ],
   "metadata": {
    "collapsed": false
   }
  },
  {
   "cell_type": "code",
   "execution_count": 7,
   "outputs": [
    {
     "name": "stdout",
     "output_type": "stream",
     "text": [
      "(λq.(λw.(q (q w))))\n"
     ]
    }
   ],
   "source": [
    "a = 4\n",
    "b = 2\n",
    "term = multi_app_term(arithm_complex_ops.gcd_term_v0(), nat_numbers.num_term(a), nat_numbers.num_term(b))\n",
    "print(term.normalize_no_lim(LeftmostOutermostStrategy())[0])"
   ],
   "metadata": {
    "collapsed": false
   }
  },
  {
   "cell_type": "code",
   "execution_count": 8,
   "outputs": [
    {
     "name": "stdout",
     "output_type": "stream",
     "text": [
      "(λq.(λw.(q w)))\n"
     ]
    }
   ],
   "source": [
    "a = 5\n",
    "b = 3\n",
    "term = multi_app_term(arithm_complex_ops.gcd_term_v0(), nat_numbers.num_term(a), nat_numbers.num_term(b))\n",
    "print(term.normalize_no_lim(LeftmostOutermostStrategy())[0])"
   ],
   "metadata": {
    "collapsed": false
   }
  },
  {
   "cell_type": "code",
   "execution_count": 9,
   "outputs": [
    {
     "name": "stdout",
     "output_type": "stream",
     "text": [
      "(λq.(λw.(q w)))\n"
     ]
    }
   ],
   "source": [
    "a = 3\n",
    "b = 5\n",
    "term = multi_app_term(arithm_complex_ops.gcd_term_v0(), nat_numbers.num_term(a), nat_numbers.num_term(b))\n",
    "print(term.normalize_no_lim(LeftmostOutermostStrategy())[0])"
   ],
   "metadata": {
    "collapsed": false
   }
  },
  {
   "cell_type": "markdown",
   "source": [
    "# GCD_v1 term test"
   ],
   "metadata": {
    "collapsed": false
   }
  },
  {
   "cell_type": "code",
   "execution_count": 10,
   "outputs": [
    {
     "name": "stdout",
     "output_type": "stream",
     "text": [
      "(λq.(λw.(q w)))\n"
     ]
    }
   ],
   "source": [
    "a = 0\n",
    "b = 0\n",
    "term = multi_app_term(arithm_complex_ops.gcd_term_v1(), nat_numbers.num_term(a), nat_numbers.num_term(b))\n",
    "print(term.normalize_no_lim(LeftmostOutermostStrategy())[0])"
   ],
   "metadata": {
    "collapsed": false
   }
  },
  {
   "cell_type": "code",
   "execution_count": 11,
   "outputs": [
    {
     "name": "stdout",
     "output_type": "stream",
     "text": [
      "(λq.(λw.(q w)))\n"
     ]
    }
   ],
   "source": [
    "a = 4\n",
    "b = 0\n",
    "term = multi_app_term(arithm_complex_ops.gcd_term_v1(), nat_numbers.num_term(a), nat_numbers.num_term(b))\n",
    "print(term.normalize_no_lim(LeftmostOutermostStrategy())[0])"
   ],
   "metadata": {
    "collapsed": false
   }
  },
  {
   "cell_type": "code",
   "execution_count": 12,
   "outputs": [
    {
     "name": "stdout",
     "output_type": "stream",
     "text": [
      "(λq.(λw.(q w)))\n"
     ]
    }
   ],
   "source": [
    "a = 0\n",
    "b = 4\n",
    "term = multi_app_term(arithm_complex_ops.gcd_term_v1(), nat_numbers.num_term(a), nat_numbers.num_term(b))\n",
    "print(term.normalize_no_lim(LeftmostOutermostStrategy())[0])"
   ],
   "metadata": {
    "collapsed": false
   }
  },
  {
   "cell_type": "code",
   "execution_count": 13,
   "outputs": [
    {
     "name": "stdout",
     "output_type": "stream",
     "text": [
      "(λw.(λq.(w (w q))))\n"
     ]
    }
   ],
   "source": [
    "a = 2\n",
    "b = 4\n",
    "term = multi_app_term(arithm_complex_ops.gcd_term_v1(), nat_numbers.num_term(a), nat_numbers.num_term(b))\n",
    "print(term.normalize_no_lim(LeftmostOutermostStrategy())[0])"
   ],
   "metadata": {
    "collapsed": false
   }
  },
  {
   "cell_type": "code",
   "execution_count": 14,
   "outputs": [
    {
     "name": "stdout",
     "output_type": "stream",
     "text": [
      "(λq.(λw.(q (q w))))\n"
     ]
    }
   ],
   "source": [
    "a = 4\n",
    "b = 2\n",
    "term = multi_app_term(arithm_complex_ops.gcd_term_v1(), nat_numbers.num_term(a), nat_numbers.num_term(b))\n",
    "print(term.normalize_no_lim(LeftmostOutermostStrategy())[0])"
   ],
   "metadata": {
    "collapsed": false
   }
  },
  {
   "cell_type": "code",
   "execution_count": 15,
   "outputs": [
    {
     "name": "stdout",
     "output_type": "stream",
     "text": [
      "(λq.(λw.(q w)))\n"
     ]
    }
   ],
   "source": [
    "a = 5\n",
    "b = 3\n",
    "term = multi_app_term(arithm_complex_ops.gcd_term_v1(), nat_numbers.num_term(a), nat_numbers.num_term(b))\n",
    "print(term.normalize_no_lim(LeftmostOutermostStrategy())[0])"
   ],
   "metadata": {
    "collapsed": false
   }
  },
  {
   "cell_type": "code",
   "execution_count": 16,
   "outputs": [
    {
     "name": "stdout",
     "output_type": "stream",
     "text": [
      "(λq.(λw.(q w)))\n"
     ]
    }
   ],
   "source": [
    "a = 3\n",
    "b = 5\n",
    "term = multi_app_term(arithm_complex_ops.gcd_term_v1(), nat_numbers.num_term(a), nat_numbers.num_term(b))\n",
    "print(term.normalize_no_lim(LeftmostOutermostStrategy())[0])"
   ],
   "metadata": {
    "collapsed": false
   }
  },
  {
   "cell_type": "markdown",
   "source": [
    "# gcd_v3 term test"
   ],
   "metadata": {
    "collapsed": false
   }
  },
  {
   "cell_type": "code",
   "execution_count": 10,
   "outputs": [
    {
     "name": "stdout",
     "output_type": "stream",
     "text": [
      "24\n",
      "(λq.(λw.w))\n"
     ]
    }
   ],
   "source": [
    "a = 0\n",
    "b = 0\n",
    "term = multi_app_term(arithm_complex_ops.gcd_term_v3(), nat_numbers.num_term(a), nat_numbers.num_term(b))\n",
    "norm_term, steps = term.normalize_no_lim(LeftmostOutermostStrategy())\n",
    "print(steps)\n",
    "print(norm_term)"
   ],
   "metadata": {
    "collapsed": false
   }
  },
  {
   "cell_type": "code",
   "execution_count": 11,
   "outputs": [
    {
     "name": "stdout",
     "output_type": "stream",
     "text": [
      "25\n",
      "(λq.(λw.(q (q (q (q w))))))\n"
     ]
    }
   ],
   "source": [
    "a = 4\n",
    "b = 0\n",
    "term = multi_app_term(arithm_complex_ops.gcd_term_v3(), nat_numbers.num_term(a), nat_numbers.num_term(b))\n",
    "norm_term, steps = term.normalize_no_lim(LeftmostOutermostStrategy())\n",
    "print(steps)\n",
    "print(norm_term)"
   ],
   "metadata": {
    "collapsed": false
   }
  },
  {
   "cell_type": "code",
   "execution_count": 12,
   "outputs": [
    {
     "name": "stdout",
     "output_type": "stream",
     "text": [
      "60\n",
      "(λq.(λw.(q (q (q (q w))))))\n"
     ]
    }
   ],
   "source": [
    "a = 0\n",
    "b = 4\n",
    "term = multi_app_term(arithm_complex_ops.gcd_term_v3(), nat_numbers.num_term(a), nat_numbers.num_term(b))\n",
    "norm_term, steps = term.normalize_no_lim(LeftmostOutermostStrategy())\n",
    "print(steps)\n",
    "print(norm_term)"
   ],
   "metadata": {
    "collapsed": false
   }
  },
  {
   "cell_type": "code",
   "execution_count": 5,
   "outputs": [
    {
     "name": "stdout",
     "output_type": "stream",
     "text": [
      "(λq.(λw.(q (q w))))\n"
     ]
    }
   ],
   "source": [
    "a = 2\n",
    "b = 4\n",
    "term = multi_app_term(arithm_complex_ops.gcd_term_v3(), nat_numbers.num_term(a), nat_numbers.num_term(b))\n",
    "print(term.normalize_no_lim(LeftmostOutermostStrategy())[0])"
   ],
   "metadata": {
    "collapsed": false
   }
  },
  {
   "cell_type": "code",
   "execution_count": 6,
   "outputs": [
    {
     "name": "stdout",
     "output_type": "stream",
     "text": [
      "(λq.(λw.(q (q w))))\n"
     ]
    }
   ],
   "source": [
    "a = 4\n",
    "b = 2\n",
    "term = multi_app_term(arithm_complex_ops.gcd_term_v3(), nat_numbers.num_term(a), nat_numbers.num_term(b))\n",
    "print(term.normalize_no_lim(LeftmostOutermostStrategy())[0])"
   ],
   "metadata": {
    "collapsed": false
   }
  },
  {
   "cell_type": "code",
   "execution_count": 2,
   "outputs": [
    {
     "ename": "KeyboardInterrupt",
     "evalue": "",
     "output_type": "error",
     "traceback": [
      "\u001B[1;31m---------------------------------------------------------------------------\u001B[0m",
      "\u001B[1;31mKeyboardInterrupt\u001B[0m                         Traceback (most recent call last)",
      "Cell \u001B[1;32mIn[2], line 4\u001B[0m\n\u001B[0;32m      2\u001B[0m b \u001B[38;5;241m=\u001B[39m \u001B[38;5;241m3\u001B[39m\n\u001B[0;32m      3\u001B[0m term \u001B[38;5;241m=\u001B[39m multi_app_term(arithm_complex_ops\u001B[38;5;241m.\u001B[39mgcd_term_v3(), nat_numbers\u001B[38;5;241m.\u001B[39mnum_term(a), nat_numbers\u001B[38;5;241m.\u001B[39mnum_term(b))\n\u001B[1;32m----> 4\u001B[0m norm_term, steps \u001B[38;5;241m=\u001B[39m \u001B[43mterm\u001B[49m\u001B[38;5;241;43m.\u001B[39;49m\u001B[43mnormalize_no_lim\u001B[49m\u001B[43m(\u001B[49m\u001B[43mLeftmostOutermostStrategy\u001B[49m\u001B[43m(\u001B[49m\u001B[43m)\u001B[49m\u001B[43m)\u001B[49m\n\u001B[0;32m      5\u001B[0m \u001B[38;5;28mprint\u001B[39m(steps)\n\u001B[0;32m      6\u001B[0m \u001B[38;5;28mprint\u001B[39m(norm_term)\n",
      "File \u001B[1;32mD:\\documents\\python_projects\\pure-calculus\\src\\calculus\\term.py:177\u001B[0m, in \u001B[0;36mTerm.normalize_no_lim\u001B[1;34m(self, strategy)\u001B[0m\n\u001B[0;32m    175\u001B[0m \u001B[38;5;28;01mwhile\u001B[39;00m term\u001B[38;5;241m.\u001B[39mredexes \u001B[38;5;241m!=\u001B[39m []:\n\u001B[0;32m    176\u001B[0m     term \u001B[38;5;241m=\u001B[39m term\u001B[38;5;241m.\u001B[39m_betaConversion(strategy)\n\u001B[1;32m--> 177\u001B[0m     term \u001B[38;5;241m=\u001B[39m \u001B[43mterm\u001B[49m\u001B[38;5;241;43m.\u001B[39;49m\u001B[43m_updateBoundVariables\u001B[49m\u001B[43m(\u001B[49m\u001B[43m)\u001B[49m\n\u001B[0;32m    178\u001B[0m     count \u001B[38;5;241m+\u001B[39m\u001B[38;5;241m=\u001B[39m \u001B[38;5;241m1\u001B[39m\n\u001B[0;32m    179\u001B[0m \u001B[38;5;28;01mreturn\u001B[39;00m term, count\n",
      "File \u001B[1;32mD:\\documents\\python_projects\\pure-calculus\\src\\calculus\\term.py:263\u001B[0m, in \u001B[0;36mTerm._updateBoundVariables\u001B[1;34m(self)\u001B[0m\n\u001B[0;32m    260\u001B[0m     \u001B[38;5;28;01mreturn\u001B[39;00m \u001B[38;5;28mself\u001B[39m\n\u001B[0;32m    261\u001B[0m \u001B[38;5;28;01melif\u001B[39;00m \u001B[38;5;28mself\u001B[39m\u001B[38;5;241m.\u001B[39misApplication:\n\u001B[0;32m    262\u001B[0m     \u001B[38;5;28;01mreturn\u001B[39;00m Application(\n\u001B[1;32m--> 263\u001B[0m         \u001B[38;5;28;43mself\u001B[39;49m\u001B[38;5;241;43m.\u001B[39;49m\u001B[43m_sub\u001B[49m\u001B[38;5;241;43m.\u001B[39;49m\u001B[43m_updateBoundVariables\u001B[49m\u001B[43m(\u001B[49m\u001B[43m)\u001B[49m, \u001B[38;5;28mself\u001B[39m\u001B[38;5;241m.\u001B[39m_obj\u001B[38;5;241m.\u001B[39m_updateBoundVariables()\n\u001B[0;32m    264\u001B[0m     )\n\u001B[0;32m    265\u001B[0m \u001B[38;5;28;01melse\u001B[39;00m:  \u001B[38;5;66;03m# self is Abstraction\u001B[39;00m\n\u001B[0;32m    266\u001B[0m     newVar \u001B[38;5;241m=\u001B[39m Var()\n",
      "File \u001B[1;32mD:\\documents\\python_projects\\pure-calculus\\src\\calculus\\term.py:263\u001B[0m, in \u001B[0;36mTerm._updateBoundVariables\u001B[1;34m(self)\u001B[0m\n\u001B[0;32m    260\u001B[0m     \u001B[38;5;28;01mreturn\u001B[39;00m \u001B[38;5;28mself\u001B[39m\n\u001B[0;32m    261\u001B[0m \u001B[38;5;28;01melif\u001B[39;00m \u001B[38;5;28mself\u001B[39m\u001B[38;5;241m.\u001B[39misApplication:\n\u001B[0;32m    262\u001B[0m     \u001B[38;5;28;01mreturn\u001B[39;00m Application(\n\u001B[1;32m--> 263\u001B[0m         \u001B[38;5;28;43mself\u001B[39;49m\u001B[38;5;241;43m.\u001B[39;49m\u001B[43m_sub\u001B[49m\u001B[38;5;241;43m.\u001B[39;49m\u001B[43m_updateBoundVariables\u001B[49m\u001B[43m(\u001B[49m\u001B[43m)\u001B[49m, \u001B[38;5;28mself\u001B[39m\u001B[38;5;241m.\u001B[39m_obj\u001B[38;5;241m.\u001B[39m_updateBoundVariables()\n\u001B[0;32m    264\u001B[0m     )\n\u001B[0;32m    265\u001B[0m \u001B[38;5;28;01melse\u001B[39;00m:  \u001B[38;5;66;03m# self is Abstraction\u001B[39;00m\n\u001B[0;32m    266\u001B[0m     newVar \u001B[38;5;241m=\u001B[39m Var()\n",
      "    \u001B[1;31m[... skipping similar frames: Term._updateBoundVariables at line 263 (9 times)]\u001B[0m\n",
      "File \u001B[1;32mD:\\documents\\python_projects\\pure-calculus\\src\\calculus\\term.py:263\u001B[0m, in \u001B[0;36mTerm._updateBoundVariables\u001B[1;34m(self)\u001B[0m\n\u001B[0;32m    260\u001B[0m     \u001B[38;5;28;01mreturn\u001B[39;00m \u001B[38;5;28mself\u001B[39m\n\u001B[0;32m    261\u001B[0m \u001B[38;5;28;01melif\u001B[39;00m \u001B[38;5;28mself\u001B[39m\u001B[38;5;241m.\u001B[39misApplication:\n\u001B[0;32m    262\u001B[0m     \u001B[38;5;28;01mreturn\u001B[39;00m Application(\n\u001B[1;32m--> 263\u001B[0m         \u001B[38;5;28;43mself\u001B[39;49m\u001B[38;5;241;43m.\u001B[39;49m\u001B[43m_sub\u001B[49m\u001B[38;5;241;43m.\u001B[39;49m\u001B[43m_updateBoundVariables\u001B[49m\u001B[43m(\u001B[49m\u001B[43m)\u001B[49m, \u001B[38;5;28mself\u001B[39m\u001B[38;5;241m.\u001B[39m_obj\u001B[38;5;241m.\u001B[39m_updateBoundVariables()\n\u001B[0;32m    264\u001B[0m     )\n\u001B[0;32m    265\u001B[0m \u001B[38;5;28;01melse\u001B[39;00m:  \u001B[38;5;66;03m# self is Abstraction\u001B[39;00m\n\u001B[0;32m    266\u001B[0m     newVar \u001B[38;5;241m=\u001B[39m Var()\n",
      "File \u001B[1;32mD:\\documents\\python_projects\\pure-calculus\\src\\calculus\\term.py:271\u001B[0m, in \u001B[0;36mTerm._updateBoundVariables\u001B[1;34m(self)\u001B[0m\n\u001B[0;32m    265\u001B[0m \u001B[38;5;28;01melse\u001B[39;00m:  \u001B[38;5;66;03m# self is Abstraction\u001B[39;00m\n\u001B[0;32m    266\u001B[0m     newVar \u001B[38;5;241m=\u001B[39m Var()\n\u001B[0;32m    267\u001B[0m     \u001B[38;5;28;01mreturn\u001B[39;00m Abstraction(\n\u001B[0;32m    268\u001B[0m         newVar,\n\u001B[0;32m    269\u001B[0m         \u001B[38;5;28;43mself\u001B[39;49m\u001B[38;5;241;43m.\u001B[39;49m\u001B[43m_body\u001B[49m\u001B[38;5;241;43m.\u001B[39;49m\u001B[43m_replaceVariable\u001B[49m\u001B[43m(\u001B[49m\n\u001B[0;32m    270\u001B[0m \u001B[43m            \u001B[49m\u001B[38;5;28;43mself\u001B[39;49m\u001B[38;5;241;43m.\u001B[39;49m\u001B[43m_head\u001B[49m\u001B[43m,\u001B[49m\u001B[43m \u001B[49m\u001B[43mAtom\u001B[49m\u001B[43m(\u001B[49m\u001B[43mnewVar\u001B[49m\u001B[43m)\u001B[49m\n\u001B[1;32m--> 271\u001B[0m \u001B[43m        \u001B[49m\u001B[43m)\u001B[49m\u001B[38;5;241;43m.\u001B[39;49m\u001B[43m_updateBoundVariables\u001B[49m\u001B[43m(\u001B[49m\u001B[43m)\u001B[49m,\n\u001B[0;32m    272\u001B[0m     )\n",
      "File \u001B[1;32mD:\\documents\\python_projects\\pure-calculus\\src\\calculus\\term.py:271\u001B[0m, in \u001B[0;36mTerm._updateBoundVariables\u001B[1;34m(self)\u001B[0m\n\u001B[0;32m    265\u001B[0m \u001B[38;5;28;01melse\u001B[39;00m:  \u001B[38;5;66;03m# self is Abstraction\u001B[39;00m\n\u001B[0;32m    266\u001B[0m     newVar \u001B[38;5;241m=\u001B[39m Var()\n\u001B[0;32m    267\u001B[0m     \u001B[38;5;28;01mreturn\u001B[39;00m Abstraction(\n\u001B[0;32m    268\u001B[0m         newVar,\n\u001B[0;32m    269\u001B[0m         \u001B[38;5;28;43mself\u001B[39;49m\u001B[38;5;241;43m.\u001B[39;49m\u001B[43m_body\u001B[49m\u001B[38;5;241;43m.\u001B[39;49m\u001B[43m_replaceVariable\u001B[49m\u001B[43m(\u001B[49m\n\u001B[0;32m    270\u001B[0m \u001B[43m            \u001B[49m\u001B[38;5;28;43mself\u001B[39;49m\u001B[38;5;241;43m.\u001B[39;49m\u001B[43m_head\u001B[49m\u001B[43m,\u001B[49m\u001B[43m \u001B[49m\u001B[43mAtom\u001B[49m\u001B[43m(\u001B[49m\u001B[43mnewVar\u001B[49m\u001B[43m)\u001B[49m\n\u001B[1;32m--> 271\u001B[0m \u001B[43m        \u001B[49m\u001B[43m)\u001B[49m\u001B[38;5;241;43m.\u001B[39;49m\u001B[43m_updateBoundVariables\u001B[49m\u001B[43m(\u001B[49m\u001B[43m)\u001B[49m,\n\u001B[0;32m    272\u001B[0m     )\n",
      "File \u001B[1;32mD:\\documents\\python_projects\\pure-calculus\\src\\calculus\\term.py:263\u001B[0m, in \u001B[0;36mTerm._updateBoundVariables\u001B[1;34m(self)\u001B[0m\n\u001B[0;32m    260\u001B[0m     \u001B[38;5;28;01mreturn\u001B[39;00m \u001B[38;5;28mself\u001B[39m\n\u001B[0;32m    261\u001B[0m \u001B[38;5;28;01melif\u001B[39;00m \u001B[38;5;28mself\u001B[39m\u001B[38;5;241m.\u001B[39misApplication:\n\u001B[0;32m    262\u001B[0m     \u001B[38;5;28;01mreturn\u001B[39;00m Application(\n\u001B[1;32m--> 263\u001B[0m         \u001B[38;5;28mself\u001B[39m\u001B[38;5;241m.\u001B[39m_sub\u001B[38;5;241m.\u001B[39m_updateBoundVariables(), \u001B[38;5;28;43mself\u001B[39;49m\u001B[38;5;241;43m.\u001B[39;49m\u001B[43m_obj\u001B[49m\u001B[38;5;241;43m.\u001B[39;49m\u001B[43m_updateBoundVariables\u001B[49m\u001B[43m(\u001B[49m\u001B[43m)\u001B[49m\n\u001B[0;32m    264\u001B[0m     )\n\u001B[0;32m    265\u001B[0m \u001B[38;5;28;01melse\u001B[39;00m:  \u001B[38;5;66;03m# self is Abstraction\u001B[39;00m\n\u001B[0;32m    266\u001B[0m     newVar \u001B[38;5;241m=\u001B[39m Var()\n",
      "File \u001B[1;32mD:\\documents\\python_projects\\pure-calculus\\src\\calculus\\term.py:263\u001B[0m, in \u001B[0;36mTerm._updateBoundVariables\u001B[1;34m(self)\u001B[0m\n\u001B[0;32m    260\u001B[0m     \u001B[38;5;28;01mreturn\u001B[39;00m \u001B[38;5;28mself\u001B[39m\n\u001B[0;32m    261\u001B[0m \u001B[38;5;28;01melif\u001B[39;00m \u001B[38;5;28mself\u001B[39m\u001B[38;5;241m.\u001B[39misApplication:\n\u001B[0;32m    262\u001B[0m     \u001B[38;5;28;01mreturn\u001B[39;00m Application(\n\u001B[1;32m--> 263\u001B[0m         \u001B[38;5;28;43mself\u001B[39;49m\u001B[38;5;241;43m.\u001B[39;49m\u001B[43m_sub\u001B[49m\u001B[38;5;241;43m.\u001B[39;49m\u001B[43m_updateBoundVariables\u001B[49m\u001B[43m(\u001B[49m\u001B[43m)\u001B[49m, \u001B[38;5;28mself\u001B[39m\u001B[38;5;241m.\u001B[39m_obj\u001B[38;5;241m.\u001B[39m_updateBoundVariables()\n\u001B[0;32m    264\u001B[0m     )\n\u001B[0;32m    265\u001B[0m \u001B[38;5;28;01melse\u001B[39;00m:  \u001B[38;5;66;03m# self is Abstraction\u001B[39;00m\n\u001B[0;32m    266\u001B[0m     newVar \u001B[38;5;241m=\u001B[39m Var()\n",
      "    \u001B[1;31m[... skipping similar frames: Term._updateBoundVariables at line 263 (2 times)]\u001B[0m\n",
      "File \u001B[1;32mD:\\documents\\python_projects\\pure-calculus\\src\\calculus\\term.py:263\u001B[0m, in \u001B[0;36mTerm._updateBoundVariables\u001B[1;34m(self)\u001B[0m\n\u001B[0;32m    260\u001B[0m     \u001B[38;5;28;01mreturn\u001B[39;00m \u001B[38;5;28mself\u001B[39m\n\u001B[0;32m    261\u001B[0m \u001B[38;5;28;01melif\u001B[39;00m \u001B[38;5;28mself\u001B[39m\u001B[38;5;241m.\u001B[39misApplication:\n\u001B[0;32m    262\u001B[0m     \u001B[38;5;28;01mreturn\u001B[39;00m Application(\n\u001B[1;32m--> 263\u001B[0m         \u001B[38;5;28mself\u001B[39m\u001B[38;5;241m.\u001B[39m_sub\u001B[38;5;241m.\u001B[39m_updateBoundVariables(), \u001B[38;5;28;43mself\u001B[39;49m\u001B[38;5;241;43m.\u001B[39;49m\u001B[43m_obj\u001B[49m\u001B[38;5;241;43m.\u001B[39;49m\u001B[43m_updateBoundVariables\u001B[49m\u001B[43m(\u001B[49m\u001B[43m)\u001B[49m\n\u001B[0;32m    264\u001B[0m     )\n\u001B[0;32m    265\u001B[0m \u001B[38;5;28;01melse\u001B[39;00m:  \u001B[38;5;66;03m# self is Abstraction\u001B[39;00m\n\u001B[0;32m    266\u001B[0m     newVar \u001B[38;5;241m=\u001B[39m Var()\n",
      "File \u001B[1;32mD:\\documents\\python_projects\\pure-calculus\\src\\calculus\\term.py:269\u001B[0m, in \u001B[0;36mTerm._updateBoundVariables\u001B[1;34m(self)\u001B[0m\n\u001B[0;32m    265\u001B[0m \u001B[38;5;28;01melse\u001B[39;00m:  \u001B[38;5;66;03m# self is Abstraction\u001B[39;00m\n\u001B[0;32m    266\u001B[0m     newVar \u001B[38;5;241m=\u001B[39m Var()\n\u001B[0;32m    267\u001B[0m     \u001B[38;5;28;01mreturn\u001B[39;00m Abstraction(\n\u001B[0;32m    268\u001B[0m         newVar,\n\u001B[1;32m--> 269\u001B[0m         \u001B[38;5;28;43mself\u001B[39;49m\u001B[38;5;241;43m.\u001B[39;49m\u001B[43m_body\u001B[49m\u001B[38;5;241;43m.\u001B[39;49m\u001B[43m_replaceVariable\u001B[49m\u001B[43m(\u001B[49m\n\u001B[0;32m    270\u001B[0m \u001B[43m            \u001B[49m\u001B[38;5;28;43mself\u001B[39;49m\u001B[38;5;241;43m.\u001B[39;49m\u001B[43m_head\u001B[49m\u001B[43m,\u001B[49m\u001B[43m \u001B[49m\u001B[43mAtom\u001B[49m\u001B[43m(\u001B[49m\u001B[43mnewVar\u001B[49m\u001B[43m)\u001B[49m\n\u001B[0;32m    271\u001B[0m \u001B[43m        \u001B[49m\u001B[43m)\u001B[49m\u001B[38;5;241m.\u001B[39m_updateBoundVariables(),\n\u001B[0;32m    272\u001B[0m     )\n",
      "File \u001B[1;32mD:\\documents\\python_projects\\pure-calculus\\src\\calculus\\term.py:293\u001B[0m, in \u001B[0;36mTerm._replaceVariable\u001B[1;34m(self, var, term)\u001B[0m\n\u001B[0;32m    288\u001B[0m     \u001B[38;5;28;01mreturn\u001B[39;00m Application(\n\u001B[0;32m    289\u001B[0m         \u001B[38;5;28mself\u001B[39m\u001B[38;5;241m.\u001B[39m_sub\u001B[38;5;241m.\u001B[39m_replaceVariable(var, term),\n\u001B[0;32m    290\u001B[0m         \u001B[38;5;28mself\u001B[39m\u001B[38;5;241m.\u001B[39m_obj\u001B[38;5;241m.\u001B[39m_replaceVariable(var, term),\n\u001B[0;32m    291\u001B[0m     )\n\u001B[0;32m    292\u001B[0m \u001B[38;5;28;01melse\u001B[39;00m:  \u001B[38;5;66;03m# self is Abstraction\u001B[39;00m\n\u001B[1;32m--> 293\u001B[0m     \u001B[38;5;28;01mreturn\u001B[39;00m Abstraction(\u001B[38;5;28mself\u001B[39m\u001B[38;5;241m.\u001B[39m_head, \u001B[38;5;28;43mself\u001B[39;49m\u001B[38;5;241;43m.\u001B[39;49m\u001B[43m_body\u001B[49m\u001B[38;5;241;43m.\u001B[39;49m\u001B[43m_replaceVariable\u001B[49m\u001B[43m(\u001B[49m\u001B[43mvar\u001B[49m\u001B[43m,\u001B[49m\u001B[43m \u001B[49m\u001B[43mterm\u001B[49m\u001B[43m)\u001B[49m)\n",
      "File \u001B[1;32mD:\\documents\\python_projects\\pure-calculus\\src\\calculus\\term.py:293\u001B[0m, in \u001B[0;36mTerm._replaceVariable\u001B[1;34m(self, var, term)\u001B[0m\n\u001B[0;32m    288\u001B[0m     \u001B[38;5;28;01mreturn\u001B[39;00m Application(\n\u001B[0;32m    289\u001B[0m         \u001B[38;5;28mself\u001B[39m\u001B[38;5;241m.\u001B[39m_sub\u001B[38;5;241m.\u001B[39m_replaceVariable(var, term),\n\u001B[0;32m    290\u001B[0m         \u001B[38;5;28mself\u001B[39m\u001B[38;5;241m.\u001B[39m_obj\u001B[38;5;241m.\u001B[39m_replaceVariable(var, term),\n\u001B[0;32m    291\u001B[0m     )\n\u001B[0;32m    292\u001B[0m \u001B[38;5;28;01melse\u001B[39;00m:  \u001B[38;5;66;03m# self is Abstraction\u001B[39;00m\n\u001B[1;32m--> 293\u001B[0m     \u001B[38;5;28;01mreturn\u001B[39;00m Abstraction(\u001B[38;5;28mself\u001B[39m\u001B[38;5;241m.\u001B[39m_head, \u001B[38;5;28;43mself\u001B[39;49m\u001B[38;5;241;43m.\u001B[39;49m\u001B[43m_body\u001B[49m\u001B[38;5;241;43m.\u001B[39;49m\u001B[43m_replaceVariable\u001B[49m\u001B[43m(\u001B[49m\u001B[43mvar\u001B[49m\u001B[43m,\u001B[49m\u001B[43m \u001B[49m\u001B[43mterm\u001B[49m\u001B[43m)\u001B[49m)\n",
      "    \u001B[1;31m[... skipping similar frames: Term._replaceVariable at line 293 (1 times)]\u001B[0m\n",
      "File \u001B[1;32mD:\\documents\\python_projects\\pure-calculus\\src\\calculus\\term.py:290\u001B[0m, in \u001B[0;36mTerm._replaceVariable\u001B[1;34m(self, var, term)\u001B[0m\n\u001B[0;32m    286\u001B[0m     \u001B[38;5;28;01mreturn\u001B[39;00m term \u001B[38;5;28;01mif\u001B[39;00m \u001B[38;5;28mself\u001B[39m\u001B[38;5;241m.\u001B[39m_var \u001B[38;5;241m==\u001B[39m var \u001B[38;5;28;01melse\u001B[39;00m \u001B[38;5;28mself\u001B[39m\n\u001B[0;32m    287\u001B[0m \u001B[38;5;28;01melif\u001B[39;00m \u001B[38;5;28mself\u001B[39m\u001B[38;5;241m.\u001B[39misApplication:\n\u001B[0;32m    288\u001B[0m     \u001B[38;5;28;01mreturn\u001B[39;00m Application(\n\u001B[0;32m    289\u001B[0m         \u001B[38;5;28mself\u001B[39m\u001B[38;5;241m.\u001B[39m_sub\u001B[38;5;241m.\u001B[39m_replaceVariable(var, term),\n\u001B[1;32m--> 290\u001B[0m         \u001B[38;5;28;43mself\u001B[39;49m\u001B[38;5;241;43m.\u001B[39;49m\u001B[43m_obj\u001B[49m\u001B[38;5;241;43m.\u001B[39;49m\u001B[43m_replaceVariable\u001B[49m\u001B[43m(\u001B[49m\u001B[43mvar\u001B[49m\u001B[43m,\u001B[49m\u001B[43m \u001B[49m\u001B[43mterm\u001B[49m\u001B[43m)\u001B[49m,\n\u001B[0;32m    291\u001B[0m     )\n\u001B[0;32m    292\u001B[0m \u001B[38;5;28;01melse\u001B[39;00m:  \u001B[38;5;66;03m# self is Abstraction\u001B[39;00m\n\u001B[0;32m    293\u001B[0m     \u001B[38;5;28;01mreturn\u001B[39;00m Abstraction(\u001B[38;5;28mself\u001B[39m\u001B[38;5;241m.\u001B[39m_head, \u001B[38;5;28mself\u001B[39m\u001B[38;5;241m.\u001B[39m_body\u001B[38;5;241m.\u001B[39m_replaceVariable(var, term))\n",
      "File \u001B[1;32mD:\\documents\\python_projects\\pure-calculus\\src\\calculus\\term.py:289\u001B[0m, in \u001B[0;36mTerm._replaceVariable\u001B[1;34m(self, var, term)\u001B[0m\n\u001B[0;32m    286\u001B[0m     \u001B[38;5;28;01mreturn\u001B[39;00m term \u001B[38;5;28;01mif\u001B[39;00m \u001B[38;5;28mself\u001B[39m\u001B[38;5;241m.\u001B[39m_var \u001B[38;5;241m==\u001B[39m var \u001B[38;5;28;01melse\u001B[39;00m \u001B[38;5;28mself\u001B[39m\n\u001B[0;32m    287\u001B[0m \u001B[38;5;28;01melif\u001B[39;00m \u001B[38;5;28mself\u001B[39m\u001B[38;5;241m.\u001B[39misApplication:\n\u001B[0;32m    288\u001B[0m     \u001B[38;5;28;01mreturn\u001B[39;00m Application(\n\u001B[1;32m--> 289\u001B[0m         \u001B[38;5;28;43mself\u001B[39;49m\u001B[38;5;241;43m.\u001B[39;49m\u001B[43m_sub\u001B[49m\u001B[38;5;241;43m.\u001B[39;49m\u001B[43m_replaceVariable\u001B[49m\u001B[43m(\u001B[49m\u001B[43mvar\u001B[49m\u001B[43m,\u001B[49m\u001B[43m \u001B[49m\u001B[43mterm\u001B[49m\u001B[43m)\u001B[49m,\n\u001B[0;32m    290\u001B[0m         \u001B[38;5;28mself\u001B[39m\u001B[38;5;241m.\u001B[39m_obj\u001B[38;5;241m.\u001B[39m_replaceVariable(var, term),\n\u001B[0;32m    291\u001B[0m     )\n\u001B[0;32m    292\u001B[0m \u001B[38;5;28;01melse\u001B[39;00m:  \u001B[38;5;66;03m# self is Abstraction\u001B[39;00m\n\u001B[0;32m    293\u001B[0m     \u001B[38;5;28;01mreturn\u001B[39;00m Abstraction(\u001B[38;5;28mself\u001B[39m\u001B[38;5;241m.\u001B[39m_head, \u001B[38;5;28mself\u001B[39m\u001B[38;5;241m.\u001B[39m_body\u001B[38;5;241m.\u001B[39m_replaceVariable(var, term))\n",
      "File \u001B[1;32mD:\\documents\\python_projects\\pure-calculus\\src\\calculus\\term.py:290\u001B[0m, in \u001B[0;36mTerm._replaceVariable\u001B[1;34m(self, var, term)\u001B[0m\n\u001B[0;32m    286\u001B[0m     \u001B[38;5;28;01mreturn\u001B[39;00m term \u001B[38;5;28;01mif\u001B[39;00m \u001B[38;5;28mself\u001B[39m\u001B[38;5;241m.\u001B[39m_var \u001B[38;5;241m==\u001B[39m var \u001B[38;5;28;01melse\u001B[39;00m \u001B[38;5;28mself\u001B[39m\n\u001B[0;32m    287\u001B[0m \u001B[38;5;28;01melif\u001B[39;00m \u001B[38;5;28mself\u001B[39m\u001B[38;5;241m.\u001B[39misApplication:\n\u001B[0;32m    288\u001B[0m     \u001B[38;5;28;01mreturn\u001B[39;00m Application(\n\u001B[0;32m    289\u001B[0m         \u001B[38;5;28mself\u001B[39m\u001B[38;5;241m.\u001B[39m_sub\u001B[38;5;241m.\u001B[39m_replaceVariable(var, term),\n\u001B[1;32m--> 290\u001B[0m         \u001B[38;5;28;43mself\u001B[39;49m\u001B[38;5;241;43m.\u001B[39;49m\u001B[43m_obj\u001B[49m\u001B[38;5;241;43m.\u001B[39;49m\u001B[43m_replaceVariable\u001B[49m\u001B[43m(\u001B[49m\u001B[43mvar\u001B[49m\u001B[43m,\u001B[49m\u001B[43m \u001B[49m\u001B[43mterm\u001B[49m\u001B[43m)\u001B[49m,\n\u001B[0;32m    291\u001B[0m     )\n\u001B[0;32m    292\u001B[0m \u001B[38;5;28;01melse\u001B[39;00m:  \u001B[38;5;66;03m# self is Abstraction\u001B[39;00m\n\u001B[0;32m    293\u001B[0m     \u001B[38;5;28;01mreturn\u001B[39;00m Abstraction(\u001B[38;5;28mself\u001B[39m\u001B[38;5;241m.\u001B[39m_head, \u001B[38;5;28mself\u001B[39m\u001B[38;5;241m.\u001B[39m_body\u001B[38;5;241m.\u001B[39m_replaceVariable(var, term))\n",
      "File \u001B[1;32mD:\\documents\\python_projects\\pure-calculus\\src\\calculus\\term.py:289\u001B[0m, in \u001B[0;36mTerm._replaceVariable\u001B[1;34m(self, var, term)\u001B[0m\n\u001B[0;32m    286\u001B[0m     \u001B[38;5;28;01mreturn\u001B[39;00m term \u001B[38;5;28;01mif\u001B[39;00m \u001B[38;5;28mself\u001B[39m\u001B[38;5;241m.\u001B[39m_var \u001B[38;5;241m==\u001B[39m var \u001B[38;5;28;01melse\u001B[39;00m \u001B[38;5;28mself\u001B[39m\n\u001B[0;32m    287\u001B[0m \u001B[38;5;28;01melif\u001B[39;00m \u001B[38;5;28mself\u001B[39m\u001B[38;5;241m.\u001B[39misApplication:\n\u001B[0;32m    288\u001B[0m     \u001B[38;5;28;01mreturn\u001B[39;00m Application(\n\u001B[1;32m--> 289\u001B[0m         \u001B[38;5;28;43mself\u001B[39;49m\u001B[38;5;241;43m.\u001B[39;49m\u001B[43m_sub\u001B[49m\u001B[38;5;241;43m.\u001B[39;49m\u001B[43m_replaceVariable\u001B[49m\u001B[43m(\u001B[49m\u001B[43mvar\u001B[49m\u001B[43m,\u001B[49m\u001B[43m \u001B[49m\u001B[43mterm\u001B[49m\u001B[43m)\u001B[49m,\n\u001B[0;32m    290\u001B[0m         \u001B[38;5;28mself\u001B[39m\u001B[38;5;241m.\u001B[39m_obj\u001B[38;5;241m.\u001B[39m_replaceVariable(var, term),\n\u001B[0;32m    291\u001B[0m     )\n\u001B[0;32m    292\u001B[0m \u001B[38;5;28;01melse\u001B[39;00m:  \u001B[38;5;66;03m# self is Abstraction\u001B[39;00m\n\u001B[0;32m    293\u001B[0m     \u001B[38;5;28;01mreturn\u001B[39;00m Abstraction(\u001B[38;5;28mself\u001B[39m\u001B[38;5;241m.\u001B[39m_head, \u001B[38;5;28mself\u001B[39m\u001B[38;5;241m.\u001B[39m_body\u001B[38;5;241m.\u001B[39m_replaceVariable(var, term))\n",
      "    \u001B[1;31m[... skipping similar frames: Term._replaceVariable at line 293 (4 times), Term._replaceVariable at line 290 (4 times), Term._replaceVariable at line 289 (3 times)]\u001B[0m\n",
      "File \u001B[1;32mD:\\documents\\python_projects\\pure-calculus\\src\\calculus\\term.py:289\u001B[0m, in \u001B[0;36mTerm._replaceVariable\u001B[1;34m(self, var, term)\u001B[0m\n\u001B[0;32m    286\u001B[0m     \u001B[38;5;28;01mreturn\u001B[39;00m term \u001B[38;5;28;01mif\u001B[39;00m \u001B[38;5;28mself\u001B[39m\u001B[38;5;241m.\u001B[39m_var \u001B[38;5;241m==\u001B[39m var \u001B[38;5;28;01melse\u001B[39;00m \u001B[38;5;28mself\u001B[39m\n\u001B[0;32m    287\u001B[0m \u001B[38;5;28;01melif\u001B[39;00m \u001B[38;5;28mself\u001B[39m\u001B[38;5;241m.\u001B[39misApplication:\n\u001B[0;32m    288\u001B[0m     \u001B[38;5;28;01mreturn\u001B[39;00m Application(\n\u001B[1;32m--> 289\u001B[0m         \u001B[38;5;28;43mself\u001B[39;49m\u001B[38;5;241;43m.\u001B[39;49m\u001B[43m_sub\u001B[49m\u001B[38;5;241;43m.\u001B[39;49m\u001B[43m_replaceVariable\u001B[49m\u001B[43m(\u001B[49m\u001B[43mvar\u001B[49m\u001B[43m,\u001B[49m\u001B[43m \u001B[49m\u001B[43mterm\u001B[49m\u001B[43m)\u001B[49m,\n\u001B[0;32m    290\u001B[0m         \u001B[38;5;28mself\u001B[39m\u001B[38;5;241m.\u001B[39m_obj\u001B[38;5;241m.\u001B[39m_replaceVariable(var, term),\n\u001B[0;32m    291\u001B[0m     )\n\u001B[0;32m    292\u001B[0m \u001B[38;5;28;01melse\u001B[39;00m:  \u001B[38;5;66;03m# self is Abstraction\u001B[39;00m\n\u001B[0;32m    293\u001B[0m     \u001B[38;5;28;01mreturn\u001B[39;00m Abstraction(\u001B[38;5;28mself\u001B[39m\u001B[38;5;241m.\u001B[39m_head, \u001B[38;5;28mself\u001B[39m\u001B[38;5;241m.\u001B[39m_body\u001B[38;5;241m.\u001B[39m_replaceVariable(var, term))\n",
      "    \u001B[1;31m[... skipping similar frames: Term._replaceVariable at line 293 (2 times)]\u001B[0m\n",
      "File \u001B[1;32mD:\\documents\\python_projects\\pure-calculus\\src\\calculus\\term.py:293\u001B[0m, in \u001B[0;36mTerm._replaceVariable\u001B[1;34m(self, var, term)\u001B[0m\n\u001B[0;32m    288\u001B[0m     \u001B[38;5;28;01mreturn\u001B[39;00m Application(\n\u001B[0;32m    289\u001B[0m         \u001B[38;5;28mself\u001B[39m\u001B[38;5;241m.\u001B[39m_sub\u001B[38;5;241m.\u001B[39m_replaceVariable(var, term),\n\u001B[0;32m    290\u001B[0m         \u001B[38;5;28mself\u001B[39m\u001B[38;5;241m.\u001B[39m_obj\u001B[38;5;241m.\u001B[39m_replaceVariable(var, term),\n\u001B[0;32m    291\u001B[0m     )\n\u001B[0;32m    292\u001B[0m \u001B[38;5;28;01melse\u001B[39;00m:  \u001B[38;5;66;03m# self is Abstraction\u001B[39;00m\n\u001B[1;32m--> 293\u001B[0m     \u001B[38;5;28;01mreturn\u001B[39;00m Abstraction(\u001B[38;5;28mself\u001B[39m\u001B[38;5;241m.\u001B[39m_head, \u001B[38;5;28;43mself\u001B[39;49m\u001B[38;5;241;43m.\u001B[39;49m\u001B[43m_body\u001B[49m\u001B[38;5;241;43m.\u001B[39;49m\u001B[43m_replaceVariable\u001B[49m\u001B[43m(\u001B[49m\u001B[43mvar\u001B[49m\u001B[43m,\u001B[49m\u001B[43m \u001B[49m\u001B[43mterm\u001B[49m\u001B[43m)\u001B[49m)\n",
      "File \u001B[1;32mD:\\documents\\python_projects\\pure-calculus\\src\\calculus\\term.py:290\u001B[0m, in \u001B[0;36mTerm._replaceVariable\u001B[1;34m(self, var, term)\u001B[0m\n\u001B[0;32m    286\u001B[0m     \u001B[38;5;28;01mreturn\u001B[39;00m term \u001B[38;5;28;01mif\u001B[39;00m \u001B[38;5;28mself\u001B[39m\u001B[38;5;241m.\u001B[39m_var \u001B[38;5;241m==\u001B[39m var \u001B[38;5;28;01melse\u001B[39;00m \u001B[38;5;28mself\u001B[39m\n\u001B[0;32m    287\u001B[0m \u001B[38;5;28;01melif\u001B[39;00m \u001B[38;5;28mself\u001B[39m\u001B[38;5;241m.\u001B[39misApplication:\n\u001B[0;32m    288\u001B[0m     \u001B[38;5;28;01mreturn\u001B[39;00m Application(\n\u001B[0;32m    289\u001B[0m         \u001B[38;5;28mself\u001B[39m\u001B[38;5;241m.\u001B[39m_sub\u001B[38;5;241m.\u001B[39m_replaceVariable(var, term),\n\u001B[1;32m--> 290\u001B[0m         \u001B[38;5;28;43mself\u001B[39;49m\u001B[38;5;241;43m.\u001B[39;49m\u001B[43m_obj\u001B[49m\u001B[38;5;241;43m.\u001B[39;49m\u001B[43m_replaceVariable\u001B[49m\u001B[43m(\u001B[49m\u001B[43mvar\u001B[49m\u001B[43m,\u001B[49m\u001B[43m \u001B[49m\u001B[43mterm\u001B[49m\u001B[43m)\u001B[49m,\n\u001B[0;32m    291\u001B[0m     )\n\u001B[0;32m    292\u001B[0m \u001B[38;5;28;01melse\u001B[39;00m:  \u001B[38;5;66;03m# self is Abstraction\u001B[39;00m\n\u001B[0;32m    293\u001B[0m     \u001B[38;5;28;01mreturn\u001B[39;00m Abstraction(\u001B[38;5;28mself\u001B[39m\u001B[38;5;241m.\u001B[39m_head, \u001B[38;5;28mself\u001B[39m\u001B[38;5;241m.\u001B[39m_body\u001B[38;5;241m.\u001B[39m_replaceVariable(var, term))\n",
      "File \u001B[1;32mD:\\documents\\python_projects\\pure-calculus\\src\\calculus\\term.py:288\u001B[0m, in \u001B[0;36mTerm._replaceVariable\u001B[1;34m(self, var, term)\u001B[0m\n\u001B[0;32m    286\u001B[0m     \u001B[38;5;28;01mreturn\u001B[39;00m term \u001B[38;5;28;01mif\u001B[39;00m \u001B[38;5;28mself\u001B[39m\u001B[38;5;241m.\u001B[39m_var \u001B[38;5;241m==\u001B[39m var \u001B[38;5;28;01melse\u001B[39;00m \u001B[38;5;28mself\u001B[39m\n\u001B[0;32m    287\u001B[0m \u001B[38;5;28;01melif\u001B[39;00m \u001B[38;5;28mself\u001B[39m\u001B[38;5;241m.\u001B[39misApplication:\n\u001B[1;32m--> 288\u001B[0m     \u001B[38;5;28;01mreturn\u001B[39;00m \u001B[43mApplication\u001B[49m\u001B[43m(\u001B[49m\n\u001B[0;32m    289\u001B[0m \u001B[43m        \u001B[49m\u001B[38;5;28;43mself\u001B[39;49m\u001B[38;5;241;43m.\u001B[39;49m\u001B[43m_sub\u001B[49m\u001B[38;5;241;43m.\u001B[39;49m\u001B[43m_replaceVariable\u001B[49m\u001B[43m(\u001B[49m\u001B[43mvar\u001B[49m\u001B[43m,\u001B[49m\u001B[43m \u001B[49m\u001B[43mterm\u001B[49m\u001B[43m)\u001B[49m\u001B[43m,\u001B[49m\n\u001B[0;32m    290\u001B[0m \u001B[43m        \u001B[49m\u001B[38;5;28;43mself\u001B[39;49m\u001B[38;5;241;43m.\u001B[39;49m\u001B[43m_obj\u001B[49m\u001B[38;5;241;43m.\u001B[39;49m\u001B[43m_replaceVariable\u001B[49m\u001B[43m(\u001B[49m\u001B[43mvar\u001B[49m\u001B[43m,\u001B[49m\u001B[43m \u001B[49m\u001B[43mterm\u001B[49m\u001B[43m)\u001B[49m\u001B[43m,\u001B[49m\n\u001B[0;32m    291\u001B[0m \u001B[43m    \u001B[49m\u001B[43m)\u001B[49m\n\u001B[0;32m    292\u001B[0m \u001B[38;5;28;01melse\u001B[39;00m:  \u001B[38;5;66;03m# self is Abstraction\u001B[39;00m\n\u001B[0;32m    293\u001B[0m     \u001B[38;5;28;01mreturn\u001B[39;00m Abstraction(\u001B[38;5;28mself\u001B[39m\u001B[38;5;241m.\u001B[39m_head, \u001B[38;5;28mself\u001B[39m\u001B[38;5;241m.\u001B[39m_body\u001B[38;5;241m.\u001B[39m_replaceVariable(var, term))\n",
      "File \u001B[1;32mD:\\documents\\python_projects\\pure-calculus\\src\\calculus\\term.py:305\u001B[0m, in \u001B[0;36mApplication.__init__\u001B[1;34m(self, X, Y)\u001B[0m\n\u001B[0;32m    304\u001B[0m \u001B[38;5;28;01mclass\u001B[39;00m \u001B[38;5;21;01mApplication\u001B[39;00m(Term):\n\u001B[1;32m--> 305\u001B[0m     \u001B[38;5;28;01mdef\u001B[39;00m \u001B[38;5;21m__init__\u001B[39m(\u001B[38;5;28mself\u001B[39m, X: Term, Y: Term):\n\u001B[0;32m    306\u001B[0m         \u001B[38;5;28;01mif\u001B[39;00m \u001B[38;5;28misinstance\u001B[39m(X, Term) \u001B[38;5;129;01mand\u001B[39;00m \u001B[38;5;28misinstance\u001B[39m(Y, Term):\n\u001B[0;32m    307\u001B[0m             \u001B[38;5;28mself\u001B[39m\u001B[38;5;241m.\u001B[39m_sub \u001B[38;5;241m=\u001B[39m X\n",
      "\u001B[1;31mKeyboardInterrupt\u001B[0m: "
     ]
    }
   ],
   "source": [
    "a = 5\n",
    "b = 3\n",
    "term = multi_app_term(arithm_complex_ops.gcd_term_v3(), nat_numbers.num_term(a), nat_numbers.num_term(b))\n",
    "norm_term, steps = term.normalize_no_lim(LeftmostOutermostStrategy())\n",
    "print(steps)\n",
    "print(norm_term)"
   ],
   "metadata": {
    "collapsed": false
   }
  },
  {
   "cell_type": "code",
   "execution_count": 8,
   "outputs": [
    {
     "ename": "KeyboardInterrupt",
     "evalue": "",
     "output_type": "error",
     "traceback": [
      "\u001B[1;31m---------------------------------------------------------------------------\u001B[0m",
      "\u001B[1;31mKeyboardInterrupt\u001B[0m                         Traceback (most recent call last)",
      "Cell \u001B[1;32mIn[8], line 4\u001B[0m\n\u001B[0;32m      2\u001B[0m b \u001B[38;5;241m=\u001B[39m \u001B[38;5;241m5\u001B[39m\n\u001B[0;32m      3\u001B[0m term \u001B[38;5;241m=\u001B[39m multi_app_term(arithm_complex_ops\u001B[38;5;241m.\u001B[39mfast_gcd_term(), nat_numbers\u001B[38;5;241m.\u001B[39mnum_term(a), nat_numbers\u001B[38;5;241m.\u001B[39mnum_term(b))\n\u001B[1;32m----> 4\u001B[0m \u001B[38;5;28mprint\u001B[39m(\u001B[43mterm\u001B[49m\u001B[38;5;241;43m.\u001B[39;49m\u001B[43mnormalize_no_lim\u001B[49m\u001B[43m(\u001B[49m\u001B[43mLeftmostOutermostStrategy\u001B[49m\u001B[43m(\u001B[49m\u001B[43m)\u001B[49m\u001B[43m)\u001B[49m[\u001B[38;5;241m0\u001B[39m])\n",
      "File \u001B[1;32mD:\\documents\\python_projects\\pure-calculus\\src\\calculus\\term.py:177\u001B[0m, in \u001B[0;36mTerm.normalize_no_lim\u001B[1;34m(self, strategy)\u001B[0m\n\u001B[0;32m    175\u001B[0m \u001B[38;5;28;01mwhile\u001B[39;00m term\u001B[38;5;241m.\u001B[39mredexes \u001B[38;5;241m!=\u001B[39m []:\n\u001B[0;32m    176\u001B[0m     term \u001B[38;5;241m=\u001B[39m term\u001B[38;5;241m.\u001B[39m_betaConversion(strategy)\n\u001B[1;32m--> 177\u001B[0m     term \u001B[38;5;241m=\u001B[39m \u001B[43mterm\u001B[49m\u001B[38;5;241;43m.\u001B[39;49m\u001B[43m_updateBoundVariables\u001B[49m\u001B[43m(\u001B[49m\u001B[43m)\u001B[49m\n\u001B[0;32m    178\u001B[0m     count \u001B[38;5;241m+\u001B[39m\u001B[38;5;241m=\u001B[39m \u001B[38;5;241m1\u001B[39m\n\u001B[0;32m    179\u001B[0m \u001B[38;5;28;01mreturn\u001B[39;00m term, count\n",
      "File \u001B[1;32mD:\\documents\\python_projects\\pure-calculus\\src\\calculus\\term.py:263\u001B[0m, in \u001B[0;36mTerm._updateBoundVariables\u001B[1;34m(self)\u001B[0m\n\u001B[0;32m    260\u001B[0m     \u001B[38;5;28;01mreturn\u001B[39;00m \u001B[38;5;28mself\u001B[39m\n\u001B[0;32m    261\u001B[0m \u001B[38;5;28;01melif\u001B[39;00m \u001B[38;5;28mself\u001B[39m\u001B[38;5;241m.\u001B[39misApplication:\n\u001B[0;32m    262\u001B[0m     \u001B[38;5;28;01mreturn\u001B[39;00m Application(\n\u001B[1;32m--> 263\u001B[0m         \u001B[38;5;28;43mself\u001B[39;49m\u001B[38;5;241;43m.\u001B[39;49m\u001B[43m_sub\u001B[49m\u001B[38;5;241;43m.\u001B[39;49m\u001B[43m_updateBoundVariables\u001B[49m\u001B[43m(\u001B[49m\u001B[43m)\u001B[49m, \u001B[38;5;28mself\u001B[39m\u001B[38;5;241m.\u001B[39m_obj\u001B[38;5;241m.\u001B[39m_updateBoundVariables()\n\u001B[0;32m    264\u001B[0m     )\n\u001B[0;32m    265\u001B[0m \u001B[38;5;28;01melse\u001B[39;00m:  \u001B[38;5;66;03m# self is Abstraction\u001B[39;00m\n\u001B[0;32m    266\u001B[0m     newVar \u001B[38;5;241m=\u001B[39m Var()\n",
      "File \u001B[1;32mD:\\documents\\python_projects\\pure-calculus\\src\\calculus\\term.py:263\u001B[0m, in \u001B[0;36mTerm._updateBoundVariables\u001B[1;34m(self)\u001B[0m\n\u001B[0;32m    260\u001B[0m     \u001B[38;5;28;01mreturn\u001B[39;00m \u001B[38;5;28mself\u001B[39m\n\u001B[0;32m    261\u001B[0m \u001B[38;5;28;01melif\u001B[39;00m \u001B[38;5;28mself\u001B[39m\u001B[38;5;241m.\u001B[39misApplication:\n\u001B[0;32m    262\u001B[0m     \u001B[38;5;28;01mreturn\u001B[39;00m Application(\n\u001B[1;32m--> 263\u001B[0m         \u001B[38;5;28;43mself\u001B[39;49m\u001B[38;5;241;43m.\u001B[39;49m\u001B[43m_sub\u001B[49m\u001B[38;5;241;43m.\u001B[39;49m\u001B[43m_updateBoundVariables\u001B[49m\u001B[43m(\u001B[49m\u001B[43m)\u001B[49m, \u001B[38;5;28mself\u001B[39m\u001B[38;5;241m.\u001B[39m_obj\u001B[38;5;241m.\u001B[39m_updateBoundVariables()\n\u001B[0;32m    264\u001B[0m     )\n\u001B[0;32m    265\u001B[0m \u001B[38;5;28;01melse\u001B[39;00m:  \u001B[38;5;66;03m# self is Abstraction\u001B[39;00m\n\u001B[0;32m    266\u001B[0m     newVar \u001B[38;5;241m=\u001B[39m Var()\n",
      "    \u001B[1;31m[... skipping similar frames: Term._updateBoundVariables at line 263 (20 times)]\u001B[0m\n",
      "File \u001B[1;32mD:\\documents\\python_projects\\pure-calculus\\src\\calculus\\term.py:271\u001B[0m, in \u001B[0;36mTerm._updateBoundVariables\u001B[1;34m(self)\u001B[0m\n\u001B[0;32m    265\u001B[0m \u001B[38;5;28;01melse\u001B[39;00m:  \u001B[38;5;66;03m# self is Abstraction\u001B[39;00m\n\u001B[0;32m    266\u001B[0m     newVar \u001B[38;5;241m=\u001B[39m Var()\n\u001B[0;32m    267\u001B[0m     \u001B[38;5;28;01mreturn\u001B[39;00m Abstraction(\n\u001B[0;32m    268\u001B[0m         newVar,\n\u001B[0;32m    269\u001B[0m         \u001B[38;5;28;43mself\u001B[39;49m\u001B[38;5;241;43m.\u001B[39;49m\u001B[43m_body\u001B[49m\u001B[38;5;241;43m.\u001B[39;49m\u001B[43m_replaceVariable\u001B[49m\u001B[43m(\u001B[49m\n\u001B[0;32m    270\u001B[0m \u001B[43m            \u001B[49m\u001B[38;5;28;43mself\u001B[39;49m\u001B[38;5;241;43m.\u001B[39;49m\u001B[43m_head\u001B[49m\u001B[43m,\u001B[49m\u001B[43m \u001B[49m\u001B[43mAtom\u001B[49m\u001B[43m(\u001B[49m\u001B[43mnewVar\u001B[49m\u001B[43m)\u001B[49m\n\u001B[1;32m--> 271\u001B[0m \u001B[43m        \u001B[49m\u001B[43m)\u001B[49m\u001B[38;5;241;43m.\u001B[39;49m\u001B[43m_updateBoundVariables\u001B[49m\u001B[43m(\u001B[49m\u001B[43m)\u001B[49m,\n\u001B[0;32m    272\u001B[0m     )\n",
      "File \u001B[1;32mD:\\documents\\python_projects\\pure-calculus\\src\\calculus\\term.py:271\u001B[0m, in \u001B[0;36mTerm._updateBoundVariables\u001B[1;34m(self)\u001B[0m\n\u001B[0;32m    265\u001B[0m \u001B[38;5;28;01melse\u001B[39;00m:  \u001B[38;5;66;03m# self is Abstraction\u001B[39;00m\n\u001B[0;32m    266\u001B[0m     newVar \u001B[38;5;241m=\u001B[39m Var()\n\u001B[0;32m    267\u001B[0m     \u001B[38;5;28;01mreturn\u001B[39;00m Abstraction(\n\u001B[0;32m    268\u001B[0m         newVar,\n\u001B[0;32m    269\u001B[0m         \u001B[38;5;28;43mself\u001B[39;49m\u001B[38;5;241;43m.\u001B[39;49m\u001B[43m_body\u001B[49m\u001B[38;5;241;43m.\u001B[39;49m\u001B[43m_replaceVariable\u001B[49m\u001B[43m(\u001B[49m\n\u001B[0;32m    270\u001B[0m \u001B[43m            \u001B[49m\u001B[38;5;28;43mself\u001B[39;49m\u001B[38;5;241;43m.\u001B[39;49m\u001B[43m_head\u001B[49m\u001B[43m,\u001B[49m\u001B[43m \u001B[49m\u001B[43mAtom\u001B[49m\u001B[43m(\u001B[49m\u001B[43mnewVar\u001B[49m\u001B[43m)\u001B[49m\n\u001B[1;32m--> 271\u001B[0m \u001B[43m        \u001B[49m\u001B[43m)\u001B[49m\u001B[38;5;241;43m.\u001B[39;49m\u001B[43m_updateBoundVariables\u001B[49m\u001B[43m(\u001B[49m\u001B[43m)\u001B[49m,\n\u001B[0;32m    272\u001B[0m     )\n",
      "    \u001B[1;31m[... skipping similar frames: Term._updateBoundVariables at line 263 (14 times), Term._updateBoundVariables at line 271 (8 times)]\u001B[0m\n",
      "File \u001B[1;32mD:\\documents\\python_projects\\pure-calculus\\src\\calculus\\term.py:263\u001B[0m, in \u001B[0;36mTerm._updateBoundVariables\u001B[1;34m(self)\u001B[0m\n\u001B[0;32m    260\u001B[0m     \u001B[38;5;28;01mreturn\u001B[39;00m \u001B[38;5;28mself\u001B[39m\n\u001B[0;32m    261\u001B[0m \u001B[38;5;28;01melif\u001B[39;00m \u001B[38;5;28mself\u001B[39m\u001B[38;5;241m.\u001B[39misApplication:\n\u001B[0;32m    262\u001B[0m     \u001B[38;5;28;01mreturn\u001B[39;00m Application(\n\u001B[1;32m--> 263\u001B[0m         \u001B[38;5;28;43mself\u001B[39;49m\u001B[38;5;241;43m.\u001B[39;49m\u001B[43m_sub\u001B[49m\u001B[38;5;241;43m.\u001B[39;49m\u001B[43m_updateBoundVariables\u001B[49m\u001B[43m(\u001B[49m\u001B[43m)\u001B[49m, \u001B[38;5;28mself\u001B[39m\u001B[38;5;241m.\u001B[39m_obj\u001B[38;5;241m.\u001B[39m_updateBoundVariables()\n\u001B[0;32m    264\u001B[0m     )\n\u001B[0;32m    265\u001B[0m \u001B[38;5;28;01melse\u001B[39;00m:  \u001B[38;5;66;03m# self is Abstraction\u001B[39;00m\n\u001B[0;32m    266\u001B[0m     newVar \u001B[38;5;241m=\u001B[39m Var()\n",
      "File \u001B[1;32mD:\\documents\\python_projects\\pure-calculus\\src\\calculus\\term.py:271\u001B[0m, in \u001B[0;36mTerm._updateBoundVariables\u001B[1;34m(self)\u001B[0m\n\u001B[0;32m    265\u001B[0m \u001B[38;5;28;01melse\u001B[39;00m:  \u001B[38;5;66;03m# self is Abstraction\u001B[39;00m\n\u001B[0;32m    266\u001B[0m     newVar \u001B[38;5;241m=\u001B[39m Var()\n\u001B[0;32m    267\u001B[0m     \u001B[38;5;28;01mreturn\u001B[39;00m Abstraction(\n\u001B[0;32m    268\u001B[0m         newVar,\n\u001B[0;32m    269\u001B[0m         \u001B[38;5;28;43mself\u001B[39;49m\u001B[38;5;241;43m.\u001B[39;49m\u001B[43m_body\u001B[49m\u001B[38;5;241;43m.\u001B[39;49m\u001B[43m_replaceVariable\u001B[49m\u001B[43m(\u001B[49m\n\u001B[0;32m    270\u001B[0m \u001B[43m            \u001B[49m\u001B[38;5;28;43mself\u001B[39;49m\u001B[38;5;241;43m.\u001B[39;49m\u001B[43m_head\u001B[49m\u001B[43m,\u001B[49m\u001B[43m \u001B[49m\u001B[43mAtom\u001B[49m\u001B[43m(\u001B[49m\u001B[43mnewVar\u001B[49m\u001B[43m)\u001B[49m\n\u001B[1;32m--> 271\u001B[0m \u001B[43m        \u001B[49m\u001B[43m)\u001B[49m\u001B[38;5;241;43m.\u001B[39;49m\u001B[43m_updateBoundVariables\u001B[49m\u001B[43m(\u001B[49m\u001B[43m)\u001B[49m,\n\u001B[0;32m    272\u001B[0m     )\n",
      "File \u001B[1;32mD:\\documents\\python_projects\\pure-calculus\\src\\calculus\\term.py:269\u001B[0m, in \u001B[0;36mTerm._updateBoundVariables\u001B[1;34m(self)\u001B[0m\n\u001B[0;32m    265\u001B[0m \u001B[38;5;28;01melse\u001B[39;00m:  \u001B[38;5;66;03m# self is Abstraction\u001B[39;00m\n\u001B[0;32m    266\u001B[0m     newVar \u001B[38;5;241m=\u001B[39m Var()\n\u001B[0;32m    267\u001B[0m     \u001B[38;5;28;01mreturn\u001B[39;00m Abstraction(\n\u001B[0;32m    268\u001B[0m         newVar,\n\u001B[1;32m--> 269\u001B[0m         \u001B[38;5;28;43mself\u001B[39;49m\u001B[38;5;241;43m.\u001B[39;49m\u001B[43m_body\u001B[49m\u001B[38;5;241;43m.\u001B[39;49m\u001B[43m_replaceVariable\u001B[49m\u001B[43m(\u001B[49m\n\u001B[0;32m    270\u001B[0m \u001B[43m            \u001B[49m\u001B[38;5;28;43mself\u001B[39;49m\u001B[38;5;241;43m.\u001B[39;49m\u001B[43m_head\u001B[49m\u001B[43m,\u001B[49m\u001B[43m \u001B[49m\u001B[43mAtom\u001B[49m\u001B[43m(\u001B[49m\u001B[43mnewVar\u001B[49m\u001B[43m)\u001B[49m\n\u001B[0;32m    271\u001B[0m \u001B[43m        \u001B[49m\u001B[43m)\u001B[49m\u001B[38;5;241m.\u001B[39m_updateBoundVariables(),\n\u001B[0;32m    272\u001B[0m     )\n",
      "File \u001B[1;32mD:\\documents\\python_projects\\pure-calculus\\src\\calculus\\term.py:289\u001B[0m, in \u001B[0;36mTerm._replaceVariable\u001B[1;34m(self, var, term)\u001B[0m\n\u001B[0;32m    286\u001B[0m     \u001B[38;5;28;01mreturn\u001B[39;00m term \u001B[38;5;28;01mif\u001B[39;00m \u001B[38;5;28mself\u001B[39m\u001B[38;5;241m.\u001B[39m_var \u001B[38;5;241m==\u001B[39m var \u001B[38;5;28;01melse\u001B[39;00m \u001B[38;5;28mself\u001B[39m\n\u001B[0;32m    287\u001B[0m \u001B[38;5;28;01melif\u001B[39;00m \u001B[38;5;28mself\u001B[39m\u001B[38;5;241m.\u001B[39misApplication:\n\u001B[0;32m    288\u001B[0m     \u001B[38;5;28;01mreturn\u001B[39;00m Application(\n\u001B[1;32m--> 289\u001B[0m         \u001B[38;5;28;43mself\u001B[39;49m\u001B[38;5;241;43m.\u001B[39;49m\u001B[43m_sub\u001B[49m\u001B[38;5;241;43m.\u001B[39;49m\u001B[43m_replaceVariable\u001B[49m\u001B[43m(\u001B[49m\u001B[43mvar\u001B[49m\u001B[43m,\u001B[49m\u001B[43m \u001B[49m\u001B[43mterm\u001B[49m\u001B[43m)\u001B[49m,\n\u001B[0;32m    290\u001B[0m         \u001B[38;5;28mself\u001B[39m\u001B[38;5;241m.\u001B[39m_obj\u001B[38;5;241m.\u001B[39m_replaceVariable(var, term),\n\u001B[0;32m    291\u001B[0m     )\n\u001B[0;32m    292\u001B[0m \u001B[38;5;28;01melse\u001B[39;00m:  \u001B[38;5;66;03m# self is Abstraction\u001B[39;00m\n\u001B[0;32m    293\u001B[0m     \u001B[38;5;28;01mreturn\u001B[39;00m Abstraction(\u001B[38;5;28mself\u001B[39m\u001B[38;5;241m.\u001B[39m_head, \u001B[38;5;28mself\u001B[39m\u001B[38;5;241m.\u001B[39m_body\u001B[38;5;241m.\u001B[39m_replaceVariable(var, term))\n",
      "File \u001B[1;32mD:\\documents\\python_projects\\pure-calculus\\src\\calculus\\term.py:290\u001B[0m, in \u001B[0;36mTerm._replaceVariable\u001B[1;34m(self, var, term)\u001B[0m\n\u001B[0;32m    286\u001B[0m     \u001B[38;5;28;01mreturn\u001B[39;00m term \u001B[38;5;28;01mif\u001B[39;00m \u001B[38;5;28mself\u001B[39m\u001B[38;5;241m.\u001B[39m_var \u001B[38;5;241m==\u001B[39m var \u001B[38;5;28;01melse\u001B[39;00m \u001B[38;5;28mself\u001B[39m\n\u001B[0;32m    287\u001B[0m \u001B[38;5;28;01melif\u001B[39;00m \u001B[38;5;28mself\u001B[39m\u001B[38;5;241m.\u001B[39misApplication:\n\u001B[0;32m    288\u001B[0m     \u001B[38;5;28;01mreturn\u001B[39;00m Application(\n\u001B[0;32m    289\u001B[0m         \u001B[38;5;28mself\u001B[39m\u001B[38;5;241m.\u001B[39m_sub\u001B[38;5;241m.\u001B[39m_replaceVariable(var, term),\n\u001B[1;32m--> 290\u001B[0m         \u001B[38;5;28;43mself\u001B[39;49m\u001B[38;5;241;43m.\u001B[39;49m\u001B[43m_obj\u001B[49m\u001B[38;5;241;43m.\u001B[39;49m\u001B[43m_replaceVariable\u001B[49m\u001B[43m(\u001B[49m\u001B[43mvar\u001B[49m\u001B[43m,\u001B[49m\u001B[43m \u001B[49m\u001B[43mterm\u001B[49m\u001B[43m)\u001B[49m,\n\u001B[0;32m    291\u001B[0m     )\n\u001B[0;32m    292\u001B[0m \u001B[38;5;28;01melse\u001B[39;00m:  \u001B[38;5;66;03m# self is Abstraction\u001B[39;00m\n\u001B[0;32m    293\u001B[0m     \u001B[38;5;28;01mreturn\u001B[39;00m Abstraction(\u001B[38;5;28mself\u001B[39m\u001B[38;5;241m.\u001B[39m_head, \u001B[38;5;28mself\u001B[39m\u001B[38;5;241m.\u001B[39m_body\u001B[38;5;241m.\u001B[39m_replaceVariable(var, term))\n",
      "File \u001B[1;32mD:\\documents\\python_projects\\pure-calculus\\src\\calculus\\term.py:293\u001B[0m, in \u001B[0;36mTerm._replaceVariable\u001B[1;34m(self, var, term)\u001B[0m\n\u001B[0;32m    288\u001B[0m     \u001B[38;5;28;01mreturn\u001B[39;00m Application(\n\u001B[0;32m    289\u001B[0m         \u001B[38;5;28mself\u001B[39m\u001B[38;5;241m.\u001B[39m_sub\u001B[38;5;241m.\u001B[39m_replaceVariable(var, term),\n\u001B[0;32m    290\u001B[0m         \u001B[38;5;28mself\u001B[39m\u001B[38;5;241m.\u001B[39m_obj\u001B[38;5;241m.\u001B[39m_replaceVariable(var, term),\n\u001B[0;32m    291\u001B[0m     )\n\u001B[0;32m    292\u001B[0m \u001B[38;5;28;01melse\u001B[39;00m:  \u001B[38;5;66;03m# self is Abstraction\u001B[39;00m\n\u001B[1;32m--> 293\u001B[0m     \u001B[38;5;28;01mreturn\u001B[39;00m Abstraction(\u001B[38;5;28mself\u001B[39m\u001B[38;5;241m.\u001B[39m_head, \u001B[38;5;28;43mself\u001B[39;49m\u001B[38;5;241;43m.\u001B[39;49m\u001B[43m_body\u001B[49m\u001B[38;5;241;43m.\u001B[39;49m\u001B[43m_replaceVariable\u001B[49m\u001B[43m(\u001B[49m\u001B[43mvar\u001B[49m\u001B[43m,\u001B[49m\u001B[43m \u001B[49m\u001B[43mterm\u001B[49m\u001B[43m)\u001B[49m)\n",
      "File \u001B[1;32mD:\\documents\\python_projects\\pure-calculus\\src\\calculus\\term.py:290\u001B[0m, in \u001B[0;36mTerm._replaceVariable\u001B[1;34m(self, var, term)\u001B[0m\n\u001B[0;32m    286\u001B[0m     \u001B[38;5;28;01mreturn\u001B[39;00m term \u001B[38;5;28;01mif\u001B[39;00m \u001B[38;5;28mself\u001B[39m\u001B[38;5;241m.\u001B[39m_var \u001B[38;5;241m==\u001B[39m var \u001B[38;5;28;01melse\u001B[39;00m \u001B[38;5;28mself\u001B[39m\n\u001B[0;32m    287\u001B[0m \u001B[38;5;28;01melif\u001B[39;00m \u001B[38;5;28mself\u001B[39m\u001B[38;5;241m.\u001B[39misApplication:\n\u001B[0;32m    288\u001B[0m     \u001B[38;5;28;01mreturn\u001B[39;00m Application(\n\u001B[0;32m    289\u001B[0m         \u001B[38;5;28mself\u001B[39m\u001B[38;5;241m.\u001B[39m_sub\u001B[38;5;241m.\u001B[39m_replaceVariable(var, term),\n\u001B[1;32m--> 290\u001B[0m         \u001B[38;5;28;43mself\u001B[39;49m\u001B[38;5;241;43m.\u001B[39;49m\u001B[43m_obj\u001B[49m\u001B[38;5;241;43m.\u001B[39;49m\u001B[43m_replaceVariable\u001B[49m\u001B[43m(\u001B[49m\u001B[43mvar\u001B[49m\u001B[43m,\u001B[49m\u001B[43m \u001B[49m\u001B[43mterm\u001B[49m\u001B[43m)\u001B[49m,\n\u001B[0;32m    291\u001B[0m     )\n\u001B[0;32m    292\u001B[0m \u001B[38;5;28;01melse\u001B[39;00m:  \u001B[38;5;66;03m# self is Abstraction\u001B[39;00m\n\u001B[0;32m    293\u001B[0m     \u001B[38;5;28;01mreturn\u001B[39;00m Abstraction(\u001B[38;5;28mself\u001B[39m\u001B[38;5;241m.\u001B[39m_head, \u001B[38;5;28mself\u001B[39m\u001B[38;5;241m.\u001B[39m_body\u001B[38;5;241m.\u001B[39m_replaceVariable(var, term))\n",
      "File \u001B[1;32mD:\\documents\\python_projects\\pure-calculus\\src\\calculus\\term.py:289\u001B[0m, in \u001B[0;36mTerm._replaceVariable\u001B[1;34m(self, var, term)\u001B[0m\n\u001B[0;32m    286\u001B[0m     \u001B[38;5;28;01mreturn\u001B[39;00m term \u001B[38;5;28;01mif\u001B[39;00m \u001B[38;5;28mself\u001B[39m\u001B[38;5;241m.\u001B[39m_var \u001B[38;5;241m==\u001B[39m var \u001B[38;5;28;01melse\u001B[39;00m \u001B[38;5;28mself\u001B[39m\n\u001B[0;32m    287\u001B[0m \u001B[38;5;28;01melif\u001B[39;00m \u001B[38;5;28mself\u001B[39m\u001B[38;5;241m.\u001B[39misApplication:\n\u001B[0;32m    288\u001B[0m     \u001B[38;5;28;01mreturn\u001B[39;00m Application(\n\u001B[1;32m--> 289\u001B[0m         \u001B[38;5;28;43mself\u001B[39;49m\u001B[38;5;241;43m.\u001B[39;49m\u001B[43m_sub\u001B[49m\u001B[38;5;241;43m.\u001B[39;49m\u001B[43m_replaceVariable\u001B[49m\u001B[43m(\u001B[49m\u001B[43mvar\u001B[49m\u001B[43m,\u001B[49m\u001B[43m \u001B[49m\u001B[43mterm\u001B[49m\u001B[43m)\u001B[49m,\n\u001B[0;32m    290\u001B[0m         \u001B[38;5;28mself\u001B[39m\u001B[38;5;241m.\u001B[39m_obj\u001B[38;5;241m.\u001B[39m_replaceVariable(var, term),\n\u001B[0;32m    291\u001B[0m     )\n\u001B[0;32m    292\u001B[0m \u001B[38;5;28;01melse\u001B[39;00m:  \u001B[38;5;66;03m# self is Abstraction\u001B[39;00m\n\u001B[0;32m    293\u001B[0m     \u001B[38;5;28;01mreturn\u001B[39;00m Abstraction(\u001B[38;5;28mself\u001B[39m\u001B[38;5;241m.\u001B[39m_head, \u001B[38;5;28mself\u001B[39m\u001B[38;5;241m.\u001B[39m_body\u001B[38;5;241m.\u001B[39m_replaceVariable(var, term))\n",
      "File \u001B[1;32mD:\\documents\\python_projects\\pure-calculus\\src\\calculus\\term.py:290\u001B[0m, in \u001B[0;36mTerm._replaceVariable\u001B[1;34m(self, var, term)\u001B[0m\n\u001B[0;32m    286\u001B[0m     \u001B[38;5;28;01mreturn\u001B[39;00m term \u001B[38;5;28;01mif\u001B[39;00m \u001B[38;5;28mself\u001B[39m\u001B[38;5;241m.\u001B[39m_var \u001B[38;5;241m==\u001B[39m var \u001B[38;5;28;01melse\u001B[39;00m \u001B[38;5;28mself\u001B[39m\n\u001B[0;32m    287\u001B[0m \u001B[38;5;28;01melif\u001B[39;00m \u001B[38;5;28mself\u001B[39m\u001B[38;5;241m.\u001B[39misApplication:\n\u001B[0;32m    288\u001B[0m     \u001B[38;5;28;01mreturn\u001B[39;00m Application(\n\u001B[0;32m    289\u001B[0m         \u001B[38;5;28mself\u001B[39m\u001B[38;5;241m.\u001B[39m_sub\u001B[38;5;241m.\u001B[39m_replaceVariable(var, term),\n\u001B[1;32m--> 290\u001B[0m         \u001B[38;5;28;43mself\u001B[39;49m\u001B[38;5;241;43m.\u001B[39;49m\u001B[43m_obj\u001B[49m\u001B[38;5;241;43m.\u001B[39;49m\u001B[43m_replaceVariable\u001B[49m\u001B[43m(\u001B[49m\u001B[43mvar\u001B[49m\u001B[43m,\u001B[49m\u001B[43m \u001B[49m\u001B[43mterm\u001B[49m\u001B[43m)\u001B[49m,\n\u001B[0;32m    291\u001B[0m     )\n\u001B[0;32m    292\u001B[0m \u001B[38;5;28;01melse\u001B[39;00m:  \u001B[38;5;66;03m# self is Abstraction\u001B[39;00m\n\u001B[0;32m    293\u001B[0m     \u001B[38;5;28;01mreturn\u001B[39;00m Abstraction(\u001B[38;5;28mself\u001B[39m\u001B[38;5;241m.\u001B[39m_head, \u001B[38;5;28mself\u001B[39m\u001B[38;5;241m.\u001B[39m_body\u001B[38;5;241m.\u001B[39m_replaceVariable(var, term))\n",
      "File \u001B[1;32mD:\\documents\\python_projects\\pure-calculus\\src\\calculus\\term.py:293\u001B[0m, in \u001B[0;36mTerm._replaceVariable\u001B[1;34m(self, var, term)\u001B[0m\n\u001B[0;32m    288\u001B[0m     \u001B[38;5;28;01mreturn\u001B[39;00m Application(\n\u001B[0;32m    289\u001B[0m         \u001B[38;5;28mself\u001B[39m\u001B[38;5;241m.\u001B[39m_sub\u001B[38;5;241m.\u001B[39m_replaceVariable(var, term),\n\u001B[0;32m    290\u001B[0m         \u001B[38;5;28mself\u001B[39m\u001B[38;5;241m.\u001B[39m_obj\u001B[38;5;241m.\u001B[39m_replaceVariable(var, term),\n\u001B[0;32m    291\u001B[0m     )\n\u001B[0;32m    292\u001B[0m \u001B[38;5;28;01melse\u001B[39;00m:  \u001B[38;5;66;03m# self is Abstraction\u001B[39;00m\n\u001B[1;32m--> 293\u001B[0m     \u001B[38;5;28;01mreturn\u001B[39;00m Abstraction(\u001B[38;5;28mself\u001B[39m\u001B[38;5;241m.\u001B[39m_head, \u001B[38;5;28;43mself\u001B[39;49m\u001B[38;5;241;43m.\u001B[39;49m\u001B[43m_body\u001B[49m\u001B[38;5;241;43m.\u001B[39;49m\u001B[43m_replaceVariable\u001B[49m\u001B[43m(\u001B[49m\u001B[43mvar\u001B[49m\u001B[43m,\u001B[49m\u001B[43m \u001B[49m\u001B[43mterm\u001B[49m\u001B[43m)\u001B[49m)\n",
      "File \u001B[1;32mD:\\documents\\python_projects\\pure-calculus\\src\\calculus\\term.py:289\u001B[0m, in \u001B[0;36mTerm._replaceVariable\u001B[1;34m(self, var, term)\u001B[0m\n\u001B[0;32m    286\u001B[0m     \u001B[38;5;28;01mreturn\u001B[39;00m term \u001B[38;5;28;01mif\u001B[39;00m \u001B[38;5;28mself\u001B[39m\u001B[38;5;241m.\u001B[39m_var \u001B[38;5;241m==\u001B[39m var \u001B[38;5;28;01melse\u001B[39;00m \u001B[38;5;28mself\u001B[39m\n\u001B[0;32m    287\u001B[0m \u001B[38;5;28;01melif\u001B[39;00m \u001B[38;5;28mself\u001B[39m\u001B[38;5;241m.\u001B[39misApplication:\n\u001B[0;32m    288\u001B[0m     \u001B[38;5;28;01mreturn\u001B[39;00m Application(\n\u001B[1;32m--> 289\u001B[0m         \u001B[38;5;28;43mself\u001B[39;49m\u001B[38;5;241;43m.\u001B[39;49m\u001B[43m_sub\u001B[49m\u001B[38;5;241;43m.\u001B[39;49m\u001B[43m_replaceVariable\u001B[49m\u001B[43m(\u001B[49m\u001B[43mvar\u001B[49m\u001B[43m,\u001B[49m\u001B[43m \u001B[49m\u001B[43mterm\u001B[49m\u001B[43m)\u001B[49m,\n\u001B[0;32m    290\u001B[0m         \u001B[38;5;28mself\u001B[39m\u001B[38;5;241m.\u001B[39m_obj\u001B[38;5;241m.\u001B[39m_replaceVariable(var, term),\n\u001B[0;32m    291\u001B[0m     )\n\u001B[0;32m    292\u001B[0m \u001B[38;5;28;01melse\u001B[39;00m:  \u001B[38;5;66;03m# self is Abstraction\u001B[39;00m\n\u001B[0;32m    293\u001B[0m     \u001B[38;5;28;01mreturn\u001B[39;00m Abstraction(\u001B[38;5;28mself\u001B[39m\u001B[38;5;241m.\u001B[39m_head, \u001B[38;5;28mself\u001B[39m\u001B[38;5;241m.\u001B[39m_body\u001B[38;5;241m.\u001B[39m_replaceVariable(var, term))\n",
      "File \u001B[1;32mD:\\documents\\python_projects\\pure-calculus\\src\\calculus\\term.py:290\u001B[0m, in \u001B[0;36mTerm._replaceVariable\u001B[1;34m(self, var, term)\u001B[0m\n\u001B[0;32m    286\u001B[0m     \u001B[38;5;28;01mreturn\u001B[39;00m term \u001B[38;5;28;01mif\u001B[39;00m \u001B[38;5;28mself\u001B[39m\u001B[38;5;241m.\u001B[39m_var \u001B[38;5;241m==\u001B[39m var \u001B[38;5;28;01melse\u001B[39;00m \u001B[38;5;28mself\u001B[39m\n\u001B[0;32m    287\u001B[0m \u001B[38;5;28;01melif\u001B[39;00m \u001B[38;5;28mself\u001B[39m\u001B[38;5;241m.\u001B[39misApplication:\n\u001B[0;32m    288\u001B[0m     \u001B[38;5;28;01mreturn\u001B[39;00m Application(\n\u001B[0;32m    289\u001B[0m         \u001B[38;5;28mself\u001B[39m\u001B[38;5;241m.\u001B[39m_sub\u001B[38;5;241m.\u001B[39m_replaceVariable(var, term),\n\u001B[1;32m--> 290\u001B[0m         \u001B[38;5;28;43mself\u001B[39;49m\u001B[38;5;241;43m.\u001B[39;49m\u001B[43m_obj\u001B[49m\u001B[38;5;241;43m.\u001B[39;49m\u001B[43m_replaceVariable\u001B[49m\u001B[43m(\u001B[49m\u001B[43mvar\u001B[49m\u001B[43m,\u001B[49m\u001B[43m \u001B[49m\u001B[43mterm\u001B[49m\u001B[43m)\u001B[49m,\n\u001B[0;32m    291\u001B[0m     )\n\u001B[0;32m    292\u001B[0m \u001B[38;5;28;01melse\u001B[39;00m:  \u001B[38;5;66;03m# self is Abstraction\u001B[39;00m\n\u001B[0;32m    293\u001B[0m     \u001B[38;5;28;01mreturn\u001B[39;00m Abstraction(\u001B[38;5;28mself\u001B[39m\u001B[38;5;241m.\u001B[39m_head, \u001B[38;5;28mself\u001B[39m\u001B[38;5;241m.\u001B[39m_body\u001B[38;5;241m.\u001B[39m_replaceVariable(var, term))\n",
      "File \u001B[1;32mD:\\documents\\python_projects\\pure-calculus\\src\\calculus\\term.py:289\u001B[0m, in \u001B[0;36mTerm._replaceVariable\u001B[1;34m(self, var, term)\u001B[0m\n\u001B[0;32m    286\u001B[0m     \u001B[38;5;28;01mreturn\u001B[39;00m term \u001B[38;5;28;01mif\u001B[39;00m \u001B[38;5;28mself\u001B[39m\u001B[38;5;241m.\u001B[39m_var \u001B[38;5;241m==\u001B[39m var \u001B[38;5;28;01melse\u001B[39;00m \u001B[38;5;28mself\u001B[39m\n\u001B[0;32m    287\u001B[0m \u001B[38;5;28;01melif\u001B[39;00m \u001B[38;5;28mself\u001B[39m\u001B[38;5;241m.\u001B[39misApplication:\n\u001B[0;32m    288\u001B[0m     \u001B[38;5;28;01mreturn\u001B[39;00m Application(\n\u001B[1;32m--> 289\u001B[0m         \u001B[38;5;28;43mself\u001B[39;49m\u001B[38;5;241;43m.\u001B[39;49m\u001B[43m_sub\u001B[49m\u001B[38;5;241;43m.\u001B[39;49m\u001B[43m_replaceVariable\u001B[49m\u001B[43m(\u001B[49m\u001B[43mvar\u001B[49m\u001B[43m,\u001B[49m\u001B[43m \u001B[49m\u001B[43mterm\u001B[49m\u001B[43m)\u001B[49m,\n\u001B[0;32m    290\u001B[0m         \u001B[38;5;28mself\u001B[39m\u001B[38;5;241m.\u001B[39m_obj\u001B[38;5;241m.\u001B[39m_replaceVariable(var, term),\n\u001B[0;32m    291\u001B[0m     )\n\u001B[0;32m    292\u001B[0m \u001B[38;5;28;01melse\u001B[39;00m:  \u001B[38;5;66;03m# self is Abstraction\u001B[39;00m\n\u001B[0;32m    293\u001B[0m     \u001B[38;5;28;01mreturn\u001B[39;00m Abstraction(\u001B[38;5;28mself\u001B[39m\u001B[38;5;241m.\u001B[39m_head, \u001B[38;5;28mself\u001B[39m\u001B[38;5;241m.\u001B[39m_body\u001B[38;5;241m.\u001B[39m_replaceVariable(var, term))\n",
      "File \u001B[1;32mD:\\documents\\python_projects\\pure-calculus\\src\\calculus\\term.py:293\u001B[0m, in \u001B[0;36mTerm._replaceVariable\u001B[1;34m(self, var, term)\u001B[0m\n\u001B[0;32m    288\u001B[0m     \u001B[38;5;28;01mreturn\u001B[39;00m Application(\n\u001B[0;32m    289\u001B[0m         \u001B[38;5;28mself\u001B[39m\u001B[38;5;241m.\u001B[39m_sub\u001B[38;5;241m.\u001B[39m_replaceVariable(var, term),\n\u001B[0;32m    290\u001B[0m         \u001B[38;5;28mself\u001B[39m\u001B[38;5;241m.\u001B[39m_obj\u001B[38;5;241m.\u001B[39m_replaceVariable(var, term),\n\u001B[0;32m    291\u001B[0m     )\n\u001B[0;32m    292\u001B[0m \u001B[38;5;28;01melse\u001B[39;00m:  \u001B[38;5;66;03m# self is Abstraction\u001B[39;00m\n\u001B[1;32m--> 293\u001B[0m     \u001B[38;5;28;01mreturn\u001B[39;00m Abstraction(\u001B[38;5;28mself\u001B[39m\u001B[38;5;241m.\u001B[39m_head, \u001B[38;5;28;43mself\u001B[39;49m\u001B[38;5;241;43m.\u001B[39;49m\u001B[43m_body\u001B[49m\u001B[38;5;241;43m.\u001B[39;49m\u001B[43m_replaceVariable\u001B[49m\u001B[43m(\u001B[49m\u001B[43mvar\u001B[49m\u001B[43m,\u001B[49m\u001B[43m \u001B[49m\u001B[43mterm\u001B[49m\u001B[43m)\u001B[49m)\n",
      "File \u001B[1;32mD:\\documents\\python_projects\\pure-calculus\\src\\calculus\\term.py:288\u001B[0m, in \u001B[0;36mTerm._replaceVariable\u001B[1;34m(self, var, term)\u001B[0m\n\u001B[0;32m    286\u001B[0m     \u001B[38;5;28;01mreturn\u001B[39;00m term \u001B[38;5;28;01mif\u001B[39;00m \u001B[38;5;28mself\u001B[39m\u001B[38;5;241m.\u001B[39m_var \u001B[38;5;241m==\u001B[39m var \u001B[38;5;28;01melse\u001B[39;00m \u001B[38;5;28mself\u001B[39m\n\u001B[0;32m    287\u001B[0m \u001B[38;5;28;01melif\u001B[39;00m \u001B[38;5;28mself\u001B[39m\u001B[38;5;241m.\u001B[39misApplication:\n\u001B[1;32m--> 288\u001B[0m     \u001B[38;5;28;01mreturn\u001B[39;00m \u001B[43mApplication\u001B[49m\u001B[43m(\u001B[49m\n\u001B[0;32m    289\u001B[0m \u001B[43m        \u001B[49m\u001B[38;5;28;43mself\u001B[39;49m\u001B[38;5;241;43m.\u001B[39;49m\u001B[43m_sub\u001B[49m\u001B[38;5;241;43m.\u001B[39;49m\u001B[43m_replaceVariable\u001B[49m\u001B[43m(\u001B[49m\u001B[43mvar\u001B[49m\u001B[43m,\u001B[49m\u001B[43m \u001B[49m\u001B[43mterm\u001B[49m\u001B[43m)\u001B[49m\u001B[43m,\u001B[49m\n\u001B[0;32m    290\u001B[0m \u001B[43m        \u001B[49m\u001B[38;5;28;43mself\u001B[39;49m\u001B[38;5;241;43m.\u001B[39;49m\u001B[43m_obj\u001B[49m\u001B[38;5;241;43m.\u001B[39;49m\u001B[43m_replaceVariable\u001B[49m\u001B[43m(\u001B[49m\u001B[43mvar\u001B[49m\u001B[43m,\u001B[49m\u001B[43m \u001B[49m\u001B[43mterm\u001B[49m\u001B[43m)\u001B[49m\u001B[43m,\u001B[49m\n\u001B[0;32m    291\u001B[0m \u001B[43m    \u001B[49m\u001B[43m)\u001B[49m\n\u001B[0;32m    292\u001B[0m \u001B[38;5;28;01melse\u001B[39;00m:  \u001B[38;5;66;03m# self is Abstraction\u001B[39;00m\n\u001B[0;32m    293\u001B[0m     \u001B[38;5;28;01mreturn\u001B[39;00m Abstraction(\u001B[38;5;28mself\u001B[39m\u001B[38;5;241m.\u001B[39m_head, \u001B[38;5;28mself\u001B[39m\u001B[38;5;241m.\u001B[39m_body\u001B[38;5;241m.\u001B[39m_replaceVariable(var, term))\n",
      "\u001B[1;31mKeyboardInterrupt\u001B[0m: "
     ]
    }
   ],
   "source": [
    "a = 3\n",
    "b = 5\n",
    "term = multi_app_term(arithm_complex_ops.gcd_term_v3(), nat_numbers.num_term(a), nat_numbers.num_term(b))\n",
    "norm_term, steps = term.normalize_no_lim(LeftmostOutermostStrategy())\n",
    "print(steps)\n",
    "print(norm_term)"
   ],
   "metadata": {
    "collapsed": false
   }
  },
  {
   "cell_type": "code",
   "execution_count": 9,
   "outputs": [
    {
     "ename": "KeyboardInterrupt",
     "evalue": "",
     "output_type": "error",
     "traceback": [
      "\u001B[1;31m---------------------------------------------------------------------------\u001B[0m",
      "\u001B[1;31mKeyboardInterrupt\u001B[0m                         Traceback (most recent call last)",
      "Cell \u001B[1;32mIn[9], line 4\u001B[0m\n\u001B[0;32m      2\u001B[0m b \u001B[38;5;241m=\u001B[39m \u001B[38;5;241m15\u001B[39m\n\u001B[0;32m      3\u001B[0m term \u001B[38;5;241m=\u001B[39m multi_app_term(arithm_complex_ops\u001B[38;5;241m.\u001B[39mfast_gcd_term(), nat_numbers\u001B[38;5;241m.\u001B[39mnum_term(a), nat_numbers\u001B[38;5;241m.\u001B[39mnum_term(b))\n\u001B[1;32m----> 4\u001B[0m \u001B[38;5;28mprint\u001B[39m(\u001B[43mterm\u001B[49m\u001B[38;5;241;43m.\u001B[39;49m\u001B[43mnormalize_no_lim\u001B[49m\u001B[43m(\u001B[49m\u001B[43mLeftmostOutermostStrategy\u001B[49m\u001B[43m(\u001B[49m\u001B[43m)\u001B[49m\u001B[43m)\u001B[49m[\u001B[38;5;241m0\u001B[39m])\n",
      "File \u001B[1;32mD:\\documents\\python_projects\\pure-calculus\\src\\calculus\\term.py:176\u001B[0m, in \u001B[0;36mTerm.normalize_no_lim\u001B[1;34m(self, strategy)\u001B[0m\n\u001B[0;32m    174\u001B[0m count \u001B[38;5;241m=\u001B[39m \u001B[38;5;241m0\u001B[39m\n\u001B[0;32m    175\u001B[0m \u001B[38;5;28;01mwhile\u001B[39;00m term\u001B[38;5;241m.\u001B[39mredexes \u001B[38;5;241m!=\u001B[39m []:\n\u001B[1;32m--> 176\u001B[0m     term \u001B[38;5;241m=\u001B[39m \u001B[43mterm\u001B[49m\u001B[38;5;241;43m.\u001B[39;49m\u001B[43m_betaConversion\u001B[49m\u001B[43m(\u001B[49m\u001B[43mstrategy\u001B[49m\u001B[43m)\u001B[49m\n\u001B[0;32m    177\u001B[0m     term \u001B[38;5;241m=\u001B[39m term\u001B[38;5;241m.\u001B[39m_updateBoundVariables()\n\u001B[0;32m    178\u001B[0m     count \u001B[38;5;241m+\u001B[39m\u001B[38;5;241m=\u001B[39m \u001B[38;5;241m1\u001B[39m\n",
      "File \u001B[1;32mD:\\documents\\python_projects\\pure-calculus\\src\\calculus\\term.py:208\u001B[0m, in \u001B[0;36mTerm._betaConversion\u001B[1;34m(self, strategy)\u001B[0m\n\u001B[0;32m    203\u001B[0m \u001B[38;5;28;01mdef\u001B[39;00m \u001B[38;5;21m_betaConversion\u001B[39m(\u001B[38;5;28mself\u001B[39m, strategy):\n\u001B[0;32m    204\u001B[0m \u001B[38;5;250m    \u001B[39m\u001B[38;5;124;03m\"\"\"\u001B[39;00m\n\u001B[0;32m    205\u001B[0m \u001B[38;5;124;03m    :param strategy: OneStepStrategy\u001B[39;00m\n\u001B[0;32m    206\u001B[0m \u001B[38;5;124;03m    :return term with redex eliminated using the given strategy\u001B[39;00m\n\u001B[0;32m    207\u001B[0m \u001B[38;5;124;03m    \"\"\"\u001B[39;00m\n\u001B[1;32m--> 208\u001B[0m     index \u001B[38;5;241m=\u001B[39m \u001B[43mstrategy\u001B[49m\u001B[38;5;241;43m.\u001B[39;49m\u001B[43mredexIndex\u001B[49m\u001B[43m(\u001B[49m\u001B[38;5;28;43mself\u001B[39;49m\u001B[43m)\u001B[49m\n\u001B[0;32m    209\u001B[0m     subterm \u001B[38;5;241m=\u001B[39m \u001B[38;5;28mself\u001B[39m\u001B[38;5;241m.\u001B[39msubterm(index)\n\u001B[0;32m    210\u001B[0m     reducedTerm \u001B[38;5;241m=\u001B[39m subterm\u001B[38;5;241m.\u001B[39m_removeOuterRedex()\n",
      "File \u001B[1;32mD:\\documents\\python_projects\\pure-calculus\\src\\calculus\\strategy.py:26\u001B[0m, in \u001B[0;36mLeftmostOutermostStrategy.redexIndex\u001B[1;34m(self, term, initIndex)\u001B[0m\n\u001B[0;32m     24\u001B[0m     \u001B[38;5;28;01mreturn\u001B[39;00m initIndex \u001B[38;5;241m+\u001B[39m \u001B[38;5;241m1\u001B[39m\n\u001B[0;32m     25\u001B[0m \u001B[38;5;28;01melif\u001B[39;00m \u001B[38;5;28mlen\u001B[39m(term\u001B[38;5;241m.\u001B[39m_sub\u001B[38;5;241m.\u001B[39mredexes) \u001B[38;5;241m!=\u001B[39m \u001B[38;5;241m0\u001B[39m:\n\u001B[1;32m---> 26\u001B[0m     \u001B[38;5;28;01mreturn\u001B[39;00m \u001B[38;5;28;43mself\u001B[39;49m\u001B[38;5;241;43m.\u001B[39;49m\u001B[43mredexIndex\u001B[49m\u001B[43m(\u001B[49m\u001B[43mterm\u001B[49m\u001B[38;5;241;43m.\u001B[39;49m\u001B[43m_sub\u001B[49m\u001B[43m,\u001B[49m\u001B[43m \u001B[49m\u001B[43minitIndex\u001B[49m\u001B[43m \u001B[49m\u001B[38;5;241;43m+\u001B[39;49m\u001B[43m \u001B[49m\u001B[38;5;241;43m1\u001B[39;49m\u001B[43m)\u001B[49m\n\u001B[0;32m     27\u001B[0m \u001B[38;5;28;01melse\u001B[39;00m:\n\u001B[0;32m     28\u001B[0m     \u001B[38;5;28;01mreturn\u001B[39;00m \u001B[38;5;28mself\u001B[39m\u001B[38;5;241m.\u001B[39mredexIndex(\n\u001B[0;32m     29\u001B[0m         term\u001B[38;5;241m.\u001B[39m_obj, initIndex \u001B[38;5;241m+\u001B[39m term\u001B[38;5;241m.\u001B[39m_sub\u001B[38;5;241m.\u001B[39mverticesNumber \u001B[38;5;241m+\u001B[39m \u001B[38;5;241m1\u001B[39m\n\u001B[0;32m     30\u001B[0m     )\n",
      "File \u001B[1;32mD:\\documents\\python_projects\\pure-calculus\\src\\calculus\\strategy.py:26\u001B[0m, in \u001B[0;36mLeftmostOutermostStrategy.redexIndex\u001B[1;34m(self, term, initIndex)\u001B[0m\n\u001B[0;32m     24\u001B[0m     \u001B[38;5;28;01mreturn\u001B[39;00m initIndex \u001B[38;5;241m+\u001B[39m \u001B[38;5;241m1\u001B[39m\n\u001B[0;32m     25\u001B[0m \u001B[38;5;28;01melif\u001B[39;00m \u001B[38;5;28mlen\u001B[39m(term\u001B[38;5;241m.\u001B[39m_sub\u001B[38;5;241m.\u001B[39mredexes) \u001B[38;5;241m!=\u001B[39m \u001B[38;5;241m0\u001B[39m:\n\u001B[1;32m---> 26\u001B[0m     \u001B[38;5;28;01mreturn\u001B[39;00m \u001B[38;5;28;43mself\u001B[39;49m\u001B[38;5;241;43m.\u001B[39;49m\u001B[43mredexIndex\u001B[49m\u001B[43m(\u001B[49m\u001B[43mterm\u001B[49m\u001B[38;5;241;43m.\u001B[39;49m\u001B[43m_sub\u001B[49m\u001B[43m,\u001B[49m\u001B[43m \u001B[49m\u001B[43minitIndex\u001B[49m\u001B[43m \u001B[49m\u001B[38;5;241;43m+\u001B[39;49m\u001B[43m \u001B[49m\u001B[38;5;241;43m1\u001B[39;49m\u001B[43m)\u001B[49m\n\u001B[0;32m     27\u001B[0m \u001B[38;5;28;01melse\u001B[39;00m:\n\u001B[0;32m     28\u001B[0m     \u001B[38;5;28;01mreturn\u001B[39;00m \u001B[38;5;28mself\u001B[39m\u001B[38;5;241m.\u001B[39mredexIndex(\n\u001B[0;32m     29\u001B[0m         term\u001B[38;5;241m.\u001B[39m_obj, initIndex \u001B[38;5;241m+\u001B[39m term\u001B[38;5;241m.\u001B[39m_sub\u001B[38;5;241m.\u001B[39mverticesNumber \u001B[38;5;241m+\u001B[39m \u001B[38;5;241m1\u001B[39m\n\u001B[0;32m     30\u001B[0m     )\n",
      "    \u001B[1;31m[... skipping similar frames: LeftmostOutermostStrategy.redexIndex at line 26 (8 times)]\u001B[0m\n",
      "File \u001B[1;32mD:\\documents\\python_projects\\pure-calculus\\src\\calculus\\strategy.py:26\u001B[0m, in \u001B[0;36mLeftmostOutermostStrategy.redexIndex\u001B[1;34m(self, term, initIndex)\u001B[0m\n\u001B[0;32m     24\u001B[0m     \u001B[38;5;28;01mreturn\u001B[39;00m initIndex \u001B[38;5;241m+\u001B[39m \u001B[38;5;241m1\u001B[39m\n\u001B[0;32m     25\u001B[0m \u001B[38;5;28;01melif\u001B[39;00m \u001B[38;5;28mlen\u001B[39m(term\u001B[38;5;241m.\u001B[39m_sub\u001B[38;5;241m.\u001B[39mredexes) \u001B[38;5;241m!=\u001B[39m \u001B[38;5;241m0\u001B[39m:\n\u001B[1;32m---> 26\u001B[0m     \u001B[38;5;28;01mreturn\u001B[39;00m \u001B[38;5;28;43mself\u001B[39;49m\u001B[38;5;241;43m.\u001B[39;49m\u001B[43mredexIndex\u001B[49m\u001B[43m(\u001B[49m\u001B[43mterm\u001B[49m\u001B[38;5;241;43m.\u001B[39;49m\u001B[43m_sub\u001B[49m\u001B[43m,\u001B[49m\u001B[43m \u001B[49m\u001B[43minitIndex\u001B[49m\u001B[43m \u001B[49m\u001B[38;5;241;43m+\u001B[39;49m\u001B[43m \u001B[49m\u001B[38;5;241;43m1\u001B[39;49m\u001B[43m)\u001B[49m\n\u001B[0;32m     27\u001B[0m \u001B[38;5;28;01melse\u001B[39;00m:\n\u001B[0;32m     28\u001B[0m     \u001B[38;5;28;01mreturn\u001B[39;00m \u001B[38;5;28mself\u001B[39m\u001B[38;5;241m.\u001B[39mredexIndex(\n\u001B[0;32m     29\u001B[0m         term\u001B[38;5;241m.\u001B[39m_obj, initIndex \u001B[38;5;241m+\u001B[39m term\u001B[38;5;241m.\u001B[39m_sub\u001B[38;5;241m.\u001B[39mverticesNumber \u001B[38;5;241m+\u001B[39m \u001B[38;5;241m1\u001B[39m\n\u001B[0;32m     30\u001B[0m     )\n",
      "File \u001B[1;32mD:\\documents\\python_projects\\pure-calculus\\src\\calculus\\strategy.py:25\u001B[0m, in \u001B[0;36mLeftmostOutermostStrategy.redexIndex\u001B[1;34m(self, term, initIndex)\u001B[0m\n\u001B[0;32m     23\u001B[0m \u001B[38;5;28;01mif\u001B[39;00m term\u001B[38;5;241m.\u001B[39misBetaRedex:\n\u001B[0;32m     24\u001B[0m     \u001B[38;5;28;01mreturn\u001B[39;00m initIndex \u001B[38;5;241m+\u001B[39m \u001B[38;5;241m1\u001B[39m\n\u001B[1;32m---> 25\u001B[0m \u001B[38;5;28;01melif\u001B[39;00m \u001B[38;5;28mlen\u001B[39m(\u001B[43mterm\u001B[49m\u001B[38;5;241;43m.\u001B[39;49m\u001B[43m_sub\u001B[49m\u001B[38;5;241;43m.\u001B[39;49m\u001B[43mredexes\u001B[49m) \u001B[38;5;241m!=\u001B[39m \u001B[38;5;241m0\u001B[39m:\n\u001B[0;32m     26\u001B[0m     \u001B[38;5;28;01mreturn\u001B[39;00m \u001B[38;5;28mself\u001B[39m\u001B[38;5;241m.\u001B[39mredexIndex(term\u001B[38;5;241m.\u001B[39m_sub, initIndex \u001B[38;5;241m+\u001B[39m \u001B[38;5;241m1\u001B[39m)\n\u001B[0;32m     27\u001B[0m \u001B[38;5;28;01melse\u001B[39;00m:\n",
      "File \u001B[1;32mD:\\documents\\python_projects\\pure-calculus\\src\\calculus\\term.py:108\u001B[0m, in \u001B[0;36mTerm.redexes\u001B[1;34m(self)\u001B[0m\n\u001B[0;32m    106\u001B[0m \u001B[38;5;66;03m# self is Application\u001B[39;00m\n\u001B[0;32m    107\u001B[0m temp \u001B[38;5;241m=\u001B[39m [\u001B[38;5;28mself\u001B[39m] \u001B[38;5;28;01mif\u001B[39;00m \u001B[38;5;28mself\u001B[39m\u001B[38;5;241m.\u001B[39misBetaRedex \u001B[38;5;28;01melse\u001B[39;00m []\n\u001B[1;32m--> 108\u001B[0m temp \u001B[38;5;241m+\u001B[39m\u001B[38;5;241m=\u001B[39m \u001B[38;5;28;43mself\u001B[39;49m\u001B[38;5;241;43m.\u001B[39;49m\u001B[43m_sub\u001B[49m\u001B[38;5;241;43m.\u001B[39;49m\u001B[43mredexes\u001B[49m \u001B[38;5;241m+\u001B[39m \u001B[38;5;28mself\u001B[39m\u001B[38;5;241m.\u001B[39m_obj\u001B[38;5;241m.\u001B[39mredexes\n\u001B[0;32m    109\u001B[0m \u001B[38;5;28;01mreturn\u001B[39;00m temp\n",
      "File \u001B[1;32mD:\\documents\\python_projects\\pure-calculus\\src\\calculus\\term.py:108\u001B[0m, in \u001B[0;36mTerm.redexes\u001B[1;34m(self)\u001B[0m\n\u001B[0;32m    106\u001B[0m \u001B[38;5;66;03m# self is Application\u001B[39;00m\n\u001B[0;32m    107\u001B[0m temp \u001B[38;5;241m=\u001B[39m [\u001B[38;5;28mself\u001B[39m] \u001B[38;5;28;01mif\u001B[39;00m \u001B[38;5;28mself\u001B[39m\u001B[38;5;241m.\u001B[39misBetaRedex \u001B[38;5;28;01melse\u001B[39;00m []\n\u001B[1;32m--> 108\u001B[0m temp \u001B[38;5;241m+\u001B[39m\u001B[38;5;241m=\u001B[39m \u001B[38;5;28;43mself\u001B[39;49m\u001B[38;5;241;43m.\u001B[39;49m\u001B[43m_sub\u001B[49m\u001B[38;5;241;43m.\u001B[39;49m\u001B[43mredexes\u001B[49m \u001B[38;5;241m+\u001B[39m \u001B[38;5;28mself\u001B[39m\u001B[38;5;241m.\u001B[39m_obj\u001B[38;5;241m.\u001B[39mredexes\n\u001B[0;32m    109\u001B[0m \u001B[38;5;28;01mreturn\u001B[39;00m temp\n",
      "    \u001B[1;31m[... skipping similar frames: Term.redexes at line 108 (11 times)]\u001B[0m\n",
      "File \u001B[1;32mD:\\documents\\python_projects\\pure-calculus\\src\\calculus\\term.py:108\u001B[0m, in \u001B[0;36mTerm.redexes\u001B[1;34m(self)\u001B[0m\n\u001B[0;32m    106\u001B[0m \u001B[38;5;66;03m# self is Application\u001B[39;00m\n\u001B[0;32m    107\u001B[0m temp \u001B[38;5;241m=\u001B[39m [\u001B[38;5;28mself\u001B[39m] \u001B[38;5;28;01mif\u001B[39;00m \u001B[38;5;28mself\u001B[39m\u001B[38;5;241m.\u001B[39misBetaRedex \u001B[38;5;28;01melse\u001B[39;00m []\n\u001B[1;32m--> 108\u001B[0m temp \u001B[38;5;241m+\u001B[39m\u001B[38;5;241m=\u001B[39m \u001B[38;5;28;43mself\u001B[39;49m\u001B[38;5;241;43m.\u001B[39;49m\u001B[43m_sub\u001B[49m\u001B[38;5;241;43m.\u001B[39;49m\u001B[43mredexes\u001B[49m \u001B[38;5;241m+\u001B[39m \u001B[38;5;28mself\u001B[39m\u001B[38;5;241m.\u001B[39m_obj\u001B[38;5;241m.\u001B[39mredexes\n\u001B[0;32m    109\u001B[0m \u001B[38;5;28;01mreturn\u001B[39;00m temp\n",
      "File \u001B[1;32mD:\\documents\\python_projects\\pure-calculus\\src\\calculus\\term.py:105\u001B[0m, in \u001B[0;36mTerm.redexes\u001B[1;34m(self)\u001B[0m\n\u001B[0;32m    103\u001B[0m     \u001B[38;5;28;01mreturn\u001B[39;00m []\n\u001B[0;32m    104\u001B[0m \u001B[38;5;28;01mif\u001B[39;00m \u001B[38;5;28mself\u001B[39m\u001B[38;5;241m.\u001B[39misAbstraction:\n\u001B[1;32m--> 105\u001B[0m     \u001B[38;5;28;01mreturn\u001B[39;00m \u001B[38;5;28;43mself\u001B[39;49m\u001B[38;5;241;43m.\u001B[39;49m\u001B[43m_body\u001B[49m\u001B[38;5;241;43m.\u001B[39;49m\u001B[43mredexes\u001B[49m\n\u001B[0;32m    106\u001B[0m \u001B[38;5;66;03m# self is Application\u001B[39;00m\n\u001B[0;32m    107\u001B[0m temp \u001B[38;5;241m=\u001B[39m [\u001B[38;5;28mself\u001B[39m] \u001B[38;5;28;01mif\u001B[39;00m \u001B[38;5;28mself\u001B[39m\u001B[38;5;241m.\u001B[39misBetaRedex \u001B[38;5;28;01melse\u001B[39;00m []\n",
      "File \u001B[1;32mD:\\documents\\python_projects\\pure-calculus\\src\\calculus\\term.py:108\u001B[0m, in \u001B[0;36mTerm.redexes\u001B[1;34m(self)\u001B[0m\n\u001B[0;32m    106\u001B[0m \u001B[38;5;66;03m# self is Application\u001B[39;00m\n\u001B[0;32m    107\u001B[0m temp \u001B[38;5;241m=\u001B[39m [\u001B[38;5;28mself\u001B[39m] \u001B[38;5;28;01mif\u001B[39;00m \u001B[38;5;28mself\u001B[39m\u001B[38;5;241m.\u001B[39misBetaRedex \u001B[38;5;28;01melse\u001B[39;00m []\n\u001B[1;32m--> 108\u001B[0m temp \u001B[38;5;241m+\u001B[39m\u001B[38;5;241m=\u001B[39m \u001B[38;5;28;43mself\u001B[39;49m\u001B[38;5;241;43m.\u001B[39;49m\u001B[43m_sub\u001B[49m\u001B[38;5;241;43m.\u001B[39;49m\u001B[43mredexes\u001B[49m \u001B[38;5;241m+\u001B[39m \u001B[38;5;28mself\u001B[39m\u001B[38;5;241m.\u001B[39m_obj\u001B[38;5;241m.\u001B[39mredexes\n\u001B[0;32m    109\u001B[0m \u001B[38;5;28;01mreturn\u001B[39;00m temp\n",
      "File \u001B[1;32mD:\\documents\\python_projects\\pure-calculus\\src\\calculus\\term.py:108\u001B[0m, in \u001B[0;36mTerm.redexes\u001B[1;34m(self)\u001B[0m\n\u001B[0;32m    106\u001B[0m \u001B[38;5;66;03m# self is Application\u001B[39;00m\n\u001B[0;32m    107\u001B[0m temp \u001B[38;5;241m=\u001B[39m [\u001B[38;5;28mself\u001B[39m] \u001B[38;5;28;01mif\u001B[39;00m \u001B[38;5;28mself\u001B[39m\u001B[38;5;241m.\u001B[39misBetaRedex \u001B[38;5;28;01melse\u001B[39;00m []\n\u001B[1;32m--> 108\u001B[0m temp \u001B[38;5;241m+\u001B[39m\u001B[38;5;241m=\u001B[39m \u001B[38;5;28mself\u001B[39m\u001B[38;5;241m.\u001B[39m_sub\u001B[38;5;241m.\u001B[39mredexes \u001B[38;5;241m+\u001B[39m \u001B[38;5;28;43mself\u001B[39;49m\u001B[38;5;241;43m.\u001B[39;49m\u001B[43m_obj\u001B[49m\u001B[38;5;241;43m.\u001B[39;49m\u001B[43mredexes\u001B[49m\n\u001B[0;32m    109\u001B[0m \u001B[38;5;28;01mreturn\u001B[39;00m temp\n",
      "    \u001B[1;31m[... skipping similar frames: Term.redexes at line 108 (5 times)]\u001B[0m\n",
      "File \u001B[1;32mD:\\documents\\python_projects\\pure-calculus\\src\\calculus\\term.py:108\u001B[0m, in \u001B[0;36mTerm.redexes\u001B[1;34m(self)\u001B[0m\n\u001B[0;32m    106\u001B[0m \u001B[38;5;66;03m# self is Application\u001B[39;00m\n\u001B[0;32m    107\u001B[0m temp \u001B[38;5;241m=\u001B[39m [\u001B[38;5;28mself\u001B[39m] \u001B[38;5;28;01mif\u001B[39;00m \u001B[38;5;28mself\u001B[39m\u001B[38;5;241m.\u001B[39misBetaRedex \u001B[38;5;28;01melse\u001B[39;00m []\n\u001B[1;32m--> 108\u001B[0m temp \u001B[38;5;241m+\u001B[39m\u001B[38;5;241m=\u001B[39m \u001B[38;5;28mself\u001B[39m\u001B[38;5;241m.\u001B[39m_sub\u001B[38;5;241m.\u001B[39mredexes \u001B[38;5;241m+\u001B[39m \u001B[38;5;28;43mself\u001B[39;49m\u001B[38;5;241;43m.\u001B[39;49m\u001B[43m_obj\u001B[49m\u001B[38;5;241;43m.\u001B[39;49m\u001B[43mredexes\u001B[49m\n\u001B[0;32m    109\u001B[0m \u001B[38;5;28;01mreturn\u001B[39;00m temp\n",
      "File \u001B[1;32mD:\\documents\\python_projects\\pure-calculus\\src\\calculus\\term.py:105\u001B[0m, in \u001B[0;36mTerm.redexes\u001B[1;34m(self)\u001B[0m\n\u001B[0;32m    103\u001B[0m     \u001B[38;5;28;01mreturn\u001B[39;00m []\n\u001B[0;32m    104\u001B[0m \u001B[38;5;28;01mif\u001B[39;00m \u001B[38;5;28mself\u001B[39m\u001B[38;5;241m.\u001B[39misAbstraction:\n\u001B[1;32m--> 105\u001B[0m     \u001B[38;5;28;01mreturn\u001B[39;00m \u001B[38;5;28;43mself\u001B[39;49m\u001B[38;5;241;43m.\u001B[39;49m\u001B[43m_body\u001B[49m\u001B[38;5;241;43m.\u001B[39;49m\u001B[43mredexes\u001B[49m\n\u001B[0;32m    106\u001B[0m \u001B[38;5;66;03m# self is Application\u001B[39;00m\n\u001B[0;32m    107\u001B[0m temp \u001B[38;5;241m=\u001B[39m [\u001B[38;5;28mself\u001B[39m] \u001B[38;5;28;01mif\u001B[39;00m \u001B[38;5;28mself\u001B[39m\u001B[38;5;241m.\u001B[39misBetaRedex \u001B[38;5;28;01melse\u001B[39;00m []\n",
      "File \u001B[1;32mD:\\documents\\python_projects\\pure-calculus\\src\\calculus\\term.py:108\u001B[0m, in \u001B[0;36mTerm.redexes\u001B[1;34m(self)\u001B[0m\n\u001B[0;32m    106\u001B[0m \u001B[38;5;66;03m# self is Application\u001B[39;00m\n\u001B[0;32m    107\u001B[0m temp \u001B[38;5;241m=\u001B[39m [\u001B[38;5;28mself\u001B[39m] \u001B[38;5;28;01mif\u001B[39;00m \u001B[38;5;28mself\u001B[39m\u001B[38;5;241m.\u001B[39misBetaRedex \u001B[38;5;28;01melse\u001B[39;00m []\n\u001B[1;32m--> 108\u001B[0m temp \u001B[38;5;241m+\u001B[39m\u001B[38;5;241m=\u001B[39m \u001B[38;5;28;43mself\u001B[39;49m\u001B[38;5;241;43m.\u001B[39;49m\u001B[43m_sub\u001B[49m\u001B[38;5;241;43m.\u001B[39;49m\u001B[43mredexes\u001B[49m \u001B[38;5;241m+\u001B[39m \u001B[38;5;28mself\u001B[39m\u001B[38;5;241m.\u001B[39m_obj\u001B[38;5;241m.\u001B[39mredexes\n\u001B[0;32m    109\u001B[0m \u001B[38;5;28;01mreturn\u001B[39;00m temp\n",
      "File \u001B[1;32mD:\\documents\\python_projects\\pure-calculus\\src\\calculus\\term.py:108\u001B[0m, in \u001B[0;36mTerm.redexes\u001B[1;34m(self)\u001B[0m\n\u001B[0;32m    106\u001B[0m \u001B[38;5;66;03m# self is Application\u001B[39;00m\n\u001B[0;32m    107\u001B[0m temp \u001B[38;5;241m=\u001B[39m [\u001B[38;5;28mself\u001B[39m] \u001B[38;5;28;01mif\u001B[39;00m \u001B[38;5;28mself\u001B[39m\u001B[38;5;241m.\u001B[39misBetaRedex \u001B[38;5;28;01melse\u001B[39;00m []\n\u001B[1;32m--> 108\u001B[0m temp \u001B[38;5;241m+\u001B[39m\u001B[38;5;241m=\u001B[39m \u001B[38;5;28mself\u001B[39m\u001B[38;5;241m.\u001B[39m_sub\u001B[38;5;241m.\u001B[39mredexes \u001B[38;5;241m+\u001B[39m \u001B[38;5;28;43mself\u001B[39;49m\u001B[38;5;241;43m.\u001B[39;49m\u001B[43m_obj\u001B[49m\u001B[38;5;241;43m.\u001B[39;49m\u001B[43mredexes\u001B[49m\n\u001B[0;32m    109\u001B[0m \u001B[38;5;28;01mreturn\u001B[39;00m temp\n",
      "File \u001B[1;32mD:\\documents\\python_projects\\pure-calculus\\src\\calculus\\term.py:108\u001B[0m, in \u001B[0;36mTerm.redexes\u001B[1;34m(self)\u001B[0m\n\u001B[0;32m    106\u001B[0m \u001B[38;5;66;03m# self is Application\u001B[39;00m\n\u001B[0;32m    107\u001B[0m temp \u001B[38;5;241m=\u001B[39m [\u001B[38;5;28mself\u001B[39m] \u001B[38;5;28;01mif\u001B[39;00m \u001B[38;5;28mself\u001B[39m\u001B[38;5;241m.\u001B[39misBetaRedex \u001B[38;5;28;01melse\u001B[39;00m []\n\u001B[1;32m--> 108\u001B[0m temp \u001B[38;5;241m+\u001B[39m\u001B[38;5;241m=\u001B[39m \u001B[38;5;28;43mself\u001B[39;49m\u001B[38;5;241;43m.\u001B[39;49m\u001B[43m_sub\u001B[49m\u001B[38;5;241;43m.\u001B[39;49m\u001B[43mredexes\u001B[49m \u001B[38;5;241m+\u001B[39m \u001B[38;5;28mself\u001B[39m\u001B[38;5;241m.\u001B[39m_obj\u001B[38;5;241m.\u001B[39mredexes\n\u001B[0;32m    109\u001B[0m \u001B[38;5;28;01mreturn\u001B[39;00m temp\n",
      "File \u001B[1;32mD:\\documents\\python_projects\\pure-calculus\\src\\calculus\\term.py:105\u001B[0m, in \u001B[0;36mTerm.redexes\u001B[1;34m(self)\u001B[0m\n\u001B[0;32m    103\u001B[0m     \u001B[38;5;28;01mreturn\u001B[39;00m []\n\u001B[0;32m    104\u001B[0m \u001B[38;5;28;01mif\u001B[39;00m \u001B[38;5;28mself\u001B[39m\u001B[38;5;241m.\u001B[39misAbstraction:\n\u001B[1;32m--> 105\u001B[0m     \u001B[38;5;28;01mreturn\u001B[39;00m \u001B[38;5;28;43mself\u001B[39;49m\u001B[38;5;241;43m.\u001B[39;49m\u001B[43m_body\u001B[49m\u001B[38;5;241;43m.\u001B[39;49m\u001B[43mredexes\u001B[49m\n\u001B[0;32m    106\u001B[0m \u001B[38;5;66;03m# self is Application\u001B[39;00m\n\u001B[0;32m    107\u001B[0m temp \u001B[38;5;241m=\u001B[39m [\u001B[38;5;28mself\u001B[39m] \u001B[38;5;28;01mif\u001B[39;00m \u001B[38;5;28mself\u001B[39m\u001B[38;5;241m.\u001B[39misBetaRedex \u001B[38;5;28;01melse\u001B[39;00m []\n",
      "File \u001B[1;32mD:\\documents\\python_projects\\pure-calculus\\src\\calculus\\term.py:108\u001B[0m, in \u001B[0;36mTerm.redexes\u001B[1;34m(self)\u001B[0m\n\u001B[0;32m    106\u001B[0m \u001B[38;5;66;03m# self is Application\u001B[39;00m\n\u001B[0;32m    107\u001B[0m temp \u001B[38;5;241m=\u001B[39m [\u001B[38;5;28mself\u001B[39m] \u001B[38;5;28;01mif\u001B[39;00m \u001B[38;5;28mself\u001B[39m\u001B[38;5;241m.\u001B[39misBetaRedex \u001B[38;5;28;01melse\u001B[39;00m []\n\u001B[1;32m--> 108\u001B[0m temp \u001B[38;5;241m+\u001B[39m\u001B[38;5;241m=\u001B[39m \u001B[38;5;28mself\u001B[39m\u001B[38;5;241m.\u001B[39m_sub\u001B[38;5;241m.\u001B[39mredexes \u001B[38;5;241m+\u001B[39m \u001B[38;5;28;43mself\u001B[39;49m\u001B[38;5;241;43m.\u001B[39;49m\u001B[43m_obj\u001B[49m\u001B[38;5;241;43m.\u001B[39;49m\u001B[43mredexes\u001B[49m\n\u001B[0;32m    109\u001B[0m \u001B[38;5;28;01mreturn\u001B[39;00m temp\n",
      "File \u001B[1;32mD:\\documents\\python_projects\\pure-calculus\\src\\calculus\\term.py:104\u001B[0m, in \u001B[0;36mTerm.redexes\u001B[1;34m(self)\u001B[0m\n\u001B[0;32m    102\u001B[0m \u001B[38;5;28;01mif\u001B[39;00m \u001B[38;5;28mself\u001B[39m\u001B[38;5;241m.\u001B[39misAtom:\n\u001B[0;32m    103\u001B[0m     \u001B[38;5;28;01mreturn\u001B[39;00m []\n\u001B[1;32m--> 104\u001B[0m \u001B[38;5;28;01mif\u001B[39;00m \u001B[38;5;28;43mself\u001B[39;49m\u001B[38;5;241;43m.\u001B[39;49m\u001B[43misAbstraction\u001B[49m:\n\u001B[0;32m    105\u001B[0m     \u001B[38;5;28;01mreturn\u001B[39;00m \u001B[38;5;28mself\u001B[39m\u001B[38;5;241m.\u001B[39m_body\u001B[38;5;241m.\u001B[39mredexes\n\u001B[0;32m    106\u001B[0m \u001B[38;5;66;03m# self is Application\u001B[39;00m\n",
      "File \u001B[1;32mD:\\documents\\python_projects\\pure-calculus\\src\\calculus\\term.py:38\u001B[0m, in \u001B[0;36mTerm.isAbstraction\u001B[1;34m(self)\u001B[0m\n\u001B[0;32m     35\u001B[0m \u001B[38;5;250m    \u001B[39m\u001B[38;5;124;03m\"\"\"checks whether the term is an application\"\"\"\u001B[39;00m\n\u001B[0;32m     36\u001B[0m     \u001B[38;5;28;01mreturn\u001B[39;00m \u001B[38;5;28misinstance\u001B[39m(\u001B[38;5;28mself\u001B[39m, Application)\n\u001B[1;32m---> 38\u001B[0m \u001B[38;5;129m@property\u001B[39m\n\u001B[0;32m     39\u001B[0m \u001B[38;5;28;01mdef\u001B[39;00m \u001B[38;5;21misAbstraction\u001B[39m(\u001B[38;5;28mself\u001B[39m):\n\u001B[0;32m     40\u001B[0m \u001B[38;5;250m    \u001B[39m\u001B[38;5;124;03m\"\"\"checks whether the term is an abstraction\"\"\"\u001B[39;00m\n\u001B[0;32m     41\u001B[0m     \u001B[38;5;28;01mreturn\u001B[39;00m \u001B[38;5;28misinstance\u001B[39m(\u001B[38;5;28mself\u001B[39m, Abstraction)\n",
      "\u001B[1;31mKeyboardInterrupt\u001B[0m: "
     ]
    }
   ],
   "source": [
    "a = 12\n",
    "b = 15\n",
    "term = multi_app_term(arithm_complex_ops.gcd_term_v3(), nat_numbers.num_term(a), nat_numbers.num_term(b))\n",
    "norm_term, steps = term.normalize_no_lim(LeftmostOutermostStrategy())\n",
    "print(steps)\n",
    "print(norm_term)"
   ],
   "metadata": {
    "collapsed": false
   }
  },
  {
   "cell_type": "code",
   "execution_count": 14,
   "outputs": [
    {
     "name": "stdout",
     "output_type": "stream",
     "text": [
      "2416\n",
      "(λq.(λw.(q (q (q (q (q w)))))))\n"
     ]
    }
   ],
   "source": [
    "a = 5\n",
    "b = 10\n",
    "term = multi_app_term(arithm_complex_ops.gcd_term_v3(), nat_numbers.num_term(a), nat_numbers.num_term(b))\n",
    "norm_term, steps = term.normalize_no_lim(LeftmostOutermostStrategy())\n",
    "print(steps)\n",
    "print(norm_term)"
   ],
   "metadata": {
    "collapsed": false
   }
  },
  {
   "cell_type": "code",
   "execution_count": 15,
   "outputs": [
    {
     "name": "stdout",
     "output_type": "stream",
     "text": [
      "2382\n",
      "(λq.(λw.(q (q (q (q (q w)))))))\n"
     ]
    }
   ],
   "source": [
    "a = 10\n",
    "b = 5\n",
    "term = multi_app_term(arithm_complex_ops.gcd_term_v3(), nat_numbers.num_term(a), nat_numbers.num_term(b))\n",
    "norm_term, steps = term.normalize_no_lim(LeftmostOutermostStrategy())\n",
    "print(steps)\n",
    "print(norm_term)"
   ],
   "metadata": {
    "collapsed": false
   }
  },
  {
   "cell_type": "markdown",
   "source": [
    "# PYTHAGOREAN term test"
   ],
   "metadata": {
    "collapsed": false
   }
  },
  {
   "cell_type": "code",
   "execution_count": 3,
   "outputs": [
    {
     "name": "stdout",
     "output_type": "stream",
     "text": [
      "(λq.(λw.q))\n"
     ]
    }
   ],
   "source": [
    "a = 0\n",
    "b = 0\n",
    "c = 0\n",
    "term = multi_app_term(arithm_complex_ops.pythagorean_term(), nat_numbers.num_term(a),\n",
    "                      nat_numbers.num_term(b), nat_numbers.num_term(c))\n",
    "print(term.normalize_no_lim(LeftmostOutermostStrategy())[0])"
   ],
   "metadata": {
    "collapsed": false
   }
  },
  {
   "cell_type": "code",
   "execution_count": 4,
   "outputs": [
    {
     "name": "stdout",
     "output_type": "stream",
     "text": [
      "(λq.(λw.q))\n"
     ]
    }
   ],
   "source": [
    "a = 1\n",
    "b = 0\n",
    "c = 1\n",
    "term = multi_app_term(arithm_complex_ops.pythagorean_term(), nat_numbers.num_term(a),\n",
    "                      nat_numbers.num_term(b), nat_numbers.num_term(c))\n",
    "print(term.normalize_no_lim(LeftmostOutermostStrategy())[0])"
   ],
   "metadata": {
    "collapsed": false
   }
  },
  {
   "cell_type": "code",
   "execution_count": 5,
   "outputs": [
    {
     "name": "stdout",
     "output_type": "stream",
     "text": [
      "(λq.(λw.q))\n"
     ]
    }
   ],
   "source": [
    "a = 2\n",
    "b = 0\n",
    "c = 2\n",
    "term = multi_app_term(arithm_complex_ops.pythagorean_term(), nat_numbers.num_term(a),\n",
    "                      nat_numbers.num_term(b), nat_numbers.num_term(c))\n",
    "print(term.normalize_no_lim(LeftmostOutermostStrategy())[0])"
   ],
   "metadata": {
    "collapsed": false
   }
  },
  {
   "cell_type": "code",
   "execution_count": 6,
   "outputs": [
    {
     "name": "stdout",
     "output_type": "stream",
     "text": [
      "(λq.(λw.q))\n"
     ]
    }
   ],
   "source": [
    "a = 0\n",
    "b = 1\n",
    "c = 1\n",
    "term = multi_app_term(arithm_complex_ops.pythagorean_term(), nat_numbers.num_term(a),\n",
    "                      nat_numbers.num_term(b), nat_numbers.num_term(c))\n",
    "print(term.normalize_no_lim(LeftmostOutermostStrategy())[0])"
   ],
   "metadata": {
    "collapsed": false
   }
  },
  {
   "cell_type": "code",
   "execution_count": 7,
   "outputs": [
    {
     "name": "stdout",
     "output_type": "stream",
     "text": [
      "(λq.(λw.q))\n"
     ]
    }
   ],
   "source": [
    "a = 0\n",
    "b = 2\n",
    "c = 2\n",
    "term = multi_app_term(arithm_complex_ops.pythagorean_term(), nat_numbers.num_term(a),\n",
    "                      nat_numbers.num_term(b), nat_numbers.num_term(c))\n",
    "print(term.normalize_no_lim(LeftmostOutermostStrategy())[0])"
   ],
   "metadata": {
    "collapsed": false
   }
  },
  {
   "cell_type": "code",
   "execution_count": 8,
   "outputs": [
    {
     "name": "stdout",
     "output_type": "stream",
     "text": [
      "(λq.(λw.q))\n"
     ]
    }
   ],
   "source": [
    "a = 3\n",
    "b = 4\n",
    "c = 5\n",
    "term = multi_app_term(arithm_complex_ops.pythagorean_term(), nat_numbers.num_term(a),\n",
    "                      nat_numbers.num_term(b), nat_numbers.num_term(c))\n",
    "print(term.normalize_no_lim(LeftmostOutermostStrategy())[0])"
   ],
   "metadata": {
    "collapsed": false
   }
  },
  {
   "cell_type": "code",
   "execution_count": 9,
   "outputs": [
    {
     "name": "stdout",
     "output_type": "stream",
     "text": [
      "(λq.(λw.w))\n"
     ]
    }
   ],
   "source": [
    "a = 2\n",
    "b = 2\n",
    "c = 2\n",
    "term = multi_app_term(arithm_complex_ops.pythagorean_term(), nat_numbers.num_term(a),\n",
    "                      nat_numbers.num_term(b), nat_numbers.num_term(c))\n",
    "print(term.normalize_no_lim(LeftmostOutermostStrategy())[0])"
   ],
   "metadata": {
    "collapsed": false
   }
  },
  {
   "cell_type": "code",
   "execution_count": null,
   "outputs": [],
   "source": [],
   "metadata": {
    "collapsed": false
   }
  }
 ],
 "metadata": {
  "kernelspec": {
   "display_name": "Python 3",
   "language": "python",
   "name": "python3"
  },
  "language_info": {
   "codemirror_mode": {
    "name": "ipython",
    "version": 2
   },
   "file_extension": ".py",
   "mimetype": "text/x-python",
   "name": "python",
   "nbconvert_exporter": "python",
   "pygments_lexer": "ipython2",
   "version": "2.7.6"
  }
 },
 "nbformat": 4,
 "nbformat_minor": 0
}
