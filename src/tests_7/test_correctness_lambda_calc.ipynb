{
 "cells": [
  {
   "cell_type": "code",
   "execution_count": 1,
   "metadata": {
    "collapsed": true
   },
   "outputs": [],
   "source": [
    "import time\n",
    "\n",
    "from lambda_calculus import Variable as Var\n",
    "from lambda_calculus import Abstraction as Lambda\n",
    "from lambda_calculus import Application as App\n",
    "\n",
    "from lambda_calculus.visitors.normalisation import BetaNormalisingVisitor\n",
    "from lambda_calculus.terms import logic\n",
    "from lambda_calculus.terms import arithmetic\n",
    "from lambda_calculus.terms import pairs\n",
    "from lambda_calculus.terms import combinators"
   ]
  },
  {
   "cell_type": "code",
   "execution_count": 12,
   "outputs": [
    {
     "name": "stdout",
     "output_type": "stream",
     "text": [
      "0: ((λn.(λf.(λx.(((n (λg.(λh.(h (g f))))) (λu.x)) (λu.u))))) (λf.(λx.(f (f (f x))))))\n",
      "\n",
      "1: (λf.(λx.((((λf.(λx.(f (f (f x))))) (λg.(λh.(h (g f))))) (λu.x)) (λu.u))))\n",
      "\n",
      "2: (λf.(λx.(((λx.((λg.(λh.(h (g f)))) ((λg.(λh.(h (g f)))) ((λg.(λh.(h (g f)))) x)))) (λu.x)) (λu.u))))\n",
      "\n",
      "3: (λf.(λx.(((λg.(λh.(h (g f)))) ((λg.(λh.(h (g f)))) ((λg.(λh.(h (g f)))) (λu.x)))) (λu.u))))\n",
      "\n",
      "4: (λf.(λx.((λh.(h (((λg.(λh.(h (g f)))) ((λg.(λh.(h (g f)))) (λu.x))) f))) (λu.u))))\n",
      "\n",
      "5: (λf.(λx.((λu.u) (((λg.(λh.(h (g f)))) ((λg.(λh.(h (g f)))) (λu.x))) f))))\n",
      "\n",
      "6: (λf.(λx.(((λg.(λh.(h (g f)))) ((λg.(λh.(h (g f)))) (λu.x))) f)))\n",
      "\n",
      "7: (λf.(λx.((λh.(h (((λg.(λh.(h (g f)))) (λu.x)) f))) f)))\n",
      "\n",
      "8: (λf.(λx.(f (((λg.(λh.(h (g f)))) (λu.x)) f))))\n",
      "\n",
      "9: (λf.(λx.(f ((λh.(h ((λu.x) f))) f))))\n",
      "\n",
      "10: (λf.(λx.(f (f ((λu.x) f)))))\n",
      "\n",
      "11: (λf.(λx.(f (f x))))\n",
      "\n"
     ]
    }
   ],
   "source": [
    "term = App(arithmetic.PREDECESSOR, arithmetic.number(3))\n",
    "step = 0\n",
    "\n",
    "print(f\"{step}: {term}\\n\")\n",
    "for _, intermediate in term.accept(BetaNormalisingVisitor()):\n",
    "    step += 1\n",
    "    print(f\"{step}: {intermediate}\\n\")"
   ],
   "metadata": {
    "collapsed": false
   }
  },
  {
   "cell_type": "code",
   "execution_count": null,
   "outputs": [],
   "source": [],
   "metadata": {
    "collapsed": false
   }
  }
 ],
 "metadata": {
  "kernelspec": {
   "display_name": "Python 3",
   "language": "python",
   "name": "python3"
  },
  "language_info": {
   "codemirror_mode": {
    "name": "ipython",
    "version": 2
   },
   "file_extension": ".py",
   "mimetype": "text/x-python",
   "name": "python",
   "nbconvert_exporter": "python",
   "pygments_lexer": "ipython2",
   "version": "2.7.6"
  }
 },
 "nbformat": 4,
 "nbformat_minor": 0
}
