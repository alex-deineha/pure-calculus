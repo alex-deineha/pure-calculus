{
 "cells": [
  {
   "cell_type": "markdown",
   "source": [
    "# **Bool and Arithmetics**\n",
    "\n",
    "[The deatailed script](https://www.mathcha.io/editor/Pvvz5UZ1t7ktL6sZJYp19sZnX9vVserJMEKhJvvMx7)"
   ],
   "metadata": {
    "collapsed": false
   }
  },
  {
   "cell_type": "code",
   "execution_count": null,
   "outputs": [],
   "source": [
    "import random\n",
    "import numpy as np\n",
    "import pandas as pd\n",
    "import sys\n",
    "import matplotlib.pyplot as plt\n",
    "from fitter import Fitter, get_common_distributions\n",
    "from deap import tools, base, creator\n",
    "import seaborn as sns\n",
    "\n",
    "sys.path.append(\"../\")\n",
    "from calculus.term import *\n",
    "from calculus.strategy import *\n",
    "from calculus.generation import *\n",
    "from calculus.generation_threading import *\n",
    "\n",
    "from calculus_utils.drawing import *\n",
    "from calculus_utils.algorithms import *\n",
    "from calculus_utils.outliers_cleaning import clear_arr\n",
    "\n",
    "from vd_env.lambda_env import LambdaEnv\n",
    "from vd_env.run_greedy_policy import run_greedy_policy\n",
    "from vd_env.run_e_greedy_policy import run_e_greedy_policy"
   ],
   "metadata": {
    "collapsed": false
   }
  },
  {
   "cell_type": "markdown",
   "source": [
    "## Useful combinators"
   ],
   "metadata": {
    "collapsed": false
   }
  },
  {
   "cell_type": "code",
   "execution_count": 2,
   "outputs": [],
   "source": [
    "x, y, z = Var(), Var(), Var()"
   ],
   "metadata": {
    "collapsed": false
   }
  },
  {
   "cell_type": "code",
   "execution_count": 3,
   "outputs": [],
   "source": [
    "I = Abstraction(x, Atom(x))"
   ],
   "metadata": {
    "collapsed": false
   }
  },
  {
   "cell_type": "code",
   "execution_count": 5,
   "outputs": [
    {
     "ename": "TypeError",
     "evalue": "a variable is waiting",
     "output_type": "error",
     "traceback": [
      "\u001B[1;31m---------------------------------------------------------------------------\u001B[0m",
      "\u001B[1;31mTypeError\u001B[0m                                 Traceback (most recent call last)",
      "Cell \u001B[1;32mIn[5], line 1\u001B[0m\n\u001B[1;32m----> 1\u001B[0m K \u001B[38;5;241m=\u001B[39m Abstraction(x, \u001B[43mAbstraction\u001B[49m\u001B[43m(\u001B[49m\u001B[43mAtom\u001B[49m\u001B[43m(\u001B[49m\u001B[43mx\u001B[49m\u001B[43m)\u001B[49m\u001B[43m,\u001B[49m\u001B[43m \u001B[49m\u001B[43my\u001B[49m\u001B[43m)\u001B[49m)\n",
      "File \u001B[1;32mD:\\documents\\python_projects\\pure-calculus\\src\\tests_5\\..\\calculus\\term.py:270\u001B[0m, in \u001B[0;36mAbstraction.__init__\u001B[1;34m(self, x, X)\u001B[0m\n\u001B[0;32m    268\u001B[0m         \u001B[38;5;28;01mraise\u001B[39;00m \u001B[38;5;167;01mTypeError\u001B[39;00m(\u001B[38;5;124m\"\u001B[39m\u001B[38;5;124ma term is waiting\u001B[39m\u001B[38;5;124m\"\u001B[39m)\n\u001B[0;32m    269\u001B[0m \u001B[38;5;28;01melse\u001B[39;00m:\n\u001B[1;32m--> 270\u001B[0m     \u001B[38;5;28;01mraise\u001B[39;00m \u001B[38;5;167;01mTypeError\u001B[39;00m(\u001B[38;5;124m\"\u001B[39m\u001B[38;5;124ma variable is waiting\u001B[39m\u001B[38;5;124m\"\u001B[39m)\n",
      "\u001B[1;31mTypeError\u001B[0m: a variable is waiting"
     ]
    }
   ],
   "source": [
    "K = Abstraction(x, Abstraction(Atom(x), y))"
   ],
   "metadata": {
    "collapsed": false
   }
  },
  {
   "cell_type": "code",
   "execution_count": null,
   "outputs": [],
   "source": [
    "K_star = Abstraction(x, Abstraction(y, Atom(y)))\n",
    "S = Abstraction(x, Abstraction(y, Abstraction(z, Application(x, Application(z, Application(y, z))))))"
   ],
   "metadata": {
    "collapsed": false
   }
  },
  {
   "cell_type": "markdown",
   "source": [
    "## Fixed-point combinators"
   ],
   "metadata": {
    "collapsed": false
   }
  },
  {
   "cell_type": "code",
   "execution_count": null,
   "outputs": [],
   "source": [
    "f = Atom(Var())\n",
    "\n",
    "Y = Abstraction(f, Application(\n",
    "    Abstraction(x, Application(f(Application(x, x)))),\n",
    "    Abstraction(x, Application(f(Application(x, x))))\n",
    "))"
   ],
   "metadata": {
    "collapsed": false
   }
  },
  {
   "cell_type": "markdown",
   "source": [
    "## Logic"
   ],
   "metadata": {
    "collapsed": false
   }
  },
  {
   "cell_type": "code",
   "execution_count": null,
   "outputs": [],
   "source": [
    "c = Atom(Var())\n",
    "\n",
    "TRUE = K\n",
    "FALSE = K_star\n",
    "ITE = Abstraction(c, Abstraction(x, Abstraction(y, \\\n",
    "                    Application(c, Application(x, y)))))"
   ],
   "metadata": {
    "collapsed": false
   }
  },
  {
   "cell_type": "code",
   "execution_count": null,
   "outputs": [],
   "source": [
    "a, b = Atom(Var()), Atom(Var())\n",
    "\n",
    "NOT = Abstraction(a, Application(ITE,Application(a, Application(FALSE, TRUE))))\n",
    "AND = Abstraction(a, Abstraction(b, Application(ITE, Application(a, Application(b, a)))))\n",
    "OR = Abstraction(a, Abstraction(b, Application(ITE, Application(a, Application(a, b)))))"
   ],
   "metadata": {
    "collapsed": false
   }
  },
  {
   "cell_type": "markdown",
   "source": [
    "## Arithmetics"
   ],
   "metadata": {
    "collapsed": false
   }
  },
  {
   "cell_type": "code",
   "execution_count": null,
   "outputs": [],
   "source": [
    "n = Var()\n",
    "\n",
    "SUCC = Abstraction(n, Abstraction(x, Abstraction(y, Application(x, Application(n, Application(x, y))))))\n",
    "ISZERO = Abstraction(n, Application(n, Application(Abstraction(x, FALSE), TRUE)))"
   ],
   "metadata": {
    "collapsed": false
   }
  },
  {
   "cell_type": "code",
   "execution_count": null,
   "outputs": [],
   "source": [
    "p = Var()\n",
    "\n",
    "PAIR = Abstraction(x, Abstraction(y, Abstraction(p, Application(p, Application(x, y)))))\n",
    "FIRST = Abstraction(p, Application(p, K))\n",
    "SECOND = Abstraction(p, Application(p, K_star))\n",
    "SINC = Abstraction(p, Application(Application(PAIR, Application(SECOND, p)),\n",
    "                                  Application(SUCC, Application(SECOND, p))))\n",
    "PRED = Abstraction(n, Application(FIRST, Application(None, Application(SINC, Application(PAIR, Application(None, None))))))"
   ],
   "metadata": {
    "collapsed": false
   }
  },
  {
   "cell_type": "code",
   "execution_count": null,
   "outputs": [],
   "source": [],
   "metadata": {
    "collapsed": false
   }
  }
 ],
 "metadata": {
  "kernelspec": {
   "display_name": "Python 3",
   "language": "python",
   "name": "python3"
  },
  "language_info": {
   "codemirror_mode": {
    "name": "ipython",
    "version": 2
   },
   "file_extension": ".py",
   "mimetype": "text/x-python",
   "name": "python",
   "nbconvert_exporter": "python",
   "pygments_lexer": "ipython2",
   "version": "2.7.6"
  }
 },
 "nbformat": 4,
 "nbformat_minor": 0
}
