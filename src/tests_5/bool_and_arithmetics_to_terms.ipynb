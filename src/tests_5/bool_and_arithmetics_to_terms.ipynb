{
 "cells": [
  {
   "cell_type": "markdown",
   "source": [
    "# **Bool and Arithmetics**\n",
    "\n",
    "[The deatailed script](https://www.mathcha.io/editor/Pvvz5UZ1t7ktL6sZJYp19sZnX9vVserJMEKhJvvMx7)"
   ],
   "metadata": {
    "collapsed": false
   }
  },
  {
   "cell_type": "code",
   "execution_count": 1,
   "outputs": [],
   "source": [
    "import random\n",
    "import numpy as np\n",
    "import pandas as pd\n",
    "import sys\n",
    "import matplotlib.pyplot as plt\n",
    "from fitter import Fitter, get_common_distributions\n",
    "from deap import tools, base, creator\n",
    "import seaborn as sns\n",
    "\n",
    "sys.path.append(\"../\")\n",
    "from calculus.term import *\n",
    "from calculus.strategy import *\n",
    "from calculus.generation import *\n",
    "from calculus.generation_threading import *\n",
    "\n",
    "from calculus_utils.drawing import *\n",
    "from calculus_utils.algorithms import *\n",
    "from calculus_utils.outliers_cleaning import clear_arr\n",
    "\n",
    "from vd_env.lambda_env import LambdaEnv\n",
    "from vd_env.run_greedy_policy import run_greedy_policy\n",
    "from vd_env.run_e_greedy_policy import run_e_greedy_policy"
   ],
   "metadata": {
    "collapsed": false
   }
  },
  {
   "cell_type": "markdown",
   "source": [
    "## Useful combinators"
   ],
   "metadata": {
    "collapsed": false
   }
  },
  {
   "cell_type": "code",
   "execution_count": 2,
   "outputs": [],
   "source": [
    "x, y, z = Var(), Var(), Var()\n",
    "x_, y_, z_ = Atom(x), Atom(y), Atom(z)\n",
    "Lambda = Abstraction\n",
    "App = Application"
   ],
   "metadata": {
    "collapsed": false
   }
  },
  {
   "cell_type": "code",
   "execution_count": 3,
   "outputs": [],
   "source": [
    "I = Lambda(x, x_)\n",
    "K = Lambda(x, Lambda(y, x_))\n",
    "K_star = Lambda(x, Lambda(y, y_))\n",
    "S = Lambda(x, Lambda(y, Lambda(z, App(x_, App(z_, App(y_, z_))))))"
   ],
   "metadata": {
    "collapsed": false
   }
  },
  {
   "cell_type": "markdown",
   "source": [
    "## Fixed-point combinators"
   ],
   "metadata": {
    "collapsed": false
   }
  },
  {
   "cell_type": "code",
   "execution_count": 4,
   "outputs": [],
   "source": [
    "f = Var()\n",
    "f_ = Atom(f)\n",
    "\n",
    "Y = Lambda(f, App(Lambda(x, App(f_, App(x_, x_))), Lambda(x, App(f_, App(x_, x_)))))"
   ],
   "metadata": {
    "collapsed": false
   }
  },
  {
   "cell_type": "markdown",
   "source": [
    "## Logic"
   ],
   "metadata": {
    "collapsed": false
   }
  },
  {
   "cell_type": "code",
   "execution_count": 5,
   "outputs": [],
   "source": [
    "c = Var()\n",
    "c_ = Atom(c)\n",
    "\n",
    "TRUE = K\n",
    "FALSE = K_star\n",
    "ITE = Lambda(c, Lambda(x, Lambda(y, App(c_, App(x_, y_)))))"
   ],
   "metadata": {
    "collapsed": false
   }
  },
  {
   "cell_type": "code",
   "execution_count": 17,
   "outputs": [
    {
     "name": "stdout",
     "output_type": "stream",
     "text": [
      "(fun v[61] => (fun v[62] => (v[0] v[1])))\n",
      "3\n"
     ]
    }
   ],
   "source": [
    "# term ITE TRUE x y == x\n",
    "term = App(ITE, App(TRUE, App(x_, y_)))\n",
    "norm_res = term.normalize(strategy=LeftmostOutermostStrategy())\n",
    "print(norm_res[0])\n",
    "print(norm_res[1])"
   ],
   "metadata": {
    "collapsed": false
   }
  },
  {
   "cell_type": "code",
   "execution_count": 18,
   "outputs": [
    {
     "name": "stdout",
     "output_type": "stream",
     "text": [
      "(fun v[66] => (fun v[67] => (v[66] v[67])))\n",
      "3\n"
     ]
    }
   ],
   "source": [
    "# term ITE FALSE x y == y\n",
    "term = App(ITE, App(FALSE, App(x_, y_)))\n",
    "norm_res = term.normalize(strategy=LeftmostOutermostStrategy())\n",
    "print(norm_res[0])\n",
    "print(norm_res[1])"
   ],
   "metadata": {
    "collapsed": false
   }
  },
  {
   "cell_type": "code",
   "execution_count": 19,
   "outputs": [],
   "source": [
    "a, b = Var(), Var()\n",
    "a_, b_ = Atom(a), Atom(b)\n",
    "\n",
    "NOT = Lambda(a, App(ITE, App(a_, App(FALSE, TRUE))))\n",
    "AND = Lambda(a, Lambda(b, App(ITE, App(a_, App(b_, a_)))))\n",
    "OR = Lambda(a, Lambda(b, App(ITE, App(a_, App(a_, b_)))))"
   ],
   "metadata": {
    "collapsed": false
   }
  },
  {
   "cell_type": "code",
   "execution_count": 25,
   "outputs": [
    {
     "name": "stdout",
     "output_type": "stream",
     "text": [
      "(fun v[130] => (fun v[131] => (fun v[133] => v[133])))\n",
      "5\n"
     ]
    }
   ],
   "source": [
    "# term NOT TRUE == FALSE ?\n",
    "term = App(NOT, TRUE)\n",
    "norm_res = term.normalize(strategy=LeftmostOutermostStrategy())\n",
    "print(norm_res[0])\n",
    "print(norm_res[1])"
   ],
   "metadata": {
    "collapsed": false
   }
  },
  {
   "cell_type": "code",
   "execution_count": 23,
   "outputs": [
    {
     "name": "stdout",
     "output_type": "stream",
     "text": [
      "(fun v[110] => (fun v[111] => (v[110] v[111])))\n",
      "4\n"
     ]
    }
   ],
   "source": [
    "# term NOT FALSE == TRUE ?\n",
    "term = App(NOT, FALSE)\n",
    "norm_res = term.normalize(strategy=LeftmostOutermostStrategy())\n",
    "print(norm_res[0])\n",
    "print(norm_res[1])"
   ],
   "metadata": {
    "collapsed": false
   }
  },
  {
   "cell_type": "markdown",
   "source": [
    "## Numbers"
   ],
   "metadata": {
    "collapsed": false
   }
  },
  {
   "cell_type": "code",
   "execution_count": 26,
   "outputs": [],
   "source": [
    "s = Var()\n",
    "s_ = Atom(s)\n",
    "\n",
    "N_0 = Lambda(s, Lambda(z, z_))\n",
    "N_1 = Lambda(s, Lambda(z, App(s_, App(s_, z_))))\n",
    "N_2 = Lambda(s, Lambda(z, App(s_, App(s_, App(s_, z_)))))\n",
    "N_3 = Lambda(s, Lambda(z, App(s_, (App(s_, App(s_, App(s_, z_)))))))\n",
    "N_4 = Lambda(s, Lambda(z, App(s_, App(s_, (App(s_, App(s_, App(s_, z_))))))))\n",
    "N_5 = Lambda(s, Lambda(z, App(s_, App(s_, App(s_, (App(s_, App(s_, App(s_, z_)))))))))\n",
    "N_6 = Lambda(\n",
    "    s, Lambda(z, App(s_, App(s_, App(s_, App(s_, (App(s_, App(s_, App(s_, z_)))))))))\n",
    ")\n",
    "N_7 = Lambda(\n",
    "    s,\n",
    "    Lambda(\n",
    "        z, App(s_, App(s_, App(s_, App(s_, App(s_, (App(s_, App(s_, App(s_, z_)))))))))\n",
    "    ),\n",
    ")\n",
    "N_8 = Lambda(\n",
    "    s,\n",
    "    Lambda(\n",
    "        z,\n",
    "        App(\n",
    "            s_,\n",
    "            App(\n",
    "                s_, App(s_, App(s_, App(s_, App(s_, (App(s_, App(s_, App(s_, z_))))))))\n",
    "            ),\n",
    "        ),\n",
    "    ),\n",
    ")\n",
    "N_9 = Lambda(\n",
    "    s,\n",
    "    Lambda(\n",
    "        z,\n",
    "        App(\n",
    "            s_,\n",
    "            App(\n",
    "                s_,\n",
    "                App(\n",
    "                    s_,\n",
    "                    App(s_, App(s_, App(s_, App(s_, (App(s_, App(s_, App(s_, z_)))))))),\n",
    "                ),\n",
    "            ),\n",
    "        ),\n",
    "    ),\n",
    ")\n",
    "N_10 = Lambda(\n",
    "    s,\n",
    "    Lambda(\n",
    "        z,\n",
    "        App(\n",
    "            s_,\n",
    "            App(\n",
    "                s_,\n",
    "                App(\n",
    "                    s_,\n",
    "                    App(\n",
    "                        s_,\n",
    "                        App(\n",
    "                            s_,\n",
    "                            App(s_, App(s_, App(s_, (App(s_, App(s_, App(s_, z_))))))),\n",
    "                        ),\n",
    "                    ),\n",
    "                ),\n",
    "            ),\n",
    "        ),\n",
    "    ),\n",
    ")"
   ],
   "metadata": {
    "collapsed": false
   }
  },
  {
   "cell_type": "markdown",
   "source": [
    "## Arithmetics"
   ],
   "metadata": {
    "collapsed": false
   }
  },
  {
   "cell_type": "code",
   "execution_count": 28,
   "outputs": [],
   "source": [
    "n = Var()\n",
    "n_ = Atom(n)\n",
    "\n",
    "SUCC = Lambda(n, Lambda(x, Lambda(y, App(x_, App(n_, App(x_, y_))))))"
   ],
   "metadata": {
    "collapsed": false
   }
  },
  {
   "cell_type": "code",
   "execution_count": 29,
   "outputs": [
    {
     "name": "stdout",
     "output_type": "stream",
     "text": [
      "(fun v[141] => (fun v[142] => (v[141] (fun v[144] => v[144]))))\n",
      "2\n"
     ]
    }
   ],
   "source": [
    "# SUCC 0 == 1\n",
    "term = App(SUCC, N_0)\n",
    "norm_res = term.normalize(strategy=LeftmostOutermostStrategy())\n",
    "print(norm_res[0])\n",
    "print(norm_res[1])"
   ],
   "metadata": {
    "collapsed": false
   }
  },
  {
   "cell_type": "code",
   "execution_count": 30,
   "outputs": [
    {
     "name": "stdout",
     "output_type": "stream",
     "text": [
      "(fun v[146] => (fun v[147] => (v[146] (fun v[149] => ((v[146] v[147]) ((v[146] v[147]) v[149]))))))\n",
      "2\n"
     ]
    }
   ],
   "source": [
    "# SUCC 1 == 2\n",
    "term = App(SUCC, N_1)\n",
    "norm_res = term.normalize(strategy=LeftmostOutermostStrategy())\n",
    "print(norm_res[0])\n",
    "print(norm_res[1])"
   ],
   "metadata": {
    "collapsed": false
   }
  },
  {
   "cell_type": "code",
   "execution_count": 31,
   "outputs": [],
   "source": [
    "p = Var()\n",
    "p_ = Atom(p)\n",
    "\n",
    "ISZERO = Lambda(n, App(n_, App(Lambda(x, FALSE), TRUE)))\n",
    "PAIR = Lambda(x, Lambda(y, Lambda(p, App(p_, App(x_, y_)))))\n",
    "FIRST = Lambda(p, App(p_, K))\n",
    "SECOND = Lambda(p, App(p_, K_star))"
   ],
   "metadata": {
    "collapsed": false
   }
  },
  {
   "cell_type": "code",
   "execution_count": 41,
   "outputs": [
    {
     "name": "stdout",
     "output_type": "stream",
     "text": [
      "(fun v[230] => v[230])\n",
      "2\n"
     ]
    }
   ],
   "source": [
    "# ISZERO N_0 = TRUE\n",
    "term = App(ISZERO, N_0)\n",
    "norm_res = term.normalize(strategy=LeftmostOutermostStrategy())\n",
    "print(norm_res[0])\n",
    "print(norm_res[1])"
   ],
   "metadata": {
    "collapsed": false
   }
  },
  {
   "cell_type": "code",
   "execution_count": 38,
   "outputs": [
    {
     "name": "stdout",
     "output_type": "stream",
     "text": [
      "(fun v[206] => (fun v[202] => v[202]))\n",
      "4\n"
     ]
    }
   ],
   "source": [
    "# ISZERO N_1 = FALSE\n",
    "term = App(ISZERO, N_9)\n",
    "norm_res = term.normalize(strategy=LeftmostOutermostStrategy())\n",
    "print(norm_res[0])\n",
    "print(norm_res[1])"
   ],
   "metadata": {
    "collapsed": false
   }
  },
  {
   "cell_type": "code",
   "execution_count": 42,
   "outputs": [
    {
     "name": "stdout",
     "output_type": "stream",
     "text": [
      "(fun v[236] => (v[236] (fun v[232] => (fun v[233] => v[232]))))\n",
      "5\n"
     ]
    }
   ],
   "source": [
    "# FIRST PAIR N_O N_1\n",
    "term = App(FIRST, App(PAIR, App(N_0, N_1)))\n",
    "norm_res = term.normalize(strategy=LeftmostOutermostStrategy())\n",
    "print(norm_res[0])\n",
    "print(norm_res[1])"
   ],
   "metadata": {
    "collapsed": false
   }
  },
  {
   "cell_type": "code",
   "execution_count": 43,
   "outputs": [
    {
     "name": "stdout",
     "output_type": "stream",
     "text": [
      "(fun v[246] => (v[246] (fun v[242] => (fun v[243] => v[243]))))\n",
      "5\n"
     ]
    }
   ],
   "source": [
    "# SECOND PAIR N_O N_1\n",
    "term = App(SECOND, App(PAIR, App(N_0, N_1)))\n",
    "norm_res = term.normalize(strategy=LeftmostOutermostStrategy())\n",
    "print(norm_res[0])\n",
    "print(norm_res[1])"
   ],
   "metadata": {
    "collapsed": false
   }
  },
  {
   "cell_type": "code",
   "execution_count": 45,
   "outputs": [],
   "source": [
    "SINC = Lambda(p, App(App(PAIR, App(SECOND, p_)), App(SUCC, App(SECOND, p_))))\n",
    "\n",
    "# ???\n",
    "PRED = Lambda(n, App(FIRST, App(n_, App(SINC, App(PAIR, App(N_0, N_0))))))"
   ],
   "metadata": {
    "collapsed": false
   }
  },
  {
   "cell_type": "code",
   "execution_count": 46,
   "outputs": [],
   "source": [
    "m = Var()\n",
    "m_ = Atom(m)\n",
    "\n",
    "SUBSTR = Lambda(n, Lambda(m, App(m_, App(PRED, n_))))"
   ],
   "metadata": {
    "collapsed": false
   }
  },
  {
   "cell_type": "code",
   "execution_count": 47,
   "outputs": [],
   "source": [
    "LE = Lambda(n, Lambda(m, App(ISZERO, App(SUBSTR, App(n_, m_)))))\n",
    "EQ = Lambda(n, Lambda(m, App(AND, App(App(LE, App(n_, m_)), App(LE, App(m_, n_))))))"
   ],
   "metadata": {
    "collapsed": false
   }
  },
  {
   "cell_type": "code",
   "execution_count": 50,
   "outputs": [],
   "source": [
    "GCD = App(\n",
    "    Y,\n",
    "    Lambda(\n",
    "        f,\n",
    "        Lambda(\n",
    "            n,\n",
    "            Lambda(\n",
    "                m,\n",
    "                App(\n",
    "                    ITE,\n",
    "                    App(\n",
    "                        OR,\n",
    "                        App(\n",
    "                            ISZERO,\n",
    "                            App(\n",
    "                                n_,\n",
    "                                App(\n",
    "                                    ISZERO,\n",
    "                                    App(\n",
    "                                        m_,\n",
    "                                        App(\n",
    "                                            N_0,\n",
    "                                            App(\n",
    "                                                ITE,\n",
    "                                                App(\n",
    "                                                    EQ,\n",
    "                                                    App(\n",
    "                                                        n_,\n",
    "                                                        App(\n",
    "                                                            m_,\n",
    "                                                            App(\n",
    "                                                                n_,\n",
    "                                                                App(\n",
    "                                                                    ITE,\n",
    "                                                                    App(\n",
    "                                                                        LE,\n",
    "                                                                        App(\n",
    "                                                                            n_,\n",
    "                                                                            App(\n",
    "                                                                                m_,\n",
    "                                                                                App(\n",
    "                                                                                    f_,\n",
    "                                                                                    App(\n",
    "                                                                                        n_,\n",
    "                                                                                        App(\n",
    "                                                                                            SUBSTR,\n",
    "                                                                                            App(\n",
    "                                                                                                m_,\n",
    "                                                                                                App(\n",
    "                                                                                                    n_,\n",
    "                                                                                                    App(\n",
    "                                                                                                        f_,\n",
    "                                                                                                        App(\n",
    "                                                                                                            n_,\n",
    "                                                                                                            App(\n",
    "                                                                                                                SUBSTR,\n",
    "                                                                                                                App(\n",
    "                                                                                                                    m_,\n",
    "                                                                                                                    App(\n",
    "                                                                                                                        n_,\n",
    "                                                                                                                        App(\n",
    "                                                                                                                            f_,\n",
    "                                                                                                                            App(\n",
    "                                                                                                                                m_,\n",
    "                                                                                                                                App(\n",
    "                                                                                                                                    SUBSTR,\n",
    "                                                                                                                                    App(\n",
    "                                                                                                                                        n_,\n",
    "                                                                                                                                        m_,\n",
    "                                                                                                                                    ),\n",
    "                                                                                                                                ),\n",
    "                                                                                                                            ),\n",
    "                                                                                                                        ),\n",
    "                                                                                                                    ),\n",
    "                                                                                                                ),\n",
    "                                                                                                            ),\n",
    "                                                                                                        ),\n",
    "                                                                                                    ),\n",
    "                                                                                                ),\n",
    "                                                                                            ),\n",
    "                                                                                        ),\n",
    "                                                                                    ),\n",
    "                                                                                ),\n",
    "                                                                            ),\n",
    "                                                                        ),\n",
    "                                                                    ),\n",
    "                                                                ),\n",
    "                                                            ),\n",
    "                                                        ),\n",
    "                                                    ),\n",
    "                                                ),\n",
    "                                            ),\n",
    "                                        ),\n",
    "                                    ),\n",
    "                                ),\n",
    "                            ),\n",
    "                        ),\n",
    "                    ),\n",
    "                ),\n",
    "            ),\n",
    "        ),\n",
    "    ),\n",
    ")"
   ],
   "metadata": {
    "collapsed": false
   }
  },
  {
   "cell_type": "code",
   "execution_count": null,
   "outputs": [],
   "source": [
    "# GCD N_2 N_7\n",
    "term = App(GCD, App(N_2, N_7))"
   ],
   "metadata": {
    "collapsed": false
   }
  },
  {
   "cell_type": "code",
   "execution_count": 51,
   "outputs": [
    {
     "name": "stdout",
     "output_type": "stream",
     "text": [
      "(fun v[257] => (v[257] (fun v[253] => (fun v[254] => v[254]))))\n",
      "5\n"
     ]
    }
   ],
   "source": [
    "norm_res = term.normalize(strategy=LeftmostOutermostStrategy())\n",
    "print(norm_res[0])\n",
    "print(norm_res[1])"
   ],
   "metadata": {
    "collapsed": false
   }
  },
  {
   "cell_type": "code",
   "execution_count": 52,
   "outputs": [
    {
     "name": "stdout",
     "output_type": "stream",
     "text": [
      "(fun v[267] => (v[267] (fun v[263] => (fun v[264] => v[264]))))\n",
      "5\n"
     ]
    }
   ],
   "source": [
    "norm_res = term.normalize(strategy=RightmostInnermostStrategy())\n",
    "print(norm_res[0])\n",
    "print(norm_res[1])"
   ],
   "metadata": {
    "collapsed": false
   }
  },
  {
   "cell_type": "code",
   "execution_count": 53,
   "outputs": [
    {
     "name": "stdout",
     "output_type": "stream",
     "text": [
      "(fun v[277] => (v[277] (fun v[273] => (fun v[274] => v[274]))))\n",
      "5\n"
     ]
    }
   ],
   "source": [
    "norm_res = term.normalize(strategy=LeftmostInnermostStrategy())\n",
    "print(norm_res[0])\n",
    "print(norm_res[1])"
   ],
   "metadata": {
    "collapsed": false
   }
  },
  {
   "cell_type": "code",
   "execution_count": 54,
   "outputs": [
    {
     "name": "stdout",
     "output_type": "stream",
     "text": [
      "(fun v[287] => (v[287] (fun v[283] => (fun v[284] => v[284]))))\n",
      "5\n"
     ]
    }
   ],
   "source": [
    "norm_res = term.normalize(strategy=RightmostOutermostStrategy())\n",
    "print(norm_res[0])\n",
    "print(norm_res[1])"
   ],
   "metadata": {
    "collapsed": false
   }
  },
  {
   "cell_type": "code",
   "execution_count": 55,
   "outputs": [
    {
     "name": "stdout",
     "output_type": "stream",
     "text": [
      "(fun v[297] => (v[297] (fun v[293] => (fun v[294] => v[294]))))\n",
      "5\n"
     ]
    }
   ],
   "source": [
    "norm_res = term.normalize(strategy=RandomStrategy())\n",
    "print(norm_res[0])\n",
    "print(norm_res[1])"
   ],
   "metadata": {
    "collapsed": false
   }
  }
 ],
 "metadata": {
  "kernelspec": {
   "display_name": "Python 3",
   "language": "python",
   "name": "python3"
  },
  "language_info": {
   "codemirror_mode": {
    "name": "ipython",
    "version": 2
   },
   "file_extension": ".py",
   "mimetype": "text/x-python",
   "name": "python",
   "nbconvert_exporter": "python",
   "pygments_lexer": "ipython2",
   "version": "2.7.6"
  }
 },
 "nbformat": 4,
 "nbformat_minor": 0
}
