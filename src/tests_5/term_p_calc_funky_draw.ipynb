{
 "cells": [
  {
   "cell_type": "markdown",
   "source": [
    "## Creating and testing funky strings for drawing terms in more nice format (more readable)"
   ],
   "metadata": {
    "collapsed": false
   }
  },
  {
   "cell_type": "code",
   "execution_count": 1,
   "metadata": {
    "collapsed": true
   },
   "outputs": [],
   "source": [
    "import sys\n",
    "\n",
    "sys.path.append(\"../\")\n",
    "from calculus.term import *\n",
    "from calculus.strategy import *\n",
    "from calculus.advanced_terms import *"
   ]
  },
  {
   "cell_type": "code",
   "execution_count": 2,
   "outputs": [
    {
     "name": "stdout",
     "output_type": "stream",
     "text": [
      "(((fun v[0] => (fun v[1] => ((((fun v[4] => (fun v[2] => (fun v[3] => ((v[4] v[2]) v[3])))) v[0]) v[0]) v[1]))) (fun v[5] => (fun v[6] => v[5]))) (fun v[7] => (fun v[8] => v[7])))\n",
      "7\n",
      "(fun v[14] => (fun v[15] => v[14]))\n"
     ]
    }
   ],
   "source": [
    "term = multi_app_term(or_term(), true_term(), true_term())\n",
    "norm_term, steps = term.normalize(strategy=RightmostOutermostStrategy())\n",
    "print(term)\n",
    "print(steps)\n",
    "print(norm_term)"
   ],
   "metadata": {
    "collapsed": false
   }
  },
  {
   "cell_type": "code",
   "execution_count": 3,
   "outputs": [
    {
     "data": {
      "text/plain": "'((λq.λw.(((λt.λe.λr.((t e) r) q) q) w) λy.λu.y) λi.λo.i)'"
     },
     "execution_count": 3,
     "metadata": {},
     "output_type": "execute_result"
    }
   ],
   "source": [
    "term.funky_str()"
   ],
   "metadata": {
    "collapsed": false
   }
  },
  {
   "cell_type": "code",
   "execution_count": 4,
   "outputs": [
    {
     "data": {
      "text/plain": "'λq.λw.q'"
     },
     "execution_count": 4,
     "metadata": {},
     "output_type": "execute_result"
    }
   ],
   "source": [
    "norm_term.funky_str()"
   ],
   "metadata": {
    "collapsed": false
   }
  }
 ],
 "metadata": {
  "kernelspec": {
   "display_name": "Python 3",
   "language": "python",
   "name": "python3"
  },
  "language_info": {
   "codemirror_mode": {
    "name": "ipython",
    "version": 2
   },
   "file_extension": ".py",
   "mimetype": "text/x-python",
   "name": "python",
   "nbconvert_exporter": "python",
   "pygments_lexer": "ipython2",
   "version": "2.7.6"
  }
 },
 "nbformat": 4,
 "nbformat_minor": 0
}
