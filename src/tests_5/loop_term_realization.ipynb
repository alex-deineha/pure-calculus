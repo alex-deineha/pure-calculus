{
 "cells": [
  {
   "cell_type": "code",
   "execution_count": 1,
   "metadata": {
    "collapsed": true
   },
   "outputs": [],
   "source": [
    "import random\n",
    "import numpy as np\n",
    "import pandas as pd\n",
    "import sys\n",
    "import matplotlib.pyplot as plt\n",
    "from fitter import Fitter, get_common_distributions\n",
    "from deap import tools, base, creator\n",
    "import seaborn as sns\n",
    "\n",
    "sys.path.append(\"../\")\n",
    "from calculus.term import *\n",
    "from calculus.strategy import *\n",
    "from calculus.generation import *\n",
    "from calculus.generation_threading import *\n",
    "\n",
    "from calculus_utils.drawing import *\n",
    "from calculus_utils.algorithms import *\n",
    "from calculus_utils.outliers_cleaning import clear_arr\n",
    "\n",
    "from vd_env.lambda_env import LambdaEnv\n",
    "from vd_env.run_greedy_policy import run_greedy_policy\n",
    "from vd_env.run_e_greedy_policy import run_e_greedy_policy"
   ]
  },
  {
   "cell_type": "code",
   "execution_count": 2,
   "outputs": [],
   "source": [
    "x, y, = (\n",
    "    Var(),\n",
    "    Var(),\n",
    ")\n",
    "x_, y_, = Atom(\n",
    "    x\n",
    "), Atom(y)\n",
    "Lambda = Abstraction\n",
    "App = Application"
   ],
   "metadata": {
    "collapsed": false
   }
  },
  {
   "cell_type": "code",
   "execution_count": 3,
   "outputs": [],
   "source": [
    "loop_term = App(\n",
    "    Lambda(x, Lambda(y, y_)), App(Lambda(x, App(x_, x_)), Lambda(x, App(x_, x_)))\n",
    ")"
   ],
   "metadata": {
    "collapsed": false
   }
  },
  {
   "cell_type": "code",
   "execution_count": 4,
   "outputs": [
    {
     "name": "stdout",
     "output_type": "stream",
     "text": [
      "((fun v[0] => (fun v[1] => v[1])) ((fun v[0] => (v[0] v[0])) (fun v[0] => (v[0] v[0]))))\n"
     ]
    }
   ],
   "source": [
    "print(loop_term)"
   ],
   "metadata": {
    "collapsed": false
   }
  },
  {
   "cell_type": "code",
   "execution_count": 9,
   "outputs": [
    {
     "name": "stdout",
     "output_type": "stream",
     "text": [
      "(fun v[19] => v[19])\n",
      "1\n"
     ]
    }
   ],
   "source": [
    "norm_res = loop_term.normalize(LeftmostOutermostStrategy())\n",
    "print(norm_res[0])\n",
    "print(norm_res[1])"
   ],
   "metadata": {
    "collapsed": false
   }
  },
  {
   "cell_type": "code",
   "execution_count": 10,
   "outputs": [
    {
     "name": "stdout",
     "output_type": "stream",
     "text": [
      "((fun v[0] => (fun v[1] => v[1])) ((fun v[0] => (v[0] v[0])) (fun v[0] => (v[0] v[0]))))\n",
      "inf\n"
     ]
    }
   ],
   "source": [
    "norm_res = loop_term.normalize(LeftmostInnermostStrategy())\n",
    "print(norm_res[0])\n",
    "print(norm_res[1])"
   ],
   "metadata": {
    "collapsed": false
   }
  },
  {
   "cell_type": "code",
   "execution_count": 11,
   "outputs": [
    {
     "name": "stdout",
     "output_type": "stream",
     "text": [
      "((fun v[0] => (fun v[1] => v[1])) ((fun v[0] => (v[0] v[0])) (fun v[0] => (v[0] v[0]))))\n",
      "inf\n"
     ]
    }
   ],
   "source": [
    "norm_res = loop_term.normalize(RightmostInnermostStrategy())\n",
    "print(norm_res[0])\n",
    "print(norm_res[1])"
   ],
   "metadata": {
    "collapsed": false
   }
  },
  {
   "cell_type": "code",
   "execution_count": 14,
   "outputs": [
    {
     "name": "stdout",
     "output_type": "stream",
     "text": [
      "(fun v[39] => v[39])\n",
      "1\n"
     ]
    }
   ],
   "source": [
    "norm_res = loop_term.normalize(RightmostOutermostStrategy())\n",
    "print(norm_res[0])\n",
    "print(norm_res[1])"
   ],
   "metadata": {
    "collapsed": false
   }
  },
  {
   "cell_type": "code",
   "execution_count": 16,
   "outputs": [
    {
     "name": "stdout",
     "output_type": "stream",
     "text": [
      "(fun v[47] => v[47])\n",
      "1\n"
     ]
    }
   ],
   "source": [
    "norm_res = loop_term.normalize(RandomStrategy())\n",
    "print(norm_res[0])\n",
    "print(norm_res[1])"
   ],
   "metadata": {
    "collapsed": false
   }
  },
  {
   "cell_type": "code",
   "execution_count": 18,
   "outputs": [
    {
     "name": "stdout",
     "output_type": "stream",
     "text": [
      "(fun v[55] => v[55])\n",
      "9\n"
     ]
    }
   ],
   "source": [
    "norm_res = loop_term.normalize(RandomStrategy())\n",
    "print(norm_res[0])\n",
    "print(norm_res[1])"
   ],
   "metadata": {
    "collapsed": false
   }
  },
  {
   "cell_type": "code",
   "execution_count": 19,
   "outputs": [
    {
     "name": "stdout",
     "output_type": "stream",
     "text": [
      "(fun v[59] => v[59])\n",
      "2\n"
     ]
    }
   ],
   "source": [
    "norm_res = loop_term.normalize(RandomStrategy())\n",
    "print(norm_res[0])\n",
    "print(norm_res[1])"
   ],
   "metadata": {
    "collapsed": false
   }
  },
  {
   "cell_type": "code",
   "execution_count": 20,
   "outputs": [
    {
     "name": "stdout",
     "output_type": "stream",
     "text": [
      "(fun v[63] => v[63])\n",
      "4\n"
     ]
    }
   ],
   "source": [
    "norm_res = loop_term.normalize(RandomStrategy())\n",
    "print(norm_res[0])\n",
    "print(norm_res[1])"
   ],
   "metadata": {
    "collapsed": false
   }
  }
 ],
 "metadata": {
  "kernelspec": {
   "display_name": "Python 3",
   "language": "python",
   "name": "python3"
  },
  "language_info": {
   "codemirror_mode": {
    "name": "ipython",
    "version": 2
   },
   "file_extension": ".py",
   "mimetype": "text/x-python",
   "name": "python",
   "nbconvert_exporter": "python",
   "pygments_lexer": "ipython2",
   "version": "2.7.6"
  }
 },
 "nbformat": 4,
 "nbformat_minor": 0
}
