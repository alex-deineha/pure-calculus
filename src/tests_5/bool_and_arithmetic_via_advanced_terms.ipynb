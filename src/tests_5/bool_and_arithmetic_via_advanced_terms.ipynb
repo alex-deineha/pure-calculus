{
 "cells": [
  {
   "cell_type": "markdown",
   "source": [
    "# **Bool and Arithmetics**\n",
    "\n",
    "[The deatailed script](https://www.mathcha.io/editor/Pvvz5UZ1t7ktL6sZJYp19sZnX9vVserJMEKhJvvMx7)"
   ],
   "metadata": {
    "collapsed": false
   }
  },
  {
   "cell_type": "code",
   "execution_count": 1,
   "outputs": [],
   "source": [
    "import sys\n",
    "\n",
    "sys.path.append(\"../\")\n",
    "from calculus.term import *\n",
    "from calculus.strategy import *\n",
    "from calculus.advanced_terms import *"
   ],
   "metadata": {
    "collapsed": false
   }
  },
  {
   "cell_type": "markdown",
   "source": [
    "# TESTING BOOL STUF"
   ],
   "metadata": {
    "collapsed": false
   }
  },
  {
   "cell_type": "code",
   "execution_count": 2,
   "outputs": [
    {
     "name": "stdout",
     "output_type": "stream",
     "text": [
      "\n",
      "\n",
      "NOT TRUE == FALSE\n",
      "(fun v[14] => (fun v[15] => v[15]))\n",
      "6\n"
     ]
    }
   ],
   "source": [
    "print(\"\\n\\nNOT TRUE == FALSE\")\n",
    "term = App(not_term(), true_term())\n",
    "norm_res = term.normalize(strategy=LeftmostOutermostStrategy())\n",
    "print(norm_res[0])\n",
    "print(norm_res[1])"
   ],
   "metadata": {
    "collapsed": false
   }
  },
  {
   "cell_type": "code",
   "execution_count": 3,
   "outputs": [
    {
     "name": "stdout",
     "output_type": "stream",
     "text": [
      "\n",
      "\n",
      "NOT FALSE == TRUE\n",
      "(fun v[36] => (fun v[37] => v[36]))\n",
      "6\n"
     ]
    }
   ],
   "source": [
    "print(\"\\n\\nNOT FALSE == TRUE\")\n",
    "term = App(not_term(), false_term())\n",
    "norm_res = term.normalize(strategy=LeftmostOutermostStrategy())\n",
    "print(norm_res[0])\n",
    "print(norm_res[1])"
   ],
   "metadata": {
    "collapsed": false
   }
  },
  {
   "cell_type": "code",
   "execution_count": 4,
   "outputs": [
    {
     "name": "stdout",
     "output_type": "stream",
     "text": [
      "\n",
      "\n",
      "NOT TRUE == FALSE\n",
      "(fun v[54] => (fun v[55] => v[55]))\n",
      "6\n"
     ]
    }
   ],
   "source": [
    "print(\"\\n\\nNOT TRUE == FALSE\")\n",
    "term = App(not_term(), true_term())\n",
    "norm_res = term.normalize(strategy=RightmostInnermostStrategy())\n",
    "print(norm_res[0])\n",
    "print(norm_res[1])"
   ],
   "metadata": {
    "collapsed": false
   }
  },
  {
   "cell_type": "code",
   "execution_count": 6,
   "outputs": [
    {
     "name": "stdout",
     "output_type": "stream",
     "text": [
      "\n",
      "\n",
      "NOT TRUE == FALSE\n",
      "(fun v[94] => (fun v[95] => v[95]))\n",
      "6\n"
     ]
    }
   ],
   "source": [
    "print(\"\\n\\nNOT TRUE == FALSE\")\n",
    "term = App(not_term(), true_term())\n",
    "norm_res = term.normalize(strategy=RightmostOutermostStrategy())\n",
    "print(norm_res[0])\n",
    "print(norm_res[1])"
   ],
   "metadata": {
    "collapsed": false
   }
  },
  {
   "cell_type": "markdown",
   "source": [
    "## TESTING OR"
   ],
   "metadata": {
    "collapsed": false
   }
  },
  {
   "cell_type": "code",
   "execution_count": 8,
   "outputs": [
    {
     "name": "stdout",
     "output_type": "stream",
     "text": [
      "\n",
      "\n",
      "OR TRUE TRUE == TRUE\n",
      "(fun v[132] => (fun v[133] => v[132]))\n",
      "7\n"
     ]
    }
   ],
   "source": [
    "print(\"\\n\\nOR TRUE TRUE == TRUE\")\n",
    "term = multi_app_term(or_term(), true_term(), true_term())\n",
    "norm_res = term.normalize(strategy=RightmostOutermostStrategy())\n",
    "print(norm_res[0])\n",
    "print(norm_res[1])"
   ],
   "metadata": {
    "collapsed": false
   }
  },
  {
   "cell_type": "code",
   "execution_count": 10,
   "outputs": [
    {
     "name": "stdout",
     "output_type": "stream",
     "text": [
      "\n",
      "\n",
      "OR TRUE FALSE == TRUE\n",
      "(fun v[168] => (fun v[169] => v[168]))\n",
      "7\n"
     ]
    }
   ],
   "source": [
    "print(\"\\n\\nOR TRUE FALSE == TRUE\")\n",
    "term = multi_app_term(or_term(), true_term(), false_term())\n",
    "norm_res = term.normalize(strategy=RightmostOutermostStrategy())\n",
    "print(norm_res[0])\n",
    "print(norm_res[1])"
   ],
   "metadata": {
    "collapsed": false
   }
  },
  {
   "cell_type": "code",
   "execution_count": 11,
   "outputs": [
    {
     "name": "stdout",
     "output_type": "stream",
     "text": [
      "\n",
      "\n",
      "OR FALSE TRUE == TRUE\n",
      "(fun v[188] => (fun v[189] => v[188]))\n",
      "7\n"
     ]
    }
   ],
   "source": [
    "print(\"\\n\\nOR FALSE TRUE == TRUE\")\n",
    "term = multi_app_term(or_term(), false_term(), true_term())\n",
    "norm_res = term.normalize(strategy=RightmostOutermostStrategy())\n",
    "print(norm_res[0])\n",
    "print(norm_res[1])"
   ],
   "metadata": {
    "collapsed": false
   }
  },
  {
   "cell_type": "code",
   "execution_count": 12,
   "outputs": [
    {
     "name": "stdout",
     "output_type": "stream",
     "text": [
      "\n",
      "\n",
      "OR FALSE FALSE == FALSE\n",
      "(fun v[206] => (fun v[207] => v[207]))\n",
      "7\n"
     ]
    }
   ],
   "source": [
    "print(\"\\n\\nOR FALSE FALSE == FALSE\")\n",
    "term = multi_app_term(or_term(), false_term(), false_term())\n",
    "norm_res = term.normalize(strategy=RightmostOutermostStrategy())\n",
    "print(norm_res[0])\n",
    "print(norm_res[1])"
   ],
   "metadata": {
    "collapsed": false
   }
  },
  {
   "cell_type": "markdown",
   "source": [
    "## TESTING AND"
   ],
   "metadata": {
    "collapsed": false
   }
  },
  {
   "cell_type": "code",
   "execution_count": 13,
   "outputs": [
    {
     "name": "stdout",
     "output_type": "stream",
     "text": [
      "\n",
      "\n",
      "AND TRUE TRUE == TRUE\n",
      "(fun v[224] => (fun v[225] => v[224]))\n",
      "7\n"
     ]
    }
   ],
   "source": [
    "print(\"\\n\\nAND TRUE TRUE == TRUE\")\n",
    "term = multi_app_term(and_term(), true_term(), true_term())\n",
    "norm_res = term.normalize(strategy=RightmostOutermostStrategy())\n",
    "print(norm_res[0])\n",
    "print(norm_res[1])"
   ],
   "metadata": {
    "collapsed": false
   }
  },
  {
   "cell_type": "code",
   "execution_count": 14,
   "outputs": [
    {
     "name": "stdout",
     "output_type": "stream",
     "text": [
      "\n",
      "\n",
      "AND TRUE FALSE == FALSE\n",
      "(fun v[242] => (fun v[243] => v[243]))\n",
      "7\n"
     ]
    }
   ],
   "source": [
    "print(\"\\n\\nAND TRUE FALSE == FALSE\")\n",
    "term = multi_app_term(and_term(), true_term(), false_term())\n",
    "norm_res = term.normalize(strategy=RightmostOutermostStrategy())\n",
    "print(norm_res[0])\n",
    "print(norm_res[1])"
   ],
   "metadata": {
    "collapsed": false
   }
  },
  {
   "cell_type": "code",
   "execution_count": 15,
   "outputs": [
    {
     "name": "stdout",
     "output_type": "stream",
     "text": [
      "\n",
      "\n",
      "AND FALSE TRUE == FALSE\n",
      "(fun v[258] => (fun v[259] => v[259]))\n",
      "7\n"
     ]
    }
   ],
   "source": [
    "print(\"\\n\\nAND FALSE TRUE == FALSE\")\n",
    "term = multi_app_term(and_term(), false_term(), true_term())\n",
    "norm_res = term.normalize(strategy=RightmostOutermostStrategy())\n",
    "print(norm_res[0])\n",
    "print(norm_res[1])"
   ],
   "metadata": {
    "collapsed": false
   }
  },
  {
   "cell_type": "code",
   "execution_count": 16,
   "outputs": [
    {
     "name": "stdout",
     "output_type": "stream",
     "text": [
      "\n",
      "\n",
      "AND FALSE FALSE == FALSE\n",
      "(fun v[278] => (fun v[279] => v[278]))\n",
      "7\n"
     ]
    }
   ],
   "source": [
    "print(\"\\n\\nAND FALSE FALSE == FALSE\")\n",
    "term = multi_app_term(and_term(), true_term(), true_term())\n",
    "norm_res = term.normalize(strategy=RightmostOutermostStrategy())\n",
    "print(norm_res[0])\n",
    "print(norm_res[1])"
   ],
   "metadata": {
    "collapsed": false
   }
  },
  {
   "cell_type": "markdown",
   "source": [
    "# ARITHMETIC"
   ],
   "metadata": {
    "collapsed": false
   }
  },
  {
   "cell_type": "code",
   "execution_count": 2,
   "outputs": [
    {
     "name": "stdout",
     "output_type": "stream",
     "text": [
      "\n",
      "\n",
      "SUCC N0 == N1\n",
      "(fun v[6] => (fun v[7] => (v[6] v[7])))\n",
      "3\n"
     ]
    }
   ],
   "source": [
    "print(\"\\n\\nSUCC N0 == N1\")\n",
    "term = App(succ_term(), n0_term())\n",
    "norm_res = term.normalize(strategy=RightmostOutermostStrategy())\n",
    "print(norm_res[0])\n",
    "print(norm_res[1])"
   ],
   "metadata": {
    "collapsed": false
   }
  },
  {
   "cell_type": "code",
   "execution_count": 3,
   "outputs": [
    {
     "name": "stdout",
     "output_type": "stream",
     "text": [
      "\n",
      "\n",
      "SUCC N1 == N2\n",
      "(fun v[16] => (fun v[17] => (v[16] (v[16] v[17]))))\n",
      "3\n"
     ]
    }
   ],
   "source": [
    "print(\"\\n\\nSUCC N1 == N2\")\n",
    "term = App(succ_term(), n_term(1))\n",
    "norm_res = term.normalize(strategy=RightmostOutermostStrategy())\n",
    "print(norm_res[0])\n",
    "print(norm_res[1])"
   ],
   "metadata": {
    "collapsed": false
   }
  },
  {
   "cell_type": "code",
   "execution_count": 4,
   "outputs": [
    {
     "name": "stdout",
     "output_type": "stream",
     "text": [
      "\n",
      "\n",
      "SUCC N2 == N3\n",
      "(fun v[26] => (fun v[27] => (v[26] (v[26] (v[26] v[27])))))\n",
      "3\n"
     ]
    }
   ],
   "source": [
    "print(\"\\n\\nSUCC N2 == N3\")\n",
    "term = App(succ_term(), n_term(2))\n",
    "norm_res = term.normalize(strategy=RightmostOutermostStrategy())\n",
    "print(norm_res[0])\n",
    "print(norm_res[1])"
   ],
   "metadata": {
    "collapsed": false
   }
  },
  {
   "cell_type": "code",
   "execution_count": 5,
   "outputs": [
    {
     "name": "stdout",
     "output_type": "stream",
     "text": [
      "\n",
      "\n",
      "SUCC N2 == N3\n",
      "(fun v[36] => (fun v[37] => (v[36] (v[36] (v[36] (v[36] (v[36] (v[36] (v[36] (v[36] (v[36] (v[36] (v[36] (v[36] (v[36] (v[36] (v[36] (v[36] (v[36] (v[36] (v[36] (v[36] (v[36] (v[36] (v[36] (v[36] (v[36] (v[36] (v[36] (v[36] (v[36] (v[36] (v[36] (v[36] (v[36] (v[36] (v[36] (v[36] (v[36] (v[36] (v[36] (v[36] (v[36] (v[36] (v[36] (v[36] (v[36] (v[36] (v[36] (v[36] (v[36] (v[36] (v[36] (v[36] (v[36] (v[36] (v[36] (v[36] (v[36] (v[36] (v[36] (v[36] (v[36] (v[36] (v[36] (v[36] (v[36] (v[36] (v[36] (v[36] (v[36] (v[36] (v[36] (v[36] (v[36] (v[36] (v[36] (v[36] (v[36] (v[36] (v[36] (v[36] (v[36] (v[36] (v[36] (v[36] (v[36] (v[36] (v[36] (v[36] (v[36] (v[36] (v[36] (v[36] (v[36] (v[36] (v[36] (v[36] (v[36] (v[36] (v[36] (v[36] (v[36] (v[36] (v[36] (v[36] (v[36] (v[36] (v[36] (v[36] (v[36] (v[36] (v[36] (v[36] (v[36] (v[36] (v[36] (v[36] (v[36] (v[36] (v[36] (v[36] (v[36] (v[36] (v[36] (v[36] (v[36] (v[36] (v[36] (v[36] (v[36] (v[36] (v[36] (v[36] (v[36] (v[36] (v[36] (v[36] (v[36] (v[36] (v[36] (v[36] (v[36] (v[36] (v[36] (v[36] (v[36] (v[36] (v[36] (v[36] (v[36] (v[36] (v[36] (v[36] (v[36] (v[36] (v[36] (v[36] (v[36] (v[36] (v[36] (v[36] (v[36] (v[36] (v[36] (v[36] (v[36] (v[36] (v[36] (v[36] (v[36] (v[36] (v[36] (v[36] (v[36] (v[36] (v[36] (v[36] (v[36] (v[36] (v[36] (v[36] (v[36] (v[36] (v[36] (v[36] (v[36] (v[36] (v[36] (v[36] (v[36] (v[36] (v[36] (v[36] (v[36] (v[36] (v[36] (v[36] (v[36] (v[36] (v[36] (v[36] (v[36] v[37])))))))))))))))))))))))))))))))))))))))))))))))))))))))))))))))))))))))))))))))))))))))))))))))))))))))))))))))))))))))))))))))))))))))))))))))))))))))))))))))))))))))))))))))))))))))))))))))))))))))))))\n",
      "3\n"
     ]
    }
   ],
   "source": [
    "print(\"\\n\\nSUCC N2 == N3\")\n",
    "term = App(succ_term(), n_term(200))\n",
    "norm_res = term.normalize(strategy=RightmostOutermostStrategy())\n",
    "print(norm_res[0])\n",
    "print(norm_res[1])"
   ],
   "metadata": {
    "collapsed": false
   }
  },
  {
   "cell_type": "code",
   "execution_count": 2,
   "outputs": [
    {
     "name": "stdout",
     "output_type": "stream",
     "text": [
      "\n",
      "\n",
      "ISZERO N0 == TRUE\n",
      "(fun v[12] => (fun v[13] => v[12]))\n",
      "3\n"
     ]
    }
   ],
   "source": [
    "print(\"\\n\\nISZERO N0 == TRUE\")\n",
    "term = App(iszero_term(), n0_term())\n",
    "norm_res = term.normalize(strategy=RightmostOutermostStrategy())\n",
    "print(norm_res[0])\n",
    "print(norm_res[1])"
   ],
   "metadata": {
    "collapsed": false
   }
  },
  {
   "cell_type": "code",
   "execution_count": 3,
   "outputs": [
    {
     "name": "stdout",
     "output_type": "stream",
     "text": [
      "\n",
      "\n",
      "ISZERO N1 == FALSE\n",
      "(fun v[26] => (fun v[27] => v[27]))\n",
      "4\n"
     ]
    }
   ],
   "source": [
    "print(\"\\n\\nISZERO N1 == FALSE\")\n",
    "term = App(iszero_term(), n_term(1))\n",
    "norm_res = term.normalize(strategy=RightmostOutermostStrategy())\n",
    "print(norm_res[0])\n",
    "print(norm_res[1])"
   ],
   "metadata": {
    "collapsed": false
   }
  },
  {
   "cell_type": "code",
   "execution_count": 4,
   "outputs": [
    {
     "name": "stdout",
     "output_type": "stream",
     "text": [
      "\n",
      "\n",
      "ISZERO N200 == TRUE\n",
      "(fun v[42] => (fun v[43] => v[43]))\n",
      "4\n"
     ]
    }
   ],
   "source": [
    "print(\"\\n\\nISZERO N200 == TRUE\")\n",
    "term = App(iszero_term(), n_term(200))\n",
    "norm_res = term.normalize(strategy=RightmostOutermostStrategy())\n",
    "print(norm_res[0])\n",
    "print(norm_res[1])"
   ],
   "metadata": {
    "collapsed": false
   }
  },
  {
   "cell_type": "markdown",
   "source": [
    "# PAIR TESTING"
   ],
   "metadata": {
    "collapsed": false
   }
  },
  {
   "cell_type": "code",
   "execution_count": 2,
   "outputs": [
    {
     "name": "stdout",
     "output_type": "stream",
     "text": [
      "\n",
      "\n",
      "FIRST (PAIR N2 N0) == N2\n",
      "(fun v[16] => (fun v[17] => (v[16] (v[16] v[17]))))\n",
      "6\n"
     ]
    }
   ],
   "source": [
    "print(\"\\n\\nFIRST (PAIR N2 N0) == N2\")\n",
    "term = App(first_term(), multi_app_term(pair_term(), n_term(2), n_term(0)))\n",
    "norm_res = term.normalize(strategy=RightmostOutermostStrategy())\n",
    "print(norm_res[0])\n",
    "print(norm_res[1])"
   ],
   "metadata": {
    "collapsed": false
   }
  },
  {
   "cell_type": "code",
   "execution_count": 3,
   "outputs": [
    {
     "name": "stdout",
     "output_type": "stream",
     "text": [
      "\n",
      "\n",
      "SECOND (PAIR N2 N0) == N0\n",
      "(fun v[38] => (fun v[39] => v[39]))\n",
      "6\n"
     ]
    }
   ],
   "source": [
    "print(\"\\n\\nSECOND (PAIR N2 N0) == N0\")\n",
    "term = App(second_term(), multi_app_term(pair_term(), n_term(2), n_term(0)))\n",
    "norm_res = term.normalize(strategy=RightmostOutermostStrategy())\n",
    "print(norm_res[0])\n",
    "print(norm_res[1])"
   ],
   "metadata": {
    "collapsed": false
   }
  },
  {
   "cell_type": "markdown",
   "source": [
    "# SINK TESTING"
   ],
   "metadata": {
    "collapsed": false
   }
  },
  {
   "cell_type": "code",
   "execution_count": 2,
   "outputs": [
    {
     "name": "stdout",
     "output_type": "stream",
     "text": [
      "\n",
      "\n",
      "SINK (PAIR N10 N0) == PAIR N0 N1\n",
      "(fun v[23] => ((v[23] (fun v[38] => (fun v[39] => v[39]))) (fun v[28] => (fun v[29] => (v[28] v[29])))))\n",
      "18\n"
     ]
    }
   ],
   "source": [
    "print(\"\\n\\nSINK (PAIR N10 N0) == PAIR N0 N1\")\n",
    "term = App(sinc_term(), multi_app_term(pair_term(), n_term(10), n_term(0)))\n",
    "norm_res = term.normalize(strategy=RightmostOutermostStrategy())\n",
    "print(norm_res[0])\n",
    "print(norm_res[1])"
   ],
   "metadata": {
    "collapsed": false
   }
  },
  {
   "cell_type": "code",
   "execution_count": 6,
   "outputs": [
    {
     "name": "stdout",
     "output_type": "stream",
     "text": [
      "(((fun v[68] => (fun v[69] => (fun v[70] => ((v[70] v[68]) v[69])))) (fun v[71] => (fun v[72] => v[72]))) (fun v[73] => (fun v[74] => (v[73] v[74])))) \n",
      "\n",
      "\n",
      "(fun v[77] => ((v[77] (fun v[78] => (fun v[79] => v[79]))) (fun v[80] => (fun v[81] => (v[80] v[81])))))\n",
      "2\n"
     ]
    }
   ],
   "source": [
    "term = multi_app_term(pair_term(), n_term(0), n_term(1))\n",
    "print(term, \"\\n\\n\")\n",
    "norm_res = term.normalize(strategy=RightmostOutermostStrategy())\n",
    "print(norm_res[0])\n",
    "print(norm_res[1])"
   ],
   "metadata": {
    "collapsed": false
   }
  },
  {
   "cell_type": "code",
   "execution_count": 11,
   "outputs": [
    {
     "name": "stdout",
     "output_type": "stream",
     "text": [
      "\n",
      "\n",
      "SINK (PAIR N100 N2) == PAIR N2 N3\n",
      "(fun v[491] => ((v[491] (fun v[506] => (fun v[507] => (v[506] (v[506] v[507]))))) (fun v[496] => (fun v[497] => (v[496] (v[496] (v[496] v[497])))))))\n",
      "18\n"
     ]
    }
   ],
   "source": [
    "print(\"\\n\\nSINK (PAIR N100 N2) == PAIR N2 N3\")\n",
    "term = App(sinc_term(), multi_app_term(pair_term(), n_term(100), n_term(2)))\n",
    "norm_res = term.normalize(strategy=RightmostOutermostStrategy())\n",
    "print(norm_res[0])\n",
    "print(norm_res[1])"
   ],
   "metadata": {
    "collapsed": false
   }
  },
  {
   "cell_type": "code",
   "execution_count": 12,
   "outputs": [
    {
     "name": "stdout",
     "output_type": "stream",
     "text": [
      "(((fun v[508] => (fun v[509] => (fun v[510] => ((v[510] v[508]) v[509])))) (fun v[511] => (fun v[512] => (v[511] (v[511] v[512]))))) (fun v[513] => (fun v[514] => (v[513] (v[513] (v[513] v[514])))))) \n",
      "\n",
      "\n",
      "(fun v[517] => ((v[517] (fun v[518] => (fun v[519] => (v[518] (v[518] v[519]))))) (fun v[520] => (fun v[521] => (v[520] (v[520] (v[520] v[521])))))))\n",
      "2\n"
     ]
    }
   ],
   "source": [
    "term = multi_app_term(pair_term(), n_term(2), n_term(3))\n",
    "print(term, \"\\n\\n\")\n",
    "norm_res = term.normalize(strategy=RightmostOutermostStrategy())\n",
    "print(norm_res[0])\n",
    "print(norm_res[1])"
   ],
   "metadata": {
    "collapsed": false
   }
  },
  {
   "cell_type": "markdown",
   "source": [
    "# PRED TESTING"
   ],
   "metadata": {
    "collapsed": false
   }
  },
  {
   "cell_type": "code",
   "execution_count": 22,
   "outputs": [
    {
     "name": "stdout",
     "output_type": "stream",
     "text": [
      "\n",
      "\n",
      "PRED N1 == N0\n",
      "(fun v[1038] => (fun v[1039] => v[1039]))\n",
      "23\n"
     ]
    }
   ],
   "source": [
    "print(\"\\n\\nPRED N1 == N0\")\n",
    "term = App(pred_term(), n_term(1))\n",
    "norm_res = term.normalize(strategy=RightmostInnermostStrategy())\n",
    "print(norm_res[0])\n",
    "print(norm_res[1])"
   ],
   "metadata": {
    "collapsed": false
   }
  },
  {
   "cell_type": "code",
   "execution_count": 23,
   "outputs": [
    {
     "name": "stdout",
     "output_type": "stream",
     "text": [
      "\n",
      "\n",
      "PRED N2 == N1\n",
      "(fun v[1080] => (fun v[1081] => (v[1080] v[1081])))\n",
      "34\n"
     ]
    }
   ],
   "source": [
    "print(\"\\n\\nPRED N2 == N1\")\n",
    "term = App(pred_term(), n_term(2))\n",
    "norm_res = term.normalize(strategy=RightmostInnermostStrategy())\n",
    "print(norm_res[0])\n",
    "print(norm_res[1])"
   ],
   "metadata": {
    "collapsed": false
   }
  },
  {
   "cell_type": "code",
   "execution_count": 25,
   "outputs": [
    {
     "name": "stdout",
     "output_type": "stream",
     "text": [
      "\n",
      "\n",
      "PRED N3 == N2\n",
      "(fun v[1184] => (fun v[1185] => (v[1184] (v[1184] v[1185]))))\n",
      "43\n"
     ]
    }
   ],
   "source": [
    "print(\"\\n\\nPRED N3 == N2\")\n",
    "term = App(pred_term(), n_term(3))\n",
    "norm_res = term.normalize(strategy=RightmostInnermostStrategy())\n",
    "print(norm_res[0])\n",
    "print(norm_res[1])"
   ],
   "metadata": {
    "collapsed": false
   }
  },
  {
   "cell_type": "code",
   "execution_count": null,
   "outputs": [],
   "source": [],
   "metadata": {
    "collapsed": false
   }
  },
  {
   "cell_type": "code",
   "execution_count": 31,
   "outputs": [
    {
     "name": "stdout",
     "output_type": "stream",
     "text": [
      "\n",
      "\n",
      "PRED N1 == N0\n",
      "(fun v[1506] => (fun v[1507] => v[1507]))\n",
      "16\n"
     ]
    }
   ],
   "source": [
    "print(\"\\n\\nPRED N1 == N0\")\n",
    "term = App(pred_term(), n_term(1))\n",
    "norm_res = term.normalize(strategy=LeftmostOutermostStrategy())\n",
    "print(norm_res[0])\n",
    "print(norm_res[1])"
   ],
   "metadata": {
    "collapsed": false
   }
  },
  {
   "cell_type": "code",
   "execution_count": 32,
   "outputs": [
    {
     "name": "stdout",
     "output_type": "stream",
     "text": [
      "\n",
      "\n",
      "PRED N2 == N1\n",
      "(fun v[1558] => (fun v[1559] => v[1559]))\n",
      "23\n"
     ]
    }
   ],
   "source": [
    "print(\"\\n\\nPRED N2 == N1\")\n",
    "term = App(pred_term(), n_term(2))\n",
    "norm_res = term.normalize(strategy=LeftmostOutermostStrategy())\n",
    "print(norm_res[0])\n",
    "print(norm_res[1])"
   ],
   "metadata": {
    "collapsed": false
   }
  },
  {
   "cell_type": "code",
   "execution_count": 33,
   "outputs": [
    {
     "name": "stdout",
     "output_type": "stream",
     "text": [
      "\n",
      "\n",
      "PRED N3 == N2\n",
      "((fun v[1562] => ((fun v[1563] => (v[1563] (fun v[1564] => (fun v[1565] => v[1564])))) ((v[1562] (fun v[1566] => (((fun v[1567] => (fun v[1568] => (fun v[1569] => ((v[1569] v[1567]) v[1568])))) ((fun v[1570] => (v[1570] (fun v[1571] => (fun v[1572] => v[1572])))) v[1566])) ((fun v[1575] => (fun v[1573] => (fun v[1574] => (v[1573] ((v[1575] v[1573]) v[1574]))))) ((fun v[1576] => (v[1576] (fun v[1577] => (fun v[1578] => v[1578])))) v[1566]))))) (((fun v[1579] => (fun v[1580] => (fun v[1581] => ((v[1581] v[1579]) v[1580])))) (fun v[1582] => (fun v[1583] => v[1583]))) (fun v[1584] => (fun v[1585] => v[1585])))))) (fun v[1586] => (fun v[1587] => (v[1586] (v[1586] (v[1586] v[1587]))))))\n",
      "inf\n"
     ]
    }
   ],
   "source": [
    "print(\"\\n\\nPRED N3 == N2\")\n",
    "term = App(pred_term(), n_term(3))\n",
    "norm_res = term.normalize(strategy=LeftmostOutermostStrategy())\n",
    "print(norm_res[0])\n",
    "print(norm_res[1])"
   ],
   "metadata": {
    "collapsed": false
   }
  },
  {
   "cell_type": "code",
   "execution_count": 34,
   "outputs": [
    {
     "name": "stdout",
     "output_type": "stream",
     "text": [
      "\n",
      "\n",
      "PRED N4 == N3\n",
      "((fun v[1614] => ((fun v[1615] => (v[1615] (fun v[1616] => (fun v[1617] => v[1616])))) ((v[1614] (fun v[1618] => (((fun v[1619] => (fun v[1620] => (fun v[1621] => ((v[1621] v[1619]) v[1620])))) ((fun v[1622] => (v[1622] (fun v[1623] => (fun v[1624] => v[1624])))) v[1618])) ((fun v[1627] => (fun v[1625] => (fun v[1626] => (v[1625] ((v[1627] v[1625]) v[1626]))))) ((fun v[1628] => (v[1628] (fun v[1629] => (fun v[1630] => v[1630])))) v[1618]))))) (((fun v[1631] => (fun v[1632] => (fun v[1633] => ((v[1633] v[1631]) v[1632])))) (fun v[1634] => (fun v[1635] => v[1635]))) (fun v[1636] => (fun v[1637] => v[1637])))))) (fun v[1638] => (fun v[1639] => (v[1638] (v[1638] (v[1638] (v[1638] v[1639])))))))\n",
      "inf\n"
     ]
    }
   ],
   "source": [
    "print(\"\\n\\nPRED N4 == N3\")\n",
    "term = App(pred_term(), n_term(4))\n",
    "norm_res = term.normalize(strategy=LeftmostOutermostStrategy())\n",
    "print(norm_res[0])\n",
    "print(norm_res[1])"
   ],
   "metadata": {
    "collapsed": false
   }
  },
  {
   "cell_type": "code",
   "execution_count": 35,
   "outputs": [
    {
     "name": "stdout",
     "output_type": "stream",
     "text": [
      "\n",
      "\n",
      "PRED N4 == N3\n",
      "(fun v[1714] => (fun v[1715] => v[1715]))\n",
      "151\n"
     ]
    }
   ],
   "source": [
    "print(\"\\n\\nPRED N4 == N3\")\n",
    "term = App(pred_term(), n_term(4))\n",
    "norm_res = term.normalize(strategy=RightmostOutermostStrategy())\n",
    "print(norm_res[0])\n",
    "print(norm_res[1])"
   ],
   "metadata": {
    "collapsed": false
   }
  },
  {
   "cell_type": "markdown",
   "source": [
    "# DRAW NUMBERS"
   ],
   "metadata": {
    "collapsed": false
   }
  },
  {
   "cell_type": "code",
   "execution_count": 36,
   "outputs": [
    {
     "name": "stdout",
     "output_type": "stream",
     "text": [
      "(fun v[1718] => (fun v[1719] => v[1719])) \n",
      "\n",
      "(fun v[1720] => (fun v[1721] => v[1721]))\n"
     ]
    }
   ],
   "source": [
    "term = n_term(0)\n",
    "print(term, \"\\n\")\n",
    "print(term.normalize(strategy=LeftmostOutermostStrategy())[0])"
   ],
   "metadata": {
    "collapsed": false
   }
  },
  {
   "cell_type": "code",
   "execution_count": 37,
   "outputs": [
    {
     "name": "stdout",
     "output_type": "stream",
     "text": [
      "(fun v[1722] => (fun v[1723] => (v[1722] v[1723]))) \n",
      "\n",
      "(fun v[1724] => (fun v[1725] => (v[1724] v[1725])))\n"
     ]
    }
   ],
   "source": [
    "term = n_term(1)\n",
    "print(term, \"\\n\")\n",
    "print(term.normalize(strategy=LeftmostOutermostStrategy())[0])"
   ],
   "metadata": {
    "collapsed": false
   }
  },
  {
   "cell_type": "code",
   "execution_count": 38,
   "outputs": [
    {
     "name": "stdout",
     "output_type": "stream",
     "text": [
      "(fun v[1726] => (fun v[1727] => (v[1726] (v[1726] v[1727])))) \n",
      "\n",
      "(fun v[1728] => (fun v[1729] => (v[1728] (v[1728] v[1729]))))\n"
     ]
    }
   ],
   "source": [
    "term = n_term(2)\n",
    "print(term, \"\\n\")\n",
    "print(term.normalize(strategy=LeftmostOutermostStrategy())[0])"
   ],
   "metadata": {
    "collapsed": false
   }
  },
  {
   "cell_type": "code",
   "execution_count": 39,
   "outputs": [
    {
     "name": "stdout",
     "output_type": "stream",
     "text": [
      "(fun v[1730] => (fun v[1731] => (v[1730] (v[1730] (v[1730] v[1731]))))) \n",
      "\n",
      "(fun v[1732] => (fun v[1733] => (v[1732] (v[1732] (v[1732] v[1733])))))\n"
     ]
    }
   ],
   "source": [
    "term = n_term(3)\n",
    "print(term, \"\\n\")\n",
    "print(term.normalize(strategy=LeftmostOutermostStrategy())[0])"
   ],
   "metadata": {
    "collapsed": false
   }
  },
  {
   "cell_type": "code",
   "execution_count": 40,
   "outputs": [
    {
     "name": "stdout",
     "output_type": "stream",
     "text": [
      "(fun v[1734] => (fun v[1735] => (v[1734] (v[1734] (v[1734] (v[1734] v[1735])))))) \n",
      "\n",
      "(fun v[1736] => (fun v[1737] => (v[1736] (v[1736] (v[1736] (v[1736] v[1737]))))))\n"
     ]
    }
   ],
   "source": [
    "term = n_term(4)\n",
    "print(term, \"\\n\")\n",
    "print(term.normalize(strategy=LeftmostOutermostStrategy())[0])"
   ],
   "metadata": {
    "collapsed": false
   }
  },
  {
   "cell_type": "markdown",
   "source": [
    "# TESTING PREDECESSOR FUNCTION FROM .pdf"
   ],
   "metadata": {
    "collapsed": false
   }
  },
  {
   "cell_type": "code",
   "execution_count": 2,
   "outputs": [
    {
     "name": "stdout",
     "output_type": "stream",
     "text": [
      "\n",
      "\n",
      "PRED N0 == N0\n",
      "(fun v[32] => (fun v[33] => v[33]))\n",
      "6\n"
     ]
    }
   ],
   "source": [
    "print(\"\\n\\nPRED N0 == N0\")\n",
    "term = App(fpred_term(), n_term(0))\n",
    "norm_res = term.normalize(strategy=LeftmostOutermostStrategy())\n",
    "print(norm_res[0])\n",
    "print(norm_res[1])"
   ],
   "metadata": {
    "collapsed": false
   }
  },
  {
   "cell_type": "code",
   "execution_count": 3,
   "outputs": [
    {
     "name": "stdout",
     "output_type": "stream",
     "text": [
      "\n",
      "\n",
      "PRED N1 == N0\n",
      "(fun v[68] => (fun v[69] => v[69]))\n",
      "10\n"
     ]
    }
   ],
   "source": [
    "print(\"\\n\\nPRED N1 == N0\")\n",
    "term = App(fpred_term(), n_term(1))\n",
    "norm_res = term.normalize(strategy=LeftmostOutermostStrategy())\n",
    "print(norm_res[0])\n",
    "print(norm_res[1])"
   ],
   "metadata": {
    "collapsed": false
   }
  },
  {
   "cell_type": "code",
   "execution_count": 4,
   "outputs": [
    {
     "name": "stdout",
     "output_type": "stream",
     "text": [
      "\n",
      "\n",
      "PRED N2 == N1\n",
      "(fun v[106] => (fun v[107] => v[107]))\n",
      "14\n"
     ]
    }
   ],
   "source": [
    "print(\"\\n\\nPRED N2 == N1\")\n",
    "term = App(fpred_term(), n_term(2))\n",
    "norm_res = term.normalize(strategy=LeftmostOutermostStrategy())\n",
    "print(norm_res[0])\n",
    "print(norm_res[1])"
   ],
   "metadata": {
    "collapsed": false
   }
  },
  {
   "cell_type": "code",
   "execution_count": 6,
   "outputs": [
    {
     "name": "stdout",
     "output_type": "stream",
     "text": [
      "\n",
      "\n",
      "PRED N3 == N2\n",
      "(fun v[182] => (fun v[183] => v[183]))\n",
      "18\n"
     ]
    }
   ],
   "source": [
    "print(\"\\n\\nPRED N3 == N2\")\n",
    "term = App(fpred_term(), n_term(3))\n",
    "norm_res = term.normalize(strategy=LeftmostOutermostStrategy())\n",
    "print(norm_res[0])\n",
    "print(norm_res[1])"
   ],
   "metadata": {
    "collapsed": false
   }
  },
  {
   "cell_type": "code",
   "execution_count": 7,
   "outputs": [
    {
     "name": "stdout",
     "output_type": "stream",
     "text": [
      "\n",
      "\n",
      "PRED N3 == N2\n",
      "(fun v[213] => (fun v[214] => (v[213] (v[213] v[214]))))\n",
      "36\n"
     ]
    }
   ],
   "source": [
    "print(\"\\n\\nPRED N3 == N2\")\n",
    "term = App(fpred_term(), n_term(3))\n",
    "norm_res = term.normalize(strategy=LeftmostInnermostStrategy())\n",
    "print(norm_res[0])\n",
    "print(norm_res[1])"
   ],
   "metadata": {
    "collapsed": false
   }
  },
  {
   "cell_type": "code",
   "execution_count": 8,
   "outputs": [
    {
     "name": "stdout",
     "output_type": "stream",
     "text": [
      "\n",
      "\n",
      "PRED N3 == N2\n",
      "(fun v[251] => (fun v[252] => (v[251] (v[251] v[252]))))\n",
      "36\n"
     ]
    }
   ],
   "source": [
    "print(\"\\n\\nPRED N3 == N2\")\n",
    "term = App(fpred_term(), n_term(3))\n",
    "norm_res = term.normalize(strategy=RightmostInnermostStrategy())\n",
    "print(norm_res[0])\n",
    "print(norm_res[1])"
   ],
   "metadata": {
    "collapsed": false
   }
  },
  {
   "cell_type": "code",
   "execution_count": 9,
   "outputs": [
    {
     "name": "stdout",
     "output_type": "stream",
     "text": [
      "\n",
      "\n",
      "PRED N3 == N2\n",
      "(fun v[296] => (fun v[297] => v[297]))\n",
      "18\n"
     ]
    }
   ],
   "source": [
    "print(\"\\n\\nPRED N3 == N2\")\n",
    "term = App(fpred_term(), n_term(3))\n",
    "norm_res = term.normalize(strategy=RightmostOutermostStrategy())\n",
    "print(norm_res[0])\n",
    "print(norm_res[1])"
   ],
   "metadata": {
    "collapsed": false
   }
  },
  {
   "cell_type": "markdown",
   "source": [
    "# Testing SUBSTR and lE and EQ func"
   ],
   "metadata": {
    "collapsed": false
   }
  },
  {
   "cell_type": "code",
   "execution_count": 5,
   "outputs": [
    {
     "name": "stdout",
     "output_type": "stream",
     "text": [
      "\n",
      "\n",
      "LE N0 N0 == TRUE\n",
      "(fun v[272] => (fun v[273] => v[272]))\n",
      "9\n"
     ]
    }
   ],
   "source": [
    "print(\"\\n\\nLE N0 N0 == TRUE\")\n",
    "term = multi_app_term(le_term(), n0_term(), n0_term())\n",
    "norm_res = term.normalize(strategy=RightmostOutermostStrategy())\n",
    "print(norm_res[0])\n",
    "print(norm_res[1])"
   ],
   "metadata": {
    "collapsed": false
   }
  },
  {
   "cell_type": "code",
   "execution_count": 6,
   "outputs": [
    {
     "name": "stdout",
     "output_type": "stream",
     "text": [
      "\n",
      "\n",
      "LE N0 N0 == TRUE\n",
      "(fun v[348] => (fun v[349] => v[348]))\n",
      "9\n"
     ]
    }
   ],
   "source": [
    "print(\"\\n\\nLE N0 N0 == TRUE\")\n",
    "term = multi_app_term(le_term(), n0_term(), n0_term())\n",
    "norm_res = term.normalize(strategy=LeftmostOutermostStrategy())\n",
    "print(norm_res[0])\n",
    "print(norm_res[1])"
   ],
   "metadata": {
    "collapsed": false
   }
  },
  {
   "cell_type": "code",
   "execution_count": 7,
   "outputs": [
    {
     "name": "stdout",
     "output_type": "stream",
     "text": [
      "\n",
      "\n",
      "LE N1 N0 == FALSE\n",
      "(fun v[422] => (fun v[423] => v[423]))\n",
      "10\n"
     ]
    }
   ],
   "source": [
    "print(\"\\n\\nLE N1 N0 == FALSE\")\n",
    "term = multi_app_term(le_term(), n_term(1), n_term(0))\n",
    "norm_res = term.normalize(strategy=RightmostOutermostStrategy())\n",
    "print(norm_res[0])\n",
    "print(norm_res[1])"
   ],
   "metadata": {
    "collapsed": false
   }
  },
  {
   "cell_type": "code",
   "execution_count": 8,
   "outputs": [
    {
     "name": "stdout",
     "output_type": "stream",
     "text": [
      "\n",
      "\n",
      "LE N1 N0 == FALSE\n",
      "(fun v[498] => (fun v[499] => v[499]))\n",
      "10\n"
     ]
    }
   ],
   "source": [
    "print(\"\\n\\nLE N1 N0 == FALSE\")\n",
    "term = multi_app_term(le_term(), n_term(1), n_term(0))\n",
    "norm_res = term.normalize(strategy=LeftmostOutermostStrategy())\n",
    "print(norm_res[0])\n",
    "print(norm_res[1])"
   ],
   "metadata": {
    "collapsed": false
   }
  },
  {
   "cell_type": "code",
   "execution_count": 9,
   "outputs": [
    {
     "name": "stdout",
     "output_type": "stream",
     "text": [
      "\n",
      "\n",
      "LE N3 N0 == FALSE\n",
      "(fun v[574] => (fun v[575] => v[575]))\n",
      "10\n"
     ]
    }
   ],
   "source": [
    "print(\"\\n\\nLE N3 N0 == FALSE\")\n",
    "term = multi_app_term(le_term(), n_term(3), n_term(0))\n",
    "norm_res = term.normalize(strategy=RightmostOutermostStrategy())\n",
    "print(norm_res[0])\n",
    "print(norm_res[1])"
   ],
   "metadata": {
    "collapsed": false
   }
  },
  {
   "cell_type": "code",
   "execution_count": 11,
   "outputs": [
    {
     "name": "stdout",
     "output_type": "stream",
     "text": [
      "\n",
      "\n",
      "LE N0 N3 == TRUE\n",
      "(fun v[728] => (fun v[729] => v[728]))\n",
      "46\n"
     ]
    }
   ],
   "source": [
    "print(\"\\n\\nLE N0 N3 == TRUE\")\n",
    "term = multi_app_term(le_term(), n_term(0), n_term(3))\n",
    "norm_res = term.normalize(strategy=RightmostOutermostStrategy())\n",
    "print(norm_res[0])\n",
    "print(norm_res[1])"
   ],
   "metadata": {
    "collapsed": false
   }
  },
  {
   "cell_type": "code",
   "execution_count": 12,
   "outputs": [
    {
     "name": "stdout",
     "output_type": "stream",
     "text": [
      "\n",
      "\n",
      "EQ N0 N0 == TRUE\n",
      "(fun v[886] => (fun v[887] => v[886]))\n",
      "36\n"
     ]
    }
   ],
   "source": [
    "print(\"\\n\\nEQ N0 N0 == TRUE\")\n",
    "term = multi_app_term(eq_term(), n_term(0), n_term(0))\n",
    "norm_res = term.normalize(strategy=RightmostOutermostStrategy())\n",
    "print(norm_res[0])\n",
    "print(norm_res[1])"
   ],
   "metadata": {
    "collapsed": false
   }
  },
  {
   "cell_type": "code",
   "execution_count": 13,
   "outputs": [
    {
     "name": "stdout",
     "output_type": "stream",
     "text": [
      "\n",
      "\n",
      "EQ N3 N3 == TRUE\n",
      "(fun v[1044] => (fun v[1045] => v[1044]))\n",
      "375\n"
     ]
    }
   ],
   "source": [
    "print(\"\\n\\nEQ N3 N3 == TRUE\")\n",
    "term = multi_app_term(eq_term(), n_term(3), n_term(3))\n",
    "norm_res = term.normalize(strategy=RightmostOutermostStrategy())\n",
    "print(norm_res[0])\n",
    "print(norm_res[1])"
   ],
   "metadata": {
    "collapsed": false
   }
  },
  {
   "cell_type": "code",
   "execution_count": 14,
   "outputs": [
    {
     "name": "stdout",
     "output_type": "stream",
     "text": [
      "\n",
      "\n",
      "EQ N3 N3 == TRUE\n",
      "(((fun v[1076] => (fun v[1077] => (((fun v[1078] => (fun v[1079] => ((((fun v[1082] => (fun v[1080] => (fun v[1081] => ((v[1082] v[1080]) v[1081])))) v[1078]) v[1079]) v[1078]))) (((fun v[1083] => (fun v[1084] => ((fun v[1086] => ((v[1086] (fun v[1085] => (fun v[1087] => (fun v[1088] => v[1088])))) (fun v[1089] => (fun v[1090] => v[1089])))) (((fun v[1091] => (fun v[1092] => ((v[1092] (fun v[1093] => ((fun v[1094] => (v[1094] (fun v[1095] => (fun v[1096] => v[1095])))) ((v[1093] (fun v[1097] => (((fun v[1098] => (fun v[1099] => (fun v[1100] => ((v[1100] v[1098]) v[1099])))) ((fun v[1101] => (v[1101] (fun v[1102] => (fun v[1103] => v[1103])))) v[1097])) ((fun v[1106] => (fun v[1104] => (fun v[1105] => (v[1104] ((v[1106] v[1104]) v[1105]))))) ((fun v[1107] => (v[1107] (fun v[1108] => (fun v[1109] => v[1109])))) v[1097]))))) (((fun v[1110] => (fun v[1111] => (fun v[1112] => ((v[1112] v[1110]) v[1111])))) (fun v[1113] => (fun v[1114] => v[1114]))) (fun v[1115] => (fun v[1116] => v[1116]))))))) v[1091]))) v[1083]) v[1084])))) v[1076]) v[1077])) (((fun v[1117] => (fun v[1118] => ((fun v[1120] => ((v[1120] (fun v[1119] => (fun v[1121] => (fun v[1122] => v[1122])))) (fun v[1123] => (fun v[1124] => v[1123])))) (((fun v[1125] => (fun v[1126] => ((v[1126] (fun v[1127] => ((fun v[1128] => (v[1128] (fun v[1129] => (fun v[1130] => v[1129])))) ((v[1127] (fun v[1131] => (((fun v[1132] => (fun v[1133] => (fun v[1134] => ((v[1134] v[1132]) v[1133])))) ((fun v[1135] => (v[1135] (fun v[1136] => (fun v[1137] => v[1137])))) v[1131])) ((fun v[1140] => (fun v[1138] => (fun v[1139] => (v[1138] ((v[1140] v[1138]) v[1139]))))) ((fun v[1141] => (v[1141] (fun v[1142] => (fun v[1143] => v[1143])))) v[1131]))))) (((fun v[1144] => (fun v[1145] => (fun v[1146] => ((v[1146] v[1144]) v[1145])))) (fun v[1147] => (fun v[1148] => v[1148]))) (fun v[1149] => (fun v[1150] => v[1150]))))))) v[1125]))) v[1117]) v[1118])))) v[1076]) v[1077])))) (fun v[1151] => (fun v[1152] => (v[1151] (v[1151] (v[1151] v[1152])))))) (fun v[1153] => (fun v[1154] => (v[1153] (v[1153] (v[1153] v[1154]))))))\n",
      "inf\n"
     ]
    }
   ],
   "source": [
    "print(\"\\n\\nEQ N3 N3 == TRUE\")\n",
    "term = multi_app_term(eq_term(), n_term(3), n_term(3))\n",
    "norm_res = term.normalize(strategy=LeftmostOutermostStrategy())\n",
    "print(norm_res[0])\n",
    "print(norm_res[1])"
   ],
   "metadata": {
    "collapsed": false
   }
  },
  {
   "cell_type": "code",
   "execution_count": 15,
   "outputs": [
    {
     "name": "stdout",
     "output_type": "stream",
     "text": [
      "\n",
      "\n",
      "EQ N3 N3 == TRUE\n",
      "(fun v[1360] => (fun v[1361] => v[1360]))\n",
      "275\n"
     ]
    }
   ],
   "source": [
    "print(\"\\n\\nEQ N3 N3 == TRUE\")\n",
    "term = multi_app_term(eq_term(), n_term(3), n_term(3))\n",
    "norm_res = term.normalize(strategy=LeftmostInnermostStrategy())\n",
    "print(norm_res[0])\n",
    "print(norm_res[1])"
   ],
   "metadata": {
    "collapsed": false
   }
  },
  {
   "cell_type": "code",
   "execution_count": 16,
   "outputs": [
    {
     "name": "stdout",
     "output_type": "stream",
     "text": [
      "\n",
      "\n",
      "EQ N0 N3 == FALSE\n",
      "(fun v[1518] => (fun v[1519] => v[1518]))\n",
      "147\n"
     ]
    }
   ],
   "source": [
    "print(\"\\n\\nEQ N0 N3 == FALSE\")\n",
    "term = multi_app_term(eq_term(), n_term(0), n_term(3))\n",
    "norm_res = term.normalize(strategy=RightmostOutermostStrategy())\n",
    "print(norm_res[0])\n",
    "print(norm_res[1])"
   ],
   "metadata": {
    "collapsed": false
   }
  },
  {
   "cell_type": "code",
   "execution_count": 17,
   "outputs": [
    {
     "name": "stdout",
     "output_type": "stream",
     "text": [
      "\n",
      "\n",
      "EQ N0 N3 == FALSE\n",
      "(fun v[1676] => (fun v[1677] => v[1676]))\n",
      "81\n"
     ]
    }
   ],
   "source": [
    "print(\"\\n\\nEQ N0 N3 == FALSE\")\n",
    "term = multi_app_term(eq_term(), n_term(0), n_term(3))\n",
    "norm_res = term.normalize(strategy=LeftmostOutermostStrategy())\n",
    "print(norm_res[0])\n",
    "print(norm_res[1])"
   ],
   "metadata": {
    "collapsed": false
   }
  },
  {
   "cell_type": "code",
   "execution_count": 18,
   "outputs": [
    {
     "name": "stdout",
     "output_type": "stream",
     "text": [
      "\n",
      "\n",
      "EQ N3 N0 == FALSE\n",
      "(fun v[1798] => (fun v[1799] => v[1799]))\n",
      "39\n"
     ]
    }
   ],
   "source": [
    "print(\"\\n\\nEQ N3 N0 == FALSE\")\n",
    "term = multi_app_term(eq_term(), n_term(3), n_term(0))\n",
    "norm_res = term.normalize(strategy=RightmostOutermostStrategy())\n",
    "print(norm_res[0])\n",
    "print(norm_res[1])"
   ],
   "metadata": {
    "collapsed": false
   }
  },
  {
   "cell_type": "code",
   "execution_count": 19,
   "outputs": [
    {
     "name": "stdout",
     "output_type": "stream",
     "text": [
      "\n",
      "\n",
      "EQ N0 N3 == FALSE\n",
      "(fun v[1992] => (fun v[1993] => v[1992]))\n",
      "81\n"
     ]
    }
   ],
   "source": [
    "print(\"\\n\\nEQ N0 N3 == FALSE\")\n",
    "term = multi_app_term(eq_term(), n_term(0), n_term(3))\n",
    "norm_res = term.normalize(strategy=LeftmostOutermostStrategy())\n",
    "print(norm_res[0])\n",
    "print(norm_res[1])"
   ],
   "metadata": {
    "collapsed": false
   }
  },
  {
   "cell_type": "markdown",
   "source": [
    "# FINAL GCD term testing:"
   ],
   "metadata": {
    "collapsed": false
   }
  },
  {
   "cell_type": "code",
   "execution_count": 2,
   "outputs": [
    {
     "name": "stdout",
     "output_type": "stream",
     "text": [
      "\n",
      "\n",
      "GCD N0 N0 == 0\n",
      "((((fun v[193] => ((fun v[192] => ((v[193] v[192]) v[192])) (fun v[192] => ((v[193] v[192]) v[192])))) (fun v[2] => (fun v[0] => (fun v[1] => ((fun v[191] => (fun v[189] => (fun v[190] => ((v[191] v[189]) v[190])))) ((((fun v[176] => (fun v[177] => ((((fun v[180] => (fun v[178] => (fun v[179] => ((v[180] v[178]) v[179])))) v[176]) v[176]) v[177]))) (((fun v[56] => ((v[56] (fun v[55] => (fun v[57] => (fun v[58] => v[58])))) (fun v[59] => (fun v[60] => v[59])))) v[0]) ((fun v[62] => ((v[62] (fun v[61] => (fun v[63] => (fun v[64] => v[64])))) (fun v[65] => (fun v[66] => v[65])))) v[1]))) (fun v[187] => (fun v[188] => v[188]))) ((((fun v[186] => (fun v[184] => (fun v[185] => ((v[186] v[184]) v[185])))) (((fun v[101] => (fun v[102] => (((fun v[103] => (fun v[104] => ((((fun v[107] => (fun v[105] => (fun v[106] => ((v[107] v[105]) v[106])))) v[103]) v[104]) v[103]))) (((fun v[108] => (fun v[109] => ((fun v[111] => ((v[111] (fun v[110] => (fun v[112] => (fun v[113] => v[113])))) (fun v[114] => (fun v[115] => v[114])))) (((fun v[116] => (fun v[117] => ((v[117] (fun v[118] => ((fun v[119] => (v[119] (fun v[120] => (fun v[121] => v[120])))) ((v[118] (fun v[122] => (((fun v[123] => (fun v[124] => (fun v[125] => ((v[125] v[123]) v[124])))) ((fun v[126] => (v[126] (fun v[127] => (fun v[128] => v[128])))) v[122])) ((fun v[131] => (fun v[129] => (fun v[130] => (v[129] ((v[131] v[129]) v[130]))))) ((fun v[132] => (v[132] (fun v[133] => (fun v[134] => v[134])))) v[122]))))) (((fun v[135] => (fun v[136] => (fun v[137] => ((v[137] v[135]) v[136])))) (fun v[138] => (fun v[139] => v[139]))) (fun v[140] => (fun v[141] => v[141]))))))) v[116]))) v[108]) v[109])))) v[101]) v[102])) (((fun v[142] => (fun v[143] => ((fun v[145] => ((v[145] (fun v[144] => (fun v[146] => (fun v[147] => v[147])))) (fun v[148] => (fun v[149] => v[148])))) (((fun v[150] => (fun v[151] => ((v[151] (fun v[152] => ((fun v[153] => (v[153] (fun v[154] => (fun v[155] => v[154])))) ((v[152] (fun v[156] => (((fun v[157] => (fun v[158] => (fun v[159] => ((v[159] v[157]) v[158])))) ((fun v[160] => (v[160] (fun v[161] => (fun v[162] => v[162])))) v[156])) ((fun v[165] => (fun v[163] => (fun v[164] => (v[163] ((v[165] v[163]) v[164]))))) ((fun v[166] => (v[166] (fun v[167] => (fun v[168] => v[168])))) v[156]))))) (((fun v[169] => (fun v[170] => (fun v[171] => ((v[171] v[169]) v[170])))) (fun v[172] => (fun v[173] => v[173]))) (fun v[174] => (fun v[175] => v[175]))))))) v[150]))) v[142]) v[143])))) v[101]) v[102])))) v[0]) v[1])) v[0]) ((((fun v[183] => (fun v[181] => (fun v[182] => ((v[183] v[181]) v[182])))) (((fun v[67] => (fun v[68] => ((fun v[70] => ((v[70] (fun v[69] => (fun v[71] => (fun v[72] => v[72])))) (fun v[73] => (fun v[74] => v[73])))) (((fun v[75] => (fun v[76] => ((v[76] (fun v[77] => ((fun v[78] => (v[78] (fun v[79] => (fun v[80] => v[79])))) ((v[77] (fun v[81] => (((fun v[82] => (fun v[83] => (fun v[84] => ((v[84] v[82]) v[83])))) ((fun v[85] => (v[85] (fun v[86] => (fun v[87] => v[87])))) v[81])) ((fun v[90] => (fun v[88] => (fun v[89] => (v[88] ((v[90] v[88]) v[89]))))) ((fun v[91] => (v[91] (fun v[92] => (fun v[93] => v[93])))) v[81]))))) (((fun v[94] => (fun v[95] => (fun v[96] => ((v[96] v[94]) v[95])))) (fun v[97] => (fun v[98] => v[98]))) (fun v[99] => (fun v[100] => v[100]))))))) v[75]))) v[67]) v[68])))) v[0]) v[1])) ((v[2] v[0]) (((fun v[3] => (fun v[4] => ((v[4] (fun v[5] => ((fun v[6] => (v[6] (fun v[7] => (fun v[8] => v[7])))) ((v[5] (fun v[9] => (((fun v[10] => (fun v[11] => (fun v[12] => ((v[12] v[10]) v[11])))) ((fun v[13] => (v[13] (fun v[14] => (fun v[15] => v[15])))) v[9])) ((fun v[18] => (fun v[16] => (fun v[17] => (v[16] ((v[18] v[16]) v[17]))))) ((fun v[19] => (v[19] (fun v[20] => (fun v[21] => v[21])))) v[9]))))) (((fun v[22] => (fun v[23] => (fun v[24] => ((v[24] v[22]) v[23])))) (fun v[25] => (fun v[26] => v[26]))) (fun v[27] => (fun v[28] => v[28]))))))) v[3]))) v[1]) v[0]))) ((v[2] v[1]) (((fun v[29] => (fun v[30] => ((v[30] (fun v[31] => ((fun v[32] => (v[32] (fun v[33] => (fun v[34] => v[33])))) ((v[31] (fun v[35] => (((fun v[36] => (fun v[37] => (fun v[38] => ((v[38] v[36]) v[37])))) ((fun v[39] => (v[39] (fun v[40] => (fun v[41] => v[41])))) v[35])) ((fun v[44] => (fun v[42] => (fun v[43] => (v[42] ((v[44] v[42]) v[43]))))) ((fun v[45] => (v[45] (fun v[46] => (fun v[47] => v[47])))) v[35]))))) (((fun v[48] => (fun v[49] => (fun v[50] => ((v[50] v[48]) v[49])))) (fun v[51] => (fun v[52] => v[52]))) (fun v[53] => (fun v[54] => v[54]))))))) v[29]))) v[0]) v[1])))))))))) (fun v[194] => (fun v[195] => v[195]))) (fun v[196] => (fun v[197] => v[197])))\n",
      "inf\n"
     ]
    }
   ],
   "source": [
    "print(\"\\n\\nGCD N0 N0 == 0\")\n",
    "term = multi_app_term(gcd_term(), n_term(0), n_term(0))\n",
    "norm_res = term.normalize(strategy=LeftmostOutermostStrategy())\n",
    "print(norm_res[0])\n",
    "print(norm_res[1])"
   ],
   "metadata": {
    "collapsed": false
   }
  },
  {
   "cell_type": "code",
   "execution_count": 3,
   "outputs": [
    {
     "name": "stdout",
     "output_type": "stream",
     "text": [
      "\n",
      "\n",
      "GCD N0 N0 == 0\n",
      "((((fun v[590] => ((fun v[589] => ((v[590] v[589]) v[589])) (fun v[589] => ((v[590] v[589]) v[589])))) (fun v[399] => (fun v[397] => (fun v[398] => ((fun v[588] => (fun v[586] => (fun v[587] => ((v[588] v[586]) v[587])))) ((((fun v[573] => (fun v[574] => ((((fun v[577] => (fun v[575] => (fun v[576] => ((v[577] v[575]) v[576])))) v[573]) v[573]) v[574]))) (((fun v[453] => ((v[453] (fun v[452] => (fun v[454] => (fun v[455] => v[455])))) (fun v[456] => (fun v[457] => v[456])))) v[397]) ((fun v[459] => ((v[459] (fun v[458] => (fun v[460] => (fun v[461] => v[461])))) (fun v[462] => (fun v[463] => v[462])))) v[398]))) (fun v[584] => (fun v[585] => v[585]))) ((((fun v[583] => (fun v[581] => (fun v[582] => ((v[583] v[581]) v[582])))) (((fun v[498] => (fun v[499] => (((fun v[500] => (fun v[501] => ((((fun v[504] => (fun v[502] => (fun v[503] => ((v[504] v[502]) v[503])))) v[500]) v[501]) v[500]))) (((fun v[505] => (fun v[506] => ((fun v[508] => ((v[508] (fun v[507] => (fun v[509] => (fun v[510] => v[510])))) (fun v[511] => (fun v[512] => v[511])))) (((fun v[513] => (fun v[514] => ((v[514] (fun v[515] => ((fun v[516] => (v[516] (fun v[517] => (fun v[518] => v[517])))) ((v[515] (fun v[519] => (((fun v[520] => (fun v[521] => (fun v[522] => ((v[522] v[520]) v[521])))) ((fun v[523] => (v[523] (fun v[524] => (fun v[525] => v[525])))) v[519])) ((fun v[528] => (fun v[526] => (fun v[527] => (v[526] ((v[528] v[526]) v[527]))))) ((fun v[529] => (v[529] (fun v[530] => (fun v[531] => v[531])))) v[519]))))) (((fun v[532] => (fun v[533] => (fun v[534] => ((v[534] v[532]) v[533])))) (fun v[535] => (fun v[536] => v[536]))) (fun v[537] => (fun v[538] => v[538]))))))) v[513]))) v[505]) v[506])))) v[498]) v[499])) (((fun v[539] => (fun v[540] => ((fun v[542] => ((v[542] (fun v[541] => (fun v[543] => (fun v[544] => v[544])))) (fun v[545] => (fun v[546] => v[545])))) (((fun v[547] => (fun v[548] => ((v[548] (fun v[549] => ((fun v[550] => (v[550] (fun v[551] => (fun v[552] => v[551])))) ((v[549] (fun v[553] => (((fun v[554] => (fun v[555] => (fun v[556] => ((v[556] v[554]) v[555])))) ((fun v[557] => (v[557] (fun v[558] => (fun v[559] => v[559])))) v[553])) ((fun v[562] => (fun v[560] => (fun v[561] => (v[560] ((v[562] v[560]) v[561]))))) ((fun v[563] => (v[563] (fun v[564] => (fun v[565] => v[565])))) v[553]))))) (((fun v[566] => (fun v[567] => (fun v[568] => ((v[568] v[566]) v[567])))) (fun v[569] => (fun v[570] => v[570]))) (fun v[571] => (fun v[572] => v[572]))))))) v[547]))) v[539]) v[540])))) v[498]) v[499])))) v[397]) v[398])) v[397]) ((((fun v[580] => (fun v[578] => (fun v[579] => ((v[580] v[578]) v[579])))) (((fun v[464] => (fun v[465] => ((fun v[467] => ((v[467] (fun v[466] => (fun v[468] => (fun v[469] => v[469])))) (fun v[470] => (fun v[471] => v[470])))) (((fun v[472] => (fun v[473] => ((v[473] (fun v[474] => ((fun v[475] => (v[475] (fun v[476] => (fun v[477] => v[476])))) ((v[474] (fun v[478] => (((fun v[479] => (fun v[480] => (fun v[481] => ((v[481] v[479]) v[480])))) ((fun v[482] => (v[482] (fun v[483] => (fun v[484] => v[484])))) v[478])) ((fun v[487] => (fun v[485] => (fun v[486] => (v[485] ((v[487] v[485]) v[486]))))) ((fun v[488] => (v[488] (fun v[489] => (fun v[490] => v[490])))) v[478]))))) (((fun v[491] => (fun v[492] => (fun v[493] => ((v[493] v[491]) v[492])))) (fun v[494] => (fun v[495] => v[495]))) (fun v[496] => (fun v[497] => v[497]))))))) v[472]))) v[464]) v[465])))) v[397]) v[398])) ((v[399] v[397]) (((fun v[400] => (fun v[401] => ((v[401] (fun v[402] => ((fun v[403] => (v[403] (fun v[404] => (fun v[405] => v[404])))) ((v[402] (fun v[406] => (((fun v[407] => (fun v[408] => (fun v[409] => ((v[409] v[407]) v[408])))) ((fun v[410] => (v[410] (fun v[411] => (fun v[412] => v[412])))) v[406])) ((fun v[415] => (fun v[413] => (fun v[414] => (v[413] ((v[415] v[413]) v[414]))))) ((fun v[416] => (v[416] (fun v[417] => (fun v[418] => v[418])))) v[406]))))) (((fun v[419] => (fun v[420] => (fun v[421] => ((v[421] v[419]) v[420])))) (fun v[422] => (fun v[423] => v[423]))) (fun v[424] => (fun v[425] => v[425]))))))) v[400]))) v[398]) v[397]))) ((v[399] v[398]) (((fun v[426] => (fun v[427] => ((v[427] (fun v[428] => ((fun v[429] => (v[429] (fun v[430] => (fun v[431] => v[430])))) ((v[428] (fun v[432] => (((fun v[433] => (fun v[434] => (fun v[435] => ((v[435] v[433]) v[434])))) ((fun v[436] => (v[436] (fun v[437] => (fun v[438] => v[438])))) v[432])) ((fun v[441] => (fun v[439] => (fun v[440] => (v[439] ((v[441] v[439]) v[440]))))) ((fun v[442] => (v[442] (fun v[443] => (fun v[444] => v[444])))) v[432]))))) (((fun v[445] => (fun v[446] => (fun v[447] => ((v[447] v[445]) v[446])))) (fun v[448] => (fun v[449] => v[449]))) (fun v[450] => (fun v[451] => v[451]))))))) v[426]))) v[397]) v[398])))))))))) (fun v[591] => (fun v[592] => v[592]))) (fun v[593] => (fun v[594] => v[594])))\n",
      "inf\n"
     ]
    }
   ],
   "source": [
    "print(\"\\n\\nGCD N0 N0 == 0\")\n",
    "term = multi_app_term(gcd_term(), n_term(0), n_term(0))\n",
    "norm_res = term.normalize(strategy=RightmostInnermostStrategy())\n",
    "print(norm_res[0])\n",
    "print(norm_res[1])"
   ],
   "metadata": {
    "collapsed": false
   }
  },
  {
   "cell_type": "code",
   "execution_count": 4,
   "outputs": [
    {
     "name": "stdout",
     "output_type": "stream",
     "text": [
      "\n",
      "\n",
      "GCD N0 N0 == 0\n",
      "((((fun v[987] => ((fun v[986] => ((v[987] v[986]) v[986])) (fun v[986] => ((v[987] v[986]) v[986])))) (fun v[796] => (fun v[794] => (fun v[795] => ((fun v[985] => (fun v[983] => (fun v[984] => ((v[985] v[983]) v[984])))) ((((fun v[970] => (fun v[971] => ((((fun v[974] => (fun v[972] => (fun v[973] => ((v[974] v[972]) v[973])))) v[970]) v[970]) v[971]))) (((fun v[850] => ((v[850] (fun v[849] => (fun v[851] => (fun v[852] => v[852])))) (fun v[853] => (fun v[854] => v[853])))) v[794]) ((fun v[856] => ((v[856] (fun v[855] => (fun v[857] => (fun v[858] => v[858])))) (fun v[859] => (fun v[860] => v[859])))) v[795]))) (fun v[981] => (fun v[982] => v[982]))) ((((fun v[980] => (fun v[978] => (fun v[979] => ((v[980] v[978]) v[979])))) (((fun v[895] => (fun v[896] => (((fun v[897] => (fun v[898] => ((((fun v[901] => (fun v[899] => (fun v[900] => ((v[901] v[899]) v[900])))) v[897]) v[898]) v[897]))) (((fun v[902] => (fun v[903] => ((fun v[905] => ((v[905] (fun v[904] => (fun v[906] => (fun v[907] => v[907])))) (fun v[908] => (fun v[909] => v[908])))) (((fun v[910] => (fun v[911] => ((v[911] (fun v[912] => ((fun v[913] => (v[913] (fun v[914] => (fun v[915] => v[914])))) ((v[912] (fun v[916] => (((fun v[917] => (fun v[918] => (fun v[919] => ((v[919] v[917]) v[918])))) ((fun v[920] => (v[920] (fun v[921] => (fun v[922] => v[922])))) v[916])) ((fun v[925] => (fun v[923] => (fun v[924] => (v[923] ((v[925] v[923]) v[924]))))) ((fun v[926] => (v[926] (fun v[927] => (fun v[928] => v[928])))) v[916]))))) (((fun v[929] => (fun v[930] => (fun v[931] => ((v[931] v[929]) v[930])))) (fun v[932] => (fun v[933] => v[933]))) (fun v[934] => (fun v[935] => v[935]))))))) v[910]))) v[902]) v[903])))) v[895]) v[896])) (((fun v[936] => (fun v[937] => ((fun v[939] => ((v[939] (fun v[938] => (fun v[940] => (fun v[941] => v[941])))) (fun v[942] => (fun v[943] => v[942])))) (((fun v[944] => (fun v[945] => ((v[945] (fun v[946] => ((fun v[947] => (v[947] (fun v[948] => (fun v[949] => v[948])))) ((v[946] (fun v[950] => (((fun v[951] => (fun v[952] => (fun v[953] => ((v[953] v[951]) v[952])))) ((fun v[954] => (v[954] (fun v[955] => (fun v[956] => v[956])))) v[950])) ((fun v[959] => (fun v[957] => (fun v[958] => (v[957] ((v[959] v[957]) v[958]))))) ((fun v[960] => (v[960] (fun v[961] => (fun v[962] => v[962])))) v[950]))))) (((fun v[963] => (fun v[964] => (fun v[965] => ((v[965] v[963]) v[964])))) (fun v[966] => (fun v[967] => v[967]))) (fun v[968] => (fun v[969] => v[969]))))))) v[944]))) v[936]) v[937])))) v[895]) v[896])))) v[794]) v[795])) v[794]) ((((fun v[977] => (fun v[975] => (fun v[976] => ((v[977] v[975]) v[976])))) (((fun v[861] => (fun v[862] => ((fun v[864] => ((v[864] (fun v[863] => (fun v[865] => (fun v[866] => v[866])))) (fun v[867] => (fun v[868] => v[867])))) (((fun v[869] => (fun v[870] => ((v[870] (fun v[871] => ((fun v[872] => (v[872] (fun v[873] => (fun v[874] => v[873])))) ((v[871] (fun v[875] => (((fun v[876] => (fun v[877] => (fun v[878] => ((v[878] v[876]) v[877])))) ((fun v[879] => (v[879] (fun v[880] => (fun v[881] => v[881])))) v[875])) ((fun v[884] => (fun v[882] => (fun v[883] => (v[882] ((v[884] v[882]) v[883]))))) ((fun v[885] => (v[885] (fun v[886] => (fun v[887] => v[887])))) v[875]))))) (((fun v[888] => (fun v[889] => (fun v[890] => ((v[890] v[888]) v[889])))) (fun v[891] => (fun v[892] => v[892]))) (fun v[893] => (fun v[894] => v[894]))))))) v[869]))) v[861]) v[862])))) v[794]) v[795])) ((v[796] v[794]) (((fun v[797] => (fun v[798] => ((v[798] (fun v[799] => ((fun v[800] => (v[800] (fun v[801] => (fun v[802] => v[801])))) ((v[799] (fun v[803] => (((fun v[804] => (fun v[805] => (fun v[806] => ((v[806] v[804]) v[805])))) ((fun v[807] => (v[807] (fun v[808] => (fun v[809] => v[809])))) v[803])) ((fun v[812] => (fun v[810] => (fun v[811] => (v[810] ((v[812] v[810]) v[811]))))) ((fun v[813] => (v[813] (fun v[814] => (fun v[815] => v[815])))) v[803]))))) (((fun v[816] => (fun v[817] => (fun v[818] => ((v[818] v[816]) v[817])))) (fun v[819] => (fun v[820] => v[820]))) (fun v[821] => (fun v[822] => v[822]))))))) v[797]))) v[795]) v[794]))) ((v[796] v[795]) (((fun v[823] => (fun v[824] => ((v[824] (fun v[825] => ((fun v[826] => (v[826] (fun v[827] => (fun v[828] => v[827])))) ((v[825] (fun v[829] => (((fun v[830] => (fun v[831] => (fun v[832] => ((v[832] v[830]) v[831])))) ((fun v[833] => (v[833] (fun v[834] => (fun v[835] => v[835])))) v[829])) ((fun v[838] => (fun v[836] => (fun v[837] => (v[836] ((v[838] v[836]) v[837]))))) ((fun v[839] => (v[839] (fun v[840] => (fun v[841] => v[841])))) v[829]))))) (((fun v[842] => (fun v[843] => (fun v[844] => ((v[844] v[842]) v[843])))) (fun v[845] => (fun v[846] => v[846]))) (fun v[847] => (fun v[848] => v[848]))))))) v[823]))) v[794]) v[795])))))))))) (fun v[988] => (fun v[989] => v[989]))) (fun v[990] => (fun v[991] => v[991])))\n",
      "inf\n"
     ]
    }
   ],
   "source": [
    "print(\"\\n\\nGCD N0 N0 == 0\")\n",
    "term = multi_app_term(gcd_term(), n_term(0), n_term(0))\n",
    "norm_res = term.normalize(strategy=LeftmostInnermostStrategy())\n",
    "print(norm_res[0])\n",
    "print(norm_res[1])"
   ],
   "metadata": {
    "collapsed": false
   }
  },
  {
   "cell_type": "code",
   "execution_count": 5,
   "outputs": [
    {
     "name": "stdout",
     "output_type": "stream",
     "text": [
      "\n",
      "\n",
      "GCD N0 N0 == 0\n",
      "((((fun v[1384] => ((fun v[1383] => ((v[1384] v[1383]) v[1383])) (fun v[1383] => ((v[1384] v[1383]) v[1383])))) (fun v[1193] => (fun v[1191] => (fun v[1192] => ((fun v[1382] => (fun v[1380] => (fun v[1381] => ((v[1382] v[1380]) v[1381])))) ((((fun v[1367] => (fun v[1368] => ((((fun v[1371] => (fun v[1369] => (fun v[1370] => ((v[1371] v[1369]) v[1370])))) v[1367]) v[1367]) v[1368]))) (((fun v[1247] => ((v[1247] (fun v[1246] => (fun v[1248] => (fun v[1249] => v[1249])))) (fun v[1250] => (fun v[1251] => v[1250])))) v[1191]) ((fun v[1253] => ((v[1253] (fun v[1252] => (fun v[1254] => (fun v[1255] => v[1255])))) (fun v[1256] => (fun v[1257] => v[1256])))) v[1192]))) (fun v[1378] => (fun v[1379] => v[1379]))) ((((fun v[1377] => (fun v[1375] => (fun v[1376] => ((v[1377] v[1375]) v[1376])))) (((fun v[1292] => (fun v[1293] => (((fun v[1294] => (fun v[1295] => ((((fun v[1298] => (fun v[1296] => (fun v[1297] => ((v[1298] v[1296]) v[1297])))) v[1294]) v[1295]) v[1294]))) (((fun v[1299] => (fun v[1300] => ((fun v[1302] => ((v[1302] (fun v[1301] => (fun v[1303] => (fun v[1304] => v[1304])))) (fun v[1305] => (fun v[1306] => v[1305])))) (((fun v[1307] => (fun v[1308] => ((v[1308] (fun v[1309] => ((fun v[1310] => (v[1310] (fun v[1311] => (fun v[1312] => v[1311])))) ((v[1309] (fun v[1313] => (((fun v[1314] => (fun v[1315] => (fun v[1316] => ((v[1316] v[1314]) v[1315])))) ((fun v[1317] => (v[1317] (fun v[1318] => (fun v[1319] => v[1319])))) v[1313])) ((fun v[1322] => (fun v[1320] => (fun v[1321] => (v[1320] ((v[1322] v[1320]) v[1321]))))) ((fun v[1323] => (v[1323] (fun v[1324] => (fun v[1325] => v[1325])))) v[1313]))))) (((fun v[1326] => (fun v[1327] => (fun v[1328] => ((v[1328] v[1326]) v[1327])))) (fun v[1329] => (fun v[1330] => v[1330]))) (fun v[1331] => (fun v[1332] => v[1332]))))))) v[1307]))) v[1299]) v[1300])))) v[1292]) v[1293])) (((fun v[1333] => (fun v[1334] => ((fun v[1336] => ((v[1336] (fun v[1335] => (fun v[1337] => (fun v[1338] => v[1338])))) (fun v[1339] => (fun v[1340] => v[1339])))) (((fun v[1341] => (fun v[1342] => ((v[1342] (fun v[1343] => ((fun v[1344] => (v[1344] (fun v[1345] => (fun v[1346] => v[1345])))) ((v[1343] (fun v[1347] => (((fun v[1348] => (fun v[1349] => (fun v[1350] => ((v[1350] v[1348]) v[1349])))) ((fun v[1351] => (v[1351] (fun v[1352] => (fun v[1353] => v[1353])))) v[1347])) ((fun v[1356] => (fun v[1354] => (fun v[1355] => (v[1354] ((v[1356] v[1354]) v[1355]))))) ((fun v[1357] => (v[1357] (fun v[1358] => (fun v[1359] => v[1359])))) v[1347]))))) (((fun v[1360] => (fun v[1361] => (fun v[1362] => ((v[1362] v[1360]) v[1361])))) (fun v[1363] => (fun v[1364] => v[1364]))) (fun v[1365] => (fun v[1366] => v[1366]))))))) v[1341]))) v[1333]) v[1334])))) v[1292]) v[1293])))) v[1191]) v[1192])) v[1191]) ((((fun v[1374] => (fun v[1372] => (fun v[1373] => ((v[1374] v[1372]) v[1373])))) (((fun v[1258] => (fun v[1259] => ((fun v[1261] => ((v[1261] (fun v[1260] => (fun v[1262] => (fun v[1263] => v[1263])))) (fun v[1264] => (fun v[1265] => v[1264])))) (((fun v[1266] => (fun v[1267] => ((v[1267] (fun v[1268] => ((fun v[1269] => (v[1269] (fun v[1270] => (fun v[1271] => v[1270])))) ((v[1268] (fun v[1272] => (((fun v[1273] => (fun v[1274] => (fun v[1275] => ((v[1275] v[1273]) v[1274])))) ((fun v[1276] => (v[1276] (fun v[1277] => (fun v[1278] => v[1278])))) v[1272])) ((fun v[1281] => (fun v[1279] => (fun v[1280] => (v[1279] ((v[1281] v[1279]) v[1280]))))) ((fun v[1282] => (v[1282] (fun v[1283] => (fun v[1284] => v[1284])))) v[1272]))))) (((fun v[1285] => (fun v[1286] => (fun v[1287] => ((v[1287] v[1285]) v[1286])))) (fun v[1288] => (fun v[1289] => v[1289]))) (fun v[1290] => (fun v[1291] => v[1291]))))))) v[1266]))) v[1258]) v[1259])))) v[1191]) v[1192])) ((v[1193] v[1191]) (((fun v[1194] => (fun v[1195] => ((v[1195] (fun v[1196] => ((fun v[1197] => (v[1197] (fun v[1198] => (fun v[1199] => v[1198])))) ((v[1196] (fun v[1200] => (((fun v[1201] => (fun v[1202] => (fun v[1203] => ((v[1203] v[1201]) v[1202])))) ((fun v[1204] => (v[1204] (fun v[1205] => (fun v[1206] => v[1206])))) v[1200])) ((fun v[1209] => (fun v[1207] => (fun v[1208] => (v[1207] ((v[1209] v[1207]) v[1208]))))) ((fun v[1210] => (v[1210] (fun v[1211] => (fun v[1212] => v[1212])))) v[1200]))))) (((fun v[1213] => (fun v[1214] => (fun v[1215] => ((v[1215] v[1213]) v[1214])))) (fun v[1216] => (fun v[1217] => v[1217]))) (fun v[1218] => (fun v[1219] => v[1219]))))))) v[1194]))) v[1192]) v[1191]))) ((v[1193] v[1192]) (((fun v[1220] => (fun v[1221] => ((v[1221] (fun v[1222] => ((fun v[1223] => (v[1223] (fun v[1224] => (fun v[1225] => v[1224])))) ((v[1222] (fun v[1226] => (((fun v[1227] => (fun v[1228] => (fun v[1229] => ((v[1229] v[1227]) v[1228])))) ((fun v[1230] => (v[1230] (fun v[1231] => (fun v[1232] => v[1232])))) v[1226])) ((fun v[1235] => (fun v[1233] => (fun v[1234] => (v[1233] ((v[1235] v[1233]) v[1234]))))) ((fun v[1236] => (v[1236] (fun v[1237] => (fun v[1238] => v[1238])))) v[1226]))))) (((fun v[1239] => (fun v[1240] => (fun v[1241] => ((v[1241] v[1239]) v[1240])))) (fun v[1242] => (fun v[1243] => v[1243]))) (fun v[1244] => (fun v[1245] => v[1245]))))))) v[1220]))) v[1191]) v[1192])))))))))) (fun v[1385] => (fun v[1386] => v[1386]))) (fun v[1387] => (fun v[1388] => v[1388])))\n",
      "inf\n"
     ]
    }
   ],
   "source": [
    "print(\"\\n\\nGCD N0 N0 == 0\")\n",
    "term = multi_app_term(gcd_term(), n_term(0), n_term(0))\n",
    "norm_res = term.normalize(strategy=RightmostOutermostStrategy())\n",
    "print(norm_res[0])\n",
    "print(norm_res[1])"
   ],
   "metadata": {
    "collapsed": false
   }
  },
  {
   "cell_type": "code",
   "execution_count": 6,
   "outputs": [
    {
     "name": "stdout",
     "output_type": "stream",
     "text": [
      "\n",
      "\n",
      "GCD N1 N3 == 0\n",
      "((((fun v[1781] => ((fun v[1780] => ((v[1781] v[1780]) v[1780])) (fun v[1780] => ((v[1781] v[1780]) v[1780])))) (fun v[1590] => (fun v[1588] => (fun v[1589] => ((fun v[1779] => (fun v[1777] => (fun v[1778] => ((v[1779] v[1777]) v[1778])))) ((((fun v[1764] => (fun v[1765] => ((((fun v[1768] => (fun v[1766] => (fun v[1767] => ((v[1768] v[1766]) v[1767])))) v[1764]) v[1764]) v[1765]))) (((fun v[1644] => ((v[1644] (fun v[1643] => (fun v[1645] => (fun v[1646] => v[1646])))) (fun v[1647] => (fun v[1648] => v[1647])))) v[1588]) ((fun v[1650] => ((v[1650] (fun v[1649] => (fun v[1651] => (fun v[1652] => v[1652])))) (fun v[1653] => (fun v[1654] => v[1653])))) v[1589]))) (fun v[1775] => (fun v[1776] => v[1776]))) ((((fun v[1774] => (fun v[1772] => (fun v[1773] => ((v[1774] v[1772]) v[1773])))) (((fun v[1689] => (fun v[1690] => (((fun v[1691] => (fun v[1692] => ((((fun v[1695] => (fun v[1693] => (fun v[1694] => ((v[1695] v[1693]) v[1694])))) v[1691]) v[1692]) v[1691]))) (((fun v[1696] => (fun v[1697] => ((fun v[1699] => ((v[1699] (fun v[1698] => (fun v[1700] => (fun v[1701] => v[1701])))) (fun v[1702] => (fun v[1703] => v[1702])))) (((fun v[1704] => (fun v[1705] => ((v[1705] (fun v[1706] => ((fun v[1707] => (v[1707] (fun v[1708] => (fun v[1709] => v[1708])))) ((v[1706] (fun v[1710] => (((fun v[1711] => (fun v[1712] => (fun v[1713] => ((v[1713] v[1711]) v[1712])))) ((fun v[1714] => (v[1714] (fun v[1715] => (fun v[1716] => v[1716])))) v[1710])) ((fun v[1719] => (fun v[1717] => (fun v[1718] => (v[1717] ((v[1719] v[1717]) v[1718]))))) ((fun v[1720] => (v[1720] (fun v[1721] => (fun v[1722] => v[1722])))) v[1710]))))) (((fun v[1723] => (fun v[1724] => (fun v[1725] => ((v[1725] v[1723]) v[1724])))) (fun v[1726] => (fun v[1727] => v[1727]))) (fun v[1728] => (fun v[1729] => v[1729]))))))) v[1704]))) v[1696]) v[1697])))) v[1689]) v[1690])) (((fun v[1730] => (fun v[1731] => ((fun v[1733] => ((v[1733] (fun v[1732] => (fun v[1734] => (fun v[1735] => v[1735])))) (fun v[1736] => (fun v[1737] => v[1736])))) (((fun v[1738] => (fun v[1739] => ((v[1739] (fun v[1740] => ((fun v[1741] => (v[1741] (fun v[1742] => (fun v[1743] => v[1742])))) ((v[1740] (fun v[1744] => (((fun v[1745] => (fun v[1746] => (fun v[1747] => ((v[1747] v[1745]) v[1746])))) ((fun v[1748] => (v[1748] (fun v[1749] => (fun v[1750] => v[1750])))) v[1744])) ((fun v[1753] => (fun v[1751] => (fun v[1752] => (v[1751] ((v[1753] v[1751]) v[1752]))))) ((fun v[1754] => (v[1754] (fun v[1755] => (fun v[1756] => v[1756])))) v[1744]))))) (((fun v[1757] => (fun v[1758] => (fun v[1759] => ((v[1759] v[1757]) v[1758])))) (fun v[1760] => (fun v[1761] => v[1761]))) (fun v[1762] => (fun v[1763] => v[1763]))))))) v[1738]))) v[1730]) v[1731])))) v[1689]) v[1690])))) v[1588]) v[1589])) v[1588]) ((((fun v[1771] => (fun v[1769] => (fun v[1770] => ((v[1771] v[1769]) v[1770])))) (((fun v[1655] => (fun v[1656] => ((fun v[1658] => ((v[1658] (fun v[1657] => (fun v[1659] => (fun v[1660] => v[1660])))) (fun v[1661] => (fun v[1662] => v[1661])))) (((fun v[1663] => (fun v[1664] => ((v[1664] (fun v[1665] => ((fun v[1666] => (v[1666] (fun v[1667] => (fun v[1668] => v[1667])))) ((v[1665] (fun v[1669] => (((fun v[1670] => (fun v[1671] => (fun v[1672] => ((v[1672] v[1670]) v[1671])))) ((fun v[1673] => (v[1673] (fun v[1674] => (fun v[1675] => v[1675])))) v[1669])) ((fun v[1678] => (fun v[1676] => (fun v[1677] => (v[1676] ((v[1678] v[1676]) v[1677]))))) ((fun v[1679] => (v[1679] (fun v[1680] => (fun v[1681] => v[1681])))) v[1669]))))) (((fun v[1682] => (fun v[1683] => (fun v[1684] => ((v[1684] v[1682]) v[1683])))) (fun v[1685] => (fun v[1686] => v[1686]))) (fun v[1687] => (fun v[1688] => v[1688]))))))) v[1663]))) v[1655]) v[1656])))) v[1588]) v[1589])) ((v[1590] v[1588]) (((fun v[1591] => (fun v[1592] => ((v[1592] (fun v[1593] => ((fun v[1594] => (v[1594] (fun v[1595] => (fun v[1596] => v[1595])))) ((v[1593] (fun v[1597] => (((fun v[1598] => (fun v[1599] => (fun v[1600] => ((v[1600] v[1598]) v[1599])))) ((fun v[1601] => (v[1601] (fun v[1602] => (fun v[1603] => v[1603])))) v[1597])) ((fun v[1606] => (fun v[1604] => (fun v[1605] => (v[1604] ((v[1606] v[1604]) v[1605]))))) ((fun v[1607] => (v[1607] (fun v[1608] => (fun v[1609] => v[1609])))) v[1597]))))) (((fun v[1610] => (fun v[1611] => (fun v[1612] => ((v[1612] v[1610]) v[1611])))) (fun v[1613] => (fun v[1614] => v[1614]))) (fun v[1615] => (fun v[1616] => v[1616]))))))) v[1591]))) v[1589]) v[1588]))) ((v[1590] v[1589]) (((fun v[1617] => (fun v[1618] => ((v[1618] (fun v[1619] => ((fun v[1620] => (v[1620] (fun v[1621] => (fun v[1622] => v[1621])))) ((v[1619] (fun v[1623] => (((fun v[1624] => (fun v[1625] => (fun v[1626] => ((v[1626] v[1624]) v[1625])))) ((fun v[1627] => (v[1627] (fun v[1628] => (fun v[1629] => v[1629])))) v[1623])) ((fun v[1632] => (fun v[1630] => (fun v[1631] => (v[1630] ((v[1632] v[1630]) v[1631]))))) ((fun v[1633] => (v[1633] (fun v[1634] => (fun v[1635] => v[1635])))) v[1623]))))) (((fun v[1636] => (fun v[1637] => (fun v[1638] => ((v[1638] v[1636]) v[1637])))) (fun v[1639] => (fun v[1640] => v[1640]))) (fun v[1641] => (fun v[1642] => v[1642]))))))) v[1617]))) v[1588]) v[1589])))))))))) (fun v[1782] => (fun v[1783] => (v[1782] v[1783])))) (fun v[1784] => (fun v[1785] => (v[1784] (v[1784] (v[1784] v[1785]))))))\n",
      "inf\n"
     ]
    }
   ],
   "source": [
    "print(\"\\n\\nGCD N1 N3 == 0\")\n",
    "term = multi_app_term(gcd_term(), n_term(1), n_term(3))\n",
    "norm_res = term.normalize(strategy=LeftmostOutermostStrategy())\n",
    "print(norm_res[0])\n",
    "print(norm_res[1])"
   ],
   "metadata": {
    "collapsed": false
   }
  },
  {
   "cell_type": "code",
   "execution_count": 7,
   "outputs": [
    {
     "name": "stdout",
     "output_type": "stream",
     "text": [
      "\n",
      "\n",
      "GCD N1 N3 == 0\n",
      "((((fun v[2178] => ((fun v[2177] => ((v[2178] v[2177]) v[2177])) (fun v[2177] => ((v[2178] v[2177]) v[2177])))) (fun v[1987] => (fun v[1985] => (fun v[1986] => ((fun v[2176] => (fun v[2174] => (fun v[2175] => ((v[2176] v[2174]) v[2175])))) ((((fun v[2161] => (fun v[2162] => ((((fun v[2165] => (fun v[2163] => (fun v[2164] => ((v[2165] v[2163]) v[2164])))) v[2161]) v[2161]) v[2162]))) (((fun v[2041] => ((v[2041] (fun v[2040] => (fun v[2042] => (fun v[2043] => v[2043])))) (fun v[2044] => (fun v[2045] => v[2044])))) v[1985]) ((fun v[2047] => ((v[2047] (fun v[2046] => (fun v[2048] => (fun v[2049] => v[2049])))) (fun v[2050] => (fun v[2051] => v[2050])))) v[1986]))) (fun v[2172] => (fun v[2173] => v[2173]))) ((((fun v[2171] => (fun v[2169] => (fun v[2170] => ((v[2171] v[2169]) v[2170])))) (((fun v[2086] => (fun v[2087] => (((fun v[2088] => (fun v[2089] => ((((fun v[2092] => (fun v[2090] => (fun v[2091] => ((v[2092] v[2090]) v[2091])))) v[2088]) v[2089]) v[2088]))) (((fun v[2093] => (fun v[2094] => ((fun v[2096] => ((v[2096] (fun v[2095] => (fun v[2097] => (fun v[2098] => v[2098])))) (fun v[2099] => (fun v[2100] => v[2099])))) (((fun v[2101] => (fun v[2102] => ((v[2102] (fun v[2103] => ((fun v[2104] => (v[2104] (fun v[2105] => (fun v[2106] => v[2105])))) ((v[2103] (fun v[2107] => (((fun v[2108] => (fun v[2109] => (fun v[2110] => ((v[2110] v[2108]) v[2109])))) ((fun v[2111] => (v[2111] (fun v[2112] => (fun v[2113] => v[2113])))) v[2107])) ((fun v[2116] => (fun v[2114] => (fun v[2115] => (v[2114] ((v[2116] v[2114]) v[2115]))))) ((fun v[2117] => (v[2117] (fun v[2118] => (fun v[2119] => v[2119])))) v[2107]))))) (((fun v[2120] => (fun v[2121] => (fun v[2122] => ((v[2122] v[2120]) v[2121])))) (fun v[2123] => (fun v[2124] => v[2124]))) (fun v[2125] => (fun v[2126] => v[2126]))))))) v[2101]))) v[2093]) v[2094])))) v[2086]) v[2087])) (((fun v[2127] => (fun v[2128] => ((fun v[2130] => ((v[2130] (fun v[2129] => (fun v[2131] => (fun v[2132] => v[2132])))) (fun v[2133] => (fun v[2134] => v[2133])))) (((fun v[2135] => (fun v[2136] => ((v[2136] (fun v[2137] => ((fun v[2138] => (v[2138] (fun v[2139] => (fun v[2140] => v[2139])))) ((v[2137] (fun v[2141] => (((fun v[2142] => (fun v[2143] => (fun v[2144] => ((v[2144] v[2142]) v[2143])))) ((fun v[2145] => (v[2145] (fun v[2146] => (fun v[2147] => v[2147])))) v[2141])) ((fun v[2150] => (fun v[2148] => (fun v[2149] => (v[2148] ((v[2150] v[2148]) v[2149]))))) ((fun v[2151] => (v[2151] (fun v[2152] => (fun v[2153] => v[2153])))) v[2141]))))) (((fun v[2154] => (fun v[2155] => (fun v[2156] => ((v[2156] v[2154]) v[2155])))) (fun v[2157] => (fun v[2158] => v[2158]))) (fun v[2159] => (fun v[2160] => v[2160]))))))) v[2135]))) v[2127]) v[2128])))) v[2086]) v[2087])))) v[1985]) v[1986])) v[1985]) ((((fun v[2168] => (fun v[2166] => (fun v[2167] => ((v[2168] v[2166]) v[2167])))) (((fun v[2052] => (fun v[2053] => ((fun v[2055] => ((v[2055] (fun v[2054] => (fun v[2056] => (fun v[2057] => v[2057])))) (fun v[2058] => (fun v[2059] => v[2058])))) (((fun v[2060] => (fun v[2061] => ((v[2061] (fun v[2062] => ((fun v[2063] => (v[2063] (fun v[2064] => (fun v[2065] => v[2064])))) ((v[2062] (fun v[2066] => (((fun v[2067] => (fun v[2068] => (fun v[2069] => ((v[2069] v[2067]) v[2068])))) ((fun v[2070] => (v[2070] (fun v[2071] => (fun v[2072] => v[2072])))) v[2066])) ((fun v[2075] => (fun v[2073] => (fun v[2074] => (v[2073] ((v[2075] v[2073]) v[2074]))))) ((fun v[2076] => (v[2076] (fun v[2077] => (fun v[2078] => v[2078])))) v[2066]))))) (((fun v[2079] => (fun v[2080] => (fun v[2081] => ((v[2081] v[2079]) v[2080])))) (fun v[2082] => (fun v[2083] => v[2083]))) (fun v[2084] => (fun v[2085] => v[2085]))))))) v[2060]))) v[2052]) v[2053])))) v[1985]) v[1986])) ((v[1987] v[1985]) (((fun v[1988] => (fun v[1989] => ((v[1989] (fun v[1990] => ((fun v[1991] => (v[1991] (fun v[1992] => (fun v[1993] => v[1992])))) ((v[1990] (fun v[1994] => (((fun v[1995] => (fun v[1996] => (fun v[1997] => ((v[1997] v[1995]) v[1996])))) ((fun v[1998] => (v[1998] (fun v[1999] => (fun v[2000] => v[2000])))) v[1994])) ((fun v[2003] => (fun v[2001] => (fun v[2002] => (v[2001] ((v[2003] v[2001]) v[2002]))))) ((fun v[2004] => (v[2004] (fun v[2005] => (fun v[2006] => v[2006])))) v[1994]))))) (((fun v[2007] => (fun v[2008] => (fun v[2009] => ((v[2009] v[2007]) v[2008])))) (fun v[2010] => (fun v[2011] => v[2011]))) (fun v[2012] => (fun v[2013] => v[2013]))))))) v[1988]))) v[1986]) v[1985]))) ((v[1987] v[1986]) (((fun v[2014] => (fun v[2015] => ((v[2015] (fun v[2016] => ((fun v[2017] => (v[2017] (fun v[2018] => (fun v[2019] => v[2018])))) ((v[2016] (fun v[2020] => (((fun v[2021] => (fun v[2022] => (fun v[2023] => ((v[2023] v[2021]) v[2022])))) ((fun v[2024] => (v[2024] (fun v[2025] => (fun v[2026] => v[2026])))) v[2020])) ((fun v[2029] => (fun v[2027] => (fun v[2028] => (v[2027] ((v[2029] v[2027]) v[2028]))))) ((fun v[2030] => (v[2030] (fun v[2031] => (fun v[2032] => v[2032])))) v[2020]))))) (((fun v[2033] => (fun v[2034] => (fun v[2035] => ((v[2035] v[2033]) v[2034])))) (fun v[2036] => (fun v[2037] => v[2037]))) (fun v[2038] => (fun v[2039] => v[2039]))))))) v[2014]))) v[1985]) v[1986])))))))))) (fun v[2179] => (fun v[2180] => (v[2179] v[2180])))) (fun v[2181] => (fun v[2182] => (v[2181] (v[2181] (v[2181] v[2182]))))))\n",
      "inf\n"
     ]
    }
   ],
   "source": [
    "print(\"\\n\\nGCD N1 N3 == 0\")\n",
    "term = multi_app_term(gcd_term(), n_term(1), n_term(3))\n",
    "norm_res = term.normalize(strategy=LeftmostInnermostStrategy())\n",
    "print(norm_res[0])\n",
    "print(norm_res[1])"
   ],
   "metadata": {
    "collapsed": false
   }
  },
  {
   "cell_type": "code",
   "execution_count": 8,
   "outputs": [
    {
     "name": "stdout",
     "output_type": "stream",
     "text": [
      "\n",
      "\n",
      "GCD N1 N3 == 0\n",
      "((((fun v[2575] => ((fun v[2574] => ((v[2575] v[2574]) v[2574])) (fun v[2574] => ((v[2575] v[2574]) v[2574])))) (fun v[2384] => (fun v[2382] => (fun v[2383] => ((fun v[2573] => (fun v[2571] => (fun v[2572] => ((v[2573] v[2571]) v[2572])))) ((((fun v[2558] => (fun v[2559] => ((((fun v[2562] => (fun v[2560] => (fun v[2561] => ((v[2562] v[2560]) v[2561])))) v[2558]) v[2558]) v[2559]))) (((fun v[2438] => ((v[2438] (fun v[2437] => (fun v[2439] => (fun v[2440] => v[2440])))) (fun v[2441] => (fun v[2442] => v[2441])))) v[2382]) ((fun v[2444] => ((v[2444] (fun v[2443] => (fun v[2445] => (fun v[2446] => v[2446])))) (fun v[2447] => (fun v[2448] => v[2447])))) v[2383]))) (fun v[2569] => (fun v[2570] => v[2570]))) ((((fun v[2568] => (fun v[2566] => (fun v[2567] => ((v[2568] v[2566]) v[2567])))) (((fun v[2483] => (fun v[2484] => (((fun v[2485] => (fun v[2486] => ((((fun v[2489] => (fun v[2487] => (fun v[2488] => ((v[2489] v[2487]) v[2488])))) v[2485]) v[2486]) v[2485]))) (((fun v[2490] => (fun v[2491] => ((fun v[2493] => ((v[2493] (fun v[2492] => (fun v[2494] => (fun v[2495] => v[2495])))) (fun v[2496] => (fun v[2497] => v[2496])))) (((fun v[2498] => (fun v[2499] => ((v[2499] (fun v[2500] => ((fun v[2501] => (v[2501] (fun v[2502] => (fun v[2503] => v[2502])))) ((v[2500] (fun v[2504] => (((fun v[2505] => (fun v[2506] => (fun v[2507] => ((v[2507] v[2505]) v[2506])))) ((fun v[2508] => (v[2508] (fun v[2509] => (fun v[2510] => v[2510])))) v[2504])) ((fun v[2513] => (fun v[2511] => (fun v[2512] => (v[2511] ((v[2513] v[2511]) v[2512]))))) ((fun v[2514] => (v[2514] (fun v[2515] => (fun v[2516] => v[2516])))) v[2504]))))) (((fun v[2517] => (fun v[2518] => (fun v[2519] => ((v[2519] v[2517]) v[2518])))) (fun v[2520] => (fun v[2521] => v[2521]))) (fun v[2522] => (fun v[2523] => v[2523]))))))) v[2498]))) v[2490]) v[2491])))) v[2483]) v[2484])) (((fun v[2524] => (fun v[2525] => ((fun v[2527] => ((v[2527] (fun v[2526] => (fun v[2528] => (fun v[2529] => v[2529])))) (fun v[2530] => (fun v[2531] => v[2530])))) (((fun v[2532] => (fun v[2533] => ((v[2533] (fun v[2534] => ((fun v[2535] => (v[2535] (fun v[2536] => (fun v[2537] => v[2536])))) ((v[2534] (fun v[2538] => (((fun v[2539] => (fun v[2540] => (fun v[2541] => ((v[2541] v[2539]) v[2540])))) ((fun v[2542] => (v[2542] (fun v[2543] => (fun v[2544] => v[2544])))) v[2538])) ((fun v[2547] => (fun v[2545] => (fun v[2546] => (v[2545] ((v[2547] v[2545]) v[2546]))))) ((fun v[2548] => (v[2548] (fun v[2549] => (fun v[2550] => v[2550])))) v[2538]))))) (((fun v[2551] => (fun v[2552] => (fun v[2553] => ((v[2553] v[2551]) v[2552])))) (fun v[2554] => (fun v[2555] => v[2555]))) (fun v[2556] => (fun v[2557] => v[2557]))))))) v[2532]))) v[2524]) v[2525])))) v[2483]) v[2484])))) v[2382]) v[2383])) v[2382]) ((((fun v[2565] => (fun v[2563] => (fun v[2564] => ((v[2565] v[2563]) v[2564])))) (((fun v[2449] => (fun v[2450] => ((fun v[2452] => ((v[2452] (fun v[2451] => (fun v[2453] => (fun v[2454] => v[2454])))) (fun v[2455] => (fun v[2456] => v[2455])))) (((fun v[2457] => (fun v[2458] => ((v[2458] (fun v[2459] => ((fun v[2460] => (v[2460] (fun v[2461] => (fun v[2462] => v[2461])))) ((v[2459] (fun v[2463] => (((fun v[2464] => (fun v[2465] => (fun v[2466] => ((v[2466] v[2464]) v[2465])))) ((fun v[2467] => (v[2467] (fun v[2468] => (fun v[2469] => v[2469])))) v[2463])) ((fun v[2472] => (fun v[2470] => (fun v[2471] => (v[2470] ((v[2472] v[2470]) v[2471]))))) ((fun v[2473] => (v[2473] (fun v[2474] => (fun v[2475] => v[2475])))) v[2463]))))) (((fun v[2476] => (fun v[2477] => (fun v[2478] => ((v[2478] v[2476]) v[2477])))) (fun v[2479] => (fun v[2480] => v[2480]))) (fun v[2481] => (fun v[2482] => v[2482]))))))) v[2457]))) v[2449]) v[2450])))) v[2382]) v[2383])) ((v[2384] v[2382]) (((fun v[2385] => (fun v[2386] => ((v[2386] (fun v[2387] => ((fun v[2388] => (v[2388] (fun v[2389] => (fun v[2390] => v[2389])))) ((v[2387] (fun v[2391] => (((fun v[2392] => (fun v[2393] => (fun v[2394] => ((v[2394] v[2392]) v[2393])))) ((fun v[2395] => (v[2395] (fun v[2396] => (fun v[2397] => v[2397])))) v[2391])) ((fun v[2400] => (fun v[2398] => (fun v[2399] => (v[2398] ((v[2400] v[2398]) v[2399]))))) ((fun v[2401] => (v[2401] (fun v[2402] => (fun v[2403] => v[2403])))) v[2391]))))) (((fun v[2404] => (fun v[2405] => (fun v[2406] => ((v[2406] v[2404]) v[2405])))) (fun v[2407] => (fun v[2408] => v[2408]))) (fun v[2409] => (fun v[2410] => v[2410]))))))) v[2385]))) v[2383]) v[2382]))) ((v[2384] v[2383]) (((fun v[2411] => (fun v[2412] => ((v[2412] (fun v[2413] => ((fun v[2414] => (v[2414] (fun v[2415] => (fun v[2416] => v[2415])))) ((v[2413] (fun v[2417] => (((fun v[2418] => (fun v[2419] => (fun v[2420] => ((v[2420] v[2418]) v[2419])))) ((fun v[2421] => (v[2421] (fun v[2422] => (fun v[2423] => v[2423])))) v[2417])) ((fun v[2426] => (fun v[2424] => (fun v[2425] => (v[2424] ((v[2426] v[2424]) v[2425]))))) ((fun v[2427] => (v[2427] (fun v[2428] => (fun v[2429] => v[2429])))) v[2417]))))) (((fun v[2430] => (fun v[2431] => (fun v[2432] => ((v[2432] v[2430]) v[2431])))) (fun v[2433] => (fun v[2434] => v[2434]))) (fun v[2435] => (fun v[2436] => v[2436]))))))) v[2411]))) v[2382]) v[2383])))))))))) (fun v[2576] => (fun v[2577] => (v[2576] v[2577])))) (fun v[2578] => (fun v[2579] => (v[2578] (v[2578] (v[2578] v[2579]))))))\n",
      "inf\n"
     ]
    }
   ],
   "source": [
    "print(\"\\n\\nGCD N1 N3 == 0\")\n",
    "term = multi_app_term(gcd_term(), n_term(1), n_term(3))\n",
    "norm_res = term.normalize(strategy=RightmostInnermostStrategy())\n",
    "print(norm_res[0])\n",
    "print(norm_res[1])"
   ],
   "metadata": {
    "collapsed": false
   }
  },
  {
   "cell_type": "code",
   "execution_count": 9,
   "outputs": [
    {
     "name": "stdout",
     "output_type": "stream",
     "text": [
      "\n",
      "\n",
      "GCD N1 N3 == 0\n",
      "((((fun v[2972] => ((fun v[2971] => ((v[2972] v[2971]) v[2971])) (fun v[2971] => ((v[2972] v[2971]) v[2971])))) (fun v[2781] => (fun v[2779] => (fun v[2780] => ((fun v[2970] => (fun v[2968] => (fun v[2969] => ((v[2970] v[2968]) v[2969])))) ((((fun v[2955] => (fun v[2956] => ((((fun v[2959] => (fun v[2957] => (fun v[2958] => ((v[2959] v[2957]) v[2958])))) v[2955]) v[2955]) v[2956]))) (((fun v[2835] => ((v[2835] (fun v[2834] => (fun v[2836] => (fun v[2837] => v[2837])))) (fun v[2838] => (fun v[2839] => v[2838])))) v[2779]) ((fun v[2841] => ((v[2841] (fun v[2840] => (fun v[2842] => (fun v[2843] => v[2843])))) (fun v[2844] => (fun v[2845] => v[2844])))) v[2780]))) (fun v[2966] => (fun v[2967] => v[2967]))) ((((fun v[2965] => (fun v[2963] => (fun v[2964] => ((v[2965] v[2963]) v[2964])))) (((fun v[2880] => (fun v[2881] => (((fun v[2882] => (fun v[2883] => ((((fun v[2886] => (fun v[2884] => (fun v[2885] => ((v[2886] v[2884]) v[2885])))) v[2882]) v[2883]) v[2882]))) (((fun v[2887] => (fun v[2888] => ((fun v[2890] => ((v[2890] (fun v[2889] => (fun v[2891] => (fun v[2892] => v[2892])))) (fun v[2893] => (fun v[2894] => v[2893])))) (((fun v[2895] => (fun v[2896] => ((v[2896] (fun v[2897] => ((fun v[2898] => (v[2898] (fun v[2899] => (fun v[2900] => v[2899])))) ((v[2897] (fun v[2901] => (((fun v[2902] => (fun v[2903] => (fun v[2904] => ((v[2904] v[2902]) v[2903])))) ((fun v[2905] => (v[2905] (fun v[2906] => (fun v[2907] => v[2907])))) v[2901])) ((fun v[2910] => (fun v[2908] => (fun v[2909] => (v[2908] ((v[2910] v[2908]) v[2909]))))) ((fun v[2911] => (v[2911] (fun v[2912] => (fun v[2913] => v[2913])))) v[2901]))))) (((fun v[2914] => (fun v[2915] => (fun v[2916] => ((v[2916] v[2914]) v[2915])))) (fun v[2917] => (fun v[2918] => v[2918]))) (fun v[2919] => (fun v[2920] => v[2920]))))))) v[2895]))) v[2887]) v[2888])))) v[2880]) v[2881])) (((fun v[2921] => (fun v[2922] => ((fun v[2924] => ((v[2924] (fun v[2923] => (fun v[2925] => (fun v[2926] => v[2926])))) (fun v[2927] => (fun v[2928] => v[2927])))) (((fun v[2929] => (fun v[2930] => ((v[2930] (fun v[2931] => ((fun v[2932] => (v[2932] (fun v[2933] => (fun v[2934] => v[2933])))) ((v[2931] (fun v[2935] => (((fun v[2936] => (fun v[2937] => (fun v[2938] => ((v[2938] v[2936]) v[2937])))) ((fun v[2939] => (v[2939] (fun v[2940] => (fun v[2941] => v[2941])))) v[2935])) ((fun v[2944] => (fun v[2942] => (fun v[2943] => (v[2942] ((v[2944] v[2942]) v[2943]))))) ((fun v[2945] => (v[2945] (fun v[2946] => (fun v[2947] => v[2947])))) v[2935]))))) (((fun v[2948] => (fun v[2949] => (fun v[2950] => ((v[2950] v[2948]) v[2949])))) (fun v[2951] => (fun v[2952] => v[2952]))) (fun v[2953] => (fun v[2954] => v[2954]))))))) v[2929]))) v[2921]) v[2922])))) v[2880]) v[2881])))) v[2779]) v[2780])) v[2779]) ((((fun v[2962] => (fun v[2960] => (fun v[2961] => ((v[2962] v[2960]) v[2961])))) (((fun v[2846] => (fun v[2847] => ((fun v[2849] => ((v[2849] (fun v[2848] => (fun v[2850] => (fun v[2851] => v[2851])))) (fun v[2852] => (fun v[2853] => v[2852])))) (((fun v[2854] => (fun v[2855] => ((v[2855] (fun v[2856] => ((fun v[2857] => (v[2857] (fun v[2858] => (fun v[2859] => v[2858])))) ((v[2856] (fun v[2860] => (((fun v[2861] => (fun v[2862] => (fun v[2863] => ((v[2863] v[2861]) v[2862])))) ((fun v[2864] => (v[2864] (fun v[2865] => (fun v[2866] => v[2866])))) v[2860])) ((fun v[2869] => (fun v[2867] => (fun v[2868] => (v[2867] ((v[2869] v[2867]) v[2868]))))) ((fun v[2870] => (v[2870] (fun v[2871] => (fun v[2872] => v[2872])))) v[2860]))))) (((fun v[2873] => (fun v[2874] => (fun v[2875] => ((v[2875] v[2873]) v[2874])))) (fun v[2876] => (fun v[2877] => v[2877]))) (fun v[2878] => (fun v[2879] => v[2879]))))))) v[2854]))) v[2846]) v[2847])))) v[2779]) v[2780])) ((v[2781] v[2779]) (((fun v[2782] => (fun v[2783] => ((v[2783] (fun v[2784] => ((fun v[2785] => (v[2785] (fun v[2786] => (fun v[2787] => v[2786])))) ((v[2784] (fun v[2788] => (((fun v[2789] => (fun v[2790] => (fun v[2791] => ((v[2791] v[2789]) v[2790])))) ((fun v[2792] => (v[2792] (fun v[2793] => (fun v[2794] => v[2794])))) v[2788])) ((fun v[2797] => (fun v[2795] => (fun v[2796] => (v[2795] ((v[2797] v[2795]) v[2796]))))) ((fun v[2798] => (v[2798] (fun v[2799] => (fun v[2800] => v[2800])))) v[2788]))))) (((fun v[2801] => (fun v[2802] => (fun v[2803] => ((v[2803] v[2801]) v[2802])))) (fun v[2804] => (fun v[2805] => v[2805]))) (fun v[2806] => (fun v[2807] => v[2807]))))))) v[2782]))) v[2780]) v[2779]))) ((v[2781] v[2780]) (((fun v[2808] => (fun v[2809] => ((v[2809] (fun v[2810] => ((fun v[2811] => (v[2811] (fun v[2812] => (fun v[2813] => v[2812])))) ((v[2810] (fun v[2814] => (((fun v[2815] => (fun v[2816] => (fun v[2817] => ((v[2817] v[2815]) v[2816])))) ((fun v[2818] => (v[2818] (fun v[2819] => (fun v[2820] => v[2820])))) v[2814])) ((fun v[2823] => (fun v[2821] => (fun v[2822] => (v[2821] ((v[2823] v[2821]) v[2822]))))) ((fun v[2824] => (v[2824] (fun v[2825] => (fun v[2826] => v[2826])))) v[2814]))))) (((fun v[2827] => (fun v[2828] => (fun v[2829] => ((v[2829] v[2827]) v[2828])))) (fun v[2830] => (fun v[2831] => v[2831]))) (fun v[2832] => (fun v[2833] => v[2833]))))))) v[2808]))) v[2779]) v[2780])))))))))) (fun v[2973] => (fun v[2974] => (v[2973] v[2974])))) (fun v[2975] => (fun v[2976] => (v[2975] (v[2975] (v[2975] v[2976]))))))\n",
      "inf\n"
     ]
    }
   ],
   "source": [
    "print(\"\\n\\nGCD N1 N3 == 0\")\n",
    "term = multi_app_term(gcd_term(), n_term(1), n_term(3))\n",
    "norm_res = term.normalize(strategy=RightmostOutermostStrategy())\n",
    "print(norm_res[0])\n",
    "print(norm_res[1])"
   ],
   "metadata": {
    "collapsed": false
   }
  },
  {
   "cell_type": "markdown",
   "source": [
    "# GCD by no lim norm"
   ],
   "metadata": {
    "collapsed": false
   }
  },
  {
   "cell_type": "code",
   "execution_count": 2,
   "outputs": [
    {
     "name": "stdout",
     "output_type": "stream",
     "text": [
      "\n",
      "\n",
      "GCD N0 N0 == 0\n",
      "(fun v[206] => (fun v[396] => v[396]))\n",
      "113\n"
     ]
    }
   ],
   "source": [
    "print(\"\\n\\nGCD N0 N0 == 0\")\n",
    "term = multi_app_term(gcd_term(), n_term(0), n_term(0))\n",
    "norm_res = term.normalize_no_lim(strategy=LeftmostOutermostStrategy())\n",
    "print(norm_res[0])\n",
    "print(norm_res[1])"
   ],
   "metadata": {
    "collapsed": false
   }
  },
  {
   "cell_type": "code",
   "execution_count": 3,
   "outputs": [
    {
     "name": "stdout",
     "output_type": "stream",
     "text": [
      "\n",
      "\n",
      "GCD N3 N1 == 1\n",
      "(fun v[603] => (fun v[793] => (v[603] v[793])))\n",
      "69\n"
     ]
    }
   ],
   "source": [
    "print(\"\\n\\nGCD N3 N1 == 1\")\n",
    "term = multi_app_term(gcd_term(), n_term(3), n_term(1))\n",
    "norm_res = term.normalize_no_lim(strategy=LeftmostOutermostStrategy())\n",
    "print(norm_res[0])\n",
    "print(norm_res[1])"
   ],
   "metadata": {
    "collapsed": false
   }
  },
  {
   "cell_type": "code",
   "execution_count": 4,
   "outputs": [
    {
     "name": "stdout",
     "output_type": "stream",
     "text": [
      "\n",
      "\n",
      "GCD N3 N1 == 1\n"
     ]
    },
    {
     "ename": "KeyboardInterrupt",
     "evalue": "",
     "output_type": "error",
     "traceback": [
      "\u001B[1;31m---------------------------------------------------------------------------\u001B[0m",
      "\u001B[1;31mKeyboardInterrupt\u001B[0m                         Traceback (most recent call last)",
      "Cell \u001B[1;32mIn[4], line 3\u001B[0m\n\u001B[0;32m      1\u001B[0m \u001B[38;5;28mprint\u001B[39m(\u001B[38;5;124m\"\u001B[39m\u001B[38;5;130;01m\\n\u001B[39;00m\u001B[38;5;130;01m\\n\u001B[39;00m\u001B[38;5;124mGCD N3 N1 == 1\u001B[39m\u001B[38;5;124m\"\u001B[39m)\n\u001B[0;32m      2\u001B[0m term \u001B[38;5;241m=\u001B[39m multi_app_term(gcd_term(), n_term(\u001B[38;5;241m3\u001B[39m), n_term(\u001B[38;5;241m1\u001B[39m))\n\u001B[1;32m----> 3\u001B[0m norm_res \u001B[38;5;241m=\u001B[39m \u001B[43mterm\u001B[49m\u001B[38;5;241;43m.\u001B[39;49m\u001B[43mnormalize_no_lim\u001B[49m\u001B[43m(\u001B[49m\u001B[43mstrategy\u001B[49m\u001B[38;5;241;43m=\u001B[39;49m\u001B[43mRightmostInnermostStrategy\u001B[49m\u001B[43m(\u001B[49m\u001B[43m)\u001B[49m\u001B[43m)\u001B[49m\n\u001B[0;32m      4\u001B[0m \u001B[38;5;28mprint\u001B[39m(norm_res[\u001B[38;5;241m0\u001B[39m])\n\u001B[0;32m      5\u001B[0m \u001B[38;5;28mprint\u001B[39m(norm_res[\u001B[38;5;241m1\u001B[39m])\n",
      "File \u001B[1;32mD:\\documents\\python_projects\\pure-calculus\\src\\tests_5\\..\\calculus\\term.py:137\u001B[0m, in \u001B[0;36mTerm.normalize_no_lim\u001B[1;34m(self, strategy)\u001B[0m\n\u001B[0;32m    135\u001B[0m count \u001B[38;5;241m=\u001B[39m \u001B[38;5;241m0\u001B[39m\n\u001B[0;32m    136\u001B[0m \u001B[38;5;28;01mwhile\u001B[39;00m term\u001B[38;5;241m.\u001B[39mredexes \u001B[38;5;241m!=\u001B[39m []:\n\u001B[1;32m--> 137\u001B[0m     term \u001B[38;5;241m=\u001B[39m \u001B[43mterm\u001B[49m\u001B[38;5;241;43m.\u001B[39;49m\u001B[43m_betaConversion\u001B[49m\u001B[43m(\u001B[49m\u001B[43mstrategy\u001B[49m\u001B[43m)\u001B[49m\n\u001B[0;32m    138\u001B[0m     count \u001B[38;5;241m+\u001B[39m\u001B[38;5;241m=\u001B[39m \u001B[38;5;241m1\u001B[39m\n\u001B[0;32m    139\u001B[0m \u001B[38;5;28;01mreturn\u001B[39;00m term, count\n",
      "File \u001B[1;32mD:\\documents\\python_projects\\pure-calculus\\src\\tests_5\\..\\calculus\\term.py:168\u001B[0m, in \u001B[0;36mTerm._betaConversion\u001B[1;34m(self, strategy)\u001B[0m\n\u001B[0;32m    163\u001B[0m \u001B[38;5;28;01mdef\u001B[39;00m \u001B[38;5;21m_betaConversion\u001B[39m(\u001B[38;5;28mself\u001B[39m, strategy):\n\u001B[0;32m    164\u001B[0m     \u001B[38;5;124;03m\"\"\"\u001B[39;00m\n\u001B[0;32m    165\u001B[0m \u001B[38;5;124;03m    :param strategy: OneStepStrategy\u001B[39;00m\n\u001B[0;32m    166\u001B[0m \u001B[38;5;124;03m    :return term with redex eliminated using the given strategy\u001B[39;00m\n\u001B[0;32m    167\u001B[0m \u001B[38;5;124;03m    \"\"\"\u001B[39;00m\n\u001B[1;32m--> 168\u001B[0m     index \u001B[38;5;241m=\u001B[39m \u001B[43mstrategy\u001B[49m\u001B[38;5;241;43m.\u001B[39;49m\u001B[43mredexIndex\u001B[49m\u001B[43m(\u001B[49m\u001B[38;5;28;43mself\u001B[39;49m\u001B[43m)\u001B[49m\n\u001B[0;32m    169\u001B[0m     subterm \u001B[38;5;241m=\u001B[39m \u001B[38;5;28mself\u001B[39m\u001B[38;5;241m.\u001B[39msubterm(index)\n\u001B[0;32m    170\u001B[0m     reducedTerm \u001B[38;5;241m=\u001B[39m subterm\u001B[38;5;241m.\u001B[39m_removeOuterRedex()\n",
      "File \u001B[1;32mD:\\documents\\python_projects\\pure-calculus\\src\\tests_5\\..\\calculus\\strategy.py:62\u001B[0m, in \u001B[0;36mRightmostInnermostStrategy.redexIndex\u001B[1;34m(self, term, initIndex)\u001B[0m\n\u001B[0;32m     58\u001B[0m     \u001B[38;5;28;01mreturn\u001B[39;00m \u001B[38;5;28mself\u001B[39m\u001B[38;5;241m.\u001B[39mredexIndex(\n\u001B[0;32m     59\u001B[0m         term\u001B[38;5;241m.\u001B[39m_obj, initIndex \u001B[38;5;241m+\u001B[39m term\u001B[38;5;241m.\u001B[39m_sub\u001B[38;5;241m.\u001B[39mverticesNumber \u001B[38;5;241m+\u001B[39m \u001B[38;5;241m1\u001B[39m\n\u001B[0;32m     60\u001B[0m     )\n\u001B[0;32m     61\u001B[0m \u001B[38;5;28;01melif\u001B[39;00m \u001B[38;5;28mlen\u001B[39m(term\u001B[38;5;241m.\u001B[39m_sub\u001B[38;5;241m.\u001B[39mredexes) \u001B[38;5;241m!=\u001B[39m \u001B[38;5;241m0\u001B[39m:\n\u001B[1;32m---> 62\u001B[0m     \u001B[38;5;28;01mreturn\u001B[39;00m \u001B[38;5;28;43mself\u001B[39;49m\u001B[38;5;241;43m.\u001B[39;49m\u001B[43mredexIndex\u001B[49m\u001B[43m(\u001B[49m\u001B[43mterm\u001B[49m\u001B[38;5;241;43m.\u001B[39;49m\u001B[43m_sub\u001B[49m\u001B[43m,\u001B[49m\u001B[43m \u001B[49m\u001B[43minitIndex\u001B[49m\u001B[43m \u001B[49m\u001B[38;5;241;43m+\u001B[39;49m\u001B[43m \u001B[49m\u001B[38;5;241;43m1\u001B[39;49m\u001B[43m)\u001B[49m\n\u001B[0;32m     63\u001B[0m \u001B[38;5;28;01melse\u001B[39;00m:\n\u001B[0;32m     64\u001B[0m     \u001B[38;5;28;01mreturn\u001B[39;00m initIndex \u001B[38;5;241m+\u001B[39m \u001B[38;5;241m1\u001B[39m\n",
      "File \u001B[1;32mD:\\documents\\python_projects\\pure-calculus\\src\\tests_5\\..\\calculus\\strategy.py:54\u001B[0m, in \u001B[0;36mRightmostInnermostStrategy.redexIndex\u001B[1;34m(self, term, initIndex)\u001B[0m\n\u001B[0;32m     53\u001B[0m \u001B[38;5;28;01mdef\u001B[39;00m \u001B[38;5;21mredexIndex\u001B[39m(\u001B[38;5;28mself\u001B[39m, term: Term, initIndex\u001B[38;5;241m=\u001B[39m\u001B[38;5;241m0\u001B[39m) \u001B[38;5;241m-\u001B[39m\u001B[38;5;241m>\u001B[39m \u001B[38;5;28mint\u001B[39m:\n\u001B[1;32m---> 54\u001B[0m     \u001B[38;5;28;01mif\u001B[39;00m term\u001B[38;5;241m.\u001B[39misAtom \u001B[38;5;129;01mor\u001B[39;00m \u001B[38;5;28mlen\u001B[39m(\u001B[43mterm\u001B[49m\u001B[38;5;241;43m.\u001B[39;49m\u001B[43mredexes\u001B[49m) \u001B[38;5;241m==\u001B[39m \u001B[38;5;241m0\u001B[39m:\n\u001B[0;32m     55\u001B[0m         \u001B[38;5;167;01mValueError\u001B[39;00m(\u001B[38;5;124m\"\u001B[39m\u001B[38;5;124mthe term does not contain a redex\u001B[39m\u001B[38;5;124m\"\u001B[39m)\n\u001B[0;32m     56\u001B[0m     \u001B[38;5;28;01melif\u001B[39;00m term\u001B[38;5;241m.\u001B[39misApplication:\n",
      "File \u001B[1;32mD:\\documents\\python_projects\\pure-calculus\\src\\tests_5\\..\\calculus\\term.py:70\u001B[0m, in \u001B[0;36mTerm.redexes\u001B[1;34m(self)\u001B[0m\n\u001B[0;32m     68\u001B[0m \u001B[38;5;66;03m# self is Application\u001B[39;00m\n\u001B[0;32m     69\u001B[0m temp \u001B[38;5;241m=\u001B[39m [\u001B[38;5;28mself\u001B[39m] \u001B[38;5;28;01mif\u001B[39;00m \u001B[38;5;28mself\u001B[39m\u001B[38;5;241m.\u001B[39misBetaRedex \u001B[38;5;28;01melse\u001B[39;00m []\n\u001B[1;32m---> 70\u001B[0m temp \u001B[38;5;241m+\u001B[39m\u001B[38;5;241m=\u001B[39m \u001B[38;5;28;43mself\u001B[39;49m\u001B[38;5;241;43m.\u001B[39;49m\u001B[43m_sub\u001B[49m\u001B[38;5;241;43m.\u001B[39;49m\u001B[43mredexes\u001B[49m \u001B[38;5;241m+\u001B[39m \u001B[38;5;28mself\u001B[39m\u001B[38;5;241m.\u001B[39m_obj\u001B[38;5;241m.\u001B[39mredexes\n\u001B[0;32m     71\u001B[0m \u001B[38;5;28;01mreturn\u001B[39;00m temp\n",
      "File \u001B[1;32mD:\\documents\\python_projects\\pure-calculus\\src\\tests_5\\..\\calculus\\term.py:67\u001B[0m, in \u001B[0;36mTerm.redexes\u001B[1;34m(self)\u001B[0m\n\u001B[0;32m     65\u001B[0m     \u001B[38;5;28;01mreturn\u001B[39;00m []\n\u001B[0;32m     66\u001B[0m \u001B[38;5;28;01mif\u001B[39;00m \u001B[38;5;28mself\u001B[39m\u001B[38;5;241m.\u001B[39misAbstraction:\n\u001B[1;32m---> 67\u001B[0m     \u001B[38;5;28;01mreturn\u001B[39;00m \u001B[38;5;28;43mself\u001B[39;49m\u001B[38;5;241;43m.\u001B[39;49m\u001B[43m_body\u001B[49m\u001B[38;5;241;43m.\u001B[39;49m\u001B[43mredexes\u001B[49m\n\u001B[0;32m     68\u001B[0m \u001B[38;5;66;03m# self is Application\u001B[39;00m\n\u001B[0;32m     69\u001B[0m temp \u001B[38;5;241m=\u001B[39m [\u001B[38;5;28mself\u001B[39m] \u001B[38;5;28;01mif\u001B[39;00m \u001B[38;5;28mself\u001B[39m\u001B[38;5;241m.\u001B[39misBetaRedex \u001B[38;5;28;01melse\u001B[39;00m []\n",
      "File \u001B[1;32mD:\\documents\\python_projects\\pure-calculus\\src\\tests_5\\..\\calculus\\term.py:67\u001B[0m, in \u001B[0;36mTerm.redexes\u001B[1;34m(self)\u001B[0m\n\u001B[0;32m     65\u001B[0m     \u001B[38;5;28;01mreturn\u001B[39;00m []\n\u001B[0;32m     66\u001B[0m \u001B[38;5;28;01mif\u001B[39;00m \u001B[38;5;28mself\u001B[39m\u001B[38;5;241m.\u001B[39misAbstraction:\n\u001B[1;32m---> 67\u001B[0m     \u001B[38;5;28;01mreturn\u001B[39;00m \u001B[38;5;28;43mself\u001B[39;49m\u001B[38;5;241;43m.\u001B[39;49m\u001B[43m_body\u001B[49m\u001B[38;5;241;43m.\u001B[39;49m\u001B[43mredexes\u001B[49m\n\u001B[0;32m     68\u001B[0m \u001B[38;5;66;03m# self is Application\u001B[39;00m\n\u001B[0;32m     69\u001B[0m temp \u001B[38;5;241m=\u001B[39m [\u001B[38;5;28mself\u001B[39m] \u001B[38;5;28;01mif\u001B[39;00m \u001B[38;5;28mself\u001B[39m\u001B[38;5;241m.\u001B[39misBetaRedex \u001B[38;5;28;01melse\u001B[39;00m []\n",
      "    \u001B[1;31m[... skipping similar frames: Term.redexes at line 67 (1 times)]\u001B[0m\n",
      "File \u001B[1;32mD:\\documents\\python_projects\\pure-calculus\\src\\tests_5\\..\\calculus\\term.py:70\u001B[0m, in \u001B[0;36mTerm.redexes\u001B[1;34m(self)\u001B[0m\n\u001B[0;32m     68\u001B[0m \u001B[38;5;66;03m# self is Application\u001B[39;00m\n\u001B[0;32m     69\u001B[0m temp \u001B[38;5;241m=\u001B[39m [\u001B[38;5;28mself\u001B[39m] \u001B[38;5;28;01mif\u001B[39;00m \u001B[38;5;28mself\u001B[39m\u001B[38;5;241m.\u001B[39misBetaRedex \u001B[38;5;28;01melse\u001B[39;00m []\n\u001B[1;32m---> 70\u001B[0m temp \u001B[38;5;241m+\u001B[39m\u001B[38;5;241m=\u001B[39m \u001B[38;5;28;43mself\u001B[39;49m\u001B[38;5;241;43m.\u001B[39;49m\u001B[43m_sub\u001B[49m\u001B[38;5;241;43m.\u001B[39;49m\u001B[43mredexes\u001B[49m \u001B[38;5;241m+\u001B[39m \u001B[38;5;28mself\u001B[39m\u001B[38;5;241m.\u001B[39m_obj\u001B[38;5;241m.\u001B[39mredexes\n\u001B[0;32m     71\u001B[0m \u001B[38;5;28;01mreturn\u001B[39;00m temp\n",
      "    \u001B[1;31m[... skipping similar frames: Term.redexes at line 70 (25 times), Term.redexes at line 67 (10 times)]\u001B[0m\n",
      "File \u001B[1;32mD:\\documents\\python_projects\\pure-calculus\\src\\tests_5\\..\\calculus\\term.py:67\u001B[0m, in \u001B[0;36mTerm.redexes\u001B[1;34m(self)\u001B[0m\n\u001B[0;32m     65\u001B[0m     \u001B[38;5;28;01mreturn\u001B[39;00m []\n\u001B[0;32m     66\u001B[0m \u001B[38;5;28;01mif\u001B[39;00m \u001B[38;5;28mself\u001B[39m\u001B[38;5;241m.\u001B[39misAbstraction:\n\u001B[1;32m---> 67\u001B[0m     \u001B[38;5;28;01mreturn\u001B[39;00m \u001B[38;5;28;43mself\u001B[39;49m\u001B[38;5;241;43m.\u001B[39;49m\u001B[43m_body\u001B[49m\u001B[38;5;241;43m.\u001B[39;49m\u001B[43mredexes\u001B[49m\n\u001B[0;32m     68\u001B[0m \u001B[38;5;66;03m# self is Application\u001B[39;00m\n\u001B[0;32m     69\u001B[0m temp \u001B[38;5;241m=\u001B[39m [\u001B[38;5;28mself\u001B[39m] \u001B[38;5;28;01mif\u001B[39;00m \u001B[38;5;28mself\u001B[39m\u001B[38;5;241m.\u001B[39misBetaRedex \u001B[38;5;28;01melse\u001B[39;00m []\n",
      "    \u001B[1;31m[... skipping similar frames: Term.redexes at line 70 (3 times)]\u001B[0m\n",
      "File \u001B[1;32mD:\\documents\\python_projects\\pure-calculus\\src\\tests_5\\..\\calculus\\term.py:70\u001B[0m, in \u001B[0;36mTerm.redexes\u001B[1;34m(self)\u001B[0m\n\u001B[0;32m     68\u001B[0m \u001B[38;5;66;03m# self is Application\u001B[39;00m\n\u001B[0;32m     69\u001B[0m temp \u001B[38;5;241m=\u001B[39m [\u001B[38;5;28mself\u001B[39m] \u001B[38;5;28;01mif\u001B[39;00m \u001B[38;5;28mself\u001B[39m\u001B[38;5;241m.\u001B[39misBetaRedex \u001B[38;5;28;01melse\u001B[39;00m []\n\u001B[1;32m---> 70\u001B[0m temp \u001B[38;5;241m+\u001B[39m\u001B[38;5;241m=\u001B[39m \u001B[38;5;28mself\u001B[39m\u001B[38;5;241m.\u001B[39m_sub\u001B[38;5;241m.\u001B[39mredexes \u001B[38;5;241m+\u001B[39m \u001B[38;5;28;43mself\u001B[39;49m\u001B[38;5;241;43m.\u001B[39;49m\u001B[43m_obj\u001B[49m\u001B[38;5;241;43m.\u001B[39;49m\u001B[43mredexes\u001B[49m\n\u001B[0;32m     71\u001B[0m \u001B[38;5;28;01mreturn\u001B[39;00m temp\n",
      "File \u001B[1;32mD:\\documents\\python_projects\\pure-calculus\\src\\tests_5\\..\\calculus\\term.py:64\u001B[0m, in \u001B[0;36mTerm.redexes\u001B[1;34m(self)\u001B[0m\n\u001B[0;32m     61\u001B[0m \u001B[38;5;129m@property\u001B[39m\n\u001B[0;32m     62\u001B[0m \u001B[38;5;28;01mdef\u001B[39;00m \u001B[38;5;21mredexes\u001B[39m(\u001B[38;5;28mself\u001B[39m):\n\u001B[0;32m     63\u001B[0m     \u001B[38;5;124;03m\"\"\"determiness all beta-redexes in the term\"\"\"\u001B[39;00m\n\u001B[1;32m---> 64\u001B[0m     \u001B[38;5;28;01mif\u001B[39;00m \u001B[38;5;28;43mself\u001B[39;49m\u001B[38;5;241;43m.\u001B[39;49m\u001B[43misAtom\u001B[49m:\n\u001B[0;32m     65\u001B[0m         \u001B[38;5;28;01mreturn\u001B[39;00m []\n\u001B[0;32m     66\u001B[0m     \u001B[38;5;28;01mif\u001B[39;00m \u001B[38;5;28mself\u001B[39m\u001B[38;5;241m.\u001B[39misAbstraction:\n",
      "\u001B[1;31mKeyboardInterrupt\u001B[0m: "
     ]
    }
   ],
   "source": [
    "print(\"\\n\\nGCD N3 N1 == 1\")\n",
    "term = multi_app_term(gcd_term(), n_term(3), n_term(1))\n",
    "norm_res = term.normalize_no_lim(strategy=RightmostInnermostStrategy())\n",
    "print(norm_res[0])\n",
    "print(norm_res[1])"
   ],
   "metadata": {
    "collapsed": false
   }
  },
  {
   "cell_type": "code",
   "execution_count": 7,
   "outputs": [
    {
     "name": "stdout",
     "output_type": "stream",
     "text": [
      "\n",
      "\n",
      "GCD N3 N1 == 1\n"
     ]
    },
    {
     "ename": "KeyboardInterrupt",
     "evalue": "",
     "output_type": "error",
     "traceback": [
      "\u001B[1;31m---------------------------------------------------------------------------\u001B[0m",
      "\u001B[1;31mKeyboardInterrupt\u001B[0m                         Traceback (most recent call last)",
      "Cell \u001B[1;32mIn[7], line 3\u001B[0m\n\u001B[0;32m      1\u001B[0m \u001B[38;5;28mprint\u001B[39m(\u001B[38;5;124m\"\u001B[39m\u001B[38;5;130;01m\\n\u001B[39;00m\u001B[38;5;130;01m\\n\u001B[39;00m\u001B[38;5;124mGCD N3 N1 == 1\u001B[39m\u001B[38;5;124m\"\u001B[39m)\n\u001B[0;32m      2\u001B[0m term \u001B[38;5;241m=\u001B[39m multi_app_term(gcd_term(), n_term(\u001B[38;5;241m3\u001B[39m), n_term(\u001B[38;5;241m1\u001B[39m))\n\u001B[1;32m----> 3\u001B[0m norm_res \u001B[38;5;241m=\u001B[39m \u001B[43mterm\u001B[49m\u001B[38;5;241;43m.\u001B[39;49m\u001B[43mnormalize_no_lim\u001B[49m\u001B[43m(\u001B[49m\u001B[43mstrategy\u001B[49m\u001B[38;5;241;43m=\u001B[39;49m\u001B[43mRandomStrategy\u001B[49m\u001B[43m(\u001B[49m\u001B[43m)\u001B[49m\u001B[43m)\u001B[49m\n\u001B[0;32m      4\u001B[0m \u001B[38;5;28mprint\u001B[39m(norm_res[\u001B[38;5;241m0\u001B[39m])\n\u001B[0;32m      5\u001B[0m \u001B[38;5;28mprint\u001B[39m(norm_res[\u001B[38;5;241m1\u001B[39m])\n",
      "File \u001B[1;32mD:\\documents\\python_projects\\pure-calculus\\src\\tests_5\\..\\calculus\\term.py:137\u001B[0m, in \u001B[0;36mTerm.normalize_no_lim\u001B[1;34m(self, strategy)\u001B[0m\n\u001B[0;32m    135\u001B[0m count \u001B[38;5;241m=\u001B[39m \u001B[38;5;241m0\u001B[39m\n\u001B[0;32m    136\u001B[0m \u001B[38;5;28;01mwhile\u001B[39;00m term\u001B[38;5;241m.\u001B[39mredexes \u001B[38;5;241m!=\u001B[39m []:\n\u001B[1;32m--> 137\u001B[0m     term \u001B[38;5;241m=\u001B[39m \u001B[43mterm\u001B[49m\u001B[38;5;241;43m.\u001B[39;49m\u001B[43m_betaConversion\u001B[49m\u001B[43m(\u001B[49m\u001B[43mstrategy\u001B[49m\u001B[43m)\u001B[49m\n\u001B[0;32m    138\u001B[0m     count \u001B[38;5;241m+\u001B[39m\u001B[38;5;241m=\u001B[39m \u001B[38;5;241m1\u001B[39m\n\u001B[0;32m    139\u001B[0m \u001B[38;5;28;01mreturn\u001B[39;00m term, count\n",
      "File \u001B[1;32mD:\\documents\\python_projects\\pure-calculus\\src\\tests_5\\..\\calculus\\term.py:168\u001B[0m, in \u001B[0;36mTerm._betaConversion\u001B[1;34m(self, strategy)\u001B[0m\n\u001B[0;32m    163\u001B[0m \u001B[38;5;28;01mdef\u001B[39;00m \u001B[38;5;21m_betaConversion\u001B[39m(\u001B[38;5;28mself\u001B[39m, strategy):\n\u001B[0;32m    164\u001B[0m     \u001B[38;5;124;03m\"\"\"\u001B[39;00m\n\u001B[0;32m    165\u001B[0m \u001B[38;5;124;03m    :param strategy: OneStepStrategy\u001B[39;00m\n\u001B[0;32m    166\u001B[0m \u001B[38;5;124;03m    :return term with redex eliminated using the given strategy\u001B[39;00m\n\u001B[0;32m    167\u001B[0m \u001B[38;5;124;03m    \"\"\"\u001B[39;00m\n\u001B[1;32m--> 168\u001B[0m     index \u001B[38;5;241m=\u001B[39m \u001B[43mstrategy\u001B[49m\u001B[38;5;241;43m.\u001B[39;49m\u001B[43mredexIndex\u001B[49m\u001B[43m(\u001B[49m\u001B[38;5;28;43mself\u001B[39;49m\u001B[43m)\u001B[49m\n\u001B[0;32m    169\u001B[0m     subterm \u001B[38;5;241m=\u001B[39m \u001B[38;5;28mself\u001B[39m\u001B[38;5;241m.\u001B[39msubterm(index)\n\u001B[0;32m    170\u001B[0m     reducedTerm \u001B[38;5;241m=\u001B[39m subterm\u001B[38;5;241m.\u001B[39m_removeOuterRedex()\n",
      "File \u001B[1;32mD:\\documents\\python_projects\\pure-calculus\\src\\tests_5\\..\\calculus\\strategy.py:96\u001B[0m, in \u001B[0;36mRandomStrategy.redexIndex\u001B[1;34m(self, term, initIndex)\u001B[0m\n\u001B[0;32m     94\u001B[0m     \u001B[38;5;28;01mreturn\u001B[39;00m initIndex \u001B[38;5;241m+\u001B[39m \u001B[38;5;241m1\u001B[39m\n\u001B[0;32m     95\u001B[0m \u001B[38;5;28;01melif\u001B[39;00m \u001B[38;5;28mlen\u001B[39m(term\u001B[38;5;241m.\u001B[39m_sub\u001B[38;5;241m.\u001B[39mredexes) \u001B[38;5;241m>\u001B[39m\u001B[38;5;241m=\u001B[39m index \u001B[38;5;129;01mand\u001B[39;00m \u001B[38;5;28mlen\u001B[39m(term\u001B[38;5;241m.\u001B[39m_sub\u001B[38;5;241m.\u001B[39mredexes) \u001B[38;5;241m!=\u001B[39m \u001B[38;5;241m0\u001B[39m:\n\u001B[1;32m---> 96\u001B[0m     \u001B[38;5;28;01mreturn\u001B[39;00m \u001B[38;5;28;43mself\u001B[39;49m\u001B[38;5;241;43m.\u001B[39;49m\u001B[43mredexIndex\u001B[49m\u001B[43m(\u001B[49m\u001B[43mterm\u001B[49m\u001B[38;5;241;43m.\u001B[39;49m\u001B[43m_sub\u001B[49m\u001B[43m,\u001B[49m\u001B[43m \u001B[49m\u001B[43minitIndex\u001B[49m\u001B[43m \u001B[49m\u001B[38;5;241;43m+\u001B[39;49m\u001B[43m \u001B[49m\u001B[38;5;241;43m1\u001B[39;49m\u001B[43m)\u001B[49m\n\u001B[0;32m     97\u001B[0m \u001B[38;5;28;01melse\u001B[39;00m:\n\u001B[0;32m     98\u001B[0m     \u001B[38;5;28;01mreturn\u001B[39;00m \u001B[38;5;28mself\u001B[39m\u001B[38;5;241m.\u001B[39mredexIndex(\n\u001B[0;32m     99\u001B[0m         term\u001B[38;5;241m.\u001B[39m_obj, initIndex \u001B[38;5;241m+\u001B[39m term\u001B[38;5;241m.\u001B[39m_sub\u001B[38;5;241m.\u001B[39mverticesNumber \u001B[38;5;241m+\u001B[39m \u001B[38;5;241m1\u001B[39m\n\u001B[0;32m    100\u001B[0m     )\n",
      "File \u001B[1;32mD:\\documents\\python_projects\\pure-calculus\\src\\tests_5\\..\\calculus\\strategy.py:102\u001B[0m, in \u001B[0;36mRandomStrategy.redexIndex\u001B[1;34m(self, term, initIndex)\u001B[0m\n\u001B[0;32m     98\u001B[0m         \u001B[38;5;28;01mreturn\u001B[39;00m \u001B[38;5;28mself\u001B[39m\u001B[38;5;241m.\u001B[39mredexIndex(\n\u001B[0;32m     99\u001B[0m             term\u001B[38;5;241m.\u001B[39m_obj, initIndex \u001B[38;5;241m+\u001B[39m term\u001B[38;5;241m.\u001B[39m_sub\u001B[38;5;241m.\u001B[39mverticesNumber \u001B[38;5;241m+\u001B[39m \u001B[38;5;241m1\u001B[39m\n\u001B[0;32m    100\u001B[0m         )\n\u001B[0;32m    101\u001B[0m \u001B[38;5;28;01melse\u001B[39;00m:  \u001B[38;5;66;03m# self is Abstraction\u001B[39;00m\n\u001B[1;32m--> 102\u001B[0m     \u001B[38;5;28;01mreturn\u001B[39;00m \u001B[38;5;28;43mself\u001B[39;49m\u001B[38;5;241;43m.\u001B[39;49m\u001B[43mredexIndex\u001B[49m\u001B[43m(\u001B[49m\u001B[43mterm\u001B[49m\u001B[38;5;241;43m.\u001B[39;49m\u001B[43m_body\u001B[49m\u001B[43m,\u001B[49m\u001B[43m \u001B[49m\u001B[43minitIndex\u001B[49m\u001B[43m \u001B[49m\u001B[38;5;241;43m+\u001B[39;49m\u001B[43m \u001B[49m\u001B[38;5;241;43m1\u001B[39;49m\u001B[43m)\u001B[49m\n",
      "File \u001B[1;32mD:\\documents\\python_projects\\pure-calculus\\src\\tests_5\\..\\calculus\\strategy.py:102\u001B[0m, in \u001B[0;36mRandomStrategy.redexIndex\u001B[1;34m(self, term, initIndex)\u001B[0m\n\u001B[0;32m     98\u001B[0m         \u001B[38;5;28;01mreturn\u001B[39;00m \u001B[38;5;28mself\u001B[39m\u001B[38;5;241m.\u001B[39mredexIndex(\n\u001B[0;32m     99\u001B[0m             term\u001B[38;5;241m.\u001B[39m_obj, initIndex \u001B[38;5;241m+\u001B[39m term\u001B[38;5;241m.\u001B[39m_sub\u001B[38;5;241m.\u001B[39mverticesNumber \u001B[38;5;241m+\u001B[39m \u001B[38;5;241m1\u001B[39m\n\u001B[0;32m    100\u001B[0m         )\n\u001B[0;32m    101\u001B[0m \u001B[38;5;28;01melse\u001B[39;00m:  \u001B[38;5;66;03m# self is Abstraction\u001B[39;00m\n\u001B[1;32m--> 102\u001B[0m     \u001B[38;5;28;01mreturn\u001B[39;00m \u001B[38;5;28;43mself\u001B[39;49m\u001B[38;5;241;43m.\u001B[39;49m\u001B[43mredexIndex\u001B[49m\u001B[43m(\u001B[49m\u001B[43mterm\u001B[49m\u001B[38;5;241;43m.\u001B[39;49m\u001B[43m_body\u001B[49m\u001B[43m,\u001B[49m\u001B[43m \u001B[49m\u001B[43minitIndex\u001B[49m\u001B[43m \u001B[49m\u001B[38;5;241;43m+\u001B[39;49m\u001B[43m \u001B[49m\u001B[38;5;241;43m1\u001B[39;49m\u001B[43m)\u001B[49m\n",
      "File \u001B[1;32mD:\\documents\\python_projects\\pure-calculus\\src\\tests_5\\..\\calculus\\strategy.py:95\u001B[0m, in \u001B[0;36mRandomStrategy.redexIndex\u001B[1;34m(self, term, initIndex)\u001B[0m\n\u001B[0;32m     93\u001B[0m \u001B[38;5;28;01mif\u001B[39;00m term\u001B[38;5;241m.\u001B[39misBetaRedex \u001B[38;5;129;01mand\u001B[39;00m index \u001B[38;5;241m==\u001B[39m \u001B[38;5;241m0\u001B[39m:\n\u001B[0;32m     94\u001B[0m     \u001B[38;5;28;01mreturn\u001B[39;00m initIndex \u001B[38;5;241m+\u001B[39m \u001B[38;5;241m1\u001B[39m\n\u001B[1;32m---> 95\u001B[0m \u001B[38;5;28;01melif\u001B[39;00m \u001B[38;5;28mlen\u001B[39m(term\u001B[38;5;241m.\u001B[39m_sub\u001B[38;5;241m.\u001B[39mredexes) \u001B[38;5;241m>\u001B[39m\u001B[38;5;241m=\u001B[39m index \u001B[38;5;129;01mand\u001B[39;00m \u001B[38;5;28mlen\u001B[39m(\u001B[43mterm\u001B[49m\u001B[38;5;241;43m.\u001B[39;49m\u001B[43m_sub\u001B[49m\u001B[38;5;241;43m.\u001B[39;49m\u001B[43mredexes\u001B[49m) \u001B[38;5;241m!=\u001B[39m \u001B[38;5;241m0\u001B[39m:\n\u001B[0;32m     96\u001B[0m     \u001B[38;5;28;01mreturn\u001B[39;00m \u001B[38;5;28mself\u001B[39m\u001B[38;5;241m.\u001B[39mredexIndex(term\u001B[38;5;241m.\u001B[39m_sub, initIndex \u001B[38;5;241m+\u001B[39m \u001B[38;5;241m1\u001B[39m)\n\u001B[0;32m     97\u001B[0m \u001B[38;5;28;01melse\u001B[39;00m:\n",
      "File \u001B[1;32mD:\\documents\\python_projects\\pure-calculus\\src\\tests_5\\..\\calculus\\term.py:70\u001B[0m, in \u001B[0;36mTerm.redexes\u001B[1;34m(self)\u001B[0m\n\u001B[0;32m     68\u001B[0m \u001B[38;5;66;03m# self is Application\u001B[39;00m\n\u001B[0;32m     69\u001B[0m temp \u001B[38;5;241m=\u001B[39m [\u001B[38;5;28mself\u001B[39m] \u001B[38;5;28;01mif\u001B[39;00m \u001B[38;5;28mself\u001B[39m\u001B[38;5;241m.\u001B[39misBetaRedex \u001B[38;5;28;01melse\u001B[39;00m []\n\u001B[1;32m---> 70\u001B[0m temp \u001B[38;5;241m+\u001B[39m\u001B[38;5;241m=\u001B[39m \u001B[38;5;28;43mself\u001B[39;49m\u001B[38;5;241;43m.\u001B[39;49m\u001B[43m_sub\u001B[49m\u001B[38;5;241;43m.\u001B[39;49m\u001B[43mredexes\u001B[49m \u001B[38;5;241m+\u001B[39m \u001B[38;5;28mself\u001B[39m\u001B[38;5;241m.\u001B[39m_obj\u001B[38;5;241m.\u001B[39mredexes\n\u001B[0;32m     71\u001B[0m \u001B[38;5;28;01mreturn\u001B[39;00m temp\n",
      "File \u001B[1;32mD:\\documents\\python_projects\\pure-calculus\\src\\tests_5\\..\\calculus\\term.py:70\u001B[0m, in \u001B[0;36mTerm.redexes\u001B[1;34m(self)\u001B[0m\n\u001B[0;32m     68\u001B[0m \u001B[38;5;66;03m# self is Application\u001B[39;00m\n\u001B[0;32m     69\u001B[0m temp \u001B[38;5;241m=\u001B[39m [\u001B[38;5;28mself\u001B[39m] \u001B[38;5;28;01mif\u001B[39;00m \u001B[38;5;28mself\u001B[39m\u001B[38;5;241m.\u001B[39misBetaRedex \u001B[38;5;28;01melse\u001B[39;00m []\n\u001B[1;32m---> 70\u001B[0m temp \u001B[38;5;241m+\u001B[39m\u001B[38;5;241m=\u001B[39m \u001B[38;5;28mself\u001B[39m\u001B[38;5;241m.\u001B[39m_sub\u001B[38;5;241m.\u001B[39mredexes \u001B[38;5;241m+\u001B[39m \u001B[38;5;28;43mself\u001B[39;49m\u001B[38;5;241;43m.\u001B[39;49m\u001B[43m_obj\u001B[49m\u001B[38;5;241;43m.\u001B[39;49m\u001B[43mredexes\u001B[49m\n\u001B[0;32m     71\u001B[0m \u001B[38;5;28;01mreturn\u001B[39;00m temp\n",
      "    \u001B[1;31m[... skipping similar frames: Term.redexes at line 70 (6 times)]\u001B[0m\n",
      "File \u001B[1;32mD:\\documents\\python_projects\\pure-calculus\\src\\tests_5\\..\\calculus\\term.py:67\u001B[0m, in \u001B[0;36mTerm.redexes\u001B[1;34m(self)\u001B[0m\n\u001B[0;32m     65\u001B[0m     \u001B[38;5;28;01mreturn\u001B[39;00m []\n\u001B[0;32m     66\u001B[0m \u001B[38;5;28;01mif\u001B[39;00m \u001B[38;5;28mself\u001B[39m\u001B[38;5;241m.\u001B[39misAbstraction:\n\u001B[1;32m---> 67\u001B[0m     \u001B[38;5;28;01mreturn\u001B[39;00m \u001B[38;5;28;43mself\u001B[39;49m\u001B[38;5;241;43m.\u001B[39;49m\u001B[43m_body\u001B[49m\u001B[38;5;241;43m.\u001B[39;49m\u001B[43mredexes\u001B[49m\n\u001B[0;32m     68\u001B[0m \u001B[38;5;66;03m# self is Application\u001B[39;00m\n\u001B[0;32m     69\u001B[0m temp \u001B[38;5;241m=\u001B[39m [\u001B[38;5;28mself\u001B[39m] \u001B[38;5;28;01mif\u001B[39;00m \u001B[38;5;28mself\u001B[39m\u001B[38;5;241m.\u001B[39misBetaRedex \u001B[38;5;28;01melse\u001B[39;00m []\n",
      "File \u001B[1;32mD:\\documents\\python_projects\\pure-calculus\\src\\tests_5\\..\\calculus\\term.py:67\u001B[0m, in \u001B[0;36mTerm.redexes\u001B[1;34m(self)\u001B[0m\n\u001B[0;32m     65\u001B[0m     \u001B[38;5;28;01mreturn\u001B[39;00m []\n\u001B[0;32m     66\u001B[0m \u001B[38;5;28;01mif\u001B[39;00m \u001B[38;5;28mself\u001B[39m\u001B[38;5;241m.\u001B[39misAbstraction:\n\u001B[1;32m---> 67\u001B[0m     \u001B[38;5;28;01mreturn\u001B[39;00m \u001B[38;5;28;43mself\u001B[39;49m\u001B[38;5;241;43m.\u001B[39;49m\u001B[43m_body\u001B[49m\u001B[38;5;241;43m.\u001B[39;49m\u001B[43mredexes\u001B[49m\n\u001B[0;32m     68\u001B[0m \u001B[38;5;66;03m# self is Application\u001B[39;00m\n\u001B[0;32m     69\u001B[0m temp \u001B[38;5;241m=\u001B[39m [\u001B[38;5;28mself\u001B[39m] \u001B[38;5;28;01mif\u001B[39;00m \u001B[38;5;28mself\u001B[39m\u001B[38;5;241m.\u001B[39misBetaRedex \u001B[38;5;28;01melse\u001B[39;00m []\n",
      "    \u001B[1;31m[... skipping similar frames: Term.redexes at line 70 (26 times), Term.redexes at line 67 (13 times)]\u001B[0m\n",
      "File \u001B[1;32mD:\\documents\\python_projects\\pure-calculus\\src\\tests_5\\..\\calculus\\term.py:70\u001B[0m, in \u001B[0;36mTerm.redexes\u001B[1;34m(self)\u001B[0m\n\u001B[0;32m     68\u001B[0m \u001B[38;5;66;03m# self is Application\u001B[39;00m\n\u001B[0;32m     69\u001B[0m temp \u001B[38;5;241m=\u001B[39m [\u001B[38;5;28mself\u001B[39m] \u001B[38;5;28;01mif\u001B[39;00m \u001B[38;5;28mself\u001B[39m\u001B[38;5;241m.\u001B[39misBetaRedex \u001B[38;5;28;01melse\u001B[39;00m []\n\u001B[1;32m---> 70\u001B[0m temp \u001B[38;5;241m+\u001B[39m\u001B[38;5;241m=\u001B[39m \u001B[38;5;28mself\u001B[39m\u001B[38;5;241m.\u001B[39m_sub\u001B[38;5;241m.\u001B[39mredexes \u001B[38;5;241m+\u001B[39m \u001B[38;5;28;43mself\u001B[39;49m\u001B[38;5;241;43m.\u001B[39;49m\u001B[43m_obj\u001B[49m\u001B[38;5;241;43m.\u001B[39;49m\u001B[43mredexes\u001B[49m\n\u001B[0;32m     71\u001B[0m \u001B[38;5;28;01mreturn\u001B[39;00m temp\n",
      "    \u001B[1;31m[... skipping similar frames: Term.redexes at line 67 (1 times)]\u001B[0m\n",
      "File \u001B[1;32mD:\\documents\\python_projects\\pure-calculus\\src\\tests_5\\..\\calculus\\term.py:67\u001B[0m, in \u001B[0;36mTerm.redexes\u001B[1;34m(self)\u001B[0m\n\u001B[0;32m     65\u001B[0m     \u001B[38;5;28;01mreturn\u001B[39;00m []\n\u001B[0;32m     66\u001B[0m \u001B[38;5;28;01mif\u001B[39;00m \u001B[38;5;28mself\u001B[39m\u001B[38;5;241m.\u001B[39misAbstraction:\n\u001B[1;32m---> 67\u001B[0m     \u001B[38;5;28;01mreturn\u001B[39;00m \u001B[38;5;28;43mself\u001B[39;49m\u001B[38;5;241;43m.\u001B[39;49m\u001B[43m_body\u001B[49m\u001B[38;5;241;43m.\u001B[39;49m\u001B[43mredexes\u001B[49m\n\u001B[0;32m     68\u001B[0m \u001B[38;5;66;03m# self is Application\u001B[39;00m\n\u001B[0;32m     69\u001B[0m temp \u001B[38;5;241m=\u001B[39m [\u001B[38;5;28mself\u001B[39m] \u001B[38;5;28;01mif\u001B[39;00m \u001B[38;5;28mself\u001B[39m\u001B[38;5;241m.\u001B[39misBetaRedex \u001B[38;5;28;01melse\u001B[39;00m []\n",
      "File \u001B[1;32mD:\\documents\\python_projects\\pure-calculus\\src\\tests_5\\..\\calculus\\term.py:61\u001B[0m, in \u001B[0;36mTerm.redexes\u001B[1;34m(self)\u001B[0m\n\u001B[0;32m     58\u001B[0m     \u001B[38;5;124;03m\"\"\"checks whether the term is a beta-redex\"\"\"\u001B[39;00m\n\u001B[0;32m     59\u001B[0m     \u001B[38;5;28;01mreturn\u001B[39;00m \u001B[38;5;28mself\u001B[39m\u001B[38;5;241m.\u001B[39misApplication \u001B[38;5;129;01mand\u001B[39;00m \u001B[38;5;28mself\u001B[39m\u001B[38;5;241m.\u001B[39m_sub\u001B[38;5;241m.\u001B[39misAbstraction\n\u001B[1;32m---> 61\u001B[0m \u001B[38;5;129m@property\u001B[39m\n\u001B[0;32m     62\u001B[0m \u001B[38;5;28;01mdef\u001B[39;00m \u001B[38;5;21mredexes\u001B[39m(\u001B[38;5;28mself\u001B[39m):\n\u001B[0;32m     63\u001B[0m     \u001B[38;5;124;03m\"\"\"determiness all beta-redexes in the term\"\"\"\u001B[39;00m\n\u001B[0;32m     64\u001B[0m     \u001B[38;5;28;01mif\u001B[39;00m \u001B[38;5;28mself\u001B[39m\u001B[38;5;241m.\u001B[39misAtom:\n",
      "\u001B[1;31mKeyboardInterrupt\u001B[0m: "
     ]
    }
   ],
   "source": [
    "print(\"\\n\\nGCD N3 N1 == 1\")\n",
    "term = multi_app_term(gcd_term(), n_term(3), n_term(1))\n",
    "norm_res = term.normalize_no_lim(strategy=RandomStrategy())\n",
    "print(norm_res[0])\n",
    "print(norm_res[1])"
   ],
   "metadata": {
    "collapsed": false
   }
  },
  {
   "cell_type": "code",
   "execution_count": 6,
   "outputs": [
    {
     "name": "stdout",
     "output_type": "stream",
     "text": [
      "\n",
      "\n",
      "GCD N13 N12 == 1\n",
      "(fun v[1794] => (fun v[1984] => (v[1794] (v[1794] (v[1794] (v[1794] (v[1794] (v[1794] (v[1794] (v[1794] (v[1794] (v[1794] (v[1794] (v[1794] v[1984]))))))))))))))\n",
      "366\n"
     ]
    }
   ],
   "source": [
    "print(\"\\n\\nGCD N13 N12 == 1\")\n",
    "term = multi_app_term(gcd_term(), n_term(13), n_term(12))\n",
    "norm_res = term.normalize_no_lim(strategy=LeftmostOutermostStrategy())\n",
    "print(norm_res[0])\n",
    "print(norm_res[1])"
   ],
   "metadata": {
    "collapsed": false
   }
  },
  {
   "cell_type": "code",
   "execution_count": 8,
   "outputs": [
    {
     "name": "stdout",
     "output_type": "stream",
     "text": [
      "\n",
      "\n",
      "GCD N3 N2 == 1\n",
      "(fun v[2588] => (fun v[2778] => (v[2588] (v[2588] v[2778]))))\n",
      "96\n"
     ]
    }
   ],
   "source": [
    "print(\"\\n\\nGCD N3 N2 == 1\")\n",
    "term = multi_app_term(gcd_term(), n_term(3), n_term(2))\n",
    "norm_res = term.normalize_no_lim(strategy=LeftmostOutermostStrategy())\n",
    "print(norm_res[0])\n",
    "print(norm_res[1])"
   ],
   "metadata": {
    "collapsed": false
   }
  },
  {
   "cell_type": "code",
   "execution_count": 9,
   "outputs": [
    {
     "name": "stdout",
     "output_type": "stream",
     "text": [
      "\n",
      "\n",
      "GCD N5 N10 == 1\n",
      "(fun v[2985] => (fun v[3175] => (v[2985] (v[2985] (v[2985] (v[2985] (v[2985] (v[2985] (v[2985] (v[2985] (v[2985] (v[2985] v[3175]))))))))))))\n",
      "312\n"
     ]
    }
   ],
   "source": [
    "print(\"\\n\\nGCD N5 N10 == 1\")\n",
    "term = multi_app_term(gcd_term(), n_term(5), n_term(10))\n",
    "norm_res = term.normalize_no_lim(strategy=LeftmostOutermostStrategy())\n",
    "print(norm_res[0])\n",
    "print(norm_res[1])"
   ],
   "metadata": {
    "collapsed": false
   }
  },
  {
   "cell_type": "code",
   "execution_count": 10,
   "outputs": [
    {
     "name": "stdout",
     "output_type": "stream",
     "text": [
      "\n",
      "\n",
      "GCD N100 N15 == 1\n",
      "(fun v[3382] => (fun v[3572] => (v[3382] (v[3382] (v[3382] (v[3382] (v[3382] (v[3382] (v[3382] (v[3382] (v[3382] (v[3382] (v[3382] (v[3382] (v[3382] (v[3382] (v[3382] v[3572])))))))))))))))))\n",
      "447\n"
     ]
    }
   ],
   "source": [
    "print(\"\\n\\nGCD N100 N15 == 1\")\n",
    "term = multi_app_term(gcd_term(), n_term(100), n_term(15))\n",
    "norm_res = term.normalize_no_lim(strategy=LeftmostOutermostStrategy())\n",
    "print(norm_res[0])\n",
    "print(norm_res[1])"
   ],
   "metadata": {
    "collapsed": false
   }
  }
 ],
 "metadata": {
  "kernelspec": {
   "display_name": "Python 3",
   "language": "python",
   "name": "python3"
  },
  "language_info": {
   "codemirror_mode": {
    "name": "ipython",
    "version": 2
   },
   "file_extension": ".py",
   "mimetype": "text/x-python",
   "name": "python",
   "nbconvert_exporter": "python",
   "pygments_lexer": "ipython2",
   "version": "2.7.6"
  }
 },
 "nbformat": 4,
 "nbformat_minor": 0
}
