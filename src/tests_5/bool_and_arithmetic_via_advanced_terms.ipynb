{
 "cells": [
  {
   "cell_type": "markdown",
   "source": [
    "# **Bool and Arithmetics**\n",
    "\n",
    "[The deatailed script](https://www.mathcha.io/editor/Pvvz5UZ1t7ktL6sZJYp19sZnX9vVserJMEKhJvvMx7)"
   ],
   "metadata": {
    "collapsed": false
   }
  },
  {
   "cell_type": "code",
   "execution_count": 1,
   "outputs": [],
   "source": [
    "import sys\n",
    "\n",
    "sys.path.append(\"../\")\n",
    "from calculus.term import *\n",
    "from calculus.strategy import *\n",
    "from calculus.advanced_terms import *"
   ],
   "metadata": {
    "collapsed": false
   }
  },
  {
   "cell_type": "markdown",
   "source": [
    "# TESTING BOOL STUF"
   ],
   "metadata": {
    "collapsed": false
   }
  },
  {
   "cell_type": "code",
   "execution_count": 2,
   "outputs": [
    {
     "name": "stdout",
     "output_type": "stream",
     "text": [
      "\n",
      "\n",
      "NOT TRUE == FALSE\n",
      "(fun v[19] => (fun v[15] => v[15]))\n",
      "6\n"
     ]
    }
   ],
   "source": [
    "print(\"\\n\\nNOT TRUE == FALSE\")\n",
    "term = App(not_term(), true_term())\n",
    "norm_res = term.normalize(strategy=LeftmostOutermostStrategy())\n",
    "print(norm_res[0])\n",
    "print(norm_res[1])"
   ],
   "metadata": {
    "collapsed": false
   }
  },
  {
   "cell_type": "code",
   "execution_count": 3,
   "outputs": [
    {
     "name": "stdout",
     "output_type": "stream",
     "text": [
      "\n",
      "\n",
      "NOT FALSE == TRUE\n",
      "(fun v[39] => v[39])\n",
      "5\n"
     ]
    }
   ],
   "source": [
    "print(\"\\n\\nNOT FALSE == TRUE\")\n",
    "term = App(not_term(), false_term())\n",
    "norm_res = term.normalize(strategy=LeftmostOutermostStrategy())\n",
    "print(norm_res[0])\n",
    "print(norm_res[1])"
   ],
   "metadata": {
    "collapsed": false
   }
  },
  {
   "cell_type": "code",
   "execution_count": null,
   "outputs": [],
   "source": [],
   "metadata": {
    "collapsed": false
   }
  },
  {
   "cell_type": "code",
   "execution_count": null,
   "outputs": [],
   "source": [],
   "metadata": {
    "collapsed": false
   }
  }
 ],
 "metadata": {
  "kernelspec": {
   "display_name": "Python 3",
   "language": "python",
   "name": "python3"
  },
  "language_info": {
   "codemirror_mode": {
    "name": "ipython",
    "version": 2
   },
   "file_extension": ".py",
   "mimetype": "text/x-python",
   "name": "python",
   "nbconvert_exporter": "python",
   "pygments_lexer": "ipython2",
   "version": "2.7.6"
  }
 },
 "nbformat": 4,
 "nbformat_minor": 0
}
