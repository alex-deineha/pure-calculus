{
 "cells": [
  {
   "cell_type": "markdown",
   "source": [
    "Greatest common divisor/highest common factor:\n",
    "    GCD := (λgmn. LEQ m n (g n m) (g m n)) (Y (λgxy. ISZERO y x (g y (MOD x y))))\n",
    "\n",
    "[Details about algorithm](https://jwodder.freeshell.org/lambda.html)"
   ],
   "metadata": {
    "collapsed": false
   }
  },
  {
   "cell_type": "code",
   "execution_count": 1,
   "outputs": [],
   "source": [
    "import time\n",
    "\n",
    "from lambda_calculus import Variable as Var\n",
    "from lambda_calculus import Abstraction as Lambda\n",
    "from lambda_calculus import Application as App\n",
    "\n",
    "from lambda_calculus.visitors.normalisation import BetaNormalisingVisitor\n",
    "\n",
    "from lambda_calculus.terms import logic\n",
    "from lambda_calculus.terms import arithmetic\n",
    "from lambda_calculus.terms import pairs\n",
    "from lambda_calculus.terms import combinators"
   ],
   "metadata": {
    "collapsed": false
   }
  },
  {
   "cell_type": "code",
   "execution_count": 2,
   "outputs": [],
   "source": [
    "def multi_app_term(term_0, term_1, *terms):\n",
    "    res_app_term = App(term_0, term_1)\n",
    "    for term in terms:\n",
    "        res_app_term = App(res_app_term, term)\n",
    "    return res_app_term"
   ],
   "metadata": {
    "collapsed": false
   }
  },
  {
   "cell_type": "markdown",
   "source": [
    "Less than:\n",
    "LT := λab. NOT (LEQ b a)\n",
    "\n",
    "Division — DIV a b evaluates to a pair of two numbers, a idiv b and a mod b:\n",
    "DIV := Y (λgqab. LT a b (PAIR q a) (g (SUCC q) (SUB a b) b) ) 0\n",
    "\n",
    "CDR p — get the cdr of pair p; also called SECOND, TAIL, or REST:\n",
    "SECOND := CDR := λp. p FALSE\n",
    "\n",
    "Modulus:\n",
    "MOD := λab. CDR (DIV a b)"
   ],
   "metadata": {
    "collapsed": false
   }
  },
  {
   "cell_type": "code",
   "execution_count": 3,
   "outputs": [],
   "source": [
    "def leq_term():\n",
    "    m, n = \"mm\", \"nn\"\n",
    "    m_, n_ = Var(m), Var(n)\n",
    "    return Lambda(m, Lambda(n, App(\n",
    "        arithmetic.ISZERO,\n",
    "        App(App(arithmetic.SUBTRACT, m_), n_)\n",
    "    )))\n",
    "\n",
    "\n",
    "def lt_term():\n",
    "    a, b = \"aa\", \"bb\"\n",
    "    a_, b_ = Var(a), Var(b)\n",
    "    return Lambda(a, Lambda(b, App(logic.NOT, multi_app_term(leq_term(), b_, a_))))\n",
    "\n",
    "\n",
    "def div_term():\n",
    "    g, q, a, b = \"ggg\", \"qqq\", \"aaa\", \"bbb\"\n",
    "    g_, q_, a_, b_ = Var(g), Var(q), Var(a), Var(b)\n",
    "\n",
    "    inner_right_term = multi_app_term(g_, App(arithmetic.SUCCESSOR, q_), multi_app_term(arithmetic.SUBTRACT, a_, b_), b_)\n",
    "    inner_lambda_term = Lambda(g, Lambda(q, Lambda(a, Lambda(b, multi_app_term(lt_term(), a_, b_, multi_app_term(pairs.PAIR, q_, a_))))))\n",
    "\n",
    "    return multi_app_term(combinators.Y, inner_lambda_term, inner_right_term, arithmetic.number(0))\n",
    "\n",
    "\n",
    "def mod_term():\n",
    "    a, b = \"aaaa\", \"bbbb\"\n",
    "    a_, b_ = Var(a), Var(b)\n",
    "    return Lambda(a, Lambda(b, App(pairs.SECOND, multi_app_term(div_term(), a_, b_))))"
   ],
   "metadata": {
    "collapsed": false
   }
  },
  {
   "cell_type": "markdown",
   "source": [
    "Greatest common divisor/highest common factor:\n",
    "    GCD := (λgmn. LEQ m n (g n m) (g m n)) (Y (λgxy. ISZERO y x (g y (MOD x y))))"
   ],
   "metadata": {
    "collapsed": false
   }
  },
  {
   "cell_type": "code",
   "execution_count": 4,
   "outputs": [],
   "source": [
    "def gcd_term_v3():\n",
    "    g, m, n, x, y = \"g\", \"m\", \"n\", \"x\", \"y\"\n",
    "    g_, m_, n_, x_, y_ = Var(g), Var(m), Var(n), Var(x), Var(y)\n",
    "\n",
    "    left_inner_term = Lambda(g, Lambda(m, Lambda(n, multi_app_term(\n",
    "        leq_term(), m_, n_,\n",
    "        multi_app_term(g_, n_, m_),\n",
    "        multi_app_term(g_, m_, n_)\n",
    "    ))))\n",
    "\n",
    "    right_inner_term = Lambda(g, Lambda(x, Lambda(y, multi_app_term(\n",
    "        arithmetic.ISZERO, y_, x_,\n",
    "        multi_app_term(g_, y_, multi_app_term(mod_term(), x_, y_))\n",
    "    ))))\n",
    "    right_inner_term = App(combinators.Y, right_inner_term)\n",
    "\n",
    "    return App(left_inner_term, right_inner_term)"
   ],
   "metadata": {
    "collapsed": false
   }
  },
  {
   "cell_type": "code",
   "execution_count": 5,
   "outputs": [],
   "source": [
    "def test_gcd_v3(var_0=0, var_1=0):\n",
    "    start_time = time.time()\n",
    "    term_ = multi_app_term(gcd_term_v3(), arithmetic.number(var_0), arithmetic.number(var_1))\n",
    "    res_term = BetaNormalisingVisitor().skip_intermediate(term_)\n",
    "\n",
    "    print(res_term)\n",
    "    print(f\"time normalization: {time.time() - start_time}s\")"
   ],
   "metadata": {
    "collapsed": false
   }
  },
  {
   "cell_type": "code",
   "execution_count": 6,
   "outputs": [
    {
     "name": "stdout",
     "output_type": "stream",
     "text": [
      "(λf.(λx.x))\n",
      "time normalization: 0.0010006427764892578s\n"
     ]
    }
   ],
   "source": [
    "test_gcd_v3(0, 0)"
   ],
   "metadata": {
    "collapsed": false
   }
  },
  {
   "cell_type": "code",
   "execution_count": 7,
   "outputs": [
    {
     "name": "stdout",
     "output_type": "stream",
     "text": [
      "(λf.(λx.(f x)))\n",
      "time normalization: 0.003000020980834961s\n"
     ]
    }
   ],
   "source": [
    "test_gcd_v3(1, 0)"
   ],
   "metadata": {
    "collapsed": false
   }
  },
  {
   "cell_type": "code",
   "execution_count": 8,
   "outputs": [
    {
     "name": "stdout",
     "output_type": "stream",
     "text": [
      "(λf.(λx.(f x)))\n",
      "time normalization: 0.0020003318786621094s\n"
     ]
    }
   ],
   "source": [
    "test_gcd_v3(0, 1)"
   ],
   "metadata": {
    "collapsed": false
   }
  },
  {
   "cell_type": "code",
   "execution_count": 9,
   "outputs": [
    {
     "name": "stdout",
     "output_type": "stream",
     "text": [
      "(λf.(λx.(f x)))\n",
      "time normalization: 0.004001140594482422s\n"
     ]
    }
   ],
   "source": [
    "test_gcd_v3(1, 1)"
   ],
   "metadata": {
    "collapsed": false
   }
  },
  {
   "cell_type": "code",
   "execution_count": 10,
   "outputs": [
    {
     "name": "stdout",
     "output_type": "stream",
     "text": [
      "(λf.(λx.(f (f x))))\n",
      "time normalization: 0.0050008296966552734s\n"
     ]
    }
   ],
   "source": [
    "test_gcd_v3(2, 2)"
   ],
   "metadata": {
    "collapsed": false
   }
  },
  {
   "cell_type": "code",
   "execution_count": 11,
   "outputs": [
    {
     "name": "stdout",
     "output_type": "stream",
     "text": [
      "(λf.(λx.(f (f x))))\n",
      "time normalization: 0.004000186920166016s\n"
     ]
    }
   ],
   "source": [
    "test_gcd_v3(4, 2)"
   ],
   "metadata": {
    "collapsed": false
   }
  },
  {
   "cell_type": "code",
   "execution_count": 12,
   "outputs": [
    {
     "name": "stdout",
     "output_type": "stream",
     "text": [
      "(λf.(λx.(f (f x))))\n",
      "time normalization: 0.00400090217590332s\n"
     ]
    }
   ],
   "source": [
    "test_gcd_v3(2, 4)"
   ],
   "metadata": {
    "collapsed": false
   }
  },
  {
   "cell_type": "code",
   "execution_count": 13,
   "outputs": [
    {
     "name": "stdout",
     "output_type": "stream",
     "text": [
      "(λf.(λx.(f (f (f x)))))\n",
      "time normalization: 0.0040013790130615234s\n"
     ]
    }
   ],
   "source": [
    "test_gcd_v3(6, 3)"
   ],
   "metadata": {
    "collapsed": false
   }
  },
  {
   "cell_type": "code",
   "execution_count": 14,
   "outputs": [
    {
     "name": "stdout",
     "output_type": "stream",
     "text": [
      "(λf.(λx.(f (f (f x)))))\n",
      "time normalization: 0.004000663757324219s\n"
     ]
    }
   ],
   "source": [
    "test_gcd_v3(3, 6)"
   ],
   "metadata": {
    "collapsed": false
   }
  },
  {
   "cell_type": "code",
   "execution_count": 15,
   "outputs": [
    {
     "name": "stdout",
     "output_type": "stream",
     "text": [
      "(λf.(λx.(f (f (f (f (f (f (f (f (f (f x))))))))))))\n",
      "time normalization: 0.003000497817993164s\n"
     ]
    }
   ],
   "source": [
    "test_gcd_v3(10, 0)"
   ],
   "metadata": {
    "collapsed": false
   }
  },
  {
   "cell_type": "code",
   "execution_count": 16,
   "outputs": [
    {
     "name": "stdout",
     "output_type": "stream",
     "text": [
      "(λf.(λx.(f (f (f (f (f (f (f (f (f (f x))))))))))))\n",
      "time normalization: 0.0030002593994140625s\n"
     ]
    }
   ],
   "source": [
    "test_gcd_v3(0, 10)"
   ],
   "metadata": {
    "collapsed": false
   }
  },
  {
   "cell_type": "code",
   "execution_count": 17,
   "outputs": [
    {
     "name": "stdout",
     "output_type": "stream",
     "text": [
      "(λf.(λx.(f (f (f (f (f (f (f (f (f (f x))))))))))))\n",
      "time normalization: 0.0710148811340332s\n"
     ]
    }
   ],
   "source": [
    "test_gcd_v3(100, 10)"
   ],
   "metadata": {
    "collapsed": false
   }
  },
  {
   "cell_type": "code",
   "execution_count": 18,
   "outputs": [
    {
     "name": "stdout",
     "output_type": "stream",
     "text": [
      "(λf.(λx.(f (f (f (f (f (f (f (f (f (f x))))))))))))\n",
      "time normalization: 0.2540571689605713s\n"
     ]
    }
   ],
   "source": [
    "test_gcd_v3(10, 100)"
   ],
   "metadata": {
    "collapsed": false
   }
  }
 ],
 "metadata": {
  "kernelspec": {
   "display_name": "Python 3",
   "language": "python",
   "name": "python3"
  },
  "language_info": {
   "codemirror_mode": {
    "name": "ipython",
    "version": 2
   },
   "file_extension": ".py",
   "mimetype": "text/x-python",
   "name": "python",
   "nbconvert_exporter": "python",
   "pygments_lexer": "ipython2",
   "version": "2.7.6"
  }
 },
 "nbformat": 4,
 "nbformat_minor": 0
}
