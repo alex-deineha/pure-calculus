{
 "cells": [
  {
   "cell_type": "markdown",
   "source": [
    "# GCD own algorithm by lambda-calculus lib\n",
    "[GCD detailed script](https://www.mathcha.io/editor/dGXnWtP8twWsGPdy2Ycl5ly7xhd9Xy8ptKleZqr)"
   ],
   "metadata": {
    "collapsed": false
   }
  },
  {
   "cell_type": "code",
   "execution_count": 1,
   "outputs": [],
   "source": [
    "import time\n",
    "\n",
    "from lambda_calculus import Variable as Var\n",
    "from lambda_calculus import Abstraction as Lambda\n",
    "from lambda_calculus import Application as App\n",
    "\n",
    "from lambda_calculus.visitors.normalisation import BetaNormalisingVisitor\n",
    "from lambda_calculus.terms import logic\n",
    "from lambda_calculus.terms import arithmetic\n",
    "from lambda_calculus.terms import pairs\n",
    "from lambda_calculus.terms import combinators"
   ],
   "metadata": {
    "collapsed": false
   }
  },
  {
   "cell_type": "code",
   "execution_count": 2,
   "outputs": [],
   "source": [
    "def multi_app_term(term_0, term_1, *terms):\n",
    "    res_app_term = App(term_0, term_1)\n",
    "    for term in terms:\n",
    "        res_app_term = App(res_app_term, term)\n",
    "    return res_app_term"
   ],
   "metadata": {
    "collapsed": false
   }
  },
  {
   "cell_type": "code",
   "execution_count": 3,
   "outputs": [],
   "source": [
    "def leq_term():\n",
    "    m, n = Var(\"mmm\"), Var(\"nnn\")\n",
    "    return Lambda(\"mmm\", Lambda(\"nnn\", App(\n",
    "        arithmetic.ISZERO,\n",
    "        App(App(arithmetic.SUBTRACT, m), n)\n",
    "    )))"
   ],
   "metadata": {
    "collapsed": false
   }
  },
  {
   "cell_type": "code",
   "execution_count": 4,
   "outputs": [],
   "source": [
    "def eq_term():\n",
    "    mm, nn = Var(\"mm\"), Var(\"nn\")\n",
    "    return Lambda(\"mm\", Lambda(\"nn\", multi_app_term(\n",
    "        logic.AND,\n",
    "        multi_app_term(leq_term(), mm, nn),\n",
    "        multi_app_term(leq_term(), nn, mm)\n",
    "    )))"
   ],
   "metadata": {
    "collapsed": false
   }
  },
  {
   "cell_type": "code",
   "execution_count": 5,
   "outputs": [],
   "source": [
    "def gcd_term_v0():\n",
    "    n, m, f = Var(\"n\"), Var(\"m\"), Var(\"f\")\n",
    "\n",
    "    swap_line = multi_app_term(\n",
    "        logic.IF_THEN_ELSE,\n",
    "        multi_app_term(leq_term(), n, m),\n",
    "        multi_app_term(f, m, multi_app_term(arithmetic.SUBTRACT, n, m)),\n",
    "        multi_app_term(f, n, multi_app_term(arithmetic.SUBTRACT, m, n)),\n",
    "    )\n",
    "\n",
    "    eq_nm_line = multi_app_term(logic.IF_THEN_ELSE, multi_app_term(eq_term(), n, m), n, swap_line)\n",
    "    zero_check = multi_app_term(logic.OR, App(arithmetic.ISZERO, n), App(arithmetic.ISZERO, m))\n",
    "\n",
    "    inner_app = multi_app_term(logic.IF_THEN_ELSE, zero_check, arithmetic.number(1), eq_nm_line)\n",
    "    inner_lambda = Lambda(\"f\", Lambda(\"n\", Lambda(\"m\", inner_app)))\n",
    "    return App(combinators.Y, inner_lambda)\n",
    "\n",
    "\n",
    "def test_gcd_v0(var_0=0, var_1=0):\n",
    "    start_time = time.time()\n",
    "    term_ = multi_app_term(gcd_term_v0(), arithmetic.number(var_0), arithmetic.number(var_1))\n",
    "    res_term = BetaNormalisingVisitor().skip_intermediate(term_)\n",
    "\n",
    "    print(res_term)\n",
    "    print(f\"time normalization: {time.time() - start_time}s\")"
   ],
   "metadata": {
    "collapsed": false
   }
  },
  {
   "cell_type": "code",
   "execution_count": 6,
   "outputs": [
    {
     "name": "stdout",
     "output_type": "stream",
     "text": [
      "(λf.(λx.(f x)))\n",
      "time normalization: 0.0009999275207519531s\n"
     ]
    }
   ],
   "source": [
    "test_gcd_v0(0, 0)"
   ],
   "metadata": {
    "collapsed": false
   }
  },
  {
   "cell_type": "code",
   "execution_count": 7,
   "outputs": [
    {
     "name": "stdout",
     "output_type": "stream",
     "text": [
      "(λf.(λx.(f x)))\n",
      "time normalization: 0.0010004043579101562s\n"
     ]
    }
   ],
   "source": [
    "test_gcd_v0(0, 1)"
   ],
   "metadata": {
    "collapsed": false
   }
  },
  {
   "cell_type": "code",
   "execution_count": 8,
   "outputs": [
    {
     "name": "stdout",
     "output_type": "stream",
     "text": [
      "(λf.(λx.(f x)))\n",
      "time normalization: 0.0010004043579101562s\n"
     ]
    }
   ],
   "source": [
    "test_gcd_v0(1, 0)"
   ],
   "metadata": {
    "collapsed": false
   }
  },
  {
   "cell_type": "code",
   "execution_count": 9,
   "outputs": [
    {
     "name": "stdout",
     "output_type": "stream",
     "text": [
      "(λf.(λx.(f x)))\n",
      "time normalization: 0.016004323959350586s\n"
     ]
    }
   ],
   "source": [
    "test_gcd_v0(10, 5)"
   ],
   "metadata": {
    "collapsed": false
   }
  },
  {
   "cell_type": "code",
   "execution_count": 10,
   "outputs": [
    {
     "name": "stdout",
     "output_type": "stream",
     "text": [
      "(λf.(λx.(f x)))\n",
      "time normalization: 0.016003131866455078s\n"
     ]
    }
   ],
   "source": [
    "test_gcd_v0(5, 10)"
   ],
   "metadata": {
    "collapsed": false
   }
  },
  {
   "cell_type": "code",
   "execution_count": null,
   "outputs": [],
   "source": [],
   "metadata": {
    "collapsed": false
   }
  },
  {
   "cell_type": "code",
   "execution_count": null,
   "outputs": [],
   "source": [],
   "metadata": {
    "collapsed": false
   }
  },
  {
   "cell_type": "markdown",
   "source": [
    "# test the v00 realization"
   ],
   "metadata": {
    "collapsed": false
   }
  },
  {
   "cell_type": "code",
   "execution_count": 11,
   "outputs": [],
   "source": [
    "def gcd_term_v00():\n",
    "    n, m, f = \"n\", \"m\", \"f\"\n",
    "    n_, m_, f_ = Var(n), Var(m), Var(f)\n",
    "    sub_m_n = App(App(arithmetic.SUBTRACT, m_), n_)\n",
    "    sub_n_m = App(App(arithmetic.SUBTRACT, n_), m_)\n",
    "    iszero_n = App(arithmetic.ISZERO, n_)\n",
    "    iszero_m = App(arithmetic.ISZERO, m_)\n",
    "    f_n_sub = App(App(f_, n_), sub_m_n)\n",
    "    f_m_sub = App(App(f_, m_), sub_n_m)\n",
    "    le_n_m = App(App(leq_term(), n_), m_)\n",
    "    eq_n_m = App(App(eq_term(), n_), m_)\n",
    "    or_is_zero = App(logic.OR, App(iszero_n, iszero_m))\n",
    "    ite_le_sub_sub = App(App(App(logic.IF_THEN_ELSE, le_n_m), f_n_sub), f_m_sub)\n",
    "    ite_eq_ite = App(App(App(logic.IF_THEN_ELSE, eq_n_m), n_), ite_le_sub_sub)\n",
    "    or_is_ite = App(App(or_is_zero, arithmetic.number(0)), ite_eq_ite)\n",
    "    inner_app = App(logic.IF_THEN_ELSE, or_is_ite)\n",
    "    inner_lambda = Lambda(f, Lambda(n, Lambda(m, inner_app)))\n",
    "    return App(combinators.Y, inner_lambda)\n",
    "\n",
    "\n",
    "def test_gcd_v00(var_0=0, var_1=0):\n",
    "    start_time = time.time()\n",
    "    term_ = multi_app_term(gcd_term_v00(), arithmetic.number(var_0), arithmetic.number(var_1))\n",
    "    res_term = BetaNormalisingVisitor().skip_intermediate(term_)\n",
    "\n",
    "    print(res_term)\n",
    "    print(f\"time normalization: {time.time() - start_time}s\")"
   ],
   "metadata": {
    "collapsed": false
   }
  },
  {
   "cell_type": "code",
   "execution_count": 12,
   "outputs": [
    {
     "name": "stdout",
     "output_type": "stream",
     "text": [
      "(λa.(λb.b))\n",
      "time normalization: 0.0020003318786621094s\n"
     ]
    }
   ],
   "source": [
    "test_gcd_v00(0, 0)"
   ],
   "metadata": {
    "collapsed": false
   }
  },
  {
   "cell_type": "code",
   "execution_count": 13,
   "outputs": [
    {
     "name": "stdout",
     "output_type": "stream",
     "text": [
      "(λa.(λb.(a b)))\n",
      "time normalization: 0.002000570297241211s\n"
     ]
    }
   ],
   "source": [
    "test_gcd_v00(1, 0)"
   ],
   "metadata": {
    "collapsed": false
   }
  },
  {
   "cell_type": "code",
   "execution_count": 14,
   "outputs": [
    {
     "ename": "KeyboardInterrupt",
     "evalue": "",
     "output_type": "error",
     "traceback": [
      "\u001B[1;31m---------------------------------------------------------------------------\u001B[0m",
      "\u001B[1;31mKeyboardInterrupt\u001B[0m                         Traceback (most recent call last)",
      "Cell \u001B[1;32mIn[14], line 1\u001B[0m\n\u001B[1;32m----> 1\u001B[0m \u001B[43mtest_gcd_v00\u001B[49m\u001B[43m(\u001B[49m\u001B[38;5;241;43m0\u001B[39;49m\u001B[43m,\u001B[49m\u001B[43m \u001B[49m\u001B[38;5;241;43m1\u001B[39;49m\u001B[43m)\u001B[49m\n",
      "Cell \u001B[1;32mIn[11], line 24\u001B[0m, in \u001B[0;36mtest_gcd_v00\u001B[1;34m(var_0, var_1)\u001B[0m\n\u001B[0;32m     22\u001B[0m start_time \u001B[38;5;241m=\u001B[39m time\u001B[38;5;241m.\u001B[39mtime()\n\u001B[0;32m     23\u001B[0m term_ \u001B[38;5;241m=\u001B[39m multi_app_term(gcd_term_v00(), arithmetic\u001B[38;5;241m.\u001B[39mnumber(var_0), arithmetic\u001B[38;5;241m.\u001B[39mnumber(var_1))\n\u001B[1;32m---> 24\u001B[0m res_term \u001B[38;5;241m=\u001B[39m \u001B[43mBetaNormalisingVisitor\u001B[49m\u001B[43m(\u001B[49m\u001B[43m)\u001B[49m\u001B[38;5;241;43m.\u001B[39;49m\u001B[43mskip_intermediate\u001B[49m\u001B[43m(\u001B[49m\u001B[43mterm_\u001B[49m\u001B[43m)\u001B[49m\n\u001B[0;32m     26\u001B[0m \u001B[38;5;28mprint\u001B[39m(res_term)\n\u001B[0;32m     27\u001B[0m \u001B[38;5;28mprint\u001B[39m(\u001B[38;5;124mf\u001B[39m\u001B[38;5;124m\"\u001B[39m\u001B[38;5;124mtime normalization: \u001B[39m\u001B[38;5;132;01m{\u001B[39;00mtime\u001B[38;5;241m.\u001B[39mtime()\u001B[38;5;250m \u001B[39m\u001B[38;5;241m-\u001B[39m\u001B[38;5;250m \u001B[39mstart_time\u001B[38;5;132;01m}\u001B[39;00m\u001B[38;5;124ms\u001B[39m\u001B[38;5;124m\"\u001B[39m)\n",
      "File \u001B[1;32mD:\\documents\\python_projects\\pure-calculus\\venv_3_11\\Lib\\site-packages\\lambda_calculus\\visitors\\normalisation.py:54\u001B[0m, in \u001B[0;36mBetaNormalisingVisitor.skip_intermediate\u001B[1;34m(self, term)\u001B[0m\n\u001B[0;32m     47\u001B[0m \u001B[38;5;250m\u001B[39m\u001B[38;5;124;03m\"\"\"\u001B[39;00m\n\u001B[0;32m     48\u001B[0m \u001B[38;5;124;03mCalculate the beta normal form directly.\u001B[39;00m\n\u001B[0;32m     49\u001B[0m \u001B[38;5;124;03m\u001B[39;00m\n\u001B[0;32m     50\u001B[0m \u001B[38;5;124;03m:param term: term which should be transformed into ist beta normal form\u001B[39;00m\n\u001B[0;32m     51\u001B[0m \u001B[38;5;124;03m:return: new term representing the beta normal form if it exists\u001B[39;00m\n\u001B[0;32m     52\u001B[0m \u001B[38;5;124;03m\"\"\"\u001B[39;00m\n\u001B[0;32m     53\u001B[0m result \u001B[38;5;241m=\u001B[39m term\n\u001B[1;32m---> 54\u001B[0m \u001B[38;5;28;01mfor\u001B[39;00m _, intermediate \u001B[38;5;129;01min\u001B[39;00m term\u001B[38;5;241m.\u001B[39maccept(\u001B[38;5;28mself\u001B[39m):\n\u001B[0;32m     55\u001B[0m     result \u001B[38;5;241m=\u001B[39m intermediate\n\u001B[0;32m     56\u001B[0m \u001B[38;5;28;01mreturn\u001B[39;00m result\n",
      "File \u001B[1;32mD:\\documents\\python_projects\\pure-calculus\\venv_3_11\\Lib\\site-packages\\lambda_calculus\\visitors\\normalisation.py:117\u001B[0m, in \u001B[0;36mBetaNormalisingVisitor.visit_application\u001B[1;34m(self, application)\u001B[0m\n\u001B[0;32m    115\u001B[0m \u001B[38;5;28;01mif\u001B[39;00m \u001B[38;5;28misinstance\u001B[39m(transformation, terms\u001B[38;5;241m.\u001B[39mAbstraction):\n\u001B[0;32m    116\u001B[0m     reduced \u001B[38;5;241m=\u001B[39m \u001B[38;5;28;01myield from\u001B[39;00m \u001B[38;5;28mself\u001B[39m\u001B[38;5;241m.\u001B[39mbeta_reducation(transformation, application\u001B[38;5;241m.\u001B[39margument)\n\u001B[1;32m--> 117\u001B[0m     \u001B[38;5;28;01myield from\u001B[39;00m reduced\u001B[38;5;241m.\u001B[39maccept(\u001B[38;5;28mself\u001B[39m)\n\u001B[0;32m    118\u001B[0m     \u001B[38;5;28;01mreturn\u001B[39;00m\n\u001B[0;32m    119\u001B[0m \u001B[38;5;28;01melse\u001B[39;00m:\n",
      "File \u001B[1;32mD:\\documents\\python_projects\\pure-calculus\\venv_3_11\\Lib\\site-packages\\lambda_calculus\\visitors\\normalisation.py:109\u001B[0m, in \u001B[0;36mBetaNormalisingVisitor.visit_application\u001B[1;34m(self, application)\u001B[0m\n\u001B[0;32m    106\u001B[0m \u001B[38;5;28;01mif\u001B[39;00m \u001B[38;5;28misinstance\u001B[39m(application\u001B[38;5;241m.\u001B[39mabstraction, terms\u001B[38;5;241m.\u001B[39mAbstraction):\n\u001B[0;32m    107\u001B[0m     \u001B[38;5;66;03m# normal order dictates we reduce the leftmost outermost redex first\u001B[39;00m\n\u001B[0;32m    108\u001B[0m     reduced \u001B[38;5;241m=\u001B[39m \u001B[38;5;28;01myield from\u001B[39;00m \u001B[38;5;28mself\u001B[39m\u001B[38;5;241m.\u001B[39mbeta_reducation(application\u001B[38;5;241m.\u001B[39mabstraction, application\u001B[38;5;241m.\u001B[39margument)\n\u001B[1;32m--> 109\u001B[0m     \u001B[38;5;28;01myield from\u001B[39;00m reduced\u001B[38;5;241m.\u001B[39maccept(\u001B[38;5;28mself\u001B[39m)\n\u001B[0;32m    110\u001B[0m \u001B[38;5;28;01melse\u001B[39;00m:\n\u001B[0;32m    111\u001B[0m     \u001B[38;5;66;03m# try to reduce the abstraction until this is a redex\u001B[39;00m\n\u001B[0;32m    112\u001B[0m     abstraction \u001B[38;5;241m=\u001B[39m application\u001B[38;5;241m.\u001B[39mabstraction\n",
      "File \u001B[1;32mD:\\documents\\python_projects\\pure-calculus\\venv_3_11\\Lib\\site-packages\\lambda_calculus\\visitors\\normalisation.py:117\u001B[0m, in \u001B[0;36mBetaNormalisingVisitor.visit_application\u001B[1;34m(self, application)\u001B[0m\n\u001B[0;32m    115\u001B[0m \u001B[38;5;28;01mif\u001B[39;00m \u001B[38;5;28misinstance\u001B[39m(transformation, terms\u001B[38;5;241m.\u001B[39mAbstraction):\n\u001B[0;32m    116\u001B[0m     reduced \u001B[38;5;241m=\u001B[39m \u001B[38;5;28;01myield from\u001B[39;00m \u001B[38;5;28mself\u001B[39m\u001B[38;5;241m.\u001B[39mbeta_reducation(transformation, application\u001B[38;5;241m.\u001B[39margument)\n\u001B[1;32m--> 117\u001B[0m     \u001B[38;5;28;01myield from\u001B[39;00m reduced\u001B[38;5;241m.\u001B[39maccept(\u001B[38;5;28mself\u001B[39m)\n\u001B[0;32m    118\u001B[0m     \u001B[38;5;28;01mreturn\u001B[39;00m\n\u001B[0;32m    119\u001B[0m \u001B[38;5;28;01melse\u001B[39;00m:\n",
      "File \u001B[1;32mD:\\documents\\python_projects\\pure-calculus\\venv_3_11\\Lib\\site-packages\\lambda_calculus\\visitors\\normalisation.py:117\u001B[0m, in \u001B[0;36mBetaNormalisingVisitor.visit_application\u001B[1;34m(self, application)\u001B[0m\n\u001B[0;32m    115\u001B[0m \u001B[38;5;28;01mif\u001B[39;00m \u001B[38;5;28misinstance\u001B[39m(transformation, terms\u001B[38;5;241m.\u001B[39mAbstraction):\n\u001B[0;32m    116\u001B[0m     reduced \u001B[38;5;241m=\u001B[39m \u001B[38;5;28;01myield from\u001B[39;00m \u001B[38;5;28mself\u001B[39m\u001B[38;5;241m.\u001B[39mbeta_reducation(transformation, application\u001B[38;5;241m.\u001B[39margument)\n\u001B[1;32m--> 117\u001B[0m     \u001B[38;5;28;01myield from\u001B[39;00m reduced\u001B[38;5;241m.\u001B[39maccept(\u001B[38;5;28mself\u001B[39m)\n\u001B[0;32m    118\u001B[0m     \u001B[38;5;28;01mreturn\u001B[39;00m\n\u001B[0;32m    119\u001B[0m \u001B[38;5;28;01melse\u001B[39;00m:\n",
      "    \u001B[1;31m[... skipping similar frames: BetaNormalisingVisitor.visit_application at line 117 (80 times)]\u001B[0m\n",
      "File \u001B[1;32mD:\\documents\\python_projects\\pure-calculus\\venv_3_11\\Lib\\site-packages\\lambda_calculus\\visitors\\normalisation.py:113\u001B[0m, in \u001B[0;36mBetaNormalisingVisitor.visit_application\u001B[1;34m(self, application)\u001B[0m\n\u001B[0;32m    110\u001B[0m \u001B[38;5;28;01melse\u001B[39;00m:\n\u001B[0;32m    111\u001B[0m     \u001B[38;5;66;03m# try to reduce the abstraction until this is a redex\u001B[39;00m\n\u001B[0;32m    112\u001B[0m     abstraction \u001B[38;5;241m=\u001B[39m application\u001B[38;5;241m.\u001B[39mabstraction\n\u001B[1;32m--> 113\u001B[0m     \u001B[38;5;28;01mfor\u001B[39;00m conversion, transformation \u001B[38;5;129;01min\u001B[39;00m application\u001B[38;5;241m.\u001B[39mabstraction\u001B[38;5;241m.\u001B[39maccept(\u001B[38;5;28mself\u001B[39m):\n\u001B[0;32m    114\u001B[0m         \u001B[38;5;28;01myield\u001B[39;00m (conversion, terms\u001B[38;5;241m.\u001B[39mApplication(transformation, application\u001B[38;5;241m.\u001B[39margument))\n\u001B[0;32m    115\u001B[0m         \u001B[38;5;28;01mif\u001B[39;00m \u001B[38;5;28misinstance\u001B[39m(transformation, terms\u001B[38;5;241m.\u001B[39mAbstraction):\n",
      "File \u001B[1;32mD:\\documents\\python_projects\\pure-calculus\\venv_3_11\\Lib\\site-packages\\lambda_calculus\\visitors\\normalisation.py:113\u001B[0m, in \u001B[0;36mBetaNormalisingVisitor.visit_application\u001B[1;34m(self, application)\u001B[0m\n\u001B[0;32m    110\u001B[0m \u001B[38;5;28;01melse\u001B[39;00m:\n\u001B[0;32m    111\u001B[0m     \u001B[38;5;66;03m# try to reduce the abstraction until this is a redex\u001B[39;00m\n\u001B[0;32m    112\u001B[0m     abstraction \u001B[38;5;241m=\u001B[39m application\u001B[38;5;241m.\u001B[39mabstraction\n\u001B[1;32m--> 113\u001B[0m     \u001B[38;5;28;01mfor\u001B[39;00m conversion, transformation \u001B[38;5;129;01min\u001B[39;00m application\u001B[38;5;241m.\u001B[39mabstraction\u001B[38;5;241m.\u001B[39maccept(\u001B[38;5;28mself\u001B[39m):\n\u001B[0;32m    114\u001B[0m         \u001B[38;5;28;01myield\u001B[39;00m (conversion, terms\u001B[38;5;241m.\u001B[39mApplication(transformation, application\u001B[38;5;241m.\u001B[39margument))\n\u001B[0;32m    115\u001B[0m         \u001B[38;5;28;01mif\u001B[39;00m \u001B[38;5;28misinstance\u001B[39m(transformation, terms\u001B[38;5;241m.\u001B[39mAbstraction):\n",
      "    \u001B[1;31m[... skipping similar frames: BetaNormalisingVisitor.visit_application at line 117 (2 times), BetaNormalisingVisitor.visit_application at line 113 (1 times)]\u001B[0m\n",
      "File \u001B[1;32mD:\\documents\\python_projects\\pure-calculus\\venv_3_11\\Lib\\site-packages\\lambda_calculus\\visitors\\normalisation.py:113\u001B[0m, in \u001B[0;36mBetaNormalisingVisitor.visit_application\u001B[1;34m(self, application)\u001B[0m\n\u001B[0;32m    110\u001B[0m \u001B[38;5;28;01melse\u001B[39;00m:\n\u001B[0;32m    111\u001B[0m     \u001B[38;5;66;03m# try to reduce the abstraction until this is a redex\u001B[39;00m\n\u001B[0;32m    112\u001B[0m     abstraction \u001B[38;5;241m=\u001B[39m application\u001B[38;5;241m.\u001B[39mabstraction\n\u001B[1;32m--> 113\u001B[0m     \u001B[38;5;28;01mfor\u001B[39;00m conversion, transformation \u001B[38;5;129;01min\u001B[39;00m application\u001B[38;5;241m.\u001B[39mabstraction\u001B[38;5;241m.\u001B[39maccept(\u001B[38;5;28mself\u001B[39m):\n\u001B[0;32m    114\u001B[0m         \u001B[38;5;28;01myield\u001B[39;00m (conversion, terms\u001B[38;5;241m.\u001B[39mApplication(transformation, application\u001B[38;5;241m.\u001B[39margument))\n\u001B[0;32m    115\u001B[0m         \u001B[38;5;28;01mif\u001B[39;00m \u001B[38;5;28misinstance\u001B[39m(transformation, terms\u001B[38;5;241m.\u001B[39mAbstraction):\n",
      "    \u001B[1;31m[... skipping similar frames: BetaNormalisingVisitor.visit_application at line 117 (3 times)]\u001B[0m\n",
      "File \u001B[1;32mD:\\documents\\python_projects\\pure-calculus\\venv_3_11\\Lib\\site-packages\\lambda_calculus\\visitors\\normalisation.py:117\u001B[0m, in \u001B[0;36mBetaNormalisingVisitor.visit_application\u001B[1;34m(self, application)\u001B[0m\n\u001B[0;32m    115\u001B[0m \u001B[38;5;28;01mif\u001B[39;00m \u001B[38;5;28misinstance\u001B[39m(transformation, terms\u001B[38;5;241m.\u001B[39mAbstraction):\n\u001B[0;32m    116\u001B[0m     reduced \u001B[38;5;241m=\u001B[39m \u001B[38;5;28;01myield from\u001B[39;00m \u001B[38;5;28mself\u001B[39m\u001B[38;5;241m.\u001B[39mbeta_reducation(transformation, application\u001B[38;5;241m.\u001B[39margument)\n\u001B[1;32m--> 117\u001B[0m     \u001B[38;5;28;01myield from\u001B[39;00m reduced\u001B[38;5;241m.\u001B[39maccept(\u001B[38;5;28mself\u001B[39m)\n\u001B[0;32m    118\u001B[0m     \u001B[38;5;28;01mreturn\u001B[39;00m\n\u001B[0;32m    119\u001B[0m \u001B[38;5;28;01melse\u001B[39;00m:\n",
      "File \u001B[1;32mD:\\documents\\python_projects\\pure-calculus\\venv_3_11\\Lib\\site-packages\\lambda_calculus\\visitors\\normalisation.py:109\u001B[0m, in \u001B[0;36mBetaNormalisingVisitor.visit_application\u001B[1;34m(self, application)\u001B[0m\n\u001B[0;32m    106\u001B[0m \u001B[38;5;28;01mif\u001B[39;00m \u001B[38;5;28misinstance\u001B[39m(application\u001B[38;5;241m.\u001B[39mabstraction, terms\u001B[38;5;241m.\u001B[39mAbstraction):\n\u001B[0;32m    107\u001B[0m     \u001B[38;5;66;03m# normal order dictates we reduce the leftmost outermost redex first\u001B[39;00m\n\u001B[0;32m    108\u001B[0m     reduced \u001B[38;5;241m=\u001B[39m \u001B[38;5;28;01myield from\u001B[39;00m \u001B[38;5;28mself\u001B[39m\u001B[38;5;241m.\u001B[39mbeta_reducation(application\u001B[38;5;241m.\u001B[39mabstraction, application\u001B[38;5;241m.\u001B[39margument)\n\u001B[1;32m--> 109\u001B[0m     \u001B[38;5;28;01myield from\u001B[39;00m reduced\u001B[38;5;241m.\u001B[39maccept(\u001B[38;5;28mself\u001B[39m)\n\u001B[0;32m    110\u001B[0m \u001B[38;5;28;01melse\u001B[39;00m:\n\u001B[0;32m    111\u001B[0m     \u001B[38;5;66;03m# try to reduce the abstraction until this is a redex\u001B[39;00m\n\u001B[0;32m    112\u001B[0m     abstraction \u001B[38;5;241m=\u001B[39m application\u001B[38;5;241m.\u001B[39mabstraction\n",
      "File \u001B[1;32mD:\\documents\\python_projects\\pure-calculus\\venv_3_11\\Lib\\site-packages\\lambda_calculus\\visitors\\normalisation.py:113\u001B[0m, in \u001B[0;36mBetaNormalisingVisitor.visit_application\u001B[1;34m(self, application)\u001B[0m\n\u001B[0;32m    110\u001B[0m \u001B[38;5;28;01melse\u001B[39;00m:\n\u001B[0;32m    111\u001B[0m     \u001B[38;5;66;03m# try to reduce the abstraction until this is a redex\u001B[39;00m\n\u001B[0;32m    112\u001B[0m     abstraction \u001B[38;5;241m=\u001B[39m application\u001B[38;5;241m.\u001B[39mabstraction\n\u001B[1;32m--> 113\u001B[0m     \u001B[38;5;28;01mfor\u001B[39;00m conversion, transformation \u001B[38;5;129;01min\u001B[39;00m application\u001B[38;5;241m.\u001B[39mabstraction\u001B[38;5;241m.\u001B[39maccept(\u001B[38;5;28mself\u001B[39m):\n\u001B[0;32m    114\u001B[0m         \u001B[38;5;28;01myield\u001B[39;00m (conversion, terms\u001B[38;5;241m.\u001B[39mApplication(transformation, application\u001B[38;5;241m.\u001B[39margument))\n\u001B[0;32m    115\u001B[0m         \u001B[38;5;28;01mif\u001B[39;00m \u001B[38;5;28misinstance\u001B[39m(transformation, terms\u001B[38;5;241m.\u001B[39mAbstraction):\n",
      "File \u001B[1;32mD:\\documents\\python_projects\\pure-calculus\\venv_3_11\\Lib\\site-packages\\lambda_calculus\\visitors\\normalisation.py:113\u001B[0m, in \u001B[0;36mBetaNormalisingVisitor.visit_application\u001B[1;34m(self, application)\u001B[0m\n\u001B[0;32m    110\u001B[0m \u001B[38;5;28;01melse\u001B[39;00m:\n\u001B[0;32m    111\u001B[0m     \u001B[38;5;66;03m# try to reduce the abstraction until this is a redex\u001B[39;00m\n\u001B[0;32m    112\u001B[0m     abstraction \u001B[38;5;241m=\u001B[39m application\u001B[38;5;241m.\u001B[39mabstraction\n\u001B[1;32m--> 113\u001B[0m     \u001B[38;5;28;01mfor\u001B[39;00m conversion, transformation \u001B[38;5;129;01min\u001B[39;00m application\u001B[38;5;241m.\u001B[39mabstraction\u001B[38;5;241m.\u001B[39maccept(\u001B[38;5;28mself\u001B[39m):\n\u001B[0;32m    114\u001B[0m         \u001B[38;5;28;01myield\u001B[39;00m (conversion, terms\u001B[38;5;241m.\u001B[39mApplication(transformation, application\u001B[38;5;241m.\u001B[39margument))\n\u001B[0;32m    115\u001B[0m         \u001B[38;5;28;01mif\u001B[39;00m \u001B[38;5;28misinstance\u001B[39m(transformation, terms\u001B[38;5;241m.\u001B[39mAbstraction):\n",
      "File \u001B[1;32mD:\\documents\\python_projects\\pure-calculus\\venv_3_11\\Lib\\site-packages\\lambda_calculus\\visitors\\normalisation.py:117\u001B[0m, in \u001B[0;36mBetaNormalisingVisitor.visit_application\u001B[1;34m(self, application)\u001B[0m\n\u001B[0;32m    115\u001B[0m \u001B[38;5;28;01mif\u001B[39;00m \u001B[38;5;28misinstance\u001B[39m(transformation, terms\u001B[38;5;241m.\u001B[39mAbstraction):\n\u001B[0;32m    116\u001B[0m     reduced \u001B[38;5;241m=\u001B[39m \u001B[38;5;28;01myield from\u001B[39;00m \u001B[38;5;28mself\u001B[39m\u001B[38;5;241m.\u001B[39mbeta_reducation(transformation, application\u001B[38;5;241m.\u001B[39margument)\n\u001B[1;32m--> 117\u001B[0m     \u001B[38;5;28;01myield from\u001B[39;00m reduced\u001B[38;5;241m.\u001B[39maccept(\u001B[38;5;28mself\u001B[39m)\n\u001B[0;32m    118\u001B[0m     \u001B[38;5;28;01mreturn\u001B[39;00m\n\u001B[0;32m    119\u001B[0m \u001B[38;5;28;01melse\u001B[39;00m:\n",
      "File \u001B[1;32mD:\\documents\\python_projects\\pure-calculus\\venv_3_11\\Lib\\site-packages\\lambda_calculus\\visitors\\normalisation.py:117\u001B[0m, in \u001B[0;36mBetaNormalisingVisitor.visit_application\u001B[1;34m(self, application)\u001B[0m\n\u001B[0;32m    115\u001B[0m \u001B[38;5;28;01mif\u001B[39;00m \u001B[38;5;28misinstance\u001B[39m(transformation, terms\u001B[38;5;241m.\u001B[39mAbstraction):\n\u001B[0;32m    116\u001B[0m     reduced \u001B[38;5;241m=\u001B[39m \u001B[38;5;28;01myield from\u001B[39;00m \u001B[38;5;28mself\u001B[39m\u001B[38;5;241m.\u001B[39mbeta_reducation(transformation, application\u001B[38;5;241m.\u001B[39margument)\n\u001B[1;32m--> 117\u001B[0m     \u001B[38;5;28;01myield from\u001B[39;00m reduced\u001B[38;5;241m.\u001B[39maccept(\u001B[38;5;28mself\u001B[39m)\n\u001B[0;32m    118\u001B[0m     \u001B[38;5;28;01mreturn\u001B[39;00m\n\u001B[0;32m    119\u001B[0m \u001B[38;5;28;01melse\u001B[39;00m:\n",
      "    \u001B[1;31m[... skipping similar frames: BetaNormalisingVisitor.visit_application at line 117 (27 times)]\u001B[0m\n",
      "File \u001B[1;32mD:\\documents\\python_projects\\pure-calculus\\venv_3_11\\Lib\\site-packages\\lambda_calculus\\visitors\\normalisation.py:117\u001B[0m, in \u001B[0;36mBetaNormalisingVisitor.visit_application\u001B[1;34m(self, application)\u001B[0m\n\u001B[0;32m    115\u001B[0m \u001B[38;5;28;01mif\u001B[39;00m \u001B[38;5;28misinstance\u001B[39m(transformation, terms\u001B[38;5;241m.\u001B[39mAbstraction):\n\u001B[0;32m    116\u001B[0m     reduced \u001B[38;5;241m=\u001B[39m \u001B[38;5;28;01myield from\u001B[39;00m \u001B[38;5;28mself\u001B[39m\u001B[38;5;241m.\u001B[39mbeta_reducation(transformation, application\u001B[38;5;241m.\u001B[39margument)\n\u001B[1;32m--> 117\u001B[0m     \u001B[38;5;28;01myield from\u001B[39;00m reduced\u001B[38;5;241m.\u001B[39maccept(\u001B[38;5;28mself\u001B[39m)\n\u001B[0;32m    118\u001B[0m     \u001B[38;5;28;01mreturn\u001B[39;00m\n\u001B[0;32m    119\u001B[0m \u001B[38;5;28;01melse\u001B[39;00m:\n",
      "File \u001B[1;32mD:\\documents\\python_projects\\pure-calculus\\venv_3_11\\Lib\\site-packages\\lambda_calculus\\visitors\\normalisation.py:116\u001B[0m, in \u001B[0;36mBetaNormalisingVisitor.visit_application\u001B[1;34m(self, application)\u001B[0m\n\u001B[0;32m    114\u001B[0m \u001B[38;5;28;01myield\u001B[39;00m (conversion, terms\u001B[38;5;241m.\u001B[39mApplication(transformation, application\u001B[38;5;241m.\u001B[39margument))\n\u001B[0;32m    115\u001B[0m \u001B[38;5;28;01mif\u001B[39;00m \u001B[38;5;28misinstance\u001B[39m(transformation, terms\u001B[38;5;241m.\u001B[39mAbstraction):\n\u001B[1;32m--> 116\u001B[0m     reduced \u001B[38;5;241m=\u001B[39m \u001B[38;5;28;01myield from\u001B[39;00m \u001B[38;5;28mself\u001B[39m\u001B[38;5;241m.\u001B[39mbeta_reducation(transformation, application\u001B[38;5;241m.\u001B[39margument)\n\u001B[0;32m    117\u001B[0m     \u001B[38;5;28;01myield from\u001B[39;00m reduced\u001B[38;5;241m.\u001B[39maccept(\u001B[38;5;28mself\u001B[39m)\n\u001B[0;32m    118\u001B[0m     \u001B[38;5;28;01mreturn\u001B[39;00m\n",
      "File \u001B[1;32mD:\\documents\\python_projects\\pure-calculus\\venv_3_11\\Lib\\site-packages\\lambda_calculus\\visitors\\normalisation.py:86\u001B[0m, in \u001B[0;36mBetaNormalisingVisitor.beta_reducation\u001B[1;34m(self, abstraction, argument)\u001B[0m\n\u001B[0;32m     78\u001B[0m \u001B[38;5;250m\u001B[39m\u001B[38;5;124;03m\"\"\"\u001B[39;00m\n\u001B[0;32m     79\u001B[0m \u001B[38;5;124;03mPerform beta reduction of an application.\u001B[39;00m\n\u001B[0;32m     80\u001B[0m \u001B[38;5;124;03m\u001B[39;00m\n\u001B[1;32m   (...)\u001B[0m\n\u001B[0;32m     83\u001B[0m \u001B[38;5;124;03m:return: Generator yielding steps and returning the reduced term\u001B[39;00m\n\u001B[0;32m     84\u001B[0m \u001B[38;5;124;03m\"\"\"\u001B[39;00m\n\u001B[0;32m     85\u001B[0m conversions \u001B[38;5;241m=\u001B[39m CountingSubstitution\u001B[38;5;241m.\u001B[39mfrom_substitution(abstraction\u001B[38;5;241m.\u001B[39mbound, argument)\u001B[38;5;241m.\u001B[39mtrace()\n\u001B[1;32m---> 86\u001B[0m reduced \u001B[38;5;241m=\u001B[39m \u001B[38;5;28;01myield from\u001B[39;00m \u001B[38;5;28mmap\u001B[39m(\n\u001B[0;32m     87\u001B[0m     \u001B[38;5;28;01mlambda\u001B[39;00m body: (\n\u001B[0;32m     88\u001B[0m         Conversion\u001B[38;5;241m.\u001B[39mALPHA,\n\u001B[0;32m     89\u001B[0m         terms\u001B[38;5;241m.\u001B[39mApplication(terms\u001B[38;5;241m.\u001B[39mAbstraction(abstraction\u001B[38;5;241m.\u001B[39mbound, body), argument)\n\u001B[0;32m     90\u001B[0m     ),\n\u001B[0;32m     91\u001B[0m     abstraction\u001B[38;5;241m.\u001B[39mbody\u001B[38;5;241m.\u001B[39maccept(conversions)    \u001B[38;5;66;03m# type: ignore\u001B[39;00m\n\u001B[0;32m     92\u001B[0m )\n\u001B[0;32m     93\u001B[0m \u001B[38;5;28;01myield\u001B[39;00m (Conversion\u001B[38;5;241m.\u001B[39mBETA, reduced)\n\u001B[0;32m     94\u001B[0m \u001B[38;5;28;01mreturn\u001B[39;00m reduced\n",
      "File \u001B[1;32mD:\\documents\\python_projects\\pure-calculus\\venv_3_11\\Lib\\site-packages\\lambda_calculus\\visitors\\substitution\\renaming.py:161\u001B[0m, in \u001B[0;36mTracingDecorator.visit_application\u001B[1;34m(self, application)\u001B[0m\n\u001B[0;32m    159\u001B[0m         \u001B[38;5;28;01myield\u001B[39;00m terms\u001B[38;5;241m.\u001B[39mApplication(step, application\u001B[38;5;241m.\u001B[39margument)\n\u001B[0;32m    160\u001B[0m conversions \u001B[38;5;241m=\u001B[39m application\u001B[38;5;241m.\u001B[39margument\u001B[38;5;241m.\u001B[39maccept(\u001B[38;5;28mself\u001B[39m)\n\u001B[1;32m--> 161\u001B[0m argument \u001B[38;5;241m=\u001B[39m \u001B[38;5;28;01myield from\u001B[39;00m \u001B[38;5;28mmap\u001B[39m(\u001B[38;5;28;01mlambda\u001B[39;00m a: terms\u001B[38;5;241m.\u001B[39mApplication(step, a), conversions)\n\u001B[0;32m    162\u001B[0m \u001B[38;5;28;01mreturn\u001B[39;00m terms\u001B[38;5;241m.\u001B[39mApplication(abstraction, argument)\n",
      "File \u001B[1;32mD:\\documents\\python_projects\\pure-calculus\\venv_3_11\\Lib\\site-packages\\lambda_calculus\\visitors\\substitution\\renaming.py:154\u001B[0m, in \u001B[0;36mTracingDecorator.visit_application\u001B[1;34m(self, application)\u001B[0m\n\u001B[0;32m    152\u001B[0m \u001B[38;5;28;01mwhile\u001B[39;00m \u001B[38;5;28;01mTrue\u001B[39;00m:\n\u001B[0;32m    153\u001B[0m     \u001B[38;5;28;01mtry\u001B[39;00m:\n\u001B[1;32m--> 154\u001B[0m         step \u001B[38;5;241m=\u001B[39m \u001B[38;5;28mnext\u001B[39m(conversions)\n\u001B[0;32m    155\u001B[0m     \u001B[38;5;28;01mexcept\u001B[39;00m \u001B[38;5;167;01mStopIteration\u001B[39;00m \u001B[38;5;28;01mas\u001B[39;00m stop:\n\u001B[0;32m    156\u001B[0m         abstraction \u001B[38;5;241m=\u001B[39m stop\u001B[38;5;241m.\u001B[39mvalue\n",
      "File \u001B[1;32mD:\\documents\\python_projects\\pure-calculus\\venv_3_11\\Lib\\site-packages\\lambda_calculus\\visitors\\substitution\\renaming.py:161\u001B[0m, in \u001B[0;36mTracingDecorator.visit_application\u001B[1;34m(self, application)\u001B[0m\n\u001B[0;32m    159\u001B[0m         \u001B[38;5;28;01myield\u001B[39;00m terms\u001B[38;5;241m.\u001B[39mApplication(step, application\u001B[38;5;241m.\u001B[39margument)\n\u001B[0;32m    160\u001B[0m conversions \u001B[38;5;241m=\u001B[39m application\u001B[38;5;241m.\u001B[39margument\u001B[38;5;241m.\u001B[39maccept(\u001B[38;5;28mself\u001B[39m)\n\u001B[1;32m--> 161\u001B[0m argument \u001B[38;5;241m=\u001B[39m \u001B[38;5;28;01myield from\u001B[39;00m \u001B[38;5;28mmap\u001B[39m(\u001B[38;5;28;01mlambda\u001B[39;00m a: terms\u001B[38;5;241m.\u001B[39mApplication(step, a), conversions)\n\u001B[0;32m    162\u001B[0m \u001B[38;5;28;01mreturn\u001B[39;00m terms\u001B[38;5;241m.\u001B[39mApplication(abstraction, argument)\n",
      "File \u001B[1;32mD:\\documents\\python_projects\\pure-calculus\\venv_3_11\\Lib\\site-packages\\lambda_calculus\\visitors\\substitution\\renaming.py:154\u001B[0m, in \u001B[0;36mTracingDecorator.visit_application\u001B[1;34m(self, application)\u001B[0m\n\u001B[0;32m    152\u001B[0m \u001B[38;5;28;01mwhile\u001B[39;00m \u001B[38;5;28;01mTrue\u001B[39;00m:\n\u001B[0;32m    153\u001B[0m     \u001B[38;5;28;01mtry\u001B[39;00m:\n\u001B[1;32m--> 154\u001B[0m         step \u001B[38;5;241m=\u001B[39m \u001B[38;5;28mnext\u001B[39m(conversions)\n\u001B[0;32m    155\u001B[0m     \u001B[38;5;28;01mexcept\u001B[39;00m \u001B[38;5;167;01mStopIteration\u001B[39;00m \u001B[38;5;28;01mas\u001B[39;00m stop:\n\u001B[0;32m    156\u001B[0m         abstraction \u001B[38;5;241m=\u001B[39m stop\u001B[38;5;241m.\u001B[39mvalue\n",
      "    \u001B[1;31m[... skipping similar frames: TracingDecorator.visit_application at line 161 (21 times), TracingDecorator.visit_application at line 154 (21 times)]\u001B[0m\n",
      "File \u001B[1;32mD:\\documents\\python_projects\\pure-calculus\\venv_3_11\\Lib\\site-packages\\lambda_calculus\\visitors\\substitution\\renaming.py:161\u001B[0m, in \u001B[0;36mTracingDecorator.visit_application\u001B[1;34m(self, application)\u001B[0m\n\u001B[0;32m    159\u001B[0m         \u001B[38;5;28;01myield\u001B[39;00m terms\u001B[38;5;241m.\u001B[39mApplication(step, application\u001B[38;5;241m.\u001B[39margument)\n\u001B[0;32m    160\u001B[0m conversions \u001B[38;5;241m=\u001B[39m application\u001B[38;5;241m.\u001B[39margument\u001B[38;5;241m.\u001B[39maccept(\u001B[38;5;28mself\u001B[39m)\n\u001B[1;32m--> 161\u001B[0m argument \u001B[38;5;241m=\u001B[39m \u001B[38;5;28;01myield from\u001B[39;00m \u001B[38;5;28mmap\u001B[39m(\u001B[38;5;28;01mlambda\u001B[39;00m a: terms\u001B[38;5;241m.\u001B[39mApplication(step, a), conversions)\n\u001B[0;32m    162\u001B[0m \u001B[38;5;28;01mreturn\u001B[39;00m terms\u001B[38;5;241m.\u001B[39mApplication(abstraction, argument)\n",
      "    \u001B[1;31m[... skipping similar frames: TracingDecorator.visit_application at line 154 (1 times)]\u001B[0m\n",
      "File \u001B[1;32mD:\\documents\\python_projects\\pure-calculus\\venv_3_11\\Lib\\site-packages\\lambda_calculus\\visitors\\substitution\\renaming.py:154\u001B[0m, in \u001B[0;36mTracingDecorator.visit_application\u001B[1;34m(self, application)\u001B[0m\n\u001B[0;32m    152\u001B[0m \u001B[38;5;28;01mwhile\u001B[39;00m \u001B[38;5;28;01mTrue\u001B[39;00m:\n\u001B[0;32m    153\u001B[0m     \u001B[38;5;28;01mtry\u001B[39;00m:\n\u001B[1;32m--> 154\u001B[0m         step \u001B[38;5;241m=\u001B[39m \u001B[38;5;28mnext\u001B[39m(conversions)\n\u001B[0;32m    155\u001B[0m     \u001B[38;5;28;01mexcept\u001B[39;00m \u001B[38;5;167;01mStopIteration\u001B[39;00m \u001B[38;5;28;01mas\u001B[39;00m stop:\n\u001B[0;32m    156\u001B[0m         abstraction \u001B[38;5;241m=\u001B[39m stop\u001B[38;5;241m.\u001B[39mvalue\n",
      "File \u001B[1;32mD:\\documents\\python_projects\\pure-calculus\\venv_3_11\\Lib\\site-packages\\lambda_calculus\\visitors\\substitution\\renaming.py:137\u001B[0m, in \u001B[0;36mTracingDecorator.visit_abstraction\u001B[1;34m(self, abstraction)\u001B[0m\n\u001B[0;32m    135\u001B[0m     \u001B[38;5;28;01myield\u001B[39;00m substituted\n\u001B[0;32m    136\u001B[0m conversions \u001B[38;5;241m=\u001B[39m substituted\u001B[38;5;241m.\u001B[39mbody\u001B[38;5;241m.\u001B[39maccept(\u001B[38;5;28mself\u001B[39m)\n\u001B[1;32m--> 137\u001B[0m body \u001B[38;5;241m=\u001B[39m \u001B[38;5;28;01myield from\u001B[39;00m \u001B[38;5;28mmap\u001B[39m(\u001B[38;5;28;01mlambda\u001B[39;00m b: terms\u001B[38;5;241m.\u001B[39mAbstraction(substituted\u001B[38;5;241m.\u001B[39mbound, b), conversions)\n\u001B[0;32m    138\u001B[0m \u001B[38;5;28;01mreturn\u001B[39;00m terms\u001B[38;5;241m.\u001B[39mAbstraction(substituted\u001B[38;5;241m.\u001B[39mbound, body)\n",
      "File \u001B[1;32mD:\\documents\\python_projects\\pure-calculus\\venv_3_11\\Lib\\site-packages\\lambda_calculus\\visitors\\substitution\\renaming.py:123\u001B[0m, in \u001B[0;36mTracingDecorator.visit_abstraction\u001B[1;34m(self, abstraction)\u001B[0m\n\u001B[0;32m    120\u001B[0m     \u001B[38;5;66;03m# to create a generator\u001B[39;00m\n\u001B[0;32m    121\u001B[0m     \u001B[38;5;28;01myield\u001B[39;00m variable  \u001B[38;5;66;03m# type: ignore[unreachable]\u001B[39;00m\n\u001B[1;32m--> 123\u001B[0m \u001B[38;5;28;01mdef\u001B[39;00m \u001B[38;5;21mvisit_abstraction\u001B[39m(\u001B[38;5;28mself\u001B[39m, abstraction: terms\u001B[38;5;241m.\u001B[39mAbstraction[V]) \u001B[38;5;241m-\u001B[39m\u001B[38;5;241m>\u001B[39m Generator[terms\u001B[38;5;241m.\u001B[39mAbstraction[V], \u001B[38;5;28;01mNone\u001B[39;00m, terms\u001B[38;5;241m.\u001B[39mAbstraction[V]]:\n\u001B[0;32m    124\u001B[0m \u001B[38;5;250m    \u001B[39m\u001B[38;5;124;03m\"\"\"\u001B[39;00m\n\u001B[0;32m    125\u001B[0m \u001B[38;5;124;03m    Visit an Abstraction term\u001B[39;00m\n\u001B[0;32m    126\u001B[0m \n\u001B[1;32m   (...)\u001B[0m\n\u001B[0;32m    129\u001B[0m \u001B[38;5;124;03m             returning the term with substitutions\u001B[39;00m\n\u001B[0;32m    130\u001B[0m \u001B[38;5;124;03m    \"\"\"\u001B[39;00m\n\u001B[0;32m    131\u001B[0m     substituted, visitor \u001B[38;5;241m=\u001B[39m \u001B[38;5;28mself\u001B[39m\u001B[38;5;241m.\u001B[39msubstitution\u001B[38;5;241m.\u001B[39mdefer_abstraction(abstraction)\n",
      "\u001B[1;31mKeyboardInterrupt\u001B[0m: "
     ]
    }
   ],
   "source": [
    "test_gcd_v00(0, 1)"
   ],
   "metadata": {
    "collapsed": false
   }
  },
  {
   "cell_type": "code",
   "execution_count": 15,
   "outputs": [
    {
     "name": "stdout",
     "output_type": "stream",
     "text": [
      "(λa.(λb.(a b)))\n",
      "time normalization: 0.0010004043579101562s\n"
     ]
    }
   ],
   "source": [
    "test_gcd_v00(6, 3)"
   ],
   "metadata": {
    "collapsed": false
   }
  },
  {
   "cell_type": "code",
   "execution_count": 16,
   "outputs": [
    {
     "name": "stdout",
     "output_type": "stream",
     "text": [
      "(λa.(λb.(a b)))\n",
      "time normalization: 0.002000570297241211s\n"
     ]
    }
   ],
   "source": [
    "test_gcd_v00(3, 6)"
   ],
   "metadata": {
    "collapsed": false
   }
  },
  {
   "cell_type": "code",
   "execution_count": 17,
   "outputs": [
    {
     "name": "stdout",
     "output_type": "stream",
     "text": [
      "(λa.(λb.(a b)))\n",
      "time normalization: 0.0019998550415039062s\n"
     ]
    }
   ],
   "source": [
    "test_gcd_v00(10, 10)"
   ],
   "metadata": {
    "collapsed": false
   }
  },
  {
   "cell_type": "code",
   "execution_count": null,
   "outputs": [],
   "source": [],
   "metadata": {
    "collapsed": false
   }
  },
  {
   "cell_type": "code",
   "execution_count": null,
   "outputs": [],
   "source": [],
   "metadata": {
    "collapsed": false
   }
  },
  {
   "cell_type": "markdown",
   "source": [
    "# test the v01 realization"
   ],
   "metadata": {
    "collapsed": false
   }
  },
  {
   "cell_type": "code",
   "execution_count": 20,
   "outputs": [],
   "source": [
    "def gcd_term_v01():\n",
    "    n, m, f = \"n\", \"m\", \"f\"\n",
    "    n_, m_, f_ = Var(n), Var(m), Var(f)\n",
    "    sub_m_n = App(App(arithmetic.SUBTRACT, m_), n_)\n",
    "    sub_n_m = App(App(arithmetic.SUBTRACT, n_), m_)\n",
    "    iszero_n = App(arithmetic.ISZERO, n_)\n",
    "    iszero_m = App(arithmetic.ISZERO, m_)\n",
    "    f_n_sub = App(App(f_, n_), sub_m_n)\n",
    "    f_m_sub = App(App(f_, m_), sub_n_m)\n",
    "    le_n_m = App(App(leq_term(), n_), m_)\n",
    "    eq_n_m = App(App(eq_term(), n_), m_)\n",
    "    or_is_zero = App(logic.OR, App(iszero_n, iszero_m))\n",
    "    ite_le_sub_sub = App(App(App(logic.IF_THEN_ELSE, le_n_m), f_n_sub), f_m_sub)\n",
    "    ite_eq_ite = App(App(App(logic.IF_THEN_ELSE, eq_n_m), n_), ite_le_sub_sub)\n",
    "    # or_is_ite = App(App(or_is_zero, n0_term()), ite_eq_ite)\n",
    "    # inner_app = App(ite_term(), or_is_ite)\n",
    "    inner_app = App(App(App(logic.IF_THEN_ELSE, or_is_zero), arithmetic.number(0)), ite_eq_ite)\n",
    "    inner_lambda = Lambda(f, Lambda(n, Lambda(m, inner_app)))\n",
    "    return App(combinators.Y, inner_lambda)\n",
    "\n",
    "\n",
    "def test_gcd_v01(var_0=0, var_1=0):\n",
    "    start_time = time.time()\n",
    "    term_ = multi_app_term(gcd_term_v01(), arithmetic.number(var_0), arithmetic.number(var_1))\n",
    "    res_term = BetaNormalisingVisitor().skip_intermediate(term_)\n",
    "\n",
    "    print(res_term)\n",
    "    print(f\"time normalization: {time.time() - start_time}s\")"
   ],
   "metadata": {
    "collapsed": false
   }
  },
  {
   "cell_type": "code",
   "execution_count": 23,
   "outputs": [
    {
     "name": "stdout",
     "output_type": "stream",
     "text": [
      "(λf.(λx.x))\n",
      "time normalization: 0.0010006427764892578s\n"
     ]
    }
   ],
   "source": [
    "test_gcd_v01(0, 0)"
   ],
   "metadata": {
    "collapsed": false
   }
  },
  {
   "cell_type": "code",
   "execution_count": 24,
   "outputs": [
    {
     "name": "stdout",
     "output_type": "stream",
     "text": [
      "(λx.x)\n",
      "time normalization: 0.0020008087158203125s\n"
     ]
    }
   ],
   "source": [
    "test_gcd_v01(1, 0)"
   ],
   "metadata": {
    "collapsed": false
   }
  },
  {
   "cell_type": "code",
   "execution_count": 25,
   "outputs": [
    {
     "ename": "KeyboardInterrupt",
     "evalue": "",
     "output_type": "error",
     "traceback": [
      "\u001B[1;31m---------------------------------------------------------------------------\u001B[0m",
      "\u001B[1;31mKeyboardInterrupt\u001B[0m                         Traceback (most recent call last)",
      "    \u001B[1;31m[... skipping hidden 1 frame]\u001B[0m\n",
      "Cell \u001B[1;32mIn[25], line 1\u001B[0m\n\u001B[1;32m----> 1\u001B[0m \u001B[43mtest_gcd_v01\u001B[49m\u001B[43m(\u001B[49m\u001B[38;5;241;43m0\u001B[39;49m\u001B[43m,\u001B[49m\u001B[43m \u001B[49m\u001B[38;5;241;43m1\u001B[39;49m\u001B[43m)\u001B[49m\n",
      "Cell \u001B[1;32mIn[20], line 25\u001B[0m, in \u001B[0;36mtest_gcd_v01\u001B[1;34m(var_0, var_1)\u001B[0m\n\u001B[0;32m     24\u001B[0m term_ \u001B[38;5;241m=\u001B[39m multi_app_term(gcd_term_v01(), arithmetic\u001B[38;5;241m.\u001B[39mnumber(var_0), arithmetic\u001B[38;5;241m.\u001B[39mnumber(var_1))\n\u001B[1;32m---> 25\u001B[0m res_term \u001B[38;5;241m=\u001B[39m \u001B[43mBetaNormalisingVisitor\u001B[49m\u001B[43m(\u001B[49m\u001B[43m)\u001B[49m\u001B[38;5;241;43m.\u001B[39;49m\u001B[43mskip_intermediate\u001B[49m\u001B[43m(\u001B[49m\u001B[43mterm_\u001B[49m\u001B[43m)\u001B[49m\n\u001B[0;32m     27\u001B[0m \u001B[38;5;28mprint\u001B[39m(res_term)\n",
      "File \u001B[1;32mD:\\documents\\python_projects\\pure-calculus\\venv_3_11\\Lib\\site-packages\\lambda_calculus\\visitors\\normalisation.py:54\u001B[0m, in \u001B[0;36mBetaNormalisingVisitor.skip_intermediate\u001B[1;34m(self, term)\u001B[0m\n\u001B[0;32m     53\u001B[0m result \u001B[38;5;241m=\u001B[39m term\n\u001B[1;32m---> 54\u001B[0m \u001B[38;5;28;01mfor\u001B[39;00m _, intermediate \u001B[38;5;129;01min\u001B[39;00m term\u001B[38;5;241m.\u001B[39maccept(\u001B[38;5;28mself\u001B[39m):\n\u001B[0;32m     55\u001B[0m     result \u001B[38;5;241m=\u001B[39m intermediate\n",
      "File \u001B[1;32mD:\\documents\\python_projects\\pure-calculus\\venv_3_11\\Lib\\site-packages\\lambda_calculus\\visitors\\normalisation.py:117\u001B[0m, in \u001B[0;36mBetaNormalisingVisitor.visit_application\u001B[1;34m(self, application)\u001B[0m\n\u001B[0;32m    116\u001B[0m reduced \u001B[38;5;241m=\u001B[39m \u001B[38;5;28;01myield from\u001B[39;00m \u001B[38;5;28mself\u001B[39m\u001B[38;5;241m.\u001B[39mbeta_reducation(transformation, application\u001B[38;5;241m.\u001B[39margument)\n\u001B[1;32m--> 117\u001B[0m \u001B[38;5;28;01myield from\u001B[39;00m reduced\u001B[38;5;241m.\u001B[39maccept(\u001B[38;5;28mself\u001B[39m)\n\u001B[0;32m    118\u001B[0m \u001B[38;5;28;01mreturn\u001B[39;00m\n",
      "File \u001B[1;32mD:\\documents\\python_projects\\pure-calculus\\venv_3_11\\Lib\\site-packages\\lambda_calculus\\visitors\\normalisation.py:117\u001B[0m, in \u001B[0;36mBetaNormalisingVisitor.visit_application\u001B[1;34m(self, application)\u001B[0m\n\u001B[0;32m    116\u001B[0m reduced \u001B[38;5;241m=\u001B[39m \u001B[38;5;28;01myield from\u001B[39;00m \u001B[38;5;28mself\u001B[39m\u001B[38;5;241m.\u001B[39mbeta_reducation(transformation, application\u001B[38;5;241m.\u001B[39margument)\n\u001B[1;32m--> 117\u001B[0m \u001B[38;5;28;01myield from\u001B[39;00m reduced\u001B[38;5;241m.\u001B[39maccept(\u001B[38;5;28mself\u001B[39m)\n\u001B[0;32m    118\u001B[0m \u001B[38;5;28;01mreturn\u001B[39;00m\n",
      "    \u001B[1;31m[... skipping similar frames: BetaNormalisingVisitor.visit_application at line 117 (1267 times)]\u001B[0m\n",
      "File \u001B[1;32mD:\\documents\\python_projects\\pure-calculus\\venv_3_11\\Lib\\site-packages\\lambda_calculus\\visitors\\normalisation.py:113\u001B[0m, in \u001B[0;36mBetaNormalisingVisitor.visit_application\u001B[1;34m(self, application)\u001B[0m\n\u001B[0;32m    112\u001B[0m abstraction \u001B[38;5;241m=\u001B[39m application\u001B[38;5;241m.\u001B[39mabstraction\n\u001B[1;32m--> 113\u001B[0m \u001B[38;5;28;01mfor\u001B[39;00m conversion, transformation \u001B[38;5;129;01min\u001B[39;00m application\u001B[38;5;241m.\u001B[39mabstraction\u001B[38;5;241m.\u001B[39maccept(\u001B[38;5;28mself\u001B[39m):\n\u001B[0;32m    114\u001B[0m     \u001B[38;5;28;01myield\u001B[39;00m (conversion, terms\u001B[38;5;241m.\u001B[39mApplication(transformation, application\u001B[38;5;241m.\u001B[39margument))\n",
      "    \u001B[1;31m[... skipping similar frames: BetaNormalisingVisitor.visit_application at line 117 (1 times)]\u001B[0m\n",
      "File \u001B[1;32mD:\\documents\\python_projects\\pure-calculus\\venv_3_11\\Lib\\site-packages\\lambda_calculus\\visitors\\normalisation.py:113\u001B[0m, in \u001B[0;36mBetaNormalisingVisitor.visit_application\u001B[1;34m(self, application)\u001B[0m\n\u001B[0;32m    112\u001B[0m abstraction \u001B[38;5;241m=\u001B[39m application\u001B[38;5;241m.\u001B[39mabstraction\n\u001B[1;32m--> 113\u001B[0m \u001B[38;5;28;01mfor\u001B[39;00m conversion, transformation \u001B[38;5;129;01min\u001B[39;00m application\u001B[38;5;241m.\u001B[39mabstraction\u001B[38;5;241m.\u001B[39maccept(\u001B[38;5;28mself\u001B[39m):\n\u001B[0;32m    114\u001B[0m     \u001B[38;5;28;01myield\u001B[39;00m (conversion, terms\u001B[38;5;241m.\u001B[39mApplication(transformation, application\u001B[38;5;241m.\u001B[39margument))\n",
      "File \u001B[1;32mD:\\documents\\python_projects\\pure-calculus\\venv_3_11\\Lib\\site-packages\\lambda_calculus\\visitors\\normalisation.py:117\u001B[0m, in \u001B[0;36mBetaNormalisingVisitor.visit_application\u001B[1;34m(self, application)\u001B[0m\n\u001B[0;32m    116\u001B[0m reduced \u001B[38;5;241m=\u001B[39m \u001B[38;5;28;01myield from\u001B[39;00m \u001B[38;5;28mself\u001B[39m\u001B[38;5;241m.\u001B[39mbeta_reducation(transformation, application\u001B[38;5;241m.\u001B[39margument)\n\u001B[1;32m--> 117\u001B[0m \u001B[38;5;28;01myield from\u001B[39;00m reduced\u001B[38;5;241m.\u001B[39maccept(\u001B[38;5;28mself\u001B[39m)\n\u001B[0;32m    118\u001B[0m \u001B[38;5;28;01mreturn\u001B[39;00m\n",
      "File \u001B[1;32mD:\\documents\\python_projects\\pure-calculus\\venv_3_11\\Lib\\site-packages\\lambda_calculus\\visitors\\normalisation.py:109\u001B[0m, in \u001B[0;36mBetaNormalisingVisitor.visit_application\u001B[1;34m(self, application)\u001B[0m\n\u001B[0;32m    108\u001B[0m     reduced \u001B[38;5;241m=\u001B[39m \u001B[38;5;28;01myield from\u001B[39;00m \u001B[38;5;28mself\u001B[39m\u001B[38;5;241m.\u001B[39mbeta_reducation(application\u001B[38;5;241m.\u001B[39mabstraction, application\u001B[38;5;241m.\u001B[39margument)\n\u001B[1;32m--> 109\u001B[0m     \u001B[38;5;28;01myield from\u001B[39;00m reduced\u001B[38;5;241m.\u001B[39maccept(\u001B[38;5;28mself\u001B[39m)\n\u001B[0;32m    110\u001B[0m \u001B[38;5;28;01melse\u001B[39;00m:\n\u001B[0;32m    111\u001B[0m     \u001B[38;5;66;03m# try to reduce the abstraction until this is a redex\u001B[39;00m\n",
      "File \u001B[1;32mD:\\documents\\python_projects\\pure-calculus\\venv_3_11\\Lib\\site-packages\\lambda_calculus\\visitors\\normalisation.py:113\u001B[0m, in \u001B[0;36mBetaNormalisingVisitor.visit_application\u001B[1;34m(self, application)\u001B[0m\n\u001B[0;32m    112\u001B[0m abstraction \u001B[38;5;241m=\u001B[39m application\u001B[38;5;241m.\u001B[39mabstraction\n\u001B[1;32m--> 113\u001B[0m \u001B[38;5;28;01mfor\u001B[39;00m conversion, transformation \u001B[38;5;129;01min\u001B[39;00m application\u001B[38;5;241m.\u001B[39mabstraction\u001B[38;5;241m.\u001B[39maccept(\u001B[38;5;28mself\u001B[39m):\n\u001B[0;32m    114\u001B[0m     \u001B[38;5;28;01myield\u001B[39;00m (conversion, terms\u001B[38;5;241m.\u001B[39mApplication(transformation, application\u001B[38;5;241m.\u001B[39margument))\n",
      "File \u001B[1;32mD:\\documents\\python_projects\\pure-calculus\\venv_3_11\\Lib\\site-packages\\lambda_calculus\\visitors\\normalisation.py:113\u001B[0m, in \u001B[0;36mBetaNormalisingVisitor.visit_application\u001B[1;34m(self, application)\u001B[0m\n\u001B[0;32m    112\u001B[0m abstraction \u001B[38;5;241m=\u001B[39m application\u001B[38;5;241m.\u001B[39mabstraction\n\u001B[1;32m--> 113\u001B[0m \u001B[38;5;28;01mfor\u001B[39;00m conversion, transformation \u001B[38;5;129;01min\u001B[39;00m application\u001B[38;5;241m.\u001B[39mabstraction\u001B[38;5;241m.\u001B[39maccept(\u001B[38;5;28mself\u001B[39m):\n\u001B[0;32m    114\u001B[0m     \u001B[38;5;28;01myield\u001B[39;00m (conversion, terms\u001B[38;5;241m.\u001B[39mApplication(transformation, application\u001B[38;5;241m.\u001B[39margument))\n",
      "File \u001B[1;32mD:\\documents\\python_projects\\pure-calculus\\venv_3_11\\Lib\\site-packages\\lambda_calculus\\visitors\\normalisation.py:117\u001B[0m, in \u001B[0;36mBetaNormalisingVisitor.visit_application\u001B[1;34m(self, application)\u001B[0m\n\u001B[0;32m    116\u001B[0m reduced \u001B[38;5;241m=\u001B[39m \u001B[38;5;28;01myield from\u001B[39;00m \u001B[38;5;28mself\u001B[39m\u001B[38;5;241m.\u001B[39mbeta_reducation(transformation, application\u001B[38;5;241m.\u001B[39margument)\n\u001B[1;32m--> 117\u001B[0m \u001B[38;5;28;01myield from\u001B[39;00m reduced\u001B[38;5;241m.\u001B[39maccept(\u001B[38;5;28mself\u001B[39m)\n\u001B[0;32m    118\u001B[0m \u001B[38;5;28;01mreturn\u001B[39;00m\n",
      "File \u001B[1;32mD:\\documents\\python_projects\\pure-calculus\\venv_3_11\\Lib\\site-packages\\lambda_calculus\\visitors\\normalisation.py:117\u001B[0m, in \u001B[0;36mBetaNormalisingVisitor.visit_application\u001B[1;34m(self, application)\u001B[0m\n\u001B[0;32m    116\u001B[0m reduced \u001B[38;5;241m=\u001B[39m \u001B[38;5;28;01myield from\u001B[39;00m \u001B[38;5;28mself\u001B[39m\u001B[38;5;241m.\u001B[39mbeta_reducation(transformation, application\u001B[38;5;241m.\u001B[39margument)\n\u001B[1;32m--> 117\u001B[0m \u001B[38;5;28;01myield from\u001B[39;00m reduced\u001B[38;5;241m.\u001B[39maccept(\u001B[38;5;28mself\u001B[39m)\n\u001B[0;32m    118\u001B[0m \u001B[38;5;28;01mreturn\u001B[39;00m\n",
      "    \u001B[1;31m[... skipping similar frames: BetaNormalisingVisitor.visit_application at line 117 (233 times)]\u001B[0m\n",
      "File \u001B[1;32mD:\\documents\\python_projects\\pure-calculus\\venv_3_11\\Lib\\site-packages\\lambda_calculus\\visitors\\normalisation.py:117\u001B[0m, in \u001B[0;36mBetaNormalisingVisitor.visit_application\u001B[1;34m(self, application)\u001B[0m\n\u001B[0;32m    116\u001B[0m reduced \u001B[38;5;241m=\u001B[39m \u001B[38;5;28;01myield from\u001B[39;00m \u001B[38;5;28mself\u001B[39m\u001B[38;5;241m.\u001B[39mbeta_reducation(transformation, application\u001B[38;5;241m.\u001B[39margument)\n\u001B[1;32m--> 117\u001B[0m \u001B[38;5;28;01myield from\u001B[39;00m reduced\u001B[38;5;241m.\u001B[39maccept(\u001B[38;5;28mself\u001B[39m)\n\u001B[0;32m    118\u001B[0m \u001B[38;5;28;01mreturn\u001B[39;00m\n",
      "File \u001B[1;32mD:\\documents\\python_projects\\pure-calculus\\venv_3_11\\Lib\\site-packages\\lambda_calculus\\visitors\\normalisation.py:116\u001B[0m, in \u001B[0;36mBetaNormalisingVisitor.visit_application\u001B[1;34m(self, application)\u001B[0m\n\u001B[0;32m    115\u001B[0m \u001B[38;5;28;01mif\u001B[39;00m \u001B[38;5;28misinstance\u001B[39m(transformation, terms\u001B[38;5;241m.\u001B[39mAbstraction):\n\u001B[1;32m--> 116\u001B[0m     reduced \u001B[38;5;241m=\u001B[39m \u001B[38;5;28;01myield from\u001B[39;00m \u001B[38;5;28mself\u001B[39m\u001B[38;5;241m.\u001B[39mbeta_reducation(transformation, application\u001B[38;5;241m.\u001B[39margument)\n\u001B[0;32m    117\u001B[0m     \u001B[38;5;28;01myield from\u001B[39;00m reduced\u001B[38;5;241m.\u001B[39maccept(\u001B[38;5;28mself\u001B[39m)\n",
      "File \u001B[1;32mD:\\documents\\python_projects\\pure-calculus\\venv_3_11\\Lib\\site-packages\\lambda_calculus\\visitors\\normalisation.py:86\u001B[0m, in \u001B[0;36mBetaNormalisingVisitor.beta_reducation\u001B[1;34m(self, abstraction, argument)\u001B[0m\n\u001B[0;32m     85\u001B[0m conversions \u001B[38;5;241m=\u001B[39m CountingSubstitution\u001B[38;5;241m.\u001B[39mfrom_substitution(abstraction\u001B[38;5;241m.\u001B[39mbound, argument)\u001B[38;5;241m.\u001B[39mtrace()\n\u001B[1;32m---> 86\u001B[0m reduced \u001B[38;5;241m=\u001B[39m \u001B[38;5;28;01myield from\u001B[39;00m \u001B[38;5;28mmap\u001B[39m(\n\u001B[0;32m     87\u001B[0m     \u001B[38;5;28;01mlambda\u001B[39;00m body: (\n\u001B[0;32m     88\u001B[0m         Conversion\u001B[38;5;241m.\u001B[39mALPHA,\n\u001B[0;32m     89\u001B[0m         terms\u001B[38;5;241m.\u001B[39mApplication(terms\u001B[38;5;241m.\u001B[39mAbstraction(abstraction\u001B[38;5;241m.\u001B[39mbound, body), argument)\n\u001B[0;32m     90\u001B[0m     ),\n\u001B[0;32m     91\u001B[0m     abstraction\u001B[38;5;241m.\u001B[39mbody\u001B[38;5;241m.\u001B[39maccept(conversions)    \u001B[38;5;66;03m# type: ignore\u001B[39;00m\n\u001B[0;32m     92\u001B[0m )\n\u001B[0;32m     93\u001B[0m \u001B[38;5;28;01myield\u001B[39;00m (Conversion\u001B[38;5;241m.\u001B[39mBETA, reduced)\n",
      "File \u001B[1;32mD:\\documents\\python_projects\\pure-calculus\\venv_3_11\\Lib\\site-packages\\lambda_calculus\\visitors\\substitution\\renaming.py:161\u001B[0m, in \u001B[0;36mTracingDecorator.visit_application\u001B[1;34m(self, application)\u001B[0m\n\u001B[0;32m    160\u001B[0m conversions \u001B[38;5;241m=\u001B[39m application\u001B[38;5;241m.\u001B[39margument\u001B[38;5;241m.\u001B[39maccept(\u001B[38;5;28mself\u001B[39m)\n\u001B[1;32m--> 161\u001B[0m argument \u001B[38;5;241m=\u001B[39m \u001B[38;5;28;01myield from\u001B[39;00m \u001B[38;5;28mmap\u001B[39m(\u001B[38;5;28;01mlambda\u001B[39;00m a: terms\u001B[38;5;241m.\u001B[39mApplication(step, a), conversions)\n\u001B[0;32m    162\u001B[0m \u001B[38;5;28;01mreturn\u001B[39;00m terms\u001B[38;5;241m.\u001B[39mApplication(abstraction, argument)\n",
      "File \u001B[1;32mD:\\documents\\python_projects\\pure-calculus\\venv_3_11\\Lib\\site-packages\\lambda_calculus\\visitors\\substitution\\renaming.py:154\u001B[0m, in \u001B[0;36mTracingDecorator.visit_application\u001B[1;34m(self, application)\u001B[0m\n\u001B[0;32m    153\u001B[0m \u001B[38;5;28;01mtry\u001B[39;00m:\n\u001B[1;32m--> 154\u001B[0m     step \u001B[38;5;241m=\u001B[39m \u001B[38;5;28mnext\u001B[39m(conversions)\n\u001B[0;32m    155\u001B[0m \u001B[38;5;28;01mexcept\u001B[39;00m \u001B[38;5;167;01mStopIteration\u001B[39;00m \u001B[38;5;28;01mas\u001B[39;00m stop:\n",
      "File \u001B[1;32mD:\\documents\\python_projects\\pure-calculus\\venv_3_11\\Lib\\site-packages\\lambda_calculus\\visitors\\substitution\\renaming.py:161\u001B[0m, in \u001B[0;36mTracingDecorator.visit_application\u001B[1;34m(self, application)\u001B[0m\n\u001B[0;32m    160\u001B[0m conversions \u001B[38;5;241m=\u001B[39m application\u001B[38;5;241m.\u001B[39margument\u001B[38;5;241m.\u001B[39maccept(\u001B[38;5;28mself\u001B[39m)\n\u001B[1;32m--> 161\u001B[0m argument \u001B[38;5;241m=\u001B[39m \u001B[38;5;28;01myield from\u001B[39;00m \u001B[38;5;28mmap\u001B[39m(\u001B[38;5;28;01mlambda\u001B[39;00m a: terms\u001B[38;5;241m.\u001B[39mApplication(step, a), conversions)\n\u001B[0;32m    162\u001B[0m \u001B[38;5;28;01mreturn\u001B[39;00m terms\u001B[38;5;241m.\u001B[39mApplication(abstraction, argument)\n",
      "File \u001B[1;32mD:\\documents\\python_projects\\pure-calculus\\venv_3_11\\Lib\\site-packages\\lambda_calculus\\visitors\\substitution\\renaming.py:154\u001B[0m, in \u001B[0;36mTracingDecorator.visit_application\u001B[1;34m(self, application)\u001B[0m\n\u001B[0;32m    153\u001B[0m \u001B[38;5;28;01mtry\u001B[39;00m:\n\u001B[1;32m--> 154\u001B[0m     step \u001B[38;5;241m=\u001B[39m \u001B[38;5;28mnext\u001B[39m(conversions)\n\u001B[0;32m    155\u001B[0m \u001B[38;5;28;01mexcept\u001B[39;00m \u001B[38;5;167;01mStopIteration\u001B[39;00m \u001B[38;5;28;01mas\u001B[39;00m stop:\n",
      "    \u001B[1;31m[... skipping similar frames: TracingDecorator.visit_application at line 161 (48 times), TracingDecorator.visit_application at line 154 (47 times)]\u001B[0m\n",
      "File \u001B[1;32mD:\\documents\\python_projects\\pure-calculus\\venv_3_11\\Lib\\site-packages\\lambda_calculus\\visitors\\substitution\\renaming.py:154\u001B[0m, in \u001B[0;36mTracingDecorator.visit_application\u001B[1;34m(self, application)\u001B[0m\n\u001B[0;32m    153\u001B[0m \u001B[38;5;28;01mtry\u001B[39;00m:\n\u001B[1;32m--> 154\u001B[0m     step \u001B[38;5;241m=\u001B[39m \u001B[38;5;28mnext\u001B[39m(conversions)\n\u001B[0;32m    155\u001B[0m \u001B[38;5;28;01mexcept\u001B[39;00m \u001B[38;5;167;01mStopIteration\u001B[39;00m \u001B[38;5;28;01mas\u001B[39;00m stop:\n",
      "File \u001B[1;32mD:\\documents\\python_projects\\pure-calculus\\venv_3_11\\Lib\\site-packages\\lambda_calculus\\visitors\\substitution\\renaming.py:161\u001B[0m, in \u001B[0;36mTracingDecorator.visit_application\u001B[1;34m(self, application)\u001B[0m\n\u001B[0;32m    160\u001B[0m conversions \u001B[38;5;241m=\u001B[39m application\u001B[38;5;241m.\u001B[39margument\u001B[38;5;241m.\u001B[39maccept(\u001B[38;5;28mself\u001B[39m)\n\u001B[1;32m--> 161\u001B[0m argument \u001B[38;5;241m=\u001B[39m \u001B[38;5;28;01myield from\u001B[39;00m \u001B[38;5;28mmap\u001B[39m(\u001B[38;5;28;01mlambda\u001B[39;00m a: terms\u001B[38;5;241m.\u001B[39mApplication(step, a), conversions)\n\u001B[0;32m    162\u001B[0m \u001B[38;5;28;01mreturn\u001B[39;00m terms\u001B[38;5;241m.\u001B[39mApplication(abstraction, argument)\n",
      "File \u001B[1;32mD:\\documents\\python_projects\\pure-calculus\\venv_3_11\\Lib\\site-packages\\lambda_calculus\\visitors\\substitution\\renaming.py:162\u001B[0m, in \u001B[0;36mTracingDecorator.visit_application\u001B[1;34m(self, application)\u001B[0m\n\u001B[0;32m    161\u001B[0m argument \u001B[38;5;241m=\u001B[39m \u001B[38;5;28;01myield from\u001B[39;00m \u001B[38;5;28mmap\u001B[39m(\u001B[38;5;28;01mlambda\u001B[39;00m a: terms\u001B[38;5;241m.\u001B[39mApplication(step, a), conversions)\n\u001B[1;32m--> 162\u001B[0m \u001B[38;5;28;01mreturn\u001B[39;00m \u001B[43mterms\u001B[49m\u001B[38;5;241;43m.\u001B[39;49m\u001B[43mApplication\u001B[49m\u001B[43m(\u001B[49m\u001B[43mabstraction\u001B[49m\u001B[43m,\u001B[49m\u001B[43m \u001B[49m\u001B[43margument\u001B[49m\u001B[43m)\u001B[49m\n",
      "\u001B[1;31mKeyboardInterrupt\u001B[0m: ",
      "\nDuring handling of the above exception, another exception occurred:\n",
      "\u001B[1;31mKeyboardInterrupt\u001B[0m                         Traceback (most recent call last)",
      "    \u001B[1;31m[... skipping hidden 1 frame]\u001B[0m\n",
      "File \u001B[1;32mD:\\documents\\python_projects\\pure-calculus\\venv_3_11\\Lib\\site-packages\\IPython\\core\\interactiveshell.py:2017\u001B[0m, in \u001B[0;36mInteractiveShell.showtraceback\u001B[1;34m(self, exc_tuple, filename, tb_offset, exception_only, running_compiled_code)\u001B[0m\n\u001B[0;32m   2014\u001B[0m     msg \u001B[38;5;241m=\u001B[39m traceback\u001B[38;5;241m.\u001B[39mformat_exception_only(etype, value)\n\u001B[0;32m   2015\u001B[0m     \u001B[38;5;28;01mreturn\u001B[39;00m \u001B[38;5;124m'\u001B[39m\u001B[38;5;124m'\u001B[39m\u001B[38;5;241m.\u001B[39mjoin(msg)\n\u001B[1;32m-> 2017\u001B[0m \u001B[38;5;28;01mdef\u001B[39;00m \u001B[38;5;21mshowtraceback\u001B[39m(\u001B[38;5;28mself\u001B[39m, exc_tuple\u001B[38;5;241m=\u001B[39m\u001B[38;5;28;01mNone\u001B[39;00m, filename\u001B[38;5;241m=\u001B[39m\u001B[38;5;28;01mNone\u001B[39;00m, tb_offset\u001B[38;5;241m=\u001B[39m\u001B[38;5;28;01mNone\u001B[39;00m,\n\u001B[0;32m   2018\u001B[0m                   exception_only\u001B[38;5;241m=\u001B[39m\u001B[38;5;28;01mFalse\u001B[39;00m, running_compiled_code\u001B[38;5;241m=\u001B[39m\u001B[38;5;28;01mFalse\u001B[39;00m):\n\u001B[0;32m   2019\u001B[0m \u001B[38;5;250m    \u001B[39m\u001B[38;5;124;03m\"\"\"Display the exception that just occurred.\u001B[39;00m\n\u001B[0;32m   2020\u001B[0m \n\u001B[0;32m   2021\u001B[0m \u001B[38;5;124;03m    If nothing is known about the exception, this is the method which\u001B[39;00m\n\u001B[1;32m   (...)\u001B[0m\n\u001B[0;32m   2027\u001B[0m \u001B[38;5;124;03m    SyntaxError exception, don't try to analyze the stack manually and\u001B[39;00m\n\u001B[0;32m   2028\u001B[0m \u001B[38;5;124;03m    simply call this method.\"\"\"\u001B[39;00m\n\u001B[0;32m   2030\u001B[0m     \u001B[38;5;28;01mtry\u001B[39;00m:\n",
      "\u001B[1;31mKeyboardInterrupt\u001B[0m: "
     ]
    }
   ],
   "source": [
    "test_gcd_v01(0, 1)"
   ],
   "metadata": {
    "collapsed": false
   }
  },
  {
   "cell_type": "code",
   "execution_count": 26,
   "outputs": [
    {
     "name": "stdout",
     "output_type": "stream",
     "text": [
      "(λx.x)\n",
      "time normalization: 0.0010008811950683594s\n"
     ]
    }
   ],
   "source": [
    "test_gcd_v01(1, 1)"
   ],
   "metadata": {
    "collapsed": false
   }
  },
  {
   "cell_type": "code",
   "execution_count": 27,
   "outputs": [
    {
     "name": "stdout",
     "output_type": "stream",
     "text": [
      "(λx.x)\n",
      "time normalization: 0.0020003318786621094s\n"
     ]
    }
   ],
   "source": [
    "test_gcd_v01(1, 2)"
   ],
   "metadata": {
    "collapsed": false
   }
  },
  {
   "cell_type": "code",
   "execution_count": 28,
   "outputs": [
    {
     "name": "stdout",
     "output_type": "stream",
     "text": [
      "(λx.x)\n",
      "time normalization: 0.0010008811950683594s\n"
     ]
    }
   ],
   "source": [
    "test_gcd_v01(3, 3)"
   ],
   "metadata": {
    "collapsed": false
   }
  }
 ],
 "metadata": {
  "kernelspec": {
   "display_name": "Python 3",
   "language": "python",
   "name": "python3"
  },
  "language_info": {
   "codemirror_mode": {
    "name": "ipython",
    "version": 2
   },
   "file_extension": ".py",
   "mimetype": "text/x-python",
   "name": "python",
   "nbconvert_exporter": "python",
   "pygments_lexer": "ipython2",
   "version": "2.7.6"
  }
 },
 "nbformat": 4,
 "nbformat_minor": 0
}
