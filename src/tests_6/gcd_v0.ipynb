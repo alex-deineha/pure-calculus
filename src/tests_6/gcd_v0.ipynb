{
 "cells": [
  {
   "cell_type": "markdown",
   "source": [
    "# GCD own algorithm\n",
    "[GCD detailed script](https://www.mathcha.io/editor/dGXnWtP8twWsGPdy2Ycl5ly7xhd9Xy8ptKleZqr)"
   ],
   "metadata": {
    "collapsed": false
   }
  },
  {
   "cell_type": "code",
   "execution_count": 1,
   "outputs": [],
   "source": [
    "import sys\n",
    "import time\n",
    "\n",
    "sys.path.append(\"../\")\n",
    "from calculus.term import *\n",
    "from calculus.strategy import *\n",
    "from calculus.advanced_terms import *"
   ],
   "metadata": {
    "collapsed": false
   }
  },
  {
   "cell_type": "markdown",
   "source": [
    "GCD≡Y (λf.λn.λm.\n",
    "$\\;\\;\\;$ ITE (OR (ISZERO n) (ISZERO m)) [1]\n",
    "$\\;\\;\\;\\;\\;\\;$ (ITE (EQ n m) n\n",
    "$\\;\\;\\;\\;\\;\\;$ (ITE (LE n m) (f n (SUBSTR m n)) (f m (SUBSTR n m))))))"
   ],
   "metadata": {
    "collapsed": false
   }
  },
  {
   "cell_type": "markdown",
   "source": [
    "GCD = Y ( λf.λn.λm.\n",
    "            (ITE (OR (ISZERO n) (ISZERO m) )\n",
    "                [1]\n",
    "                (ITE (EQ n m)\n",
    "                    n\n",
    "                    (ITE (LE n m)\n",
    "                        (f n (SUBSTR m n))\n",
    "                        (f m (SUBSTR n m))\n",
    "                     )\n",
    "                 )\n",
    "             )\n",
    "         )\n",
    "\n"
   ],
   "metadata": {
    "collapsed": false
   }
  },
  {
   "cell_type": "code",
   "execution_count": 9,
   "outputs": [],
   "source": [
    "def gcd_term_v0():\n",
    "    n, m, f = Var(), Var(), Var()\n",
    "    n_, m_, f_ = Atom(n), Atom(m), Atom(f)\n",
    "\n",
    "    swap_line = multi_app_term(\n",
    "        ite_term(),\n",
    "        multi_app_term(le_term(), n_, m_),\n",
    "        multi_app_term(f_, n_, multi_app_term(substr_term(), m_, n_)),\n",
    "        multi_app_term(f_, m_, multi_app_term(substr_term(), n_, m_)),\n",
    "    )\n",
    "\n",
    "    eq_nm_line = multi_app_term(ite_term(), multi_app_term(eq_term(), n_, m_), n_, swap_line)\n",
    "    zero_check = multi_app_term(or_term(), App(iszero_term(), n_), App(iszero_term(), m_))\n",
    "\n",
    "    inner_app = multi_app_term(ite_term(), zero_check, n_term(1), eq_nm_line)\n",
    "    inner_lambda = Lambda(f, Lambda(n, Lambda(m, inner_app)))\n",
    "    return App(y_term(), inner_lambda)"
   ],
   "metadata": {
    "collapsed": false
   }
  },
  {
   "cell_type": "code",
   "execution_count": 10,
   "outputs": [],
   "source": [
    "def test_gcd_v0(var_0=0, var_1=0, strategy=LeftmostOutermostStrategy()):\n",
    "    start_time = time.time()\n",
    "    term_ = multi_app_term(gcd_term_v0(), n_term(var_0), n_term(var_1))\n",
    "    res_term, steps = term_.normalize_no_lim(strategy)\n",
    "\n",
    "    # print(term_, \"\\n\\n\")\n",
    "    print(f\"Norm steps: {steps}\")\n",
    "    print(res_term)\n",
    "    print(f\"time normalization: {time.time() - start_time}s\")"
   ],
   "metadata": {
    "collapsed": false
   }
  },
  {
   "cell_type": "code",
   "execution_count": 11,
   "outputs": [
    {
     "name": "stdout",
     "output_type": "stream",
     "text": [
      "Norm steps: 23\n",
      "(λq.(λw.(q w)))\n",
      "time normalization: 0.331073522567749s\n"
     ]
    }
   ],
   "source": [
    "test_gcd_v0(0, 0, LeftmostOutermostStrategy())"
   ],
   "metadata": {
    "collapsed": false
   }
  },
  {
   "cell_type": "code",
   "execution_count": 12,
   "outputs": [
    {
     "name": "stdout",
     "output_type": "stream",
     "text": [
      "Norm steps: 89\n",
      "(λq.(λw.(q w)))\n",
      "time normalization: 1.4773309230804443s\n"
     ]
    }
   ],
   "source": [
    "test_gcd_v0(1, 1, LeftmostOutermostStrategy())"
   ],
   "metadata": {
    "collapsed": false
   }
  },
  {
   "cell_type": "code",
   "execution_count": 14,
   "outputs": [
    {
     "name": "stdout",
     "output_type": "stream",
     "text": [
      "Norm steps: 141\n",
      "(λq.(λw.(q (q w))))\n",
      "time normalization: 3.308054208755493s\n"
     ]
    }
   ],
   "source": [
    "test_gcd_v0(2, 2, LeftmostOutermostStrategy())"
   ],
   "metadata": {
    "collapsed": false
   }
  },
  {
   "cell_type": "code",
   "execution_count": 15,
   "outputs": [
    {
     "name": "stdout",
     "output_type": "stream",
     "text": [
      "Norm steps: 4470\n",
      "(λq.(λw.(q w)))\n",
      "time normalization: 124.23746085166931s\n"
     ]
    }
   ],
   "source": [
    "test_gcd_v0(3, 5, LeftmostOutermostStrategy())"
   ],
   "metadata": {
    "collapsed": false
   }
  },
  {
   "cell_type": "code",
   "execution_count": 16,
   "outputs": [
    {
     "name": "stdout",
     "output_type": "stream",
     "text": [
      "Norm steps: 4448\n",
      "(λq.(λw.(q w)))\n",
      "time normalization: 116.67287755012512s\n"
     ]
    }
   ],
   "source": [
    "test_gcd_v0(5, 3, LeftmostOutermostStrategy())"
   ],
   "metadata": {
    "collapsed": false
   }
  },
  {
   "cell_type": "code",
   "execution_count": 17,
   "outputs": [
    {
     "name": "stdout",
     "output_type": "stream",
     "text": [
      "Norm steps: 574\n",
      "(λq.(λw.(q (q w))))\n",
      "time normalization: 10.740335702896118s\n"
     ]
    }
   ],
   "source": [
    "test_gcd_v0(4, 2, LeftmostOutermostStrategy())"
   ],
   "metadata": {
    "collapsed": false
   }
  },
  {
   "cell_type": "code",
   "execution_count": 18,
   "outputs": [
    {
     "name": "stdout",
     "output_type": "stream",
     "text": [
      "Norm steps: 600\n",
      "(λq.(λw.(q (q w))))\n",
      "time normalization: 11.347922086715698s\n"
     ]
    }
   ],
   "source": [
    "test_gcd_v0(2, 4, LeftmostOutermostStrategy())"
   ],
   "metadata": {
    "collapsed": false
   }
  },
  {
   "cell_type": "markdown",
   "source": [
    "# test the v00 realization"
   ],
   "metadata": {
    "collapsed": false
   }
  },
  {
   "cell_type": "code",
   "execution_count": 7,
   "outputs": [],
   "source": [
    "def gcd_term_v00():\n",
    "    n, m, f = Var(), Var(), Var()\n",
    "    n_, m_, f_ = Atom(n), Atom(m), Atom(f)\n",
    "    sub_m_n = App(App(substr_term(), m_), n_)\n",
    "    sub_n_m = App(App(substr_term(), n_), m_)\n",
    "    iszero_n = App(iszero_term(), n_)\n",
    "    iszero_m = App(iszero_term(), m_)\n",
    "    f_n_sub = App(App(f_, n_), sub_m_n)\n",
    "    f_m_sub = App(App(f_, m_), sub_n_m)\n",
    "    le_n_m = App(App(le_term(), n_), m_)\n",
    "    eq_n_m = App(App(eq_term(), n_), m_)\n",
    "    or_is_zero = App(or_term(), App(iszero_n, iszero_m))\n",
    "    ite_le_sub_sub = App(App(App(ite_term(), le_n_m), f_n_sub), f_m_sub)\n",
    "    ite_eq_ite = App(App(App(ite_term(), eq_n_m), n_), ite_le_sub_sub)\n",
    "    or_is_ite = App(App(or_is_zero, n0_term()), ite_eq_ite)\n",
    "    inner_app = App(ite_term(), or_is_ite)\n",
    "    inner_lambda = Lambda(f, Lambda(n, Lambda(m, inner_app)))\n",
    "    return App(y_term(), inner_lambda)\n",
    "\n",
    "\n",
    "def test_gcd_v00(var_0=0, var_1=0, strategy=LeftmostOutermostStrategy()):\n",
    "    start_time = time.time()\n",
    "    term_ = multi_app_term(gcd_term_v00(), n_term(var_0), n_term(var_1))\n",
    "    res_term, steps = term_.normalize_no_lim(strategy)\n",
    "\n",
    "    # print(term_, \"\\n\\n\")\n",
    "    print(f\"Norm steps: {steps}\")\n",
    "    print(res_term)\n",
    "    print(f\"time normalization: {time.time() - start_time}s\")"
   ],
   "metadata": {
    "collapsed": false
   }
  },
  {
   "cell_type": "code",
   "execution_count": 8,
   "outputs": [
    {
     "name": "stdout",
     "output_type": "stream",
     "text": [
      "Norm steps: 84\n",
      "(λq.q)\n",
      "time normalization: 5.859494209289551s\n"
     ]
    }
   ],
   "source": [
    "test_gcd_v00(0, 0, LeftmostOutermostStrategy())"
   ],
   "metadata": {
    "collapsed": false
   }
  },
  {
   "cell_type": "code",
   "execution_count": 9,
   "outputs": [
    {
     "name": "stdout",
     "output_type": "stream",
     "text": [
      "Norm steps: 84\n",
      "(λq.q)\n",
      "time normalization: 5.376316070556641s\n"
     ]
    }
   ],
   "source": [
    "test_gcd_v00(0, 1, LeftmostOutermostStrategy())"
   ],
   "metadata": {
    "collapsed": false
   }
  },
  {
   "cell_type": "code",
   "execution_count": 10,
   "outputs": [
    {
     "ename": "KeyboardInterrupt",
     "evalue": "",
     "output_type": "error",
     "traceback": [
      "\u001B[1;31m---------------------------------------------------------------------------\u001B[0m",
      "\u001B[1;31mKeyboardInterrupt\u001B[0m                         Traceback (most recent call last)",
      "Cell \u001B[1;32mIn[10], line 1\u001B[0m\n\u001B[1;32m----> 1\u001B[0m \u001B[43mtest_gcd_v00\u001B[49m\u001B[43m(\u001B[49m\u001B[38;5;241;43m1\u001B[39;49m\u001B[43m,\u001B[49m\u001B[43m \u001B[49m\u001B[38;5;241;43m0\u001B[39;49m\u001B[43m,\u001B[49m\u001B[43m \u001B[49m\u001B[43mLeftmostOutermostStrategy\u001B[49m\u001B[43m(\u001B[49m\u001B[43m)\u001B[49m\u001B[43m)\u001B[49m\n",
      "Cell \u001B[1;32mIn[7], line 24\u001B[0m, in \u001B[0;36mtest_gcd_v00\u001B[1;34m(var_0, var_1, strategy)\u001B[0m\n\u001B[0;32m     22\u001B[0m start_time \u001B[38;5;241m=\u001B[39m time\u001B[38;5;241m.\u001B[39mtime()\n\u001B[0;32m     23\u001B[0m term_ \u001B[38;5;241m=\u001B[39m multi_app_term(gcd_term_v00(), n_term(var_0), n_term(var_1))\n\u001B[1;32m---> 24\u001B[0m res_term, steps \u001B[38;5;241m=\u001B[39m \u001B[43mterm_\u001B[49m\u001B[38;5;241;43m.\u001B[39;49m\u001B[43mnormalize_no_lim\u001B[49m\u001B[43m(\u001B[49m\u001B[43mstrategy\u001B[49m\u001B[43m)\u001B[49m\n\u001B[0;32m     26\u001B[0m \u001B[38;5;66;03m# print(term_, \"\\n\\n\")\u001B[39;00m\n\u001B[0;32m     27\u001B[0m \u001B[38;5;28mprint\u001B[39m(\u001B[38;5;124mf\u001B[39m\u001B[38;5;124m\"\u001B[39m\u001B[38;5;124mNorm steps: \u001B[39m\u001B[38;5;132;01m{\u001B[39;00msteps\u001B[38;5;132;01m}\u001B[39;00m\u001B[38;5;124m\"\u001B[39m)\n",
      "File \u001B[1;32mD:\\documents\\python_projects\\pure-calculus\\src\\calculus\\term.py:177\u001B[0m, in \u001B[0;36mTerm.normalize_no_lim\u001B[1;34m(self, strategy)\u001B[0m\n\u001B[0;32m    175\u001B[0m \u001B[38;5;28;01mwhile\u001B[39;00m term\u001B[38;5;241m.\u001B[39mredexes \u001B[38;5;241m!=\u001B[39m []:\n\u001B[0;32m    176\u001B[0m     term \u001B[38;5;241m=\u001B[39m term\u001B[38;5;241m.\u001B[39m_betaConversion(strategy)\n\u001B[1;32m--> 177\u001B[0m     term \u001B[38;5;241m=\u001B[39m \u001B[43mterm\u001B[49m\u001B[38;5;241;43m.\u001B[39;49m\u001B[43m_updateBoundVariables\u001B[49m\u001B[43m(\u001B[49m\u001B[43m)\u001B[49m\n\u001B[0;32m    178\u001B[0m     count \u001B[38;5;241m+\u001B[39m\u001B[38;5;241m=\u001B[39m \u001B[38;5;241m1\u001B[39m\n\u001B[0;32m    179\u001B[0m \u001B[38;5;28;01mreturn\u001B[39;00m term, count\n",
      "File \u001B[1;32mD:\\documents\\python_projects\\pure-calculus\\src\\calculus\\term.py:271\u001B[0m, in \u001B[0;36mTerm._updateBoundVariables\u001B[1;34m(self)\u001B[0m\n\u001B[0;32m    265\u001B[0m \u001B[38;5;28;01melse\u001B[39;00m:  \u001B[38;5;66;03m# self is Abstraction\u001B[39;00m\n\u001B[0;32m    266\u001B[0m     newVar \u001B[38;5;241m=\u001B[39m Var()\n\u001B[0;32m    267\u001B[0m     \u001B[38;5;28;01mreturn\u001B[39;00m Abstraction(\n\u001B[0;32m    268\u001B[0m         newVar,\n\u001B[0;32m    269\u001B[0m         \u001B[38;5;28;43mself\u001B[39;49m\u001B[38;5;241;43m.\u001B[39;49m\u001B[43m_body\u001B[49m\u001B[38;5;241;43m.\u001B[39;49m\u001B[43m_replaceVariable\u001B[49m\u001B[43m(\u001B[49m\n\u001B[0;32m    270\u001B[0m \u001B[43m            \u001B[49m\u001B[38;5;28;43mself\u001B[39;49m\u001B[38;5;241;43m.\u001B[39;49m\u001B[43m_head\u001B[49m\u001B[43m,\u001B[49m\u001B[43m \u001B[49m\u001B[43mAtom\u001B[49m\u001B[43m(\u001B[49m\u001B[43mnewVar\u001B[49m\u001B[43m)\u001B[49m\n\u001B[1;32m--> 271\u001B[0m \u001B[43m        \u001B[49m\u001B[43m)\u001B[49m\u001B[38;5;241;43m.\u001B[39;49m\u001B[43m_updateBoundVariables\u001B[49m\u001B[43m(\u001B[49m\u001B[43m)\u001B[49m,\n\u001B[0;32m    272\u001B[0m     )\n",
      "File \u001B[1;32mD:\\documents\\python_projects\\pure-calculus\\src\\calculus\\term.py:271\u001B[0m, in \u001B[0;36mTerm._updateBoundVariables\u001B[1;34m(self)\u001B[0m\n\u001B[0;32m    265\u001B[0m \u001B[38;5;28;01melse\u001B[39;00m:  \u001B[38;5;66;03m# self is Abstraction\u001B[39;00m\n\u001B[0;32m    266\u001B[0m     newVar \u001B[38;5;241m=\u001B[39m Var()\n\u001B[0;32m    267\u001B[0m     \u001B[38;5;28;01mreturn\u001B[39;00m Abstraction(\n\u001B[0;32m    268\u001B[0m         newVar,\n\u001B[0;32m    269\u001B[0m         \u001B[38;5;28;43mself\u001B[39;49m\u001B[38;5;241;43m.\u001B[39;49m\u001B[43m_body\u001B[49m\u001B[38;5;241;43m.\u001B[39;49m\u001B[43m_replaceVariable\u001B[49m\u001B[43m(\u001B[49m\n\u001B[0;32m    270\u001B[0m \u001B[43m            \u001B[49m\u001B[38;5;28;43mself\u001B[39;49m\u001B[38;5;241;43m.\u001B[39;49m\u001B[43m_head\u001B[49m\u001B[43m,\u001B[49m\u001B[43m \u001B[49m\u001B[43mAtom\u001B[49m\u001B[43m(\u001B[49m\u001B[43mnewVar\u001B[49m\u001B[43m)\u001B[49m\n\u001B[1;32m--> 271\u001B[0m \u001B[43m        \u001B[49m\u001B[43m)\u001B[49m\u001B[38;5;241;43m.\u001B[39;49m\u001B[43m_updateBoundVariables\u001B[49m\u001B[43m(\u001B[49m\u001B[43m)\u001B[49m,\n\u001B[0;32m    272\u001B[0m     )\n",
      "File \u001B[1;32mD:\\documents\\python_projects\\pure-calculus\\src\\calculus\\term.py:263\u001B[0m, in \u001B[0;36mTerm._updateBoundVariables\u001B[1;34m(self)\u001B[0m\n\u001B[0;32m    260\u001B[0m     \u001B[38;5;28;01mreturn\u001B[39;00m \u001B[38;5;28mself\u001B[39m\n\u001B[0;32m    261\u001B[0m \u001B[38;5;28;01melif\u001B[39;00m \u001B[38;5;28mself\u001B[39m\u001B[38;5;241m.\u001B[39misApplication:\n\u001B[0;32m    262\u001B[0m     \u001B[38;5;28;01mreturn\u001B[39;00m Application(\n\u001B[1;32m--> 263\u001B[0m         \u001B[38;5;28;43mself\u001B[39;49m\u001B[38;5;241;43m.\u001B[39;49m\u001B[43m_sub\u001B[49m\u001B[38;5;241;43m.\u001B[39;49m\u001B[43m_updateBoundVariables\u001B[49m\u001B[43m(\u001B[49m\u001B[43m)\u001B[49m, \u001B[38;5;28mself\u001B[39m\u001B[38;5;241m.\u001B[39m_obj\u001B[38;5;241m.\u001B[39m_updateBoundVariables()\n\u001B[0;32m    264\u001B[0m     )\n\u001B[0;32m    265\u001B[0m \u001B[38;5;28;01melse\u001B[39;00m:  \u001B[38;5;66;03m# self is Abstraction\u001B[39;00m\n\u001B[0;32m    266\u001B[0m     newVar \u001B[38;5;241m=\u001B[39m Var()\n",
      "File \u001B[1;32mD:\\documents\\python_projects\\pure-calculus\\src\\calculus\\term.py:263\u001B[0m, in \u001B[0;36mTerm._updateBoundVariables\u001B[1;34m(self)\u001B[0m\n\u001B[0;32m    260\u001B[0m     \u001B[38;5;28;01mreturn\u001B[39;00m \u001B[38;5;28mself\u001B[39m\n\u001B[0;32m    261\u001B[0m \u001B[38;5;28;01melif\u001B[39;00m \u001B[38;5;28mself\u001B[39m\u001B[38;5;241m.\u001B[39misApplication:\n\u001B[0;32m    262\u001B[0m     \u001B[38;5;28;01mreturn\u001B[39;00m Application(\n\u001B[1;32m--> 263\u001B[0m         \u001B[38;5;28;43mself\u001B[39;49m\u001B[38;5;241;43m.\u001B[39;49m\u001B[43m_sub\u001B[49m\u001B[38;5;241;43m.\u001B[39;49m\u001B[43m_updateBoundVariables\u001B[49m\u001B[43m(\u001B[49m\u001B[43m)\u001B[49m, \u001B[38;5;28mself\u001B[39m\u001B[38;5;241m.\u001B[39m_obj\u001B[38;5;241m.\u001B[39m_updateBoundVariables()\n\u001B[0;32m    264\u001B[0m     )\n\u001B[0;32m    265\u001B[0m \u001B[38;5;28;01melse\u001B[39;00m:  \u001B[38;5;66;03m# self is Abstraction\u001B[39;00m\n\u001B[0;32m    266\u001B[0m     newVar \u001B[38;5;241m=\u001B[39m Var()\n",
      "    \u001B[1;31m[... skipping similar frames: Term._updateBoundVariables at line 263 (11 times)]\u001B[0m\n",
      "File \u001B[1;32mD:\\documents\\python_projects\\pure-calculus\\src\\calculus\\term.py:263\u001B[0m, in \u001B[0;36mTerm._updateBoundVariables\u001B[1;34m(self)\u001B[0m\n\u001B[0;32m    260\u001B[0m     \u001B[38;5;28;01mreturn\u001B[39;00m \u001B[38;5;28mself\u001B[39m\n\u001B[0;32m    261\u001B[0m \u001B[38;5;28;01melif\u001B[39;00m \u001B[38;5;28mself\u001B[39m\u001B[38;5;241m.\u001B[39misApplication:\n\u001B[0;32m    262\u001B[0m     \u001B[38;5;28;01mreturn\u001B[39;00m Application(\n\u001B[1;32m--> 263\u001B[0m         \u001B[38;5;28mself\u001B[39m\u001B[38;5;241m.\u001B[39m_sub\u001B[38;5;241m.\u001B[39m_updateBoundVariables(), \u001B[38;5;28;43mself\u001B[39;49m\u001B[38;5;241;43m.\u001B[39;49m\u001B[43m_obj\u001B[49m\u001B[38;5;241;43m.\u001B[39;49m\u001B[43m_updateBoundVariables\u001B[49m\u001B[43m(\u001B[49m\u001B[43m)\u001B[49m\n\u001B[0;32m    264\u001B[0m     )\n\u001B[0;32m    265\u001B[0m \u001B[38;5;28;01melse\u001B[39;00m:  \u001B[38;5;66;03m# self is Abstraction\u001B[39;00m\n\u001B[0;32m    266\u001B[0m     newVar \u001B[38;5;241m=\u001B[39m Var()\n",
      "File \u001B[1;32mD:\\documents\\python_projects\\pure-calculus\\src\\calculus\\term.py:271\u001B[0m, in \u001B[0;36mTerm._updateBoundVariables\u001B[1;34m(self)\u001B[0m\n\u001B[0;32m    265\u001B[0m \u001B[38;5;28;01melse\u001B[39;00m:  \u001B[38;5;66;03m# self is Abstraction\u001B[39;00m\n\u001B[0;32m    266\u001B[0m     newVar \u001B[38;5;241m=\u001B[39m Var()\n\u001B[0;32m    267\u001B[0m     \u001B[38;5;28;01mreturn\u001B[39;00m Abstraction(\n\u001B[0;32m    268\u001B[0m         newVar,\n\u001B[0;32m    269\u001B[0m         \u001B[38;5;28;43mself\u001B[39;49m\u001B[38;5;241;43m.\u001B[39;49m\u001B[43m_body\u001B[49m\u001B[38;5;241;43m.\u001B[39;49m\u001B[43m_replaceVariable\u001B[49m\u001B[43m(\u001B[49m\n\u001B[0;32m    270\u001B[0m \u001B[43m            \u001B[49m\u001B[38;5;28;43mself\u001B[39;49m\u001B[38;5;241;43m.\u001B[39;49m\u001B[43m_head\u001B[49m\u001B[43m,\u001B[49m\u001B[43m \u001B[49m\u001B[43mAtom\u001B[49m\u001B[43m(\u001B[49m\u001B[43mnewVar\u001B[49m\u001B[43m)\u001B[49m\n\u001B[1;32m--> 271\u001B[0m \u001B[43m        \u001B[49m\u001B[43m)\u001B[49m\u001B[38;5;241;43m.\u001B[39;49m\u001B[43m_updateBoundVariables\u001B[49m\u001B[43m(\u001B[49m\u001B[43m)\u001B[49m,\n\u001B[0;32m    272\u001B[0m     )\n",
      "File \u001B[1;32mD:\\documents\\python_projects\\pure-calculus\\src\\calculus\\term.py:263\u001B[0m, in \u001B[0;36mTerm._updateBoundVariables\u001B[1;34m(self)\u001B[0m\n\u001B[0;32m    260\u001B[0m     \u001B[38;5;28;01mreturn\u001B[39;00m \u001B[38;5;28mself\u001B[39m\n\u001B[0;32m    261\u001B[0m \u001B[38;5;28;01melif\u001B[39;00m \u001B[38;5;28mself\u001B[39m\u001B[38;5;241m.\u001B[39misApplication:\n\u001B[0;32m    262\u001B[0m     \u001B[38;5;28;01mreturn\u001B[39;00m Application(\n\u001B[1;32m--> 263\u001B[0m         \u001B[38;5;28;43mself\u001B[39;49m\u001B[38;5;241;43m.\u001B[39;49m\u001B[43m_sub\u001B[49m\u001B[38;5;241;43m.\u001B[39;49m\u001B[43m_updateBoundVariables\u001B[49m\u001B[43m(\u001B[49m\u001B[43m)\u001B[49m, \u001B[38;5;28mself\u001B[39m\u001B[38;5;241m.\u001B[39m_obj\u001B[38;5;241m.\u001B[39m_updateBoundVariables()\n\u001B[0;32m    264\u001B[0m     )\n\u001B[0;32m    265\u001B[0m \u001B[38;5;28;01melse\u001B[39;00m:  \u001B[38;5;66;03m# self is Abstraction\u001B[39;00m\n\u001B[0;32m    266\u001B[0m     newVar \u001B[38;5;241m=\u001B[39m Var()\n",
      "File \u001B[1;32mD:\\documents\\python_projects\\pure-calculus\\src\\calculus\\term.py:263\u001B[0m, in \u001B[0;36mTerm._updateBoundVariables\u001B[1;34m(self)\u001B[0m\n\u001B[0;32m    260\u001B[0m     \u001B[38;5;28;01mreturn\u001B[39;00m \u001B[38;5;28mself\u001B[39m\n\u001B[0;32m    261\u001B[0m \u001B[38;5;28;01melif\u001B[39;00m \u001B[38;5;28mself\u001B[39m\u001B[38;5;241m.\u001B[39misApplication:\n\u001B[0;32m    262\u001B[0m     \u001B[38;5;28;01mreturn\u001B[39;00m Application(\n\u001B[1;32m--> 263\u001B[0m         \u001B[38;5;28;43mself\u001B[39;49m\u001B[38;5;241;43m.\u001B[39;49m\u001B[43m_sub\u001B[49m\u001B[38;5;241;43m.\u001B[39;49m\u001B[43m_updateBoundVariables\u001B[49m\u001B[43m(\u001B[49m\u001B[43m)\u001B[49m, \u001B[38;5;28mself\u001B[39m\u001B[38;5;241m.\u001B[39m_obj\u001B[38;5;241m.\u001B[39m_updateBoundVariables()\n\u001B[0;32m    264\u001B[0m     )\n\u001B[0;32m    265\u001B[0m \u001B[38;5;28;01melse\u001B[39;00m:  \u001B[38;5;66;03m# self is Abstraction\u001B[39;00m\n\u001B[0;32m    266\u001B[0m     newVar \u001B[38;5;241m=\u001B[39m Var()\n",
      "File \u001B[1;32mD:\\documents\\python_projects\\pure-calculus\\src\\calculus\\term.py:269\u001B[0m, in \u001B[0;36mTerm._updateBoundVariables\u001B[1;34m(self)\u001B[0m\n\u001B[0;32m    265\u001B[0m \u001B[38;5;28;01melse\u001B[39;00m:  \u001B[38;5;66;03m# self is Abstraction\u001B[39;00m\n\u001B[0;32m    266\u001B[0m     newVar \u001B[38;5;241m=\u001B[39m Var()\n\u001B[0;32m    267\u001B[0m     \u001B[38;5;28;01mreturn\u001B[39;00m Abstraction(\n\u001B[0;32m    268\u001B[0m         newVar,\n\u001B[1;32m--> 269\u001B[0m         \u001B[38;5;28;43mself\u001B[39;49m\u001B[38;5;241;43m.\u001B[39;49m\u001B[43m_body\u001B[49m\u001B[38;5;241;43m.\u001B[39;49m\u001B[43m_replaceVariable\u001B[49m\u001B[43m(\u001B[49m\n\u001B[0;32m    270\u001B[0m \u001B[43m            \u001B[49m\u001B[38;5;28;43mself\u001B[39;49m\u001B[38;5;241;43m.\u001B[39;49m\u001B[43m_head\u001B[49m\u001B[43m,\u001B[49m\u001B[43m \u001B[49m\u001B[43mAtom\u001B[49m\u001B[43m(\u001B[49m\u001B[43mnewVar\u001B[49m\u001B[43m)\u001B[49m\n\u001B[0;32m    271\u001B[0m \u001B[43m        \u001B[49m\u001B[43m)\u001B[49m\u001B[38;5;241m.\u001B[39m_updateBoundVariables(),\n\u001B[0;32m    272\u001B[0m     )\n",
      "File \u001B[1;32mD:\\documents\\python_projects\\pure-calculus\\src\\calculus\\term.py:293\u001B[0m, in \u001B[0;36mTerm._replaceVariable\u001B[1;34m(self, var, term)\u001B[0m\n\u001B[0;32m    288\u001B[0m     \u001B[38;5;28;01mreturn\u001B[39;00m Application(\n\u001B[0;32m    289\u001B[0m         \u001B[38;5;28mself\u001B[39m\u001B[38;5;241m.\u001B[39m_sub\u001B[38;5;241m.\u001B[39m_replaceVariable(var, term),\n\u001B[0;32m    290\u001B[0m         \u001B[38;5;28mself\u001B[39m\u001B[38;5;241m.\u001B[39m_obj\u001B[38;5;241m.\u001B[39m_replaceVariable(var, term),\n\u001B[0;32m    291\u001B[0m     )\n\u001B[0;32m    292\u001B[0m \u001B[38;5;28;01melse\u001B[39;00m:  \u001B[38;5;66;03m# self is Abstraction\u001B[39;00m\n\u001B[1;32m--> 293\u001B[0m     \u001B[38;5;28;01mreturn\u001B[39;00m Abstraction(\u001B[38;5;28mself\u001B[39m\u001B[38;5;241m.\u001B[39m_head, \u001B[38;5;28;43mself\u001B[39;49m\u001B[38;5;241;43m.\u001B[39;49m\u001B[43m_body\u001B[49m\u001B[38;5;241;43m.\u001B[39;49m\u001B[43m_replaceVariable\u001B[49m\u001B[43m(\u001B[49m\u001B[43mvar\u001B[49m\u001B[43m,\u001B[49m\u001B[43m \u001B[49m\u001B[43mterm\u001B[49m\u001B[43m)\u001B[49m)\n",
      "File \u001B[1;32mD:\\documents\\python_projects\\pure-calculus\\src\\calculus\\term.py:293\u001B[0m, in \u001B[0;36mTerm._replaceVariable\u001B[1;34m(self, var, term)\u001B[0m\n\u001B[0;32m    288\u001B[0m     \u001B[38;5;28;01mreturn\u001B[39;00m Application(\n\u001B[0;32m    289\u001B[0m         \u001B[38;5;28mself\u001B[39m\u001B[38;5;241m.\u001B[39m_sub\u001B[38;5;241m.\u001B[39m_replaceVariable(var, term),\n\u001B[0;32m    290\u001B[0m         \u001B[38;5;28mself\u001B[39m\u001B[38;5;241m.\u001B[39m_obj\u001B[38;5;241m.\u001B[39m_replaceVariable(var, term),\n\u001B[0;32m    291\u001B[0m     )\n\u001B[0;32m    292\u001B[0m \u001B[38;5;28;01melse\u001B[39;00m:  \u001B[38;5;66;03m# self is Abstraction\u001B[39;00m\n\u001B[1;32m--> 293\u001B[0m     \u001B[38;5;28;01mreturn\u001B[39;00m Abstraction(\u001B[38;5;28mself\u001B[39m\u001B[38;5;241m.\u001B[39m_head, \u001B[38;5;28;43mself\u001B[39;49m\u001B[38;5;241;43m.\u001B[39;49m\u001B[43m_body\u001B[49m\u001B[38;5;241;43m.\u001B[39;49m\u001B[43m_replaceVariable\u001B[49m\u001B[43m(\u001B[49m\u001B[43mvar\u001B[49m\u001B[43m,\u001B[49m\u001B[43m \u001B[49m\u001B[43mterm\u001B[49m\u001B[43m)\u001B[49m)\n",
      "File \u001B[1;32mD:\\documents\\python_projects\\pure-calculus\\src\\calculus\\term.py:290\u001B[0m, in \u001B[0;36mTerm._replaceVariable\u001B[1;34m(self, var, term)\u001B[0m\n\u001B[0;32m    286\u001B[0m     \u001B[38;5;28;01mreturn\u001B[39;00m term \u001B[38;5;28;01mif\u001B[39;00m \u001B[38;5;28mself\u001B[39m\u001B[38;5;241m.\u001B[39m_var \u001B[38;5;241m==\u001B[39m var \u001B[38;5;28;01melse\u001B[39;00m \u001B[38;5;28mself\u001B[39m\n\u001B[0;32m    287\u001B[0m \u001B[38;5;28;01melif\u001B[39;00m \u001B[38;5;28mself\u001B[39m\u001B[38;5;241m.\u001B[39misApplication:\n\u001B[0;32m    288\u001B[0m     \u001B[38;5;28;01mreturn\u001B[39;00m Application(\n\u001B[0;32m    289\u001B[0m         \u001B[38;5;28mself\u001B[39m\u001B[38;5;241m.\u001B[39m_sub\u001B[38;5;241m.\u001B[39m_replaceVariable(var, term),\n\u001B[1;32m--> 290\u001B[0m         \u001B[38;5;28;43mself\u001B[39;49m\u001B[38;5;241;43m.\u001B[39;49m\u001B[43m_obj\u001B[49m\u001B[38;5;241;43m.\u001B[39;49m\u001B[43m_replaceVariable\u001B[49m\u001B[43m(\u001B[49m\u001B[43mvar\u001B[49m\u001B[43m,\u001B[49m\u001B[43m \u001B[49m\u001B[43mterm\u001B[49m\u001B[43m)\u001B[49m,\n\u001B[0;32m    291\u001B[0m     )\n\u001B[0;32m    292\u001B[0m \u001B[38;5;28;01melse\u001B[39;00m:  \u001B[38;5;66;03m# self is Abstraction\u001B[39;00m\n\u001B[0;32m    293\u001B[0m     \u001B[38;5;28;01mreturn\u001B[39;00m Abstraction(\u001B[38;5;28mself\u001B[39m\u001B[38;5;241m.\u001B[39m_head, \u001B[38;5;28mself\u001B[39m\u001B[38;5;241m.\u001B[39m_body\u001B[38;5;241m.\u001B[39m_replaceVariable(var, term))\n",
      "File \u001B[1;32mD:\\documents\\python_projects\\pure-calculus\\src\\calculus\\term.py:290\u001B[0m, in \u001B[0;36mTerm._replaceVariable\u001B[1;34m(self, var, term)\u001B[0m\n\u001B[0;32m    286\u001B[0m     \u001B[38;5;28;01mreturn\u001B[39;00m term \u001B[38;5;28;01mif\u001B[39;00m \u001B[38;5;28mself\u001B[39m\u001B[38;5;241m.\u001B[39m_var \u001B[38;5;241m==\u001B[39m var \u001B[38;5;28;01melse\u001B[39;00m \u001B[38;5;28mself\u001B[39m\n\u001B[0;32m    287\u001B[0m \u001B[38;5;28;01melif\u001B[39;00m \u001B[38;5;28mself\u001B[39m\u001B[38;5;241m.\u001B[39misApplication:\n\u001B[0;32m    288\u001B[0m     \u001B[38;5;28;01mreturn\u001B[39;00m Application(\n\u001B[0;32m    289\u001B[0m         \u001B[38;5;28mself\u001B[39m\u001B[38;5;241m.\u001B[39m_sub\u001B[38;5;241m.\u001B[39m_replaceVariable(var, term),\n\u001B[1;32m--> 290\u001B[0m         \u001B[38;5;28;43mself\u001B[39;49m\u001B[38;5;241;43m.\u001B[39;49m\u001B[43m_obj\u001B[49m\u001B[38;5;241;43m.\u001B[39;49m\u001B[43m_replaceVariable\u001B[49m\u001B[43m(\u001B[49m\u001B[43mvar\u001B[49m\u001B[43m,\u001B[49m\u001B[43m \u001B[49m\u001B[43mterm\u001B[49m\u001B[43m)\u001B[49m,\n\u001B[0;32m    291\u001B[0m     )\n\u001B[0;32m    292\u001B[0m \u001B[38;5;28;01melse\u001B[39;00m:  \u001B[38;5;66;03m# self is Abstraction\u001B[39;00m\n\u001B[0;32m    293\u001B[0m     \u001B[38;5;28;01mreturn\u001B[39;00m Abstraction(\u001B[38;5;28mself\u001B[39m\u001B[38;5;241m.\u001B[39m_head, \u001B[38;5;28mself\u001B[39m\u001B[38;5;241m.\u001B[39m_body\u001B[38;5;241m.\u001B[39m_replaceVariable(var, term))\n",
      "File \u001B[1;32mD:\\documents\\python_projects\\pure-calculus\\src\\calculus\\term.py:289\u001B[0m, in \u001B[0;36mTerm._replaceVariable\u001B[1;34m(self, var, term)\u001B[0m\n\u001B[0;32m    286\u001B[0m     \u001B[38;5;28;01mreturn\u001B[39;00m term \u001B[38;5;28;01mif\u001B[39;00m \u001B[38;5;28mself\u001B[39m\u001B[38;5;241m.\u001B[39m_var \u001B[38;5;241m==\u001B[39m var \u001B[38;5;28;01melse\u001B[39;00m \u001B[38;5;28mself\u001B[39m\n\u001B[0;32m    287\u001B[0m \u001B[38;5;28;01melif\u001B[39;00m \u001B[38;5;28mself\u001B[39m\u001B[38;5;241m.\u001B[39misApplication:\n\u001B[0;32m    288\u001B[0m     \u001B[38;5;28;01mreturn\u001B[39;00m Application(\n\u001B[1;32m--> 289\u001B[0m         \u001B[38;5;28;43mself\u001B[39;49m\u001B[38;5;241;43m.\u001B[39;49m\u001B[43m_sub\u001B[49m\u001B[38;5;241;43m.\u001B[39;49m\u001B[43m_replaceVariable\u001B[49m\u001B[43m(\u001B[49m\u001B[43mvar\u001B[49m\u001B[43m,\u001B[49m\u001B[43m \u001B[49m\u001B[43mterm\u001B[49m\u001B[43m)\u001B[49m,\n\u001B[0;32m    290\u001B[0m         \u001B[38;5;28mself\u001B[39m\u001B[38;5;241m.\u001B[39m_obj\u001B[38;5;241m.\u001B[39m_replaceVariable(var, term),\n\u001B[0;32m    291\u001B[0m     )\n\u001B[0;32m    292\u001B[0m \u001B[38;5;28;01melse\u001B[39;00m:  \u001B[38;5;66;03m# self is Abstraction\u001B[39;00m\n\u001B[0;32m    293\u001B[0m     \u001B[38;5;28;01mreturn\u001B[39;00m Abstraction(\u001B[38;5;28mself\u001B[39m\u001B[38;5;241m.\u001B[39m_head, \u001B[38;5;28mself\u001B[39m\u001B[38;5;241m.\u001B[39m_body\u001B[38;5;241m.\u001B[39m_replaceVariable(var, term))\n",
      "File \u001B[1;32mD:\\documents\\python_projects\\pure-calculus\\src\\calculus\\term.py:289\u001B[0m, in \u001B[0;36mTerm._replaceVariable\u001B[1;34m(self, var, term)\u001B[0m\n\u001B[0;32m    286\u001B[0m     \u001B[38;5;28;01mreturn\u001B[39;00m term \u001B[38;5;28;01mif\u001B[39;00m \u001B[38;5;28mself\u001B[39m\u001B[38;5;241m.\u001B[39m_var \u001B[38;5;241m==\u001B[39m var \u001B[38;5;28;01melse\u001B[39;00m \u001B[38;5;28mself\u001B[39m\n\u001B[0;32m    287\u001B[0m \u001B[38;5;28;01melif\u001B[39;00m \u001B[38;5;28mself\u001B[39m\u001B[38;5;241m.\u001B[39misApplication:\n\u001B[0;32m    288\u001B[0m     \u001B[38;5;28;01mreturn\u001B[39;00m Application(\n\u001B[1;32m--> 289\u001B[0m         \u001B[38;5;28;43mself\u001B[39;49m\u001B[38;5;241;43m.\u001B[39;49m\u001B[43m_sub\u001B[49m\u001B[38;5;241;43m.\u001B[39;49m\u001B[43m_replaceVariable\u001B[49m\u001B[43m(\u001B[49m\u001B[43mvar\u001B[49m\u001B[43m,\u001B[49m\u001B[43m \u001B[49m\u001B[43mterm\u001B[49m\u001B[43m)\u001B[49m,\n\u001B[0;32m    290\u001B[0m         \u001B[38;5;28mself\u001B[39m\u001B[38;5;241m.\u001B[39m_obj\u001B[38;5;241m.\u001B[39m_replaceVariable(var, term),\n\u001B[0;32m    291\u001B[0m     )\n\u001B[0;32m    292\u001B[0m \u001B[38;5;28;01melse\u001B[39;00m:  \u001B[38;5;66;03m# self is Abstraction\u001B[39;00m\n\u001B[0;32m    293\u001B[0m     \u001B[38;5;28;01mreturn\u001B[39;00m Abstraction(\u001B[38;5;28mself\u001B[39m\u001B[38;5;241m.\u001B[39m_head, \u001B[38;5;28mself\u001B[39m\u001B[38;5;241m.\u001B[39m_body\u001B[38;5;241m.\u001B[39m_replaceVariable(var, term))\n",
      "File \u001B[1;32mD:\\documents\\python_projects\\pure-calculus\\src\\calculus\\term.py:289\u001B[0m, in \u001B[0;36mTerm._replaceVariable\u001B[1;34m(self, var, term)\u001B[0m\n\u001B[0;32m    286\u001B[0m     \u001B[38;5;28;01mreturn\u001B[39;00m term \u001B[38;5;28;01mif\u001B[39;00m \u001B[38;5;28mself\u001B[39m\u001B[38;5;241m.\u001B[39m_var \u001B[38;5;241m==\u001B[39m var \u001B[38;5;28;01melse\u001B[39;00m \u001B[38;5;28mself\u001B[39m\n\u001B[0;32m    287\u001B[0m \u001B[38;5;28;01melif\u001B[39;00m \u001B[38;5;28mself\u001B[39m\u001B[38;5;241m.\u001B[39misApplication:\n\u001B[0;32m    288\u001B[0m     \u001B[38;5;28;01mreturn\u001B[39;00m Application(\n\u001B[1;32m--> 289\u001B[0m         \u001B[38;5;28;43mself\u001B[39;49m\u001B[38;5;241;43m.\u001B[39;49m\u001B[43m_sub\u001B[49m\u001B[38;5;241;43m.\u001B[39;49m\u001B[43m_replaceVariable\u001B[49m\u001B[43m(\u001B[49m\u001B[43mvar\u001B[49m\u001B[43m,\u001B[49m\u001B[43m \u001B[49m\u001B[43mterm\u001B[49m\u001B[43m)\u001B[49m,\n\u001B[0;32m    290\u001B[0m         \u001B[38;5;28mself\u001B[39m\u001B[38;5;241m.\u001B[39m_obj\u001B[38;5;241m.\u001B[39m_replaceVariable(var, term),\n\u001B[0;32m    291\u001B[0m     )\n\u001B[0;32m    292\u001B[0m \u001B[38;5;28;01melse\u001B[39;00m:  \u001B[38;5;66;03m# self is Abstraction\u001B[39;00m\n\u001B[0;32m    293\u001B[0m     \u001B[38;5;28;01mreturn\u001B[39;00m Abstraction(\u001B[38;5;28mself\u001B[39m\u001B[38;5;241m.\u001B[39m_head, \u001B[38;5;28mself\u001B[39m\u001B[38;5;241m.\u001B[39m_body\u001B[38;5;241m.\u001B[39m_replaceVariable(var, term))\n",
      "File \u001B[1;32mD:\\documents\\python_projects\\pure-calculus\\src\\calculus\\term.py:293\u001B[0m, in \u001B[0;36mTerm._replaceVariable\u001B[1;34m(self, var, term)\u001B[0m\n\u001B[0;32m    288\u001B[0m     \u001B[38;5;28;01mreturn\u001B[39;00m Application(\n\u001B[0;32m    289\u001B[0m         \u001B[38;5;28mself\u001B[39m\u001B[38;5;241m.\u001B[39m_sub\u001B[38;5;241m.\u001B[39m_replaceVariable(var, term),\n\u001B[0;32m    290\u001B[0m         \u001B[38;5;28mself\u001B[39m\u001B[38;5;241m.\u001B[39m_obj\u001B[38;5;241m.\u001B[39m_replaceVariable(var, term),\n\u001B[0;32m    291\u001B[0m     )\n\u001B[0;32m    292\u001B[0m \u001B[38;5;28;01melse\u001B[39;00m:  \u001B[38;5;66;03m# self is Abstraction\u001B[39;00m\n\u001B[1;32m--> 293\u001B[0m     \u001B[38;5;28;01mreturn\u001B[39;00m Abstraction(\u001B[38;5;28mself\u001B[39m\u001B[38;5;241m.\u001B[39m_head, \u001B[38;5;28;43mself\u001B[39;49m\u001B[38;5;241;43m.\u001B[39;49m\u001B[43m_body\u001B[49m\u001B[38;5;241;43m.\u001B[39;49m\u001B[43m_replaceVariable\u001B[49m\u001B[43m(\u001B[49m\u001B[43mvar\u001B[49m\u001B[43m,\u001B[49m\u001B[43m \u001B[49m\u001B[43mterm\u001B[49m\u001B[43m)\u001B[49m)\n",
      "File \u001B[1;32mD:\\documents\\python_projects\\pure-calculus\\src\\calculus\\term.py:293\u001B[0m, in \u001B[0;36mTerm._replaceVariable\u001B[1;34m(self, var, term)\u001B[0m\n\u001B[0;32m    288\u001B[0m     \u001B[38;5;28;01mreturn\u001B[39;00m Application(\n\u001B[0;32m    289\u001B[0m         \u001B[38;5;28mself\u001B[39m\u001B[38;5;241m.\u001B[39m_sub\u001B[38;5;241m.\u001B[39m_replaceVariable(var, term),\n\u001B[0;32m    290\u001B[0m         \u001B[38;5;28mself\u001B[39m\u001B[38;5;241m.\u001B[39m_obj\u001B[38;5;241m.\u001B[39m_replaceVariable(var, term),\n\u001B[0;32m    291\u001B[0m     )\n\u001B[0;32m    292\u001B[0m \u001B[38;5;28;01melse\u001B[39;00m:  \u001B[38;5;66;03m# self is Abstraction\u001B[39;00m\n\u001B[1;32m--> 293\u001B[0m     \u001B[38;5;28;01mreturn\u001B[39;00m Abstraction(\u001B[38;5;28mself\u001B[39m\u001B[38;5;241m.\u001B[39m_head, \u001B[38;5;28;43mself\u001B[39;49m\u001B[38;5;241;43m.\u001B[39;49m\u001B[43m_body\u001B[49m\u001B[38;5;241;43m.\u001B[39;49m\u001B[43m_replaceVariable\u001B[49m\u001B[43m(\u001B[49m\u001B[43mvar\u001B[49m\u001B[43m,\u001B[49m\u001B[43m \u001B[49m\u001B[43mterm\u001B[49m\u001B[43m)\u001B[49m)\n",
      "File \u001B[1;32mD:\\documents\\python_projects\\pure-calculus\\src\\calculus\\term.py:293\u001B[0m, in \u001B[0;36mTerm._replaceVariable\u001B[1;34m(self, var, term)\u001B[0m\n\u001B[0;32m    288\u001B[0m     \u001B[38;5;28;01mreturn\u001B[39;00m Application(\n\u001B[0;32m    289\u001B[0m         \u001B[38;5;28mself\u001B[39m\u001B[38;5;241m.\u001B[39m_sub\u001B[38;5;241m.\u001B[39m_replaceVariable(var, term),\n\u001B[0;32m    290\u001B[0m         \u001B[38;5;28mself\u001B[39m\u001B[38;5;241m.\u001B[39m_obj\u001B[38;5;241m.\u001B[39m_replaceVariable(var, term),\n\u001B[0;32m    291\u001B[0m     )\n\u001B[0;32m    292\u001B[0m \u001B[38;5;28;01melse\u001B[39;00m:  \u001B[38;5;66;03m# self is Abstraction\u001B[39;00m\n\u001B[1;32m--> 293\u001B[0m     \u001B[38;5;28;01mreturn\u001B[39;00m Abstraction(\u001B[38;5;28mself\u001B[39m\u001B[38;5;241m.\u001B[39m_head, \u001B[38;5;28;43mself\u001B[39;49m\u001B[38;5;241;43m.\u001B[39;49m\u001B[43m_body\u001B[49m\u001B[38;5;241;43m.\u001B[39;49m\u001B[43m_replaceVariable\u001B[49m\u001B[43m(\u001B[49m\u001B[43mvar\u001B[49m\u001B[43m,\u001B[49m\u001B[43m \u001B[49m\u001B[43mterm\u001B[49m\u001B[43m)\u001B[49m)\n",
      "File \u001B[1;32mD:\\documents\\python_projects\\pure-calculus\\src\\calculus\\term.py:290\u001B[0m, in \u001B[0;36mTerm._replaceVariable\u001B[1;34m(self, var, term)\u001B[0m\n\u001B[0;32m    286\u001B[0m     \u001B[38;5;28;01mreturn\u001B[39;00m term \u001B[38;5;28;01mif\u001B[39;00m \u001B[38;5;28mself\u001B[39m\u001B[38;5;241m.\u001B[39m_var \u001B[38;5;241m==\u001B[39m var \u001B[38;5;28;01melse\u001B[39;00m \u001B[38;5;28mself\u001B[39m\n\u001B[0;32m    287\u001B[0m \u001B[38;5;28;01melif\u001B[39;00m \u001B[38;5;28mself\u001B[39m\u001B[38;5;241m.\u001B[39misApplication:\n\u001B[0;32m    288\u001B[0m     \u001B[38;5;28;01mreturn\u001B[39;00m Application(\n\u001B[0;32m    289\u001B[0m         \u001B[38;5;28mself\u001B[39m\u001B[38;5;241m.\u001B[39m_sub\u001B[38;5;241m.\u001B[39m_replaceVariable(var, term),\n\u001B[1;32m--> 290\u001B[0m         \u001B[38;5;28;43mself\u001B[39;49m\u001B[38;5;241;43m.\u001B[39;49m\u001B[43m_obj\u001B[49m\u001B[38;5;241;43m.\u001B[39;49m\u001B[43m_replaceVariable\u001B[49m\u001B[43m(\u001B[49m\u001B[43mvar\u001B[49m\u001B[43m,\u001B[49m\u001B[43m \u001B[49m\u001B[43mterm\u001B[49m\u001B[43m)\u001B[49m,\n\u001B[0;32m    291\u001B[0m     )\n\u001B[0;32m    292\u001B[0m \u001B[38;5;28;01melse\u001B[39;00m:  \u001B[38;5;66;03m# self is Abstraction\u001B[39;00m\n\u001B[0;32m    293\u001B[0m     \u001B[38;5;28;01mreturn\u001B[39;00m Abstraction(\u001B[38;5;28mself\u001B[39m\u001B[38;5;241m.\u001B[39m_head, \u001B[38;5;28mself\u001B[39m\u001B[38;5;241m.\u001B[39m_body\u001B[38;5;241m.\u001B[39m_replaceVariable(var, term))\n",
      "File \u001B[1;32mD:\\documents\\python_projects\\pure-calculus\\src\\calculus\\term.py:283\u001B[0m, in \u001B[0;36mTerm._replaceVariable\u001B[1;34m(self, var, term)\u001B[0m\n\u001B[0;32m    280\u001B[0m     \u001B[38;5;28;01melse\u001B[39;00m:\n\u001B[0;32m    281\u001B[0m         \u001B[38;5;28;01mreturn\u001B[39;00m \u001B[38;5;28mself\u001B[39m\n\u001B[1;32m--> 283\u001B[0m \u001B[38;5;28;01mdef\u001B[39;00m \u001B[38;5;21m_replaceVariable\u001B[39m(\u001B[38;5;28mself\u001B[39m, var: Var, term):\n\u001B[0;32m    284\u001B[0m \u001B[38;5;250m    \u001B[39m\u001B[38;5;124;03m\"\"\"return λ-term with replaced variable\"\"\"\u001B[39;00m\n\u001B[0;32m    285\u001B[0m     \u001B[38;5;28;01mif\u001B[39;00m \u001B[38;5;28mself\u001B[39m\u001B[38;5;241m.\u001B[39misAtom:\n",
      "\u001B[1;31mKeyboardInterrupt\u001B[0m: "
     ]
    }
   ],
   "source": [
    "test_gcd_v00(1, 0, LeftmostOutermostStrategy())"
   ],
   "metadata": {
    "collapsed": false
   }
  },
  {
   "cell_type": "code",
   "execution_count": 11,
   "outputs": [
    {
     "name": "stdout",
     "output_type": "stream",
     "text": [
      "Norm steps: 270\n",
      "(λq.(λw.(q w)))\n",
      "time normalization: 71.76676511764526s\n"
     ]
    }
   ],
   "source": [
    "test_gcd_v00(1, 1, LeftmostOutermostStrategy())"
   ],
   "metadata": {
    "collapsed": false
   }
  },
  {
   "cell_type": "code",
   "execution_count": 12,
   "outputs": [
    {
     "name": "stdout",
     "output_type": "stream",
     "text": [
      "Norm steps: 521\n",
      "(λe.(λq.(λw.(q w))))\n",
      "time normalization: 30.34950304031372s\n"
     ]
    }
   ],
   "source": [
    "test_gcd_v00(4, 2, LeftmostOutermostStrategy())"
   ],
   "metadata": {
    "collapsed": false
   }
  },
  {
   "cell_type": "code",
   "execution_count": 13,
   "outputs": [
    {
     "name": "stdout",
     "output_type": "stream",
     "text": [
      "Norm steps: 457\n",
      "(λq.(λw.(λe.(w e))))\n",
      "time normalization: 23.92000436782837s\n"
     ]
    }
   ],
   "source": [
    "test_gcd_v00(2, 4, LeftmostOutermostStrategy())"
   ],
   "metadata": {
    "collapsed": false
   }
  },
  {
   "cell_type": "code",
   "execution_count": 14,
   "outputs": [
    {
     "name": "stdout",
     "output_type": "stream",
     "text": [
      "Norm steps: 683\n",
      "(λq.(λw.(λe.(w e))))\n",
      "time normalization: 42.412829875946045s\n"
     ]
    }
   ],
   "source": [
    "test_gcd_v00(10, 5, LeftmostOutermostStrategy())"
   ],
   "metadata": {
    "collapsed": false
   }
  },
  {
   "cell_type": "code",
   "execution_count": 15,
   "outputs": [
    {
     "name": "stdout",
     "output_type": "stream",
     "text": [
      "Norm steps: 548\n",
      "(λq.(λw.(λe.(w e))))\n",
      "time normalization: 32.92293882369995s\n"
     ]
    }
   ],
   "source": [
    "test_gcd_v00(5, 10, LeftmostOutermostStrategy())"
   ],
   "metadata": {
    "collapsed": false
   }
  },
  {
   "cell_type": "code",
   "execution_count": null,
   "outputs": [],
   "source": [],
   "metadata": {
    "collapsed": false
   }
  },
  {
   "cell_type": "code",
   "execution_count": null,
   "outputs": [],
   "source": [],
   "metadata": {
    "collapsed": false
   }
  },
  {
   "cell_type": "markdown",
   "source": [
    "# test the v01 realization"
   ],
   "metadata": {
    "collapsed": false
   }
  },
  {
   "cell_type": "code",
   "execution_count": 2,
   "outputs": [],
   "source": [
    "def gcd_term_v01():\n",
    "    n, m, f = Var(), Var(), Var()\n",
    "    n_, m_, f_ = Atom(n), Atom(m), Atom(f)\n",
    "    sub_m_n = App(App(substr_term(), m_), n_)\n",
    "    sub_n_m = App(App(substr_term(), n_), m_)\n",
    "    iszero_n = App(iszero_term(), n_)\n",
    "    iszero_m = App(iszero_term(), m_)\n",
    "    f_n_sub = App(App(f_, n_), sub_m_n)\n",
    "    f_m_sub = App(App(f_, m_), sub_n_m)\n",
    "    le_n_m = App(App(le_term(), n_), m_)\n",
    "    eq_n_m = App(App(eq_term(), n_), m_)\n",
    "    or_is_zero = App(or_term(), App(iszero_n, iszero_m))\n",
    "    ite_le_sub_sub = App(App(App(ite_term(), le_n_m), f_n_sub), f_m_sub)\n",
    "    ite_eq_ite = App(App(App(ite_term(), eq_n_m), n_), ite_le_sub_sub)\n",
    "    # or_is_ite = App(App(or_is_zero, n0_term()), ite_eq_ite)\n",
    "    # inner_app = App(ite_term(), or_is_ite)\n",
    "    inner_app = App(App(App(ite_term(), or_is_zero), n0_term()), ite_eq_ite)\n",
    "    inner_lambda = Lambda(f, Lambda(n, Lambda(m, inner_app)))\n",
    "    return App(y_term(), inner_lambda)\n",
    "\n",
    "\n",
    "def test_gcd_v01(var_0=0, var_1=0, strategy=LeftmostOutermostStrategy()):\n",
    "    start_time = time.time()\n",
    "    term_ = multi_app_term(gcd_term_v01(), n_term(var_0), n_term(var_1))\n",
    "    res_term, steps = term_.normalize_no_lim(strategy)\n",
    "\n",
    "    # print(term_, \"\\n\\n\")\n",
    "    print(f\"Norm steps: {steps}\")\n",
    "    print(res_term)\n",
    "    print(f\"time normalization: {time.time() - start_time}s\")"
   ],
   "metadata": {
    "collapsed": false
   }
  },
  {
   "cell_type": "code",
   "execution_count": 3,
   "outputs": [
    {
     "name": "stdout",
     "output_type": "stream",
     "text": [
      "Norm steps: 23\n",
      "(λq.(λw.w))\n",
      "time normalization: 0.27506160736083984s\n"
     ]
    }
   ],
   "source": [
    "test_gcd_v01(0, 0, LeftmostOutermostStrategy())"
   ],
   "metadata": {
    "collapsed": false
   }
  },
  {
   "cell_type": "code",
   "execution_count": 4,
   "outputs": [
    {
     "ename": "KeyboardInterrupt",
     "evalue": "",
     "output_type": "error",
     "traceback": [
      "\u001B[1;31m---------------------------------------------------------------------------\u001B[0m",
      "\u001B[1;31mKeyboardInterrupt\u001B[0m                         Traceback (most recent call last)",
      "Cell \u001B[1;32mIn[4], line 1\u001B[0m\n\u001B[1;32m----> 1\u001B[0m \u001B[43mtest_gcd_v01\u001B[49m\u001B[43m(\u001B[49m\u001B[38;5;241;43m0\u001B[39;49m\u001B[43m,\u001B[49m\u001B[43m \u001B[49m\u001B[38;5;241;43m1\u001B[39;49m\u001B[43m,\u001B[49m\u001B[43m \u001B[49m\u001B[43mLeftmostOutermostStrategy\u001B[49m\u001B[43m(\u001B[49m\u001B[43m)\u001B[49m\u001B[43m)\u001B[49m\n",
      "Cell \u001B[1;32mIn[2], line 25\u001B[0m, in \u001B[0;36mtest_gcd_v01\u001B[1;34m(var_0, var_1, strategy)\u001B[0m\n\u001B[0;32m     23\u001B[0m start_time \u001B[38;5;241m=\u001B[39m time\u001B[38;5;241m.\u001B[39mtime()\n\u001B[0;32m     24\u001B[0m term_ \u001B[38;5;241m=\u001B[39m multi_app_term(gcd_term_v01(), n_term(var_0), n_term(var_1))\n\u001B[1;32m---> 25\u001B[0m res_term, steps \u001B[38;5;241m=\u001B[39m \u001B[43mterm_\u001B[49m\u001B[38;5;241;43m.\u001B[39;49m\u001B[43mnormalize_no_lim\u001B[49m\u001B[43m(\u001B[49m\u001B[43mstrategy\u001B[49m\u001B[43m)\u001B[49m\n\u001B[0;32m     27\u001B[0m \u001B[38;5;66;03m# print(term_, \"\\n\\n\")\u001B[39;00m\n\u001B[0;32m     28\u001B[0m \u001B[38;5;28mprint\u001B[39m(\u001B[38;5;124mf\u001B[39m\u001B[38;5;124m\"\u001B[39m\u001B[38;5;124mNorm steps: \u001B[39m\u001B[38;5;132;01m{\u001B[39;00msteps\u001B[38;5;132;01m}\u001B[39;00m\u001B[38;5;124m\"\u001B[39m)\n",
      "File \u001B[1;32mD:\\documents\\python_projects\\pure-calculus\\src\\calculus\\term.py:176\u001B[0m, in \u001B[0;36mTerm.normalize_no_lim\u001B[1;34m(self, strategy)\u001B[0m\n\u001B[0;32m    174\u001B[0m count \u001B[38;5;241m=\u001B[39m \u001B[38;5;241m0\u001B[39m\n\u001B[0;32m    175\u001B[0m \u001B[38;5;28;01mwhile\u001B[39;00m term\u001B[38;5;241m.\u001B[39mredexes \u001B[38;5;241m!=\u001B[39m []:\n\u001B[1;32m--> 176\u001B[0m     term \u001B[38;5;241m=\u001B[39m \u001B[43mterm\u001B[49m\u001B[38;5;241;43m.\u001B[39;49m\u001B[43m_betaConversion\u001B[49m\u001B[43m(\u001B[49m\u001B[43mstrategy\u001B[49m\u001B[43m)\u001B[49m\n\u001B[0;32m    177\u001B[0m     term \u001B[38;5;241m=\u001B[39m term\u001B[38;5;241m.\u001B[39m_updateBoundVariables()\n\u001B[0;32m    178\u001B[0m     count \u001B[38;5;241m+\u001B[39m\u001B[38;5;241m=\u001B[39m \u001B[38;5;241m1\u001B[39m\n",
      "File \u001B[1;32mD:\\documents\\python_projects\\pure-calculus\\src\\calculus\\term.py:209\u001B[0m, in \u001B[0;36mTerm._betaConversion\u001B[1;34m(self, strategy)\u001B[0m\n\u001B[0;32m    204\u001B[0m \u001B[38;5;250m\u001B[39m\u001B[38;5;124;03m\"\"\"\u001B[39;00m\n\u001B[0;32m    205\u001B[0m \u001B[38;5;124;03m:param strategy: OneStepStrategy\u001B[39;00m\n\u001B[0;32m    206\u001B[0m \u001B[38;5;124;03m:return term with redex eliminated using the given strategy\u001B[39;00m\n\u001B[0;32m    207\u001B[0m \u001B[38;5;124;03m\"\"\"\u001B[39;00m\n\u001B[0;32m    208\u001B[0m index \u001B[38;5;241m=\u001B[39m strategy\u001B[38;5;241m.\u001B[39mredexIndex(\u001B[38;5;28mself\u001B[39m)\n\u001B[1;32m--> 209\u001B[0m subterm \u001B[38;5;241m=\u001B[39m \u001B[38;5;28;43mself\u001B[39;49m\u001B[38;5;241;43m.\u001B[39;49m\u001B[43msubterm\u001B[49m\u001B[43m(\u001B[49m\u001B[43mindex\u001B[49m\u001B[43m)\u001B[49m\n\u001B[0;32m    210\u001B[0m reducedTerm \u001B[38;5;241m=\u001B[39m subterm\u001B[38;5;241m.\u001B[39m_removeOuterRedex()\n\u001B[0;32m    211\u001B[0m \u001B[38;5;28;01mreturn\u001B[39;00m \u001B[38;5;28mself\u001B[39m\u001B[38;5;241m.\u001B[39msetSubterm(index, reducedTerm)\n",
      "File \u001B[1;32mD:\\documents\\python_projects\\pure-calculus\\src\\calculus\\term.py:227\u001B[0m, in \u001B[0;36mTerm.subterm\u001B[1;34m(self, index)\u001B[0m\n\u001B[0;32m    225\u001B[0m \u001B[38;5;28;01melif\u001B[39;00m \u001B[38;5;28mself\u001B[39m\u001B[38;5;241m.\u001B[39misApplication:\n\u001B[0;32m    226\u001B[0m     \u001B[38;5;28;01mif\u001B[39;00m \u001B[38;5;28mself\u001B[39m\u001B[38;5;241m.\u001B[39m_sub\u001B[38;5;241m.\u001B[39mverticesNumber \u001B[38;5;241m+\u001B[39m \u001B[38;5;241m1\u001B[39m \u001B[38;5;241m>\u001B[39m\u001B[38;5;241m=\u001B[39m index:\n\u001B[1;32m--> 227\u001B[0m         \u001B[38;5;28;01mreturn\u001B[39;00m \u001B[38;5;28;43mself\u001B[39;49m\u001B[38;5;241;43m.\u001B[39;49m\u001B[43m_sub\u001B[49m\u001B[38;5;241;43m.\u001B[39;49m\u001B[43msubterm\u001B[49m\u001B[43m(\u001B[49m\u001B[43mindex\u001B[49m\u001B[43m \u001B[49m\u001B[38;5;241;43m-\u001B[39;49m\u001B[43m \u001B[49m\u001B[38;5;241;43m1\u001B[39;49m\u001B[43m)\u001B[49m\n\u001B[0;32m    228\u001B[0m     \u001B[38;5;28;01melse\u001B[39;00m:\n\u001B[0;32m    229\u001B[0m         \u001B[38;5;28;01mreturn\u001B[39;00m \u001B[38;5;28mself\u001B[39m\u001B[38;5;241m.\u001B[39m_obj\u001B[38;5;241m.\u001B[39msubterm(index \u001B[38;5;241m-\u001B[39m \u001B[38;5;28mself\u001B[39m\u001B[38;5;241m.\u001B[39m_sub\u001B[38;5;241m.\u001B[39mverticesNumber \u001B[38;5;241m-\u001B[39m \u001B[38;5;241m1\u001B[39m)\n",
      "File \u001B[1;32mD:\\documents\\python_projects\\pure-calculus\\src\\calculus\\term.py:227\u001B[0m, in \u001B[0;36mTerm.subterm\u001B[1;34m(self, index)\u001B[0m\n\u001B[0;32m    225\u001B[0m \u001B[38;5;28;01melif\u001B[39;00m \u001B[38;5;28mself\u001B[39m\u001B[38;5;241m.\u001B[39misApplication:\n\u001B[0;32m    226\u001B[0m     \u001B[38;5;28;01mif\u001B[39;00m \u001B[38;5;28mself\u001B[39m\u001B[38;5;241m.\u001B[39m_sub\u001B[38;5;241m.\u001B[39mverticesNumber \u001B[38;5;241m+\u001B[39m \u001B[38;5;241m1\u001B[39m \u001B[38;5;241m>\u001B[39m\u001B[38;5;241m=\u001B[39m index:\n\u001B[1;32m--> 227\u001B[0m         \u001B[38;5;28;01mreturn\u001B[39;00m \u001B[38;5;28;43mself\u001B[39;49m\u001B[38;5;241;43m.\u001B[39;49m\u001B[43m_sub\u001B[49m\u001B[38;5;241;43m.\u001B[39;49m\u001B[43msubterm\u001B[49m\u001B[43m(\u001B[49m\u001B[43mindex\u001B[49m\u001B[43m \u001B[49m\u001B[38;5;241;43m-\u001B[39;49m\u001B[43m \u001B[49m\u001B[38;5;241;43m1\u001B[39;49m\u001B[43m)\u001B[49m\n\u001B[0;32m    228\u001B[0m     \u001B[38;5;28;01melse\u001B[39;00m:\n\u001B[0;32m    229\u001B[0m         \u001B[38;5;28;01mreturn\u001B[39;00m \u001B[38;5;28mself\u001B[39m\u001B[38;5;241m.\u001B[39m_obj\u001B[38;5;241m.\u001B[39msubterm(index \u001B[38;5;241m-\u001B[39m \u001B[38;5;28mself\u001B[39m\u001B[38;5;241m.\u001B[39m_sub\u001B[38;5;241m.\u001B[39mverticesNumber \u001B[38;5;241m-\u001B[39m \u001B[38;5;241m1\u001B[39m)\n",
      "File \u001B[1;32mD:\\documents\\python_projects\\pure-calculus\\src\\calculus\\term.py:226\u001B[0m, in \u001B[0;36mTerm.subterm\u001B[1;34m(self, index)\u001B[0m\n\u001B[0;32m    224\u001B[0m     \u001B[38;5;167;01mValueError\u001B[39;00m(\u001B[38;5;124m\"\u001B[39m\u001B[38;5;124mindex value is incorrect\u001B[39m\u001B[38;5;124m\"\u001B[39m)\n\u001B[0;32m    225\u001B[0m \u001B[38;5;28;01melif\u001B[39;00m \u001B[38;5;28mself\u001B[39m\u001B[38;5;241m.\u001B[39misApplication:\n\u001B[1;32m--> 226\u001B[0m     \u001B[38;5;28;01mif\u001B[39;00m \u001B[38;5;28;43mself\u001B[39;49m\u001B[38;5;241;43m.\u001B[39;49m\u001B[43m_sub\u001B[49m\u001B[38;5;241;43m.\u001B[39;49m\u001B[43mverticesNumber\u001B[49m \u001B[38;5;241m+\u001B[39m \u001B[38;5;241m1\u001B[39m \u001B[38;5;241m>\u001B[39m\u001B[38;5;241m=\u001B[39m index:\n\u001B[0;32m    227\u001B[0m         \u001B[38;5;28;01mreturn\u001B[39;00m \u001B[38;5;28mself\u001B[39m\u001B[38;5;241m.\u001B[39m_sub\u001B[38;5;241m.\u001B[39msubterm(index \u001B[38;5;241m-\u001B[39m \u001B[38;5;241m1\u001B[39m)\n\u001B[0;32m    228\u001B[0m     \u001B[38;5;28;01melse\u001B[39;00m:\n",
      "File \u001B[1;32mD:\\documents\\python_projects\\pure-calculus\\src\\calculus\\term.py:149\u001B[0m, in \u001B[0;36mTerm.verticesNumber\u001B[1;34m(self)\u001B[0m\n\u001B[0;32m    147\u001B[0m     \u001B[38;5;28;01mreturn\u001B[39;00m \u001B[38;5;241m1\u001B[39m\n\u001B[0;32m    148\u001B[0m \u001B[38;5;28;01melif\u001B[39;00m \u001B[38;5;28mself\u001B[39m\u001B[38;5;241m.\u001B[39misApplication:\n\u001B[1;32m--> 149\u001B[0m     \u001B[38;5;28;01mreturn\u001B[39;00m \u001B[38;5;241m1\u001B[39m \u001B[38;5;241m+\u001B[39m \u001B[38;5;28mself\u001B[39m\u001B[38;5;241m.\u001B[39m_sub\u001B[38;5;241m.\u001B[39mverticesNumber \u001B[38;5;241m+\u001B[39m \u001B[38;5;28;43mself\u001B[39;49m\u001B[38;5;241;43m.\u001B[39;49m\u001B[43m_obj\u001B[49m\u001B[38;5;241;43m.\u001B[39;49m\u001B[43mverticesNumber\u001B[49m\n\u001B[0;32m    150\u001B[0m \u001B[38;5;28;01melse\u001B[39;00m:  \u001B[38;5;66;03m# self is Abstraction\u001B[39;00m\n\u001B[0;32m    151\u001B[0m     \u001B[38;5;28;01mreturn\u001B[39;00m \u001B[38;5;241m1\u001B[39m \u001B[38;5;241m+\u001B[39m \u001B[38;5;28mself\u001B[39m\u001B[38;5;241m.\u001B[39m_body\u001B[38;5;241m.\u001B[39mverticesNumber\n",
      "File \u001B[1;32mD:\\documents\\python_projects\\pure-calculus\\src\\calculus\\term.py:149\u001B[0m, in \u001B[0;36mTerm.verticesNumber\u001B[1;34m(self)\u001B[0m\n\u001B[0;32m    147\u001B[0m     \u001B[38;5;28;01mreturn\u001B[39;00m \u001B[38;5;241m1\u001B[39m\n\u001B[0;32m    148\u001B[0m \u001B[38;5;28;01melif\u001B[39;00m \u001B[38;5;28mself\u001B[39m\u001B[38;5;241m.\u001B[39misApplication:\n\u001B[1;32m--> 149\u001B[0m     \u001B[38;5;28;01mreturn\u001B[39;00m \u001B[38;5;241m1\u001B[39m \u001B[38;5;241m+\u001B[39m \u001B[38;5;28;43mself\u001B[39;49m\u001B[38;5;241;43m.\u001B[39;49m\u001B[43m_sub\u001B[49m\u001B[38;5;241;43m.\u001B[39;49m\u001B[43mverticesNumber\u001B[49m \u001B[38;5;241m+\u001B[39m \u001B[38;5;28mself\u001B[39m\u001B[38;5;241m.\u001B[39m_obj\u001B[38;5;241m.\u001B[39mverticesNumber\n\u001B[0;32m    150\u001B[0m \u001B[38;5;28;01melse\u001B[39;00m:  \u001B[38;5;66;03m# self is Abstraction\u001B[39;00m\n\u001B[0;32m    151\u001B[0m     \u001B[38;5;28;01mreturn\u001B[39;00m \u001B[38;5;241m1\u001B[39m \u001B[38;5;241m+\u001B[39m \u001B[38;5;28mself\u001B[39m\u001B[38;5;241m.\u001B[39m_body\u001B[38;5;241m.\u001B[39mverticesNumber\n",
      "    \u001B[1;31m[... skipping similar frames: Term.verticesNumber at line 149 (4 times)]\u001B[0m\n",
      "File \u001B[1;32mD:\\documents\\python_projects\\pure-calculus\\src\\calculus\\term.py:149\u001B[0m, in \u001B[0;36mTerm.verticesNumber\u001B[1;34m(self)\u001B[0m\n\u001B[0;32m    147\u001B[0m     \u001B[38;5;28;01mreturn\u001B[39;00m \u001B[38;5;241m1\u001B[39m\n\u001B[0;32m    148\u001B[0m \u001B[38;5;28;01melif\u001B[39;00m \u001B[38;5;28mself\u001B[39m\u001B[38;5;241m.\u001B[39misApplication:\n\u001B[1;32m--> 149\u001B[0m     \u001B[38;5;28;01mreturn\u001B[39;00m \u001B[38;5;241m1\u001B[39m \u001B[38;5;241m+\u001B[39m \u001B[38;5;28;43mself\u001B[39;49m\u001B[38;5;241;43m.\u001B[39;49m\u001B[43m_sub\u001B[49m\u001B[38;5;241;43m.\u001B[39;49m\u001B[43mverticesNumber\u001B[49m \u001B[38;5;241m+\u001B[39m \u001B[38;5;28mself\u001B[39m\u001B[38;5;241m.\u001B[39m_obj\u001B[38;5;241m.\u001B[39mverticesNumber\n\u001B[0;32m    150\u001B[0m \u001B[38;5;28;01melse\u001B[39;00m:  \u001B[38;5;66;03m# self is Abstraction\u001B[39;00m\n\u001B[0;32m    151\u001B[0m     \u001B[38;5;28;01mreturn\u001B[39;00m \u001B[38;5;241m1\u001B[39m \u001B[38;5;241m+\u001B[39m \u001B[38;5;28mself\u001B[39m\u001B[38;5;241m.\u001B[39m_body\u001B[38;5;241m.\u001B[39mverticesNumber\n",
      "File \u001B[1;32mD:\\documents\\python_projects\\pure-calculus\\src\\calculus\\term.py:146\u001B[0m, in \u001B[0;36mTerm.verticesNumber\u001B[1;34m(self)\u001B[0m\n\u001B[0;32m    143\u001B[0m \u001B[38;5;129m@property\u001B[39m\n\u001B[0;32m    144\u001B[0m \u001B[38;5;28;01mdef\u001B[39;00m \u001B[38;5;21mverticesNumber\u001B[39m(\u001B[38;5;28mself\u001B[39m):\n\u001B[0;32m    145\u001B[0m \u001B[38;5;250m    \u001B[39m\u001B[38;5;124;03m\"\"\"return the number of nodes in the tree representing the lambda term\"\"\"\u001B[39;00m\n\u001B[1;32m--> 146\u001B[0m     \u001B[38;5;28;01mif\u001B[39;00m \u001B[38;5;28;43mself\u001B[39;49m\u001B[38;5;241;43m.\u001B[39;49m\u001B[43misAtom\u001B[49m:\n\u001B[0;32m    147\u001B[0m         \u001B[38;5;28;01mreturn\u001B[39;00m \u001B[38;5;241m1\u001B[39m\n\u001B[0;32m    148\u001B[0m     \u001B[38;5;28;01melif\u001B[39;00m \u001B[38;5;28mself\u001B[39m\u001B[38;5;241m.\u001B[39misApplication:\n",
      "File \u001B[1;32mD:\\documents\\python_projects\\pure-calculus\\src\\calculus\\term.py:28\u001B[0m, in \u001B[0;36mTerm.isAtom\u001B[1;34m(self)\u001B[0m\n\u001B[0;32m     27\u001B[0m \u001B[38;5;28;01mclass\u001B[39;00m \u001B[38;5;21;01mTerm\u001B[39;00m:\n\u001B[1;32m---> 28\u001B[0m     \u001B[38;5;129m@property\u001B[39m\n\u001B[0;32m     29\u001B[0m     \u001B[38;5;28;01mdef\u001B[39;00m \u001B[38;5;21misAtom\u001B[39m(\u001B[38;5;28mself\u001B[39m):\n\u001B[0;32m     30\u001B[0m \u001B[38;5;250m        \u001B[39m\u001B[38;5;124;03m\"\"\"checks whether the term is an atom\"\"\"\u001B[39;00m\n\u001B[0;32m     31\u001B[0m         \u001B[38;5;28;01mreturn\u001B[39;00m \u001B[38;5;28misinstance\u001B[39m(\u001B[38;5;28mself\u001B[39m, Atom)\n",
      "\u001B[1;31mKeyboardInterrupt\u001B[0m: "
     ]
    }
   ],
   "source": [
    "test_gcd_v01(0, 1, LeftmostOutermostStrategy())"
   ],
   "metadata": {
    "collapsed": false
   }
  },
  {
   "cell_type": "code",
   "execution_count": 19,
   "outputs": [
    {
     "name": "stdout",
     "output_type": "stream",
     "text": [
      "Norm steps: 271\n",
      "(λq.q)\n",
      "time normalization: 44.64007568359375s\n"
     ]
    }
   ],
   "source": [
    "test_gcd_v01(1, 0, LeftmostOutermostStrategy())"
   ],
   "metadata": {
    "collapsed": false
   }
  },
  {
   "cell_type": "code",
   "execution_count": 20,
   "outputs": [
    {
     "name": "stdout",
     "output_type": "stream",
     "text": [
      "Norm steps: 549\n",
      "(λq.(λw.w))\n",
      "time normalization: 24.323955297470093s\n"
     ]
    }
   ],
   "source": [
    "test_gcd_v01(5, 10, LeftmostOutermostStrategy())"
   ],
   "metadata": {
    "collapsed": false
   }
  },
  {
   "cell_type": "code",
   "execution_count": 21,
   "outputs": [
    {
     "name": "stdout",
     "output_type": "stream",
     "text": [
      "Norm steps: 754\n",
      "(λq.((((q (λw.(λe.(λr.r)))) (λt.(λy.t))) (λu.(λi.i))) ((((((((q (λo.(((o (λp.(λa.((a (p (λs.(λd.d)))) (λf.(λg.(f (((p (λh.(λj.j))) f) g)))))))) (λk.((k (λl.(λz.z))) (λx.(λc.c))))) (λv.(λb.v))))) (λn.(λm.m))) (λq_1.(λw_1.(λe_1.e_1)))) (λr_1.(λt_1.r_1))) ((q (λy_1.(λu_1.(λi_1.i_1)))) (λo_1.(λp_1.o_1)))) ((((q (λa_1.(((a_1 (λs_1.(λd_1.((d_1 (s_1 (λf_1.(λg_1.g_1)))) (λh_1.(λj_1.(h_1 (((s_1 (λk_1.(λl_1.l_1))) h_1) j_1)))))))) (λz_1.((z_1 (λx_1.(λc_1.c_1))) (λv_1.(λb_1.b_1))))) (λn_1.(λm_1.n_1))))) (λq_2.(λw_2.w_2))) (λe_2.(λr_2.(λt_2.t_2)))) (λy_2.(λu_2.y_2)))) (λi_2.(λo_2.o_2))) ((((((q (λp_2.(((p_2 (λa_2.(λs_2.((s_2 (a_2 (λd_2.(λf_2.f_2)))) (λg_2.(λh_2.(g_2 (((a_2 (λj_2.(λk_2.k_2))) g_2) h_2)))))))) (λl_2.((l_2 (λz_2.(λx_2.x_2))) (λc_2.(λv_2.v_2))))) (λb_2.(λn_2.b_2))))) (λm_2.(λq_3.q_3))) (λw_3.(λe_3.(λr_3.r_3)))) (λt_3.(λy_3.t_3))) q) ((q (λu_3.(((u_3 (λi_3.(λo_3.((o_3 (i_3 (λp_3.(λa_3.a_3)))) (λs_3.(λd_3.(s_3 (((i_3 (λf_3.(λg_3.g_3))) s_3) d_3)))))))) (λh_3.((h_3 (λj_3.(λk_3.k_3))) (λl_3.(λz_3.z_3))))) (λx_3.(λc_3.x_3))))) (λv_3.(λb_3.b_3)))))))\n",
      "time normalization: 32.213096618652344s\n"
     ]
    }
   ],
   "source": [
    "test_gcd_v01(10, 0, LeftmostOutermostStrategy())"
   ],
   "metadata": {
    "collapsed": false
   }
  }
 ],
 "metadata": {
  "kernelspec": {
   "display_name": "Python 3",
   "language": "python",
   "name": "python3"
  },
  "language_info": {
   "codemirror_mode": {
    "name": "ipython",
    "version": 2
   },
   "file_extension": ".py",
   "mimetype": "text/x-python",
   "name": "python",
   "nbconvert_exporter": "python",
   "pygments_lexer": "ipython2",
   "version": "2.7.6"
  }
 },
 "nbformat": 4,
 "nbformat_minor": 0
}
