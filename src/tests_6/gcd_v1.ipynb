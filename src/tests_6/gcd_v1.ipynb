{
 "cells": [
  {
   "cell_type": "markdown",
   "source": [
    "# **GCD_v1 algorithm in with Vlad's lib**\n",
    "[The detailed algorithm](https://web.eecs.umich.edu/~weimerw/2015-4610/scottcd/10a_thfnd.pdf)\n",
    "[Helped Wiki](https://en.wikipedia.org/wiki/Lambda_calculus)"
   ],
   "metadata": {
    "collapsed": false
   }
  },
  {
   "cell_type": "markdown",
   "source": [
    "1) gcd ≡ λa.λb.(if (equal a b) a (if (greater than a b) (gcd (minus a b) b) (gcd (Minus b a) a)))\n",
    "2) gcd ≡ (λg .λa.λb.(if (equal a b) a (if (greater than a b) (g (minus a b) b) (g (minus b a) a)))) gcd\n",
    "3) gcd ≡ f gcd\n",
    "4) λg .λa.λb.(if (equal a b) a (if (greater than a b) (g (minus a b) b) (g (minus b a) a)))\n",
    "5) gcd ≡ (λh.(λx.h(x x)) (λx.h(x x)))\n",
    "        (λg .λa.λb.(if (equal a b) a\n",
    "        (if (greater than a b) (g (minus a b) b) (g (minus b a) a))))\n",
    "6) Y ≡ (λh.(λx.h(x x)) (λx.h(x x)))\n",
    "7) gcd ≡ Y\n",
    "        (λg .λa.λb.(if (equal a b) a\n",
    "        (if (greater than a b) (g (minus a b) b) (g (minus b a) a))))\n"
   ],
   "metadata": {
    "collapsed": false
   }
  },
  {
   "cell_type": "code",
   "execution_count": 1,
   "outputs": [],
   "source": [
    "import sys\n",
    "\n",
    "sys.path.append(\"../\")\n",
    "from calculus.term import *\n",
    "from calculus.strategy import *\n",
    "from calculus.advanced_terms import *"
   ],
   "metadata": {
    "collapsed": false
   }
  },
  {
   "cell_type": "markdown",
   "source": [
    "gcd ≡ (Y\n",
    "        (λg.λa.λb.(ite (equal a b) a\n",
    "        (ite (greater_than a b) (g (minus a b) b) (g (minus b a) a))))\n",
    "        )"
   ],
   "metadata": {
    "collapsed": false
   }
  },
  {
   "cell_type": "code",
   "execution_count": 2,
   "outputs": [],
   "source": [
    "# PRED := λn.λf.λx.n (in_term_1) (in_term_0) (i_term())\n",
    "# in_term_0 = λu.x\n",
    "# in_term_1 = λg.λh.h (g f)\n",
    "def w_pred_term():\n",
    "    n, f, x, h, g, u = Var(), Var(), Var(), Var(), Var(), Var()\n",
    "    x_, n_ = Atom(x), Atom(n)\n",
    "    h_, g_, f_ = Atom(h), Atom(g), Atom(f)\n",
    "    in_term_0 = Lambda(u, x_)\n",
    "    in_term_1 = Lambda(g, Lambda(h, App(h_, App(g_, f_))))\n",
    "    return Lambda(n, Lambda(f, Lambda(x, multi_app_term(n_, in_term_1, in_term_0, i_term()))))"
   ],
   "metadata": {
    "collapsed": false
   }
  },
  {
   "cell_type": "code",
   "execution_count": 3,
   "outputs": [],
   "source": [
    "def minus_term():\n",
    "    m, n = Var(), Var()\n",
    "    m_, n_ = Atom(m), Atom(n)\n",
    "    return Lambda(m, Lambda(n, multi_app_term(n_, w_pred_term(), m_)))"
   ],
   "metadata": {
    "collapsed": false
   }
  },
  {
   "cell_type": "code",
   "execution_count": 6,
   "outputs": [
    {
     "name": "stdout",
     "output_type": "stream",
     "text": [
      "λq.λw.w\n",
      "λq.λw.w\n",
      "λq.λw.(q (q (q w)))\n",
      "λq.λw.(q (q (q (q (q (q (q (q (q w)))))))))\n"
     ]
    }
   ],
   "source": [
    "strategy = RightmostInnermostStrategy()\n",
    "\n",
    "term = App(w_pred_term(), n_term(0))\n",
    "print(term.normalize(strategy)[0].funky_str())\n",
    "\n",
    "term = App(w_pred_term(), n_term(1))\n",
    "print(term.normalize(strategy)[0].funky_str())\n",
    "\n",
    "term = App(w_pred_term(), n_term(4))\n",
    "print(term.normalize(strategy)[0].funky_str())\n",
    "\n",
    "term = App(w_pred_term(), n_term(10))\n",
    "print(term.normalize(strategy)[0].funky_str())"
   ],
   "metadata": {
    "collapsed": false
   }
  },
  {
   "cell_type": "code",
   "execution_count": 9,
   "outputs": [
    {
     "name": "stdout",
     "output_type": "stream",
     "text": [
      "λq.λw.w\n",
      "λq.λw.(q (q (q w)))\n",
      "λw.λe.λq.e\n",
      "λq.λw.w\n"
     ]
    }
   ],
   "source": [
    "strategy = LeftmostOutermostStrategy()\n",
    "\n",
    "term = multi_app_term(minus_term(), n_term(0), n_term(0))\n",
    "print(term.normalize(strategy)[0].funky_str())\n",
    "\n",
    "term = multi_app_term(minus_term(), n_term(3), n_term(0))\n",
    "print(term.normalize(strategy)[0].funky_str())\n",
    "\n",
    "term = multi_app_term(minus_term(), n_term(0), n_term(3))\n",
    "print(term.normalize(strategy)[0].funky_str())\n",
    "\n",
    "term = multi_app_term(minus_term(), n_term(4), n_term(2))\n",
    "print(term.normalize(strategy)[0].funky_str())"
   ],
   "metadata": {
    "collapsed": false
   }
  },
  {
   "cell_type": "markdown",
   "source": [
    "gcd ≡ (Y\n",
    "        (λg.λa.λb.(ite (equal a b) a\n",
    "        (ite (greater_than a b) (g (minus a b) b) (g (minus b a) a) )))\n",
    "        )\n"
   ],
   "metadata": {
    "collapsed": false
   }
  },
  {
   "cell_type": "code",
   "execution_count": 14,
   "outputs": [],
   "source": [
    "def gcd_v2():\n",
    "    g, a, b = Var(), Var(), Var()\n",
    "    g_, a_, b_ = Atom(g), Atom(a), Atom(b)\n",
    "    equal_ab = multi_app_term(eq_term(), a_, b_)\n",
    "\n",
    "    minus_ab = multi_app_term(g_, multi_app_term(minus_term(), a_, b_), b_)\n",
    "    minus_ba = multi_app_term(g_, multi_app_term(minus_term(), b_, a_), a_)\n",
    "    le_ab  = multi_app_term(le_term(), b_, a_)\n",
    "    inner_ite_term = multi_app_term(ite_term(), le_ab, minus_ab, minus_ba)\n",
    "\n",
    "    ite_main_term = multi_app_term(ite_term(), equal_ab, a_, inner_ite_term)\n",
    "    gcd_lambda = Lambda(g, Lambda(a, Lambda(b, ite_main_term)))\n",
    "    return App(y_term(), gcd_lambda)"
   ],
   "metadata": {
    "collapsed": false
   }
  },
  {
   "cell_type": "code",
   "execution_count": 17,
   "outputs": [],
   "source": [
    "def test_gcd(var_0 = 0, var_1 = 0, strategy = LeftmostOutermostStrategy()):\n",
    "    term_ = multi_app_term(gcd_v2(), n_term(var_0), n_term(var_1))\n",
    "    res_term, steps = term_.normalize_no_lim(strategy)\n",
    "\n",
    "    print(term_.funky_str(), \"\\n\\n\")\n",
    "    print(steps)\n",
    "    print(res_term.funky_str())"
   ],
   "metadata": {
    "collapsed": false
   }
  },
  {
   "cell_type": "code",
   "execution_count": 18,
   "outputs": [
    {
     "ename": "KeyboardInterrupt",
     "evalue": "",
     "output_type": "error",
     "traceback": [
      "\u001B[1;31m---------------------------------------------------------------------------\u001B[0m",
      "\u001B[1;31mKeyboardInterrupt\u001B[0m                         Traceback (most recent call last)",
      "Cell \u001B[1;32mIn[18], line 1\u001B[0m\n\u001B[1;32m----> 1\u001B[0m \u001B[43mtest_gcd\u001B[49m\u001B[43m(\u001B[49m\u001B[38;5;241;43m0\u001B[39;49m\u001B[43m,\u001B[49m\u001B[43m \u001B[49m\u001B[38;5;241;43m0\u001B[39;49m\u001B[43m,\u001B[49m\u001B[43m \u001B[49m\u001B[43mLeftmostOutermostStrategy\u001B[49m\u001B[43m(\u001B[49m\u001B[43m)\u001B[49m\u001B[43m)\u001B[49m\n",
      "Cell \u001B[1;32mIn[17], line 3\u001B[0m, in \u001B[0;36mtest_gcd\u001B[1;34m(var_0, var_1, strategy)\u001B[0m\n\u001B[0;32m      1\u001B[0m \u001B[38;5;28;01mdef\u001B[39;00m \u001B[38;5;21mtest_gcd\u001B[39m(var_0 \u001B[38;5;241m=\u001B[39m \u001B[38;5;241m0\u001B[39m, var_1 \u001B[38;5;241m=\u001B[39m \u001B[38;5;241m0\u001B[39m, strategy \u001B[38;5;241m=\u001B[39m LeftmostOutermostStrategy()):\n\u001B[0;32m      2\u001B[0m     term_ \u001B[38;5;241m=\u001B[39m multi_app_term(gcd_v2(), n_term(var_0), n_term(var_1))\n\u001B[1;32m----> 3\u001B[0m     res_term, steps \u001B[38;5;241m=\u001B[39m \u001B[43mterm_\u001B[49m\u001B[38;5;241;43m.\u001B[39;49m\u001B[43mnormalize_no_lim\u001B[49m\u001B[43m(\u001B[49m\u001B[43mstrategy\u001B[49m\u001B[43m)\u001B[49m\n\u001B[0;32m      5\u001B[0m     \u001B[38;5;28mprint\u001B[39m(term_\u001B[38;5;241m.\u001B[39mfunky_str(), \u001B[38;5;124m\"\u001B[39m\u001B[38;5;130;01m\\n\u001B[39;00m\u001B[38;5;130;01m\\n\u001B[39;00m\u001B[38;5;124m\"\u001B[39m)\n\u001B[0;32m      6\u001B[0m     \u001B[38;5;28mprint\u001B[39m(steps)\n",
      "File \u001B[1;32mD:\\documents\\python_projects\\pure-calculus\\src\\tests_6\\..\\calculus\\term.py:164\u001B[0m, in \u001B[0;36mTerm.normalize_no_lim\u001B[1;34m(self, strategy)\u001B[0m\n\u001B[0;32m    162\u001B[0m term \u001B[38;5;241m=\u001B[39m \u001B[38;5;28mself\u001B[39m\u001B[38;5;241m.\u001B[39m_updateBoundVariables()\n\u001B[0;32m    163\u001B[0m count \u001B[38;5;241m=\u001B[39m \u001B[38;5;241m0\u001B[39m\n\u001B[1;32m--> 164\u001B[0m \u001B[38;5;28;01mwhile\u001B[39;00m \u001B[43mterm\u001B[49m\u001B[38;5;241;43m.\u001B[39;49m\u001B[43mredexes\u001B[49m \u001B[38;5;241m!=\u001B[39m []:\n\u001B[0;32m    165\u001B[0m     term \u001B[38;5;241m=\u001B[39m term\u001B[38;5;241m.\u001B[39m_betaConversion(strategy)\n\u001B[0;32m    166\u001B[0m     count \u001B[38;5;241m+\u001B[39m\u001B[38;5;241m=\u001B[39m \u001B[38;5;241m1\u001B[39m\n",
      "File \u001B[1;32mD:\\documents\\python_projects\\pure-calculus\\src\\tests_6\\..\\calculus\\term.py:98\u001B[0m, in \u001B[0;36mTerm.redexes\u001B[1;34m(self)\u001B[0m\n\u001B[0;32m     96\u001B[0m \u001B[38;5;66;03m# self is Application\u001B[39;00m\n\u001B[0;32m     97\u001B[0m temp \u001B[38;5;241m=\u001B[39m [\u001B[38;5;28mself\u001B[39m] \u001B[38;5;28;01mif\u001B[39;00m \u001B[38;5;28mself\u001B[39m\u001B[38;5;241m.\u001B[39misBetaRedex \u001B[38;5;28;01melse\u001B[39;00m []\n\u001B[1;32m---> 98\u001B[0m temp \u001B[38;5;241m+\u001B[39m\u001B[38;5;241m=\u001B[39m \u001B[38;5;28;43mself\u001B[39;49m\u001B[38;5;241;43m.\u001B[39;49m\u001B[43m_sub\u001B[49m\u001B[38;5;241;43m.\u001B[39;49m\u001B[43mredexes\u001B[49m \u001B[38;5;241m+\u001B[39m \u001B[38;5;28mself\u001B[39m\u001B[38;5;241m.\u001B[39m_obj\u001B[38;5;241m.\u001B[39mredexes\n\u001B[0;32m     99\u001B[0m \u001B[38;5;28;01mreturn\u001B[39;00m temp\n",
      "File \u001B[1;32mD:\\documents\\python_projects\\pure-calculus\\src\\tests_6\\..\\calculus\\term.py:98\u001B[0m, in \u001B[0;36mTerm.redexes\u001B[1;34m(self)\u001B[0m\n\u001B[0;32m     96\u001B[0m \u001B[38;5;66;03m# self is Application\u001B[39;00m\n\u001B[0;32m     97\u001B[0m temp \u001B[38;5;241m=\u001B[39m [\u001B[38;5;28mself\u001B[39m] \u001B[38;5;28;01mif\u001B[39;00m \u001B[38;5;28mself\u001B[39m\u001B[38;5;241m.\u001B[39misBetaRedex \u001B[38;5;28;01melse\u001B[39;00m []\n\u001B[1;32m---> 98\u001B[0m temp \u001B[38;5;241m+\u001B[39m\u001B[38;5;241m=\u001B[39m \u001B[38;5;28;43mself\u001B[39;49m\u001B[38;5;241;43m.\u001B[39;49m\u001B[43m_sub\u001B[49m\u001B[38;5;241;43m.\u001B[39;49m\u001B[43mredexes\u001B[49m \u001B[38;5;241m+\u001B[39m \u001B[38;5;28mself\u001B[39m\u001B[38;5;241m.\u001B[39m_obj\u001B[38;5;241m.\u001B[39mredexes\n\u001B[0;32m     99\u001B[0m \u001B[38;5;28;01mreturn\u001B[39;00m temp\n",
      "    \u001B[1;31m[... skipping similar frames: Term.redexes at line 98 (5 times)]\u001B[0m\n",
      "File \u001B[1;32mD:\\documents\\python_projects\\pure-calculus\\src\\tests_6\\..\\calculus\\term.py:95\u001B[0m, in \u001B[0;36mTerm.redexes\u001B[1;34m(self)\u001B[0m\n\u001B[0;32m     93\u001B[0m     \u001B[38;5;28;01mreturn\u001B[39;00m []\n\u001B[0;32m     94\u001B[0m \u001B[38;5;28;01mif\u001B[39;00m \u001B[38;5;28mself\u001B[39m\u001B[38;5;241m.\u001B[39misAbstraction:\n\u001B[1;32m---> 95\u001B[0m     \u001B[38;5;28;01mreturn\u001B[39;00m \u001B[38;5;28;43mself\u001B[39;49m\u001B[38;5;241;43m.\u001B[39;49m\u001B[43m_body\u001B[49m\u001B[38;5;241;43m.\u001B[39;49m\u001B[43mredexes\u001B[49m\n\u001B[0;32m     96\u001B[0m \u001B[38;5;66;03m# self is Application\u001B[39;00m\n\u001B[0;32m     97\u001B[0m temp \u001B[38;5;241m=\u001B[39m [\u001B[38;5;28mself\u001B[39m] \u001B[38;5;28;01mif\u001B[39;00m \u001B[38;5;28mself\u001B[39m\u001B[38;5;241m.\u001B[39misBetaRedex \u001B[38;5;28;01melse\u001B[39;00m []\n",
      "    \u001B[1;31m[... skipping similar frames: Term.redexes at line 98 (2 times)]\u001B[0m\n",
      "File \u001B[1;32mD:\\documents\\python_projects\\pure-calculus\\src\\tests_6\\..\\calculus\\term.py:95\u001B[0m, in \u001B[0;36mTerm.redexes\u001B[1;34m(self)\u001B[0m\n\u001B[0;32m     93\u001B[0m     \u001B[38;5;28;01mreturn\u001B[39;00m []\n\u001B[0;32m     94\u001B[0m \u001B[38;5;28;01mif\u001B[39;00m \u001B[38;5;28mself\u001B[39m\u001B[38;5;241m.\u001B[39misAbstraction:\n\u001B[1;32m---> 95\u001B[0m     \u001B[38;5;28;01mreturn\u001B[39;00m \u001B[38;5;28;43mself\u001B[39;49m\u001B[38;5;241;43m.\u001B[39;49m\u001B[43m_body\u001B[49m\u001B[38;5;241;43m.\u001B[39;49m\u001B[43mredexes\u001B[49m\n\u001B[0;32m     96\u001B[0m \u001B[38;5;66;03m# self is Application\u001B[39;00m\n\u001B[0;32m     97\u001B[0m temp \u001B[38;5;241m=\u001B[39m [\u001B[38;5;28mself\u001B[39m] \u001B[38;5;28;01mif\u001B[39;00m \u001B[38;5;28mself\u001B[39m\u001B[38;5;241m.\u001B[39misBetaRedex \u001B[38;5;28;01melse\u001B[39;00m []\n",
      "    \u001B[1;31m[... skipping similar frames: Term.redexes at line 98 (63 times), Term.redexes at line 95 (48 times)]\u001B[0m\n",
      "File \u001B[1;32mD:\\documents\\python_projects\\pure-calculus\\src\\tests_6\\..\\calculus\\term.py:95\u001B[0m, in \u001B[0;36mTerm.redexes\u001B[1;34m(self)\u001B[0m\n\u001B[0;32m     93\u001B[0m     \u001B[38;5;28;01mreturn\u001B[39;00m []\n\u001B[0;32m     94\u001B[0m \u001B[38;5;28;01mif\u001B[39;00m \u001B[38;5;28mself\u001B[39m\u001B[38;5;241m.\u001B[39misAbstraction:\n\u001B[1;32m---> 95\u001B[0m     \u001B[38;5;28;01mreturn\u001B[39;00m \u001B[38;5;28;43mself\u001B[39;49m\u001B[38;5;241;43m.\u001B[39;49m\u001B[43m_body\u001B[49m\u001B[38;5;241;43m.\u001B[39;49m\u001B[43mredexes\u001B[49m\n\u001B[0;32m     96\u001B[0m \u001B[38;5;66;03m# self is Application\u001B[39;00m\n\u001B[0;32m     97\u001B[0m temp \u001B[38;5;241m=\u001B[39m [\u001B[38;5;28mself\u001B[39m] \u001B[38;5;28;01mif\u001B[39;00m \u001B[38;5;28mself\u001B[39m\u001B[38;5;241m.\u001B[39misBetaRedex \u001B[38;5;28;01melse\u001B[39;00m []\n",
      "File \u001B[1;32mD:\\documents\\python_projects\\pure-calculus\\src\\tests_6\\..\\calculus\\term.py:98\u001B[0m, in \u001B[0;36mTerm.redexes\u001B[1;34m(self)\u001B[0m\n\u001B[0;32m     96\u001B[0m \u001B[38;5;66;03m# self is Application\u001B[39;00m\n\u001B[0;32m     97\u001B[0m temp \u001B[38;5;241m=\u001B[39m [\u001B[38;5;28mself\u001B[39m] \u001B[38;5;28;01mif\u001B[39;00m \u001B[38;5;28mself\u001B[39m\u001B[38;5;241m.\u001B[39misBetaRedex \u001B[38;5;28;01melse\u001B[39;00m []\n\u001B[1;32m---> 98\u001B[0m temp \u001B[38;5;241m+\u001B[39m\u001B[38;5;241m=\u001B[39m \u001B[38;5;28;43mself\u001B[39;49m\u001B[38;5;241;43m.\u001B[39;49m\u001B[43m_sub\u001B[49m\u001B[38;5;241;43m.\u001B[39;49m\u001B[43mredexes\u001B[49m \u001B[38;5;241m+\u001B[39m \u001B[38;5;28mself\u001B[39m\u001B[38;5;241m.\u001B[39m_obj\u001B[38;5;241m.\u001B[39mredexes\n\u001B[0;32m     99\u001B[0m \u001B[38;5;28;01mreturn\u001B[39;00m temp\n",
      "\u001B[1;31mKeyboardInterrupt\u001B[0m: "
     ]
    }
   ],
   "source": [
    "test_gcd(0, 0, LeftmostOutermostStrategy())"
   ],
   "metadata": {
    "collapsed": false
   }
  },
  {
   "cell_type": "code",
   "execution_count": null,
   "outputs": [],
   "source": [],
   "metadata": {
    "collapsed": false
   }
  },
  {
   "cell_type": "code",
   "execution_count": null,
   "outputs": [],
   "source": [],
   "metadata": {
    "collapsed": false
   }
  },
  {
   "cell_type": "code",
   "execution_count": null,
   "outputs": [],
   "source": [],
   "metadata": {
    "collapsed": false
   }
  }
 ],
 "metadata": {
  "kernelspec": {
   "display_name": "Python 3",
   "language": "python",
   "name": "python3"
  },
  "language_info": {
   "codemirror_mode": {
    "name": "ipython",
    "version": 2
   },
   "file_extension": ".py",
   "mimetype": "text/x-python",
   "name": "python",
   "nbconvert_exporter": "python",
   "pygments_lexer": "ipython2",
   "version": "2.7.6"
  }
 },
 "nbformat": 4,
 "nbformat_minor": 0
}
