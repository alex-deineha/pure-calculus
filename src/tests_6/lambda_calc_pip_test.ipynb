{
 "cells": [
  {
   "cell_type": "markdown",
   "source": [
    "# Example of usage lambda-calculus library from pip"
   ],
   "metadata": {
    "collapsed": false
   }
  },
  {
   "cell_type": "code",
   "execution_count": 5,
   "metadata": {
    "collapsed": true
   },
   "outputs": [],
   "source": [
    "from lambda_calculus import Variable\n",
    "from lambda_calculus import Abstraction\n",
    "from lambda_calculus import Application\n",
    "\n",
    "from lambda_calculus.visitors.normalisation import BetaNormalisingVisitor"
   ]
  },
  {
   "cell_type": "markdown",
   "source": [
    "## Nesting"
   ],
   "metadata": {
    "collapsed": false
   }
  },
  {
   "cell_type": "code",
   "execution_count": 2,
   "outputs": [
    {
     "name": "stdout",
     "output_type": "stream",
     "text": [
      "((λy.(((λx.(λy.((+ x) y))) y) 3)) 4)\n"
     ]
    }
   ],
   "source": [
    "term = Application(Variable(\"+\"), Variable(\"x\"))\n",
    "term = Application(term, Variable(\"y\"))\n",
    "term = Abstraction(\"y\", term)\n",
    "term = Abstraction(\"x\", term)\n",
    "term = Application(term, Variable(\"y\"))\n",
    "term = Application(term, Variable(\"3\"))\n",
    "term = Abstraction(\"y\", term)\n",
    "term = Application(term, Variable(\"4\"))\n",
    "\n",
    "print(term)"
   ],
   "metadata": {
    "collapsed": false
   }
  },
  {
   "cell_type": "markdown",
   "source": [
    "## Utility Methods"
   ],
   "metadata": {
    "collapsed": false
   }
  },
  {
   "cell_type": "code",
   "execution_count": 3,
   "outputs": [
    {
     "name": "stdout",
     "output_type": "stream",
     "text": [
      "((λy.(((λx.(λy.((+ x) y))) y) 3)) 4)\n"
     ]
    }
   ],
   "source": [
    "x = Variable.with_valid_name(\"x\")\n",
    "y = Variable.with_valid_name(\"y\")\n",
    "\n",
    "term = Application.with_arguments(Variable.with_valid_name(\"+\"), (x, y))\n",
    "term = Abstraction.curried((\"x\", \"y\"), term)\n",
    "term = Application.with_arguments(term, (y, Variable.with_valid_name(\"3\")))\n",
    "term = Abstraction(\"y\", term)\n",
    "term = Application(term, Variable.with_valid_name(\"4\"))\n",
    "\n",
    "print(term)"
   ],
   "metadata": {
    "collapsed": false
   }
  },
  {
   "cell_type": "markdown",
   "source": [
    "## Method Chaining"
   ],
   "metadata": {
    "collapsed": false
   }
  },
  {
   "cell_type": "code",
   "execution_count": 4,
   "outputs": [
    {
     "name": "stdout",
     "output_type": "stream",
     "text": [
      "((λy.(((λx.(λy.((+ x) y))) y) 3)) 4)\n"
     ]
    }
   ],
   "source": [
    "x = Variable.with_valid_name(\"x\")\n",
    "y = Variable.with_valid_name(\"y\")\n",
    "\n",
    "term = Variable(\"+\") \\\n",
    "    .apply_to(x, y) \\\n",
    "    .abstract(\"x\", \"y\") \\\n",
    "    .apply_to(y, Variable(\"3\")) \\\n",
    "    .abstract(\"y\") \\\n",
    "    .apply_to(Variable(\"4\"))\n",
    "print(term)"
   ],
   "metadata": {
    "collapsed": false
   }
  },
  {
   "cell_type": "markdown",
   "source": [
    "## Evaluation"
   ],
   "metadata": {
    "collapsed": false
   }
  },
  {
   "cell_type": "code",
   "execution_count": 6,
   "outputs": [],
   "source": [
    "assert BetaNormalisingVisitor().skip_intermediate(term) == Application.with_arguments(\n",
    "    Variable(\"+\"),\n",
    "    (Variable(\"4\"), Variable(\"3\"))\n",
    ")"
   ],
   "metadata": {
    "collapsed": false
   }
  },
  {
   "cell_type": "code",
   "execution_count": 7,
   "outputs": [
    {
     "data": {
      "text/plain": "Application(abstraction=Application(abstraction=Variable(name='+'), argument=Variable(name='4')), argument=Variable(name='3'))"
     },
     "execution_count": 7,
     "metadata": {},
     "output_type": "execute_result"
    }
   ],
   "source": [
    "BetaNormalisingVisitor().skip_intermediate(term)"
   ],
   "metadata": {
    "collapsed": false
   }
  },
  {
   "cell_type": "code",
   "execution_count": 9,
   "outputs": [
    {
     "data": {
      "text/plain": "Application(abstraction=Application(abstraction=Variable(name='+'), argument=Variable(name='4')), argument=Variable(name='3'))"
     },
     "execution_count": 9,
     "metadata": {},
     "output_type": "execute_result"
    }
   ],
   "source": [
    "Application.with_arguments(\n",
    "    Variable(\"+\"),\n",
    "    (Variable(\"4\"), Variable(\"3\"))\n",
    ")"
   ],
   "metadata": {
    "collapsed": false
   }
  },
  {
   "cell_type": "markdown",
   "source": [
    "# Default lambdas in Python example"
   ],
   "metadata": {
    "collapsed": false
   }
  },
  {
   "cell_type": "code",
   "execution_count": 10,
   "outputs": [
    {
     "name": "stdout",
     "output_type": "stream",
     "text": [
      "15\n"
     ]
    }
   ],
   "source": [
    "import functools\n",
    "\n",
    "result = functools.reduce(lambda x, y: x + y, [1, 2, 3, 4, 5])\n",
    "\n",
    "print (result)"
   ],
   "metadata": {
    "collapsed": false
   }
  }
 ],
 "metadata": {
  "kernelspec": {
   "display_name": "Python 3",
   "language": "python",
   "name": "python3"
  },
  "language_info": {
   "codemirror_mode": {
    "name": "ipython",
    "version": 2
   },
   "file_extension": ".py",
   "mimetype": "text/x-python",
   "name": "python",
   "nbconvert_exporter": "python",
   "pygments_lexer": "ipython2",
   "version": "2.7.6"
  }
 },
 "nbformat": 4,
 "nbformat_minor": 0
}
