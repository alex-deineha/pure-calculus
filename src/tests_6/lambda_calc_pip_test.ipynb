{
 "cells": [
  {
   "cell_type": "markdown",
   "source": [
    "# Example of usage lambda-calculus library from pip"
   ],
   "metadata": {
    "collapsed": false
   }
  },
  {
   "cell_type": "code",
   "execution_count": 1,
   "metadata": {
    "collapsed": true
   },
   "outputs": [],
   "source": [
    "from lambda_calculus import Variable\n",
    "from lambda_calculus import Abstraction\n",
    "from lambda_calculus import Application\n",
    "\n",
    "from lambda_calculus.visitors.normalisation import BetaNormalisingVisitor"
   ]
  },
  {
   "cell_type": "markdown",
   "source": [
    "## Nesting"
   ],
   "metadata": {
    "collapsed": false
   }
  },
  {
   "cell_type": "code",
   "execution_count": 2,
   "outputs": [
    {
     "name": "stdout",
     "output_type": "stream",
     "text": [
      "((λy.(((λx.(λy.((+ x) y))) y) 3)) 4)\n"
     ]
    }
   ],
   "source": [
    "term = Application(Variable(\"+\"), Variable(\"x\"))\n",
    "term = Application(term, Variable(\"y\"))\n",
    "term = Abstraction(\"y\", term)\n",
    "term = Abstraction(\"x\", term)\n",
    "term = Application(term, Variable(\"y\"))\n",
    "term = Application(term, Variable(\"3\"))\n",
    "term = Abstraction(\"y\", term)\n",
    "term = Application(term, Variable(\"4\"))\n",
    "\n",
    "print(term)"
   ],
   "metadata": {
    "collapsed": false
   }
  },
  {
   "cell_type": "markdown",
   "source": [
    "## Utility Methods"
   ],
   "metadata": {
    "collapsed": false
   }
  },
  {
   "cell_type": "code",
   "execution_count": 3,
   "outputs": [
    {
     "name": "stdout",
     "output_type": "stream",
     "text": [
      "((λy.(((λx.(λy.((+ x) y))) y) 3)) 4)\n"
     ]
    }
   ],
   "source": [
    "x = Variable.with_valid_name(\"x\")\n",
    "y = Variable.with_valid_name(\"y\")\n",
    "\n",
    "term = Application.with_arguments(Variable.with_valid_name(\"+\"), (x, y))\n",
    "term = Abstraction.curried((\"x\", \"y\"), term)\n",
    "term = Application.with_arguments(term, (y, Variable.with_valid_name(\"3\")))\n",
    "term = Abstraction(\"y\", term)\n",
    "term = Application(term, Variable.with_valid_name(\"4\"))\n",
    "\n",
    "print(term)"
   ],
   "metadata": {
    "collapsed": false
   }
  },
  {
   "cell_type": "markdown",
   "source": [
    "## Method Chaining"
   ],
   "metadata": {
    "collapsed": false
   }
  },
  {
   "cell_type": "code",
   "execution_count": 4,
   "outputs": [
    {
     "name": "stdout",
     "output_type": "stream",
     "text": [
      "((λy.(((λx.(λy.((+ x) y))) y) 3)) 4)\n"
     ]
    }
   ],
   "source": [
    "x = Variable.with_valid_name(\"x\")\n",
    "y = Variable.with_valid_name(\"y\")\n",
    "\n",
    "term = (\n",
    "    Variable(\"+\")\n",
    "    .apply_to(x, y)\n",
    "    .abstract(\"x\", \"y\")\n",
    "    .apply_to(y, Variable(\"3\"))\n",
    "    .abstract(\"y\")\n",
    "    .apply_to(Variable(\"4\"))\n",
    ")\n",
    "print(term)"
   ],
   "metadata": {
    "collapsed": false
   }
  },
  {
   "cell_type": "markdown",
   "source": [
    "## Evaluation"
   ],
   "metadata": {
    "collapsed": false
   }
  },
  {
   "cell_type": "code",
   "execution_count": 5,
   "outputs": [],
   "source": [
    "assert BetaNormalisingVisitor().skip_intermediate(term) == Application.with_arguments(\n",
    "    Variable(\"+\"), (Variable(\"4\"), Variable(\"3\"))\n",
    ")"
   ],
   "metadata": {
    "collapsed": false
   }
  },
  {
   "cell_type": "code",
   "execution_count": 6,
   "outputs": [
    {
     "data": {
      "text/plain": "Application(abstraction=Application(abstraction=Variable(name='+'), argument=Variable(name='4')), argument=Variable(name='3'))"
     },
     "execution_count": 6,
     "metadata": {},
     "output_type": "execute_result"
    }
   ],
   "source": [
    "BetaNormalisingVisitor().skip_intermediate(term)"
   ],
   "metadata": {
    "collapsed": false
   }
  },
  {
   "cell_type": "code",
   "execution_count": 7,
   "outputs": [
    {
     "data": {
      "text/plain": "Application(abstraction=Application(abstraction=Variable(name='+'), argument=Variable(name='4')), argument=Variable(name='3'))"
     },
     "execution_count": 7,
     "metadata": {},
     "output_type": "execute_result"
    }
   ],
   "source": [
    "Application.with_arguments(Variable(\"+\"), (Variable(\"4\"), Variable(\"3\")))"
   ],
   "metadata": {
    "collapsed": false
   }
  },
  {
   "cell_type": "markdown",
   "source": [
    "# Default lambdas in Python example"
   ],
   "metadata": {
    "collapsed": false
   }
  },
  {
   "cell_type": "code",
   "execution_count": 8,
   "outputs": [
    {
     "name": "stdout",
     "output_type": "stream",
     "text": [
      "15\n"
     ]
    }
   ],
   "source": [
    "import functools\n",
    "\n",
    "result = functools.reduce(lambda x, y: x + y, [1, 2, 3, 4, 5])\n",
    "\n",
    "print(result)"
   ],
   "metadata": {
    "collapsed": false
   }
  },
  {
   "cell_type": "markdown",
   "source": [
    "# More tests of lambda-calculus lib"
   ],
   "metadata": {
    "collapsed": false
   }
  },
  {
   "cell_type": "code",
   "execution_count": 28,
   "outputs": [],
   "source": [
    "from lambda_calculus.terms import logic\n",
    "from lambda_calculus.terms import arithmetic\n",
    "from lambda_calculus.terms import pairs\n",
    "from lambda_calculus.terms import combinators"
   ],
   "metadata": {
    "collapsed": false
   }
  },
  {
   "cell_type": "code",
   "execution_count": 10,
   "outputs": [
    {
     "data": {
      "text/plain": "Abstraction(bound='x', body=Abstraction(bound='y', body=Variable(name='x')))"
     },
     "execution_count": 10,
     "metadata": {},
     "output_type": "execute_result"
    }
   ],
   "source": [
    "logic.TRUE"
   ],
   "metadata": {
    "collapsed": false
   }
  },
  {
   "cell_type": "code",
   "execution_count": 12,
   "outputs": [],
   "source": [
    "term_or_true_false = Application(Application(logic.OR, logic.TRUE), logic.FALSE)"
   ],
   "metadata": {
    "collapsed": false
   }
  },
  {
   "cell_type": "code",
   "execution_count": 14,
   "outputs": [
    {
     "data": {
      "text/plain": "Abstraction(bound='x', body=Abstraction(bound='y', body=Variable(name='x')))"
     },
     "execution_count": 14,
     "metadata": {},
     "output_type": "execute_result"
    }
   ],
   "source": [
    "BetaNormalisingVisitor().skip_intermediate(term_or_true_false)"
   ],
   "metadata": {
    "collapsed": false
   }
  },
  {
   "cell_type": "markdown",
   "source": [
    "# REALIZE NUMBERS"
   ],
   "metadata": {
    "collapsed": false
   }
  },
  {
   "cell_type": "code",
   "execution_count": 23,
   "outputs": [
    {
     "data": {
      "text/plain": "Abstraction(bound='s', body=Abstraction(bound='z', body=Variable(name='z')))"
     },
     "execution_count": 23,
     "metadata": {},
     "output_type": "execute_result"
    }
   ],
   "source": [
    "def n0_term():\n",
    "    return Abstraction(\"s\", Abstraction(\"z\", Variable(\"z\")))\n",
    "\n",
    "\n",
    "n0_term()"
   ],
   "metadata": {
    "collapsed": false
   }
  },
  {
   "cell_type": "code",
   "execution_count": 24,
   "outputs": [],
   "source": [
    "def n_term(n: int):\n",
    "    if n < 0:\n",
    "        raise ValueError(\"in lambda calculus number can't be less than 0\")\n",
    "    if n == 0:\n",
    "        return n0_term()\n",
    "    core_term = Application(Variable(\"s\"), Variable(\"z\"))\n",
    "    for _ in range(n - 1):\n",
    "        core_term = Application(Variable(\"s\"), core_term)\n",
    "    return Abstraction(\"s\", Abstraction(\"z\", core_term))"
   ],
   "metadata": {
    "collapsed": false
   }
  },
  {
   "cell_type": "code",
   "execution_count": 25,
   "outputs": [
    {
     "data": {
      "text/plain": "Abstraction(bound='s', body=Abstraction(bound='z', body=Variable(name='z')))"
     },
     "execution_count": 25,
     "metadata": {},
     "output_type": "execute_result"
    }
   ],
   "source": [
    "n_term(0)"
   ],
   "metadata": {
    "collapsed": false
   }
  },
  {
   "cell_type": "code",
   "execution_count": 26,
   "outputs": [
    {
     "data": {
      "text/plain": "Abstraction(bound='s', body=Abstraction(bound='z', body=Application(abstraction=Variable(name='s'), argument=Variable(name='z'))))"
     },
     "execution_count": 26,
     "metadata": {},
     "output_type": "execute_result"
    }
   ],
   "source": [
    "n_term(1)"
   ],
   "metadata": {
    "collapsed": false
   }
  },
  {
   "cell_type": "code",
   "execution_count": 27,
   "outputs": [
    {
     "data": {
      "text/plain": "Abstraction(bound='s', body=Abstraction(bound='z', body=Application(abstraction=Variable(name='s'), argument=Application(abstraction=Variable(name='s'), argument=Variable(name='z')))))"
     },
     "execution_count": 27,
     "metadata": {},
     "output_type": "execute_result"
    }
   ],
   "source": [
    "n_term(2)"
   ],
   "metadata": {
    "collapsed": false
   }
  },
  {
   "cell_type": "markdown",
   "source": [
    "# TEST NUMBERS"
   ],
   "metadata": {
    "collapsed": false
   }
  },
  {
   "cell_type": "markdown",
   "source": [
    "### test ISZERO"
   ],
   "metadata": {
    "collapsed": false
   }
  },
  {
   "cell_type": "code",
   "execution_count": 29,
   "outputs": [
    {
     "name": "stdout",
     "output_type": "stream",
     "text": [
      "((λn.((n (λx.(λx.(λy.y)))) (λx.(λy.x)))) (λs.(λz.z))) \n",
      "\n",
      "\n",
      "(λx.(λy.x))\n"
     ]
    }
   ],
   "source": [
    "term = Application(arithmetic.ISZERO, n_term(0))\n",
    "print(term, \"\\n\\n\")\n",
    "print(BetaNormalisingVisitor().skip_intermediate(term))"
   ],
   "metadata": {
    "collapsed": false
   }
  },
  {
   "cell_type": "code",
   "execution_count": 30,
   "outputs": [
    {
     "name": "stdout",
     "output_type": "stream",
     "text": [
      "((λn.((n (λx.(λx.(λy.y)))) (λx.(λy.x)))) (λs.(λz.(s z)))) \n",
      "\n",
      "\n",
      "(λx.(λy.y))\n"
     ]
    }
   ],
   "source": [
    "term = Application(arithmetic.ISZERO, n_term(1))\n",
    "print(term, \"\\n\\n\")\n",
    "print(BetaNormalisingVisitor().skip_intermediate(term))"
   ],
   "metadata": {
    "collapsed": false
   }
  },
  {
   "cell_type": "code",
   "execution_count": 31,
   "outputs": [
    {
     "name": "stdout",
     "output_type": "stream",
     "text": [
      "(λx.(λy.y))\n"
     ]
    }
   ],
   "source": [
    "term = Application(arithmetic.ISZERO, n_term(100))\n",
    "# print(term, \"\\n\\n\")\n",
    "print(BetaNormalisingVisitor().skip_intermediate(term))"
   ],
   "metadata": {
    "collapsed": false
   }
  },
  {
   "cell_type": "markdown",
   "source": [
    "### test SUCC"
   ],
   "metadata": {
    "collapsed": false
   }
  },
  {
   "cell_type": "code",
   "execution_count": 32,
   "outputs": [
    {
     "name": "stdout",
     "output_type": "stream",
     "text": [
      "((λn.(λf.(λx.(f ((n f) x))))) (λs.(λz.z))) \n",
      "\n",
      "\n",
      "(λf.(λx.(f x)))\n"
     ]
    }
   ],
   "source": [
    "term = Application(arithmetic.SUCCESSOR, n_term(0))\n",
    "print(term, \"\\n\\n\")\n",
    "print(BetaNormalisingVisitor().skip_intermediate(term))"
   ],
   "metadata": {
    "collapsed": false
   }
  },
  {
   "cell_type": "code",
   "execution_count": 33,
   "outputs": [
    {
     "name": "stdout",
     "output_type": "stream",
     "text": [
      "((λn.(λf.(λx.(f ((n f) x))))) (λs.(λz.(s z)))) \n",
      "\n",
      "\n",
      "(λf.(λx.(f (f x))))\n"
     ]
    }
   ],
   "source": [
    "term = Application(arithmetic.SUCCESSOR, n_term(1))\n",
    "print(term, \"\\n\\n\")\n",
    "print(BetaNormalisingVisitor().skip_intermediate(term))"
   ],
   "metadata": {
    "collapsed": false
   }
  },
  {
   "cell_type": "code",
   "execution_count": 34,
   "outputs": [
    {
     "name": "stdout",
     "output_type": "stream",
     "text": [
      "((λn.(λf.(λx.(f ((n f) x))))) (λs.(λz.(s (s z))))) \n",
      "\n",
      "\n",
      "(λf.(λx.(f (f (f x)))))\n"
     ]
    }
   ],
   "source": [
    "term = Application(arithmetic.SUCCESSOR, n_term(2))\n",
    "print(term, \"\\n\\n\")\n",
    "print(BetaNormalisingVisitor().skip_intermediate(term))"
   ],
   "metadata": {
    "collapsed": false
   }
  },
  {
   "cell_type": "code",
   "execution_count": 35,
   "outputs": [
    {
     "name": "stdout",
     "output_type": "stream",
     "text": [
      "(λf.(λx.x))\n",
      "(λf.(λx.(f (f x))))\n"
     ]
    }
   ],
   "source": [
    "term = Application(Application(pairs.PAIR, arithmetic.number(0)), arithmetic.number(2))\n",
    "\n",
    "f_term = Application(pairs.FIRST, term)\n",
    "s_term = Application(pairs.SECOND, term)\n",
    "\n",
    "print(BetaNormalisingVisitor().skip_intermediate(f_term))\n",
    "print(BetaNormalisingVisitor().skip_intermediate(s_term))"
   ],
   "metadata": {
    "collapsed": false
   }
  },
  {
   "cell_type": "markdown",
   "source": [
    "# creating and testing SINC term"
   ],
   "metadata": {
    "collapsed": false
   }
  },
  {
   "cell_type": "code",
   "execution_count": 36,
   "outputs": [],
   "source": [
    "def sinc_term():\n",
    "    p = Variable(\"p\")\n",
    "    term_inner_0 = Application(pairs.SECOND, p)\n",
    "    term_inner_1 = Application(arithmetic.SUCCESSOR, Application(pairs.SECOND, p))\n",
    "    app = Application(Abstraction(pairs.PAIR, term_inner_0), term_inner_1)\n",
    "    return Abstraction(\"p\", app)"
   ],
   "metadata": {
    "collapsed": false
   }
  },
  {
   "cell_type": "code",
   "execution_count": 37,
   "outputs": [
    {
     "name": "stdout",
     "output_type": "stream",
     "text": [
      "(((λx.(λy.(λf.((f x) y)))) (λf.(λx.x))) (λf.(λx.(f (f x))))) \n",
      "\n",
      "\n",
      "(λf.((f (λf.(λx.x))) (λf.(λx.(f (f x))))))\n"
     ]
    }
   ],
   "source": [
    "s_term = Application(sinc_term(), term)\n",
    "print(term, \"\\n\\n\")\n",
    "print(BetaNormalisingVisitor().skip_intermediate(term))"
   ],
   "metadata": {
    "collapsed": false
   }
  },
  {
   "cell_type": "code",
   "execution_count": 38,
   "outputs": [],
   "source": [
    "def pred_term():\n",
    "    n = Variable(\"n\")\n",
    "    term_inner_0 = Application(\n",
    "        Application(n, sinc_term()),\n",
    "        Application(\n",
    "            Application(pairs.PAIR, arithmetic.number(0)), arithmetic.number(0)\n",
    "        ),\n",
    "    )\n",
    "    return Abstraction(\"n\", Application(pairs.FIRST, term_inner_0))"
   ],
   "metadata": {
    "collapsed": false
   }
  },
  {
   "cell_type": "code",
   "execution_count": 39,
   "outputs": [],
   "source": [
    "def substr_term():\n",
    "    m = Variable(\"m\")\n",
    "    n = Variable(\"n\")\n",
    "    return Abstraction(\n",
    "        \"n\", Abstraction(\"m\", Application(Abstraction(m, pred_term()), n))\n",
    "    )"
   ],
   "metadata": {
    "collapsed": false
   }
  },
  {
   "cell_type": "code",
   "execution_count": 40,
   "outputs": [],
   "source": [
    "def le_term():\n",
    "    m = Variable(\"m\")\n",
    "    n = Variable(\"n\")\n",
    "    return Abstraction(\n",
    "        \"n\",\n",
    "        Abstraction(\n",
    "            \"m\",\n",
    "            Application(\n",
    "                arithmetic.ISZERO, Application(Application(substr_term(), n), m)\n",
    "            ),\n",
    "        ),\n",
    "    )"
   ],
   "metadata": {
    "collapsed": false
   }
  },
  {
   "cell_type": "code",
   "execution_count": 41,
   "outputs": [],
   "source": [
    "def eq_term():\n",
    "    m = Variable(\"m\")\n",
    "    n = Variable(\"n\")\n",
    "    term_le_0 = Application(Application(le_term(), n), m)\n",
    "    term_le_1 = Application(Application(le_term(), m), n)\n",
    "    return Abstraction(\n",
    "        \"n\", Abstraction(\"m\", Application(Application(logic.AND, term_le_0), term_le_1))\n",
    "    )"
   ],
   "metadata": {
    "collapsed": false
   }
  },
  {
   "cell_type": "code",
   "execution_count": 42,
   "outputs": [],
   "source": [
    "def gcd_term():\n",
    "    n, m, f = Variable(\"n\"), Variable(\"m\"), Variable(\"f\")\n",
    "    sub_m_n = Application(Application(substr_term(), m), n)\n",
    "    sub_n_m = Application(Application(substr_term(), n), m)\n",
    "    iszero_n = Application(arithmetic.ISZERO, n)\n",
    "    iszero_m = Application(arithmetic.ISZERO, m)\n",
    "    f_n_sub = Application(Application(f, n), sub_m_n)\n",
    "    f_m_sub = Application(Application(f, m), sub_n_m)\n",
    "    le_n_m = Application(Application(le_term(), n), m)\n",
    "    eq_n_m = Application(Application(eq_term(), n), m)\n",
    "    or_is_zero = Application(logic.OR, Application(iszero_n, iszero_m))\n",
    "    ite_le_sub_sub = Application(\n",
    "        Application(Application(logic.IF_THEN_ELSE, le_n_m), f_n_sub), f_m_sub\n",
    "    )\n",
    "    ite_eq_ite = Application(\n",
    "        Application(Application(logic.IF_THEN_ELSE, eq_n_m), n), ite_le_sub_sub\n",
    "    )\n",
    "    or_is_ite = Application(Application(or_is_zero, arithmetic.number(0)), ite_eq_ite)\n",
    "    inner_app = Application(logic.IF_THEN_ELSE, or_is_ite)\n",
    "    inner_lambda = Abstraction(\"f\", Abstraction(\"n\", Abstraction(\"m\", inner_app)))\n",
    "    return Application(combinators.Y, inner_lambda)"
   ],
   "metadata": {
    "collapsed": false
   }
  },
  {
   "cell_type": "markdown",
   "source": [
    "# testing GCD function:"
   ],
   "metadata": {
    "collapsed": false
   }
  },
  {
   "cell_type": "code",
   "execution_count": 43,
   "outputs": [
    {
     "name": "stdout",
     "output_type": "stream",
     "text": [
      "\n",
      "\n",
      "GCD N0 N0 == 0\n",
      "(λa.(λb.b))\n"
     ]
    }
   ],
   "source": [
    "print(\"\\n\\nGCD N0 N0 == 0\")\n",
    "term = Application(Application(gcd_term(), arithmetic.number(0)), arithmetic.number(0))\n",
    "print(BetaNormalisingVisitor().skip_intermediate(term))"
   ],
   "metadata": {
    "collapsed": false
   }
  },
  {
   "cell_type": "code",
   "execution_count": 44,
   "outputs": [
    {
     "name": "stdout",
     "output_type": "stream",
     "text": [
      "\n",
      "\n",
      "GCD N_1 N_0 == 0\n",
      "(λa.(λb.(a b)))\n"
     ]
    }
   ],
   "source": [
    "first_num = 1\n",
    "second_num = 0\n",
    "print(f\"\\n\\nGCD N_{first_num} N_{second_num} == 0\")\n",
    "term = Application(\n",
    "    Application(gcd_term(), arithmetic.number(first_num)), arithmetic.number(second_num)\n",
    ")\n",
    "print(BetaNormalisingVisitor().skip_intermediate(term))"
   ],
   "metadata": {
    "collapsed": false
   }
  },
  {
   "cell_type": "code",
   "execution_count": 45,
   "outputs": [
    {
     "name": "stdout",
     "output_type": "stream",
     "text": [
      "\n",
      "\n",
      "GCD N_0 N_1 == 0\n",
      "(λa.(λb.a))\n"
     ]
    }
   ],
   "source": [
    "first_num = 0\n",
    "second_num = 1\n",
    "print(f\"\\n\\nGCD N_{first_num} N_{second_num} == 0\")\n",
    "term = Application(\n",
    "    Application(gcd_term(), arithmetic.number(first_num)), arithmetic.number(second_num)\n",
    ")\n",
    "print(BetaNormalisingVisitor().skip_intermediate(term))"
   ],
   "metadata": {
    "collapsed": false
   }
  },
  {
   "cell_type": "code",
   "execution_count": 46,
   "outputs": [
    {
     "name": "stdout",
     "output_type": "stream",
     "text": [
      "\n",
      "\n",
      "GCD N_1 N_1 == 0\n",
      "(λa.(λb.(a b)))\n"
     ]
    }
   ],
   "source": [
    "first_num = 1\n",
    "second_num = 1\n",
    "print(f\"\\n\\nGCD N_{first_num} N_{second_num} == 0\")\n",
    "term = Application(\n",
    "    Application(gcd_term(), arithmetic.number(first_num)), arithmetic.number(second_num)\n",
    ")\n",
    "print(BetaNormalisingVisitor().skip_intermediate(term))"
   ],
   "metadata": {
    "collapsed": false
   }
  },
  {
   "cell_type": "code",
   "execution_count": 47,
   "outputs": [
    {
     "name": "stdout",
     "output_type": "stream",
     "text": [
      "\n",
      "\n",
      "GCD N_3 N_1 == 0\n",
      "(λa.(λb.(a b)))\n"
     ]
    }
   ],
   "source": [
    "first_num = 3\n",
    "second_num = 1\n",
    "print(f\"\\n\\nGCD N_{first_num} N_{second_num} == 0\")\n",
    "term = Application(\n",
    "    Application(gcd_term(), arithmetic.number(first_num)), arithmetic.number(second_num)\n",
    ")\n",
    "print(BetaNormalisingVisitor().skip_intermediate(term))"
   ],
   "metadata": {
    "collapsed": false
   }
  },
  {
   "cell_type": "code",
   "execution_count": 48,
   "outputs": [
    {
     "name": "stdout",
     "output_type": "stream",
     "text": [
      "\n",
      "\n",
      "GCD N_3 N_3 == 0\n",
      "(λa.(λb.(a b)))\n"
     ]
    }
   ],
   "source": [
    "first_num = 3\n",
    "second_num = 3\n",
    "print(f\"\\n\\nGCD N_{first_num} N_{second_num} == 0\")\n",
    "term = Application(\n",
    "    Application(gcd_term(), arithmetic.number(first_num)), arithmetic.number(second_num)\n",
    ")\n",
    "print(BetaNormalisingVisitor().skip_intermediate(term))"
   ],
   "metadata": {
    "collapsed": false
   }
  },
  {
   "cell_type": "code",
   "execution_count": 49,
   "outputs": [
    {
     "name": "stdout",
     "output_type": "stream",
     "text": [
      "\n",
      "\n",
      "GCD N_4 N_1 == 0\n",
      "(λa.(λb.(a b)))\n"
     ]
    }
   ],
   "source": [
    "first_num = 4\n",
    "second_num = 1\n",
    "print(f\"\\n\\nGCD N_{first_num} N_{second_num} == 0\")\n",
    "term = Application(\n",
    "    Application(gcd_term(), arithmetic.number(first_num)), arithmetic.number(second_num)\n",
    ")\n",
    "print(BetaNormalisingVisitor().skip_intermediate(term))"
   ],
   "metadata": {
    "collapsed": false
   }
  },
  {
   "cell_type": "code",
   "execution_count": 50,
   "outputs": [
    {
     "name": "stdout",
     "output_type": "stream",
     "text": [
      "\n",
      "\n",
      "GCD N_40 N_20 == 0\n",
      "(λa.(λb.(a b)))\n"
     ]
    }
   ],
   "source": [
    "first_num = 40\n",
    "second_num = 20\n",
    "print(f\"\\n\\nGCD N_{first_num} N_{second_num} == 0\")\n",
    "term = Application(\n",
    "    Application(gcd_term(), arithmetic.number(first_num)), arithmetic.number(second_num)\n",
    ")\n",
    "print(BetaNormalisingVisitor().skip_intermediate(term))"
   ],
   "metadata": {
    "collapsed": false
   }
  }
 ],
 "metadata": {
  "kernelspec": {
   "display_name": "Python 3",
   "language": "python",
   "name": "python3"
  },
  "language_info": {
   "codemirror_mode": {
    "name": "ipython",
    "version": 2
   },
   "file_extension": ".py",
   "mimetype": "text/x-python",
   "name": "python",
   "nbconvert_exporter": "python",
   "pygments_lexer": "ipython2",
   "version": "2.7.6"
  }
 },
 "nbformat": 4,
 "nbformat_minor": 0
}
