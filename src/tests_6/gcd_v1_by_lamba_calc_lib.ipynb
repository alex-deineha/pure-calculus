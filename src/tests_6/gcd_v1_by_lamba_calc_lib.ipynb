{
 "cells": [
  {
   "cell_type": "markdown",
   "source": [
    "# **GCD_v1 algorithm in with Vlad's lib**\n",
    "[The detailed algorithm](https://web.eecs.umich.edu/~weimerw/2015-4610/scottcd/10a_thfnd.pdf)\n",
    "[Helped Wiki](https://en.wikipedia.org/wiki/Lambda_calculus)"
   ],
   "metadata": {
    "collapsed": false
   }
  },
  {
   "cell_type": "code",
   "execution_count": 1,
   "outputs": [],
   "source": [
    "from lambda_calculus import Variable as Var\n",
    "from lambda_calculus import Abstraction as Lambda\n",
    "from lambda_calculus import Application as App\n",
    "\n",
    "from lambda_calculus.visitors.normalisation import BetaNormalisingVisitor"
   ],
   "metadata": {
    "collapsed": false
   }
  },
  {
   "cell_type": "code",
   "execution_count": 2,
   "outputs": [],
   "source": [
    "from lambda_calculus.terms import logic\n",
    "from lambda_calculus.terms import arithmetic\n",
    "from lambda_calculus.terms import pairs\n",
    "from lambda_calculus.terms import combinators"
   ],
   "metadata": {
    "collapsed": false
   }
  },
  {
   "cell_type": "code",
   "execution_count": 3,
   "outputs": [],
   "source": [
    "def multi_app_term(term_0, term_1, *terms):\n",
    "    res_app_term = App(term_0, term_1)\n",
    "    for term in terms:\n",
    "        res_app_term = App(res_app_term, term)\n",
    "    return res_app_term"
   ],
   "metadata": {
    "collapsed": false
   }
  },
  {
   "cell_type": "code",
   "execution_count": 4,
   "outputs": [],
   "source": [
    "def leq_term():\n",
    "    m, n = Var(\"m\"), Var(\"n\")\n",
    "    return Lambda(\"m\", Lambda(\"n\", App(\n",
    "        arithmetic.ISZERO,\n",
    "        App(App(arithmetic.SUBTRACT, m), n)\n",
    "    )))"
   ],
   "metadata": {
    "collapsed": false
   }
  },
  {
   "cell_type": "code",
   "execution_count": 5,
   "outputs": [],
   "source": [
    "def eq_term():\n",
    "    mm, nn = Var(\"mm\"), Var(\"nn\")\n",
    "    return Lambda(\"mm\", Lambda(\"nn\", multi_app_term(\n",
    "        logic.AND,\n",
    "        multi_app_term(leq_term(), mm, nn),\n",
    "        multi_app_term(leq_term(), nn, mm)\n",
    "    )))"
   ],
   "metadata": {
    "collapsed": false
   }
  },
  {
   "cell_type": "markdown",
   "source": [
    "gcd ≡ (Y\n",
    "        (λg.λa.λb.(ite (equal a b)\n",
    "            a\n",
    "            (ite (greater_than a b)\n",
    "                (g (minus a b) b)\n",
    "                (g (minus b a) a)\n",
    "            )\n",
    "        )\n",
    "      )"
   ],
   "metadata": {
    "collapsed": false
   }
  },
  {
   "cell_type": "code",
   "execution_count": 6,
   "outputs": [],
   "source": [
    "def gcd_v2():\n",
    "    g, a, b = Var(\"g\"), Var(\"a\"), Var(\"b\")\n",
    "    equal_ab = multi_app_term(eq_term(), a, b)\n",
    "\n",
    "    minus_ab = multi_app_term(g, multi_app_term(arithmetic.SUBTRACT, a, b), b)\n",
    "    minus_ba = multi_app_term(g, multi_app_term(arithmetic.SUBTRACT, b, a), a)\n",
    "    le_ab = multi_app_term(leq_term(), b, a)\n",
    "    inner_ite_term = multi_app_term(logic.IF_THEN_ELSE, le_ab, minus_ab, minus_ba)\n",
    "\n",
    "    ite_main_term = multi_app_term(logic.IF_THEN_ELSE, equal_ab, a, inner_ite_term)\n",
    "    gcd_lambda = Lambda(\"g\", Lambda(\"a\", Lambda(\"b\", ite_main_term)))\n",
    "    return App(combinators.Y, gcd_lambda)"
   ],
   "metadata": {
    "collapsed": false
   }
  },
  {
   "cell_type": "code",
   "execution_count": 7,
   "outputs": [],
   "source": [
    "def test_gcd(var_0=0, var_1=0):\n",
    "    term_ = multi_app_term(gcd_v2(), arithmetic.number(var_0), arithmetic.number(var_1))\n",
    "\n",
    "    print(BetaNormalisingVisitor().skip_intermediate(term_))"
   ],
   "metadata": {
    "collapsed": false
   }
  },
  {
   "cell_type": "code",
   "execution_count": 14,
   "outputs": [
    {
     "name": "stdout",
     "output_type": "stream",
     "text": [
      "(λf.(λx.x))\n"
     ]
    }
   ],
   "source": [
    "test_gcd(0, 0)"
   ],
   "metadata": {
    "collapsed": false
   }
  },
  {
   "cell_type": "code",
   "execution_count": 15,
   "outputs": [
    {
     "name": "stderr",
     "output_type": "stream",
     "text": [
      "\n",
      "KeyboardInterrupt\n",
      "\n"
     ]
    }
   ],
   "source": [
    "test_gcd(1, 0)"
   ],
   "metadata": {
    "collapsed": false
   }
  },
  {
   "cell_type": "code",
   "execution_count": 16,
   "outputs": [
    {
     "ename": "KeyboardInterrupt",
     "evalue": "",
     "output_type": "error",
     "traceback": [
      "\u001B[1;31m---------------------------------------------------------------------------\u001B[0m",
      "\u001B[1;31mKeyboardInterrupt\u001B[0m                         Traceback (most recent call last)",
      "Cell \u001B[1;32mIn[16], line 1\u001B[0m\n\u001B[1;32m----> 1\u001B[0m \u001B[43mtest_gcd\u001B[49m\u001B[43m(\u001B[49m\u001B[38;5;241;43m0\u001B[39;49m\u001B[43m,\u001B[49m\u001B[43m \u001B[49m\u001B[38;5;241;43m1\u001B[39;49m\u001B[43m)\u001B[49m\n",
      "Cell \u001B[1;32mIn[13], line 4\u001B[0m, in \u001B[0;36mtest_gcd\u001B[1;34m(var_0, var_1)\u001B[0m\n\u001B[0;32m      1\u001B[0m \u001B[38;5;28;01mdef\u001B[39;00m \u001B[38;5;21mtest_gcd\u001B[39m(var_0\u001B[38;5;241m=\u001B[39m\u001B[38;5;241m0\u001B[39m, var_1\u001B[38;5;241m=\u001B[39m\u001B[38;5;241m0\u001B[39m):\n\u001B[0;32m      2\u001B[0m     term_ \u001B[38;5;241m=\u001B[39m multi_app_term(gcd_v2(), arithmetic\u001B[38;5;241m.\u001B[39mnumber(var_0), arithmetic\u001B[38;5;241m.\u001B[39mnumber(var_1))\n\u001B[1;32m----> 4\u001B[0m     \u001B[38;5;28mprint\u001B[39m(\u001B[43mBetaNormalisingVisitor\u001B[49m\u001B[43m(\u001B[49m\u001B[43m)\u001B[49m\u001B[38;5;241;43m.\u001B[39;49m\u001B[43mskip_intermediate\u001B[49m\u001B[43m(\u001B[49m\u001B[43mterm_\u001B[49m\u001B[43m)\u001B[49m)\n",
      "File \u001B[1;32mD:\\documents\\python_projects\\pure-calculus\\venv_3_11\\Lib\\site-packages\\lambda_calculus\\visitors\\normalisation.py:54\u001B[0m, in \u001B[0;36mBetaNormalisingVisitor.skip_intermediate\u001B[1;34m(self, term)\u001B[0m\n\u001B[0;32m     47\u001B[0m \u001B[38;5;250m\u001B[39m\u001B[38;5;124;03m\"\"\"\u001B[39;00m\n\u001B[0;32m     48\u001B[0m \u001B[38;5;124;03mCalculate the beta normal form directly.\u001B[39;00m\n\u001B[0;32m     49\u001B[0m \u001B[38;5;124;03m\u001B[39;00m\n\u001B[0;32m     50\u001B[0m \u001B[38;5;124;03m:param term: term which should be transformed into ist beta normal form\u001B[39;00m\n\u001B[0;32m     51\u001B[0m \u001B[38;5;124;03m:return: new term representing the beta normal form if it exists\u001B[39;00m\n\u001B[0;32m     52\u001B[0m \u001B[38;5;124;03m\"\"\"\u001B[39;00m\n\u001B[0;32m     53\u001B[0m result \u001B[38;5;241m=\u001B[39m term\n\u001B[1;32m---> 54\u001B[0m \u001B[38;5;28;01mfor\u001B[39;00m _, intermediate \u001B[38;5;129;01min\u001B[39;00m term\u001B[38;5;241m.\u001B[39maccept(\u001B[38;5;28mself\u001B[39m):\n\u001B[0;32m     55\u001B[0m     result \u001B[38;5;241m=\u001B[39m intermediate\n\u001B[0;32m     56\u001B[0m \u001B[38;5;28;01mreturn\u001B[39;00m result\n",
      "File \u001B[1;32mD:\\documents\\python_projects\\pure-calculus\\venv_3_11\\Lib\\site-packages\\lambda_calculus\\visitors\\normalisation.py:117\u001B[0m, in \u001B[0;36mBetaNormalisingVisitor.visit_application\u001B[1;34m(self, application)\u001B[0m\n\u001B[0;32m    115\u001B[0m \u001B[38;5;28;01mif\u001B[39;00m \u001B[38;5;28misinstance\u001B[39m(transformation, terms\u001B[38;5;241m.\u001B[39mAbstraction):\n\u001B[0;32m    116\u001B[0m     reduced \u001B[38;5;241m=\u001B[39m \u001B[38;5;28;01myield from\u001B[39;00m \u001B[38;5;28mself\u001B[39m\u001B[38;5;241m.\u001B[39mbeta_reducation(transformation, application\u001B[38;5;241m.\u001B[39margument)\n\u001B[1;32m--> 117\u001B[0m     \u001B[38;5;28;01myield from\u001B[39;00m reduced\u001B[38;5;241m.\u001B[39maccept(\u001B[38;5;28mself\u001B[39m)\n\u001B[0;32m    118\u001B[0m     \u001B[38;5;28;01mreturn\u001B[39;00m\n\u001B[0;32m    119\u001B[0m \u001B[38;5;28;01melse\u001B[39;00m:\n",
      "File \u001B[1;32mD:\\documents\\python_projects\\pure-calculus\\venv_3_11\\Lib\\site-packages\\lambda_calculus\\visitors\\normalisation.py:117\u001B[0m, in \u001B[0;36mBetaNormalisingVisitor.visit_application\u001B[1;34m(self, application)\u001B[0m\n\u001B[0;32m    115\u001B[0m \u001B[38;5;28;01mif\u001B[39;00m \u001B[38;5;28misinstance\u001B[39m(transformation, terms\u001B[38;5;241m.\u001B[39mAbstraction):\n\u001B[0;32m    116\u001B[0m     reduced \u001B[38;5;241m=\u001B[39m \u001B[38;5;28;01myield from\u001B[39;00m \u001B[38;5;28mself\u001B[39m\u001B[38;5;241m.\u001B[39mbeta_reducation(transformation, application\u001B[38;5;241m.\u001B[39margument)\n\u001B[1;32m--> 117\u001B[0m     \u001B[38;5;28;01myield from\u001B[39;00m reduced\u001B[38;5;241m.\u001B[39maccept(\u001B[38;5;28mself\u001B[39m)\n\u001B[0;32m    118\u001B[0m     \u001B[38;5;28;01mreturn\u001B[39;00m\n\u001B[0;32m    119\u001B[0m \u001B[38;5;28;01melse\u001B[39;00m:\n",
      "    \u001B[1;31m[... skipping similar frames: BetaNormalisingVisitor.visit_application at line 117 (260 times)]\u001B[0m\n",
      "File \u001B[1;32mD:\\documents\\python_projects\\pure-calculus\\venv_3_11\\Lib\\site-packages\\lambda_calculus\\visitors\\normalisation.py:117\u001B[0m, in \u001B[0;36mBetaNormalisingVisitor.visit_application\u001B[1;34m(self, application)\u001B[0m\n\u001B[0;32m    115\u001B[0m \u001B[38;5;28;01mif\u001B[39;00m \u001B[38;5;28misinstance\u001B[39m(transformation, terms\u001B[38;5;241m.\u001B[39mAbstraction):\n\u001B[0;32m    116\u001B[0m     reduced \u001B[38;5;241m=\u001B[39m \u001B[38;5;28;01myield from\u001B[39;00m \u001B[38;5;28mself\u001B[39m\u001B[38;5;241m.\u001B[39mbeta_reducation(transformation, application\u001B[38;5;241m.\u001B[39margument)\n\u001B[1;32m--> 117\u001B[0m     \u001B[38;5;28;01myield from\u001B[39;00m reduced\u001B[38;5;241m.\u001B[39maccept(\u001B[38;5;28mself\u001B[39m)\n\u001B[0;32m    118\u001B[0m     \u001B[38;5;28;01mreturn\u001B[39;00m\n\u001B[0;32m    119\u001B[0m \u001B[38;5;28;01melse\u001B[39;00m:\n",
      "File \u001B[1;32mD:\\documents\\python_projects\\pure-calculus\\venv_3_11\\Lib\\site-packages\\lambda_calculus\\visitors\\normalisation.py:113\u001B[0m, in \u001B[0;36mBetaNormalisingVisitor.visit_application\u001B[1;34m(self, application)\u001B[0m\n\u001B[0;32m    110\u001B[0m \u001B[38;5;28;01melse\u001B[39;00m:\n\u001B[0;32m    111\u001B[0m     \u001B[38;5;66;03m# try to reduce the abstraction until this is a redex\u001B[39;00m\n\u001B[0;32m    112\u001B[0m     abstraction \u001B[38;5;241m=\u001B[39m application\u001B[38;5;241m.\u001B[39mabstraction\n\u001B[1;32m--> 113\u001B[0m     \u001B[38;5;28;01mfor\u001B[39;00m conversion, transformation \u001B[38;5;129;01min\u001B[39;00m application\u001B[38;5;241m.\u001B[39mabstraction\u001B[38;5;241m.\u001B[39maccept(\u001B[38;5;28mself\u001B[39m):\n\u001B[0;32m    114\u001B[0m         \u001B[38;5;28;01myield\u001B[39;00m (conversion, terms\u001B[38;5;241m.\u001B[39mApplication(transformation, application\u001B[38;5;241m.\u001B[39margument))\n\u001B[0;32m    115\u001B[0m         \u001B[38;5;28;01mif\u001B[39;00m \u001B[38;5;28misinstance\u001B[39m(transformation, terms\u001B[38;5;241m.\u001B[39mAbstraction):\n",
      "File \u001B[1;32mD:\\documents\\python_projects\\pure-calculus\\venv_3_11\\Lib\\site-packages\\lambda_calculus\\visitors\\normalisation.py:116\u001B[0m, in \u001B[0;36mBetaNormalisingVisitor.visit_application\u001B[1;34m(self, application)\u001B[0m\n\u001B[0;32m    114\u001B[0m \u001B[38;5;28;01myield\u001B[39;00m (conversion, terms\u001B[38;5;241m.\u001B[39mApplication(transformation, application\u001B[38;5;241m.\u001B[39margument))\n\u001B[0;32m    115\u001B[0m \u001B[38;5;28;01mif\u001B[39;00m \u001B[38;5;28misinstance\u001B[39m(transformation, terms\u001B[38;5;241m.\u001B[39mAbstraction):\n\u001B[1;32m--> 116\u001B[0m     reduced \u001B[38;5;241m=\u001B[39m \u001B[38;5;28;01myield from\u001B[39;00m \u001B[38;5;28mself\u001B[39m\u001B[38;5;241m.\u001B[39mbeta_reducation(transformation, application\u001B[38;5;241m.\u001B[39margument)\n\u001B[0;32m    117\u001B[0m     \u001B[38;5;28;01myield from\u001B[39;00m reduced\u001B[38;5;241m.\u001B[39maccept(\u001B[38;5;28mself\u001B[39m)\n\u001B[0;32m    118\u001B[0m     \u001B[38;5;28;01mreturn\u001B[39;00m\n",
      "File \u001B[1;32mD:\\documents\\python_projects\\pure-calculus\\venv_3_11\\Lib\\site-packages\\lambda_calculus\\visitors\\normalisation.py:86\u001B[0m, in \u001B[0;36mBetaNormalisingVisitor.beta_reducation\u001B[1;34m(self, abstraction, argument)\u001B[0m\n\u001B[0;32m     78\u001B[0m \u001B[38;5;250m\u001B[39m\u001B[38;5;124;03m\"\"\"\u001B[39;00m\n\u001B[0;32m     79\u001B[0m \u001B[38;5;124;03mPerform beta reduction of an application.\u001B[39;00m\n\u001B[0;32m     80\u001B[0m \u001B[38;5;124;03m\u001B[39;00m\n\u001B[1;32m   (...)\u001B[0m\n\u001B[0;32m     83\u001B[0m \u001B[38;5;124;03m:return: Generator yielding steps and returning the reduced term\u001B[39;00m\n\u001B[0;32m     84\u001B[0m \u001B[38;5;124;03m\"\"\"\u001B[39;00m\n\u001B[0;32m     85\u001B[0m conversions \u001B[38;5;241m=\u001B[39m CountingSubstitution\u001B[38;5;241m.\u001B[39mfrom_substitution(abstraction\u001B[38;5;241m.\u001B[39mbound, argument)\u001B[38;5;241m.\u001B[39mtrace()\n\u001B[1;32m---> 86\u001B[0m reduced \u001B[38;5;241m=\u001B[39m \u001B[38;5;28;01myield from\u001B[39;00m \u001B[38;5;28mmap\u001B[39m(\n\u001B[0;32m     87\u001B[0m     \u001B[38;5;28;01mlambda\u001B[39;00m body: (\n\u001B[0;32m     88\u001B[0m         Conversion\u001B[38;5;241m.\u001B[39mALPHA,\n\u001B[0;32m     89\u001B[0m         terms\u001B[38;5;241m.\u001B[39mApplication(terms\u001B[38;5;241m.\u001B[39mAbstraction(abstraction\u001B[38;5;241m.\u001B[39mbound, body), argument)\n\u001B[0;32m     90\u001B[0m     ),\n\u001B[0;32m     91\u001B[0m     abstraction\u001B[38;5;241m.\u001B[39mbody\u001B[38;5;241m.\u001B[39maccept(conversions)    \u001B[38;5;66;03m# type: ignore\u001B[39;00m\n\u001B[0;32m     92\u001B[0m )\n\u001B[0;32m     93\u001B[0m \u001B[38;5;28;01myield\u001B[39;00m (Conversion\u001B[38;5;241m.\u001B[39mBETA, reduced)\n\u001B[0;32m     94\u001B[0m \u001B[38;5;28;01mreturn\u001B[39;00m reduced\n",
      "File \u001B[1;32mD:\\documents\\python_projects\\pure-calculus\\venv_3_11\\Lib\\site-packages\\lambda_calculus\\visitors\\substitution\\renaming.py:137\u001B[0m, in \u001B[0;36mTracingDecorator.visit_abstraction\u001B[1;34m(self, abstraction)\u001B[0m\n\u001B[0;32m    135\u001B[0m     \u001B[38;5;28;01myield\u001B[39;00m substituted\n\u001B[0;32m    136\u001B[0m conversions \u001B[38;5;241m=\u001B[39m substituted\u001B[38;5;241m.\u001B[39mbody\u001B[38;5;241m.\u001B[39maccept(\u001B[38;5;28mself\u001B[39m)\n\u001B[1;32m--> 137\u001B[0m body \u001B[38;5;241m=\u001B[39m \u001B[38;5;28;01myield from\u001B[39;00m \u001B[38;5;28mmap\u001B[39m(\u001B[38;5;28;01mlambda\u001B[39;00m b: terms\u001B[38;5;241m.\u001B[39mAbstraction(substituted\u001B[38;5;241m.\u001B[39mbound, b), conversions)\n\u001B[0;32m    138\u001B[0m \u001B[38;5;28;01mreturn\u001B[39;00m terms\u001B[38;5;241m.\u001B[39mAbstraction(substituted\u001B[38;5;241m.\u001B[39mbound, body)\n",
      "File \u001B[1;32mD:\\documents\\python_projects\\pure-calculus\\venv_3_11\\Lib\\site-packages\\lambda_calculus\\visitors\\substitution\\renaming.py:154\u001B[0m, in \u001B[0;36mTracingDecorator.visit_application\u001B[1;34m(self, application)\u001B[0m\n\u001B[0;32m    152\u001B[0m \u001B[38;5;28;01mwhile\u001B[39;00m \u001B[38;5;28;01mTrue\u001B[39;00m:\n\u001B[0;32m    153\u001B[0m     \u001B[38;5;28;01mtry\u001B[39;00m:\n\u001B[1;32m--> 154\u001B[0m         step \u001B[38;5;241m=\u001B[39m \u001B[38;5;28mnext\u001B[39m(conversions)\n\u001B[0;32m    155\u001B[0m     \u001B[38;5;28;01mexcept\u001B[39;00m \u001B[38;5;167;01mStopIteration\u001B[39;00m \u001B[38;5;28;01mas\u001B[39;00m stop:\n\u001B[0;32m    156\u001B[0m         abstraction \u001B[38;5;241m=\u001B[39m stop\u001B[38;5;241m.\u001B[39mvalue\n",
      "File \u001B[1;32mD:\\documents\\python_projects\\pure-calculus\\venv_3_11\\Lib\\site-packages\\lambda_calculus\\visitors\\substitution\\renaming.py:154\u001B[0m, in \u001B[0;36mTracingDecorator.visit_application\u001B[1;34m(self, application)\u001B[0m\n\u001B[0;32m    152\u001B[0m \u001B[38;5;28;01mwhile\u001B[39;00m \u001B[38;5;28;01mTrue\u001B[39;00m:\n\u001B[0;32m    153\u001B[0m     \u001B[38;5;28;01mtry\u001B[39;00m:\n\u001B[1;32m--> 154\u001B[0m         step \u001B[38;5;241m=\u001B[39m \u001B[38;5;28mnext\u001B[39m(conversions)\n\u001B[0;32m    155\u001B[0m     \u001B[38;5;28;01mexcept\u001B[39;00m \u001B[38;5;167;01mStopIteration\u001B[39;00m \u001B[38;5;28;01mas\u001B[39;00m stop:\n\u001B[0;32m    156\u001B[0m         abstraction \u001B[38;5;241m=\u001B[39m stop\u001B[38;5;241m.\u001B[39mvalue\n",
      "File \u001B[1;32mD:\\documents\\python_projects\\pure-calculus\\venv_3_11\\Lib\\site-packages\\lambda_calculus\\visitors\\substitution\\renaming.py:161\u001B[0m, in \u001B[0;36mTracingDecorator.visit_application\u001B[1;34m(self, application)\u001B[0m\n\u001B[0;32m    159\u001B[0m         \u001B[38;5;28;01myield\u001B[39;00m terms\u001B[38;5;241m.\u001B[39mApplication(step, application\u001B[38;5;241m.\u001B[39margument)\n\u001B[0;32m    160\u001B[0m conversions \u001B[38;5;241m=\u001B[39m application\u001B[38;5;241m.\u001B[39margument\u001B[38;5;241m.\u001B[39maccept(\u001B[38;5;28mself\u001B[39m)\n\u001B[1;32m--> 161\u001B[0m argument \u001B[38;5;241m=\u001B[39m \u001B[38;5;28;01myield from\u001B[39;00m \u001B[38;5;28mmap\u001B[39m(\u001B[38;5;28;01mlambda\u001B[39;00m a: terms\u001B[38;5;241m.\u001B[39mApplication(step, a), conversions)\n\u001B[0;32m    162\u001B[0m \u001B[38;5;28;01mreturn\u001B[39;00m terms\u001B[38;5;241m.\u001B[39mApplication(abstraction, argument)\n",
      "    \u001B[1;31m[... skipping similar frames: TracingDecorator.visit_application at line 154 (1 times)]\u001B[0m\n",
      "File \u001B[1;32mD:\\documents\\python_projects\\pure-calculus\\venv_3_11\\Lib\\site-packages\\lambda_calculus\\visitors\\substitution\\renaming.py:161\u001B[0m, in \u001B[0;36mTracingDecorator.visit_application\u001B[1;34m(self, application)\u001B[0m\n\u001B[0;32m    159\u001B[0m         \u001B[38;5;28;01myield\u001B[39;00m terms\u001B[38;5;241m.\u001B[39mApplication(step, application\u001B[38;5;241m.\u001B[39margument)\n\u001B[0;32m    160\u001B[0m conversions \u001B[38;5;241m=\u001B[39m application\u001B[38;5;241m.\u001B[39margument\u001B[38;5;241m.\u001B[39maccept(\u001B[38;5;28mself\u001B[39m)\n\u001B[1;32m--> 161\u001B[0m argument \u001B[38;5;241m=\u001B[39m \u001B[38;5;28;01myield from\u001B[39;00m \u001B[38;5;28mmap\u001B[39m(\u001B[38;5;28;01mlambda\u001B[39;00m a: terms\u001B[38;5;241m.\u001B[39mApplication(step, a), conversions)\n\u001B[0;32m    162\u001B[0m \u001B[38;5;28;01mreturn\u001B[39;00m terms\u001B[38;5;241m.\u001B[39mApplication(abstraction, argument)\n",
      "    \u001B[1;31m[... skipping similar frames: TracingDecorator.visit_application at line 154 (12 times), TracingDecorator.visit_application at line 161 (10 times)]\u001B[0m\n",
      "File \u001B[1;32mD:\\documents\\python_projects\\pure-calculus\\venv_3_11\\Lib\\site-packages\\lambda_calculus\\visitors\\substitution\\renaming.py:137\u001B[0m, in \u001B[0;36mTracingDecorator.visit_abstraction\u001B[1;34m(self, abstraction)\u001B[0m\n\u001B[0;32m    135\u001B[0m     \u001B[38;5;28;01myield\u001B[39;00m substituted\n\u001B[0;32m    136\u001B[0m conversions \u001B[38;5;241m=\u001B[39m substituted\u001B[38;5;241m.\u001B[39mbody\u001B[38;5;241m.\u001B[39maccept(\u001B[38;5;28mself\u001B[39m)\n\u001B[1;32m--> 137\u001B[0m body \u001B[38;5;241m=\u001B[39m \u001B[38;5;28;01myield from\u001B[39;00m \u001B[38;5;28mmap\u001B[39m(\u001B[38;5;28;01mlambda\u001B[39;00m b: terms\u001B[38;5;241m.\u001B[39mAbstraction(substituted\u001B[38;5;241m.\u001B[39mbound, b), conversions)\n\u001B[0;32m    138\u001B[0m \u001B[38;5;28;01mreturn\u001B[39;00m terms\u001B[38;5;241m.\u001B[39mAbstraction(substituted\u001B[38;5;241m.\u001B[39mbound, body)\n",
      "    \u001B[1;31m[... skipping similar frames: TracingDecorator.visit_abstraction at line 137 (1 times), TracingDecorator.visit_application at line 154 (1 times)]\u001B[0m\n",
      "File \u001B[1;32mD:\\documents\\python_projects\\pure-calculus\\venv_3_11\\Lib\\site-packages\\lambda_calculus\\visitors\\substitution\\renaming.py:161\u001B[0m, in \u001B[0;36mTracingDecorator.visit_application\u001B[1;34m(self, application)\u001B[0m\n\u001B[0;32m    159\u001B[0m         \u001B[38;5;28;01myield\u001B[39;00m terms\u001B[38;5;241m.\u001B[39mApplication(step, application\u001B[38;5;241m.\u001B[39margument)\n\u001B[0;32m    160\u001B[0m conversions \u001B[38;5;241m=\u001B[39m application\u001B[38;5;241m.\u001B[39margument\u001B[38;5;241m.\u001B[39maccept(\u001B[38;5;28mself\u001B[39m)\n\u001B[1;32m--> 161\u001B[0m argument \u001B[38;5;241m=\u001B[39m \u001B[38;5;28;01myield from\u001B[39;00m \u001B[38;5;28mmap\u001B[39m(\u001B[38;5;28;01mlambda\u001B[39;00m a: terms\u001B[38;5;241m.\u001B[39mApplication(step, a), conversions)\n\u001B[0;32m    162\u001B[0m \u001B[38;5;28;01mreturn\u001B[39;00m terms\u001B[38;5;241m.\u001B[39mApplication(abstraction, argument)\n",
      "    \u001B[1;31m[... skipping similar frames: TracingDecorator.visit_abstraction at line 137 (2 times)]\u001B[0m\n",
      "File \u001B[1;32mD:\\documents\\python_projects\\pure-calculus\\venv_3_11\\Lib\\site-packages\\lambda_calculus\\visitors\\substitution\\renaming.py:137\u001B[0m, in \u001B[0;36mTracingDecorator.visit_abstraction\u001B[1;34m(self, abstraction)\u001B[0m\n\u001B[0;32m    135\u001B[0m     \u001B[38;5;28;01myield\u001B[39;00m substituted\n\u001B[0;32m    136\u001B[0m conversions \u001B[38;5;241m=\u001B[39m substituted\u001B[38;5;241m.\u001B[39mbody\u001B[38;5;241m.\u001B[39maccept(\u001B[38;5;28mself\u001B[39m)\n\u001B[1;32m--> 137\u001B[0m body \u001B[38;5;241m=\u001B[39m \u001B[38;5;28;01myield from\u001B[39;00m \u001B[38;5;28mmap\u001B[39m(\u001B[38;5;28;01mlambda\u001B[39;00m b: terms\u001B[38;5;241m.\u001B[39mAbstraction(substituted\u001B[38;5;241m.\u001B[39mbound, b), conversions)\n\u001B[0;32m    138\u001B[0m \u001B[38;5;28;01mreturn\u001B[39;00m terms\u001B[38;5;241m.\u001B[39mAbstraction(substituted\u001B[38;5;241m.\u001B[39mbound, body)\n",
      "File \u001B[1;32mD:\\documents\\python_projects\\pure-calculus\\venv_3_11\\Lib\\site-packages\\lambda_calculus\\visitors\\substitution\\renaming.py:154\u001B[0m, in \u001B[0;36mTracingDecorator.visit_application\u001B[1;34m(self, application)\u001B[0m\n\u001B[0;32m    152\u001B[0m \u001B[38;5;28;01mwhile\u001B[39;00m \u001B[38;5;28;01mTrue\u001B[39;00m:\n\u001B[0;32m    153\u001B[0m     \u001B[38;5;28;01mtry\u001B[39;00m:\n\u001B[1;32m--> 154\u001B[0m         step \u001B[38;5;241m=\u001B[39m \u001B[38;5;28mnext\u001B[39m(conversions)\n\u001B[0;32m    155\u001B[0m     \u001B[38;5;28;01mexcept\u001B[39;00m \u001B[38;5;167;01mStopIteration\u001B[39;00m \u001B[38;5;28;01mas\u001B[39;00m stop:\n\u001B[0;32m    156\u001B[0m         abstraction \u001B[38;5;241m=\u001B[39m stop\u001B[38;5;241m.\u001B[39mvalue\n",
      "File \u001B[1;32mD:\\documents\\python_projects\\pure-calculus\\venv_3_11\\Lib\\site-packages\\lambda_calculus\\visitors\\substitution\\renaming.py:162\u001B[0m, in \u001B[0;36mTracingDecorator.visit_application\u001B[1;34m(self, application)\u001B[0m\n\u001B[0;32m    160\u001B[0m conversions \u001B[38;5;241m=\u001B[39m application\u001B[38;5;241m.\u001B[39margument\u001B[38;5;241m.\u001B[39maccept(\u001B[38;5;28mself\u001B[39m)\n\u001B[0;32m    161\u001B[0m argument \u001B[38;5;241m=\u001B[39m \u001B[38;5;28;01myield from\u001B[39;00m \u001B[38;5;28mmap\u001B[39m(\u001B[38;5;28;01mlambda\u001B[39;00m a: terms\u001B[38;5;241m.\u001B[39mApplication(step, a), conversions)\n\u001B[1;32m--> 162\u001B[0m \u001B[38;5;28;01mreturn\u001B[39;00m \u001B[43mterms\u001B[49m\u001B[38;5;241;43m.\u001B[39;49m\u001B[43mApplication\u001B[49m\u001B[43m(\u001B[49m\u001B[43mabstraction\u001B[49m\u001B[43m,\u001B[49m\u001B[43m \u001B[49m\u001B[43margument\u001B[49m\u001B[43m)\u001B[49m\n",
      "\u001B[1;31mKeyboardInterrupt\u001B[0m: "
     ]
    }
   ],
   "source": [
    "test_gcd(0, 1)"
   ],
   "metadata": {
    "collapsed": false
   }
  },
  {
   "cell_type": "code",
   "execution_count": 17,
   "outputs": [
    {
     "name": "stdout",
     "output_type": "stream",
     "text": [
      "(λf.(λx.(f (f x))))\n"
     ]
    }
   ],
   "source": [
    "test_gcd(2, 2)"
   ],
   "metadata": {
    "collapsed": false
   }
  },
  {
   "cell_type": "code",
   "execution_count": 18,
   "outputs": [
    {
     "name": "stdout",
     "output_type": "stream",
     "text": [
      "(λf.(λx.(f (f x))))\n"
     ]
    }
   ],
   "source": [
    "test_gcd(2, 4)"
   ],
   "metadata": {
    "collapsed": false
   }
  },
  {
   "cell_type": "code",
   "execution_count": 19,
   "outputs": [
    {
     "name": "stdout",
     "output_type": "stream",
     "text": [
      "(λf.(λx.(f (f x))))\n"
     ]
    }
   ],
   "source": [
    "test_gcd(4, 2)"
   ],
   "metadata": {
    "collapsed": false
   }
  },
  {
   "cell_type": "code",
   "execution_count": 20,
   "outputs": [
    {
     "name": "stdout",
     "output_type": "stream",
     "text": [
      "(λf.(λx.(f (f (f x)))))\n"
     ]
    }
   ],
   "source": [
    "test_gcd(6, 3)"
   ],
   "metadata": {
    "collapsed": false
   }
  },
  {
   "cell_type": "code",
   "execution_count": 21,
   "outputs": [
    {
     "name": "stdout",
     "output_type": "stream",
     "text": [
      "(λf.(λx.(f (f (f x)))))\n"
     ]
    }
   ],
   "source": [
    "test_gcd(3, 6)"
   ],
   "metadata": {
    "collapsed": false
   }
  },
  {
   "cell_type": "code",
   "execution_count": 22,
   "outputs": [
    {
     "name": "stdout",
     "output_type": "stream",
     "text": [
      "(λf.(λx.(f (f (f (f (f (f (f (f (f (f (f (f (f (f (f (f x))))))))))))))))))\n"
     ]
    }
   ],
   "source": [
    "test_gcd(16, 32)"
   ],
   "metadata": {
    "collapsed": false
   }
  },
  {
   "cell_type": "code",
   "execution_count": 23,
   "outputs": [
    {
     "ename": "KeyboardInterrupt",
     "evalue": "",
     "output_type": "error",
     "traceback": [
      "\u001B[1;31m---------------------------------------------------------------------------\u001B[0m",
      "\u001B[1;31mKeyboardInterrupt\u001B[0m                         Traceback (most recent call last)",
      "Cell \u001B[1;32mIn[23], line 1\u001B[0m\n\u001B[1;32m----> 1\u001B[0m \u001B[43mtest_gcd\u001B[49m\u001B[43m(\u001B[49m\u001B[38;5;241;43m15\u001B[39;49m\u001B[43m,\u001B[49m\u001B[43m \u001B[49m\u001B[38;5;241;43m0\u001B[39;49m\u001B[43m)\u001B[49m\n",
      "Cell \u001B[1;32mIn[13], line 4\u001B[0m, in \u001B[0;36mtest_gcd\u001B[1;34m(var_0, var_1)\u001B[0m\n\u001B[0;32m      1\u001B[0m \u001B[38;5;28;01mdef\u001B[39;00m \u001B[38;5;21mtest_gcd\u001B[39m(var_0\u001B[38;5;241m=\u001B[39m\u001B[38;5;241m0\u001B[39m, var_1\u001B[38;5;241m=\u001B[39m\u001B[38;5;241m0\u001B[39m):\n\u001B[0;32m      2\u001B[0m     term_ \u001B[38;5;241m=\u001B[39m multi_app_term(gcd_v2(), arithmetic\u001B[38;5;241m.\u001B[39mnumber(var_0), arithmetic\u001B[38;5;241m.\u001B[39mnumber(var_1))\n\u001B[1;32m----> 4\u001B[0m     \u001B[38;5;28mprint\u001B[39m(\u001B[43mBetaNormalisingVisitor\u001B[49m\u001B[43m(\u001B[49m\u001B[43m)\u001B[49m\u001B[38;5;241;43m.\u001B[39;49m\u001B[43mskip_intermediate\u001B[49m\u001B[43m(\u001B[49m\u001B[43mterm_\u001B[49m\u001B[43m)\u001B[49m)\n",
      "File \u001B[1;32mD:\\documents\\python_projects\\pure-calculus\\venv_3_11\\Lib\\site-packages\\lambda_calculus\\visitors\\normalisation.py:54\u001B[0m, in \u001B[0;36mBetaNormalisingVisitor.skip_intermediate\u001B[1;34m(self, term)\u001B[0m\n\u001B[0;32m     47\u001B[0m \u001B[38;5;250m\u001B[39m\u001B[38;5;124;03m\"\"\"\u001B[39;00m\n\u001B[0;32m     48\u001B[0m \u001B[38;5;124;03mCalculate the beta normal form directly.\u001B[39;00m\n\u001B[0;32m     49\u001B[0m \u001B[38;5;124;03m\u001B[39;00m\n\u001B[0;32m     50\u001B[0m \u001B[38;5;124;03m:param term: term which should be transformed into ist beta normal form\u001B[39;00m\n\u001B[0;32m     51\u001B[0m \u001B[38;5;124;03m:return: new term representing the beta normal form if it exists\u001B[39;00m\n\u001B[0;32m     52\u001B[0m \u001B[38;5;124;03m\"\"\"\u001B[39;00m\n\u001B[0;32m     53\u001B[0m result \u001B[38;5;241m=\u001B[39m term\n\u001B[1;32m---> 54\u001B[0m \u001B[38;5;28;01mfor\u001B[39;00m _, intermediate \u001B[38;5;129;01min\u001B[39;00m term\u001B[38;5;241m.\u001B[39maccept(\u001B[38;5;28mself\u001B[39m):\n\u001B[0;32m     55\u001B[0m     result \u001B[38;5;241m=\u001B[39m intermediate\n\u001B[0;32m     56\u001B[0m \u001B[38;5;28;01mreturn\u001B[39;00m result\n",
      "File \u001B[1;32mD:\\documents\\python_projects\\pure-calculus\\venv_3_11\\Lib\\site-packages\\lambda_calculus\\visitors\\normalisation.py:117\u001B[0m, in \u001B[0;36mBetaNormalisingVisitor.visit_application\u001B[1;34m(self, application)\u001B[0m\n\u001B[0;32m    115\u001B[0m \u001B[38;5;28;01mif\u001B[39;00m \u001B[38;5;28misinstance\u001B[39m(transformation, terms\u001B[38;5;241m.\u001B[39mAbstraction):\n\u001B[0;32m    116\u001B[0m     reduced \u001B[38;5;241m=\u001B[39m \u001B[38;5;28;01myield from\u001B[39;00m \u001B[38;5;28mself\u001B[39m\u001B[38;5;241m.\u001B[39mbeta_reducation(transformation, application\u001B[38;5;241m.\u001B[39margument)\n\u001B[1;32m--> 117\u001B[0m     \u001B[38;5;28;01myield from\u001B[39;00m reduced\u001B[38;5;241m.\u001B[39maccept(\u001B[38;5;28mself\u001B[39m)\n\u001B[0;32m    118\u001B[0m     \u001B[38;5;28;01mreturn\u001B[39;00m\n\u001B[0;32m    119\u001B[0m \u001B[38;5;28;01melse\u001B[39;00m:\n",
      "File \u001B[1;32mD:\\documents\\python_projects\\pure-calculus\\venv_3_11\\Lib\\site-packages\\lambda_calculus\\visitors\\normalisation.py:117\u001B[0m, in \u001B[0;36mBetaNormalisingVisitor.visit_application\u001B[1;34m(self, application)\u001B[0m\n\u001B[0;32m    115\u001B[0m \u001B[38;5;28;01mif\u001B[39;00m \u001B[38;5;28misinstance\u001B[39m(transformation, terms\u001B[38;5;241m.\u001B[39mAbstraction):\n\u001B[0;32m    116\u001B[0m     reduced \u001B[38;5;241m=\u001B[39m \u001B[38;5;28;01myield from\u001B[39;00m \u001B[38;5;28mself\u001B[39m\u001B[38;5;241m.\u001B[39mbeta_reducation(transformation, application\u001B[38;5;241m.\u001B[39margument)\n\u001B[1;32m--> 117\u001B[0m     \u001B[38;5;28;01myield from\u001B[39;00m reduced\u001B[38;5;241m.\u001B[39maccept(\u001B[38;5;28mself\u001B[39m)\n\u001B[0;32m    118\u001B[0m     \u001B[38;5;28;01mreturn\u001B[39;00m\n\u001B[0;32m    119\u001B[0m \u001B[38;5;28;01melse\u001B[39;00m:\n",
      "    \u001B[1;31m[... skipping similar frames: BetaNormalisingVisitor.visit_application at line 117 (214 times)]\u001B[0m\n",
      "File \u001B[1;32mD:\\documents\\python_projects\\pure-calculus\\venv_3_11\\Lib\\site-packages\\lambda_calculus\\visitors\\normalisation.py:117\u001B[0m, in \u001B[0;36mBetaNormalisingVisitor.visit_application\u001B[1;34m(self, application)\u001B[0m\n\u001B[0;32m    115\u001B[0m \u001B[38;5;28;01mif\u001B[39;00m \u001B[38;5;28misinstance\u001B[39m(transformation, terms\u001B[38;5;241m.\u001B[39mAbstraction):\n\u001B[0;32m    116\u001B[0m     reduced \u001B[38;5;241m=\u001B[39m \u001B[38;5;28;01myield from\u001B[39;00m \u001B[38;5;28mself\u001B[39m\u001B[38;5;241m.\u001B[39mbeta_reducation(transformation, application\u001B[38;5;241m.\u001B[39margument)\n\u001B[1;32m--> 117\u001B[0m     \u001B[38;5;28;01myield from\u001B[39;00m reduced\u001B[38;5;241m.\u001B[39maccept(\u001B[38;5;28mself\u001B[39m)\n\u001B[0;32m    118\u001B[0m     \u001B[38;5;28;01mreturn\u001B[39;00m\n\u001B[0;32m    119\u001B[0m \u001B[38;5;28;01melse\u001B[39;00m:\n",
      "File \u001B[1;32mD:\\documents\\python_projects\\pure-calculus\\venv_3_11\\Lib\\site-packages\\lambda_calculus\\visitors\\normalisation.py:115\u001B[0m, in \u001B[0;36mBetaNormalisingVisitor.visit_application\u001B[1;34m(self, application)\u001B[0m\n\u001B[0;32m    113\u001B[0m \u001B[38;5;28;01mfor\u001B[39;00m conversion, transformation \u001B[38;5;129;01min\u001B[39;00m application\u001B[38;5;241m.\u001B[39mabstraction\u001B[38;5;241m.\u001B[39maccept(\u001B[38;5;28mself\u001B[39m):\n\u001B[0;32m    114\u001B[0m     \u001B[38;5;28;01myield\u001B[39;00m (conversion, terms\u001B[38;5;241m.\u001B[39mApplication(transformation, application\u001B[38;5;241m.\u001B[39margument))\n\u001B[1;32m--> 115\u001B[0m     \u001B[38;5;28;01mif\u001B[39;00m \u001B[38;5;28misinstance\u001B[39m(transformation, terms\u001B[38;5;241m.\u001B[39mAbstraction):\n\u001B[0;32m    116\u001B[0m         reduced \u001B[38;5;241m=\u001B[39m \u001B[38;5;28;01myield from\u001B[39;00m \u001B[38;5;28mself\u001B[39m\u001B[38;5;241m.\u001B[39mbeta_reducation(transformation, application\u001B[38;5;241m.\u001B[39margument)\n\u001B[0;32m    117\u001B[0m         \u001B[38;5;28;01myield from\u001B[39;00m reduced\u001B[38;5;241m.\u001B[39maccept(\u001B[38;5;28mself\u001B[39m)\n",
      "File \u001B[1;32m<frozen abc>:117\u001B[0m, in \u001B[0;36m__instancecheck__\u001B[1;34m(cls, instance)\u001B[0m\n",
      "\u001B[1;31mKeyboardInterrupt\u001B[0m: "
     ]
    }
   ],
   "source": [
    "test_gcd(15, 0)"
   ],
   "metadata": {
    "collapsed": false
   }
  },
  {
   "cell_type": "code",
   "execution_count": 24,
   "outputs": [
    {
     "name": "stdout",
     "output_type": "stream",
     "text": [
      "(λf.(λx.(f x)))\n"
     ]
    }
   ],
   "source": [
    "test_gcd(15, 1)"
   ],
   "metadata": {
    "collapsed": false
   }
  },
  {
   "cell_type": "code",
   "execution_count": 25,
   "outputs": [
    {
     "name": "stdout",
     "output_type": "stream",
     "text": [
      "(λf.(λx.(f x)))\n"
     ]
    }
   ],
   "source": [
    "test_gcd(1, 15)"
   ],
   "metadata": {
    "collapsed": false
   }
  },
  {
   "cell_type": "code",
   "execution_count": 26,
   "outputs": [
    {
     "name": "stdout",
     "output_type": "stream",
     "text": [
      "(λf.(λx.(f (f (f x)))))\n"
     ]
    }
   ],
   "source": [
    "test_gcd(12, 15)"
   ],
   "metadata": {
    "collapsed": false
   }
  },
  {
   "cell_type": "code",
   "execution_count": 8,
   "outputs": [
    {
     "ename": "KeyboardInterrupt",
     "evalue": "",
     "output_type": "error",
     "traceback": [
      "\u001B[1;31m---------------------------------------------------------------------------\u001B[0m",
      "\u001B[1;31mKeyboardInterrupt\u001B[0m                         Traceback (most recent call last)",
      "Cell \u001B[1;32mIn[8], line 1\u001B[0m\n\u001B[1;32m----> 1\u001B[0m \u001B[43mtest_gcd\u001B[49m\u001B[43m(\u001B[49m\u001B[38;5;241;43m144\u001B[39;49m\u001B[43m,\u001B[49m\u001B[43m \u001B[49m\u001B[38;5;241;43m12\u001B[39;49m\u001B[43m)\u001B[49m\n",
      "Cell \u001B[1;32mIn[7], line 4\u001B[0m, in \u001B[0;36mtest_gcd\u001B[1;34m(var_0, var_1)\u001B[0m\n\u001B[0;32m      1\u001B[0m \u001B[38;5;28;01mdef\u001B[39;00m \u001B[38;5;21mtest_gcd\u001B[39m(var_0\u001B[38;5;241m=\u001B[39m\u001B[38;5;241m0\u001B[39m, var_1\u001B[38;5;241m=\u001B[39m\u001B[38;5;241m0\u001B[39m):\n\u001B[0;32m      2\u001B[0m     term_ \u001B[38;5;241m=\u001B[39m multi_app_term(gcd_v2(), arithmetic\u001B[38;5;241m.\u001B[39mnumber(var_0), arithmetic\u001B[38;5;241m.\u001B[39mnumber(var_1))\n\u001B[1;32m----> 4\u001B[0m     \u001B[38;5;28mprint\u001B[39m(\u001B[43mBetaNormalisingVisitor\u001B[49m\u001B[43m(\u001B[49m\u001B[43m)\u001B[49m\u001B[38;5;241;43m.\u001B[39;49m\u001B[43mskip_intermediate\u001B[49m\u001B[43m(\u001B[49m\u001B[43mterm_\u001B[49m\u001B[43m)\u001B[49m)\n",
      "File \u001B[1;32mD:\\documents\\python_projects\\pure-calculus\\venv_3_11\\Lib\\site-packages\\lambda_calculus\\visitors\\normalisation.py:54\u001B[0m, in \u001B[0;36mBetaNormalisingVisitor.skip_intermediate\u001B[1;34m(self, term)\u001B[0m\n\u001B[0;32m     47\u001B[0m \u001B[38;5;250m\u001B[39m\u001B[38;5;124;03m\"\"\"\u001B[39;00m\n\u001B[0;32m     48\u001B[0m \u001B[38;5;124;03mCalculate the beta normal form directly.\u001B[39;00m\n\u001B[0;32m     49\u001B[0m \u001B[38;5;124;03m\u001B[39;00m\n\u001B[0;32m     50\u001B[0m \u001B[38;5;124;03m:param term: term which should be transformed into ist beta normal form\u001B[39;00m\n\u001B[0;32m     51\u001B[0m \u001B[38;5;124;03m:return: new term representing the beta normal form if it exists\u001B[39;00m\n\u001B[0;32m     52\u001B[0m \u001B[38;5;124;03m\"\"\"\u001B[39;00m\n\u001B[0;32m     53\u001B[0m result \u001B[38;5;241m=\u001B[39m term\n\u001B[1;32m---> 54\u001B[0m \u001B[38;5;28;01mfor\u001B[39;00m _, intermediate \u001B[38;5;129;01min\u001B[39;00m term\u001B[38;5;241m.\u001B[39maccept(\u001B[38;5;28mself\u001B[39m):\n\u001B[0;32m     55\u001B[0m     result \u001B[38;5;241m=\u001B[39m intermediate\n\u001B[0;32m     56\u001B[0m \u001B[38;5;28;01mreturn\u001B[39;00m result\n",
      "File \u001B[1;32mD:\\documents\\python_projects\\pure-calculus\\venv_3_11\\Lib\\site-packages\\lambda_calculus\\visitors\\normalisation.py:117\u001B[0m, in \u001B[0;36mBetaNormalisingVisitor.visit_application\u001B[1;34m(self, application)\u001B[0m\n\u001B[0;32m    115\u001B[0m \u001B[38;5;28;01mif\u001B[39;00m \u001B[38;5;28misinstance\u001B[39m(transformation, terms\u001B[38;5;241m.\u001B[39mAbstraction):\n\u001B[0;32m    116\u001B[0m     reduced \u001B[38;5;241m=\u001B[39m \u001B[38;5;28;01myield from\u001B[39;00m \u001B[38;5;28mself\u001B[39m\u001B[38;5;241m.\u001B[39mbeta_reducation(transformation, application\u001B[38;5;241m.\u001B[39margument)\n\u001B[1;32m--> 117\u001B[0m     \u001B[38;5;28;01myield from\u001B[39;00m reduced\u001B[38;5;241m.\u001B[39maccept(\u001B[38;5;28mself\u001B[39m)\n\u001B[0;32m    118\u001B[0m     \u001B[38;5;28;01mreturn\u001B[39;00m\n\u001B[0;32m    119\u001B[0m \u001B[38;5;28;01melse\u001B[39;00m:\n",
      "File \u001B[1;32mD:\\documents\\python_projects\\pure-calculus\\venv_3_11\\Lib\\site-packages\\lambda_calculus\\visitors\\normalisation.py:117\u001B[0m, in \u001B[0;36mBetaNormalisingVisitor.visit_application\u001B[1;34m(self, application)\u001B[0m\n\u001B[0;32m    115\u001B[0m \u001B[38;5;28;01mif\u001B[39;00m \u001B[38;5;28misinstance\u001B[39m(transformation, terms\u001B[38;5;241m.\u001B[39mAbstraction):\n\u001B[0;32m    116\u001B[0m     reduced \u001B[38;5;241m=\u001B[39m \u001B[38;5;28;01myield from\u001B[39;00m \u001B[38;5;28mself\u001B[39m\u001B[38;5;241m.\u001B[39mbeta_reducation(transformation, application\u001B[38;5;241m.\u001B[39margument)\n\u001B[1;32m--> 117\u001B[0m     \u001B[38;5;28;01myield from\u001B[39;00m reduced\u001B[38;5;241m.\u001B[39maccept(\u001B[38;5;28mself\u001B[39m)\n\u001B[0;32m    118\u001B[0m     \u001B[38;5;28;01mreturn\u001B[39;00m\n\u001B[0;32m    119\u001B[0m \u001B[38;5;28;01melse\u001B[39;00m:\n",
      "    \u001B[1;31m[... skipping similar frames: BetaNormalisingVisitor.visit_application at line 117 (30 times)]\u001B[0m\n",
      "File \u001B[1;32mD:\\documents\\python_projects\\pure-calculus\\venv_3_11\\Lib\\site-packages\\lambda_calculus\\visitors\\normalisation.py:113\u001B[0m, in \u001B[0;36mBetaNormalisingVisitor.visit_application\u001B[1;34m(self, application)\u001B[0m\n\u001B[0;32m    110\u001B[0m \u001B[38;5;28;01melse\u001B[39;00m:\n\u001B[0;32m    111\u001B[0m     \u001B[38;5;66;03m# try to reduce the abstraction until this is a redex\u001B[39;00m\n\u001B[0;32m    112\u001B[0m     abstraction \u001B[38;5;241m=\u001B[39m application\u001B[38;5;241m.\u001B[39mabstraction\n\u001B[1;32m--> 113\u001B[0m     \u001B[38;5;28;01mfor\u001B[39;00m conversion, transformation \u001B[38;5;129;01min\u001B[39;00m application\u001B[38;5;241m.\u001B[39mabstraction\u001B[38;5;241m.\u001B[39maccept(\u001B[38;5;28mself\u001B[39m):\n\u001B[0;32m    114\u001B[0m         \u001B[38;5;28;01myield\u001B[39;00m (conversion, terms\u001B[38;5;241m.\u001B[39mApplication(transformation, application\u001B[38;5;241m.\u001B[39margument))\n\u001B[0;32m    115\u001B[0m         \u001B[38;5;28;01mif\u001B[39;00m \u001B[38;5;28misinstance\u001B[39m(transformation, terms\u001B[38;5;241m.\u001B[39mAbstraction):\n",
      "File \u001B[1;32mD:\\documents\\python_projects\\pure-calculus\\venv_3_11\\Lib\\site-packages\\lambda_calculus\\visitors\\normalisation.py:113\u001B[0m, in \u001B[0;36mBetaNormalisingVisitor.visit_application\u001B[1;34m(self, application)\u001B[0m\n\u001B[0;32m    110\u001B[0m \u001B[38;5;28;01melse\u001B[39;00m:\n\u001B[0;32m    111\u001B[0m     \u001B[38;5;66;03m# try to reduce the abstraction until this is a redex\u001B[39;00m\n\u001B[0;32m    112\u001B[0m     abstraction \u001B[38;5;241m=\u001B[39m application\u001B[38;5;241m.\u001B[39mabstraction\n\u001B[1;32m--> 113\u001B[0m     \u001B[38;5;28;01mfor\u001B[39;00m conversion, transformation \u001B[38;5;129;01min\u001B[39;00m application\u001B[38;5;241m.\u001B[39mabstraction\u001B[38;5;241m.\u001B[39maccept(\u001B[38;5;28mself\u001B[39m):\n\u001B[0;32m    114\u001B[0m         \u001B[38;5;28;01myield\u001B[39;00m (conversion, terms\u001B[38;5;241m.\u001B[39mApplication(transformation, application\u001B[38;5;241m.\u001B[39margument))\n\u001B[0;32m    115\u001B[0m         \u001B[38;5;28;01mif\u001B[39;00m \u001B[38;5;28misinstance\u001B[39m(transformation, terms\u001B[38;5;241m.\u001B[39mAbstraction):\n",
      "    \u001B[1;31m[... skipping similar frames: BetaNormalisingVisitor.visit_application at line 117 (2 times), BetaNormalisingVisitor.visit_application at line 113 (1 times)]\u001B[0m\n",
      "File \u001B[1;32mD:\\documents\\python_projects\\pure-calculus\\venv_3_11\\Lib\\site-packages\\lambda_calculus\\visitors\\normalisation.py:113\u001B[0m, in \u001B[0;36mBetaNormalisingVisitor.visit_application\u001B[1;34m(self, application)\u001B[0m\n\u001B[0;32m    110\u001B[0m \u001B[38;5;28;01melse\u001B[39;00m:\n\u001B[0;32m    111\u001B[0m     \u001B[38;5;66;03m# try to reduce the abstraction until this is a redex\u001B[39;00m\n\u001B[0;32m    112\u001B[0m     abstraction \u001B[38;5;241m=\u001B[39m application\u001B[38;5;241m.\u001B[39mabstraction\n\u001B[1;32m--> 113\u001B[0m     \u001B[38;5;28;01mfor\u001B[39;00m conversion, transformation \u001B[38;5;129;01min\u001B[39;00m application\u001B[38;5;241m.\u001B[39mabstraction\u001B[38;5;241m.\u001B[39maccept(\u001B[38;5;28mself\u001B[39m):\n\u001B[0;32m    114\u001B[0m         \u001B[38;5;28;01myield\u001B[39;00m (conversion, terms\u001B[38;5;241m.\u001B[39mApplication(transformation, application\u001B[38;5;241m.\u001B[39margument))\n\u001B[0;32m    115\u001B[0m         \u001B[38;5;28;01mif\u001B[39;00m \u001B[38;5;28misinstance\u001B[39m(transformation, terms\u001B[38;5;241m.\u001B[39mAbstraction):\n",
      "File \u001B[1;32mD:\\documents\\python_projects\\pure-calculus\\venv_3_11\\Lib\\site-packages\\lambda_calculus\\visitors\\normalisation.py:117\u001B[0m, in \u001B[0;36mBetaNormalisingVisitor.visit_application\u001B[1;34m(self, application)\u001B[0m\n\u001B[0;32m    115\u001B[0m \u001B[38;5;28;01mif\u001B[39;00m \u001B[38;5;28misinstance\u001B[39m(transformation, terms\u001B[38;5;241m.\u001B[39mAbstraction):\n\u001B[0;32m    116\u001B[0m     reduced \u001B[38;5;241m=\u001B[39m \u001B[38;5;28;01myield from\u001B[39;00m \u001B[38;5;28mself\u001B[39m\u001B[38;5;241m.\u001B[39mbeta_reducation(transformation, application\u001B[38;5;241m.\u001B[39margument)\n\u001B[1;32m--> 117\u001B[0m     \u001B[38;5;28;01myield from\u001B[39;00m reduced\u001B[38;5;241m.\u001B[39maccept(\u001B[38;5;28mself\u001B[39m)\n\u001B[0;32m    118\u001B[0m     \u001B[38;5;28;01mreturn\u001B[39;00m\n\u001B[0;32m    119\u001B[0m \u001B[38;5;28;01melse\u001B[39;00m:\n",
      "File \u001B[1;32mD:\\documents\\python_projects\\pure-calculus\\venv_3_11\\Lib\\site-packages\\lambda_calculus\\visitors\\normalisation.py:109\u001B[0m, in \u001B[0;36mBetaNormalisingVisitor.visit_application\u001B[1;34m(self, application)\u001B[0m\n\u001B[0;32m    106\u001B[0m \u001B[38;5;28;01mif\u001B[39;00m \u001B[38;5;28misinstance\u001B[39m(application\u001B[38;5;241m.\u001B[39mabstraction, terms\u001B[38;5;241m.\u001B[39mAbstraction):\n\u001B[0;32m    107\u001B[0m     \u001B[38;5;66;03m# normal order dictates we reduce the leftmost outermost redex first\u001B[39;00m\n\u001B[0;32m    108\u001B[0m     reduced \u001B[38;5;241m=\u001B[39m \u001B[38;5;28;01myield from\u001B[39;00m \u001B[38;5;28mself\u001B[39m\u001B[38;5;241m.\u001B[39mbeta_reducation(application\u001B[38;5;241m.\u001B[39mabstraction, application\u001B[38;5;241m.\u001B[39margument)\n\u001B[1;32m--> 109\u001B[0m     \u001B[38;5;28;01myield from\u001B[39;00m reduced\u001B[38;5;241m.\u001B[39maccept(\u001B[38;5;28mself\u001B[39m)\n\u001B[0;32m    110\u001B[0m \u001B[38;5;28;01melse\u001B[39;00m:\n\u001B[0;32m    111\u001B[0m     \u001B[38;5;66;03m# try to reduce the abstraction until this is a redex\u001B[39;00m\n\u001B[0;32m    112\u001B[0m     abstraction \u001B[38;5;241m=\u001B[39m application\u001B[38;5;241m.\u001B[39mabstraction\n",
      "File \u001B[1;32mD:\\documents\\python_projects\\pure-calculus\\venv_3_11\\Lib\\site-packages\\lambda_calculus\\visitors\\normalisation.py:117\u001B[0m, in \u001B[0;36mBetaNormalisingVisitor.visit_application\u001B[1;34m(self, application)\u001B[0m\n\u001B[0;32m    115\u001B[0m \u001B[38;5;28;01mif\u001B[39;00m \u001B[38;5;28misinstance\u001B[39m(transformation, terms\u001B[38;5;241m.\u001B[39mAbstraction):\n\u001B[0;32m    116\u001B[0m     reduced \u001B[38;5;241m=\u001B[39m \u001B[38;5;28;01myield from\u001B[39;00m \u001B[38;5;28mself\u001B[39m\u001B[38;5;241m.\u001B[39mbeta_reducation(transformation, application\u001B[38;5;241m.\u001B[39margument)\n\u001B[1;32m--> 117\u001B[0m     \u001B[38;5;28;01myield from\u001B[39;00m reduced\u001B[38;5;241m.\u001B[39maccept(\u001B[38;5;28mself\u001B[39m)\n\u001B[0;32m    118\u001B[0m     \u001B[38;5;28;01mreturn\u001B[39;00m\n\u001B[0;32m    119\u001B[0m \u001B[38;5;28;01melse\u001B[39;00m:\n",
      "File \u001B[1;32mD:\\documents\\python_projects\\pure-calculus\\venv_3_11\\Lib\\site-packages\\lambda_calculus\\visitors\\normalisation.py:113\u001B[0m, in \u001B[0;36mBetaNormalisingVisitor.visit_application\u001B[1;34m(self, application)\u001B[0m\n\u001B[0;32m    110\u001B[0m \u001B[38;5;28;01melse\u001B[39;00m:\n\u001B[0;32m    111\u001B[0m     \u001B[38;5;66;03m# try to reduce the abstraction until this is a redex\u001B[39;00m\n\u001B[0;32m    112\u001B[0m     abstraction \u001B[38;5;241m=\u001B[39m application\u001B[38;5;241m.\u001B[39mabstraction\n\u001B[1;32m--> 113\u001B[0m     \u001B[38;5;28;01mfor\u001B[39;00m conversion, transformation \u001B[38;5;129;01min\u001B[39;00m application\u001B[38;5;241m.\u001B[39mabstraction\u001B[38;5;241m.\u001B[39maccept(\u001B[38;5;28mself\u001B[39m):\n\u001B[0;32m    114\u001B[0m         \u001B[38;5;28;01myield\u001B[39;00m (conversion, terms\u001B[38;5;241m.\u001B[39mApplication(transformation, application\u001B[38;5;241m.\u001B[39margument))\n\u001B[0;32m    115\u001B[0m         \u001B[38;5;28;01mif\u001B[39;00m \u001B[38;5;28misinstance\u001B[39m(transformation, terms\u001B[38;5;241m.\u001B[39mAbstraction):\n",
      "File \u001B[1;32mD:\\documents\\python_projects\\pure-calculus\\venv_3_11\\Lib\\site-packages\\lambda_calculus\\visitors\\normalisation.py:117\u001B[0m, in \u001B[0;36mBetaNormalisingVisitor.visit_application\u001B[1;34m(self, application)\u001B[0m\n\u001B[0;32m    115\u001B[0m \u001B[38;5;28;01mif\u001B[39;00m \u001B[38;5;28misinstance\u001B[39m(transformation, terms\u001B[38;5;241m.\u001B[39mAbstraction):\n\u001B[0;32m    116\u001B[0m     reduced \u001B[38;5;241m=\u001B[39m \u001B[38;5;28;01myield from\u001B[39;00m \u001B[38;5;28mself\u001B[39m\u001B[38;5;241m.\u001B[39mbeta_reducation(transformation, application\u001B[38;5;241m.\u001B[39margument)\n\u001B[1;32m--> 117\u001B[0m     \u001B[38;5;28;01myield from\u001B[39;00m reduced\u001B[38;5;241m.\u001B[39maccept(\u001B[38;5;28mself\u001B[39m)\n\u001B[0;32m    118\u001B[0m     \u001B[38;5;28;01mreturn\u001B[39;00m\n\u001B[0;32m    119\u001B[0m \u001B[38;5;28;01melse\u001B[39;00m:\n",
      "File \u001B[1;32mD:\\documents\\python_projects\\pure-calculus\\venv_3_11\\Lib\\site-packages\\lambda_calculus\\visitors\\normalisation.py:113\u001B[0m, in \u001B[0;36mBetaNormalisingVisitor.visit_application\u001B[1;34m(self, application)\u001B[0m\n\u001B[0;32m    110\u001B[0m \u001B[38;5;28;01melse\u001B[39;00m:\n\u001B[0;32m    111\u001B[0m     \u001B[38;5;66;03m# try to reduce the abstraction until this is a redex\u001B[39;00m\n\u001B[0;32m    112\u001B[0m     abstraction \u001B[38;5;241m=\u001B[39m application\u001B[38;5;241m.\u001B[39mabstraction\n\u001B[1;32m--> 113\u001B[0m     \u001B[38;5;28;01mfor\u001B[39;00m conversion, transformation \u001B[38;5;129;01min\u001B[39;00m application\u001B[38;5;241m.\u001B[39mabstraction\u001B[38;5;241m.\u001B[39maccept(\u001B[38;5;28mself\u001B[39m):\n\u001B[0;32m    114\u001B[0m         \u001B[38;5;28;01myield\u001B[39;00m (conversion, terms\u001B[38;5;241m.\u001B[39mApplication(transformation, application\u001B[38;5;241m.\u001B[39margument))\n\u001B[0;32m    115\u001B[0m         \u001B[38;5;28;01mif\u001B[39;00m \u001B[38;5;28misinstance\u001B[39m(transformation, terms\u001B[38;5;241m.\u001B[39mAbstraction):\n",
      "    \u001B[1;31m[... skipping similar frames: BetaNormalisingVisitor.visit_application at line 117 (10 times), BetaNormalisingVisitor.visit_application at line 113 (9 times)]\u001B[0m\n",
      "File \u001B[1;32mD:\\documents\\python_projects\\pure-calculus\\venv_3_11\\Lib\\site-packages\\lambda_calculus\\visitors\\normalisation.py:113\u001B[0m, in \u001B[0;36mBetaNormalisingVisitor.visit_application\u001B[1;34m(self, application)\u001B[0m\n\u001B[0;32m    110\u001B[0m \u001B[38;5;28;01melse\u001B[39;00m:\n\u001B[0;32m    111\u001B[0m     \u001B[38;5;66;03m# try to reduce the abstraction until this is a redex\u001B[39;00m\n\u001B[0;32m    112\u001B[0m     abstraction \u001B[38;5;241m=\u001B[39m application\u001B[38;5;241m.\u001B[39mabstraction\n\u001B[1;32m--> 113\u001B[0m     \u001B[38;5;28;01mfor\u001B[39;00m conversion, transformation \u001B[38;5;129;01min\u001B[39;00m application\u001B[38;5;241m.\u001B[39mabstraction\u001B[38;5;241m.\u001B[39maccept(\u001B[38;5;28mself\u001B[39m):\n\u001B[0;32m    114\u001B[0m         \u001B[38;5;28;01myield\u001B[39;00m (conversion, terms\u001B[38;5;241m.\u001B[39mApplication(transformation, application\u001B[38;5;241m.\u001B[39margument))\n\u001B[0;32m    115\u001B[0m         \u001B[38;5;28;01mif\u001B[39;00m \u001B[38;5;28misinstance\u001B[39m(transformation, terms\u001B[38;5;241m.\u001B[39mAbstraction):\n",
      "    \u001B[1;31m[... skipping similar frames: BetaNormalisingVisitor.visit_application at line 117 (1 times)]\u001B[0m\n",
      "File \u001B[1;32mD:\\documents\\python_projects\\pure-calculus\\venv_3_11\\Lib\\site-packages\\lambda_calculus\\visitors\\normalisation.py:117\u001B[0m, in \u001B[0;36mBetaNormalisingVisitor.visit_application\u001B[1;34m(self, application)\u001B[0m\n\u001B[0;32m    115\u001B[0m \u001B[38;5;28;01mif\u001B[39;00m \u001B[38;5;28misinstance\u001B[39m(transformation, terms\u001B[38;5;241m.\u001B[39mAbstraction):\n\u001B[0;32m    116\u001B[0m     reduced \u001B[38;5;241m=\u001B[39m \u001B[38;5;28;01myield from\u001B[39;00m \u001B[38;5;28mself\u001B[39m\u001B[38;5;241m.\u001B[39mbeta_reducation(transformation, application\u001B[38;5;241m.\u001B[39margument)\n\u001B[1;32m--> 117\u001B[0m     \u001B[38;5;28;01myield from\u001B[39;00m reduced\u001B[38;5;241m.\u001B[39maccept(\u001B[38;5;28mself\u001B[39m)\n\u001B[0;32m    118\u001B[0m     \u001B[38;5;28;01mreturn\u001B[39;00m\n\u001B[0;32m    119\u001B[0m \u001B[38;5;28;01melse\u001B[39;00m:\n",
      "File \u001B[1;32mD:\\documents\\python_projects\\pure-calculus\\venv_3_11\\Lib\\site-packages\\lambda_calculus\\visitors\\normalisation.py:109\u001B[0m, in \u001B[0;36mBetaNormalisingVisitor.visit_application\u001B[1;34m(self, application)\u001B[0m\n\u001B[0;32m    106\u001B[0m \u001B[38;5;28;01mif\u001B[39;00m \u001B[38;5;28misinstance\u001B[39m(application\u001B[38;5;241m.\u001B[39mabstraction, terms\u001B[38;5;241m.\u001B[39mAbstraction):\n\u001B[0;32m    107\u001B[0m     \u001B[38;5;66;03m# normal order dictates we reduce the leftmost outermost redex first\u001B[39;00m\n\u001B[0;32m    108\u001B[0m     reduced \u001B[38;5;241m=\u001B[39m \u001B[38;5;28;01myield from\u001B[39;00m \u001B[38;5;28mself\u001B[39m\u001B[38;5;241m.\u001B[39mbeta_reducation(application\u001B[38;5;241m.\u001B[39mabstraction, application\u001B[38;5;241m.\u001B[39margument)\n\u001B[1;32m--> 109\u001B[0m     \u001B[38;5;28;01myield from\u001B[39;00m reduced\u001B[38;5;241m.\u001B[39maccept(\u001B[38;5;28mself\u001B[39m)\n\u001B[0;32m    110\u001B[0m \u001B[38;5;28;01melse\u001B[39;00m:\n\u001B[0;32m    111\u001B[0m     \u001B[38;5;66;03m# try to reduce the abstraction until this is a redex\u001B[39;00m\n\u001B[0;32m    112\u001B[0m     abstraction \u001B[38;5;241m=\u001B[39m application\u001B[38;5;241m.\u001B[39mabstraction\n",
      "File \u001B[1;32mD:\\documents\\python_projects\\pure-calculus\\venv_3_11\\Lib\\site-packages\\lambda_calculus\\visitors\\normalisation.py:113\u001B[0m, in \u001B[0;36mBetaNormalisingVisitor.visit_application\u001B[1;34m(self, application)\u001B[0m\n\u001B[0;32m    110\u001B[0m \u001B[38;5;28;01melse\u001B[39;00m:\n\u001B[0;32m    111\u001B[0m     \u001B[38;5;66;03m# try to reduce the abstraction until this is a redex\u001B[39;00m\n\u001B[0;32m    112\u001B[0m     abstraction \u001B[38;5;241m=\u001B[39m application\u001B[38;5;241m.\u001B[39mabstraction\n\u001B[1;32m--> 113\u001B[0m     \u001B[38;5;28;01mfor\u001B[39;00m conversion, transformation \u001B[38;5;129;01min\u001B[39;00m application\u001B[38;5;241m.\u001B[39mabstraction\u001B[38;5;241m.\u001B[39maccept(\u001B[38;5;28mself\u001B[39m):\n\u001B[0;32m    114\u001B[0m         \u001B[38;5;28;01myield\u001B[39;00m (conversion, terms\u001B[38;5;241m.\u001B[39mApplication(transformation, application\u001B[38;5;241m.\u001B[39margument))\n\u001B[0;32m    115\u001B[0m         \u001B[38;5;28;01mif\u001B[39;00m \u001B[38;5;28misinstance\u001B[39m(transformation, terms\u001B[38;5;241m.\u001B[39mAbstraction):\n",
      "File \u001B[1;32mD:\\documents\\python_projects\\pure-calculus\\venv_3_11\\Lib\\site-packages\\lambda_calculus\\visitors\\normalisation.py:113\u001B[0m, in \u001B[0;36mBetaNormalisingVisitor.visit_application\u001B[1;34m(self, application)\u001B[0m\n\u001B[0;32m    110\u001B[0m \u001B[38;5;28;01melse\u001B[39;00m:\n\u001B[0;32m    111\u001B[0m     \u001B[38;5;66;03m# try to reduce the abstraction until this is a redex\u001B[39;00m\n\u001B[0;32m    112\u001B[0m     abstraction \u001B[38;5;241m=\u001B[39m application\u001B[38;5;241m.\u001B[39mabstraction\n\u001B[1;32m--> 113\u001B[0m     \u001B[38;5;28;01mfor\u001B[39;00m conversion, transformation \u001B[38;5;129;01min\u001B[39;00m application\u001B[38;5;241m.\u001B[39mabstraction\u001B[38;5;241m.\u001B[39maccept(\u001B[38;5;28mself\u001B[39m):\n\u001B[0;32m    114\u001B[0m         \u001B[38;5;28;01myield\u001B[39;00m (conversion, terms\u001B[38;5;241m.\u001B[39mApplication(transformation, application\u001B[38;5;241m.\u001B[39margument))\n\u001B[0;32m    115\u001B[0m         \u001B[38;5;28;01mif\u001B[39;00m \u001B[38;5;28misinstance\u001B[39m(transformation, terms\u001B[38;5;241m.\u001B[39mAbstraction):\n",
      "    \u001B[1;31m[... skipping similar frames: BetaNormalisingVisitor.visit_application at line 113 (31 times)]\u001B[0m\n",
      "File \u001B[1;32mD:\\documents\\python_projects\\pure-calculus\\venv_3_11\\Lib\\site-packages\\lambda_calculus\\visitors\\normalisation.py:113\u001B[0m, in \u001B[0;36mBetaNormalisingVisitor.visit_application\u001B[1;34m(self, application)\u001B[0m\n\u001B[0;32m    110\u001B[0m \u001B[38;5;28;01melse\u001B[39;00m:\n\u001B[0;32m    111\u001B[0m     \u001B[38;5;66;03m# try to reduce the abstraction until this is a redex\u001B[39;00m\n\u001B[0;32m    112\u001B[0m     abstraction \u001B[38;5;241m=\u001B[39m application\u001B[38;5;241m.\u001B[39mabstraction\n\u001B[1;32m--> 113\u001B[0m     \u001B[38;5;28;01mfor\u001B[39;00m conversion, transformation \u001B[38;5;129;01min\u001B[39;00m application\u001B[38;5;241m.\u001B[39mabstraction\u001B[38;5;241m.\u001B[39maccept(\u001B[38;5;28mself\u001B[39m):\n\u001B[0;32m    114\u001B[0m         \u001B[38;5;28;01myield\u001B[39;00m (conversion, terms\u001B[38;5;241m.\u001B[39mApplication(transformation, application\u001B[38;5;241m.\u001B[39margument))\n\u001B[0;32m    115\u001B[0m         \u001B[38;5;28;01mif\u001B[39;00m \u001B[38;5;28misinstance\u001B[39m(transformation, terms\u001B[38;5;241m.\u001B[39mAbstraction):\n",
      "File \u001B[1;32mD:\\documents\\python_projects\\pure-calculus\\venv_3_11\\Lib\\site-packages\\lambda_calculus\\visitors\\normalisation.py:117\u001B[0m, in \u001B[0;36mBetaNormalisingVisitor.visit_application\u001B[1;34m(self, application)\u001B[0m\n\u001B[0;32m    115\u001B[0m \u001B[38;5;28;01mif\u001B[39;00m \u001B[38;5;28misinstance\u001B[39m(transformation, terms\u001B[38;5;241m.\u001B[39mAbstraction):\n\u001B[0;32m    116\u001B[0m     reduced \u001B[38;5;241m=\u001B[39m \u001B[38;5;28;01myield from\u001B[39;00m \u001B[38;5;28mself\u001B[39m\u001B[38;5;241m.\u001B[39mbeta_reducation(transformation, application\u001B[38;5;241m.\u001B[39margument)\n\u001B[1;32m--> 117\u001B[0m     \u001B[38;5;28;01myield from\u001B[39;00m reduced\u001B[38;5;241m.\u001B[39maccept(\u001B[38;5;28mself\u001B[39m)\n\u001B[0;32m    118\u001B[0m     \u001B[38;5;28;01mreturn\u001B[39;00m\n\u001B[0;32m    119\u001B[0m \u001B[38;5;28;01melse\u001B[39;00m:\n",
      "File \u001B[1;32mD:\\documents\\python_projects\\pure-calculus\\venv_3_11\\Lib\\site-packages\\lambda_calculus\\visitors\\normalisation.py:108\u001B[0m, in \u001B[0;36mBetaNormalisingVisitor.visit_application\u001B[1;34m(self, application)\u001B[0m\n\u001B[0;32m     97\u001B[0m \u001B[38;5;250m\u001B[39m\u001B[38;5;124;03m\"\"\"\u001B[39;00m\n\u001B[0;32m     98\u001B[0m \u001B[38;5;124;03mVisit an Application term\u001B[39;00m\n\u001B[0;32m     99\u001B[0m \n\u001B[1;32m   (...)\u001B[0m\n\u001B[0;32m    104\u001B[0m \u001B[38;5;124;03m         and performed on its result or abstraction and argument\u001B[39;00m\n\u001B[0;32m    105\u001B[0m \u001B[38;5;124;03m\"\"\"\u001B[39;00m\n\u001B[0;32m    106\u001B[0m \u001B[38;5;28;01mif\u001B[39;00m \u001B[38;5;28misinstance\u001B[39m(application\u001B[38;5;241m.\u001B[39mabstraction, terms\u001B[38;5;241m.\u001B[39mAbstraction):\n\u001B[0;32m    107\u001B[0m     \u001B[38;5;66;03m# normal order dictates we reduce the leftmost outermost redex first\u001B[39;00m\n\u001B[1;32m--> 108\u001B[0m     reduced \u001B[38;5;241m=\u001B[39m \u001B[38;5;28;01myield from\u001B[39;00m \u001B[38;5;28mself\u001B[39m\u001B[38;5;241m.\u001B[39mbeta_reducation(application\u001B[38;5;241m.\u001B[39mabstraction, application\u001B[38;5;241m.\u001B[39margument)\n\u001B[0;32m    109\u001B[0m     \u001B[38;5;28;01myield from\u001B[39;00m reduced\u001B[38;5;241m.\u001B[39maccept(\u001B[38;5;28mself\u001B[39m)\n\u001B[0;32m    110\u001B[0m \u001B[38;5;28;01melse\u001B[39;00m:\n\u001B[0;32m    111\u001B[0m     \u001B[38;5;66;03m# try to reduce the abstraction until this is a redex\u001B[39;00m\n",
      "File \u001B[1;32mD:\\documents\\python_projects\\pure-calculus\\venv_3_11\\Lib\\site-packages\\lambda_calculus\\visitors\\normalisation.py:85\u001B[0m, in \u001B[0;36mBetaNormalisingVisitor.beta_reducation\u001B[1;34m(self, abstraction, argument)\u001B[0m\n\u001B[0;32m     77\u001B[0m \u001B[38;5;28;01mdef\u001B[39;00m \u001B[38;5;21mbeta_reducation\u001B[39m(\u001B[38;5;28mself\u001B[39m, abstraction: terms\u001B[38;5;241m.\u001B[39mAbstraction[\u001B[38;5;28mstr\u001B[39m], argument: terms\u001B[38;5;241m.\u001B[39mTerm[\u001B[38;5;28mstr\u001B[39m]) \u001B[38;5;241m-\u001B[39m\u001B[38;5;241m>\u001B[39m Generator[Step, \u001B[38;5;28;01mNone\u001B[39;00m, terms\u001B[38;5;241m.\u001B[39mTerm[\u001B[38;5;28mstr\u001B[39m]]:\n\u001B[0;32m     78\u001B[0m \u001B[38;5;250m    \u001B[39m\u001B[38;5;124;03m\"\"\"\u001B[39;00m\n\u001B[0;32m     79\u001B[0m \u001B[38;5;124;03m    Perform beta reduction of an application.\u001B[39;00m\n\u001B[0;32m     80\u001B[0m \u001B[38;5;124;03m    \u001B[39;00m\n\u001B[1;32m   (...)\u001B[0m\n\u001B[0;32m     83\u001B[0m \u001B[38;5;124;03m    :return: Generator yielding steps and returning the reduced term\u001B[39;00m\n\u001B[0;32m     84\u001B[0m \u001B[38;5;124;03m    \"\"\"\u001B[39;00m\n\u001B[1;32m---> 85\u001B[0m     conversions \u001B[38;5;241m=\u001B[39m \u001B[43mCountingSubstitution\u001B[49m\u001B[38;5;241;43m.\u001B[39;49m\u001B[43mfrom_substitution\u001B[49m\u001B[43m(\u001B[49m\u001B[43mabstraction\u001B[49m\u001B[38;5;241;43m.\u001B[39;49m\u001B[43mbound\u001B[49m\u001B[43m,\u001B[49m\u001B[43m \u001B[49m\u001B[43margument\u001B[49m\u001B[43m)\u001B[49m\u001B[38;5;241m.\u001B[39mtrace()\n\u001B[0;32m     86\u001B[0m     reduced \u001B[38;5;241m=\u001B[39m \u001B[38;5;28;01myield from\u001B[39;00m \u001B[38;5;28mmap\u001B[39m(\n\u001B[0;32m     87\u001B[0m         \u001B[38;5;28;01mlambda\u001B[39;00m body: (\n\u001B[0;32m     88\u001B[0m             Conversion\u001B[38;5;241m.\u001B[39mALPHA,\n\u001B[1;32m   (...)\u001B[0m\n\u001B[0;32m     91\u001B[0m         abstraction\u001B[38;5;241m.\u001B[39mbody\u001B[38;5;241m.\u001B[39maccept(conversions)    \u001B[38;5;66;03m# type: ignore\u001B[39;00m\n\u001B[0;32m     92\u001B[0m     )\n\u001B[0;32m     93\u001B[0m     \u001B[38;5;28;01myield\u001B[39;00m (Conversion\u001B[38;5;241m.\u001B[39mBETA, reduced)\n",
      "File \u001B[1;32mD:\\documents\\python_projects\\pure-calculus\\venv_3_11\\Lib\\site-packages\\lambda_calculus\\visitors\\substitution\\renaming.py:194\u001B[0m, in \u001B[0;36mCountingSubstitution.from_substitution\u001B[1;34m(cls, variable, value)\u001B[0m\n\u001B[0;32m    185\u001B[0m \u001B[38;5;129m@classmethod\u001B[39m\n\u001B[0;32m    186\u001B[0m \u001B[38;5;28;01mdef\u001B[39;00m \u001B[38;5;21mfrom_substitution\u001B[39m(\u001B[38;5;28mcls\u001B[39m, variable: \u001B[38;5;28mstr\u001B[39m, value: terms\u001B[38;5;241m.\u001B[39mTerm[\u001B[38;5;28mstr\u001B[39m]) \u001B[38;5;241m-\u001B[39m\u001B[38;5;241m>\u001B[39m CountingSubstitution:\n\u001B[0;32m    187\u001B[0m \u001B[38;5;250m    \u001B[39m\u001B[38;5;124;03m\"\"\"\u001B[39;00m\n\u001B[0;32m    188\u001B[0m \u001B[38;5;124;03m    Create an instance from the substitution it should perform\u001B[39;00m\n\u001B[0;32m    189\u001B[0m \n\u001B[1;32m   (...)\u001B[0m\n\u001B[0;32m    192\u001B[0m \u001B[38;5;124;03m    :return: new instance with free_variables set to the free variables of value\u001B[39;00m\n\u001B[0;32m    193\u001B[0m \u001B[38;5;124;03m    \"\"\"\u001B[39;00m\n\u001B[1;32m--> 194\u001B[0m     \u001B[38;5;28;01mreturn\u001B[39;00m \u001B[38;5;28mcls\u001B[39m(variable, value, \u001B[43mvalue\u001B[49m\u001B[38;5;241;43m.\u001B[39;49m\u001B[43mfree_variables\u001B[49m\u001B[43m(\u001B[49m\u001B[43m)\u001B[49m)\n",
      "File \u001B[1;32mD:\\documents\\python_projects\\pure-calculus\\venv_3_11\\Lib\\site-packages\\lambda_calculus\\terms\\__init__.py:368\u001B[0m, in \u001B[0;36mApplication.free_variables\u001B[1;34m(self)\u001B[0m\n\u001B[0;32m    362\u001B[0m \u001B[38;5;28;01mdef\u001B[39;00m \u001B[38;5;21mfree_variables\u001B[39m(\u001B[38;5;28mself\u001B[39m) \u001B[38;5;241m-\u001B[39m\u001B[38;5;241m>\u001B[39m Set[V]:\n\u001B[0;32m    363\u001B[0m \u001B[38;5;250m    \u001B[39m\u001B[38;5;124;03m\"\"\"\u001B[39;00m\n\u001B[0;32m    364\u001B[0m \u001B[38;5;124;03m    Calculate the free variables of this Term.\u001B[39;00m\n\u001B[0;32m    365\u001B[0m \n\u001B[0;32m    366\u001B[0m \u001B[38;5;124;03m    :return: variables not bound by an abstraction\u001B[39;00m\n\u001B[0;32m    367\u001B[0m \u001B[38;5;124;03m    \"\"\"\u001B[39;00m\n\u001B[1;32m--> 368\u001B[0m     \u001B[38;5;28;01mreturn\u001B[39;00m \u001B[38;5;28;43mself\u001B[39;49m\u001B[38;5;241;43m.\u001B[39;49m\u001B[43mabstraction\u001B[49m\u001B[38;5;241;43m.\u001B[39;49m\u001B[43mfree_variables\u001B[49m\u001B[43m(\u001B[49m\u001B[43m)\u001B[49m \u001B[38;5;241m|\u001B[39m \u001B[38;5;28mself\u001B[39m\u001B[38;5;241m.\u001B[39margument\u001B[38;5;241m.\u001B[39mfree_variables()\n",
      "File \u001B[1;32mD:\\documents\\python_projects\\pure-calculus\\venv_3_11\\Lib\\site-packages\\lambda_calculus\\terms\\__init__.py:368\u001B[0m, in \u001B[0;36mApplication.free_variables\u001B[1;34m(self)\u001B[0m\n\u001B[0;32m    362\u001B[0m \u001B[38;5;28;01mdef\u001B[39;00m \u001B[38;5;21mfree_variables\u001B[39m(\u001B[38;5;28mself\u001B[39m) \u001B[38;5;241m-\u001B[39m\u001B[38;5;241m>\u001B[39m Set[V]:\n\u001B[0;32m    363\u001B[0m \u001B[38;5;250m    \u001B[39m\u001B[38;5;124;03m\"\"\"\u001B[39;00m\n\u001B[0;32m    364\u001B[0m \u001B[38;5;124;03m    Calculate the free variables of this Term.\u001B[39;00m\n\u001B[0;32m    365\u001B[0m \n\u001B[0;32m    366\u001B[0m \u001B[38;5;124;03m    :return: variables not bound by an abstraction\u001B[39;00m\n\u001B[0;32m    367\u001B[0m \u001B[38;5;124;03m    \"\"\"\u001B[39;00m\n\u001B[1;32m--> 368\u001B[0m     \u001B[38;5;28;01mreturn\u001B[39;00m \u001B[38;5;28;43mself\u001B[39;49m\u001B[38;5;241;43m.\u001B[39;49m\u001B[43mabstraction\u001B[49m\u001B[38;5;241;43m.\u001B[39;49m\u001B[43mfree_variables\u001B[49m\u001B[43m(\u001B[49m\u001B[43m)\u001B[49m \u001B[38;5;241m|\u001B[39m \u001B[38;5;28mself\u001B[39m\u001B[38;5;241m.\u001B[39margument\u001B[38;5;241m.\u001B[39mfree_variables()\n",
      "    \u001B[1;31m[... skipping similar frames: Application.free_variables at line 368 (78 times)]\u001B[0m\n",
      "File \u001B[1;32mD:\\documents\\python_projects\\pure-calculus\\venv_3_11\\Lib\\site-packages\\lambda_calculus\\terms\\__init__.py:248\u001B[0m, in \u001B[0;36mAbstraction.free_variables\u001B[1;34m(self)\u001B[0m\n\u001B[0;32m    242\u001B[0m \u001B[38;5;28;01mdef\u001B[39;00m \u001B[38;5;21mfree_variables\u001B[39m(\u001B[38;5;28mself\u001B[39m) \u001B[38;5;241m-\u001B[39m\u001B[38;5;241m>\u001B[39m Set[V]:\n\u001B[0;32m    243\u001B[0m \u001B[38;5;250m    \u001B[39m\u001B[38;5;124;03m\"\"\"\u001B[39;00m\n\u001B[0;32m    244\u001B[0m \u001B[38;5;124;03m    Calculate the free variables of this Term.\u001B[39;00m\n\u001B[0;32m    245\u001B[0m \n\u001B[0;32m    246\u001B[0m \u001B[38;5;124;03m    :return: variables not bound by an abstraction\u001B[39;00m\n\u001B[0;32m    247\u001B[0m \u001B[38;5;124;03m    \"\"\"\u001B[39;00m\n\u001B[1;32m--> 248\u001B[0m     \u001B[38;5;28;01mreturn\u001B[39;00m \u001B[38;5;28;43mself\u001B[39;49m\u001B[38;5;241;43m.\u001B[39;49m\u001B[43mbody\u001B[49m\u001B[38;5;241;43m.\u001B[39;49m\u001B[43mfree_variables\u001B[49m\u001B[43m(\u001B[49m\u001B[43m)\u001B[49m \u001B[38;5;241m-\u001B[39m {\u001B[38;5;28mself\u001B[39m\u001B[38;5;241m.\u001B[39mbound}\n",
      "File \u001B[1;32mD:\\documents\\python_projects\\pure-calculus\\venv_3_11\\Lib\\site-packages\\lambda_calculus\\terms\\__init__.py:248\u001B[0m, in \u001B[0;36mAbstraction.free_variables\u001B[1;34m(self)\u001B[0m\n\u001B[0;32m    242\u001B[0m \u001B[38;5;28;01mdef\u001B[39;00m \u001B[38;5;21mfree_variables\u001B[39m(\u001B[38;5;28mself\u001B[39m) \u001B[38;5;241m-\u001B[39m\u001B[38;5;241m>\u001B[39m Set[V]:\n\u001B[0;32m    243\u001B[0m \u001B[38;5;250m    \u001B[39m\u001B[38;5;124;03m\"\"\"\u001B[39;00m\n\u001B[0;32m    244\u001B[0m \u001B[38;5;124;03m    Calculate the free variables of this Term.\u001B[39;00m\n\u001B[0;32m    245\u001B[0m \n\u001B[0;32m    246\u001B[0m \u001B[38;5;124;03m    :return: variables not bound by an abstraction\u001B[39;00m\n\u001B[0;32m    247\u001B[0m \u001B[38;5;124;03m    \"\"\"\u001B[39;00m\n\u001B[1;32m--> 248\u001B[0m     \u001B[38;5;28;01mreturn\u001B[39;00m \u001B[38;5;28;43mself\u001B[39;49m\u001B[38;5;241;43m.\u001B[39;49m\u001B[43mbody\u001B[49m\u001B[38;5;241;43m.\u001B[39;49m\u001B[43mfree_variables\u001B[49m\u001B[43m(\u001B[49m\u001B[43m)\u001B[49m \u001B[38;5;241m-\u001B[39m {\u001B[38;5;28mself\u001B[39m\u001B[38;5;241m.\u001B[39mbound}\n",
      "    \u001B[1;31m[... skipping similar frames: Application.free_variables at line 368 (147 times), Abstraction.free_variables at line 248 (146 times)]\u001B[0m\n",
      "File \u001B[1;32mD:\\documents\\python_projects\\pure-calculus\\venv_3_11\\Lib\\site-packages\\lambda_calculus\\terms\\__init__.py:368\u001B[0m, in \u001B[0;36mApplication.free_variables\u001B[1;34m(self)\u001B[0m\n\u001B[0;32m    362\u001B[0m \u001B[38;5;28;01mdef\u001B[39;00m \u001B[38;5;21mfree_variables\u001B[39m(\u001B[38;5;28mself\u001B[39m) \u001B[38;5;241m-\u001B[39m\u001B[38;5;241m>\u001B[39m Set[V]:\n\u001B[0;32m    363\u001B[0m \u001B[38;5;250m    \u001B[39m\u001B[38;5;124;03m\"\"\"\u001B[39;00m\n\u001B[0;32m    364\u001B[0m \u001B[38;5;124;03m    Calculate the free variables of this Term.\u001B[39;00m\n\u001B[0;32m    365\u001B[0m \n\u001B[0;32m    366\u001B[0m \u001B[38;5;124;03m    :return: variables not bound by an abstraction\u001B[39;00m\n\u001B[0;32m    367\u001B[0m \u001B[38;5;124;03m    \"\"\"\u001B[39;00m\n\u001B[1;32m--> 368\u001B[0m     \u001B[38;5;28;01mreturn\u001B[39;00m \u001B[38;5;28mself\u001B[39m\u001B[38;5;241m.\u001B[39mabstraction\u001B[38;5;241m.\u001B[39mfree_variables() \u001B[38;5;241m|\u001B[39m \u001B[38;5;28;43mself\u001B[39;49m\u001B[38;5;241;43m.\u001B[39;49m\u001B[43margument\u001B[49m\u001B[38;5;241;43m.\u001B[39;49m\u001B[43mfree_variables\u001B[49m\u001B[43m(\u001B[49m\u001B[43m)\u001B[49m\n",
      "    \u001B[1;31m[... skipping similar frames: Abstraction.free_variables at line 248 (1 times)]\u001B[0m\n",
      "File \u001B[1;32mD:\\documents\\python_projects\\pure-calculus\\venv_3_11\\Lib\\site-packages\\lambda_calculus\\terms\\__init__.py:248\u001B[0m, in \u001B[0;36mAbstraction.free_variables\u001B[1;34m(self)\u001B[0m\n\u001B[0;32m    242\u001B[0m \u001B[38;5;28;01mdef\u001B[39;00m \u001B[38;5;21mfree_variables\u001B[39m(\u001B[38;5;28mself\u001B[39m) \u001B[38;5;241m-\u001B[39m\u001B[38;5;241m>\u001B[39m Set[V]:\n\u001B[0;32m    243\u001B[0m \u001B[38;5;250m    \u001B[39m\u001B[38;5;124;03m\"\"\"\u001B[39;00m\n\u001B[0;32m    244\u001B[0m \u001B[38;5;124;03m    Calculate the free variables of this Term.\u001B[39;00m\n\u001B[0;32m    245\u001B[0m \n\u001B[0;32m    246\u001B[0m \u001B[38;5;124;03m    :return: variables not bound by an abstraction\u001B[39;00m\n\u001B[0;32m    247\u001B[0m \u001B[38;5;124;03m    \"\"\"\u001B[39;00m\n\u001B[1;32m--> 248\u001B[0m     \u001B[38;5;28;01mreturn\u001B[39;00m \u001B[38;5;28;43mself\u001B[39;49m\u001B[38;5;241;43m.\u001B[39;49m\u001B[43mbody\u001B[49m\u001B[38;5;241;43m.\u001B[39;49m\u001B[43mfree_variables\u001B[49m\u001B[43m(\u001B[49m\u001B[43m)\u001B[49m \u001B[38;5;241m-\u001B[39m {\u001B[38;5;28mself\u001B[39m\u001B[38;5;241m.\u001B[39mbound}\n",
      "File \u001B[1;32mD:\\documents\\python_projects\\pure-calculus\\venv_3_11\\Lib\\site-packages\\lambda_calculus\\terms\\__init__.py:362\u001B[0m, in \u001B[0;36mApplication.free_variables\u001B[1;34m(self)\u001B[0m\n\u001B[0;32m    355\u001B[0m \u001B[38;5;250m    \u001B[39m\u001B[38;5;124;03m\"\"\"\u001B[39;00m\n\u001B[0;32m    356\u001B[0m \u001B[38;5;124;03m    Create a string representation.\u001B[39;00m\n\u001B[0;32m    357\u001B[0m \n\u001B[0;32m    358\u001B[0m \u001B[38;5;124;03m    :return: ({abstraction} {argument})\u001B[39;00m\n\u001B[0;32m    359\u001B[0m \u001B[38;5;124;03m    \"\"\"\u001B[39;00m\n\u001B[0;32m    360\u001B[0m     \u001B[38;5;28;01mreturn\u001B[39;00m \u001B[38;5;124mf\u001B[39m\u001B[38;5;124m\"\u001B[39m\u001B[38;5;124m(\u001B[39m\u001B[38;5;132;01m{\u001B[39;00m\u001B[38;5;28mself\u001B[39m\u001B[38;5;241m.\u001B[39mabstraction\u001B[38;5;132;01m}\u001B[39;00m\u001B[38;5;124m \u001B[39m\u001B[38;5;132;01m{\u001B[39;00m\u001B[38;5;28mself\u001B[39m\u001B[38;5;241m.\u001B[39margument\u001B[38;5;132;01m}\u001B[39;00m\u001B[38;5;124m)\u001B[39m\u001B[38;5;124m\"\u001B[39m\n\u001B[1;32m--> 362\u001B[0m \u001B[38;5;28;01mdef\u001B[39;00m \u001B[38;5;21mfree_variables\u001B[39m(\u001B[38;5;28mself\u001B[39m) \u001B[38;5;241m-\u001B[39m\u001B[38;5;241m>\u001B[39m Set[V]:\n\u001B[0;32m    363\u001B[0m \u001B[38;5;250m    \u001B[39m\u001B[38;5;124;03m\"\"\"\u001B[39;00m\n\u001B[0;32m    364\u001B[0m \u001B[38;5;124;03m    Calculate the free variables of this Term.\u001B[39;00m\n\u001B[0;32m    365\u001B[0m \n\u001B[0;32m    366\u001B[0m \u001B[38;5;124;03m    :return: variables not bound by an abstraction\u001B[39;00m\n\u001B[0;32m    367\u001B[0m \u001B[38;5;124;03m    \"\"\"\u001B[39;00m\n\u001B[0;32m    368\u001B[0m     \u001B[38;5;28;01mreturn\u001B[39;00m \u001B[38;5;28mself\u001B[39m\u001B[38;5;241m.\u001B[39mabstraction\u001B[38;5;241m.\u001B[39mfree_variables() \u001B[38;5;241m|\u001B[39m \u001B[38;5;28mself\u001B[39m\u001B[38;5;241m.\u001B[39margument\u001B[38;5;241m.\u001B[39mfree_variables()\n",
      "\u001B[1;31mKeyboardInterrupt\u001B[0m: "
     ]
    }
   ],
   "source": [
    "test_gcd(144, 12)"
   ],
   "metadata": {
    "collapsed": false
   }
  },
  {
   "cell_type": "code",
   "execution_count": 10,
   "outputs": [],
   "source": [
    "def gcd_v1_1():\n",
    "    g, a, b = Var(\"g\"), Var(\"a\"), Var(\"b\")\n",
    "    equal_ab = multi_app_term(eq_term(), a, b)\n",
    "\n",
    "    minus_ab = multi_app_term(g, multi_app_term(arithmetic.SUBTRACT, a, b), b)\n",
    "    minus_ba = multi_app_term(g, multi_app_term(arithmetic.SUBTRACT, b, a), a)\n",
    "    le_ab = multi_app_term(leq_term(), b, a)\n",
    "    inner_ite_term = multi_app_term(logic.IF_THEN_ELSE, le_ab, minus_ab, minus_ba)\n",
    "\n",
    "    ite_left_term = multi_app_term(logic.IF_THEN_ELSE, equal_ab, a, inner_ite_term)\n",
    "    main_or_term = multi_app_term(logic.OR, App(arithmetic.ISZERO, a), App(arithmetic.ISZERO, b))\n",
    "    ite_main_term = multi_app_term(logic.IF_THEN_ELSE, main_or_term, arithmetic.number(1), ite_left_term)\n",
    "    gcd_lambda = Lambda(\"g\", Lambda(\"a\", Lambda(\"b\", ite_main_term)))\n",
    "    return App(combinators.Y, gcd_lambda)\n",
    "\n",
    "def test_gcd_v1_1(var_0=0, var_1=0):\n",
    "    term_ = multi_app_term(gcd_v1_1(), arithmetic.number(var_0), arithmetic.number(var_1))\n",
    "\n",
    "    print(BetaNormalisingVisitor().skip_intermediate(term_))"
   ],
   "metadata": {
    "collapsed": false
   }
  },
  {
   "cell_type": "code",
   "execution_count": 11,
   "outputs": [
    {
     "name": "stdout",
     "output_type": "stream",
     "text": [
      "(λf.(λx.(f x)))\n"
     ]
    }
   ],
   "source": [
    "test_gcd_v1_1(0, 0)"
   ],
   "metadata": {
    "collapsed": false
   }
  },
  {
   "cell_type": "code",
   "execution_count": 12,
   "outputs": [
    {
     "name": "stdout",
     "output_type": "stream",
     "text": [
      "(λf.(λx.(f x)))\n"
     ]
    }
   ],
   "source": [
    "test_gcd_v1_1(1, 0)"
   ],
   "metadata": {
    "collapsed": false
   }
  },
  {
   "cell_type": "code",
   "execution_count": 13,
   "outputs": [
    {
     "name": "stdout",
     "output_type": "stream",
     "text": [
      "(λf.(λx.(f x)))\n"
     ]
    }
   ],
   "source": [
    "test_gcd_v1_1(0, 1)"
   ],
   "metadata": {
    "collapsed": false
   }
  },
  {
   "cell_type": "code",
   "execution_count": 14,
   "outputs": [
    {
     "name": "stdout",
     "output_type": "stream",
     "text": [
      "(λf.(λx.(f (f x))))\n"
     ]
    }
   ],
   "source": [
    "test_gcd_v1_1(2, 4)"
   ],
   "metadata": {
    "collapsed": false
   }
  },
  {
   "cell_type": "code",
   "execution_count": 15,
   "outputs": [
    {
     "name": "stdout",
     "output_type": "stream",
     "text": [
      "(λf.(λx.(f (f x))))\n"
     ]
    }
   ],
   "source": [
    "test_gcd_v1_1(4, 2)"
   ],
   "metadata": {
    "collapsed": false
   }
  },
  {
   "cell_type": "code",
   "execution_count": 16,
   "outputs": [
    {
     "name": "stdout",
     "output_type": "stream",
     "text": [
      "(λf.(λx.(f (f (f (f (f x)))))))\n"
     ]
    }
   ],
   "source": [
    "test_gcd_v1_1(5, 10)"
   ],
   "metadata": {
    "collapsed": false
   }
  },
  {
   "cell_type": "code",
   "execution_count": 17,
   "outputs": [
    {
     "name": "stdout",
     "output_type": "stream",
     "text": [
      "(λf.(λx.(f (f (f (f (f x)))))))\n"
     ]
    }
   ],
   "source": [
    "test_gcd_v1_1(10, 5)"
   ],
   "metadata": {
    "collapsed": false
   }
  },
  {
   "cell_type": "code",
   "execution_count": 18,
   "outputs": [
    {
     "name": "stdout",
     "output_type": "stream",
     "text": [
      "(λf.(λx.(f x)))\n"
     ]
    }
   ],
   "source": [
    "test_gcd_v1_1(20, 3)"
   ],
   "metadata": {
    "collapsed": false
   }
  },
  {
   "cell_type": "code",
   "execution_count": 19,
   "outputs": [
    {
     "name": "stdout",
     "output_type": "stream",
     "text": [
      "(λf.(λx.(f x)))\n"
     ]
    }
   ],
   "source": [
    "test_gcd_v1_1(3, 20)"
   ],
   "metadata": {
    "collapsed": false
   }
  }
 ],
 "metadata": {
  "kernelspec": {
   "display_name": "Python 3",
   "language": "python",
   "name": "python3"
  },
  "language_info": {
   "codemirror_mode": {
    "name": "ipython",
    "version": 2
   },
   "file_extension": ".py",
   "mimetype": "text/x-python",
   "name": "python",
   "nbconvert_exporter": "python",
   "pygments_lexer": "ipython2",
   "version": "2.7.6"
  }
 },
 "nbformat": 4,
 "nbformat_minor": 0
}
