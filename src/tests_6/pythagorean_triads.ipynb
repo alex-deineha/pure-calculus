{
 "cells": [
  {
   "cell_type": "markdown",
   "source": [
    "mul_aa = (MULT a a)\n",
    "mul_bb = (MULT b b)\n",
    "mul_cc = (MULT c c)\n",
    "PYTHAGOREAN = λa.λb.λc (EQ (PLUS mul_aa, mul_bb) mul_cc)"
   ],
   "metadata": {
    "collapsed": false
   }
  },
  {
   "cell_type": "code",
   "execution_count": 1,
   "outputs": [],
   "source": [
    "import sys\n",
    "import time\n",
    "\n",
    "sys.path.append(\"../\")\n",
    "from calculus.term import *\n",
    "from calculus.strategy import *\n",
    "from calculus.advanced_terms import *"
   ],
   "metadata": {
    "collapsed": false
   }
  },
  {
   "cell_type": "code",
   "execution_count": 2,
   "outputs": [],
   "source": [
    "def plus_term():\n",
    "    n, m = Var(), Var()\n",
    "    n_, m_ = Atom(n), Atom(m)\n",
    "    return Lambda(m, Lambda(n, multi_app_term(n_, succ_term(), m_)))\n",
    "\n",
    "\n",
    "def mult_term():\n",
    "    n, m = Var(), Var()\n",
    "    n_, m_ = Atom(n), Atom(m)\n",
    "    return Lambda(m, Lambda(n, multi_app_term(m_, App(plus_term(), n_), n_term(0))))"
   ],
   "metadata": {
    "collapsed": false
   }
  },
  {
   "cell_type": "code",
   "execution_count": 3,
   "outputs": [],
   "source": [
    "def pythagorean_term():\n",
    "    a, b, c = Var(), Var(), Var()\n",
    "    a_, b_, c_ = Atom(a), Atom(b), Atom(c)\n",
    "\n",
    "    mul_aa = multi_app_term(mult_term(), a_, a_)\n",
    "    mul_bb = multi_app_term(mult_term(), b_, b_)\n",
    "    mul_cc = multi_app_term(mult_term(), c_, c_)\n",
    "\n",
    "    plus_aa_bb = multi_app_term(plus_term(), mul_aa, mul_bb)\n",
    "\n",
    "    return Lambda(a, Lambda(b, Lambda(c, multi_app_term(eq_term(), plus_aa_bb, mul_cc))))\n",
    "\n",
    "\n",
    "def test(a=0, b=0, c=0, strategy=LeftmostOutermostStrategy(), is_finite_norm=True):\n",
    "    term_ = multi_app_term(pythagorean_term(), n_term(a), n_term(b), n_term(c))\n",
    "    t_start = time.time()\n",
    "    term_res, steps = term_.normalize(strategy) if is_finite_norm else term_.normalize_no_lim(strategy)\n",
    "    total_time = time.time() - t_start\n",
    "\n",
    "    print(f\"Time: {total_time}\")\n",
    "    print(f\"Steps {steps}\")\n",
    "    print(term_res)"
   ],
   "metadata": {
    "collapsed": false
   }
  },
  {
   "cell_type": "code",
   "execution_count": 4,
   "outputs": [
    {
     "name": "stdout",
     "output_type": "stream",
     "text": [
      "Time: 0.07801651954650879\n",
      "Steps 62\n",
      "(λq.(λw.q))\n"
     ]
    }
   ],
   "source": [
    "test(0, 0, 0, LeftmostOutermostStrategy())"
   ],
   "metadata": {
    "collapsed": false
   }
  },
  {
   "cell_type": "code",
   "execution_count": 5,
   "outputs": [
    {
     "name": "stdout",
     "output_type": "stream",
     "text": [
      "Time: 0.21104788780212402\n",
      "Steps 130\n",
      "(λq.(λw.w))\n"
     ]
    }
   ],
   "source": [
    "test(1, 1, 1, LeftmostOutermostStrategy())"
   ],
   "metadata": {
    "collapsed": false
   }
  },
  {
   "cell_type": "code",
   "execution_count": 6,
   "outputs": [
    {
     "name": "stdout",
     "output_type": "stream",
     "text": [
      "Time: 0.2540566921234131\n",
      "Steps 196\n",
      "(λq.(λw.w))\n"
     ]
    }
   ],
   "source": [
    "test(1, 1, 1, RightmostInnermostStrategy())"
   ],
   "metadata": {
    "collapsed": false
   }
  },
  {
   "cell_type": "code",
   "execution_count": 7,
   "outputs": [
    {
     "name": "stdout",
     "output_type": "stream",
     "text": [
      "Time: 0.26805996894836426\n",
      "Steps 196\n",
      "(λq.(λw.w))\n"
     ]
    }
   ],
   "source": [
    "test(1, 1, 1, LeftmostInnermostStrategy())"
   ],
   "metadata": {
    "collapsed": false
   }
  },
  {
   "cell_type": "code",
   "execution_count": 8,
   "outputs": [
    {
     "name": "stdout",
     "output_type": "stream",
     "text": [
      "Time: 0.25905752182006836\n",
      "Steps 241\n",
      "(λq.(λw.w))\n"
     ]
    }
   ],
   "source": [
    "test(1, 1, 1, RightmostOutermostStrategy())"
   ],
   "metadata": {
    "collapsed": false
   }
  },
  {
   "cell_type": "code",
   "execution_count": 9,
   "outputs": [
    {
     "name": "stdout",
     "output_type": "stream",
     "text": [
      "Time: 16.456490993499756\n",
      "Steps inf\n",
      "((((λq.(λw.(λe.(((λp_1.(λa_1.(((λs_1.(λd_1.((((λh_1.(λf_1.(λg_1.((h_1 f_1) g_1)))) s_1) d_1) s_1))) (((λj_1.(λk_1.((λz_1.((z_1 (λl_1.(λx_1.(λc_1.c_1)))) (λv_1.(λb_1.v_1)))) (((λn_1.(λm_1.((m_1 (λq_2.((λw_2.(w_2 (λe_2.(λr_2.e_2)))) ((q_2 (λt_2.(((λy_2.(λu_2.(λi_2.((i_2 y_2) u_2)))) ((λo_2.(o_2 (λp_2.(λa_2.a_2)))) t_2)) ((λf_2.(λs_2.(λd_2.(s_2 ((f_2 s_2) d_2))))) ((λg_2.(g_2 (λh_2.(λj_2.j_2)))) t_2))))) (((λk_2.(λl_2.(λz_2.((z_2 k_2) l_2)))) (λx_2.(λc_2.c_2))) (λv_2.(λb_2.b_2))))))) n_1))) j_1) k_1)))) p_1) a_1)) (((λn_2.(λm_2.((λw_3.((w_3 (λq_3.(λe_3.(λr_3.r_3)))) (λt_3.(λy_3.t_3)))) (((λu_3.(λi_3.((i_3 (λo_3.((λp_3.(p_3 (λa_3.(λs_3.a_3)))) ((o_3 (λd_3.(((λf_3.(λg_3.(λh_3.((h_3 f_3) g_3)))) ((λj_3.(j_3 (λk_3.(λl_3.l_3)))) d_3)) ((λc_3.(λz_3.(λx_3.(z_3 ((c_3 z_3) x_3))))) ((λv_3.(v_3 (λb_3.(λn_3.n_3)))) d_3))))) (((λm_3.(λq_4.(λw_4.((w_4 m_3) q_4)))) (λe_4.(λr_4.r_4))) (λt_4.(λy_4.y_4))))))) u_3))) n_2) m_2)))) a_1) p_1)))) (((λy_1.(λt_1.((t_1 (λo_1.(λu_1.(λi_1.(u_1 ((o_1 u_1) i_1)))))) y_1))) (((λt.(λr.((t ((λu.(λy.((y (λp.(λi.(λo.(i ((p i) o)))))) u))) r)) (λa.(λs.s))))) q) q)) (((λf.(λd.((f ((λh.(λg.((g (λl.(λj.(λk.(j ((l j) k)))))) h))) d)) (λz.(λx.x))))) w) w))) (((λv.(λc.((v ((λn.(λb.((b (λw_1.(λm.(λq_1.(m ((w_1 m) q_1)))))) n))) c)) (λe_1.(λr_1.r_1))))) e) e))))) (λu_4.(λi_4.(u_4 (u_4 (u_4 i_4)))))) (λo_4.(λp_4.(o_4 (o_4 (o_4 (o_4 p_4))))))) (λa_4.(λs_4.(a_4 (a_4 (a_4 (a_4 (a_4 s_4))))))))\n"
     ]
    }
   ],
   "source": [
    "test(3, 4, 5, LeftmostOutermostStrategy())"
   ],
   "metadata": {
    "collapsed": false
   }
  },
  {
   "cell_type": "code",
   "execution_count": 10,
   "outputs": [
    {
     "name": "stdout",
     "output_type": "stream",
     "text": [
      "Time: 429.43301653862\n",
      "Steps 7552\n",
      "(λq.(λw.q))\n"
     ]
    }
   ],
   "source": [
    "test(3, 4, 5, LeftmostOutermostStrategy(), is_finite_norm=False)"
   ],
   "metadata": {
    "collapsed": false
   }
  },
  {
   "cell_type": "code",
   "execution_count": 11,
   "outputs": [
    {
     "name": "stdout",
     "output_type": "stream",
     "text": [
      "Time: 0.12802791595458984\n",
      "Steps 110\n",
      "(λq.(λw.q))\n"
     ]
    }
   ],
   "source": [
    "test(1, 0, 1, LeftmostOutermostStrategy())"
   ],
   "metadata": {
    "collapsed": false
   }
  },
  {
   "cell_type": "code",
   "execution_count": 12,
   "outputs": [
    {
     "name": "stdout",
     "output_type": "stream",
     "text": [
      "Time: 0.15403389930725098\n",
      "Steps 116\n",
      "(λq.(λw.q))\n"
     ]
    }
   ],
   "source": [
    "test(0, 1, 1, LeftmostOutermostStrategy())"
   ],
   "metadata": {
    "collapsed": false
   }
  },
  {
   "cell_type": "code",
   "execution_count": 13,
   "outputs": [
    {
     "name": "stdout",
     "output_type": "stream",
     "text": [
      "Time: 0.1890425682067871\n",
      "Steps 130\n",
      "(λq.(λw.w))\n"
     ]
    }
   ],
   "source": [
    "test(1, 1, 1, LeftmostOutermostStrategy())"
   ],
   "metadata": {
    "collapsed": false
   }
  },
  {
   "cell_type": "code",
   "execution_count": 14,
   "outputs": [
    {
     "name": "stdout",
     "output_type": "stream",
     "text": [
      "Time: 1.4133358001708984\n",
      "Steps 366\n",
      "(λw.(λq.w))\n"
     ]
    }
   ],
   "source": [
    "test(2, 0, 2, LeftmostOutermostStrategy(), is_finite_norm=False)"
   ],
   "metadata": {
    "collapsed": false
   }
  },
  {
   "cell_type": "code",
   "execution_count": 15,
   "outputs": [
    {
     "name": "stdout",
     "output_type": "stream",
     "text": [
      "Time: 1.5923576354980469\n",
      "Steps 390\n",
      "(λq.(λw.q))\n"
     ]
    }
   ],
   "source": [
    "test(0, 2, 2, LeftmostOutermostStrategy(), is_finite_norm=False)"
   ],
   "metadata": {
    "collapsed": false
   }
  },
  {
   "cell_type": "code",
   "execution_count": 16,
   "outputs": [
    {
     "name": "stdout",
     "output_type": "stream",
     "text": [
      "Time: 0.12202739715576172\n",
      "Steps 76\n",
      "(λq.(λw.w))\n"
     ]
    }
   ],
   "source": [
    "test(2, 2, 0, LeftmostOutermostStrategy())"
   ],
   "metadata": {
    "collapsed": false
   }
  },
  {
   "cell_type": "code",
   "execution_count": null,
   "outputs": [],
   "source": [],
   "metadata": {
    "collapsed": false
   }
  }
 ],
 "metadata": {
  "kernelspec": {
   "display_name": "Python 3",
   "language": "python",
   "name": "python3"
  },
  "language_info": {
   "codemirror_mode": {
    "name": "ipython",
    "version": 2
   },
   "file_extension": ".py",
   "mimetype": "text/x-python",
   "name": "python",
   "nbconvert_exporter": "python",
   "pygments_lexer": "ipython2",
   "version": "2.7.6"
  }
 },
 "nbformat": 4,
 "nbformat_minor": 0
}
