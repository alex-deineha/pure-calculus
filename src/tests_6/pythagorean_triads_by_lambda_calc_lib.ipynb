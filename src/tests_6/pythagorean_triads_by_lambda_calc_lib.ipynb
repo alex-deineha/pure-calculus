{
 "cells": [
  {
   "cell_type": "markdown",
   "source": [
    "mul_aa = (MULT a a)\n",
    "mul_bb = (MULT b b)\n",
    "mul_cc = (MULT c c)\n",
    "PYTHAGOREAN = λa.λb.λc (EQ (PLUS mul_aa, mul_bb) mul_cc)"
   ],
   "metadata": {
    "collapsed": false
   }
  },
  {
   "cell_type": "code",
   "execution_count": 1,
   "outputs": [],
   "source": [
    "import time\n",
    "\n",
    "from lambda_calculus import Variable as Var\n",
    "from lambda_calculus import Abstraction as Lambda\n",
    "from lambda_calculus import Application as App\n",
    "\n",
    "from lambda_calculus.visitors.normalisation import BetaNormalisingVisitor\n",
    "\n",
    "from lambda_calculus.terms import logic\n",
    "from lambda_calculus.terms import arithmetic\n",
    "from lambda_calculus.terms import pairs\n",
    "from lambda_calculus.terms import combinators"
   ],
   "metadata": {
    "collapsed": false
   }
  },
  {
   "cell_type": "code",
   "execution_count": 2,
   "outputs": [],
   "source": [
    "def multi_app_term(term_0, term_1, *terms):\n",
    "    res_app_term = App(term_0, term_1)\n",
    "    for term in terms:\n",
    "        res_app_term = App(res_app_term, term)\n",
    "    return res_app_term"
   ],
   "metadata": {
    "collapsed": false
   }
  },
  {
   "cell_type": "code",
   "execution_count": null,
   "outputs": [],
   "source": [
    "def plus_term():\n",
    "    n, m = Var(), Var()\n",
    "    n_, m_ = Atom(n), Atom(m)\n",
    "    return Lambda(m, Lambda(n, multi_app_term(n_, succ_term(), m_)))\n",
    "\n",
    "\n",
    "def mult_term():\n",
    "    n, m = Var(), Var()\n",
    "    n_, m_ = Atom(n), Atom(m)\n",
    "    return Lambda(m, Lambda(n, multi_app_term(m_, App(plus_term(), n_), n_term(0))))"
   ],
   "metadata": {
    "collapsed": false
   }
  },
  {
   "cell_type": "code",
   "execution_count": 3,
   "outputs": [],
   "source": [
    "def leq_term():\n",
    "    m, n = Var(\"mmm\"), Var(\"nnn\")\n",
    "    return Lambda(\"mmm\", Lambda(\"nnn\", App(\n",
    "        arithmetic.ISZERO,\n",
    "        App(App(arithmetic.SUBTRACT, m), n)\n",
    "    )))\n",
    "\n",
    "\n",
    "def eq_term():\n",
    "    mm, nn = Var(\"mm\"), Var(\"nn\")\n",
    "    return Lambda(\"mm\", Lambda(\"nn\", multi_app_term(\n",
    "        logic.AND,\n",
    "        multi_app_term(leq_term(), mm, nn),\n",
    "        multi_app_term(leq_term(), nn, mm)\n",
    "    )))"
   ],
   "metadata": {
    "collapsed": false
   }
  },
  {
   "cell_type": "code",
   "execution_count": 7,
   "outputs": [],
   "source": [
    "def pythagorean_term():\n",
    "    a, b, c = \"a\", \"b\", \"c\"\n",
    "    a_, b_, c_ = Var(a), Var(b), Var(c)\n",
    "\n",
    "    mul_aa = multi_app_term(arithmetic.MULTIPLY, a_, a_)\n",
    "    mul_bb = multi_app_term(arithmetic.MULTIPLY, b_, b_)\n",
    "    mul_cc = multi_app_term(arithmetic.MULTIPLY, c_, c_)\n",
    "\n",
    "    plus_aa_bb = multi_app_term(arithmetic.ADD, mul_aa, mul_bb)\n",
    "\n",
    "    return Lambda(a, Lambda(b, Lambda(c, multi_app_term(eq_term(), plus_aa_bb, mul_cc))))\n",
    "\n",
    "\n",
    "def test(a=0, b=0, c=0):\n",
    "    term_ = multi_app_term(pythagorean_term(), arithmetic.number(a), arithmetic.number(b), arithmetic.number(c))\n",
    "    t_start = time.time()\n",
    "    term_res = BetaNormalisingVisitor().skip_intermediate(term_)\n",
    "    total_time = time.time() - t_start\n",
    "\n",
    "    print(f\"Time: {total_time}\")\n",
    "    print(term_res)"
   ],
   "metadata": {
    "collapsed": false
   }
  },
  {
   "cell_type": "code",
   "execution_count": 8,
   "outputs": [
    {
     "name": "stdout",
     "output_type": "stream",
     "text": [
      "Time: 0.002000570297241211\n",
      "(λx.(λy.x))\n"
     ]
    }
   ],
   "source": [
    "test(0, 0, 0)"
   ],
   "metadata": {
    "collapsed": false
   }
  },
  {
   "cell_type": "code",
   "execution_count": 9,
   "outputs": [
    {
     "name": "stdout",
     "output_type": "stream",
     "text": [
      "Time: 0.002000570297241211\n",
      "(λx.(λy.x))\n"
     ]
    }
   ],
   "source": [
    "test(1, 0, 1)"
   ],
   "metadata": {
    "collapsed": false
   }
  },
  {
   "cell_type": "code",
   "execution_count": 10,
   "outputs": [
    {
     "name": "stdout",
     "output_type": "stream",
     "text": [
      "Time: 0.0020008087158203125\n",
      "(λx.(λy.x))\n"
     ]
    }
   ],
   "source": [
    "test(0, 1, 1)"
   ],
   "metadata": {
    "collapsed": false
   }
  },
  {
   "cell_type": "code",
   "execution_count": 11,
   "outputs": [
    {
     "name": "stdout",
     "output_type": "stream",
     "text": [
      "Time: 0.22805070877075195\n",
      "(λx.(λy.x))\n"
     ]
    }
   ],
   "source": [
    "test(3, 4, 5)"
   ],
   "metadata": {
    "collapsed": false
   }
  },
  {
   "cell_type": "code",
   "execution_count": 12,
   "outputs": [
    {
     "name": "stdout",
     "output_type": "stream",
     "text": [
      "Time: 0.023004531860351562\n",
      "(λx.(λy.y))\n"
     ]
    }
   ],
   "source": [
    "test(2, 2, 4)"
   ],
   "metadata": {
    "collapsed": false
   }
  },
  {
   "cell_type": "code",
   "execution_count": 13,
   "outputs": [
    {
     "name": "stdout",
     "output_type": "stream",
     "text": [
      "Time: 0.013003110885620117\n",
      "(λx.(λy.x))\n"
     ]
    }
   ],
   "source": [
    "test(3, 0, 3)"
   ],
   "metadata": {
    "collapsed": false
   }
  },
  {
   "cell_type": "code",
   "execution_count": 14,
   "outputs": [
    {
     "ename": "KeyboardInterrupt",
     "evalue": "",
     "output_type": "error",
     "traceback": [
      "\u001B[1;31m---------------------------------------------------------------------------\u001B[0m",
      "\u001B[1;31mKeyboardInterrupt\u001B[0m                         Traceback (most recent call last)",
      "Cell \u001B[1;32mIn[14], line 1\u001B[0m\n\u001B[1;32m----> 1\u001B[0m \u001B[43mtest\u001B[49m\u001B[43m(\u001B[49m\u001B[38;5;241;43m16\u001B[39;49m\u001B[43m,\u001B[49m\u001B[43m \u001B[49m\u001B[38;5;241;43m0\u001B[39;49m\u001B[43m,\u001B[49m\u001B[43m \u001B[49m\u001B[38;5;241;43m16\u001B[39;49m\u001B[43m)\u001B[49m\n",
      "Cell \u001B[1;32mIn[7], line 17\u001B[0m, in \u001B[0;36mtest\u001B[1;34m(a, b, c)\u001B[0m\n\u001B[0;32m     15\u001B[0m term_ \u001B[38;5;241m=\u001B[39m multi_app_term(pythagorean_term(), arithmetic\u001B[38;5;241m.\u001B[39mnumber(a), arithmetic\u001B[38;5;241m.\u001B[39mnumber(b), arithmetic\u001B[38;5;241m.\u001B[39mnumber(c))\n\u001B[0;32m     16\u001B[0m t_start \u001B[38;5;241m=\u001B[39m time\u001B[38;5;241m.\u001B[39mtime()\n\u001B[1;32m---> 17\u001B[0m term_res \u001B[38;5;241m=\u001B[39m \u001B[43mBetaNormalisingVisitor\u001B[49m\u001B[43m(\u001B[49m\u001B[43m)\u001B[49m\u001B[38;5;241;43m.\u001B[39;49m\u001B[43mskip_intermediate\u001B[49m\u001B[43m(\u001B[49m\u001B[43mterm_\u001B[49m\u001B[43m)\u001B[49m\n\u001B[0;32m     18\u001B[0m total_time \u001B[38;5;241m=\u001B[39m time\u001B[38;5;241m.\u001B[39mtime() \u001B[38;5;241m-\u001B[39m t_start\n\u001B[0;32m     20\u001B[0m \u001B[38;5;28mprint\u001B[39m(\u001B[38;5;124mf\u001B[39m\u001B[38;5;124m\"\u001B[39m\u001B[38;5;124mTime: \u001B[39m\u001B[38;5;132;01m{\u001B[39;00mtotal_time\u001B[38;5;132;01m}\u001B[39;00m\u001B[38;5;124m\"\u001B[39m)\n",
      "File \u001B[1;32mD:\\documents\\python_projects\\pure-calculus\\venv_3_11\\Lib\\site-packages\\lambda_calculus\\visitors\\normalisation.py:54\u001B[0m, in \u001B[0;36mBetaNormalisingVisitor.skip_intermediate\u001B[1;34m(self, term)\u001B[0m\n\u001B[0;32m     47\u001B[0m \u001B[38;5;250m\u001B[39m\u001B[38;5;124;03m\"\"\"\u001B[39;00m\n\u001B[0;32m     48\u001B[0m \u001B[38;5;124;03mCalculate the beta normal form directly.\u001B[39;00m\n\u001B[0;32m     49\u001B[0m \u001B[38;5;124;03m\u001B[39;00m\n\u001B[0;32m     50\u001B[0m \u001B[38;5;124;03m:param term: term which should be transformed into ist beta normal form\u001B[39;00m\n\u001B[0;32m     51\u001B[0m \u001B[38;5;124;03m:return: new term representing the beta normal form if it exists\u001B[39;00m\n\u001B[0;32m     52\u001B[0m \u001B[38;5;124;03m\"\"\"\u001B[39;00m\n\u001B[0;32m     53\u001B[0m result \u001B[38;5;241m=\u001B[39m term\n\u001B[1;32m---> 54\u001B[0m \u001B[38;5;28;01mfor\u001B[39;00m _, intermediate \u001B[38;5;129;01min\u001B[39;00m term\u001B[38;5;241m.\u001B[39maccept(\u001B[38;5;28mself\u001B[39m):\n\u001B[0;32m     55\u001B[0m     result \u001B[38;5;241m=\u001B[39m intermediate\n\u001B[0;32m     56\u001B[0m \u001B[38;5;28;01mreturn\u001B[39;00m result\n",
      "File \u001B[1;32mD:\\documents\\python_projects\\pure-calculus\\venv_3_11\\Lib\\site-packages\\lambda_calculus\\visitors\\normalisation.py:117\u001B[0m, in \u001B[0;36mBetaNormalisingVisitor.visit_application\u001B[1;34m(self, application)\u001B[0m\n\u001B[0;32m    115\u001B[0m \u001B[38;5;28;01mif\u001B[39;00m \u001B[38;5;28misinstance\u001B[39m(transformation, terms\u001B[38;5;241m.\u001B[39mAbstraction):\n\u001B[0;32m    116\u001B[0m     reduced \u001B[38;5;241m=\u001B[39m \u001B[38;5;28;01myield from\u001B[39;00m \u001B[38;5;28mself\u001B[39m\u001B[38;5;241m.\u001B[39mbeta_reducation(transformation, application\u001B[38;5;241m.\u001B[39margument)\n\u001B[1;32m--> 117\u001B[0m     \u001B[38;5;28;01myield from\u001B[39;00m reduced\u001B[38;5;241m.\u001B[39maccept(\u001B[38;5;28mself\u001B[39m)\n\u001B[0;32m    118\u001B[0m     \u001B[38;5;28;01mreturn\u001B[39;00m\n\u001B[0;32m    119\u001B[0m \u001B[38;5;28;01melse\u001B[39;00m:\n",
      "File \u001B[1;32mD:\\documents\\python_projects\\pure-calculus\\venv_3_11\\Lib\\site-packages\\lambda_calculus\\visitors\\normalisation.py:117\u001B[0m, in \u001B[0;36mBetaNormalisingVisitor.visit_application\u001B[1;34m(self, application)\u001B[0m\n\u001B[0;32m    115\u001B[0m \u001B[38;5;28;01mif\u001B[39;00m \u001B[38;5;28misinstance\u001B[39m(transformation, terms\u001B[38;5;241m.\u001B[39mAbstraction):\n\u001B[0;32m    116\u001B[0m     reduced \u001B[38;5;241m=\u001B[39m \u001B[38;5;28;01myield from\u001B[39;00m \u001B[38;5;28mself\u001B[39m\u001B[38;5;241m.\u001B[39mbeta_reducation(transformation, application\u001B[38;5;241m.\u001B[39margument)\n\u001B[1;32m--> 117\u001B[0m     \u001B[38;5;28;01myield from\u001B[39;00m reduced\u001B[38;5;241m.\u001B[39maccept(\u001B[38;5;28mself\u001B[39m)\n\u001B[0;32m    118\u001B[0m     \u001B[38;5;28;01mreturn\u001B[39;00m\n\u001B[0;32m    119\u001B[0m \u001B[38;5;28;01melse\u001B[39;00m:\n",
      "    \u001B[1;31m[... skipping similar frames: BetaNormalisingVisitor.visit_application at line 117 (1 times)]\u001B[0m\n",
      "File \u001B[1;32mD:\\documents\\python_projects\\pure-calculus\\venv_3_11\\Lib\\site-packages\\lambda_calculus\\visitors\\normalisation.py:113\u001B[0m, in \u001B[0;36mBetaNormalisingVisitor.visit_application\u001B[1;34m(self, application)\u001B[0m\n\u001B[0;32m    110\u001B[0m \u001B[38;5;28;01melse\u001B[39;00m:\n\u001B[0;32m    111\u001B[0m     \u001B[38;5;66;03m# try to reduce the abstraction until this is a redex\u001B[39;00m\n\u001B[0;32m    112\u001B[0m     abstraction \u001B[38;5;241m=\u001B[39m application\u001B[38;5;241m.\u001B[39mabstraction\n\u001B[1;32m--> 113\u001B[0m     \u001B[38;5;28;01mfor\u001B[39;00m conversion, transformation \u001B[38;5;129;01min\u001B[39;00m application\u001B[38;5;241m.\u001B[39mabstraction\u001B[38;5;241m.\u001B[39maccept(\u001B[38;5;28mself\u001B[39m):\n\u001B[0;32m    114\u001B[0m         \u001B[38;5;28;01myield\u001B[39;00m (conversion, terms\u001B[38;5;241m.\u001B[39mApplication(transformation, application\u001B[38;5;241m.\u001B[39margument))\n\u001B[0;32m    115\u001B[0m         \u001B[38;5;28;01mif\u001B[39;00m \u001B[38;5;28misinstance\u001B[39m(transformation, terms\u001B[38;5;241m.\u001B[39mAbstraction):\n",
      "File \u001B[1;32mD:\\documents\\python_projects\\pure-calculus\\venv_3_11\\Lib\\site-packages\\lambda_calculus\\visitors\\normalisation.py:113\u001B[0m, in \u001B[0;36mBetaNormalisingVisitor.visit_application\u001B[1;34m(self, application)\u001B[0m\n\u001B[0;32m    110\u001B[0m \u001B[38;5;28;01melse\u001B[39;00m:\n\u001B[0;32m    111\u001B[0m     \u001B[38;5;66;03m# try to reduce the abstraction until this is a redex\u001B[39;00m\n\u001B[0;32m    112\u001B[0m     abstraction \u001B[38;5;241m=\u001B[39m application\u001B[38;5;241m.\u001B[39mabstraction\n\u001B[1;32m--> 113\u001B[0m     \u001B[38;5;28;01mfor\u001B[39;00m conversion, transformation \u001B[38;5;129;01min\u001B[39;00m application\u001B[38;5;241m.\u001B[39mabstraction\u001B[38;5;241m.\u001B[39maccept(\u001B[38;5;28mself\u001B[39m):\n\u001B[0;32m    114\u001B[0m         \u001B[38;5;28;01myield\u001B[39;00m (conversion, terms\u001B[38;5;241m.\u001B[39mApplication(transformation, application\u001B[38;5;241m.\u001B[39margument))\n\u001B[0;32m    115\u001B[0m         \u001B[38;5;28;01mif\u001B[39;00m \u001B[38;5;28misinstance\u001B[39m(transformation, terms\u001B[38;5;241m.\u001B[39mAbstraction):\n",
      "File \u001B[1;32mD:\\documents\\python_projects\\pure-calculus\\venv_3_11\\Lib\\site-packages\\lambda_calculus\\visitors\\normalisation.py:117\u001B[0m, in \u001B[0;36mBetaNormalisingVisitor.visit_application\u001B[1;34m(self, application)\u001B[0m\n\u001B[0;32m    115\u001B[0m \u001B[38;5;28;01mif\u001B[39;00m \u001B[38;5;28misinstance\u001B[39m(transformation, terms\u001B[38;5;241m.\u001B[39mAbstraction):\n\u001B[0;32m    116\u001B[0m     reduced \u001B[38;5;241m=\u001B[39m \u001B[38;5;28;01myield from\u001B[39;00m \u001B[38;5;28mself\u001B[39m\u001B[38;5;241m.\u001B[39mbeta_reducation(transformation, application\u001B[38;5;241m.\u001B[39margument)\n\u001B[1;32m--> 117\u001B[0m     \u001B[38;5;28;01myield from\u001B[39;00m reduced\u001B[38;5;241m.\u001B[39maccept(\u001B[38;5;28mself\u001B[39m)\n\u001B[0;32m    118\u001B[0m     \u001B[38;5;28;01mreturn\u001B[39;00m\n\u001B[0;32m    119\u001B[0m \u001B[38;5;28;01melse\u001B[39;00m:\n",
      "File \u001B[1;32mD:\\documents\\python_projects\\pure-calculus\\venv_3_11\\Lib\\site-packages\\lambda_calculus\\visitors\\normalisation.py:109\u001B[0m, in \u001B[0;36mBetaNormalisingVisitor.visit_application\u001B[1;34m(self, application)\u001B[0m\n\u001B[0;32m    106\u001B[0m \u001B[38;5;28;01mif\u001B[39;00m \u001B[38;5;28misinstance\u001B[39m(application\u001B[38;5;241m.\u001B[39mabstraction, terms\u001B[38;5;241m.\u001B[39mAbstraction):\n\u001B[0;32m    107\u001B[0m     \u001B[38;5;66;03m# normal order dictates we reduce the leftmost outermost redex first\u001B[39;00m\n\u001B[0;32m    108\u001B[0m     reduced \u001B[38;5;241m=\u001B[39m \u001B[38;5;28;01myield from\u001B[39;00m \u001B[38;5;28mself\u001B[39m\u001B[38;5;241m.\u001B[39mbeta_reducation(application\u001B[38;5;241m.\u001B[39mabstraction, application\u001B[38;5;241m.\u001B[39margument)\n\u001B[1;32m--> 109\u001B[0m     \u001B[38;5;28;01myield from\u001B[39;00m reduced\u001B[38;5;241m.\u001B[39maccept(\u001B[38;5;28mself\u001B[39m)\n\u001B[0;32m    110\u001B[0m \u001B[38;5;28;01melse\u001B[39;00m:\n\u001B[0;32m    111\u001B[0m     \u001B[38;5;66;03m# try to reduce the abstraction until this is a redex\u001B[39;00m\n\u001B[0;32m    112\u001B[0m     abstraction \u001B[38;5;241m=\u001B[39m application\u001B[38;5;241m.\u001B[39mabstraction\n",
      "File \u001B[1;32mD:\\documents\\python_projects\\pure-calculus\\venv_3_11\\Lib\\site-packages\\lambda_calculus\\visitors\\normalisation.py:117\u001B[0m, in \u001B[0;36mBetaNormalisingVisitor.visit_application\u001B[1;34m(self, application)\u001B[0m\n\u001B[0;32m    115\u001B[0m \u001B[38;5;28;01mif\u001B[39;00m \u001B[38;5;28misinstance\u001B[39m(transformation, terms\u001B[38;5;241m.\u001B[39mAbstraction):\n\u001B[0;32m    116\u001B[0m     reduced \u001B[38;5;241m=\u001B[39m \u001B[38;5;28;01myield from\u001B[39;00m \u001B[38;5;28mself\u001B[39m\u001B[38;5;241m.\u001B[39mbeta_reducation(transformation, application\u001B[38;5;241m.\u001B[39margument)\n\u001B[1;32m--> 117\u001B[0m     \u001B[38;5;28;01myield from\u001B[39;00m reduced\u001B[38;5;241m.\u001B[39maccept(\u001B[38;5;28mself\u001B[39m)\n\u001B[0;32m    118\u001B[0m     \u001B[38;5;28;01mreturn\u001B[39;00m\n\u001B[0;32m    119\u001B[0m \u001B[38;5;28;01melse\u001B[39;00m:\n",
      "File \u001B[1;32mD:\\documents\\python_projects\\pure-calculus\\venv_3_11\\Lib\\site-packages\\lambda_calculus\\visitors\\normalisation.py:113\u001B[0m, in \u001B[0;36mBetaNormalisingVisitor.visit_application\u001B[1;34m(self, application)\u001B[0m\n\u001B[0;32m    110\u001B[0m \u001B[38;5;28;01melse\u001B[39;00m:\n\u001B[0;32m    111\u001B[0m     \u001B[38;5;66;03m# try to reduce the abstraction until this is a redex\u001B[39;00m\n\u001B[0;32m    112\u001B[0m     abstraction \u001B[38;5;241m=\u001B[39m application\u001B[38;5;241m.\u001B[39mabstraction\n\u001B[1;32m--> 113\u001B[0m     \u001B[38;5;28;01mfor\u001B[39;00m conversion, transformation \u001B[38;5;129;01min\u001B[39;00m application\u001B[38;5;241m.\u001B[39mabstraction\u001B[38;5;241m.\u001B[39maccept(\u001B[38;5;28mself\u001B[39m):\n\u001B[0;32m    114\u001B[0m         \u001B[38;5;28;01myield\u001B[39;00m (conversion, terms\u001B[38;5;241m.\u001B[39mApplication(transformation, application\u001B[38;5;241m.\u001B[39margument))\n\u001B[0;32m    115\u001B[0m         \u001B[38;5;28;01mif\u001B[39;00m \u001B[38;5;28misinstance\u001B[39m(transformation, terms\u001B[38;5;241m.\u001B[39mAbstraction):\n",
      "File \u001B[1;32mD:\\documents\\python_projects\\pure-calculus\\venv_3_11\\Lib\\site-packages\\lambda_calculus\\visitors\\normalisation.py:117\u001B[0m, in \u001B[0;36mBetaNormalisingVisitor.visit_application\u001B[1;34m(self, application)\u001B[0m\n\u001B[0;32m    115\u001B[0m \u001B[38;5;28;01mif\u001B[39;00m \u001B[38;5;28misinstance\u001B[39m(transformation, terms\u001B[38;5;241m.\u001B[39mAbstraction):\n\u001B[0;32m    116\u001B[0m     reduced \u001B[38;5;241m=\u001B[39m \u001B[38;5;28;01myield from\u001B[39;00m \u001B[38;5;28mself\u001B[39m\u001B[38;5;241m.\u001B[39mbeta_reducation(transformation, application\u001B[38;5;241m.\u001B[39margument)\n\u001B[1;32m--> 117\u001B[0m     \u001B[38;5;28;01myield from\u001B[39;00m reduced\u001B[38;5;241m.\u001B[39maccept(\u001B[38;5;28mself\u001B[39m)\n\u001B[0;32m    118\u001B[0m     \u001B[38;5;28;01mreturn\u001B[39;00m\n\u001B[0;32m    119\u001B[0m \u001B[38;5;28;01melse\u001B[39;00m:\n",
      "File \u001B[1;32mD:\\documents\\python_projects\\pure-calculus\\venv_3_11\\Lib\\site-packages\\lambda_calculus\\visitors\\normalisation.py:113\u001B[0m, in \u001B[0;36mBetaNormalisingVisitor.visit_application\u001B[1;34m(self, application)\u001B[0m\n\u001B[0;32m    110\u001B[0m \u001B[38;5;28;01melse\u001B[39;00m:\n\u001B[0;32m    111\u001B[0m     \u001B[38;5;66;03m# try to reduce the abstraction until this is a redex\u001B[39;00m\n\u001B[0;32m    112\u001B[0m     abstraction \u001B[38;5;241m=\u001B[39m application\u001B[38;5;241m.\u001B[39mabstraction\n\u001B[1;32m--> 113\u001B[0m     \u001B[38;5;28;01mfor\u001B[39;00m conversion, transformation \u001B[38;5;129;01min\u001B[39;00m application\u001B[38;5;241m.\u001B[39mabstraction\u001B[38;5;241m.\u001B[39maccept(\u001B[38;5;28mself\u001B[39m):\n\u001B[0;32m    114\u001B[0m         \u001B[38;5;28;01myield\u001B[39;00m (conversion, terms\u001B[38;5;241m.\u001B[39mApplication(transformation, application\u001B[38;5;241m.\u001B[39margument))\n\u001B[0;32m    115\u001B[0m         \u001B[38;5;28;01mif\u001B[39;00m \u001B[38;5;28misinstance\u001B[39m(transformation, terms\u001B[38;5;241m.\u001B[39mAbstraction):\n",
      "    \u001B[1;31m[... skipping similar frames: BetaNormalisingVisitor.visit_application at line 117 (158 times), BetaNormalisingVisitor.visit_application at line 113 (157 times)]\u001B[0m\n",
      "File \u001B[1;32mD:\\documents\\python_projects\\pure-calculus\\venv_3_11\\Lib\\site-packages\\lambda_calculus\\visitors\\normalisation.py:113\u001B[0m, in \u001B[0;36mBetaNormalisingVisitor.visit_application\u001B[1;34m(self, application)\u001B[0m\n\u001B[0;32m    110\u001B[0m \u001B[38;5;28;01melse\u001B[39;00m:\n\u001B[0;32m    111\u001B[0m     \u001B[38;5;66;03m# try to reduce the abstraction until this is a redex\u001B[39;00m\n\u001B[0;32m    112\u001B[0m     abstraction \u001B[38;5;241m=\u001B[39m application\u001B[38;5;241m.\u001B[39mabstraction\n\u001B[1;32m--> 113\u001B[0m     \u001B[38;5;28;01mfor\u001B[39;00m conversion, transformation \u001B[38;5;129;01min\u001B[39;00m application\u001B[38;5;241m.\u001B[39mabstraction\u001B[38;5;241m.\u001B[39maccept(\u001B[38;5;28mself\u001B[39m):\n\u001B[0;32m    114\u001B[0m         \u001B[38;5;28;01myield\u001B[39;00m (conversion, terms\u001B[38;5;241m.\u001B[39mApplication(transformation, application\u001B[38;5;241m.\u001B[39margument))\n\u001B[0;32m    115\u001B[0m         \u001B[38;5;28;01mif\u001B[39;00m \u001B[38;5;28misinstance\u001B[39m(transformation, terms\u001B[38;5;241m.\u001B[39mAbstraction):\n",
      "    \u001B[1;31m[... skipping similar frames: BetaNormalisingVisitor.visit_application at line 117 (1 times)]\u001B[0m\n",
      "File \u001B[1;32mD:\\documents\\python_projects\\pure-calculus\\venv_3_11\\Lib\\site-packages\\lambda_calculus\\visitors\\normalisation.py:117\u001B[0m, in \u001B[0;36mBetaNormalisingVisitor.visit_application\u001B[1;34m(self, application)\u001B[0m\n\u001B[0;32m    115\u001B[0m \u001B[38;5;28;01mif\u001B[39;00m \u001B[38;5;28misinstance\u001B[39m(transformation, terms\u001B[38;5;241m.\u001B[39mAbstraction):\n\u001B[0;32m    116\u001B[0m     reduced \u001B[38;5;241m=\u001B[39m \u001B[38;5;28;01myield from\u001B[39;00m \u001B[38;5;28mself\u001B[39m\u001B[38;5;241m.\u001B[39mbeta_reducation(transformation, application\u001B[38;5;241m.\u001B[39margument)\n\u001B[1;32m--> 117\u001B[0m     \u001B[38;5;28;01myield from\u001B[39;00m reduced\u001B[38;5;241m.\u001B[39maccept(\u001B[38;5;28mself\u001B[39m)\n\u001B[0;32m    118\u001B[0m     \u001B[38;5;28;01mreturn\u001B[39;00m\n\u001B[0;32m    119\u001B[0m \u001B[38;5;28;01melse\u001B[39;00m:\n",
      "File \u001B[1;32mD:\\documents\\python_projects\\pure-calculus\\venv_3_11\\Lib\\site-packages\\lambda_calculus\\visitors\\normalisation.py:109\u001B[0m, in \u001B[0;36mBetaNormalisingVisitor.visit_application\u001B[1;34m(self, application)\u001B[0m\n\u001B[0;32m    106\u001B[0m \u001B[38;5;28;01mif\u001B[39;00m \u001B[38;5;28misinstance\u001B[39m(application\u001B[38;5;241m.\u001B[39mabstraction, terms\u001B[38;5;241m.\u001B[39mAbstraction):\n\u001B[0;32m    107\u001B[0m     \u001B[38;5;66;03m# normal order dictates we reduce the leftmost outermost redex first\u001B[39;00m\n\u001B[0;32m    108\u001B[0m     reduced \u001B[38;5;241m=\u001B[39m \u001B[38;5;28;01myield from\u001B[39;00m \u001B[38;5;28mself\u001B[39m\u001B[38;5;241m.\u001B[39mbeta_reducation(application\u001B[38;5;241m.\u001B[39mabstraction, application\u001B[38;5;241m.\u001B[39margument)\n\u001B[1;32m--> 109\u001B[0m     \u001B[38;5;28;01myield from\u001B[39;00m reduced\u001B[38;5;241m.\u001B[39maccept(\u001B[38;5;28mself\u001B[39m)\n\u001B[0;32m    110\u001B[0m \u001B[38;5;28;01melse\u001B[39;00m:\n\u001B[0;32m    111\u001B[0m     \u001B[38;5;66;03m# try to reduce the abstraction until this is a redex\u001B[39;00m\n\u001B[0;32m    112\u001B[0m     abstraction \u001B[38;5;241m=\u001B[39m application\u001B[38;5;241m.\u001B[39mabstraction\n",
      "File \u001B[1;32mD:\\documents\\python_projects\\pure-calculus\\venv_3_11\\Lib\\site-packages\\lambda_calculus\\visitors\\normalisation.py:113\u001B[0m, in \u001B[0;36mBetaNormalisingVisitor.visit_application\u001B[1;34m(self, application)\u001B[0m\n\u001B[0;32m    110\u001B[0m \u001B[38;5;28;01melse\u001B[39;00m:\n\u001B[0;32m    111\u001B[0m     \u001B[38;5;66;03m# try to reduce the abstraction until this is a redex\u001B[39;00m\n\u001B[0;32m    112\u001B[0m     abstraction \u001B[38;5;241m=\u001B[39m application\u001B[38;5;241m.\u001B[39mabstraction\n\u001B[1;32m--> 113\u001B[0m     \u001B[38;5;28;01mfor\u001B[39;00m conversion, transformation \u001B[38;5;129;01min\u001B[39;00m application\u001B[38;5;241m.\u001B[39mabstraction\u001B[38;5;241m.\u001B[39maccept(\u001B[38;5;28mself\u001B[39m):\n\u001B[0;32m    114\u001B[0m         \u001B[38;5;28;01myield\u001B[39;00m (conversion, terms\u001B[38;5;241m.\u001B[39mApplication(transformation, application\u001B[38;5;241m.\u001B[39margument))\n\u001B[0;32m    115\u001B[0m         \u001B[38;5;28;01mif\u001B[39;00m \u001B[38;5;28misinstance\u001B[39m(transformation, terms\u001B[38;5;241m.\u001B[39mAbstraction):\n",
      "File \u001B[1;32mD:\\documents\\python_projects\\pure-calculus\\venv_3_11\\Lib\\site-packages\\lambda_calculus\\visitors\\normalisation.py:113\u001B[0m, in \u001B[0;36mBetaNormalisingVisitor.visit_application\u001B[1;34m(self, application)\u001B[0m\n\u001B[0;32m    110\u001B[0m \u001B[38;5;28;01melse\u001B[39;00m:\n\u001B[0;32m    111\u001B[0m     \u001B[38;5;66;03m# try to reduce the abstraction until this is a redex\u001B[39;00m\n\u001B[0;32m    112\u001B[0m     abstraction \u001B[38;5;241m=\u001B[39m application\u001B[38;5;241m.\u001B[39mabstraction\n\u001B[1;32m--> 113\u001B[0m     \u001B[38;5;28;01mfor\u001B[39;00m conversion, transformation \u001B[38;5;129;01min\u001B[39;00m application\u001B[38;5;241m.\u001B[39mabstraction\u001B[38;5;241m.\u001B[39maccept(\u001B[38;5;28mself\u001B[39m):\n\u001B[0;32m    114\u001B[0m         \u001B[38;5;28;01myield\u001B[39;00m (conversion, terms\u001B[38;5;241m.\u001B[39mApplication(transformation, application\u001B[38;5;241m.\u001B[39margument))\n\u001B[0;32m    115\u001B[0m         \u001B[38;5;28;01mif\u001B[39;00m \u001B[38;5;28misinstance\u001B[39m(transformation, terms\u001B[38;5;241m.\u001B[39mAbstraction):\n",
      "    \u001B[1;31m[... skipping similar frames: BetaNormalisingVisitor.visit_application at line 113 (12 times)]\u001B[0m\n",
      "File \u001B[1;32mD:\\documents\\python_projects\\pure-calculus\\venv_3_11\\Lib\\site-packages\\lambda_calculus\\visitors\\normalisation.py:113\u001B[0m, in \u001B[0;36mBetaNormalisingVisitor.visit_application\u001B[1;34m(self, application)\u001B[0m\n\u001B[0;32m    110\u001B[0m \u001B[38;5;28;01melse\u001B[39;00m:\n\u001B[0;32m    111\u001B[0m     \u001B[38;5;66;03m# try to reduce the abstraction until this is a redex\u001B[39;00m\n\u001B[0;32m    112\u001B[0m     abstraction \u001B[38;5;241m=\u001B[39m application\u001B[38;5;241m.\u001B[39mabstraction\n\u001B[1;32m--> 113\u001B[0m     \u001B[38;5;28;01mfor\u001B[39;00m conversion, transformation \u001B[38;5;129;01min\u001B[39;00m application\u001B[38;5;241m.\u001B[39mabstraction\u001B[38;5;241m.\u001B[39maccept(\u001B[38;5;28mself\u001B[39m):\n\u001B[0;32m    114\u001B[0m         \u001B[38;5;28;01myield\u001B[39;00m (conversion, terms\u001B[38;5;241m.\u001B[39mApplication(transformation, application\u001B[38;5;241m.\u001B[39margument))\n\u001B[0;32m    115\u001B[0m         \u001B[38;5;28;01mif\u001B[39;00m \u001B[38;5;28misinstance\u001B[39m(transformation, terms\u001B[38;5;241m.\u001B[39mAbstraction):\n",
      "File \u001B[1;32mD:\\documents\\python_projects\\pure-calculus\\venv_3_11\\Lib\\site-packages\\lambda_calculus\\visitors\\normalisation.py:117\u001B[0m, in \u001B[0;36mBetaNormalisingVisitor.visit_application\u001B[1;34m(self, application)\u001B[0m\n\u001B[0;32m    115\u001B[0m \u001B[38;5;28;01mif\u001B[39;00m \u001B[38;5;28misinstance\u001B[39m(transformation, terms\u001B[38;5;241m.\u001B[39mAbstraction):\n\u001B[0;32m    116\u001B[0m     reduced \u001B[38;5;241m=\u001B[39m \u001B[38;5;28;01myield from\u001B[39;00m \u001B[38;5;28mself\u001B[39m\u001B[38;5;241m.\u001B[39mbeta_reducation(transformation, application\u001B[38;5;241m.\u001B[39margument)\n\u001B[1;32m--> 117\u001B[0m     \u001B[38;5;28;01myield from\u001B[39;00m reduced\u001B[38;5;241m.\u001B[39maccept(\u001B[38;5;28mself\u001B[39m)\n\u001B[0;32m    118\u001B[0m     \u001B[38;5;28;01mreturn\u001B[39;00m\n\u001B[0;32m    119\u001B[0m \u001B[38;5;28;01melse\u001B[39;00m:\n",
      "File \u001B[1;32mD:\\documents\\python_projects\\pure-calculus\\venv_3_11\\Lib\\site-packages\\lambda_calculus\\visitors\\normalisation.py:108\u001B[0m, in \u001B[0;36mBetaNormalisingVisitor.visit_application\u001B[1;34m(self, application)\u001B[0m\n\u001B[0;32m     97\u001B[0m \u001B[38;5;250m\u001B[39m\u001B[38;5;124;03m\"\"\"\u001B[39;00m\n\u001B[0;32m     98\u001B[0m \u001B[38;5;124;03mVisit an Application term\u001B[39;00m\n\u001B[0;32m     99\u001B[0m \n\u001B[1;32m   (...)\u001B[0m\n\u001B[0;32m    104\u001B[0m \u001B[38;5;124;03m         and performed on its result or abstraction and argument\u001B[39;00m\n\u001B[0;32m    105\u001B[0m \u001B[38;5;124;03m\"\"\"\u001B[39;00m\n\u001B[0;32m    106\u001B[0m \u001B[38;5;28;01mif\u001B[39;00m \u001B[38;5;28misinstance\u001B[39m(application\u001B[38;5;241m.\u001B[39mabstraction, terms\u001B[38;5;241m.\u001B[39mAbstraction):\n\u001B[0;32m    107\u001B[0m     \u001B[38;5;66;03m# normal order dictates we reduce the leftmost outermost redex first\u001B[39;00m\n\u001B[1;32m--> 108\u001B[0m     reduced \u001B[38;5;241m=\u001B[39m \u001B[38;5;28;01myield from\u001B[39;00m \u001B[38;5;28mself\u001B[39m\u001B[38;5;241m.\u001B[39mbeta_reducation(application\u001B[38;5;241m.\u001B[39mabstraction, application\u001B[38;5;241m.\u001B[39margument)\n\u001B[0;32m    109\u001B[0m     \u001B[38;5;28;01myield from\u001B[39;00m reduced\u001B[38;5;241m.\u001B[39maccept(\u001B[38;5;28mself\u001B[39m)\n\u001B[0;32m    110\u001B[0m \u001B[38;5;28;01melse\u001B[39;00m:\n\u001B[0;32m    111\u001B[0m     \u001B[38;5;66;03m# try to reduce the abstraction until this is a redex\u001B[39;00m\n",
      "File \u001B[1;32mD:\\documents\\python_projects\\pure-calculus\\venv_3_11\\Lib\\site-packages\\lambda_calculus\\visitors\\normalisation.py:85\u001B[0m, in \u001B[0;36mBetaNormalisingVisitor.beta_reducation\u001B[1;34m(self, abstraction, argument)\u001B[0m\n\u001B[0;32m     77\u001B[0m \u001B[38;5;28;01mdef\u001B[39;00m \u001B[38;5;21mbeta_reducation\u001B[39m(\u001B[38;5;28mself\u001B[39m, abstraction: terms\u001B[38;5;241m.\u001B[39mAbstraction[\u001B[38;5;28mstr\u001B[39m], argument: terms\u001B[38;5;241m.\u001B[39mTerm[\u001B[38;5;28mstr\u001B[39m]) \u001B[38;5;241m-\u001B[39m\u001B[38;5;241m>\u001B[39m Generator[Step, \u001B[38;5;28;01mNone\u001B[39;00m, terms\u001B[38;5;241m.\u001B[39mTerm[\u001B[38;5;28mstr\u001B[39m]]:\n\u001B[0;32m     78\u001B[0m \u001B[38;5;250m    \u001B[39m\u001B[38;5;124;03m\"\"\"\u001B[39;00m\n\u001B[0;32m     79\u001B[0m \u001B[38;5;124;03m    Perform beta reduction of an application.\u001B[39;00m\n\u001B[0;32m     80\u001B[0m \u001B[38;5;124;03m    \u001B[39;00m\n\u001B[1;32m   (...)\u001B[0m\n\u001B[0;32m     83\u001B[0m \u001B[38;5;124;03m    :return: Generator yielding steps and returning the reduced term\u001B[39;00m\n\u001B[0;32m     84\u001B[0m \u001B[38;5;124;03m    \"\"\"\u001B[39;00m\n\u001B[1;32m---> 85\u001B[0m     conversions \u001B[38;5;241m=\u001B[39m \u001B[43mCountingSubstitution\u001B[49m\u001B[38;5;241;43m.\u001B[39;49m\u001B[43mfrom_substitution\u001B[49m\u001B[43m(\u001B[49m\u001B[43mabstraction\u001B[49m\u001B[38;5;241;43m.\u001B[39;49m\u001B[43mbound\u001B[49m\u001B[43m,\u001B[49m\u001B[43m \u001B[49m\u001B[43margument\u001B[49m\u001B[43m)\u001B[49m\u001B[38;5;241m.\u001B[39mtrace()\n\u001B[0;32m     86\u001B[0m     reduced \u001B[38;5;241m=\u001B[39m \u001B[38;5;28;01myield from\u001B[39;00m \u001B[38;5;28mmap\u001B[39m(\n\u001B[0;32m     87\u001B[0m         \u001B[38;5;28;01mlambda\u001B[39;00m body: (\n\u001B[0;32m     88\u001B[0m             Conversion\u001B[38;5;241m.\u001B[39mALPHA,\n\u001B[1;32m   (...)\u001B[0m\n\u001B[0;32m     91\u001B[0m         abstraction\u001B[38;5;241m.\u001B[39mbody\u001B[38;5;241m.\u001B[39maccept(conversions)    \u001B[38;5;66;03m# type: ignore\u001B[39;00m\n\u001B[0;32m     92\u001B[0m     )\n\u001B[0;32m     93\u001B[0m     \u001B[38;5;28;01myield\u001B[39;00m (Conversion\u001B[38;5;241m.\u001B[39mBETA, reduced)\n",
      "File \u001B[1;32mD:\\documents\\python_projects\\pure-calculus\\venv_3_11\\Lib\\site-packages\\lambda_calculus\\visitors\\substitution\\renaming.py:194\u001B[0m, in \u001B[0;36mCountingSubstitution.from_substitution\u001B[1;34m(cls, variable, value)\u001B[0m\n\u001B[0;32m    185\u001B[0m \u001B[38;5;129m@classmethod\u001B[39m\n\u001B[0;32m    186\u001B[0m \u001B[38;5;28;01mdef\u001B[39;00m \u001B[38;5;21mfrom_substitution\u001B[39m(\u001B[38;5;28mcls\u001B[39m, variable: \u001B[38;5;28mstr\u001B[39m, value: terms\u001B[38;5;241m.\u001B[39mTerm[\u001B[38;5;28mstr\u001B[39m]) \u001B[38;5;241m-\u001B[39m\u001B[38;5;241m>\u001B[39m CountingSubstitution:\n\u001B[0;32m    187\u001B[0m \u001B[38;5;250m    \u001B[39m\u001B[38;5;124;03m\"\"\"\u001B[39;00m\n\u001B[0;32m    188\u001B[0m \u001B[38;5;124;03m    Create an instance from the substitution it should perform\u001B[39;00m\n\u001B[0;32m    189\u001B[0m \n\u001B[1;32m   (...)\u001B[0m\n\u001B[0;32m    192\u001B[0m \u001B[38;5;124;03m    :return: new instance with free_variables set to the free variables of value\u001B[39;00m\n\u001B[0;32m    193\u001B[0m \u001B[38;5;124;03m    \"\"\"\u001B[39;00m\n\u001B[1;32m--> 194\u001B[0m     \u001B[38;5;28;01mreturn\u001B[39;00m \u001B[38;5;28mcls\u001B[39m(variable, value, \u001B[43mvalue\u001B[49m\u001B[38;5;241;43m.\u001B[39;49m\u001B[43mfree_variables\u001B[49m\u001B[43m(\u001B[49m\u001B[43m)\u001B[49m)\n",
      "File \u001B[1;32mD:\\documents\\python_projects\\pure-calculus\\venv_3_11\\Lib\\site-packages\\lambda_calculus\\terms\\__init__.py:368\u001B[0m, in \u001B[0;36mApplication.free_variables\u001B[1;34m(self)\u001B[0m\n\u001B[0;32m    362\u001B[0m \u001B[38;5;28;01mdef\u001B[39;00m \u001B[38;5;21mfree_variables\u001B[39m(\u001B[38;5;28mself\u001B[39m) \u001B[38;5;241m-\u001B[39m\u001B[38;5;241m>\u001B[39m Set[V]:\n\u001B[0;32m    363\u001B[0m \u001B[38;5;250m    \u001B[39m\u001B[38;5;124;03m\"\"\"\u001B[39;00m\n\u001B[0;32m    364\u001B[0m \u001B[38;5;124;03m    Calculate the free variables of this Term.\u001B[39;00m\n\u001B[0;32m    365\u001B[0m \n\u001B[0;32m    366\u001B[0m \u001B[38;5;124;03m    :return: variables not bound by an abstraction\u001B[39;00m\n\u001B[0;32m    367\u001B[0m \u001B[38;5;124;03m    \"\"\"\u001B[39;00m\n\u001B[1;32m--> 368\u001B[0m     \u001B[38;5;28;01mreturn\u001B[39;00m \u001B[38;5;28;43mself\u001B[39;49m\u001B[38;5;241;43m.\u001B[39;49m\u001B[43mabstraction\u001B[49m\u001B[38;5;241;43m.\u001B[39;49m\u001B[43mfree_variables\u001B[49m\u001B[43m(\u001B[49m\u001B[43m)\u001B[49m \u001B[38;5;241m|\u001B[39m \u001B[38;5;28mself\u001B[39m\u001B[38;5;241m.\u001B[39margument\u001B[38;5;241m.\u001B[39mfree_variables()\n",
      "File \u001B[1;32mD:\\documents\\python_projects\\pure-calculus\\venv_3_11\\Lib\\site-packages\\lambda_calculus\\terms\\__init__.py:368\u001B[0m, in \u001B[0;36mApplication.free_variables\u001B[1;34m(self)\u001B[0m\n\u001B[0;32m    362\u001B[0m \u001B[38;5;28;01mdef\u001B[39;00m \u001B[38;5;21mfree_variables\u001B[39m(\u001B[38;5;28mself\u001B[39m) \u001B[38;5;241m-\u001B[39m\u001B[38;5;241m>\u001B[39m Set[V]:\n\u001B[0;32m    363\u001B[0m \u001B[38;5;250m    \u001B[39m\u001B[38;5;124;03m\"\"\"\u001B[39;00m\n\u001B[0;32m    364\u001B[0m \u001B[38;5;124;03m    Calculate the free variables of this Term.\u001B[39;00m\n\u001B[0;32m    365\u001B[0m \n\u001B[0;32m    366\u001B[0m \u001B[38;5;124;03m    :return: variables not bound by an abstraction\u001B[39;00m\n\u001B[0;32m    367\u001B[0m \u001B[38;5;124;03m    \"\"\"\u001B[39;00m\n\u001B[1;32m--> 368\u001B[0m     \u001B[38;5;28;01mreturn\u001B[39;00m \u001B[38;5;28;43mself\u001B[39;49m\u001B[38;5;241;43m.\u001B[39;49m\u001B[43mabstraction\u001B[49m\u001B[38;5;241;43m.\u001B[39;49m\u001B[43mfree_variables\u001B[49m\u001B[43m(\u001B[49m\u001B[43m)\u001B[49m \u001B[38;5;241m|\u001B[39m \u001B[38;5;28mself\u001B[39m\u001B[38;5;241m.\u001B[39margument\u001B[38;5;241m.\u001B[39mfree_variables()\n",
      "    \u001B[1;31m[... skipping similar frames: Application.free_variables at line 368 (84 times)]\u001B[0m\n",
      "File \u001B[1;32mD:\\documents\\python_projects\\pure-calculus\\venv_3_11\\Lib\\site-packages\\lambda_calculus\\terms\\__init__.py:248\u001B[0m, in \u001B[0;36mAbstraction.free_variables\u001B[1;34m(self)\u001B[0m\n\u001B[0;32m    242\u001B[0m \u001B[38;5;28;01mdef\u001B[39;00m \u001B[38;5;21mfree_variables\u001B[39m(\u001B[38;5;28mself\u001B[39m) \u001B[38;5;241m-\u001B[39m\u001B[38;5;241m>\u001B[39m Set[V]:\n\u001B[0;32m    243\u001B[0m \u001B[38;5;250m    \u001B[39m\u001B[38;5;124;03m\"\"\"\u001B[39;00m\n\u001B[0;32m    244\u001B[0m \u001B[38;5;124;03m    Calculate the free variables of this Term.\u001B[39;00m\n\u001B[0;32m    245\u001B[0m \n\u001B[0;32m    246\u001B[0m \u001B[38;5;124;03m    :return: variables not bound by an abstraction\u001B[39;00m\n\u001B[0;32m    247\u001B[0m \u001B[38;5;124;03m    \"\"\"\u001B[39;00m\n\u001B[1;32m--> 248\u001B[0m     \u001B[38;5;28;01mreturn\u001B[39;00m \u001B[38;5;28;43mself\u001B[39;49m\u001B[38;5;241;43m.\u001B[39;49m\u001B[43mbody\u001B[49m\u001B[38;5;241;43m.\u001B[39;49m\u001B[43mfree_variables\u001B[49m\u001B[43m(\u001B[49m\u001B[43m)\u001B[49m \u001B[38;5;241m-\u001B[39m {\u001B[38;5;28mself\u001B[39m\u001B[38;5;241m.\u001B[39mbound}\n",
      "File \u001B[1;32mD:\\documents\\python_projects\\pure-calculus\\venv_3_11\\Lib\\site-packages\\lambda_calculus\\terms\\__init__.py:248\u001B[0m, in \u001B[0;36mAbstraction.free_variables\u001B[1;34m(self)\u001B[0m\n\u001B[0;32m    242\u001B[0m \u001B[38;5;28;01mdef\u001B[39;00m \u001B[38;5;21mfree_variables\u001B[39m(\u001B[38;5;28mself\u001B[39m) \u001B[38;5;241m-\u001B[39m\u001B[38;5;241m>\u001B[39m Set[V]:\n\u001B[0;32m    243\u001B[0m \u001B[38;5;250m    \u001B[39m\u001B[38;5;124;03m\"\"\"\u001B[39;00m\n\u001B[0;32m    244\u001B[0m \u001B[38;5;124;03m    Calculate the free variables of this Term.\u001B[39;00m\n\u001B[0;32m    245\u001B[0m \n\u001B[0;32m    246\u001B[0m \u001B[38;5;124;03m    :return: variables not bound by an abstraction\u001B[39;00m\n\u001B[0;32m    247\u001B[0m \u001B[38;5;124;03m    \"\"\"\u001B[39;00m\n\u001B[1;32m--> 248\u001B[0m     \u001B[38;5;28;01mreturn\u001B[39;00m \u001B[38;5;28;43mself\u001B[39;49m\u001B[38;5;241;43m.\u001B[39;49m\u001B[43mbody\u001B[49m\u001B[38;5;241;43m.\u001B[39;49m\u001B[43mfree_variables\u001B[49m\u001B[43m(\u001B[49m\u001B[43m)\u001B[49m \u001B[38;5;241m-\u001B[39m {\u001B[38;5;28mself\u001B[39m\u001B[38;5;241m.\u001B[39mbound}\n",
      "    \u001B[1;31m[... skipping similar frames: Application.free_variables at line 368 (449 times), Abstraction.free_variables at line 248 (448 times)]\u001B[0m\n",
      "File \u001B[1;32mD:\\documents\\python_projects\\pure-calculus\\venv_3_11\\Lib\\site-packages\\lambda_calculus\\terms\\__init__.py:368\u001B[0m, in \u001B[0;36mApplication.free_variables\u001B[1;34m(self)\u001B[0m\n\u001B[0;32m    362\u001B[0m \u001B[38;5;28;01mdef\u001B[39;00m \u001B[38;5;21mfree_variables\u001B[39m(\u001B[38;5;28mself\u001B[39m) \u001B[38;5;241m-\u001B[39m\u001B[38;5;241m>\u001B[39m Set[V]:\n\u001B[0;32m    363\u001B[0m \u001B[38;5;250m    \u001B[39m\u001B[38;5;124;03m\"\"\"\u001B[39;00m\n\u001B[0;32m    364\u001B[0m \u001B[38;5;124;03m    Calculate the free variables of this Term.\u001B[39;00m\n\u001B[0;32m    365\u001B[0m \n\u001B[0;32m    366\u001B[0m \u001B[38;5;124;03m    :return: variables not bound by an abstraction\u001B[39;00m\n\u001B[0;32m    367\u001B[0m \u001B[38;5;124;03m    \"\"\"\u001B[39;00m\n\u001B[1;32m--> 368\u001B[0m     \u001B[38;5;28;01mreturn\u001B[39;00m \u001B[38;5;28mself\u001B[39m\u001B[38;5;241m.\u001B[39mabstraction\u001B[38;5;241m.\u001B[39mfree_variables() \u001B[38;5;241m|\u001B[39m \u001B[38;5;28;43mself\u001B[39;49m\u001B[38;5;241;43m.\u001B[39;49m\u001B[43margument\u001B[49m\u001B[38;5;241;43m.\u001B[39;49m\u001B[43mfree_variables\u001B[49m\u001B[43m(\u001B[49m\u001B[43m)\u001B[49m\n",
      "File \u001B[1;32mD:\\documents\\python_projects\\pure-calculus\\venv_3_11\\Lib\\site-packages\\lambda_calculus\\terms\\__init__.py:248\u001B[0m, in \u001B[0;36mAbstraction.free_variables\u001B[1;34m(self)\u001B[0m\n\u001B[0;32m    242\u001B[0m \u001B[38;5;28;01mdef\u001B[39;00m \u001B[38;5;21mfree_variables\u001B[39m(\u001B[38;5;28mself\u001B[39m) \u001B[38;5;241m-\u001B[39m\u001B[38;5;241m>\u001B[39m Set[V]:\n\u001B[0;32m    243\u001B[0m \u001B[38;5;250m    \u001B[39m\u001B[38;5;124;03m\"\"\"\u001B[39;00m\n\u001B[0;32m    244\u001B[0m \u001B[38;5;124;03m    Calculate the free variables of this Term.\u001B[39;00m\n\u001B[0;32m    245\u001B[0m \n\u001B[0;32m    246\u001B[0m \u001B[38;5;124;03m    :return: variables not bound by an abstraction\u001B[39;00m\n\u001B[0;32m    247\u001B[0m \u001B[38;5;124;03m    \"\"\"\u001B[39;00m\n\u001B[1;32m--> 248\u001B[0m     \u001B[38;5;28;01mreturn\u001B[39;00m \u001B[38;5;28;43mself\u001B[39;49m\u001B[38;5;241;43m.\u001B[39;49m\u001B[43mbody\u001B[49m\u001B[38;5;241;43m.\u001B[39;49m\u001B[43mfree_variables\u001B[49m\u001B[43m(\u001B[49m\u001B[43m)\u001B[49m \u001B[38;5;241m-\u001B[39m {\u001B[38;5;28mself\u001B[39m\u001B[38;5;241m.\u001B[39mbound}\n",
      "File \u001B[1;32mD:\\documents\\python_projects\\pure-calculus\\venv_3_11\\Lib\\site-packages\\lambda_calculus\\terms\\__init__.py:242\u001B[0m, in \u001B[0;36mAbstraction.free_variables\u001B[1;34m(self)\u001B[0m\n\u001B[0;32m    235\u001B[0m \u001B[38;5;250m    \u001B[39m\u001B[38;5;124;03m\"\"\"\u001B[39;00m\n\u001B[0;32m    236\u001B[0m \u001B[38;5;124;03m    Create a string representation.\u001B[39;00m\n\u001B[0;32m    237\u001B[0m \n\u001B[0;32m    238\u001B[0m \u001B[38;5;124;03m    :return: (λ{bound}.{body})\u001B[39;00m\n\u001B[0;32m    239\u001B[0m \u001B[38;5;124;03m    \"\"\"\u001B[39;00m\n\u001B[0;32m    240\u001B[0m     \u001B[38;5;28;01mreturn\u001B[39;00m \u001B[38;5;124mf\u001B[39m\u001B[38;5;124m\"\u001B[39m\u001B[38;5;124m(λ\u001B[39m\u001B[38;5;132;01m{\u001B[39;00m\u001B[38;5;28mself\u001B[39m\u001B[38;5;241m.\u001B[39mbound\u001B[38;5;132;01m}\u001B[39;00m\u001B[38;5;124m.\u001B[39m\u001B[38;5;132;01m{\u001B[39;00m\u001B[38;5;28mself\u001B[39m\u001B[38;5;241m.\u001B[39mbody\u001B[38;5;132;01m}\u001B[39;00m\u001B[38;5;124m)\u001B[39m\u001B[38;5;124m\"\u001B[39m\n\u001B[1;32m--> 242\u001B[0m \u001B[38;5;28;01mdef\u001B[39;00m \u001B[38;5;21mfree_variables\u001B[39m(\u001B[38;5;28mself\u001B[39m) \u001B[38;5;241m-\u001B[39m\u001B[38;5;241m>\u001B[39m Set[V]:\n\u001B[0;32m    243\u001B[0m \u001B[38;5;250m    \u001B[39m\u001B[38;5;124;03m\"\"\"\u001B[39;00m\n\u001B[0;32m    244\u001B[0m \u001B[38;5;124;03m    Calculate the free variables of this Term.\u001B[39;00m\n\u001B[0;32m    245\u001B[0m \n\u001B[0;32m    246\u001B[0m \u001B[38;5;124;03m    :return: variables not bound by an abstraction\u001B[39;00m\n\u001B[0;32m    247\u001B[0m \u001B[38;5;124;03m    \"\"\"\u001B[39;00m\n\u001B[0;32m    248\u001B[0m     \u001B[38;5;28;01mreturn\u001B[39;00m \u001B[38;5;28mself\u001B[39m\u001B[38;5;241m.\u001B[39mbody\u001B[38;5;241m.\u001B[39mfree_variables() \u001B[38;5;241m-\u001B[39m {\u001B[38;5;28mself\u001B[39m\u001B[38;5;241m.\u001B[39mbound}\n",
      "\u001B[1;31mKeyboardInterrupt\u001B[0m: "
     ]
    }
   ],
   "source": [
    "test(16, 0, 16)"
   ],
   "metadata": {
    "collapsed": false
   }
  },
  {
   "cell_type": "code",
   "execution_count": null,
   "outputs": [],
   "source": [],
   "metadata": {
    "collapsed": false
   }
  },
  {
   "cell_type": "code",
   "execution_count": null,
   "outputs": [],
   "source": [],
   "metadata": {
    "collapsed": false
   }
  },
  {
   "cell_type": "code",
   "execution_count": null,
   "outputs": [],
   "source": [],
   "metadata": {
    "collapsed": false
   }
  },
  {
   "cell_type": "code",
   "execution_count": null,
   "outputs": [],
   "source": [],
   "metadata": {
    "collapsed": false
   }
  }
 ],
 "metadata": {
  "kernelspec": {
   "display_name": "Python 3",
   "language": "python",
   "name": "python3"
  },
  "language_info": {
   "codemirror_mode": {
    "name": "ipython",
    "version": 2
   },
   "file_extension": ".py",
   "mimetype": "text/x-python",
   "name": "python",
   "nbconvert_exporter": "python",
   "pygments_lexer": "ipython2",
   "version": "2.7.6"
  }
 },
 "nbformat": 4,
 "nbformat_minor": 0
}
