{
 "cells": [
  {
   "cell_type": "markdown",
   "source": [
    "Greatest common divisor/highest common factor:\n",
    "    GCD := (λgmn. LEQ m n (g n m) (g m n)) (Y (λgxy. ISZERO y x (g y (MOD x y))))\n",
    "\n",
    "[Details about algorithm](https://jwodder.freeshell.org/lambda.html)"
   ],
   "metadata": {
    "collapsed": false
   }
  },
  {
   "cell_type": "code",
   "execution_count": 1,
   "outputs": [],
   "source": [
    "import sys\n",
    "import time\n",
    "\n",
    "sys.path.append(\"../\")\n",
    "from calculus.term import *\n",
    "from calculus.strategy import *\n",
    "from calculus.advanced_terms import *"
   ],
   "metadata": {
    "collapsed": false
   }
  },
  {
   "cell_type": "markdown",
   "source": [
    "Less than:\n",
    "LT := λab. NOT (LEQ b a)\n",
    "\n",
    "Division — DIV a b evaluates to a pair of two numbers, a idiv b and a mod b:\n",
    "DIV := Y (λgqab. LT a b (PAIR q a) (g (SUCC q) (SUB a b) b) ) 0\n",
    "\n",
    "CDR p — get the cdr of pair p; also called SECOND, TAIL, or REST:\n",
    "SECOND := CDR := λp. p FALSE\n",
    "\n",
    "Modulus:\n",
    "MOD := λab. CDR (DIV a b)"
   ],
   "metadata": {
    "collapsed": false
   }
  },
  {
   "cell_type": "code",
   "execution_count": 2,
   "outputs": [],
   "source": [
    "def lt_term():\n",
    "    a, b = Var(), Var()\n",
    "    a_, b_ = Atom(a), Atom(b)\n",
    "    return Lambda(a, Lambda(b, App(not_term(), multi_app_term(le_term(), b_, a_))))\n",
    "\n",
    "\n",
    "def div_term():\n",
    "    g, q, a, b = Var(), Var(), Var(), Var()\n",
    "    g_, q_, a_, b_ = Atom(g), Atom(q), Atom(a), Atom(b)\n",
    "\n",
    "    inner_right_term = multi_app_term(g_, App(succ_term(), q_), multi_app_term(substr_term(), a_, b_), b_)\n",
    "    inner_lambda_term = Lambda(g, Lambda(q, Lambda(a, Lambda(b, multi_app_term(lt_term(), a_, b_, multi_app_term(pair_term(), q_, a_))))))\n",
    "\n",
    "    return multi_app_term(y_term(), inner_lambda_term, inner_right_term, n_term(0))\n",
    "\n",
    "\n",
    "def mod_term():\n",
    "    a, b = Var(), Var()\n",
    "    a_, b_ = Atom(a), Atom(b)\n",
    "    return Lambda(a, Lambda(b, App(second_term(), multi_app_term(div_term(), a_, b_))))"
   ],
   "metadata": {
    "collapsed": false
   }
  },
  {
   "cell_type": "markdown",
   "source": [
    "Greatest common divisor/highest common factor:\n",
    "    GCD := (λgmn. LEQ m n (g n m) (g m n)) (Y (λgxy. ISZERO y x (g y (MOD x y))))"
   ],
   "metadata": {
    "collapsed": false
   }
  },
  {
   "cell_type": "code",
   "execution_count": 4,
   "outputs": [],
   "source": [
    "def gcd_term_v3():\n",
    "    g, m, n, x, y = Var(), Var(), Var(), Var(), Var()\n",
    "    g_, m_, n_, x_, y_ = Atom(g), Atom(m), Atom(n), Atom(x), Atom(y)\n",
    "\n",
    "    left_inner_term = Lambda(g, Lambda(m, Lambda(n, multi_app_term(\n",
    "        le_term(), m_, n_,\n",
    "        multi_app_term(g_, n_, m_),\n",
    "        multi_app_term(g_, m_, n_)\n",
    "    ))))\n",
    "\n",
    "    right_inner_term = Lambda(g, Lambda(x, Lambda(y, multi_app_term(\n",
    "        iszero_term(), y_, x_,\n",
    "        multi_app_term(g_, y_, multi_app_term(mod_term(), x_, y_))\n",
    "    ))))\n",
    "    right_inner_term = App(y_term(), right_inner_term)\n",
    "\n",
    "    return App(left_inner_term, right_inner_term)"
   ],
   "metadata": {
    "collapsed": false
   }
  },
  {
   "cell_type": "code",
   "execution_count": 8,
   "outputs": [],
   "source": [
    "def test_gcd_v3(var_0=0, var_1=0, strategy=LeftmostOutermostStrategy()):\n",
    "    start_time = time.time()\n",
    "    term_ = multi_app_term(gcd_term_v3(), n_term(var_0), n_term(var_1))\n",
    "    res_term, steps = term_.normalize_no_lim(strategy)\n",
    "\n",
    "    print(f\"Norm steps: {steps}\")\n",
    "    print(res_term)\n",
    "    print(f\"time normalization: {time.time() - start_time}s\")"
   ],
   "metadata": {
    "collapsed": false
   }
  },
  {
   "cell_type": "code",
   "execution_count": 9,
   "outputs": [
    {
     "name": "stdout",
     "output_type": "stream",
     "text": [
      "Norm steps: 32\n",
      "λq.λw.λe.e\n",
      "time normalization: 0.037009239196777344s\n"
     ]
    }
   ],
   "source": [
    "test_gcd_v3(0, 0, LeftmostOutermostStrategy())"
   ],
   "metadata": {
    "collapsed": false
   }
  },
  {
   "cell_type": "code",
   "execution_count": 10,
   "outputs": [
    {
     "ename": "KeyboardInterrupt",
     "evalue": "",
     "output_type": "error",
     "traceback": [
      "\u001B[1;31m---------------------------------------------------------------------------\u001B[0m",
      "\u001B[1;31mKeyboardInterrupt\u001B[0m                         Traceback (most recent call last)",
      "Cell \u001B[1;32mIn[10], line 1\u001B[0m\n\u001B[1;32m----> 1\u001B[0m \u001B[43mtest_gcd_v3\u001B[49m\u001B[43m(\u001B[49m\u001B[38;5;241;43m1\u001B[39;49m\u001B[43m,\u001B[49m\u001B[43m \u001B[49m\u001B[38;5;241;43m0\u001B[39;49m\u001B[43m,\u001B[49m\u001B[43m \u001B[49m\u001B[43mLeftmostOutermostStrategy\u001B[49m\u001B[43m(\u001B[49m\u001B[43m)\u001B[49m\u001B[43m)\u001B[49m\n",
      "Cell \u001B[1;32mIn[8], line 4\u001B[0m, in \u001B[0;36mtest_gcd_v3\u001B[1;34m(var_0, var_1, strategy)\u001B[0m\n\u001B[0;32m      2\u001B[0m start_time \u001B[38;5;241m=\u001B[39m time\u001B[38;5;241m.\u001B[39mtime()\n\u001B[0;32m      3\u001B[0m term_ \u001B[38;5;241m=\u001B[39m multi_app_term(gcd_term_v3(), n_term(var_0), n_term(var_1))\n\u001B[1;32m----> 4\u001B[0m res_term, steps \u001B[38;5;241m=\u001B[39m \u001B[43mterm_\u001B[49m\u001B[38;5;241;43m.\u001B[39;49m\u001B[43mnormalize_no_lim\u001B[49m\u001B[43m(\u001B[49m\u001B[43mstrategy\u001B[49m\u001B[43m)\u001B[49m\n\u001B[0;32m      6\u001B[0m \u001B[38;5;28mprint\u001B[39m(\u001B[38;5;124mf\u001B[39m\u001B[38;5;124m\"\u001B[39m\u001B[38;5;124mNorm steps: \u001B[39m\u001B[38;5;132;01m{\u001B[39;00msteps\u001B[38;5;132;01m}\u001B[39;00m\u001B[38;5;124m\"\u001B[39m)\n\u001B[0;32m      7\u001B[0m \u001B[38;5;28mprint\u001B[39m(res_term)\n",
      "File \u001B[1;32mD:\\documents\\python_projects\\pure-calculus\\src\\tests_6\\..\\calculus\\term.py:175\u001B[0m, in \u001B[0;36mTerm.normalize_no_lim\u001B[1;34m(self, strategy)\u001B[0m\n\u001B[0;32m    173\u001B[0m count \u001B[38;5;241m=\u001B[39m \u001B[38;5;241m0\u001B[39m\n\u001B[0;32m    174\u001B[0m \u001B[38;5;28;01mwhile\u001B[39;00m term\u001B[38;5;241m.\u001B[39mredexes \u001B[38;5;241m!=\u001B[39m []:\n\u001B[1;32m--> 175\u001B[0m     term \u001B[38;5;241m=\u001B[39m \u001B[43mterm\u001B[49m\u001B[38;5;241;43m.\u001B[39;49m\u001B[43m_betaConversion\u001B[49m\u001B[43m(\u001B[49m\u001B[43mstrategy\u001B[49m\u001B[43m)\u001B[49m\n\u001B[0;32m    176\u001B[0m     count \u001B[38;5;241m+\u001B[39m\u001B[38;5;241m=\u001B[39m \u001B[38;5;241m1\u001B[39m\n\u001B[0;32m    177\u001B[0m \u001B[38;5;28;01mreturn\u001B[39;00m term, count\n",
      "File \u001B[1;32mD:\\documents\\python_projects\\pure-calculus\\src\\tests_6\\..\\calculus\\term.py:206\u001B[0m, in \u001B[0;36mTerm._betaConversion\u001B[1;34m(self, strategy)\u001B[0m\n\u001B[0;32m    201\u001B[0m \u001B[38;5;28;01mdef\u001B[39;00m \u001B[38;5;21m_betaConversion\u001B[39m(\u001B[38;5;28mself\u001B[39m, strategy):\n\u001B[0;32m    202\u001B[0m \u001B[38;5;250m    \u001B[39m\u001B[38;5;124;03m\"\"\"\u001B[39;00m\n\u001B[0;32m    203\u001B[0m \u001B[38;5;124;03m    :param strategy: OneStepStrategy\u001B[39;00m\n\u001B[0;32m    204\u001B[0m \u001B[38;5;124;03m    :return term with redex eliminated using the given strategy\u001B[39;00m\n\u001B[0;32m    205\u001B[0m \u001B[38;5;124;03m    \"\"\"\u001B[39;00m\n\u001B[1;32m--> 206\u001B[0m     index \u001B[38;5;241m=\u001B[39m \u001B[43mstrategy\u001B[49m\u001B[38;5;241;43m.\u001B[39;49m\u001B[43mredexIndex\u001B[49m\u001B[43m(\u001B[49m\u001B[38;5;28;43mself\u001B[39;49m\u001B[43m)\u001B[49m\n\u001B[0;32m    207\u001B[0m     subterm \u001B[38;5;241m=\u001B[39m \u001B[38;5;28mself\u001B[39m\u001B[38;5;241m.\u001B[39msubterm(index)\n\u001B[0;32m    208\u001B[0m     reducedTerm \u001B[38;5;241m=\u001B[39m subterm\u001B[38;5;241m.\u001B[39m_removeOuterRedex()\n",
      "File \u001B[1;32mD:\\documents\\python_projects\\pure-calculus\\src\\tests_6\\..\\calculus\\strategy.py:28\u001B[0m, in \u001B[0;36mLeftmostOutermostStrategy.redexIndex\u001B[1;34m(self, term, initIndex)\u001B[0m\n\u001B[0;32m     26\u001B[0m         \u001B[38;5;28;01mreturn\u001B[39;00m \u001B[38;5;28mself\u001B[39m\u001B[38;5;241m.\u001B[39mredexIndex(term\u001B[38;5;241m.\u001B[39m_sub, initIndex \u001B[38;5;241m+\u001B[39m \u001B[38;5;241m1\u001B[39m)\n\u001B[0;32m     27\u001B[0m     \u001B[38;5;28;01melse\u001B[39;00m:\n\u001B[1;32m---> 28\u001B[0m         \u001B[38;5;28;01mreturn\u001B[39;00m \u001B[38;5;28;43mself\u001B[39;49m\u001B[38;5;241;43m.\u001B[39;49m\u001B[43mredexIndex\u001B[49m\u001B[43m(\u001B[49m\n\u001B[0;32m     29\u001B[0m \u001B[43m            \u001B[49m\u001B[43mterm\u001B[49m\u001B[38;5;241;43m.\u001B[39;49m\u001B[43m_obj\u001B[49m\u001B[43m,\u001B[49m\u001B[43m \u001B[49m\u001B[43minitIndex\u001B[49m\u001B[43m \u001B[49m\u001B[38;5;241;43m+\u001B[39;49m\u001B[43m \u001B[49m\u001B[43mterm\u001B[49m\u001B[38;5;241;43m.\u001B[39;49m\u001B[43m_sub\u001B[49m\u001B[38;5;241;43m.\u001B[39;49m\u001B[43mverticesNumber\u001B[49m\u001B[43m \u001B[49m\u001B[38;5;241;43m+\u001B[39;49m\u001B[43m \u001B[49m\u001B[38;5;241;43m1\u001B[39;49m\n\u001B[0;32m     30\u001B[0m \u001B[43m        \u001B[49m\u001B[43m)\u001B[49m\n\u001B[0;32m     31\u001B[0m \u001B[38;5;28;01melse\u001B[39;00m:  \u001B[38;5;66;03m# self is Abstraction\u001B[39;00m\n\u001B[0;32m     32\u001B[0m     \u001B[38;5;28;01mreturn\u001B[39;00m \u001B[38;5;28mself\u001B[39m\u001B[38;5;241m.\u001B[39mredexIndex(term\u001B[38;5;241m.\u001B[39m_body, initIndex \u001B[38;5;241m+\u001B[39m \u001B[38;5;241m1\u001B[39m)\n",
      "File \u001B[1;32mD:\\documents\\python_projects\\pure-calculus\\src\\tests_6\\..\\calculus\\strategy.py:26\u001B[0m, in \u001B[0;36mLeftmostOutermostStrategy.redexIndex\u001B[1;34m(self, term, initIndex)\u001B[0m\n\u001B[0;32m     24\u001B[0m     \u001B[38;5;28;01mreturn\u001B[39;00m initIndex \u001B[38;5;241m+\u001B[39m \u001B[38;5;241m1\u001B[39m\n\u001B[0;32m     25\u001B[0m \u001B[38;5;28;01melif\u001B[39;00m \u001B[38;5;28mlen\u001B[39m(term\u001B[38;5;241m.\u001B[39m_sub\u001B[38;5;241m.\u001B[39mredexes) \u001B[38;5;241m!=\u001B[39m \u001B[38;5;241m0\u001B[39m:\n\u001B[1;32m---> 26\u001B[0m     \u001B[38;5;28;01mreturn\u001B[39;00m \u001B[38;5;28;43mself\u001B[39;49m\u001B[38;5;241;43m.\u001B[39;49m\u001B[43mredexIndex\u001B[49m\u001B[43m(\u001B[49m\u001B[43mterm\u001B[49m\u001B[38;5;241;43m.\u001B[39;49m\u001B[43m_sub\u001B[49m\u001B[43m,\u001B[49m\u001B[43m \u001B[49m\u001B[43minitIndex\u001B[49m\u001B[43m \u001B[49m\u001B[38;5;241;43m+\u001B[39;49m\u001B[43m \u001B[49m\u001B[38;5;241;43m1\u001B[39;49m\u001B[43m)\u001B[49m\n\u001B[0;32m     27\u001B[0m \u001B[38;5;28;01melse\u001B[39;00m:\n\u001B[0;32m     28\u001B[0m     \u001B[38;5;28;01mreturn\u001B[39;00m \u001B[38;5;28mself\u001B[39m\u001B[38;5;241m.\u001B[39mredexIndex(\n\u001B[0;32m     29\u001B[0m         term\u001B[38;5;241m.\u001B[39m_obj, initIndex \u001B[38;5;241m+\u001B[39m term\u001B[38;5;241m.\u001B[39m_sub\u001B[38;5;241m.\u001B[39mverticesNumber \u001B[38;5;241m+\u001B[39m \u001B[38;5;241m1\u001B[39m\n\u001B[0;32m     30\u001B[0m     )\n",
      "File \u001B[1;32mD:\\documents\\python_projects\\pure-calculus\\src\\tests_6\\..\\calculus\\strategy.py:26\u001B[0m, in \u001B[0;36mLeftmostOutermostStrategy.redexIndex\u001B[1;34m(self, term, initIndex)\u001B[0m\n\u001B[0;32m     24\u001B[0m     \u001B[38;5;28;01mreturn\u001B[39;00m initIndex \u001B[38;5;241m+\u001B[39m \u001B[38;5;241m1\u001B[39m\n\u001B[0;32m     25\u001B[0m \u001B[38;5;28;01melif\u001B[39;00m \u001B[38;5;28mlen\u001B[39m(term\u001B[38;5;241m.\u001B[39m_sub\u001B[38;5;241m.\u001B[39mredexes) \u001B[38;5;241m!=\u001B[39m \u001B[38;5;241m0\u001B[39m:\n\u001B[1;32m---> 26\u001B[0m     \u001B[38;5;28;01mreturn\u001B[39;00m \u001B[38;5;28;43mself\u001B[39;49m\u001B[38;5;241;43m.\u001B[39;49m\u001B[43mredexIndex\u001B[49m\u001B[43m(\u001B[49m\u001B[43mterm\u001B[49m\u001B[38;5;241;43m.\u001B[39;49m\u001B[43m_sub\u001B[49m\u001B[43m,\u001B[49m\u001B[43m \u001B[49m\u001B[43minitIndex\u001B[49m\u001B[43m \u001B[49m\u001B[38;5;241;43m+\u001B[39;49m\u001B[43m \u001B[49m\u001B[38;5;241;43m1\u001B[39;49m\u001B[43m)\u001B[49m\n\u001B[0;32m     27\u001B[0m \u001B[38;5;28;01melse\u001B[39;00m:\n\u001B[0;32m     28\u001B[0m     \u001B[38;5;28;01mreturn\u001B[39;00m \u001B[38;5;28mself\u001B[39m\u001B[38;5;241m.\u001B[39mredexIndex(\n\u001B[0;32m     29\u001B[0m         term\u001B[38;5;241m.\u001B[39m_obj, initIndex \u001B[38;5;241m+\u001B[39m term\u001B[38;5;241m.\u001B[39m_sub\u001B[38;5;241m.\u001B[39mverticesNumber \u001B[38;5;241m+\u001B[39m \u001B[38;5;241m1\u001B[39m\n\u001B[0;32m     30\u001B[0m     )\n",
      "File \u001B[1;32mD:\\documents\\python_projects\\pure-calculus\\src\\tests_6\\..\\calculus\\strategy.py:28\u001B[0m, in \u001B[0;36mLeftmostOutermostStrategy.redexIndex\u001B[1;34m(self, term, initIndex)\u001B[0m\n\u001B[0;32m     26\u001B[0m         \u001B[38;5;28;01mreturn\u001B[39;00m \u001B[38;5;28mself\u001B[39m\u001B[38;5;241m.\u001B[39mredexIndex(term\u001B[38;5;241m.\u001B[39m_sub, initIndex \u001B[38;5;241m+\u001B[39m \u001B[38;5;241m1\u001B[39m)\n\u001B[0;32m     27\u001B[0m     \u001B[38;5;28;01melse\u001B[39;00m:\n\u001B[1;32m---> 28\u001B[0m         \u001B[38;5;28;01mreturn\u001B[39;00m \u001B[38;5;28;43mself\u001B[39;49m\u001B[38;5;241;43m.\u001B[39;49m\u001B[43mredexIndex\u001B[49m\u001B[43m(\u001B[49m\n\u001B[0;32m     29\u001B[0m \u001B[43m            \u001B[49m\u001B[43mterm\u001B[49m\u001B[38;5;241;43m.\u001B[39;49m\u001B[43m_obj\u001B[49m\u001B[43m,\u001B[49m\u001B[43m \u001B[49m\u001B[43minitIndex\u001B[49m\u001B[43m \u001B[49m\u001B[38;5;241;43m+\u001B[39;49m\u001B[43m \u001B[49m\u001B[43mterm\u001B[49m\u001B[38;5;241;43m.\u001B[39;49m\u001B[43m_sub\u001B[49m\u001B[38;5;241;43m.\u001B[39;49m\u001B[43mverticesNumber\u001B[49m\u001B[43m \u001B[49m\u001B[38;5;241;43m+\u001B[39;49m\u001B[43m \u001B[49m\u001B[38;5;241;43m1\u001B[39;49m\n\u001B[0;32m     30\u001B[0m \u001B[43m        \u001B[49m\u001B[43m)\u001B[49m\n\u001B[0;32m     31\u001B[0m \u001B[38;5;28;01melse\u001B[39;00m:  \u001B[38;5;66;03m# self is Abstraction\u001B[39;00m\n\u001B[0;32m     32\u001B[0m     \u001B[38;5;28;01mreturn\u001B[39;00m \u001B[38;5;28mself\u001B[39m\u001B[38;5;241m.\u001B[39mredexIndex(term\u001B[38;5;241m.\u001B[39m_body, initIndex \u001B[38;5;241m+\u001B[39m \u001B[38;5;241m1\u001B[39m)\n",
      "File \u001B[1;32mD:\\documents\\python_projects\\pure-calculus\\src\\tests_6\\..\\calculus\\strategy.py:32\u001B[0m, in \u001B[0;36mLeftmostOutermostStrategy.redexIndex\u001B[1;34m(self, term, initIndex)\u001B[0m\n\u001B[0;32m     28\u001B[0m         \u001B[38;5;28;01mreturn\u001B[39;00m \u001B[38;5;28mself\u001B[39m\u001B[38;5;241m.\u001B[39mredexIndex(\n\u001B[0;32m     29\u001B[0m             term\u001B[38;5;241m.\u001B[39m_obj, initIndex \u001B[38;5;241m+\u001B[39m term\u001B[38;5;241m.\u001B[39m_sub\u001B[38;5;241m.\u001B[39mverticesNumber \u001B[38;5;241m+\u001B[39m \u001B[38;5;241m1\u001B[39m\n\u001B[0;32m     30\u001B[0m         )\n\u001B[0;32m     31\u001B[0m \u001B[38;5;28;01melse\u001B[39;00m:  \u001B[38;5;66;03m# self is Abstraction\u001B[39;00m\n\u001B[1;32m---> 32\u001B[0m     \u001B[38;5;28;01mreturn\u001B[39;00m \u001B[38;5;28;43mself\u001B[39;49m\u001B[38;5;241;43m.\u001B[39;49m\u001B[43mredexIndex\u001B[49m\u001B[43m(\u001B[49m\u001B[43mterm\u001B[49m\u001B[38;5;241;43m.\u001B[39;49m\u001B[43m_body\u001B[49m\u001B[43m,\u001B[49m\u001B[43m \u001B[49m\u001B[43minitIndex\u001B[49m\u001B[43m \u001B[49m\u001B[38;5;241;43m+\u001B[39;49m\u001B[43m \u001B[49m\u001B[38;5;241;43m1\u001B[39;49m\u001B[43m)\u001B[49m\n",
      "File \u001B[1;32mD:\\documents\\python_projects\\pure-calculus\\src\\tests_6\\..\\calculus\\strategy.py:32\u001B[0m, in \u001B[0;36mLeftmostOutermostStrategy.redexIndex\u001B[1;34m(self, term, initIndex)\u001B[0m\n\u001B[0;32m     28\u001B[0m         \u001B[38;5;28;01mreturn\u001B[39;00m \u001B[38;5;28mself\u001B[39m\u001B[38;5;241m.\u001B[39mredexIndex(\n\u001B[0;32m     29\u001B[0m             term\u001B[38;5;241m.\u001B[39m_obj, initIndex \u001B[38;5;241m+\u001B[39m term\u001B[38;5;241m.\u001B[39m_sub\u001B[38;5;241m.\u001B[39mverticesNumber \u001B[38;5;241m+\u001B[39m \u001B[38;5;241m1\u001B[39m\n\u001B[0;32m     30\u001B[0m         )\n\u001B[0;32m     31\u001B[0m \u001B[38;5;28;01melse\u001B[39;00m:  \u001B[38;5;66;03m# self is Abstraction\u001B[39;00m\n\u001B[1;32m---> 32\u001B[0m     \u001B[38;5;28;01mreturn\u001B[39;00m \u001B[38;5;28;43mself\u001B[39;49m\u001B[38;5;241;43m.\u001B[39;49m\u001B[43mredexIndex\u001B[49m\u001B[43m(\u001B[49m\u001B[43mterm\u001B[49m\u001B[38;5;241;43m.\u001B[39;49m\u001B[43m_body\u001B[49m\u001B[43m,\u001B[49m\u001B[43m \u001B[49m\u001B[43minitIndex\u001B[49m\u001B[43m \u001B[49m\u001B[38;5;241;43m+\u001B[39;49m\u001B[43m \u001B[49m\u001B[38;5;241;43m1\u001B[39;49m\u001B[43m)\u001B[49m\n",
      "File \u001B[1;32mD:\\documents\\python_projects\\pure-calculus\\src\\tests_6\\..\\calculus\\strategy.py:20\u001B[0m, in \u001B[0;36mLeftmostOutermostStrategy.redexIndex\u001B[1;34m(self, term, initIndex)\u001B[0m\n\u001B[0;32m     19\u001B[0m \u001B[38;5;28;01mdef\u001B[39;00m \u001B[38;5;21mredexIndex\u001B[39m(\u001B[38;5;28mself\u001B[39m, term: Term, initIndex\u001B[38;5;241m=\u001B[39m\u001B[38;5;241m0\u001B[39m) \u001B[38;5;241m-\u001B[39m\u001B[38;5;241m>\u001B[39m \u001B[38;5;28mint\u001B[39m:\n\u001B[1;32m---> 20\u001B[0m     \u001B[38;5;28;01mif\u001B[39;00m term\u001B[38;5;241m.\u001B[39misAtom \u001B[38;5;129;01mor\u001B[39;00m \u001B[38;5;28mlen\u001B[39m(\u001B[43mterm\u001B[49m\u001B[38;5;241;43m.\u001B[39;49m\u001B[43mredexes\u001B[49m) \u001B[38;5;241m==\u001B[39m \u001B[38;5;241m0\u001B[39m:\n\u001B[0;32m     21\u001B[0m         \u001B[38;5;167;01mValueError\u001B[39;00m(\u001B[38;5;124m\"\u001B[39m\u001B[38;5;124mthe term does not contain a redex\u001B[39m\u001B[38;5;124m\"\u001B[39m)\n\u001B[0;32m     22\u001B[0m     \u001B[38;5;28;01melif\u001B[39;00m term\u001B[38;5;241m.\u001B[39misApplication:\n",
      "File \u001B[1;32mD:\\documents\\python_projects\\pure-calculus\\src\\tests_6\\..\\calculus\\term.py:108\u001B[0m, in \u001B[0;36mTerm.redexes\u001B[1;34m(self)\u001B[0m\n\u001B[0;32m    106\u001B[0m \u001B[38;5;66;03m# self is Application\u001B[39;00m\n\u001B[0;32m    107\u001B[0m temp \u001B[38;5;241m=\u001B[39m [\u001B[38;5;28mself\u001B[39m] \u001B[38;5;28;01mif\u001B[39;00m \u001B[38;5;28mself\u001B[39m\u001B[38;5;241m.\u001B[39misBetaRedex \u001B[38;5;28;01melse\u001B[39;00m []\n\u001B[1;32m--> 108\u001B[0m temp \u001B[38;5;241m+\u001B[39m\u001B[38;5;241m=\u001B[39m \u001B[38;5;28mself\u001B[39m\u001B[38;5;241m.\u001B[39m_sub\u001B[38;5;241m.\u001B[39mredexes \u001B[38;5;241m+\u001B[39m \u001B[38;5;28;43mself\u001B[39;49m\u001B[38;5;241;43m.\u001B[39;49m\u001B[43m_obj\u001B[49m\u001B[38;5;241;43m.\u001B[39;49m\u001B[43mredexes\u001B[49m\n\u001B[0;32m    109\u001B[0m \u001B[38;5;28;01mreturn\u001B[39;00m temp\n",
      "File \u001B[1;32mD:\\documents\\python_projects\\pure-calculus\\src\\tests_6\\..\\calculus\\term.py:108\u001B[0m, in \u001B[0;36mTerm.redexes\u001B[1;34m(self)\u001B[0m\n\u001B[0;32m    106\u001B[0m \u001B[38;5;66;03m# self is Application\u001B[39;00m\n\u001B[0;32m    107\u001B[0m temp \u001B[38;5;241m=\u001B[39m [\u001B[38;5;28mself\u001B[39m] \u001B[38;5;28;01mif\u001B[39;00m \u001B[38;5;28mself\u001B[39m\u001B[38;5;241m.\u001B[39misBetaRedex \u001B[38;5;28;01melse\u001B[39;00m []\n\u001B[1;32m--> 108\u001B[0m temp \u001B[38;5;241m+\u001B[39m\u001B[38;5;241m=\u001B[39m \u001B[38;5;28;43mself\u001B[39;49m\u001B[38;5;241;43m.\u001B[39;49m\u001B[43m_sub\u001B[49m\u001B[38;5;241;43m.\u001B[39;49m\u001B[43mredexes\u001B[49m \u001B[38;5;241m+\u001B[39m \u001B[38;5;28mself\u001B[39m\u001B[38;5;241m.\u001B[39m_obj\u001B[38;5;241m.\u001B[39mredexes\n\u001B[0;32m    109\u001B[0m \u001B[38;5;28;01mreturn\u001B[39;00m temp\n",
      "    \u001B[1;31m[... skipping similar frames: Term.redexes at line 108 (2 times)]\u001B[0m\n",
      "File \u001B[1;32mD:\\documents\\python_projects\\pure-calculus\\src\\tests_6\\..\\calculus\\term.py:105\u001B[0m, in \u001B[0;36mTerm.redexes\u001B[1;34m(self)\u001B[0m\n\u001B[0;32m    103\u001B[0m     \u001B[38;5;28;01mreturn\u001B[39;00m []\n\u001B[0;32m    104\u001B[0m \u001B[38;5;28;01mif\u001B[39;00m \u001B[38;5;28mself\u001B[39m\u001B[38;5;241m.\u001B[39misAbstraction:\n\u001B[1;32m--> 105\u001B[0m     \u001B[38;5;28;01mreturn\u001B[39;00m \u001B[38;5;28;43mself\u001B[39;49m\u001B[38;5;241;43m.\u001B[39;49m\u001B[43m_body\u001B[49m\u001B[38;5;241;43m.\u001B[39;49m\u001B[43mredexes\u001B[49m\n\u001B[0;32m    106\u001B[0m \u001B[38;5;66;03m# self is Application\u001B[39;00m\n\u001B[0;32m    107\u001B[0m temp \u001B[38;5;241m=\u001B[39m [\u001B[38;5;28mself\u001B[39m] \u001B[38;5;28;01mif\u001B[39;00m \u001B[38;5;28mself\u001B[39m\u001B[38;5;241m.\u001B[39misBetaRedex \u001B[38;5;28;01melse\u001B[39;00m []\n",
      "File \u001B[1;32mD:\\documents\\python_projects\\pure-calculus\\src\\tests_6\\..\\calculus\\term.py:105\u001B[0m, in \u001B[0;36mTerm.redexes\u001B[1;34m(self)\u001B[0m\n\u001B[0;32m    103\u001B[0m     \u001B[38;5;28;01mreturn\u001B[39;00m []\n\u001B[0;32m    104\u001B[0m \u001B[38;5;28;01mif\u001B[39;00m \u001B[38;5;28mself\u001B[39m\u001B[38;5;241m.\u001B[39misAbstraction:\n\u001B[1;32m--> 105\u001B[0m     \u001B[38;5;28;01mreturn\u001B[39;00m \u001B[38;5;28;43mself\u001B[39;49m\u001B[38;5;241;43m.\u001B[39;49m\u001B[43m_body\u001B[49m\u001B[38;5;241;43m.\u001B[39;49m\u001B[43mredexes\u001B[49m\n\u001B[0;32m    106\u001B[0m \u001B[38;5;66;03m# self is Application\u001B[39;00m\n\u001B[0;32m    107\u001B[0m temp \u001B[38;5;241m=\u001B[39m [\u001B[38;5;28mself\u001B[39m] \u001B[38;5;28;01mif\u001B[39;00m \u001B[38;5;28mself\u001B[39m\u001B[38;5;241m.\u001B[39misBetaRedex \u001B[38;5;28;01melse\u001B[39;00m []\n",
      "    \u001B[1;31m[... skipping similar frames: Term.redexes at line 108 (63 times), Term.redexes at line 105 (45 times)]\u001B[0m\n",
      "File \u001B[1;32mD:\\documents\\python_projects\\pure-calculus\\src\\tests_6\\..\\calculus\\term.py:105\u001B[0m, in \u001B[0;36mTerm.redexes\u001B[1;34m(self)\u001B[0m\n\u001B[0;32m    103\u001B[0m     \u001B[38;5;28;01mreturn\u001B[39;00m []\n\u001B[0;32m    104\u001B[0m \u001B[38;5;28;01mif\u001B[39;00m \u001B[38;5;28mself\u001B[39m\u001B[38;5;241m.\u001B[39misAbstraction:\n\u001B[1;32m--> 105\u001B[0m     \u001B[38;5;28;01mreturn\u001B[39;00m \u001B[38;5;28;43mself\u001B[39;49m\u001B[38;5;241;43m.\u001B[39;49m\u001B[43m_body\u001B[49m\u001B[38;5;241;43m.\u001B[39;49m\u001B[43mredexes\u001B[49m\n\u001B[0;32m    106\u001B[0m \u001B[38;5;66;03m# self is Application\u001B[39;00m\n\u001B[0;32m    107\u001B[0m temp \u001B[38;5;241m=\u001B[39m [\u001B[38;5;28mself\u001B[39m] \u001B[38;5;28;01mif\u001B[39;00m \u001B[38;5;28mself\u001B[39m\u001B[38;5;241m.\u001B[39misBetaRedex \u001B[38;5;28;01melse\u001B[39;00m []\n",
      "File \u001B[1;32mD:\\documents\\python_projects\\pure-calculus\\src\\tests_6\\..\\calculus\\term.py:108\u001B[0m, in \u001B[0;36mTerm.redexes\u001B[1;34m(self)\u001B[0m\n\u001B[0;32m    106\u001B[0m \u001B[38;5;66;03m# self is Application\u001B[39;00m\n\u001B[0;32m    107\u001B[0m temp \u001B[38;5;241m=\u001B[39m [\u001B[38;5;28mself\u001B[39m] \u001B[38;5;28;01mif\u001B[39;00m \u001B[38;5;28mself\u001B[39m\u001B[38;5;241m.\u001B[39misBetaRedex \u001B[38;5;28;01melse\u001B[39;00m []\n\u001B[1;32m--> 108\u001B[0m temp \u001B[38;5;241m+\u001B[39m\u001B[38;5;241m=\u001B[39m \u001B[38;5;28mself\u001B[39m\u001B[38;5;241m.\u001B[39m_sub\u001B[38;5;241m.\u001B[39mredexes \u001B[38;5;241m+\u001B[39m \u001B[38;5;28;43mself\u001B[39;49m\u001B[38;5;241;43m.\u001B[39;49m\u001B[43m_obj\u001B[49m\u001B[38;5;241;43m.\u001B[39;49m\u001B[43mredexes\u001B[49m\n\u001B[0;32m    109\u001B[0m \u001B[38;5;28;01mreturn\u001B[39;00m temp\n",
      "File \u001B[1;32mD:\\documents\\python_projects\\pure-calculus\\src\\tests_6\\..\\calculus\\term.py:102\u001B[0m, in \u001B[0;36mTerm.redexes\u001B[1;34m(self)\u001B[0m\n\u001B[0;32m     99\u001B[0m \u001B[38;5;129m@property\u001B[39m\n\u001B[0;32m    100\u001B[0m \u001B[38;5;28;01mdef\u001B[39;00m \u001B[38;5;21mredexes\u001B[39m(\u001B[38;5;28mself\u001B[39m):\n\u001B[0;32m    101\u001B[0m \u001B[38;5;250m    \u001B[39m\u001B[38;5;124;03m\"\"\"determiness all beta-redexes in the term\"\"\"\u001B[39;00m\n\u001B[1;32m--> 102\u001B[0m     \u001B[38;5;28;01mif\u001B[39;00m \u001B[38;5;28;43mself\u001B[39;49m\u001B[38;5;241;43m.\u001B[39;49m\u001B[43misAtom\u001B[49m:\n\u001B[0;32m    103\u001B[0m         \u001B[38;5;28;01mreturn\u001B[39;00m []\n\u001B[0;32m    104\u001B[0m     \u001B[38;5;28;01mif\u001B[39;00m \u001B[38;5;28mself\u001B[39m\u001B[38;5;241m.\u001B[39misAbstraction:\n",
      "File \u001B[1;32mD:\\documents\\python_projects\\pure-calculus\\src\\tests_6\\..\\calculus\\term.py:28\u001B[0m, in \u001B[0;36mTerm.isAtom\u001B[1;34m(self)\u001B[0m\n\u001B[0;32m     27\u001B[0m \u001B[38;5;28;01mclass\u001B[39;00m \u001B[38;5;21;01mTerm\u001B[39;00m:\n\u001B[1;32m---> 28\u001B[0m     \u001B[38;5;129m@property\u001B[39m\n\u001B[0;32m     29\u001B[0m     \u001B[38;5;28;01mdef\u001B[39;00m \u001B[38;5;21misAtom\u001B[39m(\u001B[38;5;28mself\u001B[39m):\n\u001B[0;32m     30\u001B[0m \u001B[38;5;250m        \u001B[39m\u001B[38;5;124;03m\"\"\"checks whether the term is an atom\"\"\"\u001B[39;00m\n\u001B[0;32m     31\u001B[0m         \u001B[38;5;28;01mreturn\u001B[39;00m \u001B[38;5;28misinstance\u001B[39m(\u001B[38;5;28mself\u001B[39m, Atom)\n",
      "\u001B[1;31mKeyboardInterrupt\u001B[0m: "
     ]
    }
   ],
   "source": [
    "test_gcd_v3(1, 0, LeftmostOutermostStrategy())"
   ],
   "metadata": {
    "collapsed": false
   }
  },
  {
   "cell_type": "code",
   "execution_count": 11,
   "outputs": [
    {
     "ename": "KeyboardInterrupt",
     "evalue": "",
     "output_type": "error",
     "traceback": [
      "\u001B[1;31m---------------------------------------------------------------------------\u001B[0m",
      "\u001B[1;31mKeyboardInterrupt\u001B[0m                         Traceback (most recent call last)",
      "Cell \u001B[1;32mIn[11], line 1\u001B[0m\n\u001B[1;32m----> 1\u001B[0m \u001B[43mtest_gcd_v3\u001B[49m\u001B[43m(\u001B[49m\u001B[38;5;241;43m1\u001B[39;49m\u001B[43m,\u001B[49m\u001B[43m \u001B[49m\u001B[38;5;241;43m0\u001B[39;49m\u001B[43m,\u001B[49m\u001B[43m \u001B[49m\u001B[43mLeftmostOutermostStrategy\u001B[49m\u001B[43m(\u001B[49m\u001B[43m)\u001B[49m\u001B[43m)\u001B[49m\n",
      "Cell \u001B[1;32mIn[8], line 4\u001B[0m, in \u001B[0;36mtest_gcd_v3\u001B[1;34m(var_0, var_1, strategy)\u001B[0m\n\u001B[0;32m      2\u001B[0m start_time \u001B[38;5;241m=\u001B[39m time\u001B[38;5;241m.\u001B[39mtime()\n\u001B[0;32m      3\u001B[0m term_ \u001B[38;5;241m=\u001B[39m multi_app_term(gcd_term_v3(), n_term(var_0), n_term(var_1))\n\u001B[1;32m----> 4\u001B[0m res_term, steps \u001B[38;5;241m=\u001B[39m \u001B[43mterm_\u001B[49m\u001B[38;5;241;43m.\u001B[39;49m\u001B[43mnormalize_no_lim\u001B[49m\u001B[43m(\u001B[49m\u001B[43mstrategy\u001B[49m\u001B[43m)\u001B[49m\n\u001B[0;32m      6\u001B[0m \u001B[38;5;28mprint\u001B[39m(\u001B[38;5;124mf\u001B[39m\u001B[38;5;124m\"\u001B[39m\u001B[38;5;124mNorm steps: \u001B[39m\u001B[38;5;132;01m{\u001B[39;00msteps\u001B[38;5;132;01m}\u001B[39;00m\u001B[38;5;124m\"\u001B[39m)\n\u001B[0;32m      7\u001B[0m \u001B[38;5;28mprint\u001B[39m(res_term)\n",
      "File \u001B[1;32mD:\\documents\\python_projects\\pure-calculus\\src\\tests_6\\..\\calculus\\term.py:175\u001B[0m, in \u001B[0;36mTerm.normalize_no_lim\u001B[1;34m(self, strategy)\u001B[0m\n\u001B[0;32m    173\u001B[0m count \u001B[38;5;241m=\u001B[39m \u001B[38;5;241m0\u001B[39m\n\u001B[0;32m    174\u001B[0m \u001B[38;5;28;01mwhile\u001B[39;00m term\u001B[38;5;241m.\u001B[39mredexes \u001B[38;5;241m!=\u001B[39m []:\n\u001B[1;32m--> 175\u001B[0m     term \u001B[38;5;241m=\u001B[39m \u001B[43mterm\u001B[49m\u001B[38;5;241;43m.\u001B[39;49m\u001B[43m_betaConversion\u001B[49m\u001B[43m(\u001B[49m\u001B[43mstrategy\u001B[49m\u001B[43m)\u001B[49m\n\u001B[0;32m    176\u001B[0m     count \u001B[38;5;241m+\u001B[39m\u001B[38;5;241m=\u001B[39m \u001B[38;5;241m1\u001B[39m\n\u001B[0;32m    177\u001B[0m \u001B[38;5;28;01mreturn\u001B[39;00m term, count\n",
      "File \u001B[1;32mD:\\documents\\python_projects\\pure-calculus\\src\\tests_6\\..\\calculus\\term.py:206\u001B[0m, in \u001B[0;36mTerm._betaConversion\u001B[1;34m(self, strategy)\u001B[0m\n\u001B[0;32m    201\u001B[0m \u001B[38;5;28;01mdef\u001B[39;00m \u001B[38;5;21m_betaConversion\u001B[39m(\u001B[38;5;28mself\u001B[39m, strategy):\n\u001B[0;32m    202\u001B[0m \u001B[38;5;250m    \u001B[39m\u001B[38;5;124;03m\"\"\"\u001B[39;00m\n\u001B[0;32m    203\u001B[0m \u001B[38;5;124;03m    :param strategy: OneStepStrategy\u001B[39;00m\n\u001B[0;32m    204\u001B[0m \u001B[38;5;124;03m    :return term with redex eliminated using the given strategy\u001B[39;00m\n\u001B[0;32m    205\u001B[0m \u001B[38;5;124;03m    \"\"\"\u001B[39;00m\n\u001B[1;32m--> 206\u001B[0m     index \u001B[38;5;241m=\u001B[39m \u001B[43mstrategy\u001B[49m\u001B[38;5;241;43m.\u001B[39;49m\u001B[43mredexIndex\u001B[49m\u001B[43m(\u001B[49m\u001B[38;5;28;43mself\u001B[39;49m\u001B[43m)\u001B[49m\n\u001B[0;32m    207\u001B[0m     subterm \u001B[38;5;241m=\u001B[39m \u001B[38;5;28mself\u001B[39m\u001B[38;5;241m.\u001B[39msubterm(index)\n\u001B[0;32m    208\u001B[0m     reducedTerm \u001B[38;5;241m=\u001B[39m subterm\u001B[38;5;241m.\u001B[39m_removeOuterRedex()\n",
      "File \u001B[1;32mD:\\documents\\python_projects\\pure-calculus\\src\\tests_6\\..\\calculus\\strategy.py:20\u001B[0m, in \u001B[0;36mLeftmostOutermostStrategy.redexIndex\u001B[1;34m(self, term, initIndex)\u001B[0m\n\u001B[0;32m     19\u001B[0m \u001B[38;5;28;01mdef\u001B[39;00m \u001B[38;5;21mredexIndex\u001B[39m(\u001B[38;5;28mself\u001B[39m, term: Term, initIndex\u001B[38;5;241m=\u001B[39m\u001B[38;5;241m0\u001B[39m) \u001B[38;5;241m-\u001B[39m\u001B[38;5;241m>\u001B[39m \u001B[38;5;28mint\u001B[39m:\n\u001B[1;32m---> 20\u001B[0m     \u001B[38;5;28;01mif\u001B[39;00m term\u001B[38;5;241m.\u001B[39misAtom \u001B[38;5;129;01mor\u001B[39;00m \u001B[38;5;28mlen\u001B[39m(\u001B[43mterm\u001B[49m\u001B[38;5;241;43m.\u001B[39;49m\u001B[43mredexes\u001B[49m) \u001B[38;5;241m==\u001B[39m \u001B[38;5;241m0\u001B[39m:\n\u001B[0;32m     21\u001B[0m         \u001B[38;5;167;01mValueError\u001B[39;00m(\u001B[38;5;124m\"\u001B[39m\u001B[38;5;124mthe term does not contain a redex\u001B[39m\u001B[38;5;124m\"\u001B[39m)\n\u001B[0;32m     22\u001B[0m     \u001B[38;5;28;01melif\u001B[39;00m term\u001B[38;5;241m.\u001B[39misApplication:\n",
      "File \u001B[1;32mD:\\documents\\python_projects\\pure-calculus\\src\\tests_6\\..\\calculus\\term.py:108\u001B[0m, in \u001B[0;36mTerm.redexes\u001B[1;34m(self)\u001B[0m\n\u001B[0;32m    106\u001B[0m \u001B[38;5;66;03m# self is Application\u001B[39;00m\n\u001B[0;32m    107\u001B[0m temp \u001B[38;5;241m=\u001B[39m [\u001B[38;5;28mself\u001B[39m] \u001B[38;5;28;01mif\u001B[39;00m \u001B[38;5;28mself\u001B[39m\u001B[38;5;241m.\u001B[39misBetaRedex \u001B[38;5;28;01melse\u001B[39;00m []\n\u001B[1;32m--> 108\u001B[0m temp \u001B[38;5;241m+\u001B[39m\u001B[38;5;241m=\u001B[39m \u001B[38;5;28mself\u001B[39m\u001B[38;5;241m.\u001B[39m_sub\u001B[38;5;241m.\u001B[39mredexes \u001B[38;5;241m+\u001B[39m \u001B[38;5;28;43mself\u001B[39;49m\u001B[38;5;241;43m.\u001B[39;49m\u001B[43m_obj\u001B[49m\u001B[38;5;241;43m.\u001B[39;49m\u001B[43mredexes\u001B[49m\n\u001B[0;32m    109\u001B[0m \u001B[38;5;28;01mreturn\u001B[39;00m temp\n",
      "File \u001B[1;32mD:\\documents\\python_projects\\pure-calculus\\src\\tests_6\\..\\calculus\\term.py:108\u001B[0m, in \u001B[0;36mTerm.redexes\u001B[1;34m(self)\u001B[0m\n\u001B[0;32m    106\u001B[0m \u001B[38;5;66;03m# self is Application\u001B[39;00m\n\u001B[0;32m    107\u001B[0m temp \u001B[38;5;241m=\u001B[39m [\u001B[38;5;28mself\u001B[39m] \u001B[38;5;28;01mif\u001B[39;00m \u001B[38;5;28mself\u001B[39m\u001B[38;5;241m.\u001B[39misBetaRedex \u001B[38;5;28;01melse\u001B[39;00m []\n\u001B[1;32m--> 108\u001B[0m temp \u001B[38;5;241m+\u001B[39m\u001B[38;5;241m=\u001B[39m \u001B[38;5;28;43mself\u001B[39;49m\u001B[38;5;241;43m.\u001B[39;49m\u001B[43m_sub\u001B[49m\u001B[38;5;241;43m.\u001B[39;49m\u001B[43mredexes\u001B[49m \u001B[38;5;241m+\u001B[39m \u001B[38;5;28mself\u001B[39m\u001B[38;5;241m.\u001B[39m_obj\u001B[38;5;241m.\u001B[39mredexes\n\u001B[0;32m    109\u001B[0m \u001B[38;5;28;01mreturn\u001B[39;00m temp\n",
      "    \u001B[1;31m[... skipping similar frames: Term.redexes at line 108 (2 times)]\u001B[0m\n",
      "File \u001B[1;32mD:\\documents\\python_projects\\pure-calculus\\src\\tests_6\\..\\calculus\\term.py:105\u001B[0m, in \u001B[0;36mTerm.redexes\u001B[1;34m(self)\u001B[0m\n\u001B[0;32m    103\u001B[0m     \u001B[38;5;28;01mreturn\u001B[39;00m []\n\u001B[0;32m    104\u001B[0m \u001B[38;5;28;01mif\u001B[39;00m \u001B[38;5;28mself\u001B[39m\u001B[38;5;241m.\u001B[39misAbstraction:\n\u001B[1;32m--> 105\u001B[0m     \u001B[38;5;28;01mreturn\u001B[39;00m \u001B[38;5;28;43mself\u001B[39;49m\u001B[38;5;241;43m.\u001B[39;49m\u001B[43m_body\u001B[49m\u001B[38;5;241;43m.\u001B[39;49m\u001B[43mredexes\u001B[49m\n\u001B[0;32m    106\u001B[0m \u001B[38;5;66;03m# self is Application\u001B[39;00m\n\u001B[0;32m    107\u001B[0m temp \u001B[38;5;241m=\u001B[39m [\u001B[38;5;28mself\u001B[39m] \u001B[38;5;28;01mif\u001B[39;00m \u001B[38;5;28mself\u001B[39m\u001B[38;5;241m.\u001B[39misBetaRedex \u001B[38;5;28;01melse\u001B[39;00m []\n",
      "File \u001B[1;32mD:\\documents\\python_projects\\pure-calculus\\src\\tests_6\\..\\calculus\\term.py:105\u001B[0m, in \u001B[0;36mTerm.redexes\u001B[1;34m(self)\u001B[0m\n\u001B[0;32m    103\u001B[0m     \u001B[38;5;28;01mreturn\u001B[39;00m []\n\u001B[0;32m    104\u001B[0m \u001B[38;5;28;01mif\u001B[39;00m \u001B[38;5;28mself\u001B[39m\u001B[38;5;241m.\u001B[39misAbstraction:\n\u001B[1;32m--> 105\u001B[0m     \u001B[38;5;28;01mreturn\u001B[39;00m \u001B[38;5;28;43mself\u001B[39;49m\u001B[38;5;241;43m.\u001B[39;49m\u001B[43m_body\u001B[49m\u001B[38;5;241;43m.\u001B[39;49m\u001B[43mredexes\u001B[49m\n\u001B[0;32m    106\u001B[0m \u001B[38;5;66;03m# self is Application\u001B[39;00m\n\u001B[0;32m    107\u001B[0m temp \u001B[38;5;241m=\u001B[39m [\u001B[38;5;28mself\u001B[39m] \u001B[38;5;28;01mif\u001B[39;00m \u001B[38;5;28mself\u001B[39m\u001B[38;5;241m.\u001B[39misBetaRedex \u001B[38;5;28;01melse\u001B[39;00m []\n",
      "    \u001B[1;31m[... skipping similar frames: Term.redexes at line 108 (74 times), Term.redexes at line 105 (55 times)]\u001B[0m\n",
      "File \u001B[1;32mD:\\documents\\python_projects\\pure-calculus\\src\\tests_6\\..\\calculus\\term.py:105\u001B[0m, in \u001B[0;36mTerm.redexes\u001B[1;34m(self)\u001B[0m\n\u001B[0;32m    103\u001B[0m     \u001B[38;5;28;01mreturn\u001B[39;00m []\n\u001B[0;32m    104\u001B[0m \u001B[38;5;28;01mif\u001B[39;00m \u001B[38;5;28mself\u001B[39m\u001B[38;5;241m.\u001B[39misAbstraction:\n\u001B[1;32m--> 105\u001B[0m     \u001B[38;5;28;01mreturn\u001B[39;00m \u001B[38;5;28;43mself\u001B[39;49m\u001B[38;5;241;43m.\u001B[39;49m\u001B[43m_body\u001B[49m\u001B[38;5;241;43m.\u001B[39;49m\u001B[43mredexes\u001B[49m\n\u001B[0;32m    106\u001B[0m \u001B[38;5;66;03m# self is Application\u001B[39;00m\n\u001B[0;32m    107\u001B[0m temp \u001B[38;5;241m=\u001B[39m [\u001B[38;5;28mself\u001B[39m] \u001B[38;5;28;01mif\u001B[39;00m \u001B[38;5;28mself\u001B[39m\u001B[38;5;241m.\u001B[39misBetaRedex \u001B[38;5;28;01melse\u001B[39;00m []\n",
      "    \u001B[1;31m[... skipping similar frames: Term.redexes at line 108 (8 times)]\u001B[0m\n",
      "File \u001B[1;32mD:\\documents\\python_projects\\pure-calculus\\src\\tests_6\\..\\calculus\\term.py:108\u001B[0m, in \u001B[0;36mTerm.redexes\u001B[1;34m(self)\u001B[0m\n\u001B[0;32m    106\u001B[0m \u001B[38;5;66;03m# self is Application\u001B[39;00m\n\u001B[0;32m    107\u001B[0m temp \u001B[38;5;241m=\u001B[39m [\u001B[38;5;28mself\u001B[39m] \u001B[38;5;28;01mif\u001B[39;00m \u001B[38;5;28mself\u001B[39m\u001B[38;5;241m.\u001B[39misBetaRedex \u001B[38;5;28;01melse\u001B[39;00m []\n\u001B[1;32m--> 108\u001B[0m temp \u001B[38;5;241m+\u001B[39m\u001B[38;5;241m=\u001B[39m \u001B[38;5;28mself\u001B[39m\u001B[38;5;241m.\u001B[39m_sub\u001B[38;5;241m.\u001B[39mredexes \u001B[38;5;241m+\u001B[39m \u001B[38;5;28;43mself\u001B[39;49m\u001B[38;5;241;43m.\u001B[39;49m\u001B[43m_obj\u001B[49m\u001B[38;5;241;43m.\u001B[39;49m\u001B[43mredexes\u001B[49m\n\u001B[0;32m    109\u001B[0m \u001B[38;5;28;01mreturn\u001B[39;00m temp\n",
      "File \u001B[1;32mD:\\documents\\python_projects\\pure-calculus\\src\\tests_6\\..\\calculus\\term.py:102\u001B[0m, in \u001B[0;36mTerm.redexes\u001B[1;34m(self)\u001B[0m\n\u001B[0;32m     99\u001B[0m \u001B[38;5;129m@property\u001B[39m\n\u001B[0;32m    100\u001B[0m \u001B[38;5;28;01mdef\u001B[39;00m \u001B[38;5;21mredexes\u001B[39m(\u001B[38;5;28mself\u001B[39m):\n\u001B[0;32m    101\u001B[0m \u001B[38;5;250m    \u001B[39m\u001B[38;5;124;03m\"\"\"determiness all beta-redexes in the term\"\"\"\u001B[39;00m\n\u001B[1;32m--> 102\u001B[0m     \u001B[38;5;28;01mif\u001B[39;00m \u001B[38;5;28;43mself\u001B[39;49m\u001B[38;5;241;43m.\u001B[39;49m\u001B[43misAtom\u001B[49m:\n\u001B[0;32m    103\u001B[0m         \u001B[38;5;28;01mreturn\u001B[39;00m []\n\u001B[0;32m    104\u001B[0m     \u001B[38;5;28;01mif\u001B[39;00m \u001B[38;5;28mself\u001B[39m\u001B[38;5;241m.\u001B[39misAbstraction:\n",
      "File \u001B[1;32mD:\\documents\\python_projects\\pure-calculus\\src\\tests_6\\..\\calculus\\term.py:28\u001B[0m, in \u001B[0;36mTerm.isAtom\u001B[1;34m(self)\u001B[0m\n\u001B[0;32m     27\u001B[0m \u001B[38;5;28;01mclass\u001B[39;00m \u001B[38;5;21;01mTerm\u001B[39;00m:\n\u001B[1;32m---> 28\u001B[0m     \u001B[38;5;129m@property\u001B[39m\n\u001B[0;32m     29\u001B[0m     \u001B[38;5;28;01mdef\u001B[39;00m \u001B[38;5;21misAtom\u001B[39m(\u001B[38;5;28mself\u001B[39m):\n\u001B[0;32m     30\u001B[0m \u001B[38;5;250m        \u001B[39m\u001B[38;5;124;03m\"\"\"checks whether the term is an atom\"\"\"\u001B[39;00m\n\u001B[0;32m     31\u001B[0m         \u001B[38;5;28;01mreturn\u001B[39;00m \u001B[38;5;28misinstance\u001B[39m(\u001B[38;5;28mself\u001B[39m, Atom)\n",
      "\u001B[1;31mKeyboardInterrupt\u001B[0m: "
     ]
    }
   ],
   "source": [
    "test_gcd_v3(1, 0, LeftmostOutermostStrategy())"
   ],
   "metadata": {
    "collapsed": false
   }
  },
  {
   "cell_type": "code",
   "execution_count": 12,
   "outputs": [
    {
     "ename": "KeyboardInterrupt",
     "evalue": "",
     "output_type": "error",
     "traceback": [
      "\u001B[1;31m---------------------------------------------------------------------------\u001B[0m",
      "\u001B[1;31mKeyboardInterrupt\u001B[0m                         Traceback (most recent call last)",
      "Cell \u001B[1;32mIn[12], line 1\u001B[0m\n\u001B[1;32m----> 1\u001B[0m \u001B[43mtest_gcd_v3\u001B[49m\u001B[43m(\u001B[49m\u001B[38;5;241;43m2\u001B[39;49m\u001B[43m,\u001B[49m\u001B[43m \u001B[49m\u001B[38;5;241;43m2\u001B[39;49m\u001B[43m,\u001B[49m\u001B[43m \u001B[49m\u001B[43mLeftmostOutermostStrategy\u001B[49m\u001B[43m(\u001B[49m\u001B[43m)\u001B[49m\u001B[43m)\u001B[49m\n",
      "Cell \u001B[1;32mIn[8], line 4\u001B[0m, in \u001B[0;36mtest_gcd_v3\u001B[1;34m(var_0, var_1, strategy)\u001B[0m\n\u001B[0;32m      2\u001B[0m start_time \u001B[38;5;241m=\u001B[39m time\u001B[38;5;241m.\u001B[39mtime()\n\u001B[0;32m      3\u001B[0m term_ \u001B[38;5;241m=\u001B[39m multi_app_term(gcd_term_v3(), n_term(var_0), n_term(var_1))\n\u001B[1;32m----> 4\u001B[0m res_term, steps \u001B[38;5;241m=\u001B[39m \u001B[43mterm_\u001B[49m\u001B[38;5;241;43m.\u001B[39;49m\u001B[43mnormalize_no_lim\u001B[49m\u001B[43m(\u001B[49m\u001B[43mstrategy\u001B[49m\u001B[43m)\u001B[49m\n\u001B[0;32m      6\u001B[0m \u001B[38;5;28mprint\u001B[39m(\u001B[38;5;124mf\u001B[39m\u001B[38;5;124m\"\u001B[39m\u001B[38;5;124mNorm steps: \u001B[39m\u001B[38;5;132;01m{\u001B[39;00msteps\u001B[38;5;132;01m}\u001B[39;00m\u001B[38;5;124m\"\u001B[39m)\n\u001B[0;32m      7\u001B[0m \u001B[38;5;28mprint\u001B[39m(res_term)\n",
      "File \u001B[1;32mD:\\documents\\python_projects\\pure-calculus\\src\\tests_6\\..\\calculus\\term.py:175\u001B[0m, in \u001B[0;36mTerm.normalize_no_lim\u001B[1;34m(self, strategy)\u001B[0m\n\u001B[0;32m    173\u001B[0m count \u001B[38;5;241m=\u001B[39m \u001B[38;5;241m0\u001B[39m\n\u001B[0;32m    174\u001B[0m \u001B[38;5;28;01mwhile\u001B[39;00m term\u001B[38;5;241m.\u001B[39mredexes \u001B[38;5;241m!=\u001B[39m []:\n\u001B[1;32m--> 175\u001B[0m     term \u001B[38;5;241m=\u001B[39m \u001B[43mterm\u001B[49m\u001B[38;5;241;43m.\u001B[39;49m\u001B[43m_betaConversion\u001B[49m\u001B[43m(\u001B[49m\u001B[43mstrategy\u001B[49m\u001B[43m)\u001B[49m\n\u001B[0;32m    176\u001B[0m     count \u001B[38;5;241m+\u001B[39m\u001B[38;5;241m=\u001B[39m \u001B[38;5;241m1\u001B[39m\n\u001B[0;32m    177\u001B[0m \u001B[38;5;28;01mreturn\u001B[39;00m term, count\n",
      "File \u001B[1;32mD:\\documents\\python_projects\\pure-calculus\\src\\tests_6\\..\\calculus\\term.py:206\u001B[0m, in \u001B[0;36mTerm._betaConversion\u001B[1;34m(self, strategy)\u001B[0m\n\u001B[0;32m    201\u001B[0m \u001B[38;5;28;01mdef\u001B[39;00m \u001B[38;5;21m_betaConversion\u001B[39m(\u001B[38;5;28mself\u001B[39m, strategy):\n\u001B[0;32m    202\u001B[0m \u001B[38;5;250m    \u001B[39m\u001B[38;5;124;03m\"\"\"\u001B[39;00m\n\u001B[0;32m    203\u001B[0m \u001B[38;5;124;03m    :param strategy: OneStepStrategy\u001B[39;00m\n\u001B[0;32m    204\u001B[0m \u001B[38;5;124;03m    :return term with redex eliminated using the given strategy\u001B[39;00m\n\u001B[0;32m    205\u001B[0m \u001B[38;5;124;03m    \"\"\"\u001B[39;00m\n\u001B[1;32m--> 206\u001B[0m     index \u001B[38;5;241m=\u001B[39m \u001B[43mstrategy\u001B[49m\u001B[38;5;241;43m.\u001B[39;49m\u001B[43mredexIndex\u001B[49m\u001B[43m(\u001B[49m\u001B[38;5;28;43mself\u001B[39;49m\u001B[43m)\u001B[49m\n\u001B[0;32m    207\u001B[0m     subterm \u001B[38;5;241m=\u001B[39m \u001B[38;5;28mself\u001B[39m\u001B[38;5;241m.\u001B[39msubterm(index)\n\u001B[0;32m    208\u001B[0m     reducedTerm \u001B[38;5;241m=\u001B[39m subterm\u001B[38;5;241m.\u001B[39m_removeOuterRedex()\n",
      "File \u001B[1;32mD:\\documents\\python_projects\\pure-calculus\\src\\tests_6\\..\\calculus\\strategy.py:26\u001B[0m, in \u001B[0;36mLeftmostOutermostStrategy.redexIndex\u001B[1;34m(self, term, initIndex)\u001B[0m\n\u001B[0;32m     24\u001B[0m     \u001B[38;5;28;01mreturn\u001B[39;00m initIndex \u001B[38;5;241m+\u001B[39m \u001B[38;5;241m1\u001B[39m\n\u001B[0;32m     25\u001B[0m \u001B[38;5;28;01melif\u001B[39;00m \u001B[38;5;28mlen\u001B[39m(term\u001B[38;5;241m.\u001B[39m_sub\u001B[38;5;241m.\u001B[39mredexes) \u001B[38;5;241m!=\u001B[39m \u001B[38;5;241m0\u001B[39m:\n\u001B[1;32m---> 26\u001B[0m     \u001B[38;5;28;01mreturn\u001B[39;00m \u001B[38;5;28;43mself\u001B[39;49m\u001B[38;5;241;43m.\u001B[39;49m\u001B[43mredexIndex\u001B[49m\u001B[43m(\u001B[49m\u001B[43mterm\u001B[49m\u001B[38;5;241;43m.\u001B[39;49m\u001B[43m_sub\u001B[49m\u001B[43m,\u001B[49m\u001B[43m \u001B[49m\u001B[43minitIndex\u001B[49m\u001B[43m \u001B[49m\u001B[38;5;241;43m+\u001B[39;49m\u001B[43m \u001B[49m\u001B[38;5;241;43m1\u001B[39;49m\u001B[43m)\u001B[49m\n\u001B[0;32m     27\u001B[0m \u001B[38;5;28;01melse\u001B[39;00m:\n\u001B[0;32m     28\u001B[0m     \u001B[38;5;28;01mreturn\u001B[39;00m \u001B[38;5;28mself\u001B[39m\u001B[38;5;241m.\u001B[39mredexIndex(\n\u001B[0;32m     29\u001B[0m         term\u001B[38;5;241m.\u001B[39m_obj, initIndex \u001B[38;5;241m+\u001B[39m term\u001B[38;5;241m.\u001B[39m_sub\u001B[38;5;241m.\u001B[39mverticesNumber \u001B[38;5;241m+\u001B[39m \u001B[38;5;241m1\u001B[39m\n\u001B[0;32m     30\u001B[0m     )\n",
      "File \u001B[1;32mD:\\documents\\python_projects\\pure-calculus\\src\\tests_6\\..\\calculus\\strategy.py:20\u001B[0m, in \u001B[0;36mLeftmostOutermostStrategy.redexIndex\u001B[1;34m(self, term, initIndex)\u001B[0m\n\u001B[0;32m     19\u001B[0m \u001B[38;5;28;01mdef\u001B[39;00m \u001B[38;5;21mredexIndex\u001B[39m(\u001B[38;5;28mself\u001B[39m, term: Term, initIndex\u001B[38;5;241m=\u001B[39m\u001B[38;5;241m0\u001B[39m) \u001B[38;5;241m-\u001B[39m\u001B[38;5;241m>\u001B[39m \u001B[38;5;28mint\u001B[39m:\n\u001B[1;32m---> 20\u001B[0m     \u001B[38;5;28;01mif\u001B[39;00m term\u001B[38;5;241m.\u001B[39misAtom \u001B[38;5;129;01mor\u001B[39;00m \u001B[38;5;28mlen\u001B[39m(\u001B[43mterm\u001B[49m\u001B[38;5;241;43m.\u001B[39;49m\u001B[43mredexes\u001B[49m) \u001B[38;5;241m==\u001B[39m \u001B[38;5;241m0\u001B[39m:\n\u001B[0;32m     21\u001B[0m         \u001B[38;5;167;01mValueError\u001B[39;00m(\u001B[38;5;124m\"\u001B[39m\u001B[38;5;124mthe term does not contain a redex\u001B[39m\u001B[38;5;124m\"\u001B[39m)\n\u001B[0;32m     22\u001B[0m     \u001B[38;5;28;01melif\u001B[39;00m term\u001B[38;5;241m.\u001B[39misApplication:\n",
      "File \u001B[1;32mD:\\documents\\python_projects\\pure-calculus\\src\\tests_6\\..\\calculus\\term.py:108\u001B[0m, in \u001B[0;36mTerm.redexes\u001B[1;34m(self)\u001B[0m\n\u001B[0;32m    106\u001B[0m \u001B[38;5;66;03m# self is Application\u001B[39;00m\n\u001B[0;32m    107\u001B[0m temp \u001B[38;5;241m=\u001B[39m [\u001B[38;5;28mself\u001B[39m] \u001B[38;5;28;01mif\u001B[39;00m \u001B[38;5;28mself\u001B[39m\u001B[38;5;241m.\u001B[39misBetaRedex \u001B[38;5;28;01melse\u001B[39;00m []\n\u001B[1;32m--> 108\u001B[0m temp \u001B[38;5;241m+\u001B[39m\u001B[38;5;241m=\u001B[39m \u001B[38;5;28;43mself\u001B[39;49m\u001B[38;5;241;43m.\u001B[39;49m\u001B[43m_sub\u001B[49m\u001B[38;5;241;43m.\u001B[39;49m\u001B[43mredexes\u001B[49m \u001B[38;5;241m+\u001B[39m \u001B[38;5;28mself\u001B[39m\u001B[38;5;241m.\u001B[39m_obj\u001B[38;5;241m.\u001B[39mredexes\n\u001B[0;32m    109\u001B[0m \u001B[38;5;28;01mreturn\u001B[39;00m temp\n",
      "File \u001B[1;32mD:\\documents\\python_projects\\pure-calculus\\src\\tests_6\\..\\calculus\\term.py:108\u001B[0m, in \u001B[0;36mTerm.redexes\u001B[1;34m(self)\u001B[0m\n\u001B[0;32m    106\u001B[0m \u001B[38;5;66;03m# self is Application\u001B[39;00m\n\u001B[0;32m    107\u001B[0m temp \u001B[38;5;241m=\u001B[39m [\u001B[38;5;28mself\u001B[39m] \u001B[38;5;28;01mif\u001B[39;00m \u001B[38;5;28mself\u001B[39m\u001B[38;5;241m.\u001B[39misBetaRedex \u001B[38;5;28;01melse\u001B[39;00m []\n\u001B[1;32m--> 108\u001B[0m temp \u001B[38;5;241m+\u001B[39m\u001B[38;5;241m=\u001B[39m \u001B[38;5;28;43mself\u001B[39;49m\u001B[38;5;241;43m.\u001B[39;49m\u001B[43m_sub\u001B[49m\u001B[38;5;241;43m.\u001B[39;49m\u001B[43mredexes\u001B[49m \u001B[38;5;241m+\u001B[39m \u001B[38;5;28mself\u001B[39m\u001B[38;5;241m.\u001B[39m_obj\u001B[38;5;241m.\u001B[39mredexes\n\u001B[0;32m    109\u001B[0m \u001B[38;5;28;01mreturn\u001B[39;00m temp\n",
      "    \u001B[1;31m[... skipping similar frames: Term.redexes at line 108 (1 times)]\u001B[0m\n",
      "File \u001B[1;32mD:\\documents\\python_projects\\pure-calculus\\src\\tests_6\\..\\calculus\\term.py:105\u001B[0m, in \u001B[0;36mTerm.redexes\u001B[1;34m(self)\u001B[0m\n\u001B[0;32m    103\u001B[0m     \u001B[38;5;28;01mreturn\u001B[39;00m []\n\u001B[0;32m    104\u001B[0m \u001B[38;5;28;01mif\u001B[39;00m \u001B[38;5;28mself\u001B[39m\u001B[38;5;241m.\u001B[39misAbstraction:\n\u001B[1;32m--> 105\u001B[0m     \u001B[38;5;28;01mreturn\u001B[39;00m \u001B[38;5;28;43mself\u001B[39;49m\u001B[38;5;241;43m.\u001B[39;49m\u001B[43m_body\u001B[49m\u001B[38;5;241;43m.\u001B[39;49m\u001B[43mredexes\u001B[49m\n\u001B[0;32m    106\u001B[0m \u001B[38;5;66;03m# self is Application\u001B[39;00m\n\u001B[0;32m    107\u001B[0m temp \u001B[38;5;241m=\u001B[39m [\u001B[38;5;28mself\u001B[39m] \u001B[38;5;28;01mif\u001B[39;00m \u001B[38;5;28mself\u001B[39m\u001B[38;5;241m.\u001B[39misBetaRedex \u001B[38;5;28;01melse\u001B[39;00m []\n",
      "File \u001B[1;32mD:\\documents\\python_projects\\pure-calculus\\src\\tests_6\\..\\calculus\\term.py:105\u001B[0m, in \u001B[0;36mTerm.redexes\u001B[1;34m(self)\u001B[0m\n\u001B[0;32m    103\u001B[0m     \u001B[38;5;28;01mreturn\u001B[39;00m []\n\u001B[0;32m    104\u001B[0m \u001B[38;5;28;01mif\u001B[39;00m \u001B[38;5;28mself\u001B[39m\u001B[38;5;241m.\u001B[39misAbstraction:\n\u001B[1;32m--> 105\u001B[0m     \u001B[38;5;28;01mreturn\u001B[39;00m \u001B[38;5;28;43mself\u001B[39;49m\u001B[38;5;241;43m.\u001B[39;49m\u001B[43m_body\u001B[49m\u001B[38;5;241;43m.\u001B[39;49m\u001B[43mredexes\u001B[49m\n\u001B[0;32m    106\u001B[0m \u001B[38;5;66;03m# self is Application\u001B[39;00m\n\u001B[0;32m    107\u001B[0m temp \u001B[38;5;241m=\u001B[39m [\u001B[38;5;28mself\u001B[39m] \u001B[38;5;28;01mif\u001B[39;00m \u001B[38;5;28mself\u001B[39m\u001B[38;5;241m.\u001B[39misBetaRedex \u001B[38;5;28;01melse\u001B[39;00m []\n",
      "    \u001B[1;31m[... skipping similar frames: Term.redexes at line 108 (40 times), Term.redexes at line 105 (23 times)]\u001B[0m\n",
      "File \u001B[1;32mD:\\documents\\python_projects\\pure-calculus\\src\\tests_6\\..\\calculus\\term.py:105\u001B[0m, in \u001B[0;36mTerm.redexes\u001B[1;34m(self)\u001B[0m\n\u001B[0;32m    103\u001B[0m     \u001B[38;5;28;01mreturn\u001B[39;00m []\n\u001B[0;32m    104\u001B[0m \u001B[38;5;28;01mif\u001B[39;00m \u001B[38;5;28mself\u001B[39m\u001B[38;5;241m.\u001B[39misAbstraction:\n\u001B[1;32m--> 105\u001B[0m     \u001B[38;5;28;01mreturn\u001B[39;00m \u001B[38;5;28;43mself\u001B[39;49m\u001B[38;5;241;43m.\u001B[39;49m\u001B[43m_body\u001B[49m\u001B[38;5;241;43m.\u001B[39;49m\u001B[43mredexes\u001B[49m\n\u001B[0;32m    106\u001B[0m \u001B[38;5;66;03m# self is Application\u001B[39;00m\n\u001B[0;32m    107\u001B[0m temp \u001B[38;5;241m=\u001B[39m [\u001B[38;5;28mself\u001B[39m] \u001B[38;5;28;01mif\u001B[39;00m \u001B[38;5;28mself\u001B[39m\u001B[38;5;241m.\u001B[39misBetaRedex \u001B[38;5;28;01melse\u001B[39;00m []\n",
      "    \u001B[1;31m[... skipping similar frames: Term.redexes at line 108 (4 times)]\u001B[0m\n",
      "File \u001B[1;32mD:\\documents\\python_projects\\pure-calculus\\src\\tests_6\\..\\calculus\\term.py:108\u001B[0m, in \u001B[0;36mTerm.redexes\u001B[1;34m(self)\u001B[0m\n\u001B[0;32m    106\u001B[0m \u001B[38;5;66;03m# self is Application\u001B[39;00m\n\u001B[0;32m    107\u001B[0m temp \u001B[38;5;241m=\u001B[39m [\u001B[38;5;28mself\u001B[39m] \u001B[38;5;28;01mif\u001B[39;00m \u001B[38;5;28mself\u001B[39m\u001B[38;5;241m.\u001B[39misBetaRedex \u001B[38;5;28;01melse\u001B[39;00m []\n\u001B[1;32m--> 108\u001B[0m temp \u001B[38;5;241m+\u001B[39m\u001B[38;5;241m=\u001B[39m \u001B[38;5;28mself\u001B[39m\u001B[38;5;241m.\u001B[39m_sub\u001B[38;5;241m.\u001B[39mredexes \u001B[38;5;241m+\u001B[39m \u001B[38;5;28;43mself\u001B[39;49m\u001B[38;5;241;43m.\u001B[39;49m\u001B[43m_obj\u001B[49m\u001B[38;5;241;43m.\u001B[39;49m\u001B[43mredexes\u001B[49m\n\u001B[0;32m    109\u001B[0m \u001B[38;5;28;01mreturn\u001B[39;00m temp\n",
      "File \u001B[1;32mD:\\documents\\python_projects\\pure-calculus\\src\\tests_6\\..\\calculus\\term.py:102\u001B[0m, in \u001B[0;36mTerm.redexes\u001B[1;34m(self)\u001B[0m\n\u001B[0;32m     99\u001B[0m \u001B[38;5;129m@property\u001B[39m\n\u001B[0;32m    100\u001B[0m \u001B[38;5;28;01mdef\u001B[39;00m \u001B[38;5;21mredexes\u001B[39m(\u001B[38;5;28mself\u001B[39m):\n\u001B[0;32m    101\u001B[0m \u001B[38;5;250m    \u001B[39m\u001B[38;5;124;03m\"\"\"determiness all beta-redexes in the term\"\"\"\u001B[39;00m\n\u001B[1;32m--> 102\u001B[0m     \u001B[38;5;28;01mif\u001B[39;00m \u001B[38;5;28;43mself\u001B[39;49m\u001B[38;5;241;43m.\u001B[39;49m\u001B[43misAtom\u001B[49m:\n\u001B[0;32m    103\u001B[0m         \u001B[38;5;28;01mreturn\u001B[39;00m []\n\u001B[0;32m    104\u001B[0m     \u001B[38;5;28;01mif\u001B[39;00m \u001B[38;5;28mself\u001B[39m\u001B[38;5;241m.\u001B[39misAbstraction:\n",
      "File \u001B[1;32mD:\\documents\\python_projects\\pure-calculus\\src\\tests_6\\..\\calculus\\term.py:28\u001B[0m, in \u001B[0;36mTerm.isAtom\u001B[1;34m(self)\u001B[0m\n\u001B[0;32m     27\u001B[0m \u001B[38;5;28;01mclass\u001B[39;00m \u001B[38;5;21;01mTerm\u001B[39;00m:\n\u001B[1;32m---> 28\u001B[0m     \u001B[38;5;129m@property\u001B[39m\n\u001B[0;32m     29\u001B[0m     \u001B[38;5;28;01mdef\u001B[39;00m \u001B[38;5;21misAtom\u001B[39m(\u001B[38;5;28mself\u001B[39m):\n\u001B[0;32m     30\u001B[0m \u001B[38;5;250m        \u001B[39m\u001B[38;5;124;03m\"\"\"checks whether the term is an atom\"\"\"\u001B[39;00m\n\u001B[0;32m     31\u001B[0m         \u001B[38;5;28;01mreturn\u001B[39;00m \u001B[38;5;28misinstance\u001B[39m(\u001B[38;5;28mself\u001B[39m, Atom)\n",
      "\u001B[1;31mKeyboardInterrupt\u001B[0m: "
     ]
    }
   ],
   "source": [
    "test_gcd_v3(2, 2, LeftmostOutermostStrategy())"
   ],
   "metadata": {
    "collapsed": false
   }
  },
  {
   "cell_type": "code",
   "execution_count": null,
   "outputs": [],
   "source": [],
   "metadata": {
    "collapsed": false
   }
  }
 ],
 "metadata": {
  "kernelspec": {
   "display_name": "Python 3",
   "language": "python",
   "name": "python3"
  },
  "language_info": {
   "codemirror_mode": {
    "name": "ipython",
    "version": 2
   },
   "file_extension": ".py",
   "mimetype": "text/x-python",
   "name": "python",
   "nbconvert_exporter": "python",
   "pygments_lexer": "ipython2",
   "version": "2.7.6"
  }
 },
 "nbformat": 4,
 "nbformat_minor": 0
}
