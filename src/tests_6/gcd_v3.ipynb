{
 "cells": [
  {
   "cell_type": "markdown",
   "source": [
    "Greatest common divisor/highest common factor:\n",
    "    GCD := (λgmn. LEQ m n (g n m) (g m n)) (Y (λgxy. ISZERO y x (g y (MOD x y))))\n",
    "\n",
    "[Details about algorithm](https://jwodder.freeshell.org/lambda.html)"
   ],
   "metadata": {
    "collapsed": false
   }
  },
  {
   "cell_type": "code",
   "execution_count": 1,
   "outputs": [],
   "source": [
    "import sys\n",
    "import time\n",
    "\n",
    "sys.path.append(\"../\")\n",
    "from calculus.term import *\n",
    "from calculus.strategy import *\n",
    "from calculus.advanced_terms import *"
   ],
   "metadata": {
    "collapsed": false
   }
  },
  {
   "cell_type": "markdown",
   "source": [
    "Less than:\n",
    "LT := λab. NOT (LEQ b a)\n",
    "\n",
    "Division — DIV a b evaluates to a pair of two numbers, a idiv b and a mod b:\n",
    "DIV := Y (λgqab. LT a b (PAIR q a) (g (SUCC q) (SUB a b) b) ) 0\n",
    "\n",
    "CDR p — get the cdr of pair p; also called SECOND, TAIL, or REST:\n",
    "SECOND := CDR := λp. p FALSE\n",
    "\n",
    "Modulus:\n",
    "MOD := λab. CDR (DIV a b)"
   ],
   "metadata": {
    "collapsed": false
   }
  },
  {
   "cell_type": "code",
   "execution_count": 3,
   "outputs": [],
   "source": [
    "def lt_term():\n",
    "    a, b = Var(), Var()\n",
    "    a_, b_ = Atom(a), Atom(b)\n",
    "    return Lambda(a, Lambda(b, App(not_term(), multi_app_term(le_term(), b_, a_))))\n",
    "\n",
    "\n",
    "def div_term():\n",
    "    g, q, a, b = Var(), Var(), Var(), Var()\n",
    "    g_, q_, a_, b_ = Atom(g), Atom(q), Atom(a), Atom(b)\n",
    "\n",
    "    inner_right_term = multi_app_term(g_, App(succ_term(), q_), multi_app_term(substr_term(), a_, b_), b_)\n",
    "    inner_lambda_term = Lambda(g, Lambda(q, Lambda(a, Lambda(b, multi_app_term(lt_term(), a_, b_, multi_app_term(pair_term(), q_, a_))))))\n",
    "\n",
    "    return multi_app_term(y_term(), inner_lambda_term, inner_right_term, n_term(0))\n",
    "\n",
    "\n",
    "def mod_term():\n",
    "    a, b = Var(), Var()\n",
    "    a_, b_ = Atom(a), Atom(b)\n",
    "    return Lambda(a, Lambda(b, App(second_term(), multi_app_term(div_term(), a_, b_))))"
   ],
   "metadata": {
    "collapsed": false
   }
  },
  {
   "cell_type": "markdown",
   "source": [
    "Greatest common divisor/highest common factor:\n",
    "    GCD := (λgmn. LEQ m n (g n m) (g m n)) (Y (λgxy. ISZERO y x (g y (MOD x y))))"
   ],
   "metadata": {
    "collapsed": false
   }
  },
  {
   "cell_type": "code",
   "execution_count": 4,
   "outputs": [],
   "source": [
    "def gcd_term_v3():\n",
    "    g, m, n, x, y = Var(), Var(), Var(), Var(), Var()\n",
    "    g_, m_, n_, x_, y_ = Atom(g), Atom(m), Atom(n), Atom(x), Atom(y)\n",
    "\n",
    "    left_inner_term = Lambda(g, Lambda(m, Lambda(n, multi_app_term(\n",
    "        le_term(), m_, n_,\n",
    "        multi_app_term(g_, n_, m_),\n",
    "        multi_app_term(g_, m_, n_)\n",
    "    ))))\n",
    "\n",
    "    right_inner_term = Lambda(g, Lambda(x, Lambda(y, multi_app_term(\n",
    "        iszero_term(), y_, x_,\n",
    "        multi_app_term(g_, y_, multi_app_term(mod_term(), x_, y_))\n",
    "    ))))\n",
    "    right_inner_term = App(y_term(), right_inner_term)\n",
    "\n",
    "    return App(left_inner_term, right_inner_term)"
   ],
   "metadata": {
    "collapsed": false
   }
  },
  {
   "cell_type": "code",
   "execution_count": 5,
   "outputs": [],
   "source": [
    "def test_gcd_v3(var_0=0, var_1=0, strategy=LeftmostOutermostStrategy()):\n",
    "    start_time = time.time()\n",
    "    term_ = multi_app_term(gcd_term_v3(), n_term(var_0), n_term(var_1))\n",
    "    res_term, steps = term_.normalize_no_lim(strategy)\n",
    "\n",
    "    print(f\"Norm steps: {steps}\")\n",
    "    print(res_term)\n",
    "    print(f\"time normalization: {time.time() - start_time}s\")"
   ],
   "metadata": {
    "collapsed": false
   }
  },
  {
   "cell_type": "code",
   "execution_count": 6,
   "outputs": [
    {
     "name": "stdout",
     "output_type": "stream",
     "text": [
      "Norm steps: 24\n",
      "(λq.(λw.w))\n",
      "time normalization: 0.10402369499206543s\n"
     ]
    }
   ],
   "source": [
    "test_gcd_v3(0, 0, LeftmostOutermostStrategy())"
   ],
   "metadata": {
    "collapsed": false
   }
  },
  {
   "cell_type": "code",
   "execution_count": 7,
   "outputs": [
    {
     "name": "stdout",
     "output_type": "stream",
     "text": [
      "Norm steps: 25\n",
      "(λq.(λw.(q w)))\n",
      "time normalization: 0.10502290725708008s\n"
     ]
    }
   ],
   "source": [
    "test_gcd_v3(1, 0, LeftmostOutermostStrategy())"
   ],
   "metadata": {
    "collapsed": false
   }
  },
  {
   "cell_type": "code",
   "execution_count": 8,
   "outputs": [
    {
     "name": "stdout",
     "output_type": "stream",
     "text": [
      "Norm steps: 25\n",
      "(λw.(λq.(w q)))\n",
      "time normalization: 0.10202312469482422s\n"
     ]
    }
   ],
   "source": [
    "test_gcd_v3(1, 0, LeftmostOutermostStrategy())"
   ],
   "metadata": {
    "collapsed": false
   }
  },
  {
   "cell_type": "code",
   "execution_count": 9,
   "outputs": [
    {
     "name": "stdout",
     "output_type": "stream",
     "text": [
      "Norm steps: 110\n",
      "(λq.(λw.(q (q w))))\n",
      "time normalization: 1.1450059413909912s\n"
     ]
    }
   ],
   "source": [
    "test_gcd_v3(2, 2, LeftmostOutermostStrategy())"
   ],
   "metadata": {
    "collapsed": false
   }
  },
  {
   "cell_type": "code",
   "execution_count": 10,
   "outputs": [
    {
     "name": "stdout",
     "output_type": "stream",
     "text": [
      "Norm steps: 25\n",
      "(λq.(λw.(q (q (q (q w))))))\n",
      "time normalization: 0.10802435874938965s\n"
     ]
    }
   ],
   "source": [
    "test_gcd_v3(4, 0, LeftmostOutermostStrategy())"
   ],
   "metadata": {
    "collapsed": false
   }
  },
  {
   "cell_type": "code",
   "execution_count": 11,
   "outputs": [
    {
     "name": "stdout",
     "output_type": "stream",
     "text": [
      "Norm steps: 60\n",
      "(λq.(λw.(q (q (q (q w))))))\n",
      "time normalization: 0.3200716972351074s\n"
     ]
    }
   ],
   "source": [
    "test_gcd_v3(0, 4, LeftmostOutermostStrategy())"
   ],
   "metadata": {
    "collapsed": false
   }
  },
  {
   "cell_type": "code",
   "execution_count": 12,
   "outputs": [
    {
     "name": "stdout",
     "output_type": "stream",
     "text": [
      "Norm steps: 259\n",
      "(λq.(λw.(q (q (q (q (q w)))))))\n",
      "time normalization: 3.13918137550354s\n"
     ]
    }
   ],
   "source": [
    "test_gcd_v3(10, 5, LeftmostOutermostStrategy())"
   ],
   "metadata": {
    "collapsed": false
   }
  },
  {
   "cell_type": "code",
   "execution_count": 13,
   "outputs": [
    {
     "name": "stdout",
     "output_type": "stream",
     "text": [
      "Norm steps: 293\n",
      "(λq.(λw.(q (q (q (q (q w)))))))\n",
      "time normalization: 3.8571524620056152s\n"
     ]
    }
   ],
   "source": [
    "test_gcd_v3(5, 10, LeftmostOutermostStrategy())"
   ],
   "metadata": {
    "collapsed": false
   }
  }
 ],
 "metadata": {
  "kernelspec": {
   "display_name": "Python 3",
   "language": "python",
   "name": "python3"
  },
  "language_info": {
   "codemirror_mode": {
    "name": "ipython",
    "version": 2
   },
   "file_extension": ".py",
   "mimetype": "text/x-python",
   "name": "python",
   "nbconvert_exporter": "python",
   "pygments_lexer": "ipython2",
   "version": "2.7.6"
  }
 },
 "nbformat": 4,
 "nbformat_minor": 0
}
