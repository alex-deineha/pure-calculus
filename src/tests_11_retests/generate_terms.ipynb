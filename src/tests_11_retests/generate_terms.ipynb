{
 "cells": [
  {
   "cell_type": "code",
   "execution_count": 1,
   "metadata": {
    "collapsed": true
   },
   "outputs": [],
   "source": [
    "import sys\n",
    "from tqdm import tqdm\n",
    "\n",
    "sys.path.append(\"../\")\n",
    "from calculus_path_mod.term_engine import *\n",
    "from calculus_path_mod.reduction_strategy import *\n",
    "from calculus_path_mod.term_generation import gen_filtered_lambda_terms\n",
    "from calculus_path_mod.json_serialization import save_terms\n",
    "\n",
    "Lambda = Abstraction\n",
    "App = Application"
   ]
  },
  {
   "cell_type": "code",
   "execution_count": 2,
   "outputs": [
    {
     "name": "stderr",
     "output_type": "stream",
     "text": [
      "100%|██████████| 21/21 [14:12<00:00, 40.60s/it] \n"
     ]
    }
   ],
   "source": [
    "# generate 210 terms filtered by LeftOuter\n",
    "for inx in tqdm(range(21)):\n",
    "    terms, steps_lo = gen_filtered_lambda_terms(count_terms=10, filtering_strategy=LOStrategy())\n",
    "    save_terms(list_terms=terms, file_name=\"terms_210_filtered_LO.dat\", is_overwrite=False)"
   ],
   "metadata": {
    "collapsed": false
   }
  },
  {
   "cell_type": "code",
   "execution_count": 3,
   "outputs": [
    {
     "name": "stderr",
     "output_type": "stream",
     "text": [
      "100%|██████████| 21/21 [49:49<00:00, 142.35s/it] \n"
     ]
    }
   ],
   "source": [
    "# generate 210 terms filtered by RightInner\n",
    "for inx in tqdm(range(21)):\n",
    "    terms, steps_ri = gen_filtered_lambda_terms(count_terms=10, filtering_strategy=RIStrategy())\n",
    "    save_terms(list_terms=terms, file_name=\"terms_210_filtered_RI.dat\", is_overwrite=False)"
   ],
   "metadata": {
    "collapsed": false
   }
  }
 ],
 "metadata": {
  "kernelspec": {
   "display_name": "Python 3",
   "language": "python",
   "name": "python3"
  },
  "language_info": {
   "codemirror_mode": {
    "name": "ipython",
    "version": 2
   },
   "file_extension": ".py",
   "mimetype": "text/x-python",
   "name": "python",
   "nbconvert_exporter": "python",
   "pygments_lexer": "ipython2",
   "version": "2.7.6"
  }
 },
 "nbformat": 4,
 "nbformat_minor": 0
}
