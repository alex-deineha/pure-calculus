{
 "cells": [
  {
   "cell_type": "markdown",
   "source": [
    "# Import the dependencies"
   ],
   "metadata": {
    "collapsed": false
   }
  },
  {
   "cell_type": "code",
   "execution_count": 1,
   "metadata": {
    "collapsed": true,
    "ExecuteTime": {
     "start_time": "2023-04-11T16:30:19.680007Z",
     "end_time": "2023-04-11T16:30:19.809355Z"
    }
   },
   "outputs": [],
   "source": [
    "import sys\n",
    "from tqdm import tqdm\n",
    "\n",
    "sys.path.append(\"../\")\n",
    "from calculus_path_mod.term_engine import *\n",
    "from calculus_path_mod.reduction_strategy import *\n",
    "\n",
    "Lambda = Abstraction\n",
    "App = Application"
   ]
  },
  {
   "cell_type": "markdown",
   "source": [
    "# Defining test term:\n",
    "    ω_n (I ... I)_m"
   ],
   "metadata": {
    "collapsed": false
   }
  },
  {
   "cell_type": "code",
   "execution_count": 2,
   "outputs": [],
   "source": [
    "def i_term():\n",
    "    x = Var()\n",
    "    x_ = Atom(x)\n",
    "    return Lambda(x, x_)\n",
    "\n",
    "\n",
    "def omega_term(n: int):\n",
    "    x = Var()\n",
    "    x_ = Atom(x)\n",
    "    body_app_term = x_\n",
    "    for _ in range(n - 1):\n",
    "        body_app_term = App(body_app_term, x_)\n",
    "    return Lambda(x, body_app_term)\n",
    "\n",
    "\n",
    "def multi_i_term(m: int):\n",
    "    app_term = i_term()\n",
    "    for _ in range(m - 1):\n",
    "        app_term = App(app_term, i_term())\n",
    "    return app_term\n",
    "\n",
    "\n",
    "def omega_multi_i_term(n: int, m: int):\n",
    "    return App(omega_term(n), multi_i_term(m))"
   ],
   "metadata": {
    "collapsed": false,
    "ExecuteTime": {
     "start_time": "2023-04-11T16:30:19.762169Z",
     "end_time": "2023-04-11T16:30:19.809872Z"
    }
   }
  },
  {
   "cell_type": "markdown",
   "source": [
    "# Test term visualizations"
   ],
   "metadata": {
    "collapsed": false
   }
  },
  {
   "cell_type": "code",
   "execution_count": 3,
   "outputs": [
    {
     "data": {
      "text/plain": "'(λx.x)'"
     },
     "execution_count": 3,
     "metadata": {},
     "output_type": "execute_result"
    }
   ],
   "source": [
    "i = i_term()\n",
    "i.funky_str()"
   ],
   "metadata": {
    "collapsed": false,
    "ExecuteTime": {
     "start_time": "2023-04-11T16:30:19.765741Z",
     "end_time": "2023-04-11T16:30:19.809872Z"
    }
   }
  },
  {
   "cell_type": "code",
   "execution_count": 4,
   "outputs": [
    {
     "data": {
      "text/plain": "'(λx.(x x))'"
     },
     "execution_count": 4,
     "metadata": {},
     "output_type": "execute_result"
    }
   ],
   "source": [
    "i = omega_term(2)\n",
    "i.funky_str()"
   ],
   "metadata": {
    "collapsed": false,
    "ExecuteTime": {
     "start_time": "2023-04-11T16:30:19.772067Z",
     "end_time": "2023-04-11T16:30:19.809872Z"
    }
   }
  },
  {
   "cell_type": "code",
   "execution_count": 5,
   "outputs": [
    {
     "data": {
      "text/plain": "'(λx.(((x x) x) x))'"
     },
     "execution_count": 5,
     "metadata": {},
     "output_type": "execute_result"
    }
   ],
   "source": [
    "i = omega_term(4)\n",
    "i.funky_str()"
   ],
   "metadata": {
    "collapsed": false,
    "ExecuteTime": {
     "start_time": "2023-04-11T16:30:19.777303Z",
     "end_time": "2023-04-11T16:30:19.809872Z"
    }
   }
  },
  {
   "cell_type": "code",
   "execution_count": 6,
   "outputs": [
    {
     "data": {
      "text/plain": "'((λx.x) (λy.y))'"
     },
     "execution_count": 6,
     "metadata": {},
     "output_type": "execute_result"
    }
   ],
   "source": [
    "i = multi_i_term(2)\n",
    "i.funky_str()"
   ],
   "metadata": {
    "collapsed": false,
    "ExecuteTime": {
     "start_time": "2023-04-11T16:30:19.781240Z",
     "end_time": "2023-04-11T16:30:19.809872Z"
    }
   }
  },
  {
   "cell_type": "code",
   "execution_count": 7,
   "outputs": [
    {
     "data": {
      "text/plain": "'((((λx.x) (λy.y)) (λa.a)) (λb.b))'"
     },
     "execution_count": 7,
     "metadata": {},
     "output_type": "execute_result"
    }
   ],
   "source": [
    "i = multi_i_term(4)\n",
    "i.funky_str()"
   ],
   "metadata": {
    "collapsed": false,
    "ExecuteTime": {
     "start_time": "2023-04-11T16:30:19.785469Z",
     "end_time": "2023-04-11T16:30:19.810870Z"
    }
   }
  },
  {
   "cell_type": "code",
   "execution_count": 8,
   "outputs": [
    {
     "data": {
      "text/plain": "'((λx.(x x)) ((λy.y) (λa.a)))'"
     },
     "execution_count": 8,
     "metadata": {},
     "output_type": "execute_result"
    }
   ],
   "source": [
    "i = omega_multi_i_term(2, 2)\n",
    "i.funky_str()"
   ],
   "metadata": {
    "collapsed": false,
    "ExecuteTime": {
     "start_time": "2023-04-11T16:30:19.789938Z",
     "end_time": "2023-04-11T16:30:19.810870Z"
    }
   }
  },
  {
   "cell_type": "code",
   "execution_count": 9,
   "outputs": [
    {
     "data": {
      "text/plain": "'((λx.(((x x) x) x)) ((((λy.y) (λa.a)) (λb.b)) (λc.c)))'"
     },
     "execution_count": 9,
     "metadata": {},
     "output_type": "execute_result"
    }
   ],
   "source": [
    "i = omega_multi_i_term(4, 4)\n",
    "i.funky_str()"
   ],
   "metadata": {
    "collapsed": false,
    "ExecuteTime": {
     "start_time": "2023-04-11T16:30:19.794386Z",
     "end_time": "2023-04-11T16:30:19.810870Z"
    }
   }
  },
  {
   "cell_type": "markdown",
   "source": [
    "# Test Reduction Strategies\n",
    "## LO (LeftmostOutermost)"
   ],
   "metadata": {
    "collapsed": false
   }
  },
  {
   "cell_type": "code",
   "execution_count": 10,
   "outputs": [
    {
     "name": "stdout",
     "output_type": "stream",
     "text": [
      "steps: 4, norm term: (λx.x)\n"
     ]
    }
   ],
   "source": [
    "term = omega_multi_i_term(2, 2)\n",
    "term_norm, steps = term.normalize(LOStrategy())\n",
    "print(f\"steps: {steps}, norm term: {term_norm.funky_str()}\")"
   ],
   "metadata": {
    "collapsed": false,
    "ExecuteTime": {
     "start_time": "2023-04-11T16:30:19.798284Z",
     "end_time": "2023-04-11T16:30:19.810870Z"
    }
   }
  },
  {
   "cell_type": "code",
   "execution_count": 11,
   "outputs": [
    {
     "name": "stdout",
     "output_type": "stream",
     "text": [
      "steps: 16, norm term: (λx.x)\n"
     ]
    }
   ],
   "source": [
    "term = omega_multi_i_term(4, 4)\n",
    "term_norm, steps = term.normalize(LOStrategy())\n",
    "print(f\"steps: {steps}, norm term: {term_norm.funky_str()}\")"
   ],
   "metadata": {
    "collapsed": false,
    "ExecuteTime": {
     "start_time": "2023-04-11T16:30:19.805551Z",
     "end_time": "2023-04-11T16:30:19.811870Z"
    }
   }
  },
  {
   "cell_type": "markdown",
   "source": [
    "## LI (LeftmostInnermost)"
   ],
   "metadata": {
    "collapsed": false
   }
  },
  {
   "cell_type": "code",
   "execution_count": 12,
   "outputs": [
    {
     "name": "stdout",
     "output_type": "stream",
     "text": [
      "steps: 3, norm term: (λx.x)\n"
     ]
    }
   ],
   "source": [
    "term = omega_multi_i_term(2, 2)\n",
    "term_norm, steps = term.normalize(LIStrategy())\n",
    "print(f\"steps: {steps}, norm term: {term_norm.funky_str()}\")"
   ],
   "metadata": {
    "collapsed": false,
    "ExecuteTime": {
     "start_time": "2023-04-11T16:30:19.811870Z",
     "end_time": "2023-04-11T16:30:19.826863Z"
    }
   }
  },
  {
   "cell_type": "code",
   "execution_count": 13,
   "outputs": [
    {
     "name": "stdout",
     "output_type": "stream",
     "text": [
      "steps: 7, norm term: (λx.x)\n"
     ]
    }
   ],
   "source": [
    "term = omega_multi_i_term(4, 4)\n",
    "term_norm, steps = term.normalize(LIStrategy())\n",
    "print(f\"steps: {steps}, norm term: {term_norm.funky_str()}\")"
   ],
   "metadata": {
    "collapsed": false,
    "ExecuteTime": {
     "start_time": "2023-04-11T16:30:19.815814Z",
     "end_time": "2023-04-11T16:30:19.826863Z"
    }
   }
  },
  {
   "cell_type": "markdown",
   "source": [
    "## RI (RightmostInnermost)"
   ],
   "metadata": {
    "collapsed": false
   }
  },
  {
   "cell_type": "code",
   "execution_count": 14,
   "outputs": [
    {
     "name": "stdout",
     "output_type": "stream",
     "text": [
      "steps: 3, norm term: (λx.x)\n"
     ]
    }
   ],
   "source": [
    "term = omega_multi_i_term(2, 2)\n",
    "term_norm, steps = term.normalize(RIStrategy())\n",
    "print(f\"steps: {steps}, norm term: {term_norm.funky_str()}\")"
   ],
   "metadata": {
    "collapsed": false,
    "ExecuteTime": {
     "start_time": "2023-04-11T16:30:19.823344Z",
     "end_time": "2023-04-11T16:30:19.826863Z"
    }
   }
  },
  {
   "cell_type": "code",
   "execution_count": 15,
   "outputs": [
    {
     "name": "stdout",
     "output_type": "stream",
     "text": [
      "steps: 7, norm term: (λx.x)\n"
     ]
    }
   ],
   "source": [
    "term = omega_multi_i_term(4, 4)\n",
    "term_norm, steps = term.normalize(RIStrategy())\n",
    "print(f\"steps: {steps}, norm term: {term_norm.funky_str()}\")"
   ],
   "metadata": {
    "collapsed": false,
    "ExecuteTime": {
     "start_time": "2023-04-11T16:30:19.825864Z",
     "end_time": "2023-04-11T16:30:19.830801Z"
    }
   }
  },
  {
   "cell_type": "markdown",
   "source": [
    "## Random"
   ],
   "metadata": {
    "collapsed": false
   }
  },
  {
   "cell_type": "code",
   "execution_count": 16,
   "outputs": [
    {
     "name": "stdout",
     "output_type": "stream",
     "text": [
      "steps: 3, norm term: (λx.x)\n"
     ]
    }
   ],
   "source": [
    "term = omega_multi_i_term(2, 2)\n",
    "term_norm, steps = term.normalize(RandomStrategy())\n",
    "print(f\"steps: {steps}, norm term: {term_norm.funky_str()}\")"
   ],
   "metadata": {
    "collapsed": false,
    "ExecuteTime": {
     "start_time": "2023-04-11T16:30:19.830801Z",
     "end_time": "2023-04-11T16:30:19.833999Z"
    }
   }
  },
  {
   "cell_type": "code",
   "execution_count": 17,
   "outputs": [
    {
     "name": "stdout",
     "output_type": "stream",
     "text": [
      "steps: 16, norm term: (λx.x)\n"
     ]
    }
   ],
   "source": [
    "term = omega_multi_i_term(4, 4)\n",
    "term_norm, steps = term.normalize(RandomStrategy())\n",
    "print(f\"steps: {steps}, norm term: {term_norm.funky_str()}\")"
   ],
   "metadata": {
    "collapsed": false,
    "ExecuteTime": {
     "start_time": "2023-04-11T16:30:19.834995Z",
     "end_time": "2023-04-11T16:30:19.980878Z"
    }
   }
  },
  {
   "cell_type": "markdown",
   "source": [
    "## RandomOuter"
   ],
   "metadata": {
    "collapsed": false
   }
  },
  {
   "cell_type": "code",
   "execution_count": 18,
   "outputs": [
    {
     "name": "stdout",
     "output_type": "stream",
     "text": [
      "steps: 4, norm term: (λx.x)\n"
     ]
    }
   ],
   "source": [
    "term = omega_multi_i_term(2, 2)\n",
    "term_norm, steps = term.normalize(RandomOuterStrategy('pow_2'))\n",
    "print(f\"steps: {steps}, norm term: {term_norm.funky_str()}\")"
   ],
   "metadata": {
    "collapsed": false,
    "ExecuteTime": {
     "start_time": "2023-04-11T16:30:19.841959Z",
     "end_time": "2023-04-11T16:30:19.996878Z"
    }
   }
  },
  {
   "cell_type": "code",
   "execution_count": 19,
   "outputs": [
    {
     "name": "stdout",
     "output_type": "stream",
     "text": [
      "steps: 16, norm term: (λx.x)\n"
     ]
    }
   ],
   "source": [
    "term = omega_multi_i_term(4, 4)\n",
    "term_norm, steps = term.normalize(RandomOuterStrategy('pow_2'))\n",
    "print(f\"steps: {steps}, norm term: {term_norm.funky_str()}\")"
   ],
   "metadata": {
    "collapsed": false,
    "ExecuteTime": {
     "start_time": "2023-04-11T16:30:19.845959Z",
     "end_time": "2023-04-11T16:30:19.996878Z"
    }
   }
  },
  {
   "cell_type": "markdown",
   "source": [
    "## RandomInner"
   ],
   "metadata": {
    "collapsed": false
   }
  },
  {
   "cell_type": "code",
   "execution_count": 20,
   "outputs": [
    {
     "name": "stdout",
     "output_type": "stream",
     "text": [
      "steps: 4, norm term: (λx.x)\n"
     ]
    }
   ],
   "source": [
    "term = omega_multi_i_term(2, 2)\n",
    "term_norm, steps = term.normalize(RandomInnerStrategy('pow_2'))\n",
    "print(f\"steps: {steps}, norm term: {term_norm.funky_str()}\")"
   ],
   "metadata": {
    "collapsed": false,
    "ExecuteTime": {
     "start_time": "2023-04-11T16:30:19.857771Z",
     "end_time": "2023-04-11T16:30:19.996878Z"
    }
   }
  },
  {
   "cell_type": "code",
   "execution_count": 21,
   "outputs": [
    {
     "name": "stdout",
     "output_type": "stream",
     "text": [
      "steps: 7, norm term: (λx.x)\n"
     ]
    }
   ],
   "source": [
    "term = omega_multi_i_term(4, 4)\n",
    "term_norm, steps = term.normalize(RandomInnerStrategy('pow_2'))\n",
    "print(f\"steps: {steps}, norm term: {term_norm.funky_str()}\")"
   ],
   "metadata": {
    "collapsed": false,
    "ExecuteTime": {
     "start_time": "2023-04-11T16:30:19.862764Z",
     "end_time": "2023-04-11T16:30:19.999878Z"
    }
   }
  },
  {
   "cell_type": "markdown",
   "source": [
    "## RandomInTree (by Vlad)"
   ],
   "metadata": {
    "collapsed": false
   }
  },
  {
   "cell_type": "code",
   "execution_count": 22,
   "outputs": [
    {
     "name": "stdout",
     "output_type": "stream",
     "text": [
      "steps: 3, norm term: (λx.x)\n"
     ]
    }
   ],
   "source": [
    "term = omega_multi_i_term(2, 2)\n",
    "term_norm, steps = term.normalize(RandomInTreeStrategy())\n",
    "print(f\"steps: {steps}, norm term: {term_norm.funky_str()}\")"
   ],
   "metadata": {
    "collapsed": false,
    "ExecuteTime": {
     "start_time": "2023-04-11T16:30:23.001146Z",
     "end_time": "2023-04-11T16:30:23.002790Z"
    }
   }
  },
  {
   "cell_type": "code",
   "execution_count": 23,
   "outputs": [
    {
     "name": "stdout",
     "output_type": "stream",
     "text": [
      "steps: 16, norm term: (λx.x)\n"
     ]
    }
   ],
   "source": [
    "term = omega_multi_i_term(4, 4)\n",
    "term_norm, steps = term.normalize(RandomInTreeStrategy())\n",
    "print(f\"steps: {steps}, norm term: {term_norm.funky_str()}\")"
   ],
   "metadata": {
    "collapsed": false,
    "ExecuteTime": {
     "start_time": "2023-04-11T16:30:24.504922Z",
     "end_time": "2023-04-11T16:30:24.509485Z"
    }
   }
  }
 ],
 "metadata": {
  "kernelspec": {
   "display_name": "Python 3",
   "language": "python",
   "name": "python3"
  },
  "language_info": {
   "codemirror_mode": {
    "name": "ipython",
    "version": 2
   },
   "file_extension": ".py",
   "mimetype": "text/x-python",
   "name": "python",
   "nbconvert_exporter": "python",
   "pygments_lexer": "ipython2",
   "version": "2.7.6"
  }
 },
 "nbformat": 4,
 "nbformat_minor": 0
}
