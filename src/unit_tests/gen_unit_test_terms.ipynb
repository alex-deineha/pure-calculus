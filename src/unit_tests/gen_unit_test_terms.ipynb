{
 "cells": [
  {
   "cell_type": "code",
   "execution_count": 20,
   "metadata": {
    "collapsed": true
   },
   "outputs": [],
   "source": [
    "import sys\n",
    "\n",
    "sys.path.append(\"../\")\n",
    "from calculus_path_mod.term_engine import *\n",
    "from calculus_path_mod.reduction_strategy import *\n",
    "from calculus_path_mod.json_serialization import save_terms\n",
    "\n",
    "Lambda = Abstraction\n",
    "App = Application"
   ]
  },
  {
   "cell_type": "markdown",
   "source": [
    "# <span style=\"color: #A1F99C\">USEFUL TERMS</span>"
   ],
   "metadata": {
    "collapsed": false
   }
  },
  {
   "cell_type": "code",
   "execution_count": 21,
   "outputs": [],
   "source": [
    "def ite_term():\n",
    "    x, y, c = Var(), Var(), Var()\n",
    "    x_, y_, c_ = Atom(x), Atom(y), Atom(c)\n",
    "    return Lambda(c, Lambda(x, Lambda(y, multi_app_term(c_, x_, y_))))\n",
    "\n",
    "\n",
    "def true_term():\n",
    "    x, y = Var(), Var()\n",
    "    x_ = Atom(x)\n",
    "    return Lambda(x, Lambda(y, x_))\n",
    "\n",
    "\n",
    "def num_zero_term():\n",
    "    s, z = Var(), Var()\n",
    "    z_ = Atom(z)\n",
    "    return Lambda(s, Lambda(z, z_))\n",
    "\n",
    "\n",
    "def num_term(n: int):\n",
    "    if n <= 0:\n",
    "        return num_zero_term()\n",
    "    s, z = Var(), Var()\n",
    "    s_, z_ = Atom(s), Atom(z)\n",
    "    core_term = App(s_, z_)\n",
    "    for _ in range(n - 1):\n",
    "        core_term = App(s_, core_term)\n",
    "    return Lambda(s, Lambda(z, core_term))\n",
    "\n",
    "\n",
    "def multi_app_term(term_0: Term, term_1: Term, *terms: Term):\n",
    "    res_app_term = App(term_0, term_1)\n",
    "    for term in terms:\n",
    "        res_app_term = App(res_app_term, term)\n",
    "    return res_app_term\n",
    "\n",
    "\n",
    "def false_term():\n",
    "    x, y = Var(), Var()\n",
    "    y_ = Atom(y)\n",
    "    return Lambda(x, Lambda(y, y_))\n",
    "\n",
    "\n",
    "def pair_term():\n",
    "    x, y, p = Var(), Var(), Var()\n",
    "    x_, y_, p_ = Atom(x), Atom(y), Atom(p)\n",
    "    return Lambda(x, Lambda(y, Lambda(p, multi_app_term(p_, x_, y_))))\n",
    "\n",
    "\n",
    "def first_term():\n",
    "    p = Var()\n",
    "    p_ = Atom(p)\n",
    "    return Lambda(p, App(p_, true_term()))\n",
    "\n",
    "\n",
    "def second_term():\n",
    "    p = Var()\n",
    "    p_ = Atom(p)\n",
    "    return Lambda(p, App(p_, false_term()))\n",
    "\n",
    "\n",
    "def succ_term():\n",
    "    x, y, n = Var(), Var(), Var()\n",
    "    x_, y_, n_ = Atom(x), Atom(y), Atom(n)\n",
    "    return Lambda(n, Lambda(x, Lambda(y, App(x_, multi_app_term(n_, x_, y_)))))\n",
    "\n",
    "\n",
    "def sinc_term():\n",
    "    p = Var()\n",
    "    p_ = Atom(p)\n",
    "    return Lambda(\n",
    "        p,\n",
    "        multi_app_term(\n",
    "            pair_term(),\n",
    "            App(second_term(), p_),\n",
    "            App(succ_term(), App(second_term(), p_)),\n",
    "        ),\n",
    "    )\n",
    "\n",
    "\n",
    "def pred_term():\n",
    "    n, f, x, g, h, u = Var(), Var(), Var(), Var(), Var(), Var()\n",
    "    n_, f_, x_ = Atom(n), Atom(f), Atom(x)\n",
    "    g_, h_, u_ = Atom(g), Atom(h), Atom(u)\n",
    "\n",
    "    return Lambda(n, Lambda(f, Lambda(x, multi_app_term(\n",
    "        n_,\n",
    "        Lambda(g, Lambda(h, App(h_, App(g_, f_)))),\n",
    "        Lambda(u, x_),\n",
    "        Lambda(u, u_)\n",
    "    ))))\n",
    "\n",
    "\n",
    "def plus_term():\n",
    "    n, m = Var(), Var()\n",
    "    n_, m_ = Atom(n), Atom(m)\n",
    "    return Lambda(m, Lambda(n, multi_app_term(n_, succ_term(), m_)))\n",
    "\n",
    "\n",
    "def subtract_term():\n",
    "    n, m = Var(), Var()\n",
    "    n_, m_ = Atom(n), Atom(m)\n",
    "    return Lambda(n, Lambda(m, multi_app_term(m_, pred_term(), n_)))\n",
    "\n",
    "\n",
    "def iszero_term():\n",
    "    x, n = Var(), Var()\n",
    "    n_ = Atom(n)\n",
    "    return Lambda(n, App(App(n_, Lambda(x, false_term())), true_term()))\n",
    "\n",
    "\n",
    "def leq_term():\n",
    "    n, m = Var(), Var()\n",
    "    n_, m_ = Atom(n), Atom(m)\n",
    "    return Lambda(\n",
    "        n, Lambda(m, App(iszero_term(), multi_app_term(subtract_term(), n_, m_)))\n",
    "    )\n",
    "\n",
    "\n",
    "def and_term():\n",
    "    a, b = Var(), Var()\n",
    "    a_, b_ = Atom(a), Atom(b)\n",
    "    return Lambda(a, Lambda(b, multi_app_term(ite_term(), a_, b_, a_)))\n",
    "\n",
    "\n",
    "def eq_term():\n",
    "    n, m = Var(), Var()\n",
    "    n_, m_ = Atom(n), Atom(m)\n",
    "    return Lambda(\n",
    "        n,\n",
    "        Lambda(\n",
    "            m,\n",
    "            multi_app_term(\n",
    "                and_term(),\n",
    "                multi_app_term(leq_term(), n_, m_),\n",
    "                multi_app_term(leq_term(), m_, n_),\n",
    "            ),\n",
    "        ),\n",
    "    )"
   ],
   "metadata": {
    "collapsed": false
   }
  },
  {
   "cell_type": "markdown",
   "source": [
    "# <span style=\"color: #A1F99C\">1.</span>\n",
    "<span style=\"color:#bb91f3\">(λx. (λy.y)) ((λx. (xx)) (λx. (xx)))</span> == <span style=\"color:#f1bd47\">I</span> == <span style=\"color:#f1bd47\">λx. x</span>\n",
    "<span style=\"color:#c9fafa\">This term reduce in one step by LO, RO strategy\n",
    "And reduce in the same terms with other strategy.</span>"
   ],
   "metadata": {
    "collapsed": false
   }
  },
  {
   "cell_type": "code",
   "execution_count": 22,
   "outputs": [],
   "source": [
    "def term_test_1():\n",
    "    x, y = Var(), Var()\n",
    "    x_, y_ = Atom(x), Atom(y)\n",
    "\n",
    "    expected_term = Lambda(x, x_)\n",
    "    return App(\n",
    "        Lambda(x, Lambda(y, y_)),\n",
    "        App(\n",
    "            Lambda(x, App(x_, x_)),\n",
    "            Lambda(x, App(x_, x_))\n",
    "        )\n",
    "    ), expected_term"
   ],
   "metadata": {
    "collapsed": false
   }
  },
  {
   "cell_type": "markdown",
   "source": [
    "# <span style=\"color: #A1F99C\">2.</span>\n",
    "<span style=\"color:#bb91f3\">(ITE TRUE 3 1)</span> == <span style=\"color:#f1bd47>\">3</span> == <span style=\"color:#f1bd47\">λx. λy. (x (x (x y)))</span>"
   ],
   "metadata": {
    "collapsed": false
   }
  },
  {
   "cell_type": "code",
   "execution_count": 23,
   "outputs": [],
   "source": [
    "def term_test_2():\n",
    "    expected_term = num_term(3)\n",
    "    return multi_app_term(ite_term(), true_term(), num_term(3), num_term(1)), expected_term"
   ],
   "metadata": {
    "collapsed": false
   }
  },
  {
   "cell_type": "markdown",
   "source": [
    "# <span style=\"color: #A1F99C\">3.</span>\n",
    "<span style=\"color:#bb91f3\">(ITE FALSE 0 4)</span> == <span style=\"color:#f1bd47\">4</span> == <span style=\"color:#f1bd47\">λx. λy. (x (x (x (x y))))</span>"
   ],
   "metadata": {
    "collapsed": false
   }
  },
  {
   "cell_type": "code",
   "execution_count": 24,
   "outputs": [],
   "source": [
    "def term_test_3():\n",
    "    expected_term = num_term(4)\n",
    "    return multi_app_term(ite_term(), false_term(), num_term(0), num_term(4)), expected_term"
   ],
   "metadata": {
    "collapsed": false
   }
  },
  {
   "cell_type": "markdown",
   "source": [
    "# <span style=\"color: #A1F99C\">4.</span>\n",
    "<span style=\"color:#bb91f3\">(PRED 0)</span> == <span style=\"color:#f1bd47\">0</span> == <span style=\"color:#f1bd47\">λx. λy. y</span>"
   ],
   "metadata": {
    "collapsed": false
   }
  },
  {
   "cell_type": "code",
   "execution_count": 25,
   "outputs": [],
   "source": [
    "def term_test_4():\n",
    "    expected_term = num_term(0)\n",
    "    return multi_app_term(pred_term(), num_term(0)), expected_term"
   ],
   "metadata": {
    "collapsed": false
   }
  },
  {
   "cell_type": "markdown",
   "source": [
    "# <span style=\"color: #A1F99C\">5.</span>\n",
    "<span style=\"color:#bb91f3\">(PRED 5)</span> == <span style=\"color:#f1bd47\">4</span> == <span style=\"color:#f1bd47\">λx. λy. (x (x (x (x y))))</span>"
   ],
   "metadata": {
    "collapsed": false
   }
  },
  {
   "cell_type": "code",
   "execution_count": 26,
   "outputs": [],
   "source": [
    "def term_test_5():\n",
    "    expected_term = num_term(4)\n",
    "    return multi_app_term(pred_term(), num_term(5)), expected_term"
   ],
   "metadata": {
    "collapsed": false
   }
  },
  {
   "cell_type": "markdown",
   "source": [
    "# <span style=\"color: #A1F99C\">6.</span>\n",
    "<span style=\"color:#bb91f3\">(PLUS 0 0)</span> == <span style=\"color:#f1bd47\">0</span> == <span style=\"color:#f1bd47\">λx. λy. y</span>"
   ],
   "metadata": {
    "collapsed": false
   }
  },
  {
   "cell_type": "code",
   "execution_count": 27,
   "outputs": [],
   "source": [
    "def term_test_6():\n",
    "    expected_term = num_term(0)\n",
    "    return multi_app_term(plus_term(), num_term(0), num_term(0)), expected_term"
   ],
   "metadata": {
    "collapsed": false
   }
  },
  {
   "cell_type": "markdown",
   "source": [
    "# <span style=\"color: #A1F99C\">7.</span>\n",
    "<span style=\"color:#bb91f3\">(PLUS 2 3)</span> == <span style=\"color:#f1bd47\">5</span> == <span style=\"color:#f1bd47\">λx. λy. (x (x (x (x (x y)))))</span>"
   ],
   "metadata": {
    "collapsed": false
   }
  },
  {
   "cell_type": "code",
   "execution_count": 28,
   "outputs": [],
   "source": [
    "def term_test_7():\n",
    "    expected_term = num_term(5)\n",
    "    return multi_app_term(plus_term(), num_term(2), num_term(3)), expected_term"
   ],
   "metadata": {
    "collapsed": false
   }
  },
  {
   "cell_type": "markdown",
   "source": [
    "# <span style=\"color: #A1F99C\">8.</span>\n",
    "<span style=\"color:#bb91f3\">(SUBTRACT 4 1)</span> == <span style=\"color:#f1bd47\">3</span> == <span style=\"color:#f1bd47\">λx. λy. (x (x (x y)))</span>"
   ],
   "metadata": {
    "collapsed": false
   }
  },
  {
   "cell_type": "code",
   "execution_count": 29,
   "outputs": [],
   "source": [
    "def term_test_8():\n",
    "    expected_term = num_term(3)\n",
    "    return multi_app_term(subtract_term(), num_term(4), num_term(1)), expected_term"
   ],
   "metadata": {
    "collapsed": false
   }
  },
  {
   "cell_type": "markdown",
   "source": [
    "# <span style=\"color: #A1F99C\">9.</span>\n",
    "<span style=\"color:#bb91f3\">(SUBTRACT 3 5)</span> == <span style=\"color:#f1bd47\">0</span> == <span style=\"color:#f1bd47\">λx. λy. y</span>"
   ],
   "metadata": {
    "collapsed": false
   }
  },
  {
   "cell_type": "code",
   "execution_count": 30,
   "outputs": [],
   "source": [
    "def term_test_9():\n",
    "    expected_term = num_term(0)\n",
    "    return multi_app_term(subtract_term(), num_term(3), num_term(5)), expected_term"
   ],
   "metadata": {
    "collapsed": false
   }
  },
  {
   "cell_type": "markdown",
   "source": [
    "# <span style=\"color: #A1F99C\">10.</span>\n",
    "<span style=\"color:#bb91f3\">(LEQ 3 2)</span> == <span style=\"color:#f1bd47\">FALSE</span> == <span style=\"color:#f1bd47\">λx. λy. y</span>"
   ],
   "metadata": {
    "collapsed": false
   }
  },
  {
   "cell_type": "code",
   "execution_count": 31,
   "outputs": [],
   "source": [
    "def term_test_10():\n",
    "    expected_term = false_term()\n",
    "    return multi_app_term(leq_term(), num_term(3), num_term(2)), expected_term"
   ],
   "metadata": {
    "collapsed": false
   }
  },
  {
   "cell_type": "markdown",
   "source": [
    "# <span style=\"color: #A1F99C\">11.</span>\n",
    "<span style=\"color:#bb91f3\">(LEQ 2 5)</span> == <span style=\"color:#f1bd47\">TRUE</span> == <span style=\"color:#f1bd47\">λx. λy. x</span>"
   ],
   "metadata": {
    "collapsed": false
   }
  },
  {
   "cell_type": "code",
   "execution_count": 32,
   "outputs": [],
   "source": [
    "def term_test_11():\n",
    "    expected_term = true_term()\n",
    "    return multi_app_term(leq_term(), num_term(2), num_term(5)), expected_term"
   ],
   "metadata": {
    "collapsed": false
   }
  },
  {
   "cell_type": "markdown",
   "source": [
    "# <span style=\"color: #A1F99C\">12.</span>\n",
    "<span style=\"color:#bb91f3\">(EQ 2 2)</span> == <span style=\"color:#f1bd47\">TRUE</span> == <span style=\"color:#f1bd47\">λx. λy. x</span>"
   ],
   "metadata": {
    "collapsed": false
   }
  },
  {
   "cell_type": "code",
   "execution_count": 33,
   "outputs": [],
   "source": [
    "def term_test_12():\n",
    "    expected_term = true_term()\n",
    "    return multi_app_term(eq_term(), num_term(2), num_term(2)), expected_term"
   ],
   "metadata": {
    "collapsed": false
   }
  },
  {
   "cell_type": "markdown",
   "source": [
    "# <span style=\"color: #A1F99C\">13.</span>\n",
    "<span style=\"color:#bb91f3\">(EQ 1 4)</span> == <span style=\"color:#f1bd47\">FALSE</span> == <span style=\"color:#f1bd47\">λx. λy. y</span>"
   ],
   "metadata": {
    "collapsed": false
   }
  },
  {
   "cell_type": "code",
   "execution_count": 34,
   "outputs": [],
   "source": [
    "def term_test_13():\n",
    "    expected_term = false_term()\n",
    "    return multi_app_term(eq_term(), num_term(1), num_term(4)), expected_term"
   ],
   "metadata": {
    "collapsed": false
   }
  },
  {
   "cell_type": "markdown",
   "source": [
    "# Save terms and expected normalized terms to the files"
   ],
   "metadata": {
    "collapsed": false
   }
  },
  {
   "cell_type": "code",
   "execution_count": 35,
   "outputs": [],
   "source": [
    "list_test_terms = [\n",
    "    term_test_1(),\n",
    "    term_test_2(),\n",
    "    term_test_3(),\n",
    "    term_test_4(),\n",
    "    term_test_5(),\n",
    "    term_test_6(),\n",
    "    term_test_7(),\n",
    "    term_test_8(),\n",
    "    term_test_9(),\n",
    "    term_test_10(),\n",
    "    term_test_11(),\n",
    "    term_test_12(),\n",
    "    term_test_13(),\n",
    "]"
   ],
   "metadata": {
    "collapsed": false
   }
  },
  {
   "cell_type": "code",
   "execution_count": 36,
   "outputs": [],
   "source": [
    "# save_terms(\"terms_src/test_terms.dat\", [tt[0] for tt in list_test_terms])\n",
    "# save_terms(\"terms_src/expected_terms.dat\", [tt[1] for tt in list_test_terms])"
   ],
   "metadata": {
    "collapsed": false
   }
  },
  {
   "cell_type": "code",
   "execution_count": 47,
   "outputs": [
    {
     "name": "stdout",
     "output_type": "stream",
     "text": [
      "(((λx.(λy.((λb.((b (λa.(λc.(λd.d)))) (λe.(λj.e)))) (((λi.(λn.((n (λm.(λt.(λr.(((m (λq.(λw.(w (q t))))) (λu.r)) (λu.u)))))) i))) x) y)))) (λo.(λp.(o (o (o p)))))) (λs.(λf.(s (s f)))))\n",
      "(λy.(λx.x))\n",
      "(λx.(λy.y))\n"
     ]
    }
   ],
   "source": [
    "tt1, et1 = list_test_terms[9]\n",
    "nt1, _ = tt1.normalize(LOStrategy())\n",
    "print(tt1.funky_str())\n",
    "print(nt1.funky_str())\n",
    "print(et1.funky_str())"
   ],
   "metadata": {
    "collapsed": false
   }
  },
  {
   "cell_type": "code",
   "execution_count": 48,
   "outputs": [
    {
     "name": "stdout",
     "output_type": "stream",
     "text": [
      "{5600: 9089, 5601: 9090}\n",
      "{9087: 9091, 9088: 9092}\n",
      "(λx.(λy.y))\n",
      "(λx.(λy.y))\n"
     ]
    }
   ],
   "source": [
    "et1.update_vars_order()\n",
    "nt1.update_vars_order()\n",
    "\n",
    "print(nt1.funky_str())\n",
    "print(et1.funky_str())"
   ],
   "metadata": {
    "collapsed": false
   }
  },
  {
   "cell_type": "code",
   "execution_count": 49,
   "outputs": [
    {
     "data": {
      "text/plain": "True"
     },
     "execution_count": 49,
     "metadata": {},
     "output_type": "execute_result"
    }
   ],
   "source": [
    "\"(λx.(λy.(x (x (x y)))))\" == \"(λx.(λy.(x (x (x y)))))\""
   ],
   "metadata": {
    "collapsed": false
   }
  },
  {
   "cell_type": "code",
   "execution_count": 38,
   "outputs": [],
   "source": [],
   "metadata": {
    "collapsed": false
   }
  }
 ],
 "metadata": {
  "kernelspec": {
   "display_name": "Python 3",
   "language": "python",
   "name": "python3"
  },
  "language_info": {
   "codemirror_mode": {
    "name": "ipython",
    "version": 2
   },
   "file_extension": ".py",
   "mimetype": "text/x-python",
   "name": "python",
   "nbconvert_exporter": "python",
   "pygments_lexer": "ipython2",
   "version": "2.7.6"
  }
 },
 "nbformat": 4,
 "nbformat_minor": 0
}
