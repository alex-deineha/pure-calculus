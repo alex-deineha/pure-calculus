{
 "cells": [
  {
   "cell_type": "code",
   "execution_count": 8,
   "metadata": {
    "collapsed": true,
    "ExecuteTime": {
     "start_time": "2023-06-02T19:30:33.866084Z",
     "end_time": "2023-06-02T19:30:33.932161Z"
    }
   },
   "outputs": [],
   "source": [
    "import sys\n",
    "from tqdm import tqdm\n",
    "\n",
    "sys.path.append(\"../\")\n",
    "from calculus_path_mod.term_engine import *\n",
    "from calculus_path_mod.reduction_strategy import *\n",
    "from calculus_path_mod.terms import num_comparison, nat_numbers, arithm_ops, combinators, pairs, logic\n",
    "\n",
    "from calculus_path_mod.terms.pseudonym import *"
   ]
  },
  {
   "cell_type": "code",
   "execution_count": 9,
   "outputs": [],
   "source": [
    "REDEX_TYPE = {\n",
    "    \"none\": \"none\",\n",
    "    \"norm\": \"NORM-REDEX\",\n",
    "    \"reduce\": \"REDUCE-REDEX\",\n",
    "    \"mult\": \"MULT-REDEX\"\n",
    "}\n",
    "\n",
    "\n",
    "class RedexesColoring:\n",
    "    def _get_redexes_indexes(self, term: Term, init_index: int = 0, path_depth: int = 0) -> dict:\n",
    "        \"\"\"\n",
    "        Using Left Outer strategy find all redexes, it's coordinates in the term tree,\n",
    "        and the depth value for each redex.\n",
    "\n",
    "        :param term: some Term is a current vertex\n",
    "        :param init_index: some index is a coordinate of the current vertex in the term tree\n",
    "        :param path_depth: depth in the term tree (simply recursion layer).\n",
    "        :return: dict where a key is a index (coordinate of redex in the term tree),\n",
    "                 and var is a depth from the tree root\n",
    "        \"\"\"\n",
    "\n",
    "        if (term.kind == \"atom\") or (len(term.redexes) == 0):\n",
    "            raise ValueError(\"The term doesn't contain a redex\")\n",
    "        if term.kind == \"application\":\n",
    "            result = dict()\n",
    "            if term.is_beta_redex:\n",
    "                result = {**result,\n",
    "                          **{init_index + 1: path_depth + 1}}\n",
    "            if len(term._data[0].redexes) != 0:\n",
    "                result = {**result,\n",
    "                          **self._get_redexes_indexes(term._data[0], init_index + 1, path_depth + 1)}\n",
    "            if len(term._data[1].redexes) != 0:\n",
    "                result = {**result,\n",
    "                          **self._get_redexes_indexes(term._data[1],\n",
    "                                                      init_index + term._data[0].vertices_number + 1,\n",
    "                                                      path_depth + 1)}\n",
    "            return result\n",
    "            # self is Abstraction:\n",
    "        return self._get_redexes_indexes(term._data[1], init_index + 1, path_depth + 1)\n",
    "\n",
    "    def get_colored_redexes(self, term: Term) -> dict:\n",
    "        dict_redexes_indexes = self._get_redexes_indexes(term)\n",
    "        dict_result = dict()\n",
    "        for key_, item_ in dict_redexes_indexes.items():\n",
    "            dict_result[key_] = [item_, REDEX_TYPE[\"none\"]]\n",
    "\n",
    "        for index_ in dict_result.keys():\n",
    "            redex_term = term.subterm(index_)\n",
    "\n",
    "            obj_term = redex_term._data[0]\n",
    "            subj_term = redex_term._data[1]\n",
    "\n",
    "            # look at obj-body\n",
    "            obj_x_var = obj_term._data[0]._data\n",
    "            obj_body_vars = obj_term._data[1]._vars\n",
    "\n",
    "            # if obj-body has free x\n",
    "            if obj_x_var in obj_body_vars.keys():  # check if x in obj_body\n",
    "                if obj_body_vars[obj_x_var]['free'] == 0:  # x is NOT free in obj_body\n",
    "                    if len(subj_term.redexes) == 0:\n",
    "                        dict_result[index_][1] = REDEX_TYPE[\"norm\"]\n",
    "                    else:\n",
    "                        dict_result[index_][1] = REDEX_TYPE[\"reduce\"]\n",
    "                elif obj_body_vars[obj_x_var]['free'] == 1:  # x is free in obj_body\n",
    "                    if subj_term.kind == \"atom\":\n",
    "                        dict_result[index_][1] = REDEX_TYPE[\"norm\"]\n",
    "                    elif subj_term.kind == \"application\":\n",
    "                        dict_result[index_][1] = REDEX_TYPE[\"norm\"]\n",
    "                    else:  # TODO find out the way to say it more precisely\n",
    "                        if obj_term._data[1].kind == 'atom':\n",
    "                            dict_result[index_][1] = REDEX_TYPE[\"norm\"]\n",
    "                        else:\n",
    "                            dict_result[index_][1] = REDEX_TYPE[\"mult\"]\n",
    "                else:  # many x is free in obj_body\n",
    "                    if subj_term.kind == \"atom\":\n",
    "                        dict_result[index_][1] = REDEX_TYPE[\"norm\"]\n",
    "                    elif subj_term.kind == \"application\":\n",
    "                        if len(subj_term.redexes) == 0:\n",
    "                            dict_result[index_][1] = REDEX_TYPE[\"norm\"]\n",
    "                        else:\n",
    "                            dict_result[index_][1] = REDEX_TYPE[\"mult\"]\n",
    "                    else:  # TODO find out the way to say it more precisely\n",
    "                        dict_result[index_][1] = REDEX_TYPE[\"mult\"]\n",
    "            else:  # x is not in obj_body\n",
    "                if len(subj_term.redexes) == 0:\n",
    "                    dict_result[index_][1] = REDEX_TYPE[\"norm\"]\n",
    "                else:\n",
    "                    dict_result[index_][1] = REDEX_TYPE[\"reduce\"]\n",
    "\n",
    "            print(\"\\n\\n------------------>\")\n",
    "            print(f\"index {index_}, term: {redex_term.funky_str()}\")\n",
    "            print(f\"obj_term: {obj_term.funky_str()}\")\n",
    "            print(f\"body obj_term vars: {obj_term._data[1]._vars}\")\n",
    "            print(f\"subj_term: {subj_term.funky_str()}\")\n",
    "\n",
    "        return dict_result"
   ],
   "metadata": {
    "collapsed": false,
    "ExecuteTime": {
     "start_time": "2023-06-02T19:30:33.877157Z",
     "end_time": "2023-06-02T19:30:33.946465Z"
    }
   }
  },
  {
   "cell_type": "markdown",
   "source": [
    "# Testing term"
   ],
   "metadata": {
    "collapsed": false
   }
  },
  {
   "cell_type": "code",
   "execution_count": 10,
   "outputs": [],
   "source": [
    "def i_term():\n",
    "    x = Var()\n",
    "    x_ = Atom(x)\n",
    "    return Lambda(x, x_)\n",
    "\n",
    "\n",
    "def omega_term(n: int):\n",
    "    x = Var()\n",
    "    x_ = Atom(x)\n",
    "    body_app_term = x_\n",
    "    for _ in range(n - 1):\n",
    "        body_app_term = App(body_app_term, x_)\n",
    "    return Lambda(x, body_app_term)\n",
    "\n",
    "\n",
    "def multi_i_term(m: int):\n",
    "    app_term = i_term()\n",
    "    for _ in range(m - 1):\n",
    "        app_term = App(app_term, i_term())\n",
    "    return app_term\n",
    "\n",
    "\n",
    "def omega_multi_i_term(n: int, m: int):\n",
    "    return App(omega_term(n), multi_i_term(m))"
   ],
   "metadata": {
    "collapsed": false,
    "ExecuteTime": {
     "start_time": "2023-06-02T19:30:33.886403Z",
     "end_time": "2023-06-02T19:30:33.947613Z"
    }
   }
  },
  {
   "cell_type": "code",
   "execution_count": 11,
   "outputs": [
    {
     "data": {
      "text/plain": "'((λx.((x x) x)) (((λy.y) (λa.a)) (λb.b)))'"
     },
     "execution_count": 11,
     "metadata": {},
     "output_type": "execute_result"
    }
   ],
   "source": [
    "testing_term = omega_multi_i_term(3, 3)\n",
    "testing_term.funky_str()"
   ],
   "metadata": {
    "collapsed": false,
    "ExecuteTime": {
     "start_time": "2023-06-02T19:30:33.891423Z",
     "end_time": "2023-06-02T19:30:33.998912Z"
    }
   }
  },
  {
   "cell_type": "markdown",
   "source": [
    "# Testing coloring"
   ],
   "metadata": {
    "collapsed": false
   }
  },
  {
   "cell_type": "code",
   "execution_count": 12,
   "outputs": [
    {
     "name": "stdout",
     "output_type": "stream",
     "text": [
      "\n",
      "\n",
      "------------------>\n",
      "index 1, term: ((λx.((x x) x)) (((λy.y) (λa.a)) (λb.b)))\n",
      "obj_term: (λx.((x x) x))\n",
      "body obj_term vars: {15: {'free': 3, 'bound': 0}}\n",
      "subj_term: (((λx.x) (λy.y)) (λa.a))\n",
      "\n",
      "\n",
      "------------------>\n",
      "index 9, term: ((λx.x) (λy.y))\n",
      "obj_term: (λx.x)\n",
      "body obj_term vars: {16: {'free': 1, 'bound': 0}}\n",
      "subj_term: (λx.x)\n",
      "{1: [1, 'MULT-REDEX'], 9: [3, 'NORM-REDEX']}\n",
      "\n",
      "\n",
      "***********************\n",
      "UPDATE BOUND VARS\n",
      "\n",
      "\n",
      "------------------>\n",
      "index 1, term: ((λx.((x x) x)) (((λy.y) (λa.a)) (λb.b)))\n",
      "obj_term: (λx.((x x) x))\n",
      "body obj_term vars: {19: {'free': 3, 'bound': 0}}\n",
      "subj_term: (((λx.x) (λy.y)) (λa.a))\n",
      "\n",
      "\n",
      "------------------>\n",
      "index 9, term: ((λx.x) (λy.y))\n",
      "obj_term: (λx.x)\n",
      "body obj_term vars: {20: {'free': 1, 'bound': 0}}\n",
      "subj_term: (λx.x)\n",
      "{1: [1, 'MULT-REDEX'], 9: [3, 'NORM-REDEX']}\n"
     ]
    }
   ],
   "source": [
    "rc = RedexesColoring()\n",
    "print(rc.get_colored_redexes(testing_term))\n",
    "print(\"\\n\\n***********************\\nUPDATE BOUND VARS\")\n",
    "print(rc.get_colored_redexes(testing_term._update_bound_vars()))"
   ],
   "metadata": {
    "collapsed": false,
    "ExecuteTime": {
     "start_time": "2023-06-02T19:30:33.897790Z",
     "end_time": "2023-06-02T19:30:33.998912Z"
    }
   }
  },
  {
   "cell_type": "markdown",
   "source": [
    "# Other terms for testing"
   ],
   "metadata": {
    "collapsed": false
   }
  },
  {
   "cell_type": "code",
   "execution_count": 13,
   "outputs": [],
   "source": [
    "def testing_procedure(t_term: Term):\n",
    "    rc_ = RedexesColoring()\n",
    "\n",
    "    print(f\"term: {t_term.funky_str()}\")\n",
    "    # print(f\"term: {t_term}\")\n",
    "    print(\"\\n\\n\", rc_.get_colored_redexes(t_term))\n",
    "\n",
    "    print(\"\\n\\n<<<<<<<<<<<<<<<<<<<<<<<<<<<<<<<<<<<\\nUPDATE BOUND VARS\")\n",
    "    t_term = t_term._update_bound_vars()\n",
    "    print(f\"term: {t_term.funky_str()}\")\n",
    "    # print(f\"term: {t_term}\")\n",
    "    print(\"\\n\\n\", rc_.get_colored_redexes(t_term))"
   ],
   "metadata": {
    "collapsed": false,
    "ExecuteTime": {
     "start_time": "2023-06-02T19:30:33.904025Z",
     "end_time": "2023-06-02T19:30:33.999971Z"
    }
   }
  },
  {
   "cell_type": "markdown",
   "source": [
    "## ** REDUCE TERM **********************************************************************"
   ],
   "metadata": {
    "collapsed": false
   }
  },
  {
   "cell_type": "code",
   "execution_count": 14,
   "outputs": [
    {
     "name": "stdout",
     "output_type": "stream",
     "text": [
      "term: ((λx.(y (λx.x))) (((λx.(x x)) (λy.(λa.((y a) x)))) ((λa.(a a)) (λy.(λa.((y a) x))))))\n",
      "\n",
      "\n",
      "------------------>\n",
      "index 1, term: ((λx.(y (λx.x))) (((λx.(x x)) (λy.(λa.((y a) x)))) ((λa.(a a)) (λy.(λa.((y a) x))))))\n",
      "obj_term: (λx.(y (λx.x)))\n",
      "body obj_term vars: {24: {'free': 1, 'bound': 0}, 23: {'free': 0, 'bound': 1}}\n",
      "subj_term: (((λx.(x x)) (λy.(λa.((y a) x)))) ((λa.(a a)) (λy.(λa.((y a) x)))))\n",
      "\n",
      "\n",
      "------------------>\n",
      "index 8, term: ((λx.(x x)) (λy.(λa.((y a) x))))\n",
      "obj_term: (λx.(x x))\n",
      "body obj_term vars: {23: {'free': 2, 'bound': 0}}\n",
      "subj_term: (λx.(λy.((x y) a)))\n",
      "\n",
      "\n",
      "------------------>\n",
      "index 20, term: ((λx.(x x)) (λy.(λx.((y x) a))))\n",
      "obj_term: (λx.(x x))\n",
      "body obj_term vars: {25: {'free': 2, 'bound': 0}}\n",
      "subj_term: (λx.(λy.((x y) a)))\n",
      "\n",
      "\n",
      " {1: [1, 'REDUCE-REDEX'], 8: [3, 'MULT-REDEX'], 20: [3, 'MULT-REDEX']}\n",
      "\n",
      "\n",
      "<<<<<<<<<<<<<<<<<<<<<<<<<<<<<<<<<<<\n",
      "UPDATE BOUND VARS\n",
      "term: ((λx.(y (λa.a))) (((λb.(b b)) (λc.(λd.((c d) e)))) ((λj.(j j)) (λi.(λn.((i n) e))))))\n",
      "\n",
      "\n",
      "------------------>\n",
      "index 1, term: ((λx.(y (λa.a))) (((λb.(b b)) (λc.(λd.((c d) e)))) ((λj.(j j)) (λi.(λn.((i n) e))))))\n",
      "obj_term: (λx.(y (λa.a)))\n",
      "body obj_term vars: {24: {'free': 1, 'bound': 0}, 28: {'free': 0, 'bound': 1}}\n",
      "subj_term: (((λx.(x x)) (λy.(λa.((y a) b)))) ((λc.(c c)) (λd.(λe.((d e) b)))))\n",
      "\n",
      "\n",
      "------------------>\n",
      "index 8, term: ((λx.(x x)) (λy.(λa.((y a) b))))\n",
      "obj_term: (λx.(x x))\n",
      "body obj_term vars: {29: {'free': 2, 'bound': 0}}\n",
      "subj_term: (λx.(λy.((x y) a)))\n",
      "\n",
      "\n",
      "------------------>\n",
      "index 20, term: ((λx.(x x)) (λy.(λa.((y a) b))))\n",
      "obj_term: (λx.(x x))\n",
      "body obj_term vars: {32: {'free': 2, 'bound': 0}}\n",
      "subj_term: (λx.(λy.((x y) a)))\n",
      "\n",
      "\n",
      " {1: [1, 'REDUCE-REDEX'], 8: [3, 'MULT-REDEX'], 20: [3, 'MULT-REDEX']}\n"
     ]
    }
   ],
   "source": [
    "def reduce_term_1():\n",
    "    x, y, z = Var(), Var(), Var()\n",
    "    x_, y_, z_ = Atom(x), Atom(y), Atom(z)\n",
    "\n",
    "    obj_term = Lambda(x, App(y_, Lambda(x, x_)))\n",
    "    subj_term = App(\n",
    "        App(Lambda(x, App(x_, x_)), Lambda(y, Lambda(z, multi_app_term(y_, z_, x_)))),\n",
    "        App(Lambda(z, App(z_, z_)), Lambda(y, Lambda(z, multi_app_term(y_, z_, x_))))\n",
    "    )\n",
    "\n",
    "    return App(obj_term, subj_term)\n",
    "\n",
    "\n",
    "testing_procedure(reduce_term_1())"
   ],
   "metadata": {
    "collapsed": false,
    "ExecuteTime": {
     "start_time": "2023-06-02T19:30:33.921353Z",
     "end_time": "2023-06-02T19:30:33.999971Z"
    }
   }
  },
  {
   "cell_type": "markdown",
   "source": [
    "## * NORM TERM ***************************************************************************"
   ],
   "metadata": {
    "collapsed": false
   }
  },
  {
   "cell_type": "code",
   "execution_count": 15,
   "outputs": [
    {
     "name": "stdout",
     "output_type": "stream",
     "text": [
      "term: ((λx.(y (λx.x))) (λx.x))\n",
      "\n",
      "\n",
      "------------------>\n",
      "index 1, term: ((λx.(y (λx.x))) (λx.x))\n",
      "obj_term: (λx.(y (λx.x)))\n",
      "body obj_term vars: {36: {'free': 1, 'bound': 0}, 35: {'free': 0, 'bound': 1}}\n",
      "subj_term: (λx.x)\n",
      "\n",
      "\n",
      " {1: [1, 'NORM-REDEX']}\n",
      "\n",
      "\n",
      "<<<<<<<<<<<<<<<<<<<<<<<<<<<<<<<<<<<\n",
      "UPDATE BOUND VARS\n",
      "term: ((λx.(y (λa.a))) (λb.b))\n",
      "\n",
      "\n",
      "------------------>\n",
      "index 1, term: ((λx.(y (λa.a))) (λb.b))\n",
      "obj_term: (λx.(y (λa.a)))\n",
      "body obj_term vars: {36: {'free': 1, 'bound': 0}, 40: {'free': 0, 'bound': 1}}\n",
      "subj_term: (λx.x)\n",
      "\n",
      "\n",
      " {1: [1, 'NORM-REDEX']}\n"
     ]
    }
   ],
   "source": [
    "def norm_term_1():\n",
    "    x, y, z = Var(), Var(), Var()\n",
    "    x_, y_, z_ = Atom(x), Atom(y), Atom(z)\n",
    "\n",
    "    obj_term = Lambda(x, App(y_, Lambda(x, x_)))\n",
    "    subj_term = Lambda(x, x_)\n",
    "\n",
    "    return App(obj_term, subj_term)\n",
    "\n",
    "\n",
    "testing_procedure(norm_term_1())"
   ],
   "metadata": {
    "collapsed": false,
    "ExecuteTime": {
     "start_time": "2023-06-02T19:30:33.927839Z",
     "end_time": "2023-06-02T19:30:34.017889Z"
    }
   }
  },
  {
   "cell_type": "code",
   "execution_count": 19,
   "outputs": [
    {
     "name": "stdout",
     "output_type": "stream",
     "text": [
      "term: ((λx.(x (λy.y))) a)\n",
      "\n",
      "\n",
      "------------------>\n",
      "index 1, term: ((λx.(x (λy.y))) a)\n",
      "obj_term: (λx.(x (λy.y)))\n",
      "body obj_term vars: {58: {'free': 1, 'bound': 0}, 59: {'free': 0, 'bound': 1}}\n",
      "subj_term: x\n",
      "\n",
      "\n",
      " {1: [1, 'NORM-REDEX']}\n",
      "\n",
      "\n",
      "<<<<<<<<<<<<<<<<<<<<<<<<<<<<<<<<<<<\n",
      "UPDATE BOUND VARS\n",
      "term: ((λx.(x (λy.y))) a)\n",
      "\n",
      "\n",
      "------------------>\n",
      "index 1, term: ((λx.(x (λy.y))) a)\n",
      "obj_term: (λx.(x (λy.y)))\n",
      "body obj_term vars: {61: {'free': 1, 'bound': 0}, 62: {'free': 0, 'bound': 1}}\n",
      "subj_term: x\n",
      "\n",
      "\n",
      " {1: [1, 'NORM-REDEX']}\n"
     ]
    }
   ],
   "source": [
    "def norm_term_2_v0():\n",
    "    x, y, z = Var(), Var(), Var()\n",
    "    x_, y_, z_ = Atom(x), Atom(y), Atom(z)\n",
    "\n",
    "    obj_term = Lambda(x, App(x_, Lambda(y, y_)))\n",
    "    subj_term = z_\n",
    "\n",
    "    return App(obj_term, subj_term)\n",
    "\n",
    "\n",
    "testing_procedure(norm_term_2_v0())"
   ],
   "metadata": {
    "collapsed": false,
    "ExecuteTime": {
     "start_time": "2023-06-02T19:33:55.634588Z",
     "end_time": "2023-06-02T19:33:55.644150Z"
    }
   }
  },
  {
   "cell_type": "code",
   "execution_count": 21,
   "outputs": [
    {
     "name": "stdout",
     "output_type": "stream",
     "text": [
      "term: ((λx.(x (λy.y))) (((a a) a) a))\n",
      "\n",
      "\n",
      "------------------>\n",
      "index 1, term: ((λx.(x (λy.y))) (((a a) a) a))\n",
      "obj_term: (λx.(x (λy.y)))\n",
      "body obj_term vars: {68: {'free': 1, 'bound': 0}, 69: {'free': 0, 'bound': 1}}\n",
      "subj_term: (((x x) x) x)\n",
      "\n",
      "\n",
      " {1: [1, 'NORM-REDEX']}\n",
      "\n",
      "\n",
      "<<<<<<<<<<<<<<<<<<<<<<<<<<<<<<<<<<<\n",
      "UPDATE BOUND VARS\n",
      "term: ((λx.(x (λy.y))) (((a a) a) a))\n",
      "\n",
      "\n",
      "------------------>\n",
      "index 1, term: ((λx.(x (λy.y))) (((a a) a) a))\n",
      "obj_term: (λx.(x (λy.y)))\n",
      "body obj_term vars: {71: {'free': 1, 'bound': 0}, 72: {'free': 0, 'bound': 1}}\n",
      "subj_term: (((x x) x) x)\n",
      "\n",
      "\n",
      " {1: [1, 'NORM-REDEX']}\n"
     ]
    }
   ],
   "source": [
    "def norm_term_2_v1():\n",
    "    x, y, z = Var(), Var(), Var()\n",
    "    x_, y_, z_ = Atom(x), Atom(y), Atom(z)\n",
    "\n",
    "    obj_term = Lambda(x, App(x_, Lambda(y, y_)))\n",
    "    subj_term = multi_app_term(z_, z_, z_, z_)\n",
    "\n",
    "    return App(obj_term, subj_term)\n",
    "\n",
    "\n",
    "testing_procedure(norm_term_2_v1())"
   ],
   "metadata": {
    "collapsed": false,
    "ExecuteTime": {
     "start_time": "2023-06-02T19:35:40.777322Z",
     "end_time": "2023-06-02T19:35:40.783881Z"
    }
   }
  },
  {
   "cell_type": "code",
   "execution_count": 23,
   "outputs": [
    {
     "name": "stdout",
     "output_type": "stream",
     "text": [
      "term: ((λx.((y y) x)) a)\n",
      "\n",
      "\n",
      "------------------>\n",
      "index 1, term: ((λx.((y y) x)) a)\n",
      "obj_term: (λx.((y y) x))\n",
      "body obj_term vars: {78: {'free': 2, 'bound': 0}, 76: {'free': 1, 'bound': 0}}\n",
      "subj_term: x\n",
      "\n",
      "\n",
      " {1: [1, 'NORM-REDEX']}\n",
      "\n",
      "\n",
      "<<<<<<<<<<<<<<<<<<<<<<<<<<<<<<<<<<<\n",
      "UPDATE BOUND VARS\n",
      "term: ((λx.((y y) x)) a)\n",
      "\n",
      "\n",
      "------------------>\n",
      "index 1, term: ((λx.((y y) x)) a)\n",
      "obj_term: (λx.((y y) x))\n",
      "body obj_term vars: {78: {'free': 2, 'bound': 0}, 79: {'free': 1, 'bound': 0}}\n",
      "subj_term: x\n",
      "\n",
      "\n",
      " {1: [1, 'NORM-REDEX']}\n"
     ]
    }
   ],
   "source": [
    "def norm_term_2_v2():\n",
    "    x, y, z = Var(), Var(), Var()\n",
    "    x_, y_, z_ = Atom(x), Atom(y), Atom(z)\n",
    "\n",
    "    obj_term = Lambda(x, multi_app_term(z_, z_, x_))\n",
    "    subj_term = y_\n",
    "\n",
    "    return App(obj_term, subj_term)\n",
    "\n",
    "\n",
    "testing_procedure(norm_term_2_v2())"
   ],
   "metadata": {
    "collapsed": false,
    "ExecuteTime": {
     "start_time": "2023-06-02T19:36:35.425404Z",
     "end_time": "2023-06-02T19:36:35.435159Z"
    }
   }
  },
  {
   "cell_type": "code",
   "execution_count": 24,
   "outputs": [
    {
     "name": "stdout",
     "output_type": "stream",
     "text": [
      "term: ((λx.((y y) x)) (((a a) a) a))\n",
      "\n",
      "\n",
      "------------------>\n",
      "index 1, term: ((λx.((y y) x)) (((a a) a) a))\n",
      "obj_term: (λx.((y y) x))\n",
      "body obj_term vars: {82: {'free': 2, 'bound': 0}, 80: {'free': 1, 'bound': 0}}\n",
      "subj_term: (((x x) x) x)\n",
      "\n",
      "\n",
      " {1: [1, 'NORM-REDEX']}\n",
      "\n",
      "\n",
      "<<<<<<<<<<<<<<<<<<<<<<<<<<<<<<<<<<<\n",
      "UPDATE BOUND VARS\n",
      "term: ((λx.((y y) x)) (((a a) a) a))\n",
      "\n",
      "\n",
      "------------------>\n",
      "index 1, term: ((λx.((y y) x)) (((a a) a) a))\n",
      "obj_term: (λx.((y y) x))\n",
      "body obj_term vars: {82: {'free': 2, 'bound': 0}, 83: {'free': 1, 'bound': 0}}\n",
      "subj_term: (((x x) x) x)\n",
      "\n",
      "\n",
      " {1: [1, 'NORM-REDEX']}\n"
     ]
    }
   ],
   "source": [
    "def norm_term_2_v3():\n",
    "    x, y, z = Var(), Var(), Var()\n",
    "    x_, y_, z_ = Atom(x), Atom(y), Atom(z)\n",
    "\n",
    "    obj_term = Lambda(x, multi_app_term(z_, z_, x_))\n",
    "    subj_term = multi_app_term(y_, y_, y_, y_)\n",
    "\n",
    "    return App(obj_term, subj_term)\n",
    "\n",
    "\n",
    "testing_procedure(norm_term_2_v3())"
   ],
   "metadata": {
    "collapsed": false,
    "ExecuteTime": {
     "start_time": "2023-06-02T19:37:08.858467Z",
     "end_time": "2023-06-02T19:37:08.863676Z"
    }
   }
  },
  {
   "cell_type": "code",
   "execution_count": 25,
   "outputs": [
    {
     "name": "stdout",
     "output_type": "stream",
     "text": [
      "term: ((λx.(((x x) x) x)) y)\n",
      "\n",
      "\n",
      "------------------>\n",
      "index 1, term: ((λx.(((x x) x) x)) y)\n",
      "obj_term: (λx.(((x x) x) x))\n",
      "body obj_term vars: {84: {'free': 4, 'bound': 0}}\n",
      "subj_term: x\n",
      "\n",
      "\n",
      " {1: [1, 'NORM-REDEX']}\n",
      "\n",
      "\n",
      "<<<<<<<<<<<<<<<<<<<<<<<<<<<<<<<<<<<\n",
      "UPDATE BOUND VARS\n",
      "term: ((λx.(((x x) x) x)) y)\n",
      "\n",
      "\n",
      "------------------>\n",
      "index 1, term: ((λx.(((x x) x) x)) y)\n",
      "obj_term: (λx.(((x x) x) x))\n",
      "body obj_term vars: {87: {'free': 4, 'bound': 0}}\n",
      "subj_term: x\n",
      "\n",
      "\n",
      " {1: [1, 'NORM-REDEX']}\n"
     ]
    }
   ],
   "source": [
    "def norm_term_2_v4():\n",
    "    x, y, z = Var(), Var(), Var()\n",
    "    x_, y_, z_ = Atom(x), Atom(y), Atom(z)\n",
    "\n",
    "    obj_term = Lambda(x, multi_app_term(x_, x_, x_, x_))\n",
    "    subj_term = y_\n",
    "\n",
    "    return App(obj_term, subj_term)\n",
    "\n",
    "\n",
    "testing_procedure(norm_term_2_v4())"
   ],
   "metadata": {
    "collapsed": false,
    "ExecuteTime": {
     "start_time": "2023-06-02T19:37:43.332265Z",
     "end_time": "2023-06-02T19:37:43.338812Z"
    }
   }
  },
  {
   "cell_type": "code",
   "execution_count": 27,
   "outputs": [
    {
     "name": "stdout",
     "output_type": "stream",
     "text": [
      "term: ((λx.(((x x) x) x)) ((((y y) y) y) (((y y) y) y)))\n",
      "\n",
      "\n",
      "------------------>\n",
      "index 1, term: ((λx.(((x x) x) x)) ((((y y) y) y) (((y y) y) y)))\n",
      "obj_term: (λx.(((x x) x) x))\n",
      "body obj_term vars: {92: {'free': 4, 'bound': 0}}\n",
      "subj_term: ((((x x) x) x) (((x x) x) x))\n",
      "\n",
      "\n",
      " {1: [1, 'NORM-REDEX']}\n",
      "\n",
      "\n",
      "<<<<<<<<<<<<<<<<<<<<<<<<<<<<<<<<<<<\n",
      "UPDATE BOUND VARS\n",
      "term: ((λx.(((x x) x) x)) ((((y y) y) y) (((y y) y) y)))\n",
      "\n",
      "\n",
      "------------------>\n",
      "index 1, term: ((λx.(((x x) x) x)) ((((y y) y) y) (((y y) y) y)))\n",
      "obj_term: (λx.(((x x) x) x))\n",
      "body obj_term vars: {95: {'free': 4, 'bound': 0}}\n",
      "subj_term: ((((x x) x) x) (((x x) x) x))\n",
      "\n",
      "\n",
      " {1: [1, 'NORM-REDEX']}\n"
     ]
    }
   ],
   "source": [
    "def norm_term_2_v5():\n",
    "    x, y, z = Var(), Var(), Var()\n",
    "    x_, y_, z_ = Atom(x), Atom(y), Atom(z)\n",
    "\n",
    "    obj_term = Lambda(x, multi_app_term(x_, x_, x_, x_))\n",
    "    subj_term = App(multi_app_term(y_, y_, y_, y_), multi_app_term(y_, y_, y_, y_))\n",
    "\n",
    "    return App(obj_term, subj_term)\n",
    "\n",
    "\n",
    "testing_procedure(norm_term_2_v5())"
   ],
   "metadata": {
    "collapsed": false,
    "ExecuteTime": {
     "start_time": "2023-06-02T19:40:17.448754Z",
     "end_time": "2023-06-02T19:40:17.470626Z"
    }
   }
  },
  {
   "cell_type": "code",
   "execution_count": 28,
   "outputs": [
    {
     "name": "stdout",
     "output_type": "stream",
     "text": [
      "term: ((λx.x) y)\n",
      "\n",
      "\n",
      "------------------>\n",
      "index 1, term: ((λx.x) y)\n",
      "obj_term: (λx.x)\n",
      "body obj_term vars: {96: {'free': 1, 'bound': 0}}\n",
      "subj_term: x\n",
      "\n",
      "\n",
      " {1: [1, 'NORM-REDEX']}\n",
      "\n",
      "\n",
      "<<<<<<<<<<<<<<<<<<<<<<<<<<<<<<<<<<<\n",
      "UPDATE BOUND VARS\n",
      "term: ((λx.x) y)\n",
      "\n",
      "\n",
      "------------------>\n",
      "index 1, term: ((λx.x) y)\n",
      "obj_term: (λx.x)\n",
      "body obj_term vars: {99: {'free': 1, 'bound': 0}}\n",
      "subj_term: x\n",
      "\n",
      "\n",
      " {1: [1, 'NORM-REDEX']}\n"
     ]
    }
   ],
   "source": [
    "def norm_term_3_v0():\n",
    "    x, y, z = Var(), Var(), Var()\n",
    "    x_, y_, z_ = Atom(x), Atom(y), Atom(z)\n",
    "\n",
    "    obj_term = Lambda(x, x_)\n",
    "    subj_term = y_\n",
    "\n",
    "    return App(obj_term, subj_term)\n",
    "\n",
    "\n",
    "testing_procedure(norm_term_3_v0())"
   ],
   "metadata": {
    "collapsed": false,
    "ExecuteTime": {
     "start_time": "2023-06-02T19:42:25.419725Z",
     "end_time": "2023-06-02T19:42:25.424170Z"
    }
   }
  },
  {
   "cell_type": "code",
   "execution_count": 29,
   "outputs": [
    {
     "name": "stdout",
     "output_type": "stream",
     "text": [
      "term: ((λx.x) (λy.((a y) x)))\n",
      "\n",
      "\n",
      "------------------>\n",
      "index 1, term: ((λx.x) (λy.((a y) x)))\n",
      "obj_term: (λx.x)\n",
      "body obj_term vars: {100: {'free': 1, 'bound': 0}}\n",
      "subj_term: (λx.((y x) a))\n",
      "\n",
      "\n",
      " {1: [1, 'NORM-REDEX']}\n",
      "\n",
      "\n",
      "<<<<<<<<<<<<<<<<<<<<<<<<<<<<<<<<<<<\n",
      "UPDATE BOUND VARS\n",
      "term: ((λx.x) (λy.((a y) b)))\n",
      "\n",
      "\n",
      "------------------>\n",
      "index 1, term: ((λx.x) (λy.((a y) b)))\n",
      "obj_term: (λx.x)\n",
      "body obj_term vars: {103: {'free': 1, 'bound': 0}}\n",
      "subj_term: (λx.((y x) a))\n",
      "\n",
      "\n",
      " {1: [1, 'NORM-REDEX']}\n"
     ]
    }
   ],
   "source": [
    "def norm_term_3_v2():\n",
    "    x, y, z = Var(), Var(), Var()\n",
    "    x_, y_, z_ = Atom(x), Atom(y), Atom(z)\n",
    "\n",
    "    obj_term = Lambda(x, x_)\n",
    "    subj_term = Lambda(z, multi_app_term(y_, z_, x_))\n",
    "\n",
    "    return App(obj_term, subj_term)\n",
    "\n",
    "\n",
    "testing_procedure(norm_term_3_v2())"
   ],
   "metadata": {
    "collapsed": false,
    "ExecuteTime": {
     "start_time": "2023-06-02T19:43:04.621507Z",
     "end_time": "2023-06-02T19:43:04.644685Z"
    }
   }
  },
  {
   "cell_type": "code",
   "execution_count": 32,
   "outputs": [
    {
     "name": "stdout",
     "output_type": "stream",
     "text": [
      "term: ((λx.x) (λy.((y a) y)))\n",
      "\n",
      "\n",
      "------------------>\n",
      "index 1, term: ((λx.x) (λy.((y a) y)))\n",
      "obj_term: (λx.x)\n",
      "body obj_term vars: {113: {'free': 1, 'bound': 0}}\n",
      "subj_term: (λx.((x y) x))\n",
      "\n",
      "\n",
      " {1: [1, 'NORM-REDEX']}\n",
      "\n",
      "\n",
      "<<<<<<<<<<<<<<<<<<<<<<<<<<<<<<<<<<<\n",
      "UPDATE BOUND VARS\n",
      "term: ((λx.x) (λy.((y a) y)))\n",
      "\n",
      "\n",
      "------------------>\n",
      "index 1, term: ((λx.x) (λy.((y a) y)))\n",
      "obj_term: (λx.x)\n",
      "body obj_term vars: {116: {'free': 1, 'bound': 0}}\n",
      "subj_term: (λx.((x y) x))\n",
      "\n",
      "\n",
      " {1: [1, 'NORM-REDEX']}\n"
     ]
    }
   ],
   "source": [
    "def norm_term_3_v3():\n",
    "    x, y, z = Var(), Var(), Var()\n",
    "    x_, y_, z_ = Atom(x), Atom(y), Atom(z)\n",
    "\n",
    "    obj_term = Lambda(x, x_)\n",
    "    subj_term = Lambda(z, multi_app_term(z_, y_, z_))\n",
    "\n",
    "    return App(obj_term, subj_term)\n",
    "\n",
    "\n",
    "testing_procedure(norm_term_3_v3())"
   ],
   "metadata": {
    "collapsed": false,
    "ExecuteTime": {
     "start_time": "2023-06-02T19:45:19.660966Z",
     "end_time": "2023-06-02T19:45:19.675835Z"
    }
   }
  },
  {
   "cell_type": "markdown",
   "source": [
    "## * MULT TERM ***************************************************************************"
   ],
   "metadata": {
    "collapsed": false
   }
  },
  {
   "cell_type": "code",
   "execution_count": 33,
   "outputs": [
    {
     "name": "stdout",
     "output_type": "stream",
     "text": [
      "term: ((λx.(x x)) (((λx.(x x)) (λy.(λa.((y a) x)))) ((λa.(a a)) (λy.(λa.((y a) x))))))\n",
      "\n",
      "\n",
      "------------------>\n",
      "index 1, term: ((λx.(x x)) (((λx.(x x)) (λy.(λa.((y a) x)))) ((λa.(a a)) (λy.(λa.((y a) x))))))\n",
      "obj_term: (λx.(x x))\n",
      "body obj_term vars: {118: {'free': 2, 'bound': 0}}\n",
      "subj_term: (((λx.(x x)) (λy.(λa.((y a) x)))) ((λa.(a a)) (λy.(λa.((y a) x)))))\n",
      "\n",
      "\n",
      "------------------>\n",
      "index 7, term: ((λx.(x x)) (λy.(λa.((y a) x))))\n",
      "obj_term: (λx.(x x))\n",
      "body obj_term vars: {118: {'free': 2, 'bound': 0}}\n",
      "subj_term: (λx.(λy.((x y) a)))\n",
      "\n",
      "\n",
      "------------------>\n",
      "index 19, term: ((λx.(x x)) (λy.(λx.((y x) a))))\n",
      "obj_term: (λx.(x x))\n",
      "body obj_term vars: {120: {'free': 2, 'bound': 0}}\n",
      "subj_term: (λx.(λy.((x y) a)))\n",
      "\n",
      "\n",
      " {1: [1, 'MULT-REDEX'], 7: [3, 'MULT-REDEX'], 19: [3, 'MULT-REDEX']}\n",
      "\n",
      "\n",
      "<<<<<<<<<<<<<<<<<<<<<<<<<<<<<<<<<<<\n",
      "UPDATE BOUND VARS\n",
      "term: ((λx.(x x)) (((λy.(y y)) (λa.(λb.((a b) c)))) ((λd.(d d)) (λe.(λj.((e j) c))))))\n",
      "\n",
      "\n",
      "------------------>\n",
      "index 1, term: ((λx.(x x)) (((λy.(y y)) (λa.(λb.((a b) c)))) ((λd.(d d)) (λe.(λj.((e j) c))))))\n",
      "obj_term: (λx.(x x))\n",
      "body obj_term vars: {121: {'free': 2, 'bound': 0}}\n",
      "subj_term: (((λx.(x x)) (λy.(λa.((y a) b)))) ((λc.(c c)) (λd.(λe.((d e) b)))))\n",
      "\n",
      "\n",
      "------------------>\n",
      "index 7, term: ((λx.(x x)) (λy.(λa.((y a) b))))\n",
      "obj_term: (λx.(x x))\n",
      "body obj_term vars: {122: {'free': 2, 'bound': 0}}\n",
      "subj_term: (λx.(λy.((x y) a)))\n",
      "\n",
      "\n",
      "------------------>\n",
      "index 19, term: ((λx.(x x)) (λy.(λa.((y a) b))))\n",
      "obj_term: (λx.(x x))\n",
      "body obj_term vars: {125: {'free': 2, 'bound': 0}}\n",
      "subj_term: (λx.(λy.((x y) a)))\n",
      "\n",
      "\n",
      " {1: [1, 'MULT-REDEX'], 7: [3, 'MULT-REDEX'], 19: [3, 'MULT-REDEX']}\n"
     ]
    }
   ],
   "source": [
    "def mult_term_1():\n",
    "    x, y, z = Var(), Var(), Var()\n",
    "    x_, y_, z_ = Atom(x), Atom(y), Atom(z)\n",
    "\n",
    "    obj_term = Lambda(x, App(x_, x_))\n",
    "    subj_term = App(\n",
    "        App(Lambda(x, App(x_, x_)), Lambda(y, Lambda(z, multi_app_term(y_, z_, x_)))),\n",
    "        App(Lambda(z, App(z_, z_)), Lambda(y, Lambda(z, multi_app_term(y_, z_, x_))))\n",
    "    )\n",
    "\n",
    "    return App(obj_term, subj_term)\n",
    "\n",
    "\n",
    "testing_procedure(mult_term_1())"
   ],
   "metadata": {
    "collapsed": false,
    "ExecuteTime": {
     "start_time": "2023-06-02T19:47:11.213089Z",
     "end_time": "2023-06-02T19:47:11.230499Z"
    }
   }
  },
  {
   "cell_type": "code",
   "execution_count": 35,
   "outputs": [
    {
     "name": "stdout",
     "output_type": "stream",
     "text": [
      "term: ((λx.(x (λy.y))) (λa.((a y) a)))\n",
      "\n",
      "\n",
      "------------------>\n",
      "index 1, term: ((λx.(x (λy.y))) (λa.((a y) a)))\n",
      "obj_term: (λx.(x (λy.y)))\n",
      "body obj_term vars: {131: {'free': 1, 'bound': 0}, 132: {'free': 0, 'bound': 1}}\n",
      "subj_term: (λx.((x y) x))\n",
      "\n",
      "\n",
      " {1: [1, 'MULT-REDEX']}\n",
      "\n",
      "\n",
      "<<<<<<<<<<<<<<<<<<<<<<<<<<<<<<<<<<<\n",
      "UPDATE BOUND VARS\n",
      "term: ((λx.(x (λy.y))) (λa.((a b) a)))\n",
      "\n",
      "\n",
      "------------------>\n",
      "index 1, term: ((λx.(x (λy.y))) (λa.((a b) a)))\n",
      "obj_term: (λx.(x (λy.y)))\n",
      "body obj_term vars: {134: {'free': 1, 'bound': 0}, 135: {'free': 0, 'bound': 1}}\n",
      "subj_term: (λx.((x y) x))\n",
      "\n",
      "\n",
      " {1: [1, 'MULT-REDEX']}\n"
     ]
    }
   ],
   "source": [
    "def mult_term_2_v0():\n",
    "    x, y, z = Var(), Var(), Var()\n",
    "    x_, y_, z_ = Atom(x), Atom(y), Atom(z)\n",
    "\n",
    "    obj_term = Lambda(x, App(x_, Lambda(y, y_)))\n",
    "    subj_term = Lambda(z, multi_app_term(z_, y_, z_))\n",
    "\n",
    "    return App(obj_term, subj_term)\n",
    "\n",
    "\n",
    "testing_procedure(mult_term_2_v0())"
   ],
   "metadata": {
    "collapsed": false,
    "ExecuteTime": {
     "start_time": "2023-06-02T19:48:52.423024Z",
     "end_time": "2023-06-02T19:48:52.447092Z"
    }
   }
  },
  {
   "cell_type": "code",
   "execution_count": 36,
   "outputs": [
    {
     "name": "stdout",
     "output_type": "stream",
     "text": [
      "term: ((λx.((λy.y) x)) (λa.((a y) a)))\n",
      "\n",
      "\n",
      "------------------>\n",
      "index 1, term: ((λx.((λy.y) x)) (λa.((a y) a)))\n",
      "obj_term: (λx.((λy.y) x))\n",
      "body obj_term vars: {138: {'free': 0, 'bound': 1}, 137: {'free': 1, 'bound': 0}}\n",
      "subj_term: (λx.((x y) x))\n",
      "\n",
      "\n",
      "------------------>\n",
      "index 3, term: ((λx.x) y)\n",
      "obj_term: (λx.x)\n",
      "body obj_term vars: {138: {'free': 1, 'bound': 0}}\n",
      "subj_term: x\n",
      "\n",
      "\n",
      " {1: [1, 'MULT-REDEX'], 3: [3, 'NORM-REDEX']}\n",
      "\n",
      "\n",
      "<<<<<<<<<<<<<<<<<<<<<<<<<<<<<<<<<<<\n",
      "UPDATE BOUND VARS\n",
      "term: ((λx.((λy.y) x)) (λa.((a b) a)))\n",
      "\n",
      "\n",
      "------------------>\n",
      "index 1, term: ((λx.((λy.y) x)) (λa.((a b) a)))\n",
      "obj_term: (λx.((λy.y) x))\n",
      "body obj_term vars: {141: {'free': 0, 'bound': 1}, 140: {'free': 1, 'bound': 0}}\n",
      "subj_term: (λx.((x y) x))\n",
      "\n",
      "\n",
      "------------------>\n",
      "index 3, term: ((λx.x) y)\n",
      "obj_term: (λx.x)\n",
      "body obj_term vars: {141: {'free': 1, 'bound': 0}}\n",
      "subj_term: x\n",
      "\n",
      "\n",
      " {1: [1, 'MULT-REDEX'], 3: [3, 'NORM-REDEX']}\n"
     ]
    }
   ],
   "source": [
    "def mult_term_2_v1():\n",
    "    x, y, z = Var(), Var(), Var()\n",
    "    x_, y_, z_ = Atom(x), Atom(y), Atom(z)\n",
    "\n",
    "    obj_term = Lambda(x, App(Lambda(y, y_), x_))\n",
    "    subj_term = Lambda(z, multi_app_term(z_, y_, z_))\n",
    "\n",
    "    return App(obj_term, subj_term)\n",
    "\n",
    "\n",
    "testing_procedure(mult_term_2_v1())"
   ],
   "metadata": {
    "collapsed": false,
    "ExecuteTime": {
     "start_time": "2023-06-02T19:49:28.169306Z",
     "end_time": "2023-06-02T19:49:28.178322Z"
    }
   }
  },
  {
   "cell_type": "code",
   "execution_count": 37,
   "outputs": [
    {
     "name": "stdout",
     "output_type": "stream",
     "text": [
      "term: ((λx.(((x x) x) x)) (λy.((y a) y)))\n",
      "\n",
      "\n",
      "------------------>\n",
      "index 1, term: ((λx.(((x x) x) x)) (λy.((y a) y)))\n",
      "obj_term: (λx.(((x x) x) x))\n",
      "body obj_term vars: {143: {'free': 4, 'bound': 0}}\n",
      "subj_term: (λx.((x y) x))\n",
      "\n",
      "\n",
      " {1: [1, 'MULT-REDEX']}\n",
      "\n",
      "\n",
      "<<<<<<<<<<<<<<<<<<<<<<<<<<<<<<<<<<<\n",
      "UPDATE BOUND VARS\n",
      "term: ((λx.(((x x) x) x)) (λy.((y a) y)))\n",
      "\n",
      "\n",
      "------------------>\n",
      "index 1, term: ((λx.(((x x) x) x)) (λy.((y a) y)))\n",
      "obj_term: (λx.(((x x) x) x))\n",
      "body obj_term vars: {146: {'free': 4, 'bound': 0}}\n",
      "subj_term: (λx.((x y) x))\n",
      "\n",
      "\n",
      " {1: [1, 'MULT-REDEX']}\n"
     ]
    }
   ],
   "source": [
    "def mult_term_2_v2():\n",
    "    x, y, z = Var(), Var(), Var()\n",
    "    x_, y_, z_ = Atom(x), Atom(y), Atom(z)\n",
    "\n",
    "    obj_term = Lambda(x, multi_app_term(x_, x_, x_, x_))\n",
    "    subj_term = Lambda(z, multi_app_term(z_, y_, z_))\n",
    "\n",
    "    return App(obj_term, subj_term)\n",
    "\n",
    "\n",
    "testing_procedure(mult_term_2_v2())"
   ],
   "metadata": {
    "collapsed": false,
    "ExecuteTime": {
     "start_time": "2023-06-02T19:51:02.570582Z",
     "end_time": "2023-06-02T19:51:02.579142Z"
    }
   }
  },
  {
   "cell_type": "code",
   "execution_count": null,
   "outputs": [],
   "source": [],
   "metadata": {
    "collapsed": false
   }
  }
 ],
 "metadata": {
  "kernelspec": {
   "display_name": "Python 3",
   "language": "python",
   "name": "python3"
  },
  "language_info": {
   "codemirror_mode": {
    "name": "ipython",
    "version": 2
   },
   "file_extension": ".py",
   "mimetype": "text/x-python",
   "name": "python",
   "nbconvert_exporter": "python",
   "pygments_lexer": "ipython2",
   "version": "2.7.6"
  }
 },
 "nbformat": 4,
 "nbformat_minor": 0
}
