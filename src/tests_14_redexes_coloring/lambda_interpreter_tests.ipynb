{
 "cells": [
  {
   "cell_type": "code",
   "execution_count": 1,
   "outputs": [],
   "source": [
    "import sys\n",
    "import re\n",
    "from tqdm import tqdm\n",
    "\n",
    "sys.path.append(\"../\")\n",
    "from calculus_path_mod.term_engine import *\n",
    "from calculus_path_mod.reduction_strategy import *\n",
    "from calculus_path_mod.terms import num_comparison, nat_numbers, arithm_ops, combinators, pairs, logic\n",
    "\n",
    "from calculus_path_mod.terms.pseudonym import *"
   ],
   "metadata": {
    "collapsed": false
   }
  },
  {
   "cell_type": "code",
   "execution_count": 20,
   "outputs": [],
   "source": [
    "LAMBDA_COMMANDS_DICT = {\n",
    "    # logic\n",
    "    \"TRUE\": \"logic.true_term()\",\n",
    "    \"FALSE\": \"logic.false_term()\",\n",
    "    \"IF\": \"logic.ite_term()\",\n",
    "    \"ITE\": \"logic.ite_term()\",\n",
    "    \"NOT\": \"logic.not_term()\",\n",
    "    \"AND\": \"logic.and_term()\",\n",
    "    \"OR\": \"logic.or_term()\",\n",
    "\n",
    "    # combinators\n",
    "    \"K\": \"combinators.k_term()\",\n",
    "    \"K_STAR\": \"combinators.k_star_term()\",\n",
    "    \"S\": \"combinators.s_term()\",\n",
    "    \"I\": \"combinators.i_term()\",\n",
    "    \"Y\": \"combinators.y_term()\",\n",
    "    \"Z\": \"combinators.z_term()\",\n",
    "    \"ETTA_V\": \"combinators.etta_v_term()\",\n",
    "\n",
    "    # nat numbers\n",
    "    \"NUM\": \"nat_numbers.num_term(\",\n",
    "\n",
    "    # num comparison\n",
    "    \"ISZERO\": \"num_comparison.iszero_term()\",\n",
    "    \"LEQ\": \"num_comparison.leq_term()\",\n",
    "    \"EQ\": \"num_comparison.eq_term()\",\n",
    "    \"LT\": \"num_comparison.lt_term()\",\n",
    "    \"NEQ\": \"num_comparison.neq_term()\",\n",
    "    \"GEQ\": \"num_comparison.geq_term()\",\n",
    "    \"GT\": \"num_comparison.gt_term()\",\n",
    "\n",
    "    # pairs\n",
    "    \"PAIR\": \"pairs.pair_term()\",\n",
    "    \"FIRST\": \"pairs.first_term()\",\n",
    "    \"SECOND\": \"pairs.second_term()\",\n",
    "\n",
    "    # arithm ops\n",
    "    \"SUCC\": \"arithm_ops.succ_term()\",\n",
    "    \"SINC\": \"arithm_ops.sinc_term()\",\n",
    "    \"PRED\": \"arithm_ops.pred_term()\",\n",
    "    \"SUBTRACT\": \"arithm_ops.subtract_term()\",\n",
    "    \"MINUS\": \"arithm_ops.subtract_term()\",\n",
    "    \"DIV\": \"arithm_ops.div_term()\",\n",
    "    \"MOD\": \"arithm_ops.mod_term()\",\n",
    "    \"IDIV\": \"arithm_ops.idiv_term()\",\n",
    "    \"PLUS\": \"arithm_ops.plus_term()\",\n",
    "    \"SUM\": \"arithm_ops.plus_term()\",\n",
    "    \"MULT\": \"arithm_ops.mult_term()\",\n",
    "}\n",
    "\n",
    "\n",
    "def tokenize_term(lambda_code) -> list:\n",
    "    brackets_counter = 0\n",
    "    is_not_tokenized = True\n",
    "\n",
    "    is_not_space_delimited = True\n",
    "\n",
    "    lambda_code_tokenized = \"\"\n",
    "    for symbol in lambda_code:\n",
    "        if symbol == \"(\":\n",
    "            brackets_counter += 1\n",
    "        if symbol == \")\":\n",
    "            brackets_counter -= 1\n",
    "        if brackets_counter == 0:\n",
    "            is_not_tokenized = True\n",
    "        if brackets_counter == 1:\n",
    "            if is_not_tokenized:\n",
    "                lambda_code_tokenized += \"><\"\n",
    "                is_not_tokenized = False\n",
    "        if brackets_counter == 0:\n",
    "            if is_not_space_delimited:\n",
    "                if symbol == \" \":\n",
    "                    lambda_code_tokenized += \"><\"\n",
    "                    is_not_space_delimited = False\n",
    "            else:\n",
    "                if symbol != \" \":\n",
    "                    is_not_space_delimited = True\n",
    "\n",
    "        lambda_code_tokenized += symbol\n",
    "\n",
    "    lambda_code_tokenized = [token.strip() for token in lambda_code_tokenized.split(\"><\")]\n",
    "    lambda_code_tokenized = [token for token in lambda_code_tokenized if token != \"\"]\n",
    "\n",
    "    return lambda_code_tokenized\n",
    "\n",
    "\n",
    "def process_tokens_to_pt(lambda_code: str, vars_list: list) -> str:\n",
    "    # is abstraction\n",
    "    if re.match(r\"\\s*\\(\\s*@\\s*[a-zA-Z0-9_-].\\s*\", lambda_code):\n",
    "        inx_open = 0\n",
    "        inx_close = -1\n",
    "\n",
    "        # remove outer brackets\n",
    "        while lambda_code[inx_open] != \"(\":\n",
    "            inx_open += 1\n",
    "        while lambda_code[inx_close] != \")\":\n",
    "            inx_close -= 1\n",
    "        lambda_code = lambda_code[inx_open + 1: inx_close]\n",
    "\n",
    "        inx_open = 0\n",
    "        while lambda_code[inx_open] != \".\":\n",
    "            inx_open += 1\n",
    "\n",
    "        var_name = lambda_code[:inx_open]\n",
    "        lambda_code = lambda_code[inx_open + 1:]\n",
    "\n",
    "        for var in vars_list:\n",
    "            if var in var_name:\n",
    "                var_name = var\n",
    "                break\n",
    "\n",
    "        return f\"Lambda({var_name}, {process_tokens_to_pt(lambda_code, vars_list)})\"\n",
    "    else:  # it is an app or a single term\n",
    "        if (\"(\" in lambda_code) and (\")\" in lambda_code):  # it is an app\n",
    "            inx_open = 0\n",
    "            inx_close = -1\n",
    "\n",
    "            # remove outer brackets\n",
    "            while lambda_code[inx_open] != \"(\":\n",
    "                inx_open += 1\n",
    "            while lambda_code[inx_close] != \")\":\n",
    "                inx_close -= 1\n",
    "            lambda_code = lambda_code[inx_open + 1: inx_close]\n",
    "\n",
    "            tokens = tokenize_term(lambda_code)\n",
    "            if len(tokens) == 0:\n",
    "                raise Exception(\"Something went wrong\")\n",
    "            elif len(tokens) == 1:\n",
    "                return process_tokens_to_pt(tokens[0], vars_list)\n",
    "            elif len(tokens) == 2:\n",
    "                return f\"App({process_tokens_to_pt(tokens[0], vars_list)}, {process_tokens_to_pt(tokens[1], vars_list)})\"\n",
    "            else:\n",
    "                result_line = \"multi_app_term(\"\n",
    "                for token in tokens:\n",
    "                    result_line += str(process_tokens_to_pt(token, vars_list)) + \", \"\n",
    "                result_line += \")\"\n",
    "                return result_line\n",
    "        else:  # it is a single term\n",
    "            lambda_code = lambda_code.strip()\n",
    "            if lambda_code in LAMBDA_COMMANDS_DICT.keys():\n",
    "                return LAMBDA_COMMANDS_DICT[lambda_code]\n",
    "            else:\n",
    "                if (\".\" in lambda_code) \\\n",
    "                        or (\"@\" in lambda_code):\n",
    "                    raise Exception(\"Not allowed symbol in Lambda term\")\n",
    "                if (\"NUM\" in lambda_code) and (\"[\" in lambda_code) and (\"]\" in lambda_code):\n",
    "                    try:\n",
    "                        num = int(lambda_code.strip().split(\"[\")[1][:-1])\n",
    "                        return LAMBDA_COMMANDS_DICT[\"NUM\"] + str(num) + \")\"\n",
    "                    except:\n",
    "                        raise Exception(\"Can't parse number\")\n",
    "                return lambda_code + \"_\"\n",
    "            pass\n",
    "\n",
    "\n",
    "def convert_to_python_code(lambda_code: str) -> str:\n",
    "    # remove \"\\n\", \"\\t\", and outer spaces symbol\n",
    "    lambda_code = lambda_code.replace(\"\\n\", \"\").replace(\"\\t\", \" \").strip()\n",
    "    if lambda_code == \"\":\n",
    "        raise Exception(\"Can't convert to lambda term an empty value\")\n",
    "\n",
    "    # check brackets\n",
    "    count_open_brackets = lambda_code.count(\"(\")\n",
    "    count_close_brackets = lambda_code.count(\")\")\n",
    "    if count_open_brackets != count_close_brackets:\n",
    "        raise Exception(\n",
    "            f\"Wrong count brackets, can't interpreter this cause '(' = {count_open_brackets}, ')' = {count_close_brackets}\")\n",
    "\n",
    "    # remove redundant spaces\n",
    "    lambda_code = re.sub(r\"\\s+\", \" \", lambda_code)\n",
    "\n",
    "    # find variables & atom terms\n",
    "    vars_atoms_list = lambda_code.replace(\"(\", \" \").replace(\")\", \" \").replace(\".\", \" \").replace(\"@\", \" \")\n",
    "    vars_atoms_list = re.sub(r\"\\s+\", \" \", vars_atoms_list)\n",
    "    vars_atoms_list = vars_atoms_list.split()\n",
    "    vars_atoms_list = [va_name for va_name in vars_atoms_list if va_name not in LAMBDA_COMMANDS_DICT.keys()]\n",
    "    vars_atoms_list = list(set(vars_atoms_list))\n",
    "\n",
    "    result_line = \"def gen_term():\\n\"\n",
    "    for var_name in vars_atoms_list:\n",
    "        result_line += \"\\t\" + var_name + \" = Var()\\n\"\n",
    "        result_line += \"\\t\" + var_name + f\"_ = Atom({var_name})\\n\"\n",
    "\n",
    "    result_line += \"\\n\\tresult_term = \" + process_tokens_to_pt(lambda_code, vars_atoms_list)\n",
    "    result_line += \"\\n\\treturn result_term\"\n",
    "    return result_line\n",
    "\n",
    "\n",
    "def conv_to_term(lambda_code: str) -> Term:\n",
    "    # define a function for generating a term\n",
    "    # using exec() and call this function to get result\n",
    "    exec(convert_to_python_code(lambda_code))\n",
    "    return eval(\"gen_term()\")"
   ],
   "metadata": {
    "collapsed": false,
    "ExecuteTime": {
     "start_time": "2023-06-08T17:18:10.110238Z",
     "end_time": "2023-06-08T17:18:10.116594Z"
    }
   }
  },
  {
   "cell_type": "markdown",
   "source": [
    "# Testing Lambda Term Interpreter"
   ],
   "metadata": {
    "collapsed": false
   }
  },
  {
   "cell_type": "code",
   "execution_count": 21,
   "outputs": [
    {
     "name": "stdout",
     "output_type": "stream",
     "text": [
      "def gen_term():\n",
      "\tx = Var()\n",
      "\tx_ = Atom(x)\n",
      "\ty = Var()\n",
      "\ty_ = Atom(y)\n",
      "\n",
      "\tresult_term = Lambda(x, App(x_, y_))\n",
      "\treturn result_term\n"
     ]
    }
   ],
   "source": [
    "term_str = \"(@x. (x y))\"\n",
    "term_code_str = convert_to_python_code(term_str)\n",
    "print(term_code_str)"
   ],
   "metadata": {
    "collapsed": false,
    "ExecuteTime": {
     "start_time": "2023-06-08T17:18:12.381951Z",
     "end_time": "2023-06-08T17:18:12.391013Z"
    }
   }
  },
  {
   "cell_type": "code",
   "execution_count": 22,
   "outputs": [
    {
     "name": "stdout",
     "output_type": "stream",
     "text": [
      "def gen_term():\n",
      "\tx = Var()\n",
      "\tx_ = Atom(x)\n",
      "\n",
      "\tresult_term = Lambda(x, App(num_comparison.iszero_term(), x_))\n",
      "\treturn result_term\n"
     ]
    }
   ],
   "source": [
    "term_str = \"(@x. (ISZERO x))\"\n",
    "term_code_str = convert_to_python_code(term_str)\n",
    "print(term_code_str)"
   ],
   "metadata": {
    "collapsed": false,
    "ExecuteTime": {
     "start_time": "2023-06-08T17:18:29.300412Z",
     "end_time": "2023-06-08T17:18:29.313360Z"
    }
   }
  },
  {
   "cell_type": "code",
   "execution_count": 23,
   "outputs": [
    {
     "ename": "Exception",
     "evalue": "Something went wrong",
     "output_type": "error",
     "traceback": [
      "\u001B[1;31m---------------------------------------------------------------------------\u001B[0m",
      "\u001B[1;31mException\u001B[0m                                 Traceback (most recent call last)",
      "Cell \u001B[1;32mIn[23], line 4\u001B[0m\n\u001B[0;32m      1\u001B[0m \u001B[38;5;66;03m# should generate an error\u001B[39;00m\n\u001B[0;32m      3\u001B[0m term_str \u001B[38;5;241m=\u001B[39m \u001B[38;5;124m\"\u001B[39m\u001B[38;5;124m(@x. ())\u001B[39m\u001B[38;5;124m\"\u001B[39m\n\u001B[1;32m----> 4\u001B[0m term_code_str \u001B[38;5;241m=\u001B[39m \u001B[43mconvert_to_python_code\u001B[49m\u001B[43m(\u001B[49m\u001B[43mterm_str\u001B[49m\u001B[43m)\u001B[49m\n\u001B[0;32m      5\u001B[0m \u001B[38;5;28mprint\u001B[39m(term_code_str)\n",
      "Cell \u001B[1;32mIn[20], line 184\u001B[0m, in \u001B[0;36mconvert_to_python_code\u001B[1;34m(lambda_code)\u001B[0m\n\u001B[0;32m    181\u001B[0m     result_line \u001B[38;5;241m+\u001B[39m\u001B[38;5;241m=\u001B[39m \u001B[38;5;124m\"\u001B[39m\u001B[38;5;130;01m\\t\u001B[39;00m\u001B[38;5;124m\"\u001B[39m \u001B[38;5;241m+\u001B[39m var_name \u001B[38;5;241m+\u001B[39m \u001B[38;5;124m\"\u001B[39m\u001B[38;5;124m = Var()\u001B[39m\u001B[38;5;130;01m\\n\u001B[39;00m\u001B[38;5;124m\"\u001B[39m\n\u001B[0;32m    182\u001B[0m     result_line \u001B[38;5;241m+\u001B[39m\u001B[38;5;241m=\u001B[39m \u001B[38;5;124m\"\u001B[39m\u001B[38;5;130;01m\\t\u001B[39;00m\u001B[38;5;124m\"\u001B[39m \u001B[38;5;241m+\u001B[39m var_name \u001B[38;5;241m+\u001B[39m \u001B[38;5;124mf\u001B[39m\u001B[38;5;124m\"\u001B[39m\u001B[38;5;124m_ = Atom(\u001B[39m\u001B[38;5;132;01m{\u001B[39;00mvar_name\u001B[38;5;132;01m}\u001B[39;00m\u001B[38;5;124m)\u001B[39m\u001B[38;5;130;01m\\n\u001B[39;00m\u001B[38;5;124m\"\u001B[39m\n\u001B[1;32m--> 184\u001B[0m result_line \u001B[38;5;241m+\u001B[39m\u001B[38;5;241m=\u001B[39m \u001B[38;5;124m\"\u001B[39m\u001B[38;5;130;01m\\n\u001B[39;00m\u001B[38;5;130;01m\\t\u001B[39;00m\u001B[38;5;124mresult_term = \u001B[39m\u001B[38;5;124m\"\u001B[39m \u001B[38;5;241m+\u001B[39m \u001B[43mprocess_tokens_to_pt\u001B[49m\u001B[43m(\u001B[49m\u001B[43mlambda_code\u001B[49m\u001B[43m,\u001B[49m\u001B[43m \u001B[49m\u001B[43mvars_atoms_list\u001B[49m\u001B[43m)\u001B[49m\n\u001B[0;32m    185\u001B[0m result_line \u001B[38;5;241m+\u001B[39m\u001B[38;5;241m=\u001B[39m \u001B[38;5;124m\"\u001B[39m\u001B[38;5;130;01m\\n\u001B[39;00m\u001B[38;5;130;01m\\t\u001B[39;00m\u001B[38;5;124mreturn result_term\u001B[39m\u001B[38;5;124m\"\u001B[39m\n\u001B[0;32m    186\u001B[0m \u001B[38;5;28;01mreturn\u001B[39;00m result_line\n",
      "Cell \u001B[1;32mIn[20], line 112\u001B[0m, in \u001B[0;36mprocess_tokens_to_pt\u001B[1;34m(lambda_code, vars_list)\u001B[0m\n\u001B[0;32m    109\u001B[0m             var_name \u001B[38;5;241m=\u001B[39m var\n\u001B[0;32m    110\u001B[0m             \u001B[38;5;28;01mbreak\u001B[39;00m\n\u001B[1;32m--> 112\u001B[0m     \u001B[38;5;28;01mreturn\u001B[39;00m \u001B[38;5;124mf\u001B[39m\u001B[38;5;124m\"\u001B[39m\u001B[38;5;124mLambda(\u001B[39m\u001B[38;5;132;01m{\u001B[39;00mvar_name\u001B[38;5;132;01m}\u001B[39;00m\u001B[38;5;124m, \u001B[39m\u001B[38;5;132;01m{\u001B[39;00m\u001B[43mprocess_tokens_to_pt\u001B[49m\u001B[43m(\u001B[49m\u001B[43mlambda_code\u001B[49m\u001B[43m,\u001B[49m\u001B[38;5;250;43m \u001B[39;49m\u001B[43mvars_list\u001B[49m\u001B[43m)\u001B[49m\u001B[38;5;132;01m}\u001B[39;00m\u001B[38;5;124m)\u001B[39m\u001B[38;5;124m\"\u001B[39m\n\u001B[0;32m    113\u001B[0m \u001B[38;5;28;01melse\u001B[39;00m:  \u001B[38;5;66;03m# it is an app or a single term\u001B[39;00m\n\u001B[0;32m    114\u001B[0m     \u001B[38;5;28;01mif\u001B[39;00m (\u001B[38;5;124m\"\u001B[39m\u001B[38;5;124m(\u001B[39m\u001B[38;5;124m\"\u001B[39m \u001B[38;5;129;01min\u001B[39;00m lambda_code) \u001B[38;5;129;01mand\u001B[39;00m (\u001B[38;5;124m\"\u001B[39m\u001B[38;5;124m)\u001B[39m\u001B[38;5;124m\"\u001B[39m \u001B[38;5;129;01min\u001B[39;00m lambda_code):  \u001B[38;5;66;03m# it is an app\u001B[39;00m\n",
      "Cell \u001B[1;32mIn[20], line 127\u001B[0m, in \u001B[0;36mprocess_tokens_to_pt\u001B[1;34m(lambda_code, vars_list)\u001B[0m\n\u001B[0;32m    125\u001B[0m tokens \u001B[38;5;241m=\u001B[39m tokenize_term(lambda_code)\n\u001B[0;32m    126\u001B[0m \u001B[38;5;28;01mif\u001B[39;00m \u001B[38;5;28mlen\u001B[39m(tokens) \u001B[38;5;241m==\u001B[39m \u001B[38;5;241m0\u001B[39m:\n\u001B[1;32m--> 127\u001B[0m     \u001B[38;5;28;01mraise\u001B[39;00m \u001B[38;5;167;01mException\u001B[39;00m(\u001B[38;5;124m\"\u001B[39m\u001B[38;5;124mSomething went wrong\u001B[39m\u001B[38;5;124m\"\u001B[39m)\n\u001B[0;32m    128\u001B[0m \u001B[38;5;28;01melif\u001B[39;00m \u001B[38;5;28mlen\u001B[39m(tokens) \u001B[38;5;241m==\u001B[39m \u001B[38;5;241m1\u001B[39m:\n\u001B[0;32m    129\u001B[0m     \u001B[38;5;28;01mreturn\u001B[39;00m process_tokens_to_pt(tokens[\u001B[38;5;241m0\u001B[39m], vars_list)\n",
      "\u001B[1;31mException\u001B[0m: Something went wrong"
     ]
    }
   ],
   "source": [
    "# should generate an error\n",
    "\n",
    "term_str = \"(@x. ())\"\n",
    "term_code_str = convert_to_python_code(term_str)\n",
    "print(term_code_str)"
   ],
   "metadata": {
    "collapsed": false
   }
  },
  {
   "cell_type": "code",
   "execution_count": 24,
   "outputs": [
    {
     "ename": "Exception",
     "evalue": "Not allowed symbol in Lambda term",
     "output_type": "error",
     "traceback": [
      "\u001B[1;31m---------------------------------------------------------------------------\u001B[0m",
      "\u001B[1;31mException\u001B[0m                                 Traceback (most recent call last)",
      "Cell \u001B[1;32mIn[24], line 4\u001B[0m\n\u001B[0;32m      1\u001B[0m \u001B[38;5;66;03m# it should generate an error\u001B[39;00m\n\u001B[0;32m      3\u001B[0m term_str \u001B[38;5;241m=\u001B[39m \u001B[38;5;124m\"\u001B[39m\u001B[38;5;124m(@. (x y))\u001B[39m\u001B[38;5;124m\"\u001B[39m\n\u001B[1;32m----> 4\u001B[0m term_code_str \u001B[38;5;241m=\u001B[39m \u001B[43mconvert_to_python_code\u001B[49m\u001B[43m(\u001B[49m\u001B[43mterm_str\u001B[49m\u001B[43m)\u001B[49m\n\u001B[0;32m      5\u001B[0m \u001B[38;5;28mprint\u001B[39m(term_code_str)\n",
      "Cell \u001B[1;32mIn[20], line 184\u001B[0m, in \u001B[0;36mconvert_to_python_code\u001B[1;34m(lambda_code)\u001B[0m\n\u001B[0;32m    181\u001B[0m     result_line \u001B[38;5;241m+\u001B[39m\u001B[38;5;241m=\u001B[39m \u001B[38;5;124m\"\u001B[39m\u001B[38;5;130;01m\\t\u001B[39;00m\u001B[38;5;124m\"\u001B[39m \u001B[38;5;241m+\u001B[39m var_name \u001B[38;5;241m+\u001B[39m \u001B[38;5;124m\"\u001B[39m\u001B[38;5;124m = Var()\u001B[39m\u001B[38;5;130;01m\\n\u001B[39;00m\u001B[38;5;124m\"\u001B[39m\n\u001B[0;32m    182\u001B[0m     result_line \u001B[38;5;241m+\u001B[39m\u001B[38;5;241m=\u001B[39m \u001B[38;5;124m\"\u001B[39m\u001B[38;5;130;01m\\t\u001B[39;00m\u001B[38;5;124m\"\u001B[39m \u001B[38;5;241m+\u001B[39m var_name \u001B[38;5;241m+\u001B[39m \u001B[38;5;124mf\u001B[39m\u001B[38;5;124m\"\u001B[39m\u001B[38;5;124m_ = Atom(\u001B[39m\u001B[38;5;132;01m{\u001B[39;00mvar_name\u001B[38;5;132;01m}\u001B[39;00m\u001B[38;5;124m)\u001B[39m\u001B[38;5;130;01m\\n\u001B[39;00m\u001B[38;5;124m\"\u001B[39m\n\u001B[1;32m--> 184\u001B[0m result_line \u001B[38;5;241m+\u001B[39m\u001B[38;5;241m=\u001B[39m \u001B[38;5;124m\"\u001B[39m\u001B[38;5;130;01m\\n\u001B[39;00m\u001B[38;5;130;01m\\t\u001B[39;00m\u001B[38;5;124mresult_term = \u001B[39m\u001B[38;5;124m\"\u001B[39m \u001B[38;5;241m+\u001B[39m \u001B[43mprocess_tokens_to_pt\u001B[49m\u001B[43m(\u001B[49m\u001B[43mlambda_code\u001B[49m\u001B[43m,\u001B[49m\u001B[43m \u001B[49m\u001B[43mvars_atoms_list\u001B[49m\u001B[43m)\u001B[49m\n\u001B[0;32m    185\u001B[0m result_line \u001B[38;5;241m+\u001B[39m\u001B[38;5;241m=\u001B[39m \u001B[38;5;124m\"\u001B[39m\u001B[38;5;130;01m\\n\u001B[39;00m\u001B[38;5;130;01m\\t\u001B[39;00m\u001B[38;5;124mreturn result_term\u001B[39m\u001B[38;5;124m\"\u001B[39m\n\u001B[0;32m    186\u001B[0m \u001B[38;5;28;01mreturn\u001B[39;00m result_line\n",
      "Cell \u001B[1;32mIn[20], line 131\u001B[0m, in \u001B[0;36mprocess_tokens_to_pt\u001B[1;34m(lambda_code, vars_list)\u001B[0m\n\u001B[0;32m    129\u001B[0m     \u001B[38;5;28;01mreturn\u001B[39;00m process_tokens_to_pt(tokens[\u001B[38;5;241m0\u001B[39m], vars_list)\n\u001B[0;32m    130\u001B[0m \u001B[38;5;28;01melif\u001B[39;00m \u001B[38;5;28mlen\u001B[39m(tokens) \u001B[38;5;241m==\u001B[39m \u001B[38;5;241m2\u001B[39m:\n\u001B[1;32m--> 131\u001B[0m     \u001B[38;5;28;01mreturn\u001B[39;00m \u001B[38;5;124mf\u001B[39m\u001B[38;5;124m\"\u001B[39m\u001B[38;5;124mApp(\u001B[39m\u001B[38;5;132;01m{\u001B[39;00m\u001B[43mprocess_tokens_to_pt\u001B[49m\u001B[43m(\u001B[49m\u001B[43mtokens\u001B[49m\u001B[43m[\u001B[49m\u001B[38;5;241;43m0\u001B[39;49m\u001B[43m]\u001B[49m\u001B[43m,\u001B[49m\u001B[38;5;250;43m \u001B[39;49m\u001B[43mvars_list\u001B[49m\u001B[43m)\u001B[49m\u001B[38;5;132;01m}\u001B[39;00m\u001B[38;5;124m, \u001B[39m\u001B[38;5;132;01m{\u001B[39;00mprocess_tokens_to_pt(tokens[\u001B[38;5;241m1\u001B[39m],\u001B[38;5;250m \u001B[39mvars_list)\u001B[38;5;132;01m}\u001B[39;00m\u001B[38;5;124m)\u001B[39m\u001B[38;5;124m\"\u001B[39m\n\u001B[0;32m    132\u001B[0m \u001B[38;5;28;01melse\u001B[39;00m:\n\u001B[0;32m    133\u001B[0m     result_line \u001B[38;5;241m=\u001B[39m \u001B[38;5;124m\"\u001B[39m\u001B[38;5;124mmulti_app_term(\u001B[39m\u001B[38;5;124m\"\u001B[39m\n",
      "Cell \u001B[1;32mIn[20], line 145\u001B[0m, in \u001B[0;36mprocess_tokens_to_pt\u001B[1;34m(lambda_code, vars_list)\u001B[0m\n\u001B[0;32m    142\u001B[0m \u001B[38;5;28;01melse\u001B[39;00m:\n\u001B[0;32m    143\u001B[0m     \u001B[38;5;28;01mif\u001B[39;00m (\u001B[38;5;124m\"\u001B[39m\u001B[38;5;124m.\u001B[39m\u001B[38;5;124m\"\u001B[39m \u001B[38;5;129;01min\u001B[39;00m lambda_code) \\\n\u001B[0;32m    144\u001B[0m             \u001B[38;5;129;01mor\u001B[39;00m (\u001B[38;5;124m\"\u001B[39m\u001B[38;5;124m@\u001B[39m\u001B[38;5;124m\"\u001B[39m \u001B[38;5;129;01min\u001B[39;00m lambda_code):\n\u001B[1;32m--> 145\u001B[0m         \u001B[38;5;28;01mraise\u001B[39;00m \u001B[38;5;167;01mException\u001B[39;00m(\u001B[38;5;124m\"\u001B[39m\u001B[38;5;124mNot allowed symbol in Lambda term\u001B[39m\u001B[38;5;124m\"\u001B[39m)\n\u001B[0;32m    146\u001B[0m     \u001B[38;5;28;01mif\u001B[39;00m (\u001B[38;5;124m\"\u001B[39m\u001B[38;5;124mNUM\u001B[39m\u001B[38;5;124m\"\u001B[39m \u001B[38;5;129;01min\u001B[39;00m lambda_code) \u001B[38;5;129;01mand\u001B[39;00m (\u001B[38;5;124m\"\u001B[39m\u001B[38;5;124m[\u001B[39m\u001B[38;5;124m\"\u001B[39m \u001B[38;5;129;01min\u001B[39;00m lambda_code) \u001B[38;5;129;01mand\u001B[39;00m (\u001B[38;5;124m\"\u001B[39m\u001B[38;5;124m]\u001B[39m\u001B[38;5;124m\"\u001B[39m \u001B[38;5;129;01min\u001B[39;00m lambda_code):\n\u001B[0;32m    147\u001B[0m         \u001B[38;5;28;01mtry\u001B[39;00m:\n",
      "\u001B[1;31mException\u001B[0m: Not allowed symbol in Lambda term"
     ]
    }
   ],
   "source": [
    "# it should generate an error\n",
    "\n",
    "term_str = \"(@. (x y))\"\n",
    "term_code_str = convert_to_python_code(term_str)\n",
    "print(term_code_str)"
   ],
   "metadata": {
    "collapsed": false,
    "ExecuteTime": {
     "start_time": "2023-06-07T17:50:21.182221Z",
     "end_time": "2023-06-07T17:50:21.193326Z"
    }
   }
  },
  {
   "cell_type": "code",
   "execution_count": 25,
   "outputs": [
    {
     "ename": "Exception",
     "evalue": "Not allowed symbol in Lambda term",
     "output_type": "error",
     "traceback": [
      "\u001B[1;31m---------------------------------------------------------------------------\u001B[0m",
      "\u001B[1;31mException\u001B[0m                                 Traceback (most recent call last)",
      "Cell \u001B[1;32mIn[25], line 4\u001B[0m\n\u001B[0;32m      1\u001B[0m \u001B[38;5;66;03m# should generate an error\u001B[39;00m\n\u001B[0;32m      3\u001B[0m term_str \u001B[38;5;241m=\u001B[39m \u001B[38;5;124m\"\u001B[39m\u001B[38;5;124m(. ())\u001B[39m\u001B[38;5;124m\"\u001B[39m\n\u001B[1;32m----> 4\u001B[0m term_code_str \u001B[38;5;241m=\u001B[39m \u001B[43mconvert_to_python_code\u001B[49m\u001B[43m(\u001B[49m\u001B[43mterm_str\u001B[49m\u001B[43m)\u001B[49m\n\u001B[0;32m      5\u001B[0m \u001B[38;5;28mprint\u001B[39m(term_code_str)\n",
      "Cell \u001B[1;32mIn[20], line 184\u001B[0m, in \u001B[0;36mconvert_to_python_code\u001B[1;34m(lambda_code)\u001B[0m\n\u001B[0;32m    181\u001B[0m     result_line \u001B[38;5;241m+\u001B[39m\u001B[38;5;241m=\u001B[39m \u001B[38;5;124m\"\u001B[39m\u001B[38;5;130;01m\\t\u001B[39;00m\u001B[38;5;124m\"\u001B[39m \u001B[38;5;241m+\u001B[39m var_name \u001B[38;5;241m+\u001B[39m \u001B[38;5;124m\"\u001B[39m\u001B[38;5;124m = Var()\u001B[39m\u001B[38;5;130;01m\\n\u001B[39;00m\u001B[38;5;124m\"\u001B[39m\n\u001B[0;32m    182\u001B[0m     result_line \u001B[38;5;241m+\u001B[39m\u001B[38;5;241m=\u001B[39m \u001B[38;5;124m\"\u001B[39m\u001B[38;5;130;01m\\t\u001B[39;00m\u001B[38;5;124m\"\u001B[39m \u001B[38;5;241m+\u001B[39m var_name \u001B[38;5;241m+\u001B[39m \u001B[38;5;124mf\u001B[39m\u001B[38;5;124m\"\u001B[39m\u001B[38;5;124m_ = Atom(\u001B[39m\u001B[38;5;132;01m{\u001B[39;00mvar_name\u001B[38;5;132;01m}\u001B[39;00m\u001B[38;5;124m)\u001B[39m\u001B[38;5;130;01m\\n\u001B[39;00m\u001B[38;5;124m\"\u001B[39m\n\u001B[1;32m--> 184\u001B[0m result_line \u001B[38;5;241m+\u001B[39m\u001B[38;5;241m=\u001B[39m \u001B[38;5;124m\"\u001B[39m\u001B[38;5;130;01m\\n\u001B[39;00m\u001B[38;5;130;01m\\t\u001B[39;00m\u001B[38;5;124mresult_term = \u001B[39m\u001B[38;5;124m\"\u001B[39m \u001B[38;5;241m+\u001B[39m \u001B[43mprocess_tokens_to_pt\u001B[49m\u001B[43m(\u001B[49m\u001B[43mlambda_code\u001B[49m\u001B[43m,\u001B[49m\u001B[43m \u001B[49m\u001B[43mvars_atoms_list\u001B[49m\u001B[43m)\u001B[49m\n\u001B[0;32m    185\u001B[0m result_line \u001B[38;5;241m+\u001B[39m\u001B[38;5;241m=\u001B[39m \u001B[38;5;124m\"\u001B[39m\u001B[38;5;130;01m\\n\u001B[39;00m\u001B[38;5;130;01m\\t\u001B[39;00m\u001B[38;5;124mreturn result_term\u001B[39m\u001B[38;5;124m\"\u001B[39m\n\u001B[0;32m    186\u001B[0m \u001B[38;5;28;01mreturn\u001B[39;00m result_line\n",
      "Cell \u001B[1;32mIn[20], line 131\u001B[0m, in \u001B[0;36mprocess_tokens_to_pt\u001B[1;34m(lambda_code, vars_list)\u001B[0m\n\u001B[0;32m    129\u001B[0m     \u001B[38;5;28;01mreturn\u001B[39;00m process_tokens_to_pt(tokens[\u001B[38;5;241m0\u001B[39m], vars_list)\n\u001B[0;32m    130\u001B[0m \u001B[38;5;28;01melif\u001B[39;00m \u001B[38;5;28mlen\u001B[39m(tokens) \u001B[38;5;241m==\u001B[39m \u001B[38;5;241m2\u001B[39m:\n\u001B[1;32m--> 131\u001B[0m     \u001B[38;5;28;01mreturn\u001B[39;00m \u001B[38;5;124mf\u001B[39m\u001B[38;5;124m\"\u001B[39m\u001B[38;5;124mApp(\u001B[39m\u001B[38;5;132;01m{\u001B[39;00m\u001B[43mprocess_tokens_to_pt\u001B[49m\u001B[43m(\u001B[49m\u001B[43mtokens\u001B[49m\u001B[43m[\u001B[49m\u001B[38;5;241;43m0\u001B[39;49m\u001B[43m]\u001B[49m\u001B[43m,\u001B[49m\u001B[38;5;250;43m \u001B[39;49m\u001B[43mvars_list\u001B[49m\u001B[43m)\u001B[49m\u001B[38;5;132;01m}\u001B[39;00m\u001B[38;5;124m, \u001B[39m\u001B[38;5;132;01m{\u001B[39;00mprocess_tokens_to_pt(tokens[\u001B[38;5;241m1\u001B[39m],\u001B[38;5;250m \u001B[39mvars_list)\u001B[38;5;132;01m}\u001B[39;00m\u001B[38;5;124m)\u001B[39m\u001B[38;5;124m\"\u001B[39m\n\u001B[0;32m    132\u001B[0m \u001B[38;5;28;01melse\u001B[39;00m:\n\u001B[0;32m    133\u001B[0m     result_line \u001B[38;5;241m=\u001B[39m \u001B[38;5;124m\"\u001B[39m\u001B[38;5;124mmulti_app_term(\u001B[39m\u001B[38;5;124m\"\u001B[39m\n",
      "Cell \u001B[1;32mIn[20], line 145\u001B[0m, in \u001B[0;36mprocess_tokens_to_pt\u001B[1;34m(lambda_code, vars_list)\u001B[0m\n\u001B[0;32m    142\u001B[0m \u001B[38;5;28;01melse\u001B[39;00m:\n\u001B[0;32m    143\u001B[0m     \u001B[38;5;28;01mif\u001B[39;00m (\u001B[38;5;124m\"\u001B[39m\u001B[38;5;124m.\u001B[39m\u001B[38;5;124m\"\u001B[39m \u001B[38;5;129;01min\u001B[39;00m lambda_code) \\\n\u001B[0;32m    144\u001B[0m             \u001B[38;5;129;01mor\u001B[39;00m (\u001B[38;5;124m\"\u001B[39m\u001B[38;5;124m@\u001B[39m\u001B[38;5;124m\"\u001B[39m \u001B[38;5;129;01min\u001B[39;00m lambda_code):\n\u001B[1;32m--> 145\u001B[0m         \u001B[38;5;28;01mraise\u001B[39;00m \u001B[38;5;167;01mException\u001B[39;00m(\u001B[38;5;124m\"\u001B[39m\u001B[38;5;124mNot allowed symbol in Lambda term\u001B[39m\u001B[38;5;124m\"\u001B[39m)\n\u001B[0;32m    146\u001B[0m     \u001B[38;5;28;01mif\u001B[39;00m (\u001B[38;5;124m\"\u001B[39m\u001B[38;5;124mNUM\u001B[39m\u001B[38;5;124m\"\u001B[39m \u001B[38;5;129;01min\u001B[39;00m lambda_code) \u001B[38;5;129;01mand\u001B[39;00m (\u001B[38;5;124m\"\u001B[39m\u001B[38;5;124m[\u001B[39m\u001B[38;5;124m\"\u001B[39m \u001B[38;5;129;01min\u001B[39;00m lambda_code) \u001B[38;5;129;01mand\u001B[39;00m (\u001B[38;5;124m\"\u001B[39m\u001B[38;5;124m]\u001B[39m\u001B[38;5;124m\"\u001B[39m \u001B[38;5;129;01min\u001B[39;00m lambda_code):\n\u001B[0;32m    147\u001B[0m         \u001B[38;5;28;01mtry\u001B[39;00m:\n",
      "\u001B[1;31mException\u001B[0m: Not allowed symbol in Lambda term"
     ]
    }
   ],
   "source": [
    "# should generate an error\n",
    "\n",
    "term_str = \"(. ())\"\n",
    "term_code_str = convert_to_python_code(term_str)\n",
    "print(term_code_str)"
   ],
   "metadata": {
    "collapsed": false
   }
  },
  {
   "cell_type": "code",
   "execution_count": 26,
   "outputs": [
    {
     "ename": "Exception",
     "evalue": "Not allowed symbol in Lambda term",
     "output_type": "error",
     "traceback": [
      "\u001B[1;31m---------------------------------------------------------------------------\u001B[0m",
      "\u001B[1;31mException\u001B[0m                                 Traceback (most recent call last)",
      "Cell \u001B[1;32mIn[26], line 4\u001B[0m\n\u001B[0;32m      1\u001B[0m \u001B[38;5;66;03m# should generate an error\u001B[39;00m\n\u001B[0;32m      3\u001B[0m term_str \u001B[38;5;241m=\u001B[39m \u001B[38;5;124m\"\u001B[39m\u001B[38;5;124m(. (x))\u001B[39m\u001B[38;5;124m\"\u001B[39m\n\u001B[1;32m----> 4\u001B[0m term_code_str \u001B[38;5;241m=\u001B[39m \u001B[43mconvert_to_python_code\u001B[49m\u001B[43m(\u001B[49m\u001B[43mterm_str\u001B[49m\u001B[43m)\u001B[49m\n\u001B[0;32m      5\u001B[0m \u001B[38;5;28mprint\u001B[39m(term_code_str)\n",
      "Cell \u001B[1;32mIn[20], line 184\u001B[0m, in \u001B[0;36mconvert_to_python_code\u001B[1;34m(lambda_code)\u001B[0m\n\u001B[0;32m    181\u001B[0m     result_line \u001B[38;5;241m+\u001B[39m\u001B[38;5;241m=\u001B[39m \u001B[38;5;124m\"\u001B[39m\u001B[38;5;130;01m\\t\u001B[39;00m\u001B[38;5;124m\"\u001B[39m \u001B[38;5;241m+\u001B[39m var_name \u001B[38;5;241m+\u001B[39m \u001B[38;5;124m\"\u001B[39m\u001B[38;5;124m = Var()\u001B[39m\u001B[38;5;130;01m\\n\u001B[39;00m\u001B[38;5;124m\"\u001B[39m\n\u001B[0;32m    182\u001B[0m     result_line \u001B[38;5;241m+\u001B[39m\u001B[38;5;241m=\u001B[39m \u001B[38;5;124m\"\u001B[39m\u001B[38;5;130;01m\\t\u001B[39;00m\u001B[38;5;124m\"\u001B[39m \u001B[38;5;241m+\u001B[39m var_name \u001B[38;5;241m+\u001B[39m \u001B[38;5;124mf\u001B[39m\u001B[38;5;124m\"\u001B[39m\u001B[38;5;124m_ = Atom(\u001B[39m\u001B[38;5;132;01m{\u001B[39;00mvar_name\u001B[38;5;132;01m}\u001B[39;00m\u001B[38;5;124m)\u001B[39m\u001B[38;5;130;01m\\n\u001B[39;00m\u001B[38;5;124m\"\u001B[39m\n\u001B[1;32m--> 184\u001B[0m result_line \u001B[38;5;241m+\u001B[39m\u001B[38;5;241m=\u001B[39m \u001B[38;5;124m\"\u001B[39m\u001B[38;5;130;01m\\n\u001B[39;00m\u001B[38;5;130;01m\\t\u001B[39;00m\u001B[38;5;124mresult_term = \u001B[39m\u001B[38;5;124m\"\u001B[39m \u001B[38;5;241m+\u001B[39m \u001B[43mprocess_tokens_to_pt\u001B[49m\u001B[43m(\u001B[49m\u001B[43mlambda_code\u001B[49m\u001B[43m,\u001B[49m\u001B[43m \u001B[49m\u001B[43mvars_atoms_list\u001B[49m\u001B[43m)\u001B[49m\n\u001B[0;32m    185\u001B[0m result_line \u001B[38;5;241m+\u001B[39m\u001B[38;5;241m=\u001B[39m \u001B[38;5;124m\"\u001B[39m\u001B[38;5;130;01m\\n\u001B[39;00m\u001B[38;5;130;01m\\t\u001B[39;00m\u001B[38;5;124mreturn result_term\u001B[39m\u001B[38;5;124m\"\u001B[39m\n\u001B[0;32m    186\u001B[0m \u001B[38;5;28;01mreturn\u001B[39;00m result_line\n",
      "Cell \u001B[1;32mIn[20], line 131\u001B[0m, in \u001B[0;36mprocess_tokens_to_pt\u001B[1;34m(lambda_code, vars_list)\u001B[0m\n\u001B[0;32m    129\u001B[0m     \u001B[38;5;28;01mreturn\u001B[39;00m process_tokens_to_pt(tokens[\u001B[38;5;241m0\u001B[39m], vars_list)\n\u001B[0;32m    130\u001B[0m \u001B[38;5;28;01melif\u001B[39;00m \u001B[38;5;28mlen\u001B[39m(tokens) \u001B[38;5;241m==\u001B[39m \u001B[38;5;241m2\u001B[39m:\n\u001B[1;32m--> 131\u001B[0m     \u001B[38;5;28;01mreturn\u001B[39;00m \u001B[38;5;124mf\u001B[39m\u001B[38;5;124m\"\u001B[39m\u001B[38;5;124mApp(\u001B[39m\u001B[38;5;132;01m{\u001B[39;00m\u001B[43mprocess_tokens_to_pt\u001B[49m\u001B[43m(\u001B[49m\u001B[43mtokens\u001B[49m\u001B[43m[\u001B[49m\u001B[38;5;241;43m0\u001B[39;49m\u001B[43m]\u001B[49m\u001B[43m,\u001B[49m\u001B[38;5;250;43m \u001B[39;49m\u001B[43mvars_list\u001B[49m\u001B[43m)\u001B[49m\u001B[38;5;132;01m}\u001B[39;00m\u001B[38;5;124m, \u001B[39m\u001B[38;5;132;01m{\u001B[39;00mprocess_tokens_to_pt(tokens[\u001B[38;5;241m1\u001B[39m],\u001B[38;5;250m \u001B[39mvars_list)\u001B[38;5;132;01m}\u001B[39;00m\u001B[38;5;124m)\u001B[39m\u001B[38;5;124m\"\u001B[39m\n\u001B[0;32m    132\u001B[0m \u001B[38;5;28;01melse\u001B[39;00m:\n\u001B[0;32m    133\u001B[0m     result_line \u001B[38;5;241m=\u001B[39m \u001B[38;5;124m\"\u001B[39m\u001B[38;5;124mmulti_app_term(\u001B[39m\u001B[38;5;124m\"\u001B[39m\n",
      "Cell \u001B[1;32mIn[20], line 145\u001B[0m, in \u001B[0;36mprocess_tokens_to_pt\u001B[1;34m(lambda_code, vars_list)\u001B[0m\n\u001B[0;32m    142\u001B[0m \u001B[38;5;28;01melse\u001B[39;00m:\n\u001B[0;32m    143\u001B[0m     \u001B[38;5;28;01mif\u001B[39;00m (\u001B[38;5;124m\"\u001B[39m\u001B[38;5;124m.\u001B[39m\u001B[38;5;124m\"\u001B[39m \u001B[38;5;129;01min\u001B[39;00m lambda_code) \\\n\u001B[0;32m    144\u001B[0m             \u001B[38;5;129;01mor\u001B[39;00m (\u001B[38;5;124m\"\u001B[39m\u001B[38;5;124m@\u001B[39m\u001B[38;5;124m\"\u001B[39m \u001B[38;5;129;01min\u001B[39;00m lambda_code):\n\u001B[1;32m--> 145\u001B[0m         \u001B[38;5;28;01mraise\u001B[39;00m \u001B[38;5;167;01mException\u001B[39;00m(\u001B[38;5;124m\"\u001B[39m\u001B[38;5;124mNot allowed symbol in Lambda term\u001B[39m\u001B[38;5;124m\"\u001B[39m)\n\u001B[0;32m    146\u001B[0m     \u001B[38;5;28;01mif\u001B[39;00m (\u001B[38;5;124m\"\u001B[39m\u001B[38;5;124mNUM\u001B[39m\u001B[38;5;124m\"\u001B[39m \u001B[38;5;129;01min\u001B[39;00m lambda_code) \u001B[38;5;129;01mand\u001B[39;00m (\u001B[38;5;124m\"\u001B[39m\u001B[38;5;124m[\u001B[39m\u001B[38;5;124m\"\u001B[39m \u001B[38;5;129;01min\u001B[39;00m lambda_code) \u001B[38;5;129;01mand\u001B[39;00m (\u001B[38;5;124m\"\u001B[39m\u001B[38;5;124m]\u001B[39m\u001B[38;5;124m\"\u001B[39m \u001B[38;5;129;01min\u001B[39;00m lambda_code):\n\u001B[0;32m    147\u001B[0m         \u001B[38;5;28;01mtry\u001B[39;00m:\n",
      "\u001B[1;31mException\u001B[0m: Not allowed symbol in Lambda term"
     ]
    }
   ],
   "source": [
    "# should generate an error\n",
    "\n",
    "term_str = \"(. (x))\"\n",
    "term_code_str = convert_to_python_code(term_str)\n",
    "print(term_code_str)"
   ],
   "metadata": {
    "collapsed": false,
    "ExecuteTime": {
     "start_time": "2023-06-07T17:53:37.837724Z",
     "end_time": "2023-06-07T17:53:37.858870Z"
    }
   }
  },
  {
   "cell_type": "code",
   "execution_count": 27,
   "outputs": [
    {
     "name": "stdout",
     "output_type": "stream",
     "text": [
      "def gen_term():\n",
      "\tx = Var()\n",
      "\tx_ = Atom(x)\n",
      "\ty = Var()\n",
      "\ty_ = Atom(y)\n",
      "\ta = Var()\n",
      "\ta_ = Atom(a)\n",
      "\tz = Var()\n",
      "\tz_ = Atom(z)\n",
      "\n",
      "\tresult_term = Lambda(x, multi_app_term(a_, x_, y_, z_, logic.ite_term(), logic.true_term(), a_, z_, y_, ))\n",
      "\treturn result_term\n"
     ]
    }
   ],
   "source": [
    "term_str = \"(@x. (a x y z ITE TRUE a z y))\"\n",
    "term_code_str = convert_to_python_code(term_str)\n",
    "print(term_code_str)"
   ],
   "metadata": {
    "collapsed": false,
    "ExecuteTime": {
     "start_time": "2023-06-08T17:19:29.290527Z",
     "end_time": "2023-06-08T17:19:29.300183Z"
    }
   }
  },
  {
   "cell_type": "code",
   "execution_count": 28,
   "outputs": [
    {
     "name": "stdout",
     "output_type": "stream",
     "text": [
      "def gen_term():\n",
      "\tx = Var()\n",
      "\tx_ = Atom(x)\n",
      "\ty = Var()\n",
      "\ty_ = Atom(y)\n",
      "\ta = Var()\n",
      "\ta_ = Atom(a)\n",
      "\tz = Var()\n",
      "\tz_ = Atom(z)\n",
      "\n",
      "\tresult_term = Lambda(x, multi_app_term(a_, x_, y_, z_, logic.ite_term(), logic.true_term(), a_, z_, y_, ))\n",
      "\treturn result_term\n"
     ]
    }
   ],
   "source": [
    "term_str = \"(@x. (a x y z IF TRUE a z y))\"\n",
    "term_code_str = convert_to_python_code(term_str)\n",
    "print(term_code_str)"
   ],
   "metadata": {
    "collapsed": false,
    "ExecuteTime": {
     "start_time": "2023-06-08T17:19:35.417688Z",
     "end_time": "2023-06-08T17:19:35.425072Z"
    }
   }
  },
  {
   "cell_type": "code",
   "execution_count": 29,
   "outputs": [
    {
     "ename": "Exception",
     "evalue": "Something went wrong",
     "output_type": "error",
     "traceback": [
      "\u001B[1;31m---------------------------------------------------------------------------\u001B[0m",
      "\u001B[1;31mException\u001B[0m                                 Traceback (most recent call last)",
      "Cell \u001B[1;32mIn[29], line 4\u001B[0m\n\u001B[0;32m      1\u001B[0m \u001B[38;5;66;03m# should generate an error\u001B[39;00m\n\u001B[0;32m      3\u001B[0m term_str \u001B[38;5;241m=\u001B[39m \u001B[38;5;124m\"\u001B[39m\u001B[38;5;124m()\u001B[39m\u001B[38;5;124m\"\u001B[39m\n\u001B[1;32m----> 4\u001B[0m term_code_str \u001B[38;5;241m=\u001B[39m \u001B[43mconvert_to_python_code\u001B[49m\u001B[43m(\u001B[49m\u001B[43mterm_str\u001B[49m\u001B[43m)\u001B[49m\n\u001B[0;32m      5\u001B[0m \u001B[38;5;28mprint\u001B[39m(term_code_str)\n",
      "Cell \u001B[1;32mIn[20], line 184\u001B[0m, in \u001B[0;36mconvert_to_python_code\u001B[1;34m(lambda_code)\u001B[0m\n\u001B[0;32m    181\u001B[0m     result_line \u001B[38;5;241m+\u001B[39m\u001B[38;5;241m=\u001B[39m \u001B[38;5;124m\"\u001B[39m\u001B[38;5;130;01m\\t\u001B[39;00m\u001B[38;5;124m\"\u001B[39m \u001B[38;5;241m+\u001B[39m var_name \u001B[38;5;241m+\u001B[39m \u001B[38;5;124m\"\u001B[39m\u001B[38;5;124m = Var()\u001B[39m\u001B[38;5;130;01m\\n\u001B[39;00m\u001B[38;5;124m\"\u001B[39m\n\u001B[0;32m    182\u001B[0m     result_line \u001B[38;5;241m+\u001B[39m\u001B[38;5;241m=\u001B[39m \u001B[38;5;124m\"\u001B[39m\u001B[38;5;130;01m\\t\u001B[39;00m\u001B[38;5;124m\"\u001B[39m \u001B[38;5;241m+\u001B[39m var_name \u001B[38;5;241m+\u001B[39m \u001B[38;5;124mf\u001B[39m\u001B[38;5;124m\"\u001B[39m\u001B[38;5;124m_ = Atom(\u001B[39m\u001B[38;5;132;01m{\u001B[39;00mvar_name\u001B[38;5;132;01m}\u001B[39;00m\u001B[38;5;124m)\u001B[39m\u001B[38;5;130;01m\\n\u001B[39;00m\u001B[38;5;124m\"\u001B[39m\n\u001B[1;32m--> 184\u001B[0m result_line \u001B[38;5;241m+\u001B[39m\u001B[38;5;241m=\u001B[39m \u001B[38;5;124m\"\u001B[39m\u001B[38;5;130;01m\\n\u001B[39;00m\u001B[38;5;130;01m\\t\u001B[39;00m\u001B[38;5;124mresult_term = \u001B[39m\u001B[38;5;124m\"\u001B[39m \u001B[38;5;241m+\u001B[39m \u001B[43mprocess_tokens_to_pt\u001B[49m\u001B[43m(\u001B[49m\u001B[43mlambda_code\u001B[49m\u001B[43m,\u001B[49m\u001B[43m \u001B[49m\u001B[43mvars_atoms_list\u001B[49m\u001B[43m)\u001B[49m\n\u001B[0;32m    185\u001B[0m result_line \u001B[38;5;241m+\u001B[39m\u001B[38;5;241m=\u001B[39m \u001B[38;5;124m\"\u001B[39m\u001B[38;5;130;01m\\n\u001B[39;00m\u001B[38;5;130;01m\\t\u001B[39;00m\u001B[38;5;124mreturn result_term\u001B[39m\u001B[38;5;124m\"\u001B[39m\n\u001B[0;32m    186\u001B[0m \u001B[38;5;28;01mreturn\u001B[39;00m result_line\n",
      "Cell \u001B[1;32mIn[20], line 127\u001B[0m, in \u001B[0;36mprocess_tokens_to_pt\u001B[1;34m(lambda_code, vars_list)\u001B[0m\n\u001B[0;32m    125\u001B[0m tokens \u001B[38;5;241m=\u001B[39m tokenize_term(lambda_code)\n\u001B[0;32m    126\u001B[0m \u001B[38;5;28;01mif\u001B[39;00m \u001B[38;5;28mlen\u001B[39m(tokens) \u001B[38;5;241m==\u001B[39m \u001B[38;5;241m0\u001B[39m:\n\u001B[1;32m--> 127\u001B[0m     \u001B[38;5;28;01mraise\u001B[39;00m \u001B[38;5;167;01mException\u001B[39;00m(\u001B[38;5;124m\"\u001B[39m\u001B[38;5;124mSomething went wrong\u001B[39m\u001B[38;5;124m\"\u001B[39m)\n\u001B[0;32m    128\u001B[0m \u001B[38;5;28;01melif\u001B[39;00m \u001B[38;5;28mlen\u001B[39m(tokens) \u001B[38;5;241m==\u001B[39m \u001B[38;5;241m1\u001B[39m:\n\u001B[0;32m    129\u001B[0m     \u001B[38;5;28;01mreturn\u001B[39;00m process_tokens_to_pt(tokens[\u001B[38;5;241m0\u001B[39m], vars_list)\n",
      "\u001B[1;31mException\u001B[0m: Something went wrong"
     ]
    }
   ],
   "source": [
    "# should generate an error\n",
    "\n",
    "term_str = \"()\"\n",
    "term_code_str = convert_to_python_code(term_str)\n",
    "print(term_code_str)"
   ],
   "metadata": {
    "collapsed": false
   }
  },
  {
   "cell_type": "code",
   "execution_count": 30,
   "outputs": [
    {
     "name": "stdout",
     "output_type": "stream",
     "text": [
      "def gen_term():\n",
      "\tNUM[4] = Var()\n",
      "\tNUM[4]_ = Atom(NUM[4])\n",
      "\n",
      "\tresult_term = nat_numbers.num_term(4)\n",
      "\treturn result_term\n"
     ]
    }
   ],
   "source": [
    "term_str = \"NUM[4]\"\n",
    "term_code_str = convert_to_python_code(term_str)\n",
    "print(term_code_str)"
   ],
   "metadata": {
    "collapsed": false,
    "ExecuteTime": {
     "start_time": "2023-06-08T17:19:38.890067Z",
     "end_time": "2023-06-08T17:19:38.897422Z"
    }
   }
  },
  {
   "cell_type": "code",
   "execution_count": 31,
   "outputs": [
    {
     "name": "stdout",
     "output_type": "stream",
     "text": [
      "def gen_term():\n",
      "\n",
      "\tresult_term = num_comparison.iszero_term()\n",
      "\treturn result_term\n"
     ]
    }
   ],
   "source": [
    "term_str = \"ISZERO\"\n",
    "term_code_str = convert_to_python_code(term_str)\n",
    "print(term_code_str)"
   ],
   "metadata": {
    "collapsed": false,
    "ExecuteTime": {
     "start_time": "2023-06-08T17:19:40.414814Z",
     "end_time": "2023-06-08T17:19:40.424201Z"
    }
   }
  },
  {
   "cell_type": "code",
   "execution_count": 32,
   "outputs": [
    {
     "ename": "Exception",
     "evalue": "Can't convert to lambda term an empty value",
     "output_type": "error",
     "traceback": [
      "\u001B[1;31m---------------------------------------------------------------------------\u001B[0m",
      "\u001B[1;31mException\u001B[0m                                 Traceback (most recent call last)",
      "Cell \u001B[1;32mIn[32], line 4\u001B[0m\n\u001B[0;32m      1\u001B[0m \u001B[38;5;66;03m# should generate error\u001B[39;00m\n\u001B[0;32m      3\u001B[0m term_str \u001B[38;5;241m=\u001B[39m \u001B[38;5;124m\"\u001B[39m\u001B[38;5;124m\"\u001B[39m\n\u001B[1;32m----> 4\u001B[0m term_code_str \u001B[38;5;241m=\u001B[39m \u001B[43mconvert_to_python_code\u001B[49m\u001B[43m(\u001B[49m\u001B[43mterm_str\u001B[49m\u001B[43m)\u001B[49m\n\u001B[0;32m      5\u001B[0m \u001B[38;5;28mprint\u001B[39m(term_code_str)\n",
      "Cell \u001B[1;32mIn[20], line 160\u001B[0m, in \u001B[0;36mconvert_to_python_code\u001B[1;34m(lambda_code)\u001B[0m\n\u001B[0;32m    158\u001B[0m lambda_code \u001B[38;5;241m=\u001B[39m lambda_code\u001B[38;5;241m.\u001B[39mreplace(\u001B[38;5;124m\"\u001B[39m\u001B[38;5;130;01m\\n\u001B[39;00m\u001B[38;5;124m\"\u001B[39m, \u001B[38;5;124m\"\u001B[39m\u001B[38;5;124m\"\u001B[39m)\u001B[38;5;241m.\u001B[39mreplace(\u001B[38;5;124m\"\u001B[39m\u001B[38;5;130;01m\\t\u001B[39;00m\u001B[38;5;124m\"\u001B[39m, \u001B[38;5;124m\"\u001B[39m\u001B[38;5;124m \u001B[39m\u001B[38;5;124m\"\u001B[39m)\u001B[38;5;241m.\u001B[39mstrip()\n\u001B[0;32m    159\u001B[0m \u001B[38;5;28;01mif\u001B[39;00m lambda_code \u001B[38;5;241m==\u001B[39m \u001B[38;5;124m\"\u001B[39m\u001B[38;5;124m\"\u001B[39m:\n\u001B[1;32m--> 160\u001B[0m     \u001B[38;5;28;01mraise\u001B[39;00m \u001B[38;5;167;01mException\u001B[39;00m(\u001B[38;5;124m\"\u001B[39m\u001B[38;5;124mCan\u001B[39m\u001B[38;5;124m'\u001B[39m\u001B[38;5;124mt convert to lambda term an empty value\u001B[39m\u001B[38;5;124m\"\u001B[39m)\n\u001B[0;32m    162\u001B[0m \u001B[38;5;66;03m# check brackets\u001B[39;00m\n\u001B[0;32m    163\u001B[0m count_open_brackets \u001B[38;5;241m=\u001B[39m lambda_code\u001B[38;5;241m.\u001B[39mcount(\u001B[38;5;124m\"\u001B[39m\u001B[38;5;124m(\u001B[39m\u001B[38;5;124m\"\u001B[39m)\n",
      "\u001B[1;31mException\u001B[0m: Can't convert to lambda term an empty value"
     ]
    }
   ],
   "source": [
    "# should generate error\n",
    "\n",
    "term_str = \"\"\n",
    "term_code_str = convert_to_python_code(term_str)\n",
    "print(term_code_str)"
   ],
   "metadata": {
    "collapsed": false,
    "ExecuteTime": {
     "start_time": "2023-06-07T19:01:39.410491Z",
     "end_time": "2023-06-07T19:01:39.431872Z"
    }
   }
  },
  {
   "cell_type": "code",
   "execution_count": 33,
   "outputs": [
    {
     "ename": "Exception",
     "evalue": "Wrong count brackets, can't interpreter this cause '(' = 4, ')' = 3",
     "output_type": "error",
     "traceback": [
      "\u001B[1;31m---------------------------------------------------------------------------\u001B[0m",
      "\u001B[1;31mException\u001B[0m                                 Traceback (most recent call last)",
      "Cell \u001B[1;32mIn[33], line 4\u001B[0m\n\u001B[0;32m      1\u001B[0m \u001B[38;5;66;03m# should gen an error\u001B[39;00m\n\u001B[0;32m      3\u001B[0m term_str \u001B[38;5;241m=\u001B[39m \u001B[38;5;124m\"\u001B[39m\u001B[38;5;124m(@v. (v a (b) (c) ISZERO v)\u001B[39m\u001B[38;5;124m\"\u001B[39m\n\u001B[1;32m----> 4\u001B[0m term_code_str \u001B[38;5;241m=\u001B[39m \u001B[43mconvert_to_python_code\u001B[49m\u001B[43m(\u001B[49m\u001B[43mterm_str\u001B[49m\u001B[43m)\u001B[49m\n\u001B[0;32m      5\u001B[0m \u001B[38;5;28mprint\u001B[39m(term_code_str)\n",
      "Cell \u001B[1;32mIn[20], line 166\u001B[0m, in \u001B[0;36mconvert_to_python_code\u001B[1;34m(lambda_code)\u001B[0m\n\u001B[0;32m    164\u001B[0m count_close_brackets \u001B[38;5;241m=\u001B[39m lambda_code\u001B[38;5;241m.\u001B[39mcount(\u001B[38;5;124m\"\u001B[39m\u001B[38;5;124m)\u001B[39m\u001B[38;5;124m\"\u001B[39m)\n\u001B[0;32m    165\u001B[0m \u001B[38;5;28;01mif\u001B[39;00m count_open_brackets \u001B[38;5;241m!=\u001B[39m count_close_brackets:\n\u001B[1;32m--> 166\u001B[0m     \u001B[38;5;28;01mraise\u001B[39;00m \u001B[38;5;167;01mException\u001B[39;00m(\n\u001B[0;32m    167\u001B[0m         \u001B[38;5;124mf\u001B[39m\u001B[38;5;124m\"\u001B[39m\u001B[38;5;124mWrong count brackets, can\u001B[39m\u001B[38;5;124m'\u001B[39m\u001B[38;5;124mt interpreter this cause \u001B[39m\u001B[38;5;124m'\u001B[39m\u001B[38;5;124m(\u001B[39m\u001B[38;5;124m'\u001B[39m\u001B[38;5;124m = \u001B[39m\u001B[38;5;132;01m{\u001B[39;00mcount_open_brackets\u001B[38;5;132;01m}\u001B[39;00m\u001B[38;5;124m, \u001B[39m\u001B[38;5;124m'\u001B[39m\u001B[38;5;124m)\u001B[39m\u001B[38;5;124m'\u001B[39m\u001B[38;5;124m = \u001B[39m\u001B[38;5;132;01m{\u001B[39;00mcount_close_brackets\u001B[38;5;132;01m}\u001B[39;00m\u001B[38;5;124m\"\u001B[39m)\n\u001B[0;32m    169\u001B[0m \u001B[38;5;66;03m# remove redundant spaces\u001B[39;00m\n\u001B[0;32m    170\u001B[0m lambda_code \u001B[38;5;241m=\u001B[39m re\u001B[38;5;241m.\u001B[39msub(\u001B[38;5;124mr\u001B[39m\u001B[38;5;124m\"\u001B[39m\u001B[38;5;124m\\\u001B[39m\u001B[38;5;124ms+\u001B[39m\u001B[38;5;124m\"\u001B[39m, \u001B[38;5;124m\"\u001B[39m\u001B[38;5;124m \u001B[39m\u001B[38;5;124m\"\u001B[39m, lambda_code)\n",
      "\u001B[1;31mException\u001B[0m: Wrong count brackets, can't interpreter this cause '(' = 4, ')' = 3"
     ]
    }
   ],
   "source": [
    "# should gen an error\n",
    "\n",
    "term_str = \"(@v. (v a (b) (c) ISZERO v)\"\n",
    "term_code_str = convert_to_python_code(term_str)\n",
    "print(term_code_str)"
   ],
   "metadata": {
    "collapsed": false
   }
  },
  {
   "cell_type": "code",
   "execution_count": 34,
   "outputs": [
    {
     "name": "stdout",
     "output_type": "stream",
     "text": [
      "def gen_term():\n",
      "\tb = Var()\n",
      "\tb_ = Atom(b)\n",
      "\tv = Var()\n",
      "\tv_ = Atom(v)\n",
      "\tc = Var()\n",
      "\tc_ = Atom(c)\n",
      "\ta = Var()\n",
      "\ta_ = Atom(a)\n",
      "\n",
      "\tresult_term = Lambda(v, multi_app_term(v_, a_, b_, c_, num_comparison.iszero_term(), v_, ))\n",
      "\treturn result_term\n"
     ]
    }
   ],
   "source": [
    "term_str = \"(@v. (v a (b) (c) ISZERO v))\"\n",
    "term_code_str = convert_to_python_code(term_str)\n",
    "print(term_code_str)"
   ],
   "metadata": {
    "collapsed": false,
    "ExecuteTime": {
     "start_time": "2023-06-08T17:19:47.032882Z",
     "end_time": "2023-06-08T17:19:47.042678Z"
    }
   }
  },
  {
   "cell_type": "markdown",
   "source": [
    "# Test an execution capabilities"
   ],
   "metadata": {
    "collapsed": false
   }
  },
  {
   "cell_type": "code",
   "execution_count": 35,
   "outputs": [
    {
     "name": "stdout",
     "output_type": "stream",
     "text": [
      "(λx.(x y))\n"
     ]
    }
   ],
   "source": [
    "term_ = conv_to_term(\"(@x. (x y))\")\n",
    "print(term_.funky_str())"
   ],
   "metadata": {
    "collapsed": false,
    "ExecuteTime": {
     "start_time": "2023-06-08T17:19:50.566223Z",
     "end_time": "2023-06-08T17:19:50.594080Z"
    }
   }
  },
  {
   "cell_type": "code",
   "execution_count": 36,
   "outputs": [
    {
     "name": "stdout",
     "output_type": "stream",
     "text": [
      "(λx.((x y) a))\n"
     ]
    }
   ],
   "source": [
    "term_ = conv_to_term(\"(@x. (x y z))\")\n",
    "print(term_.funky_str())"
   ],
   "metadata": {
    "collapsed": false,
    "ExecuteTime": {
     "start_time": "2023-06-08T17:19:51.064866Z",
     "end_time": "2023-06-08T17:19:51.081521Z"
    }
   }
  },
  {
   "cell_type": "code",
   "execution_count": 37,
   "outputs": [
    {
     "name": "stdout",
     "output_type": "stream",
     "text": [
      "(λx.(λy.x))\n"
     ]
    }
   ],
   "source": [
    "term_ = conv_to_term(\"TRUE\")\n",
    "print(term_.funky_str())"
   ],
   "metadata": {
    "collapsed": false,
    "ExecuteTime": {
     "start_time": "2023-06-08T17:19:53.320423Z",
     "end_time": "2023-06-08T17:19:53.338611Z"
    }
   }
  },
  {
   "cell_type": "code",
   "execution_count": 38,
   "outputs": [
    {
     "name": "stdout",
     "output_type": "stream",
     "text": [
      "(λx.(λy.y))\n"
     ]
    }
   ],
   "source": [
    "term_ = conv_to_term(\"FALSE\")\n",
    "print(term_.funky_str())"
   ],
   "metadata": {
    "collapsed": false,
    "ExecuteTime": {
     "start_time": "2023-06-08T17:19:53.790061Z",
     "end_time": "2023-06-08T17:19:53.804358Z"
    }
   }
  },
  {
   "cell_type": "code",
   "execution_count": null,
   "outputs": [],
   "source": [],
   "metadata": {
    "collapsed": false
   }
  }
 ],
 "metadata": {
  "kernelspec": {
   "display_name": "Python 3",
   "language": "python",
   "name": "python3"
  },
  "language_info": {
   "codemirror_mode": {
    "name": "ipython",
    "version": 2
   },
   "file_extension": ".py",
   "mimetype": "text/x-python",
   "name": "python",
   "nbconvert_exporter": "python",
   "pygments_lexer": "ipython2",
   "version": "2.7.6"
  }
 },
 "nbformat": 4,
 "nbformat_minor": 0
}
