{
 "cells": [
  {
   "cell_type": "code",
   "execution_count": 1,
   "metadata": {
    "collapsed": true,
    "ExecuteTime": {
     "start_time": "2023-06-21T15:41:53.748819Z",
     "end_time": "2023-06-21T15:41:53.837719Z"
    }
   },
   "outputs": [],
   "source": [
    "from lambda_code_interpreter import LambdaCalculusInterpreter\n",
    "\n",
    "inter_obj = LambdaCalculusInterpreter()"
   ]
  },
  {
   "cell_type": "markdown",
   "source": [
    "# Testing Interpreter"
   ],
   "metadata": {
    "collapsed": false
   }
  },
  {
   "cell_type": "code",
   "execution_count": 2,
   "outputs": [
    {
     "name": "stdout",
     "output_type": "stream",
     "text": [
      "None\n"
     ]
    }
   ],
   "source": [
    "res = inter_obj.process_commands(\"\")\n",
    "print(res)"
   ],
   "metadata": {
    "collapsed": false,
    "ExecuteTime": {
     "start_time": "2023-06-21T15:05:06.925378Z",
     "end_time": "2023-06-21T15:05:07.127496Z"
    }
   }
  },
  {
   "cell_type": "code",
   "execution_count": 3,
   "outputs": [
    {
     "name": "stdout",
     "output_type": "stream",
     "text": [
      "No command found consider '#help' for getting help how to use the lambda interpreter\n"
     ]
    }
   ],
   "source": [
    "res = inter_obj.process_commands(\"\\n\")\n",
    "print(res)"
   ],
   "metadata": {
    "collapsed": false,
    "ExecuteTime": {
     "start_time": "2023-06-21T15:05:06.932577Z",
     "end_time": "2023-06-21T15:05:07.127496Z"
    }
   }
  },
  {
   "cell_type": "code",
   "execution_count": 4,
   "outputs": [
    {
     "name": "stdout",
     "output_type": "stream",
     "text": [
      "No command found consider '#help' for getting help how to use the lambda interpreter\n"
     ]
    }
   ],
   "source": [
    "res = inter_obj.process_commands(\"#\")\n",
    "print(res)"
   ],
   "metadata": {
    "collapsed": false,
    "ExecuteTime": {
     "start_time": "2023-06-21T15:05:06.936233Z",
     "end_time": "2023-06-21T15:05:07.127496Z"
    }
   }
  },
  {
   "cell_type": "code",
   "execution_count": 5,
   "outputs": [
    {
     "name": "stdout",
     "output_type": "stream",
     "text": [
      "No command found consider '#help' for getting help how to use the lambda interpreter\n"
     ]
    }
   ],
   "source": [
    "res = inter_obj.process_commands(\"#ghdads\")\n",
    "print(res)"
   ],
   "metadata": {
    "collapsed": false,
    "ExecuteTime": {
     "start_time": "2023-06-21T15:05:06.944685Z",
     "end_time": "2023-06-21T15:05:07.127496Z"
    }
   }
  },
  {
   "cell_type": "code",
   "execution_count": 6,
   "outputs": [
    {
     "name": "stdout",
     "output_type": "stream",
     "text": [
      "#help -- to call this menu\n",
      "\n",
      "#show-syntax -- show syntax used for typing lambda terms\n",
      "#show-strategies -- show available strategies\n",
      "#show-lib -- show all available terms in the terms library\n",
      "#show-all -- show all terms defined by user\n",
      "#show TERM_NAME -- to get description by the term\n",
      "#show term_name -- to show a defined term by term name\n",
      "#show-full TERM_NAME -- to get a full term definition by the term nem\n",
      "#show-full term_name -- to show a full term definition of a defined term by term name\n",
      "\n",
      "#import /path_to_lib/lib_file.lmd -- for including terms from other file. \n",
      "                It must have a name in which will be defined a term\n",
      "#define term_name = term_definition # -- for defining term in the memory,\n",
      "                MUST ENDS on '#' symbol for allowing multiline input\n",
      "                 \n",
      "#reduce term_name STRATEGY_NAME -- reduce term by term_name with defined strategy\n",
      "                reduced term will appear in term_name_red_strategy_name, \n",
      "                STRATEGY_NAME isn't mandatory, if it doesn't set, system use \n",
      "                Leftmost Outermost strategy.\n",
      "For command '#reduce' you can set unlimited execution with commands separated\n",
      "via '-', with following commands you can:\n",
      "* nolim        -- set unlimited normalization process\n",
      "* tlim_TIMESEC -- set a normalization limit in SECONDS\n",
      "* lim_STEPS    -- set a normalization limit in NORMALIZATION STEPS\n",
      "* vis          -- visualize a normalization process\n"
     ]
    }
   ],
   "source": [
    "res = inter_obj.process_commands(\"#help\")\n",
    "print(res)"
   ],
   "metadata": {
    "collapsed": false,
    "ExecuteTime": {
     "start_time": "2023-06-21T15:05:06.948701Z",
     "end_time": "2023-06-21T15:05:07.128747Z"
    }
   }
  },
  {
   "cell_type": "code",
   "execution_count": 7,
   "outputs": [
    {
     "name": "stdout",
     "output_type": "stream",
     "text": [
      "#help -- to call this menu\n",
      "\n",
      "#show-syntax -- show syntax used for typing lambda terms\n",
      "#show-strategies -- show available strategies\n",
      "#show-lib -- show all available terms in the terms library\n",
      "#show-all -- show all terms defined by user\n",
      "#show TERM_NAME -- to get description by the term\n",
      "#show term_name -- to show a defined term by term name\n",
      "#show-full TERM_NAME -- to get a full term definition by the term nem\n",
      "#show-full term_name -- to show a full term definition of a defined term by term name\n",
      "\n",
      "#import /path_to_lib/lib_file.lmd -- for including terms from other file. \n",
      "                It must have a name in which will be defined a term\n",
      "#define term_name = term_definition # -- for defining term in the memory,\n",
      "                MUST ENDS on '#' symbol for allowing multiline input\n",
      "                 \n",
      "#reduce term_name STRATEGY_NAME -- reduce term by term_name with defined strategy\n",
      "                reduced term will appear in term_name_red_strategy_name, \n",
      "                STRATEGY_NAME isn't mandatory, if it doesn't set, system use \n",
      "                Leftmost Outermost strategy.\n",
      "For command '#reduce' you can set unlimited execution with commands separated\n",
      "via '-', with following commands you can:\n",
      "* nolim        -- set unlimited normalization process\n",
      "* tlim_TIMESEC -- set a normalization limit in SECONDS\n",
      "* lim_STEPS    -- set a normalization limit in NORMALIZATION STEPS\n",
      "* vis          -- visualize a normalization process\n"
     ]
    }
   ],
   "source": [
    "res = inter_obj.process_commands(\"\\n   #help\")\n",
    "print(res)"
   ],
   "metadata": {
    "collapsed": false,
    "ExecuteTime": {
     "start_time": "2023-06-21T15:05:06.955663Z",
     "end_time": "2023-06-21T15:05:07.128747Z"
    }
   }
  },
  {
   "cell_type": "code",
   "execution_count": 8,
   "outputs": [
    {
     "name": "stdout",
     "output_type": "stream",
     "text": [
      "No command found consider '#help' for getting help how to use the lambda interpreter\n"
     ]
    }
   ],
   "source": [
    "res = inter_obj.process_commands(\"\\n   # help\")\n",
    "print(res)"
   ],
   "metadata": {
    "collapsed": false,
    "ExecuteTime": {
     "start_time": "2023-06-21T15:05:06.961426Z",
     "end_time": "2023-06-21T15:05:07.128747Z"
    }
   }
  },
  {
   "cell_type": "code",
   "execution_count": 9,
   "outputs": [
    {
     "name": "stdout",
     "output_type": "stream",
     "text": [
      "Lamda Calculus syntax rules:\n",
      "\n",
      "* 'x' -- means atom term\n",
      "* '(@var_name. body_term)' -- abstract term, between @ and . symbols defined variable\n",
      "* (object_term subject_term) -- application term\n",
      "* (term_1 term_2 term_3 term_n) -- short version of (((term_1 term_2) term_3) term_n)\n",
      "* instead term you can use predefined terms in library or your own\n",
      "\n"
     ]
    }
   ],
   "source": [
    "res = inter_obj.process_commands(\"#show-syntax\")\n",
    "print(res)"
   ],
   "metadata": {
    "collapsed": false,
    "ExecuteTime": {
     "start_time": "2023-06-21T15:05:06.966873Z",
     "end_time": "2023-06-21T15:05:07.128747Z"
    }
   }
  },
  {
   "cell_type": "code",
   "execution_count": 10,
   "outputs": [
    {
     "name": "stdout",
     "output_type": "stream",
     "text": [
      "Strategies: \n",
      "* LO is Left Most Outer Most Strategy\n",
      "* LI is Left Most Inner Most Strategy\n",
      "\n"
     ]
    }
   ],
   "source": [
    "res = inter_obj.process_commands(\"#show-strategies\")\n",
    "print(res)"
   ],
   "metadata": {
    "collapsed": false,
    "ExecuteTime": {
     "start_time": "2023-06-21T15:05:06.973413Z",
     "end_time": "2023-06-21T15:05:07.167441Z"
    }
   }
  },
  {
   "cell_type": "code",
   "execution_count": 11,
   "outputs": [
    {
     "name": "stdout",
     "output_type": "stream",
     "text": [
      "** LOGIC TERMS **\n",
      "TRUE == (λx.(λy.x))\n",
      "FALSE == (λx.(λy.y))\n",
      "IF == (λx.(λy.(λa.((x y) a))))\n",
      "ITE == (λx.(λy.(λa.((x y) a))))\n",
      "NOT == (λa. (ITE a FALSE TRUE))\n",
      "AND == (λa. (λb. (ITE a b a)))\n",
      "OR == (λa. (λb. (ITE a a b)))\n",
      "\n",
      "** COMBINATOR TERMS **\n",
      "K == (λx.(λy.x))\n",
      "K_STAR == (λx.(λy.y))\n",
      "S == (λx.(λy.(λa.((x a) (y a)))))\n",
      "I == (λx.x)\n",
      "Y == (λx.((λy.(x (y y))) (λy.(x (y y)))))\n",
      "Z == (λx.((λy.(x (λa.((y y) a)))) (λy.(x (λa.((y y) a))))))\n",
      "ETTA_V == ((λx.(λy.(y (λa.(((x x) y) y))))) (λx.(λy.(y (λa.(((x x) y) y))))))\n",
      "\n",
      "** NUMBERS **\n",
      "NUM[0] == (λx.(λy.y))\n",
      "NUM[1] == (λx.(λy.(x y)))\n",
      "NUM[2] == (λx.(λy.(x (x y))))\n",
      "NUM[3] == (λx.(λy.(x (x (x y)))))\n",
      "\n",
      "** NUMBER COMPARISONS **\n",
      "ISZERO == (λn. (n (λx. FALSE) TRUE))\n",
      "LEQ == (λn. (λm. (ISZERO (SUBTRACT n m))))\n",
      "EQ == (λn. (λm. (AND (LE n m) (LE m n)) ))\n",
      "LT == (λa. (λb. (NOT (LEQ b a)) ))\n",
      "NEQ == (λa. (λb. (OR (NOT (LEQ a b)) (NOT (LEQ b a))) ))\n",
      "GEQ == (λa. (λb. (LEQ b a) ))\n",
      "GT == (λa. (λb. (NOT (LEQ a b)) ))\n",
      "\n",
      "** PAIRS **\n",
      "PAIR == (𝜆x. (𝜆y. (𝜆p. (p x y)) ))\n",
      "FIRST == (λx.(x (λy.(λa.y))))\n",
      "SECOND == (λx.(x (λy.(λa.a))))\n",
      "\n",
      "** ARITHMETIC OPERATIONS **\n",
      "SUCC == (𝜆n. (𝜆x. (𝜆y. (x (n x y)) )))\n",
      "SINC == (𝜆p. (PAIR (SECOND p) (SUCC (SECOND p))) )\n",
      "PRED == (𝜆n. (FIRST (NUM[n] SINC (PAIR NUM[0] NUM[0]))) )\n",
      "SUBTRACT == (𝜆n. (𝜆m. (m PRED n) ))\n",
      "MINUS == (𝜆n. (𝜆m. (m PRED n) ))\n",
      "DIV == (Y (λgqab. (LT a b (PAIR q a) (g (SUCC q) (SUB a b) b) ) NUM[0]) )\n",
      "MOD == (λab. (SECOND (DIV a b)) )\n",
      "IDIV == (λab. (FIRST (DIV a b)) )\n",
      "PLUS == (λmn. (n SUCC m) )\n",
      "SUM == (λmn. (n SUCC m) )\n",
      "MULT == (λmn. (m (PLUS n) NUM[0]) )\n",
      "\n"
     ]
    }
   ],
   "source": [
    "res = inter_obj.process_commands(\"#show-lib\")\n",
    "print(res)"
   ],
   "metadata": {
    "collapsed": false,
    "ExecuteTime": {
     "start_time": "2023-06-21T15:05:06.979004Z",
     "end_time": "2023-06-21T15:05:07.167441Z"
    }
   }
  },
  {
   "cell_type": "code",
   "execution_count": 12,
   "outputs": [
    {
     "name": "stdout",
     "output_type": "stream",
     "text": [
      "No terms in own library\n"
     ]
    }
   ],
   "source": [
    "res = inter_obj.process_commands(\"#show-all\")\n",
    "print(res)"
   ],
   "metadata": {
    "collapsed": false,
    "ExecuteTime": {
     "start_time": "2023-06-21T15:05:06.983541Z",
     "end_time": "2023-06-21T15:05:07.167441Z"
    }
   }
  },
  {
   "cell_type": "code",
   "execution_count": 13,
   "outputs": [
    {
     "name": "stdout",
     "output_type": "stream",
     "text": [
      "Terms description:\n",
      "* IDIV == (λab. (FIRST (DIV a b)) )\n",
      "\n"
     ]
    }
   ],
   "source": [
    "res = inter_obj.process_commands(\"#show IDIV\")\n",
    "print(res)"
   ],
   "metadata": {
    "collapsed": false,
    "ExecuteTime": {
     "start_time": "2023-06-21T15:05:06.989118Z",
     "end_time": "2023-06-21T15:05:07.168441Z"
    }
   }
  },
  {
   "cell_type": "code",
   "execution_count": 14,
   "outputs": [
    {
     "name": "stdout",
     "output_type": "stream",
     "text": [
      "Terms description:\n",
      "* PLUS == (λmn. (n SUCC m) )\n",
      "* MOD == (λab. (SECOND (DIV a b)) )\n",
      "* SUCC == (𝜆n. (𝜆x. (𝜆y. (x (n x y)) )))\n",
      "\n"
     ]
    }
   ],
   "source": [
    "res = inter_obj.process_commands(\"#show PLUS MOD SUCC\")\n",
    "print(res)"
   ],
   "metadata": {
    "collapsed": false,
    "ExecuteTime": {
     "start_time": "2023-06-21T15:05:06.999016Z",
     "end_time": "2023-06-21T15:05:07.168441Z"
    }
   }
  },
  {
   "cell_type": "code",
   "execution_count": 15,
   "outputs": [
    {
     "name": "stdout",
     "output_type": "stream",
     "text": [
      "Defined term could be found & reduced by name: 'yyy_term'\n"
     ]
    }
   ],
   "source": [
    "res = inter_obj.process_commands(\"#define yyy_term = (@x. (x y))#\")\n",
    "print(res)"
   ],
   "metadata": {
    "collapsed": false,
    "ExecuteTime": {
     "start_time": "2023-06-21T15:05:07.004674Z",
     "end_time": "2023-06-21T15:05:07.168441Z"
    }
   }
  },
  {
   "cell_type": "code",
   "execution_count": 16,
   "outputs": [
    {
     "name": "stdout",
     "output_type": "stream",
     "text": [
      "Terms description:\n",
      "* yyy_term == (@x. (x y))\n",
      "\n"
     ]
    }
   ],
   "source": [
    "res = inter_obj.process_commands(\"#show yyy_term\")\n",
    "print(res)"
   ],
   "metadata": {
    "collapsed": false,
    "ExecuteTime": {
     "start_time": "2023-06-21T15:05:07.011155Z",
     "end_time": "2023-06-21T15:05:07.168441Z"
    }
   }
  },
  {
   "cell_type": "code",
   "execution_count": 17,
   "outputs": [
    {
     "name": "stdout",
     "output_type": "stream",
     "text": [
      "Terms description:\n",
      "* yyy_term == (@x. (x y))\n",
      "* PLUS == (λmn. (n SUCC m) )\n",
      "* MOD == (λab. (SECOND (DIV a b)) )\n",
      "\n"
     ]
    }
   ],
   "source": [
    "res = inter_obj.process_commands(\"#show yyy_term PLUS MOD\")\n",
    "print(res)"
   ],
   "metadata": {
    "collapsed": false,
    "ExecuteTime": {
     "start_time": "2023-06-21T15:05:07.016081Z",
     "end_time": "2023-06-21T15:05:07.168441Z"
    }
   }
  },
  {
   "cell_type": "code",
   "execution_count": 18,
   "outputs": [
    {
     "name": "stdout",
     "output_type": "stream",
     "text": [
      "Defined term could be found & reduced by name: 'yyy_term'\n"
     ]
    }
   ],
   "source": [
    "res = inter_obj.process_commands(\"#define yyy_term = (@x. (@y. (a SUCC b) ) )#\")\n",
    "print(res)"
   ],
   "metadata": {
    "collapsed": false,
    "ExecuteTime": {
     "start_time": "2023-06-21T15:05:07.022167Z",
     "end_time": "2023-06-21T15:05:07.168441Z"
    }
   }
  },
  {
   "cell_type": "code",
   "execution_count": 19,
   "outputs": [
    {
     "name": "stdout",
     "output_type": "stream",
     "text": [
      "Terms description:\n",
      "* yyy_term == (@x. (@y. (a SUCC b) ) )\n",
      "\n"
     ]
    }
   ],
   "source": [
    "res = inter_obj.process_commands(\"#show yyy_term\")\n",
    "print(res)"
   ],
   "metadata": {
    "collapsed": false,
    "ExecuteTime": {
     "start_time": "2023-06-21T15:05:07.029349Z",
     "end_time": "2023-06-21T15:05:07.169441Z"
    }
   }
  },
  {
   "cell_type": "code",
   "execution_count": 20,
   "outputs": [
    {
     "name": "stdout",
     "output_type": "stream",
     "text": [
      "None\n",
      "None\n",
      "None\n",
      "None\n",
      "Defined term could be found & reduced by name: 'sum_term'\n"
     ]
    }
   ],
   "source": [
    "res = inter_obj.process_commands(\"#define sum_term = ( PLUS \")\n",
    "print(res)\n",
    "res = inter_obj.process_commands(\" NUM[2] \")\n",
    "print(res)\n",
    "res = inter_obj.process_commands(\" NUM[3] \")\n",
    "print(res)\n",
    "res = inter_obj.process_commands(\"\")\n",
    "print(res)\n",
    "res = inter_obj.process_commands(\")#\")\n",
    "print(res)"
   ],
   "metadata": {
    "collapsed": false,
    "ExecuteTime": {
     "start_time": "2023-06-21T15:05:07.035392Z",
     "end_time": "2023-06-21T15:05:07.169441Z"
    }
   }
  },
  {
   "cell_type": "code",
   "execution_count": 21,
   "outputs": [
    {
     "name": "stdout",
     "output_type": "stream",
     "text": [
      "Terms description:\n",
      "* sum_term == ( PLUS \n",
      " NUM[2] \n",
      " NUM[3] \n",
      ")\n",
      "\n"
     ]
    }
   ],
   "source": [
    "res = inter_obj.process_commands(\"#show sum_term\")\n",
    "print(res)"
   ],
   "metadata": {
    "collapsed": false,
    "ExecuteTime": {
     "start_time": "2023-06-21T15:05:07.041373Z",
     "end_time": "2023-06-21T15:05:07.169949Z"
    }
   }
  },
  {
   "cell_type": "code",
   "execution_count": 22,
   "outputs": [
    {
     "name": "stdout",
     "output_type": "stream",
     "text": [
      "sum_term wasn't normalized\n",
      "13 -- steps tried,  0.00000s -- spend time\n",
      "\n"
     ]
    }
   ],
   "source": [
    "res = inter_obj.process_commands(\"#reduce sum_term\")\n",
    "print(res)"
   ],
   "metadata": {
    "collapsed": false,
    "ExecuteTime": {
     "start_time": "2023-06-21T15:05:07.046301Z",
     "end_time": "2023-06-21T15:05:07.169949Z"
    }
   }
  },
  {
   "cell_type": "code",
   "execution_count": 23,
   "outputs": [
    {
     "name": "stdout",
     "output_type": "stream",
     "text": [
      "sum_term wasn't normalized\n",
      "13 -- steps tried,  0.00000s -- spend time\n",
      "\n"
     ]
    }
   ],
   "source": [
    "res = inter_obj.process_commands(\"#reduce sum_term LO\")\n",
    "print(res)"
   ],
   "metadata": {
    "collapsed": false,
    "ExecuteTime": {
     "start_time": "2023-06-21T15:05:07.060368Z",
     "end_time": "2023-06-21T15:05:07.170454Z"
    }
   }
  },
  {
   "cell_type": "code",
   "execution_count": 24,
   "outputs": [
    {
     "name": "stdout",
     "output_type": "stream",
     "text": [
      "sum_term wasn't normalized\n",
      "13 -- steps tried,  0.00000s -- spend time\n",
      "\n"
     ]
    }
   ],
   "source": [
    "res = inter_obj.process_commands(\"#reduce sum_term LI\")\n",
    "print(res)"
   ],
   "metadata": {
    "collapsed": false,
    "ExecuteTime": {
     "start_time": "2023-06-21T15:05:07.073762Z",
     "end_time": "2023-06-21T15:05:07.170454Z"
    }
   }
  },
  {
   "cell_type": "code",
   "execution_count": 25,
   "outputs": [
    {
     "name": "stdout",
     "output_type": "stream",
     "text": [
      "Terms description:\n",
      "sum_term_red_LI doesn't have a term definition\n"
     ]
    }
   ],
   "source": [
    "res = inter_obj.process_commands(\"#show sum_term_red_LI\")\n",
    "print(res)"
   ],
   "metadata": {
    "collapsed": false,
    "ExecuteTime": {
     "start_time": "2023-06-21T15:05:07.083149Z",
     "end_time": "2023-06-21T15:05:07.170454Z"
    }
   }
  },
  {
   "cell_type": "code",
   "execution_count": 26,
   "outputs": [
    {
     "name": "stdout",
     "output_type": "stream",
     "text": [
      "Terms description:\n",
      "sum_term_red_LO doesn't have a term definition\n"
     ]
    }
   ],
   "source": [
    "res = inter_obj.process_commands(\"#show sum_term_red_LO\")\n",
    "print(res)"
   ],
   "metadata": {
    "collapsed": false,
    "ExecuteTime": {
     "start_time": "2023-06-21T15:05:07.088666Z",
     "end_time": "2023-06-21T15:05:07.170454Z"
    }
   }
  },
  {
   "cell_type": "code",
   "execution_count": 27,
   "outputs": [
    {
     "name": "stdout",
     "output_type": "stream",
     "text": [
      "Defined term could be found & reduced by name: 'new_term'\n"
     ]
    }
   ],
   "source": [
    "print(inter_obj.process_commands(\"\"\"\n",
    "        #define new_term = (IF (ISZERO sum_term_red_LO) TRUE FALSE)\n",
    "        #\"\"\")\n",
    ")"
   ],
   "metadata": {
    "collapsed": false,
    "ExecuteTime": {
     "start_time": "2023-06-21T15:05:07.095014Z",
     "end_time": "2023-06-21T15:05:07.170454Z"
    }
   }
  },
  {
   "cell_type": "code",
   "execution_count": 28,
   "outputs": [
    {
     "name": "stdout",
     "output_type": "stream",
     "text": [
      "Full terms description:\n",
      "* new_term == ((((λx.(λy.(λa.((x y) a)))) ((λb.((b (λc.(λd.(λe.e)))) (λj.(λi.j)))) n)) (λm.(λt.m))) (λr.(λq.q)))\n",
      "\n"
     ]
    }
   ],
   "source": [
    "print(inter_obj.process_commands(\"#show-full new_term\"))"
   ],
   "metadata": {
    "collapsed": false,
    "ExecuteTime": {
     "start_time": "2023-06-21T15:05:07.100457Z",
     "end_time": "2023-06-21T15:05:07.171462Z"
    }
   }
  },
  {
   "cell_type": "code",
   "execution_count": 29,
   "outputs": [
    {
     "name": "stdout",
     "output_type": "stream",
     "text": [
      "new_term wasn't normalized\n",
      "4 -- steps tried,  0.01562s -- spend time\n",
      "\n"
     ]
    }
   ],
   "source": [
    "print(inter_obj.process_commands(\"#reduce new_term\"))"
   ],
   "metadata": {
    "collapsed": false,
    "ExecuteTime": {
     "start_time": "2023-06-21T15:05:07.107295Z",
     "end_time": "2023-06-21T15:05:07.171462Z"
    }
   }
  },
  {
   "cell_type": "code",
   "execution_count": 30,
   "outputs": [
    {
     "name": "stdout",
     "output_type": "stream",
     "text": [
      "Defined term could be found & reduced by name: 'new_term'\n"
     ]
    }
   ],
   "source": [
    "res = inter_obj.process_commands(\"\"\"\n",
    "#define new_term = (ISZERO sum_term_red_LO)\n",
    "#\"\"\")\n",
    "print(res)"
   ],
   "metadata": {
    "collapsed": false,
    "ExecuteTime": {
     "start_time": "2023-06-21T15:05:07.113222Z",
     "end_time": "2023-06-21T15:05:07.171462Z"
    }
   }
  },
  {
   "cell_type": "code",
   "execution_count": 31,
   "outputs": [
    {
     "name": "stdout",
     "output_type": "stream",
     "text": [
      "new_term wasn't normalized\n",
      "1 -- steps tried,  0.00000s -- spend time\n",
      "\n"
     ]
    }
   ],
   "source": [
    "print(inter_obj.process_commands(\"#reduce new_term\"))"
   ],
   "metadata": {
    "collapsed": false,
    "ExecuteTime": {
     "start_time": "2023-06-21T15:05:07.119047Z",
     "end_time": "2023-06-21T15:05:07.171462Z"
    }
   }
  },
  {
   "cell_type": "code",
   "execution_count": 32,
   "outputs": [
    {
     "name": "stdout",
     "output_type": "stream",
     "text": [
      "Full terms description:\n",
      "* new_term == ((λx.((x (λy.(λa.(λb.b)))) (λc.(λd.c)))) e)\n",
      "\n"
     ]
    }
   ],
   "source": [
    "print(inter_obj.process_commands(\"#show-full new_term\"))"
   ],
   "metadata": {
    "collapsed": false,
    "ExecuteTime": {
     "start_time": "2023-06-21T15:05:07.123329Z",
     "end_time": "2023-06-21T15:05:07.171462Z"
    }
   }
  },
  {
   "cell_type": "code",
   "execution_count": 33,
   "outputs": [
    {
     "name": "stdout",
     "output_type": "stream",
     "text": [
      "Full terms description:\n",
      "new_term_red_LO doesn't have a term definition\n"
     ]
    }
   ],
   "source": [
    "print(inter_obj.process_commands(\"#show-full new_term_red_LO\"))"
   ],
   "metadata": {
    "collapsed": false,
    "ExecuteTime": {
     "start_time": "2023-06-21T15:05:07.128747Z",
     "end_time": "2023-06-21T15:05:07.172826Z"
    }
   }
  },
  {
   "cell_type": "code",
   "execution_count": 34,
   "outputs": [
    {
     "name": "stdout",
     "output_type": "stream",
     "text": [
      "Defined term could be found & reduced by name: 'aaa_term'\n"
     ]
    }
   ],
   "source": [
    "print(inter_obj.process_commands(\"#define aaa_term = (sum_term_red_LO sum_term_red_LO new_term_red_LO)#\"))"
   ],
   "metadata": {
    "collapsed": false,
    "ExecuteTime": {
     "start_time": "2023-06-21T15:05:07.135194Z",
     "end_time": "2023-06-21T15:05:07.172826Z"
    }
   }
  },
  {
   "cell_type": "code",
   "execution_count": 35,
   "outputs": [
    {
     "name": "stdout",
     "output_type": "stream",
     "text": [
      "Terms description:\n",
      "* aaa_term == (sum_term_red_LO sum_term_red_LO new_term_red_LO)\n",
      "\n"
     ]
    }
   ],
   "source": [
    "print(inter_obj.process_commands(\"#show aaa_term\"))"
   ],
   "metadata": {
    "collapsed": false,
    "ExecuteTime": {
     "start_time": "2023-06-21T15:05:07.140117Z",
     "end_time": "2023-06-21T15:05:07.172826Z"
    }
   }
  },
  {
   "cell_type": "code",
   "execution_count": 36,
   "outputs": [
    {
     "name": "stdout",
     "output_type": "stream",
     "text": [
      "Full terms description:\n",
      "* aaa_term == ((x x) y)\n",
      "\n"
     ]
    }
   ],
   "source": [
    "print(inter_obj.process_commands(\"#show-full aaa_term\"))"
   ],
   "metadata": {
    "collapsed": false,
    "ExecuteTime": {
     "start_time": "2023-06-21T15:05:07.145130Z",
     "end_time": "2023-06-21T15:05:07.172826Z"
    }
   }
  },
  {
   "cell_type": "code",
   "execution_count": 5,
   "outputs": [
    {
     "name": "stdout",
     "output_type": "stream",
     "text": [
      "Imported term could be fined & reduced by name: 'fib_term'\n"
     ]
    }
   ],
   "source": [
    "print(inter_obj.process_commands(\"#import fibonacci.lmd\"))"
   ],
   "metadata": {
    "collapsed": false,
    "ExecuteTime": {
     "start_time": "2023-06-21T15:43:48.324385Z",
     "end_time": "2023-06-21T15:43:48.332050Z"
    }
   }
  },
  {
   "cell_type": "code",
   "execution_count": 38,
   "outputs": [
    {
     "name": "stdout",
     "output_type": "stream",
     "text": [
      "Defined term could be found & reduced by name: 'fib_test'\n",
      "fib_test wasn't normalized\n",
      "30 -- steps tried,  0.00000s -- spend time\n",
      "\n"
     ]
    }
   ],
   "source": [
    "print(inter_obj.process_commands(\"#define fib_test = (fib_term (PAIR NUM[0] (PAIR NUM[0] NUM[1])) )#\"))\n",
    "print(inter_obj.process_commands(\"#reduce fib_test\"))"
   ],
   "metadata": {
    "collapsed": false,
    "ExecuteTime": {
     "start_time": "2023-06-21T15:05:07.158654Z",
     "end_time": "2023-06-21T15:05:07.528933Z"
    }
   }
  },
  {
   "cell_type": "code",
   "execution_count": 39,
   "outputs": [
    {
     "name": "stdout",
     "output_type": "stream",
     "text": [
      "Defined term could be found & reduced by name: 'fib_test'\n",
      "fib_test wasn't normalized\n",
      "82 -- steps tried,  0.12500s -- spend time\n",
      "\n"
     ]
    }
   ],
   "source": [
    "print(inter_obj.process_commands(\"#define fib_test = (fib_term (PAIR NUM[1] (PAIR NUM[0] NUM[1])) )#\"))\n",
    "print(inter_obj.process_commands(\"#reduce fib_test\"))"
   ],
   "metadata": {
    "collapsed": false,
    "ExecuteTime": {
     "start_time": "2023-06-21T15:05:07.254745Z",
     "end_time": "2023-06-21T15:05:07.729250Z"
    }
   }
  },
  {
   "cell_type": "code",
   "execution_count": 40,
   "outputs": [
    {
     "name": "stdout",
     "output_type": "stream",
     "text": [
      "Defined term could be found & reduced by name: 'fib_test'\n",
      "fib_test wasn't normalized\n",
      "187 -- steps tried,  0.98438s -- spend time\n",
      "\n"
     ]
    }
   ],
   "source": [
    "print(inter_obj.process_commands(\"#define fib_test = (fib_term (PAIR NUM[2] (PAIR NUM[0] NUM[1])) )#\"))\n",
    "print(inter_obj.process_commands(\"#reduce-nolim fib_test\"))"
   ],
   "metadata": {
    "collapsed": false,
    "ExecuteTime": {
     "start_time": "2023-06-21T15:05:07.690244Z",
     "end_time": "2023-06-21T15:05:10.427616Z"
    }
   }
  },
  {
   "cell_type": "code",
   "execution_count": 41,
   "outputs": [
    {
     "name": "stdout",
     "output_type": "stream",
     "text": [
      "Defined term could be found & reduced by name: 'fib_test'\n",
      "fib_test wasn't normalized\n",
      "348 -- steps tried,  5.42188s -- spend time\n",
      "\n"
     ]
    }
   ],
   "source": [
    "print(inter_obj.process_commands(\"#define fib_test = (fib_term (PAIR NUM[3] (PAIR NUM[0] NUM[1])) )#\"))\n",
    "print(inter_obj.process_commands(\"#reduce-nolim fib_test\"))"
   ],
   "metadata": {
    "collapsed": false,
    "ExecuteTime": {
     "start_time": "2023-06-21T15:05:10.426176Z",
     "end_time": "2023-06-21T15:05:31.103666Z"
    }
   }
  },
  {
   "cell_type": "code",
   "execution_count": 42,
   "outputs": [
    {
     "name": "stdout",
     "output_type": "stream",
     "text": [
      "Defined term could be found & reduced by name: 'fib_test'\n",
      "fib_test wasn't normalized\n",
      "597 -- steps tried,  32.87500s -- spend time\n",
      "\n"
     ]
    }
   ],
   "source": [
    "print(inter_obj.process_commands(\"#define fib_test = (fib_term (PAIR NUM[4] (PAIR NUM[0] NUM[1])) )#\"))\n",
    "print(inter_obj.process_commands(\"#reduce-nolim fib_test\"))"
   ],
   "metadata": {
    "collapsed": false,
    "ExecuteTime": {
     "start_time": "2023-06-21T15:05:31.101091Z",
     "end_time": "2023-06-21T15:08:16.792119Z"
    }
   }
  },
  {
   "cell_type": "code",
   "execution_count": 43,
   "outputs": [
    {
     "name": "stdout",
     "output_type": "stream",
     "text": [
      "TRUE wasn't normalized\n",
      "0 -- steps tried,  0.00000s -- spend time\n",
      "\n"
     ]
    }
   ],
   "source": [
    "print(inter_obj.process_commands(\"\\n#reduce\\nTRUE\\n\"))"
   ],
   "metadata": {
    "collapsed": false,
    "ExecuteTime": {
     "start_time": "2023-06-21T15:08:16.792119Z",
     "end_time": "2023-06-21T15:08:16.798297Z"
    }
   }
  },
  {
   "cell_type": "code",
   "execution_count": 44,
   "outputs": [
    {
     "name": "stdout",
     "output_type": "stream",
     "text": [
      "NUM[0] wasn't normalized\n",
      "0 -- steps tried,  0.00000s -- spend time\n",
      "\n"
     ]
    }
   ],
   "source": [
    "print(inter_obj.process_commands(\"#reduce NUM[0]\"))"
   ],
   "metadata": {
    "collapsed": false,
    "ExecuteTime": {
     "start_time": "2023-06-21T15:08:16.797277Z",
     "end_time": "2023-06-21T15:08:16.812152Z"
    }
   }
  },
  {
   "cell_type": "code",
   "execution_count": 45,
   "outputs": [
    {
     "name": "stdout",
     "output_type": "stream",
     "text": [
      "NUM[10] wasn't normalized\n",
      "0 -- steps tried,  0.00000s -- spend time\n",
      "\n"
     ]
    }
   ],
   "source": [
    "print(inter_obj.process_commands(\"#reduce NUM[10]\"))"
   ],
   "metadata": {
    "collapsed": false,
    "ExecuteTime": {
     "start_time": "2023-06-21T15:08:16.811096Z",
     "end_time": "2023-06-21T15:08:16.818483Z"
    }
   }
  },
  {
   "cell_type": "markdown",
   "source": [
    "# more tests of '#reduce' & nolim & lim & tlim & vis"
   ],
   "metadata": {
    "collapsed": false
   }
  },
  {
   "cell_type": "code",
   "execution_count": 46,
   "outputs": [
    {
     "name": "stdout",
     "output_type": "stream",
     "text": [
      "Defined term could be found & reduced by name: 'fib_test'\n",
      "fib_test wasn't normalized\n",
      "40 -- steps tried,  0.07812s -- spend time\n",
      "\n"
     ]
    }
   ],
   "source": [
    "print(inter_obj.process_commands(\"#define fib_test = (fib_term (PAIR NUM[3] (PAIR NUM[0] NUM[1])) )#\"))\n",
    "print(inter_obj.process_commands(\"#reduce-lim_40 fib_test\"))"
   ],
   "metadata": {
    "collapsed": false,
    "ExecuteTime": {
     "start_time": "2023-06-21T15:08:16.817128Z",
     "end_time": "2023-06-21T15:08:17.124448Z"
    }
   }
  },
  {
   "cell_type": "code",
   "execution_count": 47,
   "outputs": [
    {
     "name": "stdout",
     "output_type": "stream",
     "text": [
      "Defined term could be found & reduced by name: 'fib_test'\n",
      "fib_test wasn't normalized\n",
      "inf -- steps tried,  4.00000s -- spend time\n",
      "\n"
     ]
    }
   ],
   "source": [
    "print(inter_obj.process_commands(\"#define fib_test = (fib_term (PAIR NUM[3] (PAIR NUM[0] NUM[1])) )#\"))\n",
    "print(inter_obj.process_commands(\"#reduce-tlim_4 fib_test\"))"
   ],
   "metadata": {
    "collapsed": false,
    "ExecuteTime": {
     "start_time": "2023-06-21T15:08:17.125971Z",
     "end_time": "2023-06-21T15:08:21.168683Z"
    }
   }
  },
  {
   "cell_type": "code",
   "execution_count": 2,
   "outputs": [
    {
     "name": "stdout",
     "output_type": "stream",
     "text": [
      "Defined term could be found & reduced by name: 'sum_term'\n",
      "Normalization steps for 'sum_term' with strategy 'LO'\n",
      "\n",
      "0) time: 0.00000s, term: ([>> (λx.(λy.((y (λa.(λb.(λc.(b ((a b) c)))))) x))) *** (λd.(λe.(d (d (d e))))) <<] (λj.(λi.(j i))))\n",
      "1) time: 0.00000s, term: [>> (λx.((x (λy.(λa.(λb.(a ((y a) b)))))) (λc.(λd.(c (c (c d))))))) *** (λe.(λj.(e j))) <<]\n",
      "2) time: 0.00000s, term: ([>> (λx.(λy.(x y))) *** (λa.(λb.(λc.(b ((a b) c))))) <<] (λd.(λe.(d (d (d e))))))\n",
      "3) time: 0.00000s, term: [>> (λx.((λy.(λa.(λb.(a ((y a) b))))) x)) *** (λc.(λd.(c (c (c d))))) <<]\n",
      "4) time: 0.00000s, term: [>> (λx.(λy.(λa.(y ((x y) a))))) *** (λb.(λc.(b (b (b c))))) <<]\n",
      "5) time: 0.00000s, term: (λx.(λy.(x ([>> (λa.(λb.(a (a (a b))))) *** x <<] y))))\n",
      "6) time: 0.00000s, term: (λx.(λy.(x [>> (λa.(x (x (x a)))) *** y <<])))\n",
      "\n",
      "Normalization time: 0.00000s, steps: 7, normalized term: (λx.(λy.(x (x (x (x y))))))\n",
      "sum_term_red_LO - saved as result of reduction\n",
      "LO-norm(sum_term) = (λx.(λy.(x (x (x (x y))))))\n",
      "\n"
     ]
    }
   ],
   "source": [
    "print(inter_obj.process_commands(\"#define sum_term = (PLUS NUM[3] NUM[1])#\"))\n",
    "print(inter_obj.process_commands(\"#reduce-vis sum_term\"))"
   ],
   "metadata": {
    "collapsed": false,
    "ExecuteTime": {
     "start_time": "2023-06-21T15:42:00.563171Z",
     "end_time": "2023-06-21T15:42:00.570146Z"
    }
   }
  },
  {
   "cell_type": "code",
   "execution_count": 3,
   "outputs": [
    {
     "name": "stdout",
     "output_type": "stream",
     "text": [
      "Normalization steps for 'sum_term' with strategy 'LI'\n",
      "\n",
      "0) time: 0.00000s, term: ([>> (λx.(λy.((y (λa.(λb.(λc.(b ((a b) c)))))) x))) *** (λd.(λe.(d (d (d e))))) <<] (λj.(λi.(j i))))\n",
      "1) time: 0.00000s, term: [>> (λx.((x (λy.(λa.(λb.(a ((y a) b)))))) (λc.(λd.(c (c (c d))))))) *** (λe.(λj.(e j))) <<]\n",
      "2) time: 0.00000s, term: ([>> (λx.(λy.(x y))) *** (λa.(λb.(λc.(b ((a b) c))))) <<] (λd.(λe.(d (d (d e))))))\n",
      "3) time: 0.00000s, term: ((λx.[>> (λy.(λa.(λb.(a ((y a) b))))) *** x <<]) (λc.(λd.(c (c (c d))))))\n",
      "4) time: 0.00000s, term: [>> (λx.(λy.(λa.(y ((x y) a))))) *** (λb.(λc.(b (b (b c))))) <<]\n",
      "5) time: 0.00000s, term: (λx.(λy.(x ([>> (λa.(λb.(a (a (a b))))) *** x <<] y))))\n",
      "6) time: 0.00000s, term: (λx.(λy.(x [>> (λa.(x (x (x a)))) *** y <<])))\n",
      "\n",
      "Normalization time: 0.00000s, steps: 7, normalized term: (λx.(λy.(x (x (x (x y))))))\n",
      "sum_term_red_LI - saved as result of reduction\n",
      "LI-norm(sum_term) = (λx.(λy.(x (x (x (x y))))))\n",
      "\n"
     ]
    }
   ],
   "source": [
    "print(inter_obj.process_commands(\"#reduce-vis sum_term LI\"))"
   ],
   "metadata": {
    "collapsed": false,
    "ExecuteTime": {
     "start_time": "2023-06-21T15:42:08.749028Z",
     "end_time": "2023-06-21T15:42:08.753358Z"
    }
   }
  },
  {
   "cell_type": "code",
   "execution_count": 6,
   "outputs": [
    {
     "name": "stdout",
     "output_type": "stream",
     "text": [
      "Defined term could be found & reduced by name: 'fib_test'\n",
      "ERROR: Too many vertices, or too many steps to visualize\n"
     ]
    }
   ],
   "source": [
    "print(inter_obj.process_commands(\"#define fib_test = (fib_term (PAIR NUM[3] (PAIR NUM[0] NUM[1])) )#\"))\n",
    "print(inter_obj.process_commands(\"#reduce-vis fib_test\"))"
   ],
   "metadata": {
    "collapsed": false,
    "ExecuteTime": {
     "start_time": "2023-06-21T15:43:54.141677Z",
     "end_time": "2023-06-21T15:43:55.160514Z"
    }
   }
  },
  {
   "cell_type": "code",
   "execution_count": null,
   "outputs": [],
   "source": [],
   "metadata": {
    "collapsed": false
   }
  }
 ],
 "metadata": {
  "kernelspec": {
   "display_name": "Python 3",
   "language": "python",
   "name": "python3"
  },
  "language_info": {
   "codemirror_mode": {
    "name": "ipython",
    "version": 2
   },
   "file_extension": ".py",
   "mimetype": "text/x-python",
   "name": "python",
   "nbconvert_exporter": "python",
   "pygments_lexer": "ipython2",
   "version": "2.7.6"
  }
 },
 "nbformat": 4,
 "nbformat_minor": 0
}
