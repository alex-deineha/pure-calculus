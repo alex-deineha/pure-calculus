{
 "cells": [
  {
   "cell_type": "code",
   "execution_count": 1,
   "metadata": {
    "collapsed": true,
    "ExecuteTime": {
     "start_time": "2023-06-16T18:17:48.148422Z",
     "end_time": "2023-06-16T18:17:48.322661Z"
    }
   },
   "outputs": [],
   "source": [
    "from lambda_code_interpreter import LambdaCalculusInterpreter\n",
    "\n",
    "inter_obj = LambdaCalculusInterpreter()"
   ]
  },
  {
   "cell_type": "markdown",
   "source": [
    "# Testing Interpreter"
   ],
   "metadata": {
    "collapsed": false
   }
  },
  {
   "cell_type": "code",
   "execution_count": 2,
   "outputs": [
    {
     "name": "stdout",
     "output_type": "stream",
     "text": [
      "None\n"
     ]
    }
   ],
   "source": [
    "res = inter_obj.process_commands(\"\")\n",
    "print(res)"
   ],
   "metadata": {
    "collapsed": false,
    "ExecuteTime": {
     "start_time": "2023-06-16T18:17:48.239462Z",
     "end_time": "2023-06-16T18:17:48.322661Z"
    }
   }
  },
  {
   "cell_type": "code",
   "execution_count": 3,
   "outputs": [
    {
     "name": "stdout",
     "output_type": "stream",
     "text": [
      "No command found consider '#help' for getting help how to use the lambda interpreter\n"
     ]
    }
   ],
   "source": [
    "res = inter_obj.process_commands(\"\\n\")\n",
    "print(res)"
   ],
   "metadata": {
    "collapsed": false,
    "ExecuteTime": {
     "start_time": "2023-06-16T18:17:48.257969Z",
     "end_time": "2023-06-16T18:17:48.322661Z"
    }
   }
  },
  {
   "cell_type": "code",
   "execution_count": 4,
   "outputs": [
    {
     "name": "stdout",
     "output_type": "stream",
     "text": [
      "No command found consider '#help' for getting help how to use the lambda interpreter\n"
     ]
    }
   ],
   "source": [
    "res = inter_obj.process_commands(\"#\")\n",
    "print(res)"
   ],
   "metadata": {
    "collapsed": false,
    "ExecuteTime": {
     "start_time": "2023-06-16T18:17:48.263386Z",
     "end_time": "2023-06-16T18:17:48.322661Z"
    }
   }
  },
  {
   "cell_type": "code",
   "execution_count": 5,
   "outputs": [
    {
     "name": "stdout",
     "output_type": "stream",
     "text": [
      "No command found consider '#help' for getting help how to use the lambda interpreter\n"
     ]
    }
   ],
   "source": [
    "res = inter_obj.process_commands(\"#ghdads\")\n",
    "print(res)"
   ],
   "metadata": {
    "collapsed": false,
    "ExecuteTime": {
     "start_time": "2023-06-16T18:17:48.270701Z",
     "end_time": "2023-06-16T18:17:48.322661Z"
    }
   }
  },
  {
   "cell_type": "code",
   "execution_count": 6,
   "outputs": [
    {
     "name": "stdout",
     "output_type": "stream",
     "text": [
      "#help -- to call this menu\n",
      "\n",
      "#show-syntax -- show syntax used for typing lambda terms\n",
      "#show-strategies -- show available strategies\n",
      "#show-lib -- show all available terms in the terms library\n",
      "#show-all -- show all terms defined by user\n",
      "#show TERM_NAME -- to get description by the term\n",
      "#show term_name -- to show a defined term by term name\n",
      "#show-full TERM_NAME -- to get a full term definition by the term nem\n",
      "#show-full term_name -- to show a full term definition of a defined term by term name\n",
      "\n",
      "#import /path_to_lib/lib_file.lmd -- for including terms from other file. \n",
      "                It must have a name in which will be defined a term\n",
      "#define term_name = term_definition # -- for defining term in the memory,\n",
      "                MUST ENDS on '#' symbol for allowing multiline input \n",
      "#reduce term_name -- reduce the term by term_name by LeftOuter str, \n",
      "                reduced term will appear in term_name_red_LO\n",
      "#reduce term_name STRATEGY_NAME -- reduce term by term_name with defined strategy\n",
      "                reduced term will appear in term_name_red_strategy_name\n",
      "#reduce-no-lim term_name -- reduce the term by term_name by LeftOuter str, \n",
      "                reduced term will appear in term_name_red_LO\n",
      "#reduce-no-lim term_name STRATEGY_NAME -- reduce term by term_name with defined strategy\n",
      "                reduced term will appear in term_name_red_strategy_name\n"
     ]
    }
   ],
   "source": [
    "res = inter_obj.process_commands(\"#help\")\n",
    "print(res)"
   ],
   "metadata": {
    "collapsed": false,
    "ExecuteTime": {
     "start_time": "2023-06-16T18:17:48.276105Z",
     "end_time": "2023-06-16T18:17:48.324036Z"
    }
   }
  },
  {
   "cell_type": "code",
   "execution_count": 7,
   "outputs": [
    {
     "name": "stdout",
     "output_type": "stream",
     "text": [
      "#help -- to call this menu\n",
      "\n",
      "#show-syntax -- show syntax used for typing lambda terms\n",
      "#show-strategies -- show available strategies\n",
      "#show-lib -- show all available terms in the terms library\n",
      "#show-all -- show all terms defined by user\n",
      "#show TERM_NAME -- to get description by the term\n",
      "#show term_name -- to show a defined term by term name\n",
      "#show-full TERM_NAME -- to get a full term definition by the term nem\n",
      "#show-full term_name -- to show a full term definition of a defined term by term name\n",
      "\n",
      "#import /path_to_lib/lib_file.lmd -- for including terms from other file. \n",
      "                It must have a name in which will be defined a term\n",
      "#define term_name = term_definition # -- for defining term in the memory,\n",
      "                MUST ENDS on '#' symbol for allowing multiline input \n",
      "#reduce term_name -- reduce the term by term_name by LeftOuter str, \n",
      "                reduced term will appear in term_name_red_LO\n",
      "#reduce term_name STRATEGY_NAME -- reduce term by term_name with defined strategy\n",
      "                reduced term will appear in term_name_red_strategy_name\n",
      "#reduce-no-lim term_name -- reduce the term by term_name by LeftOuter str, \n",
      "                reduced term will appear in term_name_red_LO\n",
      "#reduce-no-lim term_name STRATEGY_NAME -- reduce term by term_name with defined strategy\n",
      "                reduced term will appear in term_name_red_strategy_name\n"
     ]
    }
   ],
   "source": [
    "res = inter_obj.process_commands(\"\\n   #help\")\n",
    "print(res)"
   ],
   "metadata": {
    "collapsed": false,
    "ExecuteTime": {
     "start_time": "2023-06-16T18:17:48.281795Z",
     "end_time": "2023-06-16T18:17:48.324265Z"
    }
   }
  },
  {
   "cell_type": "code",
   "execution_count": 8,
   "outputs": [
    {
     "name": "stdout",
     "output_type": "stream",
     "text": [
      "#help -- to call this menu\n",
      "\n",
      "#show-syntax -- show syntax used for typing lambda terms\n",
      "#show-strategies -- show available strategies\n",
      "#show-lib -- show all available terms in the terms library\n",
      "#show-all -- show all terms defined by user\n",
      "#show TERM_NAME -- to get description by the term\n",
      "#show term_name -- to show a defined term by term name\n",
      "#show-full TERM_NAME -- to get a full term definition by the term nem\n",
      "#show-full term_name -- to show a full term definition of a defined term by term name\n",
      "\n",
      "#import /path_to_lib/lib_file.lmd -- for including terms from other file. \n",
      "                It must have a name in which will be defined a term\n",
      "#define term_name = term_definition # -- for defining term in the memory,\n",
      "                MUST ENDS on '#' symbol for allowing multiline input \n",
      "#reduce term_name -- reduce the term by term_name by LeftOuter str, \n",
      "                reduced term will appear in term_name_red_LO\n",
      "#reduce term_name STRATEGY_NAME -- reduce term by term_name with defined strategy\n",
      "                reduced term will appear in term_name_red_strategy_name\n",
      "#reduce-no-lim term_name -- reduce the term by term_name by LeftOuter str, \n",
      "                reduced term will appear in term_name_red_LO\n",
      "#reduce-no-lim term_name STRATEGY_NAME -- reduce term by term_name with defined strategy\n",
      "                reduced term will appear in term_name_red_strategy_name\n"
     ]
    }
   ],
   "source": [
    "res = inter_obj.process_commands(\"\\n   #help\")\n",
    "print(res)"
   ],
   "metadata": {
    "collapsed": false,
    "ExecuteTime": {
     "start_time": "2023-06-16T18:17:48.288436Z",
     "end_time": "2023-06-16T18:17:48.324265Z"
    }
   }
  },
  {
   "cell_type": "code",
   "execution_count": 9,
   "outputs": [
    {
     "name": "stdout",
     "output_type": "stream",
     "text": [
      "Lamda Calculus syntax rules:\n",
      "\n",
      "* 'x' -- means atom term\n",
      "* '(@var_name. body_term)' -- abstract term, between @ and . symbols defined variable\n",
      "* (object_term subject_term) -- application term\n",
      "* (term_1 term_2 term_3 term_n) -- short version of (((term_1 term_2) term_3) term_n)\n",
      "* instead term you can use predefined terms in library or your own\n",
      "\n"
     ]
    }
   ],
   "source": [
    "res = inter_obj.process_commands(\"#show-syntax\")\n",
    "print(res)"
   ],
   "metadata": {
    "collapsed": false,
    "ExecuteTime": {
     "start_time": "2023-06-16T18:17:48.293396Z",
     "end_time": "2023-06-16T18:17:48.324265Z"
    }
   }
  },
  {
   "cell_type": "code",
   "execution_count": 10,
   "outputs": [
    {
     "name": "stdout",
     "output_type": "stream",
     "text": [
      "Strategies: \n",
      "* LO is Left Most Outer Most Strategy\n",
      "* LI is Left Most Inner Most Strategy\n",
      "\n"
     ]
    }
   ],
   "source": [
    "res = inter_obj.process_commands(\"#show-strategies\")\n",
    "print(res)"
   ],
   "metadata": {
    "collapsed": false,
    "ExecuteTime": {
     "start_time": "2023-06-16T18:17:48.299873Z",
     "end_time": "2023-06-16T18:17:48.324777Z"
    }
   }
  },
  {
   "cell_type": "code",
   "execution_count": 11,
   "outputs": [
    {
     "name": "stdout",
     "output_type": "stream",
     "text": [
      "** LOGIC TERMS **\n",
      "TRUE == (λx.(λy.x))\n",
      "FALSE == (λx.(λy.y))\n",
      "IF == (λx.(λy.(λa.((x y) a))))\n",
      "ITE == (λx.(λy.(λa.((x y) a))))\n",
      "NOT == (λa. (ITE a FALSE TRUE))\n",
      "AND == (λa. (λb. (ITE a b a)))\n",
      "OR == (λa. (λb. (ITE a a b)))\n",
      "\n",
      "** COMBINATOR TERMS **\n",
      "K == (λx.(λy.x))\n",
      "K_STAR == (λx.(λy.y))\n",
      "S == (λx.(λy.(λa.((x a) (y a)))))\n",
      "I == (λx.x)\n",
      "Y == (λx.((λy.(x (y y))) (λy.(x (y y)))))\n",
      "Z == (λx.((λy.(x (λa.((y y) a)))) (λy.(x (λa.((y y) a))))))\n",
      "ETTA_V == ((λx.(λy.(y (λa.(((x x) y) y))))) (λx.(λy.(y (λa.(((x x) y) y))))))\n",
      "\n",
      "** NUMBERS **\n",
      "NUM[0] == (λx.(λy.y))\n",
      "NUM[1] == (λx.(λy.(x y)))\n",
      "NUM[2] == (λx.(λy.(x (x y))))\n",
      "NUM[3] == (λx.(λy.(x (x (x y)))))\n",
      "\n",
      "** NUMBER COMPARISONS **\n",
      "ISZERO == (λn. (n (λx. FALSE) TRUE))\n",
      "LEQ == (λn. (λm. (ISZERO (SUBTRACT n m))))\n",
      "EQ == (λn. (λm. (AND (LE n m) (LE m n)) ))\n",
      "LT == (λa. (λb. (NOT (LEQ b a)) ))\n",
      "NEQ == (λa. (λb. (OR (NOT (LEQ a b)) (NOT (LEQ b a))) ))\n",
      "GEQ == (λa. (λb. (LEQ b a) ))\n",
      "GT == (λa. (λb. (NOT (LEQ a b)) ))\n",
      "\n",
      "** PAIRS **\n",
      "PAIR == (𝜆x. (𝜆y. (𝜆p. (p x y)) ))\n",
      "FIRST == (λx.(x (λy.(λa.y))))\n",
      "SECOND == (λx.(x (λy.(λa.a))))\n",
      "\n",
      "** ARITHMETIC OPERATIONS **\n",
      "SUCC == (𝜆n. (𝜆x. (𝜆y. (x (n x y)) )))\n",
      "SINC == (𝜆p. (PAIR (SECOND p) (SUCC (SECOND p))) )\n",
      "PRED == (𝜆n. (FIRST (NUM[n] SINC (PAIR NUM[0] NUM[0]))) )\n",
      "SUBTRACT == (𝜆n. (𝜆m. (m PRED n) ))\n",
      "MINUS == (𝜆n. (𝜆m. (m PRED n) ))\n",
      "DIV == (Y (λgqab. (LT a b (PAIR q a) (g (SUCC q) (SUB a b) b) ) NUM[0]) )\n",
      "MOD == (λab. (SECOND (DIV a b)) )\n",
      "IDIV == (λab. (FIRST (DIV a b)) )\n",
      "PLUS == (λmn. (n SUCC m) )\n",
      "SUM == (λmn. (n SUCC m) )\n",
      "MULT == (λmn. (m (PLUS n) NUM[0]) )\n",
      "\n"
     ]
    }
   ],
   "source": [
    "res = inter_obj.process_commands(\"#show-lib\")\n",
    "print(res)"
   ],
   "metadata": {
    "collapsed": false,
    "ExecuteTime": {
     "start_time": "2023-06-16T18:17:48.305424Z",
     "end_time": "2023-06-16T18:17:48.324777Z"
    }
   }
  },
  {
   "cell_type": "code",
   "execution_count": 12,
   "outputs": [
    {
     "name": "stdout",
     "output_type": "stream",
     "text": [
      "No terms in own library\n"
     ]
    }
   ],
   "source": [
    "res = inter_obj.process_commands(\"#show-all\")\n",
    "print(res)"
   ],
   "metadata": {
    "collapsed": false,
    "ExecuteTime": {
     "start_time": "2023-06-16T18:17:48.311068Z",
     "end_time": "2023-06-16T18:17:48.324777Z"
    }
   }
  },
  {
   "cell_type": "code",
   "execution_count": 13,
   "outputs": [
    {
     "name": "stdout",
     "output_type": "stream",
     "text": [
      "Terms description:\n",
      "* IDIV == (λab. (FIRST (DIV a b)) )\n",
      "\n"
     ]
    }
   ],
   "source": [
    "res = inter_obj.process_commands(\"#show IDIV\")\n",
    "print(res)"
   ],
   "metadata": {
    "collapsed": false,
    "ExecuteTime": {
     "start_time": "2023-06-16T18:17:48.315244Z",
     "end_time": "2023-06-16T18:17:48.324777Z"
    }
   }
  },
  {
   "cell_type": "code",
   "execution_count": 14,
   "outputs": [
    {
     "name": "stdout",
     "output_type": "stream",
     "text": [
      "Terms description:\n",
      "* PLUS == (λmn. (n SUCC m) )\n",
      "* MOD == (λab. (SECOND (DIV a b)) )\n",
      "* SUCC == (𝜆n. (𝜆x. (𝜆y. (x (n x y)) )))\n",
      "\n"
     ]
    }
   ],
   "source": [
    "res = inter_obj.process_commands(\"#show PLUS MOD SUCC\")\n",
    "print(res)"
   ],
   "metadata": {
    "collapsed": false,
    "ExecuteTime": {
     "start_time": "2023-06-16T18:17:48.322661Z",
     "end_time": "2023-06-16T18:17:48.360724Z"
    }
   }
  },
  {
   "cell_type": "code",
   "execution_count": 15,
   "outputs": [
    {
     "name": "stdout",
     "output_type": "stream",
     "text": [
      "Defined term could be found & reduced by name: 'yyy_term'\n"
     ]
    }
   ],
   "source": [
    "res = inter_obj.process_commands(\"#define yyy_term = (@x. (x y))#\")\n",
    "print(res)"
   ],
   "metadata": {
    "collapsed": false,
    "ExecuteTime": {
     "start_time": "2023-06-16T18:17:48.327179Z",
     "end_time": "2023-06-16T18:17:48.360724Z"
    }
   }
  },
  {
   "cell_type": "code",
   "execution_count": 16,
   "outputs": [
    {
     "name": "stdout",
     "output_type": "stream",
     "text": [
      "Terms description:\n",
      "* yyy_term == (@x. (x y))\n",
      "\n"
     ]
    }
   ],
   "source": [
    "res = inter_obj.process_commands(\"#show yyy_term\")\n",
    "print(res)"
   ],
   "metadata": {
    "collapsed": false,
    "ExecuteTime": {
     "start_time": "2023-06-16T18:17:48.332195Z",
     "end_time": "2023-06-16T18:17:48.360724Z"
    }
   }
  },
  {
   "cell_type": "code",
   "execution_count": 17,
   "outputs": [
    {
     "name": "stdout",
     "output_type": "stream",
     "text": [
      "Defined term could be found & reduced by name: 'yyy_term'\n"
     ]
    }
   ],
   "source": [
    "res = inter_obj.process_commands(\"#define yyy_term = (@x. (@y. (a SUCC b) ) )#\")\n",
    "print(res)"
   ],
   "metadata": {
    "collapsed": false,
    "ExecuteTime": {
     "start_time": "2023-06-16T18:17:48.337055Z",
     "end_time": "2023-06-16T18:17:48.360724Z"
    }
   }
  },
  {
   "cell_type": "code",
   "execution_count": 18,
   "outputs": [
    {
     "name": "stdout",
     "output_type": "stream",
     "text": [
      "Terms description:\n",
      "* yyy_term == (@x. (@y. (a SUCC b) ) )\n",
      "\n"
     ]
    }
   ],
   "source": [
    "res = inter_obj.process_commands(\"#show yyy_term\")\n",
    "print(res)"
   ],
   "metadata": {
    "collapsed": false,
    "ExecuteTime": {
     "start_time": "2023-06-16T18:17:48.342038Z",
     "end_time": "2023-06-16T18:17:48.360724Z"
    }
   }
  },
  {
   "cell_type": "code",
   "execution_count": 19,
   "outputs": [
    {
     "name": "stdout",
     "output_type": "stream",
     "text": [
      "None\n",
      "None\n",
      "None\n",
      "None\n",
      "Defined term could be found & reduced by name: 'sum_term'\n"
     ]
    }
   ],
   "source": [
    "res = inter_obj.process_commands(\"#define sum_term = ( PLUS \")\n",
    "print(res)\n",
    "res = inter_obj.process_commands(\" NUM[2] \")\n",
    "print(res)\n",
    "res = inter_obj.process_commands(\" NUM[3] \")\n",
    "print(res)\n",
    "res = inter_obj.process_commands(\"\")\n",
    "print(res)\n",
    "res = inter_obj.process_commands(\")#\")\n",
    "print(res)"
   ],
   "metadata": {
    "collapsed": false,
    "ExecuteTime": {
     "start_time": "2023-06-16T18:17:48.347257Z",
     "end_time": "2023-06-16T18:17:48.361727Z"
    }
   }
  },
  {
   "cell_type": "code",
   "execution_count": 20,
   "outputs": [
    {
     "name": "stdout",
     "output_type": "stream",
     "text": [
      "Terms description:\n",
      "* sum_term == ( PLUS \n",
      " NUM[2] \n",
      " NUM[3] \n",
      ")\n",
      "\n"
     ]
    }
   ],
   "source": [
    "res = inter_obj.process_commands(\"#show sum_term\")\n",
    "print(res)"
   ],
   "metadata": {
    "collapsed": false,
    "ExecuteTime": {
     "start_time": "2023-06-16T18:17:52.410738Z",
     "end_time": "2023-06-16T18:17:52.414551Z"
    }
   }
  },
  {
   "cell_type": "code",
   "execution_count": 21,
   "outputs": [
    {
     "name": "stdout",
     "output_type": "stream",
     "text": [
      "sum_term_red_LO - saved as result of reduction\n",
      "13 steps to normalize\n",
      "LO-norm(sum_term) = (λx.(λy.(x (x (x (x (x y)))))))\n",
      "\n"
     ]
    }
   ],
   "source": [
    "res = inter_obj.process_commands(\"#reduce sum_term\")\n",
    "print(res)"
   ],
   "metadata": {
    "collapsed": false,
    "ExecuteTime": {
     "start_time": "2023-06-16T18:17:53.640005Z",
     "end_time": "2023-06-16T18:17:53.651866Z"
    }
   }
  },
  {
   "cell_type": "code",
   "execution_count": 22,
   "outputs": [
    {
     "name": "stdout",
     "output_type": "stream",
     "text": [
      "sum_term_red_LO - saved as result of reduction\n",
      "13 steps to normalize\n",
      "LO-norm(sum_term) = (λx.(λy.(x (x (x (x (x y)))))))\n",
      "\n"
     ]
    }
   ],
   "source": [
    "res = inter_obj.process_commands(\"#reduce sum_term LO\")\n",
    "print(res)"
   ],
   "metadata": {
    "collapsed": false,
    "ExecuteTime": {
     "start_time": "2023-06-16T18:18:03.465836Z",
     "end_time": "2023-06-16T18:18:03.495537Z"
    }
   }
  },
  {
   "cell_type": "code",
   "execution_count": 23,
   "outputs": [
    {
     "name": "stdout",
     "output_type": "stream",
     "text": [
      "sum_term_red_LI - saved as result of reduction\n",
      "13 steps to normalize\n",
      "LI-norm(sum_term) = (λx.(λy.(x (x (x (x (x y)))))))\n",
      "\n"
     ]
    }
   ],
   "source": [
    "res = inter_obj.process_commands(\"#reduce sum_term LI\")\n",
    "print(res)"
   ],
   "metadata": {
    "collapsed": false,
    "ExecuteTime": {
     "start_time": "2023-06-16T18:18:10.720477Z",
     "end_time": "2023-06-16T18:18:10.732392Z"
    }
   }
  },
  {
   "cell_type": "code",
   "execution_count": 24,
   "outputs": [
    {
     "name": "stdout",
     "output_type": "stream",
     "text": [
      "Terms description:\n",
      "* sum_term_red_LI == (λx.(λy.(x (x (x (x (x y)))))))\n",
      "\n"
     ]
    }
   ],
   "source": [
    "res = inter_obj.process_commands(\"#show sum_term_red_LI\")\n",
    "print(res)"
   ],
   "metadata": {
    "collapsed": false,
    "ExecuteTime": {
     "start_time": "2023-06-16T18:18:15.712277Z",
     "end_time": "2023-06-16T18:18:15.724160Z"
    }
   }
  },
  {
   "cell_type": "code",
   "execution_count": 25,
   "outputs": [
    {
     "name": "stdout",
     "output_type": "stream",
     "text": [
      "Terms description:\n",
      "* sum_term_red_LO == (λx.(λy.(x (x (x (x (x y)))))))\n",
      "\n"
     ]
    }
   ],
   "source": [
    "res = inter_obj.process_commands(\"#show sum_term_red_LO\")\n",
    "print(res)"
   ],
   "metadata": {
    "collapsed": false,
    "ExecuteTime": {
     "start_time": "2023-06-16T18:18:17.163740Z",
     "end_time": "2023-06-16T18:18:17.181450Z"
    }
   }
  },
  {
   "cell_type": "code",
   "execution_count": 26,
   "outputs": [
    {
     "name": "stdout",
     "output_type": "stream",
     "text": [
      "Terms description:\n",
      "sum_term_red doesn't have a term definition\n"
     ]
    }
   ],
   "source": [
    "res = inter_obj.process_commands(\"#show sum_term_red\")\n",
    "print(res)"
   ],
   "metadata": {
    "collapsed": false,
    "ExecuteTime": {
     "start_time": "2023-06-16T18:18:18.960226Z",
     "end_time": "2023-06-16T18:18:18.970220Z"
    }
   }
  },
  {
   "cell_type": "code",
   "execution_count": 30,
   "outputs": [
    {
     "name": "stdout",
     "output_type": "stream",
     "text": [
      "Defined term could be found & reduced by name: 'new_term'\n"
     ]
    }
   ],
   "source": [
    "print(inter_obj.process_commands(\"\"\"\n",
    "        #define new_term = (IF (ISZERO sum_term_red_LO) TRUE FALSE)\n",
    "        #\"\"\")\n",
    ")"
   ],
   "metadata": {
    "collapsed": false,
    "ExecuteTime": {
     "start_time": "2023-06-16T18:19:24.129363Z",
     "end_time": "2023-06-16T18:19:24.142290Z"
    }
   }
  },
  {
   "cell_type": "code",
   "execution_count": 31,
   "outputs": [
    {
     "name": "stdout",
     "output_type": "stream",
     "text": [
      "Full terms description:\n",
      "* new_term == ((((λx.(λy.(λa.((x y) a)))) ((λb.((b (λc.(λd.(λe.e)))) (λj.(λi.j)))) (λn.(λm.(n (n (n (n (n m))))))))) (λt.(λr.t))) (λq.(λw.w)))\n",
      "\n"
     ]
    }
   ],
   "source": [
    "print(inter_obj.process_commands(\"#show-full new_term\"))"
   ],
   "metadata": {
    "collapsed": false,
    "ExecuteTime": {
     "start_time": "2023-06-16T18:19:27.266379Z",
     "end_time": "2023-06-16T18:19:27.269389Z"
    }
   }
  },
  {
   "cell_type": "code",
   "execution_count": 32,
   "outputs": [
    {
     "name": "stdout",
     "output_type": "stream",
     "text": [
      "new_term_red_LO - saved as result of reduction\n",
      "9 steps to normalize\n",
      "LO-norm(new_term) = (λx.(λy.y))\n",
      "\n"
     ]
    }
   ],
   "source": [
    "print(inter_obj.process_commands(\"#reduce new_term\"))"
   ],
   "metadata": {
    "collapsed": false,
    "ExecuteTime": {
     "start_time": "2023-06-16T18:19:33.301092Z",
     "end_time": "2023-06-16T18:19:33.317169Z"
    }
   }
  },
  {
   "cell_type": "code",
   "execution_count": 41,
   "outputs": [
    {
     "name": "stdout",
     "output_type": "stream",
     "text": [
      "Defined term could be found & reduced by name: 'new_term'\n"
     ]
    }
   ],
   "source": [
    "res = inter_obj.process_commands(\"\"\"\n",
    "#define new_term = (ISZERO sum_term_red_LO)\n",
    "#\"\"\")\n",
    "print(res)"
   ],
   "metadata": {
    "collapsed": false,
    "ExecuteTime": {
     "start_time": "2023-06-16T18:21:37.818408Z",
     "end_time": "2023-06-16T18:21:37.823828Z"
    }
   }
  },
  {
   "cell_type": "code",
   "execution_count": 42,
   "outputs": [
    {
     "name": "stdout",
     "output_type": "stream",
     "text": [
      "new_term_red_LO - saved as result of reduction\n",
      "4 steps to normalize\n",
      "LO-norm(new_term) = (λx.(λy.y))\n",
      "\n"
     ]
    }
   ],
   "source": [
    "print(inter_obj.process_commands(\"#reduce new_term\"))"
   ],
   "metadata": {
    "collapsed": false,
    "ExecuteTime": {
     "start_time": "2023-06-16T18:21:40.869371Z",
     "end_time": "2023-06-16T18:21:40.884628Z"
    }
   }
  },
  {
   "cell_type": "code",
   "execution_count": 43,
   "outputs": [
    {
     "name": "stdout",
     "output_type": "stream",
     "text": [
      "Full terms description:\n",
      "* new_term == ((λx.((x (λy.(λa.(λb.b)))) (λc.(λd.c)))) (λe.(λj.(e (e (e (e (e j))))))))\n",
      "\n"
     ]
    }
   ],
   "source": [
    "print(inter_obj.process_commands(\"#show-full new_term\"))"
   ],
   "metadata": {
    "collapsed": false,
    "ExecuteTime": {
     "start_time": "2023-06-16T18:21:43.790067Z",
     "end_time": "2023-06-16T18:21:43.808352Z"
    }
   }
  },
  {
   "cell_type": "code",
   "execution_count": 44,
   "outputs": [
    {
     "name": "stdout",
     "output_type": "stream",
     "text": [
      "Full terms description:\n",
      "* new_term_red_LO == (λx.(λy.y))\n",
      "\n"
     ]
    }
   ],
   "source": [
    "print(inter_obj.process_commands(\"#show-full new_term_red_LO\"))"
   ],
   "metadata": {
    "collapsed": false,
    "ExecuteTime": {
     "start_time": "2023-06-16T18:21:46.294022Z",
     "end_time": "2023-06-16T18:21:46.298606Z"
    }
   }
  },
  {
   "cell_type": "code",
   "execution_count": 45,
   "outputs": [
    {
     "name": "stdout",
     "output_type": "stream",
     "text": [
      "Defined term could be found & reduced by name: 'aaa_term'\n"
     ]
    }
   ],
   "source": [
    "print(inter_obj.process_commands(\"#define aaa_term = (sum_term_red_LO sum_term_red_LO new_term_red_LO)#\"))"
   ],
   "metadata": {
    "collapsed": false,
    "ExecuteTime": {
     "start_time": "2023-06-16T18:21:48.893182Z",
     "end_time": "2023-06-16T18:21:48.898758Z"
    }
   }
  },
  {
   "cell_type": "code",
   "execution_count": 46,
   "outputs": [
    {
     "name": "stdout",
     "output_type": "stream",
     "text": [
      "Terms description:\n",
      "* aaa_term == (sum_term_red_LO sum_term_red_LO new_term_red_LO)\n",
      "\n"
     ]
    }
   ],
   "source": [
    "print(inter_obj.process_commands(\"#show aaa_term\"))"
   ],
   "metadata": {
    "collapsed": false,
    "ExecuteTime": {
     "start_time": "2023-06-16T18:21:52.758826Z",
     "end_time": "2023-06-16T18:21:52.774919Z"
    }
   }
  },
  {
   "cell_type": "code",
   "execution_count": 47,
   "outputs": [
    {
     "name": "stdout",
     "output_type": "stream",
     "text": [
      "Full terms description:\n",
      "* aaa_term == (((λx.(λy.(x (x (x (x (x y))))))) (λx.(λy.(x (x (x (x (x y)))))))) (λa.(λb.b)))\n",
      "\n"
     ]
    }
   ],
   "source": [
    "print(inter_obj.process_commands(\"#show-full aaa_term\"))"
   ],
   "metadata": {
    "collapsed": false,
    "ExecuteTime": {
     "start_time": "2023-06-16T18:21:54.959550Z",
     "end_time": "2023-06-16T18:21:54.966383Z"
    }
   }
  },
  {
   "cell_type": "code",
   "execution_count": 48,
   "outputs": [
    {
     "name": "stdout",
     "output_type": "stream",
     "text": [
      "Imported term could be fined & reduced by name: 'fib_term'\n"
     ]
    }
   ],
   "source": [
    "print(inter_obj.process_commands(\"#import fibonacci.lmd\"))"
   ],
   "metadata": {
    "collapsed": false,
    "ExecuteTime": {
     "start_time": "2023-06-16T18:21:59.366734Z",
     "end_time": "2023-06-16T18:21:59.375923Z"
    }
   }
  },
  {
   "cell_type": "code",
   "execution_count": 49,
   "outputs": [
    {
     "name": "stdout",
     "output_type": "stream",
     "text": [
      "Defined term could be found & reduced by name: 'fib_test'\n",
      "fib_test_red_LO - saved as result of reduction\n",
      "30 steps to normalize\n",
      "LO-norm(fib_test) = (λx.(λy.y))\n",
      "\n"
     ]
    }
   ],
   "source": [
    "print(inter_obj.process_commands(\"#define fib_test = (fib_term (PAIR NUM[0] (PAIR NUM[0] NUM[1])) )#\"))\n",
    "print(inter_obj.process_commands(\"#reduce fib_test\"))"
   ],
   "metadata": {
    "collapsed": false,
    "ExecuteTime": {
     "start_time": "2023-06-16T18:22:00.078100Z",
     "end_time": "2023-06-16T18:22:00.169754Z"
    }
   }
  },
  {
   "cell_type": "code",
   "execution_count": 50,
   "outputs": [
    {
     "name": "stdout",
     "output_type": "stream",
     "text": [
      "Defined term could be found & reduced by name: 'fib_test'\n",
      "fib_test_red_LO - saved as result of reduction\n",
      "82 steps to normalize\n",
      "LO-norm(fib_test) = (λx.(λy.(x y)))\n",
      "\n"
     ]
    }
   ],
   "source": [
    "print(inter_obj.process_commands(\"#define fib_test = (fib_term (PAIR NUM[1] (PAIR NUM[0] NUM[1])) )#\"))\n",
    "print(inter_obj.process_commands(\"#reduce fib_test\"))"
   ],
   "metadata": {
    "collapsed": false,
    "ExecuteTime": {
     "start_time": "2023-06-16T18:22:01.110986Z",
     "end_time": "2023-06-16T18:22:01.509994Z"
    }
   }
  },
  {
   "cell_type": "code",
   "execution_count": 51,
   "outputs": [
    {
     "name": "stdout",
     "output_type": "stream",
     "text": [
      "Defined term could be found & reduced by name: 'fib_test'\n",
      "fib_test_red_LO - saved as result of reduction\n",
      "187 steps to normalize\n",
      "LO-norm(fib_test) = (λx.(λy.(x y)))\n",
      "\n"
     ]
    }
   ],
   "source": [
    "print(inter_obj.process_commands(\"#define fib_test = (fib_term (PAIR NUM[2] (PAIR NUM[0] NUM[1])) )#\"))\n",
    "print(inter_obj.process_commands(\"#reduce fib_test\"))"
   ],
   "metadata": {
    "collapsed": false,
    "ExecuteTime": {
     "start_time": "2023-06-16T18:22:02.984337Z",
     "end_time": "2023-06-16T18:22:05.826768Z"
    }
   }
  },
  {
   "cell_type": "code",
   "execution_count": 52,
   "outputs": [
    {
     "name": "stdout",
     "output_type": "stream",
     "text": [
      "Defined term could be found & reduced by name: 'fib_test'\n",
      "fib_test_red_LO - saved as result of reduction\n",
      "348 steps to normalize\n",
      "LO-norm(fib_test) = (λx.(λy.(x (x y))))\n",
      "\n"
     ]
    }
   ],
   "source": [
    "print(inter_obj.process_commands(\"#define fib_test = (fib_term (PAIR NUM[3] (PAIR NUM[0] NUM[1])) )#\"))\n",
    "print(inter_obj.process_commands(\"#reduce fib_test\"))"
   ],
   "metadata": {
    "collapsed": false,
    "ExecuteTime": {
     "start_time": "2023-06-16T18:22:07.735625Z",
     "end_time": "2023-06-16T18:22:26.946431Z"
    }
   }
  },
  {
   "cell_type": "code",
   "execution_count": 53,
   "outputs": [
    {
     "name": "stdout",
     "output_type": "stream",
     "text": [
      "Defined term could be found & reduced by name: 'fib_test'\n",
      "fib_test_red_LO - saved as result of reduction\n",
      "597 steps to normalize\n",
      "LO-norm(fib_test) = (λx.(λy.(x (x (x y)))))\n",
      "\n"
     ]
    }
   ],
   "source": [
    "print(inter_obj.process_commands(\"#define fib_test = (fib_term (PAIR NUM[4] (PAIR NUM[0] NUM[1])) )#\"))\n",
    "print(inter_obj.process_commands(\"#reduce-no-lim fib_test\"))"
   ],
   "metadata": {
    "collapsed": false,
    "ExecuteTime": {
     "start_time": "2023-06-16T18:22:26.948935Z",
     "end_time": "2023-06-16T18:25:04.287486Z"
    }
   }
  },
  {
   "cell_type": "code",
   "execution_count": 54,
   "outputs": [
    {
     "name": "stdout",
     "output_type": "stream",
     "text": [
      "TRUE_red_LO - saved as result of reduction\n",
      "0 steps to normalize\n",
      "LO-norm(TRUE) = (λx.(λy.x))\n",
      "\n"
     ]
    }
   ],
   "source": [
    "print(inter_obj.process_commands(\"\\n#reduce\\nTRUE\\n\"))"
   ],
   "metadata": {
    "collapsed": false,
    "ExecuteTime": {
     "start_time": "2023-06-16T18:31:05.963821Z",
     "end_time": "2023-06-16T18:31:05.982506Z"
    }
   }
  },
  {
   "cell_type": "code",
   "execution_count": 55,
   "outputs": [
    {
     "name": "stdout",
     "output_type": "stream",
     "text": [
      "NUM[0]_red_LO - saved as result of reduction\n",
      "0 steps to normalize\n",
      "LO-norm(NUM[0]) = (λx.(λy.y))\n",
      "\n"
     ]
    }
   ],
   "source": [
    "print(inter_obj.process_commands(\"#reduce NUM[0]\"))"
   ],
   "metadata": {
    "collapsed": false,
    "ExecuteTime": {
     "start_time": "2023-06-16T18:31:13.475385Z",
     "end_time": "2023-06-16T18:31:13.478344Z"
    }
   }
  },
  {
   "cell_type": "code",
   "execution_count": 56,
   "outputs": [
    {
     "name": "stdout",
     "output_type": "stream",
     "text": [
      "NUM[10]_red_LO - saved as result of reduction\n",
      "0 steps to normalize\n",
      "LO-norm(NUM[10]) = (λx.(λy.(x (x (x (x (x (x (x (x (x (x y))))))))))))\n",
      "\n"
     ]
    }
   ],
   "source": [
    "print(inter_obj.process_commands(\"#reduce NUM[10]\"))"
   ],
   "metadata": {
    "collapsed": false,
    "ExecuteTime": {
     "start_time": "2023-06-16T18:31:28.605306Z",
     "end_time": "2023-06-16T18:31:28.626102Z"
    }
   }
  },
  {
   "cell_type": "code",
   "execution_count": null,
   "outputs": [],
   "source": [],
   "metadata": {
    "collapsed": false
   }
  },
  {
   "cell_type": "code",
   "execution_count": null,
   "outputs": [],
   "source": [],
   "metadata": {
    "collapsed": false
   }
  },
  {
   "cell_type": "code",
   "execution_count": null,
   "outputs": [],
   "source": [],
   "metadata": {
    "collapsed": false
   }
  }
 ],
 "metadata": {
  "kernelspec": {
   "display_name": "Python 3",
   "language": "python",
   "name": "python3"
  },
  "language_info": {
   "codemirror_mode": {
    "name": "ipython",
    "version": 2
   },
   "file_extension": ".py",
   "mimetype": "text/x-python",
   "name": "python",
   "nbconvert_exporter": "python",
   "pygments_lexer": "ipython2",
   "version": "2.7.6"
  }
 },
 "nbformat": 4,
 "nbformat_minor": 0
}
