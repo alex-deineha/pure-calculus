{
 "cells": [
  {
   "cell_type": "code",
   "execution_count": 1,
   "metadata": {
    "collapsed": true,
    "ExecuteTime": {
     "start_time": "2023-06-21T18:18:13.680683Z",
     "end_time": "2023-06-21T18:18:13.838771Z"
    }
   },
   "outputs": [],
   "source": [
    "import sys\n",
    "import re\n",
    "from tqdm import tqdm\n",
    "\n",
    "sys.path.append(\"../\")\n",
    "from calculus_path_mod.term_engine import *\n",
    "from calculus_path_mod.reduction_strategy import *\n",
    "from calculus_path_mod.terms import num_comparison, nat_numbers, arithm_ops, combinators, pairs, logic\n",
    "\n",
    "from calculus_path_mod.terms.pseudonym import *"
   ]
  },
  {
   "cell_type": "markdown",
   "source": [
    "## TEST visualizing HEIGHT & WIDTH params for 'PLUS 3 1' term"
   ],
   "metadata": {
    "collapsed": false
   }
  },
  {
   "cell_type": "code",
   "execution_count": 8,
   "outputs": [
    {
     "name": "stdout",
     "output_type": "stream",
     "text": [
      "(((λx.(λy.((y (λa.(λb.(λc.(b ((a b) c)))))) x))) (λd.(λe.(d (d (d e)))))) (λj.(λi.(j i))))\n",
      "term = (PLUS 3 1)\n",
      "term.term_high = 12\n",
      "term.term_width = 11\n",
      "term.vertices_number = 32\n"
     ]
    }
   ],
   "source": [
    "term = multi_app_term(arithm_ops.plus_term(), nat_numbers.num_term(3), nat_numbers.num_term(1))\n",
    "print(term.funky_str())\n",
    "print(f\"term = (PLUS 3 1)\\nterm.term_high = {term.term_high}\\nterm.term_width = {term.term_width}\\nterm.vertices_number = {term.vertices_number}\")"
   ],
   "metadata": {
    "collapsed": false,
    "ExecuteTime": {
     "start_time": "2023-06-21T18:20:32.115544Z",
     "end_time": "2023-06-21T18:20:32.129448Z"
    }
   }
  },
  {
   "cell_type": "markdown",
   "source": [
    "## TEST for 'A B C D'"
   ],
   "metadata": {
    "collapsed": false
   }
  },
  {
   "cell_type": "code",
   "execution_count": 9,
   "outputs": [
    {
     "name": "stdout",
     "output_type": "stream",
     "text": [
      "(((x y) a) b)\n",
      "term = (PLUS 3 1)\n",
      "term.term_high = 3\n",
      "term.term_width = 3\n",
      "term.vertices_number = 7\n"
     ]
    }
   ],
   "source": [
    "a_, b_, c_, d_ = Atom(Var()), Atom(Var()), Atom(Var()), Atom(Var())\n",
    "term = multi_app_term(a_, b_, c_, d_)\n",
    "print(term.funky_str())\n",
    "print(f\"term = (PLUS 3 1)\\nterm.term_high = {term.term_high}\\nterm.term_width = {term.term_width}\\nterm.vertices_number = {term.vertices_number}\")"
   ],
   "metadata": {
    "collapsed": false,
    "ExecuteTime": {
     "start_time": "2023-06-21T18:33:49.110723Z",
     "end_time": "2023-06-21T18:33:49.116080Z"
    }
   }
  },
  {
   "cell_type": "markdown",
   "source": [
    "## TEST for 'A A A A'"
   ],
   "metadata": {
    "collapsed": false
   }
  },
  {
   "cell_type": "code",
   "execution_count": 10,
   "outputs": [
    {
     "name": "stdout",
     "output_type": "stream",
     "text": [
      "(((x x) x) x)\n",
      "term = (PLUS 3 1)\n",
      "term.term_high = 3\n",
      "term.term_width = 3\n",
      "term.vertices_number = 7\n"
     ]
    }
   ],
   "source": [
    "a_ = Atom(Var())\n",
    "term = multi_app_term(a_, a_, a_, a_)\n",
    "print(term.funky_str())\n",
    "print(f\"term = (PLUS 3 1)\\nterm.term_high = {term.term_high}\\nterm.term_width = {term.term_width}\\nterm.vertices_number = {term.vertices_number}\")"
   ],
   "metadata": {
    "collapsed": false,
    "ExecuteTime": {
     "start_time": "2023-06-21T18:47:49.040781Z",
     "end_time": "2023-06-21T18:47:49.046142Z"
    }
   }
  },
  {
   "cell_type": "markdown",
   "source": [
    "## TEST for \"@a. @b. @c. @d. d'"
   ],
   "metadata": {
    "collapsed": false
   }
  },
  {
   "cell_type": "code",
   "execution_count": 12,
   "outputs": [
    {
     "name": "stdout",
     "output_type": "stream",
     "text": [
      "(λx.(λy.(λa.(λb.b))))\n",
      "term = (PLUS 3 1)\n",
      "term.term_high = 4\n",
      "term.term_width = 0\n",
      "term.vertices_number = 5\n"
     ]
    }
   ],
   "source": [
    "a, b, c, d = Var(), Var(), Var(), Var()\n",
    "d_ = Atom(d)\n",
    "term = Lambda(a, Lambda(b, Lambda(c, Lambda(d, d_))))\n",
    "print(term.funky_str())\n",
    "print(f\"term = (PLUS 3 1)\\nterm.term_high = {term.term_high}\\nterm.term_width = {term.term_width}\\nterm.vertices_number = {term.vertices_number}\")"
   ],
   "metadata": {
    "collapsed": false,
    "ExecuteTime": {
     "start_time": "2023-06-21T18:51:16.430943Z",
     "end_time": "2023-06-21T18:51:16.434982Z"
    }
   }
  },
  {
   "cell_type": "code",
   "execution_count": null,
   "outputs": [],
   "source": [],
   "metadata": {
    "collapsed": false
   }
  }
 ],
 "metadata": {
  "kernelspec": {
   "display_name": "Python 3",
   "language": "python",
   "name": "python3"
  },
  "language_info": {
   "codemirror_mode": {
    "name": "ipython",
    "version": 2
   },
   "file_extension": ".py",
   "mimetype": "text/x-python",
   "name": "python",
   "nbconvert_exporter": "python",
   "pygments_lexer": "ipython2",
   "version": "2.7.6"
  }
 },
 "nbformat": 4,
 "nbformat_minor": 0
}
