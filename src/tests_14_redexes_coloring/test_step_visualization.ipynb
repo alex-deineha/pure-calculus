{
 "cells": [
  {
   "cell_type": "code",
   "execution_count": 1,
   "metadata": {
    "collapsed": true,
    "ExecuteTime": {
     "start_time": "2023-06-20T18:40:09.563048Z",
     "end_time": "2023-06-20T18:40:09.660516Z"
    }
   },
   "outputs": [],
   "source": [
    "import sys\n",
    "import re\n",
    "from tqdm import tqdm\n",
    "\n",
    "sys.path.append(\"../\")\n",
    "from calculus_path_mod.term_engine import *\n",
    "from calculus_path_mod.reduction_strategy import *\n",
    "from calculus_path_mod.terms import num_comparison, nat_numbers, arithm_ops, combinators, pairs, logic\n",
    "\n",
    "from calculus_path_mod.terms.pseudonym import *"
   ]
  },
  {
   "cell_type": "markdown",
   "source": [
    "# DEFINE TERM"
   ],
   "metadata": {
    "collapsed": false
   }
  },
  {
   "cell_type": "code",
   "execution_count": 2,
   "outputs": [],
   "source": [
    "term = multi_app_term(arithm_ops.plus_term(), nat_numbers.num_term(3), nat_numbers.num_term(1))\n",
    "list_steps = term.normalize_visual(LOStrategy())"
   ],
   "metadata": {
    "collapsed": false,
    "ExecuteTime": {
     "start_time": "2023-06-20T18:40:09.659319Z",
     "end_time": "2023-06-20T18:40:09.667169Z"
    }
   }
  },
  {
   "cell_type": "code",
   "execution_count": 4,
   "outputs": [
    {
     "name": "stdout",
     "output_type": "stream",
     "text": [
      "0) time: 0.000000000000000s, term: ([>> (λx.(λy.((y (λa.(λb.(λc.(b ((a b) c)))))) x))) *** (λd.(λe.(d (d (d e))))) <<] (λj.(λi.(j i))))\n",
      "1) time: 0.000000000000000s, term: [>> (λx.((x (λy.(λa.(λb.(a ((y a) b)))))) (λc.(λd.(c (c (c d))))))) *** (λe.(λj.(e j))) <<]\n",
      "2) time: 0.000000000000000s, term: ([>> (λx.(λy.(x y))) *** (λa.(λb.(λc.(b ((a b) c))))) <<] (λd.(λe.(d (d (d e))))))\n",
      "3) time: 0.000000000000000s, term: [>> (λx.((λy.(λa.(λb.(a ((y a) b))))) x)) *** (λc.(λd.(c (c (c d))))) <<]\n",
      "4) time: 0.000000000000000s, term: [>> (λx.(λy.(λa.(y ((x y) a))))) *** (λb.(λc.(b (b (b c))))) <<]\n",
      "5) time: 0.000000000000000s, term: (λx.(λy.(x ([>> (λa.(λb.(a (a (a b))))) *** x <<] y))))\n",
      "6) time: 0.000000000000000s, term: (λx.(λy.(x [>> (λa.(x (x (x a)))) *** y <<])))\n",
      "\n",
      "Normalization time: 0.000000000000000s, steps: 7, normalized term: (λx.(λy.(x (x (x (x y))))))\n"
     ]
    }
   ],
   "source": [
    "total_time = 0.0\n",
    "for idx, (step_term, redex_index, reduction_time) in enumerate(list_steps):\n",
    "    if redex_index == -1:\n",
    "        print(f\"\\nNormalization time: {total_time:.5f}s, steps: {idx}, normalized term: {step_term.funky_str(redex_index=redex_index)}\")\n",
    "    else:\n",
    "        total_time += reduction_time\n",
    "        print(f\"{idx}) time: {reduction_time:.5f}s, term: {step_term.funky_str(redex_index=redex_index)}\")"
   ],
   "metadata": {
    "collapsed": false,
    "ExecuteTime": {
     "start_time": "2023-06-20T18:45:43.750021Z",
     "end_time": "2023-06-20T18:45:43.759889Z"
    }
   }
  },
  {
   "cell_type": "code",
   "execution_count": null,
   "outputs": [],
   "source": [],
   "metadata": {
    "collapsed": false
   }
  },
  {
   "cell_type": "code",
   "execution_count": null,
   "outputs": [],
   "source": [],
   "metadata": {
    "collapsed": false
   }
  }
 ],
 "metadata": {
  "kernelspec": {
   "display_name": "Python 3",
   "language": "python",
   "name": "python3"
  },
  "language_info": {
   "codemirror_mode": {
    "name": "ipython",
    "version": 2
   },
   "file_extension": ".py",
   "mimetype": "text/x-python",
   "name": "python",
   "nbconvert_exporter": "python",
   "pygments_lexer": "ipython2",
   "version": "2.7.6"
  }
 },
 "nbformat": 4,
 "nbformat_minor": 0
}
