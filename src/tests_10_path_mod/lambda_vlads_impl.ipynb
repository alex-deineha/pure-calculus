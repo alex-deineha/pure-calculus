{
 "cells": [
  {
   "cell_type": "code",
   "execution_count": 1,
   "metadata": {
    "collapsed": true
   },
   "outputs": [],
   "source": [
    "import sys\n",
    "import time\n",
    "\n",
    "sys.path.append(\"../\")\n",
    "from calculus.pseudonym import *\n",
    "from calculus.strategy import *"
   ]
  },
  {
   "cell_type": "code",
   "execution_count": 2,
   "outputs": [
    {
     "name": "stdout",
     "output_type": "stream",
     "text": [
      "((λq.(λw.w)) ((λq.(q q)) (λq.(q q))))\n"
     ]
    }
   ],
   "source": [
    "x, y = Var(), Var()\n",
    "x_, y_ = Atom(x), Atom(y)\n",
    "\n",
    "test_term = App(\n",
    "    Lambda(x, Lambda(y, y_)),\n",
    "    App(\n",
    "        Lambda(x, App(x_, x_)),\n",
    "        Lambda(x, App(x_, x_))\n",
    "    )\n",
    ")\n",
    "\n",
    "print(test_term)"
   ],
   "metadata": {
    "collapsed": false
   }
  },
  {
   "cell_type": "code",
   "execution_count": 6,
   "outputs": [
    {
     "name": "stdout",
     "output_type": "stream",
     "text": [
      "index: 1\n",
      "subterm: ((λq.(λw.w)) ((λe.(e e)) (λr.(r r))))\n",
      "reduced_term: (λq.q)\n",
      "1\n",
      "(λq.q)\n"
     ]
    }
   ],
   "source": [
    "reduced_term, reduction_count = test_term.normalize(LeftmostOutermostStrategy())\n",
    "print(reduction_count)\n",
    "print(reduced_term)"
   ],
   "metadata": {
    "collapsed": false
   }
  },
  {
   "cell_type": "code",
   "execution_count": null,
   "outputs": [],
   "source": [],
   "metadata": {
    "collapsed": false
   }
  }
 ],
 "metadata": {
  "kernelspec": {
   "display_name": "Python 3",
   "language": "python",
   "name": "python3"
  },
  "language_info": {
   "codemirror_mode": {
    "name": "ipython",
    "version": 2
   },
   "file_extension": ".py",
   "mimetype": "text/x-python",
   "name": "python",
   "nbconvert_exporter": "python",
   "pygments_lexer": "ipython2",
   "version": "2.7.6"
  }
 },
 "nbformat": 4,
 "nbformat_minor": 0
}
