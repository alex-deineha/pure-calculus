{
 "cells": [
  {
   "cell_type": "code",
   "execution_count": 1,
   "metadata": {
    "collapsed": true
   },
   "outputs": [],
   "source": [
    "class LambdaError(Exception):\n",
    "    __errmsg = [\n",
    "        \"unrecognised error\",\n",
    "    ]\n",
    "\n",
    "    def __init__(self, errDescription):\n",
    "        if isinstance(errDescription, int):\n",
    "            try:\n",
    "                self._msg = LambdaError.__errmsg[errDescription]\n",
    "            except:\n",
    "                self._msg = LambdaError.__errmsg[0]\n",
    "        elif isinstance(errDescription, str):\n",
    "            self._msg = errDescription\n",
    "        else:\n",
    "            self._msg = LambdaError.__errmsg[0]\n",
    "        super().__init__(self._msg)\n",
    "\n",
    "\n",
    "class Var:\n",
    "    __cvar = 0\n",
    "\n",
    "    def __init__(self):\n",
    "        self._data = Var.__cvar\n",
    "        Var.__cvar += 1\n",
    "\n",
    "    def __str__(self):\n",
    "        return f\"#{self._data}\"\n",
    "\n",
    "    def __eq__(self, another):\n",
    "        if isinstance(another, Var):\n",
    "            return self._data == another._data\n",
    "        raise LambdaError(\"Var.__eq__ waits for an instance of Var\"\n",
    "                          f\", but it received '{another}'\")\n",
    "\n",
    "\n",
    "class Term:  # the basic abstract class for representing a term\n",
    "\n",
    "    @property\n",
    "    def kind(self):  # returns the kind of the term\n",
    "        if isinstance(self, Atom):\n",
    "            return \"atom\"\n",
    "        if isinstance(self, Application):\n",
    "            return \"application\"\n",
    "        if isinstance(self, Abstraction):\n",
    "            return \"abstraction\"\n",
    "\n",
    "    def __str__(self):\n",
    "        if self.kind == \"atom\":\n",
    "            return f\"{self._data}\"\n",
    "        if self.kind == \"application\":\n",
    "            return f\"({self._data[0]} {self._data[1]})\"\n",
    "        else:  # self.kind == \"absraction\"\n",
    "            return f\"(λ{self._data[0]}. {self._data[1]})\"\n",
    "\n",
    "    # def __eq__(self, another):\n",
    "    #     if isinstance(another, Term):\n",
    "    #         if self.kind != another.kind:\n",
    "    #             return False\n",
    "    #         return self._data == another._data\n",
    "    #     else:\n",
    "    #         raise LambdaError(3)\n",
    "    def __eq__(self, other):\n",
    "        if not isinstance(other, Term):\n",
    "            return False\n",
    "        if self.kind == \"atom\" and other.kind == \"atom\":\n",
    "            return self._data == other._data\n",
    "        if self.kind == \"application\" and other.kind == \"application\":\n",
    "            return self._data[0] == other._data[0] and self._data[1] == other._data[1]\n",
    "        if self.kind == \"abstraction\" and other.kind == \"abstraction\":\n",
    "            return self._data[0] == other._data[0] and self._data[1] == other._data[1]\n",
    "        return False\n",
    "\n",
    "    def call_as_method(self, fun, *args):\n",
    "        return fun(self, *args)\n",
    "\n",
    "    @property\n",
    "    def is_beta_redex(self):\n",
    "        \"\"\":return: bool is the term is a beta-redex\"\"\"\n",
    "        return (self.kind == \"application\") and (self._data[0].kind == \"abstraction\")\n",
    "\n",
    "    @property\n",
    "    def redexes(self):\n",
    "        \"\"\":return: list of all beta-redexes in the term\"\"\"\n",
    "        if self.kind == \"atom\":\n",
    "            return []\n",
    "        if self.kind == \"abstraction\":\n",
    "            return self._data[1].redexes\n",
    "        # self is App:\n",
    "        redexes_list = [self] if self.is_beta_redex else []\n",
    "        redexes_list += self._data[0].redexes + self._data[1].redexes\n",
    "        return redexes_list\n",
    "\n",
    "    @property\n",
    "    def _vars(self):\n",
    "        \"\"\"\n",
    "        Here, keys of the external dictionary are the variables that\n",
    "        are occurred in 'self', and values of the internal dictionaries\n",
    "        relate respectively to the numbers of free and bound occurrences\n",
    "        of the variables.\n",
    "        :return: dict[Var, dict[('free'/'bound'), int]]\n",
    "        \"\"\"\n",
    "        if self.kind == \"atom\":\n",
    "            return {self._data: {\"free\": 1, \"bound\": 0}}\n",
    "        if self.kind == \"application\":\n",
    "            vars_, auxvars_ = dict(self._data[0]._vars), self._data[1]._vars\n",
    "            for var_ in auxvars_:\n",
    "                try:\n",
    "                    for key_ in (\"free\", \"bound\"):\n",
    "                        vars_[var_][key_] += self._data[1]._vars[var_][key_]\n",
    "                except KeyError:\n",
    "                    vars_[var_] = dict(self._data[1]._vars[var_])\n",
    "            return vars_\n",
    "        # self is Abstraction:\n",
    "        vars_ = dict(self._data[1]._vars)\n",
    "        try:\n",
    "            vars_[self._data[0]][\"bound\"] += vars_[self._data[0]][\"free\"]\n",
    "            vars_[self._data[0]][\"free\"] = 0\n",
    "        except KeyError:\n",
    "            pass\n",
    "        return vars_\n",
    "\n",
    "    @property\n",
    "    def vertices_number(self):\n",
    "        \"\"\":return: the number of nodes in the tree representation the lambda term\"\"\"\n",
    "        if self.kind == \"atom\":\n",
    "            return 1\n",
    "        if self.kind == \"application\":\n",
    "            return 1 + self._data[0].vertices_number + self._data[1].vertices_number\n",
    "        # self is Abstraction\n",
    "        return 1 + self._data[1].vertices_number\n",
    "\n",
    "    def normalize(self, strategy):\n",
    "        \"\"\"\n",
    "        :param strategy: OneStepStrategy\n",
    "        :return: tuple of the normal form of the term and number of steps of betta reduction\n",
    "        \"\"\"\n",
    "        term = self._update_bound_vars()\n",
    "        count_steps = 0\n",
    "        while len(term.redexes) > 0:\n",
    "            term = term._beta_conversion(strategy)._update_bound_vars()\n",
    "            count_steps += 1\n",
    "            # computation limitation\n",
    "            if (term.vertices_number > 7_000) or (count_steps > 400):\n",
    "                return term, float(\"inf\")\n",
    "        return term, count_steps\n",
    "\n",
    "    def _beta_conversion(self, strategy):\n",
    "        \"\"\"\n",
    "        :param strategy: OneStepStrategy\n",
    "        :return: term with redex eliminated using the given strategy\n",
    "        \"\"\"\n",
    "        index = strategy.redex_index(self)\n",
    "        subterm_ = self.subterm(index)\n",
    "        reduced_term = subterm_._remove_outer_redex()\n",
    "        return self.set_subterm(index, reduced_term)\n",
    "\n",
    "    def subterm(self, index: int):\n",
    "        \"\"\"\n",
    "        By representing the term as a tree, a subtree is returned,\n",
    "        which is also a lambda term.\n",
    "        The vertex of this subtree has a given index in the topological\n",
    "        sorting of the vertices of the original term.\n",
    "        :param index: int subterm index\n",
    "        :return: subterm: Term\n",
    "        \"\"\"\n",
    "        if index == 1:\n",
    "            return self\n",
    "        if self.kind == \"atom\":\n",
    "            raise ValueError(\"index value is incorrect\")\n",
    "        elif self.kind == \"application\":\n",
    "            if self._data[0].vertices_number + 1 >= index:\n",
    "                return self._data[0].subterm(index - 1)\n",
    "            else:\n",
    "                return self._data[1].subterm(index - self._data[0].vertices_number - 1)\n",
    "        else:\n",
    "            return self._data[1].subterm(index - 1)\n",
    "\n",
    "    def set_subterm(self, index: int, term):\n",
    "        \"\"\"\n",
    "        By representing the term as a tree, a subtree is set, which is also a lambda term.\n",
    "        The vertex of this subtree has a given index in the topological sorting of the vertices of the original term.\n",
    "        :param index: subterm index\n",
    "        :param term: λ-term to which the subterm will be replaced\n",
    "        :return: updated λ-term\n",
    "        \"\"\"\n",
    "        if index == 1:\n",
    "            return  term\n",
    "\n",
    "        if self.kind == \"atom\":\n",
    "            raise ValueError(\"index value is incorrect\")\n",
    "        elif self.kind == \"application\":\n",
    "            if self._data[0].vertices_number + 1 >= index:\n",
    "                return Application(self._data[0].set_subterm(index - 1, term), self._data[1])\n",
    "            else:\n",
    "                return Application(self._data[0],\n",
    "                                   self._data[1].set_subterm(index - self._data[0].vertices_number - 1, term))\n",
    "        else:\n",
    "            return Abstraction(self._data[0], self._data[1].set_subterm(index - 1, term))\n",
    "\n",
    "    def _update_bound_vars(self):\n",
    "        \"\"\":return: λ-term with updated bound variables\"\"\"\n",
    "        if self.kind == \"atom\":\n",
    "            return self\n",
    "        if self.kind == \"application\":\n",
    "            return Application(\n",
    "                self._data[0]._update_bound_vars(),\n",
    "                self._data[1]._update_bound_vars()\n",
    "            )\n",
    "        # self is abstraction\n",
    "        new_var = Var()\n",
    "        return Abstraction(\n",
    "            new_var,\n",
    "            self._data[1]._replace_variable(self._data[0], Atom(new_var))._update_bound_vars()\n",
    "        )\n",
    "\n",
    "    def _remove_outer_redex(self):\n",
    "        \"\"\"Apply the betta conversion to the lambda term, removing the outer betta redex\"\"\"\n",
    "        if self.is_beta_redex:\n",
    "            head = self._data[0]._data[0]\n",
    "            body = self._data[0]._data[1]\n",
    "            return body._replace_variable(head, self._data[1])\n",
    "        else:\n",
    "            return self\n",
    "\n",
    "    def _replace_variable(self, var: Var, term):\n",
    "        \"\"\"Return λ-term with replaced variable\"\"\"\n",
    "        if self.kind == \"atom\":\n",
    "            return term if self._data == var else self\n",
    "        if self.kind == \"application\":\n",
    "            return Application(self._data[0]._replace_variable(var, term),\n",
    "                               self._data[1]._replace_variable(var, term))\n",
    "        # self is abstraction\n",
    "        return Abstraction(self._data[0], self._data[1]._replace_variable(var, term))\n",
    "\n",
    "\n",
    "\n",
    "class Atom(Term):  # the class of terms created with the first rule\n",
    "\n",
    "    def __init__(self, v):\n",
    "        if isinstance(v, Var):\n",
    "            self._data = v\n",
    "        else:\n",
    "            raise LambdaError(\"Atom.__init__ waits for an instance of Var\"\n",
    "                              f\", but it received '{v}'\")\n",
    "\n",
    "\n",
    "class Application(Term):  # the class of terms created with the second rule\n",
    "\n",
    "    def __init__(self, t1, t2):\n",
    "        if isinstance(t1, Term) and isinstance(t2, Term):\n",
    "            self._data = (t1, t2)\n",
    "        else:\n",
    "            raise LambdaError(\"Application.__init__ waits for two instances\"\n",
    "                              f\" of Term, but it received '{t1}', '{t2}'\")\n",
    "\n",
    "\n",
    "class Abstraction(Term):  # the class of terms created with the third rule\n",
    "\n",
    "    def __init__(self, v, t):\n",
    "        if isinstance(v, Var) and isinstance(t, Term):\n",
    "            self._data = (v, t)\n",
    "        else:\n",
    "            raise LambdaError(\"Abstraction.__init__ waits for an instance of\"\n",
    "                              \" Var and an instance of Term\"\n",
    "                              f\", but it receive '{v}' and '{t}'\")\n",
    "\n",
    "\n",
    "\n",
    "from abc import ABC, abstractmethod\n",
    "\n",
    "\n",
    "class OneStepStrategy(ABC):\n",
    "    @abstractmethod\n",
    "    def redex_index(self, term: Term, init_index=0) -> int:\n",
    "        \"\"\"\n",
    "        :return: index of the vertex of a subterm that has an outer redex.\n",
    "                The index of a vertex is the index of this vertex in the topological sort of the tree vertices.\n",
    "                Indexing starts at 1.\n",
    "        \"\"\"\n",
    "\n",
    "\n",
    "class LOStrategy(OneStepStrategy):\n",
    "    def redex_index(self, term: Term, init_index=0) -> int:\n",
    "        if (term.kind == \"atom\") or (len(term.redexes) == 0):\n",
    "            raise ValueError(\"The term doesn't contain a redex\")\n",
    "        if term.kind == \"application\":\n",
    "            if term.is_beta_redex:\n",
    "                return init_index + 1\n",
    "            if len(term._data[0].redexes) != 0:\n",
    "                return self.redex_index(term._data[0], init_index + 1)\n",
    "            return self.redex_index(term._data[1],\n",
    "                                    init_index + term._data[0].vertices_number + 1)\n",
    "        # self is Abstraction:\n",
    "        return self.redex_index(term._data[1], init_index + 1)\n",
    "\n",
    "\n",
    "Lambda = Abstraction\n",
    "App = Application"
   ]
  },
  {
   "cell_type": "markdown",
   "source": [
    "# <span style=\"color: #A1F99C\">TEST PROCEDURE</span>"
   ],
   "metadata": {
    "collapsed": false
   }
  },
  {
   "cell_type": "code",
   "execution_count": 5,
   "outputs": [],
   "source": [
    "rs = LOStrategy()\n",
    "\n",
    "\n",
    "def test_procedure(term, reduction_strategy=rs, print_steps=True,\n",
    "                   steps_lim=60, assert_result=\"\"):\n",
    "    term = term._update_bound_vars()\n",
    "    n_steps = 0\n",
    "    is_term_normalized = True\n",
    "    if print_steps:\n",
    "        print(f\"{n_steps}: {term}\")\n",
    "    while term.redexes:\n",
    "        term = term._beta_conversion(reduction_strategy)\n",
    "        term = term._update_bound_vars()\n",
    "        n_steps += 1\n",
    "        if print_steps:\n",
    "            print(f\"{n_steps}: {term}\")\n",
    "        if n_steps > steps_lim:\n",
    "            is_term_normalized = False\n",
    "            break\n",
    "\n",
    "    print(f\"\\n\\nreduction steps: {n_steps}\")\n",
    "    print(f\"norm term:       {term}\" if is_term_normalized else f\"NOT norm term: {term}\")"
   ],
   "metadata": {
    "collapsed": false
   }
  },
  {
   "cell_type": "markdown",
   "source": [
    "# <span style=\"color: #A1F99C\">USEFUL TERMS</span>"
   ],
   "metadata": {
    "collapsed": false
   }
  },
  {
   "cell_type": "code",
   "execution_count": 6,
   "outputs": [],
   "source": [
    "def ite_term():\n",
    "    x, y, c = Var(), Var(), Var()\n",
    "    x_, y_, c_ = Atom(x), Atom(y), Atom(c)\n",
    "    return Lambda(c, Lambda(x, Lambda(y, multi_app_term(c_, x_, y_))))\n",
    "\n",
    "\n",
    "def true_term():\n",
    "    x, y = Var(), Var()\n",
    "    x_ = Atom(x)\n",
    "    return Lambda(x, Lambda(y, x_))\n",
    "\n",
    "\n",
    "def num_zero_term():\n",
    "    s, z = Var(), Var()\n",
    "    z_ = Atom(z)\n",
    "    return Lambda(s, Lambda(z, z_))\n",
    "\n",
    "\n",
    "def num_term(n: int):\n",
    "    if n <= 0:\n",
    "        return num_zero_term()\n",
    "    s, z = Var(), Var()\n",
    "    s_, z_ = Atom(s), Atom(z)\n",
    "    core_term = App(s_, z_)\n",
    "    for _ in range(n - 1):\n",
    "        core_term = App(s_, core_term)\n",
    "    return Lambda(s, Lambda(z, core_term))\n",
    "\n",
    "\n",
    "def multi_app_term(term_0: Term, term_1: Term, *terms: Term):\n",
    "    res_app_term = App(term_0, term_1)\n",
    "    for term in terms:\n",
    "        res_app_term = App(res_app_term, term)\n",
    "    return res_app_term\n",
    "\n",
    "\n",
    "def false_term():\n",
    "    x, y = Var(), Var()\n",
    "    y_ = Atom(y)\n",
    "    return Lambda(x, Lambda(y, y_))\n",
    "\n",
    "\n",
    "def pair_term():\n",
    "    x, y, p = Var(), Var(), Var()\n",
    "    x_, y_, p_ = Atom(x), Atom(y), Atom(p)\n",
    "    return Lambda(x, Lambda(y, Lambda(p, multi_app_term(p_, x_, y_))))\n",
    "\n",
    "\n",
    "def first_term():\n",
    "    p = Var()\n",
    "    p_ = Atom(p)\n",
    "    return Lambda(p, App(p_, true_term()))\n",
    "\n",
    "\n",
    "def second_term():\n",
    "    p = Var()\n",
    "    p_ = Atom(p)\n",
    "    return Lambda(p, App(p_, false_term()))\n",
    "\n",
    "\n",
    "def succ_term():\n",
    "    x, y, n = Var(), Var(), Var()\n",
    "    x_, y_, n_ = Atom(x), Atom(y), Atom(n)\n",
    "    return Lambda(n, Lambda(x, Lambda(y, App(x_, multi_app_term(n_, x_, y_)))))\n",
    "\n",
    "\n",
    "def sinc_term():\n",
    "    p = Var()\n",
    "    p_ = Atom(p)\n",
    "    return Lambda(\n",
    "        p,\n",
    "        multi_app_term(\n",
    "            pair_term(),\n",
    "            App(second_term(), p_),\n",
    "            App(succ_term(), App(second_term(), p_)),\n",
    "        ),\n",
    "    )\n",
    "\n",
    "\n",
    "def pred_term():\n",
    "    n, f, x, g, h, u = Var(), Var(), Var(), Var(), Var(), Var()\n",
    "    n_, f_, x_ = Atom(n), Atom(f), Atom(x)\n",
    "    g_, h_, u_ = Atom(g), Atom(h), Atom(u)\n",
    "\n",
    "    return Lambda(n, Lambda(f, Lambda(x, multi_app_term(\n",
    "        n_,\n",
    "        Lambda(g, Lambda(h, App(h_, App(g_, f_)))),\n",
    "        Lambda(u, x_),\n",
    "        Lambda(u, u_)\n",
    "    ))))\n",
    "\n",
    "\n",
    "def plus_term():\n",
    "    n, m = Var(), Var()\n",
    "    n_, m_ = Atom(n), Atom(m)\n",
    "    return Lambda(m, Lambda(n, multi_app_term(n_, succ_term(), m_)))\n",
    "\n",
    "\n",
    "def subtract_term():\n",
    "    n, m = Var(), Var()\n",
    "    n_, m_ = Atom(n), Atom(m)\n",
    "    return Lambda(n, Lambda(m, multi_app_term(m_, pred_term(), n_)))\n",
    "\n",
    "\n",
    "def iszero_term():\n",
    "    x, n = Var(), Var()\n",
    "    n_ = Atom(n)\n",
    "    return Lambda(n, App(App(n_, Lambda(x, false_term())), true_term()))\n",
    "\n",
    "\n",
    "def leq_term():\n",
    "    n, m = Var(), Var()\n",
    "    n_, m_ = Atom(n), Atom(m)\n",
    "    return Lambda(\n",
    "        n, Lambda(m, App(iszero_term(), multi_app_term(subtract_term(), n_, m_)))\n",
    "    )\n",
    "\n",
    "\n",
    "def and_term():\n",
    "    a, b = Var(), Var()\n",
    "    a_, b_ = Atom(a), Atom(b)\n",
    "    return Lambda(a, Lambda(b, multi_app_term(ite_term(), a_, b_, a_)))\n",
    "\n",
    "\n",
    "def eq_term():\n",
    "    n, m = Var(), Var()\n",
    "    n_, m_ = Atom(n), Atom(m)\n",
    "    return Lambda(\n",
    "        n,\n",
    "        Lambda(\n",
    "            m,\n",
    "            multi_app_term(\n",
    "                and_term(),\n",
    "                multi_app_term(leq_term(), n_, m_),\n",
    "                multi_app_term(leq_term(), m_, n_),\n",
    "            ),\n",
    "        ),\n",
    "    )"
   ],
   "metadata": {
    "collapsed": false
   }
  },
  {
   "cell_type": "markdown",
   "source": [
    "# <span style=\"color: #A1F99C\">1.</span>\n",
    "<span style=\"color:#bb91f3\">(λx. (λy.y)) ((λx. (xx)) (λx. (xx)))</span> == <span style=\"color:#f1bd47\">I</span> == <span style=\"color:#f1bd47\">λx. x</span>\n",
    "<span style=\"color:#c9fafa\">This term reduce in one step by LO, RO strategy\n",
    "And reduce in the same terms with other strategy.</span>"
   ],
   "metadata": {
    "collapsed": false
   }
  },
  {
   "cell_type": "code",
   "execution_count": 7,
   "outputs": [
    {
     "name": "stdout",
     "output_type": "stream",
     "text": [
      "0: ((λ#4. (λ#5. #5)) ((λ#6. (#6 #6)) (λ#7. (#7 #7))))\n",
      "1: (λ#8. #8)\n",
      "\n",
      "\n",
      "reduction steps: 1\n",
      "norm term:       (λ#8. #8)\n"
     ]
    }
   ],
   "source": [
    "def term_test_1():\n",
    "    x, y = Var(), Var()\n",
    "    x_, y_ = Atom(x), Atom(y)\n",
    "\n",
    "    return App(\n",
    "             Lambda(x, Lambda(y, y_)),\n",
    "             App(\n",
    "                 Lambda(x, App(x_, x_)),\n",
    "                 Lambda(x, App(x_, x_))\n",
    "             )\n",
    "         )\n",
    "\n",
    "\n",
    "test_procedure(term_test_1())"
   ],
   "metadata": {
    "collapsed": false
   }
  },
  {
   "cell_type": "markdown",
   "source": [
    "# <span style=\"color: #A1F99C\">2.</span>\n",
    "<span style=\"color:#bb91f3\">(ITE TRUE 3 1)</span> == <span style=\"color:#f1bd47>\">3</span> == <span style=\"color:#f1bd47\">λx. λy. (x (x (x y)))</span>"
   ],
   "metadata": {
    "collapsed": false
   }
  },
  {
   "cell_type": "code",
   "execution_count": 8,
   "outputs": [
    {
     "name": "stdout",
     "output_type": "stream",
     "text": [
      "0: ((((λ#18. (λ#19. (λ#20. ((#18 #19) #20)))) (λ#21. (λ#22. #21))) (λ#23. (λ#24. (#23 (#23 (#23 #24)))))) (λ#25. (λ#26. (#25 #26))))\n",
      "1: (((λ#27. (λ#28. (((λ#29. (λ#30. #29)) #27) #28))) (λ#31. (λ#32. (#31 (#31 (#31 #32)))))) (λ#33. (λ#34. (#33 #34))))\n",
      "2: ((λ#35. (((λ#36. (λ#37. #36)) (λ#38. (λ#39. (#38 (#38 (#38 #39)))))) #35)) (λ#40. (λ#41. (#40 #41))))\n",
      "3: (((λ#42. (λ#43. #42)) (λ#44. (λ#45. (#44 (#44 (#44 #45)))))) (λ#46. (λ#47. (#46 #47))))\n",
      "4: ((λ#48. (λ#49. (λ#50. (#49 (#49 (#49 #50)))))) (λ#51. (λ#52. (#51 #52))))\n",
      "5: (λ#53. (λ#54. (#53 (#53 (#53 #54)))))\n",
      "\n",
      "\n",
      "reduction steps: 5\n",
      "norm term:       (λ#53. (λ#54. (#53 (#53 (#53 #54)))))\n"
     ]
    }
   ],
   "source": [
    "def term_test_2():\n",
    "    return multi_app_term(ite_term(), true_term(), num_term(3), num_term(1))\n",
    "\n",
    "\n",
    "test_procedure(term_test_2())"
   ],
   "metadata": {
    "collapsed": false
   }
  },
  {
   "cell_type": "markdown",
   "source": [
    "# <span style=\"color: #A1F99C\">3.</span>\n",
    "<span style=\"color:#bb91f3\">(ITE FALSE 0 4)</span> == <span style=\"color:#f1bd47\">4</span> == <span style=\"color:#f1bd47\">λx. λy. (x (x (x (x y))))</span>"
   ],
   "metadata": {
    "collapsed": false
   }
  },
  {
   "cell_type": "code",
   "execution_count": 9,
   "outputs": [
    {
     "name": "stdout",
     "output_type": "stream",
     "text": [
      "0: ((((λ#64. (λ#65. (λ#66. ((#64 #65) #66)))) (λ#67. (λ#68. #68))) (λ#69. (λ#70. #70))) (λ#71. (λ#72. (#71 (#71 (#71 (#71 #72)))))))\n",
      "1: (((λ#73. (λ#74. (((λ#75. (λ#76. #76)) #73) #74))) (λ#77. (λ#78. #78))) (λ#79. (λ#80. (#79 (#79 (#79 (#79 #80)))))))\n",
      "2: ((λ#81. (((λ#82. (λ#83. #83)) (λ#84. (λ#85. #85))) #81)) (λ#86. (λ#87. (#86 (#86 (#86 (#86 #87)))))))\n",
      "3: (((λ#88. (λ#89. #89)) (λ#90. (λ#91. #91))) (λ#92. (λ#93. (#92 (#92 (#92 (#92 #93)))))))\n",
      "4: ((λ#94. #94) (λ#95. (λ#96. (#95 (#95 (#95 (#95 #96)))))))\n",
      "5: (λ#97. (λ#98. (#97 (#97 (#97 (#97 #98))))))\n",
      "\n",
      "\n",
      "reduction steps: 5\n",
      "norm term:       (λ#97. (λ#98. (#97 (#97 (#97 (#97 #98))))))\n"
     ]
    }
   ],
   "source": [
    "def term_test_3():\n",
    "    return multi_app_term(ite_term(), false_term(), num_term(0), num_term(4))\n",
    "\n",
    "\n",
    "test_procedure(term_test_3())"
   ],
   "metadata": {
    "collapsed": false
   }
  },
  {
   "cell_type": "markdown",
   "source": [
    "# <span style=\"color: #A1F99C\">4.</span>\n",
    "<span style=\"color:#bb91f3\">(PRED 0)</span> == <span style=\"color:#f1bd47\">0</span> == <span style=\"color:#f1bd47\">λx. λy. y</span>"
   ],
   "metadata": {
    "collapsed": false
   }
  },
  {
   "cell_type": "code",
   "execution_count": 10,
   "outputs": [
    {
     "name": "stdout",
     "output_type": "stream",
     "text": [
      "0: ((λ#107. (λ#108. (λ#109. (((#107 (λ#110. (λ#111. (#111 (#110 #108))))) (λ#112. #109)) (λ#113. #113))))) (λ#114. (λ#115. #115)))\n",
      "1: (λ#116. (λ#117. ((((λ#118. (λ#119. #119)) (λ#120. (λ#121. (#121 (#120 #116))))) (λ#122. #117)) (λ#123. #123))))\n",
      "2: (λ#124. (λ#125. (((λ#126. #126) (λ#127. #125)) (λ#128. #128))))\n",
      "3: (λ#129. (λ#130. ((λ#131. #130) (λ#132. #132))))\n",
      "4: (λ#133. (λ#134. #134))\n",
      "\n",
      "\n",
      "reduction steps: 4\n",
      "norm term:       (λ#133. (λ#134. #134))\n"
     ]
    }
   ],
   "source": [
    "def term_test_4():\n",
    "    return multi_app_term(pred_term(), num_term(0))\n",
    "\n",
    "\n",
    "test_procedure(term_test_4())"
   ],
   "metadata": {
    "collapsed": false
   }
  },
  {
   "cell_type": "markdown",
   "source": [
    "# <span style=\"color: #A1F99C\">5.</span>\n",
    "<span style=\"color:#bb91f3\">(PRED 5)</span> == <span style=\"color:#f1bd47\">4</span> == <span style=\"color:#f1bd47\">λx. λy. (x (x (x (x y))))</span>"
   ],
   "metadata": {
    "collapsed": false
   }
  },
  {
   "cell_type": "code",
   "execution_count": 11,
   "outputs": [
    {
     "name": "stdout",
     "output_type": "stream",
     "text": [
      "0: ((λ#143. (λ#144. (λ#145. (((#143 (λ#146. (λ#147. (#147 (#146 #144))))) (λ#148. #145)) (λ#149. #149))))) (λ#150. (λ#151. (#150 (#150 (#150 (#150 (#150 #151))))))))\n",
      "1: (λ#152. (λ#153. ((((λ#154. (λ#155. (#154 (#154 (#154 (#154 (#154 #155))))))) (λ#156. (λ#157. (#157 (#156 #152))))) (λ#158. #153)) (λ#159. #159))))\n",
      "2: (λ#160. (λ#161. (((λ#162. ((λ#163. (λ#164. (#164 (#163 #160)))) ((λ#165. (λ#166. (#166 (#165 #160)))) ((λ#167. (λ#168. (#168 (#167 #160)))) ((λ#169. (λ#170. (#170 (#169 #160)))) ((λ#171. (λ#172. (#172 (#171 #160)))) #162)))))) (λ#173. #161)) (λ#174. #174))))\n",
      "3: (λ#175. (λ#176. (((λ#177. (λ#178. (#178 (#177 #175)))) ((λ#179. (λ#180. (#180 (#179 #175)))) ((λ#181. (λ#182. (#182 (#181 #175)))) ((λ#183. (λ#184. (#184 (#183 #175)))) ((λ#185. (λ#186. (#186 (#185 #175)))) (λ#187. #176)))))) (λ#188. #188))))\n",
      "4: (λ#189. (λ#190. ((λ#191. (#191 (((λ#192. (λ#193. (#193 (#192 #189)))) ((λ#194. (λ#195. (#195 (#194 #189)))) ((λ#196. (λ#197. (#197 (#196 #189)))) ((λ#198. (λ#199. (#199 (#198 #189)))) (λ#200. #190))))) #189))) (λ#201. #201))))\n",
      "5: (λ#202. (λ#203. ((λ#204. #204) (((λ#205. (λ#206. (#206 (#205 #202)))) ((λ#207. (λ#208. (#208 (#207 #202)))) ((λ#209. (λ#210. (#210 (#209 #202)))) ((λ#211. (λ#212. (#212 (#211 #202)))) (λ#213. #203))))) #202))))\n",
      "6: (λ#214. (λ#215. (((λ#216. (λ#217. (#217 (#216 #214)))) ((λ#218. (λ#219. (#219 (#218 #214)))) ((λ#220. (λ#221. (#221 (#220 #214)))) ((λ#222. (λ#223. (#223 (#222 #214)))) (λ#224. #215))))) #214)))\n",
      "7: (λ#225. (λ#226. ((λ#227. (#227 (((λ#228. (λ#229. (#229 (#228 #225)))) ((λ#230. (λ#231. (#231 (#230 #225)))) ((λ#232. (λ#233. (#233 (#232 #225)))) (λ#234. #226)))) #225))) #225)))\n",
      "8: (λ#235. (λ#236. (#235 (((λ#237. (λ#238. (#238 (#237 #235)))) ((λ#239. (λ#240. (#240 (#239 #235)))) ((λ#241. (λ#242. (#242 (#241 #235)))) (λ#243. #236)))) #235))))\n",
      "9: (λ#244. (λ#245. (#244 ((λ#246. (#246 (((λ#247. (λ#248. (#248 (#247 #244)))) ((λ#249. (λ#250. (#250 (#249 #244)))) (λ#251. #245))) #244))) #244))))\n",
      "10: (λ#252. (λ#253. (#252 (#252 (((λ#254. (λ#255. (#255 (#254 #252)))) ((λ#256. (λ#257. (#257 (#256 #252)))) (λ#258. #253))) #252)))))\n",
      "11: (λ#259. (λ#260. (#259 (#259 ((λ#261. (#261 (((λ#262. (λ#263. (#263 (#262 #259)))) (λ#264. #260)) #259))) #259)))))\n",
      "12: (λ#265. (λ#266. (#265 (#265 (#265 (((λ#267. (λ#268. (#268 (#267 #265)))) (λ#269. #266)) #265))))))\n",
      "13: (λ#270. (λ#271. (#270 (#270 (#270 ((λ#272. (#272 ((λ#273. #271) #270))) #270))))))\n",
      "14: (λ#274. (λ#275. (#274 (#274 (#274 (#274 ((λ#276. #275) #274)))))))\n",
      "15: (λ#277. (λ#278. (#277 (#277 (#277 (#277 #278))))))\n",
      "\n",
      "\n",
      "reduction steps: 15\n",
      "norm term:       (λ#277. (λ#278. (#277 (#277 (#277 (#277 #278))))))\n"
     ]
    }
   ],
   "source": [
    "def term_test_5():\n",
    "    return multi_app_term(pred_term(), num_term(5))\n",
    "\n",
    "\n",
    "test_procedure(term_test_5())"
   ],
   "metadata": {
    "collapsed": false
   }
  },
  {
   "cell_type": "markdown",
   "source": [
    "# <span style=\"color: #A1F99C\">6.</span>\n",
    "<span style=\"color:#bb91f3\">(PLUS 0 0)</span> == <span style=\"color:#f1bd47\">0</span> == <span style=\"color:#f1bd47\">λx. λy. y</span>"
   ],
   "metadata": {
    "collapsed": false
   }
  },
  {
   "cell_type": "code",
   "execution_count": 12,
   "outputs": [
    {
     "name": "stdout",
     "output_type": "stream",
     "text": [
      "0: (((λ#288. (λ#289. ((#289 (λ#290. (λ#291. (λ#292. (#291 ((#290 #291) #292)))))) #288))) (λ#293. (λ#294. #294))) (λ#295. (λ#296. #296)))\n",
      "1: ((λ#297. ((#297 (λ#298. (λ#299. (λ#300. (#299 ((#298 #299) #300)))))) (λ#301. (λ#302. #302)))) (λ#303. (λ#304. #304)))\n",
      "2: (((λ#305. (λ#306. #306)) (λ#307. (λ#308. (λ#309. (#308 ((#307 #308) #309)))))) (λ#310. (λ#311. #311)))\n",
      "3: ((λ#312. #312) (λ#313. (λ#314. #314)))\n",
      "4: (λ#315. (λ#316. #316))\n",
      "\n",
      "\n",
      "reduction steps: 4\n",
      "norm term:       (λ#315. (λ#316. #316))\n"
     ]
    }
   ],
   "source": [
    "def term_test_6():\n",
    "    return multi_app_term(plus_term(), num_term(0), num_term(0))\n",
    "\n",
    "\n",
    "test_procedure(term_test_6())"
   ],
   "metadata": {
    "collapsed": false
   }
  },
  {
   "cell_type": "markdown",
   "source": [
    "# <span style=\"color: #A1F99C\">7.</span>\n",
    "<span style=\"color:#bb91f3\">(PLUS 2 3)</span> == <span style=\"color:#f1bd47\">5</span> == <span style=\"color:#f1bd47\">λx. λy. (x (x (x (x (x y)))))</span>"
   ],
   "metadata": {
    "collapsed": false
   }
  },
  {
   "cell_type": "code",
   "execution_count": 13,
   "outputs": [
    {
     "name": "stdout",
     "output_type": "stream",
     "text": [
      "0: (((λ#326. (λ#327. ((#327 (λ#328. (λ#329. (λ#330. (#329 ((#328 #329) #330)))))) #326))) (λ#331. (λ#332. (#331 (#331 #332))))) (λ#333. (λ#334. (#333 (#333 (#333 #334))))))\n",
      "1: ((λ#335. ((#335 (λ#336. (λ#337. (λ#338. (#337 ((#336 #337) #338)))))) (λ#339. (λ#340. (#339 (#339 #340)))))) (λ#341. (λ#342. (#341 (#341 (#341 #342))))))\n",
      "2: (((λ#343. (λ#344. (#343 (#343 (#343 #344))))) (λ#345. (λ#346. (λ#347. (#346 ((#345 #346) #347)))))) (λ#348. (λ#349. (#348 (#348 #349)))))\n",
      "3: ((λ#350. ((λ#351. (λ#352. (λ#353. (#352 ((#351 #352) #353))))) ((λ#354. (λ#355. (λ#356. (#355 ((#354 #355) #356))))) ((λ#357. (λ#358. (λ#359. (#358 ((#357 #358) #359))))) #350)))) (λ#360. (λ#361. (#360 (#360 #361)))))\n",
      "4: ((λ#362. (λ#363. (λ#364. (#363 ((#362 #363) #364))))) ((λ#365. (λ#366. (λ#367. (#366 ((#365 #366) #367))))) ((λ#368. (λ#369. (λ#370. (#369 ((#368 #369) #370))))) (λ#371. (λ#372. (#371 (#371 #372)))))))\n",
      "5: (λ#373. (λ#374. (#373 ((((λ#375. (λ#376. (λ#377. (#376 ((#375 #376) #377))))) ((λ#378. (λ#379. (λ#380. (#379 ((#378 #379) #380))))) (λ#381. (λ#382. (#381 (#381 #382)))))) #373) #374))))\n",
      "6: (λ#383. (λ#384. (#383 (((λ#385. (λ#386. (#385 ((((λ#387. (λ#388. (λ#389. (#388 ((#387 #388) #389))))) (λ#390. (λ#391. (#390 (#390 #391))))) #385) #386)))) #383) #384))))\n",
      "7: (λ#392. (λ#393. (#392 ((λ#394. (#392 ((((λ#395. (λ#396. (λ#397. (#396 ((#395 #396) #397))))) (λ#398. (λ#399. (#398 (#398 #399))))) #392) #394))) #393))))\n",
      "8: (λ#400. (λ#401. (#400 (#400 ((((λ#402. (λ#403. (λ#404. (#403 ((#402 #403) #404))))) (λ#405. (λ#406. (#405 (#405 #406))))) #400) #401)))))\n",
      "9: (λ#407. (λ#408. (#407 (#407 (((λ#409. (λ#410. (#409 (((λ#411. (λ#412. (#411 (#411 #412)))) #409) #410)))) #407) #408)))))\n",
      "10: (λ#413. (λ#414. (#413 (#413 ((λ#415. (#413 (((λ#416. (λ#417. (#416 (#416 #417)))) #413) #415))) #414)))))\n",
      "11: (λ#418. (λ#419. (#418 (#418 (#418 (((λ#420. (λ#421. (#420 (#420 #421)))) #418) #419))))))\n",
      "12: (λ#422. (λ#423. (#422 (#422 (#422 ((λ#424. (#422 (#422 #424))) #423))))))\n",
      "13: (λ#425. (λ#426. (#425 (#425 (#425 (#425 (#425 #426)))))))\n",
      "\n",
      "\n",
      "reduction steps: 13\n",
      "norm term:       (λ#425. (λ#426. (#425 (#425 (#425 (#425 (#425 #426)))))))\n"
     ]
    }
   ],
   "source": [
    "def term_test_7():\n",
    "    return multi_app_term(plus_term(), num_term(2), num_term(3))\n",
    "\n",
    "\n",
    "test_procedure(term_test_7())"
   ],
   "metadata": {
    "collapsed": false
   }
  },
  {
   "cell_type": "markdown",
   "source": [
    "# <span style=\"color: #A1F99C\">8.</span>\n",
    "<span style=\"color:#bb91f3\">(SUBTRACT 4 1)</span> == <span style=\"color:#f1bd47\">3</span> == <span style=\"color:#f1bd47\">λx. λy. (x (x (x y)))</span>"
   ],
   "metadata": {
    "collapsed": false
   }
  },
  {
   "cell_type": "code",
   "execution_count": 14,
   "outputs": [
    {
     "name": "stdout",
     "output_type": "stream",
     "text": [
      "0: (((λ#439. (λ#440. ((#440 (λ#441. (λ#442. (λ#443. (((#441 (λ#444. (λ#445. (#445 (#444 #442))))) (λ#446. #443)) (λ#447. #447)))))) #439))) (λ#448. (λ#449. (#448 (#448 (#448 (#448 #449))))))) (λ#450. (λ#451. (#450 #451))))\n",
      "1: ((λ#452. ((#452 (λ#453. (λ#454. (λ#455. (((#453 (λ#456. (λ#457. (#457 (#456 #454))))) (λ#458. #455)) (λ#459. #459)))))) (λ#460. (λ#461. (#460 (#460 (#460 (#460 #461)))))))) (λ#462. (λ#463. (#462 #463))))\n",
      "2: (((λ#464. (λ#465. (#464 #465))) (λ#466. (λ#467. (λ#468. (((#466 (λ#469. (λ#470. (#470 (#469 #467))))) (λ#471. #468)) (λ#472. #472)))))) (λ#473. (λ#474. (#473 (#473 (#473 (#473 #474)))))))\n",
      "3: ((λ#475. ((λ#476. (λ#477. (λ#478. (((#476 (λ#479. (λ#480. (#480 (#479 #477))))) (λ#481. #478)) (λ#482. #482))))) #475)) (λ#483. (λ#484. (#483 (#483 (#483 (#483 #484)))))))\n",
      "4: ((λ#485. (λ#486. (λ#487. (((#485 (λ#488. (λ#489. (#489 (#488 #486))))) (λ#490. #487)) (λ#491. #491))))) (λ#492. (λ#493. (#492 (#492 (#492 (#492 #493)))))))\n",
      "5: (λ#494. (λ#495. ((((λ#496. (λ#497. (#496 (#496 (#496 (#496 #497)))))) (λ#498. (λ#499. (#499 (#498 #494))))) (λ#500. #495)) (λ#501. #501))))\n",
      "6: (λ#502. (λ#503. (((λ#504. ((λ#505. (λ#506. (#506 (#505 #502)))) ((λ#507. (λ#508. (#508 (#507 #502)))) ((λ#509. (λ#510. (#510 (#509 #502)))) ((λ#511. (λ#512. (#512 (#511 #502)))) #504))))) (λ#513. #503)) (λ#514. #514))))\n",
      "7: (λ#515. (λ#516. (((λ#517. (λ#518. (#518 (#517 #515)))) ((λ#519. (λ#520. (#520 (#519 #515)))) ((λ#521. (λ#522. (#522 (#521 #515)))) ((λ#523. (λ#524. (#524 (#523 #515)))) (λ#525. #516))))) (λ#526. #526))))\n",
      "8: (λ#527. (λ#528. ((λ#529. (#529 (((λ#530. (λ#531. (#531 (#530 #527)))) ((λ#532. (λ#533. (#533 (#532 #527)))) ((λ#534. (λ#535. (#535 (#534 #527)))) (λ#536. #528)))) #527))) (λ#537. #537))))\n",
      "9: (λ#538. (λ#539. ((λ#540. #540) (((λ#541. (λ#542. (#542 (#541 #538)))) ((λ#543. (λ#544. (#544 (#543 #538)))) ((λ#545. (λ#546. (#546 (#545 #538)))) (λ#547. #539)))) #538))))\n",
      "10: (λ#548. (λ#549. (((λ#550. (λ#551. (#551 (#550 #548)))) ((λ#552. (λ#553. (#553 (#552 #548)))) ((λ#554. (λ#555. (#555 (#554 #548)))) (λ#556. #549)))) #548)))\n",
      "11: (λ#557. (λ#558. ((λ#559. (#559 (((λ#560. (λ#561. (#561 (#560 #557)))) ((λ#562. (λ#563. (#563 (#562 #557)))) (λ#564. #558))) #557))) #557)))\n",
      "12: (λ#565. (λ#566. (#565 (((λ#567. (λ#568. (#568 (#567 #565)))) ((λ#569. (λ#570. (#570 (#569 #565)))) (λ#571. #566))) #565))))\n",
      "13: (λ#572. (λ#573. (#572 ((λ#574. (#574 (((λ#575. (λ#576. (#576 (#575 #572)))) (λ#577. #573)) #572))) #572))))\n",
      "14: (λ#578. (λ#579. (#578 (#578 (((λ#580. (λ#581. (#581 (#580 #578)))) (λ#582. #579)) #578)))))\n",
      "15: (λ#583. (λ#584. (#583 (#583 ((λ#585. (#585 ((λ#586. #584) #583))) #583)))))\n",
      "16: (λ#587. (λ#588. (#587 (#587 (#587 ((λ#589. #588) #587))))))\n",
      "17: (λ#590. (λ#591. (#590 (#590 (#590 #591)))))\n",
      "\n",
      "\n",
      "reduction steps: 17\n",
      "norm term:       (λ#590. (λ#591. (#590 (#590 (#590 #591)))))\n"
     ]
    }
   ],
   "source": [
    "def term_test_8():\n",
    "    return multi_app_term(subtract_term(), num_term(4), num_term(1))\n",
    "\n",
    "\n",
    "test_procedure(term_test_8())"
   ],
   "metadata": {
    "collapsed": false
   }
  },
  {
   "cell_type": "markdown",
   "source": [
    "# <span style=\"color: #A1F99C\">9.</span>\n",
    "<span style=\"color:#bb91f3\">(SUBTRACT 3 5)</span> == <span style=\"color:#f1bd47\">0</span> == <span style=\"color:#f1bd47\">λx. λy. y</span>"
   ],
   "metadata": {
    "collapsed": false
   }
  },
  {
   "cell_type": "code",
   "execution_count": 15,
   "outputs": [
    {
     "name": "stdout",
     "output_type": "stream",
     "text": [
      "0: (((λ#604. (λ#605. ((#605 (λ#606. (λ#607. (λ#608. (((#606 (λ#609. (λ#610. (#610 (#609 #607))))) (λ#611. #608)) (λ#612. #612)))))) #604))) (λ#613. (λ#614. (#613 (#613 (#613 #614)))))) (λ#615. (λ#616. (#615 (#615 (#615 (#615 (#615 #616))))))))\n",
      "1: ((λ#617. ((#617 (λ#618. (λ#619. (λ#620. (((#618 (λ#621. (λ#622. (#622 (#621 #619))))) (λ#623. #620)) (λ#624. #624)))))) (λ#625. (λ#626. (#625 (#625 (#625 #626))))))) (λ#627. (λ#628. (#627 (#627 (#627 (#627 (#627 #628))))))))\n",
      "2: (((λ#629. (λ#630. (#629 (#629 (#629 (#629 (#629 #630))))))) (λ#631. (λ#632. (λ#633. (((#631 (λ#634. (λ#635. (#635 (#634 #632))))) (λ#636. #633)) (λ#637. #637)))))) (λ#638. (λ#639. (#638 (#638 (#638 #639))))))\n",
      "3: ((λ#640. ((λ#641. (λ#642. (λ#643. (((#641 (λ#644. (λ#645. (#645 (#644 #642))))) (λ#646. #643)) (λ#647. #647))))) ((λ#648. (λ#649. (λ#650. (((#648 (λ#651. (λ#652. (#652 (#651 #649))))) (λ#653. #650)) (λ#654. #654))))) ((λ#655. (λ#656. (λ#657. (((#655 (λ#658. (λ#659. (#659 (#658 #656))))) (λ#660. #657)) (λ#661. #661))))) ((λ#662. (λ#663. (λ#664. (((#662 (λ#665. (λ#666. (#666 (#665 #663))))) (λ#667. #664)) (λ#668. #668))))) ((λ#669. (λ#670. (λ#671. (((#669 (λ#672. (λ#673. (#673 (#672 #670))))) (λ#674. #671)) (λ#675. #675))))) #640)))))) (λ#676. (λ#677. (#676 (#676 (#676 #677))))))\n",
      "4: ((λ#678. (λ#679. (λ#680. (((#678 (λ#681. (λ#682. (#682 (#681 #679))))) (λ#683. #680)) (λ#684. #684))))) ((λ#685. (λ#686. (λ#687. (((#685 (λ#688. (λ#689. (#689 (#688 #686))))) (λ#690. #687)) (λ#691. #691))))) ((λ#692. (λ#693. (λ#694. (((#692 (λ#695. (λ#696. (#696 (#695 #693))))) (λ#697. #694)) (λ#698. #698))))) ((λ#699. (λ#700. (λ#701. (((#699 (λ#702. (λ#703. (#703 (#702 #700))))) (λ#704. #701)) (λ#705. #705))))) ((λ#706. (λ#707. (λ#708. (((#706 (λ#709. (λ#710. (#710 (#709 #707))))) (λ#711. #708)) (λ#712. #712))))) (λ#713. (λ#714. (#713 (#713 (#713 #714))))))))))\n",
      "5: (λ#715. (λ#716. (((((λ#717. (λ#718. (λ#719. (((#717 (λ#720. (λ#721. (#721 (#720 #718))))) (λ#722. #719)) (λ#723. #723))))) ((λ#724. (λ#725. (λ#726. (((#724 (λ#727. (λ#728. (#728 (#727 #725))))) (λ#729. #726)) (λ#730. #730))))) ((λ#731. (λ#732. (λ#733. (((#731 (λ#734. (λ#735. (#735 (#734 #732))))) (λ#736. #733)) (λ#737. #737))))) ((λ#738. (λ#739. (λ#740. (((#738 (λ#741. (λ#742. (#742 (#741 #739))))) (λ#743. #740)) (λ#744. #744))))) (λ#745. (λ#746. (#745 (#745 (#745 #746))))))))) (λ#747. (λ#748. (#748 (#747 #715))))) (λ#749. #716)) (λ#750. #750))))\n",
      "6: (λ#751. (λ#752. ((((λ#753. (λ#754. (((((λ#755. (λ#756. (λ#757. (((#755 (λ#758. (λ#759. (#759 (#758 #756))))) (λ#760. #757)) (λ#761. #761))))) ((λ#762. (λ#763. (λ#764. (((#762 (λ#765. (λ#766. (#766 (#765 #763))))) (λ#767. #764)) (λ#768. #768))))) ((λ#769. (λ#770. (λ#771. (((#769 (λ#772. (λ#773. (#773 (#772 #770))))) (λ#774. #771)) (λ#775. #775))))) (λ#776. (λ#777. (#776 (#776 (#776 #777)))))))) (λ#778. (λ#779. (#779 (#778 #753))))) (λ#780. #754)) (λ#781. #781)))) (λ#782. (λ#783. (#783 (#782 #751))))) (λ#784. #752)) (λ#785. #785))))\n",
      "7: (λ#786. (λ#787. (((λ#788. (((((λ#789. (λ#790. (λ#791. (((#789 (λ#792. (λ#793. (#793 (#792 #790))))) (λ#794. #791)) (λ#795. #795))))) ((λ#796. (λ#797. (λ#798. (((#796 (λ#799. (λ#800. (#800 (#799 #797))))) (λ#801. #798)) (λ#802. #802))))) ((λ#803. (λ#804. (λ#805. (((#803 (λ#806. (λ#807. (#807 (#806 #804))))) (λ#808. #805)) (λ#809. #809))))) (λ#810. (λ#811. (#810 (#810 (#810 #811)))))))) (λ#812. (λ#813. (#813 (#812 (λ#814. (λ#815. (#815 (#814 #786))))))))) (λ#816. #788)) (λ#817. #817))) (λ#818. #787)) (λ#819. #819))))\n",
      "8: (λ#820. (λ#821. ((((((λ#822. (λ#823. (λ#824. (((#822 (λ#825. (λ#826. (#826 (#825 #823))))) (λ#827. #824)) (λ#828. #828))))) ((λ#829. (λ#830. (λ#831. (((#829 (λ#832. (λ#833. (#833 (#832 #830))))) (λ#834. #831)) (λ#835. #835))))) ((λ#836. (λ#837. (λ#838. (((#836 (λ#839. (λ#840. (#840 (#839 #837))))) (λ#841. #838)) (λ#842. #842))))) (λ#843. (λ#844. (#843 (#843 (#843 #844)))))))) (λ#845. (λ#846. (#846 (#845 (λ#847. (λ#848. (#848 (#847 #820))))))))) (λ#849. (λ#850. #821))) (λ#851. #851)) (λ#852. #852))))\n",
      "9: (λ#853. (λ#854. (((((λ#855. (λ#856. (((((λ#857. (λ#858. (λ#859. (((#857 (λ#860. (λ#861. (#861 (#860 #858))))) (λ#862. #859)) (λ#863. #863))))) ((λ#864. (λ#865. (λ#866. (((#864 (λ#867. (λ#868. (#868 (#867 #865))))) (λ#869. #866)) (λ#870. #870))))) (λ#871. (λ#872. (#871 (#871 (#871 #872))))))) (λ#873. (λ#874. (#874 (#873 #855))))) (λ#875. #856)) (λ#876. #876)))) (λ#877. (λ#878. (#878 (#877 (λ#879. (λ#880. (#880 (#879 #853))))))))) (λ#881. (λ#882. #854))) (λ#883. #883)) (λ#884. #884))))\n",
      "10: (λ#885. (λ#886. ((((λ#887. (((((λ#888. (λ#889. (λ#890. (((#888 (λ#891. (λ#892. (#892 (#891 #889))))) (λ#893. #890)) (λ#894. #894))))) ((λ#895. (λ#896. (λ#897. (((#895 (λ#898. (λ#899. (#899 (#898 #896))))) (λ#900. #897)) (λ#901. #901))))) (λ#902. (λ#903. (#902 (#902 (#902 #903))))))) (λ#904. (λ#905. (#905 (#904 (λ#906. (λ#907. (#907 (#906 (λ#908. (λ#909. (#909 (#908 #885))))))))))))) (λ#910. #887)) (λ#911. #911))) (λ#912. (λ#913. #886))) (λ#914. #914)) (λ#915. #915))))\n",
      "11: (λ#916. (λ#917. (((((((λ#918. (λ#919. (λ#920. (((#918 (λ#921. (λ#922. (#922 (#921 #919))))) (λ#923. #920)) (λ#924. #924))))) ((λ#925. (λ#926. (λ#927. (((#925 (λ#928. (λ#929. (#929 (#928 #926))))) (λ#930. #927)) (λ#931. #931))))) (λ#932. (λ#933. (#932 (#932 (#932 #933))))))) (λ#934. (λ#935. (#935 (#934 (λ#936. (λ#937. (#937 (#936 (λ#938. (λ#939. (#939 (#938 #916))))))))))))) (λ#940. (λ#941. (λ#942. #917)))) (λ#943. #943)) (λ#944. #944)) (λ#945. #945))))\n",
      "12: (λ#946. (λ#947. ((((((λ#948. (λ#949. (((((λ#950. (λ#951. (λ#952. (((#950 (λ#953. (λ#954. (#954 (#953 #951))))) (λ#955. #952)) (λ#956. #956))))) (λ#957. (λ#958. (#957 (#957 (#957 #958)))))) (λ#959. (λ#960. (#960 (#959 #948))))) (λ#961. #949)) (λ#962. #962)))) (λ#963. (λ#964. (#964 (#963 (λ#965. (λ#966. (#966 (#965 (λ#967. (λ#968. (#968 (#967 #946))))))))))))) (λ#969. (λ#970. (λ#971. #947)))) (λ#972. #972)) (λ#973. #973)) (λ#974. #974))))\n",
      "13: (λ#975. (λ#976. (((((λ#977. (((((λ#978. (λ#979. (λ#980. (((#978 (λ#981. (λ#982. (#982 (#981 #979))))) (λ#983. #980)) (λ#984. #984))))) (λ#985. (λ#986. (#985 (#985 (#985 #986)))))) (λ#987. (λ#988. (#988 (#987 (λ#989. (λ#990. (#990 (#989 (λ#991. (λ#992. (#992 (#991 (λ#993. (λ#994. (#994 (#993 #975))))))))))))))))) (λ#995. #977)) (λ#996. #996))) (λ#997. (λ#998. (λ#999. #976)))) (λ#1000. #1000)) (λ#1001. #1001)) (λ#1002. #1002))))\n",
      "14: (λ#1003. (λ#1004. ((((((((λ#1005. (λ#1006. (λ#1007. (((#1005 (λ#1008. (λ#1009. (#1009 (#1008 #1006))))) (λ#1010. #1007)) (λ#1011. #1011))))) (λ#1012. (λ#1013. (#1012 (#1012 (#1012 #1013)))))) (λ#1014. (λ#1015. (#1015 (#1014 (λ#1016. (λ#1017. (#1017 (#1016 (λ#1018. (λ#1019. (#1019 (#1018 (λ#1020. (λ#1021. (#1021 (#1020 #1003))))))))))))))))) (λ#1022. (λ#1023. (λ#1024. (λ#1025. #1004))))) (λ#1026. #1026)) (λ#1027. #1027)) (λ#1028. #1028)) (λ#1029. #1029))))\n",
      "15: (λ#1030. (λ#1031. (((((((λ#1032. (λ#1033. ((((λ#1034. (λ#1035. (#1034 (#1034 (#1034 #1035))))) (λ#1036. (λ#1037. (#1037 (#1036 #1032))))) (λ#1038. #1033)) (λ#1039. #1039)))) (λ#1040. (λ#1041. (#1041 (#1040 (λ#1042. (λ#1043. (#1043 (#1042 (λ#1044. (λ#1045. (#1045 (#1044 (λ#1046. (λ#1047. (#1047 (#1046 #1030))))))))))))))))) (λ#1048. (λ#1049. (λ#1050. (λ#1051. #1031))))) (λ#1052. #1052)) (λ#1053. #1053)) (λ#1054. #1054)) (λ#1055. #1055))))\n",
      "16: (λ#1056. (λ#1057. ((((((λ#1058. ((((λ#1059. (λ#1060. (#1059 (#1059 (#1059 #1060))))) (λ#1061. (λ#1062. (#1062 (#1061 (λ#1063. (λ#1064. (#1064 (#1063 (λ#1065. (λ#1066. (#1066 (#1065 (λ#1067. (λ#1068. (#1068 (#1067 (λ#1069. (λ#1070. (#1070 (#1069 #1056))))))))))))))))))))) (λ#1071. #1058)) (λ#1072. #1072))) (λ#1073. (λ#1074. (λ#1075. (λ#1076. #1057))))) (λ#1077. #1077)) (λ#1078. #1078)) (λ#1079. #1079)) (λ#1080. #1080))))\n",
      "17: (λ#1081. (λ#1082. ((((((((λ#1083. (λ#1084. (#1083 (#1083 (#1083 #1084))))) (λ#1085. (λ#1086. (#1086 (#1085 (λ#1087. (λ#1088. (#1088 (#1087 (λ#1089. (λ#1090. (#1090 (#1089 (λ#1091. (λ#1092. (#1092 (#1091 (λ#1093. (λ#1094. (#1094 (#1093 #1081))))))))))))))))))))) (λ#1095. (λ#1096. (λ#1097. (λ#1098. (λ#1099. #1082)))))) (λ#1100. #1100)) (λ#1101. #1101)) (λ#1102. #1102)) (λ#1103. #1103)) (λ#1104. #1104))))\n",
      "18: (λ#1105. (λ#1106. (((((((λ#1107. ((λ#1108. (λ#1109. (#1109 (#1108 (λ#1110. (λ#1111. (#1111 (#1110 (λ#1112. (λ#1113. (#1113 (#1112 (λ#1114. (λ#1115. (#1115 (#1114 (λ#1116. (λ#1117. (#1117 (#1116 #1105)))))))))))))))))))) ((λ#1118. (λ#1119. (#1119 (#1118 (λ#1120. (λ#1121. (#1121 (#1120 (λ#1122. (λ#1123. (#1123 (#1122 (λ#1124. (λ#1125. (#1125 (#1124 (λ#1126. (λ#1127. (#1127 (#1126 #1105)))))))))))))))))))) ((λ#1128. (λ#1129. (#1129 (#1128 (λ#1130. (λ#1131. (#1131 (#1130 (λ#1132. (λ#1133. (#1133 (#1132 (λ#1134. (λ#1135. (#1135 (#1134 (λ#1136. (λ#1137. (#1137 (#1136 #1105)))))))))))))))))))) #1107)))) (λ#1138. (λ#1139. (λ#1140. (λ#1141. (λ#1142. #1106)))))) (λ#1143. #1143)) (λ#1144. #1144)) (λ#1145. #1145)) (λ#1146. #1146)) (λ#1147. #1147))))\n",
      "19: (λ#1148. (λ#1149. (((((((λ#1150. (λ#1151. (#1151 (#1150 (λ#1152. (λ#1153. (#1153 (#1152 (λ#1154. (λ#1155. (#1155 (#1154 (λ#1156. (λ#1157. (#1157 (#1156 (λ#1158. (λ#1159. (#1159 (#1158 #1148)))))))))))))))))))) ((λ#1160. (λ#1161. (#1161 (#1160 (λ#1162. (λ#1163. (#1163 (#1162 (λ#1164. (λ#1165. (#1165 (#1164 (λ#1166. (λ#1167. (#1167 (#1166 (λ#1168. (λ#1169. (#1169 (#1168 #1148)))))))))))))))))))) ((λ#1170. (λ#1171. (#1171 (#1170 (λ#1172. (λ#1173. (#1173 (#1172 (λ#1174. (λ#1175. (#1175 (#1174 (λ#1176. (λ#1177. (#1177 (#1176 (λ#1178. (λ#1179. (#1179 (#1178 #1148)))))))))))))))))))) (λ#1180. (λ#1181. (λ#1182. (λ#1183. (λ#1184. #1149)))))))) (λ#1185. #1185)) (λ#1186. #1186)) (λ#1187. #1187)) (λ#1188. #1188)) (λ#1189. #1189))))\n",
      "20: (λ#1190. (λ#1191. ((((((λ#1192. (#1192 (((λ#1193. (λ#1194. (#1194 (#1193 (λ#1195. (λ#1196. (#1196 (#1195 (λ#1197. (λ#1198. (#1198 (#1197 (λ#1199. (λ#1200. (#1200 (#1199 (λ#1201. (λ#1202. (#1202 (#1201 #1190)))))))))))))))))))) ((λ#1203. (λ#1204. (#1204 (#1203 (λ#1205. (λ#1206. (#1206 (#1205 (λ#1207. (λ#1208. (#1208 (#1207 (λ#1209. (λ#1210. (#1210 (#1209 (λ#1211. (λ#1212. (#1212 (#1211 #1190)))))))))))))))))))) (λ#1213. (λ#1214. (λ#1215. (λ#1216. (λ#1217. #1191))))))) (λ#1218. (λ#1219. (#1219 (#1218 (λ#1220. (λ#1221. (#1221 (#1220 (λ#1222. (λ#1223. (#1223 (#1222 (λ#1224. (λ#1225. (#1225 (#1224 #1190))))))))))))))))))) (λ#1226. #1226)) (λ#1227. #1227)) (λ#1228. #1228)) (λ#1229. #1229)) (λ#1230. #1230))))\n",
      "21: (λ#1231. (λ#1232. ((((((λ#1233. #1233) (((λ#1234. (λ#1235. (#1235 (#1234 (λ#1236. (λ#1237. (#1237 (#1236 (λ#1238. (λ#1239. (#1239 (#1238 (λ#1240. (λ#1241. (#1241 (#1240 (λ#1242. (λ#1243. (#1243 (#1242 #1231)))))))))))))))))))) ((λ#1244. (λ#1245. (#1245 (#1244 (λ#1246. (λ#1247. (#1247 (#1246 (λ#1248. (λ#1249. (#1249 (#1248 (λ#1250. (λ#1251. (#1251 (#1250 (λ#1252. (λ#1253. (#1253 (#1252 #1231)))))))))))))))))))) (λ#1254. (λ#1255. (λ#1256. (λ#1257. (λ#1258. #1232))))))) (λ#1259. (λ#1260. (#1260 (#1259 (λ#1261. (λ#1262. (#1262 (#1261 (λ#1263. (λ#1264. (#1264 (#1263 (λ#1265. (λ#1266. (#1266 (#1265 #1231)))))))))))))))))) (λ#1267. #1267)) (λ#1268. #1268)) (λ#1269. #1269)) (λ#1270. #1270))))\n",
      "22: (λ#1271. (λ#1272. (((((((λ#1273. (λ#1274. (#1274 (#1273 (λ#1275. (λ#1276. (#1276 (#1275 (λ#1277. (λ#1278. (#1278 (#1277 (λ#1279. (λ#1280. (#1280 (#1279 (λ#1281. (λ#1282. (#1282 (#1281 #1271)))))))))))))))))))) ((λ#1283. (λ#1284. (#1284 (#1283 (λ#1285. (λ#1286. (#1286 (#1285 (λ#1287. (λ#1288. (#1288 (#1287 (λ#1289. (λ#1290. (#1290 (#1289 (λ#1291. (λ#1292. (#1292 (#1291 #1271)))))))))))))))))))) (λ#1293. (λ#1294. (λ#1295. (λ#1296. (λ#1297. #1272))))))) (λ#1298. (λ#1299. (#1299 (#1298 (λ#1300. (λ#1301. (#1301 (#1300 (λ#1302. (λ#1303. (#1303 (#1302 (λ#1304. (λ#1305. (#1305 (#1304 #1271))))))))))))))))) (λ#1306. #1306)) (λ#1307. #1307)) (λ#1308. #1308)) (λ#1309. #1309))))\n",
      "23: (λ#1310. (λ#1311. ((((((λ#1312. (#1312 (((λ#1313. (λ#1314. (#1314 (#1313 (λ#1315. (λ#1316. (#1316 (#1315 (λ#1317. (λ#1318. (#1318 (#1317 (λ#1319. (λ#1320. (#1320 (#1319 (λ#1321. (λ#1322. (#1322 (#1321 #1310)))))))))))))))))))) (λ#1323. (λ#1324. (λ#1325. (λ#1326. (λ#1327. #1311)))))) (λ#1328. (λ#1329. (#1329 (#1328 (λ#1330. (λ#1331. (#1331 (#1330 (λ#1332. (λ#1333. (#1333 (#1332 (λ#1334. (λ#1335. (#1335 (#1334 #1310))))))))))))))))))) (λ#1336. (λ#1337. (#1337 (#1336 (λ#1338. (λ#1339. (#1339 (#1338 (λ#1340. (λ#1341. (#1341 (#1340 (λ#1342. (λ#1343. (#1343 (#1342 #1310))))))))))))))))) (λ#1344. #1344)) (λ#1345. #1345)) (λ#1346. #1346)) (λ#1347. #1347))))\n",
      "24: (λ#1348. (λ#1349. ((((((λ#1350. (λ#1351. (#1351 (#1350 (λ#1352. (λ#1353. (#1353 (#1352 (λ#1354. (λ#1355. (#1355 (#1354 (λ#1356. (λ#1357. (#1357 (#1356 #1348)))))))))))))))) (((λ#1358. (λ#1359. (#1359 (#1358 (λ#1360. (λ#1361. (#1361 (#1360 (λ#1362. (λ#1363. (#1363 (#1362 (λ#1364. (λ#1365. (#1365 (#1364 (λ#1366. (λ#1367. (#1367 (#1366 #1348)))))))))))))))))))) (λ#1368. (λ#1369. (λ#1370. (λ#1371. (λ#1372. #1349)))))) (λ#1373. (λ#1374. (#1374 (#1373 (λ#1375. (λ#1376. (#1376 (#1375 (λ#1377. (λ#1378. (#1378 (#1377 (λ#1379. (λ#1380. (#1380 (#1379 #1348)))))))))))))))))) (λ#1381. #1381)) (λ#1382. #1382)) (λ#1383. #1383)) (λ#1384. #1384))))\n",
      "25: (λ#1385. (λ#1386. (((((λ#1387. (#1387 ((((λ#1388. (λ#1389. (#1389 (#1388 (λ#1390. (λ#1391. (#1391 (#1390 (λ#1392. (λ#1393. (#1393 (#1392 (λ#1394. (λ#1395. (#1395 (#1394 (λ#1396. (λ#1397. (#1397 (#1396 #1385)))))))))))))))))))) (λ#1398. (λ#1399. (λ#1400. (λ#1401. (λ#1402. #1386)))))) (λ#1403. (λ#1404. (#1404 (#1403 (λ#1405. (λ#1406. (#1406 (#1405 (λ#1407. (λ#1408. (#1408 (#1407 (λ#1409. (λ#1410. (#1410 (#1409 #1385))))))))))))))))) (λ#1411. (λ#1412. (#1412 (#1411 (λ#1413. (λ#1414. (#1414 (#1413 (λ#1415. (λ#1416. (#1416 (#1415 #1385))))))))))))))) (λ#1417. #1417)) (λ#1418. #1418)) (λ#1419. #1419)) (λ#1420. #1420))))\n",
      "26: (λ#1421. (λ#1422. (((((λ#1423. #1423) ((((λ#1424. (λ#1425. (#1425 (#1424 (λ#1426. (λ#1427. (#1427 (#1426 (λ#1428. (λ#1429. (#1429 (#1428 (λ#1430. (λ#1431. (#1431 (#1430 (λ#1432. (λ#1433. (#1433 (#1432 #1421)))))))))))))))))))) (λ#1434. (λ#1435. (λ#1436. (λ#1437. (λ#1438. #1422)))))) (λ#1439. (λ#1440. (#1440 (#1439 (λ#1441. (λ#1442. (#1442 (#1441 (λ#1443. (λ#1444. (#1444 (#1443 (λ#1445. (λ#1446. (#1446 (#1445 #1421))))))))))))))))) (λ#1447. (λ#1448. (#1448 (#1447 (λ#1449. (λ#1450. (#1450 (#1449 (λ#1451. (λ#1452. (#1452 (#1451 #1421)))))))))))))) (λ#1453. #1453)) (λ#1454. #1454)) (λ#1455. #1455))))\n",
      "27: (λ#1456. (λ#1457. (((((((λ#1458. (λ#1459. (#1459 (#1458 (λ#1460. (λ#1461. (#1461 (#1460 (λ#1462. (λ#1463. (#1463 (#1462 (λ#1464. (λ#1465. (#1465 (#1464 (λ#1466. (λ#1467. (#1467 (#1466 #1456)))))))))))))))))))) (λ#1468. (λ#1469. (λ#1470. (λ#1471. (λ#1472. #1457)))))) (λ#1473. (λ#1474. (#1474 (#1473 (λ#1475. (λ#1476. (#1476 (#1475 (λ#1477. (λ#1478. (#1478 (#1477 (λ#1479. (λ#1480. (#1480 (#1479 #1456))))))))))))))))) (λ#1481. (λ#1482. (#1482 (#1481 (λ#1483. (λ#1484. (#1484 (#1483 (λ#1485. (λ#1486. (#1486 (#1485 #1456))))))))))))) (λ#1487. #1487)) (λ#1488. #1488)) (λ#1489. #1489))))\n",
      "28: (λ#1490. (λ#1491. ((((((λ#1492. (#1492 ((λ#1493. (λ#1494. (λ#1495. (λ#1496. (λ#1497. #1491))))) (λ#1498. (λ#1499. (#1499 (#1498 (λ#1500. (λ#1501. (#1501 (#1500 (λ#1502. (λ#1503. (#1503 (#1502 (λ#1504. (λ#1505. (#1505 (#1504 #1490))))))))))))))))))) (λ#1506. (λ#1507. (#1507 (#1506 (λ#1508. (λ#1509. (#1509 (#1508 (λ#1510. (λ#1511. (#1511 (#1510 (λ#1512. (λ#1513. (#1513 (#1512 #1490))))))))))))))))) (λ#1514. (λ#1515. (#1515 (#1514 (λ#1516. (λ#1517. (#1517 (#1516 (λ#1518. (λ#1519. (#1519 (#1518 #1490))))))))))))) (λ#1520. #1520)) (λ#1521. #1521)) (λ#1522. #1522))))\n",
      "29: (λ#1523. (λ#1524. ((((((λ#1525. (λ#1526. (#1526 (#1525 (λ#1527. (λ#1528. (#1528 (#1527 (λ#1529. (λ#1530. (#1530 (#1529 (λ#1531. (λ#1532. (#1532 (#1531 #1523)))))))))))))))) ((λ#1533. (λ#1534. (λ#1535. (λ#1536. (λ#1537. #1524))))) (λ#1538. (λ#1539. (#1539 (#1538 (λ#1540. (λ#1541. (#1541 (#1540 (λ#1542. (λ#1543. (#1543 (#1542 (λ#1544. (λ#1545. (#1545 (#1544 #1523)))))))))))))))))) (λ#1546. (λ#1547. (#1547 (#1546 (λ#1548. (λ#1549. (#1549 (#1548 (λ#1550. (λ#1551. (#1551 (#1550 #1523))))))))))))) (λ#1552. #1552)) (λ#1553. #1553)) (λ#1554. #1554))))\n",
      "30: (λ#1555. (λ#1556. (((((λ#1557. (#1557 (((λ#1558. (λ#1559. (λ#1560. (λ#1561. (λ#1562. #1556))))) (λ#1563. (λ#1564. (#1564 (#1563 (λ#1565. (λ#1566. (#1566 (#1565 (λ#1567. (λ#1568. (#1568 (#1567 (λ#1569. (λ#1570. (#1570 (#1569 #1555))))))))))))))))) (λ#1571. (λ#1572. (#1572 (#1571 (λ#1573. (λ#1574. (#1574 (#1573 (λ#1575. (λ#1576. (#1576 (#1575 #1555))))))))))))))) (λ#1577. (λ#1578. (#1578 (#1577 (λ#1579. (λ#1580. (#1580 (#1579 (λ#1581. (λ#1582. (#1582 (#1581 #1555))))))))))))) (λ#1583. #1583)) (λ#1584. #1584)) (λ#1585. #1585))))\n",
      "31: (λ#1586. (λ#1587. (((((λ#1588. (λ#1589. (#1589 (#1588 (λ#1590. (λ#1591. (#1591 (#1590 (λ#1592. (λ#1593. (#1593 (#1592 #1586)))))))))))) (((λ#1594. (λ#1595. (λ#1596. (λ#1597. (λ#1598. #1587))))) (λ#1599. (λ#1600. (#1600 (#1599 (λ#1601. (λ#1602. (#1602 (#1601 (λ#1603. (λ#1604. (#1604 (#1603 (λ#1605. (λ#1606. (#1606 (#1605 #1586))))))))))))))))) (λ#1607. (λ#1608. (#1608 (#1607 (λ#1609. (λ#1610. (#1610 (#1609 (λ#1611. (λ#1612. (#1612 (#1611 #1586)))))))))))))) (λ#1613. #1613)) (λ#1614. #1614)) (λ#1615. #1615))))\n",
      "32: (λ#1616. (λ#1617. ((((λ#1618. (#1618 ((((λ#1619. (λ#1620. (λ#1621. (λ#1622. (λ#1623. #1617))))) (λ#1624. (λ#1625. (#1625 (#1624 (λ#1626. (λ#1627. (#1627 (#1626 (λ#1628. (λ#1629. (#1629 (#1628 (λ#1630. (λ#1631. (#1631 (#1630 #1616))))))))))))))))) (λ#1632. (λ#1633. (#1633 (#1632 (λ#1634. (λ#1635. (#1635 (#1634 (λ#1636. (λ#1637. (#1637 (#1636 #1616))))))))))))) (λ#1638. (λ#1639. (#1639 (#1638 (λ#1640. (λ#1641. (#1641 (#1640 #1616))))))))))) (λ#1642. #1642)) (λ#1643. #1643)) (λ#1644. #1644))))\n",
      "33: (λ#1645. (λ#1646. ((((λ#1647. #1647) ((((λ#1648. (λ#1649. (λ#1650. (λ#1651. (λ#1652. #1646))))) (λ#1653. (λ#1654. (#1654 (#1653 (λ#1655. (λ#1656. (#1656 (#1655 (λ#1657. (λ#1658. (#1658 (#1657 (λ#1659. (λ#1660. (#1660 (#1659 #1645))))))))))))))))) (λ#1661. (λ#1662. (#1662 (#1661 (λ#1663. (λ#1664. (#1664 (#1663 (λ#1665. (λ#1666. (#1666 (#1665 #1645))))))))))))) (λ#1667. (λ#1668. (#1668 (#1667 (λ#1669. (λ#1670. (#1670 (#1669 #1645)))))))))) (λ#1671. #1671)) (λ#1672. #1672))))\n",
      "34: (λ#1673. (λ#1674. ((((((λ#1675. (λ#1676. (λ#1677. (λ#1678. (λ#1679. #1674))))) (λ#1680. (λ#1681. (#1681 (#1680 (λ#1682. (λ#1683. (#1683 (#1682 (λ#1684. (λ#1685. (#1685 (#1684 (λ#1686. (λ#1687. (#1687 (#1686 #1673))))))))))))))))) (λ#1688. (λ#1689. (#1689 (#1688 (λ#1690. (λ#1691. (#1691 (#1690 (λ#1692. (λ#1693. (#1693 (#1692 #1673))))))))))))) (λ#1694. (λ#1695. (#1695 (#1694 (λ#1696. (λ#1697. (#1697 (#1696 #1673))))))))) (λ#1698. #1698)) (λ#1699. #1699))))\n",
      "35: (λ#1700. (λ#1701. (((((λ#1702. (λ#1703. (λ#1704. (λ#1705. #1701)))) (λ#1706. (λ#1707. (#1707 (#1706 (λ#1708. (λ#1709. (#1709 (#1708 (λ#1710. (λ#1711. (#1711 (#1710 #1700))))))))))))) (λ#1712. (λ#1713. (#1713 (#1712 (λ#1714. (λ#1715. (#1715 (#1714 #1700))))))))) (λ#1716. #1716)) (λ#1717. #1717))))\n",
      "36: (λ#1718. (λ#1719. ((((λ#1720. (λ#1721. (λ#1722. #1719))) (λ#1723. (λ#1724. (#1724 (#1723 (λ#1725. (λ#1726. (#1726 (#1725 #1718))))))))) (λ#1727. #1727)) (λ#1728. #1728))))\n",
      "37: (λ#1729. (λ#1730. (((λ#1731. (λ#1732. #1730)) (λ#1733. #1733)) (λ#1734. #1734))))\n",
      "38: (λ#1735. (λ#1736. ((λ#1737. #1736) (λ#1738. #1738))))\n",
      "39: (λ#1739. (λ#1740. #1740))\n",
      "\n",
      "\n",
      "reduction steps: 39\n",
      "norm term:       (λ#1739. (λ#1740. #1740))\n"
     ]
    }
   ],
   "source": [
    "def term_test_9():\n",
    "    return multi_app_term(subtract_term(), num_term(3), num_term(5))\n",
    "\n",
    "\n",
    "test_procedure(term_test_9())"
   ],
   "metadata": {
    "collapsed": false
   }
  },
  {
   "cell_type": "markdown",
   "source": [
    "# <span style=\"color: #A1F99C\">10.</span>\n",
    "<span style=\"color:#bb91f3\">(LEQ 3 2)</span> == <span style=\"color:#f1bd47\">FALSE</span> == <span style=\"color:#f1bd47\">λx. λy. y</span>"
   ],
   "metadata": {
    "collapsed": false
   }
  },
  {
   "cell_type": "code",
   "execution_count": 16,
   "outputs": [
    {
     "name": "stdout",
     "output_type": "stream",
     "text": [
      "0: (((λ#1761. (λ#1762. ((λ#1763. ((#1763 (λ#1764. (λ#1765. (λ#1766. #1766)))) (λ#1767. (λ#1768. #1767)))) (((λ#1769. (λ#1770. ((#1770 (λ#1771. (λ#1772. (λ#1773. (((#1771 (λ#1774. (λ#1775. (#1775 (#1774 #1772))))) (λ#1776. #1773)) (λ#1777. #1777)))))) #1769))) #1761) #1762)))) (λ#1778. (λ#1779. (#1778 (#1778 (#1778 #1779)))))) (λ#1780. (λ#1781. (#1780 (#1780 #1781)))))\n",
      "1: ((λ#1782. ((λ#1783. ((#1783 (λ#1784. (λ#1785. (λ#1786. #1786)))) (λ#1787. (λ#1788. #1787)))) (((λ#1789. (λ#1790. ((#1790 (λ#1791. (λ#1792. (λ#1793. (((#1791 (λ#1794. (λ#1795. (#1795 (#1794 #1792))))) (λ#1796. #1793)) (λ#1797. #1797)))))) #1789))) (λ#1798. (λ#1799. (#1798 (#1798 (#1798 #1799)))))) #1782))) (λ#1800. (λ#1801. (#1800 (#1800 #1801)))))\n",
      "2: ((λ#1802. ((#1802 (λ#1803. (λ#1804. (λ#1805. #1805)))) (λ#1806. (λ#1807. #1806)))) (((λ#1808. (λ#1809. ((#1809 (λ#1810. (λ#1811. (λ#1812. (((#1810 (λ#1813. (λ#1814. (#1814 (#1813 #1811))))) (λ#1815. #1812)) (λ#1816. #1816)))))) #1808))) (λ#1817. (λ#1818. (#1817 (#1817 (#1817 #1818)))))) (λ#1819. (λ#1820. (#1819 (#1819 #1820))))))\n",
      "3: (((((λ#1821. (λ#1822. ((#1822 (λ#1823. (λ#1824. (λ#1825. (((#1823 (λ#1826. (λ#1827. (#1827 (#1826 #1824))))) (λ#1828. #1825)) (λ#1829. #1829)))))) #1821))) (λ#1830. (λ#1831. (#1830 (#1830 (#1830 #1831)))))) (λ#1832. (λ#1833. (#1832 (#1832 #1833))))) (λ#1834. (λ#1835. (λ#1836. #1836)))) (λ#1837. (λ#1838. #1837)))\n",
      "4: ((((λ#1839. ((#1839 (λ#1840. (λ#1841. (λ#1842. (((#1840 (λ#1843. (λ#1844. (#1844 (#1843 #1841))))) (λ#1845. #1842)) (λ#1846. #1846)))))) (λ#1847. (λ#1848. (#1847 (#1847 (#1847 #1848))))))) (λ#1849. (λ#1850. (#1849 (#1849 #1850))))) (λ#1851. (λ#1852. (λ#1853. #1853)))) (λ#1854. (λ#1855. #1854)))\n",
      "5: (((((λ#1856. (λ#1857. (#1856 (#1856 #1857)))) (λ#1858. (λ#1859. (λ#1860. (((#1858 (λ#1861. (λ#1862. (#1862 (#1861 #1859))))) (λ#1863. #1860)) (λ#1864. #1864)))))) (λ#1865. (λ#1866. (#1865 (#1865 (#1865 #1866)))))) (λ#1867. (λ#1868. (λ#1869. #1869)))) (λ#1870. (λ#1871. #1870)))\n",
      "6: ((((λ#1872. ((λ#1873. (λ#1874. (λ#1875. (((#1873 (λ#1876. (λ#1877. (#1877 (#1876 #1874))))) (λ#1878. #1875)) (λ#1879. #1879))))) ((λ#1880. (λ#1881. (λ#1882. (((#1880 (λ#1883. (λ#1884. (#1884 (#1883 #1881))))) (λ#1885. #1882)) (λ#1886. #1886))))) #1872))) (λ#1887. (λ#1888. (#1887 (#1887 (#1887 #1888)))))) (λ#1889. (λ#1890. (λ#1891. #1891)))) (λ#1892. (λ#1893. #1892)))\n",
      "7: ((((λ#1894. (λ#1895. (λ#1896. (((#1894 (λ#1897. (λ#1898. (#1898 (#1897 #1895))))) (λ#1899. #1896)) (λ#1900. #1900))))) ((λ#1901. (λ#1902. (λ#1903. (((#1901 (λ#1904. (λ#1905. (#1905 (#1904 #1902))))) (λ#1906. #1903)) (λ#1907. #1907))))) (λ#1908. (λ#1909. (#1908 (#1908 (#1908 #1909))))))) (λ#1910. (λ#1911. (λ#1912. #1912)))) (λ#1913. (λ#1914. #1913)))\n",
      "8: (((λ#1915. (λ#1916. (((((λ#1917. (λ#1918. (λ#1919. (((#1917 (λ#1920. (λ#1921. (#1921 (#1920 #1918))))) (λ#1922. #1919)) (λ#1923. #1923))))) (λ#1924. (λ#1925. (#1924 (#1924 (#1924 #1925)))))) (λ#1926. (λ#1927. (#1927 (#1926 #1915))))) (λ#1928. #1916)) (λ#1929. #1929)))) (λ#1930. (λ#1931. (λ#1932. #1932)))) (λ#1933. (λ#1934. #1933)))\n",
      "9: ((λ#1935. (((((λ#1936. (λ#1937. (λ#1938. (((#1936 (λ#1939. (λ#1940. (#1940 (#1939 #1937))))) (λ#1941. #1938)) (λ#1942. #1942))))) (λ#1943. (λ#1944. (#1943 (#1943 (#1943 #1944)))))) (λ#1945. (λ#1946. (#1946 (#1945 (λ#1947. (λ#1948. (λ#1949. #1949)))))))) (λ#1950. #1935)) (λ#1951. #1951))) (λ#1952. (λ#1953. #1952)))\n",
      "10: (((((λ#1954. (λ#1955. (λ#1956. (((#1954 (λ#1957. (λ#1958. (#1958 (#1957 #1955))))) (λ#1959. #1956)) (λ#1960. #1960))))) (λ#1961. (λ#1962. (#1961 (#1961 (#1961 #1962)))))) (λ#1963. (λ#1964. (#1964 (#1963 (λ#1965. (λ#1966. (λ#1967. #1967)))))))) (λ#1968. (λ#1969. (λ#1970. #1969)))) (λ#1971. #1971))\n",
      "11: ((((λ#1972. (λ#1973. ((((λ#1974. (λ#1975. (#1974 (#1974 (#1974 #1975))))) (λ#1976. (λ#1977. (#1977 (#1976 #1972))))) (λ#1978. #1973)) (λ#1979. #1979)))) (λ#1980. (λ#1981. (#1981 (#1980 (λ#1982. (λ#1983. (λ#1984. #1984)))))))) (λ#1985. (λ#1986. (λ#1987. #1986)))) (λ#1988. #1988))\n",
      "12: (((λ#1989. ((((λ#1990. (λ#1991. (#1990 (#1990 (#1990 #1991))))) (λ#1992. (λ#1993. (#1993 (#1992 (λ#1994. (λ#1995. (#1995 (#1994 (λ#1996. (λ#1997. (λ#1998. #1998)))))))))))) (λ#1999. #1989)) (λ#2000. #2000))) (λ#2001. (λ#2002. (λ#2003. #2002)))) (λ#2004. #2004))\n",
      "13: (((((λ#2005. (λ#2006. (#2005 (#2005 (#2005 #2006))))) (λ#2007. (λ#2008. (#2008 (#2007 (λ#2009. (λ#2010. (#2010 (#2009 (λ#2011. (λ#2012. (λ#2013. #2013)))))))))))) (λ#2014. (λ#2015. (λ#2016. (λ#2017. #2016))))) (λ#2018. #2018)) (λ#2019. #2019))\n",
      "14: ((((λ#2020. ((λ#2021. (λ#2022. (#2022 (#2021 (λ#2023. (λ#2024. (#2024 (#2023 (λ#2025. (λ#2026. (λ#2027. #2027))))))))))) ((λ#2028. (λ#2029. (#2029 (#2028 (λ#2030. (λ#2031. (#2031 (#2030 (λ#2032. (λ#2033. (λ#2034. #2034))))))))))) ((λ#2035. (λ#2036. (#2036 (#2035 (λ#2037. (λ#2038. (#2038 (#2037 (λ#2039. (λ#2040. (λ#2041. #2041))))))))))) #2020)))) (λ#2042. (λ#2043. (λ#2044. (λ#2045. #2044))))) (λ#2046. #2046)) (λ#2047. #2047))\n",
      "15: ((((λ#2048. (λ#2049. (#2049 (#2048 (λ#2050. (λ#2051. (#2051 (#2050 (λ#2052. (λ#2053. (λ#2054. #2054))))))))))) ((λ#2055. (λ#2056. (#2056 (#2055 (λ#2057. (λ#2058. (#2058 (#2057 (λ#2059. (λ#2060. (λ#2061. #2061))))))))))) ((λ#2062. (λ#2063. (#2063 (#2062 (λ#2064. (λ#2065. (#2065 (#2064 (λ#2066. (λ#2067. (λ#2068. #2068))))))))))) (λ#2069. (λ#2070. (λ#2071. (λ#2072. #2071))))))) (λ#2073. #2073)) (λ#2074. #2074))\n",
      "16: (((λ#2075. (#2075 (((λ#2076. (λ#2077. (#2077 (#2076 (λ#2078. (λ#2079. (#2079 (#2078 (λ#2080. (λ#2081. (λ#2082. #2082))))))))))) ((λ#2083. (λ#2084. (#2084 (#2083 (λ#2085. (λ#2086. (#2086 (#2085 (λ#2087. (λ#2088. (λ#2089. #2089))))))))))) (λ#2090. (λ#2091. (λ#2092. (λ#2093. #2092)))))) (λ#2094. (λ#2095. (#2095 (#2094 (λ#2096. (λ#2097. (λ#2098. #2098)))))))))) (λ#2099. #2099)) (λ#2100. #2100))\n",
      "17: (((λ#2101. #2101) (((λ#2102. (λ#2103. (#2103 (#2102 (λ#2104. (λ#2105. (#2105 (#2104 (λ#2106. (λ#2107. (λ#2108. #2108))))))))))) ((λ#2109. (λ#2110. (#2110 (#2109 (λ#2111. (λ#2112. (#2112 (#2111 (λ#2113. (λ#2114. (λ#2115. #2115))))))))))) (λ#2116. (λ#2117. (λ#2118. (λ#2119. #2118)))))) (λ#2120. (λ#2121. (#2121 (#2120 (λ#2122. (λ#2123. (λ#2124. #2124))))))))) (λ#2125. #2125))\n",
      "18: ((((λ#2126. (λ#2127. (#2127 (#2126 (λ#2128. (λ#2129. (#2129 (#2128 (λ#2130. (λ#2131. (λ#2132. #2132))))))))))) ((λ#2133. (λ#2134. (#2134 (#2133 (λ#2135. (λ#2136. (#2136 (#2135 (λ#2137. (λ#2138. (λ#2139. #2139))))))))))) (λ#2140. (λ#2141. (λ#2142. (λ#2143. #2142)))))) (λ#2144. (λ#2145. (#2145 (#2144 (λ#2146. (λ#2147. (λ#2148. #2148)))))))) (λ#2149. #2149))\n",
      "19: (((λ#2150. (#2150 (((λ#2151. (λ#2152. (#2152 (#2151 (λ#2153. (λ#2154. (#2154 (#2153 (λ#2155. (λ#2156. (λ#2157. #2157))))))))))) (λ#2158. (λ#2159. (λ#2160. (λ#2161. #2160))))) (λ#2162. (λ#2163. (#2163 (#2162 (λ#2164. (λ#2165. (λ#2166. #2166)))))))))) (λ#2167. (λ#2168. (#2168 (#2167 (λ#2169. (λ#2170. (λ#2171. #2171)))))))) (λ#2172. #2172))\n",
      "20: (((λ#2173. (λ#2174. (#2174 (#2173 (λ#2175. (λ#2176. (λ#2177. #2177))))))) (((λ#2178. (λ#2179. (#2179 (#2178 (λ#2180. (λ#2181. (#2181 (#2180 (λ#2182. (λ#2183. (λ#2184. #2184))))))))))) (λ#2185. (λ#2186. (λ#2187. (λ#2188. #2187))))) (λ#2189. (λ#2190. (#2190 (#2189 (λ#2191. (λ#2192. (λ#2193. #2193))))))))) (λ#2194. #2194))\n",
      "21: ((λ#2195. (#2195 ((((λ#2196. (λ#2197. (#2197 (#2196 (λ#2198. (λ#2199. (#2199 (#2198 (λ#2200. (λ#2201. (λ#2202. #2202))))))))))) (λ#2203. (λ#2204. (λ#2205. (λ#2206. #2205))))) (λ#2207. (λ#2208. (#2208 (#2207 (λ#2209. (λ#2210. (λ#2211. #2211)))))))) (λ#2212. (λ#2213. (λ#2214. #2214)))))) (λ#2215. #2215))\n",
      "22: ((λ#2216. #2216) ((((λ#2217. (λ#2218. (#2218 (#2217 (λ#2219. (λ#2220. (#2220 (#2219 (λ#2221. (λ#2222. (λ#2223. #2223))))))))))) (λ#2224. (λ#2225. (λ#2226. (λ#2227. #2226))))) (λ#2228. (λ#2229. (#2229 (#2228 (λ#2230. (λ#2231. (λ#2232. #2232)))))))) (λ#2233. (λ#2234. (λ#2235. #2235)))))\n",
      "23: ((((λ#2236. (λ#2237. (#2237 (#2236 (λ#2238. (λ#2239. (#2239 (#2238 (λ#2240. (λ#2241. (λ#2242. #2242))))))))))) (λ#2243. (λ#2244. (λ#2245. (λ#2246. #2245))))) (λ#2247. (λ#2248. (#2248 (#2247 (λ#2249. (λ#2250. (λ#2251. #2251)))))))) (λ#2252. (λ#2253. (λ#2254. #2254))))\n",
      "24: (((λ#2255. (#2255 ((λ#2256. (λ#2257. (λ#2258. (λ#2259. #2258)))) (λ#2260. (λ#2261. (#2261 (#2260 (λ#2262. (λ#2263. (λ#2264. #2264)))))))))) (λ#2265. (λ#2266. (#2266 (#2265 (λ#2267. (λ#2268. (λ#2269. #2269)))))))) (λ#2270. (λ#2271. (λ#2272. #2272))))\n",
      "25: (((λ#2273. (λ#2274. (#2274 (#2273 (λ#2275. (λ#2276. (λ#2277. #2277))))))) ((λ#2278. (λ#2279. (λ#2280. (λ#2281. #2280)))) (λ#2282. (λ#2283. (#2283 (#2282 (λ#2284. (λ#2285. (λ#2286. #2286))))))))) (λ#2287. (λ#2288. (λ#2289. #2289))))\n",
      "26: ((λ#2290. (#2290 (((λ#2291. (λ#2292. (λ#2293. (λ#2294. #2293)))) (λ#2295. (λ#2296. (#2296 (#2295 (λ#2297. (λ#2298. (λ#2299. #2299)))))))) (λ#2300. (λ#2301. (λ#2302. #2302)))))) (λ#2303. (λ#2304. (λ#2305. #2305))))\n",
      "27: ((λ#2306. (λ#2307. (λ#2308. #2308))) (((λ#2309. (λ#2310. (λ#2311. (λ#2312. #2311)))) (λ#2313. (λ#2314. (#2314 (#2313 (λ#2315. (λ#2316. (λ#2317. #2317)))))))) (λ#2318. (λ#2319. (λ#2320. #2320)))))\n",
      "28: (λ#2321. (λ#2322. #2322))\n",
      "\n",
      "\n",
      "reduction steps: 28\n",
      "norm term:       (λ#2321. (λ#2322. #2322))\n"
     ]
    }
   ],
   "source": [
    "def term_test_10():\n",
    "    return multi_app_term(leq_term(), num_term(3), num_term(2))\n",
    "\n",
    "\n",
    "test_procedure(term_test_10())"
   ],
   "metadata": {
    "collapsed": false
   }
  },
  {
   "cell_type": "markdown",
   "source": [
    "# <span style=\"color: #A1F99C\">11.</span>\n",
    "<span style=\"color:#bb91f3\">(LEQ 2 5)</span> == <span style=\"color:#f1bd47\">TRUE</span> == <span style=\"color:#f1bd47\">λx. λy. x</span>"
   ],
   "metadata": {
    "collapsed": false
   }
  },
  {
   "cell_type": "code",
   "execution_count": 17,
   "outputs": [
    {
     "name": "stdout",
     "output_type": "stream",
     "text": [
      "0: (((λ#2343. (λ#2344. ((λ#2345. ((#2345 (λ#2346. (λ#2347. (λ#2348. #2348)))) (λ#2349. (λ#2350. #2349)))) (((λ#2351. (λ#2352. ((#2352 (λ#2353. (λ#2354. (λ#2355. (((#2353 (λ#2356. (λ#2357. (#2357 (#2356 #2354))))) (λ#2358. #2355)) (λ#2359. #2359)))))) #2351))) #2343) #2344)))) (λ#2360. (λ#2361. (#2360 (#2360 #2361))))) (λ#2362. (λ#2363. (#2362 (#2362 (#2362 (#2362 (#2362 #2363))))))))\n",
      "1: ((λ#2364. ((λ#2365. ((#2365 (λ#2366. (λ#2367. (λ#2368. #2368)))) (λ#2369. (λ#2370. #2369)))) (((λ#2371. (λ#2372. ((#2372 (λ#2373. (λ#2374. (λ#2375. (((#2373 (λ#2376. (λ#2377. (#2377 (#2376 #2374))))) (λ#2378. #2375)) (λ#2379. #2379)))))) #2371))) (λ#2380. (λ#2381. (#2380 (#2380 #2381))))) #2364))) (λ#2382. (λ#2383. (#2382 (#2382 (#2382 (#2382 (#2382 #2383))))))))\n",
      "2: ((λ#2384. ((#2384 (λ#2385. (λ#2386. (λ#2387. #2387)))) (λ#2388. (λ#2389. #2388)))) (((λ#2390. (λ#2391. ((#2391 (λ#2392. (λ#2393. (λ#2394. (((#2392 (λ#2395. (λ#2396. (#2396 (#2395 #2393))))) (λ#2397. #2394)) (λ#2398. #2398)))))) #2390))) (λ#2399. (λ#2400. (#2399 (#2399 #2400))))) (λ#2401. (λ#2402. (#2401 (#2401 (#2401 (#2401 (#2401 #2402)))))))))\n",
      "3: (((((λ#2403. (λ#2404. ((#2404 (λ#2405. (λ#2406. (λ#2407. (((#2405 (λ#2408. (λ#2409. (#2409 (#2408 #2406))))) (λ#2410. #2407)) (λ#2411. #2411)))))) #2403))) (λ#2412. (λ#2413. (#2412 (#2412 #2413))))) (λ#2414. (λ#2415. (#2414 (#2414 (#2414 (#2414 (#2414 #2415)))))))) (λ#2416. (λ#2417. (λ#2418. #2418)))) (λ#2419. (λ#2420. #2419)))\n",
      "4: ((((λ#2421. ((#2421 (λ#2422. (λ#2423. (λ#2424. (((#2422 (λ#2425. (λ#2426. (#2426 (#2425 #2423))))) (λ#2427. #2424)) (λ#2428. #2428)))))) (λ#2429. (λ#2430. (#2429 (#2429 #2430)))))) (λ#2431. (λ#2432. (#2431 (#2431 (#2431 (#2431 (#2431 #2432)))))))) (λ#2433. (λ#2434. (λ#2435. #2435)))) (λ#2436. (λ#2437. #2436)))\n",
      "5: (((((λ#2438. (λ#2439. (#2438 (#2438 (#2438 (#2438 (#2438 #2439))))))) (λ#2440. (λ#2441. (λ#2442. (((#2440 (λ#2443. (λ#2444. (#2444 (#2443 #2441))))) (λ#2445. #2442)) (λ#2446. #2446)))))) (λ#2447. (λ#2448. (#2447 (#2447 #2448))))) (λ#2449. (λ#2450. (λ#2451. #2451)))) (λ#2452. (λ#2453. #2452)))\n",
      "6: ((((λ#2454. ((λ#2455. (λ#2456. (λ#2457. (((#2455 (λ#2458. (λ#2459. (#2459 (#2458 #2456))))) (λ#2460. #2457)) (λ#2461. #2461))))) ((λ#2462. (λ#2463. (λ#2464. (((#2462 (λ#2465. (λ#2466. (#2466 (#2465 #2463))))) (λ#2467. #2464)) (λ#2468. #2468))))) ((λ#2469. (λ#2470. (λ#2471. (((#2469 (λ#2472. (λ#2473. (#2473 (#2472 #2470))))) (λ#2474. #2471)) (λ#2475. #2475))))) ((λ#2476. (λ#2477. (λ#2478. (((#2476 (λ#2479. (λ#2480. (#2480 (#2479 #2477))))) (λ#2481. #2478)) (λ#2482. #2482))))) ((λ#2483. (λ#2484. (λ#2485. (((#2483 (λ#2486. (λ#2487. (#2487 (#2486 #2484))))) (λ#2488. #2485)) (λ#2489. #2489))))) #2454)))))) (λ#2490. (λ#2491. (#2490 (#2490 #2491))))) (λ#2492. (λ#2493. (λ#2494. #2494)))) (λ#2495. (λ#2496. #2495)))\n",
      "7: ((((λ#2497. (λ#2498. (λ#2499. (((#2497 (λ#2500. (λ#2501. (#2501 (#2500 #2498))))) (λ#2502. #2499)) (λ#2503. #2503))))) ((λ#2504. (λ#2505. (λ#2506. (((#2504 (λ#2507. (λ#2508. (#2508 (#2507 #2505))))) (λ#2509. #2506)) (λ#2510. #2510))))) ((λ#2511. (λ#2512. (λ#2513. (((#2511 (λ#2514. (λ#2515. (#2515 (#2514 #2512))))) (λ#2516. #2513)) (λ#2517. #2517))))) ((λ#2518. (λ#2519. (λ#2520. (((#2518 (λ#2521. (λ#2522. (#2522 (#2521 #2519))))) (λ#2523. #2520)) (λ#2524. #2524))))) ((λ#2525. (λ#2526. (λ#2527. (((#2525 (λ#2528. (λ#2529. (#2529 (#2528 #2526))))) (λ#2530. #2527)) (λ#2531. #2531))))) (λ#2532. (λ#2533. (#2532 (#2532 #2533))))))))) (λ#2534. (λ#2535. (λ#2536. #2536)))) (λ#2537. (λ#2538. #2537)))\n",
      "8: (((λ#2539. (λ#2540. (((((λ#2541. (λ#2542. (λ#2543. (((#2541 (λ#2544. (λ#2545. (#2545 (#2544 #2542))))) (λ#2546. #2543)) (λ#2547. #2547))))) ((λ#2548. (λ#2549. (λ#2550. (((#2548 (λ#2551. (λ#2552. (#2552 (#2551 #2549))))) (λ#2553. #2550)) (λ#2554. #2554))))) ((λ#2555. (λ#2556. (λ#2557. (((#2555 (λ#2558. (λ#2559. (#2559 (#2558 #2556))))) (λ#2560. #2557)) (λ#2561. #2561))))) ((λ#2562. (λ#2563. (λ#2564. (((#2562 (λ#2565. (λ#2566. (#2566 (#2565 #2563))))) (λ#2567. #2564)) (λ#2568. #2568))))) (λ#2569. (λ#2570. (#2569 (#2569 #2570)))))))) (λ#2571. (λ#2572. (#2572 (#2571 #2539))))) (λ#2573. #2540)) (λ#2574. #2574)))) (λ#2575. (λ#2576. (λ#2577. #2577)))) (λ#2578. (λ#2579. #2578)))\n",
      "9: ((λ#2580. (((((λ#2581. (λ#2582. (λ#2583. (((#2581 (λ#2584. (λ#2585. (#2585 (#2584 #2582))))) (λ#2586. #2583)) (λ#2587. #2587))))) ((λ#2588. (λ#2589. (λ#2590. (((#2588 (λ#2591. (λ#2592. (#2592 (#2591 #2589))))) (λ#2593. #2590)) (λ#2594. #2594))))) ((λ#2595. (λ#2596. (λ#2597. (((#2595 (λ#2598. (λ#2599. (#2599 (#2598 #2596))))) (λ#2600. #2597)) (λ#2601. #2601))))) ((λ#2602. (λ#2603. (λ#2604. (((#2602 (λ#2605. (λ#2606. (#2606 (#2605 #2603))))) (λ#2607. #2604)) (λ#2608. #2608))))) (λ#2609. (λ#2610. (#2609 (#2609 #2610)))))))) (λ#2611. (λ#2612. (#2612 (#2611 (λ#2613. (λ#2614. (λ#2615. #2615)))))))) (λ#2616. #2580)) (λ#2617. #2617))) (λ#2618. (λ#2619. #2618)))\n",
      "10: (((((λ#2620. (λ#2621. (λ#2622. (((#2620 (λ#2623. (λ#2624. (#2624 (#2623 #2621))))) (λ#2625. #2622)) (λ#2626. #2626))))) ((λ#2627. (λ#2628. (λ#2629. (((#2627 (λ#2630. (λ#2631. (#2631 (#2630 #2628))))) (λ#2632. #2629)) (λ#2633. #2633))))) ((λ#2634. (λ#2635. (λ#2636. (((#2634 (λ#2637. (λ#2638. (#2638 (#2637 #2635))))) (λ#2639. #2636)) (λ#2640. #2640))))) ((λ#2641. (λ#2642. (λ#2643. (((#2641 (λ#2644. (λ#2645. (#2645 (#2644 #2642))))) (λ#2646. #2643)) (λ#2647. #2647))))) (λ#2648. (λ#2649. (#2648 (#2648 #2649)))))))) (λ#2650. (λ#2651. (#2651 (#2650 (λ#2652. (λ#2653. (λ#2654. #2654)))))))) (λ#2655. (λ#2656. (λ#2657. #2656)))) (λ#2658. #2658))\n",
      "11: ((((λ#2659. (λ#2660. (((((λ#2661. (λ#2662. (λ#2663. (((#2661 (λ#2664. (λ#2665. (#2665 (#2664 #2662))))) (λ#2666. #2663)) (λ#2667. #2667))))) ((λ#2668. (λ#2669. (λ#2670. (((#2668 (λ#2671. (λ#2672. (#2672 (#2671 #2669))))) (λ#2673. #2670)) (λ#2674. #2674))))) ((λ#2675. (λ#2676. (λ#2677. (((#2675 (λ#2678. (λ#2679. (#2679 (#2678 #2676))))) (λ#2680. #2677)) (λ#2681. #2681))))) (λ#2682. (λ#2683. (#2682 (#2682 #2683))))))) (λ#2684. (λ#2685. (#2685 (#2684 #2659))))) (λ#2686. #2660)) (λ#2687. #2687)))) (λ#2688. (λ#2689. (#2689 (#2688 (λ#2690. (λ#2691. (λ#2692. #2692)))))))) (λ#2693. (λ#2694. (λ#2695. #2694)))) (λ#2696. #2696))\n",
      "12: (((λ#2697. (((((λ#2698. (λ#2699. (λ#2700. (((#2698 (λ#2701. (λ#2702. (#2702 (#2701 #2699))))) (λ#2703. #2700)) (λ#2704. #2704))))) ((λ#2705. (λ#2706. (λ#2707. (((#2705 (λ#2708. (λ#2709. (#2709 (#2708 #2706))))) (λ#2710. #2707)) (λ#2711. #2711))))) ((λ#2712. (λ#2713. (λ#2714. (((#2712 (λ#2715. (λ#2716. (#2716 (#2715 #2713))))) (λ#2717. #2714)) (λ#2718. #2718))))) (λ#2719. (λ#2720. (#2719 (#2719 #2720))))))) (λ#2721. (λ#2722. (#2722 (#2721 (λ#2723. (λ#2724. (#2724 (#2723 (λ#2725. (λ#2726. (λ#2727. #2727)))))))))))) (λ#2728. #2697)) (λ#2729. #2729))) (λ#2730. (λ#2731. (λ#2732. #2731)))) (λ#2733. #2733))\n",
      "13: ((((((λ#2734. (λ#2735. (λ#2736. (((#2734 (λ#2737. (λ#2738. (#2738 (#2737 #2735))))) (λ#2739. #2736)) (λ#2740. #2740))))) ((λ#2741. (λ#2742. (λ#2743. (((#2741 (λ#2744. (λ#2745. (#2745 (#2744 #2742))))) (λ#2746. #2743)) (λ#2747. #2747))))) ((λ#2748. (λ#2749. (λ#2750. (((#2748 (λ#2751. (λ#2752. (#2752 (#2751 #2749))))) (λ#2753. #2750)) (λ#2754. #2754))))) (λ#2755. (λ#2756. (#2755 (#2755 #2756))))))) (λ#2757. (λ#2758. (#2758 (#2757 (λ#2759. (λ#2760. (#2760 (#2759 (λ#2761. (λ#2762. (λ#2763. #2763)))))))))))) (λ#2764. (λ#2765. (λ#2766. (λ#2767. #2766))))) (λ#2768. #2768)) (λ#2769. #2769))\n",
      "14: (((((λ#2770. (λ#2771. (((((λ#2772. (λ#2773. (λ#2774. (((#2772 (λ#2775. (λ#2776. (#2776 (#2775 #2773))))) (λ#2777. #2774)) (λ#2778. #2778))))) ((λ#2779. (λ#2780. (λ#2781. (((#2779 (λ#2782. (λ#2783. (#2783 (#2782 #2780))))) (λ#2784. #2781)) (λ#2785. #2785))))) (λ#2786. (λ#2787. (#2786 (#2786 #2787)))))) (λ#2788. (λ#2789. (#2789 (#2788 #2770))))) (λ#2790. #2771)) (λ#2791. #2791)))) (λ#2792. (λ#2793. (#2793 (#2792 (λ#2794. (λ#2795. (#2795 (#2794 (λ#2796. (λ#2797. (λ#2798. #2798)))))))))))) (λ#2799. (λ#2800. (λ#2801. (λ#2802. #2801))))) (λ#2803. #2803)) (λ#2804. #2804))\n",
      "15: ((((λ#2805. (((((λ#2806. (λ#2807. (λ#2808. (((#2806 (λ#2809. (λ#2810. (#2810 (#2809 #2807))))) (λ#2811. #2808)) (λ#2812. #2812))))) ((λ#2813. (λ#2814. (λ#2815. (((#2813 (λ#2816. (λ#2817. (#2817 (#2816 #2814))))) (λ#2818. #2815)) (λ#2819. #2819))))) (λ#2820. (λ#2821. (#2820 (#2820 #2821)))))) (λ#2822. (λ#2823. (#2823 (#2822 (λ#2824. (λ#2825. (#2825 (#2824 (λ#2826. (λ#2827. (#2827 (#2826 (λ#2828. (λ#2829. (λ#2830. #2830)))))))))))))))) (λ#2831. #2805)) (λ#2832. #2832))) (λ#2833. (λ#2834. (λ#2835. (λ#2836. #2835))))) (λ#2837. #2837)) (λ#2838. #2838))\n",
      "16: (((((((λ#2839. (λ#2840. (λ#2841. (((#2839 (λ#2842. (λ#2843. (#2843 (#2842 #2840))))) (λ#2844. #2841)) (λ#2845. #2845))))) ((λ#2846. (λ#2847. (λ#2848. (((#2846 (λ#2849. (λ#2850. (#2850 (#2849 #2847))))) (λ#2851. #2848)) (λ#2852. #2852))))) (λ#2853. (λ#2854. (#2853 (#2853 #2854)))))) (λ#2855. (λ#2856. (#2856 (#2855 (λ#2857. (λ#2858. (#2858 (#2857 (λ#2859. (λ#2860. (#2860 (#2859 (λ#2861. (λ#2862. (λ#2863. #2863)))))))))))))))) (λ#2864. (λ#2865. (λ#2866. (λ#2867. (λ#2868. #2867)))))) (λ#2869. #2869)) (λ#2870. #2870)) (λ#2871. #2871))\n",
      "17: ((((((λ#2872. (λ#2873. (((((λ#2874. (λ#2875. (λ#2876. (((#2874 (λ#2877. (λ#2878. (#2878 (#2877 #2875))))) (λ#2879. #2876)) (λ#2880. #2880))))) (λ#2881. (λ#2882. (#2881 (#2881 #2882))))) (λ#2883. (λ#2884. (#2884 (#2883 #2872))))) (λ#2885. #2873)) (λ#2886. #2886)))) (λ#2887. (λ#2888. (#2888 (#2887 (λ#2889. (λ#2890. (#2890 (#2889 (λ#2891. (λ#2892. (#2892 (#2891 (λ#2893. (λ#2894. (λ#2895. #2895)))))))))))))))) (λ#2896. (λ#2897. (λ#2898. (λ#2899. (λ#2900. #2899)))))) (λ#2901. #2901)) (λ#2902. #2902)) (λ#2903. #2903))\n",
      "18: (((((λ#2904. (((((λ#2905. (λ#2906. (λ#2907. (((#2905 (λ#2908. (λ#2909. (#2909 (#2908 #2906))))) (λ#2910. #2907)) (λ#2911. #2911))))) (λ#2912. (λ#2913. (#2912 (#2912 #2913))))) (λ#2914. (λ#2915. (#2915 (#2914 (λ#2916. (λ#2917. (#2917 (#2916 (λ#2918. (λ#2919. (#2919 (#2918 (λ#2920. (λ#2921. (#2921 (#2920 (λ#2922. (λ#2923. (λ#2924. #2924)))))))))))))))))))) (λ#2925. #2904)) (λ#2926. #2926))) (λ#2927. (λ#2928. (λ#2929. (λ#2930. (λ#2931. #2930)))))) (λ#2932. #2932)) (λ#2933. #2933)) (λ#2934. #2934))\n",
      "19: ((((((((λ#2935. (λ#2936. (λ#2937. (((#2935 (λ#2938. (λ#2939. (#2939 (#2938 #2936))))) (λ#2940. #2937)) (λ#2941. #2941))))) (λ#2942. (λ#2943. (#2942 (#2942 #2943))))) (λ#2944. (λ#2945. (#2945 (#2944 (λ#2946. (λ#2947. (#2947 (#2946 (λ#2948. (λ#2949. (#2949 (#2948 (λ#2950. (λ#2951. (#2951 (#2950 (λ#2952. (λ#2953. (λ#2954. #2954)))))))))))))))))))) (λ#2955. (λ#2956. (λ#2957. (λ#2958. (λ#2959. (λ#2960. #2959))))))) (λ#2961. #2961)) (λ#2962. #2962)) (λ#2963. #2963)) (λ#2964. #2964))\n",
      "20: (((((((λ#2965. (λ#2966. ((((λ#2967. (λ#2968. (#2967 (#2967 #2968)))) (λ#2969. (λ#2970. (#2970 (#2969 #2965))))) (λ#2971. #2966)) (λ#2972. #2972)))) (λ#2973. (λ#2974. (#2974 (#2973 (λ#2975. (λ#2976. (#2976 (#2975 (λ#2977. (λ#2978. (#2978 (#2977 (λ#2979. (λ#2980. (#2980 (#2979 (λ#2981. (λ#2982. (λ#2983. #2983)))))))))))))))))))) (λ#2984. (λ#2985. (λ#2986. (λ#2987. (λ#2988. (λ#2989. #2988))))))) (λ#2990. #2990)) (λ#2991. #2991)) (λ#2992. #2992)) (λ#2993. #2993))\n",
      "21: ((((((λ#2994. ((((λ#2995. (λ#2996. (#2995 (#2995 #2996)))) (λ#2997. (λ#2998. (#2998 (#2997 (λ#2999. (λ#3000. (#3000 (#2999 (λ#3001. (λ#3002. (#3002 (#3001 (λ#3003. (λ#3004. (#3004 (#3003 (λ#3005. (λ#3006. (#3006 (#3005 (λ#3007. (λ#3008. (λ#3009. #3009)))))))))))))))))))))))) (λ#3010. #2994)) (λ#3011. #3011))) (λ#3012. (λ#3013. (λ#3014. (λ#3015. (λ#3016. (λ#3017. #3016))))))) (λ#3018. #3018)) (λ#3019. #3019)) (λ#3020. #3020)) (λ#3021. #3021))\n",
      "22: ((((((((λ#3022. (λ#3023. (#3022 (#3022 #3023)))) (λ#3024. (λ#3025. (#3025 (#3024 (λ#3026. (λ#3027. (#3027 (#3026 (λ#3028. (λ#3029. (#3029 (#3028 (λ#3030. (λ#3031. (#3031 (#3030 (λ#3032. (λ#3033. (#3033 (#3032 (λ#3034. (λ#3035. (λ#3036. #3036)))))))))))))))))))))))) (λ#3037. (λ#3038. (λ#3039. (λ#3040. (λ#3041. (λ#3042. (λ#3043. #3042)))))))) (λ#3044. #3044)) (λ#3045. #3045)) (λ#3046. #3046)) (λ#3047. #3047)) (λ#3048. #3048))\n",
      "23: (((((((λ#3049. ((λ#3050. (λ#3051. (#3051 (#3050 (λ#3052. (λ#3053. (#3053 (#3052 (λ#3054. (λ#3055. (#3055 (#3054 (λ#3056. (λ#3057. (#3057 (#3056 (λ#3058. (λ#3059. (#3059 (#3058 (λ#3060. (λ#3061. (λ#3062. #3062))))))))))))))))))))))) ((λ#3063. (λ#3064. (#3064 (#3063 (λ#3065. (λ#3066. (#3066 (#3065 (λ#3067. (λ#3068. (#3068 (#3067 (λ#3069. (λ#3070. (#3070 (#3069 (λ#3071. (λ#3072. (#3072 (#3071 (λ#3073. (λ#3074. (λ#3075. #3075))))))))))))))))))))))) #3049))) (λ#3076. (λ#3077. (λ#3078. (λ#3079. (λ#3080. (λ#3081. (λ#3082. #3081)))))))) (λ#3083. #3083)) (λ#3084. #3084)) (λ#3085. #3085)) (λ#3086. #3086)) (λ#3087. #3087))\n",
      "24: (((((((λ#3088. (λ#3089. (#3089 (#3088 (λ#3090. (λ#3091. (#3091 (#3090 (λ#3092. (λ#3093. (#3093 (#3092 (λ#3094. (λ#3095. (#3095 (#3094 (λ#3096. (λ#3097. (#3097 (#3096 (λ#3098. (λ#3099. (λ#3100. #3100))))))))))))))))))))))) ((λ#3101. (λ#3102. (#3102 (#3101 (λ#3103. (λ#3104. (#3104 (#3103 (λ#3105. (λ#3106. (#3106 (#3105 (λ#3107. (λ#3108. (#3108 (#3107 (λ#3109. (λ#3110. (#3110 (#3109 (λ#3111. (λ#3112. (λ#3113. #3113))))))))))))))))))))))) (λ#3114. (λ#3115. (λ#3116. (λ#3117. (λ#3118. (λ#3119. (λ#3120. #3119))))))))) (λ#3121. #3121)) (λ#3122. #3122)) (λ#3123. #3123)) (λ#3124. #3124)) (λ#3125. #3125))\n",
      "25: ((((((λ#3126. (#3126 (((λ#3127. (λ#3128. (#3128 (#3127 (λ#3129. (λ#3130. (#3130 (#3129 (λ#3131. (λ#3132. (#3132 (#3131 (λ#3133. (λ#3134. (#3134 (#3133 (λ#3135. (λ#3136. (#3136 (#3135 (λ#3137. (λ#3138. (λ#3139. #3139))))))))))))))))))))))) (λ#3140. (λ#3141. (λ#3142. (λ#3143. (λ#3144. (λ#3145. (λ#3146. #3145)))))))) (λ#3147. (λ#3148. (#3148 (#3147 (λ#3149. (λ#3150. (#3150 (#3149 (λ#3151. (λ#3152. (#3152 (#3151 (λ#3153. (λ#3154. (#3154 (#3153 (λ#3155. (λ#3156. (λ#3157. #3157)))))))))))))))))))))) (λ#3158. #3158)) (λ#3159. #3159)) (λ#3160. #3160)) (λ#3161. #3161)) (λ#3162. #3162))\n",
      "26: ((((((λ#3163. #3163) (((λ#3164. (λ#3165. (#3165 (#3164 (λ#3166. (λ#3167. (#3167 (#3166 (λ#3168. (λ#3169. (#3169 (#3168 (λ#3170. (λ#3171. (#3171 (#3170 (λ#3172. (λ#3173. (#3173 (#3172 (λ#3174. (λ#3175. (λ#3176. #3176))))))))))))))))))))))) (λ#3177. (λ#3178. (λ#3179. (λ#3180. (λ#3181. (λ#3182. (λ#3183. #3182)))))))) (λ#3184. (λ#3185. (#3185 (#3184 (λ#3186. (λ#3187. (#3187 (#3186 (λ#3188. (λ#3189. (#3189 (#3188 (λ#3190. (λ#3191. (#3191 (#3190 (λ#3192. (λ#3193. (λ#3194. #3194))))))))))))))))))))) (λ#3195. #3195)) (λ#3196. #3196)) (λ#3197. #3197)) (λ#3198. #3198))\n",
      "27: (((((((λ#3199. (λ#3200. (#3200 (#3199 (λ#3201. (λ#3202. (#3202 (#3201 (λ#3203. (λ#3204. (#3204 (#3203 (λ#3205. (λ#3206. (#3206 (#3205 (λ#3207. (λ#3208. (#3208 (#3207 (λ#3209. (λ#3210. (λ#3211. #3211))))))))))))))))))))))) (λ#3212. (λ#3213. (λ#3214. (λ#3215. (λ#3216. (λ#3217. (λ#3218. #3217)))))))) (λ#3219. (λ#3220. (#3220 (#3219 (λ#3221. (λ#3222. (#3222 (#3221 (λ#3223. (λ#3224. (#3224 (#3223 (λ#3225. (λ#3226. (#3226 (#3225 (λ#3227. (λ#3228. (λ#3229. #3229)))))))))))))))))))) (λ#3230. #3230)) (λ#3231. #3231)) (λ#3232. #3232)) (λ#3233. #3233))\n",
      "28: ((((((λ#3234. (#3234 ((λ#3235. (λ#3236. (λ#3237. (λ#3238. (λ#3239. (λ#3240. (λ#3241. #3240))))))) (λ#3242. (λ#3243. (#3243 (#3242 (λ#3244. (λ#3245. (#3245 (#3244 (λ#3246. (λ#3247. (#3247 (#3246 (λ#3248. (λ#3249. (#3249 (#3248 (λ#3250. (λ#3251. (λ#3252. #3252)))))))))))))))))))))) (λ#3253. (λ#3254. (#3254 (#3253 (λ#3255. (λ#3256. (#3256 (#3255 (λ#3257. (λ#3258. (#3258 (#3257 (λ#3259. (λ#3260. (#3260 (#3259 (λ#3261. (λ#3262. (λ#3263. #3263)))))))))))))))))))) (λ#3264. #3264)) (λ#3265. #3265)) (λ#3266. #3266)) (λ#3267. #3267))\n",
      "29: ((((((λ#3268. (λ#3269. (#3269 (#3268 (λ#3270. (λ#3271. (#3271 (#3270 (λ#3272. (λ#3273. (#3273 (#3272 (λ#3274. (λ#3275. (#3275 (#3274 (λ#3276. (λ#3277. (λ#3278. #3278))))))))))))))))))) ((λ#3279. (λ#3280. (λ#3281. (λ#3282. (λ#3283. (λ#3284. (λ#3285. #3284))))))) (λ#3286. (λ#3287. (#3287 (#3286 (λ#3288. (λ#3289. (#3289 (#3288 (λ#3290. (λ#3291. (#3291 (#3290 (λ#3292. (λ#3293. (#3293 (#3292 (λ#3294. (λ#3295. (λ#3296. #3296))))))))))))))))))))) (λ#3297. #3297)) (λ#3298. #3298)) (λ#3299. #3299)) (λ#3300. #3300))\n",
      "30: (((((λ#3301. (#3301 (((λ#3302. (λ#3303. (λ#3304. (λ#3305. (λ#3306. (λ#3307. (λ#3308. #3307))))))) (λ#3309. (λ#3310. (#3310 (#3309 (λ#3311. (λ#3312. (#3312 (#3311 (λ#3313. (λ#3314. (#3314 (#3313 (λ#3315. (λ#3316. (#3316 (#3315 (λ#3317. (λ#3318. (λ#3319. #3319)))))))))))))))))))) (λ#3320. (λ#3321. (#3321 (#3320 (λ#3322. (λ#3323. (#3323 (#3322 (λ#3324. (λ#3325. (#3325 (#3324 (λ#3326. (λ#3327. (λ#3328. #3328)))))))))))))))))) (λ#3329. #3329)) (λ#3330. #3330)) (λ#3331. #3331)) (λ#3332. #3332))\n",
      "31: (((((λ#3333. #3333) (((λ#3334. (λ#3335. (λ#3336. (λ#3337. (λ#3338. (λ#3339. (λ#3340. #3339))))))) (λ#3341. (λ#3342. (#3342 (#3341 (λ#3343. (λ#3344. (#3344 (#3343 (λ#3345. (λ#3346. (#3346 (#3345 (λ#3347. (λ#3348. (#3348 (#3347 (λ#3349. (λ#3350. (λ#3351. #3351)))))))))))))))))))) (λ#3352. (λ#3353. (#3353 (#3352 (λ#3354. (λ#3355. (#3355 (#3354 (λ#3356. (λ#3357. (#3357 (#3356 (λ#3358. (λ#3359. (λ#3360. #3360))))))))))))))))) (λ#3361. #3361)) (λ#3362. #3362)) (λ#3363. #3363))\n",
      "32: ((((((λ#3364. (λ#3365. (λ#3366. (λ#3367. (λ#3368. (λ#3369. (λ#3370. #3369))))))) (λ#3371. (λ#3372. (#3372 (#3371 (λ#3373. (λ#3374. (#3374 (#3373 (λ#3375. (λ#3376. (#3376 (#3375 (λ#3377. (λ#3378. (#3378 (#3377 (λ#3379. (λ#3380. (λ#3381. #3381)))))))))))))))))))) (λ#3382. (λ#3383. (#3383 (#3382 (λ#3384. (λ#3385. (#3385 (#3384 (λ#3386. (λ#3387. (#3387 (#3386 (λ#3388. (λ#3389. (λ#3390. #3390)))))))))))))))) (λ#3391. #3391)) (λ#3392. #3392)) (λ#3393. #3393))\n",
      "33: (((((λ#3394. (λ#3395. (λ#3396. (λ#3397. (λ#3398. (λ#3399. #3398)))))) (λ#3400. (λ#3401. (#3401 (#3400 (λ#3402. (λ#3403. (#3403 (#3402 (λ#3404. (λ#3405. (#3405 (#3404 (λ#3406. (λ#3407. (λ#3408. #3408)))))))))))))))) (λ#3409. #3409)) (λ#3410. #3410)) (λ#3411. #3411))\n",
      "34: ((((λ#3412. (λ#3413. (λ#3414. (λ#3415. (λ#3416. #3415))))) (λ#3417. #3417)) (λ#3418. #3418)) (λ#3419. #3419))\n",
      "35: (((λ#3420. (λ#3421. (λ#3422. (λ#3423. #3422)))) (λ#3424. #3424)) (λ#3425. #3425))\n",
      "36: ((λ#3426. (λ#3427. (λ#3428. #3427))) (λ#3429. #3429))\n",
      "37: (λ#3430. (λ#3431. #3430))\n",
      "\n",
      "\n",
      "reduction steps: 37\n",
      "norm term:       (λ#3430. (λ#3431. #3430))\n"
     ]
    }
   ],
   "source": [
    "def term_test_11():\n",
    "    return multi_app_term(leq_term(), num_term(2), num_term(5))\n",
    "\n",
    "\n",
    "test_procedure(term_test_11())"
   ],
   "metadata": {
    "collapsed": false
   }
  },
  {
   "cell_type": "markdown",
   "source": [
    "# <span style=\"color: #A1F99C\">12.</span>\n",
    "<span style=\"color:#bb91f3\">(EQ 2 2)</span> == <span style=\"color:#f1bd47\">TRUE</span> == <span style=\"color:#f1bd47\">λx. λy. x</span>"
   ],
   "metadata": {
    "collapsed": false
   }
  },
  {
   "cell_type": "code",
   "execution_count": 18,
   "outputs": [
    {
     "name": "stdout",
     "output_type": "stream",
     "text": [
      "0: (((λ#3475. (λ#3476. (((λ#3477. (λ#3478. ((((λ#3479. (λ#3480. (λ#3481. ((#3479 #3480) #3481)))) #3477) #3478) #3477))) (((λ#3482. (λ#3483. ((λ#3484. ((#3484 (λ#3485. (λ#3486. (λ#3487. #3487)))) (λ#3488. (λ#3489. #3488)))) (((λ#3490. (λ#3491. ((#3491 (λ#3492. (λ#3493. (λ#3494. (((#3492 (λ#3495. (λ#3496. (#3496 (#3495 #3493))))) (λ#3497. #3494)) (λ#3498. #3498)))))) #3490))) #3482) #3483)))) #3475) #3476)) (((λ#3499. (λ#3500. ((λ#3501. ((#3501 (λ#3502. (λ#3503. (λ#3504. #3504)))) (λ#3505. (λ#3506. #3505)))) (((λ#3507. (λ#3508. ((#3508 (λ#3509. (λ#3510. (λ#3511. (((#3509 (λ#3512. (λ#3513. (#3513 (#3512 #3510))))) (λ#3514. #3511)) (λ#3515. #3515)))))) #3507))) #3499) #3500)))) #3476) #3475)))) (λ#3516. (λ#3517. (#3516 (#3516 #3517))))) (λ#3518. (λ#3519. (#3518 (#3518 #3519)))))\n",
      "1: ((λ#3520. (((λ#3521. (λ#3522. ((((λ#3523. (λ#3524. (λ#3525. ((#3523 #3524) #3525)))) #3521) #3522) #3521))) (((λ#3526. (λ#3527. ((λ#3528. ((#3528 (λ#3529. (λ#3530. (λ#3531. #3531)))) (λ#3532. (λ#3533. #3532)))) (((λ#3534. (λ#3535. ((#3535 (λ#3536. (λ#3537. (λ#3538. (((#3536 (λ#3539. (λ#3540. (#3540 (#3539 #3537))))) (λ#3541. #3538)) (λ#3542. #3542)))))) #3534))) #3526) #3527)))) (λ#3543. (λ#3544. (#3543 (#3543 #3544))))) #3520)) (((λ#3545. (λ#3546. ((λ#3547. ((#3547 (λ#3548. (λ#3549. (λ#3550. #3550)))) (λ#3551. (λ#3552. #3551)))) (((λ#3553. (λ#3554. ((#3554 (λ#3555. (λ#3556. (λ#3557. (((#3555 (λ#3558. (λ#3559. (#3559 (#3558 #3556))))) (λ#3560. #3557)) (λ#3561. #3561)))))) #3553))) #3545) #3546)))) #3520) (λ#3562. (λ#3563. (#3562 (#3562 #3563))))))) (λ#3564. (λ#3565. (#3564 (#3564 #3565)))))\n",
      "2: (((λ#3566. (λ#3567. ((((λ#3568. (λ#3569. (λ#3570. ((#3568 #3569) #3570)))) #3566) #3567) #3566))) (((λ#3571. (λ#3572. ((λ#3573. ((#3573 (λ#3574. (λ#3575. (λ#3576. #3576)))) (λ#3577. (λ#3578. #3577)))) (((λ#3579. (λ#3580. ((#3580 (λ#3581. (λ#3582. (λ#3583. (((#3581 (λ#3584. (λ#3585. (#3585 (#3584 #3582))))) (λ#3586. #3583)) (λ#3587. #3587)))))) #3579))) #3571) #3572)))) (λ#3588. (λ#3589. (#3588 (#3588 #3589))))) (λ#3590. (λ#3591. (#3590 (#3590 #3591)))))) (((λ#3592. (λ#3593. ((λ#3594. ((#3594 (λ#3595. (λ#3596. (λ#3597. #3597)))) (λ#3598. (λ#3599. #3598)))) (((λ#3600. (λ#3601. ((#3601 (λ#3602. (λ#3603. (λ#3604. (((#3602 (λ#3605. (λ#3606. (#3606 (#3605 #3603))))) (λ#3607. #3604)) (λ#3608. #3608)))))) #3600))) #3592) #3593)))) (λ#3609. (λ#3610. (#3609 (#3609 #3610))))) (λ#3611. (λ#3612. (#3611 (#3611 #3612))))))\n",
      "3: ((λ#3613. ((((λ#3614. (λ#3615. (λ#3616. ((#3614 #3615) #3616)))) (((λ#3617. (λ#3618. ((λ#3619. ((#3619 (λ#3620. (λ#3621. (λ#3622. #3622)))) (λ#3623. (λ#3624. #3623)))) (((λ#3625. (λ#3626. ((#3626 (λ#3627. (λ#3628. (λ#3629. (((#3627 (λ#3630. (λ#3631. (#3631 (#3630 #3628))))) (λ#3632. #3629)) (λ#3633. #3633)))))) #3625))) #3617) #3618)))) (λ#3634. (λ#3635. (#3634 (#3634 #3635))))) (λ#3636. (λ#3637. (#3636 (#3636 #3637)))))) #3613) (((λ#3638. (λ#3639. ((λ#3640. ((#3640 (λ#3641. (λ#3642. (λ#3643. #3643)))) (λ#3644. (λ#3645. #3644)))) (((λ#3646. (λ#3647. ((#3647 (λ#3648. (λ#3649. (λ#3650. (((#3648 (λ#3651. (λ#3652. (#3652 (#3651 #3649))))) (λ#3653. #3650)) (λ#3654. #3654)))))) #3646))) #3638) #3639)))) (λ#3655. (λ#3656. (#3655 (#3655 #3656))))) (λ#3657. (λ#3658. (#3657 (#3657 #3658))))))) (((λ#3659. (λ#3660. ((λ#3661. ((#3661 (λ#3662. (λ#3663. (λ#3664. #3664)))) (λ#3665. (λ#3666. #3665)))) (((λ#3667. (λ#3668. ((#3668 (λ#3669. (λ#3670. (λ#3671. (((#3669 (λ#3672. (λ#3673. (#3673 (#3672 #3670))))) (λ#3674. #3671)) (λ#3675. #3675)))))) #3667))) #3659) #3660)))) (λ#3676. (λ#3677. (#3676 (#3676 #3677))))) (λ#3678. (λ#3679. (#3678 (#3678 #3679))))))\n",
      "4: ((((λ#3680. (λ#3681. (λ#3682. ((#3680 #3681) #3682)))) (((λ#3683. (λ#3684. ((λ#3685. ((#3685 (λ#3686. (λ#3687. (λ#3688. #3688)))) (λ#3689. (λ#3690. #3689)))) (((λ#3691. (λ#3692. ((#3692 (λ#3693. (λ#3694. (λ#3695. (((#3693 (λ#3696. (λ#3697. (#3697 (#3696 #3694))))) (λ#3698. #3695)) (λ#3699. #3699)))))) #3691))) #3683) #3684)))) (λ#3700. (λ#3701. (#3700 (#3700 #3701))))) (λ#3702. (λ#3703. (#3702 (#3702 #3703)))))) (((λ#3704. (λ#3705. ((λ#3706. ((#3706 (λ#3707. (λ#3708. (λ#3709. #3709)))) (λ#3710. (λ#3711. #3710)))) (((λ#3712. (λ#3713. ((#3713 (λ#3714. (λ#3715. (λ#3716. (((#3714 (λ#3717. (λ#3718. (#3718 (#3717 #3715))))) (λ#3719. #3716)) (λ#3720. #3720)))))) #3712))) #3704) #3705)))) (λ#3721. (λ#3722. (#3721 (#3721 #3722))))) (λ#3723. (λ#3724. (#3723 (#3723 #3724)))))) (((λ#3725. (λ#3726. ((λ#3727. ((#3727 (λ#3728. (λ#3729. (λ#3730. #3730)))) (λ#3731. (λ#3732. #3731)))) (((λ#3733. (λ#3734. ((#3734 (λ#3735. (λ#3736. (λ#3737. (((#3735 (λ#3738. (λ#3739. (#3739 (#3738 #3736))))) (λ#3740. #3737)) (λ#3741. #3741)))))) #3733))) #3725) #3726)))) (λ#3742. (λ#3743. (#3742 (#3742 #3743))))) (λ#3744. (λ#3745. (#3744 (#3744 #3745))))))\n",
      "5: (((λ#3746. (λ#3747. (((((λ#3748. (λ#3749. ((λ#3750. ((#3750 (λ#3751. (λ#3752. (λ#3753. #3753)))) (λ#3754. (λ#3755. #3754)))) (((λ#3756. (λ#3757. ((#3757 (λ#3758. (λ#3759. (λ#3760. (((#3758 (λ#3761. (λ#3762. (#3762 (#3761 #3759))))) (λ#3763. #3760)) (λ#3764. #3764)))))) #3756))) #3748) #3749)))) (λ#3765. (λ#3766. (#3765 (#3765 #3766))))) (λ#3767. (λ#3768. (#3767 (#3767 #3768))))) #3746) #3747))) (((λ#3769. (λ#3770. ((λ#3771. ((#3771 (λ#3772. (λ#3773. (λ#3774. #3774)))) (λ#3775. (λ#3776. #3775)))) (((λ#3777. (λ#3778. ((#3778 (λ#3779. (λ#3780. (λ#3781. (((#3779 (λ#3782. (λ#3783. (#3783 (#3782 #3780))))) (λ#3784. #3781)) (λ#3785. #3785)))))) #3777))) #3769) #3770)))) (λ#3786. (λ#3787. (#3786 (#3786 #3787))))) (λ#3788. (λ#3789. (#3788 (#3788 #3789)))))) (((λ#3790. (λ#3791. ((λ#3792. ((#3792 (λ#3793. (λ#3794. (λ#3795. #3795)))) (λ#3796. (λ#3797. #3796)))) (((λ#3798. (λ#3799. ((#3799 (λ#3800. (λ#3801. (λ#3802. (((#3800 (λ#3803. (λ#3804. (#3804 (#3803 #3801))))) (λ#3805. #3802)) (λ#3806. #3806)))))) #3798))) #3790) #3791)))) (λ#3807. (λ#3808. (#3807 (#3807 #3808))))) (λ#3809. (λ#3810. (#3809 (#3809 #3810))))))\n",
      "6: ((λ#3811. (((((λ#3812. (λ#3813. ((λ#3814. ((#3814 (λ#3815. (λ#3816. (λ#3817. #3817)))) (λ#3818. (λ#3819. #3818)))) (((λ#3820. (λ#3821. ((#3821 (λ#3822. (λ#3823. (λ#3824. (((#3822 (λ#3825. (λ#3826. (#3826 (#3825 #3823))))) (λ#3827. #3824)) (λ#3828. #3828)))))) #3820))) #3812) #3813)))) (λ#3829. (λ#3830. (#3829 (#3829 #3830))))) (λ#3831. (λ#3832. (#3831 (#3831 #3832))))) (((λ#3833. (λ#3834. ((λ#3835. ((#3835 (λ#3836. (λ#3837. (λ#3838. #3838)))) (λ#3839. (λ#3840. #3839)))) (((λ#3841. (λ#3842. ((#3842 (λ#3843. (λ#3844. (λ#3845. (((#3843 (λ#3846. (λ#3847. (#3847 (#3846 #3844))))) (λ#3848. #3845)) (λ#3849. #3849)))))) #3841))) #3833) #3834)))) (λ#3850. (λ#3851. (#3850 (#3850 #3851))))) (λ#3852. (λ#3853. (#3852 (#3852 #3853)))))) #3811)) (((λ#3854. (λ#3855. ((λ#3856. ((#3856 (λ#3857. (λ#3858. (λ#3859. #3859)))) (λ#3860. (λ#3861. #3860)))) (((λ#3862. (λ#3863. ((#3863 (λ#3864. (λ#3865. (λ#3866. (((#3864 (λ#3867. (λ#3868. (#3868 (#3867 #3865))))) (λ#3869. #3866)) (λ#3870. #3870)))))) #3862))) #3854) #3855)))) (λ#3871. (λ#3872. (#3871 (#3871 #3872))))) (λ#3873. (λ#3874. (#3873 (#3873 #3874))))))\n",
      "7: (((((λ#3875. (λ#3876. ((λ#3877. ((#3877 (λ#3878. (λ#3879. (λ#3880. #3880)))) (λ#3881. (λ#3882. #3881)))) (((λ#3883. (λ#3884. ((#3884 (λ#3885. (λ#3886. (λ#3887. (((#3885 (λ#3888. (λ#3889. (#3889 (#3888 #3886))))) (λ#3890. #3887)) (λ#3891. #3891)))))) #3883))) #3875) #3876)))) (λ#3892. (λ#3893. (#3892 (#3892 #3893))))) (λ#3894. (λ#3895. (#3894 (#3894 #3895))))) (((λ#3896. (λ#3897. ((λ#3898. ((#3898 (λ#3899. (λ#3900. (λ#3901. #3901)))) (λ#3902. (λ#3903. #3902)))) (((λ#3904. (λ#3905. ((#3905 (λ#3906. (λ#3907. (λ#3908. (((#3906 (λ#3909. (λ#3910. (#3910 (#3909 #3907))))) (λ#3911. #3908)) (λ#3912. #3912)))))) #3904))) #3896) #3897)))) (λ#3913. (λ#3914. (#3913 (#3913 #3914))))) (λ#3915. (λ#3916. (#3915 (#3915 #3916)))))) (((λ#3917. (λ#3918. ((λ#3919. ((#3919 (λ#3920. (λ#3921. (λ#3922. #3922)))) (λ#3923. (λ#3924. #3923)))) (((λ#3925. (λ#3926. ((#3926 (λ#3927. (λ#3928. (λ#3929. (((#3927 (λ#3930. (λ#3931. (#3931 (#3930 #3928))))) (λ#3932. #3929)) (λ#3933. #3933)))))) #3925))) #3917) #3918)))) (λ#3934. (λ#3935. (#3934 (#3934 #3935))))) (λ#3936. (λ#3937. (#3936 (#3936 #3937))))))\n",
      "8: ((((λ#3938. ((λ#3939. ((#3939 (λ#3940. (λ#3941. (λ#3942. #3942)))) (λ#3943. (λ#3944. #3943)))) (((λ#3945. (λ#3946. ((#3946 (λ#3947. (λ#3948. (λ#3949. (((#3947 (λ#3950. (λ#3951. (#3951 (#3950 #3948))))) (λ#3952. #3949)) (λ#3953. #3953)))))) #3945))) (λ#3954. (λ#3955. (#3954 (#3954 #3955))))) #3938))) (λ#3956. (λ#3957. (#3956 (#3956 #3957))))) (((λ#3958. (λ#3959. ((λ#3960. ((#3960 (λ#3961. (λ#3962. (λ#3963. #3963)))) (λ#3964. (λ#3965. #3964)))) (((λ#3966. (λ#3967. ((#3967 (λ#3968. (λ#3969. (λ#3970. (((#3968 (λ#3971. (λ#3972. (#3972 (#3971 #3969))))) (λ#3973. #3970)) (λ#3974. #3974)))))) #3966))) #3958) #3959)))) (λ#3975. (λ#3976. (#3975 (#3975 #3976))))) (λ#3977. (λ#3978. (#3977 (#3977 #3978)))))) (((λ#3979. (λ#3980. ((λ#3981. ((#3981 (λ#3982. (λ#3983. (λ#3984. #3984)))) (λ#3985. (λ#3986. #3985)))) (((λ#3987. (λ#3988. ((#3988 (λ#3989. (λ#3990. (λ#3991. (((#3989 (λ#3992. (λ#3993. (#3993 (#3992 #3990))))) (λ#3994. #3991)) (λ#3995. #3995)))))) #3987))) #3979) #3980)))) (λ#3996. (λ#3997. (#3996 (#3996 #3997))))) (λ#3998. (λ#3999. (#3998 (#3998 #3999))))))\n",
      "9: ((((λ#4000. ((#4000 (λ#4001. (λ#4002. (λ#4003. #4003)))) (λ#4004. (λ#4005. #4004)))) (((λ#4006. (λ#4007. ((#4007 (λ#4008. (λ#4009. (λ#4010. (((#4008 (λ#4011. (λ#4012. (#4012 (#4011 #4009))))) (λ#4013. #4010)) (λ#4014. #4014)))))) #4006))) (λ#4015. (λ#4016. (#4015 (#4015 #4016))))) (λ#4017. (λ#4018. (#4017 (#4017 #4018)))))) (((λ#4019. (λ#4020. ((λ#4021. ((#4021 (λ#4022. (λ#4023. (λ#4024. #4024)))) (λ#4025. (λ#4026. #4025)))) (((λ#4027. (λ#4028. ((#4028 (λ#4029. (λ#4030. (λ#4031. (((#4029 (λ#4032. (λ#4033. (#4033 (#4032 #4030))))) (λ#4034. #4031)) (λ#4035. #4035)))))) #4027))) #4019) #4020)))) (λ#4036. (λ#4037. (#4036 (#4036 #4037))))) (λ#4038. (λ#4039. (#4038 (#4038 #4039)))))) (((λ#4040. (λ#4041. ((λ#4042. ((#4042 (λ#4043. (λ#4044. (λ#4045. #4045)))) (λ#4046. (λ#4047. #4046)))) (((λ#4048. (λ#4049. ((#4049 (λ#4050. (λ#4051. (λ#4052. (((#4050 (λ#4053. (λ#4054. (#4054 (#4053 #4051))))) (λ#4055. #4052)) (λ#4056. #4056)))))) #4048))) #4040) #4041)))) (λ#4057. (λ#4058. (#4057 (#4057 #4058))))) (λ#4059. (λ#4060. (#4059 (#4059 #4060))))))\n",
      "10: (((((((λ#4061. (λ#4062. ((#4062 (λ#4063. (λ#4064. (λ#4065. (((#4063 (λ#4066. (λ#4067. (#4067 (#4066 #4064))))) (λ#4068. #4065)) (λ#4069. #4069)))))) #4061))) (λ#4070. (λ#4071. (#4070 (#4070 #4071))))) (λ#4072. (λ#4073. (#4072 (#4072 #4073))))) (λ#4074. (λ#4075. (λ#4076. #4076)))) (λ#4077. (λ#4078. #4077))) (((λ#4079. (λ#4080. ((λ#4081. ((#4081 (λ#4082. (λ#4083. (λ#4084. #4084)))) (λ#4085. (λ#4086. #4085)))) (((λ#4087. (λ#4088. ((#4088 (λ#4089. (λ#4090. (λ#4091. (((#4089 (λ#4092. (λ#4093. (#4093 (#4092 #4090))))) (λ#4094. #4091)) (λ#4095. #4095)))))) #4087))) #4079) #4080)))) (λ#4096. (λ#4097. (#4096 (#4096 #4097))))) (λ#4098. (λ#4099. (#4098 (#4098 #4099)))))) (((λ#4100. (λ#4101. ((λ#4102. ((#4102 (λ#4103. (λ#4104. (λ#4105. #4105)))) (λ#4106. (λ#4107. #4106)))) (((λ#4108. (λ#4109. ((#4109 (λ#4110. (λ#4111. (λ#4112. (((#4110 (λ#4113. (λ#4114. (#4114 (#4113 #4111))))) (λ#4115. #4112)) (λ#4116. #4116)))))) #4108))) #4100) #4101)))) (λ#4117. (λ#4118. (#4117 (#4117 #4118))))) (λ#4119. (λ#4120. (#4119 (#4119 #4120))))))\n",
      "11: ((((((λ#4121. ((#4121 (λ#4122. (λ#4123. (λ#4124. (((#4122 (λ#4125. (λ#4126. (#4126 (#4125 #4123))))) (λ#4127. #4124)) (λ#4128. #4128)))))) (λ#4129. (λ#4130. (#4129 (#4129 #4130)))))) (λ#4131. (λ#4132. (#4131 (#4131 #4132))))) (λ#4133. (λ#4134. (λ#4135. #4135)))) (λ#4136. (λ#4137. #4136))) (((λ#4138. (λ#4139. ((λ#4140. ((#4140 (λ#4141. (λ#4142. (λ#4143. #4143)))) (λ#4144. (λ#4145. #4144)))) (((λ#4146. (λ#4147. ((#4147 (λ#4148. (λ#4149. (λ#4150. (((#4148 (λ#4151. (λ#4152. (#4152 (#4151 #4149))))) (λ#4153. #4150)) (λ#4154. #4154)))))) #4146))) #4138) #4139)))) (λ#4155. (λ#4156. (#4155 (#4155 #4156))))) (λ#4157. (λ#4158. (#4157 (#4157 #4158)))))) (((λ#4159. (λ#4160. ((λ#4161. ((#4161 (λ#4162. (λ#4163. (λ#4164. #4164)))) (λ#4165. (λ#4166. #4165)))) (((λ#4167. (λ#4168. ((#4168 (λ#4169. (λ#4170. (λ#4171. (((#4169 (λ#4172. (λ#4173. (#4173 (#4172 #4170))))) (λ#4174. #4171)) (λ#4175. #4175)))))) #4167))) #4159) #4160)))) (λ#4176. (λ#4177. (#4176 (#4176 #4177))))) (λ#4178. (λ#4179. (#4178 (#4178 #4179))))))\n",
      "12: (((((((λ#4180. (λ#4181. (#4180 (#4180 #4181)))) (λ#4182. (λ#4183. (λ#4184. (((#4182 (λ#4185. (λ#4186. (#4186 (#4185 #4183))))) (λ#4187. #4184)) (λ#4188. #4188)))))) (λ#4189. (λ#4190. (#4189 (#4189 #4190))))) (λ#4191. (λ#4192. (λ#4193. #4193)))) (λ#4194. (λ#4195. #4194))) (((λ#4196. (λ#4197. ((λ#4198. ((#4198 (λ#4199. (λ#4200. (λ#4201. #4201)))) (λ#4202. (λ#4203. #4202)))) (((λ#4204. (λ#4205. ((#4205 (λ#4206. (λ#4207. (λ#4208. (((#4206 (λ#4209. (λ#4210. (#4210 (#4209 #4207))))) (λ#4211. #4208)) (λ#4212. #4212)))))) #4204))) #4196) #4197)))) (λ#4213. (λ#4214. (#4213 (#4213 #4214))))) (λ#4215. (λ#4216. (#4215 (#4215 #4216)))))) (((λ#4217. (λ#4218. ((λ#4219. ((#4219 (λ#4220. (λ#4221. (λ#4222. #4222)))) (λ#4223. (λ#4224. #4223)))) (((λ#4225. (λ#4226. ((#4226 (λ#4227. (λ#4228. (λ#4229. (((#4227 (λ#4230. (λ#4231. (#4231 (#4230 #4228))))) (λ#4232. #4229)) (λ#4233. #4233)))))) #4225))) #4217) #4218)))) (λ#4234. (λ#4235. (#4234 (#4234 #4235))))) (λ#4236. (λ#4237. (#4236 (#4236 #4237))))))\n",
      "13: ((((((λ#4238. ((λ#4239. (λ#4240. (λ#4241. (((#4239 (λ#4242. (λ#4243. (#4243 (#4242 #4240))))) (λ#4244. #4241)) (λ#4245. #4245))))) ((λ#4246. (λ#4247. (λ#4248. (((#4246 (λ#4249. (λ#4250. (#4250 (#4249 #4247))))) (λ#4251. #4248)) (λ#4252. #4252))))) #4238))) (λ#4253. (λ#4254. (#4253 (#4253 #4254))))) (λ#4255. (λ#4256. (λ#4257. #4257)))) (λ#4258. (λ#4259. #4258))) (((λ#4260. (λ#4261. ((λ#4262. ((#4262 (λ#4263. (λ#4264. (λ#4265. #4265)))) (λ#4266. (λ#4267. #4266)))) (((λ#4268. (λ#4269. ((#4269 (λ#4270. (λ#4271. (λ#4272. (((#4270 (λ#4273. (λ#4274. (#4274 (#4273 #4271))))) (λ#4275. #4272)) (λ#4276. #4276)))))) #4268))) #4260) #4261)))) (λ#4277. (λ#4278. (#4277 (#4277 #4278))))) (λ#4279. (λ#4280. (#4279 (#4279 #4280)))))) (((λ#4281. (λ#4282. ((λ#4283. ((#4283 (λ#4284. (λ#4285. (λ#4286. #4286)))) (λ#4287. (λ#4288. #4287)))) (((λ#4289. (λ#4290. ((#4290 (λ#4291. (λ#4292. (λ#4293. (((#4291 (λ#4294. (λ#4295. (#4295 (#4294 #4292))))) (λ#4296. #4293)) (λ#4297. #4297)))))) #4289))) #4281) #4282)))) (λ#4298. (λ#4299. (#4298 (#4298 #4299))))) (λ#4300. (λ#4301. (#4300 (#4300 #4301))))))\n",
      "14: ((((((λ#4302. (λ#4303. (λ#4304. (((#4302 (λ#4305. (λ#4306. (#4306 (#4305 #4303))))) (λ#4307. #4304)) (λ#4308. #4308))))) ((λ#4309. (λ#4310. (λ#4311. (((#4309 (λ#4312. (λ#4313. (#4313 (#4312 #4310))))) (λ#4314. #4311)) (λ#4315. #4315))))) (λ#4316. (λ#4317. (#4316 (#4316 #4317)))))) (λ#4318. (λ#4319. (λ#4320. #4320)))) (λ#4321. (λ#4322. #4321))) (((λ#4323. (λ#4324. ((λ#4325. ((#4325 (λ#4326. (λ#4327. (λ#4328. #4328)))) (λ#4329. (λ#4330. #4329)))) (((λ#4331. (λ#4332. ((#4332 (λ#4333. (λ#4334. (λ#4335. (((#4333 (λ#4336. (λ#4337. (#4337 (#4336 #4334))))) (λ#4338. #4335)) (λ#4339. #4339)))))) #4331))) #4323) #4324)))) (λ#4340. (λ#4341. (#4340 (#4340 #4341))))) (λ#4342. (λ#4343. (#4342 (#4342 #4343)))))) (((λ#4344. (λ#4345. ((λ#4346. ((#4346 (λ#4347. (λ#4348. (λ#4349. #4349)))) (λ#4350. (λ#4351. #4350)))) (((λ#4352. (λ#4353. ((#4353 (λ#4354. (λ#4355. (λ#4356. (((#4354 (λ#4357. (λ#4358. (#4358 (#4357 #4355))))) (λ#4359. #4356)) (λ#4360. #4360)))))) #4352))) #4344) #4345)))) (λ#4361. (λ#4362. (#4361 (#4361 #4362))))) (λ#4363. (λ#4364. (#4363 (#4363 #4364))))))\n",
      "15: (((((λ#4365. (λ#4366. (((((λ#4367. (λ#4368. (λ#4369. (((#4367 (λ#4370. (λ#4371. (#4371 (#4370 #4368))))) (λ#4372. #4369)) (λ#4373. #4373))))) (λ#4374. (λ#4375. (#4374 (#4374 #4375))))) (λ#4376. (λ#4377. (#4377 (#4376 #4365))))) (λ#4378. #4366)) (λ#4379. #4379)))) (λ#4380. (λ#4381. (λ#4382. #4382)))) (λ#4383. (λ#4384. #4383))) (((λ#4385. (λ#4386. ((λ#4387. ((#4387 (λ#4388. (λ#4389. (λ#4390. #4390)))) (λ#4391. (λ#4392. #4391)))) (((λ#4393. (λ#4394. ((#4394 (λ#4395. (λ#4396. (λ#4397. (((#4395 (λ#4398. (λ#4399. (#4399 (#4398 #4396))))) (λ#4400. #4397)) (λ#4401. #4401)))))) #4393))) #4385) #4386)))) (λ#4402. (λ#4403. (#4402 (#4402 #4403))))) (λ#4404. (λ#4405. (#4404 (#4404 #4405)))))) (((λ#4406. (λ#4407. ((λ#4408. ((#4408 (λ#4409. (λ#4410. (λ#4411. #4411)))) (λ#4412. (λ#4413. #4412)))) (((λ#4414. (λ#4415. ((#4415 (λ#4416. (λ#4417. (λ#4418. (((#4416 (λ#4419. (λ#4420. (#4420 (#4419 #4417))))) (λ#4421. #4418)) (λ#4422. #4422)))))) #4414))) #4406) #4407)))) (λ#4423. (λ#4424. (#4423 (#4423 #4424))))) (λ#4425. (λ#4426. (#4425 (#4425 #4426))))))\n",
      "16: ((((λ#4427. (((((λ#4428. (λ#4429. (λ#4430. (((#4428 (λ#4431. (λ#4432. (#4432 (#4431 #4429))))) (λ#4433. #4430)) (λ#4434. #4434))))) (λ#4435. (λ#4436. (#4435 (#4435 #4436))))) (λ#4437. (λ#4438. (#4438 (#4437 (λ#4439. (λ#4440. (λ#4441. #4441)))))))) (λ#4442. #4427)) (λ#4443. #4443))) (λ#4444. (λ#4445. #4444))) (((λ#4446. (λ#4447. ((λ#4448. ((#4448 (λ#4449. (λ#4450. (λ#4451. #4451)))) (λ#4452. (λ#4453. #4452)))) (((λ#4454. (λ#4455. ((#4455 (λ#4456. (λ#4457. (λ#4458. (((#4456 (λ#4459. (λ#4460. (#4460 (#4459 #4457))))) (λ#4461. #4458)) (λ#4462. #4462)))))) #4454))) #4446) #4447)))) (λ#4463. (λ#4464. (#4463 (#4463 #4464))))) (λ#4465. (λ#4466. (#4465 (#4465 #4466)))))) (((λ#4467. (λ#4468. ((λ#4469. ((#4469 (λ#4470. (λ#4471. (λ#4472. #4472)))) (λ#4473. (λ#4474. #4473)))) (((λ#4475. (λ#4476. ((#4476 (λ#4477. (λ#4478. (λ#4479. (((#4477 (λ#4480. (λ#4481. (#4481 (#4480 #4478))))) (λ#4482. #4479)) (λ#4483. #4483)))))) #4475))) #4467) #4468)))) (λ#4484. (λ#4485. (#4484 (#4484 #4485))))) (λ#4486. (λ#4487. (#4486 (#4486 #4487))))))\n",
      "17: (((((((λ#4488. (λ#4489. (λ#4490. (((#4488 (λ#4491. (λ#4492. (#4492 (#4491 #4489))))) (λ#4493. #4490)) (λ#4494. #4494))))) (λ#4495. (λ#4496. (#4495 (#4495 #4496))))) (λ#4497. (λ#4498. (#4498 (#4497 (λ#4499. (λ#4500. (λ#4501. #4501)))))))) (λ#4502. (λ#4503. (λ#4504. #4503)))) (λ#4505. #4505)) (((λ#4506. (λ#4507. ((λ#4508. ((#4508 (λ#4509. (λ#4510. (λ#4511. #4511)))) (λ#4512. (λ#4513. #4512)))) (((λ#4514. (λ#4515. ((#4515 (λ#4516. (λ#4517. (λ#4518. (((#4516 (λ#4519. (λ#4520. (#4520 (#4519 #4517))))) (λ#4521. #4518)) (λ#4522. #4522)))))) #4514))) #4506) #4507)))) (λ#4523. (λ#4524. (#4523 (#4523 #4524))))) (λ#4525. (λ#4526. (#4525 (#4525 #4526)))))) (((λ#4527. (λ#4528. ((λ#4529. ((#4529 (λ#4530. (λ#4531. (λ#4532. #4532)))) (λ#4533. (λ#4534. #4533)))) (((λ#4535. (λ#4536. ((#4536 (λ#4537. (λ#4538. (λ#4539. (((#4537 (λ#4540. (λ#4541. (#4541 (#4540 #4538))))) (λ#4542. #4539)) (λ#4543. #4543)))))) #4535))) #4527) #4528)))) (λ#4544. (λ#4545. (#4544 (#4544 #4545))))) (λ#4546. (λ#4547. (#4546 (#4546 #4547))))))\n",
      "18: ((((((λ#4548. (λ#4549. ((((λ#4550. (λ#4551. (#4550 (#4550 #4551)))) (λ#4552. (λ#4553. (#4553 (#4552 #4548))))) (λ#4554. #4549)) (λ#4555. #4555)))) (λ#4556. (λ#4557. (#4557 (#4556 (λ#4558. (λ#4559. (λ#4560. #4560)))))))) (λ#4561. (λ#4562. (λ#4563. #4562)))) (λ#4564. #4564)) (((λ#4565. (λ#4566. ((λ#4567. ((#4567 (λ#4568. (λ#4569. (λ#4570. #4570)))) (λ#4571. (λ#4572. #4571)))) (((λ#4573. (λ#4574. ((#4574 (λ#4575. (λ#4576. (λ#4577. (((#4575 (λ#4578. (λ#4579. (#4579 (#4578 #4576))))) (λ#4580. #4577)) (λ#4581. #4581)))))) #4573))) #4565) #4566)))) (λ#4582. (λ#4583. (#4582 (#4582 #4583))))) (λ#4584. (λ#4585. (#4584 (#4584 #4585)))))) (((λ#4586. (λ#4587. ((λ#4588. ((#4588 (λ#4589. (λ#4590. (λ#4591. #4591)))) (λ#4592. (λ#4593. #4592)))) (((λ#4594. (λ#4595. ((#4595 (λ#4596. (λ#4597. (λ#4598. (((#4596 (λ#4599. (λ#4600. (#4600 (#4599 #4597))))) (λ#4601. #4598)) (λ#4602. #4602)))))) #4594))) #4586) #4587)))) (λ#4603. (λ#4604. (#4603 (#4603 #4604))))) (λ#4605. (λ#4606. (#4605 (#4605 #4606))))))\n",
      "19: (((((λ#4607. ((((λ#4608. (λ#4609. (#4608 (#4608 #4609)))) (λ#4610. (λ#4611. (#4611 (#4610 (λ#4612. (λ#4613. (#4613 (#4612 (λ#4614. (λ#4615. (λ#4616. #4616)))))))))))) (λ#4617. #4607)) (λ#4618. #4618))) (λ#4619. (λ#4620. (λ#4621. #4620)))) (λ#4622. #4622)) (((λ#4623. (λ#4624. ((λ#4625. ((#4625 (λ#4626. (λ#4627. (λ#4628. #4628)))) (λ#4629. (λ#4630. #4629)))) (((λ#4631. (λ#4632. ((#4632 (λ#4633. (λ#4634. (λ#4635. (((#4633 (λ#4636. (λ#4637. (#4637 (#4636 #4634))))) (λ#4638. #4635)) (λ#4639. #4639)))))) #4631))) #4623) #4624)))) (λ#4640. (λ#4641. (#4640 (#4640 #4641))))) (λ#4642. (λ#4643. (#4642 (#4642 #4643)))))) (((λ#4644. (λ#4645. ((λ#4646. ((#4646 (λ#4647. (λ#4648. (λ#4649. #4649)))) (λ#4650. (λ#4651. #4650)))) (((λ#4652. (λ#4653. ((#4653 (λ#4654. (λ#4655. (λ#4656. (((#4654 (λ#4657. (λ#4658. (#4658 (#4657 #4655))))) (λ#4659. #4656)) (λ#4660. #4660)))))) #4652))) #4644) #4645)))) (λ#4661. (λ#4662. (#4661 (#4661 #4662))))) (λ#4663. (λ#4664. (#4663 (#4663 #4664))))))\n",
      "20: (((((((λ#4665. (λ#4666. (#4665 (#4665 #4666)))) (λ#4667. (λ#4668. (#4668 (#4667 (λ#4669. (λ#4670. (#4670 (#4669 (λ#4671. (λ#4672. (λ#4673. #4673)))))))))))) (λ#4674. (λ#4675. (λ#4676. (λ#4677. #4676))))) (λ#4678. #4678)) (λ#4679. #4679)) (((λ#4680. (λ#4681. ((λ#4682. ((#4682 (λ#4683. (λ#4684. (λ#4685. #4685)))) (λ#4686. (λ#4687. #4686)))) (((λ#4688. (λ#4689. ((#4689 (λ#4690. (λ#4691. (λ#4692. (((#4690 (λ#4693. (λ#4694. (#4694 (#4693 #4691))))) (λ#4695. #4692)) (λ#4696. #4696)))))) #4688))) #4680) #4681)))) (λ#4697. (λ#4698. (#4697 (#4697 #4698))))) (λ#4699. (λ#4700. (#4699 (#4699 #4700)))))) (((λ#4701. (λ#4702. ((λ#4703. ((#4703 (λ#4704. (λ#4705. (λ#4706. #4706)))) (λ#4707. (λ#4708. #4707)))) (((λ#4709. (λ#4710. ((#4710 (λ#4711. (λ#4712. (λ#4713. (((#4711 (λ#4714. (λ#4715. (#4715 (#4714 #4712))))) (λ#4716. #4713)) (λ#4717. #4717)))))) #4709))) #4701) #4702)))) (λ#4718. (λ#4719. (#4718 (#4718 #4719))))) (λ#4720. (λ#4721. (#4720 (#4720 #4721))))))\n",
      "21: ((((((λ#4722. ((λ#4723. (λ#4724. (#4724 (#4723 (λ#4725. (λ#4726. (#4726 (#4725 (λ#4727. (λ#4728. (λ#4729. #4729))))))))))) ((λ#4730. (λ#4731. (#4731 (#4730 (λ#4732. (λ#4733. (#4733 (#4732 (λ#4734. (λ#4735. (λ#4736. #4736))))))))))) #4722))) (λ#4737. (λ#4738. (λ#4739. (λ#4740. #4739))))) (λ#4741. #4741)) (λ#4742. #4742)) (((λ#4743. (λ#4744. ((λ#4745. ((#4745 (λ#4746. (λ#4747. (λ#4748. #4748)))) (λ#4749. (λ#4750. #4749)))) (((λ#4751. (λ#4752. ((#4752 (λ#4753. (λ#4754. (λ#4755. (((#4753 (λ#4756. (λ#4757. (#4757 (#4756 #4754))))) (λ#4758. #4755)) (λ#4759. #4759)))))) #4751))) #4743) #4744)))) (λ#4760. (λ#4761. (#4760 (#4760 #4761))))) (λ#4762. (λ#4763. (#4762 (#4762 #4763)))))) (((λ#4764. (λ#4765. ((λ#4766. ((#4766 (λ#4767. (λ#4768. (λ#4769. #4769)))) (λ#4770. (λ#4771. #4770)))) (((λ#4772. (λ#4773. ((#4773 (λ#4774. (λ#4775. (λ#4776. (((#4774 (λ#4777. (λ#4778. (#4778 (#4777 #4775))))) (λ#4779. #4776)) (λ#4780. #4780)))))) #4772))) #4764) #4765)))) (λ#4781. (λ#4782. (#4781 (#4781 #4782))))) (λ#4783. (λ#4784. (#4783 (#4783 #4784))))))\n",
      "22: ((((((λ#4785. (λ#4786. (#4786 (#4785 (λ#4787. (λ#4788. (#4788 (#4787 (λ#4789. (λ#4790. (λ#4791. #4791))))))))))) ((λ#4792. (λ#4793. (#4793 (#4792 (λ#4794. (λ#4795. (#4795 (#4794 (λ#4796. (λ#4797. (λ#4798. #4798))))))))))) (λ#4799. (λ#4800. (λ#4801. (λ#4802. #4801)))))) (λ#4803. #4803)) (λ#4804. #4804)) (((λ#4805. (λ#4806. ((λ#4807. ((#4807 (λ#4808. (λ#4809. (λ#4810. #4810)))) (λ#4811. (λ#4812. #4811)))) (((λ#4813. (λ#4814. ((#4814 (λ#4815. (λ#4816. (λ#4817. (((#4815 (λ#4818. (λ#4819. (#4819 (#4818 #4816))))) (λ#4820. #4817)) (λ#4821. #4821)))))) #4813))) #4805) #4806)))) (λ#4822. (λ#4823. (#4822 (#4822 #4823))))) (λ#4824. (λ#4825. (#4824 (#4824 #4825)))))) (((λ#4826. (λ#4827. ((λ#4828. ((#4828 (λ#4829. (λ#4830. (λ#4831. #4831)))) (λ#4832. (λ#4833. #4832)))) (((λ#4834. (λ#4835. ((#4835 (λ#4836. (λ#4837. (λ#4838. (((#4836 (λ#4839. (λ#4840. (#4840 (#4839 #4837))))) (λ#4841. #4838)) (λ#4842. #4842)))))) #4834))) #4826) #4827)))) (λ#4843. (λ#4844. (#4843 (#4843 #4844))))) (λ#4845. (λ#4846. (#4845 (#4845 #4846))))))\n",
      "23: (((((λ#4847. (#4847 (((λ#4848. (λ#4849. (#4849 (#4848 (λ#4850. (λ#4851. (#4851 (#4850 (λ#4852. (λ#4853. (λ#4854. #4854))))))))))) (λ#4855. (λ#4856. (λ#4857. (λ#4858. #4857))))) (λ#4859. (λ#4860. (#4860 (#4859 (λ#4861. (λ#4862. (λ#4863. #4863)))))))))) (λ#4864. #4864)) (λ#4865. #4865)) (((λ#4866. (λ#4867. ((λ#4868. ((#4868 (λ#4869. (λ#4870. (λ#4871. #4871)))) (λ#4872. (λ#4873. #4872)))) (((λ#4874. (λ#4875. ((#4875 (λ#4876. (λ#4877. (λ#4878. (((#4876 (λ#4879. (λ#4880. (#4880 (#4879 #4877))))) (λ#4881. #4878)) (λ#4882. #4882)))))) #4874))) #4866) #4867)))) (λ#4883. (λ#4884. (#4883 (#4883 #4884))))) (λ#4885. (λ#4886. (#4885 (#4885 #4886)))))) (((λ#4887. (λ#4888. ((λ#4889. ((#4889 (λ#4890. (λ#4891. (λ#4892. #4892)))) (λ#4893. (λ#4894. #4893)))) (((λ#4895. (λ#4896. ((#4896 (λ#4897. (λ#4898. (λ#4899. (((#4897 (λ#4900. (λ#4901. (#4901 (#4900 #4898))))) (λ#4902. #4899)) (λ#4903. #4903)))))) #4895))) #4887) #4888)))) (λ#4904. (λ#4905. (#4904 (#4904 #4905))))) (λ#4906. (λ#4907. (#4906 (#4906 #4907))))))\n",
      "24: (((((λ#4908. #4908) (((λ#4909. (λ#4910. (#4910 (#4909 (λ#4911. (λ#4912. (#4912 (#4911 (λ#4913. (λ#4914. (λ#4915. #4915))))))))))) (λ#4916. (λ#4917. (λ#4918. (λ#4919. #4918))))) (λ#4920. (λ#4921. (#4921 (#4920 (λ#4922. (λ#4923. (λ#4924. #4924))))))))) (λ#4925. #4925)) (((λ#4926. (λ#4927. ((λ#4928. ((#4928 (λ#4929. (λ#4930. (λ#4931. #4931)))) (λ#4932. (λ#4933. #4932)))) (((λ#4934. (λ#4935. ((#4935 (λ#4936. (λ#4937. (λ#4938. (((#4936 (λ#4939. (λ#4940. (#4940 (#4939 #4937))))) (λ#4941. #4938)) (λ#4942. #4942)))))) #4934))) #4926) #4927)))) (λ#4943. (λ#4944. (#4943 (#4943 #4944))))) (λ#4945. (λ#4946. (#4945 (#4945 #4946)))))) (((λ#4947. (λ#4948. ((λ#4949. ((#4949 (λ#4950. (λ#4951. (λ#4952. #4952)))) (λ#4953. (λ#4954. #4953)))) (((λ#4955. (λ#4956. ((#4956 (λ#4957. (λ#4958. (λ#4959. (((#4957 (λ#4960. (λ#4961. (#4961 (#4960 #4958))))) (λ#4962. #4959)) (λ#4963. #4963)))))) #4955))) #4947) #4948)))) (λ#4964. (λ#4965. (#4964 (#4964 #4965))))) (λ#4966. (λ#4967. (#4966 (#4966 #4967))))))\n",
      "25: ((((((λ#4968. (λ#4969. (#4969 (#4968 (λ#4970. (λ#4971. (#4971 (#4970 (λ#4972. (λ#4973. (λ#4974. #4974))))))))))) (λ#4975. (λ#4976. (λ#4977. (λ#4978. #4977))))) (λ#4979. (λ#4980. (#4980 (#4979 (λ#4981. (λ#4982. (λ#4983. #4983)))))))) (λ#4984. #4984)) (((λ#4985. (λ#4986. ((λ#4987. ((#4987 (λ#4988. (λ#4989. (λ#4990. #4990)))) (λ#4991. (λ#4992. #4991)))) (((λ#4993. (λ#4994. ((#4994 (λ#4995. (λ#4996. (λ#4997. (((#4995 (λ#4998. (λ#4999. (#4999 (#4998 #4996))))) (λ#5000. #4997)) (λ#5001. #5001)))))) #4993))) #4985) #4986)))) (λ#5002. (λ#5003. (#5002 (#5002 #5003))))) (λ#5004. (λ#5005. (#5004 (#5004 #5005)))))) (((λ#5006. (λ#5007. ((λ#5008. ((#5008 (λ#5009. (λ#5010. (λ#5011. #5011)))) (λ#5012. (λ#5013. #5012)))) (((λ#5014. (λ#5015. ((#5015 (λ#5016. (λ#5017. (λ#5018. (((#5016 (λ#5019. (λ#5020. (#5020 (#5019 #5017))))) (λ#5021. #5018)) (λ#5022. #5022)))))) #5014))) #5006) #5007)))) (λ#5023. (λ#5024. (#5023 (#5023 #5024))))) (λ#5025. (λ#5026. (#5025 (#5025 #5026))))))\n",
      "26: (((((λ#5027. (#5027 ((λ#5028. (λ#5029. (λ#5030. (λ#5031. #5030)))) (λ#5032. (λ#5033. (#5033 (#5032 (λ#5034. (λ#5035. (λ#5036. #5036)))))))))) (λ#5037. (λ#5038. (#5038 (#5037 (λ#5039. (λ#5040. (λ#5041. #5041)))))))) (λ#5042. #5042)) (((λ#5043. (λ#5044. ((λ#5045. ((#5045 (λ#5046. (λ#5047. (λ#5048. #5048)))) (λ#5049. (λ#5050. #5049)))) (((λ#5051. (λ#5052. ((#5052 (λ#5053. (λ#5054. (λ#5055. (((#5053 (λ#5056. (λ#5057. (#5057 (#5056 #5054))))) (λ#5058. #5055)) (λ#5059. #5059)))))) #5051))) #5043) #5044)))) (λ#5060. (λ#5061. (#5060 (#5060 #5061))))) (λ#5062. (λ#5063. (#5062 (#5062 #5063)))))) (((λ#5064. (λ#5065. ((λ#5066. ((#5066 (λ#5067. (λ#5068. (λ#5069. #5069)))) (λ#5070. (λ#5071. #5070)))) (((λ#5072. (λ#5073. ((#5073 (λ#5074. (λ#5075. (λ#5076. (((#5074 (λ#5077. (λ#5078. (#5078 (#5077 #5075))))) (λ#5079. #5076)) (λ#5080. #5080)))))) #5072))) #5064) #5065)))) (λ#5081. (λ#5082. (#5081 (#5081 #5082))))) (λ#5083. (λ#5084. (#5083 (#5083 #5084))))))\n",
      "27: (((((λ#5085. (λ#5086. (#5086 (#5085 (λ#5087. (λ#5088. (λ#5089. #5089))))))) ((λ#5090. (λ#5091. (λ#5092. (λ#5093. #5092)))) (λ#5094. (λ#5095. (#5095 (#5094 (λ#5096. (λ#5097. (λ#5098. #5098))))))))) (λ#5099. #5099)) (((λ#5100. (λ#5101. ((λ#5102. ((#5102 (λ#5103. (λ#5104. (λ#5105. #5105)))) (λ#5106. (λ#5107. #5106)))) (((λ#5108. (λ#5109. ((#5109 (λ#5110. (λ#5111. (λ#5112. (((#5110 (λ#5113. (λ#5114. (#5114 (#5113 #5111))))) (λ#5115. #5112)) (λ#5116. #5116)))))) #5108))) #5100) #5101)))) (λ#5117. (λ#5118. (#5117 (#5117 #5118))))) (λ#5119. (λ#5120. (#5119 (#5119 #5120)))))) (((λ#5121. (λ#5122. ((λ#5123. ((#5123 (λ#5124. (λ#5125. (λ#5126. #5126)))) (λ#5127. (λ#5128. #5127)))) (((λ#5129. (λ#5130. ((#5130 (λ#5131. (λ#5132. (λ#5133. (((#5131 (λ#5134. (λ#5135. (#5135 (#5134 #5132))))) (λ#5136. #5133)) (λ#5137. #5137)))))) #5129))) #5121) #5122)))) (λ#5138. (λ#5139. (#5138 (#5138 #5139))))) (λ#5140. (λ#5141. (#5140 (#5140 #5141))))))\n",
      "28: ((((λ#5142. (#5142 (((λ#5143. (λ#5144. (λ#5145. (λ#5146. #5145)))) (λ#5147. (λ#5148. (#5148 (#5147 (λ#5149. (λ#5150. (λ#5151. #5151)))))))) (λ#5152. (λ#5153. (λ#5154. #5154)))))) (λ#5155. #5155)) (((λ#5156. (λ#5157. ((λ#5158. ((#5158 (λ#5159. (λ#5160. (λ#5161. #5161)))) (λ#5162. (λ#5163. #5162)))) (((λ#5164. (λ#5165. ((#5165 (λ#5166. (λ#5167. (λ#5168. (((#5166 (λ#5169. (λ#5170. (#5170 (#5169 #5167))))) (λ#5171. #5168)) (λ#5172. #5172)))))) #5164))) #5156) #5157)))) (λ#5173. (λ#5174. (#5173 (#5173 #5174))))) (λ#5175. (λ#5176. (#5175 (#5175 #5176)))))) (((λ#5177. (λ#5178. ((λ#5179. ((#5179 (λ#5180. (λ#5181. (λ#5182. #5182)))) (λ#5183. (λ#5184. #5183)))) (((λ#5185. (λ#5186. ((#5186 (λ#5187. (λ#5188. (λ#5189. (((#5187 (λ#5190. (λ#5191. (#5191 (#5190 #5188))))) (λ#5192. #5189)) (λ#5193. #5193)))))) #5185))) #5177) #5178)))) (λ#5194. (λ#5195. (#5194 (#5194 #5195))))) (λ#5196. (λ#5197. (#5196 (#5196 #5197))))))\n",
      "29: ((((λ#5198. #5198) (((λ#5199. (λ#5200. (λ#5201. (λ#5202. #5201)))) (λ#5203. (λ#5204. (#5204 (#5203 (λ#5205. (λ#5206. (λ#5207. #5207)))))))) (λ#5208. (λ#5209. (λ#5210. #5210))))) (((λ#5211. (λ#5212. ((λ#5213. ((#5213 (λ#5214. (λ#5215. (λ#5216. #5216)))) (λ#5217. (λ#5218. #5217)))) (((λ#5219. (λ#5220. ((#5220 (λ#5221. (λ#5222. (λ#5223. (((#5221 (λ#5224. (λ#5225. (#5225 (#5224 #5222))))) (λ#5226. #5223)) (λ#5227. #5227)))))) #5219))) #5211) #5212)))) (λ#5228. (λ#5229. (#5228 (#5228 #5229))))) (λ#5230. (λ#5231. (#5230 (#5230 #5231)))))) (((λ#5232. (λ#5233. ((λ#5234. ((#5234 (λ#5235. (λ#5236. (λ#5237. #5237)))) (λ#5238. (λ#5239. #5238)))) (((λ#5240. (λ#5241. ((#5241 (λ#5242. (λ#5243. (λ#5244. (((#5242 (λ#5245. (λ#5246. (#5246 (#5245 #5243))))) (λ#5247. #5244)) (λ#5248. #5248)))))) #5240))) #5232) #5233)))) (λ#5249. (λ#5250. (#5249 (#5249 #5250))))) (λ#5251. (λ#5252. (#5251 (#5251 #5252))))))\n",
      "30: (((((λ#5253. (λ#5254. (λ#5255. (λ#5256. #5255)))) (λ#5257. (λ#5258. (#5258 (#5257 (λ#5259. (λ#5260. (λ#5261. #5261)))))))) (λ#5262. (λ#5263. (λ#5264. #5264)))) (((λ#5265. (λ#5266. ((λ#5267. ((#5267 (λ#5268. (λ#5269. (λ#5270. #5270)))) (λ#5271. (λ#5272. #5271)))) (((λ#5273. (λ#5274. ((#5274 (λ#5275. (λ#5276. (λ#5277. (((#5275 (λ#5278. (λ#5279. (#5279 (#5278 #5276))))) (λ#5280. #5277)) (λ#5281. #5281)))))) #5273))) #5265) #5266)))) (λ#5282. (λ#5283. (#5282 (#5282 #5283))))) (λ#5284. (λ#5285. (#5284 (#5284 #5285)))))) (((λ#5286. (λ#5287. ((λ#5288. ((#5288 (λ#5289. (λ#5290. (λ#5291. #5291)))) (λ#5292. (λ#5293. #5292)))) (((λ#5294. (λ#5295. ((#5295 (λ#5296. (λ#5297. (λ#5298. (((#5296 (λ#5299. (λ#5300. (#5300 (#5299 #5297))))) (λ#5301. #5298)) (λ#5302. #5302)))))) #5294))) #5286) #5287)))) (λ#5303. (λ#5304. (#5303 (#5303 #5304))))) (λ#5305. (λ#5306. (#5305 (#5305 #5306))))))\n",
      "31: ((((λ#5307. (λ#5308. (λ#5309. #5308))) (λ#5310. (λ#5311. (λ#5312. #5312)))) (((λ#5313. (λ#5314. ((λ#5315. ((#5315 (λ#5316. (λ#5317. (λ#5318. #5318)))) (λ#5319. (λ#5320. #5319)))) (((λ#5321. (λ#5322. ((#5322 (λ#5323. (λ#5324. (λ#5325. (((#5323 (λ#5326. (λ#5327. (#5327 (#5326 #5324))))) (λ#5328. #5325)) (λ#5329. #5329)))))) #5321))) #5313) #5314)))) (λ#5330. (λ#5331. (#5330 (#5330 #5331))))) (λ#5332. (λ#5333. (#5332 (#5332 #5333)))))) (((λ#5334. (λ#5335. ((λ#5336. ((#5336 (λ#5337. (λ#5338. (λ#5339. #5339)))) (λ#5340. (λ#5341. #5340)))) (((λ#5342. (λ#5343. ((#5343 (λ#5344. (λ#5345. (λ#5346. (((#5344 (λ#5347. (λ#5348. (#5348 (#5347 #5345))))) (λ#5349. #5346)) (λ#5350. #5350)))))) #5342))) #5334) #5335)))) (λ#5351. (λ#5352. (#5351 (#5351 #5352))))) (λ#5353. (λ#5354. (#5353 (#5353 #5354))))))\n",
      "32: (((λ#5355. (λ#5356. #5355)) (((λ#5357. (λ#5358. ((λ#5359. ((#5359 (λ#5360. (λ#5361. (λ#5362. #5362)))) (λ#5363. (λ#5364. #5363)))) (((λ#5365. (λ#5366. ((#5366 (λ#5367. (λ#5368. (λ#5369. (((#5367 (λ#5370. (λ#5371. (#5371 (#5370 #5368))))) (λ#5372. #5369)) (λ#5373. #5373)))))) #5365))) #5357) #5358)))) (λ#5374. (λ#5375. (#5374 (#5374 #5375))))) (λ#5376. (λ#5377. (#5376 (#5376 #5377)))))) (((λ#5378. (λ#5379. ((λ#5380. ((#5380 (λ#5381. (λ#5382. (λ#5383. #5383)))) (λ#5384. (λ#5385. #5384)))) (((λ#5386. (λ#5387. ((#5387 (λ#5388. (λ#5389. (λ#5390. (((#5388 (λ#5391. (λ#5392. (#5392 (#5391 #5389))))) (λ#5393. #5390)) (λ#5394. #5394)))))) #5386))) #5378) #5379)))) (λ#5395. (λ#5396. (#5395 (#5395 #5396))))) (λ#5397. (λ#5398. (#5397 (#5397 #5398))))))\n",
      "33: ((λ#5399. (((λ#5400. (λ#5401. ((λ#5402. ((#5402 (λ#5403. (λ#5404. (λ#5405. #5405)))) (λ#5406. (λ#5407. #5406)))) (((λ#5408. (λ#5409. ((#5409 (λ#5410. (λ#5411. (λ#5412. (((#5410 (λ#5413. (λ#5414. (#5414 (#5413 #5411))))) (λ#5415. #5412)) (λ#5416. #5416)))))) #5408))) #5400) #5401)))) (λ#5417. (λ#5418. (#5417 (#5417 #5418))))) (λ#5419. (λ#5420. (#5419 (#5419 #5420)))))) (((λ#5421. (λ#5422. ((λ#5423. ((#5423 (λ#5424. (λ#5425. (λ#5426. #5426)))) (λ#5427. (λ#5428. #5427)))) (((λ#5429. (λ#5430. ((#5430 (λ#5431. (λ#5432. (λ#5433. (((#5431 (λ#5434. (λ#5435. (#5435 (#5434 #5432))))) (λ#5436. #5433)) (λ#5437. #5437)))))) #5429))) #5421) #5422)))) (λ#5438. (λ#5439. (#5438 (#5438 #5439))))) (λ#5440. (λ#5441. (#5440 (#5440 #5441))))))\n",
      "34: (((λ#5442. (λ#5443. ((λ#5444. ((#5444 (λ#5445. (λ#5446. (λ#5447. #5447)))) (λ#5448. (λ#5449. #5448)))) (((λ#5450. (λ#5451. ((#5451 (λ#5452. (λ#5453. (λ#5454. (((#5452 (λ#5455. (λ#5456. (#5456 (#5455 #5453))))) (λ#5457. #5454)) (λ#5458. #5458)))))) #5450))) #5442) #5443)))) (λ#5459. (λ#5460. (#5459 (#5459 #5460))))) (λ#5461. (λ#5462. (#5461 (#5461 #5462)))))\n",
      "35: ((λ#5463. ((λ#5464. ((#5464 (λ#5465. (λ#5466. (λ#5467. #5467)))) (λ#5468. (λ#5469. #5468)))) (((λ#5470. (λ#5471. ((#5471 (λ#5472. (λ#5473. (λ#5474. (((#5472 (λ#5475. (λ#5476. (#5476 (#5475 #5473))))) (λ#5477. #5474)) (λ#5478. #5478)))))) #5470))) (λ#5479. (λ#5480. (#5479 (#5479 #5480))))) #5463))) (λ#5481. (λ#5482. (#5481 (#5481 #5482)))))\n",
      "36: ((λ#5483. ((#5483 (λ#5484. (λ#5485. (λ#5486. #5486)))) (λ#5487. (λ#5488. #5487)))) (((λ#5489. (λ#5490. ((#5490 (λ#5491. (λ#5492. (λ#5493. (((#5491 (λ#5494. (λ#5495. (#5495 (#5494 #5492))))) (λ#5496. #5493)) (λ#5497. #5497)))))) #5489))) (λ#5498. (λ#5499. (#5498 (#5498 #5499))))) (λ#5500. (λ#5501. (#5500 (#5500 #5501))))))\n",
      "37: (((((λ#5502. (λ#5503. ((#5503 (λ#5504. (λ#5505. (λ#5506. (((#5504 (λ#5507. (λ#5508. (#5508 (#5507 #5505))))) (λ#5509. #5506)) (λ#5510. #5510)))))) #5502))) (λ#5511. (λ#5512. (#5511 (#5511 #5512))))) (λ#5513. (λ#5514. (#5513 (#5513 #5514))))) (λ#5515. (λ#5516. (λ#5517. #5517)))) (λ#5518. (λ#5519. #5518)))\n",
      "38: ((((λ#5520. ((#5520 (λ#5521. (λ#5522. (λ#5523. (((#5521 (λ#5524. (λ#5525. (#5525 (#5524 #5522))))) (λ#5526. #5523)) (λ#5527. #5527)))))) (λ#5528. (λ#5529. (#5528 (#5528 #5529)))))) (λ#5530. (λ#5531. (#5530 (#5530 #5531))))) (λ#5532. (λ#5533. (λ#5534. #5534)))) (λ#5535. (λ#5536. #5535)))\n",
      "39: (((((λ#5537. (λ#5538. (#5537 (#5537 #5538)))) (λ#5539. (λ#5540. (λ#5541. (((#5539 (λ#5542. (λ#5543. (#5543 (#5542 #5540))))) (λ#5544. #5541)) (λ#5545. #5545)))))) (λ#5546. (λ#5547. (#5546 (#5546 #5547))))) (λ#5548. (λ#5549. (λ#5550. #5550)))) (λ#5551. (λ#5552. #5551)))\n",
      "40: ((((λ#5553. ((λ#5554. (λ#5555. (λ#5556. (((#5554 (λ#5557. (λ#5558. (#5558 (#5557 #5555))))) (λ#5559. #5556)) (λ#5560. #5560))))) ((λ#5561. (λ#5562. (λ#5563. (((#5561 (λ#5564. (λ#5565. (#5565 (#5564 #5562))))) (λ#5566. #5563)) (λ#5567. #5567))))) #5553))) (λ#5568. (λ#5569. (#5568 (#5568 #5569))))) (λ#5570. (λ#5571. (λ#5572. #5572)))) (λ#5573. (λ#5574. #5573)))\n",
      "41: ((((λ#5575. (λ#5576. (λ#5577. (((#5575 (λ#5578. (λ#5579. (#5579 (#5578 #5576))))) (λ#5580. #5577)) (λ#5581. #5581))))) ((λ#5582. (λ#5583. (λ#5584. (((#5582 (λ#5585. (λ#5586. (#5586 (#5585 #5583))))) (λ#5587. #5584)) (λ#5588. #5588))))) (λ#5589. (λ#5590. (#5589 (#5589 #5590)))))) (λ#5591. (λ#5592. (λ#5593. #5593)))) (λ#5594. (λ#5595. #5594)))\n",
      "42: (((λ#5596. (λ#5597. (((((λ#5598. (λ#5599. (λ#5600. (((#5598 (λ#5601. (λ#5602. (#5602 (#5601 #5599))))) (λ#5603. #5600)) (λ#5604. #5604))))) (λ#5605. (λ#5606. (#5605 (#5605 #5606))))) (λ#5607. (λ#5608. (#5608 (#5607 #5596))))) (λ#5609. #5597)) (λ#5610. #5610)))) (λ#5611. (λ#5612. (λ#5613. #5613)))) (λ#5614. (λ#5615. #5614)))\n",
      "43: ((λ#5616. (((((λ#5617. (λ#5618. (λ#5619. (((#5617 (λ#5620. (λ#5621. (#5621 (#5620 #5618))))) (λ#5622. #5619)) (λ#5623. #5623))))) (λ#5624. (λ#5625. (#5624 (#5624 #5625))))) (λ#5626. (λ#5627. (#5627 (#5626 (λ#5628. (λ#5629. (λ#5630. #5630)))))))) (λ#5631. #5616)) (λ#5632. #5632))) (λ#5633. (λ#5634. #5633)))\n",
      "44: (((((λ#5635. (λ#5636. (λ#5637. (((#5635 (λ#5638. (λ#5639. (#5639 (#5638 #5636))))) (λ#5640. #5637)) (λ#5641. #5641))))) (λ#5642. (λ#5643. (#5642 (#5642 #5643))))) (λ#5644. (λ#5645. (#5645 (#5644 (λ#5646. (λ#5647. (λ#5648. #5648)))))))) (λ#5649. (λ#5650. (λ#5651. #5650)))) (λ#5652. #5652))\n",
      "45: ((((λ#5653. (λ#5654. ((((λ#5655. (λ#5656. (#5655 (#5655 #5656)))) (λ#5657. (λ#5658. (#5658 (#5657 #5653))))) (λ#5659. #5654)) (λ#5660. #5660)))) (λ#5661. (λ#5662. (#5662 (#5661 (λ#5663. (λ#5664. (λ#5665. #5665)))))))) (λ#5666. (λ#5667. (λ#5668. #5667)))) (λ#5669. #5669))\n",
      "46: (((λ#5670. ((((λ#5671. (λ#5672. (#5671 (#5671 #5672)))) (λ#5673. (λ#5674. (#5674 (#5673 (λ#5675. (λ#5676. (#5676 (#5675 (λ#5677. (λ#5678. (λ#5679. #5679)))))))))))) (λ#5680. #5670)) (λ#5681. #5681))) (λ#5682. (λ#5683. (λ#5684. #5683)))) (λ#5685. #5685))\n",
      "47: (((((λ#5686. (λ#5687. (#5686 (#5686 #5687)))) (λ#5688. (λ#5689. (#5689 (#5688 (λ#5690. (λ#5691. (#5691 (#5690 (λ#5692. (λ#5693. (λ#5694. #5694)))))))))))) (λ#5695. (λ#5696. (λ#5697. (λ#5698. #5697))))) (λ#5699. #5699)) (λ#5700. #5700))\n",
      "48: ((((λ#5701. ((λ#5702. (λ#5703. (#5703 (#5702 (λ#5704. (λ#5705. (#5705 (#5704 (λ#5706. (λ#5707. (λ#5708. #5708))))))))))) ((λ#5709. (λ#5710. (#5710 (#5709 (λ#5711. (λ#5712. (#5712 (#5711 (λ#5713. (λ#5714. (λ#5715. #5715))))))))))) #5701))) (λ#5716. (λ#5717. (λ#5718. (λ#5719. #5718))))) (λ#5720. #5720)) (λ#5721. #5721))\n",
      "49: ((((λ#5722. (λ#5723. (#5723 (#5722 (λ#5724. (λ#5725. (#5725 (#5724 (λ#5726. (λ#5727. (λ#5728. #5728))))))))))) ((λ#5729. (λ#5730. (#5730 (#5729 (λ#5731. (λ#5732. (#5732 (#5731 (λ#5733. (λ#5734. (λ#5735. #5735))))))))))) (λ#5736. (λ#5737. (λ#5738. (λ#5739. #5738)))))) (λ#5740. #5740)) (λ#5741. #5741))\n",
      "50: (((λ#5742. (#5742 (((λ#5743. (λ#5744. (#5744 (#5743 (λ#5745. (λ#5746. (#5746 (#5745 (λ#5747. (λ#5748. (λ#5749. #5749))))))))))) (λ#5750. (λ#5751. (λ#5752. (λ#5753. #5752))))) (λ#5754. (λ#5755. (#5755 (#5754 (λ#5756. (λ#5757. (λ#5758. #5758)))))))))) (λ#5759. #5759)) (λ#5760. #5760))\n",
      "51: (((λ#5761. #5761) (((λ#5762. (λ#5763. (#5763 (#5762 (λ#5764. (λ#5765. (#5765 (#5764 (λ#5766. (λ#5767. (λ#5768. #5768))))))))))) (λ#5769. (λ#5770. (λ#5771. (λ#5772. #5771))))) (λ#5773. (λ#5774. (#5774 (#5773 (λ#5775. (λ#5776. (λ#5777. #5777))))))))) (λ#5778. #5778))\n",
      "52: ((((λ#5779. (λ#5780. (#5780 (#5779 (λ#5781. (λ#5782. (#5782 (#5781 (λ#5783. (λ#5784. (λ#5785. #5785))))))))))) (λ#5786. (λ#5787. (λ#5788. (λ#5789. #5788))))) (λ#5790. (λ#5791. (#5791 (#5790 (λ#5792. (λ#5793. (λ#5794. #5794)))))))) (λ#5795. #5795))\n",
      "53: (((λ#5796. (#5796 ((λ#5797. (λ#5798. (λ#5799. (λ#5800. #5799)))) (λ#5801. (λ#5802. (#5802 (#5801 (λ#5803. (λ#5804. (λ#5805. #5805)))))))))) (λ#5806. (λ#5807. (#5807 (#5806 (λ#5808. (λ#5809. (λ#5810. #5810)))))))) (λ#5811. #5811))\n",
      "54: (((λ#5812. (λ#5813. (#5813 (#5812 (λ#5814. (λ#5815. (λ#5816. #5816))))))) ((λ#5817. (λ#5818. (λ#5819. (λ#5820. #5819)))) (λ#5821. (λ#5822. (#5822 (#5821 (λ#5823. (λ#5824. (λ#5825. #5825))))))))) (λ#5826. #5826))\n",
      "55: ((λ#5827. (#5827 (((λ#5828. (λ#5829. (λ#5830. (λ#5831. #5830)))) (λ#5832. (λ#5833. (#5833 (#5832 (λ#5834. (λ#5835. (λ#5836. #5836)))))))) (λ#5837. (λ#5838. (λ#5839. #5839)))))) (λ#5840. #5840))\n",
      "56: ((λ#5841. #5841) (((λ#5842. (λ#5843. (λ#5844. (λ#5845. #5844)))) (λ#5846. (λ#5847. (#5847 (#5846 (λ#5848. (λ#5849. (λ#5850. #5850)))))))) (λ#5851. (λ#5852. (λ#5853. #5853)))))\n",
      "57: (((λ#5854. (λ#5855. (λ#5856. (λ#5857. #5856)))) (λ#5858. (λ#5859. (#5859 (#5858 (λ#5860. (λ#5861. (λ#5862. #5862)))))))) (λ#5863. (λ#5864. (λ#5865. #5865))))\n",
      "58: ((λ#5866. (λ#5867. (λ#5868. #5867))) (λ#5869. (λ#5870. (λ#5871. #5871))))\n",
      "59: (λ#5872. (λ#5873. #5872))\n",
      "\n",
      "\n",
      "reduction steps: 59\n",
      "norm term:       (λ#5872. (λ#5873. #5872))\n"
     ]
    }
   ],
   "source": [
    "def term_test_12():\n",
    "    return multi_app_term(eq_term(), num_term(2), num_term(2))\n",
    "\n",
    "\n",
    "test_procedure(term_test_12())"
   ],
   "metadata": {
    "collapsed": false
   }
  },
  {
   "cell_type": "markdown",
   "source": [
    "# <span style=\"color: #A1F99C\">13.</span>\n",
    "<span style=\"color:#bb91f3\">(EQ 1 4)</span> == <span style=\"color:#f1bd47\">FALSE</span> == <span style=\"color:#f1bd47\">λx. λy. y</span>"
   ],
   "metadata": {
    "collapsed": false
   }
  },
  {
   "cell_type": "code",
   "execution_count": 19,
   "outputs": [
    {
     "name": "stdout",
     "output_type": "stream",
     "text": [
      "0: (((λ#5917. (λ#5918. (((λ#5919. (λ#5920. ((((λ#5921. (λ#5922. (λ#5923. ((#5921 #5922) #5923)))) #5919) #5920) #5919))) (((λ#5924. (λ#5925. ((λ#5926. ((#5926 (λ#5927. (λ#5928. (λ#5929. #5929)))) (λ#5930. (λ#5931. #5930)))) (((λ#5932. (λ#5933. ((#5933 (λ#5934. (λ#5935. (λ#5936. (((#5934 (λ#5937. (λ#5938. (#5938 (#5937 #5935))))) (λ#5939. #5936)) (λ#5940. #5940)))))) #5932))) #5924) #5925)))) #5917) #5918)) (((λ#5941. (λ#5942. ((λ#5943. ((#5943 (λ#5944. (λ#5945. (λ#5946. #5946)))) (λ#5947. (λ#5948. #5947)))) (((λ#5949. (λ#5950. ((#5950 (λ#5951. (λ#5952. (λ#5953. (((#5951 (λ#5954. (λ#5955. (#5955 (#5954 #5952))))) (λ#5956. #5953)) (λ#5957. #5957)))))) #5949))) #5941) #5942)))) #5918) #5917)))) (λ#5958. (λ#5959. (#5958 #5959)))) (λ#5960. (λ#5961. (#5960 (#5960 (#5960 (#5960 #5961)))))))\n",
      "1: ((λ#5962. (((λ#5963. (λ#5964. ((((λ#5965. (λ#5966. (λ#5967. ((#5965 #5966) #5967)))) #5963) #5964) #5963))) (((λ#5968. (λ#5969. ((λ#5970. ((#5970 (λ#5971. (λ#5972. (λ#5973. #5973)))) (λ#5974. (λ#5975. #5974)))) (((λ#5976. (λ#5977. ((#5977 (λ#5978. (λ#5979. (λ#5980. (((#5978 (λ#5981. (λ#5982. (#5982 (#5981 #5979))))) (λ#5983. #5980)) (λ#5984. #5984)))))) #5976))) #5968) #5969)))) (λ#5985. (λ#5986. (#5985 #5986)))) #5962)) (((λ#5987. (λ#5988. ((λ#5989. ((#5989 (λ#5990. (λ#5991. (λ#5992. #5992)))) (λ#5993. (λ#5994. #5993)))) (((λ#5995. (λ#5996. ((#5996 (λ#5997. (λ#5998. (λ#5999. (((#5997 (λ#6000. (λ#6001. (#6001 (#6000 #5998))))) (λ#6002. #5999)) (λ#6003. #6003)))))) #5995))) #5987) #5988)))) #5962) (λ#6004. (λ#6005. (#6004 #6005)))))) (λ#6006. (λ#6007. (#6006 (#6006 (#6006 (#6006 #6007)))))))\n",
      "2: (((λ#6008. (λ#6009. ((((λ#6010. (λ#6011. (λ#6012. ((#6010 #6011) #6012)))) #6008) #6009) #6008))) (((λ#6013. (λ#6014. ((λ#6015. ((#6015 (λ#6016. (λ#6017. (λ#6018. #6018)))) (λ#6019. (λ#6020. #6019)))) (((λ#6021. (λ#6022. ((#6022 (λ#6023. (λ#6024. (λ#6025. (((#6023 (λ#6026. (λ#6027. (#6027 (#6026 #6024))))) (λ#6028. #6025)) (λ#6029. #6029)))))) #6021))) #6013) #6014)))) (λ#6030. (λ#6031. (#6030 #6031)))) (λ#6032. (λ#6033. (#6032 (#6032 (#6032 (#6032 #6033)))))))) (((λ#6034. (λ#6035. ((λ#6036. ((#6036 (λ#6037. (λ#6038. (λ#6039. #6039)))) (λ#6040. (λ#6041. #6040)))) (((λ#6042. (λ#6043. ((#6043 (λ#6044. (λ#6045. (λ#6046. (((#6044 (λ#6047. (λ#6048. (#6048 (#6047 #6045))))) (λ#6049. #6046)) (λ#6050. #6050)))))) #6042))) #6034) #6035)))) (λ#6051. (λ#6052. (#6051 (#6051 (#6051 (#6051 #6052))))))) (λ#6053. (λ#6054. (#6053 #6054)))))\n",
      "3: ((λ#6055. ((((λ#6056. (λ#6057. (λ#6058. ((#6056 #6057) #6058)))) (((λ#6059. (λ#6060. ((λ#6061. ((#6061 (λ#6062. (λ#6063. (λ#6064. #6064)))) (λ#6065. (λ#6066. #6065)))) (((λ#6067. (λ#6068. ((#6068 (λ#6069. (λ#6070. (λ#6071. (((#6069 (λ#6072. (λ#6073. (#6073 (#6072 #6070))))) (λ#6074. #6071)) (λ#6075. #6075)))))) #6067))) #6059) #6060)))) (λ#6076. (λ#6077. (#6076 #6077)))) (λ#6078. (λ#6079. (#6078 (#6078 (#6078 (#6078 #6079)))))))) #6055) (((λ#6080. (λ#6081. ((λ#6082. ((#6082 (λ#6083. (λ#6084. (λ#6085. #6085)))) (λ#6086. (λ#6087. #6086)))) (((λ#6088. (λ#6089. ((#6089 (λ#6090. (λ#6091. (λ#6092. (((#6090 (λ#6093. (λ#6094. (#6094 (#6093 #6091))))) (λ#6095. #6092)) (λ#6096. #6096)))))) #6088))) #6080) #6081)))) (λ#6097. (λ#6098. (#6097 #6098)))) (λ#6099. (λ#6100. (#6099 (#6099 (#6099 (#6099 #6100))))))))) (((λ#6101. (λ#6102. ((λ#6103. ((#6103 (λ#6104. (λ#6105. (λ#6106. #6106)))) (λ#6107. (λ#6108. #6107)))) (((λ#6109. (λ#6110. ((#6110 (λ#6111. (λ#6112. (λ#6113. (((#6111 (λ#6114. (λ#6115. (#6115 (#6114 #6112))))) (λ#6116. #6113)) (λ#6117. #6117)))))) #6109))) #6101) #6102)))) (λ#6118. (λ#6119. (#6118 (#6118 (#6118 (#6118 #6119))))))) (λ#6120. (λ#6121. (#6120 #6121)))))\n",
      "4: ((((λ#6122. (λ#6123. (λ#6124. ((#6122 #6123) #6124)))) (((λ#6125. (λ#6126. ((λ#6127. ((#6127 (λ#6128. (λ#6129. (λ#6130. #6130)))) (λ#6131. (λ#6132. #6131)))) (((λ#6133. (λ#6134. ((#6134 (λ#6135. (λ#6136. (λ#6137. (((#6135 (λ#6138. (λ#6139. (#6139 (#6138 #6136))))) (λ#6140. #6137)) (λ#6141. #6141)))))) #6133))) #6125) #6126)))) (λ#6142. (λ#6143. (#6142 #6143)))) (λ#6144. (λ#6145. (#6144 (#6144 (#6144 (#6144 #6145)))))))) (((λ#6146. (λ#6147. ((λ#6148. ((#6148 (λ#6149. (λ#6150. (λ#6151. #6151)))) (λ#6152. (λ#6153. #6152)))) (((λ#6154. (λ#6155. ((#6155 (λ#6156. (λ#6157. (λ#6158. (((#6156 (λ#6159. (λ#6160. (#6160 (#6159 #6157))))) (λ#6161. #6158)) (λ#6162. #6162)))))) #6154))) #6146) #6147)))) (λ#6163. (λ#6164. (#6163 (#6163 (#6163 (#6163 #6164))))))) (λ#6165. (λ#6166. (#6165 #6166))))) (((λ#6167. (λ#6168. ((λ#6169. ((#6169 (λ#6170. (λ#6171. (λ#6172. #6172)))) (λ#6173. (λ#6174. #6173)))) (((λ#6175. (λ#6176. ((#6176 (λ#6177. (λ#6178. (λ#6179. (((#6177 (λ#6180. (λ#6181. (#6181 (#6180 #6178))))) (λ#6182. #6179)) (λ#6183. #6183)))))) #6175))) #6167) #6168)))) (λ#6184. (λ#6185. (#6184 #6185)))) (λ#6186. (λ#6187. (#6186 (#6186 (#6186 (#6186 #6187))))))))\n",
      "5: (((λ#6188. (λ#6189. (((((λ#6190. (λ#6191. ((λ#6192. ((#6192 (λ#6193. (λ#6194. (λ#6195. #6195)))) (λ#6196. (λ#6197. #6196)))) (((λ#6198. (λ#6199. ((#6199 (λ#6200. (λ#6201. (λ#6202. (((#6200 (λ#6203. (λ#6204. (#6204 (#6203 #6201))))) (λ#6205. #6202)) (λ#6206. #6206)))))) #6198))) #6190) #6191)))) (λ#6207. (λ#6208. (#6207 #6208)))) (λ#6209. (λ#6210. (#6209 (#6209 (#6209 (#6209 #6210))))))) #6188) #6189))) (((λ#6211. (λ#6212. ((λ#6213. ((#6213 (λ#6214. (λ#6215. (λ#6216. #6216)))) (λ#6217. (λ#6218. #6217)))) (((λ#6219. (λ#6220. ((#6220 (λ#6221. (λ#6222. (λ#6223. (((#6221 (λ#6224. (λ#6225. (#6225 (#6224 #6222))))) (λ#6226. #6223)) (λ#6227. #6227)))))) #6219))) #6211) #6212)))) (λ#6228. (λ#6229. (#6228 (#6228 (#6228 (#6228 #6229))))))) (λ#6230. (λ#6231. (#6230 #6231))))) (((λ#6232. (λ#6233. ((λ#6234. ((#6234 (λ#6235. (λ#6236. (λ#6237. #6237)))) (λ#6238. (λ#6239. #6238)))) (((λ#6240. (λ#6241. ((#6241 (λ#6242. (λ#6243. (λ#6244. (((#6242 (λ#6245. (λ#6246. (#6246 (#6245 #6243))))) (λ#6247. #6244)) (λ#6248. #6248)))))) #6240))) #6232) #6233)))) (λ#6249. (λ#6250. (#6249 #6250)))) (λ#6251. (λ#6252. (#6251 (#6251 (#6251 (#6251 #6252))))))))\n",
      "6: ((λ#6253. (((((λ#6254. (λ#6255. ((λ#6256. ((#6256 (λ#6257. (λ#6258. (λ#6259. #6259)))) (λ#6260. (λ#6261. #6260)))) (((λ#6262. (λ#6263. ((#6263 (λ#6264. (λ#6265. (λ#6266. (((#6264 (λ#6267. (λ#6268. (#6268 (#6267 #6265))))) (λ#6269. #6266)) (λ#6270. #6270)))))) #6262))) #6254) #6255)))) (λ#6271. (λ#6272. (#6271 #6272)))) (λ#6273. (λ#6274. (#6273 (#6273 (#6273 (#6273 #6274))))))) (((λ#6275. (λ#6276. ((λ#6277. ((#6277 (λ#6278. (λ#6279. (λ#6280. #6280)))) (λ#6281. (λ#6282. #6281)))) (((λ#6283. (λ#6284. ((#6284 (λ#6285. (λ#6286. (λ#6287. (((#6285 (λ#6288. (λ#6289. (#6289 (#6288 #6286))))) (λ#6290. #6287)) (λ#6291. #6291)))))) #6283))) #6275) #6276)))) (λ#6292. (λ#6293. (#6292 (#6292 (#6292 (#6292 #6293))))))) (λ#6294. (λ#6295. (#6294 #6295))))) #6253)) (((λ#6296. (λ#6297. ((λ#6298. ((#6298 (λ#6299. (λ#6300. (λ#6301. #6301)))) (λ#6302. (λ#6303. #6302)))) (((λ#6304. (λ#6305. ((#6305 (λ#6306. (λ#6307. (λ#6308. (((#6306 (λ#6309. (λ#6310. (#6310 (#6309 #6307))))) (λ#6311. #6308)) (λ#6312. #6312)))))) #6304))) #6296) #6297)))) (λ#6313. (λ#6314. (#6313 #6314)))) (λ#6315. (λ#6316. (#6315 (#6315 (#6315 (#6315 #6316))))))))\n",
      "7: (((((λ#6317. (λ#6318. ((λ#6319. ((#6319 (λ#6320. (λ#6321. (λ#6322. #6322)))) (λ#6323. (λ#6324. #6323)))) (((λ#6325. (λ#6326. ((#6326 (λ#6327. (λ#6328. (λ#6329. (((#6327 (λ#6330. (λ#6331. (#6331 (#6330 #6328))))) (λ#6332. #6329)) (λ#6333. #6333)))))) #6325))) #6317) #6318)))) (λ#6334. (λ#6335. (#6334 #6335)))) (λ#6336. (λ#6337. (#6336 (#6336 (#6336 (#6336 #6337))))))) (((λ#6338. (λ#6339. ((λ#6340. ((#6340 (λ#6341. (λ#6342. (λ#6343. #6343)))) (λ#6344. (λ#6345. #6344)))) (((λ#6346. (λ#6347. ((#6347 (λ#6348. (λ#6349. (λ#6350. (((#6348 (λ#6351. (λ#6352. (#6352 (#6351 #6349))))) (λ#6353. #6350)) (λ#6354. #6354)))))) #6346))) #6338) #6339)))) (λ#6355. (λ#6356. (#6355 (#6355 (#6355 (#6355 #6356))))))) (λ#6357. (λ#6358. (#6357 #6358))))) (((λ#6359. (λ#6360. ((λ#6361. ((#6361 (λ#6362. (λ#6363. (λ#6364. #6364)))) (λ#6365. (λ#6366. #6365)))) (((λ#6367. (λ#6368. ((#6368 (λ#6369. (λ#6370. (λ#6371. (((#6369 (λ#6372. (λ#6373. (#6373 (#6372 #6370))))) (λ#6374. #6371)) (λ#6375. #6375)))))) #6367))) #6359) #6360)))) (λ#6376. (λ#6377. (#6376 #6377)))) (λ#6378. (λ#6379. (#6378 (#6378 (#6378 (#6378 #6379))))))))\n",
      "8: ((((λ#6380. ((λ#6381. ((#6381 (λ#6382. (λ#6383. (λ#6384. #6384)))) (λ#6385. (λ#6386. #6385)))) (((λ#6387. (λ#6388. ((#6388 (λ#6389. (λ#6390. (λ#6391. (((#6389 (λ#6392. (λ#6393. (#6393 (#6392 #6390))))) (λ#6394. #6391)) (λ#6395. #6395)))))) #6387))) (λ#6396. (λ#6397. (#6396 #6397)))) #6380))) (λ#6398. (λ#6399. (#6398 (#6398 (#6398 (#6398 #6399))))))) (((λ#6400. (λ#6401. ((λ#6402. ((#6402 (λ#6403. (λ#6404. (λ#6405. #6405)))) (λ#6406. (λ#6407. #6406)))) (((λ#6408. (λ#6409. ((#6409 (λ#6410. (λ#6411. (λ#6412. (((#6410 (λ#6413. (λ#6414. (#6414 (#6413 #6411))))) (λ#6415. #6412)) (λ#6416. #6416)))))) #6408))) #6400) #6401)))) (λ#6417. (λ#6418. (#6417 (#6417 (#6417 (#6417 #6418))))))) (λ#6419. (λ#6420. (#6419 #6420))))) (((λ#6421. (λ#6422. ((λ#6423. ((#6423 (λ#6424. (λ#6425. (λ#6426. #6426)))) (λ#6427. (λ#6428. #6427)))) (((λ#6429. (λ#6430. ((#6430 (λ#6431. (λ#6432. (λ#6433. (((#6431 (λ#6434. (λ#6435. (#6435 (#6434 #6432))))) (λ#6436. #6433)) (λ#6437. #6437)))))) #6429))) #6421) #6422)))) (λ#6438. (λ#6439. (#6438 #6439)))) (λ#6440. (λ#6441. (#6440 (#6440 (#6440 (#6440 #6441))))))))\n",
      "9: ((((λ#6442. ((#6442 (λ#6443. (λ#6444. (λ#6445. #6445)))) (λ#6446. (λ#6447. #6446)))) (((λ#6448. (λ#6449. ((#6449 (λ#6450. (λ#6451. (λ#6452. (((#6450 (λ#6453. (λ#6454. (#6454 (#6453 #6451))))) (λ#6455. #6452)) (λ#6456. #6456)))))) #6448))) (λ#6457. (λ#6458. (#6457 #6458)))) (λ#6459. (λ#6460. (#6459 (#6459 (#6459 (#6459 #6460)))))))) (((λ#6461. (λ#6462. ((λ#6463. ((#6463 (λ#6464. (λ#6465. (λ#6466. #6466)))) (λ#6467. (λ#6468. #6467)))) (((λ#6469. (λ#6470. ((#6470 (λ#6471. (λ#6472. (λ#6473. (((#6471 (λ#6474. (λ#6475. (#6475 (#6474 #6472))))) (λ#6476. #6473)) (λ#6477. #6477)))))) #6469))) #6461) #6462)))) (λ#6478. (λ#6479. (#6478 (#6478 (#6478 (#6478 #6479))))))) (λ#6480. (λ#6481. (#6480 #6481))))) (((λ#6482. (λ#6483. ((λ#6484. ((#6484 (λ#6485. (λ#6486. (λ#6487. #6487)))) (λ#6488. (λ#6489. #6488)))) (((λ#6490. (λ#6491. ((#6491 (λ#6492. (λ#6493. (λ#6494. (((#6492 (λ#6495. (λ#6496. (#6496 (#6495 #6493))))) (λ#6497. #6494)) (λ#6498. #6498)))))) #6490))) #6482) #6483)))) (λ#6499. (λ#6500. (#6499 #6500)))) (λ#6501. (λ#6502. (#6501 (#6501 (#6501 (#6501 #6502))))))))\n",
      "10: (((((((λ#6503. (λ#6504. ((#6504 (λ#6505. (λ#6506. (λ#6507. (((#6505 (λ#6508. (λ#6509. (#6509 (#6508 #6506))))) (λ#6510. #6507)) (λ#6511. #6511)))))) #6503))) (λ#6512. (λ#6513. (#6512 #6513)))) (λ#6514. (λ#6515. (#6514 (#6514 (#6514 (#6514 #6515))))))) (λ#6516. (λ#6517. (λ#6518. #6518)))) (λ#6519. (λ#6520. #6519))) (((λ#6521. (λ#6522. ((λ#6523. ((#6523 (λ#6524. (λ#6525. (λ#6526. #6526)))) (λ#6527. (λ#6528. #6527)))) (((λ#6529. (λ#6530. ((#6530 (λ#6531. (λ#6532. (λ#6533. (((#6531 (λ#6534. (λ#6535. (#6535 (#6534 #6532))))) (λ#6536. #6533)) (λ#6537. #6537)))))) #6529))) #6521) #6522)))) (λ#6538. (λ#6539. (#6538 (#6538 (#6538 (#6538 #6539))))))) (λ#6540. (λ#6541. (#6540 #6541))))) (((λ#6542. (λ#6543. ((λ#6544. ((#6544 (λ#6545. (λ#6546. (λ#6547. #6547)))) (λ#6548. (λ#6549. #6548)))) (((λ#6550. (λ#6551. ((#6551 (λ#6552. (λ#6553. (λ#6554. (((#6552 (λ#6555. (λ#6556. (#6556 (#6555 #6553))))) (λ#6557. #6554)) (λ#6558. #6558)))))) #6550))) #6542) #6543)))) (λ#6559. (λ#6560. (#6559 #6560)))) (λ#6561. (λ#6562. (#6561 (#6561 (#6561 (#6561 #6562))))))))\n",
      "11: ((((((λ#6563. ((#6563 (λ#6564. (λ#6565. (λ#6566. (((#6564 (λ#6567. (λ#6568. (#6568 (#6567 #6565))))) (λ#6569. #6566)) (λ#6570. #6570)))))) (λ#6571. (λ#6572. (#6571 #6572))))) (λ#6573. (λ#6574. (#6573 (#6573 (#6573 (#6573 #6574))))))) (λ#6575. (λ#6576. (λ#6577. #6577)))) (λ#6578. (λ#6579. #6578))) (((λ#6580. (λ#6581. ((λ#6582. ((#6582 (λ#6583. (λ#6584. (λ#6585. #6585)))) (λ#6586. (λ#6587. #6586)))) (((λ#6588. (λ#6589. ((#6589 (λ#6590. (λ#6591. (λ#6592. (((#6590 (λ#6593. (λ#6594. (#6594 (#6593 #6591))))) (λ#6595. #6592)) (λ#6596. #6596)))))) #6588))) #6580) #6581)))) (λ#6597. (λ#6598. (#6597 (#6597 (#6597 (#6597 #6598))))))) (λ#6599. (λ#6600. (#6599 #6600))))) (((λ#6601. (λ#6602. ((λ#6603. ((#6603 (λ#6604. (λ#6605. (λ#6606. #6606)))) (λ#6607. (λ#6608. #6607)))) (((λ#6609. (λ#6610. ((#6610 (λ#6611. (λ#6612. (λ#6613. (((#6611 (λ#6614. (λ#6615. (#6615 (#6614 #6612))))) (λ#6616. #6613)) (λ#6617. #6617)))))) #6609))) #6601) #6602)))) (λ#6618. (λ#6619. (#6618 #6619)))) (λ#6620. (λ#6621. (#6620 (#6620 (#6620 (#6620 #6621))))))))\n",
      "12: (((((((λ#6622. (λ#6623. (#6622 (#6622 (#6622 (#6622 #6623)))))) (λ#6624. (λ#6625. (λ#6626. (((#6624 (λ#6627. (λ#6628. (#6628 (#6627 #6625))))) (λ#6629. #6626)) (λ#6630. #6630)))))) (λ#6631. (λ#6632. (#6631 #6632)))) (λ#6633. (λ#6634. (λ#6635. #6635)))) (λ#6636. (λ#6637. #6636))) (((λ#6638. (λ#6639. ((λ#6640. ((#6640 (λ#6641. (λ#6642. (λ#6643. #6643)))) (λ#6644. (λ#6645. #6644)))) (((λ#6646. (λ#6647. ((#6647 (λ#6648. (λ#6649. (λ#6650. (((#6648 (λ#6651. (λ#6652. (#6652 (#6651 #6649))))) (λ#6653. #6650)) (λ#6654. #6654)))))) #6646))) #6638) #6639)))) (λ#6655. (λ#6656. (#6655 (#6655 (#6655 (#6655 #6656))))))) (λ#6657. (λ#6658. (#6657 #6658))))) (((λ#6659. (λ#6660. ((λ#6661. ((#6661 (λ#6662. (λ#6663. (λ#6664. #6664)))) (λ#6665. (λ#6666. #6665)))) (((λ#6667. (λ#6668. ((#6668 (λ#6669. (λ#6670. (λ#6671. (((#6669 (λ#6672. (λ#6673. (#6673 (#6672 #6670))))) (λ#6674. #6671)) (λ#6675. #6675)))))) #6667))) #6659) #6660)))) (λ#6676. (λ#6677. (#6676 #6677)))) (λ#6678. (λ#6679. (#6678 (#6678 (#6678 (#6678 #6679))))))))\n",
      "13: ((((((λ#6680. ((λ#6681. (λ#6682. (λ#6683. (((#6681 (λ#6684. (λ#6685. (#6685 (#6684 #6682))))) (λ#6686. #6683)) (λ#6687. #6687))))) ((λ#6688. (λ#6689. (λ#6690. (((#6688 (λ#6691. (λ#6692. (#6692 (#6691 #6689))))) (λ#6693. #6690)) (λ#6694. #6694))))) ((λ#6695. (λ#6696. (λ#6697. (((#6695 (λ#6698. (λ#6699. (#6699 (#6698 #6696))))) (λ#6700. #6697)) (λ#6701. #6701))))) ((λ#6702. (λ#6703. (λ#6704. (((#6702 (λ#6705. (λ#6706. (#6706 (#6705 #6703))))) (λ#6707. #6704)) (λ#6708. #6708))))) #6680))))) (λ#6709. (λ#6710. (#6709 #6710)))) (λ#6711. (λ#6712. (λ#6713. #6713)))) (λ#6714. (λ#6715. #6714))) (((λ#6716. (λ#6717. ((λ#6718. ((#6718 (λ#6719. (λ#6720. (λ#6721. #6721)))) (λ#6722. (λ#6723. #6722)))) (((λ#6724. (λ#6725. ((#6725 (λ#6726. (λ#6727. (λ#6728. (((#6726 (λ#6729. (λ#6730. (#6730 (#6729 #6727))))) (λ#6731. #6728)) (λ#6732. #6732)))))) #6724))) #6716) #6717)))) (λ#6733. (λ#6734. (#6733 (#6733 (#6733 (#6733 #6734))))))) (λ#6735. (λ#6736. (#6735 #6736))))) (((λ#6737. (λ#6738. ((λ#6739. ((#6739 (λ#6740. (λ#6741. (λ#6742. #6742)))) (λ#6743. (λ#6744. #6743)))) (((λ#6745. (λ#6746. ((#6746 (λ#6747. (λ#6748. (λ#6749. (((#6747 (λ#6750. (λ#6751. (#6751 (#6750 #6748))))) (λ#6752. #6749)) (λ#6753. #6753)))))) #6745))) #6737) #6738)))) (λ#6754. (λ#6755. (#6754 #6755)))) (λ#6756. (λ#6757. (#6756 (#6756 (#6756 (#6756 #6757))))))))\n",
      "14: ((((((λ#6758. (λ#6759. (λ#6760. (((#6758 (λ#6761. (λ#6762. (#6762 (#6761 #6759))))) (λ#6763. #6760)) (λ#6764. #6764))))) ((λ#6765. (λ#6766. (λ#6767. (((#6765 (λ#6768. (λ#6769. (#6769 (#6768 #6766))))) (λ#6770. #6767)) (λ#6771. #6771))))) ((λ#6772. (λ#6773. (λ#6774. (((#6772 (λ#6775. (λ#6776. (#6776 (#6775 #6773))))) (λ#6777. #6774)) (λ#6778. #6778))))) ((λ#6779. (λ#6780. (λ#6781. (((#6779 (λ#6782. (λ#6783. (#6783 (#6782 #6780))))) (λ#6784. #6781)) (λ#6785. #6785))))) (λ#6786. (λ#6787. (#6786 #6787))))))) (λ#6788. (λ#6789. (λ#6790. #6790)))) (λ#6791. (λ#6792. #6791))) (((λ#6793. (λ#6794. ((λ#6795. ((#6795 (λ#6796. (λ#6797. (λ#6798. #6798)))) (λ#6799. (λ#6800. #6799)))) (((λ#6801. (λ#6802. ((#6802 (λ#6803. (λ#6804. (λ#6805. (((#6803 (λ#6806. (λ#6807. (#6807 (#6806 #6804))))) (λ#6808. #6805)) (λ#6809. #6809)))))) #6801))) #6793) #6794)))) (λ#6810. (λ#6811. (#6810 (#6810 (#6810 (#6810 #6811))))))) (λ#6812. (λ#6813. (#6812 #6813))))) (((λ#6814. (λ#6815. ((λ#6816. ((#6816 (λ#6817. (λ#6818. (λ#6819. #6819)))) (λ#6820. (λ#6821. #6820)))) (((λ#6822. (λ#6823. ((#6823 (λ#6824. (λ#6825. (λ#6826. (((#6824 (λ#6827. (λ#6828. (#6828 (#6827 #6825))))) (λ#6829. #6826)) (λ#6830. #6830)))))) #6822))) #6814) #6815)))) (λ#6831. (λ#6832. (#6831 #6832)))) (λ#6833. (λ#6834. (#6833 (#6833 (#6833 (#6833 #6834))))))))\n",
      "15: (((((λ#6835. (λ#6836. (((((λ#6837. (λ#6838. (λ#6839. (((#6837 (λ#6840. (λ#6841. (#6841 (#6840 #6838))))) (λ#6842. #6839)) (λ#6843. #6843))))) ((λ#6844. (λ#6845. (λ#6846. (((#6844 (λ#6847. (λ#6848. (#6848 (#6847 #6845))))) (λ#6849. #6846)) (λ#6850. #6850))))) ((λ#6851. (λ#6852. (λ#6853. (((#6851 (λ#6854. (λ#6855. (#6855 (#6854 #6852))))) (λ#6856. #6853)) (λ#6857. #6857))))) (λ#6858. (λ#6859. (#6858 #6859)))))) (λ#6860. (λ#6861. (#6861 (#6860 #6835))))) (λ#6862. #6836)) (λ#6863. #6863)))) (λ#6864. (λ#6865. (λ#6866. #6866)))) (λ#6867. (λ#6868. #6867))) (((λ#6869. (λ#6870. ((λ#6871. ((#6871 (λ#6872. (λ#6873. (λ#6874. #6874)))) (λ#6875. (λ#6876. #6875)))) (((λ#6877. (λ#6878. ((#6878 (λ#6879. (λ#6880. (λ#6881. (((#6879 (λ#6882. (λ#6883. (#6883 (#6882 #6880))))) (λ#6884. #6881)) (λ#6885. #6885)))))) #6877))) #6869) #6870)))) (λ#6886. (λ#6887. (#6886 (#6886 (#6886 (#6886 #6887))))))) (λ#6888. (λ#6889. (#6888 #6889))))) (((λ#6890. (λ#6891. ((λ#6892. ((#6892 (λ#6893. (λ#6894. (λ#6895. #6895)))) (λ#6896. (λ#6897. #6896)))) (((λ#6898. (λ#6899. ((#6899 (λ#6900. (λ#6901. (λ#6902. (((#6900 (λ#6903. (λ#6904. (#6904 (#6903 #6901))))) (λ#6905. #6902)) (λ#6906. #6906)))))) #6898))) #6890) #6891)))) (λ#6907. (λ#6908. (#6907 #6908)))) (λ#6909. (λ#6910. (#6909 (#6909 (#6909 (#6909 #6910))))))))\n",
      "16: ((((λ#6911. (((((λ#6912. (λ#6913. (λ#6914. (((#6912 (λ#6915. (λ#6916. (#6916 (#6915 #6913))))) (λ#6917. #6914)) (λ#6918. #6918))))) ((λ#6919. (λ#6920. (λ#6921. (((#6919 (λ#6922. (λ#6923. (#6923 (#6922 #6920))))) (λ#6924. #6921)) (λ#6925. #6925))))) ((λ#6926. (λ#6927. (λ#6928. (((#6926 (λ#6929. (λ#6930. (#6930 (#6929 #6927))))) (λ#6931. #6928)) (λ#6932. #6932))))) (λ#6933. (λ#6934. (#6933 #6934)))))) (λ#6935. (λ#6936. (#6936 (#6935 (λ#6937. (λ#6938. (λ#6939. #6939)))))))) (λ#6940. #6911)) (λ#6941. #6941))) (λ#6942. (λ#6943. #6942))) (((λ#6944. (λ#6945. ((λ#6946. ((#6946 (λ#6947. (λ#6948. (λ#6949. #6949)))) (λ#6950. (λ#6951. #6950)))) (((λ#6952. (λ#6953. ((#6953 (λ#6954. (λ#6955. (λ#6956. (((#6954 (λ#6957. (λ#6958. (#6958 (#6957 #6955))))) (λ#6959. #6956)) (λ#6960. #6960)))))) #6952))) #6944) #6945)))) (λ#6961. (λ#6962. (#6961 (#6961 (#6961 (#6961 #6962))))))) (λ#6963. (λ#6964. (#6963 #6964))))) (((λ#6965. (λ#6966. ((λ#6967. ((#6967 (λ#6968. (λ#6969. (λ#6970. #6970)))) (λ#6971. (λ#6972. #6971)))) (((λ#6973. (λ#6974. ((#6974 (λ#6975. (λ#6976. (λ#6977. (((#6975 (λ#6978. (λ#6979. (#6979 (#6978 #6976))))) (λ#6980. #6977)) (λ#6981. #6981)))))) #6973))) #6965) #6966)))) (λ#6982. (λ#6983. (#6982 #6983)))) (λ#6984. (λ#6985. (#6984 (#6984 (#6984 (#6984 #6985))))))))\n",
      "17: (((((((λ#6986. (λ#6987. (λ#6988. (((#6986 (λ#6989. (λ#6990. (#6990 (#6989 #6987))))) (λ#6991. #6988)) (λ#6992. #6992))))) ((λ#6993. (λ#6994. (λ#6995. (((#6993 (λ#6996. (λ#6997. (#6997 (#6996 #6994))))) (λ#6998. #6995)) (λ#6999. #6999))))) ((λ#7000. (λ#7001. (λ#7002. (((#7000 (λ#7003. (λ#7004. (#7004 (#7003 #7001))))) (λ#7005. #7002)) (λ#7006. #7006))))) (λ#7007. (λ#7008. (#7007 #7008)))))) (λ#7009. (λ#7010. (#7010 (#7009 (λ#7011. (λ#7012. (λ#7013. #7013)))))))) (λ#7014. (λ#7015. (λ#7016. #7015)))) (λ#7017. #7017)) (((λ#7018. (λ#7019. ((λ#7020. ((#7020 (λ#7021. (λ#7022. (λ#7023. #7023)))) (λ#7024. (λ#7025. #7024)))) (((λ#7026. (λ#7027. ((#7027 (λ#7028. (λ#7029. (λ#7030. (((#7028 (λ#7031. (λ#7032. (#7032 (#7031 #7029))))) (λ#7033. #7030)) (λ#7034. #7034)))))) #7026))) #7018) #7019)))) (λ#7035. (λ#7036. (#7035 (#7035 (#7035 (#7035 #7036))))))) (λ#7037. (λ#7038. (#7037 #7038))))) (((λ#7039. (λ#7040. ((λ#7041. ((#7041 (λ#7042. (λ#7043. (λ#7044. #7044)))) (λ#7045. (λ#7046. #7045)))) (((λ#7047. (λ#7048. ((#7048 (λ#7049. (λ#7050. (λ#7051. (((#7049 (λ#7052. (λ#7053. (#7053 (#7052 #7050))))) (λ#7054. #7051)) (λ#7055. #7055)))))) #7047))) #7039) #7040)))) (λ#7056. (λ#7057. (#7056 #7057)))) (λ#7058. (λ#7059. (#7058 (#7058 (#7058 (#7058 #7059))))))))\n",
      "18: ((((((λ#7060. (λ#7061. (((((λ#7062. (λ#7063. (λ#7064. (((#7062 (λ#7065. (λ#7066. (#7066 (#7065 #7063))))) (λ#7067. #7064)) (λ#7068. #7068))))) ((λ#7069. (λ#7070. (λ#7071. (((#7069 (λ#7072. (λ#7073. (#7073 (#7072 #7070))))) (λ#7074. #7071)) (λ#7075. #7075))))) (λ#7076. (λ#7077. (#7076 #7077))))) (λ#7078. (λ#7079. (#7079 (#7078 #7060))))) (λ#7080. #7061)) (λ#7081. #7081)))) (λ#7082. (λ#7083. (#7083 (#7082 (λ#7084. (λ#7085. (λ#7086. #7086)))))))) (λ#7087. (λ#7088. (λ#7089. #7088)))) (λ#7090. #7090)) (((λ#7091. (λ#7092. ((λ#7093. ((#7093 (λ#7094. (λ#7095. (λ#7096. #7096)))) (λ#7097. (λ#7098. #7097)))) (((λ#7099. (λ#7100. ((#7100 (λ#7101. (λ#7102. (λ#7103. (((#7101 (λ#7104. (λ#7105. (#7105 (#7104 #7102))))) (λ#7106. #7103)) (λ#7107. #7107)))))) #7099))) #7091) #7092)))) (λ#7108. (λ#7109. (#7108 (#7108 (#7108 (#7108 #7109))))))) (λ#7110. (λ#7111. (#7110 #7111))))) (((λ#7112. (λ#7113. ((λ#7114. ((#7114 (λ#7115. (λ#7116. (λ#7117. #7117)))) (λ#7118. (λ#7119. #7118)))) (((λ#7120. (λ#7121. ((#7121 (λ#7122. (λ#7123. (λ#7124. (((#7122 (λ#7125. (λ#7126. (#7126 (#7125 #7123))))) (λ#7127. #7124)) (λ#7128. #7128)))))) #7120))) #7112) #7113)))) (λ#7129. (λ#7130. (#7129 #7130)))) (λ#7131. (λ#7132. (#7131 (#7131 (#7131 (#7131 #7132))))))))\n",
      "19: (((((λ#7133. (((((λ#7134. (λ#7135. (λ#7136. (((#7134 (λ#7137. (λ#7138. (#7138 (#7137 #7135))))) (λ#7139. #7136)) (λ#7140. #7140))))) ((λ#7141. (λ#7142. (λ#7143. (((#7141 (λ#7144. (λ#7145. (#7145 (#7144 #7142))))) (λ#7146. #7143)) (λ#7147. #7147))))) (λ#7148. (λ#7149. (#7148 #7149))))) (λ#7150. (λ#7151. (#7151 (#7150 (λ#7152. (λ#7153. (#7153 (#7152 (λ#7154. (λ#7155. (λ#7156. #7156)))))))))))) (λ#7157. #7133)) (λ#7158. #7158))) (λ#7159. (λ#7160. (λ#7161. #7160)))) (λ#7162. #7162)) (((λ#7163. (λ#7164. ((λ#7165. ((#7165 (λ#7166. (λ#7167. (λ#7168. #7168)))) (λ#7169. (λ#7170. #7169)))) (((λ#7171. (λ#7172. ((#7172 (λ#7173. (λ#7174. (λ#7175. (((#7173 (λ#7176. (λ#7177. (#7177 (#7176 #7174))))) (λ#7178. #7175)) (λ#7179. #7179)))))) #7171))) #7163) #7164)))) (λ#7180. (λ#7181. (#7180 (#7180 (#7180 (#7180 #7181))))))) (λ#7182. (λ#7183. (#7182 #7183))))) (((λ#7184. (λ#7185. ((λ#7186. ((#7186 (λ#7187. (λ#7188. (λ#7189. #7189)))) (λ#7190. (λ#7191. #7190)))) (((λ#7192. (λ#7193. ((#7193 (λ#7194. (λ#7195. (λ#7196. (((#7194 (λ#7197. (λ#7198. (#7198 (#7197 #7195))))) (λ#7199. #7196)) (λ#7200. #7200)))))) #7192))) #7184) #7185)))) (λ#7201. (λ#7202. (#7201 #7202)))) (λ#7203. (λ#7204. (#7203 (#7203 (#7203 (#7203 #7204))))))))\n",
      "20: ((((((((λ#7205. (λ#7206. (λ#7207. (((#7205 (λ#7208. (λ#7209. (#7209 (#7208 #7206))))) (λ#7210. #7207)) (λ#7211. #7211))))) ((λ#7212. (λ#7213. (λ#7214. (((#7212 (λ#7215. (λ#7216. (#7216 (#7215 #7213))))) (λ#7217. #7214)) (λ#7218. #7218))))) (λ#7219. (λ#7220. (#7219 #7220))))) (λ#7221. (λ#7222. (#7222 (#7221 (λ#7223. (λ#7224. (#7224 (#7223 (λ#7225. (λ#7226. (λ#7227. #7227)))))))))))) (λ#7228. (λ#7229. (λ#7230. (λ#7231. #7230))))) (λ#7232. #7232)) (λ#7233. #7233)) (((λ#7234. (λ#7235. ((λ#7236. ((#7236 (λ#7237. (λ#7238. (λ#7239. #7239)))) (λ#7240. (λ#7241. #7240)))) (((λ#7242. (λ#7243. ((#7243 (λ#7244. (λ#7245. (λ#7246. (((#7244 (λ#7247. (λ#7248. (#7248 (#7247 #7245))))) (λ#7249. #7246)) (λ#7250. #7250)))))) #7242))) #7234) #7235)))) (λ#7251. (λ#7252. (#7251 (#7251 (#7251 (#7251 #7252))))))) (λ#7253. (λ#7254. (#7253 #7254))))) (((λ#7255. (λ#7256. ((λ#7257. ((#7257 (λ#7258. (λ#7259. (λ#7260. #7260)))) (λ#7261. (λ#7262. #7261)))) (((λ#7263. (λ#7264. ((#7264 (λ#7265. (λ#7266. (λ#7267. (((#7265 (λ#7268. (λ#7269. (#7269 (#7268 #7266))))) (λ#7270. #7267)) (λ#7271. #7271)))))) #7263))) #7255) #7256)))) (λ#7272. (λ#7273. (#7272 #7273)))) (λ#7274. (λ#7275. (#7274 (#7274 (#7274 (#7274 #7275))))))))\n",
      "21: (((((((λ#7276. (λ#7277. (((((λ#7278. (λ#7279. (λ#7280. (((#7278 (λ#7281. (λ#7282. (#7282 (#7281 #7279))))) (λ#7283. #7280)) (λ#7284. #7284))))) (λ#7285. (λ#7286. (#7285 #7286)))) (λ#7287. (λ#7288. (#7288 (#7287 #7276))))) (λ#7289. #7277)) (λ#7290. #7290)))) (λ#7291. (λ#7292. (#7292 (#7291 (λ#7293. (λ#7294. (#7294 (#7293 (λ#7295. (λ#7296. (λ#7297. #7297)))))))))))) (λ#7298. (λ#7299. (λ#7300. (λ#7301. #7300))))) (λ#7302. #7302)) (λ#7303. #7303)) (((λ#7304. (λ#7305. ((λ#7306. ((#7306 (λ#7307. (λ#7308. (λ#7309. #7309)))) (λ#7310. (λ#7311. #7310)))) (((λ#7312. (λ#7313. ((#7313 (λ#7314. (λ#7315. (λ#7316. (((#7314 (λ#7317. (λ#7318. (#7318 (#7317 #7315))))) (λ#7319. #7316)) (λ#7320. #7320)))))) #7312))) #7304) #7305)))) (λ#7321. (λ#7322. (#7321 (#7321 (#7321 (#7321 #7322))))))) (λ#7323. (λ#7324. (#7323 #7324))))) (((λ#7325. (λ#7326. ((λ#7327. ((#7327 (λ#7328. (λ#7329. (λ#7330. #7330)))) (λ#7331. (λ#7332. #7331)))) (((λ#7333. (λ#7334. ((#7334 (λ#7335. (λ#7336. (λ#7337. (((#7335 (λ#7338. (λ#7339. (#7339 (#7338 #7336))))) (λ#7340. #7337)) (λ#7341. #7341)))))) #7333))) #7325) #7326)))) (λ#7342. (λ#7343. (#7342 #7343)))) (λ#7344. (λ#7345. (#7344 (#7344 (#7344 (#7344 #7345))))))))\n",
      "22: ((((((λ#7346. (((((λ#7347. (λ#7348. (λ#7349. (((#7347 (λ#7350. (λ#7351. (#7351 (#7350 #7348))))) (λ#7352. #7349)) (λ#7353. #7353))))) (λ#7354. (λ#7355. (#7354 #7355)))) (λ#7356. (λ#7357. (#7357 (#7356 (λ#7358. (λ#7359. (#7359 (#7358 (λ#7360. (λ#7361. (#7361 (#7360 (λ#7362. (λ#7363. (λ#7364. #7364)))))))))))))))) (λ#7365. #7346)) (λ#7366. #7366))) (λ#7367. (λ#7368. (λ#7369. (λ#7370. #7369))))) (λ#7371. #7371)) (λ#7372. #7372)) (((λ#7373. (λ#7374. ((λ#7375. ((#7375 (λ#7376. (λ#7377. (λ#7378. #7378)))) (λ#7379. (λ#7380. #7379)))) (((λ#7381. (λ#7382. ((#7382 (λ#7383. (λ#7384. (λ#7385. (((#7383 (λ#7386. (λ#7387. (#7387 (#7386 #7384))))) (λ#7388. #7385)) (λ#7389. #7389)))))) #7381))) #7373) #7374)))) (λ#7390. (λ#7391. (#7390 (#7390 (#7390 (#7390 #7391))))))) (λ#7392. (λ#7393. (#7392 #7393))))) (((λ#7394. (λ#7395. ((λ#7396. ((#7396 (λ#7397. (λ#7398. (λ#7399. #7399)))) (λ#7400. (λ#7401. #7400)))) (((λ#7402. (λ#7403. ((#7403 (λ#7404. (λ#7405. (λ#7406. (((#7404 (λ#7407. (λ#7408. (#7408 (#7407 #7405))))) (λ#7409. #7406)) (λ#7410. #7410)))))) #7402))) #7394) #7395)))) (λ#7411. (λ#7412. (#7411 #7412)))) (λ#7413. (λ#7414. (#7413 (#7413 (#7413 (#7413 #7414))))))))\n",
      "23: (((((((((λ#7415. (λ#7416. (λ#7417. (((#7415 (λ#7418. (λ#7419. (#7419 (#7418 #7416))))) (λ#7420. #7417)) (λ#7421. #7421))))) (λ#7422. (λ#7423. (#7422 #7423)))) (λ#7424. (λ#7425. (#7425 (#7424 (λ#7426. (λ#7427. (#7427 (#7426 (λ#7428. (λ#7429. (#7429 (#7428 (λ#7430. (λ#7431. (λ#7432. #7432)))))))))))))))) (λ#7433. (λ#7434. (λ#7435. (λ#7436. (λ#7437. #7436)))))) (λ#7438. #7438)) (λ#7439. #7439)) (λ#7440. #7440)) (((λ#7441. (λ#7442. ((λ#7443. ((#7443 (λ#7444. (λ#7445. (λ#7446. #7446)))) (λ#7447. (λ#7448. #7447)))) (((λ#7449. (λ#7450. ((#7450 (λ#7451. (λ#7452. (λ#7453. (((#7451 (λ#7454. (λ#7455. (#7455 (#7454 #7452))))) (λ#7456. #7453)) (λ#7457. #7457)))))) #7449))) #7441) #7442)))) (λ#7458. (λ#7459. (#7458 (#7458 (#7458 (#7458 #7459))))))) (λ#7460. (λ#7461. (#7460 #7461))))) (((λ#7462. (λ#7463. ((λ#7464. ((#7464 (λ#7465. (λ#7466. (λ#7467. #7467)))) (λ#7468. (λ#7469. #7468)))) (((λ#7470. (λ#7471. ((#7471 (λ#7472. (λ#7473. (λ#7474. (((#7472 (λ#7475. (λ#7476. (#7476 (#7475 #7473))))) (λ#7477. #7474)) (λ#7478. #7478)))))) #7470))) #7462) #7463)))) (λ#7479. (λ#7480. (#7479 #7480)))) (λ#7481. (λ#7482. (#7481 (#7481 (#7481 (#7481 #7482))))))))\n",
      "24: ((((((((λ#7483. (λ#7484. ((((λ#7485. (λ#7486. (#7485 #7486))) (λ#7487. (λ#7488. (#7488 (#7487 #7483))))) (λ#7489. #7484)) (λ#7490. #7490)))) (λ#7491. (λ#7492. (#7492 (#7491 (λ#7493. (λ#7494. (#7494 (#7493 (λ#7495. (λ#7496. (#7496 (#7495 (λ#7497. (λ#7498. (λ#7499. #7499)))))))))))))))) (λ#7500. (λ#7501. (λ#7502. (λ#7503. (λ#7504. #7503)))))) (λ#7505. #7505)) (λ#7506. #7506)) (λ#7507. #7507)) (((λ#7508. (λ#7509. ((λ#7510. ((#7510 (λ#7511. (λ#7512. (λ#7513. #7513)))) (λ#7514. (λ#7515. #7514)))) (((λ#7516. (λ#7517. ((#7517 (λ#7518. (λ#7519. (λ#7520. (((#7518 (λ#7521. (λ#7522. (#7522 (#7521 #7519))))) (λ#7523. #7520)) (λ#7524. #7524)))))) #7516))) #7508) #7509)))) (λ#7525. (λ#7526. (#7525 (#7525 (#7525 (#7525 #7526))))))) (λ#7527. (λ#7528. (#7527 #7528))))) (((λ#7529. (λ#7530. ((λ#7531. ((#7531 (λ#7532. (λ#7533. (λ#7534. #7534)))) (λ#7535. (λ#7536. #7535)))) (((λ#7537. (λ#7538. ((#7538 (λ#7539. (λ#7540. (λ#7541. (((#7539 (λ#7542. (λ#7543. (#7543 (#7542 #7540))))) (λ#7544. #7541)) (λ#7545. #7545)))))) #7537))) #7529) #7530)))) (λ#7546. (λ#7547. (#7546 #7547)))) (λ#7548. (λ#7549. (#7548 (#7548 (#7548 (#7548 #7549))))))))\n",
      "25: (((((((λ#7550. ((((λ#7551. (λ#7552. (#7551 #7552))) (λ#7553. (λ#7554. (#7554 (#7553 (λ#7555. (λ#7556. (#7556 (#7555 (λ#7557. (λ#7558. (#7558 (#7557 (λ#7559. (λ#7560. (#7560 (#7559 (λ#7561. (λ#7562. (λ#7563. #7563)))))))))))))))))))) (λ#7564. #7550)) (λ#7565. #7565))) (λ#7566. (λ#7567. (λ#7568. (λ#7569. (λ#7570. #7569)))))) (λ#7571. #7571)) (λ#7572. #7572)) (λ#7573. #7573)) (((λ#7574. (λ#7575. ((λ#7576. ((#7576 (λ#7577. (λ#7578. (λ#7579. #7579)))) (λ#7580. (λ#7581. #7580)))) (((λ#7582. (λ#7583. ((#7583 (λ#7584. (λ#7585. (λ#7586. (((#7584 (λ#7587. (λ#7588. (#7588 (#7587 #7585))))) (λ#7589. #7586)) (λ#7590. #7590)))))) #7582))) #7574) #7575)))) (λ#7591. (λ#7592. (#7591 (#7591 (#7591 (#7591 #7592))))))) (λ#7593. (λ#7594. (#7593 #7594))))) (((λ#7595. (λ#7596. ((λ#7597. ((#7597 (λ#7598. (λ#7599. (λ#7600. #7600)))) (λ#7601. (λ#7602. #7601)))) (((λ#7603. (λ#7604. ((#7604 (λ#7605. (λ#7606. (λ#7607. (((#7605 (λ#7608. (λ#7609. (#7609 (#7608 #7606))))) (λ#7610. #7607)) (λ#7611. #7611)))))) #7603))) #7595) #7596)))) (λ#7612. (λ#7613. (#7612 #7613)))) (λ#7614. (λ#7615. (#7614 (#7614 (#7614 (#7614 #7615))))))))\n",
      "26: (((((((((λ#7616. (λ#7617. (#7616 #7617))) (λ#7618. (λ#7619. (#7619 (#7618 (λ#7620. (λ#7621. (#7621 (#7620 (λ#7622. (λ#7623. (#7623 (#7622 (λ#7624. (λ#7625. (#7625 (#7624 (λ#7626. (λ#7627. (λ#7628. #7628)))))))))))))))))))) (λ#7629. (λ#7630. (λ#7631. (λ#7632. (λ#7633. (λ#7634. #7633))))))) (λ#7635. #7635)) (λ#7636. #7636)) (λ#7637. #7637)) (λ#7638. #7638)) (((λ#7639. (λ#7640. ((λ#7641. ((#7641 (λ#7642. (λ#7643. (λ#7644. #7644)))) (λ#7645. (λ#7646. #7645)))) (((λ#7647. (λ#7648. ((#7648 (λ#7649. (λ#7650. (λ#7651. (((#7649 (λ#7652. (λ#7653. (#7653 (#7652 #7650))))) (λ#7654. #7651)) (λ#7655. #7655)))))) #7647))) #7639) #7640)))) (λ#7656. (λ#7657. (#7656 (#7656 (#7656 (#7656 #7657))))))) (λ#7658. (λ#7659. (#7658 #7659))))) (((λ#7660. (λ#7661. ((λ#7662. ((#7662 (λ#7663. (λ#7664. (λ#7665. #7665)))) (λ#7666. (λ#7667. #7666)))) (((λ#7668. (λ#7669. ((#7669 (λ#7670. (λ#7671. (λ#7672. (((#7670 (λ#7673. (λ#7674. (#7674 (#7673 #7671))))) (λ#7675. #7672)) (λ#7676. #7676)))))) #7668))) #7660) #7661)))) (λ#7677. (λ#7678. (#7677 #7678)))) (λ#7679. (λ#7680. (#7679 (#7679 (#7679 (#7679 #7680))))))))\n",
      "27: ((((((((λ#7681. ((λ#7682. (λ#7683. (#7683 (#7682 (λ#7684. (λ#7685. (#7685 (#7684 (λ#7686. (λ#7687. (#7687 (#7686 (λ#7688. (λ#7689. (#7689 (#7688 (λ#7690. (λ#7691. (λ#7692. #7692))))))))))))))))))) #7681)) (λ#7693. (λ#7694. (λ#7695. (λ#7696. (λ#7697. (λ#7698. #7697))))))) (λ#7699. #7699)) (λ#7700. #7700)) (λ#7701. #7701)) (λ#7702. #7702)) (((λ#7703. (λ#7704. ((λ#7705. ((#7705 (λ#7706. (λ#7707. (λ#7708. #7708)))) (λ#7709. (λ#7710. #7709)))) (((λ#7711. (λ#7712. ((#7712 (λ#7713. (λ#7714. (λ#7715. (((#7713 (λ#7716. (λ#7717. (#7717 (#7716 #7714))))) (λ#7718. #7715)) (λ#7719. #7719)))))) #7711))) #7703) #7704)))) (λ#7720. (λ#7721. (#7720 (#7720 (#7720 (#7720 #7721))))))) (λ#7722. (λ#7723. (#7722 #7723))))) (((λ#7724. (λ#7725. ((λ#7726. ((#7726 (λ#7727. (λ#7728. (λ#7729. #7729)))) (λ#7730. (λ#7731. #7730)))) (((λ#7732. (λ#7733. ((#7733 (λ#7734. (λ#7735. (λ#7736. (((#7734 (λ#7737. (λ#7738. (#7738 (#7737 #7735))))) (λ#7739. #7736)) (λ#7740. #7740)))))) #7732))) #7724) #7725)))) (λ#7741. (λ#7742. (#7741 #7742)))) (λ#7743. (λ#7744. (#7743 (#7743 (#7743 (#7743 #7744))))))))\n",
      "28: ((((((((λ#7745. (λ#7746. (#7746 (#7745 (λ#7747. (λ#7748. (#7748 (#7747 (λ#7749. (λ#7750. (#7750 (#7749 (λ#7751. (λ#7752. (#7752 (#7751 (λ#7753. (λ#7754. (λ#7755. #7755))))))))))))))))))) (λ#7756. (λ#7757. (λ#7758. (λ#7759. (λ#7760. (λ#7761. #7760))))))) (λ#7762. #7762)) (λ#7763. #7763)) (λ#7764. #7764)) (λ#7765. #7765)) (((λ#7766. (λ#7767. ((λ#7768. ((#7768 (λ#7769. (λ#7770. (λ#7771. #7771)))) (λ#7772. (λ#7773. #7772)))) (((λ#7774. (λ#7775. ((#7775 (λ#7776. (λ#7777. (λ#7778. (((#7776 (λ#7779. (λ#7780. (#7780 (#7779 #7777))))) (λ#7781. #7778)) (λ#7782. #7782)))))) #7774))) #7766) #7767)))) (λ#7783. (λ#7784. (#7783 (#7783 (#7783 (#7783 #7784))))))) (λ#7785. (λ#7786. (#7785 #7786))))) (((λ#7787. (λ#7788. ((λ#7789. ((#7789 (λ#7790. (λ#7791. (λ#7792. #7792)))) (λ#7793. (λ#7794. #7793)))) (((λ#7795. (λ#7796. ((#7796 (λ#7797. (λ#7798. (λ#7799. (((#7797 (λ#7800. (λ#7801. (#7801 (#7800 #7798))))) (λ#7802. #7799)) (λ#7803. #7803)))))) #7795))) #7787) #7788)))) (λ#7804. (λ#7805. (#7804 #7805)))) (λ#7806. (λ#7807. (#7806 (#7806 (#7806 (#7806 #7807))))))))\n",
      "29: (((((((λ#7808. (#7808 ((λ#7809. (λ#7810. (λ#7811. (λ#7812. (λ#7813. (λ#7814. #7813)))))) (λ#7815. (λ#7816. (#7816 (#7815 (λ#7817. (λ#7818. (#7818 (#7817 (λ#7819. (λ#7820. (#7820 (#7819 (λ#7821. (λ#7822. (λ#7823. #7823)))))))))))))))))) (λ#7824. #7824)) (λ#7825. #7825)) (λ#7826. #7826)) (λ#7827. #7827)) (((λ#7828. (λ#7829. ((λ#7830. ((#7830 (λ#7831. (λ#7832. (λ#7833. #7833)))) (λ#7834. (λ#7835. #7834)))) (((λ#7836. (λ#7837. ((#7837 (λ#7838. (λ#7839. (λ#7840. (((#7838 (λ#7841. (λ#7842. (#7842 (#7841 #7839))))) (λ#7843. #7840)) (λ#7844. #7844)))))) #7836))) #7828) #7829)))) (λ#7845. (λ#7846. (#7845 (#7845 (#7845 (#7845 #7846))))))) (λ#7847. (λ#7848. (#7847 #7848))))) (((λ#7849. (λ#7850. ((λ#7851. ((#7851 (λ#7852. (λ#7853. (λ#7854. #7854)))) (λ#7855. (λ#7856. #7855)))) (((λ#7857. (λ#7858. ((#7858 (λ#7859. (λ#7860. (λ#7861. (((#7859 (λ#7862. (λ#7863. (#7863 (#7862 #7860))))) (λ#7864. #7861)) (λ#7865. #7865)))))) #7857))) #7849) #7850)))) (λ#7866. (λ#7867. (#7866 #7867)))) (λ#7868. (λ#7869. (#7868 (#7868 (#7868 (#7868 #7869))))))))\n",
      "30: (((((((λ#7870. #7870) ((λ#7871. (λ#7872. (λ#7873. (λ#7874. (λ#7875. (λ#7876. #7875)))))) (λ#7877. (λ#7878. (#7878 (#7877 (λ#7879. (λ#7880. (#7880 (#7879 (λ#7881. (λ#7882. (#7882 (#7881 (λ#7883. (λ#7884. (λ#7885. #7885))))))))))))))))) (λ#7886. #7886)) (λ#7887. #7887)) (λ#7888. #7888)) (((λ#7889. (λ#7890. ((λ#7891. ((#7891 (λ#7892. (λ#7893. (λ#7894. #7894)))) (λ#7895. (λ#7896. #7895)))) (((λ#7897. (λ#7898. ((#7898 (λ#7899. (λ#7900. (λ#7901. (((#7899 (λ#7902. (λ#7903. (#7903 (#7902 #7900))))) (λ#7904. #7901)) (λ#7905. #7905)))))) #7897))) #7889) #7890)))) (λ#7906. (λ#7907. (#7906 (#7906 (#7906 (#7906 #7907))))))) (λ#7908. (λ#7909. (#7908 #7909))))) (((λ#7910. (λ#7911. ((λ#7912. ((#7912 (λ#7913. (λ#7914. (λ#7915. #7915)))) (λ#7916. (λ#7917. #7916)))) (((λ#7918. (λ#7919. ((#7919 (λ#7920. (λ#7921. (λ#7922. (((#7920 (λ#7923. (λ#7924. (#7924 (#7923 #7921))))) (λ#7925. #7922)) (λ#7926. #7926)))))) #7918))) #7910) #7911)))) (λ#7927. (λ#7928. (#7927 #7928)))) (λ#7929. (λ#7930. (#7929 (#7929 (#7929 (#7929 #7930))))))))\n",
      "31: (((((((λ#7931. (λ#7932. (λ#7933. (λ#7934. (λ#7935. (λ#7936. #7935)))))) (λ#7937. (λ#7938. (#7938 (#7937 (λ#7939. (λ#7940. (#7940 (#7939 (λ#7941. (λ#7942. (#7942 (#7941 (λ#7943. (λ#7944. (λ#7945. #7945)))))))))))))))) (λ#7946. #7946)) (λ#7947. #7947)) (λ#7948. #7948)) (((λ#7949. (λ#7950. ((λ#7951. ((#7951 (λ#7952. (λ#7953. (λ#7954. #7954)))) (λ#7955. (λ#7956. #7955)))) (((λ#7957. (λ#7958. ((#7958 (λ#7959. (λ#7960. (λ#7961. (((#7959 (λ#7962. (λ#7963. (#7963 (#7962 #7960))))) (λ#7964. #7961)) (λ#7965. #7965)))))) #7957))) #7949) #7950)))) (λ#7966. (λ#7967. (#7966 (#7966 (#7966 (#7966 #7967))))))) (λ#7968. (λ#7969. (#7968 #7969))))) (((λ#7970. (λ#7971. ((λ#7972. ((#7972 (λ#7973. (λ#7974. (λ#7975. #7975)))) (λ#7976. (λ#7977. #7976)))) (((λ#7978. (λ#7979. ((#7979 (λ#7980. (λ#7981. (λ#7982. (((#7980 (λ#7983. (λ#7984. (#7984 (#7983 #7981))))) (λ#7985. #7982)) (λ#7986. #7986)))))) #7978))) #7970) #7971)))) (λ#7987. (λ#7988. (#7987 #7988)))) (λ#7989. (λ#7990. (#7989 (#7989 (#7989 (#7989 #7990))))))))\n",
      "32: ((((((λ#7991. (λ#7992. (λ#7993. (λ#7994. (λ#7995. #7994))))) (λ#7996. #7996)) (λ#7997. #7997)) (λ#7998. #7998)) (((λ#7999. (λ#8000. ((λ#8001. ((#8001 (λ#8002. (λ#8003. (λ#8004. #8004)))) (λ#8005. (λ#8006. #8005)))) (((λ#8007. (λ#8008. ((#8008 (λ#8009. (λ#8010. (λ#8011. (((#8009 (λ#8012. (λ#8013. (#8013 (#8012 #8010))))) (λ#8014. #8011)) (λ#8015. #8015)))))) #8007))) #7999) #8000)))) (λ#8016. (λ#8017. (#8016 (#8016 (#8016 (#8016 #8017))))))) (λ#8018. (λ#8019. (#8018 #8019))))) (((λ#8020. (λ#8021. ((λ#8022. ((#8022 (λ#8023. (λ#8024. (λ#8025. #8025)))) (λ#8026. (λ#8027. #8026)))) (((λ#8028. (λ#8029. ((#8029 (λ#8030. (λ#8031. (λ#8032. (((#8030 (λ#8033. (λ#8034. (#8034 (#8033 #8031))))) (λ#8035. #8032)) (λ#8036. #8036)))))) #8028))) #8020) #8021)))) (λ#8037. (λ#8038. (#8037 #8038)))) (λ#8039. (λ#8040. (#8039 (#8039 (#8039 (#8039 #8040))))))))\n",
      "33: (((((λ#8041. (λ#8042. (λ#8043. (λ#8044. #8043)))) (λ#8045. #8045)) (λ#8046. #8046)) (((λ#8047. (λ#8048. ((λ#8049. ((#8049 (λ#8050. (λ#8051. (λ#8052. #8052)))) (λ#8053. (λ#8054. #8053)))) (((λ#8055. (λ#8056. ((#8056 (λ#8057. (λ#8058. (λ#8059. (((#8057 (λ#8060. (λ#8061. (#8061 (#8060 #8058))))) (λ#8062. #8059)) (λ#8063. #8063)))))) #8055))) #8047) #8048)))) (λ#8064. (λ#8065. (#8064 (#8064 (#8064 (#8064 #8065))))))) (λ#8066. (λ#8067. (#8066 #8067))))) (((λ#8068. (λ#8069. ((λ#8070. ((#8070 (λ#8071. (λ#8072. (λ#8073. #8073)))) (λ#8074. (λ#8075. #8074)))) (((λ#8076. (λ#8077. ((#8077 (λ#8078. (λ#8079. (λ#8080. (((#8078 (λ#8081. (λ#8082. (#8082 (#8081 #8079))))) (λ#8083. #8080)) (λ#8084. #8084)))))) #8076))) #8068) #8069)))) (λ#8085. (λ#8086. (#8085 #8086)))) (λ#8087. (λ#8088. (#8087 (#8087 (#8087 (#8087 #8088))))))))\n",
      "34: ((((λ#8089. (λ#8090. (λ#8091. #8090))) (λ#8092. #8092)) (((λ#8093. (λ#8094. ((λ#8095. ((#8095 (λ#8096. (λ#8097. (λ#8098. #8098)))) (λ#8099. (λ#8100. #8099)))) (((λ#8101. (λ#8102. ((#8102 (λ#8103. (λ#8104. (λ#8105. (((#8103 (λ#8106. (λ#8107. (#8107 (#8106 #8104))))) (λ#8108. #8105)) (λ#8109. #8109)))))) #8101))) #8093) #8094)))) (λ#8110. (λ#8111. (#8110 (#8110 (#8110 (#8110 #8111))))))) (λ#8112. (λ#8113. (#8112 #8113))))) (((λ#8114. (λ#8115. ((λ#8116. ((#8116 (λ#8117. (λ#8118. (λ#8119. #8119)))) (λ#8120. (λ#8121. #8120)))) (((λ#8122. (λ#8123. ((#8123 (λ#8124. (λ#8125. (λ#8126. (((#8124 (λ#8127. (λ#8128. (#8128 (#8127 #8125))))) (λ#8129. #8126)) (λ#8130. #8130)))))) #8122))) #8114) #8115)))) (λ#8131. (λ#8132. (#8131 #8132)))) (λ#8133. (λ#8134. (#8133 (#8133 (#8133 (#8133 #8134))))))))\n",
      "35: (((λ#8135. (λ#8136. #8135)) (((λ#8137. (λ#8138. ((λ#8139. ((#8139 (λ#8140. (λ#8141. (λ#8142. #8142)))) (λ#8143. (λ#8144. #8143)))) (((λ#8145. (λ#8146. ((#8146 (λ#8147. (λ#8148. (λ#8149. (((#8147 (λ#8150. (λ#8151. (#8151 (#8150 #8148))))) (λ#8152. #8149)) (λ#8153. #8153)))))) #8145))) #8137) #8138)))) (λ#8154. (λ#8155. (#8154 (#8154 (#8154 (#8154 #8155))))))) (λ#8156. (λ#8157. (#8156 #8157))))) (((λ#8158. (λ#8159. ((λ#8160. ((#8160 (λ#8161. (λ#8162. (λ#8163. #8163)))) (λ#8164. (λ#8165. #8164)))) (((λ#8166. (λ#8167. ((#8167 (λ#8168. (λ#8169. (λ#8170. (((#8168 (λ#8171. (λ#8172. (#8172 (#8171 #8169))))) (λ#8173. #8170)) (λ#8174. #8174)))))) #8166))) #8158) #8159)))) (λ#8175. (λ#8176. (#8175 #8176)))) (λ#8177. (λ#8178. (#8177 (#8177 (#8177 (#8177 #8178))))))))\n",
      "36: ((λ#8179. (((λ#8180. (λ#8181. ((λ#8182. ((#8182 (λ#8183. (λ#8184. (λ#8185. #8185)))) (λ#8186. (λ#8187. #8186)))) (((λ#8188. (λ#8189. ((#8189 (λ#8190. (λ#8191. (λ#8192. (((#8190 (λ#8193. (λ#8194. (#8194 (#8193 #8191))))) (λ#8195. #8192)) (λ#8196. #8196)))))) #8188))) #8180) #8181)))) (λ#8197. (λ#8198. (#8197 (#8197 (#8197 (#8197 #8198))))))) (λ#8199. (λ#8200. (#8199 #8200))))) (((λ#8201. (λ#8202. ((λ#8203. ((#8203 (λ#8204. (λ#8205. (λ#8206. #8206)))) (λ#8207. (λ#8208. #8207)))) (((λ#8209. (λ#8210. ((#8210 (λ#8211. (λ#8212. (λ#8213. (((#8211 (λ#8214. (λ#8215. (#8215 (#8214 #8212))))) (λ#8216. #8213)) (λ#8217. #8217)))))) #8209))) #8201) #8202)))) (λ#8218. (λ#8219. (#8218 #8219)))) (λ#8220. (λ#8221. (#8220 (#8220 (#8220 (#8220 #8221))))))))\n",
      "37: (((λ#8222. (λ#8223. ((λ#8224. ((#8224 (λ#8225. (λ#8226. (λ#8227. #8227)))) (λ#8228. (λ#8229. #8228)))) (((λ#8230. (λ#8231. ((#8231 (λ#8232. (λ#8233. (λ#8234. (((#8232 (λ#8235. (λ#8236. (#8236 (#8235 #8233))))) (λ#8237. #8234)) (λ#8238. #8238)))))) #8230))) #8222) #8223)))) (λ#8239. (λ#8240. (#8239 (#8239 (#8239 (#8239 #8240))))))) (λ#8241. (λ#8242. (#8241 #8242))))\n",
      "38: ((λ#8243. ((λ#8244. ((#8244 (λ#8245. (λ#8246. (λ#8247. #8247)))) (λ#8248. (λ#8249. #8248)))) (((λ#8250. (λ#8251. ((#8251 (λ#8252. (λ#8253. (λ#8254. (((#8252 (λ#8255. (λ#8256. (#8256 (#8255 #8253))))) (λ#8257. #8254)) (λ#8258. #8258)))))) #8250))) (λ#8259. (λ#8260. (#8259 (#8259 (#8259 (#8259 #8260))))))) #8243))) (λ#8261. (λ#8262. (#8261 #8262))))\n",
      "39: ((λ#8263. ((#8263 (λ#8264. (λ#8265. (λ#8266. #8266)))) (λ#8267. (λ#8268. #8267)))) (((λ#8269. (λ#8270. ((#8270 (λ#8271. (λ#8272. (λ#8273. (((#8271 (λ#8274. (λ#8275. (#8275 (#8274 #8272))))) (λ#8276. #8273)) (λ#8277. #8277)))))) #8269))) (λ#8278. (λ#8279. (#8278 (#8278 (#8278 (#8278 #8279))))))) (λ#8280. (λ#8281. (#8280 #8281)))))\n",
      "40: (((((λ#8282. (λ#8283. ((#8283 (λ#8284. (λ#8285. (λ#8286. (((#8284 (λ#8287. (λ#8288. (#8288 (#8287 #8285))))) (λ#8289. #8286)) (λ#8290. #8290)))))) #8282))) (λ#8291. (λ#8292. (#8291 (#8291 (#8291 (#8291 #8292))))))) (λ#8293. (λ#8294. (#8293 #8294)))) (λ#8295. (λ#8296. (λ#8297. #8297)))) (λ#8298. (λ#8299. #8298)))\n",
      "41: ((((λ#8300. ((#8300 (λ#8301. (λ#8302. (λ#8303. (((#8301 (λ#8304. (λ#8305. (#8305 (#8304 #8302))))) (λ#8306. #8303)) (λ#8307. #8307)))))) (λ#8308. (λ#8309. (#8308 (#8308 (#8308 (#8308 #8309)))))))) (λ#8310. (λ#8311. (#8310 #8311)))) (λ#8312. (λ#8313. (λ#8314. #8314)))) (λ#8315. (λ#8316. #8315)))\n",
      "42: (((((λ#8317. (λ#8318. (#8317 #8318))) (λ#8319. (λ#8320. (λ#8321. (((#8319 (λ#8322. (λ#8323. (#8323 (#8322 #8320))))) (λ#8324. #8321)) (λ#8325. #8325)))))) (λ#8326. (λ#8327. (#8326 (#8326 (#8326 (#8326 #8327))))))) (λ#8328. (λ#8329. (λ#8330. #8330)))) (λ#8331. (λ#8332. #8331)))\n",
      "43: ((((λ#8333. ((λ#8334. (λ#8335. (λ#8336. (((#8334 (λ#8337. (λ#8338. (#8338 (#8337 #8335))))) (λ#8339. #8336)) (λ#8340. #8340))))) #8333)) (λ#8341. (λ#8342. (#8341 (#8341 (#8341 (#8341 #8342))))))) (λ#8343. (λ#8344. (λ#8345. #8345)))) (λ#8346. (λ#8347. #8346)))\n",
      "44: ((((λ#8348. (λ#8349. (λ#8350. (((#8348 (λ#8351. (λ#8352. (#8352 (#8351 #8349))))) (λ#8353. #8350)) (λ#8354. #8354))))) (λ#8355. (λ#8356. (#8355 (#8355 (#8355 (#8355 #8356))))))) (λ#8357. (λ#8358. (λ#8359. #8359)))) (λ#8360. (λ#8361. #8360)))\n",
      "45: (((λ#8362. (λ#8363. ((((λ#8364. (λ#8365. (#8364 (#8364 (#8364 (#8364 #8365)))))) (λ#8366. (λ#8367. (#8367 (#8366 #8362))))) (λ#8368. #8363)) (λ#8369. #8369)))) (λ#8370. (λ#8371. (λ#8372. #8372)))) (λ#8373. (λ#8374. #8373)))\n",
      "46: ((λ#8375. ((((λ#8376. (λ#8377. (#8376 (#8376 (#8376 (#8376 #8377)))))) (λ#8378. (λ#8379. (#8379 (#8378 (λ#8380. (λ#8381. (λ#8382. #8382)))))))) (λ#8383. #8375)) (λ#8384. #8384))) (λ#8385. (λ#8386. #8385)))\n",
      "47: ((((λ#8387. (λ#8388. (#8387 (#8387 (#8387 (#8387 #8388)))))) (λ#8389. (λ#8390. (#8390 (#8389 (λ#8391. (λ#8392. (λ#8393. #8393)))))))) (λ#8394. (λ#8395. (λ#8396. #8395)))) (λ#8397. #8397))\n",
      "48: (((λ#8398. ((λ#8399. (λ#8400. (#8400 (#8399 (λ#8401. (λ#8402. (λ#8403. #8403))))))) ((λ#8404. (λ#8405. (#8405 (#8404 (λ#8406. (λ#8407. (λ#8408. #8408))))))) ((λ#8409. (λ#8410. (#8410 (#8409 (λ#8411. (λ#8412. (λ#8413. #8413))))))) ((λ#8414. (λ#8415. (#8415 (#8414 (λ#8416. (λ#8417. (λ#8418. #8418))))))) #8398))))) (λ#8419. (λ#8420. (λ#8421. #8420)))) (λ#8422. #8422))\n",
      "49: (((λ#8423. (λ#8424. (#8424 (#8423 (λ#8425. (λ#8426. (λ#8427. #8427))))))) ((λ#8428. (λ#8429. (#8429 (#8428 (λ#8430. (λ#8431. (λ#8432. #8432))))))) ((λ#8433. (λ#8434. (#8434 (#8433 (λ#8435. (λ#8436. (λ#8437. #8437))))))) ((λ#8438. (λ#8439. (#8439 (#8438 (λ#8440. (λ#8441. (λ#8442. #8442))))))) (λ#8443. (λ#8444. (λ#8445. #8444))))))) (λ#8446. #8446))\n",
      "50: ((λ#8447. (#8447 (((λ#8448. (λ#8449. (#8449 (#8448 (λ#8450. (λ#8451. (λ#8452. #8452))))))) ((λ#8453. (λ#8454. (#8454 (#8453 (λ#8455. (λ#8456. (λ#8457. #8457))))))) ((λ#8458. (λ#8459. (#8459 (#8458 (λ#8460. (λ#8461. (λ#8462. #8462))))))) (λ#8463. (λ#8464. (λ#8465. #8464)))))) (λ#8466. (λ#8467. (λ#8468. #8468)))))) (λ#8469. #8469))\n",
      "51: ((λ#8470. #8470) (((λ#8471. (λ#8472. (#8472 (#8471 (λ#8473. (λ#8474. (λ#8475. #8475))))))) ((λ#8476. (λ#8477. (#8477 (#8476 (λ#8478. (λ#8479. (λ#8480. #8480))))))) ((λ#8481. (λ#8482. (#8482 (#8481 (λ#8483. (λ#8484. (λ#8485. #8485))))))) (λ#8486. (λ#8487. (λ#8488. #8487)))))) (λ#8489. (λ#8490. (λ#8491. #8491)))))\n",
      "52: (((λ#8492. (λ#8493. (#8493 (#8492 (λ#8494. (λ#8495. (λ#8496. #8496))))))) ((λ#8497. (λ#8498. (#8498 (#8497 (λ#8499. (λ#8500. (λ#8501. #8501))))))) ((λ#8502. (λ#8503. (#8503 (#8502 (λ#8504. (λ#8505. (λ#8506. #8506))))))) (λ#8507. (λ#8508. (λ#8509. #8508)))))) (λ#8510. (λ#8511. (λ#8512. #8512))))\n",
      "53: ((λ#8513. (#8513 (((λ#8514. (λ#8515. (#8515 (#8514 (λ#8516. (λ#8517. (λ#8518. #8518))))))) ((λ#8519. (λ#8520. (#8520 (#8519 (λ#8521. (λ#8522. (λ#8523. #8523))))))) (λ#8524. (λ#8525. (λ#8526. #8525))))) (λ#8527. (λ#8528. (λ#8529. #8529)))))) (λ#8530. (λ#8531. (λ#8532. #8532))))\n",
      "54: ((λ#8533. (λ#8534. (λ#8535. #8535))) (((λ#8536. (λ#8537. (#8537 (#8536 (λ#8538. (λ#8539. (λ#8540. #8540))))))) ((λ#8541. (λ#8542. (#8542 (#8541 (λ#8543. (λ#8544. (λ#8545. #8545))))))) (λ#8546. (λ#8547. (λ#8548. #8547))))) (λ#8549. (λ#8550. (λ#8551. #8551)))))\n",
      "55: (λ#8552. (λ#8553. #8553))\n",
      "\n",
      "\n",
      "reduction steps: 55\n",
      "norm term:       (λ#8552. (λ#8553. #8553))\n"
     ]
    }
   ],
   "source": [
    "def term_test_13():\n",
    "    return multi_app_term(eq_term(), num_term(1), num_term(4))\n",
    "\n",
    "\n",
    "test_procedure(term_test_13())"
   ],
   "metadata": {
    "collapsed": false
   }
  }
 ],
 "metadata": {
  "kernelspec": {
   "display_name": "Python 3",
   "language": "python",
   "name": "python3"
  },
  "language_info": {
   "codemirror_mode": {
    "name": "ipython",
    "version": 2
   },
   "file_extension": ".py",
   "mimetype": "text/x-python",
   "name": "python",
   "nbconvert_exporter": "python",
   "pygments_lexer": "ipython2",
   "version": "2.7.6"
  }
 },
 "nbformat": 4,
 "nbformat_minor": 0
}
