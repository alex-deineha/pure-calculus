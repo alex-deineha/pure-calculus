{
 "cells": [
  {
   "cell_type": "code",
   "execution_count": 1,
   "metadata": {
    "collapsed": true
   },
   "outputs": [],
   "source": [
    "import sys\n",
    "import time\n",
    "\n",
    "sys.path.append(\"../\")\n",
    "from calculus.pseudonym import *\n",
    "from calculus.strategy import *"
   ]
  },
  {
   "cell_type": "markdown",
   "source": [
    "# <span style=\"color: #A1F99C\">TEST PROCEDURE</span>"
   ],
   "metadata": {
    "collapsed": false
   }
  },
  {
   "cell_type": "code",
   "execution_count": 2,
   "outputs": [],
   "source": [
    "rs = RightmostInnermostStrategy()\n",
    "\n",
    "\n",
    "def test_procedure(term, reduction_strategy=rs, print_steps=True,\n",
    "                   steps_lim=60, assert_result=\"\"):\n",
    "    term = term._updateBoundVariables()\n",
    "    n_steps = 0\n",
    "    is_term_normalized = True\n",
    "    if print_steps:\n",
    "        print(f\"{n_steps}: {term}\")\n",
    "    while term.redexes:\n",
    "        term = term._betaConversion(reduction_strategy)\n",
    "        term = term._updateBoundVariables()\n",
    "        n_steps += 1\n",
    "        if print_steps:\n",
    "            print(f\"{n_steps}: {term}\")\n",
    "        if n_steps > steps_lim:\n",
    "            is_term_normalized = False\n",
    "            break\n",
    "\n",
    "    print(f\"\\n\\nreduction steps: {n_steps}\")\n",
    "    print(f\"norm term:       {term}\" if is_term_normalized else f\"NOT norm term: {term}\")"
   ],
   "metadata": {
    "collapsed": false
   }
  },
  {
   "cell_type": "markdown",
   "source": [
    "# <span style=\"color: #A1F99C\">USEFUL TERMS</span>"
   ],
   "metadata": {
    "collapsed": false
   }
  },
  {
   "cell_type": "code",
   "execution_count": 3,
   "outputs": [],
   "source": [
    "def ite_term():\n",
    "    x, y, c = Var(), Var(), Var()\n",
    "    x_, y_, c_ = Atom(x), Atom(y), Atom(c)\n",
    "    return Lambda(c, Lambda(x, Lambda(y, multi_app_term(c_, x_, y_))))\n",
    "\n",
    "\n",
    "def true_term():\n",
    "    x, y = Var(), Var()\n",
    "    x_ = Atom(x)\n",
    "    return Lambda(x, Lambda(y, x_))\n",
    "\n",
    "\n",
    "def num_zero_term():\n",
    "    s, z = Var(), Var()\n",
    "    z_ = Atom(z)\n",
    "    return Lambda(s, Lambda(z, z_))\n",
    "\n",
    "\n",
    "def num_term(n: int):\n",
    "    if n <= 0:\n",
    "        return num_zero_term()\n",
    "    s, z = Var(), Var()\n",
    "    s_, z_ = Atom(s), Atom(z)\n",
    "    core_term = App(s_, z_)\n",
    "    for _ in range(n - 1):\n",
    "        core_term = App(s_, core_term)\n",
    "    return Lambda(s, Lambda(z, core_term))\n",
    "\n",
    "\n",
    "def multi_app_term(term_0: Term, term_1: Term, *terms: Term):\n",
    "    res_app_term = App(term_0, term_1)\n",
    "    for term in terms:\n",
    "        res_app_term = App(res_app_term, term)\n",
    "    return res_app_term\n",
    "\n",
    "\n",
    "def false_term():\n",
    "    x, y = Var(), Var()\n",
    "    y_ = Atom(y)\n",
    "    return Lambda(x, Lambda(y, y_))\n",
    "\n",
    "\n",
    "def pair_term():\n",
    "    x, y, p = Var(), Var(), Var()\n",
    "    x_, y_, p_ = Atom(x), Atom(y), Atom(p)\n",
    "    return Lambda(x, Lambda(y, Lambda(p, multi_app_term(p_, x_, y_))))\n",
    "\n",
    "\n",
    "def first_term():\n",
    "    p = Var()\n",
    "    p_ = Atom(p)\n",
    "    return Lambda(p, App(p_, true_term()))\n",
    "\n",
    "\n",
    "def second_term():\n",
    "    p = Var()\n",
    "    p_ = Atom(p)\n",
    "    return Lambda(p, App(p_, false_term()))\n",
    "\n",
    "\n",
    "def succ_term():\n",
    "    x, y, n = Var(), Var(), Var()\n",
    "    x_, y_, n_ = Atom(x), Atom(y), Atom(n)\n",
    "    return Lambda(n, Lambda(x, Lambda(y, App(x_, multi_app_term(n_, x_, y_)))))\n",
    "\n",
    "\n",
    "def sinc_term():\n",
    "    p = Var()\n",
    "    p_ = Atom(p)\n",
    "    return Lambda(\n",
    "        p,\n",
    "        multi_app_term(\n",
    "            pair_term(),\n",
    "            App(second_term(), p_),\n",
    "            App(succ_term(), App(second_term(), p_)),\n",
    "        ),\n",
    "    )\n",
    "\n",
    "\n",
    "def pred_term():\n",
    "    n, f, x, g, h, u = Var(), Var(), Var(), Var(), Var(), Var()\n",
    "    n_, f_, x_ = Atom(n), Atom(f), Atom(x)\n",
    "    g_, h_, u_ = Atom(g), Atom(h), Atom(u)\n",
    "\n",
    "    return Lambda(n, Lambda(f, Lambda(x, multi_app_term(\n",
    "        n_,\n",
    "        Lambda(g, Lambda(h, App(h_, App(g_, f_)))),\n",
    "        Lambda(u, x_),\n",
    "        Lambda(u, u_)\n",
    "    ))))\n",
    "\n",
    "\n",
    "def plus_term():\n",
    "    n, m = Var(), Var()\n",
    "    n_, m_ = Atom(n), Atom(m)\n",
    "    return Lambda(m, Lambda(n, multi_app_term(n_, succ_term(), m_)))\n",
    "\n",
    "\n",
    "def subtract_term():\n",
    "    n, m = Var(), Var()\n",
    "    n_, m_ = Atom(n), Atom(m)\n",
    "    return Lambda(n, Lambda(m, multi_app_term(m_, pred_term(), n_)))\n",
    "\n",
    "\n",
    "def iszero_term():\n",
    "    x, n = Var(), Var()\n",
    "    n_ = Atom(n)\n",
    "    return Lambda(n, App(App(n_, Lambda(x, false_term())), true_term()))\n",
    "\n",
    "\n",
    "def leq_term():\n",
    "    n, m = Var(), Var()\n",
    "    n_, m_ = Atom(n), Atom(m)\n",
    "    return Lambda(\n",
    "        n, Lambda(m, App(iszero_term(), multi_app_term(subtract_term(), n_, m_)))\n",
    "    )\n",
    "\n",
    "\n",
    "def and_term():\n",
    "    a, b = Var(), Var()\n",
    "    a_, b_ = Atom(a), Atom(b)\n",
    "    return Lambda(a, Lambda(b, multi_app_term(ite_term(), a_, b_, a_)))\n",
    "\n",
    "\n",
    "def eq_term():\n",
    "    n, m = Var(), Var()\n",
    "    n_, m_ = Atom(n), Atom(m)\n",
    "    return Lambda(\n",
    "        n,\n",
    "        Lambda(\n",
    "            m,\n",
    "            multi_app_term(\n",
    "                and_term(),\n",
    "                multi_app_term(leq_term(), n_, m_),\n",
    "                multi_app_term(leq_term(), m_, n_),\n",
    "            ),\n",
    "        ),\n",
    "    )"
   ],
   "metadata": {
    "collapsed": false
   }
  },
  {
   "cell_type": "markdown",
   "source": [
    "# <span style=\"color: #A1F99C\">1.</span>\n",
    "<span style=\"color:#bb91f3\">(λx. (λy.y)) ((λx. (xx)) (λx. (xx)))</span> == <span style=\"color:#f1bd47\">I</span> == <span style=\"color:#f1bd47\">λx. x</span>\n",
    "<span style=\"color:#c9fafa\">This term reduce in one step by LO, RO strategy\n",
    "And reduce in the same terms with other strategy.</span>"
   ],
   "metadata": {
    "collapsed": false
   }
  },
  {
   "cell_type": "code",
   "execution_count": 4,
   "outputs": [
    {
     "name": "stdout",
     "output_type": "stream",
     "text": [
      "0: ((λq.(λw.w)) ((λe.(e e)) (λr.(r r))))\n",
      "1: ((λe.(λr.r)) ((λq.(q q)) (λw.(w w))))\n",
      "2: ((λq.(λw.w)) ((λe.(e e)) (λr.(r r))))\n",
      "3: ((λe.(λr.r)) ((λq.(q q)) (λw.(w w))))\n",
      "4: ((λq.(λw.w)) ((λe.(e e)) (λr.(r r))))\n",
      "5: ((λe.(λr.r)) ((λq.(q q)) (λw.(w w))))\n",
      "6: ((λq.(λw.w)) ((λe.(e e)) (λr.(r r))))\n",
      "7: ((λe.(λr.r)) ((λq.(q q)) (λw.(w w))))\n",
      "8: ((λq.(λw.w)) ((λe.(e e)) (λr.(r r))))\n",
      "9: ((λe.(λr.r)) ((λq.(q q)) (λw.(w w))))\n",
      "10: ((λq.(λw.w)) ((λe.(e e)) (λr.(r r))))\n",
      "11: ((λe.(λr.r)) ((λq.(q q)) (λw.(w w))))\n",
      "12: ((λq.(λw.w)) ((λe.(e e)) (λr.(r r))))\n",
      "13: ((λe.(λr.r)) ((λq.(q q)) (λw.(w w))))\n",
      "14: ((λq.(λw.w)) ((λe.(e e)) (λr.(r r))))\n",
      "15: ((λe.(λr.r)) ((λq.(q q)) (λw.(w w))))\n",
      "16: ((λq.(λw.w)) ((λe.(e e)) (λr.(r r))))\n",
      "17: ((λe.(λr.r)) ((λq.(q q)) (λw.(w w))))\n",
      "18: ((λq.(λw.w)) ((λe.(e e)) (λr.(r r))))\n",
      "19: ((λe.(λr.r)) ((λq.(q q)) (λw.(w w))))\n",
      "20: ((λq.(λw.w)) ((λe.(e e)) (λr.(r r))))\n",
      "21: ((λe.(λr.r)) ((λq.(q q)) (λw.(w w))))\n",
      "22: ((λq.(λw.w)) ((λe.(e e)) (λr.(r r))))\n",
      "23: ((λe.(λr.r)) ((λq.(q q)) (λw.(w w))))\n",
      "24: ((λq.(λw.w)) ((λe.(e e)) (λr.(r r))))\n",
      "25: ((λe.(λr.r)) ((λq.(q q)) (λw.(w w))))\n",
      "26: ((λq.(λw.w)) ((λe.(e e)) (λr.(r r))))\n",
      "27: ((λe.(λr.r)) ((λq.(q q)) (λw.(w w))))\n",
      "28: ((λq.(λw.w)) ((λe.(e e)) (λr.(r r))))\n",
      "29: ((λe.(λr.r)) ((λq.(q q)) (λw.(w w))))\n",
      "30: ((λq.(λw.w)) ((λe.(e e)) (λr.(r r))))\n",
      "31: ((λe.(λr.r)) ((λq.(q q)) (λw.(w w))))\n",
      "32: ((λq.(λw.w)) ((λe.(e e)) (λr.(r r))))\n",
      "33: ((λe.(λr.r)) ((λq.(q q)) (λw.(w w))))\n",
      "34: ((λq.(λw.w)) ((λe.(e e)) (λr.(r r))))\n",
      "35: ((λe.(λr.r)) ((λq.(q q)) (λw.(w w))))\n",
      "36: ((λq.(λw.w)) ((λe.(e e)) (λr.(r r))))\n",
      "37: ((λe.(λr.r)) ((λq.(q q)) (λw.(w w))))\n",
      "38: ((λq.(λw.w)) ((λe.(e e)) (λr.(r r))))\n",
      "39: ((λe.(λr.r)) ((λq.(q q)) (λw.(w w))))\n",
      "40: ((λq.(λw.w)) ((λe.(e e)) (λr.(r r))))\n",
      "41: ((λe.(λr.r)) ((λq.(q q)) (λw.(w w))))\n",
      "42: ((λq.(λw.w)) ((λe.(e e)) (λr.(r r))))\n",
      "43: ((λe.(λr.r)) ((λq.(q q)) (λw.(w w))))\n",
      "44: ((λq.(λw.w)) ((λe.(e e)) (λr.(r r))))\n",
      "45: ((λe.(λr.r)) ((λq.(q q)) (λw.(w w))))\n",
      "46: ((λq.(λw.w)) ((λe.(e e)) (λr.(r r))))\n",
      "47: ((λe.(λr.r)) ((λq.(q q)) (λw.(w w))))\n",
      "48: ((λq.(λw.w)) ((λe.(e e)) (λr.(r r))))\n",
      "49: ((λe.(λr.r)) ((λq.(q q)) (λw.(w w))))\n",
      "50: ((λq.(λw.w)) ((λe.(e e)) (λr.(r r))))\n",
      "51: ((λe.(λr.r)) ((λq.(q q)) (λw.(w w))))\n",
      "52: ((λq.(λw.w)) ((λe.(e e)) (λr.(r r))))\n",
      "53: ((λe.(λr.r)) ((λq.(q q)) (λw.(w w))))\n",
      "54: ((λq.(λw.w)) ((λe.(e e)) (λr.(r r))))\n",
      "55: ((λe.(λr.r)) ((λq.(q q)) (λw.(w w))))\n",
      "56: ((λq.(λw.w)) ((λe.(e e)) (λr.(r r))))\n",
      "57: ((λe.(λr.r)) ((λq.(q q)) (λw.(w w))))\n",
      "58: ((λq.(λw.w)) ((λe.(e e)) (λr.(r r))))\n",
      "59: ((λe.(λr.r)) ((λq.(q q)) (λw.(w w))))\n",
      "60: ((λq.(λw.w)) ((λe.(e e)) (λr.(r r))))\n",
      "61: ((λe.(λr.r)) ((λq.(q q)) (λw.(w w))))\n",
      "\n",
      "\n",
      "reduction steps: 61\n",
      "NOT norm term: ((λe.(λr.r)) ((λq.(q q)) (λw.(w w))))\n"
     ]
    }
   ],
   "source": [
    "def term_test_1():\n",
    "    x, y = Var(), Var()\n",
    "    x_, y_ = Atom(x), Atom(y)\n",
    "\n",
    "    return App(\n",
    "             Lambda(x, Lambda(y, y_)),\n",
    "             App(\n",
    "                 Lambda(x, App(x_, x_)),\n",
    "                 Lambda(x, App(x_, x_))\n",
    "             )\n",
    "         )\n",
    "\n",
    "\n",
    "test_procedure(term_test_1())"
   ],
   "metadata": {
    "collapsed": false
   }
  },
  {
   "cell_type": "markdown",
   "source": [
    "# <span style=\"color: #A1F99C\">2.</span>\n",
    "<span style=\"color:#bb91f3\">(ITE TRUE 3 1)</span> == <span style=\"color:#f1bd47>\">3</span> == <span style=\"color:#f1bd47\">λx. λy. (x (x (x y)))</span>"
   ],
   "metadata": {
    "collapsed": false
   }
  },
  {
   "cell_type": "code",
   "execution_count": 5,
   "outputs": [
    {
     "name": "stdout",
     "output_type": "stream",
     "text": [
      "0: ((((λq.(λw.(λe.((q w) e)))) (λr.(λt.r))) (λy.(λu.(y (y (y u)))))) (λi.(λo.(i o))))\n",
      "1: (((λq.(λw.(((λe.(λr.e)) q) w))) (λt.(λy.(t (t (t y)))))) (λu.(λi.(u i))))\n",
      "2: (((λq.(λw.((λe.q) w))) (λr.(λt.(r (r (r t)))))) (λy.(λu.(y u))))\n",
      "3: (((λw.(λe.w)) (λr.(λt.(r (r (r t)))))) (λy.(λq.(y q))))\n",
      "4: ((λq.(λw.(λe.(w (w (w e)))))) (λr.(λt.(r t))))\n",
      "5: (λq.(λw.(q (q (q w)))))\n",
      "\n",
      "\n",
      "reduction steps: 5\n",
      "norm term:       (λq.(λw.(q (q (q w)))))\n"
     ]
    }
   ],
   "source": [
    "def term_test_2():\n",
    "    return multi_app_term(ite_term(), true_term(), num_term(3), num_term(1))\n",
    "\n",
    "\n",
    "test_procedure(term_test_2())"
   ],
   "metadata": {
    "collapsed": false
   }
  },
  {
   "cell_type": "markdown",
   "source": [
    "# <span style=\"color: #A1F99C\">3.</span>\n",
    "<span style=\"color:#bb91f3\">(ITE FALSE 0 4)</span> == <span style=\"color:#f1bd47\">4</span> == <span style=\"color:#f1bd47\">λx. λy. (x (x (x (x y))))</span>"
   ],
   "metadata": {
    "collapsed": false
   }
  },
  {
   "cell_type": "code",
   "execution_count": 6,
   "outputs": [
    {
     "name": "stdout",
     "output_type": "stream",
     "text": [
      "0: ((((λq.(λw.(λe.((q w) e)))) (λr.(λt.t))) (λy.(λu.u))) (λi.(λo.(i (i (i (i o)))))))\n",
      "1: (((λe.(λr.(((λt.(λy.y)) e) r))) (λu.(λi.i))) (λq.(λw.(q (q (q (q w)))))))\n",
      "2: (((λq.(λw.((λe.e) w))) (λr.(λt.t))) (λy.(λu.(y (y (y (y u)))))))\n",
      "3: (((λq.(λw.w)) (λe.(λr.r))) (λt.(λy.(t (t (t (t y)))))))\n",
      "4: ((λe.e) (λq.(λw.(q (q (q (q w)))))))\n",
      "5: (λq.(λw.(q (q (q (q w))))))\n",
      "\n",
      "\n",
      "reduction steps: 5\n",
      "norm term:       (λq.(λw.(q (q (q (q w))))))\n"
     ]
    }
   ],
   "source": [
    "def term_test_3():\n",
    "    return multi_app_term(ite_term(), false_term(), num_term(0), num_term(4))\n",
    "\n",
    "\n",
    "test_procedure(term_test_3())"
   ],
   "metadata": {
    "collapsed": false
   }
  },
  {
   "cell_type": "markdown",
   "source": [
    "# <span style=\"color: #A1F99C\">4.</span>\n",
    "<span style=\"color:#bb91f3\">(PRED 0)</span> == <span style=\"color:#f1bd47\">0</span> == <span style=\"color:#f1bd47\">λx. λy. y</span>"
   ],
   "metadata": {
    "collapsed": false
   }
  },
  {
   "cell_type": "code",
   "execution_count": 7,
   "outputs": [
    {
     "name": "stdout",
     "output_type": "stream",
     "text": [
      "0: ((λy.(λu.(λi.(((y (λo.(λq.(q (o u))))) (λw.i)) (λe.e))))) (λr.(λt.t)))\n",
      "1: (λq.(λw.((((λe.(λr.r)) (λt.(λy.(y (t q))))) (λu.w)) (λi.i))))\n",
      "2: (λq.(λw.(((λe.e) (λr.w)) (λt.t))))\n",
      "3: (λq.(λw.((λe.w) (λr.r))))\n",
      "4: (λq.(λw.w))\n",
      "\n",
      "\n",
      "reduction steps: 4\n",
      "norm term:       (λq.(λw.w))\n"
     ]
    }
   ],
   "source": [
    "def term_test_4():\n",
    "    return multi_app_term(pred_term(), num_term(0))\n",
    "\n",
    "\n",
    "test_procedure(term_test_4())"
   ],
   "metadata": {
    "collapsed": false
   }
  },
  {
   "cell_type": "markdown",
   "source": [
    "# <span style=\"color: #A1F99C\">5.</span>\n",
    "<span style=\"color:#bb91f3\">(PRED 5)</span> == <span style=\"color:#f1bd47\">4</span> == <span style=\"color:#f1bd47\">λx. λy. (x (x (x (x y))))</span>"
   ],
   "metadata": {
    "collapsed": false
   }
  },
  {
   "cell_type": "code",
   "execution_count": 8,
   "outputs": [
    {
     "name": "stdout",
     "output_type": "stream",
     "text": [
      "0: ((λq.(λw.(λe.(((q (λr.(λt.(t (r w))))) (λy.e)) (λu.u))))) (λi.(λo.(i (i (i (i (i o))))))))\n",
      "1: (λq.(λw.((((λe.(λr.(e (e (e (e (e r))))))) (λt.(λy.(y (t q))))) (λu.w)) (λi.i))))\n",
      "2: (λq.(λw.(((λe.((λr.(λt.(t (r q)))) ((λy.(λu.(u (y q)))) ((λi.(λo.(o (i q)))) ((λp.(λa.(a (p q)))) ((λs.(λd.(d (s q)))) e)))))) (λf.w)) (λg.g))))\n",
      "3: (λq.(λw.(((λe.((λr.(λt.(t (r q)))) ((λy.(λu.(u (y q)))) ((λi.(λo.(o (i q)))) ((λp.(λa.(a (p q)))) (λs.(s (e q)))))))) (λd.w)) (λf.f))))\n",
      "4: (λq.(λw.(((λe.((λr.(λt.(t (r q)))) ((λy.(λu.(u (y q)))) ((λi.(λo.(o (i q)))) (λp.(p ((λa.(a (e q))) q))))))) (λs.w)) (λd.d))))\n",
      "5: (λi.(λo.(((λp.((λa.(λs.(s (a i)))) ((λq.(λw.(w (q i)))) ((λe.(λr.(r (e i)))) (λt.(t (i (p i)))))))) (λy.o)) (λu.u))))\n",
      "6: (λq.(λw.(((λe.((λr.(λt.(t (r q)))) ((λy.(λu.(u (y q)))) (λi.(i ((λo.(o (q (e q)))) q)))))) (λp.w)) (λa.a))))\n",
      "7: (λq.(λw.(((λe.((λr.(λt.(t (r q)))) ((λy.(λu.(u (y q)))) (λi.(i (q (q (e q)))))))) (λo.w)) (λp.p))))\n",
      "8: (λy.(λu.(((λi.((λo.(λq.(q (o y)))) (λw.(w ((λe.(e (y (y (i y))))) y))))) (λr.u)) (λt.t))))\n",
      "9: (λq.(λw.(((λe.((λr.(λt.(t (r q)))) (λy.(y (q (q (q (e q)))))))) (λu.w)) (λi.i))))\n",
      "10: (λq.(λw.(((λe.(λr.(r ((λt.(t (q (q (q (e q)))))) q)))) (λy.w)) (λu.u))))\n",
      "11: (λq.(λw.(((λe.(λr.(r (q (q (q (q (e q)))))))) (λt.w)) (λy.y))))\n",
      "12: (λq.(λw.((λe.(e (q (q (q (q ((λr.w) q))))))) (λt.t))))\n",
      "13: (λr.(λq.((λw.(w (r (r (r (r q)))))) (λe.e))))\n",
      "14: (λq.(λw.((λe.e) (q (q (q (q w)))))))\n",
      "15: (λq.(λw.(q (q (q (q w))))))\n",
      "\n",
      "\n",
      "reduction steps: 15\n",
      "norm term:       (λq.(λw.(q (q (q (q w))))))\n"
     ]
    }
   ],
   "source": [
    "def term_test_5():\n",
    "    return multi_app_term(pred_term(), num_term(5))\n",
    "\n",
    "\n",
    "test_procedure(term_test_5())"
   ],
   "metadata": {
    "collapsed": false
   }
  },
  {
   "cell_type": "markdown",
   "source": [
    "# <span style=\"color: #A1F99C\">6.</span>\n",
    "<span style=\"color:#bb91f3\">(PLUS 0 0)</span> == <span style=\"color:#f1bd47\">0</span> == <span style=\"color:#f1bd47\">λx. λy. y</span>"
   ],
   "metadata": {
    "collapsed": false
   }
  },
  {
   "cell_type": "code",
   "execution_count": 9,
   "outputs": [
    {
     "name": "stdout",
     "output_type": "stream",
     "text": [
      "0: (((λq.(λw.((w (λe.(λr.(λt.(r ((e r) t)))))) q))) (λy.(λu.u))) (λi.(λo.o)))\n",
      "1: ((λe.((e (λr.(λt.(λy.(t ((r t) y)))))) (λu.(λi.i)))) (λq.(λw.w)))\n",
      "2: (((λq.(λw.w)) (λe.(λr.(λt.(r ((e r) t)))))) (λy.(λu.u)))\n",
      "3: ((λq.q) (λw.(λe.e)))\n",
      "4: (λq.(λw.w))\n",
      "\n",
      "\n",
      "reduction steps: 4\n",
      "norm term:       (λq.(λw.w))\n"
     ]
    }
   ],
   "source": [
    "def term_test_6():\n",
    "    return multi_app_term(plus_term(), num_term(0), num_term(0))\n",
    "\n",
    "\n",
    "test_procedure(term_test_6())"
   ],
   "metadata": {
    "collapsed": false
   }
  },
  {
   "cell_type": "markdown",
   "source": [
    "# <span style=\"color: #A1F99C\">7.</span>\n",
    "<span style=\"color:#bb91f3\">(PLUS 2 3)</span> == <span style=\"color:#f1bd47\">5</span> == <span style=\"color:#f1bd47\">λx. λy. (x (x (x (x (x y)))))</span>"
   ],
   "metadata": {
    "collapsed": false
   }
  },
  {
   "cell_type": "code",
   "execution_count": 10,
   "outputs": [
    {
     "name": "stdout",
     "output_type": "stream",
     "text": [
      "0: (((λq.(λw.((w (λe.(λr.(λt.(r ((e r) t)))))) q))) (λy.(λu.(y (y u))))) (λi.(λo.(i (i (i o))))))\n",
      "1: ((λq.((q (λw.(λe.(λr.(e ((w e) r)))))) (λt.(λy.(t (t y)))))) (λu.(λi.(u (u (u i))))))\n",
      "2: (((λq.(λw.(q (q (q w))))) (λe.(λr.(λt.(r ((e r) t)))))) (λy.(λu.(y (y u)))))\n",
      "3: ((λq.((λw.(λe.(λr.(e ((w e) r))))) ((λt.(λy.(λu.(y ((t y) u))))) ((λi.(λo.(λp.(o ((i o) p))))) q)))) (λa.(λs.(a (a s)))))\n",
      "4: ((λu.((λi.(λo.(λp.(o ((i o) p))))) ((λa.(λq.(λw.(q ((a q) w))))) (λe.(λr.(e ((u e) r))))))) (λt.(λy.(t (t y)))))\n",
      "5: ((λq.((λw.(λe.(λr.(e ((w e) r))))) (λt.(λy.(t (((λu.(λi.(u ((q u) i)))) t) y)))))) (λo.(λp.(o (o p)))))\n",
      "6: ((λq.((λw.(λe.(λr.(e ((w e) r))))) (λt.(λy.(t ((λu.(t ((q t) u))) y)))))) (λi.(λo.(i (i o)))))\n",
      "7: ((λw.((λe.(λr.(λt.(r ((e r) t))))) (λy.(λu.(y (y ((w y) u))))))) (λi.(λq.(i (i q)))))\n",
      "8: ((λq.(λw.(λe.(w (((λr.(λt.(r (r ((q r) t))))) w) e))))) (λy.(λu.(y (y u)))))\n",
      "9: ((λq.(λw.(λe.(w ((λr.(w (w ((q w) r)))) e))))) (λt.(λy.(t (t y)))))\n",
      "10: ((λq.(λw.(λe.(w (w (w ((q w) e))))))) (λr.(λt.(r (r t)))))\n",
      "11: (λq.(λw.(q (q (q (((λe.(λr.(e (e r)))) q) w))))))\n",
      "12: (λe.(λq.(e (e (e ((λw.(e (e w))) q))))))\n",
      "13: (λq.(λw.(q (q (q (q (q w)))))))\n",
      "\n",
      "\n",
      "reduction steps: 13\n",
      "norm term:       (λq.(λw.(q (q (q (q (q w)))))))\n"
     ]
    }
   ],
   "source": [
    "def term_test_7():\n",
    "    return multi_app_term(plus_term(), num_term(2), num_term(3))\n",
    "\n",
    "\n",
    "test_procedure(term_test_7())"
   ],
   "metadata": {
    "collapsed": false
   }
  },
  {
   "cell_type": "markdown",
   "source": [
    "# <span style=\"color: #A1F99C\">8.</span>\n",
    "<span style=\"color:#bb91f3\">(SUBTRACT 4 1)</span> == <span style=\"color:#f1bd47\">3</span> == <span style=\"color:#f1bd47\">λx. λy. (x (x (x y)))</span>"
   ],
   "metadata": {
    "collapsed": false
   }
  },
  {
   "cell_type": "code",
   "execution_count": 11,
   "outputs": [
    {
     "name": "stdout",
     "output_type": "stream",
     "text": [
      "0: (((λq.(λw.((w (λe.(λr.(λt.(((e (λy.(λu.(u (y r))))) (λi.t)) (λo.o)))))) q))) (λp.(λa.(p (p (p (p a))))))) (λs.(λd.(s d))))\n",
      "1: ((λw.((w (λe.(λr.(λt.(((e (λy.(λu.(u (y r))))) (λi.t)) (λo.o)))))) (λp.(λa.(p (p (p (p a)))))))) (λs.(λq.(s q))))\n",
      "2: (((λq.(λw.(q w))) (λe.(λr.(λt.(((e (λy.(λu.(u (y r))))) (λi.t)) (λo.o)))))) (λp.(λa.(p (p (p (p a)))))))\n",
      "3: ((λq.((λw.(λe.(λr.(((w (λt.(λy.(y (t e))))) (λu.r)) (λi.i))))) q)) (λo.(λp.(o (o (o (o p)))))))\n",
      "4: ((λq.(λw.(λe.(((q (λr.(λt.(t (r w))))) (λy.e)) (λu.u))))) (λi.(λo.(i (i (i (i o)))))))\n",
      "5: (λi.(λq.((((λw.(λe.(w (w (w (w e)))))) (λr.(λt.(t (r i))))) (λy.q)) (λu.u))))\n",
      "6: (λq.(λw.(((λe.((λr.(λt.(t (r q)))) ((λy.(λu.(u (y q)))) ((λi.(λo.(o (i q)))) ((λp.(λa.(a (p q)))) e))))) (λs.w)) (λd.d))))\n",
      "7: (λq.(λw.(((λe.((λr.(λt.(t (r q)))) ((λy.(λu.(u (y q)))) ((λi.(λo.(o (i q)))) (λp.(p (e q))))))) (λa.w)) (λs.s))))\n",
      "8: (λq.(λw.(((λe.((λr.(λt.(t (r q)))) ((λy.(λu.(u (y q)))) (λi.(i ((λo.(o (e q))) q)))))) (λp.w)) (λa.a))))\n",
      "9: (λq.(λw.(((λe.((λr.(λt.(t (r q)))) ((λy.(λu.(u (y q)))) (λi.(i (q (e q))))))) (λo.w)) (λp.p))))\n",
      "10: (λq.(λw.(((λe.((λr.(λt.(t (r q)))) (λy.(y ((λu.(u (q (e q)))) q))))) (λi.w)) (λo.o))))\n",
      "11: (λu.(λi.(((λq.((λw.(λe.(e (w u)))) (λr.(r (u (u (q u))))))) (λt.i)) (λy.y))))\n",
      "12: (λq.(λw.(((λe.(λr.(r ((λt.(t (q (q (e q))))) q)))) (λy.w)) (λu.u))))\n",
      "13: (λq.(λw.(((λe.(λr.(r (q (q (q (e q))))))) (λt.w)) (λy.y))))\n",
      "14: (λq.(λw.((λe.(e (q (q (q ((λr.w) q)))))) (λt.t))))\n",
      "15: (λq.(λw.((λe.(e (q (q (q w))))) (λr.r))))\n",
      "16: (λq.(λw.((λe.e) (q (q (q w))))))\n",
      "17: (λw.(λq.(w (w (w q)))))\n",
      "\n",
      "\n",
      "reduction steps: 17\n",
      "norm term:       (λw.(λq.(w (w (w q)))))\n"
     ]
    }
   ],
   "source": [
    "def term_test_8():\n",
    "    return multi_app_term(subtract_term(), num_term(4), num_term(1))\n",
    "\n",
    "\n",
    "test_procedure(term_test_8())"
   ],
   "metadata": {
    "collapsed": false
   }
  },
  {
   "cell_type": "markdown",
   "source": [
    "# <span style=\"color: #A1F99C\">9.</span>\n",
    "<span style=\"color:#bb91f3\">(SUBTRACT 3 5)</span> == <span style=\"color:#f1bd47\">0</span> == <span style=\"color:#f1bd47\">λx. λy. y</span>"
   ],
   "metadata": {
    "collapsed": false
   }
  },
  {
   "cell_type": "code",
   "execution_count": 12,
   "outputs": [
    {
     "name": "stdout",
     "output_type": "stream",
     "text": [
      "0: (((λq.(λw.((w (λe.(λr.(λt.(((e (λy.(λu.(u (y r))))) (λi.t)) (λo.o)))))) q))) (λp.(λa.(p (p (p a)))))) (λs.(λd.(s (s (s (s (s d))))))))\n",
      "1: ((λu.((u (λi.(λo.(λp.(((i (λa.(λs.(s (a o))))) (λq.p)) (λw.w)))))) (λe.(λr.(e (e (e r))))))) (λt.(λy.(t (t (t (t (t y))))))))\n",
      "2: (((λq.(λw.(q (q (q (q (q w))))))) (λe.(λr.(λt.(((e (λy.(λu.(u (y r))))) (λi.t)) (λo.o)))))) (λp.(λa.(p (p (p a))))))\n",
      "3: ((λb.((λn.(λm.(λq_1.(((n (λw_1.(λe_1.(e_1 (w_1 m))))) (λr_1.q_1)) (λt_1.t_1))))) ((λy_1.(λu_1.(λi_1.(((y_1 (λo_1.(λp_1.(p_1 (o_1 u_1))))) (λa_1.i_1)) (λs_1.s_1))))) ((λq.(λw.(λe.(((q (λr.(λt.(t (r w))))) (λy.e)) (λu.u))))) ((λi.(λo.(λp.(((i (λa.(λs.(s (a o))))) (λd.p)) (λf.f))))) ((λg.(λh.(λj.(((g (λk.(λl.(l (k h))))) (λz.j)) (λx.x))))) b)))))) (λc.(λv.(c (c (c v))))))\n",
      "4: ((λq.((λw.(λe.(λr.(((w (λt.(λy.(y (t e))))) (λu.r)) (λi.i))))) ((λo.(λp.(λa.(((o (λs.(λd.(d (s p))))) (λf.a)) (λg.g))))) ((λh.(λj.(λk.(((h (λl.(λz.(z (l j))))) (λx.k)) (λc.c))))) ((λv.(λb.(λn.(((v (λm.(λq_1.(q_1 (m b))))) (λw_1.n)) (λe_1.e_1))))) (λr_1.(λt_1.(((q (λy_1.(λu_1.(u_1 (y_1 r_1))))) (λi_1.t_1)) (λo_1.o_1))))))))) (λp_1.(λa_1.(p_1 (p_1 (p_1 a_1))))))\n",
      "5: ((λq.((λw.(λe.(λr.(((w (λt.(λy.(y (t e))))) (λu.r)) (λi.i))))) ((λo.(λp.(λa.(((o (λs.(λd.(d (s p))))) (λf.a)) (λg.g))))) ((λh.(λj.(λk.(((h (λl.(λz.(z (l j))))) (λx.k)) (λc.c))))) (λv.(λb.((((λn.(λm.(((q (λq_1.(λw_1.(w_1 (q_1 n))))) (λe_1.m)) (λr_1.r_1)))) (λt_1.(λy_1.(y_1 (t_1 v))))) (λu_1.b)) (λi_1.i_1)))))))) (λo_1.(λp_1.(o_1 (o_1 (o_1 p_1))))))\n",
      "6: ((λr.((λt.(λy.(λu.(((t (λi.(λo.(o (i y))))) (λp.u)) (λa.a))))) ((λs.(λd.(λf.(((s (λg.(λh.(h (g d))))) (λj.f)) (λk.k))))) ((λl.(λz.(λx.(((l (λc.(λv.(v (c z))))) (λb.x)) (λn.n))))) (λm.(λq_1.(((λw_1.(((r (λe_1.(λr_1.(r_1 (e_1 (λt_1.(λy_1.(y_1 (t_1 m))))))))) (λu_1.w_1)) (λi_1.i_1))) (λo_1.q_1)) (λq.q)))))))) (λw.(λe.(w (w (w e))))))\n",
      "7: ((λq.((λw.(λe.(λr.(((w (λt.(λy.(y (t e))))) (λu.r)) (λi.i))))) ((λo.(λp.(λa.(((o (λs.(λd.(d (s p))))) (λf.a)) (λg.g))))) ((λh.(λj.(λk.(((h (λl.(λz.(z (l j))))) (λx.k)) (λc.c))))) (λv.(λb.((((q (λn.(λm.(m (n (λq_1.(λw_1.(w_1 (q_1 v))))))))) (λe_1.(λr_1.b))) (λt_1.t_1)) (λy_1.y_1)))))))) (λu_1.(λi_1.(u_1 (u_1 (u_1 i_1))))))\n",
      "8: ((λq.((λw.(λe.(λr.(((w (λt.(λy.(y (t e))))) (λu.r)) (λi.i))))) ((λo.(λp.(λa.(((o (λs.(λd.(d (s p))))) (λf.a)) (λg.g))))) (λh.(λj.((((λk.(λl.((((q (λz.(λx.(x (z (λc.(λv.(v (c k))))))))) (λb.(λn.l))) (λm.m)) (λq_1.q_1)))) (λw_1.(λe_1.(e_1 (w_1 h))))) (λr_1.j)) (λt_1.t_1))))))) (λy_1.(λu_1.(y_1 (y_1 (y_1 u_1))))))\n",
      "9: ((λq.((λw.(λe.(λr.(((w (λt.(λy.(y (t e))))) (λu.r)) (λi.i))))) ((λo.(λp.(λa.(((o (λs.(λd.(d (s p))))) (λf.a)) (λg.g))))) (λh.(λj.(((λk.((((q (λl.(λz.(z (l (λx.(λc.(c (x (λv.(λb.(b (v h))))))))))))) (λn.(λm.k))) (λq_1.q_1)) (λw_1.w_1))) (λe_1.j)) (λr_1.r_1))))))) (λt_1.(λy_1.(t_1 (t_1 (t_1 y_1))))))\n",
      "10: ((λy.((λu.(λi.(λo.(((u (λp.(λa.(a (p i))))) (λs.o)) (λd.d))))) ((λf.(λg.(λh.(((f (λj.(λk.(k (j g))))) (λl.h)) (λz.z))))) (λx.(λc.(((((y (λv.(λb.(b (v (λn.(λm.(m (n (λq_1.(λw_1.(w_1 (q_1 x))))))))))))) (λe_1.(λr_1.(λt_1.c)))) (λq.q)) (λw.w)) (λe.e))))))) (λr.(λt.(r (r (r t))))))\n",
      "11: ((λq.((λw.(λe.(λr.(((w (λt.(λy.(y (t e))))) (λu.r)) (λi.i))))) (λo.(λp.((((λa.(λs.(((((q (λd.(λf.(f (d (λg.(λh.(h (g (λj.(λk.(k (j a))))))))))))) (λl.(λz.(λx.s)))) (λc.c)) (λv.v)) (λb.b)))) (λn.(λm.(m (n o))))) (λq_1.p)) (λw_1.w_1)))))) (λe_1.(λr_1.(e_1 (e_1 (e_1 r_1))))))\n",
      "12: ((λq.((λw.(λe.(λr.(((w (λt.(λy.(y (t e))))) (λu.r)) (λi.i))))) (λo.(λp.(((λa.(((((q (λs.(λd.(d (s (λf.(λg.(g (f (λh.(λj.(j (h (λk.(λl.(l (k o))))))))))))))))) (λz.(λx.(λc.a)))) (λv.v)) (λb.b)) (λn.n))) (λm.p)) (λq_1.q_1)))))) (λw_1.(λe_1.(w_1 (w_1 (w_1 e_1))))))\n",
      "13: ((λq.((λw.(λe.(λr.(((w (λt.(λy.(y (t e))))) (λu.r)) (λi.i))))) (λo.(λp.((((((q (λa.(λs.(s (a (λd.(λf.(f (d (λg.(λh.(h (g (λj.(λk.(k (j o))))))))))))))))) (λl.(λz.(λx.(λc.p))))) (λv.v)) (λb.b)) (λn.n)) (λm.m)))))) (λq_1.(λw_1.(q_1 (q_1 (q_1 w_1))))))\n",
      "14: ((λq.(λw.(λe.((((λr.(λt.((((((q (λy.(λu.(u (y (λi.(λo.(o (i (λp.(λa.(a (p (λs.(λd.(d (s r))))))))))))))))) (λf.(λg.(λh.(λj.t))))) (λk.k)) (λl.l)) (λz.z)) (λx.x)))) (λc.(λv.(v (c w))))) (λb.e)) (λn.n))))) (λm.(λq_1.(m (m (m q_1))))))\n",
      "15: ((λk.(λl.(λz.(((λx.((((((k (λc.(λv.(v (c (λb.(λn.(n (b (λm.(λq.(q (m (λw.(λe.(e (w (λr.(λt.(t (r l))))))))))))))))))))) (λy.(λu.(λi.(λo.x))))) (λp.p)) (λa.a)) (λs.s)) (λd.d))) (λf.z)) (λg.g))))) (λh.(λj.(h (h (h j))))))\n",
      "16: ((λq.(λw.(λe.(((((((q (λr.(λt.(t (r (λy.(λu.(u (y (λi.(λo.(o (i (λp.(λa.(a (p (λs.(λd.(d (s w))))))))))))))))))))) (λf.(λg.(λh.(λj.(λk.e)))))) (λl.l)) (λz.z)) (λx.x)) (λc.c)) (λv.v))))) (λb.(λn.(b (b (b n))))))\n",
      "17: (λq.(λw.((((((((λe.(λr.(e (e (e r))))) (λt.(λy.(y (t (λu.(λi.(i (u (λo.(λp.(p (o (λa.(λs.(s (a (λd.(λf.(f (d q))))))))))))))))))))) (λg.(λh.(λj.(λk.(λl.w)))))) (λz.z)) (λx.x)) (λc.c)) (λv.v)) (λb.b))))\n",
      "18: (λq.(λw.(((((((λe.((λr.(λt.(t (r (λy.(λu.(u (y (λi.(λo.(o (i (λp.(λa.(a (p (λs.(λd.(d (s q)))))))))))))))))))) ((λf.(λg.(g (f (λh.(λj.(j (h (λk.(λl.(l (k (λz.(λx.(x (z (λc.(λv.(v (c q)))))))))))))))))))) ((λb.(λn.(n (b (λm.(λq_1.(q_1 (m (λw_1.(λe_1.(e_1 (w_1 (λr_1.(λt_1.(t_1 (r_1 (λy_1.(λu_1.(u_1 (y_1 q)))))))))))))))))))) e)))) (λi_1.(λo_1.(λp_1.(λa_1.(λs_1.w)))))) (λd_1.d_1)) (λf_1.f_1)) (λg_1.g_1)) (λh_1.h_1)) (λj_1.j_1))))\n",
      "19: (λb.(λn.(((((((λm.((λq_1.(λw_1.(w_1 (q_1 (λe_1.(λr_1.(r_1 (e_1 (λt_1.(λy_1.(y_1 (t_1 (λu_1.(λi_1.(i_1 (u_1 (λo_1.(λp_1.(p_1 (o_1 b)))))))))))))))))))) ((λa_1.(λs_1.(s_1 (a_1 (λd_1.(λf_1.(f_1 (d_1 (λg_1.(λh_1.(h_1 (g_1 (λq.(λw.(w (q (λe.(λr.(r (e b)))))))))))))))))))) (λt.(t (m (λy.(λu.(u (y (λi.(λo.(o (i (λp.(λa.(a (p (λs.(λd.(d (s b)))))))))))))))))))))) (λf.(λg.(λh.(λj.(λk.n)))))) (λl.l)) (λz.z)) (λx.x)) (λc.c)) (λv.v))))\n",
      "20: (λq.(λw.(((((((λe.((λr.(λt.(t (r (λy.(λu.(u (y (λi.(λo.(o (i (λp.(λa.(a (p (λs.(λd.(d (s q)))))))))))))))))))) (λf.(f ((λg.(g (e (λh.(λj.(j (h (λk.(λl.(l (k (λz.(λx.(x (z (λc.(λv.(v (c q))))))))))))))))))) (λb.(λn.(n (b (λm.(λq_1.(q_1 (m (λw_1.(λe_1.(e_1 (w_1 (λr_1.(λt_1.(t_1 (r_1 q))))))))))))))))))))) (λy_1.(λu_1.(λi_1.(λo_1.(λp_1.w)))))) (λa_1.a_1)) (λs_1.s_1)) (λd_1.d_1)) (λf_1.f_1)) (λg_1.g_1))))\n",
      "21: (λq.(λw.(((((((λe.((λr.(λt.(t (r (λy.(λu.(u (y (λi.(λo.(o (i (λp.(λa.(a (p (λs.(λd.(d (s q)))))))))))))))))))) (λf.(f ((λg.(λh.(h (g (λj.(λk.(k (j (λl.(λz.(z (l (λx.(λc.(c (x q)))))))))))))))) (e (λv.(λb.(b (v (λn.(λm.(m (n (λq_1.(λw_1.(w_1 (q_1 (λe_1.(λr_1.(r_1 (e_1 q)))))))))))))))))))))) (λt_1.(λy_1.(λu_1.(λi_1.(λo_1.w)))))) (λp_1.p_1)) (λa_1.a_1)) (λs_1.s_1)) (λd_1.d_1)) (λf_1.f_1))))\n",
      "22: (λh.(λj.(((((((λk.((λl.(λz.(z (l (λx.(λc.(c (x (λv.(λb.(b (v (λn.(λm.(m (n (λq_1.(λw_1.(w_1 (q_1 h)))))))))))))))))))) (λe_1.(e_1 (λr_1.(r_1 ((k (λt_1.(λy_1.(y_1 (t_1 (λu_1.(λi_1.(i_1 (u_1 (λo_1.(λp_1.(p_1 (o_1 (λa_1.(λs_1.(s_1 (a_1 h))))))))))))))))) (λd_1.(λq.(q (d_1 (λw.(λe.(e (w (λr.(λt.(t (r h))))))))))))))))))) (λy.(λu.(λi.(λo.(λp.j)))))) (λa.a)) (λs.s)) (λd.d)) (λf.f)) (λg.g))))\n",
      "23: (λq.(λw.(((((((λe.(λr.(r ((λt.(t (λy.(y ((e (λu.(λi.(i (u (λo.(λp.(p (o (λa.(λs.(s (a (λd.(λf.(f (d q))))))))))))))))) (λg.(λh.(h (g (λj.(λk.(k (j (λl.(λz.(z (l q))))))))))))))))) (λx.(λc.(c (x (λv.(λb.(b (v (λn.(λm.(m (n (λq_1.(λw_1.(w_1 (q_1 q)))))))))))))))))))) (λe_1.(λr_1.(λt_1.(λy_1.(λu_1.w)))))) (λi_1.i_1)) (λo_1.o_1)) (λp_1.p_1)) (λa_1.a_1)) (λs_1.s_1))))\n",
      "24: (λq.(λw.(((((((λe.(λr.(r ((λt.(λy.(y (t (λu.(λi.(i (u (λo.(λp.(p (o (λa.(λs.(s (a q)))))))))))))))) (λd.(d ((e (λf.(λg.(g (f (λh.(λj.(j (h (λk.(λl.(l (k (λz.(λx.(x (z q))))))))))))))))) (λc.(λv.(v (c (λb.(λn.(n (b (λm.(λq_1.(q_1 (m q))))))))))))))))))) (λw_1.(λe_1.(λr_1.(λt_1.(λy_1.w)))))) (λu_1.u_1)) (λi_1.i_1)) (λo_1.o_1)) (λp_1.p_1)) (λa_1.a_1))))\n",
      "25: (λq.(λw.(((((((λe.(λr.(r (λt.(t ((λy.(y ((e (λu.(λi.(i (u (λo.(λp.(p (o (λa.(λs.(s (a (λd.(λf.(f (d q))))))))))))))))) (λg.(λh.(h (g (λj.(λk.(k (j (λl.(λz.(z (l q))))))))))))))) (λx.(λc.(c (x (λv.(λb.(b (v (λn.(λm.(m (n q)))))))))))))))))) (λq_1.(λw_1.(λe_1.(λr_1.(λt_1.w)))))) (λy_1.y_1)) (λu_1.u_1)) (λi_1.i_1)) (λo_1.o_1)) (λp_1.p_1))))\n",
      "26: (λi_1.(λo_1.(((((((λq.(λw.(w (λe.(e ((λr.(λt.(t (r (λy.(λu.(u (y (λi.(λo.(o (i i_1)))))))))))) ((q (λp.(λa.(a (p (λs.(λd.(d (s (λf.(λg.(g (f (λh.(λj.(j (h i_1))))))))))))))))) (λk.(λl.(l (k (λz.(λx.(x (z (λc.(λv.(v (c i_1))))))))))))))))))) (λb.(λn.(λm.(λq_1.(λw_1.o_1)))))) (λe_1.e_1)) (λr_1.r_1)) (λt_1.t_1)) (λy_1.y_1)) (λu_1.u_1))))\n",
      "27: (λq.(λw.(((((((λe.(λr.(r (λt.(t (λy.(y (((e (λu.(λi.(i (u (λo.(λp.(p (o (λa.(λs.(s (a (λd.(λf.(f (d q))))))))))))))))) (λg.(λh.(h (g (λj.(λk.(k (j (λl.(λz.(z (l q))))))))))))) (λx.(λc.(c (x (λv.(λb.(b (v q)))))))))))))))) (λn.(λm.(λq_1.(λw_1.(λe_1.w)))))) (λr_1.r_1)) (λt_1.t_1)) (λy_1.y_1)) (λu_1.u_1)) (λi_1.i_1))))\n",
      "28: (λq.(λw.((((((λe.(e (λr.(r (λt.(t ((((λy.(λu.(λi.(λo.(λp.w))))) (λa.(λs.(s (a (λd.(λf.(f (d (λg.(λh.(h (g (λj.(λk.(k (j q))))))))))))))))) (λl.(λz.(z (l (λx.(λc.(c (x (λv.(λb.(b (v q))))))))))))) (λn.(λm.(m (n (λq_1.(λw_1.(w_1 (q_1 q))))))))))))))) (λe_1.e_1)) (λr_1.r_1)) (λt_1.t_1)) (λy_1.y_1)) (λu_1.u_1))))\n",
      "29: (λq.(λw.((((((λe.(e (λr.(r (λt.(t (((λy.(λu.(λi.(λo.w)))) (λp.(λa.(a (p (λs.(λd.(d (s (λf.(λg.(g (f q))))))))))))) (λh.(λj.(j (h (λk.(λl.(l (k q))))))))))))))) (λz.z)) (λx.x)) (λc.c)) (λv.v)) (λb.b))))\n",
      "30: (λf.(λg.((((((λh.(h (λj.(j (λq.(q ((λw.(λe.(λr.g))) (λt.(λy.(y (t (λu.(λi.(i (u f))))))))))))))) (λo.o)) (λp.p)) (λa.a)) (λs.s)) (λd.d))))\n",
      "31: (λq.(λw.((((((λe.(e (λr.(r (λt.(t (λy.(λu.w)))))))) (λi.i)) (λo.o)) (λp.p)) (λa.a)) (λs.s))))\n",
      "32: (λt.(λy.((((((λu.u) (λi.(i (λo.(o (λp.(λa.y))))))) (λq.q)) (λw.w)) (λe.e)) (λr.r))))\n",
      "33: (λq.(λw.(((((λe.(e (λr.(r (λt.(λy.w)))))) (λu.u)) (λi.i)) (λo.o)) (λp.p))))\n",
      "34: (λq.(λw.(((((λe.e) (λr.(r (λt.(λy.w))))) (λu.u)) (λi.i)) (λo.o))))\n",
      "35: (λq.(λw.((((λe.(e (λr.(λt.w)))) (λy.y)) (λu.u)) (λi.i))))\n",
      "36: (λu.(λq.((((λw.w) (λe.(λr.q))) (λt.t)) (λy.y))))\n",
      "37: (λq.(λw.(((λe.(λr.w)) (λt.t)) (λy.y))))\n",
      "38: (λq.(λw.((λe.w) (λr.r))))\n",
      "39: (λq.(λw.w))\n",
      "\n",
      "\n",
      "reduction steps: 39\n",
      "norm term:       (λq.(λw.w))\n"
     ]
    }
   ],
   "source": [
    "def term_test_9():\n",
    "    return multi_app_term(subtract_term(), num_term(3), num_term(5))\n",
    "\n",
    "\n",
    "test_procedure(term_test_9())"
   ],
   "metadata": {
    "collapsed": false
   }
  },
  {
   "cell_type": "markdown",
   "source": [
    "# <span style=\"color: #A1F99C\">10.</span>\n",
    "<span style=\"color:#bb91f3\">(LEQ 3 2)</span> == <span style=\"color:#f1bd47\">FALSE</span> == <span style=\"color:#f1bd47\">λx. λy. y</span>"
   ],
   "metadata": {
    "collapsed": false
   }
  },
  {
   "cell_type": "code",
   "execution_count": 13,
   "outputs": [
    {
     "name": "stdout",
     "output_type": "stream",
     "text": [
      "0: (((λq.(λw.((λe.((e (λr.(λt.(λy.y)))) (λu.(λi.u)))) (((λo.(λp.((p (λa.(λs.(λd.(((a (λf.(λg.(g (f s))))) (λh.d)) (λj.j)))))) o))) q) w)))) (λk.(λl.(k (k (k l)))))) (λz.(λx.(z (z x)))))\n",
      "1: (((λh.(λj.((λk.((k (λl.(λz.(λq.q)))) (λw.(λe.w)))) ((λr.((r (λt.(λy.(λu.(((t (λi.(λo.(o (i y))))) (λp.u)) (λa.a)))))) h)) j)))) (λs.(λd.(s (s (s d)))))) (λf.(λg.(f (f g)))))\n",
      "2: (((λq.(λw.((λe.((e (λr.(λt.(λy.y)))) (λu.(λi.u)))) ((w (λo.(λp.(λa.(((o (λs.(λd.(d (s p))))) (λf.a)) (λg.g)))))) q)))) (λh.(λj.(h (h (h j)))))) (λk.(λl.(k (k l)))))\n",
      "3: (((λq.(λw.((((w (λe.(λr.(λt.(((e (λy.(λu.(u (y r))))) (λi.t)) (λo.o)))))) q) (λp.(λa.(λs.s)))) (λd.(λf.d))))) (λg.(λh.(g (g (g h)))))) (λj.(λk.(j (j k)))))\n",
      "4: ((λy.((((y (λu.(λi.(λo.(((u (λp.(λa.(a (p i))))) (λs.o)) (λd.d)))))) (λf.(λg.(f (f (f g)))))) (λh.(λj.(λq.q)))) (λw.(λe.w)))) (λr.(λt.(r (r t)))))\n",
      "5: (((((λq.(λw.(q (q w)))) (λe.(λr.(λt.(((e (λy.(λu.(u (y r))))) (λi.t)) (λo.o)))))) (λp.(λa.(p (p (p a)))))) (λs.(λd.(λf.f)))) (λg.(λh.g)))\n",
      "6: ((((λq.((λw.(λe.(λr.(((w (λt.(λy.(y (t e))))) (λu.r)) (λi.i))))) ((λo.(λp.(λa.(((o (λs.(λd.(d (s p))))) (λf.a)) (λg.g))))) q))) (λh.(λj.(h (h (h j)))))) (λk.(λl.(λz.z)))) (λx.(λc.x)))\n",
      "7: ((((λq.((λw.(λe.(λr.(((w (λt.(λy.(y (t e))))) (λu.r)) (λi.i))))) (λo.(λp.(((q (λa.(λs.(s (a o))))) (λd.p)) (λf.f)))))) (λg.(λh.(g (g (g h)))))) (λj.(λk.(λl.l)))) (λz.(λx.z)))\n",
      "8: ((((λq.(λw.(λe.((((λr.(λt.(((q (λy.(λu.(u (y r))))) (λi.t)) (λo.o)))) (λp.(λa.(a (p w))))) (λs.e)) (λd.d))))) (λf.(λg.(f (f (f g)))))) (λh.(λj.(λk.k)))) (λl.(λz.l)))\n",
      "9: ((((λq.(λw.(λe.(((λr.(((q (λt.(λy.(y (t (λu.(λi.(i (u w))))))))) (λo.r)) (λp.p))) (λa.e)) (λs.s))))) (λd.(λf.(d (d (d f)))))) (λg.(λh.(λj.j)))) (λk.(λl.k)))\n",
      "10: ((((λq.(λw.(λe.((((q (λr.(λt.(t (r (λy.(λu.(u (y w))))))))) (λi.(λo.e))) (λp.p)) (λa.a))))) (λs.(λd.(s (s (s d)))))) (λf.(λg.(λh.h)))) (λj.(λk.j)))\n",
      "11: (((λa.(λs.(((((λd.(λf.(d (d (d f))))) (λg.(λh.(h (g (λj.(λq.(q (j a))))))))) (λw.(λe.s))) (λr.r)) (λt.t)))) (λy.(λu.(λi.i)))) (λo.(λp.o)))\n",
      "12: (((λq.(λw.((((λe.((λr.(λt.(t (r (λy.(λu.(u (y q)))))))) ((λi.(λo.(o (i (λp.(λa.(a (p q)))))))) ((λs.(λd.(d (s (λf.(λg.(g (f q)))))))) e)))) (λh.(λj.w))) (λk.k)) (λl.l)))) (λz.(λx.(λc.c)))) (λv.(λb.v)))\n",
      "13: (((λq.(λw.((((λe.((λr.(λt.(t (r (λy.(λu.(u (y q)))))))) ((λi.(λo.(o (i (λp.(λa.(a (p q)))))))) (λs.(s (e (λd.(λf.(f (d q)))))))))) (λg.(λh.w))) (λj.j)) (λk.k)))) (λl.(λz.(λx.x)))) (λc.(λv.c)))\n",
      "14: (((λh.(λj.((((λk.((λl.(λz.(z (l (λx.(λc.(c (x h)))))))) (λq.(q ((λw.(w (k (λe.(λr.(r (e h))))))) (λt.(λy.(y (t h))))))))) (λu.(λi.j))) (λo.o)) (λp.p)))) (λa.(λs.(λd.d)))) (λf.(λg.f)))\n",
      "15: (((λq.(λw.((((λe.((λr.(λt.(t (r (λy.(λu.(u (y q)))))))) (λi.(i ((λo.(λp.(p (o q)))) (e (λa.(λs.(s (a q)))))))))) (λd.(λf.w))) (λg.g)) (λh.h)))) (λj.(λk.(λl.l)))) (λz.(λx.z)))\n",
      "16: (((λq.(λw.((((λe.((λr.(λt.(t (r (λy.(λu.(u (y q)))))))) (λi.(i (λo.(o ((e (λp.(λa.(a (p q))))) q))))))) (λs.(λd.w))) (λf.f)) (λg.g)))) (λh.(λj.(λk.k)))) (λl.(λz.l)))\n",
      "17: (((λq.(λw.((((λe.(λr.(r ((λt.(t (λy.(y ((e (λu.(λi.(i (u q))))) q))))) (λo.(λp.(p (o q)))))))) (λa.(λs.w))) (λd.d)) (λf.f)))) (λg.(λh.(λj.j)))) (λk.(λl.k)))\n",
      "18: (((λq.(λw.((((λe.(λr.(r ((λt.(λy.(y (t q)))) (λu.(u ((e (λi.(λo.(o (i q))))) q))))))) (λp.(λa.w))) (λs.s)) (λd.d)))) (λf.(λg.(λh.h)))) (λj.(λk.j)))\n",
      "19: (((λg.(λh.((((λj.(λq.(q (λw.(w ((λe.(e ((j (λr.(λt.(t (r g))))) g))) g)))))) (λy.(λu.h))) (λi.i)) (λo.o)))) (λp.(λa.(λs.s)))) (λd.(λf.d)))\n",
      "20: (((λq.(λw.((((λe.(λr.(r (λt.(t (q ((e (λy.(λu.(u (y q))))) q))))))) (λi.(λo.w))) (λp.p)) (λa.a)))) (λs.(λd.(λf.f)))) (λg.(λh.g)))\n",
      "21: (((λf.(λg.(((λq.(q (λw.(w (f (((λe.(λr.g)) (λt.(λy.(y (t f))))) f)))))) (λu.u)) (λi.i)))) (λo.(λp.(λa.a)))) (λs.(λd.s)))\n",
      "22: (((λq.(λw.(((λe.(e (λr.(r (q ((λt.w) q)))))) (λy.y)) (λu.u)))) (λi.(λo.(λp.p)))) (λa.(λs.a)))\n",
      "23: (((λt.(λy.(((λu.(u (λi.(i (t y))))) (λo.o)) (λp.p)))) (λa.(λq.(λw.w)))) (λe.(λr.e)))\n",
      "24: (((λq.(λw.(((λe.e) (λr.(r (q w)))) (λt.t)))) (λy.(λu.(λi.i)))) (λo.(λp.o)))\n",
      "25: (((λq.(λw.((λe.(e (q w))) (λr.r)))) (λt.(λy.(λu.u)))) (λi.(λo.i)))\n",
      "26: (((λq.(λw.((λe.e) (q w)))) (λr.(λt.(λy.y)))) (λu.(λi.u)))\n",
      "27: (((λu.(λq.(u q))) (λw.(λe.(λr.r)))) (λt.(λy.t)))\n",
      "28: ((λq.((λw.(λe.(λr.r))) q)) (λt.(λy.t)))\n",
      "29: ((λq.(λw.(λe.e))) (λr.(λt.r)))\n",
      "30: (λq.(λw.w))\n",
      "\n",
      "\n",
      "reduction steps: 30\n",
      "norm term:       (λq.(λw.w))\n"
     ]
    }
   ],
   "source": [
    "def term_test_10():\n",
    "    return multi_app_term(leq_term(), num_term(3), num_term(2))\n",
    "\n",
    "\n",
    "test_procedure(term_test_10())"
   ],
   "metadata": {
    "collapsed": false
   }
  },
  {
   "cell_type": "markdown",
   "source": [
    "# <span style=\"color: #A1F99C\">11.</span>\n",
    "<span style=\"color:#bb91f3\">(LEQ 2 5)</span> == <span style=\"color:#f1bd47\">TRUE</span> == <span style=\"color:#f1bd47\">λx. λy. x</span>"
   ],
   "metadata": {
    "collapsed": false
   }
  },
  {
   "cell_type": "code",
   "execution_count": 14,
   "outputs": [
    {
     "name": "stdout",
     "output_type": "stream",
     "text": [
      "0: (((λq.(λw.((λe.((e (λr.(λt.(λy.y)))) (λu.(λi.u)))) (((λo.(λp.((p (λa.(λs.(λd.(((a (λf.(λg.(g (f s))))) (λh.d)) (λj.j)))))) o))) q) w)))) (λk.(λl.(k (k l))))) (λz.(λx.(z (z (z (z (z x))))))))\n",
      "1: (((λj.(λk.((λl.((l (λz.(λq.(λw.w)))) (λe.(λr.e)))) ((λt.((t (λy.(λu.(λi.(((y (λo.(λp.(p (o u))))) (λa.i)) (λs.s)))))) j)) k)))) (λd.(λf.(d (d f))))) (λg.(λh.(g (g (g (g (g h))))))))\n",
      "2: (((λq.(λw.((λe.((e (λr.(λt.(λy.y)))) (λu.(λi.u)))) ((w (λo.(λp.(λa.(((o (λs.(λd.(d (s p))))) (λf.a)) (λg.g)))))) q)))) (λh.(λj.(h (h j))))) (λk.(λl.(k (k (k (k (k l))))))))\n",
      "3: (((λq.(λw.((((w (λe.(λr.(λt.(((e (λy.(λu.(u (y r))))) (λi.t)) (λo.o)))))) q) (λp.(λa.(λs.s)))) (λd.(λf.d))))) (λg.(λh.(g (g h))))) (λj.(λk.(j (j (j (j (j k))))))))\n",
      "4: ((λu.((((u (λi.(λo.(λp.(((i (λa.(λs.(s (a o))))) (λd.p)) (λf.f)))))) (λg.(λh.(g (g h))))) (λj.(λq.(λw.w)))) (λe.(λr.e)))) (λt.(λy.(t (t (t (t (t y))))))))\n",
      "5: (((((λq.(λw.(q (q (q (q (q w))))))) (λe.(λr.(λt.(((e (λy.(λu.(u (y r))))) (λi.t)) (λo.o)))))) (λp.(λa.(p (p a))))) (λs.(λd.(λf.f)))) (λg.(λh.g)))\n",
      "6: ((((λw.((λe.(λr.(λt.(((e (λy.(λu.(u (y r))))) (λi.t)) (λo.o))))) ((λp.(λa.(λs.(((p (λd.(λf.(f (d a))))) (λg.s)) (λh.h))))) ((λj.(λk.(λl.(((j (λz.(λx.(x (z k))))) (λc.l)) (λv.v))))) ((λb.(λn.(λm.(((b (λq_1.(λw_1.(w_1 (q_1 n))))) (λe_1.m)) (λr_1.r_1))))) ((λt_1.(λy_1.(λu_1.(((t_1 (λi_1.(λo_1.(o_1 (i_1 y_1))))) (λp_1.u_1)) (λa_1.a_1))))) w)))))) (λs_1.(λd_1.(s_1 (s_1 d_1))))) (λf_1.(λg_1.(λh_1.h_1)))) (λj_1.(λq.j_1)))\n",
      "7: ((((λq.((λw.(λe.(λr.(((w (λt.(λy.(y (t e))))) (λu.r)) (λi.i))))) ((λo.(λp.(λa.(((o (λs.(λd.(d (s p))))) (λf.a)) (λg.g))))) ((λh.(λj.(λk.(((h (λl.(λz.(z (l j))))) (λx.k)) (λc.c))))) ((λv.(λb.(λn.(((v (λm.(λq_1.(q_1 (m b))))) (λw_1.n)) (λe_1.e_1))))) (λr_1.(λt_1.(((q (λy_1.(λu_1.(u_1 (y_1 r_1))))) (λi_1.t_1)) (λo_1.o_1))))))))) (λp_1.(λa_1.(p_1 (p_1 a_1))))) (λs_1.(λd_1.(λf_1.f_1)))) (λg_1.(λh_1.g_1)))\n",
      "8: ((((λq.((λw.(λe.(λr.(((w (λt.(λy.(y (t e))))) (λu.r)) (λi.i))))) ((λo.(λp.(λa.(((o (λs.(λd.(d (s p))))) (λf.a)) (λg.g))))) ((λh.(λj.(λk.(((h (λl.(λz.(z (l j))))) (λx.k)) (λc.c))))) (λv.(λb.((((λn.(λm.(((q (λq_1.(λw_1.(w_1 (q_1 n))))) (λe_1.m)) (λr_1.r_1)))) (λt_1.(λy_1.(y_1 (t_1 v))))) (λu_1.b)) (λi_1.i_1)))))))) (λo_1.(λp_1.(o_1 (o_1 p_1))))) (λa_1.(λs_1.(λd_1.d_1)))) (λf_1.(λg_1.f_1)))\n",
      "9: ((((λq.((λw.(λe.(λr.(((w (λt.(λy.(y (t e))))) (λu.r)) (λi.i))))) ((λo.(λp.(λa.(((o (λs.(λd.(d (s p))))) (λf.a)) (λg.g))))) ((λh.(λj.(λk.(((h (λl.(λz.(z (l j))))) (λx.k)) (λc.c))))) (λv.(λb.(((λn.(((q (λm.(λq_1.(q_1 (m (λw_1.(λe_1.(e_1 (w_1 v))))))))) (λr_1.n)) (λt_1.t_1))) (λy_1.b)) (λu_1.u_1)))))))) (λi_1.(λo_1.(i_1 (i_1 o_1))))) (λp_1.(λa_1.(λs_1.s_1)))) (λd_1.(λf_1.d_1)))\n",
      "10: ((((λp_1.((λa_1.(λs_1.(λd_1.(((a_1 (λq.(λw.(w (q s_1))))) (λe.d_1)) (λr.r))))) ((λt.(λy.(λu.(((t (λi.(λo.(o (i y))))) (λp.u)) (λa.a))))) ((λs.(λd.(λf.(((s (λg.(λh.(h (g d))))) (λj.f)) (λk.k))))) (λl.(λz.((((p_1 (λx.(λc.(c (x (λv.(λb.(b (v l))))))))) (λn.(λm.z))) (λq_1.q_1)) (λw_1.w_1)))))))) (λe_1.(λr_1.(e_1 (e_1 r_1))))) (λt_1.(λy_1.(λu_1.u_1)))) (λi_1.(λo_1.i_1)))\n",
      "11: ((((λq.((λw.(λe.(λr.(((w (λt.(λy.(y (t e))))) (λu.r)) (λi.i))))) ((λo.(λp.(λa.(((o (λs.(λd.(d (s p))))) (λf.a)) (λg.g))))) (λh.(λj.((((λk.(λl.((((q (λz.(λx.(x (z (λc.(λv.(v (c k))))))))) (λb.(λn.l))) (λm.m)) (λq_1.q_1)))) (λw_1.(λe_1.(e_1 (w_1 h))))) (λr_1.j)) (λt_1.t_1))))))) (λy_1.(λu_1.(y_1 (y_1 u_1))))) (λi_1.(λo_1.(λp_1.p_1)))) (λa_1.(λs_1.a_1)))\n",
      "12: ((((λq.((λw.(λe.(λr.(((w (λt.(λy.(y (t e))))) (λu.r)) (λi.i))))) ((λo.(λp.(λa.(((o (λs.(λd.(d (s p))))) (λf.a)) (λg.g))))) (λh.(λj.(((λk.((((q (λl.(λz.(z (l (λx.(λc.(c (x (λv.(λb.(b (v h))))))))))))) (λn.(λm.k))) (λq_1.q_1)) (λw_1.w_1))) (λe_1.j)) (λr_1.r_1))))))) (λt_1.(λy_1.(t_1 (t_1 y_1))))) (λu_1.(λi_1.(λo_1.o_1)))) (λp_1.(λa_1.p_1)))\n",
      "13: ((((λl.((λz.(λx.(λc.(((z (λv.(λb.(b (v x))))) (λn.c)) (λm.m))))) ((λq_1.(λw_1.(λe_1.(((q_1 (λr_1.(λt_1.(t_1 (r_1 w_1))))) (λy_1.e_1)) (λu_1.u_1))))) (λi_1.(λo_1.(((((l (λp_1.(λq.(q (p_1 (λw.(λe.(e (w (λr.(λt.(t (r i_1))))))))))))) (λy.(λu.(λi.o_1)))) (λo.o)) (λp.p)) (λa.a))))))) (λs.(λd.(s (s d))))) (λf.(λg.(λh.h)))) (λj.(λk.j)))\n",
      "14: ((((λq.((λw.(λe.(λr.(((w (λt.(λy.(y (t e))))) (λu.r)) (λi.i))))) (λo.(λp.((((λa.(λs.(((((q (λd.(λf.(f (d (λg.(λh.(h (g (λj.(λk.(k (j a))))))))))))) (λl.(λz.(λx.s)))) (λc.c)) (λv.v)) (λb.b)))) (λn.(λm.(m (n o))))) (λq_1.p)) (λw_1.w_1)))))) (λe_1.(λr_1.(e_1 (e_1 r_1))))) (λt_1.(λy_1.(λu_1.u_1)))) (λi_1.(λo_1.i_1)))\n",
      "15: ((((λq.((λw.(λe.(λr.(((w (λt.(λy.(y (t e))))) (λu.r)) (λi.i))))) (λo.(λp.(((λa.(((((q (λs.(λd.(d (s (λf.(λg.(g (f (λh.(λj.(j (h (λk.(λl.(l (k o))))))))))))))))) (λz.(λx.(λc.a)))) (λv.v)) (λb.b)) (λn.n))) (λm.p)) (λq_1.q_1)))))) (λw_1.(λe_1.(w_1 (w_1 e_1))))) (λr_1.(λt_1.(λy_1.y_1)))) (λu_1.(λi_1.u_1)))\n",
      "16: ((((λq.((λw.(λe.(λr.(((w (λt.(λy.(y (t e))))) (λu.r)) (λi.i))))) (λo.(λp.((((((q (λa.(λs.(s (a (λd.(λf.(f (d (λg.(λh.(h (g (λj.(λk.(k (j o))))))))))))))))) (λl.(λz.(λx.(λc.p))))) (λv.v)) (λb.b)) (λn.n)) (λm.m)))))) (λq_1.(λw_1.(q_1 (q_1 w_1))))) (λe_1.(λr_1.(λt_1.t_1)))) (λy_1.(λu_1.y_1)))\n",
      "17: ((((λn.(λm.(λq_1.((((λw_1.(λe_1.((((((n (λr_1.(λt_1.(t_1 (r_1 (λy_1.(λq.(q (y_1 (λw.(λe.(e (w (λr.(λt.(t (r w_1))))))))))))))))) (λy.(λu.(λi.(λo.e_1))))) (λp.p)) (λa.a)) (λs.s)) (λd.d)))) (λf.(λg.(g (f m))))) (λh.q_1)) (λj.j))))) (λk.(λl.(k (k l))))) (λz.(λx.(λc.c)))) (λv.(λb.v)))\n",
      "18: ((((λq.(λw.(λe.(((λr.((((((q (λt.(λy.(y (t (λu.(λi.(i (u (λo.(λp.(p (o (λa.(λs.(s (a (λd.(λf.(f (d w))))))))))))))))))))) (λg.(λh.(λj.(λk.r))))) (λl.l)) (λz.z)) (λx.x)) (λc.c))) (λv.e)) (λb.b))))) (λn.(λm.(n (n m))))) (λq_1.(λw_1.(λe_1.e_1)))) (λr_1.(λt_1.r_1)))\n",
      "19: ((((λq.(λw.(λe.(((((((q (λr.(λt.(t (r (λy.(λu.(u (y (λi.(λo.(o (i (λp.(λa.(a (p (λs.(λd.(d (s w))))))))))))))))))))) (λf.(λg.(λh.(λj.(λk.e)))))) (λl.l)) (λz.z)) (λx.x)) (λc.c)) (λv.v))))) (λb.(λn.(b (b n))))) (λm.(λq_1.(λw_1.w_1)))) (λe_1.(λr_1.e_1)))\n",
      "20: (((λq.(λw.((((((((λe.(λr.(e (e r)))) (λt.(λy.(y (t (λu.(λi.(i (u (λo.(λp.(p (o (λa.(λs.(s (a (λd.(λf.(f (d q))))))))))))))))))))) (λg.(λh.(λj.(λk.(λl.w)))))) (λz.z)) (λx.x)) (λc.c)) (λv.v)) (λb.b)))) (λn.(λm.(λq_1.q_1)))) (λw_1.(λe_1.w_1)))\n",
      "21: (((λn.(λm.(((((((λq_1.((λw_1.(λe_1.(e_1 (w_1 (λr_1.(λt_1.(t_1 (r_1 (λy_1.(λu_1.(u_1 (y_1 (λi_1.(λo_1.(o_1 (i_1 (λp_1.(λa_1.(a_1 (p_1 n)))))))))))))))))))) ((λs_1.(λq.(q (s_1 (λw.(λe.(e (w (λr.(λt.(t (r (λy.(λu.(u (y (λi.(λo.(o (i n)))))))))))))))))))) q_1))) (λp.(λa.(λs.(λd.(λf.m)))))) (λg.g)) (λh.h)) (λj.j)) (λk.k)) (λl.l)))) (λz.(λx.(λc.c)))) (λv.(λb.v)))\n",
      "22: (((λq.(λw.(((((((λe.((λr.(λt.(t (r (λy.(λu.(u (y (λi.(λo.(o (i (λp.(λa.(a (p (λs.(λd.(d (s q)))))))))))))))))))) (λf.(f (e (λg.(λh.(h (g (λj.(λk.(k (j (λl.(λz.(z (l (λx.(λc.(c (x q))))))))))))))))))))) (λv.(λb.(λn.(λm.(λq_1.w)))))) (λw_1.w_1)) (λe_1.e_1)) (λr_1.r_1)) (λt_1.t_1)) (λy_1.y_1)))) (λu_1.(λi_1.(λo_1.o_1)))) (λp_1.(λa_1.p_1)))\n",
      "23: (((λq.(λw.(((((((λe.(λr.(r ((λt.(t (e (λy.(λu.(u (y (λi.(λo.(o (i (λp.(λa.(a (p (λs.(λd.(d (s q))))))))))))))))))) (λf.(λg.(g (f (λh.(λj.(j (h (λk.(λl.(l (k (λz.(λx.(x (z q)))))))))))))))))))) (λc.(λv.(λb.(λn.(λm.w)))))) (λq_1.q_1)) (λw_1.w_1)) (λe_1.e_1)) (λr_1.r_1)) (λt_1.t_1)))) (λy_1.(λu_1.(λi_1.i_1)))) (λo_1.(λp_1.o_1)))\n",
      "24: (((λt.(λy.(((((((λu.(λi.(i ((λo.(λp.(p (o (λa.(λs.(s (a (λd.(λf.(f (d (λg.(λh.(h (g t)))))))))))))))) (u (λj.(λk.(k (j (λl.(λz.(z (l (λx.(λc.(c (x (λv.(λb.(b (v t))))))))))))))))))))) (λn.(λm.(λq_1.(λw_1.(λe_1.y)))))) (λr_1.r_1)) (λt_1.t_1)) (λy_1.y_1)) (λu_1.u_1)) (λi_1.i_1)))) (λo_1.(λq.(λw.w)))) (λe.(λr.e)))\n",
      "25: (((λq.(λw.(((((((λe.(λr.(r (λt.(t ((e (λy.(λu.(u (y (λi.(λo.(o (i (λp.(λa.(a (p (λs.(λd.(d (s q))))))))))))))))) (λf.(λg.(g (f (λh.(λj.(j (h (λk.(λl.(l (k q)))))))))))))))))) (λz.(λx.(λc.(λv.(λb.w)))))) (λn.n)) (λm.m)) (λq_1.q_1)) (λw_1.w_1)) (λe_1.e_1)))) (λr_1.(λt_1.(λy_1.y_1)))) (λu_1.(λi_1.u_1)))\n",
      "26: (((λq.(λw.((((((λe.(e (λr.(r (((λt.(λy.(λu.(λi.(λo.w))))) (λp.(λa.(a (p (λs.(λd.(d (s (λf.(λg.(g (f (λh.(λj.(j (h q))))))))))))))))) (λk.(λl.(l (k (λz.(λx.(x (z (λc.(λv.(v (c q))))))))))))))))) (λb.b)) (λn.n)) (λm.m)) (λq_1.q_1)) (λw_1.w_1)))) (λe_1.(λr_1.(λt_1.t_1)))) (λy_1.(λu_1.y_1)))\n",
      "27: (((λq.(λw.((((((λe.(e (λr.(r ((λt.(λy.(λu.(λi.w)))) (λo.(λp.(p (o (λa.(λs.(s (a (λd.(λf.(f (d q))))))))))))))))) (λg.g)) (λh.h)) (λj.j)) (λk.k)) (λl.l)))) (λz.(λx.(λc.c)))) (λv.(λb.v)))\n",
      "28: (((λj.(λq.((((((λw.(w (λe.(e (λr.(λt.(λy.q))))))) (λu.u)) (λi.i)) (λo.o)) (λp.p)) (λa.a)))) (λs.(λd.(λf.f)))) (λg.(λh.g)))\n",
      "29: (((λq.(λw.((((((λe.e) (λr.(r (λt.(λy.(λu.w)))))) (λi.i)) (λo.o)) (λp.p)) (λa.a)))) (λs.(λd.(λf.f)))) (λg.(λh.g)))\n",
      "30: (((λq.(λw.(((((λe.(e (λr.(λt.(λy.w))))) (λu.u)) (λi.i)) (λo.o)) (λp.p)))) (λa.(λs.(λd.d)))) (λf.(λg.f)))\n",
      "31: (((λq.(λw.(((((λe.e) (λr.(λt.(λy.w)))) (λu.u)) (λi.i)) (λo.o)))) (λp.(λa.(λs.s)))) (λd.(λf.d)))\n",
      "32: (((λa.(λs.((((λd.(λq.(λw.s))) (λe.e)) (λr.r)) (λt.t)))) (λy.(λu.(λi.i)))) (λo.(λp.o)))\n",
      "33: (((λq.(λw.(((λe.(λr.w)) (λt.t)) (λy.y)))) (λu.(λi.(λo.o)))) (λp.(λa.p)))\n",
      "34: (((λq.(λw.((λe.w) (λr.r)))) (λt.(λy.(λu.u)))) (λi.(λo.i)))\n",
      "35: (((λy.(λu.u)) (λq.(λw.(λe.e)))) (λr.(λt.r)))\n",
      "36: ((λq.q) (λw.(λe.w)))\n",
      "37: (λq.(λw.q))\n",
      "\n",
      "\n",
      "reduction steps: 37\n",
      "norm term:       (λq.(λw.q))\n"
     ]
    }
   ],
   "source": [
    "def term_test_11():\n",
    "    return multi_app_term(leq_term(), num_term(2), num_term(5))\n",
    "\n",
    "\n",
    "test_procedure(term_test_11())"
   ],
   "metadata": {
    "collapsed": false
   }
  },
  {
   "cell_type": "markdown",
   "source": [
    "# <span style=\"color: #A1F99C\">12.</span>\n",
    "<span style=\"color:#bb91f3\">(EQ 2 2)</span> == <span style=\"color:#f1bd47\">TRUE</span> == <span style=\"color:#f1bd47\">λx. λy. x</span>"
   ],
   "metadata": {
    "collapsed": false
   }
  },
  {
   "cell_type": "code",
   "execution_count": 17,
   "outputs": [
    {
     "name": "stdout",
     "output_type": "stream",
     "text": [
      "0: (((λa_1.(λs_1.(((λd_1.(λf_1.((((λg_1.(λh_1.(λj_1.((g_1 h_1) j_1)))) d_1) f_1) d_1))) (((λk_1.(λl_1.((λq.((q (λw.(λe.(λr.r)))) (λt.(λy.t)))) (((λu.(λi.((i (λo.(λp.(λa.(((o (λs.(λd.(d (s p))))) (λf.a)) (λg.g)))))) u))) k_1) l_1)))) a_1) s_1)) (((λh.(λj.((λk.((k (λl.(λz.(λx.x)))) (λc.(λv.c)))) (((λb.(λn.((n (λm.(λq_1.(λw_1.(((m (λe_1.(λr_1.(r_1 (e_1 q_1))))) (λt_1.w_1)) (λy_1.y_1)))))) b))) h) j)))) s_1) a_1)))) (λu_1.(λi_1.(u_1 (u_1 i_1))))) (λo_1.(λp_1.(o_1 (o_1 p_1)))))\n",
      "1: (((λq.(λw.(((λe.(λr.((((λt.(λy.(λu.((t y) u)))) e) r) e))) (((λi.(λo.((λp.((p (λa.(λs.(λd.d)))) (λf.(λg.f)))) (((λh.(λj.((j (λk.(λl.(λz.(((k (λx.(λc.(c (x l))))) (λv.z)) (λb.b)))))) h))) i) o)))) q) w)) (((λn.(λm.((λq_1.((q_1 (λw_1.(λe_1.(λr_1.r_1)))) (λt_1.(λy_1.t_1)))) ((λu_1.((u_1 (λi_1.(λo_1.(λp_1.(((i_1 (λa_1.(λs_1.(s_1 (a_1 o_1))))) (λd_1.p_1)) (λf_1.f_1)))))) n)) m)))) w) q)))) (λg_1.(λh_1.(g_1 (g_1 h_1))))) (λj_1.(λk_1.(j_1 (j_1 k_1)))))\n",
      "2: (((λq.(λw.(((λe.(λr.((((λt.(λy.(λu.((t y) u)))) e) r) e))) (((λi.(λo.((λp.((p (λa.(λs.(λd.d)))) (λf.(λg.f)))) (((λh.(λj.((j (λk.(λl.(λz.(((k (λx.(λc.(c (x l))))) (λv.z)) (λb.b)))))) h))) i) o)))) q) w)) (((λn.(λm.((λq_1.((q_1 (λw_1.(λe_1.(λr_1.r_1)))) (λt_1.(λy_1.t_1)))) ((m (λu_1.(λi_1.(λo_1.(((u_1 (λp_1.(λa_1.(a_1 (p_1 i_1))))) (λs_1.o_1)) (λd_1.d_1)))))) n)))) w) q)))) (λf_1.(λg_1.(f_1 (f_1 g_1))))) (λh_1.(λj_1.(h_1 (h_1 j_1)))))\n",
      "3: (((λs_1.(λd_1.(((λf_1.(λg_1.((((λh_1.(λq.(λw.((h_1 q) w)))) f_1) g_1) f_1))) (((λe.(λr.((λt.((t (λy.(λu.(λi.i)))) (λo.(λp.o)))) (((λa.(λs.((s (λd.(λf.(λg.(((d (λh.(λj.(j (h f))))) (λk.g)) (λl.l)))))) a))) e) r)))) s_1) d_1)) (((λz.(λx.((((x (λc.(λv.(λb.(((c (λn.(λm.(m (n v))))) (λq_1.b)) (λw_1.w_1)))))) z) (λe_1.(λr_1.(λt_1.t_1)))) (λy_1.(λu_1.y_1))))) d_1) s_1)))) (λi_1.(λo_1.(i_1 (i_1 o_1))))) (λp_1.(λa_1.(p_1 (p_1 a_1)))))\n",
      "4: (((λq.(λw.(((λe.(λr.((((λt.(λy.(λu.((t y) u)))) e) r) e))) (((λi.(λo.((λp.((p (λa.(λs.(λd.d)))) (λf.(λg.f)))) (((λh.(λj.((j (λk.(λl.(λz.(((k (λx.(λc.(c (x l))))) (λv.z)) (λb.b)))))) h))) i) o)))) q) w)) ((λn.((((n (λm.(λq_1.(λw_1.(((m (λe_1.(λr_1.(r_1 (e_1 q_1))))) (λt_1.w_1)) (λy_1.y_1)))))) w) (λu_1.(λi_1.(λo_1.o_1)))) (λp_1.(λa_1.p_1)))) q)))) (λs_1.(λd_1.(s_1 (s_1 d_1))))) (λf_1.(λg_1.(f_1 (f_1 g_1)))))\n",
      "5: (((λq.(λw.(((λe.(λr.((((λt.(λy.(λu.((t y) u)))) e) r) e))) (((λi.(λo.((λp.((p (λa.(λs.(λd.d)))) (λf.(λg.f)))) (((λh.(λj.((j (λk.(λl.(λz.(((k (λx.(λc.(c (x l))))) (λv.z)) (λb.b)))))) h))) i) o)))) q) w)) ((((q (λn.(λm.(λq_1.(((n (λw_1.(λe_1.(e_1 (w_1 m))))) (λr_1.q_1)) (λt_1.t_1)))))) w) (λy_1.(λu_1.(λi_1.i_1)))) (λo_1.(λp_1.o_1)))))) (λa_1.(λs_1.(a_1 (a_1 s_1))))) (λd_1.(λf_1.(d_1 (d_1 f_1)))))\n",
      "6: (((λr_1.(λt_1.(((λy_1.(λu_1.((((λi_1.(λo_1.(λp_1.((i_1 o_1) p_1)))) y_1) u_1) y_1))) (((λa_1.(λs_1.((λd_1.((d_1 (λq.(λw.(λe.e)))) (λr.(λt.r)))) ((λy.((y (λu.(λi.(λo.(((u (λp.(λa.(a (p i))))) (λs.o)) (λd.d)))))) a_1)) s_1)))) r_1) t_1)) ((((r_1 (λf.(λg.(λh.(((f (λj.(λk.(k (j g))))) (λl.h)) (λz.z)))))) t_1) (λx.(λc.(λv.v)))) (λb.(λn.b)))))) (λm.(λq_1.(m (m q_1))))) (λw_1.(λe_1.(w_1 (w_1 e_1)))))\n",
      "7: (((λq.(λw.(((λe.(λr.((((λt.(λy.(λu.((t y) u)))) e) r) e))) (((λi.(λo.((λp.((p (λa.(λs.(λd.d)))) (λf.(λg.f)))) ((o (λh.(λj.(λk.(((h (λl.(λz.(z (l j))))) (λx.k)) (λc.c)))))) i)))) q) w)) ((((q (λv.(λb.(λn.(((v (λm.(λq_1.(q_1 (m b))))) (λw_1.n)) (λe_1.e_1)))))) w) (λr_1.(λt_1.(λy_1.y_1)))) (λu_1.(λi_1.u_1)))))) (λo_1.(λp_1.(o_1 (o_1 p_1))))) (λa_1.(λs_1.(a_1 (a_1 s_1)))))\n",
      "8: (((λq.(λw.(((λe.(λr.((((λt.(λy.(λu.((t y) u)))) e) r) e))) (((λi.(λo.((((o (λp.(λa.(λs.(((p (λd.(λf.(f (d a))))) (λg.s)) (λh.h)))))) i) (λj.(λk.(λl.l)))) (λz.(λx.z))))) q) w)) ((((q (λc.(λv.(λb.(((c (λn.(λm.(m (n v))))) (λq_1.b)) (λw_1.w_1)))))) w) (λe_1.(λr_1.(λt_1.t_1)))) (λy_1.(λu_1.y_1)))))) (λi_1.(λo_1.(i_1 (i_1 o_1))))) (λp_1.(λa_1.(p_1 (p_1 a_1)))))\n",
      "9: (((λd.(λf.(((λg.(λh.((((λj.(λk.(λl.((j k) l)))) g) h) g))) ((λz.((((z (λx.(λc.(λv.(((x (λb.(λn.(n (b c))))) (λm.v)) (λq_1.q_1)))))) d) (λw_1.(λe_1.(λr_1.r_1)))) (λt_1.(λy_1.t_1)))) f)) ((((d (λu_1.(λi_1.(λo_1.(((u_1 (λp_1.(λq.(q (p_1 i_1))))) (λw.o_1)) (λe.e)))))) f) (λr.(λt.(λy.y)))) (λu.(λi.u)))))) (λo.(λp.(o (o p))))) (λa.(λs.(a (a s)))))\n",
      "10: (((λq.(λw.(((λe.(λr.((((λt.(λy.(λu.((t y) u)))) e) r) e))) ((((w (λi.(λo.(λp.(((i (λa.(λs.(s (a o))))) (λd.p)) (λf.f)))))) q) (λg.(λh.(λj.j)))) (λk.(λl.k)))) ((((q (λz.(λx.(λc.(((z (λv.(λb.(b (v x))))) (λn.c)) (λm.m)))))) w) (λq_1.(λw_1.(λe_1.e_1)))) (λr_1.(λt_1.r_1)))))) (λy_1.(λu_1.(y_1 (y_1 u_1))))) (λi_1.(λo_1.(i_1 (i_1 o_1)))))\n",
      "11: (((λq.(λw.(((λe.(λr.(((λt.(λy.((e t) y))) r) e))) ((((w (λu.(λi.(λo.(((u (λp.(λa.(a (p i))))) (λs.o)) (λd.d)))))) q) (λf.(λg.(λh.h)))) (λj.(λk.j)))) ((((q (λl.(λz.(λx.(((l (λc.(λv.(v (c z))))) (λb.x)) (λn.n)))))) w) (λm.(λq_1.(λw_1.w_1)))) (λe_1.(λr_1.e_1)))))) (λt_1.(λy_1.(t_1 (t_1 y_1))))) (λu_1.(λi_1.(u_1 (u_1 i_1)))))\n",
      "12: (((λq.(λw.(((λe.(λr.((λt.((e r) t)) e))) ((((w (λy.(λu.(λi.(((y (λo.(λp.(p (o u))))) (λa.i)) (λs.s)))))) q) (λd.(λf.(λg.g)))) (λh.(λj.h)))) ((((q (λk.(λl.(λz.(((k (λx.(λc.(c (x l))))) (λv.z)) (λb.b)))))) w) (λn.(λm.(λq_1.q_1)))) (λw_1.(λe_1.w_1)))))) (λr_1.(λt_1.(r_1 (r_1 t_1))))) (λy_1.(λu_1.(y_1 (y_1 u_1)))))\n",
      "13: (((λl.(λz.(((λx.(λc.((x c) x))) ((((z (λv.(λb.(λn.(((v (λm.(λq_1.(q_1 (m b))))) (λw_1.n)) (λe_1.e_1)))))) l) (λr_1.(λt_1.(λy_1.y_1)))) (λq.(λw.q)))) ((((l (λe.(λr.(λt.(((e (λy.(λu.(u (y r))))) (λi.t)) (λo.o)))))) z) (λp.(λa.(λs.s)))) (λd.(λf.d)))))) (λg.(λh.(g (g h))))) (λj.(λk.(j (j k)))))\n",
      "14: (((λq.(λw.((λe.((((((w (λr.(λt.(λy.(((r (λu.(λi.(i (u t))))) (λo.y)) (λp.p)))))) q) (λa.(λs.(λd.d)))) (λf.(λg.f))) e) ((((w (λh.(λj.(λk.(((h (λl.(λz.(z (l j))))) (λx.k)) (λc.c)))))) q) (λv.(λb.(λn.n)))) (λm.(λq_1.m))))) ((((q (λw_1.(λe_1.(λr_1.(((w_1 (λt_1.(λy_1.(y_1 (t_1 e_1))))) (λu_1.r_1)) (λi_1.i_1)))))) w) (λo_1.(λp_1.(λa_1.a_1)))) (λs_1.(λd_1.s_1)))))) (λf_1.(λg_1.(f_1 (f_1 g_1))))) (λh_1.(λj_1.(h_1 (h_1 j_1)))))\n",
      "15: (((λq.(λw.((((((w (λe.(λr.(λt.(((e (λy.(λu.(u (y r))))) (λi.t)) (λo.o)))))) q) (λp.(λa.(λs.s)))) (λd.(λf.d))) ((((q (λg.(λh.(λj.(((g (λk.(λl.(l (k h))))) (λz.j)) (λx.x)))))) w) (λc.(λv.(λb.b)))) (λn.(λm.n)))) ((((w (λq_1.(λw_1.(λe_1.(((q_1 (λr_1.(λt_1.(t_1 (r_1 w_1))))) (λy_1.e_1)) (λu_1.u_1)))))) q) (λi_1.(λo_1.(λp_1.p_1)))) (λa_1.(λs_1.a_1)))))) (λd_1.(λf_1.(d_1 (d_1 f_1))))) (λg_1.(λh_1.(g_1 (g_1 h_1)))))\n",
      "16: ((λx.((((((x (λc.(λv.(λb.(((c (λn.(λm.(m (n v))))) (λq_1.b)) (λw_1.w_1)))))) (λe_1.(λr_1.(e_1 (e_1 r_1))))) (λt_1.(λy_1.(λu_1.u_1)))) (λi_1.(λo_1.i_1))) (((((λp_1.(λa_1.(p_1 (p_1 a_1)))) (λs_1.(λd_1.(λf_1.(((s_1 (λg_1.(λh_1.(h_1 (g_1 d_1))))) (λj_1.f_1)) (λk_1.k_1)))))) x) (λl_1.(λq.(λw.w)))) (λe.(λr.e)))) ((((x (λt.(λy.(λu.(((t (λi.(λo.(o (i y))))) (λp.u)) (λa.a)))))) (λs.(λd.(s (s d))))) (λf.(λg.(λh.h)))) (λj.(λk.j))))) (λl.(λz.(l (l z)))))\n",
      "17: ((λq.((((((q (λw.(λe.(λr.(((w (λt.(λy.(y (t e))))) (λu.r)) (λi.i)))))) (λo.(λp.(o (o p))))) (λa.(λs.(λd.d)))) (λf.(λg.f))) ((((λh.((λj.(λk.(λl.(((j (λz.(λx.(x (z k))))) (λc.l)) (λv.v))))) ((λb.(λn.(λm.(((b (λq_1.(λw_1.(w_1 (q_1 n))))) (λe_1.m)) (λr_1.r_1))))) h))) q) (λt_1.(λy_1.(λu_1.u_1)))) (λi_1.(λo_1.i_1)))) ((((q (λp_1.(λa_1.(λs_1.(((p_1 (λd_1.(λf_1.(f_1 (d_1 a_1))))) (λg_1.s_1)) (λh_1.h_1)))))) (λj_1.(λk_1.(j_1 (j_1 k_1))))) (λl_1.(λz_1.(λx_1.x_1)))) (λc_1.(λv_1.c_1))))) (λb_1.(λn_1.(b_1 (b_1 n_1)))))\n",
      "18: ((λq.((((((q (λw.(λe.(λr.(((w (λt.(λy.(y (t e))))) (λu.r)) (λi.i)))))) (λo.(λp.(o (o p))))) (λa.(λs.(λd.d)))) (λf.(λg.f))) ((((λh.((λj.(λk.(λl.(((j (λz.(λx.(x (z k))))) (λc.l)) (λv.v))))) (λb.(λn.(((h (λm.(λq_1.(q_1 (m b))))) (λw_1.n)) (λe_1.e_1)))))) q) (λr_1.(λt_1.(λy_1.y_1)))) (λu_1.(λi_1.u_1)))) ((((q (λo_1.(λp_1.(λa_1.(((o_1 (λs_1.(λd_1.(d_1 (s_1 p_1))))) (λf_1.a_1)) (λg_1.g_1)))))) (λh_1.(λj_1.(h_1 (h_1 j_1))))) (λk_1.(λl_1.(λz_1.z_1)))) (λx_1.(λc_1.x_1))))) (λv_1.(λb_1.(v_1 (v_1 b_1)))))\n",
      "19: ((λj_1.((((((j_1 (λk_1.(λl_1.(λz_1.(((k_1 (λx_1.(λc_1.(c_1 (x_1 l_1))))) (λv_1.z_1)) (λq.q)))))) (λw.(λe.(w (w e))))) (λr.(λt.(λy.y)))) (λu.(λi.u))) ((((λo.(λp.(λa.((((λs.(λd.(((o (λf.(λg.(g (f s))))) (λh.d)) (λj.j)))) (λk.(λl.(l (k p))))) (λz.a)) (λx.x))))) j_1) (λc.(λv.(λb.b)))) (λn.(λm.n)))) ((((j_1 (λq_1.(λw_1.(λe_1.(((q_1 (λr_1.(λt_1.(t_1 (r_1 w_1))))) (λy_1.e_1)) (λu_1.u_1)))))) (λi_1.(λo_1.(i_1 (i_1 o_1))))) (λp_1.(λa_1.(λs_1.s_1)))) (λd_1.(λf_1.d_1))))) (λg_1.(λh_1.(g_1 (g_1 h_1)))))\n",
      "20: ((λq.((((((q (λw.(λe.(λr.(((w (λt.(λy.(y (t e))))) (λu.r)) (λi.i)))))) (λo.(λp.(o (o p))))) (λa.(λs.(λd.d)))) (λf.(λg.f))) ((((λh.(λj.(λk.(((λl.(((h (λz.(λx.(x (z (λc.(λv.(v (c j))))))))) (λb.l)) (λn.n))) (λm.k)) (λq_1.q_1))))) q) (λw_1.(λe_1.(λr_1.r_1)))) (λt_1.(λy_1.t_1)))) ((((q (λu_1.(λi_1.(λo_1.(((u_1 (λp_1.(λa_1.(a_1 (p_1 i_1))))) (λs_1.o_1)) (λd_1.d_1)))))) (λf_1.(λg_1.(f_1 (f_1 g_1))))) (λh_1.(λj_1.(λk_1.k_1)))) (λl_1.(λz_1.l_1))))) (λx_1.(λc_1.(x_1 (x_1 c_1)))))\n",
      "21: ((λp.((((((p (λa.(λs.(λd.(((a (λf.(λg.(g (f s))))) (λh.d)) (λj.j)))))) (λk.(λl.(k (k l))))) (λz.(λx.(λc.c)))) (λv.(λb.v))) ((((λn.(λm.(λq_1.((((n (λw_1.(λe_1.(e_1 (w_1 (λr_1.(λt_1.(t_1 (r_1 m))))))))) (λy_1.(λu_1.q_1))) (λi_1.i_1)) (λo_1.o_1))))) p) (λp_1.(λa_1.(λs_1.s_1)))) (λd_1.(λf_1.d_1)))) ((((p (λg_1.(λh_1.(λj_1.(((g_1 (λk_1.(λl_1.(l_1 (k_1 h_1))))) (λz_1.j_1)) (λx_1.x_1)))))) (λq.(λw.(q (q w))))) (λe.(λr.(λt.t)))) (λy.(λu.y))))) (λi.(λo.(i (i o)))))\n",
      "22: ((λq.((((((q (λw.(λe.(λr.(((w (λt.(λy.(y (t e))))) (λu.r)) (λi.i)))))) (λo.(λp.(o (o p))))) (λa.(λs.(λd.d)))) (λf.(λg.f))) (((λh.(λj.((((q (λk.(λl.(l (k (λz.(λx.(x (z h))))))))) (λc.(λv.j))) (λb.b)) (λn.n)))) (λm.(λq_1.(λw_1.w_1)))) (λe_1.(λr_1.e_1)))) ((((q (λt_1.(λy_1.(λu_1.(((t_1 (λi_1.(λo_1.(o_1 (i_1 y_1))))) (λp_1.u_1)) (λa_1.a_1)))))) (λs_1.(λd_1.(s_1 (s_1 d_1))))) (λf_1.(λg_1.(λh_1.h_1)))) (λj_1.(λk_1.j_1))))) (λl_1.(λz_1.(l_1 (l_1 z_1)))))\n",
      "23: ((λq.((((((q (λw.(λe.(λr.(((w (λt.(λy.(y (t e))))) (λu.r)) (λi.i)))))) (λo.(λp.(o (o p))))) (λa.(λs.(λd.d)))) (λf.(λg.f))) ((λh.((((q (λj.(λk.(k (j (λl.(λz.(z (l (λx.(λc.(λv.v)))))))))))) (λb.(λn.h))) (λm.m)) (λq_1.q_1))) (λw_1.(λe_1.w_1)))) ((((q (λr_1.(λt_1.(λy_1.(((r_1 (λu_1.(λi_1.(i_1 (u_1 t_1))))) (λo_1.y_1)) (λp_1.p_1)))))) (λa_1.(λs_1.(a_1 (a_1 s_1))))) (λd_1.(λf_1.(λg_1.g_1)))) (λh_1.(λj_1.h_1))))) (λk_1.(λl_1.(k_1 (k_1 l_1)))))\n",
      "24: ((λj.((((((j (λk.(λl.(λz.(((k (λx.(λc.(c (x l))))) (λv.z)) (λb.b)))))) (λn.(λm.(n (n m))))) (λq_1.(λw_1.(λe_1.e_1)))) (λr_1.(λt_1.r_1))) ((((j (λy_1.(λu_1.(u_1 (y_1 (λi_1.(λo_1.(o_1 (i_1 (λp_1.(λa_1.(λs_1.s_1)))))))))))) (λd_1.(λf_1.(λg_1.(λh_1.g_1))))) (λj_1.j_1)) (λk_1.k_1))) ((((j (λq.(λw.(λe.(((q (λr.(λt.(t (r w))))) (λy.e)) (λu.u)))))) (λi.(λo.(i (i o))))) (λp.(λa.(λs.s)))) (λd.(λf.d))))) (λg.(λh.(g (g h)))))\n",
      "25: (((((((λq.(λw.(q (q w)))) (λe.(λr.(λt.(((e (λy.(λu.(u (y r))))) (λi.t)) (λo.o)))))) (λp.(λa.(p (p a))))) (λs.(λd.(λf.f)))) (λg.(λh.g))) (((((λj.(λk.(j (j k)))) (λl.(λz.(z (l (λx.(λc.(c (x (λv.(λb.(λn.n)))))))))))) (λm.(λq_1.(λw_1.(λe_1.w_1))))) (λr_1.r_1)) (λt_1.t_1))) (((((λy_1.(λu_1.(y_1 (y_1 u_1)))) (λi_1.(λo_1.(λp_1.(((i_1 (λa_1.(λs_1.(s_1 (a_1 o_1))))) (λd_1.p_1)) (λf_1.f_1)))))) (λg_1.(λh_1.(g_1 (g_1 h_1))))) (λj_1.(λk_1.(λl_1.l_1)))) (λz_1.(λx_1.z_1))))\n",
      "26: (((((((λq.(λw.(q (q w)))) (λe.(λr.(λt.(((e (λy.(λu.(u (y r))))) (λi.t)) (λo.o)))))) (λp.(λa.(p (p a))))) (λs.(λd.(λf.f)))) (λg.(λh.g))) (((((λj.(λk.(j (j k)))) (λl.(λz.(z (l (λx.(λc.(c (x (λv.(λb.(λn.n)))))))))))) (λm.(λq_1.(λw_1.(λe_1.w_1))))) (λr_1.r_1)) (λt_1.t_1))) ((((λy_1.((λu_1.(λi_1.(λo_1.(((u_1 (λp_1.(λa_1.(a_1 (p_1 i_1))))) (λs_1.o_1)) (λd_1.d_1))))) ((λf_1.(λg_1.(λh_1.(((f_1 (λj_1.(λk_1.(k_1 (j_1 g_1))))) (λl_1.h_1)) (λz_1.z_1))))) y_1))) (λx_1.(λc_1.(x_1 (x_1 c_1))))) (λv_1.(λb_1.(λn_1.n_1)))) (λm_1.(λq_2.m_1))))\n",
      "27: (((((((λg_1.(λh_1.(g_1 (g_1 h_1)))) (λj_1.(λk_1.(λl_1.(((j_1 (λz_1.(λx_1.(x_1 (z_1 k_1))))) (λc_1.l_1)) (λv_1.v_1)))))) (λb_1.(λn_1.(b_1 (b_1 n_1))))) (λm_1.(λq.(λw.w)))) (λe.(λr.e))) (((((λt.(λy.(t (t y)))) (λu.(λi.(i (u (λo.(λp.(p (o (λa.(λs.(λd.d)))))))))))) (λf.(λg.(λh.(λj.h))))) (λk.k)) (λl.l))) ((((λz.((λx.(λc.(λv.(((x (λb.(λn.(n (b c))))) (λm.v)) (λq_1.q_1))))) (λw_1.(λe_1.(((z (λr_1.(λt_1.(t_1 (r_1 w_1))))) (λy_1.e_1)) (λu_1.u_1)))))) (λi_1.(λo_1.(i_1 (i_1 o_1))))) (λp_1.(λa_1.(λs_1.s_1)))) (λd_1.(λf_1.d_1))))\n",
      "28: (((((((λq.(λw.(q (q w)))) (λe.(λr.(λt.(((e (λy.(λu.(u (y r))))) (λi.t)) (λo.o)))))) (λp.(λa.(p (p a))))) (λs.(λd.(λf.f)))) (λg.(λh.g))) (((((λj.(λk.(j (j k)))) (λl.(λz.(z (l (λx.(λc.(c (x (λv.(λb.(λn.n)))))))))))) (λm.(λq_1.(λw_1.(λe_1.w_1))))) (λr_1.r_1)) (λt_1.t_1))) ((((λy_1.(λu_1.(λi_1.((((λo_1.(λp_1.(((y_1 (λa_1.(λs_1.(s_1 (a_1 o_1))))) (λd_1.p_1)) (λf_1.f_1)))) (λg_1.(λh_1.(h_1 (g_1 u_1))))) (λj_1.i_1)) (λk_1.k_1))))) (λl_1.(λz_1.(l_1 (l_1 z_1))))) (λx_1.(λc_1.(λv_1.v_1)))) (λb_1.(λn_1.b_1))))\n",
      "29: (((((((λf.(λg.(f (f g)))) (λh.(λj.(λk.(((h (λl.(λz.(z (l j))))) (λx.k)) (λc.c)))))) (λv.(λb.(v (v b))))) (λn.(λm.(λq_1.q_1)))) (λw_1.(λe_1.w_1))) (((((λr_1.(λt_1.(r_1 (r_1 t_1)))) (λy_1.(λu_1.(u_1 (y_1 (λi_1.(λo_1.(o_1 (i_1 (λp_1.(λa_1.(λs_1.s_1)))))))))))) (λd_1.(λf_1.(λg_1.(λh_1.g_1))))) (λj_1.j_1)) (λk_1.k_1))) ((((λl_1.(λz_1.(λx_1.(((λc_1.(((l_1 (λv_1.(λb_1.(b_1 (v_1 (λq.(λw.(w (q z_1))))))))) (λe.c_1)) (λr.r))) (λt.x_1)) (λy.y))))) (λu.(λi.(u (u i))))) (λo.(λp.(λa.a)))) (λs.(λd.s))))\n",
      "30: (((((((λq.(λw.(q (q w)))) (λe.(λr.(λt.(((e (λy.(λu.(u (y r))))) (λi.t)) (λo.o)))))) (λp.(λa.(p (p a))))) (λs.(λd.(λf.f)))) (λg.(λh.g))) (((((λj.(λk.(j (j k)))) (λl.(λz.(z (l (λx.(λc.(c (x (λv.(λb.(λn.n)))))))))))) (λm.(λq_1.(λw_1.(λe_1.w_1))))) (λr_1.r_1)) (λt_1.t_1))) ((((λy_1.(λu_1.(λi_1.((((y_1 (λo_1.(λp_1.(p_1 (o_1 (λa_1.(λs_1.(s_1 (a_1 u_1))))))))) (λd_1.(λf_1.i_1))) (λg_1.g_1)) (λh_1.h_1))))) (λj_1.(λk_1.(j_1 (j_1 k_1))))) (λl_1.(λz_1.(λx_1.x_1)))) (λc_1.(λv_1.c_1))))\n",
      "31: (((((((λq.(λw.(q (q w)))) (λe.(λr.(λt.(((e (λy.(λu.(u (y r))))) (λi.t)) (λo.o)))))) (λp.(λa.(p (p a))))) (λs.(λd.(λf.f)))) (λg.(λh.g))) (((((λj.(λk.(j (j k)))) (λl.(λz.(z (l (λx.(λc.(c (x (λv.(λb.(λn.n)))))))))))) (λm.(λq_1.(λw_1.(λe_1.w_1))))) (λr_1.r_1)) (λt_1.t_1))) (((λy_1.(λu_1.(((((λi_1.(λo_1.(i_1 (i_1 o_1)))) (λp_1.(λa_1.(a_1 (p_1 (λs_1.(λd_1.(d_1 (s_1 y_1))))))))) (λf_1.(λg_1.u_1))) (λh_1.h_1)) (λj_1.j_1)))) (λk_1.(λl_1.(λz_1.z_1)))) (λx_1.(λc_1.x_1))))\n",
      "32: (((((((λi_1.(λo_1.(i_1 (i_1 o_1)))) (λp_1.(λa_1.(λs_1.(((p_1 (λd_1.(λf_1.(f_1 (d_1 a_1))))) (λg_1.s_1)) (λh_1.h_1)))))) (λj_1.(λk_1.(j_1 (j_1 k_1))))) (λl_1.(λz_1.(λx_1.x_1)))) (λc_1.(λv_1.c_1))) (((((λb_1.(λn_1.(b_1 (b_1 n_1)))) (λq.(λw.(w (q (λe.(λr.(r (e (λt.(λy.(λu.u)))))))))))) (λi.(λo.(λp.(λa.p))))) (λs.s)) (λd.d))) (((λf.(λg.((((λh.((λj.(λk.(k (j (λl.(λz.(z (l f)))))))) ((λx.(λc.(c (x (λv.(λb.(b (v f)))))))) h))) (λn.(λm.g))) (λq_1.q_1)) (λw_1.w_1)))) (λe_1.(λr_1.(λt_1.t_1)))) (λy_1.(λu_1.y_1))))\n",
      "33: (((((((λq.(λw.(q (q w)))) (λe.(λr.(λt.(((e (λy.(λu.(u (y r))))) (λi.t)) (λo.o)))))) (λp.(λa.(p (p a))))) (λs.(λd.(λf.f)))) (λg.(λh.g))) (((((λj.(λk.(j (j k)))) (λl.(λz.(z (l (λx.(λc.(c (x (λv.(λb.(λn.n)))))))))))) (λm.(λq_1.(λw_1.(λe_1.w_1))))) (λr_1.r_1)) (λt_1.t_1))) (((λy_1.(λu_1.((((λi_1.((λo_1.(λp_1.(p_1 (o_1 (λa_1.(λs_1.(s_1 (a_1 y_1)))))))) (λd_1.(d_1 (i_1 (λf_1.(λg_1.(g_1 (f_1 y_1))))))))) (λh_1.(λj_1.u_1))) (λk_1.k_1)) (λl_1.l_1)))) (λz_1.(λx_1.(λc_1.c_1)))) (λv_1.(λb_1.v_1))))\n",
      "34: (((((((λt.(λy.(t (t y)))) (λu.(λi.(λo.(((u (λp.(λa.(a (p i))))) (λs.o)) (λd.d)))))) (λf.(λg.(f (f g))))) (λh.(λj.(λk.k)))) (λl.(λz.l))) (((((λx.(λc.(x (x c)))) (λv.(λb.(b (v (λn.(λm.(m (n (λq_1.(λw_1.(λe_1.e_1)))))))))))) (λr_1.(λt_1.(λy_1.(λu_1.y_1))))) (λi_1.i_1)) (λo_1.o_1))) (((λp_1.(λa_1.((((λs_1.(λd_1.(d_1 ((λf_1.(f_1 (s_1 (λg_1.(λh_1.(h_1 (g_1 p_1))))))) (λj_1.(λk_1.(k_1 (j_1 p_1)))))))) (λl_1.(λz_1.a_1))) (λx_1.x_1)) (λc_1.c_1)))) (λv_1.(λq.(λw.w)))) (λe.(λr.e))))\n",
      "35: (((((((λq.(λw.(q (q w)))) (λe.(λr.(λt.(((e (λy.(λu.(u (y r))))) (λi.t)) (λo.o)))))) (λp.(λa.(p (p a))))) (λs.(λd.(λf.f)))) (λg.(λh.g))) (((((λj.(λk.(j (j k)))) (λl.(λz.(z (l (λx.(λc.(c (x (λv.(λb.(λn.n)))))))))))) (λm.(λq_1.(λw_1.(λe_1.w_1))))) (λr_1.r_1)) (λt_1.t_1))) (((λy_1.(λu_1.((((λi_1.(λo_1.(o_1 ((λp_1.(λa_1.(a_1 (p_1 y_1)))) (i_1 (λs_1.(λd_1.(d_1 (s_1 y_1))))))))) (λf_1.(λg_1.u_1))) (λh_1.h_1)) (λj_1.j_1)))) (λk_1.(λl_1.(λz_1.z_1)))) (λx_1.(λc_1.x_1))))\n",
      "36: (((((((λq.(λw.(q (q w)))) (λe.(λr.(λt.(((e (λy.(λu.(u (y r))))) (λi.t)) (λo.o)))))) (λp.(λa.(p (p a))))) (λs.(λd.(λf.f)))) (λg.(λh.g))) (((((λj.(λk.(j (j k)))) (λl.(λz.(z (l (λx.(λc.(c (x (λv.(λb.(λn.n)))))))))))) (λm.(λq_1.(λw_1.(λe_1.w_1))))) (λr_1.r_1)) (λt_1.t_1))) (((λy_1.(λu_1.((((λi_1.(λo_1.(o_1 (λp_1.(p_1 ((i_1 (λa_1.(λs_1.(s_1 (a_1 y_1))))) y_1)))))) (λd_1.(λf_1.u_1))) (λg_1.g_1)) (λh_1.h_1)))) (λj_1.(λk_1.(λl_1.l_1)))) (λz_1.(λx_1.z_1))))\n",
      "37: (((((((λk.(λl.(k (k l)))) (λz.(λx.(λc.(((z (λv.(λb.(b (v x))))) (λn.c)) (λm.m)))))) (λq_1.(λw_1.(q_1 (q_1 w_1))))) (λe_1.(λr_1.(λt_1.t_1)))) (λy_1.(λu_1.y_1))) (((((λi_1.(λo_1.(i_1 (i_1 o_1)))) (λp_1.(λa_1.(a_1 (p_1 (λs_1.(λd_1.(d_1 (s_1 (λf_1.(λg_1.(λh_1.h_1)))))))))))) (λj_1.(λk_1.(λl_1.(λz_1.l_1))))) (λq.q)) (λw.w))) (((λe.(λr.(((λt.(t (λy.(y (((λu.(λi.r)) (λo.(λp.(p (o e))))) e))))) (λa.a)) (λs.s)))) (λd.(λf.(λg.g)))) (λh.(λj.h))))\n",
      "38: (((((((λq.(λw.(q (q w)))) (λe.(λr.(λt.(((e (λy.(λu.(u (y r))))) (λi.t)) (λo.o)))))) (λp.(λa.(p (p a))))) (λs.(λd.(λf.f)))) (λg.(λh.g))) (((((λj.(λk.(j (j k)))) (λl.(λz.(z (l (λx.(λc.(c (x (λv.(λb.(λn.n)))))))))))) (λm.(λq_1.(λw_1.(λe_1.w_1))))) (λr_1.r_1)) (λt_1.t_1))) (((λy_1.(λu_1.(((λi_1.(i_1 (λo_1.(o_1 ((λp_1.u_1) y_1))))) (λa_1.a_1)) (λs_1.s_1)))) (λd_1.(λf_1.(λg_1.g_1)))) (λh_1.(λj_1.h_1))))\n",
      "39: (((((((λq.(λw.(q (q w)))) (λe.(λr.(λt.(((e (λy.(λu.(u (y r))))) (λi.t)) (λo.o)))))) (λp.(λa.(p (p a))))) (λs.(λd.(λf.f)))) (λg.(λh.g))) (((((λj.(λk.(j (j k)))) (λl.(λz.(z (l (λx.(λc.(c (x (λv.(λb.(λn.n)))))))))))) (λm.(λq_1.(λw_1.(λe_1.w_1))))) (λr_1.r_1)) (λt_1.t_1))) (((λy_1.(λu_1.(((λi_1.(i_1 (λo_1.(o_1 u_1)))) (λp_1.p_1)) (λa_1.a_1)))) (λs_1.(λd_1.(λf_1.f_1)))) (λg_1.(λh_1.g_1))))\n",
      "40: (((((((λh.(λj.(h (h j)))) (λk.(λl.(λz.(((k (λx.(λc.(c (x l))))) (λv.z)) (λb.b)))))) (λn.(λm.(n (n m))))) (λq_1.(λw_1.(λe_1.e_1)))) (λr_1.(λt_1.r_1))) (((((λy_1.(λu_1.(y_1 (y_1 u_1)))) (λi_1.(λo_1.(o_1 (i_1 (λp_1.(λa_1.(a_1 (p_1 (λs_1.(λd_1.(λf_1.f_1)))))))))))) (λg_1.(λq.(λw.(λe.w))))) (λr.r)) (λt.t))) (((λy.(λu.(((λi.i) (λo.(o u))) (λp.p)))) (λa.(λs.(λd.d)))) (λf.(λg.f))))\n",
      "41: (((((((λq.(λw.(q (q w)))) (λe.(λr.(λt.(((e (λy.(λu.(u (y r))))) (λi.t)) (λo.o)))))) (λp.(λa.(p (p a))))) (λs.(λd.(λf.f)))) (λg.(λh.g))) (((((λj.(λk.(j (j k)))) (λl.(λz.(z (l (λx.(λc.(c (x (λv.(λb.(λn.n)))))))))))) (λm.(λq_1.(λw_1.(λe_1.w_1))))) (λr_1.r_1)) (λt_1.t_1))) (((λy_1.(λu_1.((λi_1.(i_1 u_1)) (λo_1.o_1)))) (λp_1.(λa_1.(λs_1.s_1)))) (λd_1.(λf_1.d_1))))\n",
      "42: (((((((λq.(λw.(q (q w)))) (λe.(λr.(λt.(((e (λy.(λu.(u (y r))))) (λi.t)) (λo.o)))))) (λp.(λa.(p (p a))))) (λs.(λd.(λf.f)))) (λg.(λh.g))) (((((λj.(λk.(j (j k)))) (λl.(λz.(z (l (λx.(λc.(c (x (λv.(λb.(λn.n)))))))))))) (λm.(λq_1.(λw_1.(λe_1.w_1))))) (λr_1.r_1)) (λt_1.t_1))) (((λy_1.(λu_1.((λi_1.i_1) u_1))) (λo_1.(λp_1.(λa_1.a_1)))) (λs_1.(λd_1.s_1))))\n",
      "43: (((((((λt.(λy.(t (t y)))) (λu.(λi.(λo.(((u (λp.(λa.(a (p i))))) (λs.o)) (λd.d)))))) (λf.(λg.(f (f g))))) (λh.(λj.(λk.k)))) (λl.(λz.l))) (((((λx.(λc.(x (x c)))) (λv.(λb.(b (v (λn.(λm.(m (n (λq_1.(λw_1.(λe_1.e_1)))))))))))) (λr_1.(λt_1.(λy_1.(λu_1.y_1))))) (λi_1.i_1)) (λo_1.o_1))) (((λp_1.(λa_1.a_1)) (λs_1.(λq.(λw.w)))) (λe.(λr.e))))\n",
      "44: (((((((λq.(λw.(q (q w)))) (λe.(λr.(λt.(((e (λy.(λu.(u (y r))))) (λi.t)) (λo.o)))))) (λp.(λa.(p (p a))))) (λs.(λd.(λf.f)))) (λg.(λh.g))) (((((λj.(λk.(j (j k)))) (λl.(λz.(z (l (λx.(λc.(c (x (λv.(λb.(λn.n)))))))))))) (λm.(λq_1.(λw_1.(λe_1.w_1))))) (λr_1.r_1)) (λt_1.t_1))) ((λy_1.y_1) (λu_1.(λi_1.u_1))))\n",
      "45: (((((((λq.(λw.(q (q w)))) (λe.(λr.(λt.(((e (λy.(λu.(u (y r))))) (λi.t)) (λo.o)))))) (λp.(λa.(p (p a))))) (λs.(λd.(λf.f)))) (λg.(λh.g))) (((((λj.(λk.(j (j k)))) (λl.(λz.(z (l (λx.(λc.(c (x (λv.(λb.(λn.n)))))))))))) (λm.(λq_1.(λw_1.(λe_1.w_1))))) (λr_1.r_1)) (λt_1.t_1))) (λy_1.(λu_1.y_1)))\n",
      "46: (((((((λq.(λw.(q (q w)))) (λe.(λr.(λt.(((e (λy.(λu.(u (y r))))) (λi.t)) (λo.o)))))) (λp.(λa.(p (p a))))) (λs.(λd.(λf.f)))) (λg.(λh.g))) ((((λj.((λk.(λl.(l (k (λz.(λx.(x (z (λc.(λv.(λb.b))))))))))) ((λn.(λm.(m (n (λq_1.(λw_1.(w_1 (q_1 (λe_1.(λr_1.(λt_1.t_1))))))))))) j))) (λy_1.(λu_1.(λi_1.(λo_1.i_1))))) (λp_1.p_1)) (λa_1.a_1))) (λs_1.(λd_1.s_1)))\n",
      "47: (((((((λx.(λc.(x (x c)))) (λv.(λb.(λn.(((v (λm.(λq_1.(q_1 (m b))))) (λw_1.n)) (λe_1.e_1)))))) (λr_1.(λt_1.(r_1 (r_1 t_1))))) (λy_1.(λu_1.(λi_1.i_1)))) (λo_1.(λp_1.o_1))) ((((λa_1.((λs_1.(λq.(q (s_1 (λw.(λe.(e (w (λr.(λt.(λy.y))))))))))) (λu.(u (a_1 (λi.(λo.(o (i (λp.(λa.(λs.s)))))))))))) (λd.(λf.(λg.(λh.g))))) (λj.j)) (λk.k))) (λl.(λz.l)))\n",
      "48: (((((((λq.(λw.(q (q w)))) (λe.(λr.(λt.(((e (λy.(λu.(u (y r))))) (λi.t)) (λo.o)))))) (λp.(λa.(p (p a))))) (λs.(λd.(λf.f)))) (λg.(λh.g))) ((((λj.(λk.(k ((λl.(l (j (λz.(λx.(x (z (λc.(λv.(λb.b)))))))))) (λn.(λm.(m (n (λq_1.(λw_1.(λe_1.e_1))))))))))) (λr_1.(λt_1.(λy_1.(λu_1.y_1))))) (λi_1.i_1)) (λo_1.o_1))) (λp_1.(λa_1.p_1)))\n",
      "49: (((((((λq.(λw.(q (q w)))) (λe.(λr.(λt.(((e (λy.(λu.(u (y r))))) (λi.t)) (λo.o)))))) (λp.(λa.(p (p a))))) (λs.(λd.(λf.f)))) (λg.(λh.g))) ((((λj.(λk.(k ((λl.(λz.(z (l (λx.(λc.(λv.v))))))) (j (λb.(λn.(n (b (λm.(λq_1.(λw_1.w_1)))))))))))) (λe_1.(λr_1.(λt_1.(λy_1.t_1))))) (λu_1.u_1)) (λi_1.i_1))) (λo_1.(λp_1.o_1)))\n",
      "50: (((((((λq.(λw.(q (q w)))) (λe.(λr.(λt.(((e (λy.(λu.(u (y r))))) (λi.t)) (λo.o)))))) (λp.(λa.(p (p a))))) (λs.(λd.(λf.f)))) (λg.(λh.g))) ((((λj.(λk.(k (λl.(l ((j (λz.(λx.(x (z (λc.(λv.(λb.b)))))))) (λn.(λm.(λq_1.q_1))))))))) (λw_1.(λe_1.(λr_1.(λt_1.r_1))))) (λy_1.y_1)) (λu_1.u_1))) (λi_1.(λo_1.i_1)))\n",
      "51: (((((((λq.(λw.(q (q w)))) (λe.(λr.(λt.(((e (λy.(λu.(u (y r))))) (λi.t)) (λo.o)))))) (λp.(λa.(p (p a))))) (λs.(λd.(λf.f)))) (λg.(λh.g))) (((λj.(j (λk.(k (((λl.(λz.(λx.(λc.x)))) (λv.(λb.(b (v (λn.(λm.(λq_1.q_1)))))))) (λw_1.(λe_1.(λr_1.r_1)))))))) (λt_1.t_1)) (λy_1.y_1))) (λu_1.(λi_1.u_1)))\n",
      "52: (((((((λq.(λw.(q (q w)))) (λe.(λr.(λt.(((e (λy.(λu.(u (y r))))) (λi.t)) (λo.o)))))) (λp.(λa.(p (p a))))) (λs.(λd.(λf.f)))) (λg.(λh.g))) (((λj.(j (λk.(k ((λl.(λz.(λx.z))) (λc.(λv.(λb.b)))))))) (λn.n)) (λm.m))) (λq_1.(λw_1.q_1)))\n",
      "53: (((((((λq.(λw.(q (q w)))) (λe.(λr.(λt.(((e (λy.(λu.(u (y r))))) (λi.t)) (λo.o)))))) (λp.(λa.(p (p a))))) (λs.(λd.(λf.f)))) (λg.(λh.g))) (((λj.(j (λk.(k (λl.(λz.l)))))) (λx.x)) (λc.c))) (λv.(λb.v)))\n",
      "54: (((((((λq.(λw.(q (q w)))) (λe.(λr.(λt.(((e (λy.(λu.(u (y r))))) (λi.t)) (λo.o)))))) (λp.(λa.(p (p a))))) (λs.(λd.(λf.f)))) (λg.(λh.g))) (((λj.j) (λk.(k (λl.(λz.l))))) (λx.x))) (λc.(λv.c)))\n",
      "55: (((((((λr.(λt.(r (r t)))) (λy.(λu.(λi.(((y (λo.(λp.(p (o u))))) (λa.i)) (λs.s)))))) (λd.(λf.(d (d f))))) (λg.(λh.(λj.j)))) (λk.(λl.k))) ((λz.(z (λx.(λc.x)))) (λq.q))) (λw.(λe.w)))\n",
      "56: (((((((λq.(λw.(q (q w)))) (λe.(λr.(λt.(((e (λy.(λu.(u (y r))))) (λi.t)) (λo.o)))))) (λp.(λa.(p (p a))))) (λs.(λd.(λf.f)))) (λg.(λh.g))) ((λj.j) (λk.(λl.k)))) (λz.(λx.z)))\n",
      "57: (((((((λq.(λw.(q (q w)))) (λe.(λr.(λt.(((e (λy.(λu.(u (y r))))) (λi.t)) (λo.o)))))) (λp.(λa.(p (p a))))) (λs.(λd.(λf.f)))) (λg.(λh.g))) (λj.(λk.j))) (λl.(λz.l)))\n",
      "58: ((((((λq.((λw.(λe.(λr.(((w (λt.(λy.(y (t e))))) (λu.r)) (λi.i))))) ((λo.(λp.(λa.(((o (λs.(λd.(d (s p))))) (λf.a)) (λg.g))))) q))) (λh.(λj.(h (h j))))) (λk.(λl.(λz.z)))) (λx.(λc.x))) (λv.(λb.v))) (λn.(λm.n)))\n",
      "59: ((((((λq.((λw.(λe.(λr.(((w (λt.(λy.(y (t e))))) (λu.r)) (λi.i))))) (λo.(λp.(((q (λa.(λs.(s (a o))))) (λd.p)) (λf.f)))))) (λg.(λh.(g (g h))))) (λj.(λk.(λl.l)))) (λz.(λx.z))) (λc.(λv.c))) (λb.(λn.b)))\n",
      "60: ((((((λq.(λw.(λe.((((λr.(λt.(((q (λy.(λu.(u (y r))))) (λi.t)) (λo.o)))) (λp.(λa.(a (p w))))) (λs.e)) (λd.d))))) (λf.(λg.(f (f g))))) (λh.(λj.(λk.k)))) (λl.(λz.l))) (λx.(λc.x))) (λv.(λb.v)))\n",
      "61: ((((((λg.(λh.(λj.(((λk.(((g (λl.(λz.(z (l (λx.(λc.(c (x h))))))))) (λv.k)) (λq.q))) (λw.j)) (λe.e))))) (λr.(λt.(r (r t))))) (λy.(λu.(λi.i)))) (λo.(λp.o))) (λa.(λs.a))) (λd.(λf.d)))\n",
      "62: ((((((λq.(λw.(λe.((((q (λr.(λt.(t (r (λy.(λu.(u (y w))))))))) (λi.(λo.e))) (λp.p)) (λa.a))))) (λs.(λd.(s (s d))))) (λf.(λg.(λh.h)))) (λj.(λk.j))) (λl.(λz.l))) (λx.(λc.x)))\n",
      "63: (((((λq.(λw.(((((λe.(λr.(e (e r)))) (λt.(λy.(y (t (λu.(λi.(i (u q))))))))) (λo.(λp.w))) (λa.a)) (λs.s)))) (λd.(λf.(λg.g)))) (λh.(λj.h))) (λk.(λl.k))) (λz.(λx.z)))\n",
      "64: (((((λq.(λw.((((λe.((λr.(λt.(t (r (λy.(λu.(u (y q)))))))) ((λi.(λo.(o (i (λp.(λa.(a (p q)))))))) e))) (λs.(λd.w))) (λf.f)) (λg.g)))) (λh.(λj.(λk.k)))) (λl.(λz.l))) (λx.(λc.x))) (λv.(λb.v)))\n",
      "65: (((((λq.(λw.((((λe.((λr.(λt.(t (r (λy.(λu.(u (y q)))))))) (λi.(i (e (λo.(λp.(p (o q))))))))) (λa.(λs.w))) (λd.d)) (λf.f)))) (λg.(λh.(λj.j)))) (λk.(λl.k))) (λz.(λx.z))) (λc.(λv.c)))\n",
      "66: (((((λq.(λw.((((λe.(λr.(r ((λt.(t (e (λy.(λu.(u (y q))))))) (λi.(λo.(o (i q)))))))) (λp.(λa.w))) (λs.s)) (λd.d)))) (λf.(λg.(λh.h)))) (λj.(λk.j))) (λl.(λz.l))) (λx.(λc.x)))\n",
      "67: (((((λz.(λx.((((λq.(λw.(w ((λe.(λr.(r (e z)))) (q (λt.(λy.(y (t z))))))))) (λu.(λi.x))) (λo.o)) (λp.p)))) (λa.(λs.(λd.d)))) (λf.(λg.f))) (λh.(λj.h))) (λk.(λl.k)))\n",
      "68: (((((λq.(λw.((((λe.(λr.(r (λt.(t ((e (λy.(λu.(u (y q))))) q)))))) (λi.(λo.w))) (λp.p)) (λa.a)))) (λs.(λd.(λf.f)))) (λg.(λh.g))) (λj.(λk.j))) (λl.(λz.l)))\n",
      "69: (((((λq.(λw.(((λe.(e (λr.(r (((λt.(λy.w)) (λu.(λi.(i (u q))))) q))))) (λo.o)) (λp.p)))) (λa.(λs.(λd.d)))) (λf.(λg.f))) (λh.(λj.h))) (λk.(λl.k)))\n",
      "70: (((((λa.(λs.(((λd.(d (λf.(f ((λg.s) a))))) (λh.h)) (λq.q)))) (λw.(λe.(λr.r)))) (λt.(λy.t))) (λu.(λi.u))) (λo.(λp.o)))\n",
      "71: (((((λq.(λw.(((λe.(e (λr.(r w)))) (λt.t)) (λy.y)))) (λu.(λi.(λo.o)))) (λp.(λa.p))) (λs.(λd.s))) (λf.(λg.f)))\n",
      "72: (((((λi.(λo.(((λp.p) (λa.(a o))) (λs.s)))) (λd.(λf.(λq.q)))) (λw.(λe.w))) (λr.(λt.r))) (λy.(λu.y)))\n",
      "73: (((((λq.(λw.((λe.(e w)) (λr.r)))) (λt.(λy.(λu.u)))) (λi.(λo.i))) (λp.(λa.p))) (λs.(λd.s)))\n",
      "74: (((((λq.(λw.((λe.e) w))) (λr.(λt.(λy.y)))) (λu.(λi.u))) (λo.(λp.o))) (λa.(λs.a)))\n",
      "75: (((((λq.(λw.w)) (λe.(λr.(λt.t)))) (λy.(λu.y))) (λi.(λo.i))) (λp.(λa.p)))\n",
      "76: ((((λq.q) (λw.(λe.w))) (λr.(λt.r))) (λy.(λu.y)))\n",
      "77: (((λq.(λw.q)) (λe.(λr.e))) (λt.(λy.t)))\n",
      "78: ((λq.(λw.(λe.w))) (λr.(λt.r)))\n",
      "79: (λq.(λw.q))\n",
      "\n",
      "\n",
      "reduction steps: 79\n",
      "norm term:       (λq.(λw.q))\n"
     ]
    }
   ],
   "source": [
    "def term_test_12():\n",
    "    return multi_app_term(eq_term(), num_term(2), num_term(2))\n",
    "\n",
    "\n",
    "test_procedure(term_test_12(), steps_lim=100)"
   ],
   "metadata": {
    "collapsed": false
   }
  },
  {
   "cell_type": "markdown",
   "source": [
    "# <span style=\"color: #A1F99C\">13.</span>\n",
    "<span style=\"color:#bb91f3\">(EQ 1 4)</span> == <span style=\"color:#f1bd47\">FALSE</span> == <span style=\"color:#f1bd47\">λx. λy. y</span>"
   ],
   "metadata": {
    "collapsed": false
   }
  },
  {
   "cell_type": "code",
   "execution_count": 18,
   "outputs": [
    {
     "name": "stdout",
     "output_type": "stream",
     "text": [
      "0: (((λq.(λw.(((λe.(λr.((((λt.(λy.(λu.((t y) u)))) e) r) e))) (((λi.(λo.((λp.((p (λa.(λs.(λd.d)))) (λf.(λg.f)))) (((λh.(λj.((j (λk.(λl.(λz.(((k (λx.(λc.(c (x l))))) (λv.z)) (λb.b)))))) h))) i) o)))) q) w)) (((λn.(λm.((λq_1.((q_1 (λw_1.(λe_1.(λr_1.r_1)))) (λt_1.(λy_1.t_1)))) (((λu_1.(λi_1.((i_1 (λo_1.(λp_1.(λa_1.(((o_1 (λs_1.(λd_1.(d_1 (s_1 p_1))))) (λf_1.a_1)) (λg_1.g_1)))))) u_1))) n) m)))) w) q)))) (λh_1.(λj_1.(h_1 j_1)))) (λk_1.(λl_1.(k_1 (k_1 (k_1 (k_1 l_1)))))))\n",
      "1: (((λp_1.(λa_1.(((λs_1.(λd_1.((((λf_1.(λg_1.(λh_1.((f_1 g_1) h_1)))) s_1) d_1) s_1))) (((λj_1.(λk_1.((λq.((q (λw.(λe.(λr.r)))) (λt.(λy.t)))) (((λu.(λi.((i (λo.(λp.(λa.(((o (λs.(λd.(d (s p))))) (λf.a)) (λg.g)))))) u))) j_1) k_1)))) p_1) a_1)) (((λh.(λj.((λk.((k (λl.(λz.(λx.x)))) (λc.(λv.c)))) ((λb.((b (λn.(λm.(λq_1.(((n (λw_1.(λe_1.(e_1 (w_1 m))))) (λr_1.q_1)) (λt_1.t_1)))))) h)) j)))) a_1) p_1)))) (λy_1.(λu_1.(y_1 u_1)))) (λi_1.(λo_1.(i_1 (i_1 (i_1 (i_1 o_1)))))))\n",
      "2: (((λq.(λw.(((λe.(λr.((((λt.(λy.(λu.((t y) u)))) e) r) e))) (((λi.(λo.((λp.((p (λa.(λs.(λd.d)))) (λf.(λg.f)))) (((λh.(λj.((j (λk.(λl.(λz.(((k (λx.(λc.(c (x l))))) (λv.z)) (λb.b)))))) h))) i) o)))) q) w)) (((λn.(λm.((λq_1.((q_1 (λw_1.(λe_1.(λr_1.r_1)))) (λt_1.(λy_1.t_1)))) ((m (λu_1.(λi_1.(λo_1.(((u_1 (λp_1.(λa_1.(a_1 (p_1 i_1))))) (λs_1.o_1)) (λd_1.d_1)))))) n)))) w) q)))) (λf_1.(λg_1.(f_1 g_1)))) (λh_1.(λj_1.(h_1 (h_1 (h_1 (h_1 j_1)))))))\n",
      "3: (((λq.(λw.(((λe.(λr.((((λt.(λy.(λu.((t y) u)))) e) r) e))) (((λi.(λo.((λp.((p (λa.(λs.(λd.d)))) (λf.(λg.f)))) (((λh.(λj.((j (λk.(λl.(λz.(((k (λx.(λc.(c (x l))))) (λv.z)) (λb.b)))))) h))) i) o)))) q) w)) (((λn.(λm.((((m (λq_1.(λw_1.(λe_1.(((q_1 (λr_1.(λt_1.(t_1 (r_1 w_1))))) (λy_1.e_1)) (λu_1.u_1)))))) n) (λi_1.(λo_1.(λp_1.p_1)))) (λa_1.(λs_1.a_1))))) w) q)))) (λd_1.(λf_1.(d_1 f_1)))) (λg_1.(λh_1.(g_1 (g_1 (g_1 (g_1 h_1)))))))\n",
      "4: (((λi_1.(λo_1.(((λp_1.(λa_1.((((λs_1.(λd_1.(λf_1.((s_1 d_1) f_1)))) p_1) a_1) p_1))) (((λg_1.(λq.((λw.((w (λe.(λr.(λt.t)))) (λy.(λu.y)))) (((λi.(λo.((o (λp.(λa.(λs.(((p (λd.(λf.(f (d a))))) (λg.s)) (λh.h)))))) i))) g_1) q)))) i_1) o_1)) ((λj.((((j (λk.(λl.(λz.(((k (λx.(λc.(c (x l))))) (λv.z)) (λb.b)))))) o_1) (λn.(λm.(λq_1.q_1)))) (λw_1.(λe_1.w_1)))) i_1)))) (λr_1.(λt_1.(r_1 t_1)))) (λy_1.(λu_1.(y_1 (y_1 (y_1 (y_1 u_1)))))))\n",
      "5: (((λq.(λw.(((λe.(λr.((((λt.(λy.(λu.((t y) u)))) e) r) e))) (((λi.(λo.((λp.((p (λa.(λs.(λd.d)))) (λf.(λg.f)))) (((λh.(λj.((j (λk.(λl.(λz.(((k (λx.(λc.(c (x l))))) (λv.z)) (λb.b)))))) h))) i) o)))) q) w)) ((((q (λn.(λm.(λq_1.(((n (λw_1.(λe_1.(e_1 (w_1 m))))) (λr_1.q_1)) (λt_1.t_1)))))) w) (λy_1.(λu_1.(λi_1.i_1)))) (λo_1.(λp_1.o_1)))))) (λa_1.(λs_1.(a_1 s_1)))) (λd_1.(λf_1.(d_1 (d_1 (d_1 (d_1 f_1)))))))\n",
      "6: (((λq.(λw.(((λe.(λr.((((λt.(λy.(λu.((t y) u)))) e) r) e))) (((λi.(λo.((λp.((p (λa.(λs.(λd.d)))) (λf.(λg.f)))) ((λh.((h (λj.(λk.(λl.(((j (λz.(λx.(x (z k))))) (λc.l)) (λv.v)))))) i)) o)))) q) w)) ((((q (λb.(λn.(λm.(((b (λq_1.(λw_1.(w_1 (q_1 n))))) (λe_1.m)) (λr_1.r_1)))))) w) (λt_1.(λy_1.(λu_1.u_1)))) (λi_1.(λo_1.i_1)))))) (λp_1.(λa_1.(p_1 a_1)))) (λs_1.(λd_1.(s_1 (s_1 (s_1 (s_1 d_1)))))))\n",
      "7: (((λv.(λb.(((λn.(λm.((((λq_1.(λw_1.(λe_1.((q_1 w_1) e_1)))) n) m) n))) (((λr_1.(λt_1.((λy_1.((y_1 (λu_1.(λi_1.(λo_1.o_1)))) (λp_1.(λa_1.p_1)))) ((t_1 (λs_1.(λq.(λw.(((s_1 (λe.(λr.(r (e q))))) (λt.w)) (λy.y)))))) r_1)))) v) b)) ((((v (λu.(λi.(λo.(((u (λp.(λa.(a (p i))))) (λs.o)) (λd.d)))))) b) (λf.(λg.(λh.h)))) (λj.(λk.j)))))) (λl.(λz.(l z)))) (λx.(λc.(x (x (x (x c)))))))\n",
      "8: (((λq.(λw.(((λe.(λr.((((λt.(λy.(λu.((t y) u)))) e) r) e))) (((λi.(λo.((((o (λp.(λa.(λs.(((p (λd.(λf.(f (d a))))) (λg.s)) (λh.h)))))) i) (λj.(λk.(λl.l)))) (λz.(λx.z))))) q) w)) ((((q (λc.(λv.(λb.(((c (λn.(λm.(m (n v))))) (λq_1.b)) (λw_1.w_1)))))) w) (λe_1.(λr_1.(λt_1.t_1)))) (λy_1.(λu_1.y_1)))))) (λi_1.(λo_1.(i_1 o_1)))) (λp_1.(λa_1.(p_1 (p_1 (p_1 (p_1 a_1)))))))\n",
      "9: (((λq.(λw.(((λe.(λr.((((λt.(λy.(λu.((t y) u)))) e) r) e))) ((λi.((((i (λo.(λp.(λa.(((o (λs.(λd.(d (s p))))) (λf.a)) (λg.g)))))) q) (λh.(λj.(λk.k)))) (λl.(λz.l)))) w)) ((((q (λx.(λc.(λv.(((x (λb.(λn.(n (b c))))) (λm.v)) (λq_1.q_1)))))) w) (λw_1.(λe_1.(λr_1.r_1)))) (λt_1.(λy_1.t_1)))))) (λu_1.(λi_1.(u_1 i_1)))) (λo_1.(λp_1.(o_1 (o_1 (o_1 (o_1 p_1)))))))\n",
      "10: (((λe.(λr.(((λt.(λy.((((λu.(λi.(λo.((u i) o)))) t) y) t))) ((((r (λp.(λa.(λs.(((p (λd.(λf.(f (d a))))) (λg.s)) (λh.h)))))) e) (λj.(λk.(λl.l)))) (λz.(λx.z)))) ((((e (λc.(λv.(λb.(((c (λn.(λm.(m (n v))))) (λq_1.b)) (λw_1.w_1)))))) r) (λe_1.(λr_1.(λt_1.t_1)))) (λy_1.(λu_1.y_1)))))) (λi_1.(λo_1.(i_1 o_1)))) (λq.(λw.(q (q (q (q w)))))))\n",
      "11: (((λq.(λw.(((λe.(λr.(((λt.(λy.((e t) y))) r) e))) ((((w (λu.(λi.(λo.(((u (λp.(λa.(a (p i))))) (λs.o)) (λd.d)))))) q) (λf.(λg.(λh.h)))) (λj.(λk.j)))) ((((q (λl.(λz.(λx.(((l (λc.(λv.(v (c z))))) (λb.x)) (λn.n)))))) w) (λm.(λq_1.(λw_1.w_1)))) (λe_1.(λr_1.e_1)))))) (λt_1.(λy_1.(t_1 y_1)))) (λu_1.(λi_1.(u_1 (u_1 (u_1 (u_1 i_1)))))))\n",
      "12: (((λq.(λw.(((λe.(λr.((λt.((e r) t)) e))) ((((w (λy.(λu.(λi.(((y (λo.(λp.(p (o u))))) (λa.i)) (λs.s)))))) q) (λd.(λf.(λg.g)))) (λh.(λj.h)))) ((((q (λk.(λl.(λz.(((k (λx.(λc.(c (x l))))) (λv.z)) (λb.b)))))) w) (λn.(λm.(λq_1.q_1)))) (λw_1.(λe_1.w_1)))))) (λr_1.(λt_1.(r_1 t_1)))) (λy_1.(λu_1.(y_1 (y_1 (y_1 (y_1 u_1)))))))\n",
      "13: (((λq.(λw.(((λe.(λr.((e r) e))) ((((w (λt.(λy.(λu.(((t (λi.(λo.(o (i y))))) (λp.u)) (λa.a)))))) q) (λs.(λd.(λf.f)))) (λg.(λh.g)))) ((((q (λj.(λk.(λl.(((j (λz.(λx.(x (z k))))) (λc.l)) (λv.v)))))) w) (λb.(λn.(λm.m)))) (λq_1.(λw_1.q_1)))))) (λe_1.(λr_1.(e_1 r_1)))) (λt_1.(λy_1.(t_1 (t_1 (t_1 (t_1 y_1)))))))\n",
      "14: (((λj.(λk.((λl.((((((k (λz.(λx.(λc.(((z (λv.(λb.(b (v x))))) (λn.c)) (λm.m)))))) j) (λq_1.(λw_1.(λe_1.e_1)))) (λr_1.(λt_1.r_1))) l) ((((k (λy_1.(λu_1.(λi_1.(((y_1 (λo_1.(λp_1.(p_1 (o_1 u_1))))) (λa_1.i_1)) (λs_1.s_1)))))) j) (λd_1.(λf_1.(λg_1.g_1)))) (λh_1.(λj_1.h_1))))) ((((j (λq.(λw.(λe.(((q (λr.(λt.(t (r w))))) (λy.e)) (λu.u)))))) k) (λi.(λo.(λp.p)))) (λa.(λs.a)))))) (λd.(λf.(d f)))) (λg.(λh.(g (g (g (g h)))))))\n",
      "15: (((λq.(λw.((((((w (λe.(λr.(λt.(((e (λy.(λu.(u (y r))))) (λi.t)) (λo.o)))))) q) (λp.(λa.(λs.s)))) (λd.(λf.d))) ((((q (λg.(λh.(λj.(((g (λk.(λl.(l (k h))))) (λz.j)) (λx.x)))))) w) (λc.(λv.(λb.b)))) (λn.(λm.n)))) ((((w (λq_1.(λw_1.(λe_1.(((q_1 (λr_1.(λt_1.(t_1 (r_1 w_1))))) (λy_1.e_1)) (λu_1.u_1)))))) q) (λi_1.(λo_1.(λp_1.p_1)))) (λa_1.(λs_1.a_1)))))) (λd_1.(λf_1.(d_1 f_1)))) (λg_1.(λh_1.(g_1 (g_1 (g_1 (g_1 h_1)))))))\n",
      "16: ((λq.((((((q (λw.(λe.(λr.(((w (λt.(λy.(y (t e))))) (λu.r)) (λi.i)))))) (λo.(λp.(o p)))) (λa.(λs.(λd.d)))) (λf.(λg.f))) (((((λh.(λj.(h j))) (λk.(λl.(λz.(((k (λx.(λc.(c (x l))))) (λv.z)) (λb.b)))))) q) (λn.(λm.(λq_1.q_1)))) (λw_1.(λe_1.w_1)))) ((((q (λr_1.(λt_1.(λy_1.(((r_1 (λu_1.(λi_1.(i_1 (u_1 t_1))))) (λo_1.y_1)) (λp_1.p_1)))))) (λa_1.(λs_1.(a_1 s_1)))) (λd_1.(λf_1.(λg_1.g_1)))) (λh_1.(λj_1.h_1))))) (λk_1.(λl_1.(k_1 (k_1 (k_1 (k_1 l_1)))))))\n",
      "17: ((λz.((((((z (λx.(λc.(λv.(((x (λb.(λn.(n (b c))))) (λm.v)) (λq_1.q_1)))))) (λw_1.(λe_1.(w_1 e_1)))) (λr_1.(λt_1.(λy_1.y_1)))) (λu_1.(λi_1.u_1))) ((((λo_1.((λp_1.(λa_1.(λs_1.(((p_1 (λd_1.(λf_1.(f_1 (d_1 a_1))))) (λg_1.s_1)) (λh_1.h_1))))) o_1)) z) (λj_1.(λk_1.(λq.q)))) (λw.(λe.w)))) ((((z (λr.(λt.(λy.(((r (λu.(λi.(i (u t))))) (λo.y)) (λp.p)))))) (λa.(λs.(a s)))) (λd.(λf.(λg.g)))) (λh.(λj.h))))) (λk.(λl.(k (k (k (k l)))))))\n",
      "18: ((λq.((((((q (λw.(λe.(λr.(((w (λt.(λy.(y (t e))))) (λu.r)) (λi.i)))))) (λo.(λp.(o p)))) (λa.(λs.(λd.d)))) (λf.(λg.f))) ((((λh.(λj.(λk.(((h (λl.(λz.(z (l j))))) (λx.k)) (λc.c))))) q) (λv.(λb.(λn.n)))) (λm.(λq_1.m)))) ((((q (λw_1.(λe_1.(λr_1.(((w_1 (λt_1.(λy_1.(y_1 (t_1 e_1))))) (λu_1.r_1)) (λi_1.i_1)))))) (λo_1.(λp_1.(o_1 p_1)))) (λa_1.(λs_1.(λd_1.d_1)))) (λf_1.(λg_1.f_1))))) (λh_1.(λj_1.(h_1 (h_1 (h_1 (h_1 j_1)))))))\n",
      "19: ((λq.((((((q (λw.(λe.(λr.(((w (λt.(λy.(y (t e))))) (λu.r)) (λi.i)))))) (λo.(λp.(o p)))) (λa.(λs.(λd.d)))) (λf.(λg.f))) (((λh.(λj.(((q (λk.(λl.(l (k h))))) (λz.j)) (λx.x)))) (λc.(λv.(λb.b)))) (λn.(λm.n)))) ((((q (λq_1.(λw_1.(λe_1.(((q_1 (λr_1.(λt_1.(t_1 (r_1 w_1))))) (λy_1.e_1)) (λu_1.u_1)))))) (λi_1.(λo_1.(i_1 o_1)))) (λp_1.(λa_1.(λs_1.s_1)))) (λd_1.(λf_1.d_1))))) (λg_1.(λh_1.(g_1 (g_1 (g_1 (g_1 h_1)))))))\n",
      "20: ((λk.((((((k (λl.(λz.(λx.(((l (λc.(λv.(v (c z))))) (λb.x)) (λn.n)))))) (λm.(λq_1.(m q_1)))) (λw_1.(λe_1.(λr_1.r_1)))) (λt_1.(λy_1.t_1))) ((λu_1.(((k (λi_1.(λo_1.(o_1 (i_1 (λp_1.(λa_1.(λs_1.s_1)))))))) (λd_1.u_1)) (λf_1.f_1))) (λg_1.(λq.g_1)))) ((((k (λw.(λe.(λr.(((w (λt.(λy.(y (t e))))) (λu.r)) (λi.i)))))) (λo.(λp.(o p)))) (λa.(λs.(λd.d)))) (λf.(λg.f))))) (λh.(λj.(h (h (h (h j)))))))\n",
      "21: ((λq.((((((q (λw.(λe.(λr.(((w (λt.(λy.(y (t e))))) (λu.r)) (λi.i)))))) (λo.(λp.(o p)))) (λa.(λs.(λd.d)))) (λf.(λg.f))) (((q (λh.(λj.(j (h (λk.(λl.(λz.z)))))))) (λx.(λc.(λv.c)))) (λb.b))) ((((q (λn.(λm.(λq_1.(((n (λw_1.(λe_1.(e_1 (w_1 m))))) (λr_1.q_1)) (λt_1.t_1)))))) (λy_1.(λu_1.(y_1 u_1)))) (λi_1.(λo_1.(λp_1.p_1)))) (λa_1.(λs_1.a_1))))) (λd_1.(λf_1.(d_1 (d_1 (d_1 (d_1 f_1)))))))\n",
      "22: (((((((λq.(λw.(q (q (q (q w)))))) (λe.(λr.(λt.(((e (λy.(λu.(u (y r))))) (λi.t)) (λo.o)))))) (λp.(λa.(p a)))) (λs.(λd.(λf.f)))) (λg.(λh.g))) ((((λj.(λk.(j (j (j (j k)))))) (λl.(λz.(z (l (λx.(λc.(λv.v)))))))) (λb.(λn.(λm.n)))) (λq_1.q_1))) (((((λw_1.(λe_1.(w_1 (w_1 (w_1 (w_1 e_1)))))) (λr_1.(λt_1.(λy_1.(((r_1 (λu_1.(λi_1.(i_1 (u_1 t_1))))) (λo_1.y_1)) (λp_1.p_1)))))) (λa_1.(λs_1.(a_1 s_1)))) (λd_1.(λf_1.(λg_1.g_1)))) (λh_1.(λj_1.h_1))))\n",
      "23: (((((((λp_1.(λa_1.(p_1 (p_1 (p_1 (p_1 a_1)))))) (λs_1.(λd_1.(λf_1.(((s_1 (λg_1.(λh_1.(h_1 (g_1 d_1))))) (λj_1.f_1)) (λk_1.k_1)))))) (λl_1.(λz_1.(l_1 z_1)))) (λx_1.(λc_1.(λv_1.v_1)))) (λb_1.(λn_1.b_1))) ((((λm_1.(λq_2.(m_1 (m_1 (m_1 (m_1 q_2)))))) (λw_2.(λe_2.(e_2 (w_2 (λr_2.(λt_2.(λy_2.y_2)))))))) (λu_2.(λi_2.(λo_2.i_2)))) (λp_2.p_2))) ((((λa_2.((λq.(λw.(λe.(((q (λr.(λt.(t (r w))))) (λy.e)) (λu.u))))) ((λi.(λo.(λp.(((i (λa.(λs.(s (a o))))) (λd.p)) (λf.f))))) ((λg.(λh.(λj.(((g (λk.(λl.(l (k h))))) (λz.j)) (λx.x))))) ((λc.(λv.(λb.(((c (λn.(λm.(m (n v))))) (λq_1.b)) (λw_1.w_1))))) a_2))))) (λe_1.(λr_1.(e_1 r_1)))) (λt_1.(λy_1.(λu_1.u_1)))) (λi_1.(λo_1.i_1))))\n",
      "24: (((((((λq.(λw.(q (q (q (q w)))))) (λe.(λr.(λt.(((e (λy.(λu.(u (y r))))) (λi.t)) (λo.o)))))) (λp.(λa.(p a)))) (λs.(λd.(λf.f)))) (λg.(λh.g))) ((((λj.(λk.(j (j (j (j k)))))) (λl.(λz.(z (l (λx.(λc.(λv.v)))))))) (λb.(λn.(λm.n)))) (λq_1.q_1))) ((((λw_1.((λe_1.(λr_1.(λt_1.(((e_1 (λy_1.(λu_1.(u_1 (y_1 r_1))))) (λi_1.t_1)) (λo_1.o_1))))) ((λp_1.(λa_1.(λs_1.(((p_1 (λd_1.(λf_1.(f_1 (d_1 a_1))))) (λg_1.s_1)) (λh_1.h_1))))) ((λj_1.(λk_1.(λl_1.(((j_1 (λz_1.(λx_1.(x_1 (z_1 k_1))))) (λc_1.l_1)) (λv_1.v_1))))) (λb_1.(λn_1.(((w_1 (λm_1.(λq_2.(q_2 (m_1 b_1))))) (λw_2.n_1)) (λe_2.e_2)))))))) (λr_2.(λt_2.(r_2 t_2)))) (λy_2.(λu_2.(λi_2.i_2)))) (λo_2.(λp_2.o_2))))\n",
      "25: (((((((λt_1.(λy_1.(t_1 (t_1 (t_1 (t_1 y_1)))))) (λu_1.(λi_1.(λo_1.(((u_1 (λp_1.(λa_1.(a_1 (p_1 i_1))))) (λs_1.o_1)) (λd_1.d_1)))))) (λf_1.(λg_1.(f_1 g_1)))) (λh_1.(λj_1.(λk_1.k_1)))) (λl_1.(λz_1.l_1))) ((((λx_1.(λc_1.(x_1 (x_1 (x_1 (x_1 c_1)))))) (λv_1.(λb_1.(b_1 (v_1 (λn_1.(λm_1.(λq_2.q_2)))))))) (λw_2.(λe_2.(λr_2.e_2)))) (λt_2.t_2))) ((((λy_2.((λu_2.(λi_2.(λo_2.(((u_2 (λq.(λw.(w (q i_2))))) (λe.o_2)) (λr.r))))) ((λt.(λy.(λu.(((t (λi.(λo.(o (i y))))) (λp.u)) (λa.a))))) (λs.(λd.((((λf.(λg.(((y_2 (λh.(λj.(j (h f))))) (λk.g)) (λl.l)))) (λz.(λx.(x (z s))))) (λc.d)) (λv.v))))))) (λb.(λn.(b n)))) (λm.(λq_1.(λw_1.w_1)))) (λe_1.(λr_1.e_1))))\n",
      "26: (((((((λq.(λw.(q (q (q (q w)))))) (λe.(λr.(λt.(((e (λy.(λu.(u (y r))))) (λi.t)) (λo.o)))))) (λp.(λa.(p a)))) (λs.(λd.(λf.f)))) (λg.(λh.g))) ((((λj.(λk.(j (j (j (j k)))))) (λl.(λz.(z (l (λx.(λc.(λv.v)))))))) (λb.(λn.(λm.n)))) (λq_1.q_1))) ((((λw_1.((λe_1.(λr_1.(λt_1.(((e_1 (λy_1.(λu_1.(u_1 (y_1 r_1))))) (λi_1.t_1)) (λo_1.o_1))))) ((λp_1.(λa_1.(λs_1.(((p_1 (λd_1.(λf_1.(f_1 (d_1 a_1))))) (λg_1.s_1)) (λh_1.h_1))))) (λj_1.(λk_1.(((λl_1.(((w_1 (λz_1.(λx_1.(x_1 (z_1 (λc_1.(λv_1.(v_1 (c_1 j_1))))))))) (λb_1.l_1)) (λn_1.n_1))) (λm_1.k_1)) (λq_2.q_2))))))) (λw_2.(λe_2.(w_2 e_2)))) (λr_2.(λt_2.(λy_2.y_2)))) (λu_2.(λi_2.u_2))))\n",
      "27: (((((((λc.(λv.(c (c (c (c v)))))) (λb.(λn.(λm.(((b (λq_1.(λw_1.(w_1 (q_1 n))))) (λe_1.m)) (λr_1.r_1)))))) (λt_1.(λy_1.(t_1 y_1)))) (λu_1.(λi_1.(λo_1.o_1)))) (λp_1.(λa_1.p_1))) ((((λs_1.(λd_1.(s_1 (s_1 (s_1 (s_1 d_1)))))) (λf_1.(λg_1.(g_1 (f_1 (λh_1.(λj_1.(λk_1.k_1)))))))) (λl_1.(λz_1.(λx_1.z_1)))) (λc_1.c_1))) ((((λv_1.((λb_1.(λn_1.(λm_1.(((b_1 (λq_2.(λw_2.(w_2 (q_2 n_1))))) (λe_2.m_1)) (λr_2.r_2))))) ((λt_2.(λy_2.(λu_2.(((t_2 (λq.(λw.(w (q y_2))))) (λe.u_2)) (λr.r))))) (λt.(λy.((((v_1 (λu.(λi.(i (u (λo.(λp.(p (o t))))))))) (λa.(λs.y))) (λd.d)) (λf.f))))))) (λg.(λh.(g h)))) (λj.(λk.(λl.l)))) (λz.(λx.z))))\n",
      "28: (((((((λq.(λw.(q (q (q (q w)))))) (λe.(λr.(λt.(((e (λy.(λu.(u (y r))))) (λi.t)) (λo.o)))))) (λp.(λa.(p a)))) (λs.(λd.(λf.f)))) (λg.(λh.g))) ((((λj.(λk.(j (j (j (j k)))))) (λl.(λz.(z (l (λx.(λc.(λv.v)))))))) (λb.(λn.(λm.n)))) (λq_1.q_1))) ((((λw_1.((λe_1.(λr_1.(λt_1.(((e_1 (λy_1.(λu_1.(u_1 (y_1 r_1))))) (λi_1.t_1)) (λo_1.o_1))))) (λp_1.(λa_1.((((λs_1.(λd_1.((((w_1 (λf_1.(λg_1.(g_1 (f_1 (λh_1.(λj_1.(j_1 (h_1 s_1))))))))) (λk_1.(λl_1.d_1))) (λz_1.z_1)) (λx_1.x_1)))) (λc_1.(λv_1.(v_1 (c_1 p_1))))) (λb_1.a_1)) (λn_1.n_1)))))) (λm_1.(λq_2.(m_1 q_2)))) (λw_2.(λe_2.(λr_2.r_2)))) (λt_2.(λy_2.t_2))))\n",
      "29: (((((((λo.(λp.(o (o (o (o p)))))) (λa.(λs.(λd.(((a (λf.(λg.(g (f s))))) (λh.d)) (λj.j)))))) (λk.(λl.(k l)))) (λz.(λx.(λc.c)))) (λv.(λb.v))) ((((λn.(λm.(n (n (n (n m)))))) (λq_1.(λw_1.(w_1 (q_1 (λe_1.(λr_1.(λt_1.t_1)))))))) (λy_1.(λu_1.(λi_1.u_1)))) (λo_1.o_1))) ((((λp_1.((λa_1.(λs_1.(λd_1.(((a_1 (λf_1.(λg_1.(g_1 (f_1 s_1))))) (λh_1.d_1)) (λj_1.j_1))))) (λk_1.(λl_1.(((λz_1.((((p_1 (λx_1.(λc_1.(c_1 (x_1 (λv_1.(λb_1.(b_1 (v_1 (λn_1.(λm_1.(m_1 (n_1 k_1))))))))))))) (λq_2.(λw_2.z_1))) (λe_2.e_2)) (λr_2.r_2))) (λt_2.l_1)) (λq.q)))))) (λw.(λe.(w e)))) (λr.(λt.(λy.y)))) (λu.(λi.u))))\n",
      "30: (((((((λq.(λw.(q (q (q (q w)))))) (λe.(λr.(λt.(((e (λy.(λu.(u (y r))))) (λi.t)) (λo.o)))))) (λp.(λa.(p a)))) (λs.(λd.(λf.f)))) (λg.(λh.g))) ((((λj.(λk.(j (j (j (j k)))))) (λl.(λz.(z (l (λx.(λc.(λv.v)))))))) (λb.(λn.(λm.n)))) (λq_1.q_1))) ((((λw_1.((λe_1.(λr_1.(λt_1.(((e_1 (λy_1.(λu_1.(u_1 (y_1 r_1))))) (λi_1.t_1)) (λo_1.o_1))))) (λp_1.(λa_1.(((((w_1 (λs_1.(λd_1.(d_1 (s_1 (λf_1.(λg_1.(g_1 (f_1 (λh_1.(λj_1.(j_1 (h_1 p_1))))))))))))) (λk_1.(λl_1.(λz_1.a_1)))) (λx_1.x_1)) (λc_1.c_1)) (λv_1.v_1)))))) (λb_1.(λn_1.(b_1 n_1)))) (λm_1.(λq_2.(λw_2.w_2)))) (λe_2.(λr_2.e_2))))\n",
      "31: (((((((λq.(λw.(q (q (q (q w)))))) (λe.(λr.(λt.(((e (λy.(λu.(u (y r))))) (λi.t)) (λo.o)))))) (λp.(λa.(p a)))) (λs.(λd.(λf.f)))) (λg.(λh.g))) ((((λj.(λk.(j (j (j (j k)))))) (λl.(λz.(z (l (λx.(λc.(λv.v)))))))) (λb.(λn.(λm.n)))) (λq_1.q_1))) ((((λw_1.(λe_1.(λr_1.((((λt_1.(λy_1.(((((w_1 (λu_1.(λi_1.(i_1 (u_1 (λo_1.(λp_1.(p_1 (o_1 (λa_1.(λs_1.(s_1 (a_1 t_1))))))))))))) (λd_1.(λf_1.(λg_1.y_1)))) (λh_1.h_1)) (λj_1.j_1)) (λk_1.k_1)))) (λl_1.(λz_1.(z_1 (l_1 e_1))))) (λx_1.r_1)) (λc_1.c_1))))) (λv_1.(λb_1.(v_1 b_1)))) (λn_1.(λm_1.(λq_2.q_2)))) (λw_2.(λe_2.w_2))))\n",
      "32: (((((((λz_1.(λx_1.(z_1 (z_1 (z_1 (z_1 x_1)))))) (λc_1.(λv_1.(λb_1.(((c_1 (λn_1.(λm_1.(m_1 (n_1 v_1))))) (λq_2.b_1)) (λw_2.w_2)))))) (λq.(λw.(q w)))) (λe.(λr.(λt.t)))) (λy.(λu.y))) ((((λi.(λo.(i (i (i (i o)))))) (λp.(λa.(a (p (λs.(λd.(λf.f)))))))) (λg.(λh.(λj.h)))) (λk.k))) ((((λl.(λz.(λx.(((λc.(((((l (λv.(λb.(b (v (λn.(λm.(m (n (λq_1.(λw_1.(w_1 (q_1 (λe_1.(λr_1.(r_1 (e_1 z))))))))))))))))) (λt_1.(λy_1.(λu_1.c)))) (λi_1.i_1)) (λo_1.o_1)) (λp_1.p_1))) (λa_1.x)) (λs_1.s_1))))) (λd_1.(λf_1.(d_1 f_1)))) (λg_1.(λh_1.(λj_1.j_1)))) (λk_1.(λl_1.k_1))))\n",
      "33: (((((((λq.(λw.(q (q (q (q w)))))) (λe.(λr.(λt.(((e (λy.(λu.(u (y r))))) (λi.t)) (λo.o)))))) (λp.(λa.(p a)))) (λs.(λd.(λf.f)))) (λg.(λh.g))) ((((λj.(λk.(j (j (j (j k)))))) (λl.(λz.(z (l (λx.(λc.(λv.v)))))))) (λb.(λn.(λm.n)))) (λq_1.q_1))) ((((λw_1.(λe_1.(λr_1.((((((w_1 (λt_1.(λy_1.(y_1 (t_1 (λu_1.(λi_1.(i_1 (u_1 (λo_1.(λp_1.(p_1 (o_1 (λa_1.(λs_1.(s_1 (a_1 e_1))))))))))))))))) (λd_1.(λf_1.(λg_1.(λh_1.r_1))))) (λj_1.j_1)) (λk_1.k_1)) (λl_1.l_1)) (λz_1.z_1))))) (λx_1.(λc_1.(x_1 c_1)))) (λv_1.(λb_1.(λn_1.n_1)))) (λm_1.(λq_2.m_1))))\n",
      "34: (((((((λv.(λb.(v (v (v (v b)))))) (λn.(λm.(λq_1.(((n (λw_1.(λe_1.(e_1 (w_1 m))))) (λr_1.q_1)) (λt_1.t_1)))))) (λy_1.(λu_1.(y_1 u_1)))) (λi_1.(λo_1.(λp_1.p_1)))) (λa_1.(λs_1.a_1))) ((((λd_1.(λf_1.(d_1 (d_1 (d_1 (d_1 f_1)))))) (λg_1.(λh_1.(h_1 (g_1 (λj_1.(λk_1.(λl_1.l_1)))))))) (λz_1.(λx_1.(λc_1.x_1)))) (λv_1.v_1))) (((λb_1.(λn_1.(((((((λm_1.(λq.(m_1 q))) (λw.(λe.(e (w (λr.(λt.(t (r (λy.(λu.(u (y (λi.(λo.(o (i b_1))))))))))))))))) (λp.(λa.(λs.(λd.n_1))))) (λf.f)) (λg.g)) (λh.h)) (λj.j)))) (λk.(λl.(λz.z)))) (λx.(λc.x))))\n",
      "35: (((((((λq.(λw.(q (q (q (q w)))))) (λe.(λr.(λt.(((e (λy.(λu.(u (y r))))) (λi.t)) (λo.o)))))) (λp.(λa.(p a)))) (λs.(λd.(λf.f)))) (λg.(λh.g))) ((((λj.(λk.(j (j (j (j k)))))) (λl.(λz.(z (l (λx.(λc.(λv.v)))))))) (λb.(λn.(λm.n)))) (λq_1.q_1))) (((λw_1.(λe_1.((((((λr_1.((λt_1.(λy_1.(y_1 (t_1 (λu_1.(λi_1.(i_1 (u_1 (λo_1.(λp_1.(p_1 (o_1 (λa_1.(λs_1.(s_1 (a_1 w_1)))))))))))))))) r_1)) (λd_1.(λf_1.(λg_1.(λh_1.e_1))))) (λj_1.j_1)) (λk_1.k_1)) (λl_1.l_1)) (λz_1.z_1)))) (λx_1.(λc_1.(λv_1.v_1)))) (λb_1.(λn_1.b_1))))\n",
      "36: (((((((λq.(λw.(q (q (q (q w)))))) (λe.(λr.(λt.(((e (λy.(λu.(u (y r))))) (λi.t)) (λo.o)))))) (λp.(λa.(p a)))) (λs.(λd.(λf.f)))) (λg.(λh.g))) ((((λj.(λk.(j (j (j (j k)))))) (λl.(λz.(z (l (λx.(λc.(λv.v)))))))) (λb.(λn.(λm.n)))) (λq_1.q_1))) (((λw_1.(λe_1.((((((λr_1.(λt_1.(t_1 (r_1 (λy_1.(λu_1.(u_1 (y_1 (λi_1.(λo_1.(o_1 (i_1 (λp_1.(λa_1.(a_1 (p_1 w_1)))))))))))))))) (λs_1.(λd_1.(λf_1.(λg_1.e_1))))) (λh_1.h_1)) (λj_1.j_1)) (λk_1.k_1)) (λl_1.l_1)))) (λz_1.(λx_1.(λc_1.c_1)))) (λv_1.(λb_1.v_1))))\n",
      "37: (((((((λl_1.(λz_1.(l_1 (l_1 (l_1 (l_1 z_1)))))) (λx_1.(λc_1.(λv_1.(((x_1 (λq.(λw.(w (q c_1))))) (λe.v_1)) (λr.r)))))) (λt.(λy.(t y)))) (λu.(λi.(λo.o)))) (λp.(λa.p))) ((((λs.(λd.(s (s (s (s d)))))) (λf.(λg.(g (f (λh.(λj.(λk.k)))))))) (λl.(λz.(λx.z)))) (λc.c))) (((λv.(λb.(((((λn.(n ((λm.(λq_1.(λw_1.(λe_1.b)))) (λr_1.(λt_1.(t_1 (r_1 (λy_1.(λu_1.(u_1 (y_1 (λi_1.(λo_1.(o_1 (i_1 v))))))))))))))) (λp_1.p_1)) (λa_1.a_1)) (λs_1.s_1)) (λd_1.d_1)))) (λf_1.(λg_1.(λh_1.h_1)))) (λj_1.(λk_1.j_1))))\n",
      "38: (((((((λq.(λw.(q (q (q (q w)))))) (λe.(λr.(λt.(((e (λy.(λu.(u (y r))))) (λi.t)) (λo.o)))))) (λp.(λa.(p a)))) (λs.(λd.(λf.f)))) (λg.(λh.g))) ((((λj.(λk.(j (j (j (j k)))))) (λl.(λz.(z (l (λx.(λc.(λv.v)))))))) (λb.(λn.(λm.n)))) (λq_1.q_1))) (((λw_1.(λe_1.(((((λr_1.(r_1 (λt_1.(λy_1.(λu_1.e_1))))) (λi_1.i_1)) (λo_1.o_1)) (λp_1.p_1)) (λa_1.a_1)))) (λs_1.(λd_1.(λf_1.f_1)))) (λg_1.(λh_1.g_1))))\n",
      "39: (((((((λq.(λw.(q (q (q (q w)))))) (λe.(λr.(λt.(((e (λy.(λu.(u (y r))))) (λi.t)) (λo.o)))))) (λp.(λa.(p a)))) (λs.(λd.(λf.f)))) (λg.(λh.g))) ((((λj.(λk.(j (j (j (j k)))))) (λl.(λz.(z (l (λx.(λc.(λv.v)))))))) (λb.(λn.(λm.n)))) (λq_1.q_1))) (((λw_1.(λe_1.(((((λr_1.r_1) (λt_1.(λy_1.(λu_1.e_1)))) (λi_1.i_1)) (λo_1.o_1)) (λp_1.p_1)))) (λa_1.(λs_1.(λd_1.d_1)))) (λf_1.(λg_1.f_1))))\n",
      "40: (((((((λf_1.(λq.(f_1 (f_1 (f_1 (f_1 q)))))) (λw.(λe.(λr.(((w (λt.(λy.(y (t e))))) (λu.r)) (λi.i)))))) (λo.(λp.(o p)))) (λa.(λs.(λd.d)))) (λf.(λg.f))) ((((λh.(λj.(h (h (h (h j)))))) (λk.(λl.(l (k (λz.(λx.(λc.c)))))))) (λv.(λb.(λn.b)))) (λm.m))) (((λq_1.(λw_1.((((λe_1.(λr_1.(λt_1.w_1))) (λy_1.y_1)) (λu_1.u_1)) (λi_1.i_1)))) (λo_1.(λp_1.(λa_1.a_1)))) (λs_1.(λd_1.s_1))))\n",
      "41: (((((((λq.(λw.(q (q (q (q w)))))) (λe.(λr.(λt.(((e (λy.(λu.(u (y r))))) (λi.t)) (λo.o)))))) (λp.(λa.(p a)))) (λs.(λd.(λf.f)))) (λg.(λh.g))) ((((λj.(λk.(j (j (j (j k)))))) (λl.(λz.(z (l (λx.(λc.(λv.v)))))))) (λb.(λn.(λm.n)))) (λq_1.q_1))) (((λw_1.(λe_1.(((λr_1.(λt_1.e_1)) (λy_1.y_1)) (λu_1.u_1)))) (λi_1.(λo_1.(λp_1.p_1)))) (λa_1.(λs_1.a_1))))\n",
      "42: (((((((λq.(λw.(q (q (q (q w)))))) (λe.(λr.(λt.(((e (λy.(λu.(u (y r))))) (λi.t)) (λo.o)))))) (λp.(λa.(p a)))) (λs.(λd.(λf.f)))) (λg.(λh.g))) ((((λj.(λk.(j (j (j (j k)))))) (λl.(λz.(z (l (λx.(λc.(λv.v)))))))) (λb.(λn.(λm.n)))) (λq_1.q_1))) (((λw_1.(λe_1.((λr_1.e_1) (λt_1.t_1)))) (λy_1.(λu_1.(λi_1.i_1)))) (λo_1.(λp_1.o_1))))\n",
      "43: (((((((λz.(λx.(z (z (z (z x)))))) (λc.(λv.(λb.(((c (λn.(λm.(m (n v))))) (λq_1.b)) (λw_1.w_1)))))) (λe_1.(λr_1.(e_1 r_1)))) (λt_1.(λy_1.(λu_1.u_1)))) (λi_1.(λq.i_1))) ((((λw.(λe.(w (w (w (w e)))))) (λr.(λt.(t (r (λy.(λu.(λi.i)))))))) (λo.(λp.(λa.p)))) (λs.s))) (((λd.(λf.f)) (λg.(λh.(λj.j)))) (λk.(λl.k))))\n",
      "44: (((((((λq.(λw.(q (q (q (q w)))))) (λe.(λr.(λt.(((e (λy.(λu.(u (y r))))) (λi.t)) (λo.o)))))) (λp.(λa.(p a)))) (λs.(λd.(λf.f)))) (λg.(λh.g))) ((((λj.(λk.(j (j (j (j k)))))) (λl.(λz.(z (l (λx.(λc.(λv.v)))))))) (λb.(λn.(λm.n)))) (λq_1.q_1))) ((λw_1.w_1) (λe_1.(λr_1.e_1))))\n",
      "45: (((((((λq.(λw.(q (q (q (q w)))))) (λe.(λr.(λt.(((e (λy.(λu.(u (y r))))) (λi.t)) (λo.o)))))) (λp.(λa.(p a)))) (λs.(λd.(λf.f)))) (λg.(λh.g))) ((((λj.(λk.(j (j (j (j k)))))) (λl.(λz.(z (l (λx.(λc.(λv.v)))))))) (λb.(λn.(λm.n)))) (λq_1.q_1))) (λw_1.(λe_1.w_1)))\n",
      "46: (((((((λq.(λw.(q (q (q (q w)))))) (λe.(λr.(λt.(((e (λy.(λu.(u (y r))))) (λi.t)) (λo.o)))))) (λp.(λa.(p a)))) (λs.(λd.(λf.f)))) (λg.(λh.g))) (((λj.((λk.(λl.(l (k (λz.(λx.(λc.c))))))) ((λv.(λb.(b (v (λn.(λm.(λq_1.q_1))))))) ((λw_1.(λe_1.(e_1 (w_1 (λr_1.(λt_1.(λy_1.y_1))))))) ((λu_1.(λi_1.(i_1 (u_1 (λo_1.(λp_1.(λa_1.a_1))))))) j))))) (λs_1.(λd_1.(λf_1.d_1)))) (λg_1.g_1))) (λh_1.(λj_1.h_1)))\n",
      "47: (((((((λp_1.(λa_1.(p_1 (p_1 (p_1 (p_1 a_1)))))) (λs_1.(λd_1.(λf_1.(((s_1 (λg_1.(λh_1.(h_1 (g_1 d_1))))) (λq.f_1)) (λw.w)))))) (λe.(λr.(e r)))) (λt.(λy.(λu.u)))) (λi.(λo.i))) (((λp.((λa.(λs.(s (a (λd.(λf.(λg.g))))))) ((λh.(λj.(j (h (λk.(λl.(λz.z))))))) ((λx.(λc.(c (x (λv.(λb.(λn.n))))))) (λm.(m (p (λq_1.(λw_1.(λe_1.e_1)))))))))) (λr_1.(λt_1.(λy_1.t_1)))) (λu_1.u_1))) (λi_1.(λo_1.i_1)))\n",
      "48: (((((((λq.(λw.(q (q (q (q w)))))) (λe.(λr.(λt.(((e (λy.(λu.(u (y r))))) (λi.t)) (λo.o)))))) (λp.(λa.(p a)))) (λs.(λd.(λf.f)))) (λg.(λh.g))) (((λj.((λk.(λl.(l (k (λz.(λx.(λc.c))))))) ((λv.(λb.(b (v (λn.(λm.(λq_1.q_1))))))) (λw_1.(w_1 ((λe_1.(e_1 (j (λr_1.(λt_1.(λy_1.y_1)))))) (λu_1.(λi_1.(λo_1.o_1))))))))) (λp_1.(λa_1.(λs_1.a_1)))) (λd_1.d_1))) (λf_1.(λg_1.f_1)))\n",
      "49: (((((((λq.(λw.(q (q (q (q w)))))) (λe.(λr.(λt.(((e (λy.(λu.(u (y r))))) (λi.t)) (λo.o)))))) (λp.(λa.(p a)))) (λs.(λd.(λf.f)))) (λg.(λh.g))) (((λj.((λk.(λl.(l (k (λz.(λx.(λc.c))))))) ((λv.(λb.(b (v (λn.(λm.(λq_1.q_1))))))) (λw_1.(w_1 ((λe_1.(λr_1.(λt_1.t_1))) (j (λy_1.(λu_1.(λi_1.i_1)))))))))) (λo_1.(λp_1.(λa_1.p_1)))) (λs_1.s_1))) (λd_1.(λf_1.d_1)))\n",
      "50: (((((((λn.(λm.(n (n (n (n m)))))) (λq_1.(λw_1.(λe_1.(((q_1 (λr_1.(λt_1.(t_1 (r_1 w_1))))) (λy_1.e_1)) (λu_1.u_1)))))) (λi_1.(λo_1.(i_1 o_1)))) (λp_1.(λq.(λw.w)))) (λe.(λr.e))) (((λt.((λy.(λu.(u (y (λi.(λo.(λp.p))))))) ((λa.(λs.(s (a (λd.(λf.(λg.g))))))) (λh.(h (λj.(λk.k))))))) (λl.(λz.(λx.z)))) (λc.c))) (λv.(λb.v)))\n",
      "51: (((((((λq.(λw.(q (q (q (q w)))))) (λe.(λr.(λt.(((e (λy.(λu.(u (y r))))) (λi.t)) (λo.o)))))) (λp.(λa.(p a)))) (λs.(λd.(λf.f)))) (λg.(λh.g))) (((λj.((λk.(λl.(l (k (λz.(λx.(λc.c))))))) (λv.(v ((λb.(b (λn.(λm.m)))) (λq_1.(λw_1.(λe_1.e_1)))))))) (λr_1.(λt_1.(λy_1.t_1)))) (λu_1.u_1))) (λi_1.(λo_1.i_1)))\n",
      "52: (((((((λq.(λw.(q (q (q (q w)))))) (λe.(λr.(λt.(((e (λy.(λu.(u (y r))))) (λi.t)) (λo.o)))))) (λp.(λa.(p a)))) (λs.(λd.(λf.f)))) (λg.(λh.g))) (((λj.((λk.(λl.(l (k (λz.(λx.(λc.c))))))) (λv.(v ((λb.(λn.(λm.m))) (λq_1.(λw_1.w_1))))))) (λe_1.(λr_1.(λt_1.r_1)))) (λy_1.y_1))) (λu_1.(λi_1.u_1)))\n",
      "53: (((((((λq.(λw.(q (q (q (q w)))))) (λe.(λr.(λt.(((e (λy.(λu.(u (y r))))) (λi.t)) (λo.o)))))) (λp.(λa.(p a)))) (λs.(λd.(λf.f)))) (λg.(λh.g))) (((λj.((λk.(λl.(l (k (λz.(λx.(λc.c))))))) (λv.(v (λb.(λn.n)))))) (λm.(λq_1.(λw_1.q_1)))) (λe_1.e_1))) (λr_1.(λt_1.r_1)))\n",
      "54: (((((((λq_1.(λw_1.(q_1 (q_1 (q_1 (q_1 w_1)))))) (λe_1.(λr_1.(λq.(((e_1 (λw.(λe.(e (w r_1))))) (λr.q)) (λt.t)))))) (λy.(λu.(y u)))) (λi.(λo.(λp.p)))) (λa.(λs.a))) (((λd.(λf.(f ((λg.(g (λh.(λj.j)))) (λk.(λl.(λz.z))))))) (λx.(λc.(λv.c)))) (λb.b))) (λn.(λm.n)))\n",
      "55: (((((((λq.(λw.(q (q (q (q w)))))) (λe.(λr.(λt.(((e (λy.(λu.(u (y r))))) (λi.t)) (λo.o)))))) (λp.(λa.(p a)))) (λs.(λd.(λf.f)))) (λg.(λh.g))) (((λj.(λk.(k ((λl.(λz.(λx.x))) (λc.(λv.v)))))) (λb.(λn.(λm.n)))) (λq_1.q_1))) (λw_1.(λe_1.w_1)))\n",
      "56: (((((((λq.(λw.(q (q (q (q w)))))) (λe.(λr.(λt.(((e (λy.(λu.(u (y r))))) (λi.t)) (λo.o)))))) (λp.(λa.(p a)))) (λs.(λd.(λf.f)))) (λg.(λh.g))) (((λj.(λk.(k (λl.(λz.z))))) (λx.(λc.(λv.c)))) (λb.b))) (λn.(λm.n)))\n",
      "57: (((((((λq.(λw.(q (q (q (q w)))))) (λe.(λr.(λt.(((e (λy.(λu.(u (y r))))) (λi.t)) (λo.o)))))) (λp.(λa.(p a)))) (λs.(λd.(λf.f)))) (λg.(λh.g))) ((λj.(j (λk.(λl.l)))) (λz.z))) (λx.(λc.x)))\n",
      "58: (((((((λq.(λw.(q (q (q (q w)))))) (λe.(λr.(λt.(((e (λy.(λu.(u (y r))))) (λi.t)) (λo.o)))))) (λp.(λa.(p a)))) (λs.(λd.(λf.f)))) (λg.(λh.g))) ((λj.j) (λk.(λl.l)))) (λz.(λx.z)))\n",
      "59: (((((((λj.(λk.(j (j (j (j k)))))) (λl.(λz.(λq.(((l (λw.(λe.(e (w z))))) (λr.q)) (λt.t)))))) (λy.(λu.(y u)))) (λi.(λo.(λp.p)))) (λa.(λs.a))) (λd.(λf.f))) (λg.(λh.g)))\n",
      "60: ((((((λq.((λw.(λe.(λr.(((w (λt.(λy.(y (t e))))) (λu.r)) (λi.i))))) ((λo.(λp.(λa.(((o (λs.(λd.(d (s p))))) (λf.a)) (λg.g))))) ((λh.(λj.(λk.(((h (λl.(λz.(z (l j))))) (λx.k)) (λc.c))))) ((λv.(λb.(λn.(((v (λm.(λq_1.(q_1 (m b))))) (λw_1.n)) (λe_1.e_1))))) q))))) (λr_1.(λt_1.(r_1 t_1)))) (λy_1.(λu_1.(λi_1.i_1)))) (λo_1.(λp_1.o_1))) (λa_1.(λs_1.s_1))) (λd_1.(λf_1.d_1)))\n",
      "61: ((((((λq.((λw.(λe.(λr.(((w (λt.(λy.(y (t e))))) (λu.r)) (λi.i))))) ((λo.(λp.(λa.(((o (λs.(λd.(d (s p))))) (λf.a)) (λg.g))))) ((λh.(λj.(λk.(((h (λl.(λz.(z (l j))))) (λx.k)) (λc.c))))) (λv.(λb.(((q (λn.(λm.(m (n v))))) (λq_1.b)) (λw_1.w_1)))))))) (λe_1.(λr_1.(e_1 r_1)))) (λt_1.(λy_1.(λu_1.u_1)))) (λi_1.(λo_1.i_1))) (λp_1.(λa_1.a_1))) (λs_1.(λd_1.s_1)))\n",
      "62: ((((((λy.((λu.(λi.(λo.(((u (λp.(λa.(a (p i))))) (λs.o)) (λd.d))))) ((λf.(λg.(λh.(((f (λj.(λk.(k (j g))))) (λl.h)) (λz.z))))) (λx.(λc.((((λv.(λb.(((y (λn.(λm.(m (n v))))) (λq_1.b)) (λw_1.w_1)))) (λe_1.(λr_1.(r_1 (e_1 x))))) (λt_1.c)) (λy_1.y_1))))))) (λu_1.(λi_1.(u_1 i_1)))) (λo_1.(λp_1.(λa_1.a_1)))) (λs_1.(λq.s_1))) (λw.(λe.e))) (λr.(λt.r)))\n",
      "63: ((((((λq.((λw.(λe.(λr.(((w (λt.(λy.(y (t e))))) (λu.r)) (λi.i))))) ((λo.(λp.(λa.(((o (λs.(λd.(d (s p))))) (λf.a)) (λg.g))))) (λh.(λj.(((λk.(((q (λl.(λz.(z (l (λx.(λc.(c (x h))))))))) (λv.k)) (λb.b))) (λn.j)) (λm.m))))))) (λq_1.(λw_1.(q_1 w_1)))) (λe_1.(λr_1.(λt_1.t_1)))) (λy_1.(λu_1.y_1))) (λi_1.(λo_1.o_1))) (λp_1.(λa_1.p_1)))\n",
      "64: ((((((λq.((λw.(λe.(λr.(((w (λt.(λy.(y (t e))))) (λu.r)) (λi.i))))) ((λo.(λp.(λa.(((o (λs.(λd.(d (s p))))) (λf.a)) (λg.g))))) (λh.(λj.((((q (λk.(λl.(l (k (λz.(λx.(x (z h))))))))) (λc.(λv.j))) (λb.b)) (λn.n))))))) (λm.(λq_1.(m q_1)))) (λw_1.(λe_1.(λr_1.r_1)))) (λt_1.(λy_1.t_1))) (λu_1.(λi_1.i_1))) (λo_1.(λp_1.o_1)))\n",
      "65: ((((((λq.((λw.(λe.(λr.(((w (λt.(λy.(y (t e))))) (λu.r)) (λi.i))))) (λo.(λp.((((λa.(λs.((((q (λd.(λf.(f (d (λg.(λh.(h (g a))))))))) (λj.(λk.s))) (λl.l)) (λz.z)))) (λx.(λc.(c (x o))))) (λv.p)) (λb.b)))))) (λn.(λm.(n m)))) (λq_1.(λw_1.(λe_1.e_1)))) (λr_1.(λt_1.r_1))) (λy_1.(λu_1.u_1))) (λi_1.(λo_1.i_1)))\n",
      "66: ((((((λz.((λx.(λc.(λv.(((x (λb.(λn.(n (b c))))) (λm.v)) (λq_1.q_1))))) (λw_1.(λe_1.(((λr_1.((((z (λt_1.(λy_1.(y_1 (t_1 (λu_1.(λi_1.(i_1 (u_1 (λq.(λw.(w (q w_1))))))))))))) (λe.(λr.r_1))) (λt.t)) (λy.y))) (λu.e_1)) (λi.i)))))) (λo.(λp.(o p)))) (λa.(λs.(λd.d)))) (λf.(λg.f))) (λh.(λj.j))) (λk.(λl.k)))\n",
      "67: ((((((λq.((λw.(λe.(λr.(((w (λt.(λy.(y (t e))))) (λu.r)) (λi.i))))) (λo.(λp.(((((q (λa.(λs.(s (a (λd.(λf.(f (d (λg.(λh.(h (g o))))))))))))) (λj.(λk.(λl.p)))) (λz.z)) (λx.x)) (λc.c)))))) (λv.(λb.(v b)))) (λn.(λm.(λq_1.q_1)))) (λw_1.(λe_1.w_1))) (λr_1.(λt_1.t_1))) (λy_1.(λu_1.y_1)))\n",
      "68: ((((((λq.(λw.(λe.((((λr.(λt.(((((q (λy.(λu.(u (y (λi.(λo.(o (i (λp.(λa.(a (p r))))))))))))) (λs.(λd.(λf.t)))) (λg.g)) (λh.h)) (λj.j)))) (λk.(λl.(l (k w))))) (λz.e)) (λx.x))))) (λc.(λv.(c v)))) (λb.(λn.(λm.m)))) (λq_1.(λw_1.q_1))) (λe_1.(λr_1.r_1))) (λt_1.(λy_1.t_1)))\n",
      "69: ((((((λq.(λw.(λe.(((λr.(((((q (λt.(λy.(y (t (λu.(λi.(i (u (λo.(λp.(p (o (λa.(λs.(s (a w))))))))))))))))) (λd.(λf.(λg.r)))) (λh.h)) (λj.j)) (λk.k))) (λl.e)) (λz.z))))) (λx.(λc.(x c)))) (λv.(λb.(λn.n)))) (λm.(λq_1.m))) (λw_1.(λe_1.e_1))) (λr_1.(λt_1.r_1)))\n",
      "70: ((((((λk.(λl.(λz.((((((k (λx.(λc.(c (x (λv.(λb.(b (v (λn.(λm.(m (n (λq_1.(λw_1.(w_1 (q_1 l))))))))))))))))) (λe_1.(λr_1.(λq.(λw.z))))) (λe.e)) (λr.r)) (λt.t)) (λy.y))))) (λu.(λi.(u i)))) (λo.(λp.(λa.a)))) (λs.(λd.s))) (λf.(λg.g))) (λh.(λj.h)))\n",
      "71: (((((λq.(λw.(((((((λe.(λr.(e r))) (λt.(λy.(y (t (λu.(λi.(i (u (λo.(λp.(p (o (λa.(λs.(s (a q))))))))))))))))) (λd.(λf.(λg.(λh.w))))) (λj.j)) (λk.k)) (λl.l)) (λz.z)))) (λx.(λc.(λv.v)))) (λb.(λn.b))) (λm.(λq_1.q_1))) (λw_1.(λe_1.w_1)))\n",
      "72: (((((λq.(λw.((((((λe.((λr.(λt.(t (r (λy.(λu.(u (y (λi.(λo.(o (i (λp.(λa.(a (p q)))))))))))))))) e)) (λs.(λd.(λf.(λg.w))))) (λh.h)) (λj.j)) (λk.k)) (λl.l)))) (λz.(λx.(λc.c)))) (λv.(λb.v))) (λn.(λm.m))) (λq_1.(λw_1.q_1)))\n",
      "73: (((((λq.(λw.((((((λe.(λr.(r (e (λt.(λy.(y (t (λu.(λi.(i (u (λo.(λp.(p (o q)))))))))))))))) (λa.(λs.(λd.(λf.w))))) (λg.g)) (λh.h)) (λj.j)) (λk.k)))) (λl.(λz.(λx.x)))) (λc.(λv.c))) (λb.(λn.n))) (λm.(λq_1.m)))\n",
      "74: (((((λq.(λw.(((((λe.(e ((λr.(λt.(λy.(λu.w)))) (λi.(λo.(o (i (λp.(λa.(a (p (λs.(λd.(d (s q))))))))))))))) (λf.f)) (λg.g)) (λh.h)) (λj.j)))) (λk.(λl.(λz.z)))) (λx.(λc.x))) (λv.(λb.b))) (λn.(λm.n)))\n",
      "75: (((((λl.(λq.(((((λw.(w (λe.(λr.(λt.q))))) (λy.y)) (λu.u)) (λi.i)) (λo.o)))) (λp.(λa.(λs.s)))) (λd.(λf.d))) (λg.(λh.h))) (λj.(λk.j)))\n",
      "76: (((((λt.(λy.(((((λu.u) (λi.(λo.(λp.y)))) (λa.a)) (λs.s)) (λd.d)))) (λf.(λg.(λh.h)))) (λj.(λk.j))) (λq.(λw.w))) (λe.(λr.e)))\n",
      "77: (((((λq.(λw.((((λe.(λr.(λt.w))) (λy.y)) (λu.u)) (λi.i)))) (λo.(λp.(λa.a)))) (λs.(λd.s))) (λf.(λg.g))) (λh.(λj.h)))\n",
      "78: (((((λt.(λy.(((λu.(λi.y)) (λo.o)) (λp.p)))) (λa.(λs.(λd.d)))) (λf.(λg.f))) (λq.(λw.w))) (λe.(λr.e)))\n",
      "79: (((((λq.(λw.((λe.w) (λr.r)))) (λt.(λy.(λu.u)))) (λi.(λo.i))) (λp.(λa.a))) (λs.(λd.s)))\n",
      "80: (((((λq.(λw.w)) (λe.(λr.(λt.t)))) (λy.(λu.y))) (λi.(λo.o))) (λp.(λa.p)))\n",
      "81: ((((λr.r) (λt.(λy.t))) (λu.(λq.q))) (λw.(λe.w)))\n",
      "82: (((λq.(λw.q)) (λe.(λr.r))) (λt.(λy.t)))\n",
      "83: ((λq.(λw.(λe.e))) (λr.(λt.r)))\n",
      "84: (λq.(λw.w))\n",
      "\n",
      "\n",
      "reduction steps: 84\n",
      "norm term:       (λq.(λw.w))\n"
     ]
    }
   ],
   "source": [
    "def term_test_13():\n",
    "    return multi_app_term(eq_term(), num_term(1), num_term(4))\n",
    "\n",
    "\n",
    "test_procedure(term_test_13(), steps_lim=100)"
   ],
   "metadata": {
    "collapsed": false
   }
  }
 ],
 "metadata": {
  "kernelspec": {
   "display_name": "Python 3",
   "language": "python",
   "name": "python3"
  },
  "language_info": {
   "codemirror_mode": {
    "name": "ipython",
    "version": 2
   },
   "file_extension": ".py",
   "mimetype": "text/x-python",
   "name": "python",
   "nbconvert_exporter": "python",
   "pygments_lexer": "ipython2",
   "version": "2.7.6"
  }
 },
 "nbformat": 4,
 "nbformat_minor": 0
}
