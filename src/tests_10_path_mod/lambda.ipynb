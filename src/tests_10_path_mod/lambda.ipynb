{
 "cells": [
  {
   "cell_type": "markdown",
   "source": [
    "# **Optimization of Term Reduction in Typeless $\\lambda$-Calculus**"
   ],
   "metadata": {
    "collapsed": false
   }
  },
  {
   "cell_type": "markdown",
   "source": [
    "## Import/Define required modules and functions"
   ],
   "metadata": {
    "collapsed": false
   }
  },
  {
   "cell_type": "code",
   "execution_count": 1,
   "metadata": {
    "collapsed": true
   },
   "outputs": [],
   "source": [
    "class LambdaError(Exception):\n",
    "\n",
    "    __errmsg = [\n",
    "        \"unrecognised error\",\n",
    "    ]\n",
    "\n",
    "    def __init__(self, errDescription):\n",
    "        if isinstance(errDescription, int):\n",
    "            try:\n",
    "                self._msg = LambdaError.__errmsg[errDescription]\n",
    "            except:\n",
    "                self._msg = LambdaError.__errmsg[0]\n",
    "        elif isinstance(errDescription, str):\n",
    "            self._msg = errDescription\n",
    "        else:\n",
    "            self._msg = LambdaError.__errmsg[0]\n",
    "        super().__init__(self._msg)"
   ]
  },
  {
   "cell_type": "markdown",
   "source": [
    "## Syntax"
   ],
   "metadata": {
    "collapsed": false
   }
  },
  {
   "cell_type": "markdown",
   "source": [
    "### Variables"
   ],
   "metadata": {
    "collapsed": false
   }
  },
  {
   "cell_type": "markdown",
   "source": [
    "The set $\\mathbf{Var}$ is the set of variables that are atomic entities of the typeless $\\lambda$-calculus, each of that refers to itself only.\n",
    "We assume the existence of an infinite enumerable series of variables.\n",
    "\n",
    "So, we propose the following computational model to represent a variable.<br/>\n",
    "This model assumes that a variable is a decorated natural number.\n",
    "A variable is represented as '`#k`' ($k\\in\\mathbb N$)."
   ],
   "metadata": {
    "collapsed": false
   }
  },
  {
   "cell_type": "code",
   "execution_count": 2,
   "outputs": [],
   "source": [
    "class Var:\n",
    "\n",
    "    __cvar = 0\n",
    "\n",
    "    def __init__(self):\n",
    "        self._data = Var.__cvar\n",
    "        Var.__cvar += 1\n",
    "\n",
    "    def __str__(self):\n",
    "        return f\"#{self._data}\"\n",
    "\n",
    "    def __eq__(self, another):\n",
    "        if isinstance(another, Var):\n",
    "            return self._data == another._data\n",
    "        raise LambdaError(\"Var.__eq__ waits for an instance of Var\"\n",
    "                          f\", but it received '{another}'\")"
   ],
   "metadata": {
    "collapsed": false
   }
  },
  {
   "cell_type": "markdown",
   "source": [
    "Some examples of variables."
   ],
   "metadata": {
    "collapsed": false
   }
  },
  {
   "cell_type": "code",
   "execution_count": 3,
   "outputs": [
    {
     "name": "stdout",
     "output_type": "stream",
     "text": [
      "x = #0\n",
      "y = #1\n",
      "z = #2\n"
     ]
    }
   ],
   "source": [
    "x, y, z = Var(), Var(), Var()\n",
    "\n",
    "print(f\"x = {x}\\ny = {y}\\nz = {z}\")"
   ],
   "metadata": {
    "collapsed": false
   }
  },
  {
   "cell_type": "markdown",
   "source": [
    "### Terms"
   ],
   "metadata": {
    "collapsed": false
   }
  },
  {
   "cell_type": "markdown",
   "source": [
    "The set $\\mathbf{Term}$ of $\\lambda$-terms (or briefly terms) is defined by the following rules.\n",
    "\n",
    "---\n",
    "\n",
    "$$\\tag{$\\Lambda$1}\n",
    "\\begin{equation}\n",
    "\\dfrac{x:\\mathbf{Var}}{x:\\mathbf{Term}}\n",
    "\\end{equation}\n",
    "$$\n",
    "\n",
    "$$\n",
    "\\tag{$\\Lambda$2}\n",
    "\\begin{equation}\n",
    "\\dfrac{t_1:\\mathbf{Term}\\qquad t_2:\\mathbf{Term}}{(t_1\\ t_2):\\mathbf{Term}}\n",
    "\\end{equation}\n",
    "$$\n",
    "\n",
    "$$\\tag{$\\Lambda$3}\n",
    "\\begin{equation}\n",
    "\\dfrac{x:\\mathbf{Var}\\qquad t:\\mathbf{Term}}{(\\operatorname{\\lambda}x\\mathop.t):\\mathbf{Term}}\n",
    "\\end{equation}\n",
    "$$\n",
    "\n",
    "---\n",
    "\n",
    "One usually uses the following rules for omitting parentheses\n",
    "\n",
    "1. the outer parentheses omit always;\n",
    "1. the term of the form $((t_1\\ t_2)\\ t_3)$ abbreviates to $t_1\\ t_2\\ t_3$;\n",
    "1. the term of the form $(\\operatorname{\\lambda}x_1\\mathop.(\\operatorname{\\lambda}x_2\\mathop.t))$ abbreviates to $\\operatorname{\\lambda}x_1\\mathop.\\operatorname{\\lambda}x_2\\mathop.t$;\n",
    "1. the term of the form $(\\operatorname{\\lambda}x\\mathop.(t_1\\ t_2))$ abbreviates to $\\operatorname{\\lambda}x\\mathop.t_1\\ t_2$.\n",
    "\n",
    "The following classes represent $\\lambda$-terms.<br/>\n",
    "The class represents\n",
    "* the atomic term $x$ where $x=\\mathtt{\\#}k$ ($ k\\in\\mathbb N$) as '$\\mathtt{\\$}k$'\n",
    "* the application term $(t_1\\ t_2)$ where $t_1$ and $t_2$ are terms as $\\mathtt(t_1\\ \\mathtt.\\ t_2\\mathtt)$\n",
    "* the abstraction term $\\operatorname{\\lambda}x\\mathop.t$ where $x$ is a variable $\\mathtt{\\#}k$ and $t$ is a term as $\\mathtt{(@}k\\mathtt{ . }t\\mathtt)$\n"
   ],
   "metadata": {
    "collapsed": false
   }
  },
  {
   "cell_type": "code",
   "execution_count": 4,
   "outputs": [],
   "source": [
    "class Term:  # the basic abstract class for representing a term\n",
    "\n",
    "    @property\n",
    "    def kind(self):  # returns the kind of the term\n",
    "        if isinstance(self, Atom):\n",
    "            return \"atom\"\n",
    "        if isinstance(self, Application):\n",
    "            return \"application\"\n",
    "        if isinstance(self, Abstraction):\n",
    "            return \"abstraction\"\n",
    "\n",
    "    def __str__(self):\n",
    "        if self.kind == \"atom\":\n",
    "            return f\"{self._data}\"\n",
    "        if self.kind == \"application\":\n",
    "            return f\"({self._data[0]} {self._data[1]})\"\n",
    "        else:  # self.kind == \"absraction\"\n",
    "            return f\"(λ{self._data[0]}. {self._data[1]})\"\n",
    "\n",
    "    def __eq__(self, another):\n",
    "        if isinstance(another, Term):\n",
    "            if self.kind != another.kind:\n",
    "                return False\n",
    "            return self._data == another._data\n",
    "        else:\n",
    "            raise LambdaError(3)\n",
    "\n",
    "    def call_as_method(self, fun, *args):\n",
    "        return fun(self, *args)\n",
    "\n",
    "\n",
    "class Atom(Term):  # the class of terms created with the first rule\n",
    "\n",
    "    def __init__(self, v):\n",
    "        if isinstance(v, Var):\n",
    "            self._data = v._data\n",
    "        else:\n",
    "            raise LambdaError(\"Atom.__init__ waits for an instance of Var\"\n",
    "                              f\", but it received '{v}'\")\n",
    "\n",
    "\n",
    "class Application(Term):  # the class of terms created with the second rule\n",
    "\n",
    "    def __init__(self, t1, t2):\n",
    "        if isinstance(t1, Term) and isinstance(t2, Term):\n",
    "            self._data = (t1, t2)\n",
    "        else:\n",
    "            raise LambdaError(\"Application.__init__ waits for two instances\"\n",
    "                              f\" of Term, but it received '{t1}', '{t2}'\")\n",
    "\n",
    "\n",
    "class Abstraction(Term):  # the class of terms created with the third rule\n",
    "\n",
    "    def __init__(self, v, t):\n",
    "        if isinstance(v, Var) and isinstance(t, Term):\n",
    "            self._data = (v._data, t)\n",
    "        else:\n",
    "            raise LambdaError(\"Abstraction.__init__ waits for an instance of\"\n",
    "                              \" Var and an instance of Term\"\n",
    "                              f\", but it receive '{v}' and '{t}'\")"
   ],
   "metadata": {
    "collapsed": false
   }
  },
  {
   "cell_type": "markdown",
   "source": [
    "Some examples of terms"
   ],
   "metadata": {
    "collapsed": false
   }
  },
  {
   "cell_type": "code",
   "execution_count": 5,
   "outputs": [
    {
     "name": "stdout",
     "output_type": "stream",
     "text": [
      "x = 0\n",
      "I = (λ0. 0)\n",
      "K = (λ0. (λ1. 0))\n",
      "S = (λ0. (λ1. (λ2. ((0 2) (1 2)))))\n"
     ]
    }
   ],
   "source": [
    "tx, ty, tz = Atom(x), Atom(y), Atom(z)\n",
    "# λx. x\n",
    "tI = Abstraction(x, tx)\n",
    "# λxy. x\n",
    "tK = Abstraction(x, Abstraction(y, tx))\n",
    "# λxyz. (x z) (y z)\n",
    "tS = Abstraction(\n",
    "         x,\n",
    "         Abstraction(\n",
    "             y,\n",
    "             Abstraction(\n",
    "                 z,\n",
    "                 Application(\n",
    "                     Application(tx, tz),\n",
    "                     Application(ty, tz)))))\n",
    "\n",
    "print(f\"x = {tx}\")\n",
    "print(f\"I = {tI}\")\n",
    "print(f\"K = {tK}\")\n",
    "print(f\"S = {tS}\")"
   ],
   "metadata": {
    "collapsed": false
   }
  },
  {
   "cell_type": "markdown",
   "source": [
    "### Paths"
   ],
   "metadata": {
    "collapsed": false
   }
  },
  {
   "cell_type": "markdown",
   "source": [
    "We use the concept of a ***path***.\n",
    "\n",
    "A path is syntactically a string of '$\\mathtt l$', '$\\mathtt d$', and '$\\mathtt r$'.\n",
    "The set of paths is referred to as $\\Pi$."
   ],
   "metadata": {
    "collapsed": false
   }
  },
  {
   "cell_type": "code",
   "execution_count": 6,
   "outputs": [],
   "source": [
    "def is_path(s):\n",
    "    return isinstance(s, str) and len(s) == len([c for c in s if c in \"ldr\"])"
   ],
   "metadata": {
    "collapsed": false
   }
  },
  {
   "cell_type": "markdown",
   "source": [
    "A path is used for referring to a subterm of a term using the partially defined function $\\operatorname{subref}:\\mathbf{Term}\\times\\Pi\\dashrightarrow\\mathbf{Term}$.\n",
    "\n",
    "$$\\begin{array}{lll}\n",
    "    \\operatorname{subref}\\ t\\ \\epsilon&=t&\\textsf{for any term }t \\\\\n",
    "    \\operatorname{subref}\\ (t_1\\,t_2)\\ \\mathtt l\\cdot\\pi&=t_1&\\textsf{for any terms }t_1,\\ t_2\\textsf{ and path }\\pi \\\\\n",
    "    \\operatorname{subref}\\ (t_1\\,t_2)\\ \\mathtt r\\cdot\\pi&=t_2&\\textsf{for any terms }t_1,\\ t_2\\textsf{ and path }\\pi \\\\\n",
    "    \\operatorname{subref}\\ (\\lambda\\,x\\mathop{.}t)\\ \\mathtt d\\cdot\\pi&=t&\\textsf{for any variable }x,\\textsf{ term }t,\\textsf{ and path }\\pi \\\\\n",
    "    \\operatorname{subref}\\ t\\ \\pi&\\textsf{ is undefined }&\\textsf{for all other cases}\n",
    "\\end{array}$$\n",
    "\n",
    "The program realisation of this function is `subref(t: Term, p: Path) -> Term | None` specified here.<br/>\n",
    "It returns the corresponding subterm or None if this subterm is undefined."
   ],
   "metadata": {
    "collapsed": false
   }
  },
  {
   "cell_type": "code",
   "execution_count": 7,
   "outputs": [],
   "source": [
    "def subref(t, p):\n",
    "    if isinstance(t, Term) and is_path(p):\n",
    "        if p == \"\":\n",
    "            return t\n",
    "        if p[0] == 'l' and t.kind == \"application\":\n",
    "            return subref(t._data[0], p[1:])\n",
    "        if p[0] == 'r' and t.kind == \"application\":\n",
    "            return subref(t._data[1], p[1:])\n",
    "        if p[0] == 'd' and t.kind == \"abstraction\":\n",
    "            return subref(t._data[1], p[1:])\n",
    "        # all other cases\n",
    "        return None\n",
    "    raise LambdaError(\"'subref' waits for an instance of Term and a path\"\n",
    "                      f\", but it received '{t}' and '{p}'\")"
   ],
   "metadata": {
    "collapsed": false
   }
  },
  {
   "cell_type": "markdown",
   "source": [
    "The set of paths for a term $t$ is defined as follows\n",
    "$$\\operatorname{\\Pi}(t)=\\{\\pi\\in\\Pi\\mid\\operatorname{subref}\\ t\\ \\pi\\textsf{ is defined}\\}.$$"
   ],
   "metadata": {
    "collapsed": false
   }
  },
  {
   "cell_type": "code",
   "execution_count": 8,
   "outputs": [],
   "source": [
    "def paths(t):\n",
    "    \"\"\"collects all paths that refer to some correct subterm of 't'\n",
    "    Result is a dictionary whose keys are paths determining\n",
    "        the corresponding subterm\n",
    "    \"\"\"\n",
    "    if isinstance(t, Term):\n",
    "        result = {\"\": t}\n",
    "        if t.kind == \"atom\":\n",
    "            return result\n",
    "        if t.kind == \"application\":\n",
    "            return {**result,\n",
    "                    **{(\"l\" + key): val for (key, val) in\n",
    "                       paths(subref(t, \"l\")).items()},\n",
    "                    **{(\"r\" + key): val for (key, val) in\n",
    "                       paths(subref(t, \"r\")).items()}}\n",
    "        # t.kind == \"abstraction\"\n",
    "        return {**result,\n",
    "                **{(\"d\" + key): val for (key, val) in\n",
    "                   paths(subref(t, \"d\")).items()}}\n",
    "    raise LambdaError(\"'paths' waits for an instance of Term\"\n",
    "                      f\", but it received '{t}'\")"
   ],
   "metadata": {
    "collapsed": false
   }
  },
  {
   "cell_type": "markdown",
   "source": [
    "For example, the next cell computes the corresponding dictionary for combinator `tS`."
   ],
   "metadata": {
    "collapsed": false
   }
  },
  {
   "cell_type": "code",
   "execution_count": 9,
   "outputs": [
    {
     "name": "stdout",
     "output_type": "stream",
     "text": [
      "'': (λ0. (λ1. (λ2. ((0 2) (1 2)))))\n",
      "'d': (λ1. (λ2. ((0 2) (1 2))))\n",
      "'dd': (λ2. ((0 2) (1 2)))\n",
      "'ddd': ((0 2) (1 2))\n",
      "'dddl': (0 2)\n",
      "'dddll': 0\n",
      "'dddlr': 2\n",
      "'dddr': (1 2)\n",
      "'dddrl': 1\n",
      "'dddrr': 2\n"
     ]
    }
   ],
   "source": [
    "pths = tS.call_as_method(paths)\n",
    "for key in pths.keys():\n",
    "    print(f\"'{key}': {pths[key]}\")"
   ],
   "metadata": {
    "collapsed": false
   }
  },
  {
   "cell_type": "markdown",
   "source": [
    "This example illustrates the following fact.\n",
    "\n",
    "**Proposition.**\n",
    "For any term $t$, $\\Pi(t)$ is a prefix closed finite subset of $\\Pi(t)$."
   ],
   "metadata": {
    "collapsed": false
   }
  },
  {
   "cell_type": "markdown",
   "source": [
    "In some sense, $\\Pi(t)$ is the \"skeleton\" of $t$.\n",
    "Terms with the same skeleton are similar.<br/>\n",
    "This leads us to the function `similar`."
   ],
   "metadata": {
    "collapsed": false
   }
  },
  {
   "cell_type": "code",
   "execution_count": 10,
   "outputs": [],
   "source": [
    "def similar(t1, t2):\n",
    "    if isinstance(t1, Term) and isinstance(t2, Term):\n",
    "        return paths(t1).keys() == paths(t2).keys()\n",
    "    raise LambdaError(\"'similar' waits for two instances of Term\"\n",
    "                      f\", but it received '{t1}' and '{t2}'\")"
   ],
   "metadata": {
    "collapsed": false
   }
  },
  {
   "cell_type": "markdown",
   "source": [
    "Let us consider the next examples."
   ],
   "metadata": {
    "collapsed": false
   }
  },
  {
   "cell_type": "code",
   "execution_count": 11,
   "outputs": [
    {
     "name": "stdout",
     "output_type": "stream",
     "text": [
      "(λ0. 0) and (λ1. 1) are similar\n",
      "(0 (λ0. 0)) and (1 (λ1. 1)) are similar\n"
     ]
    }
   ],
   "source": [
    "t1 = Application(tx, tI)\n",
    "another_tI = Abstraction(y, ty)\n",
    "t2 = Application(ty, another_tI)\n",
    "print(f\"{tI} and {another_tI}\"\n",
    "      f\" are {''if similar(tI, another_tI) else 'not '}similar\")\n",
    "print(f\"{t1} and {t2} are {''if similar(tI, another_tI) else 'not '}similar\")"
   ],
   "metadata": {
    "collapsed": false
   }
  },
  {
   "cell_type": "code",
   "execution_count": 12,
   "outputs": [
    {
     "name": "stdout",
     "output_type": "stream",
     "text": [
      "(λ0. 0) and (λ1. 0) are similar\n"
     ]
    }
   ],
   "source": [
    "tN = Abstraction(y, tx)\n",
    "print(f\"{tI} and {tN}\"\n",
    "      f\" are {''if similar(tI, another_tI) else 'not '}similar\")"
   ],
   "metadata": {
    "collapsed": false
   }
  },
  {
   "cell_type": "markdown",
   "source": [
    "Maximal paths in $\\Pi(t)$ lead to variables.\n",
    "There are two kinds of these paths:\n",
    "* such ones that do not have a prefix, which refers to the abstraction-subterm with the variable equal to the variable, to which this path refers;\n",
    "* and such ones that have a prefix, which refers to the abstraction-subterm with the variable equal to the variable, to which this path refers.\n",
    "\n",
    "Paths of the first kind refer to free variables, and ones of the second kind refer to bound variables."
   ],
   "metadata": {
    "collapsed": false
   }
  },
  {
   "cell_type": "code",
   "execution_count": 13,
   "outputs": [],
   "source": [
    "def vars(t):\n",
    "    \"\"\"builds a dictionary, in which keys are refs to term variables,\n",
    "    values are pairs constructed from the corresponding variable and\n",
    "    the ref to the abstraction-superterm that bound the variable if\n",
    "    it is bound or None elsewhen.\n",
    "    \"\"\"\n",
    "    varoccs = {key: st._data\n",
    "               for (key, st) in paths(t).items() if st.kind == \"atom\"}\n",
    "    result = {}\n",
    "    for key in varoccs:\n",
    "        free = True\n",
    "        for ie in range(1, len(key) + 1):\n",
    "            subkey = key[: - ie]\n",
    "            term = subref(t, subkey)\n",
    "            if (term.kind == \"abstraction\" and\n",
    "                term._data[0] == varoccs[key]):\n",
    "                result[key] = (varoccs[key], subkey)\n",
    "                free = False\n",
    "                break\n",
    "        if free:\n",
    "            result[key] = (varoccs[key], None)\n",
    "    return result"
   ],
   "metadata": {
    "collapsed": false
   }
  },
  {
   "cell_type": "code",
   "execution_count": 14,
   "outputs": [
    {
     "name": "stdout",
     "output_type": "stream",
     "text": [
      "(λ0. (λ1. (λ2. ((0 2) (1 2)))))\n",
      "'dddll': (0, '')\n",
      "'dddlr': (2, 'dd')\n",
      "'dddrl': (1, 'd')\n",
      "'dddrr': (2, 'dd')\n"
     ]
    }
   ],
   "source": [
    "print(tS)\n",
    "for key in vars(tS):\n",
    "    print(f\"'{key}': {vars(tS)[key]}\")"
   ],
   "metadata": {
    "collapsed": false
   }
  },
  {
   "cell_type": "code",
   "execution_count": 15,
   "outputs": [
    {
     "name": "stdout",
     "output_type": "stream",
     "text": [
      "[0, 1, 2, 3]\n",
      "[0, 1, 2]\n",
      "[0, 1]\n",
      "[0]\n",
      "[]\n"
     ]
    }
   ],
   "source": [
    "lst =[0, 1, 2, 3, 4]\n",
    "for i in range(1, len(lst) + 1):\n",
    "    print(lst[:- i])"
   ],
   "metadata": {
    "collapsed": false
   }
  },
  {
   "cell_type": "code",
   "execution_count": 15,
   "outputs": [],
   "source": [],
   "metadata": {
    "collapsed": false
   }
  },
  {
   "cell_type": "code",
   "execution_count": 15,
   "outputs": [],
   "source": [],
   "metadata": {
    "collapsed": false
   }
  },
  {
   "cell_type": "code",
   "execution_count": 15,
   "outputs": [],
   "source": [],
   "metadata": {
    "collapsed": false
   }
  },
  {
   "cell_type": "markdown",
   "source": [
    "(λ0. (λ1. (λ2. ((0 2) (1 2)))))\n",
    "'dddll': (0, '')\n",
    "'dddlr': (2, 'dd')\n",
    "'dddrl': (1, 'd')\n",
    "'dddrr': (2, 'dd')"
   ],
   "metadata": {
    "collapsed": false
   }
  }
 ],
 "metadata": {
  "kernelspec": {
   "display_name": "Python 3",
   "language": "python",
   "name": "python3"
  },
  "language_info": {
   "codemirror_mode": {
    "name": "ipython",
    "version": 2
   },
   "file_extension": ".py",
   "mimetype": "text/x-python",
   "name": "python",
   "nbconvert_exporter": "python",
   "pygments_lexer": "ipython2",
   "version": "2.7.6"
  }
 },
 "nbformat": 4,
 "nbformat_minor": 0
}
