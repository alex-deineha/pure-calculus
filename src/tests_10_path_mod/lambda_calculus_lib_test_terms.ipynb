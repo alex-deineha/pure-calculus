{
 "cells": [
  {
   "cell_type": "code",
   "execution_count": 6,
   "metadata": {
    "collapsed": true
   },
   "outputs": [],
   "source": [
    "from lambda_calculus import Variable as Var\n",
    "from lambda_calculus import Abstraction as Lambda\n",
    "from lambda_calculus import Application as App\n",
    "\n",
    "from lambda_calculus.visitors.normalisation import BetaNormalisingVisitor\n",
    "\n",
    "from lambda_calculus.terms import logic\n",
    "from lambda_calculus.terms import arithmetic\n",
    "from lambda_calculus.terms import pairs\n",
    "from lambda_calculus.terms import combinators"
   ]
  },
  {
   "cell_type": "markdown",
   "source": [
    "# <span style=\"color: #A1F99C\">TEST PROCEDURE</span>"
   ],
   "metadata": {
    "collapsed": false
   }
  },
  {
   "cell_type": "code",
   "execution_count": 7,
   "outputs": [],
   "source": [
    "def test_procedure(term, print_steps=True):\n",
    "    beta_norm_visitor = BetaNormalisingVisitor()\n",
    "\n",
    "    result = term\n",
    "    n_steps = 0\n",
    "    if print_steps:\n",
    "        print(f\"{n_steps}: {term}\")\n",
    "    for _, intermediate in term.accept(beta_norm_visitor):\n",
    "        result = intermediate\n",
    "        n_steps += 1\n",
    "        if print_steps:\n",
    "            print(f\"{n_steps}: {result}\")\n",
    "\n",
    "    print(f\"\\n\\nreduction steps: {n_steps}\")\n",
    "    print(f\"norm term:       {result}\")"
   ],
   "metadata": {
    "collapsed": false
   }
  },
  {
   "cell_type": "markdown",
   "source": [
    "# <span style=\"color: #A1F99C\">USEFUL TERMS</span>"
   ],
   "metadata": {
    "collapsed": false
   }
  },
  {
   "cell_type": "code",
   "execution_count": 8,
   "outputs": [],
   "source": [
    "def multi_app_term(term_0, term_1, *terms):\n",
    "    res_app_term = App(term_0, term_1)\n",
    "    for term in terms:\n",
    "        res_app_term = App(res_app_term, term)\n",
    "    return res_app_term\n",
    "\n",
    "\n",
    "def leq_term():\n",
    "    m, n = Var(\"mmm\"), Var(\"nnn\")\n",
    "    return Lambda(\"mmm\", Lambda(\"nnn\", App(\n",
    "        arithmetic.ISZERO,\n",
    "        App(App(arithmetic.SUBTRACT, m), n)\n",
    "    )))\n",
    "\n",
    "\n",
    "def eq_term():\n",
    "    mm, nn = Var(\"mm\"), Var(\"nn\")\n",
    "    return Lambda(\"mm\", Lambda(\"nn\", multi_app_term(\n",
    "        logic.AND,\n",
    "        multi_app_term(leq_term(), mm, nn),\n",
    "        multi_app_term(leq_term(), nn, mm)\n",
    "    )))"
   ],
   "metadata": {
    "collapsed": false
   }
  },
  {
   "cell_type": "markdown",
   "source": [
    "# <span style=\"color: #A1F99C\">1.</span>\n",
    "<span style=\"color:#bb91f3\">(λx. (λy.y)) ((λx. (xx)) (λx. (xx)))</span> == <span style=\"color:#f1bd47\">I</span> == <span style=\"color:#f1bd47\">λx. x</span>\n",
    "<span style=\"color:#c9fafa\">This term reduce in one step by LO, RO strategy\n",
    "And reduce in the same terms with other strategy.</span>"
   ],
   "metadata": {
    "collapsed": false
   }
  },
  {
   "cell_type": "code",
   "execution_count": 9,
   "outputs": [
    {
     "name": "stdout",
     "output_type": "stream",
     "text": [
      "0: ((λx.(λy.y)) ((λx.(x x)) (λx.(x x))))\n",
      "1: (λy.y)\n",
      "\n",
      "\n",
      "reduction steps: 1\n",
      "norm term:       (λy.y)\n"
     ]
    }
   ],
   "source": [
    "def term_test_1():\n",
    "    x, y = \"x\", \"y\"\n",
    "    x_, y_ = Var(x), Var(y)\n",
    "\n",
    "    return App(\n",
    "             Lambda(x, Lambda(y, y_)),\n",
    "             App(\n",
    "                 Lambda(x, App(x_, x_)),\n",
    "                 Lambda(x, App(x_, x_))\n",
    "             )\n",
    "         )\n",
    "\n",
    "\n",
    "test_procedure(term_test_1())"
   ],
   "metadata": {
    "collapsed": false
   }
  },
  {
   "cell_type": "markdown",
   "source": [
    "# <span style=\"color: #A1F99C\">2.</span>\n",
    "<span style=\"color:#bb91f3\">(ITE TRUE 3 1)</span> == <span style=\"color:#f1bd47>\">3</span> == <span style=\"color:#f1bd47\">λx. λy. (x (x (x y)))</span>"
   ],
   "metadata": {
    "collapsed": false
   }
  },
  {
   "cell_type": "code",
   "execution_count": 10,
   "outputs": [
    {
     "name": "stdout",
     "output_type": "stream",
     "text": [
      "0: ((((λp.(λa.(λb.((p a) b)))) (λx.(λy.x))) (λf.(λx.(f (f (f x)))))) (λf.(λx.(f x))))\n",
      "1: (((λa.(λb.(((λx.(λy.x)) a) b))) (λf.(λx.(f (f (f x)))))) (λf.(λx.(f x))))\n",
      "2: ((λb.(((λx.(λy.x)) (λf.(λx.(f (f (f x)))))) b)) (λf.(λx.(f x))))\n",
      "3: (((λx.(λy.x)) (λf.(λx.(f (f (f x)))))) (λf.(λx.(f x))))\n",
      "4: ((λy.(λf.(λx.(f (f (f x)))))) (λf.(λx.(f x))))\n",
      "5: (λf.(λx.(f (f (f x)))))\n",
      "\n",
      "\n",
      "reduction steps: 5\n",
      "norm term:       (λf.(λx.(f (f (f x)))))\n"
     ]
    }
   ],
   "source": [
    "def term_test_2():\n",
    "    return multi_app_term(logic.IF_THEN_ELSE, logic.TRUE, arithmetic.number(3), arithmetic.number(1))\n",
    "\n",
    "\n",
    "test_procedure(term_test_2())"
   ],
   "metadata": {
    "collapsed": false
   }
  },
  {
   "cell_type": "markdown",
   "source": [
    "# <span style=\"color: #A1F99C\">3.</span>\n",
    "<span style=\"color:#bb91f3\">(ITE FALSE 0 4)</span> == <span style=\"color:#f1bd47\">4</span> == <span style=\"color:#f1bd47\">λx. λy. (x (x (x (x y))))</span>"
   ],
   "metadata": {
    "collapsed": false
   }
  },
  {
   "cell_type": "code",
   "execution_count": 11,
   "outputs": [
    {
     "name": "stdout",
     "output_type": "stream",
     "text": [
      "0: ((((λp.(λa.(λb.((p a) b)))) (λx.(λy.y))) (λf.(λx.x))) (λf.(λx.(f (f (f (f x)))))))\n",
      "1: (((λa.(λb.(((λx.(λy.y)) a) b))) (λf.(λx.x))) (λf.(λx.(f (f (f (f x)))))))\n",
      "2: ((λb.(((λx.(λy.y)) (λf.(λx.x))) b)) (λf.(λx.(f (f (f (f x)))))))\n",
      "3: (((λx.(λy.y)) (λf.(λx.x))) (λf.(λx.(f (f (f (f x)))))))\n",
      "4: ((λy.y) (λf.(λx.(f (f (f (f x)))))))\n",
      "5: (λf.(λx.(f (f (f (f x))))))\n",
      "\n",
      "\n",
      "reduction steps: 5\n",
      "norm term:       (λf.(λx.(f (f (f (f x))))))\n"
     ]
    }
   ],
   "source": [
    "def term_test_3():\n",
    "    return multi_app_term(logic.IF_THEN_ELSE, logic.FALSE, arithmetic.number(0), arithmetic.number(4))\n",
    "\n",
    "\n",
    "test_procedure(term_test_3())"
   ],
   "metadata": {
    "collapsed": false
   }
  },
  {
   "cell_type": "markdown",
   "source": [
    "# <span style=\"color: #A1F99C\">4.</span>\n",
    "<span style=\"color:#bb91f3\">(PRED 0)</span> == <span style=\"color:#f1bd47\">0</span> == <span style=\"color:#f1bd47\">λx. λy. y</span>"
   ],
   "metadata": {
    "collapsed": false
   }
  },
  {
   "cell_type": "code",
   "execution_count": 12,
   "outputs": [
    {
     "name": "stdout",
     "output_type": "stream",
     "text": [
      "0: ((λn.(λf.(λx.(((n (λg.(λh.(h (g f))))) (λu.x)) (λu.u))))) (λf.(λx.x)))\n",
      "1: (λf.(λx.((((λf.(λx.x)) (λg.(λh.(h (g f))))) (λu.x)) (λu.u))))\n",
      "2: (λf.(λx.(((λx.x) (λu.x)) (λu.u))))\n",
      "3: (λf.(λx.((λu.x) (λu.u))))\n",
      "4: (λf.(λx.x))\n",
      "\n",
      "\n",
      "reduction steps: 4\n",
      "norm term:       (λf.(λx.x))\n"
     ]
    }
   ],
   "source": [
    "def term_test_4():\n",
    "    return multi_app_term(arithmetic.PREDECESSOR, arithmetic.number(0))\n",
    "\n",
    "\n",
    "test_procedure(term_test_4())"
   ],
   "metadata": {
    "collapsed": false
   }
  },
  {
   "cell_type": "markdown",
   "source": [
    "# <span style=\"color: #A1F99C\">5.</span>\n",
    "<span style=\"color:#bb91f3\">(PRED 5)</span> == <span style=\"color:#f1bd47\">4</span> == <span style=\"color:#f1bd47\">λx. λy. (x (x (x (x y))))</span>"
   ],
   "metadata": {
    "collapsed": false
   }
  },
  {
   "cell_type": "code",
   "execution_count": 13,
   "outputs": [
    {
     "name": "stdout",
     "output_type": "stream",
     "text": [
      "0: ((λn.(λf.(λx.(((n (λg.(λh.(h (g f))))) (λu.x)) (λu.u))))) (λf.(λx.(f (f (f (f (f x))))))))\n",
      "1: (λf.(λx.((((λf.(λx.(f (f (f (f (f x))))))) (λg.(λh.(h (g f))))) (λu.x)) (λu.u))))\n",
      "2: (λf.(λx.(((λx.((λg.(λh.(h (g f)))) ((λg.(λh.(h (g f)))) ((λg.(λh.(h (g f)))) ((λg.(λh.(h (g f)))) ((λg.(λh.(h (g f)))) x)))))) (λu.x)) (λu.u))))\n",
      "3: (λf.(λx.(((λg.(λh.(h (g f)))) ((λg.(λh.(h (g f)))) ((λg.(λh.(h (g f)))) ((λg.(λh.(h (g f)))) ((λg.(λh.(h (g f)))) (λu.x)))))) (λu.u))))\n",
      "4: (λf.(λx.((λh.(h (((λg.(λh.(h (g f)))) ((λg.(λh.(h (g f)))) ((λg.(λh.(h (g f)))) ((λg.(λh.(h (g f)))) (λu.x))))) f))) (λu.u))))\n",
      "5: (λf.(λx.((λu.u) (((λg.(λh.(h (g f)))) ((λg.(λh.(h (g f)))) ((λg.(λh.(h (g f)))) ((λg.(λh.(h (g f)))) (λu.x))))) f))))\n",
      "6: (λf.(λx.(((λg.(λh.(h (g f)))) ((λg.(λh.(h (g f)))) ((λg.(λh.(h (g f)))) ((λg.(λh.(h (g f)))) (λu.x))))) f)))\n",
      "7: (λf.(λx.((λh.(h (((λg.(λh.(h (g f)))) ((λg.(λh.(h (g f)))) ((λg.(λh.(h (g f)))) (λu.x)))) f))) f)))\n",
      "8: (λf.(λx.(f (((λg.(λh.(h (g f)))) ((λg.(λh.(h (g f)))) ((λg.(λh.(h (g f)))) (λu.x)))) f))))\n",
      "9: (λf.(λx.(f ((λh.(h (((λg.(λh.(h (g f)))) ((λg.(λh.(h (g f)))) (λu.x))) f))) f))))\n",
      "10: (λf.(λx.(f (f (((λg.(λh.(h (g f)))) ((λg.(λh.(h (g f)))) (λu.x))) f)))))\n",
      "11: (λf.(λx.(f (f ((λh.(h (((λg.(λh.(h (g f)))) (λu.x)) f))) f)))))\n",
      "12: (λf.(λx.(f (f (f (((λg.(λh.(h (g f)))) (λu.x)) f))))))\n",
      "13: (λf.(λx.(f (f (f ((λh.(h ((λu.x) f))) f))))))\n",
      "14: (λf.(λx.(f (f (f (f ((λu.x) f)))))))\n",
      "15: (λf.(λx.(f (f (f (f x))))))\n",
      "\n",
      "\n",
      "reduction steps: 15\n",
      "norm term:       (λf.(λx.(f (f (f (f x))))))\n"
     ]
    }
   ],
   "source": [
    "def term_test_5():\n",
    "    return multi_app_term(arithmetic.PREDECESSOR, arithmetic.number(5))\n",
    "\n",
    "\n",
    "test_procedure(term_test_5())"
   ],
   "metadata": {
    "collapsed": false
   }
  },
  {
   "cell_type": "markdown",
   "source": [
    "# <span style=\"color: #A1F99C\">6.</span>\n",
    "<span style=\"color:#bb91f3\">(PLUS 0 0)</span> == <span style=\"color:#f1bd47\">0</span> == <span style=\"color:#f1bd47\">λx. λy. y</span>"
   ],
   "metadata": {
    "collapsed": false
   }
  },
  {
   "cell_type": "code",
   "execution_count": 14,
   "outputs": [
    {
     "name": "stdout",
     "output_type": "stream",
     "text": [
      "0: (((λm.(λn.(λf.(λx.((m f) ((n f) x)))))) (λf.(λx.x))) (λf.(λx.x)))\n",
      "1: ((λn.(λf.(λx.(((λf.(λx.x)) f) ((n f) x))))) (λf.(λx.x)))\n",
      "2: (λf.(λx.(((λf.(λx.x)) f) (((λf.(λx.x)) f) x))))\n",
      "3: (λf.(λx.((λx.x) (((λf.(λx.x)) f) x))))\n",
      "4: (λf.(λx.(((λf.(λx.x)) f) x)))\n",
      "5: (λf.(λx.((λx.x) x)))\n",
      "6: (λf.(λx.x))\n",
      "\n",
      "\n",
      "reduction steps: 6\n",
      "norm term:       (λf.(λx.x))\n"
     ]
    }
   ],
   "source": [
    "def term_test_6():\n",
    "    return multi_app_term(arithmetic.ADD, arithmetic.number(0), arithmetic.number(0))\n",
    "\n",
    "\n",
    "test_procedure(term_test_6())"
   ],
   "metadata": {
    "collapsed": false
   }
  },
  {
   "cell_type": "markdown",
   "source": [
    "# <span style=\"color: #A1F99C\">7.</span>\n",
    "<span style=\"color:#bb91f3\">(PLUS 2 3)</span> == <span style=\"color:#f1bd47\">5</span> == <span style=\"color:#f1bd47\">λx. λy. (x (x (x (x (x y)))))</span>"
   ],
   "metadata": {
    "collapsed": false
   }
  },
  {
   "cell_type": "code",
   "execution_count": 15,
   "outputs": [
    {
     "name": "stdout",
     "output_type": "stream",
     "text": [
      "0: (((λm.(λn.(λf.(λx.((m f) ((n f) x)))))) (λf.(λx.(f (f x))))) (λf.(λx.(f (f (f x))))))\n",
      "1: ((λn.(λf.(λx.(((λf.(λx.(f (f x)))) f) ((n f) x))))) (λf.(λx.(f (f (f x))))))\n",
      "2: (λf.(λx.(((λf.(λx.(f (f x)))) f) (((λf.(λx.(f (f (f x))))) f) x))))\n",
      "3: (λf.(λx.((λx.(f (f x))) (((λf.(λx.(f (f (f x))))) f) x))))\n",
      "4: (λf.(λx.(f (f (((λf.(λx.(f (f (f x))))) f) x)))))\n",
      "5: (λf.(λx.(f (f ((λx.(f (f (f x)))) x)))))\n",
      "6: (λf.(λx.(f (f (f (f (f x)))))))\n",
      "\n",
      "\n",
      "reduction steps: 6\n",
      "norm term:       (λf.(λx.(f (f (f (f (f x)))))))\n"
     ]
    }
   ],
   "source": [
    "def term_test_7():\n",
    "    return multi_app_term(arithmetic.ADD, arithmetic.number(2), arithmetic.number(3))\n",
    "\n",
    "\n",
    "test_procedure(term_test_7())"
   ],
   "metadata": {
    "collapsed": false
   }
  },
  {
   "cell_type": "markdown",
   "source": [
    "# <span style=\"color: #A1F99C\">8.</span>\n",
    "<span style=\"color:#bb91f3\">(SUBTRACT 4 1)</span> == <span style=\"color:#f1bd47\">3</span> == <span style=\"color:#f1bd47\">λx. λy. (x (x (x y)))</span>"
   ],
   "metadata": {
    "collapsed": false
   }
  },
  {
   "cell_type": "code",
   "execution_count": 16,
   "outputs": [
    {
     "name": "stdout",
     "output_type": "stream",
     "text": [
      "0: (((λm.(λn.((n (λn.(λf.(λx.(((n (λg.(λh.(h (g f))))) (λu.x)) (λu.u)))))) m))) (λf.(λx.(f (f (f (f x))))))) (λf.(λx.(f x))))\n",
      "1: ((λn.((n (λn.(λf.(λx.(((n (λg.(λh.(h (g f))))) (λu.x)) (λu.u)))))) (λf.(λx.(f (f (f (f x)))))))) (λf.(λx.(f x))))\n",
      "2: (((λf.(λx.(f x))) (λn.(λf.(λx.(((n (λg.(λh.(h (g f))))) (λu.x)) (λu.u)))))) (λf.(λx.(f (f (f (f x)))))))\n",
      "3: ((λx.((λn.(λf.(λx.(((n (λg.(λh.(h (g f))))) (λu.x)) (λu.u))))) x)) (λf.(λx.(f (f (f (f x)))))))\n",
      "4: ((λn.(λf.(λx.(((n (λg.(λh.(h (g f))))) (λu.x)) (λu.u))))) (λf.(λx.(f (f (f (f x)))))))\n",
      "5: (λf.(λx.((((λf.(λx.(f (f (f (f x)))))) (λg.(λh.(h (g f))))) (λu.x)) (λu.u))))\n",
      "6: (λf.(λx.(((λx.((λg.(λh.(h (g f)))) ((λg.(λh.(h (g f)))) ((λg.(λh.(h (g f)))) ((λg.(λh.(h (g f)))) x))))) (λu.x)) (λu.u))))\n",
      "7: (λf.(λx.(((λg.(λh.(h (g f)))) ((λg.(λh.(h (g f)))) ((λg.(λh.(h (g f)))) ((λg.(λh.(h (g f)))) (λu.x))))) (λu.u))))\n",
      "8: (λf.(λx.((λh.(h (((λg.(λh.(h (g f)))) ((λg.(λh.(h (g f)))) ((λg.(λh.(h (g f)))) (λu.x)))) f))) (λu.u))))\n",
      "9: (λf.(λx.((λu.u) (((λg.(λh.(h (g f)))) ((λg.(λh.(h (g f)))) ((λg.(λh.(h (g f)))) (λu.x)))) f))))\n",
      "10: (λf.(λx.(((λg.(λh.(h (g f)))) ((λg.(λh.(h (g f)))) ((λg.(λh.(h (g f)))) (λu.x)))) f)))\n",
      "11: (λf.(λx.((λh.(h (((λg.(λh.(h (g f)))) ((λg.(λh.(h (g f)))) (λu.x))) f))) f)))\n",
      "12: (λf.(λx.(f (((λg.(λh.(h (g f)))) ((λg.(λh.(h (g f)))) (λu.x))) f))))\n",
      "13: (λf.(λx.(f ((λh.(h (((λg.(λh.(h (g f)))) (λu.x)) f))) f))))\n",
      "14: (λf.(λx.(f (f (((λg.(λh.(h (g f)))) (λu.x)) f)))))\n",
      "15: (λf.(λx.(f (f ((λh.(h ((λu.x) f))) f)))))\n",
      "16: (λf.(λx.(f (f (f ((λu.x) f))))))\n",
      "17: (λf.(λx.(f (f (f x)))))\n",
      "\n",
      "\n",
      "reduction steps: 17\n",
      "norm term:       (λf.(λx.(f (f (f x)))))\n"
     ]
    }
   ],
   "source": [
    "def term_test_8():\n",
    "    return multi_app_term(arithmetic.SUBTRACT, arithmetic.number(4), arithmetic.number(1))\n",
    "\n",
    "\n",
    "test_procedure(term_test_8())"
   ],
   "metadata": {
    "collapsed": false
   }
  },
  {
   "cell_type": "markdown",
   "source": [
    "# <span style=\"color: #A1F99C\">9.</span>\n",
    "<span style=\"color:#bb91f3\">(SUBTRACT 3 5)</span> == <span style=\"color:#f1bd47\">0</span> == <span style=\"color:#f1bd47\">λx. λy. y</span>"
   ],
   "metadata": {
    "collapsed": false
   }
  },
  {
   "cell_type": "code",
   "execution_count": 17,
   "outputs": [
    {
     "name": "stdout",
     "output_type": "stream",
     "text": [
      "0: (((λm.(λn.((n (λn.(λf.(λx.(((n (λg.(λh.(h (g f))))) (λu.x)) (λu.u)))))) m))) (λf.(λx.(f (f (f x)))))) (λf.(λx.(f (f (f (f (f x))))))))\n",
      "1: ((λn.((n (λn.(λf.(λx.(((n (λg.(λh.(h (g f))))) (λu.x)) (λu.u)))))) (λf.(λx.(f (f (f x))))))) (λf.(λx.(f (f (f (f (f x))))))))\n",
      "2: (((λf.(λx.(f (f (f (f (f x))))))) (λn.(λf.(λx.(((n (λg.(λh.(h (g f))))) (λu.x)) (λu.u)))))) (λf.(λx.(f (f (f x))))))\n",
      "3: ((λx.((λn.(λf.(λx.(((n (λg.(λh.(h (g f))))) (λu.x)) (λu.u))))) ((λn.(λf.(λx.(((n (λg.(λh.(h (g f))))) (λu.x)) (λu.u))))) ((λn.(λf.(λx.(((n (λg.(λh.(h (g f))))) (λu.x)) (λu.u))))) ((λn.(λf.(λx.(((n (λg.(λh.(h (g f))))) (λu.x)) (λu.u))))) ((λn.(λf.(λx.(((n (λg.(λh.(h (g f))))) (λu.x)) (λu.u))))) x)))))) (λf.(λx.(f (f (f x))))))\n",
      "4: ((λn.(λf.(λx.(((n (λg.(λh.(h (g f))))) (λu.x)) (λu.u))))) ((λn.(λf.(λx.(((n (λg.(λh.(h (g f))))) (λu.x)) (λu.u))))) ((λn.(λf.(λx.(((n (λg.(λh.(h (g f))))) (λu.x)) (λu.u))))) ((λn.(λf.(λx.(((n (λg.(λh.(h (g f))))) (λu.x)) (λu.u))))) ((λn.(λf.(λx.(((n (λg.(λh.(h (g f))))) (λu.x)) (λu.u))))) (λf.(λx.(f (f (f x))))))))))\n",
      "5: (λf.(λx.(((((λn.(λf.(λx.(((n (λg.(λh.(h (g f))))) (λu.x)) (λu.u))))) ((λn.(λf.(λx.(((n (λg.(λh.(h (g f))))) (λu.x)) (λu.u))))) ((λn.(λf.(λx.(((n (λg.(λh.(h (g f))))) (λu.x)) (λu.u))))) ((λn.(λf.(λx.(((n (λg.(λh.(h (g f))))) (λu.x)) (λu.u))))) (λf.(λx.(f (f (f x))))))))) (λg.(λh.(h (g f))))) (λu.x)) (λu.u))))\n",
      "6: (λf.(λx.((((λf.(λx.(((((λn.(λf.(λx.(((n (λg.(λh.(h (g f))))) (λu.x)) (λu.u))))) ((λn.(λf.(λx.(((n (λg.(λh.(h (g f))))) (λu.x)) (λu.u))))) ((λn.(λf.(λx.(((n (λg.(λh.(h (g f))))) (λu.x)) (λu.u))))) (λf.(λx.(f (f (f x)))))))) (λg.(λh.(h (g f))))) (λu.x)) (λu.u)))) (λg.(λh.(h (g f))))) (λu.x)) (λu.u))))\n",
      "7: (λf.(λx.(((λx.(((((λn.(λf.(λx.(((n (λg.(λh.(h (g f))))) (λu.x)) (λu.u))))) ((λn.(λf.(λx.(((n (λg.(λh.(h (g f))))) (λu.x)) (λu.u))))) ((λn.(λf.(λx.(((n (λg.(λh.(h (g f))))) (λu.x)) (λu.u))))) (λf.(λx.(f (f (f x)))))))) (λg.(λh.(h (g (λg.(λh.(h (g f))))))))) (λu.x)) (λu.u))) (λu.x)) (λu.u))))\n",
      "8: (λf.(λx.((((((λn.(λf.(λx.(((n (λg.(λh.(h (g f))))) (λu.x)) (λu.u))))) ((λn.(λf.(λx.(((n (λg.(λh.(h (g f))))) (λu.x)) (λu.u))))) ((λn.(λf.(λx.(((n (λg.(λh.(h (g f))))) (λu.x)) (λu.u))))) (λf.(λx.(f (f (f x)))))))) (λg.(λh.(h (g (λg.(λh.(h (g f))))))))) (λu.(λu.x))) (λu.u)) (λu.u))))\n",
      "9: (λf.(λx.(((((λf.(λx.(((((λn.(λf.(λx.(((n (λg.(λh.(h (g f))))) (λu.x)) (λu.u))))) ((λn.(λf.(λx.(((n (λg.(λh.(h (g f))))) (λu.x)) (λu.u))))) (λf.(λx.(f (f (f x))))))) (λg.(λh.(h (g f))))) (λu.x)) (λu.u)))) (λg.(λh.(h (g (λg.(λh.(h (g f))))))))) (λu.(λu.x))) (λu.u)) (λu.u))))\n",
      "10: (λf.(λx.((((λx.(((((λn.(λf.(λx.(((n (λg.(λh.(h (g f))))) (λu.x)) (λu.u))))) ((λn.(λf.(λx.(((n (λg.(λh.(h (g f))))) (λu.x)) (λu.u))))) (λf.(λx.(f (f (f x))))))) (λg.(λh.(h (g (λg.(λh.(h (g (λg.(λh.(h (g f))))))))))))) (λu.x)) (λu.u))) (λu.(λu.x))) (λu.u)) (λu.u))))\n",
      "11: (λf.(λx.(((((((λn.(λf.(λx.(((n (λg.(λh.(h (g f))))) (λu.x)) (λu.u))))) ((λn.(λf.(λx.(((n (λg.(λh.(h (g f))))) (λu.x)) (λu.u))))) (λf.(λx.(f (f (f x))))))) (λg.(λh.(h (g (λg.(λh.(h (g (λg.(λh.(h (g f))))))))))))) (λu.(λu.(λu.x)))) (λu.u)) (λu.u)) (λu.u))))\n",
      "12: (λf.(λx.((((((λf.(λx.(((((λn.(λf.(λx.(((n (λg.(λh.(h (g f))))) (λu.x)) (λu.u))))) (λf.(λx.(f (f (f x)))))) (λg.(λh.(h (g f))))) (λu.x)) (λu.u)))) (λg.(λh.(h (g (λg.(λh.(h (g (λg.(λh.(h (g f))))))))))))) (λu.(λu.(λu.x)))) (λu.u)) (λu.u)) (λu.u))))\n",
      "13: (λf.(λx.(((((λx.(((((λn.(λf.(λx.(((n (λg.(λh.(h (g f))))) (λu.x)) (λu.u))))) (λf.(λx.(f (f (f x)))))) (λg.(λh.(h (g (λg.(λh.(h (g (λg.(λh.(h (g (λg.(λh.(h (g f))))))))))))))))) (λu.x)) (λu.u))) (λu.(λu.(λu.x)))) (λu.u)) (λu.u)) (λu.u))))\n",
      "14: (λf.(λx.((((((((λn.(λf.(λx.(((n (λg.(λh.(h (g f))))) (λu.x)) (λu.u))))) (λf.(λx.(f (f (f x)))))) (λg.(λh.(h (g (λg.(λh.(h (g (λg.(λh.(h (g (λg.(λh.(h (g f))))))))))))))))) (λu.(λu.(λu.(λu.x))))) (λu.u)) (λu.u)) (λu.u)) (λu.u))))\n",
      "15: (λf.(λx.(((((((λf.(λx.((((λf.(λx.(f (f (f x))))) (λg.(λh.(h (g f))))) (λu.x)) (λu.u)))) (λg.(λh.(h (g (λg.(λh.(h (g (λg.(λh.(h (g (λg.(λh.(h (g f))))))))))))))))) (λu.(λu.(λu.(λu.x))))) (λu.u)) (λu.u)) (λu.u)) (λu.u))))\n",
      "16: (λf.(λx.((((((λx.((((λf.(λx.(f (f (f x))))) (λg.(λh.(h (g (λg.(λh.(h (g (λg.(λh.(h (g (λg.(λh.(h (g (λg.(λh.(h (g f))))))))))))))))))))) (λu.x)) (λu.u))) (λu.(λu.(λu.(λu.x))))) (λu.u)) (λu.u)) (λu.u)) (λu.u))))\n",
      "17: (λf.(λx.((((((((λf.(λx.(f (f (f x))))) (λg.(λh.(h (g (λg.(λh.(h (g (λg.(λh.(h (g (λg.(λh.(h (g (λg.(λh.(h (g f))))))))))))))))))))) (λu.(λu.(λu.(λu.(λu.x)))))) (λu.u)) (λu.u)) (λu.u)) (λu.u)) (λu.u))))\n",
      "18: (λf.(λx.(((((((λx.((λg.(λh.(h (g (λg.(λh.(h (g (λg.(λh.(h (g (λg.(λh.(h (g (λg.(λh.(h (g f)))))))))))))))))))) ((λg.(λh.(h (g (λg.(λh.(h (g (λg.(λh.(h (g (λg.(λh.(h (g (λg.(λh.(h (g f)))))))))))))))))))) ((λg.(λh.(h (g (λg.(λh.(h (g (λg.(λh.(h (g (λg.(λh.(h (g (λg.(λh.(h (g f)))))))))))))))))))) x)))) (λu.(λu.(λu.(λu.(λu.x)))))) (λu.u)) (λu.u)) (λu.u)) (λu.u)) (λu.u))))\n",
      "19: (λf.(λx.(((((((λg.(λh.(h (g (λg.(λh.(h (g (λg.(λh.(h (g (λg.(λh.(h (g (λg.(λh.(h (g f)))))))))))))))))))) ((λg.(λh.(h (g (λg.(λh.(h (g (λg.(λh.(h (g (λg.(λh.(h (g (λg.(λh.(h (g f)))))))))))))))))))) ((λg.(λh.(h (g (λg.(λh.(h (g (λg.(λh.(h (g (λg.(λh.(h (g (λg.(λh.(h (g f)))))))))))))))))))) (λu.(λu.(λu.(λu.(λu.x)))))))) (λu.u)) (λu.u)) (λu.u)) (λu.u)) (λu.u))))\n",
      "20: (λf.(λx.((((((λh.(h (((λg.(λh.(h (g (λg.(λh.(h (g (λg.(λh.(h (g (λg.(λh.(h (g (λg.(λh.(h (g f)))))))))))))))))))) ((λg.(λh.(h (g (λg.(λh.(h (g (λg.(λh.(h (g (λg.(λh.(h (g (λg.(λh.(h (g f)))))))))))))))))))) (λu.(λu.(λu.(λu.(λu.x))))))) (λg.(λh.(h (g (λg.(λh.(h (g (λg.(λh.(h (g (λg.(λh.(h (g f))))))))))))))))))) (λu.u)) (λu.u)) (λu.u)) (λu.u)) (λu.u))))\n",
      "21: (λf.(λx.((((((λu.u) (((λg.(λh.(h (g (λg.(λh.(h (g (λg.(λh.(h (g (λg.(λh.(h (g (λg.(λh.(h (g f)))))))))))))))))))) ((λg.(λh.(h (g (λg.(λh.(h (g (λg.(λh.(h (g (λg.(λh.(h (g (λg.(λh.(h (g f)))))))))))))))))))) (λu.(λu.(λu.(λu.(λu.x))))))) (λg.(λh.(h (g (λg.(λh.(h (g (λg.(λh.(h (g (λg.(λh.(h (g f)))))))))))))))))) (λu.u)) (λu.u)) (λu.u)) (λu.u))))\n",
      "22: (λf.(λx.(((((((λg.(λh.(h (g (λg.(λh.(h (g (λg.(λh.(h (g (λg.(λh.(h (g (λg.(λh.(h (g f)))))))))))))))))))) ((λg.(λh.(h (g (λg.(λh.(h (g (λg.(λh.(h (g (λg.(λh.(h (g (λg.(λh.(h (g f)))))))))))))))))))) (λu.(λu.(λu.(λu.(λu.x))))))) (λg.(λh.(h (g (λg.(λh.(h (g (λg.(λh.(h (g (λg.(λh.(h (g f))))))))))))))))) (λu.u)) (λu.u)) (λu.u)) (λu.u))))\n",
      "23: (λf.(λx.((((((λh.(h (((λg.(λh.(h (g (λg.(λh.(h (g (λg.(λh.(h (g (λg.(λh.(h (g (λg.(λh.(h (g f)))))))))))))))))))) (λu.(λu.(λu.(λu.(λu.x)))))) (λg.(λh.(h (g (λg.(λh.(h (g (λg.(λh.(h (g (λg.(λh.(h (g f))))))))))))))))))) (λg.(λh.(h (g (λg.(λh.(h (g (λg.(λh.(h (g (λg.(λh.(h (g f))))))))))))))))) (λu.u)) (λu.u)) (λu.u)) (λu.u))))\n",
      "24: (λf.(λx.((((((λg.(λh.(h (g (λg.(λh.(h (g (λg.(λh.(h (g (λg.(λh.(h (g f)))))))))))))))) (((λg.(λh.(h (g (λg.(λh.(h (g (λg.(λh.(h (g (λg.(λh.(h (g (λg.(λh.(h (g f)))))))))))))))))))) (λu.(λu.(λu.(λu.(λu.x)))))) (λg.(λh.(h (g (λg.(λh.(h (g (λg.(λh.(h (g (λg.(λh.(h (g f)))))))))))))))))) (λu.u)) (λu.u)) (λu.u)) (λu.u))))\n",
      "25: (λf.(λx.(((((λh.(h ((((λg.(λh.(h (g (λg.(λh.(h (g (λg.(λh.(h (g (λg.(λh.(h (g (λg.(λh.(h (g f)))))))))))))))))))) (λu.(λu.(λu.(λu.(λu.x)))))) (λg.(λh.(h (g (λg.(λh.(h (g (λg.(λh.(h (g (λg.(λh.(h (g f))))))))))))))))) (λg.(λh.(h (g (λg.(λh.(h (g (λg.(λh.(h (g f))))))))))))))) (λu.u)) (λu.u)) (λu.u)) (λu.u))))\n",
      "26: (λf.(λx.(((((λu.u) ((((λg.(λh.(h (g (λg.(λh.(h (g (λg.(λh.(h (g (λg.(λh.(h (g (λg.(λh.(h (g f)))))))))))))))))))) (λu.(λu.(λu.(λu.(λu.x)))))) (λg.(λh.(h (g (λg.(λh.(h (g (λg.(λh.(h (g (λg.(λh.(h (g f))))))))))))))))) (λg.(λh.(h (g (λg.(λh.(h (g (λg.(λh.(h (g f)))))))))))))) (λu.u)) (λu.u)) (λu.u))))\n",
      "27: (λf.(λx.(((((((λg.(λh.(h (g (λg.(λh.(h (g (λg.(λh.(h (g (λg.(λh.(h (g (λg.(λh.(h (g f)))))))))))))))))))) (λu.(λu.(λu.(λu.(λu.x)))))) (λg.(λh.(h (g (λg.(λh.(h (g (λg.(λh.(h (g (λg.(λh.(h (g f))))))))))))))))) (λg.(λh.(h (g (λg.(λh.(h (g (λg.(λh.(h (g f))))))))))))) (λu.u)) (λu.u)) (λu.u))))\n",
      "28: (λf.(λx.((((((λh.(h ((λu.(λu.(λu.(λu.(λu.x))))) (λg.(λh.(h (g (λg.(λh.(h (g (λg.(λh.(h (g (λg.(λh.(h (g f))))))))))))))))))) (λg.(λh.(h (g (λg.(λh.(h (g (λg.(λh.(h (g (λg.(λh.(h (g f))))))))))))))))) (λg.(λh.(h (g (λg.(λh.(h (g (λg.(λh.(h (g f))))))))))))) (λu.u)) (λu.u)) (λu.u))))\n",
      "29: (λf.(λx.((((((λg.(λh.(h (g (λg.(λh.(h (g (λg.(λh.(h (g (λg.(λh.(h (g f)))))))))))))))) ((λu.(λu.(λu.(λu.(λu.x))))) (λg.(λh.(h (g (λg.(λh.(h (g (λg.(λh.(h (g (λg.(λh.(h (g f)))))))))))))))))) (λg.(λh.(h (g (λg.(λh.(h (g (λg.(λh.(h (g f))))))))))))) (λu.u)) (λu.u)) (λu.u))))\n",
      "30: (λf.(λx.(((((λh.(h (((λu.(λu.(λu.(λu.(λu.x))))) (λg.(λh.(h (g (λg.(λh.(h (g (λg.(λh.(h (g (λg.(λh.(h (g f))))))))))))))))) (λg.(λh.(h (g (λg.(λh.(h (g (λg.(λh.(h (g f))))))))))))))) (λg.(λh.(h (g (λg.(λh.(h (g (λg.(λh.(h (g f))))))))))))) (λu.u)) (λu.u)) (λu.u))))\n",
      "31: (λf.(λx.(((((λg.(λh.(h (g (λg.(λh.(h (g (λg.(λh.(h (g f)))))))))))) (((λu.(λu.(λu.(λu.(λu.x))))) (λg.(λh.(h (g (λg.(λh.(h (g (λg.(λh.(h (g (λg.(λh.(h (g f))))))))))))))))) (λg.(λh.(h (g (λg.(λh.(h (g (λg.(λh.(h (g f)))))))))))))) (λu.u)) (λu.u)) (λu.u))))\n",
      "32: (λf.(λx.((((λh.(h ((((λu.(λu.(λu.(λu.(λu.x))))) (λg.(λh.(h (g (λg.(λh.(h (g (λg.(λh.(h (g (λg.(λh.(h (g f))))))))))))))))) (λg.(λh.(h (g (λg.(λh.(h (g (λg.(λh.(h (g f))))))))))))) (λg.(λh.(h (g (λg.(λh.(h (g f))))))))))) (λu.u)) (λu.u)) (λu.u))))\n",
      "33: (λf.(λx.((((λu.u) ((((λu.(λu.(λu.(λu.(λu.x))))) (λg.(λh.(h (g (λg.(λh.(h (g (λg.(λh.(h (g (λg.(λh.(h (g f))))))))))))))))) (λg.(λh.(h (g (λg.(λh.(h (g (λg.(λh.(h (g f))))))))))))) (λg.(λh.(h (g (λg.(λh.(h (g f)))))))))) (λu.u)) (λu.u))))\n",
      "34: (λf.(λx.((((((λu.(λu.(λu.(λu.(λu.x))))) (λg.(λh.(h (g (λg.(λh.(h (g (λg.(λh.(h (g (λg.(λh.(h (g f))))))))))))))))) (λg.(λh.(h (g (λg.(λh.(h (g (λg.(λh.(h (g f))))))))))))) (λg.(λh.(h (g (λg.(λh.(h (g f))))))))) (λu.u)) (λu.u))))\n",
      "35: (λf.(λx.(((((λu.(λu.(λu.(λu.x)))) (λg.(λh.(h (g (λg.(λh.(h (g (λg.(λh.(h (g f))))))))))))) (λg.(λh.(h (g (λg.(λh.(h (g f))))))))) (λu.u)) (λu.u))))\n",
      "36: (λf.(λx.((((λu.(λu.(λu.x))) (λg.(λh.(h (g (λg.(λh.(h (g f))))))))) (λu.u)) (λu.u))))\n",
      "37: (λf.(λx.(((λu.(λu.x)) (λu.u)) (λu.u))))\n",
      "38: (λf.(λx.((λu.x) (λu.u))))\n",
      "39: (λf.(λx.x))\n",
      "\n",
      "\n",
      "reduction steps: 39\n",
      "norm term:       (λf.(λx.x))\n"
     ]
    }
   ],
   "source": [
    "def term_test_9():\n",
    "    return multi_app_term(arithmetic.SUBTRACT, arithmetic.number(3), arithmetic.number(5))\n",
    "\n",
    "\n",
    "test_procedure(term_test_9())"
   ],
   "metadata": {
    "collapsed": false
   }
  },
  {
   "cell_type": "markdown",
   "source": [
    "# <span style=\"color: #A1F99C\">10.</span>\n",
    "<span style=\"color:#bb91f3\">(LEQ 3 2)</span> == <span style=\"color:#f1bd47\">FALSE</span> == <span style=\"color:#f1bd47\">λx. λy. y</span>"
   ],
   "metadata": {
    "collapsed": false
   }
  },
  {
   "cell_type": "code",
   "execution_count": 18,
   "outputs": [
    {
     "name": "stdout",
     "output_type": "stream",
     "text": [
      "0: (((λmmm.(λnnn.((λn.((n (λx.(λx.(λy.y)))) (λx.(λy.x)))) (((λm.(λn.((n (λn.(λf.(λx.(((n (λg.(λh.(h (g f))))) (λu.x)) (λu.u)))))) m))) mmm) nnn)))) (λf.(λx.(f (f (f x)))))) (λf.(λx.(f (f x)))))\n",
      "1: ((λnnn.((λn.((n (λx.(λx.(λy.y)))) (λx.(λy.x)))) (((λm.(λn.((n (λn.(λf.(λx.(((n (λg.(λh.(h (g f))))) (λu.x)) (λu.u)))))) m))) (λf.(λx.(f (f (f x)))))) nnn))) (λf.(λx.(f (f x)))))\n",
      "2: ((λn.((n (λx.(λx.(λy.y)))) (λx.(λy.x)))) (((λm.(λn.((n (λn.(λf.(λx.(((n (λg.(λh.(h (g f))))) (λu.x)) (λu.u)))))) m))) (λf.(λx.(f (f (f x)))))) (λf.(λx.(f (f x))))))\n",
      "3: (((((λm.(λn.((n (λn.(λf.(λx.(((n (λg.(λh.(h (g f))))) (λu.x)) (λu.u)))))) m))) (λf.(λx.(f (f (f x)))))) (λf.(λx.(f (f x))))) (λx.(λx.(λy.y)))) (λx.(λy.x)))\n",
      "4: ((((λn.((n (λn.(λf.(λx.(((n (λg.(λh.(h (g f))))) (λu.x)) (λu.u)))))) (λf.(λx.(f (f (f x))))))) (λf.(λx.(f (f x))))) (λx.(λx.(λy.y)))) (λx.(λy.x)))\n",
      "5: (((((λf.(λx.(f (f x)))) (λn.(λf.(λx.(((n (λg.(λh.(h (g f))))) (λu.x)) (λu.u)))))) (λf.(λx.(f (f (f x)))))) (λx.(λx.(λy.y)))) (λx.(λy.x)))\n",
      "6: ((((λx.((λn.(λf.(λx.(((n (λg.(λh.(h (g f))))) (λu.x)) (λu.u))))) ((λn.(λf.(λx.(((n (λg.(λh.(h (g f))))) (λu.x)) (λu.u))))) x))) (λf.(λx.(f (f (f x)))))) (λx.(λx.(λy.y)))) (λx.(λy.x)))\n",
      "7: ((((λn.(λf.(λx.(((n (λg.(λh.(h (g f))))) (λu.x)) (λu.u))))) ((λn.(λf.(λx.(((n (λg.(λh.(h (g f))))) (λu.x)) (λu.u))))) (λf.(λx.(f (f (f x))))))) (λx.(λx.(λy.y)))) (λx.(λy.x)))\n",
      "8: (((λf.(λx.(((((λn.(λf.(λx.(((n (λg.(λh.(h (g f))))) (λu.x)) (λu.u))))) (λf.(λx.(f (f (f x)))))) (λg.(λh.(h (g f))))) (λu.x)) (λu.u)))) (λx.(λx.(λy.y)))) (λx.(λy.x)))\n",
      "9: ((λx.(((((λn.(λf.(λx.(((n (λg.(λh.(h (g f))))) (λu.x)) (λu.u))))) (λf.(λx.(f (f (f x)))))) (λg.(λh.(h (g (λx.(λx.(λy.y)))))))) (λu.x)) (λu.u))) (λx.(λy.x)))\n",
      "10: (((((λn.(λf.(λx.(((n (λg.(λh.(h (g f))))) (λu.x)) (λu.u))))) (λf.(λx.(f (f (f x)))))) (λg.(λh.(h (g (λx.(λx.(λy.y)))))))) (λu.(λx.(λy.x)))) (λu.u))\n",
      "11: ((((λf.(λx.((((λf.(λx.(f (f (f x))))) (λg.(λh.(h (g f))))) (λu.x)) (λu.u)))) (λg.(λh.(h (g (λx.(λx.(λy.y)))))))) (λu.(λx.(λy.x)))) (λu.u))\n",
      "12: (((λx.((((λf.(λx.(f (f (f x))))) (λg.(λh.(h (g (λg.(λh.(h (g (λx.(λx.(λy.y)))))))))))) (λu.x)) (λu.u))) (λu.(λx.(λy.x)))) (λu.u))\n",
      "13: (((((λf.(λx.(f (f (f x))))) (λg.(λh.(h (g (λg.(λh.(h (g (λx.(λx.(λy.y)))))))))))) (λu.(λu.(λx.(λy.x))))) (λu.u)) (λu.u))\n",
      "14: ((((λx.((λg.(λh.(h (g (λg.(λh.(h (g (λx.(λx.(λy.y))))))))))) ((λg.(λh.(h (g (λg.(λh.(h (g (λx.(λx.(λy.y))))))))))) ((λg.(λh.(h (g (λg.(λh.(h (g (λx.(λx.(λy.y))))))))))) x)))) (λu.(λu.(λx.(λy.x))))) (λu.u)) (λu.u))\n",
      "15: ((((λg.(λh.(h (g (λg.(λh.(h (g (λx.(λx.(λy.y))))))))))) ((λg.(λh.(h (g (λg.(λh.(h (g (λx.(λx.(λy.y))))))))))) ((λg.(λh.(h (g (λg.(λh.(h (g (λx.(λx.(λy.y))))))))))) (λu.(λu.(λx.(λy.x))))))) (λu.u)) (λu.u))\n",
      "16: (((λh.(h (((λg.(λh.(h (g (λg.(λh.(h (g (λx.(λx.(λy.y))))))))))) ((λg.(λh.(h (g (λg.(λh.(h (g (λx.(λx.(λy.y))))))))))) (λu.(λu.(λx.(λy.x)))))) (λg.(λh.(h (g (λx.(λx.(λy.y)))))))))) (λu.u)) (λu.u))\n",
      "17: (((λu.u) (((λg.(λh.(h (g (λg.(λh.(h (g (λx.(λx.(λy.y))))))))))) ((λg.(λh.(h (g (λg.(λh.(h (g (λx.(λx.(λy.y))))))))))) (λu.(λu.(λx.(λy.x)))))) (λg.(λh.(h (g (λx.(λx.(λy.y))))))))) (λu.u))\n",
      "18: ((((λg.(λh.(h (g (λg.(λh.(h (g (λx.(λx.(λy.y))))))))))) ((λg.(λh.(h (g (λg.(λh.(h (g (λx.(λx.(λy.y))))))))))) (λu.(λu.(λx.(λy.x)))))) (λg.(λh.(h (g (λx.(λx.(λy.y)))))))) (λu.u))\n",
      "19: (((λh.(h (((λg.(λh.(h (g (λg.(λh.(h (g (λx.(λx.(λy.y))))))))))) (λu.(λu.(λx.(λy.x))))) (λg.(λh.(h (g (λx.(λx.(λy.y)))))))))) (λg.(λh.(h (g (λx.(λx.(λy.y)))))))) (λu.u))\n",
      "20: (((λg.(λh.(h (g (λx.(λx.(λy.y))))))) (((λg.(λh.(h (g (λg.(λh.(h (g (λx.(λx.(λy.y))))))))))) (λu.(λu.(λx.(λy.x))))) (λg.(λh.(h (g (λx.(λx.(λy.y))))))))) (λu.u))\n",
      "21: ((λh.(h ((((λg.(λh.(h (g (λg.(λh.(h (g (λx.(λx.(λy.y))))))))))) (λu.(λu.(λx.(λy.x))))) (λg.(λh.(h (g (λx.(λx.(λy.y)))))))) (λx.(λx.(λy.y)))))) (λu.u))\n",
      "22: ((λu.u) ((((λg.(λh.(h (g (λg.(λh.(h (g (λx.(λx.(λy.y))))))))))) (λu.(λu.(λx.(λy.x))))) (λg.(λh.(h (g (λx.(λx.(λy.y)))))))) (λx.(λx.(λy.y)))))\n",
      "23: ((((λg.(λh.(h (g (λg.(λh.(h (g (λx.(λx.(λy.y))))))))))) (λu.(λu.(λx.(λy.x))))) (λg.(λh.(h (g (λx.(λx.(λy.y)))))))) (λx.(λx.(λy.y))))\n",
      "24: (((λh.(h ((λu.(λu.(λx.(λy.x)))) (λg.(λh.(h (g (λx.(λx.(λy.y)))))))))) (λg.(λh.(h (g (λx.(λx.(λy.y)))))))) (λx.(λx.(λy.y))))\n",
      "25: (((λg.(λh.(h (g (λx.(λx.(λy.y))))))) ((λu.(λu.(λx.(λy.x)))) (λg.(λh.(h (g (λx.(λx.(λy.y))))))))) (λx.(λx.(λy.y))))\n",
      "26: ((λh.(h (((λu.(λu.(λx.(λy.x)))) (λg.(λh.(h (g (λx.(λx.(λy.y)))))))) (λx.(λx.(λy.y)))))) (λx.(λx.(λy.y))))\n",
      "27: ((λx.(λx.(λy.y))) (((λu.(λu.(λx.(λy.x)))) (λg.(λh.(h (g (λx.(λx.(λy.y)))))))) (λx.(λx.(λy.y)))))\n",
      "28: (λx.(λy.y))\n",
      "\n",
      "\n",
      "reduction steps: 28\n",
      "norm term:       (λx.(λy.y))\n"
     ]
    }
   ],
   "source": [
    "def term_test_10():\n",
    "    return multi_app_term(leq_term(), arithmetic.number(3), arithmetic.number(2))\n",
    "\n",
    "\n",
    "test_procedure(term_test_10())"
   ],
   "metadata": {
    "collapsed": false
   }
  },
  {
   "cell_type": "markdown",
   "source": [
    "# <span style=\"color: #A1F99C\">11.</span>\n",
    "<span style=\"color:#bb91f3\">(LEQ 2 5)</span> == <span style=\"color:#f1bd47\">TRUE</span> == <span style=\"color:#f1bd47\">λx. λy. x</span>"
   ],
   "metadata": {
    "collapsed": false
   }
  },
  {
   "cell_type": "code",
   "execution_count": 19,
   "outputs": [
    {
     "name": "stdout",
     "output_type": "stream",
     "text": [
      "0: (((λmmm.(λnnn.((λn.((n (λx.(λx.(λy.y)))) (λx.(λy.x)))) (((λm.(λn.((n (λn.(λf.(λx.(((n (λg.(λh.(h (g f))))) (λu.x)) (λu.u)))))) m))) mmm) nnn)))) (λf.(λx.(f (f x))))) (λf.(λx.(f (f (f (f (f x))))))))\n",
      "1: ((λnnn.((λn.((n (λx.(λx.(λy.y)))) (λx.(λy.x)))) (((λm.(λn.((n (λn.(λf.(λx.(((n (λg.(λh.(h (g f))))) (λu.x)) (λu.u)))))) m))) (λf.(λx.(f (f x))))) nnn))) (λf.(λx.(f (f (f (f (f x))))))))\n",
      "2: ((λn.((n (λx.(λx.(λy.y)))) (λx.(λy.x)))) (((λm.(λn.((n (λn.(λf.(λx.(((n (λg.(λh.(h (g f))))) (λu.x)) (λu.u)))))) m))) (λf.(λx.(f (f x))))) (λf.(λx.(f (f (f (f (f x)))))))))\n",
      "3: (((((λm.(λn.((n (λn.(λf.(λx.(((n (λg.(λh.(h (g f))))) (λu.x)) (λu.u)))))) m))) (λf.(λx.(f (f x))))) (λf.(λx.(f (f (f (f (f x)))))))) (λx.(λx.(λy.y)))) (λx.(λy.x)))\n",
      "4: ((((λn.((n (λn.(λf.(λx.(((n (λg.(λh.(h (g f))))) (λu.x)) (λu.u)))))) (λf.(λx.(f (f x)))))) (λf.(λx.(f (f (f (f (f x)))))))) (λx.(λx.(λy.y)))) (λx.(λy.x)))\n",
      "5: (((((λf.(λx.(f (f (f (f (f x))))))) (λn.(λf.(λx.(((n (λg.(λh.(h (g f))))) (λu.x)) (λu.u)))))) (λf.(λx.(f (f x))))) (λx.(λx.(λy.y)))) (λx.(λy.x)))\n",
      "6: ((((λx.((λn.(λf.(λx.(((n (λg.(λh.(h (g f))))) (λu.x)) (λu.u))))) ((λn.(λf.(λx.(((n (λg.(λh.(h (g f))))) (λu.x)) (λu.u))))) ((λn.(λf.(λx.(((n (λg.(λh.(h (g f))))) (λu.x)) (λu.u))))) ((λn.(λf.(λx.(((n (λg.(λh.(h (g f))))) (λu.x)) (λu.u))))) ((λn.(λf.(λx.(((n (λg.(λh.(h (g f))))) (λu.x)) (λu.u))))) x)))))) (λf.(λx.(f (f x))))) (λx.(λx.(λy.y)))) (λx.(λy.x)))\n",
      "7: ((((λn.(λf.(λx.(((n (λg.(λh.(h (g f))))) (λu.x)) (λu.u))))) ((λn.(λf.(λx.(((n (λg.(λh.(h (g f))))) (λu.x)) (λu.u))))) ((λn.(λf.(λx.(((n (λg.(λh.(h (g f))))) (λu.x)) (λu.u))))) ((λn.(λf.(λx.(((n (λg.(λh.(h (g f))))) (λu.x)) (λu.u))))) ((λn.(λf.(λx.(((n (λg.(λh.(h (g f))))) (λu.x)) (λu.u))))) (λf.(λx.(f (f x))))))))) (λx.(λx.(λy.y)))) (λx.(λy.x)))\n",
      "8: (((λf.(λx.(((((λn.(λf.(λx.(((n (λg.(λh.(h (g f))))) (λu.x)) (λu.u))))) ((λn.(λf.(λx.(((n (λg.(λh.(h (g f))))) (λu.x)) (λu.u))))) ((λn.(λf.(λx.(((n (λg.(λh.(h (g f))))) (λu.x)) (λu.u))))) ((λn.(λf.(λx.(((n (λg.(λh.(h (g f))))) (λu.x)) (λu.u))))) (λf.(λx.(f (f x)))))))) (λg.(λh.(h (g f))))) (λu.x)) (λu.u)))) (λx.(λx.(λy.y)))) (λx.(λy.x)))\n",
      "9: ((λx.(((((λn.(λf.(λx.(((n (λg.(λh.(h (g f))))) (λu.x)) (λu.u))))) ((λn.(λf.(λx.(((n (λg.(λh.(h (g f))))) (λu.x)) (λu.u))))) ((λn.(λf.(λx.(((n (λg.(λh.(h (g f))))) (λu.x)) (λu.u))))) ((λn.(λf.(λx.(((n (λg.(λh.(h (g f))))) (λu.x)) (λu.u))))) (λf.(λx.(f (f x)))))))) (λg.(λh.(h (g (λx.(λx.(λy.y)))))))) (λu.x)) (λu.u))) (λx.(λy.x)))\n",
      "10: (((((λn.(λf.(λx.(((n (λg.(λh.(h (g f))))) (λu.x)) (λu.u))))) ((λn.(λf.(λx.(((n (λg.(λh.(h (g f))))) (λu.x)) (λu.u))))) ((λn.(λf.(λx.(((n (λg.(λh.(h (g f))))) (λu.x)) (λu.u))))) ((λn.(λf.(λx.(((n (λg.(λh.(h (g f))))) (λu.x)) (λu.u))))) (λf.(λx.(f (f x)))))))) (λg.(λh.(h (g (λx.(λx.(λy.y)))))))) (λu.(λx.(λy.x)))) (λu.u))\n",
      "11: ((((λf.(λx.(((((λn.(λf.(λx.(((n (λg.(λh.(h (g f))))) (λu.x)) (λu.u))))) ((λn.(λf.(λx.(((n (λg.(λh.(h (g f))))) (λu.x)) (λu.u))))) ((λn.(λf.(λx.(((n (λg.(λh.(h (g f))))) (λu.x)) (λu.u))))) (λf.(λx.(f (f x))))))) (λg.(λh.(h (g f))))) (λu.x)) (λu.u)))) (λg.(λh.(h (g (λx.(λx.(λy.y)))))))) (λu.(λx.(λy.x)))) (λu.u))\n",
      "12: (((λx.(((((λn.(λf.(λx.(((n (λg.(λh.(h (g f))))) (λu.x)) (λu.u))))) ((λn.(λf.(λx.(((n (λg.(λh.(h (g f))))) (λu.x)) (λu.u))))) ((λn.(λf.(λx.(((n (λg.(λh.(h (g f))))) (λu.x)) (λu.u))))) (λf.(λx.(f (f x))))))) (λg.(λh.(h (g (λg.(λh.(h (g (λx.(λx.(λy.y)))))))))))) (λu.x)) (λu.u))) (λu.(λx.(λy.x)))) (λu.u))\n",
      "13: ((((((λn.(λf.(λx.(((n (λg.(λh.(h (g f))))) (λu.x)) (λu.u))))) ((λn.(λf.(λx.(((n (λg.(λh.(h (g f))))) (λu.x)) (λu.u))))) ((λn.(λf.(λx.(((n (λg.(λh.(h (g f))))) (λu.x)) (λu.u))))) (λf.(λx.(f (f x))))))) (λg.(λh.(h (g (λg.(λh.(h (g (λx.(λx.(λy.y)))))))))))) (λu.(λu.(λx.(λy.x))))) (λu.u)) (λu.u))\n",
      "14: (((((λf.(λx.(((((λn.(λf.(λx.(((n (λg.(λh.(h (g f))))) (λu.x)) (λu.u))))) ((λn.(λf.(λx.(((n (λg.(λh.(h (g f))))) (λu.x)) (λu.u))))) (λf.(λx.(f (f x)))))) (λg.(λh.(h (g f))))) (λu.x)) (λu.u)))) (λg.(λh.(h (g (λg.(λh.(h (g (λx.(λx.(λy.y)))))))))))) (λu.(λu.(λx.(λy.x))))) (λu.u)) (λu.u))\n",
      "15: ((((λx.(((((λn.(λf.(λx.(((n (λg.(λh.(h (g f))))) (λu.x)) (λu.u))))) ((λn.(λf.(λx.(((n (λg.(λh.(h (g f))))) (λu.x)) (λu.u))))) (λf.(λx.(f (f x)))))) (λg.(λh.(h (g (λg.(λh.(h (g (λg.(λh.(h (g (λx.(λx.(λy.y)))))))))))))))) (λu.x)) (λu.u))) (λu.(λu.(λx.(λy.x))))) (λu.u)) (λu.u))\n",
      "16: (((((((λn.(λf.(λx.(((n (λg.(λh.(h (g f))))) (λu.x)) (λu.u))))) ((λn.(λf.(λx.(((n (λg.(λh.(h (g f))))) (λu.x)) (λu.u))))) (λf.(λx.(f (f x)))))) (λg.(λh.(h (g (λg.(λh.(h (g (λg.(λh.(h (g (λx.(λx.(λy.y)))))))))))))))) (λu.(λu.(λu.(λx.(λy.x)))))) (λu.u)) (λu.u)) (λu.u))\n",
      "17: ((((((λf.(λx.(((((λn.(λf.(λx.(((n (λg.(λh.(h (g f))))) (λu.x)) (λu.u))))) (λf.(λx.(f (f x))))) (λg.(λh.(h (g f))))) (λu.x)) (λu.u)))) (λg.(λh.(h (g (λg.(λh.(h (g (λg.(λh.(h (g (λx.(λx.(λy.y)))))))))))))))) (λu.(λu.(λu.(λx.(λy.x)))))) (λu.u)) (λu.u)) (λu.u))\n",
      "18: (((((λx.(((((λn.(λf.(λx.(((n (λg.(λh.(h (g f))))) (λu.x)) (λu.u))))) (λf.(λx.(f (f x))))) (λg.(λh.(h (g (λg.(λh.(h (g (λg.(λh.(h (g (λg.(λh.(h (g (λx.(λx.(λy.y)))))))))))))))))))) (λu.x)) (λu.u))) (λu.(λu.(λu.(λx.(λy.x)))))) (λu.u)) (λu.u)) (λu.u))\n",
      "19: ((((((((λn.(λf.(λx.(((n (λg.(λh.(h (g f))))) (λu.x)) (λu.u))))) (λf.(λx.(f (f x))))) (λg.(λh.(h (g (λg.(λh.(h (g (λg.(λh.(h (g (λg.(λh.(h (g (λx.(λx.(λy.y)))))))))))))))))))) (λu.(λu.(λu.(λu.(λx.(λy.x))))))) (λu.u)) (λu.u)) (λu.u)) (λu.u))\n",
      "20: (((((((λf.(λx.((((λf.(λx.(f (f x)))) (λg.(λh.(h (g f))))) (λu.x)) (λu.u)))) (λg.(λh.(h (g (λg.(λh.(h (g (λg.(λh.(h (g (λg.(λh.(h (g (λx.(λx.(λy.y)))))))))))))))))))) (λu.(λu.(λu.(λu.(λx.(λy.x))))))) (λu.u)) (λu.u)) (λu.u)) (λu.u))\n",
      "21: ((((((λx.((((λf.(λx.(f (f x)))) (λg.(λh.(h (g (λg.(λh.(h (g (λg.(λh.(h (g (λg.(λh.(h (g (λg.(λh.(h (g (λx.(λx.(λy.y)))))))))))))))))))))))) (λu.x)) (λu.u))) (λu.(λu.(λu.(λu.(λx.(λy.x))))))) (λu.u)) (λu.u)) (λu.u)) (λu.u))\n",
      "22: ((((((((λf.(λx.(f (f x)))) (λg.(λh.(h (g (λg.(λh.(h (g (λg.(λh.(h (g (λg.(λh.(h (g (λg.(λh.(h (g (λx.(λx.(λy.y)))))))))))))))))))))))) (λu.(λu.(λu.(λu.(λu.(λx.(λy.x)))))))) (λu.u)) (λu.u)) (λu.u)) (λu.u)) (λu.u))\n",
      "23: (((((((λx.((λg.(λh.(h (g (λg.(λh.(h (g (λg.(λh.(h (g (λg.(λh.(h (g (λg.(λh.(h (g (λx.(λx.(λy.y))))))))))))))))))))))) ((λg.(λh.(h (g (λg.(λh.(h (g (λg.(λh.(h (g (λg.(λh.(h (g (λg.(λh.(h (g (λx.(λx.(λy.y))))))))))))))))))))))) x))) (λu.(λu.(λu.(λu.(λu.(λx.(λy.x)))))))) (λu.u)) (λu.u)) (λu.u)) (λu.u)) (λu.u))\n",
      "24: (((((((λg.(λh.(h (g (λg.(λh.(h (g (λg.(λh.(h (g (λg.(λh.(h (g (λg.(λh.(h (g (λx.(λx.(λy.y))))))))))))))))))))))) ((λg.(λh.(h (g (λg.(λh.(h (g (λg.(λh.(h (g (λg.(λh.(h (g (λg.(λh.(h (g (λx.(λx.(λy.y))))))))))))))))))))))) (λu.(λu.(λu.(λu.(λu.(λx.(λy.x))))))))) (λu.u)) (λu.u)) (λu.u)) (λu.u)) (λu.u))\n",
      "25: ((((((λh.(h (((λg.(λh.(h (g (λg.(λh.(h (g (λg.(λh.(h (g (λg.(λh.(h (g (λg.(λh.(h (g (λx.(λx.(λy.y))))))))))))))))))))))) (λu.(λu.(λu.(λu.(λu.(λx.(λy.x)))))))) (λg.(λh.(h (g (λg.(λh.(h (g (λg.(λh.(h (g (λg.(λh.(h (g (λx.(λx.(λy.y)))))))))))))))))))))) (λu.u)) (λu.u)) (λu.u)) (λu.u)) (λu.u))\n",
      "26: ((((((λu.u) (((λg.(λh.(h (g (λg.(λh.(h (g (λg.(λh.(h (g (λg.(λh.(h (g (λg.(λh.(h (g (λx.(λx.(λy.y))))))))))))))))))))))) (λu.(λu.(λu.(λu.(λu.(λx.(λy.x)))))))) (λg.(λh.(h (g (λg.(λh.(h (g (λg.(λh.(h (g (λg.(λh.(h (g (λx.(λx.(λy.y))))))))))))))))))))) (λu.u)) (λu.u)) (λu.u)) (λu.u))\n",
      "27: (((((((λg.(λh.(h (g (λg.(λh.(h (g (λg.(λh.(h (g (λg.(λh.(h (g (λg.(λh.(h (g (λx.(λx.(λy.y))))))))))))))))))))))) (λu.(λu.(λu.(λu.(λu.(λx.(λy.x)))))))) (λg.(λh.(h (g (λg.(λh.(h (g (λg.(λh.(h (g (λg.(λh.(h (g (λx.(λx.(λy.y)))))))))))))))))))) (λu.u)) (λu.u)) (λu.u)) (λu.u))\n",
      "28: ((((((λh.(h ((λu.(λu.(λu.(λu.(λu.(λx.(λy.x))))))) (λg.(λh.(h (g (λg.(λh.(h (g (λg.(λh.(h (g (λg.(λh.(h (g (λx.(λx.(λy.y)))))))))))))))))))))) (λg.(λh.(h (g (λg.(λh.(h (g (λg.(λh.(h (g (λg.(λh.(h (g (λx.(λx.(λy.y)))))))))))))))))))) (λu.u)) (λu.u)) (λu.u)) (λu.u))\n",
      "29: ((((((λg.(λh.(h (g (λg.(λh.(h (g (λg.(λh.(h (g (λg.(λh.(h (g (λx.(λx.(λy.y))))))))))))))))))) ((λu.(λu.(λu.(λu.(λu.(λx.(λy.x))))))) (λg.(λh.(h (g (λg.(λh.(h (g (λg.(λh.(h (g (λg.(λh.(h (g (λx.(λx.(λy.y))))))))))))))))))))) (λu.u)) (λu.u)) (λu.u)) (λu.u))\n",
      "30: (((((λh.(h (((λu.(λu.(λu.(λu.(λu.(λx.(λy.x))))))) (λg.(λh.(h (g (λg.(λh.(h (g (λg.(λh.(h (g (λg.(λh.(h (g (λx.(λx.(λy.y)))))))))))))))))))) (λg.(λh.(h (g (λg.(λh.(h (g (λg.(λh.(h (g (λx.(λx.(λy.y)))))))))))))))))) (λu.u)) (λu.u)) (λu.u)) (λu.u))\n",
      "31: (((((λu.u) (((λu.(λu.(λu.(λu.(λu.(λx.(λy.x))))))) (λg.(λh.(h (g (λg.(λh.(h (g (λg.(λh.(h (g (λg.(λh.(h (g (λx.(λx.(λy.y)))))))))))))))))))) (λg.(λh.(h (g (λg.(λh.(h (g (λg.(λh.(h (g (λx.(λx.(λy.y))))))))))))))))) (λu.u)) (λu.u)) (λu.u))\n",
      "32: ((((((λu.(λu.(λu.(λu.(λu.(λx.(λy.x))))))) (λg.(λh.(h (g (λg.(λh.(h (g (λg.(λh.(h (g (λg.(λh.(h (g (λx.(λx.(λy.y)))))))))))))))))))) (λg.(λh.(h (g (λg.(λh.(h (g (λg.(λh.(h (g (λx.(λx.(λy.y)))))))))))))))) (λu.u)) (λu.u)) (λu.u))\n",
      "33: (((((λu.(λu.(λu.(λu.(λx.(λy.x)))))) (λg.(λh.(h (g (λg.(λh.(h (g (λg.(λh.(h (g (λx.(λx.(λy.y)))))))))))))))) (λu.u)) (λu.u)) (λu.u))\n",
      "34: ((((λu.(λu.(λu.(λx.(λy.x))))) (λu.u)) (λu.u)) (λu.u))\n",
      "35: (((λu.(λu.(λx.(λy.x)))) (λu.u)) (λu.u))\n",
      "36: ((λu.(λx.(λy.x))) (λu.u))\n",
      "37: (λx.(λy.x))\n",
      "\n",
      "\n",
      "reduction steps: 37\n",
      "norm term:       (λx.(λy.x))\n"
     ]
    }
   ],
   "source": [
    "def term_test_11():\n",
    "    return multi_app_term(leq_term(), arithmetic.number(2), arithmetic.number(5))\n",
    "\n",
    "\n",
    "test_procedure(term_test_11())"
   ],
   "metadata": {
    "collapsed": false
   }
  },
  {
   "cell_type": "markdown",
   "source": [
    "# <span style=\"color: #A1F99C\">12.</span>\n",
    "<span style=\"color:#bb91f3\">(EQ 2 2)</span> == <span style=\"color:#f1bd47\">TRUE</span> == <span style=\"color:#f1bd47\">λx. λy. x</span>"
   ],
   "metadata": {
    "collapsed": false
   }
  },
  {
   "cell_type": "code",
   "execution_count": 20,
   "outputs": [
    {
     "name": "stdout",
     "output_type": "stream",
     "text": [
      "0: (((λmm.(λnn.(((λp.(λq.((p q) p))) (((λmmm.(λnnn.((λn.((n (λx.(λx.(λy.y)))) (λx.(λy.x)))) (((λm.(λn.((n (λn.(λf.(λx.(((n (λg.(λh.(h (g f))))) (λu.x)) (λu.u)))))) m))) mmm) nnn)))) mm) nn)) (((λmmm.(λnnn.((λn.((n (λx.(λx.(λy.y)))) (λx.(λy.x)))) (((λm.(λn.((n (λn.(λf.(λx.(((n (λg.(λh.(h (g f))))) (λu.x)) (λu.u)))))) m))) mmm) nnn)))) nn) mm)))) (λf.(λx.(f (f x))))) (λf.(λx.(f (f x)))))\n",
      "1: ((λnn.(((λp.(λq.((p q) p))) (((λmmm.(λnnn.((λn.((n (λx.(λx.(λy.y)))) (λx.(λy.x)))) (((λm.(λn.((n (λn.(λf.(λx.(((n (λg.(λh.(h (g f))))) (λu.x)) (λu.u)))))) m))) mmm) nnn)))) (λf.(λx.(f (f x))))) nn)) (((λmmm.(λnnn.((λn.((n (λx.(λx.(λy.y)))) (λx.(λy.x)))) (((λm.(λn.((n (λn.(λf.(λx.(((n (λg.(λh.(h (g f))))) (λu.x)) (λu.u)))))) m))) mmm) nnn)))) nn) (λf.(λx.(f (f x))))))) (λf.(λx.(f (f x)))))\n",
      "2: (((λp.(λq.((p q) p))) (((λmmm.(λnnn.((λn.((n (λx.(λx.(λy.y)))) (λx.(λy.x)))) (((λm.(λn.((n (λn.(λf.(λx.(((n (λg.(λh.(h (g f))))) (λu.x)) (λu.u)))))) m))) mmm) nnn)))) (λf.(λx.(f (f x))))) (λf.(λx.(f (f x)))))) (((λmmm.(λnnn.((λn.((n (λx.(λx.(λy.y)))) (λx.(λy.x)))) (((λm.(λn.((n (λn.(λf.(λx.(((n (λg.(λh.(h (g f))))) (λu.x)) (λu.u)))))) m))) mmm) nnn)))) (λf.(λx.(f (f x))))) (λf.(λx.(f (f x))))))\n",
      "3: ((λq.(((((λmmm.(λnnn.((λn.((n (λx.(λx.(λy.y)))) (λx.(λy.x)))) (((λm.(λn.((n (λn.(λf.(λx.(((n (λg.(λh.(h (g f))))) (λu.x)) (λu.u)))))) m))) mmm) nnn)))) (λf.(λx.(f (f x))))) (λf.(λx.(f (f x))))) q) (((λmmm.(λnnn.((λn.((n (λx.(λx.(λy.y)))) (λx.(λy.x)))) (((λm.(λn.((n (λn.(λf.(λx.(((n (λg.(λh.(h (g f))))) (λu.x)) (λu.u)))))) m))) mmm) nnn)))) (λf.(λx.(f (f x))))) (λf.(λx.(f (f x))))))) (((λmmm.(λnnn.((λn.((n (λx.(λx.(λy.y)))) (λx.(λy.x)))) (((λm.(λn.((n (λn.(λf.(λx.(((n (λg.(λh.(h (g f))))) (λu.x)) (λu.u)))))) m))) mmm) nnn)))) (λf.(λx.(f (f x))))) (λf.(λx.(f (f x))))))\n",
      "4: (((((λmmm.(λnnn.((λn.((n (λx.(λx.(λy.y)))) (λx.(λy.x)))) (((λm.(λn.((n (λn.(λf.(λx.(((n (λg.(λh.(h (g f))))) (λu.x)) (λu.u)))))) m))) mmm) nnn)))) (λf.(λx.(f (f x))))) (λf.(λx.(f (f x))))) (((λmmm.(λnnn.((λn.((n (λx.(λx.(λy.y)))) (λx.(λy.x)))) (((λm.(λn.((n (λn.(λf.(λx.(((n (λg.(λh.(h (g f))))) (λu.x)) (λu.u)))))) m))) mmm) nnn)))) (λf.(λx.(f (f x))))) (λf.(λx.(f (f x)))))) (((λmmm.(λnnn.((λn.((n (λx.(λx.(λy.y)))) (λx.(λy.x)))) (((λm.(λn.((n (λn.(λf.(λx.(((n (λg.(λh.(h (g f))))) (λu.x)) (λu.u)))))) m))) mmm) nnn)))) (λf.(λx.(f (f x))))) (λf.(λx.(f (f x))))))\n",
      "5: ((((λnnn.((λn.((n (λx.(λx.(λy.y)))) (λx.(λy.x)))) (((λm.(λn.((n (λn.(λf.(λx.(((n (λg.(λh.(h (g f))))) (λu.x)) (λu.u)))))) m))) (λf.(λx.(f (f x))))) nnn))) (λf.(λx.(f (f x))))) (((λmmm.(λnnn.((λn.((n (λx.(λx.(λy.y)))) (λx.(λy.x)))) (((λm.(λn.((n (λn.(λf.(λx.(((n (λg.(λh.(h (g f))))) (λu.x)) (λu.u)))))) m))) mmm) nnn)))) (λf.(λx.(f (f x))))) (λf.(λx.(f (f x)))))) (((λmmm.(λnnn.((λn.((n (λx.(λx.(λy.y)))) (λx.(λy.x)))) (((λm.(λn.((n (λn.(λf.(λx.(((n (λg.(λh.(h (g f))))) (λu.x)) (λu.u)))))) m))) mmm) nnn)))) (λf.(λx.(f (f x))))) (λf.(λx.(f (f x))))))\n",
      "6: ((((λn.((n (λx.(λx.(λy.y)))) (λx.(λy.x)))) (((λm.(λn.((n (λn.(λf.(λx.(((n (λg.(λh.(h (g f))))) (λu.x)) (λu.u)))))) m))) (λf.(λx.(f (f x))))) (λf.(λx.(f (f x)))))) (((λmmm.(λnnn.((λn.((n (λx.(λx.(λy.y)))) (λx.(λy.x)))) (((λm.(λn.((n (λn.(λf.(λx.(((n (λg.(λh.(h (g f))))) (λu.x)) (λu.u)))))) m))) mmm) nnn)))) (λf.(λx.(f (f x))))) (λf.(λx.(f (f x)))))) (((λmmm.(λnnn.((λn.((n (λx.(λx.(λy.y)))) (λx.(λy.x)))) (((λm.(λn.((n (λn.(λf.(λx.(((n (λg.(λh.(h (g f))))) (λu.x)) (λu.u)))))) m))) mmm) nnn)))) (λf.(λx.(f (f x))))) (λf.(λx.(f (f x))))))\n",
      "7: (((((((λm.(λn.((n (λn.(λf.(λx.(((n (λg.(λh.(h (g f))))) (λu.x)) (λu.u)))))) m))) (λf.(λx.(f (f x))))) (λf.(λx.(f (f x))))) (λx.(λx.(λy.y)))) (λx.(λy.x))) (((λmmm.(λnnn.((λn.((n (λx.(λx.(λy.y)))) (λx.(λy.x)))) (((λm.(λn.((n (λn.(λf.(λx.(((n (λg.(λh.(h (g f))))) (λu.x)) (λu.u)))))) m))) mmm) nnn)))) (λf.(λx.(f (f x))))) (λf.(λx.(f (f x)))))) (((λmmm.(λnnn.((λn.((n (λx.(λx.(λy.y)))) (λx.(λy.x)))) (((λm.(λn.((n (λn.(λf.(λx.(((n (λg.(λh.(h (g f))))) (λu.x)) (λu.u)))))) m))) mmm) nnn)))) (λf.(λx.(f (f x))))) (λf.(λx.(f (f x))))))\n",
      "8: ((((((λn.((n (λn.(λf.(λx.(((n (λg.(λh.(h (g f))))) (λu.x)) (λu.u)))))) (λf.(λx.(f (f x)))))) (λf.(λx.(f (f x))))) (λx.(λx.(λy.y)))) (λx.(λy.x))) (((λmmm.(λnnn.((λn.((n (λx.(λx.(λy.y)))) (λx.(λy.x)))) (((λm.(λn.((n (λn.(λf.(λx.(((n (λg.(λh.(h (g f))))) (λu.x)) (λu.u)))))) m))) mmm) nnn)))) (λf.(λx.(f (f x))))) (λf.(λx.(f (f x)))))) (((λmmm.(λnnn.((λn.((n (λx.(λx.(λy.y)))) (λx.(λy.x)))) (((λm.(λn.((n (λn.(λf.(λx.(((n (λg.(λh.(h (g f))))) (λu.x)) (λu.u)))))) m))) mmm) nnn)))) (λf.(λx.(f (f x))))) (λf.(λx.(f (f x))))))\n",
      "9: (((((((λf.(λx.(f (f x)))) (λn.(λf.(λx.(((n (λg.(λh.(h (g f))))) (λu.x)) (λu.u)))))) (λf.(λx.(f (f x))))) (λx.(λx.(λy.y)))) (λx.(λy.x))) (((λmmm.(λnnn.((λn.((n (λx.(λx.(λy.y)))) (λx.(λy.x)))) (((λm.(λn.((n (λn.(λf.(λx.(((n (λg.(λh.(h (g f))))) (λu.x)) (λu.u)))))) m))) mmm) nnn)))) (λf.(λx.(f (f x))))) (λf.(λx.(f (f x)))))) (((λmmm.(λnnn.((λn.((n (λx.(λx.(λy.y)))) (λx.(λy.x)))) (((λm.(λn.((n (λn.(λf.(λx.(((n (λg.(λh.(h (g f))))) (λu.x)) (λu.u)))))) m))) mmm) nnn)))) (λf.(λx.(f (f x))))) (λf.(λx.(f (f x))))))\n",
      "10: ((((((λx.((λn.(λf.(λx.(((n (λg.(λh.(h (g f))))) (λu.x)) (λu.u))))) ((λn.(λf.(λx.(((n (λg.(λh.(h (g f))))) (λu.x)) (λu.u))))) x))) (λf.(λx.(f (f x))))) (λx.(λx.(λy.y)))) (λx.(λy.x))) (((λmmm.(λnnn.((λn.((n (λx.(λx.(λy.y)))) (λx.(λy.x)))) (((λm.(λn.((n (λn.(λf.(λx.(((n (λg.(λh.(h (g f))))) (λu.x)) (λu.u)))))) m))) mmm) nnn)))) (λf.(λx.(f (f x))))) (λf.(λx.(f (f x)))))) (((λmmm.(λnnn.((λn.((n (λx.(λx.(λy.y)))) (λx.(λy.x)))) (((λm.(λn.((n (λn.(λf.(λx.(((n (λg.(λh.(h (g f))))) (λu.x)) (λu.u)))))) m))) mmm) nnn)))) (λf.(λx.(f (f x))))) (λf.(λx.(f (f x))))))\n",
      "11: ((((((λn.(λf.(λx.(((n (λg.(λh.(h (g f))))) (λu.x)) (λu.u))))) ((λn.(λf.(λx.(((n (λg.(λh.(h (g f))))) (λu.x)) (λu.u))))) (λf.(λx.(f (f x)))))) (λx.(λx.(λy.y)))) (λx.(λy.x))) (((λmmm.(λnnn.((λn.((n (λx.(λx.(λy.y)))) (λx.(λy.x)))) (((λm.(λn.((n (λn.(λf.(λx.(((n (λg.(λh.(h (g f))))) (λu.x)) (λu.u)))))) m))) mmm) nnn)))) (λf.(λx.(f (f x))))) (λf.(λx.(f (f x)))))) (((λmmm.(λnnn.((λn.((n (λx.(λx.(λy.y)))) (λx.(λy.x)))) (((λm.(λn.((n (λn.(λf.(λx.(((n (λg.(λh.(h (g f))))) (λu.x)) (λu.u)))))) m))) mmm) nnn)))) (λf.(λx.(f (f x))))) (λf.(λx.(f (f x))))))\n",
      "12: (((((λf.(λx.(((((λn.(λf.(λx.(((n (λg.(λh.(h (g f))))) (λu.x)) (λu.u))))) (λf.(λx.(f (f x))))) (λg.(λh.(h (g f))))) (λu.x)) (λu.u)))) (λx.(λx.(λy.y)))) (λx.(λy.x))) (((λmmm.(λnnn.((λn.((n (λx.(λx.(λy.y)))) (λx.(λy.x)))) (((λm.(λn.((n (λn.(λf.(λx.(((n (λg.(λh.(h (g f))))) (λu.x)) (λu.u)))))) m))) mmm) nnn)))) (λf.(λx.(f (f x))))) (λf.(λx.(f (f x)))))) (((λmmm.(λnnn.((λn.((n (λx.(λx.(λy.y)))) (λx.(λy.x)))) (((λm.(λn.((n (λn.(λf.(λx.(((n (λg.(λh.(h (g f))))) (λu.x)) (λu.u)))))) m))) mmm) nnn)))) (λf.(λx.(f (f x))))) (λf.(λx.(f (f x))))))\n",
      "13: ((((λx.(((((λn.(λf.(λx.(((n (λg.(λh.(h (g f))))) (λu.x)) (λu.u))))) (λf.(λx.(f (f x))))) (λg.(λh.(h (g (λx.(λx.(λy.y)))))))) (λu.x)) (λu.u))) (λx.(λy.x))) (((λmmm.(λnnn.((λn.((n (λx.(λx.(λy.y)))) (λx.(λy.x)))) (((λm.(λn.((n (λn.(λf.(λx.(((n (λg.(λh.(h (g f))))) (λu.x)) (λu.u)))))) m))) mmm) nnn)))) (λf.(λx.(f (f x))))) (λf.(λx.(f (f x)))))) (((λmmm.(λnnn.((λn.((n (λx.(λx.(λy.y)))) (λx.(λy.x)))) (((λm.(λn.((n (λn.(λf.(λx.(((n (λg.(λh.(h (g f))))) (λu.x)) (λu.u)))))) m))) mmm) nnn)))) (λf.(λx.(f (f x))))) (λf.(λx.(f (f x))))))\n",
      "14: (((((((λn.(λf.(λx.(((n (λg.(λh.(h (g f))))) (λu.x)) (λu.u))))) (λf.(λx.(f (f x))))) (λg.(λh.(h (g (λx.(λx.(λy.y)))))))) (λu.(λx.(λy.x)))) (λu.u)) (((λmmm.(λnnn.((λn.((n (λx.(λx.(λy.y)))) (λx.(λy.x)))) (((λm.(λn.((n (λn.(λf.(λx.(((n (λg.(λh.(h (g f))))) (λu.x)) (λu.u)))))) m))) mmm) nnn)))) (λf.(λx.(f (f x))))) (λf.(λx.(f (f x)))))) (((λmmm.(λnnn.((λn.((n (λx.(λx.(λy.y)))) (λx.(λy.x)))) (((λm.(λn.((n (λn.(λf.(λx.(((n (λg.(λh.(h (g f))))) (λu.x)) (λu.u)))))) m))) mmm) nnn)))) (λf.(λx.(f (f x))))) (λf.(λx.(f (f x))))))\n",
      "15: ((((((λf.(λx.((((λf.(λx.(f (f x)))) (λg.(λh.(h (g f))))) (λu.x)) (λu.u)))) (λg.(λh.(h (g (λx.(λx.(λy.y)))))))) (λu.(λx.(λy.x)))) (λu.u)) (((λmmm.(λnnn.((λn.((n (λx.(λx.(λy.y)))) (λx.(λy.x)))) (((λm.(λn.((n (λn.(λf.(λx.(((n (λg.(λh.(h (g f))))) (λu.x)) (λu.u)))))) m))) mmm) nnn)))) (λf.(λx.(f (f x))))) (λf.(λx.(f (f x)))))) (((λmmm.(λnnn.((λn.((n (λx.(λx.(λy.y)))) (λx.(λy.x)))) (((λm.(λn.((n (λn.(λf.(λx.(((n (λg.(λh.(h (g f))))) (λu.x)) (λu.u)))))) m))) mmm) nnn)))) (λf.(λx.(f (f x))))) (λf.(λx.(f (f x))))))\n",
      "16: (((((λx.((((λf.(λx.(f (f x)))) (λg.(λh.(h (g (λg.(λh.(h (g (λx.(λx.(λy.y)))))))))))) (λu.x)) (λu.u))) (λu.(λx.(λy.x)))) (λu.u)) (((λmmm.(λnnn.((λn.((n (λx.(λx.(λy.y)))) (λx.(λy.x)))) (((λm.(λn.((n (λn.(λf.(λx.(((n (λg.(λh.(h (g f))))) (λu.x)) (λu.u)))))) m))) mmm) nnn)))) (λf.(λx.(f (f x))))) (λf.(λx.(f (f x)))))) (((λmmm.(λnnn.((λn.((n (λx.(λx.(λy.y)))) (λx.(λy.x)))) (((λm.(λn.((n (λn.(λf.(λx.(((n (λg.(λh.(h (g f))))) (λu.x)) (λu.u)))))) m))) mmm) nnn)))) (λf.(λx.(f (f x))))) (λf.(λx.(f (f x))))))\n",
      "17: (((((((λf.(λx.(f (f x)))) (λg.(λh.(h (g (λg.(λh.(h (g (λx.(λx.(λy.y)))))))))))) (λu.(λu.(λx.(λy.x))))) (λu.u)) (λu.u)) (((λmmm.(λnnn.((λn.((n (λx.(λx.(λy.y)))) (λx.(λy.x)))) (((λm.(λn.((n (λn.(λf.(λx.(((n (λg.(λh.(h (g f))))) (λu.x)) (λu.u)))))) m))) mmm) nnn)))) (λf.(λx.(f (f x))))) (λf.(λx.(f (f x)))))) (((λmmm.(λnnn.((λn.((n (λx.(λx.(λy.y)))) (λx.(λy.x)))) (((λm.(λn.((n (λn.(λf.(λx.(((n (λg.(λh.(h (g f))))) (λu.x)) (λu.u)))))) m))) mmm) nnn)))) (λf.(λx.(f (f x))))) (λf.(λx.(f (f x))))))\n",
      "18: ((((((λx.((λg.(λh.(h (g (λg.(λh.(h (g (λx.(λx.(λy.y))))))))))) ((λg.(λh.(h (g (λg.(λh.(h (g (λx.(λx.(λy.y))))))))))) x))) (λu.(λu.(λx.(λy.x))))) (λu.u)) (λu.u)) (((λmmm.(λnnn.((λn.((n (λx.(λx.(λy.y)))) (λx.(λy.x)))) (((λm.(λn.((n (λn.(λf.(λx.(((n (λg.(λh.(h (g f))))) (λu.x)) (λu.u)))))) m))) mmm) nnn)))) (λf.(λx.(f (f x))))) (λf.(λx.(f (f x)))))) (((λmmm.(λnnn.((λn.((n (λx.(λx.(λy.y)))) (λx.(λy.x)))) (((λm.(λn.((n (λn.(λf.(λx.(((n (λg.(λh.(h (g f))))) (λu.x)) (λu.u)))))) m))) mmm) nnn)))) (λf.(λx.(f (f x))))) (λf.(λx.(f (f x))))))\n",
      "19: ((((((λg.(λh.(h (g (λg.(λh.(h (g (λx.(λx.(λy.y))))))))))) ((λg.(λh.(h (g (λg.(λh.(h (g (λx.(λx.(λy.y))))))))))) (λu.(λu.(λx.(λy.x)))))) (λu.u)) (λu.u)) (((λmmm.(λnnn.((λn.((n (λx.(λx.(λy.y)))) (λx.(λy.x)))) (((λm.(λn.((n (λn.(λf.(λx.(((n (λg.(λh.(h (g f))))) (λu.x)) (λu.u)))))) m))) mmm) nnn)))) (λf.(λx.(f (f x))))) (λf.(λx.(f (f x)))))) (((λmmm.(λnnn.((λn.((n (λx.(λx.(λy.y)))) (λx.(λy.x)))) (((λm.(λn.((n (λn.(λf.(λx.(((n (λg.(λh.(h (g f))))) (λu.x)) (λu.u)))))) m))) mmm) nnn)))) (λf.(λx.(f (f x))))) (λf.(λx.(f (f x))))))\n",
      "20: (((((λh.(h (((λg.(λh.(h (g (λg.(λh.(h (g (λx.(λx.(λy.y))))))))))) (λu.(λu.(λx.(λy.x))))) (λg.(λh.(h (g (λx.(λx.(λy.y)))))))))) (λu.u)) (λu.u)) (((λmmm.(λnnn.((λn.((n (λx.(λx.(λy.y)))) (λx.(λy.x)))) (((λm.(λn.((n (λn.(λf.(λx.(((n (λg.(λh.(h (g f))))) (λu.x)) (λu.u)))))) m))) mmm) nnn)))) (λf.(λx.(f (f x))))) (λf.(λx.(f (f x)))))) (((λmmm.(λnnn.((λn.((n (λx.(λx.(λy.y)))) (λx.(λy.x)))) (((λm.(λn.((n (λn.(λf.(λx.(((n (λg.(λh.(h (g f))))) (λu.x)) (λu.u)))))) m))) mmm) nnn)))) (λf.(λx.(f (f x))))) (λf.(λx.(f (f x))))))\n",
      "21: (((((λu.u) (((λg.(λh.(h (g (λg.(λh.(h (g (λx.(λx.(λy.y))))))))))) (λu.(λu.(λx.(λy.x))))) (λg.(λh.(h (g (λx.(λx.(λy.y))))))))) (λu.u)) (((λmmm.(λnnn.((λn.((n (λx.(λx.(λy.y)))) (λx.(λy.x)))) (((λm.(λn.((n (λn.(λf.(λx.(((n (λg.(λh.(h (g f))))) (λu.x)) (λu.u)))))) m))) mmm) nnn)))) (λf.(λx.(f (f x))))) (λf.(λx.(f (f x)))))) (((λmmm.(λnnn.((λn.((n (λx.(λx.(λy.y)))) (λx.(λy.x)))) (((λm.(λn.((n (λn.(λf.(λx.(((n (λg.(λh.(h (g f))))) (λu.x)) (λu.u)))))) m))) mmm) nnn)))) (λf.(λx.(f (f x))))) (λf.(λx.(f (f x))))))\n",
      "22: ((((((λg.(λh.(h (g (λg.(λh.(h (g (λx.(λx.(λy.y))))))))))) (λu.(λu.(λx.(λy.x))))) (λg.(λh.(h (g (λx.(λx.(λy.y)))))))) (λu.u)) (((λmmm.(λnnn.((λn.((n (λx.(λx.(λy.y)))) (λx.(λy.x)))) (((λm.(λn.((n (λn.(λf.(λx.(((n (λg.(λh.(h (g f))))) (λu.x)) (λu.u)))))) m))) mmm) nnn)))) (λf.(λx.(f (f x))))) (λf.(λx.(f (f x)))))) (((λmmm.(λnnn.((λn.((n (λx.(λx.(λy.y)))) (λx.(λy.x)))) (((λm.(λn.((n (λn.(λf.(λx.(((n (λg.(λh.(h (g f))))) (λu.x)) (λu.u)))))) m))) mmm) nnn)))) (λf.(λx.(f (f x))))) (λf.(λx.(f (f x))))))\n",
      "23: (((((λh.(h ((λu.(λu.(λx.(λy.x)))) (λg.(λh.(h (g (λx.(λx.(λy.y)))))))))) (λg.(λh.(h (g (λx.(λx.(λy.y)))))))) (λu.u)) (((λmmm.(λnnn.((λn.((n (λx.(λx.(λy.y)))) (λx.(λy.x)))) (((λm.(λn.((n (λn.(λf.(λx.(((n (λg.(λh.(h (g f))))) (λu.x)) (λu.u)))))) m))) mmm) nnn)))) (λf.(λx.(f (f x))))) (λf.(λx.(f (f x)))))) (((λmmm.(λnnn.((λn.((n (λx.(λx.(λy.y)))) (λx.(λy.x)))) (((λm.(λn.((n (λn.(λf.(λx.(((n (λg.(λh.(h (g f))))) (λu.x)) (λu.u)))))) m))) mmm) nnn)))) (λf.(λx.(f (f x))))) (λf.(λx.(f (f x))))))\n",
      "24: (((((λg.(λh.(h (g (λx.(λx.(λy.y))))))) ((λu.(λu.(λx.(λy.x)))) (λg.(λh.(h (g (λx.(λx.(λy.y))))))))) (λu.u)) (((λmmm.(λnnn.((λn.((n (λx.(λx.(λy.y)))) (λx.(λy.x)))) (((λm.(λn.((n (λn.(λf.(λx.(((n (λg.(λh.(h (g f))))) (λu.x)) (λu.u)))))) m))) mmm) nnn)))) (λf.(λx.(f (f x))))) (λf.(λx.(f (f x)))))) (((λmmm.(λnnn.((λn.((n (λx.(λx.(λy.y)))) (λx.(λy.x)))) (((λm.(λn.((n (λn.(λf.(λx.(((n (λg.(λh.(h (g f))))) (λu.x)) (λu.u)))))) m))) mmm) nnn)))) (λf.(λx.(f (f x))))) (λf.(λx.(f (f x))))))\n",
      "25: ((((λh.(h (((λu.(λu.(λx.(λy.x)))) (λg.(λh.(h (g (λx.(λx.(λy.y)))))))) (λx.(λx.(λy.y)))))) (λu.u)) (((λmmm.(λnnn.((λn.((n (λx.(λx.(λy.y)))) (λx.(λy.x)))) (((λm.(λn.((n (λn.(λf.(λx.(((n (λg.(λh.(h (g f))))) (λu.x)) (λu.u)))))) m))) mmm) nnn)))) (λf.(λx.(f (f x))))) (λf.(λx.(f (f x)))))) (((λmmm.(λnnn.((λn.((n (λx.(λx.(λy.y)))) (λx.(λy.x)))) (((λm.(λn.((n (λn.(λf.(λx.(((n (λg.(λh.(h (g f))))) (λu.x)) (λu.u)))))) m))) mmm) nnn)))) (λf.(λx.(f (f x))))) (λf.(λx.(f (f x))))))\n",
      "26: ((((λu.u) (((λu.(λu.(λx.(λy.x)))) (λg.(λh.(h (g (λx.(λx.(λy.y)))))))) (λx.(λx.(λy.y))))) (((λmmm.(λnnn.((λn.((n (λx.(λx.(λy.y)))) (λx.(λy.x)))) (((λm.(λn.((n (λn.(λf.(λx.(((n (λg.(λh.(h (g f))))) (λu.x)) (λu.u)))))) m))) mmm) nnn)))) (λf.(λx.(f (f x))))) (λf.(λx.(f (f x)))))) (((λmmm.(λnnn.((λn.((n (λx.(λx.(λy.y)))) (λx.(λy.x)))) (((λm.(λn.((n (λn.(λf.(λx.(((n (λg.(λh.(h (g f))))) (λu.x)) (λu.u)))))) m))) mmm) nnn)))) (λf.(λx.(f (f x))))) (λf.(λx.(f (f x))))))\n",
      "27: (((((λu.(λu.(λx.(λy.x)))) (λg.(λh.(h (g (λx.(λx.(λy.y)))))))) (λx.(λx.(λy.y)))) (((λmmm.(λnnn.((λn.((n (λx.(λx.(λy.y)))) (λx.(λy.x)))) (((λm.(λn.((n (λn.(λf.(λx.(((n (λg.(λh.(h (g f))))) (λu.x)) (λu.u)))))) m))) mmm) nnn)))) (λf.(λx.(f (f x))))) (λf.(λx.(f (f x)))))) (((λmmm.(λnnn.((λn.((n (λx.(λx.(λy.y)))) (λx.(λy.x)))) (((λm.(λn.((n (λn.(λf.(λx.(((n (λg.(λh.(h (g f))))) (λu.x)) (λu.u)))))) m))) mmm) nnn)))) (λf.(λx.(f (f x))))) (λf.(λx.(f (f x))))))\n",
      "28: ((((λu.(λx.(λy.x))) (λx.(λx.(λy.y)))) (((λmmm.(λnnn.((λn.((n (λx.(λx.(λy.y)))) (λx.(λy.x)))) (((λm.(λn.((n (λn.(λf.(λx.(((n (λg.(λh.(h (g f))))) (λu.x)) (λu.u)))))) m))) mmm) nnn)))) (λf.(λx.(f (f x))))) (λf.(λx.(f (f x)))))) (((λmmm.(λnnn.((λn.((n (λx.(λx.(λy.y)))) (λx.(λy.x)))) (((λm.(λn.((n (λn.(λf.(λx.(((n (λg.(λh.(h (g f))))) (λu.x)) (λu.u)))))) m))) mmm) nnn)))) (λf.(λx.(f (f x))))) (λf.(λx.(f (f x))))))\n",
      "29: (((λx.(λy.x)) (((λmmm.(λnnn.((λn.((n (λx.(λx.(λy.y)))) (λx.(λy.x)))) (((λm.(λn.((n (λn.(λf.(λx.(((n (λg.(λh.(h (g f))))) (λu.x)) (λu.u)))))) m))) mmm) nnn)))) (λf.(λx.(f (f x))))) (λf.(λx.(f (f x)))))) (((λmmm.(λnnn.((λn.((n (λx.(λx.(λy.y)))) (λx.(λy.x)))) (((λm.(λn.((n (λn.(λf.(λx.(((n (λg.(λh.(h (g f))))) (λu.x)) (λu.u)))))) m))) mmm) nnn)))) (λf.(λx.(f (f x))))) (λf.(λx.(f (f x))))))\n",
      "30: ((λy.(((λmmm.(λnnn.((λn.((n (λx.(λx.(λy.y)))) (λx.(λy.x)))) (((λm.(λn.((n (λn.(λf.(λx.(((n (λg.(λh.(h (g f))))) (λu.x)) (λu.u)))))) m))) mmm) nnn)))) (λf.(λx.(f (f x))))) (λf.(λx.(f (f x)))))) (((λmmm.(λnnn.((λn.((n (λx.(λx.(λy.y)))) (λx.(λy.x)))) (((λm.(λn.((n (λn.(λf.(λx.(((n (λg.(λh.(h (g f))))) (λu.x)) (λu.u)))))) m))) mmm) nnn)))) (λf.(λx.(f (f x))))) (λf.(λx.(f (f x))))))\n",
      "31: (((λmmm.(λnnn.((λn.((n (λx.(λx.(λy.y)))) (λx.(λy.x)))) (((λm.(λn.((n (λn.(λf.(λx.(((n (λg.(λh.(h (g f))))) (λu.x)) (λu.u)))))) m))) mmm) nnn)))) (λf.(λx.(f (f x))))) (λf.(λx.(f (f x)))))\n",
      "32: ((λnnn.((λn.((n (λx.(λx.(λy.y)))) (λx.(λy.x)))) (((λm.(λn.((n (λn.(λf.(λx.(((n (λg.(λh.(h (g f))))) (λu.x)) (λu.u)))))) m))) (λf.(λx.(f (f x))))) nnn))) (λf.(λx.(f (f x)))))\n",
      "33: ((λn.((n (λx.(λx.(λy.y)))) (λx.(λy.x)))) (((λm.(λn.((n (λn.(λf.(λx.(((n (λg.(λh.(h (g f))))) (λu.x)) (λu.u)))))) m))) (λf.(λx.(f (f x))))) (λf.(λx.(f (f x))))))\n",
      "34: (((((λm.(λn.((n (λn.(λf.(λx.(((n (λg.(λh.(h (g f))))) (λu.x)) (λu.u)))))) m))) (λf.(λx.(f (f x))))) (λf.(λx.(f (f x))))) (λx.(λx.(λy.y)))) (λx.(λy.x)))\n",
      "35: ((((λn.((n (λn.(λf.(λx.(((n (λg.(λh.(h (g f))))) (λu.x)) (λu.u)))))) (λf.(λx.(f (f x)))))) (λf.(λx.(f (f x))))) (λx.(λx.(λy.y)))) (λx.(λy.x)))\n",
      "36: (((((λf.(λx.(f (f x)))) (λn.(λf.(λx.(((n (λg.(λh.(h (g f))))) (λu.x)) (λu.u)))))) (λf.(λx.(f (f x))))) (λx.(λx.(λy.y)))) (λx.(λy.x)))\n",
      "37: ((((λx.((λn.(λf.(λx.(((n (λg.(λh.(h (g f))))) (λu.x)) (λu.u))))) ((λn.(λf.(λx.(((n (λg.(λh.(h (g f))))) (λu.x)) (λu.u))))) x))) (λf.(λx.(f (f x))))) (λx.(λx.(λy.y)))) (λx.(λy.x)))\n",
      "38: ((((λn.(λf.(λx.(((n (λg.(λh.(h (g f))))) (λu.x)) (λu.u))))) ((λn.(λf.(λx.(((n (λg.(λh.(h (g f))))) (λu.x)) (λu.u))))) (λf.(λx.(f (f x)))))) (λx.(λx.(λy.y)))) (λx.(λy.x)))\n",
      "39: (((λf.(λx.(((((λn.(λf.(λx.(((n (λg.(λh.(h (g f))))) (λu.x)) (λu.u))))) (λf.(λx.(f (f x))))) (λg.(λh.(h (g f))))) (λu.x)) (λu.u)))) (λx.(λx.(λy.y)))) (λx.(λy.x)))\n",
      "40: ((λx.(((((λn.(λf.(λx.(((n (λg.(λh.(h (g f))))) (λu.x)) (λu.u))))) (λf.(λx.(f (f x))))) (λg.(λh.(h (g (λx.(λx.(λy.y)))))))) (λu.x)) (λu.u))) (λx.(λy.x)))\n",
      "41: (((((λn.(λf.(λx.(((n (λg.(λh.(h (g f))))) (λu.x)) (λu.u))))) (λf.(λx.(f (f x))))) (λg.(λh.(h (g (λx.(λx.(λy.y)))))))) (λu.(λx.(λy.x)))) (λu.u))\n",
      "42: ((((λf.(λx.((((λf.(λx.(f (f x)))) (λg.(λh.(h (g f))))) (λu.x)) (λu.u)))) (λg.(λh.(h (g (λx.(λx.(λy.y)))))))) (λu.(λx.(λy.x)))) (λu.u))\n",
      "43: (((λx.((((λf.(λx.(f (f x)))) (λg.(λh.(h (g (λg.(λh.(h (g (λx.(λx.(λy.y)))))))))))) (λu.x)) (λu.u))) (λu.(λx.(λy.x)))) (λu.u))\n",
      "44: (((((λf.(λx.(f (f x)))) (λg.(λh.(h (g (λg.(λh.(h (g (λx.(λx.(λy.y)))))))))))) (λu.(λu.(λx.(λy.x))))) (λu.u)) (λu.u))\n",
      "45: ((((λx.((λg.(λh.(h (g (λg.(λh.(h (g (λx.(λx.(λy.y))))))))))) ((λg.(λh.(h (g (λg.(λh.(h (g (λx.(λx.(λy.y))))))))))) x))) (λu.(λu.(λx.(λy.x))))) (λu.u)) (λu.u))\n",
      "46: ((((λg.(λh.(h (g (λg.(λh.(h (g (λx.(λx.(λy.y))))))))))) ((λg.(λh.(h (g (λg.(λh.(h (g (λx.(λx.(λy.y))))))))))) (λu.(λu.(λx.(λy.x)))))) (λu.u)) (λu.u))\n",
      "47: (((λh.(h (((λg.(λh.(h (g (λg.(λh.(h (g (λx.(λx.(λy.y))))))))))) (λu.(λu.(λx.(λy.x))))) (λg.(λh.(h (g (λx.(λx.(λy.y)))))))))) (λu.u)) (λu.u))\n",
      "48: (((λu.u) (((λg.(λh.(h (g (λg.(λh.(h (g (λx.(λx.(λy.y))))))))))) (λu.(λu.(λx.(λy.x))))) (λg.(λh.(h (g (λx.(λx.(λy.y))))))))) (λu.u))\n",
      "49: ((((λg.(λh.(h (g (λg.(λh.(h (g (λx.(λx.(λy.y))))))))))) (λu.(λu.(λx.(λy.x))))) (λg.(λh.(h (g (λx.(λx.(λy.y)))))))) (λu.u))\n",
      "50: (((λh.(h ((λu.(λu.(λx.(λy.x)))) (λg.(λh.(h (g (λx.(λx.(λy.y)))))))))) (λg.(λh.(h (g (λx.(λx.(λy.y)))))))) (λu.u))\n",
      "51: (((λg.(λh.(h (g (λx.(λx.(λy.y))))))) ((λu.(λu.(λx.(λy.x)))) (λg.(λh.(h (g (λx.(λx.(λy.y))))))))) (λu.u))\n",
      "52: ((λh.(h (((λu.(λu.(λx.(λy.x)))) (λg.(λh.(h (g (λx.(λx.(λy.y)))))))) (λx.(λx.(λy.y)))))) (λu.u))\n",
      "53: ((λu.u) (((λu.(λu.(λx.(λy.x)))) (λg.(λh.(h (g (λx.(λx.(λy.y)))))))) (λx.(λx.(λy.y)))))\n",
      "54: (((λu.(λu.(λx.(λy.x)))) (λg.(λh.(h (g (λx.(λx.(λy.y)))))))) (λx.(λx.(λy.y))))\n",
      "55: ((λu.(λx.(λy.x))) (λx.(λx.(λy.y))))\n",
      "56: (λx.(λy.x))\n",
      "\n",
      "\n",
      "reduction steps: 56\n",
      "norm term:       (λx.(λy.x))\n"
     ]
    }
   ],
   "source": [
    "def term_test_12():\n",
    "    return multi_app_term(eq_term(), arithmetic.number(2), arithmetic.number(2))\n",
    "\n",
    "\n",
    "test_procedure(term_test_12())"
   ],
   "metadata": {
    "collapsed": false
   }
  },
  {
   "cell_type": "markdown",
   "source": [
    "# <span style=\"color: #A1F99C\">13.</span>\n",
    "<span style=\"color:#bb91f3\">(EQ 1 4)</span> == <span style=\"color:#f1bd47\">FALSE</span> == <span style=\"color:#f1bd47\">λx. λy. y</span>"
   ],
   "metadata": {
    "collapsed": false
   }
  },
  {
   "cell_type": "code",
   "execution_count": 21,
   "outputs": [
    {
     "name": "stdout",
     "output_type": "stream",
     "text": [
      "0: (((λmm.(λnn.(((λp.(λq.((p q) p))) (((λmmm.(λnnn.((λn.((n (λx.(λx.(λy.y)))) (λx.(λy.x)))) (((λm.(λn.((n (λn.(λf.(λx.(((n (λg.(λh.(h (g f))))) (λu.x)) (λu.u)))))) m))) mmm) nnn)))) mm) nn)) (((λmmm.(λnnn.((λn.((n (λx.(λx.(λy.y)))) (λx.(λy.x)))) (((λm.(λn.((n (λn.(λf.(λx.(((n (λg.(λh.(h (g f))))) (λu.x)) (λu.u)))))) m))) mmm) nnn)))) nn) mm)))) (λf.(λx.(f x)))) (λf.(λx.(f (f (f (f x)))))))\n",
      "1: ((λnn.(((λp.(λq.((p q) p))) (((λmmm.(λnnn.((λn.((n (λx.(λx.(λy.y)))) (λx.(λy.x)))) (((λm.(λn.((n (λn.(λf.(λx.(((n (λg.(λh.(h (g f))))) (λu.x)) (λu.u)))))) m))) mmm) nnn)))) (λf.(λx.(f x)))) nn)) (((λmmm.(λnnn.((λn.((n (λx.(λx.(λy.y)))) (λx.(λy.x)))) (((λm.(λn.((n (λn.(λf.(λx.(((n (λg.(λh.(h (g f))))) (λu.x)) (λu.u)))))) m))) mmm) nnn)))) nn) (λf.(λx.(f x)))))) (λf.(λx.(f (f (f (f x)))))))\n",
      "2: (((λp.(λq.((p q) p))) (((λmmm.(λnnn.((λn.((n (λx.(λx.(λy.y)))) (λx.(λy.x)))) (((λm.(λn.((n (λn.(λf.(λx.(((n (λg.(λh.(h (g f))))) (λu.x)) (λu.u)))))) m))) mmm) nnn)))) (λf.(λx.(f x)))) (λf.(λx.(f (f (f (f x)))))))) (((λmmm.(λnnn.((λn.((n (λx.(λx.(λy.y)))) (λx.(λy.x)))) (((λm.(λn.((n (λn.(λf.(λx.(((n (λg.(λh.(h (g f))))) (λu.x)) (λu.u)))))) m))) mmm) nnn)))) (λf.(λx.(f (f (f (f x))))))) (λf.(λx.(f x)))))\n",
      "3: ((λq.(((((λmmm.(λnnn.((λn.((n (λx.(λx.(λy.y)))) (λx.(λy.x)))) (((λm.(λn.((n (λn.(λf.(λx.(((n (λg.(λh.(h (g f))))) (λu.x)) (λu.u)))))) m))) mmm) nnn)))) (λf.(λx.(f x)))) (λf.(λx.(f (f (f (f x))))))) q) (((λmmm.(λnnn.((λn.((n (λx.(λx.(λy.y)))) (λx.(λy.x)))) (((λm.(λn.((n (λn.(λf.(λx.(((n (λg.(λh.(h (g f))))) (λu.x)) (λu.u)))))) m))) mmm) nnn)))) (λf.(λx.(f x)))) (λf.(λx.(f (f (f (f x))))))))) (((λmmm.(λnnn.((λn.((n (λx.(λx.(λy.y)))) (λx.(λy.x)))) (((λm.(λn.((n (λn.(λf.(λx.(((n (λg.(λh.(h (g f))))) (λu.x)) (λu.u)))))) m))) mmm) nnn)))) (λf.(λx.(f (f (f (f x))))))) (λf.(λx.(f x)))))\n",
      "4: (((((λmmm.(λnnn.((λn.((n (λx.(λx.(λy.y)))) (λx.(λy.x)))) (((λm.(λn.((n (λn.(λf.(λx.(((n (λg.(λh.(h (g f))))) (λu.x)) (λu.u)))))) m))) mmm) nnn)))) (λf.(λx.(f x)))) (λf.(λx.(f (f (f (f x))))))) (((λmmm.(λnnn.((λn.((n (λx.(λx.(λy.y)))) (λx.(λy.x)))) (((λm.(λn.((n (λn.(λf.(λx.(((n (λg.(λh.(h (g f))))) (λu.x)) (λu.u)))))) m))) mmm) nnn)))) (λf.(λx.(f (f (f (f x))))))) (λf.(λx.(f x))))) (((λmmm.(λnnn.((λn.((n (λx.(λx.(λy.y)))) (λx.(λy.x)))) (((λm.(λn.((n (λn.(λf.(λx.(((n (λg.(λh.(h (g f))))) (λu.x)) (λu.u)))))) m))) mmm) nnn)))) (λf.(λx.(f x)))) (λf.(λx.(f (f (f (f x))))))))\n",
      "5: ((((λnnn.((λn.((n (λx.(λx.(λy.y)))) (λx.(λy.x)))) (((λm.(λn.((n (λn.(λf.(λx.(((n (λg.(λh.(h (g f))))) (λu.x)) (λu.u)))))) m))) (λf.(λx.(f x)))) nnn))) (λf.(λx.(f (f (f (f x))))))) (((λmmm.(λnnn.((λn.((n (λx.(λx.(λy.y)))) (λx.(λy.x)))) (((λm.(λn.((n (λn.(λf.(λx.(((n (λg.(λh.(h (g f))))) (λu.x)) (λu.u)))))) m))) mmm) nnn)))) (λf.(λx.(f (f (f (f x))))))) (λf.(λx.(f x))))) (((λmmm.(λnnn.((λn.((n (λx.(λx.(λy.y)))) (λx.(λy.x)))) (((λm.(λn.((n (λn.(λf.(λx.(((n (λg.(λh.(h (g f))))) (λu.x)) (λu.u)))))) m))) mmm) nnn)))) (λf.(λx.(f x)))) (λf.(λx.(f (f (f (f x))))))))\n",
      "6: ((((λn.((n (λx.(λx.(λy.y)))) (λx.(λy.x)))) (((λm.(λn.((n (λn.(λf.(λx.(((n (λg.(λh.(h (g f))))) (λu.x)) (λu.u)))))) m))) (λf.(λx.(f x)))) (λf.(λx.(f (f (f (f x)))))))) (((λmmm.(λnnn.((λn.((n (λx.(λx.(λy.y)))) (λx.(λy.x)))) (((λm.(λn.((n (λn.(λf.(λx.(((n (λg.(λh.(h (g f))))) (λu.x)) (λu.u)))))) m))) mmm) nnn)))) (λf.(λx.(f (f (f (f x))))))) (λf.(λx.(f x))))) (((λmmm.(λnnn.((λn.((n (λx.(λx.(λy.y)))) (λx.(λy.x)))) (((λm.(λn.((n (λn.(λf.(λx.(((n (λg.(λh.(h (g f))))) (λu.x)) (λu.u)))))) m))) mmm) nnn)))) (λf.(λx.(f x)))) (λf.(λx.(f (f (f (f x))))))))\n",
      "7: (((((((λm.(λn.((n (λn.(λf.(λx.(((n (λg.(λh.(h (g f))))) (λu.x)) (λu.u)))))) m))) (λf.(λx.(f x)))) (λf.(λx.(f (f (f (f x))))))) (λx.(λx.(λy.y)))) (λx.(λy.x))) (((λmmm.(λnnn.((λn.((n (λx.(λx.(λy.y)))) (λx.(λy.x)))) (((λm.(λn.((n (λn.(λf.(λx.(((n (λg.(λh.(h (g f))))) (λu.x)) (λu.u)))))) m))) mmm) nnn)))) (λf.(λx.(f (f (f (f x))))))) (λf.(λx.(f x))))) (((λmmm.(λnnn.((λn.((n (λx.(λx.(λy.y)))) (λx.(λy.x)))) (((λm.(λn.((n (λn.(λf.(λx.(((n (λg.(λh.(h (g f))))) (λu.x)) (λu.u)))))) m))) mmm) nnn)))) (λf.(λx.(f x)))) (λf.(λx.(f (f (f (f x))))))))\n",
      "8: ((((((λn.((n (λn.(λf.(λx.(((n (λg.(λh.(h (g f))))) (λu.x)) (λu.u)))))) (λf.(λx.(f x))))) (λf.(λx.(f (f (f (f x))))))) (λx.(λx.(λy.y)))) (λx.(λy.x))) (((λmmm.(λnnn.((λn.((n (λx.(λx.(λy.y)))) (λx.(λy.x)))) (((λm.(λn.((n (λn.(λf.(λx.(((n (λg.(λh.(h (g f))))) (λu.x)) (λu.u)))))) m))) mmm) nnn)))) (λf.(λx.(f (f (f (f x))))))) (λf.(λx.(f x))))) (((λmmm.(λnnn.((λn.((n (λx.(λx.(λy.y)))) (λx.(λy.x)))) (((λm.(λn.((n (λn.(λf.(λx.(((n (λg.(λh.(h (g f))))) (λu.x)) (λu.u)))))) m))) mmm) nnn)))) (λf.(λx.(f x)))) (λf.(λx.(f (f (f (f x))))))))\n",
      "9: (((((((λf.(λx.(f (f (f (f x)))))) (λn.(λf.(λx.(((n (λg.(λh.(h (g f))))) (λu.x)) (λu.u)))))) (λf.(λx.(f x)))) (λx.(λx.(λy.y)))) (λx.(λy.x))) (((λmmm.(λnnn.((λn.((n (λx.(λx.(λy.y)))) (λx.(λy.x)))) (((λm.(λn.((n (λn.(λf.(λx.(((n (λg.(λh.(h (g f))))) (λu.x)) (λu.u)))))) m))) mmm) nnn)))) (λf.(λx.(f (f (f (f x))))))) (λf.(λx.(f x))))) (((λmmm.(λnnn.((λn.((n (λx.(λx.(λy.y)))) (λx.(λy.x)))) (((λm.(λn.((n (λn.(λf.(λx.(((n (λg.(λh.(h (g f))))) (λu.x)) (λu.u)))))) m))) mmm) nnn)))) (λf.(λx.(f x)))) (λf.(λx.(f (f (f (f x))))))))\n",
      "10: ((((((λx.((λn.(λf.(λx.(((n (λg.(λh.(h (g f))))) (λu.x)) (λu.u))))) ((λn.(λf.(λx.(((n (λg.(λh.(h (g f))))) (λu.x)) (λu.u))))) ((λn.(λf.(λx.(((n (λg.(λh.(h (g f))))) (λu.x)) (λu.u))))) ((λn.(λf.(λx.(((n (λg.(λh.(h (g f))))) (λu.x)) (λu.u))))) x))))) (λf.(λx.(f x)))) (λx.(λx.(λy.y)))) (λx.(λy.x))) (((λmmm.(λnnn.((λn.((n (λx.(λx.(λy.y)))) (λx.(λy.x)))) (((λm.(λn.((n (λn.(λf.(λx.(((n (λg.(λh.(h (g f))))) (λu.x)) (λu.u)))))) m))) mmm) nnn)))) (λf.(λx.(f (f (f (f x))))))) (λf.(λx.(f x))))) (((λmmm.(λnnn.((λn.((n (λx.(λx.(λy.y)))) (λx.(λy.x)))) (((λm.(λn.((n (λn.(λf.(λx.(((n (λg.(λh.(h (g f))))) (λu.x)) (λu.u)))))) m))) mmm) nnn)))) (λf.(λx.(f x)))) (λf.(λx.(f (f (f (f x))))))))\n",
      "11: ((((((λn.(λf.(λx.(((n (λg.(λh.(h (g f))))) (λu.x)) (λu.u))))) ((λn.(λf.(λx.(((n (λg.(λh.(h (g f))))) (λu.x)) (λu.u))))) ((λn.(λf.(λx.(((n (λg.(λh.(h (g f))))) (λu.x)) (λu.u))))) ((λn.(λf.(λx.(((n (λg.(λh.(h (g f))))) (λu.x)) (λu.u))))) (λf.(λx.(f x))))))) (λx.(λx.(λy.y)))) (λx.(λy.x))) (((λmmm.(λnnn.((λn.((n (λx.(λx.(λy.y)))) (λx.(λy.x)))) (((λm.(λn.((n (λn.(λf.(λx.(((n (λg.(λh.(h (g f))))) (λu.x)) (λu.u)))))) m))) mmm) nnn)))) (λf.(λx.(f (f (f (f x))))))) (λf.(λx.(f x))))) (((λmmm.(λnnn.((λn.((n (λx.(λx.(λy.y)))) (λx.(λy.x)))) (((λm.(λn.((n (λn.(λf.(λx.(((n (λg.(λh.(h (g f))))) (λu.x)) (λu.u)))))) m))) mmm) nnn)))) (λf.(λx.(f x)))) (λf.(λx.(f (f (f (f x))))))))\n",
      "12: (((((λf.(λx.(((((λn.(λf.(λx.(((n (λg.(λh.(h (g f))))) (λu.x)) (λu.u))))) ((λn.(λf.(λx.(((n (λg.(λh.(h (g f))))) (λu.x)) (λu.u))))) ((λn.(λf.(λx.(((n (λg.(λh.(h (g f))))) (λu.x)) (λu.u))))) (λf.(λx.(f x)))))) (λg.(λh.(h (g f))))) (λu.x)) (λu.u)))) (λx.(λx.(λy.y)))) (λx.(λy.x))) (((λmmm.(λnnn.((λn.((n (λx.(λx.(λy.y)))) (λx.(λy.x)))) (((λm.(λn.((n (λn.(λf.(λx.(((n (λg.(λh.(h (g f))))) (λu.x)) (λu.u)))))) m))) mmm) nnn)))) (λf.(λx.(f (f (f (f x))))))) (λf.(λx.(f x))))) (((λmmm.(λnnn.((λn.((n (λx.(λx.(λy.y)))) (λx.(λy.x)))) (((λm.(λn.((n (λn.(λf.(λx.(((n (λg.(λh.(h (g f))))) (λu.x)) (λu.u)))))) m))) mmm) nnn)))) (λf.(λx.(f x)))) (λf.(λx.(f (f (f (f x))))))))\n",
      "13: ((((λx.(((((λn.(λf.(λx.(((n (λg.(λh.(h (g f))))) (λu.x)) (λu.u))))) ((λn.(λf.(λx.(((n (λg.(λh.(h (g f))))) (λu.x)) (λu.u))))) ((λn.(λf.(λx.(((n (λg.(λh.(h (g f))))) (λu.x)) (λu.u))))) (λf.(λx.(f x)))))) (λg.(λh.(h (g (λx.(λx.(λy.y)))))))) (λu.x)) (λu.u))) (λx.(λy.x))) (((λmmm.(λnnn.((λn.((n (λx.(λx.(λy.y)))) (λx.(λy.x)))) (((λm.(λn.((n (λn.(λf.(λx.(((n (λg.(λh.(h (g f))))) (λu.x)) (λu.u)))))) m))) mmm) nnn)))) (λf.(λx.(f (f (f (f x))))))) (λf.(λx.(f x))))) (((λmmm.(λnnn.((λn.((n (λx.(λx.(λy.y)))) (λx.(λy.x)))) (((λm.(λn.((n (λn.(λf.(λx.(((n (λg.(λh.(h (g f))))) (λu.x)) (λu.u)))))) m))) mmm) nnn)))) (λf.(λx.(f x)))) (λf.(λx.(f (f (f (f x))))))))\n",
      "14: (((((((λn.(λf.(λx.(((n (λg.(λh.(h (g f))))) (λu.x)) (λu.u))))) ((λn.(λf.(λx.(((n (λg.(λh.(h (g f))))) (λu.x)) (λu.u))))) ((λn.(λf.(λx.(((n (λg.(λh.(h (g f))))) (λu.x)) (λu.u))))) (λf.(λx.(f x)))))) (λg.(λh.(h (g (λx.(λx.(λy.y)))))))) (λu.(λx.(λy.x)))) (λu.u)) (((λmmm.(λnnn.((λn.((n (λx.(λx.(λy.y)))) (λx.(λy.x)))) (((λm.(λn.((n (λn.(λf.(λx.(((n (λg.(λh.(h (g f))))) (λu.x)) (λu.u)))))) m))) mmm) nnn)))) (λf.(λx.(f (f (f (f x))))))) (λf.(λx.(f x))))) (((λmmm.(λnnn.((λn.((n (λx.(λx.(λy.y)))) (λx.(λy.x)))) (((λm.(λn.((n (λn.(λf.(λx.(((n (λg.(λh.(h (g f))))) (λu.x)) (λu.u)))))) m))) mmm) nnn)))) (λf.(λx.(f x)))) (λf.(λx.(f (f (f (f x))))))))\n",
      "15: ((((((λf.(λx.(((((λn.(λf.(λx.(((n (λg.(λh.(h (g f))))) (λu.x)) (λu.u))))) ((λn.(λf.(λx.(((n (λg.(λh.(h (g f))))) (λu.x)) (λu.u))))) (λf.(λx.(f x))))) (λg.(λh.(h (g f))))) (λu.x)) (λu.u)))) (λg.(λh.(h (g (λx.(λx.(λy.y)))))))) (λu.(λx.(λy.x)))) (λu.u)) (((λmmm.(λnnn.((λn.((n (λx.(λx.(λy.y)))) (λx.(λy.x)))) (((λm.(λn.((n (λn.(λf.(λx.(((n (λg.(λh.(h (g f))))) (λu.x)) (λu.u)))))) m))) mmm) nnn)))) (λf.(λx.(f (f (f (f x))))))) (λf.(λx.(f x))))) (((λmmm.(λnnn.((λn.((n (λx.(λx.(λy.y)))) (λx.(λy.x)))) (((λm.(λn.((n (λn.(λf.(λx.(((n (λg.(λh.(h (g f))))) (λu.x)) (λu.u)))))) m))) mmm) nnn)))) (λf.(λx.(f x)))) (λf.(λx.(f (f (f (f x))))))))\n",
      "16: (((((λx.(((((λn.(λf.(λx.(((n (λg.(λh.(h (g f))))) (λu.x)) (λu.u))))) ((λn.(λf.(λx.(((n (λg.(λh.(h (g f))))) (λu.x)) (λu.u))))) (λf.(λx.(f x))))) (λg.(λh.(h (g (λg.(λh.(h (g (λx.(λx.(λy.y)))))))))))) (λu.x)) (λu.u))) (λu.(λx.(λy.x)))) (λu.u)) (((λmmm.(λnnn.((λn.((n (λx.(λx.(λy.y)))) (λx.(λy.x)))) (((λm.(λn.((n (λn.(λf.(λx.(((n (λg.(λh.(h (g f))))) (λu.x)) (λu.u)))))) m))) mmm) nnn)))) (λf.(λx.(f (f (f (f x))))))) (λf.(λx.(f x))))) (((λmmm.(λnnn.((λn.((n (λx.(λx.(λy.y)))) (λx.(λy.x)))) (((λm.(λn.((n (λn.(λf.(λx.(((n (λg.(λh.(h (g f))))) (λu.x)) (λu.u)))))) m))) mmm) nnn)))) (λf.(λx.(f x)))) (λf.(λx.(f (f (f (f x))))))))\n",
      "17: ((((((((λn.(λf.(λx.(((n (λg.(λh.(h (g f))))) (λu.x)) (λu.u))))) ((λn.(λf.(λx.(((n (λg.(λh.(h (g f))))) (λu.x)) (λu.u))))) (λf.(λx.(f x))))) (λg.(λh.(h (g (λg.(λh.(h (g (λx.(λx.(λy.y)))))))))))) (λu.(λu.(λx.(λy.x))))) (λu.u)) (λu.u)) (((λmmm.(λnnn.((λn.((n (λx.(λx.(λy.y)))) (λx.(λy.x)))) (((λm.(λn.((n (λn.(λf.(λx.(((n (λg.(λh.(h (g f))))) (λu.x)) (λu.u)))))) m))) mmm) nnn)))) (λf.(λx.(f (f (f (f x))))))) (λf.(λx.(f x))))) (((λmmm.(λnnn.((λn.((n (λx.(λx.(λy.y)))) (λx.(λy.x)))) (((λm.(λn.((n (λn.(λf.(λx.(((n (λg.(λh.(h (g f))))) (λu.x)) (λu.u)))))) m))) mmm) nnn)))) (λf.(λx.(f x)))) (λf.(λx.(f (f (f (f x))))))))\n",
      "18: (((((((λf.(λx.(((((λn.(λf.(λx.(((n (λg.(λh.(h (g f))))) (λu.x)) (λu.u))))) (λf.(λx.(f x)))) (λg.(λh.(h (g f))))) (λu.x)) (λu.u)))) (λg.(λh.(h (g (λg.(λh.(h (g (λx.(λx.(λy.y)))))))))))) (λu.(λu.(λx.(λy.x))))) (λu.u)) (λu.u)) (((λmmm.(λnnn.((λn.((n (λx.(λx.(λy.y)))) (λx.(λy.x)))) (((λm.(λn.((n (λn.(λf.(λx.(((n (λg.(λh.(h (g f))))) (λu.x)) (λu.u)))))) m))) mmm) nnn)))) (λf.(λx.(f (f (f (f x))))))) (λf.(λx.(f x))))) (((λmmm.(λnnn.((λn.((n (λx.(λx.(λy.y)))) (λx.(λy.x)))) (((λm.(λn.((n (λn.(λf.(λx.(((n (λg.(λh.(h (g f))))) (λu.x)) (λu.u)))))) m))) mmm) nnn)))) (λf.(λx.(f x)))) (λf.(λx.(f (f (f (f x))))))))\n",
      "19: ((((((λx.(((((λn.(λf.(λx.(((n (λg.(λh.(h (g f))))) (λu.x)) (λu.u))))) (λf.(λx.(f x)))) (λg.(λh.(h (g (λg.(λh.(h (g (λg.(λh.(h (g (λx.(λx.(λy.y)))))))))))))))) (λu.x)) (λu.u))) (λu.(λu.(λx.(λy.x))))) (λu.u)) (λu.u)) (((λmmm.(λnnn.((λn.((n (λx.(λx.(λy.y)))) (λx.(λy.x)))) (((λm.(λn.((n (λn.(λf.(λx.(((n (λg.(λh.(h (g f))))) (λu.x)) (λu.u)))))) m))) mmm) nnn)))) (λf.(λx.(f (f (f (f x))))))) (λf.(λx.(f x))))) (((λmmm.(λnnn.((λn.((n (λx.(λx.(λy.y)))) (λx.(λy.x)))) (((λm.(λn.((n (λn.(λf.(λx.(((n (λg.(λh.(h (g f))))) (λu.x)) (λu.u)))))) m))) mmm) nnn)))) (λf.(λx.(f x)))) (λf.(λx.(f (f (f (f x))))))))\n",
      "20: (((((((((λn.(λf.(λx.(((n (λg.(λh.(h (g f))))) (λu.x)) (λu.u))))) (λf.(λx.(f x)))) (λg.(λh.(h (g (λg.(λh.(h (g (λg.(λh.(h (g (λx.(λx.(λy.y)))))))))))))))) (λu.(λu.(λu.(λx.(λy.x)))))) (λu.u)) (λu.u)) (λu.u)) (((λmmm.(λnnn.((λn.((n (λx.(λx.(λy.y)))) (λx.(λy.x)))) (((λm.(λn.((n (λn.(λf.(λx.(((n (λg.(λh.(h (g f))))) (λu.x)) (λu.u)))))) m))) mmm) nnn)))) (λf.(λx.(f (f (f (f x))))))) (λf.(λx.(f x))))) (((λmmm.(λnnn.((λn.((n (λx.(λx.(λy.y)))) (λx.(λy.x)))) (((λm.(λn.((n (λn.(λf.(λx.(((n (λg.(λh.(h (g f))))) (λu.x)) (λu.u)))))) m))) mmm) nnn)))) (λf.(λx.(f x)))) (λf.(λx.(f (f (f (f x))))))))\n",
      "21: ((((((((λf.(λx.((((λf.(λx.(f x))) (λg.(λh.(h (g f))))) (λu.x)) (λu.u)))) (λg.(λh.(h (g (λg.(λh.(h (g (λg.(λh.(h (g (λx.(λx.(λy.y)))))))))))))))) (λu.(λu.(λu.(λx.(λy.x)))))) (λu.u)) (λu.u)) (λu.u)) (((λmmm.(λnnn.((λn.((n (λx.(λx.(λy.y)))) (λx.(λy.x)))) (((λm.(λn.((n (λn.(λf.(λx.(((n (λg.(λh.(h (g f))))) (λu.x)) (λu.u)))))) m))) mmm) nnn)))) (λf.(λx.(f (f (f (f x))))))) (λf.(λx.(f x))))) (((λmmm.(λnnn.((λn.((n (λx.(λx.(λy.y)))) (λx.(λy.x)))) (((λm.(λn.((n (λn.(λf.(λx.(((n (λg.(λh.(h (g f))))) (λu.x)) (λu.u)))))) m))) mmm) nnn)))) (λf.(λx.(f x)))) (λf.(λx.(f (f (f (f x))))))))\n",
      "22: (((((((λx.((((λf.(λx.(f x))) (λg.(λh.(h (g (λg.(λh.(h (g (λg.(λh.(h (g (λg.(λh.(h (g (λx.(λx.(λy.y)))))))))))))))))))) (λu.x)) (λu.u))) (λu.(λu.(λu.(λx.(λy.x)))))) (λu.u)) (λu.u)) (λu.u)) (((λmmm.(λnnn.((λn.((n (λx.(λx.(λy.y)))) (λx.(λy.x)))) (((λm.(λn.((n (λn.(λf.(λx.(((n (λg.(λh.(h (g f))))) (λu.x)) (λu.u)))))) m))) mmm) nnn)))) (λf.(λx.(f (f (f (f x))))))) (λf.(λx.(f x))))) (((λmmm.(λnnn.((λn.((n (λx.(λx.(λy.y)))) (λx.(λy.x)))) (((λm.(λn.((n (λn.(λf.(λx.(((n (λg.(λh.(h (g f))))) (λu.x)) (λu.u)))))) m))) mmm) nnn)))) (λf.(λx.(f x)))) (λf.(λx.(f (f (f (f x))))))))\n",
      "23: (((((((((λf.(λx.(f x))) (λg.(λh.(h (g (λg.(λh.(h (g (λg.(λh.(h (g (λg.(λh.(h (g (λx.(λx.(λy.y)))))))))))))))))))) (λu.(λu.(λu.(λu.(λx.(λy.x))))))) (λu.u)) (λu.u)) (λu.u)) (λu.u)) (((λmmm.(λnnn.((λn.((n (λx.(λx.(λy.y)))) (λx.(λy.x)))) (((λm.(λn.((n (λn.(λf.(λx.(((n (λg.(λh.(h (g f))))) (λu.x)) (λu.u)))))) m))) mmm) nnn)))) (λf.(λx.(f (f (f (f x))))))) (λf.(λx.(f x))))) (((λmmm.(λnnn.((λn.((n (λx.(λx.(λy.y)))) (λx.(λy.x)))) (((λm.(λn.((n (λn.(λf.(λx.(((n (λg.(λh.(h (g f))))) (λu.x)) (λu.u)))))) m))) mmm) nnn)))) (λf.(λx.(f x)))) (λf.(λx.(f (f (f (f x))))))))\n",
      "24: ((((((((λx.((λg.(λh.(h (g (λg.(λh.(h (g (λg.(λh.(h (g (λg.(λh.(h (g (λx.(λx.(λy.y))))))))))))))))))) x)) (λu.(λu.(λu.(λu.(λx.(λy.x))))))) (λu.u)) (λu.u)) (λu.u)) (λu.u)) (((λmmm.(λnnn.((λn.((n (λx.(λx.(λy.y)))) (λx.(λy.x)))) (((λm.(λn.((n (λn.(λf.(λx.(((n (λg.(λh.(h (g f))))) (λu.x)) (λu.u)))))) m))) mmm) nnn)))) (λf.(λx.(f (f (f (f x))))))) (λf.(λx.(f x))))) (((λmmm.(λnnn.((λn.((n (λx.(λx.(λy.y)))) (λx.(λy.x)))) (((λm.(λn.((n (λn.(λf.(λx.(((n (λg.(λh.(h (g f))))) (λu.x)) (λu.u)))))) m))) mmm) nnn)))) (λf.(λx.(f x)))) (λf.(λx.(f (f (f (f x))))))))\n",
      "25: ((((((((λg.(λh.(h (g (λg.(λh.(h (g (λg.(λh.(h (g (λg.(λh.(h (g (λx.(λx.(λy.y))))))))))))))))))) (λu.(λu.(λu.(λu.(λx.(λy.x))))))) (λu.u)) (λu.u)) (λu.u)) (λu.u)) (((λmmm.(λnnn.((λn.((n (λx.(λx.(λy.y)))) (λx.(λy.x)))) (((λm.(λn.((n (λn.(λf.(λx.(((n (λg.(λh.(h (g f))))) (λu.x)) (λu.u)))))) m))) mmm) nnn)))) (λf.(λx.(f (f (f (f x))))))) (λf.(λx.(f x))))) (((λmmm.(λnnn.((λn.((n (λx.(λx.(λy.y)))) (λx.(λy.x)))) (((λm.(λn.((n (λn.(λf.(λx.(((n (λg.(λh.(h (g f))))) (λu.x)) (λu.u)))))) m))) mmm) nnn)))) (λf.(λx.(f x)))) (λf.(λx.(f (f (f (f x))))))))\n",
      "26: (((((((λh.(h ((λu.(λu.(λu.(λu.(λx.(λy.x)))))) (λg.(λh.(h (g (λg.(λh.(h (g (λg.(λh.(h (g (λx.(λx.(λy.y)))))))))))))))))) (λu.u)) (λu.u)) (λu.u)) (λu.u)) (((λmmm.(λnnn.((λn.((n (λx.(λx.(λy.y)))) (λx.(λy.x)))) (((λm.(λn.((n (λn.(λf.(λx.(((n (λg.(λh.(h (g f))))) (λu.x)) (λu.u)))))) m))) mmm) nnn)))) (λf.(λx.(f (f (f (f x))))))) (λf.(λx.(f x))))) (((λmmm.(λnnn.((λn.((n (λx.(λx.(λy.y)))) (λx.(λy.x)))) (((λm.(λn.((n (λn.(λf.(λx.(((n (λg.(λh.(h (g f))))) (λu.x)) (λu.u)))))) m))) mmm) nnn)))) (λf.(λx.(f x)))) (λf.(λx.(f (f (f (f x))))))))\n",
      "27: (((((((λu.u) ((λu.(λu.(λu.(λu.(λx.(λy.x)))))) (λg.(λh.(h (g (λg.(λh.(h (g (λg.(λh.(h (g (λx.(λx.(λy.y))))))))))))))))) (λu.u)) (λu.u)) (λu.u)) (((λmmm.(λnnn.((λn.((n (λx.(λx.(λy.y)))) (λx.(λy.x)))) (((λm.(λn.((n (λn.(λf.(λx.(((n (λg.(λh.(h (g f))))) (λu.x)) (λu.u)))))) m))) mmm) nnn)))) (λf.(λx.(f (f (f (f x))))))) (λf.(λx.(f x))))) (((λmmm.(λnnn.((λn.((n (λx.(λx.(λy.y)))) (λx.(λy.x)))) (((λm.(λn.((n (λn.(λf.(λx.(((n (λg.(λh.(h (g f))))) (λu.x)) (λu.u)))))) m))) mmm) nnn)))) (λf.(λx.(f x)))) (λf.(λx.(f (f (f (f x))))))))\n",
      "28: (((((((λu.(λu.(λu.(λu.(λx.(λy.x)))))) (λg.(λh.(h (g (λg.(λh.(h (g (λg.(λh.(h (g (λx.(λx.(λy.y)))))))))))))))) (λu.u)) (λu.u)) (λu.u)) (((λmmm.(λnnn.((λn.((n (λx.(λx.(λy.y)))) (λx.(λy.x)))) (((λm.(λn.((n (λn.(λf.(λx.(((n (λg.(λh.(h (g f))))) (λu.x)) (λu.u)))))) m))) mmm) nnn)))) (λf.(λx.(f (f (f (f x))))))) (λf.(λx.(f x))))) (((λmmm.(λnnn.((λn.((n (λx.(λx.(λy.y)))) (λx.(λy.x)))) (((λm.(λn.((n (λn.(λf.(λx.(((n (λg.(λh.(h (g f))))) (λu.x)) (λu.u)))))) m))) mmm) nnn)))) (λf.(λx.(f x)))) (λf.(λx.(f (f (f (f x))))))))\n",
      "29: ((((((λu.(λu.(λu.(λx.(λy.x))))) (λu.u)) (λu.u)) (λu.u)) (((λmmm.(λnnn.((λn.((n (λx.(λx.(λy.y)))) (λx.(λy.x)))) (((λm.(λn.((n (λn.(λf.(λx.(((n (λg.(λh.(h (g f))))) (λu.x)) (λu.u)))))) m))) mmm) nnn)))) (λf.(λx.(f (f (f (f x))))))) (λf.(λx.(f x))))) (((λmmm.(λnnn.((λn.((n (λx.(λx.(λy.y)))) (λx.(λy.x)))) (((λm.(λn.((n (λn.(λf.(λx.(((n (λg.(λh.(h (g f))))) (λu.x)) (λu.u)))))) m))) mmm) nnn)))) (λf.(λx.(f x)))) (λf.(λx.(f (f (f (f x))))))))\n",
      "30: (((((λu.(λu.(λx.(λy.x)))) (λu.u)) (λu.u)) (((λmmm.(λnnn.((λn.((n (λx.(λx.(λy.y)))) (λx.(λy.x)))) (((λm.(λn.((n (λn.(λf.(λx.(((n (λg.(λh.(h (g f))))) (λu.x)) (λu.u)))))) m))) mmm) nnn)))) (λf.(λx.(f (f (f (f x))))))) (λf.(λx.(f x))))) (((λmmm.(λnnn.((λn.((n (λx.(λx.(λy.y)))) (λx.(λy.x)))) (((λm.(λn.((n (λn.(λf.(λx.(((n (λg.(λh.(h (g f))))) (λu.x)) (λu.u)))))) m))) mmm) nnn)))) (λf.(λx.(f x)))) (λf.(λx.(f (f (f (f x))))))))\n",
      "31: ((((λu.(λx.(λy.x))) (λu.u)) (((λmmm.(λnnn.((λn.((n (λx.(λx.(λy.y)))) (λx.(λy.x)))) (((λm.(λn.((n (λn.(λf.(λx.(((n (λg.(λh.(h (g f))))) (λu.x)) (λu.u)))))) m))) mmm) nnn)))) (λf.(λx.(f (f (f (f x))))))) (λf.(λx.(f x))))) (((λmmm.(λnnn.((λn.((n (λx.(λx.(λy.y)))) (λx.(λy.x)))) (((λm.(λn.((n (λn.(λf.(λx.(((n (λg.(λh.(h (g f))))) (λu.x)) (λu.u)))))) m))) mmm) nnn)))) (λf.(λx.(f x)))) (λf.(λx.(f (f (f (f x))))))))\n",
      "32: (((λx.(λy.x)) (((λmmm.(λnnn.((λn.((n (λx.(λx.(λy.y)))) (λx.(λy.x)))) (((λm.(λn.((n (λn.(λf.(λx.(((n (λg.(λh.(h (g f))))) (λu.x)) (λu.u)))))) m))) mmm) nnn)))) (λf.(λx.(f (f (f (f x))))))) (λf.(λx.(f x))))) (((λmmm.(λnnn.((λn.((n (λx.(λx.(λy.y)))) (λx.(λy.x)))) (((λm.(λn.((n (λn.(λf.(λx.(((n (λg.(λh.(h (g f))))) (λu.x)) (λu.u)))))) m))) mmm) nnn)))) (λf.(λx.(f x)))) (λf.(λx.(f (f (f (f x))))))))\n",
      "33: ((λy.(((λmmm.(λnnn.((λn.((n (λx.(λx.(λy.y)))) (λx.(λy.x)))) (((λm.(λn.((n (λn.(λf.(λx.(((n (λg.(λh.(h (g f))))) (λu.x)) (λu.u)))))) m))) mmm) nnn)))) (λf.(λx.(f (f (f (f x))))))) (λf.(λx.(f x))))) (((λmmm.(λnnn.((λn.((n (λx.(λx.(λy.y)))) (λx.(λy.x)))) (((λm.(λn.((n (λn.(λf.(λx.(((n (λg.(λh.(h (g f))))) (λu.x)) (λu.u)))))) m))) mmm) nnn)))) (λf.(λx.(f x)))) (λf.(λx.(f (f (f (f x))))))))\n",
      "34: (((λmmm.(λnnn.((λn.((n (λx.(λx.(λy.y)))) (λx.(λy.x)))) (((λm.(λn.((n (λn.(λf.(λx.(((n (λg.(λh.(h (g f))))) (λu.x)) (λu.u)))))) m))) mmm) nnn)))) (λf.(λx.(f (f (f (f x))))))) (λf.(λx.(f x))))\n",
      "35: ((λnnn.((λn.((n (λx.(λx.(λy.y)))) (λx.(λy.x)))) (((λm.(λn.((n (λn.(λf.(λx.(((n (λg.(λh.(h (g f))))) (λu.x)) (λu.u)))))) m))) (λf.(λx.(f (f (f (f x))))))) nnn))) (λf.(λx.(f x))))\n",
      "36: ((λn.((n (λx.(λx.(λy.y)))) (λx.(λy.x)))) (((λm.(λn.((n (λn.(λf.(λx.(((n (λg.(λh.(h (g f))))) (λu.x)) (λu.u)))))) m))) (λf.(λx.(f (f (f (f x))))))) (λf.(λx.(f x)))))\n",
      "37: (((((λm.(λn.((n (λn.(λf.(λx.(((n (λg.(λh.(h (g f))))) (λu.x)) (λu.u)))))) m))) (λf.(λx.(f (f (f (f x))))))) (λf.(λx.(f x)))) (λx.(λx.(λy.y)))) (λx.(λy.x)))\n",
      "38: ((((λn.((n (λn.(λf.(λx.(((n (λg.(λh.(h (g f))))) (λu.x)) (λu.u)))))) (λf.(λx.(f (f (f (f x)))))))) (λf.(λx.(f x)))) (λx.(λx.(λy.y)))) (λx.(λy.x)))\n",
      "39: (((((λf.(λx.(f x))) (λn.(λf.(λx.(((n (λg.(λh.(h (g f))))) (λu.x)) (λu.u)))))) (λf.(λx.(f (f (f (f x))))))) (λx.(λx.(λy.y)))) (λx.(λy.x)))\n",
      "40: ((((λx.((λn.(λf.(λx.(((n (λg.(λh.(h (g f))))) (λu.x)) (λu.u))))) x)) (λf.(λx.(f (f (f (f x))))))) (λx.(λx.(λy.y)))) (λx.(λy.x)))\n",
      "41: ((((λn.(λf.(λx.(((n (λg.(λh.(h (g f))))) (λu.x)) (λu.u))))) (λf.(λx.(f (f (f (f x))))))) (λx.(λx.(λy.y)))) (λx.(λy.x)))\n",
      "42: (((λf.(λx.((((λf.(λx.(f (f (f (f x)))))) (λg.(λh.(h (g f))))) (λu.x)) (λu.u)))) (λx.(λx.(λy.y)))) (λx.(λy.x)))\n",
      "43: ((λx.((((λf.(λx.(f (f (f (f x)))))) (λg.(λh.(h (g (λx.(λx.(λy.y)))))))) (λu.x)) (λu.u))) (λx.(λy.x)))\n",
      "44: ((((λf.(λx.(f (f (f (f x)))))) (λg.(λh.(h (g (λx.(λx.(λy.y)))))))) (λu.(λx.(λy.x)))) (λu.u))\n",
      "45: (((λx.((λg.(λh.(h (g (λx.(λx.(λy.y))))))) ((λg.(λh.(h (g (λx.(λx.(λy.y))))))) ((λg.(λh.(h (g (λx.(λx.(λy.y))))))) ((λg.(λh.(h (g (λx.(λx.(λy.y))))))) x))))) (λu.(λx.(λy.x)))) (λu.u))\n",
      "46: (((λg.(λh.(h (g (λx.(λx.(λy.y))))))) ((λg.(λh.(h (g (λx.(λx.(λy.y))))))) ((λg.(λh.(h (g (λx.(λx.(λy.y))))))) ((λg.(λh.(h (g (λx.(λx.(λy.y))))))) (λu.(λx.(λy.x))))))) (λu.u))\n",
      "47: ((λh.(h (((λg.(λh.(h (g (λx.(λx.(λy.y))))))) ((λg.(λh.(h (g (λx.(λx.(λy.y))))))) ((λg.(λh.(h (g (λx.(λx.(λy.y))))))) (λu.(λx.(λy.x)))))) (λx.(λx.(λy.y)))))) (λu.u))\n",
      "48: ((λu.u) (((λg.(λh.(h (g (λx.(λx.(λy.y))))))) ((λg.(λh.(h (g (λx.(λx.(λy.y))))))) ((λg.(λh.(h (g (λx.(λx.(λy.y))))))) (λu.(λx.(λy.x)))))) (λx.(λx.(λy.y)))))\n",
      "49: (((λg.(λh.(h (g (λx.(λx.(λy.y))))))) ((λg.(λh.(h (g (λx.(λx.(λy.y))))))) ((λg.(λh.(h (g (λx.(λx.(λy.y))))))) (λu.(λx.(λy.x)))))) (λx.(λx.(λy.y))))\n",
      "50: ((λh.(h (((λg.(λh.(h (g (λx.(λx.(λy.y))))))) ((λg.(λh.(h (g (λx.(λx.(λy.y))))))) (λu.(λx.(λy.x))))) (λx.(λx.(λy.y)))))) (λx.(λx.(λy.y))))\n",
      "51: ((λx.(λx.(λy.y))) (((λg.(λh.(h (g (λx.(λx.(λy.y))))))) ((λg.(λh.(h (g (λx.(λx.(λy.y))))))) (λu.(λx.(λy.x))))) (λx.(λx.(λy.y)))))\n",
      "52: (λx.(λy.y))\n",
      "\n",
      "\n",
      "reduction steps: 52\n",
      "norm term:       (λx.(λy.y))\n"
     ]
    }
   ],
   "source": [
    "def term_test_13():\n",
    "    return multi_app_term(eq_term(), arithmetic.number(1), arithmetic.number(4))\n",
    "\n",
    "\n",
    "test_procedure(term_test_13())"
   ],
   "metadata": {
    "collapsed": false
   }
  }
 ],
 "metadata": {
  "kernelspec": {
   "display_name": "Python 3",
   "language": "python",
   "name": "python3"
  },
  "language_info": {
   "codemirror_mode": {
    "name": "ipython",
    "version": 2
   },
   "file_extension": ".py",
   "mimetype": "text/x-python",
   "name": "python",
   "nbconvert_exporter": "python",
   "pygments_lexer": "ipython2",
   "version": "2.7.6"
  }
 },
 "nbformat": 4,
 "nbformat_minor": 0
}
