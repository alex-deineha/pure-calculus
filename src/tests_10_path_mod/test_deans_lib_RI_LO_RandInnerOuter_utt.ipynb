{
 "cells": [
  {
   "cell_type": "code",
   "execution_count": 1,
   "metadata": {
    "collapsed": true
   },
   "outputs": [],
   "source": [
    "import sys\n",
    "\n",
    "sys.path.append(\"../\")\n",
    "from calculus_path_mod.term_engine import *\n",
    "from calculus_path_mod.reduction_strategy import *\n",
    "\n",
    "Lambda = Abstraction\n",
    "App = Application"
   ]
  },
  {
   "cell_type": "markdown",
   "source": [
    "# <span style=\"color: #A1F99C\">TEST PROCEDURE</span>"
   ],
   "metadata": {
    "collapsed": false
   }
  },
  {
   "cell_type": "code",
   "execution_count": 2,
   "outputs": [],
   "source": [
    "rs_LO = LOStrategy()\n",
    "rs_RI = RIStrategy()\n",
    "rs_RandOut = RandomOuterStrategy()\n",
    "rs_RandIn = RandomInnerStrategy()\n",
    "strategies={\"left\": rs_LO, \"right\": rs_RI, \"outer\": rs_RandOut, \"inner\": rs_RandIn}\n",
    "\n",
    "\n",
    "def test_procedure(term, steps_lim=60):\n",
    "    def local_norm(_term, reduction_strategy):\n",
    "        n_steps = 0\n",
    "        is_term_normalized = True\n",
    "\n",
    "        while _term.redexes:\n",
    "            _term = _term._beta_conversion(reduction_strategy)\n",
    "            _term = _term._update_bound_vars()\n",
    "            n_steps += 1\n",
    "            if n_steps > steps_lim:\n",
    "                is_term_normalized = False\n",
    "                break\n",
    "        return n_steps, is_term_normalized\n",
    "\n",
    "    steps, is_norm = local_norm(term._update_bound_vars(), strategies[\"left\"])\n",
    "    print(f\"LO: {steps}_{'Y' if is_norm else 'N'}\")\n",
    "    steps, is_norm = local_norm(term._update_bound_vars(), strategies[\"right\"])\n",
    "    print(f\"RI: {steps}_{'Y' if is_norm else 'N'}\")\n",
    "    print(\"RandOuter: \" + \", \".join(f\"{steps}_{'Y' if is_norm else 'N'}\" for steps, is_norm in (local_norm(term._update_bound_vars(), strategies[\"outer\"]) for i in range(10))))\n",
    "    print(\"RandInner: \" + \", \".join(f\"{steps}_{'Y' if is_norm else 'N'}\" for steps, is_norm in (local_norm(term._update_bound_vars(), strategies[\"inner\"]) for i in range(10))))"
   ],
   "metadata": {
    "collapsed": false
   }
  },
  {
   "cell_type": "markdown",
   "source": [
    "# <span style=\"color: #A1F99C\">USEFUL TERMS</span>"
   ],
   "metadata": {
    "collapsed": false
   }
  },
  {
   "cell_type": "code",
   "execution_count": 3,
   "outputs": [],
   "source": [
    "def ite_term():\n",
    "    x, y, c = Var(), Var(), Var()\n",
    "    x_, y_, c_ = Atom(x), Atom(y), Atom(c)\n",
    "    return Lambda(c, Lambda(x, Lambda(y, multi_app_term(c_, x_, y_))))\n",
    "\n",
    "\n",
    "def true_term():\n",
    "    x, y = Var(), Var()\n",
    "    x_ = Atom(x)\n",
    "    return Lambda(x, Lambda(y, x_))\n",
    "\n",
    "\n",
    "def num_zero_term():\n",
    "    s, z = Var(), Var()\n",
    "    z_ = Atom(z)\n",
    "    return Lambda(s, Lambda(z, z_))\n",
    "\n",
    "\n",
    "def num_term(n: int):\n",
    "    if n <= 0:\n",
    "        return num_zero_term()\n",
    "    s, z = Var(), Var()\n",
    "    s_, z_ = Atom(s), Atom(z)\n",
    "    core_term = App(s_, z_)\n",
    "    for _ in range(n - 1):\n",
    "        core_term = App(s_, core_term)\n",
    "    return Lambda(s, Lambda(z, core_term))\n",
    "\n",
    "\n",
    "def multi_app_term(term_0: Term, term_1: Term, *terms: Term):\n",
    "    res_app_term = App(term_0, term_1)\n",
    "    for term in terms:\n",
    "        res_app_term = App(res_app_term, term)\n",
    "    return res_app_term\n",
    "\n",
    "\n",
    "def false_term():\n",
    "    x, y = Var(), Var()\n",
    "    y_ = Atom(y)\n",
    "    return Lambda(x, Lambda(y, y_))\n",
    "\n",
    "\n",
    "def pair_term():\n",
    "    x, y, p = Var(), Var(), Var()\n",
    "    x_, y_, p_ = Atom(x), Atom(y), Atom(p)\n",
    "    return Lambda(x, Lambda(y, Lambda(p, multi_app_term(p_, x_, y_))))\n",
    "\n",
    "\n",
    "def first_term():\n",
    "    p = Var()\n",
    "    p_ = Atom(p)\n",
    "    return Lambda(p, App(p_, true_term()))\n",
    "\n",
    "\n",
    "def second_term():\n",
    "    p = Var()\n",
    "    p_ = Atom(p)\n",
    "    return Lambda(p, App(p_, false_term()))\n",
    "\n",
    "\n",
    "def succ_term():\n",
    "    x, y, n = Var(), Var(), Var()\n",
    "    x_, y_, n_ = Atom(x), Atom(y), Atom(n)\n",
    "    return Lambda(n, Lambda(x, Lambda(y, App(x_, multi_app_term(n_, x_, y_)))))\n",
    "\n",
    "\n",
    "def sinc_term():\n",
    "    p = Var()\n",
    "    p_ = Atom(p)\n",
    "    return Lambda(\n",
    "        p,\n",
    "        multi_app_term(\n",
    "            pair_term(),\n",
    "            App(second_term(), p_),\n",
    "            App(succ_term(), App(second_term(), p_)),\n",
    "        ),\n",
    "    )\n",
    "\n",
    "\n",
    "def pred_term():\n",
    "    n, f, x, g, h, u = Var(), Var(), Var(), Var(), Var(), Var()\n",
    "    n_, f_, x_ = Atom(n), Atom(f), Atom(x)\n",
    "    g_, h_, u_ = Atom(g), Atom(h), Atom(u)\n",
    "\n",
    "    return Lambda(n, Lambda(f, Lambda(x, multi_app_term(\n",
    "        n_,\n",
    "        Lambda(g, Lambda(h, App(h_, App(g_, f_)))),\n",
    "        Lambda(u, x_),\n",
    "        Lambda(u, u_)\n",
    "    ))))\n",
    "\n",
    "\n",
    "def plus_term():\n",
    "    n, m = Var(), Var()\n",
    "    n_, m_ = Atom(n), Atom(m)\n",
    "    return Lambda(m, Lambda(n, multi_app_term(n_, succ_term(), m_)))\n",
    "\n",
    "\n",
    "def subtract_term():\n",
    "    n, m = Var(), Var()\n",
    "    n_, m_ = Atom(n), Atom(m)\n",
    "    return Lambda(n, Lambda(m, multi_app_term(m_, pred_term(), n_)))\n",
    "\n",
    "\n",
    "def iszero_term():\n",
    "    x, n = Var(), Var()\n",
    "    n_ = Atom(n)\n",
    "    return Lambda(n, App(App(n_, Lambda(x, false_term())), true_term()))\n",
    "\n",
    "\n",
    "def leq_term():\n",
    "    n, m = Var(), Var()\n",
    "    n_, m_ = Atom(n), Atom(m)\n",
    "    return Lambda(\n",
    "        n, Lambda(m, App(iszero_term(), multi_app_term(subtract_term(), n_, m_)))\n",
    "    )\n",
    "\n",
    "\n",
    "def and_term():\n",
    "    a, b = Var(), Var()\n",
    "    a_, b_ = Atom(a), Atom(b)\n",
    "    return Lambda(a, Lambda(b, multi_app_term(ite_term(), a_, b_, a_)))\n",
    "\n",
    "\n",
    "def eq_term():\n",
    "    n, m = Var(), Var()\n",
    "    n_, m_ = Atom(n), Atom(m)\n",
    "    return Lambda(\n",
    "        n,\n",
    "        Lambda(\n",
    "            m,\n",
    "            multi_app_term(\n",
    "                and_term(),\n",
    "                multi_app_term(leq_term(), n_, m_),\n",
    "                multi_app_term(leq_term(), m_, n_),\n",
    "            ),\n",
    "        ),\n",
    "    )"
   ],
   "metadata": {
    "collapsed": false
   }
  },
  {
   "cell_type": "markdown",
   "source": [
    "# <span style=\"color: #A1F99C\">1.</span>\n",
    "<span style=\"color:#bb91f3\">(λx. (λy.y)) ((λx. (xx)) (λx. (xx)))</span> == <span style=\"color:#f1bd47\">I</span> == <span style=\"color:#f1bd47\">λx. x</span>\n",
    "<span style=\"color:#c9fafa\">This term reduce in one step by LO, RO strategy\n",
    "And reduce in the same terms with other strategy.</span>"
   ],
   "metadata": {
    "collapsed": false
   }
  },
  {
   "cell_type": "code",
   "execution_count": 4,
   "outputs": [
    {
     "name": "stdout",
     "output_type": "stream",
     "text": [
      "LO: 1_Y\n",
      "RI: 61_N\n",
      "RandOuter: 1_Y, 1_Y, 1_Y, 1_Y, 1_Y, 1_Y, 1_Y, 1_Y, 1_Y, 1_Y\n",
      "RandInner: 61_N, 61_N, 61_N, 61_N, 61_N, 61_N, 61_N, 61_N, 61_N, 61_N\n"
     ]
    }
   ],
   "source": [
    "def term_test_1():\n",
    "    x, y = Var(), Var()\n",
    "    x_, y_ = Atom(x), Atom(y)\n",
    "\n",
    "    return App(\n",
    "        Lambda(x, Lambda(y, y_)),\n",
    "        App(\n",
    "            Lambda(x, App(x_, x_)),\n",
    "            Lambda(x, App(x_, x_))\n",
    "        )\n",
    "    )\n",
    "\n",
    "\n",
    "test_procedure(term_test_1())"
   ],
   "metadata": {
    "collapsed": false
   }
  },
  {
   "cell_type": "markdown",
   "source": [
    "# <span style=\"color: #A1F99C\">2.</span>\n",
    "<span style=\"color:#bb91f3\">(ITE TRUE 3 1)</span> == <span style=\"color:#f1bd47>\">3</span> == <span style=\"color:#f1bd47\">λx. λy. (x (x (x y)))</span>"
   ],
   "metadata": {
    "collapsed": false
   }
  },
  {
   "cell_type": "code",
   "execution_count": 5,
   "outputs": [
    {
     "name": "stdout",
     "output_type": "stream",
     "text": [
      "LO: 5_Y\n",
      "RI: 5_Y\n",
      "RandOuter: 5_Y, 5_Y, 5_Y, 5_Y, 5_Y, 5_Y, 5_Y, 5_Y, 5_Y, 5_Y\n",
      "RandInner: 5_Y, 5_Y, 5_Y, 5_Y, 5_Y, 5_Y, 5_Y, 5_Y, 5_Y, 5_Y\n"
     ]
    }
   ],
   "source": [
    "def term_test_2():\n",
    "    return multi_app_term(ite_term(), true_term(), num_term(3), num_term(1))\n",
    "\n",
    "\n",
    "test_procedure(term_test_2())"
   ],
   "metadata": {
    "collapsed": false
   }
  },
  {
   "cell_type": "markdown",
   "source": [
    "# <span style=\"color: #A1F99C\">3.</span>\n",
    "<span style=\"color:#bb91f3\">(ITE FALSE 0 4)</span> == <span style=\"color:#f1bd47\">4</span> == <span style=\"color:#f1bd47\">λx. λy. (x (x (x (x y))))</span>"
   ],
   "metadata": {
    "collapsed": false
   }
  },
  {
   "cell_type": "code",
   "execution_count": 6,
   "outputs": [
    {
     "name": "stdout",
     "output_type": "stream",
     "text": [
      "LO: 5_Y\n",
      "RI: 5_Y\n",
      "RandOuter: 5_Y, 5_Y, 5_Y, 5_Y, 5_Y, 5_Y, 5_Y, 5_Y, 5_Y, 5_Y\n",
      "RandInner: 5_Y, 5_Y, 5_Y, 5_Y, 5_Y, 5_Y, 5_Y, 5_Y, 5_Y, 5_Y\n"
     ]
    }
   ],
   "source": [
    "def term_test_3():\n",
    "    return multi_app_term(ite_term(), false_term(), num_term(0), num_term(4))\n",
    "\n",
    "\n",
    "test_procedure(term_test_3())"
   ],
   "metadata": {
    "collapsed": false
   }
  },
  {
   "cell_type": "markdown",
   "source": [
    "# <span style=\"color: #A1F99C\">4.</span>\n",
    "<span style=\"color:#bb91f3\">(PRED 0)</span> == <span style=\"color:#f1bd47\">0</span> == <span style=\"color:#f1bd47\">λx. λy. y</span>"
   ],
   "metadata": {
    "collapsed": false
   }
  },
  {
   "cell_type": "code",
   "execution_count": 7,
   "outputs": [
    {
     "name": "stdout",
     "output_type": "stream",
     "text": [
      "LO: 4_Y\n",
      "RI: 4_Y\n",
      "RandOuter: 4_Y, 4_Y, 4_Y, 4_Y, 4_Y, 4_Y, 4_Y, 4_Y, 4_Y, 4_Y\n",
      "RandInner: 4_Y, 4_Y, 4_Y, 4_Y, 4_Y, 4_Y, 4_Y, 4_Y, 4_Y, 4_Y\n"
     ]
    }
   ],
   "source": [
    "def term_test_4():\n",
    "    return multi_app_term(pred_term(), num_term(0))\n",
    "\n",
    "\n",
    "test_procedure(term_test_4())"
   ],
   "metadata": {
    "collapsed": false
   }
  },
  {
   "cell_type": "markdown",
   "source": [
    "# <span style=\"color: #A1F99C\">5.</span>\n",
    "<span style=\"color:#bb91f3\">(PRED 5)</span> == <span style=\"color:#f1bd47\">4</span> == <span style=\"color:#f1bd47\">λx. λy. (x (x (x (x y))))</span>"
   ],
   "metadata": {
    "collapsed": false
   }
  },
  {
   "cell_type": "code",
   "execution_count": 8,
   "outputs": [
    {
     "name": "stdout",
     "output_type": "stream",
     "text": [
      "LO: 15_Y\n",
      "RI: 15_Y\n",
      "RandOuter: 15_Y, 15_Y, 15_Y, 15_Y, 15_Y, 15_Y, 15_Y, 15_Y, 15_Y, 15_Y\n",
      "RandInner: 18_Y, 22_Y, 18_Y, 16_Y, 17_Y, 18_Y, 16_Y, 18_Y, 15_Y, 15_Y\n"
     ]
    }
   ],
   "source": [
    "def term_test_5():\n",
    "    return multi_app_term(pred_term(), num_term(5))\n",
    "\n",
    "\n",
    "test_procedure(term_test_5())"
   ],
   "metadata": {
    "collapsed": false
   }
  },
  {
   "cell_type": "markdown",
   "source": [
    "# <span style=\"color: #A1F99C\">6.</span>\n",
    "<span style=\"color:#bb91f3\">(PLUS 0 0)</span> == <span style=\"color:#f1bd47\">0</span> == <span style=\"color:#f1bd47\">λx. λy. y</span>"
   ],
   "metadata": {
    "collapsed": false
   }
  },
  {
   "cell_type": "code",
   "execution_count": 9,
   "outputs": [
    {
     "name": "stdout",
     "output_type": "stream",
     "text": [
      "LO: 4_Y\n",
      "RI: 4_Y\n",
      "RandOuter: 4_Y, 4_Y, 4_Y, 4_Y, 4_Y, 4_Y, 4_Y, 4_Y, 4_Y, 4_Y\n",
      "RandInner: 4_Y, 4_Y, 4_Y, 4_Y, 4_Y, 4_Y, 4_Y, 4_Y, 4_Y, 4_Y\n"
     ]
    }
   ],
   "source": [
    "def term_test_6():\n",
    "    return multi_app_term(plus_term(), num_term(0), num_term(0))\n",
    "\n",
    "\n",
    "test_procedure(term_test_6())"
   ],
   "metadata": {
    "collapsed": false
   }
  },
  {
   "cell_type": "markdown",
   "source": [
    "# <span style=\"color: #A1F99C\">7.</span>\n",
    "<span style=\"color:#bb91f3\">(PLUS 2 3)</span> == <span style=\"color:#f1bd47\">5</span> == <span style=\"color:#f1bd47\">λx. λy. (x (x (x (x (x y)))))</span>"
   ],
   "metadata": {
    "collapsed": false
   }
  },
  {
   "cell_type": "code",
   "execution_count": 10,
   "outputs": [
    {
     "name": "stdout",
     "output_type": "stream",
     "text": [
      "LO: 13_Y\n",
      "RI: 13_Y\n",
      "RandOuter: 13_Y, 13_Y, 13_Y, 13_Y, 13_Y, 13_Y, 13_Y, 13_Y, 13_Y, 13_Y\n",
      "RandInner: 13_Y, 13_Y, 13_Y, 13_Y, 13_Y, 13_Y, 13_Y, 13_Y, 13_Y, 13_Y\n"
     ]
    }
   ],
   "source": [
    "def term_test_7():\n",
    "    return multi_app_term(plus_term(), num_term(2), num_term(3))\n",
    "\n",
    "\n",
    "test_procedure(term_test_7())"
   ],
   "metadata": {
    "collapsed": false
   }
  },
  {
   "cell_type": "markdown",
   "source": [
    "# <span style=\"color: #A1F99C\">8.</span>\n",
    "<span style=\"color:#bb91f3\">(SUBTRACT 4 1)</span> == <span style=\"color:#f1bd47\">3</span> == <span style=\"color:#f1bd47\">λx. λy. (x (x (x y)))</span>"
   ],
   "metadata": {
    "collapsed": false
   }
  },
  {
   "cell_type": "code",
   "execution_count": 11,
   "outputs": [
    {
     "name": "stdout",
     "output_type": "stream",
     "text": [
      "LO: 17_Y\n",
      "RI: 17_Y\n",
      "RandOuter: 17_Y, 17_Y, 17_Y, 17_Y, 17_Y, 17_Y, 17_Y, 17_Y, 17_Y, 17_Y\n",
      "RandInner: 17_Y, 17_Y, 17_Y, 17_Y, 17_Y, 17_Y, 17_Y, 18_Y, 17_Y, 17_Y\n"
     ]
    }
   ],
   "source": [
    "def term_test_8():\n",
    "    return multi_app_term(subtract_term(), num_term(4), num_term(1))\n",
    "\n",
    "\n",
    "test_procedure(term_test_8())"
   ],
   "metadata": {
    "collapsed": false
   }
  },
  {
   "cell_type": "markdown",
   "source": [
    "# <span style=\"color: #A1F99C\">9.</span>\n",
    "<span style=\"color:#bb91f3\">(SUBTRACT 3 5)</span> == <span style=\"color:#f1bd47\">0</span> == <span style=\"color:#f1bd47\">λx. λy. y</span>"
   ],
   "metadata": {
    "collapsed": false
   }
  },
  {
   "cell_type": "code",
   "execution_count": 12,
   "outputs": [
    {
     "name": "stdout",
     "output_type": "stream",
     "text": [
      "LO: 39_Y\n",
      "RI: 39_Y\n",
      "RandOuter: 39_Y, 39_Y, 39_Y, 39_Y, 39_Y, 39_Y, 39_Y, 39_Y, 39_Y, 39_Y\n",
      "RandInner: 39_Y, 39_Y, 39_Y, 39_Y, 39_Y, 39_Y, 39_Y, 39_Y, 39_Y, 39_Y\n"
     ]
    }
   ],
   "source": [
    "def term_test_9():\n",
    "    return multi_app_term(subtract_term(), num_term(3), num_term(5))\n",
    "\n",
    "\n",
    "test_procedure(term_test_9())"
   ],
   "metadata": {
    "collapsed": false
   }
  },
  {
   "cell_type": "markdown",
   "source": [
    "# <span style=\"color: #A1F99C\">10.</span>\n",
    "<span style=\"color:#bb91f3\">(LEQ 3 2)</span> == <span style=\"color:#f1bd47\">FALSE</span> == <span style=\"color:#f1bd47\">λx. λy. y</span>"
   ],
   "metadata": {
    "collapsed": false
   }
  },
  {
   "cell_type": "code",
   "execution_count": 13,
   "outputs": [
    {
     "name": "stdout",
     "output_type": "stream",
     "text": [
      "LO: 28_Y\n",
      "RI: 30_Y\n",
      "RandOuter: 28_Y, 28_Y, 28_Y, 28_Y, 28_Y, 28_Y, 28_Y, 28_Y, 28_Y, 28_Y\n",
      "RandInner: 30_Y, 30_Y, 30_Y, 30_Y, 30_Y, 30_Y, 30_Y, 30_Y, 30_Y, 30_Y\n"
     ]
    }
   ],
   "source": [
    "def term_test_10():\n",
    "    return multi_app_term(leq_term(), num_term(3), num_term(2))\n",
    "\n",
    "\n",
    "test_procedure(term_test_10())"
   ],
   "metadata": {
    "collapsed": false
   }
  },
  {
   "cell_type": "markdown",
   "source": [
    "# <span style=\"color: #A1F99C\">11.</span>\n",
    "<span style=\"color:#bb91f3\">(LEQ 2 5)</span> == <span style=\"color:#f1bd47\">TRUE</span> == <span style=\"color:#f1bd47\">λx. λy. x</span>"
   ],
   "metadata": {
    "collapsed": false
   }
  },
  {
   "cell_type": "code",
   "execution_count": 14,
   "outputs": [
    {
     "name": "stdout",
     "output_type": "stream",
     "text": [
      "LO: 37_Y\n",
      "RI: 37_Y\n",
      "RandOuter: 37_Y, 37_Y, 37_Y, 37_Y, 37_Y, 37_Y, 37_Y, 37_Y, 37_Y, 37_Y\n",
      "RandInner: 37_Y, 37_Y, 37_Y, 37_Y, 37_Y, 37_Y, 37_Y, 37_Y, 37_Y, 37_Y\n"
     ]
    }
   ],
   "source": [
    "def term_test_11():\n",
    "    return multi_app_term(leq_term(), num_term(2), num_term(5))\n",
    "\n",
    "\n",
    "test_procedure(term_test_11())"
   ],
   "metadata": {
    "collapsed": false
   }
  },
  {
   "cell_type": "markdown",
   "source": [
    "# <span style=\"color: #A1F99C\">12.</span>\n",
    "<span style=\"color:#bb91f3\">(EQ 2 2)</span> == <span style=\"color:#f1bd47\">TRUE</span> == <span style=\"color:#f1bd47\">λx. λy. x</span>"
   ],
   "metadata": {
    "collapsed": false
   }
  },
  {
   "cell_type": "code",
   "execution_count": 15,
   "outputs": [
    {
     "name": "stdout",
     "output_type": "stream",
     "text": [
      "LO: 59_Y\n",
      "RI: 79_Y\n",
      "RandOuter: 63_Y, 63_Y, 63_Y, 60_Y, 62_Y, 62_Y, 63_Y, 63_Y, 62_Y, 62_Y\n",
      "RandInner: 79_Y, 79_Y, 80_Y, 79_Y, 79_Y, 79_Y, 81_Y, 79_Y, 81_Y, 81_Y\n"
     ]
    }
   ],
   "source": [
    "def term_test_12():\n",
    "    return multi_app_term(eq_term(), num_term(2), num_term(2))\n",
    "\n",
    "\n",
    "test_procedure(term_test_12(), steps_lim=100)"
   ],
   "metadata": {
    "collapsed": false
   }
  },
  {
   "cell_type": "markdown",
   "source": [
    "# <span style=\"color: #A1F99C\">13.</span>\n",
    "<span style=\"color:#bb91f3\">(EQ 1 4)</span> == <span style=\"color:#f1bd47\">FALSE</span> == <span style=\"color:#f1bd47\">λx. λy. y</span>"
   ],
   "metadata": {
    "collapsed": false
   }
  },
  {
   "cell_type": "code",
   "execution_count": 16,
   "outputs": [
    {
     "name": "stdout",
     "output_type": "stream",
     "text": [
      "LO: 55_Y\n",
      "RI: 84_Y\n",
      "RandOuter: 61_Y, 59_Y, 59_Y, 60_Y, 61_Y, 61_Y, 61_Y, 57_Y, 56_Y, 59_Y\n",
      "RandInner: 84_Y, 86_Y, 92_Y, 86_Y, 87_Y, 84_Y, 84_Y, 84_Y, 84_Y, 90_Y\n"
     ]
    }
   ],
   "source": [
    "def term_test_13():\n",
    "    return multi_app_term(eq_term(), num_term(1), num_term(4))\n",
    "\n",
    "\n",
    "test_procedure(term_test_13(), steps_lim=100)"
   ],
   "metadata": {
    "collapsed": false
   }
  }
 ],
 "metadata": {
  "kernelspec": {
   "display_name": "Python 3",
   "language": "python",
   "name": "python3"
  },
  "language_info": {
   "codemirror_mode": {
    "name": "ipython",
    "version": 2
   },
   "file_extension": ".py",
   "mimetype": "text/x-python",
   "name": "python",
   "nbconvert_exporter": "python",
   "pygments_lexer": "ipython2",
   "version": "2.7.6"
  }
 },
 "nbformat": 4,
 "nbformat_minor": 0
}
