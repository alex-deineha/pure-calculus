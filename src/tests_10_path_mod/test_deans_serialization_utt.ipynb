{
 "cells": [
  {
   "cell_type": "code",
   "execution_count": 1,
   "metadata": {
    "collapsed": true
   },
   "outputs": [],
   "source": [
    "import sys\n",
    "\n",
    "sys.path.append(\"../\")\n",
    "from calculus_path_mod.term_engine import *\n",
    "from calculus_path_mod.reduction_strategy import *\n",
    "\n",
    "Lambda = Abstraction\n",
    "App = Application"
   ]
  },
  {
   "cell_type": "markdown",
   "source": [
    "# <span style=\"color: #A1F99C\">TEST PROCEDURE</span>"
   ],
   "metadata": {
    "collapsed": false
   }
  },
  {
   "cell_type": "code",
   "execution_count": 2,
   "outputs": [],
   "source": [
    "rs = RIStrategy()\n",
    "\n",
    "\n",
    "def test_procedure(term, reduction_strategy=rs, print_steps=True,\n",
    "                   steps_lim=60):\n",
    "    term = term._update_bound_vars()\n",
    "    n_steps = 0\n",
    "    is_term_normalized = True\n",
    "    if print_steps:\n",
    "        print(f\"{n_steps}: {term.funky_str()}\")\n",
    "    while term.redexes:\n",
    "        term = term._beta_conversion(reduction_strategy)\n",
    "        term = term._update_bound_vars()\n",
    "        n_steps += 1\n",
    "        if print_steps:\n",
    "            print(f\"{n_steps}: {term.funky_str()}\")\n",
    "        if n_steps > steps_lim:\n",
    "            is_term_normalized = False\n",
    "            break\n",
    "\n",
    "    print(f\"\\n\\nreduction steps: {n_steps}\")\n",
    "    print(f\"norm term:       {term.funky_str()}\" if is_term_normalized else f\"NOT norm term: {term.funky_str()}\")"
   ],
   "metadata": {
    "collapsed": false
   }
  },
  {
   "cell_type": "markdown",
   "source": [
    "# <span style=\"color: #A1F99C\">USEFUL TERMS</span>"
   ],
   "metadata": {
    "collapsed": false
   }
  },
  {
   "cell_type": "code",
   "execution_count": 3,
   "outputs": [],
   "source": [
    "def ite_term():\n",
    "    x, y, c = Var(), Var(), Var()\n",
    "    x_, y_, c_ = Atom(x), Atom(y), Atom(c)\n",
    "    return Lambda(c, Lambda(x, Lambda(y, multi_app_term(c_, x_, y_))))\n",
    "\n",
    "\n",
    "def true_term():\n",
    "    x, y = Var(), Var()\n",
    "    x_ = Atom(x)\n",
    "    return Lambda(x, Lambda(y, x_))\n",
    "\n",
    "\n",
    "def num_zero_term():\n",
    "    s, z = Var(), Var()\n",
    "    z_ = Atom(z)\n",
    "    return Lambda(s, Lambda(z, z_))\n",
    "\n",
    "\n",
    "def num_term(n: int):\n",
    "    if n <= 0:\n",
    "        return num_zero_term()\n",
    "    s, z = Var(), Var()\n",
    "    s_, z_ = Atom(s), Atom(z)\n",
    "    core_term = App(s_, z_)\n",
    "    for _ in range(n - 1):\n",
    "        core_term = App(s_, core_term)\n",
    "    return Lambda(s, Lambda(z, core_term))\n",
    "\n",
    "\n",
    "def multi_app_term(term_0: Term, term_1: Term, *terms: Term):\n",
    "    res_app_term = App(term_0, term_1)\n",
    "    for term in terms:\n",
    "        res_app_term = App(res_app_term, term)\n",
    "    return res_app_term\n",
    "\n",
    "\n",
    "def false_term():\n",
    "    x, y = Var(), Var()\n",
    "    y_ = Atom(y)\n",
    "    return Lambda(x, Lambda(y, y_))\n",
    "\n",
    "\n",
    "def pair_term():\n",
    "    x, y, p = Var(), Var(), Var()\n",
    "    x_, y_, p_ = Atom(x), Atom(y), Atom(p)\n",
    "    return Lambda(x, Lambda(y, Lambda(p, multi_app_term(p_, x_, y_))))\n",
    "\n",
    "\n",
    "def first_term():\n",
    "    p = Var()\n",
    "    p_ = Atom(p)\n",
    "    return Lambda(p, App(p_, true_term()))\n",
    "\n",
    "\n",
    "def second_term():\n",
    "    p = Var()\n",
    "    p_ = Atom(p)\n",
    "    return Lambda(p, App(p_, false_term()))\n",
    "\n",
    "\n",
    "def succ_term():\n",
    "    x, y, n = Var(), Var(), Var()\n",
    "    x_, y_, n_ = Atom(x), Atom(y), Atom(n)\n",
    "    return Lambda(n, Lambda(x, Lambda(y, App(x_, multi_app_term(n_, x_, y_)))))\n",
    "\n",
    "\n",
    "def sinc_term():\n",
    "    p = Var()\n",
    "    p_ = Atom(p)\n",
    "    return Lambda(\n",
    "        p,\n",
    "        multi_app_term(\n",
    "            pair_term(),\n",
    "            App(second_term(), p_),\n",
    "            App(succ_term(), App(second_term(), p_)),\n",
    "        ),\n",
    "    )\n",
    "\n",
    "\n",
    "def pred_term():\n",
    "    n, f, x, g, h, u = Var(), Var(), Var(), Var(), Var(), Var()\n",
    "    n_, f_, x_ = Atom(n), Atom(f), Atom(x)\n",
    "    g_, h_, u_ = Atom(g), Atom(h), Atom(u)\n",
    "\n",
    "    return Lambda(n, Lambda(f, Lambda(x, multi_app_term(\n",
    "        n_,\n",
    "        Lambda(g, Lambda(h, App(h_, App(g_, f_)))),\n",
    "        Lambda(u, x_),\n",
    "        Lambda(u, u_)\n",
    "    ))))\n",
    "\n",
    "\n",
    "def plus_term():\n",
    "    n, m = Var(), Var()\n",
    "    n_, m_ = Atom(n), Atom(m)\n",
    "    return Lambda(m, Lambda(n, multi_app_term(n_, succ_term(), m_)))\n",
    "\n",
    "\n",
    "def subtract_term():\n",
    "    n, m = Var(), Var()\n",
    "    n_, m_ = Atom(n), Atom(m)\n",
    "    return Lambda(n, Lambda(m, multi_app_term(m_, pred_term(), n_)))\n",
    "\n",
    "\n",
    "def iszero_term():\n",
    "    x, n = Var(), Var()\n",
    "    n_ = Atom(n)\n",
    "    return Lambda(n, App(App(n_, Lambda(x, false_term())), true_term()))\n",
    "\n",
    "\n",
    "def leq_term():\n",
    "    n, m = Var(), Var()\n",
    "    n_, m_ = Atom(n), Atom(m)\n",
    "    return Lambda(\n",
    "        n, Lambda(m, App(iszero_term(), multi_app_term(subtract_term(), n_, m_)))\n",
    "    )\n",
    "\n",
    "\n",
    "def and_term():\n",
    "    a, b = Var(), Var()\n",
    "    a_, b_ = Atom(a), Atom(b)\n",
    "    return Lambda(a, Lambda(b, multi_app_term(ite_term(), a_, b_, a_)))\n",
    "\n",
    "\n",
    "def eq_term():\n",
    "    n, m = Var(), Var()\n",
    "    n_, m_ = Atom(n), Atom(m)\n",
    "    return Lambda(\n",
    "        n,\n",
    "        Lambda(\n",
    "            m,\n",
    "            multi_app_term(\n",
    "                and_term(),\n",
    "                multi_app_term(leq_term(), n_, m_),\n",
    "                multi_app_term(leq_term(), m_, n_),\n",
    "            ),\n",
    "        ),\n",
    "    )"
   ],
   "metadata": {
    "collapsed": false
   }
  },
  {
   "cell_type": "markdown",
   "source": [
    "# <span style=\"color: #A1F99C\">1.</span>\n",
    "<span style=\"color:#bb91f3\">(λx. (λy.y)) ((λx. (xx)) (λx. (xx)))</span> == <span style=\"color:#f1bd47\">I</span> == <span style=\"color:#f1bd47\">λx. x</span>\n",
    "<span style=\"color:#c9fafa\">This term reduce in one step by LO, RO strategy\n",
    "And reduce in the same terms with other strategy.</span>"
   ],
   "metadata": {
    "collapsed": false
   }
  },
  {
   "cell_type": "code",
   "execution_count": 4,
   "outputs": [
    {
     "name": "stdout",
     "output_type": "stream",
     "text": [
      "0: ((λx.(λy.y)) ((λa.(a a)) (λb.(b b))))\n",
      "1: ((λa.(λb.b)) ((λx.(x x)) (λy.(y y))))\n",
      "2: ((λx.(λy.y)) ((λa.(a a)) (λb.(b b))))\n",
      "3: ((λa.(λb.b)) ((λx.(x x)) (λy.(y y))))\n",
      "4: ((λx.(λy.y)) ((λa.(a a)) (λb.(b b))))\n",
      "5: ((λa.(λb.b)) ((λx.(x x)) (λy.(y y))))\n",
      "6: ((λx.(λy.y)) ((λa.(a a)) (λb.(b b))))\n",
      "7: ((λa.(λb.b)) ((λx.(x x)) (λy.(y y))))\n",
      "8: ((λx.(λy.y)) ((λa.(a a)) (λb.(b b))))\n",
      "9: ((λa.(λb.b)) ((λx.(x x)) (λy.(y y))))\n",
      "10: ((λx.(λy.y)) ((λa.(a a)) (λb.(b b))))\n",
      "11: ((λa.(λb.b)) ((λx.(x x)) (λy.(y y))))\n",
      "12: ((λx.(λy.y)) ((λa.(a a)) (λb.(b b))))\n",
      "13: ((λa.(λb.b)) ((λx.(x x)) (λy.(y y))))\n",
      "14: ((λx.(λy.y)) ((λa.(a a)) (λb.(b b))))\n",
      "15: ((λa.(λb.b)) ((λx.(x x)) (λy.(y y))))\n",
      "16: ((λx.(λy.y)) ((λa.(a a)) (λb.(b b))))\n",
      "17: ((λa.(λb.b)) ((λx.(x x)) (λy.(y y))))\n",
      "18: ((λx.(λy.y)) ((λa.(a a)) (λb.(b b))))\n",
      "19: ((λa.(λb.b)) ((λx.(x x)) (λy.(y y))))\n",
      "20: ((λx.(λy.y)) ((λa.(a a)) (λb.(b b))))\n",
      "21: ((λa.(λb.b)) ((λx.(x x)) (λy.(y y))))\n",
      "22: ((λx.(λy.y)) ((λa.(a a)) (λb.(b b))))\n",
      "23: ((λa.(λb.b)) ((λx.(x x)) (λy.(y y))))\n",
      "24: ((λx.(λy.y)) ((λa.(a a)) (λb.(b b))))\n",
      "25: ((λa.(λb.b)) ((λx.(x x)) (λy.(y y))))\n",
      "26: ((λx.(λy.y)) ((λa.(a a)) (λb.(b b))))\n",
      "27: ((λa.(λb.b)) ((λx.(x x)) (λy.(y y))))\n",
      "28: ((λx.(λy.y)) ((λa.(a a)) (λb.(b b))))\n",
      "29: ((λa.(λb.b)) ((λx.(x x)) (λy.(y y))))\n",
      "30: ((λx.(λy.y)) ((λa.(a a)) (λb.(b b))))\n",
      "31: ((λa.(λb.b)) ((λx.(x x)) (λy.(y y))))\n",
      "32: ((λx.(λy.y)) ((λa.(a a)) (λb.(b b))))\n",
      "33: ((λa.(λb.b)) ((λx.(x x)) (λy.(y y))))\n",
      "34: ((λx.(λy.y)) ((λa.(a a)) (λb.(b b))))\n",
      "35: ((λa.(λb.b)) ((λx.(x x)) (λy.(y y))))\n",
      "36: ((λx.(λy.y)) ((λa.(a a)) (λb.(b b))))\n",
      "37: ((λa.(λb.b)) ((λx.(x x)) (λy.(y y))))\n",
      "38: ((λx.(λy.y)) ((λa.(a a)) (λb.(b b))))\n",
      "39: ((λa.(λb.b)) ((λx.(x x)) (λy.(y y))))\n",
      "40: ((λx.(λy.y)) ((λa.(a a)) (λb.(b b))))\n",
      "41: ((λa.(λb.b)) ((λx.(x x)) (λy.(y y))))\n",
      "42: ((λx.(λy.y)) ((λa.(a a)) (λb.(b b))))\n",
      "43: ((λa.(λb.b)) ((λx.(x x)) (λy.(y y))))\n",
      "44: ((λx.(λy.y)) ((λa.(a a)) (λb.(b b))))\n",
      "45: ((λa.(λb.b)) ((λx.(x x)) (λy.(y y))))\n",
      "46: ((λx.(λy.y)) ((λa.(a a)) (λb.(b b))))\n",
      "47: ((λa.(λb.b)) ((λx.(x x)) (λy.(y y))))\n",
      "48: ((λx.(λy.y)) ((λa.(a a)) (λb.(b b))))\n",
      "49: ((λa.(λb.b)) ((λx.(x x)) (λy.(y y))))\n",
      "50: ((λx.(λy.y)) ((λa.(a a)) (λb.(b b))))\n",
      "51: ((λa.(λb.b)) ((λx.(x x)) (λy.(y y))))\n",
      "52: ((λx.(λy.y)) ((λa.(a a)) (λb.(b b))))\n",
      "53: ((λa.(λb.b)) ((λx.(x x)) (λy.(y y))))\n",
      "54: ((λx.(λy.y)) ((λa.(a a)) (λb.(b b))))\n",
      "55: ((λa.(λb.b)) ((λx.(x x)) (λy.(y y))))\n",
      "56: ((λx.(λy.y)) ((λa.(a a)) (λb.(b b))))\n",
      "57: ((λa.(λb.b)) ((λx.(x x)) (λy.(y y))))\n",
      "58: ((λx.(λy.y)) ((λa.(a a)) (λb.(b b))))\n",
      "59: ((λa.(λb.b)) ((λx.(x x)) (λy.(y y))))\n",
      "60: ((λx.(λy.y)) ((λa.(a a)) (λb.(b b))))\n",
      "61: ((λa.(λb.b)) ((λx.(x x)) (λy.(y y))))\n",
      "\n",
      "\n",
      "reduction steps: 61\n",
      "NOT norm term: ((λa.(λb.b)) ((λx.(x x)) (λy.(y y))))\n"
     ]
    }
   ],
   "source": [
    "def term_test_1():\n",
    "    x, y = Var(), Var()\n",
    "    x_, y_ = Atom(x), Atom(y)\n",
    "\n",
    "    return App(\n",
    "        Lambda(x, Lambda(y, y_)),\n",
    "        App(\n",
    "            Lambda(x, App(x_, x_)),\n",
    "            Lambda(x, App(x_, x_))\n",
    "        )\n",
    "    )\n",
    "\n",
    "\n",
    "test_procedure(term_test_1())"
   ],
   "metadata": {
    "collapsed": false
   }
  },
  {
   "cell_type": "markdown",
   "source": [
    "# <span style=\"color: #A1F99C\">2.</span>\n",
    "<span style=\"color:#bb91f3\">(ITE TRUE 3 1)</span> == <span style=\"color:#f1bd47>\">3</span> == <span style=\"color:#f1bd47\">λx. λy. (x (x (x y)))</span>"
   ],
   "metadata": {
    "collapsed": false
   }
  },
  {
   "cell_type": "code",
   "execution_count": 5,
   "outputs": [
    {
     "name": "stdout",
     "output_type": "stream",
     "text": [
      "0: ((((λx.(λy.(λa.((x y) a)))) (λb.(λc.b))) (λd.(λe.(d (d (d e)))))) (λj.(λi.(j i))))\n",
      "1: (((λx.(λy.(((λa.(λb.a)) x) y))) (λc.(λd.(c (c (c d)))))) (λe.(λj.(e j))))\n",
      "2: (((λx.(λy.((λa.x) y))) (λb.(λc.(b (b (b c)))))) (λd.(λe.(d e))))\n",
      "3: (((λy.(λa.y)) (λb.(λc.(b (b (b c)))))) (λd.(λx.(d x))))\n",
      "4: ((λx.(λy.(λa.(y (y (y a)))))) (λb.(λc.(b c))))\n",
      "5: (λx.(λy.(x (x (x y)))))\n",
      "\n",
      "\n",
      "reduction steps: 5\n",
      "norm term:       (λx.(λy.(x (x (x y)))))\n"
     ]
    }
   ],
   "source": [
    "def term_test_2():\n",
    "    return multi_app_term(ite_term(), true_term(), num_term(3), num_term(1))\n",
    "\n",
    "\n",
    "test_procedure(term_test_2())"
   ],
   "metadata": {
    "collapsed": false
   }
  },
  {
   "cell_type": "markdown",
   "source": [
    "# <span style=\"color: #A1F99C\">3.</span>\n",
    "<span style=\"color:#bb91f3\">(ITE FALSE 0 4)</span> == <span style=\"color:#f1bd47\">4</span> == <span style=\"color:#f1bd47\">λx. λy. (x (x (x (x y))))</span>"
   ],
   "metadata": {
    "collapsed": false
   }
  },
  {
   "cell_type": "code",
   "execution_count": 6,
   "outputs": [
    {
     "name": "stdout",
     "output_type": "stream",
     "text": [
      "0: ((((λx.(λy.(λa.((x y) a)))) (λb.(λc.c))) (λd.(λe.e))) (λj.(λi.(j (j (j (j i)))))))\n",
      "1: (((λa.(λb.(((λc.(λd.d)) a) b))) (λe.(λj.j))) (λx.(λy.(x (x (x (x y)))))))\n",
      "2: (((λx.(λy.((λa.a) y))) (λb.(λc.c))) (λd.(λe.(d (d (d (d e)))))))\n",
      "3: (((λx.(λy.y)) (λa.(λb.b))) (λc.(λd.(c (c (c (c d)))))))\n",
      "4: ((λa.a) (λx.(λy.(x (x (x (x y)))))))\n",
      "5: (λx.(λy.(x (x (x (x y))))))\n",
      "\n",
      "\n",
      "reduction steps: 5\n",
      "norm term:       (λx.(λy.(x (x (x (x y))))))\n"
     ]
    }
   ],
   "source": [
    "def term_test_3():\n",
    "    return multi_app_term(ite_term(), false_term(), num_term(0), num_term(4))\n",
    "\n",
    "\n",
    "test_procedure(term_test_3())"
   ],
   "metadata": {
    "collapsed": false
   }
  },
  {
   "cell_type": "markdown",
   "source": [
    "# <span style=\"color: #A1F99C\">4.</span>\n",
    "<span style=\"color:#bb91f3\">(PRED 0)</span> == <span style=\"color:#f1bd47\">0</span> == <span style=\"color:#f1bd47\">λx. λy. y</span>"
   ],
   "metadata": {
    "collapsed": false
   }
  },
  {
   "cell_type": "code",
   "execution_count": 7,
   "outputs": [
    {
     "name": "stdout",
     "output_type": "stream",
     "text": [
      "0: ((λd.(λe.(λj.(((d (λi.(λx.(x (i e))))) (λy.j)) (λa.a))))) (λb.(λc.c)))\n",
      "1: (λx.(λy.((((λa.(λb.b)) (λc.(λd.(d (c x))))) (λe.y)) (λj.j))))\n",
      "2: (λx.(λy.(((λa.a) (λb.y)) (λc.c))))\n",
      "3: (λx.(λy.((λa.y) (λb.b))))\n",
      "4: (λx.(λy.y))\n",
      "\n",
      "\n",
      "reduction steps: 4\n",
      "norm term:       (λx.(λy.y))\n"
     ]
    }
   ],
   "source": [
    "def term_test_4():\n",
    "    return multi_app_term(pred_term(), num_term(0))\n",
    "\n",
    "\n",
    "test_procedure(term_test_4())"
   ],
   "metadata": {
    "collapsed": false
   }
  },
  {
   "cell_type": "markdown",
   "source": [
    "# <span style=\"color: #A1F99C\">5.</span>\n",
    "<span style=\"color:#bb91f3\">(PRED 5)</span> == <span style=\"color:#f1bd47\">4</span> == <span style=\"color:#f1bd47\">λx. λy. (x (x (x (x y))))</span>"
   ],
   "metadata": {
    "collapsed": false
   }
  },
  {
   "cell_type": "code",
   "execution_count": 8,
   "outputs": [
    {
     "name": "stdout",
     "output_type": "stream",
     "text": [
      "0: ((λx.(λy.(λa.(((x (λb.(λc.(c (b y))))) (λd.a)) (λe.e))))) (λj.(λi.(j (j (j (j (j i))))))))\n",
      "1: (λx.(λy.((((λa.(λb.(a (a (a (a (a b))))))) (λc.(λd.(d (c x))))) (λe.y)) (λj.j))))\n",
      "2: (λx.(λy.(((λa.((λb.(λc.(c (b x)))) ((λd.(λe.(e (d x)))) ((λj.(λi.(i (j x)))) ((λn.(λm.(m (n x)))) ((λt.(λr.(r (t x)))) a)))))) (λq.y)) (λw.w))))\n",
      "3: (λx.(λy.(((λa.((λb.(λc.(c (b x)))) ((λd.(λe.(e (d x)))) ((λj.(λi.(i (j x)))) ((λn.(λm.(m (n x)))) (λt.(t (a x)))))))) (λr.y)) (λq.q))))\n",
      "4: (λx.(λy.(((λa.((λb.(λc.(c (b x)))) ((λd.(λe.(e (d x)))) ((λj.(λi.(i (j x)))) (λn.(n ((λm.(m (a x))) x))))))) (λt.y)) (λr.r))))\n",
      "5: (λj.(λi.(((λn.((λm.(λt.(t (m j)))) ((λx.(λy.(y (x j)))) ((λa.(λb.(b (a j)))) (λc.(c (j (n j)))))))) (λd.i)) (λe.e))))\n",
      "6: (λx.(λy.(((λa.((λb.(λc.(c (b x)))) ((λd.(λe.(e (d x)))) (λj.(j ((λi.(i (x (a x)))) x)))))) (λn.y)) (λm.m))))\n",
      "7: (λx.(λy.(((λa.((λb.(λc.(c (b x)))) ((λd.(λe.(e (d x)))) (λj.(j (x (x (a x)))))))) (λi.y)) (λn.n))))\n",
      "8: (λd.(λe.(((λj.((λi.(λx.(x (i d)))) (λy.(y ((λa.(a (d (d (j d))))) d))))) (λb.e)) (λc.c))))\n",
      "9: (λx.(λy.(((λa.((λb.(λc.(c (b x)))) (λd.(d (x (x (x (a x)))))))) (λe.y)) (λj.j))))\n",
      "10: (λx.(λy.(((λa.(λb.(b ((λc.(c (x (x (x (a x)))))) x)))) (λd.y)) (λe.e))))\n",
      "11: (λx.(λy.(((λa.(λb.(b (x (x (x (x (a x)))))))) (λc.y)) (λd.d))))\n",
      "12: (λx.(λy.((λa.(a (x (x (x (x ((λb.y) x))))))) (λc.c))))\n",
      "13: (λb.(λx.((λy.(y (b (b (b (b x)))))) (λa.a))))\n",
      "14: (λx.(λy.((λa.a) (x (x (x (x y)))))))\n",
      "15: (λx.(λy.(x (x (x (x y))))))\n",
      "\n",
      "\n",
      "reduction steps: 15\n",
      "norm term:       (λx.(λy.(x (x (x (x y))))))\n"
     ]
    }
   ],
   "source": [
    "def term_test_5():\n",
    "    return multi_app_term(pred_term(), num_term(5))\n",
    "\n",
    "\n",
    "test_procedure(term_test_5())"
   ],
   "metadata": {
    "collapsed": false
   }
  },
  {
   "cell_type": "markdown",
   "source": [
    "# <span style=\"color: #A1F99C\">6.</span>\n",
    "<span style=\"color:#bb91f3\">(PLUS 0 0)</span> == <span style=\"color:#f1bd47\">0</span> == <span style=\"color:#f1bd47\">λx. λy. y</span>"
   ],
   "metadata": {
    "collapsed": false
   }
  },
  {
   "cell_type": "code",
   "execution_count": 9,
   "outputs": [
    {
     "name": "stdout",
     "output_type": "stream",
     "text": [
      "0: (((λx.(λy.((y (λa.(λb.(λc.(b ((a b) c)))))) x))) (λd.(λe.e))) (λj.(λi.i)))\n",
      "1: ((λa.((a (λb.(λc.(λd.(c ((b c) d)))))) (λe.(λj.j)))) (λx.(λy.y)))\n",
      "2: (((λx.(λy.y)) (λa.(λb.(λc.(b ((a b) c)))))) (λd.(λe.e)))\n",
      "3: ((λx.x) (λy.(λa.a)))\n",
      "4: (λx.(λy.y))\n",
      "\n",
      "\n",
      "reduction steps: 4\n",
      "norm term:       (λx.(λy.y))\n"
     ]
    }
   ],
   "source": [
    "def term_test_6():\n",
    "    return multi_app_term(plus_term(), num_term(0), num_term(0))\n",
    "\n",
    "\n",
    "test_procedure(term_test_6())"
   ],
   "metadata": {
    "collapsed": false
   }
  },
  {
   "cell_type": "markdown",
   "source": [
    "# <span style=\"color: #A1F99C\">7.</span>\n",
    "<span style=\"color:#bb91f3\">(PLUS 2 3)</span> == <span style=\"color:#f1bd47\">5</span> == <span style=\"color:#f1bd47\">λx. λy. (x (x (x (x (x y)))))</span>"
   ],
   "metadata": {
    "collapsed": false
   }
  },
  {
   "cell_type": "code",
   "execution_count": 10,
   "outputs": [
    {
     "name": "stdout",
     "output_type": "stream",
     "text": [
      "0: (((λx.(λy.((y (λa.(λb.(λc.(b ((a b) c)))))) x))) (λd.(λe.(d (d e))))) (λj.(λi.(j (j (j i))))))\n",
      "1: ((λx.((x (λy.(λa.(λb.(a ((y a) b)))))) (λc.(λd.(c (c d)))))) (λe.(λj.(e (e (e j))))))\n",
      "2: (((λx.(λy.(x (x (x y))))) (λa.(λb.(λc.(b ((a b) c)))))) (λd.(λe.(d (d e)))))\n",
      "3: ((λx.((λy.(λa.(λb.(a ((y a) b))))) ((λc.(λd.(λe.(d ((c d) e))))) ((λj.(λi.(λn.(i ((j i) n))))) x)))) (λm.(λt.(m (m t)))))\n",
      "4: ((λe.((λj.(λi.(λn.(i ((j i) n))))) ((λm.(λx.(λy.(x ((m x) y))))) (λa.(λb.(a ((e a) b))))))) (λc.(λd.(c (c d)))))\n",
      "5: ((λx.((λy.(λa.(λb.(a ((y a) b))))) (λc.(λd.(c (((λe.(λj.(e ((x e) j)))) c) d)))))) (λi.(λn.(i (i n)))))\n",
      "6: ((λx.((λy.(λa.(λb.(a ((y a) b))))) (λc.(λd.(c ((λe.(c ((x c) e))) d)))))) (λj.(λi.(j (j i)))))\n",
      "7: ((λy.((λa.(λb.(λc.(b ((a b) c))))) (λd.(λe.(d (d ((y d) e))))))) (λj.(λx.(j (j x)))))\n",
      "8: ((λx.(λy.(λa.(y (((λb.(λc.(b (b ((x b) c))))) y) a))))) (λd.(λe.(d (d e)))))\n",
      "9: ((λx.(λy.(λa.(y ((λb.(y (y ((x y) b)))) a))))) (λc.(λd.(c (c d)))))\n",
      "10: ((λx.(λy.(λa.(y (y (y ((x y) a))))))) (λb.(λc.(b (b c)))))\n",
      "11: (λx.(λy.(x (x (x (((λa.(λb.(a (a b)))) x) y))))))\n",
      "12: (λa.(λx.(a (a (a ((λy.(a (a y))) x))))))\n",
      "13: (λx.(λy.(x (x (x (x (x y)))))))\n",
      "\n",
      "\n",
      "reduction steps: 13\n",
      "norm term:       (λx.(λy.(x (x (x (x (x y)))))))\n"
     ]
    }
   ],
   "source": [
    "def term_test_7():\n",
    "    return multi_app_term(plus_term(), num_term(2), num_term(3))\n",
    "\n",
    "\n",
    "test_procedure(term_test_7())"
   ],
   "metadata": {
    "collapsed": false
   }
  },
  {
   "cell_type": "markdown",
   "source": [
    "# <span style=\"color: #A1F99C\">8.</span>\n",
    "<span style=\"color:#bb91f3\">(SUBTRACT 4 1)</span> == <span style=\"color:#f1bd47\">3</span> == <span style=\"color:#f1bd47\">λx. λy. (x (x (x y)))</span>"
   ],
   "metadata": {
    "collapsed": false
   }
  },
  {
   "cell_type": "code",
   "execution_count": 11,
   "outputs": [
    {
     "name": "stdout",
     "output_type": "stream",
     "text": [
      "0: (((λx.(λy.((y (λa.(λb.(λc.(((a (λd.(λe.(e (d b))))) (λj.c)) (λi.i)))))) x))) (λn.(λm.(n (n (n (n m))))))) (λt.(λr.(t r))))\n",
      "1: ((λy.((y (λa.(λb.(λc.(((a (λd.(λe.(e (d b))))) (λj.c)) (λi.i)))))) (λn.(λm.(n (n (n (n m)))))))) (λt.(λx.(t x))))\n",
      "2: (((λx.(λy.(x y))) (λa.(λb.(λc.(((a (λd.(λe.(e (d b))))) (λj.c)) (λi.i)))))) (λn.(λm.(n (n (n (n m)))))))\n",
      "3: ((λx.((λy.(λa.(λb.(((y (λc.(λd.(d (c a))))) (λe.b)) (λj.j))))) x)) (λi.(λn.(i (i (i (i n)))))))\n",
      "4: ((λx.(λy.(λa.(((x (λb.(λc.(c (b y))))) (λd.a)) (λe.e))))) (λj.(λi.(j (j (j (j i)))))))\n",
      "5: (λj.(λx.((((λy.(λa.(y (y (y (y a)))))) (λb.(λc.(c (b j))))) (λd.x)) (λe.e))))\n",
      "6: (λx.(λy.(((λa.((λb.(λc.(c (b x)))) ((λd.(λe.(e (d x)))) ((λj.(λi.(i (j x)))) ((λn.(λm.(m (n x)))) a))))) (λt.y)) (λr.r))))\n",
      "7: (λx.(λy.(((λa.((λb.(λc.(c (b x)))) ((λd.(λe.(e (d x)))) ((λj.(λi.(i (j x)))) (λn.(n (a x))))))) (λm.y)) (λt.t))))\n",
      "8: (λx.(λy.(((λa.((λb.(λc.(c (b x)))) ((λd.(λe.(e (d x)))) (λj.(j ((λi.(i (a x))) x)))))) (λn.y)) (λm.m))))\n",
      "9: (λx.(λy.(((λa.((λb.(λc.(c (b x)))) ((λd.(λe.(e (d x)))) (λj.(j (x (a x))))))) (λi.y)) (λn.n))))\n",
      "10: (λx.(λy.(((λa.((λb.(λc.(c (b x)))) (λd.(d ((λe.(e (x (a x)))) x))))) (λj.y)) (λi.i))))\n",
      "11: (λe.(λj.(((λx.((λy.(λa.(a (y e)))) (λb.(b (e (e (x e))))))) (λc.j)) (λd.d))))\n",
      "12: (λx.(λy.(((λa.(λb.(b ((λc.(c (x (x (a x))))) x)))) (λd.y)) (λe.e))))\n",
      "13: (λx.(λy.(((λa.(λb.(b (x (x (x (a x))))))) (λc.y)) (λd.d))))\n",
      "14: (λx.(λy.((λa.(a (x (x (x ((λb.y) x)))))) (λc.c))))\n",
      "15: (λx.(λy.((λa.(a (x (x (x y))))) (λb.b))))\n",
      "16: (λx.(λy.((λa.a) (x (x (x y))))))\n",
      "17: (λy.(λx.(y (y (y x)))))\n",
      "\n",
      "\n",
      "reduction steps: 17\n",
      "norm term:       (λy.(λx.(y (y (y x)))))\n"
     ]
    }
   ],
   "source": [
    "def term_test_8():\n",
    "    return multi_app_term(subtract_term(), num_term(4), num_term(1))\n",
    "\n",
    "\n",
    "test_procedure(term_test_8())"
   ],
   "metadata": {
    "collapsed": false
   }
  },
  {
   "cell_type": "markdown",
   "source": [
    "# <span style=\"color: #A1F99C\">9.</span>\n",
    "<span style=\"color:#bb91f3\">(SUBTRACT 3 5)</span> == <span style=\"color:#f1bd47\">0</span> == <span style=\"color:#f1bd47\">λx. λy. y</span>"
   ],
   "metadata": {
    "collapsed": false
   }
  },
  {
   "cell_type": "code",
   "execution_count": 12,
   "outputs": [
    {
     "name": "stdout",
     "output_type": "stream",
     "text": [
      "0: (((λx.(λy.((y (λa.(λb.(λc.(((a (λd.(λe.(e (d b))))) (λj.c)) (λi.i)))))) x))) (λn.(λm.(n (n (n m)))))) (λt.(λr.(t (t (t (t (t r))))))))\n",
      "1: ((λe.((e (λj.(λi.(λn.(((j (λm.(λt.(t (m i))))) (λx.n)) (λy.y)))))) (λa.(λb.(a (a (a b))))))) (λc.(λd.(c (c (c (c (c d))))))))\n",
      "2: (((λx.(λy.(x (x (x (x (x y))))))) (λa.(λb.(λc.(((a (λd.(λe.(e (d b))))) (λj.c)) (λi.i)))))) (λn.(λm.(n (n (n m))))))\n",
      "3: ((λl.((λz.(λv.(λx_1.(((z (λy_1.(λa_1.(a_1 (y_1 v))))) (λb_1.x_1)) (λc_1.c_1))))) ((λd_1.(λe_1.(λj_1.(((d_1 (λi_1.(λn_1.(n_1 (i_1 e_1))))) (λm_1.j_1)) (λt_1.t_1))))) ((λx.(λy.(λa.(((x (λb.(λc.(c (b y))))) (λd.a)) (λe.e))))) ((λj.(λi.(λn.(((j (λm.(λt.(t (m i))))) (λr.n)) (λq.q))))) ((λw.(λu.(λo.(((w (λp.(λs.(s (p u))))) (λf.o)) (λg.g))))) l)))))) (λh.(λk.(h (h (h k))))))\n",
      "4: ((λx.((λy.(λa.(λb.(((y (λc.(λd.(d (c a))))) (λe.b)) (λj.j))))) ((λi.(λn.(λm.(((i (λt.(λr.(r (t n))))) (λq.m)) (λw.w))))) ((λu.(λo.(λp.(((u (λs.(λf.(f (s o))))) (λg.p)) (λh.h))))) ((λk.(λl.(λz.(((k (λv.(λx_1.(x_1 (v l))))) (λy_1.z)) (λa_1.a_1))))) (λb_1.(λc_1.(((x (λd_1.(λe_1.(e_1 (d_1 b_1))))) (λj_1.c_1)) (λi_1.i_1))))))))) (λn_1.(λm_1.(n_1 (n_1 (n_1 m_1))))))\n",
      "5: ((λx.((λy.(λa.(λb.(((y (λc.(λd.(d (c a))))) (λe.b)) (λj.j))))) ((λi.(λn.(λm.(((i (λt.(λr.(r (t n))))) (λq.m)) (λw.w))))) ((λu.(λo.(λp.(((u (λs.(λf.(f (s o))))) (λg.p)) (λh.h))))) (λk.(λl.((((λz.(λv.(((x (λx_1.(λy_1.(y_1 (x_1 z))))) (λa_1.v)) (λb_1.b_1)))) (λc_1.(λd_1.(d_1 (c_1 k))))) (λe_1.l)) (λj_1.j_1)))))))) (λi_1.(λn_1.(i_1 (i_1 (i_1 n_1))))))\n",
      "6: ((λb.((λc.(λd.(λe.(((c (λj.(λi.(i (j d))))) (λn.e)) (λm.m))))) ((λt.(λr.(λq.(((t (λw.(λu.(u (w r))))) (λo.q)) (λp.p))))) ((λs.(λf.(λg.(((s (λh.(λk.(k (h f))))) (λl.g)) (λz.z))))) (λv.(λx_1.(((λy_1.(((b (λa_1.(λb_1.(b_1 (a_1 (λc_1.(λd_1.(d_1 (c_1 v))))))))) (λe_1.y_1)) (λj_1.j_1))) (λi_1.x_1)) (λx.x)))))))) (λy.(λa.(y (y (y a))))))\n",
      "7: ((λx.((λy.(λa.(λb.(((y (λc.(λd.(d (c a))))) (λe.b)) (λj.j))))) ((λi.(λn.(λm.(((i (λt.(λr.(r (t n))))) (λq.m)) (λw.w))))) ((λu.(λo.(λp.(((u (λs.(λf.(f (s o))))) (λg.p)) (λh.h))))) (λk.(λl.((((x (λz.(λv.(v (z (λx_1.(λy_1.(y_1 (x_1 k))))))))) (λa_1.(λb_1.l))) (λc_1.c_1)) (λd_1.d_1)))))))) (λe_1.(λj_1.(e_1 (e_1 (e_1 j_1))))))\n",
      "8: ((λx.((λy.(λa.(λb.(((y (λc.(λd.(d (c a))))) (λe.b)) (λj.j))))) ((λi.(λn.(λm.(((i (λt.(λr.(r (t n))))) (λq.m)) (λw.w))))) (λu.(λo.((((λp.(λs.((((x (λf.(λg.(g (f (λh.(λk.(k (h p))))))))) (λl.(λz.s))) (λv.v)) (λx_1.x_1)))) (λy_1.(λa_1.(a_1 (y_1 u))))) (λb_1.o)) (λc_1.c_1))))))) (λd_1.(λe_1.(d_1 (d_1 (d_1 e_1))))))\n",
      "9: ((λx.((λy.(λa.(λb.(((y (λc.(λd.(d (c a))))) (λe.b)) (λj.j))))) ((λi.(λn.(λm.(((i (λt.(λr.(r (t n))))) (λq.m)) (λw.w))))) (λu.(λo.(((λp.((((x (λs.(λf.(f (s (λg.(λh.(h (g (λk.(λl.(l (k u))))))))))))) (λz.(λv.p))) (λx_1.x_1)) (λy_1.y_1))) (λa_1.o)) (λb_1.b_1))))))) (λc_1.(λd_1.(c_1 (c_1 (c_1 d_1))))))\n",
      "10: ((λd.((λe.(λj.(λi.(((e (λn.(λm.(m (n j))))) (λt.i)) (λr.r))))) ((λq.(λw.(λu.(((q (λo.(λp.(p (o w))))) (λs.u)) (λf.f))))) (λg.(λh.(((((d (λk.(λl.(l (k (λz.(λv.(v (z (λx_1.(λy_1.(y_1 (x_1 g))))))))))))) (λa_1.(λb_1.(λc_1.h)))) (λx.x)) (λy.y)) (λa.a))))))) (λb.(λc.(b (b (b c))))))\n",
      "11: ((λx.((λy.(λa.(λb.(((y (λc.(λd.(d (c a))))) (λe.b)) (λj.j))))) (λi.(λn.((((λm.(λt.(((((x (λr.(λq.(q (r (λw.(λu.(u (w (λo.(λp.(p (o m))))))))))))) (λs.(λf.(λg.t)))) (λh.h)) (λk.k)) (λl.l)))) (λz.(λv.(v (z i))))) (λx_1.n)) (λy_1.y_1)))))) (λa_1.(λb_1.(a_1 (a_1 (a_1 b_1))))))\n",
      "12: ((λx.((λy.(λa.(λb.(((y (λc.(λd.(d (c a))))) (λe.b)) (λj.j))))) (λi.(λn.(((λm.(((((x (λt.(λr.(r (t (λq.(λw.(w (q (λu.(λo.(o (u (λp.(λs.(s (p i))))))))))))))))) (λf.(λg.(λh.m)))) (λk.k)) (λl.l)) (λz.z))) (λv.n)) (λx_1.x_1)))))) (λy_1.(λa_1.(y_1 (y_1 (y_1 a_1))))))\n",
      "13: ((λx.((λy.(λa.(λb.(((y (λc.(λd.(d (c a))))) (λe.b)) (λj.j))))) (λi.(λn.((((((x (λm.(λt.(t (m (λr.(λq.(q (r (λw.(λu.(u (w (λo.(λp.(p (o i))))))))))))))))) (λs.(λf.(λg.(λh.n))))) (λk.k)) (λl.l)) (λz.z)) (λv.v)))))) (λx_1.(λy_1.(x_1 (x_1 (x_1 y_1))))))\n",
      "14: ((λx.(λy.(λa.((((λb.(λc.((((((x (λd.(λe.(e (d (λj.(λi.(i (j (λn.(λm.(m (n (λt.(λr.(r (t b))))))))))))))))) (λq.(λw.(λu.(λo.c))))) (λp.p)) (λs.s)) (λf.f)) (λg.g)))) (λh.(λk.(k (h y))))) (λl.a)) (λz.z))))) (λv.(λx_1.(v (v (v x_1))))))\n",
      "15: ((λp.(λs.(λf.(((λg.((((((p (λh.(λk.(k (h (λl.(λz.(z (l (λv.(λx.(x (v (λy.(λa.(a (y (λb.(λc.(c (b s))))))))))))))))))))) (λd.(λe.(λj.(λi.g))))) (λn.n)) (λm.m)) (λt.t)) (λr.r))) (λq.f)) (λw.w))))) (λu.(λo.(u (u (u o))))))\n",
      "16: ((λx.(λy.(λa.(((((((x (λb.(λc.(c (b (λd.(λe.(e (d (λj.(λi.(i (j (λn.(λm.(m (n (λt.(λr.(r (t y))))))))))))))))))))) (λq.(λw.(λu.(λo.(λp.a)))))) (λs.s)) (λf.f)) (λg.g)) (λh.h)) (λk.k))))) (λl.(λz.(l (l (l z))))))\n",
      "17: (λx.(λy.((((((((λa.(λb.(a (a (a b))))) (λc.(λd.(d (c (λe.(λj.(j (e (λi.(λn.(n (i (λm.(λt.(t (m (λr.(λq.(q (r x))))))))))))))))))))) (λw.(λu.(λo.(λp.(λs.y)))))) (λf.f)) (λg.g)) (λh.h)) (λk.k)) (λl.l))))\n",
      "18: (λx.(λy.(((((((λa.((λb.(λc.(c (b (λd.(λe.(e (d (λj.(λi.(i (j (λn.(λm.(m (n (λt.(λr.(r (t x)))))))))))))))))))) ((λq.(λw.(w (q (λu.(λo.(o (u (λp.(λs.(s (p (λf.(λg.(g (f (λh.(λk.(k (h x)))))))))))))))))))) ((λl.(λz.(z (l (λv.(λx_1.(x_1 (v (λy_1.(λa_1.(a_1 (y_1 (λb_1.(λc_1.(c_1 (b_1 (λd_1.(λe_1.(e_1 (d_1 x)))))))))))))))))))) a)))) (λj_1.(λi_1.(λn_1.(λm_1.(λt_1.y)))))) (λr_1.r_1)) (λq_1.q_1)) (λw_1.w_1)) (λu_1.u_1)) (λo_1.o_1))))\n",
      "19: (λl.(λz.(((((((λv.((λx_1.(λy_1.(y_1 (x_1 (λa_1.(λb_1.(b_1 (a_1 (λc_1.(λd_1.(d_1 (c_1 (λe_1.(λj_1.(j_1 (e_1 (λi_1.(λn_1.(n_1 (i_1 l)))))))))))))))))))) ((λm_1.(λt_1.(t_1 (m_1 (λr_1.(λq_1.(q_1 (r_1 (λw_1.(λu_1.(u_1 (w_1 (λx.(λy.(y (x (λa.(λb.(b (a l)))))))))))))))))))) (λc.(c (v (λd.(λe.(e (d (λj.(λi.(i (j (λn.(λm.(m (n (λt.(λr.(r (t l)))))))))))))))))))))) (λq.(λw.(λu.(λo.(λp.z)))))) (λs.s)) (λf.f)) (λg.g)) (λh.h)) (λk.k))))\n",
      "20: (λx.(λy.(((((((λa.((λb.(λc.(c (b (λd.(λe.(e (d (λj.(λi.(i (j (λn.(λm.(m (n (λt.(λr.(r (t x)))))))))))))))))))) (λq.(q ((λw.(w (a (λu.(λo.(o (u (λp.(λs.(s (p (λf.(λg.(g (f (λh.(λk.(k (h x))))))))))))))))))) (λl.(λz.(z (l (λv.(λx_1.(x_1 (v (λy_1.(λa_1.(a_1 (y_1 (λb_1.(λc_1.(c_1 (b_1 x))))))))))))))))))))) (λd_1.(λe_1.(λj_1.(λi_1.(λn_1.y)))))) (λm_1.m_1)) (λt_1.t_1)) (λr_1.r_1)) (λq_1.q_1)) (λw_1.w_1))))\n",
      "21: (λx.(λy.(((((((λa.((λb.(λc.(c (b (λd.(λe.(e (d (λj.(λi.(i (j (λn.(λm.(m (n (λt.(λr.(r (t x)))))))))))))))))))) (λq.(q ((λw.(λu.(u (w (λo.(λp.(p (o (λs.(λf.(f (s (λg.(λh.(h (g x)))))))))))))))) (a (λk.(λl.(l (k (λz.(λv.(v (z (λx_1.(λy_1.(y_1 (x_1 (λa_1.(λb_1.(b_1 (a_1 x)))))))))))))))))))))) (λc_1.(λd_1.(λe_1.(λj_1.(λi_1.y)))))) (λn_1.n_1)) (λm_1.m_1)) (λt_1.t_1)) (λr_1.r_1)) (λq_1.q_1))))\n",
      "22: (λu.(λo.(((((((λp.((λs.(λf.(f (s (λg.(λh.(h (g (λk.(λl.(l (k (λz.(λv.(v (z (λx_1.(λy_1.(y_1 (x_1 u)))))))))))))))))))) (λa_1.(a_1 (λb_1.(b_1 ((p (λc_1.(λd_1.(d_1 (c_1 (λe_1.(λj_1.(j_1 (e_1 (λi_1.(λn_1.(n_1 (i_1 (λm_1.(λt_1.(t_1 (m_1 u))))))))))))))))) (λr_1.(λx.(x (r_1 (λy.(λa.(a (y (λb.(λc.(c (b u))))))))))))))))))) (λd.(λe.(λj.(λi.(λn.o)))))) (λm.m)) (λt.t)) (λr.r)) (λq.q)) (λw.w))))\n",
      "23: (λx.(λy.(((((((λa.(λb.(b ((λc.(c (λd.(d ((a (λe.(λj.(j (e (λi.(λn.(n (i (λm.(λt.(t (m (λr.(λq.(q (r x))))))))))))))))) (λw.(λu.(u (w (λo.(λp.(p (o (λs.(λf.(f (s x))))))))))))))))) (λg.(λh.(h (g (λk.(λl.(l (k (λz.(λv.(v (z (λx_1.(λy_1.(y_1 (x_1 x)))))))))))))))))))) (λa_1.(λb_1.(λc_1.(λd_1.(λe_1.y)))))) (λj_1.j_1)) (λi_1.i_1)) (λn_1.n_1)) (λm_1.m_1)) (λt_1.t_1))))\n",
      "24: (λx.(λy.(((((((λa.(λb.(b ((λc.(λd.(d (c (λe.(λj.(j (e (λi.(λn.(n (i (λm.(λt.(t (m x)))))))))))))))) (λr.(r ((a (λq.(λw.(w (q (λu.(λo.(o (u (λp.(λs.(s (p (λf.(λg.(g (f x))))))))))))))))) (λh.(λk.(k (h (λl.(λz.(z (l (λv.(λx_1.(x_1 (v x))))))))))))))))))) (λy_1.(λa_1.(λb_1.(λc_1.(λd_1.y)))))) (λe_1.e_1)) (λj_1.j_1)) (λi_1.i_1)) (λn_1.n_1)) (λm_1.m_1))))\n",
      "25: (λx.(λy.(((((((λa.(λb.(b (λc.(c ((λd.(d ((a (λe.(λj.(j (e (λi.(λn.(n (i (λm.(λt.(t (m (λr.(λq.(q (r x))))))))))))))))) (λw.(λu.(u (w (λo.(λp.(p (o (λs.(λf.(f (s x))))))))))))))) (λg.(λh.(h (g (λk.(λl.(l (k (λz.(λv.(v (z x)))))))))))))))))) (λx_1.(λy_1.(λa_1.(λb_1.(λc_1.y)))))) (λd_1.d_1)) (λe_1.e_1)) (λj_1.j_1)) (λi_1.i_1)) (λn_1.n_1))))\n",
      "26: (λj_1.(λi_1.(((((((λx.(λy.(y (λa.(a ((λb.(λc.(c (b (λd.(λe.(e (d (λj.(λi.(i (j j_1)))))))))))) ((x (λn.(λm.(m (n (λt.(λr.(r (t (λq.(λw.(w (q (λu.(λo.(o (u j_1))))))))))))))))) (λp.(λs.(s (p (λf.(λg.(g (f (λh.(λk.(k (h j_1))))))))))))))))))) (λl.(λz.(λv.(λx_1.(λy_1.i_1)))))) (λa_1.a_1)) (λb_1.b_1)) (λc_1.c_1)) (λd_1.d_1)) (λe_1.e_1))))\n",
      "27: (λx.(λy.(((((((λa.(λb.(b (λc.(c (λd.(d (((a (λe.(λj.(j (e (λi.(λn.(n (i (λm.(λt.(t (m (λr.(λq.(q (r x))))))))))))))))) (λw.(λu.(u (w (λo.(λp.(p (o (λs.(λf.(f (s x))))))))))))) (λg.(λh.(h (g (λk.(λl.(l (k x)))))))))))))))) (λz.(λv.(λx_1.(λy_1.(λa_1.y)))))) (λb_1.b_1)) (λc_1.c_1)) (λd_1.d_1)) (λe_1.e_1)) (λj_1.j_1))))\n",
      "28: (λx.(λy.((((((λa.(a (λb.(b (λc.(c ((((λd.(λe.(λj.(λi.(λn.y))))) (λm.(λt.(t (m (λr.(λq.(q (r (λw.(λu.(u (w (λo.(λp.(p (o x))))))))))))))))) (λs.(λf.(f (s (λg.(λh.(h (g (λk.(λl.(l (k x))))))))))))) (λz.(λv.(v (z (λx_1.(λy_1.(y_1 (x_1 x))))))))))))))) (λa_1.a_1)) (λb_1.b_1)) (λc_1.c_1)) (λd_1.d_1)) (λe_1.e_1))))\n",
      "29: (λx.(λy.((((((λa.(a (λb.(b (λc.(c (((λd.(λe.(λj.(λi.y)))) (λn.(λm.(m (n (λt.(λr.(r (t (λq.(λw.(w (q x))))))))))))) (λu.(λo.(o (u (λp.(λs.(s (p x))))))))))))))) (λf.f)) (λg.g)) (λh.h)) (λk.k)) (λl.l))))\n",
      "30: (λq.(λw.((((((λu.(u (λo.(o (λx.(x ((λy.(λa.(λb.w))) (λc.(λd.(d (c (λe.(λj.(j (e q))))))))))))))) (λi.i)) (λn.n)) (λm.m)) (λt.t)) (λr.r))))\n",
      "31: (λx.(λy.((((((λa.(a (λb.(b (λc.(c (λd.(λe.y)))))))) (λj.j)) (λi.i)) (λn.n)) (λm.m)) (λt.t))))\n",
      "32: (λc.(λd.((((((λe.e) (λj.(j (λi.(i (λn.(λm.d))))))) (λx.x)) (λy.y)) (λa.a)) (λb.b))))\n",
      "33: (λx.(λy.(((((λa.(a (λb.(b (λc.(λd.y)))))) (λe.e)) (λj.j)) (λi.i)) (λn.n))))\n",
      "34: (λx.(λy.(((((λa.a) (λb.(b (λc.(λd.y))))) (λe.e)) (λj.j)) (λi.i))))\n",
      "35: (λx.(λy.((((λa.(a (λb.(λc.y)))) (λd.d)) (λe.e)) (λj.j))))\n",
      "36: (λe.(λx.((((λy.y) (λa.(λb.x))) (λc.c)) (λd.d))))\n",
      "37: (λx.(λy.(((λa.(λb.y)) (λc.c)) (λd.d))))\n",
      "38: (λx.(λy.((λa.y) (λb.b))))\n",
      "39: (λx.(λy.y))\n",
      "\n",
      "\n",
      "reduction steps: 39\n",
      "norm term:       (λx.(λy.y))\n"
     ]
    }
   ],
   "source": [
    "def term_test_9():\n",
    "    return multi_app_term(subtract_term(), num_term(3), num_term(5))\n",
    "\n",
    "\n",
    "test_procedure(term_test_9())"
   ],
   "metadata": {
    "collapsed": false
   }
  },
  {
   "cell_type": "markdown",
   "source": [
    "# <span style=\"color: #A1F99C\">10.</span>\n",
    "<span style=\"color:#bb91f3\">(LEQ 3 2)</span> == <span style=\"color:#f1bd47\">FALSE</span> == <span style=\"color:#f1bd47\">λx. λy. y</span>"
   ],
   "metadata": {
    "collapsed": false
   }
  },
  {
   "cell_type": "code",
   "execution_count": 13,
   "outputs": [
    {
     "name": "stdout",
     "output_type": "stream",
     "text": [
      "0: (((λx.(λy.((λa.((a (λb.(λc.(λd.d)))) (λe.(λj.e)))) (((λi.(λn.((n (λm.(λt.(λr.(((m (λq.(λw.(w (q t))))) (λu.r)) (λo.o)))))) i))) x) y)))) (λp.(λs.(p (p (p s)))))) (λf.(λg.(f (f g)))))\n",
      "1: (((λu.(λo.((λp.((p (λs.(λf.(λx.x)))) (λy.(λa.y)))) ((λb.((b (λc.(λd.(λe.(((c (λj.(λi.(i (j d))))) (λn.e)) (λm.m)))))) u)) o)))) (λt.(λr.(t (t (t r)))))) (λq.(λw.(q (q w)))))\n",
      "2: (((λx.(λy.((λa.((a (λb.(λc.(λd.d)))) (λe.(λj.e)))) ((y (λi.(λn.(λm.(((i (λt.(λr.(r (t n))))) (λq.m)) (λw.w)))))) x)))) (λu.(λo.(u (u (u o)))))) (λp.(λs.(p (p s)))))\n",
      "3: (((λx.(λy.((((y (λa.(λb.(λc.(((a (λd.(λe.(e (d b))))) (λj.c)) (λi.i)))))) x) (λn.(λm.(λt.t)))) (λr.(λq.r))))) (λw.(λu.(w (w (w u)))))) (λo.(λp.(o (o p)))))\n",
      "4: ((λd.((((d (λe.(λj.(λi.(((e (λn.(λm.(m (n j))))) (λt.i)) (λr.r)))))) (λq.(λw.(q (q (q w)))))) (λu.(λo.(λx.x)))) (λy.(λa.y)))) (λb.(λc.(b (b c)))))\n",
      "5: (((((λx.(λy.(x (x y)))) (λa.(λb.(λc.(((a (λd.(λe.(e (d b))))) (λj.c)) (λi.i)))))) (λn.(λm.(n (n (n m)))))) (λt.(λr.(λq.q)))) (λw.(λu.w)))\n",
      "6: ((((λx.((λy.(λa.(λb.(((y (λc.(λd.(d (c a))))) (λe.b)) (λj.j))))) ((λi.(λn.(λm.(((i (λt.(λr.(r (t n))))) (λq.m)) (λw.w))))) x))) (λu.(λo.(u (u (u o)))))) (λp.(λs.(λf.f)))) (λg.(λh.g)))\n",
      "7: ((((λx.((λy.(λa.(λb.(((y (λc.(λd.(d (c a))))) (λe.b)) (λj.j))))) (λi.(λn.(((x (λm.(λt.(t (m i))))) (λr.n)) (λq.q)))))) (λw.(λu.(w (w (w u)))))) (λo.(λp.(λs.s)))) (λf.(λg.f)))\n",
      "8: ((((λx.(λy.(λa.((((λb.(λc.(((x (λd.(λe.(e (d b))))) (λj.c)) (λi.i)))) (λn.(λm.(m (n y))))) (λt.a)) (λr.r))))) (λq.(λw.(q (q (q w)))))) (λu.(λo.(λp.p)))) (λs.(λf.s)))\n",
      "9: ((((λx.(λy.(λa.(((λb.(((x (λc.(λd.(d (c (λe.(λj.(j (e y))))))))) (λi.b)) (λn.n))) (λm.a)) (λt.t))))) (λr.(λq.(r (r (r q)))))) (λw.(λu.(λo.o)))) (λp.(λs.p)))\n",
      "10: ((((λx.(λy.(λa.((((x (λb.(λc.(c (b (λd.(λe.(e (d y))))))))) (λj.(λi.a))) (λn.n)) (λm.m))))) (λt.(λr.(t (t (t r)))))) (λq.(λw.(λu.u)))) (λo.(λp.o)))\n",
      "11: (((λm.(λt.(((((λr.(λq.(r (r (r q))))) (λw.(λu.(u (w (λo.(λx.(x (o m))))))))) (λy.(λa.t))) (λb.b)) (λc.c)))) (λd.(λe.(λj.j)))) (λi.(λn.i)))\n",
      "12: (((λx.(λy.((((λa.((λb.(λc.(c (b (λd.(λe.(e (d x)))))))) ((λj.(λi.(i (j (λn.(λm.(m (n x)))))))) ((λt.(λr.(r (t (λq.(λw.(w (q x)))))))) a)))) (λu.(λo.y))) (λp.p)) (λs.s)))) (λf.(λg.(λh.h)))) (λk.(λl.k)))\n",
      "13: (((λx.(λy.((((λa.((λb.(λc.(c (b (λd.(λe.(e (d x)))))))) ((λj.(λi.(i (j (λn.(λm.(m (n x)))))))) (λt.(t (a (λr.(λq.(q (r x)))))))))) (λw.(λu.y))) (λo.o)) (λp.p)))) (λs.(λf.(λg.g)))) (λh.(λk.h)))\n",
      "14: (((λu.(λo.((((λp.((λs.(λf.(f (s (λg.(λh.(h (g u)))))))) (λx.(x ((λy.(y (p (λa.(λb.(b (a u))))))) (λc.(λd.(d (c u))))))))) (λe.(λj.o))) (λi.i)) (λn.n)))) (λm.(λt.(λr.r)))) (λq.(λw.q)))\n",
      "15: (((λx.(λy.((((λa.((λb.(λc.(c (b (λd.(λe.(e (d x)))))))) (λj.(j ((λi.(λn.(n (i x)))) (a (λm.(λt.(t (m x)))))))))) (λr.(λq.y))) (λw.w)) (λu.u)))) (λo.(λp.(λs.s)))) (λf.(λg.f)))\n",
      "16: (((λx.(λy.((((λa.((λb.(λc.(c (b (λd.(λe.(e (d x)))))))) (λj.(j (λi.(i ((a (λn.(λm.(m (n x))))) x))))))) (λt.(λr.y))) (λq.q)) (λw.w)))) (λu.(λo.(λp.p)))) (λs.(λf.s)))\n",
      "17: (((λx.(λy.((((λa.(λb.(b ((λc.(c (λd.(d ((a (λe.(λj.(j (e x))))) x))))) (λi.(λn.(n (i x)))))))) (λm.(λt.y))) (λr.r)) (λq.q)))) (λw.(λu.(λo.o)))) (λp.(λs.p)))\n",
      "18: (((λx.(λy.((((λa.(λb.(b ((λc.(λd.(d (c x)))) (λe.(e ((a (λj.(λi.(i (j x))))) x))))))) (λn.(λm.y))) (λt.t)) (λr.r)))) (λq.(λw.(λu.u)))) (λo.(λp.o)))\n",
      "19: (((λw.(λu.((((λo.(λx.(x (λy.(y ((λa.(a ((o (λb.(λc.(c (b w))))) w))) w)))))) (λd.(λe.u))) (λj.j)) (λi.i)))) (λn.(λm.(λt.t)))) (λr.(λq.r)))\n",
      "20: (((λx.(λy.((((λa.(λb.(b (λc.(c (x ((a (λd.(λe.(e (d x))))) x))))))) (λj.(λi.y))) (λn.n)) (λm.m)))) (λt.(λr.(λq.q)))) (λw.(λu.w)))\n",
      "21: (((λq.(λw.(((λx.(x (λy.(y (q (((λa.(λb.w)) (λc.(λd.(d (c q))))) q)))))) (λe.e)) (λj.j)))) (λi.(λn.(λm.m)))) (λt.(λr.t)))\n",
      "22: (((λx.(λy.(((λa.(a (λb.(b (x ((λc.y) x)))))) (λd.d)) (λe.e)))) (λj.(λi.(λn.n)))) (λm.(λt.m)))\n",
      "23: (((λc.(λd.(((λe.(e (λj.(j (c d))))) (λi.i)) (λn.n)))) (λm.(λx.(λy.y)))) (λa.(λb.a)))\n",
      "24: (((λx.(λy.(((λa.a) (λb.(b (x y)))) (λc.c)))) (λd.(λe.(λj.j)))) (λi.(λn.i)))\n",
      "25: (((λx.(λy.((λa.(a (x y))) (λb.b)))) (λc.(λd.(λe.e)))) (λj.(λi.j)))\n",
      "26: (((λx.(λy.((λa.a) (x y)))) (λb.(λc.(λd.d)))) (λe.(λj.e)))\n",
      "27: (((λe.(λx.(e x))) (λy.(λa.(λb.b)))) (λc.(λd.c)))\n",
      "28: ((λx.((λy.(λa.(λb.b))) x)) (λc.(λd.c)))\n",
      "29: ((λx.(λy.(λa.a))) (λb.(λc.b)))\n",
      "30: (λx.(λy.y))\n",
      "\n",
      "\n",
      "reduction steps: 30\n",
      "norm term:       (λx.(λy.y))\n"
     ]
    }
   ],
   "source": [
    "def term_test_10():\n",
    "    return multi_app_term(leq_term(), num_term(3), num_term(2))\n",
    "\n",
    "\n",
    "test_procedure(term_test_10())"
   ],
   "metadata": {
    "collapsed": false
   }
  },
  {
   "cell_type": "markdown",
   "source": [
    "# <span style=\"color: #A1F99C\">11.</span>\n",
    "<span style=\"color:#bb91f3\">(LEQ 2 5)</span> == <span style=\"color:#f1bd47\">TRUE</span> == <span style=\"color:#f1bd47\">λx. λy. x</span>"
   ],
   "metadata": {
    "collapsed": false
   }
  },
  {
   "cell_type": "code",
   "execution_count": 14,
   "outputs": [
    {
     "name": "stdout",
     "output_type": "stream",
     "text": [
      "0: (((λx.(λy.((λa.((a (λb.(λc.(λd.d)))) (λe.(λj.e)))) (((λi.(λn.((n (λm.(λt.(λr.(((m (λq.(λw.(w (q t))))) (λu.r)) (λo.o)))))) i))) x) y)))) (λp.(λs.(p (p s))))) (λf.(λg.(f (f (f (f (f g))))))))\n",
      "1: (((λo.(λp.((λs.((s (λf.(λx.(λy.y)))) (λa.(λb.a)))) ((λc.((c (λd.(λe.(λj.(((d (λi.(λn.(n (i e))))) (λm.j)) (λt.t)))))) o)) p)))) (λr.(λq.(r (r q))))) (λw.(λu.(w (w (w (w (w u))))))))\n",
      "2: (((λx.(λy.((λa.((a (λb.(λc.(λd.d)))) (λe.(λj.e)))) ((y (λi.(λn.(λm.(((i (λt.(λr.(r (t n))))) (λq.m)) (λw.w)))))) x)))) (λu.(λo.(u (u o))))) (λp.(λs.(p (p (p (p (p s))))))))\n",
      "3: (((λx.(λy.((((y (λa.(λb.(λc.(((a (λd.(λe.(e (d b))))) (λj.c)) (λi.i)))))) x) (λn.(λm.(λt.t)))) (λr.(λq.r))))) (λw.(λu.(w (w u))))) (λo.(λp.(o (o (o (o (o p))))))))\n",
      "4: ((λe.((((e (λj.(λi.(λn.(((j (λm.(λt.(t (m i))))) (λr.n)) (λq.q)))))) (λw.(λu.(w (w u))))) (λo.(λx.(λy.y)))) (λa.(λb.a)))) (λc.(λd.(c (c (c (c (c d))))))))\n",
      "5: (((((λx.(λy.(x (x (x (x (x y))))))) (λa.(λb.(λc.(((a (λd.(λe.(e (d b))))) (λj.c)) (λi.i)))))) (λn.(λm.(n (n m))))) (λt.(λr.(λq.q)))) (λw.(λu.w)))\n",
      "6: ((((λy.((λa.(λb.(λc.(((a (λd.(λe.(e (d b))))) (λj.c)) (λi.i))))) ((λn.(λm.(λt.(((n (λr.(λq.(q (r m))))) (λw.t)) (λu.u))))) ((λo.(λp.(λs.(((o (λf.(λg.(g (f p))))) (λh.s)) (λk.k))))) ((λl.(λz.(λv.(((l (λx_1.(λy_1.(y_1 (x_1 z))))) (λa_1.v)) (λb_1.b_1))))) ((λc_1.(λd_1.(λe_1.(((c_1 (λj_1.(λi_1.(i_1 (j_1 d_1))))) (λn_1.e_1)) (λm_1.m_1))))) y)))))) (λt_1.(λr_1.(t_1 (t_1 r_1))))) (λq_1.(λw_1.(λu_1.u_1)))) (λo_1.(λx.o_1)))\n",
      "7: ((((λx.((λy.(λa.(λb.(((y (λc.(λd.(d (c a))))) (λe.b)) (λj.j))))) ((λi.(λn.(λm.(((i (λt.(λr.(r (t n))))) (λq.m)) (λw.w))))) ((λu.(λo.(λp.(((u (λs.(λf.(f (s o))))) (λg.p)) (λh.h))))) ((λk.(λl.(λz.(((k (λv.(λx_1.(x_1 (v l))))) (λy_1.z)) (λa_1.a_1))))) (λb_1.(λc_1.(((x (λd_1.(λe_1.(e_1 (d_1 b_1))))) (λj_1.c_1)) (λi_1.i_1))))))))) (λn_1.(λm_1.(n_1 (n_1 m_1))))) (λt_1.(λr_1.(λq_1.q_1)))) (λw_1.(λu_1.w_1)))\n",
      "8: ((((λx.((λy.(λa.(λb.(((y (λc.(λd.(d (c a))))) (λe.b)) (λj.j))))) ((λi.(λn.(λm.(((i (λt.(λr.(r (t n))))) (λq.m)) (λw.w))))) ((λu.(λo.(λp.(((u (λs.(λf.(f (s o))))) (λg.p)) (λh.h))))) (λk.(λl.((((λz.(λv.(((x (λx_1.(λy_1.(y_1 (x_1 z))))) (λa_1.v)) (λb_1.b_1)))) (λc_1.(λd_1.(d_1 (c_1 k))))) (λe_1.l)) (λj_1.j_1)))))))) (λi_1.(λn_1.(i_1 (i_1 n_1))))) (λm_1.(λt_1.(λr_1.r_1)))) (λq_1.(λw_1.q_1)))\n",
      "9: ((((λx.((λy.(λa.(λb.(((y (λc.(λd.(d (c a))))) (λe.b)) (λj.j))))) ((λi.(λn.(λm.(((i (λt.(λr.(r (t n))))) (λq.m)) (λw.w))))) ((λu.(λo.(λp.(((u (λs.(λf.(f (s o))))) (λg.p)) (λh.h))))) (λk.(λl.(((λz.(((x (λv.(λx_1.(x_1 (v (λy_1.(λa_1.(a_1 (y_1 k))))))))) (λb_1.z)) (λc_1.c_1))) (λd_1.l)) (λe_1.e_1)))))))) (λj_1.(λi_1.(j_1 (j_1 i_1))))) (λn_1.(λm_1.(λt_1.t_1)))) (λr_1.(λq_1.r_1)))\n",
      "10: ((((λn_1.((λm_1.(λt_1.(λr_1.(((m_1 (λx.(λy.(y (x t_1))))) (λa.r_1)) (λb.b))))) ((λc.(λd.(λe.(((c (λj.(λi.(i (j d))))) (λn.e)) (λm.m))))) ((λt.(λr.(λq.(((t (λw.(λu.(u (w r))))) (λo.q)) (λp.p))))) (λs.(λf.((((n_1 (λg.(λh.(h (g (λk.(λl.(l (k s))))))))) (λz.(λv.f))) (λx_1.x_1)) (λy_1.y_1)))))))) (λa_1.(λb_1.(a_1 (a_1 b_1))))) (λc_1.(λd_1.(λe_1.e_1)))) (λj_1.(λi_1.j_1)))\n",
      "11: ((((λx.((λy.(λa.(λb.(((y (λc.(λd.(d (c a))))) (λe.b)) (λj.j))))) ((λi.(λn.(λm.(((i (λt.(λr.(r (t n))))) (λq.m)) (λw.w))))) (λu.(λo.((((λp.(λs.((((x (λf.(λg.(g (f (λh.(λk.(k (h p))))))))) (λl.(λz.s))) (λv.v)) (λx_1.x_1)))) (λy_1.(λa_1.(a_1 (y_1 u))))) (λb_1.o)) (λc_1.c_1))))))) (λd_1.(λe_1.(d_1 (d_1 e_1))))) (λj_1.(λi_1.(λn_1.n_1)))) (λm_1.(λt_1.m_1)))\n",
      "12: ((((λx.((λy.(λa.(λb.(((y (λc.(λd.(d (c a))))) (λe.b)) (λj.j))))) ((λi.(λn.(λm.(((i (λt.(λr.(r (t n))))) (λq.m)) (λw.w))))) (λu.(λo.(((λp.((((x (λs.(λf.(f (s (λg.(λh.(h (g (λk.(λl.(l (k u))))))))))))) (λz.(λv.p))) (λx_1.x_1)) (λy_1.y_1))) (λa_1.o)) (λb_1.b_1))))))) (λc_1.(λd_1.(c_1 (c_1 d_1))))) (λe_1.(λj_1.(λi_1.i_1)))) (λn_1.(λm_1.n_1)))\n",
      "13: ((((λs.((λf.(λg.(λh.(((f (λk.(λl.(l (k g))))) (λz.h)) (λv.v))))) ((λx_1.(λy_1.(λa_1.(((x_1 (λb_1.(λc_1.(c_1 (b_1 y_1))))) (λd_1.a_1)) (λe_1.e_1))))) (λj_1.(λi_1.(((((s (λn_1.(λx.(x (n_1 (λy.(λa.(a (y (λb.(λc.(c (b j_1))))))))))))) (λd.(λe.(λj.i_1)))) (λi.i)) (λn.n)) (λm.m))))))) (λt.(λr.(t (t r))))) (λq.(λw.(λu.u)))) (λo.(λp.o)))\n",
      "14: ((((λx.((λy.(λa.(λb.(((y (λc.(λd.(d (c a))))) (λe.b)) (λj.j))))) (λi.(λn.((((λm.(λt.(((((x (λr.(λq.(q (r (λw.(λu.(u (w (λo.(λp.(p (o m))))))))))))) (λs.(λf.(λg.t)))) (λh.h)) (λk.k)) (λl.l)))) (λz.(λv.(v (z i))))) (λx_1.n)) (λy_1.y_1)))))) (λa_1.(λb_1.(a_1 (a_1 b_1))))) (λc_1.(λd_1.(λe_1.e_1)))) (λj_1.(λi_1.j_1)))\n",
      "15: ((((λx.((λy.(λa.(λb.(((y (λc.(λd.(d (c a))))) (λe.b)) (λj.j))))) (λi.(λn.(((λm.(((((x (λt.(λr.(r (t (λq.(λw.(w (q (λu.(λo.(o (u (λp.(λs.(s (p i))))))))))))))))) (λf.(λg.(λh.m)))) (λk.k)) (λl.l)) (λz.z))) (λv.n)) (λx_1.x_1)))))) (λy_1.(λa_1.(y_1 (y_1 a_1))))) (λb_1.(λc_1.(λd_1.d_1)))) (λe_1.(λj_1.e_1)))\n",
      "16: ((((λx.((λy.(λa.(λb.(((y (λc.(λd.(d (c a))))) (λe.b)) (λj.j))))) (λi.(λn.((((((x (λm.(λt.(t (m (λr.(λq.(q (r (λw.(λu.(u (w (λo.(λp.(p (o i))))))))))))))))) (λs.(λf.(λg.(λh.n))))) (λk.k)) (λl.l)) (λz.z)) (λv.v)))))) (λx_1.(λy_1.(x_1 (x_1 y_1))))) (λa_1.(λb_1.(λc_1.c_1)))) (λd_1.(λe_1.d_1)))\n",
      "17: ((((λz.(λv.(λx_1.((((λy_1.(λa_1.((((((z (λb_1.(λc_1.(c_1 (b_1 (λd_1.(λx.(x (d_1 (λy.(λa.(a (y (λb.(λc.(c (b y_1))))))))))))))))) (λd.(λe.(λj.(λi.a_1))))) (λn.n)) (λm.m)) (λt.t)) (λr.r)))) (λq.(λw.(w (q v))))) (λu.x_1)) (λo.o))))) (λp.(λs.(p (p s))))) (λf.(λg.(λh.h)))) (λk.(λl.k)))\n",
      "18: ((((λx.(λy.(λa.(((λb.((((((x (λc.(λd.(d (c (λe.(λj.(j (e (λi.(λn.(n (i (λm.(λt.(t (m (λr.(λq.(q (r y))))))))))))))))))))) (λw.(λu.(λo.(λp.b))))) (λs.s)) (λf.f)) (λg.g)) (λh.h))) (λk.a)) (λl.l))))) (λz.(λv.(z (z v))))) (λx_1.(λy_1.(λa_1.a_1)))) (λb_1.(λc_1.b_1)))\n",
      "19: ((((λx.(λy.(λa.(((((((x (λb.(λc.(c (b (λd.(λe.(e (d (λj.(λi.(i (j (λn.(λm.(m (n (λt.(λr.(r (t y))))))))))))))))))))) (λq.(λw.(λu.(λo.(λp.a)))))) (λs.s)) (λf.f)) (λg.g)) (λh.h)) (λk.k))))) (λl.(λz.(l (l z))))) (λv.(λx_1.(λy_1.y_1)))) (λa_1.(λb_1.a_1)))\n",
      "20: (((λx.(λy.((((((((λa.(λb.(a (a b)))) (λc.(λd.(d (c (λe.(λj.(j (e (λi.(λn.(n (i (λm.(λt.(t (m (λr.(λq.(q (r x))))))))))))))))))))) (λw.(λu.(λo.(λp.(λs.y)))))) (λf.f)) (λg.g)) (λh.h)) (λk.k)) (λl.l)))) (λz.(λv.(λx_1.x_1)))) (λy_1.(λa_1.y_1)))\n",
      "21: (((λz.(λv.(((((((λx_1.((λy_1.(λa_1.(a_1 (y_1 (λb_1.(λc_1.(c_1 (b_1 (λd_1.(λe_1.(e_1 (d_1 (λj_1.(λi_1.(i_1 (j_1 (λn_1.(λm_1.(m_1 (n_1 z)))))))))))))))))))) ((λt_1.(λx.(x (t_1 (λy.(λa.(a (y (λb.(λc.(c (b (λd.(λe.(e (d (λj.(λi.(i (j z)))))))))))))))))))) x_1))) (λn.(λm.(λt.(λr.(λq.v)))))) (λw.w)) (λu.u)) (λo.o)) (λp.p)) (λs.s)))) (λf.(λg.(λh.h)))) (λk.(λl.k)))\n",
      "22: (((λx.(λy.(((((((λa.((λb.(λc.(c (b (λd.(λe.(e (d (λj.(λi.(i (j (λn.(λm.(m (n (λt.(λr.(r (t x)))))))))))))))))))) (λq.(q (a (λw.(λu.(u (w (λo.(λp.(p (o (λs.(λf.(f (s (λg.(λh.(h (g x))))))))))))))))))))) (λk.(λl.(λz.(λv.(λx_1.y)))))) (λy_1.y_1)) (λa_1.a_1)) (λb_1.b_1)) (λc_1.c_1)) (λd_1.d_1)))) (λe_1.(λj_1.(λi_1.i_1)))) (λn_1.(λm_1.n_1)))\n",
      "23: (((λx.(λy.(((((((λa.(λb.(b ((λc.(c (a (λd.(λe.(e (d (λj.(λi.(i (j (λn.(λm.(m (n (λt.(λr.(r (t x))))))))))))))))))) (λq.(λw.(w (q (λu.(λo.(o (u (λp.(λs.(s (p (λf.(λg.(g (f x)))))))))))))))))))) (λh.(λk.(λl.(λz.(λv.y)))))) (λx_1.x_1)) (λy_1.y_1)) (λa_1.a_1)) (λb_1.b_1)) (λc_1.c_1)))) (λd_1.(λe_1.(λj_1.j_1)))) (λi_1.(λn_1.i_1)))\n",
      "24: (((λc.(λd.(((((((λe.(λj.(j ((λi.(λn.(n (i (λm.(λt.(t (m (λr.(λq.(q (r (λw.(λu.(u (w c)))))))))))))))) (e (λo.(λp.(p (o (λs.(λf.(f (s (λg.(λh.(h (g (λk.(λl.(l (k c))))))))))))))))))))) (λz.(λv.(λx_1.(λy_1.(λa_1.d)))))) (λb_1.b_1)) (λc_1.c_1)) (λd_1.d_1)) (λe_1.e_1)) (λj_1.j_1)))) (λi_1.(λx.(λy.y)))) (λa.(λb.a)))\n",
      "25: (((λx.(λy.(((((((λa.(λb.(b (λc.(c ((a (λd.(λe.(e (d (λj.(λi.(i (j (λn.(λm.(m (n (λt.(λr.(r (t x))))))))))))))))) (λq.(λw.(w (q (λu.(λo.(o (u (λp.(λs.(s (p x)))))))))))))))))) (λf.(λg.(λh.(λk.(λl.y)))))) (λz.z)) (λv.v)) (λx_1.x_1)) (λy_1.y_1)) (λa_1.a_1)))) (λb_1.(λc_1.(λd_1.d_1)))) (λe_1.(λj_1.e_1)))\n",
      "26: (((λx.(λy.((((((λa.(a (λb.(b (((λc.(λd.(λe.(λj.(λi.y))))) (λn.(λm.(m (n (λt.(λr.(r (t (λq.(λw.(w (q (λu.(λo.(o (u x))))))))))))))))) (λp.(λs.(s (p (λf.(λg.(g (f (λh.(λk.(k (h x))))))))))))))))) (λl.l)) (λz.z)) (λv.v)) (λx_1.x_1)) (λy_1.y_1)))) (λa_1.(λb_1.(λc_1.c_1)))) (λd_1.(λe_1.d_1)))\n",
      "27: (((λx.(λy.((((((λa.(a (λb.(b ((λc.(λd.(λe.(λj.y)))) (λi.(λn.(n (i (λm.(λt.(t (m (λr.(λq.(q (r x))))))))))))))))) (λw.w)) (λu.u)) (λo.o)) (λp.p)) (λs.s)))) (λf.(λg.(λh.h)))) (λk.(λl.k)))\n",
      "28: (((λo.(λx.((((((λy.(y (λa.(a (λb.(λc.(λd.x))))))) (λe.e)) (λj.j)) (λi.i)) (λn.n)) (λm.m)))) (λt.(λr.(λq.q)))) (λw.(λu.w)))\n",
      "29: (((λx.(λy.((((((λa.a) (λb.(b (λc.(λd.(λe.y)))))) (λj.j)) (λi.i)) (λn.n)) (λm.m)))) (λt.(λr.(λq.q)))) (λw.(λu.w)))\n",
      "30: (((λx.(λy.(((((λa.(a (λb.(λc.(λd.y))))) (λe.e)) (λj.j)) (λi.i)) (λn.n)))) (λm.(λt.(λr.r)))) (λq.(λw.q)))\n",
      "31: (((λx.(λy.(((((λa.a) (λb.(λc.(λd.y)))) (λe.e)) (λj.j)) (λi.i)))) (λn.(λm.(λt.t)))) (λr.(λq.r)))\n",
      "32: (((λm.(λt.((((λr.(λx.(λy.t))) (λa.a)) (λb.b)) (λc.c)))) (λd.(λe.(λj.j)))) (λi.(λn.i)))\n",
      "33: (((λx.(λy.(((λa.(λb.y)) (λc.c)) (λd.d)))) (λe.(λj.(λi.i)))) (λn.(λm.n)))\n",
      "34: (((λx.(λy.((λa.y) (λb.b)))) (λc.(λd.(λe.e)))) (λj.(λi.j)))\n",
      "35: (((λd.(λe.e)) (λx.(λy.(λa.a)))) (λb.(λc.b)))\n",
      "36: ((λx.x) (λy.(λa.y)))\n",
      "37: (λx.(λy.x))\n",
      "\n",
      "\n",
      "reduction steps: 37\n",
      "norm term:       (λx.(λy.x))\n"
     ]
    }
   ],
   "source": [
    "def term_test_11():\n",
    "    return multi_app_term(leq_term(), num_term(2), num_term(5))\n",
    "\n",
    "\n",
    "test_procedure(term_test_11())"
   ],
   "metadata": {
    "collapsed": false
   }
  },
  {
   "cell_type": "markdown",
   "source": [
    "# <span style=\"color: #A1F99C\">12.</span>\n",
    "<span style=\"color:#bb91f3\">(EQ 2 2)</span> == <span style=\"color:#f1bd47\">TRUE</span> == <span style=\"color:#f1bd47\">λx. λy. x</span>"
   ],
   "metadata": {
    "collapsed": false
   }
  },
  {
   "cell_type": "code",
   "execution_count": 15,
   "outputs": [
    {
     "name": "stdout",
     "output_type": "stream",
     "text": [
      "0: (((λi_1.(λn_1.(((λm_1.(λt_1.((((λr_1.(λq_1.(λw_1.((r_1 q_1) w_1)))) m_1) t_1) m_1))) (((λu_1.(λo_1.((λp_1.((p_1 (λs_1.(λx.(λy.y)))) (λa.(λb.a)))) (((λc.(λd.((d (λe.(λj.(λi.(((e (λn.(λm.(m (n j))))) (λt.i)) (λr.r)))))) c))) u_1) o_1)))) i_1) n_1)) (((λq.(λw.((λu.((u (λo.(λp.(λs.s)))) (λf.(λg.f)))) (((λh.(λk.((k (λl.(λz.(λv.(((l (λx_1.(λy_1.(y_1 (x_1 z))))) (λa_1.v)) (λb_1.b_1)))))) h))) q) w)))) n_1) i_1)))) (λc_1.(λd_1.(c_1 (c_1 d_1))))) (λe_1.(λj_1.(e_1 (e_1 j_1)))))\n",
      "1: (((λx.(λy.(((λa.(λb.((((λc.(λd.(λe.((c d) e)))) a) b) a))) (((λj.(λi.((λn.((n (λm.(λt.(λr.r)))) (λq.(λw.q)))) (((λu.(λo.((o (λp.(λs.(λf.(((p (λg.(λh.(h (g s))))) (λk.f)) (λl.l)))))) u))) j) i)))) x) y)) (((λz.(λv.((λx_1.((x_1 (λy_1.(λa_1.(λb_1.b_1)))) (λc_1.(λd_1.c_1)))) ((λe_1.((e_1 (λj_1.(λi_1.(λn_1.(((j_1 (λm_1.(λt_1.(t_1 (m_1 i_1))))) (λr_1.n_1)) (λq_1.q_1)))))) z)) v)))) y) x)))) (λw_1.(λu_1.(w_1 (w_1 u_1))))) (λo_1.(λp_1.(o_1 (o_1 p_1)))))\n",
      "2: (((λx.(λy.(((λa.(λb.((((λc.(λd.(λe.((c d) e)))) a) b) a))) (((λj.(λi.((λn.((n (λm.(λt.(λr.r)))) (λq.(λw.q)))) (((λu.(λo.((o (λp.(λs.(λf.(((p (λg.(λh.(h (g s))))) (λk.f)) (λl.l)))))) u))) j) i)))) x) y)) (((λz.(λv.((λx_1.((x_1 (λy_1.(λa_1.(λb_1.b_1)))) (λc_1.(λd_1.c_1)))) ((v (λe_1.(λj_1.(λi_1.(((e_1 (λn_1.(λm_1.(m_1 (n_1 j_1))))) (λt_1.i_1)) (λr_1.r_1)))))) z)))) y) x)))) (λq_1.(λw_1.(q_1 (q_1 w_1))))) (λu_1.(λo_1.(u_1 (u_1 o_1)))))\n",
      "3: (((λn_1.(λm_1.(((λt_1.(λr_1.((((λq_1.(λw_1.(λu_1.((q_1 w_1) u_1)))) t_1) r_1) t_1))) (((λx.(λy.((λa.((a (λb.(λc.(λd.d)))) (λe.(λj.e)))) (((λi.(λn.((n (λm.(λt.(λr.(((m (λq.(λw.(w (q t))))) (λu.r)) (λo.o)))))) i))) x) y)))) n_1) m_1)) (((λp.(λs.((((s (λf.(λg.(λh.(((f (λk.(λl.(l (k g))))) (λz.h)) (λv.v)))))) p) (λx_1.(λy_1.(λa_1.a_1)))) (λb_1.(λc_1.b_1))))) m_1) n_1)))) (λd_1.(λe_1.(d_1 (d_1 e_1))))) (λj_1.(λi_1.(j_1 (j_1 i_1)))))\n",
      "4: (((λx.(λy.(((λa.(λb.((((λc.(λd.(λe.((c d) e)))) a) b) a))) (((λj.(λi.((λn.((n (λm.(λt.(λr.r)))) (λq.(λw.q)))) (((λu.(λo.((o (λp.(λs.(λf.(((p (λg.(λh.(h (g s))))) (λk.f)) (λl.l)))))) u))) j) i)))) x) y)) ((λz.((((z (λv.(λx_1.(λy_1.(((v (λa_1.(λb_1.(b_1 (a_1 x_1))))) (λc_1.y_1)) (λd_1.d_1)))))) y) (λe_1.(λj_1.(λi_1.i_1)))) (λn_1.(λm_1.n_1)))) x)))) (λt_1.(λr_1.(t_1 (t_1 r_1))))) (λq_1.(λw_1.(q_1 (q_1 w_1)))))\n",
      "5: (((λx.(λy.(((λa.(λb.((((λc.(λd.(λe.((c d) e)))) a) b) a))) (((λj.(λi.((λn.((n (λm.(λt.(λr.r)))) (λq.(λw.q)))) (((λu.(λo.((o (λp.(λs.(λf.(((p (λg.(λh.(h (g s))))) (λk.f)) (λl.l)))))) u))) j) i)))) x) y)) ((((x (λz.(λv.(λx_1.(((z (λy_1.(λa_1.(a_1 (y_1 v))))) (λb_1.x_1)) (λc_1.c_1)))))) y) (λd_1.(λe_1.(λj_1.j_1)))) (λi_1.(λn_1.i_1)))))) (λm_1.(λt_1.(m_1 (m_1 t_1))))) (λr_1.(λq_1.(r_1 (r_1 q_1)))))\n",
      "6: (((λy_1.(λa_1.(((λb_1.(λc_1.((((λd_1.(λe_1.(λj_1.((d_1 e_1) j_1)))) b_1) c_1) b_1))) (((λi_1.(λn_1.((λm_1.((m_1 (λt_1.(λr_1.(λx.x)))) (λy.(λa.y)))) ((λb.((b (λc.(λd.(λe.(((c (λj.(λi.(i (j d))))) (λn.e)) (λm.m)))))) i_1)) n_1)))) y_1) a_1)) ((((y_1 (λt.(λr.(λq.(((t (λw.(λu.(u (w r))))) (λo.q)) (λp.p)))))) a_1) (λs.(λf.(λg.g)))) (λh.(λk.h)))))) (λl.(λz.(l (l z))))) (λv.(λx_1.(v (v x_1)))))\n",
      "7: (((λx.(λy.(((λa.(λb.((((λc.(λd.(λe.((c d) e)))) a) b) a))) (((λj.(λi.((λn.((n (λm.(λt.(λr.r)))) (λq.(λw.q)))) ((i (λu.(λo.(λp.(((u (λs.(λf.(f (s o))))) (λg.p)) (λh.h)))))) j)))) x) y)) ((((x (λk.(λl.(λz.(((k (λv.(λx_1.(x_1 (v l))))) (λy_1.z)) (λa_1.a_1)))))) y) (λb_1.(λc_1.(λd_1.d_1)))) (λe_1.(λj_1.e_1)))))) (λi_1.(λn_1.(i_1 (i_1 n_1))))) (λm_1.(λt_1.(m_1 (m_1 t_1)))))\n",
      "8: (((λx.(λy.(((λa.(λb.((((λc.(λd.(λe.((c d) e)))) a) b) a))) (((λj.(λi.((((i (λn.(λm.(λt.(((n (λr.(λq.(q (r m))))) (λw.t)) (λu.u)))))) j) (λo.(λp.(λs.s)))) (λf.(λg.f))))) x) y)) ((((x (λh.(λk.(λl.(((h (λz.(λv.(v (z k))))) (λx_1.l)) (λy_1.y_1)))))) y) (λa_1.(λb_1.(λc_1.c_1)))) (λd_1.(λe_1.d_1)))))) (λj_1.(λi_1.(j_1 (j_1 i_1))))) (λn_1.(λm_1.(n_1 (n_1 m_1)))))\n",
      "9: (((λm.(λt.(((λr.(λq.((((λw.(λu.(λo.((w u) o)))) r) q) r))) ((λp.((((p (λs.(λf.(λg.(((s (λh.(λk.(k (h f))))) (λl.g)) (λz.z)))))) m) (λv.(λx_1.(λy_1.y_1)))) (λa_1.(λb_1.a_1)))) t)) ((((m (λc_1.(λd_1.(λe_1.(((c_1 (λj_1.(λi_1.(i_1 (j_1 d_1))))) (λn_1.e_1)) (λx.x)))))) t) (λy.(λa.(λb.b)))) (λc.(λd.c)))))) (λe.(λj.(e (e j))))) (λi.(λn.(i (i n)))))\n",
      "10: (((λx.(λy.(((λa.(λb.((((λc.(λd.(λe.((c d) e)))) a) b) a))) ((((y (λj.(λi.(λn.(((j (λm.(λt.(t (m i))))) (λr.n)) (λq.q)))))) x) (λw.(λu.(λo.o)))) (λp.(λs.p)))) ((((x (λf.(λg.(λh.(((f (λk.(λl.(l (k g))))) (λz.h)) (λv.v)))))) y) (λx_1.(λy_1.(λa_1.a_1)))) (λb_1.(λc_1.b_1)))))) (λd_1.(λe_1.(d_1 (d_1 e_1))))) (λj_1.(λi_1.(j_1 (j_1 i_1)))))\n",
      "11: (((λx.(λy.(((λa.(λb.(((λc.(λd.((a c) d))) b) a))) ((((y (λe.(λj.(λi.(((e (λn.(λm.(m (n j))))) (λt.i)) (λr.r)))))) x) (λq.(λw.(λu.u)))) (λo.(λp.o)))) ((((x (λs.(λf.(λg.(((s (λh.(λk.(k (h f))))) (λl.g)) (λz.z)))))) y) (λv.(λx_1.(λy_1.y_1)))) (λa_1.(λb_1.a_1)))))) (λc_1.(λd_1.(c_1 (c_1 d_1))))) (λe_1.(λj_1.(e_1 (e_1 j_1)))))\n",
      "12: (((λx.(λy.(((λa.(λb.((λc.((a b) c)) a))) ((((y (λd.(λe.(λj.(((d (λi.(λn.(n (i e))))) (λm.j)) (λt.t)))))) x) (λr.(λq.(λw.w)))) (λu.(λo.u)))) ((((x (λp.(λs.(λf.(((p (λg.(λh.(h (g s))))) (λk.f)) (λl.l)))))) y) (λz.(λv.(λx_1.x_1)))) (λy_1.(λa_1.y_1)))))) (λb_1.(λc_1.(b_1 (b_1 c_1))))) (λd_1.(λe_1.(d_1 (d_1 e_1)))))\n",
      "13: (((λo.(λp.(((λs.(λf.((s f) s))) ((((p (λg.(λh.(λk.(((g (λl.(λz.(z (l h))))) (λv.k)) (λx_1.x_1)))))) o) (λy_1.(λa_1.(λb_1.b_1)))) (λc_1.(λd_1.c_1)))) ((((o (λx.(λy.(λa.(((x (λb.(λc.(c (b y))))) (λd.a)) (λe.e)))))) p) (λj.(λi.(λn.n)))) (λm.(λt.m)))))) (λr.(λq.(r (r q))))) (λw.(λu.(w (w u)))))\n",
      "14: (((λx.(λy.((λa.((((((y (λb.(λc.(λd.(((b (λe.(λj.(j (e c))))) (λi.d)) (λn.n)))))) x) (λm.(λt.(λr.r)))) (λq.(λw.q))) a) ((((y (λu.(λo.(λp.(((u (λs.(λf.(f (s o))))) (λg.p)) (λh.h)))))) x) (λk.(λl.(λz.z)))) (λv.(λx_1.v))))) ((((x (λy_1.(λa_1.(λb_1.(((y_1 (λc_1.(λd_1.(d_1 (c_1 a_1))))) (λe_1.b_1)) (λj_1.j_1)))))) y) (λi_1.(λn_1.(λm_1.m_1)))) (λt_1.(λr_1.t_1)))))) (λq_1.(λw_1.(q_1 (q_1 w_1))))) (λu_1.(λo_1.(u_1 (u_1 o_1)))))\n",
      "15: (((λx.(λy.((((((y (λa.(λb.(λc.(((a (λd.(λe.(e (d b))))) (λj.c)) (λi.i)))))) x) (λn.(λm.(λt.t)))) (λr.(λq.r))) ((((x (λw.(λu.(λo.(((w (λp.(λs.(s (p u))))) (λf.o)) (λg.g)))))) y) (λh.(λk.(λl.l)))) (λz.(λv.z)))) ((((y (λx_1.(λy_1.(λa_1.(((x_1 (λb_1.(λc_1.(c_1 (b_1 y_1))))) (λd_1.a_1)) (λe_1.e_1)))))) x) (λj_1.(λi_1.(λn_1.n_1)))) (λm_1.(λt_1.m_1)))))) (λr_1.(λq_1.(r_1 (r_1 q_1))))) (λw_1.(λu_1.(w_1 (w_1 u_1)))))\n",
      "16: ((λs.((((((s (λf.(λg.(λh.(((f (λk.(λl.(l (k g))))) (λz.h)) (λv.v)))))) (λx_1.(λy_1.(x_1 (x_1 y_1))))) (λa_1.(λb_1.(λc_1.c_1)))) (λd_1.(λe_1.d_1))) (((((λj_1.(λi_1.(j_1 (j_1 i_1)))) (λn_1.(λm_1.(λt_1.(((n_1 (λr_1.(λq_1.(q_1 (r_1 m_1))))) (λw_1.t_1)) (λu_1.u_1)))))) s) (λo_1.(λp_1.(λs_1.s_1)))) (λx.(λy.x)))) ((((s (λa.(λb.(λc.(((a (λd.(λe.(e (d b))))) (λj.c)) (λi.i)))))) (λn.(λm.(n (n m))))) (λt.(λr.(λq.q)))) (λw.(λu.w))))) (λo.(λp.(o (o p)))))\n",
      "17: ((λx.((((((x (λy.(λa.(λb.(((y (λc.(λd.(d (c a))))) (λe.b)) (λj.j)))))) (λi.(λn.(i (i n))))) (λm.(λt.(λr.r)))) (λq.(λw.q))) ((((λu.((λo.(λp.(λs.(((o (λf.(λg.(g (f p))))) (λh.s)) (λk.k))))) ((λl.(λz.(λv.(((l (λx_1.(λy_1.(y_1 (x_1 z))))) (λa_1.v)) (λb_1.b_1))))) u))) x) (λc_1.(λd_1.(λe_1.e_1)))) (λj_1.(λi_1.j_1)))) ((((x (λn_1.(λm_1.(λt_1.(((n_1 (λr_1.(λq_1.(q_1 (r_1 m_1))))) (λw_1.t_1)) (λu_1.u_1)))))) (λo_1.(λp_1.(o_1 (o_1 p_1))))) (λs_1.(λf_1.(λg_1.g_1)))) (λh_1.(λk_1.h_1))))) (λl_1.(λz_1.(l_1 (l_1 z_1)))))\n",
      "18: ((λx.((((((x (λy.(λa.(λb.(((y (λc.(λd.(d (c a))))) (λe.b)) (λj.j)))))) (λi.(λn.(i (i n))))) (λm.(λt.(λr.r)))) (λq.(λw.q))) ((((λu.((λo.(λp.(λs.(((o (λf.(λg.(g (f p))))) (λh.s)) (λk.k))))) (λl.(λz.(((u (λv.(λx_1.(x_1 (v l))))) (λy_1.z)) (λa_1.a_1)))))) x) (λb_1.(λc_1.(λd_1.d_1)))) (λe_1.(λj_1.e_1)))) ((((x (λi_1.(λn_1.(λm_1.(((i_1 (λt_1.(λr_1.(r_1 (t_1 n_1))))) (λq_1.m_1)) (λw_1.w_1)))))) (λu_1.(λo_1.(u_1 (u_1 o_1))))) (λp_1.(λs_1.(λf_1.f_1)))) (λg_1.(λh_1.g_1))))) (λk_1.(λl_1.(k_1 (k_1 l_1)))))\n",
      "19: ((λw_1.((((((w_1 (λu_1.(λo_1.(λp_1.(((u_1 (λs_1.(λf_1.(f_1 (s_1 o_1))))) (λg_1.p_1)) (λh_1.h_1)))))) (λk_1.(λx.(k_1 (k_1 x))))) (λy.(λa.(λb.b)))) (λc.(λd.c))) ((((λe.(λj.(λi.((((λn.(λm.(((e (λt.(λr.(r (t n))))) (λq.m)) (λw.w)))) (λu.(λo.(o (u j))))) (λp.i)) (λs.s))))) w_1) (λf.(λg.(λh.h)))) (λk.(λl.k)))) ((((w_1 (λz.(λv.(λx_1.(((z (λy_1.(λa_1.(a_1 (y_1 v))))) (λb_1.x_1)) (λc_1.c_1)))))) (λd_1.(λe_1.(d_1 (d_1 e_1))))) (λj_1.(λi_1.(λn_1.n_1)))) (λm_1.(λt_1.m_1))))) (λr_1.(λq_1.(r_1 (r_1 q_1)))))\n",
      "20: ((λx.((((((x (λy.(λa.(λb.(((y (λc.(λd.(d (c a))))) (λe.b)) (λj.j)))))) (λi.(λn.(i (i n))))) (λm.(λt.(λr.r)))) (λq.(λw.q))) ((((λu.(λo.(λp.(((λs.(((u (λf.(λg.(g (f (λh.(λk.(k (h o))))))))) (λl.s)) (λz.z))) (λv.p)) (λx_1.x_1))))) x) (λy_1.(λa_1.(λb_1.b_1)))) (λc_1.(λd_1.c_1)))) ((((x (λe_1.(λj_1.(λi_1.(((e_1 (λn_1.(λm_1.(m_1 (n_1 j_1))))) (λt_1.i_1)) (λr_1.r_1)))))) (λq_1.(λw_1.(q_1 (q_1 w_1))))) (λu_1.(λo_1.(λp_1.p_1)))) (λs_1.(λf_1.s_1))))) (λg_1.(λh_1.(g_1 (g_1 h_1)))))\n",
      "21: ((λj.((((((j (λi.(λn.(λm.(((i (λt.(λr.(r (t n))))) (λq.m)) (λw.w)))))) (λu.(λo.(u (u o))))) (λp.(λs.(λf.f)))) (λg.(λh.g))) ((((λk.(λl.(λz.((((k (λv.(λx_1.(x_1 (v (λy_1.(λa_1.(a_1 (y_1 l))))))))) (λb_1.(λc_1.z))) (λd_1.d_1)) (λe_1.e_1))))) j) (λj_1.(λi_1.(λn_1.n_1)))) (λm_1.(λt_1.m_1)))) ((((j (λr_1.(λq_1.(λw_1.(((r_1 (λu_1.(λo_1.(o_1 (u_1 q_1))))) (λp_1.w_1)) (λs_1.s_1)))))) (λf_1.(λg_1.(f_1 (f_1 g_1))))) (λx.(λy.(λa.a)))) (λb.(λc.b))))) (λd.(λe.(d (d e)))))\n",
      "22: ((λx.((((((x (λy.(λa.(λb.(((y (λc.(λd.(d (c a))))) (λe.b)) (λj.j)))))) (λi.(λn.(i (i n))))) (λm.(λt.(λr.r)))) (λq.(λw.q))) (((λu.(λo.((((x (λp.(λs.(s (p (λf.(λg.(g (f u))))))))) (λh.(λk.o))) (λl.l)) (λz.z)))) (λv.(λx_1.(λy_1.y_1)))) (λa_1.(λb_1.a_1)))) ((((x (λc_1.(λd_1.(λe_1.(((c_1 (λj_1.(λi_1.(i_1 (j_1 d_1))))) (λn_1.e_1)) (λm_1.m_1)))))) (λt_1.(λr_1.(t_1 (t_1 r_1))))) (λq_1.(λw_1.(λu_1.u_1)))) (λo_1.(λp_1.o_1))))) (λs_1.(λf_1.(s_1 (s_1 f_1)))))\n",
      "23: ((λx.((((((x (λy.(λa.(λb.(((y (λc.(λd.(d (c a))))) (λe.b)) (λj.j)))))) (λi.(λn.(i (i n))))) (λm.(λt.(λr.r)))) (λq.(λw.q))) ((λu.((((x (λo.(λp.(p (o (λs.(λf.(f (s (λg.(λh.(λk.k)))))))))))) (λl.(λz.u))) (λv.v)) (λx_1.x_1))) (λy_1.(λa_1.y_1)))) ((((x (λb_1.(λc_1.(λd_1.(((b_1 (λe_1.(λj_1.(j_1 (e_1 c_1))))) (λi_1.d_1)) (λn_1.n_1)))))) (λm_1.(λt_1.(m_1 (m_1 t_1))))) (λr_1.(λq_1.(λw_1.w_1)))) (λu_1.(λo_1.u_1))))) (λp_1.(λs_1.(p_1 (p_1 s_1)))))\n",
      "24: ((λw.((((((w (λu.(λo.(λp.(((u (λs.(λf.(f (s o))))) (λg.p)) (λh.h)))))) (λk.(λl.(k (k l))))) (λz.(λv.(λx_1.x_1)))) (λy_1.(λa_1.y_1))) ((((w (λb_1.(λc_1.(c_1 (b_1 (λd_1.(λe_1.(e_1 (d_1 (λj_1.(λi_1.(λn_1.n_1)))))))))))) (λm_1.(λt_1.(λr_1.(λq_1.r_1))))) (λw_1.w_1)) (λu_1.u_1))) ((((w (λo_1.(λp_1.(λx.(((o_1 (λy.(λa.(a (y p_1))))) (λb.x)) (λc.c)))))) (λd.(λe.(d (d e))))) (λj.(λi.(λn.n)))) (λm.(λt.m))))) (λr.(λq.(r (r q)))))\n",
      "25: (((((((λx.(λy.(x (x y)))) (λa.(λb.(λc.(((a (λd.(λe.(e (d b))))) (λj.c)) (λi.i)))))) (λn.(λm.(n (n m))))) (λt.(λr.(λq.q)))) (λw.(λu.w))) (((((λo.(λp.(o (o p)))) (λs.(λf.(f (s (λg.(λh.(h (g (λk.(λl.(λz.z)))))))))))) (λv.(λx_1.(λy_1.(λa_1.y_1))))) (λb_1.b_1)) (λc_1.c_1))) (((((λd_1.(λe_1.(d_1 (d_1 e_1)))) (λj_1.(λi_1.(λn_1.(((j_1 (λm_1.(λt_1.(t_1 (m_1 i_1))))) (λr_1.n_1)) (λq_1.q_1)))))) (λw_1.(λu_1.(w_1 (w_1 u_1))))) (λo_1.(λp_1.(λs_1.s_1)))) (λf_1.(λg_1.f_1))))\n",
      "26: (((((((λx.(λy.(x (x y)))) (λa.(λb.(λc.(((a (λd.(λe.(e (d b))))) (λj.c)) (λi.i)))))) (λn.(λm.(n (n m))))) (λt.(λr.(λq.q)))) (λw.(λu.w))) (((((λo.(λp.(o (o p)))) (λs.(λf.(f (s (λg.(λh.(h (g (λk.(λl.(λz.z)))))))))))) (λv.(λx_1.(λy_1.(λa_1.y_1))))) (λb_1.b_1)) (λc_1.c_1))) ((((λd_1.((λe_1.(λj_1.(λi_1.(((e_1 (λn_1.(λm_1.(m_1 (n_1 j_1))))) (λt_1.i_1)) (λr_1.r_1))))) ((λq_1.(λw_1.(λu_1.(((q_1 (λo_1.(λp_1.(p_1 (o_1 w_1))))) (λs_1.u_1)) (λf_1.f_1))))) d_1))) (λg_1.(λh_1.(g_1 (g_1 h_1))))) (λk_1.(λl_1.(λz_1.z_1)))) (λv_1.(λx_2.v_1))))\n",
      "27: (((((((λr_1.(λq_1.(r_1 (r_1 q_1)))) (λw_1.(λu_1.(λo_1.(((w_1 (λp_1.(λs_1.(s_1 (p_1 u_1))))) (λf_1.o_1)) (λg_1.g_1)))))) (λh_1.(λk_1.(h_1 (h_1 k_1))))) (λl_1.(λz_1.(λv_1.v_1)))) (λx.(λy.x))) (((((λa.(λb.(a (a b)))) (λc.(λd.(d (c (λe.(λj.(j (e (λi.(λn.(λm.m)))))))))))) (λt.(λr.(λq.(λw.q))))) (λu.u)) (λo.o))) ((((λp.((λs.(λf.(λg.(((s (λh.(λk.(k (h f))))) (λl.g)) (λz.z))))) (λv.(λx_1.(((p (λy_1.(λa_1.(a_1 (y_1 v))))) (λb_1.x_1)) (λc_1.c_1)))))) (λd_1.(λe_1.(d_1 (d_1 e_1))))) (λj_1.(λi_1.(λn_1.n_1)))) (λm_1.(λt_1.m_1))))\n",
      "28: (((((((λx.(λy.(x (x y)))) (λa.(λb.(λc.(((a (λd.(λe.(e (d b))))) (λj.c)) (λi.i)))))) (λn.(λm.(n (n m))))) (λt.(λr.(λq.q)))) (λw.(λu.w))) (((((λo.(λp.(o (o p)))) (λs.(λf.(f (s (λg.(λh.(h (g (λk.(λl.(λz.z)))))))))))) (λv.(λx_1.(λy_1.(λa_1.y_1))))) (λb_1.b_1)) (λc_1.c_1))) ((((λd_1.(λe_1.(λj_1.((((λi_1.(λn_1.(((d_1 (λm_1.(λt_1.(t_1 (m_1 i_1))))) (λr_1.n_1)) (λq_1.q_1)))) (λw_1.(λu_1.(u_1 (w_1 e_1))))) (λo_1.j_1)) (λp_1.p_1))))) (λs_1.(λf_1.(s_1 (s_1 f_1))))) (λg_1.(λh_1.(λk_1.k_1)))) (λl_1.(λz_1.l_1))))\n",
      "29: (((((((λt.(λr.(t (t r)))) (λq.(λw.(λu.(((q (λo.(λp.(p (o w))))) (λs.u)) (λf.f)))))) (λg.(λh.(g (g h))))) (λk.(λl.(λz.z)))) (λv.(λx_1.v))) (((((λy_1.(λa_1.(y_1 (y_1 a_1)))) (λb_1.(λc_1.(c_1 (b_1 (λd_1.(λe_1.(e_1 (d_1 (λj_1.(λi_1.(λn_1.n_1)))))))))))) (λm_1.(λt_1.(λr_1.(λq_1.r_1))))) (λw_1.w_1)) (λu_1.u_1))) ((((λo_1.(λp_1.(λs_1.(((λf_1.(((o_1 (λg_1.(λh_1.(h_1 (g_1 (λk_1.(λl_1.(l_1 (k_1 p_1))))))))) (λx.f_1)) (λy.y))) (λa.s_1)) (λb.b))))) (λc.(λd.(c (c d))))) (λe.(λj.(λi.i)))) (λn.(λm.n))))\n",
      "30: (((((((λx.(λy.(x (x y)))) (λa.(λb.(λc.(((a (λd.(λe.(e (d b))))) (λj.c)) (λi.i)))))) (λn.(λm.(n (n m))))) (λt.(λr.(λq.q)))) (λw.(λu.w))) (((((λo.(λp.(o (o p)))) (λs.(λf.(f (s (λg.(λh.(h (g (λk.(λl.(λz.z)))))))))))) (λv.(λx_1.(λy_1.(λa_1.y_1))))) (λb_1.b_1)) (λc_1.c_1))) ((((λd_1.(λe_1.(λj_1.((((d_1 (λi_1.(λn_1.(n_1 (i_1 (λm_1.(λt_1.(t_1 (m_1 e_1))))))))) (λr_1.(λq_1.j_1))) (λw_1.w_1)) (λu_1.u_1))))) (λo_1.(λp_1.(o_1 (o_1 p_1))))) (λs_1.(λf_1.(λg_1.g_1)))) (λh_1.(λk_1.h_1))))\n",
      "31: (((((((λx.(λy.(x (x y)))) (λa.(λb.(λc.(((a (λd.(λe.(e (d b))))) (λj.c)) (λi.i)))))) (λn.(λm.(n (n m))))) (λt.(λr.(λq.q)))) (λw.(λu.w))) (((((λo.(λp.(o (o p)))) (λs.(λf.(f (s (λg.(λh.(h (g (λk.(λl.(λz.z)))))))))))) (λv.(λx_1.(λy_1.(λa_1.y_1))))) (λb_1.b_1)) (λc_1.c_1))) (((λd_1.(λe_1.(((((λj_1.(λi_1.(j_1 (j_1 i_1)))) (λn_1.(λm_1.(m_1 (n_1 (λt_1.(λr_1.(r_1 (t_1 d_1))))))))) (λq_1.(λw_1.e_1))) (λu_1.u_1)) (λo_1.o_1)))) (λp_1.(λs_1.(λf_1.f_1)))) (λg_1.(λh_1.g_1))))\n",
      "32: (((((((λd_1.(λe_1.(d_1 (d_1 e_1)))) (λj_1.(λi_1.(λn_1.(((j_1 (λm_1.(λt_1.(t_1 (m_1 i_1))))) (λr_1.n_1)) (λq_1.q_1)))))) (λw_1.(λu_1.(w_1 (w_1 u_1))))) (λo_1.(λp_1.(λs_1.s_1)))) (λf_1.(λg_1.f_1))) (((((λh_1.(λk_1.(h_1 (h_1 k_1)))) (λl_1.(λz_1.(z_1 (l_1 (λx.(λy.(y (x (λa.(λb.(λc.c)))))))))))) (λd.(λe.(λj.(λi.j))))) (λn.n)) (λm.m))) (((λt.(λr.((((λq.((λw.(λu.(u (w (λo.(λp.(p (o t)))))))) ((λs.(λf.(f (s (λg.(λh.(h (g t)))))))) q))) (λk.(λl.r))) (λz.z)) (λv.v)))) (λx_1.(λy_1.(λa_1.a_1)))) (λb_1.(λc_1.b_1))))\n",
      "33: (((((((λx.(λy.(x (x y)))) (λa.(λb.(λc.(((a (λd.(λe.(e (d b))))) (λj.c)) (λi.i)))))) (λn.(λm.(n (n m))))) (λt.(λr.(λq.q)))) (λw.(λu.w))) (((((λo.(λp.(o (o p)))) (λs.(λf.(f (s (λg.(λh.(h (g (λk.(λl.(λz.z)))))))))))) (λv.(λx_1.(λy_1.(λa_1.y_1))))) (λb_1.b_1)) (λc_1.c_1))) (((λd_1.(λe_1.((((λj_1.((λi_1.(λn_1.(n_1 (i_1 (λm_1.(λt_1.(t_1 (m_1 d_1)))))))) (λr_1.(r_1 (j_1 (λq_1.(λw_1.(w_1 (q_1 d_1))))))))) (λu_1.(λo_1.e_1))) (λp_1.p_1)) (λs_1.s_1)))) (λf_1.(λg_1.(λh_1.h_1)))) (λk_1.(λl_1.k_1))))\n",
      "34: (((((((λa.(λb.(a (a b)))) (λc.(λd.(λe.(((c (λj.(λi.(i (j d))))) (λn.e)) (λm.m)))))) (λt.(λr.(t (t r))))) (λq.(λw.(λu.u)))) (λo.(λp.o))) (((((λs.(λf.(s (s f)))) (λg.(λh.(h (g (λk.(λl.(l (k (λz.(λv.(λx_1.x_1)))))))))))) (λy_1.(λa_1.(λb_1.(λc_1.b_1))))) (λd_1.d_1)) (λe_1.e_1))) (((λj_1.(λi_1.((((λn_1.(λm_1.(m_1 ((λt_1.(t_1 (n_1 (λr_1.(λq_1.(q_1 (r_1 j_1))))))) (λw_1.(λu_1.(u_1 (w_1 j_1)))))))) (λo_1.(λp_1.i_1))) (λs_1.s_1)) (λf_1.f_1)))) (λg_1.(λh_1.(λk_1.k_1)))) (λx.(λy.x))))\n",
      "35: (((((((λx.(λy.(x (x y)))) (λa.(λb.(λc.(((a (λd.(λe.(e (d b))))) (λj.c)) (λi.i)))))) (λn.(λm.(n (n m))))) (λt.(λr.(λq.q)))) (λw.(λu.w))) (((((λo.(λp.(o (o p)))) (λs.(λf.(f (s (λg.(λh.(h (g (λk.(λl.(λz.z)))))))))))) (λv.(λx_1.(λy_1.(λa_1.y_1))))) (λb_1.b_1)) (λc_1.c_1))) (((λd_1.(λe_1.((((λj_1.(λi_1.(i_1 ((λn_1.(λm_1.(m_1 (n_1 d_1)))) (j_1 (λt_1.(λr_1.(r_1 (t_1 d_1))))))))) (λq_1.(λw_1.e_1))) (λu_1.u_1)) (λo_1.o_1)))) (λp_1.(λs_1.(λf_1.f_1)))) (λg_1.(λh_1.g_1))))\n",
      "36: (((((((λx.(λy.(x (x y)))) (λa.(λb.(λc.(((a (λd.(λe.(e (d b))))) (λj.c)) (λi.i)))))) (λn.(λm.(n (n m))))) (λt.(λr.(λq.q)))) (λw.(λu.w))) (((((λo.(λp.(o (o p)))) (λs.(λf.(f (s (λg.(λh.(h (g (λk.(λl.(λz.z)))))))))))) (λv.(λx_1.(λy_1.(λa_1.y_1))))) (λb_1.b_1)) (λc_1.c_1))) (((λd_1.(λe_1.((((λj_1.(λi_1.(i_1 (λn_1.(n_1 ((j_1 (λm_1.(λt_1.(t_1 (m_1 d_1))))) d_1)))))) (λr_1.(λq_1.e_1))) (λw_1.w_1)) (λu_1.u_1)))) (λo_1.(λp_1.(λs_1.s_1)))) (λf_1.(λg_1.f_1))))\n",
      "37: (((((((λu.(λo.(u (u o)))) (λp.(λs.(λf.(((p (λg.(λh.(h (g s))))) (λk.f)) (λl.l)))))) (λz.(λv.(z (z v))))) (λx_1.(λy_1.(λa_1.a_1)))) (λb_1.(λc_1.b_1))) (((((λd_1.(λe_1.(d_1 (d_1 e_1)))) (λj_1.(λi_1.(i_1 (j_1 (λn_1.(λm_1.(m_1 (n_1 (λt_1.(λr_1.(λq_1.q_1)))))))))))) (λw_1.(λu_1.(λo_1.(λp_1.o_1))))) (λs_1.s_1)) (λf_1.f_1))) (((λx.(λy.(((λa.(a (λb.(b (((λc.(λd.y)) (λe.(λj.(j (e x))))) x))))) (λi.i)) (λn.n)))) (λm.(λt.(λr.r)))) (λq.(λw.q))))\n",
      "38: (((((((λx.(λy.(x (x y)))) (λa.(λb.(λc.(((a (λd.(λe.(e (d b))))) (λj.c)) (λi.i)))))) (λn.(λm.(n (n m))))) (λt.(λr.(λq.q)))) (λw.(λu.w))) (((((λo.(λp.(o (o p)))) (λs.(λf.(f (s (λg.(λh.(h (g (λk.(λl.(λz.z)))))))))))) (λv.(λx_1.(λy_1.(λa_1.y_1))))) (λb_1.b_1)) (λc_1.c_1))) (((λd_1.(λe_1.(((λj_1.(j_1 (λi_1.(i_1 ((λn_1.e_1) d_1))))) (λm_1.m_1)) (λt_1.t_1)))) (λr_1.(λq_1.(λw_1.w_1)))) (λu_1.(λo_1.u_1))))\n",
      "39: (((((((λx.(λy.(x (x y)))) (λa.(λb.(λc.(((a (λd.(λe.(e (d b))))) (λj.c)) (λi.i)))))) (λn.(λm.(n (n m))))) (λt.(λr.(λq.q)))) (λw.(λu.w))) (((((λo.(λp.(o (o p)))) (λs.(λf.(f (s (λg.(λh.(h (g (λk.(λl.(λz.z)))))))))))) (λv.(λx_1.(λy_1.(λa_1.y_1))))) (λb_1.b_1)) (λc_1.c_1))) (((λd_1.(λe_1.(((λj_1.(j_1 (λi_1.(i_1 e_1)))) (λn_1.n_1)) (λm_1.m_1)))) (λt_1.(λr_1.(λq_1.q_1)))) (λw_1.(λu_1.w_1))))\n",
      "40: (((((((λq.(λw.(q (q w)))) (λu.(λo.(λp.(((u (λs.(λf.(f (s o))))) (λg.p)) (λh.h)))))) (λk.(λl.(k (k l))))) (λz.(λv.(λx_1.x_1)))) (λy_1.(λa_1.y_1))) (((((λb_1.(λc_1.(b_1 (b_1 c_1)))) (λd_1.(λe_1.(e_1 (d_1 (λj_1.(λi_1.(i_1 (j_1 (λn_1.(λm_1.(λt_1.t_1)))))))))))) (λr_1.(λq_1.(λw_1.(λx.w_1))))) (λy.y)) (λa.a))) (((λb.(λc.(((λd.d) (λe.(e c))) (λj.j)))) (λi.(λn.(λm.m)))) (λt.(λr.t))))\n",
      "41: (((((((λx.(λy.(x (x y)))) (λa.(λb.(λc.(((a (λd.(λe.(e (d b))))) (λj.c)) (λi.i)))))) (λn.(λm.(n (n m))))) (λt.(λr.(λq.q)))) (λw.(λu.w))) (((((λo.(λp.(o (o p)))) (λs.(λf.(f (s (λg.(λh.(h (g (λk.(λl.(λz.z)))))))))))) (λv.(λx_1.(λy_1.(λa_1.y_1))))) (λb_1.b_1)) (λc_1.c_1))) (((λd_1.(λe_1.((λj_1.(j_1 e_1)) (λi_1.i_1)))) (λn_1.(λm_1.(λt_1.t_1)))) (λr_1.(λq_1.r_1))))\n",
      "42: (((((((λx.(λy.(x (x y)))) (λa.(λb.(λc.(((a (λd.(λe.(e (d b))))) (λj.c)) (λi.i)))))) (λn.(λm.(n (n m))))) (λt.(λr.(λq.q)))) (λw.(λu.w))) (((((λo.(λp.(o (o p)))) (λs.(λf.(f (s (λg.(λh.(h (g (λk.(λl.(λz.z)))))))))))) (λv.(λx_1.(λy_1.(λa_1.y_1))))) (λb_1.b_1)) (λc_1.c_1))) (((λd_1.(λe_1.((λj_1.j_1) e_1))) (λi_1.(λn_1.(λm_1.m_1)))) (λt_1.(λr_1.t_1))))\n",
      "43: (((((((λa.(λb.(a (a b)))) (λc.(λd.(λe.(((c (λj.(λi.(i (j d))))) (λn.e)) (λm.m)))))) (λt.(λr.(t (t r))))) (λq.(λw.(λu.u)))) (λo.(λp.o))) (((((λs.(λf.(s (s f)))) (λg.(λh.(h (g (λk.(λl.(l (k (λz.(λv.(λx_1.x_1)))))))))))) (λy_1.(λa_1.(λb_1.(λc_1.b_1))))) (λd_1.d_1)) (λe_1.e_1))) (((λj_1.(λi_1.i_1)) (λn_1.(λm_1.(λt_1.t_1)))) (λx.(λy.x))))\n",
      "44: (((((((λx.(λy.(x (x y)))) (λa.(λb.(λc.(((a (λd.(λe.(e (d b))))) (λj.c)) (λi.i)))))) (λn.(λm.(n (n m))))) (λt.(λr.(λq.q)))) (λw.(λu.w))) (((((λo.(λp.(o (o p)))) (λs.(λf.(f (s (λg.(λh.(h (g (λk.(λl.(λz.z)))))))))))) (λv.(λx_1.(λy_1.(λa_1.y_1))))) (λb_1.b_1)) (λc_1.c_1))) ((λd_1.d_1) (λe_1.(λj_1.e_1))))\n",
      "45: (((((((λx.(λy.(x (x y)))) (λa.(λb.(λc.(((a (λd.(λe.(e (d b))))) (λj.c)) (λi.i)))))) (λn.(λm.(n (n m))))) (λt.(λr.(λq.q)))) (λw.(λu.w))) (((((λo.(λp.(o (o p)))) (λs.(λf.(f (s (λg.(λh.(h (g (λk.(λl.(λz.z)))))))))))) (λv.(λx_1.(λy_1.(λa_1.y_1))))) (λb_1.b_1)) (λc_1.c_1))) (λd_1.(λe_1.d_1)))\n",
      "46: (((((((λx.(λy.(x (x y)))) (λa.(λb.(λc.(((a (λd.(λe.(e (d b))))) (λj.c)) (λi.i)))))) (λn.(λm.(n (n m))))) (λt.(λr.(λq.q)))) (λw.(λu.w))) ((((λo.((λp.(λs.(s (p (λf.(λg.(g (f (λh.(λk.(λl.l))))))))))) ((λz.(λv.(v (z (λx_1.(λy_1.(y_1 (x_1 (λa_1.(λb_1.(λc_1.c_1))))))))))) o))) (λd_1.(λe_1.(λj_1.(λi_1.j_1))))) (λn_1.n_1)) (λm_1.m_1))) (λt_1.(λr_1.t_1)))\n",
      "47: (((((((λs.(λf.(s (s f)))) (λg.(λh.(λk.(((g (λl.(λz.(z (l h))))) (λv.k)) (λx_1.x_1)))))) (λy_1.(λa_1.(y_1 (y_1 a_1))))) (λb_1.(λc_1.(λd_1.d_1)))) (λe_1.(λj_1.e_1))) ((((λi_1.((λn_1.(λm_1.(m_1 (n_1 (λt_1.(λx.(x (t_1 (λy.(λa.(λb.b))))))))))) (λc.(c (i_1 (λd.(λe.(e (d (λj.(λi.(λn.n)))))))))))) (λm.(λt.(λr.(λq.r))))) (λw.w)) (λu.u))) (λo.(λp.o)))\n",
      "48: (((((((λx.(λy.(x (x y)))) (λa.(λb.(λc.(((a (λd.(λe.(e (d b))))) (λj.c)) (λi.i)))))) (λn.(λm.(n (n m))))) (λt.(λr.(λq.q)))) (λw.(λu.w))) ((((λo.(λp.(p ((λs.(s (o (λf.(λg.(g (f (λh.(λk.(λl.l)))))))))) (λz.(λv.(v (z (λx_1.(λy_1.(λa_1.a_1))))))))))) (λb_1.(λc_1.(λd_1.(λe_1.d_1))))) (λj_1.j_1)) (λi_1.i_1))) (λn_1.(λm_1.n_1)))\n",
      "49: (((((((λx.(λy.(x (x y)))) (λa.(λb.(λc.(((a (λd.(λe.(e (d b))))) (λj.c)) (λi.i)))))) (λn.(λm.(n (n m))))) (λt.(λr.(λq.q)))) (λw.(λu.w))) ((((λo.(λp.(p ((λs.(λf.(f (s (λg.(λh.(λk.k))))))) (o (λl.(λz.(z (l (λv.(λx_1.(λy_1.y_1)))))))))))) (λa_1.(λb_1.(λc_1.(λd_1.c_1))))) (λe_1.e_1)) (λj_1.j_1))) (λi_1.(λn_1.i_1)))\n",
      "50: (((((((λx.(λy.(x (x y)))) (λa.(λb.(λc.(((a (λd.(λe.(e (d b))))) (λj.c)) (λi.i)))))) (λn.(λm.(n (n m))))) (λt.(λr.(λq.q)))) (λw.(λu.w))) ((((λo.(λp.(p (λs.(s ((o (λf.(λg.(g (f (λh.(λk.(λl.l)))))))) (λz.(λv.(λx_1.x_1))))))))) (λy_1.(λa_1.(λb_1.(λc_1.b_1))))) (λd_1.d_1)) (λe_1.e_1))) (λj_1.(λi_1.j_1)))\n",
      "51: (((((((λe_1.(λj_1.(e_1 (e_1 j_1)))) (λx.(λy.(λa.(((x (λb.(λc.(c (b y))))) (λd.a)) (λe.e)))))) (λj.(λi.(j (j i))))) (λn.(λm.(λt.t)))) (λr.(λq.r))) (((λw.(w (λu.(u (((λo.(λp.(λs.(λf.s)))) (λg.(λh.(h (g (λk.(λl.(λz.z)))))))) (λv.(λx_1.(λy_1.y_1)))))))) (λa_1.a_1)) (λb_1.b_1))) (λc_1.(λd_1.c_1)))\n",
      "52: (((((((λx.(λy.(x (x y)))) (λa.(λb.(λc.(((a (λd.(λe.(e (d b))))) (λj.c)) (λi.i)))))) (λn.(λm.(n (n m))))) (λt.(λr.(λq.q)))) (λw.(λu.w))) (((λo.(o (λp.(p ((λs.(λf.(λg.f))) (λh.(λk.(λl.l)))))))) (λz.z)) (λv.v))) (λx_1.(λy_1.x_1)))\n",
      "53: (((((((λx.(λy.(x (x y)))) (λa.(λb.(λc.(((a (λd.(λe.(e (d b))))) (λj.c)) (λi.i)))))) (λn.(λm.(n (n m))))) (λt.(λr.(λq.q)))) (λw.(λu.w))) (((λo.(o (λp.(p (λs.(λf.s)))))) (λg.g)) (λh.h))) (λk.(λl.k)))\n",
      "54: (((((((λx.(λy.(x (x y)))) (λa.(λb.(λc.(((a (λd.(λe.(e (d b))))) (λj.c)) (λi.i)))))) (λn.(λm.(n (n m))))) (λt.(λr.(λq.q)))) (λw.(λu.w))) (((λo.o) (λp.(p (λs.(λf.s))))) (λg.g))) (λh.(λk.h)))\n",
      "55: (((((((λy.(λa.(y (y a)))) (λb.(λc.(λd.(((b (λe.(λj.(j (e c))))) (λi.d)) (λn.n)))))) (λm.(λt.(m (m t))))) (λr.(λq.(λw.w)))) (λu.(λo.u))) ((λp.(p (λs.(λf.s)))) (λg.g))) (λh.(λx.h)))\n",
      "56: (((((((λx.(λy.(x (x y)))) (λa.(λb.(λc.(((a (λd.(λe.(e (d b))))) (λj.c)) (λi.i)))))) (λn.(λm.(n (n m))))) (λt.(λr.(λq.q)))) (λw.(λu.w))) ((λo.o) (λp.(λs.p)))) (λf.(λg.f)))\n",
      "57: (((((((λx.(λy.(x (x y)))) (λa.(λb.(λc.(((a (λd.(λe.(e (d b))))) (λj.c)) (λi.i)))))) (λn.(λm.(n (n m))))) (λt.(λr.(λq.q)))) (λw.(λu.w))) (λo.(λp.o))) (λs.(λf.s)))\n",
      "58: ((((((λx.((λy.(λa.(λb.(((y (λc.(λd.(d (c a))))) (λe.b)) (λj.j))))) ((λi.(λn.(λm.(((i (λt.(λr.(r (t n))))) (λq.m)) (λw.w))))) x))) (λu.(λo.(u (u o))))) (λp.(λs.(λf.f)))) (λg.(λh.g))) (λk.(λl.k))) (λz.(λv.z)))\n",
      "59: ((((((λx.((λy.(λa.(λb.(((y (λc.(λd.(d (c a))))) (λe.b)) (λj.j))))) (λi.(λn.(((x (λm.(λt.(t (m i))))) (λr.n)) (λq.q)))))) (λw.(λu.(w (w u))))) (λo.(λp.(λs.s)))) (λf.(λg.f))) (λh.(λk.h))) (λl.(λz.l)))\n",
      "60: ((((((λx.(λy.(λa.((((λb.(λc.(((x (λd.(λe.(e (d b))))) (λj.c)) (λi.i)))) (λn.(λm.(m (n y))))) (λt.a)) (λr.r))))) (λq.(λw.(q (q w))))) (λu.(λo.(λp.p)))) (λs.(λf.s))) (λg.(λh.g))) (λk.(λl.k)))\n",
      "61: ((((((λr.(λq.(λw.(((λu.(((r (λo.(λp.(p (o (λs.(λf.(f (s q))))))))) (λg.u)) (λh.h))) (λk.w)) (λx.x))))) (λy.(λa.(y (y a))))) (λb.(λc.(λd.d)))) (λe.(λj.e))) (λi.(λn.i))) (λm.(λt.m)))\n",
      "62: ((((((λx.(λy.(λa.((((x (λb.(λc.(c (b (λd.(λe.(e (d y))))))))) (λj.(λi.a))) (λn.n)) (λm.m))))) (λt.(λr.(t (t r))))) (λq.(λw.(λu.u)))) (λo.(λp.o))) (λs.(λf.s))) (λg.(λh.g)))\n",
      "63: (((((λx.(λy.(((((λa.(λb.(a (a b)))) (λc.(λd.(d (c (λe.(λj.(j (e x))))))))) (λi.(λn.y))) (λm.m)) (λt.t)))) (λr.(λq.(λw.w)))) (λu.(λo.u))) (λp.(λs.p))) (λf.(λg.f)))\n",
      "64: (((((λx.(λy.((((λa.((λb.(λc.(c (b (λd.(λe.(e (d x)))))))) ((λj.(λi.(i (j (λn.(λm.(m (n x)))))))) a))) (λt.(λr.y))) (λq.q)) (λw.w)))) (λu.(λo.(λp.p)))) (λs.(λf.s))) (λg.(λh.g))) (λk.(λl.k)))\n",
      "65: (((((λx.(λy.((((λa.((λb.(λc.(c (b (λd.(λe.(e (d x)))))))) (λj.(j (a (λi.(λn.(n (i x))))))))) (λm.(λt.y))) (λr.r)) (λq.q)))) (λw.(λu.(λo.o)))) (λp.(λs.p))) (λf.(λg.f))) (λh.(λk.h)))\n",
      "66: (((((λx.(λy.((((λa.(λb.(b ((λc.(c (a (λd.(λe.(e (d x))))))) (λj.(λi.(i (j x)))))))) (λn.(λm.y))) (λt.t)) (λr.r)))) (λq.(λw.(λu.u)))) (λo.(λp.o))) (λs.(λf.s))) (λg.(λh.g)))\n",
      "67: (((((λp.(λs.((((λf.(λg.(g ((λx.(λy.(y (x p)))) (f (λa.(λb.(b (a p))))))))) (λc.(λd.s))) (λe.e)) (λj.j)))) (λi.(λn.(λm.m)))) (λt.(λr.t))) (λq.(λw.q))) (λu.(λo.u)))\n",
      "68: (((((λx.(λy.((((λa.(λb.(b (λc.(c ((a (λd.(λe.(e (d x))))) x)))))) (λj.(λi.y))) (λn.n)) (λm.m)))) (λt.(λr.(λq.q)))) (λw.(λu.w))) (λo.(λp.o))) (λs.(λf.s)))\n",
      "69: (((((λx.(λy.(((λa.(a (λb.(b (((λc.(λd.y)) (λe.(λj.(j (e x))))) x))))) (λi.i)) (λn.n)))) (λm.(λt.(λr.r)))) (λq.(λw.q))) (λu.(λo.u))) (λp.(λs.p)))\n",
      "70: (((((λi.(λn.(((λm.(m (λt.(t ((λr.n) i))))) (λq.q)) (λw.w)))) (λu.(λx.(λy.y)))) (λa.(λb.a))) (λc.(λd.c))) (λe.(λj.e)))\n",
      "71: (((((λx.(λy.(((λa.(a (λb.(b y)))) (λc.c)) (λd.d)))) (λe.(λj.(λi.i)))) (λn.(λm.n))) (λt.(λr.t))) (λq.(λw.q)))\n",
      "72: (((((λd.(λe.(((λj.j) (λi.(i e))) (λn.n)))) (λm.(λt.(λr.r)))) (λq.(λx.q))) (λy.(λa.y))) (λb.(λc.b)))\n",
      "73: (((((λx.(λy.((λa.(a y)) (λb.b)))) (λc.(λd.(λe.e)))) (λj.(λi.j))) (λn.(λm.n))) (λt.(λr.t)))\n",
      "74: (((((λx.(λy.((λa.a) y))) (λb.(λc.(λd.d)))) (λe.(λj.e))) (λi.(λn.i))) (λm.(λt.m)))\n",
      "75: (((((λn.(λm.m)) (λx.(λy.(λa.a)))) (λb.(λc.b))) (λd.(λe.d))) (λj.(λi.j)))\n",
      "76: ((((λx.x) (λy.(λa.y))) (λb.(λc.b))) (λd.(λe.d)))\n",
      "77: (((λx.(λy.x)) (λa.(λb.a))) (λc.(λd.c)))\n",
      "78: ((λx.(λy.(λa.y))) (λb.(λc.b)))\n",
      "79: (λx.(λy.x))\n",
      "\n",
      "\n",
      "reduction steps: 79\n",
      "norm term:       (λx.(λy.x))\n"
     ]
    }
   ],
   "source": [
    "def term_test_12():\n",
    "    return multi_app_term(eq_term(), num_term(2), num_term(2))\n",
    "\n",
    "\n",
    "test_procedure(term_test_12(), steps_lim=100)"
   ],
   "metadata": {
    "collapsed": false
   }
  },
  {
   "cell_type": "markdown",
   "source": [
    "# <span style=\"color: #A1F99C\">13.</span>\n",
    "<span style=\"color:#bb91f3\">(EQ 1 4)</span> == <span style=\"color:#f1bd47\">FALSE</span> == <span style=\"color:#f1bd47\">λx. λy. y</span>"
   ],
   "metadata": {
    "collapsed": false
   }
  },
  {
   "cell_type": "code",
   "execution_count": 16,
   "outputs": [
    {
     "name": "stdout",
     "output_type": "stream",
     "text": [
      "0: (((λx.(λy.(((λa.(λb.((((λc.(λd.(λe.((c d) e)))) a) b) a))) (((λj.(λi.((λn.((n (λm.(λt.(λr.r)))) (λq.(λw.q)))) (((λu.(λo.((o (λp.(λs.(λf.(((p (λg.(λh.(h (g s))))) (λk.f)) (λl.l)))))) u))) j) i)))) x) y)) (((λz.(λv.((λx_1.((x_1 (λy_1.(λa_1.(λb_1.b_1)))) (λc_1.(λd_1.c_1)))) (((λe_1.(λj_1.((j_1 (λi_1.(λn_1.(λm_1.(((i_1 (λt_1.(λr_1.(r_1 (t_1 n_1))))) (λq_1.m_1)) (λw_1.w_1)))))) e_1))) z) v)))) y) x)))) (λu_1.(λo_1.(u_1 o_1)))) (λp_1.(λs_1.(p_1 (p_1 (p_1 (p_1 s_1)))))))\n",
      "1: (((λj_1.(λi_1.(((λn_1.(λm_1.((((λt_1.(λr_1.(λq_1.((t_1 r_1) q_1)))) n_1) m_1) n_1))) (((λw_1.(λu_1.((λo_1.((o_1 (λp_1.(λx.(λy.y)))) (λa.(λb.a)))) (((λc.(λd.((d (λe.(λj.(λi.(((e (λn.(λm.(m (n j))))) (λt.i)) (λr.r)))))) c))) w_1) u_1)))) j_1) i_1)) (((λq.(λw.((λu.((u (λo.(λp.(λs.s)))) (λf.(λg.f)))) ((λh.((h (λk.(λl.(λz.(((k (λv.(λx_1.(x_1 (v l))))) (λy_1.z)) (λa_1.a_1)))))) q)) w)))) i_1) j_1)))) (λb_1.(λc_1.(b_1 c_1)))) (λd_1.(λe_1.(d_1 (d_1 (d_1 (d_1 e_1)))))))\n",
      "2: (((λx.(λy.(((λa.(λb.((((λc.(λd.(λe.((c d) e)))) a) b) a))) (((λj.(λi.((λn.((n (λm.(λt.(λr.r)))) (λq.(λw.q)))) (((λu.(λo.((o (λp.(λs.(λf.(((p (λg.(λh.(h (g s))))) (λk.f)) (λl.l)))))) u))) j) i)))) x) y)) (((λz.(λv.((λx_1.((x_1 (λy_1.(λa_1.(λb_1.b_1)))) (λc_1.(λd_1.c_1)))) ((v (λe_1.(λj_1.(λi_1.(((e_1 (λn_1.(λm_1.(m_1 (n_1 j_1))))) (λt_1.i_1)) (λr_1.r_1)))))) z)))) y) x)))) (λq_1.(λw_1.(q_1 w_1)))) (λu_1.(λo_1.(u_1 (u_1 (u_1 (u_1 o_1)))))))\n",
      "3: (((λx.(λy.(((λa.(λb.((((λc.(λd.(λe.((c d) e)))) a) b) a))) (((λj.(λi.((λn.((n (λm.(λt.(λr.r)))) (λq.(λw.q)))) (((λu.(λo.((o (λp.(λs.(λf.(((p (λg.(λh.(h (g s))))) (λk.f)) (λl.l)))))) u))) j) i)))) x) y)) (((λz.(λv.((((v (λx_1.(λy_1.(λa_1.(((x_1 (λb_1.(λc_1.(c_1 (b_1 y_1))))) (λd_1.a_1)) (λe_1.e_1)))))) z) (λj_1.(λi_1.(λn_1.n_1)))) (λm_1.(λt_1.m_1))))) y) x)))) (λr_1.(λq_1.(r_1 q_1)))) (λw_1.(λu_1.(w_1 (w_1 (w_1 (w_1 u_1)))))))\n",
      "4: (((λd_1.(λe_1.(((λj_1.(λi_1.((((λn_1.(λm_1.(λt_1.((n_1 m_1) t_1)))) j_1) i_1) j_1))) (((λr_1.(λq_1.((λw_1.((w_1 (λx.(λy.(λa.a)))) (λb.(λc.b)))) (((λd.(λe.((e (λj.(λi.(λn.(((j (λm.(λt.(t (m i))))) (λr.n)) (λq.q)))))) d))) r_1) q_1)))) d_1) e_1)) ((λw.((((w (λu.(λo.(λp.(((u (λs.(λf.(f (s o))))) (λg.p)) (λh.h)))))) e_1) (λk.(λl.(λz.z)))) (λv.(λx_1.v)))) d_1)))) (λy_1.(λa_1.(y_1 a_1)))) (λb_1.(λc_1.(b_1 (b_1 (b_1 (b_1 c_1)))))))\n",
      "5: (((λx.(λy.(((λa.(λb.((((λc.(λd.(λe.((c d) e)))) a) b) a))) (((λj.(λi.((λn.((n (λm.(λt.(λr.r)))) (λq.(λw.q)))) (((λu.(λo.((o (λp.(λs.(λf.(((p (λg.(λh.(h (g s))))) (λk.f)) (λl.l)))))) u))) j) i)))) x) y)) ((((x (λz.(λv.(λx_1.(((z (λy_1.(λa_1.(a_1 (y_1 v))))) (λb_1.x_1)) (λc_1.c_1)))))) y) (λd_1.(λe_1.(λj_1.j_1)))) (λi_1.(λn_1.i_1)))))) (λm_1.(λt_1.(m_1 t_1)))) (λr_1.(λq_1.(r_1 (r_1 (r_1 (r_1 q_1)))))))\n",
      "6: (((λx.(λy.(((λa.(λb.((((λc.(λd.(λe.((c d) e)))) a) b) a))) (((λj.(λi.((λn.((n (λm.(λt.(λr.r)))) (λq.(λw.q)))) ((λu.((u (λo.(λp.(λs.(((o (λf.(λg.(g (f p))))) (λh.s)) (λk.k)))))) j)) i)))) x) y)) ((((x (λl.(λz.(λv.(((l (λx_1.(λy_1.(y_1 (x_1 z))))) (λa_1.v)) (λb_1.b_1)))))) y) (λc_1.(λd_1.(λe_1.e_1)))) (λj_1.(λi_1.j_1)))))) (λn_1.(λm_1.(n_1 m_1)))) (λt_1.(λr_1.(t_1 (t_1 (t_1 (t_1 r_1)))))))\n",
      "7: (((λg.(λh.(((λk.(λl.((((λz.(λv.(λx_1.((z v) x_1)))) k) l) k))) (((λy_1.(λa_1.((λb_1.((b_1 (λc_1.(λd_1.(λe_1.e_1)))) (λj_1.(λi_1.j_1)))) ((a_1 (λn_1.(λm_1.(λt_1.(((n_1 (λx.(λy.(y (x m_1))))) (λa.t_1)) (λb.b)))))) y_1)))) g) h)) ((((g (λc.(λd.(λe.(((c (λj.(λi.(i (j d))))) (λn.e)) (λm.m)))))) h) (λt.(λr.(λq.q)))) (λw.(λu.w)))))) (λo.(λp.(o p)))) (λs.(λf.(s (s (s (s f)))))))\n",
      "8: (((λx.(λy.(((λa.(λb.((((λc.(λd.(λe.((c d) e)))) a) b) a))) (((λj.(λi.((((i (λn.(λm.(λt.(((n (λr.(λq.(q (r m))))) (λw.t)) (λu.u)))))) j) (λo.(λp.(λs.s)))) (λf.(λg.f))))) x) y)) ((((x (λh.(λk.(λl.(((h (λz.(λv.(v (z k))))) (λx_1.l)) (λy_1.y_1)))))) y) (λa_1.(λb_1.(λc_1.c_1)))) (λd_1.(λe_1.d_1)))))) (λj_1.(λi_1.(j_1 i_1)))) (λn_1.(λm_1.(n_1 (n_1 (n_1 (n_1 m_1)))))))\n",
      "9: (((λx.(λy.(((λa.(λb.((((λc.(λd.(λe.((c d) e)))) a) b) a))) ((λj.((((j (λi.(λn.(λm.(((i (λt.(λr.(r (t n))))) (λq.m)) (λw.w)))))) x) (λu.(λo.(λp.p)))) (λs.(λf.s)))) y)) ((((x (λg.(λh.(λk.(((g (λl.(λz.(z (l h))))) (λv.k)) (λx_1.x_1)))))) y) (λy_1.(λa_1.(λb_1.b_1)))) (λc_1.(λd_1.c_1)))))) (λe_1.(λj_1.(e_1 j_1)))) (λi_1.(λn_1.(i_1 (i_1 (i_1 (i_1 n_1)))))))\n",
      "10: (((λx.(λy.(((λa.(λb.((((λc.(λd.(λe.((c d) e)))) a) b) a))) ((((y (λj.(λi.(λn.(((j (λm.(λt.(t (m i))))) (λr.n)) (λq.q)))))) x) (λw.(λu.(λo.o)))) (λp.(λs.p)))) ((((x (λf.(λg.(λh.(((f (λk.(λl.(l (k g))))) (λz.h)) (λv.v)))))) y) (λx_1.(λy_1.(λa_1.a_1)))) (λb_1.(λc_1.b_1)))))) (λd_1.(λe_1.(d_1 e_1)))) (λj_1.(λi_1.(j_1 (j_1 (j_1 (j_1 i_1)))))))\n",
      "11: (((λx.(λy.(((λa.(λb.(((λc.(λd.((a c) d))) b) a))) ((((y (λe.(λj.(λi.(((e (λn.(λm.(m (n j))))) (λt.i)) (λr.r)))))) x) (λq.(λw.(λu.u)))) (λo.(λp.o)))) ((((x (λs.(λf.(λg.(((s (λh.(λk.(k (h f))))) (λl.g)) (λz.z)))))) y) (λv.(λx_1.(λy_1.y_1)))) (λa_1.(λb_1.a_1)))))) (λc_1.(λd_1.(c_1 d_1)))) (λe_1.(λj_1.(e_1 (e_1 (e_1 (e_1 j_1)))))))\n",
      "12: (((λx.(λy.(((λa.(λb.((λc.((a b) c)) a))) ((((y (λd.(λe.(λj.(((d (λi.(λn.(n (i e))))) (λm.j)) (λt.t)))))) x) (λr.(λq.(λw.w)))) (λu.(λo.u)))) ((((x (λp.(λs.(λf.(((p (λg.(λh.(h (g s))))) (λk.f)) (λl.l)))))) y) (λz.(λv.(λx_1.x_1)))) (λy_1.(λa_1.y_1)))))) (λb_1.(λc_1.(b_1 c_1)))) (λd_1.(λe_1.(d_1 (d_1 (d_1 (d_1 e_1)))))))\n",
      "13: (((λx.(λy.(((λa.(λb.((a b) a))) ((((y (λc.(λd.(λe.(((c (λj.(λi.(i (j d))))) (λn.e)) (λm.m)))))) x) (λt.(λr.(λq.q)))) (λw.(λu.w)))) ((((x (λo.(λp.(λs.(((o (λf.(λg.(g (f p))))) (λh.s)) (λk.k)))))) y) (λl.(λz.(λv.v)))) (λx_1.(λy_1.x_1)))))) (λa_1.(λb_1.(a_1 b_1)))) (λc_1.(λd_1.(c_1 (c_1 (c_1 (c_1 d_1)))))))\n",
      "14: (((λw.(λu.((λo.((((((u (λp.(λs.(λf.(((p (λg.(λh.(h (g s))))) (λk.f)) (λl.l)))))) w) (λz.(λv.(λx_1.x_1)))) (λy_1.(λa_1.y_1))) o) ((((u (λb_1.(λc_1.(λd_1.(((b_1 (λe_1.(λj_1.(j_1 (e_1 c_1))))) (λi_1.d_1)) (λn_1.n_1)))))) w) (λm_1.(λt_1.(λr_1.r_1)))) (λq_1.(λw_1.q_1))))) ((((w (λu_1.(λo_1.(λx.(((u_1 (λy.(λa.(a (y o_1))))) (λb.x)) (λc.c)))))) u) (λd.(λe.(λj.j)))) (λi.(λn.i)))))) (λm.(λt.(m t)))) (λr.(λq.(r (r (r (r q)))))))\n",
      "15: (((λx.(λy.((((((y (λa.(λb.(λc.(((a (λd.(λe.(e (d b))))) (λj.c)) (λi.i)))))) x) (λn.(λm.(λt.t)))) (λr.(λq.r))) ((((x (λw.(λu.(λo.(((w (λp.(λs.(s (p u))))) (λf.o)) (λg.g)))))) y) (λh.(λk.(λl.l)))) (λz.(λv.z)))) ((((y (λx_1.(λy_1.(λa_1.(((x_1 (λb_1.(λc_1.(c_1 (b_1 y_1))))) (λd_1.a_1)) (λe_1.e_1)))))) x) (λj_1.(λi_1.(λn_1.n_1)))) (λm_1.(λt_1.m_1)))))) (λr_1.(λq_1.(r_1 q_1)))) (λw_1.(λu_1.(w_1 (w_1 (w_1 (w_1 u_1)))))))\n",
      "16: ((λx.((((((x (λy.(λa.(λb.(((y (λc.(λd.(d (c a))))) (λe.b)) (λj.j)))))) (λi.(λn.(i n)))) (λm.(λt.(λr.r)))) (λq.(λw.q))) (((((λu.(λo.(u o))) (λp.(λs.(λf.(((p (λg.(λh.(h (g s))))) (λk.f)) (λl.l)))))) x) (λz.(λv.(λx_1.x_1)))) (λy_1.(λa_1.y_1)))) ((((x (λb_1.(λc_1.(λd_1.(((b_1 (λe_1.(λj_1.(j_1 (e_1 c_1))))) (λi_1.d_1)) (λn_1.n_1)))))) (λm_1.(λt_1.(m_1 t_1)))) (λr_1.(λq_1.(λw_1.w_1)))) (λu_1.(λo_1.u_1))))) (λp_1.(λs_1.(p_1 (p_1 (p_1 (p_1 s_1)))))))\n",
      "17: ((λp.((((((p (λs.(λf.(λg.(((s (λh.(λk.(k (h f))))) (λl.g)) (λz.z)))))) (λv.(λx_1.(v x_1)))) (λy_1.(λa_1.(λb_1.b_1)))) (λc_1.(λd_1.c_1))) ((((λe_1.((λj_1.(λi_1.(λn_1.(((j_1 (λm_1.(λt_1.(t_1 (m_1 i_1))))) (λr_1.n_1)) (λq_1.q_1))))) e_1)) p) (λw_1.(λu_1.(λo_1.o_1)))) (λp_1.(λx.p_1)))) ((((p (λy.(λa.(λb.(((y (λc.(λd.(d (c a))))) (λe.b)) (λj.j)))))) (λi.(λn.(i n)))) (λm.(λt.(λr.r)))) (λq.(λw.q))))) (λu.(λo.(u (u (u (u o)))))))\n",
      "18: ((λx.((((((x (λy.(λa.(λb.(((y (λc.(λd.(d (c a))))) (λe.b)) (λj.j)))))) (λi.(λn.(i n)))) (λm.(λt.(λr.r)))) (λq.(λw.q))) ((((λu.(λo.(λp.(((u (λs.(λf.(f (s o))))) (λg.p)) (λh.h))))) x) (λk.(λl.(λz.z)))) (λv.(λx_1.v)))) ((((x (λy_1.(λa_1.(λb_1.(((y_1 (λc_1.(λd_1.(d_1 (c_1 a_1))))) (λe_1.b_1)) (λj_1.j_1)))))) (λi_1.(λn_1.(i_1 n_1)))) (λm_1.(λt_1.(λr_1.r_1)))) (λq_1.(λw_1.q_1))))) (λu_1.(λo_1.(u_1 (u_1 (u_1 (u_1 o_1)))))))\n",
      "19: ((λx.((((((x (λy.(λa.(λb.(((y (λc.(λd.(d (c a))))) (λe.b)) (λj.j)))))) (λi.(λn.(i n)))) (λm.(λt.(λr.r)))) (λq.(λw.q))) (((λu.(λo.(((x (λp.(λs.(s (p u))))) (λf.o)) (λg.g)))) (λh.(λk.(λl.l)))) (λz.(λv.z)))) ((((x (λx_1.(λy_1.(λa_1.(((x_1 (λb_1.(λc_1.(c_1 (b_1 y_1))))) (λd_1.a_1)) (λe_1.e_1)))))) (λj_1.(λi_1.(j_1 i_1)))) (λn_1.(λm_1.(λt_1.t_1)))) (λr_1.(λq_1.r_1))))) (λw_1.(λu_1.(w_1 (w_1 (w_1 (w_1 u_1)))))))\n",
      "20: ((λu.((((((u (λo.(λp.(λs.(((o (λf.(λg.(g (f p))))) (λh.s)) (λk.k)))))) (λl.(λz.(l z)))) (λv.(λx_1.(λy_1.y_1)))) (λa_1.(λb_1.a_1))) ((λc_1.(((u (λd_1.(λe_1.(e_1 (d_1 (λj_1.(λi_1.(λn_1.n_1)))))))) (λm_1.c_1)) (λt_1.t_1))) (λr_1.(λq_1.r_1)))) ((((u (λw_1.(λx.(λy.(((w_1 (λa.(λb.(b (a x))))) (λc.y)) (λd.d)))))) (λe.(λj.(e j)))) (λi.(λn.(λm.m)))) (λt.(λr.t))))) (λq.(λw.(q (q (q (q w)))))))\n",
      "21: ((λx.((((((x (λy.(λa.(λb.(((y (λc.(λd.(d (c a))))) (λe.b)) (λj.j)))))) (λi.(λn.(i n)))) (λm.(λt.(λr.r)))) (λq.(λw.q))) (((x (λu.(λo.(o (u (λp.(λs.(λf.f)))))))) (λg.(λh.(λk.h)))) (λl.l))) ((((x (λz.(λv.(λx_1.(((z (λy_1.(λa_1.(a_1 (y_1 v))))) (λb_1.x_1)) (λc_1.c_1)))))) (λd_1.(λe_1.(d_1 e_1)))) (λj_1.(λi_1.(λn_1.n_1)))) (λm_1.(λt_1.m_1))))) (λr_1.(λq_1.(r_1 (r_1 (r_1 (r_1 q_1)))))))\n",
      "22: (((((((λx.(λy.(x (x (x (x y)))))) (λa.(λb.(λc.(((a (λd.(λe.(e (d b))))) (λj.c)) (λi.i)))))) (λn.(λm.(n m)))) (λt.(λr.(λq.q)))) (λw.(λu.w))) ((((λo.(λp.(o (o (o (o p)))))) (λs.(λf.(f (s (λg.(λh.(λk.k)))))))) (λl.(λz.(λv.z)))) (λx_1.x_1))) (((((λy_1.(λa_1.(y_1 (y_1 (y_1 (y_1 a_1)))))) (λb_1.(λc_1.(λd_1.(((b_1 (λe_1.(λj_1.(j_1 (e_1 c_1))))) (λi_1.d_1)) (λn_1.n_1)))))) (λm_1.(λt_1.(m_1 t_1)))) (λr_1.(λq_1.(λw_1.w_1)))) (λu_1.(λo_1.u_1))))\n",
      "23: (((((((λj_1.(λi_1.(j_1 (j_1 (j_1 (j_1 i_1)))))) (λn_1.(λm_1.(λt_1.(((n_1 (λr_1.(λq_1.(q_1 (r_1 m_1))))) (λw_1.t_1)) (λu_1.u_1)))))) (λo_1.(λp_1.(o_1 p_1)))) (λs_1.(λf_1.(λg_1.g_1)))) (λh_1.(λk_1.h_1))) ((((λl_1.(λz_1.(l_1 (l_1 (l_1 (l_1 z_1)))))) (λv_1.(λx_2.(x_2 (v_1 (λy_2.(λa_2.(λb_2.b_2)))))))) (λc_2.(λd_2.(λe_2.d_2)))) (λj_2.j_2))) ((((λi_2.((λn_2.(λm_2.(λx.(((n_2 (λy.(λa.(a (y m_2))))) (λb.x)) (λc.c))))) ((λd.(λe.(λj.(((d (λi.(λn.(n (i e))))) (λm.j)) (λt.t))))) ((λr.(λq.(λw.(((r (λu.(λo.(o (u q))))) (λp.w)) (λs.s))))) ((λf.(λg.(λh.(((f (λk.(λl.(l (k g))))) (λz.h)) (λv.v))))) i_2))))) (λx_1.(λy_1.(x_1 y_1)))) (λa_1.(λb_1.(λc_1.c_1)))) (λd_1.(λe_1.d_1))))\n",
      "24: (((((((λx.(λy.(x (x (x (x y)))))) (λa.(λb.(λc.(((a (λd.(λe.(e (d b))))) (λj.c)) (λi.i)))))) (λn.(λm.(n m)))) (λt.(λr.(λq.q)))) (λw.(λu.w))) ((((λo.(λp.(o (o (o (o p)))))) (λs.(λf.(f (s (λg.(λh.(λk.k)))))))) (λl.(λz.(λv.z)))) (λx_1.x_1))) ((((λy_1.((λa_1.(λb_1.(λc_1.(((a_1 (λd_1.(λe_1.(e_1 (d_1 b_1))))) (λj_1.c_1)) (λi_1.i_1))))) ((λn_1.(λm_1.(λt_1.(((n_1 (λr_1.(λq_1.(q_1 (r_1 m_1))))) (λw_1.t_1)) (λu_1.u_1))))) ((λo_1.(λp_1.(λs_1.(((o_1 (λf_1.(λg_1.(g_1 (f_1 p_1))))) (λh_1.s_1)) (λk_1.k_1))))) (λl_1.(λz_1.(((y_1 (λv_1.(λx_2.(x_2 (v_1 l_1))))) (λy_2.z_1)) (λa_2.a_2)))))))) (λb_2.(λc_2.(b_2 c_2)))) (λd_2.(λe_2.(λj_2.j_2)))) (λi_2.(λn_2.i_2))))\n",
      "25: (((((((λa_1.(λb_1.(a_1 (a_1 (a_1 (a_1 b_1)))))) (λc_1.(λd_1.(λe_1.(((c_1 (λj_1.(λi_1.(i_1 (j_1 d_1))))) (λn_1.e_1)) (λm_1.m_1)))))) (λt_1.(λr_1.(t_1 r_1)))) (λq_1.(λw_1.(λu_1.u_1)))) (λo_1.(λp_1.o_1))) ((((λs_1.(λf_1.(s_1 (s_1 (s_1 (s_1 f_1)))))) (λg_1.(λh_1.(h_1 (g_1 (λk_1.(λl_1.(λz_1.z_1)))))))) (λv_1.(λx_2.(λy_2.x_2)))) (λa_2.a_2))) ((((λb_2.((λc_2.(λd_2.(λe_2.(((c_2 (λj_2.(λi_2.(i_2 (j_2 d_2))))) (λx.e_2)) (λy.y))))) ((λa.(λb.(λc.(((a (λd.(λe.(e (d b))))) (λj.c)) (λi.i))))) (λn.(λm.((((λt.(λr.(((b_2 (λq.(λw.(w (q t))))) (λu.r)) (λo.o)))) (λp.(λs.(s (p n))))) (λf.m)) (λg.g))))))) (λh.(λk.(h k)))) (λl.(λz.(λv.v)))) (λx_1.(λy_1.x_1))))\n",
      "26: (((((((λx.(λy.(x (x (x (x y)))))) (λa.(λb.(λc.(((a (λd.(λe.(e (d b))))) (λj.c)) (λi.i)))))) (λn.(λm.(n m)))) (λt.(λr.(λq.q)))) (λw.(λu.w))) ((((λo.(λp.(o (o (o (o p)))))) (λs.(λf.(f (s (λg.(λh.(λk.k)))))))) (λl.(λz.(λv.z)))) (λx_1.x_1))) ((((λy_1.((λa_1.(λb_1.(λc_1.(((a_1 (λd_1.(λe_1.(e_1 (d_1 b_1))))) (λj_1.c_1)) (λi_1.i_1))))) ((λn_1.(λm_1.(λt_1.(((n_1 (λr_1.(λq_1.(q_1 (r_1 m_1))))) (λw_1.t_1)) (λu_1.u_1))))) (λo_1.(λp_1.(((λs_1.(((y_1 (λf_1.(λg_1.(g_1 (f_1 (λh_1.(λk_1.(k_1 (h_1 o_1))))))))) (λl_1.s_1)) (λz_1.z_1))) (λv_1.p_1)) (λx_2.x_2))))))) (λy_2.(λa_2.(y_2 a_2)))) (λb_2.(λc_2.(λd_2.d_2)))) (λe_2.(λj_2.e_2))))\n",
      "27: (((((((λf.(λg.(f (f (f (f g)))))) (λh.(λk.(λl.(((h (λz.(λv.(v (z k))))) (λx_1.l)) (λy_1.y_1)))))) (λa_1.(λb_1.(a_1 b_1)))) (λc_1.(λd_1.(λe_1.e_1)))) (λj_1.(λi_1.j_1))) ((((λn_1.(λm_1.(n_1 (n_1 (n_1 (n_1 m_1)))))) (λt_1.(λr_1.(r_1 (t_1 (λq_1.(λw_1.(λu_1.u_1)))))))) (λo_1.(λp_1.(λs_1.p_1)))) (λf_1.f_1))) ((((λg_1.((λh_1.(λk_1.(λl_1.(((h_1 (λz_1.(λv_1.(v_1 (z_1 k_1))))) (λx_2.l_1)) (λy_2.y_2))))) ((λa_2.(λb_2.(λc_2.(((a_2 (λd_2.(λe_2.(e_2 (d_2 b_2))))) (λx.c_2)) (λy.y))))) (λa.(λb.((((g_1 (λc.(λd.(d (c (λe.(λj.(j (e a))))))))) (λi.(λn.b))) (λm.m)) (λt.t))))))) (λr.(λq.(r q)))) (λw.(λu.(λo.o)))) (λp.(λs.p))))\n",
      "28: (((((((λx.(λy.(x (x (x (x y)))))) (λa.(λb.(λc.(((a (λd.(λe.(e (d b))))) (λj.c)) (λi.i)))))) (λn.(λm.(n m)))) (λt.(λr.(λq.q)))) (λw.(λu.w))) ((((λo.(λp.(o (o (o (o p)))))) (λs.(λf.(f (s (λg.(λh.(λk.k)))))))) (λl.(λz.(λv.z)))) (λx_1.x_1))) ((((λy_1.((λa_1.(λb_1.(λc_1.(((a_1 (λd_1.(λe_1.(e_1 (d_1 b_1))))) (λj_1.c_1)) (λi_1.i_1))))) (λn_1.(λm_1.((((λt_1.(λr_1.((((y_1 (λq_1.(λw_1.(w_1 (q_1 (λu_1.(λo_1.(o_1 (u_1 t_1))))))))) (λp_1.(λs_1.r_1))) (λf_1.f_1)) (λg_1.g_1)))) (λh_1.(λk_1.(k_1 (h_1 n_1))))) (λl_1.m_1)) (λz_1.z_1)))))) (λv_1.(λx_2.(v_1 x_2)))) (λy_2.(λa_2.(λb_2.b_2)))) (λc_2.(λd_2.c_2))))\n",
      "29: (((((((λe.(λj.(e (e (e (e j)))))) (λi.(λn.(λm.(((i (λt.(λr.(r (t n))))) (λq.m)) (λw.w)))))) (λu.(λo.(u o)))) (λp.(λs.(λf.f)))) (λg.(λh.g))) ((((λk.(λl.(k (k (k (k l)))))) (λz.(λv.(v (z (λx_1.(λy_1.(λa_1.a_1)))))))) (λb_1.(λc_1.(λd_1.c_1)))) (λe_1.e_1))) ((((λj_1.((λi_1.(λn_1.(λm_1.(((i_1 (λt_1.(λr_1.(r_1 (t_1 n_1))))) (λq_1.m_1)) (λw_1.w_1))))) (λu_1.(λo_1.(((λp_1.((((j_1 (λs_1.(λf_1.(f_1 (s_1 (λg_1.(λh_1.(h_1 (g_1 (λk_1.(λl_1.(l_1 (k_1 u_1))))))))))))) (λz_1.(λv_1.p_1))) (λx_2.x_2)) (λy_2.y_2))) (λa_2.o_1)) (λb_2.b_2)))))) (λc_2.(λx.(c_2 x)))) (λy.(λa.(λb.b)))) (λc.(λd.c))))\n",
      "30: (((((((λx.(λy.(x (x (x (x y)))))) (λa.(λb.(λc.(((a (λd.(λe.(e (d b))))) (λj.c)) (λi.i)))))) (λn.(λm.(n m)))) (λt.(λr.(λq.q)))) (λw.(λu.w))) ((((λo.(λp.(o (o (o (o p)))))) (λs.(λf.(f (s (λg.(λh.(λk.k)))))))) (λl.(λz.(λv.z)))) (λx_1.x_1))) ((((λy_1.((λa_1.(λb_1.(λc_1.(((a_1 (λd_1.(λe_1.(e_1 (d_1 b_1))))) (λj_1.c_1)) (λi_1.i_1))))) (λn_1.(λm_1.(((((y_1 (λt_1.(λr_1.(r_1 (t_1 (λq_1.(λw_1.(w_1 (q_1 (λu_1.(λo_1.(o_1 (u_1 n_1))))))))))))) (λp_1.(λs_1.(λf_1.m_1)))) (λg_1.g_1)) (λh_1.h_1)) (λk_1.k_1)))))) (λl_1.(λz_1.(l_1 z_1)))) (λv_1.(λx_2.(λy_2.y_2)))) (λa_2.(λb_2.a_2))))\n",
      "31: (((((((λx.(λy.(x (x (x (x y)))))) (λa.(λb.(λc.(((a (λd.(λe.(e (d b))))) (λj.c)) (λi.i)))))) (λn.(λm.(n m)))) (λt.(λr.(λq.q)))) (λw.(λu.w))) ((((λo.(λp.(o (o (o (o p)))))) (λs.(λf.(f (s (λg.(λh.(λk.k)))))))) (λl.(λz.(λv.z)))) (λx_1.x_1))) ((((λy_1.(λa_1.(λb_1.((((λc_1.(λd_1.(((((y_1 (λe_1.(λj_1.(j_1 (e_1 (λi_1.(λn_1.(n_1 (i_1 (λm_1.(λt_1.(t_1 (m_1 c_1))))))))))))) (λr_1.(λq_1.(λw_1.d_1)))) (λu_1.u_1)) (λo_1.o_1)) (λp_1.p_1)))) (λs_1.(λf_1.(f_1 (s_1 a_1))))) (λg_1.b_1)) (λh_1.h_1))))) (λk_1.(λl_1.(k_1 l_1)))) (λz_1.(λv_1.(λx_2.x_2)))) (λy_2.(λa_2.y_2))))\n",
      "32: (((((((λp_1.(λs_1.(p_1 (p_1 (p_1 (p_1 s_1)))))) (λf_1.(λg_1.(λh_1.(((f_1 (λk_1.(λl_1.(l_1 (k_1 g_1))))) (λz_1.h_1)) (λv_1.v_1)))))) (λx_2.(λy_2.(x_2 y_2)))) (λx.(λy.(λa.a)))) (λb.(λc.b))) ((((λd.(λe.(d (d (d (d e)))))) (λj.(λi.(i (j (λn.(λm.(λt.t)))))))) (λr.(λq.(λw.q)))) (λu.u))) ((((λo.(λp.(λs.(((λf.(((((o (λg.(λh.(h (g (λk.(λl.(l (k (λz.(λv.(v (z (λx_1.(λy_1.(y_1 (x_1 p))))))))))))))))) (λa_1.(λb_1.(λc_1.f)))) (λd_1.d_1)) (λe_1.e_1)) (λj_1.j_1))) (λi_1.s)) (λn_1.n_1))))) (λm_1.(λt_1.(m_1 t_1)))) (λr_1.(λq_1.(λw_1.w_1)))) (λu_1.(λo_1.u_1))))\n",
      "33: (((((((λx.(λy.(x (x (x (x y)))))) (λa.(λb.(λc.(((a (λd.(λe.(e (d b))))) (λj.c)) (λi.i)))))) (λn.(λm.(n m)))) (λt.(λr.(λq.q)))) (λw.(λu.w))) ((((λo.(λp.(o (o (o (o p)))))) (λs.(λf.(f (s (λg.(λh.(λk.k)))))))) (λl.(λz.(λv.z)))) (λx_1.x_1))) ((((λy_1.(λa_1.(λb_1.((((((y_1 (λc_1.(λd_1.(d_1 (c_1 (λe_1.(λj_1.(j_1 (e_1 (λi_1.(λn_1.(n_1 (i_1 (λm_1.(λt_1.(t_1 (m_1 a_1))))))))))))))))) (λr_1.(λq_1.(λw_1.(λu_1.b_1))))) (λo_1.o_1)) (λp_1.p_1)) (λs_1.s_1)) (λf_1.f_1))))) (λg_1.(λh_1.(g_1 h_1)))) (λk_1.(λl_1.(λz_1.z_1)))) (λv_1.(λx_2.v_1))))\n",
      "34: (((((((λg.(λh.(g (g (g (g h)))))) (λk.(λl.(λz.(((k (λv.(λx_1.(x_1 (v l))))) (λy_1.z)) (λa_1.a_1)))))) (λb_1.(λc_1.(b_1 c_1)))) (λd_1.(λe_1.(λj_1.j_1)))) (λi_1.(λn_1.i_1))) ((((λm_1.(λt_1.(m_1 (m_1 (m_1 (m_1 t_1)))))) (λr_1.(λq_1.(q_1 (r_1 (λw_1.(λu_1.(λo_1.o_1)))))))) (λp_1.(λs_1.(λf_1.s_1)))) (λg_1.g_1))) (((λh_1.(λk_1.(((((((λl_1.(λz_1.(l_1 z_1))) (λv_1.(λx.(x (v_1 (λy.(λa.(a (y (λb.(λc.(c (b (λd.(λe.(e (d h_1))))))))))))))))) (λj.(λi.(λn.(λm.k_1))))) (λt.t)) (λr.r)) (λq.q)) (λw.w)))) (λu.(λo.(λp.p)))) (λs.(λf.s))))\n",
      "35: (((((((λx.(λy.(x (x (x (x y)))))) (λa.(λb.(λc.(((a (λd.(λe.(e (d b))))) (λj.c)) (λi.i)))))) (λn.(λm.(n m)))) (λt.(λr.(λq.q)))) (λw.(λu.w))) ((((λo.(λp.(o (o (o (o p)))))) (λs.(λf.(f (s (λg.(λh.(λk.k)))))))) (λl.(λz.(λv.z)))) (λx_1.x_1))) (((λy_1.(λa_1.((((((λb_1.((λc_1.(λd_1.(d_1 (c_1 (λe_1.(λj_1.(j_1 (e_1 (λi_1.(λn_1.(n_1 (i_1 (λm_1.(λt_1.(t_1 (m_1 y_1)))))))))))))))) b_1)) (λr_1.(λq_1.(λw_1.(λu_1.a_1))))) (λo_1.o_1)) (λp_1.p_1)) (λs_1.s_1)) (λf_1.f_1)))) (λg_1.(λh_1.(λk_1.k_1)))) (λl_1.(λz_1.l_1))))\n",
      "36: (((((((λx.(λy.(x (x (x (x y)))))) (λa.(λb.(λc.(((a (λd.(λe.(e (d b))))) (λj.c)) (λi.i)))))) (λn.(λm.(n m)))) (λt.(λr.(λq.q)))) (λw.(λu.w))) ((((λo.(λp.(o (o (o (o p)))))) (λs.(λf.(f (s (λg.(λh.(λk.k)))))))) (λl.(λz.(λv.z)))) (λx_1.x_1))) (((λy_1.(λa_1.((((((λb_1.(λc_1.(c_1 (b_1 (λd_1.(λe_1.(e_1 (d_1 (λj_1.(λi_1.(i_1 (j_1 (λn_1.(λm_1.(m_1 (n_1 y_1)))))))))))))))) (λt_1.(λr_1.(λq_1.(λw_1.a_1))))) (λu_1.u_1)) (λo_1.o_1)) (λp_1.p_1)) (λs_1.s_1)))) (λf_1.(λg_1.(λh_1.h_1)))) (λk_1.(λl_1.k_1))))\n",
      "37: (((((((λo_1.(λp_1.(o_1 (o_1 (o_1 (o_1 p_1)))))) (λs_1.(λf_1.(λg_1.(((s_1 (λh_1.(λk_1.(k_1 (h_1 f_1))))) (λx.g_1)) (λy.y)))))) (λa.(λb.(a b)))) (λc.(λd.(λe.e)))) (λj.(λi.j))) ((((λn.(λm.(n (n (n (n m)))))) (λt.(λr.(r (t (λq.(λw.(λu.u)))))))) (λo.(λp.(λs.p)))) (λf.f))) (((λg.(λh.(((((λk.(k ((λl.(λz.(λv.(λx_1.h)))) (λy_1.(λa_1.(a_1 (y_1 (λb_1.(λc_1.(c_1 (b_1 (λd_1.(λe_1.(e_1 (d_1 g))))))))))))))) (λj_1.j_1)) (λi_1.i_1)) (λn_1.n_1)) (λm_1.m_1)))) (λt_1.(λr_1.(λq_1.q_1)))) (λw_1.(λu_1.w_1))))\n",
      "38: (((((((λx.(λy.(x (x (x (x y)))))) (λa.(λb.(λc.(((a (λd.(λe.(e (d b))))) (λj.c)) (λi.i)))))) (λn.(λm.(n m)))) (λt.(λr.(λq.q)))) (λw.(λu.w))) ((((λo.(λp.(o (o (o (o p)))))) (λs.(λf.(f (s (λg.(λh.(λk.k)))))))) (λl.(λz.(λv.z)))) (λx_1.x_1))) (((λy_1.(λa_1.(((((λb_1.(b_1 (λc_1.(λd_1.(λe_1.a_1))))) (λj_1.j_1)) (λi_1.i_1)) (λn_1.n_1)) (λm_1.m_1)))) (λt_1.(λr_1.(λq_1.q_1)))) (λw_1.(λu_1.w_1))))\n",
      "39: (((((((λx.(λy.(x (x (x (x y)))))) (λa.(λb.(λc.(((a (λd.(λe.(e (d b))))) (λj.c)) (λi.i)))))) (λn.(λm.(n m)))) (λt.(λr.(λq.q)))) (λw.(λu.w))) ((((λo.(λp.(o (o (o (o p)))))) (λs.(λf.(f (s (λg.(λh.(λk.k)))))))) (λl.(λz.(λv.z)))) (λx_1.x_1))) (((λy_1.(λa_1.(((((λb_1.b_1) (λc_1.(λd_1.(λe_1.a_1)))) (λj_1.j_1)) (λi_1.i_1)) (λn_1.n_1)))) (λm_1.(λt_1.(λr_1.r_1)))) (λq_1.(λw_1.q_1))))\n",
      "40: (((((((λt_1.(λr_1.(t_1 (t_1 (t_1 (t_1 r_1)))))) (λq_1.(λx.(λy.(((q_1 (λa.(λb.(b (a x))))) (λc.y)) (λd.d)))))) (λe.(λj.(e j)))) (λi.(λn.(λm.m)))) (λt.(λr.t))) ((((λq.(λw.(q (q (q (q w)))))) (λu.(λo.(o (u (λp.(λs.(λf.f)))))))) (λg.(λh.(λk.h)))) (λl.l))) (((λz.(λv.((((λx_1.(λy_1.(λa_1.v))) (λb_1.b_1)) (λc_1.c_1)) (λd_1.d_1)))) (λe_1.(λj_1.(λi_1.i_1)))) (λn_1.(λm_1.n_1))))\n",
      "41: (((((((λx.(λy.(x (x (x (x y)))))) (λa.(λb.(λc.(((a (λd.(λe.(e (d b))))) (λj.c)) (λi.i)))))) (λn.(λm.(n m)))) (λt.(λr.(λq.q)))) (λw.(λu.w))) ((((λo.(λp.(o (o (o (o p)))))) (λs.(λf.(f (s (λg.(λh.(λk.k)))))))) (λl.(λz.(λv.z)))) (λx_1.x_1))) (((λy_1.(λa_1.(((λb_1.(λc_1.a_1)) (λd_1.d_1)) (λe_1.e_1)))) (λj_1.(λi_1.(λn_1.n_1)))) (λm_1.(λt_1.m_1))))\n",
      "42: (((((((λx.(λy.(x (x (x (x y)))))) (λa.(λb.(λc.(((a (λd.(λe.(e (d b))))) (λj.c)) (λi.i)))))) (λn.(λm.(n m)))) (λt.(λr.(λq.q)))) (λw.(λu.w))) ((((λo.(λp.(o (o (o (o p)))))) (λs.(λf.(f (s (λg.(λh.(λk.k)))))))) (λl.(λz.(λv.z)))) (λx_1.x_1))) (((λy_1.(λa_1.((λb_1.a_1) (λc_1.c_1)))) (λd_1.(λe_1.(λj_1.j_1)))) (λi_1.(λn_1.i_1))))\n",
      "43: (((((((λp.(λs.(p (p (p (p s)))))) (λf.(λg.(λh.(((f (λk.(λl.(l (k g))))) (λz.h)) (λv.v)))))) (λx_1.(λy_1.(x_1 y_1)))) (λa_1.(λb_1.(λc_1.c_1)))) (λd_1.(λe_1.d_1))) ((((λj_1.(λx.(j_1 (j_1 (j_1 (j_1 x)))))) (λy.(λa.(a (y (λb.(λc.(λd.d)))))))) (λe.(λj.(λi.j)))) (λn.n))) (((λm.(λt.t)) (λr.(λq.(λw.w)))) (λu.(λo.u))))\n",
      "44: (((((((λx.(λy.(x (x (x (x y)))))) (λa.(λb.(λc.(((a (λd.(λe.(e (d b))))) (λj.c)) (λi.i)))))) (λn.(λm.(n m)))) (λt.(λr.(λq.q)))) (λw.(λu.w))) ((((λo.(λp.(o (o (o (o p)))))) (λs.(λf.(f (s (λg.(λh.(λk.k)))))))) (λl.(λz.(λv.z)))) (λx_1.x_1))) ((λy_1.y_1) (λa_1.(λb_1.a_1))))\n",
      "45: (((((((λx.(λy.(x (x (x (x y)))))) (λa.(λb.(λc.(((a (λd.(λe.(e (d b))))) (λj.c)) (λi.i)))))) (λn.(λm.(n m)))) (λt.(λr.(λq.q)))) (λw.(λu.w))) ((((λo.(λp.(o (o (o (o p)))))) (λs.(λf.(f (s (λg.(λh.(λk.k)))))))) (λl.(λz.(λv.z)))) (λx_1.x_1))) (λy_1.(λa_1.y_1)))\n",
      "46: (((((((λx.(λy.(x (x (x (x y)))))) (λa.(λb.(λc.(((a (λd.(λe.(e (d b))))) (λj.c)) (λi.i)))))) (λn.(λm.(n m)))) (λt.(λr.(λq.q)))) (λw.(λu.w))) (((λo.((λp.(λs.(s (p (λf.(λg.(λh.h))))))) ((λk.(λl.(l (k (λz.(λv.(λx_1.x_1))))))) ((λy_1.(λa_1.(a_1 (y_1 (λb_1.(λc_1.(λd_1.d_1))))))) ((λe_1.(λj_1.(j_1 (e_1 (λi_1.(λn_1.(λm_1.m_1))))))) o))))) (λt_1.(λr_1.(λq_1.r_1)))) (λw_1.w_1))) (λu_1.(λo_1.u_1)))\n",
      "47: (((((((λj_1.(λi_1.(j_1 (j_1 (j_1 (j_1 i_1)))))) (λn_1.(λm_1.(λt_1.(((n_1 (λr_1.(λq_1.(q_1 (r_1 m_1))))) (λw_1.t_1)) (λu_1.u_1)))))) (λx.(λy.(x y)))) (λa.(λb.(λc.c)))) (λd.(λe.d))) (((λj.((λi.(λn.(n (i (λm.(λt.(λr.r))))))) ((λq.(λw.(w (q (λu.(λo.(λp.p))))))) ((λs.(λf.(f (s (λg.(λh.(λk.k))))))) (λl.(l (j (λz.(λv.(λx_1.x_1)))))))))) (λy_1.(λa_1.(λb_1.a_1)))) (λc_1.c_1))) (λd_1.(λe_1.d_1)))\n",
      "48: (((((((λx.(λy.(x (x (x (x y)))))) (λa.(λb.(λc.(((a (λd.(λe.(e (d b))))) (λj.c)) (λi.i)))))) (λn.(λm.(n m)))) (λt.(λr.(λq.q)))) (λw.(λu.w))) (((λo.((λp.(λs.(s (p (λf.(λg.(λh.h))))))) ((λk.(λl.(l (k (λz.(λv.(λx_1.x_1))))))) (λy_1.(y_1 ((λa_1.(a_1 (o (λb_1.(λc_1.(λd_1.d_1)))))) (λe_1.(λj_1.(λi_1.i_1))))))))) (λn_1.(λm_1.(λt_1.m_1)))) (λr_1.r_1))) (λq_1.(λw_1.q_1)))\n",
      "49: (((((((λx.(λy.(x (x (x (x y)))))) (λa.(λb.(λc.(((a (λd.(λe.(e (d b))))) (λj.c)) (λi.i)))))) (λn.(λm.(n m)))) (λt.(λr.(λq.q)))) (λw.(λu.w))) (((λo.((λp.(λs.(s (p (λf.(λg.(λh.h))))))) ((λk.(λl.(l (k (λz.(λv.(λx_1.x_1))))))) (λy_1.(y_1 ((λa_1.(λb_1.(λc_1.c_1))) (o (λd_1.(λe_1.(λj_1.j_1)))))))))) (λi_1.(λn_1.(λm_1.n_1)))) (λt_1.t_1))) (λr_1.(λq_1.r_1)))\n",
      "50: (((((((λk.(λl.(k (k (k (k l)))))) (λz.(λv.(λx_1.(((z (λy_1.(λa_1.(a_1 (y_1 v))))) (λb_1.x_1)) (λc_1.c_1)))))) (λd_1.(λe_1.(d_1 e_1)))) (λj_1.(λi_1.(λn_1.n_1)))) (λx.(λy.x))) (((λa.((λb.(λc.(c (b (λd.(λe.(λj.j))))))) ((λi.(λn.(n (i (λm.(λt.(λr.r))))))) (λq.(q (λw.(λu.u))))))) (λo.(λp.(λs.p)))) (λf.f))) (λg.(λh.g)))\n",
      "51: (((((((λx.(λy.(x (x (x (x y)))))) (λa.(λb.(λc.(((a (λd.(λe.(e (d b))))) (λj.c)) (λi.i)))))) (λn.(λm.(n m)))) (λt.(λr.(λq.q)))) (λw.(λu.w))) (((λo.((λp.(λs.(s (p (λf.(λg.(λh.h))))))) (λk.(k ((λl.(l (λz.(λv.v)))) (λx_1.(λy_1.(λa_1.a_1)))))))) (λb_1.(λc_1.(λd_1.c_1)))) (λe_1.e_1))) (λj_1.(λi_1.j_1)))\n",
      "52: (((((((λx.(λy.(x (x (x (x y)))))) (λa.(λb.(λc.(((a (λd.(λe.(e (d b))))) (λj.c)) (λi.i)))))) (λn.(λm.(n m)))) (λt.(λr.(λq.q)))) (λw.(λu.w))) (((λo.((λp.(λs.(s (p (λf.(λg.(λh.h))))))) (λk.(k ((λl.(λz.(λv.v))) (λx_1.(λy_1.y_1))))))) (λa_1.(λb_1.(λc_1.b_1)))) (λd_1.d_1))) (λe_1.(λj_1.e_1)))\n",
      "53: (((((((λx.(λy.(x (x (x (x y)))))) (λa.(λb.(λc.(((a (λd.(λe.(e (d b))))) (λj.c)) (λi.i)))))) (λn.(λm.(n m)))) (λt.(λr.(λq.q)))) (λw.(λu.w))) (((λo.((λp.(λs.(s (p (λf.(λg.(λh.h))))))) (λk.(k (λl.(λz.z)))))) (λv.(λx_1.(λy_1.x_1)))) (λa_1.a_1))) (λb_1.(λc_1.b_1)))\n",
      "54: (((((((λz.(λv.(z (z (z (z v)))))) (λx_1.(λy_1.(λa_1.(((x_1 (λb_1.(λx.(x (b_1 y_1))))) (λy.a_1)) (λa.a)))))) (λb.(λc.(b c)))) (λd.(λe.(λj.j)))) (λi.(λn.i))) (((λm.(λt.(t ((λr.(r (λq.(λw.w)))) (λu.(λo.(λp.p))))))) (λs.(λf.(λg.f)))) (λh.h))) (λk.(λl.k)))\n",
      "55: (((((((λx.(λy.(x (x (x (x y)))))) (λa.(λb.(λc.(((a (λd.(λe.(e (d b))))) (λj.c)) (λi.i)))))) (λn.(λm.(n m)))) (λt.(λr.(λq.q)))) (λw.(λu.w))) (((λo.(λp.(p ((λs.(λf.(λg.g))) (λh.(λk.k)))))) (λl.(λz.(λv.z)))) (λx_1.x_1))) (λy_1.(λa_1.y_1)))\n",
      "56: (((((((λx.(λy.(x (x (x (x y)))))) (λa.(λb.(λc.(((a (λd.(λe.(e (d b))))) (λj.c)) (λi.i)))))) (λn.(λm.(n m)))) (λt.(λr.(λq.q)))) (λw.(λu.w))) (((λo.(λp.(p (λs.(λf.f))))) (λg.(λh.(λk.h)))) (λl.l))) (λz.(λv.z)))\n",
      "57: (((((((λx.(λy.(x (x (x (x y)))))) (λa.(λb.(λc.(((a (λd.(λe.(e (d b))))) (λj.c)) (λi.i)))))) (λn.(λm.(n m)))) (λt.(λr.(λq.q)))) (λw.(λu.w))) ((λo.(o (λp.(λs.s)))) (λf.f))) (λg.(λh.g)))\n",
      "58: (((((((λx.(λy.(x (x (x (x y)))))) (λa.(λb.(λc.(((a (λd.(λe.(e (d b))))) (λj.c)) (λi.i)))))) (λn.(λm.(n m)))) (λt.(λr.(λq.q)))) (λw.(λu.w))) ((λo.o) (λp.(λs.s)))) (λf.(λg.f)))\n",
      "59: (((((((λw.(λu.(w (w (w (w u)))))) (λo.(λp.(λs.(((o (λf.(λx.(x (f p))))) (λy.s)) (λa.a)))))) (λb.(λc.(b c)))) (λd.(λe.(λj.j)))) (λi.(λn.i))) (λm.(λt.t))) (λr.(λq.r)))\n",
      "60: ((((((λx.((λy.(λa.(λb.(((y (λc.(λd.(d (c a))))) (λe.b)) (λj.j))))) ((λi.(λn.(λm.(((i (λt.(λr.(r (t n))))) (λq.m)) (λw.w))))) ((λu.(λo.(λp.(((u (λs.(λf.(f (s o))))) (λg.p)) (λh.h))))) ((λk.(λl.(λz.(((k (λv.(λx_1.(x_1 (v l))))) (λy_1.z)) (λa_1.a_1))))) x))))) (λb_1.(λc_1.(b_1 c_1)))) (λd_1.(λe_1.(λj_1.j_1)))) (λi_1.(λn_1.i_1))) (λm_1.(λt_1.t_1))) (λr_1.(λq_1.r_1)))\n",
      "61: ((((((λx.((λy.(λa.(λb.(((y (λc.(λd.(d (c a))))) (λe.b)) (λj.j))))) ((λi.(λn.(λm.(((i (λt.(λr.(r (t n))))) (λq.m)) (λw.w))))) ((λu.(λo.(λp.(((u (λs.(λf.(f (s o))))) (λg.p)) (λh.h))))) (λk.(λl.(((x (λz.(λv.(v (z k))))) (λx_1.l)) (λy_1.y_1)))))))) (λa_1.(λb_1.(a_1 b_1)))) (λc_1.(λd_1.(λe_1.e_1)))) (λj_1.(λi_1.j_1))) (λn_1.(λm_1.m_1))) (λt_1.(λr_1.t_1)))\n",
      "62: ((((((λb.((λc.(λd.(λe.(((c (λj.(λi.(i (j d))))) (λn.e)) (λm.m))))) ((λt.(λr.(λq.(((t (λw.(λu.(u (w r))))) (λo.q)) (λp.p))))) (λs.(λf.((((λg.(λh.(((b (λk.(λl.(l (k g))))) (λz.h)) (λv.v)))) (λx_1.(λy_1.(y_1 (x_1 s))))) (λa_1.f)) (λb_1.b_1))))))) (λc_1.(λd_1.(c_1 d_1)))) (λe_1.(λj_1.(λi_1.i_1)))) (λn_1.(λm_1.n_1))) (λt_1.(λx.x))) (λy.(λa.y)))\n",
      "63: ((((((λx.((λy.(λa.(λb.(((y (λc.(λd.(d (c a))))) (λe.b)) (λj.j))))) ((λi.(λn.(λm.(((i (λt.(λr.(r (t n))))) (λq.m)) (λw.w))))) (λu.(λo.(((λp.(((x (λs.(λf.(f (s (λg.(λh.(h (g u))))))))) (λk.p)) (λl.l))) (λz.o)) (λv.v))))))) (λx_1.(λy_1.(x_1 y_1)))) (λa_1.(λb_1.(λc_1.c_1)))) (λd_1.(λe_1.d_1))) (λj_1.(λi_1.i_1))) (λn_1.(λm_1.n_1)))\n",
      "64: ((((((λx.((λy.(λa.(λb.(((y (λc.(λd.(d (c a))))) (λe.b)) (λj.j))))) ((λi.(λn.(λm.(((i (λt.(λr.(r (t n))))) (λq.m)) (λw.w))))) (λu.(λo.((((x (λp.(λs.(s (p (λf.(λg.(g (f u))))))))) (λh.(λk.o))) (λl.l)) (λz.z))))))) (λv.(λx_1.(v x_1)))) (λy_1.(λa_1.(λb_1.b_1)))) (λc_1.(λd_1.c_1))) (λe_1.(λj_1.j_1))) (λi_1.(λn_1.i_1)))\n",
      "65: ((((((λx.((λy.(λa.(λb.(((y (λc.(λd.(d (c a))))) (λe.b)) (λj.j))))) (λi.(λn.((((λm.(λt.((((x (λr.(λq.(q (r (λw.(λu.(u (w m))))))))) (λo.(λp.t))) (λs.s)) (λf.f)))) (λg.(λh.(h (g i))))) (λk.n)) (λl.l)))))) (λz.(λv.(z v)))) (λx_1.(λy_1.(λa_1.a_1)))) (λb_1.(λc_1.b_1))) (λd_1.(λe_1.e_1))) (λj_1.(λi_1.j_1)))\n",
      "66: ((((((λp.((λs.(λf.(λg.(((s (λh.(λk.(k (h f))))) (λl.g)) (λz.z))))) (λv.(λx_1.(((λy_1.((((p (λa_1.(λb_1.(b_1 (a_1 (λc_1.(λd_1.(d_1 (c_1 (λe_1.(λj_1.(j_1 (e_1 v))))))))))))) (λx.(λy.y_1))) (λa.a)) (λb.b))) (λc.x_1)) (λd.d)))))) (λe.(λj.(e j)))) (λi.(λn.(λm.m)))) (λt.(λr.t))) (λq.(λw.w))) (λu.(λo.u)))\n",
      "67: ((((((λx.((λy.(λa.(λb.(((y (λc.(λd.(d (c a))))) (λe.b)) (λj.j))))) (λi.(λn.(((((x (λm.(λt.(t (m (λr.(λq.(q (r (λw.(λu.(u (w i))))))))))))) (λo.(λp.(λs.n)))) (λf.f)) (λg.g)) (λh.h)))))) (λk.(λl.(k l)))) (λz.(λv.(λx_1.x_1)))) (λy_1.(λa_1.y_1))) (λb_1.(λc_1.c_1))) (λd_1.(λe_1.d_1)))\n",
      "68: ((((((λx.(λy.(λa.((((λb.(λc.(((((x (λd.(λe.(e (d (λj.(λi.(i (j (λn.(λm.(m (n b))))))))))))) (λt.(λr.(λq.c)))) (λw.w)) (λu.u)) (λo.o)))) (λp.(λs.(s (p y))))) (λf.a)) (λg.g))))) (λh.(λk.(h k)))) (λl.(λz.(λv.v)))) (λx_1.(λy_1.x_1))) (λa_1.(λb_1.b_1))) (λc_1.(λd_1.c_1)))\n",
      "69: ((((((λx.(λy.(λa.(((λb.(((((x (λc.(λd.(d (c (λe.(λj.(j (e (λi.(λn.(n (i (λm.(λt.(t (m y))))))))))))))))) (λr.(λq.(λw.b)))) (λu.u)) (λo.o)) (λp.p))) (λs.a)) (λf.f))))) (λg.(λh.(g h)))) (λk.(λl.(λz.z)))) (λv.(λx_1.v))) (λy_1.(λa_1.a_1))) (λb_1.(λc_1.b_1)))\n",
      "70: ((((((λu.(λo.(λp.((((((u (λs.(λf.(f (s (λg.(λh.(h (g (λk.(λl.(l (k (λz.(λv.(v (z o))))))))))))))))) (λx_1.(λy_1.(λa_1.(λb_1.p))))) (λx.x)) (λy.y)) (λa.a)) (λb.b))))) (λc.(λd.(c d)))) (λe.(λj.(λi.i)))) (λn.(λm.n))) (λt.(λr.r))) (λq.(λw.q)))\n",
      "71: (((((λx.(λy.(((((((λa.(λb.(a b))) (λc.(λd.(d (c (λe.(λj.(j (e (λi.(λn.(n (i (λm.(λt.(t (m x))))))))))))))))) (λr.(λq.(λw.(λu.y))))) (λo.o)) (λp.p)) (λs.s)) (λf.f)))) (λg.(λh.(λk.k)))) (λl.(λz.l))) (λv.(λx_1.x_1))) (λy_1.(λa_1.y_1)))\n",
      "72: (((((λx.(λy.((((((λa.((λb.(λc.(c (b (λd.(λe.(e (d (λj.(λi.(i (j (λn.(λm.(m (n x)))))))))))))))) a)) (λt.(λr.(λq.(λw.y))))) (λu.u)) (λo.o)) (λp.p)) (λs.s)))) (λf.(λg.(λh.h)))) (λk.(λl.k))) (λz.(λv.v))) (λx_1.(λy_1.x_1)))\n",
      "73: (((((λx.(λy.((((((λa.(λb.(b (a (λc.(λd.(d (c (λe.(λj.(j (e (λi.(λn.(n (i x)))))))))))))))) (λm.(λt.(λr.(λq.y))))) (λw.w)) (λu.u)) (λo.o)) (λp.p)))) (λs.(λf.(λg.g)))) (λh.(λk.h))) (λl.(λz.z))) (λv.(λx_1.v)))\n",
      "74: (((((λx.(λy.(((((λa.(a ((λb.(λc.(λd.(λe.y)))) (λj.(λi.(i (j (λn.(λm.(m (n (λt.(λr.(r (t x))))))))))))))) (λq.q)) (λw.w)) (λu.u)) (λo.o)))) (λp.(λs.(λf.f)))) (λg.(λh.g))) (λk.(λl.l))) (λz.(λv.z)))\n",
      "75: (((((λo.(λp.(((((λs.(s (λx.(λy.(λa.p))))) (λb.b)) (λc.c)) (λd.d)) (λe.e)))) (λj.(λi.(λn.n)))) (λm.(λt.m))) (λr.(λq.q))) (λw.(λu.w)))\n",
      "76: (((((λa.(λb.(((((λc.c) (λd.(λe.(λj.b)))) (λi.i)) (λn.n)) (λm.m)))) (λt.(λr.(λq.q)))) (λw.(λu.w))) (λo.(λp.p))) (λx.(λy.x)))\n",
      "77: (((((λx.(λy.((((λa.(λb.(λc.y))) (λd.d)) (λe.e)) (λj.j)))) (λi.(λn.(λm.m)))) (λt.(λr.t))) (λq.(λw.w))) (λu.(λo.u)))\n",
      "78: (((((λa.(λb.(((λc.(λd.b)) (λe.e)) (λj.j)))) (λi.(λn.(λm.m)))) (λt.(λr.t))) (λq.(λw.w))) (λx.(λy.x)))\n",
      "79: (((((λx.(λy.((λa.y) (λb.b)))) (λc.(λd.(λe.e)))) (λj.(λi.j))) (λn.(λm.m))) (λt.(λr.t)))\n",
      "80: (((((λx.(λy.y)) (λa.(λb.(λc.c)))) (λd.(λe.d))) (λj.(λi.i))) (λn.(λm.n)))\n",
      "81: ((((λy.y) (λa.(λb.a))) (λc.(λd.d))) (λe.(λx.e)))\n",
      "82: (((λx.(λy.x)) (λa.(λb.b))) (λc.(λd.c)))\n",
      "83: ((λx.(λy.(λa.a))) (λb.(λc.b)))\n",
      "84: (λx.(λy.y))\n",
      "\n",
      "\n",
      "reduction steps: 84\n",
      "norm term:       (λx.(λy.y))\n"
     ]
    }
   ],
   "source": [
    "def term_test_13():\n",
    "    return multi_app_term(eq_term(), num_term(1), num_term(4))\n",
    "\n",
    "\n",
    "test_procedure(term_test_13(), steps_lim=100)"
   ],
   "metadata": {
    "collapsed": false
   }
  },
  {
   "cell_type": "code",
   "execution_count": 17,
   "outputs": [],
   "source": [
    "from calculus_path_mod.json_serialization import *\n",
    "\n",
    "inf_term = term_test_1()\n",
    "dict_from_term = term_to_dict(inf_term)\n",
    "term_from_dict = dict_to_term(dict_from_term)"
   ],
   "metadata": {
    "collapsed": false
   }
  },
  {
   "cell_type": "code",
   "execution_count": 18,
   "outputs": [
    {
     "name": "stdout",
     "output_type": "stream",
     "text": [
      "{'kind': 'app', 'subj': {'kind': 'lambda', 'var': 0, 'body': {'kind': 'lambda', 'var': 1, 'body': {'kind': 'atom', 'var': 1}}}, 'obj': {'kind': 'app', 'subj': {'kind': 'lambda', 'var': 0, 'body': {'kind': 'app', 'subj': {'kind': 'atom', 'var': 0}, 'obj': {'kind': 'atom', 'var': 0}}}, 'obj': {'kind': 'lambda', 'var': 0, 'body': {'kind': 'app', 'subj': {'kind': 'atom', 'var': 0}, 'obj': {'kind': 'atom', 'var': 0}}}}}\n"
     ]
    }
   ],
   "source": [
    "print(dict_from_term)"
   ],
   "metadata": {
    "collapsed": false
   }
  },
  {
   "cell_type": "code",
   "execution_count": 19,
   "outputs": [
    {
     "name": "stdout",
     "output_type": "stream",
     "text": [
      "((λx.(λy.y)) ((λx.(x x)) (λx.(x x))))\n"
     ]
    }
   ],
   "source": [
    "print(term_from_dict.funky_str())"
   ],
   "metadata": {
    "collapsed": false
   }
  },
  {
   "cell_type": "code",
   "execution_count": 20,
   "outputs": [
    {
     "name": "stdout",
     "output_type": "stream",
     "text": [
      "((λ#9328. (λ#9329. #9329)) ((λ#9328. (#9328 #9328)) (λ#9328. (#9328 #9328))))\n"
     ]
    }
   ],
   "source": [
    "print(term_from_dict)"
   ],
   "metadata": {
    "collapsed": false
   }
  },
  {
   "cell_type": "code",
   "execution_count": 21,
   "outputs": [
    {
     "name": "stdout",
     "output_type": "stream",
     "text": [
      "{'kind': 'app', 'subj': {'kind': 'lambda', 'var': 0, 'body': {'kind': 'lambda', 'var': 1, 'body': {'kind': 'atom', 'var': 1}}}, 'obj': {'kind': 'app', 'subj': {'kind': 'lambda', 'var': 2, 'body': {'kind': 'app', 'subj': {'kind': 'atom', 'var': 2}, 'obj': {'kind': 'atom', 'var': 2}}}, 'obj': {'kind': 'lambda', 'var': 3, 'body': {'kind': 'app', 'subj': {'kind': 'atom', 'var': 3}, 'obj': {'kind': 'atom', 'var': 3}}}}}\n",
      "((λ#9328. (λ#9329. #9329)) ((λ#9336. (#9336 #9336)) (λ#9337. (#9337 #9337))))\n"
     ]
    }
   ],
   "source": [
    "inf_term = term_test_1()._update_bound_vars()\n",
    "dict_from_term = term_to_dict(inf_term)\n",
    "term_from_dict = dict_to_term(dict_from_term)\n",
    "\n",
    "print(dict_from_term)\n",
    "print(term_from_dict)"
   ],
   "metadata": {
    "collapsed": false
   }
  },
  {
   "cell_type": "code",
   "execution_count": 22,
   "outputs": [
    {
     "name": "stdout",
     "output_type": "stream",
     "text": [
      "((λx.(λy.y)) ((λa.(a a)) (λb.(b b))))\n"
     ]
    }
   ],
   "source": [
    "print(term_from_dict.funky_str())"
   ],
   "metadata": {
    "collapsed": false
   }
  },
  {
   "cell_type": "code",
   "execution_count": 23,
   "outputs": [],
   "source": [
    "# list_terms = [\n",
    "#     term_test_1(),\n",
    "#     term_test_2(),\n",
    "#     term_test_3(),\n",
    "#     term_test_4(),\n",
    "#     term_test_5()\n",
    "# ]\n",
    "\n",
    "\n",
    "# save_terms(\"saved_terms.dat\", list_terms, is_overwrite=True)"
   ],
   "metadata": {
    "collapsed": false
   }
  },
  {
   "cell_type": "code",
   "execution_count": 24,
   "outputs": [
    {
     "ename": "FileNotFoundError",
     "evalue": "[Errno 2] No such file or directory: 'saved_terms.dat'",
     "output_type": "error",
     "traceback": [
      "\u001B[1;31m---------------------------------------------------------------------------\u001B[0m",
      "\u001B[1;31mFileNotFoundError\u001B[0m                         Traceback (most recent call last)",
      "Cell \u001B[1;32mIn[24], line 1\u001B[0m\n\u001B[1;32m----> 1\u001B[0m list_terms \u001B[38;5;241m=\u001B[39m \u001B[43mload_terms\u001B[49m\u001B[43m(\u001B[49m\u001B[38;5;124;43m\"\u001B[39;49m\u001B[38;5;124;43msaved_terms.dat\u001B[39;49m\u001B[38;5;124;43m\"\u001B[39;49m\u001B[43m)\u001B[49m\n\u001B[0;32m      2\u001B[0m \u001B[38;5;28;01mfor\u001B[39;00m t \u001B[38;5;129;01min\u001B[39;00m list_terms:\n\u001B[0;32m      3\u001B[0m     \u001B[38;5;28mprint\u001B[39m(\u001B[38;5;124m\"\u001B[39m\u001B[38;5;124m*******\u001B[39m\u001B[38;5;124m\"\u001B[39m)\n",
      "File \u001B[1;32mD:\\documents\\python_projects\\pure-calculus\\src\\calculus_path_mod\\json_serialization.py:69\u001B[0m, in \u001B[0;36mload_terms\u001B[1;34m(file_name)\u001B[0m\n\u001B[0;32m     63\u001B[0m \u001B[38;5;250m\u001B[39m\u001B[38;5;124;03m\"\"\"\u001B[39;00m\n\u001B[0;32m     64\u001B[0m \u001B[38;5;124;03m:param file_name: path to file for loading terms\u001B[39;00m\n\u001B[0;32m     65\u001B[0m \u001B[38;5;124;03m:return: list of Term objects\u001B[39;00m\n\u001B[0;32m     66\u001B[0m \u001B[38;5;124;03m\"\"\"\u001B[39;00m\n\u001B[0;32m     68\u001B[0m list_terms \u001B[38;5;241m=\u001B[39m []\n\u001B[1;32m---> 69\u001B[0m \u001B[38;5;28;01mwith\u001B[39;00m \u001B[38;5;28;43mopen\u001B[39;49m\u001B[43m(\u001B[49m\u001B[43mfile_name\u001B[49m\u001B[43m,\u001B[49m\u001B[43m \u001B[49m\u001B[38;5;124;43m\"\u001B[39;49m\u001B[38;5;124;43mr\u001B[39;49m\u001B[38;5;124;43m\"\u001B[39;49m\u001B[43m)\u001B[49m \u001B[38;5;28;01mas\u001B[39;00m storage_file:\n\u001B[0;32m     70\u001B[0m     \u001B[38;5;28;01mfor\u001B[39;00m term_line \u001B[38;5;129;01min\u001B[39;00m storage_file:\n\u001B[0;32m     71\u001B[0m         list_terms\u001B[38;5;241m.\u001B[39mappend(dict_to_term(json\u001B[38;5;241m.\u001B[39mloads(term_line)))\n",
      "\u001B[1;31mFileNotFoundError\u001B[0m: [Errno 2] No such file or directory: 'saved_terms.dat'"
     ]
    }
   ],
   "source": [
    "list_terms = load_terms(\"saved_terms.dat\")\n",
    "for t in list_terms:\n",
    "    print(\"*******\")\n",
    "    print(t.funky_str())\n",
    "    print(t.normalize(LOStrategy())[0].funky_str())"
   ],
   "metadata": {
    "collapsed": false
   }
  },
  {
   "cell_type": "code",
   "execution_count": 25,
   "outputs": [
    {
     "name": "stdout",
     "output_type": "stream",
     "text": [
      "[1. 2.]\n",
      "[2. 1.]\n",
      "[0.66666667 0.33333333]\n"
     ]
    },
    {
     "data": {
      "text/plain": "5"
     },
     "execution_count": 25,
     "metadata": {},
     "output_type": "execute_result"
    }
   ],
   "source": [
    "tttt = term_test_1()\n",
    "strg = RandomOuterStrategy(prob_norm=\"sum\")\n",
    "strg.redex_index(tttt)"
   ],
   "metadata": {
    "collapsed": false
   }
  },
  {
   "cell_type": "code",
   "execution_count": 26,
   "outputs": [
    {
     "name": "stdout",
     "output_type": "stream",
     "text": [
      "[3.]\n",
      "[1.]\n",
      "[1.]\n"
     ]
    },
    {
     "data": {
      "text/plain": "3"
     },
     "execution_count": 26,
     "metadata": {},
     "output_type": "execute_result"
    }
   ],
   "source": [
    "tttt = term_test_2()\n",
    "strg = RandomOuterStrategy(prob_norm=\"sum\")\n",
    "strg.redex_index(tttt)"
   ],
   "metadata": {
    "collapsed": false
   }
  },
  {
   "cell_type": "code",
   "execution_count": 27,
   "outputs": [
    {
     "name": "stdout",
     "output_type": "stream",
     "text": [
      "[ 2.  6. 11.  8. 11. 13.  7. 10. 12.]\n",
      "[12.  8.  3.  6.  3.  1.  7.  4.  2.]\n",
      "[0.26086957 0.17391304 0.06521739 0.13043478 0.06521739 0.02173913\n",
      " 0.15217391 0.08695652 0.04347826]\n"
     ]
    },
    {
     "data": {
      "text/plain": "27"
     },
     "execution_count": 27,
     "metadata": {},
     "output_type": "execute_result"
    }
   ],
   "source": [
    "tttt = term_test_13()\n",
    "strg = RandomOuterStrategy(prob_norm=\"sum\")\n",
    "strg.redex_index(tttt)"
   ],
   "metadata": {
    "collapsed": false
   }
  },
  {
   "cell_type": "code",
   "execution_count": 28,
   "outputs": [
    {
     "data": {
      "text/plain": "5"
     },
     "execution_count": 28,
     "metadata": {},
     "output_type": "execute_result"
    }
   ],
   "source": [
    "tttt = term_test_1()\n",
    "strg = RandomInnerStrategy(prob_norm=\"softmax\")\n",
    "strg.redex_index(tttt)"
   ],
   "metadata": {
    "collapsed": false
   }
  },
  {
   "cell_type": "code",
   "execution_count": 29,
   "outputs": [
    {
     "data": {
      "text/plain": "3"
     },
     "execution_count": 29,
     "metadata": {},
     "output_type": "execute_result"
    }
   ],
   "source": [
    "tttt = term_test_2()\n",
    "strg = RandomInnerStrategy(prob_norm=\"softmax\")\n",
    "strg.redex_index(tttt)"
   ],
   "metadata": {
    "collapsed": false
   }
  },
  {
   "cell_type": "code",
   "execution_count": 30,
   "outputs": [
    {
     "data": {
      "text/plain": "40"
     },
     "execution_count": 30,
     "metadata": {},
     "output_type": "execute_result"
    }
   ],
   "source": [
    "tttt = term_test_13()\n",
    "strg = RandomInnerStrategy(prob_norm=\"softmax\")\n",
    "strg.redex_index(tttt)"
   ],
   "metadata": {
    "collapsed": false
   }
  },
  {
   "cell_type": "markdown",
   "source": [
    "# Compare different powers"
   ],
   "metadata": {
    "collapsed": false
   }
  },
  {
   "cell_type": "code",
   "execution_count": 33,
   "outputs": [
    {
     "name": "stdout",
     "output_type": "stream",
     "text": [
      "[ 2.  6. 11.  8. 11. 13.  7. 10. 12.]\n",
      "[12.  8.  3.  6.  3.  1.  7.  4.  2.]\n",
      "[9.72595448e-01 1.78137070e-02 1.20027814e-04 2.41082308e-03\n",
      " 1.20027814e-04 1.62439982e-05 6.55329658e-03 3.26269425e-04\n",
      " 4.41557650e-05]\n"
     ]
    },
    {
     "data": {
      "text/plain": "2"
     },
     "execution_count": 33,
     "metadata": {},
     "output_type": "execute_result"
    }
   ],
   "source": [
    "tttt = term_test_13()\n",
    "strg = RandomOuterStrategy(prob_norm=\"softmax\")\n",
    "strg.redex_index(tttt)"
   ],
   "metadata": {
    "collapsed": false
   }
  },
  {
   "cell_type": "code",
   "execution_count": 34,
   "outputs": [
    {
     "name": "stdout",
     "output_type": "stream",
     "text": [
      "[ 2.  6. 11.  8. 11. 13.  7. 10. 12.]\n",
      "[12.  8.  3.  6.  3.  1.  7.  4.  2.]\n",
      "[0.26086957 0.17391304 0.06521739 0.13043478 0.06521739 0.02173913\n",
      " 0.15217391 0.08695652 0.04347826]\n"
     ]
    },
    {
     "data": {
      "text/plain": "70"
     },
     "execution_count": 34,
     "metadata": {},
     "output_type": "execute_result"
    }
   ],
   "source": [
    "tttt = term_test_13()\n",
    "strg = RandomOuterStrategy(prob_norm=\"sum\")\n",
    "strg.redex_index(tttt)"
   ],
   "metadata": {
    "collapsed": false
   }
  },
  {
   "cell_type": "code",
   "execution_count": 35,
   "outputs": [
    {
     "name": "stdout",
     "output_type": "stream",
     "text": [
      "[ 2.  6. 11.  8. 11. 13.  7. 10. 12.]\n",
      "[12.  8.  3.  6.  3.  1.  7.  4.  2.]\n",
      "[0.43373494 0.19277108 0.02710843 0.10843373 0.02710843 0.00301205\n",
      " 0.14759036 0.04819277 0.01204819]\n"
     ]
    },
    {
     "data": {
      "text/plain": "70"
     },
     "execution_count": 35,
     "metadata": {},
     "output_type": "execute_result"
    }
   ],
   "source": [
    "tttt = term_test_13()\n",
    "strg = RandomOuterStrategy(prob_norm=\"pow_2\")\n",
    "strg.redex_index(tttt)"
   ],
   "metadata": {
    "collapsed": false
   }
  },
  {
   "cell_type": "code",
   "execution_count": 36,
   "outputs": [
    {
     "name": "stdout",
     "output_type": "stream",
     "text": [
      "[ 2.  6. 11.  8. 11. 13.  7. 10. 12.]\n",
      "[12.  8.  3.  6.  3.  1.  7.  4.  2.]\n",
      "[5.90567327e-01 1.74982912e-01 9.22761449e-03 7.38209159e-02\n",
      " 9.22761449e-03 3.41763500e-04 1.17224880e-01 2.18728640e-02\n",
      " 2.73410800e-03]\n"
     ]
    },
    {
     "data": {
      "text/plain": "70"
     },
     "execution_count": 36,
     "metadata": {},
     "output_type": "execute_result"
    }
   ],
   "source": [
    "tttt = term_test_13()\n",
    "strg = RandomOuterStrategy(prob_norm=\"pow_3\")\n",
    "strg.redex_index(tttt)"
   ],
   "metadata": {
    "collapsed": false
   }
  },
  {
   "cell_type": "code",
   "execution_count": 38,
   "outputs": [
    {
     "name": "stdout",
     "output_type": "stream",
     "text": [
      "[ 2.  6. 11.  8. 11. 13.  7. 10. 12.]\n",
      "[12.  8.  3.  6.  3.  1.  7.  4.  2.]\n",
      "[7.15923215e-01 1.41416931e-01 2.79657506e-03 4.47452009e-02\n",
      " 2.79657506e-03 3.45256180e-05 8.28960088e-02 8.83855821e-03\n",
      " 5.52409888e-04]\n"
     ]
    },
    {
     "data": {
      "text/plain": "2"
     },
     "execution_count": 38,
     "metadata": {},
     "output_type": "execute_result"
    }
   ],
   "source": [
    "tttt = term_test_13()\n",
    "strg = RandomOuterStrategy(prob_norm=\"pow_4\")\n",
    "strg.redex_index(tttt)"
   ],
   "metadata": {
    "collapsed": false
   }
  },
  {
   "cell_type": "code",
   "execution_count": 39,
   "outputs": [
    {
     "name": "stdout",
     "output_type": "stream",
     "text": [
      "[ 2.  6. 11.  8. 11. 13.  7. 10. 12.]\n",
      "[12.  8.  3.  6.  3.  1.  7.  4.  2.]\n",
      "[8.08615457e-01 1.06484340e-01 7.89663532e-04 2.52692330e-02\n",
      " 7.89663532e-04 3.24964416e-06 5.46167695e-02 3.32763562e-03\n",
      " 1.03988613e-04]\n"
     ]
    },
    {
     "data": {
      "text/plain": "2"
     },
     "execution_count": 39,
     "metadata": {},
     "output_type": "execute_result"
    }
   ],
   "source": [
    "tttt = term_test_13()\n",
    "strg = RandomOuterStrategy(prob_norm=\"pow_5\")\n",
    "strg.redex_index(tttt)"
   ],
   "metadata": {
    "collapsed": false
   }
  }
 ],
 "metadata": {
  "kernelspec": {
   "display_name": "Python 3",
   "language": "python",
   "name": "python3"
  },
  "language_info": {
   "codemirror_mode": {
    "name": "ipython",
    "version": 2
   },
   "file_extension": ".py",
   "mimetype": "text/x-python",
   "name": "python",
   "nbconvert_exporter": "python",
   "pygments_lexer": "ipython2",
   "version": "2.7.6"
  }
 },
 "nbformat": 4,
 "nbformat_minor": 0
}
