{
 "cells": [
  {
   "cell_type": "markdown",
   "source": [
    "# Import the dependencies"
   ],
   "metadata": {
    "collapsed": false
   }
  },
  {
   "cell_type": "code",
   "execution_count": null,
   "outputs": [],
   "source": [
    "import re\n",
    "import random\n",
    "import numpy as np\n",
    "import pandas as pd\n",
    "\n",
    "from tqdm import tqdm\n",
    "from collections import Counter\n",
    "\n",
    "import tensorflow as tf\n",
    "from keras.models import Sequential\n",
    "from keras.layers import Dense, Dropout, Flatten, LSTM, Conv1D, GlobalAveragePooling1D\n",
    "from keras.callbacks import ModelCheckpoint\n",
    "\n",
    "from sklearn.utils import shuffle\n",
    "from sklearn.model_selection import train_test_split\n",
    "from sklearn.preprocessing import LabelBinarizer\n",
    "\n",
    "from sklearn.metrics import mean_squared_error\n",
    "from sklearn.metrics import mean_absolute_error\n",
    "from sklearn.metrics import explained_variance_score\n",
    "\n",
    "from matplotlib import pyplot as plt\n",
    "from matplotlib import rcParams\n",
    "\n",
    "import sys\n",
    "import time\n",
    "\n",
    "sys.path.append(\"../\")\n",
    "from calculus_path_mod.terms.pseudonym import *\n",
    "from calculus_path_mod.reduction_strategy import *\n",
    "from calculus_path_mod.terms.arithm_complex_ops import *"
   ],
   "metadata": {
    "collapsed": false,
    "ExecuteTime": {
     "start_time": "2023-10-24T17:00:49.326454Z",
     "end_time": "2023-10-24T17:00:55.594771Z"
    }
   }
  },
  {
   "cell_type": "code",
   "execution_count": null,
   "outputs": [],
   "source": [
    "epochs = 75\n",
    "onehot_dims = 4\n",
    "num_neurons = 256\n",
    "filters = 256\n",
    "kernel_size = 4"
   ],
   "metadata": {
    "collapsed": false,
    "ExecuteTime": {
     "start_time": "2023-10-24T17:00:55.593687Z",
     "end_time": "2023-10-24T17:00:55.607005Z"
    }
   }
  },
  {
   "cell_type": "markdown",
   "source": [
    "# Load & Prepare the data"
   ],
   "metadata": {
    "collapsed": false
   }
  },
  {
   "cell_type": "code",
   "execution_count": null,
   "outputs": [],
   "source": [
    "enc_dict = {\"(\": [1.0, .0, .0, .0],\n",
    "            \")\": [.0, 1.0, .0, .0],\n",
    "            \"x\": [.0, .0, 1.0, .0],\n",
    "            \"@x.\": [.0, .0, .0, 1.0]}\n",
    "tokens_pattern = r\"(\\(|\\)|@x\\.|x)\"\n",
    "\n",
    "\n",
    "def tokenize_data(simplified_term):\n",
    "    return re.findall(tokens_pattern, simplified_term)\n",
    "\n",
    "\n",
    "def tokenize_and_vectorize(x_data):\n",
    "    vectorized_data_ = []\n",
    "    for sample_ in x_data:\n",
    "        tokens_ = tokenize_data(sample_)\n",
    "        sample_vecs_ = []\n",
    "        for token_ in tokens_:\n",
    "            try:\n",
    "                sample_vecs_.append(enc_dict[token_])\n",
    "            except KeyError:\n",
    "                pass\n",
    "        vectorized_data_.append(sample_vecs_)\n",
    "    return vectorized_data_\n",
    "\n",
    "\n",
    "# def pad_trunk(x_data):\n",
    "#     padded_trunked = []\n",
    "#     for sample_ in x_data:\n",
    "#         new_sample = sample_[:maxlen]\n",
    "#         len_diff = maxlen - len(new_sample)\n",
    "#         if len_diff > 0:\n",
    "#             for _ in range(len_diff):\n",
    "#                 new_sample.append([0.0] * onehot_dims)\n",
    "#         padded_trunked.append(new_sample)\n",
    "#     return padded_trunked"
   ],
   "metadata": {
    "collapsed": false,
    "ExecuteTime": {
     "start_time": "2023-10-24T17:00:55.611018Z",
     "end_time": "2023-10-24T17:00:55.646375Z"
    }
   }
  },
  {
   "cell_type": "code",
   "execution_count": null,
   "outputs": [],
   "source": [
    "all_data = pd.read_csv(\"../data_RI/steps_simple_term_str.csv\", delimiter=',')\n",
    "\n",
    "# leave only unique terms\n",
    "print(f\"Count all terms: {len(all_data)}\\n\")\n",
    "all_data = all_data.drop_duplicates(subset=\"simple_terms\").reset_index(drop=True)\n",
    "print(f\"Count original terms: {len(all_data)}\\n\")\n",
    "\n",
    "# shuffle the dataset\n",
    "all_data = shuffle(all_data, random_state=33).reset_index(drop=True)\n",
    "\n",
    "# filter out steps_ri that are more than 30\n",
    "all_data = all_data[[steps_ri < 31 for steps_ri in all_data['steps_num']]]\n",
    "\n",
    "print(f\"max steps count: {max(all_data['steps_num'])}\")\n",
    "print(f\"min steps count: {min(all_data['steps_num'])}\")\n",
    "\n",
    "# make test/train split\n",
    "x_train, x_test, y_train, y_test = train_test_split(all_data[\"simple_terms\"].tolist(), all_data[\"steps_num\"].tolist(),\n",
    "                                                    test_size=0.2, random_state=42)\n",
    "\n",
    "print(f\"Count training samples: {len(y_train)}\")\n",
    "print(f\"Count testing samples: {len(y_test)}\")"
   ],
   "metadata": {
    "collapsed": false,
    "ExecuteTime": {
     "start_time": "2023-10-24T17:00:55.623868Z",
     "end_time": "2023-10-24T17:00:55.727991Z"
    }
   }
  },
  {
   "cell_type": "code",
   "execution_count": null,
   "outputs": [],
   "source": [
    "# one-hot encode y-data\n",
    "encoder = LabelBinarizer()\n",
    "encoder.fit(range(0, 31))\n",
    "y_train = encoder.transform(y_train)\n",
    "y_test = encoder.transform(y_test)\n",
    "\n",
    "x_train = tokenize_and_vectorize(x_train)\n",
    "x_test = tokenize_and_vectorize(x_test)\n",
    "\n",
    "# x_train = pad_trunk(x_train)\n",
    "# x_test = pad_trunk(x_test)"
   ],
   "metadata": {
    "collapsed": false,
    "ExecuteTime": {
     "start_time": "2023-10-24T17:00:55.687856Z",
     "end_time": "2023-10-24T17:00:55.825948Z"
    }
   }
  },
  {
   "cell_type": "code",
   "execution_count": null,
   "outputs": [],
   "source": [
    "xy_train_data = list(zip(x_train, y_train))\n",
    "xy_test_data = list(zip(x_test, y_test))"
   ],
   "metadata": {
    "collapsed": false,
    "ExecuteTime": {
     "start_time": "2023-10-24T17:00:55.825948Z",
     "end_time": "2023-10-24T17:00:55.840458Z"
    }
   }
  },
  {
   "cell_type": "code",
   "execution_count": null,
   "outputs": [],
   "source": [
    "print(f\"len(test_data) = {len(xy_test_data)}\")\n",
    "print(f\"len(train_data) = {len(xy_train_data)}\")"
   ],
   "metadata": {
    "collapsed": false,
    "ExecuteTime": {
     "start_time": "2023-10-24T17:00:55.843009Z",
     "end_time": "2023-10-24T17:00:55.914319Z"
    }
   }
  },
  {
   "cell_type": "code",
   "execution_count": null,
   "outputs": [],
   "source": [
    "def train_generator():\n",
    "    while True:\n",
    "        random.shuffle(xy_train_data)\n",
    "        for xtd, ytd in xy_train_data:\n",
    "            yield np.array([xtd]), np.array([ytd])\n",
    "\n",
    "\n",
    "def val_generator():\n",
    "    while True:\n",
    "        for xtd, ytd in xy_test_data:\n",
    "            yield np.array([xtd]), np.array([ytd])"
   ],
   "metadata": {
    "collapsed": false,
    "ExecuteTime": {
     "start_time": "2023-10-24T17:00:55.858946Z",
     "end_time": "2023-10-24T17:00:55.926667Z"
    }
   }
  },
  {
   "cell_type": "markdown",
   "source": [
    "# Define the model"
   ],
   "metadata": {
    "collapsed": false
   }
  },
  {
   "cell_type": "code",
   "execution_count": null,
   "outputs": [],
   "source": [
    "model = Sequential()\n",
    "\n",
    "model.add(Conv1D(\n",
    "    filters=16,\n",
    "    kernel_size=kernel_size,\n",
    "    padding='same',\n",
    "    activation='relu',\n",
    "    strides=1,\n",
    "    input_shape=(None, onehot_dims)\n",
    "))\n",
    "\n",
    "model.add(Conv1D(\n",
    "    filters=32,\n",
    "    kernel_size=kernel_size,\n",
    "    padding='same',\n",
    "    activation='relu',\n",
    "    strides=2,\n",
    "))\n",
    "\n",
    "model.add(Conv1D(\n",
    "    filters=64,\n",
    "    kernel_size=kernel_size,\n",
    "    padding='same',\n",
    "    activation='relu',\n",
    "    strides=1,\n",
    "))\n",
    "\n",
    "model.add(Conv1D(\n",
    "    filters=128,\n",
    "    kernel_size=kernel_size,\n",
    "    padding='same',\n",
    "    activation='relu',\n",
    "    strides=2,\n",
    "))\n",
    "\n",
    "model.add(GlobalAveragePooling1D())\n",
    "model.add(Dense(units=num_neurons, activation='relu'))\n",
    "model.add(Dense(units=31, activation='softmax'))"
   ],
   "metadata": {
    "collapsed": false,
    "ExecuteTime": {
     "start_time": "2023-10-24T17:00:57.260549Z",
     "end_time": "2023-10-24T17:01:00.611881Z"
    }
   }
  },
  {
   "cell_type": "code",
   "execution_count": null,
   "outputs": [],
   "source": [
    "model.compile(loss='categorical_crossentropy',\n",
    "              optimizer='adam',\n",
    "              metrics=['accuracy'])\n",
    "model.summary()"
   ],
   "metadata": {
    "collapsed": false,
    "ExecuteTime": {
     "start_time": "2023-10-24T17:01:14.419202Z",
     "end_time": "2023-10-24T17:01:14.497945Z"
    }
   }
  },
  {
   "cell_type": "code",
   "execution_count": null,
   "outputs": [],
   "source": [
    "model_structure = model.to_json()\n",
    "with open(\"./fine_models/conv_model.json\", 'w') as json_file:\n",
    "    json_file.write(model_structure)"
   ],
   "metadata": {
    "collapsed": false,
    "ExecuteTime": {
     "start_time": "2023-10-24T17:01:15.814607Z",
     "end_time": "2023-10-24T17:01:15.843649Z"
    }
   }
  },
  {
   "cell_type": "code",
   "execution_count": null,
   "outputs": [],
   "source": [
    "# Define the ModelCheckpoint callback\n",
    "checkpoint_callback = ModelCheckpoint(\n",
    "    filepath='./fine_models/conv_model.h5',  # Specify the path to save the best model\n",
    "    monitor='val_accuracy',  # Metric to monitor (e.g., validation loss)\n",
    "    save_best_only=True,  # Save only the best model\n",
    "    mode='max',  # 'min' or 'max' depending on the monitored metric\n",
    "    verbose=0  # Print a message when saving the model\n",
    ")"
   ],
   "metadata": {
    "collapsed": false,
    "ExecuteTime": {
     "start_time": "2023-10-24T17:01:18.298664Z",
     "end_time": "2023-10-24T17:01:18.313837Z"
    }
   }
  },
  {
   "cell_type": "code",
   "execution_count": null,
   "outputs": [],
   "source": [
    "history = model.fit(train_generator(), steps_per_epoch=3660, validation_data=val_generator(), validation_steps=916,\n",
    "                    epochs=epochs, verbose=1, callbacks=[checkpoint_callback])"
   ],
   "metadata": {
    "collapsed": false,
    "ExecuteTime": {
     "start_time": "2023-10-24T17:01:37.215175Z",
     "end_time": "2023-10-24T17:35:36.953092Z"
    }
   }
  },
  {
   "cell_type": "code",
   "execution_count": null,
   "outputs": [],
   "source": [
    "plt.plot(range(1, epochs + 1), history.history['loss'], label=\"loss\")\n",
    "plt.plot(range(1, epochs + 1), history.history['val_loss'], label=\"val_loss\")\n",
    "plt.xlabel(\"epochs\")\n",
    "plt.title(\"total loss\")\n",
    "\n",
    "plt.legend()\n",
    "plt.show()"
   ],
   "metadata": {
    "collapsed": false,
    "ExecuteTime": {
     "start_time": "2023-10-24T17:35:36.941544Z",
     "end_time": "2023-10-24T17:35:37.753813Z"
    }
   }
  },
  {
   "cell_type": "code",
   "execution_count": null,
   "outputs": [],
   "source": [
    "plt.plot(range(1, epochs + 1), history.history['accuracy'], label=\"accuracy\")\n",
    "plt.plot(range(1, epochs + 1), history.history['val_accuracy'], label=\"val_accuracy\")\n",
    "plt.xlabel(\"epochs\")\n",
    "plt.title(\"total accuracy\")\n",
    "\n",
    "plt.legend()\n",
    "plt.show()"
   ],
   "metadata": {
    "collapsed": false,
    "ExecuteTime": {
     "start_time": "2023-10-24T17:35:37.751623Z",
     "end_time": "2023-10-24T17:35:37.955559Z"
    }
   }
  },
  {
   "cell_type": "code",
   "execution_count": null,
   "outputs": [],
   "source": [
    "def draw_pred_lines(y_pred, y_real, title=\"Train dataset\", axis_name=\"LO Steps\"):\n",
    "    drawing_df = pd.DataFrame({\"Pred\": y_pred, \"Real\": y_real})\n",
    "    drawing_df = drawing_df.sort_values(\"Real\").reset_index(drop=True)\n",
    "\n",
    "    for key_, val_ in drawing_df.items():\n",
    "        plt.plot(range(len(val_)), val_, label=key_)\n",
    "\n",
    "    plt.xlabel(\"No\")\n",
    "    plt.ylabel(f\"Count {axis_name}\")\n",
    "    plt.title(title)\n",
    "    plt.legend()\n",
    "    plt.show()\n",
    "\n",
    "\n",
    "def calculate_accuracy(actual_labels, predicted_labels):\n",
    "    correct_predictions = sum(1 for actual, predicted in zip(actual_labels, predicted_labels) if actual == predicted)\n",
    "    total_predictions = len(actual_labels)\n",
    "    accuracy = correct_predictions / total_predictions\n",
    "    return accuracy"
   ],
   "metadata": {
    "collapsed": false,
    "ExecuteTime": {
     "start_time": "2023-10-24T17:35:37.952560Z",
     "end_time": "2023-10-24T17:35:37.964152Z"
    }
   }
  },
  {
   "cell_type": "code",
   "execution_count": null,
   "outputs": [],
   "source": [
    "# load the model\n",
    "\n",
    "with open(\"./fine_models/conv_model.json\", \"r\") as file:\n",
    "    loaded_model_json = file.read()\n",
    "\n",
    "model = tf.keras.models.model_from_json(loaded_model_json)\n",
    "model.load_weights(\"./fine_models/conv_model.h5\")"
   ],
   "metadata": {
    "collapsed": false,
    "ExecuteTime": {
     "start_time": "2023-10-24T17:35:37.965165Z",
     "end_time": "2023-10-24T17:35:38.104795Z"
    }
   }
  },
  {
   "cell_type": "code",
   "execution_count": null,
   "outputs": [],
   "source": [
    "y_test_pred = []\n",
    "for x_ in tqdm(x_test):\n",
    "    y_test_pred.append(model.predict(np.array([x_]), verbose=0)[0])\n",
    "\n",
    "y_test_pred_nums = encoder.inverse_transform(np.array(y_test_pred))\n",
    "y_test_nums = encoder.inverse_transform(y_test)\n",
    "\n",
    "print(\"Test accuracy:\", calculate_accuracy(y_test_nums, y_test_pred_nums))\n",
    "draw_pred_lines(y_test_pred_nums, y_test_nums, title=\"Test dataset\", axis_name=\"RI Steps\")"
   ],
   "metadata": {
    "collapsed": false,
    "ExecuteTime": {
     "start_time": "2023-10-24T17:35:38.107815Z",
     "end_time": "2023-10-24T17:36:25.187847Z"
    }
   }
  },
  {
   "cell_type": "code",
   "execution_count": null,
   "outputs": [],
   "source": [
    "y_train_pred = []\n",
    "for x_ in tqdm(x_train[:10_000]):\n",
    "    y_train_pred.append(model.predict(np.array([x_]), verbose=0)[0])\n",
    "\n",
    "y_train_pred_nums = encoder.inverse_transform(np.array(y_train_pred))\n",
    "y_train_nums = encoder.inverse_transform(y_train[:10_000])\n",
    "\n",
    "print(\"Train accuracy:\", calculate_accuracy(y_train_nums, y_train_pred_nums))\n",
    "draw_pred_lines(y_train_pred_nums, y_train_nums, title=\"Train dataset\", axis_name=\"RI Steps\")"
   ],
   "metadata": {
    "collapsed": false,
    "ExecuteTime": {
     "start_time": "2023-10-24T17:36:25.191132Z",
     "end_time": "2023-10-24T17:39:41.537764Z"
    }
   }
  },
  {
   "cell_type": "code",
   "execution_count": null,
   "outputs": [],
   "source": [],
   "metadata": {
    "collapsed": false,
    "ExecuteTime": {
     "start_time": "2023-08-29T18:10:46.061225Z",
     "end_time": "2023-08-29T18:10:46.234317Z"
    }
   }
  },
  {
   "cell_type": "code",
   "execution_count": null,
   "outputs": [],
   "source": [
    "def ite_term():\n",
    "    x, y, c = Var(), Var(), Var()\n",
    "    x_, y_, c_ = Atom(x), Atom(y), Atom(c)\n",
    "    return Lambda(c, Lambda(x, Lambda(y, multi_app_term(c_, x_, y_))))\n",
    "\n",
    "\n",
    "def true_term():\n",
    "    x, y = Var(), Var()\n",
    "    x_ = Atom(x)\n",
    "    return Lambda(x, Lambda(y, x_))\n",
    "\n",
    "\n",
    "def num_zero_term():\n",
    "    s, z = Var(), Var()\n",
    "    z_ = Atom(z)\n",
    "    return Lambda(s, Lambda(z, z_))\n",
    "\n",
    "\n",
    "def num_term(n: int):\n",
    "    if n <= 0:\n",
    "        return num_zero_term()\n",
    "    s, z = Var(), Var()\n",
    "    s_, z_ = Atom(s), Atom(z)\n",
    "    core_term = App(s_, z_)\n",
    "    for _ in range(n - 1):\n",
    "        core_term = App(s_, core_term)\n",
    "    return Lambda(s, Lambda(z, core_term))\n",
    "\n",
    "\n",
    "def multi_app_term(term_0: Term, term_1: Term, *terms: Term):\n",
    "    res_app_term = App(term_0, term_1)\n",
    "    for term in terms:\n",
    "        res_app_term = App(res_app_term, term)\n",
    "    return res_app_term\n",
    "\n",
    "\n",
    "def false_term():\n",
    "    x, y = Var(), Var()\n",
    "    y_ = Atom(y)\n",
    "    return Lambda(x, Lambda(y, y_))\n",
    "\n",
    "\n",
    "def pair_term():\n",
    "    x, y, p = Var(), Var(), Var()\n",
    "    x_, y_, p_ = Atom(x), Atom(y), Atom(p)\n",
    "    return Lambda(x, Lambda(y, Lambda(p, multi_app_term(p_, x_, y_))))\n",
    "\n",
    "\n",
    "def first_term():\n",
    "    p = Var()\n",
    "    p_ = Atom(p)\n",
    "    return Lambda(p, App(p_, true_term()))\n",
    "\n",
    "\n",
    "def second_term():\n",
    "    p = Var()\n",
    "    p_ = Atom(p)\n",
    "    return Lambda(p, App(p_, false_term()))\n",
    "\n",
    "\n",
    "def succ_term():\n",
    "    x, y, n = Var(), Var(), Var()\n",
    "    x_, y_, n_ = Atom(x), Atom(y), Atom(n)\n",
    "    return Lambda(n, Lambda(x, Lambda(y, App(x_, multi_app_term(n_, x_, y_)))))\n",
    "\n",
    "\n",
    "def sinc_term():\n",
    "    p = Var()\n",
    "    p_ = Atom(p)\n",
    "    return Lambda(\n",
    "        p,\n",
    "        multi_app_term(\n",
    "            pair_term(),\n",
    "            App(second_term(), p_),\n",
    "            App(succ_term(), App(second_term(), p_)),\n",
    "        ),\n",
    "    )\n",
    "\n",
    "\n",
    "def pred_term():\n",
    "    n, f, x, g, h, u = Var(), Var(), Var(), Var(), Var(), Var()\n",
    "    n_, f_, x_ = Atom(n), Atom(f), Atom(x)\n",
    "    g_, h_, u_ = Atom(g), Atom(h), Atom(u)\n",
    "\n",
    "    return Lambda(n, Lambda(f, Lambda(x, multi_app_term(\n",
    "        n_,\n",
    "        Lambda(g, Lambda(h, App(h_, App(g_, f_)))),\n",
    "        Lambda(u, x_),\n",
    "        Lambda(u, u_)\n",
    "    ))))\n",
    "\n",
    "\n",
    "def plus_term():\n",
    "    n, m = Var(), Var()\n",
    "    n_, m_ = Atom(n), Atom(m)\n",
    "    return Lambda(m, Lambda(n, multi_app_term(n_, succ_term(), m_)))\n",
    "\n",
    "\n",
    "def subtract_term():\n",
    "    n, m = Var(), Var()\n",
    "    n_, m_ = Atom(n), Atom(m)\n",
    "    return Lambda(n, Lambda(m, multi_app_term(m_, pred_term(), n_)))\n",
    "\n",
    "\n",
    "def iszero_term():\n",
    "    x, n = Var(), Var()\n",
    "    n_ = Atom(n)\n",
    "    return Lambda(n, App(App(n_, Lambda(x, false_term())), true_term()))\n",
    "\n",
    "\n",
    "def leq_term():\n",
    "    n, m = Var(), Var()\n",
    "    n_, m_ = Atom(n), Atom(m)\n",
    "    return Lambda(\n",
    "        n, Lambda(m, App(iszero_term(), multi_app_term(subtract_term(), n_, m_)))\n",
    "    )\n",
    "\n",
    "\n",
    "def and_term():\n",
    "    a, b = Var(), Var()\n",
    "    a_, b_ = Atom(a), Atom(b)\n",
    "    return Lambda(a, Lambda(b, multi_app_term(ite_term(), a_, b_, a_)))\n",
    "\n",
    "\n",
    "def eq_term():\n",
    "    n, m = Var(), Var()\n",
    "    n_, m_ = Atom(n), Atom(m)\n",
    "    return Lambda(\n",
    "        n,\n",
    "        Lambda(\n",
    "            m,\n",
    "            multi_app_term(\n",
    "                and_term(),\n",
    "                multi_app_term(leq_term(), n_, m_),\n",
    "                multi_app_term(leq_term(), m_, n_),\n",
    "            ),\n",
    "        ),\n",
    "    )\n",
    "\n",
    "\n",
    "def i_term():\n",
    "    x = Var()\n",
    "    x_ = Atom(x)\n",
    "    return Lambda(x, x_)\n",
    "\n",
    "\n",
    "def omega_term(n: int):\n",
    "    x = Var()\n",
    "    x_ = Atom(x)\n",
    "    body_app_term = x_\n",
    "    for _ in range(n - 1):\n",
    "        body_app_term = App(body_app_term, x_)\n",
    "    return Lambda(x, body_app_term)\n",
    "\n",
    "\n",
    "def multi_i_term(m: int):\n",
    "    app_term = i_term()\n",
    "    for _ in range(m - 1):\n",
    "        app_term = App(app_term, i_term())\n",
    "    return app_term\n",
    "\n",
    "\n",
    "def omega_multi_i_term(n: int, m: int):\n",
    "    return App(omega_term(n), multi_i_term(m))\n",
    "\n",
    "\n",
    "def term_test_1():\n",
    "    x, y = Var(), Var()\n",
    "    x_, y_ = Atom(x), Atom(y)\n",
    "\n",
    "    return \"(λx. (λy.y)) ((λx. (xx)) (λx. (xx))) == I == λx. x\", \\\n",
    "        App(\n",
    "            Lambda(x, Lambda(y, y_)),\n",
    "            App(\n",
    "                Lambda(x, App(x_, x_)),\n",
    "                Lambda(x, App(x_, x_))\n",
    "            )\n",
    "        )\n",
    "\n",
    "\n",
    "def term_test_2():\n",
    "    return \"(ITE TRUE 3 1) == 3 == λx. λy. (x (x (x y)))\", \\\n",
    "        multi_app_term(ite_term(), true_term(), num_term(3), num_term(1))\n",
    "\n",
    "\n",
    "def term_test_3():\n",
    "    return \"(ITE FALSE 0 4) == 4 == λx. λy. (x (x (x (x y))))\", \\\n",
    "        multi_app_term(ite_term(), false_term(), num_term(0), num_term(4))\n",
    "\n",
    "\n",
    "def term_test_4():\n",
    "    return \"(PRED 0) == 0 == λx. λy. y\", \\\n",
    "        multi_app_term(pred_term(), num_term(0))\n",
    "\n",
    "\n",
    "def term_test_5():\n",
    "    return \"(PRED 5) == 4 == λx. λy. (x (x (x (x y))))\", \\\n",
    "        multi_app_term(pred_term(), num_term(5))\n",
    "\n",
    "\n",
    "def term_test_6():\n",
    "    return \"(PLUS 0 0) == 0 == λx. λy. y\", \\\n",
    "        multi_app_term(plus_term(), num_term(0), num_term(0))\n",
    "\n",
    "\n",
    "def term_test_7():\n",
    "    return \"(PLUS 2 3) == 5 == λx. λy. (x (x (x (x (x y)))))\", \\\n",
    "        multi_app_term(plus_term(), num_term(2), num_term(3))\n",
    "\n",
    "\n",
    "def term_test_8():\n",
    "    return \"(SUBTRACT 4 1) == 3 == λx. λy. (x (x (x y)))\", \\\n",
    "        multi_app_term(subtract_term(), num_term(4), num_term(1))\n",
    "\n",
    "\n",
    "def term_test_9():\n",
    "    return \"(SUBTRACT 3 5) == 0 == λx. λy. y\", \\\n",
    "        multi_app_term(subtract_term(), num_term(3), num_term(5))\n",
    "\n",
    "\n",
    "def term_test_10():\n",
    "    return \"(LEQ 3 2) == FALSE == λx. λy. y\", \\\n",
    "        multi_app_term(leq_term(), num_term(3), num_term(2))\n",
    "\n",
    "\n",
    "def term_test_11():\n",
    "    return \"(LEQ 2 5) == TRUE == λx. λy. x\", \\\n",
    "        multi_app_term(leq_term(), num_term(2), num_term(5))\n",
    "\n",
    "\n",
    "def term_test_12():\n",
    "    return \"(EQ 2 2) == TRUE == λx. λy. x\", \\\n",
    "        multi_app_term(eq_term(), num_term(2), num_term(2))\n",
    "\n",
    "\n",
    "def term_test_13():\n",
    "    return \"(EQ 1 4) == FALSE == λx. λy. y\", \\\n",
    "        multi_app_term(eq_term(), num_term(1), num_term(4))\n",
    "\n",
    "\n",
    "def term_test_14():\n",
    "    return \"Omega(3, 3)  == I == λx. x\", \\\n",
    "        omega_multi_i_term(3, 3)\n",
    "\n",
    "\n",
    "def term_test_15():\n",
    "    return \"GCD_vO 5 2\", \\\n",
    "        multi_app_term(gcd_term_v0(), num_term(5), num_term(2))\n",
    "\n",
    "\n",
    "def term_test_16():\n",
    "    return \"GCD_v1 5 2\", \\\n",
    "        multi_app_term(gcd_term_v1(), num_term(5), num_term(2))\n",
    "\n",
    "\n",
    "def term_test_17():\n",
    "    return \"GCD_v3 5 2\", \\\n",
    "        multi_app_term(gcd_term_v3(), num_term(5), num_term(2))\n",
    "\n",
    "\n",
    "def term_test_18():\n",
    "    return \"PYTHAGOREAN 5 2 2\", \\\n",
    "        multi_app_term(\n",
    "            pythagorean_term(), num_term(5), num_term(2), num_term(2)\n",
    "        )\n",
    "\n",
    "\n",
    "def test_function(term_deskr_: str, term_: Term, model_: Sequential):\n",
    "    comb_str = term._update_bound_vars().to_combinatory_logic().to_combinatory_str()\n",
    "    prediction_ = model_.predict(np.array(tokenize_and_vectorize([comb_str])), verbose=0)\n",
    "    print(f\"{term_deskr_}\\nnorm_steps={term_.normalize(RIStrategy())[1]}\\tpred_steps={np.argmax(prediction_[0])}\\n\")\n",
    "\n",
    "\n",
    "list_test_functions = (\n",
    "term_test_1, term_test_2, term_test_3, term_test_4, term_test_5, term_test_6, term_test_7, term_test_9, term_test_10,\n",
    "term_test_11, term_test_12, term_test_13, term_test_14, term_test_15, term_test_16, term_test_17, term_test_18)\n",
    "\n",
    "for term_function in list_test_functions:\n",
    "    term_deskr, term = term_function()\n",
    "    test_function(term_deskr, term, model)"
   ],
   "metadata": {
    "collapsed": false,
    "ExecuteTime": {
     "start_time": "2023-10-24T17:43:14.595715Z",
     "end_time": "2023-10-24T17:44:37.012501Z"
    }
   }
  },
  {
   "cell_type": "code",
   "execution_count": null,
   "outputs": [],
   "source": [],
   "metadata": {
    "collapsed": false,
    "ExecuteTime": {
     "start_time": "2023-09-08T16:56:35.006044Z",
     "end_time": "2023-09-08T16:56:35.141696Z"
    }
   }
  },
  {
   "cell_type": "markdown",
   "source": [
    "# Do additional metrics testing"
   ],
   "metadata": {
    "collapsed": false
   }
  },
  {
   "cell_type": "markdown",
   "source": [
    "## Mean Squared Error"
   ],
   "metadata": {
    "collapsed": false
   }
  },
  {
   "cell_type": "code",
   "execution_count": null,
   "outputs": [],
   "source": [
    "mse_train = mean_squared_error(y_train_nums, y_train_pred_nums)\n",
    "print(\"Train {Mean Squared Error}:\", mse_train)\n",
    "\n",
    "mse_test = mean_squared_error(y_test_nums, y_test_pred_nums)\n",
    "print(\"Test {Mean Squared Error}:\", mse_test)"
   ],
   "metadata": {
    "collapsed": false,
    "ExecuteTime": {
     "start_time": "2023-10-24T17:45:54.923129Z",
     "end_time": "2023-10-24T17:45:54.961713Z"
    }
   }
  },
  {
   "cell_type": "markdown",
   "source": [
    "## Root Mean Squared Error"
   ],
   "metadata": {
    "collapsed": false
   }
  },
  {
   "cell_type": "code",
   "execution_count": null,
   "outputs": [],
   "source": [
    "rmse_train = mean_squared_error(y_train_nums, y_train_pred_nums, squared=False)\n",
    "print(\"Train {Root Mean Squared Error}:\", rmse_train)\n",
    "\n",
    "rmse_test = mean_squared_error(y_test_nums, y_test_pred_nums, squared=False)\n",
    "print(\"Test {Root Mean Squared Error}:\", rmse_test)"
   ],
   "metadata": {
    "collapsed": false,
    "ExecuteTime": {
     "start_time": "2023-10-24T17:45:57.010229Z",
     "end_time": "2023-10-24T17:45:57.059519Z"
    }
   }
  },
  {
   "cell_type": "markdown",
   "source": [
    "## Mean Absolute Error"
   ],
   "metadata": {
    "collapsed": false
   }
  },
  {
   "cell_type": "code",
   "execution_count": null,
   "outputs": [],
   "source": [
    "mae_train = mean_absolute_error(y_train_nums, y_train_pred_nums)\n",
    "print(\"Train {Mean Absolute Error}:\", mae_train)\n",
    "\n",
    "mae_test = mean_absolute_error(y_test_nums, y_test_pred_nums)\n",
    "print(\"Test {Mean Absolute Error}:\", mae_test)"
   ],
   "metadata": {
    "collapsed": false,
    "ExecuteTime": {
     "start_time": "2023-10-24T17:45:58.589103Z",
     "end_time": "2023-10-24T17:45:58.632636Z"
    }
   }
  },
  {
   "cell_type": "markdown",
   "source": [
    "## Coefficient of Correlation (Pearson's r)"
   ],
   "metadata": {
    "collapsed": false
   }
  },
  {
   "cell_type": "code",
   "execution_count": null,
   "outputs": [],
   "source": [
    "coc_test = np.corrcoef(y_test_pred_nums, y_test_nums)[0, 1]\n",
    "coc_train = np.corrcoef(y_train_pred_nums, y_train_nums)[0, 1]\n",
    "\n",
    "print(\"Train {Mean Bias Deviation}:\", coc_train)\n",
    "print(\"Test {Mean Bias Deviation}:\", coc_test)"
   ],
   "metadata": {
    "collapsed": false,
    "ExecuteTime": {
     "start_time": "2023-10-24T17:45:59.891085Z",
     "end_time": "2023-10-24T17:45:59.956866Z"
    }
   }
  },
  {
   "cell_type": "markdown",
   "source": [
    "## Error STD"
   ],
   "metadata": {
    "collapsed": false
   }
  },
  {
   "cell_type": "code",
   "execution_count": null,
   "outputs": [],
   "source": [
    "y_train_cl_pred_nums = np.array(y_train_pred_nums)\n",
    "y_test_cl_pred_nums = np.array(y_test_pred_nums)\n",
    "\n",
    "y_train_nums = np.array(y_train_nums)\n",
    "y_test_nums = np.array(y_test_nums)\n",
    "train_error = y_train_nums - y_train_cl_pred_nums\n",
    "test_error = y_test_nums - y_test_cl_pred_nums\n",
    "print(\"Train Error STD:\", np.abs(train_error).std())\n",
    "print(\"Test Error STD:\", np.abs(test_error).std())"
   ],
   "metadata": {
    "collapsed": false,
    "ExecuteTime": {
     "start_time": "2023-10-24T17:46:00.786731Z",
     "end_time": "2023-10-24T17:46:00.811283Z"
    }
   }
  },
  {
   "cell_type": "markdown",
   "source": [
    "# Some additional drawings"
   ],
   "metadata": {
    "collapsed": false
   }
  },
  {
   "cell_type": "code",
   "execution_count": null,
   "outputs": [],
   "source": [
    "def advanced_point_drawer(y_real, y_pred, title=\"Train dataset\", axis_name=\"LO Steps\"):\n",
    "    counter = Counter([(x_, y_) for x_, y_ in zip(y_real, y_pred)])\n",
    "    coords_count = dict(counter)\n",
    "\n",
    "    plt.figure(figsize=(12, 12))\n",
    "\n",
    "    coords_count_rev = dict()\n",
    "    for key_, val_ in coords_count.items():\n",
    "        if val_ not in coords_count_rev:\n",
    "            coords_count_rev[val_] = []\n",
    "        coords_count_rev[val_].append(key_)\n",
    "\n",
    "    tcoords_count_rev = dict()\n",
    "    for key_ in sorted(coords_count_rev.keys()):\n",
    "        tcoords_count_rev[key_] = coords_count_rev[key_]\n",
    "\n",
    "    coords_count_rev = tcoords_count_rev\n",
    "\n",
    "    for key_, val_ in coords_count_rev.items():\n",
    "        coords_data = np.array(val_)\n",
    "        plt.scatter(coords_data[:, 0], coords_data[:, 1], s=key_ ** 1 + 5, c='tab:blue', label=f\"\\n{key_}\\n\")\n",
    "\n",
    "    plt.plot([0, 31], [0, 31], c=\"gray\", linestyle=\"--\")\n",
    "    plt.axis(\"equal\")\n",
    "    plt.xlabel(f\"Real {axis_name}\", fontsize=18)\n",
    "    plt.ylabel(f\"Predict {axis_name}\", fontsize=18)\n",
    "    plt.title(title, fontsize=20)\n",
    "    plt.legend(prop={'size': 10})\n",
    "    plt.show()"
   ],
   "metadata": {
    "collapsed": false,
    "ExecuteTime": {
     "start_time": "2023-10-24T17:46:02.016277Z",
     "end_time": "2023-10-24T17:46:02.064588Z"
    }
   }
  },
  {
   "cell_type": "code",
   "execution_count": null,
   "outputs": [],
   "source": [
    "advanced_point_drawer(y_train_nums, y_train_cl_pred_nums, \"Train set\", \"RI Steps\")"
   ],
   "metadata": {
    "collapsed": false,
    "ExecuteTime": {
     "start_time": "2023-10-24T17:46:03.040716Z",
     "end_time": "2023-10-24T17:46:04.633071Z"
    }
   }
  },
  {
   "cell_type": "code",
   "execution_count": null,
   "outputs": [],
   "source": [
    "advanced_point_drawer(y_test_nums, y_test_cl_pred_nums, \"Test set\", \"RI Steps\")"
   ],
   "metadata": {
    "collapsed": false,
    "ExecuteTime": {
     "start_time": "2023-10-24T17:46:04.634595Z",
     "end_time": "2023-10-24T17:46:05.369171Z"
    }
   }
  },
  {
   "cell_type": "code",
   "execution_count": null,
   "outputs": [],
   "source": [],
   "metadata": {
    "collapsed": false,
    "ExecuteTime": {
     "start_time": "2023-10-24T17:46:05.370530Z",
     "end_time": "2023-10-24T17:46:05.422592Z"
    }
   }
  },
  {
   "cell_type": "code",
   "execution_count": null,
   "outputs": [],
   "source": [
    "def draw_pred_scatter(y_real, y_pred, title=\"Train dataset\", axis_name=\"LO Steps\"):\n",
    "    plt.scatter(y_real, y_pred, s=3)\n",
    "    plt.plot([0, 30], [0, 30], color='gray', linestyle='--')\n",
    "\n",
    "    plt.xlabel(f\"Real {axis_name}\")\n",
    "    plt.ylabel(f\"Predicted {axis_name}\")\n",
    "    plt.title(f\"Pred vs Real {axis_name} in {title}\")\n",
    "    plt.show()\n",
    "\n",
    "\n",
    "draw_pred_scatter(y_train_nums, y_train_cl_pred_nums, \"Train set\", \"RI Steps\")\n",
    "draw_pred_scatter(y_test_nums, y_test_cl_pred_nums, \"Test set\", \"RI Steps\")"
   ],
   "metadata": {
    "collapsed": false,
    "ExecuteTime": {
     "start_time": "2023-10-24T17:46:05.778392Z",
     "end_time": "2023-10-24T17:46:06.085750Z"
    }
   }
  },
  {
   "cell_type": "code",
   "execution_count": null,
   "outputs": [],
   "source": [
    "def draw_pred_scatter(y_real, y_pred, title=\"Train dataset\", axis_name=\"LO Steps\"):\n",
    "    counter = Counter([(x_, y_) for x_, y_ in zip(y_real, y_pred)])\n",
    "    coords_count = dict(counter)\n",
    "\n",
    "    plt.figure(figsize=(12, 12))\n",
    "\n",
    "    coords_count_rev = dict()\n",
    "    for key_, val_ in coords_count.items():\n",
    "        if val_ not in coords_count_rev:\n",
    "            coords_count_rev[val_] = []\n",
    "        coords_count_rev[val_].append(key_)\n",
    "\n",
    "    tcoords_count_rev = dict()\n",
    "    for key_ in sorted(coords_count_rev.keys()):\n",
    "        tcoords_count_rev[key_] = coords_count_rev[key_]\n",
    "\n",
    "    coords_count_rev = tcoords_count_rev\n",
    "\n",
    "    for key_, val_ in coords_count_rev.items():\n",
    "        coords_data = np.array(val_)\n",
    "        plt.scatter(coords_data[:, 0], coords_data[:, 1], s=key_ ** 1 + 3, c='tab:blue', label=f\"\\n{key_}\\n\")\n",
    "    plt.plot([0, 30], [0, 30], color='gray', linestyle='--')\n",
    "\n",
    "    plt.xlabel(f\"Real {axis_name}\")\n",
    "    plt.ylabel(f\"Predicted {axis_name}\")\n",
    "    plt.title(f\"Pred vs Real {axis_name} in {title}\")\n",
    "    plt.show()\n",
    "\n",
    "\n",
    "draw_pred_scatter(y_train_nums, y_train_cl_pred_nums, \"Train set\", \"RI Steps\")\n",
    "draw_pred_scatter(y_test_nums, y_test_cl_pred_nums, \"Test set\", \"RI Steps\")"
   ],
   "metadata": {
    "collapsed": false,
    "ExecuteTime": {
     "start_time": "2023-10-24T17:46:06.789896Z",
     "end_time": "2023-10-24T17:46:07.889296Z"
    }
   }
  },
  {
   "cell_type": "code",
   "execution_count": null,
   "outputs": [],
   "source": [
    "def draw_pred_lines(y_pred, y_real, title=\"Train dataset\", axis_name=\"LO Steps\"):\n",
    "    drawing_df = pd.DataFrame({\"Pred\": y_pred, \"Real\": y_real})\n",
    "    drawing_df = drawing_df.sort_values(\"Real\").reset_index(drop=True)\n",
    "\n",
    "    for key_, val_ in drawing_df.items():\n",
    "        plt.scatter(range(len(val_)), val_, label=key_, s=3)\n",
    "\n",
    "    plt.xlabel(\"No\")\n",
    "    plt.ylabel(f\"Count {axis_name}\")\n",
    "    plt.title(title)\n",
    "    plt.legend()\n",
    "    plt.show()\n",
    "\n",
    "\n",
    "rcParams[\"figure.figsize\"] = 10, 9\n",
    "draw_pred_lines(y_test_pred_nums, y_test_nums, title=\"Test dataset\", axis_name=\"RI Steps\")\n",
    "draw_pred_lines(y_train_pred_nums, y_train_nums, title=\"Train dataset\", axis_name=\"RI Steps\")"
   ],
   "metadata": {
    "collapsed": false,
    "ExecuteTime": {
     "start_time": "2023-10-24T17:46:07.891811Z",
     "end_time": "2023-10-24T17:46:08.332089Z"
    }
   }
  },
  {
   "cell_type": "code",
   "execution_count": null,
   "outputs": [],
   "source": [
    "def draw_pred_lines(y_pred, y_real, title=\"Train dataset\", axis_name=\"LO Steps\"):\n",
    "    drawing_df = pd.DataFrame({\"Pred\": y_pred, \"Real\": y_real})\n",
    "    drawing_df = drawing_df.sort_values(\"Real\").reset_index(drop=True)\n",
    "\n",
    "    prop_cycle = plt.rcParams['axes.prop_cycle']\n",
    "    colors = prop_cycle.by_key()['color']\n",
    "\n",
    "    plt.plot(range(len(drawing_df[\"Real\"])), drawing_df[\"Real\"], label=\"Real\", c=colors[1])\n",
    "    plt.scatter(range(len(drawing_df[\"Pred\"])), drawing_df[\"Pred\"], label=\"Pred\", s=3, c=colors[0])\n",
    "\n",
    "    plt.xlabel(\"No\")\n",
    "    plt.ylabel(f\"Count {axis_name}\")\n",
    "    plt.title(title)\n",
    "    plt.legend()\n",
    "    plt.show()\n",
    "\n",
    "\n",
    "rcParams[\"figure.figsize\"] = 10, 9\n",
    "draw_pred_lines(y_test_pred_nums, y_test_nums, title=\"Test dataset\", axis_name=\"RI Steps\")\n",
    "draw_pred_lines(y_train_pred_nums, y_train_nums, title=\"Train dataset\", axis_name=\"RI Steps\")"
   ],
   "metadata": {
    "collapsed": false,
    "ExecuteTime": {
     "start_time": "2023-10-24T17:46:08.643449Z",
     "end_time": "2023-10-24T17:46:09.030000Z"
    }
   }
  },
  {
   "cell_type": "code",
   "execution_count": null,
   "outputs": [],
   "source": [],
   "metadata": {
    "collapsed": false,
    "ExecuteTime": {
     "start_time": "2023-10-24T17:46:09.485789Z",
     "end_time": "2023-10-24T17:46:09.520918Z"
    }
   }
  }
 ],
 "metadata": {
  "kernelspec": {
   "display_name": "Python 3",
   "language": "python",
   "name": "python3"
  },
  "language_info": {
   "codemirror_mode": {
    "name": "ipython",
    "version": 2
   },
   "file_extension": ".py",
   "mimetype": "text/x-python",
   "name": "python",
   "nbconvert_exporter": "python",
   "pygments_lexer": "ipython2",
   "version": "2.7.6"
  }
 },
 "nbformat": 4,
 "nbformat_minor": 0
}
