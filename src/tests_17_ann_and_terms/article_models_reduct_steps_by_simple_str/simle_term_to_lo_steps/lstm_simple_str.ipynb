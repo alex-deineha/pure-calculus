{
 "cells": [
  {
   "cell_type": "markdown",
   "source": [
    "# Import the dependencies"
   ],
   "metadata": {
    "collapsed": false
   }
  },
  {
   "cell_type": "code",
   "execution_count": 1,
   "outputs": [],
   "source": [
    "import re\n",
    "import random\n",
    "import numpy as np\n",
    "import pandas as pd\n",
    "\n",
    "from tqdm import tqdm\n",
    "from collections import Counter\n",
    "\n",
    "import tensorflow as tf\n",
    "from keras.models import Sequential\n",
    "from keras.layers import Dense, Dropout, Flatten, LSTM, Conv1D, GlobalAveragePooling1D\n",
    "from keras.callbacks import ModelCheckpoint\n",
    "\n",
    "from sklearn.utils import shuffle\n",
    "from sklearn.model_selection import train_test_split\n",
    "from sklearn.preprocessing import LabelBinarizer\n",
    "\n",
    "from sklearn.metrics import mean_squared_error\n",
    "from sklearn.metrics import mean_absolute_error\n",
    "from sklearn.metrics import explained_variance_score\n",
    "\n",
    "from matplotlib import pyplot as plt\n",
    "from matplotlib import rcParams\n",
    "\n",
    "import sys\n",
    "import time\n",
    "\n",
    "sys.path.append(\"../../../\")\n",
    "from calculus_path_mod.terms.pseudonym import *\n",
    "from calculus_path_mod.reduction_strategy import *\n",
    "from calculus_path_mod.terms.arithm_complex_ops import *"
   ],
   "metadata": {
    "collapsed": false,
    "ExecuteTime": {
     "end_time": "2023-10-25T15:09:36.712214500Z",
     "start_time": "2023-10-25T15:09:16.234127100Z"
    }
   }
  },
  {
   "cell_type": "code",
   "execution_count": 2,
   "outputs": [],
   "source": [
    "epochs = 75\n",
    "num_lstm_neurons = 256\n",
    "num_pre_out_neurons = 256\n",
    "onehot_dims = 4"
   ],
   "metadata": {
    "collapsed": false,
    "ExecuteTime": {
     "end_time": "2023-10-25T15:09:36.735198600Z",
     "start_time": "2023-10-25T15:09:36.713198Z"
    }
   }
  },
  {
   "cell_type": "markdown",
   "source": [
    "# Load & Prepare the data"
   ],
   "metadata": {
    "collapsed": false
   }
  },
  {
   "cell_type": "code",
   "execution_count": 3,
   "outputs": [],
   "source": [
    "enc_dict = {\"(\": [1.0, .0, .0, .0],\n",
    "            \")\": [.0, 1.0, .0, .0],\n",
    "            \"x\": [.0, .0, 1.0, .0],\n",
    "            \"@x.\": [.0, .0, .0, 1.0]}\n",
    "tokens_pattern = r\"(\\(|\\)|@x\\.|x)\"\n",
    "\n",
    "\n",
    "def tokenize_data(simplified_term):\n",
    "    return re.findall(tokens_pattern, simplified_term)\n",
    "\n",
    "\n",
    "def tokenize_and_vectorize(x_data):\n",
    "    vectorized_data_ = []\n",
    "    for sample_ in x_data:\n",
    "        tokens_ = tokenize_data(sample_)\n",
    "        sample_vecs_ = []\n",
    "        for token_ in tokens_:\n",
    "            try:\n",
    "                sample_vecs_.append(enc_dict[token_])\n",
    "            except KeyError:\n",
    "                pass\n",
    "        vectorized_data_.append(sample_vecs_)\n",
    "    return vectorized_data_\n",
    "\n",
    "\n",
    "# def pad_trunk(x_data):\n",
    "#     padded_trunked = []\n",
    "#     for sample_ in x_data:\n",
    "#         new_sample = sample_[:maxlen]\n",
    "#         len_diff = maxlen - len(new_sample)\n",
    "#         if len_diff > 0:\n",
    "#             for _ in range(len_diff):\n",
    "#                 new_sample.append([0.0] * onehot_dims)\n",
    "#         padded_trunked.append(new_sample)\n",
    "#     return padded_trunked"
   ],
   "metadata": {
    "collapsed": false,
    "ExecuteTime": {
     "end_time": "2023-10-25T15:09:36.782196900Z",
     "start_time": "2023-10-25T15:09:36.728199400Z"
    }
   }
  },
  {
   "cell_type": "code",
   "execution_count": 4,
   "outputs": [
    {
     "name": "stdout",
     "output_type": "stream",
     "text": [
      "Count all terms: 4251\n",
      "\n",
      "Count original terms: 4251\n",
      "\n",
      "max steps count: 30\n",
      "min steps count: 0\n",
      "Count training samples: 2952\n",
      "Count testing samples: 739\n"
     ]
    }
   ],
   "source": [
    "all_data = pd.read_csv(\"../data_LO/steps_simple_term_str.csv\", delimiter=',')\n",
    "\n",
    "# leave only unique terms\n",
    "print(f\"Count all terms: {len(all_data)}\\n\")\n",
    "all_data = all_data.drop_duplicates(subset=\"simple_terms\").reset_index(drop=True)\n",
    "print(f\"Count original terms: {len(all_data)}\\n\")\n",
    "\n",
    "# shuffle the dataset\n",
    "all_data = shuffle(all_data, random_state=33).reset_index(drop=True)\n",
    "\n",
    "# filter out steps_lo that are more than 30\n",
    "all_data = all_data[[steps_lo < 31 for steps_lo in all_data['steps_num']]]\n",
    "\n",
    "print(f\"max steps count: {max(all_data['steps_num'])}\")\n",
    "print(f\"min steps count: {min(all_data['steps_num'])}\")\n",
    "\n",
    "# make test/train split\n",
    "x_train, x_test, y_train, y_test = train_test_split(all_data[\"simple_terms\"].tolist(), all_data[\"steps_num\"].tolist(),\n",
    "                                                    test_size=0.2, random_state=42)\n",
    "\n",
    "print(f\"Count training samples: {len(y_train)}\")\n",
    "print(f\"Count testing samples: {len(y_test)}\")"
   ],
   "metadata": {
    "collapsed": false,
    "ExecuteTime": {
     "end_time": "2023-10-25T15:09:36.855196200Z",
     "start_time": "2023-10-25T15:09:36.751213600Z"
    }
   }
  },
  {
   "cell_type": "code",
   "execution_count": 5,
   "outputs": [],
   "source": [
    "# one-hot encode y-data\n",
    "encoder = LabelBinarizer()\n",
    "encoder.fit(range(0, 31))\n",
    "y_train = encoder.transform(y_train)\n",
    "y_test = encoder.transform(y_test)\n",
    "\n",
    "x_train = tokenize_and_vectorize(x_train)\n",
    "x_test = tokenize_and_vectorize(x_test)\n",
    "\n",
    "# x_train = pad_trunk(x_train)\n",
    "# x_test = pad_trunk(x_test)"
   ],
   "metadata": {
    "collapsed": false,
    "ExecuteTime": {
     "end_time": "2023-10-25T15:09:37.141205600Z",
     "start_time": "2023-10-25T15:09:36.845197900Z"
    }
   }
  },
  {
   "cell_type": "code",
   "execution_count": 6,
   "outputs": [],
   "source": [
    "xy_train_data = list(zip(x_train, y_train))\n",
    "xy_test_data = list(zip(x_test, y_test))"
   ],
   "metadata": {
    "collapsed": false,
    "ExecuteTime": {
     "end_time": "2023-10-25T15:09:37.300201900Z",
     "start_time": "2023-10-25T15:09:37.142196300Z"
    }
   }
  },
  {
   "cell_type": "code",
   "execution_count": 7,
   "outputs": [
    {
     "name": "stdout",
     "output_type": "stream",
     "text": [
      "len(test_data) = 739\n",
      "len(train_data) = 2952\n"
     ]
    }
   ],
   "source": [
    "print(f\"len(test_data) = {len(xy_test_data)}\")\n",
    "print(f\"len(train_data) = {len(xy_train_data)}\")"
   ],
   "metadata": {
    "collapsed": false,
    "ExecuteTime": {
     "end_time": "2023-10-25T15:09:37.324206100Z",
     "start_time": "2023-10-25T15:09:37.303198100Z"
    }
   }
  },
  {
   "cell_type": "code",
   "execution_count": 8,
   "outputs": [],
   "source": [
    "def train_generator():\n",
    "    while True:\n",
    "        random.shuffle(xy_train_data)\n",
    "        for xtd, ytd in xy_train_data:\n",
    "            yield np.array([xtd]), np.array([ytd])\n",
    "\n",
    "\n",
    "def val_generator():\n",
    "    while True:\n",
    "        for xtd, ytd in xy_test_data:\n",
    "            yield np.array([xtd]), np.array([ytd])"
   ],
   "metadata": {
    "collapsed": false,
    "ExecuteTime": {
     "end_time": "2023-10-25T15:09:37.412726300Z",
     "start_time": "2023-10-25T15:09:37.319200700Z"
    }
   }
  },
  {
   "cell_type": "markdown",
   "source": [
    "# Define the model"
   ],
   "metadata": {
    "collapsed": false
   }
  },
  {
   "cell_type": "code",
   "execution_count": 9,
   "outputs": [],
   "source": [
    "from keras.layers import Input\n",
    "from keras.models import Model\n",
    "\n",
    "model = Sequential()\n",
    "model.add(Input(shape=(None, onehot_dims)))\n",
    "model.add(LSTM(units=num_lstm_neurons))\n",
    "# model.add(Dense(units=num_pre_out_neurons, activation=\"relu\"))\n",
    "model.add(Dense(units=31, activation=\"softmax\", name=\"cl_out\"))"
   ],
   "metadata": {
    "collapsed": false,
    "ExecuteTime": {
     "end_time": "2023-10-25T15:09:42.546732400Z",
     "start_time": "2023-10-25T15:09:37.335212700Z"
    }
   }
  },
  {
   "cell_type": "code",
   "execution_count": 10,
   "outputs": [
    {
     "name": "stdout",
     "output_type": "stream",
     "text": [
      "Model: \"sequential\"\n",
      "_________________________________________________________________\n",
      "Layer (type)                 Output Shape              Param #   \n",
      "=================================================================\n",
      "lstm (LSTM)                  (None, 256)               267264    \n",
      "_________________________________________________________________\n",
      "cl_out (Dense)               (None, 31)                7967      \n",
      "=================================================================\n",
      "Total params: 275,231\n",
      "Trainable params: 275,231\n",
      "Non-trainable params: 0\n",
      "_________________________________________________________________\n"
     ]
    }
   ],
   "source": [
    "model.compile(loss='categorical_crossentropy',\n",
    "              optimizer='adam',\n",
    "              metrics=['accuracy'])\n",
    "model.summary()"
   ],
   "metadata": {
    "collapsed": false,
    "ExecuteTime": {
     "end_time": "2023-10-25T15:09:42.613726700Z",
     "start_time": "2023-10-25T15:09:42.547724200Z"
    }
   }
  },
  {
   "cell_type": "code",
   "execution_count": 11,
   "outputs": [],
   "source": [
    "model_structure = model.to_json()\n",
    "with open(\"./fine_models/lstm_model.json\", 'w') as json_file:\n",
    "    json_file.write(model_structure)"
   ],
   "metadata": {
    "collapsed": false,
    "ExecuteTime": {
     "end_time": "2023-10-25T15:09:42.690721400Z",
     "start_time": "2023-10-25T15:09:42.605723Z"
    }
   }
  },
  {
   "cell_type": "code",
   "execution_count": 12,
   "outputs": [],
   "source": [
    "# Define the ModelCheckpoint callback\n",
    "checkpoint_callback = ModelCheckpoint(\n",
    "    filepath='./fine_models/lstm_model.h5',  # Specify the path to save the best model\n",
    "    monitor='val_accuracy',  # Metric to monitor (e.g., validation loss)\n",
    "    save_best_only=True,  # Save only the best model\n",
    "    mode='max',  # 'min' or 'max' depending on the monitored metric\n",
    "    verbose=0  # Print a message when saving the model\n",
    ")"
   ],
   "metadata": {
    "collapsed": false,
    "ExecuteTime": {
     "end_time": "2023-10-25T15:09:45.077722800Z",
     "start_time": "2023-10-25T15:09:44.641721700Z"
    }
   }
  },
  {
   "cell_type": "code",
   "execution_count": 13,
   "outputs": [
    {
     "name": "stdout",
     "output_type": "stream",
     "text": [
      "Epoch 1/75\n",
      "2952/2952 [==============================] - 168s 40ms/step - loss: 3.0540 - accuracy: 0.1144 - val_loss: 3.0094 - val_accuracy: 0.1001\n",
      "Epoch 2/75\n",
      "2952/2952 [==============================] - 84s 28ms/step - loss: 2.9357 - accuracy: 0.1207 - val_loss: 2.9929 - val_accuracy: 0.1001\n",
      "Epoch 3/75\n",
      "2952/2952 [==============================] - 65s 22ms/step - loss: 2.9753 - accuracy: 0.1132 - val_loss: 2.9881 - val_accuracy: 0.1001\n",
      "Epoch 4/75\n",
      "2952/2952 [==============================] - 66s 22ms/step - loss: 2.9564 - accuracy: 0.1219 - val_loss: 2.7792 - val_accuracy: 0.1448\n",
      "Epoch 5/75\n",
      "2952/2952 [==============================] - 61s 21ms/step - loss: 2.6991 - accuracy: 0.1284 - val_loss: 2.6600 - val_accuracy: 0.1556\n",
      "Epoch 6/75\n",
      "2952/2952 [==============================] - 62s 21ms/step - loss: 2.6960 - accuracy: 0.1397 - val_loss: 2.7215 - val_accuracy: 0.1367\n",
      "Epoch 7/75\n",
      "2952/2952 [==============================] - 95s 32ms/step - loss: 2.6210 - accuracy: 0.1718 - val_loss: 2.6694 - val_accuracy: 0.1583\n",
      "Epoch 8/75\n",
      "2952/2952 [==============================] - 108s 37ms/step - loss: 2.5968 - accuracy: 0.1440 - val_loss: 2.6508 - val_accuracy: 0.1610\n",
      "Epoch 9/75\n",
      "2952/2952 [==============================] - 90s 31ms/step - loss: 2.5927 - accuracy: 0.1556 - val_loss: 2.6471 - val_accuracy: 0.1556\n",
      "Epoch 10/75\n",
      "2952/2952 [==============================] - 85s 29ms/step - loss: 2.6272 - accuracy: 0.1533 - val_loss: 2.6732 - val_accuracy: 0.1353\n",
      "Epoch 11/75\n",
      "2952/2952 [==============================] - 96s 32ms/step - loss: 2.6102 - accuracy: 0.1605 - val_loss: 2.6328 - val_accuracy: 0.1380\n",
      "Epoch 12/75\n",
      "2952/2952 [==============================] - 87s 30ms/step - loss: 2.5645 - accuracy: 0.1669 - val_loss: 2.6650 - val_accuracy: 0.1421\n",
      "Epoch 13/75\n",
      "2952/2952 [==============================] - 93s 31ms/step - loss: 2.5643 - accuracy: 0.1685 - val_loss: 2.6287 - val_accuracy: 0.1394\n",
      "Epoch 14/75\n",
      "2952/2952 [==============================] - 60s 20ms/step - loss: 2.4954 - accuracy: 0.1863 - val_loss: 2.6587 - val_accuracy: 0.1529\n",
      "Epoch 15/75\n",
      "2952/2952 [==============================] - 60s 20ms/step - loss: 2.5762 - accuracy: 0.1626 - val_loss: 2.5781 - val_accuracy: 0.1881\n",
      "Epoch 16/75\n",
      "2952/2952 [==============================] - 60s 20ms/step - loss: 2.5227 - accuracy: 0.1684 - val_loss: 2.4736 - val_accuracy: 0.1962\n",
      "Epoch 17/75\n",
      "2952/2952 [==============================] - 60s 20ms/step - loss: 2.3694 - accuracy: 0.2156 - val_loss: 2.4465 - val_accuracy: 0.1962\n",
      "Epoch 18/75\n",
      "2952/2952 [==============================] - 62s 21ms/step - loss: 2.3851 - accuracy: 0.2247 - val_loss: 2.3654 - val_accuracy: 0.2436\n",
      "Epoch 19/75\n",
      "2952/2952 [==============================] - 60s 20ms/step - loss: 2.2835 - accuracy: 0.2414 - val_loss: 2.3266 - val_accuracy: 0.2368\n",
      "Epoch 20/75\n",
      "2952/2952 [==============================] - 60s 20ms/step - loss: 2.2483 - accuracy: 0.2611 - val_loss: 2.2999 - val_accuracy: 0.2395\n",
      "Epoch 21/75\n",
      "2952/2952 [==============================] - 60s 20ms/step - loss: 2.1649 - accuracy: 0.2733 - val_loss: 2.2833 - val_accuracy: 0.2585\n",
      "Epoch 22/75\n",
      "2952/2952 [==============================] - 59s 20ms/step - loss: 2.1808 - accuracy: 0.2689 - val_loss: 2.2588 - val_accuracy: 0.2409\n",
      "Epoch 23/75\n",
      "2952/2952 [==============================] - 60s 20ms/step - loss: 2.1432 - accuracy: 0.2739 - val_loss: 2.2293 - val_accuracy: 0.2409\n",
      "Epoch 24/75\n",
      "2952/2952 [==============================] - 60s 20ms/step - loss: 2.0448 - accuracy: 0.3068 - val_loss: 2.2435 - val_accuracy: 0.2422\n",
      "Epoch 25/75\n",
      "2952/2952 [==============================] - 60s 20ms/step - loss: 2.0327 - accuracy: 0.3102 - val_loss: 2.2060 - val_accuracy: 0.2422\n",
      "Epoch 26/75\n",
      "2952/2952 [==============================] - 59s 20ms/step - loss: 1.9697 - accuracy: 0.3193 - val_loss: 2.1852 - val_accuracy: 0.2503\n",
      "Epoch 27/75\n",
      "2952/2952 [==============================] - 59s 20ms/step - loss: 1.9567 - accuracy: 0.3025 - val_loss: 2.2037 - val_accuracy: 0.2639\n",
      "Epoch 28/75\n",
      "2952/2952 [==============================] - 59s 20ms/step - loss: 1.8990 - accuracy: 0.3251 - val_loss: 2.1488 - val_accuracy: 0.2625\n",
      "Epoch 29/75\n",
      "2952/2952 [==============================] - 62s 21ms/step - loss: 1.8363 - accuracy: 0.3432 - val_loss: 2.2159 - val_accuracy: 0.2598\n",
      "Epoch 30/75\n",
      "2952/2952 [==============================] - 59s 20ms/step - loss: 1.8072 - accuracy: 0.3541 - val_loss: 2.1658 - val_accuracy: 0.2544\n",
      "Epoch 31/75\n",
      "2952/2952 [==============================] - 59s 20ms/step - loss: 1.7309 - accuracy: 0.3789 - val_loss: 2.1574 - val_accuracy: 0.2598\n",
      "Epoch 32/75\n",
      "2952/2952 [==============================] - 59s 20ms/step - loss: 1.7037 - accuracy: 0.3772 - val_loss: 2.1426 - val_accuracy: 0.2774\n",
      "Epoch 33/75\n",
      "2952/2952 [==============================] - 59s 20ms/step - loss: 1.6457 - accuracy: 0.3974 - val_loss: 2.1785 - val_accuracy: 0.2828\n",
      "Epoch 34/75\n",
      "2952/2952 [==============================] - 59s 20ms/step - loss: 1.6182 - accuracy: 0.3985 - val_loss: 2.1942 - val_accuracy: 0.2585\n",
      "Epoch 35/75\n",
      "2952/2952 [==============================] - 59s 20ms/step - loss: 1.5762 - accuracy: 0.4131 - val_loss: 2.1970 - val_accuracy: 0.2774\n",
      "Epoch 36/75\n",
      "2952/2952 [==============================] - 60s 20ms/step - loss: 1.5008 - accuracy: 0.4243 - val_loss: 2.1839 - val_accuracy: 0.2815\n",
      "Epoch 37/75\n",
      "2952/2952 [==============================] - 59s 20ms/step - loss: 1.4689 - accuracy: 0.4615 - val_loss: 2.2115 - val_accuracy: 0.2706\n",
      "Epoch 38/75\n",
      "2952/2952 [==============================] - 59s 20ms/step - loss: 1.4311 - accuracy: 0.4615 - val_loss: 2.1959 - val_accuracy: 0.2612\n",
      "Epoch 39/75\n",
      "2952/2952 [==============================] - 59s 20ms/step - loss: 1.3597 - accuracy: 0.4757 - val_loss: 2.2488 - val_accuracy: 0.2558\n",
      "Epoch 40/75\n",
      "2952/2952 [==============================] - 59s 20ms/step - loss: 1.3202 - accuracy: 0.5006 - val_loss: 2.3699 - val_accuracy: 0.2760\n",
      "Epoch 41/75\n",
      "2952/2952 [==============================] - 59s 20ms/step - loss: 1.2817 - accuracy: 0.4965 - val_loss: 2.4914 - val_accuracy: 0.2666\n",
      "Epoch 42/75\n",
      "2952/2952 [==============================] - 59s 20ms/step - loss: 1.2865 - accuracy: 0.5158 - val_loss: 2.4254 - val_accuracy: 0.2774\n",
      "Epoch 43/75\n",
      "2952/2952 [==============================] - 59s 20ms/step - loss: 1.2530 - accuracy: 0.5181 - val_loss: 2.3919 - val_accuracy: 0.2625\n",
      "Epoch 44/75\n",
      "2952/2952 [==============================] - 59s 20ms/step - loss: 1.1749 - accuracy: 0.5566 - val_loss: 2.3978 - val_accuracy: 0.2625\n",
      "Epoch 45/75\n",
      "2952/2952 [==============================] - 59s 20ms/step - loss: 1.1270 - accuracy: 0.5674 - val_loss: 2.4002 - val_accuracy: 0.2706\n",
      "Epoch 46/75\n",
      "2952/2952 [==============================] - 59s 20ms/step - loss: 1.1164 - accuracy: 0.5785 - val_loss: 2.4241 - val_accuracy: 0.2639\n",
      "Epoch 47/75\n",
      "2952/2952 [==============================] - 60s 20ms/step - loss: 1.0941 - accuracy: 0.5701 - val_loss: 2.5013 - val_accuracy: 0.2788\n",
      "Epoch 48/75\n",
      "2952/2952 [==============================] - 58s 20ms/step - loss: 1.1807 - accuracy: 0.5636 - val_loss: 2.5412 - val_accuracy: 0.2774\n",
      "Epoch 49/75\n",
      "2952/2952 [==============================] - 59s 20ms/step - loss: 1.0492 - accuracy: 0.6032 - val_loss: 2.6155 - val_accuracy: 0.2706\n",
      "Epoch 50/75\n",
      "2952/2952 [==============================] - 58s 20ms/step - loss: 0.9895 - accuracy: 0.6380 - val_loss: 2.5856 - val_accuracy: 0.2774\n",
      "Epoch 51/75\n",
      "2952/2952 [==============================] - 59s 20ms/step - loss: 1.0028 - accuracy: 0.6309 - val_loss: 2.9705 - val_accuracy: 0.2544\n",
      "Epoch 52/75\n",
      "2952/2952 [==============================] - 60s 20ms/step - loss: 2.0664 - accuracy: 0.4368 - val_loss: 3.6969 - val_accuracy: 0.2585\n",
      "Epoch 53/75\n",
      "2952/2952 [==============================] - 59s 20ms/step - loss: 3.1816 - accuracy: 0.2909 - val_loss: 2.7585 - val_accuracy: 0.2679\n",
      "Epoch 54/75\n",
      "2952/2952 [==============================] - 59s 20ms/step - loss: 2.3857 - accuracy: 0.3142 - val_loss: 2.5124 - val_accuracy: 0.2585\n",
      "Epoch 55/75\n",
      "2952/2952 [==============================] - 58s 20ms/step - loss: 2.1891 - accuracy: 0.3475 - val_loss: 2.4120 - val_accuracy: 0.2733\n",
      "Epoch 56/75\n",
      "2952/2952 [==============================] - 59s 20ms/step - loss: 2.1325 - accuracy: 0.3229 - val_loss: 2.3682 - val_accuracy: 0.2842\n",
      "Epoch 57/75\n",
      "2952/2952 [==============================] - 59s 20ms/step - loss: 1.9329 - accuracy: 0.3760 - val_loss: 2.3357 - val_accuracy: 0.3018\n",
      "Epoch 58/75\n",
      "2952/2952 [==============================] - 58s 20ms/step - loss: 1.8922 - accuracy: 0.3833 - val_loss: 2.3182 - val_accuracy: 0.2774\n",
      "Epoch 59/75\n",
      "2952/2952 [==============================] - 58s 20ms/step - loss: 1.8039 - accuracy: 0.3987 - val_loss: 2.3788 - val_accuracy: 0.2950\n",
      "Epoch 60/75\n",
      "2952/2952 [==============================] - 58s 20ms/step - loss: 1.7834 - accuracy: 0.4234 - val_loss: 2.3037 - val_accuracy: 0.2733\n",
      "Epoch 61/75\n",
      "2952/2952 [==============================] - 58s 20ms/step - loss: 1.6346 - accuracy: 0.4484 - val_loss: 2.3821 - val_accuracy: 0.2815\n",
      "Epoch 62/75\n",
      "2952/2952 [==============================] - 58s 20ms/step - loss: 1.5675 - accuracy: 0.4632 - val_loss: 2.2981 - val_accuracy: 0.2815\n",
      "Epoch 63/75\n",
      "2952/2952 [==============================] - 58s 20ms/step - loss: 1.4695 - accuracy: 0.4813 - val_loss: 2.2945 - val_accuracy: 0.2679\n",
      "Epoch 64/75\n",
      "2952/2952 [==============================] - 59s 20ms/step - loss: 1.3552 - accuracy: 0.5125 - val_loss: 2.3393 - val_accuracy: 0.2815\n",
      "Epoch 65/75\n",
      "2952/2952 [==============================] - 59s 20ms/step - loss: 1.3176 - accuracy: 0.5114 - val_loss: 2.3769 - val_accuracy: 0.2720\n",
      "Epoch 66/75\n",
      "2952/2952 [==============================] - 59s 20ms/step - loss: 1.2270 - accuracy: 0.5672 - val_loss: 2.4185 - val_accuracy: 0.2936\n",
      "Epoch 67/75\n",
      "2952/2952 [==============================] - 58s 20ms/step - loss: 1.1809 - accuracy: 0.5780 - val_loss: 2.4151 - val_accuracy: 0.2815\n",
      "Epoch 68/75\n",
      "2952/2952 [==============================] - 58s 20ms/step - loss: 1.1477 - accuracy: 0.5855 - val_loss: 2.4786 - val_accuracy: 0.2503\n",
      "Epoch 69/75\n",
      "2952/2952 [==============================] - 59s 20ms/step - loss: 1.0622 - accuracy: 0.6105 - val_loss: 2.4938 - val_accuracy: 0.2828\n",
      "Epoch 70/75\n",
      "2952/2952 [==============================] - 58s 20ms/step - loss: 1.0347 - accuracy: 0.6334 - val_loss: 2.6664 - val_accuracy: 0.2774\n",
      "Epoch 71/75\n",
      "2952/2952 [==============================] - 58s 20ms/step - loss: 1.0193 - accuracy: 0.6190 - val_loss: 2.6340 - val_accuracy: 0.2706\n",
      "Epoch 72/75\n",
      "2952/2952 [==============================] - 58s 20ms/step - loss: 0.9335 - accuracy: 0.6668 - val_loss: 2.6202 - val_accuracy: 0.2747\n",
      "Epoch 73/75\n",
      "2952/2952 [==============================] - 59s 20ms/step - loss: 0.8867 - accuracy: 0.6691 - val_loss: 2.8069 - val_accuracy: 0.2517\n",
      "Epoch 74/75\n",
      "2952/2952 [==============================] - 59s 20ms/step - loss: 0.9112 - accuracy: 0.6694 - val_loss: 2.8181 - val_accuracy: 0.2544\n",
      "Epoch 75/75\n",
      "2952/2952 [==============================] - 58s 20ms/step - loss: 0.8578 - accuracy: 0.6882 - val_loss: 2.7753 - val_accuracy: 0.2639\n"
     ]
    }
   ],
   "source": [
    "history = model.fit(train_generator(), steps_per_epoch=2952, validation_data=val_generator(), validation_steps=739,\n",
    "                    epochs=epochs, verbose=1, callbacks=[checkpoint_callback])"
   ],
   "metadata": {
    "collapsed": false,
    "ExecuteTime": {
     "end_time": "2023-10-25T16:30:06.889325500Z",
     "start_time": "2023-10-25T15:09:45.077722800Z"
    }
   }
  },
  {
   "cell_type": "code",
   "execution_count": 14,
   "outputs": [
    {
     "data": {
      "text/plain": "<Figure size 640x480 with 1 Axes>",
      "image/png": "[encoded data removed]"
     },
     "metadata": {},
     "output_type": "display_data"
    }
   ],
   "source": [
    "plt.plot(range(1, epochs + 1), history.history['loss'], label=\"loss\")\n",
    "plt.plot(range(1, epochs + 1), history.history['val_loss'], label=\"val_loss\")\n",
    "plt.xlabel(\"epochs\")\n",
    "plt.title(\"total loss\")\n",
    "\n",
    "plt.legend()\n",
    "plt.show()"
   ],
   "metadata": {
    "collapsed": false,
    "ExecuteTime": {
     "end_time": "2023-10-25T16:30:07.197387400Z",
     "start_time": "2023-10-25T16:30:06.881325400Z"
    }
   }
  },
  {
   "cell_type": "code",
   "execution_count": 15,
   "outputs": [
    {
     "data": {
      "text/plain": "<Figure size 640x480 with 1 Axes>",
      "image/png": "[encoded data removed]"
     },
     "metadata": {},
     "output_type": "display_data"
    }
   ],
   "source": [
    "plt.plot(range(1, epochs + 1), history.history['accuracy'], label=\"accuracy\")\n",
    "plt.plot(range(1, epochs + 1), history.history['val_accuracy'], label=\"val_accuracy\")\n",
    "plt.xlabel(\"epochs\")\n",
    "plt.title(\"total accuracy\")\n",
    "\n",
    "plt.legend()\n",
    "plt.show()"
   ],
   "metadata": {
    "collapsed": false,
    "ExecuteTime": {
     "end_time": "2023-10-25T16:30:07.471393400Z",
     "start_time": "2023-10-25T16:30:07.201381200Z"
    }
   }
  },
  {
   "cell_type": "code",
   "execution_count": 16,
   "outputs": [],
   "source": [
    "def draw_pred_lines(y_pred, y_real, title=\"Train dataset\", axis_name=\"LO Steps\"):\n",
    "    drawing_df = pd.DataFrame({\"Pred\": y_pred, \"Real\": y_real})\n",
    "    drawing_df = drawing_df.sort_values(\"Real\").reset_index(drop=True)\n",
    "\n",
    "    for key_, val_ in drawing_df.items():\n",
    "        plt.plot(range(len(val_)), val_, label=key_)\n",
    "\n",
    "    plt.xlabel(\"No\")\n",
    "    plt.ylabel(f\"Count {axis_name}\")\n",
    "    plt.title(title)\n",
    "    plt.legend()\n",
    "    plt.show()\n",
    "\n",
    "\n",
    "def calculate_accuracy(actual_labels, predicted_labels):\n",
    "    correct_predictions = sum(1 for actual, predicted in zip(actual_labels, predicted_labels) if actual == predicted)\n",
    "    total_predictions = len(actual_labels)\n",
    "    accuracy = correct_predictions / total_predictions\n",
    "    return accuracy"
   ],
   "metadata": {
    "collapsed": false,
    "ExecuteTime": {
     "end_time": "2023-10-25T16:30:07.579401200Z",
     "start_time": "2023-10-25T16:30:07.469390100Z"
    }
   }
  },
  {
   "cell_type": "code",
   "execution_count": 17,
   "outputs": [],
   "source": [
    "# load the model\n",
    "\n",
    "with open(\"./fine_models/lstm_model.json\", \"r\") as file:\n",
    "    loaded_model_json = file.read()\n",
    "\n",
    "model = tf.keras.models.model_from_json(loaded_model_json)\n",
    "model.load_weights(\"./fine_models/lstm_model.h5\")"
   ],
   "metadata": {
    "collapsed": false,
    "ExecuteTime": {
     "end_time": "2023-10-25T16:30:07.858408200Z",
     "start_time": "2023-10-25T16:30:07.480402600Z"
    }
   }
  },
  {
   "cell_type": "code",
   "execution_count": 18,
   "outputs": [
    {
     "name": "stderr",
     "output_type": "stream",
     "text": [
      "100%|██████████| 739/739 [00:45<00:00, 16.20it/s]\n"
     ]
    },
    {
     "name": "stdout",
     "output_type": "stream",
     "text": [
      "Test accuracy: 0.3017591339648173\n"
     ]
    },
    {
     "data": {
      "text/plain": "<Figure size 640x480 with 1 Axes>",
      "image/png": "[encoded data removed]"
     },
     "metadata": {},
     "output_type": "display_data"
    }
   ],
   "source": [
    "y_test_pred = []\n",
    "for x_ in tqdm(x_test):\n",
    "    y_test_pred.append(model.predict(np.array([x_]), verbose=0)[0])\n",
    "\n",
    "y_test_pred_nums = encoder.inverse_transform(np.array(y_test_pred))\n",
    "y_test_nums = encoder.inverse_transform(y_test)\n",
    "\n",
    "print(\"Test accuracy:\", calculate_accuracy(y_test_nums, y_test_pred_nums))\n",
    "draw_pred_lines(y_test_pred_nums, y_test_nums, title=\"Test dataset\", axis_name=\"LO Steps\")"
   ],
   "metadata": {
    "collapsed": false,
    "ExecuteTime": {
     "end_time": "2023-10-25T16:30:53.789967500Z",
     "start_time": "2023-10-25T16:30:07.860406100Z"
    }
   }
  },
  {
   "cell_type": "code",
   "execution_count": 19,
   "outputs": [
    {
     "name": "stderr",
     "output_type": "stream",
     "text": [
      "100%|██████████| 2952/2952 [02:56<00:00, 16.76it/s]\n"
     ]
    },
    {
     "name": "stdout",
     "output_type": "stream",
     "text": [
      "Train accuracy: 0.40176151761517614\n"
     ]
    },
    {
     "data": {
      "text/plain": "<Figure size 640x480 with 1 Axes>",
      "image/png": "[encoded data removed]"
     },
     "metadata": {},
     "output_type": "display_data"
    }
   ],
   "source": [
    "y_train_pred = []\n",
    "for x_ in tqdm(x_train[:10_000]):\n",
    "    y_train_pred.append(model.predict(np.array([x_]), verbose=0)[0])\n",
    "\n",
    "y_train_pred_nums = encoder.inverse_transform(np.array(y_train_pred))\n",
    "y_train_nums = encoder.inverse_transform(y_train[:10_000])\n",
    "\n",
    "print(\"Train accuracy:\", calculate_accuracy(y_train_nums, y_train_pred_nums))\n",
    "draw_pred_lines(y_train_pred_nums, y_train_nums, title=\"Train dataset\", axis_name=\"LO Steps\")"
   ],
   "metadata": {
    "collapsed": false,
    "pycharm": {
     "is_executing": true
    },
    "ExecuteTime": {
     "end_time": "2023-10-25T16:33:50.305296700Z",
     "start_time": "2023-10-25T16:30:53.785966Z"
    }
   }
  },
  {
   "cell_type": "code",
   "execution_count": null,
   "outputs": [],
   "source": [],
   "metadata": {
    "collapsed": false,
    "ExecuteTime": {
     "start_time": "2023-08-29T18:10:46.061225Z",
     "end_time": "2023-08-29T18:10:46.234317Z"
    }
   }
  },
  {
   "cell_type": "code",
   "execution_count": 20,
   "outputs": [
    {
     "name": "stdout",
     "output_type": "stream",
     "text": [
      "(λx. (λy.y)) ((λx. (xx)) (λx. (xx))) == I == λx. x\n",
      "norm_steps=1\tpred_steps=2\n",
      "\n",
      "(ITE TRUE 3 1) == 3 == λx. λy. (x (x (x y)))\n",
      "norm_steps=5\tpred_steps=14\n",
      "(ITE FALSE 0 4) == 4 == λx. λy. (x (x (x (x y))))\n",
      "norm_steps=5\tpred_steps=5\n",
      "(PRED 0) == 0 == λx. λy. y\n",
      "norm_steps=4\tpred_steps=8\n",
      "(PRED 5) == 4 == λx. λy. (x (x (x (x y))))\n",
      "norm_steps=15\tpred_steps=19\n",
      "\n",
      "(PLUS 0 0) == 0 == λx. λy. y\n",
      "norm_steps=4\tpred_steps=4\n",
      "(PLUS 2 3) == 5 == λx. λy. (x (x (x (x (x y)))))\n",
      "norm_steps=13\tpred_steps=14\n",
      "(SUBTRACT 3 5) == 0 == λx. λy. y\n",
      "norm_steps=39\tpred_steps=19\n",
      "(LEQ 3 2) == FALSE == λx. λy. y\n",
      "norm_steps=28\tpred_steps=14\n",
      "(LEQ 2 5) == TRUE == λx. λy. x\n",
      "norm_steps=37\tpred_steps=18\n",
      "(EQ 2 2) == TRUE == λx. λy. x\n",
      "norm_steps=59\tpred_steps=18\n",
      "(EQ 1 4) == FALSE == λx. λy. y\n",
      "norm_steps=55\tpred_steps=14\n",
      "\n",
      "Omega(3, 3)  == I == λx. x\n",
      "norm_steps=9\tpred_steps=2\n",
      "GCD_vO 5 2\n",
      "norm_steps=inf\tpred_steps=14\n",
      "GCD_v1 5 2\n",
      "norm_steps=inf\tpred_steps=14\n",
      "GCD_v3 5 2\n",
      "norm_steps=inf\tpred_steps=14\n",
      "PYTHAGOREAN 5 2 2\n",
      "norm_steps=inf\tpred_steps=14\n"
     ]
    }
   ],
   "source": [
    "def ite_term():\n",
    "    x, y, c = Var(), Var(), Var()\n",
    "    x_, y_, c_ = Atom(x), Atom(y), Atom(c)\n",
    "    return Lambda(c, Lambda(x, Lambda(y, multi_app_term(c_, x_, y_))))\n",
    "\n",
    "\n",
    "def true_term():\n",
    "    x, y = Var(), Var()\n",
    "    x_ = Atom(x)\n",
    "    return Lambda(x, Lambda(y, x_))\n",
    "\n",
    "\n",
    "def num_zero_term():\n",
    "    s, z = Var(), Var()\n",
    "    z_ = Atom(z)\n",
    "    return Lambda(s, Lambda(z, z_))\n",
    "\n",
    "\n",
    "def num_term(n: int):\n",
    "    if n <= 0:\n",
    "        return num_zero_term()\n",
    "    s, z = Var(), Var()\n",
    "    s_, z_ = Atom(s), Atom(z)\n",
    "    core_term = App(s_, z_)\n",
    "    for _ in range(n - 1):\n",
    "        core_term = App(s_, core_term)\n",
    "    return Lambda(s, Lambda(z, core_term))\n",
    "\n",
    "\n",
    "def multi_app_term(term_0: Term, term_1: Term, *terms: Term):\n",
    "    res_app_term = App(term_0, term_1)\n",
    "    for term in terms:\n",
    "        res_app_term = App(res_app_term, term)\n",
    "    return res_app_term\n",
    "\n",
    "\n",
    "def false_term():\n",
    "    x, y = Var(), Var()\n",
    "    y_ = Atom(y)\n",
    "    return Lambda(x, Lambda(y, y_))\n",
    "\n",
    "\n",
    "def pair_term():\n",
    "    x, y, p = Var(), Var(), Var()\n",
    "    x_, y_, p_ = Atom(x), Atom(y), Atom(p)\n",
    "    return Lambda(x, Lambda(y, Lambda(p, multi_app_term(p_, x_, y_))))\n",
    "\n",
    "\n",
    "def first_term():\n",
    "    p = Var()\n",
    "    p_ = Atom(p)\n",
    "    return Lambda(p, App(p_, true_term()))\n",
    "\n",
    "\n",
    "def second_term():\n",
    "    p = Var()\n",
    "    p_ = Atom(p)\n",
    "    return Lambda(p, App(p_, false_term()))\n",
    "\n",
    "\n",
    "def succ_term():\n",
    "    x, y, n = Var(), Var(), Var()\n",
    "    x_, y_, n_ = Atom(x), Atom(y), Atom(n)\n",
    "    return Lambda(n, Lambda(x, Lambda(y, App(x_, multi_app_term(n_, x_, y_)))))\n",
    "\n",
    "\n",
    "def sinc_term():\n",
    "    p = Var()\n",
    "    p_ = Atom(p)\n",
    "    return Lambda(\n",
    "        p,\n",
    "        multi_app_term(\n",
    "            pair_term(),\n",
    "            App(second_term(), p_),\n",
    "            App(succ_term(), App(second_term(), p_)),\n",
    "        ),\n",
    "    )\n",
    "\n",
    "\n",
    "def pred_term():\n",
    "    n, f, x, g, h, u = Var(), Var(), Var(), Var(), Var(), Var()\n",
    "    n_, f_, x_ = Atom(n), Atom(f), Atom(x)\n",
    "    g_, h_, u_ = Atom(g), Atom(h), Atom(u)\n",
    "\n",
    "    return Lambda(n, Lambda(f, Lambda(x, multi_app_term(\n",
    "        n_,\n",
    "        Lambda(g, Lambda(h, App(h_, App(g_, f_)))),\n",
    "        Lambda(u, x_),\n",
    "        Lambda(u, u_)\n",
    "    ))))\n",
    "\n",
    "\n",
    "def plus_term():\n",
    "    n, m = Var(), Var()\n",
    "    n_, m_ = Atom(n), Atom(m)\n",
    "    return Lambda(m, Lambda(n, multi_app_term(n_, succ_term(), m_)))\n",
    "\n",
    "\n",
    "def subtract_term():\n",
    "    n, m = Var(), Var()\n",
    "    n_, m_ = Atom(n), Atom(m)\n",
    "    return Lambda(n, Lambda(m, multi_app_term(m_, pred_term(), n_)))\n",
    "\n",
    "\n",
    "def iszero_term():\n",
    "    x, n = Var(), Var()\n",
    "    n_ = Atom(n)\n",
    "    return Lambda(n, App(App(n_, Lambda(x, false_term())), true_term()))\n",
    "\n",
    "\n",
    "def leq_term():\n",
    "    n, m = Var(), Var()\n",
    "    n_, m_ = Atom(n), Atom(m)\n",
    "    return Lambda(\n",
    "        n, Lambda(m, App(iszero_term(), multi_app_term(subtract_term(), n_, m_)))\n",
    "    )\n",
    "\n",
    "\n",
    "def and_term():\n",
    "    a, b = Var(), Var()\n",
    "    a_, b_ = Atom(a), Atom(b)\n",
    "    return Lambda(a, Lambda(b, multi_app_term(ite_term(), a_, b_, a_)))\n",
    "\n",
    "\n",
    "def eq_term():\n",
    "    n, m = Var(), Var()\n",
    "    n_, m_ = Atom(n), Atom(m)\n",
    "    return Lambda(\n",
    "        n,\n",
    "        Lambda(\n",
    "            m,\n",
    "            multi_app_term(\n",
    "                and_term(),\n",
    "                multi_app_term(leq_term(), n_, m_),\n",
    "                multi_app_term(leq_term(), m_, n_),\n",
    "            ),\n",
    "        ),\n",
    "    )\n",
    "\n",
    "\n",
    "def i_term():\n",
    "    x = Var()\n",
    "    x_ = Atom(x)\n",
    "    return Lambda(x, x_)\n",
    "\n",
    "\n",
    "def omega_term(n: int):\n",
    "    x = Var()\n",
    "    x_ = Atom(x)\n",
    "    body_app_term = x_\n",
    "    for _ in range(n - 1):\n",
    "        body_app_term = App(body_app_term, x_)\n",
    "    return Lambda(x, body_app_term)\n",
    "\n",
    "\n",
    "def multi_i_term(m: int):\n",
    "    app_term = i_term()\n",
    "    for _ in range(m - 1):\n",
    "        app_term = App(app_term, i_term())\n",
    "    return app_term\n",
    "\n",
    "\n",
    "def omega_multi_i_term(n: int, m: int):\n",
    "    return App(omega_term(n), multi_i_term(m))\n",
    "\n",
    "\n",
    "def term_test_1():\n",
    "    x, y = Var(), Var()\n",
    "    x_, y_ = Atom(x), Atom(y)\n",
    "\n",
    "    return \"(λx. (λy.y)) ((λx. (xx)) (λx. (xx))) == I == λx. x\", \\\n",
    "        App(\n",
    "            Lambda(x, Lambda(y, y_)),\n",
    "            App(\n",
    "                Lambda(x, App(x_, x_)),\n",
    "                Lambda(x, App(x_, x_))\n",
    "            )\n",
    "        )\n",
    "\n",
    "\n",
    "def term_test_2():\n",
    "    return \"(ITE TRUE 3 1) == 3 == λx. λy. (x (x (x y)))\", \\\n",
    "        multi_app_term(ite_term(), true_term(), num_term(3), num_term(1))\n",
    "\n",
    "\n",
    "def term_test_3():\n",
    "    return \"(ITE FALSE 0 4) == 4 == λx. λy. (x (x (x (x y))))\", \\\n",
    "        multi_app_term(ite_term(), false_term(), num_term(0), num_term(4))\n",
    "\n",
    "\n",
    "def term_test_4():\n",
    "    return \"(PRED 0) == 0 == λx. λy. y\", \\\n",
    "        multi_app_term(pred_term(), num_term(0))\n",
    "\n",
    "\n",
    "def term_test_5():\n",
    "    return \"(PRED 5) == 4 == λx. λy. (x (x (x (x y))))\", \\\n",
    "        multi_app_term(pred_term(), num_term(5))\n",
    "\n",
    "\n",
    "def term_test_6():\n",
    "    return \"(PLUS 0 0) == 0 == λx. λy. y\", \\\n",
    "        multi_app_term(plus_term(), num_term(0), num_term(0))\n",
    "\n",
    "\n",
    "def term_test_7():\n",
    "    return \"(PLUS 2 3) == 5 == λx. λy. (x (x (x (x (x y)))))\", \\\n",
    "        multi_app_term(plus_term(), num_term(2), num_term(3))\n",
    "\n",
    "\n",
    "def term_test_8():\n",
    "    return \"(SUBTRACT 4 1) == 3 == λx. λy. (x (x (x y)))\", \\\n",
    "        multi_app_term(subtract_term(), num_term(4), num_term(1))\n",
    "\n",
    "\n",
    "def term_test_9():\n",
    "    return \"(SUBTRACT 3 5) == 0 == λx. λy. y\", \\\n",
    "        multi_app_term(subtract_term(), num_term(3), num_term(5))\n",
    "\n",
    "\n",
    "def term_test_10():\n",
    "    return \"(LEQ 3 2) == FALSE == λx. λy. y\", \\\n",
    "        multi_app_term(leq_term(), num_term(3), num_term(2))\n",
    "\n",
    "\n",
    "def term_test_11():\n",
    "    return \"(LEQ 2 5) == TRUE == λx. λy. x\", \\\n",
    "        multi_app_term(leq_term(), num_term(2), num_term(5))\n",
    "\n",
    "\n",
    "def term_test_12():\n",
    "    return \"(EQ 2 2) == TRUE == λx. λy. x\", \\\n",
    "        multi_app_term(eq_term(), num_term(2), num_term(2))\n",
    "\n",
    "\n",
    "def term_test_13():\n",
    "    return \"(EQ 1 4) == FALSE == λx. λy. y\", \\\n",
    "        multi_app_term(eq_term(), num_term(1), num_term(4))\n",
    "\n",
    "\n",
    "def term_test_14():\n",
    "    return \"Omega(3, 3)  == I == λx. x\", \\\n",
    "        omega_multi_i_term(3, 3)\n",
    "\n",
    "\n",
    "def term_test_15():\n",
    "    return \"GCD_vO 5 2\", \\\n",
    "        multi_app_term(gcd_term_v0(), num_term(5), num_term(2))\n",
    "\n",
    "\n",
    "def term_test_16():\n",
    "    return \"GCD_v1 5 2\", \\\n",
    "        multi_app_term(gcd_term_v1(), num_term(5), num_term(2))\n",
    "\n",
    "\n",
    "def term_test_17():\n",
    "    return \"GCD_v3 5 2\", \\\n",
    "        multi_app_term(gcd_term_v3(), num_term(5), num_term(2))\n",
    "\n",
    "\n",
    "def term_test_18():\n",
    "    return \"PYTHAGOREAN 5 2 2\", \\\n",
    "        multi_app_term(\n",
    "            pythagorean_term(), num_term(5), num_term(2), num_term(2)\n",
    "        )\n",
    "\n",
    "\n",
    "def test_function(term_deskr_: str, term_: Term, model_: Sequential):\n",
    "    comb_str = term._update_bound_vars().to_combinatory_logic().to_combinatory_str()\n",
    "    prediction_ = model_.predict(np.array(tokenize_and_vectorize([comb_str])), verbose=0)\n",
    "    print(f\"{term_deskr_}\\nnorm_steps={term_.normalize(LOStrategy())[1]}\\tpred_steps={np.argmax(prediction_[0])}\\n\")\n",
    "\n",
    "\n",
    "list_test_functions = (\n",
    "term_test_1, term_test_2, term_test_3, term_test_4, term_test_5, term_test_6, term_test_7, term_test_9, term_test_10,\n",
    "term_test_11, term_test_12, term_test_13, term_test_14, term_test_15, term_test_16, term_test_17, term_test_18)\n",
    "\n",
    "for term_function in list_test_functions:\n",
    "    term_deskr, term = term_function()\n",
    "    test_function(term_deskr, term, model)"
   ],
   "metadata": {
    "collapsed": false,
    "ExecuteTime": {
     "end_time": "2023-10-25T17:50:34.061433100Z",
     "start_time": "2023-10-25T17:47:39.341311100Z"
    }
   }
  },
  {
   "cell_type": "code",
   "execution_count": 20,
   "outputs": [],
   "source": [],
   "metadata": {
    "collapsed": false,
    "ExecuteTime": {
     "end_time": "2023-10-25T17:50:34.066432Z",
     "start_time": "2023-10-25T17:50:34.054437Z"
    }
   }
  },
  {
   "cell_type": "markdown",
   "source": [
    "# Do additional metrics testing"
   ],
   "metadata": {
    "collapsed": false
   }
  },
  {
   "cell_type": "markdown",
   "source": [
    "## Mean Squared Error"
   ],
   "metadata": {
    "collapsed": false
   }
  },
  {
   "cell_type": "code",
   "execution_count": 21,
   "outputs": [
    {
     "name": "stdout",
     "output_type": "stream",
     "text": [
      "Train {Mean Squared Error}: 19.920731707317074\n",
      "Test {Mean Squared Error}: 25.388362652232747\n"
     ]
    }
   ],
   "source": [
    "mse_train = mean_squared_error(y_train_nums, y_train_pred_nums)\n",
    "print(\"Train {Mean Squared Error}:\", mse_train)\n",
    "\n",
    "mse_test = mean_squared_error(y_test_nums, y_test_pred_nums)\n",
    "print(\"Test {Mean Squared Error}:\", mse_test)"
   ],
   "metadata": {
    "collapsed": false,
    "ExecuteTime": {
     "end_time": "2023-10-25T17:50:34.108433100Z",
     "start_time": "2023-10-25T17:50:34.067442800Z"
    }
   }
  },
  {
   "cell_type": "markdown",
   "source": [
    "## Root Mean Squared Error"
   ],
   "metadata": {
    "collapsed": false
   }
  },
  {
   "cell_type": "code",
   "execution_count": 22,
   "outputs": [
    {
     "ename": "TypeError",
     "evalue": "mean_squared_error() got an unexpected keyword argument 'squared'",
     "output_type": "error",
     "traceback": [
      "\u001B[1;31m---------------------------------------------------------------------------\u001B[0m",
      "\u001B[1;31mTypeError\u001B[0m                                 Traceback (most recent call last)",
      "\u001B[1;32m~\\AppData\\Local\\Temp\\ipykernel_6332\\1027738740.py\u001B[0m in \u001B[0;36m<module>\u001B[1;34m\u001B[0m\n\u001B[1;32m----> 1\u001B[1;33m \u001B[0mrmse_train\u001B[0m \u001B[1;33m=\u001B[0m \u001B[0mmean_squared_error\u001B[0m\u001B[1;33m(\u001B[0m\u001B[0my_train_nums\u001B[0m\u001B[1;33m,\u001B[0m \u001B[0my_train_pred_nums\u001B[0m\u001B[1;33m,\u001B[0m \u001B[0msquared\u001B[0m\u001B[1;33m=\u001B[0m\u001B[1;32mFalse\u001B[0m\u001B[1;33m)\u001B[0m\u001B[1;33m\u001B[0m\u001B[1;33m\u001B[0m\u001B[0m\n\u001B[0m\u001B[0;32m      2\u001B[0m \u001B[0mprint\u001B[0m\u001B[1;33m(\u001B[0m\u001B[1;34m\"Train {Root Mean Squared Error}:\"\u001B[0m\u001B[1;33m,\u001B[0m \u001B[0mrmse_train\u001B[0m\u001B[1;33m)\u001B[0m\u001B[1;33m\u001B[0m\u001B[1;33m\u001B[0m\u001B[0m\n\u001B[0;32m      3\u001B[0m \u001B[1;33m\u001B[0m\u001B[0m\n\u001B[0;32m      4\u001B[0m \u001B[0mrmse_test\u001B[0m \u001B[1;33m=\u001B[0m \u001B[0mmean_squared_error\u001B[0m\u001B[1;33m(\u001B[0m\u001B[0my_test_nums\u001B[0m\u001B[1;33m,\u001B[0m \u001B[0my_test_pred_nums\u001B[0m\u001B[1;33m,\u001B[0m \u001B[0msquared\u001B[0m\u001B[1;33m=\u001B[0m\u001B[1;32mFalse\u001B[0m\u001B[1;33m)\u001B[0m\u001B[1;33m\u001B[0m\u001B[1;33m\u001B[0m\u001B[0m\n\u001B[0;32m      5\u001B[0m \u001B[0mprint\u001B[0m\u001B[1;33m(\u001B[0m\u001B[1;34m\"Test {Root Mean Squared Error}:\"\u001B[0m\u001B[1;33m,\u001B[0m \u001B[0mrmse_test\u001B[0m\u001B[1;33m)\u001B[0m\u001B[1;33m\u001B[0m\u001B[1;33m\u001B[0m\u001B[0m\n",
      "\u001B[1;31mTypeError\u001B[0m: mean_squared_error() got an unexpected keyword argument 'squared'"
     ]
    }
   ],
   "source": [
    "rmse_train = mean_squared_error(y_train_nums, y_train_pred_nums, squared=False)\n",
    "print(\"Train {Root Mean Squared Error}:\", rmse_train)\n",
    "\n",
    "rmse_test = mean_squared_error(y_test_nums, y_test_pred_nums, squared=False)\n",
    "print(\"Test {Root Mean Squared Error}:\", rmse_test)"
   ],
   "metadata": {
    "collapsed": false,
    "ExecuteTime": {
     "end_time": "2023-10-25T17:50:34.249430600Z",
     "start_time": "2023-10-25T17:50:34.100461100Z"
    }
   }
  },
  {
   "cell_type": "markdown",
   "source": [
    "## Mean Absolute Error"
   ],
   "metadata": {
    "collapsed": false
   }
  },
  {
   "cell_type": "code",
   "execution_count": null,
   "outputs": [],
   "source": [
    "mae_train = mean_absolute_error(y_train_nums, y_train_pred_nums)\n",
    "print(\"Train {Mean Absolute Error}:\", mae_train)\n",
    "\n",
    "mae_test = mean_absolute_error(y_test_nums, y_test_pred_nums)\n",
    "print(\"Test {Mean Absolute Error}:\", mae_test)"
   ],
   "metadata": {
    "collapsed": false,
    "ExecuteTime": {
     "start_time": "2023-10-25T17:50:34.150432700Z"
    }
   }
  },
  {
   "cell_type": "markdown",
   "source": [
    "## Coefficient of Correlation (Pearson's r)"
   ],
   "metadata": {
    "collapsed": false
   }
  },
  {
   "cell_type": "code",
   "execution_count": null,
   "outputs": [],
   "source": [
    "coc_test = np.corrcoef(y_test_pred_nums, y_test_nums)[0, 1]\n",
    "coc_train = np.corrcoef(y_train_pred_nums, y_train_nums)[0, 1]\n",
    "\n",
    "print(\"Train {Mean Bias Deviation}:\", coc_train)\n",
    "print(\"Test {Mean Bias Deviation}:\", coc_test)"
   ],
   "metadata": {
    "collapsed": false,
    "ExecuteTime": {
     "start_time": "2023-10-25T17:50:34.154435500Z"
    }
   }
  },
  {
   "cell_type": "markdown",
   "source": [
    "## Error STD"
   ],
   "metadata": {
    "collapsed": false
   }
  },
  {
   "cell_type": "code",
   "execution_count": null,
   "outputs": [],
   "source": [
    "y_train_cl_pred_nums = np.array(y_train_pred_nums)\n",
    "y_test_cl_pred_nums = np.array(y_test_pred_nums)\n",
    "\n",
    "y_train_nums = np.array(y_train_nums)\n",
    "y_test_nums = np.array(y_test_nums)\n",
    "train_error = y_train_nums - y_train_cl_pred_nums\n",
    "test_error = y_test_nums - y_test_cl_pred_nums\n",
    "print(\"Train Error STD:\", np.abs(train_error).std())\n",
    "print(\"Test Error STD:\", np.abs(test_error).std())"
   ],
   "metadata": {
    "collapsed": false,
    "ExecuteTime": {
     "start_time": "2023-10-25T17:50:34.161430600Z"
    }
   }
  },
  {
   "cell_type": "markdown",
   "source": [
    "# Some additional drawings"
   ],
   "metadata": {
    "collapsed": false
   }
  },
  {
   "cell_type": "code",
   "execution_count": null,
   "outputs": [],
   "source": [
    "def advanced_point_drawer(y_real, y_pred, title=\"Train dataset\", axis_name=\"LO Steps\"):\n",
    "    counter = Counter([(x_, y_) for x_, y_ in zip(y_real, y_pred)])\n",
    "    coords_count = dict(counter)\n",
    "\n",
    "    plt.figure(figsize=(12, 12))\n",
    "\n",
    "    coords_count_rev = dict()\n",
    "    for key_, val_ in coords_count.items():\n",
    "        if val_ not in coords_count_rev:\n",
    "            coords_count_rev[val_] = []\n",
    "        coords_count_rev[val_].append(key_)\n",
    "\n",
    "    tcoords_count_rev = dict()\n",
    "    for key_ in sorted(coords_count_rev.keys()):\n",
    "        tcoords_count_rev[key_] = coords_count_rev[key_]\n",
    "\n",
    "    coords_count_rev = tcoords_count_rev\n",
    "\n",
    "    for key_, val_ in coords_count_rev.items():\n",
    "        coords_data = np.array(val_)\n",
    "        plt.scatter(coords_data[:, 0], coords_data[:, 1], s=key_ ** 1 + 5, c='tab:blue', label=f\"\\n{key_}\\n\")\n",
    "\n",
    "    plt.plot([0, 31], [0, 31], c=\"gray\", linestyle=\"--\")\n",
    "    plt.axis(\"equal\")\n",
    "    plt.xlabel(f\"Real {axis_name}\", fontsize=18)\n",
    "    plt.ylabel(f\"Predict {axis_name}\", fontsize=18)\n",
    "    plt.title(title, fontsize=20)\n",
    "    plt.legend(prop={'size': 10})\n",
    "    plt.show()"
   ],
   "metadata": {
    "collapsed": false,
    "ExecuteTime": {
     "start_time": "2023-10-25T17:50:34.170436200Z"
    }
   }
  },
  {
   "cell_type": "code",
   "execution_count": null,
   "outputs": [],
   "source": [
    "advanced_point_drawer(y_train_nums, y_train_cl_pred_nums, \"Train set\", \"LO Steps\")"
   ],
   "metadata": {
    "collapsed": false,
    "ExecuteTime": {
     "start_time": "2023-10-25T17:50:34.179442900Z"
    }
   }
  },
  {
   "cell_type": "code",
   "execution_count": null,
   "outputs": [],
   "source": [
    "advanced_point_drawer(y_test_nums, y_test_cl_pred_nums, \"Test set\", \"LO Steps\")"
   ],
   "metadata": {
    "collapsed": false,
    "ExecuteTime": {
     "start_time": "2023-10-25T17:50:34.186431700Z"
    }
   }
  },
  {
   "cell_type": "code",
   "execution_count": null,
   "outputs": [],
   "source": [],
   "metadata": {
    "collapsed": false,
    "ExecuteTime": {
     "start_time": "2023-10-25T17:50:34.191432500Z"
    }
   }
  },
  {
   "cell_type": "code",
   "execution_count": null,
   "outputs": [],
   "source": [
    "def draw_pred_scatter(y_real, y_pred, title=\"Train dataset\", axis_name=\"LO Steps\"):\n",
    "    plt.scatter(y_real, y_pred, s=3)\n",
    "    plt.plot([0, 30], [0, 30], color='gray', linestyle='--')\n",
    "\n",
    "    plt.xlabel(f\"Real {axis_name}\")\n",
    "    plt.ylabel(f\"Predicted {axis_name}\")\n",
    "    plt.title(f\"Pred vs Real {axis_name} in {title}\")\n",
    "    plt.show()\n",
    "\n",
    "\n",
    "draw_pred_scatter(y_train_nums, y_train_cl_pred_nums, \"Train set\", \"LO Steps\")\n",
    "draw_pred_scatter(y_test_nums, y_test_cl_pred_nums, \"Test set\", \"LO Steps\")"
   ],
   "metadata": {
    "collapsed": false,
    "ExecuteTime": {
     "start_time": "2023-10-25T17:50:34.196438300Z"
    }
   }
  },
  {
   "cell_type": "code",
   "execution_count": null,
   "outputs": [],
   "source": [
    "def draw_pred_scatter(y_real, y_pred, title=\"Train dataset\", axis_name=\"LO Steps\"):\n",
    "    counter = Counter([(x_, y_) for x_, y_ in zip(y_real, y_pred)])\n",
    "    coords_count = dict(counter)\n",
    "\n",
    "    plt.figure(figsize=(12, 12))\n",
    "\n",
    "    coords_count_rev = dict()\n",
    "    for key_, val_ in coords_count.items():\n",
    "        if val_ not in coords_count_rev:\n",
    "            coords_count_rev[val_] = []\n",
    "        coords_count_rev[val_].append(key_)\n",
    "\n",
    "    tcoords_count_rev = dict()\n",
    "    for key_ in sorted(coords_count_rev.keys()):\n",
    "        tcoords_count_rev[key_] = coords_count_rev[key_]\n",
    "\n",
    "    coords_count_rev = tcoords_count_rev\n",
    "\n",
    "    for key_, val_ in coords_count_rev.items():\n",
    "        coords_data = np.array(val_)\n",
    "        plt.scatter(coords_data[:, 0], coords_data[:, 1], s=key_ ** 1 + 3, c='tab:blue', label=f\"\\n{key_}\\n\")\n",
    "    plt.plot([0, 30], [0, 30], color='gray', linestyle='--')\n",
    "\n",
    "    plt.xlabel(f\"Real {axis_name}\")\n",
    "    plt.ylabel(f\"Predicted {axis_name}\")\n",
    "    plt.title(f\"Pred vs Real {axis_name} in {title}\")\n",
    "    plt.show()\n",
    "\n",
    "\n",
    "draw_pred_scatter(y_train_nums, y_train_cl_pred_nums, \"Train set\", \"LO Steps\")\n",
    "draw_pred_scatter(y_test_nums, y_test_cl_pred_nums, \"Test set\", \"LO Steps\")"
   ],
   "metadata": {
    "collapsed": false,
    "ExecuteTime": {
     "start_time": "2023-10-25T17:50:34.200431100Z"
    }
   }
  },
  {
   "cell_type": "code",
   "execution_count": null,
   "outputs": [],
   "source": [
    "def draw_pred_lines(y_pred, y_real, title=\"Train dataset\", axis_name=\"LO Steps\"):\n",
    "    drawing_df = pd.DataFrame({\"Pred\": y_pred, \"Real\": y_real})\n",
    "    drawing_df = drawing_df.sort_values(\"Real\").reset_index(drop=True)\n",
    "\n",
    "    for key_, val_ in drawing_df.items():\n",
    "        plt.scatter(range(len(val_)), val_, label=key_, s=3)\n",
    "\n",
    "    plt.xlabel(\"No\")\n",
    "    plt.ylabel(f\"Count {axis_name}\")\n",
    "    plt.title(title)\n",
    "    plt.legend()\n",
    "    plt.show()\n",
    "\n",
    "\n",
    "rcParams[\"figure.figsize\"] = 10, 9\n",
    "draw_pred_lines(y_test_pred_nums, y_test_nums, title=\"Test dataset\", axis_name=\"LO Steps\")\n",
    "draw_pred_lines(y_train_pred_nums, y_train_nums, title=\"Train dataset\", axis_name=\"LO Steps\")"
   ],
   "metadata": {
    "collapsed": false,
    "ExecuteTime": {
     "start_time": "2023-10-25T17:50:34.204446800Z"
    }
   }
  },
  {
   "cell_type": "code",
   "execution_count": null,
   "outputs": [],
   "source": [
    "def draw_pred_lines(y_pred, y_real, title=\"Train dataset\", axis_name=\"LO Steps\"):\n",
    "    drawing_df = pd.DataFrame({\"Pred\": y_pred, \"Real\": y_real})\n",
    "    drawing_df = drawing_df.sort_values(\"Real\").reset_index(drop=True)\n",
    "\n",
    "    prop_cycle = plt.rcParams['axes.prop_cycle']\n",
    "    colors = prop_cycle.by_key()['color']\n",
    "\n",
    "    plt.plot(range(len(drawing_df[\"Real\"])), drawing_df[\"Real\"], label=\"Real\", c=colors[1])\n",
    "    plt.scatter(range(len(drawing_df[\"Pred\"])), drawing_df[\"Pred\"], label=\"Pred\", s=3, c=colors[0])\n",
    "\n",
    "    plt.xlabel(\"No\")\n",
    "    plt.ylabel(f\"Count {axis_name}\")\n",
    "    plt.title(title)\n",
    "    plt.legend()\n",
    "    plt.show()\n",
    "\n",
    "\n",
    "rcParams[\"figure.figsize\"] = 10, 9\n",
    "draw_pred_lines(y_test_pred_nums, y_test_nums, title=\"Test dataset\", axis_name=\"LO Steps\")\n",
    "draw_pred_lines(y_train_pred_nums, y_train_nums, title=\"Train dataset\", axis_name=\"LO Steps\")"
   ],
   "metadata": {
    "collapsed": false,
    "ExecuteTime": {
     "start_time": "2023-10-25T17:50:34.208443100Z"
    }
   }
  },
  {
   "cell_type": "code",
   "execution_count": null,
   "outputs": [],
   "source": [],
   "metadata": {
    "collapsed": false,
    "ExecuteTime": {
     "start_time": "2023-10-25T17:50:34.211437200Z"
    }
   }
  },
  {
   "cell_type": "code",
   "execution_count": null,
   "outputs": [],
   "source": [],
   "metadata": {
    "collapsed": false
   }
  },
  {
   "cell_type": "code",
   "execution_count": null,
   "outputs": [],
   "source": [],
   "metadata": {
    "collapsed": false
   }
  },
  {
   "cell_type": "code",
   "execution_count": null,
   "outputs": [],
   "source": [],
   "metadata": {
    "collapsed": false
   }
  }
 ],
 "metadata": {
  "kernelspec": {
   "display_name": "Python 3",
   "language": "python",
   "name": "python3"
  },
  "language_info": {
   "codemirror_mode": {
    "name": "ipython",
    "version": 2
   },
   "file_extension": ".py",
   "mimetype": "text/x-python",
   "name": "python",
   "nbconvert_exporter": "python",
   "pygments_lexer": "ipython2",
   "version": "2.7.6"
  }
 },
 "nbformat": 4,
 "nbformat_minor": 0
}
