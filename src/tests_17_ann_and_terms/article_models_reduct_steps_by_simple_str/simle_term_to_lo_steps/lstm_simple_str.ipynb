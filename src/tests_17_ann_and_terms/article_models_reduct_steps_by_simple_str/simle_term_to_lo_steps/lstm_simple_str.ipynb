{
 "cells": [
  {
   "cell_type": "markdown",
   "source": [
    "# Import the dependencies"
   ],
   "metadata": {
    "collapsed": false
   }
  },
  {
   "cell_type": "code",
   "execution_count": 1,
   "outputs": [],
   "source": [
    "import re\n",
    "import random\n",
    "import numpy as np\n",
    "import pandas as pd\n",
    "\n",
    "from tqdm import tqdm\n",
    "from collections import Counter\n",
    "\n",
    "import tensorflow as tf\n",
    "from keras.models import Sequential\n",
    "from keras.layers import Dense, Dropout, Flatten, LSTM, Conv1D, GlobalAveragePooling1D\n",
    "from keras.callbacks import ModelCheckpoint\n",
    "\n",
    "from sklearn.utils import shuffle\n",
    "from sklearn.model_selection import train_test_split\n",
    "from sklearn.preprocessing import LabelBinarizer\n",
    "\n",
    "from sklearn.metrics import mean_squared_error\n",
    "from sklearn.metrics import mean_absolute_error\n",
    "from sklearn.metrics import explained_variance_score\n",
    "\n",
    "from matplotlib import pyplot as plt\n",
    "from matplotlib import rcParams\n",
    "\n",
    "import sys\n",
    "import time\n",
    "\n",
    "sys.path.append(\"../\")\n",
    "from calculus_path_mod.terms.pseudonym import *\n",
    "from calculus_path_mod.reduction_strategy import *\n",
    "from calculus_path_mod.terms.arithm_complex_ops import *"
   ],
   "metadata": {
    "collapsed": false,
    "ExecuteTime": {
     "start_time": "2023-10-25T16:19:59.084319Z",
     "end_time": "2023-10-25T16:20:09.227687Z"
    }
   }
  },
  {
   "cell_type": "code",
   "execution_count": 2,
   "outputs": [],
   "source": [
    "epochs = 75\n",
    "num_lstm_neurons = 256\n",
    "num_pre_out_neurons = 256\n",
    "onehot_dims = 4"
   ],
   "metadata": {
    "collapsed": false,
    "ExecuteTime": {
     "start_time": "2023-10-25T16:20:09.226553Z",
     "end_time": "2023-10-25T16:20:09.239044Z"
    }
   }
  },
  {
   "cell_type": "markdown",
   "source": [
    "# Load & Prepare the data"
   ],
   "metadata": {
    "collapsed": false
   }
  },
  {
   "cell_type": "code",
   "execution_count": 3,
   "outputs": [],
   "source": [
    "enc_dict = {\"(\": [1.0, .0, .0, .0],\n",
    "            \")\": [.0, 1.0, .0, .0],\n",
    "            \"x\": [.0, .0, 1.0, .0],\n",
    "            \"@x.\": [.0, .0, .0, 1.0]}\n",
    "tokens_pattern = r\"(\\(|\\)|@x\\.|x)\"\n",
    "\n",
    "\n",
    "def tokenize_data(simplified_term):\n",
    "    return re.findall(tokens_pattern, simplified_term)\n",
    "\n",
    "\n",
    "def tokenize_and_vectorize(x_data):\n",
    "    vectorized_data_ = []\n",
    "    for sample_ in x_data:\n",
    "        tokens_ = tokenize_data(sample_)\n",
    "        sample_vecs_ = []\n",
    "        for token_ in tokens_:\n",
    "            try:\n",
    "                sample_vecs_.append(enc_dict[token_])\n",
    "            except KeyError:\n",
    "                pass\n",
    "        vectorized_data_.append(sample_vecs_)\n",
    "    return vectorized_data_\n",
    "\n",
    "\n",
    "# def pad_trunk(x_data):\n",
    "#     padded_trunked = []\n",
    "#     for sample_ in x_data:\n",
    "#         new_sample = sample_[:maxlen]\n",
    "#         len_diff = maxlen - len(new_sample)\n",
    "#         if len_diff > 0:\n",
    "#             for _ in range(len_diff):\n",
    "#                 new_sample.append([0.0] * onehot_dims)\n",
    "#         padded_trunked.append(new_sample)\n",
    "#     return padded_trunked"
   ],
   "metadata": {
    "collapsed": false,
    "ExecuteTime": {
     "start_time": "2023-10-25T16:20:09.242593Z",
     "end_time": "2023-10-25T16:20:09.281911Z"
    }
   }
  },
  {
   "cell_type": "code",
   "execution_count": 4,
   "outputs": [
    {
     "name": "stdout",
     "output_type": "stream",
     "text": [
      "Count all terms: 4251\n",
      "\n",
      "Count original terms: 4251\n",
      "\n",
      "max steps count: 30\n",
      "min steps count: 0\n",
      "Count training samples: 2952\n",
      "Count testing samples: 739\n"
     ]
    }
   ],
   "source": [
    "all_data = pd.read_csv(\"../data_LO/steps_simple_term_str.csv\", delimiter=',')\n",
    "\n",
    "# leave only unique terms\n",
    "print(f\"Count all terms: {len(all_data)}\\n\")\n",
    "all_data = all_data.drop_duplicates(subset=\"simple_terms\").reset_index(drop=True)\n",
    "print(f\"Count original terms: {len(all_data)}\\n\")\n",
    "\n",
    "# shuffle the dataset\n",
    "all_data = shuffle(all_data, random_state=33).reset_index(drop=True)\n",
    "\n",
    "# filter out steps_lo that are more than 30\n",
    "all_data = all_data[[steps_lo < 31 for steps_lo in all_data['steps_num']]]\n",
    "\n",
    "print(f\"max steps count: {max(all_data['steps_num'])}\")\n",
    "print(f\"min steps count: {min(all_data['steps_num'])}\")\n",
    "\n",
    "# make test/train split\n",
    "x_train, x_test, y_train, y_test = train_test_split(all_data[\"simple_terms\"].tolist(), all_data[\"steps_num\"].tolist(),\n",
    "                                                    test_size=0.2, random_state=42)\n",
    "\n",
    "print(f\"Count training samples: {len(y_train)}\")\n",
    "print(f\"Count testing samples: {len(y_test)}\")"
   ],
   "metadata": {
    "collapsed": false,
    "ExecuteTime": {
     "start_time": "2023-10-25T16:20:09.258782Z",
     "end_time": "2023-10-25T16:20:09.302182Z"
    }
   }
  },
  {
   "cell_type": "code",
   "execution_count": 5,
   "outputs": [],
   "source": [
    "# one-hot encode y-data\n",
    "encoder = LabelBinarizer()\n",
    "encoder.fit(range(0, 31))\n",
    "y_train = encoder.transform(y_train)\n",
    "y_test = encoder.transform(y_test)\n",
    "\n",
    "x_train = tokenize_and_vectorize(x_train)\n",
    "x_test = tokenize_and_vectorize(x_test)\n",
    "\n",
    "# x_train = pad_trunk(x_train)\n",
    "# x_test = pad_trunk(x_test)"
   ],
   "metadata": {
    "collapsed": false,
    "ExecuteTime": {
     "start_time": "2023-10-25T16:20:09.304181Z",
     "end_time": "2023-10-25T16:20:09.426695Z"
    }
   }
  },
  {
   "cell_type": "code",
   "execution_count": 6,
   "outputs": [],
   "source": [
    "xy_train_data = list(zip(x_train, y_train))\n",
    "xy_test_data = list(zip(x_test, y_test))"
   ],
   "metadata": {
    "collapsed": false,
    "ExecuteTime": {
     "start_time": "2023-10-25T16:20:09.426695Z",
     "end_time": "2023-10-25T16:20:09.442357Z"
    }
   }
  },
  {
   "cell_type": "code",
   "execution_count": 7,
   "outputs": [
    {
     "name": "stdout",
     "output_type": "stream",
     "text": [
      "len(test_data) = 739\n",
      "len(train_data) = 2952\n"
     ]
    }
   ],
   "source": [
    "print(f\"len(test_data) = {len(xy_test_data)}\")\n",
    "print(f\"len(train_data) = {len(xy_train_data)}\")"
   ],
   "metadata": {
    "collapsed": false,
    "ExecuteTime": {
     "start_time": "2023-10-25T16:20:09.441346Z",
     "end_time": "2023-10-25T16:20:09.500231Z"
    }
   }
  },
  {
   "cell_type": "code",
   "execution_count": 8,
   "outputs": [],
   "source": [
    "def train_generator():\n",
    "    while True:\n",
    "        random.shuffle(xy_train_data)\n",
    "        for xtd, ytd in xy_train_data:\n",
    "            yield np.array([xtd]), np.array([ytd])\n",
    "\n",
    "\n",
    "def val_generator():\n",
    "    while True:\n",
    "        for xtd, ytd in xy_test_data:\n",
    "            yield np.array([xtd]), np.array([ytd])"
   ],
   "metadata": {
    "collapsed": false,
    "ExecuteTime": {
     "start_time": "2023-10-25T16:20:09.458482Z",
     "end_time": "2023-10-25T16:20:09.522371Z"
    }
   }
  },
  {
   "cell_type": "markdown",
   "source": [
    "# Define the model"
   ],
   "metadata": {
    "collapsed": false
   }
  },
  {
   "cell_type": "code",
   "execution_count": 11,
   "outputs": [],
   "source": [
    "from keras.layers import Input\n",
    "from keras.models import Model\n",
    "\n",
    "model = Sequential()\n",
    "model.add(Input(shape=(None, onehot_dims)))\n",
    "model.add(LSTM(units=num_lstm_neurons))\n",
    "# model.add(Dense(units=num_pre_out_neurons, activation=\"relu\"))\n",
    "model.add(Dense(units=31, activation=\"softmax\", name=\"cl_out\"))"
   ],
   "metadata": {
    "collapsed": false,
    "ExecuteTime": {
     "start_time": "2023-10-25T16:21:07.423808Z",
     "end_time": "2023-10-25T16:21:07.684885Z"
    }
   }
  },
  {
   "cell_type": "code",
   "execution_count": 12,
   "outputs": [
    {
     "name": "stdout",
     "output_type": "stream",
     "text": [
      "Model: \"sequential_1\"\n",
      "_________________________________________________________________\n",
      " Layer (type)                Output Shape              Param #   \n",
      "=================================================================\n",
      " lstm_1 (LSTM)               (None, 256)               267264    \n",
      "                                                                 \n",
      " cl_out (Dense)              (None, 31)                7967      \n",
      "                                                                 \n",
      "=================================================================\n",
      "Total params: 275,231\n",
      "Trainable params: 275,231\n",
      "Non-trainable params: 0\n",
      "_________________________________________________________________\n"
     ]
    }
   ],
   "source": [
    "model.compile(loss='categorical_crossentropy',\n",
    "              optimizer='adam',\n",
    "              metrics=['accuracy'])\n",
    "model.summary()"
   ],
   "metadata": {
    "collapsed": false,
    "ExecuteTime": {
     "start_time": "2023-10-25T16:21:09.045021Z",
     "end_time": "2023-10-25T16:21:09.124716Z"
    }
   }
  },
  {
   "cell_type": "code",
   "execution_count": 13,
   "outputs": [],
   "source": [
    "model_structure = model.to_json()\n",
    "with open(\"./fine_models/lstm_model.json\", 'w') as json_file:\n",
    "    json_file.write(model_structure)"
   ],
   "metadata": {
    "collapsed": false,
    "ExecuteTime": {
     "start_time": "2023-10-25T16:21:17.478252Z",
     "end_time": "2023-10-25T16:21:17.509941Z"
    }
   }
  },
  {
   "cell_type": "code",
   "execution_count": 14,
   "outputs": [],
   "source": [
    "# Define the ModelCheckpoint callback\n",
    "checkpoint_callback = ModelCheckpoint(\n",
    "    filepath='./fine_models/lstm_model.h5',  # Specify the path to save the best model\n",
    "    monitor='val_accuracy',  # Metric to monitor (e.g., validation loss)\n",
    "    save_best_only=True,  # Save only the best model\n",
    "    mode='max',  # 'min' or 'max' depending on the monitored metric\n",
    "    verbose=0  # Print a message when saving the model\n",
    ")"
   ],
   "metadata": {
    "collapsed": false,
    "ExecuteTime": {
     "start_time": "2023-10-25T16:21:18.193113Z",
     "end_time": "2023-10-25T16:21:18.225900Z"
    }
   }
  },
  {
   "cell_type": "code",
   "execution_count": 15,
   "outputs": [
    {
     "name": "stdout",
     "output_type": "stream",
     "text": [
      "Epoch 1/75\n",
      "2949/2952 [============================>.] - ETA: 0s - loss: 3.0184 - accuracy: 0.1007WARNING:tensorflow:Can save best model only with val_cl_out_accuracy available, skipping.\n",
      "2952/2952 [==============================] - 59s 18ms/step - loss: 3.0187 - accuracy: 0.1006 - val_loss: 2.9350 - val_accuracy: 0.1096\n",
      "Epoch 2/75\n",
      "2952/2952 [==============================] - ETA: 0s - loss: 2.8796 - accuracy: 0.1253WARNING:tensorflow:Can save best model only with val_cl_out_accuracy available, skipping.\n",
      "2952/2952 [==============================] - 50s 17ms/step - loss: 2.8796 - accuracy: 0.1253 - val_loss: 2.7703 - val_accuracy: 0.1407\n",
      "Epoch 3/75\n",
      "2951/2952 [============================>.] - ETA: 0s - loss: 2.6781 - accuracy: 0.1447WARNING:tensorflow:Can save best model only with val_cl_out_accuracy available, skipping.\n",
      "2952/2952 [==============================] - 51s 17ms/step - loss: 2.6789 - accuracy: 0.1446 - val_loss: 2.6806 - val_accuracy: 0.1624\n",
      "Epoch 4/75\n",
      "2952/2952 [==============================] - ETA: 0s - loss: 2.6568 - accuracy: 0.1426WARNING:tensorflow:Can save best model only with val_cl_out_accuracy available, skipping.\n",
      "2952/2952 [==============================] - 49s 17ms/step - loss: 2.6568 - accuracy: 0.1426 - val_loss: 2.6402 - val_accuracy: 0.1326\n",
      "Epoch 5/75\n",
      "2950/2952 [============================>.] - ETA: 0s - loss: 2.6308 - accuracy: 0.1512WARNING:tensorflow:Can save best model only with val_cl_out_accuracy available, skipping.\n",
      "2952/2952 [==============================] - 52s 18ms/step - loss: 2.6306 - accuracy: 0.1511 - val_loss: 2.6770 - val_accuracy: 0.1529\n",
      "Epoch 6/75\n",
      "2952/2952 [==============================] - ETA: 0s - loss: 2.6213 - accuracy: 0.1501WARNING:tensorflow:Can save best model only with val_cl_out_accuracy available, skipping.\n",
      "2952/2952 [==============================] - 51s 17ms/step - loss: 2.6213 - accuracy: 0.1501 - val_loss: 2.6486 - val_accuracy: 0.1556\n",
      "Epoch 7/75\n",
      "2950/2952 [============================>.] - ETA: 0s - loss: 2.5912 - accuracy: 0.1532WARNING:tensorflow:Can save best model only with val_cl_out_accuracy available, skipping.\n",
      "2952/2952 [==============================] - 53s 18ms/step - loss: 2.5912 - accuracy: 0.1531 - val_loss: 2.6691 - val_accuracy: 0.1461\n",
      "Epoch 8/75\n",
      "2948/2952 [============================>.] - ETA: 0s - loss: 2.5900 - accuracy: 0.1415WARNING:tensorflow:Can save best model only with val_cl_out_accuracy available, skipping.\n",
      "2952/2952 [==============================] - 51s 17ms/step - loss: 2.5896 - accuracy: 0.1416 - val_loss: 2.6236 - val_accuracy: 0.1502\n",
      "Epoch 9/75\n",
      "2950/2952 [============================>.] - ETA: 0s - loss: 2.5700 - accuracy: 0.1556WARNING:tensorflow:Can save best model only with val_cl_out_accuracy available, skipping.\n",
      "2952/2952 [==============================] - 50s 17ms/step - loss: 2.5704 - accuracy: 0.1555 - val_loss: 2.6451 - val_accuracy: 0.1448\n",
      "Epoch 10/75\n",
      "2951/2952 [============================>.] - ETA: 0s - loss: 2.5729 - accuracy: 0.1545WARNING:tensorflow:Can save best model only with val_cl_out_accuracy available, skipping.\n",
      "2952/2952 [==============================] - 51s 17ms/step - loss: 2.5725 - accuracy: 0.1545 - val_loss: 2.6005 - val_accuracy: 0.1651\n",
      "Epoch 11/75\n",
      "2952/2952 [==============================] - ETA: 0s - loss: 2.5416 - accuracy: 0.1633WARNING:tensorflow:Can save best model only with val_cl_out_accuracy available, skipping.\n",
      "2952/2952 [==============================] - 52s 18ms/step - loss: 2.5416 - accuracy: 0.1633 - val_loss: 2.6176 - val_accuracy: 0.1367\n",
      "Epoch 12/75\n",
      "2950/2952 [============================>.] - ETA: 0s - loss: 2.8375 - accuracy: 0.1397WARNING:tensorflow:Can save best model only with val_cl_out_accuracy available, skipping.\n",
      "2952/2952 [==============================] - 49s 17ms/step - loss: 2.8372 - accuracy: 0.1399 - val_loss: 2.6894 - val_accuracy: 0.1556\n",
      "Epoch 13/75\n",
      "2951/2952 [============================>.] - ETA: 0s - loss: 2.6830 - accuracy: 0.1400WARNING:tensorflow:Can save best model only with val_cl_out_accuracy available, skipping.\n",
      "2952/2952 [==============================] - 50s 17ms/step - loss: 2.6829 - accuracy: 0.1399 - val_loss: 2.6477 - val_accuracy: 0.1597\n",
      "Epoch 14/75\n",
      "2952/2952 [==============================] - ETA: 0s - loss: 2.6223 - accuracy: 0.1518WARNING:tensorflow:Can save best model only with val_cl_out_accuracy available, skipping.\n",
      "2952/2952 [==============================] - 49s 17ms/step - loss: 2.6223 - accuracy: 0.1518 - val_loss: 2.6102 - val_accuracy: 0.1651\n",
      "Epoch 15/75\n",
      "2948/2952 [============================>.] - ETA: 0s - loss: 2.6261 - accuracy: 0.1479WARNING:tensorflow:Can save best model only with val_cl_out_accuracy available, skipping.\n",
      "2952/2952 [==============================] - 48s 16ms/step - loss: 2.6257 - accuracy: 0.1477 - val_loss: 2.6140 - val_accuracy: 0.1637\n",
      "Epoch 16/75\n",
      "2950/2952 [============================>.] - ETA: 0s - loss: 2.5690 - accuracy: 0.1627WARNING:tensorflow:Can save best model only with val_cl_out_accuracy available, skipping.\n",
      "2952/2952 [==============================] - 49s 17ms/step - loss: 2.5681 - accuracy: 0.1633 - val_loss: 2.5768 - val_accuracy: 0.1678\n",
      "Epoch 17/75\n",
      "2950/2952 [============================>.] - ETA: 0s - loss: 2.5116 - accuracy: 0.1641WARNING:tensorflow:Can save best model only with val_cl_out_accuracy available, skipping.\n",
      "2952/2952 [==============================] - 48s 16ms/step - loss: 2.5117 - accuracy: 0.1640 - val_loss: 2.5355 - val_accuracy: 0.1854\n",
      "Epoch 18/75\n",
      "2948/2952 [============================>.] - ETA: 0s - loss: 2.4148 - accuracy: 0.1967WARNING:tensorflow:Can save best model only with val_cl_out_accuracy available, skipping.\n",
      "2952/2952 [==============================] - 48s 16ms/step - loss: 2.4149 - accuracy: 0.1972 - val_loss: 2.5847 - val_accuracy: 0.1475\n",
      "Epoch 19/75\n",
      "2951/2952 [============================>.] - ETA: 0s - loss: 2.2874 - accuracy: 0.2416WARNING:tensorflow:Can save best model only with val_cl_out_accuracy available, skipping.\n",
      "2952/2952 [==============================] - 51s 17ms/step - loss: 2.2878 - accuracy: 0.2415 - val_loss: 2.2629 - val_accuracy: 0.2476\n",
      "Epoch 20/75\n",
      "2950/2952 [============================>.] - ETA: 0s - loss: 2.2062 - accuracy: 0.2522WARNING:tensorflow:Can save best model only with val_cl_out_accuracy available, skipping.\n",
      "2952/2952 [==============================] - 47s 16ms/step - loss: 2.2060 - accuracy: 0.2520 - val_loss: 2.2531 - val_accuracy: 0.2639\n",
      "Epoch 21/75\n",
      "2950/2952 [============================>.] - ETA: 0s - loss: 2.1483 - accuracy: 0.2753WARNING:tensorflow:Can save best model only with val_cl_out_accuracy available, skipping.\n",
      "2952/2952 [==============================] - 44s 15ms/step - loss: 2.1488 - accuracy: 0.2751 - val_loss: 2.1995 - val_accuracy: 0.2612\n",
      "Epoch 22/75\n",
      "2949/2952 [============================>.] - ETA: 0s - loss: 2.0977 - accuracy: 0.2801WARNING:tensorflow:Can save best model only with val_cl_out_accuracy available, skipping.\n",
      "2952/2952 [==============================] - 45s 15ms/step - loss: 2.0990 - accuracy: 0.2801 - val_loss: 2.1717 - val_accuracy: 0.2828\n",
      "Epoch 23/75\n",
      "2950/2952 [============================>.] - ETA: 0s - loss: 2.0269 - accuracy: 0.2956WARNING:tensorflow:Can save best model only with val_cl_out_accuracy available, skipping.\n",
      "2952/2952 [==============================] - 45s 15ms/step - loss: 2.0269 - accuracy: 0.2957 - val_loss: 2.1145 - val_accuracy: 0.3031\n",
      "Epoch 24/75\n",
      "2951/2952 [============================>.] - ETA: 0s - loss: 1.9833 - accuracy: 0.3185WARNING:tensorflow:Can save best model only with val_cl_out_accuracy available, skipping.\n",
      "2952/2952 [==============================] - 49s 16ms/step - loss: 1.9834 - accuracy: 0.3184 - val_loss: 2.1789 - val_accuracy: 0.2503\n",
      "Epoch 25/75\n",
      "2952/2952 [==============================] - ETA: 0s - loss: 1.9487 - accuracy: 0.3194WARNING:tensorflow:Can save best model only with val_cl_out_accuracy available, skipping.\n",
      "2952/2952 [==============================] - 47s 16ms/step - loss: 1.9487 - accuracy: 0.3194 - val_loss: 2.0253 - val_accuracy: 0.2963\n",
      "Epoch 26/75\n",
      "2949/2952 [============================>.] - ETA: 0s - loss: 1.9068 - accuracy: 0.3160WARNING:tensorflow:Can save best model only with val_cl_out_accuracy available, skipping.\n",
      "2952/2952 [==============================] - 45s 15ms/step - loss: 1.9069 - accuracy: 0.3161 - val_loss: 2.1020 - val_accuracy: 0.2733\n",
      "Epoch 27/75\n",
      "2949/2952 [============================>.] - ETA: 0s - loss: 1.8453 - accuracy: 0.3405WARNING:tensorflow:Can save best model only with val_cl_out_accuracy available, skipping.\n",
      "2952/2952 [==============================] - 45s 15ms/step - loss: 1.8453 - accuracy: 0.3408 - val_loss: 2.0001 - val_accuracy: 0.3288\n",
      "Epoch 28/75\n",
      "2948/2952 [============================>.] - ETA: 0s - loss: 1.8007 - accuracy: 0.3558WARNING:tensorflow:Can save best model only with val_cl_out_accuracy available, skipping.\n",
      "2952/2952 [==============================] - 45s 15ms/step - loss: 1.8000 - accuracy: 0.3560 - val_loss: 1.9832 - val_accuracy: 0.3045\n",
      "Epoch 29/75\n",
      "2949/2952 [============================>.] - ETA: 0s - loss: 1.7834 - accuracy: 0.3513WARNING:tensorflow:Can save best model only with val_cl_out_accuracy available, skipping.\n",
      "2952/2952 [==============================] - 44s 15ms/step - loss: 1.7837 - accuracy: 0.3509 - val_loss: 2.0317 - val_accuracy: 0.3112\n",
      "Epoch 30/75\n",
      "2951/2952 [============================>.] - ETA: 0s - loss: 1.7258 - accuracy: 0.3697WARNING:tensorflow:Can save best model only with val_cl_out_accuracy available, skipping.\n",
      "2952/2952 [==============================] - 44s 15ms/step - loss: 1.7262 - accuracy: 0.3696 - val_loss: 1.9539 - val_accuracy: 0.2936\n",
      "Epoch 31/75\n",
      "2950/2952 [============================>.] - ETA: 0s - loss: 1.6912 - accuracy: 0.3678WARNING:tensorflow:Can save best model only with val_cl_out_accuracy available, skipping.\n",
      "2952/2952 [==============================] - 44s 15ms/step - loss: 1.6909 - accuracy: 0.3675 - val_loss: 1.9773 - val_accuracy: 0.2855\n",
      "Epoch 32/75\n",
      "2949/2952 [============================>.] - ETA: 0s - loss: 1.6462 - accuracy: 0.3872WARNING:tensorflow:Can save best model only with val_cl_out_accuracy available, skipping.\n",
      "2952/2952 [==============================] - 44s 15ms/step - loss: 1.6468 - accuracy: 0.3869 - val_loss: 2.1241 - val_accuracy: 0.2612\n",
      "Epoch 33/75\n",
      "2952/2952 [==============================] - ETA: 0s - loss: 1.5951 - accuracy: 0.4055WARNING:tensorflow:Can save best model only with val_cl_out_accuracy available, skipping.\n",
      "2952/2952 [==============================] - 44s 15ms/step - loss: 1.5951 - accuracy: 0.4055 - val_loss: 1.9969 - val_accuracy: 0.2882\n",
      "Epoch 34/75\n",
      "2951/2952 [============================>.] - ETA: 0s - loss: 1.5450 - accuracy: 0.4151WARNING:tensorflow:Can save best model only with val_cl_out_accuracy available, skipping.\n",
      "2952/2952 [==============================] - 44s 15ms/step - loss: 1.5450 - accuracy: 0.4150 - val_loss: 1.9811 - val_accuracy: 0.3112\n",
      "Epoch 35/75\n",
      "2949/2952 [============================>.] - ETA: 0s - loss: 1.5142 - accuracy: 0.4344WARNING:tensorflow:Can save best model only with val_cl_out_accuracy available, skipping.\n",
      "2952/2952 [==============================] - 44s 15ms/step - loss: 1.5145 - accuracy: 0.4339 - val_loss: 2.0070 - val_accuracy: 0.3058\n",
      "Epoch 36/75\n",
      "2952/2952 [==============================] - ETA: 0s - loss: 1.4671 - accuracy: 0.4387WARNING:tensorflow:Can save best model only with val_cl_out_accuracy available, skipping.\n",
      "2952/2952 [==============================] - 44s 15ms/step - loss: 1.4671 - accuracy: 0.4387 - val_loss: 2.0365 - val_accuracy: 0.2936\n",
      "Epoch 37/75\n",
      "2952/2952 [==============================] - ETA: 0s - loss: 1.4468 - accuracy: 0.4577WARNING:tensorflow:Can save best model only with val_cl_out_accuracy available, skipping.\n",
      "2952/2952 [==============================] - 44s 15ms/step - loss: 1.4468 - accuracy: 0.4577 - val_loss: 1.9904 - val_accuracy: 0.3207\n",
      "Epoch 38/75\n",
      "2952/2952 [==============================] - ETA: 0s - loss: 1.3810 - accuracy: 0.4678WARNING:tensorflow:Can save best model only with val_cl_out_accuracy available, skipping.\n",
      "2952/2952 [==============================] - 44s 15ms/step - loss: 1.3810 - accuracy: 0.4678 - val_loss: 2.0052 - val_accuracy: 0.2936\n",
      "Epoch 39/75\n",
      "2950/2952 [============================>.] - ETA: 0s - loss: 1.3726 - accuracy: 0.4722WARNING:tensorflow:Can save best model only with val_cl_out_accuracy available, skipping.\n",
      "2952/2952 [==============================] - 45s 15ms/step - loss: 1.3729 - accuracy: 0.4719 - val_loss: 2.1076 - val_accuracy: 0.3099\n",
      "Epoch 40/75\n",
      "2950/2952 [============================>.] - ETA: 0s - loss: 1.3230 - accuracy: 0.4878WARNING:tensorflow:Can save best model only with val_cl_out_accuracy available, skipping.\n",
      "2952/2952 [==============================] - 46s 16ms/step - loss: 1.3234 - accuracy: 0.4875 - val_loss: 2.2039 - val_accuracy: 0.2788\n",
      "Epoch 41/75\n",
      "2948/2952 [============================>.] - ETA: 0s - loss: 1.3012 - accuracy: 0.4888WARNING:tensorflow:Can save best model only with val_cl_out_accuracy available, skipping.\n",
      "2952/2952 [==============================] - 46s 16ms/step - loss: 1.3009 - accuracy: 0.4888 - val_loss: 2.1788 - val_accuracy: 0.2950\n",
      "Epoch 42/75\n",
      "2951/2952 [============================>.] - ETA: 0s - loss: 1.2656 - accuracy: 0.5198WARNING:tensorflow:Can save best model only with val_cl_out_accuracy available, skipping.\n",
      "2952/2952 [==============================] - 48s 16ms/step - loss: 1.2654 - accuracy: 0.5200 - val_loss: 2.1344 - val_accuracy: 0.2936\n",
      "Epoch 43/75\n",
      "2950/2952 [============================>.] - ETA: 0s - loss: 1.2210 - accuracy: 0.5210WARNING:tensorflow:Can save best model only with val_cl_out_accuracy available, skipping.\n",
      "2952/2952 [==============================] - 47s 16ms/step - loss: 1.2207 - accuracy: 0.5210 - val_loss: 2.1506 - val_accuracy: 0.3004\n",
      "Epoch 44/75\n",
      "2951/2952 [============================>.] - ETA: 0s - loss: 1.2163 - accuracy: 0.5229WARNING:tensorflow:Can save best model only with val_cl_out_accuracy available, skipping.\n",
      "2952/2952 [==============================] - 46s 16ms/step - loss: 1.2172 - accuracy: 0.5227 - val_loss: 2.1711 - val_accuracy: 0.3085\n",
      "Epoch 45/75\n",
      "2950/2952 [============================>.] - ETA: 0s - loss: 1.1733 - accuracy: 0.5308WARNING:tensorflow:Can save best model only with val_cl_out_accuracy available, skipping.\n",
      "2952/2952 [==============================] - 45s 15ms/step - loss: 1.1736 - accuracy: 0.5305 - val_loss: 2.2268 - val_accuracy: 0.3004\n",
      "Epoch 46/75\n",
      "2950/2952 [============================>.] - ETA: 0s - loss: 1.1388 - accuracy: 0.5512WARNING:tensorflow:Can save best model only with val_cl_out_accuracy available, skipping.\n",
      "2952/2952 [==============================] - 46s 16ms/step - loss: 1.1381 - accuracy: 0.5515 - val_loss: 2.2119 - val_accuracy: 0.2950\n",
      "Epoch 47/75\n",
      "2950/2952 [============================>.] - ETA: 0s - loss: 1.1026 - accuracy: 0.5702WARNING:tensorflow:Can save best model only with val_cl_out_accuracy available, skipping.\n",
      "2952/2952 [==============================] - 45s 15ms/step - loss: 1.1022 - accuracy: 0.5705 - val_loss: 2.2624 - val_accuracy: 0.2991\n",
      "Epoch 48/75\n",
      "2949/2952 [============================>.] - ETA: 0s - loss: 1.0870 - accuracy: 0.5727WARNING:tensorflow:Can save best model only with val_cl_out_accuracy available, skipping.\n",
      "2952/2952 [==============================] - 44s 15ms/step - loss: 1.0865 - accuracy: 0.5732 - val_loss: 2.2966 - val_accuracy: 0.2842\n",
      "Epoch 49/75\n",
      "2949/2952 [============================>.] - ETA: 0s - loss: 1.0751 - accuracy: 0.5741WARNING:tensorflow:Can save best model only with val_cl_out_accuracy available, skipping.\n",
      "2952/2952 [==============================] - 45s 15ms/step - loss: 1.0754 - accuracy: 0.5738 - val_loss: 2.2530 - val_accuracy: 0.2963\n",
      "Epoch 50/75\n",
      "2951/2952 [============================>.] - ETA: 0s - loss: 1.0270 - accuracy: 0.5873WARNING:tensorflow:Can save best model only with val_cl_out_accuracy available, skipping.\n",
      "2952/2952 [==============================] - 45s 15ms/step - loss: 1.0271 - accuracy: 0.5874 - val_loss: 2.3848 - val_accuracy: 0.3045\n",
      "Epoch 51/75\n",
      "2950/2952 [============================>.] - ETA: 0s - loss: 1.0391 - accuracy: 0.5939WARNING:tensorflow:Can save best model only with val_cl_out_accuracy available, skipping.\n",
      "2952/2952 [==============================] - 45s 15ms/step - loss: 1.0396 - accuracy: 0.5935 - val_loss: 2.3638 - val_accuracy: 0.2828\n",
      "Epoch 52/75\n",
      "2949/2952 [============================>.] - ETA: 0s - loss: 0.9601 - accuracy: 0.6205WARNING:tensorflow:Can save best model only with val_cl_out_accuracy available, skipping.\n",
      "2952/2952 [==============================] - 45s 15ms/step - loss: 0.9604 - accuracy: 0.6206 - val_loss: 2.4471 - val_accuracy: 0.2896\n",
      "Epoch 53/75\n",
      "2952/2952 [==============================] - ETA: 0s - loss: 0.9769 - accuracy: 0.6220WARNING:tensorflow:Can save best model only with val_cl_out_accuracy available, skipping.\n",
      "2952/2952 [==============================] - 45s 15ms/step - loss: 0.9769 - accuracy: 0.6220 - val_loss: 2.4489 - val_accuracy: 0.2977\n",
      "Epoch 54/75\n",
      "2949/2952 [============================>.] - ETA: 0s - loss: 0.9348 - accuracy: 0.6338WARNING:tensorflow:Can save best model only with val_cl_out_accuracy available, skipping.\n",
      "2952/2952 [==============================] - 45s 15ms/step - loss: 0.9351 - accuracy: 0.6335 - val_loss: 2.5258 - val_accuracy: 0.2936\n",
      "Epoch 55/75\n",
      "2951/2952 [============================>.] - ETA: 0s - loss: 0.9133 - accuracy: 0.6330WARNING:tensorflow:Can save best model only with val_cl_out_accuracy available, skipping.\n",
      "2952/2952 [==============================] - 45s 15ms/step - loss: 0.9131 - accuracy: 0.6331 - val_loss: 2.5217 - val_accuracy: 0.2882\n",
      "Epoch 56/75\n",
      "2950/2952 [============================>.] - ETA: 0s - loss: 0.8656 - accuracy: 0.6614WARNING:tensorflow:Can save best model only with val_cl_out_accuracy available, skipping.\n",
      "2952/2952 [==============================] - 45s 15ms/step - loss: 0.8663 - accuracy: 0.6612 - val_loss: 2.4914 - val_accuracy: 0.3058\n",
      "Epoch 57/75\n",
      "2949/2952 [============================>.] - ETA: 0s - loss: 0.9108 - accuracy: 0.6517WARNING:tensorflow:Can save best model only with val_cl_out_accuracy available, skipping.\n",
      "2952/2952 [==============================] - 45s 15ms/step - loss: 0.9111 - accuracy: 0.6514 - val_loss: 2.5154 - val_accuracy: 0.2896\n",
      "Epoch 58/75\n",
      "2951/2952 [============================>.] - ETA: 0s - loss: 0.9128 - accuracy: 0.6432WARNING:tensorflow:Can save best model only with val_cl_out_accuracy available, skipping.\n",
      "2952/2952 [==============================] - 45s 15ms/step - loss: 0.9128 - accuracy: 0.6433 - val_loss: 2.5948 - val_accuracy: 0.2788\n",
      "Epoch 59/75\n",
      "2952/2952 [==============================] - ETA: 0s - loss: 0.8249 - accuracy: 0.6707WARNING:tensorflow:Can save best model only with val_cl_out_accuracy available, skipping.\n",
      "2952/2952 [==============================] - 45s 15ms/step - loss: 0.8249 - accuracy: 0.6707 - val_loss: 2.6281 - val_accuracy: 0.2788\n",
      "Epoch 60/75\n",
      "2951/2952 [============================>.] - ETA: 0s - loss: 0.8373 - accuracy: 0.6771WARNING:tensorflow:Can save best model only with val_cl_out_accuracy available, skipping.\n",
      "2952/2952 [==============================] - 48s 16ms/step - loss: 0.8370 - accuracy: 0.6772 - val_loss: 2.7282 - val_accuracy: 0.2760\n",
      "Epoch 61/75\n",
      "2951/2952 [============================>.] - ETA: 0s - loss: 0.8050 - accuracy: 0.6845WARNING:tensorflow:Can save best model only with val_cl_out_accuracy available, skipping.\n",
      "2952/2952 [==============================] - 48s 16ms/step - loss: 0.8048 - accuracy: 0.6846 - val_loss: 2.6912 - val_accuracy: 0.2774\n",
      "Epoch 62/75\n",
      "2951/2952 [============================>.] - ETA: 0s - loss: 0.7926 - accuracy: 0.6825WARNING:tensorflow:Can save best model only with val_cl_out_accuracy available, skipping.\n",
      "2952/2952 [==============================] - 47s 16ms/step - loss: 0.7937 - accuracy: 0.6822 - val_loss: 2.7301 - val_accuracy: 0.2855\n",
      "Epoch 63/75\n",
      "2951/2952 [============================>.] - ETA: 0s - loss: 0.7946 - accuracy: 0.6933WARNING:tensorflow:Can save best model only with val_cl_out_accuracy available, skipping.\n",
      "2952/2952 [==============================] - 66s 22ms/step - loss: 0.7948 - accuracy: 0.6931 - val_loss: 2.6123 - val_accuracy: 0.2963\n",
      "Epoch 64/75\n",
      "2949/2952 [============================>.] - ETA: 0s - loss: 0.7746 - accuracy: 0.7070WARNING:tensorflow:Can save best model only with val_cl_out_accuracy available, skipping.\n",
      "2952/2952 [==============================] - 66s 22ms/step - loss: 0.7749 - accuracy: 0.7070 - val_loss: 2.7392 - val_accuracy: 0.2842\n",
      "Epoch 65/75\n",
      "2950/2952 [============================>.] - ETA: 0s - loss: 0.7600 - accuracy: 0.7007WARNING:tensorflow:Can save best model only with val_cl_out_accuracy available, skipping.\n",
      "2952/2952 [==============================] - 54s 18ms/step - loss: 0.7596 - accuracy: 0.7009 - val_loss: 2.7752 - val_accuracy: 0.2936\n",
      "Epoch 66/75\n",
      "2950/2952 [============================>.] - ETA: 0s - loss: 0.6975 - accuracy: 0.7322WARNING:tensorflow:Can save best model only with val_cl_out_accuracy available, skipping.\n",
      "2952/2952 [==============================] - 48s 16ms/step - loss: 0.6974 - accuracy: 0.7324 - val_loss: 2.8695 - val_accuracy: 0.2760\n",
      "Epoch 67/75\n",
      "2949/2952 [============================>.] - ETA: 0s - loss: 0.7149 - accuracy: 0.7189WARNING:tensorflow:Can save best model only with val_cl_out_accuracy available, skipping.\n",
      "2952/2952 [==============================] - 48s 16ms/step - loss: 0.7147 - accuracy: 0.7188 - val_loss: 2.9027 - val_accuracy: 0.2950\n",
      "Epoch 68/75\n",
      "2950/2952 [============================>.] - ETA: 0s - loss: 0.7381 - accuracy: 0.7122WARNING:tensorflow:Can save best model only with val_cl_out_accuracy available, skipping.\n",
      "2952/2952 [==============================] - 46s 16ms/step - loss: 0.7377 - accuracy: 0.7124 - val_loss: 2.8097 - val_accuracy: 0.2788\n",
      "Epoch 69/75\n",
      "2951/2952 [============================>.] - ETA: 0s - loss: 0.7014 - accuracy: 0.7133WARNING:tensorflow:Can save best model only with val_cl_out_accuracy available, skipping.\n",
      "2952/2952 [==============================] - 52s 18ms/step - loss: 0.7016 - accuracy: 0.7131 - val_loss: 2.9965 - val_accuracy: 0.2923\n",
      "Epoch 70/75\n",
      "2952/2952 [==============================] - ETA: 0s - loss: 0.7040 - accuracy: 0.7287WARNING:tensorflow:Can save best model only with val_cl_out_accuracy available, skipping.\n",
      "2952/2952 [==============================] - 50s 17ms/step - loss: 0.7040 - accuracy: 0.7287 - val_loss: 2.9499 - val_accuracy: 0.2788\n",
      "Epoch 71/75\n",
      "2950/2952 [============================>.] - ETA: 0s - loss: 0.6619 - accuracy: 0.7410WARNING:tensorflow:Can save best model only with val_cl_out_accuracy available, skipping.\n",
      "2952/2952 [==============================] - 50s 17ms/step - loss: 0.6620 - accuracy: 0.7412 - val_loss: 3.1255 - val_accuracy: 0.2774\n",
      "Epoch 72/75\n",
      "2948/2952 [============================>.] - ETA: 0s - loss: 0.6910 - accuracy: 0.7344WARNING:tensorflow:Can save best model only with val_cl_out_accuracy available, skipping.\n",
      "2952/2952 [==============================] - 50s 17ms/step - loss: 0.6918 - accuracy: 0.7341 - val_loss: 3.0645 - val_accuracy: 0.2760\n",
      "Epoch 73/75\n",
      "2952/2952 [==============================] - ETA: 0s - loss: 0.6427 - accuracy: 0.7480WARNING:tensorflow:Can save best model only with val_cl_out_accuracy available, skipping.\n",
      "2952/2952 [==============================] - 52s 17ms/step - loss: 0.6427 - accuracy: 0.7480 - val_loss: 3.0065 - val_accuracy: 0.2977\n",
      "Epoch 74/75\n",
      "2952/2952 [==============================] - ETA: 0s - loss: 0.6577 - accuracy: 0.7544WARNING:tensorflow:Can save best model only with val_cl_out_accuracy available, skipping.\n",
      "2952/2952 [==============================] - 48s 16ms/step - loss: 0.6577 - accuracy: 0.7544 - val_loss: 3.1034 - val_accuracy: 0.2733\n",
      "Epoch 75/75\n",
      "2950/2952 [============================>.] - ETA: 0s - loss: 0.6145 - accuracy: 0.7461WARNING:tensorflow:Can save best model only with val_cl_out_accuracy available, skipping.\n",
      "2952/2952 [==============================] - 50s 17ms/step - loss: 0.6141 - accuracy: 0.7463 - val_loss: 3.2166 - val_accuracy: 0.2720\n"
     ]
    }
   ],
   "source": [
    "history = model.fit(train_generator(), steps_per_epoch=2952, validation_data=val_generator(), validation_steps=739,\n",
    "                    epochs=epochs, verbose=1, callbacks=[checkpoint_callback])"
   ],
   "metadata": {
    "collapsed": false,
    "ExecuteTime": {
     "start_time": "2023-10-25T14:59:34.096381Z",
     "end_time": "2023-10-25T16:08:06.328268Z"
    }
   }
  },
  {
   "cell_type": "code",
   "execution_count": 16,
   "outputs": [
    {
     "data": {
      "text/plain": "<Figure size 640x480 with 1 Axes>",
      "image/png": "[encoded data removed]"
     },
     "metadata": {},
     "output_type": "display_data"
    }
   ],
   "source": [
    "plt.plot(range(1, epochs + 1), history.history['loss'], label=\"loss\")\n",
    "plt.plot(range(1, epochs + 1), history.history['val_loss'], label=\"val_loss\")\n",
    "plt.xlabel(\"epochs\")\n",
    "plt.title(\"total loss\")\n",
    "\n",
    "plt.legend()\n",
    "plt.show()"
   ],
   "metadata": {
    "collapsed": false,
    "ExecuteTime": {
     "start_time": "2023-10-25T17:23:01.073530Z",
     "end_time": "2023-10-25T17:23:01.362125Z"
    }
   }
  },
  {
   "cell_type": "code",
   "execution_count": 17,
   "outputs": [
    {
     "data": {
      "text/plain": "<Figure size 640x480 with 1 Axes>",
      "image/png": "[encoded data removed]"
     },
     "metadata": {},
     "output_type": "display_data"
    }
   ],
   "source": [
    "plt.plot(range(1, epochs + 1), history.history['accuracy'], label=\"accuracy\")\n",
    "plt.plot(range(1, epochs + 1), history.history['val_accuracy'], label=\"val_accuracy\")\n",
    "plt.xlabel(\"epochs\")\n",
    "plt.title(\"total accuracy\")\n",
    "\n",
    "plt.legend()\n",
    "plt.show()"
   ],
   "metadata": {
    "collapsed": false,
    "ExecuteTime": {
     "start_time": "2023-10-25T17:23:03.685003Z",
     "end_time": "2023-10-25T17:23:03.851524Z"
    }
   }
  },
  {
   "cell_type": "code",
   "execution_count": 18,
   "outputs": [],
   "source": [
    "def draw_pred_lines(y_pred, y_real, title=\"Train dataset\", axis_name=\"LO Steps\"):\n",
    "    drawing_df = pd.DataFrame({\"Pred\": y_pred, \"Real\": y_real})\n",
    "    drawing_df = drawing_df.sort_values(\"Real\").reset_index(drop=True)\n",
    "\n",
    "    for key_, val_ in drawing_df.items():\n",
    "        plt.plot(range(len(val_)), val_, label=key_)\n",
    "\n",
    "    plt.xlabel(\"No\")\n",
    "    plt.ylabel(f\"Count {axis_name}\")\n",
    "    plt.title(title)\n",
    "    plt.legend()\n",
    "    plt.show()\n",
    "\n",
    "\n",
    "def calculate_accuracy(actual_labels, predicted_labels):\n",
    "    correct_predictions = sum(1 for actual, predicted in zip(actual_labels, predicted_labels) if actual == predicted)\n",
    "    total_predictions = len(actual_labels)\n",
    "    accuracy = correct_predictions / total_predictions\n",
    "    return accuracy"
   ],
   "metadata": {
    "collapsed": false,
    "ExecuteTime": {
     "start_time": "2023-10-25T17:33:51.174412Z",
     "end_time": "2023-10-25T17:33:51.186412Z"
    }
   }
  },
  {
   "cell_type": "code",
   "execution_count": null,
   "outputs": [],
   "source": [
    "# load the model\n",
    "\n",
    "with open(\"./fine_models/lstm_model.json\", \"r\") as file:\n",
    "    loaded_model_json = file.read()\n",
    "\n",
    "model = tf.keras.models.model_from_json(loaded_model_json)\n",
    "model.load_weights(\"./fine_models/lstm_model.h5\")"
   ],
   "metadata": {
    "collapsed": false,
    "ExecuteTime": {
     "start_time": "2023-10-25T16:09:54.713388Z",
     "end_time": "2023-10-25T16:09:55.242956Z"
    }
   }
  },
  {
   "cell_type": "code",
   "execution_count": 19,
   "outputs": [
    {
     "name": "stderr",
     "output_type": "stream",
     "text": [
      "100%|██████████| 739/739 [01:04<00:00, 11.50it/s]\n"
     ]
    },
    {
     "name": "stdout",
     "output_type": "stream",
     "text": [
      "Test accuracy: 0.2719891745602165\n"
     ]
    },
    {
     "data": {
      "text/plain": "<Figure size 640x480 with 1 Axes>",
      "image/png": "[encoded data removed]"
     },
     "metadata": {},
     "output_type": "display_data"
    }
   ],
   "source": [
    "y_test_pred = []\n",
    "for x_ in tqdm(x_test):\n",
    "    y_test_pred.append(model.predict(np.array([x_]), verbose=0)[0])\n",
    "\n",
    "y_test_pred_nums = encoder.inverse_transform(np.array(y_test_pred))\n",
    "y_test_nums = encoder.inverse_transform(y_test)\n",
    "\n",
    "print(\"Test accuracy:\", calculate_accuracy(y_test_nums, y_test_pred_nums))\n",
    "draw_pred_lines(y_test_pred_nums, y_test_nums, title=\"Test dataset\", axis_name=\"LO Steps\")"
   ],
   "metadata": {
    "collapsed": false,
    "ExecuteTime": {
     "start_time": "2023-10-25T17:33:54.782674Z",
     "end_time": "2023-10-25T17:34:59.275899Z"
    }
   }
  },
  {
   "cell_type": "code",
   "execution_count": null,
   "outputs": [
    {
     "name": "stderr",
     "output_type": "stream",
     "text": [
      " 10%|▉         | 292/2952 [00:20<03:25, 12.97it/s]"
     ]
    }
   ],
   "source": [
    "y_train_pred = []\n",
    "for x_ in tqdm(x_train[:10_000]):\n",
    "    y_train_pred.append(model.predict(np.array([x_]), verbose=0)[0])\n",
    "\n",
    "y_train_pred_nums = encoder.inverse_transform(np.array(y_train_pred))\n",
    "y_train_nums = encoder.inverse_transform(y_train[:10_000])\n",
    "\n",
    "print(\"Train accuracy:\", calculate_accuracy(y_train_nums, y_train_pred_nums))\n",
    "draw_pred_lines(y_train_pred_nums, y_train_nums, title=\"Train dataset\", axis_name=\"LO Steps\")"
   ],
   "metadata": {
    "collapsed": false,
    "ExecuteTime": {
     "start_time": "2023-10-24T16:20:36.219454Z",
     "end_time": "2023-10-24T16:23:37.427397Z"
    },
    "pycharm": {
     "is_executing": true
    }
   }
  },
  {
   "cell_type": "code",
   "execution_count": null,
   "outputs": [],
   "source": [],
   "metadata": {
    "collapsed": false,
    "ExecuteTime": {
     "start_time": "2023-08-29T18:10:46.061225Z",
     "end_time": "2023-08-29T18:10:46.234317Z"
    }
   }
  },
  {
   "cell_type": "code",
   "execution_count": null,
   "outputs": [],
   "source": [
    "def ite_term():\n",
    "    x, y, c = Var(), Var(), Var()\n",
    "    x_, y_, c_ = Atom(x), Atom(y), Atom(c)\n",
    "    return Lambda(c, Lambda(x, Lambda(y, multi_app_term(c_, x_, y_))))\n",
    "\n",
    "\n",
    "def true_term():\n",
    "    x, y = Var(), Var()\n",
    "    x_ = Atom(x)\n",
    "    return Lambda(x, Lambda(y, x_))\n",
    "\n",
    "\n",
    "def num_zero_term():\n",
    "    s, z = Var(), Var()\n",
    "    z_ = Atom(z)\n",
    "    return Lambda(s, Lambda(z, z_))\n",
    "\n",
    "\n",
    "def num_term(n: int):\n",
    "    if n <= 0:\n",
    "        return num_zero_term()\n",
    "    s, z = Var(), Var()\n",
    "    s_, z_ = Atom(s), Atom(z)\n",
    "    core_term = App(s_, z_)\n",
    "    for _ in range(n - 1):\n",
    "        core_term = App(s_, core_term)\n",
    "    return Lambda(s, Lambda(z, core_term))\n",
    "\n",
    "\n",
    "def multi_app_term(term_0: Term, term_1: Term, *terms: Term):\n",
    "    res_app_term = App(term_0, term_1)\n",
    "    for term in terms:\n",
    "        res_app_term = App(res_app_term, term)\n",
    "    return res_app_term\n",
    "\n",
    "\n",
    "def false_term():\n",
    "    x, y = Var(), Var()\n",
    "    y_ = Atom(y)\n",
    "    return Lambda(x, Lambda(y, y_))\n",
    "\n",
    "\n",
    "def pair_term():\n",
    "    x, y, p = Var(), Var(), Var()\n",
    "    x_, y_, p_ = Atom(x), Atom(y), Atom(p)\n",
    "    return Lambda(x, Lambda(y, Lambda(p, multi_app_term(p_, x_, y_))))\n",
    "\n",
    "\n",
    "def first_term():\n",
    "    p = Var()\n",
    "    p_ = Atom(p)\n",
    "    return Lambda(p, App(p_, true_term()))\n",
    "\n",
    "\n",
    "def second_term():\n",
    "    p = Var()\n",
    "    p_ = Atom(p)\n",
    "    return Lambda(p, App(p_, false_term()))\n",
    "\n",
    "\n",
    "def succ_term():\n",
    "    x, y, n = Var(), Var(), Var()\n",
    "    x_, y_, n_ = Atom(x), Atom(y), Atom(n)\n",
    "    return Lambda(n, Lambda(x, Lambda(y, App(x_, multi_app_term(n_, x_, y_)))))\n",
    "\n",
    "\n",
    "def sinc_term():\n",
    "    p = Var()\n",
    "    p_ = Atom(p)\n",
    "    return Lambda(\n",
    "        p,\n",
    "        multi_app_term(\n",
    "            pair_term(),\n",
    "            App(second_term(), p_),\n",
    "            App(succ_term(), App(second_term(), p_)),\n",
    "        ),\n",
    "    )\n",
    "\n",
    "\n",
    "def pred_term():\n",
    "    n, f, x, g, h, u = Var(), Var(), Var(), Var(), Var(), Var()\n",
    "    n_, f_, x_ = Atom(n), Atom(f), Atom(x)\n",
    "    g_, h_, u_ = Atom(g), Atom(h), Atom(u)\n",
    "\n",
    "    return Lambda(n, Lambda(f, Lambda(x, multi_app_term(\n",
    "        n_,\n",
    "        Lambda(g, Lambda(h, App(h_, App(g_, f_)))),\n",
    "        Lambda(u, x_),\n",
    "        Lambda(u, u_)\n",
    "    ))))\n",
    "\n",
    "\n",
    "def plus_term():\n",
    "    n, m = Var(), Var()\n",
    "    n_, m_ = Atom(n), Atom(m)\n",
    "    return Lambda(m, Lambda(n, multi_app_term(n_, succ_term(), m_)))\n",
    "\n",
    "\n",
    "def subtract_term():\n",
    "    n, m = Var(), Var()\n",
    "    n_, m_ = Atom(n), Atom(m)\n",
    "    return Lambda(n, Lambda(m, multi_app_term(m_, pred_term(), n_)))\n",
    "\n",
    "\n",
    "def iszero_term():\n",
    "    x, n = Var(), Var()\n",
    "    n_ = Atom(n)\n",
    "    return Lambda(n, App(App(n_, Lambda(x, false_term())), true_term()))\n",
    "\n",
    "\n",
    "def leq_term():\n",
    "    n, m = Var(), Var()\n",
    "    n_, m_ = Atom(n), Atom(m)\n",
    "    return Lambda(\n",
    "        n, Lambda(m, App(iszero_term(), multi_app_term(subtract_term(), n_, m_)))\n",
    "    )\n",
    "\n",
    "\n",
    "def and_term():\n",
    "    a, b = Var(), Var()\n",
    "    a_, b_ = Atom(a), Atom(b)\n",
    "    return Lambda(a, Lambda(b, multi_app_term(ite_term(), a_, b_, a_)))\n",
    "\n",
    "\n",
    "def eq_term():\n",
    "    n, m = Var(), Var()\n",
    "    n_, m_ = Atom(n), Atom(m)\n",
    "    return Lambda(\n",
    "        n,\n",
    "        Lambda(\n",
    "            m,\n",
    "            multi_app_term(\n",
    "                and_term(),\n",
    "                multi_app_term(leq_term(), n_, m_),\n",
    "                multi_app_term(leq_term(), m_, n_),\n",
    "            ),\n",
    "        ),\n",
    "    )\n",
    "\n",
    "\n",
    "def i_term():\n",
    "    x = Var()\n",
    "    x_ = Atom(x)\n",
    "    return Lambda(x, x_)\n",
    "\n",
    "\n",
    "def omega_term(n: int):\n",
    "    x = Var()\n",
    "    x_ = Atom(x)\n",
    "    body_app_term = x_\n",
    "    for _ in range(n - 1):\n",
    "        body_app_term = App(body_app_term, x_)\n",
    "    return Lambda(x, body_app_term)\n",
    "\n",
    "\n",
    "def multi_i_term(m: int):\n",
    "    app_term = i_term()\n",
    "    for _ in range(m - 1):\n",
    "        app_term = App(app_term, i_term())\n",
    "    return app_term\n",
    "\n",
    "\n",
    "def omega_multi_i_term(n: int, m: int):\n",
    "    return App(omega_term(n), multi_i_term(m))\n",
    "\n",
    "\n",
    "def term_test_1():\n",
    "    x, y = Var(), Var()\n",
    "    x_, y_ = Atom(x), Atom(y)\n",
    "\n",
    "    return \"(λx. (λy.y)) ((λx. (xx)) (λx. (xx))) == I == λx. x\", \\\n",
    "        App(\n",
    "            Lambda(x, Lambda(y, y_)),\n",
    "            App(\n",
    "                Lambda(x, App(x_, x_)),\n",
    "                Lambda(x, App(x_, x_))\n",
    "            )\n",
    "        )\n",
    "\n",
    "\n",
    "def term_test_2():\n",
    "    return \"(ITE TRUE 3 1) == 3 == λx. λy. (x (x (x y)))\", \\\n",
    "        multi_app_term(ite_term(), true_term(), num_term(3), num_term(1))\n",
    "\n",
    "\n",
    "def term_test_3():\n",
    "    return \"(ITE FALSE 0 4) == 4 == λx. λy. (x (x (x (x y))))\", \\\n",
    "        multi_app_term(ite_term(), false_term(), num_term(0), num_term(4))\n",
    "\n",
    "\n",
    "def term_test_4():\n",
    "    return \"(PRED 0) == 0 == λx. λy. y\", \\\n",
    "        multi_app_term(pred_term(), num_term(0))\n",
    "\n",
    "\n",
    "def term_test_5():\n",
    "    return \"(PRED 5) == 4 == λx. λy. (x (x (x (x y))))\", \\\n",
    "        multi_app_term(pred_term(), num_term(5))\n",
    "\n",
    "\n",
    "def term_test_6():\n",
    "    return \"(PLUS 0 0) == 0 == λx. λy. y\", \\\n",
    "        multi_app_term(plus_term(), num_term(0), num_term(0))\n",
    "\n",
    "\n",
    "def term_test_7():\n",
    "    return \"(PLUS 2 3) == 5 == λx. λy. (x (x (x (x (x y)))))\", \\\n",
    "        multi_app_term(plus_term(), num_term(2), num_term(3))\n",
    "\n",
    "\n",
    "def term_test_8():\n",
    "    return \"(SUBTRACT 4 1) == 3 == λx. λy. (x (x (x y)))\", \\\n",
    "        multi_app_term(subtract_term(), num_term(4), num_term(1))\n",
    "\n",
    "\n",
    "def term_test_9():\n",
    "    return \"(SUBTRACT 3 5) == 0 == λx. λy. y\", \\\n",
    "        multi_app_term(subtract_term(), num_term(3), num_term(5))\n",
    "\n",
    "\n",
    "def term_test_10():\n",
    "    return \"(LEQ 3 2) == FALSE == λx. λy. y\", \\\n",
    "        multi_app_term(leq_term(), num_term(3), num_term(2))\n",
    "\n",
    "\n",
    "def term_test_11():\n",
    "    return \"(LEQ 2 5) == TRUE == λx. λy. x\", \\\n",
    "        multi_app_term(leq_term(), num_term(2), num_term(5))\n",
    "\n",
    "\n",
    "def term_test_12():\n",
    "    return \"(EQ 2 2) == TRUE == λx. λy. x\", \\\n",
    "        multi_app_term(eq_term(), num_term(2), num_term(2))\n",
    "\n",
    "\n",
    "def term_test_13():\n",
    "    return \"(EQ 1 4) == FALSE == λx. λy. y\", \\\n",
    "        multi_app_term(eq_term(), num_term(1), num_term(4))\n",
    "\n",
    "\n",
    "def term_test_14():\n",
    "    return \"Omega(3, 3)  == I == λx. x\", \\\n",
    "        omega_multi_i_term(3, 3)\n",
    "\n",
    "\n",
    "def term_test_15():\n",
    "    return \"GCD_vO 5 2\", \\\n",
    "        multi_app_term(gcd_term_v0(), num_term(5), num_term(2))\n",
    "\n",
    "\n",
    "def term_test_16():\n",
    "    return \"GCD_v1 5 2\", \\\n",
    "        multi_app_term(gcd_term_v1(), num_term(5), num_term(2))\n",
    "\n",
    "\n",
    "def term_test_17():\n",
    "    return \"GCD_v3 5 2\", \\\n",
    "        multi_app_term(gcd_term_v3(), num_term(5), num_term(2))\n",
    "\n",
    "\n",
    "def term_test_18():\n",
    "    return \"PYTHAGOREAN 5 2 2\", \\\n",
    "        multi_app_term(\n",
    "            pythagorean_term(), num_term(5), num_term(2), num_term(2)\n",
    "        )\n",
    "\n",
    "\n",
    "def test_function(term_deskr_: str, term_: Term, model_: Sequential):\n",
    "    comb_str = term._update_bound_vars().to_combinatory_logic().to_combinatory_str()\n",
    "    prediction_ = model_.predict(np.array(tokenize_and_vectorize([comb_str])), verbose=0)\n",
    "    print(f\"{term_deskr_}\\nnorm_steps={term_.normalize(LOStrategy())[1]}\\tpred_steps={np.argmax(prediction_[0])}\\n\")\n",
    "\n",
    "\n",
    "list_test_functions = (\n",
    "term_test_1, term_test_2, term_test_3, term_test_4, term_test_5, term_test_6, term_test_7, term_test_9, term_test_10,\n",
    "term_test_11, term_test_12, term_test_13, term_test_14, term_test_15, term_test_16, term_test_17, term_test_18)\n",
    "\n",
    "for term_function in list_test_functions:\n",
    "    term_deskr, term = term_function()\n",
    "    test_function(term_deskr, term, model)"
   ],
   "metadata": {
    "collapsed": false,
    "ExecuteTime": {
     "start_time": "2023-10-24T15:20:36.064923Z",
     "end_time": "2023-10-24T15:22:12.229217Z"
    }
   }
  },
  {
   "cell_type": "code",
   "execution_count": null,
   "outputs": [],
   "source": [],
   "metadata": {
    "collapsed": false,
    "ExecuteTime": {
     "start_time": "2023-09-08T16:56:35.006044Z",
     "end_time": "2023-09-08T16:56:35.141696Z"
    }
   }
  },
  {
   "cell_type": "markdown",
   "source": [
    "# Do additional metrics testing"
   ],
   "metadata": {
    "collapsed": false
   }
  },
  {
   "cell_type": "markdown",
   "source": [
    "## Mean Squared Error"
   ],
   "metadata": {
    "collapsed": false
   }
  },
  {
   "cell_type": "code",
   "execution_count": null,
   "outputs": [],
   "source": [
    "mse_train = mean_squared_error(y_train_nums, y_train_pred_nums)\n",
    "print(\"Train {Mean Squared Error}:\", mse_train)\n",
    "\n",
    "mse_test = mean_squared_error(y_test_nums, y_test_pred_nums)\n",
    "print(\"Test {Mean Squared Error}:\", mse_test)"
   ],
   "metadata": {
    "collapsed": false,
    "ExecuteTime": {
     "start_time": "2023-10-24T15:23:13.671860Z",
     "end_time": "2023-10-24T15:23:13.719892Z"
    }
   }
  },
  {
   "cell_type": "markdown",
   "source": [
    "## Root Mean Squared Error"
   ],
   "metadata": {
    "collapsed": false
   }
  },
  {
   "cell_type": "code",
   "execution_count": null,
   "outputs": [],
   "source": [
    "rmse_train = mean_squared_error(y_train_nums, y_train_pred_nums, squared=False)\n",
    "print(\"Train {Root Mean Squared Error}:\", rmse_train)\n",
    "\n",
    "rmse_test = mean_squared_error(y_test_nums, y_test_pred_nums, squared=False)\n",
    "print(\"Test {Root Mean Squared Error}:\", rmse_test)"
   ],
   "metadata": {
    "collapsed": false,
    "ExecuteTime": {
     "start_time": "2023-10-24T15:25:44.979882Z",
     "end_time": "2023-10-24T15:25:44.998823Z"
    }
   }
  },
  {
   "cell_type": "markdown",
   "source": [
    "## Mean Absolute Error"
   ],
   "metadata": {
    "collapsed": false
   }
  },
  {
   "cell_type": "code",
   "execution_count": null,
   "outputs": [],
   "source": [
    "mae_train = mean_absolute_error(y_train_nums, y_train_pred_nums)\n",
    "print(\"Train {Mean Absolute Error}:\", mae_train)\n",
    "\n",
    "mae_test = mean_absolute_error(y_test_nums, y_test_pred_nums)\n",
    "print(\"Test {Mean Absolute Error}:\", mae_test)"
   ],
   "metadata": {
    "collapsed": false,
    "ExecuteTime": {
     "start_time": "2023-10-24T15:25:53.217288Z",
     "end_time": "2023-10-24T15:25:53.266032Z"
    }
   }
  },
  {
   "cell_type": "markdown",
   "source": [
    "## Coefficient of Correlation (Pearson's r)"
   ],
   "metadata": {
    "collapsed": false
   }
  },
  {
   "cell_type": "code",
   "execution_count": null,
   "outputs": [],
   "source": [
    "coc_test = np.corrcoef(y_test_pred_nums, y_test_nums)[0, 1]\n",
    "coc_train = np.corrcoef(y_train_pred_nums, y_train_nums)[0, 1]\n",
    "\n",
    "print(\"Train {Mean Bias Deviation}:\", coc_train)\n",
    "print(\"Test {Mean Bias Deviation}:\", coc_test)"
   ],
   "metadata": {
    "collapsed": false,
    "ExecuteTime": {
     "start_time": "2023-10-24T15:25:58.649911Z",
     "end_time": "2023-10-24T15:25:58.707114Z"
    }
   }
  },
  {
   "cell_type": "markdown",
   "source": [
    "## Error STD"
   ],
   "metadata": {
    "collapsed": false
   }
  },
  {
   "cell_type": "code",
   "execution_count": null,
   "outputs": [],
   "source": [
    "y_train_cl_pred_nums = np.array(y_train_pred_nums)\n",
    "y_test_cl_pred_nums = np.array(y_test_pred_nums)\n",
    "\n",
    "y_train_nums = np.array(y_train_nums)\n",
    "y_test_nums = np.array(y_test_nums)\n",
    "train_error = y_train_nums - y_train_cl_pred_nums\n",
    "test_error = y_test_nums - y_test_cl_pred_nums\n",
    "print(\"Train Error STD:\", np.abs(train_error).std())\n",
    "print(\"Test Error STD:\", np.abs(test_error).std())"
   ],
   "metadata": {
    "collapsed": false,
    "ExecuteTime": {
     "start_time": "2023-10-24T15:26:03.865399Z",
     "end_time": "2023-10-24T15:26:03.910126Z"
    }
   }
  },
  {
   "cell_type": "markdown",
   "source": [
    "# Some additional drawings"
   ],
   "metadata": {
    "collapsed": false
   }
  },
  {
   "cell_type": "code",
   "execution_count": null,
   "outputs": [],
   "source": [
    "def advanced_point_drawer(y_real, y_pred, title=\"Train dataset\", axis_name=\"LO Steps\"):\n",
    "    counter = Counter([(x_, y_) for x_, y_ in zip(y_real, y_pred)])\n",
    "    coords_count = dict(counter)\n",
    "\n",
    "    plt.figure(figsize=(12, 12))\n",
    "\n",
    "    coords_count_rev = dict()\n",
    "    for key_, val_ in coords_count.items():\n",
    "        if val_ not in coords_count_rev:\n",
    "            coords_count_rev[val_] = []\n",
    "        coords_count_rev[val_].append(key_)\n",
    "\n",
    "    tcoords_count_rev = dict()\n",
    "    for key_ in sorted(coords_count_rev.keys()):\n",
    "        tcoords_count_rev[key_] = coords_count_rev[key_]\n",
    "\n",
    "    coords_count_rev = tcoords_count_rev\n",
    "\n",
    "    for key_, val_ in coords_count_rev.items():\n",
    "        coords_data = np.array(val_)\n",
    "        plt.scatter(coords_data[:, 0], coords_data[:, 1], s=key_ ** 1 + 5, c='tab:blue', label=f\"\\n{key_}\\n\")\n",
    "\n",
    "    plt.plot([0, 31], [0, 31], c=\"gray\", linestyle=\"--\")\n",
    "    plt.axis(\"equal\")\n",
    "    plt.xlabel(f\"Real {axis_name}\", fontsize=18)\n",
    "    plt.ylabel(f\"Predict {axis_name}\", fontsize=18)\n",
    "    plt.title(title, fontsize=20)\n",
    "    plt.legend(prop={'size': 10})\n",
    "    plt.show()"
   ],
   "metadata": {
    "collapsed": false,
    "ExecuteTime": {
     "start_time": "2023-10-24T15:45:51.317763Z",
     "end_time": "2023-10-24T15:45:51.342000Z"
    }
   }
  },
  {
   "cell_type": "code",
   "execution_count": null,
   "outputs": [],
   "source": [
    "advanced_point_drawer(y_train_nums, y_train_cl_pred_nums, \"Train set\", \"LO Steps\")"
   ],
   "metadata": {
    "collapsed": false,
    "ExecuteTime": {
     "start_time": "2023-10-24T15:45:52.911000Z",
     "end_time": "2023-10-24T15:45:54.217892Z"
    }
   }
  },
  {
   "cell_type": "code",
   "execution_count": null,
   "outputs": [],
   "source": [
    "advanced_point_drawer(y_test_nums, y_test_cl_pred_nums, \"Test set\", \"LO Steps\")"
   ],
   "metadata": {
    "collapsed": false,
    "ExecuteTime": {
     "start_time": "2023-10-24T15:50:43.086176Z",
     "end_time": "2023-10-24T15:50:44.317924Z"
    }
   }
  },
  {
   "cell_type": "code",
   "execution_count": null,
   "outputs": [],
   "source": [],
   "metadata": {
    "collapsed": false,
    "ExecuteTime": {
     "start_time": "2023-09-08T16:56:37.354935Z",
     "end_time": "2023-09-08T16:56:37.368006Z"
    }
   }
  },
  {
   "cell_type": "code",
   "execution_count": null,
   "outputs": [],
   "source": [
    "def draw_pred_scatter(y_real, y_pred, title=\"Train dataset\", axis_name=\"LO Steps\"):\n",
    "    plt.scatter(y_real, y_pred, s=3)\n",
    "    plt.plot([0, 30], [0, 30], color='gray', linestyle='--')\n",
    "\n",
    "    plt.xlabel(f\"Real {axis_name}\")\n",
    "    plt.ylabel(f\"Predicted {axis_name}\")\n",
    "    plt.title(f\"Pred vs Real {axis_name} in {title}\")\n",
    "    plt.show()\n",
    "\n",
    "\n",
    "draw_pred_scatter(y_train_nums, y_train_cl_pred_nums, \"Train set\", \"LO Steps\")\n",
    "draw_pred_scatter(y_test_nums, y_test_cl_pred_nums, \"Test set\", \"LO Steps\")"
   ],
   "metadata": {
    "collapsed": false,
    "ExecuteTime": {
     "start_time": "2023-10-24T16:00:33.461145Z",
     "end_time": "2023-10-24T16:00:33.720988Z"
    }
   }
  },
  {
   "cell_type": "code",
   "execution_count": null,
   "outputs": [],
   "source": [
    "def draw_pred_scatter(y_real, y_pred, title=\"Train dataset\", axis_name=\"LO Steps\"):\n",
    "    counter = Counter([(x_, y_) for x_, y_ in zip(y_real, y_pred)])\n",
    "    coords_count = dict(counter)\n",
    "\n",
    "    plt.figure(figsize=(12, 12))\n",
    "\n",
    "    coords_count_rev = dict()\n",
    "    for key_, val_ in coords_count.items():\n",
    "        if val_ not in coords_count_rev:\n",
    "            coords_count_rev[val_] = []\n",
    "        coords_count_rev[val_].append(key_)\n",
    "\n",
    "    tcoords_count_rev = dict()\n",
    "    for key_ in sorted(coords_count_rev.keys()):\n",
    "        tcoords_count_rev[key_] = coords_count_rev[key_]\n",
    "\n",
    "    coords_count_rev = tcoords_count_rev\n",
    "\n",
    "    for key_, val_ in coords_count_rev.items():\n",
    "        coords_data = np.array(val_)\n",
    "        plt.scatter(coords_data[:, 0], coords_data[:, 1], s=key_ ** 1 + 3, c='tab:blue', label=f\"\\n{key_}\\n\")\n",
    "    plt.plot([0, 30], [0, 30], color='gray', linestyle='--')\n",
    "\n",
    "    plt.xlabel(f\"Real {axis_name}\")\n",
    "    plt.ylabel(f\"Predicted {axis_name}\")\n",
    "    plt.title(f\"Pred vs Real {axis_name} in {title}\")\n",
    "    plt.show()\n",
    "\n",
    "\n",
    "draw_pred_scatter(y_train_nums, y_train_cl_pred_nums, \"Train set\", \"LO Steps\")\n",
    "draw_pred_scatter(y_test_nums, y_test_cl_pred_nums, \"Test set\", \"LO Steps\")"
   ],
   "metadata": {
    "collapsed": false,
    "ExecuteTime": {
     "start_time": "2023-10-24T16:01:08.176574Z",
     "end_time": "2023-10-24T16:01:09.525358Z"
    }
   }
  },
  {
   "cell_type": "code",
   "execution_count": null,
   "outputs": [],
   "source": [
    "def draw_pred_lines(y_pred, y_real, title=\"Train dataset\", axis_name=\"LO Steps\"):\n",
    "    drawing_df = pd.DataFrame({\"Pred\": y_pred, \"Real\": y_real})\n",
    "    drawing_df = drawing_df.sort_values(\"Real\").reset_index(drop=True)\n",
    "\n",
    "    for key_, val_ in drawing_df.items():\n",
    "        plt.scatter(range(len(val_)), val_, label=key_, s=3)\n",
    "\n",
    "    plt.xlabel(\"No\")\n",
    "    plt.ylabel(f\"Count {axis_name}\")\n",
    "    plt.title(title)\n",
    "    plt.legend()\n",
    "    plt.show()\n",
    "\n",
    "\n",
    "rcParams[\"figure.figsize\"] = 10, 9\n",
    "draw_pred_lines(y_test_pred_nums, y_test_nums, title=\"Test dataset\", axis_name=\"LO Steps\")\n",
    "draw_pred_lines(y_train_pred_nums, y_train_nums, title=\"Train dataset\", axis_name=\"LO Steps\")"
   ],
   "metadata": {
    "collapsed": false,
    "ExecuteTime": {
     "start_time": "2023-10-24T16:36:43.842954Z",
     "end_time": "2023-10-24T16:36:44.972478Z"
    }
   }
  },
  {
   "cell_type": "code",
   "execution_count": null,
   "outputs": [],
   "source": [
    "def draw_pred_lines(y_pred, y_real, title=\"Train dataset\", axis_name=\"LO Steps\"):\n",
    "    drawing_df = pd.DataFrame({\"Pred\": y_pred, \"Real\": y_real})\n",
    "    drawing_df = drawing_df.sort_values(\"Real\").reset_index(drop=True)\n",
    "\n",
    "    prop_cycle = plt.rcParams['axes.prop_cycle']\n",
    "    colors = prop_cycle.by_key()['color']\n",
    "\n",
    "    plt.plot(range(len(drawing_df[\"Real\"])), drawing_df[\"Real\"], label=\"Real\", c=colors[1])\n",
    "    plt.scatter(range(len(drawing_df[\"Pred\"])), drawing_df[\"Pred\"], label=\"Pred\", s=3, c=colors[0])\n",
    "\n",
    "    plt.xlabel(\"No\")\n",
    "    plt.ylabel(f\"Count {axis_name}\")\n",
    "    plt.title(title)\n",
    "    plt.legend()\n",
    "    plt.show()\n",
    "\n",
    "\n",
    "rcParams[\"figure.figsize\"] = 10, 9\n",
    "draw_pred_lines(y_test_pred_nums, y_test_nums, title=\"Test dataset\", axis_name=\"LO Steps\")\n",
    "draw_pred_lines(y_train_pred_nums, y_train_nums, title=\"Train dataset\", axis_name=\"LO Steps\")"
   ],
   "metadata": {
    "collapsed": false,
    "ExecuteTime": {
     "start_time": "2023-10-24T16:46:40.849886Z",
     "end_time": "2023-10-24T16:46:41.275188Z"
    }
   }
  },
  {
   "cell_type": "code",
   "execution_count": null,
   "outputs": [],
   "source": [],
   "metadata": {
    "collapsed": false
   }
  },
  {
   "cell_type": "code",
   "execution_count": null,
   "outputs": [],
   "source": [],
   "metadata": {
    "collapsed": false
   }
  },
  {
   "cell_type": "code",
   "execution_count": null,
   "outputs": [],
   "source": [],
   "metadata": {
    "collapsed": false
   }
  },
  {
   "cell_type": "code",
   "execution_count": null,
   "outputs": [],
   "source": [],
   "metadata": {
    "collapsed": false
   }
  }
 ],
 "metadata": {
  "kernelspec": {
   "display_name": "Python 3",
   "language": "python",
   "name": "python3"
  },
  "language_info": {
   "codemirror_mode": {
    "name": "ipython",
    "version": 2
   },
   "file_extension": ".py",
   "mimetype": "text/x-python",
   "name": "python",
   "nbconvert_exporter": "python",
   "pygments_lexer": "ipython2",
   "version": "2.7.6"
  }
 },
 "nbformat": 4,
 "nbformat_minor": 0
}
