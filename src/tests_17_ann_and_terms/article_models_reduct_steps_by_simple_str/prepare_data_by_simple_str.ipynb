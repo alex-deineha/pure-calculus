{
 "cells": [
  {
   "cell_type": "code",
   "execution_count": 1,
   "metadata": {
    "collapsed": true,
    "ExecuteTime": {
     "start_time": "2023-10-23T14:27:17.269775Z",
     "end_time": "2023-10-23T14:27:17.302520Z"
    }
   },
   "outputs": [],
   "source": [
    "import sys\n",
    "import re\n",
    "from tqdm import tqdm\n",
    "\n",
    "import matplotlib.pyplot as plt\n",
    "import pandas as pd\n",
    "import seaborn as sns\n",
    "import numpy as np\n",
    "from collections import Counter\n",
    "\n",
    "sys.path.append(\"../\")\n",
    "from calculus_path_mod.term_engine import *\n",
    "from calculus_path_mod.reduction_strategy import *\n",
    "from calculus_path_mod.terms import num_comparison, nat_numbers, arithm_ops, combinators, pairs, logic\n",
    "from calculus_path_mod.terms.pseudonym import *\n",
    "\n",
    "from calculus_path_mod.json_serialization import load_terms"
   ]
  },
  {
   "cell_type": "markdown",
   "source": [
    "# Load Terms filtered by LO & RI"
   ],
   "metadata": {
    "collapsed": false
   }
  },
  {
   "cell_type": "code",
   "execution_count": 2,
   "outputs": [],
   "source": [
    "terms_LO = load_terms(\"../../tests_11_retests/terms_210_filtered_LO.dat\")\n",
    "terms_RI = load_terms(\"../../tests_11_retests/terms_210_filtered_RI.dat\")"
   ],
   "metadata": {
    "collapsed": false,
    "ExecuteTime": {
     "start_time": "2023-10-23T14:36:08.622357Z",
     "end_time": "2023-10-23T14:36:08.713371Z"
    }
   }
  },
  {
   "cell_type": "markdown",
   "source": [
    "# Collect more terms with normalization process data for LO & LI strategies with terms_LO & terms_RI"
   ],
   "metadata": {
    "collapsed": false
   }
  },
  {
   "cell_type": "code",
   "execution_count": 3,
   "outputs": [],
   "source": [
    "def gen_norm_data(terms_list, strategy):\n",
    "    normalized_terms_dict = dict()\n",
    "    for term in tqdm(terms_list):\n",
    "        term_name = term.simple_str()\n",
    "        normalized_terms_dict[term_name] = []\n",
    "        term_red_steps = 0\n",
    "        (step_term, _, _), norm_term = term.one_step_normalize_visual(strategy)\n",
    "        normalized_terms_dict[term_name].append(step_term.simple_str())\n",
    "\n",
    "        while norm_term:\n",
    "            normalized_terms_dict[term_name].append(norm_term.simple_str())\n",
    "            (step_term, _, _), norm_term = norm_term.one_step_normalize_visual(strategy)\n",
    "\n",
    "            # computation limitation\n",
    "            if (step_term.vertices_number > 3_000) or (term_red_steps > 400):\n",
    "                norm_term = None\n",
    "    return normalized_terms_dict"
   ],
   "metadata": {
    "collapsed": false,
    "ExecuteTime": {
     "start_time": "2023-10-23T14:36:35.541566Z",
     "end_time": "2023-10-23T14:36:35.561444Z"
    }
   }
  },
  {
   "cell_type": "code",
   "execution_count": 4,
   "outputs": [
    {
     "name": "stderr",
     "output_type": "stream",
     "text": [
      "100%|██████████| 226/226 [00:37<00:00,  6.05it/s] \n"
     ]
    }
   ],
   "source": [
    "res_OO = gen_norm_data(terms_LO, RIStrategy())"
   ],
   "metadata": {
    "collapsed": false,
    "ExecuteTime": {
     "start_time": "2023-10-23T14:36:37.397077Z",
     "end_time": "2023-10-23T14:37:14.800393Z"
    }
   }
  },
  {
   "cell_type": "code",
   "execution_count": 5,
   "outputs": [
    {
     "name": "stderr",
     "output_type": "stream",
     "text": [
      "100%|██████████| 223/223 [00:00<00:00, 266.93it/s]\n"
     ]
    }
   ],
   "source": [
    "res_IO = gen_norm_data(terms_RI, RIStrategy())"
   ],
   "metadata": {
    "collapsed": false,
    "ExecuteTime": {
     "start_time": "2023-10-23T14:37:14.801389Z",
     "end_time": "2023-10-23T14:37:15.654716Z"
    }
   }
  },
  {
   "cell_type": "markdown",
   "source": [
    "# Prepare the dataset"
   ],
   "metadata": {
    "collapsed": false
   }
  },
  {
   "cell_type": "code",
   "execution_count": 6,
   "outputs": [],
   "source": [
    "steps_lo = []\n",
    "simple_terms = []\n",
    "\n",
    "for res_ in (res_OO, res_IO):\n",
    "    for key_ in res_.keys():\n",
    "        list_red_steps = res_[key_]\n",
    "        total_steps = len(list_red_steps) - 1\n",
    "        for inx_ in range(total_steps + 1):\n",
    "            if list_red_steps[inx_] not in simple_terms:\n",
    "                simple_terms.append(list_red_steps[inx_])\n",
    "                steps_lo.append(total_steps - inx_)"
   ],
   "metadata": {
    "collapsed": false,
    "ExecuteTime": {
     "start_time": "2023-10-23T14:37:24.947367Z",
     "end_time": "2023-10-23T14:37:25.089436Z"
    }
   }
  },
  {
   "cell_type": "code",
   "execution_count": 7,
   "outputs": [],
   "source": [
    "df = pd.DataFrame({\"steps_num\": steps_lo, \"simple_terms\": simple_terms})\n",
    "df.to_csv(\"./data_RI/steps_simple_term_str.csv\", index=False)"
   ],
   "metadata": {
    "collapsed": false,
    "ExecuteTime": {
     "start_time": "2023-10-23T14:37:26.522111Z",
     "end_time": "2023-10-23T14:37:26.563091Z"
    }
   }
  },
  {
   "cell_type": "code",
   "execution_count": null,
   "outputs": [],
   "source": [],
   "metadata": {
    "collapsed": false
   }
  }
 ],
 "metadata": {
  "kernelspec": {
   "display_name": "Python 3",
   "language": "python",
   "name": "python3"
  },
  "language_info": {
   "codemirror_mode": {
    "name": "ipython",
    "version": 2
   },
   "file_extension": ".py",
   "mimetype": "text/x-python",
   "name": "python",
   "nbconvert_exporter": "python",
   "pygments_lexer": "ipython2",
   "version": "2.7.6"
  }
 },
 "nbformat": 4,
 "nbformat_minor": 0
}
