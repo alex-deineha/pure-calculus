{
 "cells": [
  {
   "cell_type": "code",
   "execution_count": 1,
   "metadata": {
    "collapsed": true,
    "ExecuteTime": {
     "start_time": "2023-10-23T18:04:21.468914Z",
     "end_time": "2023-10-23T18:04:21.496561Z"
    }
   },
   "outputs": [],
   "source": [
    "import sys\n",
    "import re\n",
    "from tqdm import tqdm\n",
    "\n",
    "import matplotlib.pyplot as plt\n",
    "import pandas as pd\n",
    "import seaborn as sns\n",
    "import numpy as np\n",
    "from collections import Counter\n",
    "\n",
    "sys.path.append(\"../../.\")\n",
    "from calculus_path_mod.term_engine import *\n",
    "from calculus_path_mod.reduction_strategy import *\n",
    "from calculus_path_mod.terms import num_comparison, nat_numbers, arithm_ops, combinators, pairs, logic\n",
    "from calculus_path_mod.terms.pseudonym import *\n",
    "\n",
    "from calculus_path_mod.json_serialization import load_terms"
   ]
  },
  {
   "cell_type": "markdown",
   "source": [
    "# Load Terms filtered by LO & RI"
   ],
   "metadata": {
    "collapsed": false
   }
  },
  {
   "cell_type": "code",
   "execution_count": 2,
   "outputs": [],
   "source": [
    "lists_terms_LO = [load_terms(f\"../../tests_11_retests/collected_terms/terms_210_filtered_LO_{inx_}.dat\") for inx_ in range(20)]"
   ],
   "metadata": {
    "collapsed": false,
    "ExecuteTime": {
     "start_time": "2023-10-23T14:39:20.784048Z",
     "end_time": "2023-10-23T14:39:22.013471Z"
    }
   }
  },
  {
   "cell_type": "markdown",
   "source": [
    "# Collect more terms with normalization process data for LO & LI strategies with terms_LO & terms_RI"
   ],
   "metadata": {
    "collapsed": false
   }
  },
  {
   "cell_type": "code",
   "execution_count": 3,
   "outputs": [],
   "source": [
    "def gen_norm_data(terms_list, strategy):\n",
    "    normalized_terms_dict = dict()\n",
    "    for term in tqdm(terms_list):\n",
    "        term_name = term.simple_str()\n",
    "        normalized_terms_dict[term_name] = []\n",
    "        term_red_steps = 0\n",
    "        (step_term, _, _), norm_term = term.one_step_normalize_visual(strategy)\n",
    "        normalized_terms_dict[term_name].append(step_term.simple_str())\n",
    "\n",
    "        while norm_term:\n",
    "            normalized_terms_dict[term_name].append(norm_term.simple_str())\n",
    "            (step_term, _, _), norm_term = norm_term.one_step_normalize_visual(strategy)\n",
    "\n",
    "            # computation limitation\n",
    "            if (step_term.vertices_number > 3_000) or (term_red_steps > 400):\n",
    "                norm_term = None\n",
    "    return normalized_terms_dict"
   ],
   "metadata": {
    "collapsed": false,
    "ExecuteTime": {
     "start_time": "2023-10-23T14:40:10.290742Z",
     "end_time": "2023-10-23T14:40:10.310295Z"
    }
   }
  },
  {
   "cell_type": "code",
   "execution_count": 4,
   "outputs": [
    {
     "name": "stderr",
     "output_type": "stream",
     "text": [
      " 83%|████████▎ | 192/231 [48:52<09:55, 15.28s/it]\n",
      "\n",
      "KeyboardInterrupt\n",
      "\n"
     ]
    }
   ],
   "source": [
    "list_res_OO = [gen_norm_data(terms_LO, RIStrategy()) for terms_LO in lists_terms_LO]"
   ],
   "metadata": {
    "collapsed": false,
    "ExecuteTime": {
     "start_time": "2023-10-23T14:28:24.237022Z",
     "end_time": "2023-10-23T14:29:38.141038Z"
    }
   }
  },
  {
   "cell_type": "markdown",
   "source": [
    "# Prepare the dataset"
   ],
   "metadata": {
    "collapsed": false
   }
  },
  {
   "cell_type": "code",
   "execution_count": null,
   "outputs": [],
   "source": [
    "steps_lo = []\n",
    "simple_terms = []\n",
    "\n",
    "for res_ in list_res_OO:\n",
    "    for key_ in res_.keys():\n",
    "        list_red_steps = res_[key_]\n",
    "        total_steps = len(list_red_steps) - 1\n",
    "        for inx_ in range(total_steps + 1):\n",
    "            if list_red_steps[inx_] not in simple_terms:\n",
    "                simple_terms.append(list_red_steps[inx_])\n",
    "                steps_lo.append(total_steps - inx_)"
   ],
   "metadata": {
    "collapsed": false,
    "ExecuteTime": {
     "start_time": "2023-10-23T14:29:54.074593Z",
     "end_time": "2023-10-23T14:30:10.907006Z"
    }
   }
  },
  {
   "cell_type": "code",
   "execution_count": null,
   "outputs": [],
   "source": [
    "df = pd.DataFrame({\"steps_num\": steps_lo, \"simple_terms\": simple_terms})\n",
    "print(len(df))\n",
    "df = df.drop_duplicates(subset=\"simple_terms\")\n",
    "print(len(df))"
   ],
   "metadata": {
    "collapsed": false,
    "ExecuteTime": {
     "start_time": "2023-10-23T14:30:15.287275Z",
     "end_time": "2023-10-23T14:30:15.348109Z"
    }
   }
  },
  {
   "cell_type": "code",
   "execution_count": null,
   "outputs": [],
   "source": [
    "len(set(df[\"simple_terms\"]))"
   ],
   "metadata": {
    "collapsed": false,
    "ExecuteTime": {
     "start_time": "2023-10-23T14:30:16.447320Z",
     "end_time": "2023-10-23T14:30:16.505759Z"
    }
   }
  },
  {
   "cell_type": "code",
   "execution_count": null,
   "outputs": [],
   "source": [
    "df.to_csv(\"./data_RI/steps_simple_term_str_extended.csv\", index=False)"
   ],
   "metadata": {
    "collapsed": false,
    "ExecuteTime": {
     "start_time": "2023-10-23T14:30:20.227188Z",
     "end_time": "2023-10-23T14:30:20.780960Z"
    }
   }
  },
  {
   "cell_type": "code",
   "execution_count": null,
   "outputs": [],
   "source": [],
   "metadata": {
    "collapsed": false
   }
  },
  {
   "cell_type": "code",
   "execution_count": 2,
   "outputs": [],
   "source": [
    "all_data = pd.read_csv(\"data_RI/steps_simple_term_str_extended_v1_0_2.csv\", delimiter=',')\n",
    "all_data = pd.concat([all_data, pd.read_csv(\"data_RI/steps_simple_term_str_extended_v1_3_5.csv\", delimiter=',')])\n",
    "all_data = pd.concat([all_data, pd.read_csv(\"data_RI/steps_simple_term_str_extended_v1_6_8.csv\", delimiter=',')])\n",
    "all_data = pd.concat([all_data, pd.read_csv(\"data_RI/steps_simple_term_str_extended_v1_9_11.csv\", delimiter=',')])\n",
    "all_data = pd.concat([all_data, pd.read_csv(\"data_RI/steps_simple_term_str_extended_v1_12_14.csv\", delimiter=',')])\n",
    "all_data = pd.concat([all_data, pd.read_csv(\"data_RI/steps_simple_term_str_extended_v1_15_17.csv\", delimiter=',')])\n",
    "all_data = pd.concat([all_data, pd.read_csv(\"data_RI/steps_simple_term_str_extended_v1_18_19.csv\", delimiter=',')])"
   ],
   "metadata": {
    "collapsed": false,
    "ExecuteTime": {
     "start_time": "2023-10-23T18:04:21.493559Z",
     "end_time": "2023-10-23T18:04:22.395370Z"
    }
   }
  },
  {
   "cell_type": "code",
   "execution_count": 3,
   "outputs": [
    {
     "name": "stdout",
     "output_type": "stream",
     "text": [
      "63632\n",
      "62347\n"
     ]
    }
   ],
   "source": [
    "print(len(all_data))\n",
    "all_data = all_data.drop_duplicates(subset=\"simple_terms\")\n",
    "print(len(all_data))"
   ],
   "metadata": {
    "collapsed": false,
    "ExecuteTime": {
     "start_time": "2023-10-23T18:05:20.718901Z",
     "end_time": "2023-10-23T18:05:20.781192Z"
    }
   }
  },
  {
   "cell_type": "code",
   "execution_count": 4,
   "outputs": [],
   "source": [
    "all_data.to_csv(\"data_RI/steps_simple_term_str_extended.csv\")"
   ],
   "metadata": {
    "collapsed": false,
    "ExecuteTime": {
     "start_time": "2023-10-23T18:05:24.834432Z",
     "end_time": "2023-10-23T18:05:26.423512Z"
    }
   }
  }
 ],
 "metadata": {
  "kernelspec": {
   "display_name": "Python 3",
   "language": "python",
   "name": "python3"
  },
  "language_info": {
   "codemirror_mode": {
    "name": "ipython",
    "version": 2
   },
   "file_extension": ".py",
   "mimetype": "text/x-python",
   "name": "python",
   "nbconvert_exporter": "python",
   "pygments_lexer": "ipython2",
   "version": "2.7.6"
  }
 },
 "nbformat": 4,
 "nbformat_minor": 0
}
