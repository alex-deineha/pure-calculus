{
 "cells": [
  {
   "cell_type": "markdown",
   "source": [
    "# Import the dependencies"
   ],
   "metadata": {
    "collapsed": false
   }
  },
  {
   "cell_type": "code",
   "execution_count": 1,
   "outputs": [],
   "source": [
    "import re\n",
    "import random\n",
    "import numpy as np\n",
    "import pandas as pd\n",
    "\n",
    "from tqdm import tqdm\n",
    "from collections import Counter\n",
    "\n",
    "import tensorflow as tf\n",
    "from keras.models import Sequential\n",
    "from keras.layers import Dense, Dropout, Flatten, LSTM, Conv1D, GlobalMaxPooling1D, MaxPooling1D\n",
    "from keras.callbacks import ModelCheckpoint\n",
    "\n",
    "from sklearn.utils import shuffle\n",
    "from sklearn.model_selection import train_test_split\n",
    "from sklearn.preprocessing import LabelBinarizer\n",
    "\n",
    "from sklearn.metrics import mean_squared_error\n",
    "from sklearn.metrics import mean_absolute_error\n",
    "from sklearn.metrics import explained_variance_score\n",
    "\n",
    "from matplotlib import pyplot as plt\n",
    "\n",
    "import sys\n",
    "import time\n",
    "\n",
    "sys.path.append(\"../\")\n",
    "from calculus_path_mod.terms.pseudonym import *\n",
    "from calculus_path_mod.reduction_strategy import *\n",
    "from calculus_path_mod.terms.arithm_complex_ops import *"
   ],
   "metadata": {
    "collapsed": false,
    "ExecuteTime": {
     "start_time": "2023-09-11T17:40:41.327140Z",
     "end_time": "2023-09-11T17:41:03.930733Z"
    }
   }
  },
  {
   "cell_type": "code",
   "execution_count": 2,
   "outputs": [],
   "source": [
    "epochs = 50\n",
    "onehot_dims = 4\n",
    "maxlen = 500\n",
    "num_neurons = 256\n",
    "filters = 50\n",
    "kernel_size = 4\n",
    "pooling_kernel_size = 4"
   ],
   "metadata": {
    "collapsed": false,
    "ExecuteTime": {
     "start_time": "2023-09-11T17:41:03.916506Z",
     "end_time": "2023-09-11T17:41:03.932763Z"
    }
   }
  },
  {
   "cell_type": "markdown",
   "source": [
    "# Load & Prepare the data"
   ],
   "metadata": {
    "collapsed": false
   }
  },
  {
   "cell_type": "code",
   "execution_count": 3,
   "outputs": [],
   "source": [
    "enc_dict = {\"(\": [1.0, .0, .0, .0],\n",
    "            \")\": [.0, 1.0, .0, .0],\n",
    "            \"x\": [.0, .0, 1.0, .0],\n",
    "            \"@x.\": [.0, .0, .0, 1.0]}\n",
    "tokens_pattern = r\"(\\(|\\)|@x\\.|x)\"\n",
    "\n",
    "\n",
    "def tokenize_data(simplified_term):\n",
    "    return re.findall(tokens_pattern, simplified_term)\n",
    "\n",
    "\n",
    "def tokenize_and_vectorize(x_data):\n",
    "    vectorized_data_ = []\n",
    "    for sample_ in x_data:\n",
    "        tokens_ = tokenize_data(sample_)\n",
    "        sample_vecs_ = []\n",
    "        for token_ in tokens_:\n",
    "            try:\n",
    "                sample_vecs_.append(enc_dict[token_])\n",
    "            except KeyError:\n",
    "                pass\n",
    "        vectorized_data_.append(sample_vecs_)\n",
    "    return vectorized_data_"
   ],
   "metadata": {
    "collapsed": false,
    "ExecuteTime": {
     "start_time": "2023-09-11T17:41:03.932763Z",
     "end_time": "2023-09-11T17:41:03.944443Z"
    }
   }
  },
  {
   "cell_type": "code",
   "execution_count": 4,
   "outputs": [
    {
     "name": "stdout",
     "output_type": "stream",
     "text": [
      "Count all terms: 4251\n",
      "\n",
      "Count original terms: 4251\n",
      "\n",
      "max steps count: 30\n",
      "min steps count: 0\n",
      "Count training samples: 2952\n",
      "Count testing samples: 739\n"
     ]
    }
   ],
   "source": [
    "all_data = pd.read_csv(\"../lstm_lo_steps_prediction/data/steps_simple_term_str.csv\", delimiter=',')\n",
    "\n",
    "# leave only unique terms\n",
    "print(f\"Count all terms: {len(all_data)}\\n\")\n",
    "all_data = all_data.drop_duplicates(subset=\"simple_terms\").reset_index(drop=True)\n",
    "print(f\"Count original terms: {len(all_data)}\\n\")\n",
    "\n",
    "# shuffle the dataset\n",
    "all_data = shuffle(all_data, random_state=33).reset_index(drop=True)\n",
    "\n",
    "# filter out steps_lo that are more than 30\n",
    "all_data = all_data[[steps_lo < 31 for steps_lo in all_data['steps_num_lo']]]\n",
    "\n",
    "print(f\"max steps count: {max(all_data['steps_num_lo'])}\")\n",
    "print(f\"min steps count: {min(all_data['steps_num_lo'])}\")\n",
    "\n",
    "# make test/train split\n",
    "x_train, x_test, y_train, y_test = train_test_split(all_data[\"simple_terms\"].tolist(), all_data[\"steps_num_lo\"].tolist(),\n",
    "                                                    test_size=0.2, random_state=42)\n",
    "\n",
    "print(f\"Count training samples: {len(y_train)}\")\n",
    "print(f\"Count testing samples: {len(y_test)}\")"
   ],
   "metadata": {
    "collapsed": false,
    "ExecuteTime": {
     "start_time": "2023-09-11T17:41:03.949452Z",
     "end_time": "2023-09-11T17:41:04.027923Z"
    }
   }
  },
  {
   "cell_type": "code",
   "execution_count": 5,
   "outputs": [],
   "source": [
    "# one-hot encode y-data\n",
    "encoder = LabelBinarizer()\n",
    "encoder.fit(range(0, 31))\n",
    "y_train = encoder.transform(y_train)\n",
    "y_test = encoder.transform(y_test)\n",
    "\n",
    "x_train = tokenize_and_vectorize(x_train)\n",
    "x_test = tokenize_and_vectorize(x_test)"
   ],
   "metadata": {
    "collapsed": false,
    "ExecuteTime": {
     "start_time": "2023-09-11T17:41:03.991333Z",
     "end_time": "2023-09-11T17:41:04.142628Z"
    }
   }
  },
  {
   "cell_type": "code",
   "execution_count": 6,
   "outputs": [],
   "source": [
    "xy_train_data = list(zip(x_train, y_train))\n",
    "xy_test_data = list(zip(x_test, y_test))"
   ],
   "metadata": {
    "collapsed": false,
    "ExecuteTime": {
     "start_time": "2023-09-11T17:41:04.131783Z",
     "end_time": "2023-09-11T17:41:04.149466Z"
    }
   }
  },
  {
   "cell_type": "code",
   "execution_count": 7,
   "outputs": [
    {
     "name": "stdout",
     "output_type": "stream",
     "text": [
      "len(test_data) = 739\n",
      "len(train_data) = 2952\n"
     ]
    }
   ],
   "source": [
    "print(f\"len(test_data) = {len(xy_test_data)}\")\n",
    "print(f\"len(train_data) = {len(xy_train_data)}\")"
   ],
   "metadata": {
    "collapsed": false,
    "ExecuteTime": {
     "start_time": "2023-09-11T17:41:04.146227Z",
     "end_time": "2023-09-11T17:41:04.160601Z"
    }
   }
  },
  {
   "cell_type": "code",
   "execution_count": 8,
   "outputs": [],
   "source": [
    "def train_generator():\n",
    "    while True:\n",
    "        random.shuffle(xy_train_data)\n",
    "        for xtd, ytd in xy_train_data:\n",
    "            yield np.array([xtd]), np.array([ytd])\n",
    "\n",
    "\n",
    "def val_generator():\n",
    "    while True:\n",
    "        for xtd, ytd in xy_test_data:\n",
    "            yield np.array([xtd]), np.array([ytd])"
   ],
   "metadata": {
    "collapsed": false,
    "ExecuteTime": {
     "start_time": "2023-09-11T17:41:04.162610Z",
     "end_time": "2023-09-11T17:41:04.265132Z"
    }
   }
  },
  {
   "cell_type": "markdown",
   "source": [
    "# Define the model"
   ],
   "metadata": {
    "collapsed": false
   }
  },
  {
   "cell_type": "code",
   "execution_count": 9,
   "outputs": [],
   "source": [
    "model = Sequential()\n",
    "\n",
    "model.add(Conv1D(\n",
    "    filters=filters,\n",
    "    kernel_size=kernel_size,\n",
    "    padding='valid',\n",
    "    activation='relu',\n",
    "    strides=1,\n",
    "    input_shape=(None, onehot_dims)\n",
    "))\n",
    "\n",
    "model.add(LSTM(units=num_neurons))\n",
    "model.add(Dense(units=num_neurons, activation='relu'))\n",
    "model.add(Dense(units=31, activation='softmax'))\n"
   ],
   "metadata": {
    "collapsed": false,
    "ExecuteTime": {
     "start_time": "2023-09-11T17:41:04.178755Z",
     "end_time": "2023-09-11T17:41:05.594819Z"
    }
   }
  },
  {
   "cell_type": "code",
   "execution_count": 10,
   "outputs": [
    {
     "name": "stdout",
     "output_type": "stream",
     "text": [
      "Model: \"sequential\"\n",
      "_________________________________________________________________\n",
      " Layer (type)                Output Shape              Param #   \n",
      "=================================================================\n",
      " conv1d (Conv1D)             (None, None, 50)          850       \n",
      "                                                                 \n",
      " lstm (LSTM)                 (None, 256)               314368    \n",
      "                                                                 \n",
      " dense (Dense)               (None, 256)               65792     \n",
      "                                                                 \n",
      " dense_1 (Dense)             (None, 31)                7967      \n",
      "                                                                 \n",
      "=================================================================\n",
      "Total params: 388,977\n",
      "Trainable params: 388,977\n",
      "Non-trainable params: 0\n",
      "_________________________________________________________________\n"
     ]
    }
   ],
   "source": [
    "model.compile(loss='categorical_crossentropy',\n",
    "              optimizer='adam',\n",
    "              metrics=['accuracy'])\n",
    "model.summary()"
   ],
   "metadata": {
    "collapsed": false,
    "ExecuteTime": {
     "start_time": "2023-09-11T17:41:05.596819Z",
     "end_time": "2023-09-11T17:41:05.707418Z"
    }
   }
  },
  {
   "cell_type": "code",
   "execution_count": 11,
   "outputs": [],
   "source": [
    "model_structure = model.to_json()\n",
    "with open(\"./fine_models/v0_conv_lstm.json\", 'w') as json_file:\n",
    "    json_file.write(model_structure)"
   ],
   "metadata": {
    "collapsed": false,
    "ExecuteTime": {
     "start_time": "2023-09-11T17:41:05.642580Z",
     "end_time": "2023-09-11T17:41:05.709011Z"
    }
   }
  },
  {
   "cell_type": "code",
   "execution_count": 12,
   "outputs": [],
   "source": [
    "# Define the ModelCheckpoint callback\n",
    "checkpoint_callback = ModelCheckpoint(\n",
    "    filepath='./fine_models/v0_conv_lstm.h5',  # Specify the path to save the best model\n",
    "    monitor='val_accuracy',  # Metric to monitor (e.g., validation loss)\n",
    "    save_best_only=True,  # Save only the best model\n",
    "    mode='max',  # 'min' or 'max' depending on the monitored metric\n",
    "    verbose=0  # Print a message when saving the model\n",
    ")"
   ],
   "metadata": {
    "collapsed": false,
    "ExecuteTime": {
     "start_time": "2023-09-11T17:41:05.657657Z",
     "end_time": "2023-09-11T17:41:05.709011Z"
    }
   }
  },
  {
   "cell_type": "code",
   "execution_count": 13,
   "outputs": [
    {
     "name": "stdout",
     "output_type": "stream",
     "text": [
      "Epoch 1/50\n",
      "2952/2952 [==============================] - 65s 20ms/step - loss: 2.9917 - accuracy: 0.1043 - val_loss: 2.9582 - val_accuracy: 0.1096\n",
      "Epoch 2/50\n",
      "2952/2952 [==============================] - 54s 18ms/step - loss: 2.9233 - accuracy: 0.0989 - val_loss: 2.9029 - val_accuracy: 0.1015\n",
      "Epoch 3/50\n",
      "2952/2952 [==============================] - 51s 17ms/step - loss: 2.7022 - accuracy: 0.1430 - val_loss: 2.5566 - val_accuracy: 0.1732\n",
      "Epoch 4/50\n",
      "2952/2952 [==============================] - 49s 17ms/step - loss: 2.4635 - accuracy: 0.1829 - val_loss: 2.4366 - val_accuracy: 0.2043\n",
      "Epoch 5/50\n",
      "2952/2952 [==============================] - 51s 17ms/step - loss: 2.2962 - accuracy: 0.2371 - val_loss: 2.3529 - val_accuracy: 0.2558\n",
      "Epoch 6/50\n",
      "2952/2952 [==============================] - 50s 17ms/step - loss: 2.2357 - accuracy: 0.2476 - val_loss: 2.2542 - val_accuracy: 0.2490\n",
      "Epoch 7/50\n",
      "2952/2952 [==============================] - 50s 17ms/step - loss: 2.1980 - accuracy: 0.2693 - val_loss: 2.1694 - val_accuracy: 0.2963\n",
      "Epoch 8/50\n",
      "2952/2952 [==============================] - 49s 17ms/step - loss: 2.1340 - accuracy: 0.2818 - val_loss: 2.1695 - val_accuracy: 0.3139\n",
      "Epoch 9/50\n",
      "2952/2952 [==============================] - 53s 18ms/step - loss: 2.0906 - accuracy: 0.2822 - val_loss: 2.0770 - val_accuracy: 0.2977\n",
      "Epoch 10/50\n",
      "2952/2952 [==============================] - 50s 17ms/step - loss: 2.0341 - accuracy: 0.2995 - val_loss: 2.1022 - val_accuracy: 0.2909\n",
      "Epoch 11/50\n",
      "2952/2952 [==============================] - 51s 17ms/step - loss: 1.9663 - accuracy: 0.3238 - val_loss: 2.0125 - val_accuracy: 0.2882\n",
      "Epoch 12/50\n",
      "2952/2952 [==============================] - 51s 17ms/step - loss: 1.8955 - accuracy: 0.3222 - val_loss: 2.0385 - val_accuracy: 0.2977\n",
      "Epoch 13/50\n",
      "2952/2952 [==============================] - 52s 18ms/step - loss: 1.8059 - accuracy: 0.3381 - val_loss: 1.9318 - val_accuracy: 0.3058\n",
      "Epoch 14/50\n",
      "2952/2952 [==============================] - 52s 18ms/step - loss: 1.7498 - accuracy: 0.3584 - val_loss: 1.9148 - val_accuracy: 0.3221\n",
      "Epoch 15/50\n",
      "2952/2952 [==============================] - 49s 17ms/step - loss: 1.6864 - accuracy: 0.3760 - val_loss: 1.8967 - val_accuracy: 0.3139\n",
      "Epoch 16/50\n",
      "2952/2952 [==============================] - 54s 18ms/step - loss: 1.6109 - accuracy: 0.3936 - val_loss: 1.8688 - val_accuracy: 0.3464\n",
      "Epoch 17/50\n",
      "2952/2952 [==============================] - 51s 17ms/step - loss: 1.5430 - accuracy: 0.4072 - val_loss: 2.0270 - val_accuracy: 0.3275\n",
      "Epoch 18/50\n",
      "2952/2952 [==============================] - 52s 18ms/step - loss: 1.4928 - accuracy: 0.4241 - val_loss: 1.9003 - val_accuracy: 0.3424\n",
      "Epoch 19/50\n",
      "2952/2952 [==============================] - 52s 18ms/step - loss: 1.4246 - accuracy: 0.4539 - val_loss: 1.9403 - val_accuracy: 0.3288\n",
      "Epoch 20/50\n",
      "2952/2952 [==============================] - 52s 17ms/step - loss: 1.3796 - accuracy: 0.4583 - val_loss: 1.9029 - val_accuracy: 0.3708\n",
      "Epoch 21/50\n",
      "2952/2952 [==============================] - 52s 18ms/step - loss: 1.3128 - accuracy: 0.4841 - val_loss: 2.1324 - val_accuracy: 0.3735\n",
      "Epoch 22/50\n",
      "2952/2952 [==============================] - 50s 17ms/step - loss: 1.2825 - accuracy: 0.4973 - val_loss: 1.9692 - val_accuracy: 0.3816\n",
      "Epoch 23/50\n",
      "2952/2952 [==============================] - 52s 18ms/step - loss: 1.2253 - accuracy: 0.5220 - val_loss: 2.1444 - val_accuracy: 0.3721\n",
      "Epoch 24/50\n",
      "2952/2952 [==============================] - 53s 18ms/step - loss: 1.1937 - accuracy: 0.5183 - val_loss: 1.9840 - val_accuracy: 0.3505\n",
      "Epoch 25/50\n",
      "2952/2952 [==============================] - 53s 18ms/step - loss: 1.1564 - accuracy: 0.5569 - val_loss: 2.1670 - val_accuracy: 0.3451\n",
      "Epoch 26/50\n",
      "2952/2952 [==============================] - 55s 19ms/step - loss: 1.1003 - accuracy: 0.5620 - val_loss: 2.3242 - val_accuracy: 0.3667\n",
      "Epoch 27/50\n",
      "2952/2952 [==============================] - 54s 18ms/step - loss: 1.1047 - accuracy: 0.5596 - val_loss: 2.2083 - val_accuracy: 0.3532\n",
      "Epoch 28/50\n",
      "2952/2952 [==============================] - 53s 18ms/step - loss: 1.0337 - accuracy: 0.5857 - val_loss: 2.2921 - val_accuracy: 0.3735\n",
      "Epoch 29/50\n",
      "2952/2952 [==============================] - 50s 17ms/step - loss: 1.0040 - accuracy: 0.5982 - val_loss: 2.4739 - val_accuracy: 0.3410\n",
      "Epoch 30/50\n",
      "2952/2952 [==============================] - 51s 17ms/step - loss: 0.9888 - accuracy: 0.6037 - val_loss: 2.8962 - val_accuracy: 0.3559\n",
      "Epoch 31/50\n",
      "2952/2952 [==============================] - 50s 17ms/step - loss: 0.9581 - accuracy: 0.6267 - val_loss: 2.6401 - val_accuracy: 0.3802\n",
      "Epoch 32/50\n",
      "2952/2952 [==============================] - 48s 16ms/step - loss: 0.9445 - accuracy: 0.6236 - val_loss: 3.0257 - val_accuracy: 0.3518\n",
      "Epoch 33/50\n",
      "2952/2952 [==============================] - 48s 16ms/step - loss: 0.9216 - accuracy: 0.6382 - val_loss: 2.5067 - val_accuracy: 0.3802\n",
      "Epoch 34/50\n",
      "2952/2952 [==============================] - 48s 16ms/step - loss: 0.8698 - accuracy: 0.6463 - val_loss: 2.7546 - val_accuracy: 0.3694\n",
      "Epoch 35/50\n",
      "2952/2952 [==============================] - 48s 16ms/step - loss: 0.8737 - accuracy: 0.6548 - val_loss: 2.7237 - val_accuracy: 0.3248\n",
      "Epoch 36/50\n",
      "2952/2952 [==============================] - 48s 16ms/step - loss: 0.8403 - accuracy: 0.6606 - val_loss: 2.6193 - val_accuracy: 0.3627\n",
      "Epoch 37/50\n",
      "2952/2952 [==============================] - 48s 16ms/step - loss: 0.8183 - accuracy: 0.6758 - val_loss: 2.7968 - val_accuracy: 0.3748\n",
      "Epoch 38/50\n",
      "2952/2952 [==============================] - 50s 17ms/step - loss: 0.7788 - accuracy: 0.6890 - val_loss: 3.0020 - val_accuracy: 0.3478\n",
      "Epoch 39/50\n",
      "2952/2952 [==============================] - 50s 17ms/step - loss: 0.7979 - accuracy: 0.6799 - val_loss: 2.9319 - val_accuracy: 0.3437\n",
      "Epoch 40/50\n",
      "2952/2952 [==============================] - 48s 16ms/step - loss: 0.8117 - accuracy: 0.6826 - val_loss: 2.9388 - val_accuracy: 0.3559\n",
      "Epoch 41/50\n",
      "2952/2952 [==============================] - 50s 17ms/step - loss: 0.7519 - accuracy: 0.7070 - val_loss: 3.1653 - val_accuracy: 0.3545\n",
      "Epoch 42/50\n",
      "2952/2952 [==============================] - 48s 16ms/step - loss: 0.7266 - accuracy: 0.7063 - val_loss: 3.1520 - val_accuracy: 0.3424\n",
      "Epoch 43/50\n",
      "2952/2952 [==============================] - 48s 16ms/step - loss: 0.7248 - accuracy: 0.7080 - val_loss: 3.2441 - val_accuracy: 0.3599\n",
      "Epoch 44/50\n",
      "2952/2952 [==============================] - 48s 16ms/step - loss: 0.7211 - accuracy: 0.7202 - val_loss: 3.3173 - val_accuracy: 0.3586\n",
      "Epoch 45/50\n",
      "2952/2952 [==============================] - 50s 17ms/step - loss: 0.6750 - accuracy: 0.7327 - val_loss: 3.4994 - val_accuracy: 0.3342\n",
      "Epoch 46/50\n",
      "2952/2952 [==============================] - 48s 16ms/step - loss: 0.6877 - accuracy: 0.7276 - val_loss: 3.3390 - val_accuracy: 0.3410\n",
      "Epoch 47/50\n",
      "2952/2952 [==============================] - 47s 16ms/step - loss: 0.6964 - accuracy: 0.7290 - val_loss: 3.6998 - val_accuracy: 0.3586\n",
      "Epoch 48/50\n",
      "2952/2952 [==============================] - 48s 16ms/step - loss: 0.6338 - accuracy: 0.7497 - val_loss: 3.7642 - val_accuracy: 0.3451\n",
      "Epoch 49/50\n",
      "2952/2952 [==============================] - 47s 16ms/step - loss: 0.6665 - accuracy: 0.7344 - val_loss: 3.6501 - val_accuracy: 0.3532\n",
      "Epoch 50/50\n",
      "2952/2952 [==============================] - 47s 16ms/step - loss: 0.6344 - accuracy: 0.7429 - val_loss: 3.7597 - val_accuracy: 0.3667\n"
     ]
    }
   ],
   "source": [
    "history = model.fit(train_generator(), steps_per_epoch=2952, validation_data=val_generator(), validation_steps=739, epochs=epochs, verbose=1, callbacks=[checkpoint_callback])"
   ],
   "metadata": {
    "collapsed": false,
    "ExecuteTime": {
     "start_time": "2023-09-11T17:41:05.674292Z",
     "end_time": "2023-09-11T18:23:18.231188Z"
    }
   }
  },
  {
   "cell_type": "code",
   "execution_count": 14,
   "outputs": [
    {
     "data": {
      "text/plain": "<Figure size 640x480 with 1 Axes>",
      "image/png": "[encoded data removed]"
     },
     "metadata": {},
     "output_type": "display_data"
    }
   ],
   "source": [
    "plt.plot(range(1, epochs + 1), history.history['loss'], label=\"loss\")\n",
    "plt.plot(range(1, epochs + 1), history.history['val_loss'], label=\"val_loss\")\n",
    "plt.xlabel(\"epochs\")\n",
    "plt.title(\"total loss\")\n",
    "\n",
    "plt.legend()\n",
    "plt.show()"
   ],
   "metadata": {
    "collapsed": false,
    "ExecuteTime": {
     "start_time": "2023-09-11T18:33:07.682486Z",
     "end_time": "2023-09-11T18:33:07.980660Z"
    }
   }
  },
  {
   "cell_type": "code",
   "execution_count": 15,
   "outputs": [
    {
     "data": {
      "text/plain": "<Figure size 640x480 with 1 Axes>",
      "image/png": "[encoded data removed]"
     },
     "metadata": {},
     "output_type": "display_data"
    }
   ],
   "source": [
    "plt.plot(range(1, epochs + 1), history.history['accuracy'], label=\"accuracy\")\n",
    "plt.plot(range(1, epochs + 1), history.history['val_accuracy'], label=\"val_accuracy\")\n",
    "plt.xlabel(\"epochs\")\n",
    "plt.title(\"total accuracy\")\n",
    "\n",
    "plt.legend()\n",
    "plt.show()"
   ],
   "metadata": {
    "collapsed": false,
    "ExecuteTime": {
     "start_time": "2023-09-11T18:33:08.436577Z",
     "end_time": "2023-09-11T18:33:08.586711Z"
    }
   }
  },
  {
   "cell_type": "code",
   "execution_count": 16,
   "outputs": [],
   "source": [
    "def draw_pred_lines(y_pred, y_real):\n",
    "    drawing_df = pd.DataFrame({\"Pred\": y_pred, \"Real\": y_real})\n",
    "    drawing_df = drawing_df.sort_values(\"Real\").reset_index(drop=True)\n",
    "\n",
    "    for key_, val_ in drawing_df.items():\n",
    "        plt.plot(range(len(val_)), val_, label=key_)\n",
    "\n",
    "    plt.xlabel(\"No\")\n",
    "    plt.ylabel(\"Redexes count\")\n",
    "    plt.title(\"Pred vs Real Step Time\")\n",
    "    plt.legend()\n",
    "    plt.show()\n",
    "\n",
    "\n",
    "def calculate_accuracy(actual_labels, predicted_labels):\n",
    "    correct_predictions = sum(1 for actual, predicted in zip(actual_labels, predicted_labels) if actual == predicted)\n",
    "    total_predictions = len(actual_labels)\n",
    "    accuracy = correct_predictions / total_predictions\n",
    "    return accuracy"
   ],
   "metadata": {
    "collapsed": false,
    "ExecuteTime": {
     "start_time": "2023-09-11T18:33:20.494180Z",
     "end_time": "2023-09-11T18:33:20.508290Z"
    }
   }
  },
  {
   "cell_type": "code",
   "execution_count": null,
   "outputs": [],
   "source": [],
   "metadata": {
    "collapsed": false,
    "ExecuteTime": {
     "start_time": "2023-09-08T19:30:37.038496Z",
     "end_time": "2023-09-08T19:30:37.055811Z"
    }
   }
  },
  {
   "cell_type": "code",
   "execution_count": 17,
   "outputs": [
    {
     "name": "stderr",
     "output_type": "stream",
     "text": [
      "100%|██████████| 739/739 [00:52<00:00, 13.97it/s]\n"
     ]
    },
    {
     "name": "stdout",
     "output_type": "stream",
     "text": [
      "Test accuracy: 0.36671177266576455\n"
     ]
    },
    {
     "data": {
      "text/plain": "<Figure size 640x480 with 1 Axes>",
      "image/png": "[encoded data removed]"
     },
     "metadata": {},
     "output_type": "display_data"
    }
   ],
   "source": [
    "y_test_pred = []\n",
    "for x_ in tqdm(x_test):\n",
    "    y_test_pred.append(model.predict(np.array([x_]), verbose=0)[0])\n",
    "\n",
    "\n",
    "y_test_pred_nums = encoder.inverse_transform(np.array(y_test_pred))\n",
    "y_test_nums = encoder.inverse_transform(y_test)\n",
    "\n",
    "print(\"Test accuracy:\", calculate_accuracy(y_test_nums, y_test_pred_nums))\n",
    "draw_pred_lines(y_test_pred_nums, y_test_nums)"
   ],
   "metadata": {
    "collapsed": false,
    "ExecuteTime": {
     "start_time": "2023-09-11T18:33:23.112735Z",
     "end_time": "2023-09-11T18:34:16.253109Z"
    }
   }
  },
  {
   "cell_type": "code",
   "execution_count": 18,
   "outputs": [
    {
     "name": "stderr",
     "output_type": "stream",
     "text": [
      "100%|██████████| 2952/2952 [03:10<00:00, 15.50it/s]\n"
     ]
    },
    {
     "name": "stdout",
     "output_type": "stream",
     "text": [
      "Train accuracy: 0.7831978319783198\n"
     ]
    },
    {
     "data": {
      "text/plain": "<Figure size 640x480 with 1 Axes>",
      "image/png": "[encoded data removed]"
     },
     "metadata": {},
     "output_type": "display_data"
    }
   ],
   "source": [
    "y_train_pred = []\n",
    "for x_ in tqdm(x_train):\n",
    "    y_train_pred.append(model.predict(np.array([x_]), verbose=0)[0])\n",
    "\n",
    "\n",
    "y_train_pred_nums = encoder.inverse_transform(np.array(y_train_pred))\n",
    "y_train_nums = encoder.inverse_transform(y_train)\n",
    "\n",
    "print(\"Train accuracy:\", calculate_accuracy(y_train_nums, y_train_pred_nums))\n",
    "draw_pred_lines(y_train_pred_nums, y_train_nums)"
   ],
   "metadata": {
    "collapsed": false,
    "ExecuteTime": {
     "start_time": "2023-09-11T18:34:16.197701Z",
     "end_time": "2023-09-11T18:37:26.805284Z"
    }
   }
  },
  {
   "cell_type": "code",
   "execution_count": null,
   "outputs": [],
   "source": [],
   "metadata": {
    "collapsed": false,
    "ExecuteTime": {
     "start_time": "2023-09-08T19:33:55.333887Z",
     "end_time": "2023-09-08T19:33:55.390714Z"
    }
   }
  },
  {
   "cell_type": "code",
   "execution_count": null,
   "outputs": [],
   "source": [
    "def ite_term():\n",
    "    x, y, c = Var(), Var(), Var()\n",
    "    x_, y_, c_ = Atom(x), Atom(y), Atom(c)\n",
    "    return Lambda(c, Lambda(x, Lambda(y, multi_app_term(c_, x_, y_))))\n",
    "\n",
    "\n",
    "def true_term():\n",
    "    x, y = Var(), Var()\n",
    "    x_ = Atom(x)\n",
    "    return Lambda(x, Lambda(y, x_))\n",
    "\n",
    "\n",
    "def num_zero_term():\n",
    "    s, z = Var(), Var()\n",
    "    z_ = Atom(z)\n",
    "    return Lambda(s, Lambda(z, z_))\n",
    "\n",
    "\n",
    "def num_term(n: int):\n",
    "    if n <= 0:\n",
    "        return num_zero_term()\n",
    "    s, z = Var(), Var()\n",
    "    s_, z_ = Atom(s), Atom(z)\n",
    "    core_term = App(s_, z_)\n",
    "    for _ in range(n - 1):\n",
    "        core_term = App(s_, core_term)\n",
    "    return Lambda(s, Lambda(z, core_term))\n",
    "\n",
    "\n",
    "def multi_app_term(term_0: Term, term_1: Term, *terms: Term):\n",
    "    res_app_term = App(term_0, term_1)\n",
    "    for term in terms:\n",
    "        res_app_term = App(res_app_term, term)\n",
    "    return res_app_term\n",
    "\n",
    "\n",
    "def false_term():\n",
    "    x, y = Var(), Var()\n",
    "    y_ = Atom(y)\n",
    "    return Lambda(x, Lambda(y, y_))\n",
    "\n",
    "\n",
    "def pair_term():\n",
    "    x, y, p = Var(), Var(), Var()\n",
    "    x_, y_, p_ = Atom(x), Atom(y), Atom(p)\n",
    "    return Lambda(x, Lambda(y, Lambda(p, multi_app_term(p_, x_, y_))))\n",
    "\n",
    "\n",
    "def first_term():\n",
    "    p = Var()\n",
    "    p_ = Atom(p)\n",
    "    return Lambda(p, App(p_, true_term()))\n",
    "\n",
    "\n",
    "def second_term():\n",
    "    p = Var()\n",
    "    p_ = Atom(p)\n",
    "    return Lambda(p, App(p_, false_term()))\n",
    "\n",
    "\n",
    "def succ_term():\n",
    "    x, y, n = Var(), Var(), Var()\n",
    "    x_, y_, n_ = Atom(x), Atom(y), Atom(n)\n",
    "    return Lambda(n, Lambda(x, Lambda(y, App(x_, multi_app_term(n_, x_, y_)))))\n",
    "\n",
    "\n",
    "def sinc_term():\n",
    "    p = Var()\n",
    "    p_ = Atom(p)\n",
    "    return Lambda(\n",
    "        p,\n",
    "        multi_app_term(\n",
    "            pair_term(),\n",
    "            App(second_term(), p_),\n",
    "            App(succ_term(), App(second_term(), p_)),\n",
    "        ),\n",
    "    )\n",
    "\n",
    "\n",
    "def pred_term():\n",
    "    n, f, x, g, h, u = Var(), Var(), Var(), Var(), Var(), Var()\n",
    "    n_, f_, x_ = Atom(n), Atom(f), Atom(x)\n",
    "    g_, h_, u_ = Atom(g), Atom(h), Atom(u)\n",
    "\n",
    "    return Lambda(n, Lambda(f, Lambda(x, multi_app_term(\n",
    "        n_,\n",
    "        Lambda(g, Lambda(h, App(h_, App(g_, f_)))),\n",
    "        Lambda(u, x_),\n",
    "        Lambda(u, u_)\n",
    "    ))))\n",
    "\n",
    "\n",
    "def plus_term():\n",
    "    n, m = Var(), Var()\n",
    "    n_, m_ = Atom(n), Atom(m)\n",
    "    return Lambda(m, Lambda(n, multi_app_term(n_, succ_term(), m_)))\n",
    "\n",
    "\n",
    "def subtract_term():\n",
    "    n, m = Var(), Var()\n",
    "    n_, m_ = Atom(n), Atom(m)\n",
    "    return Lambda(n, Lambda(m, multi_app_term(m_, pred_term(), n_)))\n",
    "\n",
    "\n",
    "def iszero_term():\n",
    "    x, n = Var(), Var()\n",
    "    n_ = Atom(n)\n",
    "    return Lambda(n, App(App(n_, Lambda(x, false_term())), true_term()))\n",
    "\n",
    "\n",
    "def leq_term():\n",
    "    n, m = Var(), Var()\n",
    "    n_, m_ = Atom(n), Atom(m)\n",
    "    return Lambda(\n",
    "        n, Lambda(m, App(iszero_term(), multi_app_term(subtract_term(), n_, m_)))\n",
    "    )\n",
    "\n",
    "\n",
    "def and_term():\n",
    "    a, b = Var(), Var()\n",
    "    a_, b_ = Atom(a), Atom(b)\n",
    "    return Lambda(a, Lambda(b, multi_app_term(ite_term(), a_, b_, a_)))\n",
    "\n",
    "\n",
    "def eq_term():\n",
    "    n, m = Var(), Var()\n",
    "    n_, m_ = Atom(n), Atom(m)\n",
    "    return Lambda(\n",
    "        n,\n",
    "        Lambda(\n",
    "            m,\n",
    "            multi_app_term(\n",
    "                and_term(),\n",
    "                multi_app_term(leq_term(), n_, m_),\n",
    "                multi_app_term(leq_term(), m_, n_),\n",
    "            ),\n",
    "        ),\n",
    "    )\n",
    "\n",
    "\n",
    "def i_term():\n",
    "    x = Var()\n",
    "    x_ = Atom(x)\n",
    "    return Lambda(x, x_)\n",
    "\n",
    "\n",
    "def omega_term(n: int):\n",
    "    x = Var()\n",
    "    x_ = Atom(x)\n",
    "    body_app_term = x_\n",
    "    for _ in range(n - 1):\n",
    "        body_app_term = App(body_app_term, x_)\n",
    "    return Lambda(x, body_app_term)\n",
    "\n",
    "\n",
    "def multi_i_term(m: int):\n",
    "    app_term = i_term()\n",
    "    for _ in range(m - 1):\n",
    "        app_term = App(app_term, i_term())\n",
    "    return app_term\n",
    "\n",
    "\n",
    "def omega_multi_i_term(n: int, m: int):\n",
    "    return App(omega_term(n), multi_i_term(m))\n",
    "\n",
    "\n",
    "def term_test_1():\n",
    "    x, y = Var(), Var()\n",
    "    x_, y_ = Atom(x), Atom(y)\n",
    "\n",
    "    return \"(λx. (λy.y)) ((λx. (xx)) (λx. (xx))) == I == λx. x\", \\\n",
    "        App(\n",
    "            Lambda(x, Lambda(y, y_)),\n",
    "            App(\n",
    "                Lambda(x, App(x_, x_)),\n",
    "                Lambda(x, App(x_, x_))\n",
    "            )\n",
    "        )\n",
    "\n",
    "\n",
    "def term_test_2():\n",
    "    return \"(ITE TRUE 3 1) == 3 == λx. λy. (x (x (x y)))\", \\\n",
    "        multi_app_term(ite_term(), true_term(), num_term(3), num_term(1))\n",
    "\n",
    "\n",
    "def term_test_3():\n",
    "    return \"(ITE FALSE 0 4) == 4 == λx. λy. (x (x (x (x y))))\", \\\n",
    "        multi_app_term(ite_term(), false_term(), num_term(0), num_term(4))\n",
    "\n",
    "\n",
    "def term_test_4():\n",
    "    return \"(PRED 0) == 0 == λx. λy. y\", \\\n",
    "        multi_app_term(pred_term(), num_term(0))\n",
    "\n",
    "\n",
    "def term_test_5():\n",
    "    return \"(PRED 5) == 4 == λx. λy. (x (x (x (x y))))\", \\\n",
    "        multi_app_term(pred_term(), num_term(5))\n",
    "\n",
    "\n",
    "def term_test_6():\n",
    "    return \"(PLUS 0 0) == 0 == λx. λy. y\", \\\n",
    "        multi_app_term(plus_term(), num_term(0), num_term(0))\n",
    "\n",
    "\n",
    "def term_test_7():\n",
    "    return \"(PLUS 2 3) == 5 == λx. λy. (x (x (x (x (x y)))))\", \\\n",
    "        multi_app_term(plus_term(), num_term(2), num_term(3))\n",
    "\n",
    "\n",
    "def term_test_8():\n",
    "    return \"(SUBTRACT 4 1) == 3 == λx. λy. (x (x (x y)))\", \\\n",
    "        multi_app_term(subtract_term(), num_term(4), num_term(1))\n",
    "\n",
    "\n",
    "def term_test_9():\n",
    "    return \"(SUBTRACT 3 5) == 0 == λx. λy. y\", \\\n",
    "        multi_app_term(subtract_term(), num_term(3), num_term(5))\n",
    "\n",
    "\n",
    "def term_test_10():\n",
    "    return \"(LEQ 3 2) == FALSE == λx. λy. y\", \\\n",
    "        multi_app_term(leq_term(), num_term(3), num_term(2))\n",
    "\n",
    "\n",
    "def term_test_11():\n",
    "    return \"(LEQ 2 5) == TRUE == λx. λy. x\", \\\n",
    "        multi_app_term(leq_term(), num_term(2), num_term(5))\n",
    "\n",
    "\n",
    "def term_test_12():\n",
    "    return \"(EQ 2 2) == TRUE == λx. λy. x\", \\\n",
    "        multi_app_term(eq_term(), num_term(2), num_term(2))\n",
    "\n",
    "\n",
    "def term_test_13():\n",
    "    return \"(EQ 1 4) == FALSE == λx. λy. y\", \\\n",
    "        multi_app_term(eq_term(), num_term(1), num_term(4))\n",
    "\n",
    "\n",
    "def term_test_14():\n",
    "    return \"Omega(3, 3)  == I == λx. x\", \\\n",
    "        omega_multi_i_term(3, 3)\n",
    "\n",
    "\n",
    "def term_test_15():\n",
    "    return \"GCD_vO 5 2\", \\\n",
    "        multi_app_term(gcd_term_v0(), num_term(5), num_term(2))\n",
    "\n",
    "\n",
    "def term_test_16():\n",
    "    return \"GCD_v1 5 2\", \\\n",
    "        multi_app_term(gcd_term_v1(), num_term(5), num_term(2))\n",
    "\n",
    "\n",
    "def term_test_17():\n",
    "    return \"GCD_v3 5 2\", \\\n",
    "        multi_app_term(gcd_term_v3(), num_term(5), num_term(2))\n",
    "\n",
    "\n",
    "def term_test_18():\n",
    "    return \"PYTHAGOREAN 5 2 2\", \\\n",
    "        multi_app_term(\n",
    "            pythagorean_term(), num_term(5), num_term(2), num_term(2)\n",
    "        )\n",
    "\n",
    "\n",
    "def test_function(term_deskr_: str, term_: Term, model_: Sequential):\n",
    "    prediction_ = model_.predict(np.array(pad_trunk(tokenize_and_vectorize([term_.simple_str()]))), verbose=0)\n",
    "    print(f\"{term_deskr_}\\nnorm_steps={term_.normalize(LOStrategy())[1]}\\tpred_steps={np.argmax(prediction_[0])}\\n\")\n",
    "\n",
    "\n",
    "list_test_functions = (term_test_1, term_test_2, term_test_3, term_test_4, term_test_5, term_test_6, term_test_7, term_test_9, term_test_10, term_test_11, term_test_12, term_test_13, term_test_14, term_test_15, term_test_16, term_test_17, term_test_18)\n",
    "\n",
    "for term_function in list_test_functions:\n",
    "    term_deskr, term = term_function()\n",
    "    test_function(term_deskr, term, model)"
   ],
   "metadata": {
    "collapsed": false,
    "ExecuteTime": {
     "start_time": "2023-09-08T19:33:55.379548Z",
     "end_time": "2023-09-08T19:34:55.154470Z"
    }
   }
  },
  {
   "cell_type": "code",
   "execution_count": null,
   "outputs": [],
   "source": [
    "list_simplified_omega_terms = []\n",
    "\n",
    "for n in range(1, 21):\n",
    "    for m in range(1, 21):\n",
    "        term_ = omega_multi_i_term(n, m)\n",
    "        list_simplified_omega_terms.append(term_.simple_str())\n",
    "\n",
    "list_simplified_omega_terms = pad_trunk(tokenize_and_vectorize(list_simplified_omega_terms))\n",
    "\n",
    "real_redexes_count = []\n",
    "\n",
    "for n in tqdm(range(1, 21)):\n",
    "    for m in range(1, 21):\n",
    "        term_ = omega_multi_i_term(n, m)\n",
    "        real_redexes_count.append(term_.normalize(LOStrategy())[1])\n",
    "\n",
    "predictions_omega_terms_redexes = []\n",
    "for rec_ in tqdm(list_simplified_omega_terms):\n",
    "    predictions_omega_terms_redexes.append(np.argmax(model.predict([rec_], verbose=0)[0]))"
   ],
   "metadata": {
    "collapsed": false,
    "ExecuteTime": {
     "start_time": "2023-09-08T19:34:55.153472Z",
     "end_time": "2023-09-08T19:37:42.520440Z"
    }
   }
  },
  {
   "cell_type": "code",
   "execution_count": null,
   "outputs": [],
   "source": [
    "print(predictions_omega_terms_redexes)"
   ],
   "metadata": {
    "collapsed": false,
    "ExecuteTime": {
     "start_time": "2023-09-08T19:37:42.523510Z",
     "end_time": "2023-09-08T19:37:42.580801Z"
    }
   }
  },
  {
   "cell_type": "code",
   "execution_count": null,
   "outputs": [],
   "source": [
    "print(real_redexes_count)"
   ],
   "metadata": {
    "collapsed": false,
    "ExecuteTime": {
     "start_time": "2023-09-08T19:37:42.539113Z",
     "end_time": "2023-09-08T19:37:42.596357Z"
    }
   }
  },
  {
   "cell_type": "code",
   "execution_count": null,
   "outputs": [],
   "source": [
    "def calculate_accuracy(actual_labels, predicted_labels):\n",
    "    correct_predictions = sum(1 for actual, predicted in zip(actual_labels, predicted_labels) if actual == predicted)\n",
    "    total_predictions = len(actual_labels)\n",
    "    accuracy = correct_predictions / total_predictions\n",
    "    return accuracy\n",
    "\n",
    "\n",
    "print(\"Test accuracy:\", calculate_accuracy(real_redexes_count, predictions_omega_terms_redexes))"
   ],
   "metadata": {
    "collapsed": false,
    "ExecuteTime": {
     "start_time": "2023-09-08T19:37:42.553578Z",
     "end_time": "2023-09-08T19:37:42.596357Z"
    }
   }
  },
  {
   "cell_type": "code",
   "execution_count": null,
   "outputs": [],
   "source": [
    "green_dots = []\n",
    "red_dots = []\n",
    "\n",
    "for n in range(0, 20):\n",
    "    for m in range(0, 20):\n",
    "        val = predictions_omega_terms_redexes[n * 20 + m]\n",
    "        val_real = real_redexes_count[n * 20 + m]\n",
    "\n",
    "        if val == val_real:\n",
    "            green_dots.append((n+1, m+1))\n",
    "        else:\n",
    "            red_dots.append((n+1, m+1))\n"
   ],
   "metadata": {
    "collapsed": false,
    "ExecuteTime": {
     "start_time": "2023-09-08T19:37:42.570560Z",
     "end_time": "2023-09-08T19:37:42.596357Z"
    }
   }
  },
  {
   "cell_type": "code",
   "execution_count": null,
   "outputs": [],
   "source": [
    "plt.figure(figsize=(12, 12))\n",
    "\n",
    "green_dots = np.array(green_dots)\n",
    "red_dots = np.array(red_dots)\n",
    "\n",
    "plt.scatter(green_dots[:,0], green_dots[:,1], s=5, c='green',)\n",
    "plt.scatter(red_dots[:,0], red_dots[:,1], s=5, c='red',)\n",
    "\n",
    "plt.xlabel(\"n\", fontsize=18)\n",
    "plt.ylabel(\"m\", fontsize=18)\n",
    "plt.title(\"Omega(n, m)\", fontsize=20)\n",
    "plt.show()"
   ],
   "metadata": {
    "collapsed": false,
    "ExecuteTime": {
     "start_time": "2023-09-08T19:37:42.587360Z",
     "end_time": "2023-09-08T19:37:42.775706Z"
    }
   }
  },
  {
   "cell_type": "code",
   "execution_count": null,
   "outputs": [],
   "source": [],
   "metadata": {
    "collapsed": false,
    "ExecuteTime": {
     "start_time": "2023-09-08T19:37:42.772042Z",
     "end_time": "2023-09-08T19:37:42.829737Z"
    }
   }
  },
  {
   "cell_type": "markdown",
   "source": [
    "# Do additional metrics testing"
   ],
   "metadata": {
    "collapsed": false
   }
  },
  {
   "cell_type": "markdown",
   "source": [
    "## Mean Squared Error"
   ],
   "metadata": {
    "collapsed": false
   }
  },
  {
   "cell_type": "code",
   "execution_count": null,
   "outputs": [],
   "source": [
    "mse_train = mean_squared_error(y_train_nums, y_train_pred_nums)\n",
    "print(\"Train {Mean Squared Error}:\", mse_train)\n",
    "\n",
    "mse_test = mean_squared_error(y_test_nums, y_test_pred_nums)\n",
    "print(\"Test {Mean Squared Error}:\", mse_test)"
   ],
   "metadata": {
    "collapsed": false,
    "ExecuteTime": {
     "start_time": "2023-09-08T19:37:42.788986Z",
     "end_time": "2023-09-08T19:37:42.829737Z"
    }
   }
  },
  {
   "cell_type": "markdown",
   "source": [
    "## Mean Absolute Error"
   ],
   "metadata": {
    "collapsed": false
   }
  },
  {
   "cell_type": "code",
   "execution_count": 19,
   "outputs": [
    {
     "name": "stdout",
     "output_type": "stream",
     "text": [
      "Train {Mean Absolute Error}: 0.3333333333333333\n",
      "Test {Mean Absolute Error}: 1.2354533152909337\n"
     ]
    }
   ],
   "source": [
    "mae_train = mean_absolute_error(y_train_nums, y_train_pred_nums)\n",
    "print(\"Train {Mean Absolute Error}:\", mae_train)\n",
    "\n",
    "mae_test = mean_absolute_error(y_test_nums, y_test_pred_nums)\n",
    "print(\"Test {Mean Absolute Error}:\", mae_test)"
   ],
   "metadata": {
    "collapsed": false,
    "ExecuteTime": {
     "start_time": "2023-09-11T18:39:20.612441Z",
     "end_time": "2023-09-11T18:39:20.671595Z"
    }
   }
  },
  {
   "cell_type": "markdown",
   "source": [
    "## Mean Absolute Percentage Error"
   ],
   "metadata": {
    "collapsed": false
   }
  },
  {
   "cell_type": "code",
   "execution_count": null,
   "outputs": [],
   "source": [
    "def mean_absolute_percentage_error(y_true, y_pred):\n",
    "    y_true_fix = np.array([y_ + 0.0001 for y_ in y_true])\n",
    "    percentage_errors = np.abs((y_true - y_pred) / y_true_fix) * 100\n",
    "    mape = np.mean(percentage_errors)\n",
    "    return mape\n",
    "\n",
    "\n",
    "mape_train = mean_absolute_percentage_error(y_train_nums, y_train_pred_nums)\n",
    "print(\"Train {Mean Absolute Percentage Error}:\", mape_train)\n",
    "\n",
    "mape_test = mean_absolute_percentage_error(y_test_nums, y_test_pred_nums)\n",
    "print(\"Test {Mean Absolute Percentage Error}:\", mape_test)"
   ],
   "metadata": {
    "collapsed": false,
    "ExecuteTime": {
     "start_time": "2023-09-08T19:37:42.821226Z",
     "end_time": "2023-09-08T19:37:42.849904Z"
    }
   }
  },
  {
   "cell_type": "markdown",
   "source": [
    "## Percentage of Explained Variance (PEV)"
   ],
   "metadata": {
    "collapsed": false
   }
  },
  {
   "cell_type": "code",
   "execution_count": null,
   "outputs": [],
   "source": [
    "# Calculate Variance of the target variable\n",
    "variance_y_test = np.var(y_test_nums)\n",
    "variance_y_train = np.var(y_train_nums)\n",
    "\n",
    "# Calculate Percentage of Explained Variance (PEV)\n",
    "pev_test = (1 - mse_test / variance_y_test) * 100\n",
    "pev_train = (1 - mse_train / variance_y_train) * 100\n",
    "\n",
    "print(\"Train {Percentage of Explained Variance}:\", pev_train)\n",
    "print(\"Test {Percentage of Explained Variance}:\", pev_test)"
   ],
   "metadata": {
    "collapsed": false,
    "ExecuteTime": {
     "start_time": "2023-09-08T19:37:42.852905Z",
     "end_time": "2023-09-08T19:37:42.956015Z"
    }
   }
  },
  {
   "cell_type": "markdown",
   "source": [
    "## Mean Bias Deviation"
   ],
   "metadata": {
    "collapsed": false
   }
  },
  {
   "cell_type": "code",
   "execution_count": null,
   "outputs": [],
   "source": [
    "def mean_bias_deviation(y_true, y_pred):\n",
    "    y_true_fix = np.array([y_ + 0.0001 for y_ in y_true])\n",
    "    n = len(y_true)\n",
    "    mbd = np.sum((y_pred - y_true) / y_true_fix) * 100 / n\n",
    "    return mbd\n",
    "\n",
    "\n",
    "mbd_train = mean_bias_deviation(y_train_nums, y_train_pred_nums)\n",
    "print(\"Train {Mean Bias Deviation}:\", mbd_train)\n",
    "\n",
    "mdb_test = mean_bias_deviation(y_test_nums, y_test_pred_nums)\n",
    "print(\"Test {Mean Bias Deviation}:\", mdb_test)"
   ],
   "metadata": {
    "collapsed": false,
    "ExecuteTime": {
     "start_time": "2023-09-08T19:37:42.865737Z",
     "end_time": "2023-09-08T19:37:42.973571Z"
    }
   }
  },
  {
   "cell_type": "markdown",
   "source": [
    "## Coefficient of Correlation (Pearson's r)"
   ],
   "metadata": {
    "collapsed": false
   }
  },
  {
   "cell_type": "code",
   "execution_count": null,
   "outputs": [],
   "source": [
    "coc_test = np.corrcoef(y_test_pred_nums, y_test_nums)[0, 1]\n",
    "coc_train = np.corrcoef(y_train_pred_nums, y_train_nums)[0, 1]\n",
    "\n",
    "print(\"Train {Mean Bias Deviation}:\", coc_train)\n",
    "print(\"Test {Mean Bias Deviation}:\", coc_test)"
   ],
   "metadata": {
    "collapsed": false,
    "ExecuteTime": {
     "start_time": "2023-09-08T19:37:42.884141Z",
     "end_time": "2023-09-08T19:37:42.973571Z"
    }
   }
  },
  {
   "cell_type": "markdown",
   "source": [
    "## Error STD"
   ],
   "metadata": {
    "collapsed": false
   }
  },
  {
   "cell_type": "code",
   "execution_count": null,
   "outputs": [],
   "source": [
    "y_train_cl_pred_nums = np.array(y_train_pred_nums)\n",
    "y_test_cl_pred_nums = np.array(y_test_pred_nums)\n",
    "\n",
    "y_train_nums = np.array(y_train_nums)\n",
    "y_test_nums = np.array(y_test_nums)\n",
    "train_error = y_train_nums - y_train_cl_pred_nums\n",
    "test_error = y_test_nums - y_test_cl_pred_nums\n",
    "print(\"Train Error STD:\", np.abs(train_error).std())\n",
    "print(\"Test Error STD:\", np.abs(test_error).std())"
   ],
   "metadata": {
    "collapsed": false,
    "ExecuteTime": {
     "start_time": "2023-09-08T19:37:42.899880Z",
     "end_time": "2023-09-08T19:37:42.973571Z"
    }
   }
  },
  {
   "cell_type": "code",
   "execution_count": null,
   "outputs": [],
   "source": [
    "def advanced_point_drawer(y_real, y_pred, title=\"Train dataset\"):\n",
    "    counter = Counter([(x_, y_) for x_, y_ in zip(y_real, y_pred)])\n",
    "    coords_count = dict(counter)\n",
    "\n",
    "    plt.figure(figsize=(12, 12))\n",
    "\n",
    "    coords_count_rev = dict()\n",
    "    for key_, val_ in coords_count.items():\n",
    "        if val_ not in coords_count_rev:\n",
    "            coords_count_rev[val_] = []\n",
    "        coords_count_rev[val_].append(key_)\n",
    "\n",
    "    tcoords_count_rev = dict()\n",
    "    for key_ in sorted(coords_count_rev.keys()):\n",
    "        tcoords_count_rev[key_] = coords_count_rev[key_]\n",
    "\n",
    "    coords_count_rev = tcoords_count_rev\n",
    "\n",
    "    for key_, val_ in coords_count_rev.items():\n",
    "        coords_data = np.array(val_)\n",
    "        plt.scatter(coords_data[:, 0], coords_data[:, 1], s=key_ ** 1 + 5, c='tab:blue', label=f\"\\n{key_}\\n\")\n",
    "\n",
    "    plt.plot([0, 31], [0, 31], c=\"gray\", linestyle=\"--\")\n",
    "    plt.axis(\"equal\")\n",
    "    plt.xlabel(\"Real\", fontsize=18)\n",
    "    plt.ylabel(\"Predict\", fontsize=18)\n",
    "    plt.title(title, fontsize=20)\n",
    "    plt.legend(prop={'size': 10})\n",
    "    plt.show()"
   ],
   "metadata": {
    "collapsed": false,
    "ExecuteTime": {
     "start_time": "2023-09-08T19:37:42.918853Z",
     "end_time": "2023-09-08T19:37:42.974850Z"
    }
   }
  },
  {
   "cell_type": "code",
   "execution_count": null,
   "outputs": [],
   "source": [
    "advanced_point_drawer(y_train_nums, y_train_cl_pred_nums)"
   ],
   "metadata": {
    "collapsed": false,
    "ExecuteTime": {
     "start_time": "2023-09-08T19:37:42.930621Z",
     "end_time": "2023-09-08T19:37:43.568694Z"
    }
   }
  },
  {
   "cell_type": "code",
   "execution_count": null,
   "outputs": [],
   "source": [
    "advanced_point_drawer(y_test_nums, y_test_cl_pred_nums)"
   ],
   "metadata": {
    "collapsed": false,
    "ExecuteTime": {
     "start_time": "2023-09-08T19:37:43.570695Z",
     "end_time": "2023-09-08T19:37:43.988997Z"
    }
   }
  },
  {
   "cell_type": "code",
   "execution_count": null,
   "outputs": [],
   "source": [],
   "metadata": {
    "collapsed": false,
    "ExecuteTime": {
     "start_time": "2023-09-08T19:37:43.990471Z",
     "end_time": "2023-09-08T19:37:44.050805Z"
    }
   }
  }
 ],
 "metadata": {
  "kernelspec": {
   "display_name": "Python 3",
   "language": "python",
   "name": "python3"
  },
  "language_info": {
   "codemirror_mode": {
    "name": "ipython",
    "version": 2
   },
   "file_extension": ".py",
   "mimetype": "text/x-python",
   "name": "python",
   "nbconvert_exporter": "python",
   "pygments_lexer": "ipython2",
   "version": "2.7.6"
  }
 },
 "nbformat": 4,
 "nbformat_minor": 0
}
