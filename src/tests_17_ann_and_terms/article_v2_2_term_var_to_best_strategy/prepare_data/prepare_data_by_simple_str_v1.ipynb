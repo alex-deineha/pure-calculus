{
 "cells": [
  {
   "cell_type": "code",
   "execution_count": 2,
   "metadata": {
    "collapsed": true,
    "ExecuteTime": {
     "end_time": "2023-12-05T15:59:19.021276200Z",
     "start_time": "2023-12-05T15:59:19.006476700Z"
    }
   },
   "outputs": [],
   "source": [
    "import sys\n",
    "import re\n",
    "from tqdm import tqdm\n",
    "\n",
    "import matplotlib.pyplot as plt\n",
    "import pandas as pd\n",
    "import seaborn as sns\n",
    "import numpy as np\n",
    "from collections import Counter"
   ]
  },
  {
   "cell_type": "code",
   "execution_count": null,
   "outputs": [],
   "source": [],
   "metadata": {
    "collapsed": false
   }
  },
  {
   "cell_type": "code",
   "execution_count": 4,
   "outputs": [],
   "source": [
    "all_data = pd.read_csv(\"data_steps/steps_vars_term_str_train_v1_0_2.csv\", delimiter=',')\n",
    "all_data = pd.concat([all_data, pd.read_csv(\"data_steps/steps_vars_term_str_train_v1_3_5.csv\", delimiter=',')])\n",
    "all_data = pd.concat([all_data, pd.read_csv(\"data_steps/steps_vars_term_str_train_v1_6_8.csv\", delimiter=',')])\n",
    "all_data = pd.concat([all_data, pd.read_csv(\"data_steps/steps_vars_term_str_train_v1_9_11.csv\", delimiter=',')])\n",
    "all_data = pd.concat([all_data, pd.read_csv(\"data_steps/steps_vars_term_str_train_v1_12_14.csv\", delimiter=',')])\n",
    "all_data = pd.concat([all_data, pd.read_csv(\"data_steps/steps_vars_term_str_train_v1_15_17.csv\", delimiter=',')])\n",
    "all_data = pd.concat([all_data, pd.read_csv(\"data_steps/steps_vars_term_str_train_v1_18_19.csv\", delimiter=',')])"
   ],
   "metadata": {
    "collapsed": false,
    "ExecuteTime": {
     "end_time": "2023-12-05T15:59:56.598814100Z",
     "start_time": "2023-12-05T15:59:56.045484500Z"
    }
   }
  },
  {
   "cell_type": "code",
   "execution_count": 6,
   "outputs": [
    {
     "name": "stdout",
     "output_type": "stream",
     "text": [
      "45724\n",
      "45038\n"
     ]
    }
   ],
   "source": [
    "print(len(all_data))\n",
    "all_data = all_data.drop_duplicates(subset=\"vars_terms\")\n",
    "print(len(all_data))"
   ],
   "metadata": {
    "collapsed": false,
    "ExecuteTime": {
     "end_time": "2023-12-05T16:00:11.034059Z",
     "start_time": "2023-12-05T16:00:11.025786100Z"
    }
   }
  },
  {
   "cell_type": "code",
   "execution_count": 8,
   "outputs": [],
   "source": [
    "all_data.to_csv(\"data_steps/steps_vars_term_str_train.csv\", index=False)"
   ],
   "metadata": {
    "collapsed": false,
    "ExecuteTime": {
     "end_time": "2023-12-05T16:01:02.237830600Z",
     "start_time": "2023-12-05T16:01:01.599719700Z"
    }
   }
  }
 ],
 "metadata": {
  "kernelspec": {
   "display_name": "Python 3",
   "language": "python",
   "name": "python3"
  },
  "language_info": {
   "codemirror_mode": {
    "name": "ipython",
    "version": 2
   },
   "file_extension": ".py",
   "mimetype": "text/x-python",
   "name": "python",
   "nbconvert_exporter": "python",
   "pygments_lexer": "ipython2",
   "version": "2.7.6"
  }
 },
 "nbformat": 4,
 "nbformat_minor": 0
}
