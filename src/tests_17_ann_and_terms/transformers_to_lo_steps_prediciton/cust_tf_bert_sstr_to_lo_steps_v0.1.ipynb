{
 "cells": [
  {
   "cell_type": "markdown",
   "source": [
    "# import the dependencies"
   ],
   "metadata": {
    "collapsed": false
   }
  },
  {
   "cell_type": "code",
   "execution_count": 1,
   "outputs": [],
   "source": [
    "import sys\n",
    "from collections import Counter\n",
    "\n",
    "import numpy as np\n",
    "import pandas as pd\n",
    "\n",
    "from tqdm import tqdm\n",
    "\n",
    "import tensorflow as tf\n",
    "from transformers import RobertaTokenizerFast\n",
    "\n",
    "\n",
    "from sklearn.utils import shuffle\n",
    "from sklearn.model_selection import train_test_split\n",
    "\n",
    "from matplotlib import pyplot as plt\n",
    "from matplotlib import rcParams\n",
    "\n",
    "from sklearn.metrics import mean_squared_error\n",
    "from sklearn.metrics import mean_absolute_error"
   ],
   "metadata": {
    "collapsed": false,
    "ExecuteTime": {
     "start_time": "2023-10-05T15:24:52.099463Z",
     "end_time": "2023-10-05T15:25:03.288024Z"
    }
   }
  },
  {
   "cell_type": "code",
   "execution_count": 2,
   "outputs": [
    {
     "name": "stdout",
     "output_type": "stream",
     "text": [
      "Available GPUs: [PhysicalDevice(name='/physical_device:GPU:0', device_type='GPU')]\n"
     ]
    }
   ],
   "source": [
    "physical_devices = tf.config.list_physical_devices('GPU')\n",
    "print(\"Available GPUs:\", physical_devices)"
   ],
   "metadata": {
    "collapsed": false,
    "ExecuteTime": {
     "start_time": "2023-10-05T15:25:03.288024Z",
     "end_time": "2023-10-05T15:25:03.981813Z"
    }
   }
  },
  {
   "cell_type": "markdown",
   "source": [
    "# Prepare data"
   ],
   "metadata": {
    "collapsed": false
   }
  },
  {
   "cell_type": "code",
   "execution_count": 3,
   "outputs": [
    {
     "name": "stdout",
     "output_type": "stream",
     "text": [
      "Count all terms: 4251\n",
      "\n",
      "Count original terms: 4251\n",
      "\n",
      "max steps count: 30\n",
      "min steps count: 0\n",
      "Count training samples: 2952\n",
      "Count testing samples: 739\n"
     ]
    }
   ],
   "source": [
    "all_data = pd.read_csv(\"../lstm_lo_steps_prediction/data/steps_simple_term_str.csv\", delimiter=',')\n",
    "\n",
    "# leave only unique terms\n",
    "print(f\"Count all terms: {len(all_data)}\\n\")\n",
    "all_data = all_data.drop_duplicates(subset=\"simple_terms\").reset_index(drop=True)\n",
    "print(f\"Count original terms: {len(all_data)}\\n\")\n",
    "\n",
    "# shuffle the dataset\n",
    "all_data = shuffle(all_data, random_state=33).reset_index(drop=True)\n",
    "\n",
    "# filter out steps_lo that are more than 30\n",
    "all_data = all_data[[steps_lo < 31 for steps_lo in all_data['steps_num_lo']]]\n",
    "\n",
    "print(f\"max steps count: {max(all_data['steps_num_lo'])}\")\n",
    "print(f\"min steps count: {min(all_data['steps_num_lo'])}\")\n",
    "\n",
    "# make test/train split\n",
    "x_train, x_test, y_train_, y_test_ = train_test_split(all_data[\"simple_terms\"].tolist(),\n",
    "                                                      all_data[\"steps_num_lo\"].tolist(),\n",
    "                                                      test_size=0.2, random_state=42)\n",
    "\n",
    "print(f\"Count training samples: {len(y_train_)}\")\n",
    "print(f\"Count testing samples: {len(y_test_)}\")"
   ],
   "metadata": {
    "collapsed": false,
    "ExecuteTime": {
     "start_time": "2023-10-05T14:32:51.275073Z",
     "end_time": "2023-10-05T14:32:51.373826Z"
    }
   }
  },
  {
   "cell_type": "code",
   "execution_count": 4,
   "outputs": [
    {
     "name": "stderr",
     "output_type": "stream",
     "text": [
      "Special tokens have been added in the vocabulary, make sure the associated word embeddings are fine-tuned or trained.\n",
      "Special tokens have been added in the vocabulary, make sure the associated word embeddings are fine-tuned or trained.\n"
     ]
    }
   ],
   "source": [
    "tokenizer = RobertaTokenizerFast.from_pretrained(\"./fine_models\", max_len=512)"
   ],
   "metadata": {
    "collapsed": false,
    "ExecuteTime": {
     "start_time": "2023-10-05T14:32:51.333770Z",
     "end_time": "2023-10-05T14:32:51.380825Z"
    }
   }
  },
  {
   "cell_type": "code",
   "execution_count": 5,
   "outputs": [],
   "source": [
    "x_train = [x_.replace(\"@x.\", \"y\") for x_ in x_train]\n",
    "x_test = [x_.replace(\"@x.\", \"y\") for x_ in x_test]\n",
    "\n",
    "train_df = pd.DataFrame({\"term_str\": x_train, \"steps_lo\": y_train_})\n",
    "test_df = pd.DataFrame({\"term_str\": x_test, \"steps_lo\": y_test_})\n",
    "\n",
    "label_encoder = {key_: [0.0] * 31 for key_ in range(31)}\n",
    "for key_ in label_encoder.keys():\n",
    "    label_encoder[key_][key_] = 1.0\n",
    "\n",
    "def preprocess(example):\n",
    "    # Tokenize the prompt\n",
    "    tokenized_texts = tokenizer(example['term_str'].to_list(), truncation=True, padding='max_length', max_length=512, return_tensors=\"tf\")\n",
    "    labels = tf.convert_to_tensor([label_encoder[key_] for key_ in example[\"steps_lo\"]])\n",
    "    return tokenized_texts, labels\n",
    "\n",
    "\n",
    "tokenized_train_data = preprocess(train_df)\n",
    "tokenized_test_data = preprocess(test_df)"
   ],
   "metadata": {
    "collapsed": false,
    "ExecuteTime": {
     "start_time": "2023-10-05T14:32:51.390726Z",
     "end_time": "2023-10-05T14:32:53.280126Z"
    }
   }
  },
  {
   "cell_type": "code",
   "execution_count": 6,
   "outputs": [],
   "source": [
    "batch_size = 3\n",
    "\n",
    "train_dataset = tf.data.Dataset.from_tensor_slices((dict(tokenized_train_data[0]), tokenized_train_data[1])).batch(batch_size)\n",
    "test_dataset = tf.data.Dataset.from_tensor_slices((dict(tokenized_test_data[0]), tokenized_test_data[1])).batch(batch_size)"
   ],
   "metadata": {
    "collapsed": false,
    "ExecuteTime": {
     "start_time": "2023-10-05T14:32:53.281133Z",
     "end_time": "2023-10-05T14:32:53.331365Z"
    }
   }
  },
  {
   "cell_type": "markdown",
   "source": [
    "# Configure the model"
   ],
   "metadata": {
    "collapsed": false
   }
  },
  {
   "cell_type": "code",
   "execution_count": 7,
   "outputs": [],
   "source": [
    "from transformers import BertConfig\n",
    "\n",
    "config = BertConfig(\n",
    "    vocab_size=10,\n",
    "    hidden_size=69,\n",
    "    num_hidden_layers=1,\n",
    "    num_attention_heads=3,\n",
    "    intermediate_size=32,\n",
    "    max_position_embeddings=512,\n",
    "    num_labels=31\n",
    ")\n",
    "\n",
    "# vocab_size=30522,\n",
    "# hidden_size=768,\n",
    "# num_hidden_layers=12,\n",
    "# num_attention_heads=12,\n",
    "# intermediate_size=3072,\n",
    "# hidden_act=\"gelu\",\n",
    "# hidden_dropout_prob=0.1,\n",
    "# attention_probs_dropout_prob=0.1,\n",
    "# max_position_embeddings=512,\n",
    "# type_vocab_size=2,\n",
    "# initializer_range=0.02,\n",
    "# layer_norm_eps=1e-12,\n",
    "# pad_token_id=0,\n",
    "# position_embedding_type=\"absolute\",\n",
    "# use_cache=True,\n",
    "# classifier_dropout=None,"
   ],
   "metadata": {
    "collapsed": false,
    "ExecuteTime": {
     "start_time": "2023-10-05T14:32:53.312253Z",
     "end_time": "2023-10-05T14:32:53.341524Z"
    }
   }
  },
  {
   "cell_type": "code",
   "execution_count": 8,
   "outputs": [],
   "source": [
    "from transformers import TFBertForSequenceClassification\n",
    "\n",
    "model = TFBertForSequenceClassification(config=config)"
   ],
   "metadata": {
    "collapsed": false,
    "ExecuteTime": {
     "start_time": "2023-10-05T14:32:53.342526Z",
     "end_time": "2023-10-05T14:32:56.131829Z"
    }
   }
  },
  {
   "cell_type": "code",
   "execution_count": 9,
   "outputs": [],
   "source": [
    "model.build()\n",
    "model.get_layer(\"bert\").trainable = True\n",
    "model.get_layer(\"classifier\").trainable = True\n",
    "model.compile(optimizer=\"rmsprop\", loss=\"categorical_crossentropy\", metrics=['accuracy'])"
   ],
   "metadata": {
    "collapsed": false,
    "ExecuteTime": {
     "start_time": "2023-10-05T14:32:56.132829Z",
     "end_time": "2023-10-05T14:32:58.810957Z"
    }
   }
  },
  {
   "cell_type": "code",
   "execution_count": 10,
   "outputs": [
    {
     "name": "stdout",
     "output_type": "stream",
     "text": [
      "Model: \"tf_bert_for_sequence_classification\"\n",
      "_________________________________________________________________\n",
      " Layer (type)                Output Shape              Param #   \n",
      "=================================================================\n",
      " bert (TFBertMainLayer)      multiple                  65237     \n",
      "                                                                 \n",
      " dropout_4 (Dropout)         multiple                  0         \n",
      "                                                                 \n",
      " classifier (Dense)          multiple                  2170      \n",
      "                                                                 \n",
      "=================================================================\n",
      "Total params: 67,407\n",
      "Trainable params: 67,407\n",
      "Non-trainable params: 0\n",
      "_________________________________________________________________\n"
     ]
    }
   ],
   "source": [
    "model.summary()"
   ],
   "metadata": {
    "collapsed": false,
    "ExecuteTime": {
     "start_time": "2023-10-05T14:32:58.812225Z",
     "end_time": "2023-10-05T14:32:58.899502Z"
    }
   }
  },
  {
   "cell_type": "markdown",
   "source": [
    "# Train a language model"
   ],
   "metadata": {
    "collapsed": false
   }
  },
  {
   "cell_type": "code",
   "execution_count": 11,
   "outputs": [
    {
     "name": "stdout",
     "output_type": "stream",
     "text": [
      "Epoch 1/100\n",
      "984/984 [==============================] - 27s 21ms/step - loss: 8.1767 - accuracy: 0.0972 - val_loss: 8.5498 - val_accuracy: 0.0893\n",
      "Epoch 2/100\n",
      "984/984 [==============================] - 20s 20ms/step - loss: 8.2920 - accuracy: 0.0867 - val_loss: 7.6042 - val_accuracy: 0.0893\n",
      "Epoch 3/100\n",
      "984/984 [==============================] - 20s 20ms/step - loss: 8.0354 - accuracy: 0.0827 - val_loss: 8.5498 - val_accuracy: 0.0893\n",
      "Epoch 4/100\n",
      "984/984 [==============================] - 20s 20ms/step - loss: 8.0217 - accuracy: 0.0867 - val_loss: 7.5683 - val_accuracy: 0.0893\n",
      "Epoch 5/100\n",
      "984/984 [==============================] - 20s 21ms/step - loss: 7.9188 - accuracy: 0.0881 - val_loss: 8.5498 - val_accuracy: 0.0893\n",
      "Epoch 6/100\n",
      "984/984 [==============================] - 20s 20ms/step - loss: 8.2720 - accuracy: 0.0857 - val_loss: 8.5498 - val_accuracy: 0.0893\n",
      "Epoch 7/100\n",
      "984/984 [==============================] - 20s 20ms/step - loss: 8.1136 - accuracy: 0.0840 - val_loss: 8.5498 - val_accuracy: 0.0893\n",
      "Epoch 8/100\n",
      "984/984 [==============================] - 20s 20ms/step - loss: 8.1628 - accuracy: 0.0860 - val_loss: 8.5498 - val_accuracy: 0.0893\n",
      "Epoch 9/100\n",
      "984/984 [==============================] - 20s 20ms/step - loss: 8.2283 - accuracy: 0.0843 - val_loss: 8.5498 - val_accuracy: 0.0893\n",
      "Epoch 10/100\n",
      "984/984 [==============================] - 20s 20ms/step - loss: 8.2337 - accuracy: 0.0843 - val_loss: 8.5498 - val_accuracy: 0.0893\n",
      "Epoch 11/100\n",
      "984/984 [==============================] - 20s 20ms/step - loss: 7.9607 - accuracy: 0.0874 - val_loss: 8.5498 - val_accuracy: 0.0893\n",
      "Epoch 12/100\n",
      "984/984 [==============================] - 22s 22ms/step - loss: 7.8406 - accuracy: 0.0877 - val_loss: 8.5498 - val_accuracy: 0.0893\n",
      "Epoch 13/100\n",
      "984/984 [==============================] - 21s 22ms/step - loss: 8.1027 - accuracy: 0.0891 - val_loss: 8.5498 - val_accuracy: 0.0893\n",
      "Epoch 14/100\n",
      "984/984 [==============================] - 21s 21ms/step - loss: 8.1955 - accuracy: 0.0860 - val_loss: 8.5498 - val_accuracy: 0.0893\n",
      "Epoch 15/100\n",
      "984/984 [==============================] - 21s 21ms/step - loss: 8.0426 - accuracy: 0.0867 - val_loss: 8.5498 - val_accuracy: 0.0893\n",
      "Epoch 16/100\n",
      "984/984 [==============================] - 21s 22ms/step - loss: 7.9389 - accuracy: 0.0837 - val_loss: 8.5498 - val_accuracy: 0.0893\n",
      "Epoch 17/100\n",
      "984/984 [==============================] - 21s 21ms/step - loss: 7.7369 - accuracy: 0.0857 - val_loss: 8.5498 - val_accuracy: 0.0893\n",
      "Epoch 18/100\n",
      "984/984 [==============================] - 21s 21ms/step - loss: 8.3156 - accuracy: 0.0857 - val_loss: 8.5498 - val_accuracy: 0.0893\n",
      "Epoch 19/100\n",
      "984/984 [==============================] - 21s 21ms/step - loss: 7.9607 - accuracy: 0.0874 - val_loss: 8.5498 - val_accuracy: 0.0893\n",
      "Epoch 20/100\n",
      "984/984 [==============================] - 20s 20ms/step - loss: 7.8079 - accuracy: 0.0840 - val_loss: 8.5498 - val_accuracy: 0.0893\n",
      "Epoch 21/100\n",
      "984/984 [==============================] - 20s 20ms/step - loss: 8.0754 - accuracy: 0.0894 - val_loss: 8.5498 - val_accuracy: 0.0893\n",
      "Epoch 22/100\n",
      "984/984 [==============================] - 20s 20ms/step - loss: nan - accuracy: 0.0779 - val_loss: nan - val_accuracy: 0.0798\n",
      "Epoch 23/100\n",
      "984/984 [==============================] - 20s 20ms/step - loss: nan - accuracy: 0.0745 - val_loss: nan - val_accuracy: 0.0798\n",
      "Epoch 24/100\n",
      "984/984 [==============================] - 21s 22ms/step - loss: nan - accuracy: 0.0745 - val_loss: nan - val_accuracy: 0.0798\n",
      "Epoch 25/100\n",
      "984/984 [==============================] - 20s 21ms/step - loss: nan - accuracy: 0.0745 - val_loss: nan - val_accuracy: 0.0798\n",
      "Epoch 26/100\n",
      "984/984 [==============================] - 20s 20ms/step - loss: nan - accuracy: 0.0745 - val_loss: nan - val_accuracy: 0.0798\n",
      "Epoch 27/100\n",
      "984/984 [==============================] - 20s 20ms/step - loss: nan - accuracy: 0.0745 - val_loss: nan - val_accuracy: 0.0798\n",
      "Epoch 28/100\n",
      "984/984 [==============================] - 20s 21ms/step - loss: nan - accuracy: 0.0745 - val_loss: nan - val_accuracy: 0.0798\n",
      "Epoch 29/100\n",
      "984/984 [==============================] - 20s 20ms/step - loss: nan - accuracy: 0.0745 - val_loss: nan - val_accuracy: 0.0798\n",
      "Epoch 30/100\n",
      "984/984 [==============================] - 19s 20ms/step - loss: nan - accuracy: 0.0745 - val_loss: nan - val_accuracy: 0.0798\n",
      "Epoch 31/100\n",
      "984/984 [==============================] - 19s 20ms/step - loss: nan - accuracy: 0.0745 - val_loss: nan - val_accuracy: 0.0798\n",
      "Epoch 32/100\n",
      "984/984 [==============================] - 19s 20ms/step - loss: nan - accuracy: 0.0745 - val_loss: nan - val_accuracy: 0.0798\n",
      "Epoch 33/100\n",
      "984/984 [==============================] - 19s 20ms/step - loss: nan - accuracy: 0.0745 - val_loss: nan - val_accuracy: 0.0798\n",
      "Epoch 34/100\n",
      "984/984 [==============================] - 21s 22ms/step - loss: nan - accuracy: 0.0745 - val_loss: nan - val_accuracy: 0.0798\n",
      "Epoch 35/100\n",
      "984/984 [==============================] - 20s 20ms/step - loss: nan - accuracy: 0.0745 - val_loss: nan - val_accuracy: 0.0798\n",
      "Epoch 36/100\n",
      "984/984 [==============================] - 19s 20ms/step - loss: nan - accuracy: 0.0745 - val_loss: nan - val_accuracy: 0.0798\n",
      "Epoch 37/100\n",
      "984/984 [==============================] - 20s 20ms/step - loss: nan - accuracy: 0.0745 - val_loss: nan - val_accuracy: 0.0798\n",
      "Epoch 38/100\n",
      "984/984 [==============================] - 20s 20ms/step - loss: nan - accuracy: 0.0745 - val_loss: nan - val_accuracy: 0.0798\n",
      "Epoch 39/100\n",
      "984/984 [==============================] - 20s 20ms/step - loss: nan - accuracy: 0.0745 - val_loss: nan - val_accuracy: 0.0798\n",
      "Epoch 40/100\n",
      "984/984 [==============================] - 19s 19ms/step - loss: nan - accuracy: 0.0745 - val_loss: nan - val_accuracy: 0.0798\n",
      "Epoch 41/100\n",
      "984/984 [==============================] - 19s 19ms/step - loss: nan - accuracy: 0.0745 - val_loss: nan - val_accuracy: 0.0798\n",
      "Epoch 42/100\n",
      "984/984 [==============================] - 19s 19ms/step - loss: nan - accuracy: 0.0745 - val_loss: nan - val_accuracy: 0.0798\n",
      "Epoch 43/100\n",
      "984/984 [==============================] - 19s 19ms/step - loss: nan - accuracy: 0.0745 - val_loss: nan - val_accuracy: 0.0798\n",
      "Epoch 44/100\n",
      "984/984 [==============================] - 19s 19ms/step - loss: nan - accuracy: 0.0745 - val_loss: nan - val_accuracy: 0.0798\n",
      "Epoch 45/100\n",
      "984/984 [==============================] - 19s 19ms/step - loss: nan - accuracy: 0.0745 - val_loss: nan - val_accuracy: 0.0798\n",
      "Epoch 46/100\n",
      "984/984 [==============================] - 19s 19ms/step - loss: nan - accuracy: 0.0745 - val_loss: nan - val_accuracy: 0.0798\n",
      "Epoch 47/100\n",
      "984/984 [==============================] - 19s 19ms/step - loss: nan - accuracy: 0.0745 - val_loss: nan - val_accuracy: 0.0798\n",
      "Epoch 48/100\n",
      "984/984 [==============================] - 19s 19ms/step - loss: nan - accuracy: 0.0745 - val_loss: nan - val_accuracy: 0.0798\n",
      "Epoch 49/100\n",
      "984/984 [==============================] - 19s 19ms/step - loss: nan - accuracy: 0.0745 - val_loss: nan - val_accuracy: 0.0798\n",
      "Epoch 50/100\n",
      "984/984 [==============================] - 19s 19ms/step - loss: nan - accuracy: 0.0745 - val_loss: nan - val_accuracy: 0.0798\n",
      "Epoch 51/100\n",
      "984/984 [==============================] - 19s 19ms/step - loss: nan - accuracy: 0.0745 - val_loss: nan - val_accuracy: 0.0798\n",
      "Epoch 52/100\n",
      "984/984 [==============================] - 19s 19ms/step - loss: nan - accuracy: 0.0745 - val_loss: nan - val_accuracy: 0.0798\n",
      "Epoch 53/100\n",
      "984/984 [==============================] - 19s 19ms/step - loss: nan - accuracy: 0.0745 - val_loss: nan - val_accuracy: 0.0798\n",
      "Epoch 54/100\n",
      "984/984 [==============================] - 19s 19ms/step - loss: nan - accuracy: 0.0745 - val_loss: nan - val_accuracy: 0.0798\n",
      "Epoch 55/100\n",
      "984/984 [==============================] - 19s 20ms/step - loss: nan - accuracy: 0.0745 - val_loss: nan - val_accuracy: 0.0798\n",
      "Epoch 56/100\n",
      "984/984 [==============================] - 19s 20ms/step - loss: nan - accuracy: 0.0745 - val_loss: nan - val_accuracy: 0.0798\n",
      "Epoch 57/100\n",
      "984/984 [==============================] - 19s 20ms/step - loss: nan - accuracy: 0.0745 - val_loss: nan - val_accuracy: 0.0798\n",
      "Epoch 58/100\n",
      "984/984 [==============================] - 19s 20ms/step - loss: nan - accuracy: 0.0745 - val_loss: nan - val_accuracy: 0.0798\n",
      "Epoch 59/100\n",
      "984/984 [==============================] - 19s 20ms/step - loss: nan - accuracy: 0.0745 - val_loss: nan - val_accuracy: 0.0798\n",
      "Epoch 60/100\n",
      "984/984 [==============================] - 19s 20ms/step - loss: nan - accuracy: 0.0745 - val_loss: nan - val_accuracy: 0.0798\n",
      "Epoch 61/100\n",
      "984/984 [==============================] - 19s 20ms/step - loss: nan - accuracy: 0.0745 - val_loss: nan - val_accuracy: 0.0798\n",
      "Epoch 62/100\n",
      "984/984 [==============================] - 19s 20ms/step - loss: nan - accuracy: 0.0745 - val_loss: nan - val_accuracy: 0.0798\n",
      "Epoch 63/100\n",
      "984/984 [==============================] - 19s 20ms/step - loss: nan - accuracy: 0.0745 - val_loss: nan - val_accuracy: 0.0798\n",
      "Epoch 64/100\n",
      "984/984 [==============================] - 19s 19ms/step - loss: nan - accuracy: 0.0745 - val_loss: nan - val_accuracy: 0.0798\n",
      "Epoch 65/100\n",
      "984/984 [==============================] - 20s 20ms/step - loss: nan - accuracy: 0.0745 - val_loss: nan - val_accuracy: 0.0798\n",
      "Epoch 66/100\n",
      "984/984 [==============================] - 20s 20ms/step - loss: nan - accuracy: 0.0745 - val_loss: nan - val_accuracy: 0.0798\n",
      "Epoch 67/100\n",
      "984/984 [==============================] - 20s 20ms/step - loss: nan - accuracy: 0.0745 - val_loss: nan - val_accuracy: 0.0798\n",
      "Epoch 68/100\n",
      "984/984 [==============================] - 19s 19ms/step - loss: nan - accuracy: 0.0745 - val_loss: nan - val_accuracy: 0.0798\n",
      "Epoch 69/100\n",
      "984/984 [==============================] - 19s 19ms/step - loss: nan - accuracy: 0.0745 - val_loss: nan - val_accuracy: 0.0798\n",
      "Epoch 70/100\n",
      "984/984 [==============================] - 19s 19ms/step - loss: nan - accuracy: 0.0745 - val_loss: nan - val_accuracy: 0.0798\n",
      "Epoch 71/100\n",
      "984/984 [==============================] - 19s 19ms/step - loss: nan - accuracy: 0.0745 - val_loss: nan - val_accuracy: 0.0798\n",
      "Epoch 72/100\n",
      "984/984 [==============================] - 19s 19ms/step - loss: nan - accuracy: 0.0745 - val_loss: nan - val_accuracy: 0.0798\n",
      "Epoch 73/100\n",
      "984/984 [==============================] - 19s 19ms/step - loss: nan - accuracy: 0.0745 - val_loss: nan - val_accuracy: 0.0798\n",
      "Epoch 74/100\n",
      "984/984 [==============================] - 19s 19ms/step - loss: nan - accuracy: 0.0745 - val_loss: nan - val_accuracy: 0.0798\n",
      "Epoch 75/100\n",
      "984/984 [==============================] - 19s 19ms/step - loss: nan - accuracy: 0.0745 - val_loss: nan - val_accuracy: 0.0798\n",
      "Epoch 76/100\n",
      "984/984 [==============================] - 19s 19ms/step - loss: nan - accuracy: 0.0745 - val_loss: nan - val_accuracy: 0.0798\n",
      "Epoch 77/100\n",
      "984/984 [==============================] - 19s 19ms/step - loss: nan - accuracy: 0.0745 - val_loss: nan - val_accuracy: 0.0798\n",
      "Epoch 78/100\n",
      "984/984 [==============================] - 19s 19ms/step - loss: nan - accuracy: 0.0745 - val_loss: nan - val_accuracy: 0.0798\n",
      "Epoch 79/100\n",
      "984/984 [==============================] - 19s 19ms/step - loss: nan - accuracy: 0.0745 - val_loss: nan - val_accuracy: 0.0798\n",
      "Epoch 80/100\n",
      "984/984 [==============================] - 19s 19ms/step - loss: nan - accuracy: 0.0745 - val_loss: nan - val_accuracy: 0.0798\n",
      "Epoch 81/100\n",
      "984/984 [==============================] - 19s 19ms/step - loss: nan - accuracy: 0.0745 - val_loss: nan - val_accuracy: 0.0798\n",
      "Epoch 82/100\n",
      "984/984 [==============================] - 19s 19ms/step - loss: nan - accuracy: 0.0745 - val_loss: nan - val_accuracy: 0.0798\n",
      "Epoch 83/100\n",
      "984/984 [==============================] - 19s 19ms/step - loss: nan - accuracy: 0.0745 - val_loss: nan - val_accuracy: 0.0798\n",
      "Epoch 84/100\n",
      "984/984 [==============================] - 19s 19ms/step - loss: nan - accuracy: 0.0745 - val_loss: nan - val_accuracy: 0.0798\n",
      "Epoch 85/100\n",
      "984/984 [==============================] - 20s 20ms/step - loss: nan - accuracy: 0.0745 - val_loss: nan - val_accuracy: 0.0798\n",
      "Epoch 86/100\n",
      "984/984 [==============================] - 20s 20ms/step - loss: nan - accuracy: 0.0745 - val_loss: nan - val_accuracy: 0.0798\n",
      "Epoch 87/100\n",
      "984/984 [==============================] - 19s 19ms/step - loss: nan - accuracy: 0.0745 - val_loss: nan - val_accuracy: 0.0798\n",
      "Epoch 88/100\n",
      "984/984 [==============================] - 19s 19ms/step - loss: nan - accuracy: 0.0745 - val_loss: nan - val_accuracy: 0.0798\n",
      "Epoch 89/100\n",
      "984/984 [==============================] - 19s 20ms/step - loss: nan - accuracy: 0.0745 - val_loss: nan - val_accuracy: 0.0798\n",
      "Epoch 90/100\n",
      "984/984 [==============================] - 19s 20ms/step - loss: nan - accuracy: 0.0745 - val_loss: nan - val_accuracy: 0.0798\n",
      "Epoch 91/100\n",
      "984/984 [==============================] - 21s 22ms/step - loss: nan - accuracy: 0.0745 - val_loss: nan - val_accuracy: 0.0798\n",
      "Epoch 92/100\n",
      "984/984 [==============================] - 21s 21ms/step - loss: nan - accuracy: 0.0745 - val_loss: nan - val_accuracy: 0.0798\n",
      "Epoch 93/100\n",
      "984/984 [==============================] - 20s 21ms/step - loss: nan - accuracy: 0.0745 - val_loss: nan - val_accuracy: 0.0798\n",
      "Epoch 94/100\n",
      "984/984 [==============================] - 20s 21ms/step - loss: nan - accuracy: 0.0745 - val_loss: nan - val_accuracy: 0.0798\n",
      "Epoch 95/100\n",
      "984/984 [==============================] - 21s 21ms/step - loss: nan - accuracy: 0.0745 - val_loss: nan - val_accuracy: 0.0798\n",
      "Epoch 96/100\n",
      "984/984 [==============================] - 20s 21ms/step - loss: nan - accuracy: 0.0745 - val_loss: nan - val_accuracy: 0.0798\n",
      "Epoch 97/100\n",
      "984/984 [==============================] - 21s 21ms/step - loss: nan - accuracy: 0.0745 - val_loss: nan - val_accuracy: 0.0798\n",
      "Epoch 98/100\n",
      "984/984 [==============================] - 20s 21ms/step - loss: nan - accuracy: 0.0745 - val_loss: nan - val_accuracy: 0.0798\n",
      "Epoch 99/100\n",
      "984/984 [==============================] - 21s 22ms/step - loss: nan - accuracy: 0.0745 - val_loss: nan - val_accuracy: 0.0798\n",
      "Epoch 100/100\n",
      "984/984 [==============================] - 21s 21ms/step - loss: nan - accuracy: 0.0745 - val_loss: nan - val_accuracy: 0.0798\n"
     ]
    }
   ],
   "source": [
    "epochs = 100\n",
    "history = model.fit(train_dataset, validation_data=test_dataset, epochs=epochs)"
   ],
   "metadata": {
    "collapsed": false,
    "ExecuteTime": {
     "start_time": "2023-10-05T14:32:58.843149Z",
     "end_time": "2023-10-05T15:05:55.431238Z"
    }
   }
  },
  {
   "cell_type": "code",
   "execution_count": 12,
   "outputs": [
    {
     "data": {
      "text/plain": "<Figure size 640x480 with 1 Axes>",
      "image/png": "[encoded data removed]"
     },
     "metadata": {},
     "output_type": "display_data"
    }
   ],
   "source": [
    "plt.plot(range(1, epochs + 1), history.history['loss'], label=\"loss\")\n",
    "plt.plot(range(1, epochs + 1), history.history['val_loss'], label=\"val_loss\")\n",
    "plt.xlabel(\"epochs\")\n",
    "plt.title(\"total loss\")\n",
    "\n",
    "plt.legend()\n",
    "plt.show()"
   ],
   "metadata": {
    "collapsed": false,
    "ExecuteTime": {
     "start_time": "2023-10-05T15:15:22.406365Z",
     "end_time": "2023-10-05T15:15:22.663418Z"
    }
   }
  },
  {
   "cell_type": "code",
   "execution_count": 13,
   "outputs": [
    {
     "data": {
      "text/plain": "<Figure size 640x480 with 1 Axes>",
      "image/png": "[encoded data removed]"
     },
     "metadata": {},
     "output_type": "display_data"
    }
   ],
   "source": [
    "plt.plot(range(1, epochs + 1), history.history['accuracy'], label=\"accuracy\")\n",
    "plt.plot(range(1, epochs + 1), history.history['val_accuracy'], label=\"val_accuracy\")\n",
    "plt.xlabel(\"epochs\")\n",
    "plt.title(\"accuracy\")\n",
    "\n",
    "plt.legend()\n",
    "plt.show()"
   ],
   "metadata": {
    "collapsed": false,
    "ExecuteTime": {
     "start_time": "2023-10-05T15:15:22.804279Z",
     "end_time": "2023-10-05T15:15:22.988079Z"
    }
   }
  },
  {
   "cell_type": "code",
   "execution_count": null,
   "outputs": [],
   "source": [],
   "metadata": {
    "collapsed": false
   }
  },
  {
   "cell_type": "code",
   "execution_count": 14,
   "outputs": [
    {
     "name": "stdout",
     "output_type": "stream",
     "text": [
      "984/984 [==============================] - 7s 7ms/step\n",
      "247/247 [==============================] - 2s 6ms/step\n"
     ]
    }
   ],
   "source": [
    "train_preds = model.predict(train_dataset)\n",
    "test_preds = model.predict(test_dataset)"
   ],
   "metadata": {
    "collapsed": false,
    "ExecuteTime": {
     "start_time": "2023-10-05T15:15:28.725081Z",
     "end_time": "2023-10-05T15:15:38.640103Z"
    }
   }
  },
  {
   "cell_type": "code",
   "execution_count": 15,
   "outputs": [],
   "source": [
    "train_preds_nums = [np.argmax(x_) for x_ in train_preds.logits]\n",
    "test_preds_nums = [np.argmax(x_) for x_ in test_preds.logits]\n",
    "train_true_nums = y_train_\n",
    "test_true_nums = y_test_"
   ],
   "metadata": {
    "collapsed": false,
    "ExecuteTime": {
     "start_time": "2023-10-05T15:15:38.642101Z",
     "end_time": "2023-10-05T15:15:38.681357Z"
    }
   }
  },
  {
   "cell_type": "code",
   "execution_count": 19,
   "outputs": [
    {
     "data": {
      "text/plain": "array([[nan, nan, nan, ..., nan, nan, nan],\n       [nan, nan, nan, ..., nan, nan, nan],\n       [nan, nan, nan, ..., nan, nan, nan],\n       ...,\n       [nan, nan, nan, ..., nan, nan, nan],\n       [nan, nan, nan, ..., nan, nan, nan],\n       [nan, nan, nan, ..., nan, nan, nan]], dtype=float32)"
     },
     "execution_count": 19,
     "metadata": {},
     "output_type": "execute_result"
    }
   ],
   "source": [
    "train_preds.logits"
   ],
   "metadata": {
    "collapsed": false,
    "ExecuteTime": {
     "start_time": "2023-10-05T15:15:59.323826Z",
     "end_time": "2023-10-05T15:15:59.363577Z"
    }
   }
  },
  {
   "cell_type": "code",
   "execution_count": 16,
   "outputs": [],
   "source": [
    "def calculate_accuracy(actual_labels, predicted_labels):\n",
    "    correct_predictions = sum(1 for actual, predicted in zip(actual_labels, predicted_labels) if actual == predicted)\n",
    "    total_predictions = len(actual_labels)\n",
    "    accuracy = correct_predictions / total_predictions\n",
    "    return accuracy\n",
    "\n",
    "\n",
    "def draw_pred_lines(y_pred, y_real):\n",
    "    drawing_df = pd.DataFrame({\"Pred\": y_pred, \"Real\": y_real})\n",
    "    drawing_df = drawing_df.sort_values(\"Real\").reset_index(drop=True)\n",
    "\n",
    "    for key_, val_ in drawing_df.items():\n",
    "        plt.plot(range(len(val_)), val_, label=key_)\n",
    "\n",
    "    plt.xlabel(\"No\")\n",
    "    plt.ylabel(\"Redexes count\")\n",
    "    plt.title(\"Pred vs Real Step Time\")\n",
    "    plt.legend()\n",
    "    plt.show()"
   ],
   "metadata": {
    "collapsed": false,
    "ExecuteTime": {
     "start_time": "2023-10-05T15:15:38.674252Z",
     "end_time": "2023-10-05T15:15:38.686819Z"
    }
   }
  },
  {
   "cell_type": "code",
   "execution_count": null,
   "outputs": [],
   "source": [],
   "metadata": {
    "collapsed": false,
    "pycharm": {
     "is_executing": true
    }
   }
  },
  {
   "cell_type": "code",
   "execution_count": 17,
   "outputs": [
    {
     "name": "stdout",
     "output_type": "stream",
     "text": [
      "Train accuracy: 0.07452574525745258\n"
     ]
    },
    {
     "data": {
      "text/plain": "<Figure size 640x480 with 1 Axes>",
      "image/png": "[encoded data removed]"
     },
     "metadata": {},
     "output_type": "display_data"
    }
   ],
   "source": [
    "print(\"Train accuracy:\", calculate_accuracy(train_true_nums, train_preds_nums))\n",
    "draw_pred_lines(train_preds_nums, train_true_nums)"
   ],
   "metadata": {
    "collapsed": false,
    "ExecuteTime": {
     "start_time": "2023-10-05T15:15:38.687983Z",
     "end_time": "2023-10-05T15:15:38.855999Z"
    }
   }
  },
  {
   "cell_type": "code",
   "execution_count": 18,
   "outputs": [
    {
     "name": "stdout",
     "output_type": "stream",
     "text": [
      "Test accuracy: 0.07983761840324763\n"
     ]
    },
    {
     "data": {
      "text/plain": "<Figure size 640x480 with 1 Axes>",
      "image/png": "[encoded data removed]"
     },
     "metadata": {},
     "output_type": "display_data"
    }
   ],
   "source": [
    "print(\"Test accuracy:\", calculate_accuracy(test_true_nums, test_preds_nums))\n",
    "draw_pred_lines(test_preds_nums, test_true_nums)"
   ],
   "metadata": {
    "collapsed": false,
    "ExecuteTime": {
     "start_time": "2023-10-05T15:15:38.857211Z",
     "end_time": "2023-10-05T15:15:39.041906Z"
    }
   }
  },
  {
   "cell_type": "code",
   "execution_count": null,
   "outputs": [],
   "source": [],
   "metadata": {
    "collapsed": false
   }
  }
 ],
 "metadata": {
  "kernelspec": {
   "display_name": "Python 3",
   "language": "python",
   "name": "python3"
  },
  "language_info": {
   "codemirror_mode": {
    "name": "ipython",
    "version": 2
   },
   "file_extension": ".py",
   "mimetype": "text/x-python",
   "name": "python",
   "nbconvert_exporter": "python",
   "pygments_lexer": "ipython2",
   "version": "2.7.6"
  }
 },
 "nbformat": 4,
 "nbformat_minor": 0
}
