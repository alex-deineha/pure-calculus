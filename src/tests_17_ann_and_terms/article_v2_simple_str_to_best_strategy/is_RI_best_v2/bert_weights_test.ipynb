{
 "cells": [
  {
   "cell_type": "code",
   "execution_count": 2,
   "metadata": {
    "collapsed": true,
    "ExecuteTime": {
     "end_time": "2023-11-30T16:23:48.023613300Z",
     "start_time": "2023-11-30T16:23:44.725385900Z"
    }
   },
   "outputs": [],
   "source": [
    "import re\n",
    "import random\n",
    "import numpy as np\n",
    "import pandas as pd\n",
    "\n",
    "from tqdm import tqdm\n",
    "from collections import Counter\n",
    "\n",
    "import tensorflow as tf\n",
    "import tensorflow_addons as tfa\n",
    "from keras.models import Sequential\n",
    "from keras.callbacks import ModelCheckpoint\n",
    "\n",
    "from transformers import TFBertModel\n",
    "from keras.layers import Dense, Input, Flatten, AveragePooling1D, Dropout\n",
    "from keras.models import Model\n",
    "\n",
    "import tensorflow as tf\n",
    "from transformers import BertConfig\n",
    "from transformers import RobertaTokenizerFast\n",
    "\n",
    "from sklearn.utils import shuffle\n",
    "from sklearn.model_selection import train_test_split\n",
    "\n",
    "from sklearn.utils import shuffle\n",
    "from sklearn.model_selection import train_test_split\n",
    "from sklearn.preprocessing import LabelBinarizer\n",
    "\n",
    "from sklearn.metrics import mean_squared_error\n",
    "from sklearn.metrics import mean_absolute_error\n",
    "from sklearn.metrics import explained_variance_score\n",
    "\n",
    "from matplotlib import pyplot as plt\n",
    "from matplotlib import rcParams\n",
    "\n",
    "import sys\n",
    "import time"
   ]
  },
  {
   "cell_type": "code",
   "execution_count": 3,
   "outputs": [
    {
     "name": "stdout",
     "output_type": "stream",
     "text": [
      "Model: \"model\"\n",
      "__________________________________________________________________________________________________\n",
      " Layer (type)                   Output Shape         Param #     Connected to                     \n",
      "==================================================================================================\n",
      " input_ids (InputLayer)         [(None, 512)]        0           []                               \n",
      "                                                                                                  \n",
      " attention_mask (InputLayer)    [(None, 512)]        0           []                               \n",
      "                                                                                                  \n",
      " tf_bert_model (TFBertModel)    TFBaseModelOutputWi  130832      ['input_ids[0][0]',              \n",
      "                                thPoolingAndCrossAt               'attention_mask[0][0]']         \n",
      "                                tentions(last_hidde                                               \n",
      "                                n_state=(None, 512,                                               \n",
      "                                 84),                                                             \n",
      "                                 pooler_output=(Non                                               \n",
      "                                e, 84),                                                           \n",
      "                                 past_key_values=No                                               \n",
      "                                ne, hidden_states=N                                               \n",
      "                                one, attentions=Non                                               \n",
      "                                e, cross_attentions                                               \n",
      "                                =None)                                                            \n",
      "                                                                                                  \n",
      " average_pooling1d (AveragePool  (None, 10, 84)      0           ['tf_bert_model[0][0]']          \n",
      " ing1D)                                                                                           \n",
      "                                                                                                  \n",
      " flatten (Flatten)              (None, 840)          0           ['average_pooling1d[0][0]']      \n",
      "                                                                                                  \n",
      " dropout_7 (Dropout)            (None, 840)          0           ['flatten[0][0]']                \n",
      "                                                                                                  \n",
      " dense (Dense)                  (None, 1)            841         ['dropout_7[0][0]']              \n",
      "                                                                                                  \n",
      "==================================================================================================\n",
      "Total params: 131,673\n",
      "Trainable params: 131,673\n",
      "Non-trainable params: 0\n",
      "__________________________________________________________________________________________________\n"
     ]
    }
   ],
   "source": [
    "sequence_len = 512\n",
    "\n",
    "config = BertConfig(\n",
    "    vocab_size=9,\n",
    "    hidden_size=84,\n",
    "    num_hidden_layers=2,\n",
    "    num_attention_heads=6,\n",
    "    intermediate_size=64,\n",
    "    max_position_embeddings=sequence_len,\n",
    "    num_labels=2\n",
    ")\n",
    "\n",
    "bert = TFBertModel(config=config)\n",
    "bert.build()\n",
    "\n",
    "input_ids_in = Input(shape=(sequence_len,), name='input_ids', dtype='int32')\n",
    "input_masks_in = Input(shape=(sequence_len,), name='attention_mask', dtype='int32')\n",
    "\n",
    "embedding_layer = bert(input_ids_in, attention_mask=input_masks_in)[0]\n",
    "outputs = AveragePooling1D(pool_size=50)(embedding_layer)\n",
    "outputs = Flatten()(outputs)\n",
    "outputs = Dropout(rate=0.1)(outputs)\n",
    "outputs = Dense(units=1, activation=\"sigmoid\")(outputs)\n",
    "model = Model(inputs=[input_ids_in, input_masks_in], outputs=outputs)\n",
    "\n",
    "model.summary()"
   ],
   "metadata": {
    "collapsed": false,
    "ExecuteTime": {
     "end_time": "2023-11-30T16:24:53.865989100Z",
     "start_time": "2023-11-30T16:24:25.843390Z"
    }
   }
  },
  {
   "cell_type": "code",
   "execution_count": 4,
   "outputs": [
    {
     "name": "stdout",
     "output_type": "stream",
     "text": [
      "Model: \"model_1\"\n",
      "__________________________________________________________________________________________________\n",
      " Layer (type)                   Output Shape         Param #     Connected to                     \n",
      "==================================================================================================\n",
      " input_ids (InputLayer)         [(None, 512)]        0           []                               \n",
      "                                                                                                  \n",
      " attention_mask (InputLayer)    [(None, 512)]        0           []                               \n",
      "                                                                                                  \n",
      " tf_bert_model_1 (TFBertModel)  TFBaseModelOutputWi  130916      ['input_ids[0][0]',              \n",
      "                                thPoolingAndCrossAt               'attention_mask[0][0]']         \n",
      "                                tentions(last_hidde                                               \n",
      "                                n_state=(None, 512,                                               \n",
      "                                 84),                                                             \n",
      "                                 pooler_output=(Non                                               \n",
      "                                e, 84),                                                           \n",
      "                                 past_key_values=No                                               \n",
      "                                ne, hidden_states=N                                               \n",
      "                                one, attentions=Non                                               \n",
      "                                e, cross_attentions                                               \n",
      "                                =None)                                                            \n",
      "                                                                                                  \n",
      " average_pooling1d_1 (AveragePo  (None, 10, 84)      0           ['tf_bert_model_1[0][0]']        \n",
      " oling1D)                                                                                         \n",
      "                                                                                                  \n",
      " flatten_1 (Flatten)            (None, 840)          0           ['average_pooling1d_1[0][0]']    \n",
      "                                                                                                  \n",
      " dropout_15 (Dropout)           (None, 840)          0           ['flatten_1[0][0]']              \n",
      "                                                                                                  \n",
      " dense_1 (Dense)                (None, 1)            841         ['dropout_15[0][0]']             \n",
      "                                                                                                  \n",
      "==================================================================================================\n",
      "Total params: 131,757\n",
      "Trainable params: 131,757\n",
      "Non-trainable params: 0\n",
      "__________________________________________________________________________________________________\n"
     ]
    }
   ],
   "source": [
    "sequence_len = 512\n",
    "\n",
    "config = BertConfig(\n",
    "    vocab_size=10,\n",
    "    hidden_size=84,\n",
    "    num_hidden_layers=2,\n",
    "    num_attention_heads=6,\n",
    "    intermediate_size=64,\n",
    "    max_position_embeddings=sequence_len,\n",
    "    num_labels=2\n",
    ")\n",
    "\n",
    "bert = TFBertModel(config=config)\n",
    "bert.build()\n",
    "\n",
    "input_ids_in = Input(shape=(sequence_len,), name='input_ids', dtype='int32')\n",
    "input_masks_in = Input(shape=(sequence_len,), name='attention_mask', dtype='int32')\n",
    "\n",
    "embedding_layer = bert(input_ids_in, attention_mask=input_masks_in)[0]\n",
    "outputs = AveragePooling1D(pool_size=50)(embedding_layer)\n",
    "outputs = Flatten()(outputs)\n",
    "outputs = Dropout(rate=0.1)(outputs)\n",
    "outputs = Dense(units=1, activation=\"sigmoid\")(outputs)\n",
    "model = Model(inputs=[input_ids_in, input_masks_in], outputs=outputs)\n",
    "\n",
    "model.summary()"
   ],
   "metadata": {
    "collapsed": false,
    "ExecuteTime": {
     "end_time": "2023-11-30T16:25:28.474279200Z",
     "start_time": "2023-11-30T16:25:27.112216600Z"
    }
   }
  },
  {
   "cell_type": "code",
   "execution_count": 5,
   "outputs": [
    {
     "name": "stdout",
     "output_type": "stream",
     "text": [
      "Model: \"model_2\"\n",
      "__________________________________________________________________________________________________\n",
      " Layer (type)                   Output Shape         Param #     Connected to                     \n",
      "==================================================================================================\n",
      " input_ids (InputLayer)         [(None, 512)]        0           []                               \n",
      "                                                                                                  \n",
      " attention_mask (InputLayer)    [(None, 512)]        0           []                               \n",
      "                                                                                                  \n",
      " tf_bert_model_2 (TFBertModel)  TFBaseModelOutputWi  146876      ['input_ids[0][0]',              \n",
      "                                thPoolingAndCrossAt               'attention_mask[0][0]']         \n",
      "                                tentions(last_hidde                                               \n",
      "                                n_state=(None, 512,                                               \n",
      "                                 84),                                                             \n",
      "                                 pooler_output=(Non                                               \n",
      "                                e, 84),                                                           \n",
      "                                 past_key_values=No                                               \n",
      "                                ne, hidden_states=N                                               \n",
      "                                one, attentions=Non                                               \n",
      "                                e, cross_attentions                                               \n",
      "                                =None)                                                            \n",
      "                                                                                                  \n",
      " average_pooling1d_2 (AveragePo  (None, 10, 84)      0           ['tf_bert_model_2[0][0]']        \n",
      " oling1D)                                                                                         \n",
      "                                                                                                  \n",
      " flatten_2 (Flatten)            (None, 840)          0           ['average_pooling1d_2[0][0]']    \n",
      "                                                                                                  \n",
      " dropout_23 (Dropout)           (None, 840)          0           ['flatten_2[0][0]']              \n",
      "                                                                                                  \n",
      " dense_2 (Dense)                (None, 1)            841         ['dropout_23[0][0]']             \n",
      "                                                                                                  \n",
      "==================================================================================================\n",
      "Total params: 147,717\n",
      "Trainable params: 147,717\n",
      "Non-trainable params: 0\n",
      "__________________________________________________________________________________________________\n"
     ]
    }
   ],
   "source": [
    "sequence_len = 512\n",
    "\n",
    "config = BertConfig(\n",
    "    vocab_size=200,\n",
    "    hidden_size=84,\n",
    "    num_hidden_layers=2,\n",
    "    num_attention_heads=6,\n",
    "    intermediate_size=64,\n",
    "    max_position_embeddings=sequence_len,\n",
    "    num_labels=2\n",
    ")\n",
    "\n",
    "bert = TFBertModel(config=config)\n",
    "bert.build()\n",
    "\n",
    "input_ids_in = Input(shape=(sequence_len,), name='input_ids', dtype='int32')\n",
    "input_masks_in = Input(shape=(sequence_len,), name='attention_mask', dtype='int32')\n",
    "\n",
    "embedding_layer = bert(input_ids_in, attention_mask=input_masks_in)[0]\n",
    "outputs = AveragePooling1D(pool_size=50)(embedding_layer)\n",
    "outputs = Flatten()(outputs)\n",
    "outputs = Dropout(rate=0.1)(outputs)\n",
    "outputs = Dense(units=1, activation=\"sigmoid\")(outputs)\n",
    "model = Model(inputs=[input_ids_in, input_masks_in], outputs=outputs)\n",
    "\n",
    "model.summary()"
   ],
   "metadata": {
    "collapsed": false,
    "ExecuteTime": {
     "end_time": "2023-11-30T16:26:46.778145500Z",
     "start_time": "2023-11-30T16:26:45.109792700Z"
    }
   }
  },
  {
   "cell_type": "markdown",
   "source": [
    "# Tasks\n",
    "\n",
    "1. Train a model for predicting difference strategy steps in regression mode.\n",
    "2. Train a model for predicting difference in strategy steps with log of diff values in regression mode.\n",
    "3. Introduce terms with variables.\n",
    "4. Train model for is_RI_best problem on sample_weight = log(diff_RI_LO)\n",
    "\n"
   ],
   "metadata": {
    "collapsed": false
   }
  },
  {
   "cell_type": "code",
   "execution_count": null,
   "outputs": [],
   "source": [],
   "metadata": {
    "collapsed": false
   }
  }
 ],
 "metadata": {
  "kernelspec": {
   "display_name": "Python 3",
   "language": "python",
   "name": "python3"
  },
  "language_info": {
   "codemirror_mode": {
    "name": "ipython",
    "version": 2
   },
   "file_extension": ".py",
   "mimetype": "text/x-python",
   "name": "python",
   "nbconvert_exporter": "python",
   "pygments_lexer": "ipython2",
   "version": "2.7.6"
  }
 },
 "nbformat": 4,
 "nbformat_minor": 0
}
