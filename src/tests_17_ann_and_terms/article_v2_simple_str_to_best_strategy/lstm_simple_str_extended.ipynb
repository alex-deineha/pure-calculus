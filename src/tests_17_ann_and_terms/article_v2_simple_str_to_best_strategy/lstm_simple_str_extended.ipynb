{
 "cells": [
  {
   "cell_type": "markdown",
   "source": [
    "# Import the dependencies"
   ],
   "metadata": {
    "collapsed": false
   }
  },
  {
   "cell_type": "code",
   "execution_count": 1,
   "outputs": [],
   "source": [
    "import re\n",
    "import random\n",
    "import numpy as np\n",
    "import pandas as pd\n",
    "\n",
    "from tqdm import tqdm\n",
    "from collections import Counter\n",
    "\n",
    "import tensorflow as tf\n",
    "from keras.models import Sequential\n",
    "from keras.layers import Dense, Dropout, Flatten, LSTM, Conv1D, GlobalAveragePooling1D\n",
    "from keras.callbacks import ModelCheckpoint\n",
    "\n",
    "from sklearn.utils import shuffle\n",
    "from sklearn.model_selection import train_test_split\n",
    "from sklearn.preprocessing import LabelBinarizer\n",
    "\n",
    "from sklearn.metrics import mean_squared_error\n",
    "from sklearn.metrics import mean_absolute_error\n",
    "from sklearn.metrics import explained_variance_score\n",
    "\n",
    "from matplotlib import pyplot as plt\n",
    "from matplotlib import rcParams\n",
    "\n",
    "import sys\n",
    "import time\n",
    "\n",
    "sys.path.append(\"../../../\")\n",
    "from calculus_path_mod.terms.pseudonym import *\n",
    "from calculus_path_mod.reduction_strategy import *\n",
    "from calculus_path_mod.terms.arithm_complex_ops import *"
   ],
   "metadata": {
    "collapsed": false,
    "ExecuteTime": {
     "start_time": "2023-11-15T12:23:49.014106Z",
     "end_time": "2023-11-15T12:24:01.667680Z"
    }
   }
  },
  {
   "cell_type": "code",
   "execution_count": 2,
   "outputs": [],
   "source": [
    "epochs = 15\n",
    "num_lstm_neurons = 256\n",
    "num_pre_out_neurons = 256\n",
    "onehot_dims = 4"
   ],
   "metadata": {
    "collapsed": false,
    "ExecuteTime": {
     "start_time": "2023-11-15T12:24:01.665677Z",
     "end_time": "2023-11-15T12:24:01.678215Z"
    }
   }
  },
  {
   "cell_type": "markdown",
   "source": [
    "# Load & Prepare the data"
   ],
   "metadata": {
    "collapsed": false
   }
  },
  {
   "cell_type": "code",
   "execution_count": 3,
   "outputs": [],
   "source": [
    "enc_dict = {\"(\": [1.0, .0, .0, .0],\n",
    "            \")\": [.0, 1.0, .0, .0],\n",
    "            \"x\": [.0, .0, 1.0, .0],\n",
    "            \"@x.\": [.0, .0, .0, 1.0]}\n",
    "tokens_pattern = r\"(\\(|\\)|@x\\.|x)\"\n",
    "\n",
    "\n",
    "def tokenize_data(simplified_term):\n",
    "    return re.findall(tokens_pattern, simplified_term)\n",
    "\n",
    "\n",
    "def tokenize_and_vectorize(x_data):\n",
    "    vectorized_data_ = []\n",
    "    for sample_ in x_data:\n",
    "        tokens_ = tokenize_data(sample_)\n",
    "        sample_vecs_ = []\n",
    "        for token_ in tokens_:\n",
    "            try:\n",
    "                sample_vecs_.append(enc_dict[token_])\n",
    "            except KeyError:\n",
    "                pass\n",
    "        vectorized_data_.append(sample_vecs_)\n",
    "    return vectorized_data_"
   ],
   "metadata": {
    "collapsed": false,
    "ExecuteTime": {
     "start_time": "2023-11-15T12:24:01.682225Z",
     "end_time": "2023-11-15T12:24:01.714441Z"
    }
   }
  },
  {
   "cell_type": "code",
   "execution_count": 4,
   "outputs": [
    {
     "name": "stdout",
     "output_type": "stream",
     "text": [
      "Count all terms: 4251\n",
      "\n",
      "Count original terms: 4251\n",
      "\n",
      "max RI steps count: 1000\n",
      "max LO steps count: 219\n",
      "Count TESTING samples: 4251\n"
     ]
    }
   ],
   "source": [
    "all_data = pd.read_csv(\"../article_models_reduct_steps_by_simple_str/data_steps/steps_simple_term_str.csv\", delimiter=',')\n",
    "\n",
    "# leave only unique terms\n",
    "print(f\"Count all terms: {len(all_data)}\\n\")\n",
    "all_data = all_data.drop_duplicates(subset=\"simple_terms\").reset_index(drop=True)\n",
    "print(f\"Count original terms: {len(all_data)}\\n\")\n",
    "\n",
    "# shuffle the dataset\n",
    "all_data = shuffle(all_data, random_state=33).reset_index(drop=True)\n",
    "all_data = all_data.drop_duplicates([\"simple_terms\"])\n",
    "\n",
    "print(f\"max RI steps count: {max(all_data['RI_steps_num'])}\")\n",
    "print(f\"max LO steps count: {max(all_data['LO_steps_num'])}\")\n",
    "\n",
    "x_test = all_data[\"simple_terms\"].tolist()\n",
    "# LO has fewer steps -> 0\n",
    "# RI has fewer steps -> 1\n",
    "# LO == RI -> 2\n",
    "y_test = [2 if los == ris else 1 if los > ris else 0 for los, ris in zip(all_data[\"LO_steps_num\"].tolist(), all_data[\"RI_steps_num\"].tolist())]\n",
    "\n",
    "print(f\"Count TESTING samples: {len(y_test)}\")"
   ],
   "metadata": {
    "collapsed": false,
    "ExecuteTime": {
     "start_time": "2023-11-15T12:24:01.693907Z",
     "end_time": "2023-11-15T12:24:01.782538Z"
    }
   }
  },
  {
   "cell_type": "code",
   "execution_count": 5,
   "outputs": [
    {
     "name": "stdout",
     "output_type": "stream",
     "text": [
      "Count all terms: 44568\n",
      "\n",
      "Count original terms: 44568\n",
      "\n",
      "max RI steps count: 1000\n",
      "max LO steps count: 1000\n",
      "Count TRAINING samples: 44568\n"
     ]
    }
   ],
   "source": [
    "all_data = pd.read_csv(\"../article_models_reduct_steps_by_simple_str/data_steps/steps_simple_term_str_extended.csv\", delimiter=',')\n",
    "\n",
    "# leave only unique terms\n",
    "print(f\"Count all terms: {len(all_data)}\\n\")\n",
    "all_data = all_data.drop_duplicates(subset=\"simple_terms\").reset_index(drop=True)\n",
    "print(f\"Count original terms: {len(all_data)}\\n\")\n",
    "\n",
    "# shuffle the dataset\n",
    "all_data = shuffle(all_data, random_state=33).reset_index(drop=True)\n",
    "all_data = all_data.drop_duplicates([\"simple_terms\"])\n",
    "\n",
    "print(f\"max RI steps count: {max(all_data['RI_steps_num'])}\")\n",
    "print(f\"max LO steps count: {max(all_data['LO_steps_num'])}\")\n",
    "\n",
    "x_train = all_data[\"simple_terms\"].tolist()\n",
    "# LO has fewer steps -> 0\n",
    "# RI has fewer steps -> 1\n",
    "# LO == RI -> 2\n",
    "y_train = [2 if los == ris else 1 if los > ris else 0 for los, ris in zip(all_data[\"LO_steps_num\"].tolist(), all_data[\"RI_steps_num\"].tolist())]\n",
    "\n",
    "print(f\"Count TRAINING samples: {len(y_train)}\")"
   ],
   "metadata": {
    "collapsed": false,
    "ExecuteTime": {
     "start_time": "2023-11-15T12:24:01.739917Z",
     "end_time": "2023-11-15T12:24:02.050058Z"
    }
   }
  },
  {
   "cell_type": "code",
   "execution_count": 6,
   "outputs": [],
   "source": [
    "# one-hot encode y-data\n",
    "encoder = LabelBinarizer()\n",
    "encoder.fit(range(0, 3))\n",
    "y_train = encoder.transform(y_train)\n",
    "y_test = encoder.transform(y_test)\n",
    "\n",
    "x_train = tokenize_and_vectorize(x_train)\n",
    "x_test = tokenize_and_vectorize(x_test)\n",
    "\n",
    "# x_train = pad_trunk(x_train)\n",
    "# x_test = pad_trunk(x_test)"
   ],
   "metadata": {
    "collapsed": false,
    "ExecuteTime": {
     "start_time": "2023-11-15T12:24:02.054056Z",
     "end_time": "2023-11-15T12:24:05.612563Z"
    }
   }
  },
  {
   "cell_type": "code",
   "execution_count": 7,
   "outputs": [],
   "source": [
    "xy_train_data = list(zip(x_train, y_train))\n",
    "xy_test_data = list(zip(x_test, y_test))"
   ],
   "metadata": {
    "collapsed": false,
    "ExecuteTime": {
     "start_time": "2023-11-15T12:24:05.602916Z",
     "end_time": "2023-11-15T12:24:05.644041Z"
    }
   }
  },
  {
   "cell_type": "code",
   "execution_count": 8,
   "outputs": [
    {
     "name": "stdout",
     "output_type": "stream",
     "text": [
      "len(test_data) = 4251\n",
      "len(train_data) = 44568\n"
     ]
    }
   ],
   "source": [
    "print(f\"len(test_data) = {len(xy_test_data)}\")\n",
    "print(f\"len(train_data) = {len(xy_train_data)}\")"
   ],
   "metadata": {
    "collapsed": false,
    "ExecuteTime": {
     "start_time": "2023-11-15T12:24:05.635375Z",
     "end_time": "2023-11-15T12:24:05.691752Z"
    }
   }
  },
  {
   "cell_type": "code",
   "execution_count": 9,
   "outputs": [],
   "source": [
    "def train_generator():\n",
    "    while True:\n",
    "        random.shuffle(xy_train_data)\n",
    "        for xtd, ytd in xy_train_data:\n",
    "            yield np.array([xtd]), np.array([ytd])\n",
    "\n",
    "\n",
    "def val_generator():\n",
    "    while True:\n",
    "        for xtd, ytd in xy_test_data:\n",
    "            yield np.array([xtd]), np.array([ytd])"
   ],
   "metadata": {
    "collapsed": false,
    "ExecuteTime": {
     "start_time": "2023-11-14T17:51:14.650460Z",
     "end_time": "2023-11-14T17:51:14.671254Z"
    }
   }
  },
  {
   "cell_type": "markdown",
   "source": [
    "# Define the model"
   ],
   "metadata": {
    "collapsed": false
   }
  },
  {
   "cell_type": "code",
   "execution_count": 11,
   "outputs": [],
   "source": [
    "from keras.layers import Input\n",
    "from keras.models import Model\n",
    "\n",
    "model = Sequential()\n",
    "model.add(Input(shape=(None, onehot_dims)))\n",
    "model.add(LSTM(units=num_lstm_neurons))\n",
    "model.add(Dense(units=num_pre_out_neurons, activation=\"relu\"))\n",
    "model.add(Dense(units=3, activation=\"softmax\", name=\"cl_out\"))"
   ],
   "metadata": {
    "collapsed": false,
    "ExecuteTime": {
     "start_time": "2023-11-14T17:51:34.806868Z",
     "end_time": "2023-11-14T17:51:35.100804Z"
    }
   }
  },
  {
   "cell_type": "code",
   "execution_count": 12,
   "outputs": [
    {
     "name": "stdout",
     "output_type": "stream",
     "text": [
      "Model: \"sequential_1\"\n",
      "_________________________________________________________________\n",
      " Layer (type)                Output Shape              Param #   \n",
      "=================================================================\n",
      " lstm_1 (LSTM)               (None, 256)               267264    \n",
      "                                                                 \n",
      " dense_1 (Dense)             (None, 256)               65792     \n",
      "                                                                 \n",
      " cl_out (Dense)              (None, 3)                 771       \n",
      "                                                                 \n",
      "=================================================================\n",
      "Total params: 333,827\n",
      "Trainable params: 333,827\n",
      "Non-trainable params: 0\n",
      "_________________________________________________________________\n"
     ]
    }
   ],
   "source": [
    "model.compile(loss='categorical_crossentropy',\n",
    "              optimizer='adam',\n",
    "              metrics=['accuracy'])\n",
    "model.summary()"
   ],
   "metadata": {
    "collapsed": false,
    "ExecuteTime": {
     "start_time": "2023-11-14T17:51:36.764401Z",
     "end_time": "2023-11-14T17:51:36.822817Z"
    }
   }
  },
  {
   "cell_type": "code",
   "execution_count": 13,
   "outputs": [],
   "source": [
    "model_structure = model.to_json()\n",
    "with open(\"./fine_models/lstm_model_ext.json\", 'w') as json_file:\n",
    "    json_file.write(model_structure)"
   ],
   "metadata": {
    "collapsed": false,
    "ExecuteTime": {
     "start_time": "2023-11-14T17:51:56.870927Z",
     "end_time": "2023-11-14T17:51:56.897378Z"
    }
   }
  },
  {
   "cell_type": "code",
   "execution_count": 14,
   "outputs": [],
   "source": [
    "# Define the ModelCheckpoint callback\n",
    "checkpoint_callback = ModelCheckpoint(\n",
    "    filepath='./fine_models/lstm_model_ext.h5',  # Specify the path to save the best model\n",
    "    monitor='val_accuracy',  # Metric to monitor (e.g., validation loss)\n",
    "    save_best_only=True,  # Save only the best model\n",
    "    mode='max',  # 'min' or 'max' depending on the monitored metric\n",
    "    verbose=0  # Print a message when saving the model\n",
    ")"
   ],
   "metadata": {
    "collapsed": false,
    "ExecuteTime": {
     "start_time": "2023-11-14T17:52:03.343718Z",
     "end_time": "2023-11-14T17:52:03.367742Z"
    }
   }
  },
  {
   "cell_type": "code",
   "execution_count": 15,
   "outputs": [
    {
     "name": "stdout",
     "output_type": "stream",
     "text": [
      "Epoch 1/15\n",
      "44568/44568 [==============================] - 1186s 27ms/step - loss: 0.8609 - accuracy: 0.6276 - val_loss: 0.6920 - val_accuracy: 0.7309\n",
      "Epoch 2/15\n",
      "44568/44568 [==============================] - 1186s 27ms/step - loss: 0.7423 - accuracy: 0.7006 - val_loss: 0.6971 - val_accuracy: 0.7337\n",
      "Epoch 3/15\n",
      "44568/44568 [==============================] - 1188s 27ms/step - loss: 0.6610 - accuracy: 0.7370 - val_loss: 0.5798 - val_accuracy: 0.7638\n",
      "Epoch 4/15\n",
      "44568/44568 [==============================] - 1235s 28ms/step - loss: 0.5762 - accuracy: 0.7612 - val_loss: 0.5807 - val_accuracy: 0.7777\n",
      "Epoch 5/15\n",
      "44568/44568 [==============================] - 1345s 30ms/step - loss: 0.5191 - accuracy: 0.7857 - val_loss: 0.5976 - val_accuracy: 0.7822\n",
      "Epoch 6/15\n",
      "44568/44568 [==============================] - 1245s 28ms/step - loss: 0.4740 - accuracy: 0.8095 - val_loss: 0.6421 - val_accuracy: 0.7960\n",
      "Epoch 7/15\n",
      "44568/44568 [==============================] - 1167s 26ms/step - loss: 0.4458 - accuracy: 0.8220 - val_loss: 0.5972 - val_accuracy: 0.7895\n",
      "Epoch 8/15\n",
      "44568/44568 [==============================] - 1155s 26ms/step - loss: 0.4178 - accuracy: 0.8333 - val_loss: 0.6096 - val_accuracy: 0.7880\n",
      "Epoch 9/15\n",
      "44568/44568 [==============================] - 1161s 26ms/step - loss: 0.3925 - accuracy: 0.8450 - val_loss: 0.5939 - val_accuracy: 0.7812\n",
      "Epoch 10/15\n",
      "44568/44568 [==============================] - 1146s 26ms/step - loss: 0.3765 - accuracy: 0.8496 - val_loss: 0.6764 - val_accuracy: 0.7829\n",
      "Epoch 11/15\n",
      "44568/44568 [==============================] - 1145s 26ms/step - loss: 0.3584 - accuracy: 0.8609 - val_loss: 0.6800 - val_accuracy: 0.7850\n",
      "Epoch 12/15\n",
      "44568/44568 [==============================] - 1147s 26ms/step - loss: 0.3440 - accuracy: 0.8667 - val_loss: 0.7981 - val_accuracy: 0.7756\n",
      "Epoch 13/15\n",
      "44568/44568 [==============================] - 1136s 25ms/step - loss: 0.3357 - accuracy: 0.8693 - val_loss: 0.7432 - val_accuracy: 0.7556\n",
      "Epoch 14/15\n",
      "44568/44568 [==============================] - 1215s 27ms/step - loss: 0.3221 - accuracy: 0.8739 - val_loss: 0.8445 - val_accuracy: 0.7765\n",
      "Epoch 15/15\n",
      "44568/44568 [==============================] - 1237s 28ms/step - loss: 0.3228 - accuracy: 0.8754 - val_loss: 0.6773 - val_accuracy: 0.7735\n"
     ]
    }
   ],
   "source": [
    "history = model.fit(train_generator(), steps_per_epoch=len(xy_train_data), validation_data=val_generator(), validation_steps=len(xy_test_data),\n",
    "                    epochs=epochs, verbose=1, callbacks=[checkpoint_callback])"
   ],
   "metadata": {
    "collapsed": false,
    "ExecuteTime": {
     "start_time": "2023-11-14T17:52:04.952622Z",
     "end_time": "2023-11-14T22:50:19.952570Z"
    }
   }
  },
  {
   "cell_type": "code",
   "execution_count": 16,
   "outputs": [
    {
     "data": {
      "text/plain": "<Figure size 640x480 with 1 Axes>",
      "image/png": "[encoded data removed]"
     },
     "metadata": {},
     "output_type": "display_data"
    }
   ],
   "source": [
    "plt.plot(range(1, epochs + 1), history.history['loss'], label=\"loss\")\n",
    "plt.plot(range(1, epochs + 1), history.history['val_loss'], label=\"val_loss\")\n",
    "plt.xlabel(\"epochs\")\n",
    "plt.title(\"total loss\")\n",
    "\n",
    "plt.legend()\n",
    "plt.show()"
   ],
   "metadata": {
    "collapsed": false,
    "ExecuteTime": {
     "start_time": "2023-11-14T23:33:09.995848Z",
     "end_time": "2023-11-14T23:33:10.241432Z"
    }
   }
  },
  {
   "cell_type": "code",
   "execution_count": 17,
   "outputs": [
    {
     "data": {
      "text/plain": "<Figure size 640x480 with 1 Axes>",
      "image/png": "[encoded data removed]"
     },
     "metadata": {},
     "output_type": "display_data"
    }
   ],
   "source": [
    "plt.plot(range(1, epochs + 1), history.history['accuracy'], label=\"accuracy\")\n",
    "plt.plot(range(1, epochs + 1), history.history['val_accuracy'], label=\"val_accuracy\")\n",
    "plt.xlabel(\"epochs\")\n",
    "plt.title(\"total accuracy\")\n",
    "\n",
    "plt.legend()\n",
    "plt.show()"
   ],
   "metadata": {
    "collapsed": false,
    "ExecuteTime": {
     "start_time": "2023-11-14T23:33:11.139011Z",
     "end_time": "2023-11-14T23:33:11.360844Z"
    }
   }
  },
  {
   "cell_type": "code",
   "execution_count": 10,
   "outputs": [],
   "source": [
    "def calculate_accuracy(actual_labels, predicted_labels):\n",
    "    correct_predictions = sum(1 for actual, predicted in zip(actual_labels, predicted_labels) if actual == predicted)\n",
    "    total_predictions = len(actual_labels)\n",
    "    accuracy = correct_predictions / total_predictions\n",
    "    return accuracy\n",
    "\n",
    "\n",
    "from sklearn.metrics import confusion_matrix\n",
    "\n",
    "def plot_confusion_matrix(y_true, y_pred, classes, class_labels, normalize=False, title=None, cmap=plt.cm.Blues):\n",
    "    \"\"\"\n",
    "    This function plots the confusion matrix of a classification model.\n",
    "\n",
    "    Args:\n",
    "        y_true (numpy.ndarray): The ground truth labels.\n",
    "        y_pred (numpy.ndarray): The predicted labels.\n",
    "        classes (list): The list of class labels.\n",
    "        class_labels: The list of class names.\n",
    "        normalize (bool, optional): Whether to normalize the confusion matrix. Defaults to False.\n",
    "        title (str, optional): The title of the plot. Defaults to None.\n",
    "        cmap (matplotlib.colors.Colormap, optional): The colormap to use for the plot. Defaults to plt.cm.Blues.\n",
    "    \"\"\"\n",
    "\n",
    "    cm = confusion_matrix(y_true, y_pred, labels=classes)\n",
    "\n",
    "    if normalize:\n",
    "        cm = confusion_matrix(y_true, y_pred, labels=classes).astype('float') / cm.sum(axis=1)[:, np.newaxis]\n",
    "\n",
    "    fig, ax = plt.subplots()\n",
    "    im = ax.imshow(cm, interpolation='nearest', cmap=cmap)\n",
    "    ax.set_xticks(np.arange(len(classes)))\n",
    "    ax.set_yticks(np.arange(len(classes)))\n",
    "    ax.set_xticklabels(class_labels)\n",
    "    ax.set_yticklabels(class_labels)\n",
    "    plt.setp(ax.get_xticklabels(), rotation=45, ha='right')\n",
    "    ax.set_title(title)\n",
    "    fig.colorbar(im)\n",
    "\n",
    "    thresh = cm.max() / 2.\n",
    "    for i in range(len(classes)):\n",
    "        for j in range(len(classes)):\n",
    "            ij = float(cm[i, j])\n",
    "            ax.text(j, i, f\"{ij:.2f}\", ha='center', va='center', color='white' if ij > thresh else 'black')\n",
    "\n",
    "    plt.tight_layout()\n",
    "    plt.show()"
   ],
   "metadata": {
    "collapsed": false,
    "ExecuteTime": {
     "start_time": "2023-11-15T12:24:29.444852Z",
     "end_time": "2023-11-15T12:24:29.454611Z"
    }
   }
  },
  {
   "cell_type": "code",
   "execution_count": 9,
   "outputs": [],
   "source": [
    "# load the model\n",
    "\n",
    "with open(\"./fine_models/lstm_model_ext.json\", \"r\") as file:\n",
    "    loaded_model_json = file.read()\n",
    "\n",
    "model = tf.keras.models.model_from_json(loaded_model_json)\n",
    "model.load_weights(\"./fine_models/lstm_model_ext.h5\")"
   ],
   "metadata": {
    "collapsed": false,
    "ExecuteTime": {
     "start_time": "2023-11-15T12:24:26.303048Z",
     "end_time": "2023-11-15T12:24:29.205729Z"
    }
   }
  },
  {
   "cell_type": "code",
   "execution_count": 20,
   "outputs": [
    {
     "name": "stderr",
     "output_type": "stream",
     "text": [
      "100%|██████████| 4251/4251 [04:33<00:00, 15.57it/s]\n"
     ]
    },
    {
     "name": "stdout",
     "output_type": "stream",
     "text": [
      "Test accuracy: 0.7960479887085392\n"
     ]
    },
    {
     "data": {
      "text/plain": "<Figure size 640x480 with 2 Axes>",
      "image/png": "[encoded data removed]"
     },
     "metadata": {},
     "output_type": "display_data"
    },
    {
     "data": {
      "text/plain": "<Figure size 640x480 with 2 Axes>",
      "image/png": "[encoded data removed]"
     },
     "metadata": {},
     "output_type": "display_data"
    }
   ],
   "source": [
    "y_test_pred = []\n",
    "for x_ in tqdm(x_test):\n",
    "    y_test_pred.append(model.predict(np.array([x_]), verbose=0)[0])\n",
    "\n",
    "y_test_pred_nums = encoder.inverse_transform(np.array(y_test_pred))\n",
    "y_test_nums = encoder.inverse_transform(y_test)\n",
    "\n",
    "print(\"Test accuracy:\", calculate_accuracy(y_test_nums, y_test_pred_nums))\n",
    "plot_confusion_matrix(y_test_nums, y_test_pred_nums, classes=[0, 1, 2], class_labels=[\"LO\", \"RI\", \"LO == RI\"])\n",
    "plot_confusion_matrix(y_test_nums, y_test_pred_nums, classes=[0, 1, 2], class_labels=[\"LO\", \"RI\", \"LO == RI\"], normalize=True)"
   ],
   "metadata": {
    "collapsed": false,
    "ExecuteTime": {
     "start_time": "2023-11-14T23:33:20.361443Z",
     "end_time": "2023-11-14T23:37:53.740456Z"
    }
   }
  },
  {
   "cell_type": "code",
   "execution_count": null,
   "outputs": [],
   "source": [],
   "metadata": {
    "collapsed": false,
    "ExecuteTime": {
     "end_time": "2023-10-26T22:29:26.072360500Z",
     "start_time": "2023-10-26T22:29:26.053349400Z"
    }
   }
  },
  {
   "cell_type": "code",
   "execution_count": 11,
   "outputs": [
    {
     "name": "stderr",
     "output_type": "stream",
     "text": [
      "100%|██████████| 44568/44568 [53:56<00:00, 13.77it/s]  \n"
     ]
    },
    {
     "name": "stdout",
     "output_type": "stream",
     "text": [
      "Train accuracy: 0.8193322563274098\n"
     ]
    },
    {
     "data": {
      "text/plain": "<Figure size 640x480 with 2 Axes>",
      "image/png": "[encoded data removed]"
     },
     "metadata": {},
     "output_type": "display_data"
    },
    {
     "data": {
      "text/plain": "<Figure size 640x480 with 2 Axes>",
      "image/png": "[encoded data removed]"
     },
     "metadata": {},
     "output_type": "display_data"
    }
   ],
   "source": [
    "y_train_pred = []\n",
    "for x_ in tqdm(x_train):\n",
    "    res_ = encoder.inverse_transform(np.array([model.predict(np.array([x_]), verbose=0)[0],]))[0]\n",
    "    y_train_pred.append(res_)\n",
    "\n",
    "y_train_pred_nums =y_train_pred\n",
    "y_train_nums = encoder.inverse_transform(y_train)\n",
    "\n",
    "print(\"Train accuracy:\", calculate_accuracy(y_train_nums, y_train_pred_nums))\n",
    "plot_confusion_matrix(y_train_nums, y_train_pred_nums, classes=[0, 1, 2], class_labels=[\"LO\", \"RI\", \"LO == RI\"])\n",
    "plot_confusion_matrix(y_train_nums, y_train_pred_nums, classes=[0, 1, 2], class_labels=[\"LO\", \"RI\", \"LO == RI\"], normalize=True)"
   ],
   "metadata": {
    "collapsed": false,
    "ExecuteTime": {
     "start_time": "2023-11-15T12:24:49.719778Z",
     "end_time": "2023-11-15T13:18:46.362339Z"
    }
   }
  },
  {
   "cell_type": "code",
   "execution_count": null,
   "outputs": [],
   "source": [],
   "metadata": {
    "collapsed": false
   }
  },
  {
   "cell_type": "markdown",
   "source": [
    "# Do additional metrics testing"
   ],
   "metadata": {
    "collapsed": false
   }
  },
  {
   "cell_type": "code",
   "execution_count": 12,
   "outputs": [
    {
     "name": "stdout",
     "output_type": "stream",
     "text": [
      "(λx. (λy.y)) ((λx. (xx)) (λx. (xx))) == I == λx. x\n",
      "best real -> LO\tbest pred -> LO\n",
      "\n",
      "(ITE TRUE 3 1) == 3 == λx. λy. (x (x (x y)))\n",
      "best real -> LO == RI\tbest pred -> LO == RI\n",
      "\n",
      "(ITE FALSE 0 4) == 4 == λx. λy. (x (x (x (x y))))\n",
      "best real -> LO == RI\tbest pred -> LO == RI\n",
      "\n",
      "(PRED 0) == 0 == λx. λy. y\n",
      "best real -> LO == RI\tbest pred -> LO == RI\n",
      "\n",
      "(PRED 5) == 4 == λx. λy. (x (x (x (x y))))\n",
      "best real -> LO == RI\tbest pred -> RI\n",
      "\n",
      "(PLUS 0 0) == 0 == λx. λy. y\n",
      "best real -> LO == RI\tbest pred -> LO == RI\n",
      "\n",
      "(PLUS 2 3) == 5 == λx. λy. (x (x (x (x (x y)))))\n",
      "best real -> LO == RI\tbest pred -> LO == RI\n",
      "\n",
      "(SUBTRACT 3 5) == 0 == λx. λy. y\n",
      "best real -> LO == RI\tbest pred -> RI\n",
      "\n",
      "(LEQ 3 2) == FALSE == λx. λy. y\n",
      "best real -> LO\tbest pred -> LO\n",
      "\n",
      "(LEQ 2 5) == TRUE == λx. λy. x\n",
      "best real -> LO == RI\tbest pred -> RI\n",
      "\n",
      "(EQ 2 2) == TRUE == λx. λy. x\n",
      "best real -> LO\tbest pred -> LO\n",
      "\n",
      "(EQ 1 4) == FALSE == λx. λy. y\n",
      "best real -> LO\tbest pred -> LO\n",
      "\n",
      "Omega(3, 3)  == I == λx. x\n",
      "best real -> RI\tbest pred -> RI\n",
      "\n",
      "GCD_vO 5 2\n",
      "best real -> LO == RI\tbest pred -> LO\n",
      "\n",
      "GCD_v1 5 2\n",
      "best real -> LO == RI\tbest pred -> LO\n",
      "\n",
      "GCD_v3 5 2\n",
      "best real -> LO == RI\tbest pred -> LO\n",
      "\n",
      "PYTHAGOREAN 5 2 2\n",
      "best real -> LO == RI\tbest pred -> LO\n",
      "\n"
     ]
    }
   ],
   "source": [
    "def ite_term():\n",
    "    x, y, c = Var(), Var(), Var()\n",
    "    x_, y_, c_ = Atom(x), Atom(y), Atom(c)\n",
    "    return Lambda(c, Lambda(x, Lambda(y, multi_app_term(c_, x_, y_))))\n",
    "\n",
    "\n",
    "def true_term():\n",
    "    x, y = Var(), Var()\n",
    "    x_ = Atom(x)\n",
    "    return Lambda(x, Lambda(y, x_))\n",
    "\n",
    "\n",
    "def num_zero_term():\n",
    "    s, z = Var(), Var()\n",
    "    z_ = Atom(z)\n",
    "    return Lambda(s, Lambda(z, z_))\n",
    "\n",
    "\n",
    "def num_term(n: int):\n",
    "    if n <= 0:\n",
    "        return num_zero_term()\n",
    "    s, z = Var(), Var()\n",
    "    s_, z_ = Atom(s), Atom(z)\n",
    "    core_term = App(s_, z_)\n",
    "    for _ in range(n - 1):\n",
    "        core_term = App(s_, core_term)\n",
    "    return Lambda(s, Lambda(z, core_term))\n",
    "\n",
    "\n",
    "def multi_app_term(term_0: Term, term_1: Term, *terms: Term):\n",
    "    res_app_term = App(term_0, term_1)\n",
    "    for term in terms:\n",
    "        res_app_term = App(res_app_term, term)\n",
    "    return res_app_term\n",
    "\n",
    "\n",
    "def false_term():\n",
    "    x, y = Var(), Var()\n",
    "    y_ = Atom(y)\n",
    "    return Lambda(x, Lambda(y, y_))\n",
    "\n",
    "\n",
    "def pair_term():\n",
    "    x, y, p = Var(), Var(), Var()\n",
    "    x_, y_, p_ = Atom(x), Atom(y), Atom(p)\n",
    "    return Lambda(x, Lambda(y, Lambda(p, multi_app_term(p_, x_, y_))))\n",
    "\n",
    "\n",
    "def first_term():\n",
    "    p = Var()\n",
    "    p_ = Atom(p)\n",
    "    return Lambda(p, App(p_, true_term()))\n",
    "\n",
    "\n",
    "def second_term():\n",
    "    p = Var()\n",
    "    p_ = Atom(p)\n",
    "    return Lambda(p, App(p_, false_term()))\n",
    "\n",
    "\n",
    "def succ_term():\n",
    "    x, y, n = Var(), Var(), Var()\n",
    "    x_, y_, n_ = Atom(x), Atom(y), Atom(n)\n",
    "    return Lambda(n, Lambda(x, Lambda(y, App(x_, multi_app_term(n_, x_, y_)))))\n",
    "\n",
    "\n",
    "def sinc_term():\n",
    "    p = Var()\n",
    "    p_ = Atom(p)\n",
    "    return Lambda(\n",
    "        p,\n",
    "        multi_app_term(\n",
    "            pair_term(),\n",
    "            App(second_term(), p_),\n",
    "            App(succ_term(), App(second_term(), p_)),\n",
    "        ),\n",
    "    )\n",
    "\n",
    "\n",
    "def pred_term():\n",
    "    n, f, x, g, h, u = Var(), Var(), Var(), Var(), Var(), Var()\n",
    "    n_, f_, x_ = Atom(n), Atom(f), Atom(x)\n",
    "    g_, h_, u_ = Atom(g), Atom(h), Atom(u)\n",
    "\n",
    "    return Lambda(n, Lambda(f, Lambda(x, multi_app_term(\n",
    "        n_,\n",
    "        Lambda(g, Lambda(h, App(h_, App(g_, f_)))),\n",
    "        Lambda(u, x_),\n",
    "        Lambda(u, u_)\n",
    "    ))))\n",
    "\n",
    "\n",
    "def plus_term():\n",
    "    n, m = Var(), Var()\n",
    "    n_, m_ = Atom(n), Atom(m)\n",
    "    return Lambda(m, Lambda(n, multi_app_term(n_, succ_term(), m_)))\n",
    "\n",
    "\n",
    "def subtract_term():\n",
    "    n, m = Var(), Var()\n",
    "    n_, m_ = Atom(n), Atom(m)\n",
    "    return Lambda(n, Lambda(m, multi_app_term(m_, pred_term(), n_)))\n",
    "\n",
    "\n",
    "def iszero_term():\n",
    "    x, n = Var(), Var()\n",
    "    n_ = Atom(n)\n",
    "    return Lambda(n, App(App(n_, Lambda(x, false_term())), true_term()))\n",
    "\n",
    "\n",
    "def leq_term():\n",
    "    n, m = Var(), Var()\n",
    "    n_, m_ = Atom(n), Atom(m)\n",
    "    return Lambda(\n",
    "        n, Lambda(m, App(iszero_term(), multi_app_term(subtract_term(), n_, m_)))\n",
    "    )\n",
    "\n",
    "\n",
    "def and_term():\n",
    "    a, b = Var(), Var()\n",
    "    a_, b_ = Atom(a), Atom(b)\n",
    "    return Lambda(a, Lambda(b, multi_app_term(ite_term(), a_, b_, a_)))\n",
    "\n",
    "\n",
    "def eq_term():\n",
    "    n, m = Var(), Var()\n",
    "    n_, m_ = Atom(n), Atom(m)\n",
    "    return Lambda(\n",
    "        n,\n",
    "        Lambda(\n",
    "            m,\n",
    "            multi_app_term(\n",
    "                and_term(),\n",
    "                multi_app_term(leq_term(), n_, m_),\n",
    "                multi_app_term(leq_term(), m_, n_),\n",
    "            ),\n",
    "        ),\n",
    "    )\n",
    "\n",
    "\n",
    "def i_term():\n",
    "    x = Var()\n",
    "    x_ = Atom(x)\n",
    "    return Lambda(x, x_)\n",
    "\n",
    "\n",
    "def omega_term(n: int):\n",
    "    x = Var()\n",
    "    x_ = Atom(x)\n",
    "    body_app_term = x_\n",
    "    for _ in range(n - 1):\n",
    "        body_app_term = App(body_app_term, x_)\n",
    "    return Lambda(x, body_app_term)\n",
    "\n",
    "\n",
    "def multi_i_term(m: int):\n",
    "    app_term = i_term()\n",
    "    for _ in range(m - 1):\n",
    "        app_term = App(app_term, i_term())\n",
    "    return app_term\n",
    "\n",
    "\n",
    "def omega_multi_i_term(n: int, m: int):\n",
    "    return App(omega_term(n), multi_i_term(m))\n",
    "\n",
    "\n",
    "def term_test_1():\n",
    "    x, y = Var(), Var()\n",
    "    x_, y_ = Atom(x), Atom(y)\n",
    "\n",
    "    return \"(λx. (λy.y)) ((λx. (xx)) (λx. (xx))) == I == λx. x\", \\\n",
    "        App(\n",
    "            Lambda(x, Lambda(y, y_)),\n",
    "            App(\n",
    "                Lambda(x, App(x_, x_)),\n",
    "                Lambda(x, App(x_, x_))\n",
    "            )\n",
    "        )\n",
    "\n",
    "\n",
    "def term_test_2():\n",
    "    return \"(ITE TRUE 3 1) == 3 == λx. λy. (x (x (x y)))\", \\\n",
    "        multi_app_term(ite_term(), true_term(), num_term(3), num_term(1))\n",
    "\n",
    "\n",
    "def term_test_3():\n",
    "    return \"(ITE FALSE 0 4) == 4 == λx. λy. (x (x (x (x y))))\", \\\n",
    "        multi_app_term(ite_term(), false_term(), num_term(0), num_term(4))\n",
    "\n",
    "\n",
    "def term_test_4():\n",
    "    return \"(PRED 0) == 0 == λx. λy. y\", \\\n",
    "        multi_app_term(pred_term(), num_term(0))\n",
    "\n",
    "\n",
    "def term_test_5():\n",
    "    return \"(PRED 5) == 4 == λx. λy. (x (x (x (x y))))\", \\\n",
    "        multi_app_term(pred_term(), num_term(5))\n",
    "\n",
    "\n",
    "def term_test_6():\n",
    "    return \"(PLUS 0 0) == 0 == λx. λy. y\", \\\n",
    "        multi_app_term(plus_term(), num_term(0), num_term(0))\n",
    "\n",
    "\n",
    "def term_test_7():\n",
    "    return \"(PLUS 2 3) == 5 == λx. λy. (x (x (x (x (x y)))))\", \\\n",
    "        multi_app_term(plus_term(), num_term(2), num_term(3))\n",
    "\n",
    "\n",
    "def term_test_8():\n",
    "    return \"(SUBTRACT 4 1) == 3 == λx. λy. (x (x (x y)))\", \\\n",
    "        multi_app_term(subtract_term(), num_term(4), num_term(1))\n",
    "\n",
    "\n",
    "def term_test_9():\n",
    "    return \"(SUBTRACT 3 5) == 0 == λx. λy. y\", \\\n",
    "        multi_app_term(subtract_term(), num_term(3), num_term(5))\n",
    "\n",
    "\n",
    "def term_test_10():\n",
    "    return \"(LEQ 3 2) == FALSE == λx. λy. y\", \\\n",
    "        multi_app_term(leq_term(), num_term(3), num_term(2))\n",
    "\n",
    "\n",
    "def term_test_11():\n",
    "    return \"(LEQ 2 5) == TRUE == λx. λy. x\", \\\n",
    "        multi_app_term(leq_term(), num_term(2), num_term(5))\n",
    "\n",
    "\n",
    "def term_test_12():\n",
    "    return \"(EQ 2 2) == TRUE == λx. λy. x\", \\\n",
    "        multi_app_term(eq_term(), num_term(2), num_term(2))\n",
    "\n",
    "\n",
    "def term_test_13():\n",
    "    return \"(EQ 1 4) == FALSE == λx. λy. y\", \\\n",
    "        multi_app_term(eq_term(), num_term(1), num_term(4))\n",
    "\n",
    "\n",
    "def term_test_14():\n",
    "    return \"Omega(3, 3)  == I == λx. x\", \\\n",
    "        omega_multi_i_term(3, 3)\n",
    "\n",
    "\n",
    "def term_test_15():\n",
    "    return \"GCD_vO 5 2\", \\\n",
    "        multi_app_term(gcd_term_v0(), num_term(5), num_term(2))\n",
    "\n",
    "\n",
    "def term_test_16():\n",
    "    return \"GCD_v1 5 2\", \\\n",
    "        multi_app_term(gcd_term_v1(), num_term(5), num_term(2))\n",
    "\n",
    "\n",
    "def term_test_17():\n",
    "    return \"GCD_v3 5 2\", \\\n",
    "        multi_app_term(gcd_term_v3(), num_term(5), num_term(2))\n",
    "\n",
    "\n",
    "def term_test_18():\n",
    "    return \"PYTHAGOREAN 5 2 2\", \\\n",
    "        multi_app_term(\n",
    "            pythagorean_term(), num_term(5), num_term(2), num_term(2)\n",
    "        )\n",
    "\n",
    "\n",
    "def test_function(term_deskr_: str, term_: Term, model_: Sequential):\n",
    "    simple_str = term_.simple_str()\n",
    "    prediction_ = model_.predict(np.array(tokenize_and_vectorize([simple_str])), verbose=0)\n",
    "    los = term_.normalize(LOStrategy())[1]\n",
    "    ris = term_.normalize(RIStrategy())[1]\n",
    "    res_real = 2 if los == ris else 1 if los > ris else 0\n",
    "    class_labels = [\"LO\", \"RI\", \"LO == RI\"]\n",
    "    print(f\"{term_deskr_}\\nbest real -> {class_labels[res_real]}\\tbest pred -> {class_labels[np.argmax(prediction_[0])]}\\n\")\n",
    "\n",
    "\n",
    "list_test_functions = (\n",
    "term_test_1, term_test_2, term_test_3, term_test_4, term_test_5, term_test_6, term_test_7, term_test_9, term_test_10,\n",
    "term_test_11, term_test_12, term_test_13, term_test_14, term_test_15, term_test_16, term_test_17, term_test_18)\n",
    "\n",
    "for term_function in list_test_functions:\n",
    "    term_deskr, term = term_function()\n",
    "    test_function(term_deskr, term, model)"
   ],
   "metadata": {
    "collapsed": false,
    "ExecuteTime": {
     "start_time": "2023-11-15T13:18:59.196474Z",
     "end_time": "2023-11-15T13:21:20.199031Z"
    }
   }
  },
  {
   "cell_type": "code",
   "execution_count": null,
   "outputs": [],
   "source": [],
   "metadata": {
    "collapsed": false,
    "ExecuteTime": {
     "end_time": "2023-10-26T22:42:34.625053500Z",
     "start_time": "2023-10-26T22:42:34.496051700Z"
    }
   }
  }
 ],
 "metadata": {
  "kernelspec": {
   "display_name": "Python 3",
   "language": "python",
   "name": "python3"
  },
  "language_info": {
   "codemirror_mode": {
    "name": "ipython",
    "version": 2
   },
   "file_extension": ".py",
   "mimetype": "text/x-python",
   "name": "python",
   "nbconvert_exporter": "python",
   "pygments_lexer": "ipython2",
   "version": "2.7.6"
  }
 },
 "nbformat": 4,
 "nbformat_minor": 0
}
