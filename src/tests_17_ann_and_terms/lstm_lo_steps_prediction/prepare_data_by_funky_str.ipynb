{
 "cells": [
  {
   "cell_type": "code",
   "execution_count": 1,
   "metadata": {
    "collapsed": true,
    "ExecuteTime": {
     "start_time": "2023-08-30T16:59:07.198008Z",
     "end_time": "2023-08-30T16:59:07.575044Z"
    }
   },
   "outputs": [],
   "source": [
    "import sys\n",
    "import re\n",
    "from tqdm import tqdm\n",
    "\n",
    "import matplotlib.pyplot as plt\n",
    "import pandas as pd\n",
    "import seaborn as sns\n",
    "import numpy as np\n",
    "from collections import Counter\n",
    "from joypy import joyplot\n",
    "\n",
    "sys.path.append(\"../\")\n",
    "from calculus_path_mod.term_engine import *\n",
    "from calculus_path_mod.reduction_strategy import *\n",
    "from calculus_path_mod.terms import num_comparison, nat_numbers, arithm_ops, combinators, pairs, logic\n",
    "from calculus_path_mod.terms.pseudonym import *\n",
    "\n",
    "from calculus_path_mod.json_serialization import load_terms\n",
    "from fitter import Fitter, get_common_distributions\n",
    "from calculus_utils.drawing import draw_steps_displot"
   ]
  },
  {
   "cell_type": "markdown",
   "source": [
    "# Load Terms filtered by LO & RI"
   ],
   "metadata": {
    "collapsed": false
   }
  },
  {
   "cell_type": "code",
   "execution_count": 2,
   "outputs": [],
   "source": [
    "terms_LO = load_terms(\"../../tests_11_retests/terms_210_filtered_LO.dat\")\n",
    "terms_RI = load_terms(\"../../tests_11_retests/terms_210_filtered_RI.dat\")"
   ],
   "metadata": {
    "collapsed": false,
    "ExecuteTime": {
     "start_time": "2023-08-30T16:59:07.576553Z",
     "end_time": "2023-08-30T16:59:07.691545Z"
    }
   }
  },
  {
   "cell_type": "markdown",
   "source": [
    "# Collect more terms with normalization process data for LO & LI strategies with terms_LO & terms_RI"
   ],
   "metadata": {
    "collapsed": false
   }
  },
  {
   "cell_type": "code",
   "execution_count": 7,
   "outputs": [],
   "source": [
    "def gen_norm_data(terms_list, strategy):\n",
    "    normalized_terms_dict = dict()\n",
    "    for term in tqdm(terms_list):\n",
    "        term_name = term.funky_v2_str().replace(\"_\", \"\")\n",
    "        normalized_terms_dict[term_name] = []\n",
    "        term_red_steps = 0\n",
    "        (step_term, _, _), norm_term = term.one_step_normalize_visual(strategy)\n",
    "        normalized_terms_dict[term_name].append(step_term.funky_v2_str().replace(\"_\", \"\"))\n",
    "\n",
    "        while norm_term:\n",
    "            normalized_terms_dict[term_name].append(norm_term.funky_v2_str().replace(\"_\", \"\"))\n",
    "            (step_term, _, _), norm_term = norm_term.one_step_normalize_visual(strategy)\n",
    "\n",
    "            # computation limitation\n",
    "            if (step_term.vertices_number > 3_000) or (term_red_steps > 400):\n",
    "                norm_term = None\n",
    "    return normalized_terms_dict"
   ],
   "metadata": {
    "collapsed": false,
    "ExecuteTime": {
     "start_time": "2023-08-30T17:09:41.030507Z",
     "end_time": "2023-08-30T17:09:41.052828Z"
    }
   }
  },
  {
   "cell_type": "code",
   "execution_count": 8,
   "outputs": [
    {
     "name": "stderr",
     "output_type": "stream",
     "text": [
      "100%|██████████| 226/226 [00:01<00:00, 209.39it/s]\n"
     ]
    }
   ],
   "source": [
    "res_OO = gen_norm_data(terms_LO, LOStrategy())"
   ],
   "metadata": {
    "collapsed": false,
    "ExecuteTime": {
     "start_time": "2023-08-30T17:09:44.486641Z",
     "end_time": "2023-08-30T17:09:45.575515Z"
    }
   }
  },
  {
   "cell_type": "code",
   "execution_count": 9,
   "outputs": [
    {
     "name": "stderr",
     "output_type": "stream",
     "text": [
      "100%|██████████| 223/223 [00:01<00:00, 127.78it/s]\n"
     ]
    }
   ],
   "source": [
    "res_IO = gen_norm_data(terms_RI, LOStrategy())"
   ],
   "metadata": {
    "collapsed": false,
    "ExecuteTime": {
     "start_time": "2023-08-30T17:09:48.593220Z",
     "end_time": "2023-08-30T17:09:50.343593Z"
    }
   }
  },
  {
   "cell_type": "markdown",
   "source": [
    "# Prepare the dataset"
   ],
   "metadata": {
    "collapsed": false
   }
  },
  {
   "cell_type": "code",
   "execution_count": 10,
   "outputs": [],
   "source": [
    "steps_lo = []\n",
    "simple_terms = []\n",
    "\n",
    "for res_ in (res_OO, res_IO):\n",
    "    for key_ in res_.keys():\n",
    "        list_red_steps = res_[key_]\n",
    "        total_steps = len(list_red_steps) - 1\n",
    "        for inx_ in range(total_steps + 1):\n",
    "            if list_red_steps[inx_] not in simple_terms:\n",
    "                simple_terms.append(list_red_steps[inx_])\n",
    "                steps_lo.append(total_steps - inx_)"
   ],
   "metadata": {
    "collapsed": false,
    "ExecuteTime": {
     "start_time": "2023-08-30T17:10:19.431781Z",
     "end_time": "2023-08-30T17:10:19.509438Z"
    }
   }
  },
  {
   "cell_type": "code",
   "execution_count": 11,
   "outputs": [],
   "source": [
    "df = pd.DataFrame({\"steps_num_lo\": steps_lo, \"full_terms\": simple_terms})\n",
    "df.to_csv(\"./data/steps_full_term_str.csv\", index=False)"
   ],
   "metadata": {
    "collapsed": false,
    "ExecuteTime": {
     "start_time": "2023-08-30T17:10:20.115890Z",
     "end_time": "2023-08-30T17:10:20.149141Z"
    }
   }
  },
  {
   "cell_type": "code",
   "execution_count": null,
   "outputs": [],
   "source": [],
   "metadata": {
    "collapsed": false
   }
  }
 ],
 "metadata": {
  "kernelspec": {
   "display_name": "Python 3",
   "language": "python",
   "name": "python3"
  },
  "language_info": {
   "codemirror_mode": {
    "name": "ipython",
    "version": 2
   },
   "file_extension": ".py",
   "mimetype": "text/x-python",
   "name": "python",
   "nbconvert_exporter": "python",
   "pygments_lexer": "ipython2",
   "version": "2.7.6"
  }
 },
 "nbformat": 4,
 "nbformat_minor": 0
}
