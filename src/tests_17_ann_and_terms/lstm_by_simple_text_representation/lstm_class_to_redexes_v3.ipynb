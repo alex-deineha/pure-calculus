{
 "cells": [
  {
   "cell_type": "markdown",
   "source": [
    "# Import the dependencies"
   ],
   "metadata": {
    "collapsed": false
   }
  },
  {
   "cell_type": "code",
   "execution_count": 1,
   "outputs": [],
   "source": [
    "import re\n",
    "import random\n",
    "import numpy as np\n",
    "import pandas as pd\n",
    "\n",
    "from keras.models import Sequential\n",
    "from keras.layers import Dense, Dropout, Flatten, LSTM\n",
    "\n",
    "from sklearn.utils import shuffle\n",
    "from sklearn.model_selection import train_test_split\n",
    "from sklearn.preprocessing import LabelBinarizer\n",
    "\n",
    "from matplotlib import pyplot as plt"
   ],
   "metadata": {
    "collapsed": false,
    "ExecuteTime": {
     "start_time": "2023-08-18T13:45:21.956254Z",
     "end_time": "2023-08-18T13:45:24.517639Z"
    }
   }
  },
  {
   "cell_type": "code",
   "execution_count": 2,
   "outputs": [],
   "source": [
    "batch_size = 32\n",
    "epochs = 20\n",
    "num_neurons = 64\n",
    "onehot_dims = 4"
   ],
   "metadata": {
    "collapsed": false,
    "ExecuteTime": {
     "start_time": "2023-08-18T13:45:24.519027Z",
     "end_time": "2023-08-18T13:45:24.522433Z"
    }
   }
  },
  {
   "cell_type": "markdown",
   "source": [
    "# Load & Prepare the data"
   ],
   "metadata": {
    "collapsed": false
   }
  },
  {
   "cell_type": "code",
   "execution_count": 3,
   "outputs": [],
   "source": [
    "enc_dict = {\"(\": [1.0, .0, .0, .0],\n",
    "            \")\": [.0, 1.0, .0, .0],\n",
    "            \"x\": [.0, .0, 1.0, .0],\n",
    "            \"@x.\": [.0, .0, .0, 1.0]}\n",
    "tokens_pattern = r\"(\\(|\\)|@x\\.|x)\"\n",
    "\n",
    "\n",
    "def tokenize_data(simplified_term):\n",
    "    return re.findall(tokens_pattern, simplified_term)\n",
    "\n",
    "\n",
    "def tokenize_and_vectorize(x_data):\n",
    "    vectorized_data_ = []\n",
    "    for sample_ in x_data:\n",
    "        tokens_ = tokenize_data(sample_)\n",
    "        sample_vecs_ = []\n",
    "        for token_ in tokens_:\n",
    "            try:\n",
    "                sample_vecs_.append(enc_dict[token_])\n",
    "            except KeyError:\n",
    "                pass\n",
    "        vectorized_data_.append(sample_vecs_)\n",
    "    return vectorized_data_"
   ],
   "metadata": {
    "collapsed": false,
    "ExecuteTime": {
     "start_time": "2023-08-18T13:45:24.526036Z",
     "end_time": "2023-08-18T13:45:24.531345Z"
    }
   }
  },
  {
   "cell_type": "code",
   "execution_count": 4,
   "outputs": [
    {
     "name": "stdout",
     "output_type": "stream",
     "text": [
      "Count samples before filtering: 9566\n",
      "Count samples after filtering redexes: 8911\n",
      "Count samples after filtering tokens sequences: 8908\n",
      "\n",
      "Count training samples: 7126\n",
      "Count testing samples: 1782\n"
     ]
    }
   ],
   "source": [
    "all_data = pd.read_csv(\"./data_simplified/collected_sLI_tLO.csv\", delimiter='\\t')\n",
    "\n",
    "all_data = pd.concat([all_data, pd.read_csv(\"./data_simplified/collected_sLI_tRI.csv\", delimiter='\\t')],\n",
    "                     ignore_index=True).reset_index(drop=True)\n",
    "all_data = pd.concat([all_data, pd.read_csv(\"./data_simplified/collected_sLO_tLO.csv\", delimiter='\\t')],\n",
    "                     ignore_index=True).reset_index(drop=True)\n",
    "all_data = pd.concat([all_data, pd.read_csv(\"./data_simplified/collected_sLO_tRI.csv\", delimiter='\\t')],\n",
    "                     ignore_index=True).reset_index(drop=True)\n",
    "\n",
    "# filter out count redexes for 0 - 19 & too long tokens sequences\n",
    "print(f\"Count samples before filtering: {len(all_data)}\")\n",
    "all_data = all_data[[redexes < 20 for redexes in all_data[\"redexes\"]]].reset_index(drop=True)\n",
    "print(f\"Count samples after filtering redexes: {len(all_data)}\")\n",
    "all_data = all_data[[len(tokenize_data(simplified_term)) <= 1_000 for simplified_term in all_data['simplified_term']]]\n",
    "print(f\"Count samples after filtering tokens sequences: {len(all_data)}\\n\")\n",
    "\n",
    "# shuffle the dataset\n",
    "all_data = shuffle(all_data, random_state=33).reset_index(drop=True)\n",
    "\n",
    "# make test/train split\n",
    "x_train, x_test, y_train, y_test = train_test_split(all_data[\"simplified_term\"].tolist(), all_data[\"redexes\"].tolist(),\n",
    "                                                    test_size=0.2, random_state=42)\n",
    "\n",
    "print(f\"Count training samples: {len(y_train)}\")\n",
    "print(f\"Count testing samples: {len(y_test)}\")"
   ],
   "metadata": {
    "collapsed": false,
    "ExecuteTime": {
     "start_time": "2023-08-18T13:45:24.535864Z",
     "end_time": "2023-08-18T13:45:24.699032Z"
    }
   }
  },
  {
   "cell_type": "code",
   "execution_count": 26,
   "outputs": [
    {
     "data": {
      "text/plain": "7319"
     },
     "execution_count": 26,
     "metadata": {},
     "output_type": "execute_result"
    }
   ],
   "source": [
    "len(all_data[\"simplified_term\"].unique())"
   ],
   "metadata": {
    "collapsed": false,
    "ExecuteTime": {
     "start_time": "2023-08-18T16:09:58.764033Z",
     "end_time": "2023-08-18T16:09:58.780824Z"
    }
   }
  },
  {
   "cell_type": "code",
   "execution_count": 5,
   "outputs": [],
   "source": [
    "# one-hot encode y-data\n",
    "encoder = LabelBinarizer()\n",
    "y_train = encoder.fit_transform(y_train)\n",
    "y_test = encoder.transform(y_test)\n",
    "\n",
    "x_train = tokenize_and_vectorize(x_train)\n",
    "x_test = tokenize_and_vectorize(x_test)"
   ],
   "metadata": {
    "collapsed": false,
    "ExecuteTime": {
     "start_time": "2023-08-18T13:45:24.700029Z",
     "end_time": "2023-08-18T13:45:24.875730Z"
    }
   }
  },
  {
   "cell_type": "code",
   "execution_count": 6,
   "outputs": [],
   "source": [
    "xy_train_data = list(zip(x_train, y_train))\n",
    "xy_test_data = list(zip(x_test, y_test))"
   ],
   "metadata": {
    "collapsed": false,
    "ExecuteTime": {
     "start_time": "2023-08-18T13:45:24.876740Z",
     "end_time": "2023-08-18T13:45:24.886436Z"
    }
   }
  },
  {
   "cell_type": "code",
   "execution_count": 7,
   "outputs": [
    {
     "name": "stdout",
     "output_type": "stream",
     "text": [
      "len(test_data) = 1782\n",
      "len(train_data) = 7126\n"
     ]
    }
   ],
   "source": [
    "print(f\"len(test_data) = {len(xy_test_data)}\")\n",
    "print(f\"len(train_data) = {len(xy_train_data)}\")"
   ],
   "metadata": {
    "collapsed": false,
    "ExecuteTime": {
     "start_time": "2023-08-18T13:45:27.209633Z",
     "end_time": "2023-08-18T13:45:27.219567Z"
    }
   }
  },
  {
   "cell_type": "code",
   "execution_count": 8,
   "outputs": [],
   "source": [
    "def train_generator():\n",
    "    while True:\n",
    "        random.shuffle(xy_train_data)\n",
    "        for xtd, ytd in xy_train_data:\n",
    "            yield np.array([xtd]), np.array([ytd])\n",
    "\n",
    "\n",
    "def test_generator():\n",
    "    while True:\n",
    "        for xtd, ytd in xy_test_data:\n",
    "            yield np.array([xtd]), np.array([ytd])"
   ],
   "metadata": {
    "collapsed": false,
    "ExecuteTime": {
     "start_time": "2023-08-18T13:45:29.075729Z",
     "end_time": "2023-08-18T13:45:29.097149Z"
    }
   }
  },
  {
   "cell_type": "markdown",
   "source": [
    "# Define the model"
   ],
   "metadata": {
    "collapsed": false
   }
  },
  {
   "cell_type": "code",
   "execution_count": 9,
   "outputs": [],
   "source": [
    "model = Sequential()\n",
    "model.add(LSTM(units=num_neurons,\n",
    "               input_shape=(None, onehot_dims)))\n",
    "model.add(Dense(20, activation='sigmoid'))"
   ],
   "metadata": {
    "collapsed": false,
    "ExecuteTime": {
     "start_time": "2023-08-18T13:45:34.906523Z",
     "end_time": "2023-08-18T13:45:35.157949Z"
    }
   }
  },
  {
   "cell_type": "code",
   "execution_count": 10,
   "outputs": [
    {
     "name": "stdout",
     "output_type": "stream",
     "text": [
      "Model: \"sequential\"\n",
      "_________________________________________________________________\n",
      " Layer (type)                Output Shape              Param #   \n",
      "=================================================================\n",
      " lstm (LSTM)                 (None, 64)                17664     \n",
      "                                                                 \n",
      " dense (Dense)               (None, 20)                1300      \n",
      "                                                                 \n",
      "=================================================================\n",
      "Total params: 18964 (74.08 KB)\n",
      "Trainable params: 18964 (74.08 KB)\n",
      "Non-trainable params: 0 (0.00 Byte)\n",
      "_________________________________________________________________\n"
     ]
    }
   ],
   "source": [
    "model.compile(loss='binary_crossentropy',\n",
    "              optimizer='adam',\n",
    "              metrics=['accuracy'])\n",
    "model.summary()"
   ],
   "metadata": {
    "collapsed": false,
    "ExecuteTime": {
     "start_time": "2023-08-18T13:45:37.922441Z",
     "end_time": "2023-08-18T13:45:37.979233Z"
    }
   }
  },
  {
   "cell_type": "code",
   "execution_count": 13,
   "outputs": [
    {
     "name": "stdout",
     "output_type": "stream",
     "text": [
      "Epoch 1/20\n",
      "7126/7126 [==============================] - 127s 18ms/step - loss: 0.1440 - accuracy: 0.2553\n",
      "Epoch 2/20\n",
      "7126/7126 [==============================] - 111s 16ms/step - loss: 0.1361 - accuracy: 0.2798\n",
      "Epoch 3/20\n",
      "7126/7126 [==============================] - 115s 16ms/step - loss: 0.1321 - accuracy: 0.3021\n",
      "Epoch 4/20\n",
      "7126/7126 [==============================] - 110s 15ms/step - loss: 0.1061 - accuracy: 0.4607\n",
      "Epoch 5/20\n",
      "7126/7126 [==============================] - 111s 16ms/step - loss: 0.0653 - accuracy: 0.7252\n",
      "Epoch 6/20\n",
      "7126/7126 [==============================] - 112s 16ms/step - loss: 0.0418 - accuracy: 0.8221\n",
      "Epoch 7/20\n",
      "7126/7126 [==============================] - 123s 17ms/step - loss: 0.0322 - accuracy: 0.8724\n",
      "Epoch 8/20\n",
      "7126/7126 [==============================] - 121s 17ms/step - loss: 0.0392 - accuracy: 0.8622\n",
      "Epoch 9/20\n",
      "7126/7126 [==============================] - 121s 17ms/step - loss: 0.0239 - accuracy: 0.9030\n",
      "Epoch 10/20\n",
      "7126/7126 [==============================] - 121s 17ms/step - loss: 0.0194 - accuracy: 0.9218\n",
      "Epoch 11/20\n",
      "7126/7126 [==============================] - 120s 17ms/step - loss: 0.0174 - accuracy: 0.9310\n",
      "Epoch 12/20\n",
      "7126/7126 [==============================] - 119s 17ms/step - loss: 0.0151 - accuracy: 0.9391\n",
      "Epoch 13/20\n",
      "7126/7126 [==============================] - 120s 17ms/step - loss: 0.0108 - accuracy: 0.9533\n",
      "Epoch 14/20\n",
      "7126/7126 [==============================] - 121s 17ms/step - loss: 0.0259 - accuracy: 0.9175\n",
      "Epoch 15/20\n",
      "7126/7126 [==============================] - 141s 20ms/step - loss: 0.0115 - accuracy: 0.9537\n",
      "Epoch 16/20\n",
      "7126/7126 [==============================] - 142s 20ms/step - loss: 0.0113 - accuracy: 0.9579\n",
      "Epoch 17/20\n",
      "7126/7126 [==============================] - 147s 21ms/step - loss: 0.0109 - accuracy: 0.9648\n",
      "Epoch 18/20\n",
      "7126/7126 [==============================] - 145s 20ms/step - loss: 0.0095 - accuracy: 0.9679\n",
      "Epoch 19/20\n",
      "7126/7126 [==============================] - 145s 20ms/step - loss: 0.0063 - accuracy: 0.9791\n",
      "Epoch 20/20\n",
      "7126/7126 [==============================] - 134s 19ms/step - loss: 0.0083 - accuracy: 0.9759\n"
     ]
    }
   ],
   "source": [
    "history = model.fit(train_generator(), steps_per_epoch=7126, epochs=epochs, verbose=1)"
   ],
   "metadata": {
    "collapsed": false,
    "ExecuteTime": {
     "start_time": "2023-08-18T13:46:57.468122Z",
     "end_time": "2023-08-18T14:28:42.012242Z"
    }
   }
  },
  {
   "cell_type": "code",
   "execution_count": 14,
   "outputs": [
    {
     "data": {
      "text/plain": "<Figure size 640x480 with 1 Axes>",
      "image/png": "[encoded data removed]"
     },
     "metadata": {},
     "output_type": "display_data"
    }
   ],
   "source": [
    "plt.plot(range(1, epochs + 1), history.history['loss'], label=\"loss\")\n",
    "plt.xlabel(\"epochs\")\n",
    "plt.title(\"total loss\")\n",
    "\n",
    "plt.legend()\n",
    "plt.show()"
   ],
   "metadata": {
    "collapsed": false,
    "ExecuteTime": {
     "start_time": "2023-08-18T14:28:41.452135Z",
     "end_time": "2023-08-18T14:28:42.012242Z"
    }
   }
  },
  {
   "cell_type": "code",
   "execution_count": 15,
   "outputs": [
    {
     "data": {
      "text/plain": "<Figure size 640x480 with 1 Axes>",
      "image/png": "[encoded data removed]"
     },
     "metadata": {},
     "output_type": "display_data"
    }
   ],
   "source": [
    "plt.plot(range(1, epochs + 1), history.history['accuracy'], label=\"accuracy\")\n",
    "plt.xlabel(\"epochs\")\n",
    "plt.title(\"total accuracy\")\n",
    "\n",
    "plt.legend()\n",
    "plt.show()"
   ],
   "metadata": {
    "collapsed": false,
    "ExecuteTime": {
     "start_time": "2023-08-18T14:28:41.686401Z",
     "end_time": "2023-08-18T14:28:42.012242Z"
    }
   }
  },
  {
   "cell_type": "code",
   "execution_count": 21,
   "outputs": [],
   "source": [
    "y_test_pred = []\n",
    "for x_ in x_test:\n",
    "    y_test_pred.append(model.predict(np.array([x_]), verbose=0)[0])"
   ],
   "metadata": {
    "collapsed": false,
    "ExecuteTime": {
     "start_time": "2023-08-18T14:33:37.636142Z",
     "end_time": "2023-08-18T14:35:10.861407Z"
    }
   }
  },
  {
   "cell_type": "code",
   "execution_count": 22,
   "outputs": [],
   "source": [
    "def draw_pred_lines(y_pred, y_real):\n",
    "    drawing_df = pd.DataFrame({\"Pred\": y_pred, \"Real\": y_real})\n",
    "    drawing_df = drawing_df.sort_values(\"Real\").reset_index(drop=True)\n",
    "\n",
    "    for key_, val_ in drawing_df.items():\n",
    "        plt.plot(range(len(val_)), val_, label=key_)\n",
    "\n",
    "    plt.xlabel(\"No\")\n",
    "    plt.ylabel(\"Redexes count\")\n",
    "    plt.title(\"Pred vs Real Step Time\")\n",
    "    plt.legend()\n",
    "    plt.show()"
   ],
   "metadata": {
    "collapsed": false,
    "ExecuteTime": {
     "start_time": "2023-08-18T14:35:10.864192Z",
     "end_time": "2023-08-18T14:35:10.868935Z"
    }
   }
  },
  {
   "cell_type": "code",
   "execution_count": 24,
   "outputs": [
    {
     "data": {
      "text/plain": "<Figure size 640x480 with 1 Axes>",
      "image/png": "[encoded data removed]"
     },
     "metadata": {},
     "output_type": "display_data"
    }
   ],
   "source": [
    "y_test_pred_nums = encoder.inverse_transform(np.array(y_test_pred))\n",
    "y_test_nums = encoder.inverse_transform(y_test)\n",
    "\n",
    "draw_pred_lines(y_test_pred_nums, y_test_nums)"
   ],
   "metadata": {
    "collapsed": false,
    "ExecuteTime": {
     "start_time": "2023-08-18T14:35:59.860335Z",
     "end_time": "2023-08-18T14:36:00.042780Z"
    }
   }
  },
  {
   "cell_type": "code",
   "execution_count": 25,
   "outputs": [
    {
     "name": "stdout",
     "output_type": "stream",
     "text": [
      "Test accuracy: 0.9904601571268238\n"
     ]
    }
   ],
   "source": [
    "def calculate_accuracy(actual_labels, predicted_labels):\n",
    "    correct_predictions = sum(1 for actual, predicted in zip(actual_labels, predicted_labels) if actual == predicted)\n",
    "    total_predictions = len(actual_labels)\n",
    "    accuracy = correct_predictions / total_predictions\n",
    "    return accuracy\n",
    "\n",
    "\n",
    "print(\"Test accuracy:\", calculate_accuracy(y_test_nums, y_test_pred_nums))"
   ],
   "metadata": {
    "collapsed": false,
    "ExecuteTime": {
     "start_time": "2023-08-18T14:37:13.863022Z",
     "end_time": "2023-08-18T14:37:13.868898Z"
    }
   }
  },
  {
   "cell_type": "code",
   "execution_count": 27,
   "outputs": [],
   "source": [
    "model_structure = model.to_json()\n",
    "with open(\"./fine_models/v3_lstm_no_seq_class.json\", 'w') as json_file:\n",
    "    json_file.write(model_structure)\n",
    "\n",
    "model.save_weights(\"./fine_models/v3_lstm_no_seq_class.h5\")"
   ],
   "metadata": {
    "collapsed": false,
    "ExecuteTime": {
     "start_time": "2023-08-18T16:48:51.500466Z",
     "end_time": "2023-08-18T16:48:51.901618Z"
    }
   }
  }
 ],
 "metadata": {
  "kernelspec": {
   "display_name": "Python 3",
   "language": "python",
   "name": "python3"
  },
  "language_info": {
   "codemirror_mode": {
    "name": "ipython",
    "version": 2
   },
   "file_extension": ".py",
   "mimetype": "text/x-python",
   "name": "python",
   "nbconvert_exporter": "python",
   "pygments_lexer": "ipython2",
   "version": "2.7.6"
  }
 },
 "nbformat": 4,
 "nbformat_minor": 0
}
