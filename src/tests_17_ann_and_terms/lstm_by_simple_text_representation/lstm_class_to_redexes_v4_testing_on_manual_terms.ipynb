{
 "cells": [
  {
   "cell_type": "markdown",
   "source": [
    "# Import the dependencies"
   ],
   "metadata": {
    "collapsed": false
   }
  },
  {
   "cell_type": "code",
   "execution_count": 26,
   "outputs": [],
   "source": [
    "import re\n",
    "import random\n",
    "import numpy as np\n",
    "import pandas as pd\n",
    "\n",
    "from tqdm import tqdm\n",
    "\n",
    "import tensorflow as tf\n",
    "from keras.models import Sequential\n",
    "from keras.layers import Dense, Dropout, Flatten, LSTM\n",
    "\n",
    "from sklearn.utils import shuffle\n",
    "from sklearn.model_selection import train_test_split\n",
    "from sklearn.preprocessing import LabelBinarizer\n",
    "\n",
    "from matplotlib import pyplot as plt\n",
    "\n",
    "import sys\n",
    "import time\n",
    "\n",
    "sys.path.append(\"../\")\n",
    "from calculus_path_mod.terms.pseudonym import *\n",
    "from calculus_path_mod.reduction_strategy import *\n",
    "from calculus_path_mod.terms.arithm_complex_ops import *"
   ],
   "metadata": {
    "collapsed": false,
    "ExecuteTime": {
     "start_time": "2023-08-21T17:51:03.632505Z",
     "end_time": "2023-08-21T17:51:03.649261Z"
    }
   }
  },
  {
   "cell_type": "markdown",
   "source": [
    "# Load & Prepare the data"
   ],
   "metadata": {
    "collapsed": false
   }
  },
  {
   "cell_type": "code",
   "execution_count": 2,
   "outputs": [],
   "source": [
    "enc_dict = {\"(\": [1.0, .0, .0, .0],\n",
    "            \")\": [.0, 1.0, .0, .0],\n",
    "            \"x\": [.0, .0, 1.0, .0],\n",
    "            \"@x.\": [.0, .0, .0, 1.0]}\n",
    "tokens_pattern = r\"(\\(|\\)|@x\\.|x)\"\n",
    "\n",
    "\n",
    "def tokenize_data(simplified_term):\n",
    "    return re.findall(tokens_pattern, simplified_term)\n",
    "\n",
    "\n",
    "def tokenize_and_vectorize(x_data):\n",
    "    vectorized_data_ = []\n",
    "    for sample_ in x_data:\n",
    "        tokens_ = tokenize_data(sample_)\n",
    "        sample_vecs_ = []\n",
    "        for token_ in tokens_:\n",
    "            try:\n",
    "                sample_vecs_.append(enc_dict[token_])\n",
    "            except KeyError:\n",
    "                pass\n",
    "        vectorized_data_.append(sample_vecs_)\n",
    "    return vectorized_data_"
   ],
   "metadata": {
    "collapsed": false,
    "ExecuteTime": {
     "start_time": "2023-08-21T16:50:21.082094Z",
     "end_time": "2023-08-21T16:50:21.088103Z"
    }
   }
  },
  {
   "cell_type": "markdown",
   "source": [
    "# Load the model"
   ],
   "metadata": {
    "collapsed": false
   }
  },
  {
   "cell_type": "code",
   "execution_count": 3,
   "outputs": [],
   "source": [
    "with open(\"./fine_models/v4_lstm_no_seq_class.json\", \"r\") as file:\n",
    "    loaded_model_json = file.read()\n",
    "\n",
    "model = tf.keras.models.model_from_json(loaded_model_json)\n",
    "model.load_weights(\"./fine_models/v4_lstm_no_seq_class.h5\")"
   ],
   "metadata": {
    "collapsed": false,
    "ExecuteTime": {
     "start_time": "2023-08-21T16:50:21.087103Z",
     "end_time": "2023-08-21T16:50:21.509401Z"
    }
   }
  },
  {
   "cell_type": "markdown",
   "source": [
    "# Some terms"
   ],
   "metadata": {
    "collapsed": false
   }
  },
  {
   "cell_type": "code",
   "execution_count": 4,
   "outputs": [],
   "source": [
    "def ite_term():\n",
    "    x, y, c = Var(), Var(), Var()\n",
    "    x_, y_, c_ = Atom(x), Atom(y), Atom(c)\n",
    "    return Lambda(c, Lambda(x, Lambda(y, multi_app_term(c_, x_, y_))))\n",
    "\n",
    "\n",
    "def true_term():\n",
    "    x, y = Var(), Var()\n",
    "    x_ = Atom(x)\n",
    "    return Lambda(x, Lambda(y, x_))\n",
    "\n",
    "\n",
    "def num_zero_term():\n",
    "    s, z = Var(), Var()\n",
    "    z_ = Atom(z)\n",
    "    return Lambda(s, Lambda(z, z_))\n",
    "\n",
    "\n",
    "def num_term(n: int):\n",
    "    if n <= 0:\n",
    "        return num_zero_term()\n",
    "    s, z = Var(), Var()\n",
    "    s_, z_ = Atom(s), Atom(z)\n",
    "    core_term = App(s_, z_)\n",
    "    for _ in range(n - 1):\n",
    "        core_term = App(s_, core_term)\n",
    "    return Lambda(s, Lambda(z, core_term))\n",
    "\n",
    "\n",
    "def multi_app_term(term_0: Term, term_1: Term, *terms: Term):\n",
    "    res_app_term = App(term_0, term_1)\n",
    "    for term in terms:\n",
    "        res_app_term = App(res_app_term, term)\n",
    "    return res_app_term\n",
    "\n",
    "\n",
    "def false_term():\n",
    "    x, y = Var(), Var()\n",
    "    y_ = Atom(y)\n",
    "    return Lambda(x, Lambda(y, y_))\n",
    "\n",
    "\n",
    "def pair_term():\n",
    "    x, y, p = Var(), Var(), Var()\n",
    "    x_, y_, p_ = Atom(x), Atom(y), Atom(p)\n",
    "    return Lambda(x, Lambda(y, Lambda(p, multi_app_term(p_, x_, y_))))\n",
    "\n",
    "\n",
    "def first_term():\n",
    "    p = Var()\n",
    "    p_ = Atom(p)\n",
    "    return Lambda(p, App(p_, true_term()))\n",
    "\n",
    "\n",
    "def second_term():\n",
    "    p = Var()\n",
    "    p_ = Atom(p)\n",
    "    return Lambda(p, App(p_, false_term()))\n",
    "\n",
    "\n",
    "def succ_term():\n",
    "    x, y, n = Var(), Var(), Var()\n",
    "    x_, y_, n_ = Atom(x), Atom(y), Atom(n)\n",
    "    return Lambda(n, Lambda(x, Lambda(y, App(x_, multi_app_term(n_, x_, y_)))))\n",
    "\n",
    "\n",
    "def sinc_term():\n",
    "    p = Var()\n",
    "    p_ = Atom(p)\n",
    "    return Lambda(\n",
    "        p,\n",
    "        multi_app_term(\n",
    "            pair_term(),\n",
    "            App(second_term(), p_),\n",
    "            App(succ_term(), App(second_term(), p_)),\n",
    "        ),\n",
    "    )\n",
    "\n",
    "\n",
    "def pred_term():\n",
    "    n, f, x, g, h, u = Var(), Var(), Var(), Var(), Var(), Var()\n",
    "    n_, f_, x_ = Atom(n), Atom(f), Atom(x)\n",
    "    g_, h_, u_ = Atom(g), Atom(h), Atom(u)\n",
    "\n",
    "    return Lambda(n, Lambda(f, Lambda(x, multi_app_term(\n",
    "        n_,\n",
    "        Lambda(g, Lambda(h, App(h_, App(g_, f_)))),\n",
    "        Lambda(u, x_),\n",
    "        Lambda(u, u_)\n",
    "    ))))\n",
    "\n",
    "\n",
    "def plus_term():\n",
    "    n, m = Var(), Var()\n",
    "    n_, m_ = Atom(n), Atom(m)\n",
    "    return Lambda(m, Lambda(n, multi_app_term(n_, succ_term(), m_)))\n",
    "\n",
    "\n",
    "def subtract_term():\n",
    "    n, m = Var(), Var()\n",
    "    n_, m_ = Atom(n), Atom(m)\n",
    "    return Lambda(n, Lambda(m, multi_app_term(m_, pred_term(), n_)))\n",
    "\n",
    "\n",
    "def iszero_term():\n",
    "    x, n = Var(), Var()\n",
    "    n_ = Atom(n)\n",
    "    return Lambda(n, App(App(n_, Lambda(x, false_term())), true_term()))\n",
    "\n",
    "\n",
    "def leq_term():\n",
    "    n, m = Var(), Var()\n",
    "    n_, m_ = Atom(n), Atom(m)\n",
    "    return Lambda(\n",
    "        n, Lambda(m, App(iszero_term(), multi_app_term(subtract_term(), n_, m_)))\n",
    "    )\n",
    "\n",
    "\n",
    "def and_term():\n",
    "    a, b = Var(), Var()\n",
    "    a_, b_ = Atom(a), Atom(b)\n",
    "    return Lambda(a, Lambda(b, multi_app_term(ite_term(), a_, b_, a_)))\n",
    "\n",
    "\n",
    "def eq_term():\n",
    "    n, m = Var(), Var()\n",
    "    n_, m_ = Atom(n), Atom(m)\n",
    "    return Lambda(\n",
    "        n,\n",
    "        Lambda(\n",
    "            m,\n",
    "            multi_app_term(\n",
    "                and_term(),\n",
    "                multi_app_term(leq_term(), n_, m_),\n",
    "                multi_app_term(leq_term(), m_, n_),\n",
    "            ),\n",
    "        ),\n",
    "    )\n",
    "\n",
    "\n",
    "def i_term():\n",
    "    x = Var()\n",
    "    x_ = Atom(x)\n",
    "    return Lambda(x, x_)\n",
    "\n",
    "\n",
    "def omega_term(n: int):\n",
    "    x = Var()\n",
    "    x_ = Atom(x)\n",
    "    body_app_term = x_\n",
    "    for _ in range(n - 1):\n",
    "        body_app_term = App(body_app_term, x_)\n",
    "    return Lambda(x, body_app_term)\n",
    "\n",
    "\n",
    "def multi_i_term(m: int):\n",
    "    app_term = i_term()\n",
    "    for _ in range(m - 1):\n",
    "        app_term = App(app_term, i_term())\n",
    "    return app_term\n",
    "\n",
    "\n",
    "def omega_multi_i_term(n: int, m: int):\n",
    "    return App(omega_term(n), multi_i_term(m))"
   ],
   "metadata": {
    "collapsed": false,
    "ExecuteTime": {
     "start_time": "2023-08-21T16:50:21.649536Z",
     "end_time": "2023-08-21T16:50:21.680420Z"
    }
   }
  },
  {
   "cell_type": "code",
   "execution_count": 15,
   "outputs": [],
   "source": [
    "def term_test_1():\n",
    "    x, y = Var(), Var()\n",
    "    x_, y_ = Atom(x), Atom(y)\n",
    "\n",
    "    return \"(λx. (λy.y)) ((λx. (xx)) (λx. (xx))) == I == λx. x\", \\\n",
    "        App(\n",
    "            Lambda(x, Lambda(y, y_)),\n",
    "            App(\n",
    "                Lambda(x, App(x_, x_)),\n",
    "                Lambda(x, App(x_, x_))\n",
    "            )\n",
    "        )\n",
    "\n",
    "\n",
    "def term_test_2():\n",
    "    return \"(ITE TRUE 3 1) == 3 == λx. λy. (x (x (x y)))\", \\\n",
    "        multi_app_term(ite_term(), true_term(), num_term(3), num_term(1))\n",
    "\n",
    "\n",
    "def term_test_3():\n",
    "    return \"(ITE FALSE 0 4) == 4 == λx. λy. (x (x (x (x y))))\", \\\n",
    "        multi_app_term(ite_term(), false_term(), num_term(0), num_term(4))\n",
    "\n",
    "\n",
    "def term_test_4():\n",
    "    return \"(PRED 0) == 0 == λx. λy. y\", \\\n",
    "        multi_app_term(pred_term(), num_term(0))\n",
    "\n",
    "\n",
    "def term_test_5():\n",
    "    return \"(PRED 5) == 4 == λx. λy. (x (x (x (x y))))\", \\\n",
    "        multi_app_term(pred_term(), num_term(5))\n",
    "\n",
    "\n",
    "def term_test_6():\n",
    "    return \"(PLUS 0 0) == 0 == λx. λy. y\", \\\n",
    "        multi_app_term(plus_term(), num_term(0), num_term(0))\n",
    "\n",
    "\n",
    "def term_test_7():\n",
    "    return \"(PLUS 2 3) == 5 == λx. λy. (x (x (x (x (x y)))))\", \\\n",
    "        multi_app_term(plus_term(), num_term(2), num_term(3))\n",
    "\n",
    "\n",
    "def term_test_8():\n",
    "    return \"(SUBTRACT 4 1) == 3 == λx. λy. (x (x (x y)))\", \\\n",
    "        multi_app_term(subtract_term(), num_term(4), num_term(1))\n",
    "\n",
    "\n",
    "def term_test_9():\n",
    "    return \"(SUBTRACT 3 5) == 0 == λx. λy. y\", \\\n",
    "        multi_app_term(subtract_term(), num_term(3), num_term(5))\n",
    "\n",
    "\n",
    "def term_test_10():\n",
    "    return \"(LEQ 3 2) == FALSE == λx. λy. y\", \\\n",
    "        multi_app_term(leq_term(), num_term(3), num_term(2))\n",
    "\n",
    "\n",
    "def term_test_11():\n",
    "    return \"(LEQ 2 5) == TRUE == λx. λy. x\", \\\n",
    "        multi_app_term(leq_term(), num_term(2), num_term(5))\n",
    "\n",
    "\n",
    "def term_test_12():\n",
    "    return \"(EQ 2 2) == TRUE == λx. λy. x\", \\\n",
    "        multi_app_term(eq_term(), num_term(2), num_term(2))\n",
    "\n",
    "\n",
    "def term_test_13():\n",
    "    return \"(EQ 1 4) == FALSE == λx. λy. y\", \\\n",
    "        multi_app_term(eq_term(), num_term(1), num_term(4))\n",
    "\n",
    "\n",
    "def term_test_14():\n",
    "    return \"Omega(3, 3)  == I == λx. x\", \\\n",
    "        omega_multi_i_term(3, 3)\n",
    "\n",
    "\n",
    "def term_test_15():\n",
    "    return \"GCD_vO 5 2\", \\\n",
    "        multi_app_term(gcd_term_v0(), num_term(5), num_term(2))\n",
    "\n",
    "\n",
    "def term_test_16():\n",
    "    return \"GCD_v1 5 2\", \\\n",
    "        multi_app_term(gcd_term_v1(), num_term(5), num_term(2))\n",
    "\n",
    "\n",
    "def term_test_17():\n",
    "    return \"GCD_v3 5 2\", \\\n",
    "        multi_app_term(gcd_term_v3(), num_term(5), num_term(2))\n",
    "\n",
    "\n",
    "def term_test_18():\n",
    "    return \"PYTHAGOREAN 5 2 2\", \\\n",
    "        multi_app_term(\n",
    "            pythagorean_term(), num_term(5), num_term(2), num_term(2)\n",
    "        )"
   ],
   "metadata": {
    "collapsed": false,
    "ExecuteTime": {
     "start_time": "2023-08-21T17:28:53.390379Z",
     "end_time": "2023-08-21T17:28:53.482315Z"
    }
   }
  },
  {
   "cell_type": "code",
   "execution_count": 12,
   "outputs": [],
   "source": [
    "def test_function(term_deskr_: str, term_: Term, model_: Sequential):\n",
    "    prediction_ = model_.predict(tokenize_and_vectorize([term_.simple_str()]), verbose=0)\n",
    "    print(f\"{term_deskr_}\\nreal_redexes={len(term_.redexes)}\\tpred_redexes={np.argmax(prediction_[0])}\\n\")"
   ],
   "metadata": {
    "collapsed": false,
    "ExecuteTime": {
     "start_time": "2023-08-21T16:56:44.602281Z",
     "end_time": "2023-08-21T16:56:44.611293Z"
    }
   }
  },
  {
   "cell_type": "code",
   "execution_count": 16,
   "outputs": [
    {
     "name": "stdout",
     "output_type": "stream",
     "text": [
      "(λx. (λy.y)) ((λx. (xx)) (λx. (xx))) == I == λx. x\n",
      "real_redexes=2\tpred_redexes=2\n",
      "\n",
      "(ITE TRUE 3 1) == 3 == λx. λy. (x (x (x y)))\n",
      "real_redexes=1\tpred_redexes=1\n",
      "\n",
      "(ITE FALSE 0 4) == 4 == λx. λy. (x (x (x (x y))))\n",
      "real_redexes=1\tpred_redexes=1\n",
      "\n",
      "(PRED 0) == 0 == λx. λy. y\n",
      "real_redexes=1\tpred_redexes=1\n",
      "\n",
      "(PRED 5) == 4 == λx. λy. (x (x (x (x y))))\n",
      "real_redexes=1\tpred_redexes=1\n",
      "\n",
      "(PLUS 0 0) == 0 == λx. λy. y\n",
      "real_redexes=1\tpred_redexes=1\n",
      "\n",
      "(PLUS 2 3) == 5 == λx. λy. (x (x (x (x (x y)))))\n",
      "real_redexes=1\tpred_redexes=1\n",
      "\n",
      "(SUBTRACT 3 5) == 0 == λx. λy. y\n",
      "real_redexes=1\tpred_redexes=1\n",
      "\n",
      "(LEQ 3 2) == FALSE == λx. λy. y\n",
      "real_redexes=3\tpred_redexes=3\n",
      "\n",
      "(LEQ 2 5) == TRUE == λx. λy. x\n",
      "real_redexes=3\tpred_redexes=3\n",
      "\n",
      "(EQ 2 2) == TRUE == λx. λy. x\n",
      "real_redexes=9\tpred_redexes=9\n",
      "\n",
      "(EQ 1 4) == FALSE == λx. λy. y\n",
      "real_redexes=9\tpred_redexes=9\n",
      "\n",
      "Omega(3, 3)  == I == λx. x\n",
      "real_redexes=2\tpred_redexes=2\n",
      "\n",
      "GCD_vO 5 2\n",
      "real_redexes=53\tpred_redexes=19\n",
      "\n",
      "GCD_v1 5 2\n",
      "real_redexes=53\tpred_redexes=19\n",
      "\n",
      "GCD_v3 5 2\n",
      "real_redexes=38\tpred_redexes=19\n",
      "\n",
      "PYTHAGOREAN 5 2 2\n",
      "real_redexes=29\tpred_redexes=19\n",
      "\n"
     ]
    }
   ],
   "source": [
    "list_test_functions = (term_test_1, term_test_2, term_test_3, term_test_4, term_test_5, term_test_6, term_test_7, term_test_9, term_test_10, term_test_11, term_test_12, term_test_13, term_test_14, term_test_15, term_test_16, term_test_17, term_test_18)\n",
    "\n",
    "for term_function in list_test_functions:\n",
    "    term_deskr, term = term_function()\n",
    "    test_function(term_deskr, term, model)"
   ],
   "metadata": {
    "collapsed": false,
    "ExecuteTime": {
     "start_time": "2023-08-21T17:29:20.382294Z",
     "end_time": "2023-08-21T17:29:22.059378Z"
    }
   }
  },
  {
   "cell_type": "markdown",
   "source": [
    "# Testing on different n & m for Omega term"
   ],
   "metadata": {
    "collapsed": false
   }
  },
  {
   "cell_type": "code",
   "execution_count": 19,
   "outputs": [],
   "source": [
    "list_simplified_omega_terms = []\n",
    "\n",
    "for n in range(1, 21):\n",
    "    for m in range(1, 21):\n",
    "        term_ = omega_multi_i_term(n, m)\n",
    "        list_simplified_omega_terms.append(term_.simple_str())\n",
    "\n",
    "list_simplified_omega_terms = tokenize_and_vectorize(list_simplified_omega_terms)"
   ],
   "metadata": {
    "collapsed": false,
    "ExecuteTime": {
     "start_time": "2023-08-21T17:47:28.383726Z",
     "end_time": "2023-08-21T17:47:28.412650Z"
    }
   }
  },
  {
   "cell_type": "code",
   "execution_count": 35,
   "outputs": [],
   "source": [
    "real_redexes_count = []\n",
    "\n",
    "for n in range(1, 21):\n",
    "    for m in range(1, 21):\n",
    "        term_ = omega_multi_i_term(n, m)\n",
    "        real_redexes_count.append(len(term_.redexes))"
   ],
   "metadata": {
    "collapsed": false,
    "ExecuteTime": {
     "start_time": "2023-08-21T18:25:08.376360Z",
     "end_time": "2023-08-21T18:25:08.397232Z"
    }
   }
  },
  {
   "cell_type": "code",
   "execution_count": 27,
   "outputs": [
    {
     "name": "stderr",
     "output_type": "stream",
     "text": [
      "100%|██████████| 400/400 [00:27<00:00, 14.70it/s]\n"
     ]
    }
   ],
   "source": [
    "predictions_omega_terms_redexes = []\n",
    "for rec_ in tqdm(list_simplified_omega_terms):\n",
    "    predictions_omega_terms_redexes.append(np.argmax(model.predict([rec_], verbose=0)[0]))"
   ],
   "metadata": {
    "collapsed": false,
    "ExecuteTime": {
     "start_time": "2023-08-21T17:51:11.262910Z",
     "end_time": "2023-08-21T17:51:38.485163Z"
    }
   }
  },
  {
   "cell_type": "code",
   "execution_count": 28,
   "outputs": [
    {
     "name": "stdout",
     "output_type": "stream",
     "text": [
      "[1, 2, 2, 2, 2, 2, 2, 2, 2, 2, 2, 2, 2, 1, 1, 1, 1, 1, 1, 1, 1, 2, 2, 2, 2, 2, 2, 2, 2, 2, 2, 2, 2, 2, 1, 1, 1, 1, 1, 1, 1, 2, 2, 2, 2, 2, 2, 2, 2, 2, 2, 2, 2, 2, 2, 1, 1, 1, 1, 1, 1, 2, 2, 2, 2, 2, 2, 2, 2, 2, 2, 2, 2, 2, 2, 2, 1, 1, 1, 1, 1, 2, 2, 2, 2, 2, 2, 2, 2, 2, 2, 2, 2, 2, 2, 2, 1, 1, 1, 1, 1, 2, 2, 2, 2, 2, 2, 2, 2, 2, 2, 2, 2, 2, 2, 1, 1, 1, 1, 1, 1, 2, 2, 2, 2, 2, 2, 2, 2, 2, 2, 2, 2, 2, 2, 1, 1, 1, 1, 1, 1, 2, 2, 2, 2, 2, 2, 2, 2, 2, 2, 2, 2, 2, 1, 1, 1, 1, 1, 1, 1, 2, 2, 2, 2, 2, 2, 2, 2, 2, 2, 2, 2, 2, 1, 1, 1, 1, 1, 1, 1, 2, 2, 2, 2, 2, 2, 2, 2, 2, 2, 2, 2, 1, 1, 1, 1, 1, 1, 1, 1, 2, 2, 2, 2, 2, 2, 2, 2, 2, 2, 2, 2, 1, 1, 1, 1, 1, 1, 1, 1, 2, 2, 2, 2, 2, 2, 2, 2, 2, 2, 2, 1, 1, 1, 1, 1, 1, 1, 1, 1, 2, 2, 2, 2, 2, 2, 2, 2, 2, 2, 1, 1, 1, 1, 1, 1, 1, 1, 1, 1, 1, 2, 2, 2, 2, 2, 2, 2, 2, 1, 1, 1, 1, 1, 1, 1, 1, 1, 1, 1, 1, 1, 1, 2, 2, 2, 2, 1, 1, 1, 1, 1, 1, 1, 1, 1, 1, 1, 1, 1, 1, 1, 1, 2, 2, 1, 1, 1, 1, 1, 1, 1, 1, 1, 1, 1, 1, 1, 1, 1, 1, 1, 1, 1, 1, 1, 1, 1, 1, 1, 1, 1, 1, 1, 1, 1, 1, 1, 1, 1, 1, 1, 1, 1, 1, 1, 1, 1, 1, 1, 1, 1, 1, 1, 1, 1, 1, 1, 1, 1, 1, 1, 1, 1, 1, 1, 1, 1, 1, 1, 1, 1, 1, 1, 1, 1, 1, 1, 1, 0, 1, 1, 1, 1, 1, 1, 1, 1, 1, 1, 1, 1, 1, 1, 1, 1, 1, 1, 1]\n"
     ]
    }
   ],
   "source": [
    "print(predictions_omega_terms_redexes)"
   ],
   "metadata": {
    "collapsed": false,
    "ExecuteTime": {
     "start_time": "2023-08-21T17:51:41.227885Z",
     "end_time": "2023-08-21T17:51:41.249874Z"
    }
   }
  },
  {
   "cell_type": "code",
   "execution_count": 36,
   "outputs": [
    {
     "name": "stdout",
     "output_type": "stream",
     "text": [
      "Test accuracy: 0.5025\n"
     ]
    }
   ],
   "source": [
    "def calculate_accuracy(actual_labels, predicted_labels):\n",
    "    correct_predictions = sum(1 for actual, predicted in zip(actual_labels, predicted_labels) if actual == predicted)\n",
    "    total_predictions = len(actual_labels)\n",
    "    accuracy = correct_predictions / total_predictions\n",
    "    return accuracy\n",
    "\n",
    "\n",
    "print(\"Test accuracy:\", calculate_accuracy(real_redexes_count, predictions_omega_terms_redexes))"
   ],
   "metadata": {
    "collapsed": false,
    "ExecuteTime": {
     "start_time": "2023-08-21T18:25:10.859290Z",
     "end_time": "2023-08-21T18:25:10.864951Z"
    }
   }
  },
  {
   "cell_type": "code",
   "execution_count": 38,
   "outputs": [],
   "source": [
    "green_dots_0 = []\n",
    "green_dots_1 = []\n",
    "green_dots_2 = []\n",
    "\n",
    "red_dots_0 = []\n",
    "red_dots_1 = []\n",
    "red_dots_2 = []\n",
    "\n",
    "for n in range(0, 20):\n",
    "    for m in range(0, 20):\n",
    "        val = predictions_omega_terms_redexes[n * 20 + m]\n",
    "        val_real = real_redexes_count[n * 20 + m]\n",
    "        if val == 0:\n",
    "            if val == val_real:\n",
    "                green_dots_0.append((n+1, m+1))\n",
    "            else:\n",
    "                red_dots_0.append((n+1, m+1))\n",
    "        elif val == 1:\n",
    "            if val == val_real:\n",
    "                green_dots_1.append((n+1, m+1))\n",
    "            else:\n",
    "                red_dots_1.append((n+1, m+1))\n",
    "        elif val == 2:\n",
    "            if val == val_real:\n",
    "                green_dots_2.append((n+1, m+1))\n",
    "            else:\n",
    "                red_dots_2.append((n+1, m+1))\n"
   ],
   "metadata": {
    "collapsed": false,
    "ExecuteTime": {
     "start_time": "2023-08-21T18:46:12.808658Z",
     "end_time": "2023-08-21T18:46:12.827379Z"
    }
   }
  },
  {
   "cell_type": "code",
   "execution_count": 49,
   "outputs": [
    {
     "name": "stderr",
     "output_type": "stream",
     "text": [
      "No artists with labels found to put in legend.  Note that artists whose label start with an underscore are ignored when legend() is called with no argument.\n"
     ]
    },
    {
     "data": {
      "text/plain": "<Figure size 1200x1200 with 1 Axes>",
      "image/png": "[encoded data removed]"
     },
     "metadata": {},
     "output_type": "display_data"
    }
   ],
   "source": [
    "plt.figure(figsize=(12, 12))\n",
    "\n",
    "green_dots_0 = np.array(green_dots_0)\n",
    "green_dots_1 = np.array(green_dots_1)\n",
    "green_dots_2 = np.array(green_dots_2)\n",
    "\n",
    "red_dots_0 = np.array(red_dots_0)\n",
    "red_dots_1 = np.array(red_dots_1)\n",
    "red_dots_2 = np.array(red_dots_2)\n",
    "\n",
    "# plt.scatter(green_dots_0[:,0], green_dots_0[:,1], s=5, c='green',)\n",
    "plt.scatter(green_dots_1[:,0], green_dots_1[:,1], s=5, c='green',)\n",
    "plt.scatter(green_dots_2[:,0], green_dots_2[:,1], s=5, c='green',)\n",
    "\n",
    "plt.scatter(red_dots_0[:,0], red_dots_0[:,1], s=5, c='red',)\n",
    "plt.scatter(red_dots_1[:,0], red_dots_1[:,1], s=5, c='red',)\n",
    "# plt.scatter(red_dots_2[:,0], red_dots_2[:,1], s=5, c='red',)\n",
    "\n",
    "plt.xlabel(\"n\", fontsize=18)\n",
    "plt.ylabel(\"m\", fontsize=18)\n",
    "plt.legend()\n",
    "plt.title(\"Omega(n, m)\", fontsize=20)\n",
    "plt.show()"
   ],
   "metadata": {
    "collapsed": false,
    "ExecuteTime": {
     "start_time": "2023-08-21T18:54:03.018598Z",
     "end_time": "2023-08-21T18:54:03.209958Z"
    }
   }
  },
  {
   "cell_type": "code",
   "execution_count": 56,
   "outputs": [
    {
     "name": "stderr",
     "output_type": "stream",
     "text": [
      "No artists with labels found to put in legend.  Note that artists whose label start with an underscore are ignored when legend() is called with no argument.\n"
     ]
    },
    {
     "data": {
      "text/plain": "<Figure size 600x600 with 1 Axes>",
      "image/png": "[encoded data removed]"
     },
     "metadata": {},
     "output_type": "display_data"
    }
   ],
   "source": [
    "plt.figure(figsize=(6, 6))\n",
    "\n",
    "plt.scatter(green_dots_1[:,0], green_dots_1[:,1], s=5, c='green',)\n",
    "# plt.scatter(green_dots_2[:,0], green_dots_2[:,1], s=5, c='green',)\n",
    "# plt.scatter(red_dots_0[:,0], red_dots_0[:,1], s=5, c='red',)\n",
    "plt.scatter(red_dots_1[:,0], red_dots_1[:,1], s=5, c='red',)\n",
    "\n",
    "plt.xlabel(\"n\", fontsize=18)\n",
    "plt.ylabel(\"m\", fontsize=18)\n",
    "plt.legend()\n",
    "plt.title(\"Omega(n, m), predicted=1\", fontsize=20)\n",
    "plt.show()"
   ],
   "metadata": {
    "collapsed": false,
    "ExecuteTime": {
     "start_time": "2023-08-21T18:57:12.170356Z",
     "end_time": "2023-08-21T18:57:12.320410Z"
    }
   }
  },
  {
   "cell_type": "code",
   "execution_count": 58,
   "outputs": [
    {
     "name": "stderr",
     "output_type": "stream",
     "text": [
      "No artists with labels found to put in legend.  Note that artists whose label start with an underscore are ignored when legend() is called with no argument.\n"
     ]
    },
    {
     "data": {
      "text/plain": "<Figure size 600x600 with 1 Axes>",
      "image/png": "[encoded data removed]"
     },
     "metadata": {},
     "output_type": "display_data"
    }
   ],
   "source": [
    "plt.figure(figsize=(6, 6))\n",
    "\n",
    "# plt.scatter(green_dots_1[:,0], green_dots_1[:,1], s=5, c='green',)\n",
    "plt.scatter(green_dots_2[:,0], green_dots_2[:,1], s=5, c='green',)\n",
    "# plt.scatter(red_dots_0[:,0], red_dots_0[:,1], s=5, c='red',)\n",
    "# plt.scatter(red_dots_1[:,0], red_dots_1[:,1], s=5, c='red',)\n",
    "\n",
    "plt.xlabel(\"n\", fontsize=18)\n",
    "plt.ylabel(\"m\", fontsize=18)\n",
    "plt.legend()\n",
    "plt.title(\"Omega(n, m), predicted=2\", fontsize=20)\n",
    "plt.show()"
   ],
   "metadata": {
    "collapsed": false,
    "ExecuteTime": {
     "start_time": "2023-08-21T18:57:56.673127Z",
     "end_time": "2023-08-21T18:57:56.803305Z"
    }
   }
  },
  {
   "cell_type": "code",
   "execution_count": 61,
   "outputs": [
    {
     "name": "stderr",
     "output_type": "stream",
     "text": [
      "No artists with labels found to put in legend.  Note that artists whose label start with an underscore are ignored when legend() is called with no argument.\n"
     ]
    },
    {
     "data": {
      "text/plain": "<Figure size 600x600 with 1 Axes>",
      "image/png": "[encoded data removed]"
     },
     "metadata": {},
     "output_type": "display_data"
    }
   ],
   "source": [
    "plt.figure(figsize=(6, 6))\n",
    "\n",
    "# plt.scatter(green_dots_1[:,0], green_dots_1[:,1], s=5, c='green',)\n",
    "# plt.scatter(green_dots_2[:,0], green_dots_2[:,1], s=5, c='green',)\n",
    "plt.scatter(red_dots_0[:,0], red_dots_0[:,1], s=5, c='red',)\n",
    "# plt.scatter(red_dots_1[:,0], red_dots_1[:,1], s=5, c='red',)\n",
    "\n",
    "plt.xlabel(\"n\", fontsize=18)\n",
    "plt.ylabel(\"m\", fontsize=18)\n",
    "plt.legend()\n",
    "plt.title(\"Omega(n, m), predicted=0\", fontsize=20)\n",
    "plt.show()"
   ],
   "metadata": {
    "collapsed": false,
    "ExecuteTime": {
     "start_time": "2023-08-21T18:58:27.614093Z",
     "end_time": "2023-08-21T18:58:27.759349Z"
    }
   }
  }
 ],
 "metadata": {
  "kernelspec": {
   "display_name": "Python 3",
   "language": "python",
   "name": "python3"
  },
  "language_info": {
   "codemirror_mode": {
    "name": "ipython",
    "version": 2
   },
   "file_extension": ".py",
   "mimetype": "text/x-python",
   "name": "python",
   "nbconvert_exporter": "python",
   "pygments_lexer": "ipython2",
   "version": "2.7.6"
  }
 },
 "nbformat": 4,
 "nbformat_minor": 0
}
