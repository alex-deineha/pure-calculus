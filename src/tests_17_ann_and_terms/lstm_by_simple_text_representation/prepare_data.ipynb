{
 "cells": [
  {
   "cell_type": "code",
   "execution_count": 1,
   "metadata": {
    "collapsed": true,
    "ExecuteTime": {
     "start_time": "2023-08-17T16:40:32.945185Z",
     "end_time": "2023-08-17T16:40:33.527402Z"
    }
   },
   "outputs": [],
   "source": [
    "import sys\n",
    "import re\n",
    "from tqdm import tqdm\n",
    "\n",
    "import matplotlib.pyplot as plt\n",
    "import pandas as pd\n",
    "import seaborn as sns\n",
    "import numpy as np\n",
    "from collections import Counter\n",
    "from joypy import joyplot\n",
    "\n",
    "sys.path.append(\"../\")\n",
    "from calculus_path_mod.term_engine import *\n",
    "from calculus_path_mod.reduction_strategy import *\n",
    "from calculus_path_mod.terms import num_comparison, nat_numbers, arithm_ops, combinators, pairs, logic\n",
    "from calculus_path_mod.terms.pseudonym import *\n",
    "\n",
    "from calculus_path_mod.json_serialization import load_terms\n",
    "from fitter import Fitter, get_common_distributions\n",
    "from calculus_utils.drawing import draw_steps_displot"
   ]
  },
  {
   "cell_type": "markdown",
   "source": [
    "# Load Terms filtered by LO & RI"
   ],
   "metadata": {
    "collapsed": false
   }
  },
  {
   "cell_type": "code",
   "execution_count": 2,
   "outputs": [],
   "source": [
    "terms_LO = load_terms(\"../../tests_11_retests/terms_210_filtered_LO.dat\")\n",
    "terms_RI = load_terms(\"../../tests_11_retests/terms_210_filtered_RI.dat\")"
   ],
   "metadata": {
    "collapsed": false,
    "ExecuteTime": {
     "start_time": "2023-08-17T16:40:35.342601Z",
     "end_time": "2023-08-17T16:40:35.466929Z"
    }
   }
  },
  {
   "cell_type": "markdown",
   "source": [
    "# Collect more terms with normalization process data for LO & LI strategies with terms_LO & terms_RI"
   ],
   "metadata": {
    "collapsed": false
   }
  },
  {
   "cell_type": "code",
   "execution_count": 9,
   "outputs": [],
   "source": [
    "def gen_norm_data(terms_list, strategy):\n",
    "    redexes_simple_terms_list = []\n",
    "    for term in tqdm(terms_list):\n",
    "        term_red_steps = 0\n",
    "        (step_term, _, _), norm_term = term.one_step_normalize_visual(strategy)\n",
    "        redexes_simple_terms_list.append((len(step_term.redexes), step_term.simple_str()))\n",
    "\n",
    "        while norm_term:\n",
    "            redexes_simple_terms_list.append((len(norm_term.redexes), norm_term.simple_str()))\n",
    "            (step_term, _, _), norm_term = norm_term.one_step_normalize_visual(strategy)\n",
    "\n",
    "            # computation limitation\n",
    "            if (step_term.vertices_number > 3_000) or (term_red_steps > 400):\n",
    "                norm_term = None\n",
    "    return redexes_simple_terms_list"
   ],
   "metadata": {
    "collapsed": false,
    "ExecuteTime": {
     "start_time": "2023-08-17T16:47:30.080779Z",
     "end_time": "2023-08-17T16:47:30.109412Z"
    }
   }
  },
  {
   "cell_type": "code",
   "execution_count": 5,
   "outputs": [
    {
     "name": "stderr",
     "output_type": "stream",
     "text": [
      "100%|██████████| 226/226 [00:00<00:00, 239.75it/s]\n"
     ]
    }
   ],
   "source": [
    "res = gen_norm_data(terms_LO, LOStrategy())\n",
    "\n",
    "with open(\"./data_simplified/collected_sLO_tLO.csv\", 'w') as file:\n",
    "    file.write(\"redexes\\tsimplified_term\\n\")\n",
    "    for x in res:\n",
    "        file.write(f\"{x[0]}\\t{x[1]}\\n\")"
   ],
   "metadata": {
    "collapsed": false,
    "ExecuteTime": {
     "start_time": "2023-08-17T16:40:51.788996Z",
     "end_time": "2023-08-17T16:40:52.746219Z"
    }
   }
  },
  {
   "cell_type": "code",
   "execution_count": 10,
   "outputs": [
    {
     "name": "stderr",
     "output_type": "stream",
     "text": [
      "100%|██████████| 226/226 [00:46<00:00,  4.90it/s] \n"
     ]
    }
   ],
   "source": [
    "res = gen_norm_data(terms_LO, LIStrategy())\n",
    "\n",
    "with open(\"./data_simplified/collected_sLI_tLO.csv\", 'w') as file:\n",
    "    file.write(\"redexes\\tsimplified_term\\n\")\n",
    "    for x in res:\n",
    "        file.write(f\"{x[0]}\\t{x[1]}\\n\")"
   ],
   "metadata": {
    "collapsed": false,
    "ExecuteTime": {
     "start_time": "2023-08-17T16:47:32.305591Z",
     "end_time": "2023-08-17T16:48:18.449431Z"
    }
   }
  },
  {
   "cell_type": "code",
   "execution_count": 11,
   "outputs": [
    {
     "name": "stderr",
     "output_type": "stream",
     "text": [
      "100%|██████████| 223/223 [00:01<00:00, 142.56it/s]\n"
     ]
    }
   ],
   "source": [
    "res = gen_norm_data(terms_RI, LOStrategy())\n",
    "\n",
    "with open(\"./data_simplified/collected_sLO_tRI.csv\", 'w') as file:\n",
    "    file.write(\"redexes\\tsimplified_term\\n\")\n",
    "    for x in res:\n",
    "        file.write(f\"{x[0]}\\t{x[1]}\\n\")"
   ],
   "metadata": {
    "collapsed": false,
    "ExecuteTime": {
     "start_time": "2023-08-17T16:50:44.289765Z",
     "end_time": "2023-08-17T16:50:45.877796Z"
    }
   }
  },
  {
   "cell_type": "code",
   "execution_count": 12,
   "outputs": [
    {
     "name": "stderr",
     "output_type": "stream",
     "text": [
      "100%|██████████| 223/223 [00:00<00:00, 298.13it/s]\n"
     ]
    }
   ],
   "source": [
    "res = gen_norm_data(terms_RI, LIStrategy())\n",
    "\n",
    "with open(\"./data_simplified/collected_sLI_tRI.csv\", 'w') as file:\n",
    "    file.write(\"redexes\\tsimplified_term\\n\")\n",
    "    for x in res:\n",
    "        file.write(f\"{x[0]}\\t{x[1]}\\n\")"
   ],
   "metadata": {
    "collapsed": false,
    "ExecuteTime": {
     "start_time": "2023-08-17T16:50:45.872109Z",
     "end_time": "2023-08-17T16:50:46.633989Z"
    }
   }
  }
 ],
 "metadata": {
  "kernelspec": {
   "display_name": "Python 3",
   "language": "python",
   "name": "python3"
  },
  "language_info": {
   "codemirror_mode": {
    "name": "ipython",
    "version": 2
   },
   "file_extension": ".py",
   "mimetype": "text/x-python",
   "name": "python",
   "nbconvert_exporter": "python",
   "pygments_lexer": "ipython2",
   "version": "2.7.6"
  }
 },
 "nbformat": 4,
 "nbformat_minor": 0
}
