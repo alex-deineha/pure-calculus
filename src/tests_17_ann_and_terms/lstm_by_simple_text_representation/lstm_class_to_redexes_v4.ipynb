{
 "cells": [
  {
   "cell_type": "markdown",
   "source": [
    "# Import the dependencies"
   ],
   "metadata": {
    "collapsed": false
   }
  },
  {
   "cell_type": "code",
   "execution_count": 1,
   "outputs": [],
   "source": [
    "import re\n",
    "import random\n",
    "import numpy as np\n",
    "import pandas as pd\n",
    "\n",
    "from keras.models import Sequential\n",
    "from keras.layers import Dense, Dropout, Flatten, LSTM\n",
    "\n",
    "from sklearn.utils import shuffle\n",
    "from sklearn.model_selection import train_test_split\n",
    "from sklearn.preprocessing import LabelBinarizer\n",
    "\n",
    "from matplotlib import pyplot as plt"
   ],
   "metadata": {
    "collapsed": false,
    "ExecuteTime": {
     "start_time": "2023-08-18T16:10:54.284627Z",
     "end_time": "2023-08-18T16:10:57.591012Z"
    }
   }
  },
  {
   "cell_type": "code",
   "execution_count": 2,
   "outputs": [],
   "source": [
    "batch_size = 32\n",
    "epochs = 20\n",
    "num_neurons = 64\n",
    "onehot_dims = 4"
   ],
   "metadata": {
    "collapsed": false,
    "ExecuteTime": {
     "start_time": "2023-08-18T16:10:57.592152Z",
     "end_time": "2023-08-18T16:10:57.595742Z"
    }
   }
  },
  {
   "cell_type": "markdown",
   "source": [
    "# Load & Prepare the data"
   ],
   "metadata": {
    "collapsed": false
   }
  },
  {
   "cell_type": "code",
   "execution_count": 4,
   "outputs": [],
   "source": [
    "enc_dict = {\"(\": [1.0, .0, .0, .0],\n",
    "            \")\": [.0, 1.0, .0, .0],\n",
    "            \"x\": [.0, .0, 1.0, .0],\n",
    "            \"@x.\": [.0, .0, .0, 1.0]}\n",
    "tokens_pattern = r\"(\\(|\\)|@x\\.|x)\"\n",
    "\n",
    "\n",
    "def tokenize_data(simplified_term):\n",
    "    return re.findall(tokens_pattern, simplified_term)\n",
    "\n",
    "\n",
    "def tokenize_and_vectorize(x_data):\n",
    "    vectorized_data_ = []\n",
    "    for sample_ in x_data:\n",
    "        tokens_ = tokenize_data(sample_)\n",
    "        sample_vecs_ = []\n",
    "        for token_ in tokens_:\n",
    "            try:\n",
    "                sample_vecs_.append(enc_dict[token_])\n",
    "            except KeyError:\n",
    "                pass\n",
    "        vectorized_data_.append(sample_vecs_)\n",
    "    return vectorized_data_"
   ],
   "metadata": {
    "collapsed": false,
    "ExecuteTime": {
     "start_time": "2023-08-18T16:12:36.834711Z",
     "end_time": "2023-08-18T16:12:36.838417Z"
    }
   }
  },
  {
   "cell_type": "code",
   "execution_count": 9,
   "outputs": [
    {
     "name": "stdout",
     "output_type": "stream",
     "text": [
      "Count samples before filtering: 9566\n",
      "Count samples after filtering redexes: 8911\n",
      "Count samples after filtering tokens sequences: 8908\n",
      "\n",
      "Count training samples: 5855\n",
      "Count testing samples: 1464\n"
     ]
    }
   ],
   "source": [
    "all_data = pd.read_csv(\"./data_simplified/collected_sLI_tLO.csv\", delimiter='\\t')\n",
    "\n",
    "all_data = pd.concat([all_data, pd.read_csv(\"./data_simplified/collected_sLI_tRI.csv\", delimiter='\\t')],\n",
    "                     ignore_index=True).reset_index(drop=True)\n",
    "all_data = pd.concat([all_data, pd.read_csv(\"./data_simplified/collected_sLO_tLO.csv\", delimiter='\\t')],\n",
    "                     ignore_index=True).reset_index(drop=True)\n",
    "all_data = pd.concat([all_data, pd.read_csv(\"./data_simplified/collected_sLO_tRI.csv\", delimiter='\\t')],\n",
    "                     ignore_index=True).reset_index(drop=True)\n",
    "\n",
    "# filter out count redexes for 0 - 19 & too long tokens sequences\n",
    "print(f\"Count samples before filtering: {len(all_data)}\")\n",
    "all_data = all_data[[redexes < 20 for redexes in all_data[\"redexes\"]]].reset_index(drop=True)\n",
    "print(f\"Count samples after filtering redexes: {len(all_data)}\")\n",
    "all_data = all_data[[len(tokenize_data(simplified_term)) <= 1_000 for simplified_term in all_data['simplified_term']]]\n",
    "print(f\"Count samples after filtering tokens sequences: {len(all_data)}\\n\")\n",
    "\n",
    "# leave only unique terms\n",
    "all_data = all_data.drop_duplicates(subset=\"simplified_term\").reset_index(drop=True)\n",
    "\n",
    "# shuffle the dataset\n",
    "all_data = shuffle(all_data, random_state=33).reset_index(drop=True)\n",
    "\n",
    "# make test/train split\n",
    "x_train, x_test, y_train, y_test = train_test_split(all_data[\"simplified_term\"].tolist(), all_data[\"redexes\"].tolist(),\n",
    "                                                    test_size=0.2, random_state=42)\n",
    "\n",
    "print(f\"Count training samples: {len(y_train)}\")\n",
    "print(f\"Count testing samples: {len(y_test)}\")"
   ],
   "metadata": {
    "collapsed": false,
    "ExecuteTime": {
     "start_time": "2023-08-18T16:33:39.773089Z",
     "end_time": "2023-08-18T16:33:39.942339Z"
    }
   }
  },
  {
   "cell_type": "code",
   "execution_count": 10,
   "outputs": [],
   "source": [
    "# one-hot encode y-data\n",
    "encoder = LabelBinarizer()\n",
    "y_train = encoder.fit_transform(y_train)\n",
    "y_test = encoder.transform(y_test)\n",
    "\n",
    "x_train = tokenize_and_vectorize(x_train)\n",
    "x_test = tokenize_and_vectorize(x_test)"
   ],
   "metadata": {
    "collapsed": false,
    "ExecuteTime": {
     "start_time": "2023-08-18T16:33:46.833955Z",
     "end_time": "2023-08-18T16:33:46.983156Z"
    }
   }
  },
  {
   "cell_type": "code",
   "execution_count": 11,
   "outputs": [],
   "source": [
    "xy_train_data = list(zip(x_train, y_train))\n",
    "xy_test_data = list(zip(x_test, y_test))"
   ],
   "metadata": {
    "collapsed": false,
    "ExecuteTime": {
     "start_time": "2023-08-18T16:33:47.378319Z",
     "end_time": "2023-08-18T16:33:47.390773Z"
    }
   }
  },
  {
   "cell_type": "code",
   "execution_count": 12,
   "outputs": [
    {
     "name": "stdout",
     "output_type": "stream",
     "text": [
      "len(test_data) = 1464\n",
      "len(train_data) = 5855\n"
     ]
    }
   ],
   "source": [
    "print(f\"len(test_data) = {len(xy_test_data)}\")\n",
    "print(f\"len(train_data) = {len(xy_train_data)}\")"
   ],
   "metadata": {
    "collapsed": false,
    "ExecuteTime": {
     "start_time": "2023-08-18T16:33:48.401598Z",
     "end_time": "2023-08-18T16:33:48.409217Z"
    }
   }
  },
  {
   "cell_type": "code",
   "execution_count": 13,
   "outputs": [],
   "source": [
    "def train_generator():\n",
    "    while True:\n",
    "        random.shuffle(xy_train_data)\n",
    "        for xtd, ytd in xy_train_data:\n",
    "            yield np.array([xtd]), np.array([ytd])\n",
    "\n",
    "\n",
    "def test_generator():\n",
    "    while True:\n",
    "        for xtd, ytd in xy_test_data:\n",
    "            yield np.array([xtd]), np.array([ytd])"
   ],
   "metadata": {
    "collapsed": false,
    "ExecuteTime": {
     "start_time": "2023-08-18T16:33:51.890895Z",
     "end_time": "2023-08-18T16:33:51.899708Z"
    }
   }
  },
  {
   "cell_type": "markdown",
   "source": [
    "# Define the model"
   ],
   "metadata": {
    "collapsed": false
   }
  },
  {
   "cell_type": "code",
   "execution_count": 14,
   "outputs": [],
   "source": [
    "model = Sequential()\n",
    "model.add(LSTM(units=num_neurons,\n",
    "               input_shape=(None, onehot_dims)))\n",
    "model.add(Dense(20, activation='sigmoid'))"
   ],
   "metadata": {
    "collapsed": false,
    "ExecuteTime": {
     "start_time": "2023-08-18T16:33:57.322026Z",
     "end_time": "2023-08-18T16:33:57.981136Z"
    }
   }
  },
  {
   "cell_type": "code",
   "execution_count": 15,
   "outputs": [
    {
     "name": "stdout",
     "output_type": "stream",
     "text": [
      "Model: \"sequential\"\n",
      "_________________________________________________________________\n",
      " Layer (type)                Output Shape              Param #   \n",
      "=================================================================\n",
      " lstm (LSTM)                 (None, 64)                17664     \n",
      "                                                                 \n",
      " dense (Dense)               (None, 20)                1300      \n",
      "                                                                 \n",
      "=================================================================\n",
      "Total params: 18964 (74.08 KB)\n",
      "Trainable params: 18964 (74.08 KB)\n",
      "Non-trainable params: 0 (0.00 Byte)\n",
      "_________________________________________________________________\n"
     ]
    }
   ],
   "source": [
    "model.compile(loss='binary_crossentropy',\n",
    "              optimizer='adam',\n",
    "              metrics=['accuracy'])\n",
    "model.summary()"
   ],
   "metadata": {
    "collapsed": false,
    "ExecuteTime": {
     "start_time": "2023-08-18T16:33:58.091211Z",
     "end_time": "2023-08-18T16:33:58.115923Z"
    }
   }
  },
  {
   "cell_type": "code",
   "execution_count": 16,
   "outputs": [
    {
     "name": "stdout",
     "output_type": "stream",
     "text": [
      "Epoch 1/20\n",
      "5855/5855 [==============================] - 126s 21ms/step - loss: 0.1707 - accuracy: 0.1546\n",
      "Epoch 2/20\n",
      "5855/5855 [==============================] - 128s 22ms/step - loss: 0.1502 - accuracy: 0.2215\n",
      "Epoch 3/20\n",
      "5855/5855 [==============================] - 128s 22ms/step - loss: 0.1448 - accuracy: 0.2364\n",
      "Epoch 4/20\n",
      "5855/5855 [==============================] - 124s 21ms/step - loss: 0.1419 - accuracy: 0.2560\n",
      "Epoch 5/20\n",
      "5855/5855 [==============================] - 110s 19ms/step - loss: 0.1378 - accuracy: 0.2740\n",
      "Epoch 6/20\n",
      "5855/5855 [==============================] - 125s 21ms/step - loss: 0.1182 - accuracy: 0.3935\n",
      "Epoch 7/20\n",
      "5855/5855 [==============================] - 115s 20ms/step - loss: 0.0722 - accuracy: 0.6758\n",
      "Epoch 8/20\n",
      "5855/5855 [==============================] - 105s 18ms/step - loss: 0.0501 - accuracy: 0.7798\n",
      "Epoch 9/20\n",
      "5855/5855 [==============================] - 105s 18ms/step - loss: 0.0408 - accuracy: 0.8179\n",
      "Epoch 10/20\n",
      "5855/5855 [==============================] - 125s 21ms/step - loss: 0.0336 - accuracy: 0.8514\n",
      "Epoch 11/20\n",
      "5855/5855 [==============================] - 112s 19ms/step - loss: 0.0295 - accuracy: 0.8685\n",
      "Epoch 12/20\n",
      "5855/5855 [==============================] - 114s 19ms/step - loss: 0.0277 - accuracy: 0.8808\n",
      "Epoch 13/20\n",
      "5855/5855 [==============================] - 126s 21ms/step - loss: 0.0237 - accuracy: 0.9018\n",
      "Epoch 14/20\n",
      "5855/5855 [==============================] - 129s 22ms/step - loss: 0.0204 - accuracy: 0.9129\n",
      "Epoch 15/20\n",
      "5855/5855 [==============================] - 128s 22ms/step - loss: 0.0199 - accuracy: 0.9221\n",
      "Epoch 16/20\n",
      "5855/5855 [==============================] - 120s 20ms/step - loss: 0.0154 - accuracy: 0.9368\n",
      "Epoch 17/20\n",
      "5855/5855 [==============================] - 119s 20ms/step - loss: 0.0163 - accuracy: 0.9385\n",
      "Epoch 18/20\n",
      "5855/5855 [==============================] - 124s 21ms/step - loss: 0.0117 - accuracy: 0.9553\n",
      "Epoch 19/20\n",
      "5855/5855 [==============================] - 128s 22ms/step - loss: 0.0120 - accuracy: 0.9597\n",
      "Epoch 20/20\n",
      "5855/5855 [==============================] - 132s 22ms/step - loss: 0.0087 - accuracy: 0.9648\n"
     ]
    }
   ],
   "source": [
    "history = model.fit(train_generator(), steps_per_epoch=5855, epochs=epochs, verbose=1)"
   ],
   "metadata": {
    "collapsed": false,
    "ExecuteTime": {
     "start_time": "2023-08-18T16:34:09.313413Z",
     "end_time": "2023-08-18T17:14:30.273715Z"
    }
   }
  },
  {
   "cell_type": "code",
   "execution_count": 17,
   "outputs": [
    {
     "data": {
      "text/plain": "<Figure size 640x480 with 1 Axes>",
      "image/png": "[encoded data removed]"
     },
     "metadata": {},
     "output_type": "display_data"
    }
   ],
   "source": [
    "plt.plot(range(1, epochs + 1), history.history['loss'], label=\"loss\")\n",
    "plt.xlabel(\"epochs\")\n",
    "plt.title(\"total loss\")\n",
    "\n",
    "plt.legend()\n",
    "plt.show()"
   ],
   "metadata": {
    "collapsed": false,
    "ExecuteTime": {
     "start_time": "2023-08-18T17:14:29.759248Z",
     "end_time": "2023-08-18T17:14:30.274716Z"
    }
   }
  },
  {
   "cell_type": "code",
   "execution_count": 18,
   "outputs": [
    {
     "data": {
      "text/plain": "<Figure size 640x480 with 1 Axes>",
      "image/png": "[encoded data removed]"
     },
     "metadata": {},
     "output_type": "display_data"
    }
   ],
   "source": [
    "plt.plot(range(1, epochs + 1), history.history['accuracy'], label=\"accuracy\")\n",
    "plt.xlabel(\"epochs\")\n",
    "plt.title(\"total accuracy\")\n",
    "\n",
    "plt.legend()\n",
    "plt.show()"
   ],
   "metadata": {
    "collapsed": false,
    "ExecuteTime": {
     "start_time": "2023-08-18T17:14:30.156709Z",
     "end_time": "2023-08-18T17:14:31.495290Z"
    }
   }
  },
  {
   "cell_type": "code",
   "execution_count": 19,
   "outputs": [],
   "source": [
    "y_test_pred = []\n",
    "for x_ in x_test:\n",
    "    y_test_pred.append(model.predict(np.array([x_]), verbose=0)[0])"
   ],
   "metadata": {
    "collapsed": false,
    "ExecuteTime": {
     "start_time": "2023-08-18T17:14:30.401658Z",
     "end_time": "2023-08-18T17:15:59.999151Z"
    }
   }
  },
  {
   "cell_type": "code",
   "execution_count": 20,
   "outputs": [],
   "source": [
    "def draw_pred_lines(y_pred, y_real):\n",
    "    drawing_df = pd.DataFrame({\"Pred\": y_pred, \"Real\": y_real})\n",
    "    drawing_df = drawing_df.sort_values(\"Real\").reset_index(drop=True)\n",
    "\n",
    "    for key_, val_ in drawing_df.items():\n",
    "        plt.plot(range(len(val_)), val_, label=key_)\n",
    "\n",
    "    plt.xlabel(\"No\")\n",
    "    plt.ylabel(\"Redexes count\")\n",
    "    plt.title(\"Pred vs Real Step Time\")\n",
    "    plt.legend()\n",
    "    plt.show()"
   ],
   "metadata": {
    "collapsed": false,
    "ExecuteTime": {
     "start_time": "2023-08-18T17:16:00.001158Z",
     "end_time": "2023-08-18T17:16:00.007564Z"
    }
   }
  },
  {
   "cell_type": "code",
   "execution_count": 21,
   "outputs": [
    {
     "data": {
      "text/plain": "<Figure size 640x480 with 1 Axes>",
      "image/png": "[encoded data removed]"
     },
     "metadata": {},
     "output_type": "display_data"
    }
   ],
   "source": [
    "y_test_pred_nums = encoder.inverse_transform(np.array(y_test_pred))\n",
    "y_test_nums = encoder.inverse_transform(y_test)\n",
    "\n",
    "draw_pred_lines(y_test_pred_nums, y_test_nums)"
   ],
   "metadata": {
    "collapsed": false,
    "ExecuteTime": {
     "start_time": "2023-08-18T17:16:00.008561Z",
     "end_time": "2023-08-18T17:16:00.213074Z"
    }
   }
  },
  {
   "cell_type": "code",
   "execution_count": 22,
   "outputs": [
    {
     "name": "stdout",
     "output_type": "stream",
     "text": [
      "Test accuracy: 0.9699453551912568\n"
     ]
    }
   ],
   "source": [
    "def calculate_accuracy(actual_labels, predicted_labels):\n",
    "    correct_predictions = sum(1 for actual, predicted in zip(actual_labels, predicted_labels) if actual == predicted)\n",
    "    total_predictions = len(actual_labels)\n",
    "    accuracy = correct_predictions / total_predictions\n",
    "    return accuracy\n",
    "\n",
    "\n",
    "print(\"Test accuracy:\", calculate_accuracy(y_test_nums, y_test_pred_nums))"
   ],
   "metadata": {
    "collapsed": false,
    "ExecuteTime": {
     "start_time": "2023-08-18T17:16:00.213074Z",
     "end_time": "2023-08-18T17:16:00.220127Z"
    }
   }
  },
  {
   "cell_type": "code",
   "execution_count": 23,
   "outputs": [],
   "source": [
    "model_structure = model.to_json()\n",
    "with open(\"./fine_models/v4_lstm_no_seq_class.json\", 'w') as json_file:\n",
    "    json_file.write(model_structure)\n",
    "\n",
    "model.save_weights(\"./fine_models/v4_lstm_no_seq_class.h5\")"
   ],
   "metadata": {
    "collapsed": false,
    "ExecuteTime": {
     "start_time": "2023-08-18T17:18:03.719446Z",
     "end_time": "2023-08-18T17:18:03.744927Z"
    }
   }
  }
 ],
 "metadata": {
  "kernelspec": {
   "display_name": "Python 3",
   "language": "python",
   "name": "python3"
  },
  "language_info": {
   "codemirror_mode": {
    "name": "ipython",
    "version": 2
   },
   "file_extension": ".py",
   "mimetype": "text/x-python",
   "name": "python",
   "nbconvert_exporter": "python",
   "pygments_lexer": "ipython2",
   "version": "2.7.6"
  }
 },
 "nbformat": 4,
 "nbformat_minor": 0
}
