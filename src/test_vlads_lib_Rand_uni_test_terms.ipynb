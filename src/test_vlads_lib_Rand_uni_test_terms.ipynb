{
 "cells": [
  {
   "cell_type": "code",
   "execution_count": 1,
   "metadata": {
    "collapsed": true
   },
   "outputs": [],
   "source": [
    "import sys\n",
    "import time\n",
    "\n",
    "sys.path.append(\"../\")\n",
    "from calculus.pseudonym import *\n",
    "from calculus.strategy import *"
   ]
  },
  {
   "cell_type": "markdown",
   "source": [
    "# <span style=\"color: #A1F99C\">TEST PROCEDURE</span>"
   ],
   "metadata": {
    "collapsed": false
   }
  },
  {
   "cell_type": "code",
   "execution_count": 2,
   "outputs": [],
   "source": [
    "rs = RandomStrategy()\n",
    "\n",
    "\n",
    "def test_procedure(term, reduction_strategy=rs, print_steps=True,\n",
    "                   steps_lim=60, assert_result=\"\"):\n",
    "    term = term._updateBoundVariables()\n",
    "    n_steps = 0\n",
    "    is_term_normalized = True\n",
    "    if print_steps:\n",
    "        print(f\"{n_steps}: {term}\")\n",
    "    while term.redexes:\n",
    "        term = term._betaConversion(reduction_strategy)\n",
    "        term = term._updateBoundVariables()\n",
    "        n_steps += 1\n",
    "        if print_steps:\n",
    "            print(f\"{n_steps}: {term}\")\n",
    "        if n_steps > steps_lim:\n",
    "            is_term_normalized = False\n",
    "            break\n",
    "\n",
    "    print(f\"\\n\\nreduction steps: {n_steps}\")\n",
    "    print(f\"norm term:       {term}\" if is_term_normalized else f\"NOT norm term: {term}\")"
   ],
   "metadata": {
    "collapsed": false
   }
  },
  {
   "cell_type": "markdown",
   "source": [
    "# <span style=\"color: #A1F99C\">USEFUL TERMS</span>"
   ],
   "metadata": {
    "collapsed": false
   }
  },
  {
   "cell_type": "code",
   "execution_count": 3,
   "outputs": [],
   "source": [
    "def ite_term():\n",
    "    x, y, c = Var(), Var(), Var()\n",
    "    x_, y_, c_ = Atom(x), Atom(y), Atom(c)\n",
    "    return Lambda(c, Lambda(x, Lambda(y, multi_app_term(c_, x_, y_))))\n",
    "\n",
    "\n",
    "def true_term():\n",
    "    x, y = Var(), Var()\n",
    "    x_ = Atom(x)\n",
    "    return Lambda(x, Lambda(y, x_))\n",
    "\n",
    "\n",
    "def num_zero_term():\n",
    "    s, z = Var(), Var()\n",
    "    z_ = Atom(z)\n",
    "    return Lambda(s, Lambda(z, z_))\n",
    "\n",
    "\n",
    "def num_term(n: int):\n",
    "    if n <= 0:\n",
    "        return num_zero_term()\n",
    "    s, z = Var(), Var()\n",
    "    s_, z_ = Atom(s), Atom(z)\n",
    "    core_term = App(s_, z_)\n",
    "    for _ in range(n - 1):\n",
    "        core_term = App(s_, core_term)\n",
    "    return Lambda(s, Lambda(z, core_term))\n",
    "\n",
    "\n",
    "def multi_app_term(term_0: Term, term_1: Term, *terms: Term):\n",
    "    res_app_term = App(term_0, term_1)\n",
    "    for term in terms:\n",
    "        res_app_term = App(res_app_term, term)\n",
    "    return res_app_term\n",
    "\n",
    "\n",
    "def false_term():\n",
    "    x, y = Var(), Var()\n",
    "    y_ = Atom(y)\n",
    "    return Lambda(x, Lambda(y, y_))\n",
    "\n",
    "\n",
    "def pair_term():\n",
    "    x, y, p = Var(), Var(), Var()\n",
    "    x_, y_, p_ = Atom(x), Atom(y), Atom(p)\n",
    "    return Lambda(x, Lambda(y, Lambda(p, multi_app_term(p_, x_, y_))))\n",
    "\n",
    "\n",
    "def first_term():\n",
    "    p = Var()\n",
    "    p_ = Atom(p)\n",
    "    return Lambda(p, App(p_, true_term()))\n",
    "\n",
    "\n",
    "def second_term():\n",
    "    p = Var()\n",
    "    p_ = Atom(p)\n",
    "    return Lambda(p, App(p_, false_term()))\n",
    "\n",
    "\n",
    "def succ_term():\n",
    "    x, y, n = Var(), Var(), Var()\n",
    "    x_, y_, n_ = Atom(x), Atom(y), Atom(n)\n",
    "    return Lambda(n, Lambda(x, Lambda(y, App(x_, multi_app_term(n_, x_, y_)))))\n",
    "\n",
    "\n",
    "def sinc_term():\n",
    "    p = Var()\n",
    "    p_ = Atom(p)\n",
    "    return Lambda(\n",
    "        p,\n",
    "        multi_app_term(\n",
    "            pair_term(),\n",
    "            App(second_term(), p_),\n",
    "            App(succ_term(), App(second_term(), p_)),\n",
    "        ),\n",
    "    )\n",
    "\n",
    "\n",
    "# def pred_term():\n",
    "#     n = Var()\n",
    "#     n_ = Atom(n)\n",
    "#     return Lambda(\n",
    "#         n,\n",
    "#         App(\n",
    "#             first_term(),\n",
    "#             multi_app_term(\n",
    "#                 n_, sinc_term(),\n",
    "#                 multi_app_term(pair_term(), num_term(0), num_term(0))\n",
    "#             ),\n",
    "#         ),\n",
    "#     )\n",
    "\n",
    "\n",
    "# (λn.(λf.(λx.(((n (λg.(λh.(h (g f))))) (λu.x)) (λu.u)))))\n",
    "# (λn.(λf.(λx.(((n (λg.(λh.(h (g f))))) (λu.x)) (λu.u)))))\n",
    "def pred_term():\n",
    "    n, f, x, g, h, u = Var(), Var(), Var(), Var(), Var(), Var()\n",
    "    n_, f_, x_ = Atom(n), Atom(f), Atom(x)\n",
    "    g_, h_, u_ = Atom(g), Atom(h), Atom(u)\n",
    "\n",
    "    return Lambda(n, Lambda(f, Lambda(x, multi_app_term(\n",
    "        n_,\n",
    "        Lambda(g, Lambda(h, App(h_, App(g_, f_)))),\n",
    "        Lambda(u, x_),\n",
    "        Lambda(u, u_)\n",
    "    ))))\n",
    "\n",
    "\n",
    "def plus_term():\n",
    "    n, m = Var(), Var()\n",
    "    n_, m_ = Atom(n), Atom(m)\n",
    "    return Lambda(m, Lambda(n, multi_app_term(n_, succ_term(), m_)))\n",
    "\n",
    "\n",
    "def subtract_term():\n",
    "    n, m = Var(), Var()\n",
    "    n_, m_ = Atom(n), Atom(m)\n",
    "    return Lambda(n, Lambda(m, multi_app_term(m_, pred_term(), n_)))\n",
    "\n",
    "\n",
    "def iszero_term():\n",
    "    x, n = Var(), Var()\n",
    "    n_ = Atom(n)\n",
    "    return Lambda(n, App(App(n_, Lambda(x, false_term())), true_term()))\n",
    "\n",
    "\n",
    "def leq_term():\n",
    "    n, m = Var(), Var()\n",
    "    n_, m_ = Atom(n), Atom(m)\n",
    "    return Lambda(\n",
    "        n, Lambda(m, App(iszero_term(), multi_app_term(subtract_term(), n_, m_)))\n",
    "    )\n",
    "\n",
    "\n",
    "def and_term():\n",
    "    a, b = Var(), Var()\n",
    "    a_, b_ = Atom(a), Atom(b)\n",
    "    return Lambda(a, Lambda(b, multi_app_term(ite_term(), a_, b_, a_)))\n",
    "\n",
    "\n",
    "def eq_term():\n",
    "    n, m = Var(), Var()\n",
    "    n_, m_ = Atom(n), Atom(m)\n",
    "    return Lambda(\n",
    "        n,\n",
    "        Lambda(\n",
    "            m,\n",
    "            multi_app_term(\n",
    "                and_term(),\n",
    "                multi_app_term(leq_term(), n_, m_),\n",
    "                multi_app_term(leq_term(), m_, n_),\n",
    "            ),\n",
    "        ),\n",
    "    )"
   ],
   "metadata": {
    "collapsed": false
   }
  },
  {
   "cell_type": "markdown",
   "source": [
    "# <span style=\"color: #A1F99C\">1.</span>\n",
    "<span style=\"color:#bb91f3\">(λx. (λy.y)) ((λx. (xx)) (λx. (xx)))</span> == <span style=\"color:#f1bd47\">I</span> == <span style=\"color:#f1bd47\">λx. x</span>\n",
    "<span style=\"color:#c9fafa\">This term reduce in one step by LO, RO strategy\n",
    "And reduce in the same terms with other strategy.</span>"
   ],
   "metadata": {
    "collapsed": false
   }
  },
  {
   "cell_type": "code",
   "execution_count": 4,
   "outputs": [
    {
     "name": "stdout",
     "output_type": "stream",
     "text": [
      "0: ((λq.(λw.w)) ((λe.(e e)) (λr.(r r))))\n",
      "1: ((λe.(λr.r)) ((λq.(q q)) (λw.(w w))))\n",
      "2: ((λq.(λw.w)) ((λe.(e e)) (λr.(r r))))\n",
      "3: ((λe.(λr.r)) ((λq.(q q)) (λw.(w w))))\n",
      "4: ((λq.(λw.w)) ((λe.(e e)) (λr.(r r))))\n",
      "5: (λq.q)\n",
      "\n",
      "\n",
      "reduction steps: 5\n",
      "norm term:       (λq.q)\n"
     ]
    }
   ],
   "source": [
    "def term_test_1():\n",
    "    x, y = Var(), Var()\n",
    "    x_, y_ = Atom(x), Atom(y)\n",
    "\n",
    "    return App(\n",
    "             Lambda(x, Lambda(y, y_)),\n",
    "             App(\n",
    "                 Lambda(x, App(x_, x_)),\n",
    "                 Lambda(x, App(x_, x_))\n",
    "             )\n",
    "         )\n",
    "\n",
    "\n",
    "test_procedure(term_test_1())"
   ],
   "metadata": {
    "collapsed": false
   }
  },
  {
   "cell_type": "markdown",
   "source": [
    "# <span style=\"color: #A1F99C\">2.</span>\n",
    "<span style=\"color:#bb91f3\">(ITE TRUE 3 1)</span> == <span style=\"color:#f1bd47>\">3</span> == <span style=\"color:#f1bd47\">λx. λy. (x (x (x y)))</span>"
   ],
   "metadata": {
    "collapsed": false
   }
  },
  {
   "cell_type": "code",
   "execution_count": 5,
   "outputs": [
    {
     "name": "stdout",
     "output_type": "stream",
     "text": [
      "0: ((((λq.(λw.(λe.((q w) e)))) (λr.(λt.r))) (λy.(λu.(y (y (y u)))))) (λi.(λo.(i o))))\n",
      "1: (((λq.(λw.(((λe.(λr.e)) q) w))) (λt.(λy.(t (t (t y)))))) (λu.(λi.(u i))))\n",
      "2: (((λq.(λw.((λe.q) w))) (λr.(λt.(r (r (r t)))))) (λy.(λu.(y u))))\n",
      "3: (((λq.(λw.q)) (λe.(λr.(e (e (e r)))))) (λt.(λy.(t y))))\n",
      "4: ((λr.(λt.(λq.(t (t (t q)))))) (λw.(λe.(w e))))\n",
      "5: (λq.(λw.(q (q (q w)))))\n",
      "\n",
      "\n",
      "reduction steps: 5\n",
      "norm term:       (λq.(λw.(q (q (q w)))))\n"
     ]
    }
   ],
   "source": [
    "def term_test_2():\n",
    "    return multi_app_term(ite_term(), true_term(), num_term(3), num_term(1))\n",
    "\n",
    "\n",
    "test_procedure(term_test_2())"
   ],
   "metadata": {
    "collapsed": false
   }
  },
  {
   "cell_type": "markdown",
   "source": [
    "# <span style=\"color: #A1F99C\">3.</span>\n",
    "<span style=\"color:#bb91f3\">(ITE FALSE 0 4)</span> == <span style=\"color:#f1bd47\">4</span> == <span style=\"color:#f1bd47\">λx. λy. (x (x (x (x y))))</span>"
   ],
   "metadata": {
    "collapsed": false
   }
  },
  {
   "cell_type": "code",
   "execution_count": 6,
   "outputs": [
    {
     "name": "stdout",
     "output_type": "stream",
     "text": [
      "0: ((((λq.(λw.(λe.((q w) e)))) (λr.(λt.t))) (λy.(λu.u))) (λi.(λo.(i (i (i (i o)))))))\n",
      "1: (((λq.(λw.(((λe.(λr.r)) q) w))) (λt.(λy.y))) (λu.(λi.(u (u (u (u i)))))))\n",
      "2: (((λu.(λq.((λw.w) q))) (λe.(λr.r))) (λt.(λy.(t (t (t (t y)))))))\n",
      "3: ((λe.((λr.r) e)) (λq.(λw.(q (q (q (q w)))))))\n",
      "4: ((λq.q) (λw.(λe.(w (w (w (w e)))))))\n",
      "5: (λq.(λw.(q (q (q (q w))))))\n",
      "\n",
      "\n",
      "reduction steps: 5\n",
      "norm term:       (λq.(λw.(q (q (q (q w))))))\n"
     ]
    }
   ],
   "source": [
    "def term_test_3():\n",
    "    return multi_app_term(ite_term(), false_term(), num_term(0), num_term(4))\n",
    "\n",
    "\n",
    "test_procedure(term_test_3())"
   ],
   "metadata": {
    "collapsed": false
   }
  },
  {
   "cell_type": "markdown",
   "source": [
    "# <span style=\"color: #A1F99C\">4.</span>\n",
    "<span style=\"color:#bb91f3\">(PRED 0)</span> == <span style=\"color:#f1bd47\">0</span> == <span style=\"color:#f1bd47\">λx. λy. y</span>"
   ],
   "metadata": {
    "collapsed": false
   }
  },
  {
   "cell_type": "code",
   "execution_count": 7,
   "outputs": [
    {
     "name": "stdout",
     "output_type": "stream",
     "text": [
      "0: ((λq.(λw.(λe.(((q (λr.(λt.(t (r w))))) (λy.e)) (λu.u))))) (λi.(λo.o)))\n",
      "1: (λq.(λw.((((λe.(λr.r)) (λt.(λy.(y (t q))))) (λu.w)) (λi.i))))\n",
      "2: (λq.(λw.(((λe.e) (λr.w)) (λt.t))))\n",
      "3: (λw.(λe.((λr.e) (λq.q))))\n",
      "4: (λq.(λw.w))\n",
      "\n",
      "\n",
      "reduction steps: 4\n",
      "norm term:       (λq.(λw.w))\n"
     ]
    }
   ],
   "source": [
    "def term_test_4():\n",
    "    return multi_app_term(pred_term(), num_term(0))\n",
    "\n",
    "\n",
    "test_procedure(term_test_4())"
   ],
   "metadata": {
    "collapsed": false
   }
  },
  {
   "cell_type": "markdown",
   "source": [
    "# <span style=\"color: #A1F99C\">5.</span>\n",
    "<span style=\"color:#bb91f3\">(PRED 5)</span> == <span style=\"color:#f1bd47\">4</span> == <span style=\"color:#f1bd47\">λx. λy. (x (x (x (x y))))</span>"
   ],
   "metadata": {
    "collapsed": false
   }
  },
  {
   "cell_type": "code",
   "execution_count": 8,
   "outputs": [
    {
     "name": "stdout",
     "output_type": "stream",
     "text": [
      "0: ((λt.(λy.(λu.(((t (λi.(λo.(o (i y))))) (λq.u)) (λw.w))))) (λe.(λr.(e (e (e (e (e r))))))))\n",
      "1: (λq.(λw.((((λe.(λr.(e (e (e (e (e r))))))) (λt.(λy.(y (t q))))) (λu.w)) (λi.i))))\n",
      "2: (λq.(λw.(((λe.((λr.(λt.(t (r q)))) ((λy.(λu.(u (y q)))) ((λi.(λo.(o (i q)))) ((λp.(λa.(a (p q)))) ((λs.(λd.(d (s q)))) e)))))) (λf.w)) (λg.g))))\n",
      "3: (λp.(λa.(((λs.((λd.(λf.(f (d p)))) ((λq.(λw.(w (q p)))) ((λe.(λr.(r (e p)))) (λt.(t (((λy.(λu.(u (y p)))) s) p))))))) (λi.a)) (λo.o))))\n",
      "4: (λq.(λw.(((λe.(λr.(r (e q)))) ((λt.(λy.(y (t q)))) ((λu.(λi.(i (u q)))) (λo.(o (((λp.(λa.(a (p q)))) (λs.w)) q)))))) (λd.d))))\n",
      "5: (λe.(λr.(((λt.(λy.(y (t e)))) ((λu.(λi.(i (u e)))) ((λo.(λp.(p (o e)))) (λa.(a ((λs.(s ((λq.r) e))) e)))))) (λw.w))))\n",
      "6: (λq.(λw.((λe.(e (((λr.(λt.(t (r q)))) ((λy.(λu.(u (y q)))) (λi.(i ((λo.(o ((λp.w) q))) q))))) q))) (λa.a))))\n",
      "7: (λq.(λw.((λe.(e ((λr.(r (((λt.(λy.(y (t q)))) (λu.(u ((λi.(i ((λo.w) q))) q)))) q))) q))) (λp.p))))\n",
      "8: (λq.(λw.((λe.e) ((λr.(r (((λt.(λy.(y (t q)))) (λu.(u ((λi.(i ((λo.w) q))) q)))) q))) q))))\n",
      "9: (λq.(λw.((λe.e) ((λr.(r (((λt.(λy.(y (t q)))) (λu.(u (q ((λi.w) q))))) q))) q))))\n",
      "10: (λq.(λw.((λe.(e (((λr.(λt.(t (r q)))) (λy.(y (q ((λu.w) q))))) q))) q)))\n",
      "11: (λq.(λw.((λe.(e (((λr.(λt.(t (r q)))) (λy.(y (q w)))) q))) q)))\n",
      "12: (λq.(λw.((λe.(e ((λr.(r ((λt.(t (q w))) q))) q))) q)))\n",
      "13: (λq.(λw.(q ((λe.(e ((λr.(r (q w))) q))) q))))\n",
      "14: (λw.(λe.(w ((λq.(q (w (w e)))) w))))\n",
      "15: (λq.(λw.(q (q (q (q w))))))\n",
      "\n",
      "\n",
      "reduction steps: 15\n",
      "norm term:       (λq.(λw.(q (q (q (q w))))))\n"
     ]
    }
   ],
   "source": [
    "def term_test_5():\n",
    "    return multi_app_term(pred_term(), num_term(5))\n",
    "\n",
    "\n",
    "test_procedure(term_test_5())"
   ],
   "metadata": {
    "collapsed": false
   }
  },
  {
   "cell_type": "markdown",
   "source": [
    "# <span style=\"color: #A1F99C\">6.</span>\n",
    "<span style=\"color:#bb91f3\">(PLUS 0 0)</span> == <span style=\"color:#f1bd47\">0</span> == <span style=\"color:#f1bd47\">λx. λy. y</span>"
   ],
   "metadata": {
    "collapsed": false
   }
  },
  {
   "cell_type": "code",
   "execution_count": 9,
   "outputs": [
    {
     "name": "stdout",
     "output_type": "stream",
     "text": [
      "0: (((λq.(λw.((w (λe.(λr.(λt.(r ((e r) t)))))) q))) (λy.(λu.u))) (λi.(λo.o)))\n",
      "1: ((λq.((q (λw.(λe.(λr.(e ((w e) r)))))) (λt.(λy.y)))) (λu.(λi.i)))\n",
      "2: (((λt.(λy.y)) (λu.(λq.(λw.(q ((u q) w)))))) (λe.(λr.r)))\n",
      "3: ((λq.q) (λw.(λe.e)))\n",
      "4: (λw.(λq.q))\n",
      "\n",
      "\n",
      "reduction steps: 4\n",
      "norm term:       (λw.(λq.q))\n"
     ]
    }
   ],
   "source": [
    "def term_test_6():\n",
    "    return multi_app_term(plus_term(), num_term(0), num_term(0))\n",
    "\n",
    "\n",
    "test_procedure(term_test_6())"
   ],
   "metadata": {
    "collapsed": false
   }
  },
  {
   "cell_type": "markdown",
   "source": [
    "# <span style=\"color: #A1F99C\">7.</span>\n",
    "<span style=\"color:#bb91f3\">(PLUS 2 3)</span> == <span style=\"color:#f1bd47\">5</span> == <span style=\"color:#f1bd47\">λx. λy. (x (x (x (x (x y)))))</span>"
   ],
   "metadata": {
    "collapsed": false
   }
  },
  {
   "cell_type": "code",
   "execution_count": 10,
   "outputs": [
    {
     "name": "stdout",
     "output_type": "stream",
     "text": [
      "0: (((λq.(λw.((w (λe.(λr.(λt.(r ((e r) t)))))) q))) (λy.(λu.(y (y u))))) (λi.(λo.(i (i (i o))))))\n",
      "1: ((λr.((r (λt.(λy.(λu.(y ((t y) u)))))) (λi.(λq.(i (i q)))))) (λw.(λe.(w (w (w e))))))\n",
      "2: (((λq.(λw.(q (q (q w))))) (λe.(λr.(λt.(r ((e r) t)))))) (λy.(λu.(y (y u)))))\n",
      "3: ((λq.((λw.(λe.(λr.(e ((w e) r))))) ((λt.(λy.(λu.(y ((t y) u))))) ((λi.(λo.(λp.(o ((i o) p))))) q)))) (λa.(λs.(a (a s)))))\n",
      "4: ((λw.((λe.(λr.(λt.(r ((e r) t))))) (λy.(λu.(y ((((λi.(λo.(λp.(o ((i o) p))))) w) y) u)))))) (λa.(λq.(a (a q)))))\n",
      "5: ((λq.(λw.(λe.(w (((λr.(λt.(r ((((λy.(λu.(λi.(u ((y u) i))))) q) r) t)))) w) e))))) (λo.(λp.(o (o p)))))\n",
      "6: ((λq.(λw.(λe.(w ((λr.(w ((((λt.(λy.(λu.(y ((t y) u))))) q) w) r))) e))))) (λi.(λo.(i (i o)))))\n",
      "7: (λq.(λw.(q ((λe.(q ((((λr.(λt.(λy.(t ((r t) y))))) (λu.(λi.(u (u i))))) q) e))) w))))\n",
      "8: (λr.(λt.(r ((λy.(r (((λu.(λq.(u (((λw.(λe.(w (w e)))) u) q)))) r) y))) t))))\n",
      "9: (λq.(λw.(q ((λe.(q ((λr.(q (((λt.(λy.(t (t y)))) q) r))) e))) w))))\n",
      "10: (λq.(λw.(q ((λe.(q ((λr.(q ((λt.(q (q t))) r))) e))) w))))\n",
      "11: (λe.(λr.(e (e ((λq.(e ((λw.(e (e w))) q))) r)))))\n",
      "12: (λq.(λw.(q (q (q ((λe.(q (q e))) w))))))\n",
      "13: (λq.(λw.(q (q (q (q (q w)))))))\n",
      "\n",
      "\n",
      "reduction steps: 13\n",
      "norm term:       (λq.(λw.(q (q (q (q (q w)))))))\n"
     ]
    }
   ],
   "source": [
    "def term_test_7():\n",
    "    return multi_app_term(plus_term(), num_term(2), num_term(3))\n",
    "\n",
    "\n",
    "test_procedure(term_test_7())"
   ],
   "metadata": {
    "collapsed": false
   }
  },
  {
   "cell_type": "markdown",
   "source": [
    "# <span style=\"color: #A1F99C\">8.</span>\n",
    "<span style=\"color:#bb91f3\">(SUBTRACT 4 1)</span> == <span style=\"color:#f1bd47\">3</span> == <span style=\"color:#f1bd47\">λx. λy. (x (x (x y)))</span>"
   ],
   "metadata": {
    "collapsed": false
   }
  },
  {
   "cell_type": "code",
   "execution_count": 11,
   "outputs": [
    {
     "name": "stdout",
     "output_type": "stream",
     "text": [
      "0: (((λq.(λw.((w (λe.(λr.(λt.(((e (λy.(λu.(u (y r))))) (λi.t)) (λo.o)))))) q))) (λp.(λa.(p (p (p (p a))))))) (λs.(λd.(s d))))\n",
      "1: ((λq.((q (λw.(λe.(λr.(((w (λt.(λy.(y (t e))))) (λu.r)) (λi.i)))))) (λo.(λp.(o (o (o (o p)))))))) (λa.(λs.(a s))))\n",
      "2: (((λi.(λo.(i o))) (λp.(λa.(λq.(((p (λw.(λe.(e (w a))))) (λr.q)) (λt.t)))))) (λy.(λu.(y (y (y (y u)))))))\n",
      "3: ((λq.((λw.(λe.(λr.(((w (λt.(λy.(y (t e))))) (λu.r)) (λi.i))))) q)) (λo.(λp.(o (o (o (o p)))))))\n",
      "4: ((λq.(λw.(λe.(((q (λr.(λt.(t (r w))))) (λy.e)) (λu.u))))) (λi.(λo.(i (i (i (i o)))))))\n",
      "5: (λe.(λr.((((λt.(λy.(t (t (t (t y)))))) (λu.(λi.(i (u e))))) (λq.r)) (λw.w))))\n",
      "6: (λq.(λw.(((λe.((λr.(λt.(t (r q)))) ((λy.(λu.(u (y q)))) ((λi.(λo.(o (i q)))) ((λp.(λa.(a (p q)))) e))))) (λs.w)) (λd.d))))\n",
      "7: (λq.(λw.(((λe.(λr.(r (((λt.(λy.(y (t q)))) ((λu.(λi.(i (u q)))) ((λo.(λp.(p (o q)))) e))) q)))) (λa.w)) (λs.s))))\n",
      "8: (λu.(λi.(((λo.(λp.(p ((λa.(a (((λq.(λw.(w (q u)))) ((λe.(λr.(r (e u)))) o)) u))) u)))) (λt.i)) (λy.y))))\n",
      "9: (λq.(λw.(((λe.(λr.(r (q (((λt.(λy.(y (t q)))) ((λu.(λi.(i (u q)))) e)) q))))) (λo.w)) (λp.p))))\n",
      "10: (λq.(λw.((λe.(e (q (((λr.(λt.(t (r q)))) ((λy.(λu.(u (y q)))) (λi.w))) q)))) (λo.o))))\n",
      "11: (λw.(λe.((λr.(r (w (((λt.(λy.(y (t w)))) (λu.(u ((λi.e) w)))) w)))) (λq.q))))\n",
      "12: (λq.(λw.((λe.e) (q (((λr.(λt.(t (r q)))) (λy.(y ((λu.w) q)))) q)))))\n",
      "13: (λq.(λw.((λe.e) (q ((λr.(r ((λt.(t ((λy.w) q))) q))) q)))))\n",
      "14: (λq.(λw.((λe.e) (q ((λr.(r ((λt.(t w)) q))) q)))))\n",
      "15: (λq.(λw.(q ((λe.(e ((λr.(r w)) q))) q))))\n",
      "16: (λe.(λq.(e ((λw.(w (e q))) e))))\n",
      "17: (λq.(λw.(q (q (q w)))))\n",
      "\n",
      "\n",
      "reduction steps: 17\n",
      "norm term:       (λq.(λw.(q (q (q w)))))\n"
     ]
    }
   ],
   "source": [
    "def term_test_8():\n",
    "    return multi_app_term(subtract_term(), num_term(4), num_term(1))\n",
    "\n",
    "\n",
    "test_procedure(term_test_8())"
   ],
   "metadata": {
    "collapsed": false
   }
  },
  {
   "cell_type": "markdown",
   "source": [
    "# <span style=\"color: #A1F99C\">9.</span>\n",
    "<span style=\"color:#bb91f3\">(SUBTRACT 3 5)</span> == <span style=\"color:#f1bd47\">0</span> == <span style=\"color:#f1bd47\">λx. λy. y</span>"
   ],
   "metadata": {
    "collapsed": false
   }
  },
  {
   "cell_type": "code",
   "execution_count": 12,
   "outputs": [
    {
     "name": "stdout",
     "output_type": "stream",
     "text": [
      "0: (((λq.(λw.((w (λe.(λr.(λt.(((e (λy.(λu.(u (y r))))) (λi.t)) (λo.o)))))) q))) (λp.(λa.(p (p (p a)))))) (λs.(λd.(s (s (s (s (s d))))))))\n",
      "1: ((λw.((w (λe.(λr.(λt.(((e (λy.(λu.(u (y r))))) (λi.t)) (λo.o)))))) (λp.(λa.(p (p (p a))))))) (λs.(λq.(s (s (s (s (s q))))))))\n",
      "2: (((λq.(λw.(q (q (q (q (q w))))))) (λe.(λr.(λt.(((e (λy.(λu.(u (y r))))) (λi.t)) (λo.o)))))) (λp.(λa.(p (p (p a))))))\n",
      "3: ((λq.((λw.(λe.(λr.(((w (λt.(λy.(y (t e))))) (λu.r)) (λi.i))))) ((λo.(λp.(λa.(((o (λs.(λd.(d (s p))))) (λf.a)) (λg.g))))) ((λh.(λj.(λk.(((h (λl.(λz.(z (l j))))) (λx.k)) (λc.c))))) ((λv.(λb.(λn.(((v (λm.(λq_1.(q_1 (m b))))) (λw_1.n)) (λe_1.e_1))))) ((λr_1.(λt_1.(λy_1.(((r_1 (λu_1.(λi_1.(i_1 (u_1 t_1))))) (λo_1.y_1)) (λp_1.p_1))))) q)))))) (λa_1.(λs_1.(a_1 (a_1 (a_1 s_1))))))\n",
      "4: ((λq.((λw.(λe.(λr.(((w (λt.(λy.(y (t e))))) (λu.r)) (λi.i))))) ((λo.(λp.(λa.(((o (λs.(λd.(d (s p))))) (λf.a)) (λg.g))))) ((λh.(λj.(λk.(((h (λl.(λz.(z (l j))))) (λx.k)) (λc.c))))) ((λv.(λb.(λn.(((v (λm.(λq_1.(q_1 (m b))))) (λw_1.n)) (λe_1.e_1))))) (λr_1.(λt_1.(((q (λy_1.(λu_1.(u_1 (y_1 r_1))))) (λi_1.t_1)) (λo_1.o_1))))))))) (λp_1.(λa_1.(p_1 (p_1 (p_1 a_1))))))\n",
      "5: ((λq.(λw.(λe.(((q (λr.(λt.(t (r w))))) (λy.e)) (λu.u))))) ((λi.(λo.(λp.(((i (λa.(λs.(s (a o))))) (λd.p)) (λf.f))))) ((λg.(λh.(λj.(((g (λk.(λl.(l (k h))))) (λz.j)) (λx.x))))) ((λc.(λv.(λb.(((c (λn.(λm.(m (n v))))) (λq_1.b)) (λw_1.w_1))))) (λe_1.(λr_1.((((λt_1.(λy_1.(t_1 (t_1 (t_1 y_1))))) (λu_1.(λi_1.(i_1 (u_1 e_1))))) (λo_1.r_1)) (λp_1.p_1))))))))\n",
      "6: (λt_1.(λy_1.(((((λu_1.(λi_1.(λo_1.(((u_1 (λq.(λw.(w (q i_1))))) (λe.o_1)) (λr.r))))) ((λt.(λy.(λu.(((t (λi.(λo.(o (i y))))) (λp.u)) (λa.a))))) ((λs.(λd.(λf.(((s (λg.(λh.(h (g d))))) (λj.f)) (λk.k))))) (λl.(λz.((((λx.(λc.(x (x (x c))))) (λv.(λb.(b (v l))))) (λn.z)) (λm.m))))))) (λq_1.(λw_1.(w_1 (q_1 t_1))))) (λe_1.y_1)) (λr_1.r_1))))\n",
      "7: (λq.(λw.((((λe.(λr.(((((λt.(λy.(λu.(((t (λi.(λo.(o (i y))))) (λp.u)) (λa.a))))) ((λs.(λd.(λf.(((s (λg.(λh.(h (g d))))) (λj.f)) (λk.k))))) (λl.(λz.((((λx.(λc.(x (x (x c))))) (λv.(λb.(b (v l))))) (λn.z)) (λm.m)))))) (λq_1.(λw_1.(w_1 (q_1 e))))) (λe_1.r)) (λr_1.r_1)))) (λt_1.(λy_1.(y_1 (t_1 q))))) (λu_1.w)) (λi_1.i_1))))\n",
      "8: (λq.(λw.((((λe.(λr.((((λt.(λy.(((((λu.(λi.(λo.(((u (λp.(λa.(a (p i))))) (λs.o)) (λd.d))))) (λf.(λg.((((λh.(λj.(h (h (h j))))) (λk.(λl.(l (k f))))) (λz.g)) (λx.x))))) (λc.(λv.(v (c t))))) (λb.y)) (λn.n)))) (λm.(λq_1.(q_1 (m e))))) (λw_1.r)) (λe_1.e_1)))) (λr_1.(λt_1.(t_1 (r_1 q))))) (λy_1.w)) (λu_1.u_1))))\n",
      "9: (λw.(λe.((((λr.(λt.((((λy.(λu.((((λi.(λo.((((λp.(λa.((((λs.(λd.(s (s (s d))))) (λf.(λg.(g (f p))))) (λh.a)) (λj.j)))) (λk.(λl.(l (k i))))) (λz.o)) (λx.x)))) (λc.(λv.(v (c y))))) (λb.u)) (λn.n)))) (λm.(λq_1.(q_1 (m r))))) (λw_1.t)) (λe_1.e_1)))) (λr_1.(λt_1.(t_1 (r_1 w))))) (λy_1.e)) (λq.q))))\n",
      "10: (λq.(λw.((((λe.(λr.((((λt.(λy.(((λu.((((λi.(λo.((((λp.(λa.(p (p (p a))))) (λs.(λd.(d (s i))))) (λf.o)) (λg.g)))) (λh.(λj.(j (h (λk.(λl.(l (k t))))))))) (λz.u)) (λx.x))) (λc.y)) (λv.v)))) (λb.(λn.(n (b e))))) (λm.r)) (λq_1.q_1)))) (λw_1.(λe_1.(e_1 (w_1 q))))) (λr_1.w)) (λt_1.t_1))))\n",
      "11: (λq.(λw.((((λe.(λr.((((λt.(λy.(((λu.((((λi.(λo.(((λp.((λa.(λs.(s (a i)))) ((λd.(λf.(f (d i)))) ((λg.(λh.(h (g i)))) p)))) (λj.o)) (λk.k)))) (λl.(λz.(z (l (λx.(λc.(c (x t))))))))) (λv.u)) (λb.b))) (λn.y)) (λm.m)))) (λq_1.(λw_1.(w_1 (q_1 e))))) (λe_1.r)) (λr_1.r_1)))) (λt_1.(λy_1.(y_1 (t_1 q))))) (λu_1.w)) (λi_1.i_1))))\n",
      "12: (λq.(λw.((((λe.(λr.((((λt.(λy.(((λu.(((λi.(((λo.((λp.(λa.(a (p (λs.(λd.(d (s (λf.(λg.(g (f t)))))))))))) ((λh.(λj.(j (h (λk.(λl.(l (k (λz.(λx.(x (z t)))))))))))) ((λc.(λv.(v (c (λb.(λn.(n (b (λm.(λq_1.(q_1 (m t)))))))))))) o)))) (λw_1.i)) (λe_1.e_1))) (λr_1.u)) (λt_1.t_1))) (λy_1.y)) (λu_1.u_1)))) (λi_1.(λo_1.(o_1 (i_1 e))))) (λp_1.r)) (λa_1.a_1)))) (λs_1.(λd_1.(d_1 (s_1 q))))) (λf_1.w)) (λg_1.g_1))))\n",
      "13: (λz.(λx.((((λc.(λv.((((λb.(λn.(((λm.((((λq_1.((λw_1.(λe_1.(e_1 (w_1 (λr_1.(λt_1.(t_1 (r_1 (λy_1.(λu_1.(u_1 (y_1 b)))))))))))) ((λi_1.(λo_1.(o_1 (i_1 (λp_1.(λa_1.(a_1 (p_1 (λs_1.(λd_1.(d_1 (s_1 b)))))))))))) ((λf_1.(λq.(q (f_1 (λw.(λe.(e (w (λr.(λt.(t (r b)))))))))))) q_1)))) (λy.(λu.m))) (λi.i)) (λo.o))) (λp.n)) (λa.a)))) (λs.(λd.(d (s c))))) (λf.v)) (λg.g)))) (λh.(λj.(j (h z))))) (λk.x)) (λl.l))))\n",
      "14: (λq.(λw.((((λe.(λr.(((λt.(((λy.((((λu.((λi.(λo.(o (i (λp.(λa.(a (p (λs.(λd.(d (s (λf.(λg.(g (f e)))))))))))))))) ((λh.(λj.(j (h (λk.(λl.(l (k (λz.(λx.(x (z (λc.(λv.(v (c e)))))))))))))))) ((λb.(λn.(n (b (λm.(λq_1.(q_1 (m (λw_1.(λe_1.(e_1 (w_1 (λr_1.(λt_1.(t_1 (r_1 e)))))))))))))))) u)))) (λy_1.(λu_1.y))) (λi_1.i_1)) (λo_1.o_1))) (λp_1.t)) (λa_1.a_1))) (λs_1.r)) (λd_1.d_1)))) (λf_1.(λg_1.(g_1 (f_1 q))))) (λh_1.w)) (λj_1.j_1))))\n",
      "15: (λq.(λw.((((λe.(λr.(((λt.(((((λy.((λu.(λi.(i (u (λo.(λp.(p (o (λa.(λs.(s (a (λd.(λf.(f (d e)))))))))))))))) ((λg.(λh.(h (g (λj.(λk.(k (j (λl.(λz.(z (l (λx.(λc.(c (x e)))))))))))))))) ((λv.(λb.(b (v (λn.(λm.(m (n (λq_1.(λw_1.(w_1 (q_1 (λe_1.(λr_1.(r_1 (e_1 e)))))))))))))))) y)))) (λt_1.(λy_1.(λu_1.t)))) (λi_1.i_1)) (λo_1.o_1)) (λp_1.p_1))) (λa_1.r)) (λs_1.s_1)))) (λd_1.(λf_1.(f_1 (d_1 q))))) (λg_1.w)) (λh_1.h_1))))\n",
      "16: (λk.(λl.((((λz.(λx.(((λc.(((((λv.((λb.(λn.(n (b (λm.(λq_1.(q_1 (m (λw_1.(λe_1.(e_1 (w_1 (λr_1.(λt_1.(t_1 (r_1 z)))))))))))))))) ((λy_1.(λu_1.(u_1 (y_1 (λi_1.(λo_1.(o_1 (i_1 (λp_1.(λa_1.(a_1 (p_1 (λs_1.(λd_1.(d_1 (s_1 z)))))))))))))))) (λf_1.(f_1 (v (λg_1.(λq.(q (g_1 (λw.(λe.(e (w (λr.(λt.(t (r z)))))))))))))))))) (λy.(λu.(λi.c)))) (λo.o)) (λp.p)) (λa.a))) (λs.x)) (λd.d)))) (λf.(λg.(g (f k))))) (λh.l)) (λj.j))))\n",
      "17: (λq.(λw.(((λe.(((λr.(((((λt.((λy.(λu.(u (y (λi.(λo.(o (i (λp.(λa.(a (p (λs.(λd.(d (s (λf.(λg.(g (f q)))))))))))))))))))) ((λh.(λj.(j (h (λk.(λl.(l (k (λz.(λx.(x (z (λc.(λv.(v (c (λb.(λn.(n (b q)))))))))))))))))))) (λm.(m (t (λq_1.(λw_1.(w_1 (q_1 (λe_1.(λr_1.(r_1 (e_1 (λt_1.(λy_1.(y_1 (t_1 (λu_1.(λi_1.(i_1 (u_1 q)))))))))))))))))))))) (λo_1.(λp_1.(λa_1.r)))) (λs_1.s_1)) (λd_1.d_1)) (λf_1.f_1))) (λg_1.e)) (λh_1.h_1))) (λj_1.w)) (λk_1.k_1))))\n",
      "18: (λq.(λw.(((λe.(((λr.(((((λt.(λy.(y (((λu.(λi.(i (u (λo.(λp.(p (o (λa.(λs.(s (a (λd.(λf.(f (d (λg.(λh.(h (g q)))))))))))))))))))) (λj.(j (t (λk.(λl.(l (k (λz.(λx.(x (z (λc.(λv.(v (c (λb.(λn.(n (b q)))))))))))))))))))) (λm.(λq_1.(q_1 (m (λw_1.(λe_1.(e_1 (w_1 (λr_1.(λt_1.(t_1 (r_1 (λy_1.(λu_1.(u_1 (y_1 q)))))))))))))))))))) (λi_1.(λo_1.(λp_1.r)))) (λa_1.a_1)) (λs_1.s_1)) (λd_1.d_1))) (λf_1.e)) (λg_1.g_1))) (λh_1.w)) (λj_1.j_1))))\n",
      "19: (λl.(λz.(((λx.(((λc.(((((λv.(λb.(b ((λn.(n ((λm.(m (v (λq_1.(λw_1.(w_1 (q_1 (λe_1.(λr_1.(r_1 (e_1 (λt_1.(λy_1.(y_1 (t_1 (λu_1.(λi_1.(i_1 (u_1 l))))))))))))))))))) (λo_1.(λp_1.(p_1 (o_1 (λa_1.(λs_1.(s_1 (a_1 (λd_1.(λf_1.(f_1 (d_1 (λg_1.(λh_1.(h_1 (g_1 l))))))))))))))))))) (λq.(λw.(w (q (λe.(λr.(r (e (λt.(λy.(y (t (λu.(λi.(i (u l)))))))))))))))))))) (λo.(λp.(λa.c)))) (λs.s)) (λd.d)) (λf.f))) (λg.x)) (λh.h))) (λj.z)) (λk.k))))\n",
      "20: (λq.(λw.(((λe.(((λr.(((((λt.(λy.(y ((λu.(u ((λi.(λo.(o (i (λp.(λa.(a (p (λs.(λd.(d (s (λf.(λg.(g (f q)))))))))))))))) (t (λh.(λj.(j (h (λk.(λl.(l (k (λz.(λx.(x (z (λc.(λv.(v (c q)))))))))))))))))))) (λb.(λn.(n (b (λm.(λq_1.(q_1 (m (λw_1.(λe_1.(e_1 (w_1 (λr_1.(λt_1.(t_1 (r_1 q)))))))))))))))))))) (λy_1.(λu_1.(λi_1.r)))) (λo_1.o_1)) (λp_1.p_1)) (λa_1.a_1))) (λs_1.e)) (λd_1.d_1))) (λf_1.w)) (λg_1.g_1))))\n",
      "21: (λq.(λw.((((λe.(((((λr.(λt.(t ((λy.(y ((λu.(λi.(i (u (λo.(λp.(p (o (λa.(λs.(s (a (λd.(λf.(f (d q)))))))))))))))) (r (λg.(λh.(h (g (λj.(λk.(k (j (λl.(λz.(z (l (λx.(λc.(c (x q)))))))))))))))))))) (λv.(λb.(b (v (λn.(λm.(m (n (λq_1.(λw_1.(w_1 (q_1 (λe_1.(λr_1.(r_1 (e_1 q)))))))))))))))))))) (λt_1.(λy_1.(λu_1.e)))) (λi_1.i_1)) (λo_1.o_1)) (λp_1.p_1))) (λa_1.(λs_1.w))) (λd_1.d_1)) (λf_1.f_1))))\n",
      "22: (λa.(λs.(((((((λd.(λf.(f ((λg.(g ((λh.(λj.(j (h (λk.(λl.(l (k (λz.(λx.(x (z (λc.(λv.(v (c a)))))))))))))))) (d (λb.(λn.(n (b (λm.(λq_1.(q_1 (m (λw_1.(λe_1.(e_1 (w_1 (λr_1.(λt_1.(t_1 (r_1 a)))))))))))))))))))) (λy_1.(λu_1.(u_1 (y_1 (λi_1.(λo_1.(o_1 (i_1 (λp_1.(λa_1.(a_1 (p_1 (λs_1.(λd_1.(d_1 (s_1 a)))))))))))))))))))) (λq.(λw.(λe.(λr.(λt.s)))))) (λy.y)) (λu.u)) (λi.i)) (λo.o)) (λp.p))))\n",
      "23: (λq.(λw.(((((((λe.(λr.(r ((λt.(t (λy.(y ((e (λu.(λi.(i (u (λo.(λp.(p (o (λa.(λs.(s (a (λd.(λf.(f (d q))))))))))))))))) (λg.(λh.(h (g (λj.(λk.(k (j (λl.(λz.(z (l q))))))))))))))))) (λx.(λc.(c (x (λv.(λb.(b (v (λn.(λm.(m (n (λq_1.(λw_1.(w_1 (q_1 q)))))))))))))))))))) (λe_1.(λr_1.(λt_1.(λy_1.(λu_1.w)))))) (λi_1.i_1)) (λo_1.o_1)) (λp_1.p_1)) (λa_1.a_1)) (λs_1.s_1))))\n",
      "24: (λq.(λw.(((((((λe.(λr.(r ((λt.(λy.(y (t (λu.(λi.(i (u (λo.(λp.(p (o (λa.(λs.(s (a q)))))))))))))))) (λd.(d ((e (λf.(λg.(g (f (λh.(λj.(j (h (λk.(λl.(l (k (λz.(λx.(x (z q))))))))))))))))) (λc.(λv.(v (c (λb.(λn.(n (b (λm.(λq_1.(q_1 (m q))))))))))))))))))) (λw_1.(λe_1.(λr_1.(λt_1.(λy_1.w)))))) (λu_1.u_1)) (λi_1.i_1)) (λo_1.o_1)) (λp_1.p_1)) (λa_1.a_1))))\n",
      "25: (λq.(λw.(((((((λe.(λr.(r (λt.(t ((λy.(y ((e (λu.(λi.(i (u (λo.(λp.(p (o (λa.(λs.(s (a (λd.(λf.(f (d q))))))))))))))))) (λg.(λh.(h (g (λj.(λk.(k (j (λl.(λz.(z (l q))))))))))))))) (λx.(λc.(c (x (λv.(λb.(b (v (λn.(λm.(m (n q)))))))))))))))))) (λq_1.(λw_1.(λe_1.(λr_1.(λt_1.w)))))) (λy_1.y_1)) (λu_1.u_1)) (λi_1.i_1)) (λo_1.o_1)) (λp_1.p_1))))\n",
      "26: (λe_1.(λr_1.(((((((λt_1.(λy_1.(y_1 (λu_1.(u_1 ((λi_1.(λo_1.(o_1 (i_1 (λq.(λw.(w (q (λe.(λr.(r (e e_1)))))))))))) ((t_1 (λt.(λy.(y (t (λu.(λi.(i (u (λo.(λp.(p (o (λa.(λs.(s (a e_1))))))))))))))))) (λd.(λf.(f (d (λg.(λh.(h (g (λj.(λk.(k (j e_1))))))))))))))))))) (λl.(λz.(λx.(λc.(λv.r_1)))))) (λb.b)) (λn.n)) (λm.m)) (λq_1.q_1)) (λw_1.w_1))))\n",
      "27: (λq.(λw.(((((((λe.(λr.(r (λt.(t (λy.(y (((e (λu.(λi.(i (u (λo.(λp.(p (o (λa.(λs.(s (a (λd.(λf.(f (d q))))))))))))))))) (λg.(λh.(h (g (λj.(λk.(k (j (λl.(λz.(z (l q))))))))))))) (λx.(λc.(c (x (λv.(λb.(b (v q)))))))))))))))) (λn.(λm.(λq_1.(λw_1.(λe_1.w)))))) (λr_1.r_1)) (λt_1.t_1)) (λy_1.y_1)) (λu_1.u_1)) (λi_1.i_1))))\n",
      "28: (λq.(λw.((((((λe.(e (λr.(r (λt.(t ((((λy.(λu.(λi.(λo.(λp.w))))) (λa.(λs.(s (a (λd.(λf.(f (d (λg.(λh.(h (g (λj.(λk.(k (j q))))))))))))))))) (λl.(λz.(z (l (λx.(λc.(c (x (λv.(λb.(b (v q))))))))))))) (λn.(λm.(m (n (λq_1.(λw_1.(w_1 (q_1 q))))))))))))))) (λe_1.e_1)) (λr_1.r_1)) (λt_1.t_1)) (λy_1.y_1)) (λu_1.u_1))))\n",
      "29: (λq.(λw.((((((λe.(e (λr.(r (λt.(t (((λy.(λu.(λi.(λo.w)))) (λp.(λa.(a (p (λs.(λd.(d (s (λf.(λg.(g (f q))))))))))))) (λh.(λj.(j (h (λk.(λl.(l (k q))))))))))))))) (λz.z)) (λx.x)) (λc.c)) (λv.v)) (λb.b))))\n",
      "30: (λg.(λh.((((((λj.j) (λk.(k (λl.(l (((λz.(λx.(λc.(λv.h)))) (λq.(λw.(w (q (λe.(λr.(r (e (λt.(λy.(y (t g))))))))))))) (λu.(λi.(i (u (λo.(λp.(p (o g)))))))))))))) (λa.a)) (λs.s)) (λd.d)) (λf.f))))\n",
      "31: (λq.(λw.(((((λe.(e (λr.(r (((λt.(λy.(λu.(λi.w)))) (λo.(λp.(p (o (λa.(λs.(s (a (λd.(λf.(f (d q))))))))))))) (λg.(λh.(h (g (λj.(λk.(k (j q))))))))))))) (λl.l)) (λz.z)) (λx.x)) (λc.c))))\n",
      "32: (λq.(λw.(((((λe.(e (λr.(r ((λt.(λy.(λu.w))) (λi.(λo.(o (i (λp.(λa.(a (p q))))))))))))) (λs.s)) (λd.d)) (λf.f)) (λg.g))))\n",
      "33: (λq.(λw.(((((λe.(e (λr.(r (λt.(λy.w)))))) (λu.u)) (λi.i)) (λo.o)) (λp.p))))\n",
      "34: (λu.(λi.(((((λo.o) (λq.(q (λw.(λe.i))))) (λr.r)) (λt.t)) (λy.y))))\n",
      "35: (λq.(λw.((((λe.(e (λr.(λt.w)))) (λy.y)) (λu.u)) (λi.i))))\n",
      "36: (λq.(λw.((((λe.e) (λr.(λt.w))) (λy.y)) (λu.u))))\n",
      "37: (λq.(λw.(((λe.(λr.w)) (λt.t)) (λy.y))))\n",
      "38: (λq.(λw.((λe.w) (λr.r))))\n",
      "39: (λw.(λq.q))\n",
      "\n",
      "\n",
      "reduction steps: 39\n",
      "norm term:       (λw.(λq.q))\n"
     ]
    }
   ],
   "source": [
    "def term_test_9():\n",
    "    return multi_app_term(subtract_term(), num_term(3), num_term(5))\n",
    "\n",
    "\n",
    "test_procedure(term_test_9(), steps_lim=150)"
   ],
   "metadata": {
    "collapsed": false
   }
  },
  {
   "cell_type": "markdown",
   "source": [
    "# <span style=\"color: #A1F99C\">10.</span>\n",
    "<span style=\"color:#bb91f3\">(LEQ 3 2)</span> == <span style=\"color:#f1bd47\">FALSE</span> == <span style=\"color:#f1bd47\">λx. λy. y</span>"
   ],
   "metadata": {
    "collapsed": false
   }
  },
  {
   "cell_type": "code",
   "execution_count": 13,
   "outputs": [
    {
     "name": "stdout",
     "output_type": "stream",
     "text": [
      "0: (((λa.(λs.((λd.((d (λf.(λg.(λh.h)))) (λj.(λk.j)))) (((λl.(λz.((z (λx.(λq.(λw.(((x (λe.(λr.(r (e q))))) (λt.w)) (λy.y)))))) l))) a) s)))) (λu.(λi.(u (u (u i)))))) (λo.(λp.(o (o p)))))\n",
      "1: (((λq.(λw.(((((λe.(λr.((r (λt.(λy.(λu.(((t (λi.(λo.(o (i y))))) (λp.u)) (λa.a)))))) e))) q) w) (λs.(λd.(λf.f)))) (λg.(λh.g))))) (λj.(λk.(j (j (j k)))))) (λl.(λz.(l (l z)))))\n",
      "2: ((λq.(((((λw.(λe.((e (λr.(λt.(λy.(((r (λu.(λi.(i (u t))))) (λo.y)) (λp.p)))))) w))) (λa.(λs.(a (a (a s)))))) q) (λd.(λf.(λg.g)))) (λh.(λj.h)))) (λk.(λl.(k (k l)))))\n",
      "3: (((((λr.(λt.((t (λy.(λu.(λi.(((y (λo.(λp.(p (o u))))) (λa.i)) (λs.s)))))) r))) (λd.(λf.(d (d (d f)))))) (λg.(λh.(g (g h))))) (λj.(λk.(λq.q)))) (λw.(λe.w)))\n",
      "4: ((((λq.((q (λw.(λe.(λr.(((w (λt.(λy.(y (t e))))) (λu.r)) (λi.i)))))) (λo.(λp.(o (o (o p))))))) (λa.(λs.(a (a s))))) (λd.(λf.(λg.g)))) (λh.(λj.h)))\n",
      "5: (((((λt.(λy.(t (t y)))) (λu.(λi.(λo.(((u (λp.(λa.(a (p i))))) (λs.o)) (λd.d)))))) (λf.(λg.(f (f (f g)))))) (λh.(λq.(λw.w)))) (λe.(λr.e)))\n",
      "6: ((((λq.((λw.(λe.(λr.(((w (λt.(λy.(y (t e))))) (λu.r)) (λi.i))))) ((λo.(λp.(λa.(((o (λs.(λd.(d (s p))))) (λf.a)) (λg.g))))) q))) (λh.(λj.(h (h (h j)))))) (λk.(λl.(λz.z)))) (λx.(λc.x)))\n",
      "7: ((((λh.((λj.(λk.(λl.(((j (λz.(λx.(x (z k))))) (λq.l)) (λw.w))))) (λe.(λr.(((h (λt.(λy.(y (t e))))) (λu.r)) (λi.i)))))) (λo.(λp.(o (o (o p)))))) (λa.(λs.(λd.d)))) (λf.(λg.f)))\n",
      "8: ((((λq.(λw.(λe.(((q (λr.(λt.(t (r w))))) (λy.e)) (λu.u))))) (λi.(λo.((((λp.(λa.(p (p (p a))))) (λs.(λd.(d (s i))))) (λf.o)) (λg.g))))) (λh.(λj.(λk.k)))) (λl.(λz.l)))\n",
      "9: (((λq.(λw.((((λe.(λr.((((λt.(λy.(t (t (t y))))) (λu.(λi.(i (u e))))) (λo.r)) (λp.p)))) (λa.(λs.(s (a q))))) (λd.w)) (λf.f)))) (λg.(λh.(λj.j)))) (λk.(λl.k)))\n",
      "10: (((λq.(λw.((((λe.(λr.(((λt.((λy.(λu.(u (y e)))) ((λi.(λo.(o (i e)))) ((λp.(λa.(a (p e)))) t)))) (λs.r)) (λd.d)))) (λf.(λg.(g (f q))))) (λh.w)) (λj.j)))) (λk.(λl.(λz.z)))) (λx.(λc.x)))\n",
      "11: (((λq.(λw.((((λe.(λr.(((λt.(λy.(y (t e)))) ((λu.(λi.(i (u e)))) ((λo.(λp.(p (o e)))) (λa.r)))) (λs.s)))) (λd.(λf.(f (d q))))) (λg.w)) (λh.h)))) (λj.(λk.(λl.l)))) (λz.(λx.z)))\n",
      "12: ((λq.((((λw.(λe.(((λr.(λt.(t (r w)))) ((λy.(λu.(u (y w)))) ((λi.(λo.(o (i w)))) (λp.e)))) (λa.a)))) (λs.(λd.(d (s (λf.(λg.(λh.h)))))))) (λj.q)) (λk.k))) (λl.(λz.l)))\n",
      "13: ((λo.((((λp.(λa.(((λs.(λd.(d (s p)))) ((λf.(λg.(g (f p)))) (λh.(h ((λj.a) p))))) (λk.k)))) (λl.(λq.(q (l (λw.(λe.(λr.r)))))))) (λt.o)) (λy.y))) (λu.(λi.u)))\n",
      "14: ((((λq.(λw.(((λe.(λr.(r (e q)))) ((λt.(λy.(y (t q)))) (λu.(u ((λi.w) q))))) (λo.o)))) (λp.(λa.(a (p (λs.(λd.(λf.f)))))))) (λg.(λh.(λj.h)))) (λk.k))\n",
      "15: (((λq.(((λw.(λe.(e (w (λr.(λt.(t (r (λy.(λu.(λi.i))))))))))) ((λo.(λp.(p (o (λa.(λs.(s (a (λd.(λf.(λg.g))))))))))) (λh.(h ((λj.q) (λk.(λl.(l (k (λz.(λx.(λc.c)))))))))))) (λv.v))) (λb.(λn.(λm.n)))) (λq_1.q_1))\n",
      "16: (((λq.(((λw.(λe.(e (w (λr.(λt.(t (r (λy.(λu.(λi.i))))))))))) ((λo.(λp.(p (o (λa.(λs.(s (a (λd.(λf.(λg.g))))))))))) (λh.(h q)))) (λj.j))) (λk.(λl.(λz.l)))) (λx.x))\n",
      "17: (((λq.((λw.(w (((λe.(λr.(r (e (λt.(λy.(y (t (λu.(λi.(λo.o))))))))))) (λp.(p q))) (λa.(λs.(s (a (λd.(λf.(λg.g)))))))))) (λh.h))) (λj.(λk.(λl.k)))) (λz.z))\n",
      "18: (((λq.((λw.(w ((λe.(e ((λr.(r q)) (λt.(λy.(y (t (λu.(λi.(λo.o)))))))))) (λp.(λa.(a (p (λs.(λd.(λf.f)))))))))) (λg.g))) (λh.(λj.(λk.j)))) (λl.l))\n",
      "19: (((λr.(r ((λt.(t ((λy.(y (λu.(λi.(λo.i))))) (λp.(λa.(a (p (λs.(λd.(λf.f)))))))))) (λg.(λh.(h (g (λj.(λk.(λq.q)))))))))) (λw.w)) (λe.e))\n",
      "20: (((λq.(q ((λw.(λe.(e (w (λr.(λt.(λy.y))))))) ((λu.(u (λi.(λo.(λp.o))))) (λa.(λs.(s (a (λd.(λf.(λg.g))))))))))) (λh.h)) (λj.j))\n",
      "21: (((λt.t) ((λy.(λu.(u (y (λi.(λo.(λp.p))))))) ((λa.(a (λs.(λd.(λf.d))))) (λg.(λh.(h (g (λq.(λw.(λe.e)))))))))) (λr.r))\n",
      "22: (((λq.(λw.(w (q (λe.(λr.(λt.t))))))) ((λy.(y (λu.(λi.(λo.i))))) (λp.(λa.(a (p (λs.(λd.(λf.f))))))))) (λg.g))\n",
      "23: ((λw.(w (((λe.(e (λr.(λt.(λy.t))))) (λu.(λi.(i (u (λo.(λp.(λa.a)))))))) (λs.(λd.(λf.f)))))) (λq.q))\n",
      "24: ((λq.q) (((λw.(w (λe.(λr.(λt.r))))) (λy.(λu.(u (y (λi.(λo.(λp.p)))))))) (λa.(λs.(λd.d)))))\n",
      "25: (((λq.(q (λw.(λe.(λr.e))))) (λt.(λy.(y (t (λu.(λi.(λo.o)))))))) (λp.(λa.(λs.s))))\n",
      "26: (((λy.(λu.(u (y (λi.(λo.(λp.p))))))) (λa.(λq.(λw.q)))) (λe.(λr.(λt.t))))\n",
      "27: ((λq.(q ((λw.(λe.(λr.e))) (λt.(λy.(λu.u)))))) (λi.(λo.(λp.p))))\n",
      "28: ((λq.(λw.(λe.e))) ((λr.(λt.(λy.t))) (λu.(λi.(λo.o)))))\n",
      "29: ((λq.(λw.(λe.e))) (λr.(λt.r)))\n",
      "30: (λq.(λw.w))\n",
      "\n",
      "\n",
      "reduction steps: 30\n",
      "norm term:       (λq.(λw.w))\n"
     ]
    }
   ],
   "source": [
    "def term_test_10():\n",
    "    return multi_app_term(leq_term(), num_term(3), num_term(2))\n",
    "\n",
    "\n",
    "test_procedure(term_test_10())"
   ],
   "metadata": {
    "collapsed": false
   }
  },
  {
   "cell_type": "markdown",
   "source": [
    "# <span style=\"color: #A1F99C\">11.</span>\n",
    "<span style=\"color:#bb91f3\">(LEQ 2 5)</span> == <span style=\"color:#f1bd47\">TRUE</span> == <span style=\"color:#f1bd47\">λx. λy. x</span>"
   ],
   "metadata": {
    "collapsed": false
   }
  },
  {
   "cell_type": "code",
   "execution_count": 14,
   "outputs": [
    {
     "name": "stdout",
     "output_type": "stream",
     "text": [
      "0: (((λq.(λw.((λe.((e (λr.(λt.(λy.y)))) (λu.(λi.u)))) (((λo.(λp.((p (λa.(λs.(λd.(((a (λf.(λg.(g (f s))))) (λh.d)) (λj.j)))))) o))) q) w)))) (λk.(λl.(k (k l))))) (λz.(λx.(z (z (z (z (z x))))))))\n",
      "1: ((λq.((λw.((w (λe.(λr.(λt.t)))) (λy.(λu.y)))) (((λi.(λo.((o (λp.(λa.(λs.(((p (λd.(λf.(f (d a))))) (λg.s)) (λh.h)))))) i))) (λj.(λk.(j (j k))))) q))) (λl.(λz.(l (l (l (l (l z))))))))\n",
      "2: ((λq.((q (λw.(λe.(λr.r)))) (λt.(λy.t)))) (((λu.(λi.((i (λo.(λp.(λa.(((o (λs.(λd.(d (s p))))) (λf.a)) (λg.g)))))) u))) (λh.(λj.(h (h j))))) (λk.(λl.(k (k (k (k (k l)))))))))\n",
      "3: ((λw.((w (λe.(λr.(λt.t)))) (λy.(λu.y)))) ((λi.((i (λo.(λp.(λa.(((o (λs.(λd.(d (s p))))) (λf.a)) (λg.g)))))) (λh.(λj.(h (h j)))))) (λk.(λq.(k (k (k (k (k q)))))))))\n",
      "4: ((((λq.((q (λw.(λe.(λr.(((w (λt.(λy.(y (t e))))) (λu.r)) (λi.i)))))) (λo.(λp.(o (o p)))))) (λa.(λs.(a (a (a (a (a s)))))))) (λd.(λf.(λg.g)))) (λh.(λj.h)))\n",
      "5: (((((λe.(λr.(e (e (e (e (e r))))))) (λt.(λy.(λu.(((t (λi.(λo.(o (i y))))) (λp.u)) (λa.a)))))) (λs.(λd.(s (s d))))) (λf.(λg.(λh.h)))) (λq.(λw.q)))\n",
      "6: ((((λq.((λw.(λe.(λr.(((w (λt.(λy.(y (t e))))) (λu.r)) (λi.i))))) ((λo.(λp.(λa.(((o (λs.(λd.(d (s p))))) (λf.a)) (λg.g))))) ((λh.(λj.(λk.(((h (λl.(λz.(z (l j))))) (λx.k)) (λc.c))))) ((λv.(λb.(λn.(((v (λm.(λq_1.(q_1 (m b))))) (λw_1.n)) (λe_1.e_1))))) ((λr_1.(λt_1.(λy_1.(((r_1 (λu_1.(λi_1.(i_1 (u_1 t_1))))) (λo_1.y_1)) (λp_1.p_1))))) q)))))) (λa_1.(λs_1.(a_1 (a_1 s_1))))) (λd_1.(λf_1.(λg_1.g_1)))) (λh_1.(λj_1.h_1)))\n",
      "7: ((((λq.((λw.(λe.(λr.(((w (λt.(λy.(y (t e))))) (λu.r)) (λi.i))))) ((λo.(λp.(λa.(((o (λs.(λd.(d (s p))))) (λf.a)) (λg.g))))) ((λh.(λj.(λk.(((h (λl.(λz.(z (l j))))) (λx.k)) (λc.c))))) (λv.(λb.(((((λn.(λm.(λq_1.(((n (λw_1.(λe_1.(e_1 (w_1 m))))) (λr_1.q_1)) (λt_1.t_1))))) q) (λy_1.(λu_1.(u_1 (y_1 v))))) (λi_1.b)) (λo_1.o_1)))))))) (λp_1.(λa_1.(p_1 (p_1 a_1))))) (λs_1.(λd_1.(λf_1.f_1)))) (λg_1.(λh_1.g_1)))\n",
      "8: ((((λq.((λw.(λe.(λr.(((w (λt.(λy.(y (t e))))) (λu.r)) (λi.i))))) ((λo.(λp.(λa.(((o (λs.(λd.(d (s p))))) (λf.a)) (λg.g))))) (λh.(λj.((((λk.(λl.(((((λz.(λx.(λc.(((z (λv.(λb.(b (v x))))) (λn.c)) (λm.m))))) q) (λq_1.(λw_1.(w_1 (q_1 k))))) (λe_1.l)) (λr_1.r_1)))) (λt_1.(λy_1.(y_1 (t_1 h))))) (λu_1.j)) (λi_1.i_1))))))) (λo_1.(λp_1.(o_1 (o_1 p_1))))) (λa_1.(λs_1.(λd_1.d_1)))) (λf_1.(λg_1.f_1)))\n",
      "9: ((((λq.(λw.(λe.(((q (λr.(λt.(t (r w))))) (λy.e)) (λu.u))))) ((λi.(λo.(λp.(((i (λa.(λs.(s (a o))))) (λd.p)) (λf.f))))) (λg.(λh.((((λj.(λk.(((((λl.(λz.(λx.(((l (λc.(λv.(v (c z))))) (λb.x)) (λn.n))))) (λm.(λq_1.(m (m q_1))))) (λw_1.(λe_1.(e_1 (w_1 j))))) (λr_1.k)) (λt_1.t_1)))) (λy_1.(λu_1.(u_1 (y_1 g))))) (λi_1.h)) (λo_1.o_1)))))) (λp_1.(λa_1.(λs_1.s_1)))) (λd_1.(λf_1.d_1)))\n",
      "10: ((((λq.(λw.(λe.(((q (λr.(λt.(t (r w))))) (λy.e)) (λu.u))))) ((λi.(λo.(λp.(((i (λa.(λs.(s (a o))))) (λd.p)) (λf.f))))) (λg.(λh.((((λj.(λk.((((λl.(λz.((((λx.(λc.(x (x c)))) (λv.(λb.(b (v l))))) (λn.z)) (λm.m)))) (λq_1.(λw_1.(w_1 (q_1 j))))) (λe_1.k)) (λr_1.r_1)))) (λt_1.(λy_1.(y_1 (t_1 g))))) (λu_1.h)) (λi_1.i_1)))))) (λo_1.(λp_1.(λa_1.a_1)))) (λs_1.(λd_1.s_1)))\n",
      "11: ((((λq.(λw.(λe.(((q (λr.(λt.(t (r w))))) (λy.e)) (λu.u))))) ((λi.(λo.(λp.(((i (λa.(λs.(s (a o))))) (λd.p)) (λf.f))))) (λg.(λh.(((λj.((((λk.(λl.((((λz.(λx.(z (z x)))) (λc.(λv.(v (c k))))) (λb.l)) (λn.n)))) (λm.(λq_1.(q_1 (m (λw_1.(λe_1.(e_1 (w_1 g))))))))) (λr_1.j)) (λt_1.t_1))) (λy_1.h)) (λu_1.u_1)))))) (λi_1.(λo_1.(λp_1.p_1)))) (λa_1.(λs_1.a_1)))\n",
      "12: ((((λq_1.(λw_1.(λe_1.(((q_1 (λr_1.(λt_1.(t_1 (r_1 w_1))))) (λy_1.e_1)) (λu_1.u_1))))) (λi_1.(λo_1.((((λp_1.(λa_1.(((λq.((((λw.(λe.((((λr.(λt.(r (r t)))) (λy.(λu.(u (y w))))) (λi.e)) (λo.o)))) (λp.(λa.(a (p (λs.(λd.(d (s p_1))))))))) (λf.q)) (λg.g))) (λh.a_1)) (λj.j)))) (λk.(λl.(l (k i_1))))) (λz.o_1)) (λx.x))))) (λc.(λv.(λb.b)))) (λn.(λm.n)))\n",
      "13: (((λq.(λw.((((λe.(λr.((((λt.(λy.(((λu.((((λi.(λo.((((λp.(λa.(p (p a)))) (λs.(λd.(d (s i))))) (λf.o)) (λg.g)))) (λh.(λj.(j (h (λk.(λl.(l (k t))))))))) (λz.u)) (λx.x))) (λc.y)) (λv.v)))) (λb.(λn.(n (b e))))) (λm.r)) (λq_1.q_1)))) (λw_1.(λe_1.(e_1 (w_1 q))))) (λr_1.w)) (λt_1.t_1)))) (λy_1.(λu_1.(λi_1.i_1)))) (λo_1.(λp_1.o_1)))\n",
      "14: (((λq.(λw.(((λe.((((λr.(λt.(((λy.((((λu.(λi.((((λo.(λp.(o (o p)))) (λa.(λs.(s (a u))))) (λd.i)) (λf.f)))) (λg.(λh.(h (g (λj.(λk.(k (j r))))))))) (λl.y)) (λz.z))) (λx.t)) (λc.c)))) (λv.(λb.(b (v (λn.(λm.(m (n q))))))))) (λq_1.e)) (λw_1.w_1))) (λe_1.w)) (λr_1.r_1)))) (λt_1.(λy_1.(λu_1.u_1)))) (λi_1.(λo_1.i_1)))\n",
      "15: (((λy.(λu.(((λi.((((λo.(λp.(((λa.((((λs.(λd.(((λf.((λg.(λh.(h (g s)))) ((λj.(λk.(k (j s)))) f))) (λl.d)) (λz.z)))) (λx.(λc.(c (x (λv.(λb.(b (v o))))))))) (λn.a)) (λm.m))) (λq_1.p)) (λw_1.w_1)))) (λe_1.(λr_1.(r_1 (e_1 (λt_1.(λy_1.(y_1 (t_1 y))))))))) (λu_1.i)) (λi_1.i_1))) (λo_1.u)) (λp_1.p_1)))) (λq.(λw.(λe.e)))) (λr.(λt.r)))\n",
      "16: (((λq.(λw.(((((λe.(λr.(((λt.((((λy.(λu.(((λi.((λo.(λp.(p (o y)))) ((λa.(λs.(s (a y)))) i))) (λd.u)) (λf.f)))) (λg.(λh.(h (g (λj.(λk.(k (j e))))))))) (λl.t)) (λz.z))) (λx.r)) (λc.c)))) (λv.(λb.(b (v (λn.(λm.(m (n q))))))))) (λq_1.(λw_1.w))) (λe_1.e_1)) (λr_1.r_1)))) (λt_1.(λy_1.(λu_1.u_1)))) (λi_1.(λo_1.i_1)))\n",
      "17: (((λq.(λw.((((λe.(((λr.((((λt.(λy.(((λu.((λi.(λo.(o (i t)))) ((λp.(λa.(a (p t)))) u))) (λs.y)) (λd.d)))) (λf.(λg.(g (f (λh.(λj.(j (h (λk.(λl.(l (k (λz.(λx.(x (z q))))))))))))))))) (λc.r)) (λv.v))) (λb.e)) (λn.n))) (λm.(λq_1.w))) (λw_1.w_1)) (λe_1.e_1)))) (λr_1.(λt_1.(λy_1.y_1)))) (λu_1.(λi_1.u_1)))\n",
      "18: (((λq.(λw.((((λe.(((((λr.(λt.(((λy.((λu.(λi.(i (u r)))) ((λo.(λp.(p (o r)))) y))) (λa.t)) (λs.s)))) (λd.(λf.(f (d (λg.(λh.(h (g (λj.(λk.(k (j (λl.(λz.(z (l q))))))))))))))))) (λx.(λc.e))) (λv.v)) (λb.b))) (λn.(λm.w))) (λq_1.q_1)) (λw_1.w_1)))) (λe_1.(λr_1.(λt_1.t_1)))) (λy_1.(λu_1.y_1)))\n",
      "19: (((λs.(λd.((((λf.(((((λg.(λh.(((λj.(λk.(k (((λl.(λz.(z (l g)))) j) g)))) (λx.h)) (λc.c)))) (λv.(λb.(b (v (λn.(λm.(m (n (λq_1.(λw_1.(w_1 (q_1 (λe_1.(λr_1.(r_1 (e_1 s))))))))))))))))) (λt_1.(λy_1.f))) (λq.q)) (λw.w))) (λe.(λr.d))) (λt.t)) (λy.y)))) (λu.(λi.(λo.o)))) (λp.(λa.p)))\n",
      "20: (((λq.(λw.(((((((λe.(λr.(((λt.(λy.(y (((λu.(λi.(i (u e)))) t) e)))) (λo.r)) (λp.p)))) (λa.(λs.(s (a (λd.(λf.(f (d (λg.(λh.(h (g (λj.(λk.(k (j q))))))))))))))))) (λl.(λz.(λx.(λc.w))))) (λv.v)) (λb.b)) (λn.n)) (λm.m)))) (λq_1.(λw_1.(λe_1.e_1)))) (λr_1.(λt_1.r_1)))\n",
      "21: (((λq.(λw.(((((((λe.(λr.(((λt.(λy.(y ((λu.(u (t e))) e)))) (λi.r)) (λo.o)))) (λp.(λa.(a (p (λs.(λd.(d (s (λf.(λg.(g (f (λh.(λj.(j (h q))))))))))))))))) (λk.(λl.(λz.(λx.w))))) (λc.c)) (λv.v)) (λb.b)) (λn.n)))) (λm.(λq_1.(λw_1.w_1)))) (λe_1.(λr_1.e_1)))\n",
      "22: (((λq.(λw.(((((((λe.(λr.((λt.(t ((λy.(y ((λu.r) e))) e))) (λi.i)))) (λo.(λp.(p (o (λa.(λs.(s (a (λd.(λf.(f (d (λg.(λh.(h (g q))))))))))))))))) (λj.(λk.(λl.(λz.w))))) (λx.x)) (λc.c)) (λv.v)) (λb.b)))) (λn.(λm.(λq_1.q_1)))) (λw_1.(λe_1.w_1)))\n",
      "23: ((λw.(((((((λe.(λr.((λt.(t ((λy.(y ((λu.r) e))) e))) (λi.i)))) (λo.(λp.(p (o (λa.(λs.(s (a (λd.(λf.(f (d (λg.(λh.(h (g (λj.(λk.(λl.l)))))))))))))))))))) (λz.(λx.(λc.(λv.w))))) (λb.b)) (λn.n)) (λm.m)) (λq_1.q_1))) (λw_1.(λq.w_1)))\n",
      "24: ((λq.((((((λw.((λe.(e ((λr.(r ((λt.w) (λy.(λu.(u (y (λi.(λo.(o (i (λp.(λa.(a (p (λs.(λd.(d (s (λf.(λg.(λh.h)))))))))))))))))))))) (λj.(λk.(k (j (λl.(λz.(z (l (λx.(λc.(c (x (λv.(λb.(b (v (λn.(λm.(λq_1.q_1)))))))))))))))))))))) (λw_1.w_1))) (λe_1.(λr_1.(λt_1.(λy_1.q))))) (λu_1.u_1)) (λi_1.i_1)) (λo_1.o_1)) (λp_1.p_1))) (λa_1.(λs_1.a_1)))\n",
      "25: ((λq.((((((λw.((λe.e) ((λr.(r ((λt.w) (λy.(λu.(u (y (λi.(λo.(o (i (λp.(λa.(a (p (λs.(λd.(d (s (λf.(λg.(λh.h)))))))))))))))))))))) (λj.(λk.(k (j (λl.(λz.(z (l (λx.(λc.(c (x (λv.(λb.(b (v (λn.(λm.(λq_1.q_1)))))))))))))))))))))) (λw_1.(λe_1.(λr_1.(λt_1.q))))) (λy_1.y_1)) (λu_1.u_1)) (λi_1.i_1)) (λo_1.o_1))) (λp_1.(λa_1.p_1)))\n",
      "26: ((λq.((((((λw.((λe.(e ((λr.w) (λt.(λy.(y (t (λu.(λi.(i (u (λo.(λp.(p (o (λa.(λs.(s (a (λd.(λf.(λg.g)))))))))))))))))))))) (λh.(λj.(j (h (λk.(λl.(l (k (λz.(λx.(x (z (λc.(λv.(v (c (λb.(λn.(λm.m))))))))))))))))))))) (λq_1.(λw_1.(λe_1.(λr_1.q))))) (λt_1.t_1)) (λy_1.y_1)) (λu_1.u_1)) (λi_1.i_1))) (λo_1.(λp_1.o_1)))\n",
      "27: ((λz.((((((λx.(x ((λc.(λv.(λb.(λn.(λm.z))))) (λq_1.(λw_1.(w_1 (q_1 (λe_1.(λr_1.(r_1 (e_1 (λt_1.(λy_1.(y_1 (t_1 (λu_1.(λi_1.(i_1 (u_1 (λo_1.(λq.(λw.w)))))))))))))))))))))) (λe.(λr.(r (e (λt.(λy.(y (t (λu.(λi.(i (u (λo.(λp.(p (o (λa.(λs.(λd.d)))))))))))))))))))) (λf.f)) (λg.g)) (λh.h)) (λj.j))) (λk.(λl.k)))\n",
      "28: ((((((λq.(q ((λw.(λe.(λr.(λt.(λy.(λu.(λi.u))))))) (λo.(λp.(p (o (λa.(λs.(s (a (λd.(λf.(f (d (λg.(λh.(h (g (λj.(λk.(λl.l)))))))))))))))))))))) (λz.(λx.(x (z (λc.(λv.(v (c (λb.(λn.(n (b (λm.(λq_1.(q_1 (m (λw_1.(λe_1.(λr_1.r_1)))))))))))))))))))) (λt_1.t_1)) (λy_1.y_1)) (λu_1.u_1)) (λi_1.i_1))\n",
      "29: ((((((λq.(q (λw.(λe.(λr.(λt.(λy.(λu.y)))))))) (λi.(λo.(o (i (λp.(λa.(a (p (λs.(λd.(d (s (λf.(λg.(g (f (λh.(λj.(λk.k)))))))))))))))))))) (λl.l)) (λz.z)) (λx.x)) (λc.c))\n",
      "30: ((((((λq.(λw.(w (q (λe.(λr.(r (e (λt.(λy.(y (t (λu.(λi.(i (u (λo.(λp.(λa.a))))))))))))))))))) (λs.(λd.(λf.(λg.(λh.(λj.h))))))) (λk.k)) (λl.l)) (λz.z)) (λx.x))\n",
      "31: (((((λq.(q ((λw.(λe.(λr.(λt.(λy.(λu.y)))))) (λi.(λo.(o (i (λp.(λa.(a (p (λs.(λd.(d (s (λf.(λg.(λh.h)))))))))))))))))) (λj.j)) (λk.k)) (λl.l)) (λz.z))\n",
      "32: (((((λi.i) ((λo.(λp.(λa.(λs.(λd.(λf.d)))))) (λg.(λh.(h (g (λj.(λk.(k (j (λl.(λq.(q (l (λw.(λe.(λr.r))))))))))))))))) (λt.t)) (λy.y)) (λu.u))\n",
      "33: (((((λq.q) (λw.(λe.(λr.(λt.(λy.t)))))) (λu.u)) (λi.i)) (λo.o))\n",
      "34: ((((λq.(λw.(λe.(λr.(λt.r))))) (λy.y)) (λu.u)) (λi.i))\n",
      "35: (((λq.(λw.(λe.(λr.e)))) (λt.t)) (λy.y))\n",
      "36: ((λe.(λr.(λq.r))) (λw.w))\n",
      "37: (λq.(λw.q))\n",
      "\n",
      "\n",
      "reduction steps: 37\n",
      "norm term:       (λq.(λw.q))\n"
     ]
    }
   ],
   "source": [
    "def term_test_11():\n",
    "    return multi_app_term(leq_term(), num_term(2), num_term(5))\n",
    "\n",
    "\n",
    "test_procedure(term_test_11(), steps_lim=100)"
   ],
   "metadata": {
    "collapsed": false
   }
  },
  {
   "cell_type": "markdown",
   "source": [
    "# <span style=\"color: #A1F99C\">12.</span>\n",
    "<span style=\"color:#bb91f3\">(EQ 2 2)</span> == <span style=\"color:#f1bd47\">TRUE</span> == <span style=\"color:#f1bd47\">λx. λy. x</span>"
   ],
   "metadata": {
    "collapsed": false
   }
  },
  {
   "cell_type": "code",
   "execution_count": 15,
   "outputs": [
    {
     "name": "stdout",
     "output_type": "stream",
     "text": [
      "0: (((λq.(λw.(((λe.(λr.((((λt.(λy.(λu.((t y) u)))) e) r) e))) (((λi.(λo.((λp.((p (λa.(λs.(λd.d)))) (λf.(λg.f)))) (((λh.(λj.((j (λk.(λl.(λz.(((k (λx.(λc.(c (x l))))) (λv.z)) (λb.b)))))) h))) i) o)))) q) w)) (((λn.(λm.((λq_1.((q_1 (λw_1.(λe_1.(λr_1.r_1)))) (λt_1.(λy_1.t_1)))) (((λu_1.(λi_1.((i_1 (λo_1.(λp_1.(λa_1.(((o_1 (λs_1.(λd_1.(d_1 (s_1 p_1))))) (λf_1.a_1)) (λg_1.g_1)))))) u_1))) n) m)))) w) q)))) (λh_1.(λj_1.(h_1 (h_1 j_1))))) (λk_1.(λl_1.(k_1 (k_1 l_1)))))\n",
      "1: (((λg_1.(λh_1.(((λj_1.(λk_1.((((λq.(λw.(λe.((q w) e)))) j_1) k_1) j_1))) (((λr.(λt.((λy.((y (λu.(λi.(λo.o)))) (λp.(λa.p)))) (((λs.(λd.((d (λf.(λg.(λh.(((f (λj.(λk.(k (j g))))) (λl.h)) (λz.z)))))) s))) r) t)))) g_1) h_1)) (((λx.(λc.(((((λv.(λb.((b (λn.(λm.(λq_1.(((n (λw_1.(λe_1.(e_1 (w_1 m))))) (λr_1.q_1)) (λt_1.t_1)))))) v))) x) c) (λy_1.(λu_1.(λi_1.i_1)))) (λo_1.(λp_1.o_1))))) h_1) g_1)))) (λa_1.(λs_1.(a_1 (a_1 s_1))))) (λd_1.(λf_1.(d_1 (d_1 f_1)))))\n",
      "2: (((λq.(λw.(((λe.(λr.((((λt.(λy.(λu.((t y) u)))) e) r) e))) ((λi.((λo.((o (λp.(λa.(λs.s)))) (λd.(λf.d)))) (((λg.(λh.((h (λj.(λk.(λl.(((j (λz.(λx.(x (z k))))) (λc.l)) (λv.v)))))) g))) q) i))) w)) (((λb.(λn.(((((λm.(λq_1.((q_1 (λw_1.(λe_1.(λr_1.(((w_1 (λt_1.(λy_1.(y_1 (t_1 e_1))))) (λu_1.r_1)) (λi_1.i_1)))))) m))) b) n) (λo_1.(λp_1.(λa_1.a_1)))) (λs_1.(λd_1.s_1))))) w) q)))) (λf_1.(λg_1.(f_1 (f_1 g_1))))) (λh_1.(λj_1.(h_1 (h_1 j_1)))))\n",
      "3: (((λq.(λw.(((λe.(λr.((((λt.(λy.(λu.((t y) u)))) e) r) e))) ((λi.((λo.((o (λp.(λa.(λs.s)))) (λd.(λf.d)))) (((λg.(λh.((h (λj.(λk.(λl.(((j (λz.(λx.(x (z k))))) (λc.l)) (λv.v)))))) g))) q) i))) w)) (((λb.(λn.((((λm.((m (λq_1.(λw_1.(λe_1.(((q_1 (λr_1.(λt_1.(t_1 (r_1 w_1))))) (λy_1.e_1)) (λu_1.u_1)))))) b)) n) (λi_1.(λo_1.(λp_1.p_1)))) (λa_1.(λs_1.a_1))))) w) q)))) (λd_1.(λf_1.(d_1 (d_1 f_1))))) (λg_1.(λh_1.(g_1 (g_1 h_1)))))\n",
      "4: (((λe_2.(λr_2.((λt_2.((((λq.(λw.(λe.((q w) e)))) ((λr.((λt.((t (λy.(λu.(λi.i)))) (λo.(λp.o)))) (((λa.(λs.((s (λd.(λf.(λg.(((d (λh.(λj.(j (h f))))) (λk.g)) (λl.l)))))) a))) e_2) r))) r_2)) t_2) ((λz.((λx.((x (λc.(λv.(λb.b)))) (λn.(λm.n)))) (((λq_1.(λw_1.((w_1 (λe_1.(λr_1.(λt_1.(((e_1 (λy_1.(λu_1.(u_1 (y_1 r_1))))) (λi_1.t_1)) (λo_1.o_1)))))) q_1))) e_2) z))) r_2))) (((λp_1.(λa_1.((((λs_1.((s_1 (λd_1.(λf_1.(λg_1.(((d_1 (λh_1.(λj_1.(j_1 (h_1 f_1))))) (λk_1.g_1)) (λl_1.l_1)))))) p_1)) a_1) (λz_1.(λx_1.(λc_1.c_1)))) (λv_1.(λb_1.v_1))))) r_2) e_2)))) (λn_1.(λm_1.(n_1 (n_1 m_1))))) (λq_2.(λw_2.(q_2 (q_2 w_2)))))\n",
      "5: (((λq.(λw.((λe.((((λr.(λt.(λy.((r t) y)))) ((λu.((λi.((i (λo.(λp.(λa.a)))) (λs.(λd.s)))) (((λf.(λg.((g (λh.(λj.(λk.(((h (λl.(λz.(z (l j))))) (λx.k)) (λc.c)))))) f))) q) u))) w)) e) ((λv.((λb.((b (λn.(λm.(λq_1.q_1)))) (λw_1.(λe_1.w_1)))) (((λr_1.(λt_1.((t_1 (λy_1.(λu_1.(λi_1.(((y_1 (λo_1.(λp_1.(p_1 (o_1 u_1))))) (λa_1.i_1)) (λs_1.s_1)))))) r_1))) q) v))) w))) ((λd_1.((((λf_1.((f_1 (λg_1.(λh_1.(λj_1.(((g_1 (λk_1.(λl_1.(l_1 (k_1 h_1))))) (λz_1.j_1)) (λx_1.x_1)))))) w)) d_1) (λc_1.(λv_1.(λb_1.b_1)))) (λn_1.(λm_1.n_1)))) q)))) (λq_2.(λw_2.(q_2 (q_2 w_2))))) (λe_2.(λr_2.(e_2 (e_2 r_2)))))\n",
      "6: ((λh_1.((λj_1.((((λk_1.(λl_1.(λz_1.((k_1 l_1) z_1)))) ((λx_1.((λc_1.((c_1 (λv_1.(λb_1.(λn_1.n_1)))) (λm_1.(λq_2.m_1)))) (((λw_2.(λe_2.((e_2 (λr_2.(λt_2.(λy_2.(((r_2 (λu_2.(λq.(q (u_2 t_2))))) (λw.y_2)) (λe.e)))))) w_2))) (λr.(λt.(r (r t))))) x_1))) h_1)) j_1) ((λy.((λu.((u (λi.(λo.(λp.p)))) (λa.(λs.a)))) (((λd.(λf.((f (λg.(λh.(λj.(((g (λk.(λl.(l (k h))))) (λz.j)) (λx.x)))))) d))) (λc.(λv.(c (c v))))) y))) h_1))) ((λb.((((λn.((n (λm.(λq_1.(λw_1.(((m (λe_1.(λr_1.(r_1 (e_1 q_1))))) (λt_1.w_1)) (λy_1.y_1)))))) h_1)) b) (λu_1.(λi_1.(λo_1.o_1)))) (λp_1.(λa_1.p_1)))) (λs_1.(λd_1.(s_1 (s_1 d_1))))))) (λf_1.(λg_1.(f_1 (f_1 g_1)))))\n",
      "7: ((λq.((λw.((((λe.(λr.(λt.((e r) t)))) ((λy.((λu.((u (λi.(λo.(λp.p)))) (λa.(λs.a)))) (((λd.(λf.((f (λg.(λh.(λj.(((g (λk.(λl.(l (k h))))) (λz.j)) (λx.x)))))) d))) (λc.(λv.(c (c v))))) y))) q)) w) ((λb.((λn.((n (λm.(λq_1.(λw_1.w_1)))) (λe_1.(λr_1.e_1)))) (((λt_1.(λy_1.((y_1 (λu_1.(λi_1.(λo_1.(((u_1 (λp_1.(λa_1.(a_1 (p_1 i_1))))) (λs_1.o_1)) (λd_1.d_1)))))) t_1))) (λf_1.(λg_1.(f_1 (f_1 g_1))))) b))) q))) ((λh_1.((((h_1 (λj_1.(λk_1.(λl_1.(((j_1 (λz_1.(λx_1.(x_1 (z_1 k_1))))) (λc_1.l_1)) (λv_1.v_1)))))) q) (λb_1.(λn_1.(λm_1.m_1)))) (λq_2.(λw_2.q_2)))) (λe_2.(λr_2.(e_2 (e_2 r_2))))))) (λt_2.(λy_2.(t_2 (t_2 y_2)))))\n",
      "8: ((λu_1.((((λi_1.(λo_1.(λp_1.((i_1 o_1) p_1)))) ((λa_1.((λs_1.((s_1 (λd_1.(λf_1.(λg_1.g_1)))) (λh_1.(λj_1.h_1)))) (((λk_1.(λl_1.((l_1 (λz_1.(λx_1.(λc_1.(((z_1 (λv_1.(λb_1.(b_1 (v_1 x_1))))) (λn_1.c_1)) (λm_1.m_1)))))) k_1))) (λq_2.(λw_2.(q_2 (q_2 w_2))))) a_1))) (λe_2.(λr_2.(e_2 (e_2 r_2)))))) u_1) ((λt_2.((λy_2.((y_2 (λu_2.(λi_2.(λo_2.o_2)))) (λq.(λw.q)))) (((λe.(λr.((r (λt.(λy.(λu.(((t (λi.(λo.(o (i y))))) (λp.u)) (λa.a)))))) e))) (λs.(λd.(s (s d))))) t_2))) (λf.(λg.(f (f g))))))) ((λh.((((h (λj.(λk.(λl.(((j (λz.(λx.(x (z k))))) (λc.l)) (λv.v)))))) (λb.(λn.(b (b n))))) (λm.(λq_1.(λw_1.w_1)))) (λe_1.(λr_1.e_1)))) (λt_1.(λy_1.(t_1 (t_1 y_1))))))\n",
      "9: ((λq.((((λw.(λe.(λr.((w e) r)))) ((λt.((λy.((y (λu.(λi.(λo.o)))) (λp.(λa.p)))) (((λs.(λd.((d (λf.(λg.(λh.(((f (λj.(λk.(k (j g))))) (λl.h)) (λz.z)))))) s))) (λx.(λc.(x (x c))))) t))) (λv.(λb.(v (v b)))))) q) ((λn.((λm.((m (λq_1.(λw_1.(λe_1.e_1)))) (λr_1.(λt_1.r_1)))) ((λy_1.((y_1 (λu_1.(λi_1.(λo_1.(((u_1 (λp_1.(λa_1.(a_1 (p_1 i_1))))) (λs_1.o_1)) (λd_1.d_1)))))) (λf_1.(λg_1.(f_1 (f_1 g_1)))))) n))) (λh_1.(λj_1.(h_1 (h_1 j_1))))))) ((λk_1.((((k_1 (λl_1.(λz_1.(λx_1.(((l_1 (λc_1.(λv_1.(v_1 (c_1 z_1))))) (λb_1.x_1)) (λn_1.n_1)))))) (λm_1.(λq_2.(m_1 (m_1 q_2))))) (λw_2.(λe_2.(λr_2.r_2)))) (λt_2.(λy_2.t_2)))) (λu_2.(λi_2.(u_2 (u_2 i_2))))))\n",
      "10: ((((λb.(λn.(λm.((b n) m)))) ((λq_1.((λw_1.((w_1 (λe_1.(λr_1.(λt_1.t_1)))) (λy_1.(λu_1.y_1)))) (((λi_1.(λo_1.((o_1 (λp_1.(λa_1.(λs_1.(((p_1 (λd_1.(λf_1.(f_1 (d_1 a_1))))) (λg_1.s_1)) (λh_1.h_1)))))) i_1))) (λj_1.(λk_1.(j_1 (j_1 k_1))))) q_1))) (λl_1.(λz_1.(l_1 (l_1 z_1)))))) ((λx_1.((((x_1 (λc_1.(λv_1.(λb_1.(((c_1 (λn_1.(λm_1.(m_1 (n_1 v_1))))) (λq_2.b_1)) (λw_2.w_2)))))) (λe_2.(λr_2.(e_2 (e_2 r_2))))) (λt_2.(λy_2.(λu_2.u_2)))) (λq.(λw.q)))) (λe.(λr.(e (e r)))))) ((λt.((λy.((y (λu.(λi.(λo.o)))) (λp.(λa.p)))) ((λs.((s (λd.(λf.(λg.(((d (λh.(λj.(j (h f))))) (λk.g)) (λl.l)))))) (λz.(λx.(z (z x)))))) t))) (λc.(λv.(c (c v))))))\n",
      "11: (((λq.(λw.((((λe.((λr.((r (λt.(λy.(λu.u)))) (λi.(λo.i)))) (((λp.(λa.((a (λs.(λd.(λf.(((s (λg.(λh.(h (g d))))) (λj.f)) (λk.k)))))) p))) (λl.(λz.(l (l z))))) e))) (λx.(λc.(x (x c))))) q) w))) ((λv.((((v (λb.(λn.(λm.(((b (λq_1.(λw_1.(w_1 (q_1 n))))) (λe_1.m)) (λr_1.r_1)))))) (λt_1.(λy_1.(t_1 (t_1 y_1))))) (λu_1.(λi_1.(λo_1.o_1)))) (λp_1.(λa_1.p_1)))) (λs_1.(λd_1.(s_1 (s_1 d_1)))))) ((λf_1.((λg_1.((g_1 (λh_1.(λj_1.(λk_1.k_1)))) (λl_1.(λz_1.l_1)))) ((λx_1.((x_1 (λc_1.(λv_1.(λb_1.(((c_1 (λn_1.(λm_1.(m_1 (n_1 v_1))))) (λq_2.b_1)) (λw_2.w_2)))))) (λe_2.(λr_2.(e_2 (e_2 r_2)))))) f_1))) (λt_2.(λy_2.(t_2 (t_2 y_2))))))\n",
      "12: (((λa.(λs.((((λd.((λf.((f (λg.(λh.(λj.j)))) (λk.(λl.k)))) (((λz.(λx.((x (λc.(λv.(λb.(((c (λn.(λm.(m (n v))))) (λq_1.b)) (λw_1.w_1)))))) z))) (λe_1.(λr_1.(e_1 (e_1 r_1))))) d))) (λt_1.(λy_1.(t_1 (t_1 y_1))))) a) s))) (((((λu_1.(λi_1.(u_1 (u_1 i_1)))) (λo_1.(λp_1.(λa_1.(((o_1 (λs_1.(λd_1.(d_1 (s_1 p_1))))) (λf_1.a_1)) (λg_1.g_1)))))) (λh_1.(λj_1.(h_1 (h_1 j_1))))) (λk_1.(λl_1.(λz_1.z_1)))) (λx_1.(λc_1.x_1)))) ((λv_1.((λb_1.((b_1 (λn_1.(λm_1.(λq_2.q_2)))) (λw_2.(λe_2.w_2)))) ((λr_2.((r_2 (λt_2.(λq.(λw.(((t_2 (λe.(λr.(r (e q))))) (λt.w)) (λy.y)))))) (λu.(λi.(u (u i)))))) v_1))) (λo.(λp.(o (o p))))))\n",
      "13: (((λq.(λw.((((λe.((λr.((r (λt.(λy.(λu.u)))) (λi.(λo.i)))) (((λp.(λa.((a (λs.(λd.(λf.(((s (λg.(λh.(h (g d))))) (λj.f)) (λk.k)))))) p))) (λl.(λz.(l (l z))))) e))) (λx.(λc.(x (x c))))) q) w))) (((((λv.(λb.(v (v b)))) (λn.(λm.(λq_1.(((n (λw_1.(λe_1.(e_1 (w_1 m))))) (λr_1.q_1)) (λt_1.t_1)))))) (λy_1.(λu_1.(y_1 (y_1 u_1))))) (λi_1.(λo_1.(λp_1.p_1)))) (λa_1.(λs_1.a_1)))) ((λd_1.((λf_1.((f_1 (λg_1.(λh_1.(λj_1.j_1)))) (λk_1.(λl_1.k_1)))) ((d_1 (λz_1.(λx_1.(λc_1.(((z_1 (λv_1.(λb_1.(b_1 (v_1 x_1))))) (λn_1.c_1)) (λm_1.m_1)))))) (λq_2.(λw_2.(q_2 (q_2 w_2))))))) (λe_2.(λr_2.(e_2 (e_2 r_2))))))\n",
      "14: ((λq.((((λw.((λe.((e (λr.(λt.(λy.y)))) (λu.(λi.u)))) (((λo.(λp.((p (λa.(λs.(λd.(((a (λf.(λg.(g (f s))))) (λh.d)) (λj.j)))))) o))) (λk.(λl.(k (k l))))) w))) (λz.(λx.(z (z x))))) (((((λc.(λv.(c (c v)))) (λb.(λn.(λm.(((b (λq_1.(λw_1.(w_1 (q_1 n))))) (λe_1.m)) (λr_1.r_1)))))) (λt_1.(λy_1.(t_1 (t_1 y_1))))) (λu_1.(λi_1.(λo_1.o_1)))) (λp_1.(λa_1.p_1)))) q)) ((λs_1.((λd_1.((d_1 (λf_1.(λg_1.(λh_1.h_1)))) (λj_1.(λk_1.j_1)))) ((s_1 (λl_1.(λz_1.(λx_1.(((l_1 (λc_1.(λv_1.(v_1 (c_1 z_1))))) (λb_1.x_1)) (λn_1.n_1)))))) (λm_1.(λq_2.(m_1 (m_1 q_2))))))) (λw_2.(λe_2.(w_2 (w_2 e_2))))))\n",
      "15: ((λc_1.((((λv_1.((λb_1.((b_1 (λn_1.(λm_1.(λq_2.q_2)))) (λw_2.(λq.w_2)))) ((λw.((w (λe.(λr.(λt.(((e (λy.(λu.(u (y r))))) (λi.t)) (λo.o)))))) (λp.(λa.(p (p a)))))) v_1))) (λs.(λd.(s (s d))))) (((((λf.(λg.(f (f g)))) (λh.(λj.(λk.(((h (λl.(λz.(z (l j))))) (λx.k)) (λc.c)))))) (λv.(λb.(v (v b))))) (λn.(λm.(λq_1.q_1)))) (λw_1.(λe_1.w_1)))) c_1)) ((λr_1.((λt_1.((t_1 (λy_1.(λu_1.(λi_1.i_1)))) (λo_1.(λp_1.o_1)))) ((r_1 (λa_1.(λs_1.(λd_1.(((a_1 (λf_1.(λg_1.(g_1 (f_1 s_1))))) (λh_1.d_1)) (λj_1.j_1)))))) (λk_1.(λl_1.(k_1 (k_1 l_1))))))) (λz_1.(λx_1.(z_1 (z_1 x_1))))))\n",
      "16: ((λq.((((λw.((λe.((e (λr.(λt.(λy.y)))) (λu.(λi.u)))) ((λo.((o (λp.(λa.(λs.(((p (λd.(λf.(f (d a))))) (λg.s)) (λh.h)))))) (λj.(λk.(j (j k)))))) w))) (λl.(λz.(l (l z))))) (((((λx.(λc.(x (x c)))) (λv.(λb.(λn.(((v (λm.(λq_1.(q_1 (m b))))) (λw_1.n)) (λe_1.e_1)))))) (λr_1.(λt_1.(r_1 (r_1 t_1))))) (λy_1.(λu_1.(λi_1.i_1)))) (λo_1.(λp_1.o_1)))) q)) ((λa_1.((((a_1 (λs_1.(λd_1.(λf_1.(((s_1 (λg_1.(λh_1.(h_1 (g_1 d_1))))) (λj_1.f_1)) (λk_1.k_1)))))) (λl_1.(λz_1.(l_1 (l_1 z_1))))) (λx_1.(λc_1.(λv_1.v_1)))) (λb_1.(λn_1.b_1)))) (λm_1.(λq_2.(m_1 (m_1 q_2))))))\n",
      "17: ((λn.((((λm.((m (λq_1.(λw_1.(λe_1.e_1)))) (λr_1.(λt_1.r_1)))) ((λy_1.((y_1 (λu_1.(λi_1.(λo_1.(((u_1 (λp_1.(λa_1.(a_1 (p_1 i_1))))) (λs_1.o_1)) (λd_1.d_1)))))) (λf_1.(λg_1.(f_1 (f_1 g_1)))))) (λh_1.(λj_1.(h_1 (h_1 j_1)))))) (((((λk_1.(λl_1.(k_1 (k_1 l_1)))) (λz_1.(λx_1.(λc_1.(((z_1 (λv_1.(λb_1.(b_1 (v_1 x_1))))) (λn_1.c_1)) (λm_1.m_1)))))) (λq.(λw.(q (q w))))) (λe.(λr.(λt.t)))) (λy.(λu.y)))) n)) ((λi.((((i (λo.(λp.(λa.(((o (λs.(λd.(d (s p))))) (λf.a)) (λg.g)))))) (λh.(λj.(h (h j))))) (λk.(λl.(λz.z)))) (λx.(λc.x)))) (λv.(λb.(v (v b))))))\n",
      "18: ((λq.((((λw.((w (λe.(λr.(λt.t)))) (λy.(λu.y)))) (((λi.(λo.(i (i o)))) (λp.(λa.(λs.(((p (λd.(λf.(f (d a))))) (λg.s)) (λh.h)))))) (λj.(λk.(j (j k)))))) (((((λl.(λz.(l (l z)))) (λx.(λc.(λv.(((x (λb.(λn.(n (b c))))) (λm.v)) (λq_1.q_1)))))) (λw_1.(λe_1.(w_1 (w_1 e_1))))) (λr_1.(λt_1.(λy_1.y_1)))) (λu_1.(λi_1.u_1)))) q)) ((λo_1.((((o_1 (λp_1.(λa_1.(λs_1.(((p_1 (λd_1.(λf_1.(f_1 (d_1 a_1))))) (λg_1.s_1)) (λh_1.h_1)))))) (λj_1.(λk_1.(j_1 (j_1 k_1))))) (λl_1.(λz_1.(λx_1.x_1)))) (λc_1.(λv_1.c_1)))) (λb_1.(λn_1.(b_1 (b_1 n_1))))))\n",
      "19: ((λq.((((λw.((w (λe.(λr.(λt.t)))) (λy.(λu.y)))) (((λi.(λo.(i (i o)))) (λp.(λa.(λs.(((p (λd.(λf.(f (d a))))) (λg.s)) (λh.h)))))) (λj.(λk.(j (j k)))))) (((((λl.(λz.(l (l z)))) (λx.(λc.(λv.(((x (λb.(λn.(n (b c))))) (λm.v)) (λq_1.q_1)))))) (λw_1.(λe_1.(w_1 (w_1 e_1))))) (λr_1.(λt_1.(λy_1.y_1)))) (λu_1.(λi_1.u_1)))) q)) (((((λo_1.(λp_1.(o_1 (o_1 p_1)))) (λa_1.(λs_1.(λd_1.(((a_1 (λf_1.(λg_1.(g_1 (f_1 s_1))))) (λh_1.d_1)) (λj_1.j_1)))))) (λk_1.(λl_1.(k_1 (k_1 l_1))))) (λz_1.(λx_1.(λc_1.c_1)))) (λv_1.(λb_1.v_1))))\n",
      "20: ((λw_2.((((λe_2.((e_2 (λr_2.(λq.(λw.w)))) (λe.(λr.e)))) ((λt.((λy.(λu.(λi.(((y (λo.(λp.(p (o u))))) (λa.i)) (λs.s))))) ((λd.(λf.(λg.(((d (λh.(λj.(j (h f))))) (λk.g)) (λl.l))))) t))) (λz.(λx.(z (z x)))))) (((((λc.(λv.(c (c v)))) (λb.(λn.(λm.(((b (λq_1.(λw_1.(w_1 (q_1 n))))) (λe_1.m)) (λr_1.r_1)))))) (λt_1.(λy_1.(t_1 (t_1 y_1))))) (λu_1.(λi_1.(λo_1.o_1)))) (λp_1.(λa_1.p_1)))) w_2)) (((((λs_1.(λd_1.(s_1 (s_1 d_1)))) (λf_1.(λg_1.(λh_1.(((f_1 (λj_1.(λk_1.(k_1 (j_1 g_1))))) (λl_1.h_1)) (λz_1.z_1)))))) (λx_1.(λc_1.(x_1 (x_1 c_1))))) (λv_1.(λb_1.(λn_1.n_1)))) (λm_1.(λq_2.m_1))))\n",
      "21: ((λq.((((λw.((w (λe.(λr.(λt.t)))) (λy.(λu.y)))) ((λi.(λo.(λp.(((i (λa.(λs.(s (a o))))) (λd.p)) (λf.f))))) ((λg.(λh.(λj.(((g (λk.(λl.(l (k h))))) (λz.j)) (λx.x))))) (λc.(λv.(c (c v))))))) (((((λb.(λn.(b (b n)))) (λm.(λq_1.(λw_1.(((m (λe_1.(λr_1.(r_1 (e_1 q_1))))) (λt_1.w_1)) (λy_1.y_1)))))) (λu_1.(λi_1.(u_1 (u_1 i_1))))) (λo_1.(λp_1.(λa_1.a_1)))) (λs_1.(λd_1.s_1)))) q)) (((((λf_1.(λg_1.(f_1 (f_1 g_1)))) (λh_1.(λj_1.(λk_1.(((h_1 (λl_1.(λz_1.(z_1 (l_1 j_1))))) (λx_1.k_1)) (λc_1.c_1)))))) (λv_1.(λb_1.(v_1 (v_1 b_1))))) (λn_1.(λm_1.(λq_2.q_2)))) (λw_2.(λe_2.w_2))))\n",
      "22: ((λo_1.((((λp_1.((p_1 (λa_1.(λs_1.(λd_1.d_1)))) (λf_1.(λg_1.f_1)))) ((λh_1.(λj_1.(λk_1.(((h_1 (λl_1.(λz_1.(z_1 (l_1 j_1))))) (λx_1.k_1)) (λc_1.c_1))))) (λv_1.(λb_1.((((λn_1.(λm_1.(n_1 (n_1 m_1)))) (λq_2.(λw_2.(w_2 (q_2 v_1))))) (λq.b_1)) (λw.w)))))) (((((λe.(λr.(e (e r)))) (λt.(λy.(λu.(((t (λi.(λo.(o (i y))))) (λp.u)) (λa.a)))))) (λs.(λd.(s (s d))))) (λf.(λg.(λh.h)))) (λj.(λk.j)))) o_1)) (((((λl.(λz.(l (l z)))) (λx.(λc.(λv.(((x (λb.(λn.(n (b c))))) (λm.v)) (λq_1.q_1)))))) (λw_1.(λe_1.(w_1 (w_1 e_1))))) (λr_1.(λt_1.(λy_1.y_1)))) (λu_1.(λi_1.u_1))))\n",
      "23: ((λq.((((λw.((w (λe.(λr.(λt.t)))) (λy.(λu.y)))) (λi.(λo.((((λp.(λa.((((λs.(λd.(s (s d)))) (λf.(λg.(g (f p))))) (λh.a)) (λj.j)))) (λk.(λl.(l (k i))))) (λz.o)) (λx.x))))) (((((λc.(λv.(c (c v)))) (λb.(λn.(λm.(((b (λq_1.(λw_1.(w_1 (q_1 n))))) (λe_1.m)) (λr_1.r_1)))))) (λt_1.(λy_1.(t_1 (t_1 y_1))))) (λu_1.(λi_1.(λo_1.o_1)))) (λp_1.(λa_1.p_1)))) q)) (((((λs_1.(λd_1.(s_1 (s_1 d_1)))) (λf_1.(λg_1.(λh_1.(((f_1 (λj_1.(λk_1.(k_1 (j_1 g_1))))) (λl_1.h_1)) (λz_1.z_1)))))) (λx_1.(λc_1.(x_1 (x_1 c_1))))) (λv_1.(λb_1.(λn_1.n_1)))) (λm_1.(λq_2.m_1))))\n",
      "24: ((λs.((((λd.((d (λf.(λg.(λh.h)))) (λj.(λk.j)))) (λl.(λz.(((λx.((((λc.(λv.(c (c v)))) (λb.(λn.(n (b (λm.(λq_1.(q_1 (m l))))))))) (λw_1.x)) (λe_1.e_1))) (λr_1.z)) (λt_1.t_1))))) (((((λy_1.(λu_1.(y_1 (y_1 u_1)))) (λi_1.(λo_1.(λp_1.(((i_1 (λa_1.(λs_1.(s_1 (a_1 o_1))))) (λd_1.p_1)) (λf_1.f_1)))))) (λg_1.(λh_1.(g_1 (g_1 h_1))))) (λj_1.(λk_1.(λl_1.l_1)))) (λz_1.(λx_1.z_1)))) s)) (((((λc_1.(λv_1.(c_1 (c_1 v_1)))) (λb_1.(λn_1.(λm_1.(((b_1 (λq.(λw.(w (q n_1))))) (λe.m_1)) (λr.r)))))) (λt.(λy.(t (t y))))) (λu.(λi.(λo.o)))) (λp.(λa.p))))\n",
      "25: ((λq.(((((λw.(λe.(((λr.((((λt.(λy.(t (t y)))) (λu.(λi.(i (u (λo.(λp.(p (o w))))))))) (λa.r)) (λs.s))) (λd.e)) (λf.f)))) (λg.(λh.(λj.j)))) (λk.(λl.k))) (((((λz.(λx.(z (z x)))) (λc.(λv.(λb.(((c (λn.(λm.(m (n v))))) (λq_1.b)) (λw_1.w_1)))))) (λe_1.(λr_1.(e_1 (e_1 r_1))))) (λt_1.(λy_1.(λu_1.u_1)))) (λi_1.(λo_1.i_1)))) q)) (((((λp_1.(λa_1.(p_1 (p_1 a_1)))) (λs_1.(λd_1.(λf_1.(((s_1 (λg_1.(λh_1.(h_1 (g_1 d_1))))) (λj_1.f_1)) (λk_1.k_1)))))) (λl_1.(λz_1.(l_1 (l_1 z_1))))) (λx_1.(λc_1.(λv_1.v_1)))) (λb_1.(λn_1.b_1))))\n",
      "26: ((λq.(((((λw.(λe.(((λr.((((λt.(λy.(t (t y)))) (λu.(λi.(i (u (λo.(λp.(p (o w))))))))) (λa.r)) (λs.s))) (λd.e)) (λf.f)))) (λg.(λh.(λj.j)))) (λk.(λl.k))) (((((λz.(λx.(z (z x)))) (λc.(λv.(λb.(((c (λn.(λm.(m (n v))))) (λq_1.b)) (λw_1.w_1)))))) (λe_1.(λr_1.(e_1 (e_1 r_1))))) (λt_1.(λy_1.(λu_1.u_1)))) (λi_1.(λo_1.i_1)))) q)) ((((λp_1.((λa_1.(λs_1.(λd_1.(((a_1 (λf_1.(λg_1.(g_1 (f_1 s_1))))) (λh_1.d_1)) (λj_1.j_1))))) ((λk_1.(λl_1.(λz_1.(((k_1 (λx_1.(λc_1.(c_1 (x_1 l_1))))) (λv_1.z_1)) (λb_1.b_1))))) p_1))) (λn_1.(λm_1.(n_1 (n_1 m_1))))) (λq_2.(λw_2.(λe_2.e_2)))) (λr_2.(λt_2.r_2))))\n",
      "27: (((((λc_1.(λv_1.(((λb_1.((((λn_1.(λm_1.(n_1 (n_1 m_1)))) (λq_2.(λw_2.(w_2 (q_2 (λe_2.(λr_2.(r_2 (e_2 c_1))))))))) (λq.b_1)) (λw.w))) (λe.v_1)) (λr.r)))) (λt.(λy.(λu.u)))) (λi.(λo.i))) (((((λp.(λa.(p (p a)))) (λs.(λd.(λf.(((s (λg.(λh.(h (g d))))) (λj.f)) (λk.k)))))) (λl.(λz.(l (l z))))) (λx.(λc.(λv.v)))) (λb.(λn.b)))) ((((λm.((λq_1.(λw_1.(λe_1.(((q_1 (λr_1.(λt_1.(t_1 (r_1 w_1))))) (λy_1.e_1)) (λu_1.u_1))))) ((λi_1.(λo_1.(λp_1.(((i_1 (λa_1.(λs_1.(s_1 (a_1 o_1))))) (λd_1.p_1)) (λf_1.f_1))))) m))) (λg_1.(λh_1.(g_1 (g_1 h_1))))) (λj_1.(λk_1.(λl_1.l_1)))) (λz_1.(λx_1.z_1))))\n",
      "28: (((((λq.(λw.(((λe.(((λr.((λt.(λy.(y (t (λu.(λi.(i (u q)))))))) ((λo.(λp.(p (o (λa.(λs.(s (a q)))))))) r))) (λd.e)) (λf.f))) (λg.w)) (λh.h)))) (λj.(λk.(λl.l)))) (λz.(λx.z))) (((((λc.(λv.(c (c v)))) (λb.(λn.(λm.(((b (λq_1.(λw_1.(w_1 (q_1 n))))) (λe_1.m)) (λr_1.r_1)))))) (λt_1.(λy_1.(t_1 (t_1 y_1))))) (λu_1.(λi_1.(λo_1.o_1)))) (λp_1.(λa_1.p_1)))) ((((λs_1.((λd_1.(λf_1.(λg_1.(((d_1 (λh_1.(λj_1.(j_1 (h_1 f_1))))) (λk_1.g_1)) (λl_1.l_1))))) ((λz_1.(λx_1.(λc_1.(((z_1 (λv_1.(λb_1.(b_1 (v_1 x_1))))) (λn_1.c_1)) (λm_1.m_1))))) s_1))) (λq_2.(λw_2.(q_2 (q_2 w_2))))) (λe_2.(λr_2.(λt_2.t_2)))) (λy_2.(λu_2.y_2))))\n",
      "29: (((((λa_1.(λs_1.((((λd_1.((λf_1.(λg_1.(g_1 (f_1 (λh_1.(λj_1.(j_1 (h_1 a_1)))))))) ((λk_1.(λl_1.(l_1 (k_1 (λz_1.(λx_1.(x_1 (z_1 a_1)))))))) d_1))) (λc_1.(λv_1.s_1))) (λb_1.b_1)) (λn_1.n_1)))) (λm_1.(λq_2.(λw_2.w_2)))) (λe_2.(λr_2.e_2))) (((((λt_2.(λy_2.(t_2 (t_2 y_2)))) (λq.(λw.(λe.(((q (λr.(λt.(t (r w))))) (λy.e)) (λu.u)))))) (λi.(λo.(i (i o))))) (λp.(λa.(λs.s)))) (λd.(λf.d)))) ((((λg.((λh.(λj.(λk.(((h (λl.(λz.(z (l j))))) (λx.k)) (λc.c))))) ((λv.(λb.(λn.(((v (λm.(λq_1.(q_1 (m b))))) (λw_1.n)) (λe_1.e_1))))) g))) (λr_1.(λt_1.(r_1 (r_1 t_1))))) (λy_1.(λu_1.(λi_1.i_1)))) (λo_1.(λp_1.o_1))))\n",
      "30: (((((λq.(λw.((((λe.((λr.(λt.(t (r (λy.(λu.(u (y q)))))))) ((λi.(λo.(o (i (λp.(λa.(a (p q)))))))) e))) (λs.(λd.w))) (λf.f)) (λg.g)))) (λh.(λj.(λk.k)))) (λl.(λz.l))) (((((λx.(λc.(x (x c)))) (λv.(λb.(λn.(((v (λm.(λq_1.(q_1 (m b))))) (λw_1.n)) (λe_1.e_1)))))) (λr_1.(λt_1.(r_1 (r_1 t_1))))) (λy_1.(λu_1.(λi_1.i_1)))) (λo_1.(λp_1.o_1)))) ((((λa_1.(λs_1.(λd_1.(((a_1 (λf_1.(λg_1.(g_1 (f_1 s_1))))) (λh_1.d_1)) (λj_1.j_1))))) ((λk_1.(λl_1.(λz_1.(((k_1 (λx_1.(λc_1.(c_1 (x_1 l_1))))) (λv_1.z_1)) (λb_1.b_1))))) (λn_1.(λm_1.(n_1 (n_1 m_1)))))) (λq_2.(λw_2.(λe_2.e_2)))) (λr_2.(λt_2.r_2))))\n",
      "31: ((((λn.((((λm.((λq_1.(λw_1.(w_1 (q_1 (λe_1.(λr_1.(r_1 (e_1 (λt_1.(λy_1.(λu_1.u_1))))))))))) ((λi_1.(λo_1.(o_1 (i_1 (λp_1.(λa_1.(a_1 (p_1 (λs_1.(λd_1.(λf_1.f_1))))))))))) m))) (λg_1.(λh_1.n))) (λj_1.j_1)) (λk_1.k_1))) (λl_1.(λz_1.l_1))) (((((λx_1.(λc_1.(x_1 (x_1 c_1)))) (λv_1.(λb_1.(λn_1.(((v_1 (λm_1.(λq_2.(q_2 (m_1 b_1))))) (λw_2.n_1)) (λe_2.e_2)))))) (λr_2.(λt_2.(r_2 (r_2 t_2))))) (λy_2.(λu_2.(λq.q)))) (λw.(λe.w)))) ((((λr.(λt.(λy.(((r (λu.(λi.(i (u t))))) (λo.y)) (λp.p))))) ((λa.(λs.(λd.(((a (λf.(λg.(g (f s))))) (λh.d)) (λj.j))))) (λk.(λl.(k (k l)))))) (λz.(λx.(λc.c)))) (λv.(λb.v))))\n",
      "32: ((((λq.((((λw.(λe.(e (((λr.(λt.(t (r (λy.(λu.(u (y (λi.(λo.(λp.p))))))))))) w) (λa.(λs.(s (a (λd.(λf.(λg.g))))))))))) (λh.(λj.q))) (λk.k)) (λl.l))) (λz.(λx.z))) (((((λc.(λv.(c (c v)))) (λb.(λn.(λm.(((b (λq_1.(λw_1.(w_1 (q_1 n))))) (λe_1.m)) (λr_1.r_1)))))) (λt_1.(λy_1.(t_1 (t_1 y_1))))) (λu_1.(λi_1.(λo_1.o_1)))) (λp_1.(λa_1.p_1)))) ((((λs_1.(λd_1.(λf_1.(((s_1 (λg_1.(λh_1.(h_1 (g_1 d_1))))) (λj_1.f_1)) (λk_1.k_1))))) ((λl_1.(λz_1.(λx_1.(((l_1 (λc_1.(λv_1.(v_1 (c_1 z_1))))) (λb_1.x_1)) (λn_1.n_1))))) (λm_1.(λq_2.(m_1 (m_1 q_2)))))) (λw_2.(λe_2.(λr_2.r_2)))) (λt_2.(λy_2.t_2))))\n",
      "33: ((((((λs.(λd.(d (((λf.(λg.(g (f (λh.(λj.(j (h (λk.(λl.(λz.z))))))))))) s) (λx.(λc.(c (x (λv.(λb.(λn.n))))))))))) (λm.(λq_1.(λw_1.(λe_1.w_1))))) (λr_1.r_1)) (λt_1.t_1)) (((((λy_1.(λu_1.(y_1 (y_1 u_1)))) (λi_1.(λo_1.(λp_1.(((i_1 (λa_1.(λs_1.(s_1 (a_1 o_1))))) (λd_1.p_1)) (λf_1.f_1)))))) (λg_1.(λh_1.(g_1 (g_1 h_1))))) (λj_1.(λk_1.(λl_1.l_1)))) (λz_1.(λx_1.z_1)))) ((((λc_1.(λv_1.(λb_1.(((c_1 (λn_1.(λm_1.(m_1 (n_1 v_1))))) (λq_2.b_1)) (λw_2.w_2))))) ((λe_2.(λr_2.(λt_2.(((e_2 (λq.(λw.(w (q r_2))))) (λe.t_2)) (λr.r))))) (λt.(λy.(t (t y)))))) (λu.(λi.(λo.o)))) (λp.(λa.p))))\n",
      "34: ((((((λq.(λw.(w (((λe.(λr.(r (e (λt.(λy.(y (t (λu.(λi.(λo.o))))))))))) q) (λp.(λa.(a (p (λs.(λd.(λf.f))))))))))) (λg.(λh.(λj.(λk.j))))) (λl.l)) (λz.z)) (((((λx.(λc.(x (x c)))) (λv.(λb.(λn.(((v (λm.(λq_1.(q_1 (m b))))) (λw_1.n)) (λe_1.e_1)))))) (λr_1.(λt_1.(r_1 (r_1 t_1))))) (λy_1.(λu_1.(λi_1.i_1)))) (λo_1.(λp_1.o_1)))) (((λa_1.(λs_1.(((((λd_1.(λf_1.(λg_1.(((d_1 (λh_1.(λj_1.(j_1 (h_1 f_1))))) (λk_1.g_1)) (λl_1.l_1))))) (λz_1.(λx_1.(z_1 (z_1 x_1))))) (λc_1.(λv_1.(v_1 (c_1 a_1))))) (λb_1.s_1)) (λn_1.n_1)))) (λm_1.(λq_2.(λw_2.w_2)))) (λe_2.(λr_2.e_2))))\n",
      "35: ((((((λq.(λw.(w ((λe.(e (q (λr.(λt.(t (r (λy.(λu.(λi.i)))))))))) (λo.(λp.(p (o (λa.(λs.(λd.d))))))))))) (λf.(λg.(λh.(λj.h))))) (λk.k)) (λl.l)) (((((λz.(λx.(z (z x)))) (λc.(λv.(λb.(((c (λn.(λm.(m (n v))))) (λq_1.b)) (λw_1.w_1)))))) (λe_1.(λr_1.(e_1 (e_1 r_1))))) (λt_1.(λy_1.(λu_1.u_1)))) (λi_1.(λo_1.i_1)))) (((λp_1.(λa_1.(((((λs_1.(λd_1.(λf_1.(((s_1 (λg_1.(λh_1.(h_1 (g_1 d_1))))) (λj_1.f_1)) (λk_1.k_1))))) (λl_1.(λz_1.(l_1 (l_1 z_1))))) (λx_1.(λc_1.(c_1 (x_1 p_1))))) (λv_1.a_1)) (λb_1.b_1)))) (λn_1.(λm_1.(λq_2.q_2)))) (λw_2.(λe_2.w_2))))\n",
      "36: (((((λv_1.(v_1 ((λb_1.(b_1 ((λn_1.(λm_1.(λq_2.(λw_2.q_2)))) (λq.(λw.(w (q (λe.(λr.(λt.t)))))))))) (λy.(λu.(u (y (λi.(λo.(λp.p)))))))))) (λa.a)) (λs.s)) (((((λd.(λf.(d (d f)))) (λg.(λh.(λj.(((g (λk.(λl.(l (k h))))) (λz.j)) (λx.x)))))) (λc.(λv.(c (c v))))) (λb.(λn.(λm.m)))) (λq_1.(λw_1.q_1)))) (((λe_1.(λr_1.(((((λt_1.(λy_1.(λu_1.(((t_1 (λi_1.(λo_1.(o_1 (i_1 y_1))))) (λp_1.u_1)) (λa_1.a_1))))) (λs_1.(λd_1.(s_1 (s_1 d_1))))) (λf_1.(λg_1.(g_1 (f_1 e_1))))) (λh_1.r_1)) (λj_1.j_1)))) (λk_1.(λl_1.(λz_1.z_1)))) (λx_1.(λc_1.x_1))))\n",
      "37: (((((λq.(q ((λw.(λe.(e (w (λr.(λt.(λy.y))))))) ((λu.(λi.(λo.(λp.o)))) (λa.(λs.(s (a (λd.(λf.(λg.g))))))))))) (λh.h)) (λj.j)) (((((λk.(λl.(k (k l)))) (λz.(λx.(λc.(((z (λv.(λb.(b (v x))))) (λn.c)) (λm.m)))))) (λq_1.(λw_1.(q_1 (q_1 w_1))))) (λe_1.(λr_1.(λt_1.t_1)))) (λy_1.(λu_1.y_1)))) (((λi_1.(λo_1.(((((λp_1.(λa_1.(λs_1.(((p_1 (λd_1.(λf_1.(f_1 (d_1 a_1))))) (λg_1.s_1)) (λh_1.h_1))))) (λj_1.(λk_1.(j_1 (j_1 k_1))))) (λl_1.(λz_1.(z_1 (l_1 i_1))))) (λx_1.o_1)) (λc_1.c_1)))) (λv_1.(λb_1.(λn_1.n_1)))) (λm_1.(λq_2.m_1))))\n",
      "38: (((((λm.m) ((λq_1.(λw_1.(w_1 (q_1 (λe_1.(λr_1.(λt_1.t_1))))))) ((λy_1.(λu_1.(λi_1.(λo_1.i_1)))) (λp_1.(λa_1.(a_1 (p_1 (λs_1.(λd_1.(λf_1.f_1)))))))))) (λg_1.g_1)) (((((λh_1.(λj_1.(h_1 (h_1 j_1)))) (λk_1.(λl_1.(λz_1.(((k_1 (λx_1.(λc_1.(c_1 (x_1 l_1))))) (λv_1.z_1)) (λb_1.b_1)))))) (λn_1.(λm_1.(n_1 (n_1 m_1))))) (λq.(λw.(λe.e)))) (λr.(λt.r)))) (((λy.(λu.(((((λi.(λo.(λp.(((i (λa.(λs.(s (a o))))) (λd.p)) (λf.f))))) (λg.(λh.(g (g h))))) (λj.(λk.(k (j y))))) (λl.u)) (λz.z)))) (λx.(λc.(λv.v)))) (λb.(λn.b))))\n",
      "39: (((((λq.q) (λw.(w (((λe.(λr.(λt.(λy.t)))) (λu.(λi.(i (u (λo.(λp.(λa.a)))))))) (λs.(λd.(λf.f))))))) (λg.g)) (((((λh.(λj.(h (h j)))) (λk.(λl.(λz.(((k (λx.(λc.(c (x l))))) (λv.z)) (λb.b)))))) (λn.(λm.(n (n m))))) (λq_1.(λw_1.(λe_1.e_1)))) (λr_1.(λt_1.r_1)))) (((λy_1.(λu_1.(((((λi_1.(λo_1.(λp_1.(((i_1 (λa_1.(λs_1.(s_1 (a_1 o_1))))) (λd_1.p_1)) (λf_1.f_1))))) (λg_1.(λh_1.(g_1 (g_1 h_1))))) (λj_1.(λk_1.(k_1 (j_1 y_1))))) (λl_1.u_1)) (λz_1.z_1)))) (λx_1.(λc_1.(λv_1.v_1)))) (λb_1.(λn_1.b_1))))\n",
      "40: (((((λq.q) (λw.(w ((λe.(λr.(λt.r))) (λy.(λu.(λi.i))))))) (λo.o)) (((((λp.(λa.(p (p a)))) (λs.(λd.(λf.(((s (λg.(λh.(h (g d))))) (λj.f)) (λk.k)))))) (λl.(λz.(l (l z))))) (λx.(λc.(λv.v)))) (λb.(λn.b)))) (((λm.(λq_1.(((((λw_1.(λe_1.(λr_1.(((w_1 (λt_1.(λy_1.(y_1 (t_1 e_1))))) (λu_1.r_1)) (λi_1.i_1))))) (λo_1.(λp_1.(o_1 (o_1 p_1))))) (λa_1.(λs_1.(s_1 (a_1 m))))) (λd_1.q_1)) (λf_1.f_1)))) (λg_1.(λh_1.(λj_1.j_1)))) (λk_1.(λl_1.k_1))))\n",
      "41: (((((λo_1.o_1) (λp_1.(p_1 (λa_1.(λs_1.a_1))))) (λd_1.d_1)) (((((λf_1.(λg_1.(f_1 (f_1 g_1)))) (λq.(λw.(λe.(((q (λr.(λt.(t (r w))))) (λy.e)) (λu.u)))))) (λi.(λo.(i (i o))))) (λp.(λa.(λs.s)))) (λd.(λf.d)))) (((λg.(λh.(((((λj.(λk.(λl.(((j (λz.(λx.(x (z k))))) (λc.l)) (λv.v))))) (λb.(λn.(b (b n))))) (λm.(λq_1.(q_1 (m g))))) (λw_1.h)) (λe_1.e_1)))) (λr_1.(λt_1.(λy_1.y_1)))) (λu_1.(λi_1.u_1))))\n",
      "42: ((((λq.(q (λw.(λe.w)))) (λr.r)) (((((λt.(λy.(t (t y)))) (λu.(λi.(λo.(((u (λp.(λa.(a (p i))))) (λs.o)) (λd.d)))))) (λf.(λg.(f (f g))))) (λh.(λj.(λk.k)))) (λl.(λz.l)))) (((λx.(λc.(((((λv.(λb.(λn.(((v (λm.(λq_1.(q_1 (m b))))) (λw_1.n)) (λe_1.e_1))))) (λr_1.(λt_1.(r_1 (r_1 t_1))))) (λy_1.(λu_1.(u_1 (y_1 x))))) (λi_1.c)) (λo_1.o_1)))) (λp_1.(λa_1.(λs_1.s_1)))) (λd_1.(λf_1.d_1))))\n",
      "43: ((((λq.q) (λw.(λe.w))) (((((λr.(λt.(r (r t)))) (λy.(λu.(λi.(((y (λo.(λp.(p (o u))))) (λa.i)) (λs.s)))))) (λd.(λf.(d (d f))))) (λg.(λh.(λj.j)))) (λk.(λl.k)))) (((λz.(λx.(((((λc.(λv.(λb.(((c (λn.(λm.(m (n v))))) (λq_1.b)) (λw_1.w_1))))) (λe_1.(λr_1.(e_1 (e_1 r_1))))) (λt_1.(λy_1.(y_1 (t_1 z))))) (λu_1.x)) (λi_1.i_1)))) (λo_1.(λp_1.(λa_1.a_1)))) (λs_1.(λd_1.s_1))))\n",
      "44: (((λb.(λn.b)) (((((λm.(λq_1.(m (m q_1)))) (λw_1.(λe_1.(λr_1.(((w_1 (λt_1.(λy_1.(y_1 (t_1 e_1))))) (λu_1.r_1)) (λi_1.i_1)))))) (λo_1.(λp_1.(o_1 (o_1 p_1))))) (λa_1.(λs_1.(λq.q)))) (λw.(λe.w)))) (((λr.(λt.(((((λy.(λu.(λi.(((y (λo.(λp.(p (o u))))) (λa.i)) (λs.s))))) (λd.(λf.(d (d f))))) (λg.(λh.(h (g r))))) (λj.t)) (λk.k)))) (λl.(λz.(λx.x)))) (λc.(λv.c))))\n",
      "45: (((λq.(λw.q)) ((((λe.((λr.(λt.(λy.(((r (λu.(λi.(i (u t))))) (λo.y)) (λp.p))))) ((λa.(λs.(λd.(((a (λf.(λg.(g (f s))))) (λh.d)) (λj.j))))) e))) (λk.(λl.(k (k l))))) (λz.(λx.(λc.c)))) (λv.(λb.v)))) (((λn.(λm.(((((λq_1.(λw_1.(λe_1.(((q_1 (λr_1.(λt_1.(t_1 (r_1 w_1))))) (λy_1.e_1)) (λu_1.u_1))))) (λi_1.(λo_1.(i_1 (i_1 o_1))))) (λp_1.(λa_1.(a_1 (p_1 n))))) (λs_1.m)) (λd_1.d_1)))) (λf_1.(λg_1.(λh_1.h_1)))) (λj_1.(λk_1.j_1))))\n",
      "46: ((λq.((((λw.((λe.(λr.(λt.(((e (λy.(λu.(u (y r))))) (λi.t)) (λo.o))))) ((λp.(λa.(λs.(((p (λd.(λf.(f (d a))))) (λg.s)) (λh.h))))) w))) (λj.(λk.(j (j k))))) (λl.(λz.(λx.x)))) (λc.(λv.c)))) (((λb.(λn.(((((λm.(λq_1.(λw_1.(((m (λe_1.(λr_1.(r_1 (e_1 q_1))))) (λt_1.w_1)) (λy_1.y_1))))) (λu_1.(λi_1.(u_1 (u_1 i_1))))) (λo_1.(λp_1.(p_1 (o_1 b))))) (λa_1.n)) (λs_1.s_1)))) (λd_1.(λf_1.(λg_1.g_1)))) (λh_1.(λj_1.h_1))))\n",
      "47: ((λn.((((λm.((λq_1.(λw_1.(λe_1.(((q_1 (λr_1.(λt_1.(t_1 (r_1 w_1))))) (λy_1.e_1)) (λu_1.u_1))))) (λi_1.(λo_1.(((m (λp_1.(λa_1.(a_1 (p_1 i_1))))) (λs_1.o_1)) (λd_1.d_1)))))) (λf_1.(λg_1.(f_1 (f_1 g_1))))) (λh_1.(λq.(λw.w)))) (λe.(λr.e)))) (((λt.(λy.(((((λu.(λi.(λo.(((u (λp.(λa.(a (p i))))) (λs.o)) (λd.d))))) (λf.(λg.(f (f g))))) (λh.(λj.(j (h t))))) (λk.y)) (λl.l)))) (λz.(λx.(λc.c)))) (λv.(λb.v))))\n",
      "48: ((((λq.((λw.(λe.(λr.(((w (λt.(λy.(y (t e))))) (λu.r)) (λi.i))))) (λo.(λp.(((q (λa.(λs.(s (a o))))) (λd.p)) (λf.f)))))) (λg.(λh.(g (g h))))) (λj.(λk.(λl.l)))) (λz.(λx.z)))\n",
      "49: ((((λq.(λw.(λe.((((λr.(λt.(((q (λy.(λu.(u (y r))))) (λi.t)) (λo.o)))) (λp.(λa.(a (p w))))) (λs.e)) (λd.d))))) (λf.(λg.(f (f g))))) (λh.(λj.(λk.k)))) (λl.(λz.l)))\n",
      "50: (((λq.(λw.((((λe.(λr.((((λt.(λy.(t (t y)))) (λu.(λi.(i (u e))))) (λo.r)) (λp.p)))) (λa.(λs.(s (a q))))) (λd.w)) (λf.f)))) (λg.(λh.(λj.j)))) (λk.(λl.k)))\n",
      "51: (((λu.(λi.(((λo.((((λp.(λa.(p (p a)))) (λs.(λd.(d (s (λf.(λg.(g (f u))))))))) (λh.o)) (λj.j))) (λk.i)) (λq.q)))) (λw.(λe.(λr.r)))) (λt.(λy.t)))\n",
      "52: (((λq.(λw.(((((λe.(λr.(e (e r)))) (λt.(λy.(y (t (λu.(λi.(i (u q))))))))) (λo.(λp.w))) (λa.a)) (λs.s)))) (λd.(λf.(λg.g)))) (λh.(λj.h)))\n",
      "53: ((λi.(((((λo.(λp.(o (o p)))) (λa.(λs.(s (a (λd.(λf.(f (d (λg.(λh.(λq.q)))))))))))) (λw.(λe.i))) (λr.r)) (λt.t))) (λy.(λu.y)))\n",
      "54: (((((λq.(λw.(q (q w)))) (λe.(λr.(r (e (λt.(λy.(y (t (λu.(λi.(λo.o)))))))))))) (λp.(λa.(λs.(λd.s))))) (λf.f)) (λg.g))\n",
      "55: ((((λq.((λw.(λe.(e (w (λr.(λt.(t (r (λy.(λu.(λi.i))))))))))) ((λo.(λp.(p (o (λa.(λs.(s (a (λd.(λf.(λg.g))))))))))) q))) (λh.(λj.(λk.(λl.k))))) (λz.z)) (λx.x))\n",
      "56: ((((λq.(λw.(w (((λe.(λr.(r (e (λt.(λy.(y (t (λu.(λi.(λo.o))))))))))) q) (λp.(λa.(a (p (λs.(λd.(λf.f))))))))))) (λg.(λh.(λj.(λk.j))))) (λl.l)) (λz.z))\n",
      "57: ((((λq.(λw.(w ((λe.(e (q (λr.(λt.(t (r (λy.(λu.(λi.i)))))))))) (λo.(λp.(p (o (λa.(λs.(λd.d))))))))))) (λf.(λg.(λh.(λj.h))))) (λk.k)) (λl.l))\n",
      "58: ((((λt.(λy.(y ((λu.(λi.(i (u (λo.(λp.(λa.a))))))) (t (λs.(λd.(d (s (λf.(λg.(λh.h)))))))))))) (λj.(λk.(λq.(λw.q))))) (λe.e)) (λr.r))\n",
      "59: (((λq.(q ((λw.(λe.(e (w (λr.(λt.(λy.y))))))) ((λu.(λi.(λo.(λp.o)))) (λa.(λs.(s (a (λd.(λf.(λg.g))))))))))) (λh.h)) (λj.j))\n",
      "60: (((λq.(q ((λw.(λe.(e (w (λr.(λt.(λy.y))))))) (λu.(λi.(λo.i)))))) (λp.p)) (λa.a))\n",
      "61: (((λq.q) ((λw.(λe.(e (w (λr.(λt.(λy.y))))))) (λu.(λi.(λo.i))))) (λp.p))\n",
      "62: (((λq.(λw.(w (q (λe.(λr.(λt.t))))))) (λy.(λu.(λi.u)))) (λo.o))\n",
      "63: ((λq.(q ((λw.(λe.(λr.e))) (λt.(λy.(λu.u)))))) (λi.i))\n",
      "64: ((λe.e) ((λr.(λt.(λy.t))) (λu.(λq.(λw.w)))))\n",
      "65: ((λq.(λw.(λe.w))) (λr.(λt.(λy.y))))\n",
      "66: (λq.(λw.q))\n",
      "\n",
      "\n",
      "reduction steps: 66\n",
      "norm term:       (λq.(λw.q))\n"
     ]
    }
   ],
   "source": [
    "def term_test_12():\n",
    "    return multi_app_term(eq_term(), num_term(2), num_term(2))\n",
    "\n",
    "\n",
    "test_procedure(term_test_12(), steps_lim=150)"
   ],
   "metadata": {
    "collapsed": false
   }
  },
  {
   "cell_type": "markdown",
   "source": [
    "# <span style=\"color: #A1F99C\">13.</span>\n",
    "<span style=\"color:#bb91f3\">(EQ 1 4)</span> == <span style=\"color:#f1bd47\">FALSE</span> == <span style=\"color:#f1bd47\">λx. λy. y</span>"
   ],
   "metadata": {
    "collapsed": false
   }
  },
  {
   "cell_type": "code",
   "execution_count": 16,
   "outputs": [
    {
     "name": "stdout",
     "output_type": "stream",
     "text": [
      "0: (((λe.(λr.(((λt.(λy.((((λu.(λi.(λo.((u i) o)))) t) y) t))) (((λp.(λa.((λs.((s (λd.(λf.(λg.g)))) (λh.(λj.h)))) (((λk.(λl.((l (λz.(λx.(λc.(((z (λv.(λb.(b (v x))))) (λn.c)) (λm.m)))))) k))) p) a)))) e) r)) (((λq_1.(λw_1.((λe_1.((e_1 (λr_1.(λt_1.(λy_1.y_1)))) (λu_1.(λi_1.u_1)))) (((λo_1.(λp_1.((p_1 (λa_1.(λs_1.(λd_1.(((a_1 (λf_1.(λg_1.(g_1 (f_1 s_1))))) (λh_1.d_1)) (λj_1.j_1)))))) o_1))) q_1) w_1)))) r) e)))) (λk_1.(λl_1.(k_1 l_1)))) (λq.(λw.(q (q (q (q w)))))))\n",
      "1: (((λq.(λw.(((λe.(λr.((((λt.(λy.(λu.((t y) u)))) e) r) e))) (((λi.(λo.((λp.((p (λa.(λs.(λd.d)))) (λf.(λg.f)))) ((λh.((h (λj.(λk.(λl.(((j (λz.(λx.(x (z k))))) (λc.l)) (λv.v)))))) i)) o)))) q) w)) (((λb.(λn.((λm.((m (λq_1.(λw_1.(λe_1.e_1)))) (λr_1.(λt_1.r_1)))) (((λy_1.(λu_1.((u_1 (λi_1.(λo_1.(λp_1.(((i_1 (λa_1.(λs_1.(s_1 (a_1 o_1))))) (λd_1.p_1)) (λf_1.f_1)))))) y_1))) b) n)))) w) q)))) (λg_1.(λh_1.(g_1 h_1)))) (λj_1.(λk_1.(j_1 (j_1 (j_1 (j_1 k_1)))))))\n",
      "2: (((λq.(λw.(((λe.(λr.((((λt.(λy.(λu.((t y) u)))) e) r) e))) (((λi.(λo.((λp.((p (λa.(λs.(λd.d)))) (λf.(λg.f)))) ((o (λh.(λj.(λk.(((h (λl.(λz.(z (l j))))) (λx.k)) (λc.c)))))) i)))) q) w)) (((λv.(λb.((λn.((n (λm.(λq_1.(λw_1.w_1)))) (λe_1.(λr_1.e_1)))) (((λt_1.(λy_1.((y_1 (λu_1.(λi_1.(λo_1.(((u_1 (λp_1.(λa_1.(a_1 (p_1 i_1))))) (λs_1.o_1)) (λd_1.d_1)))))) t_1))) v) b)))) w) q)))) (λf_1.(λg_1.(f_1 g_1)))) (λh_1.(λj_1.(h_1 (h_1 (h_1 (h_1 j_1)))))))\n",
      "3: (((λr.(λt.(((λy.(λu.((((λi.(λo.(λp.((i o) p)))) y) u) y))) ((λa.((λs.((s (λd.(λf.(λg.g)))) (λh.(λj.h)))) ((a (λk.(λl.(λz.(((k (λx.(λc.(c (x l))))) (λv.z)) (λb.b)))))) r))) t)) (((λn.(λm.((λq_1.((q_1 (λw_1.(λe_1.(λr_1.r_1)))) (λt_1.(λy_1.t_1)))) (((λu_1.(λi_1.((i_1 (λo_1.(λp_1.(λa_1.(((o_1 (λs_1.(λd_1.(d_1 (s_1 p_1))))) (λf_1.a_1)) (λg_1.g_1)))))) u_1))) n) m)))) t) r)))) (λh_1.(λq.(h_1 q)))) (λw.(λe.(w (w (w (w e)))))))\n",
      "4: (((λq.(λw.(((λe.(λr.((((λt.(λy.(λu.((t y) u)))) e) r) e))) ((λi.((((i (λo.(λp.(λa.(((o (λs.(λd.(d (s p))))) (λf.a)) (λg.g)))))) q) (λh.(λj.(λk.k)))) (λl.(λz.l)))) w)) (((λx.(λc.((λv.((v (λb.(λn.(λm.m)))) (λq_1.(λw_1.q_1)))) (((λe_1.(λr_1.((r_1 (λt_1.(λy_1.(λu_1.(((t_1 (λi_1.(λo_1.(o_1 (i_1 y_1))))) (λp_1.u_1)) (λa_1.a_1)))))) e_1))) x) c)))) w) q)))) (λs_1.(λd_1.(s_1 d_1)))) (λf_1.(λg_1.(f_1 (f_1 (f_1 (f_1 g_1)))))))\n",
      "5: ((λq.(((λw.(λe.((((λr.(λt.(λy.((r t) y)))) w) e) w))) ((λu.((((u (λi.(λo.(λp.(((i (λa.(λs.(s (a o))))) (λd.p)) (λf.f)))))) (λg.(λh.(g h)))) (λj.(λk.(λl.l)))) (λz.(λx.z)))) q)) (((λc.(λv.((λb.((b (λn.(λm.(λq_1.q_1)))) (λw_1.(λe_1.w_1)))) (((λr_1.(λt_1.((t_1 (λy_1.(λu_1.(λi_1.(((y_1 (λo_1.(λp_1.(p_1 (o_1 u_1))))) (λa_1.i_1)) (λs_1.s_1)))))) r_1))) c) v)))) q) (λd_1.(λf_1.(d_1 f_1)))))) (λg_1.(λh_1.(g_1 (g_1 (g_1 (g_1 h_1)))))))\n",
      "6: ((λq.(((λw.(λe.((((λr.(λt.(λy.((r t) y)))) w) e) w))) ((((q (λu.(λi.(λo.(((u (λp.(λa.(a (p i))))) (λs.o)) (λd.d)))))) (λf.(λg.(f g)))) (λh.(λj.(λk.k)))) (λl.(λz.l)))) (((λx.(λc.((λv.((v (λb.(λn.(λm.m)))) (λq_1.(λw_1.q_1)))) (((λe_1.(λr_1.((r_1 (λt_1.(λy_1.(λu_1.(((t_1 (λi_1.(λo_1.(o_1 (i_1 y_1))))) (λp_1.u_1)) (λa_1.a_1)))))) e_1))) x) c)))) q) (λs_1.(λd_1.(s_1 d_1)))))) (λf_1.(λg_1.(f_1 (f_1 (f_1 (f_1 g_1)))))))\n",
      "7: ((λf_1.(((λq.(λw.(((λe.(λr.((q e) r))) w) q))) ((((f_1 (λt.(λy.(λu.(((t (λi.(λo.(o (i y))))) (λp.u)) (λa.a)))))) (λs.(λd.(s d)))) (λf.(λg.(λh.h)))) (λj.(λk.j)))) (((λl.(λz.((λx.((x (λc.(λv.(λb.b)))) (λn.(λm.n)))) (((λq_1.(λw_1.((w_1 (λe_1.(λr_1.(λt_1.(((e_1 (λy_1.(λu_1.(u_1 (y_1 r_1))))) (λi_1.t_1)) (λo_1.o_1)))))) q_1))) l) z)))) f_1) (λp_1.(λa_1.(p_1 a_1)))))) (λs_1.(λd_1.(s_1 (s_1 (s_1 (s_1 d_1)))))))\n",
      "8: ((λq.(((λw.(λe.((λr.((w e) r)) w))) ((((q (λt.(λy.(λu.(((t (λi.(λo.(o (i y))))) (λp.u)) (λa.a)))))) (λs.(λd.(s d)))) (λf.(λg.(λh.h)))) (λj.(λk.j)))) (((λl.(λz.((λx.((x (λc.(λv.(λb.b)))) (λn.(λm.n)))) (((λq_1.(λw_1.((w_1 (λe_1.(λr_1.(λt_1.(((e_1 (λy_1.(λu_1.(u_1 (y_1 r_1))))) (λi_1.t_1)) (λo_1.o_1)))))) q_1))) l) z)))) q) (λp_1.(λa_1.(p_1 a_1)))))) (λs_1.(λd_1.(s_1 (s_1 (s_1 (s_1 d_1)))))))\n",
      "9: (((λq.(λw.((λe.((q w) e)) q))) (((((λr.(λt.(r (r (r (r t)))))) (λy.(λu.(λi.(((y (λo.(λp.(p (o u))))) (λa.i)) (λs.s)))))) (λd.(λf.(d f)))) (λg.(λh.(λj.j)))) (λk.(λl.k)))) (((λz.(λx.((λc.((c (λv.(λb.(λn.n)))) (λm.(λq_1.m)))) (((λw_1.(λe_1.((e_1 (λr_1.(λt_1.(λy_1.(((r_1 (λu_1.(λi_1.(i_1 (u_1 t_1))))) (λo_1.y_1)) (λp_1.p_1)))))) w_1))) z) x)))) (λa_1.(λs_1.(a_1 (a_1 (a_1 (a_1 s_1))))))) (λd_1.(λf_1.(d_1 f_1)))))\n",
      "10: (((λn_1.(λm_1.((λq_2.((n_1 m_1) q_2)) n_1))) ((((λw_2.((λe_2.(λr_2.(λt_2.(((e_2 (λy_2.(λu_2.(u_2 (y_2 r_2))))) (λi_2.t_2)) (λq.q))))) ((λw.(λe.(λr.(((w (λt.(λy.(y (t e))))) (λu.r)) (λi.i))))) ((λo.(λp.(λa.(((o (λs.(λd.(d (s p))))) (λf.a)) (λg.g))))) ((λh.(λj.(λk.(((h (λl.(λz.(z (l j))))) (λx.k)) (λc.c))))) w_2))))) (λv.(λb.(v b)))) (λn.(λm.(λq_1.q_1)))) (λw_1.(λe_1.w_1)))) (((λr_1.(λt_1.((λy_1.((y_1 (λu_1.(λi_1.(λo_1.o_1)))) (λp_1.(λa_1.p_1)))) (((λs_1.(λd_1.((d_1 (λf_1.(λg_1.(λh_1.(((f_1 (λj_1.(λk_1.(k_1 (j_1 g_1))))) (λl_1.h_1)) (λz_1.z_1)))))) s_1))) r_1) t_1)))) (λx_1.(λc_1.(x_1 (x_1 (x_1 (x_1 c_1))))))) (λv_1.(λb_1.(v_1 b_1)))))\n",
      "11: (((λq.(λw.((λe.((q w) e)) q))) ((((λr.(λt.(λy.(((((λu.(λi.(λo.(((u (λp.(λa.(a (p i))))) (λs.o)) (λd.d))))) ((λf.(λg.(λh.(((f (λj.(λk.(k (j g))))) (λl.h)) (λz.z))))) ((λx.(λc.(λv.(((x (λb.(λn.(n (b c))))) (λm.v)) (λq_1.q_1))))) r))) (λw_1.(λe_1.(e_1 (w_1 t))))) (λr_1.y)) (λt_1.t_1))))) (λy_1.(λu_1.(y_1 u_1)))) (λi_1.(λo_1.(λp_1.p_1)))) (λa_1.(λs_1.a_1)))) (((λd_1.(λf_1.((λg_1.((g_1 (λh_1.(λj_1.(λk_1.k_1)))) (λl_1.(λz_1.l_1)))) (((λx_1.(λc_1.((c_1 (λv_1.(λb_1.(λn_1.(((v_1 (λm_1.(λq_2.(q_2 (m_1 b_1))))) (λw_2.n_1)) (λe_2.e_2)))))) x_1))) d_1) f_1)))) (λr_2.(λt_2.(r_2 (r_2 (r_2 (r_2 t_2))))))) (λy_2.(λu_2.(y_2 u_2)))))\n",
      "12: (((λf_1.(λg_1.((λh_1.((f_1 g_1) h_1)) f_1))) ((((λj_1.(λk_1.(λl_1.(((((λz_1.(λx_1.(λc_1.(((z_1 (λv_1.(λb_1.(b_1 (v_1 x_1))))) (λn_1.c_1)) (λm_1.m_1))))) (λq_2.(λw_2.(((((λe_2.(λr_2.(λt_2.(((e_2 (λy_2.(λq.(q (y_2 r_2))))) (λw.t_2)) (λe.e))))) j_1) (λr.(λt.(t (r q_2))))) (λy.w_2)) (λu.u))))) (λi.(λo.(o (i k_1))))) (λp.l_1)) (λa.a))))) (λs.(λd.(s d)))) (λf.(λg.(λh.h)))) (λj.(λk.j)))) (((λl.(λz.((λx.((x (λc.(λv.(λb.b)))) (λn.(λm.n)))) (((λq_1.(λw_1.((w_1 (λe_1.(λr_1.(λt_1.(((e_1 (λy_1.(λu_1.(u_1 (y_1 r_1))))) (λi_1.t_1)) (λo_1.o_1)))))) q_1))) l) z)))) (λp_1.(λa_1.(p_1 (p_1 (p_1 (p_1 a_1))))))) (λs_1.(λd_1.(s_1 d_1)))))\n",
      "13: (((λq.(λw.((λe.((q w) e)) q))) ((((λr.(λt.(λy.(((((λu.(λi.(λo.(((u (λp.(λa.(a (p i))))) (λs.o)) (λd.d))))) (λf.(λg.(((((λh.(λj.(λk.(((h (λl.(λz.(z (l j))))) (λx.k)) (λc.c))))) r) (λv.(λb.(b (v f))))) (λn.g)) (λm.m))))) (λq_1.(λw_1.(w_1 (q_1 t))))) (λe_1.y)) (λr_1.r_1))))) (λt_1.(λy_1.(t_1 y_1)))) (λu_1.(λi_1.(λo_1.o_1)))) (λp_1.(λa_1.p_1)))) (((λs_1.(λd_1.((λf_1.((f_1 (λg_1.(λh_1.(λj_1.j_1)))) (λk_1.(λl_1.k_1)))) ((λz_1.((z_1 (λx_1.(λc_1.(λv_1.(((x_1 (λb_1.(λn_1.(n_1 (b_1 c_1))))) (λm_1.v_1)) (λq_2.q_2)))))) s_1)) d_1)))) (λw_2.(λe_2.(w_2 (w_2 (w_2 (w_2 e_2))))))) (λr_2.(λt_2.(r_2 t_2)))))\n",
      "14: (((λn.(λm.((λq_1.((n m) q_1)) n))) ((((λw_1.(λe_1.(λr_1.(((((λt_1.(λy_1.(λu_1.(((t_1 (λi_1.(λo_1.(o_1 (i_1 y_1))))) (λp_1.u_1)) (λa_1.a_1))))) (λs_1.(λd_1.((((λf_1.(λg_1.(((w_1 (λh_1.(λj_1.(j_1 (h_1 f_1))))) (λk_1.g_1)) (λl_1.l_1)))) (λz_1.(λx_1.(x_1 (z_1 s_1))))) (λc_1.d_1)) (λv_1.v_1))))) (λb_1.(λn_1.(n_1 (b_1 e_1))))) (λm_1.r_1)) (λq_2.q_2))))) (λw_2.(λe_2.(w_2 e_2)))) (λr_2.(λq.(λw.w)))) (λe.(λr.e)))) (((λt.(λy.((λu.((u (λi.(λo.(λp.p)))) (λa.(λs.a)))) ((λd.((d (λf.(λg.(λh.(((f (λj.(λk.(k (j g))))) (λl.h)) (λz.z)))))) t)) y)))) (λx.(λc.(x (x (x (x c))))))) (λv.(λb.(v b)))))\n",
      "15: (((λq.(λw.((λe.((q w) e)) q))) ((((λr.(λt.(λy.(((((λu.(λi.(λo.(((u (λp.(λa.(a (p i))))) (λs.o)) (λd.d))))) (λf.(λg.((((λh.(λj.(((r (λk.(λl.(l (k h))))) (λz.j)) (λx.x)))) (λc.(λv.(v (c f))))) (λb.g)) (λn.n))))) (λm.(λq_1.(q_1 (m t))))) (λw_1.y)) (λe_1.e_1))))) (λr_1.(λt_1.(r_1 t_1)))) (λy_1.(λu_1.(λi_1.i_1)))) (λo_1.(λp_1.o_1)))) ((λa_1.((λs_1.((s_1 (λd_1.(λf_1.(λg_1.g_1)))) (λh_1.(λj_1.h_1)))) ((λk_1.((k_1 (λl_1.(λz_1.(λx_1.(((l_1 (λc_1.(λv_1.(v_1 (c_1 z_1))))) (λb_1.x_1)) (λn_1.n_1)))))) (λm_1.(λq_2.(m_1 (m_1 (m_1 (m_1 q_2)))))))) a_1))) (λw_2.(λe_2.(w_2 e_2)))))\n",
      "16: (((λy.(λu.((λi.((y u) i)) y))) ((((λo.(λp.(λa.(((((λs.(λd.(λf.(((s (λg.(λh.(h (g d))))) (λj.f)) (λk.k))))) (λl.(λz.((((λx.(λc.(((o (λv.(λb.(b (v x))))) (λn.c)) (λm.m)))) (λq_1.(λw_1.(w_1 (q_1 l))))) (λe_1.z)) (λr_1.r_1))))) (λt_1.(λy_1.(y_1 (t_1 p))))) (λu_1.a)) (λi_1.i_1))))) (λo_1.(λp_1.(o_1 p_1)))) (λa_1.(λs_1.(λd_1.d_1)))) (λf_1.(λg_1.f_1)))) ((λh_1.((((λj_1.((j_1 (λk_1.(λl_1.(λz_1.(((k_1 (λx_1.(λc_1.(c_1 (x_1 l_1))))) (λv_1.z_1)) (λb_1.b_1)))))) (λn_1.(λm_1.(n_1 (n_1 (n_1 (n_1 m_1)))))))) h_1) (λq_2.(λw_2.(λq.q)))) (λw.(λe.w)))) (λr.(λt.(r t)))))\n",
      "17: (((λq.(λw.((λe.((q w) e)) q))) ((((λr.(λt.(λy.(((((λu.(λi.(λo.(((u (λp.(λa.(a (p i))))) (λs.o)) (λd.d))))) (λf.(λg.(((λh.(((r (λj.(λk.(k (j (λl.(λz.(z (l f))))))))) (λx.h)) (λc.c))) (λv.g)) (λb.b))))) (λn.(λm.(m (n t))))) (λq_1.y)) (λw_1.w_1))))) (λe_1.(λr_1.(e_1 r_1)))) (λt_1.(λy_1.(λu_1.u_1)))) (λi_1.(λo_1.i_1)))) ((λp_1.((((λa_1.((a_1 (λs_1.(λd_1.(λf_1.(((s_1 (λg_1.(λh_1.(h_1 (g_1 d_1))))) (λj_1.f_1)) (λk_1.k_1)))))) (λl_1.(λz_1.(l_1 (l_1 (l_1 (l_1 z_1)))))))) p_1) (λx_1.(λc_1.(λv_1.v_1)))) (λb_1.(λn_1.b_1)))) (λm_1.(λq_2.(m_1 q_2)))))\n",
      "18: (((λq.(λw.((q w) q))) ((((λe.(λr.(λt.(((((λy.(λu.(λi.(((y (λo.(λp.(p (o u))))) (λa.i)) (λs.s))))) (λd.(λf.(((λg.(((e (λh.(λj.(j (h (λk.(λl.(l (k d))))))))) (λz.g)) (λx.x))) (λc.f)) (λv.v))))) (λb.(λn.(n (b r))))) (λm.t)) (λq_1.q_1))))) (λw_1.(λe_1.(w_1 e_1)))) (λr_1.(λt_1.(λy_1.y_1)))) (λu_1.(λi_1.u_1)))) ((λo_1.((((λp_1.((p_1 (λa_1.(λs_1.(λd_1.(((a_1 (λf_1.(λg_1.(g_1 (f_1 s_1))))) (λh_1.d_1)) (λj_1.j_1)))))) (λk_1.(λl_1.(k_1 (k_1 (k_1 (k_1 l_1)))))))) o_1) (λz_1.(λx_1.(λc_1.c_1)))) (λv_1.(λb_1.v_1)))) (λn_1.(λm_1.(n_1 m_1)))))\n",
      "19: (((λi_1.(λo_1.((i_1 o_1) i_1))) ((((λp_1.(λa_1.(λs_1.(((((λd_1.(λf_1.(λg_1.(((d_1 (λh_1.(λj_1.(j_1 (h_1 f_1))))) (λk_1.g_1)) (λl_1.l_1))))) (λz_1.(λx_1.(((λc_1.(((p_1 (λv_1.(λb_1.(b_1 (v_1 (λn_1.(λq.(q (n_1 z_1))))))))) (λw.c_1)) (λe.e))) (λr.x_1)) (λt.t))))) (λy.(λu.(u (y a_1))))) (λi.s_1)) (λo.o))))) (λp.(λa.(p a)))) (λs.(λd.(λf.f)))) (λg.(λh.g)))) ((λj.((((j (λk.(λl.(λz.(((k (λx.(λc.(c (x l))))) (λv.z)) (λb.b)))))) (λn.(λm.(n (n (n (n m))))))) (λq_1.(λw_1.(λe_1.e_1)))) (λr_1.(λt_1.r_1)))) (λy_1.(λu_1.(y_1 u_1)))))\n",
      "20: (((λq.(λw.((q w) q))) ((((λe.(λr.(λt.(((((λy.(λu.(λi.(((y (λo.(λp.(p (o u))))) (λa.i)) (λs.s))))) (λd.(λf.((((e (λg.(λh.(h (g (λj.(λk.(k (j d))))))))) (λl.(λz.f))) (λx.x)) (λc.c))))) (λv.(λb.(b (v r))))) (λn.t)) (λm.m))))) (λq_1.(λw_1.(q_1 w_1)))) (λe_1.(λr_1.(λt_1.t_1)))) (λy_1.(λu_1.y_1)))) ((λi_1.((((i_1 (λo_1.(λp_1.(λa_1.(((o_1 (λs_1.(λd_1.(d_1 (s_1 p_1))))) (λf_1.a_1)) (λg_1.g_1)))))) (λh_1.(λj_1.(h_1 (h_1 (h_1 (h_1 j_1))))))) (λk_1.(λl_1.(λz_1.z_1)))) (λx_1.(λc_1.x_1)))) (λv_1.(λb_1.(v_1 b_1)))))\n",
      "21: (((λt.(λy.((t y) t))) ((((λu.(λi.(λo.((((λp.(λa.((((λs.(λd.((((u (λf.(λg.(g (f (λh.(λj.(j (h s))))))))) (λk.(λl.d))) (λz.z)) (λx.x)))) (λc.(λv.(v (c p))))) (λb.a)) (λn.n)))) (λm.(λq_1.(q_1 (m i))))) (λw_1.o)) (λe_1.e_1))))) (λr_1.(λt_1.(r_1 t_1)))) (λy_1.(λu_1.(λi_1.i_1)))) (λo_1.(λp_1.o_1)))) ((λa_1.((((a_1 (λs_1.(λd_1.(λf_1.(((s_1 (λg_1.(λh_1.(h_1 (g_1 d_1))))) (λj_1.f_1)) (λk_1.k_1)))))) (λl_1.(λz_1.(l_1 (l_1 (l_1 (l_1 z_1))))))) (λx_1.(λc_1.(λv_1.v_1)))) (λq.(λw.q)))) (λe.(λr.(e r)))))\n",
      "22: (((λq.(λw.((q w) q))) (((λe.(λr.((((λt.(λy.((((λu.(λi.(((((λo.(λp.(o p))) (λa.(λs.(s (a (λd.(λf.(f (d u))))))))) (λg.(λh.i))) (λj.j)) (λk.k)))) (λl.(λz.(z (l t))))) (λx.y)) (λc.c)))) (λv.(λb.(b (v e))))) (λn.r)) (λm.m)))) (λq_1.(λw_1.(λe_1.e_1)))) (λr_1.(λt_1.r_1)))) ((λy_1.((((y_1 (λu_1.(λi_1.(λo_1.(((u_1 (λp_1.(λa_1.(a_1 (p_1 i_1))))) (λs_1.o_1)) (λd_1.d_1)))))) (λf_1.(λg_1.(f_1 (f_1 (f_1 (f_1 g_1))))))) (λh_1.(λj_1.(λk_1.k_1)))) (λl_1.(λz_1.l_1)))) (λx_1.(λc_1.(x_1 c_1)))))\n",
      "23: (((λq.(λw.((q w) q))) (((λe.(λr.(((λt.((((λy.(λu.(((((λi.(λo.(i o))) (λp.(λa.(a (p (λs.(λd.(d (s y))))))))) (λf.(λg.u))) (λh.h)) (λj.j)))) (λk.(λl.(l (k (λz.(λx.(x (z e))))))))) (λc.t)) (λv.v))) (λb.r)) (λn.n)))) (λm.(λq_1.(λw_1.w_1)))) (λe_1.(λr_1.e_1)))) ((λt_1.((((t_1 (λy_1.(λu_1.(λi_1.(((y_1 (λo_1.(λp_1.(p_1 (o_1 u_1))))) (λa_1.i_1)) (λs_1.s_1)))))) (λd_1.(λf_1.(d_1 (d_1 (d_1 (d_1 f_1))))))) (λg_1.(λh_1.(λj_1.j_1)))) (λk_1.(λl_1.k_1)))) (λz_1.(λx_1.(z_1 x_1)))))\n",
      "24: (((λk.(λl.((k l) k))) (((λz.(λx.(((λc.((((λv.(λb.((((λn.((λm.(λq_1.(q_1 (m (λw_1.(λe_1.(e_1 (w_1 v)))))))) n)) (λr_1.(λt_1.b))) (λy_1.y_1)) (λu_1.u_1)))) (λi_1.(λo_1.(o_1 (i_1 (λp_1.(λa_1.(a_1 (p_1 z))))))))) (λs_1.c)) (λd_1.d_1))) (λf_1.x)) (λg_1.g_1)))) (λh_1.(λj_1.(λk_1.k_1)))) (λl_1.(λz_1.l_1)))) ((λq.((((q (λw.(λe.(λr.(((w (λt.(λy.(y (t e))))) (λu.r)) (λi.i)))))) (λo.(λp.(o (o (o (o p))))))) (λa.(λs.(λd.d)))) (λf.(λg.f)))) (λh.(λj.(h j)))))\n",
      "25: (((λq.(λw.((q w) q))) ((λe.(((λr.((((λt.(λy.((((λu.((λi.(λo.(o (i (λp.(λa.(a (p t)))))))) u)) (λs.(λd.y))) (λf.f)) (λg.g)))) (λh.(λj.(j (h (λk.(λl.(l (k (λz.(λx.(λc.c)))))))))))) (λv.r)) (λb.b))) (λn.e)) (λm.m))) (λq_1.(λw_1.q_1)))) ((λe_1.((((e_1 (λr_1.(λt_1.(λy_1.(((r_1 (λu_1.(λi_1.(i_1 (u_1 t_1))))) (λo_1.y_1)) (λp_1.p_1)))))) (λa_1.(λs_1.(a_1 (a_1 (a_1 (a_1 s_1))))))) (λd_1.(λf_1.(λg_1.g_1)))) (λh_1.(λj_1.h_1)))) (λk_1.(λl_1.(k_1 l_1)))))\n",
      "26: (((λq.(λw.((q w) q))) ((λe.(((λr.(((λt.((((λy.((λu.(λi.(i (u (λo.(λp.(p (o (λa.(λs.(s (a (λd.(λf.(f (d (λg.(λh.(λj.j))))))))))))))))))) y)) (λk.(λl.t))) (λz.z)) (λx.x))) (λc.r)) (λv.v))) (λb.e)) (λn.n))) (λm.(λq_1.m)))) ((λw_1.((((w_1 (λe_1.(λr_1.(λt_1.(((e_1 (λy_1.(λu_1.(u_1 (y_1 r_1))))) (λi_1.t_1)) (λo_1.o_1)))))) (λp_1.(λa_1.(p_1 (p_1 (p_1 (p_1 a_1))))))) (λs_1.(λd_1.(λf_1.f_1)))) (λg_1.(λh_1.g_1)))) (λj_1.(λk_1.(j_1 k_1)))))\n",
      "27: (((λc.(λv.((c v) c))) ((λb.((((λn.((((λm.((λq_1.(λw_1.(w_1 (q_1 (λe_1.(λr_1.(r_1 (e_1 (λt_1.(λy_1.(y_1 (t_1 (λu_1.(λi_1.(i_1 (u_1 (λo_1.(λp_1.(λa_1.a_1))))))))))))))))))) m)) (λs_1.(λd_1.n))) (λf_1.f_1)) (λg_1.g_1))) (λh_1.(λj_1.b))) (λq.q)) (λw.w))) (λe.(λr.e)))) ((λt.((((t (λy.(λu.(λi.(((y (λo.(λp.(p (o u))))) (λa.i)) (λs.s)))))) (λd.(λf.(d (d (d (d f))))))) (λg.(λh.(λj.j)))) (λk.(λl.k)))) (λz.(λx.(z x)))))\n",
      "28: (((λq.(λw.((q w) q))) ((λe.((((λr.((((λt.(λy.(y (t (λu.(λi.(i (u (λo.(λp.(p (o (λa.(λs.(s (a (λd.(λf.(λg.g))))))))))))))))))) (λh.(λj.r))) (λk.k)) (λl.l))) (λz.(λx.e))) (λc.c)) (λv.v))) (λb.(λn.b)))) ((λm.((((m (λq_1.(λw_1.(λe_1.(((q_1 (λr_1.(λt_1.(t_1 (r_1 w_1))))) (λy_1.e_1)) (λu_1.u_1)))))) (λi_1.(λo_1.(i_1 (i_1 (i_1 (i_1 o_1))))))) (λp_1.(λa_1.(λs_1.s_1)))) (λd_1.(λf_1.d_1)))) (λg_1.(λh_1.(g_1 h_1)))))\n",
      "29: (((λq.(λw.((q w) q))) ((λe.((((λr.(((λt.(t ((λy.(λu.r)) (λi.(λo.(o (i (λp.(λa.(a (p (λs.(λd.(d (s (λf.(λg.(λh.h)))))))))))))))))) (λj.j)) (λk.k))) (λl.(λz.e))) (λx.x)) (λc.c))) (λv.(λb.v)))) ((λn.((((n (λm.(λq_1.(λw_1.(((m (λe_1.(λr_1.(r_1 (e_1 q_1))))) (λt_1.w_1)) (λy_1.y_1)))))) (λu_1.(λi_1.(u_1 (u_1 (u_1 (u_1 i_1))))))) (λo_1.(λp_1.(λa_1.a_1)))) (λs_1.(λd_1.s_1)))) (λf_1.(λg_1.(f_1 g_1)))))\n",
      "30: (((λi.(λo.((i o) i))) ((λp.((((λa.(((λs.(s (λd.a))) (λf.f)) (λg.g))) (λh.(λj.p))) (λk.k)) (λl.l))) (λz.(λx.z)))) ((λc.((((c (λv.(λb.(λn.(((v (λm.(λq_1.(q_1 (m b))))) (λw_1.n)) (λe_1.e_1)))))) (λr_1.(λt_1.(r_1 (r_1 (r_1 (r_1 t_1))))))) (λq.(λw.(λe.e)))) (λr.(λt.r)))) (λy.(λu.(y u)))))\n",
      "31: (((λq.(λw.((q w) q))) ((((λe.(((λr.(r (λt.e))) (λy.y)) (λu.u))) (λi.(λo.(λp.(λa.p))))) (λs.s)) (λd.d))) ((λf.((((f (λg.(λh.(λj.(((g (λk.(λl.(l (k h))))) (λz.j)) (λx.x)))))) (λc.(λv.(c (c (c (c v))))))) (λb.(λn.(λm.m)))) (λq_1.(λw_1.q_1)))) (λe_1.(λr_1.(e_1 r_1)))))\n",
      "32: (((λq.(λw.((q w) q))) ((((λe.(((λr.r) (λt.e)) (λy.y))) (λu.(λi.(λo.(λp.o))))) (λa.a)) (λs.s))) ((λd.((((d (λf.(λg.(λh.(((f (λj.(λk.(k (j g))))) (λl.h)) (λz.z)))))) (λx.(λc.(x (x (x (x c))))))) (λv.(λb.(λn.n)))) (λm.(λq_1.m)))) (λw_1.(λe_1.(w_1 e_1)))))\n",
      "33: (((λq.(λw.((q w) q))) (((((λe.e) (λr.(λt.(λy.(λu.(λi.u)))))) (λo.o)) (λp.p)) (λa.a))) ((λs.((((s (λd.(λf.(λg.(((d (λh.(λj.(j (h f))))) (λk.g)) (λl.l)))))) (λz.(λx.(z (z (z (z x))))))) (λc.(λv.(λb.b)))) (λn.(λm.n)))) (λq_1.(λw_1.(q_1 w_1)))))\n",
      "34: (((λq.(λw.((q w) q))) ((((λe.(λr.(λt.(λy.(λu.y))))) (λi.i)) (λo.o)) (λp.p))) ((λa.((((a (λs.(λd.(λf.(((s (λg.(λh.(h (g d))))) (λj.f)) (λk.k)))))) (λl.(λz.(l (l (l (l z))))))) (λx.(λc.(λv.v)))) (λb.(λn.b)))) (λm.(λq_1.(m q_1)))))\n",
      "35: ((λw_1.((((((λe_1.(λr_1.(λt_1.(λy_1.(λu_1.y_1))))) (λi_1.i_1)) (λq.q)) (λw.w)) w_1) ((((λe.(λr.(λt.(λy.(λu.y))))) (λi.i)) (λo.o)) (λp.p)))) ((λa.((((a (λs.(λd.(λf.(((s (λg.(λh.(h (g d))))) (λj.f)) (λk.k)))))) (λl.(λz.(l (l (l (l z))))))) (λx.(λc.(λv.v)))) (λb.(λn.b)))) (λm.(λq_1.(m q_1)))))\n",
      "36: ((λq.(((((λw.(λe.(λr.(λt.r)))) (λy.y)) (λu.u)) q) ((((λi.(λo.(λp.(λa.(λs.a))))) (λd.d)) (λf.f)) (λg.g)))) ((λh.((((h (λj.(λk.(λl.(((j (λz.(λx.(x (z k))))) (λc.l)) (λv.v)))))) (λb.(λn.(b (b (b (b n))))))) (λm.(λq_1.(λw_1.w_1)))) (λe_1.(λr_1.e_1)))) (λt_1.(λy_1.(t_1 y_1)))))\n",
      "37: ((λq.((((λw.(λe.(λr.e))) (λt.t)) q) ((((λy.(λu.(λi.(λo.(λp.o))))) (λa.a)) (λs.s)) (λd.d)))) ((λf.((((f (λg.(λh.(λj.(((g (λk.(λl.(l (k h))))) (λz.j)) (λx.x)))))) (λc.(λv.(c (c (c (c v))))))) (λb.(λn.(λm.m)))) (λq_1.(λw_1.q_1)))) (λe_1.(λr_1.(e_1 r_1)))))\n",
      "38: ((((λq.(λw.(λe.w))) (λr.r)) ((λt.((((t (λy.(λu.(λi.(((y (λo.(λp.(p (o u))))) (λa.i)) (λs.s)))))) (λd.(λf.(d (d (d (d f))))))) (λg.(λh.(λj.j)))) (λk.(λl.k)))) (λz.(λx.(z x))))) ((((λc.(λv.(λb.(λn.(λm.n))))) (λq_1.q_1)) (λw_1.w_1)) (λe_1.e_1)))\n",
      "39: (((λk.(λl.k)) ((λz.((((z (λx.(λc.(λv.(((x (λb.(λn.(n (b c))))) (λm.v)) (λq_1.q_1)))))) (λq.(λw.(q (q (q (q w))))))) (λe.(λr.(λt.t)))) (λy.(λu.y)))) (λi.(λo.(i o))))) ((((λp.(λa.(λs.(λd.(λf.d))))) (λg.g)) (λh.h)) (λj.j)))\n",
      "40: (((λq.(λw.q)) (((((λe.(λr.(e r))) (λt.(λy.(λu.(((t (λi.(λo.(o (i y))))) (λp.u)) (λa.a)))))) (λs.(λd.(s (s (s (s d))))))) (λf.(λg.(λh.h)))) (λj.(λk.j)))) ((((λl.(λz.(λx.(λc.(λv.c))))) (λb.b)) (λn.n)) (λm.m)))\n",
      "41: (((λq.(λw.q)) ((((λe.((λr.(λt.(λy.(((r (λu.(λi.(i (u t))))) (λo.y)) (λp.p))))) e)) (λa.(λs.(a (a (a (a s))))))) (λd.(λf.(λg.g)))) (λh.(λj.h)))) ((((λk.(λl.(λz.(λx.(λc.x))))) (λv.v)) (λb.b)) (λn.n)))\n",
      "42: ((λq.((((λw.((λe.(λr.(λt.(((e (λy.(λu.(u (y r))))) (λi.t)) (λo.o))))) w)) (λp.(λa.(p (p (p (p a))))))) (λs.(λd.(λf.f)))) (λg.(λh.g)))) ((((λj.(λk.(λl.(λz.(λx.z))))) (λc.c)) (λv.v)) (λb.b)))\n",
      "43: ((((λs.((λd.(λf.(λg.(((d (λq.(λw.(w (q f))))) (λe.g)) (λr.r))))) s)) (λt.(λy.(t (t (t (t y))))))) (λu.(λi.(λo.o)))) (λp.(λa.p)))\n",
      "44: ((((λq.(λw.(λe.(((q (λr.(λt.(t (r w))))) (λy.e)) (λu.u))))) (λi.(λo.(i (i (i (i o))))))) (λp.(λa.(λs.s)))) (λd.(λf.d)))\n",
      "45: (((λu.(λi.((((λo.(λp.(o (o (o (o p)))))) (λa.(λs.(s (a u))))) (λd.i)) (λq.q)))) (λw.(λe.(λr.r)))) (λt.(λy.t)))\n",
      "46: (((λq.(λw.(((λe.((λr.(λt.(t (r q)))) ((λy.(λu.(u (y q)))) ((λi.(λo.(o (i q)))) ((λp.(λa.(a (p q)))) e))))) (λs.w)) (λd.d)))) (λf.(λg.(λh.h)))) (λj.(λk.j)))\n",
      "47: (((λp.(λa.(((λs.((λd.(λf.(f (d p)))) ((λg.(λh.(h (g p)))) (λj.(j (((λq.(λw.(w (q p)))) s) p)))))) (λe.a)) (λr.r)))) (λt.(λy.(λu.u)))) (λi.(λo.i)))\n",
      "48: ((λq.(((λw.((λe.(λr.(r (e (λt.(λy.(λu.u))))))) ((λi.(λo.(o (i (λp.(λa.(λs.s))))))) (λd.(d (((λf.(λg.(g (f (λh.(λj.(λk.k))))))) w) (λl.(λz.(λx.x))))))))) (λc.q)) (λv.v))) (λb.(λn.b)))\n",
      "49: ((λq.(((λw.((λe.(λr.(r (e (λt.(λy.(λu.u))))))) (λi.(i ((λo.(o (((λp.(λa.(a (p (λs.(λd.(λf.f))))))) w) (λg.(λh.(λj.j)))))) (λk.(λl.(λz.z)))))))) (λx.q)) (λc.c))) (λv.(λb.v)))\n",
      "50: (((λq.((λw.(λe.(e (w (λr.(λt.(λy.y))))))) (λu.(u ((λi.(i (((λo.(λp.(p (o (λa.(λs.(λd.d))))))) q) (λf.(λg.(λh.h)))))) (λj.(λk.(λl.l)))))))) (λz.(λx.(λc.x)))) (λv.v))\n",
      "51: (((λi.((λo.(λp.(p (o (λa.(λs.(λd.d))))))) (λf.(f ((λg.(g ((λh.(h (i (λj.(λk.(λl.l)))))) (λz.(λx.(λc.c)))))) (λq.(λw.(λe.e)))))))) (λr.(λt.(λy.t)))) (λu.u))\n",
      "52: (((λq.(λw.(w (q (λe.(λr.(λt.t))))))) (λy.(y ((λu.(u ((λi.(i ((λo.(λp.(λa.p))) (λs.(λd.(λf.f)))))) (λg.(λh.(λj.j)))))) (λk.(λl.(λz.z))))))) (λx.x))\n",
      "53: (((λq.(λw.(w (q (λe.(λr.(λt.t))))))) (λy.(y ((λu.(λi.(λo.o))) ((λp.(p ((λa.(λs.(λd.s))) (λf.(λg.(λh.h)))))) (λj.(λk.(λl.l)))))))) (λz.z))\n",
      "54: (((λq.(λw.(w (q (λe.(λr.(λt.t))))))) (λy.(y ((λu.(λi.(λo.o))) ((λp.(p (λa.(λs.a)))) (λd.(λf.(λg.g)))))))) (λh.h))\n",
      "55: (((λq.(λw.(w (q (λe.(λr.(λt.t))))))) (λy.(y ((λu.(λi.(λo.o))) ((λp.(λa.(λs.s))) (λd.(λf.d))))))) (λg.g))\n",
      "56: ((λq.(q ((λw.(w ((λe.(λr.(λt.t))) ((λy.(λu.(λi.i))) (λo.(λp.o)))))) (λa.(λs.(λd.d)))))) (λf.f))\n",
      "57: ((λo.(o ((λp.(p ((λa.(λq.(λw.w))) (λe.(λr.r))))) (λt.(λy.(λu.u)))))) (λi.i))\n",
      "58: ((λq.q) ((λw.(w ((λe.(λr.(λt.t))) (λy.(λu.u))))) (λi.(λo.(λp.p)))))\n",
      "59: ((λq.q) ((λw.(w (λe.(λr.r)))) (λt.(λy.(λu.u)))))\n",
      "60: ((λq.q) ((λw.(λe.(λr.r))) (λt.(λy.y))))\n",
      "61: ((λt.(λq.(λw.w))) (λe.(λr.r)))\n",
      "62: (λq.(λw.w))\n",
      "\n",
      "\n",
      "reduction steps: 62\n",
      "norm term:       (λq.(λw.w))\n"
     ]
    }
   ],
   "source": [
    "def term_test_13():\n",
    "    return multi_app_term(eq_term(), num_term(1), num_term(4))\n",
    "\n",
    "\n",
    "test_procedure(term_test_13(), steps_lim=120)"
   ],
   "metadata": {
    "collapsed": false
   }
  }
 ],
 "metadata": {
  "kernelspec": {
   "display_name": "Python 3",
   "language": "python",
   "name": "python3"
  },
  "language_info": {
   "codemirror_mode": {
    "name": "ipython",
    "version": 2
   },
   "file_extension": ".py",
   "mimetype": "text/x-python",
   "name": "python",
   "nbconvert_exporter": "python",
   "pygments_lexer": "ipython2",
   "version": "2.7.6"
  }
 },
 "nbformat": 4,
 "nbformat_minor": 0
}
