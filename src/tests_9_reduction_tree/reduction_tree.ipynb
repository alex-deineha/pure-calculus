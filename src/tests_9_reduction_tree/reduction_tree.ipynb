{
 "cells": [
  {
   "cell_type": "markdown",
   "source": [
    "# My own three realization"
   ],
   "metadata": {
    "collapsed": false
   }
  },
  {
   "cell_type": "code",
   "execution_count": 12,
   "outputs": [],
   "source": [
    "import sys\n",
    "import time\n",
    "\n",
    "sys.path.append(\"../\")\n",
    "from calculus.pseudonym import *\n",
    "from calculus.strategy import *\n",
    "from calculus import arithm_ops, nat_numbers, num_comparison, pairs, arithm_ops, combinators, arithm_complex_ops, logic\n",
    "\n",
    "\n",
    "from anytree import Node, RenderTree"
   ],
   "metadata": {
    "collapsed": false
   }
  },
  {
   "cell_type": "code",
   "execution_count": 18,
   "outputs": [],
   "source": [
    "MAX_STEPS = 10\n",
    "\n",
    "class TreeNode:\n",
    "    def __init__(self, left, right, term: Term, step: int):\n",
    "        self.left = left\n",
    "        self.right = right\n",
    "        self.term = term\n",
    "        self.step = step\n",
    "        self.is_reduced = False\n",
    "        self.anynode = None\n",
    "\n",
    "    def build_reduction_tree(self):\n",
    "        if len(self.term.redexes) == 0:\n",
    "            self.is_reduced = True\n",
    "            self.anynode = Node(f\"n->{self.is_reduced}, {self.step}\")\n",
    "            return\n",
    "\n",
    "        if self.step >= MAX_STEPS:\n",
    "            self.anynode = Node(f\"n->{self.is_reduced}, {self.step}\")\n",
    "            return\n",
    "\n",
    "        left_term = self.term._updateBoundVariables()\n",
    "        left_term = left_term._betaConversion(LeftmostOutermostStrategy())\n",
    "        left_term = left_term._updateBoundVariables()\n",
    "        self.left = TreeNode(None, None, left_term, self.step + 1)\n",
    "        self.left.build_reduction_tree()\n",
    "\n",
    "        right_term = self.term._updateBoundVariables()\n",
    "        right_term = right_term._betaConversion(RightmostInnermostStrategy())\n",
    "        right_term = right_term._updateBoundVariables()\n",
    "        self.right = TreeNode(None, None, right_term, self.step + 1)\n",
    "        self.right.build_reduction_tree()\n",
    "\n",
    "        self.anynode = Node(f\"step_node {self.step}\",\n",
    "                            children=[self.left.anynode, self.right.anynode])\n"
   ],
   "metadata": {
    "collapsed": false
   }
  },
  {
   "cell_type": "code",
   "execution_count": 19,
   "outputs": [],
   "source": [
    "term_ = multi_app_term(logic.or_term(), logic.true_term(), logic.false_term())\n",
    "\n",
    "treenode = TreeNode(None, None, term_._updateBoundVariables(), 0)"
   ],
   "metadata": {
    "collapsed": false
   }
  },
  {
   "cell_type": "code",
   "execution_count": 20,
   "outputs": [
    {
     "ename": "AttributeError",
     "evalue": "'NoneType' object has no attribute 'name'",
     "output_type": "error",
     "traceback": [
      "\u001B[1;31m---------------------------------------------------------------------------\u001B[0m",
      "\u001B[1;31mAttributeError\u001B[0m                            Traceback (most recent call last)",
      "Cell \u001B[1;32mIn[20], line 3\u001B[0m\n\u001B[0;32m      1\u001B[0m anyroot \u001B[38;5;241m=\u001B[39m treenode\u001B[38;5;241m.\u001B[39manynode\n\u001B[0;32m      2\u001B[0m \u001B[38;5;28;01mfor\u001B[39;00m pre, fill, node \u001B[38;5;129;01min\u001B[39;00m RenderTree(anyroot):\n\u001B[1;32m----> 3\u001B[0m     \u001B[38;5;28mprint\u001B[39m(\u001B[38;5;124m\"\u001B[39m\u001B[38;5;132;01m%s\u001B[39;00m\u001B[38;5;132;01m%s\u001B[39;00m\u001B[38;5;124m\"\u001B[39m \u001B[38;5;241m%\u001B[39m (pre, \u001B[43mnode\u001B[49m\u001B[38;5;241;43m.\u001B[39;49m\u001B[43mname\u001B[49m))\n",
      "\u001B[1;31mAttributeError\u001B[0m: 'NoneType' object has no attribute 'name'"
     ]
    }
   ],
   "source": [
    "anyroot = treenode.anynode\n",
    "for pre, fill, node in RenderTree(anyroot):\n",
    "    print(\"%s%s\" % (pre, node.name))\n"
   ],
   "metadata": {
    "collapsed": false
   }
  },
  {
   "cell_type": "code",
   "execution_count": 21,
   "outputs": [
    {
     "name": "stdout",
     "output_type": "stream",
     "text": [
      "(λq.(λw.q))\n",
      "7\n"
     ]
    }
   ],
   "source": [
    "term_ = multi_app_term(logic.or_term(), logic.true_term(), logic.false_term())\n",
    "\n",
    "tt, ss = term_.normalize(RandomStrategy())\n",
    "print(tt)\n",
    "print(ss)"
   ],
   "metadata": {
    "collapsed": false
   }
  },
  {
   "cell_type": "code",
   "execution_count": null,
   "outputs": [],
   "source": [],
   "metadata": {
    "collapsed": false
   }
  }
 ],
 "metadata": {
  "kernelspec": {
   "display_name": "Python 3",
   "language": "python",
   "name": "python3"
  },
  "language_info": {
   "codemirror_mode": {
    "name": "ipython",
    "version": 2
   },
   "file_extension": ".py",
   "mimetype": "text/x-python",
   "name": "python",
   "nbconvert_exporter": "python",
   "pygments_lexer": "ipython2",
   "version": "2.7.6"
  }
 },
 "nbformat": 4,
 "nbformat_minor": 0
}
