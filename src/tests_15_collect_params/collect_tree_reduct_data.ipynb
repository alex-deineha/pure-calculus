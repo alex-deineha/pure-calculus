{
 "cells": [
  {
   "cell_type": "code",
   "execution_count": 1,
   "metadata": {
    "collapsed": true,
    "ExecuteTime": {
     "end_time": "2023-07-20T00:43:53.212865742Z",
     "start_time": "2023-07-20T00:43:52.945075708Z"
    }
   },
   "outputs": [],
   "source": [
    "import sys\n",
    "import re\n",
    "import random\n",
    "import time\n",
    "\n",
    "from tqdm import tqdm\n",
    "\n",
    "import matplotlib.pyplot as plt\n",
    "import pandas as pd\n",
    "import seaborn as sns\n",
    "import numpy as np\n",
    "from collections import Counter\n",
    "from joypy import joyplot\n",
    "\n",
    "sys.path.append(\"../\")\n",
    "from calculus_path_mod.term_engine import *\n",
    "from calculus_path_mod.reduction_strategy import *\n",
    "from calculus_path_mod.terms import num_comparison, nat_numbers, arithm_ops, combinators, pairs, logic\n",
    "from calculus_path_mod.terms.pseudonym import *\n",
    "\n",
    "from calculus_path_mod.json_serialization import load_terms\n",
    "from fitter import Fitter, get_common_distributions\n",
    "from calculus_utils.drawing import draw_steps_displot"
   ]
  },
  {
   "cell_type": "markdown",
   "source": [
    "# Load Terms filtered LO"
   ],
   "metadata": {
    "collapsed": false
   }
  },
  {
   "cell_type": "code",
   "execution_count": 2,
   "outputs": [],
   "source": [
    "terms_LO = load_terms(\"../tests_11_retests/terms_210_filtered_LO.dat\")\n",
    "# terms_RI = load_terms(\"../tests_11_retests/terms_210_filtered_RI.dat\")"
   ],
   "metadata": {
    "collapsed": false,
    "ExecuteTime": {
     "end_time": "2023-07-20T00:43:53.233603773Z",
     "start_time": "2023-07-20T00:43:53.214105240Z"
    }
   }
  },
  {
   "cell_type": "code",
   "execution_count": 3,
   "outputs": [],
   "source": [
    "from calculus_path_mod.reduction_strategy import RandomOuterStrategy\n",
    "\n",
    "ro_strategy = RandomOuterStrategy()\n",
    "\n",
    "\n",
    "def tree_normalize_with_params(term, is_limited=True, max_count_step_term=400, steps=400, vertices_lim=7_000):\n",
    "    norm_steps_list = []\n",
    "\n",
    "    try:\n",
    "        dict_redexes_indexes = ro_strategy._get_redexes_indexes(term)\n",
    "    except ValueError:\n",
    "        dict_redexes_indexes = dict()\n",
    "    norm_params = {\n",
    "        \"term\": term,\n",
    "        \"prev_term_redex\": (0, -1),\n",
    "        \"redex_depths\": list(dict_redexes_indexes.values()),\n",
    "        \"redex_indexes\": list(dict_redexes_indexes.keys()),\n",
    "        \"step_time\": 0.0,\n",
    "    }\n",
    "\n",
    "    norm_steps_list.append([norm_params, ])\n",
    "    step_inx = 0\n",
    "    is_normalizable = len(norm_params[\"redex_indexes\"]) > 0\n",
    "\n",
    "    while is_normalizable:\n",
    "        norm_steps_list.append(list())\n",
    "        iter_indexes = range(len(norm_steps_list[step_inx]))\n",
    "        iter_indexes = iter_indexes if len(norm_steps_list[step_inx]) < max_count_step_term else random.sample(\n",
    "            iter_indexes, max_count_step_term)\n",
    "        for inx in iter_indexes:\n",
    "            for redex_index in norm_steps_list[step_inx][inx][\"redex_indexes\"]:\n",
    "                if is_limited and norm_steps_list[step_inx][inx][\"term\"].vertices_number > vertices_lim:\n",
    "                    continue\n",
    "                start_time = time.process_time_ns()\n",
    "                reduced_term = norm_steps_list[step_inx][inx][\"term\"]._update_bound_vars()\n",
    "                reduced_term = reduced_term._beta_conversion_visual(redex_index)\n",
    "                end_time = time.process_time_ns()\n",
    "\n",
    "                try:\n",
    "                    dict_redexes_indexes = ro_strategy._get_redexes_indexes(reduced_term)\n",
    "                except ValueError:\n",
    "                    dict_redexes_indexes = dict()\n",
    "                norm_params = {\n",
    "                    \"term\": reduced_term,\n",
    "                    \"prev_term_redex\": (inx, redex_index),\n",
    "                    \"redex_depths\": list(dict_redexes_indexes.values()),\n",
    "                    \"redex_indexes\": list(dict_redexes_indexes.keys()),\n",
    "                    \"step_time\": start_time - end_time,\n",
    "                }\n",
    "\n",
    "                norm_steps_list[step_inx + 1].append(norm_params)\n",
    "\n",
    "        if is_limited and step_inx == steps:\n",
    "            break\n",
    "\n",
    "        step_inx += 1\n",
    "        is_normalizable = False\n",
    "        for norm_params in norm_steps_list[step_inx]:\n",
    "            if len(norm_params[\"redex_indexes\"]) > 0:\n",
    "                is_normalizable = True\n",
    "                break\n",
    "    return norm_steps_list"
   ],
   "metadata": {
    "collapsed": false,
    "ExecuteTime": {
     "end_time": "2023-07-20T00:43:53.265606363Z",
     "start_time": "2023-07-20T00:43:53.234243650Z"
    }
   }
  },
  {
   "cell_type": "code",
   "execution_count": 4,
   "outputs": [
    {
     "data": {
      "text/plain": "226"
     },
     "execution_count": 4,
     "metadata": {},
     "output_type": "execute_result"
    }
   ],
   "source": [
    "len(terms_LO)"
   ],
   "metadata": {
    "collapsed": false,
    "ExecuteTime": {
     "end_time": "2023-07-20T00:43:53.266104997Z",
     "start_time": "2023-07-20T00:43:53.248653514Z"
    }
   }
  },
  {
   "cell_type": "code",
   "execution_count": 5,
   "outputs": [],
   "source": [
    "def gen_norm_tree_data(terms_list):\n",
    "    for inx_term in tqdm(range(223, len(terms_list))):\n",
    "        try:\n",
    "            term_steps_data = tree_normalize_with_params(terms_list[inx_term], max_count_step_term=200, vertices_lim=3_000, steps=40)\n",
    "        except:\n",
    "            continue\n",
    "\n",
    "        tsd_df = pd.DataFrame(columns=[\n",
    "            \"vertices_pre\", \"redexes_pre\", \"height_pre\", \"width_pre\",\n",
    "            \"vertices_post\", \"redexes_post\", \"height_post\", \"width_post\",\n",
    "            \"redex_depth\", \"redex_index\", \"step_time\"\n",
    "        ])\n",
    "\n",
    "        for inx in range(1, len(term_steps_data)):\n",
    "            for post_term_data in term_steps_data[inx]:\n",
    "                prev_term_redex_info = post_term_data[\"prev_term_redex\"]\n",
    "                pre_term_data = term_steps_data[inx - 1][prev_term_redex_info[0]]\n",
    "\n",
    "                term_data_dict = {\n",
    "                    \"vertices_pre\": [pre_term_data[\"term\"].vertices_number],\n",
    "                    \"redexes_pre\": [len(pre_term_data[\"term\"].redexes)],\n",
    "                    \"height_pre\": [pre_term_data[\"term\"].term_height],\n",
    "                    \"width_pre\": [pre_term_data[\"term\"].term_width],\n",
    "\n",
    "                    \"vertices_post\": [post_term_data[\"term\"].vertices_number],\n",
    "                    \"redexes_post\": [len(post_term_data[\"term\"].redexes)],\n",
    "                    \"height_post\": [post_term_data[\"term\"].term_height],\n",
    "                    \"width_post\": [post_term_data[\"term\"].term_width],\n",
    "\n",
    "                    \"redex_depth\": [pre_term_data[\"term\"].redex_depth(prev_term_redex_info[1])],\n",
    "                    \"redex_index\": [prev_term_redex_info[1]],\n",
    "                    \"step_time\": [post_term_data[\"step_time\"]],\n",
    "                }\n",
    "\n",
    "                term_data_dict[\"vertices_diff\"] = [\n",
    "                    term_data_dict[\"vertices_pre\"][0] - term_data_dict[\"vertices_post\"][0]]\n",
    "                term_data_dict[\"redexes_diff\"] = [term_data_dict[\"redexes_pre\"][0] - term_data_dict[\"redexes_post\"][0]]\n",
    "                term_data_dict[\"height_diff\"] = [term_data_dict[\"height_pre\"][0] - term_data_dict[\"height_post\"][0]]\n",
    "                term_data_dict[\"width_diff\"] = [term_data_dict[\"width_pre\"][0] - term_data_dict[\"width_post\"][0]]\n",
    "\n",
    "                tsd_df = pd.concat([tsd_df, pd.DataFrame(term_data_dict)], ignore_index=True).reset_index(drop=True)\n",
    "\n",
    "        tsd_df.to_csv(f\"./collected_data/tree_reduction_t_{inx_term}.csv\")"
   ],
   "metadata": {
    "collapsed": false,
    "ExecuteTime": {
     "end_time": "2023-07-20T00:43:53.345981693Z",
     "start_time": "2023-07-20T00:43:53.252669878Z"
    }
   }
  },
  {
   "cell_type": "code",
   "execution_count": 6,
   "outputs": [
    {
     "name": "stderr",
     "output_type": "stream",
     "text": [
      "100%|██████████| 3/3 [00:23<00:00,  7.74s/it]\n"
     ]
    }
   ],
   "source": [
    "gen_norm_tree_data(terms_LO)"
   ],
   "metadata": {
    "collapsed": false,
    "ExecuteTime": {
     "end_time": "2023-07-20T00:44:16.508462943Z",
     "start_time": "2023-07-20T00:43:53.304677462Z"
    }
   }
  },
  {
   "cell_type": "code",
   "execution_count": null,
   "outputs": [],
   "source": [],
   "metadata": {
    "collapsed": false
   }
  },
  {
   "cell_type": "code",
   "execution_count": null,
   "outputs": [],
   "source": [
    "terms_LO[0]"
   ],
   "metadata": {
    "collapsed": false
   }
  },
  {
   "cell_type": "code",
   "execution_count": null,
   "outputs": [],
   "source": [
    "term_0_norm_tree = tree_normalize_with_params(terms_LO[0], vertices_lim=3_000, steps=30)"
   ],
   "metadata": {
    "collapsed": false
   }
  },
  {
   "cell_type": "code",
   "execution_count": null,
   "outputs": [],
   "source": [
    "len(term_0_norm_tree)"
   ],
   "metadata": {
    "collapsed": false
   }
  },
  {
   "cell_type": "code",
   "execution_count": null,
   "outputs": [],
   "source": [
    "for inx, rec in enumerate(term_0_norm_tree):\n",
    "    print(f\"{inx}\")\n",
    "    for iinx, irec in enumerate(rec):\n",
    "        print(iinx, irec)\n",
    "    print(\"\\n\\n\\n\")"
   ],
   "metadata": {
    "collapsed": false
   }
  },
  {
   "cell_type": "code",
   "execution_count": null,
   "outputs": [],
   "source": [],
   "metadata": {
    "collapsed": false
   }
  }
 ],
 "metadata": {
  "kernelspec": {
   "display_name": "Python 3",
   "language": "python",
   "name": "python3"
  },
  "language_info": {
   "codemirror_mode": {
    "name": "ipython",
    "version": 2
   },
   "file_extension": ".py",
   "mimetype": "text/x-python",
   "name": "python",
   "nbconvert_exporter": "python",
   "pygments_lexer": "ipython2",
   "version": "2.7.6"
  }
 },
 "nbformat": 4,
 "nbformat_minor": 0
}
