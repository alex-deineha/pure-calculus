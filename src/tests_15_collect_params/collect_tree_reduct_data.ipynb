{
 "cells": [
  {
   "cell_type": "code",
   "execution_count": 1,
   "metadata": {
    "collapsed": true,
    "ExecuteTime": {
     "start_time": "2023-07-20T15:50:22.197553Z",
     "end_time": "2023-07-20T15:50:22.532757Z"
    }
   },
   "outputs": [],
   "source": [
    "import sys\n",
    "import re\n",
    "import random\n",
    "import time\n",
    "import os\n",
    "\n",
    "from tqdm import tqdm\n",
    "\n",
    "import matplotlib.pyplot as plt\n",
    "import pandas as pd\n",
    "import seaborn as sns\n",
    "import numpy as np\n",
    "from collections import Counter\n",
    "from joypy import joyplot\n",
    "\n",
    "sys.path.append(\"../\")\n",
    "from calculus_path_mod.term_engine import *\n",
    "from calculus_path_mod.reduction_strategy import *\n",
    "from calculus_path_mod.terms import num_comparison, nat_numbers, arithm_ops, combinators, pairs, logic\n",
    "from calculus_path_mod.terms.pseudonym import *\n",
    "\n",
    "from calculus_path_mod.json_serialization import load_terms\n",
    "from fitter import Fitter, get_common_distributions\n",
    "from calculus_utils.drawing import draw_steps_displot"
   ]
  },
  {
   "cell_type": "markdown",
   "source": [
    "# Load Terms filtered LO"
   ],
   "metadata": {
    "collapsed": false
   }
  },
  {
   "cell_type": "code",
   "execution_count": 2,
   "outputs": [],
   "source": [
    "terms_LO = load_terms(\"../tests_11_retests/terms_210_filtered_LO.dat\")\n",
    "# terms_RI = load_terms(\"../tests_11_retests/terms_210_filtered_RI.dat\")"
   ],
   "metadata": {
    "collapsed": false,
    "ExecuteTime": {
     "start_time": "2023-07-20T15:50:29.641223Z",
     "end_time": "2023-07-20T15:50:29.663442Z"
    }
   }
  },
  {
   "cell_type": "code",
   "execution_count": 5,
   "outputs": [],
   "source": [
    "from calculus_path_mod.reduction_strategy import RandomOuterStrategy\n",
    "\n",
    "ro_strategy = RandomOuterStrategy()\n",
    "\n",
    "\n",
    "def tree_normalize_with_params(term, is_limited=True, max_count_step_term=400, steps=400, vertices_lim=7_000):\n",
    "    norm_steps_list = []\n",
    "\n",
    "    try:\n",
    "        dict_redexes_indexes = ro_strategy._get_redexes_indexes(term)\n",
    "    except ValueError:\n",
    "        dict_redexes_indexes = dict()\n",
    "    norm_params = {\n",
    "        \"term\": term,\n",
    "        \"prev_term_redex\": (0, -1),\n",
    "        \"redex_depths\": list(dict_redexes_indexes.values()),\n",
    "        \"redex_indexes\": list(dict_redexes_indexes.keys()),\n",
    "        \"step_time\": 0.0,\n",
    "    }\n",
    "\n",
    "    norm_steps_list.append([norm_params, ])\n",
    "    step_inx = 0\n",
    "    is_normalizable = len(norm_params[\"redex_indexes\"]) > 0\n",
    "\n",
    "    while is_normalizable:\n",
    "        norm_steps_list.append(list())\n",
    "        iter_indexes = range(len(norm_steps_list[step_inx]))\n",
    "        iter_indexes = iter_indexes if len(norm_steps_list[step_inx]) < max_count_step_term else random.sample(\n",
    "            iter_indexes, max_count_step_term)\n",
    "        for inx in iter_indexes:\n",
    "            for redex_index in norm_steps_list[step_inx][inx][\"redex_indexes\"]:\n",
    "                if is_limited and norm_steps_list[step_inx][inx][\"term\"].vertices_number > vertices_lim:\n",
    "                    continue\n",
    "                start_time = time.process_time_ns()\n",
    "                reduced_term = norm_steps_list[step_inx][inx][\"term\"]._update_bound_vars()\n",
    "                reduced_term = reduced_term._beta_conversion_visual(redex_index)\n",
    "                end_time = time.process_time_ns()\n",
    "\n",
    "                try:\n",
    "                    dict_redexes_indexes = ro_strategy._get_redexes_indexes(reduced_term)\n",
    "                except ValueError:\n",
    "                    dict_redexes_indexes = dict()\n",
    "                norm_params = {\n",
    "                    \"term\": reduced_term,\n",
    "                    \"prev_term_redex\": (inx, redex_index),\n",
    "                    \"redex_depths\": list(dict_redexes_indexes.values()),\n",
    "                    \"redex_indexes\": list(dict_redexes_indexes.keys()),\n",
    "                    \"step_time\": end_time - start_time,\n",
    "                }\n",
    "\n",
    "                norm_steps_list[step_inx + 1].append(norm_params)\n",
    "\n",
    "        if is_limited and step_inx == steps:\n",
    "            break\n",
    "\n",
    "        step_inx += 1\n",
    "        is_normalizable = False\n",
    "        for norm_params in norm_steps_list[step_inx]:\n",
    "            if len(norm_params[\"redex_indexes\"]) > 0:\n",
    "                is_normalizable = True\n",
    "                break\n",
    "    return norm_steps_list"
   ],
   "metadata": {
    "collapsed": false,
    "ExecuteTime": {
     "start_time": "2023-07-20T15:50:52.725424Z",
     "end_time": "2023-07-20T15:50:52.732053Z"
    }
   }
  },
  {
   "cell_type": "code",
   "execution_count": 4,
   "outputs": [
    {
     "data": {
      "text/plain": "226"
     },
     "execution_count": 4,
     "metadata": {},
     "output_type": "execute_result"
    }
   ],
   "source": [
    "len(terms_LO)"
   ],
   "metadata": {
    "collapsed": false,
    "ExecuteTime": {
     "end_time": "2023-07-20T00:43:53.266104997Z",
     "start_time": "2023-07-20T00:43:53.248653514Z"
    }
   }
  },
  {
   "cell_type": "code",
   "execution_count": 5,
   "outputs": [],
   "source": [
    "def gen_norm_tree_data(terms_list):\n",
    "    for inx_term in tqdm(range(223, len(terms_list))):\n",
    "        try:\n",
    "            term_steps_data = tree_normalize_with_params(terms_list[inx_term], max_count_step_term=200, vertices_lim=3_000, steps=40)\n",
    "        except:\n",
    "            continue\n",
    "\n",
    "        tsd_df = pd.DataFrame(columns=[\n",
    "            \"vertices_pre\", \"redexes_pre\", \"height_pre\", \"width_pre\",\n",
    "            \"vertices_post\", \"redexes_post\", \"height_post\", \"width_post\",\n",
    "            \"redex_depth\", \"redex_index\", \"step_time\"\n",
    "        ])\n",
    "\n",
    "        for inx in range(1, len(term_steps_data)):\n",
    "            for post_term_data in term_steps_data[inx]:\n",
    "                prev_term_redex_info = post_term_data[\"prev_term_redex\"]\n",
    "                pre_term_data = term_steps_data[inx - 1][prev_term_redex_info[0]]\n",
    "\n",
    "                term_data_dict = {\n",
    "                    \"vertices_pre\": [pre_term_data[\"term\"].vertices_number],\n",
    "                    \"redexes_pre\": [len(pre_term_data[\"term\"].redexes)],\n",
    "                    \"height_pre\": [pre_term_data[\"term\"].term_height],\n",
    "                    \"width_pre\": [pre_term_data[\"term\"].term_width],\n",
    "\n",
    "                    \"vertices_post\": [post_term_data[\"term\"].vertices_number],\n",
    "                    \"redexes_post\": [len(post_term_data[\"term\"].redexes)],\n",
    "                    \"height_post\": [post_term_data[\"term\"].term_height],\n",
    "                    \"width_post\": [post_term_data[\"term\"].term_width],\n",
    "\n",
    "                    \"redex_depth\": [pre_term_data[\"term\"].redex_depth(prev_term_redex_info[1])],\n",
    "                    \"redex_index\": [prev_term_redex_info[1]],\n",
    "                    \"step_time\": [post_term_data[\"step_time\"]],\n",
    "                }\n",
    "\n",
    "                term_data_dict[\"vertices_diff\"] = [\n",
    "                    term_data_dict[\"vertices_pre\"][0] - term_data_dict[\"vertices_post\"][0]]\n",
    "                term_data_dict[\"redexes_diff\"] = [term_data_dict[\"redexes_pre\"][0] - term_data_dict[\"redexes_post\"][0]]\n",
    "                term_data_dict[\"height_diff\"] = [term_data_dict[\"height_pre\"][0] - term_data_dict[\"height_post\"][0]]\n",
    "                term_data_dict[\"width_diff\"] = [term_data_dict[\"width_pre\"][0] - term_data_dict[\"width_post\"][0]]\n",
    "\n",
    "                tsd_df = pd.concat([tsd_df, pd.DataFrame(term_data_dict)], ignore_index=True).reset_index(drop=True)\n",
    "\n",
    "        tsd_df.to_csv(f\"./collected_data/tree_reduction_t_{inx_term}.csv\")"
   ],
   "metadata": {
    "collapsed": false,
    "ExecuteTime": {
     "end_time": "2023-07-20T00:43:53.345981693Z",
     "start_time": "2023-07-20T00:43:53.252669878Z"
    }
   }
  },
  {
   "cell_type": "code",
   "execution_count": 6,
   "outputs": [
    {
     "name": "stderr",
     "output_type": "stream",
     "text": [
      "100%|██████████| 3/3 [00:23<00:00,  7.74s/it]\n"
     ]
    }
   ],
   "source": [
    "gen_norm_tree_data(terms_LO)"
   ],
   "metadata": {
    "collapsed": false,
    "ExecuteTime": {
     "end_time": "2023-07-20T00:44:16.508462943Z",
     "start_time": "2023-07-20T00:43:53.304677462Z"
    }
   }
  },
  {
   "cell_type": "code",
   "execution_count": null,
   "outputs": [],
   "source": [],
   "metadata": {
    "collapsed": false
   }
  },
  {
   "cell_type": "markdown",
   "source": [
    "# Fix the data"
   ],
   "metadata": {
    "collapsed": false
   }
  },
  {
   "cell_type": "code",
   "execution_count": 9,
   "outputs": [
    {
     "name": "stdout",
     "output_type": "stream",
     "text": [
      "['tree_reduction_t_0.csv', 'tree_reduction_t_1.csv', 'tree_reduction_t_10.csv', 'tree_reduction_t_100.csv', 'tree_reduction_t_101.csv', 'tree_reduction_t_102.csv', 'tree_reduction_t_103.csv', 'tree_reduction_t_104.csv', 'tree_reduction_t_105.csv', 'tree_reduction_t_106.csv', 'tree_reduction_t_107.csv', 'tree_reduction_t_108.csv', 'tree_reduction_t_109.csv', 'tree_reduction_t_11.csv', 'tree_reduction_t_110.csv', 'tree_reduction_t_111.csv', 'tree_reduction_t_112.csv', 'tree_reduction_t_113.csv', 'tree_reduction_t_114.csv', 'tree_reduction_t_115.csv', 'tree_reduction_t_116.csv', 'tree_reduction_t_117.csv', 'tree_reduction_t_118.csv', 'tree_reduction_t_119.csv', 'tree_reduction_t_12.csv', 'tree_reduction_t_120.csv', 'tree_reduction_t_121.csv', 'tree_reduction_t_122.csv', 'tree_reduction_t_123.csv', 'tree_reduction_t_124.csv', 'tree_reduction_t_125.csv', 'tree_reduction_t_126.csv', 'tree_reduction_t_127.csv', 'tree_reduction_t_128.csv', 'tree_reduction_t_129.csv', 'tree_reduction_t_13.csv', 'tree_reduction_t_130.csv', 'tree_reduction_t_131.csv', 'tree_reduction_t_132.csv', 'tree_reduction_t_133.csv', 'tree_reduction_t_134.csv', 'tree_reduction_t_135.csv', 'tree_reduction_t_136.csv', 'tree_reduction_t_137.csv', 'tree_reduction_t_138.csv', 'tree_reduction_t_139.csv', 'tree_reduction_t_14.csv', 'tree_reduction_t_140.csv', 'tree_reduction_t_141.csv', 'tree_reduction_t_142.csv', 'tree_reduction_t_144.csv', 'tree_reduction_t_145.csv', 'tree_reduction_t_146.csv', 'tree_reduction_t_147.csv', 'tree_reduction_t_148.csv', 'tree_reduction_t_149.csv', 'tree_reduction_t_15.csv', 'tree_reduction_t_150.csv', 'tree_reduction_t_151.csv', 'tree_reduction_t_152.csv', 'tree_reduction_t_153.csv', 'tree_reduction_t_154.csv', 'tree_reduction_t_155.csv', 'tree_reduction_t_156.csv', 'tree_reduction_t_157.csv', 'tree_reduction_t_158.csv', 'tree_reduction_t_159.csv', 'tree_reduction_t_16.csv', 'tree_reduction_t_160.csv', 'tree_reduction_t_161.csv', 'tree_reduction_t_162.csv', 'tree_reduction_t_163.csv', 'tree_reduction_t_164.csv', 'tree_reduction_t_165.csv', 'tree_reduction_t_166.csv', 'tree_reduction_t_167.csv', 'tree_reduction_t_168.csv', 'tree_reduction_t_169.csv', 'tree_reduction_t_17.csv', 'tree_reduction_t_170.csv', 'tree_reduction_t_171.csv', 'tree_reduction_t_172.csv', 'tree_reduction_t_173.csv', 'tree_reduction_t_174.csv', 'tree_reduction_t_175.csv', 'tree_reduction_t_176.csv', 'tree_reduction_t_177.csv', 'tree_reduction_t_178.csv', 'tree_reduction_t_179.csv', 'tree_reduction_t_18.csv', 'tree_reduction_t_180.csv', 'tree_reduction_t_181.csv', 'tree_reduction_t_182.csv', 'tree_reduction_t_183.csv', 'tree_reduction_t_184.csv', 'tree_reduction_t_185.csv', 'tree_reduction_t_186.csv', 'tree_reduction_t_187.csv', 'tree_reduction_t_188.csv', 'tree_reduction_t_189.csv', 'tree_reduction_t_19.csv', 'tree_reduction_t_190.csv', 'tree_reduction_t_191.csv', 'tree_reduction_t_192.csv', 'tree_reduction_t_193.csv', 'tree_reduction_t_194.csv', 'tree_reduction_t_195.csv', 'tree_reduction_t_196.csv', 'tree_reduction_t_197.csv', 'tree_reduction_t_198.csv', 'tree_reduction_t_199.csv', 'tree_reduction_t_2.csv', 'tree_reduction_t_20.csv', 'tree_reduction_t_200.csv', 'tree_reduction_t_201.csv', 'tree_reduction_t_202.csv', 'tree_reduction_t_203.csv', 'tree_reduction_t_204.csv', 'tree_reduction_t_205.csv', 'tree_reduction_t_206.csv', 'tree_reduction_t_207.csv', 'tree_reduction_t_208.csv', 'tree_reduction_t_209.csv', 'tree_reduction_t_211.csv', 'tree_reduction_t_213.csv', 'tree_reduction_t_215.csv', 'tree_reduction_t_216.csv', 'tree_reduction_t_217.csv', 'tree_reduction_t_218.csv', 'tree_reduction_t_219.csv', 'tree_reduction_t_22.csv', 'tree_reduction_t_220.csv', 'tree_reduction_t_221.csv', 'tree_reduction_t_223.csv', 'tree_reduction_t_224.csv', 'tree_reduction_t_225.csv', 'tree_reduction_t_23.csv', 'tree_reduction_t_24.csv', 'tree_reduction_t_25.csv', 'tree_reduction_t_26.csv', 'tree_reduction_t_27.csv', 'tree_reduction_t_28.csv', 'tree_reduction_t_29.csv', 'tree_reduction_t_3.csv', 'tree_reduction_t_30.csv', 'tree_reduction_t_31.csv', 'tree_reduction_t_32.csv', 'tree_reduction_t_33.csv', 'tree_reduction_t_34.csv', 'tree_reduction_t_35.csv', 'tree_reduction_t_36.csv', 'tree_reduction_t_37.csv', 'tree_reduction_t_38.csv', 'tree_reduction_t_4.csv', 'tree_reduction_t_40.csv', 'tree_reduction_t_41.csv', 'tree_reduction_t_42.csv', 'tree_reduction_t_44.csv', 'tree_reduction_t_45.csv', 'tree_reduction_t_46.csv', 'tree_reduction_t_47.csv', 'tree_reduction_t_48.csv', 'tree_reduction_t_49.csv', 'tree_reduction_t_5.csv', 'tree_reduction_t_50.csv', 'tree_reduction_t_51.csv', 'tree_reduction_t_52.csv', 'tree_reduction_t_53.csv', 'tree_reduction_t_54.csv', 'tree_reduction_t_55.csv', 'tree_reduction_t_56.csv', 'tree_reduction_t_57.csv', 'tree_reduction_t_58.csv', 'tree_reduction_t_59.csv', 'tree_reduction_t_6.csv', 'tree_reduction_t_60.csv', 'tree_reduction_t_61.csv', 'tree_reduction_t_62.csv', 'tree_reduction_t_63.csv', 'tree_reduction_t_64.csv', 'tree_reduction_t_65.csv', 'tree_reduction_t_66.csv', 'tree_reduction_t_67.csv', 'tree_reduction_t_69.csv', 'tree_reduction_t_7.csv', 'tree_reduction_t_70.csv', 'tree_reduction_t_71.csv', 'tree_reduction_t_72.csv', 'tree_reduction_t_73.csv', 'tree_reduction_t_74.csv', 'tree_reduction_t_75.csv', 'tree_reduction_t_76.csv', 'tree_reduction_t_77.csv', 'tree_reduction_t_79.csv', 'tree_reduction_t_8.csv', 'tree_reduction_t_80.csv', 'tree_reduction_t_81.csv', 'tree_reduction_t_82.csv', 'tree_reduction_t_83.csv', 'tree_reduction_t_84.csv', 'tree_reduction_t_85.csv', 'tree_reduction_t_86.csv', 'tree_reduction_t_87.csv', 'tree_reduction_t_88.csv', 'tree_reduction_t_89.csv', 'tree_reduction_t_9.csv', 'tree_reduction_t_90.csv', 'tree_reduction_t_91.csv', 'tree_reduction_t_92.csv', 'tree_reduction_t_94.csv', 'tree_reduction_t_95.csv', 'tree_reduction_t_96.csv', 'tree_reduction_t_97.csv', 'tree_reduction_t_99.csv']\n"
     ]
    }
   ],
   "source": [
    "path = \"./collected_data/\"\n",
    "dir_list = os.listdir(path)\n",
    "print(dir_list)"
   ],
   "metadata": {
    "collapsed": false,
    "ExecuteTime": {
     "start_time": "2023-07-20T15:54:10.346697Z",
     "end_time": "2023-07-20T15:54:10.357719Z"
    }
   }
  },
  {
   "cell_type": "code",
   "execution_count": 10,
   "outputs": [
    {
     "data": {
      "text/plain": "   Unnamed: 0  vertices_pre  redexes_pre  height_pre  width_pre  \\\n0           0            53            3          15         21   \n1           1            53            3          15         21   \n2           2            53            3          15         21   \n3           3            50            2          15         20   \n4           4            50            2          15         20   \n\n   vertices_post  redexes_post  height_post  width_post  redex_depth  \\\n0              7             0            3           2            1   \n1             50             2           15          20            4   \n2             30             2            9          11            5   \n3              7             0            3           2            1   \n4             27             1            8          10            5   \n\n   redex_index  step_time  vertices_diff  redexes_diff  height_diff  \\\n0            1    -161100           46.0           3.0         12.0   \n1           12    -129837            3.0           1.0          0.0   \n2           30    -141100           23.0           1.0          6.0   \n3            1    -110351           43.0           2.0         12.0   \n4           27    -126194           23.0           1.0          7.0   \n\n   width_diff  \n0        19.0  \n1         1.0  \n2        10.0  \n3        18.0  \n4        10.0  ",
      "text/html": "<div>\n<style scoped>\n    .dataframe tbody tr th:only-of-type {\n        vertical-align: middle;\n    }\n\n    .dataframe tbody tr th {\n        vertical-align: top;\n    }\n\n    .dataframe thead th {\n        text-align: right;\n    }\n</style>\n<table border=\"1\" class=\"dataframe\">\n  <thead>\n    <tr style=\"text-align: right;\">\n      <th></th>\n      <th>Unnamed: 0</th>\n      <th>vertices_pre</th>\n      <th>redexes_pre</th>\n      <th>height_pre</th>\n      <th>width_pre</th>\n      <th>vertices_post</th>\n      <th>redexes_post</th>\n      <th>height_post</th>\n      <th>width_post</th>\n      <th>redex_depth</th>\n      <th>redex_index</th>\n      <th>step_time</th>\n      <th>vertices_diff</th>\n      <th>redexes_diff</th>\n      <th>height_diff</th>\n      <th>width_diff</th>\n    </tr>\n  </thead>\n  <tbody>\n    <tr>\n      <th>0</th>\n      <td>0</td>\n      <td>53</td>\n      <td>3</td>\n      <td>15</td>\n      <td>21</td>\n      <td>7</td>\n      <td>0</td>\n      <td>3</td>\n      <td>2</td>\n      <td>1</td>\n      <td>1</td>\n      <td>-161100</td>\n      <td>46.0</td>\n      <td>3.0</td>\n      <td>12.0</td>\n      <td>19.0</td>\n    </tr>\n    <tr>\n      <th>1</th>\n      <td>1</td>\n      <td>53</td>\n      <td>3</td>\n      <td>15</td>\n      <td>21</td>\n      <td>50</td>\n      <td>2</td>\n      <td>15</td>\n      <td>20</td>\n      <td>4</td>\n      <td>12</td>\n      <td>-129837</td>\n      <td>3.0</td>\n      <td>1.0</td>\n      <td>0.0</td>\n      <td>1.0</td>\n    </tr>\n    <tr>\n      <th>2</th>\n      <td>2</td>\n      <td>53</td>\n      <td>3</td>\n      <td>15</td>\n      <td>21</td>\n      <td>30</td>\n      <td>2</td>\n      <td>9</td>\n      <td>11</td>\n      <td>5</td>\n      <td>30</td>\n      <td>-141100</td>\n      <td>23.0</td>\n      <td>1.0</td>\n      <td>6.0</td>\n      <td>10.0</td>\n    </tr>\n    <tr>\n      <th>3</th>\n      <td>3</td>\n      <td>50</td>\n      <td>2</td>\n      <td>15</td>\n      <td>20</td>\n      <td>7</td>\n      <td>0</td>\n      <td>3</td>\n      <td>2</td>\n      <td>1</td>\n      <td>1</td>\n      <td>-110351</td>\n      <td>43.0</td>\n      <td>2.0</td>\n      <td>12.0</td>\n      <td>18.0</td>\n    </tr>\n    <tr>\n      <th>4</th>\n      <td>4</td>\n      <td>50</td>\n      <td>2</td>\n      <td>15</td>\n      <td>20</td>\n      <td>27</td>\n      <td>1</td>\n      <td>8</td>\n      <td>10</td>\n      <td>5</td>\n      <td>27</td>\n      <td>-126194</td>\n      <td>23.0</td>\n      <td>1.0</td>\n      <td>7.0</td>\n      <td>10.0</td>\n    </tr>\n  </tbody>\n</table>\n</div>"
     },
     "execution_count": 10,
     "metadata": {},
     "output_type": "execute_result"
    }
   ],
   "source": [
    "pd.read_csv(path + \"/\" + dir_list[0]).head()"
   ],
   "metadata": {
    "collapsed": false,
    "ExecuteTime": {
     "start_time": "2023-07-20T15:54:14.333866Z",
     "end_time": "2023-07-20T15:54:14.362480Z"
    }
   }
  },
  {
   "cell_type": "code",
   "execution_count": 14,
   "outputs": [],
   "source": [
    "for file_name in dir_list:\n",
    "    file_path = path + \"/\" + file_name\n",
    "    data = pd.read_csv(file_path)\n",
    "    data = data[[ri != -1 for ri in data[\"redex_index\"]]]\n",
    "    data = data.drop('Unnamed: 0', axis=1)\n",
    "    data[\"step_time\"] = np.array(data[\"step_time\"]) * -1\n",
    "    data.to_csv(file_path, index=False)"
   ],
   "metadata": {
    "collapsed": false,
    "ExecuteTime": {
     "start_time": "2023-07-20T15:56:27.815414Z",
     "end_time": "2023-07-20T15:56:40.935149Z"
    }
   }
  },
  {
   "cell_type": "code",
   "execution_count": null,
   "outputs": [],
   "source": [],
   "metadata": {
    "collapsed": false
   }
  },
  {
   "cell_type": "code",
   "execution_count": null,
   "outputs": [],
   "source": [],
   "metadata": {
    "collapsed": false
   }
  },
  {
   "cell_type": "code",
   "execution_count": null,
   "outputs": [],
   "source": [],
   "metadata": {
    "collapsed": false
   }
  },
  {
   "cell_type": "code",
   "execution_count": null,
   "outputs": [],
   "source": [],
   "metadata": {
    "collapsed": false
   }
  },
  {
   "cell_type": "code",
   "execution_count": null,
   "outputs": [],
   "source": [],
   "metadata": {
    "collapsed": false
   }
  },
  {
   "cell_type": "code",
   "execution_count": null,
   "outputs": [],
   "source": [],
   "metadata": {
    "collapsed": false
   }
  },
  {
   "cell_type": "code",
   "execution_count": null,
   "outputs": [],
   "source": [],
   "metadata": {
    "collapsed": false
   }
  },
  {
   "cell_type": "markdown",
   "source": [
    "# just example of tree reduction"
   ],
   "metadata": {
    "collapsed": false
   }
  },
  {
   "cell_type": "code",
   "execution_count": 3,
   "outputs": [
    {
     "data": {
      "text/plain": "<calculus_path_mod.term_engine.Application at 0x232c0f06390>"
     },
     "execution_count": 3,
     "metadata": {},
     "output_type": "execute_result"
    }
   ],
   "source": [
    "terms_LO[0]"
   ],
   "metadata": {
    "collapsed": false,
    "ExecuteTime": {
     "start_time": "2023-07-20T15:50:34.981420Z",
     "end_time": "2023-07-20T15:50:34.993064Z"
    }
   }
  },
  {
   "cell_type": "code",
   "execution_count": 6,
   "outputs": [],
   "source": [
    "term_0_norm_tree = tree_normalize_with_params(terms_LO[0], vertices_lim=3_000, steps=30)"
   ],
   "metadata": {
    "collapsed": false,
    "ExecuteTime": {
     "start_time": "2023-07-20T15:51:00.705150Z",
     "end_time": "2023-07-20T15:51:00.718880Z"
    }
   }
  },
  {
   "cell_type": "code",
   "execution_count": 7,
   "outputs": [
    {
     "data": {
      "text/plain": "4"
     },
     "execution_count": 7,
     "metadata": {},
     "output_type": "execute_result"
    }
   ],
   "source": [
    "len(term_0_norm_tree)"
   ],
   "metadata": {
    "collapsed": false,
    "ExecuteTime": {
     "start_time": "2023-07-20T15:51:01.720419Z",
     "end_time": "2023-07-20T15:51:01.729716Z"
    }
   }
  },
  {
   "cell_type": "code",
   "execution_count": 8,
   "outputs": [
    {
     "name": "stdout",
     "output_type": "stream",
     "text": [
      "0\n",
      "0 {'term': <calculus_path_mod.term_engine.Application object at 0x00000232C0F06390>, 'prev_term_redex': (0, -1), 'redex_depths': [1, 4, 5], 'redex_indexes': [1, 12, 30], 'step_time': 0.0}\n",
      "\n",
      "\n",
      "\n",
      "\n",
      "1\n",
      "0 {'term': <calculus_path_mod.term_engine.Abstraction object at 0x00000232C1550A50>, 'prev_term_redex': (0, 1), 'redex_depths': [], 'redex_indexes': [], 'step_time': 0}\n",
      "1 {'term': <calculus_path_mod.term_engine.Application object at 0x00000232C1551090>, 'prev_term_redex': (0, 12), 'redex_depths': [1, 5], 'redex_indexes': [1, 27], 'step_time': 0}\n",
      "2 {'term': <calculus_path_mod.term_engine.Application object at 0x00000232C1550E10>, 'prev_term_redex': (0, 30), 'redex_depths': [1, 4], 'redex_indexes': [1, 12], 'step_time': 0}\n",
      "\n",
      "\n",
      "\n",
      "\n",
      "2\n",
      "0 {'term': <calculus_path_mod.term_engine.Abstraction object at 0x00000232C10B4D50>, 'prev_term_redex': (1, 1), 'redex_depths': [], 'redex_indexes': [], 'step_time': 0}\n",
      "1 {'term': <calculus_path_mod.term_engine.Application object at 0x00000232C154EF10>, 'prev_term_redex': (1, 27), 'redex_depths': [1], 'redex_indexes': [1], 'step_time': 0}\n",
      "2 {'term': <calculus_path_mod.term_engine.Abstraction object at 0x00000232C154F910>, 'prev_term_redex': (2, 1), 'redex_depths': [], 'redex_indexes': [], 'step_time': 0}\n",
      "3 {'term': <calculus_path_mod.term_engine.Application object at 0x00000232C154EF90>, 'prev_term_redex': (2, 12), 'redex_depths': [1], 'redex_indexes': [1], 'step_time': 0}\n",
      "\n",
      "\n",
      "\n",
      "\n",
      "3\n",
      "0 {'term': <calculus_path_mod.term_engine.Abstraction object at 0x00000232C1515510>, 'prev_term_redex': (1, 1), 'redex_depths': [], 'redex_indexes': [], 'step_time': 0}\n",
      "1 {'term': <calculus_path_mod.term_engine.Abstraction object at 0x00000232C1515550>, 'prev_term_redex': (3, 1), 'redex_depths': [], 'redex_indexes': [], 'step_time': 0}\n",
      "\n",
      "\n",
      "\n",
      "\n"
     ]
    }
   ],
   "source": [
    "for inx, rec in enumerate(term_0_norm_tree):\n",
    "    print(f\"{inx}\")\n",
    "    for iinx, irec in enumerate(rec):\n",
    "        print(iinx, irec)\n",
    "    print(\"\\n\\n\\n\")"
   ],
   "metadata": {
    "collapsed": false,
    "ExecuteTime": {
     "start_time": "2023-07-20T15:51:02.424576Z",
     "end_time": "2023-07-20T15:51:02.428854Z"
    }
   }
  }
 ],
 "metadata": {
  "kernelspec": {
   "display_name": "Python 3",
   "language": "python",
   "name": "python3"
  },
  "language_info": {
   "codemirror_mode": {
    "name": "ipython",
    "version": 2
   },
   "file_extension": ".py",
   "mimetype": "text/x-python",
   "name": "python",
   "nbconvert_exporter": "python",
   "pygments_lexer": "ipython2",
   "version": "2.7.6"
  }
 },
 "nbformat": 4,
 "nbformat_minor": 0
}
