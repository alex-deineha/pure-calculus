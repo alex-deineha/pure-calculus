{
 "cells": [
  {
   "cell_type": "code",
   "execution_count": null,
   "metadata": {
    "collapsed": true
   },
   "outputs": [],
   "source": [
    "import random"
   ]
  },
  {
   "cell_type": "markdown",
   "source": [
    "# **Pure $\\lambda$-Calculus**\n",
    "\n",
    "[The deatailed script](https://www.mathcha.io/editor/Pvvz5UZ1t7ktL6sZJYp19sZnX9vVserJMEKhJvvMx7)"
   ],
   "metadata": {
    "collapsed": false
   }
  },
  {
   "cell_type": "markdown",
   "source": [
    "## **Variables**\n",
    "\n",
    "The code below models variables.\n",
    "\n",
    "Using the `natgen()` generator in this code ensures that a fresh variable is returned in response to each constructor call."
   ],
   "metadata": {
    "collapsed": false
   }
  },
  {
   "cell_type": "markdown",
   "source": [
    "## Import dependencies"
   ],
   "metadata": {
    "collapsed": false
   }
  },
  {
   "cell_type": "code",
   "execution_count": null,
   "outputs": [],
   "source": [
    "import numpy as np\n",
    "import pandas as pd\n",
    "import sys\n",
    "import matplotlib.pyplot as plt\n",
    "from fitter import Fitter, get_common_distributions\n",
    "from deap import tools, base, creator\n",
    "import seaborn as sns\n",
    "\n",
    "sys.path.append('../')\n",
    "from calculus.term import *\n",
    "from calculus.strategy import *\n",
    "from calculus.generation import gen_filtered_lambda_terms\n",
    "\n",
    "from calculus_utils.drawing import *\n",
    "from calculus_utils.algorithms import *"
   ],
   "metadata": {
    "collapsed": false
   }
  },
  {
   "cell_type": "code",
   "execution_count": null,
   "outputs": [],
   "source": [
    "UPLIMIT = 60\n",
    "DOWNLIMIT = 50\n",
    "LAMBDA_TERM_COUNT = 100\n",
    "\n",
    "RANDOM_AVERAGE_COUNT = 20\n",
    "\n",
    "terms, stepsLO = gen_filtered_lambda_terms(\n",
    "    count_terms=LAMBDA_TERM_COUNT, down_vertices_limit=UPLIMIT,\n",
    "    up_vertices_limit=DOWNLIMIT)\n",
    "\n",
    "\n",
    "countVertices = list(map(lambda term: term.verticesNumber, terms))\n",
    "countRedexes = list(map(lambda term: len(term.redexes), terms))\n",
    "\n",
    "print(f\"number of lambda terms {len(terms)}\")\n",
    "print(\"number of vertices= {}\".format(countVertices))\n",
    "print(\"number of redexes= {}\".format(countRedexes))\n",
    "\n",
    "print(\"number of steps to normalize using LO strategy= {}\".format(stepsLO))\n",
    "print(f'number of terms with normal form {len(terms)}')\n",
    "assert(len(terms) == LAMBDA_TERM_COUNT)\n",
    "\n",
    "print(\"number of steps to normalize using LO strategy= {}\".format(stepsLO))\n",
    "\n",
    "stepsRI = [term.normalize(RightmostInnermostStrategy())[1] for term in terms]\n",
    "print(\"number of steps to normalize using RI strategy= {}\".format(stepsRI))\n",
    "\n",
    "stepsRand = [sum([term.normalize(RandomStrategy())[1] for i in range(RANDOM_AVERAGE_COUNT)]) / RANDOM_AVERAGE_COUNT for term in terms]\n",
    "print(\"number of steps to normalize using Random strategy= {}\".format(stepsRand))"
   ],
   "metadata": {
    "collapsed": false
   }
  },
  {
   "cell_type": "code",
   "execution_count": null,
   "outputs": [],
   "source": [
    "draw_hist(stepsLO)\n",
    "draw_hist(stepsRI)\n",
    "draw_hist(stepsRand)"
   ],
   "metadata": {
    "collapsed": false
   }
  },
  {
   "cell_type": "code",
   "execution_count": null,
   "outputs": [],
   "source": [
    "STRATEGIES = [LeftmostOutermostStrategy(), RightmostInnermostStrategy(), LeftmostInnermostStrategy(), RightmostOutermostStrategy(), RandomStrategy()]\n",
    "\n",
    "BOUNDS_LOW =  [0.1, 0.0, 0.0,  0.0]\n",
    "BOUNDS_HIGH = [1.0, 1.0, 1.0, 1.0,]\n",
    "\n",
    "NUM_OF_PARAMS = len(BOUNDS_HIGH)\n",
    "\n",
    "# Genetic Algorithm constants:\n",
    "POPULATION_SIZE = 20\n",
    "P_CROSSOVER = 0.9   # probability for crossover\n",
    "P_MUTATION = 0.3    # probability for mutating an individual\n",
    "MAX_GENERATIONS = 7\n",
    "HALL_OF_FAME_SIZE = 4\n",
    "CROWDING_FACTOR = 10  # crowding factor for crossover and mutation\n",
    "\n",
    "toolbox = base.Toolbox()\n",
    "\n",
    "# define a single objective, maximizing fitness strategy:\n",
    "creator.create(\"FitnessMin\", base.Fitness, weights=(-1.0,))\n",
    "# create the Individual class based on list:\n",
    "creator.create(\"Individual\", list, fitness=creator.FitnessMin)\n",
    "\n",
    "# define the hyperparameter attributes individually:\n",
    "for i in range(NUM_OF_PARAMS):\n",
    "    # \"hyperparameter_0\", \"hyperparameter_1\", ...\n",
    "    toolbox.register(\"hyperparameter_\" + str(i), random.uniform, BOUNDS_LOW[i], BOUNDS_HIGH[i])\n",
    "\n",
    "# create a tuple containing an attribute generator for each param searched:\n",
    "hyperparameters = ()\n",
    "for i in range(NUM_OF_PARAMS):\n",
    "    hyperparameters = hyperparameters + (toolbox.__getattribute__(\"hyperparameter_\" + str(i)),)\n",
    "\n",
    "# create the individual operator to fill up an Individual instance:\n",
    "def individual_creator() -> creator.Individual:\n",
    "  indv = [0 for _ in range(NUM_OF_PARAMS)]\n",
    "  for i in range(NUM_OF_PARAMS):\n",
    "    indv[i] = random.uniform(BOUNDS_LOW[i], 1 - sum(indv))\n",
    "  return creator.Individual(indv)\n",
    "\n",
    "# create the population operator to generate a list of individuals:\n",
    "toolbox.register(\"populationCreator\", tools.initRepeat, list, individual_creator)\n",
    "\n",
    "# fitness calculation\n",
    "def fitness(individual):\n",
    "    p = individual.copy()\n",
    "    p.append(max(0, 1 - sum(individual)))\n",
    "    steps = [sum([term.normalize(MixedStrategy(STRATEGIES, p))[1] for i in range(RANDOM_AVERAGE_COUNT)]) / RANDOM_AVERAGE_COUNT for term in terms]\n",
    "    steps = list(filter(lambda x: x != float('inf'), steps))\n",
    "\n",
    "    distributions = get_common_distributions()\n",
    "    distributions.remove('expon')\n",
    "    f_ln = Fitter([np.log(step) for step in steps], distributions=distributions)\n",
    "    f_ln.fit()\n",
    "\n",
    "    mu, sigma = f_ln.fitted_param[\"norm\"]\n",
    "    result = np.e ** (mu + (sigma ** 2) / 2)\n",
    "    print(\"expected number of steps to normalize using Mixed strategy= {}\".format(result))\n",
    "    if 1 - sum(individual) < 0:\n",
    "      result += 100 * (sum(individual) - 1)\n",
    "    return result,\n",
    "toolbox.register(\"evaluate\", fitness)\n",
    "\n",
    "# genetic operators:\n",
    "toolbox.register(\"select\", tools.selTournament, tournsize=2)\n",
    "toolbox.register(\"mate\", tools.cxSimulatedBinaryBounded, low=BOUNDS_LOW, up=BOUNDS_HIGH, eta=CROWDING_FACTOR)\n",
    "toolbox.register(\"mutate\", tools.mutPolynomialBounded, low=BOUNDS_LOW, up=BOUNDS_HIGH, eta=CROWDING_FACTOR, indpb=1.0 / NUM_OF_PARAMS)\n",
    "\n",
    "# create initial population (generation 0):\n",
    "population = toolbox.populationCreator(n=POPULATION_SIZE)\n",
    "\n",
    "# prepare the statistics object:\n",
    "stats = tools.Statistics(lambda ind: ind.fitness.values)\n",
    "stats.register(\"min\", np.min)\n",
    "stats.register(\"avg\", np.mean)\n",
    "\n",
    "# define the hall-of-fame object:\n",
    "hof = tools.HallOfFame(HALL_OF_FAME_SIZE)\n",
    "\n",
    "# perform the Genetic Algorithm flow with hof feature added:\n",
    "population, logbook = eaSimpleWithElitism(population,\n",
    "                                          toolbox,\n",
    "                                          cxpb=P_CROSSOVER,\n",
    "                                          mutpb=P_MUTATION,\n",
    "                                          ngen=MAX_GENERATIONS,\n",
    "                                          stats=stats,\n",
    "                                          halloffame=hof,\n",
    "                                          verbose=True)\n",
    "\n",
    "# print best solution found:\n",
    "print(\"- Best solution is: \")\n",
    "print(\"p = \", hof.items[0])\n",
    "\n",
    "# extract statistics:\n",
    "maxFitnessValues, meanFitnessValues = logbook.select(\"min\", \"avg\")\n",
    "# plot statistics:\n",
    "sns.set_style(\"whitegrid\")\n",
    "plt.plot(maxFitnessValues, color='red')\n",
    "plt.plot(meanFitnessValues, color='green')\n",
    "plt.xlabel('Generation')\n",
    "plt.ylabel('Max / Average Fitness')\n",
    "plt.title('Max and Average fitness over Generations')\n",
    "plt.show()"
   ],
   "metadata": {
    "collapsed": false
   }
  },
  {
   "cell_type": "code",
   "execution_count": null,
   "outputs": [],
   "source": [
    "p = hof.items[0]\n",
    "p.append(max(0, 1 - sum(p)))\n",
    "MixedStrategySteps = [sum([term.normalize(MixedStrategy(STRATEGIES, p))[1] for i in range(RANDOM_AVERAGE_COUNT)]) / RANDOM_AVERAGE_COUNT for term in terms]\n",
    "draw_hist(MixedStrategySteps)"
   ],
   "metadata": {
    "collapsed": false
   }
  },
  {
   "cell_type": "code",
   "execution_count": null,
   "outputs": [],
   "source": [
    "p =  [0.98, 0.005, 0.005, 0.005, 0.005]\n",
    "steps = [sum([term.normalize(MixedStrategy(STRATEGIES, p))[1] for i in range(RANDOM_AVERAGE_COUNT)]) / RANDOM_AVERAGE_COUNT for term in terms]\n",
    "draw_hist(steps)"
   ],
   "metadata": {
    "collapsed": false
   }
  },
  {
   "cell_type": "code",
   "execution_count": null,
   "outputs": [],
   "source": [
    "figure, axes = plt.subplots(nrows=2, ncols=2, figsize=(20,15))\n",
    "ax0, ax1, ax2, ax3 = axes.flatten()\n",
    "draw_2d_distribution(ax0, countVertices, countRedexes, 'Vertices number', 'Redexes number')\n",
    "draw_2d_strategy_distribution(ax1, stepsLO, stepsRI, 'Leftmost outermost strategy', 'Rightmost inermost strategy')\n",
    "draw_2d_strategy_distribution(ax2, stepsLO, stepsRand, 'Leftmost outermost strategy', 'Random strategy')\n",
    "draw_2d_strategy_distribution(ax3, stepsRI, stepsRand, 'Rightmost inermost strategy', 'Random strategy')\n",
    "plt.show()"
   ],
   "metadata": {
    "collapsed": false
   }
  },
  {
   "cell_type": "code",
   "execution_count": null,
   "outputs": [],
   "source": [
    "colors = ['lime', 'blue', 'red', 'orange']\n",
    "labels = ['Leftmost outermost', 'Rightmost inermost', 'Uniformly random', 'Mixed']\n",
    "n = 20\n",
    "draw_plot(stepsLO[10:n], stepsRI[10:n], stepsRand[10:n], MixedStrategySteps[10:n],  labels, colors)"
   ],
   "metadata": {
    "collapsed": false
   }
  },
  {
   "cell_type": "code",
   "execution_count": null,
   "outputs": [],
   "source": [
    "terms_dict = {i: [] for i in range(DOWNLIMIT, UPLIMIT)}\n",
    "\n",
    "for i, term in enumerate(terms):\n",
    "  terms_dict[term.verticesNumber].append((term, {'LO': stepsLO[i], 'RI': stepsRI[i], 'Rand': stepsRand[i]}))\n",
    "\n",
    "average_term_data = dict()\n",
    "for verticesNumber, data in terms_dict.items():\n",
    "  data_without_inf = [d[1] for d in data if d[1]['LO'] != float('inf') and d[1]['RI'] != float('inf') and d[1]['Rand'] != float('inf')]\n",
    "  avgLO, avgRI, avgRand = 0, 0, 0\n",
    "  for d in data_without_inf:\n",
    "    avgLO += d['LO']\n",
    "    avgRI += d['RI']\n",
    "    avgRand += d['Rand']\n",
    "\n",
    "  count = len(data_without_inf)\n",
    "  if count != 0:\n",
    "    average_term_data[verticesNumber] = {'LO': avgLO / count, 'RI': avgRI / count, 'Rand': avgRand / count}\n",
    "\n",
    "plt.figure(figsize=(20, 15))\n",
    "ax = plt.gca()\n",
    "ax.plot(list(average_term_data.keys()), [data['LO'] for i, data in average_term_data.items()], color='blue', label='LO')\n",
    "ax.plot(list(average_term_data.keys()), [data['RI'] for i, data in average_term_data.items()], color='lime', label='RI')\n",
    "ax.plot(list(average_term_data.keys()), [data['Rand'] for i, data in average_term_data.items()], color='red', label='Rand')\n",
    "ax.set(title = 'Distribution',\n",
    "        xlabel = 'Vertices number',\n",
    "        ylabel = 'Strategy steps number')\n",
    "ax.legend(prop={'size': 10})\n",
    "\n",
    "plt.show()"
   ],
   "metadata": {
    "collapsed": false
   }
  },
  {
   "cell_type": "markdown",
   "source": [
    "## TESTS"
   ],
   "metadata": {
    "collapsed": false
   }
  },
  {
   "cell_type": "code",
   "execution_count": null,
   "outputs": [],
   "source": [
    "x, y, z = Var(), Var(), Var()\n",
    "X, Z = Atom(x), Atom(z)\n",
    "XXX = Application(Application(X, X), X)\n",
    "XZ = Application(X, Z)\n",
    "T = Application(Abstraction(x, XXX),\n",
    "                Abstraction(x, Application(Abstraction(y, Z),\n",
    "                                           XZ\n",
    "                                          ))\n",
    "               )\n",
    "\n",
    "print(T)\n",
    "for var, item in T._vars.items():\n",
    "    print(\"\\t{}\".format(var), end=\": \")\n",
    "    print(item)"
   ],
   "metadata": {
    "collapsed": false
   }
  },
  {
   "cell_type": "code",
   "execution_count": null,
   "outputs": [],
   "source": [
    "x, y, z, w, v = Var(), Var(), Var(), Var(), Var()\n",
    "# (λx.(λy.( ((λz.(y z)) ((λw.w) x)) v )))\n",
    "lambdaTerm = Abstraction(x,\n",
    "                        Abstraction(y,\n",
    "                                    Application(\n",
    "                                        Application(\n",
    "                                            Abstraction(z, Application(Atom(y), Atom(z))),\n",
    "                                            Application(Abstraction(w, Atom(w)), Atom(w))),\n",
    "                                        Atom(v))))\n",
    "\n",
    "def testTerm():\n",
    "  assert(len(lambdaTerm.redexes) == 2)\n",
    "  assert(lambdaTerm.verticesNumber == 13)\n",
    "\n",
    "  subterm = Application(Atom(y), Atom(z))\n",
    "  assert(lambdaTerm.subterm(1) == lambdaTerm)\n",
    "  assert(lambdaTerm.subterm(6) == subterm)\n",
    "  assert(lambdaTerm.setSubterm(1, subterm) == subterm)\n",
    "\n",
    "  assert(lambdaTerm._updateBoundVariables().verticesNumber == lambdaTerm.verticesNumber)\n",
    "  assert(len(lambdaTerm._updateBoundVariables().redexes) == len(lambdaTerm.redexes))\n",
    "\n",
    "  strategy = LeftmostOutermostStrategy()\n",
    "  assert(len(lambdaTerm._betaConversion(strategy).redexes) == 1)\n",
    "  assert(lambdaTerm._betaConversion(strategy).verticesNumber == 10)\n",
    "\n",
    "  assert(len(lambdaTerm.normalize(strategy)[0].redexes) == 0)\n",
    "  assert(lambdaTerm.normalize(strategy)[1] == 2)\n",
    "\n",
    "\n",
    "def testStrategy():\n",
    "  strategy = LeftmostOutermostStrategy()\n",
    "  assert(strategy.redexIndex(lambdaTerm) == 4)\n",
    "\n",
    "testTerm()\n",
    "testStrategy()"
   ],
   "metadata": {
    "collapsed": false
   }
  },
  {
   "cell_type": "code",
   "execution_count": null,
   "outputs": [],
   "source": [
    "stepsLOWithoutTail = [x for x in stepsLO if x < 150]\n",
    "draw_hist(stepsLOWithoutTail)"
   ],
   "metadata": {
    "collapsed": false
   }
  },
  {
   "cell_type": "code",
   "execution_count": null,
   "outputs": [],
   "source": [
    "stepsLOWithoutTail = [x for x in stepsLO if x < 150]\n",
    "draw_hist(stepsLOWithoutTail)"
   ],
   "metadata": {
    "collapsed": false
   }
  }
 ],
 "metadata": {
  "kernelspec": {
   "display_name": "Python 3",
   "language": "python",
   "name": "python3"
  },
  "language_info": {
   "codemirror_mode": {
    "name": "ipython",
    "version": 2
   },
   "file_extension": ".py",
   "mimetype": "text/x-python",
   "name": "python",
   "nbconvert_exporter": "python",
   "pygments_lexer": "ipython2",
   "version": "2.7.6"
  }
 },
 "nbformat": 4,
 "nbformat_minor": 0
}
