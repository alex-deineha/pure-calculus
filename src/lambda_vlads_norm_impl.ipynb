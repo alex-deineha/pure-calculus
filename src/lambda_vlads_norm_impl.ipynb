{
 "cells": [
  {
   "cell_type": "markdown",
   "source": [
    "# **Optimization of Term Reduction in Typeless $\\lambda$-Calculus**"
   ],
   "metadata": {
    "collapsed": false
   }
  },
  {
   "cell_type": "markdown",
   "source": [
    "## Import/Define required modules and functions"
   ],
   "metadata": {
    "collapsed": false
   }
  },
  {
   "cell_type": "code",
   "execution_count": 1,
   "metadata": {
    "collapsed": true
   },
   "outputs": [],
   "source": [
    "class LambdaError(Exception):\n",
    "    __errmsg = [\n",
    "        \"unrecognised error\",\n",
    "    ]\n",
    "\n",
    "    def __init__(self, errDescription):\n",
    "        if isinstance(errDescription, int):\n",
    "            try:\n",
    "                self._msg = LambdaError.__errmsg[errDescription]\n",
    "            except:\n",
    "                self._msg = LambdaError.__errmsg[0]\n",
    "        elif isinstance(errDescription, str):\n",
    "            self._msg = errDescription\n",
    "        else:\n",
    "            self._msg = LambdaError.__errmsg[0]\n",
    "        super().__init__(self._msg)"
   ]
  },
  {
   "cell_type": "markdown",
   "source": [
    "## Syntax"
   ],
   "metadata": {
    "collapsed": false
   }
  },
  {
   "cell_type": "markdown",
   "source": [
    "### Variables"
   ],
   "metadata": {
    "collapsed": false
   }
  },
  {
   "cell_type": "markdown",
   "source": [
    "The set $\\mathbf{Var}$ is the set of variables that are atomic entities of the typeless $\\lambda$-calculus, each of that refers to itself only.\n",
    "We assume the existence of an infinite enumerable series of variables.\n",
    "\n",
    "So, we propose the following computational model to represent a variable.<br/>\n",
    "This model assumes that a variable is a decorated natural number.\n",
    "A variable is represented as '`#k`' ($k\\in\\mathbb N$)."
   ],
   "metadata": {
    "collapsed": false
   }
  },
  {
   "cell_type": "code",
   "execution_count": 2,
   "outputs": [],
   "source": [
    "class Var:\n",
    "    __cvar = 0\n",
    "\n",
    "    def __init__(self):\n",
    "        self._data = Var.__cvar\n",
    "        Var.__cvar += 1\n",
    "\n",
    "    def __str__(self):\n",
    "        return f\"#{self._data}\"\n",
    "\n",
    "    def __eq__(self, another):\n",
    "        if isinstance(another, Var):\n",
    "            return self._data == another._data\n",
    "        raise LambdaError(\"Var.__eq__ waits for an instance of Var\"\n",
    "                          f\", but it received '{another}'\")"
   ],
   "metadata": {
    "collapsed": false
   }
  },
  {
   "cell_type": "markdown",
   "source": [
    "Some examples of variables."
   ],
   "metadata": {
    "collapsed": false
   }
  },
  {
   "cell_type": "code",
   "execution_count": 3,
   "outputs": [],
   "source": [
    "# x, y, z = Var(), Var(), Var()\n",
    "#\n",
    "# print(f\"x = {x}\\ny = {y}\\nz = {z}\")"
   ],
   "metadata": {
    "collapsed": false
   }
  },
  {
   "cell_type": "markdown",
   "source": [
    "### Terms"
   ],
   "metadata": {
    "collapsed": false
   }
  },
  {
   "cell_type": "markdown",
   "source": [
    "The set $\\mathbf{Term}$ of $\\lambda$-terms (or briefly terms) is defined by the following rules.\n",
    "\n",
    "---\n",
    "\n",
    "$$\\tag{$\\Lambda$1}\n",
    "\\begin{equation}\n",
    "\\dfrac{x:\\mathbf{Var}}{x:\\mathbf{Term}}\n",
    "\\end{equation}\n",
    "$$\n",
    "\n",
    "$$\n",
    "\\tag{$\\Lambda$2}\n",
    "\\begin{equation}\n",
    "\\dfrac{t_1:\\mathbf{Term}\\qquad t_2:\\mathbf{Term}}{(t_1\\ t_2):\\mathbf{Term}}\n",
    "\\end{equation}\n",
    "$$\n",
    "\n",
    "$$\\tag{$\\Lambda$3}\n",
    "\\begin{equation}\n",
    "\\dfrac{x:\\mathbf{Var}\\qquad t:\\mathbf{Term}}{(\\operatorname{\\lambda}x\\mathop.t):\\mathbf{Term}}\n",
    "\\end{equation}\n",
    "$$\n",
    "\n",
    "---\n",
    "\n",
    "One usually uses the following rules for omitting parentheses\n",
    "\n",
    "1. the outer parentheses omit always;\n",
    "1. the term of the form $((t_1\\ t_2)\\ t_3)$ abbreviates to $t_1\\ t_2\\ t_3$;\n",
    "1. the term of the form $(\\operatorname{\\lambda}x_1\\mathop.(\\operatorname{\\lambda}x_2\\mathop.t))$ abbreviates to $\\operatorname{\\lambda}x_1\\mathop.\\operatorname{\\lambda}x_2\\mathop.t$;\n",
    "1. the term of the form $(\\operatorname{\\lambda}x\\mathop.(t_1\\ t_2))$ abbreviates to $\\operatorname{\\lambda}x\\mathop.t_1\\ t_2$.\n",
    "\n",
    "The following classes represent $\\lambda$-terms.<br/>\n",
    "The class represents\n",
    "* the atomic term $x$ where $x=\\mathtt{\\#}k$ ($ k\\in\\mathbb N$) as '$\\mathtt{\\$}k$'\n",
    "* the application term $(t_1\\ t_2)$ where $t_1$ and $t_2$ are terms as $\\mathtt(t_1\\ \\mathtt.\\ t_2\\mathtt)$\n",
    "* the abstraction term $\\operatorname{\\lambda}x\\mathop.t$ where $x$ is a variable $\\mathtt{\\#}k$ and $t$ is a term as $\\mathtt{(@}k\\mathtt{ . }t\\mathtt)$\n"
   ],
   "metadata": {
    "collapsed": false
   }
  },
  {
   "cell_type": "code",
   "execution_count": 30,
   "outputs": [],
   "source": [
    "class Term:  # the basic abstract class for representing a term\n",
    "\n",
    "    @property\n",
    "    def kind(self):  # returns the kind of the term\n",
    "        if isinstance(self, Atom):\n",
    "            return \"atom\"\n",
    "        if isinstance(self, Application):\n",
    "            return \"application\"\n",
    "        if isinstance(self, Abstraction):\n",
    "            return \"abstraction\"\n",
    "\n",
    "    def __str__(self):\n",
    "        if self.kind == \"atom\":\n",
    "            return f\"{self._data}\"\n",
    "        if self.kind == \"application\":\n",
    "            return f\"({self._data[0]} {self._data[1]})\"\n",
    "        else:  # self.kind == \"absraction\"\n",
    "            return f\"(λ{self._data[0]}. {self._data[1]})\"\n",
    "\n",
    "    # def __eq__(self, another):\n",
    "    #     if isinstance(another, Term):\n",
    "    #         if self.kind != another.kind:\n",
    "    #             return False\n",
    "    #         return self._data == another._data\n",
    "    #     else:\n",
    "    #         raise LambdaError(3)\n",
    "    def __eq__(self, other):\n",
    "        if not isinstance(other, Term):\n",
    "            return False\n",
    "        if self.kind == \"atom\" and other.kind == \"atom\":\n",
    "            return self._data == other._data\n",
    "        if self.kind == \"application\" and other.kind == \"application\":\n",
    "            return self._data[0] == other._data[0] and self._data[1] == other._data[1]\n",
    "        if self.kind == \"abstraction\" and other.kind == \"abstraction\":\n",
    "            return self._data[0] == other._data[0] and self._data[1] == other._data[1]\n",
    "        return False\n",
    "\n",
    "    def call_as_method(self, fun, *args):\n",
    "        return fun(self, *args)\n",
    "\n",
    "    @property\n",
    "    def is_beta_redex(self):\n",
    "        \"\"\":return: bool is the term is a beta-redex\"\"\"\n",
    "        return (self.kind == \"application\") and (self._data[0].kind == \"abstraction\")\n",
    "\n",
    "    @property\n",
    "    def redexes(self):\n",
    "        \"\"\":return: list of all beta-redexes in the term\"\"\"\n",
    "        if self.kind == \"atom\":\n",
    "            return []\n",
    "        if self.kind == \"abstraction\":\n",
    "            return self._data[1].redexes\n",
    "        # self is App:\n",
    "        redexes_list = [self] if self.is_beta_redex else []\n",
    "        redexes_list += self._data[0].redexes + self._data[1].redexes\n",
    "        return redexes_list\n",
    "\n",
    "    @property\n",
    "    def _vars(self):\n",
    "        \"\"\"\n",
    "        Here, keys of the external dictionary are the variables that\n",
    "        are occurred in 'self', and values of the internal dictionaries\n",
    "        relate respectively to the numbers of free and bound occurrences\n",
    "        of the variables.\n",
    "        :return: dict[Var, dict[('free'/'bound'), int]]\n",
    "        \"\"\"\n",
    "        if self.kind == \"atom\":\n",
    "            return {self._data: {\"free\": 1, \"bound\": 0}}\n",
    "        if self.kind == \"application\":\n",
    "            vars_, auxvars_ = dict(self._data[0]._vars), self._data[1]._vars\n",
    "            for var_ in auxvars_:\n",
    "                try:\n",
    "                    for key_ in (\"free\", \"bound\"):\n",
    "                        vars_[var_][key_] += self._data[1]._vars[var_][key_]\n",
    "                except KeyError:\n",
    "                    vars_[var_] = dict(self._data[1]._vars[var_])\n",
    "            return vars_\n",
    "        # self is Abstraction:\n",
    "        vars_ = dict(self._data[1]._vars)\n",
    "        try:\n",
    "            vars_[self._data[0]][\"bound\"] += vars_[self._data[0]][\"free\"]\n",
    "            vars_[self._data[0]][\"free\"] = 0\n",
    "        except KeyError:\n",
    "            pass\n",
    "        return vars_\n",
    "\n",
    "    @property\n",
    "    def vertices_number(self):\n",
    "        \"\"\":return: the number of nodes in the tree representation the lambda term\"\"\"\n",
    "        if self.kind == \"atom\":\n",
    "            return 1\n",
    "        if self.kind == \"application\":\n",
    "            return 1 + self._data[0].vertices_number + self._data[1].vertices_number\n",
    "        # self is Abstraction\n",
    "        return 1 + self._data[1].vertices_number\n",
    "\n",
    "    def normalize(self, strategy):\n",
    "        \"\"\"\n",
    "        :param strategy: OneStepStrategy\n",
    "        :return: tuple of the normal form of the term and number of steps of betta reduction\n",
    "        \"\"\"\n",
    "        term = self._update_bound_vars()\n",
    "        count_steps = 0\n",
    "        while len(term.redexes) > 0:\n",
    "            term = term._beta_conversion(strategy)._update_bound_vars()\n",
    "            count_steps += 1\n",
    "            # computation limitation\n",
    "            if (term.vertices_number > 7_000) or (count_steps > 400):\n",
    "                return term, float(\"inf\")\n",
    "        return term, count_steps\n",
    "\n",
    "    def _beta_conversion(self, strategy):\n",
    "        \"\"\"\n",
    "        :param strategy: OneStepStrategy\n",
    "        :return: term with redex eliminated using the given strategy\n",
    "        \"\"\"\n",
    "        index = strategy.redex_index(self)\n",
    "        subterm_ = self.subterm(index)\n",
    "        reduced_term = subterm_._remove_outer_redex()\n",
    "        return self.set_subterm(index, reduced_term)\n",
    "\n",
    "    def subterm(self, index: int):\n",
    "        \"\"\"\n",
    "        By representing the term as a tree, a subtree is returned,\n",
    "        which is also a lambda term.\n",
    "        The vertex of this subtree has a given index in the topological\n",
    "        sorting of the vertices of the original term.\n",
    "        :param index: int subterm index\n",
    "        :return: subterm: Term\n",
    "        \"\"\"\n",
    "        if index == 1:\n",
    "            return self\n",
    "        if self.kind == \"atom\":\n",
    "            raise ValueError(\"index value is incorrect\")\n",
    "        elif self.kind == \"application\":\n",
    "            if self._data[0].vertices_number + 1 >= index:\n",
    "                return self._data[0].subterm(index - 1)\n",
    "            else:\n",
    "                return self._data[1].subterm(index - self._data[0].vertices_number - 1)\n",
    "        else:\n",
    "            return self._data[1].subterm(index - 1)\n",
    "\n",
    "    def set_subterm(self, index: int, term):\n",
    "        \"\"\"\n",
    "        By representing the term as a tree, a subtree is set, which is also a lambda term.\n",
    "        The vertex of this subtree has a given index in the topological sorting of the vertices of the original term.\n",
    "        :param index: subterm index\n",
    "        :param term: λ-term to which the subterm will be replaced\n",
    "        :return: updated λ-term\n",
    "        \"\"\"\n",
    "        if index == 1:\n",
    "            return  term\n",
    "\n",
    "        if self.kind == \"atom\":\n",
    "            raise ValueError(\"index value is incorrect\")\n",
    "        elif self.kind == \"application\":\n",
    "            if self._data[0].vertices_number + 1 >= index:\n",
    "                return Application(self._data[0].set_subterm(index - 1, term), self._data[1])\n",
    "            else:\n",
    "                return Application(self._data[0],\n",
    "                                   self._data[1].set_subterm(index - self._data[0].vertices_number - 1, term))\n",
    "        else:\n",
    "            return Abstraction(self._data[0], self._data[1].set_subterm(index - 1, term))\n",
    "\n",
    "    def _update_bound_vars(self):\n",
    "        \"\"\":return: λ-term with updated bound variables\"\"\"\n",
    "        if self.kind == \"atom\":\n",
    "            return self\n",
    "        if self.kind == \"application\":\n",
    "            return Application(\n",
    "                self._data[0]._update_bound_vars(),\n",
    "                self._data[1]._update_bound_vars()\n",
    "            )\n",
    "        # self is abstraction\n",
    "        new_var = Var()\n",
    "        return Abstraction(\n",
    "            new_var,\n",
    "            self._data[1]._replace_variable(self._data[0], Atom(new_var))._update_bound_vars()\n",
    "        )\n",
    "\n",
    "    def _remove_outer_redex(self):\n",
    "        \"\"\"Apply the betta conversion to the lambda term, removing the outer betta redex\"\"\"\n",
    "        if self.is_beta_redex:\n",
    "            head = self._data[0]._data[0]\n",
    "            body = self._data[0]._data[1]\n",
    "            return body._replace_variable(head, self._data[1])\n",
    "        else:\n",
    "            return self\n",
    "\n",
    "    def _replace_variable(self, var: Var, term):\n",
    "        \"\"\"Return λ-term with replaced variable\"\"\"\n",
    "        if self.kind == \"atom\":\n",
    "            return term if self._data == var else self\n",
    "        if self.kind == \"application\":\n",
    "            return Application(self._data[0]._replace_variable(var, term),\n",
    "                               self._data[1]._replace_variable(var, term))\n",
    "        # self is abstraction\n",
    "        return Abstraction(self._data[0], self._data[1]._replace_variable(var, term))\n",
    "\n",
    "\n",
    "\n",
    "class Atom(Term):  # the class of terms created with the first rule\n",
    "\n",
    "    def __init__(self, v):\n",
    "        if isinstance(v, Var):\n",
    "            self._data = v\n",
    "        else:\n",
    "            raise LambdaError(\"Atom.__init__ waits for an instance of Var\"\n",
    "                              f\", but it received '{v}'\")\n",
    "\n",
    "\n",
    "class Application(Term):  # the class of terms created with the second rule\n",
    "\n",
    "    def __init__(self, t1, t2):\n",
    "        if isinstance(t1, Term) and isinstance(t2, Term):\n",
    "            self._data = (t1, t2)\n",
    "        else:\n",
    "            raise LambdaError(\"Application.__init__ waits for two instances\"\n",
    "                              f\" of Term, but it received '{t1}', '{t2}'\")\n",
    "\n",
    "\n",
    "class Abstraction(Term):  # the class of terms created with the third rule\n",
    "\n",
    "    def __init__(self, v, t):\n",
    "        if isinstance(v, Var) and isinstance(t, Term):\n",
    "            self._data = (v, t)\n",
    "        else:\n",
    "            raise LambdaError(\"Abstraction.__init__ waits for an instance of\"\n",
    "                              \" Var and an instance of Term\"\n",
    "                              f\", but it receive '{v}' and '{t}'\")"
   ],
   "metadata": {
    "collapsed": false
   }
  },
  {
   "cell_type": "code",
   "execution_count": 31,
   "outputs": [],
   "source": [
    "from abc import ABC, abstractmethod\n",
    "\n",
    "\n",
    "class OneStepStrategy(ABC):\n",
    "    @abstractmethod\n",
    "    def redex_index(self, term: Term, init_index=0) -> int:\n",
    "        \"\"\"\n",
    "        :return: index of the vertex of a subterm that has an outer redex.\n",
    "                The index of a vertex is the index of this vertex in the topological sort of the tree vertices.\n",
    "                Indexing starts at 1.\n",
    "        \"\"\"\n",
    "\n",
    "\n",
    "class LOStrategy(OneStepStrategy):\n",
    "    def redex_index(self, term: Term, init_index=0) -> int:\n",
    "        if (term.kind == \"atom\") or (len(term.redexes) == 0):\n",
    "            raise ValueError(\"The term doesn't contain a redex\")\n",
    "        if term.kind == \"application\":\n",
    "            if term.is_beta_redex:\n",
    "                return init_index + 1\n",
    "            if len(term._data[0].redexes) != 0:\n",
    "                return self.redex_index(term._data[0], init_index + 1)\n",
    "            return self.redex_index(term._data[1],\n",
    "                                    init_index + term._data[0].vertices_number + 1)\n",
    "        # self is Abstraction:\n",
    "        return self.redex_index(term._data[1], init_index + 1)"
   ],
   "metadata": {
    "collapsed": false
   }
  },
  {
   "cell_type": "code",
   "execution_count": 32,
   "outputs": [],
   "source": [
    "Lambda = Abstraction\n",
    "App = Application"
   ],
   "metadata": {
    "collapsed": false
   }
  },
  {
   "cell_type": "code",
   "execution_count": 33,
   "outputs": [
    {
     "name": "stdout",
     "output_type": "stream",
     "text": [
      "((λ#6447. (λ#6448. #6448)) ((λ#6447. (#6447 #6447)) (λ#6447. (#6447 #6447))))\n"
     ]
    }
   ],
   "source": [
    "x, y = Var(), Var()\n",
    "x_, y_ = Atom(x), Atom(y)\n",
    "\n",
    "test_term = App(\n",
    "    Lambda(x, Lambda(y, y_)),\n",
    "    App(\n",
    "        Lambda(x, App(x_, x_)),\n",
    "        Lambda(x, App(x_, x_))\n",
    "    )\n",
    ")\n",
    "\n",
    "print(test_term)"
   ],
   "metadata": {
    "collapsed": false
   }
  },
  {
   "cell_type": "code",
   "execution_count": 34,
   "outputs": [
    {
     "name": "stdout",
     "output_type": "stream",
     "text": [
      "1\n",
      "(λ#6453. #6453)\n"
     ]
    }
   ],
   "source": [
    "norm_term, count = test_term.normalize(LOStrategy())\n",
    "print(count)\n",
    "print(norm_term)"
   ],
   "metadata": {
    "collapsed": false
   }
  },
  {
   "cell_type": "code",
   "execution_count": null,
   "outputs": [],
   "source": [],
   "metadata": {
    "collapsed": false
   }
  },
  {
   "cell_type": "code",
   "execution_count": null,
   "outputs": [],
   "source": [],
   "metadata": {
    "collapsed": false
   }
  },
  {
   "cell_type": "markdown",
   "source": [
    "Some examples of terms"
   ],
   "metadata": {
    "collapsed": false
   }
  },
  {
   "cell_type": "code",
   "execution_count": null,
   "outputs": [],
   "source": [
    "tx, ty, tz = Atom(x), Atom(y), Atom(z)\n",
    "# λx. x\n",
    "tI = Abstraction(x, tx)\n",
    "# λxy. x\n",
    "tK = Abstraction(x, Abstraction(y, tx))\n",
    "# λxyz. (x z) (y z)\n",
    "tS = Abstraction(\n",
    "    x,\n",
    "    Abstraction(\n",
    "        y,\n",
    "        Abstraction(\n",
    "            z,\n",
    "            Application(\n",
    "                Application(tx, tz),\n",
    "                Application(ty, tz)))))\n",
    "\n",
    "print(f\"x = {tx}\")\n",
    "print(f\"I = {tI}\")\n",
    "print(f\"K = {tK}\")\n",
    "print(f\"S = {tS}\")"
   ],
   "metadata": {
    "collapsed": false
   }
  },
  {
   "cell_type": "markdown",
   "source": [
    "### Paths"
   ],
   "metadata": {
    "collapsed": false
   }
  },
  {
   "cell_type": "markdown",
   "source": [
    "We use the concept of a ***path***.\n",
    "\n",
    "A path is syntactically a string of '$\\mathtt l$', '$\\mathtt d$', and '$\\mathtt r$'.\n",
    "The set of paths is referred to as $\\Pi$."
   ],
   "metadata": {
    "collapsed": false
   }
  },
  {
   "cell_type": "code",
   "execution_count": null,
   "outputs": [],
   "source": [
    "def is_path(s):\n",
    "    return isinstance(s, str) and len(s) == len([c for c in s if c in \"ldr\"])"
   ],
   "metadata": {
    "collapsed": false
   }
  },
  {
   "cell_type": "markdown",
   "source": [
    "A path is used for referring to a subterm of a term using the partially defined function $\\operatorname{subref}:\\mathbf{Term}\\times\\Pi\\dashrightarrow\\mathbf{Term}$.\n",
    "\n",
    "$$\\begin{array}{lll}\n",
    "    \\operatorname{subref}\\ t\\ \\epsilon&=t&\\textsf{for any term }t \\\\\n",
    "    \\operatorname{subref}\\ (t_1\\,t_2)\\ \\mathtt l\\cdot\\pi&=t_1&\\textsf{for any terms }t_1,\\ t_2\\textsf{ and path }\\pi \\\\\n",
    "    \\operatorname{subref}\\ (t_1\\,t_2)\\ \\mathtt r\\cdot\\pi&=t_2&\\textsf{for any terms }t_1,\\ t_2\\textsf{ and path }\\pi \\\\\n",
    "    \\operatorname{subref}\\ (\\lambda\\,x\\mathop{.}t)\\ \\mathtt d\\cdot\\pi&=t&\\textsf{for any variable }x,\\textsf{ term }t,\\textsf{ and path }\\pi \\\\\n",
    "    \\operatorname{subref}\\ t\\ \\pi&\\textsf{ is undefined }&\\textsf{for all other cases}\n",
    "\\end{array}$$\n",
    "\n",
    "The program realisation of this function is `subref(t: Term, p: Path) -> Term | None` specified here.<br/>\n",
    "It returns the corresponding subterm or None if this subterm is undefined."
   ],
   "metadata": {
    "collapsed": false
   }
  },
  {
   "cell_type": "code",
   "execution_count": null,
   "outputs": [],
   "source": [
    "def subref(t, p):\n",
    "    if isinstance(t, Term) and is_path(p):\n",
    "        if p == \"\":\n",
    "            return t\n",
    "        if p[0] == 'l' and t.kind == \"application\":\n",
    "            return subref(t._data[0], p[1:])\n",
    "        if p[0] == 'r' and t.kind == \"application\":\n",
    "            return subref(t._data[1], p[1:])\n",
    "        if p[0] == 'd' and t.kind == \"abstraction\":\n",
    "            return subref(t._data[1], p[1:])\n",
    "        # all other cases\n",
    "        return None\n",
    "    raise LambdaError(\"'subref' waits for an instance of Term and a path\"\n",
    "                      f\", but it received '{t}' and '{p}'\")"
   ],
   "metadata": {
    "collapsed": false
   }
  },
  {
   "cell_type": "markdown",
   "source": [
    "The set of paths for a term $t$ is defined as follows\n",
    "$$\\operatorname{\\Pi}(t)=\\{\\pi\\in\\Pi\\mid\\operatorname{subref}\\ t\\ \\pi\\textsf{ is defined}\\}.$$"
   ],
   "metadata": {
    "collapsed": false
   }
  },
  {
   "cell_type": "code",
   "execution_count": null,
   "outputs": [],
   "source": [
    "def paths(t):\n",
    "    \"\"\"collects all paths that refer to some correct subterm of 't'\n",
    "    Result is a dictionary whose keys are paths determining\n",
    "        the corresponding subterm\n",
    "    \"\"\"\n",
    "    if isinstance(t, Term):\n",
    "        result = {\"\": t}\n",
    "        if t.kind == \"atom\":\n",
    "            return result\n",
    "        if t.kind == \"application\":\n",
    "            return {**result,\n",
    "                    **{(\"l\" + key): val for (key, val) in\n",
    "                       paths(subref(t, \"l\")).items()},\n",
    "                    **{(\"r\" + key): val for (key, val) in\n",
    "                       paths(subref(t, \"r\")).items()}}\n",
    "        # t.kind == \"abstraction\"\n",
    "        return {**result,\n",
    "                **{(\"d\" + key): val for (key, val) in\n",
    "                   paths(subref(t, \"d\")).items()}}\n",
    "    raise LambdaError(\"'paths' waits for an instance of Term\"\n",
    "                      f\", but it received '{t}'\")"
   ],
   "metadata": {
    "collapsed": false
   }
  },
  {
   "cell_type": "markdown",
   "source": [
    "For example, the next cell computes the corresponding dictionary for combinator `tS`."
   ],
   "metadata": {
    "collapsed": false
   }
  },
  {
   "cell_type": "code",
   "execution_count": null,
   "outputs": [],
   "source": [
    "pths = tS.call_as_method(paths)\n",
    "for key in pths.keys():\n",
    "    print(f\"'{key}': {pths[key]}\")"
   ],
   "metadata": {
    "collapsed": false
   }
  },
  {
   "cell_type": "markdown",
   "source": [
    "This example illustrates the following fact.\n",
    "\n",
    "**Proposition.**\n",
    "For any term $t$, $\\Pi(t)$ is a prefix closed finite subset of $\\Pi(t)$."
   ],
   "metadata": {
    "collapsed": false
   }
  },
  {
   "cell_type": "markdown",
   "source": [
    "In some sense, $\\Pi(t)$ is the \"skeleton\" of $t$.\n",
    "Terms with the same skeleton are similar.<br/>\n",
    "This leads us to the function `similar`."
   ],
   "metadata": {
    "collapsed": false
   }
  },
  {
   "cell_type": "code",
   "execution_count": null,
   "outputs": [],
   "source": [
    "def similar(t1, t2):\n",
    "    if isinstance(t1, Term) and isinstance(t2, Term):\n",
    "        return paths(t1).keys() == paths(t2).keys()\n",
    "    raise LambdaError(\"'similar' waits for two instances of Term\"\n",
    "                      f\", but it received '{t1}' and '{t2}'\")"
   ],
   "metadata": {
    "collapsed": false
   }
  },
  {
   "cell_type": "markdown",
   "source": [
    "Let us consider the next examples."
   ],
   "metadata": {
    "collapsed": false
   }
  },
  {
   "cell_type": "code",
   "execution_count": null,
   "outputs": [],
   "source": [
    "t1 = Application(tx, tI)\n",
    "another_tI = Abstraction(y, ty)\n",
    "t2 = Application(ty, another_tI)\n",
    "print(f\"{tI} and {another_tI}\"\n",
    "      f\" are {'' if similar(tI, another_tI) else 'not '}similar\")\n",
    "print(f\"{t1} and {t2} are {'' if similar(tI, another_tI) else 'not '}similar\")"
   ],
   "metadata": {
    "collapsed": false
   }
  },
  {
   "cell_type": "code",
   "execution_count": null,
   "outputs": [],
   "source": [
    "tN = Abstraction(y, tx)\n",
    "print(f\"{tI} and {tN}\"\n",
    "      f\" are {'' if similar(tI, another_tI) else 'not '}similar\")"
   ],
   "metadata": {
    "collapsed": false
   }
  },
  {
   "cell_type": "markdown",
   "source": [
    "Maximal paths in $\\Pi(t)$ lead to variables.\n",
    "There are two kinds of these paths:\n",
    "* such ones that do not have a prefix, which refers to the abstraction-subterm with the variable equal to the variable, to which this path refers;\n",
    "* and such ones that have a prefix, which refers to the abstraction-subterm with the variable equal to the variable, to which this path refers.\n",
    "\n",
    "Paths of the first kind refer to free variables, and ones of the second kind refer to bound variables."
   ],
   "metadata": {
    "collapsed": false
   }
  },
  {
   "cell_type": "code",
   "execution_count": null,
   "outputs": [],
   "source": [
    "def vars(t):\n",
    "    \"\"\"builds a dictionary, in which keys are refs to term variables,\n",
    "    values are pairs constructed from the corresponding variable and\n",
    "    the ref to the abstraction-superterm that bound the variable if\n",
    "    it is bound or None elsewhen.\n",
    "    \"\"\"\n",
    "    varoccs = {key: st._data\n",
    "               for (key, st) in paths(t).items() if st.kind == \"atom\"}\n",
    "    result = {}\n",
    "    for key in varoccs:\n",
    "        free = True\n",
    "        for ie in range(1, len(key) + 1):\n",
    "            subkey = key[: - ie]\n",
    "            term = subref(t, subkey)\n",
    "            if (term.kind == \"abstraction\" and\n",
    "                    term._data[0] == varoccs[key]):\n",
    "                result[key] = (varoccs[key], subkey)\n",
    "                free = False\n",
    "                break\n",
    "        if free:\n",
    "            result[key] = (varoccs[key], None)\n",
    "    return result"
   ],
   "metadata": {
    "collapsed": false
   }
  },
  {
   "cell_type": "code",
   "execution_count": null,
   "outputs": [],
   "source": [
    "print(tS)\n",
    "for key in vars(tS):\n",
    "    print(f\"'{key}': {vars(tS)[key]}\")"
   ],
   "metadata": {
    "collapsed": false
   }
  },
  {
   "cell_type": "code",
   "execution_count": null,
   "outputs": [],
   "source": [
    "lst = [0, 1, 2, 3, 4]\n",
    "for i in range(1, len(lst) + 1):\n",
    "    print(lst[:- i])"
   ],
   "metadata": {
    "collapsed": false
   }
  },
  {
   "cell_type": "code",
   "execution_count": null,
   "outputs": [],
   "source": [],
   "metadata": {
    "collapsed": false
   }
  },
  {
   "cell_type": "code",
   "execution_count": null,
   "outputs": [],
   "source": [],
   "metadata": {
    "collapsed": false
   }
  },
  {
   "cell_type": "code",
   "execution_count": null,
   "outputs": [],
   "source": [
    "len(\"stuf;th;ju;\".split(';'))"
   ],
   "metadata": {
    "collapsed": false
   }
  },
  {
   "cell_type": "markdown",
   "source": [
    "(λ0. (λ1. (λ2. ((0 2) (1 2)))))\n",
    "'dddll': (0, '')\n",
    "'dddlr': (2, 'dd')\n",
    "'dddrl': (1, 'd')\n",
    "'dddrr': (2, 'dd')"
   ],
   "metadata": {
    "collapsed": false
   }
  }
 ],
 "metadata": {
  "kernelspec": {
   "display_name": "Python 3",
   "language": "python",
   "name": "python3"
  },
  "language_info": {
   "codemirror_mode": {
    "name": "ipython",
    "version": 2
   },
   "file_extension": ".py",
   "mimetype": "text/x-python",
   "name": "python",
   "nbconvert_exporter": "python",
   "pygments_lexer": "ipython2",
   "version": "2.7.6"
  }
 },
 "nbformat": 4,
 "nbformat_minor": 0
}
