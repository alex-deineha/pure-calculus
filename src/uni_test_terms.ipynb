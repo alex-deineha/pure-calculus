{
 "cells": [
  {
   "cell_type": "code",
   "execution_count": null,
   "metadata": {
    "collapsed": true
   },
   "outputs": [],
   "source": [
    "import sys\n",
    "import time\n",
    "\n",
    "sys.path.append(\"../\")\n",
    "from calculus.pseudonym import *\n",
    "from calculus.strategy import *"
   ]
  },
  {
   "cell_type": "markdown",
   "source": [
    "# TEST PROCEDURE"
   ],
   "metadata": {
    "collapsed": false
   }
  },
  {
   "cell_type": "code",
   "execution_count": null,
   "outputs": [],
   "source": [
    "rs = LeftmostOutermostStrategy()\n",
    "\n",
    "\n",
    "def test_procedure(term_gen_func, reduction_strategy=rs):\n",
    "    term = term_gen_func()\n",
    "    n_term, n_steps = term.normalize(reduction_strategy)\n",
    "\n",
    "    print(f\"orig term: {term}\\n\")\n",
    "    print(f\"reduction steps: {n_steps}\")\n",
    "    print(f\"norm term:       {n_term}\")"
   ],
   "metadata": {
    "collapsed": false
   }
  },
  {
   "cell_type": "markdown",
   "source": [
    "# USEFUL TERMS"
   ],
   "metadata": {
    "collapsed": false
   }
  },
  {
   "cell_type": "code",
   "execution_count": null,
   "outputs": [],
   "source": [
    "def ite_term():\n",
    "    x, y, c = Var(), Var(), Var()\n",
    "    x_, y_, c_ = Atom(x), Atom(y), Atom(c)\n",
    "    return Lambda(c, Lambda(x, Lambda(y, multi_app_term(c_, x_, y_))))\n",
    "\n",
    "\n",
    "def true_term():\n",
    "    x, y = Var(), Var()\n",
    "    x_ = Atom(x)\n",
    "    return Lambda(x, Lambda(y, x_))\n",
    "\n",
    "\n",
    "def num_zero_term():\n",
    "    s, z = Var(), Var()\n",
    "    z_ = Atom(z)\n",
    "    return Lambda(s, Lambda(z, z_))\n",
    "\n",
    "\n",
    "def num_term(n: int):\n",
    "    if n <= 0:\n",
    "        return num_zero_term()\n",
    "    s, z = Var(), Var()\n",
    "    s_, z_ = Atom(s), Atom(z)\n",
    "    core_term = App(s_, z_)\n",
    "    for _ in range(n - 1):\n",
    "        core_term = App(s_, core_term)\n",
    "    return Lambda(s, Lambda(z, core_term))\n",
    "\n",
    "\n",
    "def multi_app_term(term_0: Term, term_1: Term, *terms: Term):\n",
    "    res_app_term = App(term_0, term_1)\n",
    "    for term in terms:\n",
    "        res_app_term = App(res_app_term, term)\n",
    "    return res_app_term\n",
    "\n",
    "\n",
    "def false_term():\n",
    "    x, y = Var(), Var()\n",
    "    y_ = Atom(y)\n",
    "    return Lambda(x, Lambda(y, y_))\n",
    "\n",
    "\n",
    "def pair_term():\n",
    "    x, y, p = Var(), Var(), Var()\n",
    "    x_, y_, p_ = Atom(x), Atom(y), Atom(p)\n",
    "    return Lambda(x, Lambda(y, Lambda(p, multi_app_term(p_, x_, y_))))\n",
    "\n",
    "\n",
    "def first_term():\n",
    "    p = Var()\n",
    "    p_ = Atom(p)\n",
    "    return Lambda(p, App(p_, true_term()))\n",
    "\n",
    "\n",
    "def second_term():\n",
    "    p = Var()\n",
    "    p_ = Atom(p)\n",
    "    return Lambda(p, App(p_, false_term()))\n",
    "\n",
    "\n",
    "def succ_term():\n",
    "    x, y, n = Var(), Var(), Var()\n",
    "    x_, y_, n_ = Atom(x), Atom(y), Atom(n)\n",
    "    return Lambda(n, Lambda(x, Lambda(y, App(x_, multi_app_term(n_, x_, y_)))))\n",
    "\n",
    "\n",
    "def sinc_term():\n",
    "    p = Var()\n",
    "    p_ = Atom(p)\n",
    "    return Lambda(\n",
    "        p,\n",
    "        multi_app_term(\n",
    "            pair_term(),\n",
    "            App(second_term(), p_),\n",
    "            App(succ_term(), App(second_term(), p_)),\n",
    "        ),\n",
    "    )\n",
    "\n",
    "\n",
    "def pred_term():\n",
    "    n = Var()\n",
    "    n_ = Atom(n)\n",
    "    return Lambda(\n",
    "        n,\n",
    "        App(\n",
    "            first_term(),\n",
    "            multi_app_term(\n",
    "                n_, sinc_term(),\n",
    "                multi_app_term(pair_term(), num_term(0), num_term(0))\n",
    "            ),\n",
    "        ),\n",
    "    )\n",
    "\n",
    "\n",
    "def plus_term():\n",
    "    n, m = Var(), Var()\n",
    "    n_, m_ = Atom(n), Atom(m)\n",
    "    return Lambda(m, Lambda(n, multi_app_term(n_, succ_term(), m_)))\n",
    "\n",
    "\n",
    "def subtract_term():\n",
    "    n, m = Var(), Var()\n",
    "    n_, m_ = Atom(n), Atom(m)\n",
    "    return Lambda(n, Lambda(m, multi_app_term(m_, pred_term(), n_)))\n",
    "\n",
    "\n",
    "def iszero_term():\n",
    "    x, n = Var(), Var()\n",
    "    n_ = Atom(n)\n",
    "    return Lambda(n, App(App(n_, Lambda(x, false_term())), true_term()))\n",
    "\n",
    "\n",
    "def leq_term():\n",
    "    n, m = Var(), Var()\n",
    "    n_, m_ = Atom(n), Atom(m)\n",
    "    return Lambda(\n",
    "        n, Lambda(m, App(iszero_term(), multi_app_term(subtract_term(), n_, m_)))\n",
    "    )\n",
    "\n",
    "\n",
    "def and_term():\n",
    "    a, b = Var(), Var()\n",
    "    a_, b_ = Atom(a), Atom(b)\n",
    "    return Lambda(a, Lambda(b, multi_app_term(ite_term(), a_, b_, a_)))\n",
    "\n",
    "\n",
    "def eq_term():\n",
    "    n, m = Var(), Var()\n",
    "    n_, m_ = Atom(n), Atom(m)\n",
    "    return Lambda(\n",
    "        n,\n",
    "        Lambda(\n",
    "            m,\n",
    "            multi_app_term(\n",
    "                and_term(),\n",
    "                multi_app_term(leq_term(), n_, m_),\n",
    "                multi_app_term(leq_term(), m_, n_),\n",
    "            ),\n",
    "        ),\n",
    "    )"
   ],
   "metadata": {
    "collapsed": false
   }
  },
  {
   "cell_type": "markdown",
   "source": [
    "# 1.\n",
    "(λx. (λy.y)) ((λx. (xx)) (λx. (xx)))\n",
    "This term reduce in one step by LO, RO strategy"
   ],
   "metadata": {
    "collapsed": false
   }
  },
  {
   "cell_type": "code",
   "execution_count": null,
   "outputs": [],
   "source": [
    "def term_test_1():\n",
    "    x, y = Var(), Var()\n",
    "    x_, y_ = Atom(x), Atom(y)\n",
    "\n",
    "    return App(\n",
    "             Lambda(x, Lambda(y, y_)),\n",
    "             App(\n",
    "                 Lambda(x, App(x_, x_)),\n",
    "                 Lambda(x, App(x_, x_))\n",
    "             )\n",
    "         )\n",
    "\n",
    "\n",
    "test_procedure(term_test_1())"
   ],
   "metadata": {
    "collapsed": false
   }
  },
  {
   "cell_type": "markdown",
   "source": [
    "# 2.\n",
    "(ITE TRUE 3 1)"
   ],
   "metadata": {
    "collapsed": false
   }
  },
  {
   "cell_type": "code",
   "execution_count": null,
   "outputs": [],
   "source": [
    "def term_test_2():\n",
    "    return multi_app_term(ite_term(), true_term(), num_term(3), num_term(1))\n",
    "\n",
    "\n",
    "test_procedure(term_test_2())"
   ],
   "metadata": {
    "collapsed": false
   }
  },
  {
   "cell_type": "markdown",
   "source": [
    "# 3.\n",
    "(ITE FALSE 0 4)"
   ],
   "metadata": {
    "collapsed": false
   }
  },
  {
   "cell_type": "code",
   "execution_count": null,
   "outputs": [],
   "source": [
    "def term_test_3():\n",
    "    return multi_app_term(ite_term(), false_term(), num_term(0), num_term(4))\n",
    "\n",
    "\n",
    "test_procedure(term_test_3())"
   ],
   "metadata": {
    "collapsed": false
   }
  },
  {
   "cell_type": "markdown",
   "source": [
    "# 4.\n",
    "(PRED 0)"
   ],
   "metadata": {
    "collapsed": false
   }
  },
  {
   "cell_type": "code",
   "execution_count": null,
   "outputs": [],
   "source": [
    "def term_test_4():\n",
    "    return multi_app_term(pred_term(), num_term(0))\n",
    "\n",
    "\n",
    "test_procedure(term_test_4())"
   ],
   "metadata": {
    "collapsed": false
   }
  },
  {
   "cell_type": "markdown",
   "source": [
    "# 5.\n",
    "(PRED 5)"
   ],
   "metadata": {
    "collapsed": false
   }
  },
  {
   "cell_type": "code",
   "execution_count": null,
   "outputs": [],
   "source": [
    "def term_test_5():\n",
    "    return multi_app_term(pred_term(), num_term(5))\n",
    "\n",
    "\n",
    "test_procedure(term_test_5())"
   ],
   "metadata": {
    "collapsed": false
   }
  },
  {
   "cell_type": "markdown",
   "source": [
    "# 6.\n",
    "(PLUS 0 0)"
   ],
   "metadata": {
    "collapsed": false
   }
  },
  {
   "cell_type": "code",
   "execution_count": null,
   "outputs": [],
   "source": [
    "def term_test_6():\n",
    "    return multi_app_term(plus_term(), num_term(0), num_term(0))\n",
    "\n",
    "\n",
    "test_procedure(term_test_6())"
   ],
   "metadata": {
    "collapsed": false
   }
  },
  {
   "cell_type": "markdown",
   "source": [
    "# 7.\n",
    "(PLUS 2 3)"
   ],
   "metadata": {
    "collapsed": false
   }
  },
  {
   "cell_type": "code",
   "execution_count": null,
   "outputs": [],
   "source": [
    "def term_test_7():\n",
    "    return multi_app_term(plus_term(), num_term(2), num_term(3))\n",
    "\n",
    "\n",
    "test_procedure(term_test_7())"
   ],
   "metadata": {
    "collapsed": false
   }
  },
  {
   "cell_type": "markdown",
   "source": [
    "# 8.\n",
    "(SUBTRACT 4 1)"
   ],
   "metadata": {
    "collapsed": false
   }
  },
  {
   "cell_type": "code",
   "execution_count": null,
   "outputs": [],
   "source": [
    "def term_test_8():\n",
    "    return multi_app_term(subtract_term(), num_term(4), num_term(1))\n",
    "\n",
    "\n",
    "test_procedure(term_test_8())"
   ],
   "metadata": {
    "collapsed": false
   }
  },
  {
   "cell_type": "markdown",
   "source": [
    "# 9.\n",
    "(SUBTRACT 3 5)"
   ],
   "metadata": {
    "collapsed": false
   }
  },
  {
   "cell_type": "code",
   "execution_count": null,
   "outputs": [],
   "source": [
    "def term_test_9():\n",
    "    return multi_app_term(subtract_term(), num_term(3), num_term(5))\n",
    "\n",
    "\n",
    "test_procedure(term_test_9())"
   ],
   "metadata": {
    "collapsed": false
   }
  },
  {
   "cell_type": "markdown",
   "source": [
    "# 10.\n",
    "(LEQ 3 2)"
   ],
   "metadata": {
    "collapsed": false
   }
  },
  {
   "cell_type": "code",
   "execution_count": null,
   "outputs": [],
   "source": [
    "def term_test_10():\n",
    "    return multi_app_term(leq_term(), num_term(3), num_term(2))\n",
    "\n",
    "\n",
    "test_procedure(term_test_10())"
   ],
   "metadata": {
    "collapsed": false
   }
  },
  {
   "cell_type": "markdown",
   "source": [
    "# 11.\n",
    "(LEQ 2 5)"
   ],
   "metadata": {
    "collapsed": false
   }
  },
  {
   "cell_type": "code",
   "execution_count": null,
   "outputs": [],
   "source": [
    "def term_test_11():\n",
    "    return multi_app_term(leq_term(), num_term(2), num_term(5))\n",
    "\n",
    "\n",
    "test_procedure(term_test_11())"
   ],
   "metadata": {
    "collapsed": false
   }
  },
  {
   "cell_type": "markdown",
   "source": [
    "# 12.\n",
    "(EQ 2 2)"
   ],
   "metadata": {
    "collapsed": false
   }
  },
  {
   "cell_type": "code",
   "execution_count": null,
   "outputs": [],
   "source": [
    "def term_test_12():\n",
    "    return multi_app_term(eq_term(), num_term(2), num_term(2))\n",
    "\n",
    "\n",
    "test_procedure(term_test_12())"
   ],
   "metadata": {
    "collapsed": false
   }
  },
  {
   "cell_type": "markdown",
   "source": [
    "# 13.\n",
    "(EQ 1 4)"
   ],
   "metadata": {
    "collapsed": false
   }
  },
  {
   "cell_type": "code",
   "execution_count": null,
   "outputs": [],
   "source": [
    "def term_test_13():\n",
    "    return multi_app_term(eq_term(), num_term(1), num_term(4))\n",
    "\n",
    "\n",
    "test_procedure(term_test_13())"
   ],
   "metadata": {
    "collapsed": false
   }
  }
 ],
 "metadata": {
  "kernelspec": {
   "display_name": "Python 3",
   "language": "python",
   "name": "python3"
  },
  "language_info": {
   "codemirror_mode": {
    "name": "ipython",
    "version": 2
   },
   "file_extension": ".py",
   "mimetype": "text/x-python",
   "name": "python",
   "nbconvert_exporter": "python",
   "pygments_lexer": "ipython2",
   "version": "2.7.6"
  }
 },
 "nbformat": 4,
 "nbformat_minor": 0
}
